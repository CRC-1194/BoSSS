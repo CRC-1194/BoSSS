{
 "cells": [
  {
   "cell_type": "markdown",
   "metadata": {},
   "source": [
    "# Heat Equation Solver using most recent API\n",
    "\n",
    "## What's new?\n",
    "\n",
    "\n",
    "- using the `XDGTimestepper` to perform a high-order, implicit time integration on the Heat equation\n",
    "- a comparison of the error computed against the exact solution vs. the error computed against the numerical solution with the finest timestep\n",
    "\n",
    "## Prerequisites\n",
    "\n",
    "- implementation of the Symmetrical Interior Penalty (SIP) form for the Laplace operator,  chapter **SIP**\n",
    "\n",
    "\n",
    "## Problem statement\n",
    "\n",
    "We are investigating the instationary Heat equation\n",
    "$$\n",
    "  \\partial_t u - \\Delta u = 0 \\text{ in } (x,y) \\in (-1,1)^2, \\ \\ \\ u = 0 \\text{ on }  \\partial (-1,1)^2\n",
    "$$\n",
    "with the initial value\n",
    "$$\n",
    "    u_0(x,y) = \\cos(x \\pi / 2) \\cos(y \\pi / 2),\n",
    "$$\n",
    "and the exact solution\n",
    "$$\n",
    "    u_{\\text{ex}}(t,x,y) = ( -\\pi^2 / 2 ) u_0(x,y).\n",
    "$$"
   ]
  },
  {
   "cell_type": "markdown",
   "metadata": {},
   "source": [
    "## Solution within the BoSSS framework\n",
    "\n",
    "First, we initialize the new worksheet;\n",
    "Note: \n",
    "1. This tutorial can be found in the source code repository as as `HeatEquationSolver.ipynb`. \n",
    "   One can directly load this into Jupyter to interactively work with the following code examples.\n",
    "2. **In the following line, the reference to `BoSSSpad.dll` is required**. \n",
    "   You must either set `#r \"BoSSSpad.dll\"` to something which is appropirate for your computer\n",
    "   (e.g. `C:\\Program Files (x86)\\FDY\\BoSSS\\bin\\Release\\net6.0\\BoSSSpad.dll` if you installed the binary distribution),\n",
    "   or, if you are working with the source code, you must compile `BoSSSpad` and put it side-by-side to this worksheet file\n",
    "   (from the original location in the repository, you can use the scripts `getbossspad.sh`, resp. `getbossspad.bat`)."
   ]
  },
  {
   "cell_type": "code",
   "execution_count": 1,
   "metadata": {
    "dotnet_interactive": {
     "language": "csharp"
    },
    "vscode": {
     "languageId": "polyglot-notebook"
    }
   },
   "outputs": [
    {
     "data": {
      "text/html": [
       "\r\n",
       "<div>\r\n",
       "    <div id='dotnet-interactive-this-cell-32452.Microsoft.DotNet.Interactive.Http.HttpPort' style='display: none'>\r\n",
       "        The below script needs to be able to find the current output cell; this is an easy method to get it.\r\n",
       "    </div>\r\n",
       "    <script type='text/javascript'>\r\n",
       "async function probeAddresses(probingAddresses) {\r\n",
       "    function timeout(ms, promise) {\r\n",
       "        return new Promise(function (resolve, reject) {\r\n",
       "            setTimeout(function () {\r\n",
       "                reject(new Error('timeout'))\r\n",
       "            }, ms)\r\n",
       "            promise.then(resolve, reject)\r\n",
       "        })\r\n",
       "    }\r\n",
       "\r\n",
       "    if (Array.isArray(probingAddresses)) {\r\n",
       "        for (let i = 0; i < probingAddresses.length; i++) {\r\n",
       "\r\n",
       "            let rootUrl = probingAddresses[i];\r\n",
       "\r\n",
       "            if (!rootUrl.endsWith('/')) {\r\n",
       "                rootUrl = `${rootUrl}/`;\r\n",
       "            }\r\n",
       "\r\n",
       "            try {\r\n",
       "                let response = await timeout(1000, fetch(`${rootUrl}discovery`, {\r\n",
       "                    method: 'POST',\r\n",
       "                    cache: 'no-cache',\r\n",
       "                    mode: 'cors',\r\n",
       "                    timeout: 1000,\r\n",
       "                    headers: {\r\n",
       "                        'Content-Type': 'text/plain'\r\n",
       "                    },\r\n",
       "                    body: probingAddresses[i]\r\n",
       "                }));\r\n",
       "\r\n",
       "                if (response.status == 200) {\r\n",
       "                    return rootUrl;\r\n",
       "                }\r\n",
       "            }\r\n",
       "            catch (e) { }\r\n",
       "        }\r\n",
       "    }\r\n",
       "}\r\n",
       "\r\n",
       "function loadDotnetInteractiveApi() {\r\n",
       "    probeAddresses([\"http://192.168.56.1:2048/\", \"http://192.168.1.105:2048/\", \"http://172.27.96.1:2048/\", \"http://127.0.0.1:2048/\"])\r\n",
       "        .then((root) => {\r\n",
       "        // use probing to find host url and api resources\r\n",
       "        // load interactive helpers and language services\r\n",
       "        let dotnetInteractiveRequire = require.config({\r\n",
       "        context: '32452.Microsoft.DotNet.Interactive.Http.HttpPort',\r\n",
       "                paths:\r\n",
       "            {\r\n",
       "                'dotnet-interactive': `${root}resources`\r\n",
       "                }\r\n",
       "        }) || require;\r\n",
       "\r\n",
       "            window.dotnetInteractiveRequire = dotnetInteractiveRequire;\r\n",
       "\r\n",
       "            window.configureRequireFromExtension = function(extensionName, extensionCacheBuster) {\r\n",
       "                let paths = {};\r\n",
       "                paths[extensionName] = `${root}extensions/${extensionName}/resources/`;\r\n",
       "                \r\n",
       "                let internalRequire = require.config({\r\n",
       "                    context: extensionCacheBuster,\r\n",
       "                    paths: paths,\r\n",
       "                    urlArgs: `cacheBuster=${extensionCacheBuster}`\r\n",
       "                    }) || require;\r\n",
       "\r\n",
       "                return internalRequire\r\n",
       "            };\r\n",
       "        \r\n",
       "            dotnetInteractiveRequire([\r\n",
       "                    'dotnet-interactive/dotnet-interactive'\r\n",
       "                ],\r\n",
       "                function (dotnet) {\r\n",
       "                    dotnet.init(window);\r\n",
       "                },\r\n",
       "                function (error) {\r\n",
       "                    console.log(error);\r\n",
       "                }\r\n",
       "            );\r\n",
       "        })\r\n",
       "        .catch(error => {console.log(error);});\r\n",
       "    }\r\n",
       "\r\n",
       "// ensure `require` is available globally\r\n",
       "if ((typeof(require) !==  typeof(Function)) || (typeof(require.config) !== typeof(Function))) {\r\n",
       "    let require_script = document.createElement('script');\r\n",
       "    require_script.setAttribute('src', 'https://cdnjs.cloudflare.com/ajax/libs/require.js/2.3.6/require.min.js');\r\n",
       "    require_script.setAttribute('type', 'text/javascript');\r\n",
       "    \r\n",
       "    \r\n",
       "    require_script.onload = function() {\r\n",
       "        loadDotnetInteractiveApi();\r\n",
       "    };\r\n",
       "\r\n",
       "    document.getElementsByTagName('head')[0].appendChild(require_script);\r\n",
       "}\r\n",
       "else {\r\n",
       "    loadDotnetInteractiveApi();\r\n",
       "}\r\n",
       "\r\n",
       "    </script>\r\n",
       "</div>"
      ]
     },
     "metadata": {},
     "output_type": "display_data"
    }
   ],
   "source": [
    "#r \"BoSSSpad.dll\"\n",
    "using System;\n",
    "using System.Collections.Generic;\n",
    "using System.Linq;\n",
    "using ilPSP;\n",
    "using ilPSP.Utils;\n",
    "using BoSSS.Platform;\n",
    "using BoSSS.Platform.LinAlg;\n",
    "using BoSSS.Foundation;\n",
    "using BoSSS.Foundation.XDG;\n",
    "using BoSSS.Foundation.Grid;\n",
    "using BoSSS.Foundation.Grid.Classic;\n",
    "using BoSSS.Foundation.Grid.RefElements;\n",
    "using BoSSS.Foundation.IO;\n",
    "using BoSSS.Solution;\n",
    "using BoSSS.Solution.Control;\n",
    "using BoSSS.Solution.GridImport;\n",
    "using BoSSS.Solution.Statistic;\n",
    "using BoSSS.Solution.Utils;\n",
    "using BoSSS.Solution.AdvancedSolvers;\n",
    "using BoSSS.Solution.Gnuplot;\n",
    "using BoSSS.Application.BoSSSpad;\n",
    "using BoSSS.Application.XNSE_Solver;\n",
    "using BoSSS.Application.XNSFE_Solver;\n",
    "using static BoSSS.Application.BoSSSpad.BoSSSshell;\n",
    "Init();\n"
   ]
  },
  {
   "cell_type": "code",
   "execution_count": 2,
   "metadata": {
    "dotnet_interactive": {
     "language": "csharp"
    },
    "polyglot_notebook": {
     "kernelName": "csharp"
    },
    "vscode": {
     "languageId": "polyglot-notebook"
    }
   },
   "outputs": [],
   "source": [
    "using BoSSS.Solution.XdgTimestepping;"
   ]
  },
  {
   "cell_type": "markdown",
   "metadata": {},
   "source": [
    "## Creation of Grid and Differential Operator\n",
    "\n",
    "Here, 1 2D, $16 \\times 16$ mesh is used:"
   ]
  },
  {
   "cell_type": "code",
   "execution_count": 3,
   "metadata": {
    "dotnet_interactive": {
     "language": "csharp"
    },
    "polyglot_notebook": {
     "kernelName": "csharp"
    },
    "vscode": {
     "languageId": "polyglot-notebook"
    }
   },
   "outputs": [],
   "source": [
    "var grid = Grid2D.Cartesian2DGrid(GenericBlas.Linspace(-1,1,17), GenericBlas.Linspace(-1,1,17));"
   ]
  },
  {
   "cell_type": "markdown",
   "metadata": {},
   "source": [
    "Regarding the spatial part of the operator, we re-use the SIP-implementation \n",
    "which is already available in the `BoSSS.Solution.NSECommon` library.\n",
    "For this implementation, whe have to specify the diffusion coefficient (here to -1.0)\n",
    "as well as the Location of the Dirichlet boundary."
   ]
  },
  {
   "cell_type": "code",
   "execution_count": 1,
   "metadata": {
    "dotnet_interactive": {
     "language": "csharp"
    },
    "polyglot_notebook": {
     "kernelName": "csharp"
    },
    "vscode": {
     "languageId": "polyglot-notebook"
    }
   },
   "outputs": [
    {
     "ename": "Error",
     "evalue": "(1,17): error CS0246: The type or namespace name 'BoSSS' could not be found (are you missing a using directive or an assembly reference?)\r\n(12,45): error CS0246: The type or namespace name 'CommonParamsBnd' could not be found (are you missing a using directive or an assembly reference?)\r\n(3,24): error CS1729: 'BoSSS.Solution.NSECommon.SIPLaplace' does not contain a constructor that takes 2 arguments",
     "output_type": "error",
     "traceback": [
      "(1,17): error CS0246: The type or namespace name 'BoSSS' could not be found (are you missing a using directive or an assembly reference?)\r\n",
      "(12,45): error CS0246: The type or namespace name 'CommonParamsBnd' could not be found (are you missing a using directive or an assembly reference?)\r\n",
      "(3,24): error CS1729: 'BoSSS.Solution.NSECommon.SIPLaplace' does not contain a constructor that takes 2 arguments"
     ]
    }
   ],
   "source": [
    "class Laplace : BoSSS.Solution.NSECommon.SIPLaplace {\n",
    "\n",
    "    public Laplace() : base(1.4, \"u\") { } // override the constuctor; \n",
    "    //                                       The factor 1.4 is a constant \"safty factor\" multiper for the penalty parameter.\n",
    "    //                                       The base implementation takes care about all other penalty factor dependencies, \n",
    "    //                                       i.e. dependence of the penatly factor on local cell size, DG polynomial degree and cell shape.\n",
    "    //                                       The second argument, \"u\", is the name of the variable for the `ArgumentOrdering`.\n",
    "\n",
    "\n",
    "    // Specifies whetherss a specific point (`inp.X`) is either a Dirichlet or a Neumann boundary;\n",
    "    // Since in our case ther, the entire boundary should be Diriclet, we always return true.\n",
    "    protected override bool IsDirichlet(ref CommonParamsBnd inp) {\n",
    "        return true;\n",
    "    }\n",
    "    \n",
    "    // Diffusion coefficient\n",
    "    override public double Nu(double[] x, double[] p, int jCell) {\n",
    "        return -1.0;\n",
    "    }\n",
    "\n",
    "}"
   ]
  },
  {
   "cell_type": "code",
   "execution_count": null,
   "metadata": {
    "dotnet_interactive": {
     "language": "csharp"
    },
    "polyglot_notebook": {
     "kernelName": "csharp"
    },
    "vscode": {
     "languageId": "polyglot-notebook"
    }
   },
   "outputs": [],
   "source": []
  },
  {
   "cell_type": "code",
   "execution_count": 5,
   "metadata": {
    "dotnet_interactive": {
     "language": "csharp"
    },
    "polyglot_notebook": {
     "kernelName": "csharp"
    },
    "vscode": {
     "languageId": "polyglot-notebook"
    }
   },
   "outputs": [],
   "source": [
    "var Op = new DifferentialOperator(1,0,1,QuadOrderFunc.Linear(), \"u\", \"R1\");\n",
    "Op.EquationComponents[\"R1\"].Add(new Laplace());\n",
    "\n",
    "Op.TemporalOperator = new ConstantTemporalOperator(Op);\n",
    "Op.IsLinear = true;\n",
    "Op.Commit();"
   ]
  },
  {
   "cell_type": "code",
   "execution_count": 6,
   "metadata": {
    "dotnet_interactive": {
     "language": "csharp"
    },
    "polyglot_notebook": {
     "kernelName": "csharp"
    },
    "vscode": {
     "languageId": "polyglot-notebook"
    }
   },
   "outputs": [],
   "source": [
    "SinglePhaseField TimeIntegrate(SinglePhaseField u0, double EndTime, int NoOfTimeteps) {\n",
    "    var u1 = u0.CloneAs();\n",
    "    var Timestepper = new XdgTimestepping(Op, new DGField[] { u1 }, new DGField[] { new SinglePhaseField(u0.Basis)}, \n",
    "                            TimeSteppingScheme.SDIRK_54);\n",
    "\n",
    "\n",
    "    double dt = EndTime/NoOfTimeteps;\n",
    "\n",
    "    for(int i = 0; i < NoOfTimeteps; i++)\n",
    "        Timestepper.Solve(dt*i, dt);\n",
    "    \n",
    "    return u1;\n",
    "}"
   ]
  },
  {
   "cell_type": "code",
   "execution_count": 7,
   "metadata": {
    "dotnet_interactive": {
     "language": "csharp"
    },
    "polyglot_notebook": {
     "kernelName": "csharp"
    },
    "vscode": {
     "languageId": "polyglot-notebook"
    }
   },
   "outputs": [],
   "source": [
    "var u0 = new SinglePhaseField(new Basis(grid, 4), \"u\");\n",
    "u0.ProjectField((double[] X) => Math.Cos(X[0]*Math.PI*0.5)*Math.Cos(X[1]*Math.PI*0.5));\n",
    "//u0 = TimeIntegrate(u0, 1, 10); // regularize, somehow"
   ]
  },
  {
   "cell_type": "code",
   "execution_count": 8,
   "metadata": {
    "dotnet_interactive": {
     "language": "csharp"
    },
    "polyglot_notebook": {
     "kernelName": "csharp"
    },
    "vscode": {
     "languageId": "polyglot-notebook"
    }
   },
   "outputs": [
    {
     "name": "stdout",
     "output_type": "stream",
     "text": [
      "Supersampling 4 requested, but limiting to 3 because higher values would very likely exceed this computers memory.\n",
      "Note: Higher supersampling values are supported by external plot application, or by using e.g. the Tecplot class directly.\n",
      "Writing output file C:\\Users\\flori\\Desktop\\Timestepping\\u0...\n",
      "done.\n"
     ]
    }
   ],
   "source": [
    "Tecplot(\"u0\", u0);"
   ]
  },
  {
   "cell_type": "code",
   "execution_count": null,
   "metadata": {
    "dotnet_interactive": {
     "language": "csharp"
    },
    "polyglot_notebook": {
     "kernelName": "csharp"
    },
    "vscode": {
     "languageId": "polyglot-notebook"
    }
   },
   "outputs": [],
   "source": [
    "//for(int i = 0; i < 10; i++) {\n",
    "//    Console.WriteLine(\"   --------------  timestep: \" + (i + 1));\n",
    "//    var u1 = TimeIntegrate(u0, 0.1, 1);\n",
    "//    Tecplot(\"u\" + (i+1), u1);\n",
    "//    u0 = u1;\n",
    "//}"
   ]
  },
  {
   "cell_type": "code",
   "execution_count": 10,
   "metadata": {
    "dotnet_interactive": {
     "language": "csharp"
    },
    "polyglot_notebook": {
     "kernelName": "csharp"
    },
    "vscode": {
     "languageId": "polyglot-notebook"
    }
   },
   "outputs": [
    {
     "name": "stdout",
     "output_type": "stream",
     "text": [
      "   --------------  computing no of timeteps: 1\n",
      "   --------------  computing no of timeteps: 2\n",
      "   --------------  computing no of timeteps: 5\n",
      "   --------------  computing no of timeteps: 10\n",
      "   --------------  computing no of timeteps: 20\n",
      "   --------------  computing no of timeteps: 50\n",
      "   --------------  computing no of timeteps: 100\n",
      "   --------------  computing no of timeteps: 200\n",
      "   --------------  computing no of timeteps: 500\n",
      "   --------------  computing no of timeteps: 1000\n"
     ]
    }
   ],
   "source": [
    "var NoOfTimestepS = new int[] { 1, 2, 5, 10, 20, 50, 100, 200, 500, 1000/*, 2000, 5000*/ };\n",
    "var solutions = new List<SinglePhaseField>();\n",
    "for(int i = 0; i < NoOfTimestepS.Length; i++) {\n",
    "    Console.WriteLine(\"   --------------  computing no of timeteps: \" + NoOfTimestepS[i]);\n",
    "    var u1 = TimeIntegrate(u0, 0.1, NoOfTimestepS[i]);\n",
    "    //Tecplot(\"u1.\" + i, u1);\n",
    "    solutions.Add(u1);\n",
    "}"
   ]
  },
  {
   "cell_type": "code",
   "execution_count": null,
   "metadata": {
    "dotnet_interactive": {
     "language": "csharp"
    },
    "polyglot_notebook": {
     "kernelName": "csharp"
    },
    "vscode": {
     "languageId": "polyglot-notebook"
    }
   },
   "outputs": [],
   "source": [
    "for(int i = 0; i < solutions.Count; i++)\n",
    "    Tecplot(\"u1.\" + i, solutions[i]);"
   ]
  },
  {
   "cell_type": "code",
   "execution_count": null,
   "metadata": {
    "dotnet_interactive": {
     "language": "csharp"
    },
    "polyglot_notebook": {
     "kernelName": "csharp"
    },
    "vscode": {
     "languageId": "polyglot-notebook"
    }
   },
   "outputs": [],
   "source": [
    "double uExEq(double[] X) {\n",
    "   double Lambda = -Math.PI.Pow2()*0.5;\n",
    "   double tend = 0.1;\n",
    "   double u0 = Math.Cos(X[0]*Math.PI*0.5)*Math.Cos(X[1]*Math.PI*0.5);\n",
    "   return Math.Exp(Lambda*tend)*u0;\n",
    "}"
   ]
  },
  {
   "cell_type": "code",
   "execution_count": 13,
   "metadata": {
    "dotnet_interactive": {
     "language": "csharp"
    },
    "polyglot_notebook": {
     "kernelName": "csharp"
    },
    "vscode": {
     "languageId": "polyglot-notebook"
    }
   },
   "outputs": [],
   "source": [
    "var uEx = solutions.Last();"
   ]
  },
  {
   "cell_type": "code",
   "execution_count": null,
   "metadata": {
    "dotnet_interactive": {
     "language": "csharp"
    },
    "polyglot_notebook": {
     "kernelName": "csharp"
    },
    "vscode": {
     "languageId": "polyglot-notebook"
    }
   },
   "outputs": [],
   "source": [
    "var Errs = solutions.Take(solutions.Count - 1).Select(u => u.L2Error(uEx)).ToArray();"
   ]
  },
  {
   "cell_type": "code",
   "execution_count": null,
   "metadata": {
    "dotnet_interactive": {
     "language": "csharp"
    },
    "polyglot_notebook": {
     "kernelName": "csharp"
    },
    "vscode": {
     "languageId": "polyglot-notebook"
    }
   },
   "outputs": [],
   "source": [
    "Errs"
   ]
  },
  {
   "cell_type": "code",
   "execution_count": null,
   "metadata": {
    "dotnet_interactive": {
     "language": "csharp"
    },
    "polyglot_notebook": {
     "kernelName": "csharp"
    },
    "vscode": {
     "languageId": "polyglot-notebook"
    }
   },
   "outputs": [],
   "source": [
    "double[] diffs = new double[Errs.Length];\n",
    "for(int i = 0; i < diffs.Length; i++) {\n",
    "    diffs[i] = solutions[i].L2Error(solutions[i + 1]);\n",
    "}"
   ]
  },
  {
   "cell_type": "code",
   "execution_count": null,
   "metadata": {
    "dotnet_interactive": {
     "language": "csharp"
    },
    "polyglot_notebook": {
     "kernelName": "csharp"
    },
    "vscode": {
     "languageId": "polyglot-notebook"
    }
   },
   "outputs": [],
   "source": [
    "diffs"
   ]
  },
  {
   "cell_type": "code",
   "execution_count": null,
   "metadata": {
    "dotnet_interactive": {
     "language": "csharp"
    },
    "polyglot_notebook": {
     "kernelName": "csharp"
    },
    "vscode": {
     "languageId": "polyglot-notebook"
    }
   },
   "outputs": [],
   "source": [
    "double[] ErrEx = new double[Errs.Length];\n",
    "for(int i = 0; i < diffs.Length; i++) {\n",
    "    ErrEx[i] = solutions[i].L2Error(uExEq);\n",
    "}"
   ]
  },
  {
   "cell_type": "code",
   "execution_count": null,
   "metadata": {
    "dotnet_interactive": {
     "language": "csharp"
    },
    "polyglot_notebook": {
     "kernelName": "csharp"
    },
    "vscode": {
     "languageId": "polyglot-notebook"
    }
   },
   "outputs": [],
   "source": [
    "ErrEx"
   ]
  },
  {
   "cell_type": "code",
   "execution_count": null,
   "metadata": {
    "dotnet_interactive": {
     "language": "csharp"
    },
    "polyglot_notebook": {
     "kernelName": "csharp"
    },
    "vscode": {
     "languageId": "polyglot-notebook"
    }
   },
   "outputs": [],
   "source": [
    "double ErrHi(SinglePhaseField u) {\n",
    "    SinglePhaseField uLo = new SinglePhaseField(new Basis(u.Basis.GridDat, u.Basis.Degree - 1));\n",
    "    uLo.AccLaidBack(1.0, u);\n",
    "    var uHi = u.CloneAs();\n",
    "    uHi.AccLaidBack(-1.0, uLo);\n",
    "    return uHi.L2Norm();\n",
    "}"
   ]
  },
  {
   "cell_type": "code",
   "execution_count": null,
   "metadata": {
    "dotnet_interactive": {
     "language": "csharp"
    },
    "polyglot_notebook": {
     "kernelName": "csharp"
    },
    "vscode": {
     "languageId": "polyglot-notebook"
    }
   },
   "outputs": [],
   "source": [
    "double[] HiDeg = new double[Errs.Length];\n",
    "for(int i = 0; i < HiDeg.Length; i++) {\n",
    "    HiDeg[i] = ErrHi(solutions[i]);\n",
    "}"
   ]
  },
  {
   "cell_type": "code",
   "execution_count": null,
   "metadata": {
    "dotnet_interactive": {
     "language": "csharp"
    },
    "polyglot_notebook": {
     "kernelName": "csharp"
    },
    "vscode": {
     "languageId": "polyglot-notebook"
    }
   },
   "outputs": [],
   "source": [
    "HiDeg"
   ]
  },
  {
   "cell_type": "code",
   "execution_count": null,
   "metadata": {
    "dotnet_interactive": {
     "language": "csharp"
    },
    "polyglot_notebook": {
     "kernelName": "csharp"
    },
    "vscode": {
     "languageId": "polyglot-notebook"
    }
   },
   "outputs": [],
   "source": [
    "var gp = new Gnuplot();\n",
    "double[] ts = NoOfTimestepS.Take(NoOfTimestepS.Length - 1).Select(x => (double)x).ToArray();\n",
    "gp.PlotLogXLogY(ts, Errs, title:\"Exp Error\", format:new PlotFormat(\"-xk\"));\n",
    "gp.PlotLogXLogY(ts, diffs, title:\"Diffs\", format:new PlotFormat(\"-ob\"));\n",
    "gp.PlotLogXLogY(ts, ErrEx, title:\"Exact Error\", format:new PlotFormat(\"-+r\"));\n",
    "gp.PlotLogXLogY(ts, HiDeg, title:\"High Degree Norm\", format:new PlotFormat(\":ok\"));\n",
    "gp.PlotNow()"
   ]
  },
  {
   "cell_type": "code",
   "execution_count": null,
   "metadata": {
    "dotnet_interactive": {
     "language": "csharp"
    },
    "polyglot_notebook": {
     "kernelName": "csharp"
    },
    "vscode": {
     "languageId": "polyglot-notebook"
    }
   },
   "outputs": [],
   "source": [
    "ts.LogLogRegressionSlope(Errs)"
   ]
  },
  {
   "cell_type": "code",
   "execution_count": null,
   "metadata": {
    "dotnet_interactive": {
     "language": "csharp"
    },
    "polyglot_notebook": {
     "kernelName": "csharp"
    },
    "vscode": {
     "languageId": "polyglot-notebook"
    }
   },
   "outputs": [],
   "source": []
  }
 ],
 "metadata": {
  "kernelspec": {
   "display_name": ".NET (C#)",
   "language": "C#",
   "name": ".net-csharp"
  },
  "language_info": {
   "file_extension": ".cs",
   "mimetype": "text/x-csharp",
   "name": "C#",
   "pygments_lexer": "csharp",
   "version": "11.0"
  }
 },
 "nbformat": 4,
 "nbformat_minor": 4
}
