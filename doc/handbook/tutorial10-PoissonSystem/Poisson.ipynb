{
 "cells": [
  {
   "cell_type": "markdown",
   "source": [
    "# What's new?\r\n",
    "\r\n",
    "- implementation of a saddle point problem into *BoSSS* (e.g. the Poisson equation as a system)\r\n",
    "- central-difference-form and strong form\r\n",
    "- comparison of both formulations\r\n",
    "- advanced: algebraic reduction of the poisson problem\r\n",
    "\r\n",
    "# Prerequisites\r\n",
    "\r\n",
    "- implementation of numerical fluxes -> chapter *NumFlux* \r\n",
    "- spatial operator -> chapter *SpatialOperator* \r\n",
    "\r\n",
    "\r\n",
    "# 1 Problem statement\r\n",
    "\r\n",
    "Within this exercise, we are going to investigate \r\n",
    "the discretization of a Poisson equation as a system.\r\n",
    "Obviously, it is possible to discretize the Poisson equation as a system of\r\n",
    "first-order-PDE's, introducing a vector field $\\vec{\\sigma}$:\r\n",
    "$$\r\n",
    "\\begin{align}\r\n",
    " \\vec{\\sigma}  + \\nabla u & = 0, & & \\text{ in } \\Omega\r\n",
    " \\\\\r\n",
    " \\operatorname{div}(\\vec{\\sigma}) &  = g_{\\Omega}, & & \\text{ in } \\Omega\r\n",
    " \\\\\r\n",
    "  u                                               & = g_D, & & \\text{ on } \\Gamma_D \\\\\r\n",
    "  - \\vec{\\sigma} \\cdot \\vec{n}_{\\partial \\Omega} & = g_N, & & \\text{ on } \\Gamma_N\r\n",
    "\\end{align}\r\n",
    "$$\r\n",
    "resp. in matrix-notation:\r\n",
    "$$\r\n",
    "\\begin{align*}\r\n",
    "  \\begin{bmatrix}\r\n",
    "    1 & \\nabla \\\\\r\n",
    "    \\operatorname{div} & 0 \\\\\r\n",
    "  \\end{bmatrix}\\cdot\r\n",
    "  \\begin{bmatrix}\r\n",
    "    \\vec{\\sigma}\\\\\r\n",
    "    u\r\n",
    "  \\end{bmatrix}=\r\n",
    "  \\begin{bmatrix}\r\n",
    "    0 \\\\\r\n",
    "    g_{\\Omega}\r\n",
    "  \\end{bmatrix}\r\n",
    "\\end{align*}\r\n",
    "$$\r\n",
    "This exercise, together with the previous one,\r\n",
    "will form the foundation for an incompressible Stokes- resp. Navier-Stokes solver. \r\n",
    "  \r\n",
    "# 2 Solution within the BoSSS framework"
   ],
   "metadata": {
    "dotnet_interactive": {
     "language": "csharp"
    }
   }
  },
  {
   "cell_type": "code",
   "execution_count": null,
   "source": [
    "#r \"BoSSSpad.dll\"\r\n",
    "using System;\r\n",
    "using System.Collections.Generic;\r\n",
    "using System.Linq;\r\n",
    "using ilPSP;\r\n",
    "using ilPSP.Utils;\r\n",
    "using BoSSS.Platform;\r\n",
    "using BoSSS.Foundation;\r\n",
    "using BoSSS.Foundation.Grid;\r\n",
    "using BoSSS.Foundation.Grid.Classic;\r\n",
    "using BoSSS.Foundation.IO;\r\n",
    "using BoSSS.Solution;\r\n",
    "using BoSSS.Solution.Control;\r\n",
    "using BoSSS.Solution.GridImport;\r\n",
    "using BoSSS.Solution.Statistic;\r\n",
    "using BoSSS.Solution.Utils;\r\n",
    "using BoSSS.Solution.Gnuplot;\r\n",
    "using BoSSS.Application.BoSSSpad;\r\n",
    "using BoSSS.Application.XNSE_Solver;\r\n",
    "using static BoSSS.Application.BoSSSpad.BoSSSshell;\r\n",
    "Init();\r\n"
   ],
   "outputs": [],
   "metadata": {
    "dotnet_interactive": {
     "language": "csharp"
    }
   }
  },
  {
   "cell_type": "code",
   "execution_count": null,
   "source": [
    "using ilPSP.LinSolvers; \r\n",
    "using BoSSS.Solution.Tecplot; \r\n",
    "using ilPSP.Connectors.Matlab;"
   ],
   "outputs": [],
   "metadata": {
    "dotnet_interactive": {
     "language": "csharp"
    }
   }
  },
  {
   "cell_type": "markdown",
   "source": [
    "\r\n",
    "# 2.1 Tests on the divergence\r\n",
    "\r\n",
    "## Common base-class for $\\text{div}$-implementations\r\n",
    "We are going to implement two different formulations of the \r\n",
    "divergence-operator for which going to show equivalence. \r\n",
    "We implement a common base-class for both formulations:"
   ],
   "metadata": {
    "dotnet_interactive": {
     "language": "csharp"
    }
   }
  },
  {
   "cell_type": "code",
   "execution_count": null,
   "source": [
    "\r\n",
    "abstract public class BaseDivergence :  \r\n",
    "        BoSSS.Foundation.IEdgeForm, // edge integrals \r\n",
    "        BoSSS.Foundation.IVolumeForm     // volume integrals \r\n",
    "{ \r\n",
    "    /// We don't use parameters (e.g. variable viscosity, ...)\r\n",
    "    /// at this point: so the parameter list can be null, resp. empty:\r\n",
    "    public IList<string> ParameterOrdering {  \r\n",
    "        get { return null; }  \r\n",
    "    } \r\n",
    " \r\n",
    "    /// But we have a vector argument variable, \r\n",
    "    /// $ [ \\sigma_1, \\sigma_2 ] = \\vec{\\sigma} $\r\n",
    "    /// (our trial function):\r\n",
    "    public IList<String> ArgumentOrdering {  \r\n",
    "        get { return new string[] { \"sigma1\", \"sigma2\" }; }  \r\n",
    "    } \r\n",
    " \r\n",
    "    public TermActivationFlags VolTerms { \r\n",
    "        get { \r\n",
    "            return TermActivationFlags.AllOn; \r\n",
    "        } \r\n",
    "    } \r\n",
    " \r\n",
    "    public TermActivationFlags InnerEdgeTerms { \r\n",
    "        get { \r\n",
    "            return (TermActivationFlags.AllOn);  \r\n",
    "        } \r\n",
    "    } \r\n",
    " \r\n",
    "    public TermActivationFlags BoundaryEdgeTerms { \r\n",
    "       get { \r\n",
    "           return TermActivationFlags.AllOn; \r\n",
    "        } \r\n",
    "    } \r\n",
    " \r\n",
    "    /// The following functions cover the actual math.\r\n",
    "    /// For any discretization of the divergence-operator, we have to specify:\r\n",
    "    /// \\begin{itemize}\r\n",
    "    ///    \\item a volume integrand,\r\n",
    "    ///    \\item an edge integrand for inner edges, i.e. on $ \\Gamma_i$,\r\n",
    "    ///    \\item an edge integrand for boundary edges, \r\n",
    "    ///          i.e. on $\\partial \\Omega$.\r\n",
    "    /// \\end{itemize}\r\n",
    "    /// These functions are declared as \\code{abstract}, meaning that one has \r\n",
    "    /// to specify them in classes derived from \\code{BaseLaplace}.\r\n",
    " \r\n",
    "    abstract public double VolumeForm(ref CommonParamsVol cpv,  \r\n",
    "           double[] U, double[,] GradU,  \r\n",
    "           double V, double[] GradV);         \r\n",
    " \r\n",
    "    abstract public double InnerEdgeForm(ref CommonParams inp,  \r\n",
    "        double[] U_IN, double[] U_OT, double[,] GradU_IN, double[,] GradU_OT,  \r\n",
    "        double V_IN, double V_OT, double[] GradV_IN, double[] GradV_OT); \r\n",
    " \r\n",
    "    abstract public double BoundaryEdgeForm(ref CommonParamsBnd inp,  \r\n",
    "        double[] U_IN, double[,] GradU_IN, double V_IN, double[] GradV_OT); \r\n",
    "}"
   ],
   "outputs": [],
   "metadata": {
    "dotnet_interactive": {
     "language": "csharp"
    }
   }
  },
  {
   "cell_type": "code",
   "execution_count": null,
   "source": [
    "/// We are going to use both, Dirichlet- and Neumann-boundary conditions\r\n",
    "/// in this exercise; the function \\code{IsDirichletBndy} is used to\r\n",
    "/// specify the type of boundary condition at point \\code{X}:\r\n",
    "static class BndyMap {\r\n",
    "static public Func<double[],bool> IsDirichletBndy = delegate(double[] X) { \r\n",
    "    double x = X[0]; \r\n",
    "    double y = X[1]; \r\n",
    "    if(Math.Abs(x - (-1.0)) < 1.0e-8) \r\n",
    "        return true;     \r\n",
    "    if(Math.Abs(y - (-1.0)) < 1.0e-8) \r\n",
    "        return true;     \r\n",
    "    return false; \r\n",
    "};\r\n",
    "}"
   ],
   "outputs": [],
   "metadata": {
    "dotnet_interactive": {
     "language": "csharp"
    }
   }
  },
  {
   "cell_type": "markdown",
   "source": [
    "## Formulation (i): Central-difference-form of $\\text{div}$\r\n",
    "The implementation of the central-difference form is as follows:"
   ],
   "metadata": {
    "dotnet_interactive": {
     "language": "csharp"
    }
   }
  },
  {
   "cell_type": "code",
   "execution_count": null,
   "source": [
    "class Divergence_cendiff : BaseDivergence { \r\n",
    " \r\n",
    " \r\n",
    "    /// The volume form is equal to \r\n",
    "    /// $ -\\vec{\\sigma} \\cdot \\nabla v$:\r\n",
    "    override public double VolumeForm(ref CommonParamsVol cpv,  \r\n",
    "        double[] Sigma, double[,] GradSigma,  \r\n",
    "        double V, double[] GradV) { \r\n",
    "        double Acc = 0; \r\n",
    "        for(int d = 0; d < cpv.D; d++) { \r\n",
    "            Acc -= Sigma[d]*GradV[d]; \r\n",
    "        } \r\n",
    "        return Acc; \r\n",
    "    } \r\n",
    " \r\n",
    "    /// At the cell boundaries, we use a central-difference-flux,\r\n",
    "    /// i.e. $\\mean{\\vec{\\sigma}} \\cdot \\vec{n}_{\\Gamma} \\jump{v}$:\r\n",
    "    override public double InnerEdgeForm(ref CommonParams inp,  \r\n",
    "        double[] Sigma_IN, double[] Sigma_OT, double[,] GradSigma_IN, double[,] GradSigma_OT,  \r\n",
    "        double V_IN, double V_OT, double[] GradV_IN, double[] GradV_OT) { \r\n",
    " \r\n",
    "        double Acc = 0; \r\n",
    "        for(int d = 0; d < inp.D; d++) { \r\n",
    "            Acc += 0.5*(Sigma_IN[d] + Sigma_OT[d])*inp.Normal[d]*(V_IN - V_OT); \r\n",
    "        } \r\n",
    "        return Acc; \r\n",
    "    } \r\n",
    " \r\n",
    "    override public double BoundaryEdgeForm(ref CommonParamsBnd inp,  \r\n",
    "        double[] Sigma_IN, double[,] GradSigma_IN, double V_IN, double[] GradV_OT) { \r\n",
    " \r\n",
    "        double Acc = 0; \r\n",
    " \r\n",
    "        if(BndyMap.IsDirichletBndy(inp.X)) { \r\n",
    "            /// Dirichlet-boundary: by taking the inner value of $\\vec{\\sigma}$, \r\n",
    "            /// this is a free boundary with respect to $\\vec{\\sigma}$.\r\n",
    "            for(int d = 0; d < inp.D; d++) { \r\n",
    "                Acc += Sigma_IN[d]*inp.Normal[d]*V_IN; \r\n",
    "            } \r\n",
    "        } else { \r\n",
    "            /// Neumann-boundary\r\n",
    "            double gNeu = 0.0; \r\n",
    "            Acc += gNeu*V_IN; \r\n",
    "        } \r\n",
    "        return Acc; \r\n",
    "    } \r\n",
    "}"
   ],
   "outputs": [],
   "metadata": {
    "dotnet_interactive": {
     "language": "csharp"
    }
   }
  },
  {
   "cell_type": "markdown",
   "source": [
    "## Formulation (ii): 'Strong' form of $\\text{div}$:\r\n",
    "Here, we use the form \r\n",
    "$$\r\n",
    "   b(\\vec{\\sigma},v) = \r\n",
    "   \\oint_{\\Gamma \\backslash \\Gamma_D} \r\n",
    "          M(v) J(\\vec{\\sigma}) \\cdot \\vec{n}_\\Gamma \r\n",
    "   dA \r\n",
    "   -\r\n",
    "   \\int_{\\Omega} \\text{div}(\\vec{\\sigma}) \\cdot v dV\r\n",
    "$$\r\n",
    "where M,J denote the mean and jump operator, respectively. This is actually the negative divergence, which will be more useful\r\n",
    "later on."
   ],
   "metadata": {}
  },
  {
   "cell_type": "code",
   "execution_count": null,
   "source": [
    "\r\n",
    "class Divergence_strong : BaseDivergence { \r\n",
    " \r\n",
    "    /// We have to implement \\code{VolumeForm},\r\n",
    "    /// \\emph{InnerEdgeForm} and \\code{BoundaryEdgeForm}:\r\n",
    "    override public double VolumeForm(ref CommonParamsVol cpv,  \r\n",
    "        double[] Sigma, double[,] GradSigma,  \r\n",
    "        double V, double[] GradV) { \r\n",
    "        double Acc = 0; \r\n",
    "        for(int d = 0; d < cpv.D; d++) { \r\n",
    "            Acc -= GradSigma[d,d]*V; \r\n",
    "        } \r\n",
    "        return Acc; \r\n",
    "    } \r\n",
    " \r\n",
    "    override public double InnerEdgeForm(ref CommonParams inp,  \r\n",
    "        double[] Sigma_IN, double[] Sigma_OT, double[,] GradSigma_IN, double[,] GradSigma_OT,  \r\n",
    "        double V_IN, double V_OT, double[] GradV_IN, double[] GradV_OT) { \r\n",
    " \r\n",
    "        double Acc = 0; \r\n",
    "        for(int d = 0; d < inp.D; d++) { \r\n",
    "            Acc += 0.5*(V_IN + V_OT)*(Sigma_IN[d] - Sigma_OT[d])*inp.Normal[d]; \r\n",
    "        } \r\n",
    "        return Acc; \r\n",
    "    } \r\n",
    " \r\n",
    "    override public double BoundaryEdgeForm(ref CommonParamsBnd inp,  \r\n",
    "        double[] Sigma_IN, double[,] GradSigma_IN, double V_IN, double[] GradV_OT) { \r\n",
    " \r\n",
    "        double Acc = 0; \r\n",
    " \r\n",
    "        if(BndyMap.IsDirichletBndy(inp.X)) { \r\n",
    "            Acc = 0;\r\n",
    "        } else { \r\n",
    "            double gNeu = 0.0; \r\n",
    "            for(int d = 0; d < inp.D; d++) { \r\n",
    "                Acc += Sigma_IN[d]*inp.Normal[d]*V_IN; \r\n",
    "            } \r\n",
    "            Acc -= gNeu*V_IN; \r\n",
    "        } \r\n",
    "        return Acc; \r\n",
    "    } \r\n",
    "}"
   ],
   "outputs": [],
   "metadata": {
    "dotnet_interactive": {
     "language": "csharp"
    }
   }
  },
  {
   "cell_type": "markdown",
   "source": [
    "\r\n",
    "# 3 Equality test \r\n",
    "We are going to test the equivalence of both formulationt \r\n",
    "on a 2D grid, using a DG basis of degree 1:"
   ],
   "metadata": {
    "dotnet_interactive": {
     "language": "csharp"
    }
   }
  },
  {
   "cell_type": "code",
   "execution_count": null,
   "source": [
    "\r\n",
    " var grd2D               = Grid2D.Cartesian2DGrid(GenericBlas.Linspace(-1,1,6),                                                    GenericBlas.Linspace(-1,1,7)); \r\n",
    " var b                   = new Basis(grd2D, 1); \r\n",
    " SinglePhaseField sigma1 = new SinglePhaseField(b,\"sigma1\"); \r\n",
    " SinglePhaseField sigma2 = new SinglePhaseField(b,\"sigma2\"); \r\n",
    " CoordinateVector sigma  = new CoordinateVector(sigma1,sigma2); \r\n",
    " var TrialMapping        = sigma.Mapping; \r\n",
    " var TestMapping         = new UnsetteledCoordinateMapping(b);"
   ],
   "outputs": [],
   "metadata": {
    "dotnet_interactive": {
     "language": "csharp"
    }
   }
  },
  {
   "cell_type": "code",
   "execution_count": null,
   "source": [
    "    /// We create the matrix of the central-difference formulation:\r\n",
    " var OpDiv_cendiff = (new Divergence_cendiff()).Operator(); \r\n",
    " var MtxDiv_cendiff = OpDiv_cendiff.ComputeMatrix(TrialMapping,  \r\n",
    "                                                  null,  \r\n",
    "                                                  TestMapping);"
   ],
   "outputs": [],
   "metadata": {
    "dotnet_interactive": {
     "language": "csharp"
    }
   }
  },
  {
   "cell_type": "markdown",
   "source": [
    "We create the matrix of the strong formulation and show that the matrices of both formulations are equal.\r\n",
    "\r\n",
    "We use the \\code{InfNorm(...)}-method to identify whether a matrix is (approximately) zero or not."
   ],
   "metadata": {}
  },
  {
   "cell_type": "code",
   "execution_count": null,
   "source": [
    "\r\n",
    " var OpDiv_strong  = (new Divergence_strong()).Operator(); \r\n",
    " var MtxDiv_strong = OpDiv_strong.ComputeMatrix(TrialMapping, null, TestMapping); \r\n",
    " var TestP         = MtxDiv_cendiff + MtxDiv_strong; \r\n",
    " TestP.InfNorm();"
   ],
   "outputs": [],
   "metadata": {
    "dotnet_interactive": {
     "language": "csharp"
    }
   }
  },
  {
   "cell_type": "markdown",
   "source": [
    "\r\n",
    "# 4 The gradient-operator\r\n",
    "\r\n",
    "For the variational formulation of the gradient operator, a vector-valued\r\n",
    "test-function is required. Unfourtunately, this is not supported by \r\n",
    "*BoSSS*. Therefore we have to discretize the gradent component-wise,\r\n",
    "i.e. as $\\partial_{x}$ and $\\partial_y$. \r\n",
    "\r\n",
    "A single derivative \r\n",
    "can obviously be expressed as a divergence by the\r\n",
    "identity $ \\partial_{x_d} = \\text{div}( \\vec{e}_d u ) $."
   ],
   "metadata": {}
  },
  {
   "cell_type": "code",
   "execution_count": null,
   "source": [
    "\r\n",
    "class Gradient_d : \r\n",
    "        BoSSS.Foundation.IEdgeForm, // edge integrals \r\n",
    "        BoSSS.Foundation.IVolumeForm     // volume integrals \r\n",
    "{ \r\n",
    "    public Gradient_d(int _d) { \r\n",
    "        this.d = _d; \r\n",
    "    } \r\n",
    " \r\n",
    "    /// The component index of the gradient:\r\n",
    "    int d; \r\n",
    " \r\n",
    "    /// As ususal, we do not use parameters:\r\n",
    "    public IList<string> ParameterOrdering {  \r\n",
    "        get { return null; }  \r\n",
    "    } \r\n",
    " \r\n",
    "    /// We have one argument $u$:\r\n",
    "    public IList<String> ArgumentOrdering {  \r\n",
    "        get { return new string[] { \"u\" }; }  \r\n",
    "    } \r\n",
    " \r\n",
    "    public TermActivationFlags VolTerms { \r\n",
    "        get { return TermActivationFlags.AllOn; } \r\n",
    "    } \r\n",
    " \r\n",
    "    public TermActivationFlags InnerEdgeTerms { \r\n",
    "        get { return (TermActivationFlags.AllOn); } \r\n",
    "    } \r\n",
    " \r\n",
    "    public TermActivationFlags BoundaryEdgeTerms { \r\n",
    "       get { return TermActivationFlags.AllOn; } \r\n",
    "    } \r\n",
    " \r\n",
    "    /// Now, we implement \r\n",
    "    /// \\begin{itemize}\r\n",
    "    ///    \\item the volume form $u \\vec{e}_d \\cdot \\nabla v$\r\n",
    "    ///    \\item the boundary form \r\n",
    "    ///       $\\mean{u \\ \\vec{e}_d} \\cdot \\vec{n}_\\Gamma \\jump{v}$\r\n",
    "    /// \\end{itemize}\r\n",
    "    public double VolumeForm(ref CommonParamsVol cpv,  \r\n",
    "           double[] U, double[,] GradU,  \r\n",
    "           double V, double[] GradV) { \r\n",
    " \r\n",
    "        double Acc = 0; \r\n",
    "        Acc -= U[0]*GradV[this.d]; \r\n",
    "        return Acc; \r\n",
    "    }         \r\n",
    " \r\n",
    "    public double InnerEdgeForm(ref CommonParams inp,  \r\n",
    "        double[] U_IN, double[] U_OT, double[,] GradU_IN, double[,] GradU_OT,  \r\n",
    "        double V_IN, double V_OT, double[] GradV_IN, double[] GradV_OT) { \r\n",
    " \r\n",
    "        double Acc = 0; \r\n",
    "        Acc += 0.5*(U_IN[0] + U_OT[0])*inp.Normal[this.d]*(V_IN - V_OT); \r\n",
    "        return Acc;   \r\n",
    "     } \r\n",
    " \r\n",
    "    public double BoundaryEdgeForm(ref CommonParamsBnd inp,  \r\n",
    "        double[] U_IN, double[,] GradU_IN, double V_IN, double[] GradV_OT) { \r\n",
    " \r\n",
    "        double Acc = 0; \r\n",
    "        if(BndyMap.IsDirichletBndy(inp.X)) { \r\n",
    "            double u_Diri = 0.0; \r\n",
    "            Acc += u_Diri*inp.Normal[this.d]*V_IN; \r\n",
    "        } else { \r\n",
    "            Acc += U_IN[0]*inp.Normal[this.d]*V_IN; \r\n",
    "        } \r\n",
    "        return Acc;               \r\n",
    "    } \r\n",
    "}"
   ],
   "outputs": [],
   "metadata": {
    "dotnet_interactive": {
     "language": "csharp"
    }
   }
  },
  {
   "cell_type": "markdown",
   "source": [
    "Now, we are ready to assemble the full $\\nabla$ operator\r\n",
    "as $\\left[ \\begin{array}{c} \\partial_x \\\\ \\partial_y \\end{array} \\right]$."
   ],
   "metadata": {}
  },
  {
   "cell_type": "code",
   "execution_count": null,
   "source": [
    "\r\n",
    "var OpGrad = new SpatialOperator(1,2,QuadOrderFunc.Linear(),\"u\",\"c1\",\"c2\"); \r\n",
    "OpGrad.EquationComponents[\"c1\"].Add(new Gradient_d(0)); \r\n",
    "OpGrad.EquationComponents[\"c2\"].Add(new Gradient_d(1)); \r\n",
    "OpGrad.Commit();"
   ],
   "outputs": [],
   "metadata": {
    "dotnet_interactive": {
     "language": "csharp"
    }
   }
  },
  {
   "cell_type": "markdown",
   "source": [
    "As an additional test, we create the gradient-matrix and verify that \r\n",
    "its transpose \r\n",
    "is equal to the negative **MtxDiv**-matrix:"
   ],
   "metadata": {}
  },
  {
   "cell_type": "code",
   "execution_count": null,
   "source": [
    "\r\n",
    "var MtxGrad = OpGrad.ComputeMatrix(TestMapping, null, TrialMapping); \r\n",
    "var Test2   = MtxGrad.Transpose() - MtxDiv_strong; \r\n",
    "Test2.InfNorm();"
   ],
   "outputs": [],
   "metadata": {
    "dotnet_interactive": {
     "language": "csharp"
    }
   }
  },
  {
   "cell_type": "markdown",
   "source": [
    "\r\n",
    "# 5 The complete Poisson-system\r\n",
    "## Assembly of the system\r\n",
    "\r\n",
    "We also need the identity-matrix in the top-left corner \r\n",
    "of the Poisson-system:"
   ],
   "metadata": {
    "dotnet_interactive": {
     "language": "csharp"
    }
   }
  },
  {
   "cell_type": "code",
   "execution_count": null,
   "source": [
    "\r\n",
    "public class Identity :  \r\n",
    "        BoSSS.Foundation.IVolumeForm  \r\n",
    "{ \r\n",
    "    public IList<string> ParameterOrdering {  \r\n",
    "        get { return new string[0]; }  \r\n",
    "    } \r\n",
    " \r\n",
    "    public string component;  \r\n",
    " \r\n",
    "    public IList<String> ArgumentOrdering {  \r\n",
    "        get { return new string[] { component }; }  \r\n",
    "    } \r\n",
    " \r\n",
    "    public TermActivationFlags VolTerms { \r\n",
    "        get { \r\n",
    "            return TermActivationFlags.AllOn; \r\n",
    "        } \r\n",
    "    } \r\n",
    " \r\n",
    "    public double VolumeForm(ref CommonParamsVol cpv,  \r\n",
    "           double[] U, double[,] GradU,  \r\n",
    "           double V, double[] GradV) { \r\n",
    "        return U[0]*V;            \r\n",
    "    } \r\n",
    "}"
   ],
   "outputs": [
    {
     "output_type": "stream",
     "name": "stderr",
     "text": [
      "\r\n",
      "(10,19): warning CS0649: Field 'Identity.component' is never assigned to, and will always have its default value null\r\n",
      "\r\n"
     ]
    }
   ],
   "metadata": {
    "dotnet_interactive": {
     "language": "csharp"
    }
   }
  },
  {
   "cell_type": "markdown",
   "source": [
    "\r\n",
    "We are going to implement the linear Poisson-operator\r\n",
    "$$\r\n",
    "    \\left[ \\begin{array}{ccc}\r\n",
    "     1           &  0         & \\partial_x \\\\\r\n",
    "     0           &  1         & \\partial_y \\\\\r\n",
    "     -\\partial_x & -\\partial_y & 0 \r\n",
    "\\end{array} \\right]\r\n",
    "\\cdot \r\n",
    "\\left[ \\begin{array}{c} \\sigma_0 \\\\ \\sigma_1 \\\\ u \\end{array} \\right]\r\n",
    "= \r\n",
    "\\left[ \\begin{array}{c} c_0 \\\\ c_1 \\\\ c_2 \\end{array} \\right]\r\n",
    "$$\r\n",
    "The variables $c_0$, $c_1$ and $c_2$, which correspond to the \r\n",
    "test functions are also called co-domain variables of the operator.\r\n",
    "We are using the negative divergence, since this will lead to a \r\n",
    "symmetric matrix, instead of a anti-symmetric one.\r\n",
    "By doing so, we can e.g. use a Cholesky-factorization to determine \r\n",
    "whether the system is definite or not."
   ],
   "metadata": {}
  },
  {
   "cell_type": "code",
   "execution_count": null,
   "source": [
    "\r\n",
    "var OpPoisson = new SpatialOperator(3, 3,  \r\n",
    "                      QuadOrderFunc.Linear(), \r\n",
    "                      \"sigma1\", \"sigma2\", \"u\", // the domain-variables \r\n",
    "                      \"c1\", \"c2\", \"c3\"); //       the co-domain variables  \r\n",
    "/// Now we add all required components to \\code{OpPoisson}:\r\n",
    "OpPoisson.EquationComponents[\"c1\"].Add(new Gradient_d(0)); \r\n",
    "OpPoisson.EquationComponents[\"c1\"].Add(new Identity() { component = \"sigma1\" }); \r\n",
    "OpPoisson.EquationComponents[\"c2\"].Add(new Gradient_d(1)); \r\n",
    "OpPoisson.EquationComponents[\"c2\"].Add(new Identity() { component = \"sigma2\" }); \r\n",
    "OpPoisson.EquationComponents[\"c3\"].Add(new Divergence_strong()); \r\n",
    "OpPoisson.Commit();"
   ],
   "outputs": [],
   "metadata": {
    "dotnet_interactive": {
     "language": "csharp"
    }
   }
  },
  {
   "cell_type": "markdown",
   "source": [
    "We create mappings $[\\sigma_1, \\sigma_2, u ]$:\r\n",
    "three different combinations of DG orders will be investigated:\r\n",
    "\r\n",
    "- equal order: the same polynomial degree for $u$ and $\\vec{\\sigma}$\r\n",
    "- mixed order: the degree of $u$ is lower than the degree \r\n",
    "      of $\\vec{\\sigma}$.\r\n",
    "- `strange' order: the degree of $u$ is higher than the degree of \r\n",
    "      $\\vec{\\sigma}$.\r\n"
   ],
   "metadata": {}
  },
  {
   "cell_type": "code",
   "execution_count": null,
   "source": [
    "\r\n",
    "var b3         = new Basis(grd2D, 3); \r\n",
    "var b2         = new Basis(grd2D, 2); \r\n",
    "var b4         = new Basis(grd2D, 4); \r\n",
    "var EqualOrder = new UnsetteledCoordinateMapping(b3,b3,b3); \r\n",
    "var MixedOrder = new UnsetteledCoordinateMapping(b4,b4,b3); \r\n",
    "var StrngOrder = new UnsetteledCoordinateMapping(b2,b2,b3);"
   ],
   "outputs": [],
   "metadata": {
    "dotnet_interactive": {
     "language": "csharp"
    }
   }
  },
  {
   "cell_type": "code",
   "execution_count": null,
   "source": [
    "var MtxPoisson_Equal = OpPoisson.ComputeMatrix(EqualOrder, null, EqualOrder); \r\n",
    "var MtxPoisson_Mixed = OpPoisson.ComputeMatrix(MixedOrder, null, MixedOrder); \r\n",
    "var MtxPoisson_Strng = OpPoisson.ComputeMatrix(StrngOrder, null, StrngOrder);"
   ],
   "outputs": [],
   "metadata": {
    "dotnet_interactive": {
     "language": "csharp"
    }
   }
  },
  {
   "cell_type": "markdown",
   "source": [
    "We show that the matrices are symmetric \r\n",
    "(use e.g. **SymmetryDeviation(...)**), but indefinite\r\n",
    "(use e.g. **IsDefinite(...)**)."
   ],
   "metadata": {
    "dotnet_interactive": {
     "language": "csharp"
    }
   }
  },
  {
   "cell_type": "code",
   "execution_count": null,
   "source": [
    "double symDev_Equal = MtxPoisson_Equal.SymmetryDeviation();\r\n",
    "symDev_Equal"
   ],
   "outputs": [
    {
     "output_type": "execute_result",
     "data": {
      "text/html": [
       "<div class=\"dni-plaintext\">2.0920765120280294E-14</div>"
      ]
     },
     "metadata": {},
     "execution_count": 38
    }
   ],
   "metadata": {
    "dotnet_interactive": {
     "language": "csharp"
    }
   }
  },
  {
   "cell_type": "code",
   "execution_count": null,
   "source": [
    "double symDev_Mixed = MtxPoisson_Mixed.SymmetryDeviation();\r\n",
    "symDev_Mixed"
   ],
   "outputs": [
    {
     "output_type": "execute_result",
     "data": {
      "text/html": [
       "<div class=\"dni-plaintext\">3.755329380794592E-14</div>"
      ]
     },
     "metadata": {},
     "execution_count": 39
    }
   ],
   "metadata": {
    "dotnet_interactive": {
     "language": "csharp"
    }
   }
  },
  {
   "cell_type": "code",
   "execution_count": null,
   "source": [
    "double symDev_Strng = MtxPoisson_Strng.SymmetryDeviation();\r\n",
    "symDev_Strng"
   ],
   "outputs": [
    {
     "output_type": "execute_result",
     "data": {
      "text/html": [
       "<div class=\"dni-plaintext\">2.090688733247248E-14</div>"
      ]
     },
     "metadata": {},
     "execution_count": 40
    }
   ],
   "metadata": {
    "dotnet_interactive": {
     "language": "csharp"
    }
   }
  },
  {
   "cell_type": "code",
   "execution_count": null,
   "source": [
    "MtxPoisson_Equal.IsDefinite()"
   ],
   "outputs": [
    {
     "output_type": "execute_result",
     "data": {
      "text/html": [
       "<div class=\"dni-plaintext\">False</div>"
      ]
     },
     "metadata": {},
     "execution_count": 41
    }
   ],
   "metadata": {
    "dotnet_interactive": {
     "language": "csharp"
    }
   }
  },
  {
   "cell_type": "code",
   "execution_count": null,
   "source": [
    "MtxPoisson_Mixed.IsDefinite()"
   ],
   "outputs": [
    {
     "output_type": "execute_result",
     "data": {
      "text/html": [
       "<div class=\"dni-plaintext\">False</div>"
      ]
     },
     "metadata": {},
     "execution_count": 42
    }
   ],
   "metadata": {
    "dotnet_interactive": {
     "language": "csharp"
    }
   }
  },
  {
   "cell_type": "code",
   "execution_count": null,
   "source": [
    "MtxPoisson_Strng.IsDefinite()"
   ],
   "outputs": [
    {
     "output_type": "execute_result",
     "data": {
      "text/html": [
       "<div class=\"dni-plaintext\">False</div>"
      ]
     },
     "metadata": {},
     "execution_count": 43
    }
   ],
   "metadata": {
    "dotnet_interactive": {
     "language": "csharp"
    }
   }
  },
  {
   "cell_type": "code",
   "execution_count": null,
   "source": [
    "/// BoSSScmdSilent BoSSSexeSilent\r\n",
    "NUnit.Framework.Assert.LessOrEqual(symDev_Equal, 1.0e-8);\r\n",
    "NUnit.Framework.Assert.LessOrEqual(symDev_Mixed, 1.0e-8);\r\n",
    "NUnit.Framework.Assert.LessOrEqual(symDev_Strng, 1.0e-8);"
   ],
   "outputs": [],
   "metadata": {
    "dotnet_interactive": {
     "language": "csharp"
    }
   }
  },
  {
   "cell_type": "markdown",
   "source": [
    "# 6 Advanced topics"
   ],
   "metadata": {}
  },
  {
   "cell_type": "code",
   "execution_count": null,
   "source": [],
   "outputs": [],
   "metadata": {
    "dotnet_interactive": {
     "language": "csharp"
    }
   }
  },
  {
   "cell_type": "markdown",
   "source": [
    "## Algebraic reduction\r\n",
    "\r\n",
    "Since the top-left corner of our matrix \r\n",
    "$$\r\n",
    "\\left[ \\begin{array}{cc}\r\n",
    "1   & B \\\\\r\n",
    "B^T & 0 \r\n",
    "\\end{array} \\right]\r\n",
    "$$\r\n",
    "is actually very easy to eliminate the variable $\\vec{\\sigma}$\r\n",
    "from our system algebraically. \r\n",
    "The matrix of the reduces system is obviously $B^T \\cdot B$."
   ],
   "metadata": {
    "dotnet_interactive": {
     "language": "csharp"
    }
   }
  },
  {
   "cell_type": "markdown",
   "source": [
    "# Extraction of sub-matrices and elimination\r\n",
    "From the mapping, we can actually obtain index-lists for each variable,\r\n",
    "which can then be used to extract sub-matrices from \r\n",
    "**MtxPoisson\\_Equal**, **MtxPoisson\\_Mixed**, resp. \r\n",
    "**MtxPoisson\\_Strng**."
   ],
   "metadata": {}
  },
  {
   "cell_type": "code",
   "execution_count": null,
   "source": [
    "\r\n",
    "long[] SigmaIdx_Equal = EqualOrder.GetSubvectorIndices(true, 0,1); \r\n",
    "long[] uIdx_Equal     = EqualOrder.GetSubvectorIndices(true, 2); \r\n",
    "long[] SigmaIdx_Mixed = MixedOrder.GetSubvectorIndices(true, 0,1); \r\n",
    "long[] uIdx_Mixed     = MixedOrder.GetSubvectorIndices(true, 2); \r\n",
    "long[] SigmaIdx_Strng = StrngOrder.GetSubvectorIndices(true, 0,1); \r\n",
    "long[] uIdx_Strng     = StrngOrder.GetSubvectorIndices(true, 2);"
   ],
   "outputs": [],
   "metadata": {
    "dotnet_interactive": {
     "language": "csharp"
    }
   }
  },
  {
   "cell_type": "markdown",
   "source": [
    "The extraction of the sub-matrix and the elimination, for the equal order: "
   ],
   "metadata": {}
  },
  {
   "cell_type": "code",
   "execution_count": null,
   "source": [
    "\r\n",
    "var MtxPoissonRed_Equal =  \r\n",
    "      MtxPoisson_Equal.GetSubMatrix(uIdx_Equal, SigmaIdx_Equal)  // -Divergence \r\n",
    "    * MtxPoisson_Equal.GetSubMatrix(SigmaIdx_Equal, uIdx_Equal); // Gradient"
   ],
   "outputs": [],
   "metadata": {
    "dotnet_interactive": {
     "language": "csharp"
    }
   }
  },
  {
   "cell_type": "markdown",
   "source": [
    "Finally, we also\r\n",
    "create the reduced system for the mixed and the strange \r\n",
    "order, test for the definiteness of the reduced system.\r\n",
    "\r\n",
    "Equal and mixed order are positive definite, while the strange order\r\n",
    "is indefinite - a clear indication that something ist wrong:"
   ],
   "metadata": {
    "dotnet_interactive": {
     "language": "csharp"
    }
   }
  },
  {
   "cell_type": "code",
   "execution_count": null,
   "source": [
    "var MtxPoissonRed_Mixed =  \r\n",
    "      MtxPoisson_Mixed.GetSubMatrix(uIdx_Mixed, SigmaIdx_Mixed)  // -Divergence \r\n",
    "    * MtxPoisson_Mixed.GetSubMatrix(SigmaIdx_Mixed, uIdx_Mixed); // Gradient   \r\n",
    "var MtxPoissonRed_Strng =  \r\n",
    "      MtxPoisson_Strng.GetSubMatrix(uIdx_Strng, SigmaIdx_Strng)  // -Divergence \r\n",
    "    * MtxPoisson_Strng.GetSubMatrix(SigmaIdx_Strng, uIdx_Strng); // Gradient"
   ],
   "outputs": [],
   "metadata": {
    "dotnet_interactive": {
     "language": "csharp"
    }
   }
  },
  {
   "cell_type": "code",
   "execution_count": null,
   "source": [
    "bool isdef_red_Equal = MtxPoissonRed_Equal.IsDefinite();\r\n",
    "isdef_red_Equal"
   ],
   "outputs": [
    {
     "output_type": "execute_result",
     "data": {
      "text/html": [
       "<div class=\"dni-plaintext\">True</div>"
      ]
     },
     "metadata": {},
     "execution_count": 52
    }
   ],
   "metadata": {
    "dotnet_interactive": {
     "language": "csharp"
    }
   }
  },
  {
   "cell_type": "code",
   "execution_count": null,
   "source": [
    "bool isdef_red_Mixed = MtxPoissonRed_Mixed.IsDefinite();\r\n",
    "isdef_red_Mixed"
   ],
   "outputs": [
    {
     "output_type": "execute_result",
     "data": {
      "text/html": [
       "<div class=\"dni-plaintext\">True</div>"
      ]
     },
     "metadata": {},
     "execution_count": 53
    }
   ],
   "metadata": {
    "dotnet_interactive": {
     "language": "csharp"
    }
   }
  },
  {
   "cell_type": "code",
   "execution_count": null,
   "source": [
    "bool isdef_red_Strng = MtxPoissonRed_Strng.IsDefinite();\r\n",
    "isdef_red_Strng"
   ],
   "outputs": [
    {
     "output_type": "execute_result",
     "data": {
      "text/html": [
       "<div class=\"dni-plaintext\">False</div>"
      ]
     },
     "metadata": {},
     "execution_count": 54
    }
   ],
   "metadata": {
    "dotnet_interactive": {
     "language": "csharp"
    }
   }
  },
  {
   "cell_type": "code",
   "execution_count": null,
   "source": [
    "/// BoSSScmdSilent BoSSSexeSilent\r\n",
    "NUnit.Framework.Assert.IsTrue(isdef_red_Equal);\r\n",
    "NUnit.Framework.Assert.IsTrue(isdef_red_Mixed);\r\n",
    "NUnit.Framework.Assert.IsFalse(isdef_red_Strng);"
   ],
   "outputs": [],
   "metadata": {
    "dotnet_interactive": {
     "language": "csharp"
    }
   }
  },
  {
   "cell_type": "markdown",
   "source": [
    "We compute the condition number of all three matrices; we observe that\r\n",
    "the mixed as well as the equal-order discretization result give rather \r\n",
    "moderate condition numbers. \r\n",
    "\r\n",
    "For the strange orders, the condition number\r\n",
    "of the system is far to high:"
   ],
   "metadata": {
    "dotnet_interactive": {
     "language": "csharp"
    }
   }
  },
  {
   "cell_type": "code",
   "execution_count": null,
   "source": [
    "double condest_Mixed = MtxPoissonRed_Mixed.condest();\r\n",
    "condest_Mixed"
   ],
   "outputs": [
    {
     "output_type": "execute_result",
     "data": {
      "text/html": [
       "<div class=\"dni-plaintext\">7016.828053419778</div>"
      ]
     },
     "metadata": {},
     "execution_count": 57
    }
   ],
   "metadata": {
    "dotnet_interactive": {
     "language": "csharp"
    }
   }
  },
  {
   "cell_type": "code",
   "execution_count": null,
   "source": [
    "double condest_Equal = MtxPoissonRed_Equal.condest();\r\n",
    "condest_Equal"
   ],
   "outputs": [
    {
     "output_type": "execute_result",
     "data": {
      "text/html": [
       "<div class=\"dni-plaintext\">3577.101349907232</div>"
      ]
     },
     "metadata": {},
     "execution_count": 58
    }
   ],
   "metadata": {
    "dotnet_interactive": {
     "language": "csharp"
    }
   }
  },
  {
   "cell_type": "code",
   "execution_count": null,
   "source": [
    "double condest_Strng = MtxPoissonRed_Strng.condest();\r\n",
    "condest_Strng"
   ],
   "outputs": [
    {
     "output_type": "execute_result",
     "data": {
      "text/html": [
       "<div class=\"dni-plaintext\">6.159871811473017E+19</div>"
      ]
     },
     "metadata": {},
     "execution_count": 59
    }
   ],
   "metadata": {
    "dotnet_interactive": {
     "language": "csharp"
    }
   }
  },
  {
   "cell_type": "code",
   "execution_count": null,
   "source": [
    "/// BoSSScmdSilent BoSSSexeSilent\r\n",
    "NUnit.Framework.Assert.LessOrEqual(condest_Mixed, 1e5);\r\n",
    "NUnit.Framework.Assert.LessOrEqual(condest_Equal, 1e5);\r\n",
    "NUnit.Framework.Assert.Greater(condest_Strng, 1e10);"
   ],
   "outputs": [],
   "metadata": {
    "dotnet_interactive": {
     "language": "csharp"
    }
   }
  },
  {
   "cell_type": "code",
   "execution_count": null,
   "source": [],
   "outputs": [],
   "metadata": {
    "dotnet_interactive": {
     "language": "csharp"
    }
   }
  }
 ],
 "metadata": {
  "kernelspec": {
   "display_name": ".NET (C#)",
   "language": "C#",
   "name": ".net-csharp"
  },
  "language_info": {
   "file_extension": ".cs",
   "mimetype": "text/x-csharp",
   "name": "C#",
   "pygments_lexer": "csharp",
   "version": "8.0"
  }
 },
 "nbformat": 4,
 "nbformat_minor": 4
}