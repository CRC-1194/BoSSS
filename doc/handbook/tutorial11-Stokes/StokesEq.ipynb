{
 "cells": [
  {
   "cell_type": "markdown",
   "source": [
    "# StokesEquation\r\n",
    "# What's new?\r\n",
    "\r\n",
    "\r\n",
    "- implementation of the incompressible, steady Stokes equation\r\n",
    "- advanced: {implementation of the Stokes flow behind a grid as an application}\r\n",
    "\r\n",
    "# Prerequisites\r\n",
    "\r\n",
    "\r\n",
    "- implementation of numerical fluxes, -> chapter **NumFlux**\r\n",
    "- spatial operator, -> chapter **SpatialOperator**\r\n",
    "- implementation of the gradient operator, -> chapter **PoissonAsASystem**\r\n",
    "- implementation of the SIP operator, -> chapter **SIP**\r\n",
    "\r\n",
    "\r\n",
    "# Problem statement\r\n",
    "\r\n",
    "The Stokes-equation is given as\r\n",
    "\r\n",
    "$$\r\n",
    "-\\frac{1}{Re} \\Delta \\vec{u}\r\n",
    " + \\nabla \\psi\r\n",
    "     \\  = \\vec{g}\\vert_\\Omega\r\n",
    "       \\\\ \r\n",
    "\\text{div} (\\vec{u})\r\n",
    "\r\n",
    "     \\  = 0\r\n",
    "$$\r\n",
    "Where $Re \\in \\mathbb{R} $ denotes the Reynolds number. We consider two types of boundary conditions for the Stokes equation,\r\n",
    "Dirichlet (on $\\Gamma_D \\subset \\Omega$) and Neumman (on $\\Gamma_N  \\subset \\Omega$). Those are defined as\r\n",
    "$$\r\n",
    "\\vec{u}  =\\vec{u}_D \r\n",
    "         \\  \\text{ on } \\Gamma_D\\ \\text{ (Dirichlet)}, \\\\\r\n",
    "        %\r\n",
    "        \\left( -\\frac{1}{Re}\\ \\nabla  \\vec{u} +  I_p \\psi \\right) \r\n",
    "        \\vec{n}\\vert_{\\delta \\Omega}         = 0 \r\n",
    "                \\  \\text{ on } \\Gamma_N\\ \\text{ (Neumann) } .\r\n",
    "$$\r\n"
   ],
   "metadata": {
    "dotnet_interactive": {
     "language": "csharp"
    }
   }
  },
  {
   "cell_type": "markdown",
   "source": [
    "\r\n",
    "\r\n",
    "# Solution within the BoSSS framework\r\n"
   ],
   "metadata": {}
  },
  {
   "cell_type": "code",
   "execution_count": null,
   "source": [
    "#r \"BoSSSpad.dll\"\r\n",
    "using System;\r\n",
    "using System.Collections.Generic;\r\n",
    "using System.Linq;\r\n",
    "using ilPSP;\r\n",
    "using ilPSP.Utils;\r\n",
    "using BoSSS.Platform;\r\n",
    "using BoSSS.Foundation;\r\n",
    "using BoSSS.Foundation.Grid;\r\n",
    "using BoSSS.Foundation.Grid.Classic;\r\n",
    "using BoSSS.Foundation.IO;\r\n",
    "using BoSSS.Solution;\r\n",
    "using BoSSS.Solution.Control;\r\n",
    "using BoSSS.Solution.GridImport;\r\n",
    "using BoSSS.Solution.Statistic;\r\n",
    "using BoSSS.Solution.Utils;\r\n",
    "using BoSSS.Solution.Gnuplot;\r\n",
    "using BoSSS.Application.BoSSSpad;\r\n",
    "using BoSSS.Application.XNSE_Solver;\r\n",
    "using static BoSSS.Application.BoSSSpad.BoSSSshell;\r\n",
    "Init();\r\n"
   ],
   "outputs": [],
   "metadata": {
    "dotnet_interactive": {
     "language": "csharp"
    }
   }
  },
  {
   "cell_type": "code",
   "execution_count": null,
   "source": [
    "using ilPSP.LinSolvers;\r\n",
    "using BoSSS.Solution.Tecplot;\r\n",
    "using ilPSP.Connectors.Matlab;"
   ],
   "outputs": [],
   "metadata": {
    "dotnet_interactive": {
     "language": "csharp"
    }
   }
  },
  {
   "cell_type": "code",
   "execution_count": null,
   "source": [
    "/// BoSSScmdSilent BoSSSexeSilent\r\n",
    "using NUnit.Framework;"
   ],
   "outputs": [],
   "metadata": {
    "dotnet_interactive": {
     "language": "csharp"
    }
   }
  },
  {
   "cell_type": "markdown",
   "source": [
    "To inicate at which point of the boundary which condition is valid, \r\n",
    "i.e. wether a certain point is eiter Dirichlet or Neumann we\r\n",
    "define **IsDirichletBndy**\r\n",
    "which defines a mapping \r\n",
    "$$\r\n",
    "   \\vec{x} \\mapsto \\{ \\text{true}, \\text{false} \\},\r\n",
    "$$\r\n",
    "where **true** actually indicates a Dirichlet boundary.\r\n",
    "Since this function is defined as a global delegate, it can be altered \r\n",
    "later on. In the same manner, the function **UDiri** defines the Dirichlet-value for the velocity at the boundary."
   ],
   "metadata": {}
  },
  {
   "cell_type": "code",
   "execution_count": null,
   "source": [
    "static class BndyMap { \r\n",
    "\r\n",
    "    public static Func<double[],bool> IsDirichletBndy = null;\r\n",
    "\r\n",
    "    public static Func<double[],double[]> UDiri = null;\r\n",
    "\r\n",
    "}"
   ],
   "outputs": [],
   "metadata": {
    "dotnet_interactive": {
     "language": "csharp"
    }
   }
  },
  {
   "cell_type": "markdown",
   "source": [
    "\r\n",
    "# 1 Velocity divergence and pressure gradient\r\n",
    "\r\n",
    " At first, we implement the velocity divergence, i.e. \r\n",
    "  the continuity equation. We use the strong form, i.e.\r\n",
    "$$\r\n",
    "         b(\\vec{u},v) = \r\n",
    "     \\oint_{\\Gamma \\backslash \\Gamma_D} \r\n",
    "            \\bar{v} \\quad \\lbrack \\lbrack {\\vec{u}}\\rbrack\\rbrack \\cdot \\vec{n}_\\Gamma \r\n",
    "     dA \r\n",
    "     -\r\n",
    "     \\int_{\\Omega} \\text{div}(\\vec{u}) v ~ dV.\r\n",
    "$$"
   ],
   "metadata": {
    "dotnet_interactive": {
     "language": "csharp"
    }
   }
  },
  {
   "cell_type": "code",
   "execution_count": null,
   "source": [
    "\r\n",
    "public class Divergence : \r\n",
    "        BoSSS.Foundation.IEdgeForm, // edge integrals\r\n",
    "        BoSSS.Foundation.IVolumeForm     // volume integrals\r\n",
    "{\r\n",
    "    /// The parameter list for the divergence is empty:\r\n",
    "    public IList<string> ParameterOrdering { \r\n",
    "        get { return null; } \r\n",
    "    }\r\n",
    " \r\n",
    "    /// We have a vector argument variable, \r\n",
    "    /// the velocity [ u, v ] = u\r\n",
    "    /// (our trial function):\r\n",
    "    public IList<String> ArgumentOrdering { \r\n",
    "        get { return new string[] { \"u\", \"v\" }; } \r\n",
    "    }\r\n",
    " \r\n",
    "    public TermActivationFlags VolTerms {\r\n",
    "        get {\r\n",
    "            return TermActivationFlags.AllOn;\r\n",
    "        }\r\n",
    "    }\r\n",
    " \r\n",
    "    public TermActivationFlags InnerEdgeTerms {\r\n",
    "        get {\r\n",
    "            return TermActivationFlags.AllOn; \r\n",
    "        }\r\n",
    "    }\r\n",
    " \r\n",
    "    public TermActivationFlags BoundaryEdgeTerms {\r\n",
    "       get {\r\n",
    "           return TermActivationFlags.AllOn;\r\n",
    "        }\r\n",
    "    }\r\n",
    " \r\n",
    "    /// In the volume part, the integrand is div(u)*v :\r\n",
    "    public double VolumeForm(ref CommonParamsVol cpv, \r\n",
    "        double[] U, double[,] GradU, \r\n",
    "        double V, double[] GradV) {\r\n",
    "        double Acc = 0;\r\n",
    "        for(int d = 0; d < cpv.D; d++) {\r\n",
    "            Acc -= GradU[d,d]*V;\r\n",
    "        }\r\n",
    "        return Acc;\r\n",
    "    }\r\n",
    " \r\n",
    "    /// On interior cell boundaries, we use a velocity penalty,\r\n",
    "    /// $\\mean{v} \\jump{u} \\cdot n_\\Gamma$:\r\n",
    "    public double InnerEdgeForm(ref CommonParams inp, \r\n",
    "        double[] U_IN, double[] U_OT, double[,] GradU_IN, double[,] GradU_OT, \r\n",
    "        double V_IN, double V_OT, double[] GradV_IN, double[] GradV_OT) {\r\n",
    " \r\n",
    "        double Acc = 0;\r\n",
    "        for(int d = 0; d < inp.D; d++) {\r\n",
    "            Acc += 0.5*(V_IN + V_OT)*(U_IN[d] - U_OT[d])*inp.Normal[d];\r\n",
    "        }\r\n",
    "        return Acc;\r\n",
    "    }\r\n",
    " \r\n",
    "    /// On the domain boundary, we have to distinguish between \r\n",
    "    /// Dirichlet- and Neumann-boundary conditions; the function\r\n",
    "    /// \\code{uDiri} defines which of the two actually applies:\r\n",
    "    public double BoundaryEdgeForm(ref CommonParamsBnd inp, \r\n",
    "        double[] U_IN, double[,] GradU_IN, double V_IN, double[] GradV_OT) {\r\n",
    " \r\n",
    "        double Acc = 0;\r\n",
    " \r\n",
    "        if(!BndyMap.IsDirichletBndy(inp.X)) {\r\n",
    "            // On the Neumann boundary, we do not know an outer value for the\r\n",
    "            // velocity, so there is no penalization at all:\r\n",
    "            Acc = 0;    \r\n",
    "        } else {\r\n",
    "            // On the Dirichlet boundary, the outer value for the velocity\r\n",
    "            // is given by the function/delegate 'UDiri':\r\n",
    "            double[] UD = BndyMap.UDiri(inp.X);\r\n",
    "            for(int d = 0; d < inp.D; d++) {\r\n",
    "                Acc += (U_IN[d] - UD[d])*inp.Normal[d]*V_IN;\r\n",
    "            }\r\n",
    "        }\r\n",
    "        return Acc;\r\n",
    "    }\r\n",
    "}"
   ],
   "outputs": [],
   "metadata": {
    "dotnet_interactive": {
     "language": "csharp"
    }
   }
  },
  {
   "cell_type": "markdown",
   "source": [
    "\r\n",
    "# 2 The gradient-operator\r\n",
    "\r\n",
    "We use the variational formulation of the gradient operator, as it is explained in the section concerning the **Poisson System**"
   ],
   "metadata": {}
  },
  {
   "cell_type": "code",
   "execution_count": null,
   "source": [
    "\r\n",
    "class Gradient_d :\r\n",
    "        BoSSS.Foundation.IEdgeForm, // edge integrals\r\n",
    "        BoSSS.Foundation.IVolumeForm     // volume integrals\r\n",
    "{\r\n",
    "    public Gradient_d(int _d) {\r\n",
    "        this.d = _d;\r\n",
    "    }\r\n",
    " \r\n",
    "    /// The component index of the gradient:\r\n",
    "    int d;\r\n",
    " \r\n",
    "    /// As usual, we do not use parameters:\r\n",
    "    public IList<string> ParameterOrdering { \r\n",
    "        get { return null; } \r\n",
    "    }\r\n",
    " \r\n",
    "    /// We have one argument, the pressure $\\psi$:\r\n",
    "    public IList<String> ArgumentOrdering { \r\n",
    "        get { return new string[] { \"psi\" }; } \r\n",
    "    }\r\n",
    " \r\n",
    "    public TermActivationFlags VolTerms {\r\n",
    "        get { return TermActivationFlags.AllOn; }\r\n",
    "    }\r\n",
    " \r\n",
    "    public TermActivationFlags InnerEdgeTerms {\r\n",
    "        get { return (TermActivationFlags.AllOn); }\r\n",
    "    }\r\n",
    " \r\n",
    "    public TermActivationFlags BoundaryEdgeTerms {\r\n",
    "       get { return TermActivationFlags.AllOn; }\r\n",
    "    }\r\n",
    " \r\n",
    "    /// The volume integrand, for a vector-valued test-function $\\vec{v}$\r\n",
    "    /// would be $-\\operatorname{div}{\\vec{v}} \\psi$. Our test function $v$\r\n",
    "    /// is scalar-valued, so e.g. for $\\code{d} = 0$ we have\r\n",
    "    /// $\\vec{v} = (v,0)$. In this case, our volume integrand reduces as \r\n",
    "    /// $-\\operatorname{div}{\\vec{v}} \\psi = -\\partial_x v \\psi$:\r\n",
    "    public double VolumeForm(ref CommonParamsVol cpv, \r\n",
    "           double[] Psi, double[,] GradPsi, \r\n",
    "           double V, double[] GradV) {\r\n",
    " \r\n",
    "        double Acc = 0;\r\n",
    "        Acc -= Psi[0]*GradV[d];\r\n",
    "        return Acc;\r\n",
    "    }        \r\n",
    " \r\n",
    "    /// On interior cell edges, we simply use a central-difference flux.\r\n",
    "    /// Again, we consider a scalar test function, so we have\r\n",
    "    /// $ \\jump{\\psi} \\vec{v} \\cdot \\vec{n} = \\jump{\\psi} v n_d $,\r\n",
    "    /// where $n_d$ is the $d$--th component of $\\vec{n}$:\r\n",
    "    public double InnerEdgeForm(ref CommonParams inp, \r\n",
    "        double[] Psi_IN, double[] Psi_OT, \r\n",
    "        double[,] GradPsi_IN, double[,] GradPsi_OT, \r\n",
    "        double V_IN, double V_OT, double[] GradV_IN, double[] GradV_OT) {\r\n",
    " \r\n",
    "        double Acc = 0;\r\n",
    "        Acc += 0.5*(Psi_IN[0] + Psi_OT[0])*inp.Normal[this.d]*(V_IN - V_OT);\r\n",
    "        return Acc;  \r\n",
    "     }\r\n",
    " \r\n",
    "    public double BoundaryEdgeForm(ref CommonParamsBnd inp, \r\n",
    "        double[] Psi_IN, double[,] GradPsi_IN, double V_IN, double[] GradV_OT) {\r\n",
    " \r\n",
    "        double Acc = 0;\r\n",
    "        if(!BndyMap.IsDirichletBndy(inp.X)) {\r\n",
    "            // On the Neumann boundary, we want the total stress to be zero,\r\n",
    "            // so there is no contribution from the pressure:\r\n",
    "            Acc = 0;\r\n",
    "        } else {\r\n",
    "            // On the Dirichlet boundary, we do not know an outer value for \r\n",
    "            // the pressure, so we have to take the inner value:\r\n",
    "            Acc += Psi_IN[0]*inp.Normal[this.d]*V_IN;\r\n",
    "        }        \r\n",
    "        return Acc;              \r\n",
    "    }\r\n",
    "}"
   ],
   "outputs": [],
   "metadata": {
    "dotnet_interactive": {
     "language": "csharp"
    }
   }
  },
  {
   "cell_type": "markdown",
   "source": [
    "\r\n",
    "# 3 Tests on pressure gradient and velocity divergence\r\n",
    "\r\n",
    "If our implementation is correct, we created a discretization of \r\n",
    ">$$\r\n",
    "> \\left[ \\begin{array}{cc}\r\n",
    ">    0                 & \\nabla \\\\\r\n",
    ">  -\\operatorname{div} & 0      \\\\\r\n",
    "> \\end{array} \\right]\r\n",
    ">$$\r\n",
    "so the matrix should have the form \r\n",
    ">$$\r\n",
    "> \\left[ \\begin{array}{cc}\r\n",
    ">    0     & B      \\\\\r\n",
    ">    B^T   & 0      \\\\\r\n",
    "> \\end{array} \\right]\r\n",
    "> =: M,\r\n",
    ">$$\r\n",
    "i.e. $M$ should be symmetric.\r\n",
    "We are testing this using a channel flow configuration:\r\n",
    ">$$\r\n",
    ">    \\Omega    :=  (0,10) \\times (-1,1) , $$ \r\n",
    "> $$   \\Gamma_N  :=  \\{ (x,y) | \\ x = 10 \\} , $$\r\n",
    "> $$   \\Gamma_D  :=  \\delta \\Omega \\setminus \\Gamma_D , $$\r\n",
    "> $$   \\vec{u}_D :=  (1 - y^2, 0), \r\n",
    ">$$\r\n",
    "using an equidistant grid."
   ],
   "metadata": {
    "dotnet_interactive": {
     "language": "csharp"
    }
   }
  },
  {
   "cell_type": "markdown",
   "source": [
    "We create a grid, a DG basis for velocity and pressure \r\n",
    "and a variable mapping:"
   ],
   "metadata": {
    "dotnet_interactive": {
     "language": "csharp"
    }
   }
  },
  {
   "cell_type": "code",
   "execution_count": null,
   "source": [
    "\r\n",
    "var xNodesChannel = GenericBlas.Linspace(0,10,31);// 30 cells in x-direction\r\n",
    "var yNodesChannel = GenericBlas.Linspace(-1,1,7); // 6 cells in y-direction\r\n",
    "var grdChannel    = Grid2D.Cartesian2DGrid(xNodesChannel,yNodesChannel);\r\n",
    "var VelBChannel   = new Basis(grdChannel, 2);  // velocity basis\r\n",
    "var PsiBChannel   = new Basis(grdChannel, 1);  // pressure basis \r\n",
    "var varMapChannel = new UnsetteledCoordinateMapping(\r\n",
    "                       VelBChannel,VelBChannel,PsiBChannel); // variable mapping"
   ],
   "outputs": [],
   "metadata": {
    "dotnet_interactive": {
     "language": "csharp"
    }
   }
  },
  {
   "cell_type": "markdown",
   "source": [
    "We specify the boundary conditions as delegates:"
   ],
   "metadata": {}
  },
  {
   "cell_type": "code",
   "execution_count": null,
   "source": [
    "\r\n",
    "Func<double[],bool> IsDirichletBndy_Channel \r\n",
    "        = (X => Math.Abs(X[0] - 10) > 1.0e-10); // its Dirichlet, if x != 10\r\n",
    "Func<double[],double[]> UDiri_Channel \r\n",
    "        = (X => new double[2] { 1.0 - X[1]*X[1], 0});"
   ],
   "outputs": [],
   "metadata": {
    "dotnet_interactive": {
     "language": "csharp"
    }
   }
  },
  {
   "cell_type": "markdown",
   "source": [
    "Let's create the operator which contains only the pressure gradient\r\n",
    "and velocity divergence:"
   ],
   "metadata": {}
  },
  {
   "cell_type": "code",
   "execution_count": null,
   "source": [
    "\r\n",
    "SpatialOperator GradDiv = new SpatialOperator(3,3, // 3 vars. in dom. & codom.\r\n",
    "                           QuadOrderFunc.Linear(), // linear operator\r\n",
    "                           \"u\", \"v\", \"psi\",  // names of domain variables\r\n",
    "                           \"mom_x\", \"mom_y\", \"conti\"); // names of codom. vars\r\n",
    "GradDiv.EquationComponents[\"mom_x\"].Add(new Gradient_d(0)); \r\n",
    "GradDiv.EquationComponents[\"mom_y\"].Add(new Gradient_d(1)); \r\n",
    "GradDiv.EquationComponents[\"conti\"].Add(new Divergence());\r\n",
    "GradDiv.Commit();"
   ],
   "outputs": [],
   "metadata": {
    "dotnet_interactive": {
     "language": "csharp"
    }
   }
  },
  {
   "cell_type": "markdown",
   "source": [
    "We create the matrix of the **GradDiv**-operator for \r\n",
    "the channel configuration. Before that, we have to set values for the \r\n",
    "global **IsDirichletBndy** and **UDiri**-variables."
   ],
   "metadata": {}
  },
  {
   "cell_type": "code",
   "execution_count": null,
   "source": [
    "\r\n",
    "BndyMap. IsDirichletBndy  = IsDirichletBndy_Channel;\r\n",
    "BndyMap.UDiri             = UDiri_Channel;\r\n",
    "var GradDivMatrix_Channel = GradDiv.ComputeMatrix(varMapChannel,\r\n",
    "                                                  null,\r\n",
    "                                                  varMapChannel);"
   ],
   "outputs": [],
   "metadata": {
    "dotnet_interactive": {
     "language": "csharp"
    }
   }
  },
  {
   "cell_type": "markdown",
   "source": [
    "Finally, we can test the symmetry of the matrix:"
   ],
   "metadata": {}
  },
  {
   "cell_type": "code",
   "execution_count": null,
   "source": [
    "\r\n",
    "var ErrMtx = GradDivMatrix_Channel - GradDivMatrix_Channel.Transpose();\r\n",
    "ErrMtx.InfNorm();"
   ],
   "outputs": [],
   "metadata": {
    "dotnet_interactive": {
     "language": "csharp"
    }
   }
  },
  {
   "cell_type": "code",
   "execution_count": null,
   "source": [
    "/// NUnit test (few random tests) BoSSScmdSilent\r\n",
    "Assert.LessOrEqual(ErrMtx.InfNorm(), 1e-12);"
   ],
   "outputs": [],
   "metadata": {
    "dotnet_interactive": {
     "language": "csharp"
    }
   }
  },
  {
   "cell_type": "markdown",
   "source": [
    "\r\n",
    "# 4 Adding the viscous operator, forming the Stokes operator\r\n"
   ],
   "metadata": {
    "dotnet_interactive": {
     "language": "csharp"
    }
   }
  },
  {
   "cell_type": "markdown",
   "source": [
    "We use the SIP-operator from chapter **SIP** to model the viscous terms:"
   ],
   "metadata": {}
  },
  {
   "cell_type": "code",
   "execution_count": null,
   "source": [
    "\r\n",
    "public class Viscous : \r\n",
    "        IEdgeForm,   // edge integrals\r\n",
    "        IVolumeForm, // volume integrals\r\n",
    "        IEquationComponentCoefficient // update of coefficients required for penalty parameters \r\n",
    "{\r\n",
    "    /// The velocity component:\r\n",
    "    int d;\r\n",
    " \r\n",
    "    public Viscous(int _d) {\r\n",
    "        this.d = _d;    \r\n",
    "    }\r\n",
    " \r\n",
    "    /// We implement Reynolds number and the polynomial degree, \r\n",
    "    /// as well as the cell-wise length scales (required for \r\n",
    "    /// the computation of the penalty factor) as global, static variables.\r\n",
    "    public static double Re;\r\n",
    "   \r\n",
    "\r\n",
    " \r\n",
    "    /// We do not use parameters:\r\n",
    "    public IList<string> ParameterOrdering { \r\n",
    "        get { return new string[0]; } \r\n",
    "    }\r\n",
    " \r\n",
    "    /// Depending on \\code{d}, the argument variable\r\n",
    "    /// should be either $u$ or $v$:\r\n",
    "    public IList<String> ArgumentOrdering { \r\n",
    "        get { \r\n",
    "            switch(d) {\r\n",
    "                case 0  : return new string[] { \"u\" }; \r\n",
    "                case 1  : return new string[] { \"v\" }; \r\n",
    "                default : throw new Exception();\r\n",
    "            }\r\n",
    "        } \r\n",
    "    }\r\n",
    " \r\n",
    "    /// The \\code{TermActivationFlags}, as usual:\r\n",
    "    public TermActivationFlags VolTerms {\r\n",
    "        get {\r\n",
    "            return TermActivationFlags.GradUxGradV;\r\n",
    "        }\r\n",
    "    }\r\n",
    " \r\n",
    "    public TermActivationFlags InnerEdgeTerms {\r\n",
    "        get {\r\n",
    "            return TermActivationFlags.AllOn;\r\n",
    "        }\r\n",
    "    }\r\n",
    " \r\n",
    "    public TermActivationFlags BoundaryEdgeTerms {\r\n",
    "       get {\r\n",
    "           return TermActivationFlags.AllOn;\r\n",
    "        }\r\n",
    "    }\r\n",
    " \r\n",
    "    /// The integrand for the volume integral:\r\n",
    "    public double VolumeForm(ref CommonParamsVol cpv, \r\n",
    "           double[] U, double[,] GradU,\r\n",
    "           double V, double[] GradV) {               \r\n",
    "        double acc = 0;\r\n",
    "        for(int d = 0; d < cpv.D; d++)\r\n",
    "            acc += GradU[0, d] * GradV[d];\r\n",
    "        return (1/Re)*acc;\r\n",
    "    }\r\n",
    " \r\n",
    " \r\n",
    "    /// The integrand for the integral on the inner edges:\r\n",
    "    public double InnerEdgeForm(ref CommonParams inp, \r\n",
    "        double[] U_IN, double[] U_OT, double[,] GradU_IN, double[,] GradU_OT, \r\n",
    "        double V_IN, double V_OT, double[] GradV_IN, double[] GradV_OT) {\r\n",
    " \r\n",
    "        double eta = PenaltyFactor(inp.jCellIn, inp.jCellOut);\r\n",
    " \r\n",
    "        double Acc = 0.0;\r\n",
    "        for(int d = 0; d < inp.D; d++) { // loop over vector components \r\n",
    "            // consistency term: -({{ \\/u }} [[ v ]])*Normal\r\n",
    "            // index d: spatial direction\r\n",
    "            Acc -= 0.5 * (GradU_IN[0, d] + GradU_OT[0, d])*(V_IN - V_OT)\r\n",
    "                       * inp.Normal[d];\r\n",
    " \r\n",
    "            // the symmetry term -({{ \\/v }} [[ u ]])*Normal\r\n",
    "            Acc -= 0.5 * (GradV_IN[d] + GradV_OT[d])*(U_IN[0] - U_OT[0])\r\n",
    "                       * inp.Normal[d];;\r\n",
    "        }\r\n",
    " \r\n",
    "        // the penalty term eta*[[u]]*[[v]]\r\n",
    "        Acc += eta*(U_IN[0] - U_OT[0])*(V_IN - V_OT);\r\n",
    "        return (1/Re)*Acc;\r\n",
    " \r\n",
    "    }\r\n",
    " \r\n",
    "    /// The integrand on boundary edges, i.e. on $\\partial \\Omega$:\r\n",
    "    public double BoundaryEdgeForm(ref CommonParamsBnd inp, \r\n",
    "        double[] U_IN, double[,] GradU_IN, double V_IN, double[] GradV_IN) {\r\n",
    " \r\n",
    " \r\n",
    "        double Acc = 0.0;\r\n",
    " \r\n",
    "        if(!BndyMap.IsDirichletBndy(inp.X)) {\r\n",
    "            // Neumann boundary conditions, i.e. zero-stress:\r\n",
    "            Acc = 0;\r\n",
    "        } else {\r\n",
    "            // Dirichlet boundary conditions\r\n",
    "            double uBnd = BndyMap.UDiri(inp.X)[d];\r\n",
    " \r\n",
    "            for(int d = 0; d < inp.D; d++) { // loop over vector components \r\n",
    "                // consistency term:\r\n",
    "                Acc -= (GradU_IN[0, d])*(V_IN) * inp.Normal[d];\r\n",
    "                // symmetry term:\r\n",
    "                Acc -= (GradV_IN[d])*(U_IN[0]- uBnd) * inp.Normal[d];\r\n",
    "            }\r\n",
    " \r\n",
    "            // penalty term\r\n",
    "            double eta = PenaltyFactor(inp.jCellIn, -1);\r\n",
    "            Acc += eta*(U_IN[0] - uBnd)*(V_IN);\r\n",
    "        }\r\n",
    " \r\n",
    "        return (1/Re)*Acc;\r\n",
    "    }\r\n",
    "            \r\n",
    "    MultidimensionalArray cj;\r\n",
    "    double penalty_base;\r\n",
    "            \r\n",
    "    double PenaltyFactor(int jCellIn, int jCellOut) {\r\n",
    "        double PenaltySafety = 2;\r\n",
    "        double cj_in         = cj[jCellIn];\r\n",
    "        double eta           = penalty_base * cj_in * PenaltySafety;\r\n",
    "        if(jCellOut >= 0) {\r\n",
    "            double cj_out = cj[jCellOut];\r\n",
    "            eta           = Math.Max(eta, penalty_base * cj_out * PenaltySafety);\r\n",
    "        }\r\n",
    "        return eta;\r\n",
    "    }\r\n",
    "            \r\n",
    "            \r\n",
    "    /// Update of penalty length scales.\r\n",
    "    public void CoefficientUpdate(CoefficientSet cs, int[] DomainDGdeg, int TestDGdeg) {\r\n",
    "        int D = cs.GrdDat.SpatialDimension;\r\n",
    "        double _D = D;\r\n",
    "        double _p = DomainDGdeg.Max();\r\n",
    "\r\n",
    "        double penalty_deg_tri = (_p + 1) * (_p + _D) / _D; // formula for triangles/tetras\r\n",
    "        double penalty_deg_sqr = (_p + 1.0) * (_p + 1.0); // formula for squares/cubes\r\n",
    "\r\n",
    "        penalty_base = Math.Max(penalty_deg_tri, penalty_deg_sqr); // the conservative choice\r\n",
    "\r\n",
    "        cj = ((GridData)(cs.GrdDat)).Cells.cj;\r\n",
    "    }\r\n",
    "}"
   ],
   "outputs": [
    {
     "output_type": "stream",
     "name": "stderr",
     "text": [
      "\r\n",
      "(17,26): warning CS0649: Field 'Viscous.Re' is never assigned to, and will always have its default value 0\r\n",
      "\r\n"
     ]
    }
   ],
   "metadata": {
    "dotnet_interactive": {
     "language": "csharp"
    }
   }
  },
  {
   "cell_type": "markdown",
   "source": [
    "Finally, we are ready to implement the Stokes operator:"
   ],
   "metadata": {}
  },
  {
   "cell_type": "code",
   "execution_count": null,
   "source": [
    "\r\n",
    "SpatialOperator Stokes = new SpatialOperator(3,3, // 3 vars. in dom. & codom.\r\n",
    "                         QuadOrderFunc.Linear(), // linear operator\r\n",
    "                         \"u\", \"v\", \"psi\",  // names of domain variables\r\n",
    "                         \"mom_x\", \"mom_y\", \"conti\"); // names of codom. vars\r\n",
    "Stokes.EquationComponents[\"mom_x\"].Add(new Gradient_d(0)); \r\n",
    "Stokes.EquationComponents[\"mom_x\"].Add(new Viscous(0)); \r\n",
    "Stokes.EquationComponents[\"mom_y\"].Add(new Gradient_d(1)); \r\n",
    "Stokes.EquationComponents[\"mom_y\"].Add(new Viscous(1));\r\n",
    "Stokes.EquationComponents[\"conti\"].Add(new Divergence());\r\n",
    "Stokes.Commit();"
   ],
   "outputs": [],
   "metadata": {
    "dotnet_interactive": {
     "language": "csharp"
    }
   }
  },
  {
   "cell_type": "markdown",
   "source": [
    "Again, we create the matrix (now, for the Stokes operator) and check its\r\n",
    "symmetry; \r\n",
    "\r\n",
    "we also have to set the Reynolds number and the polynomial\r\n",
    "degree **before** calling **ComputeMatrix** (since we are doing a\r\n",
    "rather dirty trick by using global variables)."
   ],
   "metadata": {}
  },
  {
   "cell_type": "code",
   "execution_count": null,
   "source": [
    "\r\n",
    "BndyMap.IsDirichletBndy  = IsDirichletBndy_Channel;\r\n",
    "BndyMap.UDiri            = UDiri_Channel;\r\n",
    "Viscous.Re               = 20.0;\r\n",
    "var StokesMatrix_Channel = Stokes.ComputeMatrix(varMapChannel,\r\n",
    "                                                null,\r\n",
    "                                                varMapChannel);"
   ],
   "outputs": [],
   "metadata": {
    "dotnet_interactive": {
     "language": "csharp"
    }
   }
  },
  {
   "cell_type": "markdown",
   "source": [
    "Testing the symmetry:"
   ],
   "metadata": {}
  },
  {
   "cell_type": "code",
   "execution_count": null,
   "source": [
    "\r\n",
    "var ErrMtx1 = StokesMatrix_Channel - StokesMatrix_Channel.Transpose();\r\n",
    "ErrMtx1.InfNorm()"
   ],
   "outputs": [
    {
     "output_type": "execute_result",
     "data": {
      "text/html": [
       "<div class=\"dni-plaintext\">1.5459855617905305E-14</div>"
      ]
     },
     "metadata": {},
     "execution_count": 29
    }
   ],
   "metadata": {
    "dotnet_interactive": {
     "language": "csharp"
    }
   }
  },
  {
   "cell_type": "code",
   "execution_count": null,
   "source": [
    "/// NUnit test (few random tests) BoSSScmdSilent\r\n",
    "Assert.LessOrEqual(ErrMtx1.InfNorm(), 1e-12);"
   ],
   "outputs": [],
   "metadata": {
    "dotnet_interactive": {
     "language": "csharp"
    }
   }
  },
  {
   "cell_type": "markdown",
   "source": [
    "We also verify that our Stokes-matrix has full rank, i.e. we show that \r\n",
    "matrix size and rank are equal:"
   ],
   "metadata": {}
  },
  {
   "cell_type": "code",
   "execution_count": null,
   "source": [
    "StokesMatrix_Channel.NoOfRows"
   ],
   "outputs": [
    {
     "output_type": "execute_result",
     "data": {
      "text/html": [
       "<div class=\"dni-plaintext\">2700</div>"
      ]
     },
     "metadata": {},
     "execution_count": 32
    }
   ],
   "metadata": {
    "dotnet_interactive": {
     "language": "csharp"
    }
   }
  },
  {
   "cell_type": "code",
   "execution_count": null,
   "source": [
    "StokesMatrix_Channel.rank()"
   ],
   "outputs": [
    {
     "output_type": "execute_result",
     "data": {
      "text/html": [
       "<div class=\"dni-plaintext\">2700</div>"
      ]
     },
     "metadata": {},
     "execution_count": 33
    }
   ],
   "metadata": {
    "dotnet_interactive": {
     "language": "csharp"
    }
   }
  },
  {
   "cell_type": "code",
   "execution_count": null,
   "source": [
    "/// NUnit test (few random tests) BoSSScmdSilent\r\n",
    "Assert.AreEqual(StokesMatrix_Channel.rank(), StokesMatrix_Channel.NoOfRows);"
   ],
   "outputs": [],
   "metadata": {
    "dotnet_interactive": {
     "language": "csharp"
    }
   }
  },
  {
   "cell_type": "markdown",
   "source": [
    "# 5 Solving the Stokes equation in the channel\r\n",
    "\r\n",
    "We set the parameters and see whether we actually obtain the correct \r\n",
    "solution; the exact solution of our problem is obviously\r\n",
    ">$$  \\vec{u}_{\\text{ex}} =  (1 - y^2, 0 ), $$\r\n",
    ">$$   \\psi_{\\text{ex}}    =  \\frac{200}{\\text{Re}} - x \\frac{2}{\\text{Re}} $$\r\n",
    "\r\n",
    "and since it is polynomial we should be able to obtain it \r\n",
    "\\emph{exactly} in our velocity-pressure-space of degrees $(2,1)$."
   ],
   "metadata": {
    "dotnet_interactive": {
     "language": "csharp"
    }
   }
  },
  {
   "cell_type": "code",
   "execution_count": null,
   "source": [
    "\r\n",
    "BndyMap.IsDirichletBndy  = IsDirichletBndy_Channel;\r\n",
    "BndyMap.UDiri            = UDiri_Channel;\r\n",
    "Viscous.Re               = 20.0;\r\n",
    "var StokesMatrix_Channel = Stokes.ComputeMatrix(varMapChannel,\r\n",
    "                                                null,\r\n",
    "                                                varMapChannel);\r\n",
    "var StokesAffine_Channel = Stokes.ComputeAffine(varMapChannel,\r\n",
    "                                                null,\r\n",
    "                                                varMapChannel);"
   ],
   "outputs": [],
   "metadata": {
    "dotnet_interactive": {
     "language": "csharp"
    }
   }
  },
  {
   "cell_type": "markdown",
   "source": [
    "Now, we are ready to solve the stokes equation. \\BoSSS\\ provides us with\r\n",
    "a system \r\n",
    "$$\r\n",
    "  \\textbf{StokesMatrix\\_Channel} \\cdot (u,v,\\psi) \r\n",
    "  + \\textbf{StokesAffine\\_Channel} = 0,\r\n",
    "$$\r\n",
    "so we have to multiply **StokesAffine\\_Channel** with $-1$ to get a \r\n",
    "right-hand-side."
   ],
   "metadata": {}
  },
  {
   "cell_type": "code",
   "execution_count": null,
   "source": [
    "\r\n",
    "double[] RHS = StokesAffine_Channel.CloneAs();\r\n",
    "RHS.ScaleV(-1.0);"
   ],
   "outputs": [],
   "metadata": {
    "dotnet_interactive": {
     "language": "csharp"
    }
   }
  },
  {
   "cell_type": "markdown",
   "source": [
    "In order to store our solution, we have to create DG fields:"
   ],
   "metadata": {}
  },
  {
   "cell_type": "code",
   "execution_count": null,
   "source": [
    "\r\n",
    "SinglePhaseField u               = new SinglePhaseField(VelBChannel,\"u\");\r\n",
    "SinglePhaseField v               = new SinglePhaseField(VelBChannel,\"v\");\r\n",
    "SinglePhaseField psi             = new SinglePhaseField(PsiBChannel,\"psi\");\r\n",
    "CoordinateVector SolutionChannel = new CoordinateVector(u,v,psi);"
   ],
   "outputs": [],
   "metadata": {
    "dotnet_interactive": {
     "language": "csharp"
    }
   }
  },
  {
   "cell_type": "markdown",
   "source": [
    "Solve the linear system using a direct method:"
   ],
   "metadata": {}
  },
  {
   "cell_type": "code",
   "execution_count": null,
   "source": [
    "\r\n",
    "StokesMatrix_Channel.Solve_Direct(SolutionChannel, RHS);"
   ],
   "outputs": [],
   "metadata": {
    "dotnet_interactive": {
     "language": "csharp"
    }
   }
  },
  {
   "cell_type": "markdown",
   "source": [
    "We export the solution to a Tecplot file:\r\n",
    "cplot(\"Channel\", 0.0, 3, u, v, psi);\r\n",
    "\\emph{TODO}: Use Visit (or any other visualization software)\r\n",
    "to inspect the soluti\r\n",
    "# 6 Advanced topics\r\n",
    "## Stokes flow behind a grid\r\n",
    "\r\n",
    "We use the following setting:\r\n",
    "\r\n",
    ">$$    \\Omega    :=  (0,5) \\times (-2,2) $$ \r\n",
    ">$$    \\Gamma_N  :=  \\{ (x,y) | \\ x = 5 \\} ,$$ \r\n",
    ">$$    \\Gamma_D  :=  \\partial \\Omega \\setminus \\Gamma_D , $$ \r\n",
    ">$$    \\vec{u}_D :=  (1 - (2 (y - \\operatorname{floor}(y)) - 1)^2, 0), $$ \r\n",
    "\r\n",
    "So, the boundary functions are:"
   ],
   "metadata": {}
  },
  {
   "cell_type": "code",
   "execution_count": null,
   "source": [
    "\r\n",
    "Func<double[],bool> IsDirichletBndy_GridFlow \r\n",
    "        = (X => Math.Abs(X[0] - 5) > 1.0e-10); \r\n",
    "Func<double[],double[]> UDiri_GridFlow \r\n",
    "        = (X => new double[2] { 1.0 - (2*(X[1] - Math.Floor(X[1])) - 1).Pow2(),\r\n",
    "                                0});"
   ],
   "outputs": [],
   "metadata": {
    "dotnet_interactive": {
     "language": "csharp"
    }
   }
  },
  {
   "cell_type": "markdown",
   "source": [
    "# TODO: \r\n",
    "the rest is for you! One hint: in $y$-direction, use some \r\n",
    "spacing so that you have cell boundaries at (least at) $y \\in \\{ -1, 0, 1 \\}$."
   ],
   "metadata": {
    "dotnet_interactive": {
     "language": "csharp"
    }
   }
  }
 ],
 "metadata": {
  "kernelspec": {
   "display_name": ".NET (C#)",
   "language": "C#",
   "name": ".net-csharp"
  },
  "language_info": {
   "file_extension": ".cs",
   "mimetype": "text/x-csharp",
   "name": "C#",
   "pygments_lexer": "csharp",
   "version": "8.0"
  }
 },
 "nbformat": 4,
 "nbformat_minor": 4
}