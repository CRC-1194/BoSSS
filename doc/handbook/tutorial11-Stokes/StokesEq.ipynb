{
 "cells": [
  {
   "cell_type": "code",
   "execution_count": 1,
   "metadata": {
    "dotnet_interactive": {
     "language": "csharp"
    }
   },
   "outputs": [
    {
     "data": {
      "text/html": [
       "\r\n",
       "<div>\r\n",
       "    <div id='dotnet-interactive-this-cell-8360.Microsoft.DotNet.Interactive.Http.HttpPort' style='display: none'>\r\n",
       "        The below script needs to be able to find the current output cell; this is an easy method to get it.\r\n",
       "    </div>\r\n",
       "    <script type='text/javascript'>\r\n",
       "async function probeAddresses(probingAddresses) {\r\n",
       "    function timeout(ms, promise) {\r\n",
       "        return new Promise(function (resolve, reject) {\r\n",
       "            setTimeout(function () {\r\n",
       "                reject(new Error('timeout'))\r\n",
       "            }, ms)\r\n",
       "            promise.then(resolve, reject)\r\n",
       "        })\r\n",
       "    }\r\n",
       "\r\n",
       "    if (Array.isArray(probingAddresses)) {\r\n",
       "        for (let i = 0; i < probingAddresses.length; i++) {\r\n",
       "\r\n",
       "            let rootUrl = probingAddresses[i];\r\n",
       "\r\n",
       "            if (!rootUrl.endsWith('/')) {\r\n",
       "                rootUrl = `${rootUrl}/`;\r\n",
       "            }\r\n",
       "\r\n",
       "            try {\r\n",
       "                let response = await timeout(1000, fetch(`${rootUrl}discovery`, {\r\n",
       "                    method: 'POST',\r\n",
       "                    cache: 'no-cache',\r\n",
       "                    mode: 'cors',\r\n",
       "                    timeout: 1000,\r\n",
       "                    headers: {\r\n",
       "                        'Content-Type': 'text/plain'\r\n",
       "                    },\r\n",
       "                    body: probingAddresses[i]\r\n",
       "                }));\r\n",
       "\r\n",
       "                if (response.status == 200) {\r\n",
       "                    return rootUrl;\r\n",
       "                }\r\n",
       "            }\r\n",
       "            catch (e) { }\r\n",
       "        }\r\n",
       "    }\r\n",
       "}\r\n",
       "\r\n",
       "function loadDotnetInteractiveApi() {\r\n",
       "    probeAddresses([\"http://192.168.21.33:1000/\", \"http://192.168.56.1:1000/\", \"http://169.254.241.121:1000/\", \"http://192.168.178.23:1000/\", \"http://127.0.0.1:1000/\"])\r\n",
       "        .then((root) => {\r\n",
       "        // use probing to find host url and api resources\r\n",
       "        // load interactive helpers and language services\r\n",
       "        let dotnetInteractiveRequire = require.config({\r\n",
       "        context: '8360.Microsoft.DotNet.Interactive.Http.HttpPort',\r\n",
       "                paths:\r\n",
       "            {\r\n",
       "                'dotnet-interactive': `${root}resources`\r\n",
       "                }\r\n",
       "        }) || require;\r\n",
       "\r\n",
       "            window.dotnetInteractiveRequire = dotnetInteractiveRequire;\r\n",
       "\r\n",
       "            window.configureRequireFromExtension = function(extensionName, extensionCacheBuster) {\r\n",
       "                let paths = {};\r\n",
       "                paths[extensionName] = `${root}extensions/${extensionName}/resources/`;\r\n",
       "                \r\n",
       "                let internalRequire = require.config({\r\n",
       "                    context: extensionCacheBuster,\r\n",
       "                    paths: paths,\r\n",
       "                    urlArgs: `cacheBuster=${extensionCacheBuster}`\r\n",
       "                    }) || require;\r\n",
       "\r\n",
       "                return internalRequire\r\n",
       "            };\r\n",
       "        \r\n",
       "            dotnetInteractiveRequire([\r\n",
       "                    'dotnet-interactive/dotnet-interactive'\r\n",
       "                ],\r\n",
       "                function (dotnet) {\r\n",
       "                    dotnet.init(window);\r\n",
       "                },\r\n",
       "                function (error) {\r\n",
       "                    console.log(error);\r\n",
       "                }\r\n",
       "            );\r\n",
       "        })\r\n",
       "        .catch(error => {console.log(error);});\r\n",
       "    }\r\n",
       "\r\n",
       "// ensure `require` is available globally\r\n",
       "if ((typeof(require) !==  typeof(Function)) || (typeof(require.config) !== typeof(Function))) {\r\n",
       "    let require_script = document.createElement('script');\r\n",
       "    require_script.setAttribute('src', 'https://cdnjs.cloudflare.com/ajax/libs/require.js/2.3.6/require.min.js');\r\n",
       "    require_script.setAttribute('type', 'text/javascript');\r\n",
       "    \r\n",
       "    \r\n",
       "    require_script.onload = function() {\r\n",
       "        loadDotnetInteractiveApi();\r\n",
       "    };\r\n",
       "\r\n",
       "    document.getElementsByTagName('head')[0].appendChild(require_script);\r\n",
       "}\r\n",
       "else {\r\n",
       "    loadDotnetInteractiveApi();\r\n",
       "}\r\n",
       "\r\n",
       "    </script>\r\n",
       "</div>"
      ]
     },
     "metadata": {},
     "output_type": "display_data"
    }
   ],
   "source": [
    "/// \\label{chap:stokesEquation}\n",
    "/// \\section*{What's new?}\n",
    "/// \\label{sec:stokesEquation_new}\n",
    "/// \\begin{itemize}\n",
    "///     \\item {implementation of the incompressible, steady Stokes equation}\n",
    "///     \\item advanced: {implementation of the Stokes flow behind a grid as an application}\n",
    "/// \\end{itemize}\n",
    "///\n",
    "///\\section*{Prerequisites}\n",
    "///\\label{sec:stokesEquation_prereq}\n",
    "///\\begin{itemize}\n",
    "/// \\item implementation of numerical fluxes, chapter \\ref{NumFlux} \n",
    "/// \\item spatial operator, chapter \\ref{SpatialOperator}\n",
    "/// \\item implementation of the gradient operator, chapter \\ref{sec:PoissonAsASystem}\n",
    "/// \\item implementation of the SIP operator, chapter \\ref{sec:SIP}\n",
    "///\\end{itemize}\n",
    "    /// %==========================================\n",
    "    /// \\section{Problem statement}\n",
    "    /// %==========================================\n",
    "/// The Stokes-equation is given as\n",
    "/// \\begin{alignat*}{3}\n",
    "/// -\\frac{1}{\\reynolds} \\Delta \\vec{u}\n",
    "///     & + \\nabla \\psi\n",
    "///        & \\ & = \\vec{g}_\\domain\n",
    "/// \\\\ \n",
    "/// \\operatorname{div} (\\vec{u})\n",
    "///     &\n",
    "///        & \\ & = 0\n",
    "/// \\end{alignat*}\n",
    "/// We consider two types of boundary conditions for the Stokes equation,\n",
    "/// Dirichlet (on $\\Gamma_D$) and Neumman (on $\\Gamma_N$). Those are defined as\n",
    "/// \\begin{alignat*}{3}\n",
    "///         \\vec{u} & =\\vec{u}_D \n",
    "///         & \\ & \\text{ on } \\Gamma_D\\ \\text{ (Dirichlet)}, \\\\\n",
    "///         %\n",
    "///         \\left( -\\frac{1}{\\reynolds}\\ \\nabla  \\vec{u} +  \\one_p \\psi \\right) \n",
    "///                \\vec{n}_{\\partial \\domain}        & = 0 \n",
    "///         & \\ & \\text{ on } \\Gamma_N\\ \\text{ (Neumann) } .\n",
    "/// \\end{alignat*}\n",
    "/// %==========================================\n",
    "/// \\section{Solution within the BoSSS framework}\n",
    "/// %=========================================="
   ]
  },
  {
   "cell_type": "code",
   "execution_count": 2,
   "metadata": {
    "dotnet_interactive": {
     "language": "csharp"
    }
   },
   "outputs": [],
   "source": [
    "#r \"BoSSSpad.dll\"\n",
    "using System;\n",
    "using System.Collections.Generic;\n",
    "using System.Linq;\n",
    "using ilPSP;\n",
    "using ilPSP.Utils;\n",
    "using BoSSS.Platform;\n",
    "using BoSSS.Foundation;\n",
    "using BoSSS.Foundation.Grid;\n",
    "using BoSSS.Foundation.Grid.Classic;\n",
    "using BoSSS.Foundation.IO;\n",
    "using BoSSS.Solution;\n",
    "using BoSSS.Solution.Control;\n",
    "using BoSSS.Solution.GridImport;\n",
    "using BoSSS.Solution.Statistic;\n",
    "using BoSSS.Solution.Utils;\n",
    "using BoSSS.Solution.Gnuplot;\n",
    "using BoSSS.Application.BoSSSpad;\n",
    "using BoSSS.Application.XNSE_Solver;\n",
    "using static BoSSS.Application.BoSSSpad.BoSSSshell;\n",
    "Init();\n"
   ]
  },
  {
   "cell_type": "code",
   "execution_count": 3,
   "metadata": {
    "dotnet_interactive": {
     "language": "csharp"
    }
   },
   "outputs": [],
   "source": [
    "using ilPSP.LinSolvers;\n",
    "using BoSSS.Solution.Tecplot;\n",
    "using ilPSP.Connectors.Matlab;"
   ]
  },
  {
   "cell_type": "code",
   "execution_count": 4,
   "metadata": {
    "dotnet_interactive": {
     "language": "csharp"
    }
   },
   "outputs": [],
   "source": [
    "/// BoSSScmdSilent BoSSSexeSilent\n",
    "using NUnit.Framework;"
   ]
  },
  {
   "cell_type": "code",
   "execution_count": 5,
   "metadata": {
    "dotnet_interactive": {
     "language": "csharp"
    }
   },
   "outputs": [],
   "source": [
    "static class BndyMap { \n",
    "/// To inicate at which point of the boundary which condition is valid, \n",
    "/// i.e. wether a certain point is eiter Dirichlet or Neumann we\n",
    "/// define \n",
    "    public static Func<double[],bool> IsDirichletBndy = null;\n",
    "/// which defines a mapping \n",
    "/// \\[\n",
    "///    \\vec{x} \\mapsto \\{ \\code{true}, \\code{false} \\},\n",
    "/// \\]\n",
    "/// where \\code{true} actually indicates a Dirichlet boundary.\n",
    "/// Since this function is defined as a global delegate, it can be altered \n",
    "/// later on. In the same manner, the function\n",
    "    public static Func<double[],double[]> UDiri = null;\n",
    "/// defines the Dirichlet-value for the velocity at the boundary.\n",
    "}"
   ]
  },
  {
   "cell_type": "code",
   "execution_count": 6,
   "metadata": {
    "dotnet_interactive": {
     "language": "csharp"
    }
   },
   "outputs": [],
   "source": [
    "/// %==========================================\n",
    "/// \\subsection{Velocity divergence and pressure gradient}\n",
    "/// %=========================================="
   ]
  },
  {
   "cell_type": "code",
   "execution_count": 7,
   "metadata": {
    "dotnet_interactive": {
     "language": "csharp"
    }
   },
   "outputs": [],
   "source": [
    "/// At first, we implement the velocity divergence, i.e. \n",
    "/// the continuity equation. We use the strong form, i.e.\n",
    "/// \\[\n",
    "///    b(\\vec{u},v) = \n",
    "///    \\oint_{\\Gamma \\backslash \\Gamma_D} \n",
    "///           \\mean{v} \\jump{\\vec{u}} \\cdot \\vec{n}_\\Gamma \n",
    "///    \\dA \n",
    "///    -\n",
    "///    \\int_{\\domain} \\operatorname{div}(\\vec{u}) v \\dV.\n",
    "/// \\]\n",
    "public class Divergence : \n",
    "        BoSSS.Foundation.IEdgeForm, // edge integrals\n",
    "        BoSSS.Foundation.IVolumeForm     // volume integrals\n",
    "{\n",
    "    /// The parameter list for the divergence is empty:\n",
    "    public IList<string> ParameterOrdering { \n",
    "        get { return null; } \n",
    "    }\n",
    " \n",
    "    /// We have a vector argument variable, \n",
    "    /// the velocity $ [ u, v ] = \\vec{u} $\n",
    "    /// (our trial function):\n",
    "    public IList<String> ArgumentOrdering { \n",
    "        get { return new string[] { \"u\", \"v\" }; } \n",
    "    }\n",
    " \n",
    "    public TermActivationFlags VolTerms {\n",
    "        get {\n",
    "            return TermActivationFlags.AllOn;\n",
    "        }\n",
    "    }\n",
    " \n",
    "    public TermActivationFlags InnerEdgeTerms {\n",
    "        get {\n",
    "            return TermActivationFlags.AllOn; \n",
    "        }\n",
    "    }\n",
    " \n",
    "    public TermActivationFlags BoundaryEdgeTerms {\n",
    "       get {\n",
    "           return TermActivationFlags.AllOn;\n",
    "        }\n",
    "    }\n",
    " \n",
    "    /// In the volume part, the integrand is $\\operatorname{div}(\\vec{u}) v$:\n",
    "    public double VolumeForm(ref CommonParamsVol cpv, \n",
    "        double[] U, double[,] GradU, \n",
    "        double V, double[] GradV) {\n",
    "        double Acc = 0;\n",
    "        for(int d = 0; d < cpv.D; d++) {\n",
    "            Acc -= GradU[d,d]*V;\n",
    "        }\n",
    "        return Acc;\n",
    "    }\n",
    " \n",
    "    /// On interior cell boundaries, we use a \\emph{velocity penalty},\n",
    "    /// $\\mean{v} \\jump{\\vec{u}} \\cdot \\vec{n}_\\Gamma$:\n",
    "    public double InnerEdgeForm(ref CommonParams inp, \n",
    "        double[] U_IN, double[] U_OT, double[,] GradU_IN, double[,] GradU_OT, \n",
    "        double V_IN, double V_OT, double[] GradV_IN, double[] GradV_OT) {\n",
    " \n",
    "        double Acc = 0;\n",
    "        for(int d = 0; d < inp.D; d++) {\n",
    "            Acc += 0.5*(V_IN + V_OT)*(U_IN[d] - U_OT[d])*inp.Normal[d];\n",
    "        }\n",
    "        return Acc;\n",
    "    }\n",
    " \n",
    "    /// On the domain boundary, we have to distinguish between \n",
    "    /// Dirichlet- and Neumann-boundary conditions; the function\n",
    "    /// \\code{uDiri} defines which of the two actually applies:\n",
    "    public double BoundaryEdgeForm(ref CommonParamsBnd inp, \n",
    "        double[] U_IN, double[,] GradU_IN, double V_IN, double[] GradV_OT) {\n",
    " \n",
    "        double Acc = 0;\n",
    " \n",
    "        if(!BndyMap.IsDirichletBndy(inp.X)) {\n",
    "            // On the Neumann boundary, we do not know an outer value for the\n",
    "            // velocity, so there is no penalization at all:\n",
    "            Acc = 0;    \n",
    "        } else {\n",
    "            // On the Dirichlet boundary, the outer value for the velocity\n",
    "            // is given by the function/delegate 'UDiri':\n",
    "            double[] UD = BndyMap.UDiri(inp.X);\n",
    "            for(int d = 0; d < inp.D; d++) {\n",
    "                Acc += (U_IN[d] - UD[d])*inp.Normal[d]*V_IN;\n",
    "            }\n",
    "        }\n",
    "        return Acc;\n",
    "    }\n",
    "}"
   ]
  },
  {
   "cell_type": "code",
   "execution_count": 8,
   "metadata": {
    "dotnet_interactive": {
     "language": "csharp"
    }
   },
   "outputs": [],
   "source": [
    "/// %==================================\n",
    "/// \\subsection{The gradient-operator}\n",
    "/// %==================================\n",
    "/// We use the variational formulation of the gradient operator, as it is explained in section \\ref{subsec:poissonSystem_gradientOp}.\n",
    "class Gradient_d :\n",
    "        BoSSS.Foundation.IEdgeForm, // edge integrals\n",
    "        BoSSS.Foundation.IVolumeForm     // volume integrals\n",
    "{\n",
    "    public Gradient_d(int _d) {\n",
    "        this.d = _d;\n",
    "    }\n",
    " \n",
    "    /// The component index of the gradient:\n",
    "    int d;\n",
    " \n",
    "    /// As usual, we do not use parameters:\n",
    "    public IList<string> ParameterOrdering { \n",
    "        get { return null; } \n",
    "    }\n",
    " \n",
    "    /// We have one argument, the pressure $\\psi$:\n",
    "    public IList<String> ArgumentOrdering { \n",
    "        get { return new string[] { \"psi\" }; } \n",
    "    }\n",
    " \n",
    "    public TermActivationFlags VolTerms {\n",
    "        get { return TermActivationFlags.AllOn; }\n",
    "    }\n",
    " \n",
    "    public TermActivationFlags InnerEdgeTerms {\n",
    "        get { return (TermActivationFlags.AllOn); }\n",
    "    }\n",
    " \n",
    "    public TermActivationFlags BoundaryEdgeTerms {\n",
    "       get { return TermActivationFlags.AllOn; }\n",
    "    }\n",
    " \n",
    "    /// The volume integrand, for a vector-valued test-function $\\vec{v}$\n",
    "    /// would be $-\\operatorname{div}{\\vec{v}} \\psi$. Our test function $v$\n",
    "    /// is scalar-valued, so e.g. for $\\code{d} = 0$ we have\n",
    "    /// $\\vec{v} = (v,0)$. In this case, our volume integrand reduces as \n",
    "    /// $-\\operatorname{div}{\\vec{v}} \\psi = -\\partial_x v \\psi$:\n",
    "    public double VolumeForm(ref CommonParamsVol cpv, \n",
    "           double[] Psi, double[,] GradPsi, \n",
    "           double V, double[] GradV) {\n",
    " \n",
    "        double Acc = 0;\n",
    "        Acc -= Psi[0]*GradV[d];\n",
    "        return Acc;\n",
    "    }        \n",
    " \n",
    "    /// On interior cell edges, we simply use a central-difference flux.\n",
    "    /// Again, we consider a scalar test function, so we have\n",
    "    /// $ \\jump{\\psi} \\vec{v} \\cdot \\vec{n} = \\jump{\\psi} v n_d $,\n",
    "    /// where $n_d$ is the $d$--th component of $\\vec{n}$:\n",
    "    public double InnerEdgeForm(ref CommonParams inp, \n",
    "        double[] Psi_IN, double[] Psi_OT, \n",
    "        double[,] GradPsi_IN, double[,] GradPsi_OT, \n",
    "        double V_IN, double V_OT, double[] GradV_IN, double[] GradV_OT) {\n",
    " \n",
    "        double Acc = 0;\n",
    "        Acc += 0.5*(Psi_IN[0] + Psi_OT[0])*inp.Normal[this.d]*(V_IN - V_OT);\n",
    "        return Acc;  \n",
    "     }\n",
    " \n",
    "    public double BoundaryEdgeForm(ref CommonParamsBnd inp, \n",
    "        double[] Psi_IN, double[,] GradPsi_IN, double V_IN, double[] GradV_OT) {\n",
    " \n",
    "        double Acc = 0;\n",
    "        if(!BndyMap.IsDirichletBndy(inp.X)) {\n",
    "            // On the Neumann boundary, we want the total stress to be zero,\n",
    "            // so there is no contribution from the pressure:\n",
    "            Acc = 0;\n",
    "        } else {\n",
    "            // On the Dirichlet boundary, we do not know an outer value for \n",
    "            // the pressure, so we have to take the inner value:\n",
    "            Acc += Psi_IN[0]*inp.Normal[this.d]*V_IN;\n",
    "        }        \n",
    "        return Acc;              \n",
    "    }\n",
    "}"
   ]
  },
  {
   "cell_type": "code",
   "execution_count": 9,
   "metadata": {
    "dotnet_interactive": {
     "language": "csharp"
    }
   },
   "outputs": [],
   "source": [
    "/// %==============================================================\n",
    "/// \\subsection{Tests on pressure gradient and velocity divergence}\n",
    "/// %=============================================================="
   ]
  },
  {
   "cell_type": "code",
   "execution_count": 10,
   "metadata": {
    "dotnet_interactive": {
     "language": "csharp"
    }
   },
   "outputs": [],
   "source": [
    "/// If our implementation is correct, we created a discretization of \n",
    "/// \\[\n",
    "///  \\left[ \\begin{array}{cc}\n",
    "///     0                 & \\nabla \\\\\n",
    "///   -\\operatorname{div} & 0      \\\\\n",
    "///  \\end{array} \\right]\n",
    "/// \\]\n",
    "/// so the matrix should have the form \n",
    "/// \\[\n",
    "///  \\left[ \\begin{array}{cc}\n",
    "///     0     & B      \\\\\n",
    "///     B^T   & 0      \\\\\n",
    "///  \\end{array} \\right]\n",
    "///  =: M,\n",
    "/// \\]\n",
    "/// i.e. $M$ should be symmetric.\n",
    "/// We are testing this using a channel flow configuration:\n",
    "/// \\begin{align*}\n",
    "///     \\Omega    := & (0,10) \\times (-1,1) , \\\\\n",
    "///     \\Gamma_N  := & \\{ (x,y) | \\ x = 10 \\} , \\\\\n",
    "///     \\Gamma_D  := & \\partial \\Omega \\setminus \\Gamma_D , \\\\\n",
    "///     \\vec{u}_D := & (1 - y^2, 0), \n",
    "/// \\end{align*}\n",
    "/// using an equidistant grid."
   ]
  },
  {
   "cell_type": "code",
   "execution_count": 11,
   "metadata": {
    "dotnet_interactive": {
     "language": "csharp"
    }
   },
   "outputs": [],
   "source": [
    "/// We create a grid, a DG basis for velocity and pressure \n",
    "/// and a variable mapping:\n",
    "var xNodesChannel = GenericBlas.Linspace(0,10,31);// 30 cells in x-direction\n",
    "var yNodesChannel = GenericBlas.Linspace(-1,1,7); // 6 cells in y-direction\n",
    "var grdChannel    = Grid2D.Cartesian2DGrid(xNodesChannel,yNodesChannel);\n",
    "var VelBChannel   = new Basis(grdChannel, 2);  // velocity basis\n",
    "var PsiBChannel   = new Basis(grdChannel, 1);  // pressure basis \n",
    "var varMapChannel = new UnsetteledCoordinateMapping(\n",
    "                       VelBChannel,VelBChannel,PsiBChannel); // variable mapping"
   ]
  },
  {
   "cell_type": "code",
   "execution_count": 12,
   "metadata": {
    "dotnet_interactive": {
     "language": "csharp"
    }
   },
   "outputs": [],
   "source": [
    "/// We specify the boundary conditions as delegates:\n",
    "Func<double[],bool> IsDirichletBndy_Channel \n",
    "        = (X => Math.Abs(X[0] - 10) > 1.0e-10); // its Dirichlet, if x != 10\n",
    "Func<double[],double[]> UDiri_Channel \n",
    "        = (X => new double[2] { 1.0 - X[1]*X[1], 0});"
   ]
  },
  {
   "cell_type": "code",
   "execution_count": 13,
   "metadata": {
    "dotnet_interactive": {
     "language": "csharp"
    }
   },
   "outputs": [],
   "source": [
    "/// Let's create the operator which contains only the pressure gradient\n",
    "/// and velocity divergence:\n",
    "SpatialOperator GradDiv = new SpatialOperator(3,3, // 3 vars. in dom. & codom.\n",
    "                           QuadOrderFunc.Linear(), // linear operator\n",
    "                           \"u\", \"v\", \"psi\",  // names of domain variables\n",
    "                           \"mom_x\", \"mom_y\", \"conti\"); // names of codom. vars\n",
    "GradDiv.EquationComponents[\"mom_x\"].Add(new Gradient_d(0)); \n",
    "GradDiv.EquationComponents[\"mom_y\"].Add(new Gradient_d(1)); \n",
    "GradDiv.EquationComponents[\"conti\"].Add(new Divergence());\n",
    "GradDiv.Commit();"
   ]
  },
  {
   "cell_type": "code",
   "execution_count": 14,
   "metadata": {
    "dotnet_interactive": {
     "language": "csharp"
    }
   },
   "outputs": [],
   "source": [
    "/// We create the matrix of the \\code{GradDiv}-operator for \n",
    "/// the channel configuration. Before that, we have to set values for the \n",
    "/// global \\code{IsDirichletBndy} and \\code{UDiri}-variables.\n",
    "BndyMap. IsDirichletBndy  = IsDirichletBndy_Channel;\n",
    "BndyMap.UDiri             = UDiri_Channel;\n",
    "var GradDivMatrix_Channel = GradDiv.ComputeMatrix(varMapChannel,\n",
    "                                                  null,\n",
    "                                                  varMapChannel);"
   ]
  },
  {
   "cell_type": "code",
   "execution_count": 15,
   "metadata": {
    "dotnet_interactive": {
     "language": "csharp"
    }
   },
   "outputs": [],
   "source": [
    "///Finally, we can test the symmetry of the matrix:\n",
    "var ErrMtx = GradDivMatrix_Channel - GradDivMatrix_Channel.Transpose();\n",
    "ErrMtx.InfNorm();"
   ]
  },
  {
   "cell_type": "code",
   "execution_count": 16,
   "metadata": {
    "dotnet_interactive": {
     "language": "csharp"
    }
   },
   "outputs": [],
   "source": [
    "/// NUnit test (few random tests) BoSSScmdSilent\n",
    "Assert.LessOrEqual(ErrMtx.InfNorm(), 1e-12);"
   ]
  },
  {
   "cell_type": "code",
   "execution_count": 17,
   "metadata": {
    "dotnet_interactive": {
     "language": "csharp"
    }
   },
   "outputs": [],
   "source": [
    "/// %====================================================================\n",
    "/// \\subsection{Adding the viscous operator, forming the Stokes operator}\n",
    "/// %===================================================================="
   ]
  },
  {
   "cell_type": "code",
   "execution_count": 23,
   "metadata": {
    "dotnet_interactive": {
     "language": "csharp"
    }
   },
   "outputs": [
    {
     "name": "stderr",
     "output_type": "stream",
     "text": [
      "\r\n",
      "(17,26): warning CS0649: Field 'Viscous.Re' is never assigned to, and will always have its default value 0\r\n",
      "\r\n"
     ]
    }
   ],
   "source": [
    "/// We use the SIP-operator from chapter \\ref{sec:SIP} to model the viscous terms:\n",
    "public class Viscous : \n",
    "        IEdgeForm,   // edge integrals\n",
    "        IVolumeForm, // volume integrals\n",
    "        IEquationComponentCoefficient // update of coefficients required for penalty parameters \n",
    "{\n",
    "    /// The velocity component:\n",
    "    int d;\n",
    " \n",
    "    public Viscous(int _d) {\n",
    "        this.d = _d;    \n",
    "    }\n",
    " \n",
    "    /// We implement Reynolds number and the polynomial degree, \n",
    "    /// as well as the cell-wise length scales (required for \n",
    "    /// the computation of the penalty factor) as global, static variables.\n",
    "    public static double Re;\n",
    "   \n",
    "\n",
    " \n",
    "    /// We do not use parameters:\n",
    "    public IList<string> ParameterOrdering { \n",
    "        get { return new string[0]; } \n",
    "    }\n",
    " \n",
    "    /// Depending on \\code{d}, the argument variable\n",
    "    /// should be either $u$ or $v$:\n",
    "    public IList<String> ArgumentOrdering { \n",
    "        get { \n",
    "            switch(d) {\n",
    "                case 0  : return new string[] { \"u\" }; \n",
    "                case 1  : return new string[] { \"v\" }; \n",
    "                default : throw new Exception();\n",
    "            }\n",
    "        } \n",
    "    }\n",
    " \n",
    "    /// The \\code{TermActivationFlags}, as usual:\n",
    "    public TermActivationFlags VolTerms {\n",
    "        get {\n",
    "            return TermActivationFlags.GradUxGradV;\n",
    "        }\n",
    "    }\n",
    " \n",
    "    public TermActivationFlags InnerEdgeTerms {\n",
    "        get {\n",
    "            return TermActivationFlags.AllOn;\n",
    "        }\n",
    "    }\n",
    " \n",
    "    public TermActivationFlags BoundaryEdgeTerms {\n",
    "       get {\n",
    "           return TermActivationFlags.AllOn;\n",
    "        }\n",
    "    }\n",
    " \n",
    "    /// The integrand for the volume integral:\n",
    "    public double VolumeForm(ref CommonParamsVol cpv, \n",
    "           double[] U, double[,] GradU,\n",
    "           double V, double[] GradV) {               \n",
    "        double acc = 0;\n",
    "        for(int d = 0; d < cpv.D; d++)\n",
    "            acc += GradU[0, d] * GradV[d];\n",
    "        return (1/Re)*acc;\n",
    "    }\n",
    " \n",
    " \n",
    "    /// The integrand for the integral on the inner edges:\n",
    "    public double InnerEdgeForm(ref CommonParams inp, \n",
    "        double[] U_IN, double[] U_OT, double[,] GradU_IN, double[,] GradU_OT, \n",
    "        double V_IN, double V_OT, double[] GradV_IN, double[] GradV_OT) {\n",
    " \n",
    "        double eta = PenaltyFactor(inp.jCellIn, inp.jCellOut);\n",
    " \n",
    "        double Acc = 0.0;\n",
    "        for(int d = 0; d < inp.D; d++) { // loop over vector components \n",
    "            // consistency term: -({{ \\/u }} [[ v ]])*Normal\n",
    "            // index d: spatial direction\n",
    "            Acc -= 0.5 * (GradU_IN[0, d] + GradU_OT[0, d])*(V_IN - V_OT)\n",
    "                       * inp.Normal[d];\n",
    " \n",
    "            // the symmetry term -({{ \\/v }} [[ u ]])*Normal\n",
    "            Acc -= 0.5 * (GradV_IN[d] + GradV_OT[d])*(U_IN[0] - U_OT[0])\n",
    "                       * inp.Normal[d];;\n",
    "        }\n",
    " \n",
    "        // the penalty term eta*[[u]]*[[v]]\n",
    "        Acc += eta*(U_IN[0] - U_OT[0])*(V_IN - V_OT);\n",
    "        return (1/Re)*Acc;\n",
    " \n",
    "    }\n",
    " \n",
    "    /// The integrand on boundary edges, i.e. on $\\partial \\Omega$:\n",
    "    public double BoundaryEdgeForm(ref CommonParamsBnd inp, \n",
    "        double[] U_IN, double[,] GradU_IN, double V_IN, double[] GradV_IN) {\n",
    " \n",
    " \n",
    "        double Acc = 0.0;\n",
    " \n",
    "        if(!BndyMap.IsDirichletBndy(inp.X)) {\n",
    "            // Neumann boundary conditions, i.e. zero-stress:\n",
    "            Acc = 0;\n",
    "        } else {\n",
    "            // Dirichlet boundary conditions\n",
    "            double uBnd = BndyMap.UDiri(inp.X)[d];\n",
    " \n",
    "            for(int d = 0; d < inp.D; d++) { // loop over vector components \n",
    "                // consistency term:\n",
    "                Acc -= (GradU_IN[0, d])*(V_IN) * inp.Normal[d];\n",
    "                // symmetry term:\n",
    "                Acc -= (GradV_IN[d])*(U_IN[0]- uBnd) * inp.Normal[d];\n",
    "            }\n",
    " \n",
    "            // penalty term\n",
    "            double eta = PenaltyFactor(inp.jCellIn, -1);\n",
    "            Acc += eta*(U_IN[0] - uBnd)*(V_IN);\n",
    "        }\n",
    " \n",
    "        return (1/Re)*Acc;\n",
    "    }\n",
    "            \n",
    "    MultidimensionalArray cj;\n",
    "    double penalty_base;\n",
    "            \n",
    "    double PenaltyFactor(int jCellIn, int jCellOut) {\n",
    "        double PenaltySafety = 2;\n",
    "        double cj_in         = cj[jCellIn];\n",
    "        double eta           = penalty_base * cj_in * PenaltySafety;\n",
    "        if(jCellOut >= 0) {\n",
    "            double cj_out = cj[jCellOut];\n",
    "            eta           = Math.Max(eta, penalty_base * cj_out * PenaltySafety);\n",
    "        }\n",
    "        return eta;\n",
    "    }\n",
    "            \n",
    "            \n",
    "    /// Update of penalty length scales.\n",
    "    public void CoefficientUpdate(CoefficientSet cs, int[] DomainDGdeg, int TestDGdeg) {\n",
    "        int D = cs.GrdDat.SpatialDimension;\n",
    "        double _D = D;\n",
    "        double _p = DomainDGdeg.Max();\n",
    "\n",
    "        double penalty_deg_tri = (_p + 1) * (_p + _D) / _D; // formula for triangles/tetras\n",
    "        double penalty_deg_sqr = (_p + 1.0) * (_p + 1.0); // formula for squares/cubes\n",
    "\n",
    "        penalty_base = Math.Max(penalty_deg_tri, penalty_deg_sqr); // the conservative choice\n",
    "\n",
    "        cj = cs.CellLengthScales;\n",
    "    }\n",
    "}"
   ]
  },
  {
   "cell_type": "code",
   "execution_count": 24,
   "metadata": {
    "dotnet_interactive": {
     "language": "csharp"
    }
   },
   "outputs": [],
   "source": [
    "/// Finally, we are ready to implement the Stokes operator:\n",
    "SpatialOperator Stokes = new SpatialOperator(3,3, // 3 vars. in dom. & codom.\n",
    "                         QuadOrderFunc.Linear(), // linear operator\n",
    "                         \"u\", \"v\", \"psi\",  // names of domain variables\n",
    "                         \"mom_x\", \"mom_y\", \"conti\"); // names of codom. vars\n",
    "Stokes.EquationComponents[\"mom_x\"].Add(new Gradient_d(0)); \n",
    "Stokes.EquationComponents[\"mom_x\"].Add(new Viscous(0)); \n",
    "Stokes.EquationComponents[\"mom_y\"].Add(new Gradient_d(1)); \n",
    "Stokes.EquationComponents[\"mom_y\"].Add(new Viscous(1));\n",
    "Stokes.EquationComponents[\"conti\"].Add(new Divergence());\n",
    "Stokes.Commit();"
   ]
  },
  {
   "cell_type": "code",
   "execution_count": 27,
   "metadata": {
    "dotnet_interactive": {
     "language": "csharp"
    }
   },
   "outputs": [],
   "source": [
    "/// Again, we create the matrix (now, for the Stokes operator) and check its\n",
    "/// symmetry; we also have to set the Reynolds number and the polynomial\n",
    "/// degree \\emph{before} calling \\code{ComputeMatrix} (since we are doing a\n",
    "/// rather dirty trick by using global variables).\n",
    "BndyMap.IsDirichletBndy  = IsDirichletBndy_Channel;\n",
    "BndyMap.UDiri            = UDiri_Channel;\n",
    "Viscous.Re               = 20.0;\n",
    "var StokesMatrix_Channel = Stokes.ComputeMatrix(varMapChannel,\n",
    "                                                null,\n",
    "                                                varMapChannel);"
   ]
  },
  {
   "cell_type": "code",
   "execution_count": 29,
   "metadata": {
    "dotnet_interactive": {
     "language": "csharp"
    }
   },
   "outputs": [
    {
     "data": {
      "text/html": [
       "<div class=\"dni-plaintext\">1.5459855617905305E-14</div>"
      ]
     },
     "execution_count": 29,
     "metadata": {},
     "output_type": "execute_result"
    }
   ],
   "source": [
    "/// Testing the symmetry:\n",
    "var ErrMtx1 = StokesMatrix_Channel - StokesMatrix_Channel.Transpose();\n",
    "ErrMtx1.InfNorm()"
   ]
  },
  {
   "cell_type": "code",
   "execution_count": 30,
   "metadata": {
    "dotnet_interactive": {
     "language": "csharp"
    }
   },
   "outputs": [],
   "source": [
    "/// NUnit test (few random tests) BoSSScmdSilent\n",
    "Assert.LessOrEqual(ErrMtx1.InfNorm(), 1e-12);"
   ]
  },
  {
   "cell_type": "code",
   "execution_count": 31,
   "metadata": {
    "dotnet_interactive": {
     "language": "csharp"
    }
   },
   "outputs": [],
   "source": [
    "/// We also verify that our Stokes-matrix has full rank, i.e. we show that \n",
    "/// matrix size and rank are equal:"
   ]
  },
  {
   "cell_type": "code",
   "execution_count": 32,
   "metadata": {
    "dotnet_interactive": {
     "language": "csharp"
    }
   },
   "outputs": [
    {
     "data": {
      "text/html": [
       "<div class=\"dni-plaintext\">2700</div>"
      ]
     },
     "execution_count": 32,
     "metadata": {},
     "output_type": "execute_result"
    }
   ],
   "source": [
    "StokesMatrix_Channel.NoOfRows"
   ]
  },
  {
   "cell_type": "code",
   "execution_count": 33,
   "metadata": {
    "dotnet_interactive": {
     "language": "csharp"
    }
   },
   "outputs": [
    {
     "data": {
      "text/html": [
       "<div class=\"dni-plaintext\">2700</div>"
      ]
     },
     "execution_count": 33,
     "metadata": {},
     "output_type": "execute_result"
    }
   ],
   "source": [
    "StokesMatrix_Channel.rank()"
   ]
  },
  {
   "cell_type": "code",
   "execution_count": 34,
   "metadata": {
    "dotnet_interactive": {
     "language": "csharp"
    }
   },
   "outputs": [],
   "source": [
    "/// NUnit test (few random tests) BoSSScmdSilent\n",
    "Assert.AreEqual(StokesMatrix_Channel.rank(), StokesMatrix_Channel.NoOfRows);"
   ]
  },
  {
   "cell_type": "code",
   "execution_count": 35,
   "metadata": {
    "dotnet_interactive": {
     "language": "csharp"
    }
   },
   "outputs": [],
   "source": [
    "/// %======================================================\n",
    "/// \\subsection{Solving the Stokes equation in the channel}\n",
    "/// %======================================================"
   ]
  },
  {
   "cell_type": "code",
   "execution_count": 36,
   "metadata": {
    "dotnet_interactive": {
     "language": "csharp"
    }
   },
   "outputs": [],
   "source": [
    "/// We set the parameters and see whether we actually obtain the correct \n",
    "/// solution; the exact solution of our problem is obviously\n",
    "/// \\begin{align*}\n",
    "///     \\vec{u}_{\\text{ex}} = & (1 - y^2, 0 ), \\\\\n",
    "///     \\psi_{\\text{ex}}    = & \\frac{200}{\\text{Re}} - x \\frac{2}{\\text{Re}} \\\\\n",
    "/// \\end{align*}\n",
    "/// and since it is polynomial we should be able to obtain it \n",
    "/// \\emph{exactly} in our velocity-pressure-space of degrees $(2,1)$.\n",
    "BndyMap.IsDirichletBndy  = IsDirichletBndy_Channel;\n",
    "BndyMap.UDiri            = UDiri_Channel;\n",
    "Viscous.Re               = 20.0;\n",
    "var StokesMatrix_Channel = Stokes.ComputeMatrix(varMapChannel,\n",
    "                                                null,\n",
    "                                                varMapChannel);\n",
    "var StokesAffine_Channel = Stokes.ComputeAffine(varMapChannel,\n",
    "                                                null,\n",
    "                                                varMapChannel);"
   ]
  },
  {
   "cell_type": "code",
   "execution_count": 37,
   "metadata": {
    "dotnet_interactive": {
     "language": "csharp"
    }
   },
   "outputs": [],
   "source": [
    "/// Now, we are ready to solve the stokes equation. \\BoSSS\\ provides us with\n",
    "/// a system \n",
    "/// \\[\n",
    "///   \\code{StokesMatrix\\_Channel} \\cdot (u,v,\\psi) \n",
    "///   + \\code{StokesAffine\\_Channel} = 0,\n",
    "/// \\]\n",
    "/// so we have to multiply \\code{StokesAffine\\_Channel} with $-1$ to get a \n",
    "/// right-hand-side.\n",
    "double[] RHS = StokesAffine_Channel.CloneAs();\n",
    "RHS.ScaleV(-1.0);"
   ]
  },
  {
   "cell_type": "code",
   "execution_count": 38,
   "metadata": {
    "dotnet_interactive": {
     "language": "csharp"
    }
   },
   "outputs": [],
   "source": [
    "/// In order to store our solution, we have to create DG fields:\n",
    "SinglePhaseField u               = new SinglePhaseField(VelBChannel,\"u\");\n",
    "SinglePhaseField v               = new SinglePhaseField(VelBChannel,\"v\");\n",
    "SinglePhaseField psi             = new SinglePhaseField(PsiBChannel,\"psi\");\n",
    "CoordinateVector SolutionChannel = new CoordinateVector(u,v,psi);"
   ]
  },
  {
   "cell_type": "code",
   "execution_count": 39,
   "metadata": {
    "dotnet_interactive": {
     "language": "csharp"
    }
   },
   "outputs": [],
   "source": [
    "/// Solve the linear system using a direct method:\n",
    "StokesMatrix_Channel.Solve_Direct(SolutionChannel, RHS);"
   ]
  },
  {
   "cell_type": "code",
   "execution_count": 40,
   "metadata": {
    "dotnet_interactive": {
     "language": "csharp"
    }
   },
   "outputs": [],
   "source": [
    "/// We export the solution to a Tecplot file:\n",
    "//Tecplot(\"Channel\", 0.0, 3, u, v, psi);"
   ]
  },
  {
   "cell_type": "code",
   "execution_count": 41,
   "metadata": {
    "dotnet_interactive": {
     "language": "csharp"
    }
   },
   "outputs": [],
   "source": [
    "/// \\emph{TODO}: Use Visit (or any other visualization software)\n",
    "/// to inspect the solution!"
   ]
  },
  {
   "cell_type": "code",
   "execution_count": 42,
   "metadata": {
    "dotnet_interactive": {
     "language": "csharp"
    }
   },
   "outputs": [],
   "source": [
    "/// %=====================================\n",
    "/// \\section{Advanced topics}\n",
    "/// %====================================="
   ]
  },
  {
   "cell_type": "code",
   "execution_count": 43,
   "metadata": {
    "dotnet_interactive": {
     "language": "csharp"
    }
   },
   "outputs": [],
   "source": [
    "/// %=====================================\n",
    "/// \\subsection{Stokes flow behind a grid}\n",
    "/// %====================================="
   ]
  },
  {
   "cell_type": "code",
   "execution_count": 44,
   "metadata": {
    "dotnet_interactive": {
     "language": "csharp"
    }
   },
   "outputs": [],
   "source": [
    "/// We use the following setting:\n",
    "/// \\begin{align*}\n",
    "///     \\Omega    := & (0,5) \\times (-2,2) \\\\\n",
    "///     \\Gamma_N  := & \\{ (x,y) | \\ x = 5 \\} , \\\\\n",
    "///     \\Gamma_D  := & \\partial \\Omega \\setminus \\Gamma_D , \\\\\n",
    "///     \\vec{u}_D := & (1 - (2 (y - \\operatorname{floor}(y)) - 1)^2, 0), \\\\\n",
    "/// \\end{align*}"
   ]
  },
  {
   "cell_type": "code",
   "execution_count": 45,
   "metadata": {
    "dotnet_interactive": {
     "language": "csharp"
    }
   },
   "outputs": [],
   "source": [
    "/// So, the boundary functions are:\n",
    "Func<double[],bool> IsDirichletBndy_GridFlow \n",
    "        = (X => Math.Abs(X[0] - 5) > 1.0e-10); \n",
    "Func<double[],double[]> UDiri_GridFlow \n",
    "        = (X => new double[2] { 1.0 - (2*(X[1] - Math.Floor(X[1])) - 1).Pow2(),\n",
    "                                0});"
   ]
  },
  {
   "cell_type": "code",
   "execution_count": 46,
   "metadata": {
    "dotnet_interactive": {
     "language": "csharp"
    }
   },
   "outputs": [],
   "source": [
    "/// \\emph{TODO}: the rest is for you! One hint: in $y$-direction, use some \n",
    "/// spacing so that you have cell boundaries at (least at) $y = -1, 0, 1$."
   ]
  },
  {
   "cell_type": "code",
   "execution_count": null,
   "metadata": {},
   "outputs": [],
   "source": []
  }
 ],
 "metadata": {
  "kernelspec": {
   "display_name": ".NET (C#)",
   "language": "C#",
   "name": ".net-csharp"
  },
  "language_info": {
   "file_extension": ".cs",
   "mimetype": "text/x-csharp",
   "name": "C#",
   "pygments_lexer": "csharp",
   "version": "8.0"
  }
 },
 "nbformat": 4,
 "nbformat_minor": 4
}
