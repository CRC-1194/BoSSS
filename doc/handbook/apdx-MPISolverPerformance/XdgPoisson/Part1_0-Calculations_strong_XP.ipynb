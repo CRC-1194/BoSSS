{
 "cells": [
  {
   "cell_type": "markdown",
   "metadata": {},
   "source": [
    "# Strong Scaling, static droplet (Xdg, Poisson, steady)\n",
    "\n",
    "We investigate: How much does the algorithm profit from more rescources for a fixed problem size? In theory the sequential part of the algorithm is the asymtotical limit, which is described by Ahmdal's law."
   ]
  },
  {
   "cell_type": "code",
   "execution_count": null,
   "metadata": {
    "dotnet_interactive": {
     "language": "csharp"
    }
   },
   "outputs": [],
   "source": [
    "//#r \"./../../../../../../public/src/L4-application/BoSSSpad/bin/Release/net5.0/BoSSSpad.dll\"\n",
    "#r \"BoSSSpad.dll\"\n",
    "using System;\n",
    "using ilPSP;\n",
    "using ilPSP.Utils;\n",
    "using BoSSS.Platform;\n",
    "using BoSSS.Foundation;\n",
    "using BoSSS.Foundation.XDG;\n",
    "using BoSSS.Foundation.Grid;\n",
    "using BoSSS.Solution;\n",
    "using BoSSS.Application.BoSSSpad;\n",
    "using BoSSS.Application.XNSE_Solver;\n",
    "using BoSSS.Foundation.Grid.Classic;\n",
    "using BoSSS.Foundation.IO;\n",
    "using BoSSS.Solution.AdvancedSolvers;\n",
    "using BoSSS.Solution.Control;\n",
    "using BoSSS.Solution.XNSECommon;\n",
    "using BoSSS.Solution.NSECommon;\n",
    "using BoSSS.Application.XNSE_Solver.LoadBalancing;\n",
    "using BoSSS.Solution.LevelSetTools;\n",
    "using BoSSS.Solution.XdgTimestepping;\n",
    "using BoSSS.Application.XdgPoisson3;\n",
    "\n",
    "using static BoSSS.Application.BoSSSpad.BoSSSshell;\n",
    "Init();"
   ]
  },
  {
   "cell_type": "markdown",
   "metadata": {},
   "source": [
    "## Parameter sweeps\n",
    "If you feel the urge to change something stick to this section ..."
   ]
  },
  {
   "cell_type": "code",
   "execution_count": null,
   "metadata": {
    "dotnet_interactive": {
     "language": "csharp"
    }
   },
   "outputs": [],
   "source": [
    "int[] core_sweep = {4,8,16,32,64,128,256};\n",
    "int[] p_sweep    = {2,3,4};\n",
    "int Problemsize   = 2560000;\n",
    "int MemoryPerCore = 2500;"
   ]
  },
  {
   "cell_type": "markdown",
   "metadata": {},
   "source": [
    "## Init Database, Client and Workflowmanager\n",
    "Set names of database and tables to be written out. \n",
    "Names are generated of environment variables (build information of jenkins).\n",
    "There are defaults though, you see no need change anything."
   ]
  },
  {
   "cell_type": "code",
   "execution_count": null,
   "metadata": {
    "dotnet_interactive": {
     "language": "csharp"
    }
   },
   "outputs": [],
   "source": [
    "// Is used at Jenkins to generate individual names (for output .json)\n",
    "string dbname = System.Environment.GetEnvironmentVariable(\"DATABASE_NAME\");\n",
    "string buildname = System.Environment.GetEnvironmentVariable(\"JOB_NAME\");\n",
    "string buildNr = System.Environment.GetEnvironmentVariable(\"BUILD_NUMBER\");\n",
    "//defaults\n",
    "buildname = String.IsNullOrEmpty(buildname)? \"run\" : buildname;\n",
    "string thedate = $\"{System.DateTime.Today.Day}-{System.DateTime.Today.Month}-{System.DateTime.Today.Year}\";\n",
    "buildNr = String.IsNullOrEmpty(buildNr)? thedate : buildNr;\n",
    "\n",
    "string database_name = String.IsNullOrEmpty(dbname)? \"DB_Benchmarks\" : dbname;\n",
    "string table_name = String.Concat(buildname, \"_\", buildNr);"
   ]
  },
  {
   "cell_type": "markdown",
   "metadata": {},
   "source": [
    "Client setup and <code>\\#SBATCH</code> configuration:\n",
    "- <code>-N</code> (nodes),\n",
    "- <code>-C</code> (Processor architecture),\n",
    "- <code>--mem-per-cpu</code> (allocated memory per core).\n",
    "<br> Note: <code>--mem-per-cpu</code> must be set that the job is accepted by Lichtenberg scheduler."
   ]
  },
  {
   "cell_type": "code",
   "execution_count": null,
   "metadata": {
    "dotnet_interactive": {
     "language": "csharp"
    }
   },
   "outputs": [],
   "source": [
    "var myBatch = GetDefaultQueue();\n",
    "if(myBatch is SlurmClient){\n",
    "    (myBatch as SlurmClient).AdditionalBatchCommands = new string[]{\"#SBATCH -C avx512\", \"#SBATCH --mem-per-cpu=2000\"};\n",
    "} GetDefaultQueue()"
   ]
  },
  {
   "cell_type": "code",
   "execution_count": null,
   "metadata": {
    "dotnet_interactive": {
     "language": "csharp"
    }
   },
   "outputs": [
    {
     "name": "stdout",
     "output_type": "stream",
     "text": [
      "Project name is set to 'run_10-1-2022'.\r\n",
      "Opening existing database 'W:\\work\\scratch\\jw52xeqa\\run_10-1-2022'.\r\n"
     ]
    }
   ],
   "source": [
    "string WFlowName = table_name;\n",
    "BoSSS.Application.BoSSSpad.BoSSSshell.WorkflowMgm.Init(WFlowName);\n",
    "BoSSS.Application.BoSSSpad.BoSSSshell.WorkflowMgm.SetNameBasedSessionJobControlCorrelation();"
   ]
  },
  {
   "cell_type": "code",
   "execution_count": null,
   "metadata": {
    "dotnet_interactive": {
     "language": "csharp"
    }
   },
   "outputs": [
    {
     "name": "stdout",
     "output_type": "stream",
     "text": [
      "Opening existing database 'W:\\work\\scratch\\jw52xeqa\\DB_XdgPoisson'.\r\n"
     ]
    }
   ],
   "source": [
    "var pair = myBatch.AllowedDatabasesPaths.Pick(0);\n",
    "string DBName = @\"\\\"+database_name;\n",
    "string localpath=pair.LocalMountPath+DBName;\n",
    "string remotepath=pair.PathAtRemote+DBName;\n",
    "var myDB = OpenOrCreateDatabase(localpath);"
   ]
  },
  {
   "cell_type": "markdown",
   "metadata": {},
   "source": [
    "## Generate Grid\n",
    "- Domain (-1,1)x(-1,1)x(-1,1)\n",
    "- equidistant cells, resolution is chosen according to Res"
   ]
  },
  {
   "cell_type": "code",
   "execution_count": null,
   "metadata": {
    "dotnet_interactive": {
     "language": "csharp"
    }
   },
   "outputs": [],
   "source": [
    "// 3D domain boundaries\n",
    "double xMax = 1.0, yMax = 1.0, zMax = 1.0;\n",
    "double xMin = -1.0, yMin = -1.0, zMin = -1.0;"
   ]
  },
  {
   "cell_type": "markdown",
   "metadata": {},
   "source": [
    "Some auxiliary methods: \n",
    "- calculate N_p (DOF of a scalar variable in 3D),\n",
    "- predefined partitioning"
   ]
  },
  {
   "cell_type": "code",
   "execution_count": null,
   "metadata": {
    "dotnet_interactive": {
     "language": "csharp"
    }
   },
   "outputs": [],
   "source": [
    "public Func<double[],int> GetPartFunc(int cores){\n",
    "    Func<double[], int> MakeMyPartioning = delegate (double[] X) {\n",
    "    double x  = X[0];\n",
    "    double y  = X[1];\n",
    "    double z  = X[2];\n",
    "\n",
    "    int sx = 1;\n",
    "    int sy = 1;\n",
    "    int sz = 1;\n",
    "    for (int i = 0; i < Math.Log(cores, 2); i++) {\n",
    "        if (i % 3 == 0)\n",
    "            sx*= 2;\n",
    "        else if(i % 3 == 1)\n",
    "            sy*=2;\n",
    "        else\n",
    "            sz*=2;\n",
    "    }\n",
    "\n",
    "\n",
    "    double xspan = (xMax - xMin) / sx;\n",
    "    double yspan = (yMax - yMin) / sy;\n",
    "    double zspan = (zMax - zMin) / sz;\n",
    "    int rank     = int.MaxValue;\n",
    "    int icore    = 0;\n",
    "    for (int i = 0; i < sx; i++) {\n",
    "        for (int j = 0; j < sy; j++) {\n",
    "            for(int k=0;k<sz;k++){\n",
    "                bool xtrue = x <= xspan * (i + 1) + xMin;\n",
    "                bool ytrue = y <= yspan * (j + 1) + yMin;\n",
    "                bool ztrue = z <= zspan * (k + 1) + zMin;\n",
    "                if (xtrue && ytrue && ztrue) {\n",
    "                    rank = icore;\n",
    "                    return rank;\n",
    "                }\n",
    "                icore++;\n",
    "            }\n",
    "        }\n",
    "    }\n",
    "\n",
    "    return rank;\n",
    "    };\n",
    "return MakeMyPartioning;\n",
    "}\n",
    "\n",
    "public static int Np(int p) {\n",
    "    return (p*p*p + 6*p*p + 11*p + 6)/6;\n",
    "}"
   ]
  },
  {
   "cell_type": "code",
   "execution_count": null,
   "metadata": {
    "dotnet_interactive": {
     "language": "csharp"
    }
   },
   "outputs": [],
   "source": [
    "// calculate grid size\n",
    "Func<int,int,int> ResCoreMapping = delegate (int cores, int p){\n",
    "    double Res    = Math.Pow(Problemsize/Np(p),0.333333333);\n",
    "    int ResRndup  = (int)Math.Ceiling(Res);\n",
    "    return ResRndup;\n",
    "};"
   ]
  },
  {
   "cell_type": "code",
   "execution_count": null,
   "metadata": {
    "dotnet_interactive": {
     "language": "csharp"
    }
   },
   "outputs": [],
   "source": [
    "Func<int,int, GridCommons> DefineGrid = delegate (int cores, int Res){\n",
    "    double[] xNodes = GenericBlas.Linspace(xMin, xMax, Res + 1);\n",
    "    double[] yNodes = GenericBlas.Linspace(yMin, yMax, Res + 1);\n",
    "    double[] zNodes = GenericBlas.Linspace(zMin, zMax, Res + 1);\n",
    "    int J = (xNodes.Length - 1)*(yNodes.Length - 1)*(zNodes.Length - 1);\n",
    "    \n",
    "    string gname = \"XdgPoisson-weakscaling\";\n",
    "    \n",
    "    Console.WriteLine(\"Creating grid with \" + J + \" cells.\");\n",
    "    GridCommons g;\n",
    "    g = Grid3D.Cartesian3DGrid(xNodes, yNodes, zNodes);\n",
    "    g.AddPredefinedPartitioning(\"predef\"+cores, GetPartFunc(cores));\n",
    "    g.Name = gname;\n",
    "    g.EdgeTagNames.Add(1, \"Dirichlet\");   \n",
    "    g.DefineEdgeTags(delegate (double[] X) {\n",
    "        byte ret;\n",
    "        ret = 1;\n",
    "        return ret;\n",
    "    });\n",
    "    return g;\n",
    "};\n",
    "\n",
    "Action<GridCommons> SaveGrid = delegate (GridCommons g){\n",
    "    // there is no way to check for equal predefined partitioning ...\n",
    "    /*\n",
    "    var tmp = new List<IGridInfo>();\n",
    "    foreach(var grid in myDB.Grids){\n",
    "        try{\n",
    "            bool IsMatch = grid.Name.Equals(g.Name)\n",
    "            && grid.NumberOfCells==g.NumberOfCells;\n",
    "            if(IsMatch) tmp.Add(grid);\n",
    "        }\n",
    "        catch(Exception ex) {\n",
    "            Console.WriteLine(ex.Message);\n",
    "        }\n",
    "    }\n",
    "    if(tmp.Count()>=1){\n",
    "        Console.WriteLine(\"Grid found: \"+tmp.Pick(0).Name);\n",
    "        return;\n",
    "    }\n",
    "    */\n",
    "    myDB.SaveGrid(ref g,true);  \n",
    "};"
   ]
  },
  {
   "cell_type": "markdown",
   "metadata": {},
   "source": [
    "Auxiliary datatype to map gridID onto controlobjects and control objects onto job settings."
   ]
  },
  {
   "cell_type": "code",
   "execution_count": null,
   "metadata": {
    "dotnet_interactive": {
     "language": "csharp"
    }
   },
   "outputs": [],
   "source": [
    "struct Parameterz{\n",
    "    public Parameterz(int _Cores, int _Poly, int _Res){\n",
    "        Cores = _Cores;\n",
    "        Poly = _Poly;\n",
    "        Res = _Res;\n",
    "    }\n",
    "    public int Cores;\n",
    "    public int Poly;\n",
    "    public int Res;\n",
    "}"
   ]
  },
  {
   "cell_type": "code",
   "execution_count": null,
   "metadata": {
    "dotnet_interactive": {
     "language": "csharp"
    }
   },
   "outputs": [
    {
     "name": "stdout",
     "output_type": "stream",
     "text": [
      "Creating grid with 262144 cells.\r\n",
      "Grid Edge Tags changed.\r\n",
      "Creating grid with 262144 cells.\r\n",
      "Grid Edge Tags changed.\r\n",
      "Creating grid with 74088 cells.\r\n",
      "Grid Edge Tags changed.\r\n",
      "Creating grid with 74088 cells.\r\n",
      "Grid Edge Tags changed.\r\n"
     ]
    }
   ],
   "source": [
    "var Grids = new Dictionary<Parameterz,GridCommons>();\n",
    "foreach(int p in p_sweep){\n",
    "foreach(int cores in core_sweep){\n",
    "    int res = ResCoreMapping(cores,p);\n",
    "    var grid = DefineGrid(cores,res);\n",
    "    SaveGrid(grid);\n",
    "    Grids.Add(new Parameterz(cores,p,res),grid);\n",
    "}\n",
    "}"
   ]
  },
  {
   "cell_type": "markdown",
   "metadata": {},
   "source": [
    "## Generate Control object"
   ]
  },
  {
   "cell_type": "code",
   "execution_count": null,
   "metadata": {
    "dotnet_interactive": {
     "language": "csharp"
    }
   },
   "outputs": [],
   "source": [
    "int MaxDof = int.MaxValue;\n",
    "LinearSolverCode[] solver_sweep = new LinearSolverCode[] {\n",
    "    //LinearSolverCode.classic_pardiso, \n",
    "    //LinearSolverCode.classic_mumps, \n",
    "    LinearSolverCode.exp_Kcycle_schwarz, \n",
    "    //LinearSolverCode.exp_gmres_levelpmg, \n",
    "};"
   ]
  },
  {
   "cell_type": "code",
   "execution_count": null,
   "metadata": {
    "dotnet_interactive": {
     "language": "csharp"
    }
   },
   "outputs": [
    {
     "data": {
      "text/html": [
       "<div class=\"dni-plaintext\">-0</div>"
      ]
     },
     "metadata": {},
     "output_type": "display_data"
    }
   ],
   "source": [
    "// - - - - - - - - - - - - - - - - - - -\n",
    "// Initial Values & Boundary conditions\n",
    "// - - - - - - - - - - - - - - - - - - -\n",
    "static class InitialValues {\n",
    "    public static double RHS(double[] X) {\n",
    "        return -Math.Sin(X[0]);\n",
    "    }\n",
    "    \n",
    "    public static double DirichletBC(double[] X) {\n",
    "        return 0.0;\n",
    "    }\n",
    "    \n",
    "    public static double NeumannBC(double[] X) {\n",
    "       if(Math.Abs(X[1] - 1.0) < 1.0e-8 || Math.Abs(X[1] + 1.0) < 1.0e-8)\n",
    "           return 0;\n",
    "       if(X.Length > 2 && (Math.Abs(X[2] - 1.0) < 1.0e-8 || Math.Abs(X[2] + 1.0) < 1.0e-8))\n",
    "           return 0;\n",
    "\n",
    "       return Math.Cos(10.0);\n",
    "   }\n",
    "} InitialValues.RHS(new double[]{ 0,0})"
   ]
  },
  {
   "cell_type": "markdown",
   "metadata": {},
   "source": [
    "## governing equations\n",
    "\n",
    "The test problem can be considered as stationary 3 dimensional heat equation with source-term and two phases:\n",
    "\n",
    "$$\\begin{aligned}\n",
    "- \\mu \\Delta T  &= f                \\text{ in } \\Omega \\setminus \\mathfrak{I} \\\\\n",
    "[[T]]  &= 0                \\text{ on } \\mathfrak{I}                 \\\\ \n",
    "[[\\mu \\nabla T \\cdot \\vec{n}_{\\mathfrak{I}}]] &= 0                \\text{ on } \\mathfrak{I}  \\\\              \n",
    "T  &= g_\\text{Diri}    \\text{ on } \\Gamma_\\mathrm{Diri}    \\\\\n",
    "\\nabla T \\cdot \\vec{n}_{ \\partial \\Omega}   &= g_\\text{Neu}  \\text{ on } \\Gamma_\\mathrm{Neu} \n",
    "\\end{aligned}$$\n",
    "\n",
    "with a constant diffusion coefficient in each subdomain\n",
    "\n",
    "$\\mu (\\vec{x}) = \\begin{pmatrix}\n",
    "\\mu_\\mathfrak{A}  \\text{for } \\vec{x} \\in \\mathfrak{A} \\\\\n",
    "\\mu_\\mathfrak{B}  \\text{for } \\vec{x} \\in \\mathfrak{B}\n",
    "\\end{pmatrix}$"
   ]
  },
  {
   "cell_type": "code",
   "execution_count": null,
   "metadata": {
    "dotnet_interactive": {
     "language": "csharp"
    }
   },
   "outputs": [],
   "source": [
    "public Func<LinearSolverCode, int, IGridInfo, int, XdgPoisson3Control> CtrlGenerator = delegate (LinearSolverCode solver, int k, IGridInfo grd, int cores) {\n",
    "\n",
    "    int _Np = Np(k);\n",
    "    int J  = grd.NumberOfCells;\n",
    "    //int rnd         = new Random().Next();\n",
    "    //string caseName = string.Format(\"J{0}_k{1}_{2}_c{3}_rnd{4}\", J, k, solver_name,cores,rnd);\n",
    "    string caseName = string.Format(\"J{0}_k{1}_{2}_c{3}\", J, k, solver,cores);\n",
    "    \n",
    "    Console.WriteLine(\"setting up: \" + caseName);\n",
    "    Console.WriteLine(\"based on grid: \"+grd.Name);\n",
    "\n",
    "    var ctrl = new XdgPoisson3Control();\n",
    "    \n",
    "    \n",
    "    ctrl.AlternateDbPaths = new[]{\n",
    "        new ValueTuple<string,string>(remotepath, \"\"),\n",
    "        new ValueTuple<string,string>(localpath, \"\")\n",
    "    };\n",
    "    ctrl.savetodb = true;\n",
    "    ctrl.GridGuid = grd.ID;\n",
    "    \n",
    "    ctrl.FieldOptions.Add(\"Phi\", new FieldOpts() {\n",
    "         Degree = 2,\n",
    "         SaveToDB = FieldOpts.SaveToDBOpt.TRUE\n",
    "    });\n",
    "    ctrl.FieldOptions.Add(\"u\", new FieldOpts() {\n",
    "         Degree = k,\n",
    "         SaveToDB = FieldOpts.SaveToDBOpt.TRUE\n",
    "    });\n",
    "\n",
    "    ctrl.LinearSolver.SolverCode           = solver;\n",
    "    ctrl.LinearSolver.NoOfMultigridLevels  = 10;\n",
    "    ctrl.LinearSolver.TargetBlockSize      = Math.Min(J*_Np-1,10000);\n",
    "    ctrl.LinearSolver.ConvergenceCriterion = 1e-8;\n",
    "    \n",
    "    double radius           = 0.71;\n",
    "    ctrl.ExcactSolSupported = false;\n",
    "    ctrl.InitialValues.Add(\"Phi\", new Formula(\"X => X[0].Pow2()+X[1].Pow2()+X[2].Pow2()-\"+radius+\".Pow2()\"));\n",
    "    ctrl.MU_A = -1;\n",
    "    ctrl.MU_B = -1000;\n",
    "    ctrl.InitialValues.Add(\"rhs#A\", new Formula(\"X => 1\"));\n",
    "    ctrl.InitialValues.Add(\"rhs#B\", new Formula(\"X => 1\"));\n",
    "    ctrl.InitialValues.Add(\"u#A\", new Formula (\"X => 0\"));\n",
    "    ctrl.InitialValues.Add(\"u#B\", new Formula (\"X => 0\"));\n",
    "    ctrl.CutCellQuadratureType = XQuadFactoryHelper.MomentFittingVariants.Saye;\n",
    "    ctrl.SetDefaultDiriBndCnd  = true;\n",
    "    //ctrl.TracingNamespaces     = \"*\";\n",
    "    \n",
    "    ctrl.ViscosityMode = XLaplace_Interface.Mode.SIP;\n",
    "    ctrl.SessionName   = caseName;\n",
    "    ctrl.ProjectName   = WFlowName;\n",
    "    //ctrl.GridPartType  = BoSSS.Foundation.Grid.GridPartType.METIS;\n",
    "    ctrl.GridPartType    = BoSSS.Foundation.Grid.GridPartType.Predefined;\n",
    "    ctrl.GridPartOptions = \"predef\"+cores;\n",
    "    \n",
    "    ctrl.AgglomerationThreshold = 0.1;\n",
    "    \n",
    "    return ctrl;\n",
    "};"
   ]
  },
  {
   "cell_type": "code",
   "execution_count": null,
   "metadata": {
    "dotnet_interactive": {
     "language": "csharp"
    }
   },
   "outputs": [
    {
     "name": "stdout",
     "output_type": "stream",
     "text": [
      "setting up: J262144_k2_exp_Kcycle_schwarz_c4\r\n",
      "based on grid: XdgPoisson-weakscaling\r\n",
      "setting up: J262144_k2_exp_Kcycle_schwarz_c256\r\n",
      "based on grid: XdgPoisson-weakscaling\r\n",
      "setting up: J74088_k4_exp_Kcycle_schwarz_c4\r\n",
      "based on grid: XdgPoisson-weakscaling\r\n",
      "setting up: J74088_k4_exp_Kcycle_schwarz_c256\r\n",
      "based on grid: XdgPoisson-weakscaling\r\n"
     ]
    }
   ],
   "source": [
    "var controls = new Dictionary<Parameterz,XdgPoisson3Control>();\n",
    "foreach(LinearSolverCode solver in solver_sweep) {\n",
    "foreach(var grid in Grids){\n",
    "    int k = grid.Key.Poly;\n",
    "    int cores = grid.Key.Cores;\n",
    "    var grd = grid.Value;\n",
    "    int _Np = Np(k);\n",
    "    int J  = grd.NumberOfCells;\n",
    "    if(J*_Np > MaxDof)\n",
    "        continue;\n",
    "    var ctrl =  CtrlGenerator(solver,k,grd,cores);\n",
    "    controls.Add(grid.Key, ctrl);\n",
    "}}"
   ]
  },
  {
   "cell_type": "markdown",
   "metadata": {},
   "source": [
    "## Generate & submit jobs"
   ]
  },
  {
   "cell_type": "code",
   "execution_count": null,
   "metadata": {
    "dotnet_interactive": {
     "language": "csharp"
    }
   },
   "outputs": [],
   "source": [
    "// Calculate number of nodes, probably necessary in case of memory bottleneck\n",
    "Func<int, int> Nodes4WeakScale = delegate(int NoOfCores){\n",
    "    int MemPerNode = 384*1024; //64 GB on old nodes\n",
    "    return (int)((double)MemoryPerCore / (double)MemPerNode * NoOfCores)+1;\n",
    "};\n",
    "Func<int, int> Nodes4StrongScale = delegate(int NoOfCores){\n",
    "    int corespernode = 96; //24 cores on old nodes\n",
    "    return (int)((double)NoOfCores / (double)corespernode) +1;\n",
    "};\n",
    "Action<int,BatchProcessorClient, List<string>> NodeRegression =  delegate (int cores, BatchProcessorClient thisBatch, List<string> Cmdtmp) {\n",
    "    int NoOfNodes = Nodes4StrongScale(cores);\n",
    "    var tmp = Cmdtmp.CloneNonshallow().ToList();\n",
    "    tmp.Add($\"#SBATCH -N {NoOfNodes}\");\n",
    "    (thisBatch as SlurmClient).AdditionalBatchCommands = tmp.ToArray();\n",
    "};"
   ]
  },
  {
   "cell_type": "code",
   "execution_count": null,
   "metadata": {
    "dotnet_interactive": {
     "language": "csharp"
    }
   },
   "outputs": [
    {
     "name": "stdout",
     "output_type": "stream",
     "text": [
      " Submitting: J262144_k2_exp_Kcycle_schwarz_c4\r\n",
      "Deploying job J262144_k2_exp_Kcycle_schwarz_c4 ... \r\n",
      "Deploying executables and additional files ...\r\n",
      "Deployment directory: X:\\Deployerie\\run_10-1-2022-XdgPoisson32022Jan10_193938\r\n",
      "copied 47 files.\r\n",
      "   written file: control.obj\r\n",
      "   copied 'amd64' runtime.\r\n",
      "deployment finished.\r\n",
      "24845792\r\n",
      "\r\n",
      " Submitting: J262144_k2_exp_Kcycle_schwarz_c256\r\n",
      "Deploying job J262144_k2_exp_Kcycle_schwarz_c256 ... \r\n",
      "Deploying executables and additional files ...\r\n",
      "Deployment directory: X:\\Deployerie\\run_10-1-2022-XdgPoisson32022Jan10_193952\r\n",
      "copied 47 files.\r\n",
      "   written file: control.obj\r\n",
      "   copied 'amd64' runtime.\r\n",
      "deployment finished.\r\n",
      "24845803\r\n",
      "\r\n",
      " Submitting: J74088_k4_exp_Kcycle_schwarz_c4\r\n",
      "Deploying job J74088_k4_exp_Kcycle_schwarz_c4 ... \r\n",
      "Deploying executables and additional files ...\r\n",
      "Deployment directory: X:\\Deployerie\\run_10-1-2022-XdgPoisson32022Jan10_194004\r\n",
      "copied 47 files.\r\n",
      "   written file: control.obj\r\n",
      "   copied 'amd64' runtime.\r\n",
      "deployment finished.\r\n",
      "24845812\r\n",
      "\r\n",
      " Submitting: J74088_k4_exp_Kcycle_schwarz_c256\r\n",
      "Deploying job J74088_k4_exp_Kcycle_schwarz_c256 ... \r\n",
      "Deploying executables and additional files ...\r\n",
      "Deployment directory: X:\\Deployerie\\run_10-1-2022-XdgPoisson32022Jan10_194016\r\n",
      "copied 47 files.\r\n",
      "   written file: control.obj\r\n",
      "   copied 'amd64' runtime.\r\n",
      "deployment finished.\r\n",
      "24845825\r\n",
      "\r\n"
     ]
    }
   ],
   "source": [
    "var Cmdtmp = (myBatch as SlurmClient).AdditionalBatchCommands.ToList();\n",
    "foreach(var cc in controls){\n",
    "    try {\n",
    "        var ctrl = cc.Value;\n",
    "        int ncores = cc.Key.Cores;\n",
    "\n",
    "        Console.WriteLine(\" Submitting: \" + ctrl.SessionName); \n",
    "        var aJob = new Job(ctrl.SessionName, typeof(XdgPoisson3Main));\n",
    "        aJob.SetControlObject(ctrl);\n",
    "        aJob.NumberOfMPIProcs         = ncores;\n",
    "        aJob.ExecutionTime            = \"3:00:00\";\n",
    "        aJob.UseComputeNodesExclusive = true;\n",
    "        if(myBatch is SlurmClient) NodeRegression.Invoke(ncores,myBatch,Cmdtmp);\n",
    "        aJob.Activate(myBatch);\n",
    "    } catch (Exception ex){\n",
    "        Console.WriteLine(ex.Message);\n",
    "    }\n",
    "}"
   ]
  },
  {
   "cell_type": "code",
   "execution_count": null,
   "metadata": {
    "dotnet_interactive": {
     "language": "csharp"
    }
   },
   "outputs": [],
   "source": [
    "BoSSS.Application.BoSSSpad.BoSSSshell.WorkflowMgm.BlockUntilAllJobsTerminate(5*3600,900)"
   ]
  }
 ],
 "metadata": {
  "kernelspec": {
   "display_name": ".NET (C#)",
   "language": "C#",
   "name": ".net-csharp"
  },
  "language_info": {
   "file_extension": ".cs",
   "mimetype": "text/x-csharp",
   "name": "C#",
   "pygments_lexer": "csharp",
   "version": "9.0"
  },
  "orig_nbformat": 4
 },
 "nbformat": 4,
 "nbformat_minor": 2
}
