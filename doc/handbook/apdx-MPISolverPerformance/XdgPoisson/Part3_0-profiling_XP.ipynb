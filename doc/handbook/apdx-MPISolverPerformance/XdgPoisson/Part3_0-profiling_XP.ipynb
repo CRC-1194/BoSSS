{
 "cells": [
  {
   "cell_type": "code",
   "execution_count": null,
   "metadata": {
    "dotnet_interactive": {
     "language": "csharp"
    }
   },
   "outputs": [],
   "source": [
    "//#r \"./../../../../../public/src/L4-application/BoSSSpad/bin/Release/net5.0/BoSSSpad.dll\"\n",
    "#r \"BoSSSpad.dll\"\n",
    "using System;\n",
    "using ilPSP;\n",
    "using ilPSP.Utils;\n",
    "using BoSSS.Platform;\n",
    "using BoSSS.Foundation;\n",
    "using BoSSS.Foundation.XDG;\n",
    "using BoSSS.Foundation.Grid;\n",
    "using BoSSS.Solution;\n",
    "using BoSSS.Application.XNSE_Solver;\n",
    "using System.IO;\n",
    "using BoSSS.Foundation.IO;\n",
    "using ilPSP.Tracing;\n",
    "using BoSSS.Application.BoSSSpad;\n",
    "using BoSSS.Solution.Gnuplot;\n",
    "using BoSSS.Solution.Control;\n",
    "\n",
    "using static BoSSS.Application.BoSSSpad.BoSSSshell;\n",
    "Init();"
   ]
  },
  {
   "cell_type": "code",
   "execution_count": null,
   "metadata": {
    "dotnet_interactive": {
     "language": "csharp"
    }
   },
   "outputs": [],
   "source": [
    "// Is used at Jenkins to generate individual names (for output .json)\n",
    "string dbname = System.Environment.GetEnvironmentVariable(\"DATABASE_NAME\");\n",
    "string buildname = System.Environment.GetEnvironmentVariable(\"JOB_NAME\");\n",
    "//defaults\n",
    "buildname = String.IsNullOrEmpty(buildname)? \"Benchmark\" : buildname;\n",
    "//string thedate = $\"{System.DateTime.Today.Day}-{System.DateTime.Today.Month}-{System.DateTime.Today.Year}\";\n",
    "dbname = String.IsNullOrEmpty(dbname)? \"dbname\" : dbname;\n",
    "string table_name = String.Concat(buildname, \"_\", dbname);"
   ]
  },
  {
   "cell_type": "code",
   "execution_count": null,
   "metadata": {
    "dotnet_interactive": {
     "language": "csharp"
    }
   },
   "outputs": [
    {
     "ename": "Error",
     "evalue": "System.IO.FileNotFoundException: Could not find file 'b:\\BoSSS-smuda\\public\\doc\\handbook\\apdx-MPISolverPerformance\\XdgPoisson\\run_17-1-2022_Benchmark.json'.\r\nFile name: 'b:\\BoSSS-smuda\\public\\doc\\handbook\\apdx-MPISolverPerformance\\XdgPoisson\\run_17-1-2022_Benchmark.json'\r\n   at System.IO.FileStream.ValidateFileHandle(SafeFileHandle fileHandle)\r\n   at System.IO.FileStream.CreateFileOpenHandle(FileMode mode, FileShare share, FileOptions options)\r\n   at System.IO.FileStream..ctor(String path, FileMode mode, FileAccess access, FileShare share, Int32 bufferSize, FileOptions options)\r\n   at System.IO.StreamReader.ValidateArgsAndOpenPath(String path, Encoding encoding, Int32 bufferSize)\r\n   at System.IO.StreamReader..ctor(String path, Encoding encoding, Boolean detectEncodingFromByteOrderMarks)\r\n   at System.IO.File.InternalReadAllText(String path, Encoding encoding)\r\n   at System.IO.File.ReadAllText(String path)\r\n   at BoSSS.Application.BoSSSpad.TableExtensions.LoadFromFile(String filePath) in B:\\BoSSS-smuda\\public\\src\\L4-application\\BoSSSpad\\TableExtensions.cs:line 429\r\n   at Submission#5.<<Initialize>>d__0.MoveNext()\r\n--- End of stack trace from previous location ---\r\n   at Microsoft.CodeAnalysis.Scripting.ScriptExecutionState.RunSubmissionsAsync[TResult](ImmutableArray`1 precedingExecutors, Func`2 currentExecutor, StrongBox`1 exceptionHolderOpt, Func`2 catchExceptionOpt, CancellationToken cancellationToken)",
     "output_type": "error",
     "traceback": [
      "System.IO.FileNotFoundException: Could not find file 'b:\\BoSSS-smuda\\public\\doc\\handbook\\apdx-MPISolverPerformance\\XdgPoisson\\run_17-1-2022_Benchmark.json'.\r\n",
      "File name: 'b:\\BoSSS-smuda\\public\\doc\\handbook\\apdx-MPISolverPerformance\\XdgPoisson\\run_17-1-2022_Benchmark.json'\r\n",
      "   at System.IO.FileStream.ValidateFileHandle(SafeFileHandle fileHandle)\r\n",
      "   at System.IO.FileStream.CreateFileOpenHandle(FileMode mode, FileShare share, FileOptions options)\r\n",
      "   at System.IO.FileStream..ctor(String path, FileMode mode, FileAccess access, FileShare share, Int32 bufferSize, FileOptions options)\r\n",
      "   at System.IO.StreamReader.ValidateArgsAndOpenPath(String path, Encoding encoding, Int32 bufferSize)\r\n",
      "   at System.IO.StreamReader..ctor(String path, Encoding encoding, Boolean detectEncodingFromByteOrderMarks)\r\n",
      "   at System.IO.File.InternalReadAllText(String path, Encoding encoding)\r\n",
      "   at System.IO.File.ReadAllText(String path)\r\n",
      "   at BoSSS.Application.BoSSSpad.TableExtensions.LoadFromFile(String filePath) in B:\\BoSSS-smuda\\public\\src\\L4-application\\BoSSSpad\\TableExtensions.cs:line 429\r\n",
      "   at Submission#5.<<Initialize>>d__0.MoveNext()\r\n",
      "--- End of stack trace from previous location ---\r\n",
      "   at Microsoft.CodeAnalysis.Scripting.ScriptExecutionState.RunSubmissionsAsync[TResult](ImmutableArray`1 precedingExecutors, Func`2 currentExecutor, StrongBox`1 exceptionHolderOpt, Func`2 catchExceptionOpt, CancellationToken cancellationToken)"
     ]
    }
   ],
   "source": [
    "string CurrentDocDir = Directory.GetCurrentDirectory();\n",
    "string path = String.Concat(CurrentDocDir,@\"/\",table_name,\".json\");\n",
    "var SubTab = TableExtensions.LoadFromFile(path);"
   ]
  },
  {
   "cell_type": "code",
   "execution_count": null,
   "metadata": {
    "dotnet_interactive": {
     "language": "csharp"
    }
   },
   "outputs": [],
   "source": [
    "//var SubTab = TableExtensions.LoadFromFile(@\"B:\\BoSSS-smuda\\public\\doc\\handbook\\apdx-MPISolverPerformance\\XdgPoisson\\data_weak\\Xdg_weakscaling_s_2020-9-9.json\");"
   ]
  },
  {
   "cell_type": "code",
   "execution_count": null,
   "metadata": {
    "dotnet_interactive": {
     "language": "csharp"
    }
   },
   "outputs": [],
   "source": [
    "// downward compatibility ... new : old\n",
    "string LSolverCode = SubTab.Columns.Contains(\"LinearSolverCode\")? \"LinearSolverCode\" : \"LinearSolver.SolverCode\";\n",
    "string MatrixAssembly = SubTab.Columns.Contains(\"MatrixAssembly_time\")? \"MatrixAssembly_time\" : \"XdgMatrixAssembly\";\n",
    "string AggInittime = SubTab.Columns.Contains(\"AggregationBaseInit_time\")? \"AggregationBaseInit_time\" : \"Aggregation_basis_init_time\";\n",
    "string SolverInit_time = SubTab.Columns.Contains(\"SolverInit_time\")? \"SolverInit_time\" : \"Solver_Init_time\";\n",
    "string SolverRun_time = SubTab.Columns.Contains(\"SolverRun_time\")? \"SolverRun_time\" : \"Solver_Run_time\";"
   ]
  },
  {
   "cell_type": "code",
   "execution_count": null,
   "metadata": {
    "dotnet_interactive": {
     "language": "csharp"
    }
   },
   "outputs": [
    {
     "name": "stdout",
     "output_type": "stream",
     "text": [
      "    LinearSolver.SolverCode DOFs    DGdegree:u maxSolRunT         ProjectName           SessionName                          NoIter \r\n",
      "0:  2                       43840   2          40.9736952         Xdg_weakscaling       J4096_k2_classic_pardiso             1      \r\n",
      "1:  2                       84320   2          65.7982942         Xdg_weakscaling       J8000_k2_classic_pardiso             1      \r\n",
      "2:  2                       183200  2          170.00860459999998 Xdg_weakscaling       J17576_k2_classic_pardiso            1      \r\n",
      "3:  2                       339040  2          527.6745040999999  Xdg_weakscaling       J32768_k2_classic_pardiso            1      \r\n",
      "4:  2                       660160  2          2208.329985        Xdg_weakscaling       J64000_k2_classic_pardiso            1      \r\n",
      "5:  41                      43840   2          183.4011587        Xdg_weakscaling       J4096_k2_exp_Kcycle_schwarz          14     \r\n",
      "6:  41                      84320   2          515.5230200999999  Xdg_weakscaling       J8000_k2_exp_Kcycle_schwarz          16     \r\n",
      "7:  41                      183200  2          588.4274219        Xdg_weakscaling       J17576_k2_exp_Kcycle_schwarz         15     \r\n",
      "8:  41                      339040  2          504.3891961        Xdg_weakscaling       J32768_k2_exp_Kcycle_schwarz         15     \r\n",
      "9:  41                      660160  2          854.8888374999999  Xdg_weakscaling       J64000_k2_exp_Kcycle_schwarz         19     \r\n",
      "10: 41                      1359210 2          640.2913618        Xdg_weakscaling_Debug J132651_k2_exp_Kcycle_schwarz_predef 21     \r\n",
      "11: 41                      2671600 2          1158.9981831999999 Xdg_weakscaling       J262144_k2_exp_Kcycle_schwarz        27     \r\n",
      "12: 41                      5199920 2          1245.4266283       Xdg_weakscaling       J512000_k2_exp_Kcycle_schwarz        27     "
     ]
    }
   ],
   "source": [
    "var tab                        = SubTab.ExtractColumns(LSolverCode, \"DOFs\",\"DGdegree:u\",\"maxSolRunT\",\"ProjectName\",\"SessionName\",\"NoIter\");\n",
    "System.Data.DataView dv        = tab.DefaultView;\n",
    "dv.Sort                        = LSolverCode+\",DOFs\";\n",
    "System.Data.DataTable sortedDT = dv.ToTable();\n",
    "sortedDT.Print();"
   ]
  },
  {
   "cell_type": "code",
   "execution_count": null,
   "metadata": {
    "dotnet_interactive": {
     "language": "csharp"
    }
   },
   "outputs": [],
   "source": [
    " Func<int, int, PlotRowSelectorEx> Solver_DG_Proj_Ex = delegate (int DG, int Solver){\n",
    "      return delegate (int iSweep, int iTabRow, \n",
    "            IDictionary<string, object> Row, \n",
    "            out string Nmn, \n",
    "            out PlotFormat Fmt,\n",
    "            out double xValue, out double yValue) { \n",
    "      // - - - - - - - - - - - - - - - - - - - - - - - - \n",
    "      // PlotRowSelector:\n",
    "      // selects, which table row goes to which graph,\n",
    "      // and the respective color  \n",
    "      // - - - - - - - - - - - - - - - - - - - - - - - - \n",
    "      int k           = Convert.ToInt32(Row[\"DGdegree:u\"]);\n",
    "      int solver_name = Convert.ToInt32(Row[LSolverCode]);\n",
    "    \n",
    "      if(k != DG || solver_name != Solver) {\n",
    "          // degree does not match -> not in this plot\n",
    "          Nmn    = null;\n",
    "          Fmt    = null;\n",
    "          xValue = 0;\n",
    "          yValue = 0;\n",
    "          return;\n",
    "      }\n",
    "      \n",
    "      double mtxAssi  = Convert.ToDouble(Row[MatrixAssembly]);\n",
    "      double aggBinit = Convert.ToDouble(Row[AggInittime]);\n",
    "      double slvInit  = Convert.ToDouble(Row[SolverInit_time]);\n",
    "      double slvRun   = Convert.ToDouble(Row[SolverRun_time]);\n",
    "      double cores    = Convert.ToDouble(Row[\"NoOfCores\"]);\n",
    "      \n",
    "      if(aggBinit > 700)\n",
    "      Console.Write(\"aggBinit/slvRun = \" + aggBinit + \"/\" + slvRun);\n",
    "      \n",
    "      Fmt           = new PlotFormat();\n",
    "      Fmt.PointSize = 0.5;\n",
    "      Fmt.Style     = Styles.LinesPoints;\n",
    "      Fmt.LineColor = LineColors.Black;\n",
    "      Fmt.LineWidth = 3;\n",
    "      \n",
    "      xValue = cores;\n",
    "      \n",
    "      switch(iSweep) {\n",
    "          case 0:\n",
    "          yValue       = slvRun;\n",
    "          Nmn          = \"Slv Iter\";\n",
    "          Fmt.DashType = DashTypes.Dotted;\n",
    "          Fmt.PointType = PointTypes.OpenCircle;\n",
    "          break;\n",
    "          \n",
    "          case 1:\n",
    "          yValue        = slvInit;\n",
    "          Nmn           = \"Slv Init\";\n",
    "          Fmt.DashType  = DashTypes.Dashed;\n",
    "          Fmt.PointType = PointTypes.OpenBox;\n",
    "          break;\n",
    "          \n",
    "          case 2:\n",
    "          yValue        = aggBinit;\n",
    "          Nmn           = \"Agg Init\";\n",
    "          Fmt.DashType  = DashTypes.DotDashed;\n",
    "          Fmt.PointType = PointTypes.OpenDiamond;\n",
    "          break;\n",
    "          \n",
    "          case 3:\n",
    "          yValue        = mtxAssi;\n",
    "          Nmn           = \"Mtx ass\";\n",
    "          Fmt.DashType  = DashTypes.DotDotDashed;\n",
    "          Fmt.PointType = PointTypes.OpenUpperTriangle;\n",
    "          break;\n",
    "          \n",
    "          default:\n",
    "          throw new NotImplementedException();\n",
    "      }\n",
    "      \n",
    "      if(aggBinit > 700)\n",
    "      Console.WriteLine(\"\\t + case: {0} + yValue = {1}\", iSweep, yValue);\n",
    "  };\n",
    "};"
   ]
  },
  {
   "cell_type": "code",
   "execution_count": null,
   "metadata": {
    "dotnet_interactive": {
     "language": "csharp"
    }
   },
   "outputs": [
    {
     "data": {
      "text/html": [
       "<table><thead><tr><th><i>index</i></th><th>value</th></tr></thead><tbody><tr><td>0</td><td>minSolRunT</td></tr><tr><td>1</td><td>maxSolRunT</td></tr><tr><td>2</td><td>Solver_Run_time</td></tr></tbody></table>"
      ]
     },
     "metadata": {},
     "output_type": "display_data"
    }
   ],
   "source": [
    "SubTab.GetColumnNames().Where(s=>s.Contains(\"Run\"))"
   ]
  },
  {
   "cell_type": "code",
   "execution_count": null,
   "metadata": {
    "dotnet_interactive": {
     "language": "csharp"
    }
   },
   "outputs": [
    {
     "data": {
      "text/html": [
       "<div class=\"dni-plaintext\">22.613752299999998</div>"
      ]
     },
     "metadata": {},
     "output_type": "display_data"
    }
   ],
   "source": [
    "var Row = SubTab.Rows[0];\n",
    "\n",
    "Convert.ToDouble(Row[MatrixAssembly])"
   ]
  },
  {
   "cell_type": "code",
   "execution_count": null,
   "metadata": {
    "dotnet_interactive": {
     "language": "csharp"
    }
   },
   "outputs": [
    {
     "name": "stdout",
     "output_type": "stream",
     "text": [
      "Using gnuplot: B:\\BoSSS-BIN\\bin\\native\\win\\gnuplot-gp510-20160418-win32-mingw\\gnuplot\\bin\\gnuplot.exe\r\n",
      "set key font \",16\"Left reverse \r\n"
     ]
    },
    {
     "data": {
      "text/html": [
       "<?xml version=\"1.0\" encoding=\"utf-8\"  standalone=\"no\"?>\n",
       "<!DOCTYPE svg PUBLIC \"-//W3C//DTD SVG 1.1//EN\"\n",
       " \"http://www.w3.org/Graphics/SVG/1.1/DTD/svg11.dtd\">\n",
       "<svg \n",
       " width=\"800\" height=\"600\"\n",
       " viewBox=\"0 0 800 600\"\n",
       " xmlns=\"http://www.w3.org/2000/svg\"\n",
       " xmlns:xlink=\"http://www.w3.org/1999/xlink\"\n",
       ">\n",
       "\n",
       "<title>Gnuplot</title>\n",
       "<desc>Produced by GNUPLOT 5.1 patchlevel 0 </desc>\n",
       "\n",
       "<g id=\"gnuplot_canvas\">\n",
       "\n",
       "<rect x=\"0\" y=\"0\" width=\"800\" height=\"600\" fill=\"#ffffff\"/>\n",
       "<defs>\n",
       "\n",
       "\t<circle id='gpDot' r='0.5' stroke-width='0.5'/>\n",
       "\t<path id='gpPt0' stroke-width='0.222' stroke='currentColor' d='M-1,0 h2 M0,-1 v2'/>\n",
       "\t<path id='gpPt1' stroke-width='0.222' stroke='currentColor' d='M-1,-1 L1,1 M1,-1 L-1,1'/>\n",
       "\t<path id='gpPt2' stroke-width='0.222' stroke='currentColor' d='M-1,0 L1,0 M0,-1 L0,1 M-1,-1 L1,1 M-1,1 L1,-1'/>\n",
       "\t<rect id='gpPt3' stroke-width='0.222' stroke='currentColor' x='-1' y='-1' width='2' height='2'/>\n",
       "\t<rect id='gpPt4' stroke-width='0.222' stroke='currentColor' fill='currentColor' x='-1' y='-1' width='2' height='2'/>\n",
       "\t<circle id='gpPt5' stroke-width='0.222' stroke='currentColor' cx='0' cy='0' r='1'/>\n",
       "\t<use xlink:href='#gpPt5' id='gpPt6' fill='currentColor' stroke='none'/>\n",
       "\t<path id='gpPt7' stroke-width='0.222' stroke='currentColor' d='M0,-1.33 L-1.33,0.67 L1.33,0.67 z'/>\n",
       "\t<use xlink:href='#gpPt7' id='gpPt8' fill='currentColor' stroke='none'/>\n",
       "\t<use xlink:href='#gpPt7' id='gpPt9' stroke='currentColor' transform='rotate(180)'/>\n",
       "\t<use xlink:href='#gpPt9' id='gpPt10' fill='currentColor' stroke='none'/>\n",
       "\t<use xlink:href='#gpPt3' id='gpPt11' stroke='currentColor' transform='rotate(45)'/>\n",
       "\t<use xlink:href='#gpPt11' id='gpPt12' fill='currentColor' stroke='none'/>\n",
       "\t<path id='gpPt13' stroke-width='0.222' stroke='currentColor' d='M0,1.330 L1.265,0.411 L0.782,-1.067 L-0.782,-1.076 L-1.265,0.411 z'/>\n",
       "\t<use xlink:href='#gpPt13' id='gpPt14' fill='currentColor' stroke='none'/>\n",
       "\t<filter id='textbox' filterUnits='objectBoundingBox' x='0' y='0' height='1' width='1'>\n",
       "\t  <feFlood flood-color='#FFFFFF' flood-opacity='1' result='bgnd'/>\n",
       "\t  <feComposite in='SourceGraphic' in2='bgnd' operator='atop'/>\n",
       "\t</filter>\n",
       "\t<filter id='greybox' filterUnits='objectBoundingBox' x='0' y='0' height='1' width='1'>\n",
       "\t  <feFlood flood-color='lightgrey' flood-opacity='1' result='grey'/>\n",
       "\t  <feComposite in='SourceGraphic' in2='grey' operator='atop'/>\n",
       "\t</filter>\n",
       "</defs>\n",
       "<g fill=\"none\" color=\"#FFFFFF\" stroke=\"currentColor\" stroke-width=\"1.00\" stroke-linecap=\"butt\" stroke-linejoin=\"miter\">\n",
       "</g>\n",
       "<g fill=\"none\" color=\"black\" stroke=\"currentColor\" stroke-width=\"1.00\" stroke-linecap=\"butt\" stroke-linejoin=\"miter\">\n",
       "\t<path stroke='black'  d='M79.8,540.1 L88.8,540.1 M742.1,540.1 L733.1,540.1  '/>\t<g transform=\"translate(71.5,546.1)\" stroke=\"none\" fill=\"black\" font-family=\"sans\" font-size=\"16.00\"  text-anchor=\"end\">\n",
       "\t\t<text><tspan font-family=\"sans\" >$10</tspan><tspan font-family=\"sans\"  font-size=\"12.8\" dy=\"-8.00px\">0</tspan><tspan font-family=\"sans\"  font-size=\"16.0\" dy=\"8.00px\">$</tspan></text>\n",
       "\t</g>\n",
       "</g>\n",
       "<g fill=\"none\" color=\"black\" stroke=\"currentColor\" stroke-width=\"1.00\" stroke-linecap=\"butt\" stroke-linejoin=\"miter\">\n",
       "\t<path stroke='black'  d='M79.8,502.6 L84.3,502.6 M742.1,502.6 L737.6,502.6 M79.8,480.7 L84.3,480.7 M742.1,480.7 L737.6,480.7\n",
       "\t\tM79.8,465.1 L84.3,465.1 M742.1,465.1 L737.6,465.1 M79.8,453.1 L84.3,453.1 M742.1,453.1 L737.6,453.1\n",
       "\t\tM79.8,443.2 L84.3,443.2 M742.1,443.2 L737.6,443.2 M79.8,434.9 L84.3,434.9 M742.1,434.9 L737.6,434.9\n",
       "\t\tM79.8,427.7 L84.3,427.7 M742.1,427.7 L737.6,427.7 M79.8,421.3 L84.3,421.3 M742.1,421.3 L737.6,421.3\n",
       "\t\tM79.8,415.6 L88.8,415.6 M742.1,415.6 L733.1,415.6  '/>\t<g transform=\"translate(71.5,421.6)\" stroke=\"none\" fill=\"black\" font-family=\"sans\" font-size=\"16.00\"  text-anchor=\"end\">\n",
       "\t\t<text><tspan font-family=\"sans\" >$10</tspan><tspan font-family=\"sans\"  font-size=\"12.8\" dy=\"-8.00px\">1</tspan><tspan font-family=\"sans\"  font-size=\"16.0\" dy=\"8.00px\">$</tspan></text>\n",
       "\t</g>\n",
       "</g>\n",
       "<g fill=\"none\" color=\"black\" stroke=\"currentColor\" stroke-width=\"1.00\" stroke-linecap=\"butt\" stroke-linejoin=\"miter\">\n",
       "\t<path stroke='black'  d='M79.8,378.1 L84.3,378.1 M742.1,378.1 L737.6,378.1 M79.8,356.2 L84.3,356.2 M742.1,356.2 L737.6,356.2\n",
       "\t\tM79.8,340.6 L84.3,340.6 M742.1,340.6 L737.6,340.6 M79.8,328.6 L84.3,328.6 M742.1,328.6 L737.6,328.6\n",
       "\t\tM79.8,318.7 L84.3,318.7 M742.1,318.7 L737.6,318.7 M79.8,310.4 L84.3,310.4 M742.1,310.4 L737.6,310.4\n",
       "\t\tM79.8,303.2 L84.3,303.2 M742.1,303.2 L737.6,303.2 M79.8,296.8 L84.3,296.8 M742.1,296.8 L737.6,296.8\n",
       "\t\tM79.8,291.1 L88.8,291.1 M742.1,291.1 L733.1,291.1  '/>\t<g transform=\"translate(71.5,297.1)\" stroke=\"none\" fill=\"black\" font-family=\"sans\" font-size=\"16.00\"  text-anchor=\"end\">\n",
       "\t\t<text><tspan font-family=\"sans\" >$10</tspan><tspan font-family=\"sans\"  font-size=\"12.8\" dy=\"-8.00px\">2</tspan><tspan font-family=\"sans\"  font-size=\"16.0\" dy=\"8.00px\">$</tspan></text>\n",
       "\t</g>\n",
       "</g>\n",
       "<g fill=\"none\" color=\"black\" stroke=\"currentColor\" stroke-width=\"1.00\" stroke-linecap=\"butt\" stroke-linejoin=\"miter\">\n",
       "\t<path stroke='black'  d='M79.8,253.6 L84.3,253.6 M742.1,253.6 L737.6,253.6 M79.8,231.7 L84.3,231.7 M742.1,231.7 L737.6,231.7\n",
       "\t\tM79.8,216.1 L84.3,216.1 M742.1,216.1 L737.6,216.1 M79.8,204.1 L84.3,204.1 M742.1,204.1 L737.6,204.1\n",
       "\t\tM79.8,194.2 L84.3,194.2 M742.1,194.2 L737.6,194.2 M79.8,185.9 L84.3,185.9 M742.1,185.9 L737.6,185.9\n",
       "\t\tM79.8,178.7 L84.3,178.7 M742.1,178.7 L737.6,178.7 M79.8,172.3 L84.3,172.3 M742.1,172.3 L737.6,172.3\n",
       "\t\tM79.8,166.6 L88.8,166.6 M742.1,166.6 L733.1,166.6  '/>\t<g transform=\"translate(71.5,172.6)\" stroke=\"none\" fill=\"black\" font-family=\"sans\" font-size=\"16.00\"  text-anchor=\"end\">\n",
       "\t\t<text><tspan font-family=\"sans\" >$10</tspan><tspan font-family=\"sans\"  font-size=\"12.8\" dy=\"-8.00px\">3</tspan><tspan font-family=\"sans\"  font-size=\"16.0\" dy=\"8.00px\">$</tspan></text>\n",
       "\t</g>\n",
       "</g>\n",
       "<g fill=\"none\" color=\"black\" stroke=\"currentColor\" stroke-width=\"1.00\" stroke-linecap=\"butt\" stroke-linejoin=\"miter\">\n",
       "\t<path stroke='black'  d='M79.8,129.1 L84.3,129.1 M742.1,129.1 L737.6,129.1 M79.8,107.2 L84.3,107.2 M742.1,107.2 L737.6,107.2\n",
       "\t\tM79.8,91.6 L84.3,91.6 M742.1,91.6 L737.6,91.6 M79.8,79.6 L84.3,79.6 M742.1,79.6 L737.6,79.6\n",
       "\t\tM79.8,69.7 L84.3,69.7 M742.1,69.7 L737.6,69.7 M79.8,61.4 L84.3,61.4 M742.1,61.4 L737.6,61.4\n",
       "\t\tM79.8,54.2 L84.3,54.2 M742.1,54.2 L737.6,54.2 M79.8,47.8 L84.3,47.8 M742.1,47.8 L737.6,47.8\n",
       "\t\tM79.8,42.1 L88.8,42.1 M742.1,42.1 L733.1,42.1  '/>\t<g transform=\"translate(71.5,48.1)\" stroke=\"none\" fill=\"black\" font-family=\"sans\" font-size=\"16.00\"  text-anchor=\"end\">\n",
       "\t\t<text><tspan font-family=\"sans\" >$10</tspan><tspan font-family=\"sans\"  font-size=\"12.8\" dy=\"-8.00px\">4</tspan><tspan font-family=\"sans\"  font-size=\"16.0\" dy=\"8.00px\">$</tspan></text>\n",
       "\t</g>\n",
       "</g>\n",
       "<g fill=\"none\" color=\"black\" stroke=\"currentColor\" stroke-width=\"1.00\" stroke-linecap=\"butt\" stroke-linejoin=\"miter\">\n",
       "\t<path stroke='black'  d='M79.8,540.1 L79.8,535.6 M79.8,42.1 L79.8,46.6 M110.3,540.1 L110.3,535.6 M110.3,42.1 L110.3,46.6\n",
       "\t\tM135.1,540.1 L135.1,535.6 M135.1,42.1 L135.1,46.6 M156.2,540.1 L156.2,535.6 M156.2,42.1 L156.2,46.6\n",
       "\t\tM174.4,540.1 L174.4,535.6 M174.4,42.1 L174.4,46.6 M190.5,540.1 L190.5,535.6 M190.5,42.1 L190.5,46.6\n",
       "\t\tM204.9,540.1 L204.9,531.1 M204.9,42.1 L204.9,51.1  '/>\t<g transform=\"translate(204.9,571.3)\" stroke=\"none\" fill=\"black\" font-family=\"sans\" font-size=\"16.00\"  text-anchor=\"middle\">\n",
       "\t\t<text><tspan font-family=\"sans\" >$10</tspan><tspan font-family=\"sans\"  font-size=\"12.8\" dy=\"-8.00px\">1</tspan><tspan font-family=\"sans\"  font-size=\"16.0\" dy=\"8.00px\">$</tspan></text>\n",
       "\t</g>\n",
       "</g>\n",
       "<g fill=\"none\" color=\"black\" stroke=\"currentColor\" stroke-width=\"1.00\" stroke-linecap=\"butt\" stroke-linejoin=\"miter\">\n",
       "\t<path stroke='black'  d='M299.5,540.1 L299.5,535.6 M299.5,42.1 L299.5,46.6 M354.8,540.1 L354.8,535.6 M354.8,42.1 L354.8,46.6\n",
       "\t\tM394.1,540.1 L394.1,535.6 M394.1,42.1 L394.1,46.6 M424.6,540.1 L424.6,535.6 M424.6,42.1 L424.6,46.6\n",
       "\t\tM449.4,540.1 L449.4,535.6 M449.4,42.1 L449.4,46.6 M470.5,540.1 L470.5,535.6 M470.5,42.1 L470.5,46.6\n",
       "\t\tM488.7,540.1 L488.7,535.6 M488.7,42.1 L488.7,46.6 M504.8,540.1 L504.8,535.6 M504.8,42.1 L504.8,46.6\n",
       "\t\tM519.2,540.1 L519.2,531.1 M519.2,42.1 L519.2,51.1  '/>\t<g transform=\"translate(519.2,571.3)\" stroke=\"none\" fill=\"black\" font-family=\"sans\" font-size=\"16.00\"  text-anchor=\"middle\">\n",
       "\t\t<text><tspan font-family=\"sans\" >$10</tspan><tspan font-family=\"sans\"  font-size=\"12.8\" dy=\"-8.00px\">2</tspan><tspan font-family=\"sans\"  font-size=\"16.0\" dy=\"8.00px\">$</tspan></text>\n",
       "\t</g>\n",
       "</g>\n",
       "<g fill=\"none\" color=\"black\" stroke=\"currentColor\" stroke-width=\"1.00\" stroke-linecap=\"butt\" stroke-linejoin=\"miter\">\n",
       "\t<path stroke='black'  d='M613.8,540.1 L613.8,535.6 M613.8,42.1 L613.8,46.6 M669.1,540.1 L669.1,535.6 M669.1,42.1 L669.1,46.6\n",
       "\t\tM708.4,540.1 L708.4,535.6 M708.4,42.1 L708.4,46.6 M738.9,540.1 L738.9,535.6 M738.9,42.1 L738.9,46.6\n",
       "\t\tM742.1,540.1 L733.1,540.1  '/>\t<g transform=\"translate(750.4,544.6)\" stroke=\"none\" fill=\"black\" font-family=\"Arial\" font-size=\"12.00\"  text-anchor=\"start\">\n",
       "\t\t<text><tspan font-family=\"Arial\" > </tspan></text>\n",
       "\t</g>\n",
       "</g>\n",
       "<g fill=\"none\" color=\"black\" stroke=\"currentColor\" stroke-width=\"1.00\" stroke-linecap=\"butt\" stroke-linejoin=\"miter\">\n",
       "\t<path stroke='black'  d='M742.1,477.8 L733.1,477.8  '/>\t<g transform=\"translate(750.4,482.3)\" stroke=\"none\" fill=\"black\" font-family=\"Arial\" font-size=\"12.00\"  text-anchor=\"start\">\n",
       "\t\t<text><tspan font-family=\"Arial\" > </tspan></text>\n",
       "\t</g>\n",
       "</g>\n",
       "<g fill=\"none\" color=\"black\" stroke=\"currentColor\" stroke-width=\"1.00\" stroke-linecap=\"butt\" stroke-linejoin=\"miter\">\n",
       "\t<path stroke='black'  d='M742.1,415.6 L733.1,415.6  '/>\t<g transform=\"translate(750.4,420.1)\" stroke=\"none\" fill=\"black\" font-family=\"Arial\" font-size=\"12.00\"  text-anchor=\"start\">\n",
       "\t\t<text><tspan font-family=\"Arial\" > </tspan></text>\n",
       "\t</g>\n",
       "</g>\n",
       "<g fill=\"none\" color=\"black\" stroke=\"currentColor\" stroke-width=\"1.00\" stroke-linecap=\"butt\" stroke-linejoin=\"miter\">\n",
       "\t<path stroke='black'  d='M742.1,353.3 L733.1,353.3  '/>\t<g transform=\"translate(750.4,357.8)\" stroke=\"none\" fill=\"black\" font-family=\"Arial\" font-size=\"12.00\"  text-anchor=\"start\">\n",
       "\t\t<text><tspan font-family=\"Arial\" > </tspan></text>\n",
       "\t</g>\n",
       "</g>\n",
       "<g fill=\"none\" color=\"black\" stroke=\"currentColor\" stroke-width=\"1.00\" stroke-linecap=\"butt\" stroke-linejoin=\"miter\">\n",
       "\t<path stroke='black'  d='M742.1,291.1 L733.1,291.1  '/>\t<g transform=\"translate(750.4,295.6)\" stroke=\"none\" fill=\"black\" font-family=\"Arial\" font-size=\"12.00\"  text-anchor=\"start\">\n",
       "\t\t<text><tspan font-family=\"Arial\" > </tspan></text>\n",
       "\t</g>\n",
       "</g>\n",
       "<g fill=\"none\" color=\"black\" stroke=\"currentColor\" stroke-width=\"1.00\" stroke-linecap=\"butt\" stroke-linejoin=\"miter\">\n",
       "\t<path stroke='black'  d='M742.1,228.8 L733.1,228.8  '/>\t<g transform=\"translate(750.4,233.3)\" stroke=\"none\" fill=\"black\" font-family=\"Arial\" font-size=\"12.00\"  text-anchor=\"start\">\n",
       "\t\t<text><tspan font-family=\"Arial\" > </tspan></text>\n",
       "\t</g>\n",
       "</g>\n",
       "<g fill=\"none\" color=\"black\" stroke=\"currentColor\" stroke-width=\"1.00\" stroke-linecap=\"butt\" stroke-linejoin=\"miter\">\n",
       "\t<path stroke='black'  d='M742.1,166.6 L733.1,166.6  '/>\t<g transform=\"translate(750.4,171.1)\" stroke=\"none\" fill=\"black\" font-family=\"Arial\" font-size=\"12.00\"  text-anchor=\"start\">\n",
       "\t\t<text><tspan font-family=\"Arial\" > </tspan></text>\n",
       "\t</g>\n",
       "</g>\n",
       "<g fill=\"none\" color=\"black\" stroke=\"currentColor\" stroke-width=\"1.00\" stroke-linecap=\"butt\" stroke-linejoin=\"miter\">\n",
       "\t<path stroke='black'  d='M742.1,104.3 L733.1,104.3  '/>\t<g transform=\"translate(750.4,108.8)\" stroke=\"none\" fill=\"black\" font-family=\"Arial\" font-size=\"12.00\"  text-anchor=\"start\">\n",
       "\t\t<text><tspan font-family=\"Arial\" > </tspan></text>\n",
       "\t</g>\n",
       "</g>\n",
       "<g fill=\"none\" color=\"black\" stroke=\"currentColor\" stroke-width=\"1.00\" stroke-linecap=\"butt\" stroke-linejoin=\"miter\">\n",
       "\t<path stroke='black'  d='M742.1,42.1 L733.1,42.1  '/>\t<g transform=\"translate(750.4,46.6)\" stroke=\"none\" fill=\"black\" font-family=\"Arial\" font-size=\"12.00\"  text-anchor=\"start\">\n",
       "\t\t<text><tspan font-family=\"Arial\" > </tspan></text>\n",
       "\t</g>\n",
       "</g>\n",
       "<g fill=\"none\" color=\"black\" stroke=\"currentColor\" stroke-width=\"1.00\" stroke-linecap=\"butt\" stroke-linejoin=\"miter\">\n",
       "\t<path stroke='black'  d='M79.8,42.1 L79.8,51.1  '/>\t<g transform=\"translate(79.8,28.6)\" stroke=\"none\" fill=\"black\" font-family=\"Arial\" font-size=\"12.00\"  text-anchor=\"middle\">\n",
       "\t\t<text><tspan font-family=\"Arial\" > </tspan></text>\n",
       "\t</g>\n",
       "</g>\n",
       "<g fill=\"none\" color=\"black\" stroke=\"currentColor\" stroke-width=\"1.00\" stroke-linecap=\"butt\" stroke-linejoin=\"miter\">\n",
       "\t<path stroke='black'  d='M212.3,42.1 L212.3,51.1  '/>\t<g transform=\"translate(212.3,28.6)\" stroke=\"none\" fill=\"black\" font-family=\"Arial\" font-size=\"12.00\"  text-anchor=\"middle\">\n",
       "\t\t<text><tspan font-family=\"Arial\" > </tspan></text>\n",
       "\t</g>\n",
       "</g>\n",
       "<g fill=\"none\" color=\"black\" stroke=\"currentColor\" stroke-width=\"1.00\" stroke-linecap=\"butt\" stroke-linejoin=\"miter\">\n",
       "\t<path stroke='black'  d='M344.7,42.1 L344.7,51.1  '/>\t<g transform=\"translate(344.7,28.6)\" stroke=\"none\" fill=\"black\" font-family=\"Arial\" font-size=\"12.00\"  text-anchor=\"middle\">\n",
       "\t\t<text><tspan font-family=\"Arial\" > </tspan></text>\n",
       "\t</g>\n",
       "</g>\n",
       "<g fill=\"none\" color=\"black\" stroke=\"currentColor\" stroke-width=\"1.00\" stroke-linecap=\"butt\" stroke-linejoin=\"miter\">\n",
       "\t<path stroke='black'  d='M477.2,42.1 L477.2,51.1  '/>\t<g transform=\"translate(477.2,28.6)\" stroke=\"none\" fill=\"black\" font-family=\"Arial\" font-size=\"12.00\"  text-anchor=\"middle\">\n",
       "\t\t<text><tspan font-family=\"Arial\" > </tspan></text>\n",
       "\t</g>\n",
       "</g>\n",
       "<g fill=\"none\" color=\"black\" stroke=\"currentColor\" stroke-width=\"1.00\" stroke-linecap=\"butt\" stroke-linejoin=\"miter\">\n",
       "\t<path stroke='black'  d='M609.6,42.1 L609.6,51.1  '/>\t<g transform=\"translate(609.6,28.6)\" stroke=\"none\" fill=\"black\" font-family=\"Arial\" font-size=\"12.00\"  text-anchor=\"middle\">\n",
       "\t\t<text><tspan font-family=\"Arial\" > </tspan></text>\n",
       "\t</g>\n",
       "</g>\n",
       "<g fill=\"none\" color=\"black\" stroke=\"currentColor\" stroke-width=\"1.00\" stroke-linecap=\"butt\" stroke-linejoin=\"miter\">\n",
       "\t<path stroke='black'  d='M742.1,42.1 L742.1,51.1  '/>\t<g transform=\"translate(742.1,28.6)\" stroke=\"none\" fill=\"black\" font-family=\"Arial\" font-size=\"12.00\"  text-anchor=\"middle\">\n",
       "\t\t<text><tspan font-family=\"Arial\" > </tspan></text>\n",
       "\t</g>\n",
       "</g>\n",
       "<g fill=\"none\" color=\"black\" stroke=\"currentColor\" stroke-width=\"1.00\" stroke-linecap=\"butt\" stroke-linejoin=\"miter\">\n",
       "</g>\n",
       "<g fill=\"none\" color=\"black\" stroke=\"currentColor\" stroke-width=\"1.00\" stroke-linecap=\"butt\" stroke-linejoin=\"miter\">\n",
       "\t<path stroke='black'  d='M79.8,42.1 L79.8,540.1 L742.1,540.1 L742.1,42.1 L79.8,42.1 Z  '/></g>\n",
       "<g fill=\"none\" color=\"black\" stroke=\"currentColor\" stroke-width=\"1.00\" stroke-linecap=\"butt\" stroke-linejoin=\"miter\">\n",
       "\t<g transform=\"translate(25.5,291.1) rotate(270)\" stroke=\"none\" fill=\"black\" font-family=\"Arial\" font-size=\"12.00\"  text-anchor=\"middle\">\n",
       "\t\t<text><tspan font-family=\"Arial\" >runtime of proc0</tspan></text>\n",
       "\t</g>\n",
       "</g>\n",
       "<g fill=\"none\" color=\"black\" stroke=\"currentColor\" stroke-width=\"1.00\" stroke-linecap=\"butt\" stroke-linejoin=\"miter\">\n",
       "\t<g transform=\"translate(410.9,589.6)\" stroke=\"none\" fill=\"black\" font-family=\"Arial\" font-size=\"12.00\"  text-anchor=\"middle\">\n",
       "\t\t<text><tspan font-family=\"Arial\" >no of cores</tspan></text>\n",
       "\t</g>\n",
       "</g>\n",
       "<g fill=\"none\" color=\"black\" stroke=\"currentColor\" stroke-width=\"1.00\" stroke-linecap=\"butt\" stroke-linejoin=\"miter\">\n",
       "</g>\n",
       "\t<g id=\"gnuplot_plot_1a\" ><title>Slv Iter</title>\n",
       "<g fill=\"none\" color=\"#FFFFFF\" stroke=\"currentColor\" stroke-width=\"3.00\" stroke-linecap=\"butt\" stroke-linejoin=\"miter\">\n",
       "</g>\n",
       "<g fill=\"none\" color=\"black\" stroke=\"currentColor\" stroke-width=\"3.00\" stroke-linecap=\"butt\" stroke-linejoin=\"miter\">\n",
       "\t<g transform=\"translate(645.0,69.1)\" stroke=\"none\" fill=\"black\" font-family=\"Arial\" font-size=\"16.00\"  text-anchor=\"start\">\n",
       "\t\t<text><tspan font-family=\"Arial\" >Slv Iter</tspan></text>\n",
       "\t</g>\n",
       "</g>\n",
       "<g fill=\"none\" color=\"black\" stroke=\"currentColor\" stroke-width=\"3.00\" stroke-linecap=\"butt\" stroke-linejoin=\"miter\">\n",
       "\t<path stroke='rgb(  0,   0,   0)' stroke-dasharray='3.0,6.0'  d='M580.5,63.1 L633.9,63.1 M79.8,281.8 L174.4,215.2 L269.0,208.6 L363.6,218.8 L458.3,186.7 L552.9,205.9\n",
       "\t\tL647.5,169.1 L742.1,165.3  '/>\t<use xlink:href='#gpPt5' transform='translate(79.8,281.8) scale(2.25)' color='rgb(  0,   0,   0)'/>\n",
       "\t<use xlink:href='#gpPt5' transform='translate(174.4,215.2) scale(2.25)' color='rgb(  0,   0,   0)'/>\n",
       "\t<use xlink:href='#gpPt5' transform='translate(269.0,208.6) scale(2.25)' color='rgb(  0,   0,   0)'/>\n",
       "\t<use xlink:href='#gpPt5' transform='translate(363.6,218.8) scale(2.25)' color='rgb(  0,   0,   0)'/>\n",
       "\t<use xlink:href='#gpPt5' transform='translate(458.3,186.7) scale(2.25)' color='rgb(  0,   0,   0)'/>\n",
       "\t<use xlink:href='#gpPt5' transform='translate(552.9,205.9) scale(2.25)' color='rgb(  0,   0,   0)'/>\n",
       "\t<use xlink:href='#gpPt5' transform='translate(647.5,169.1) scale(2.25)' color='rgb(  0,   0,   0)'/>\n",
       "\t<use xlink:href='#gpPt5' transform='translate(742.1,165.3) scale(2.25)' color='rgb(  0,   0,   0)'/>\n",
       "\t<use xlink:href='#gpPt5' transform='translate(607.2,63.1) scale(2.25)' color='rgb(  0,   0,   0)'/>\n",
       "</g>\n",
       "\t</g>\n",
       "\t<g id=\"gnuplot_plot_2a\" ><title>Slv Init</title>\n",
       "<g fill=\"none\" color=\"black\" stroke=\"currentColor\" stroke-width=\"3.00\" stroke-linecap=\"butt\" stroke-linejoin=\"miter\">\n",
       "\t<g transform=\"translate(645.0,93.1)\" stroke=\"none\" fill=\"black\" font-family=\"Arial\" font-size=\"16.00\"  text-anchor=\"start\">\n",
       "\t\t<text><tspan font-family=\"Arial\" >Slv Init</tspan></text>\n",
       "\t</g>\n",
       "</g>\n",
       "<g fill=\"none\" color=\"black\" stroke=\"currentColor\" stroke-width=\"3.00\" stroke-linecap=\"butt\" stroke-linejoin=\"miter\">\n",
       "\t<path stroke='rgb(  0,   0,   0)' stroke-dasharray='7.5,12.0'  d='M580.5,87.1 L633.9,87.1 M79.8,344.2 L174.4,303.6 L269.0,294.0 L363.6,295.9 L458.3,275.8 L552.9,280.8\n",
       "\t\tL647.5,264.6 L742.1,258.5  '/>\t<use xlink:href='#gpPt3' transform='translate(79.8,344.2) scale(2.25)' color='rgb(  0,   0,   0)'/>\n",
       "\t<use xlink:href='#gpPt3' transform='translate(174.4,303.6) scale(2.25)' color='rgb(  0,   0,   0)'/>\n",
       "\t<use xlink:href='#gpPt3' transform='translate(269.0,294.0) scale(2.25)' color='rgb(  0,   0,   0)'/>\n",
       "\t<use xlink:href='#gpPt3' transform='translate(363.6,295.9) scale(2.25)' color='rgb(  0,   0,   0)'/>\n",
       "\t<use xlink:href='#gpPt3' transform='translate(458.3,275.8) scale(2.25)' color='rgb(  0,   0,   0)'/>\n",
       "\t<use xlink:href='#gpPt3' transform='translate(552.9,280.8) scale(2.25)' color='rgb(  0,   0,   0)'/>\n",
       "\t<use xlink:href='#gpPt3' transform='translate(647.5,264.6) scale(2.25)' color='rgb(  0,   0,   0)'/>\n",
       "\t<use xlink:href='#gpPt3' transform='translate(742.1,258.5) scale(2.25)' color='rgb(  0,   0,   0)'/>\n",
       "\t<use xlink:href='#gpPt3' transform='translate(607.2,87.1) scale(2.25)' color='rgb(  0,   0,   0)'/>\n",
       "</g>\n",
       "\t</g>\n",
       "\t<g id=\"gnuplot_plot_3a\" ><title>Agg Init</title>\n",
       "<g fill=\"none\" color=\"black\" stroke=\"currentColor\" stroke-width=\"3.00\" stroke-linecap=\"butt\" stroke-linejoin=\"miter\">\n",
       "\t<g transform=\"translate(645.0,117.1)\" stroke=\"none\" fill=\"black\" font-family=\"Arial\" font-size=\"16.00\"  text-anchor=\"start\">\n",
       "\t\t<text><tspan font-family=\"Arial\" >Agg Init</tspan></text>\n",
       "\t</g>\n",
       "</g>\n",
       "<g fill=\"none\" color=\"black\" stroke=\"currentColor\" stroke-width=\"3.00\" stroke-linecap=\"butt\" stroke-linejoin=\"miter\">\n",
       "\t<path stroke='rgb(  0,   0,   0)' stroke-dasharray='12.0,6.0,3.0,6.0'  d='M580.5,111.1 L633.9,111.1 M79.8,520.0 L174.4,518.6 L269.0,513.4 L363.6,517.0 L458.3,519.4 L552.9,492.7\n",
       "\t\tL647.5,518.6 L742.1,490.7  '/>\t<use xlink:href='#gpPt11' transform='translate(79.8,520.0) scale(2.25)' color='rgb(  0,   0,   0)'/>\n",
       "\t<use xlink:href='#gpPt11' transform='translate(174.4,518.6) scale(2.25)' color='rgb(  0,   0,   0)'/>\n",
       "\t<use xlink:href='#gpPt11' transform='translate(269.0,513.4) scale(2.25)' color='rgb(  0,   0,   0)'/>\n",
       "\t<use xlink:href='#gpPt11' transform='translate(363.6,517.0) scale(2.25)' color='rgb(  0,   0,   0)'/>\n",
       "\t<use xlink:href='#gpPt11' transform='translate(458.3,519.4) scale(2.25)' color='rgb(  0,   0,   0)'/>\n",
       "\t<use xlink:href='#gpPt11' transform='translate(552.9,492.7) scale(2.25)' color='rgb(  0,   0,   0)'/>\n",
       "\t<use xlink:href='#gpPt11' transform='translate(647.5,518.6) scale(2.25)' color='rgb(  0,   0,   0)'/>\n",
       "\t<use xlink:href='#gpPt11' transform='translate(742.1,490.7) scale(2.25)' color='rgb(  0,   0,   0)'/>\n",
       "\t<use xlink:href='#gpPt11' transform='translate(607.2,111.1) scale(2.25)' color='rgb(  0,   0,   0)'/>\n",
       "</g>\n",
       "\t</g>\n",
       "\t<g id=\"gnuplot_plot_4a\" ><title>Mtx ass</title>\n",
       "<g fill=\"none\" color=\"black\" stroke=\"currentColor\" stroke-width=\"3.00\" stroke-linecap=\"butt\" stroke-linejoin=\"miter\">\n",
       "\t<g transform=\"translate(645.0,141.1)\" stroke=\"none\" fill=\"black\" font-family=\"Arial\" font-size=\"16.00\"  text-anchor=\"start\">\n",
       "\t\t<text><tspan font-family=\"Arial\" >Mtx ass</tspan></text>\n",
       "\t</g>\n",
       "</g>\n",
       "<g fill=\"none\" color=\"black\" stroke=\"currentColor\" stroke-width=\"3.00\" stroke-linecap=\"butt\" stroke-linejoin=\"miter\">\n",
       "\t<path stroke='rgb(  0,   0,   0)' stroke-dasharray='13.5,6.0,1.5,6.0,1.5,6.0'  d='M580.5,135.1 L633.9,135.1 M79.8,377.0 L174.4,371.5 L269.0,360.8 L363.6,364.9 L458.3,362.6 L552.9,356.2\n",
       "\t\tL647.5,356.9 L742.1,346.9  '/>\t<use xlink:href='#gpPt9' transform='translate(79.8,377.0) scale(2.25)' color='rgb(  0,   0,   0)'/>\n",
       "\t<use xlink:href='#gpPt9' transform='translate(174.4,371.5) scale(2.25)' color='rgb(  0,   0,   0)'/>\n",
       "\t<use xlink:href='#gpPt9' transform='translate(269.0,360.8) scale(2.25)' color='rgb(  0,   0,   0)'/>\n",
       "\t<use xlink:href='#gpPt9' transform='translate(363.6,364.9) scale(2.25)' color='rgb(  0,   0,   0)'/>\n",
       "\t<use xlink:href='#gpPt9' transform='translate(458.3,362.6) scale(2.25)' color='rgb(  0,   0,   0)'/>\n",
       "\t<use xlink:href='#gpPt9' transform='translate(552.9,356.2) scale(2.25)' color='rgb(  0,   0,   0)'/>\n",
       "\t<use xlink:href='#gpPt9' transform='translate(647.5,356.9) scale(2.25)' color='rgb(  0,   0,   0)'/>\n",
       "\t<use xlink:href='#gpPt9' transform='translate(742.1,346.9) scale(2.25)' color='rgb(  0,   0,   0)'/>\n",
       "\t<use xlink:href='#gpPt9' transform='translate(607.2,135.1) scale(2.25)' color='rgb(  0,   0,   0)'/>\n",
       "</g>\n",
       "\t</g>\n",
       "<g fill=\"none\" color=\"#FFFFFF\" stroke=\"rgb(  0,   0,   0)\" stroke-width=\"2.00\" stroke-linecap=\"butt\" stroke-linejoin=\"miter\">\n",
       "</g>\n",
       "<g fill=\"none\" color=\"black\" stroke=\"currentColor\" stroke-width=\"2.00\" stroke-linecap=\"butt\" stroke-linejoin=\"miter\">\n",
       "</g>\n",
       "<g fill=\"none\" color=\"black\" stroke=\"black\" stroke-width=\"1.00\" stroke-linecap=\"butt\" stroke-linejoin=\"miter\">\n",
       "</g>\n",
       "<g fill=\"none\" color=\"black\" stroke=\"currentColor\" stroke-width=\"1.00\" stroke-linecap=\"butt\" stroke-linejoin=\"miter\">\n",
       "\t<path stroke='black'  d='M79.8,42.1 L79.8,540.1 L742.1,540.1 L742.1,42.1 L79.8,42.1 Z  '/></g>\n",
       "<g fill=\"none\" color=\"black\" stroke=\"currentColor\" stroke-width=\"1.00\" stroke-linecap=\"butt\" stroke-linejoin=\"miter\">\n",
       "</g>\n",
       "</g>\n",
       "</svg>\n",
       "\n"
      ]
     },
     "metadata": {},
     "output_type": "display_data"
    }
   ],
   "source": [
    "// =========\n",
    "// paramterz\n",
    "// =========\n",
    "int Solver = 41;\n",
    "int DG     = 2;\n",
    "int xMin = 4;\n",
    "int xMax = 512;\n",
    "// =============================\n",
    "// print profiling of blocktraces\n",
    "// =============================\n",
    "// necessary methods, are defined in Export.bws\n",
    "Plot2Ddata[,] multiplots = new Plot2Ddata[1,1];\n",
    "multiplots[0,0]=SubTab.ToPlot(Solver_DG_Proj_Ex(DG,Solver),4);\n",
    "multiplots[0,0].YrangeMin=1;\n",
    "multiplots[0,0].YrangeMax=10000;\n",
    "multiplots[0,0].XrangeMin=xMin;\n",
    "multiplots[0,0].XrangeMax=xMax;\n",
    "multiplots[0,0].LogX = true;\n",
    "multiplots[0,0].LogY = true;\n",
    "multiplots[0,0].bmargin = 3;\n",
    "multiplots[0,0].Xlabel = \"no of cores\";\n",
    "multiplots[0,0].Ylabel = \"runtime of proc0\";\n",
    "multiplots.PlotNow()"
   ]
  },
  {
   "cell_type": "code",
   "execution_count": null,
   "metadata": {
    "dotnet_interactive": {
     "language": "csharp"
    }
   },
   "outputs": [
    {
     "name": "stdout",
     "output_type": "stream",
     "text": [
      "Using gnuplot: B:\\BoSSS-BIN\\bin\\native\\win\\gnuplot-gp510-20160418-win32-mingw\\gnuplot\\bin\\gnuplot.exe\r\n",
      "set key font \",16\"Left reverse \r\n"
     ]
    }
   ],
   "source": [
    "// ==============\n",
    "// plot profiling\n",
    "// ==============\n",
    "string plotsdirpath = CurrentDocDir+@\"\\\"+\"plots\";\n",
    "DirectoryInfo dir   = Directory.CreateDirectory(plotsdirpath);\n",
    "var plot2print      = multiplots;\n",
    "var CL              = plot2print.ToGnuplot().PlotCairolatex(xSize:14,ySize:12);\n",
    "CL.WriteMinimalCompileableExample(\n",
    "   Path.Combine(plotsdirpath, \"Profiling_\"+DG+\"_\"+\".tex\"),\n",
    "   \"Profiling_\"+DG+\".tex\");"
   ]
  },
  {
   "cell_type": "code",
   "execution_count": null,
   "metadata": {
    "dotnet_interactive": {
     "language": "csharp"
    }
   },
   "outputs": [],
   "source": []
  },
  {
   "cell_type": "code",
   "execution_count": null,
   "metadata": {
    "dotnet_interactive": {
     "language": "csharp"
    }
   },
   "outputs": [],
   "source": []
  }
 ],
 "metadata": {
  "kernelspec": {
   "display_name": ".NET (C#)",
   "language": "C#",
   "name": ".net-csharp"
  },
  "language_info": {
   "name": "C#"
  }
 },
 "nbformat": 4,
 "nbformat_minor": 2
}
