{
 "cells": [
  {
   "cell_type": "code",
   "execution_count": null,
   "metadata": {
    "dotnet_interactive": {
     "language": "csharp"
    }
   },
   "outputs": [],
   "source": [
    "#r \"./../../../../../public/src/L4-application/BoSSSpad/bin/Release/net5.0/BoSSSpad.dll\"\n",
    "//#r \"BoSSSpad.dll\"\n",
    "using System;\n",
    "using ilPSP;\n",
    "using ilPSP.Utils;\n",
    "using BoSSS.Platform;\n",
    "using BoSSS.Foundation;\n",
    "using BoSSS.Foundation.XDG;\n",
    "using BoSSS.Foundation.Grid;\n",
    "using BoSSS.Solution;\n",
    "using BoSSS.Application.XNSE_Solver;\n",
    "using System.IO;\n",
    "using BoSSS.Foundation.IO;\n",
    "using ilPSP.Tracing;\n",
    "using BoSSS.Application.BoSSSpad;\n",
    "using BoSSS.Solution.Gnuplot;\n",
    "using BoSSS.Solution.Control;\n",
    "\n",
    "using static BoSSS.Application.BoSSSpad.BoSSSshell;\n",
    "Init();"
   ]
  },
  {
   "cell_type": "code",
   "execution_count": null,
   "metadata": {
    "dotnet_interactive": {
     "language": "csharp"
    }
   },
   "outputs": [],
   "source": [
    "// Is used at Jenkins to generate individual names (for output .json)\n",
    "string dbname = System.Environment.GetEnvironmentVariable(\"DATABASE_NAME\");\n",
    "string buildname = System.Environment.GetEnvironmentVariable(\"BUILD_DISPLAY_NAME\");\n",
    "string buildNr = System.Environment.GetEnvironmentVariable(\"BUILD_NUMBER\");\n",
    "//defaults\n",
    "buildname = String.IsNullOrEmpty(buildname)? \"run\" : buildname;\n",
    "string thedate = $\"{System.DateTime.Today.Day}-{System.DateTime.Today.Month}-{System.DateTime.Today.Year}\";\n",
    "buildNr = String.IsNullOrEmpty(buildNr)? thedate : buildNr;\n",
    "\n",
    "string database_name = String.IsNullOrEmpty(dbname)? \"DB_Benchmarks\" : dbname;\n",
    "string table_name = String.Concat(buildname, \"_\", buildNr);"
   ]
  },
  {
   "cell_type": "code",
   "execution_count": null,
   "metadata": {
    "dotnet_interactive": {
     "language": "csharp"
    }
   },
   "outputs": [],
   "source": [
    "string CurrentDocDir = Directory.GetCurrentDirectory();\n",
    "string path = String.Concat(CurrentDocDir,@\"/\",table_name,\".json\");\n",
    "static var SubTab = TableExtensions.LoadFromFile(path);"
   ]
  },
  {
   "cell_type": "code",
   "execution_count": null,
   "metadata": {
    "dotnet_interactive": {
     "language": "csharp"
    }
   },
   "outputs": [],
   "source": [
    "static var SubTab = TableExtensions.LoadFromFile(@\"B:\\BoSSS-smuda\\public\\doc\\handbook\\apdx-MPISolverPerformance\\XdgPoisson\\data_weak\\Xdg_weakscaling_s_2020-9-9.json\");"
   ]
  },
  {
   "cell_type": "code",
   "execution_count": null,
   "metadata": {
    "dotnet_interactive": {
     "language": "csharp"
    }
   },
   "outputs": [],
   "source": [
    "static string LSolverCode = SubTab.Columns.Contains(\"LinearSolver.SolverCode\")? \"LinearSolver.SolverCode\" : \"LinearSolverCode\";"
   ]
  },
  {
   "cell_type": "code",
   "execution_count": null,
   "metadata": {
    "dotnet_interactive": {
     "language": "csharp"
    }
   },
   "outputs": [
    {
     "name": "stdout",
     "output_type": "stream",
     "text": [
      "    LinearSolver.SolverCode DOFs    DGdegree:u maxSolRunT         ProjectName           SessionName                          NoIter \r\n",
      "0:  2                       43840   2          40.9736952         Xdg_weakscaling       J4096_k2_classic_pardiso             1      \r\n",
      "1:  2                       84320   2          65.7982942         Xdg_weakscaling       J8000_k2_classic_pardiso             1      \r\n",
      "2:  2                       183200  2          170.00860459999998 Xdg_weakscaling       J17576_k2_classic_pardiso            1      \r\n",
      "3:  2                       339040  2          527.6745040999999  Xdg_weakscaling       J32768_k2_classic_pardiso            1      \r\n",
      "4:  2                       660160  2          2208.329985        Xdg_weakscaling       J64000_k2_classic_pardiso            1      \r\n",
      "5:  41                      43840   2          183.4011587        Xdg_weakscaling       J4096_k2_exp_Kcycle_schwarz          14     \r\n",
      "6:  41                      84320   2          515.5230200999999  Xdg_weakscaling       J8000_k2_exp_Kcycle_schwarz          16     \r\n",
      "7:  41                      183200  2          588.4274219        Xdg_weakscaling       J17576_k2_exp_Kcycle_schwarz         15     \r\n",
      "8:  41                      339040  2          504.3891961        Xdg_weakscaling       J32768_k2_exp_Kcycle_schwarz         15     \r\n",
      "9:  41                      660160  2          854.8888374999999  Xdg_weakscaling       J64000_k2_exp_Kcycle_schwarz         19     \r\n",
      "10: 41                      1359210 2          640.2913618        Xdg_weakscaling_Debug J132651_k2_exp_Kcycle_schwarz_predef 21     \r\n",
      "11: 41                      2671600 2          1158.9981831999999 Xdg_weakscaling       J262144_k2_exp_Kcycle_schwarz        27     \r\n",
      "12: 41                      5199920 2          1245.4266283       Xdg_weakscaling       J512000_k2_exp_Kcycle_schwarz        27     "
     ]
    }
   ],
   "source": [
    "var tab                        = SubTab.ExtractColumns(LSolverCode, \"DOFs\",\"DGdegree:u\",\"maxSolRunT\",\"ProjectName\",\"SessionName\",\"NoIter\");\n",
    "System.Data.DataView dv        = tab.DefaultView;\n",
    "dv.Sort                        = LSolverCode+\",DOFs\";\n",
    "System.Data.DataTable sortedDT = dv.ToTable();\n",
    "sortedDT.Print();"
   ]
  },
  {
   "cell_type": "code",
   "execution_count": null,
   "metadata": {
    "dotnet_interactive": {
     "language": "csharp"
    }
   },
   "outputs": [],
   "source": [
    "public static class DoWhatUWant{\n",
    "\n",
    "    public static PlotRowSelector Solver_DG_Proj(int Degree){\n",
    "           return delegate (int iTabRow, \n",
    "                     IDictionary<string, object> Row, \n",
    "                     out string Nmn, \n",
    "                     out PlotFormat Fmt){\n",
    "    \n",
    "               Nmn = \"\";\n",
    "               Fmt = new PlotFormat();\n",
    "                         \n",
    "               \n",
    "              \n",
    "               int SolverCode = Convert.ToInt32(Row[LSolverCode]);\n",
    "               int DGdegree   = Convert.ToInt32(Row[\"DGdegree:u\"]);\n",
    "               string PrjName = Convert.ToString(Row[\"ProjectName\"]);\n",
    "    \n",
    "               switch(SolverCode){\n",
    "                   case 41:\n",
    "                       Nmn+=\"kcycle\";\n",
    "                       //Fmt.LineColor = LineColors.Blue;\n",
    "                       Fmt.PointType = PointTypes.Asterisk;\n",
    "                       break;\n",
    "                   case 47:\n",
    "                       Nmn+=\"gmres\";\n",
    "                       //Fmt.LineColor = LineColors.Yellow;\n",
    "                       Fmt.PointType = PointTypes.UpperTriangle;\n",
    "                       break;\n",
    "                   case 2:\n",
    "                       Nmn+=\"pardiso\";\n",
    "                       //Fmt.LineColor = LineColors.Red;\n",
    "                       Fmt.PointType = PointTypes.OpenCircle;\n",
    "                       Fmt.DashType  = DashTypes.Dotted;\n",
    "                       break;\n",
    "                   default:\n",
    "                       Nmn = null;\n",
    "                       Fmt = null;\n",
    "                    return;\n",
    "               }\n",
    "                \n",
    "               \n",
    "               if(DGdegree!=Degree){\n",
    "                    Nmn = null;\n",
    "                    Fmt = null;\n",
    "                    return;\n",
    "               }\n",
    "               switch(DGdegree){\n",
    "                   case 2:\n",
    "                     Nmn+=\" DG2\";\n",
    "                     Fmt.PointType = PointTypes.OpenDiamond;\n",
    "                     break;\n",
    "                   case 3:\n",
    "                     Nmn+=\" DG3\";\n",
    "                     Fmt.PointType = PointTypes.OpenDiamond;\n",
    "                     break;\n",
    "                   case 5:\n",
    "                     Nmn+=\" DG5\";\n",
    "                     Fmt.PointType = PointTypes.OpenDiamond;\n",
    "                     break;\n",
    "    \n",
    "                   default:\n",
    "                     Nmn = null;\n",
    "                     Fmt = null;\n",
    "                     return;\n",
    "               }\n",
    "    //           switch(PrjName){\n",
    "    //               case \"SIP_weakscale\":\n",
    "    //                Nmn +=\" openmp\";\n",
    "    //                Fmt.LineColor = LineColors.Blue;\n",
    "    //                break;\n",
    "    //               case \"SIP_weakscale_SEQ\":\n",
    "    //                Nmn += \" seq\";\n",
    "    //                Fmt.LineColor = LineColors.Yellow;\n",
    "    //                break;\n",
    "    //               default:\n",
    "    //                Nmn = null;\n",
    "    //                Fmt = null;\n",
    "    //                return;\n",
    "    //           }\n",
    "                 \n",
    "               Fmt.PointSize = 0.5;\n",
    "               Fmt.LineWidth = 3;\n",
    "               Fmt.Style     = Styles.LinesPoints;\n",
    "               Fmt.DashType  = DashTypes.Solid;\n",
    "           };\n",
    "        \n",
    "    }\n",
    "    \n",
    "    public static PlotRowSelectorEx Solver_DG_Proj(int DG, int Solver){\n",
    "               return delegate (int iSweep, int iTabRow, \n",
    "                     IDictionary<string, object> Row, \n",
    "                     out string Nmn, \n",
    "                     out PlotFormat Fmt,\n",
    "                     out double xValue, out double yValue) { \n",
    "               // - - - - - - - - - - - - - - - - - - - - - - - - \n",
    "               // PlotRowSelector:\n",
    "               // selects, which table row goes to which graph,\n",
    "               // and the respective color  \n",
    "               // - - - - - - - - - - - - - - - - - - - - - - - - \n",
    "               int k           = Convert.ToInt32(Row[\"DGdegree:u\"]);\n",
    "               int solver_name = Convert.ToInt32(Row[LSolverCode]);\n",
    "              \n",
    "               if(k != DG || solver_name != Solver) {\n",
    "                    // degree does not match -> not in this plot\n",
    "                    Nmn    = null;\n",
    "                    Fmt    = null;\n",
    "                    xValue = 0;\n",
    "                    yValue = 0;\n",
    "                    return;\n",
    "               }\n",
    "               \n",
    "               double mtxAssi  = Convert.ToDouble(Row[\"MatrixAssembly_time\"]);\n",
    "               double aggBinit = Convert.ToDouble(Row[\"AggregationBaseInit_time\"]);\n",
    "               double slvInit  = Convert.ToDouble(Row[\"SolverInit_time\"]);\n",
    "               double slvRun   = Convert.ToDouble(Row[\"SolverRun_time\"]);\n",
    "               double cores    = Convert.ToDouble(Row[\"NoOfCores\"]);\n",
    "               \n",
    "               if(aggBinit > 700)\n",
    "               Console.Write(\"aggBinit/slvRun = \" + aggBinit + \"/\" + slvRun);\n",
    "               \n",
    "               Fmt           = new PlotFormat();\n",
    "               Fmt.PointSize = 0.5;\n",
    "               Fmt.Style     = Styles.LinesPoints;\n",
    "               Fmt.LineColor = LineColors.Black;\n",
    "               Fmt.LineWidth = 3;\n",
    "               \n",
    "               xValue = cores;\n",
    "               \n",
    "               switch(iSweep) {\n",
    "                   case 0:\n",
    "                   yValue       = slvRun;\n",
    "                   Nmn          = \"Slv Iter\";\n",
    "                   Fmt.DashType = DashTypes.Dotted;\n",
    "                   Fmt.PointType = PointTypes.OpenCircle;\n",
    "                   break;\n",
    "                   \n",
    "                   case 1:\n",
    "                   yValue        = slvInit;\n",
    "                   Nmn           = \"Slv Init\";\n",
    "                   Fmt.DashType  = DashTypes.Dashed;\n",
    "                   Fmt.PointType = PointTypes.OpenBox;\n",
    "                   break;\n",
    "                   \n",
    "                   case 2:\n",
    "                   yValue        = aggBinit;\n",
    "                   Nmn           = \"Agg Init\";\n",
    "                   Fmt.DashType  = DashTypes.DotDashed;\n",
    "                   Fmt.PointType = PointTypes.OpenDiamond;\n",
    "                   break;\n",
    "                   \n",
    "                   case 3:\n",
    "                   yValue        = mtxAssi;\n",
    "                   Nmn           = \"Mtx ass\";\n",
    "                   Fmt.DashType  = DashTypes.DotDotDashed;\n",
    "                   Fmt.PointType = PointTypes.OpenUpperTriangle;\n",
    "                   break;\n",
    "                   \n",
    "                   default:\n",
    "                   throw new NotImplementedException();\n",
    "               }\n",
    "               \n",
    "               if(aggBinit > 700)\n",
    "               Console.WriteLine(\"\\t + case: {0} + yValue = {1}\", iSweep, yValue);\n",
    "           };\n",
    "    }\n",
    "    \n",
    "      \n",
    "       \n",
    "    }"
   ]
  },
  {
   "cell_type": "code",
   "execution_count": null,
   "metadata": {
    "dotnet_interactive": {
     "language": "csharp"
    }
   },
   "outputs": [
    {
     "ename": "Error",
     "evalue": "System.ArgumentException: Column 'MatrixAssembly_time' does not belong to table .\r\n   at System.Data.DataRow.GetDataColumn(String columnName)\r\n   at System.Data.DataRow.get_Item(String columnName)\r\n   at Submission#10.<<Initialize>>d__0.MoveNext()\r\n--- End of stack trace from previous location ---\r\n   at Microsoft.CodeAnalysis.Scripting.ScriptExecutionState.RunSubmissionsAsync[TResult](ImmutableArray`1 precedingExecutors, Func`2 currentExecutor, StrongBox`1 exceptionHolderOpt, Func`2 catchExceptionOpt, CancellationToken cancellationToken)",
     "output_type": "error",
     "traceback": [
      "System.ArgumentException: Column 'MatrixAssembly_time' does not belong to table .\r\n",
      "   at System.Data.DataRow.GetDataColumn(String columnName)\r\n",
      "   at System.Data.DataRow.get_Item(String columnName)\r\n",
      "   at Submission#10.<<Initialize>>d__0.MoveNext()\r\n",
      "--- End of stack trace from previous location ---\r\n",
      "   at Microsoft.CodeAnalysis.Scripting.ScriptExecutionState.RunSubmissionsAsync[TResult](ImmutableArray`1 precedingExecutors, Func`2 currentExecutor, StrongBox`1 exceptionHolderOpt, Func`2 catchExceptionOpt, CancellationToken cancellationToken)"
     ]
    }
   ],
   "source": [
    "var Row = SubTab.Rows[0];\n",
    "Convert.ToDouble(Row[\"MatrixAssembly_time\"])"
   ]
  },
  {
   "cell_type": "code",
   "execution_count": null,
   "metadata": {
    "dotnet_interactive": {
     "language": "csharp"
    }
   },
   "outputs": [
    {
     "name": "stdout",
     "output_type": "stream",
     "text": [
      "Exception in the selection test of row 0: KeyNotFoundException, Message: The given key 'MatrixAssembly_time' was not present in the dictionary..\r\n",
      "Exception in the selection test of row 1: KeyNotFoundException, Message: The given key 'MatrixAssembly_time' was not present in the dictionary..\r\n",
      "Exception in the selection test of row 2: KeyNotFoundException, Message: The given key 'MatrixAssembly_time' was not present in the dictionary..\r\n",
      "Exception in the selection test of row 4: KeyNotFoundException, Message: The given key 'MatrixAssembly_time' was not present in the dictionary..\r\n",
      "Exception in the selection test of row 5: KeyNotFoundException, Message: The given key 'MatrixAssembly_time' was not present in the dictionary..\r\n",
      "Exception in the selection test of row 8: KeyNotFoundException, Message: The given key 'MatrixAssembly_time' was not present in the dictionary..\r\n",
      "Exception in the selection test of row 9: KeyNotFoundException, Message: The given key 'MatrixAssembly_time' was not present in the dictionary..\r\n",
      "Exception in the selection test of row 10: KeyNotFoundException, Message: The given key 'MatrixAssembly_time' was not present in the dictionary..\r\n",
      "Exception in the selection test of row 0: KeyNotFoundException, Message: The given key 'MatrixAssembly_time' was not present in the dictionary..\r\n",
      "Exception in the selection test of row 1: KeyNotFoundException, Message: The given key 'MatrixAssembly_time' was not present in the dictionary..\r\n",
      "Exception in the selection test of row 2: KeyNotFoundException, Message: The given key 'MatrixAssembly_time' was not present in the dictionary..\r\n",
      "Exception in the selection test of row 4: KeyNotFoundException, Message: The given key 'MatrixAssembly_time' was not present in the dictionary..\r\n",
      "Exception in the selection test of row 5: KeyNotFoundException, Message: The given key 'MatrixAssembly_time' was not present in the dictionary..\r\n",
      "Exception in the selection test of row 8: KeyNotFoundException, Message: The given key 'MatrixAssembly_time' was not present in the dictionary..\r\n",
      "Exception in the selection test of row 9: KeyNotFoundException, Message: The given key 'MatrixAssembly_time' was not present in the dictionary..\r\n",
      "Exception in the selection test of row 10: KeyNotFoundException, Message: The given key 'MatrixAssembly_time' was not present in the dictionary..\r\n",
      "Exception in the selection test of row 0: KeyNotFoundException, Message: The given key 'MatrixAssembly_time' was not present in the dictionary..\r\n",
      "Exception in the selection test of row 1: KeyNotFoundException, Message: The given key 'MatrixAssembly_time' was not present in the dictionary..\r\n",
      "Exception in the selection test of row 2: KeyNotFoundException, Message: The given key 'MatrixAssembly_time' was not present in the dictionary..\r\n",
      "Exception in the selection test of row 4: KeyNotFoundException, Message: The given key 'MatrixAssembly_time' was not present in the dictionary..\r\n",
      "Exception in the selection test of row 5: KeyNotFoundException, Message: The given key 'MatrixAssembly_time' was not present in the dictionary..\r\n",
      "Exception in the selection test of row 8: KeyNotFoundException, Message: The given key 'MatrixAssembly_time' was not present in the dictionary..\r\n",
      "Exception in the selection test of row 9: KeyNotFoundException, Message: The given key 'MatrixAssembly_time' was not present in the dictionary..\r\n",
      "Exception in the selection test of row 10: KeyNotFoundException, Message: The given key 'MatrixAssembly_time' was not present in the dictionary..\r\n",
      "Exception in the selection test of row 0: KeyNotFoundException, Message: The given key 'MatrixAssembly_time' was not present in the dictionary..\r\n",
      "Exception in the selection test of row 1: KeyNotFoundException, Message: The given key 'MatrixAssembly_time' was not present in the dictionary..\r\n",
      "Exception in the selection test of row 2: KeyNotFoundException, Message: The given key 'MatrixAssembly_time' was not present in the dictionary..\r\n",
      "Exception in the selection test of row 4: KeyNotFoundException, Message: The given key 'MatrixAssembly_time' was not present in the dictionary..\r\n",
      "Exception in the selection test of row 5: KeyNotFoundException, Message: The given key 'MatrixAssembly_time' was not present in the dictionary..\r\n",
      "Exception in the selection test of row 8: KeyNotFoundException, Message: The given key 'MatrixAssembly_time' was not present in the dictionary..\r\n",
      "Exception in the selection test of row 9: KeyNotFoundException, Message: The given key 'MatrixAssembly_time' was not present in the dictionary..\r\n",
      "Exception in the selection test of row 10: KeyNotFoundException, Message: The given key 'MatrixAssembly_time' was not present in the dictionary..\r\n",
      "Using gnuplot: B:\\BoSSS-BIN\\bin\\native\\win\\gnuplot-gp510-20160418-win32-mingw\\gnuplot\\bin\\gnuplot.exe\r\n",
      "set key font \",16\"Left reverse \r\n"
     ]
    },
    {
     "data": {
      "text/html": [
       "<?xml version=\"1.0\" encoding=\"utf-8\"  standalone=\"no\"?>\n",
       "<!DOCTYPE svg PUBLIC \"-//W3C//DTD SVG 1.1//EN\"\n",
       " \"http://www.w3.org/Graphics/SVG/1.1/DTD/svg11.dtd\">\n",
       "<svg \n",
       " width=\"800\" height=\"600\"\n",
       " viewBox=\"0 0 800 600\"\n",
       " xmlns=\"http://www.w3.org/2000/svg\"\n",
       " xmlns:xlink=\"http://www.w3.org/1999/xlink\"\n",
       ">\n",
       "\n",
       "<title>Gnuplot</title>\n",
       "<desc>Produced by GNUPLOT 5.1 patchlevel 0 </desc>\n",
       "\n",
       "<g id=\"gnuplot_canvas\">\n",
       "\n",
       "<rect x=\"0\" y=\"0\" width=\"800\" height=\"600\" fill=\"#ffffff\"/>\n",
       "<defs>\n",
       "\n",
       "\t<circle id='gpDot' r='0.5' stroke-width='0.5'/>\n",
       "\t<path id='gpPt0' stroke-width='0.222' stroke='currentColor' d='M-1,0 h2 M0,-1 v2'/>\n",
       "\t<path id='gpPt1' stroke-width='0.222' stroke='currentColor' d='M-1,-1 L1,1 M1,-1 L-1,1'/>\n",
       "\t<path id='gpPt2' stroke-width='0.222' stroke='currentColor' d='M-1,0 L1,0 M0,-1 L0,1 M-1,-1 L1,1 M-1,1 L1,-1'/>\n",
       "\t<rect id='gpPt3' stroke-width='0.222' stroke='currentColor' x='-1' y='-1' width='2' height='2'/>\n",
       "\t<rect id='gpPt4' stroke-width='0.222' stroke='currentColor' fill='currentColor' x='-1' y='-1' width='2' height='2'/>\n",
       "\t<circle id='gpPt5' stroke-width='0.222' stroke='currentColor' cx='0' cy='0' r='1'/>\n",
       "\t<use xlink:href='#gpPt5' id='gpPt6' fill='currentColor' stroke='none'/>\n",
       "\t<path id='gpPt7' stroke-width='0.222' stroke='currentColor' d='M0,-1.33 L-1.33,0.67 L1.33,0.67 z'/>\n",
       "\t<use xlink:href='#gpPt7' id='gpPt8' fill='currentColor' stroke='none'/>\n",
       "\t<use xlink:href='#gpPt7' id='gpPt9' stroke='currentColor' transform='rotate(180)'/>\n",
       "\t<use xlink:href='#gpPt9' id='gpPt10' fill='currentColor' stroke='none'/>\n",
       "\t<use xlink:href='#gpPt3' id='gpPt11' stroke='currentColor' transform='rotate(45)'/>\n",
       "\t<use xlink:href='#gpPt11' id='gpPt12' fill='currentColor' stroke='none'/>\n",
       "\t<path id='gpPt13' stroke-width='0.222' stroke='currentColor' d='M0,1.330 L1.265,0.411 L0.782,-1.067 L-0.782,-1.076 L-1.265,0.411 z'/>\n",
       "\t<use xlink:href='#gpPt13' id='gpPt14' fill='currentColor' stroke='none'/>\n",
       "\t<filter id='textbox' filterUnits='objectBoundingBox' x='0' y='0' height='1' width='1'>\n",
       "\t  <feFlood flood-color='#FFFFFF' flood-opacity='1' result='bgnd'/>\n",
       "\t  <feComposite in='SourceGraphic' in2='bgnd' operator='atop'/>\n",
       "\t</filter>\n",
       "\t<filter id='greybox' filterUnits='objectBoundingBox' x='0' y='0' height='1' width='1'>\n",
       "\t  <feFlood flood-color='lightgrey' flood-opacity='1' result='grey'/>\n",
       "\t  <feComposite in='SourceGraphic' in2='grey' operator='atop'/>\n",
       "\t</filter>\n",
       "</defs>\n",
       "<g fill=\"none\" color=\"#FFFFFF\" stroke=\"currentColor\" stroke-width=\"1.00\" stroke-linecap=\"butt\" stroke-linejoin=\"miter\">\n",
       "</g>\n",
       "</g>\n",
       "</svg>\n",
       "\n"
      ]
     },
     "metadata": {},
     "output_type": "display_data"
    }
   ],
   "source": [
    "// =========\n",
    "// paramterz\n",
    "// =========\n",
    "int Solver = 41;\n",
    "int DG     = 2;\n",
    "int xMin = 4;\n",
    "int xMax = 512;\n",
    "// =============================\n",
    "// print profiling of blocktraces\n",
    "// =============================\n",
    "// necessary methods, are defined in Export.bws\n",
    "Plot2Ddata[,] multiplots = new Plot2Ddata[1,1];\n",
    "multiplots[0,0]=SubTab.ToPlot(DoWhatUWant.Solver_DG_Proj(DG,Solver),4);\n",
    "multiplots[0,0].YrangeMin=1;\n",
    "multiplots[0,0].YrangeMax=10000;\n",
    "multiplots[0,0].XrangeMin=xMin;\n",
    "multiplots[0,0].XrangeMax=xMax;\n",
    "multiplots[0,0].LogX = true;\n",
    "multiplots[0,0].LogY = true;\n",
    "multiplots[0,0].bmargin = 3;\n",
    "multiplots[0,0].Xlabel = \"no of cores\";\n",
    "multiplots[0,0].Ylabel = \"runtime of proc0\";\n",
    "multiplots.PlotNow()"
   ]
  },
  {
   "cell_type": "code",
   "execution_count": null,
   "metadata": {
    "dotnet_interactive": {
     "language": "csharp"
    }
   },
   "outputs": [
    {
     "name": "stdout",
     "output_type": "stream",
     "text": [
      "Using gnuplot: B:\\BoSSS-BIN\\bin\\native\\win\\gnuplot-gp510-20160418-win32-mingw\\gnuplot\\bin\\gnuplot.exe\r\n",
      "set key font \",16\"Left reverse \r\n"
     ]
    }
   ],
   "source": [
    "// ==============\n",
    "// plot profiling\n",
    "// ==============\n",
    "string plotsdirpath = CurrentDocDir+@\"\\\"+\"plots\";\n",
    "DirectoryInfo dir   = Directory.CreateDirectory(plotsdirpath);\n",
    "var plot2print      = multiplots;\n",
    "var CL              = plot2print.ToGnuplot().PlotCairolatex(xSize:14,ySize:12);\n",
    "CL.WriteMinimalCompileableExample(\n",
    "   Path.Combine(plotsdirpath, \"Profiling_\"+DG+\"_\"+\".tex\"),\n",
    "   \"Profiling_\"+DG+\".tex\");"
   ]
  },
  {
   "cell_type": "code",
   "execution_count": null,
   "metadata": {
    "dotnet_interactive": {
     "language": "csharp"
    }
   },
   "outputs": [],
   "source": []
  },
  {
   "cell_type": "code",
   "execution_count": null,
   "metadata": {
    "dotnet_interactive": {
     "language": "csharp"
    }
   },
   "outputs": [],
   "source": []
  }
 ],
 "metadata": {
  "kernelspec": {
   "display_name": ".NET (C#)",
   "language": "C#",
   "name": ".net-csharp"
  },
  "language_info": {
   "name": "C#"
  }
 },
 "nbformat": 4,
 "nbformat_minor": 2
}
