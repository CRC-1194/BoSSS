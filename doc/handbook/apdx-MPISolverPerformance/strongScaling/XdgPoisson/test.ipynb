{
 "cells": [
  {
   "cell_type": "code",
   "execution_count": null,
   "metadata": {
    "dotnet_interactive": {
     "language": "csharp"
    }
   },
   "outputs": [
    {
     "ename": "Error",
     "evalue": "(2,1): error CS0006: Metadata file './BoSSSpad.dll' could not be found",
     "output_type": "error",
     "traceback": [
      "(2,1): error CS0006: Metadata file './BoSSSpad.dll' could not be found"
     ]
    }
   ],
   "source": [
    "//#r \"./../../../../../../public/src/L4-application/BoSSSpad/bin/Release/net5.0/BoSSSpad.dll\"\n",
    "#r \"./BoSSSpad.dll\"\n",
    "\n",
    "using static BoSSS.Application.BoSSSpad.BoSSSshell;\n",
    "Init();"
   ]
  },
  {
   "cell_type": "code",
   "execution_count": null,
   "metadata": {
    "dotnet_interactive": {
     "language": "csharp"
    }
   },
   "outputs": [
    {
     "data": {
      "text/html": [
       "<table><thead><tr><th><i>index</i></th><th>LocalMountPath</th><th>PathAtRemote</th></tr></thead><tbody><tr><td>0</td><td>W:\\work\\scratch\\jw52xeqa</td><td>/work/scratch/jw52xeqa</td></tr></tbody></table>"
      ]
     },
     "metadata": {},
     "output_type": "display_data"
    }
   ],
   "source": [
    "GetDefaultQueue().AllowedDatabasesPaths"
   ]
  },
  {
   "cell_type": "code",
   "execution_count": null,
   "metadata": {
    "dotnet_interactive": {
     "language": "csharp"
    }
   },
   "outputs": [],
   "source": []
  }
 ],
 "metadata": {
  "kernelspec": {
   "display_name": ".NET (C#)",
   "language": "C#",
   "name": ".net-csharp"
  },
  "language_info": {
   "name": "C#"
  }
 },
 "nbformat": 4,
 "nbformat_minor": 2
}
