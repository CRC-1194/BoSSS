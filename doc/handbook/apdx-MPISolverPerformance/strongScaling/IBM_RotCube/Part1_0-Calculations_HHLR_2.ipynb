{
 "cells": [
  {
   "cell_type": "code",
   "execution_count": null,
   "source": [
    "#r \"./../../../../../../public/src/L4-application/BoSSSpad/bin/Release/net5.0/BoSSSpad.dll\"\r\n",
    "using System;\r\n",
    "using ilPSP;\r\n",
    "using ilPSP.Utils;\r\n",
    "using BoSSS.Platform;\r\n",
    "using BoSSS.Foundation;\r\n",
    "using BoSSS.Foundation.XDG;\r\n",
    "using BoSSS.Foundation.Grid;\r\n",
    "using BoSSS.Solution;\r\n",
    "\r\n",
    "using static BoSSS.Application.BoSSSpad.BoSSSshell;\r\n",
    "Init();"
   ],
   "outputs": [],
   "metadata": {
    "dotnet_interactive": {
     "language": "csharp"
    }
   }
  },
  {
   "cell_type": "code",
   "execution_count": null,
   "source": [
    "ExecutionQueues"
   ],
   "outputs": [
    {
     "data": {
      "text/html": [
       "<table><thead><tr><th><i>index</i></th><th><i>type</i></th><th>DeploymentBaseDirectory</th><th>DeployRuntime</th><th>Name</th><th>DotnetRuntime</th><th>BatchInstructionDir</th><th>AllowedDatabasesPaths</th><th>Username</th><th>Password</th><th>ServerName</th><th>ComputeNodes</th><th>DefaultJobPriority</th><th>SingleNode</th><th>PrivateKeyFilePath</th><th>AdditionalBatchCommands</th><th>DeploymentBaseDirectoryAtRemote</th><th>SlurmAccount</th><th>Email</th><th>MonoDebug</th></tr></thead><tbody><tr><td>0</td><td>BoSSS.Application.BoSSSpad.MiniBatchProcessorClient</td><td>C:\\Users\\weber\\AppData\\Local\\BoSSS-LocalJobs</td><td><div class=\"dni-plaintext\">False</div></td><td>LocalPC</td><td>dotnet</td><td><div class=\"dni-plaintext\">&lt;null&gt;</div></td><td></td><td></td><td></td><td></td><td></td><td></td><td></td><td></td><td></td><td></td><td></td><td></td><td></td></tr><tr><td>1</td><td>BoSSS.Application.BoSSSpad.MsHPC2012Client</td><td>\\\\hpccluster\\hpccluster-scratch\\weber\\dply</td><td><div class=\"dni-plaintext\">True</div></td><td>FDY-cluster</td><td>dotnet</td><td></td><td><div class=\"dni-plaintext\">[ { \\\\hpccluster\\hpccluster-scratch\\weber == : LocalMountPath: \\\\hpccluster\\hpccluster-scratch\\weber, PathAtRemote:  } ]</div></td><td>FDY\\weber</td><td><div class=\"dni-plaintext\">&lt;null&gt;</div></td><td>DC2</td><td><div class=\"dni-plaintext\">[ HPCCLUSTER2 ]</div></td><td><span>Normal</span></td><td><div class=\"dni-plaintext\">True</div></td><td></td><td></td><td></td><td></td><td></td><td></td></tr><tr><td>2</td><td>BoSSS.Application.BoSSSpad.SlurmClient</td><td>X:\\Deployerie</td><td><div class=\"dni-plaintext\">True</div></td><td><div class=\"dni-plaintext\">&lt;null&gt;</div></td><td>dotnet</td><td></td><td></td><td>jw52xeqa</td><td><div class=\"dni-plaintext\">&lt;null&gt;</div></td><td>lcluster5.hrz.tu-darmstadt.de</td><td></td><td></td><td></td><td>C:\\Users\\weber\\.ssh\\id_rsa</td><td><div class=\"dni-plaintext\">&lt;null&gt;</div></td><td>/home/jw52xeqa/Deployerie</td><td>project01217</td><td><div class=\"dni-plaintext\">&lt;null&gt;</div></td><td><div class=\"dni-plaintext\">False</div></td></tr><tr><td>3</td><td>BoSSS.Application.BoSSSpad.SlurmClient</td><td>X:\\Deployerie</td><td><div class=\"dni-plaintext\">True</div></td><td>HHLR</td><td>dotnet</td><td></td><td><div class=\"dni-plaintext\">[ { W:\\work\\scratch\\jw52xeqa == /work/scratch/jw52xeqa: LocalMountPath: W:\\work\\scratch\\jw52xeqa, PathAtRemote: /work/scratch/jw52xeqa } ]</div></td><td>jw52xeqa</td><td><div class=\"dni-plaintext\">&lt;null&gt;</div></td><td>lcluster14.hrz.tu-darmstadt.de</td><td></td><td></td><td></td><td>C:\\Users\\weber\\.ssh\\id_rsa</td><td><div class=\"dni-plaintext\">[ #SBATCH -p test24 ]</div></td><td>/home/jw52xeqa/Deployerie</td><td>special00006</td><td><div class=\"dni-plaintext\">&lt;null&gt;</div></td><td><div class=\"dni-plaintext\">False</div></td></tr></tbody></table>"
      ]
     },
     "metadata": {},
     "output_type": "display_data"
    }
   ],
   "metadata": {
    "dotnet_interactive": {
     "language": "csharp"
    }
   }
  },
  {
   "cell_type": "code",
   "execution_count": null,
   "source": [
    "using BoSSS.Application.BoSSSpad;"
   ],
   "outputs": [],
   "metadata": {
    "dotnet_interactive": {
     "language": "csharp"
    }
   }
  },
  {
   "cell_type": "code",
   "execution_count": null,
   "source": [
    "// ==================================\r\n",
    "// setup Client & Workflow & Database\r\n",
    "// ==================================\r\n",
    "var myBatch = (SlurmClient)ExecutionQueues[3];\r\n",
    "//myBatch.AdditionalBatchCommands = new string[]{\"#SBATCH -p test24\",\"#SBATCH -C avx512\"}; //new string[]{\"#SLURM -p test24\", \"#SLURM -C avx512\",\"#SLURM -N 3\"}; "
   ],
   "outputs": [],
   "metadata": {
    "dotnet_interactive": {
     "language": "csharp"
    }
   }
  },
  {
   "cell_type": "code",
   "execution_count": null,
   "source": [],
   "outputs": [],
   "metadata": {
    "dotnet_interactive": {
     "language": "csharp"
    }
   }
  },
  {
   "cell_type": "code",
   "execution_count": null,
   "source": [
    "\r\n",
    "string WFlowName = \"IBM_testKarmanVortexStreet\";\r\n",
    "BoSSS.Application.BoSSSpad.BoSSSshell.WorkflowMgm.Init(WFlowName);\r\n",
    "BoSSS.Application.BoSSSpad.BoSSSshell.WorkflowMgm.SetNameBasedSessionJobControlCorrelation();"
   ],
   "outputs": [],
   "metadata": {
    "dotnet_interactive": {
     "language": "csharp"
    }
   }
  },
  {
   "cell_type": "code",
   "execution_count": null,
   "source": [],
   "outputs": [],
   "metadata": {
    "dotnet_interactive": {
     "language": "csharp"
    }
   }
  },
  {
   "cell_type": "code",
   "execution_count": null,
   "source": [
    "string dirname = \"DB_IBM_test\";\r\n",
    "string winpath = @\"H:\\weber\\\"+dirname;\r\n",
    "var tempDB = OpenOrCreateDatabase(winpath);"
   ],
   "outputs": [],
   "metadata": {
    "dotnet_interactive": {
     "language": "csharp"
    }
   }
  },
  {
   "cell_type": "code",
   "execution_count": null,
   "source": [
    "tempDB.Sessions"
   ],
   "outputs": [
    {
     "data": {
      "text/plain": [
       "#0: IBM_RotSphere\tXNSE_rotsphere*\t08/26/2021 21:05:49\tb0eeec16...\r\n",
       "#1: IBM_RotSphere\tXNSE_rotsphere*\t08/26/2021 20:57:46\tb33248de...\r\n",
       "#2: IBM_RotSphere\tXNSE_rotsphere*\t08/26/2021 20:21:33\t9b723578...\r\n",
       "#3: IBM_RotSphere\tXNSE_rotsphere*\t08/26/2021 19:59:53\tbe8ce2a3...\r\n",
       "#4: IBM_RotSphere\tXNSE_rotsphere*\t08/26/2021 14:53:48\t22034391...\r\n",
       "#5: IBM_RotSphere\tXNSE_rotsphere\t08/26/2021 13:29:09\t217c6547...\r\n",
       "#6: IBM_RotSphere\tXNSE_rotsphere*\t08/26/2021 13:21:35\tda4fcea9...\r\n",
       "#7: IBM_RotSphere\tXNSE_rotsphere*\t08/26/2021 13:21:09\t637db658...\r\n",
       "#8: XNSE/IBM_benchmark\tXNSE_rotsphere*\t08/25/2021 09:45:48\t827d43c8...\r\n",
       "#9: XNSE/IBM_benchmark\tXNSE_rotsphere*\t08/25/2021 07:18:42\t1b8831b5...\r\n",
       "#10: XNSE/IBM_benchmark\tXNSE_rotsphere\t08/20/2021 16:23:04\tc356cdc0...\r\n",
       "#11: XNSE/IBM_benchmark\tXNSE_rotsphere\t08/20/2021 13:06:13\ta9be193a...\r\n",
       "#12: XNSE/IBM_benchmark\tXNSE_rotsphere*\t08/20/2021 12:27:28\ta0923f22...\r\n",
       "#13: XNSE/IBM_benchmark\tXNSE_rotsphere*\t08/20/2021 11:56:29\tdc7e34fc...\r\n",
       "#14: XNSE/IBM_benchmark\tXNSE_rotsphere*\t08/20/2021 09:14:20\te95142b0...\r\n",
       "#15: XNSE/IBM_benchmark\tXNSE_rotsphere*\t08/20/2021 09:01:53\t63ceab22...\r\n",
       "#16: XNSE/IBM_benchmark\tXNSE_rotsphere*\t08/20/2021 07:14:12\te3e7e33c...\r\n",
       "#17: XNSE/IBM_benchmark\tXNSE_rotsphere*\t08/20/2021 06:46:20\t2e6a7846...\r\n",
       "#18: XNSE/IBM_benchmark\tXNSE_rotsphere*\t08/20/2021 06:31:48\t03ab69de...\r\n",
       "#19: XNSE/IBM_benchmark\tXNSE_rotsphere*\t08/19/2021 17:11:07\t4ce3c506...\r\n",
       "#20: XNSE/IBM_benchmark\tXNSE_rotsphere*\t08/19/2021 16:54:51\td7b53afc...\r\n",
       "#21: XNSE/IBM_benchmark\tXNSE_rotsphere*\t08/19/2021 14:46:52\taec7ac56...\r\n",
       "#22: IBM_RotSphere\tXNSE_rotsphere*\t08/18/2021 23:05:56\t8d21a198...\r\n",
       "#23: IBM_RotSphere\tXNSE_rotsphere*\t08/18/2021 09:48:32\t54e122ec...\r\n",
       "#24: IBM_RotSphere\tXNSE_rotsphere\t07/30/2021 14:08:14\t79e891b5...\r\n",
       "#25: IBM_RotSphere\tXNSE_rotsphere*\t07/30/2021 15:16:39\t58d3005e...\r\n",
       "#26: IBM_RotSphere\tXNSE_rotsphere*\t07/30/2021 15:05:40\tb41a0e65...\r\n",
       "#27: IBM_RotSphere\tXNSE_rotsphere*\t07/30/2021 14:10:50\t46d9675f...\r\n",
       "#28: IBM_RotSphere\tXNSE_rotsphere*\t07/29/2021 17:44:10\te0488c21...\r\n",
       "#29: IBM_RotSphere\tXNSE_rotsphere*\t07/29/2021 17:21:52\tfac453c2...\r\n",
       "#30: IBM_RotSphere_NegotiateNeighbourShit\tXNSE_rotsphere*\t07/29/2021 16:47:52\tb26d0378...\r\n",
       "#31: IBM_RotSphere\tXNSE_rotsphere*\t07/29/2021 14:54:02\t968e72d6...\r\n",
       "#32: IBM_RotSphere\tXNSE_rotsphere*\t07/29/2021 14:53:56\t503ddb53...\r\n",
       "#33: IBM_RotSphere_NegotiateNeighbourShit\tXNSE_rotsphere*\t07/29/2021 14:51:00\t59a836ca...\r\n",
       "#34: IBM_RotSphere_NegotiateNeighbourShit\tXNSE_rotsphere*\t07/29/2021 14:44:30\t2890a09c...\r\n",
       "#35: IBM_RotSphere_NegotiateNeighbourShit\tXNSE_rotsphere*\t07/29/2021 14:44:22\t8ac4a6be...\r\n",
       "#36: IBM_RotSphere_NegotiateNeighbourShit\tXNSE_rotsphere*\t07/29/2021 14:43:09\t8df961a4...\r\n",
       "#37: IBM_RotSphere_NegotiateNeighbourShit\tXNSE_rotsphere*\t07/27/2021 12:14:05\tcda83b05...\r\n",
       "#38: IBM_RotSphere_NegotiateNeighbourShit\tXNSE_rotsphere\t07/07/2021 14:59:04\tcf4feea1...\r\n",
       "#39: IBM_RotCube_LevelSetMovement_Prescribed\tXNSE_rotsphere*\t07/07/2021 11:25:41\t85e2579a...\r\n",
       "#40: test\tXNSE_rotsphere*\t07/05/2021 18:05:55\t70ed2c7e...\r\n",
       "#41: IBM_RotCube_LevelSetMovement_Prescribed\tXNSE_rotsphere*\t07/05/2021 16:06:52\tbbf9dae1...\r\n",
       "#42: IBM_RotCube_LevelSetMovement_Prescribed\tXNSE_rotsphere*\t07/03/2021 21:18:24\tb666b5df...\r\n",
       "#43: IBM_RotCube_LevelSetMovement_None\tXNSE_rotsphere*\t07/03/2021 21:16:07\t06d0e76d...\r\n",
       "#44: IBM_RotCube_LevelSetMovement_None\tXNSE_rotsphere*\t07/03/2021 21:10:16\t48e3e2d9...\r\n",
       "#45: XNSE/IBM_benchmark\tXNSE_rotsphere*\t06/28/2021 15:56:49\t8ba8980a...\r\n",
       "#46: IBM_RotSphere_3D\tXNSE_rotsphere*\t06/28/2021 12:28:07\tc4169895...\r\n",
       "#47: IBM_RotSphere_3D\tXNSE_rotsphere*\t06/28/2021 11:32:30\td5046342...\r\n",
       "#48: IBM_RotSphere_3D\tXNSE_rotsphere*\t06/28/2021 11:32:26\t995bc539...\r\n",
       "#49: IBM_RotSphere_3D\tXNSE_rotsphere*\t06/28/2021 11:22:29\t31648d4b...\r\n",
       "#50: XNSE/IBM_benchmark\tXNSE_rotsphere*\t06/27/2021 11:32:20\tcaeff8a3...\r\n",
       "#51: XNSE/IBM_benchmark\tXNSE_rotsphere*\t06/27/2021 08:17:17\t86cc06bb...\r\n",
       "#52: IBM_RotSphere_3D\tXNSE_rotsphere\t06/23/2021 14:48:37\t6d53b6b6...\r\n",
       "#53: IBM_RotSphere_3D\tXNSE_rotsphere*\t06/23/2021 14:47:48\te4b46077...\r\n",
       "#54: IBM_RotSphere_3D\tXNSE_rotsphere*\t06/22/2021 16:50:28\tb665c25b...\r\n",
       "#55: IBM_RotSphere_3D\tXNSE_rotsphere*\t06/22/2021 12:37:18\t1613b8c1...\r\n",
       "#56: IBM_RotSphere_3D\tXNSE_rotsphere*\t06/22/2021 07:59:08\t3d9876ab...\r\n",
       "#57: IBM_RotSphere_3D\tXNSE_rotsphere*\t06/21/2021 06:39:05\tb6f12831...\r\n",
       "#58: IBM_RotSphere_3D\tXNSE_rotsphere*\t06/19/2021 07:41:33\tf672bc27...\r\n",
       "#59: IBM_RotSphere_3D\tXNSE_rotsphere*\t06/18/2021 21:32:02\tfd9aeecd...\r\n",
       "#60: IBM_RotSphere_3D\tXNSE_rotsphere*\t06/18/2021 21:13:07\t012dda76...\r\n",
       "#61: IBM_RotSphere_3D\tXNSE_rotsphere*\t06/18/2021 21:11:57\td0c5f1a3...\r\n",
       "#62: IBM_RotSphere_3D\tXNSE_rotsphere*\t06/18/2021 19:11:02\t6f2b8dcf...\r\n",
       "#63: IBM_RotSphere_3D\tXNSE_rotsphere*\t06/18/2021 18:05:15\taf060c56...\r\n",
       "#64: IBM_RotSphere_3D\tXNSE_rotsphere*\t06/18/2021 18:04:48\tab30500c...\r\n",
       "#65: IBM_3D_sphere\tXNSE_rotsphere*\t06/18/2021 16:52:33\t87e356ce...\r\n",
       "#66: IBM_RotCube_2D\tXNSE_rotsphere*\t06/18/2021 16:42:48\t46f7e74d...\r\n",
       "#67: IBM_RotCube_testSaye\tXNSE_rotsphere*\t06/14/2021 22:58:41\t92f55771...\r\n",
       "#68: IBM_RotCube_testSaye\tXNSE_rotsphere*\t06/14/2021 21:57:04\tf4e8baa4...\r\n",
       "#69: IBM_RotCube_testSaye\tXNSE_rotsphere*\t06/14/2021 20:38:07\t60d40e88...\r\n",
       "#70: IBM_RotCube_testSaye\tXNSE_rotsphere*\t06/14/2021 17:16:34\tb290afba...\r\n",
       "#71: IBM_RotCube_testSaye\tXNSE_rotsphere*\t06/14/2021 17:08:16\tc4054bd7...\r\n",
       "#72: IBM_RotCube_testSaye\tXNSE_rotsphere*\t06/14/2021 16:43:58\t6c4b0a65...\r\n",
       "#73: IBM_RotCube_testSaye\tXNSE_rotsphere*\t06/14/2021 14:28:15\t90eb0373...\r\n",
       "#74: IBM_RotCube_testSaye\tXNSE_rotsphere*\t06/14/2021 11:15:15\t28d0f45a...\r\n",
       "#75: IBM_RotCube_testSaye\tXNSE_rotsphere*\t06/14/2021 00:00:23\teeff97e8...\r\n",
       "#76: IBM_RotCube_testSaye\tXNSE_rotsphere*\t06/13/2021 23:54:53\td31f4cbe...\r\n",
       "#77: IBM_RotCube_testSaye\tXNSE_rotsphere*\t06/13/2021 23:47:21\t71afe96a...\r\n",
       "#78: IBM_RotCube_testOneStepGauss\tXNSE_rotsphere*\t06/11/2021 12:23:20\t34ecaf4b...\r\n",
       "#79: IBM_RotCube_testOneStepGauss\tXNSE_rotsphere*\t06/10/2021 19:40:27\tb248fb2b...\r\n",
       "#80: IBM_RotCube_testOneStepGauss\tXNSE_rotsphere*\t06/10/2021 17:31:15\te1fa3c5f...\r\n",
       "#81: IBM_RotCube_testOneStepGauss\tXNSE_rotsphere*\t06/10/2021 17:20:26\tb19ae156...\r\n",
       "#82: IBM_RotCube_testOneStepGauss\tXNSE_rotsphere*\t06/09/2021 23:27:08\t93acfe13...\r\n",
       "#83: IBM_RotCube_testOneStepGauss\tXNSE_rotsphere*\t06/09/2021 18:36:32\t851c1cda...\r\n",
       "#84: IBM_RotCube_testOneStepGauss\tXNSE_rotsphere*\t06/08/2021 13:30:46\t8ff7c54d...\r\n",
       "#85: IBM_RotCube_debugGridCommons\tXNSE_rotsphere*\t05/31/2021 22:43:40\t4f2d9761...\r\n",
       "#86: IBM_RotCube_debugGridCommons\tXNSE_rotsphere*\t05/31/2021 21:33:26\t65434e86...\r\n",
       "#87: IBM_RotCube_debugGridCommons\tXNSE_rotsphere*\t05/31/2021 21:12:47\t44ee9800...\r\n",
       "#88: IBM_RotCube_debugGridCommons\tXNSE_rotsphere*\t05/31/2021 12:34:36\ted35252c...\r\n",
       "#89: IBM_RotCube_debugGridCommons\tXNSE_rotsphere*\t05/31/2021 12:34:30\t77e6f8f1...\r\n",
       "#90: IBM_RotCube_debugGridCommons\tXNSE_rotsphere*\t05/28/2021 23:07:53\ta70360bc...\r\n",
       "#91: IBM_RotCube_debugGridCommons\tXNSE_rotsphere*\t05/28/2021 17:58:05\tde6a6d4c...\r\n",
       "#92: IBM_RotCube_debugGridCommons\tXNSE_rotsphere*\t05/28/2021 17:54:28\tfd6e2597...\r\n",
       "#93: IBM_RotCube_debugGridCommons\tXNSE_rotsphere*\t05/28/2021 16:57:22\t11d4a6f3...\r\n",
       "#94: IBM_RotCube_debugGridCommons\tXNSE_rotsphere*\t05/28/2021 13:16:29\t63090ff6...\r\n",
       "#95: IBM_RotCube_debugGridCommons\tXNSE_rotsphere*\t05/28/2021 12:59:42\t08fcfcda...\r\n",
       "#96: IBM_RotCube_debugGridCommons\tXNSE_rotsphere*\t05/28/2021 12:54:18\t23f98af5...\r\n",
       "#97: IBM_RotCube_debugGridCommons\tXNSE_rotsphere*\t05/28/2021 11:40:57\t87376fc8...\r\n",
       "#98: IBM_RotCube_debugGridCommons\tXNSE_rotsphere*\t05/27/2021 14:38:00\tbdc0f561...\r\n",
       "#99: IBM_RotCube_debugGridCommons\tXNSE_rotsphere*\t05/27/2021 14:07:27\tcd52daa8...\r\n",
       "#100: IBM_RotCube_debugGridCommons\tXNSE_rotsphere*\t05/27/2021 14:06:13\t4a5ad976...\r\n",
       "#101: IBM_RotCube_debugGridCommons\tXNSE_rotsphere*\t05/27/2021 11:50:49\t0a538c28...\r\n",
       "#102: IBM_RotCube_debugGridCommons\tXNSE_rotsphere*\t05/27/2021 11:27:59\t201c1c4b...\r\n",
       "#103: IBM_RotCube_debugGridCommons\tXNSE_rotsphere*\t05/26/2021 22:48:59\t7278f8ff...\r\n",
       "#104: IBM_RotCube_debugGridCommons\tXNSE_rotsphere*\t05/26/2021 15:14:33\t1e5bcae0...\r\n",
       "#105: IBM_RotCube_debugGridCommons\tXNSE_rotsphere\t05/25/2021 19:57:41\t5371ef1a...\r\n",
       "#106: IBM_RotCube_debugGridCommons\tXNSE_rotsphere*\t05/25/2021 17:45:07\t2cca6d34...\r\n",
       "#107: IBM_RotCube_debugGridCommons\tXNSE_rotsphere*\t05/25/2021 16:16:08\t22455dd7...\r\n",
       "#108: IBM_RotCube_debugGridCommons\tXNSE_rotsphere*\t05/25/2021 16:08:44\tcba69b75...\r\n",
       "#109: IBM_RotCube_debugGridCommons\tXNSE_rotsphere*\t05/25/2021 15:49:33\t32cb3b01...\r\n",
       "#110: IBM_RotCube_debugGridCommons\tXNSE_rotsphere*\t05/25/2021 15:24:58\t4c0c38c4...\r\n",
       "#111: IBM_RotCube_debugGridCommons\tXNSE_rotsphere*\t05/25/2021 15:20:16\tb5f6eb11...\r\n",
       "#112: IBM_RotCube_debugGridCommons\tXNSE_rotsphere*\t05/25/2021 14:41:28\t1ac8b698...\r\n",
       "#113: IBM_RotCube_debugGridCommons\tXNSE_rotsphere*\t05/25/2021 14:33:31\t07af0aaa...\r\n",
       "#114: XNSE/IBM_benchmark\tXNSE_rotsphere*\t05/25/2021 12:01:39\tfd84e96a...\r\n",
       "#115: IBM_RotCube_debugGridCommons\tXNSE_rotsphere*\t05/25/2021 11:49:55\t78903108...\r\n",
       "#116: IBM_RotCube_debugGridCommons\tXNSE_rotsphere*\t05/25/2021 11:49:58\t8dc4f978...\r\n",
       "#117: IBM_RotCube_debugGridCommons\tXNSE_rotsphere*\t05/25/2021 11:20:39\tf0aaf29e...\r\n",
       "#118: IBM_RotCube_debugGridCommons\tXNSE_rotsphere*\t05/25/2021 11:20:43\t24c53c2d...\r\n"
      ]
     },
     "metadata": {},
     "output_type": "display_data"
    }
   ],
   "metadata": {
    "dotnet_interactive": {
     "language": "csharp"
    }
   }
  },
  {
   "cell_type": "code",
   "execution_count": null,
   "source": [],
   "outputs": [],
   "metadata": {
    "dotnet_interactive": {
     "language": "csharp"
    }
   }
  },
  {
   "cell_type": "code",
   "execution_count": null,
   "source": [
    "static class Utils {\r\n",
    "    // DOF per cell in 3D\r\n",
    "    public static int Np(int p) {\r\n",
    "        return (p*p*p + 6*p*p + 11*p + 6)/6;\r\n",
    "    }    \r\n",
    "}"
   ],
   "outputs": [],
   "metadata": {
    "dotnet_interactive": {
     "language": "csharp"
    }
   }
  },
  {
   "cell_type": "code",
   "execution_count": null,
   "source": [
    "// set parameterz\r\n",
    "int[] core_sweep = {16};\r\n",
    "int p             = 2;\r\n",
    "int Problemsize   = 250000;\r\n",
    "int MemoryPerCore = 2000;"
   ],
   "outputs": [],
   "metadata": {
    "dotnet_interactive": {
     "language": "csharp"
    }
   }
  },
  {
   "cell_type": "code",
   "execution_count": null,
   "source": [
    "// calculate grid size\r\n",
    "double Res    = Math.Pow(Problemsize/(Utils.Np(p)*3+Utils.Np(p-1)),0.333333333);\r\n",
    "int ResRndup  = (int)Math.Ceiling(Res);\r\n",
    "int NoOfCells = ResRndup*ResRndup*ResRndup;\r\n",
    "double test   = NoOfCells*(Utils.Np(p)*3+Utils.Np(p-1));"
   ],
   "outputs": [],
   "metadata": {
    "dotnet_interactive": {
     "language": "csharp"
    }
   }
  },
  {
   "cell_type": "code",
   "execution_count": null,
   "source": [
    "ResRndup"
   ],
   "outputs": [
    {
     "data": {
      "text/html": [
       "<div class=\"dni-plaintext\">20</div>"
      ]
     },
     "metadata": {},
     "output_type": "display_data"
    }
   ],
   "metadata": {
    "dotnet_interactive": {
     "language": "csharp"
    }
   }
  },
  {
   "cell_type": "code",
   "execution_count": null,
   "source": [
    "List<string> controls = new List<string>();"
   ],
   "outputs": [],
   "metadata": {
    "dotnet_interactive": {
     "language": "csharp"
    }
   }
  },
  {
   "cell_type": "code",
   "execution_count": null,
   "source": [
    "using BoSSS.Solution.AdvancedSolvers;\r\n",
    "using BoSSS.Solution.Control;"
   ],
   "outputs": [],
   "metadata": {
    "dotnet_interactive": {
     "language": "csharp"
    }
   }
  },
  {
   "cell_type": "code",
   "execution_count": null,
   "source": [
    "int[] PolyDegS = new int[] {p};"
   ],
   "outputs": [],
   "metadata": {
    "dotnet_interactive": {
     "language": "csharp"
    }
   }
  },
  {
   "cell_type": "code",
   "execution_count": null,
   "source": [
    "// --------------------\r\n",
    "// setup control object\r\n",
    "// --------------------\r\n",
    "\r\n",
    "//foreach(LinearSolverCode solver_name in solver_nameS) {\r\n",
    "    foreach(int k in PolyDegS) { \r\n",
    "        //Rotating_Cube(int k = 3, int Res = 20, int SpaceDim = 2, bool useAMR = false, int NoOfTimesteps = 1,bool writeToDB = false, bool tracing = false, bool loadbalancing = false)\r\n",
    "        //string jobstr = String.Format(@\"cs:BoSSS.Application.XNSE_Solver.HardcodedControl.Rotating_Cube({0}, {1}, {2},true,{3},true,true,false)\",2,ResRndup,3,10);\r\n",
    "        //string jobstr = String.Format(@\"cs:BoSSS.Application.XNSE_Solver.HardcodedControl.Rotating_Sphere({0}, {1}, {2},true,{3},true,true,true)\",2,ResRndup,3,10);\r\n",
    "        //KarmanVortexStreet(int k=1, int Res=20, int SpaceDim=2, int NoOfTimeSteps=100 ,bool UseAMR=true, bool writeToDB=true, bool loadbalancing=true)\r\n",
    "        string jobstr = String.Format(@\"cs:BoSSS.Application.XNSE_Solver.HardcodedControl.KarmanVortexStreet({0}, {1}, {2},{3},true,true,true)\",3,ResRndup,2,100);\r\n",
    "        controls.Add(jobstr);\r\n",
    "        Console.WriteLine(jobstr);\r\n",
    "    }"
   ],
   "outputs": [],
   "metadata": {
    "dotnet_interactive": {
     "language": "csharp"
    }
   }
  },
  {
   "cell_type": "code",
   "execution_count": null,
   "source": [
    "controls"
   ],
   "outputs": [
    {
     "data": {
      "text/html": [
       "<table><thead><tr><th><i>index</i></th><th>value</th></tr></thead><tbody><tr><td>0</td><td>cs:BoSSS.Application.XNSE_Solver.HardcodedControl.KarmanVortexStreet(3, 20, 2,100,true,true,true)</td></tr></tbody></table>"
      ]
     },
     "metadata": {},
     "output_type": "display_data"
    }
   ],
   "metadata": {
    "dotnet_interactive": {
     "language": "csharp"
    }
   }
  },
  {
   "cell_type": "code",
   "execution_count": null,
   "source": [
    "// ==========\r\n",
    "// Launch Job\r\n",
    "// ==========\r\n",
    "using BoSSS.Application.XNSE_Solver;\r\n",
    "using BoSSS.Application.BoSSSpad;"
   ],
   "outputs": [],
   "metadata": {
    "dotnet_interactive": {
     "language": "csharp"
    }
   }
  },
  {
   "cell_type": "code",
   "execution_count": null,
   "source": [
    "foreach(var cores in core_sweep){\r\n",
    "    foreach(var ctrlstr in controls){\r\n",
    "        int rndnum = new Random().Next();\r\n",
    "        var aJob   = new Job(\"rotting_sphere_\"+cores+rndnum,typeof(XNSE));\r\n",
    "        aJob.SetControlStatement(ctrlstr);\r\n",
    "        aJob.NumberOfMPIProcs         = cores;\r\n",
    "        aJob.ExecutionTime            = \"4:00:00\";\r\n",
    "        aJob.MemPerCPU                = \"4000\";\r\n",
    "        aJob.UseComputeNodesExclusive = true;\r\n",
    "        aJob.Activate(myBatch);\r\n",
    "    }\r\n",
    "}"
   ],
   "outputs": [],
   "metadata": {
    "dotnet_interactive": {
     "language": "csharp"
    }
   }
  },
  {
   "cell_type": "code",
   "execution_count": null,
   "source": [],
   "outputs": [],
   "metadata": {
    "dotnet_interactive": {
     "language": "csharp"
    }
   }
  },
  {
   "cell_type": "code",
   "execution_count": null,
   "source": [],
   "outputs": [],
   "metadata": {
    "dotnet_interactive": {
     "language": "csharp"
    }
   }
  }
 ],
 "metadata": {
  "kernelspec": {
   "display_name": ".NET (C#)",
   "language": "C#",
   "name": ".net-csharp"
  },
  "language_info": {
   "file_extension": ".cs",
   "mimetype": "text/x-csharp",
   "name": "C#",
   "pygments_lexer": "csharp",
   "version": "9.0"
  },
  "orig_nbformat": 2
 },
 "nbformat": 4,
 "nbformat_minor": 2
}