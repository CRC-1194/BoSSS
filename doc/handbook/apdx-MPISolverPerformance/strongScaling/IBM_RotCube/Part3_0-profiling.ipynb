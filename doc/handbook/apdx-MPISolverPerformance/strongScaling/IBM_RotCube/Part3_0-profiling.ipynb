{
 "metadata": {
  "kernelspec": {
   "display_name": ".NET (C#)",
   "language": "C#",
   "name": ".net-csharp"
  },
  "language_info": {
   "name": "C#"
  }
 },
 "cells": [
  {
   "cell_type": "code",
   "execution_count": null,
   "source": [
    "#r \"./../../../../../../public/src/L4-application/BoSSSpad/bin/Release/net5.0/BoSSSpad.dll\"\r\n",
    "using System;\r\n",
    "using ilPSP;\r\n",
    "using ilPSP.Utils;\r\n",
    "using BoSSS.Platform;\r\n",
    "using BoSSS.Foundation;\r\n",
    "using BoSSS.Foundation.XDG;\r\n",
    "using BoSSS.Foundation.Grid;\r\n",
    "using BoSSS.Solution;\r\n",
    "using BoSSS.Application.XNSE_Solver;\r\n",
    "using System.IO;\r\n",
    "using BoSSS.Foundation.IO;\r\n",
    "using ilPSP.Tracing;\r\n",
    "using BoSSS.Application.BoSSSpad;\r\n",
    "using BoSSS.Solution.Gnuplot;\r\n",
    "using BoSSS.Solution.AdvancedSolvers;\r\n",
    "\r\n",
    "using static BoSSS.Application.BoSSSpad.BoSSSshell;\r\n",
    "Init();"
   ],
   "outputs": [],
   "metadata": {
    "dotnet_interactive": {
     "language": "csharp"
    }
   }
  },
  {
   "cell_type": "code",
   "execution_count": null,
   "source": [
    "string basepath = @\"B:\\BoSSS-smuda\\public\\doc\\handbook\\apdx-MPISolverPerformance\\strongScaling\\IBM_RotCube\\\";\r\n",
    "List<System.Data.DataTable> LoadedTabs = new List<System.Data.DataTable>();\r\n",
    "LoadedTabs.Add(TableExtensions.LoadFromFile(basepath+\"strong_scaling_3_2_2021-9-24.json\"));\r\n",
    "LoadedTabs.Add(TableExtensions.LoadFromFile(basepath+\"strong_scaling_3_1_2021-9-24.json\"));\r\n",
    "LoadedTabs.Add(TableExtensions.LoadFromFile(basepath+\"strong_scaling_3_2021-9-24.json\"));\r\n",
    "var SesTab = LoadedTabs.Pick(0);\r\n",
    "LoadedTabs.ForEach(s=>SesTab.Merge(s)); SesTab.Rows.Count()"
   ],
   "outputs": [],
   "metadata": {
    "dotnet_interactive": {
     "language": "csharp"
    }
   }
  },
  {
   "cell_type": "code",
   "execution_count": null,
   "source": [
    "SesTab.GetColumnNames().Where(s=>s.Contains(\"Name\"))"
   ],
   "outputs": [],
   "metadata": {
    "dotnet_interactive": {
     "language": "csharp"
    }
   }
  },
  {
   "cell_type": "code",
   "execution_count": null,
   "source": [
    "string[] ColumnNames = new string[]{\r\n",
    "\"NoOfCores\",\r\n",
    "\"TotalRuntime\",\r\n",
    "\"MatrixAssembly_time\",\r\n",
    "\"AggregationBaseInit_time\",\r\n",
    "\"DataIO_time\",\r\n",
    "\"CGProjection_time\",\r\n",
    "\"SayeCompile_time\",\r\n",
    "\"StandardCompile_time\",\r\n",
    "\"AMR_time\",\r\n",
    "\"LoadBal_time\",\r\n",
    "\"SolverInit_time\",\r\n",
    "\"SolverRun_time\"};"
   ],
   "outputs": [],
   "metadata": {
    "dotnet_interactive": {
     "language": "csharp"
    }
   }
  },
  {
   "cell_type": "code",
   "execution_count": null,
   "source": [
    "int k = 4;"
   ],
   "outputs": [],
   "metadata": {
    "dotnet_interactive": {
     "language": "csharp"
    }
   }
  },
  {
   "cell_type": "code",
   "execution_count": null,
   "source": [
    "var ProfileTab = SesTab.ExtractColumns(ColumnNames);\r\n",
    "ProfileTab.Clear();\r\n",
    "foreach(System.Data.DataRow Row in SesTab.Rows){\r\n",
    "    if(Convert.ToInt32(Row[\"DGdegree:Velocity*\"])!=k) continue;\r\n",
    "    var newrow = ProfileTab.NewRow();\r\n",
    "    //double total = Convert.ToDouble(Row[\"TotalRuntime\"]);\r\n",
    "    foreach(string CName in ColumnNames){\r\n",
    "        newrow[CName]=Convert.ToDouble(Row[CName]);\r\n",
    "    }\r\n",
    "    ProfileTab.Rows.Add(newrow);\r\n",
    "}"
   ],
   "outputs": [],
   "metadata": {
    "dotnet_interactive": {
     "language": "csharp"
    }
   }
  },
  {
   "cell_type": "code",
   "execution_count": null,
   "source": [
    "string Name_Ncores = \"NoOfCores\";\r\n",
    "string Name_DGdegree = \"DGdegree:Velocity*\";"
   ],
   "outputs": [],
   "metadata": {
    "dotnet_interactive": {
     "language": "csharp"
    }
   }
  },
  {
   "cell_type": "code",
   "execution_count": null,
   "source": [
    "// Average of Repititions ... pt1: Group Runs\r\n",
    "var RegistryOfRuns = new Dictionary<string,List<System.Data.DataRow>>();\r\n",
    "foreach(System.Data.DataRow Row in ProfileTab.Rows){\r\n",
    "    string test = \"\";\r\n",
    "    test += \"_c\"+Convert.ToString(Row[Name_Ncores]);\r\n",
    "    List<System.Data.DataRow> Reps;\r\n",
    "    if(RegistryOfRuns.TryGetValue(test,out Reps)){\r\n",
    "        Reps.Add(Row);\r\n",
    "    } else {\r\n",
    "        Reps = new List<System.Data.DataRow>();\r\n",
    "        Reps.Add(Row);\r\n",
    "        RegistryOfRuns.Add(test,Reps);\r\n",
    "    }\r\n",
    "} RegistryOfRuns.OrderBy(s=>s.Key[0]).OrderBy(s=>s.Key[1]).Select(s=>new object[]{s.Key,s.Value.Count()})"
   ],
   "outputs": [],
   "metadata": {
    "dotnet_interactive": {
     "language": "csharp"
    }
   }
  },
  {
   "cell_type": "code",
   "execution_count": null,
   "source": [
    "RegistryOfRuns[\"_c8\"][0][1]"
   ],
   "outputs": [],
   "metadata": {
    "dotnet_interactive": {
     "language": "csharp"
    }
   }
  },
  {
   "cell_type": "code",
   "execution_count": null,
   "source": [
    "// Average of Repititions ... pt2: Compute Average\r\n",
    "var tmp = ProfileTab.Clone();\r\n",
    "tmp.Clear();\r\n",
    "foreach(var kvp in RegistryOfRuns){\r\n",
    "    var newrow = tmp.NewRow();\r\n",
    "    var sample = kvp.Value.First();\r\n",
    "    newrow[Name_Ncores]=Convert.ToInt32(sample[Name_Ncores]);\r\n",
    "    foreach(System.Data.DataColumn col in tmp.Columns){\r\n",
    "        if(col.ColumnName==Name_Ncores) continue;\r\n",
    "        double value=0.0;\r\n",
    "        foreach(System.Data.DataRow row in kvp.Value){\r\n",
    "            try{\r\n",
    "                value+=Convert.ToDouble(row[col.ColumnName]);\r\n",
    "            } catch (Exception ex){\r\n",
    "                Console.WriteLine(\"err at \"+col.ColumnName);\r\n",
    "            }\r\n",
    "        }\r\n",
    "        newrow[col]=value / kvp.Value.Count();\r\n",
    "    }\r\n",
    "    tmp.Rows.Add(newrow);\r\n",
    "}\r\n",
    "ProfileTab = tmp;\r\n",
    "ProfileTab.Print()"
   ],
   "outputs": [],
   "metadata": {
    "dotnet_interactive": {
     "language": "csharp"
    }
   }
  },
  {
   "cell_type": "code",
   "execution_count": null,
   "source": [],
   "outputs": [],
   "metadata": {
    "dotnet_interactive": {
     "language": "csharp"
    }
   }
  },
  {
   "cell_type": "code",
   "execution_count": null,
   "source": [
    "//ProfileTab.Columns[\"NoOfCores\"].SetOrdinal(0);\r\n",
    "System.Data.DataView view = new System.Data.DataView(ProfileTab);\r\n",
    "view.Sort = \"NoOfCores\";\r\n",
    "ProfileTab=view.ToTable();\r\n",
    "ProfileTab.Print()"
   ],
   "outputs": [],
   "metadata": {
    "dotnet_interactive": {
     "language": "csharp"
    }
   }
  },
  {
   "cell_type": "code",
   "execution_count": null,
   "source": [
    "/*\r\n",
    "System.Data.DataTable dtNew = new System.Data.DataTable();\r\n",
    "var dt=ProfileTab;\r\n",
    "dtNew.Columns.Add(\"times\",typeof(String));\r\n",
    "//adding columns    \r\n",
    "for(int i=0; i<dt.Rows.Count; i++)\r\n",
    "{\r\n",
    "    dtNew.Columns.Add(Convert.ToString(dt.Rows[i][\"NoOfCores\"]));\r\n",
    "}\r\n",
    "//Changing Column Captions: \r\n",
    "\r\n",
    "\r\n",
    "//Adding Row Data\r\n",
    "for(int k=1; k<dt.Columns.Count; k++)\r\n",
    "{\r\n",
    "    System.Data.DataRow r = dtNew.NewRow();\r\n",
    "    r[0] = dt.Columns[k].ToString(); \r\n",
    "    for(int j=1; j<=dt.Rows.Count; j++)\r\n",
    "    r[j] = dt.Rows[j-1][k];  \r\n",
    "    dtNew.Rows.Add(r);\r\n",
    "}\r\n",
    "dtNew.Print()\r\n",
    "*/"
   ],
   "outputs": [],
   "metadata": {
    "dotnet_interactive": {
     "language": "csharp"
    }
   }
  },
  {
   "cell_type": "code",
   "execution_count": null,
   "source": [
    "string dirpath = Directory.GetCurrentDirectory();\r\n",
    "ProfileTab.ToCSVFile(dirpath+@\"\\profile_k\"+k+\".dat\"); dirpath"
   ],
   "outputs": [],
   "metadata": {
    "dotnet_interactive": {
     "language": "csharp"
    }
   }
  },
  {
   "cell_type": "code",
   "execution_count": null,
   "source": [],
   "outputs": [],
   "metadata": {
    "dotnet_interactive": {
     "language": "csharp"
    }
   }
  }
 ],
 "nbformat": 4,
 "nbformat_minor": 2
}