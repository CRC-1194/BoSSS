{
 "cells": [
  {
   "cell_type": "code",
   "execution_count": null,
   "metadata": {
    "dotnet_interactive": {
     "language": "csharp"
    }
   },
   "outputs": [],
   "source": [
    "#r \"./../../../../../../public/src/L4-application/BoSSSpad/bin/Release/net5.0/BoSSSpad.dll\"\n",
    "using System;\n",
    "using ilPSP;\n",
    "using ilPSP.Utils;\n",
    "using BoSSS.Platform;\n",
    "using BoSSS.Foundation;\n",
    "using BoSSS.Foundation.XDG;\n",
    "using BoSSS.Foundation.Grid;\n",
    "using BoSSS.Solution;\n",
    "using BoSSS.Application.XNSE_Solver;\n",
    "using BoSSS.Application.BoSSSpad;\n",
    "using BoSSS.Foundation.Grid.Classic;\n",
    "using BoSSS.Foundation.IO;\n",
    "using BoSSS.Solution.AdvancedSolvers;\n",
    "using BoSSS.Solution.Control;\n",
    "using BoSSS.Solution.XNSECommon;\n",
    "using BoSSS.Solution.NSECommon;\n",
    "using BoSSS.Application.XNSE_Solver.LoadBalancing;\n",
    "using BoSSS.Solution.LevelSetTools;\n",
    "using BoSSS.Solution.XdgTimestepping;\n",
    "\n",
    "using static BoSSS.Application.BoSSSpad.BoSSSshell;\n",
    "Init();"
   ]
  },
  {
   "cell_type": "code",
   "execution_count": null,
   "metadata": {
    "dotnet_interactive": {
     "language": "csharp"
    }
   },
   "outputs": [],
   "source": [
    "// set parameterz\n",
    "int[] core_sweep = {4};\n",
    "int[] PolyDegS = new int[] {3};\n",
    "int[] ResArray = new int[] {10};\n",
    "int MemoryPerCore = 2000;"
   ]
  },
  {
   "cell_type": "code",
   "execution_count": null,
   "metadata": {
    "dotnet_interactive": {
     "language": "csharp"
    }
   },
   "outputs": [],
   "source": [
    "bool useAMR = true;\n",
    "bool useLoadBal = true;\n",
    "int NoOfTimeSteps = 1;\n",
    "bool Steady = true;\n",
    "bool IncludeConvection = true;\n",
    "var Gshape = Shape.Cube;"
   ]
  },
  {
   "cell_type": "code",
   "execution_count": null,
   "metadata": {
    "dotnet_interactive": {
     "language": "csharp"
    }
   },
   "outputs": [
    {
     "data": {
      "text/html": [
       "<table><thead><tr><th>DeploymentBaseDirectory</th><th>DeployRuntime</th><th>Name</th><th>DotnetRuntime</th><th>BatchInstructionDir</th><th>AllowedDatabasesPaths</th></tr></thead><tbody><tr><td><div class=\"dni-plaintext\">C:\\Users\\weber\\AppData\\Local\\BoSSS-LocalJobs</div></td><td><div class=\"dni-plaintext\">False</div></td><td><div class=\"dni-plaintext\">LocalPC</div></td><td><div class=\"dni-plaintext\">dotnet</div></td><td><div class=\"dni-plaintext\">&lt;null&gt;</div></td><td><div class=\"dni-plaintext\">[ { D:\\trash_db == : LocalMountPath: D:\\trash_db, PathAtRemote:  } ]</div></td></tr></tbody></table>"
      ]
     },
     "metadata": {},
     "output_type": "display_data"
    }
   ],
   "source": [
    "ExecutionQueues[1]"
   ]
  },
  {
   "cell_type": "code",
   "execution_count": null,
   "metadata": {
    "dotnet_interactive": {
     "language": "csharp"
    }
   },
   "outputs": [],
   "source": [
    "// ==================================\n",
    "// setup Client & Workflow & Database\n",
    "// ==================================\n",
    "/*\n",
    "var myBatch = (SlurmClient)ExecutionQueues[3];\n",
    "var AddSbatchCmds = new List<string>();\n",
    "AddSbatchCmds.AddRange(new string[]{\"#SBATCH -p test24\", \"#SBATCH -C avx512\", \"#SBATCH --mem-per-cpu=\"+MemoryPerCore});\n",
    "myBatch.AdditionalBatchCommands = AddSbatchCmds.ToArray();\n",
    "myBatch.AdditionalBatchCommands\n",
    "*/"
   ]
  },
  {
   "cell_type": "code",
   "execution_count": null,
   "metadata": {
    "dotnet_interactive": {
     "language": "csharp"
    }
   },
   "outputs": [],
   "source": [
    "static var myBatch = (MiniBatchProcessorClient)ExecutionQueues[1];\n",
    "MiniBatchProcessor.Server.StartIfNotRunning();"
   ]
  },
  {
   "cell_type": "code",
   "execution_count": null,
   "metadata": {
    "dotnet_interactive": {
     "language": "csharp"
    }
   },
   "outputs": [],
   "source": [
    "string WFlowName = \"rotCube+Inlet_test\";\n",
    "BoSSS.Application.BoSSSpad.BoSSSshell.WorkflowMgm.Init(WFlowName);\n",
    "BoSSS.Application.BoSSSpad.BoSSSshell.WorkflowMgm.SetNameBasedSessionJobControlCorrelation();"
   ]
  },
  {
   "cell_type": "code",
   "execution_count": null,
   "metadata": {
    "dotnet_interactive": {
     "language": "csharp"
    }
   },
   "outputs": [],
   "source": [
    "/*\n",
    "myBatch.AllowedDatabasesPaths.Clear();\n",
    "//string dirname = \"DB_rotCubePaper\";\n",
    "//string dirname = \"DB_rotSphere_CoreScaling\";\n",
    "//string dirname = \"DB_rotSphere_DOFScaling\";\n",
    "string dirname =\"DB_rotCubePaper\";\n",
    "string winpath = @\"W:\\work\\scratch\\jw52xeqa\\\"+dirname;\n",
    "string remotepath = @\"/work/scratch/jw52xeqa/\"+dirname;\n",
    "//string winpath = @\"\\\\hpccluster\\hpccluster-scratch\\\"+dirname;\n",
    "var myDB = OpenOrCreateDatabase(winpath);\n",
    "//myBatch.AllowedDatabasesPaths.Add(new AllowedDatabasesPair(winpath,remotepath)); myBatch.AllowedDatabasesPaths\n",
    "*/"
   ]
  },
  {
   "cell_type": "code",
   "execution_count": null,
   "metadata": {
    "dotnet_interactive": {
     "language": "csharp"
    }
   },
   "outputs": [
    {
     "name": "stdout",
     "output_type": "stream",
     "text": [
      "Opening existing database 'D:\\trash_db\\DB_rotCubePaper'.\r\n"
     ]
    }
   ],
   "source": [
    "static var pair = myBatch.AllowedDatabasesPaths.Pick(0);\n",
    "static string DBName = @\"\\\"+\"DB_rotCubePaper\";\n",
    "static string localpath=pair.LocalMountPath+DBName;\n",
    "string remotepath=pair.PathAtRemote+DBName;\n",
    "static var myDB = OpenOrCreateDatabase(localpath);"
   ]
  },
  {
   "cell_type": "code",
   "execution_count": null,
   "metadata": {
    "dotnet_interactive": {
     "language": "csharp"
    }
   },
   "outputs": [],
   "source": [
    "static class Utils {\n",
    "    // DOF per cell in 3D\n",
    "    public static int Np(int p) {\n",
    "        return (p*p*p + 6*p*p + 11*p + 6)/6;\n",
    "    }\n",
    "}"
   ]
  },
  {
   "cell_type": "markdown",
   "metadata": {},
   "source": [
    "using "
   ]
  },
  {
   "cell_type": "code",
   "execution_count": null,
   "metadata": {
    "dotnet_interactive": {
     "language": "csharp"
    }
   },
   "outputs": [],
   "source": [
    "double xMax = 4.0, yMax = 1.0, zMax = 1.0;\n",
    "double xMin = -2.0, yMin = -1.0,zMin = -1.0;"
   ]
  },
  {
   "cell_type": "markdown",
   "metadata": {},
   "source": [
    "double xMax = 1.0, yMax = 1.0, zMax=1.0;\n",
    "double xMin = -1.0, yMin = -1.0,zMin = -1.0;"
   ]
  },
  {
   "cell_type": "code",
   "execution_count": null,
   "metadata": {
    "dotnet_interactive": {
     "language": "csharp"
    }
   },
   "outputs": [
    {
     "name": "stdout",
     "output_type": "stream",
     "text": [
      "Grid Edge Tags changed.\r\n",
      "An equivalent grid (98636c04-a045-4131-8c07-8d9a58997272) is already present in the database -- the grid will not be saved.\r\n"
     ]
    },
    {
     "data": {
      "text/plain": [
       "#0: { Guid = 98636c04-a045-4131-8c07-8d9a58997272; Name = RotBenchmarkGrid; Cell Count = 3000; Dim = 3 }\r\n"
      ]
     },
     "metadata": {},
     "output_type": "display_data"
    }
   ],
   "source": [
    "List<IGridInfo> Grids = new List<IGridInfo>();\n",
    "foreach(var Res in ResArray){\n",
    "    int Stretching = (int)Math.Floor(Math.Abs(xMax-xMin)/Math.Abs(yMax-yMin));\n",
    "    var _xNodes = GenericBlas.Linspace(xMin, xMax, Stretching*Res + 1);\n",
    "    var _yNodes = GenericBlas.Linspace(yMin, yMax, Res + 1);\n",
    "    var _zNodes = GenericBlas.Linspace(zMin, zMax, Res + 1);\n",
    "\n",
    "    GridCommons grd;\n",
    "    string gname = \"RotBenchmarkGrid\";\n",
    "    \n",
    "    var tmp = new List<IGridInfo>();\n",
    "    foreach(var grid in myDB.Grids){\n",
    "        try{\n",
    "            bool IsMatch = grid.Name.Equals(gname)&&grid.NumberOfCells==_xNodes.Length*_yNodes.Length*_zNodes.Length;\n",
    "            if(IsMatch) tmp.Add(grid);\n",
    "        }\n",
    "        catch(Exception ex) {\n",
    "            Console.WriteLine(ex.Message);\n",
    "        }\n",
    "    }\n",
    "    if(tmp.Count()>=1){\n",
    "        Console.WriteLine(\"Grid found: \"+tmp.Pick(0).Name);\n",
    "        Grids.Add(tmp.Pick(0));\n",
    "        continue;\n",
    "    }\n",
    "    \n",
    "    grd = Grid3D.Cartesian3DGrid(_xNodes, _yNodes, _zNodes);\n",
    "    grd.Name = gname;\n",
    "    //grd.AddPredefinedPartitioning(\"debug\", MakeDebugPart);\n",
    "\n",
    "    grd.EdgeTagNames.Add(1, \"Velocity_inlet\");\n",
    "    grd.EdgeTagNames.Add(2, \"Wall\");\n",
    "    grd.EdgeTagNames.Add(3, \"Pressure_Outlet\");\n",
    "\n",
    "    grd.DefineEdgeTags(delegate (double[] _X) {\n",
    "        var X = _X;\n",
    "        double x, y, z;\n",
    "        x = X[0];\n",
    "        y = X[1];\n",
    "        z = X[2];\n",
    "        if(Math.Abs(x-xMin)<1E-8)\n",
    "            return 1;\n",
    "        else\n",
    "            return 3;\n",
    "    });\n",
    "    myDB.SaveGrid(ref grd);\n",
    "    Grids.Add(grd);\n",
    "} Grids"
   ]
  },
  {
   "cell_type": "code",
   "execution_count": null,
   "metadata": {
    "dotnet_interactive": {
     "language": "csharp"
    }
   },
   "outputs": [],
   "source": [
    "int SpaceDim = 3;\n",
    "double _partRad = 0.3800;"
   ]
  },
  {
   "cell_type": "code",
   "execution_count": null,
   "metadata": {
    "dotnet_interactive": {
     "language": "csharp"
    }
   },
   "outputs": [
    {
     "data": {
      "text/html": [
       "<div class=\"dni-plaintext\">7.6</div>"
      ]
     },
     "metadata": {},
     "output_type": "display_data"
    }
   ],
   "source": [
    "_partRad/(2/(double)ResArray[0]/4)"
   ]
  },
  {
   "cell_type": "code",
   "execution_count": null,
   "metadata": {
    "dotnet_interactive": {
     "language": "csharp"
    }
   },
   "outputs": [],
   "source": [
    "Action<XNSE_Control, int> SetOptionsResFields = delegate (XNSE_Control ctrl, int k){\n",
    "    ctrl.FieldOptions.Add(\"Residual-MomentumX\", new FieldOpts() {\n",
    "        Degree = k,\n",
    "        SaveToDB = FieldOpts.SaveToDBOpt.TRUE\n",
    "    });\n",
    "    ctrl.FieldOptions.Add(\"Residual-MomentumY\", new FieldOpts() {\n",
    "        Degree = k,\n",
    "        SaveToDB = FieldOpts.SaveToDBOpt.TRUE\n",
    "    });\n",
    "    ctrl.FieldOptions.Add(\"Residual-MomentumZ\", new FieldOpts() {\n",
    "        Degree = k,\n",
    "        SaveToDB = FieldOpts.SaveToDBOpt.TRUE\n",
    "    });\n",
    "    ctrl.FieldOptions.Add(\"Residual-ContiEq\", new FieldOpts() {\n",
    "        Degree = k-1,\n",
    "        SaveToDB = FieldOpts.SaveToDBOpt.TRUE\n",
    "    });\n",
    "};"
   ]
  },
  {
   "cell_type": "code",
   "execution_count": null,
   "metadata": {
    "dotnet_interactive": {
     "language": "csharp"
    }
   },
   "outputs": [],
   "source": [
    "Func<IGridInfo, int, double, LinearSolverCode, XNSE_Control> GenXNSECtrl = delegate(IGridInfo grd, int k, double Viscosity, LinearSolverCode solver ){\n",
    "    XNSE_Control C = new XNSE_Control();\n",
    "    // basic database options\n",
    "    // ======================\n",
    "    C.AlternateDbPaths = new[] {\n",
    "        (localpath, \"\"),\n",
    "        (remotepath,\"\")};\n",
    "    //C.DbPath=@\"\\\\hpccluster\\hpccluster-scratch\\DB_rotSphereBenchmark\";\n",
    "    C.savetodb = true;\n",
    "    int J  = grd.NumberOfCells;\n",
    "    C.SessionName = string.Format(\"J{0}_k{1}_t{2}_{3}\", J, k,NoOfTimeSteps,solver.ToString());\n",
    "    if(IncludeConvection){\n",
    "        C.SessionName += \"_NSE\";\n",
    "        C.Tags.Add(\"NSE\");\n",
    "    } else {\n",
    "        C.SessionName += \"_Stokes\";\n",
    "        C.Tags.Add(\"Stokes\");\n",
    "    }\n",
    "    C.Tags.Add(SpaceDim + \"D\");\n",
    "    if(Steady)C.Tags.Add(\"steady\");\n",
    "    else C.Tags.Add(\"transient\");\n",
    "\n",
    "    // DG degrees\n",
    "    // ==========\n",
    "    C.SetFieldOptions(k, Math.Max(k, 2));\n",
    "    SetOptionsResFields(C,k);\n",
    "    C.saveperiod = 1;\n",
    "    //C.TracingNamespaces = \"*\";\n",
    "\n",
    "    C.GridGuid = grd.ID;\n",
    "    C.GridPartType = GridPartType.clusterHilbert;\n",
    "    C.DynamicLoadbalancing_ClassifierType = ClassifierType.CutCells;\n",
    "    C.DynamicLoadBalancing_On = useLoadBal;\n",
    "    C.DynamicLoadBalancing_RedistributeAtStartup = true;\n",
    "    C.DynamicLoadBalancing_Period = 1;\n",
    "    C.DynamicLoadBalancing_ImbalanceThreshold = 0.1;\n",
    "\n",
    "\n",
    "    // Physical Parameters\n",
    "    // ===================\n",
    "    const double rhoA = 1;\n",
    "    const double Re = 100;\n",
    "    double muA = Viscosity;\n",
    "    \n",
    "    double partRad = _partRad;\n",
    "    double d_hyd = 2*partRad;\n",
    "    double anglev = Re*muA/rhoA/d_hyd;\n",
    "    double VelocityIn = Re*muA/rhoA/d_hyd;\n",
    "    double[] pos = new double[SpaceDim];\n",
    "    double ts = Math.PI/anglev/NoOfTimeSteps;\n",
    "    double inletdelay = 5*ts;\n",
    "\n",
    "    C.PhysicalParameters.IncludeConvection = IncludeConvection;\n",
    "    C.PhysicalParameters.Material = true;\n",
    "    C.PhysicalParameters.rho_A = rhoA;\n",
    "    C.PhysicalParameters.mu_A = muA;\n",
    "\n",
    "    C.Rigidbody.SetParameters(pos,0.0,partRad,SpaceDim);\n",
    "    //C.Rigidbody.SetParameters(pos,anglev,partRad,SpaceDim);\n",
    "    C.Rigidbody.SpecifyShape(Gshape);\n",
    "    C.Rigidbody.SetRotationAxis(\"x\");\n",
    "    C.AddInitialValue(VariableNames.LevelSetCGidx(0), new Formula(\"X => -1\"));\n",
    "    //C.UseImmersedBoundary = true;\n",
    "    \n",
    "    C.AddInitialValue(\"Pressure\", new Formula(@\"X => 0\"));\n",
    "    C.AddBoundaryValue(\"Pressure_Outlet\");\n",
    "    //var DelayedInlet = new Formula($\"(X,t) => {VelocityIn}*(double)(t<={inletdelay}?(Math.Sin((t-{inletdelay}/2)/{inletdelay}*{Math.PI})+1)/2:1)\", true);\n",
    "    var DelayedInlet = new Formula($\"(X,t) => {VelocityIn}\", true);\n",
    "    C.AddBoundaryValue(\"Velocity_inlet\", \"VelocityX\", DelayedInlet);\n",
    "    C.AddInitialValue(\"VelocityX\", DelayedInlet);\n",
    "\n",
    "    C.CutCellQuadratureType = BoSSS.Foundation.XDG.XQuadFactoryHelper.MomentFittingVariants.Saye;\n",
    "    C.UseSchurBlockPrec = true;\n",
    "    C.AgglomerationThreshold = 0.1;\n",
    "    C.AdvancedDiscretizationOptions.ViscosityMode = ViscosityMode.FullySymmetric;\n",
    "    C.Option_LevelSetEvolution2 = LevelSetEvolution.Prescribed;\n",
    "    C.Option_LevelSetEvolution = LevelSetEvolution.None;\n",
    "    C.Timestepper_LevelSetHandling = LevelSetHandling.None;\n",
    "    C.LinearSolver.NoOfMultigridLevels = 4;\n",
    "    C.LinearSolver.ConvergenceCriterion = 1E-8;\n",
    "    C.LinearSolver.MaxSolverIterations = 200;\n",
    "    C.LinearSolver.MaxKrylovDim = 50;\n",
    "    C.LinearSolver.TargetBlockSize = 10000;\n",
    "    C.LinearSolver.verbose = true;\n",
    "    C.LinearSolver.SolverCode = solver;\n",
    "    C.NonLinearSolver.SolverCode = NonLinearSolverCode.Newton;\n",
    "    //C.NonLinearSolver.ConvergenceCriterion = 1E-5;\n",
    "    C.NonLinearSolver.MaxSolverIterations = 6;\n",
    "    C.NonLinearSolver.verbose = true;\n",
    "\n",
    "    C.AdaptiveMeshRefinement = useAMR;\n",
    "    if (useAMR) {\n",
    "        C.SetMaximalRefinementLevel(2);\n",
    "        C.AMR_startUpSweeps = 0;\n",
    "    }\n",
    "\n",
    "    // Timestepping\n",
    "    // ============\n",
    "    double dt = -1;\n",
    "    if(Steady){\n",
    "        C.TimesteppingMode = AppControl._TimesteppingMode.Steady;\n",
    "        dt = 1000;\n",
    "        C.NoOfTimesteps = 1;\n",
    "    } else {\n",
    "        C.TimesteppingMode = AppControl._TimesteppingMode.Transient;        \n",
    "        dt = ts;        \n",
    "        C.NoOfTimesteps = NoOfTimeSteps;\n",
    "    }\n",
    "    C.TimeSteppingScheme = TimeSteppingScheme.BDF2;\n",
    "    C.dtFixed = dt;\n",
    "    return C;\n",
    "};"
   ]
  },
  {
   "cell_type": "code",
   "execution_count": null,
   "metadata": {
    "dotnet_interactive": {
     "language": "csharp"
    }
   },
   "outputs": [
    {
     "data": {
      "text/html": [
       "<table><thead><tr><th><i>index</i></th><th>value</th></tr></thead><tbody><tr><td>0</td><td>J3000_k3_t1_classic_pardiso_NSE</td></tr><tr><td>1</td><td>J3000_k3_t1_exp_Kcycle_schwarz_NSE</td></tr></tbody></table>"
      ]
     },
     "metadata": {},
     "output_type": "display_data"
    }
   ],
   "source": [
    "var ViscositySweep = new double[]{1E-3};\n",
    "List<XNSE_Control> controls = new List<XNSE_Control>();\n",
    "var solvers = new LinearSolverCode[]{LinearSolverCode.classic_pardiso, LinearSolverCode.exp_Kcycle_schwarz};\n",
    "foreach(var solver in solvers){\n",
    "    foreach(IGridInfo grd in Grids){\n",
    "        foreach(int k in PolyDegS){\n",
    "            foreach(double v in ViscositySweep)\n",
    "                controls.Add(GenXNSECtrl(grd,k,v,solver));\n",
    "        }\n",
    "    }\n",
    "} controls.Select(s=>s.SessionName)"
   ]
  },
  {
   "cell_type": "markdown",
   "metadata": {},
   "source": []
  },
  {
   "cell_type": "code",
   "execution_count": null,
   "metadata": {
    "dotnet_interactive": {
     "language": "csharp"
    }
   },
   "outputs": [
    {
     "data": {
      "text/html": [
       "<table><thead><tr><th><i>index</i></th><th>value</th></tr></thead><tbody><tr><td>0</td><td>J3000_k3_t1_classic_pardiso_NSE</td></tr><tr><td>1</td><td>J3000_k3_t1_exp_Kcycle_schwarz_NSE</td></tr></tbody></table>"
      ]
     },
     "metadata": {},
     "output_type": "display_data"
    }
   ],
   "source": [
    "controls.Select(s=>s.SessionName)"
   ]
  },
  {
   "cell_type": "code",
   "execution_count": null,
   "metadata": {
    "dotnet_interactive": {
     "language": "csharp"
    }
   },
   "outputs": [],
   "source": [
    "static Func<XNSE_Control,int,int> NodeRegression =  delegate (XNSE_Control thisctrl, int cores) {\n",
    "    int Ncells = myDB.Grids.Where(g=>g.ID.Equals(thisctrl.GridGuid)).Pick(0).NumberOfCells;\n",
    "    thisctrl.FieldOptions.TryGetValue(\"Velocity*\",out FieldOpts Foptions);\n",
    "    int k = Foptions.Degree;\n",
    "    int DOFperCell = Utils.Np(k)*3+Utils.Np(k-1);\n",
    "    int DOFperCore = DOFperCell*Ncells/cores;\n",
    "    double mempercore = -9E-7*DOFperCore*DOFperCore+3.84E-1*DOFperCore+13500;\n",
    "    double memoryneed = mempercore * cores;\n",
    "    double memorypernode = 384*1024; // MB\n",
    "    int nodes2allocate = (int)Math.Ceiling(memoryneed / memorypernode);\n",
    "    \n",
    "    // these 2 lines make it a power of 2\n",
    "    double bla = Math.Ceiling(Math.Log(nodes2allocate)/Math.Log(2));\n",
    "    nodes2allocate = (int)Math.Pow(2,bla);\n",
    "\n",
    "    return nodes2allocate;\n",
    "};"
   ]
  },
  {
   "cell_type": "code",
   "execution_count": null,
   "metadata": {
    "dotnet_interactive": {
     "language": "csharp"
    }
   },
   "outputs": [
    {
     "data": {
      "text/html": [
       "<div class=\"dni-plaintext\">4</div>"
      ]
     },
     "metadata": {},
     "output_type": "display_data"
    }
   ],
   "source": [
    "NodeRegression(controls.Pick(0),64)"
   ]
  },
  {
   "cell_type": "code",
   "execution_count": null,
   "metadata": {
    "dotnet_interactive": {
     "language": "csharp"
    }
   },
   "outputs": [
    {
     "name": "stdout",
     "output_type": "stream",
     "text": [
      "Note: found 1 successful deployment(s), but job is configured to require a successful result session ('this.SessionReqForSuccess' is true), and none is found. 0 sessions correlated to this job fount in total.\r\n",
      "Deploying job rotting_CubeJ3000_k3_t1_classic_pardiso_NSE_c4_mue_0.001 ... \r\n",
      "Deploying executables and additional files ...\r\n",
      "Deployment directory: C:\\Users\\weber\\AppData\\Local\\BoSSS-LocalJobs\\rotCube+Inlet_test-XNSE_Solver2021Nov04_124402\r\n",
      "copied 49 files.\r\n",
      "   written file: control.obj\r\n",
      "deployment finished.\r\n",
      "Mini batch processor is already running.\r\n",
      "\r\n",
      "Note: found 1 successful deployment(s), but job is configured to require a successful result session ('this.SessionReqForSuccess' is true), and none is found. 0 sessions correlated to this job fount in total.\r\n",
      "Deploying job rotting_CubeJ3000_k3_t1_exp_Kcycle_schwarz_NSE_c4_mue_0.001 ... \r\n",
      "Deploying executables and additional files ...\r\n",
      "Deployment directory: C:\\Users\\weber\\AppData\\Local\\BoSSS-LocalJobs\\rotCube+Inlet_test-XNSE_Solver2021Nov04_124405\r\n",
      "copied 49 files.\r\n",
      "   written file: control.obj\r\n",
      "deployment finished.\r\n",
      "Mini batch processor is already running.\r\n",
      "\r\n"
     ]
    }
   ],
   "source": [
    "foreach(var ctrl in controls){\n",
    "    string sessname = ctrl.SessionName;\n",
    "    foreach(int cores in core_sweep){\n",
    "        ctrl.SessionName = sessname + \"_c\"+cores+\"_mue_\"+ctrl.PhysicalParameters.mu_A;\n",
    "        var aJob   = new Job(\"rotting_\"+Gshape+ctrl.SessionName,typeof(XNSE));\n",
    "        aJob.SetControlObject(ctrl);\n",
    "        aJob.NumberOfMPIProcs         = cores;\n",
    "        aJob.ExecutionTime            = \"3:00:00\";\n",
    "        aJob.UseComputeNodesExclusive = true;\n",
    "\n",
    "        aJob.Activate(myBatch);\n",
    "    }\n",
    "}"
   ]
  },
  {
   "cell_type": "code",
   "execution_count": null,
   "metadata": {
    "dotnet_interactive": {
     "language": "csharp"
    }
   },
   "outputs": [],
   "source": []
  }
 ],
 "metadata": {
  "kernelspec": {
   "display_name": ".NET (C#)",
   "language": "C#",
   "name": ".net-csharp"
  },
  "language_info": {
   "file_extension": ".cs",
   "mimetype": "text/x-csharp",
   "name": "C#",
   "pygments_lexer": "csharp",
   "version": "9.0"
  },
  "orig_nbformat": 2
 },
 "nbformat": 4,
 "nbformat_minor": 2
}
