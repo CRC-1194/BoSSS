{
 "metadata": {
  "kernelspec": {
   "display_name": ".NET (C#)",
   "language": "C#",
   "name": ".net-csharp"
  },
  "language_info": {
   "name": "C#"
  }
 },
 "cells": [
  {
   "cell_type": "code",
   "execution_count": null,
   "source": [
    "#r \"./../../../../../../public/src/L4-application/BoSSSpad/bin/Release/net5.0/BoSSSpad.dll\"\r\n",
    "using System;\r\n",
    "using ilPSP;\r\n",
    "using ilPSP.Utils;\r\n",
    "using BoSSS.Platform;\r\n",
    "using BoSSS.Foundation;\r\n",
    "using BoSSS.Foundation.XDG;\r\n",
    "using BoSSS.Foundation.Grid;\r\n",
    "using BoSSS.Solution;\r\n",
    "using BoSSS.Application.XNSE_Solver;\r\n",
    "using System.IO;\r\n",
    "using BoSSS.Foundation.IO;\r\n",
    "using ilPSP.Tracing;\r\n",
    "using BoSSS.Application.BoSSSpad;\r\n",
    "using BoSSS.Solution.Gnuplot;\r\n",
    "using BoSSS.Solution.AdvancedSolvers;\r\n",
    "\r\n",
    "using static BoSSS.Application.BoSSSpad.BoSSSshell;\r\n",
    "Init();"
   ],
   "outputs": [
    {
     "output_type": "stream",
     "name": "stdout",
     "text": [
      "Using gnuplot: B:\\BoSSS-BIN\\bin\\native\\win\\gnuplot-gp510-20160418-win32-mingw\\gnuplot\\bin\\gnuplot.exe\r\n",
      "ArgumentException caught while opening database #2 at 'H:\\weber': Database Error: field state directory (H:\\weber\\timesteps) does not exist.\r\n",
      "Databases loaded: \r\n",
      "Capacity: 4\r\n",
      "Count: 3\r\n",
      "\r\n"
     ]
    }
   ],
   "metadata": {
    "dotnet_interactive": {
     "language": "csharp"
    }
   }
  },
  {
   "cell_type": "code",
   "execution_count": null,
   "source": [
    "var DB = OpenOrCreateDatabase(@\"W:\\work\\scratch\\jw52xeqa\\DB_rotSphere_CoreScaling\"); DB.Sessions"
   ],
   "outputs": [
    {
     "output_type": "stream",
     "name": "stdout",
     "text": [
      "Opening existing database 'W:\\work\\scratch\\jw52xeqa\\DB_rotSphere_CoreScaling'.\r\n"
     ]
    },
    {
     "data": {
      "text/plain": [
       "#0: test\tJ12288_k4_t1_Stokes_c256_Re50_mue_1\t09/17/2021 21:41:54\t62134ce9...\r\n",
       "#1: test\tJ12288_k4_t1_Stokes_c128_Re50_mue_1\t09/17/2021 21:32:08\te01aa47e...\r\n",
       "#2: test\tJ12288_k4_t1_Stokes__c256_Re50_mue_1\t09/17/2021 15:44:44\te013f6c9...\r\n",
       "#3: test\tJ12288_k4_t1_Stokes__c128_Re50_mue_1\t09/17/2021 15:37:17\t2bf93297...\r\n",
       "#4: strong_scaling\tJ17496_k4_t1_Stokes__c8_Re50_mue_1\t09/16/2021 12:00:08\tc945104d...\r\n",
       "#5: test\tJ12288_k4_t1_Stokes__c256_Re50_mue_1\t09/16/2021 13:36:01\t332d16fc...\r\n",
       "#6: test\tJ12288_k4_t1_Stokes__c128_Re50_mue_1\t09/16/2021 13:33:54\tb8cd456b...\r\n",
       "#7: strong_scaling\tJ17496_k4_t1_Stokes__c64_Re50_mue_1\t09/16/2021 03:52:00\t96ef54d7...\r\n",
       "#8: strong_scaling\tJ65856_k2_t1_Stokes__c8_Re50_mue_1\t09/16/2021 03:36:22\t2fe968b3...\r\n",
       "#9: strong_scaling\tJ17496_k4_t1_Stokes__c256_Re50_mue_1\t09/16/2021 03:36:25\t20636b15...\r\n",
       "#10: strong_scaling\tJ17496_k4_t1_Stokes__c32_Re50_mue_1\t09/16/2021 02:54:38\t04d675c5...\r\n",
       "#11: strong_scaling\tJ31944_k3_t1_Stokes__c64_Re50_mue_1\t09/16/2021 03:48:46\t868162ce...\r\n",
       "#12: strong_scaling\tJ17496_k4_t1_Stokes__c128_Re50_mue_1\t09/16/2021 03:11:38\t356b79c5...\r\n",
       "#13: strong_scaling\tJ31944_k3_t1_Stokes__c256_Re50_mue_1\t09/16/2021 03:24:25\tebbaeb37...\r\n",
       "#14: strong_scaling\tJ17496_k4_t1_Stokes__c16_Re50_mue_1\t09/16/2021 02:35:54\t4529908a...\r\n",
       "#15: strong_scaling\tJ65856_k2_t1_Stokes__c256_Re50_mue_1\t09/16/2021 03:20:21\t65f287e1...\r\n",
       "#16: strong_scaling\tJ31944_k3_t1_Stokes__c128_Re50_mue_1\t09/16/2021 03:11:15\t90e424ed...\r\n",
       "#17: strong_scaling\tJ65856_k2_t1_Stokes__c128_Re50_mue_1\t09/16/2021 03:00:48\t4a01f831...\r\n",
       "#18: strong_scaling\tJ31944_k3_t1_Stokes__c32_Re50_mue_1\t09/16/2021 02:48:59\t889dd618...\r\n",
       "#19: strong_scaling\tJ65856_k2_t1_Stokes__c64_Re50_mue_1\t09/16/2021 02:56:34\t1d3f2982...\r\n",
       "#20: strong_scaling\tJ65856_k2_t1_Stokes__c32_Re50_mue_1\t09/16/2021 02:35:57\td55e3284...\r\n",
       "#21: strong_scaling\tJ31944_k3_t1_Stokes__c16_Re50_mue_1\t09/16/2021 02:07:57\t031c8f78...\r\n",
       "#22: strong_scaling\tJ31944_k3_t1_Stokes__c8_Re50_mue_1\t09/16/2021 01:30:00\t8e141e62...\r\n",
       "#23: strong_scaling\tJ65856_k2_t1_Stokes__c16_Re50_mue_1\t09/16/2021 01:49:29\te05c1a05...\r\n",
       "#24: rotSphere_benchmark_2\tJ17496_k3_t1_NSE__c16_Re50_mue_1__c16_Re50_mue_1\t09/14/2021 14:08:46\t8e067c09...\r\n",
       "#25: rotSphere_benchmark_2\tJ17496_k3_t1_NSE__c8_Re50_mue_1\t09/14/2021 10:56:12\teb672cea...\r\n",
       "#26: rotSphere_benchmark_2\tJ17496_k3_t1_NSE__c256_Re50_mue_1\t09/13/2021 23:53:34\tc22aa0c3...\r\n",
       "#27: rotSphere_benchmark_2\tJ17496_k3_t1_NSE__c128_Re50_mue_1\t09/13/2021 23:53:05\tcb6ffcd1...\r\n",
       "#28: rotSphere_benchmark_2\tJ17496_k3_t1_NSE__c32_Re50_mue_1\t09/13/2021 23:52:33\t44410896...\r\n",
       "#29: rotSphere_benchmark_2\tJ17496_k3_t1_NSE__c64_Re50_mue_1\t09/13/2021 23:53:02\tf678ed91...\r\n",
       "#30: rotSphere_benchmark\tJ17496_k3_t10_NSE__c64_Re50_mue_0.01\t09/13/2021 22:31:40\td2fb40c1...\r\n",
       "#31: rotSphere_benchmark\tJ17496_k3_t10_NSE__c64_Re50_mue_0.1\t09/13/2021 22:31:09\tea5b7a79...\r\n",
       "#32: rotSphere_benchmark\tJ17496_k3_t10_NSE__c256_Re50_mue_1\t09/13/2021 22:01:56\t4ba533cf...\r\n",
       "#33: rotSphere_benchmark\tJ17496_k3_t10_NSE__c64_Re50_mue_1\t09/13/2021 22:31:07\t5390613f...\r\n"
      ]
     },
     "metadata": {},
     "output_type": "display_data"
    }
   ],
   "metadata": {
    "dotnet_interactive": {
     "language": "csharp"
    }
   }
  },
  {
   "cell_type": "code",
   "execution_count": null,
   "source": [
    "DB.Sessions.Where(s=>Convert.ToInt32(s.KeysAndQueries[\"DGdegree:Velocity*\"])==3).Where(s=>s.ProjectName==\"strong_scaling\")"
   ],
   "outputs": [
    {
     "data": {
      "text/plain": [
       "#0: strong_scaling\tJ31944_k3_t1_Stokes__c64_Re50_mue_1\t09/16/2021 03:48:46\t868162ce...\r\n",
       "#1: strong_scaling\tJ31944_k3_t1_Stokes__c256_Re50_mue_1\t09/16/2021 03:24:25\tebbaeb37...\r\n",
       "#2: strong_scaling\tJ31944_k3_t1_Stokes__c128_Re50_mue_1\t09/16/2021 03:11:15\t90e424ed...\r\n",
       "#3: strong_scaling\tJ31944_k3_t1_Stokes__c32_Re50_mue_1\t09/16/2021 02:48:59\t889dd618...\r\n",
       "#4: strong_scaling\tJ31944_k3_t1_Stokes__c16_Re50_mue_1\t09/16/2021 02:07:57\t031c8f78...\r\n",
       "#5: strong_scaling\tJ31944_k3_t1_Stokes__c8_Re50_mue_1\t09/16/2021 01:30:00\t8e141e62...\r\n"
      ]
     },
     "metadata": {},
     "output_type": "display_data"
    }
   ],
   "metadata": {
    "dotnet_interactive": {
     "language": "csharp"
    }
   }
  },
  {
   "cell_type": "code",
   "execution_count": null,
   "source": [
    "var SomeSessions = DB.Sessions.Where(s=>s.ProjectName==\"test\").Pick(0,1,2,3);"
   ],
   "outputs": [],
   "metadata": {
    "dotnet_interactive": {
     "language": "csharp"
    }
   }
  },
  {
   "cell_type": "code",
   "execution_count": null,
   "source": [
    "static var PreComputeProfiling = new Dictionary<System.Guid,MethodCallRecord[]>();\r\n",
    "foreach(var sess in SomeSessions){\r\n",
    "    MethodCallRecord[] mcrs = null;\r\n",
    "    try{\r\n",
    "        mcrs = sess.GetProfiling();\r\n",
    "    } catch (Exception ex){\r\n",
    "        Console.WriteLine(\"Name:\"+sess.Name);\r\n",
    "        Console.WriteLine(ex.Message);\r\n",
    "    }\r\n",
    "    PreComputeProfiling.Add(sess.ID, mcrs);\r\n",
    "}"
   ],
   "outputs": [],
   "metadata": {
    "dotnet_interactive": {
     "language": "csharp"
    }
   }
  },
  {
   "cell_type": "code",
   "execution_count": null,
   "source": [],
   "outputs": [],
   "metadata": {
    "dotnet_interactive": {
     "language": "csharp"
    }
   }
  },
  {
   "cell_type": "code",
   "execution_count": null,
   "source": [
    "static class AddCols {\r\n",
    "    static public MethodCallRecord[] GetMCR(ISessionInfo SI){\r\n",
    "        MethodCallRecord[] mcrs = null;\r\n",
    "        PreComputeProfiling.TryGetValue(SI.ID,out mcrs);\r\n",
    "        return mcrs;\r\n",
    "    }\r\n",
    "    \r\n",
    "    static private double TimeOnProc(MethodCallRecord mcr, string method){\r\n",
    "        double time = 0;\r\n",
    "        foreach(var child in mcr.FindChildren(method)){\r\n",
    "            time += child.TimeSpentInMethod.TotalSeconds;\r\n",
    "            //time += child.TimeSpentInMPIBlocking.TotalSeconds;\r\n",
    "        }\r\n",
    "        /*\r\n",
    "        var child = mcr.FindChildren(method).Pick(0);\r\n",
    "        time = child.TimeExclusive.TotalSeconds;\r\n",
    "        */\r\n",
    "        /*\r\n",
    "        double time = -1;\r\n",
    "        foreach(var child in mcr.FindChildren(method)){\r\n",
    "            var childtime = child.TimeSpentInMethod.TotalSeconds;\r\n",
    "            //var childtime = child.TimeSpentInMPIBlocking.TotalSeconds;\r\n",
    "            time = childtime > time? childtime:time;\r\n",
    "        }\r\n",
    "        */\r\n",
    "        return time;\r\n",
    "    }\r\n",
    "    \r\n",
    "    static public double AverageTime(ISessionInfo SI,string method){\r\n",
    "        var mcrs       = GetMCR(SI);\r\n",
    "        double avtime = 0;\r\n",
    "\r\n",
    "        foreach(var mcr in mcrs){\r\n",
    "            avtime+=TimeOnProc(mcr,method);\r\n",
    "        }\r\n",
    "        avtime = avtime / mcrs.Count();\r\n",
    "        return avtime;\r\n",
    "    }\r\n",
    "\r\n",
    "    static public double MaxTime(ISessionInfo SI,string method){\r\n",
    "        var mcrs       = GetMCR(SI);\r\n",
    "        double maxtime = -1;\r\n",
    "\r\n",
    "        foreach(var mcr in mcrs){\r\n",
    "            double time =TimeOnProc(mcr,method);    \r\n",
    "            maxtime = time>maxtime?time:maxtime;\r\n",
    "        }\r\n",
    "        return maxtime;\r\n",
    "    }\r\n",
    "\r\n",
    "    static public object LSolverIter(ISessionInfo SI){\r\n",
    "        var mcr          = GetMCR(SI)[0];\r\n",
    "        string searchstr = \"BoSSS.Solution.AdvancedSolvers.DirectSolver.Solve\";\r\n",
    "        var ndS = mcr.FindChildren(searchstr);\r\n",
    "        var nd  = ndS.ElementAt(0);\r\n",
    "        return nd.CallCount;\r\n",
    "    }\r\n",
    "\r\n",
    "    static public object NoOfCores(ISessionInfo SI){\r\n",
    "        return SI.ComputeNodeNames.Count();\r\n",
    "    }\r\n",
    "\r\n",
    "    static public object NoOfNodes(ISessionInfo SI){\r\n",
    "        return SI.ComputeNodeNames.GroupBy(s=>s).Count();\r\n",
    "    }\r\n",
    "    \r\n",
    "    static public object MGDepth(ISessionInfo SI){\r\n",
    "        var mcr = GetMCR(SI)[0];\r\n",
    "        double NInit  = mcr.FindChildren(\"BoSSS.Solution.AdvancedSolvers.OrthonormalizationMultigrid.Init\").ToArray().Length;\r\n",
    "        return NInit + 1;\r\n",
    "    }\r\n",
    "}"
   ],
   "outputs": [],
   "metadata": {
    "dotnet_interactive": {
     "language": "csharp"
    }
   }
  },
  {
   "cell_type": "code",
   "execution_count": null,
   "source": [
    "//SomeSessions.Select(s=>AddCols.MGDepth(s))\r\n",
    "//SomeSessions.Pick(0).KeysAndQueries.Keys.Contains(\"DGdegree:Velocity*\")\r\n",
    "SomeSessions.Select(s=>AddCols.LSolverIter(s))"
   ],
   "outputs": [
    {
     "data": {
      "text/html": [
       "<table><thead><tr><th><i>index</i></th><th>value</th></tr></thead><tbody><tr><td>0</td><td><div class=\"dni-plaintext\">94</div></td></tr><tr><td>1</td><td><div class=\"dni-plaintext\">111</div></td></tr><tr><td>2</td><td><div class=\"dni-plaintext\">101</div></td></tr><tr><td>3</td><td><div class=\"dni-plaintext\">166</div></td></tr></tbody></table>"
      ]
     },
     "metadata": {},
     "output_type": "display_data"
    }
   ],
   "metadata": {
    "dotnet_interactive": {
     "language": "csharp"
    }
   }
  },
  {
   "cell_type": "code",
   "execution_count": null,
   "source": [
    "var Sess = SomeSessions.Pick(3);\r\n",
    "PreComputeProfiling.TryGetValue(Sess.ID,out MethodCallRecord[] mcrs);\r\n",
    "mcrs[0].FindChildren(\"Slv Iter\").Pick(0).TimeSpentInMethod.TotalSeconds"
   ],
   "outputs": [
    {
     "data": {
      "text/html": [
       "<div class=\"dni-plaintext\">3881.5934742</div>"
      ]
     },
     "metadata": {},
     "output_type": "display_data"
    }
   ],
   "metadata": {
    "dotnet_interactive": {
     "language": "csharp"
    }
   }
  },
  {
   "cell_type": "code",
   "execution_count": null,
   "source": [
    "string[] Functraces = new string[]{               \r\n",
    "   \"BoSSS.Solution.AdvancedSolvers.OrthonormalizationMultigrid.AddSol\",\r\n",
    "   //\"BoSSS.Solution.AdvancedSolvers.Schwarz.Solve\",\r\n",
    "   \"BoSSS.Solution.AdvancedSolvers.OrthonormalizationMultigrid.MinimizeResidual\",\r\n",
    "   \"BoSSS.Solution.AdvancedSolvers.OrthonormalizationMultigrid.Residual\",\r\n",
    "   //\"BoSSS.Solution.AdvancedSolvers.OrthonormalizationMultigrid.Solve\",\r\n",
    "   \"overlap_scaling\",\r\n",
    "   \"block_solve_level\",\r\n",
    "   \"caching\",\r\n",
    "   \"nocaching\",\r\n",
    "   \"BoSSS.Solution.AdvancedSolvers.OrthonormalizationMultigrid.VerivyCurrentResidual\",\r\n",
    "   \"Restriction\",\r\n",
    "   \"Prolongation\",\r\n",
    "   \"Slv Iter\"\r\n",
    "};"
   ],
   "outputs": [],
   "metadata": {
    "dotnet_interactive": {
     "language": "csharp"
    }
   }
  },
  {
   "cell_type": "code",
   "execution_count": null,
   "source": [
    "var SesTab = new System.Data.DataTable();\r\n",
    "var Col         = SesTab.Columns.Add(\"NoCores\", typeof(Int32));  \r\n",
    "Col.AllowDBNull = false;\r\n",
    "SesTab.Columns.Add(\"Iter\", typeof(Int32)); \r\n",
    "SesTab.Columns.Add(\"DGdegree\", typeof(Int32)); \r\n",
    "var ColDic = new Dictionary<string, string>();\r\n",
    "foreach(string Ftrace in Functraces){\r\n",
    "    string[] Schnipsel = Ftrace.Split('.');\r\n",
    "    int L = Schnipsel.Length;\r\n",
    "    string ColumnName = \"\";\r\n",
    "    if(L>1)\r\n",
    "        ColumnName = String.Concat(Schnipsel[L-2],'.',Schnipsel[L-1]);\r\n",
    "    else\r\n",
    "        ColumnName = Schnipsel.Last();\r\n",
    "    SesTab.Columns.Add(ColumnName,typeof(Double));\r\n",
    "    ColDic.Add(ColumnName,Ftrace);\r\n",
    "} SesTab.GetColumnNames()"
   ],
   "outputs": [
    {
     "data": {
      "text/html": [
       "<table><thead><tr><th><i>index</i></th><th>value</th></tr></thead><tbody><tr><td>0</td><td>NoCores</td></tr><tr><td>1</td><td>Iter</td></tr><tr><td>2</td><td>DGdegree</td></tr><tr><td>3</td><td>OrthonormalizationMultigrid.AddSol</td></tr><tr><td>4</td><td>OrthonormalizationMultigrid.MinimizeResidual</td></tr><tr><td>5</td><td>OrthonormalizationMultigrid.Residual</td></tr><tr><td>6</td><td>overlap_scaling</td></tr><tr><td>7</td><td>block_solve_level</td></tr><tr><td>8</td><td>caching</td></tr><tr><td>9</td><td>nocaching</td></tr><tr><td>10</td><td>OrthonormalizationMultigrid.VerivyCurrentResidual</td></tr><tr><td>11</td><td>Restriction</td></tr><tr><td>12</td><td>Prolongation</td></tr></tbody></table>"
      ]
     },
     "metadata": {},
     "output_type": "display_data"
    }
   ],
   "metadata": {
    "dotnet_interactive": {
     "language": "csharp"
    }
   }
  },
  {
   "cell_type": "code",
   "execution_count": null,
   "source": [
    "foreach(var sess in SomeSessions){\r\n",
    "    var newrow = SesTab.NewRow();\r\n",
    "    foreach(var col in SesTab.Columns){\r\n",
    "        string cName = (col as System.Data.DataColumn).ColumnName;\r\n",
    "        ColDic.TryGetValue(cName, out string Ftrace);\r\n",
    "        try{\r\n",
    "            newrow[cName]=AddCols.MaxTime(sess,Ftrace);\r\n",
    "        } catch (Exception ex){\r\n",
    "            //Die anderen Columns halt ...\r\n",
    "        } \r\n",
    "    }\r\n",
    "    newrow[\"NoCores\"] = Convert.ToInt32(AddCols.NoOfCores(sess));\r\n",
    "    newrow[\"Iter\"] = Convert.ToInt32(AddCols.LSolverIter(sess));\r\n",
    "    newrow[\"DGdegree\"] = Convert.ToInt32(sess.KeysAndQueries[\"DGdegree:Velocity*\"]);\r\n",
    "    SesTab.Rows.Add(newrow);\r\n",
    "} SesTab.Print()"
   ],
   "outputs": [
    {
     "output_type": "stream",
     "name": "stdout",
     "text": [
      "   NoCores Iter DGdegree OrthonormalizationMultigrid.AddSol OrthonormalizationMultigrid.MinimizeResidual OrthonormalizationMultigrid.Residual overlap_scaling    block_solve_level  caching     nocaching          OrthonormalizationMultigrid.VerivyCurrentResidual Restriction Prolongation \r\n",
      "0: 256     101  4        111.83079640000001                 1.4017963                                    1.8814951                            52.796351          91.0657015         26.8366062  63.775153100000004 1.247987                                          2.597951    3.6839224    \r\n",
      "1: 128     166  4        373.1045717                        2.0492171                                    6.491953100000001                    166.17911660000001 246.51698109999998 139.3346555 117.8705192        1.8634256                                         4.79662     16.9574195   "
     ]
    }
   ],
   "metadata": {
    "dotnet_interactive": {
     "language": "csharp"
    }
   }
  },
  {
   "cell_type": "code",
   "execution_count": null,
   "source": [
    "var theDict = new List<Tuple<string,DashTypes,LineColors>>();\r\n",
    "public static Tuple<string,DashTypes,LineColors>[] AofFormats;\r\n",
    "var dashes = new DashTypes[]{DashTypes.Dashed,DashTypes.DotDashed,DashTypes.DotDotDashed};\r\n",
    "var points= new PointTypes[]{PointTypes.OpenCircle,PointTypes.OpenCircle,PointTypes.OpenDiamond,PointTypes.OpenUpperTriangle};\r\n",
    "var colors = new LineColors[]{LineColors.Red, LineColors.Green, LineColors.Blue, LineColors.Magenta, LineColors.Yellow, LineColors.Black, LineColors.Orange, LineColors.Grey};\r\n",
    "\r\n",
    "int iSweep=0;\r\n",
    "foreach(string Name in SesTab.GetColumnNames()){\r\n",
    "    //if(Name!=\"OrthonormalizationMultigrid.MinimizeResidual\"&&Name!=\"overlap_scaling\")\r\n",
    "    //    continue;\r\n",
    "    if(Name==\"NoCores\"||Name==\"Iter\"||Name==\"DGdegree\")\r\n",
    "        continue;\r\n",
    "    int one=iSweep%(dashes.Length-1);\r\n",
    "    int two=iSweep/(dashes.Length-1);\r\n",
    "    theDict.Add(new Tuple<string,DashTypes,LineColors>(Name,dashes[one],colors[two]));\r\n",
    "    iSweep++;\r\n",
    "}\r\n",
    "AofFormats = theDict.ToArray()"
   ],
   "outputs": [
    {
     "data": {
      "text/html": [
       "<table><thead><tr><th><i>index</i></th><th>Item1</th><th>Item2</th><th>Item3</th></tr></thead><tbody><tr><td>0</td><td>OrthonormalizationMultigrid.AddSol</td><td><span>Dashed</span></td><td><span>Red</span></td></tr><tr><td>1</td><td>OrthonormalizationMultigrid.MinimizeResidual</td><td><span>DotDashed</span></td><td><span>Red</span></td></tr><tr><td>2</td><td>OrthonormalizationMultigrid.Residual</td><td><span>Dashed</span></td><td><span>Green</span></td></tr><tr><td>3</td><td>overlap_scaling</td><td><span>DotDashed</span></td><td><span>Green</span></td></tr><tr><td>4</td><td>block_solve_level</td><td><span>Dashed</span></td><td><span>Blue</span></td></tr><tr><td>5</td><td>caching</td><td><span>DotDashed</span></td><td><span>Blue</span></td></tr><tr><td>6</td><td>nocaching</td><td><span>Dashed</span></td><td><span>Magenta</span></td></tr><tr><td>7</td><td>OrthonormalizationMultigrid.VerivyCurrentResidual</td><td><span>DotDashed</span></td><td><span>Magenta</span></td></tr><tr><td>8</td><td>Restriction</td><td><span>Dashed</span></td><td><span>Yellow</span></td></tr><tr><td>9</td><td>Prolongation</td><td><span>DotDashed</span></td><td><span>Yellow</span></td></tr></tbody></table>"
      ]
     },
     "metadata": {},
     "output_type": "display_data"
    }
   ],
   "metadata": {
    "dotnet_interactive": {
     "language": "csharp"
    }
   }
  },
  {
   "cell_type": "code",
   "execution_count": null,
   "source": [
    "string thisdir = Directory.GetCurrentDirectory();\r\n",
    "SesTab.ToCSVFile(thisdir+@\"\\table.csv\"); thisdir"
   ],
   "outputs": [
    {
     "data": {
      "text/plain": [
       "b:\\BoSSS-smuda\\public\\doc\\handbook\\apdx-MPISolverPerformance\\strongScaling\\IBM_RotCube"
      ]
     },
     "metadata": {},
     "output_type": "display_data"
    }
   ],
   "metadata": {
    "dotnet_interactive": {
     "language": "csharp"
    }
   }
  },
  {
   "cell_type": "code",
   "execution_count": null,
   "source": [
    "public static class DoWhatUWant{\r\n",
    "    public static PlotRowSelectorEx Solver_DG_Proj(int DG){\r\n",
    "        return delegate (int iSweep, int iTabRow, \r\n",
    "                     IDictionary<string, object> Row, \r\n",
    "                     out string Nmn, \r\n",
    "                     out PlotFormat Fmt,\r\n",
    "                     out double xValue, out double yValue) { \r\n",
    "\r\n",
    "               int k  = Convert.ToInt32(Row[\"DGdegree\"]);\r\n",
    "\r\n",
    "               if(k != DG ) {\r\n",
    "                    // degree does not match -> not in this plot\r\n",
    "                    Nmn    = null;\r\n",
    "                    Fmt    = null;\r\n",
    "                    xValue = 0;\r\n",
    "                    yValue = 0;\r\n",
    "                    return;\r\n",
    "               } \r\n",
    "               \r\n",
    "               Fmt           = new PlotFormat();\r\n",
    "               Fmt.PointSize = 0.5;\r\n",
    "               Fmt.Style     = Styles.LinesPoints;\r\n",
    "               Fmt.LineWidth = 3;\r\n",
    "\r\n",
    "               Nmn = AofFormats[iSweep].Item1;\r\n",
    "               Fmt.DashType = AofFormats[iSweep].Item2;\r\n",
    "               Fmt.LineColor = AofFormats[iSweep].Item3;\r\n",
    "               double iter = Convert.ToDouble(Row[\"Iter\"]);\r\n",
    "               yValue = Convert.ToDouble(Row[Nmn])/iter;\r\n",
    "               xValue    = Convert.ToDouble(Row[\"NoCores\"]);\r\n",
    "               \r\n",
    "           };\r\n",
    "    }\r\n",
    "\r\n",
    "    public static PlotRowSelectorEx Solver_DG_Proj(){\r\n",
    "        return delegate (int iSweep, int iTabRow, \r\n",
    "                     IDictionary<string, object> Row, \r\n",
    "                     out string Nmn, \r\n",
    "                     out PlotFormat Fmt,\r\n",
    "                     out double xValue, out double yValue) { \r\n",
    "\r\n",
    "               int k           = Convert.ToInt32(Row[\"DGdegree\"]);\r\n",
    "               \r\n",
    "               Fmt           = new PlotFormat();\r\n",
    "               Fmt.PointSize = 0.5;\r\n",
    "               Fmt.Style     = Styles.LinesPoints;\r\n",
    "               Fmt.LineWidth = 3;\r\n",
    "               \r\n",
    "               switch(k){\r\n",
    "                case 2:\r\n",
    "                    Nmn=\"k2\";\r\n",
    "                    Fmt.LineColor = LineColors.Red;\r\n",
    "                    break;\r\n",
    "                case 3:\r\n",
    "                    Nmn=\"k3\";\r\n",
    "                    Fmt.LineColor = LineColors.Orange;\r\n",
    "                    break;\r\n",
    "                case 4:\r\n",
    "                    Nmn=\"k4\";\r\n",
    "                    Fmt.LineColor = LineColors.Blue;\r\n",
    "                    break;\r\n",
    "                default:\r\n",
    "                    throw new Exception(\"vergiss es\");\r\n",
    "                }\r\n",
    "                double time = Convert.ToDouble(Row[\"Slv Iter\"]);\r\n",
    "                double iter = Convert.ToDouble(Row[\"Iter\"]);\r\n",
    "                //yValue = time/iter;\r\n",
    "                yValue=Convert.ToDouble(Row[\"Iter\"]);\r\n",
    "                xValue    = Convert.ToDouble(Row[\"NoCores\"]);\r\n",
    "           };\r\n",
    "    }\r\n",
    "\r\n",
    "}\r\n",
    "    "
   ],
   "outputs": [],
   "metadata": {
    "dotnet_interactive": {
     "language": "csharp"
    }
   }
  },
  {
   "cell_type": "code",
   "execution_count": null,
   "source": [
    "int k = 4;\r\n",
    "int xMin = 4;\r\n",
    "int xMax = 512;"
   ],
   "outputs": [],
   "metadata": {
    "dotnet_interactive": {
     "language": "csharp"
    }
   }
  },
  {
   "cell_type": "code",
   "execution_count": null,
   "source": [],
   "outputs": [],
   "metadata": {
    "dotnet_interactive": {
     "language": "csharp"
    }
   }
  },
  {
   "cell_type": "code",
   "execution_count": null,
   "source": [
    "Plot2Ddata[,] multiplots = new Plot2Ddata[1,1];\r\n",
    "multiplots[0,0] = SesTab.ToPlot(DoWhatUWant.Solver_DG_Proj(k),AofFormats.Length);\r\n",
    "multiplots[0,0].LogX = true;\r\n",
    "multiplots[0,0].LogY = true;\r\n",
    "multiplots[0,0].tmargin = 0;\r\n",
    "multiplots[0,0].bmargin = 5;\r\n",
    "multiplots[0,0].XrangeMin=xMin;\r\n",
    "multiplots[0,0].XrangeMax=xMax;\r\n",
    "multiplots[0,0].Ylabel = \"wallclock time\";\r\n",
    "multiplots[0,0].Xlabel = \"cores\";\r\n",
    "multiplots[0,0].LegendAlignment=new string[]{\"i\",\"b\",\"r\"};\r\n",
    "multiplots.PlotNow()"
   ],
   "outputs": [
    {
     "output_type": "stream",
     "name": "stdout",
     "text": [
      "Using gnuplot: B:\\BoSSS-BIN\\bin\\native\\win\\gnuplot-gp510-20160418-win32-mingw\\gnuplot\\bin\\gnuplot.exe\r\n",
      "set key font \",16\"inside bottom right Left reverse \r\n"
     ]
    },
    {
     "data": {
      "text/html": [
       "<?xml version=\"1.0\" encoding=\"utf-8\"  standalone=\"no\"?>\n",
       "<!DOCTYPE svg PUBLIC \"-//W3C//DTD SVG 1.1//EN\"\n",
       " \"http://www.w3.org/Graphics/SVG/1.1/DTD/svg11.dtd\">\n",
       "<svg \n",
       " width=\"1024\" height=\"768\"\n",
       " viewBox=\"0 0 1024 768\"\n",
       " xmlns=\"http://www.w3.org/2000/svg\"\n",
       " xmlns:xlink=\"http://www.w3.org/1999/xlink\"\n",
       ">\n",
       "\n",
       "<title>Gnuplot</title>\n",
       "<desc>Produced by GNUPLOT 5.1 patchlevel 0 </desc>\n",
       "\n",
       "<g id=\"gnuplot_canvas\">\n",
       "\n",
       "<rect x=\"0\" y=\"0\" width=\"1024\" height=\"768\" fill=\"#ffffff\"/>\n",
       "<defs>\n",
       "\n",
       "\t<circle id='gpDot' r='0.5' stroke-width='0.5'/>\n",
       "\t<path id='gpPt0' stroke-width='0.222' stroke='currentColor' d='M-1,0 h2 M0,-1 v2'/>\n",
       "\t<path id='gpPt1' stroke-width='0.222' stroke='currentColor' d='M-1,-1 L1,1 M1,-1 L-1,1'/>\n",
       "\t<path id='gpPt2' stroke-width='0.222' stroke='currentColor' d='M-1,0 L1,0 M0,-1 L0,1 M-1,-1 L1,1 M-1,1 L1,-1'/>\n",
       "\t<rect id='gpPt3' stroke-width='0.222' stroke='currentColor' x='-1' y='-1' width='2' height='2'/>\n",
       "\t<rect id='gpPt4' stroke-width='0.222' stroke='currentColor' fill='currentColor' x='-1' y='-1' width='2' height='2'/>\n",
       "\t<circle id='gpPt5' stroke-width='0.222' stroke='currentColor' cx='0' cy='0' r='1'/>\n",
       "\t<use xlink:href='#gpPt5' id='gpPt6' fill='currentColor' stroke='none'/>\n",
       "\t<path id='gpPt7' stroke-width='0.222' stroke='currentColor' d='M0,-1.33 L-1.33,0.67 L1.33,0.67 z'/>\n",
       "\t<use xlink:href='#gpPt7' id='gpPt8' fill='currentColor' stroke='none'/>\n",
       "\t<use xlink:href='#gpPt7' id='gpPt9' stroke='currentColor' transform='rotate(180)'/>\n",
       "\t<use xlink:href='#gpPt9' id='gpPt10' fill='currentColor' stroke='none'/>\n",
       "\t<use xlink:href='#gpPt3' id='gpPt11' stroke='currentColor' transform='rotate(45)'/>\n",
       "\t<use xlink:href='#gpPt11' id='gpPt12' fill='currentColor' stroke='none'/>\n",
       "\t<path id='gpPt13' stroke-width='0.222' stroke='currentColor' d='M0,1.330 L1.265,0.411 L0.782,-1.067 L-0.782,-1.076 L-1.265,0.411 z'/>\n",
       "\t<use xlink:href='#gpPt13' id='gpPt14' fill='currentColor' stroke='none'/>\n",
       "\t<filter id='textbox' filterUnits='objectBoundingBox' x='0' y='0' height='1' width='1'>\n",
       "\t  <feFlood flood-color='#FFFFFF' flood-opacity='1' result='bgnd'/>\n",
       "\t  <feComposite in='SourceGraphic' in2='bgnd' operator='atop'/>\n",
       "\t</filter>\n",
       "\t<filter id='greybox' filterUnits='objectBoundingBox' x='0' y='0' height='1' width='1'>\n",
       "\t  <feFlood flood-color='lightgrey' flood-opacity='1' result='grey'/>\n",
       "\t  <feComposite in='SourceGraphic' in2='grey' operator='atop'/>\n",
       "\t</filter>\n",
       "</defs>\n",
       "<g fill=\"none\" color=\"#FFFFFF\" stroke=\"currentColor\" stroke-width=\"1.00\" stroke-linecap=\"butt\" stroke-linejoin=\"miter\">\n",
       "</g>\n",
       "<g fill=\"none\" color=\"black\" stroke=\"currentColor\" stroke-width=\"1.00\" stroke-linecap=\"butt\" stroke-linejoin=\"miter\">\n",
       "\t<path stroke='black'  d='M90.4,670.4 L99.4,670.4 M963.8,670.4 L954.8,670.4  '/>\t<g transform=\"translate(82.1,676.4)\" stroke=\"none\" fill=\"black\" font-family=\"sans\" font-size=\"16.00\"  text-anchor=\"end\">\n",
       "\t\t<text><tspan font-family=\"sans\" >$10</tspan><tspan font-family=\"sans\"  font-size=\"12.8\" dy=\"-8.00px\">-2</tspan><tspan font-family=\"sans\"  font-size=\"16.0\" dy=\"8.00px\">$</tspan></text>\n",
       "\t</g>\n",
       "</g>\n",
       "<g fill=\"none\" color=\"black\" stroke=\"currentColor\" stroke-width=\"1.00\" stroke-linecap=\"butt\" stroke-linejoin=\"miter\">\n",
       "\t<path stroke='black'  d='M90.4,603.9 L94.9,603.9 M963.8,603.9 L959.3,603.9 M90.4,565.0 L94.9,565.0 M963.8,565.0 L959.3,565.0\n",
       "\t\tM90.4,537.4 L94.9,537.4 M963.8,537.4 L959.3,537.4 M90.4,516.0 L94.9,516.0 M963.8,516.0 L959.3,516.0\n",
       "\t\tM90.4,498.5 L94.9,498.5 M963.8,498.5 L959.3,498.5 M90.4,483.7 L94.9,483.7 M963.8,483.7 L959.3,483.7\n",
       "\t\tM90.4,470.9 L94.9,470.9 M963.8,470.9 L959.3,470.9 M90.4,459.6 L94.9,459.6 M963.8,459.6 L959.3,459.6\n",
       "\t\tM90.4,449.5 L99.4,449.5 M963.8,449.5 L954.8,449.5  '/>\t<g transform=\"translate(82.1,455.5)\" stroke=\"none\" fill=\"black\" font-family=\"sans\" font-size=\"16.00\"  text-anchor=\"end\">\n",
       "\t\t<text><tspan font-family=\"sans\" >$10</tspan><tspan font-family=\"sans\"  font-size=\"12.8\" dy=\"-8.00px\">-1</tspan><tspan font-family=\"sans\"  font-size=\"16.0\" dy=\"8.00px\">$</tspan></text>\n",
       "\t</g>\n",
       "</g>\n",
       "<g fill=\"none\" color=\"black\" stroke=\"currentColor\" stroke-width=\"1.00\" stroke-linecap=\"butt\" stroke-linejoin=\"miter\">\n",
       "\t<path stroke='black'  d='M90.4,383.0 L94.9,383.0 M963.8,383.0 L959.3,383.0 M90.4,344.2 L94.9,344.2 M963.8,344.2 L959.3,344.2\n",
       "\t\tM90.4,316.6 L94.9,316.6 M963.8,316.6 L959.3,316.6 M90.4,295.2 L94.9,295.2 M963.8,295.2 L959.3,295.2\n",
       "\t\tM90.4,277.7 L94.9,277.7 M963.8,277.7 L959.3,277.7 M90.4,262.9 L94.9,262.9 M963.8,262.9 L959.3,262.9\n",
       "\t\tM90.4,250.1 L94.9,250.1 M963.8,250.1 L959.3,250.1 M90.4,238.8 L94.9,238.8 M963.8,238.8 L959.3,238.8\n",
       "\t\tM90.4,228.7 L99.4,228.7 M963.8,228.7 L954.8,228.7  '/>\t<g transform=\"translate(82.1,234.7)\" stroke=\"none\" fill=\"black\" font-family=\"sans\" font-size=\"16.00\"  text-anchor=\"end\">\n",
       "\t\t<text><tspan font-family=\"sans\" >$10</tspan><tspan font-family=\"sans\"  font-size=\"12.8\" dy=\"-8.00px\">0</tspan><tspan font-family=\"sans\"  font-size=\"16.0\" dy=\"8.00px\">$</tspan></text>\n",
       "\t</g>\n",
       "</g>\n",
       "<g fill=\"none\" color=\"black\" stroke=\"currentColor\" stroke-width=\"1.00\" stroke-linecap=\"butt\" stroke-linejoin=\"miter\">\n",
       "\t<path stroke='black'  d='M90.4,162.2 L94.9,162.2 M963.8,162.2 L959.3,162.2 M90.4,123.3 L94.9,123.3 M963.8,123.3 L959.3,123.3\n",
       "\t\tM90.4,95.7 L94.9,95.7 M963.8,95.7 L959.3,95.7 M90.4,74.3 L94.9,74.3 M963.8,74.3 L959.3,74.3\n",
       "\t\tM90.4,56.8 L94.9,56.8 M963.8,56.8 L959.3,56.8 M90.4,42.0 L94.9,42.0 M963.8,42.0 L959.3,42.0\n",
       "\t\tM90.4,29.2 L94.9,29.2 M963.8,29.2 L959.3,29.2 M90.4,17.9 L94.9,17.9 M963.8,17.9 L959.3,17.9\n",
       "\t\tM90.4,7.8 L99.4,7.8 M963.8,7.8 L954.8,7.8  '/>\t<g transform=\"translate(82.1,13.8)\" stroke=\"none\" fill=\"black\" font-family=\"sans\" font-size=\"16.00\"  text-anchor=\"end\">\n",
       "\t\t<text><tspan font-family=\"sans\" >$10</tspan><tspan font-family=\"sans\"  font-size=\"12.8\" dy=\"-8.00px\">1</tspan><tspan font-family=\"sans\"  font-size=\"16.0\" dy=\"8.00px\">$</tspan></text>\n",
       "\t</g>\n",
       "</g>\n",
       "<g fill=\"none\" color=\"black\" stroke=\"currentColor\" stroke-width=\"1.00\" stroke-linecap=\"butt\" stroke-linejoin=\"miter\">\n",
       "\t<path stroke='black'  d='M90.4,670.4 L90.4,665.9 M90.4,7.8 L90.4,12.3 M130.6,670.4 L130.6,665.9 M130.6,7.8 L130.6,12.3\n",
       "\t\tM163.4,670.4 L163.4,665.9 M163.4,7.8 L163.4,12.3 M191.1,670.4 L191.1,665.9 M191.1,7.8 L191.1,12.3\n",
       "\t\tM215.2,670.4 L215.2,665.9 M215.2,7.8 L215.2,12.3 M236.4,670.4 L236.4,665.9 M236.4,7.8 L236.4,12.3\n",
       "\t\tM255.3,670.4 L255.3,661.4 M255.3,7.8 L255.3,16.8  '/>\t<g transform=\"translate(255.3,701.6)\" stroke=\"none\" fill=\"black\" font-family=\"sans\" font-size=\"16.00\"  text-anchor=\"middle\">\n",
       "\t\t<text><tspan font-family=\"sans\" >$10</tspan><tspan font-family=\"sans\"  font-size=\"12.8\" dy=\"-8.00px\">1</tspan><tspan font-family=\"sans\"  font-size=\"16.0\" dy=\"8.00px\">$</tspan></text>\n",
       "\t</g>\n",
       "</g>\n",
       "<g fill=\"none\" color=\"black\" stroke=\"currentColor\" stroke-width=\"1.00\" stroke-linecap=\"butt\" stroke-linejoin=\"miter\">\n",
       "\t<path stroke='black'  d='M380.1,670.4 L380.1,665.9 M380.1,7.8 L380.1,12.3 M453.1,670.4 L453.1,665.9 M453.1,7.8 L453.1,12.3\n",
       "\t\tM504.9,670.4 L504.9,665.9 M504.9,7.8 L504.9,12.3 M545.0,670.4 L545.0,665.9 M545.0,7.8 L545.0,12.3\n",
       "\t\tM577.9,670.4 L577.9,665.9 M577.9,7.8 L577.9,12.3 M605.6,670.4 L605.6,665.9 M605.6,7.8 L605.6,12.3\n",
       "\t\tM629.7,670.4 L629.7,665.9 M629.7,7.8 L629.7,12.3 M650.9,670.4 L650.9,665.9 M650.9,7.8 L650.9,12.3\n",
       "\t\tM669.8,670.4 L669.8,661.4 M669.8,7.8 L669.8,16.8  '/>\t<g transform=\"translate(669.8,701.6)\" stroke=\"none\" fill=\"black\" font-family=\"sans\" font-size=\"16.00\"  text-anchor=\"middle\">\n",
       "\t\t<text><tspan font-family=\"sans\" >$10</tspan><tspan font-family=\"sans\"  font-size=\"12.8\" dy=\"-8.00px\">2</tspan><tspan font-family=\"sans\"  font-size=\"16.0\" dy=\"8.00px\">$</tspan></text>\n",
       "\t</g>\n",
       "</g>\n",
       "<g fill=\"none\" color=\"black\" stroke=\"currentColor\" stroke-width=\"1.00\" stroke-linecap=\"butt\" stroke-linejoin=\"miter\">\n",
       "\t<path stroke='black'  d='M794.6,670.4 L794.6,665.9 M794.6,7.8 L794.6,12.3 M867.6,670.4 L867.6,665.9 M867.6,7.8 L867.6,12.3\n",
       "\t\tM919.4,670.4 L919.4,665.9 M919.4,7.8 L919.4,12.3 M959.5,670.4 L959.5,665.9 M959.5,7.8 L959.5,12.3\n",
       "\t\tM963.8,670.4 L954.8,670.4  '/>\t<g transform=\"translate(972.1,674.9)\" stroke=\"none\" fill=\"black\" font-family=\"Arial\" font-size=\"12.00\"  text-anchor=\"start\">\n",
       "\t\t<text><tspan font-family=\"Arial\" > </tspan></text>\n",
       "\t</g>\n",
       "</g>\n",
       "<g fill=\"none\" color=\"black\" stroke=\"currentColor\" stroke-width=\"1.00\" stroke-linecap=\"butt\" stroke-linejoin=\"miter\">\n",
       "\t<path stroke='black'  d='M963.8,537.9 L954.8,537.9  '/>\t<g transform=\"translate(972.1,542.4)\" stroke=\"none\" fill=\"black\" font-family=\"Arial\" font-size=\"12.00\"  text-anchor=\"start\">\n",
       "\t\t<text><tspan font-family=\"Arial\" > </tspan></text>\n",
       "\t</g>\n",
       "</g>\n",
       "<g fill=\"none\" color=\"black\" stroke=\"currentColor\" stroke-width=\"1.00\" stroke-linecap=\"butt\" stroke-linejoin=\"miter\">\n",
       "\t<path stroke='black'  d='M963.8,405.4 L954.8,405.4  '/>\t<g transform=\"translate(972.1,409.9)\" stroke=\"none\" fill=\"black\" font-family=\"Arial\" font-size=\"12.00\"  text-anchor=\"start\">\n",
       "\t\t<text><tspan font-family=\"Arial\" > </tspan></text>\n",
       "\t</g>\n",
       "</g>\n",
       "<g fill=\"none\" color=\"black\" stroke=\"currentColor\" stroke-width=\"1.00\" stroke-linecap=\"butt\" stroke-linejoin=\"miter\">\n",
       "\t<path stroke='black'  d='M963.8,272.8 L954.8,272.8  '/>\t<g transform=\"translate(972.1,277.3)\" stroke=\"none\" fill=\"black\" font-family=\"Arial\" font-size=\"12.00\"  text-anchor=\"start\">\n",
       "\t\t<text><tspan font-family=\"Arial\" > </tspan></text>\n",
       "\t</g>\n",
       "</g>\n",
       "<g fill=\"none\" color=\"black\" stroke=\"currentColor\" stroke-width=\"1.00\" stroke-linecap=\"butt\" stroke-linejoin=\"miter\">\n",
       "\t<path stroke='black'  d='M963.8,140.3 L954.8,140.3  '/>\t<g transform=\"translate(972.1,144.8)\" stroke=\"none\" fill=\"black\" font-family=\"Arial\" font-size=\"12.00\"  text-anchor=\"start\">\n",
       "\t\t<text><tspan font-family=\"Arial\" > </tspan></text>\n",
       "\t</g>\n",
       "</g>\n",
       "<g fill=\"none\" color=\"black\" stroke=\"currentColor\" stroke-width=\"1.00\" stroke-linecap=\"butt\" stroke-linejoin=\"miter\">\n",
       "\t<path stroke='black'  d='M963.8,7.8 L954.8,7.8  '/>\t<g transform=\"translate(972.1,12.3)\" stroke=\"none\" fill=\"black\" font-family=\"Arial\" font-size=\"12.00\"  text-anchor=\"start\">\n",
       "\t\t<text><tspan font-family=\"Arial\" > </tspan></text>\n",
       "\t</g>\n",
       "</g>\n",
       "<g fill=\"none\" color=\"black\" stroke=\"currentColor\" stroke-width=\"1.00\" stroke-linecap=\"butt\" stroke-linejoin=\"miter\">\n",
       "\t<path stroke='black'  d='M90.4,7.8 L90.4,16.8  '/></g>\n",
       "<g fill=\"none\" color=\"black\" stroke=\"currentColor\" stroke-width=\"1.00\" stroke-linecap=\"butt\" stroke-linejoin=\"miter\">\n",
       "\t<path stroke='black'  d='M265.1,7.8 L265.1,16.8  '/></g>\n",
       "<g fill=\"none\" color=\"black\" stroke=\"currentColor\" stroke-width=\"1.00\" stroke-linecap=\"butt\" stroke-linejoin=\"miter\">\n",
       "\t<path stroke='black'  d='M439.8,7.8 L439.8,16.8  '/></g>\n",
       "<g fill=\"none\" color=\"black\" stroke=\"currentColor\" stroke-width=\"1.00\" stroke-linecap=\"butt\" stroke-linejoin=\"miter\">\n",
       "\t<path stroke='black'  d='M614.4,7.8 L614.4,16.8  '/></g>\n",
       "<g fill=\"none\" color=\"black\" stroke=\"currentColor\" stroke-width=\"1.00\" stroke-linecap=\"butt\" stroke-linejoin=\"miter\">\n",
       "\t<path stroke='black'  d='M789.1,7.8 L789.1,16.8  '/></g>\n",
       "<g fill=\"none\" color=\"black\" stroke=\"currentColor\" stroke-width=\"1.00\" stroke-linecap=\"butt\" stroke-linejoin=\"miter\">\n",
       "\t<path stroke='black'  d='M963.8,7.8 L963.8,16.8  '/></g>\n",
       "<g fill=\"none\" color=\"black\" stroke=\"currentColor\" stroke-width=\"1.00\" stroke-linecap=\"butt\" stroke-linejoin=\"miter\">\n",
       "</g>\n",
       "<g fill=\"none\" color=\"black\" stroke=\"currentColor\" stroke-width=\"1.00\" stroke-linecap=\"butt\" stroke-linejoin=\"miter\">\n",
       "\t<path stroke='black'  d='M90.4,7.8 L90.4,670.4 L963.8,670.4 L963.8,7.8 L90.4,7.8 Z  '/></g>\n",
       "<g fill=\"none\" color=\"black\" stroke=\"currentColor\" stroke-width=\"1.00\" stroke-linecap=\"butt\" stroke-linejoin=\"miter\">\n",
       "\t<g transform=\"translate(27.8,339.1) rotate(270)\" stroke=\"none\" fill=\"black\" font-family=\"Arial\" font-size=\"12.00\"  text-anchor=\"middle\">\n",
       "\t\t<text><tspan font-family=\"Arial\" >wallclock time</tspan></text>\n",
       "\t</g>\n",
       "</g>\n",
       "<g fill=\"none\" color=\"black\" stroke=\"currentColor\" stroke-width=\"1.00\" stroke-linecap=\"butt\" stroke-linejoin=\"miter\">\n",
       "\t<g transform=\"translate(527.1,719.9)\" stroke=\"none\" fill=\"black\" font-family=\"Arial\" font-size=\"12.00\"  text-anchor=\"middle\">\n",
       "\t\t<text><tspan font-family=\"Arial\" >cores</tspan></text>\n",
       "\t</g>\n",
       "</g>\n",
       "<g fill=\"none\" color=\"black\" stroke=\"currentColor\" stroke-width=\"1.00\" stroke-linecap=\"butt\" stroke-linejoin=\"miter\">\n",
       "</g>\n",
       "\t<g id=\"gnuplot_plot_1a\" ><title>OrthonormalizationMultigrid.AddSol</title>\n",
       "<g fill=\"none\" color=\"#FFFFFF\" stroke=\"currentColor\" stroke-width=\"3.00\" stroke-linecap=\"butt\" stroke-linejoin=\"miter\">\n",
       "</g>\n",
       "<g fill=\"none\" color=\"black\" stroke=\"currentColor\" stroke-width=\"3.00\" stroke-linecap=\"butt\" stroke-linejoin=\"miter\">\n",
       "\t<g transform=\"translate(411.6,439.4)\" stroke=\"none\" fill=\"black\" font-family=\"Arial\" font-size=\"16.00\"  text-anchor=\"start\">\n",
       "\t\t<text><tspan font-family=\"Arial\" >OrthonormalizationMultigrid.AddSol</tspan></text>\n",
       "\t</g>\n",
       "</g>\n",
       "<g fill=\"none\" color=\"black\" stroke=\"currentColor\" stroke-width=\"3.00\" stroke-linecap=\"butt\" stroke-linejoin=\"miter\">\n",
       "\t<path stroke='rgb(255,   0,   0)' stroke-dasharray='7.5,12.0'  d='M347.1,433.4 L400.5,433.4 M714.3,151.0 L839.0,218.9  '/>\t<use xlink:href='#gpPt5' transform='translate(714.3,151.0) scale(2.25)' color='rgb(255,   0,   0)'/>\n",
       "\t<use xlink:href='#gpPt5' transform='translate(839.0,218.9) scale(2.25)' color='rgb(255,   0,   0)'/>\n",
       "\t<use xlink:href='#gpPt5' transform='translate(373.8,433.4) scale(2.25)' color='rgb(255,   0,   0)'/>\n",
       "</g>\n",
       "\t</g>\n",
       "\t<g id=\"gnuplot_plot_2a\" ><title>OrthonormalizationMultigrid.MinimizeResidual</title>\n",
       "<g fill=\"none\" color=\"black\" stroke=\"currentColor\" stroke-width=\"3.00\" stroke-linecap=\"butt\" stroke-linejoin=\"miter\">\n",
       "\t<g transform=\"translate(411.6,463.4)\" stroke=\"none\" fill=\"black\" font-family=\"Arial\" font-size=\"16.00\"  text-anchor=\"start\">\n",
       "\t\t<text><tspan font-family=\"Arial\" >OrthonormalizationMultigrid.MinimizeResidual</tspan></text>\n",
       "\t</g>\n",
       "</g>\n",
       "<g fill=\"none\" color=\"black\" stroke=\"currentColor\" stroke-width=\"3.00\" stroke-linecap=\"butt\" stroke-linejoin=\"miter\">\n",
       "\t<path stroke='rgb(255,   0,   0)' stroke-dasharray='12.0,6.0,3.0,6.0'  d='M347.1,457.4 L400.5,457.4 M714.3,650.2 L839.0,639.0  '/>\t<use xlink:href='#gpPt5' transform='translate(714.3,650.2) scale(2.25)' color='rgb(255,   0,   0)'/>\n",
       "\t<use xlink:href='#gpPt5' transform='translate(839.0,639.0) scale(2.25)' color='rgb(255,   0,   0)'/>\n",
       "\t<use xlink:href='#gpPt5' transform='translate(373.8,457.4) scale(2.25)' color='rgb(255,   0,   0)'/>\n",
       "</g>\n",
       "\t</g>\n",
       "\t<g id=\"gnuplot_plot_3a\" ><title>OrthonormalizationMultigrid.Residual</title>\n",
       "<g fill=\"none\" color=\"black\" stroke=\"currentColor\" stroke-width=\"3.00\" stroke-linecap=\"butt\" stroke-linejoin=\"miter\">\n",
       "\t<g transform=\"translate(411.6,487.4)\" stroke=\"none\" fill=\"black\" font-family=\"Arial\" font-size=\"16.00\"  text-anchor=\"start\">\n",
       "\t\t<text><tspan font-family=\"Arial\" >OrthonormalizationMultigrid.Residual</tspan></text>\n",
       "\t</g>\n",
       "</g>\n",
       "<g fill=\"none\" color=\"black\" stroke=\"currentColor\" stroke-width=\"3.00\" stroke-linecap=\"butt\" stroke-linejoin=\"miter\">\n",
       "\t<path stroke='rgb(  0, 255,   0)' stroke-dasharray='7.5,12.0'  d='M347.1,481.4 L400.5,481.4 M714.3,539.6 L839.0,610.7  '/>\t<use xlink:href='#gpPt5' transform='translate(714.3,539.6) scale(2.25)' color='rgb(  0, 255,   0)'/>\n",
       "\t<use xlink:href='#gpPt5' transform='translate(839.0,610.7) scale(2.25)' color='rgb(  0, 255,   0)'/>\n",
       "\t<use xlink:href='#gpPt5' transform='translate(373.8,481.4) scale(2.25)' color='rgb(  0, 255,   0)'/>\n",
       "</g>\n",
       "\t</g>\n",
       "\t<g id=\"gnuplot_plot_4a\" ><title>overlapscaling</title>\n",
       "<g fill=\"none\" color=\"black\" stroke=\"currentColor\" stroke-width=\"3.00\" stroke-linecap=\"butt\" stroke-linejoin=\"miter\">\n",
       "\t<g transform=\"translate(411.6,511.4)\" stroke=\"none\" fill=\"black\" font-family=\"Arial\" font-size=\"16.00\"  text-anchor=\"start\">\n",
       "\t\t<text><tspan font-family=\"Arial\" >overlap</tspan><tspan font-family=\"Arial\"  font-size=\"12.8\" dy=\"4.80px\">s</tspan><tspan font-family=\"Arial\"  font-size=\"16.0\" dy=\"-4.80px\">caling</tspan></text>\n",
       "\t</g>\n",
       "</g>\n",
       "<g fill=\"none\" color=\"black\" stroke=\"currentColor\" stroke-width=\"3.00\" stroke-linecap=\"butt\" stroke-linejoin=\"miter\">\n",
       "\t<path stroke='rgb(  0, 255,   0)' stroke-dasharray='12.0,6.0,3.0,6.0'  d='M347.1,505.4 L400.5,505.4 M714.3,228.6 L839.0,290.9  '/>\t<use xlink:href='#gpPt5' transform='translate(714.3,228.6) scale(2.25)' color='rgb(  0, 255,   0)'/>\n",
       "\t<use xlink:href='#gpPt5' transform='translate(839.0,290.9) scale(2.25)' color='rgb(  0, 255,   0)'/>\n",
       "\t<use xlink:href='#gpPt5' transform='translate(373.8,505.4) scale(2.25)' color='rgb(  0, 255,   0)'/>\n",
       "</g>\n",
       "\t</g>\n",
       "\t<g id=\"gnuplot_plot_5a\" ><title>blocksolvelevel</title>\n",
       "<g fill=\"none\" color=\"black\" stroke=\"currentColor\" stroke-width=\"3.00\" stroke-linecap=\"butt\" stroke-linejoin=\"miter\">\n",
       "\t<g transform=\"translate(411.6,535.4)\" stroke=\"none\" fill=\"black\" font-family=\"Arial\" font-size=\"16.00\"  text-anchor=\"start\">\n",
       "\t\t<text><tspan font-family=\"Arial\" >block</tspan><tspan font-family=\"Arial\"  font-size=\"12.8\" dy=\"4.80px\">s</tspan><tspan font-family=\"Arial\"  font-size=\"16.0\" dy=\"-4.80px\">olve</tspan><tspan font-family=\"Arial\"  font-size=\"12.8\" dy=\"4.80px\">l</tspan><tspan font-family=\"Arial\"  font-size=\"16.0\" dy=\"-4.80px\">evel</tspan></text>\n",
       "\t</g>\n",
       "</g>\n",
       "<g fill=\"none\" color=\"black\" stroke=\"currentColor\" stroke-width=\"3.00\" stroke-linecap=\"butt\" stroke-linejoin=\"miter\">\n",
       "\t<path stroke='rgb(  0,   0, 255)' stroke-dasharray='7.5,12.0'  d='M347.1,529.4 L400.5,529.4 M714.3,190.7 L839.0,238.6  '/>\t<use xlink:href='#gpPt5' transform='translate(714.3,190.7) scale(2.25)' color='rgb(  0,   0, 255)'/>\n",
       "\t<use xlink:href='#gpPt5' transform='translate(839.0,238.6) scale(2.25)' color='rgb(  0,   0, 255)'/>\n",
       "\t<use xlink:href='#gpPt5' transform='translate(373.8,529.4) scale(2.25)' color='rgb(  0,   0, 255)'/>\n",
       "</g>\n",
       "\t</g>\n",
       "\t<g id=\"gnuplot_plot_6a\" ><title>caching</title>\n",
       "<g fill=\"none\" color=\"black\" stroke=\"currentColor\" stroke-width=\"3.00\" stroke-linecap=\"butt\" stroke-linejoin=\"miter\">\n",
       "\t<g transform=\"translate(411.6,559.4)\" stroke=\"none\" fill=\"black\" font-family=\"Arial\" font-size=\"16.00\"  text-anchor=\"start\">\n",
       "\t\t<text><tspan font-family=\"Arial\" >caching</tspan></text>\n",
       "\t</g>\n",
       "</g>\n",
       "<g fill=\"none\" color=\"black\" stroke=\"currentColor\" stroke-width=\"3.00\" stroke-linecap=\"butt\" stroke-linejoin=\"miter\">\n",
       "\t<path stroke='rgb(  0,   0, 255)' stroke-dasharray='12.0,6.0,3.0,6.0'  d='M347.1,553.4 L400.5,553.4 M714.3,245.5 L839.0,355.8  '/>\t<use xlink:href='#gpPt5' transform='translate(714.3,245.5) scale(2.25)' color='rgb(  0,   0, 255)'/>\n",
       "\t<use xlink:href='#gpPt5' transform='translate(839.0,355.8) scale(2.25)' color='rgb(  0,   0, 255)'/>\n",
       "\t<use xlink:href='#gpPt5' transform='translate(373.8,553.4) scale(2.25)' color='rgb(  0,   0, 255)'/>\n",
       "</g>\n",
       "\t</g>\n",
       "\t<g id=\"gnuplot_plot_7a\" ><title>nocaching</title>\n",
       "<g fill=\"none\" color=\"black\" stroke=\"currentColor\" stroke-width=\"3.00\" stroke-linecap=\"butt\" stroke-linejoin=\"miter\">\n",
       "\t<g transform=\"translate(411.6,583.4)\" stroke=\"none\" fill=\"black\" font-family=\"Arial\" font-size=\"16.00\"  text-anchor=\"start\">\n",
       "\t\t<text><tspan font-family=\"Arial\" >nocaching</tspan></text>\n",
       "\t</g>\n",
       "</g>\n",
       "<g fill=\"none\" color=\"black\" stroke=\"currentColor\" stroke-width=\"3.00\" stroke-linecap=\"butt\" stroke-linejoin=\"miter\">\n",
       "\t<path stroke='rgb(255,   0, 255)' stroke-dasharray='7.5,12.0'  d='M347.1,577.4 L400.5,577.4 M714.3,261.5 L839.0,272.8  '/>\t<use xlink:href='#gpPt5' transform='translate(714.3,261.5) scale(2.25)' color='rgb(255,   0, 255)'/>\n",
       "\t<use xlink:href='#gpPt5' transform='translate(839.0,272.8) scale(2.25)' color='rgb(255,   0, 255)'/>\n",
       "\t<use xlink:href='#gpPt5' transform='translate(373.8,577.4) scale(2.25)' color='rgb(255,   0, 255)'/>\n",
       "</g>\n",
       "\t</g>\n",
       "\t<g id=\"gnuplot_plot_8a\" ><title>OrthonormalizationMultigrid.VerivyCurrentResidual</title>\n",
       "<g fill=\"none\" color=\"black\" stroke=\"currentColor\" stroke-width=\"3.00\" stroke-linecap=\"butt\" stroke-linejoin=\"miter\">\n",
       "\t<g transform=\"translate(411.6,607.4)\" stroke=\"none\" fill=\"black\" font-family=\"Arial\" font-size=\"16.00\"  text-anchor=\"start\">\n",
       "\t\t<text><tspan font-family=\"Arial\" >OrthonormalizationMultigrid.VerivyCurrentResidual</tspan></text>\n",
       "\t</g>\n",
       "</g>\n",
       "<g fill=\"none\" color=\"black\" stroke=\"currentColor\" stroke-width=\"3.00\" stroke-linecap=\"butt\" stroke-linejoin=\"miter\">\n",
       "\t<path stroke='rgb(255,   0, 255)' stroke-dasharray='12.0,6.0,3.0,6.0'  d='M347.1,601.4 L400.5,601.4 M714.3,659.3 L839.0,650.1  '/>\t<use xlink:href='#gpPt5' transform='translate(714.3,659.3) scale(2.25)' color='rgb(255,   0, 255)'/>\n",
       "\t<use xlink:href='#gpPt5' transform='translate(839.0,650.1) scale(2.25)' color='rgb(255,   0, 255)'/>\n",
       "\t<use xlink:href='#gpPt5' transform='translate(373.8,601.4) scale(2.25)' color='rgb(255,   0, 255)'/>\n",
       "</g>\n",
       "\t</g>\n",
       "\t<g id=\"gnuplot_plot_9a\" ><title>Restriction</title>\n",
       "<g fill=\"none\" color=\"black\" stroke=\"currentColor\" stroke-width=\"3.00\" stroke-linecap=\"butt\" stroke-linejoin=\"miter\">\n",
       "\t<g transform=\"translate(411.6,631.4)\" stroke=\"none\" fill=\"black\" font-family=\"Arial\" font-size=\"16.00\"  text-anchor=\"start\">\n",
       "\t\t<text><tspan font-family=\"Arial\" >Restriction</tspan></text>\n",
       "\t</g>\n",
       "</g>\n",
       "<g fill=\"none\" color=\"black\" stroke=\"currentColor\" stroke-width=\"3.00\" stroke-linecap=\"butt\" stroke-linejoin=\"miter\">\n",
       "\t<path stroke='rgb(255, 255,   0)' stroke-dasharray='7.5,12.0'  d='M347.1,625.4 L400.5,625.4 M714.3,568.6 L839.0,579.8  '/>\t<use xlink:href='#gpPt5' transform='translate(714.3,568.6) scale(2.25)' color='rgb(255, 255,   0)'/>\n",
       "\t<use xlink:href='#gpPt5' transform='translate(839.0,579.8) scale(2.25)' color='rgb(255, 255,   0)'/>\n",
       "\t<use xlink:href='#gpPt5' transform='translate(373.8,625.4) scale(2.25)' color='rgb(255, 255,   0)'/>\n",
       "</g>\n",
       "\t</g>\n",
       "\t<g id=\"gnuplot_plot_10a\" ><title>Prolongation</title>\n",
       "<g fill=\"none\" color=\"black\" stroke=\"currentColor\" stroke-width=\"3.00\" stroke-linecap=\"butt\" stroke-linejoin=\"miter\">\n",
       "\t<g transform=\"translate(411.6,655.4)\" stroke=\"none\" fill=\"black\" font-family=\"Arial\" font-size=\"16.00\"  text-anchor=\"start\">\n",
       "\t\t<text><tspan font-family=\"Arial\" >Prolongation</tspan></text>\n",
       "\t</g>\n",
       "</g>\n",
       "<g fill=\"none\" color=\"black\" stroke=\"currentColor\" stroke-width=\"3.00\" stroke-linecap=\"butt\" stroke-linejoin=\"miter\">\n",
       "\t<path stroke='rgb(255, 255,   0)' stroke-dasharray='12.0,6.0,3.0,6.0'  d='M347.1,649.4 L400.5,649.4 M714.3,447.5 L839.0,546.3  '/>\t<use xlink:href='#gpPt5' transform='translate(714.3,447.5) scale(2.25)' color='rgb(255, 255,   0)'/>\n",
       "\t<use xlink:href='#gpPt5' transform='translate(839.0,546.3) scale(2.25)' color='rgb(255, 255,   0)'/>\n",
       "\t<use xlink:href='#gpPt5' transform='translate(373.8,649.4) scale(2.25)' color='rgb(255, 255,   0)'/>\n",
       "</g>\n",
       "\t</g>\n",
       "<g fill=\"none\" color=\"#FFFFFF\" stroke=\"rgb(255, 255,   0)\" stroke-width=\"2.00\" stroke-linecap=\"butt\" stroke-linejoin=\"miter\">\n",
       "</g>\n",
       "<g fill=\"none\" color=\"black\" stroke=\"currentColor\" stroke-width=\"2.00\" stroke-linecap=\"butt\" stroke-linejoin=\"miter\">\n",
       "</g>\n",
       "<g fill=\"none\" color=\"black\" stroke=\"black\" stroke-width=\"1.00\" stroke-linecap=\"butt\" stroke-linejoin=\"miter\">\n",
       "</g>\n",
       "<g fill=\"none\" color=\"black\" stroke=\"currentColor\" stroke-width=\"1.00\" stroke-linecap=\"butt\" stroke-linejoin=\"miter\">\n",
       "\t<path stroke='black'  d='M90.4,7.8 L90.4,670.4 L963.8,670.4 L963.8,7.8 L90.4,7.8 Z  '/></g>\n",
       "<g fill=\"none\" color=\"black\" stroke=\"currentColor\" stroke-width=\"1.00\" stroke-linecap=\"butt\" stroke-linejoin=\"miter\">\n",
       "</g>\n",
       "</g>\n",
       "</svg>\n",
       "\n"
      ]
     },
     "metadata": {},
     "output_type": "display_data"
    }
   ],
   "metadata": {
    "dotnet_interactive": {
     "language": "csharp"
    }
   }
  },
  {
   "cell_type": "code",
   "execution_count": null,
   "source": [],
   "outputs": [],
   "metadata": {
    "dotnet_interactive": {
     "language": "csharp"
    }
   }
  },
  {
   "cell_type": "code",
   "execution_count": null,
   "source": [],
   "outputs": [],
   "metadata": {
    "dotnet_interactive": {
     "language": "csharp"
    }
   }
  }
 ],
 "nbformat": 4,
 "nbformat_minor": 2
}