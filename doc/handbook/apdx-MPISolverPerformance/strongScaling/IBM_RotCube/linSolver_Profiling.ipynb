{
 "metadata": {
  "kernelspec": {
   "display_name": ".NET (C#)",
   "language": "C#",
   "name": ".net-csharp"
  },
  "language_info": {
   "name": "C#"
  }
 },
 "cells": [
  {
   "cell_type": "code",
   "execution_count": null,
   "source": [
    "#r \"./../../../../../../public/src/L4-application/BoSSSpad/bin/Release/net5.0/BoSSSpad.dll\"\r\n",
    "using System;\r\n",
    "using ilPSP;\r\n",
    "using ilPSP.Utils;\r\n",
    "using BoSSS.Platform;\r\n",
    "using BoSSS.Foundation;\r\n",
    "using BoSSS.Foundation.XDG;\r\n",
    "using BoSSS.Foundation.Grid;\r\n",
    "using BoSSS.Solution;\r\n",
    "using BoSSS.Application.XNSE_Solver;\r\n",
    "using System.IO;\r\n",
    "using BoSSS.Foundation.IO;\r\n",
    "using ilPSP.Tracing;\r\n",
    "using BoSSS.Application.BoSSSpad;\r\n",
    "using BoSSS.Solution.Gnuplot;\r\n",
    "using BoSSS.Solution.AdvancedSolvers;\r\n",
    "\r\n",
    "using static BoSSS.Application.BoSSSpad.BoSSSshell;\r\n",
    "Init();"
   ],
   "outputs": [],
   "metadata": {
    "dotnet_interactive": {
     "language": "csharp"
    }
   }
  },
  {
   "cell_type": "code",
   "execution_count": null,
   "source": [
    "var DB = OpenOrCreateDatabase(@\"W:\\work\\scratch\\jw52xeqa\\DB_rotSphere_CoreScaling\"); DB.Sessions"
   ],
   "outputs": [
    {
     "data": {
      "text/plain": [
       "#0: strong_scaling_3\tJ17496_k4_t1_Stokes_c64_Re50_mue_1*\t09/21/2021 00:01:57\t5170e026...\r\n",
       "#1: strong_scaling_3\tJ17496_k4_t1_Stokes_c32_Re50_mue_1*\t09/21/2021 00:01:46\ta5ce7096...\r\n",
       "#2: strong_scaling_3\tJ17496_k4_t1_Stokes_c8_Re50_mue_1*\t09/21/2021 00:01:26\t297ec062...\r\n",
       "#3: strong_scaling_3\tJ17496_k4_t1_Stokes_c16_Re50_mue_1*\t09/21/2021 00:01:33\tb1769cb6...\r\n",
       "#4: strong_test_2\tJ17496_k4_t1_Stokes_c128_Re50_mue_1\t09/20/2021 22:04:10\td2001bdd...\r\n",
       "#5: strong_test_2\tJ17496_k4_t1_Stokes_c128_Re50_mue_1_20Iter*\t09/20/2021 21:24:25\tf9dc0327...\r\n",
       "#6: strong_test_2\tJ17496_k4_t1_Stokes_c128_Re50_mue_1_c128_Re50_mue_1_no_reortho\t09/20/2021 17:13:15\tf7686f7f...\r\n",
       "#7: strong_test_2\tJ17496_k4_t1_Stokes_c128_Re50_mue_1\t09/20/2021 16:46:16\t5dab4999...\r\n",
       "#8: strong_test_2\tJ17496_k4_t1_Stokes_c128_Re50_mue_1_c128_Re50_mue_1_2\t09/20/2021 16:48:24\t975fc7a8...\r\n",
       "#9: strong_test_2\tJ17496_k4_t1_Stokes_c128_Re50_mue_1_c128_Re50_mue_1_no_reortho\t09/20/2021 16:46:38\t242a3de4...\r\n",
       "#10: strong_test_2\tJ17496_k4_t1_Stokes_c128_Re50_mue_1_20Iter*\t09/20/2021 17:15:15\t9162514a...\r\n",
       "#11: strong_test_2\tJ17496_k4_t1_Stokes_c128_Re50_mue_1_20Iter*\t09/20/2021 16:49:06\teba1041f...\r\n",
       "#12: strong_test_2\tJ17496_k4_t1_Stokes_c128_Re50_mue_1_c128_Re50_mue_1_no_reortho*\t09/20/2021 16:47:19\t2c000220...\r\n",
       "#13: strong_test_2\tJ17496_k4_t1_Stokes_c128_Re50_mue_1_c128_Re50_mue_1_2*\t09/20/2021 16:41:57\t5841bf79...\r\n",
       "#14: strong_test_2\tJ17496_k4_t1_Stokes_c128_Re50_mue_1_c128_Re50_mue_1_no_reortho*\t09/20/2021 16:38:16\t9d28ce74...\r\n",
       "#15: strong_test_2\tJ17496_k4_t1_Stokes_c128_Re50_mue_1_20Iter*\t09/20/2021 16:34:08\tc59cb886...\r\n",
       "#16: strong_test_2\tJ17496_k4_t1_Stokes_c128_Re50_mue_1*\t09/20/2021 16:30:27\tb3521689...\r\n",
       "#17: strong_test\tJ17496_k4_t1_Stokes_c128_Re50_mue_1\t09/18/2021 23:38:56\tee100d0a...\r\n",
       "#18: strong_test\tJ17496_k4_t1_Stokes_c128_Re50_mue_1*\t09/18/2021 23:13:00\t6ee3d22c...\r\n",
       "#19: strong_test\tJ17496_k4_t1_Stokes_c32_Re50_mue_1*\t09/18/2021 23:12:53\tc7091a73...\r\n",
       "#20: strong_test\tJ17496_k4_t1_Stokes_c8_Re50_mue_1*\t09/18/2021 23:12:37\tf145629c...\r\n",
       "#21: weak_test\tJ17496_k4_t1_Stokes_c64_Re50_mue_1\t09/18/2021 01:21:17\t8bf107f8...\r\n",
       "#22: weak_test\tJ65856_k2_t1_Stokes_c64_Re50_mue_1\t09/18/2021 01:19:48\t51920466...\r\n",
       "#23: weak_test\tJ31944_k3_t1_Stokes_c64_Re50_mue_1\t09/18/2021 01:19:48\t028c6ee2...\r\n",
       "#24: strong_scaling_2\tJ31944_k3_t1_Stokes__c256_Re50_mue_1\t09/18/2021 01:01:28\t6ea81d41...\r\n",
       "#25: strong_scaling_2\tJ17496_k4_t1_Stokes__c128_Re50_mue_1\t09/18/2021 00:50:27\t182d861f...\r\n",
       "#26: weak_test\tJ2187_k4_t1_Stokes_c8_Re50_mue_1\t09/18/2021 01:21:19\t75bb6b79...\r\n",
       "#27: weak_test\tJ3993_k3_t1_Stokes_c8_Re50_mue_1\t09/18/2021 01:21:13\t7a58873b...\r\n",
       "#28: weak_test\tJ8232_k2_t1_Stokes_c8_Re50_mue_1\t09/18/2021 01:21:15\t6a1c6edf...\r\n",
       "#29: strong_scaling_2\tJ65856_k2_t1_Stokes__c128_Re50_mue_1\t09/18/2021 00:42:21\t6a361809...\r\n",
       "#30: weak_test\tJ139968_k4_t1_Stokes__c512_Re50_mue_1_c512_Re50_mue_1*\t09/18/2021 01:18:48\t5f93985a...\r\n",
       "#31: weak_test\tJ255552_k3_t1_Stokes__c512_Re50_mue_1_c512_Re50_mue_1*\t09/18/2021 01:17:46\te7277763...\r\n",
       "#32: strong_scaling_2\tJ31944_k3_t1_Stokes__c32_Re50_mue_1\t09/17/2021 23:38:17\tadca9bfa...\r\n",
       "#33: weak_test\tJ526848_k2_t1_Stokes__c512_Re50_mue_1_c512_Re50_mue_1*\t09/18/2021 01:13:13\t48900342...\r\n",
       "#34: strong_scaling_2\tJ17496_k4_t1_Stokes__c256_Re50_mue_1*\t09/18/2021 01:10:28\t727fb650...\r\n",
       "#35: strong_scaling_2\tJ31944_k3_t1_Stokes__c128_Re50_mue_1\t09/18/2021 00:43:32\t8c155e79...\r\n",
       "#36: strong_scaling_2\tJ65856_k2_t1_Stokes__c256_Re50_mue_1*\t09/18/2021 01:00:29\tfb98413d...\r\n",
       "#37: strong_scaling_2\tJ17496_k4_t1_Stokes__c32_Re50_mue_1\t09/17/2021 23:40:15\tad06a202...\r\n",
       "#38: strong_scaling_2\tJ65856_k2_t1_Stokes__c64_Re50_mue_1\t09/17/2021 23:49:58\tad64c0d4...\r\n",
       "#39: strong_scaling_2\tJ17496_k4_t1_Stokes__c8_Re50_mue_1*\t09/18/2021 00:25:00\ta009e3f6...\r\n",
       "#40: strong_scaling_2\tJ31944_k3_t1_Stokes__c8_Re50_mue_1*\t09/18/2021 00:10:04\teebabf91...\r\n",
       "#41: strong_scaling_2\tJ65856_k2_t1_Stokes__c8_Re50_mue_1*\t09/18/2021 00:06:44\td999abe8...\r\n",
       "#42: strong_scaling_2\tJ17496_k4_t1_Stokes__c64_Re50_mue_1*\t09/17/2021 23:58:29\t80bf8537...\r\n",
       "#43: strong_scaling_2\tJ31944_k3_t1_Stokes__c64_Re50_mue_1*\t09/17/2021 23:56:29\t96ac04f6...\r\n",
       "#44: strong_scaling_2\tJ65856_k2_t1_Stokes__c32_Re50_mue_1*\t09/17/2021 23:38:16\ta52cdd70...\r\n",
       "#45: strong_scaling_2\tJ17496_k4_t1_Stokes__c16_Re50_mue_1*\t09/17/2021 23:35:13\t86b1eed9...\r\n",
       "#46: strong_scaling_2\tJ31944_k3_t1_Stokes__c16_Re50_mue_1*\t09/17/2021 23:27:40\t1e65477e...\r\n",
       "#47: strong_scaling_2\tJ65856_k2_t1_Stokes__c16_Re50_mue_1*\t09/17/2021 23:21:06\td405f2b7...\r\n",
       "#48: test\tJ12288_k4_t1_Stokes_c256_Re50_mue_1\t09/17/2021 21:41:54\t62134ce9...\r\n",
       "#49: test\tJ12288_k4_t1_Stokes_c128_Re50_mue_1\t09/17/2021 21:32:08\te01aa47e...\r\n",
       "#50: test\tJ12288_k4_t1_Stokes__c256_Re50_mue_1\t09/17/2021 15:44:44\te013f6c9...\r\n",
       "#51: test\tJ12288_k4_t1_Stokes__c128_Re50_mue_1\t09/17/2021 15:37:17\t2bf93297...\r\n",
       "#52: strong_scaling\tJ17496_k4_t1_Stokes__c8_Re50_mue_1\t09/16/2021 12:00:08\tc945104d...\r\n",
       "#53: test\tJ12288_k4_t1_Stokes__c256_Re50_mue_1\t09/16/2021 13:36:01\t332d16fc...\r\n",
       "#54: test\tJ12288_k4_t1_Stokes__c128_Re50_mue_1\t09/16/2021 13:33:54\tb8cd456b...\r\n",
       "#55: strong_scaling\tJ17496_k4_t1_Stokes__c64_Re50_mue_1\t09/16/2021 03:52:00\t96ef54d7...\r\n",
       "#56: strong_scaling\tJ65856_k2_t1_Stokes__c8_Re50_mue_1\t09/16/2021 03:36:22\t2fe968b3...\r\n",
       "#57: strong_scaling\tJ17496_k4_t1_Stokes__c256_Re50_mue_1\t09/16/2021 03:36:25\t20636b15...\r\n",
       "#58: strong_scaling\tJ17496_k4_t1_Stokes__c32_Re50_mue_1\t09/16/2021 02:54:38\t04d675c5...\r\n",
       "#59: strong_scaling\tJ31944_k3_t1_Stokes__c64_Re50_mue_1\t09/16/2021 03:48:46\t868162ce...\r\n",
       "#60: strong_scaling\tJ17496_k4_t1_Stokes__c128_Re50_mue_1\t09/16/2021 03:11:38\t356b79c5...\r\n",
       "#61: strong_scaling\tJ31944_k3_t1_Stokes__c256_Re50_mue_1\t09/16/2021 03:24:25\tebbaeb37...\r\n",
       "#62: strong_scaling\tJ17496_k4_t1_Stokes__c16_Re50_mue_1\t09/16/2021 02:35:54\t4529908a...\r\n",
       "#63: strong_scaling\tJ65856_k2_t1_Stokes__c256_Re50_mue_1\t09/16/2021 03:20:21\t65f287e1...\r\n",
       "#64: strong_scaling\tJ31944_k3_t1_Stokes__c128_Re50_mue_1\t09/16/2021 03:11:15\t90e424ed...\r\n",
       "#65: strong_scaling\tJ65856_k2_t1_Stokes__c128_Re50_mue_1\t09/16/2021 03:00:48\t4a01f831...\r\n",
       "#66: strong_scaling\tJ31944_k3_t1_Stokes__c32_Re50_mue_1\t09/16/2021 02:48:59\t889dd618...\r\n",
       "#67: strong_scaling\tJ65856_k2_t1_Stokes__c64_Re50_mue_1\t09/16/2021 02:56:34\t1d3f2982...\r\n",
       "#68: strong_scaling\tJ65856_k2_t1_Stokes__c32_Re50_mue_1\t09/16/2021 02:35:57\td55e3284...\r\n",
       "#69: strong_scaling\tJ31944_k3_t1_Stokes__c16_Re50_mue_1\t09/16/2021 02:07:57\t031c8f78...\r\n",
       "#70: strong_scaling\tJ31944_k3_t1_Stokes__c8_Re50_mue_1\t09/16/2021 01:30:00\t8e141e62...\r\n",
       "#71: strong_scaling\tJ65856_k2_t1_Stokes__c16_Re50_mue_1\t09/16/2021 01:49:29\te05c1a05...\r\n",
       "#72: rotSphere_benchmark_2\tJ17496_k3_t1_NSE__c16_Re50_mue_1__c16_Re50_mue_1\t09/14/2021 14:08:46\t8e067c09...\r\n",
       "#73: rotSphere_benchmark_2\tJ17496_k3_t1_NSE__c8_Re50_mue_1\t09/14/2021 10:56:12\teb672cea...\r\n",
       "#74: rotSphere_benchmark_2\tJ17496_k3_t1_NSE__c256_Re50_mue_1\t09/13/2021 23:53:34\tc22aa0c3...\r\n",
       "#75: rotSphere_benchmark_2\tJ17496_k3_t1_NSE__c128_Re50_mue_1\t09/13/2021 23:53:05\tcb6ffcd1...\r\n",
       "#76: rotSphere_benchmark_2\tJ17496_k3_t1_NSE__c32_Re50_mue_1\t09/13/2021 23:52:33\t44410896...\r\n",
       "#77: rotSphere_benchmark_2\tJ17496_k3_t1_NSE__c64_Re50_mue_1\t09/13/2021 23:53:02\tf678ed91...\r\n",
       "#78: rotSphere_benchmark\tJ17496_k3_t10_NSE__c64_Re50_mue_0.01\t09/13/2021 22:31:40\td2fb40c1...\r\n",
       "#79: rotSphere_benchmark\tJ17496_k3_t10_NSE__c64_Re50_mue_0.1\t09/13/2021 22:31:09\tea5b7a79...\r\n",
       "#80: rotSphere_benchmark\tJ17496_k3_t10_NSE__c256_Re50_mue_1\t09/13/2021 22:01:56\t4ba533cf...\r\n",
       "#81: rotSphere_benchmark\tJ17496_k3_t10_NSE__c64_Re50_mue_1\t09/13/2021 22:31:07\t5390613f...\r\n"
      ]
     },
     "metadata": {},
     "output_type": "display_data"
    }
   ],
   "metadata": {
    "dotnet_interactive": {
     "language": "csharp"
    }
   }
  },
  {
   "cell_type": "code",
   "execution_count": null,
   "source": [
    "//DB.Sessions.Where(s=>Convert.ToInt32(s.KeysAndQueries[\"DGdegree:Velocity*\"])==3).Where(s=>s.ProjectName==\"strong_scaling\")\r\n",
    "DB.Sessions"
   ],
   "outputs": [],
   "metadata": {
    "dotnet_interactive": {
     "language": "csharp"
    }
   }
  },
  {
   "cell_type": "code",
   "execution_count": null,
   "source": [
    "//var SomeSessions = new ISessionInfo[]{DB.Sessions.Where(s=>s.NumberOfCores()==128).Pick(2,3,4)};\r\n",
    "var SomeSessions = new ISessionInfo[]{DB.Sessions.Where(s=>s.NumberOfCores()==128).Pick(20)};"
   ],
   "outputs": [],
   "metadata": {
    "dotnet_interactive": {
     "language": "csharp"
    }
   }
  },
  {
   "cell_type": "code",
   "execution_count": null,
   "source": [
    "static var PreComputeProfiling = new Dictionary<System.Guid,MethodCallRecord[]>();\r\n",
    "foreach(var sess in SomeSessions){\r\n",
    "    MethodCallRecord[] mcrs = null;\r\n",
    "    try{\r\n",
    "        mcrs = sess.GetProfiling();\r\n",
    "    } catch (Exception ex){\r\n",
    "        Console.WriteLine(\"Name:\"+sess.Name);\r\n",
    "        Console.WriteLine(ex.Message);\r\n",
    "    }\r\n",
    "    PreComputeProfiling.Add(sess.ID, mcrs);\r\n",
    "}"
   ],
   "outputs": [],
   "metadata": {
    "dotnet_interactive": {
     "language": "csharp"
    }
   }
  },
  {
   "cell_type": "code",
   "execution_count": null,
   "source": [],
   "outputs": [],
   "metadata": {
    "dotnet_interactive": {
     "language": "csharp"
    }
   }
  },
  {
   "cell_type": "code",
   "execution_count": null,
   "source": [
    "static class AddCols {\r\n",
    "    static public MethodCallRecord[] GetMCR(ISessionInfo SI){\r\n",
    "        MethodCallRecord[] mcrs = null;\r\n",
    "        PreComputeProfiling.TryGetValue(SI.ID,out mcrs);\r\n",
    "        return mcrs;\r\n",
    "    }\r\n",
    "    \r\n",
    "    static private double TimeOnProc(MethodCallRecord mcr, string method){\r\n",
    "        double time = 0;\r\n",
    "        foreach(var child in mcr.FindChildren(method)){\r\n",
    "            time += child.TimeSpentInMethod.TotalSeconds;\r\n",
    "            //time += child.TimeSpentInMPIBlocking.TotalSeconds;\r\n",
    "        }\r\n",
    "        /*\r\n",
    "        var child = mcr.FindChildren(method).Pick(0);\r\n",
    "        time = child.TimeExclusive.TotalSeconds;\r\n",
    "        */\r\n",
    "        /*\r\n",
    "        double time = -1;\r\n",
    "        foreach(var child in mcr.FindChildren(method)){\r\n",
    "            var childtime = child.TimeSpentInMethod.TotalSeconds;\r\n",
    "            //var childtime = child.TimeSpentInMPIBlocking.TotalSeconds;\r\n",
    "            time = childtime > time? childtime:time;\r\n",
    "        }\r\n",
    "        */\r\n",
    "        return time;\r\n",
    "    }\r\n",
    "    \r\n",
    "    static public double AverageTime(ISessionInfo SI,string method){\r\n",
    "        var mcrs       = GetMCR(SI);\r\n",
    "        double avtime = 0;\r\n",
    "\r\n",
    "        foreach(var mcr in mcrs){\r\n",
    "            avtime+=TimeOnProc(mcr,method);\r\n",
    "        }\r\n",
    "        avtime = avtime / mcrs.Count();\r\n",
    "        return avtime;\r\n",
    "    }\r\n",
    "\r\n",
    "    static public double MaxTime(ISessionInfo SI,string method){\r\n",
    "        var mcrs       = GetMCR(SI);\r\n",
    "        double maxtime = -1;\r\n",
    "\r\n",
    "        foreach(var mcr in mcrs){\r\n",
    "            double time =TimeOnProc(mcr,method);    \r\n",
    "            maxtime = time>maxtime?time:maxtime;\r\n",
    "        }\r\n",
    "        return maxtime;\r\n",
    "    }\r\n",
    "\r\n",
    "    static public object LSolverIter(ISessionInfo SI){\r\n",
    "        var mcr          = GetMCR(SI)[0];\r\n",
    "        string searchstr = \"BoSSS.Solution.AdvancedSolvers.DirectSolver.Solve\";\r\n",
    "        var ndS = mcr.FindChildren(searchstr);\r\n",
    "        var nd  = ndS.ElementAt(0);\r\n",
    "        return nd.CallCount;\r\n",
    "    }\r\n",
    "\r\n",
    "    static public object NoOfCores(ISessionInfo SI){\r\n",
    "        return SI.ComputeNodeNames.Count();\r\n",
    "    }\r\n",
    "\r\n",
    "    static public object NoOfNodes(ISessionInfo SI){\r\n",
    "        return SI.ComputeNodeNames.GroupBy(s=>s).Count();\r\n",
    "    }\r\n",
    "    \r\n",
    "    static public object MGDepth(ISessionInfo SI){\r\n",
    "        var mcr = GetMCR(SI)[0];\r\n",
    "        double NInit  = mcr.FindChildren(\"BoSSS.Solution.AdvancedSolvers.OrthonormalizationMultigrid.Init\").ToArray().Length;\r\n",
    "        return NInit + 1;\r\n",
    "    }\r\n",
    "}"
   ],
   "outputs": [],
   "metadata": {
    "dotnet_interactive": {
     "language": "csharp"
    }
   }
  },
  {
   "cell_type": "code",
   "execution_count": null,
   "source": [
    "//SomeSessions.Select(s=>AddCols.MGDepth(s))\r\n",
    "//SomeSessions.Pick(0).KeysAndQueries.Keys.Contains(\"DGdegree:Velocity*\")\r\n",
    "SomeSessions.Select(s=>AddCols.LSolverIter(s))"
   ],
   "outputs": [
    {
     "data": {
      "text/html": [
       "<table><thead><tr><th><i>index</i></th><th>value</th></tr></thead><tbody><tr><td>0</td><td><div class=\"dni-plaintext\">92</div></td></tr></tbody></table>"
      ]
     },
     "metadata": {},
     "output_type": "display_data"
    }
   ],
   "metadata": {
    "dotnet_interactive": {
     "language": "csharp"
    }
   }
  },
  {
   "cell_type": "code",
   "execution_count": null,
   "source": [
    "var Sess = SomeSessions.Pick(1);\r\n",
    "PreComputeProfiling.TryGetValue(Sess.ID,out MethodCallRecord[] mcrs);\r\n",
    "mcrs[0].FindChildren(\"Slv Iter\").Pick(0).TimeSpentInMethod.TotalSeconds"
   ],
   "outputs": [
    {
     "output_type": "error",
     "ename": "Error",
     "evalue": "System.ArgumentOutOfRangeException: Index was out of range. Must be non-negative and less than the size of the collection. (Parameter 'index')\r\n   at System.SZArrayHelper.get_Item[T](Int32 index)\r\n   at System.Linq.Enumerable.ElementAt[TSource](IEnumerable`1 source, Int32 index)\r\n   at Submission#72.<<Initialize>>d__0.MoveNext()\r\n--- End of stack trace from previous location ---\r\n   at Microsoft.CodeAnalysis.Scripting.ScriptExecutionState.RunSubmissionsAsync[TResult](ImmutableArray`1 precedingExecutors, Func`2 currentExecutor, StrongBox`1 exceptionHolderOpt, Func`2 catchExceptionOpt, CancellationToken cancellationToken)",
     "traceback": [
      "System.ArgumentOutOfRangeException: Index was out of range. Must be non-negative and less than the size of the collection. (Parameter 'index')\r\n",
      "   at System.SZArrayHelper.get_Item[T](Int32 index)\r\n",
      "   at System.Linq.Enumerable.ElementAt[TSource](IEnumerable`1 source, Int32 index)\r\n",
      "   at Submission#72.<<Initialize>>d__0.MoveNext()\r\n",
      "--- End of stack trace from previous location ---\r\n",
      "   at Microsoft.CodeAnalysis.Scripting.ScriptExecutionState.RunSubmissionsAsync[TResult](ImmutableArray`1 precedingExecutors, Func`2 currentExecutor, StrongBox`1 exceptionHolderOpt, Func`2 catchExceptionOpt, CancellationToken cancellationToken)"
     ]
    }
   ],
   "metadata": {
    "dotnet_interactive": {
     "language": "csharp"
    }
   }
  },
  {
   "cell_type": "code",
   "execution_count": null,
   "source": [
    "string[] Functraces = new string[]{               \r\n",
    "   \"BoSSS.Solution.AdvancedSolvers.OrthonormalizationMultigrid.AddSol\",\r\n",
    "   //\"BoSSS.Solution.AdvancedSolvers.Schwarz.Solve\",\r\n",
    "   \"BoSSS.Solution.AdvancedSolvers.OrthonormalizationMultigrid.MinimizeResidual\",\r\n",
    "   \"BoSSS.Solution.AdvancedSolvers.OrthonormalizationMultigrid.Residual\",\r\n",
    "   //\"BoSSS.Solution.AdvancedSolvers.OrthonormalizationMultigrid.Solve\",\r\n",
    "   \"overlap_scaling\",\r\n",
    "   \"block_solve_level\",\r\n",
    "   \"caching\",\r\n",
    "   \"nocaching\",\r\n",
    "   \"BoSSS.Solution.AdvancedSolvers.OrthonormalizationMultigrid.VerivyCurrentResidual\",\r\n",
    "   \"Restriction\",\r\n",
    "   \"Prolongation\",\r\n",
    "   \"Slv Iter\"\r\n",
    "};"
   ],
   "outputs": [],
   "metadata": {
    "dotnet_interactive": {
     "language": "csharp"
    }
   }
  },
  {
   "cell_type": "code",
   "execution_count": null,
   "source": [
    "var SesTab = new System.Data.DataTable();\r\n",
    "var Col         = SesTab.Columns.Add(\"NoCores\", typeof(Int32));  \r\n",
    "Col.AllowDBNull = false;\r\n",
    "SesTab.Columns.Add(\"Iter\", typeof(Int32)); \r\n",
    "SesTab.Columns.Add(\"DGdegree\", typeof(Int32));\r\n",
    "SesTab.Columns.Add(\"Name\",typeof(String));\r\n",
    "var ColDic = new Dictionary<string, string>();\r\n",
    "foreach(string Ftrace in Functraces){\r\n",
    "    string[] Schnipsel = Ftrace.Split('.');\r\n",
    "    int L = Schnipsel.Length;\r\n",
    "    string ColumnName = \"\";\r\n",
    "    if(L>1)\r\n",
    "        ColumnName = String.Concat(Schnipsel[L-2],'.',Schnipsel[L-1]);\r\n",
    "    else\r\n",
    "        ColumnName = Schnipsel.Last();\r\n",
    "    SesTab.Columns.Add(ColumnName,typeof(Double));\r\n",
    "    ColDic.Add(ColumnName,Ftrace);\r\n",
    "} SesTab.GetColumnNames()"
   ],
   "outputs": [
    {
     "data": {
      "text/html": [
       "<table><thead><tr><th><i>index</i></th><th>value</th></tr></thead><tbody><tr><td>0</td><td>NoCores</td></tr><tr><td>1</td><td>Iter</td></tr><tr><td>2</td><td>DGdegree</td></tr><tr><td>3</td><td>Name</td></tr><tr><td>4</td><td>OrthonormalizationMultigrid.AddSol</td></tr><tr><td>5</td><td>OrthonormalizationMultigrid.MinimizeResidual</td></tr><tr><td>6</td><td>OrthonormalizationMultigrid.Residual</td></tr><tr><td>7</td><td>overlap_scaling</td></tr><tr><td>8</td><td>block_solve_level</td></tr><tr><td>9</td><td>caching</td></tr><tr><td>10</td><td>nocaching</td></tr><tr><td>11</td><td>OrthonormalizationMultigrid.VerivyCurrentResidual</td></tr><tr><td>12</td><td>Restriction</td></tr><tr><td>13</td><td>Prolongation</td></tr><tr><td>14</td><td>Slv Iter</td></tr></tbody></table>"
      ]
     },
     "metadata": {},
     "output_type": "display_data"
    }
   ],
   "metadata": {
    "dotnet_interactive": {
     "language": "csharp"
    }
   }
  },
  {
   "cell_type": "code",
   "execution_count": null,
   "source": [
    "foreach(var sess in SomeSessions){\r\n",
    "    var newrow = SesTab.NewRow();\r\n",
    "    foreach(var col in SesTab.Columns){\r\n",
    "        string cName = (col as System.Data.DataColumn).ColumnName;\r\n",
    "        ColDic.TryGetValue(cName, out string Ftrace);\r\n",
    "        try{\r\n",
    "            newrow[cName]=AddCols.MaxTime(sess,Ftrace);\r\n",
    "        } catch (Exception ex){\r\n",
    "            //Die anderen Columns halt ...\r\n",
    "        } \r\n",
    "    }\r\n",
    "    newrow[\"NoCores\"] = Convert.ToInt32(AddCols.NoOfCores(sess));\r\n",
    "    newrow[\"Iter\"] = Convert.ToInt32(AddCols.LSolverIter(sess));\r\n",
    "    newrow[\"DGdegree\"] = Convert.ToInt32(sess.KeysAndQueries[\"DGdegree:Velocity*\"]);\r\n",
    "    newrow[\"Name\"] = Convert.ToString(sess.Name);\r\n",
    "    SesTab.Rows.Add(newrow);\r\n",
    "} SesTab.Print()"
   ],
   "outputs": [
    {
     "output_type": "stream",
     "name": "stdout",
     "text": [
      "   NoCores Iter DGdegree Name                                 OrthonormalizationMultigrid.AddSol OrthonormalizationMultigrid.MinimizeResidual OrthonormalizationMultigrid.Residual overlap_scaling    block_solve_level caching nocaching OrthonormalizationMultigrid.VerivyCurrentResidual Restriction Prolongation Slv Iter    \r\n",
      "0: 128     92   4        J17496_k4_t1_Stokes__c128_Re50_mue_1 203.2427153                        1.2685959                                    3.4500699999999997                   332.73627700000003 620.1683336       0       0         0                                                 0           0            2558.434473 "
     ]
    }
   ],
   "metadata": {
    "dotnet_interactive": {
     "language": "csharp"
    }
   }
  },
  {
   "cell_type": "code",
   "execution_count": null,
   "source": [
    "var theDict = new List<Tuple<string,DashTypes,LineColors>>();\r\n",
    "public static Tuple<string,DashTypes,LineColors>[] AofFormats;\r\n",
    "var dashes = new DashTypes[]{DashTypes.Dashed,DashTypes.DotDashed,DashTypes.DotDotDashed};\r\n",
    "var points= new PointTypes[]{PointTypes.OpenCircle,PointTypes.OpenCircle,PointTypes.OpenDiamond,PointTypes.OpenUpperTriangle};\r\n",
    "var colors = new LineColors[]{LineColors.Red, LineColors.Green, LineColors.Blue, LineColors.Magenta, LineColors.Yellow, LineColors.Black, LineColors.Orange, LineColors.Grey};\r\n",
    "\r\n",
    "int iSweep=0;\r\n",
    "foreach(string Name in SesTab.GetColumnNames()){\r\n",
    "    //if(Name!=\"OrthonormalizationMultigrid.MinimizeResidual\"&&Name!=\"overlap_scaling\")\r\n",
    "    //    continue;\r\n",
    "    if(Name==\"NoCores\"||Name==\"Iter\"||Name==\"DGdegree\")\r\n",
    "        continue;\r\n",
    "    int one=iSweep%(dashes.Length-1);\r\n",
    "    int two=iSweep/(dashes.Length-1);\r\n",
    "    theDict.Add(new Tuple<string,DashTypes,LineColors>(Name,dashes[one],colors[two]));\r\n",
    "    iSweep++;\r\n",
    "}\r\n",
    "AofFormats = theDict.ToArray()"
   ],
   "outputs": [
    {
     "data": {
      "text/html": [
       "<table><thead><tr><th><i>index</i></th><th>Item1</th><th>Item2</th><th>Item3</th></tr></thead><tbody><tr><td>0</td><td>Name</td><td><span>Dashed</span></td><td><span>Red</span></td></tr><tr><td>1</td><td>OrthonormalizationMultigrid.AddSol</td><td><span>DotDashed</span></td><td><span>Red</span></td></tr><tr><td>2</td><td>OrthonormalizationMultigrid.MinimizeResidual</td><td><span>Dashed</span></td><td><span>Green</span></td></tr><tr><td>3</td><td>OrthonormalizationMultigrid.Residual</td><td><span>DotDashed</span></td><td><span>Green</span></td></tr><tr><td>4</td><td>overlap_scaling</td><td><span>Dashed</span></td><td><span>Blue</span></td></tr><tr><td>5</td><td>block_solve_level</td><td><span>DotDashed</span></td><td><span>Blue</span></td></tr><tr><td>6</td><td>caching</td><td><span>Dashed</span></td><td><span>Magenta</span></td></tr><tr><td>7</td><td>nocaching</td><td><span>DotDashed</span></td><td><span>Magenta</span></td></tr><tr><td>8</td><td>OrthonormalizationMultigrid.VerivyCurrentResidual</td><td><span>Dashed</span></td><td><span>Yellow</span></td></tr><tr><td>9</td><td>Restriction</td><td><span>DotDashed</span></td><td><span>Yellow</span></td></tr><tr><td>10</td><td>Prolongation</td><td><span>Dashed</span></td><td><span>Black</span></td></tr><tr><td>11</td><td>Slv Iter</td><td><span>DotDashed</span></td><td><span>Black</span></td></tr></tbody></table>"
      ]
     },
     "metadata": {},
     "output_type": "display_data"
    }
   ],
   "metadata": {
    "dotnet_interactive": {
     "language": "csharp"
    }
   }
  },
  {
   "cell_type": "code",
   "execution_count": null,
   "source": [
    "string thisdir = Directory.GetCurrentDirectory();\r\n",
    "SesTab.ToCSVFile(thisdir+@\"\\table.csv\"); thisdir"
   ],
   "outputs": [
    {
     "data": {
      "text/plain": [
       "b:\\BoSSS-smuda\\public\\doc\\handbook\\apdx-MPISolverPerformance\\strongScaling\\IBM_RotCube"
      ]
     },
     "metadata": {},
     "output_type": "display_data"
    }
   ],
   "metadata": {
    "dotnet_interactive": {
     "language": "csharp"
    }
   }
  },
  {
   "cell_type": "code",
   "execution_count": null,
   "source": [
    "public static class DoWhatUWant{\r\n",
    "    public static PlotRowSelectorEx Solver_DG_Proj(int DG){\r\n",
    "        return delegate (int iSweep, int iTabRow, \r\n",
    "                     IDictionary<string, object> Row, \r\n",
    "                     out string Nmn, \r\n",
    "                     out PlotFormat Fmt,\r\n",
    "                     out double xValue, out double yValue) { \r\n",
    "\r\n",
    "               int k  = Convert.ToInt32(Row[\"DGdegree\"]);\r\n",
    "\r\n",
    "               if(k != DG ) {\r\n",
    "                    // degree does not match -> not in this plot\r\n",
    "                    Nmn    = null;\r\n",
    "                    Fmt    = null;\r\n",
    "                    xValue = 0;\r\n",
    "                    yValue = 0;\r\n",
    "                    return;\r\n",
    "               } \r\n",
    "               \r\n",
    "               Fmt           = new PlotFormat();\r\n",
    "               Fmt.PointSize = 0.5;\r\n",
    "               Fmt.Style     = Styles.LinesPoints;\r\n",
    "               Fmt.LineWidth = 3;\r\n",
    "\r\n",
    "               Nmn = AofFormats[iSweep].Item1;\r\n",
    "               Fmt.DashType = AofFormats[iSweep].Item2;\r\n",
    "               Fmt.LineColor = AofFormats[iSweep].Item3;\r\n",
    "               double iter = Convert.ToDouble(Row[\"Iter\"]);\r\n",
    "               yValue = Convert.ToDouble(Row[Nmn])/iter;\r\n",
    "               xValue    = Convert.ToDouble(Row[\"NoCores\"]);\r\n",
    "               \r\n",
    "           };\r\n",
    "    }\r\n",
    "\r\n",
    "    public static PlotRowSelectorEx Solver_DG_Proj(){\r\n",
    "        return delegate (int iSweep, int iTabRow, \r\n",
    "                     IDictionary<string, object> Row, \r\n",
    "                     out string Nmn, \r\n",
    "                     out PlotFormat Fmt,\r\n",
    "                     out double xValue, out double yValue) { \r\n",
    "\r\n",
    "               int k           = Convert.ToInt32(Row[\"DGdegree\"]);\r\n",
    "               \r\n",
    "               Fmt           = new PlotFormat();\r\n",
    "               Fmt.PointSize = 0.5;\r\n",
    "               Fmt.Style     = Styles.LinesPoints;\r\n",
    "               Fmt.LineWidth = 3;\r\n",
    "               \r\n",
    "               switch(k){\r\n",
    "                case 2:\r\n",
    "                    Nmn=\"k2\";\r\n",
    "                    Fmt.LineColor = LineColors.Red;\r\n",
    "                    break;\r\n",
    "                case 3:\r\n",
    "                    Nmn=\"k3\";\r\n",
    "                    Fmt.LineColor = LineColors.Orange;\r\n",
    "                    break;\r\n",
    "                case 4:\r\n",
    "                    Nmn=\"k4\";\r\n",
    "                    Fmt.LineColor = LineColors.Blue;\r\n",
    "                    break;\r\n",
    "                default:\r\n",
    "                    throw new Exception(\"vergiss es\");\r\n",
    "                }\r\n",
    "                double time = Convert.ToDouble(Row[\"Slv Iter\"]);\r\n",
    "                double iter = Convert.ToDouble(Row[\"Iter\"]);\r\n",
    "                //yValue = time/iter;\r\n",
    "                yValue=Convert.ToDouble(Row[\"Iter\"]);\r\n",
    "                xValue    = Convert.ToDouble(Row[\"NoCores\"]);\r\n",
    "           };\r\n",
    "    }\r\n",
    "\r\n",
    "}\r\n",
    "    "
   ],
   "outputs": [],
   "metadata": {
    "dotnet_interactive": {
     "language": "csharp"
    }
   }
  },
  {
   "cell_type": "code",
   "execution_count": null,
   "source": [
    "int k = 4;\r\n",
    "int xMin = 4;\r\n",
    "int xMax = 512;"
   ],
   "outputs": [],
   "metadata": {
    "dotnet_interactive": {
     "language": "csharp"
    }
   }
  },
  {
   "cell_type": "code",
   "execution_count": null,
   "source": [],
   "outputs": [],
   "metadata": {
    "dotnet_interactive": {
     "language": "csharp"
    }
   }
  },
  {
   "cell_type": "code",
   "execution_count": null,
   "source": [
    "Plot2Ddata[,] multiplots = new Plot2Ddata[1,1];\r\n",
    "multiplots[0,0] = SesTab.ToPlot(DoWhatUWant.Solver_DG_Proj(k),AofFormats.Length);\r\n",
    "multiplots[0,0].LogX = true;\r\n",
    "multiplots[0,0].LogY = true;\r\n",
    "multiplots[0,0].tmargin = 0;\r\n",
    "multiplots[0,0].bmargin = 5;\r\n",
    "multiplots[0,0].XrangeMin=xMin;\r\n",
    "multiplots[0,0].XrangeMax=xMax;\r\n",
    "multiplots[0,0].Ylabel = \"wallclock time\";\r\n",
    "multiplots[0,0].Xlabel = \"cores\";\r\n",
    "multiplots[0,0].LegendAlignment=new string[]{\"i\",\"b\",\"r\"};\r\n",
    "multiplots.PlotNow()"
   ],
   "outputs": [],
   "metadata": {
    "dotnet_interactive": {
     "language": "csharp"
    }
   }
  },
  {
   "cell_type": "code",
   "execution_count": null,
   "source": [],
   "outputs": [],
   "metadata": {
    "dotnet_interactive": {
     "language": "csharp"
    }
   }
  },
  {
   "cell_type": "code",
   "execution_count": null,
   "source": [],
   "outputs": [],
   "metadata": {
    "dotnet_interactive": {
     "language": "csharp"
    }
   }
  }
 ],
 "nbformat": 4,
 "nbformat_minor": 2
}