{
 "cells": [
  {
   "cell_type": "code",
   "execution_count": null,
   "source": [
    "#r \"./../../../../../../public/src/L4-application/BoSSSpad/bin/Release/net5.0/BoSSSpad.dll\"\r\n",
    "using System;\r\n",
    "using ilPSP;\r\n",
    "using ilPSP.Utils;\r\n",
    "using BoSSS.Platform;\r\n",
    "using BoSSS.Foundation;\r\n",
    "using BoSSS.Foundation.XDG;\r\n",
    "using BoSSS.Foundation.Grid;\r\n",
    "using BoSSS.Solution;\r\n",
    "\r\n",
    "using static BoSSS.Application.BoSSSpad.BoSSSshell;\r\n",
    "Init();"
   ],
   "outputs": [],
   "metadata": {
    "dotnet_interactive": {
     "language": "csharp"
    }
   }
  },
  {
   "cell_type": "code",
   "execution_count": null,
   "source": [
    "// set parameterz\r\n",
    "int[] core_sweep = {4,64};\r\n",
    "int[] PolyDegS = new int[] {2};\r\n",
    "int[] ResArray = new int[] {20};\r\n",
    "int MemoryPerCore = 2000;"
   ],
   "outputs": [],
   "metadata": {
    "dotnet_interactive": {
     "language": "csharp"
    }
   }
  },
  {
   "cell_type": "code",
   "execution_count": null,
   "source": [],
   "outputs": [],
   "metadata": {
    "dotnet_interactive": {
     "language": "csharp"
    }
   }
  },
  {
   "cell_type": "code",
   "execution_count": null,
   "source": [
    "ExecutionQueues"
   ],
   "outputs": [
    {
     "data": {
      "text/html": [
       "<table><thead><tr><th><i>index</i></th><th><i>type</i></th><th>DeploymentBaseDirectory</th><th>DeployRuntime</th><th>Name</th><th>DotnetRuntime</th><th>BatchInstructionDir</th><th>AllowedDatabasesPaths</th><th>Username</th><th>Password</th><th>ServerName</th><th>ComputeNodes</th><th>DefaultJobPriority</th><th>SingleNode</th><th>PrivateKeyFilePath</th><th>AdditionalBatchCommands</th><th>DeploymentBaseDirectoryAtRemote</th><th>SlurmAccount</th><th>Email</th><th>MonoDebug</th></tr></thead><tbody><tr><td>0</td><td>BoSSS.Application.BoSSSpad.MiniBatchProcessorClient</td><td>C:\\Users\\weber\\AppData\\Local\\BoSSS-LocalJobs</td><td><div class=\"dni-plaintext\">False</div></td><td>LocalPC</td><td>dotnet</td><td><div class=\"dni-plaintext\">&lt;null&gt;</div></td><td></td><td></td><td></td><td></td><td></td><td></td><td></td><td></td><td></td><td></td><td></td><td></td><td></td></tr><tr><td>1</td><td>BoSSS.Application.BoSSSpad.MsHPC2012Client</td><td>\\\\hpccluster\\hpccluster-scratch\\weber\\dply</td><td><div class=\"dni-plaintext\">True</div></td><td>FDY-cluster</td><td>dotnet</td><td></td><td><div class=\"dni-plaintext\">[ { \\\\hpccluster\\hpccluster-scratch\\weber == : LocalMountPath: \\\\hpccluster\\hpccluster-scratch\\weber, PathAtRemote:  } ]</div></td><td>FDY\\weber</td><td><div class=\"dni-plaintext\">&lt;null&gt;</div></td><td>DC2</td><td><div class=\"dni-plaintext\">[ HPCCLUSTER2 ]</div></td><td><span>Normal</span></td><td><div class=\"dni-plaintext\">True</div></td><td></td><td></td><td></td><td></td><td></td><td></td></tr><tr><td>2</td><td>BoSSS.Application.BoSSSpad.SlurmClient</td><td>X:\\Deployerie</td><td><div class=\"dni-plaintext\">True</div></td><td><div class=\"dni-plaintext\">&lt;null&gt;</div></td><td>dotnet</td><td></td><td></td><td>jw52xeqa</td><td><div class=\"dni-plaintext\">&lt;null&gt;</div></td><td>lcluster5.hrz.tu-darmstadt.de</td><td></td><td></td><td></td><td>C:\\Users\\weber\\.ssh\\id_rsa</td><td><div class=\"dni-plaintext\">&lt;null&gt;</div></td><td>/home/jw52xeqa/Deployerie</td><td>project01217</td><td><div class=\"dni-plaintext\">&lt;null&gt;</div></td><td><div class=\"dni-plaintext\">False</div></td></tr><tr><td>3</td><td>BoSSS.Application.BoSSSpad.SlurmClient</td><td>X:\\Deployerie</td><td><div class=\"dni-plaintext\">True</div></td><td>HHLR</td><td>dotnet</td><td></td><td><div class=\"dni-plaintext\">[ { W:\\work\\scratch\\jw52xeqa == /work/scratch/jw52xeqa: LocalMountPath: W:\\work\\scratch\\jw52xeqa, PathAtRemote: /work/scratch/jw52xeqa } ]</div></td><td>jw52xeqa</td><td><div class=\"dni-plaintext\">&lt;null&gt;</div></td><td>lcluster14.hrz.tu-darmstadt.de</td><td></td><td></td><td></td><td>C:\\Users\\weber\\.ssh\\id_rsa</td><td><div class=\"dni-plaintext\">[ #SBATCH -p test24, #SBATCH -C avx512 ]</div></td><td>/home/jw52xeqa/Deployerie</td><td>special00006</td><td><div class=\"dni-plaintext\">&lt;null&gt;</div></td><td><div class=\"dni-plaintext\">False</div></td></tr></tbody></table>"
      ]
     },
     "metadata": {},
     "output_type": "display_data"
    }
   ],
   "metadata": {
    "dotnet_interactive": {
     "language": "csharp"
    }
   }
  },
  {
   "cell_type": "code",
   "execution_count": null,
   "source": [
    "using BoSSS.Application.BoSSSpad;"
   ],
   "outputs": [],
   "metadata": {
    "dotnet_interactive": {
     "language": "csharp"
    }
   }
  },
  {
   "cell_type": "code",
   "execution_count": null,
   "source": [
    "// ==================================\r\n",
    "// setup Client & Workflow & Database\r\n",
    "// ==================================\r\n",
    "var myBatch = (MsHPC2012Client)ExecutionQueues[1];"
   ],
   "outputs": [],
   "metadata": {
    "dotnet_interactive": {
     "language": "csharp"
    }
   }
  },
  {
   "cell_type": "code",
   "execution_count": null,
   "source": [
    "\r\n",
    "string WFlowName = \"test\";\r\n",
    "BoSSS.Application.BoSSSpad.BoSSSshell.WorkflowMgm.Init(WFlowName);\r\n",
    "BoSSS.Application.BoSSSpad.BoSSSshell.WorkflowMgm.SetNameBasedSessionJobControlCorrelation();"
   ],
   "outputs": [
    {
     "output_type": "stream",
     "name": "stdout",
     "text": [
      "Project name is set to 'test'.\r\n"
     ]
    }
   ],
   "metadata": {
    "dotnet_interactive": {
     "language": "csharp"
    }
   }
  },
  {
   "cell_type": "code",
   "execution_count": null,
   "source": [
    "string dirname = \"DB_rotSphereBenchmark\";\r\n",
    "string winpath = @\"H:\\weber\\\"+dirname;\r\n",
    "//string winpath = @\"\\\\\\\\hpccluster\\\\hpccluster-scratch\\\\weber\\\"+dirname;\r\n",
    "var myDB = OpenOrCreateDatabase(winpath);\r\n",
    "myBatch.AllowedDatabasesPaths.Add(new AllowedDatabasesPair(myDB.Path,\"\"));"
   ],
   "outputs": [
    {
     "output_type": "stream",
     "name": "stdout",
     "text": [
      "Opening existing database 'H:\\weber\\DB_rotSphereBenchmark'.\r\n"
     ]
    }
   ],
   "metadata": {
    "dotnet_interactive": {
     "language": "csharp"
    }
   }
  },
  {
   "cell_type": "code",
   "execution_count": null,
   "source": [],
   "outputs": [],
   "metadata": {
    "dotnet_interactive": {
     "language": "csharp"
    }
   }
  },
  {
   "cell_type": "code",
   "execution_count": null,
   "source": [
    "static class Utils {\r\n",
    "    // DOF per cell in 3D\r\n",
    "    public static int Np(int p) {\r\n",
    "        return (p*p*p + 6*p*p + 11*p + 6)/6;\r\n",
    "    }    \r\n",
    "}"
   ],
   "outputs": [],
   "metadata": {
    "dotnet_interactive": {
     "language": "csharp"
    }
   }
  },
  {
   "cell_type": "code",
   "execution_count": null,
   "source": [],
   "outputs": [],
   "metadata": {
    "dotnet_interactive": {
     "language": "csharp"
    }
   }
  },
  {
   "cell_type": "code",
   "execution_count": null,
   "source": [
    "using BoSSS.Foundation.Grid.Classic;\r\n",
    "using BoSSS.Foundation.IO;"
   ],
   "outputs": [],
   "metadata": {
    "dotnet_interactive": {
     "language": "csharp"
    }
   }
  },
  {
   "cell_type": "code",
   "execution_count": null,
   "source": [],
   "outputs": [],
   "metadata": {
    "dotnet_interactive": {
     "language": "csharp"
    }
   }
  },
  {
   "cell_type": "code",
   "execution_count": null,
   "source": [
    "myDB.Grids"
   ],
   "outputs": [
    {
     "data": {
      "text/plain": [
       "#0: { Guid = 55fdd8ad-65ea-4f41-ae70-9c0d22396da8; Name = RotBenchmarkGrid; Cell Count = 8000; Dim = 3 }\r\n"
      ]
     },
     "metadata": {},
     "output_type": "display_data"
    }
   ],
   "metadata": {
    "dotnet_interactive": {
     "language": "csharp"
    }
   }
  },
  {
   "cell_type": "code",
   "execution_count": null,
   "source": [
    "double xMax = 1.0, yMax = 1.0, zMax=1.0;\r\n",
    "double xMin = -1.0, yMin = -1.0,zMin = -1.0;\r\n",
    "int SpaceDim=3;"
   ],
   "outputs": [],
   "metadata": {
    "dotnet_interactive": {
     "language": "csharp"
    }
   }
  },
  {
   "cell_type": "code",
   "execution_count": null,
   "source": [
    "List<string> controls = new List<string>();"
   ],
   "outputs": [],
   "metadata": {
    "dotnet_interactive": {
     "language": "csharp"
    }
   }
  },
  {
   "cell_type": "code",
   "execution_count": null,
   "source": [
    "List<IGridInfo> Grids = new List<IGridInfo>();\r\n",
    "foreach(var Res in ResArray){\r\n",
    "    var _xNodes = GenericBlas.Linspace(xMin, xMax, Res + 1);\r\n",
    "    var _yNodes = GenericBlas.Linspace(yMin, yMax, Res + 1);\r\n",
    "    var _zNodes = GenericBlas.Linspace(zMin, zMax, Res + 1);\r\n",
    "\r\n",
    "    GridCommons grd;\r\n",
    "    string gname = \"RotBenchmarkGrid\";\r\n",
    "    var tmp = myDB.Grids.Where(g=>g.Name.Equals(gname)&&g.NumberOfCells==Res*Res*Res);\r\n",
    "    if(tmp.Count()>=1){\r\n",
    "        Console.WriteLine(\"Grid found: \"+tmp.Pick(0).Name);\r\n",
    "        Grids.Add(tmp.Pick(0));\r\n",
    "        continue;\r\n",
    "    }\r\n",
    "    switch (SpaceDim) {\r\n",
    "        case 2:\r\n",
    "        grd = Grid2D.Cartesian2DGrid(_xNodes, _yNodes);\r\n",
    "        break;\r\n",
    "\r\n",
    "        case 3:\r\n",
    "        grd = Grid3D.Cartesian3DGrid(_xNodes, _yNodes, _zNodes);\r\n",
    "        break;\r\n",
    "\r\n",
    "        default:\r\n",
    "        throw new ArgumentOutOfRangeException();\r\n",
    "    }\r\n",
    "    grd.Name = gname;\r\n",
    "    //grd.AddPredefinedPartitioning(\"debug\", MakeDebugPart);\r\n",
    "\r\n",
    "    grd.EdgeTagNames.Add(1, \"Velocity_inlet\");\r\n",
    "    grd.EdgeTagNames.Add(2, \"Wall\");\r\n",
    "    grd.EdgeTagNames.Add(3, \"Pressure_Outlet\");\r\n",
    "\r\n",
    "    grd.DefineEdgeTags(delegate (double[] _X) {\r\n",
    "        var X = _X;\r\n",
    "        double x, y, z;\r\n",
    "        x = X[0];\r\n",
    "        y = X[1];\r\n",
    "        if (SpaceDim == 3)\r\n",
    "            z = X[2];\r\n",
    "\r\n",
    "        return 2;\r\n",
    "    });\r\n",
    "    myDB.SaveGrid(ref grd);\r\n",
    "    Grids.Add(grd);\r\n",
    "} Grids"
   ],
   "outputs": [
    {
     "output_type": "stream",
     "name": "stdout",
     "text": [
      "Grid found: RotBenchmarkGrid\r\n"
     ]
    },
    {
     "data": {
      "text/plain": [
       "#0: { Guid = 55fdd8ad-65ea-4f41-ae70-9c0d22396da8; Name = RotBenchmarkGrid; Cell Count = 8000; Dim = 3 }\r\n"
      ]
     },
     "metadata": {},
     "output_type": "display_data"
    }
   ],
   "metadata": {
    "dotnet_interactive": {
     "language": "csharp"
    }
   }
  },
  {
   "cell_type": "code",
   "execution_count": null,
   "source": [],
   "outputs": [],
   "metadata": {
    "dotnet_interactive": {
     "language": "csharp"
    }
   }
  },
  {
   "cell_type": "code",
   "execution_count": null,
   "source": [
    "using BoSSS.Solution.AdvancedSolvers;\r\n",
    "using BoSSS.Solution.Control;\r\n",
    "using BoSSS.Application.XNSE_Solver;\r\n",
    "using BoSSS.Solution.XNSECommon;\r\n",
    "using BoSSS.Solution.NSECommon;\r\n",
    "using BoSSS.Application.XNSE_Solver.LoadBalancing;\r\n",
    "using BoSSS.Solution.LevelSetTools;\r\n",
    "using BoSSS.Solution.XdgTimestepping;"
   ],
   "outputs": [],
   "metadata": {
    "dotnet_interactive": {
     "language": "csharp"
    }
   }
  },
  {
   "cell_type": "code",
   "execution_count": null,
   "source": [
    "bool useAMR = false;\r\n",
    "bool useLoadBal = true;\r\n",
    "int NoOfTimeSteps = 1;\r\n",
    "bool Steady = true;"
   ],
   "outputs": [],
   "metadata": {
    "dotnet_interactive": {
     "language": "csharp"
    }
   }
  },
  {
   "cell_type": "code",
   "execution_count": null,
   "source": [
    "Func<IGridInfo, int, XNSE_Control> GenXNSECtrl = delegate(IGridInfo grd, int k){\r\n",
    "    XNSE_Control C = new XNSE_Control();\r\n",
    "    // basic database options\r\n",
    "    // ======================\r\n",
    "\r\n",
    "    C.savetodb = true;\r\n",
    "    int J  = grd.NumberOfCells;\r\n",
    "    C.SessionName = string.Format(\"J{0}_k{1}\", J, k);\r\n",
    "    C.Tags.Add(SpaceDim + \"D\");\r\n",
    "\r\n",
    "    // DG degrees\r\n",
    "    // ==========\r\n",
    "    C.SetFieldOptions(k, Math.Max(k, 2));\r\n",
    "    C.saveperiod = 1;\r\n",
    "    //C.TracingNamespaces = \"*\";\r\n",
    "\r\n",
    "    C.GridGuid = grd.ID;\r\n",
    "    C.GridPartType = GridPartType.clusterHilbert;\r\n",
    "    C.DynamicLoadbalancing_ClassifierType = ClassifierType.CutCells;\r\n",
    "    C.DynamicLoadBalancing_On = useLoadBal;\r\n",
    "    C.DynamicLoadBalancing_RedistributeAtStartup = true;\r\n",
    "    C.DynamicLoadBalancing_Period = 1;\r\n",
    "    //C.SetDefaultEstimatorFactory();\r\n",
    "    C.DynamicLoadBalancing_ImbalanceThreshold = -0.1;\r\n",
    "\r\n",
    "\r\n",
    "    // Physical Parameters\r\n",
    "    // ===================\r\n",
    "    const double rhoA = 1;\r\n",
    "    const double muA = 1;\r\n",
    "    const double anglev = 10;\r\n",
    "    const double partRad = 0.261;\r\n",
    "    double[] pos = new double[SpaceDim];\r\n",
    "\r\n",
    "    C.PhysicalParameters.IncludeConvection = false;\r\n",
    "    C.PhysicalParameters.Material = true;\r\n",
    "    C.PhysicalParameters.rho_A = rhoA;\r\n",
    "    C.PhysicalParameters.mu_A = muA;\r\n",
    "\r\n",
    "    C.Rigidbody.SetParameters(pos,anglev,partRad,SpaceDim);\r\n",
    "    C.Rigidbody.SpecifyShape(Shape.Sphere);\r\n",
    "    //C.SetDefaultVelocityAtIB(pos,anglev,SpaceDim);\r\n",
    "    C.AddInitialValue(VariableNames.LevelSetCGidx(0), new Formula(\"X => -1\"));\r\n",
    "    C.UseImmersedBoundary = true;\r\n",
    "    //C.DefineSphere(pos,partRad,SpaceDim);\r\n",
    "    \r\n",
    "    C.AddInitialValue(\"Pressure\", new Formula(@\"X => 0\"));\r\n",
    "    C.AddBoundaryValue(\"Wall\");\r\n",
    "\r\n",
    "    C.CutCellQuadratureType = BoSSS.Foundation.XDG.XQuadFactoryHelper.MomentFittingVariants.Saye;\r\n",
    "    C.UseSchurBlockPrec = true;\r\n",
    "    C.AgglomerationThreshold = 0.1;\r\n",
    "    C.AdvancedDiscretizationOptions.ViscosityMode = ViscosityMode.FullySymmetric;\r\n",
    "    C.Option_LevelSetEvolution2 = LevelSetEvolution.Prescribed;\r\n",
    "    C.Option_LevelSetEvolution = LevelSetEvolution.None;\r\n",
    "    C.Timestepper_LevelSetHandling = LevelSetHandling.None;\r\n",
    "    C.LinearSolver.NoOfMultigridLevels = 5;\r\n",
    "    C.LinearSolver.ConvergenceCriterion = 1E-8;\r\n",
    "    C.LinearSolver.MaxSolverIterations = 100;\r\n",
    "    C.LinearSolver.MaxKrylovDim = 50;\r\n",
    "    C.LinearSolver.TargetBlockSize = 10000;\r\n",
    "    C.LinearSolver.verbose = true;\r\n",
    "    C.LinearSolver.SolverCode = LinearSolverCode.exp_Kcycle_schwarz;\r\n",
    "    C.NonLinearSolver.SolverCode = NonLinearSolverCode.Newton;\r\n",
    "    C.NonLinearSolver.ConvergenceCriterion = 1E-6;\r\n",
    "    C.NonLinearSolver.MaxSolverIterations = 50;\r\n",
    "    C.NonLinearSolver.verbose = true;\r\n",
    "\r\n",
    "    C.AdaptiveMeshRefinement = useAMR;\r\n",
    "    if (useAMR) {\r\n",
    "        C.SetMaximalRefinementLevel(2);\r\n",
    "        C.AMR_startUpSweeps = 1;\r\n",
    "    }\r\n",
    "\r\n",
    "    // Timestepping\r\n",
    "    // ============\r\n",
    "    double dt = -1;\r\n",
    "    if(Steady){\r\n",
    "        C.TimesteppingMode = AppControl._TimesteppingMode.Steady;\r\n",
    "        dt = 1000;\r\n",
    "        C.NoOfTimesteps = 1;\r\n",
    "    } else {\r\n",
    "        C.TimesteppingMode = AppControl._TimesteppingMode.Transient;        \r\n",
    "        dt = 0.1;        \r\n",
    "        C.NoOfTimesteps = NoOfTimeSteps;\r\n",
    "    }\r\n",
    "    C.TimeSteppingScheme = TimeSteppingScheme.ImplicitEuler;\r\n",
    "    C.dtFixed = dt;\r\n",
    "    return C;\r\n",
    "};"
   ],
   "outputs": [],
   "metadata": {
    "dotnet_interactive": {
     "language": "csharp"
    }
   }
  },
  {
   "cell_type": "code",
   "execution_count": null,
   "source": [
    "List<XNSE_Control> controls = new List<XNSE_Control>();\r\n",
    "foreach(IGridInfo grd in Grids){\r\n",
    "    foreach(int k in PolyDegS){\r\n",
    "        controls.Add(GenXNSECtrl(grd,k));\r\n",
    "    }\r\n",
    "} controls.Select(s=>s.SessionName)"
   ],
   "outputs": [
    {
     "data": {
      "text/html": [
       "<table><thead><tr><th><i>index</i></th><th>value</th></tr></thead><tbody><tr><td>0</td><td>J8000_k2</td></tr></tbody></table>"
      ]
     },
     "metadata": {},
     "output_type": "display_data"
    }
   ],
   "metadata": {
    "dotnet_interactive": {
     "language": "csharp"
    }
   }
  },
  {
   "cell_type": "code",
   "execution_count": null,
   "source": [
    "// ==========\r\n",
    "// Launch Job\r\n",
    "// ==========\r\n",
    "using BoSSS.Application.XNSE_Solver;\r\n",
    "using BoSSS.Application.BoSSSpad;"
   ],
   "outputs": [],
   "metadata": {
    "dotnet_interactive": {
     "language": "csharp"
    }
   }
  },
  {
   "cell_type": "code",
   "execution_count": null,
   "source": [],
   "outputs": [],
   "metadata": {
    "dotnet_interactive": {
     "language": "csharp"
    }
   }
  },
  {
   "cell_type": "code",
   "execution_count": null,
   "source": [],
   "outputs": [],
   "metadata": {
    "dotnet_interactive": {
     "language": "csharp"
    }
   }
  },
  {
   "cell_type": "code",
   "execution_count": null,
   "source": [
    "controls.Select(s=>s.SessionName)"
   ],
   "outputs": [
    {
     "data": {
      "text/html": [
       "<table><thead><tr><th><i>index</i></th><th>value</th></tr></thead><tbody><tr><td>0</td><td>J8000_k2</td></tr></tbody></table>"
      ]
     },
     "metadata": {},
     "output_type": "display_data"
    }
   ],
   "metadata": {
    "dotnet_interactive": {
     "language": "csharp"
    }
   }
  },
  {
   "cell_type": "code",
   "execution_count": null,
   "source": [
    "foreach(int cores in core_sweep){\r\n",
    "    foreach(var ctrl in controls){\r\n",
    "        var rnd = new Random();\r\n",
    "        ctrl.SessionName += \"_\"+rnd.Next(); \r\n",
    "        var aJob   = new Job(\"rotting_sphere\"+ctrl.SessionName,typeof(XNSE));\r\n",
    "        aJob.SetControlObject(ctrl);\r\n",
    "        //aJob.SetControlStatement(String.Format(@\"cs:BoSSS.Application.XNSE_Solver.HardcodedControl.Rotating_Cube({0}, {1}, {2},true,{3},true,false,true,false)\",2,10,3,10));\r\n",
    "        aJob.NumberOfMPIProcs         = cores;\r\n",
    "        aJob.ExecutionTime            = \"1:00:00\";\r\n",
    "        aJob.UseComputeNodesExclusive = true;\r\n",
    "        aJob.Activate(myBatch);\r\n",
    "    }\r\n",
    "}"
   ],
   "outputs": [
    {
     "output_type": "stream",
     "name": "stdout",
     "text": [
      "Deploying job rotting_sphereJ8000_k2_1100533799 ... \r\n",
      "Warning: no database is set for the job to submit; nothing ma be saved.\r\n",
      "Deploying executables and additional files ...\r\n",
      "Deployment directory: \\\\hpccluster\\hpccluster-scratch\\weber\\dply\\test-XNSE_Solver2021Sep01_154455\r\n",
      "copied 49 files.\r\n",
      "   written file: control.obj\r\n",
      "   copied 'amd64' runtime.\r\n",
      "deployment finished.\r\n",
      "\r\n"
     ]
    }
   ],
   "metadata": {
    "dotnet_interactive": {
     "language": "csharp"
    }
   }
  },
  {
   "cell_type": "code",
   "execution_count": null,
   "source": [],
   "outputs": [],
   "metadata": {
    "dotnet_interactive": {
     "language": "csharp"
    }
   }
  },
  {
   "cell_type": "code",
   "execution_count": null,
   "source": [],
   "outputs": [],
   "metadata": {
    "dotnet_interactive": {
     "language": "csharp"
    }
   }
  }
 ],
 "metadata": {
  "kernelspec": {
   "display_name": ".NET (C#)",
   "language": "C#",
   "name": ".net-csharp"
  },
  "language_info": {
   "file_extension": ".cs",
   "mimetype": "text/x-csharp",
   "name": "C#",
   "pygments_lexer": "csharp",
   "version": "9.0"
  },
  "orig_nbformat": 2
 },
 "nbformat": 4,
 "nbformat_minor": 2
}