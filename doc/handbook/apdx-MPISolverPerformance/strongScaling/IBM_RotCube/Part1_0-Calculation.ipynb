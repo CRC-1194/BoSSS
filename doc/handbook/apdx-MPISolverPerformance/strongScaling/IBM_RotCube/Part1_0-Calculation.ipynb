{
 "cells": [
  {
   "cell_type": "code",
   "execution_count": null,
   "source": [
    "#r \"./../../../../../../public/src/L4-application/BoSSSpad/bin/Release/net5.0/BoSSSpad.dll\"\r\n",
    "using System;\r\n",
    "using ilPSP;\r\n",
    "using ilPSP.Utils;\r\n",
    "using BoSSS.Platform;\r\n",
    "using BoSSS.Foundation;\r\n",
    "using BoSSS.Foundation.XDG;\r\n",
    "using BoSSS.Foundation.Grid;\r\n",
    "using BoSSS.Solution;\r\n",
    "using BoSSS.Application.XNSE_Solver;\r\n",
    "using BoSSS.Application.BoSSSpad;\r\n",
    "using BoSSS.Foundation.Grid.Classic;\r\n",
    "using BoSSS.Foundation.IO;\r\n",
    "using BoSSS.Solution.AdvancedSolvers;\r\n",
    "using BoSSS.Solution.Control;\r\n",
    "using BoSSS.Solution.XNSECommon;\r\n",
    "using BoSSS.Solution.NSECommon;\r\n",
    "using BoSSS.Application.XNSE_Solver.LoadBalancing;\r\n",
    "using BoSSS.Solution.LevelSetTools;\r\n",
    "using BoSSS.Solution.XdgTimestepping;\r\n",
    "\r\n",
    "using static BoSSS.Application.BoSSSpad.BoSSSshell;\r\n",
    "Init();"
   ],
   "outputs": [],
   "metadata": {
    "dotnet_interactive": {
     "language": "csharp"
    }
   }
  },
  {
   "cell_type": "code",
   "execution_count": null,
   "source": [
    "// set parameterz\r\n",
    "int[] core_sweep = {128};\r\n",
    "int[] PolyDegS = new int[] {3};\r\n",
    "int[] ResArray = new int[] {15};\r\n",
    "int MemoryPerCore = 2000;"
   ],
   "outputs": [],
   "metadata": {
    "dotnet_interactive": {
     "language": "csharp"
    }
   }
  },
  {
   "cell_type": "code",
   "execution_count": null,
   "source": [
    "bool useAMR = true;\r\n",
    "bool useLoadBal = true;\r\n",
    "int NoOfTimeSteps = 60;\r\n",
    "bool Steady = false;\r\n",
    "bool IncludeConvection = true;\r\n",
    "var Gshape = Shape.Cube;"
   ],
   "outputs": [],
   "metadata": {
    "dotnet_interactive": {
     "language": "csharp"
    }
   }
  },
  {
   "cell_type": "code",
   "execution_count": null,
   "source": [
    "ExecutionQueues"
   ],
   "outputs": [
    {
     "data": {
      "text/html": [
       "<table><thead><tr><th><i>index</i></th><th><i>type</i></th><th>DeploymentBaseDirectory</th><th>DeployRuntime</th><th>Name</th><th>DotnetRuntime</th><th>BatchInstructionDir</th><th>AllowedDatabasesPaths</th><th>Username</th><th>ServerName</th><th>ComputeNodes</th><th>DefaultJobPriority</th><th>SingleNode</th><th>Password</th><th>PrivateKeyFilePath</th><th>AdditionalBatchCommands</th><th>DeploymentBaseDirectoryAtRemote</th><th>SlurmAccount</th><th>Email</th><th>MonoDebug</th></tr></thead><tbody><tr><td>0</td><td>BoSSS.Application.BoSSSpad.MiniBatchProcessorClient</td><td>C:\\Users\\weber\\AppData\\Local\\BoSSS-LocalJobs</td><td><div class=\"dni-plaintext\">False</div></td><td>LocalPC</td><td>dotnet</td><td><div class=\"dni-plaintext\">&lt;null&gt;</div></td><td></td><td></td><td></td><td></td><td></td><td></td><td></td><td></td><td></td><td></td><td></td><td></td><td></td></tr><tr><td>1</td><td>BoSSS.Application.BoSSSpad.MsHPC2012Client</td><td>\\\\hpccluster\\hpccluster-scratch\\weber\\dply</td><td><div class=\"dni-plaintext\">True</div></td><td>FDY-cluster</td><td>dotnet</td><td></td><td><div class=\"dni-plaintext\">[ { \\\\hpccluster\\hpccluster-scratch\\weber == : LocalMountPath: \\\\hpccluster\\hpccluster-scratch\\weber, PathAtRemote:  } ]</div></td><td>FDY\\weber</td><td>DC2</td><td><div class=\"dni-plaintext\">[ HPCCLUSTER2 ]</div></td><td><span>Normal</span></td><td><div class=\"dni-plaintext\">True</div></td><td></td><td></td><td></td><td></td><td></td><td></td><td></td></tr><tr><td>2</td><td>BoSSS.Application.BoSSSpad.SlurmClient</td><td>X:\\Deployerie</td><td><div class=\"dni-plaintext\">True</div></td><td><div class=\"dni-plaintext\">&lt;null&gt;</div></td><td>dotnet</td><td></td><td></td><td>jw52xeqa</td><td>lcluster5.hrz.tu-darmstadt.de</td><td></td><td></td><td></td><td><div class=\"dni-plaintext\">&lt;null&gt;</div></td><td>C:\\Users\\weber\\.ssh\\id_rsa</td><td><div class=\"dni-plaintext\">&lt;null&gt;</div></td><td>/home/jw52xeqa/Deployerie</td><td>project01217</td><td><div class=\"dni-plaintext\">&lt;null&gt;</div></td><td><div class=\"dni-plaintext\">False</div></td></tr><tr><td>3</td><td>BoSSS.Application.BoSSSpad.SlurmClient</td><td>X:\\Deployerie</td><td><div class=\"dni-plaintext\">True</div></td><td>HHLR</td><td>dotnet</td><td></td><td><div class=\"dni-plaintext\">[ { W:\\work\\scratch\\jw52xeqa == /work/scratch/jw52xeqa: LocalMountPath: W:\\work\\scratch\\jw52xeqa, PathAtRemote: /work/scratch/jw52xeqa } ]</div></td><td>jw52xeqa</td><td>lcluster14.hrz.tu-darmstadt.de</td><td></td><td></td><td></td><td><div class=\"dni-plaintext\">&lt;null&gt;</div></td><td>C:\\Users\\weber\\.ssh\\id_rsa</td><td><div class=\"dni-plaintext\">[ #SBATCH -p test24, #SBATCH -C avx512 ]</div></td><td>/home/jw52xeqa/Deployerie</td><td>special00006</td><td><div class=\"dni-plaintext\">&lt;null&gt;</div></td><td><div class=\"dni-plaintext\">False</div></td></tr></tbody></table>"
      ]
     },
     "metadata": {},
     "output_type": "display_data"
    }
   ],
   "metadata": {
    "dotnet_interactive": {
     "language": "csharp"
    }
   }
  },
  {
   "cell_type": "code",
   "execution_count": null,
   "source": [
    "// ==================================\r\n",
    "// setup Client & Workflow & Database\r\n",
    "// ==================================\r\n",
    "var myBatch = (SlurmClient)ExecutionQueues[3];\r\n",
    "var AddSbatchCmds = new List<string>();\r\n",
    "AddSbatchCmds.AddRange(new string[]{\"#SBATCH -p test24\", \"#SBATCH -C avx512\", \"#SBATCH --mem-per-cpu=\"+MemoryPerCore});\r\n",
    "myBatch.AdditionalBatchCommands = AddSbatchCmds.ToArray();\r\n",
    "myBatch.AdditionalBatchCommands"
   ],
   "outputs": [
    {
     "data": {
      "text/html": [
       "<table><thead><tr><th><i>index</i></th><th>value</th></tr></thead><tbody><tr><td>0</td><td>#SBATCH -p test24</td></tr><tr><td>1</td><td>#SBATCH -C avx512</td></tr><tr><td>2</td><td>#SBATCH --mem-per-cpu=2000</td></tr></tbody></table>"
      ]
     },
     "metadata": {},
     "output_type": "display_data"
    }
   ],
   "metadata": {
    "dotnet_interactive": {
     "language": "csharp"
    }
   }
  },
  {
   "cell_type": "code",
   "execution_count": null,
   "source": [
    "//var myBatch = (MsHPC2012Client)ExecutionQueues[1];"
   ],
   "outputs": [],
   "metadata": {
    "dotnet_interactive": {
     "language": "csharp"
    }
   }
  },
  {
   "cell_type": "code",
   "execution_count": null,
   "source": [
    "string WFlowName = \"rotCube+Inlet_test\";\r\n",
    "BoSSS.Application.BoSSSpad.BoSSSshell.WorkflowMgm.Init(WFlowName);\r\n",
    "BoSSS.Application.BoSSSpad.BoSSSshell.WorkflowMgm.SetNameBasedSessionJobControlCorrelation();"
   ],
   "outputs": [],
   "metadata": {
    "dotnet_interactive": {
     "language": "csharp"
    }
   }
  },
  {
   "cell_type": "code",
   "execution_count": null,
   "source": [
    "myBatch.AllowedDatabasesPaths.Clear();\r\n",
    "//string dirname = \"DB_rotCubePaper\";\r\n",
    "//string dirname = \"DB_rotSphere_CoreScaling\";\r\n",
    "//string dirname = \"DB_rotSphere_DOFScaling\";\r\n",
    "string dirname =\"DB_rotCubePaper\";\r\n",
    "string winpath = @\"W:\\work\\scratch\\jw52xeqa\\\"+dirname;\r\n",
    "string remotepath = @\"/work/scratch/jw52xeqa/\"+dirname;\r\n",
    "//string winpath = @\"\\\\hpccluster\\hpccluster-scratch\\\"+dirname;\r\n",
    "var myDB = OpenOrCreateDatabase(winpath);\r\n",
    "//myBatch.AllowedDatabasesPaths.Add(new AllowedDatabasesPair(winpath,remotepath)); myBatch.AllowedDatabasesPaths"
   ],
   "outputs": [
    {
     "output_type": "error",
     "ename": "Error",
     "evalue": "System.IO.DirectoryNotFoundException: Could not find a part of the path 'W:\\work\\scratch\\jw52xeqa\\DB_rotCubePaper'.\r\n   at System.IO.FileSystem.CreateDirectory(String fullPath, Byte[] securityDescriptor)\r\n   at System.IO.DirectoryInfo.Create()\r\n   at BoSSS.Foundation.IO.DatabaseUtils.CreateDatabase(String dbDir) in B:\\BoSSS-smuda\\public\\src\\L2-foundation\\BoSSS.Foundation\\DatabaseUtils.cs:line 46\r\n   at BoSSS.Application.BoSSSpad.InteractiveShell.OpenOrCreateDatabase_Impl(String dbDir, Boolean allowCreation) in B:\\BoSSS-smuda\\public\\src\\L4-application\\BoSSSpad\\InteractiveShell.cs:line 352\r\n   at BoSSS.Application.BoSSSpad.BoSSSshell.OpenOrCreateDatabase(String dbDir) in B:\\BoSSS-smuda\\public\\src\\L4-application\\BoSSSpad\\BoSSSshell.cs:line 473\r\n   at Submission#18.<<Initialize>>d__0.MoveNext()\r\n--- End of stack trace from previous location ---\r\n   at Microsoft.CodeAnalysis.Scripting.ScriptExecutionState.RunSubmissionsAsync[TResult](ImmutableArray`1 precedingExecutors, Func`2 currentExecutor, StrongBox`1 exceptionHolderOpt, Func`2 catchExceptionOpt, CancellationToken cancellationToken)",
     "traceback": [
      "System.IO.DirectoryNotFoundException: Could not find a part of the path 'W:\\work\\scratch\\jw52xeqa\\DB_rotCubePaper'.\r\n",
      "   at System.IO.FileSystem.CreateDirectory(String fullPath, Byte[] securityDescriptor)\r\n",
      "   at System.IO.DirectoryInfo.Create()\r\n",
      "   at BoSSS.Foundation.IO.DatabaseUtils.CreateDatabase(String dbDir) in B:\\BoSSS-smuda\\public\\src\\L2-foundation\\BoSSS.Foundation\\DatabaseUtils.cs:line 46\r\n",
      "   at BoSSS.Application.BoSSSpad.InteractiveShell.OpenOrCreateDatabase_Impl(String dbDir, Boolean allowCreation) in B:\\BoSSS-smuda\\public\\src\\L4-application\\BoSSSpad\\InteractiveShell.cs:line 352\r\n",
      "   at BoSSS.Application.BoSSSpad.BoSSSshell.OpenOrCreateDatabase(String dbDir) in B:\\BoSSS-smuda\\public\\src\\L4-application\\BoSSSpad\\BoSSSshell.cs:line 473\r\n",
      "   at Submission#18.<<Initialize>>d__0.MoveNext()\r\n",
      "--- End of stack trace from previous location ---\r\n",
      "   at Microsoft.CodeAnalysis.Scripting.ScriptExecutionState.RunSubmissionsAsync[TResult](ImmutableArray`1 precedingExecutors, Func`2 currentExecutor, StrongBox`1 exceptionHolderOpt, Func`2 catchExceptionOpt, CancellationToken cancellationToken)"
     ]
    }
   ],
   "metadata": {
    "dotnet_interactive": {
     "language": "csharp"
    }
   }
  },
  {
   "cell_type": "code",
   "execution_count": null,
   "source": [
    "static class Utils {\r\n",
    "    // DOF per cell in 3D\r\n",
    "    public static int Np(int p) {\r\n",
    "        return (p*p*p + 6*p*p + 11*p + 6)/6;\r\n",
    "    }    \r\n",
    "}"
   ],
   "outputs": [],
   "metadata": {
    "dotnet_interactive": {
     "language": "csharp"
    }
   }
  },
  {
   "cell_type": "markdown",
   "source": [
    "using "
   ],
   "metadata": {}
  },
  {
   "cell_type": "code",
   "execution_count": null,
   "source": [
    "double xMax = 4.0, yMax = 1.0, zMax = 1.0;\r\n",
    "double xMin = -2.0, yMin = -1.0,zMin = -1.0;"
   ],
   "outputs": [],
   "metadata": {
    "dotnet_interactive": {
     "language": "csharp"
    }
   }
  },
  {
   "cell_type": "markdown",
   "source": [
    "double xMax = 1.0, yMax = 1.0, zMax=1.0;\r\n",
    "double xMin = -1.0, yMin = -1.0,zMin = -1.0;"
   ],
   "metadata": {}
  },
  {
   "cell_type": "code",
   "execution_count": null,
   "source": [
    "List<IGridInfo> Grids = new List<IGridInfo>();\r\n",
    "foreach(var Res in ResArray){\r\n",
    "    int Stretching = (int)Math.Floor(Math.Abs(xMax-xMin)/Math.Abs(yMax-yMin));\r\n",
    "    var _xNodes = GenericBlas.Linspace(xMin, xMax, Stretching*Res + 1);\r\n",
    "    var _yNodes = GenericBlas.Linspace(yMin, yMax, Res + 1);\r\n",
    "    var _zNodes = GenericBlas.Linspace(zMin, zMax, Res + 1);\r\n",
    "\r\n",
    "    GridCommons grd;\r\n",
    "    string gname = \"RotBenchmarkGrid\";\r\n",
    "    \r\n",
    "    var tmp = new List<IGridInfo>();\r\n",
    "    foreach(var grid in myDB.Grids){\r\n",
    "        try{\r\n",
    "            bool IsMatch = grid.Name.Equals(gname)&&grid.NumberOfCells==_xNodes.Length*_yNodes.Length*_zNodes.Length;\r\n",
    "            if(IsMatch) tmp.Add(grid);\r\n",
    "        }\r\n",
    "        catch(Exception ex) {\r\n",
    "            Console.WriteLine(ex.Message);\r\n",
    "        }\r\n",
    "    }\r\n",
    "    if(tmp.Count()>=1){\r\n",
    "        Console.WriteLine(\"Grid found: \"+tmp.Pick(0).Name);\r\n",
    "        Grids.Add(tmp.Pick(0));\r\n",
    "        continue;\r\n",
    "    }\r\n",
    "    \r\n",
    "    grd = Grid3D.Cartesian3DGrid(_xNodes, _yNodes, _zNodes);\r\n",
    "    grd.Name = gname;\r\n",
    "    //grd.AddPredefinedPartitioning(\"debug\", MakeDebugPart);\r\n",
    "\r\n",
    "    grd.EdgeTagNames.Add(1, \"Velocity_inlet\");\r\n",
    "    grd.EdgeTagNames.Add(2, \"Wall\");\r\n",
    "    grd.EdgeTagNames.Add(3, \"Pressure_Outlet\");\r\n",
    "\r\n",
    "    grd.DefineEdgeTags(delegate (double[] _X) {\r\n",
    "        var X = _X;\r\n",
    "        double x, y, z;\r\n",
    "        x = X[0];\r\n",
    "        y = X[1];\r\n",
    "        z = X[2];\r\n",
    "        if(Math.Abs(x-xMin)<1E-8)\r\n",
    "            return 1;\r\n",
    "        else\r\n",
    "            return 3;\r\n",
    "    });\r\n",
    "    myDB.SaveGrid(ref grd);\r\n",
    "    Grids.Add(grd);\r\n",
    "} Grids"
   ],
   "outputs": [
    {
     "output_type": "error",
     "ename": "Error",
     "evalue": "System.NullReferenceException: Object reference not set to an instance of an object.\r\n   at Submission#21.<<Initialize>>d__0.MoveNext()\r\n--- End of stack trace from previous location ---\r\n   at Microsoft.CodeAnalysis.Scripting.ScriptExecutionState.RunSubmissionsAsync[TResult](ImmutableArray`1 precedingExecutors, Func`2 currentExecutor, StrongBox`1 exceptionHolderOpt, Func`2 catchExceptionOpt, CancellationToken cancellationToken)",
     "traceback": [
      "System.NullReferenceException: Object reference not set to an instance of an object.\r\n",
      "   at Submission#21.<<Initialize>>d__0.MoveNext()\r\n",
      "--- End of stack trace from previous location ---\r\n",
      "   at Microsoft.CodeAnalysis.Scripting.ScriptExecutionState.RunSubmissionsAsync[TResult](ImmutableArray`1 precedingExecutors, Func`2 currentExecutor, StrongBox`1 exceptionHolderOpt, Func`2 catchExceptionOpt, CancellationToken cancellationToken)"
     ]
    }
   ],
   "metadata": {
    "dotnet_interactive": {
     "language": "csharp"
    }
   }
  },
  {
   "cell_type": "code",
   "execution_count": null,
   "source": [
    "int SpaceDim = 3;\r\n",
    "double _partRad = 0.3800;"
   ],
   "outputs": [],
   "metadata": {
    "dotnet_interactive": {
     "language": "csharp"
    }
   }
  },
  {
   "cell_type": "code",
   "execution_count": null,
   "source": [
    "_partRad/(2/(double)ResArray[0]/4)"
   ],
   "outputs": [
    {
     "data": {
      "text/html": [
       "<div class=\"dni-plaintext\">11.4</div>"
      ]
     },
     "metadata": {},
     "output_type": "display_data"
    }
   ],
   "metadata": {
    "dotnet_interactive": {
     "language": "csharp"
    }
   }
  },
  {
   "cell_type": "code",
   "execution_count": null,
   "source": [
    "Func<IGridInfo, int, double, XNSE_Control> GenXNSECtrl = delegate(IGridInfo grd, int k, double Viscosity){\r\n",
    "    XNSE_Control C = new XNSE_Control();\r\n",
    "    // basic database options\r\n",
    "    // ======================\r\n",
    "    C.AlternateDbPaths = new[] {\r\n",
    "        (winpath, \"\"),\r\n",
    "        (remotepath,\"\")};\r\n",
    "    //C.DbPath=@\"\\\\hpccluster\\hpccluster-scratch\\DB_rotSphereBenchmark\";\r\n",
    "    C.savetodb = true;\r\n",
    "    int J  = grd.NumberOfCells;\r\n",
    "    C.SessionName = string.Format(\"J{0}_k{1}_t{2}\", J, k,NoOfTimeSteps);\r\n",
    "    if(IncludeConvection){\r\n",
    "        C.SessionName += \"_NSE\";\r\n",
    "        C.Tags.Add(\"NSE\");\r\n",
    "    } else {\r\n",
    "        C.SessionName += \"_Stokes\";\r\n",
    "        C.Tags.Add(\"Stokes\");\r\n",
    "    }\r\n",
    "    C.Tags.Add(SpaceDim + \"D\");\r\n",
    "    if(Steady)C.Tags.Add(\"steady\");\r\n",
    "    else C.Tags.Add(\"transient\");\r\n",
    "\r\n",
    "    // DG degrees\r\n",
    "    // ==========\r\n",
    "    C.SetFieldOptions(k, Math.Max(k, 2));\r\n",
    "    C.saveperiod = 1;\r\n",
    "    //C.TracingNamespaces = \"*\";\r\n",
    "\r\n",
    "    C.GridGuid = grd.ID;\r\n",
    "    C.GridPartType = GridPartType.clusterHilbert;\r\n",
    "    C.DynamicLoadbalancing_ClassifierType = ClassifierType.CutCells;\r\n",
    "    C.DynamicLoadBalancing_On = useLoadBal;\r\n",
    "    C.DynamicLoadBalancing_RedistributeAtStartup = true;\r\n",
    "    C.DynamicLoadBalancing_Period = 1;\r\n",
    "    C.DynamicLoadBalancing_ImbalanceThreshold = 0.1;\r\n",
    "\r\n",
    "\r\n",
    "    // Physical Parameters\r\n",
    "    // ===================\r\n",
    "    const double rhoA = 1;\r\n",
    "    const double Re = 100;\r\n",
    "    double muA = Viscosity;\r\n",
    "    \r\n",
    "    double partRad = _partRad;\r\n",
    "    double d_hyd = 2*partRad;\r\n",
    "    double anglev = Re*muA/rhoA/d_hyd;\r\n",
    "    double VelocityIn = Re*muA/rhoA/d_hyd;\r\n",
    "    double[] pos = new double[SpaceDim];\r\n",
    "    double ts = Math.PI/anglev/NoOfTimeSteps;\r\n",
    "    double inletdelay = 5*ts;\r\n",
    "\r\n",
    "    C.PhysicalParameters.IncludeConvection = IncludeConvection;\r\n",
    "    C.PhysicalParameters.Material = true;\r\n",
    "    C.PhysicalParameters.rho_A = rhoA;\r\n",
    "    C.PhysicalParameters.mu_A = muA;\r\n",
    "\r\n",
    "    C.Rigidbody.SetParameters(pos,anglev,partRad,SpaceDim);\r\n",
    "    C.Rigidbody.SpecifyShape(Gshape);\r\n",
    "    C.Rigidbody.SetRotationAxis(\"x\");\r\n",
    "    C.AddInitialValue(VariableNames.LevelSetCGidx(0), new Formula(\"X => -1\"));\r\n",
    "    C.UseImmersedBoundary = true;\r\n",
    "    \r\n",
    "    C.AddInitialValue(\"Pressure\", new Formula(@\"X => 0\"));\r\n",
    "    C.AddBoundaryValue(\"Pressure_Outlet\");\r\n",
    "    //C.AddBoundaryValue(\"Velocity_inlet\",\"VelocityX\",new Formula($\"(X,t) => {VelocityIn}*(double)(t<={inletdelay}?(t/{inletdelay}):1)\",true));\r\n",
    "    C.AddBoundaryValue(\"Velocity_inlet\",\"VelocityX\",new Formula($\"(X) => {VelocityIn}\"));\r\n",
    "\r\n",
    "    C.CutCellQuadratureType = BoSSS.Foundation.XDG.XQuadFactoryHelper.MomentFittingVariants.Saye;\r\n",
    "    C.UseSchurBlockPrec = true;\r\n",
    "    C.AgglomerationThreshold = 0.1;\r\n",
    "    C.AdvancedDiscretizationOptions.ViscosityMode = ViscosityMode.FullySymmetric;\r\n",
    "    C.Option_LevelSetEvolution2 = LevelSetEvolution.Prescribed;\r\n",
    "    C.Option_LevelSetEvolution = LevelSetEvolution.None;\r\n",
    "    C.Timestepper_LevelSetHandling = LevelSetHandling.Coupled_Once;\r\n",
    "    C.LinearSolver.NoOfMultigridLevels = 5;\r\n",
    "    C.LinearSolver.ConvergenceCriterion = 1E-6;\r\n",
    "    C.LinearSolver.MaxSolverIterations = 200;\r\n",
    "    C.LinearSolver.MaxKrylovDim = 50;\r\n",
    "    C.LinearSolver.TargetBlockSize = 10000;\r\n",
    "    C.LinearSolver.verbose = true;\r\n",
    "    C.LinearSolver.SolverCode = LinearSolverCode.exp_Kcycle_schwarz;\r\n",
    "    C.NonLinearSolver.SolverCode = NonLinearSolverCode.Newton;\r\n",
    "    C.NonLinearSolver.ConvergenceCriterion = 1E-3;\r\n",
    "    C.NonLinearSolver.MaxSolverIterations = 6;\r\n",
    "    C.NonLinearSolver.verbose = true;\r\n",
    "\r\n",
    "    C.AdaptiveMeshRefinement = useAMR;\r\n",
    "    if (useAMR) {\r\n",
    "        C.SetMaximalRefinementLevel(2);\r\n",
    "        C.AMR_startUpSweeps = 0;\r\n",
    "    }\r\n",
    "\r\n",
    "    // Timestepping\r\n",
    "    // ============\r\n",
    "    double dt = -1;\r\n",
    "    if(Steady){\r\n",
    "        C.TimesteppingMode = AppControl._TimesteppingMode.Steady;\r\n",
    "        dt = 1000;\r\n",
    "        C.NoOfTimesteps = 1;\r\n",
    "    } else {\r\n",
    "        C.TimesteppingMode = AppControl._TimesteppingMode.Transient;        \r\n",
    "        dt = ts;        \r\n",
    "        C.NoOfTimesteps = NoOfTimeSteps;\r\n",
    "    }\r\n",
    "    C.TimeSteppingScheme = TimeSteppingScheme.BDF2;\r\n",
    "    C.dtFixed = dt;\r\n",
    "    return C;\r\n",
    "};"
   ],
   "outputs": [],
   "metadata": {
    "dotnet_interactive": {
     "language": "csharp"
    }
   }
  },
  {
   "cell_type": "code",
   "execution_count": null,
   "source": [
    "var ViscositySweep = new double[]{1E-2};\r\n",
    "List<XNSE_Control> controls = new List<XNSE_Control>();\r\n",
    "foreach(IGridInfo grd in Grids){\r\n",
    "    foreach(int k in PolyDegS){\r\n",
    "        foreach(double v in ViscositySweep)\r\n",
    "            controls.Add(GenXNSECtrl(grd,k,v));\r\n",
    "    }\r\n",
    "} controls.Select(s=>s.SessionName)"
   ],
   "outputs": [
    {
     "data": {
      "text/html": [
       "<i>(empty)</i>"
      ]
     },
     "metadata": {},
     "output_type": "display_data"
    }
   ],
   "metadata": {
    "dotnet_interactive": {
     "language": "csharp"
    }
   }
  },
  {
   "cell_type": "markdown",
   "source": [],
   "metadata": {}
  },
  {
   "cell_type": "code",
   "execution_count": null,
   "source": [
    "controls.Select(s=>s.SessionName)"
   ],
   "outputs": [
    {
     "data": {
      "text/html": [
       "<i>(empty)</i>"
      ]
     },
     "metadata": {},
     "output_type": "display_data"
    }
   ],
   "metadata": {
    "dotnet_interactive": {
     "language": "csharp"
    }
   }
  },
  {
   "cell_type": "code",
   "execution_count": null,
   "source": [
    "static Func<int, int> NodeRegression = (int cores) => (int)Math.Ceiling(0.75*Math.Pow(cores,0.44));"
   ],
   "outputs": [],
   "metadata": {
    "dotnet_interactive": {
     "language": "csharp"
    }
   }
  },
  {
   "cell_type": "code",
   "execution_count": null,
   "source": [
    "NodeRegression(128)"
   ],
   "outputs": [
    {
     "data": {
      "text/html": [
       "<div class=\"dni-plaintext\">7</div>"
      ]
     },
     "metadata": {},
     "output_type": "display_data"
    }
   ],
   "metadata": {
    "dotnet_interactive": {
     "language": "csharp"
    }
   }
  },
  {
   "cell_type": "code",
   "execution_count": null,
   "source": [
    "foreach(var ctrl in controls){\r\n",
    "    string sessname = ctrl.SessionName;\r\n",
    "    foreach(int cores in core_sweep){\r\n",
    "        ctrl.SessionName = sessname + \"_c\"+cores+\"_mue_\"+ctrl.PhysicalParameters.mu_A;\r\n",
    "        var aJob   = new Job(\"rotting_\"+Gshape+ctrl.SessionName,typeof(XNSE));\r\n",
    "        aJob.SetControlObject(ctrl);\r\n",
    "        aJob.NumberOfMPIProcs         = cores;\r\n",
    "        aJob.ExecutionTime            = \"3:00:00\";\r\n",
    "        aJob.UseComputeNodesExclusive = true;\r\n",
    "\r\n",
    "        List<string> Cmdtmp = myBatch.AdditionalBatchCommands.ToList();\r\n",
    "        int NoOfNodes = 4;\r\n",
    "        Cmdtmp.Add($\"#SBATCH -N {NoOfNodes}\");\r\n",
    "        myBatch.AdditionalBatchCommands = Cmdtmp.ToArray();\r\n",
    "\r\n",
    "        aJob.Activate(myBatch);\r\n",
    "    }\r\n",
    "}"
   ],
   "outputs": [],
   "metadata": {
    "dotnet_interactive": {
     "language": "csharp"
    }
   }
  },
  {
   "cell_type": "code",
   "execution_count": null,
   "source": [],
   "outputs": [],
   "metadata": {
    "dotnet_interactive": {
     "language": "csharp"
    }
   }
  },
  {
   "cell_type": "code",
   "execution_count": null,
   "source": [],
   "outputs": [],
   "metadata": {
    "dotnet_interactive": {
     "language": "csharp"
    }
   }
  }
 ],
 "metadata": {
  "kernelspec": {
   "display_name": ".NET (C#)",
   "language": "C#",
   "name": ".net-csharp"
  },
  "language_info": {
   "file_extension": ".cs",
   "mimetype": "text/x-csharp",
   "name": "C#",
   "pygments_lexer": "csharp",
   "version": "9.0"
  },
  "orig_nbformat": 2
 },
 "nbformat": 4,
 "nbformat_minor": 2
}