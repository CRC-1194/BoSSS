{
 "metadata": {
  "kernelspec": {
   "display_name": ".NET (C#)",
   "language": "C#",
   "name": ".net-csharp"
  },
  "language_info": {
   "name": "C#"
  }
 },
 "cells": [
  {
   "cell_type": "code",
   "execution_count": null,
   "source": [
    "#r \"./../../../../../../public/src/L4-application/BoSSSpad/bin/Release/net5.0/BoSSSpad.dll\"\r\n",
    "using System;\r\n",
    "using ilPSP;\r\n",
    "using ilPSP.Utils;\r\n",
    "using BoSSS.Platform;\r\n",
    "using BoSSS.Foundation;\r\n",
    "using BoSSS.Foundation.XDG;\r\n",
    "using BoSSS.Foundation.Grid;\r\n",
    "using BoSSS.Solution;\r\n",
    "using BoSSS.Application.XNSE_Solver;\r\n",
    "using System.IO;\r\n",
    "using BoSSS.Foundation.IO;\r\n",
    "using ilPSP.Tracing;\r\n",
    "using BoSSS.Application.BoSSSpad;\r\n",
    "\r\n",
    "using static BoSSS.Application.BoSSSpad.BoSSSshell;\r\n",
    "Init();"
   ],
   "outputs": [],
   "metadata": {
    "dotnet_interactive": {
     "language": "csharp"
    }
   }
  },
  {
   "cell_type": "code",
   "execution_count": null,
   "source": [
    "//var DB = OpenOrCreateDatabase(@\"W:\\work\\scratch\\jw52xeqa\\DB_rotSphereBenchmark\"); DB.Sessions\r\n",
    "var DB = OpenOrCreateDatabase(@\"W:\\work\\scratch\\jw52xeqa\\DB_rotSphere_CoreScaling\"); DB.Sessions"
   ],
   "outputs": [],
   "metadata": {
    "dotnet_interactive": {
     "language": "csharp"
    }
   }
  },
  {
   "cell_type": "code",
   "execution_count": null,
   "source": [
    "string WFlowName = \"weak_scaling_3_2\";\r\n",
    "var wfmgr = BoSSS.Application.BoSSSpad.BoSSSshell.WorkflowMgm;\r\n",
    "wfmgr.Init(WFlowName); wfmgr.Sessions"
   ],
   "outputs": [],
   "metadata": {
    "dotnet_interactive": {
     "language": "csharp"
    }
   }
  },
  {
   "cell_type": "code",
   "execution_count": null,
   "source": [
    "wfmgr.Sessions.Where(s=>!s.SuccessfulTermination).ForEach(s=>s.Delete(true));\r\n",
    "wfmgr.Init(WFlowName); wfmgr.Sessions"
   ],
   "outputs": [],
   "metadata": {
    "dotnet_interactive": {
     "language": "csharp"
    }
   }
  },
  {
   "cell_type": "code",
   "execution_count": null,
   "source": [
    "/*\r\n",
    "CG projection               -> ProjectDGField                               BoSSS.Foundation.ConstrainedDGprojection.ConstrainedDGField_Global.ProjectDGField\r\n",
    "dyn Loadbalancing           -> DoLoadbalancing                              BoSSS.Solution.Application`1.DoLoadbalancing\r\n",
    "AMR                         -> DoMeshAdaption                               BoSSS.Solution.Application`1.DoMeshAdaption\r\n",
    "compile Cut-cell quadrature -> Rule_Compilation_SayeGaussRuleFactory        Rule_Compilation_SayeGaussRuleFactory\r\n",
    "compile standard quadrature -> Rule_Compilation_StandardQuadRuleFactory     Rule_Compilation_StandardQuadRuleFactory\r\n",
    "matrix assembly             -> XdgMatrixAssembly                            BoSSS.Solution.XdgTimestepping.XdgBDFTimestepping.AssembleMatrixCallback\r\n",
    "agg basis init              -> Aggregation_basis_init_time                  BoSSS.Solution.AdvancedSolvers.XdgAggregationBasis.Update\r\n",
    "solver init                 -> Solver_Init_time                             Slv Init\r\n",
    "solver run                  -> Solver_Run_time                              Slv Iter\r\n",
    "I/O                         -> SaveToDatabase                               BoSSS.Solution.Application`1.SaveToDatabase\r\n",
    "*/"
   ],
   "outputs": [],
   "metadata": {
    "dotnet_interactive": {
     "language": "csharp"
    }
   }
  },
  {
   "cell_type": "code",
   "execution_count": null,
   "source": [
    "static var PreComputeProfiling = new Dictionary<System.Guid,MethodCallRecord[]>();\r\n",
    "foreach(var sess in wfmgr.Sessions){\r\n",
    "    MethodCallRecord[] mcrs = null;\r\n",
    "    try{\r\n",
    "        mcrs = sess.GetProfiling();\r\n",
    "    } catch (Exception ex){\r\n",
    "        Console.WriteLine(ex.Message);\r\n",
    "    }\r\n",
    "    PreComputeProfiling.Add(sess.ID, mcrs);\r\n",
    "}"
   ],
   "outputs": [],
   "metadata": {
    "dotnet_interactive": {
     "language": "csharp"
    }
   }
  },
  {
   "cell_type": "code",
   "execution_count": null,
   "source": [
    "static class AddCols {\r\n",
    "    static public MethodCallRecord[] GetMCR(ISessionInfo SI){\r\n",
    "        MethodCallRecord[] mcrs = null;\r\n",
    "        PreComputeProfiling.TryGetValue(SI.ID,out mcrs);\r\n",
    "        return mcrs;\r\n",
    "    }\r\n",
    "    static private double TimeOnProc(MethodCallRecord mcr, string method){\r\n",
    "        double time = 0;\r\n",
    "        foreach(var child in mcr.FindChildren(method)){\r\n",
    "            time += child.TimeSpentInMethod.TotalSeconds;\r\n",
    "            //time += child.TimeSpentInMPIBlocking.TotalSeconds;\r\n",
    "        }\r\n",
    "        /*\r\n",
    "        var child = mcr.FindChildren(method).Pick(0);\r\n",
    "        time = child.TimeExclusive.TotalSeconds;\r\n",
    "        */\r\n",
    "        /*\r\n",
    "        double time = -1;\r\n",
    "        foreach(var child in mcr.FindChildren(method)){\r\n",
    "            var childtime = child.TimeSpentInMethod.TotalSeconds;\r\n",
    "            //var childtime = child.TimeSpentInMPIBlocking.TotalSeconds;\r\n",
    "            time = childtime > time? childtime:time;\r\n",
    "        }\r\n",
    "        */\r\n",
    "        return time;\r\n",
    "    }\r\n",
    "    static public double AverageTime(ISessionInfo SI,string method){\r\n",
    "        var mcrs       = GetMCR(SI);\r\n",
    "        double avtime = 0;\r\n",
    "\r\n",
    "        foreach(var mcr in mcrs){\r\n",
    "            avtime+=TimeOnProc(mcr,method);\r\n",
    "        }\r\n",
    "        avtime = avtime / mcrs.Count();\r\n",
    "        return avtime;\r\n",
    "    }\r\n",
    "    static public double MaxTime(ISessionInfo SI,string method){\r\n",
    "        var mcrs       = GetMCR(SI);\r\n",
    "        double maxtime = -1;\r\n",
    "\r\n",
    "        foreach(var mcr in mcrs){\r\n",
    "            double time =TimeOnProc(mcr,method);    \r\n",
    "            maxtime = time>maxtime?time:maxtime;\r\n",
    "        }\r\n",
    "        return maxtime;\r\n",
    "    }\r\n",
    "    static public object LSolverIter(ISessionInfo SI){\r\n",
    "        var mcr          = GetMCR(SI)[0];\r\n",
    "        string searchstr = \"BoSSS.Solution.AdvancedSolvers.OrthonormalizationMultigrid.Solve\";\r\n",
    "        var ndS = mcr.FindChildren(searchstr);\r\n",
    "        var nd  = ndS.ElementAt(1);\r\n",
    "        return nd.CallCount;\r\n",
    "    }\r\n",
    "    static public object NLSolverIter(ISessionInfo SI){\r\n",
    "        var mcr          = GetMCR(SI)[0];\r\n",
    "        string searchstr = \"BoSSS.Solution.AdvancedSolvers.Newton.GlobalizedNewton\";\r\n",
    "        var ndS = mcr.FindChildren(searchstr);\r\n",
    "        var nd  = ndS.ElementAt(0);\r\n",
    "        return nd.CallCount;\r\n",
    "    }\r\n",
    "    static public object TotalRuntime(ISessionInfo SI){\r\n",
    "        return MaxTime(SI,\"root_frame\");\r\n",
    "    }\r\n",
    "    static public object MatrixAssembly_time(ISessionInfo SI) {\r\n",
    "        return MaxTime(SI,\"BoSSS.Solution.XdgTimestepping.XdgBDFTimestepping.AssembleMatrixCallback\");\r\n",
    "    }\r\n",
    "    static public object AggregationBaseInit_time(ISessionInfo SI) {\r\n",
    "        return MaxTime(SI,\"BoSSS.Solution.AdvancedSolvers.XdgAggregationBasis.Update\");\r\n",
    "    }\r\n",
    "    static public object SolverInit_time(ISessionInfo SI) {\r\n",
    "        return MaxTime(SI,\"Slv Init\");\r\n",
    "    }\r\n",
    "    static public object SolverRun_time(ISessionInfo SI) {\r\n",
    "        return MaxTime(SI,\"Slv Iter\");\r\n",
    "    }\r\n",
    "    static public object DataIO_time(ISessionInfo SI){\r\n",
    "        double sum = 0;\r\n",
    "        sum+=MaxTime(SI,\"BoSSS.Solution.Application`1.CreateOrLoadGrid\");\r\n",
    "        sum+=MaxTime(SI,\"BoSSS.Solution.Application`1.SaveToDatabase\");\r\n",
    "        return sum;\r\n",
    "    }\r\n",
    "    static public object CGProjection_time(ISessionInfo SI){\r\n",
    "        return MaxTime(SI,\"BoSSS.Foundation.ConstrainedDGprojection.ConstrainedDGField_Global.ProjectDGField\");\r\n",
    "    }\r\n",
    "    static public object SayeCompile_time(ISessionInfo SI){\r\n",
    "        return MaxTime(SI,\"Rule_Compilation_SayeGaussRuleFactory\");\r\n",
    "    }\r\n",
    "    static public object StandardCompile_time(ISessionInfo SI){\r\n",
    "        return MaxTime(SI,\"Rule_Compilation_StandardQuadRuleFactory\");\r\n",
    "    }\r\n",
    "    static public object AMR_time(ISessionInfo SI){\r\n",
    "        return MaxTime(SI,\"BoSSS.Solution.Application`1.DoMeshAdaption\");\r\n",
    "    }\r\n",
    "    static public object LoadBal_time(ISessionInfo SI){\r\n",
    "        return MaxTime(SI,\"BoSSS.Solution.Application`1.DoLoadbalancing\");\r\n",
    "    }\r\n",
    "    static public object NoOfCores(ISessionInfo SI){\r\n",
    "        return SI.ComputeNodeNames.Count();\r\n",
    "    }\r\n",
    "    static public object NoOfNodes(ISessionInfo SI){\r\n",
    "        return SI.ComputeNodeNames.GroupBy(s=>s).Count();\r\n",
    "    }\r\n",
    "    static public object MGDepth(ISessionInfo SI){\r\n",
    "        var mcr = GetMCR(SI)[0];\r\n",
    "        double NInit  = mcr.FindChildren(\"BoSSS.Solution.AdvancedSolvers.OrthonormalizationMultigrid.Init\").ToArray().Length;\r\n",
    "        return NInit + 1;\r\n",
    "    }\r\n",
    "    static public object DOF(ISessionInfo SI){\r\n",
    "        return SI.GetDOF(\"VelocityX\")*3+SI.GetDOF(\"Pressure\");\r\n",
    "    }\r\n",
    "    static public Func<ISessionInfo,object> FuncGenerator(string method){\r\n",
    "        return delegate (ISessionInfo SI){\r\n",
    "            return MaxTime(SI, method);\r\n",
    "        };\r\n",
    "    }\r\n",
    "}"
   ],
   "outputs": [],
   "metadata": {
    "dotnet_interactive": {
     "language": "csharp"
    }
   }
  },
  {
   "cell_type": "code",
   "execution_count": null,
   "source": [
    "wfmgr.Sessions.Select(s=>AddCols.LSolverIter(s))"
   ],
   "outputs": [],
   "metadata": {
    "dotnet_interactive": {
     "language": "csharp"
    }
   }
  },
  {
   "cell_type": "code",
   "execution_count": null,
   "source": [
    "wfmgr.AdditionalSessionTableColums.Clear();\r\n",
    "wfmgr.AdditionalSessionTableColums.Add(\"LSolverIter\", AddCols.LSolverIter);\r\n",
    "wfmgr.AdditionalSessionTableColums.Add(\"NLSolverIter\", AddCols.NLSolverIter);\r\n",
    "wfmgr.AdditionalSessionTableColums.Add(\"TotalRuntime\", AddCols.TotalRuntime);\r\n",
    "wfmgr.AdditionalSessionTableColums.Add(\"MatrixAssembly_time\", AddCols.MatrixAssembly_time);\r\n",
    "wfmgr.AdditionalSessionTableColums.Add(\"AggregationBaseInit_time\", AddCols.AggregationBaseInit_time);\r\n",
    "wfmgr.AdditionalSessionTableColums.Add(\"DataIO_time\", AddCols.DataIO_time);\r\n",
    "wfmgr.AdditionalSessionTableColums.Add(\"CGProjection_time\", AddCols.CGProjection_time);\r\n",
    "wfmgr.AdditionalSessionTableColums.Add(\"SayeCompile_time\", AddCols.SayeCompile_time);\r\n",
    "wfmgr.AdditionalSessionTableColums.Add(\"StandardCompile_time\",AddCols.StandardCompile_time);\r\n",
    "wfmgr.AdditionalSessionTableColums.Add(\"AMR_time\",AddCols.AMR_time);\r\n",
    "wfmgr.AdditionalSessionTableColums.Add(\"LoadBal_time\",AddCols.LoadBal_time);\r\n",
    "wfmgr.AdditionalSessionTableColums.Add(\"NoOfCores\",AddCols.NoOfCores);\r\n",
    "wfmgr.AdditionalSessionTableColums.Add(\"NoOfNodes\",AddCols.NoOfNodes);\r\n",
    "wfmgr.AdditionalSessionTableColums.Add(\"SolverInit_time\", AddCols.SolverInit_time);\r\n",
    "wfmgr.AdditionalSessionTableColums.Add(\"SolverRun_time\", AddCols.SolverRun_time);\r\n",
    "wfmgr.AdditionalSessionTableColums.Add(\"MGDepth\",AddCols.MGDepth);\r\n",
    "wfmgr.AdditionalSessionTableColums.Add(\"DOF\",AddCols.DOF);"
   ],
   "outputs": [],
   "metadata": {
    "dotnet_interactive": {
     "language": "csharp"
    }
   }
  },
  {
   "cell_type": "code",
   "execution_count": null,
   "source": [
    "string[] AdditionalTraces = new string[]{               \r\n",
    "    \"BoSSS.Solution.AdvancedSolvers.OrthonormalizationMultigrid.AddSol\",\r\n",
    "    \"BoSSS.Solution.AdvancedSolvers.Schwarz.Solve\",\r\n",
    "    \"BoSSS.Solution.AdvancedSolvers.OrthonormalizationMultigrid.MinimizeResidual\",\r\n",
    "    \"BoSSS.Solution.AdvancedSolvers.OrthonormalizationMultigrid.Residual\",\r\n",
    "    \"BoSSS.Solution.AdvancedSolvers.OrthonormalizationMultigrid.Solve\",\r\n",
    "    \"overlap_scaling\",\r\n",
    "    \"block_solve_level\",\r\n",
    "    \"caching\",\r\n",
    "    \"nocaching\",\r\n",
    "    \"BoSSS.Solution.AdvancedSolvers.OrthonormalizationMultigrid.VerivyCurrentResidual\",\r\n",
    "    \"Restriction\",\r\n",
    "    \"Prolongation\",\r\n",
    "    \"BoSSS.Solution.AdvancedSolvers.DirectSolver.Solve\"\r\n",
    "};"
   ],
   "outputs": [],
   "metadata": {
    "dotnet_interactive": {
     "language": "csharp"
    }
   }
  },
  {
   "cell_type": "code",
   "execution_count": null,
   "source": [
    "foreach(string Ftrace in AdditionalTraces){\r\n",
    "    string[] Schnipsel = Ftrace.Split('.');\r\n",
    "    int L = Schnipsel.Length;\r\n",
    "    string ColumnName = \"\";\r\n",
    "    if(L>1)\r\n",
    "        ColumnName = String.Concat(Schnipsel[L-2],'.',Schnipsel[L-1]);\r\n",
    "    else\r\n",
    "        ColumnName = Schnipsel.Last();\r\n",
    "\r\n",
    "    wfmgr.AdditionalSessionTableColums.Add(ColumnName,AddCols.FuncGenerator(Ftrace));\r\n",
    "}"
   ],
   "outputs": [],
   "metadata": {
    "dotnet_interactive": {
     "language": "csharp"
    }
   }
  },
  {
   "cell_type": "code",
   "execution_count": null,
   "source": [
    "var SessTab = wfmgr.SessionTable;\r\n",
    "SessTab.GetColumnNames().OrderBy(s=>s)"
   ],
   "outputs": [],
   "metadata": {
    "dotnet_interactive": {
     "language": "csharp"
    }
   }
  },
  {
   "cell_type": "code",
   "execution_count": null,
   "source": [
    "// The Session column can't be serialized,\r\n",
    "// we have to remove it\r\n",
    "List<string> AllCols = SessTab.GetColumnNames().ToList();\r\n",
    "AllCols.Remove(\"Session\");"
   ],
   "outputs": [],
   "metadata": {
    "dotnet_interactive": {
     "language": "csharp"
    }
   }
  },
  {
   "cell_type": "code",
   "execution_count": null,
   "source": [
    "SessTab.GetColumnNames().Where(s=>s.Contains(\"Depth\"))"
   ],
   "outputs": [],
   "metadata": {
    "dotnet_interactive": {
     "language": "csharp"
    }
   }
  },
  {
   "cell_type": "code",
   "execution_count": null,
   "source": [
    "SessTab = SessTab.ExtractColumns(AllCols.ToArray());\r\n",
    "// Filename\r\n",
    "string dirpath = Directory.GetCurrentDirectory();\r\n",
    "var now           = DateTime.Now;\r\n",
    "SessTab.TableName = WFlowName + \"_\" + now.Year + \"-\" + now.Month + \"-\" + now.Day;\r\n",
    "string docpath    = Path.Combine(dirpath, SessTab.TableName + \".json\");\r\n",
    "SessTab.SaveToFile(docpath); docpath"
   ],
   "outputs": [],
   "metadata": {
    "dotnet_interactive": {
     "language": "csharp"
    }
   }
  },
  {
   "cell_type": "code",
   "execution_count": null,
   "source": [
    "/*\r\n",
    "var SubTab = SessTab.ExtractColumns(\"LSolverIter\", \"NLSolverIter\", \"TotalRuntime\", \"MatrixAssembly_time\", \"AggregationBaseInit_time\", \"DataIO_time\", \"CGProjection_time\",\r\n",
    "\"SayeCompile_time\", \"StandardCompile_time\",\"AMR_time\",\"LoadBal_time\",\"NoOfCores\",\"NoOfNodes\",\"SolverInit_time\", \"SolverRun_time\", \"MGDepth\",\"DGdegree:Velocity*\");\r\n",
    "SubTab.ToCSVFile(dirpath+@\"\\table.csv\");dirpath\r\n",
    "*/"
   ],
   "outputs": [],
   "metadata": {
    "dotnet_interactive": {
     "language": "csharp"
    }
   }
  },
  {
   "cell_type": "code",
   "execution_count": null,
   "source": [],
   "outputs": [],
   "metadata": {
    "dotnet_interactive": {
     "language": "csharp"
    }
   }
  }
 ],
 "nbformat": 4,
 "nbformat_minor": 2
}