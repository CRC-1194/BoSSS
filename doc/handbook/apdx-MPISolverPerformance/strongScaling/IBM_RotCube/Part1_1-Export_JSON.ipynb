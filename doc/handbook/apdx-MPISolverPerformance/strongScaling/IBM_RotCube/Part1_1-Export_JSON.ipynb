{
 "metadata": {
  "kernelspec": {
   "display_name": ".NET (C#)",
   "language": "C#",
   "name": ".net-csharp"
  },
  "language_info": {
   "name": "C#"
  }
 },
 "cells": [
  {
   "cell_type": "code",
   "execution_count": null,
   "source": [
    "#r \"./../../../../../../public/src/L4-application/BoSSSpad/bin/Release/net5.0/BoSSSpad.dll\"\r\n",
    "using System;\r\n",
    "using ilPSP;\r\n",
    "using ilPSP.Utils;\r\n",
    "using BoSSS.Platform;\r\n",
    "using BoSSS.Foundation;\r\n",
    "using BoSSS.Foundation.XDG;\r\n",
    "using BoSSS.Foundation.Grid;\r\n",
    "using BoSSS.Solution;\r\n",
    "using BoSSS.Application.XNSE_Solver;\r\n",
    "using System.IO;\r\n",
    "using BoSSS.Foundation.IO;\r\n",
    "using ilPSP.Tracing;\r\n",
    "using BoSSS.Application.BoSSSpad;\r\n",
    "\r\n",
    "using static BoSSS.Application.BoSSSpad.BoSSSshell;\r\n",
    "Init();"
   ],
   "outputs": [],
   "metadata": {
    "dotnet_interactive": {
     "language": "csharp"
    }
   }
  },
  {
   "cell_type": "code",
   "execution_count": null,
   "source": [],
   "outputs": [],
   "metadata": {
    "dotnet_interactive": {
     "language": "csharp"
    }
   }
  },
  {
   "cell_type": "code",
   "execution_count": null,
   "source": [
    "var DB = OpenOrCreateDatabase(@\"W:\\work\\scratch\\jw52xeqa\\DB_rotSphereBenchmark\"); DB.Sessions"
   ],
   "outputs": [
    {
     "output_type": "stream",
     "name": "stdout",
     "text": [
      "Opening existing database 'W:\\work\\scratch\\jw52xeqa\\DB_rotSphereBenchmark'.\r\n"
     ]
    },
    {
     "data": {
      "text/plain": [
       "#0: rotCube+Inlet\tJ17496_k3_t60_NSE__c64_mue_0.01*\t09/16/2021 22:36:18\tce253fdb...\r\n",
       "#1: rotCube+Inlet\tJ17496_k3_t60_NSE__c64_mue_0.1*\t09/16/2021 22:33:35\tcfd627b8...\r\n",
       "#2: rotCube+Inlet\tJ10125_k4_t60_NSE__c64_mue_0.01__c64_mue_0.01*\t09/16/2021 22:24:51\t35d08e74...\r\n",
       "#3: rotCube+Inlet\tJ10125_k4_t60_NSE__c64_mue_0.1__c64_mue_0.1*\t09/16/2021 22:11:09\tae180d73...\r\n",
       "#4: rotCube+Inlet\tJ10125_k4_t60_NSE__c64_mue_0.1*\t09/16/2021 22:07:23\t879e8fe0...\r\n",
       "#5: rotCube+Inlet\tJ12288_k3_t60_NSE__c64_mue_0.01*\t09/16/2021 21:34:00\t2868a46e...\r\n",
       "#6: rotCube+Inlet\tJ10125_k3_t60_NSE_c128_mue_0.1__c128_mue_0.1*\t09/16/2021 01:59:20\t7d880f3c...\r\n",
       "#7: test\tJ17496_k4_t1_Stokes__c64_Re50_mue_1_c64_Re50_mue_1\t09/16/2021 00:00:54\t44e8924d...\r\n",
       "#8: test\tJ31944_k3_t1_Stokes__c64_Re50_mue_1_c64_Re50_mue_1\t09/16/2021 00:00:39\tb7e488f5...\r\n",
       "#9: test\tJ65856_k2_t1_Stokes__c64_Re50_mue_1_c64_Re50_mue_1\t09/16/2021 00:00:26\t1289adb3...\r\n",
       "#10: rotCube+Inlet\tJ10125_k3_t60_NSE_c64_mue_0.001*\t09/15/2021 15:29:43\t02b21330...\r\n",
       "#11: rotCube+Inlet_test_MUMPS\tJ10125_k3_t60_NSE_c64_mue_0.001_c64_mue_0.001_MUMPS*\t09/15/2021 12:41:35\tfd32dbf3...\r\n",
       "#12: rotCube+Inlet_showcase\tJ10125_k3_t60_NSE_c128_mue_0.01*\t09/15/2021 02:09:54\t4d22cf1d...\r\n",
       "#13: Benchmark_4\tJ12288_k4_t1_Stokes_c256_Re50_mue_1\t09/15/2021 00:41:05\tdb96d01a...\r\n",
       "#14: Benchmark_4\tJ12288_k4_t1_Stokes_c128_Re50_mue_1\t09/15/2021 00:40:02\t63a068d5...\r\n",
       "#15: Benchmark_4\tJ12288_k4_t1_Stokes_c8_Re50_mue_1\t09/15/2021 00:33:54\t7c7cda83...\r\n",
       "#16: Benchmark_4\tJ12288_k4_t1_Stokes_c32_Re50_mue_1\t09/15/2021 00:39:34\tf7b9d04b...\r\n",
       "#17: Benchmark_4\tJ12288_k4_t1_Stokes_c16_Re50_mue_1\t09/15/2021 00:33:57\tbc819739...\r\n",
       "#18: Benchmark_4\tJ46875_k2_t1_Stokes_c8_Re50_mue_1\t09/15/2021 00:31:23\t143ea4c2...\r\n",
       "#19: Benchmark_4\tJ46875_k2_t1_Stokes_c16_Re50_mue_1\t09/15/2021 00:31:55\ta0a2c07a...\r\n",
       "#20: Benchmark_4\tJ46875_k2_t1_Stokes_c32_Re50_mue_1\t09/15/2021 00:31:54\t6b249cab...\r\n",
       "#21: Benchmark_3\tJ12288_k4_t1_Stokes_c256_Re50_mue_1\t09/14/2021 22:57:10\t8008e0d4...\r\n",
       "#22: Benchmark_4\tJ12288_k4_t1_Stokes_c64_Re50_mue_1*\t09/15/2021 00:39:59\t3122c3a3...\r\n",
       "#23: Benchmark_4\tJ46875_k2_t1_Stokes_c256_Re50_mue_1\t09/15/2021 00:32:31\t3a8d9099...\r\n",
       "#24: Benchmark_4\tJ46875_k2_t1_Stokes_c64_Re50_mue_1\t09/15/2021 00:32:23\t47dcdbab...\r\n",
       "#25: Benchmark_4\tJ46875_k2_t1_Stokes_c128_Re50_mue_1\t09/15/2021 00:32:28\t86c6770d...\r\n",
       "#26: Benchmark_3\tJ31944_k3_t1_Stokes_c128_Re50_mue_1\t09/15/2021 00:20:16\tbb0209de...\r\n",
       "#27: Benchmark_3\tJ17496_k4_t1_Stokes_c128_Re50_mue_1*\t09/15/2021 00:18:49\t681db0e4...\r\n",
       "#28: Benchmark_3\tJ17496_k3_t1_NSE_c256_Re50_mue_1\t09/14/2021 22:29:55\tfb4e2569...\r\n",
       "#29: Benchmark_3\tJ17496_k4_t1_Stokes_c256_Re50_mue_1*\t09/14/2021 22:57:09\td604cb27...\r\n",
       "#30: Benchmark_3\tJ10125_k4_t1_Stokes_c256_Re50_mue_1*\t09/14/2021 22:56:37\t379226fa...\r\n",
       "#31: Benchmark_3\tJ17496_k4_t1_NSE_c256_Re50_mue_1*\t09/14/2021 22:38:29\t599f18d3...\r\n",
       "#32: Benchmark_3\tJ12288_k4_t1_NSE_c256_Re50_mue_1*\t09/14/2021 22:38:28\tbbce44d2...\r\n",
       "#33: Benchmark_3\tJ10125_k4_t1_NSE_c256_Re50_mue_1*\t09/14/2021 22:37:57\tc2cbf04c...\r\n",
       "#34: Benchmark_3\tJ31944_k3_t1_NSE_c256_Re50_mue_1*\t09/14/2021 22:30:25\teb6671e3...\r\n",
       "#35: Benchmark_3\tJ24000_k3_t1_NSE_c256_Re50_mue_1*\t09/14/2021 22:30:23\taf5ec46e...\r\n",
       "#36: rotCube+Inlet_showcase\tJ10125_k3_t60_NSE__c64_mue_0.001_c64_mue_0.001*\t09/14/2021 21:47:28\ta7e66d6a...\r\n",
       "#37: rotCube+Inlet_showcase\tJ10125_k3_t60_NSE__c64_mue_0.001__c64_mue_0.001*\t09/14/2021 21:46:04\t7182a315...\r\n",
       "#38: rotCube+Inlet_showcase\tJ10125_k3_t60_NSE__c64_mue_0.001*\t09/14/2021 10:52:42\t05d971f7...\r\n",
       "#39: rotCube+Inlet_showcase\tJ10125_k3_t60_NSE_c128_mue_0.001_c128_mue_0.001__c128_mue_0.001*\t09/14/2021 01:47:37\t8af78397...\r\n",
       "#40: rotCube+Inlet_showcase\tJ10125_k3_t60_NSE_c128_mue_0.001_c128_mue_0.001_c128_mue_0.001*\t09/14/2021 01:35:58\te05eedde...\r\n",
       "#41: rotCube+Inlet_showcase\tJ10125_k3_t60_NSE_c128_mue_0.001_c128_mue_0.001*\t09/14/2021 01:31:28\t0883d45d...\r\n",
       "#42: test\tJ24000_k3_t1_NSE__c256_Re50_mue_1*\t09/14/2021 00:12:21\t0702cd3b...\r\n",
       "#43: rotCube+Inlet_showcase\tJ17496_k3_t60_NSE_c64_mue_0.001*\t09/13/2021 23:31:19\t1a6cb82a...\r\n",
       "#44: rotSphere_Inlet_showcase\tJ10125_k3_t10_NSE__c256_Re50_mue_1__c256_Re50_mue_1\t09/13/2021 19:20:01\tcca5e1e8...\r\n",
       "#45: rotSphere_Inlet_showcase\tJ10125_k3_t10_NSE__c64_Re50_mue_1\t09/13/2021 19:28:11\t8e28bce4...\r\n",
       "#46: rotSphere_Inlet_showcase\tJ17496_k3_t10_NSE__c256_Re50_mue_1*\t09/13/2021 19:22:04\t0050c3df...\r\n",
       "#47: rotSphere_Inlet_showcase\tJ10125_k3_t10_NSE__c256_Re50_mue_0.1*\t09/13/2021 19:15:57\t3ac12385...\r\n",
       "#48: rotCube+Inlet_showcase\tJ6750_k3_t60_NSE_c256_mue_0.001_c128_mue_0.001*\t09/13/2021 19:03:38\tf8ef91f1...\r\n",
       "#49: rotCube+Inlet_showcase\tJ10125_k2_t60_NSE_c64_mue_0.001*\t09/13/2021 18:44:52\t02aa3d4f...\r\n",
       "#50: rotCube+Inlet_showcase\tJ10125_k3_t60_NSE_c128_mue_0.001*\t09/13/2021 18:35:09\t265e0a1c...\r\n",
       "#51: rotCube+Inlet_showcase\tJ6750_k3_t60_NSE_c256_mue_0.001_c256_mue_0.001*\t09/13/2021 17:59:04\t9c75a6b2...\r\n",
       "#52: rotCube+Inlet_showcase\tJ6750_k3_t60_NSE_c256_mue_0.001_c128_mue_0.001*\t09/13/2021 17:50:19\t78510692...\r\n",
       "#53: rotCube+Inlet_showcase\tJ6750_k3_t60_NSE_c64_mue_0.001_c64_mue_0.001_c64_mue_0.001*\t09/13/2021 14:18:31\tae775d94...\r\n",
       "#54: rotSphere_Inlet_showcase\tJ10125_k3_t10_NSE__c64_Re50_mue_1\t09/13/2021 12:48:07\tc5cbf592...\r\n",
       "#55: rotSphere_Inlet_showcase\tJ24000_k3_t10_NSE__c64_Re50_mue_1*\t09/13/2021 12:45:08\t854b6ce2...\r\n",
       "#56: rotCube+Inlet_showcase\tJ6750_k3_t60_NSE_c64_mue_0.001_c64_mue_0.001*\t09/13/2021 12:38:10\t42eb53b2...\r\n",
       "#57: rotSphere_Inlet_showcase\tJ24000_k3_t10_NSE__c64_Re50_mue_1\t09/12/2021 21:54:26\t6eb15da1...\r\n",
       "#58: rotSphere_Inlet_showcase\tJ24000_k3_t10_NSE_c64_Re50_mue_1__c64_Re50_mue_1\t09/12/2021 21:47:12\t97ce8aca...\r\n",
       "#59: rotCube+Inlet_showcase\tJ6750_k3_t60_NSE_c64_mue_0.001*\t09/12/2021 21:44:58\tff4f3f2a...\r\n",
       "#60: rotCube+Inlet_showcase\tJ6750_k3_t60_NSE_c64_mue_0.01*\t09/12/2021 21:43:47\t334b4ef3...\r\n",
       "#61: rotCube+Inlet_showcase\tJ6750_k3_t60_NSE_c64_mue_0.1*\t09/12/2021 21:42:00\tf5ec2fbf...\r\n",
       "#62: rotCube+Inlet_showcase\tJ6750_k3_t60_NSE_c64_mue_1*\t09/12/2021 21:39:18\t32de56d8...\r\n",
       "#63: rotSphere_Inlet_showcase\tJ24000_k3_t10_NSE_c64_Re50_mue_1\t09/11/2021 09:10:41\t34df472c...\r\n",
       "#64: rotCube+Inlet_showcase\tJ6750_k3_t60_NSE_c64_c64*\t09/11/2021 09:18:18\t83d74571...\r\n",
       "#65: rotSphere_Inlet_showcase\tJ24000_k3_t10_NSE_c64_Re50_mue_0.001*\t09/11/2021 09:16:09\t854b101d...\r\n",
       "#66: rotSphere_Inlet_showcase\tJ24000_k3_t10_NSE_c64_Re50_mue_0.01*\t09/11/2021 09:14:07\t68feec22...\r\n",
       "#67: rotSphere_Inlet_showcase\tJ24000_k3_t10_NSE_c64_Re50_mue_0.1*\t09/11/2021 09:13:03\t59e7e31b...\r\n",
       "#68: rotSphere_Inlet_showcase\tJ5184_k3_t10_NSE_c64Re100_c64Re100_c64_Re50_mue_1\t09/11/2021 01:21:01\t6a311015...\r\n",
       "#69: rotSphere_Inlet_showcase\tJ24000_k3_t10_NSE_c64_Re50_mue_0.01\t09/11/2021 01:29:24\t14bb4276...\r\n",
       "#70: rotSphere_Inlet_showcase\tJ24000_k3_t10_NSE_c64_Re50_mue_0.1\t09/11/2021 01:25:42\te5ba77b5...\r\n",
       "#71: rotSphere_Inlet_showcase\tJ24000_k3_t10_NSE_c64_Re50_mue_1\t09/11/2021 01:25:43\td990358d...\r\n",
       "#72: rotSphere_Inlet_showcase\tJ5184_k3_t10_NSE_c64Re100_c64Re100\t09/11/2021 00:34:25\t1f2a8e83...\r\n",
       "#73: rotCube+Inlet_showcase\tJ6750_k3_t60_NSE_c64*\t09/11/2021 01:20:26\t298ea184...\r\n",
       "#74: rotSphere_Inlet_showcase\tJ5184_k3_t10_NSE_c64OnlyChannel_highViscosity\t09/11/2021 00:24:08\t503213ef...\r\n",
       "#75: rotSphere_Inlet_showcase\tJ5184_k3_t10_NSE_c64OnlyChannel_highViscosity_Re50\t09/11/2021 00:24:24\t2afa57d2...\r\n",
       "#76: rotSphere_Inlet_showcase\tJ5184_k3_t10_NSE_c64Re100*\t09/11/2021 00:25:42\t70b96d32...\r\n",
       "#77: rotCube+Inlet_showcase\tJ3456_k3_t60_NSE_c64*\t09/11/2021 00:25:07\te7043a9e...\r\n",
       "#78: rotCube+Inlet_showcase\tJ3456_k2_t60_NSE_c64_c64*\t09/10/2021 23:04:28\t41a00dc8...\r\n",
       "#79: rotSphere_Inlet_showcase\tJ5184_k3_t10_NSE_c64OnlyChannel_c64OnlyChannel\t09/10/2021 22:53:04\t5fda7009...\r\n",
       "#80: rotSphere_Inlet_showcase\tJ5184_k3_t10_NSE_c64OnlyChannel*\t09/10/2021 22:33:44\t647ce6b4...\r\n",
       "#81: rotSphere_Inlet_showcase\tJ5184_k3_t10_NSE_c50haltsM_c50haltsM*\t09/10/2021 22:23:58\te5845287...\r\n",
       "#82: rotSphere_Inlet_showcase\tJ16000_k4_t1_NSE_c64Inletonly_c64Inletonly*\t09/10/2021 17:38:03\t66f26397...\r\n",
       "#83: rotSphere_Inlet_showcase\tJ16000_k4_t1_NSE_c64Inletonly*\t09/10/2021 16:18:36\td990a82d...\r\n",
       "#84: rotSphere_Inlet_showcase\tJ9826_k3_t1_NSE_c64_c64Inletonly\t09/10/2021 15:34:21\tcfc4fde2...\r\n",
       "#85: rotSphere_Inlet_showcase\tJ9826_k3_t1_NSE_c64\t09/10/2021 15:29:20\t2938e6a8...\r\n",
       "#86: rotSphere_Inlet_showcase\tJ16000_k2_t1_NSE_c64_c64_c64\t09/10/2021 00:47:26\t5917d740...\r\n",
       "#87: rotSphere_Inlet_showcase\tJ16000_k2_t1_NSE_c64_c64\t09/10/2021 00:01:50\ta7a3b24d...\r\n",
       "#88: rotSphere_Inlet_showcase\tJ16000_k2_t10_NSE_c64_c64*\t09/10/2021 00:10:31\t389417da...\r\n",
       "#89: rotSphere_Inlet_showcase\tJ16000_k2_t10_NSE_c64*\t09/10/2021 00:10:18\t00aa3ca5...\r\n",
       "#90: rotSphere_Inlet_showcase\tJ16000_k2_t1_NSE_c64\t09/09/2021 22:33:12\t85542350...\r\n",
       "#91: rotSphere_Inlet_showcase\tJ6750_k2_t1_NSE_c64\t09/09/2021 22:31:52\t238a9c2f...\r\n",
       "#92: rotSphere_Inlet_showcase\tJ6750_k2_t1_NSE_c64\t09/09/2021 21:52:43\t64c87dc7...\r\n",
       "#93: rotSphere_Inlet_showcase\tJ3456_k2_t1_NSE_c64_c64_langsamer\t09/09/2021 21:50:54\t88c655a2...\r\n",
       "#94: rotSphere_Inlet_showcase\tJ3456_k2_t1_NSE_c64\t09/09/2021 21:47:38\t6eb34a7e...\r\n",
       "#95: rotCube_showcase\tJ8000_k2_t60_NSE_c64__c64*\t09/09/2021 18:35:34\t84bb2210...\r\n",
       "#96: rotCube+Inlet_showcase\tJ3456_k2_t60_NSE_c64*\t09/09/2021 18:34:05\tf625d5bd...\r\n",
       "#97: rotCube_showcase\tJ8000_k2_t60_NSE_c64_c64_c64_c64*\t09/09/2021 18:04:09\t6f975061...\r\n",
       "#98: rotCube_showcase\tJ8000_k2_t60_NSE_c32*\t09/09/2021 12:06:54\td0575841...\r\n",
       "#99: rotCube_showcase\tJ8000_k2_t60_NSE_c64_c64_c64*\t09/09/2021 12:05:47\t0054f34a...\r\n",
       "#100: rotCube_showcase\tJ8000_k2_t60_NSE_c64_c64*\t09/09/2021 11:26:35\te8442a5f...\r\n",
       "#101: DOF_scaling\tJ42875_k3_t1_Stokes_c128\t09/08/2021 23:41:30\t1504789e...\r\n",
       "#102: rotCube_showcase\tJ8000_k2_t60_NSE_c64*\t09/08/2021 23:54:59\t4d34b110...\r\n",
       "#103: DOF_scaling\tJ24389_k4_t1_Stokes_c128_c128*\t09/08/2021 23:40:47\t826b4eb4...\r\n",
       "#104: DOF_scaling\tJ24389_k4_t1_Stokes_c128*\t09/08/2021 23:39:16\t9dfcf6cd...\r\n",
       "#105: DOF_scaling\tJ24389_k4_t1_Stokes_c16*\t09/08/2021 23:32:38\t2916bb3e...\r\n",
       "#106: scaling\tJ24389_k4_t1_Stokes_c256_c256_c256*\t09/08/2021 23:21:53\t7e4b259e...\r\n",
       "#107: scaling\tJ42875_k3_t1_Stokes_c256_c256_c256*\t09/08/2021 23:21:33\t03f29050...\r\n",
       "#108: showcase_RotCube\tJ8000_k2_t10_NSE_c64_c64*\t09/08/2021 21:36:30\ta6fe2f69...\r\n",
       "#109: showcase_RotCube\tJ8000_k2_t10_NSE_c128_cachingOff_c128_cachingOff*\t09/08/2021 21:36:28\t2c132a3b...\r\n",
       "#110: showcase_RotCube\tJ8000_k2_t10_NSE_c64_cachingOff_c64_cachingOff*\t09/08/2021 21:35:04\t4462574d...\r\n",
       "#111: showcase_RotCube\tJ8000_k2_t10_NSE_c64_cachingOff*\t09/08/2021 19:58:12\tf67af8b7...\r\n",
       "#112: showcase_RotCube\tJ8000_k2_t10_NSE_c128_cachingOff*\t09/08/2021 19:53:45\t1386fd7d...\r\n",
       "#113: showcase_RotCube\tJ8000_k2_t10_NSE_c128_c128*\t09/08/2021 19:32:14\t637006c7...\r\n",
       "#114: scaling\tJ42875_k3_t1_Stokes_c128_c128\t09/08/2021 18:24:26\tf5d02940...\r\n",
       "#115: showcase_RotCube\tJ8000_k2_t10_NSE_c128*\t09/08/2021 18:41:33\te90e97ad...\r\n",
       "#116: showcase_RotCube\tJ8000_k2_t10_NSE_c64*\t09/08/2021 18:41:28\t62a29dfd...\r\n",
       "#117: scaling\tJ42875_k3_t1_Stokes_c128_c8*\t09/08/2021 18:24:10\t03cc22b5...\r\n",
       "#118: scaling\tJ24389_k4_t1_Stokes_c128*\t09/08/2021 18:22:59\t0611012d...\r\n",
       "#119: scaling\tJ24389_k4_t1_Stokes_c8*\t09/08/2021 18:22:48\te2dcc257...\r\n",
       "#120: scaling\tJ91125_k2_t1_Stokes_c256_c256\t09/08/2021 14:18:53\t5b1e638e...\r\n",
       "#121: scaling\tJ91125_k2_t1_Stokes_c256\t09/08/2021 14:14:59\ted7f2484...\r\n",
       "#122: scaling\tJ42875_k3_t1_Stokes_c256_c256*\t09/08/2021 14:14:16\t80233b39...\r\n",
       "#123: scaling\tJ24389_k4_t1_Stokes_c256_c256*\t09/08/2021 14:13:09\tbeb1d87b...\r\n",
       "#124: debugging\tJ24389_k4_t1_Stokes__c256*\t09/08/2021 01:05:50\t8e4e8cc1...\r\n",
       "#125: debugging\tJ24389_k4_t1_Stokes__c64*\t09/08/2021 01:05:32\ta6b592e8...\r\n",
       "#126: rotSphere_debugging\tJ24389_k4_t1_Stokes_c64*\t09/08/2021 00:34:59\td4b2a981...\r\n",
       "#127: rotSphere_debugging\tJ5832_k4_t1_Stokes__c64_c64*\t09/08/2021 00:19:22\t9ad0ed32...\r\n",
       "#128: rotSphere_debugging\tJ24389_k4_t1_Stokes__c64*\t09/08/2021 00:08:24\t7653abe5...\r\n",
       "#129: rotSphere_debugging\tJ5832_k4_t1_Stokes__c64*\t09/08/2021 00:07:52\t342a162a...\r\n",
       "#130: test_RotCube\tJ8000_k2_t10_NSE_c16__c16\t09/07/2021 21:01:39\tc52ee1d3...\r\n",
       "#131: showcase_RotCube\tJ5832_k2_t1_Stokes_c64*\t09/07/2021 21:54:55\t6fbd6e89...\r\n",
       "#132: showcase_RotCube\tJ5832_k2_t1_Stokes_c16*\t09/07/2021 21:54:16\t9ae8bc3a...\r\n",
       "#133: test_RotCube\tJ8000_k2_t10_NSE_c16\t09/07/2021 20:51:40\tcee42399...\r\n",
       "#134: showcase_RotCube\tJ8000_k2_t60_NSE_c64*\t09/07/2021 21:32:20\t346d7d84...\r\n",
       "#135: test_RotCube\tJ8000_k2_t10_NSE__c16_c16*\t09/07/2021 20:26:03\tdfbdc791...\r\n",
       "#136: test_RotCube\tJ8000_k2_t10_NSE__c16*\t09/07/2021 20:21:40\t342b60dd...\r\n",
       "#137: test_pressure_outwalls\tJ3375_k4_t1_Stokes_c16__c16\t09/05/2021 01:50:41\t157e3a3b...\r\n",
       "#138: test_pressure_outwalls\tJ1728_k4_t1_Stokes_c16*\t09/05/2021 01:45:33\tf4df450c...\r\n",
       "#139: test_pressure_outwalls\tJ3375_k4_t1_Stokes_c16*\t09/05/2021 01:45:04\t6ecabd46...\r\n",
       "#140: rotCube_testRun\tJ8000_k2_t60_Stokes__c64AMRoff\t09/04/2021 23:37:22\t51f00d70...\r\n",
       "#141: rotCube_testRun\tJ8000_k2_t60_Stokes__c64*\t09/04/2021 23:36:11\t1081a95d...\r\n",
       "#142: rotCube_testRun\tJ8000_k2_t60_Stokes_c64*\t09/04/2021 23:27:19\t55ead62d...\r\n",
       "#143: IBM_RotCube\tJ729_k4_t1_Stokes__c16\t09/04/2021 23:10:56\t9872ea69...\r\n",
       "#144: IBM_RotCube\tJ1728_k4_t1_Stokes__c16*\t09/04/2021 23:10:56\t09778cb7...\r\n",
       "#145: IBM_RotCube\tJ8000_k2_t60_Stokes_c64__c64*\t09/04/2021 22:20:08\t76c39db1...\r\n",
       "#146: IBM_RotCube\tJ8000_k2_t60_Stokes_c16*\t09/04/2021 02:02:14\t2f8b05f6...\r\n",
       "#147: IBM_RotCube\tJ8000_k2_t60_Stokes_c8*\t09/04/2021 02:01:16\t6b4c9c28...\r\n",
       "#148: IBM_RotCube\tJ2197_k4_t60_Stokes_c128*\t09/04/2021 01:29:53\t68c4536c...\r\n",
       "#149: IBM_RotCube\tJ2197_k4_t60_Stokes_c64*\t09/04/2021 01:28:19\t5e28ec3b...\r\n",
       "#150: IBM_RotCube\tJ8000_k2_t60_Stokes_c128*\t09/04/2021 01:27:09\td0cad3ed...\r\n",
       "#151: IBM_RotCube\tJ8000_k2_t60_Stokes_c64*\t09/04/2021 01:25:08\tce82b76c...\r\n",
       "#152: IBM_RotSphere\tJ15625_k2_t60_Stokes_c128*\t09/04/2021 00:43:56\t979e41ed...\r\n",
       "#153: IBM_RotSphere\tJ15625_k2_t60_Stokes_c64*\t09/04/2021 00:40:08\td5356f5a...\r\n",
       "#154: IBM_RotSphere\tJ4096_k4_t60_Stokes_c128*\t09/04/2021 00:33:21\td6e94b6d...\r\n",
       "#155: IBM_RotSphere\tJ4096_k4_t60_Stokes_c64*\t09/04/2021 00:30:40\t28dba334...\r\n"
      ]
     },
     "metadata": {},
     "output_type": "display_data"
    }
   ],
   "metadata": {
    "dotnet_interactive": {
     "language": "csharp"
    }
   }
  },
  {
   "cell_type": "code",
   "execution_count": null,
   "source": [
    "string WFlowName = \"Benchmark_4\";\r\n",
    "var wfmgr = BoSSS.Application.BoSSSpad.BoSSSshell.WorkflowMgm;\r\n",
    "wfmgr.Init(WFlowName); wfmgr.Sessions"
   ],
   "outputs": [
    {
     "output_type": "stream",
     "name": "stdout",
     "text": [
      "Project name is set to 'Benchmark_4'.\r\n"
     ]
    },
    {
     "data": {
      "text/plain": [
       "#0: Benchmark_4\tJ12288_k4_t1_Stokes_c256_Re50_mue_1\t09/15/2021 00:41:05\tdb96d01a...\r\n",
       "#1: Benchmark_4\tJ12288_k4_t1_Stokes_c128_Re50_mue_1\t09/15/2021 00:40:02\t63a068d5...\r\n",
       "#2: Benchmark_4\tJ12288_k4_t1_Stokes_c8_Re50_mue_1\t09/15/2021 00:33:54\t7c7cda83...\r\n",
       "#3: Benchmark_4\tJ12288_k4_t1_Stokes_c32_Re50_mue_1\t09/15/2021 00:39:34\tf7b9d04b...\r\n",
       "#4: Benchmark_4\tJ12288_k4_t1_Stokes_c16_Re50_mue_1\t09/15/2021 00:33:57\tbc819739...\r\n",
       "#5: Benchmark_4\tJ46875_k2_t1_Stokes_c8_Re50_mue_1\t09/15/2021 00:31:23\t143ea4c2...\r\n",
       "#6: Benchmark_4\tJ46875_k2_t1_Stokes_c16_Re50_mue_1\t09/15/2021 00:31:55\ta0a2c07a...\r\n",
       "#7: Benchmark_4\tJ46875_k2_t1_Stokes_c32_Re50_mue_1\t09/15/2021 00:31:54\t6b249cab...\r\n",
       "#8: Benchmark_4\tJ12288_k4_t1_Stokes_c64_Re50_mue_1*\t09/15/2021 00:39:59\t3122c3a3...\r\n",
       "#9: Benchmark_4\tJ46875_k2_t1_Stokes_c256_Re50_mue_1\t09/15/2021 00:32:31\t3a8d9099...\r\n",
       "#10: Benchmark_4\tJ46875_k2_t1_Stokes_c64_Re50_mue_1\t09/15/2021 00:32:23\t47dcdbab...\r\n",
       "#11: Benchmark_4\tJ46875_k2_t1_Stokes_c128_Re50_mue_1\t09/15/2021 00:32:28\t86c6770d...\r\n"
      ]
     },
     "metadata": {},
     "output_type": "display_data"
    }
   ],
   "metadata": {
    "dotnet_interactive": {
     "language": "csharp"
    }
   }
  },
  {
   "cell_type": "code",
   "execution_count": null,
   "source": [
    "/*\r\n",
    "CG projection               -> ProjectDGField                               BoSSS.Foundation.ConstrainedDGprojection.ConstrainedDGField_Global.ProjectDGField\r\n",
    "dyn Loadbalancing           -> DoLoadbalancing                              BoSSS.Solution.Application`1.DoLoadbalancing\r\n",
    "AMR                         -> DoMeshAdaption                               BoSSS.Solution.Application`1.DoMeshAdaption\r\n",
    "compile Cut-cell quadrature -> Rule_Compilation_SayeGaussRuleFactory        Rule_Compilation_SayeGaussRuleFactory\r\n",
    "compile standard quadrature -> Rule_Compilation_StandardQuadRuleFactory     Rule_Compilation_StandardQuadRuleFactory\r\n",
    "matrix assembly             -> XdgMatrixAssembly                            BoSSS.Solution.XdgTimestepping.XdgBDFTimestepping.AssembleMatrixCallback\r\n",
    "agg basis init              -> Aggregation_basis_init_time                  BoSSS.Solution.AdvancedSolvers.XdgAggregationBasis.Update\r\n",
    "solver init                 -> Solver_Init_time                             Slv Init\r\n",
    "solver run                  -> Solver_Run_time                              Slv Iter\r\n",
    "I/O                         -> SaveToDatabase                               BoSSS.Solution.Application`1.SaveToDatabase\r\n",
    "*/"
   ],
   "outputs": [],
   "metadata": {
    "dotnet_interactive": {
     "language": "csharp"
    }
   }
  },
  {
   "cell_type": "code",
   "execution_count": null,
   "source": [
    "static var PreComputeProfiling = new Dictionary<System.Guid,MethodCallRecord[]>();\r\n",
    "foreach(var sess in wfmgr.Sessions){\r\n",
    "    MethodCallRecord[] mcrs = null;\r\n",
    "    try{\r\n",
    "        mcrs = sess.GetProfiling();\r\n",
    "    } catch (Exception ex){\r\n",
    "        Console.WriteLine(ex.Message);\r\n",
    "    }\r\n",
    "    PreComputeProfiling.Add(sess.ID, mcrs);\r\n",
    "}"
   ],
   "outputs": [
    {
     "output_type": "stream",
     "name": "stdout",
     "text": [
      "Unable to find profiling information.\r\n"
     ]
    }
   ],
   "metadata": {
    "dotnet_interactive": {
     "language": "csharp"
    }
   }
  },
  {
   "cell_type": "code",
   "execution_count": null,
   "source": [],
   "outputs": [],
   "metadata": {
    "dotnet_interactive": {
     "language": "csharp"
    }
   }
  },
  {
   "cell_type": "code",
   "execution_count": null,
   "source": [
    "static class AddCols {\r\n",
    "    static public MethodCallRecord[] GetMCR(ISessionInfo SI){\r\n",
    "        MethodCallRecord[] mcrs = null;\r\n",
    "        PreComputeProfiling.TryGetValue(SI.ID,out mcrs);\r\n",
    "        return mcrs;\r\n",
    "    }\r\n",
    "    \r\n",
    "    static private double TimeOnProc(MethodCallRecord mcr, string method){\r\n",
    "        double time = 0;\r\n",
    "        foreach(var child in mcr.FindChildren(method)){\r\n",
    "            time += child.TimeSpentInMethod.TotalSeconds;\r\n",
    "            //time += child.TimeSpentInMPIBlocking.TotalSeconds;\r\n",
    "        }\r\n",
    "        return time;\r\n",
    "    }\r\n",
    "    \r\n",
    "    static private double AverageTime(ISessionInfo SI,string method){\r\n",
    "        var mcrs       = GetMCR(SI);\r\n",
    "        double avtime = 0;\r\n",
    "\r\n",
    "        foreach(var mcr in mcrs){\r\n",
    "            avtime+=TimeOnProc(mcr,method);\r\n",
    "        }\r\n",
    "        avtime = avtime / mcrs.Count();\r\n",
    "        return avtime;\r\n",
    "    }\r\n",
    "\r\n",
    "    static private double MaxTime(ISessionInfo SI,string method){\r\n",
    "        var mcrs       = GetMCR(SI);\r\n",
    "        double maxtime = -1;\r\n",
    "\r\n",
    "        foreach(var mcr in mcrs){\r\n",
    "            double time =TimeOnProc(mcr,method);    \r\n",
    "            maxtime = time>maxtime?time:maxtime;\r\n",
    "        }\r\n",
    "        return maxtime;\r\n",
    "    }\r\n",
    "\r\n",
    "    static public object LSolverIter(ISessionInfo SI){\r\n",
    "        var mcr          = GetMCR(SI)[0];\r\n",
    "        string searchstr = \"BoSSS.Solution.AdvancedSolvers.DirectSolver.Solve\";\r\n",
    "        var ndS = mcr.FindChildren(searchstr);\r\n",
    "        var nd  = ndS.ElementAt(0);\r\n",
    "        return nd.CallCount;\r\n",
    "    }\r\n",
    "\r\n",
    "    static public object NLSolverIter(ISessionInfo SI){\r\n",
    "        var mcr          = GetMCR(SI)[0];\r\n",
    "        string searchstr = \"BoSSS.Solution.AdvancedSolvers.Newton.GlobalizedNewton\";\r\n",
    "        var ndS = mcr.FindChildren(searchstr);\r\n",
    "        var nd  = ndS.ElementAt(0);\r\n",
    "        return nd.CallCount;\r\n",
    "    }\r\n",
    "\r\n",
    "    static public object TotalRuntime(ISessionInfo SI){\r\n",
    "        return AverageTime(SI,\"root_frame\");\r\n",
    "    }\r\n",
    "    static public object MatrixAssembly_time(ISessionInfo SI) {\r\n",
    "        return AverageTime(SI,\"BoSSS.Solution.XdgTimestepping.XdgBDFTimestepping.AssembleMatrixCallback\");\r\n",
    "    }\r\n",
    "    static public object AggregationBaseInit_time(ISessionInfo SI) {\r\n",
    "        return AverageTime(SI,\"BoSSS.Solution.AdvancedSolvers.XdgAggregationBasis.Update\");\r\n",
    "    }\r\n",
    "    static public object SolverInit_time(ISessionInfo SI) {\r\n",
    "        return AverageTime(SI,\"Slv Init\");\r\n",
    "    }\r\n",
    "    static public object SolverRun_time(ISessionInfo SI) {\r\n",
    "        return AverageTime(SI,\"Slv Iter\");\r\n",
    "    }\r\n",
    "    static public object DataIO_time(ISessionInfo SI){\r\n",
    "        double sum = 0;\r\n",
    "        sum+=AverageTime(SI,\"BoSSS.Solution.Application`1.CreateOrLoadGrid\");\r\n",
    "        sum+=AverageTime(SI,\"BoSSS.Solution.Application`1.SaveToDatabase\");\r\n",
    "        return sum;\r\n",
    "    }\r\n",
    "    static public object CGProjection_time(ISessionInfo SI){\r\n",
    "        return AverageTime(SI,\"BoSSS.Foundation.ConstrainedDGprojection.ConstrainedDGField_Global.ProjectDGField\");\r\n",
    "    }\r\n",
    "    static public object SayeCompile_time(ISessionInfo SI){\r\n",
    "        return AverageTime(SI,\"Rule_Compilation_SayeGaussRuleFactory\");\r\n",
    "    }\r\n",
    "    static public object StandardCompile_time(ISessionInfo SI){\r\n",
    "        return AverageTime(SI,\"Rule_Compilation_StandardQuadRuleFactory\");\r\n",
    "    }\r\n",
    "    static public object AMR_time(ISessionInfo SI){\r\n",
    "        return AverageTime(SI,\"BoSSS.Solution.Application`1.DoMeshAdaption\");\r\n",
    "    }\r\n",
    "    static public object LoadBal_time(ISessionInfo SI){\r\n",
    "        return AverageTime(SI,\"BoSSS.Solution.Application`1.DoLoadbalancing\");\r\n",
    "    }\r\n",
    "    static public object NoOfCores(ISessionInfo SI){\r\n",
    "        return SI.ComputeNodeNames.Count();\r\n",
    "    }\r\n",
    "    static public object NoOfNodes(ISessionInfo SI){\r\n",
    "        return SI.ComputeNodeNames.GroupBy(s=>s).Count();\r\n",
    "    }\r\n",
    "    static public object MGDepth(ISessionInfo SI){\r\n",
    "        var mcr = GetMCR(SI)[0];\r\n",
    "        double NInit  = mcr.FindChildren(\"BoSSS.Solution.AdvancedSolvers.OrthonormalizationMultigrid.Init\").ToArray().Length;\r\n",
    "        return NInit + 1;\r\n",
    "    }\r\n",
    "}"
   ],
   "outputs": [],
   "metadata": {
    "dotnet_interactive": {
     "language": "csharp"
    }
   }
  },
  {
   "cell_type": "code",
   "execution_count": null,
   "source": [
    "var SI = wfmgr.Sessions.Pick(1);\r\n",
    "AddCols.MGDepth(SI);"
   ],
   "outputs": [],
   "metadata": {
    "dotnet_interactive": {
     "language": "csharp"
    }
   }
  },
  {
   "cell_type": "code",
   "execution_count": null,
   "source": [
    "wfmgr.AdditionalSessionTableColums.Clear();\r\n",
    "wfmgr.AdditionalSessionTableColums.Add(\"LSolverIter\", AddCols.LSolverIter);\r\n",
    "wfmgr.AdditionalSessionTableColums.Add(\"NLSolverIter\", AddCols.NLSolverIter);\r\n",
    "wfmgr.AdditionalSessionTableColums.Add(\"TotalRuntime\", AddCols.TotalRuntime);\r\n",
    "wfmgr.AdditionalSessionTableColums.Add(\"MatrixAssembly_time\", AddCols.MatrixAssembly_time);\r\n",
    "wfmgr.AdditionalSessionTableColums.Add(\"AggregationBaseInit_time\", AddCols.AggregationBaseInit_time);\r\n",
    "wfmgr.AdditionalSessionTableColums.Add(\"DataIO_time\", AddCols.DataIO_time);\r\n",
    "wfmgr.AdditionalSessionTableColums.Add(\"CGProjection_time\", AddCols.CGProjection_time);\r\n",
    "wfmgr.AdditionalSessionTableColums.Add(\"SayeCompile_time\", AddCols.SayeCompile_time);\r\n",
    "wfmgr.AdditionalSessionTableColums.Add(\"StandardCompile_time\",AddCols.StandardCompile_time);\r\n",
    "wfmgr.AdditionalSessionTableColums.Add(\"AMR_time\",AddCols.AMR_time);\r\n",
    "wfmgr.AdditionalSessionTableColums.Add(\"LoadBal_time\",AddCols.LoadBal_time);\r\n",
    "wfmgr.AdditionalSessionTableColums.Add(\"NoOfCores\",AddCols.NoOfCores);\r\n",
    "wfmgr.AdditionalSessionTableColums.Add(\"NoOfNodes\",AddCols.NoOfNodes);\r\n",
    "wfmgr.AdditionalSessionTableColums.Add(\"SolverInit_time\", AddCols.SolverInit_time);\r\n",
    "wfmgr.AdditionalSessionTableColums.Add(\"SolverRun_time\", AddCols.SolverRun_time);\r\n",
    "wfmgr.AdditionalSessionTableColums.Add(\"MGDepth\",AddCols.MGDepth);"
   ],
   "outputs": [],
   "metadata": {
    "dotnet_interactive": {
     "language": "csharp"
    }
   }
  },
  {
   "cell_type": "code",
   "execution_count": null,
   "source": [],
   "outputs": [],
   "metadata": {
    "dotnet_interactive": {
     "language": "csharp"
    }
   }
  },
  {
   "cell_type": "code",
   "execution_count": null,
   "source": [
    "var SessTab = wfmgr.SessionTable;\r\n",
    "SessTab.GetColumnNames().OrderBy(s=>s)"
   ],
   "outputs": [],
   "metadata": {
    "dotnet_interactive": {
     "language": "csharp"
    }
   }
  },
  {
   "cell_type": "code",
   "execution_count": null,
   "source": [
    "// The Session column can't be serialized,\r\n",
    "// we have to remove it\r\n",
    "List<string> AllCols = SessTab.GetColumnNames().ToList();\r\n",
    "AllCols.Remove(\"Session\");"
   ],
   "outputs": [],
   "metadata": {
    "dotnet_interactive": {
     "language": "csharp"
    }
   }
  },
  {
   "cell_type": "code",
   "execution_count": null,
   "source": [
    "SessTab.GetColumnNames().Where(s=>s.Contains(\"Depth\"))"
   ],
   "outputs": [],
   "metadata": {
    "dotnet_interactive": {
     "language": "csharp"
    }
   }
  },
  {
   "cell_type": "code",
   "execution_count": null,
   "source": [],
   "outputs": [],
   "metadata": {
    "dotnet_interactive": {
     "language": "csharp"
    }
   }
  },
  {
   "cell_type": "code",
   "execution_count": null,
   "source": [
    "SessTab = SessTab.ExtractColumns(AllCols.ToArray());\r\n",
    "// Filename\r\n",
    "string thisdir = Directory.GetCurrentDirectory();\r\n",
    "DirectoryInfo dir = Directory.CreateDirectory(thisdir+@\"\\\"+WFlowName);\r\n",
    "string dirpath    = dir.FullName;\r\n",
    "var now           = DateTime.Now;\r\n",
    "SessTab.TableName = WFlowName + \"_\" + now.Year + \"-\" + now.Month + \"-\" + now.Day;\r\n",
    "string docpath    = Path.Combine(dirpath, SessTab.TableName + \".json\");\r\n",
    "SessTab.SaveToFile(docpath); docpath"
   ],
   "outputs": [],
   "metadata": {
    "dotnet_interactive": {
     "language": "csharp"
    }
   }
  },
  {
   "cell_type": "code",
   "execution_count": null,
   "source": [
    "var SubTab = SessTab.ExtractColumns(\"LSolverIter\", \"NLSolverIter\", \"TotalRuntime\", \"MatrixAssembly_time\", \"AggregationBaseInit_time\", \"DataIO_time\", \"CGProjection_time\",\r\n",
    "\"SayeCompile_time\", \"StandardCompile_time\",\"AMR_time\",\"LoadBal_time\",\"NoOfCores\",\"NoOfNodes\",\"SolverInit_time\", \"SolverRun_time\", \"MGDepth\",\"DGdegree:Velocity*\"); SubTab.Print()"
   ],
   "outputs": [],
   "metadata": {
    "dotnet_interactive": {
     "language": "csharp"
    }
   }
  },
  {
   "cell_type": "code",
   "execution_count": null,
   "source": [
    "SubTab.ToCSVFile(dirpath+@\"\\table.csv\");"
   ],
   "outputs": [],
   "metadata": {
    "dotnet_interactive": {
     "language": "csharp"
    }
   }
  },
  {
   "cell_type": "code",
   "execution_count": null,
   "source": [
    "docpath"
   ],
   "outputs": [],
   "metadata": {
    "dotnet_interactive": {
     "language": "csharp"
    }
   }
  },
  {
   "cell_type": "code",
   "execution_count": null,
   "source": [],
   "outputs": [],
   "metadata": {
    "dotnet_interactive": {
     "language": "csharp"
    }
   }
  }
 ],
 "nbformat": 4,
 "nbformat_minor": 2
}