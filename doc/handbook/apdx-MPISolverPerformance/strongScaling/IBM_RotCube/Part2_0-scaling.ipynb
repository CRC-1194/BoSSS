{
 "metadata": {
  "kernelspec": {
   "display_name": ".NET (C#)",
   "language": "C#",
   "name": ".net-csharp"
  },
  "language_info": {
   "name": "C#"
  }
 },
 "cells": [
  {
   "cell_type": "code",
   "execution_count": null,
   "source": [
    "#r \"./../../../../../../public/src/L4-application/BoSSSpad/bin/Release/net5.0/BoSSSpad.dll\"\r\n",
    "using System;\r\n",
    "using ilPSP;\r\n",
    "using ilPSP.Utils;\r\n",
    "using BoSSS.Platform;\r\n",
    "using BoSSS.Foundation;\r\n",
    "using BoSSS.Foundation.XDG;\r\n",
    "using BoSSS.Foundation.Grid;\r\n",
    "using BoSSS.Solution;\r\n",
    "using BoSSS.Application.XNSE_Solver;\r\n",
    "using System.IO;\r\n",
    "using BoSSS.Application.BoSSSpad;\r\n",
    "using BoSSS.Solution.AdvancedSolvers;\r\n",
    "\r\n",
    "using static BoSSS.Application.BoSSSpad.BoSSSshell;\r\n",
    "Init();"
   ],
   "outputs": [
    {
     "output_type": "stream",
     "name": "stdout",
     "text": [
      "Using gnuplot: B:\\BoSSS-BIN\\bin\\native\\win\\gnuplot-gp510-20160418-win32-mingw\\gnuplot\\bin\\gnuplot.exe\r\n",
      "ArgumentException caught while opening database #2 at 'H:\\weber': Database Error: field state directory (H:\\weber\\timesteps) does not exist.\r\n",
      "Databases loaded: \r\n",
      "Capacity: 4\r\n",
      "Count: 3\r\n",
      "\r\n"
     ]
    }
   ],
   "metadata": {
    "dotnet_interactive": {
     "language": "csharp"
    }
   }
  },
  {
   "cell_type": "code",
   "execution_count": null,
   "source": [
    "string thisdir = Directory.GetCurrentDirectory();\r\n",
    "string path = String.Concat(thisdir,@\"\\Benchmark_4\",@\"\\Benchmark_4_2021-9-15\"+\".json\");\r\n",
    "var SubTab = TableExtensions.LoadFromFile(path);"
   ],
   "outputs": [],
   "metadata": {
    "dotnet_interactive": {
     "language": "csharp"
    }
   }
  },
  {
   "cell_type": "code",
   "execution_count": null,
   "source": [
    "SubTab.GetColumnNames().Where(s=>s.Contains(\"Core\"))"
   ],
   "outputs": [
    {
     "data": {
      "text/html": [
       "<table><thead><tr><th><i>index</i></th><th>value</th></tr></thead><tbody><tr><td>0</td><td>NoOfCores</td></tr></tbody></table>"
      ]
     },
     "metadata": {},
     "output_type": "display_data"
    }
   ],
   "metadata": {
    "dotnet_interactive": {
     "language": "csharp"
    }
   }
  },
  {
   "cell_type": "code",
   "execution_count": null,
   "source": [
    "SubTab.Rows.Count"
   ],
   "outputs": [
    {
     "data": {
      "text/html": [
       "<div class=\"dni-plaintext\">12</div>"
      ]
     },
     "metadata": {},
     "output_type": "display_data"
    }
   ],
   "metadata": {
    "dotnet_interactive": {
     "language": "csharp"
    }
   }
  },
  {
   "cell_type": "code",
   "execution_count": null,
   "source": [
    "public static class DoWhatUWant{\r\n",
    "\r\n",
    "    public static PlotRowSelector Solver_DG_Proj(int Degree){\r\n",
    "           return delegate (int iTabRow, \r\n",
    "                     IDictionary<string, object> Row, \r\n",
    "                     out string Nmn, \r\n",
    "                     out PlotFormat Fmt){\r\n",
    "    \r\n",
    "               Nmn = \"\";\r\n",
    "               Fmt = new PlotFormat();\r\n",
    "                         \r\n",
    "               \r\n",
    "              \r\n",
    "               LinearSolverCode SolverCode = (LinearSolverCode)Convert.ToInt32(Row[\"LinearSolver.SolverCode\"]);\r\n",
    "               int DGdegree   = Convert.ToInt32(Row[\"DGdegree:u\"]);\r\n",
    "               string PrjName = Convert.ToString(Row[\"ProjectName\"]);\r\n",
    "    \r\n",
    "               switch(SolverCode){\r\n",
    "                   case LinearSolverCode.exp_Kcycle_schwarz:\r\n",
    "                       Nmn+=\"Kcycle w. add.-Schwarz\";\r\n",
    "                       //Fmt.LineColor = LineColors.Blue;\r\n",
    "                       Fmt.PointType = PointTypes.LowerTriangle;\r\n",
    "                       break;\r\n",
    "                   case LinearSolverCode.exp_gmres_levelpmg:\r\n",
    "                       Nmn+=\"GMRES w. pTG\";\r\n",
    "                       //Fmt.LineColor = LineColors.Yellow;\r\n",
    "                       Fmt.PointType = PointTypes.Box;\r\n",
    "                       break;\r\n",
    "                   case LinearSolverCode.classic_pardiso:\r\n",
    "                       Nmn+=\"Pardiso\";\r\n",
    "                       //Fmt.LineColor = LineColors.Red;\r\n",
    "                       Fmt.PointType = PointTypes.OpenCircle;\r\n",
    "                       Fmt.DashType  = DashTypes.Dotted;\r\n",
    "                       break;\r\n",
    "                   default:\r\n",
    "                       Nmn = null;\r\n",
    "                       Fmt = null;\r\n",
    "                    return;\r\n",
    "               }\r\n",
    "                \r\n",
    "               \r\n",
    "               if(DGdegree!=Degree){\r\n",
    "                    Nmn = null;\r\n",
    "                    Fmt = null;\r\n",
    "                    return;\r\n",
    "               }\r\n",
    "               switch(DGdegree){\r\n",
    "                   case 2:\r\n",
    "                     Nmn+=\" DG2\";\r\n",
    "                     //Fmt.PointType = PointTypes.OpenDiamond;\r\n",
    "                     break;\r\n",
    "                   case 3:\r\n",
    "                     Nmn+=\" DG3\";\r\n",
    "                     //Fmt.PointType = PointTypes.OpenDiamond;\r\n",
    "                     break;\r\n",
    "                   case 5:\r\n",
    "                     Nmn+=\" DG5\";\r\n",
    "                     //Fmt.PointType = PointTypes.OpenDiamond;\r\n",
    "                     break;\r\n",
    "    \r\n",
    "                   default:\r\n",
    "                     Nmn = null;\r\n",
    "                     Fmt = null;\r\n",
    "                     return;\r\n",
    "               }\r\n",
    "                 \r\n",
    "               Fmt.PointSize = 0.5;\r\n",
    "               Fmt.LineWidth = 3;\r\n",
    "               Fmt.Style     = Styles.LinesPoints;\r\n",
    "               Fmt.LineColor = LineColors.Black;\r\n",
    "               //Fmt.DashType  = DashTypes.Solid;\r\n",
    "           };\r\n",
    "        \r\n",
    "    }\r\n",
    "    \r\n",
    "    public static PlotRowSelectorEx Solver_DG_Proj(int DG){\r\n",
    "        int Solver = LinearSolverCode.exp_Kcycle_schwarz;\r\n",
    "        return delegate (int iSweep, int iTabRow, \r\n",
    "                     IDictionary<string, object> Row, \r\n",
    "                     out string Nmn, \r\n",
    "                     out PlotFormat Fmt,\r\n",
    "                     out double xValue, out double yValue) { \r\n",
    "               // - - - - - - - - - - - - - - - - - - - - - - - - \r\n",
    "               // PlotRowSelector:\r\n",
    "               // selects, which table row goes to which graph,\r\n",
    "               // and the respective color  \r\n",
    "               // - - - - - - - - - - - - - - - - - - - - - - - - \r\n",
    "               int k           = Convert.ToInt32(Row[\"DGdegree:u\"]);\r\n",
    "               int solver_name = Convert.ToInt32(Row[\"LinearSolver.SolverCode\"]);\r\n",
    "              \r\n",
    "               if(k != DG || solver_name != Solver) {\r\n",
    "                    // degree does not match -> not in this plot\r\n",
    "                    Nmn    = null;\r\n",
    "                    Fmt    = null;\r\n",
    "                    xValue = 0;\r\n",
    "                    yValue = 0;\r\n",
    "                    return;\r\n",
    "               }\r\n",
    "               \r\n",
    "               /*\r\n",
    "               BoSSS.Solution.AdvancedSolvers.OrthonormalizationMultigrid.AddSol\r\n",
    "               BoSSS.Solution.AdvancedSolvers.Schwarz.Solve\r\n",
    "               BoSSS.Solution.AdvancedSolvers.OrthonormalizationMultigrid.MinimizeResidual\r\n",
    "               BoSSS.Solution.AdvancedSolvers.OrthonormalizationMultigrid.Residual\r\n",
    "               BoSSS.Solution.AdvancedSolvers.OrthonormalizationMultigrid.Solve\r\n",
    "               overlap_scaling\r\n",
    "               block_solve_level\r\n",
    "               caching\r\n",
    "               nocaching\r\n",
    "               */\r\n",
    "\r\n",
    "\r\n",
    "\r\n",
    "\r\n",
    "               double mtxAssi  = Convert.ToDouble(Row[\"XdgMatrixAssembly\"]);\r\n",
    "               double aggBinit = Convert.ToDouble(Row[\"Aggregation_basis_init_time\"]);\r\n",
    "               double slvInit  = Convert.ToDouble(Row[\"Solver_Init_time\"]);\r\n",
    "               double slvRun   = Convert.ToDouble(Row[\"Solver_Run_time\"]);\r\n",
    "               double cores    = Convert.ToDouble(Row[\"NoOfCores\"]);\r\n",
    "\r\n",
    "               \r\n",
    "               if(aggBinit > 700)\r\n",
    "               Console.Write(\"aggBinit/slvRun = \" + aggBinit + \"/\" + slvRun);\r\n",
    "               \r\n",
    "               Fmt           = new PlotFormat();\r\n",
    "               Fmt.PointSize = 0.5;\r\n",
    "               Fmt.Style     = Styles.LinesPoints;\r\n",
    "               Fmt.LineColor = LineColors.Black;\r\n",
    "               Fmt.LineWidth = 3;\r\n",
    "               \r\n",
    "               xValue = cores;\r\n",
    "               \r\n",
    "               switch(iSweep) {\r\n",
    "                   case 0:\r\n",
    "                   yValue       = slvRun;\r\n",
    "                   Nmn          = \"Slv Iter\";\r\n",
    "                   Fmt.DashType = DashTypes.Dotted;\r\n",
    "                   Fmt.PointType = PointTypes.OpenCircle;\r\n",
    "                   break;\r\n",
    "                   \r\n",
    "                   case 1:\r\n",
    "                   yValue        = slvInit;\r\n",
    "                   Nmn           = \"Slv Init\";\r\n",
    "                   Fmt.DashType  = DashTypes.Dashed;\r\n",
    "                   Fmt.PointType = PointTypes.OpenBox;\r\n",
    "                   break;\r\n",
    "                   \r\n",
    "                   case 2:\r\n",
    "                   yValue        = aggBinit;\r\n",
    "                   Nmn           = \"Agg Init\";\r\n",
    "                   Fmt.DashType  = DashTypes.DotDashed;\r\n",
    "                   Fmt.PointType = PointTypes.OpenDiamond;\r\n",
    "                   break;\r\n",
    "                   \r\n",
    "                   case 3:\r\n",
    "                   yValue        = mtxAssi;\r\n",
    "                   Nmn           = \"Mtx ass\";\r\n",
    "                   Fmt.DashType  = DashTypes.DotDotDashed;\r\n",
    "                   Fmt.PointType = PointTypes.OpenUpperTriangle;\r\n",
    "                   break;\r\n",
    "                   \r\n",
    "                   default:\r\n",
    "                   throw new NotImplementedException();\r\n",
    "               }\r\n",
    "               \r\n",
    "               if(aggBinit > 700)\r\n",
    "               Console.WriteLine(\"\\t + case: {0} + yValue = {1}\", iSweep, yValue);\r\n",
    "           };\r\n",
    "    }\r\n",
    "}\r\n",
    "    "
   ],
   "outputs": [
    {
     "output_type": "error",
     "ename": "Error",
     "evalue": "(153,6): error CS1513: } expected",
     "traceback": [
      "(153,6): error CS1513: } expected"
     ]
    }
   ],
   "metadata": {
    "dotnet_interactive": {
     "language": "csharp"
    }
   }
  },
  {
   "cell_type": "code",
   "execution_count": null,
   "source": [],
   "outputs": [],
   "metadata": {
    "dotnet_interactive": {
     "language": "csharp"
    }
   }
  }
 ],
 "nbformat": 4,
 "nbformat_minor": 2
}