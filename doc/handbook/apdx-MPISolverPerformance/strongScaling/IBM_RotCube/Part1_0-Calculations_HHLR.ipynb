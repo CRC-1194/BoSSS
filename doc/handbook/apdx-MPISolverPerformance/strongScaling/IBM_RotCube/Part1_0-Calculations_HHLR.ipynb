{
 "cells": [
  {
   "cell_type": "code",
   "execution_count": null,
   "source": [
    "#r \"./../../../../../../public/src/L4-application/BoSSSpad/bin/Release/net5.0/BoSSSpad.dll\"\r\n",
    "using System;\r\n",
    "using ilPSP;\r\n",
    "using ilPSP.Utils;\r\n",
    "using BoSSS.Platform;\r\n",
    "using BoSSS.Foundation;\r\n",
    "using BoSSS.Foundation.XDG;\r\n",
    "using BoSSS.Foundation.Grid;\r\n",
    "using BoSSS.Solution;\r\n",
    "\r\n",
    "using static BoSSS.Application.BoSSSpad.BoSSSshell;\r\n",
    "Init();"
   ],
   "outputs": [
    {
     "output_type": "stream",
     "name": "stdout",
     "text": [
      "Using gnuplot: B:\\BoSSS-BIN\\bin\\native\\win\\gnuplot-gp510-20160418-win32-mingw\\gnuplot\\bin\\gnuplot.exe\r\n",
      "ArgumentException caught while opening database #2 at 'H:\\weber': Database Error: field state directory (H:\\weber\\timesteps) does not exist.\r\n",
      "Databases loaded: \r\n",
      "Capacity: 4\r\n",
      "Count: 3\r\n",
      "\r\n"
     ]
    }
   ],
   "metadata": {
    "dotnet_interactive": {
     "language": "csharp"
    }
   }
  },
  {
   "cell_type": "code",
   "execution_count": null,
   "source": [
    "ExecutionQueues"
   ],
   "outputs": [
    {
     "data": {
      "text/html": [
       "<table><thead><tr><th><i>index</i></th><th><i>type</i></th><th>DeploymentBaseDirectory</th><th>DeployRuntime</th><th>Name</th><th>DotnetRuntime</th><th>BatchInstructionDir</th><th>AllowedDatabasesPaths</th><th>Username</th><th>Password</th><th>ServerName</th><th>ComputeNodes</th><th>DefaultJobPriority</th><th>SingleNode</th><th>PrivateKeyFilePath</th><th>AdditionalBatchCommands</th><th>DeploymentBaseDirectoryAtRemote</th><th>SlurmAccount</th><th>Email</th><th>MonoDebug</th></tr></thead><tbody><tr><td>0</td><td>BoSSS.Application.BoSSSpad.MiniBatchProcessorClient</td><td>C:\\Users\\weber\\AppData\\Local\\BoSSS-LocalJobs</td><td><div class=\"dni-plaintext\">False</div></td><td>LocalPC</td><td>dotnet</td><td><div class=\"dni-plaintext\">&lt;null&gt;</div></td><td></td><td></td><td></td><td></td><td></td><td></td><td></td><td></td><td></td><td></td><td></td><td></td><td></td></tr><tr><td>1</td><td>BoSSS.Application.BoSSSpad.MsHPC2012Client</td><td>\\\\hpccluster\\hpccluster-scratch\\weber\\dply</td><td><div class=\"dni-plaintext\">True</div></td><td>FDY-cluster</td><td>dotnet</td><td></td><td><div class=\"dni-plaintext\">[ { \\\\hpccluster\\hpccluster-scratch\\weber == : LocalMountPath: \\\\hpccluster\\hpccluster-scratch\\weber, PathAtRemote:  } ]</div></td><td>FDY\\weber</td><td><div class=\"dni-plaintext\">&lt;null&gt;</div></td><td>DC2</td><td><div class=\"dni-plaintext\">[ HPCCLUSTER2 ]</div></td><td><span>Normal</span></td><td><div class=\"dni-plaintext\">True</div></td><td></td><td></td><td></td><td></td><td></td><td></td></tr><tr><td>2</td><td>BoSSS.Application.BoSSSpad.SlurmClient</td><td>X:\\Deployerie</td><td><div class=\"dni-plaintext\">True</div></td><td><div class=\"dni-plaintext\">&lt;null&gt;</div></td><td>dotnet</td><td></td><td></td><td>jw52xeqa</td><td><div class=\"dni-plaintext\">&lt;null&gt;</div></td><td>lcluster5.hrz.tu-darmstadt.de</td><td></td><td></td><td></td><td>C:\\Users\\weber\\.ssh\\id_rsa</td><td><div class=\"dni-plaintext\">&lt;null&gt;</div></td><td>/home/jw52xeqa/Deployerie</td><td>project01217</td><td><div class=\"dni-plaintext\">&lt;null&gt;</div></td><td><div class=\"dni-plaintext\">False</div></td></tr><tr><td>3</td><td>BoSSS.Application.BoSSSpad.SlurmClient</td><td>X:\\Deployerie</td><td><div class=\"dni-plaintext\">True</div></td><td>HHLR</td><td>dotnet</td><td></td><td><div class=\"dni-plaintext\">[ { W:\\work\\scratch\\jw52xeqa == /work/scratch/jw52xeqa: LocalMountPath: W:\\work\\scratch\\jw52xeqa, PathAtRemote: /work/scratch/jw52xeqa } ]</div></td><td>jw52xeqa</td><td><div class=\"dni-plaintext\">&lt;null&gt;</div></td><td>lcluster14.hrz.tu-darmstadt.de</td><td></td><td></td><td></td><td>C:\\Users\\weber\\.ssh\\id_rsa</td><td><div class=\"dni-plaintext\">[ #SBATCH -p test24 ]</div></td><td>/home/jw52xeqa/Deployerie</td><td>special00006</td><td><div class=\"dni-plaintext\">&lt;null&gt;</div></td><td><div class=\"dni-plaintext\">False</div></td></tr></tbody></table>"
      ]
     },
     "metadata": {},
     "output_type": "display_data"
    }
   ],
   "metadata": {
    "dotnet_interactive": {
     "language": "csharp"
    }
   }
  },
  {
   "cell_type": "code",
   "execution_count": null,
   "source": [
    "using BoSSS.Application.BoSSSpad;"
   ],
   "outputs": [],
   "metadata": {
    "dotnet_interactive": {
     "language": "csharp"
    }
   }
  },
  {
   "cell_type": "code",
   "execution_count": null,
   "source": [
    "// ==================================\r\n",
    "// setup Client & Workflow & Database\r\n",
    "// ==================================\r\n",
    "var myBatch = (SlurmClient)ExecutionQueues[3];\r\n",
    "myBatch.AdditionalBatchCommands = new string[]{\"#SBATCH -p test24\"}; //new string[]{\"#SLURM -p test24\", \"#SLURM -C avx512\",\"#SLURM -N 3\"}; "
   ],
   "outputs": [],
   "metadata": {
    "dotnet_interactive": {
     "language": "csharp"
    }
   }
  },
  {
   "cell_type": "code",
   "execution_count": null,
   "source": [],
   "outputs": [],
   "metadata": {
    "dotnet_interactive": {
     "language": "csharp"
    }
   }
  },
  {
   "cell_type": "code",
   "execution_count": null,
   "source": [
    "\r\n",
    "string WFlowName = \"IBM_testRotCube\";\r\n",
    "BoSSS.Application.BoSSSpad.BoSSSshell.WorkflowMgm.Init(WFlowName);\r\n",
    "BoSSS.Application.BoSSSpad.BoSSSshell.WorkflowMgm.SetNameBasedSessionJobControlCorrelation();"
   ],
   "outputs": [
    {
     "output_type": "stream",
     "name": "stdout",
     "text": [
      "Project name is set to 'IBM_testRotCube'.\r\n"
     ]
    }
   ],
   "metadata": {
    "dotnet_interactive": {
     "language": "csharp"
    }
   }
  },
  {
   "cell_type": "code",
   "execution_count": null,
   "source": [],
   "outputs": [],
   "metadata": {
    "dotnet_interactive": {
     "language": "csharp"
    }
   }
  },
  {
   "cell_type": "code",
   "execution_count": null,
   "source": [
    "string dirname = \"DB_IBM_test\";\r\n",
    "string winpath = @\"H:\\weber\\\"+dirname;\r\n",
    "var tempDB = OpenOrCreateDatabase(winpath);"
   ],
   "outputs": [
    {
     "output_type": "stream",
     "name": "stdout",
     "text": [
      "Opening existing database 'H:\\weber\\DB_IBM_test'.\r\n"
     ]
    }
   ],
   "metadata": {
    "dotnet_interactive": {
     "language": "csharp"
    }
   }
  },
  {
   "cell_type": "code",
   "execution_count": null,
   "source": [],
   "outputs": [],
   "metadata": {
    "dotnet_interactive": {
     "language": "csharp"
    }
   }
  },
  {
   "cell_type": "code",
   "execution_count": null,
   "source": [
    "double xMax = 1.0, yMax = 1.0, zMax=1.0;\r\n",
    "double xMin = -1.0, yMin = -1.0,zMin = -1.0;"
   ],
   "outputs": [],
   "metadata": {
    "dotnet_interactive": {
     "language": "csharp"
    }
   }
  },
  {
   "cell_type": "code",
   "execution_count": null,
   "source": [
    "static class Utils {\r\n",
    "    // DOF per cell in 3D\r\n",
    "    public static int Np(int p) {\r\n",
    "        return (p*p*p + 6*p*p + 11*p + 6)/6;\r\n",
    "    }    \r\n",
    "}"
   ],
   "outputs": [],
   "metadata": {
    "dotnet_interactive": {
     "language": "csharp"
    }
   }
  },
  {
   "cell_type": "code",
   "execution_count": null,
   "source": [
    "// set parameterz\r\n",
    "int[] core_sweep = {8,16};\r\n",
    "int p             = 2;\r\n",
    "int Problemsize   = 500000;\r\n",
    "int MemoryPerCore = 2000;"
   ],
   "outputs": [],
   "metadata": {
    "dotnet_interactive": {
     "language": "csharp"
    }
   }
  },
  {
   "cell_type": "code",
   "execution_count": null,
   "source": [
    "// calculate grid size\r\n",
    "double Res    = Math.Pow(Problemsize/(Utils.Np(p)*3+Utils.Np(p-1)),0.333333333);\r\n",
    "int ResRndup  = (int)Math.Ceiling(Res);\r\n",
    "int NoOfCells = ResRndup*ResRndup*ResRndup;\r\n",
    "double test   = NoOfCells*(Utils.Np(p)*3+Utils.Np(p-1));"
   ],
   "outputs": [],
   "metadata": {
    "dotnet_interactive": {
     "language": "csharp"
    }
   }
  },
  {
   "cell_type": "code",
   "execution_count": null,
   "source": [
    "ResRndup"
   ],
   "outputs": [
    {
     "data": {
      "text/html": [
       "<div class=\"dni-plaintext\">25</div>"
      ]
     },
     "metadata": {},
     "output_type": "display_data"
    }
   ],
   "metadata": {
    "dotnet_interactive": {
     "language": "csharp"
    }
   }
  },
  {
   "cell_type": "code",
   "execution_count": null,
   "source": [
    "List<string> controls = new List<string>();"
   ],
   "outputs": [],
   "metadata": {
    "dotnet_interactive": {
     "language": "csharp"
    }
   }
  },
  {
   "cell_type": "code",
   "execution_count": null,
   "source": [
    "using BoSSS.Solution.AdvancedSolvers;\r\n",
    "using BoSSS.Solution.Control;"
   ],
   "outputs": [],
   "metadata": {
    "dotnet_interactive": {
     "language": "csharp"
    }
   }
  },
  {
   "cell_type": "code",
   "execution_count": null,
   "source": [
    "// polynomial degrees to test\r\n",
    "//int[] PolyDegS = new int[] {2, 3, 4, 5, 6};\r\n",
    "//int[] PolyDegS = new int[] {2, 3 ,5};\r\n",
    "int[] PolyDegS = new int[] {2};\r\n",
    "int[] ResArray = new int[] {20};\r\n",
    "// Solvers which we want to instrument:"
   ],
   "outputs": [],
   "metadata": {
    "dotnet_interactive": {
     "language": "csharp"
    }
   }
  },
  {
   "cell_type": "code",
   "execution_count": null,
   "source": [
    "// --------------------\r\n",
    "// setup control object\r\n",
    "// --------------------\r\n",
    "\r\n",
    "//foreach(LinearSolverCode solver_name in solver_nameS) {\r\n",
    "    for(int i=0;i< PolyDegS.Length;i++) { \r\n",
    "        //Rotating_Cube(int k = 3, int Res = 20, int SpaceDim = 2, bool useAMR = false, int NoOfTimesteps = 1,bool writeToDB = false, bool tracing = false, bool loadbalancing = false)\r\n",
    "        //string jobstr = String.Format(@\"cs:BoSSS.Application.XNSE_Solver.HardcodedControl.Rotating_Cube({0}, {1}, {2},true,{3},true,true,false)\",2,ResRndup,3,10);\r\n",
    "        //string jobstr = String.Format(@\"cs:BoSSS.Application.XNSE_Solver.HardcodedControl.Rotating_Sphere({0}, {1}, {2},true,{3},true,true,true)\",PolyDegS[i],ResArray[i],3,50);\r\n",
    "        //int k=2, int Res=20, int SpaceDim=3, int NoOfTimeSteps=100 ,bool UseAMR=false, bool writeToDB=true, bool loadbalancing=true\r\n",
    "        string jobstr = String.Format(@\"cs:BoSSS.Application.XNSE_Solver.HardcodedControl.KarmanVortexStreet({0}, {1}, {2},{3},false,true,true)\",PolyDegS[i],ResArray[i],3,50);\r\n",
    "        controls.Add(jobstr);\r\n",
    "        Console.WriteLine(jobstr);\r\n",
    "    }"
   ],
   "outputs": [
    {
     "output_type": "stream",
     "name": "stdout",
     "text": [
      "cs:BoSSS.Application.XNSE_Solver.HardcodedControl.KarmanVortexStreet(2, 20, 3,50,false,true,true)\r\n"
     ]
    }
   ],
   "metadata": {
    "dotnet_interactive": {
     "language": "csharp"
    }
   }
  },
  {
   "cell_type": "code",
   "execution_count": null,
   "source": [
    "controls"
   ],
   "outputs": [
    {
     "data": {
      "text/html": [
       "<table><thead><tr><th><i>index</i></th><th>value</th></tr></thead><tbody><tr><td>0</td><td>cs:BoSSS.Application.XNSE_Solver.HardcodedControl.KarmanVortexStreet(2, 20, 3,50,false,true,true)</td></tr></tbody></table>"
      ]
     },
     "metadata": {},
     "output_type": "display_data"
    }
   ],
   "metadata": {
    "dotnet_interactive": {
     "language": "csharp"
    }
   }
  },
  {
   "cell_type": "code",
   "execution_count": null,
   "source": [
    "// ==========\r\n",
    "// Launch Job\r\n",
    "// ==========\r\n",
    "using BoSSS.Application.XNSE_Solver;\r\n",
    "using BoSSS.Application.BoSSSpad;"
   ],
   "outputs": [],
   "metadata": {
    "dotnet_interactive": {
     "language": "csharp"
    }
   }
  },
  {
   "cell_type": "code",
   "execution_count": null,
   "source": [
    "foreach(var cores in core_sweep){\r\n",
    "    foreach(var ctrlstr in controls){\r\n",
    "        int rndnum = new Random().Next();\r\n",
    "        var aJob   = new Job(\"rotting_sphere_\"+cores+rndnum,typeof(XNSE));\r\n",
    "        aJob.SetControlStatement(ctrlstr);\r\n",
    "        aJob.NumberOfMPIProcs         = cores;\r\n",
    "        aJob.ExecutionTime            = \"4:00:00\";\r\n",
    "        aJob.UseComputeNodesExclusive = true;\r\n",
    "        aJob.Activate(myBatch);\r\n",
    "    }\r\n",
    "}"
   ],
   "outputs": [
    {
     "output_type": "stream",
     "name": "stdout",
     "text": [
      "Deploying job rotting_sphere_8830439641 ... \r\n",
      "Deploying executables and additional files ...\r\n",
      "Deployment directory: X:\\Deployerie\\IBM_testRotCube-XNSE_Solver2021Aug28_190906\r\n",
      "copied 49 files.\r\n",
      "   copied 'amd64' runtime.\r\n",
      "deployment finished.\r\n",
      "\r\n"
     ]
    },
    {
     "output_type": "error",
     "ename": "Error",
     "evalue": "System.ApplicationException: missing job id return value from slurm command.\r\n   at BoSSS.Application.BoSSSpad.SlurmClient.Submit(Job myJob, String DeploymentDirectory) in B:\\BoSSS-smuda\\public\\src\\L4-application\\BoSSSpad\\SlurmClient.cs:line 331\r\n   at BoSSS.Application.BoSSSpad.Job.Activate(BatchProcessorClient bpc, Boolean DeleteOldDeploymentsAndSessions) in B:\\BoSSS-smuda\\public\\src\\L4-application\\BoSSSpad\\Job.cs:line 1227\r\n   at Submission#140.<<Initialize>>d__0.MoveNext()\r\n--- End of stack trace from previous location ---\r\n   at Microsoft.CodeAnalysis.Scripting.ScriptExecutionState.RunSubmissionsAsync[TResult](ImmutableArray`1 precedingExecutors, Func`2 currentExecutor, StrongBox`1 exceptionHolderOpt, Func`2 catchExceptionOpt, CancellationToken cancellationToken)",
     "traceback": [
      "System.ApplicationException: missing job id return value from slurm command.\r\n",
      "   at BoSSS.Application.BoSSSpad.SlurmClient.Submit(Job myJob, String DeploymentDirectory) in B:\\BoSSS-smuda\\public\\src\\L4-application\\BoSSSpad\\SlurmClient.cs:line 331\r\n",
      "   at BoSSS.Application.BoSSSpad.Job.Activate(BatchProcessorClient bpc, Boolean DeleteOldDeploymentsAndSessions) in B:\\BoSSS-smuda\\public\\src\\L4-application\\BoSSSpad\\Job.cs:line 1227\r\n",
      "   at Submission#140.<<Initialize>>d__0.MoveNext()\r\n",
      "--- End of stack trace from previous location ---\r\n",
      "   at Microsoft.CodeAnalysis.Scripting.ScriptExecutionState.RunSubmissionsAsync[TResult](ImmutableArray`1 precedingExecutors, Func`2 currentExecutor, StrongBox`1 exceptionHolderOpt, Func`2 catchExceptionOpt, CancellationToken cancellationToken)"
     ]
    }
   ],
   "metadata": {
    "dotnet_interactive": {
     "language": "csharp"
    }
   }
  },
  {
   "cell_type": "code",
   "execution_count": null,
   "source": [],
   "outputs": [],
   "metadata": {
    "dotnet_interactive": {
     "language": "csharp"
    }
   }
  },
  {
   "cell_type": "code",
   "execution_count": null,
   "source": [],
   "outputs": [],
   "metadata": {
    "dotnet_interactive": {
     "language": "csharp"
    }
   }
  }
 ],
 "metadata": {
  "kernelspec": {
   "display_name": ".NET (C#)",
   "language": "C#",
   "name": ".net-csharp"
  },
  "language_info": {
   "file_extension": ".cs",
   "mimetype": "text/x-csharp",
   "name": "C#",
   "pygments_lexer": "csharp",
   "version": "9.0"
  },
  "orig_nbformat": 2
 },
 "nbformat": 4,
 "nbformat_minor": 2
}