{
 "metadata": {
  "kernelspec": {
   "display_name": ".NET (C#)",
   "language": "C#",
   "name": ".net-csharp"
  },
  "language_info": {
   "name": "C#"
  }
 },
 "cells": [
  {
   "cell_type": "code",
   "execution_count": null,
   "source": [
    "#r \"./../../../../../../public/src/L4-application/BoSSSpad/bin/Release/net5.0/BoSSSpad.dll\"\r\n",
    "using System;\r\n",
    "using ilPSP;\r\n",
    "using ilPSP.Utils;\r\n",
    "using BoSSS.Platform;\r\n",
    "using BoSSS.Foundation;\r\n",
    "using BoSSS.Foundation.XDG;\r\n",
    "using BoSSS.Foundation.Grid;\r\n",
    "using BoSSS.Solution;\r\n",
    "using BoSSS.Application.XNSE_Solver;\r\n",
    "using System.IO;\r\n",
    "using BoSSS.Foundation.IO;\r\n",
    "using ilPSP.Tracing;\r\n",
    "using BoSSS.Application.BoSSSpad;\r\n",
    "using BoSSS.Solution.Gnuplot;\r\n",
    "using BoSSS.Solution.AdvancedSolvers;\r\n",
    "\r\n",
    "using static BoSSS.Application.BoSSSpad.BoSSSshell;\r\n",
    "Init();"
   ],
   "outputs": [],
   "metadata": {
    "dotnet_interactive": {
     "language": "csharp"
    }
   }
  },
  {
   "cell_type": "code",
   "execution_count": null,
   "source": [
    "////================================\r\n",
    "//// pt2 of this sheet: Process Data\r\n",
    "////================================\r\n",
    "// Load Tables\r\n",
    "string basepath = @\"B:\\BoSSS-smuda\\public\\doc\\handbook\\apdx-MPISolverPerformance\\strongScaling\\IBM_RotCube\\\";\r\n",
    "List<System.Data.DataTable> LoadedTabs = new List<System.Data.DataTable>();\r\n",
    "//LoadedTabs.Add(TableExtensions.LoadFromFile(basepath+\"strong_scaling_3_2021-9-24.json\"));\r\n",
    "LoadedTabs.Add(TableExtensions.LoadFromFile(basepath+\"weak_scaling_3_2_2021-9-24.json\"));\r\n",
    "//LoadedTabs.Add(TableExtensions.LoadFromFile(basepath+\"strong_scaling_3_1_2021-9-24.json\"));\r\n",
    "//LoadedTabs.Add(TableExtensions.LoadFromFile(basepath+\"strong_scaling_3_3_2021-9-.json\"));\r\n",
    "var LoadTab = LoadedTabs.Pick(0);\r\n",
    "LoadedTabs.ForEach(s=>LoadTab.Merge(s)); LoadTab.Rows.Count()"
   ],
   "outputs": [],
   "metadata": {
    "dotnet_interactive": {
     "language": "csharp"
    }
   }
  },
  {
   "cell_type": "code",
   "execution_count": null,
   "source": [
    "string[] ColumnNames = new string[]{               \r\n",
    "   \"OrthonormalizationMultigrid.AddSol\",\r\n",
    "   \"Schwarz.Solve\",\r\n",
    "   \"OrthonormalizationMultigrid.MinimizeResidual\",\r\n",
    "   \"OrthonormalizationMultigrid.Residual\",\r\n",
    "   \"OrthonormalizationMultigrid.Solve\",\r\n",
    "   \"overlap_scaling\",\r\n",
    "   \"block_solve_level\",\r\n",
    "   \"caching\",\r\n",
    "   \"nocaching\",\r\n",
    "   \"OrthonormalizationMultigrid.VerivyCurrentResidual\",\r\n",
    "   \"Restriction\",\r\n",
    "   \"Prolongation\",\r\n",
    "   \"SolverRun_time\",\r\n",
    "   \"LSolverIter\",\r\n",
    "   \"DGdegree:Velocity*\",\r\n",
    "   \"DOF\",\r\n",
    "   \"MGDepth\",\r\n",
    "   \"NoOfNodes\",\r\n",
    "   \"NoOfCores\",\r\n",
    "   //\"DirectSolver.Solve\",\r\n",
    "};"
   ],
   "outputs": [],
   "metadata": {
    "dotnet_interactive": {
     "language": "csharp"
    }
   }
  },
  {
   "cell_type": "code",
   "execution_count": null,
   "source": [
    "var SesTab = LoadTab.ExtractColumns(ColumnNames);"
   ],
   "outputs": [],
   "metadata": {
    "dotnet_interactive": {
     "language": "csharp"
    }
   }
  },
  {
   "cell_type": "code",
   "execution_count": null,
   "source": [
    "// Average of Repititions ... pt1: Group Runs\r\n",
    "var RegistryOfRuns = new Dictionary<string,List<System.Data.DataRow>>();\r\n",
    "foreach(System.Data.DataRow Row in SesTab.Rows){\r\n",
    "    string test = \"\";\r\n",
    "    test += \"k\"+Convert.ToString(Row[\"DGdegree:Velocity*\"]);\r\n",
    "    test += \"_c\"+Convert.ToString(Row[\"NoOfCores\"]);\r\n",
    "    List<System.Data.DataRow> Reps;\r\n",
    "    if(RegistryOfRuns.TryGetValue(test,out Reps)){\r\n",
    "        Reps.Add(Row);\r\n",
    "    } else {\r\n",
    "        Reps = new List<System.Data.DataRow>();\r\n",
    "        Reps.Add(Row);\r\n",
    "        RegistryOfRuns.Add(test,Reps);\r\n",
    "    }\r\n",
    "} RegistryOfRuns.OrderBy(s=>s.Key[0]).OrderBy(s=>s.Key[1]).Select(s=>new object[]{s.Key,s.Value.Count()})"
   ],
   "outputs": [],
   "metadata": {
    "dotnet_interactive": {
     "language": "csharp"
    }
   }
  },
  {
   "cell_type": "code",
   "execution_count": null,
   "source": [
    "// Average of Repititions ... pt2: Compute Average\r\n",
    "var tmp = SesTab.Clone();\r\n",
    "tmp.Clear();\r\n",
    "foreach(var kvp in RegistryOfRuns){\r\n",
    "    var newrow = tmp.NewRow();\r\n",
    "    var sample = kvp.Value.First();\r\n",
    "    newrow[\"DGdegree:Velocity*\"]=Convert.ToInt32(sample[\"DGdegree:Velocity*\"]);\r\n",
    "    newrow[\"NoOfCores\"]=Convert.ToInt32(sample[\"NoOfCores\"]);\r\n",
    "    foreach(System.Data.DataColumn col in tmp.Columns){\r\n",
    "        if(col.ColumnName==\"DGdegree:Velocity*\"||col.ColumnName==\"NoOfCores\")\r\n",
    "            continue;\r\n",
    "        double value=0.0;\r\n",
    "        foreach(System.Data.DataRow row in kvp.Value){\r\n",
    "            value+=Convert.ToDouble(row[col.ColumnName]);\r\n",
    "        }\r\n",
    "        newrow[col]=value / kvp.Value.Count();\r\n",
    "    }\r\n",
    "    tmp.Rows.Add(newrow);\r\n",
    "}\r\n",
    "SesTab = tmp;\r\n",
    "SesTab.Print()"
   ],
   "outputs": [],
   "metadata": {
    "dotnet_interactive": {
     "language": "csharp"
    }
   }
  },
  {
   "cell_type": "code",
   "execution_count": null,
   "source": [
    "//string thisdir = Directory.GetCurrentDirectory();\r\n",
    "//SesTab.ToCSVFile(thisdir+@\"\\table.csv\");"
   ],
   "outputs": [],
   "metadata": {
    "dotnet_interactive": {
     "language": "csharp"
    }
   }
  },
  {
   "cell_type": "code",
   "execution_count": null,
   "source": [
    "// Minitab blaupause 4 Runtime per iteration\r\n",
    "var Minitab_blueprint = new System.Data.DataTable();\r\n",
    "Minitab_blueprint.Columns.Add(\"NoOfCores\", typeof(Int32));\r\n",
    "Minitab_blueprint.Columns.Add(\"runtime_per_iter\", typeof(Double));\r\n",
    "Minitab_blueprint.Columns.Add(\"Speedup\", typeof(Double));"
   ],
   "outputs": [],
   "metadata": {
    "dotnet_interactive": {
     "language": "csharp"
    }
   }
  },
  {
   "cell_type": "code",
   "execution_count": null,
   "source": [
    "// fill minitables for plots\r\n",
    "var listofDGdegree = new List<int>();\r\n",
    "foreach(System.Data.DataRow Row in SesTab.Rows){\r\n",
    "    listofDGdegree.Add(Convert.ToInt32(Row[\"DGdegree:Velocity*\"]));\r\n",
    "}\r\n",
    "List<double> DGdegrees=listofDGdegree.GroupBy(s=>s).Select(s=>s.Average()).ToList();\r\n",
    "string dirpath = Directory.GetCurrentDirectory();\r\n",
    "foreach(double DG in DGdegrees){\r\n",
    "    var MiniTab = Minitab_blueprint.Clone();\r\n",
    "    foreach(System.Data.DataRow Row in SesTab.Rows){\r\n",
    "        if(Convert.ToInt32(Row[\"DGdegree:Velocity*\"])!=DG) continue;\r\n",
    "        var newrow = MiniTab.NewRow();\r\n",
    "        newrow[\"NoOfCores\"] = Convert.ToInt32(Row[\"NoOfCores\"]);\r\n",
    "        double iter = Convert.ToDouble(Row[\"LSolverIter\"]);\r\n",
    "        double runtime = Convert.ToDouble(Row[\"SolverRun_time\"]);\r\n",
    "        newrow[\"runtime_per_iter\"] = runtime / iter;\r\n",
    "        MiniTab.Rows.Add(newrow);\r\n",
    "    }\r\n",
    "    System.Data.DataView view = new System.Data.DataView(MiniTab);\r\n",
    "    view.Sort = \"NoOfCores\";\r\n",
    "    MiniTab=view.ToTable();\r\n",
    "\r\n",
    "    double reference = Convert.ToDouble(MiniTab.Rows[0][\"runtime_per_iter\"]);\r\n",
    "    foreach(System.Data.DataRow Row in MiniTab.Rows){\r\n",
    "        Row[\"Speedup\"]=reference/Convert.ToDouble(Row[\"runtime_per_iter\"]);\r\n",
    "    }\r\n",
    "\r\n",
    "    MiniTab.ToCSVFile(dirpath+@\"\\strong_k\"+DG+\".dat\");\r\n",
    "} dirpath"
   ],
   "outputs": [],
   "metadata": {
    "dotnet_interactive": {
     "language": "csharp"
    }
   }
  },
  {
   "cell_type": "code",
   "execution_count": null,
   "source": [
    "// Generate rnd Formatting for massive multiplots\r\n",
    "var theDict = new List<Tuple<string,DashTypes,LineColors>>();\r\n",
    "public static Tuple<string,DashTypes,LineColors>[] AofFormats;\r\n",
    "var dashes = new DashTypes[]{DashTypes.Dashed,DashTypes.DotDashed,DashTypes.DotDotDashed};\r\n",
    "var points= new PointTypes[]{PointTypes.OpenCircle,PointTypes.OpenCircle,PointTypes.OpenDiamond,PointTypes.OpenUpperTriangle};\r\n",
    "var colors = new LineColors[]{LineColors.Red, LineColors.Green, LineColors.Blue, LineColors.Magenta, LineColors.Yellow, LineColors.Black, LineColors.Orange, LineColors.Grey};\r\n",
    "\r\n",
    "int iSweep=0;\r\n",
    "foreach(string Name in SesTab.GetColumnNames()){\r\n",
    "    //if(Name!=\"OrthonormalizationMultigrid.MinimizeResidual\"&&Name!=\"overlap_scaling\")\r\n",
    "    //    continue;\r\n",
    "    if(Name==\"NoOfCores\"||Name==\"LSolverIter\"||Name==\"DGdegree:Velocity*\"||Name==\"NoOfNodes\"||Name==\"MGDepth\"||Name==\"DOF\")\r\n",
    "        continue;\r\n",
    "    int one=iSweep%(dashes.Length-1);\r\n",
    "    int two=iSweep/(dashes.Length-1);\r\n",
    "    theDict.Add(new Tuple<string,DashTypes,LineColors>(Name,dashes[one],colors[two]));\r\n",
    "    iSweep++;\r\n",
    "}\r\n",
    "AofFormats = theDict.ToArray()"
   ],
   "outputs": [],
   "metadata": {
    "dotnet_interactive": {
     "language": "csharp"
    }
   }
  },
  {
   "cell_type": "code",
   "execution_count": null,
   "source": [
    "public static class DoWhatUWant{\r\n",
    "    public static PlotRowSelectorEx Solver_DG_Proj(int DG){\r\n",
    "    return delegate (int iSweep, int iTabRow, \r\n",
    "                    IDictionary<string, object> Row, \r\n",
    "                    out string Nmn, \r\n",
    "                    out PlotFormat Fmt,\r\n",
    "                    out double xValue, out double yValue) { \r\n",
    "\r\n",
    "            int k  = Convert.ToInt32(Row[\"DGdegree:Velocity*\"]);\r\n",
    "            Nmn = AofFormats[iSweep].Item1;\r\n",
    "\r\n",
    "            if(k != DG ) {\r\n",
    "                // degree does not match -> not in this plot\r\n",
    "                Nmn    = null;\r\n",
    "                Fmt    = null;\r\n",
    "                xValue = 0;\r\n",
    "                yValue = 0;\r\n",
    "                return;\r\n",
    "            } \r\n",
    "            \r\n",
    "            Fmt           = new PlotFormat();\r\n",
    "            Fmt.PointSize = 0.5;\r\n",
    "            Fmt.Style     = Styles.LinesPoints;\r\n",
    "            Fmt.LineWidth = 3;\r\n",
    "\r\n",
    "            Fmt.DashType = AofFormats[iSweep].Item2;\r\n",
    "            Fmt.LineColor = AofFormats[iSweep].Item3;\r\n",
    "            double iter = Convert.ToDouble(Row[\"LSolverIter\"]);\r\n",
    "            yValue = Convert.ToDouble(Row[Nmn])/iter;\r\n",
    "            //yValue = Convert.ToDouble(Row[Nmn]);\r\n",
    "            xValue    = Convert.ToDouble(Row[\"NoOfCores\"]);\r\n",
    "        };\r\n",
    "    }\r\n",
    "\r\n",
    "    public static PlotRowSelectorEx Solver_DG_Proj(){\r\n",
    "        return delegate (int iSweep, int iTabRow, \r\n",
    "                    IDictionary<string, object> Row, \r\n",
    "                    out string Nmn, \r\n",
    "                    out PlotFormat Fmt,\r\n",
    "                    out double xValue, out double yValue) { \r\n",
    "\r\n",
    "            int k           = Convert.ToInt32(Row[\"DGdegree:Velocity*\"]);\r\n",
    "            \r\n",
    "            Fmt           = new PlotFormat();\r\n",
    "            Fmt.PointSize = 0.5;\r\n",
    "            Fmt.Style     = Styles.LinesPoints;\r\n",
    "            Fmt.LineWidth = 3;\r\n",
    "            \r\n",
    "            switch(k){\r\n",
    "            case 2:\r\n",
    "                Nmn=\"k2\";\r\n",
    "                Fmt.LineColor = LineColors.Red;\r\n",
    "                break;\r\n",
    "            case 3:\r\n",
    "                Nmn=\"k3\";\r\n",
    "                Fmt.LineColor = LineColors.Orange;\r\n",
    "                break;\r\n",
    "            case 4:\r\n",
    "                Nmn=\"k4\";\r\n",
    "                Fmt.LineColor = LineColors.Blue;\r\n",
    "                break;\r\n",
    "            default:\r\n",
    "                throw new Exception(\"vergiss es\");\r\n",
    "            }\r\n",
    "            double time = Convert.ToDouble(Row[\"SolverRun_time\"]);\r\n",
    "            double iter = Convert.ToDouble(Row[\"LSolverIter\"]);\r\n",
    "            double timeSchwarz = Convert.ToDouble(Row[\"Schwarz.Solve\"]);\r\n",
    "            //yValue = Convert.ToDouble(Row[\"NoOfNodes\"]);\r\n",
    "            yValue = time/iter;\r\n",
    "            //yValue = Convert.ToDouble(Row[\"MGDepth\"]);\r\n",
    "            //yValue=Convert.ToDouble(Row[\"LSolverIter\"]);\r\n",
    "            //yValue = iter;\r\n",
    "            //yValue = time - timeSchwarz;\r\n",
    "            xValue = Convert.ToDouble(Row[\"NoOfCores\"]);\r\n",
    "        };\r\n",
    "    }\r\n",
    "}"
   ],
   "outputs": [],
   "metadata": {
    "dotnet_interactive": {
     "language": "csharp"
    }
   }
  },
  {
   "cell_type": "code",
   "execution_count": null,
   "source": [
    "int k = 4;\r\n",
    "int xMin = 8;\r\n",
    "int xMax = 256;"
   ],
   "outputs": [],
   "metadata": {
    "dotnet_interactive": {
     "language": "csharp"
    }
   }
  },
  {
   "cell_type": "code",
   "execution_count": null,
   "source": [
    "Plot2Ddata[,] multiplots = new Plot2Ddata[1,1];\r\n",
    "//multiplots[0,0] = SesTab.ToPlot(DoWhatUWant.Solver_DG_Proj(),AofFormats.Length);\r\n",
    "multiplots[0,0] = SesTab.ToPlot(DoWhatUWant.Solver_DG_Proj(k),AofFormats.Length);\r\n",
    "multiplots[0,0].LogX = true;\r\n",
    "multiplots[0,0].LogY = false;\r\n",
    "multiplots[0,0].tmargin = 0;\r\n",
    "multiplots[0,0].bmargin = 5;\r\n",
    "multiplots[0,0].XrangeMin=xMin;\r\n",
    "multiplots[0,0].XrangeMax=xMax;\r\n",
    "multiplots[0,0].YrangeMin=0;\r\n",
    "multiplots[0,0].YrangeMax=2;\r\n",
    "multiplots[0,0].Ylabel = \"iter\";\r\n",
    "multiplots[0,0].Xlabel = \"cores\";\r\n",
    "multiplots[0,0].LegendAlignment=new string[]{\"i\",\"b\",\"r\"};\r\n",
    "multiplots.PlotNow()"
   ],
   "outputs": [],
   "metadata": {
    "dotnet_interactive": {
     "language": "csharp"
    }
   }
  },
  {
   "cell_type": "code",
   "execution_count": null,
   "source": [],
   "outputs": [],
   "metadata": {
    "dotnet_interactive": {
     "language": "csharp"
    }
   }
  },
  {
   "cell_type": "code",
   "execution_count": null,
   "source": [],
   "outputs": [],
   "metadata": {
    "dotnet_interactive": {
     "language": "csharp"
    }
   }
  }
 ],
 "nbformat": 4,
 "nbformat_minor": 2
}