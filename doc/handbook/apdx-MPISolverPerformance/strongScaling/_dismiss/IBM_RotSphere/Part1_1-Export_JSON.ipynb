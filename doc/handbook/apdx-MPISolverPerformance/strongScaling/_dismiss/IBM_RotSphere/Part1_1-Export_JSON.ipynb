{
 "cells": [
  {
   "cell_type": "code",
   "execution_count": null,
   "metadata": {
    "dotnet_interactive": {
     "language": "csharp"
    }
   },
   "outputs": [],
   "source": [
    "#r \"./../../../../../../public/src/L4-application/BoSSSpad/bin/Release/net5.0/BoSSSpad.dll\"\n",
    "using System;\n",
    "using ilPSP;\n",
    "using ilPSP.Utils;\n",
    "using BoSSS.Platform;\n",
    "using BoSSS.Foundation;\n",
    "using BoSSS.Foundation.XDG;\n",
    "using BoSSS.Foundation.Grid;\n",
    "using BoSSS.Solution;\n",
    "using BoSSS.Application.XNSE_Solver;\n",
    "using System.IO;\n",
    "using BoSSS.Foundation.IO;\n",
    "using ilPSP.Tracing;\n",
    "using BoSSS.Application.BoSSSpad;\n",
    "\n",
    "using static BoSSS.Application.BoSSSpad.BoSSSshell;\n",
    "Init();"
   ]
  },
  {
   "cell_type": "code",
   "execution_count": null,
   "metadata": {
    "dotnet_interactive": {
     "language": "csharp"
    }
   },
   "outputs": [
    {
     "data": {
      "text/plain": [
       "#0: weak_scaling_5_1_p-MG\tJ21952_k4_t1_Stokes_c256_Re50_mue_1\t10/13/2021 22:12:53\tce6eba80...\r\n",
       "#1: weak_scaling_5_1_p-MG\tJ10648_k4_t1_Stokes_c128_Re50_mue_1\t10/13/2021 22:12:23\t603efdc9...\r\n",
       "#2: weak_scaling_5_1_p-MG\tJ5832_k4_t1_Stokes_c64_Re50_mue_1\t10/13/2021 21:50:06\td471d2ca...\r\n",
       "#3: weak_scaling_5_1_p-MG\tJ2744_k4_t1_Stokes_c32_Re50_mue_1\t10/13/2021 21:50:00\tec370860...\r\n",
       "#4: weak_scaling_5_1_p-MG\tJ1331_k4_t1_Stokes_c16_Re50_mue_1\t10/13/2021 21:49:30\t5c6c0670...\r\n",
       "#5: weak_scaling_5_1_p-MG\tJ729_k4_t1_Stokes_c8_Re50_mue_1\t10/13/2021 21:49:24\tacdd73fe...\r\n",
       "#6: weak_scaling_5_p-MG\tJ21952_k4_t1_Stokes_c256_Re50_mue_1\t10/12/2021 22:46:38\tab24bb30...\r\n",
       "#7: weak_scaling_5_p-MG\tJ85184_k2_t1_Stokes_c256_Re50_mue_1\t10/12/2021 21:36:11\t53fa8afd...\r\n",
       "#8: weak_scaling_5_p-MG\tJ10648_k4_t1_Stokes_c128_Re50_mue_1\t10/12/2021 21:26:07\t51825262...\r\n",
       "#9: weak_scaling_5_p-MG\tJ21952_k3_t1_Stokes_c128_Re50_mue_1\t10/12/2021 21:22:07\te80b60ac...\r\n",
       "#10: weak_scaling_5_p-MG\tJ46656_k2_t1_Stokes_c128_Re50_mue_1\t10/12/2021 20:19:27\tcc9f2f2c...\r\n",
       "#11: weak_scaling_5_p-MG\tJ5832_k4_t1_Stokes_c64_Re50_mue_1\t10/12/2021 20:00:49\t8639b662...\r\n",
       "#12: weak_scaling_5_p-MG\tJ10648_k3_t1_Stokes_c64_Re50_mue_1\t10/12/2021 19:57:53\t9e45f399...\r\n",
       "#13: weak_scaling_5_p-MG\tJ21952_k2_t1_Stokes_c64_Re50_mue_1\t10/12/2021 19:52:23\tff1da229...\r\n",
       "#14: weak_scaling_5_p-MG\tJ2744_k4_t1_Stokes_c32_Re50_mue_1\t10/12/2021 19:49:43\t423971b8...\r\n",
       "#15: weak_scaling_5_p-MG\tJ5832_k3_t1_Stokes_c32_Re50_mue_1\t10/12/2021 19:47:46\te638894f...\r\n",
       "#16: weak_scaling_5_p-MG\tJ10648_k2_t1_Stokes_c32_Re50_mue_1\t10/12/2021 19:45:48\t48ecee0f...\r\n",
       "#17: weak_scaling_5_p-MG\tJ1331_k4_t1_Stokes_c16_Re50_mue_1\t10/12/2021 19:22:39\t849a2bf8...\r\n",
       "#18: weak_scaling_5_p-MG\tJ2744_k3_t1_Stokes_c16_Re50_mue_1\t10/12/2021 19:22:03\tbb1986b8...\r\n",
       "#19: weak_scaling_5_p-MG\tJ5832_k2_t1_Stokes_c16_Re50_mue_1\t10/12/2021 19:21:08\tc1e9c657...\r\n",
       "#20: weak_scaling_5_p-MG\tJ729_k4_t1_Stokes_c8_Re50_mue_1\t10/12/2021 19:18:01\t535b7def...\r\n",
       "#21: weak_scaling_5_p-MG\tJ1331_k3_t1_Stokes_c8_Re50_mue_1\t10/12/2021 19:17:06\tcd26b3de...\r\n",
       "#22: weak_scaling_5_p-MG\tJ2744_k2_t1_Stokes_c8_Re50_mue_1\t10/12/2021 19:16:01\t6daca60f...\r\n",
       "#23: weak_scaling_5_p-MG\tJ729_k4_t1_Stokes_c8_Re50_mue_1_c8_Re50_mue_1\t10/12/2021 19:03:32\tb49a5b9e...\r\n",
       "#24: weak_scaling_5_p-MG\tJ1331_k3_t1_Stokes_c8_Re50_mue_1_c8_Re50_mue_1\t10/12/2021 18:57:34\t84518310...\r\n",
       "#25: strong_scaling_3_3\tJ17496_k4_t1_Stokes_c256_Re50_mue_1\t09/27/2021 23:40:15\t0b745218...\r\n",
       "#26: strong_scaling_3_3\tJ17496_k4_t1_Stokes_c16_Re50_mue_1\t09/27/2021 23:35:08\t0e2fd155...\r\n",
       "#27: strong_scaling_3_3\tJ17496_k4_t1_Stokes_c128_Re50_mue_1\t09/27/2021 23:38:43\tb903721f...\r\n",
       "#28: strong_scaling_3_3\tJ17496_k4_t1_Stokes_c64_Re50_mue_1\t09/27/2021 23:36:49\tf7b09b03...\r\n",
       "#29: strong_scaling_3_3\tJ31944_k3_t1_Stokes_c8_Re50_mue_1\t09/27/2021 23:34:24\ta35807d3...\r\n",
       "#30: strong_scaling_3_3\tJ65856_k2_t1_Stokes_c8_Re50_mue_1\t09/27/2021 23:34:40\td4e78c11...\r\n",
       "#31: strong_scaling_3_3\tJ31944_k3_t1_Stokes_c256_Re50_mue_1\t09/27/2021 23:40:14\t430f4192...\r\n",
       "#32: strong_scaling_3_3\tJ31944_k3_t1_Stokes_c32_Re50_mue_1\t09/27/2021 23:36:08\ted27a744...\r\n",
       "#33: strong_scaling_3_3\tJ65856_k2_t1_Stokes_c16_Re50_mue_1\t09/27/2021 23:35:38\t4e42318d...\r\n",
       "#34: strong_scaling_3_3\tJ31944_k3_t1_Stokes_c128_Re50_mue_1\t09/27/2021 23:39:12\t6efd8c73...\r\n",
       "#35: strong_scaling_3_3\tJ31944_k3_t1_Stokes_c64_Re50_mue_1\t09/27/2021 23:37:16\t8329c516...\r\n",
       "#36: strong_scaling_3_3\tJ65856_k2_t1_Stokes_c64_Re50_mue_1\t09/27/2021 23:37:42\tde37279a...\r\n",
       "#37: strong_scaling_3_3\tJ65856_k2_t1_Stokes_c128_Re50_mue_1\t09/27/2021 23:40:15\t8951e4a3...\r\n",
       "#38: strong_scaling_3_3\tJ65856_k2_t1_Stokes_c256_Re50_mue_1\t09/27/2021 23:40:15\t66ff6e3f...\r\n",
       "#39: strong_scaling_3_3\tJ65856_k2_t1_Stokes_c32_Re50_mue_1*\t09/27/2021 23:36:41\t1e3c56b2...\r\n",
       "#40: strong_scaling_3_3\tJ17496_k4_t1_Stokes_c32_Re50_mue_1*\t09/27/2021 23:36:09\tef211d1b...\r\n",
       "#41: strong_scaling_3_3\tJ31944_k3_t1_Stokes_c16_Re50_mue_1*\t09/27/2021 23:35:45\t57a8d299...\r\n",
       "#42: strong_scaling_3_3\tJ17496_k4_t1_Stokes_c8_Re50_mue_1*\t09/27/2021 23:34:06\t97d438b0...\r\n",
       "#43: weak_scaling_CSolver_Schwarz\tJ46656_k2_t1_Stokes_c128_Re50_mue_1\t09/27/2021 21:18:38\t405418c8...\r\n",
       "#44: weak_scaling_CSolver_Schwarz\tJ21952_k4_t1_Stokes_c256_Re50_mue_1\t09/27/2021 18:14:16\t695ef944...\r\n",
       "#45: weak_scaling_CSolver_Schwarz\tJ10648_k4_t1_Stokes_c128_Re50_mue_1\t09/27/2021 18:12:14\tbfaa5f99...\r\n",
       "#46: weak_scaling_CSolver_Schwarz\tJ46656_k3_t1_Stokes_c256_Re50_mue_1\t09/27/2021 18:12:46\t3a5884af...\r\n",
       "#47: weak_scaling_CSolver_Schwarz\tJ85184_k2_t1_Stokes_c256_Re50_mue_1\t09/27/2021 18:12:39\tc8802653...\r\n",
       "#48: weak_scaling_CSolver_Schwarz\tJ21952_k3_t1_Stokes_c128_Re50_mue_1\t09/27/2021 18:11:43\t44cffa51...\r\n",
       "#49: weak_scaling_CSolver_Schwarz\tJ5832_k4_t1_Stokes_c64_Re50_mue_1\t09/27/2021 18:10:13\tccffd546...\r\n",
       "#50: weak_scaling_CSolver_Schwarz\tJ10648_k3_t1_Stokes_c64_Re50_mue_1\t09/27/2021 18:05:25\ta99ef8e8...\r\n",
       "#51: weak_scaling_CSolver_Schwarz\tJ21952_k2_t1_Stokes_c64_Re50_mue_1\t09/27/2021 18:04:14\t3e2cc432...\r\n",
       "#52: weak_scaling_4_0\tJ85184_k2_t1_Stokes_c256_Re50_mue_1\t09/27/2021 12:24:18\t950d2bba...\r\n",
       "#53: weak_scaling_4_0\tJ21952_k4_t1_Stokes_c256_Re50_mue_1\t09/26/2021 01:29:51\te109a89e...\r\n",
       "#54: weak_scaling_4_0\tJ10648_k4_t1_Stokes_c128_Re50_mue_1\t09/26/2021 01:25:36\te558cbef...\r\n",
       "#55: weak_scaling_4_0\tJ46656_k3_t1_Stokes_c256_Re50_mue_1\t09/26/2021 01:29:22\t72978db7...\r\n",
       "#56: weak_scaling_4_0\tJ5832_k4_t1_Stokes_c64_Re50_mue_1\t09/26/2021 01:22:36\t4a82d910...\r\n",
       "#57: weak_scaling_4_0\tJ21952_k3_t1_Stokes_c128_Re50_mue_1\t09/26/2021 01:24:15\t919fb086...\r\n",
       "#58: weak_scaling_4_0\tJ46656_k2_t1_Stokes_c128_Re50_mue_1\t09/26/2021 01:23:11\tc0d5d4ec...\r\n",
       "#59: weak_scaling_4_0\tJ10648_k3_t1_Stokes_c64_Re50_mue_1\t09/26/2021 01:21:40\t8d4aee10...\r\n",
       "#60: weak_scaling_4_0\tJ2744_k4_t1_Stokes_c32_Re50_mue_1\t09/26/2021 01:18:32\ta70799d4...\r\n",
       "#61: weak_scaling_4_0\tJ21952_k2_t1_Stokes_c64_Re50_mue_1\t09/26/2021 01:21:08\ta775b34d...\r\n",
       "#62: weak_scaling_4_0\tJ5832_k3_t1_Stokes_c32_Re50_mue_1\t09/26/2021 01:16:57\t8c96667d...\r\n",
       "#63: weak_scaling_4_0\tJ1331_k4_t1_Stokes_c16_Re50_mue_1\t09/26/2021 01:14:28\t36b0e372...\r\n",
       "#64: weak_scaling_4_0\tJ10648_k2_t1_Stokes_c32_Re50_mue_1\t09/26/2021 01:15:58\t6f0ffaf4...\r\n",
       "#65: weak_scaling_4_0\tJ2744_k3_t1_Stokes_c16_Re50_mue_1\t09/26/2021 01:14:27\tdd11fcf4...\r\n",
       "#66: weak_scaling_4_0\tJ5832_k2_t1_Stokes_c16_Re50_mue_1\t09/26/2021 01:14:29\t0a7c47a3...\r\n",
       "#67: weak_scaling_3_2\tJ10648_k4_t1_Stokes_c128_Re50_mue_1stretch2_memtrckon_c128_Re50_mue_1\t09/24/2021 00:37:35\t8cae34b0...\r\n",
       "#68: weak_scaling_3_2\tJ5832_k4_t1_Stokes_c64_Re50_mue_1stretch2_memtrckon_c64_Re50_mue_1\t09/24/2021 00:36:31\tc07fe882...\r\n",
       "#69: weak_scaling_3_2\tJ5832_k4_t1_Stokes_c64_Re50_mue_1stretch2_memtrckon\t09/24/2021 00:34:26\te221ee1f...\r\n",
       "#70: weak_scaling_3_2\tJ21952_k3_t1_Stokes_c128_Re50_mue_1stretch2_memtrckon_c128_Re50_mue_1\t09/24/2021 00:37:08\ta5734b24...\r\n",
       "#71: weak_scaling_3_2\tJ46656_k2_t1_Stokes_c128_Re50_mue_1stretch2_memtrckon_c128_Re50_mue_1\t09/24/2021 00:36:50\t69bd2072...\r\n",
       "#72: weak_scaling_3_2\tJ10648_k3_t1_Stokes_c64_Re50_mue_1stretch2_memtrckon_c64_Re50_mue_1\t09/24/2021 00:36:09\t35662b4a...\r\n",
       "#73: weak_scaling_3_2\tJ46656_k2_t1_Stokes_c128_Re50_mue_1stretch2_memtrckon\t09/24/2021 00:34:46\t27037e2b...\r\n",
       "#74: weak_scaling_3_2\tJ21952_k2_t1_Stokes_c64_Re50_mue_1stretch2_memtrckon_c64_Re50_mue_1\t09/24/2021 00:35:46\taf834eab...\r\n",
       "#75: weak_scaling_3_2\tJ10648_k3_t1_Stokes_c64_Re50_mue_1stretch2_memtrckon\t09/24/2021 00:34:10\tc2796969...\r\n",
       "#76: weak_scaling_3_2\tJ21952_k2_t1_Stokes_c64_Re50_mue_1stretch2_memtrckon\t09/24/2021 00:33:47\tfd7a455c...\r\n",
       "#77: weak_scaling_3_2\tJ2744_k4_t1_Stokes_c32_Re50_mue_1stretch2_memtrckon\t09/24/2021 00:23:19\td84cc55b...\r\n",
       "#78: weak_scaling_3_2\tJ1331_k4_t1_Stokes_c16_Re50_mue_1stretch2_memtrckon\t09/24/2021 00:22:15\tf89aa75f...\r\n",
       "#79: weak_scaling_3_2\tJ5832_k3_t1_Stokes_c32_Re50_mue_1stretch2_memtrckon\t09/24/2021 00:22:57\tc869e128...\r\n",
       "#80: weak_scaling_3_2\tJ10648_k2_t1_Stokes_c32_Re50_mue_1stretch2_memtrckon\t09/24/2021 00:22:45\tdd61c91c...\r\n",
       "#81: weak_scaling_3_2\tJ2744_k3_t1_Stokes_c16_Re50_mue_1stretch2_memtrckon\t09/24/2021 00:21:45\tccae8af6...\r\n",
       "#82: weak_scaling_3_2\tJ729_k4_t1_Stokes_c8_Re50_mue_1stretch2_memtrckon\t09/24/2021 00:21:08\t889d9ee2...\r\n",
       "#83: weak_scaling_3_2\tJ5832_k2_t1_Stokes_c16_Re50_mue_1stretch2_memtrckon\t09/24/2021 00:21:32\tb56e9ae0...\r\n",
       "#84: weak_scaling_3_2\tJ1331_k3_t1_Stokes_c8_Re50_mue_1stretch2_memtrckon\t09/24/2021 00:20:41\t1857dd5d...\r\n",
       "#85: weak_scaling_3_2\tJ2744_k2_t1_Stokes_c8_Re50_mue_1stretch2_memtrckon\t09/24/2021 00:20:24\td55a5ff6...\r\n",
       "#86: weak_scaling_3_1\tJ85184_k3_t1_Stokes_c512_Re50_mue_1stretch2_memtrckon\t09/23/2021 20:51:45\ta4d5c23d...\r\n",
       "#87: weak_scaling_3_1\tJ10648_k4_t1_Stokes_c128_Re50_mue_1stretch2_memtrckon\t09/23/2021 15:48:14\t9961084a...\r\n",
       "#88: weak_scaling_3_1\tJ46656_k3_t1_Stokes_c256_Re50_mue_1stretch2_memtrckon\t09/23/2021 16:02:11\tae53674c...\r\n",
       "#89: weak_scaling_3_1\tJ175616_k2_t1_Stokes_c512_Re50_mue_1stretch2_memtrckon\t09/23/2021 16:03:19\t1eef7c1a...\r\n",
       "#90: weak_scaling_3_1\tJ5832_k4_t1_Stokes_c64_Re50_mue_1stretch2_memtrckon\t09/23/2021 15:47:27\t9a34fb55...\r\n",
       "#91: weak_scaling_3_1\tJ85184_k2_t1_Stokes_c256_Re50_mue_1stretch2_memtrckon\t09/23/2021 16:01:56\t32444c56...\r\n",
       "#92: weak_scaling_3_1\tJ21952_k3_t1_Stokes_c128_Re50_mue_1stretch2_memtrckon\t09/23/2021 15:48:01\t4cab9c6e...\r\n",
       "#93: weak_scaling_3_1\tJ46656_k2_t1_Stokes_c128_Re50_mue_1stretch2_memtrckon\t09/23/2021 15:47:45\tfec59cc8...\r\n",
       "#94: weak_scaling_3_1\tJ10648_k3_t1_Stokes_c64_Re50_mue_1stretch2_memtrckon\t09/23/2021 15:47:10\t5a111b31...\r\n",
       "#95: weak_scaling_3_1\tJ21952_k2_t1_Stokes_c64_Re50_mue_1stretch2_memtrckon\t09/23/2021 15:46:51\t360374ce...\r\n",
       "#96: weak_scaling_3_1\tJ2744_k4_t1_Stokes_c32_Re50_mue_1stretch2_memtrckon\t09/23/2021 15:37:36\td126a9ee...\r\n",
       "#97: weak_scaling_3_1\tJ1331_k4_t1_Stokes_c16_Re50_mue_1stretch2_memtrckon\t09/23/2021 15:36:03\tcd6976c0...\r\n",
       "#98: weak_scaling_3_1\tJ5832_k3_t1_Stokes_c32_Re50_mue_1stretch2_memtrckon\t09/23/2021 15:37:06\tc144c1c7...\r\n",
       "#99: weak_scaling_3_1\tJ10648_k2_t1_Stokes_c32_Re50_mue_1stretch2_memtrckon\t09/23/2021 15:36:32\tf01a823c...\r\n",
       "#100: weak_scaling_3_1\tJ2744_k3_t1_Stokes_c16_Re50_mue_1stretch2_memtrckon\t09/23/2021 15:35:32\td593b1de...\r\n",
       "#101: weak_scaling_3_1\tJ5832_k2_t1_Stokes_c16_Re50_mue_1stretch2_memtrckon\t09/23/2021 15:35:01\t8929be0e...\r\n",
       "#102: weak_scaling_3_1\tJ729_k4_t1_Stokes_c8_Re50_mue_1stretch2_memtrckon\t09/23/2021 15:32:42\td4d500fd...\r\n",
       "#103: weak_scaling_3_1\tJ1331_k3_t1_Stokes_c8_Re50_mue_1stretch2_memtrckon\t09/23/2021 15:32:15\te510ba8a...\r\n",
       "#104: weak_scaling_3_1\tJ2744_k2_t1_Stokes_c8_Re50_mue_1stretch2_memtrckon\t09/23/2021 15:31:51\t3cc58e4a...\r\n",
       "#105: strong_scaling_3_2\tJ17496_k4_t1_Stokes_c8_Re50_mue_1\t09/23/2021 00:10:39\tdac18471...\r\n",
       "#106: strong_scaling_3_2\tJ17496_k4_t1_Stokes_c16_Re50_mue_1\t09/23/2021 00:13:16\t41a73461...\r\n",
       "#107: strong_scaling_3_2\tJ31944_k3_t1_Stokes_c8_Re50_mue_1\t09/23/2021 00:12:32\tefb1bb3d...\r\n",
       "#108: weak_scaling_3\tJ85184_k3_t1_Stokes_c512_Re50_mue_1\t09/23/2021 00:31:50\tb21a3b19...\r\n",
       "#109: strong_scaling_3_2\tJ17496_k4_t1_Stokes_c32_Re50_mue_1\t09/23/2021 00:14:53\tab6fba73...\r\n",
       "#110: weak_scaling_3\tJ21952_k4_t1_Stokes_c256_Re50_mue_1\t09/22/2021 23:57:34\t152cb062...\r\n",
       "#111: weak_scaling_3\tJ351232_k2_t1_Stokes_c512_Re50_mue_1stretch_2\t09/23/2021 00:38:19\t7536bb32...\r\n",
       "#112: strong_scaling_3_2\tJ17496_k4_t1_Stokes_c256_Re50_mue_1\t09/23/2021 00:22:15\t83a19633...\r\n",
       "#113: weak_scaling_3\tJ21952_k4_t1_Stokes_c256_Re50_mue_1_c256_Re50_mue_1\t09/23/2021 00:00:12\t27c845cb...\r\n",
       "#114: strong_scaling_3_2\tJ17496_k4_t1_Stokes_c128_Re50_mue_1\t09/23/2021 00:19:50\td8fb4242...\r\n",
       "#115: strong_scaling_3_2\tJ31944_k3_t1_Stokes_c16_Re50_mue_1\t09/23/2021 00:13:44\tda2de3a5...\r\n",
       "#116: strong_scaling_3_2\tJ31944_k3_t1_Stokes_c256_Re50_mue_1\t09/23/2021 00:22:49\t4fa09aea...\r\n",
       "#117: weak_scaling_3\tJ170368_k2_t1_Stokes_c256_Re50_mue_1stretch2_memtrckon\t09/23/2021 00:46:21\t8c26435e...\r\n",
       "#118: strong_scaling_3_2\tJ65856_k2_t1_Stokes_c8_Re50_mue_1\t09/23/2021 00:12:55\t9cb612c3...\r\n",
       "#119: strong_scaling_3_2\tJ65856_k2_t1_Stokes_c16_Re50_mue_1\t09/23/2021 00:14:14\t453eb66f...\r\n",
       "#120: strong_scaling_3_2\tJ17496_k4_t1_Stokes_c64_Re50_mue_1\t09/23/2021 00:16:15\tc2663f1d...\r\n",
       "#121: strong_scaling_3_2\tJ65856_k2_t1_Stokes_c256_Re50_mue_1\t09/23/2021 00:22:48\t1eed92d6...\r\n",
       "#122: strong_scaling_3_2\tJ65856_k2_t1_Stokes_c32_Re50_mue_1\t09/23/2021 00:15:47\t39fa1ced...\r\n",
       "#123: strong_scaling_3_2\tJ65856_k2_t1_Stokes_c64_Re50_mue_1\t09/23/2021 00:16:47\t1bf261db...\r\n",
       "#124: strong_scaling_3_2\tJ31944_k3_t1_Stokes_c128_Re50_mue_1\t09/23/2021 00:20:31\t7b680cb8...\r\n",
       "#125: strong_scaling_3_2\tJ31944_k3_t1_Stokes_c64_Re50_mue_1\t09/23/2021 00:16:45\tb8987fed...\r\n",
       "#126: strong_scaling_3_2\tJ65856_k2_t1_Stokes_c128_Re50_mue_1\t09/23/2021 00:21:46\t8471f3c5...\r\n",
       "#127: weak_scaling_3\tJ46656_k3_t1_Stokes_c256_Re50_mue_1\t09/22/2021 23:57:05\t3bd640f5...\r\n",
       "#128: weak_scaling_3\tJ46656_k3_t1_Stokes_c256_Re50_mue_1_c256_Re50_mue_1\t09/22/2021 23:59:36\tf32d80ad...\r\n",
       "#129: weak_scaling_3\tJ85184_k2_t1_Stokes_c256_Re50_mue_1_c256_Re50_mue_1\t09/22/2021 23:59:07\t6b8bb819...\r\n",
       "#130: weak_scaling_3\tJ85184_k2_t1_Stokes_c256_Re50_mue_1\t09/22/2021 23:56:40\ta143fe0c...\r\n",
       "#131: weak_scaling_3\tJ729_k4_t1_Stokes_c8_Re50_mue_1\t09/22/2021 23:48:53\tf8d7896c...\r\n",
       "#132: weak_scaling_3\tJ1331_k3_t1_Stokes_c8_Re50_mue_1\t09/22/2021 23:48:36\ta71e3000...\r\n",
       "#133: weak_scaling_3\tJ2744_k2_t1_Stokes_c8_Re50_mue_1\t09/22/2021 23:48:11\tb610d138...\r\n",
       "#134: strong_scaling_3_dismissed\tJ65856_k2_t1_Stokes_c128_Re50_mue_1\t09/21/2021 21:35:57\t07bd5ff5...\r\n",
       "#135: strong_scaling_3_dismissed\tJ17496_k4_t1_Stokes_c32_Re50_mue_1\t09/21/2021 21:17:01\t0d4e8801...\r\n",
       "#136: strong_scaling_3_dismissed\tJ65856_k2_t1_Stokes_c64_Re50_mue_1\t09/21/2021 21:29:09\t3d712409...\r\n",
       "#137: strong_scaling_3_dismissed\tJ31944_k3_t1_Stokes_c128_Re50_mue_1\t09/21/2021 21:35:49\t4932b156...\r\n",
       "#138: strong_scaling_3_dismissed\tJ31944_k3_t1_Stokes_c64_Re50_mue_1\t09/21/2021 21:17:28\t70500479...\r\n",
       "#139: strong_scaling_3_dismissed\tJ31944_k3_t1_Stokes_c32_Re50_mue_1\t09/21/2021 21:17:01\tbf587ef2...\r\n",
       "#140: strong_scaling_3_dismissed\tJ17496_k4_t1_Stokes_c16_Re50_mue_1\t09/21/2021 21:15:53\tc6ec4d7f...\r\n",
       "#141: strong_scaling_3_dismissed\tJ17496_k4_t1_Stokes_c64_Re50_mue_1\t09/21/2021 21:17:26\td675174b...\r\n",
       "#142: strong_scaling_3_dismissed\tJ65856_k2_t1_Stokes_c256_Re50_mue_1\t09/21/2021 21:37:05\tdeeb3367...\r\n",
       "#143: weak_scaling_test_2\tJ85184_k3_t1_Stokes_c512_Re50_mue_1\t09/22/2021 15:15:12\tc34d08d0...\r\n",
       "#144: weak_scaling_test_2\tJ85184_k3_t1_Stokes_c512_Re50_mue_1_c512_Re50_mue_1\t09/22/2021 00:34:35\t298433f4...\r\n",
       "#145: weak_scaling_test_2\tJ85184_k3_t1_Stokes_c512_Re50_mue_1\t09/22/2021 00:33:54\tb09451c7...\r\n",
       "#146: weak_scaling_test_2\tJ175616_k2_t1_Stokes_c512_Re50_mue_1\t09/22/2021 00:32:33\t1b9d6909...\r\n",
       "#147: weak_scaling_test_2\tJ175616_k2_t1_Stokes_c512_Re50_mue_1_c512_Re50_mue_1\t09/22/2021 00:34:22\te56eec3e...\r\n",
       "#148: weak_scaling_test\tJ351232_k2_t1_Stokes__c512_Re50_mue_1\t09/21/2021 22:49:04\t56e3f0ea...\r\n",
       "#149: weak_scaling_test\tJ93312_k4_t1_Stokes_c512_Re50_mue_1*\t09/21/2021 23:22:40\tdb9378f2...\r\n",
       "#150: weak_scaling_test\tJ170368_k3_t1_Stokes_c512_Re50_mue_1*\t09/21/2021 23:22:24\t603b3911...\r\n",
       "#151: strong_scaling_3_1\tJ17496_k4_t1_Stokes_c8_Re50_mue_1\t09/21/2021 21:15:31\t1d211125...\r\n",
       "#152: weak_scaling_test\tJ93312_k4_t1_Stokes_c512_Re50_mue_1__c512_Re50_mue_1__c512_Re50_mue_1*\t09/21/2021 22:56:56\tcc38c7d1...\r\n",
       "#153: weak_scaling_test\tJ170368_k3_t1_Stokes_c512_Re50_mue_1__c512_Re50_mue_1__c512_Re50_mue_1*\t09/21/2021 22:56:46\t95100322...\r\n",
       "#154: weak_scaling_test\tJ351232_k2_t1_Stokes_c512_Re50_mue_1__c512_Re50_mue_1__c512_Re50_mue_1*\t09/21/2021 22:56:26\t1d224fd9...\r\n",
       "#155: weak_scaling_test\tJ93312_k4_t1_Stokes__c512_Re50_mue_1_c512_Re50_mue_1*\t09/21/2021 22:53:40\tb8457d2b...\r\n",
       "#156: weak_scaling_test\tJ170368_k3_t1_Stokes__c512_Re50_mue_1_c512_Re50_mue_1*\t09/21/2021 22:53:30\t4bb909ba...\r\n",
       "#157: weak_scaling_test\tJ351232_k2_t1_Stokes__c512_Re50_mue_1_c512_Re50_mue_1*\t09/21/2021 22:53:13\tdc047f1c...\r\n",
       "#158: weak_scaling_test\tJ93312_k4_t1_Stokes__c512_Re50_mue_1*\t09/21/2021 22:49:34\t3f482742...\r\n",
       "#159: weak_scaling_test\tJ170368_k3_t1_Stokes__c512_Re50_mue_1*\t09/21/2021 22:49:15\t0c950639...\r\n",
       "#160: weak_scaling_test\tJ93312_k4_t1_Stokes_c512_Re50_mue_1__c512_Re50_mue_1*\t09/21/2021 22:43:08\tc60cf372...\r\n",
       "#161: weak_scaling_test\tJ170368_k3_t1_Stokes_c512_Re50_mue_1__c512_Re50_mue_1*\t09/21/2021 22:42:58\tb3b08348...\r\n",
       "#162: weak_scaling_test\tJ351232_k2_t1_Stokes_c512_Re50_mue_1__c512_Re50_mue_1*\t09/21/2021 22:42:26\t9b3bbd62...\r\n",
       "#163: weak_scaling_test\tJ93312_k4_t1_Stokes_c512_Re50_mue_1_c512_Re50_mue_1*\t09/21/2021 22:30:57\ta518a33d...\r\n",
       "#164: weak_scaling_test\tJ170368_k3_t1_Stokes_c512_Re50_mue_1_c512_Re50_mue_1*\t09/21/2021 22:30:48\t8f96d832...\r\n",
       "#165: weak_scaling_test\tJ351232_k2_t1_Stokes_c512_Re50_mue_1_c512_Re50_mue_1*\t09/21/2021 22:30:31\t11530b17...\r\n",
       "#166: weak_scaling_test\tJ93312_k4_t1_Stokes_c512_Re50_mue_1*\t09/21/2021 22:30:16\tfd3dae30...\r\n",
       "#167: weak_scaling_test\tJ170368_k3_t1_Stokes_c512_Re50_mue_1*\t09/21/2021 22:30:07\tc7c940f5...\r\n",
       "#168: weak_scaling_test\tJ351232_k2_t1_Stokes_c512_Re50_mue_1*\t09/21/2021 22:29:54\td7993d9c...\r\n",
       "#169: strong_scaling_3_1\tJ17496_k4_t1_Stokes_c256_Re50_mue_1\t09/21/2021 21:36:15\t5c85796c...\r\n",
       "#170: strong_scaling_3_1\tJ31944_k3_t1_Stokes_c8_Re50_mue_1\t09/21/2021 21:15:26\tc0cd8d7a...\r\n",
       "#171: strong_scaling_3_1\tJ17496_k4_t1_Stokes_c128_Re50_mue_1\t09/21/2021 21:35:30\t588282ca...\r\n",
       "#172: strong_scaling_3_1\tJ31944_k3_t1_Stokes_c256_Re50_mue_1\t09/21/2021 21:36:35\t9add6e97...\r\n",
       "#173: strong_scaling_3_1\tJ31944_k3_t1_Stokes_c16_Re50_mue_1\t09/21/2021 21:16:27\tb63e6c17...\r\n",
       "#174: strong_scaling_3_1\tJ65856_k2_t1_Stokes_c16_Re50_mue_1\t09/21/2021 21:16:30\t25b97a05...\r\n",
       "#175: strong_scaling_3_1\tJ65856_k2_t1_Stokes_c8_Re50_mue_1\t09/21/2021 21:15:57\t5078187b...\r\n",
       "#176: strong_scaling_3_1\tJ65856_k2_t1_Stokes_c32_Re50_mue_1\t09/21/2021 21:16:58\t419b9f7b...\r\n",
       "#177: strong_scaling_3\tJ17496_k4_t1_Stokes_c8_Re50_mue_1_c8_Re50_mue_1\t09/21/2021 00:05:54\tbfcf3828...\r\n",
       "#178: strong_scaling_3\tJ17496_k4_t1_Stokes_c16_Re50_mue_1_c16_Re50_mue_1\t09/21/2021 00:06:01\t4295b2d9...\r\n",
       "#179: strong_scaling_3\tJ31944_k3_t1_Stokes_c8_Re50_mue_1\t09/21/2021 00:15:50\t444fce76...\r\n",
       "#180: strong_scaling_3\tJ17496_k4_t1_Stokes_c32_Re50_mue_1_c32_Re50_mue_1\t09/21/2021 00:06:15\t496531ee...\r\n",
       "#181: strong_scaling_3\tJ17496_k4_t1_Stokes_c64_Re50_mue_1_c64_Re50_mue_1\t09/21/2021 00:06:29\te58a7266...\r\n",
       "#182: strong_scaling_3\tJ65856_k2_t1_Stokes_c8_Re50_mue_1\t09/21/2021 00:19:53\t3336b767...\r\n",
       "#183: strong_scaling_3\tJ31944_k3_t1_Stokes_c16_Re50_mue_1\t09/21/2021 00:16:06\tec9753d0...\r\n",
       "#184: strong_scaling_3\tJ65856_k2_t1_Stokes_c16_Re50_mue_1\t09/21/2021 00:19:58\ta74aa121...\r\n",
       "#185: weak_scaling_2\tJ93312_k4_t1_Stokes__c512_Re50_mue_1*\t09/21/2021 00:58:08\tf3a05dfb...\r\n",
       "#186: weak_scaling_2\tJ170368_k3_t1_Stokes__c512_Re50_mue_1*\t09/21/2021 00:57:35\t62ad8862...\r\n",
       "#187: strong_scaling_3\tJ17496_k4_t1_Stokes_c256_Re50_mue_1\t09/21/2021 00:06:53\tac5313a0...\r\n",
       "#188: strong_scaling_3\tJ31944_k3_t1_Stokes_c256_Re50_mue_1_c256_Re50_mue_1\t09/21/2021 00:14:01\t5c7bc9e6...\r\n",
       "#189: weak_scaling_2\tJ11664_k4_t1_Stokes_c64_Re50_mue_1__c64_Re50_mue_1\t09/21/2021 00:32:27\t388d366d...\r\n",
       "#190: weak_scaling_2\tJ43904_k2_t1_Stokes_c64_Re50_mue_1\t09/21/2021 00:29:41\teb6e7b5e...\r\n",
       "#191: strong_scaling_3\tJ17496_k4_t1_Stokes_c128_Re50_mue_1\t09/21/2021 00:11:16\tcbfb4e3b...\r\n",
       "#192: weak_scaling_2\tJ93312_k4_t1_Stokes_c512_Re50_mue_1__c512_Re50_mue_1*\t09/21/2021 00:43:55\te596a2a8...\r\n",
       "#193: weak_scaling_2\tJ170368_k3_t1_Stokes_c512_Re50_mue_1__c512_Re50_mue_1*\t09/21/2021 00:43:48\t8b3a6b57...\r\n",
       "#194: weak_scaling_2\tJ351232_k2_t1_Stokes_c512_Re50_mue_1__c512_Re50_mue_1*\t09/21/2021 00:43:29\taad2a119...\r\n",
       "#195: strong_scaling_3\tJ65856_k2_t1_Stokes_c64_Re50_mue_1\t09/21/2021 00:20:30\t75aba247...\r\n",
       "#196: strong_scaling_3\tJ31944_k3_t1_Stokes_c32_Re50_mue_1\t09/21/2021 00:16:19\teed13f0f...\r\n",
       "#197: strong_scaling_3\tJ31944_k3_t1_Stokes_c256_Re50_mue_1\t09/21/2021 00:13:22\t157dab46...\r\n",
       "#198: weak_scaling_2\tJ43904_k2_t1_Stokes_c64_Re50_mue_1__c64_Re50_mue_1\t09/21/2021 00:31:57\t2f404fe2...\r\n",
       "#199: weak_scaling_2\tJ21296_k3_t1_Stokes_c64_Re50_mue_1__c64_Re50_mue_1\t09/21/2021 00:32:10\tf55fd1fa...\r\n",
       "#200: strong_scaling_3\tJ65856_k2_t1_Stokes_c128_Re50_mue_1\t09/21/2021 00:19:11\t4f5d47bf...\r\n",
       "#201: weak_scaling_2\tJ93312_k4_t1_Stokes_c512_Re50_mue_1*\t09/21/2021 00:35:55\t023794d5...\r\n",
       "#202: weak_scaling_2\tJ170368_k3_t1_Stokes_c512_Re50_mue_1*\t09/21/2021 00:35:41\t490ac5a9...\r\n",
       "#203: weak_scaling_2\tJ351232_k2_t1_Stokes_c512_Re50_mue_1*\t09/21/2021 00:35:29\td7a46ccb...\r\n",
       "#204: strong_scaling_3\tJ65856_k2_t1_Stokes_c32_Re50_mue_1\t09/21/2021 00:20:19\t2c42fae7...\r\n",
       "#205: strong_scaling_3\tJ65856_k2_t1_Stokes_c256_Re50_mue_1\t09/21/2021 00:19:26\tc5496d6f...\r\n",
       "#206: strong_scaling_3\tJ31944_k3_t1_Stokes_c64_Re50_mue_1\t09/21/2021 00:16:28\tf2f38b1c...\r\n",
       "#207: strong_scaling_3\tJ31944_k3_t1_Stokes_c128_Re50_mue_1_c128_Re50_mue_1\t09/21/2021 00:13:47\t3008db3c...\r\n",
       "#208: strong_scaling_3\tJ31944_k3_t1_Stokes_c128_Re50_mue_1__c128_Re50_mue_1\t09/21/2021 00:18:03\t5825f3e0...\r\n",
       "#209: weak_scaling_2\tJ11664_k4_t1_Stokes_c64_Re50_mue_1*\t09/21/2021 00:30:05\tee8ac0cf...\r\n",
       "#210: weak_scaling_2\tJ21296_k3_t1_Stokes_c64_Re50_mue_1*\t09/21/2021 00:29:56\t7e384c03...\r\n",
       "#211: weak_scaling_2\tJ1458_k4_t1_Stokes_c8_Re50_mue_1\t09/21/2021 00:25:43\t44990372...\r\n",
       "#212: weak_scaling_2\tJ2662_k3_t1_Stokes_c8_Re50_mue_1\t09/21/2021 00:25:32\tfbc7f3ed...\r\n",
       "#213: weak_scaling_2\tJ5488_k2_t1_Stokes_c8_Re50_mue_1\t09/21/2021 00:25:16\t264f1b36...\r\n",
       "#214: weak_scaling_2\tJ2187_k4_t1_Stokes_c8_Re50_mue_1*\t09/21/2021 00:22:53\tded803cf...\r\n",
       "#215: weak_scaling_2\tJ3993_k3_t1_Stokes_c8_Re50_mue_1*\t09/21/2021 00:22:42\tb749721c...\r\n",
       "#216: weak_scaling_2\tJ8232_k2_t1_Stokes_c8_Re50_mue_1*\t09/21/2021 00:22:28\t98229e5c...\r\n",
       "#217: strong_test_2\tJ17496_k4_t1_Stokes_c128_Re50_mue_1\t09/20/2021 22:04:10\td2001bdd...\r\n",
       "#218: strong_test_2\tJ17496_k4_t1_Stokes_c128_Re50_mue_1_20Iter*\t09/20/2021 21:24:25\tf9dc0327...\r\n",
       "#219: strong_test_2\tJ17496_k4_t1_Stokes_c128_Re50_mue_1_c128_Re50_mue_1_no_reortho\t09/20/2021 17:13:15\tf7686f7f...\r\n",
       "#220: strong_test_2\tJ17496_k4_t1_Stokes_c128_Re50_mue_1\t09/20/2021 16:46:16\t5dab4999...\r\n",
       "#221: strong_test_2\tJ17496_k4_t1_Stokes_c128_Re50_mue_1_c128_Re50_mue_1_2\t09/20/2021 16:48:24\t975fc7a8...\r\n",
       "#222: strong_test_2\tJ17496_k4_t1_Stokes_c128_Re50_mue_1_c128_Re50_mue_1_no_reortho\t09/20/2021 16:46:38\t242a3de4...\r\n",
       "#223: strong_test_2\tJ17496_k4_t1_Stokes_c128_Re50_mue_1_20Iter*\t09/20/2021 17:15:15\t9162514a...\r\n",
       "#224: strong_test_2\tJ17496_k4_t1_Stokes_c128_Re50_mue_1_20Iter*\t09/20/2021 16:49:06\teba1041f...\r\n",
       "#225: strong_test_2\tJ17496_k4_t1_Stokes_c128_Re50_mue_1_c128_Re50_mue_1_no_reortho*\t09/20/2021 16:47:19\t2c000220...\r\n",
       "#226: strong_test_2\tJ17496_k4_t1_Stokes_c128_Re50_mue_1_c128_Re50_mue_1_2*\t09/20/2021 16:41:57\t5841bf79...\r\n",
       "#227: strong_test_2\tJ17496_k4_t1_Stokes_c128_Re50_mue_1_c128_Re50_mue_1_no_reortho*\t09/20/2021 16:38:16\t9d28ce74...\r\n",
       "#228: strong_test_2\tJ17496_k4_t1_Stokes_c128_Re50_mue_1_20Iter*\t09/20/2021 16:34:08\tc59cb886...\r\n",
       "#229: strong_test_2\tJ17496_k4_t1_Stokes_c128_Re50_mue_1*\t09/20/2021 16:30:27\tb3521689...\r\n",
       "#230: strong_test\tJ17496_k4_t1_Stokes_c128_Re50_mue_1\t09/18/2021 23:38:56\tee100d0a...\r\n",
       "#231: strong_test\tJ17496_k4_t1_Stokes_c128_Re50_mue_1*\t09/18/2021 23:13:00\t6ee3d22c...\r\n",
       "#232: strong_test\tJ17496_k4_t1_Stokes_c32_Re50_mue_1*\t09/18/2021 23:12:53\tc7091a73...\r\n",
       "#233: strong_test\tJ17496_k4_t1_Stokes_c8_Re50_mue_1*\t09/18/2021 23:12:37\tf145629c...\r\n",
       "#234: weak_test\tJ17496_k4_t1_Stokes_c64_Re50_mue_1\t09/18/2021 01:21:17\t8bf107f8...\r\n",
       "#235: weak_test\tJ65856_k2_t1_Stokes_c64_Re50_mue_1\t09/18/2021 01:19:48\t51920466...\r\n",
       "#236: weak_test\tJ31944_k3_t1_Stokes_c64_Re50_mue_1\t09/18/2021 01:19:48\t028c6ee2...\r\n",
       "#237: strong_scaling_2\tJ31944_k3_t1_Stokes__c256_Re50_mue_1\t09/18/2021 01:01:28\t6ea81d41...\r\n",
       "#238: strong_scaling_2\tJ17496_k4_t1_Stokes__c128_Re50_mue_1\t09/18/2021 00:50:27\t182d861f...\r\n",
       "#239: weak_test\tJ2187_k4_t1_Stokes_c8_Re50_mue_1\t09/18/2021 01:21:19\t75bb6b79...\r\n",
       "#240: weak_test\tJ3993_k3_t1_Stokes_c8_Re50_mue_1\t09/18/2021 01:21:13\t7a58873b...\r\n",
       "#241: weak_test\tJ8232_k2_t1_Stokes_c8_Re50_mue_1\t09/18/2021 01:21:15\t6a1c6edf...\r\n",
       "#242: strong_scaling_2\tJ65856_k2_t1_Stokes__c128_Re50_mue_1\t09/18/2021 00:42:21\t6a361809...\r\n",
       "#243: strong_scaling_2\tJ31944_k3_t1_Stokes__c32_Re50_mue_1\t09/17/2021 23:38:17\tadca9bfa...\r\n",
       "#244: strong_scaling_2\tJ17496_k4_t1_Stokes__c256_Re50_mue_1*\t09/18/2021 01:10:28\t727fb650...\r\n",
       "#245: strong_scaling_2\tJ31944_k3_t1_Stokes__c128_Re50_mue_1\t09/18/2021 00:43:32\t8c155e79...\r\n",
       "#246: strong_scaling_2\tJ65856_k2_t1_Stokes__c256_Re50_mue_1*\t09/18/2021 01:00:29\tfb98413d...\r\n",
       "#247: strong_scaling_2\tJ17496_k4_t1_Stokes__c32_Re50_mue_1\t09/17/2021 23:40:15\tad06a202...\r\n",
       "#248: strong_scaling_2\tJ65856_k2_t1_Stokes__c64_Re50_mue_1\t09/17/2021 23:49:58\tad64c0d4...\r\n",
       "#249: strong_scaling_2\tJ17496_k4_t1_Stokes__c8_Re50_mue_1*\t09/18/2021 00:25:00\ta009e3f6...\r\n",
       "#250: strong_scaling_2\tJ31944_k3_t1_Stokes__c8_Re50_mue_1*\t09/18/2021 00:10:04\teebabf91...\r\n",
       "#251: strong_scaling_2\tJ65856_k2_t1_Stokes__c8_Re50_mue_1*\t09/18/2021 00:06:44\td999abe8...\r\n",
       "#252: strong_scaling_2\tJ17496_k4_t1_Stokes__c64_Re50_mue_1*\t09/17/2021 23:58:29\t80bf8537...\r\n",
       "#253: strong_scaling_2\tJ31944_k3_t1_Stokes__c64_Re50_mue_1*\t09/17/2021 23:56:29\t96ac04f6...\r\n",
       "#254: strong_scaling_2\tJ65856_k2_t1_Stokes__c32_Re50_mue_1*\t09/17/2021 23:38:16\ta52cdd70...\r\n",
       "#255: strong_scaling_2\tJ17496_k4_t1_Stokes__c16_Re50_mue_1*\t09/17/2021 23:35:13\t86b1eed9...\r\n",
       "#256: strong_scaling_2\tJ31944_k3_t1_Stokes__c16_Re50_mue_1*\t09/17/2021 23:27:40\t1e65477e...\r\n",
       "#257: strong_scaling_2\tJ65856_k2_t1_Stokes__c16_Re50_mue_1*\t09/17/2021 23:21:06\td405f2b7...\r\n",
       "#258: test\tJ12288_k4_t1_Stokes_c256_Re50_mue_1\t09/17/2021 21:41:54\t62134ce9...\r\n",
       "#259: test\tJ12288_k4_t1_Stokes_c128_Re50_mue_1\t09/17/2021 21:32:08\te01aa47e...\r\n",
       "#260: test\tJ12288_k4_t1_Stokes__c256_Re50_mue_1\t09/17/2021 15:44:44\te013f6c9...\r\n",
       "#261: test\tJ12288_k4_t1_Stokes__c128_Re50_mue_1\t09/17/2021 15:37:17\t2bf93297...\r\n",
       "#262: strong_scaling\tJ17496_k4_t1_Stokes__c8_Re50_mue_1\t09/16/2021 12:00:08\tc945104d...\r\n",
       "#263: test\tJ12288_k4_t1_Stokes__c256_Re50_mue_1\t09/16/2021 13:36:01\t332d16fc...\r\n",
       "#264: test\tJ12288_k4_t1_Stokes__c128_Re50_mue_1\t09/16/2021 13:33:54\tb8cd456b...\r\n",
       "#265: strong_scaling\tJ17496_k4_t1_Stokes__c64_Re50_mue_1\t09/16/2021 03:52:00\t96ef54d7...\r\n",
       "#266: strong_scaling\tJ65856_k2_t1_Stokes__c8_Re50_mue_1\t09/16/2021 03:36:22\t2fe968b3...\r\n",
       "#267: strong_scaling\tJ17496_k4_t1_Stokes__c256_Re50_mue_1\t09/16/2021 03:36:25\t20636b15...\r\n",
       "#268: strong_scaling\tJ17496_k4_t1_Stokes__c32_Re50_mue_1\t09/16/2021 02:54:38\t04d675c5...\r\n",
       "#269: strong_scaling\tJ31944_k3_t1_Stokes__c64_Re50_mue_1\t09/16/2021 03:48:46\t868162ce...\r\n",
       "#270: strong_scaling\tJ17496_k4_t1_Stokes__c128_Re50_mue_1\t09/16/2021 03:11:38\t356b79c5...\r\n",
       "#271: strong_scaling\tJ31944_k3_t1_Stokes__c256_Re50_mue_1\t09/16/2021 03:24:25\tebbaeb37...\r\n",
       "#272: strong_scaling\tJ17496_k4_t1_Stokes__c16_Re50_mue_1\t09/16/2021 02:35:54\t4529908a...\r\n",
       "#273: strong_scaling\tJ65856_k2_t1_Stokes__c256_Re50_mue_1\t09/16/2021 03:20:21\t65f287e1...\r\n",
       "#274: strong_scaling\tJ31944_k3_t1_Stokes__c128_Re50_mue_1\t09/16/2021 03:11:15\t90e424ed...\r\n",
       "#275: strong_scaling\tJ65856_k2_t1_Stokes__c128_Re50_mue_1\t09/16/2021 03:00:48\t4a01f831...\r\n",
       "#276: strong_scaling\tJ31944_k3_t1_Stokes__c32_Re50_mue_1\t09/16/2021 02:48:59\t889dd618...\r\n",
       "#277: strong_scaling\tJ65856_k2_t1_Stokes__c64_Re50_mue_1\t09/16/2021 02:56:34\t1d3f2982...\r\n",
       "#278: strong_scaling\tJ65856_k2_t1_Stokes__c32_Re50_mue_1\t09/16/2021 02:35:57\td55e3284...\r\n",
       "#279: strong_scaling\tJ31944_k3_t1_Stokes__c16_Re50_mue_1\t09/16/2021 02:07:57\t031c8f78...\r\n",
       "#280: strong_scaling\tJ31944_k3_t1_Stokes__c8_Re50_mue_1\t09/16/2021 01:30:00\t8e141e62...\r\n",
       "#281: strong_scaling\tJ65856_k2_t1_Stokes__c16_Re50_mue_1\t09/16/2021 01:49:29\te05c1a05...\r\n",
       "#282: rotSphere_benchmark_2\tJ17496_k3_t1_NSE__c16_Re50_mue_1__c16_Re50_mue_1\t09/14/2021 14:08:46\t8e067c09...\r\n",
       "#283: rotSphere_benchmark_2\tJ17496_k3_t1_NSE__c8_Re50_mue_1\t09/14/2021 10:56:12\teb672cea...\r\n",
       "#284: rotSphere_benchmark_2\tJ17496_k3_t1_NSE__c256_Re50_mue_1\t09/13/2021 23:53:34\tc22aa0c3...\r\n",
       "#285: rotSphere_benchmark_2\tJ17496_k3_t1_NSE__c128_Re50_mue_1\t09/13/2021 23:53:05\tcb6ffcd1...\r\n",
       "#286: rotSphere_benchmark_2\tJ17496_k3_t1_NSE__c32_Re50_mue_1\t09/13/2021 23:52:33\t44410896...\r\n",
       "#287: rotSphere_benchmark_2\tJ17496_k3_t1_NSE__c64_Re50_mue_1\t09/13/2021 23:53:02\tf678ed91...\r\n",
       "#288: rotSphere_benchmark\tJ17496_k3_t10_NSE__c64_Re50_mue_0.01\t09/13/2021 22:31:40\td2fb40c1...\r\n",
       "#289: rotSphere_benchmark\tJ17496_k3_t10_NSE__c64_Re50_mue_0.1\t09/13/2021 22:31:09\tea5b7a79...\r\n",
       "#290: rotSphere_benchmark\tJ17496_k3_t10_NSE__c256_Re50_mue_1\t09/13/2021 22:01:56\t4ba533cf...\r\n",
       "#291: rotSphere_benchmark\tJ17496_k3_t10_NSE__c64_Re50_mue_1\t09/13/2021 22:31:07\t5390613f...\r\n",
       "#292: { Error loading session }\r\n",
       "#293: { Error loading session }\r\n",
       "#294: { Error loading session }\r\n",
       "#295: { Error loading session }\r\n",
       "#296: { Error loading session }\r\n",
       "#297: { Error loading session }\r\n",
       "#298: { Error loading session }\r\n",
       "#299: { Error loading session }\r\n",
       "#300: { Error loading session }\r\n"
      ]
     },
     "metadata": {},
     "output_type": "display_data"
    }
   ],
   "source": [
    "//var DB = OpenOrCreateDatabase(@\"W:\\work\\scratch\\jw52xeqa\\DB_rotSphereBenchmark\"); DB.Sessions\n",
    "var DB = OpenOrCreateDatabase(@\"W:\\work\\scratch\\jw52xeqa\\DB_rotSphere_CoreScaling\"); DB.Sessions"
   ]
  },
  {
   "cell_type": "code",
   "execution_count": null,
   "metadata": {
    "dotnet_interactive": {
     "language": "csharp"
    }
   },
   "outputs": [
    {
     "data": {
      "text/plain": [
       "#0: weak_scaling_5_1_p-MG\tJ21952_k4_t1_Stokes_c256_Re50_mue_1\t10/13/2021 22:12:53\tce6eba80...\r\n",
       "#1: weak_scaling_5_1_p-MG\tJ10648_k4_t1_Stokes_c128_Re50_mue_1\t10/13/2021 22:12:23\t603efdc9...\r\n",
       "#2: weak_scaling_5_1_p-MG\tJ5832_k4_t1_Stokes_c64_Re50_mue_1\t10/13/2021 21:50:06\td471d2ca...\r\n",
       "#3: weak_scaling_5_1_p-MG\tJ2744_k4_t1_Stokes_c32_Re50_mue_1\t10/13/2021 21:50:00\tec370860...\r\n",
       "#4: weak_scaling_5_1_p-MG\tJ1331_k4_t1_Stokes_c16_Re50_mue_1\t10/13/2021 21:49:30\t5c6c0670...\r\n",
       "#5: weak_scaling_5_1_p-MG\tJ729_k4_t1_Stokes_c8_Re50_mue_1\t10/13/2021 21:49:24\tacdd73fe...\r\n"
      ]
     },
     "metadata": {},
     "output_type": "display_data"
    }
   ],
   "source": [
    "string WFlowName = \"weak_scaling_5_1_p-MG\";\n",
    "var wfmgr = BoSSS.Application.BoSSSpad.BoSSSshell.WorkflowMgm;\n",
    "wfmgr.Init(WFlowName); wfmgr.Sessions"
   ]
  },
  {
   "cell_type": "code",
   "execution_count": null,
   "metadata": {
    "dotnet_interactive": {
     "language": "csharp"
    }
   },
   "outputs": [
    {
     "data": {
      "text/plain": [
       "#0: weak_scaling_5_1_p-MG\tJ21952_k4_t1_Stokes_c256_Re50_mue_1\t10/13/2021 22:12:53\tce6eba80...\r\n",
       "#1: weak_scaling_5_1_p-MG\tJ10648_k4_t1_Stokes_c128_Re50_mue_1\t10/13/2021 22:12:23\t603efdc9...\r\n",
       "#2: weak_scaling_5_1_p-MG\tJ5832_k4_t1_Stokes_c64_Re50_mue_1\t10/13/2021 21:50:06\td471d2ca...\r\n",
       "#3: weak_scaling_5_1_p-MG\tJ2744_k4_t1_Stokes_c32_Re50_mue_1\t10/13/2021 21:50:00\tec370860...\r\n",
       "#4: weak_scaling_5_1_p-MG\tJ1331_k4_t1_Stokes_c16_Re50_mue_1\t10/13/2021 21:49:30\t5c6c0670...\r\n",
       "#5: weak_scaling_5_1_p-MG\tJ729_k4_t1_Stokes_c8_Re50_mue_1\t10/13/2021 21:49:24\tacdd73fe...\r\n"
      ]
     },
     "metadata": {},
     "output_type": "display_data"
    }
   ],
   "source": [
    "wfmgr.Sessions.Where(s=>!s.SuccessfulTermination).ForEach(s=>s.Delete(true));\n",
    "wfmgr.Init(WFlowName); wfmgr.Sessions"
   ]
  },
  {
   "cell_type": "code",
   "execution_count": null,
   "metadata": {
    "dotnet_interactive": {
     "language": "csharp"
    }
   },
   "outputs": [],
   "source": [
    "/*\n",
    "CG projection               -> ProjectDGField                               BoSSS.Foundation.ConstrainedDGprojection.ConstrainedDGField_Global.ProjectDGField\n",
    "dyn Loadbalancing           -> DoLoadbalancing                              BoSSS.Solution.Application`1.DoLoadbalancing\n",
    "AMR                         -> DoMeshAdaption                               BoSSS.Solution.Application`1.DoMeshAdaption\n",
    "compile Cut-cell quadrature -> Rule_Compilation_SayeGaussRuleFactory        Rule_Compilation_SayeGaussRuleFactory\n",
    "compile standard quadrature -> Rule_Compilation_StandardQuadRuleFactory     Rule_Compilation_StandardQuadRuleFactory\n",
    "matrix assembly             -> XdgMatrixAssembly                            BoSSS.Solution.XdgTimestepping.XdgBDFTimestepping.AssembleMatrixCallback\n",
    "agg basis init              -> Aggregation_basis_init_time                  BoSSS.Solution.AdvancedSolvers.XdgAggregationBasis.Update\n",
    "solver init                 -> Solver_Init_time                             Slv Init\n",
    "solver run                  -> Solver_Run_time                              Slv Iter\n",
    "I/O                         -> SaveToDatabase                               BoSSS.Solution.Application`1.SaveToDatabase\n",
    "*/"
   ]
  },
  {
   "cell_type": "code",
   "execution_count": null,
   "metadata": {
    "dotnet_interactive": {
     "language": "csharp"
    }
   },
   "outputs": [],
   "source": [
    "static var PreComputeProfiling = new Dictionary<System.Guid,MethodCallRecord[]>();\n",
    "foreach(var sess in wfmgr.Sessions){\n",
    "    MethodCallRecord[] mcrs = null;\n",
    "    try{\n",
    "        mcrs = sess.GetProfiling();\n",
    "    } catch (Exception ex){\n",
    "        Console.WriteLine(ex.Message);\n",
    "    }\n",
    "    PreComputeProfiling.Add(sess.ID, mcrs);\n",
    "}"
   ]
  },
  {
   "cell_type": "code",
   "execution_count": null,
   "metadata": {
    "dotnet_interactive": {
     "language": "csharp"
    }
   },
   "outputs": [],
   "source": [
    "static class AddCols {\n",
    "    static public MethodCallRecord[] GetMCR(ISessionInfo SI){\n",
    "        MethodCallRecord[] mcrs = null;\n",
    "        PreComputeProfiling.TryGetValue(SI.ID,out mcrs);\n",
    "        return mcrs;\n",
    "    }\n",
    "    static private double TimeOnProc(MethodCallRecord mcr, string method){\n",
    "        double time = 0;\n",
    "        foreach(var child in mcr.FindChildren(method)){\n",
    "            time += child.TimeSpentInMethod.TotalSeconds;\n",
    "            //time += child.TimeSpentInMPIBlocking.TotalSeconds;\n",
    "        }\n",
    "        /*\n",
    "        var child = mcr.FindChildren(method).Pick(0);\n",
    "        time = child.TimeExclusive.TotalSeconds;\n",
    "        */\n",
    "        /*\n",
    "        double time = -1;\n",
    "        foreach(var child in mcr.FindChildren(method)){\n",
    "            var childtime = child.TimeSpentInMethod.TotalSeconds;\n",
    "            //var childtime = child.TimeSpentInMPIBlocking.TotalSeconds;\n",
    "            time = childtime > time? childtime:time;\n",
    "        }\n",
    "        */\n",
    "        return time;\n",
    "    }\n",
    "    static public double AverageTime(ISessionInfo SI,string method){\n",
    "        var mcrs       = GetMCR(SI);\n",
    "        double avtime = 0;\n",
    "\n",
    "        foreach(var mcr in mcrs){\n",
    "            avtime+=TimeOnProc(mcr,method);\n",
    "        }\n",
    "        avtime = avtime / mcrs.Count();\n",
    "        return avtime;\n",
    "    }\n",
    "    static public double MaxTime(ISessionInfo SI,string method){\n",
    "        var mcrs       = GetMCR(SI);\n",
    "        double maxtime = -1;\n",
    "\n",
    "        foreach(var mcr in mcrs){\n",
    "            double time =TimeOnProc(mcr,method);    \n",
    "            maxtime = time>maxtime?time:maxtime;\n",
    "        }\n",
    "        return maxtime;\n",
    "    }\n",
    "    static public object LSolverIter(ISessionInfo SI){\n",
    "        var mcr          = GetMCR(SI)[0];\n",
    "        string searchstr = \"BoSSS.Solution.AdvancedSolvers.OrthonormalizationMultigrid.Solve\";\n",
    "        var ndS = mcr.FindChildren(searchstr);\n",
    "        var nd  = ndS.ElementAt(1);\n",
    "        return nd.CallCount;\n",
    "    }\n",
    "    static public object NLSolverIter(ISessionInfo SI){\n",
    "        var mcr          = GetMCR(SI)[0];\n",
    "        string searchstr = \"BoSSS.Solution.AdvancedSolvers.Newton.GlobalizedNewton\";\n",
    "        var ndS = mcr.FindChildren(searchstr);\n",
    "        var nd  = ndS.ElementAt(0);\n",
    "        return nd.CallCount;\n",
    "    }\n",
    "    static public object TotalRuntime(ISessionInfo SI){\n",
    "        return MaxTime(SI,\"root_frame\");\n",
    "    }\n",
    "    static public object MatrixAssembly_time(ISessionInfo SI) {\n",
    "        return MaxTime(SI,\"BoSSS.Solution.XdgTimestepping.XdgBDFTimestepping.AssembleMatrixCallback\");\n",
    "    }\n",
    "    static public object AggregationBaseInit_time(ISessionInfo SI) {\n",
    "        return MaxTime(SI,\"BoSSS.Solution.AdvancedSolvers.XdgAggregationBasis.Update\");\n",
    "    }\n",
    "    static public object SolverInit_time(ISessionInfo SI) {\n",
    "        return MaxTime(SI,\"Slv Init\");\n",
    "    }\n",
    "    static public object SolverRun_time(ISessionInfo SI) {\n",
    "        return MaxTime(SI,\"Slv Iter\");\n",
    "    }\n",
    "    static public object DataIO_time(ISessionInfo SI){\n",
    "        double sum = 0;\n",
    "        sum+=MaxTime(SI,\"BoSSS.Solution.Application`1.CreateOrLoadGrid\");\n",
    "        sum+=MaxTime(SI,\"BoSSS.Solution.Application`1.SaveToDatabase\");\n",
    "        return sum;\n",
    "    }\n",
    "    static public object CGProjection_time(ISessionInfo SI){\n",
    "        return MaxTime(SI,\"BoSSS.Foundation.ConstrainedDGprojection.ConstrainedDGField_Global.ProjectDGField\");\n",
    "    }\n",
    "    static public object SayeCompile_time(ISessionInfo SI){\n",
    "        return MaxTime(SI,\"Rule_Compilation_SayeGaussRuleFactory\");\n",
    "    }\n",
    "    static public object StandardCompile_time(ISessionInfo SI){\n",
    "        return MaxTime(SI,\"Rule_Compilation_StandardQuadRuleFactory\");\n",
    "    }\n",
    "    static public object AMR_time(ISessionInfo SI){\n",
    "        return MaxTime(SI,\"BoSSS.Solution.Application`1.DoMeshAdaption\");\n",
    "    }\n",
    "    static public object LoadBal_time(ISessionInfo SI){\n",
    "        return MaxTime(SI,\"BoSSS.Solution.Application`1.DoLoadbalancing\");\n",
    "    }\n",
    "    static public object NoOfCores(ISessionInfo SI){\n",
    "        return SI.ComputeNodeNames.Count();\n",
    "    }\n",
    "    static public object NoOfNodes(ISessionInfo SI){\n",
    "        return SI.ComputeNodeNames.GroupBy(s=>s).Count();\n",
    "    }\n",
    "    static public object MGDepth(ISessionInfo SI){\n",
    "        var mcr = GetMCR(SI)[0];\n",
    "        double NInit  = mcr.FindChildren(\"BoSSS.Solution.AdvancedSolvers.OrthonormalizationMultigrid.Init\").ToArray().Length;\n",
    "        return NInit + 1;\n",
    "    }\n",
    "    static public object DOF(ISessionInfo SI){\n",
    "        return SI.GetDOF(\"VelocityX\")*3+SI.GetDOF(\"Pressure\");\n",
    "    }\n",
    "    static public Func<ISessionInfo,object> FuncGenerator(string method){\n",
    "        return delegate (ISessionInfo SI){\n",
    "            return MaxTime(SI, method);\n",
    "        };\n",
    "    }\n",
    "}"
   ]
  },
  {
   "cell_type": "code",
   "execution_count": null,
   "metadata": {
    "dotnet_interactive": {
     "language": "csharp"
    }
   },
   "outputs": [
    {
     "data": {
      "text/html": [
       "<table><thead><tr><th><i>index</i></th><th>value</th></tr></thead><tbody><tr><td>0</td><td><div class=\"dni-plaintext\">500</div></td></tr><tr><td>1</td><td><div class=\"dni-plaintext\">500</div></td></tr><tr><td>2</td><td><div class=\"dni-plaintext\">500</div></td></tr><tr><td>3</td><td><div class=\"dni-plaintext\">500</div></td></tr><tr><td>4</td><td><div class=\"dni-plaintext\">500</div></td></tr><tr><td>5</td><td><div class=\"dni-plaintext\">500</div></td></tr></tbody></table>"
      ]
     },
     "metadata": {},
     "output_type": "display_data"
    }
   ],
   "source": [
    "wfmgr.Sessions.Select(s=>AddCols.LSolverIter(s))"
   ]
  },
  {
   "cell_type": "code",
   "execution_count": null,
   "metadata": {
    "dotnet_interactive": {
     "language": "csharp"
    }
   },
   "outputs": [],
   "source": [
    "wfmgr.AdditionalSessionTableColums.Clear();\n",
    "wfmgr.AdditionalSessionTableColums.Add(\"LSolverIter\", AddCols.LSolverIter);\n",
    "wfmgr.AdditionalSessionTableColums.Add(\"NLSolverIter\", AddCols.NLSolverIter);\n",
    "wfmgr.AdditionalSessionTableColums.Add(\"TotalRuntime\", AddCols.TotalRuntime);\n",
    "wfmgr.AdditionalSessionTableColums.Add(\"MatrixAssembly_time\", AddCols.MatrixAssembly_time);\n",
    "wfmgr.AdditionalSessionTableColums.Add(\"AggregationBaseInit_time\", AddCols.AggregationBaseInit_time);\n",
    "wfmgr.AdditionalSessionTableColums.Add(\"DataIO_time\", AddCols.DataIO_time);\n",
    "wfmgr.AdditionalSessionTableColums.Add(\"CGProjection_time\", AddCols.CGProjection_time);\n",
    "wfmgr.AdditionalSessionTableColums.Add(\"SayeCompile_time\", AddCols.SayeCompile_time);\n",
    "wfmgr.AdditionalSessionTableColums.Add(\"StandardCompile_time\",AddCols.StandardCompile_time);\n",
    "wfmgr.AdditionalSessionTableColums.Add(\"AMR_time\",AddCols.AMR_time);\n",
    "wfmgr.AdditionalSessionTableColums.Add(\"LoadBal_time\",AddCols.LoadBal_time);\n",
    "wfmgr.AdditionalSessionTableColums.Add(\"NoOfCores\",AddCols.NoOfCores);\n",
    "wfmgr.AdditionalSessionTableColums.Add(\"NoOfNodes\",AddCols.NoOfNodes);\n",
    "wfmgr.AdditionalSessionTableColums.Add(\"SolverInit_time\", AddCols.SolverInit_time);\n",
    "wfmgr.AdditionalSessionTableColums.Add(\"SolverRun_time\", AddCols.SolverRun_time);\n",
    "wfmgr.AdditionalSessionTableColums.Add(\"MGDepth\",AddCols.MGDepth);\n",
    "wfmgr.AdditionalSessionTableColums.Add(\"DOF\",AddCols.DOF);"
   ]
  },
  {
   "cell_type": "code",
   "execution_count": null,
   "metadata": {
    "dotnet_interactive": {
     "language": "csharp"
    }
   },
   "outputs": [],
   "source": [
    "string[] AdditionalTraces = new string[]{               \n",
    "    \"BoSSS.Solution.AdvancedSolvers.OrthonormalizationMultigrid.AddSol\",\n",
    "    \"BoSSS.Solution.AdvancedSolvers.Schwarz.Solve\",\n",
    "    \"BoSSS.Solution.AdvancedSolvers.OrthonormalizationMultigrid.MinimizeResidual\",\n",
    "    \"BoSSS.Solution.AdvancedSolvers.OrthonormalizationMultigrid.Residual\",\n",
    "    \"BoSSS.Solution.AdvancedSolvers.OrthonormalizationMultigrid.Solve\",\n",
    "    \"overlap_scaling\",\n",
    "    \"block_solve_level\",\n",
    "    \"caching\",\n",
    "    \"nocaching\",\n",
    "    \"BoSSS.Solution.AdvancedSolvers.OrthonormalizationMultigrid.VerivyCurrentResidual\",\n",
    "    \"Restriction\",\n",
    "    \"Prolongation\",\n",
    "    \"BoSSS.Solution.AdvancedSolvers.DirectSolver.Solve\"\n",
    "};"
   ]
  },
  {
   "cell_type": "code",
   "execution_count": null,
   "metadata": {
    "dotnet_interactive": {
     "language": "csharp"
    }
   },
   "outputs": [],
   "source": [
    "foreach(string Ftrace in AdditionalTraces){\n",
    "    string[] Schnipsel = Ftrace.Split('.');\n",
    "    int L = Schnipsel.Length;\n",
    "    string ColumnName = \"\";\n",
    "    if(L>1)\n",
    "        ColumnName = String.Concat(Schnipsel[L-2],'.',Schnipsel[L-1]);\n",
    "    else\n",
    "        ColumnName = Schnipsel.Last();\n",
    "\n",
    "    wfmgr.AdditionalSessionTableColums.Add(ColumnName,AddCols.FuncGenerator(Ftrace));\n",
    "}"
   ]
  },
  {
   "cell_type": "code",
   "execution_count": null,
   "metadata": {
    "dotnet_interactive": {
     "language": "csharp"
    }
   },
   "outputs": [
    {
     "data": {
      "text/html": [
       "<table><thead><tr><th><i>index</i></th><th>value</th></tr></thead><tbody><tr><td>0</td><td>AdaptiveMeshRefinement</td></tr><tr><td>1</td><td>adaptiveReInit</td></tr><tr><td>2</td><td>AdvancedDiscretizationOptions.alpha</td></tr><tr><td>3</td><td>AdvancedDiscretizationOptions.CurvatureNeeded</td></tr><tr><td>4</td><td>AdvancedDiscretizationOptions.DoubleCutSpecialQuadrature</td></tr><tr><td>5</td><td>AdvancedDiscretizationOptions.FilterConfiguration.CurvatureLimiting</td></tr><tr><td>6</td><td>AdvancedDiscretizationOptions.FilterConfiguration.FilterCurvatureCycles</td></tr><tr><td>7</td><td>AdvancedDiscretizationOptions.FilterConfiguration.gradOpt</td></tr><tr><td>8</td><td>AdvancedDiscretizationOptions.FilterConfiguration.hessOpt</td></tr><tr><td>9</td><td>AdvancedDiscretizationOptions.FilterConfiguration.LevelSetSource</td></tr><tr><td>10</td><td>AdvancedDiscretizationOptions.FilterConfiguration.NoOfPatchRecoverySweeps</td></tr><tr><td>11</td><td>AdvancedDiscretizationOptions.FilterConfiguration.PatchRecoveryDomWidth</td></tr><tr><td>12</td><td>AdvancedDiscretizationOptions.FilterConfiguration.useFiltLevSetGrad</td></tr><tr><td>13</td><td>AdvancedDiscretizationOptions.FilterConfiguration.useFiltLevSetHess</td></tr><tr><td>14</td><td>AdvancedDiscretizationOptions.FilterConfiguration.UseWholeField</td></tr><tr><td>15</td><td>AdvancedDiscretizationOptions.freeSurfaceFlow</td></tr><tr><td>16</td><td>AdvancedDiscretizationOptions.GNBC_Localization</td></tr><tr><td>17</td><td>AdvancedDiscretizationOptions.GNBC_SlipLength</td></tr><tr><td>18</td><td>AdvancedDiscretizationOptions.IBM_BoundaryType</td></tr><tr><td>19</td><td>AdvancedDiscretizationOptions.LFFA</td></tr><tr><td colspan=\"2\">(223 more)</td></tr></tbody></table>"
      ]
     },
     "metadata": {},
     "output_type": "display_data"
    }
   ],
   "source": [
    "var SessTab = wfmgr.SessionTable;\n",
    "SessTab.GetColumnNames().OrderBy(s=>s)"
   ]
  },
  {
   "cell_type": "code",
   "execution_count": null,
   "metadata": {
    "dotnet_interactive": {
     "language": "csharp"
    }
   },
   "outputs": [],
   "source": [
    "// The Session column can't be serialized,\n",
    "// we have to remove it\n",
    "List<string> AllCols = SessTab.GetColumnNames().ToList();\n",
    "AllCols.Remove(\"Session\");"
   ]
  },
  {
   "cell_type": "code",
   "execution_count": null,
   "metadata": {
    "dotnet_interactive": {
     "language": "csharp"
    }
   },
   "outputs": [
    {
     "data": {
      "text/html": [
       "<table><thead><tr><th><i>index</i></th><th>value</th></tr></thead><tbody><tr><td>0</td><td>MGDepth</td></tr></tbody></table>"
      ]
     },
     "metadata": {},
     "output_type": "display_data"
    }
   ],
   "source": [
    "SessTab.GetColumnNames().Where(s=>s.Contains(\"Depth\"))"
   ]
  },
  {
   "cell_type": "code",
   "execution_count": null,
   "metadata": {
    "dotnet_interactive": {
     "language": "csharp"
    }
   },
   "outputs": [
    {
     "data": {
      "text/plain": [
       "b:\\BoSSS-smuda\\public\\doc\\handbook\\apdx-MPISolverPerformance\\strongScaling\\IBM_RotSphere\\weak_scaling_5_1_p-MG_2021-10-13.json"
      ]
     },
     "metadata": {},
     "output_type": "display_data"
    }
   ],
   "source": [
    "SessTab = SessTab.ExtractColumns(AllCols.ToArray());\n",
    "// Filename\n",
    "string dirpath = Directory.GetCurrentDirectory();\n",
    "var now           = DateTime.Now;\n",
    "SessTab.TableName = WFlowName + \"_\" + now.Year + \"-\" + now.Month + \"-\" + now.Day;\n",
    "string docpath    = Path.Combine(dirpath, SessTab.TableName + \".json\");\n",
    "SessTab.SaveToFile(docpath); docpath"
   ]
  },
  {
   "cell_type": "code",
   "execution_count": null,
   "metadata": {
    "dotnet_interactive": {
     "language": "csharp"
    }
   },
   "outputs": [],
   "source": [
    "/*\n",
    "var SubTab = SessTab.ExtractColumns(\"LSolverIter\", \"NLSolverIter\", \"TotalRuntime\", \"MatrixAssembly_time\", \"AggregationBaseInit_time\", \"DataIO_time\", \"CGProjection_time\",\n",
    "\"SayeCompile_time\", \"StandardCompile_time\",\"AMR_time\",\"LoadBal_time\",\"NoOfCores\",\"NoOfNodes\",\"SolverInit_time\", \"SolverRun_time\", \"MGDepth\",\"DGdegree:Velocity*\");\n",
    "SubTab.ToCSVFile(dirpath+@\"\\table.csv\");dirpath\n",
    "*/"
   ]
  }
 ],
 "metadata": {
  "kernelspec": {
   "display_name": ".NET (C#)",
   "language": "C#",
   "name": ".net-csharp"
  },
  "language_info": {
   "name": "C#"
  }
 },
 "nbformat": 4,
 "nbformat_minor": 2
}
