{
 "cells": [
  {
   "cell_type": "code",
   "execution_count": null,
   "metadata": {
    "dotnet_interactive": {
     "language": "csharp"
    }
   },
   "outputs": [],
   "source": [
    "#r \"./../../../../../public/src/L4-application/BoSSSpad/bin/Release/net5.0/BoSSSpad.dll\"\n",
    "using System;\n",
    "using ilPSP;\n",
    "using ilPSP.Utils;\n",
    "using BoSSS.Platform;\n",
    "using BoSSS.Foundation;\n",
    "using BoSSS.Foundation.XDG;\n",
    "using BoSSS.Foundation.Grid;\n",
    "using BoSSS.Solution;\n",
    "using BoSSS.Application.XNSE_Solver;\n",
    "using System.IO;\n",
    "using BoSSS.Foundation.IO;\n",
    "using ilPSP.Tracing;\n",
    "using BoSSS.Application.BoSSSpad;\n",
    "using BoSSS.Solution.Gnuplot;\n",
    "using BoSSS.Solution.AdvancedSolvers;\n",
    "\n",
    "using static BoSSS.Application.BoSSSpad.BoSSSshell;\n",
    "Init();"
   ]
  },
  {
   "cell_type": "code",
   "execution_count": null,
   "metadata": {
    "dotnet_interactive": {
     "language": "csharp"
    }
   },
   "outputs": [],
   "source": [
    "// Is used at Jenkins to generate individual names (for output .json)\n",
    "string dbname = System.Environment.GetEnvironmentVariable(\"DATABASE_NAME\");\n",
    "string buildname = System.Environment.GetEnvironmentVariable(\"BUILD_DISPLAY_NAME\");\n",
    "string buildNr = System.Environment.GetEnvironmentVariable(\"BUILD_NUMBER\");\n",
    "//defaults\n",
    "buildname = String.IsNullOrEmpty(buildname)? \"run\" : buildname;\n",
    "string thedate = $\"{System.DateTime.Today.Day}-{System.DateTime.Today.Month}-{System.DateTime.Today.Year}\";\n",
    "buildNr = String.IsNullOrEmpty(buildNr)? thedate : buildNr;\n",
    "\n",
    "string database_name = String.IsNullOrEmpty(dbname)? \"DB_Benchmarks\" : dbname;\n",
    "string table_name = String.Concat(buildname, \"_\", buildNr);"
   ]
  },
  {
   "cell_type": "code",
   "execution_count": null,
   "metadata": {
    "dotnet_interactive": {
     "language": "csharp"
    }
   },
   "outputs": [],
   "source": [
    "////================================\n",
    "//// pt2 of this sheet: Process Data\n",
    "////================================\n",
    "// Load Tables\n",
    "string basepath = System.IO.\n",
    "List<System.Data.DataTable> LoadedTabs = new List<System.Data.DataTable>();\n",
    "/*\n",
    "//LoadedTabs.Add(TableExtensions.LoadFromFile(basepath+\"strong_scaling_3_2021-9-24.json\"));\n",
    "LoadedTabs.Add(TableExtensions.LoadFromFile(basepath+\"weak_scaling_4_0_2021-9-27.json\"));\n",
    "//LoadedTabs.Add(TableExtensions.LoadFromFile(basepath+\"strong_scaling_3_1_2021-9-24.json\"));\n",
    "//LoadedTabs.Add(TableExtensions.LoadFromFile(basepath+\"strong_scaling_3_3_2021-9-.json\"));\n",
    "*/\n",
    "LoadedTabs.Add(basepath+@\"\\\"+table_name+\".json\");\n",
    "var LoadTab = LoadedTabs.Pick(0);\n",
    "LoadedTabs.ForEach(s=>LoadTab.Merge(s)); LoadTab.Rows.Count()"
   ]
  },
  {
   "cell_type": "code",
   "execution_count": null,
   "metadata": {
    "dotnet_interactive": {
     "language": "csharp"
    }
   },
   "outputs": [],
   "source": [
    "string[] ColumnNames = new string[]{               \n",
    "   \"OrthonormalizationMultigrid.AddSol\",\n",
    "   \"Schwarz.Solve\",\n",
    "   \"OrthonormalizationMultigrid.MinimizeResidual\",\n",
    "   \"OrthonormalizationMultigrid.Residual\",\n",
    "   \"OrthonormalizationMultigrid.Solve\",\n",
    "   \"overlap_scaling\",\n",
    "   \"block_solve_level\",\n",
    "   //\"caching\",\n",
    "   //\"nocaching\",\n",
    "   \"OrthonormalizationMultigrid.VerivyCurrentResidual\",\n",
    "   \"Restriction\",\n",
    "   \"Prolongation\",\n",
    "   \"SolverRun_time\",\n",
    "   \"LSolverIter\",\n",
    "   \"DGdegree:Velocity*\",\n",
    "   \"DOF\",\n",
    "   \"MGDepth\",\n",
    "   \"NoOfNodes\",\n",
    "   \"NoOfCores\",\n",
    "   //\"DirectSolver.Solve\",\n",
    "};"
   ]
  },
  {
   "cell_type": "code",
   "execution_count": null,
   "metadata": {
    "dotnet_interactive": {
     "language": "csharp"
    }
   },
   "outputs": [],
   "source": [
    "var SesTab = LoadTab.ExtractColumns(ColumnNames);"
   ]
  },
  {
   "cell_type": "code",
   "execution_count": null,
   "metadata": {
    "dotnet_interactive": {
     "language": "csharp"
    }
   },
   "outputs": [],
   "source": [
    "// Average of Repititions ... pt1: Group Runs\n",
    "var RegistryOfRuns = new Dictionary<string,List<System.Data.DataRow>>();\n",
    "foreach(System.Data.DataRow Row in SesTab.Rows){\n",
    "    string test = \"\";\n",
    "    test += \"k\"+Convert.ToString(Row[\"DGdegree:Velocity*\"]);\n",
    "    test += \"_c\"+Convert.ToString(Row[\"NoOfCores\"]);\n",
    "    List<System.Data.DataRow> Reps;\n",
    "    if(RegistryOfRuns.TryGetValue(test,out Reps)){\n",
    "        Reps.Add(Row);\n",
    "    } else {\n",
    "        Reps = new List<System.Data.DataRow>();\n",
    "        Reps.Add(Row);\n",
    "        RegistryOfRuns.Add(test,Reps);\n",
    "    }\n",
    "} RegistryOfRuns.OrderBy(s=>s.Key[0]).OrderBy(s=>s.Key[1]).Select(s=>new object[]{s.Key,s.Value.Count()})"
   ]
  },
  {
   "cell_type": "code",
   "execution_count": null,
   "metadata": {
    "dotnet_interactive": {
     "language": "csharp"
    }
   },
   "outputs": [],
   "source": [
    "// Average of Repititions ... pt2: Compute Average\n",
    "var tmp = SesTab.Clone();\n",
    "tmp.Clear();\n",
    "foreach(var kvp in RegistryOfRuns){\n",
    "    var newrow = tmp.NewRow();\n",
    "    var sample = kvp.Value.First();\n",
    "    newrow[\"DGdegree:Velocity*\"]=Convert.ToInt32(sample[\"DGdegree:Velocity*\"]);\n",
    "    newrow[\"NoOfCores\"]=Convert.ToInt32(sample[\"NoOfCores\"]);\n",
    "    foreach(System.Data.DataColumn col in tmp.Columns){\n",
    "        if(col.ColumnName==\"DGdegree:Velocity*\"||col.ColumnName==\"NoOfCores\")\n",
    "            continue;\n",
    "        double value=0.0;\n",
    "        foreach(System.Data.DataRow row in kvp.Value){\n",
    "            value+=Convert.ToDouble(row[col.ColumnName]);\n",
    "        }\n",
    "        newrow[col]=value / kvp.Value.Count();\n",
    "    }\n",
    "    tmp.Rows.Add(newrow);\n",
    "}\n",
    "SesTab = tmp;\n",
    "SesTab.Print()"
   ]
  },
  {
   "cell_type": "code",
   "execution_count": null,
   "metadata": {
    "dotnet_interactive": {
     "language": "csharp"
    }
   },
   "outputs": [],
   "source": [
    "//string thisdir = Directory.GetCurrentDirectory();\n",
    "//SesTab.ToCSVFile(thisdir+@\"\\table.csv\");"
   ]
  },
  {
   "cell_type": "code",
   "execution_count": null,
   "metadata": {
    "dotnet_interactive": {
     "language": "csharp"
    }
   },
   "outputs": [],
   "source": [
    "// Minitab blaupause 4 Runtime per iteration\n",
    "var Minitab_blueprint = new System.Data.DataTable();\n",
    "Minitab_blueprint.Columns.Add(\"NoOfCores\", typeof(Int32));\n",
    "Minitab_blueprint.Columns.Add(\"runtime_per_iter\", typeof(Double));\n",
    "Minitab_blueprint.Columns.Add(\"Speedup\", typeof(Double));"
   ]
  },
  {
   "cell_type": "code",
   "execution_count": null,
   "metadata": {
    "dotnet_interactive": {
     "language": "csharp"
    }
   },
   "outputs": [],
   "source": [
    "// fill minitables for plots\n",
    "var listofDGdegree = new List<int>();\n",
    "foreach(System.Data.DataRow Row in SesTab.Rows){\n",
    "    listofDGdegree.Add(Convert.ToInt32(Row[\"DGdegree:Velocity*\"]));\n",
    "}\n",
    "List<double> DGdegrees=listofDGdegree.GroupBy(s=>s).Select(s=>s.Average()).ToList();\n",
    "string dirpath = Directory.GetCurrentDirectory();\n",
    "foreach(double DG in DGdegrees){\n",
    "    var MiniTab = Minitab_blueprint.Clone();\n",
    "    foreach(System.Data.DataRow Row in SesTab.Rows){\n",
    "        if(Convert.ToInt32(Row[\"DGdegree:Velocity*\"])!=DG) continue;\n",
    "        var newrow = MiniTab.NewRow();\n",
    "        newrow[\"NoOfCores\"] = Convert.ToInt32(Row[\"NoOfCores\"]);\n",
    "        double iter = Convert.ToDouble(Row[\"LSolverIter\"]);\n",
    "        double runtime = Convert.ToDouble(Row[\"SolverRun_time\"]);\n",
    "        newrow[\"runtime_per_iter\"] = runtime / iter;\n",
    "        MiniTab.Rows.Add(newrow);\n",
    "    }\n",
    "    System.Data.DataView view = new System.Data.DataView(MiniTab);\n",
    "    view.Sort = \"NoOfCores\";\n",
    "    MiniTab=view.ToTable();\n",
    "\n",
    "    double reference = Convert.ToDouble(MiniTab.Rows[0][\"runtime_per_iter\"]);\n",
    "    foreach(System.Data.DataRow Row in MiniTab.Rows){\n",
    "        Row[\"Speedup\"]=reference/Convert.ToDouble(Row[\"runtime_per_iter\"]);\n",
    "    }\n",
    "\n",
    "    MiniTab.ToCSVFile(dirpath+@\"\\strong_k\"+DG+\".dat\");\n",
    "} dirpath"
   ]
  },
  {
   "cell_type": "code",
   "execution_count": null,
   "metadata": {
    "dotnet_interactive": {
     "language": "csharp"
    }
   },
   "outputs": [],
   "source": [
    "// Generate rnd Formatting for massive multiplots\n",
    "var theDict = new List<Tuple<string,DashTypes,LineColors>>();\n",
    "public static Tuple<string,DashTypes,LineColors>[] AofFormats;\n",
    "var dashes = new DashTypes[]{DashTypes.Dashed,DashTypes.DotDashed,DashTypes.DotDotDashed};\n",
    "var points= new PointTypes[]{PointTypes.OpenCircle,PointTypes.OpenCircle,PointTypes.OpenDiamond,PointTypes.OpenUpperTriangle};\n",
    "var colors = new LineColors[]{LineColors.Red, LineColors.Green, LineColors.Blue, LineColors.Magenta, LineColors.Yellow, LineColors.Black, LineColors.Orange, LineColors.Grey};\n",
    "\n",
    "int iSweep=0;\n",
    "foreach(string Name in SesTab.GetColumnNames()){\n",
    "    //if(Name!=\"OrthonormalizationMultigrid.MinimizeResidual\"&&Name!=\"overlap_scaling\")\n",
    "    //    continue;\n",
    "    if(Name==\"NoOfCores\"||Name==\"LSolverIter\"||Name==\"DGdegree:Velocity*\"||Name==\"NoOfNodes\"||Name==\"MGDepth\"||Name==\"DOF\")\n",
    "        continue;\n",
    "    int one=iSweep%(dashes.Length-1);\n",
    "    int two=iSweep/(dashes.Length-1);\n",
    "    theDict.Add(new Tuple<string,DashTypes,LineColors>(Name,dashes[one],colors[two]));\n",
    "    iSweep++;\n",
    "}\n",
    "AofFormats = theDict.ToArray()"
   ]
  },
  {
   "cell_type": "code",
   "execution_count": null,
   "metadata": {
    "dotnet_interactive": {
     "language": "csharp"
    }
   },
   "outputs": [],
   "source": [
    "public static class DoWhatUWant{\n",
    "    public static PlotRowSelectorEx Solver_DG_Proj(int DG){\n",
    "    return delegate (int iSweep, int iTabRow, \n",
    "                    IDictionary<string, object> Row, \n",
    "                    out string Nmn, \n",
    "                    out PlotFormat Fmt,\n",
    "                    out double xValue, out double yValue) { \n",
    "\n",
    "            int k  = Convert.ToInt32(Row[\"DGdegree:Velocity*\"]);\n",
    "            Nmn = AofFormats[iSweep].Item1;\n",
    "\n",
    "            if(k != DG ) {\n",
    "                // degree does not match -> not in this plot\n",
    "                Nmn    = null;\n",
    "                Fmt    = null;\n",
    "                xValue = 0;\n",
    "                yValue = 0;\n",
    "                return;\n",
    "            } \n",
    "            \n",
    "            Fmt           = new PlotFormat();\n",
    "            Fmt.PointSize = 0.5;\n",
    "            Fmt.Style     = Styles.LinesPoints;\n",
    "            Fmt.LineWidth = 3;\n",
    "\n",
    "            Fmt.DashType = AofFormats[iSweep].Item2;\n",
    "            Fmt.LineColor = AofFormats[iSweep].Item3;\n",
    "            double iter = Convert.ToDouble(Row[\"LSolverIter\"]);\n",
    "            yValue = Convert.ToDouble(Row[Nmn])/iter;\n",
    "            //yValue = Convert.ToDouble(Row[Nmn]);\n",
    "            xValue    = Convert.ToDouble(Row[\"NoOfCores\"]);\n",
    "        };\n",
    "    }\n",
    "\n",
    "    public static PlotRowSelectorEx Solver_DG_Proj(){\n",
    "        return delegate (int iSweep, int iTabRow, \n",
    "                    IDictionary<string, object> Row, \n",
    "                    out string Nmn, \n",
    "                    out PlotFormat Fmt,\n",
    "                    out double xValue, out double yValue) { \n",
    "\n",
    "            int k           = Convert.ToInt32(Row[\"DGdegree:Velocity*\"]);\n",
    "            \n",
    "            Fmt           = new PlotFormat();\n",
    "            Fmt.PointSize = 0.5;\n",
    "            Fmt.Style     = Styles.LinesPoints;\n",
    "            Fmt.LineWidth = 3;\n",
    "            \n",
    "            switch(k){\n",
    "            case 2:\n",
    "                Nmn=\"k2\";\n",
    "                Fmt.LineColor = LineColors.Red;\n",
    "                break;\n",
    "            case 3:\n",
    "                Nmn=\"k3\";\n",
    "                Fmt.LineColor = LineColors.Orange;\n",
    "                break;\n",
    "            case 4:\n",
    "                Nmn=\"k4\";\n",
    "                Fmt.LineColor = LineColors.Blue;\n",
    "                break;\n",
    "            default:\n",
    "                throw new Exception(\"vergiss es\");\n",
    "            }\n",
    "            double time = Convert.ToDouble(Row[\"SolverRun_time\"]);\n",
    "            double iter = Convert.ToDouble(Row[\"LSolverIter\"]);\n",
    "            double timeSchwarz = Convert.ToDouble(Row[\"Schwarz.Solve\"]);\n",
    "            //yValue = Convert.ToDouble(Row[\"NoOfNodes\"]);\n",
    "            //yValue = time/iter;\n",
    "            //yValue = Convert.ToDouble(Row[\"MGDepth\"]);\n",
    "            //yValue=Convert.ToDouble(Row[\"LSolverIter\"]);\n",
    "            //yValue = iter;\n",
    "            yValue = time;\n",
    "            xValue = Convert.ToDouble(Row[\"NoOfCores\"]);\n",
    "        };\n",
    "    }\n",
    "}"
   ]
  },
  {
   "cell_type": "code",
   "execution_count": null,
   "metadata": {
    "dotnet_interactive": {
     "language": "csharp"
    }
   },
   "outputs": [],
   "source": [
    "int k = 2;\n",
    "int xMin = 16;\n",
    "int xMax = 256;"
   ]
  },
  {
   "cell_type": "code",
   "execution_count": null,
   "metadata": {
    "dotnet_interactive": {
     "language": "csharp"
    }
   },
   "outputs": [],
   "source": [
    "Plot2Ddata[,] multiplots = new Plot2Ddata[1,1];\n",
    "//multiplots[0,0] = SesTab.ToPlot(DoWhatUWant.Solver_DG_Proj(),AofFormats.Length);\n",
    "multiplots[0,0] = SesTab.ToPlot(DoWhatUWant.Solver_DG_Proj(),AofFormats.Length);\n",
    "multiplots[0,0].LogX = true;\n",
    "multiplots[0,0].LogY = true;\n",
    "multiplots[0,0].tmargin = 0;\n",
    "multiplots[0,0].bmargin = 5;\n",
    "multiplots[0,0].XrangeMin=xMin;\n",
    "multiplots[0,0].XrangeMax=xMax;\n",
    "multiplots[0,0].YrangeMin=.1;\n",
    "multiplots[0,0].YrangeMax=10;\n",
    "multiplots[0,0].Ylabel = \"iter\";\n",
    "multiplots[0,0].Xlabel = \"cores\";\n",
    "multiplots[0,0].LegendAlignment=new string[]{\"i\",\"t\",\"r\"};\n",
    "multiplots.PlotNow()"
   ]
  },
  {
   "cell_type": "code",
   "execution_count": null,
   "metadata": {
    "dotnet_interactive": {
     "language": "csharp"
    }
   },
   "outputs": [],
   "source": []
  },
  {
   "cell_type": "code",
   "execution_count": null,
   "metadata": {
    "dotnet_interactive": {
     "language": "csharp"
    }
   },
   "outputs": [],
   "source": []
  }
 ],
 "metadata": {
  "kernelspec": {
   "display_name": ".NET (C#)",
   "language": "C#",
   "name": ".net-csharp"
  },
  "language_info": {
   "name": "C#"
  }
 },
 "nbformat": 4,
 "nbformat_minor": 2
}
