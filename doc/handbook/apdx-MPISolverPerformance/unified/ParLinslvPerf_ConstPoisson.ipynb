{
 "cells": [
  {
   "cell_type": "markdown",
   "metadata": {},
   "source": [
    "# Linear Solver Performance: Constant Coefficient Poisson, MPI-parallel\n",
    "\n",
    "### Part 1, Benchmark Setup and Execution"
   ]
  },
  {
   "cell_type": "code",
   "execution_count": 1,
   "metadata": {
    "dotnet_interactive": {
     "language": "csharp"
    },
    "vscode": {
     "languageId": "dotnet-interactive.csharp"
    }
   },
   "outputs": [
    {
     "data": {
      "text/html": [
       "\r\n",
       "<div>\r\n",
       "    <div id='dotnet-interactive-this-cell-34676.Microsoft.DotNet.Interactive.Http.HttpPort' style='display: none'>\r\n",
       "        The below script needs to be able to find the current output cell; this is an easy method to get it.\r\n",
       "    </div>\r\n",
       "    <script type='text/javascript'>\r\n",
       "async function probeAddresses(probingAddresses) {\r\n",
       "    function timeout(ms, promise) {\r\n",
       "        return new Promise(function (resolve, reject) {\r\n",
       "            setTimeout(function () {\r\n",
       "                reject(new Error('timeout'))\r\n",
       "            }, ms)\r\n",
       "            promise.then(resolve, reject)\r\n",
       "        })\r\n",
       "    }\r\n",
       "\r\n",
       "    if (Array.isArray(probingAddresses)) {\r\n",
       "        for (let i = 0; i < probingAddresses.length; i++) {\r\n",
       "\r\n",
       "            let rootUrl = probingAddresses[i];\r\n",
       "\r\n",
       "            if (!rootUrl.endsWith('/')) {\r\n",
       "                rootUrl = `${rootUrl}/`;\r\n",
       "            }\r\n",
       "\r\n",
       "            try {\r\n",
       "                let response = await timeout(1000, fetch(`${rootUrl}discovery`, {\r\n",
       "                    method: 'POST',\r\n",
       "                    cache: 'no-cache',\r\n",
       "                    mode: 'cors',\r\n",
       "                    timeout: 1000,\r\n",
       "                    headers: {\r\n",
       "                        'Content-Type': 'text/plain'\r\n",
       "                    },\r\n",
       "                    body: probingAddresses[i]\r\n",
       "                }));\r\n",
       "\r\n",
       "                if (response.status == 200) {\r\n",
       "                    return rootUrl;\r\n",
       "                }\r\n",
       "            }\r\n",
       "            catch (e) { }\r\n",
       "        }\r\n",
       "    }\r\n",
       "}\r\n",
       "\r\n",
       "function loadDotnetInteractiveApi() {\r\n",
       "    probeAddresses([\"http://172.23.128.1:1002/\", \"http://130.83.248.211:1002/\", \"http://192.168.56.1:1002/\", \"http://169.254.241.121:1002/\", \"http://127.0.0.1:1002/\"])\r\n",
       "        .then((root) => {\r\n",
       "        // use probing to find host url and api resources\r\n",
       "        // load interactive helpers and language services\r\n",
       "        let dotnetInteractiveRequire = require.config({\r\n",
       "        context: '34676.Microsoft.DotNet.Interactive.Http.HttpPort',\r\n",
       "                paths:\r\n",
       "            {\r\n",
       "                'dotnet-interactive': `${root}resources`\r\n",
       "                }\r\n",
       "        }) || require;\r\n",
       "\r\n",
       "            window.dotnetInteractiveRequire = dotnetInteractiveRequire;\r\n",
       "\r\n",
       "            window.configureRequireFromExtension = function(extensionName, extensionCacheBuster) {\r\n",
       "                let paths = {};\r\n",
       "                paths[extensionName] = `${root}extensions/${extensionName}/resources/`;\r\n",
       "                \r\n",
       "                let internalRequire = require.config({\r\n",
       "                    context: extensionCacheBuster,\r\n",
       "                    paths: paths,\r\n",
       "                    urlArgs: `cacheBuster=${extensionCacheBuster}`\r\n",
       "                    }) || require;\r\n",
       "\r\n",
       "                return internalRequire\r\n",
       "            };\r\n",
       "        \r\n",
       "            dotnetInteractiveRequire([\r\n",
       "                    'dotnet-interactive/dotnet-interactive'\r\n",
       "                ],\r\n",
       "                function (dotnet) {\r\n",
       "                    dotnet.init(window);\r\n",
       "                },\r\n",
       "                function (error) {\r\n",
       "                    console.log(error);\r\n",
       "                }\r\n",
       "            );\r\n",
       "        })\r\n",
       "        .catch(error => {console.log(error);});\r\n",
       "    }\r\n",
       "\r\n",
       "// ensure `require` is available globally\r\n",
       "if ((typeof(require) !==  typeof(Function)) || (typeof(require.config) !== typeof(Function))) {\r\n",
       "    let require_script = document.createElement('script');\r\n",
       "    require_script.setAttribute('src', 'https://cdnjs.cloudflare.com/ajax/libs/require.js/2.3.6/require.min.js');\r\n",
       "    require_script.setAttribute('type', 'text/javascript');\r\n",
       "    \r\n",
       "    \r\n",
       "    require_script.onload = function() {\r\n",
       "        loadDotnetInteractiveApi();\r\n",
       "    };\r\n",
       "\r\n",
       "    document.getElementsByTagName('head')[0].appendChild(require_script);\r\n",
       "}\r\n",
       "else {\r\n",
       "    loadDotnetInteractiveApi();\r\n",
       "}\r\n",
       "\r\n",
       "    </script>\r\n",
       "</div>"
      ]
     },
     "metadata": {},
     "output_type": "display_data"
    },
    {
     "name": "stdout",
     "output_type": "stream",
     "text": [
      "Execution Date/time is 23.08.2022 12:10:31\r\n"
     ]
    }
   ],
   "source": [
    "Console.WriteLine(\"Execution Date/time is \" + DateTime.Now);"
   ]
  },
  {
   "cell_type": "code",
   "execution_count": 2,
   "metadata": {
    "dotnet_interactive": {
     "language": "csharp"
    },
    "vscode": {
     "languageId": "dotnet-interactive.csharp"
    }
   },
   "outputs": [],
   "source": [
    "#r \"BoSSSpad.dll\"\n",
    "//#r \"../../../../src/L4-application/BoSSSpad/bin/Debug/net5.0/BoSSSpad.dll\"\n",
    "using System;\n",
    "using System.Collections.Generic;\n",
    "using System.Linq;\n",
    "using ilPSP;\n",
    "using ilPSP.Utils;\n",
    "using BoSSS.Platform;\n",
    "using BoSSS.Platform.LinAlg;\n",
    "using BoSSS.Foundation;\n",
    "using BoSSS.Foundation.XDG;\n",
    "using BoSSS.Foundation.Grid;\n",
    "using BoSSS.Foundation.Grid.Classic;\n",
    "using BoSSS.Foundation.Grid.RefElements;\n",
    "using BoSSS.Foundation.IO;\n",
    "using BoSSS.Solution;\n",
    "using BoSSS.Solution.Control;\n",
    "using BoSSS.Solution.GridImport;\n",
    "using BoSSS.Solution.Statistic;\n",
    "using BoSSS.Solution.Utils;\n",
    "using BoSSS.Solution.AdvancedSolvers;\n",
    "using BoSSS.Solution.Gnuplot;\n",
    "using BoSSS.Application.BoSSSpad;\n",
    "using BoSSS.Application.XNSE_Solver;\n",
    "using static BoSSS.Application.BoSSSpad.BoSSSshell;\n",
    "Init();"
   ]
  },
  {
   "cell_type": "code",
   "execution_count": 3,
   "metadata": {
    "dotnet_interactive": {
     "language": "csharp"
    },
    "vscode": {
     "languageId": "dotnet-interactive.csharp"
    }
   },
   "outputs": [],
   "source": [
    "using BoSSS.Application.SipPoisson;"
   ]
  },
  {
   "cell_type": "code",
   "execution_count": 4,
   "metadata": {
    "dotnet_interactive": {
     "language": "csharp"
    },
    "vscode": {
     "languageId": "dotnet-interactive.csharp"
    }
   },
   "outputs": [
    {
     "name": "stdout",
     "output_type": "stream",
     "text": [
      "Project name is set to 'WIP-k-LinslvPerfPar'.\n",
      "Opening existing database 'C:\\BoSSS-Databases\\WIP-k-LinslvPerfPar'.\n"
     ]
    },
    {
     "data": {
      "text/plain": []
     },
     "execution_count": 4,
     "metadata": {},
     "output_type": "execute_result"
    }
   ],
   "source": [
    "string PROJECT_NAME = System.Environment.GetEnvironmentVariable(\"LinslvPerfPar\") ?? \"LinslvPerfPar\"; // this allows to modify the project name for testing purposes\n",
    "wmg.Init(PROJECT_NAME);\n",
    "wmg.SetNameBasedSessionJobControlCorrelation();\n",
    "wmg.AllJobs"
   ]
  },
  {
   "cell_type": "code",
   "execution_count": 5,
   "metadata": {
    "dotnet_interactive": {
     "language": "csharp"
    },
    "vscode": {
     "languageId": "dotnet-interactive.csharp"
    }
   },
   "outputs": [
    {
     "data": {
      "text/html": [
       "<table><thead><tr><th><i>index</i></th><th><i>type</i></th><th>DeploymentBaseDirectory</th><th>DeployRuntime</th><th>RuntimeLocation</th><th>Name</th><th>DotnetRuntime</th><th>BatchInstructionDir</th><th>AllowedDatabasesPaths</th><th>Username</th><th>Password</th><th>ServerName</th><th>PrivateKeyFilePath</th><th>AdditionalBatchCommands</th><th>ExecutionTime</th><th>DeploymentBaseDirectoryAtRemote</th><th>SlurmAccount</th><th>Email</th><th>MonoDebug</th></tr></thead><tbody><tr><td>0</td><td>BoSSS.Application.BoSSSpad.MiniBatchProcessorClient</td><td>C:\\Users\\flori\\AppData\\Local\\BoSSS-LocalJobs</td><td>False</td><td><div class=\"dni-plaintext\">&lt;null&gt;</div></td><td>LocalPC</td><td>dotnet</td><td><div class=\"dni-plaintext\">&lt;null&gt;</div></td><td>[ C:\\BoSSS-Databases, C:\\Users\\flori ]</td><td></td><td></td><td></td><td></td><td></td><td></td><td></td><td></td><td></td><td></td></tr><tr><td>1</td><td>BoSSS.Application.BoSSSpad.SlurmClient</td><td>X:\\jenkins\\deploy</td><td>False</td><td>linux/amd64-openmpi</td><td>Lb2-specialPrj-Jenkins</td><td>dotnet</td><td></td><td>[ X:\\jenkins\\databases == /work/scratch/fk69umer/jenkins/databases ]</td><td>fk69umer</td><td><div class=\"dni-plaintext\">&lt;null&gt;</div></td><td>lcluster16.hrz.tu-darmstadt.de</td><td>C:\\Users\\flori\\.ssh\\id_rsa</td><td>[ #SBATCH -C avx512, #SBATCH --mem-per-cpu=8000 ]</td><td>05:00:00</td><td>/work/scratch/fk69umer/jenkins/deploy</td><td>special00006</td><td><div class=\"dni-plaintext\">&lt;null&gt;</div></td><td>False</td></tr></tbody></table>"
      ]
     },
     "execution_count": 5,
     "metadata": {},
     "output_type": "execute_result"
    }
   ],
   "source": [
    "ExecutionQueues"
   ]
  },
  {
   "cell_type": "markdown",
   "metadata": {
    "dotnet_interactive": {
     "language": "csharp"
    }
   },
   "source": [
    "## Utility definitions"
   ]
  },
  {
   "cell_type": "code",
   "execution_count": 6,
   "metadata": {
    "dotnet_interactive": {
     "language": "csharp"
    },
    "vscode": {
     "languageId": "dotnet-interactive.csharp"
    }
   },
   "outputs": [],
   "source": [
    "static class Utils {\n",
    "    // DOF per cell in 3D\n",
    "    public static int Np(int p) {\n",
    "        return (p*p*p + 6*p*p + 11*p + 6)/6;\n",
    "    }    \n",
    "    \n",
    "    //Non-equidistant nodes\n",
    "    public static double[] SinLinSpacing(double l, double r, double a, int n) {\n",
    "        double[] linnodes = GenericBlas.Linspace(-Math.PI * 0.5, Math.PI * 0.5, n);\n",
    "        double[] linnodes2 = GenericBlas.Linspace(-1, 1, n);\n",
    "        double[] nodes = new double[n];\n",
    "\n",
    "        for (int i = 0; i < n; i++)\n",
    "            //nodes[i] = linnodes2[i] * (1 - a) + (1.0 - Math.Sin(linnodes[i])) * a;\n",
    "            nodes[i] = linnodes2[i] * (1 - a) + Math.Sin(linnodes[i])*a;\n",
    "\n",
    "        for (int i = 0; i < n; i++)\n",
    "            nodes[i] = nodes[i] * (r - l)*0.5 + l;\n",
    "        return nodes;\n",
    "    }\n",
    "}"
   ]
  },
  {
   "cell_type": "markdown",
   "metadata": {
    "dotnet_interactive": {
     "language": "csharp"
    }
   },
   "source": [
    "## Init grids and save to database"
   ]
  },
  {
   "cell_type": "code",
   "execution_count": 7,
   "metadata": {
    "dotnet_interactive": {
     "language": "csharp"
    },
    "vscode": {
     "languageId": "dotnet-interactive.csharp"
    }
   },
   "outputs": [
    {
     "name": "stdout",
     "output_type": "stream",
     "text": [
      "Opening existing database 'X:\\jenkins\\databases\\WIP-k-LinslvPerfPar'.\r\n"
     ]
    },
    {
     "data": {
      "text/plain": [
       "#0: { Guid = 4276c806-f69c-43e1-86ef-1ce920cdc92b; Name = WIP-k-LinslvPerfPar-SIP_Poisson_J10485760; Cell Count = 10485760; Dim = 3 }\r\n",
       "#1: { Guid = 15ba8bcc-a9f1-4cb7-a605-f30461111732; Name = WIP-k-LinslvPerfPar-SIP_Poisson_J1310720; Cell Count = 1310720; Dim = 3 }\r\n",
       "#2: { Guid = a978fef8-2202-4332-acb3-ef6cd17ffb0b; Name = WIP-k-LinslvPerfPar-SIP_Poisson_J552960; Cell Count = 552960; Dim = 3 }\r\n",
       "#3: { Guid = ea4a0f29-66d2-492c-b11f-aa95bb86c947; Name = WIP-k-LinslvPerfPar-SIP_Poisson_J163840; Cell Count = 163840; Dim = 3 }\r\n",
       "#4: { Guid = 26992ede-1732-4424-a72f-153ea7b6f643; Name = WIP-k-LinslvPerfPar-SIP_Poisson_J69120; Cell Count = 69120; Dim = 3 }\r\n",
       "#5: { Guid = 81c39bfd-bc9a-4fbc-af54-bbd1a581d37a; Name = WIP-k-LinslvPerfPar-SIP_Poisson_J20480; Cell Count = 20480; Dim = 3 }\r\n",
       "#6: { Guid = 9a2c6da0-49a0-4574-ac5d-1c6228038000; Name = WIP-k-LinslvPerfPar-SIP_Poisson_J2560; Cell Count = 2560; Dim = 3 }\r\n",
       "#7: { Guid = 84cadb65-7876-441a-b4d3-017dd01d62f9; Name = WIP-k-LinslvPerfPar-SIP_Poisson_J320; Cell Count = 320; Dim = 3 }\r\n"
      ]
     },
     "execution_count": 7,
     "metadata": {},
     "output_type": "execute_result"
    }
   ],
   "source": [
    "wmg.Grids"
   ]
  },
  {
   "cell_type": "markdown",
   "metadata": {},
   "source": [
    "Create meshes in various resolutions:\n",
    "- domain $\\Omega = (0,10) \\times (-1,1) \\times (-1,1)$; \n",
    "- a Dirichlet boundary is set for $x = 0$, everywhere else Neumann boundaries are assumed; \n",
    "  these are typically more challenging for a linear solver than Dirichlet boundaries.\n",
    "- in order to make the problem a bit challenging, a non-equidistant spacing for $y$ and $z$ coordinate are used\n",
    "- the domain shape is reminiscent of a typical grid for the simulation of channel flows, with exception of the boundary conditions"
   ]
  },
  {
   "cell_type": "code",
   "execution_count": null,
   "metadata": {
    "dotnet_interactive": {
     "language": "csharp"
    },
    "vscode": {
     "languageId": "dotnet-interactive.csharp"
    }
   },
   "outputs": [
    {
     "name": "stdout",
     "output_type": "stream",
     "text": [
      "Creating Grid: WIP-k-LinslvPerfPar-SIP_Poisson_J320\n",
      "Found Grid: { Guid = 84cadb65-7876-441a-b4d3-017dd01d62f9; Name = WIP-k-LinslvPerfPar-SIP_Poisson_J320; Cell Count = 320; Dim = 3 }\n",
      "Creating Grid: WIP-k-LinslvPerfPar-SIP_Poisson_J2560\n",
      "Found Grid: { Guid = 9a2c6da0-49a0-4574-ac5d-1c6228038000; Name = WIP-k-LinslvPerfPar-SIP_Poisson_J2560; Cell Count = 2560; Dim = 3 }\n",
      "Creating Grid: WIP-k-LinslvPerfPar-SIP_Poisson_J20480\n",
      "Found Grid: { Guid = 81c39bfd-bc9a-4fbc-af54-bbd1a581d37a; Name = WIP-k-LinslvPerfPar-SIP_Poisson_J20480; Cell Count = 20480; Dim = 3 }\n",
      "Creating Grid: WIP-k-LinslvPerfPar-SIP_Poisson_J69120\n",
      "Found Grid: { Guid = 26992ede-1732-4424-a72f-153ea7b6f643; Name = WIP-k-LinslvPerfPar-SIP_Poisson_J69120; Cell Count = 69120; Dim = 3 }\n",
      "Creating Grid: WIP-k-LinslvPerfPar-SIP_Poisson_J163840\n",
      "Found Grid: { Guid = ea4a0f29-66d2-492c-b11f-aa95bb86c947; Name = WIP-k-LinslvPerfPar-SIP_Poisson_J163840; Cell Count = 163840; Dim = 3 }\n",
      "Creating Grid: WIP-k-LinslvPerfPar-SIP_Poisson_J552960\n",
      "Found Grid: { Guid = a978fef8-2202-4332-acb3-ef6cd17ffb0b; Name = WIP-k-LinslvPerfPar-SIP_Poisson_J552960; Cell Count = 552960; Dim = 3 }\n",
      "Creating Grid: WIP-k-LinslvPerfPar-SIP_Poisson_J1310720\n",
      "Found Grid: { Guid = 15ba8bcc-a9f1-4cb7-a605-f30461111732; Name = WIP-k-LinslvPerfPar-SIP_Poisson_J1310720; Cell Count = 1310720; Dim = 3 }\n",
      "Creating Grid: WIP-k-LinslvPerfPar-SIP_Poisson_J10485760\n",
      "Found Grid: { Guid = 4276c806-f69c-43e1-86ef-1ce920cdc92b; Name = WIP-k-LinslvPerfPar-SIP_Poisson_J10485760; Cell Count = 10485760; Dim = 3 }\n",
      "Creating Grid: WIP-k-LinslvPerfPar-SIP_Poisson_J83886080\n",
      "Creating grid with 83886080 = 1280x256x256 cells.\n"
     ]
    }
   ],
   "source": [
    "int[] Resolutions_3D = new int[] { 4, 8, 16, 24, 32, 48, 64, 128, 256 };\n",
    "IGridInfo[] grids = new IGridInfo[Resolutions_3D.Length];\n",
    "\n",
    "for(int cnt = 0; cnt < Resolutions_3D.Length; cnt++) {\n",
    "    int Res = Resolutions_3D[cnt];    \n",
    "    \n",
    "    double[] xNodes = GenericBlas.Linspace(0, 10, Res*5 + 1);\n",
    "    double[] yNodes = Utils.SinLinSpacing(-1, +1, 0.6, Res + 1);\n",
    "    double[] zNodes = Utils.SinLinSpacing(-1, +1, 0.6, Res + 1);\n",
    "    int J = (xNodes.Length - 1)*(yNodes.Length - 1)*(zNodes.Length - 1);\n",
    "    \n",
    "    string GridName = wmg.CurrentProject + \"-SIP_Poisson_J\" + J;\n",
    "    \n",
    "    //grids[cnt] = null;\n",
    "    //foreach(IGridInfo grd in wmg.Grids) { \n",
    "    //    bool check = grd.Name.Contains(string.Format(\"_J\"+ J));\n",
    "    //    if(check) {\n",
    "    //      grids[cnt] = grd;\n",
    "    //    }\n",
    "    //}\n",
    "    \n",
    "    Console.WriteLine(\"Creating Grid: \" + GridName);\n",
    "    \n",
    "    grids[cnt] = wmg.Grids.SingleOrDefault(grd => grd.Name.Contains(GridName)); // check if an appropriate grid is already present in the database\n",
    "    if(grids[cnt] == null) { // \n",
    "        Console.WriteLine($\"Creating grid with {J} = {Res*5}x{Res}x{Res} cells.\");\n",
    "        \n",
    "        GridCommons g;\n",
    "        g      = Grid3D.Cartesian3DGrid(xNodes, yNodes, zNodes);\n",
    "        g.Name = GridName;\n",
    "    \n",
    "        g.DefineEdgeTags(delegate (double[] X) {\n",
    "            if(Math.Abs(X[0] - 0.0) <= 1.0e-6)\n",
    "                return BoundaryType.Dirichlet.ToString();\n",
    "            else\n",
    "                return BoundaryType.Neumann.ToString();\n",
    "        });\n",
    "      \n",
    "        g = wmg.SaveGrid(g);  \n",
    "        grids[cnt] = g;\n",
    "    } else {\n",
    "        Console.WriteLine(\"Found Grid: \" + grids[cnt]);\n",
    "        if(grids[cnt].NumberOfCells != J)\n",
    "            throw new Exception(\"J mismatch\");\n",
    "        \n",
    "        if(grids[cnt].SpatialDimension != 3)\n",
    "            throw new Exception(\"D mismatch\");\n",
    "    }\n",
    "}"
   ]
  },
  {
   "cell_type": "code",
   "execution_count": null,
   "metadata": {
    "dotnet_interactive": {
     "language": "csharp"
    },
    "vscode": {
     "languageId": "dotnet-interactive.csharp"
    }
   },
   "outputs": [],
   "source": [
    "grids"
   ]
  },
  {
   "cell_type": "markdown",
   "metadata": {
    "dotnet_interactive": {
     "language": "csharp"
    }
   },
   "source": [
    "## Setup Control Object for a Solver Run"
   ]
  },
  {
   "cell_type": "markdown",
   "metadata": {
    "dotnet_interactive": {
     "language": "csharp"
    }
   },
   "source": [
    "### Values/Formulas for the Values of RHS and Boundary Conditions"
   ]
  },
  {
   "cell_type": "code",
   "execution_count": null,
   "metadata": {
    "dotnet_interactive": {
     "language": "csharp"
    },
    "vscode": {
     "languageId": "dotnet-interactive.csharp"
    }
   },
   "outputs": [],
   "source": [
    "string nl = System.Environment.NewLine;\n",
    "string math_expressions_code = \n",
    "\"static class InitialValues { \" +\n",
    "\"    public static double RHS(double[] X) { \" + nl +\n",
    "\"        return -Math.Sin(X[0]); \" + nl +\n",
    "\"    } \" + nl +\n",
    "\"     \" + nl +\n",
    "\"    public static double DirichletBC(double[] X) { \" + nl +\n",
    "\"        return 0.0; \" + nl +\n",
    "\"    } \" + nl +\n",
    "\"     \" + nl +\n",
    "\"    public static double NeumannBC(double[] X) { \" + nl +\n",
    "\"       if(Math.Abs(X[1] - 1.0) < 1.0e-8 || Math.Abs(X[1] + 1.0) < 1.0e-8) \" + nl +\n",
    "\"           return 0; \" + nl +\n",
    "\"       if(X.Length > 2 && (Math.Abs(X[2] - 1.0) < 1.0e-8 || Math.Abs(X[2] + 1.0) < 1.0e-8)) \" + nl +\n",
    "\"           return 0; \" + nl +\n",
    "\"     \" + nl +\n",
    "\"       return Math.Cos(10.0); \" + nl +\n",
    "\"   } \" + nl +\n",
    "\"} \" + nl;"
   ]
  },
  {
   "cell_type": "code",
   "execution_count": null,
   "metadata": {
    "dotnet_interactive": {
     "language": "csharp"
    },
    "vscode": {
     "languageId": "dotnet-interactive.csharp"
    }
   },
   "outputs": [],
   "source": [
    "var RHS_value = new Formula(\"InitialValues.RHS\", false, math_expressions_code);\n",
    "var NeumannBC_value = new Formula(\"InitialValues.NeumannBC\", false, math_expressions_code);\n",
    "var DirichletBC_value = new ConstantValue(0.0);"
   ]
  },
  {
   "cell_type": "markdown",
   "metadata": {},
   "source": [
    "Brief test of the boundary values:"
   ]
  },
  {
   "cell_type": "code",
   "execution_count": null,
   "metadata": {
    "dotnet_interactive": {
     "language": "csharp"
    },
    "vscode": {
     "languageId": "dotnet-interactive.csharp"
    }
   },
   "outputs": [],
   "source": [
    "RHS_value.Evaluate(new Vector(0.2, 0.1), 0)"
   ]
  },
  {
   "cell_type": "code",
   "execution_count": null,
   "metadata": {
    "dotnet_interactive": {
     "language": "csharp"
    },
    "vscode": {
     "languageId": "dotnet-interactive.csharp"
    }
   },
   "outputs": [],
   "source": [
    "NeumannBC_value.Evaluate(new Vector(0.2, 0.1), 0)"
   ]
  },
  {
   "cell_type": "markdown",
   "metadata": {
    "dotnet_interactive": {
     "language": "csharp"
    }
   },
   "source": [
    "### Setup of Parameter Study"
   ]
  },
  {
   "cell_type": "markdown",
   "metadata": {
    "dotnet_interactive": {
     "language": "csharp"
    }
   },
   "source": [
    "Polynomial degrees to test:"
   ]
  },
  {
   "cell_type": "code",
   "execution_count": null,
   "metadata": {
    "dotnet_interactive": {
     "language": "csharp"
    },
    "vscode": {
     "languageId": "dotnet-interactive.csharp"
    }
   },
   "outputs": [],
   "source": [
    "//int[] PolyDegS = new int[] {2, 3, 4, 5, 6};\n",
    "int[] PolyDegS = new int[] {2, 3, 5}; // reduced options for dev."
   ]
  },
  {
   "cell_type": "markdown",
   "metadata": {},
   "source": [
    "Solvers which we want to instrument:"
   ]
  },
  {
   "cell_type": "code",
   "execution_count": null,
   "metadata": {
    "dotnet_interactive": {
     "language": "csharp"
    },
    "vscode": {
     "languageId": "dotnet-interactive.csharp"
    }
   },
   "outputs": [],
   "source": [
    "using BoSSS.Solution.AdvancedSolvers;"
   ]
  },
  {
   "cell_type": "code",
   "execution_count": null,
   "metadata": {
    "dotnet_interactive": {
     "language": "csharp"
    },
    "vscode": {
     "languageId": "dotnet-interactive.csharp"
    }
   },
   "outputs": [],
   "source": [
    "LinearSolverCode[] solver_nameS = new LinearSolverCode[] {\n",
    "    LinearSolverCode.exp_Kcycle_schwarz\n",
    "}; "
   ]
  },
  {
   "cell_type": "markdown",
   "metadata": {},
   "source": [
    "Number of processors:"
   ]
  },
  {
   "cell_type": "code",
   "execution_count": null,
   "metadata": {
    "dotnet_interactive": {
     "language": "csharp"
    },
    "vscode": {
     "languageId": "dotnet-interactive.csharp"
    }
   },
   "outputs": [],
   "source": [
    "int[] MPIsizes = new int[] { 1, 2, 4, 8, 16, 32, 64, 128 };"
   ]
  },
  {
   "cell_type": "markdown",
   "metadata": {},
   "source": [
    "Loop over all combinations of parameters and define a control object for each combo:"
   ]
  },
  {
   "cell_type": "code",
   "execution_count": null,
   "metadata": {
    "dotnet_interactive": {
     "language": "csharp"
    },
    "vscode": {
     "languageId": "dotnet-interactive.csharp"
    }
   },
   "outputs": [],
   "source": [
    "var controls = new List<(SipControl ctrl, int NoOfProcs)>();\n",
    "LinearSolverCode solver_name = LinearSolverCode.exp_Kcycle_schwarz;\n",
    "foreach(int k in PolyDegS) {   \n",
    "foreach(IGridInfo grd in grids) {\n",
    "foreach(int MPIsize in MPIsizes) {\n",
    "    int Np = Utils.Np(k);\n",
    "    int J  = grd.NumberOfCells;\n",
    "    if(J / MPIsize < 16) {\n",
    "        // less than 16 cells per processor - to low for a multigrid.\n",
    "        continue; \n",
    "    }\n",
    "    if(J*Np/MPIsize > 500000) {\n",
    "        // not interested in doing more then 500'000 DOFs per processor\n",
    "        continue;\n",
    "    } \n",
    "    var ctrl = new SipControl();\n",
    "    controls.Add((ctrl, MPIsize));\n",
    "       \n",
    "    \n",
    "    string caseName = string.Format(\"Poisson_J{0}_k{1}_Sz{2}\", J, k, MPIsize);\n",
    "    Console.WriteLine(\"setting up: \" + caseName);\n",
    "    ctrl.SessionName = \"SIP_\" + caseName;\n",
    "\n",
    "    ctrl.SetGrid(grd);\n",
    "    ctrl.savetodb = true;\n",
    "    ctrl.SetDGdegree(k);\n",
    "\n",
    "    ctrl.LinearSolver           = solver_name.GetConfig();\n",
    "    var isc = ctrl.LinearSolver as IterativeSolverConfig;\n",
    "    if(isc != null) {\n",
    "        //Console.WriteLine(isc.ConvergenceCriterion);\n",
    "        //ctrl.LinearSolver.TargetBlockSize      = Math.Min(J*Np-1,10000);\n",
    "        isc.ConvergenceCriterion = 1e-8;\n",
    "    }\n",
    "        \n",
    "        \n",
    "    ctrl.InitialValues.Add(\"RHS\", RHS_value);\n",
    "    ctrl.AddBoundaryValue(BoundaryType.Dirichlet.ToString(), \"T\", DirichletBC_value);\n",
    "    ctrl.AddBoundaryValue(BoundaryType.Neumann.ToString(), \"T\", NeumannBC_value);\n",
    "    \n",
    "    ctrl.TracingNamespaces = \"*\";\n",
    "}\n",
    "}\n",
    "}"
   ]
  },
  {
   "cell_type": "code",
   "execution_count": null,
   "metadata": {
    "dotnet_interactive": {
     "language": "csharp"
    },
    "vscode": {
     "languageId": "dotnet-interactive.csharp"
    }
   },
   "outputs": [],
   "source": [
    "//string path = @\"C:\\Users\\flori\\Documents\\BoSSS-kummer\\public\\src\\L4-application\\ipPoisson\\bin\\Release\\net5.0\\PoissonBench\";\n",
    "//foreach(var ctrl in controls) {\n",
    "//    ctrl.savetodb = false;\n",
    "//    ctrl.SaveToFile(System.IO.Path.Combine(path, ctrl.SessionName + \".obj\"));\n",
    "//}"
   ]
  },
  {
   "cell_type": "code",
   "execution_count": null,
   "metadata": {
    "dotnet_interactive": {
     "language": "csharp"
    },
    "vscode": {
     "languageId": "dotnet-interactive.csharp"
    }
   },
   "outputs": [],
   "source": [
    "controls.Count()"
   ]
  },
  {
   "cell_type": "markdown",
   "metadata": {},
   "source": [
    "## Launch Jobs"
   ]
  },
  {
   "cell_type": "markdown",
   "metadata": {},
   "source": [
    "Use the default queue defined on this machine:"
   ]
  },
  {
   "cell_type": "code",
   "execution_count": null,
   "metadata": {
    "dotnet_interactive": {
     "language": "csharp"
    },
    "vscode": {
     "languageId": "dotnet-interactive.csharp"
    }
   },
   "outputs": [],
   "source": [
    "ExecutionQueues"
   ]
  },
  {
   "cell_type": "code",
   "execution_count": null,
   "metadata": {
    "dotnet_interactive": {
     "language": "csharp"
    },
    "vscode": {
     "languageId": "dotnet-interactive.csharp"
    }
   },
   "outputs": [],
   "source": [
    "var myBatch = GetDefaultQueue();\n",
    "myBatch"
   ]
  },
  {
   "cell_type": "code",
   "execution_count": null,
   "metadata": {
    "dotnet_interactive": {
     "language": "csharp"
    },
    "vscode": {
     "languageId": "dotnet-interactive.csharp"
    }
   },
   "outputs": [],
   "source": [
    "foreach((var ctrl, int MPIsize) in controls) {\n",
    "    Console.WriteLine(\" Submitting: \" + ctrl.SessionName);\n",
    "    var j = ctrl.CreateJob();\n",
    "    j.RetryCount = 1;\n",
    "    j.NumberOfMPIProcs = MPIsize;\n",
    "    j.Activate(myBatch);\n",
    "    //ctrl.RunBatch(); // run in the default queue for this project\n",
    "}"
   ]
  },
  {
   "cell_type": "code",
   "execution_count": null,
   "metadata": {
    "dotnet_interactive": {
     "language": "csharp"
    },
    "vscode": {
     "languageId": "dotnet-interactive.csharp"
    }
   },
   "outputs": [],
   "source": [
    "//foreach(var j in wmg.AllJobs.Values)\n",
    "//    j.DeleteOldDeploymentsAndSessions();"
   ]
  },
  {
   "cell_type": "markdown",
   "metadata": {},
   "source": [
    "### Wait for Completion and Check Job Status"
   ]
  },
  {
   "cell_type": "code",
   "execution_count": null,
   "metadata": {
    "dotnet_interactive": {
     "language": "csharp"
    },
    "vscode": {
     "languageId": "dotnet-interactive.csharp"
    }
   },
   "outputs": [],
   "source": [
    "wmg.BlockUntilAllJobsTerminate(3600*24*2); // wait at maximum two days for the jobs to finish"
   ]
  },
  {
   "cell_type": "code",
   "execution_count": null,
   "metadata": {
    "dotnet_interactive": {
     "language": "csharp"
    },
    "vscode": {
     "languageId": "dotnet-interactive.csharp"
    }
   },
   "outputs": [],
   "source": [
    "wmg.AllJobs"
   ]
  },
  {
   "cell_type": "code",
   "execution_count": null,
   "metadata": {
    "dotnet_interactive": {
     "language": "csharp"
    },
    "vscode": {
     "languageId": "dotnet-interactive.csharp"
    }
   },
   "outputs": [],
   "source": [
    "int succJob = wmg.AllJobs.Values.Where(job => job.Status == JobStatus.FinishedSuccessful).Count();\n",
    "int succSess = wmg.Sessions.Where(Si => Si.Name.Contains(\"SIP_Poisson\") && (Si.SuccessfulTermination == true)).Count();\n",
    "(succJob, succSess)"
   ]
  },
  {
   "cell_type": "code",
   "execution_count": null,
   "metadata": {
    "dotnet_interactive": {
     "language": "csharp"
    },
    "vscode": {
     "languageId": "dotnet-interactive.csharp"
    }
   },
   "outputs": [],
   "source": [
    "int failJob = wmg.AllJobs.Values.Where(job => job.Status != JobStatus.FinishedSuccessful).Count();\n",
    "int failSess = wmg.Sessions.Where(Si => Si.Name.Contains(\"SIP_Poisson\") && (Si.SuccessfulTermination == false)).Count();\n",
    "(failJob, failSess)"
   ]
  },
  {
   "cell_type": "code",
   "execution_count": null,
   "metadata": {
    "dotnet_interactive": {
     "language": "csharp"
    },
    "vscode": {
     "languageId": "dotnet-interactive.csharp"
    }
   },
   "outputs": [],
   "source": [
    "NUnit.Framework.Assert.AreEqual(succJob + failJob, controls.Count);\n",
    "NUnit.Framework.Assert.AreEqual(succJob, succSess);\n",
    "NUnit.Framework.Assert.AreEqual(failJob, failSess);"
   ]
  },
  {
   "cell_type": "code",
   "execution_count": null,
   "metadata": {
    "dotnet_interactive": {
     "language": "csharp"
    },
    "vscode": {
     "languageId": "dotnet-interactive.csharp"
    }
   },
   "outputs": [],
   "source": [
    "wmg.Sessions.Where(sess => sess.Name.StartsWith(\"SIP_Poisson_J\"))"
   ]
  },
  {
   "cell_type": "code",
   "execution_count": null,
   "metadata": {
    "dotnet_interactive": {
     "language": "csharp"
    },
    "vscode": {
     "languageId": "dotnet-interactive.csharp"
    }
   },
   "outputs": [],
   "source": [
    "//controls.Select(tuple => tuple.ctrl)\n",
    "//        .Select(ctrl => (ctrl,ctrl.GetJob()))\n",
    "//        .Select(ttt => (ttt.Item1.SessionName == ttt.Item2.Name, ttt.Item1.SessionName, ttt.Item2.Name))"
   ]
  },
  {
   "cell_type": "code",
   "execution_count": null,
   "metadata": {
    "dotnet_interactive": {
     "language": "csharp"
    },
    "vscode": {
     "languageId": "dotnet-interactive.csharp"
    }
   },
   "outputs": [],
   "source": [
    "var NoSuccess = wmg.AllJobs.Values\n",
    "                        .Where(job => job.Status != JobStatus.FinishedSuccessful)\n",
    "                        .ToArray();\n",
    "NoSuccess"
   ]
  },
  {
   "cell_type": "code",
   "execution_count": null,
   "metadata": {
    "dotnet_interactive": {
     "language": "csharp"
    },
    "vscode": {
     "languageId": "dotnet-interactive.csharp"
    }
   },
   "outputs": [],
   "source": [
    "wmg.AllJobs.Values\n",
    "        .Where(job => job.Name.Contains(\"SIP_Poisson_J552960_k2\"))\n",
    "        .Select(job => (job.Name, job.Status, job.LatestDeployment?.DeploymentDirectory?.FullName))\n",
    "        .ToArray()"
   ]
  },
  {
   "cell_type": "code",
   "execution_count": null,
   "metadata": {
    "dotnet_interactive": {
     "language": "csharp"
    },
    "vscode": {
     "languageId": "dotnet-interactive.csharp"
    }
   },
   "outputs": [],
   "source": [
    "foreach(var fail in NoSuccess)\n",
    "    Console.WriteLine(fail + \":  @\" + ((fail.LatestDeployment?.DeploymentDirectory?.FullName) ?? \" no deployment directory\"));"
   ]
  },
  {
   "cell_type": "code",
   "execution_count": null,
   "metadata": {
    "dotnet_interactive": {
     "language": "csharp"
    },
    "vscode": {
     "languageId": "dotnet-interactive.csharp"
    }
   },
   "outputs": [],
   "source": [
    "/*\n",
    "string PathOffset = @\"C:\\Users\\jenkinsci\\Desktop\\LinSlvPerfFail-20apr22\";\n",
    "foreach(var fail in NoSuccess) {\n",
    "    var C = fail.GetControl();\n",
    "    C.savetodb = false;\n",
    "    C.SaveToFile(System.IO.Path.Combine(PathOffset, fail.Name + \".obj\"));\n",
    "    \n",
    "    string Stdout = fail.Stdout;\n",
    "    System.IO.File.WriteAllText(System.IO.Path.Combine(PathOffset, fail.Name + \"-stdout.txt\"), Stdout);\n",
    "    \n",
    "    string Stderr = fail.Stderr;\n",
    "    System.IO.File.WriteAllText(System.IO.Path.Combine(PathOffset, fail.Name + \"-stderr.txt\"), Stderr);\n",
    "}\n",
    "*/"
   ]
  },
  {
   "cell_type": "code",
   "execution_count": null,
   "metadata": {
    "dotnet_interactive": {
     "language": "csharp"
    },
    "vscode": {
     "languageId": "dotnet-interactive.csharp"
    }
   },
   "outputs": [],
   "source": [
    "var FailedSessions = wmg.Sessions.Where(Si => Si.Name.Contains(\"SIP_Poisson\") &&\n",
    "                                        (Si.SuccessfulTermination == false\n",
    "                                        || Convert.ToInt32(Si.KeysAndQueries[\"Conv\"]) == 0));\n",
    "FailedSessions"
   ]
  },
  {
   "cell_type": "code",
   "execution_count": null,
   "metadata": {
    "dotnet_interactive": {
     "language": "csharp"
    },
    "vscode": {
     "languageId": "dotnet-interactive.csharp"
    }
   },
   "outputs": [],
   "source": [
    "//foreach(var s in FailedSessions)\n",
    "//    s.Delete(true);"
   ]
  },
  {
   "cell_type": "code",
   "execution_count": null,
   "metadata": {
    "dotnet_interactive": {
     "language": "csharp"
    },
    "vscode": {
     "languageId": "dotnet-interactive.csharp"
    }
   },
   "outputs": [],
   "source": [
    "//wmg.AllJobs[\"SIP_Poisson_J2560_k5_pMultigrid\"].AllDeployments"
   ]
  },
  {
   "cell_type": "code",
   "execution_count": null,
   "metadata": {
    "dotnet_interactive": {
     "language": "csharp"
    },
    "vscode": {
     "languageId": "dotnet-interactive.csharp"
    }
   },
   "outputs": [],
   "source": [
    "NUnit.Framework.Assert.Zero(NoSuccess.Count(), \"Some Jobs Failed\");"
   ]
  },
  {
   "cell_type": "code",
   "execution_count": null,
   "metadata": {
    "dotnet_interactive": {
     "language": "csharp"
    },
    "vscode": {
     "languageId": "dotnet-interactive.csharp"
    }
   },
   "outputs": [],
   "source": [
    "//foreach(Job jF in NoSuccess)\n",
    "//   jF.DeleteOldDeploymentsAndSessions();"
   ]
  },
  {
   "cell_type": "code",
   "execution_count": null,
   "metadata": {
    "dotnet_interactive": {
     "language": "csharp"
    },
    "vscode": {
     "languageId": "dotnet-interactive.csharp"
    }
   },
   "outputs": [],
   "source": [
    "NUnit.Framework.Assert.Zero(FailedSessions.Count(), \"Some Sessions did not derminate successfully.\");"
   ]
  },
  {
   "cell_type": "markdown",
   "metadata": {},
   "source": [
    "List Output of some job (arbitrarily the first one):"
   ]
  },
  {
   "cell_type": "code",
   "execution_count": null,
   "metadata": {
    "dotnet_interactive": {
     "language": "csharp"
    },
    "vscode": {
     "languageId": "dotnet-interactive.csharp"
    }
   },
   "outputs": [],
   "source": [
    "wmg.AllJobs.First().Value.Stdout"
   ]
  },
  {
   "cell_type": "markdown",
   "metadata": {
    "dotnet_interactive": {
     "language": "csharp"
    }
   },
   "source": [
    "## Create Table for Post-Processing\n",
    "\n",
    "(moved to post-processing worksheet)"
   ]
  },
  {
   "cell_type": "code",
   "execution_count": null,
   "metadata": {
    "dotnet_interactive": {
     "language": "csharp"
    },
    "vscode": {
     "languageId": "dotnet-interactive.csharp"
    }
   },
   "outputs": [],
   "source": [
    "/*\n",
    "// evaluators to add additional columns to the session table\n",
    "static class AddCols {\n",
    "    static public object XdgMatrixAssembly_time(ISessionInfo SI) {\n",
    "        var mcr = SI.GetProfiling()[0];\n",
    "        var ndS = mcr.FindChildren(\"MatrixAssembly\");\n",
    "        var nd  = ndS.ElementAt(0);\n",
    "        return nd.TimeSpentInMethod.TotalSeconds  / nd.CallCount;\n",
    "    }\n",
    "    static public object Aggregation_basis_init_time(ISessionInfo SI) {\n",
    "        var mcr = SI.GetProfiling()[0];\n",
    "        var ndS = mcr.FindChildren(\"Aggregation_basis_init\");\n",
    "        var nd  = ndS.ElementAt(0);\n",
    "        return nd.TimeSpentInMethod.TotalSeconds  / nd.CallCount;\n",
    "    }\n",
    "    static public object Solver_Init_time(ISessionInfo SI) {\n",
    "        var mcr = SI.GetProfiling()[0];\n",
    "        var ndS = mcr.FindChildren(\"Solver_Init\");\n",
    "        var nd  = ndS.ElementAt(0);\n",
    "        //Console.WriteLine(\"Number of nodes: \" + ndS.Count() + \" cc \" + nd.CallCount );\n",
    "        return nd.TimeSpentInMethod.TotalSeconds / nd.CallCount;\n",
    "    }\n",
    "    static public object Solver_Run_time(ISessionInfo SI) {\n",
    "        var mcr = SI.GetProfiling()[0];\n",
    "        var ndS = mcr.FindChildren(\"Solver_Run\");\n",
    "        var nd  = ndS.ElementAt(0);\n",
    "        return nd.TimeSpentInMethod.TotalSeconds  / nd.CallCount;\n",
    "    }\n",
    "    static public object NoOfCores(ISessionInfo SI){\n",
    "        return SI.GetProfiling().Length;\n",
    "        }\n",
    "}\n",
    "*/"
   ]
  },
  {
   "cell_type": "code",
   "execution_count": null,
   "metadata": {
    "dotnet_interactive": {
     "language": "csharp"
    },
    "vscode": {
     "languageId": "dotnet-interactive.csharp"
    }
   },
   "outputs": [],
   "source": [
    "/*\n",
    "wmg.AdditionalSessionTableColums.Clear();\n",
    "wmg.AdditionalSessionTableColums.Add(\"MatrixAssembly\", AddCols.XdgMatrixAssembly_time);\n",
    "wmg.AdditionalSessionTableColums.Add(\"Aggregation_basis_init_time\", AddCols.Aggregation_basis_init_time);\n",
    "wmg.AdditionalSessionTableColums.Add(\"Solver_Init_time\", AddCols.Solver_Init_time);\n",
    "wmg.AdditionalSessionTableColums.Add(\"Solver_Run_time\", AddCols.Solver_Run_time);\n",
    "wmg.AdditionalSessionTableColums.Add(\"NoOfCores\", AddCols.NoOfCores);\n",
    "*/"
   ]
  },
  {
   "cell_type": "code",
   "execution_count": null,
   "metadata": {
    "dotnet_interactive": {
     "language": "csharp"
    },
    "vscode": {
     "languageId": "dotnet-interactive.csharp"
    }
   },
   "outputs": [],
   "source": [
    "/*\n",
    "var FullSessTab = wmg.SessionTable;\n",
    "\n",
    "// The Session column can't be serialized,\n",
    "// we have to remove it\n",
    "List<string> AllCols = FullSessTab.GetColumnNames().ToList();\n",
    "AllCols.Remove(\"Session\");\n",
    "FullSessTab = FullSessTab.ExtractColumns(AllCols.ToArray());\n",
    "*/"
   ]
  },
  {
   "cell_type": "code",
   "execution_count": null,
   "metadata": {
    "dotnet_interactive": {
     "language": "csharp"
    },
    "vscode": {
     "languageId": "dotnet-interactive.csharp"
    }
   },
   "outputs": [],
   "source": [
    "//foreach(var s in AllCols) Console.WriteLine(s);"
   ]
  },
  {
   "cell_type": "code",
   "execution_count": null,
   "metadata": {
    "dotnet_interactive": {
     "language": "csharp"
    },
    "vscode": {
     "languageId": "dotnet-interactive.csharp"
    }
   },
   "outputs": [],
   "source": [
    "//foreach(var s in wmg.Sessions[0].KeysAndQueries.Keys) Console.WriteLine(s + \" \\t = \" + wmg.Sessions[0].KeysAndQueries[s]);"
   ]
  },
  {
   "cell_type": "code",
   "execution_count": null,
   "metadata": {
    "dotnet_interactive": {
     "language": "csharp"
    },
    "vscode": {
     "languageId": "dotnet-interactive.csharp"
    }
   },
   "outputs": [],
   "source": [
    "/*var SubTab = FullSessTab.ExtractColumns(\n",
    "    \"SessionName\",\"DGdegree:T\", \"Grid:NoOfCells\", \"LinearSolver.SolverCode\", \"DOFs\", \"MatrixAssembly\",\n",
    "    \"Aggregation_basis_init_time\", \"Solver_Init_time\", \"Solver_Run_time\", \"NoIter\");\n",
    "*/"
   ]
  },
  {
   "cell_type": "code",
   "execution_count": null,
   "metadata": {
    "dotnet_interactive": {
     "language": "csharp"
    },
    "vscode": {
     "languageId": "dotnet-interactive.csharp"
    }
   },
   "outputs": [],
   "source": [
    "//SubTab.Print();"
   ]
  },
  {
   "cell_type": "code",
   "execution_count": null,
   "metadata": {
    "dotnet_interactive": {
     "language": "csharp"
    },
    "vscode": {
     "languageId": "dotnet-interactive.csharp"
    }
   },
   "outputs": [],
   "source": [
    "/*\n",
    "// Filename\n",
    "var now               = DateTime.Now;\n",
    "FullSessTab.TableName = wmg.CurrentProject + \"_\" + now.Year + \"-\" + now.Month + \"-\" + now.Day;\n",
    "string docpath        = FullSessTab.TableName + \".json\";\n",
    "SubTab.SaveToFile(wmg.CurrentProject + \".json\");\n",
    "SubTab.ToCSVFile(wmg.CurrentProject + \".csv\");\n",
    "*/"
   ]
  }
 ],
 "metadata": {
  "kernelspec": {
   "display_name": ".NET (C#)",
   "language": "C#",
   "name": ".net-csharp"
  },
  "language_info": {
   "file_extension": ".cs",
   "mimetype": "text/x-csharp",
   "name": "C#",
   "pygments_lexer": "csharp",
   "version": "9.0"
  }
 },
 "nbformat": 4,
 "nbformat_minor": 4
}
