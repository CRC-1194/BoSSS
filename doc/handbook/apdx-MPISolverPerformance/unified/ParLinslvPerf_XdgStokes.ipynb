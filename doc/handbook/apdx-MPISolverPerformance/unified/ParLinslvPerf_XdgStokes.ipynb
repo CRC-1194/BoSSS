{
 "cells": [
  {
   "cell_type": "markdown",
   "metadata": {},
   "source": [
    "# Linear Solver Performance: XDG Stokes, MPI-parallel\n",
    "### Part 1, Benchmark Setup and Execution"
   ]
  },
  {
   "cell_type": "code",
   "execution_count": 1,
   "metadata": {},
   "outputs": [
    {
     "data": {
      "text/html": [
       "\r\n",
       "<div>\r\n",
       "    <div id='dotnet-interactive-this-cell-40348.Microsoft.DotNet.Interactive.Http.HttpPort' style='display: none'>\r\n",
       "        The below script needs to be able to find the current output cell; this is an easy method to get it.\r\n",
       "    </div>\r\n",
       "    <script type='text/javascript'>\r\n",
       "async function probeAddresses(probingAddresses) {\r\n",
       "    function timeout(ms, promise) {\r\n",
       "        return new Promise(function (resolve, reject) {\r\n",
       "            setTimeout(function () {\r\n",
       "                reject(new Error('timeout'))\r\n",
       "            }, ms)\r\n",
       "            promise.then(resolve, reject)\r\n",
       "        })\r\n",
       "    }\r\n",
       "\r\n",
       "    if (Array.isArray(probingAddresses)) {\r\n",
       "        for (let i = 0; i < probingAddresses.length; i++) {\r\n",
       "\r\n",
       "            let rootUrl = probingAddresses[i];\r\n",
       "\r\n",
       "            if (!rootUrl.endsWith('/')) {\r\n",
       "                rootUrl = `${rootUrl}/`;\r\n",
       "            }\r\n",
       "\r\n",
       "            try {\r\n",
       "                let response = await timeout(1000, fetch(`${rootUrl}discovery`, {\r\n",
       "                    method: 'POST',\r\n",
       "                    cache: 'no-cache',\r\n",
       "                    mode: 'cors',\r\n",
       "                    timeout: 1000,\r\n",
       "                    headers: {\r\n",
       "                        'Content-Type': 'text/plain'\r\n",
       "                    },\r\n",
       "                    body: probingAddresses[i]\r\n",
       "                }));\r\n",
       "\r\n",
       "                if (response.status == 200) {\r\n",
       "                    return rootUrl;\r\n",
       "                }\r\n",
       "            }\r\n",
       "            catch (e) { }\r\n",
       "        }\r\n",
       "    }\r\n",
       "}\r\n",
       "\r\n",
       "function loadDotnetInteractiveApi() {\r\n",
       "    probeAddresses([\"http://172.23.224.1:1000/\", \"http://130.83.248.211:1000/\", \"http://192.168.56.1:1000/\", \"http://169.254.95.72:1000/\", \"http://127.0.0.1:1000/\"])\r\n",
       "        .then((root) => {\r\n",
       "        // use probing to find host url and api resources\r\n",
       "        // load interactive helpers and language services\r\n",
       "        let dotnetInteractiveRequire = require.config({\r\n",
       "        context: '40348.Microsoft.DotNet.Interactive.Http.HttpPort',\r\n",
       "                paths:\r\n",
       "            {\r\n",
       "                'dotnet-interactive': `${root}resources`\r\n",
       "                }\r\n",
       "        }) || require;\r\n",
       "\r\n",
       "            window.dotnetInteractiveRequire = dotnetInteractiveRequire;\r\n",
       "\r\n",
       "            window.configureRequireFromExtension = function(extensionName, extensionCacheBuster) {\r\n",
       "                let paths = {};\r\n",
       "                paths[extensionName] = `${root}extensions/${extensionName}/resources/`;\r\n",
       "                \r\n",
       "                let internalRequire = require.config({\r\n",
       "                    context: extensionCacheBuster,\r\n",
       "                    paths: paths,\r\n",
       "                    urlArgs: `cacheBuster=${extensionCacheBuster}`\r\n",
       "                    }) || require;\r\n",
       "\r\n",
       "                return internalRequire\r\n",
       "            };\r\n",
       "        \r\n",
       "            dotnetInteractiveRequire([\r\n",
       "                    'dotnet-interactive/dotnet-interactive'\r\n",
       "                ],\r\n",
       "                function (dotnet) {\r\n",
       "                    dotnet.init(window);\r\n",
       "                },\r\n",
       "                function (error) {\r\n",
       "                    console.log(error);\r\n",
       "                }\r\n",
       "            );\r\n",
       "        })\r\n",
       "        .catch(error => {console.log(error);});\r\n",
       "    }\r\n",
       "\r\n",
       "// ensure `require` is available globally\r\n",
       "if ((typeof(require) !==  typeof(Function)) || (typeof(require.config) !== typeof(Function))) {\r\n",
       "    let require_script = document.createElement('script');\r\n",
       "    require_script.setAttribute('src', 'https://cdnjs.cloudflare.com/ajax/libs/require.js/2.3.6/require.min.js');\r\n",
       "    require_script.setAttribute('type', 'text/javascript');\r\n",
       "    \r\n",
       "    \r\n",
       "    require_script.onload = function() {\r\n",
       "        loadDotnetInteractiveApi();\r\n",
       "    };\r\n",
       "\r\n",
       "    document.getElementsByTagName('head')[0].appendChild(require_script);\r\n",
       "}\r\n",
       "else {\r\n",
       "    loadDotnetInteractiveApi();\r\n",
       "}\r\n",
       "\r\n",
       "    </script>\r\n",
       "</div>"
      ]
     },
     "metadata": {},
     "output_type": "display_data"
    },
    {
     "name": "stdout",
     "output_type": "stream",
     "text": [
      "Execution Date/time is 01.09.2022 15:42:37\r\n"
     ]
    }
   ],
   "source": [
    "Console.WriteLine(\"Execution Date/time is \" + DateTime.Now);"
   ]
  },
  {
   "cell_type": "code",
   "execution_count": 2,
   "metadata": {},
   "outputs": [],
   "source": [
    "#r \"BoSSSpad.dll\"\n",
    "//#r \"C:\\Users\\jenkinsci\\Documents\\BoSSS-NET5\\public\\src\\L4-application\\BoSSSpad\\bin\\Debug\\net5.0\\BoSSSpad.dll\"\n",
    "using System;\n",
    "using System.Collections.Generic;\n",
    "using System.Linq;\n",
    "using ilPSP;\n",
    "using ilPSP.Utils;\n",
    "using BoSSS.Platform;\n",
    "using BoSSS.Platform.Utils.Geom;\n",
    "using BoSSS.Platform.LinAlg;\n",
    "using BoSSS.Foundation;\n",
    "using BoSSS.Foundation.XDG;\n",
    "using BoSSS.Foundation.Grid;\n",
    "using BoSSS.Foundation.Grid.Classic;\n",
    "using BoSSS.Foundation.Grid.RefElements;\n",
    "using BoSSS.Foundation.IO;\n",
    "using BoSSS.Solution;\n",
    "using BoSSS.Solution.Control;\n",
    "using BoSSS.Solution.GridImport;\n",
    "using BoSSS.Solution.Statistic;\n",
    "using BoSSS.Solution.Utils;\n",
    "using BoSSS.Solution.AdvancedSolvers;\n",
    "using BoSSS.Solution.Gnuplot;\n",
    "using BoSSS.Application.BoSSSpad;\n",
    "using BoSSS.Application.XNSE_Solver;\n",
    "using BoSSS.Application.GridGen;\n",
    "using static BoSSS.Application.BoSSSpad.BoSSSshell;\n",
    "Init();"
   ]
  },
  {
   "cell_type": "code",
   "execution_count": 3,
   "metadata": {
    "dotnet_interactive": {
     "language": "csharp"
    },
    "vscode": {
     "languageId": "csharp"
    }
   },
   "outputs": [
    {
     "name": "stdout",
     "output_type": "stream",
     "text": [
      "Project name is set to 'WIP-k-LinslvPerfPar'.\n",
      "Opening existing database 'X:\\jenkins\\databases\\WIP-k-LinslvPerfPar'.\n"
     ]
    },
    {
     "data": {
      "text/plain": []
     },
     "execution_count": 3,
     "metadata": {},
     "output_type": "execute_result"
    }
   ],
   "source": [
    "string PROJECT_NAME = System.Environment.GetEnvironmentVariable(\"LinslvPerfPar\") ?? \"LinslvPerfPar\"; // this allows to modify the project name for testing purposes\n",
    "wmg.Init(PROJECT_NAME);\n",
    "wmg.SetNameBasedSessionJobControlCorrelation();\n",
    "wmg.AllJobs"
   ]
  },
  {
   "cell_type": "code",
   "execution_count": 4,
   "metadata": {},
   "outputs": [
    {
     "data": {
      "text/html": [
       "<table><thead><tr><th><i>index</i></th><th><i>type</i></th><th>DeploymentBaseDirectory</th><th>DeployRuntime</th><th>RuntimeLocation</th><th>Name</th><th>DotnetRuntime</th><th>BatchInstructionDir</th><th>AllowedDatabasesPaths</th><th>Username</th><th>Password</th><th>ServerName</th><th>PrivateKeyFilePath</th><th>AdditionalBatchCommands</th><th>ExecutionTime</th><th>DeploymentBaseDirectoryAtRemote</th><th>SlurmAccount</th><th>Email</th><th>MonoDebug</th></tr></thead><tbody><tr><td>0</td><td>BoSSS.Application.BoSSSpad.MiniBatchProcessorClient</td><td>C:\\Users\\flori\\AppData\\Local\\BoSSS-LocalJobs</td><td>False</td><td><div class=\"dni-plaintext\">&lt;null&gt;</div></td><td>LocalPC</td><td>dotnet</td><td><div class=\"dni-plaintext\">&lt;null&gt;</div></td><td>[ C:\\BoSSS-Databases, C:\\Users\\flori ]</td><td></td><td></td><td></td><td></td><td></td><td></td><td></td><td></td><td></td><td></td></tr><tr><td>1</td><td>BoSSS.Application.BoSSSpad.SlurmClient</td><td>X:\\jenkins\\deploy</td><td>False</td><td>linux/amd64-openmpi</td><td>Lb2-specialPrj-Jenkins</td><td>dotnet</td><td></td><td>[ X:\\jenkins\\databases == /work/scratch/fk69umer/jenkins/databases ]</td><td>fk69umer</td><td><div class=\"dni-plaintext\">&lt;null&gt;</div></td><td>lcluster16.hrz.tu-darmstadt.de</td><td>C:\\Users\\flori\\.ssh\\id_rsa</td><td>[ #SBATCH -C avx512, #SBATCH --mem-per-cpu=8000 ]</td><td>05:00:00</td><td>/work/scratch/fk69umer/jenkins/deploy</td><td>special00006</td><td><div class=\"dni-plaintext\">&lt;null&gt;</div></td><td>False</td></tr></tbody></table>"
      ]
     },
     "execution_count": 4,
     "metadata": {},
     "output_type": "execute_result"
    }
   ],
   "source": [
    "ExecutionQueues"
   ]
  },
  {
   "cell_type": "code",
   "execution_count": 5,
   "metadata": {},
   "outputs": [
    {
     "data": {
      "text/html": [
       "<table><thead><tr><th>Username</th><th>Password</th><th>ServerName</th><th>PrivateKeyFilePath</th><th>AdditionalBatchCommands</th><th>ExecutionTime</th><th>DeploymentBaseDirectoryAtRemote</th><th>RuntimeLocation</th><th>SlurmAccount</th><th>Email</th><th>DeploymentBaseDirectory</th><th>DeployRuntime</th><th>Name</th><th>DotnetRuntime</th><th>MonoDebug</th><th>AllowedDatabasesPaths</th></tr></thead><tbody><tr><td><div class=\"dni-plaintext\">fk69umer</div></td><td><div class=\"dni-plaintext\">&lt;null&gt;</div></td><td><div class=\"dni-plaintext\">lcluster16.hrz.tu-darmstadt.de</div></td><td><div class=\"dni-plaintext\">C:\\Users\\flori\\.ssh\\id_rsa</div></td><td><div class=\"dni-plaintext\">[ #SBATCH -C avx512, #SBATCH --mem-per-cpu=8000 ]</div></td><td><div class=\"dni-plaintext\">05:00:00</div></td><td><div class=\"dni-plaintext\">/work/scratch/fk69umer/jenkins/deploy</div></td><td><div class=\"dni-plaintext\">linux/amd64-openmpi</div></td><td><div class=\"dni-plaintext\">special00006</div></td><td><div class=\"dni-plaintext\">&lt;null&gt;</div></td><td><div class=\"dni-plaintext\">X:\\jenkins\\deploy</div></td><td><div class=\"dni-plaintext\">False</div></td><td><div class=\"dni-plaintext\">Lb2-specialPrj-Jenkins</div></td><td><div class=\"dni-plaintext\">dotnet</div></td><td><div class=\"dni-plaintext\">False</div></td><td><div class=\"dni-plaintext\">[ X:\\jenkins\\databases == /work/scratch/fk69umer/jenkins/databases ]</div></td></tr></tbody></table>"
      ]
     },
     "execution_count": 5,
     "metadata": {},
     "output_type": "execute_result"
    }
   ],
   "source": [
    "GetDefaultQueue()"
   ]
  },
  {
   "cell_type": "markdown",
   "metadata": {
    "dotnet_interactive": {
     "language": "csharp"
    }
   },
   "source": [
    "## Utility definitions"
   ]
  },
  {
   "cell_type": "code",
   "execution_count": 6,
   "metadata": {
    "dotnet_interactive": {
     "language": "csharp"
    },
    "vscode": {
     "languageId": "csharp"
    }
   },
   "outputs": [],
   "source": [
    "static class Utils {\n",
    "    // DOF per cell in 3D for one variable\n",
    "    public static int Np(int p) {\n",
    "        return (p*p*p + 6*p*p + 11*p + 6)/6;\n",
    "    }    \n",
    "    \n",
    "    /*\n",
    "    //Non-equidistant nodes\n",
    "    public static double[] SinLinSpacing(double l, double r, double a, int n) {\n",
    "        double[] linnodes = GenericBlas.Linspace(-Math.PI * 0.5, Math.PI * 0.5, n);\n",
    "        double[] linnodes2 = GenericBlas.Linspace(-1, 1, n);\n",
    "        double[] nodes = new double[n];\n",
    "\n",
    "        for (int i = 0; i < n; i++)\n",
    "            //nodes[i] = linnodes2[i] * (1 - a) + (1.0 - Math.Sin(linnodes[i])) * a;\n",
    "            nodes[i] = linnodes2[i] * (1 - a) + Math.Sin(linnodes[i])*a;\n",
    "\n",
    "        for (int i = 0; i < n; i++)\n",
    "            nodes[i] = nodes[i] * (r - l)*0.5 + l;\n",
    "        return nodes;\n",
    "    }\n",
    "    */\n",
    "}"
   ]
  },
  {
   "cell_type": "markdown",
   "metadata": {
    "dotnet_interactive": {
     "language": "csharp"
    }
   },
   "source": [
    "## Init grids and save to database"
   ]
  },
  {
   "cell_type": "markdown",
   "metadata": {
    "dotnet_interactive": {
     "language": "csharp"
    }
   },
   "source": [
    "Note: The dimension of the domain $(-1,1)^3$ are assumed to be **centimeters**!\n",
    "In this benchmark, realistic physical values are used, i.e. densities and viscosities of \n",
    "- water for Phase A (inside the droplet)\n",
    "- air for Phase B (surounding)\n",
    "The droplet is assumed to be in the millimeter range; therefore, all lenght-, area-, and volume-related properties \n",
    "must also be set in centimeters, e.g. the density of water is $10^{-3} \\text{kg}/\\text{cm}^3$."
   ]
  },
  {
   "cell_type": "code",
   "execution_count": 7,
   "metadata": {
    "dotnet_interactive": {
     "language": "csharp"
    },
    "vscode": {
     "languageId": "csharp"
    }
   },
   "outputs": [
    {
     "name": "stdout",
     "output_type": "stream",
     "text": [
      "Opening existing database 'C:\\BoSSS-Databases\\WIP-k-LinslvPerfPar'.\n",
      "Must create: WIP-k-LinslvPerfPar-XdgStokes_J512 with 1 processors.\n",
      "Must create: WIP-k-LinslvPerfPar-XdgStokes_J4096 with 1 processors.\n",
      "Must create: WIP-k-LinslvPerfPar-XdgStokes_J13824 with 1 processors.\n",
      "Must create: WIP-k-LinslvPerfPar-XdgStokes_J32768 with 1 processors.\n",
      "Must create: WIP-k-LinslvPerfPar-XdgStokes_J110592 with 1 processors.\n",
      "Must create: WIP-k-LinslvPerfPar-XdgStokes_J262144 with 2 processors.\n",
      "Must create: WIP-k-LinslvPerfPar-XdgStokes_J2097152 with 11 processors.\n",
      "Must create: WIP-k-LinslvPerfPar-XdgStokes_J16777216 with 84 processors.\n"
     ]
    }
   ],
   "source": [
    "int[] Resolutions_3D = new int[] { 8, 16, 24, 32, 48, 64, 128, 256 };\n",
    "string[] GridNameS = new string[Resolutions_3D.Length];\n",
    "var ggcS = new (GridGenControl C, int MPIsize)[Resolutions_3D.Length];\n",
    "\n",
    "for(int cnt = 0; cnt < Resolutions_3D.Length; cnt++) {\n",
    "    int Res = Resolutions_3D[cnt];    \n",
    "    \n",
    "    double[] _xNodes = GenericBlas.Linspace(-1, +1, Res + 1);\n",
    "    double[] _yNodes = GenericBlas.Linspace(-1, +1, Res + 1);\n",
    "    double[] _zNodes = GenericBlas.Linspace(-1, +1, Res + 1);\n",
    "    int J = (_xNodes.Length - 1)*(_yNodes.Length - 1)*(_zNodes.Length - 1);\n",
    "    \n",
    "    string GridName = string.Format(wmg.CurrentProject + \"-XdgStokes_J\" + J);\n",
    "    GridNameS[cnt] = GridName;  \n",
    "    \n",
    "    if(wmg.Grids.Where(grd => grd.Name.Contains(GridName)).Count() <= 0) {\n",
    "        int NoOfProcs = (int) Math.Min(182, Math.Max(1, Math.Ceiling(J/200000.0)));\n",
    "        Console.WriteLine(\"Must create: \" + GridName + \" with \" + NoOfProcs + \" processors.\");\n",
    "        \n",
    "        var C = new GridGenControl();\n",
    "        ggcS[cnt] = (C, NoOfProcs);\n",
    "        C.SetDatabase(wmg.DefaultDatabase);\n",
    "        \n",
    "        C.GridName = GridName;\n",
    "\n",
    "        C.GridBlocks = new GridGenControl.MeshBlock[] {\n",
    "            new GridGenControl.Cartesian3D() {\n",
    "                xNodes = _xNodes,\n",
    "                yNodes = _yNodes,\n",
    "                zNodes = _zNodes\n",
    "            }\n",
    "        };\n",
    "\n",
    "        C.BoundaryRegions.Add((\n",
    "            new BoundingBox(new double[] { -1-1e-8, -2, -2 }, new double[] { -1+1e-8, +2, +2 }), \n",
    "            \"wall_left\"));\n",
    "        C.BoundaryRegions.Add((\n",
    "            new BoundingBox(new double[] { +1-1e-8, -2, -2 }, new double[] { +1+1e-8, +2, +2 }), \n",
    "            \"wall_right\"));\n",
    "        C.BoundaryRegions.Add((\n",
    "            new BoundingBox(new double[] { -2, -1-1e-8, -2 }, new double[] { +2, -1+1e-8, +2 }), \n",
    "            \"wall_front\"));\n",
    "        C.BoundaryRegions.Add((\n",
    "            new BoundingBox(new double[] { -2, +1-1e-8, -2 }, new double[] { +2, +1+1e-8, +2 }), \n",
    "            \"wall_back\"));\n",
    "        C.BoundaryRegions.Add((\n",
    "            new BoundingBox(new double[] { -2, -2, -1-1e-8 }, new double[] { +2, +2, -1+1e-8 }), \n",
    "            \"wall_top\"));\n",
    "        C.BoundaryRegions.Add((\n",
    "            new BoundingBox(new double[] { -2, -2, +1-1e-8 }, new double[] { +2, +2, +1+1e-8 }), \n",
    "            \"wall_bottom\"));\n",
    "        \n",
    "        \n",
    "        C.SessionName = \"GridCreation-\" + GridName;\n",
    "    } else {\n",
    "        Console.WriteLine(\"Found grid: \" + GridName);\n",
    "    }\n",
    "}"
   ]
  },
  {
   "cell_type": "code",
   "execution_count": 8,
   "metadata": {
    "dotnet_interactive": {
     "language": "csharp"
    },
    "vscode": {
     "languageId": "csharp"
    }
   },
   "outputs": [
    {
     "name": "stdout",
     "output_type": "stream",
     "text": [
      " Submitting: GridCreation-WIP-k-LinslvPerfPar-XdgStokes_J512\n",
      "Deploying job GridCreation-WIP-k-LinslvPerfPar-XdgStokes_J512 ... \n"
     ]
    },
    {
     "name": "stderr",
     "output_type": "stream",
     "text": [
      "Warning: no grid seems to be specified for the job to submit.\r\n"
     ]
    },
    {
     "name": "stdout",
     "output_type": "stream",
     "text": [
      "Deploying executables and additional files ...\n",
      "Found\n",
      "additional file C:\\Users\\flori\\Documents\\BoSSS-kummer\\public\\doc\\handbook\\apdx-MPISolverPerformance\\unified\\GridGen.deps.json\n",
      " added.\n",
      "additional file C:\\Users\\flori\\Documents\\BoSSS-kummer\\public\\doc\\handbook\\apdx-MPISolverPerformance\\unified\\GridGen.runtimeconfig.json\n",
      " added.\n",
      "additional file C:\\Users\\flori\\Documents\\BoSSS-kummer\\public\\doc\\handbook\\apdx-MPISolverPerformance\\unified\\GridGen.dll.config\n",
      " missing.\n",
      "Found\n",
      "additional file C:\\Users\\flori\\Documents\\BoSSS-kummer\\public\\doc\\handbook\\apdx-MPISolverPerformance\\unified\\BoSSS.Solution.deps.json\n",
      " missing.\n",
      "additional file C:\\Users\\flori\\Documents\\BoSSS-kummer\\public\\doc\\handbook\\apdx-MPISolverPerformance\\unified\\BoSSS.Solution.runtimeconfig.json\n",
      " missing.\n",
      "additional file C:\\Users\\flori\\Documents\\BoSSS-kummer\\public\\doc\\handbook\\apdx-MPISolverPerformance\\unified\\BoSSS.Solution.dll.config\n",
      " missing.\n",
      "Found\n",
      "additional file C:\\Users\\flori\\.dotnet\\tools\\.store\\microsoft.dotnet-interactive\\1.0.340501\\microsoft.dotnet-interactive\\1.0.340501\\tools\\net6.0\\any\\Newtonsoft.Json.deps.json\n",
      " missing.\n",
      "additional file C:\\Users\\flori\\.dotnet\\tools\\.store\\microsoft.dotnet-interactive\\1.0.340501\\microsoft.dotnet-interactive\\1.0.340501\\tools\\net6.0\\any\\Newtonsoft.Json.runtimeconfig.json\n",
      " missing.\n",
      "additional file C:\\Users\\flori\\.dotnet\\tools\\.store\\microsoft.dotnet-interactive\\1.0.340501\\microsoft.dotnet-interactive\\1.0.340501\\tools\\net6.0\\any\\Newtonsoft.Json.dll.config\n",
      " missing.\n",
      "Found\n",
      "additional file C:\\Users\\flori\\Documents\\BoSSS-kummer\\public\\doc\\handbook\\apdx-MPISolverPerformance\\unified\\ilPSP.Connectors.Matlab.deps.json\n",
      " missing.\n",
      "additional file C:\\Users\\flori\\Documents\\BoSSS-kummer\\public\\doc\\handbook\\apdx-MPISolverPerformance\\unified\\ilPSP.Connectors.Matlab.runtimeconfig.json\n",
      " missing.\n",
      "additional file C:\\Users\\flori\\Documents\\BoSSS-kummer\\public\\doc\\handbook\\apdx-MPISolverPerformance\\unified\\ilPSP.Connectors.Matlab.dll.config\n",
      " missing.\n",
      "Found\n",
      "additional file C:\\Users\\flori\\Documents\\BoSSS-kummer\\public\\doc\\handbook\\apdx-MPISolverPerformance\\unified\\MPI.Wrappers.deps.json\n",
      " missing.\n",
      "additional file C:\\Users\\flori\\Documents\\BoSSS-kummer\\public\\doc\\handbook\\apdx-MPISolverPerformance\\unified\\MPI.Wrappers.runtimeconfig.json\n",
      " missing.\n",
      "additional file C:\\Users\\flori\\Documents\\BoSSS-kummer\\public\\doc\\handbook\\apdx-MPISolverPerformance\\unified\\MPI.Wrappers.dll.config\n",
      " missing.\n",
      "Found\n",
      "additional file C:\\Users\\flori\\Documents\\BoSSS-kummer\\public\\doc\\handbook\\apdx-MPISolverPerformance\\unified\\log4net.deps.json\n",
      " missing.\n",
      "additional file C:\\Users\\flori\\Documents\\BoSSS-kummer\\public\\doc\\handbook\\apdx-MPISolverPerformance\\unified\\log4net.runtimeconfig.json\n",
      " missing.\n",
      "additional file C:\\Users\\flori\\Documents\\BoSSS-kummer\\public\\doc\\handbook\\apdx-MPISolverPerformance\\unified\\log4net.dll.config\n",
      " missing.\n",
      "Found\n",
      "additional file C:\\Users\\flori\\.dotnet\\tools\\.store\\microsoft.dotnet-interactive\\1.0.340501\\microsoft.dotnet-interactive\\1.0.340501\\tools\\net6.0\\any\\System.Configuration.ConfigurationManager.deps.json\n",
      " missing.\n",
      "additional file C:\\Users\\flori\\.dotnet\\tools\\.store\\microsoft.dotnet-interactive\\1.0.340501\\microsoft.dotnet-interactive\\1.0.340501\\tools\\net6.0\\any\\System.Configuration.ConfigurationManager.runtimeconfig.json\n",
      " missing.\n",
      "additional file C:\\Users\\flori\\.dotnet\\tools\\.store\\microsoft.dotnet-interactive\\1.0.340501\\microsoft.dotnet-interactive\\1.0.340501\\tools\\net6.0\\any\\System.Configuration.ConfigurationManager.dll.config\n",
      " missing.\n",
      "Found\n",
      "additional file C:\\Users\\flori\\.dotnet\\tools\\.store\\microsoft.dotnet-interactive\\1.0.340501\\microsoft.dotnet-interactive\\1.0.340501\\tools\\net6.0\\any\\runtimes\\win\\lib\\net6.0\\System.Security.Cryptography.ProtectedData.deps.json\n",
      " missing.\n",
      "additional file C:\\Users\\flori\\.dotnet\\tools\\.store\\microsoft.dotnet-interactive\\1.0.340501\\microsoft.dotnet-interactive\\1.0.340501\\tools\\net6.0\\any\\runtimes\\win\\lib\\net6.0\\System.Security.Cryptography.ProtectedData.runtimeconfig.json\n",
      " missing.\n",
      "additional file C:\\Users\\flori\\.dotnet\\tools\\.store\\microsoft.dotnet-interactive\\1.0.340501\\microsoft.dotnet-interactive\\1.0.340501\\tools\\net6.0\\any\\runtimes\\win\\lib\\net6.0\\System.Security.Cryptography.ProtectedData.dll.config\n",
      " missing.\n",
      "Found\n",
      "additional file C:\\Users\\flori\\Documents\\BoSSS-kummer\\public\\doc\\handbook\\apdx-MPISolverPerformance\\unified\\nunit.framework.deps.json\n",
      " missing.\n",
      "additional file C:\\Users\\flori\\Documents\\BoSSS-kummer\\public\\doc\\handbook\\apdx-MPISolverPerformance\\unified\\nunit.framework.runtimeconfig.json\n",
      " missing.\n",
      "additional file C:\\Users\\flori\\Documents\\BoSSS-kummer\\public\\doc\\handbook\\apdx-MPISolverPerformance\\unified\\nunit.framework.dll.config\n",
      " missing.\n",
      "Found\n",
      "additional file C:\\Users\\flori\\Documents\\BoSSS-kummer\\public\\doc\\handbook\\apdx-MPISolverPerformance\\unified\\ilPSP.deps.json\n",
      " missing.\n",
      "additional file C:\\Users\\flori\\Documents\\BoSSS-kummer\\public\\doc\\handbook\\apdx-MPISolverPerformance\\unified\\ilPSP.runtimeconfig.json\n",
      " missing.\n",
      "additional file C:\\Users\\flori\\Documents\\BoSSS-kummer\\public\\doc\\handbook\\apdx-MPISolverPerformance\\unified\\ilPSP.dll.config\n",
      " missing.\n",
      "Found\n",
      "additional file C:\\Users\\flori\\Documents\\BoSSS-kummer\\public\\doc\\handbook\\apdx-MPISolverPerformance\\unified\\BoSSS.Foundation.deps.json\n",
      " missing.\n",
      "additional file C:\\Users\\flori\\Documents\\BoSSS-kummer\\public\\doc\\handbook\\apdx-MPISolverPerformance\\unified\\BoSSS.Foundation.runtimeconfig.json\n",
      " missing.\n",
      "additional file C:\\Users\\flori\\Documents\\BoSSS-kummer\\public\\doc\\handbook\\apdx-MPISolverPerformance\\unified\\BoSSS.Foundation.dll.config\n",
      " missing.\n",
      "Found\n",
      "additional file C:\\Users\\flori\\Documents\\BoSSS-kummer\\public\\doc\\handbook\\apdx-MPISolverPerformance\\unified\\BoSSS.Platform.deps.json\n",
      " missing.\n",
      "additional file C:\\Users\\flori\\Documents\\BoSSS-kummer\\public\\doc\\handbook\\apdx-MPISolverPerformance\\unified\\BoSSS.Platform.runtimeconfig.json\n",
      " missing.\n",
      "additional file C:\\Users\\flori\\Documents\\BoSSS-kummer\\public\\doc\\handbook\\apdx-MPISolverPerformance\\unified\\BoSSS.Platform.dll.config\n",
      " missing.\n",
      "Found\n",
      "additional file C:\\Users\\flori\\Documents\\BoSSS-kummer\\public\\doc\\handbook\\apdx-MPISolverPerformance\\unified\\ilPSP.LinSolvers.PARDISO.deps.json\n",
      " missing.\n",
      "additional file C:\\Users\\flori\\Documents\\BoSSS-kummer\\public\\doc\\handbook\\apdx-MPISolverPerformance\\unified\\ilPSP.LinSolvers.PARDISO.runtimeconfig.json\n",
      " missing.\n",
      "additional file C:\\Users\\flori\\Documents\\BoSSS-kummer\\public\\doc\\handbook\\apdx-MPISolverPerformance\\unified\\ilPSP.LinSolvers.PARDISO.dll.config\n",
      " missing.\n",
      "Found\n",
      "additional file C:\\Users\\flori\\Documents\\BoSSS-kummer\\public\\doc\\handbook\\apdx-MPISolverPerformance\\unified\\ilPSP.LinSolvers.monkey.deps.json\n",
      " missing.\n",
      "additional file C:\\Users\\flori\\Documents\\BoSSS-kummer\\public\\doc\\handbook\\apdx-MPISolverPerformance\\unified\\ilPSP.LinSolvers.monkey.runtimeconfig.json\n",
      " missing.\n",
      "additional file C:\\Users\\flori\\Documents\\BoSSS-kummer\\public\\doc\\handbook\\apdx-MPISolverPerformance\\unified\\ilPSP.LinSolvers.monkey.dll.config\n",
      " missing.\n",
      "Found\n",
      "additional file C:\\Users\\flori\\Documents\\BoSSS-kummer\\public\\doc\\handbook\\apdx-MPISolverPerformance\\unified\\ilPSP.LinSolvers.HYPRE.deps.json\n",
      " missing.\n",
      "additional file C:\\Users\\flori\\Documents\\BoSSS-kummer\\public\\doc\\handbook\\apdx-MPISolverPerformance\\unified\\ilPSP.LinSolvers.HYPRE.runtimeconfig.json\n",
      " missing.\n",
      "additional file C:\\Users\\flori\\Documents\\BoSSS-kummer\\public\\doc\\handbook\\apdx-MPISolverPerformance\\unified\\ilPSP.LinSolvers.HYPRE.dll.config\n",
      " missing.\n",
      "Found\n",
      "additional file C:\\Users\\flori\\Documents\\BoSSS-kummer\\public\\doc\\handbook\\apdx-MPISolverPerformance\\unified\\BoSSS.Foundation.XDG.deps.json\n",
      " missing.\n",
      "additional file C:\\Users\\flori\\Documents\\BoSSS-kummer\\public\\doc\\handbook\\apdx-MPISolverPerformance\\unified\\BoSSS.Foundation.XDG.runtimeconfig.json\n",
      " missing.\n",
      "additional file C:\\Users\\flori\\Documents\\BoSSS-kummer\\public\\doc\\handbook\\apdx-MPISolverPerformance\\unified\\BoSSS.Foundation.XDG.dll.config\n",
      " missing.\n",
      "Found\n",
      "additional file C:\\Users\\flori\\Documents\\BoSSS-kummer\\public\\doc\\handbook\\apdx-MPISolverPerformance\\unified\\CommandLine.deps.json\n",
      " missing.\n",
      "additional file C:\\Users\\flori\\Documents\\BoSSS-kummer\\public\\doc\\handbook\\apdx-MPISolverPerformance\\unified\\CommandLine.runtimeconfig.json\n",
      " missing.\n",
      "additional file C:\\Users\\flori\\Documents\\BoSSS-kummer\\public\\doc\\handbook\\apdx-MPISolverPerformance\\unified\\CommandLine.dll.config\n"
     ]
    },
    {
     "name": "stdout",
     "output_type": "stream",
     "text": [
      " missing.\n",
      "Found\n",
      "additional file C:\\Users\\flori\\.dotnet\\tools\\.store\\microsoft.dotnet-interactive\\1.0.340501\\microsoft.dotnet-interactive\\1.0.340501\\tools\\net6.0\\any\\System.Security.Permissions.deps.json\n",
      " missing.\n",
      "additional file C:\\Users\\flori\\.dotnet\\tools\\.store\\microsoft.dotnet-interactive\\1.0.340501\\microsoft.dotnet-interactive\\1.0.340501\\tools\\net6.0\\any\\System.Security.Permissions.runtimeconfig.json\n",
      " missing.\n",
      "additional file C:\\Users\\flori\\.dotnet\\tools\\.store\\microsoft.dotnet-interactive\\1.0.340501\\microsoft.dotnet-interactive\\1.0.340501\\tools\\net6.0\\any\\System.Security.Permissions.dll.config\n",
      " missing.\n",
      "Found\n",
      "additional file C:\\Users\\flori\\.dotnet\\tools\\.store\\microsoft.dotnet-interactive\\1.0.340501\\microsoft.dotnet-interactive\\1.0.340501\\tools\\net6.0\\any\\runtimes\\win\\lib\\net6.0\\System.Windows.Extensions.deps.json\n",
      " missing.\n",
      "additional file C:\\Users\\flori\\.dotnet\\tools\\.store\\microsoft.dotnet-interactive\\1.0.340501\\microsoft.dotnet-interactive\\1.0.340501\\tools\\net6.0\\any\\runtimes\\win\\lib\\net6.0\\System.Windows.Extensions.runtimeconfig.json\n",
      " missing.\n",
      "additional file C:\\Users\\flori\\.dotnet\\tools\\.store\\microsoft.dotnet-interactive\\1.0.340501\\microsoft.dotnet-interactive\\1.0.340501\\tools\\net6.0\\any\\runtimes\\win\\lib\\net6.0\\System.Windows.Extensions.dll.config\n",
      " missing.\n",
      "Found\n",
      "additional file C:\\Users\\flori\\.dotnet\\tools\\.store\\microsoft.dotnet-interactive\\1.0.340501\\microsoft.dotnet-interactive\\1.0.340501\\tools\\net6.0\\any\\runtimes\\win\\lib\\net6.0\\System.Drawing.Common.deps.json\n",
      " missing.\n",
      "additional file C:\\Users\\flori\\.dotnet\\tools\\.store\\microsoft.dotnet-interactive\\1.0.340501\\microsoft.dotnet-interactive\\1.0.340501\\tools\\net6.0\\any\\runtimes\\win\\lib\\net6.0\\System.Drawing.Common.runtimeconfig.json\n",
      " missing.\n",
      "additional file C:\\Users\\flori\\.dotnet\\tools\\.store\\microsoft.dotnet-interactive\\1.0.340501\\microsoft.dotnet-interactive\\1.0.340501\\tools\\net6.0\\any\\runtimes\\win\\lib\\net6.0\\System.Drawing.Common.dll.config\n",
      " missing.\n",
      "Found\n",
      "additional file C:\\Users\\flori\\.dotnet\\tools\\.store\\microsoft.dotnet-interactive\\1.0.340501\\microsoft.dotnet-interactive\\1.0.340501\\tools\\net6.0\\any\\runtimes\\win\\lib\\net6.0\\Microsoft.Win32.SystemEvents.deps.json\n",
      " missing.\n",
      "additional file C:\\Users\\flori\\.dotnet\\tools\\.store\\microsoft.dotnet-interactive\\1.0.340501\\microsoft.dotnet-interactive\\1.0.340501\\tools\\net6.0\\any\\runtimes\\win\\lib\\net6.0\\Microsoft.Win32.SystemEvents.runtimeconfig.json\n",
      " missing.\n",
      "additional file C:\\Users\\flori\\.dotnet\\tools\\.store\\microsoft.dotnet-interactive\\1.0.340501\\microsoft.dotnet-interactive\\1.0.340501\\tools\\net6.0\\any\\runtimes\\win\\lib\\net6.0\\Microsoft.Win32.SystemEvents.dll.config\n",
      " missing.\n",
      "Found\n",
      "additional file C:\\Users\\flori\\.dotnet\\tools\\.store\\microsoft.dotnet-interactive\\1.0.340501\\microsoft.dotnet-interactive\\1.0.340501\\tools\\net6.0\\any\\runtimes\\win\\lib\\net6.0\\System.Threading.AccessControl.deps.json\n",
      " missing.\n",
      "additional file C:\\Users\\flori\\.dotnet\\tools\\.store\\microsoft.dotnet-interactive\\1.0.340501\\microsoft.dotnet-interactive\\1.0.340501\\tools\\net6.0\\any\\runtimes\\win\\lib\\net6.0\\System.Threading.AccessControl.runtimeconfig.json\n",
      " missing.\n",
      "additional file C:\\Users\\flori\\.dotnet\\tools\\.store\\microsoft.dotnet-interactive\\1.0.340501\\microsoft.dotnet-interactive\\1.0.340501\\tools\\net6.0\\any\\runtimes\\win\\lib\\net6.0\\System.Threading.AccessControl.dll.config\n",
      " missing.\n",
      "Found\n",
      "additional file C:\\Users\\flori\\.dotnet\\tools\\.store\\microsoft.dotnet-interactive\\1.0.340501\\microsoft.dotnet-interactive\\1.0.340501\\tools\\net6.0\\any\\System.CodeDom.deps.json\n",
      " missing.\n",
      "additional file C:\\Users\\flori\\.dotnet\\tools\\.store\\microsoft.dotnet-interactive\\1.0.340501\\microsoft.dotnet-interactive\\1.0.340501\\tools\\net6.0\\any\\System.CodeDom.runtimeconfig.json\n",
      " missing.\n",
      "additional file C:\\Users\\flori\\.dotnet\\tools\\.store\\microsoft.dotnet-interactive\\1.0.340501\\microsoft.dotnet-interactive\\1.0.340501\\tools\\net6.0\\any\\System.CodeDom.dll.config\n",
      " missing.\n",
      "Found\n",
      "additional file C:\\Users\\flori\\.dotnet\\tools\\.store\\microsoft.dotnet-interactive\\1.0.340501\\microsoft.dotnet-interactive\\1.0.340501\\tools\\net6.0\\any\\runtimes\\win\\lib\\net6.0\\System.Diagnostics.PerformanceCounter.deps.json\n",
      " missing.\n",
      "additional file C:\\Users\\flori\\.dotnet\\tools\\.store\\microsoft.dotnet-interactive\\1.0.340501\\microsoft.dotnet-interactive\\1.0.340501\\tools\\net6.0\\any\\runtimes\\win\\lib\\net6.0\\System.Diagnostics.PerformanceCounter.runtimeconfig.json\n",
      " missing.\n",
      "additional file C:\\Users\\flori\\.dotnet\\tools\\.store\\microsoft.dotnet-interactive\\1.0.340501\\microsoft.dotnet-interactive\\1.0.340501\\tools\\net6.0\\any\\runtimes\\win\\lib\\net6.0\\System.Diagnostics.PerformanceCounter.dll.config\n",
      " missing.\n",
      "Found\n",
      "additional file C:\\Program Files\\dotnet\\shared\\Microsoft.AspNetCore.App\\6.0.8\\System.Diagnostics.EventLog.deps.json\n",
      " missing.\n",
      "additional file C:\\Program Files\\dotnet\\shared\\Microsoft.AspNetCore.App\\6.0.8\\System.Diagnostics.EventLog.runtimeconfig.json\n",
      " missing.\n",
      "additional file C:\\Program Files\\dotnet\\shared\\Microsoft.AspNetCore.App\\6.0.8\\System.Diagnostics.EventLog.dll.config\n",
      " missing.\n",
      "Found\n",
      "additional file C:\\Users\\flori\\.dotnet\\tools\\.store\\microsoft.dotnet-interactive\\1.0.340501\\microsoft.dotnet-interactive\\1.0.340501\\tools\\net6.0\\any\\runtimes\\win\\lib\\net6.0\\System.IO.Ports.deps.json\n",
      " missing.\n",
      "additional file C:\\Users\\flori\\.dotnet\\tools\\.store\\microsoft.dotnet-interactive\\1.0.340501\\microsoft.dotnet-interactive\\1.0.340501\\tools\\net6.0\\any\\runtimes\\win\\lib\\net6.0\\System.IO.Ports.runtimeconfig.json\n",
      " missing.\n",
      "additional file C:\\Users\\flori\\.dotnet\\tools\\.store\\microsoft.dotnet-interactive\\1.0.340501\\microsoft.dotnet-interactive\\1.0.340501\\tools\\net6.0\\any\\runtimes\\win\\lib\\net6.0\\System.IO.Ports.dll.config\n",
      " missing.\n",
      "Found\n",
      "additional file C:\\Users\\flori\\.dotnet\\tools\\.store\\microsoft.dotnet-interactive\\1.0.340501\\microsoft.dotnet-interactive\\1.0.340501\\tools\\net6.0\\any\\Microsoft.CodeAnalysis.Scripting.deps.json\n",
      " missing.\n",
      "additional file C:\\Users\\flori\\.dotnet\\tools\\.store\\microsoft.dotnet-interactive\\1.0.340501\\microsoft.dotnet-interactive\\1.0.340501\\tools\\net6.0\\any\\Microsoft.CodeAnalysis.Scripting.runtimeconfig.json\n",
      " missing.\n",
      "additional file C:\\Users\\flori\\.dotnet\\tools\\.store\\microsoft.dotnet-interactive\\1.0.340501\\microsoft.dotnet-interactive\\1.0.340501\\tools\\net6.0\\any\\Microsoft.CodeAnalysis.Scripting.dll.config\n",
      " missing.\n",
      "Found\n",
      "additional file C:\\Users\\flori\\.dotnet\\tools\\.store\\microsoft.dotnet-interactive\\1.0.340501\\microsoft.dotnet-interactive\\1.0.340501\\tools\\net6.0\\any\\Microsoft.CodeAnalysis.deps.json\n",
      " missing.\n",
      "additional file C:\\Users\\flori\\.dotnet\\tools\\.store\\microsoft.dotnet-interactive\\1.0.340501\\microsoft.dotnet-interactive\\1.0.340501\\tools\\net6.0\\any\\Microsoft.CodeAnalysis.runtimeconfig.json\n",
      " missing.\n",
      "additional file C:\\Users\\flori\\.dotnet\\tools\\.store\\microsoft.dotnet-interactive\\1.0.340501\\microsoft.dotnet-interactive\\1.0.340501\\tools\\net6.0\\any\\Microsoft.CodeAnalysis.dll.config\n",
      " missing.\n",
      "Found\n",
      "additional file C:\\Users\\flori\\.dotnet\\tools\\.store\\microsoft.dotnet-interactive\\1.0.340501\\microsoft.dotnet-interactive\\1.0.340501\\tools\\net6.0\\any\\Microsoft.CodeAnalysis.CSharp.deps.json\n",
      " missing.\n",
      "additional file C:\\Users\\flori\\.dotnet\\tools\\.store\\microsoft.dotnet-interactive\\1.0.340501\\microsoft.dotnet-interactive\\1.0.340501\\tools\\net6.0\\any\\Microsoft.CodeAnalysis.CSharp.runtimeconfig.json\n",
      " missing.\n",
      "additional file C:\\Users\\flori\\.dotnet\\tools\\.store\\microsoft.dotnet-interactive\\1.0.340501\\microsoft.dotnet-interactive\\1.0.340501\\tools\\net6.0\\any\\Microsoft.CodeAnalysis.CSharp.dll.config\n",
      " missing.\n",
      "Found\n",
      "additional file C:\\Users\\flori\\.dotnet\\tools\\.store\\microsoft.dotnet-interactive\\1.0.340501\\microsoft.dotnet-interactive\\1.0.340501\\tools\\net6.0\\any\\Microsoft.CodeAnalysis.CSharp.Scripting.deps.json\n",
      " missing.\n",
      "additional file C:\\Users\\flori\\.dotnet\\tools\\.store\\microsoft.dotnet-interactive\\1.0.340501\\microsoft.dotnet-interactive\\1.0.340501\\tools\\net6.0\\any\\Microsoft.CodeAnalysis.CSharp.Scripting.runtimeconfig.json\n",
      " missing.\n",
      "additional file C:\\Users\\flori\\.dotnet\\tools\\.store\\microsoft.dotnet-interactive\\1.0.340501\\microsoft.dotnet-interactive\\1.0.340501\\tools\\net6.0\\any\\Microsoft.CodeAnalysis.CSharp.Scripting.dll.config\n",
      " missing.\n",
      "Found\n",
      "additional file C:\\Users\\flori\\Documents\\BoSSS-kummer\\public\\doc\\handbook\\apdx-MPISolverPerformance\\unified\\MathNet.Numerics.deps.json\n"
     ]
    },
    {
     "name": "stdout",
     "output_type": "stream",
     "text": [
      " missing.\n",
      "additional file C:\\Users\\flori\\Documents\\BoSSS-kummer\\public\\doc\\handbook\\apdx-MPISolverPerformance\\unified\\MathNet.Numerics.runtimeconfig.json\n",
      " missing.\n",
      "additional file C:\\Users\\flori\\Documents\\BoSSS-kummer\\public\\doc\\handbook\\apdx-MPISolverPerformance\\unified\\MathNet.Numerics.dll.config\n",
      " missing.\n",
      "Found\n",
      "additional file C:\\Users\\flori\\Documents\\BoSSS-kummer\\public\\doc\\handbook\\apdx-MPISolverPerformance\\unified\\BoSSS.Foundation.Grid.deps.json\n",
      " missing.\n",
      "additional file C:\\Users\\flori\\Documents\\BoSSS-kummer\\public\\doc\\handbook\\apdx-MPISolverPerformance\\unified\\BoSSS.Foundation.Grid.runtimeconfig.json\n",
      " missing.\n",
      "additional file C:\\Users\\flori\\Documents\\BoSSS-kummer\\public\\doc\\handbook\\apdx-MPISolverPerformance\\unified\\BoSSS.Foundation.Grid.dll.config\n",
      " missing.\n",
      "Found\n",
      "additional file C:\\Users\\flori\\Documents\\BoSSS-kummer\\public\\doc\\handbook\\apdx-MPISolverPerformance\\unified\\MIConvexHull.deps.json\n",
      " missing.\n",
      "additional file C:\\Users\\flori\\Documents\\BoSSS-kummer\\public\\doc\\handbook\\apdx-MPISolverPerformance\\unified\\MIConvexHull.runtimeconfig.json\n",
      " missing.\n",
      "additional file C:\\Users\\flori\\Documents\\BoSSS-kummer\\public\\doc\\handbook\\apdx-MPISolverPerformance\\unified\\MIConvexHull.dll.config\n",
      " missing.\n",
      "Found\n",
      "additional file C:\\Users\\flori\\Documents\\BoSSS-kummer\\public\\doc\\handbook\\apdx-MPISolverPerformance\\unified\\BoSSS.Solution.Tecplot.deps.json\n",
      " missing.\n",
      "additional file C:\\Users\\flori\\Documents\\BoSSS-kummer\\public\\doc\\handbook\\apdx-MPISolverPerformance\\unified\\BoSSS.Solution.Tecplot.runtimeconfig.json\n",
      " missing.\n",
      "additional file C:\\Users\\flori\\Documents\\BoSSS-kummer\\public\\doc\\handbook\\apdx-MPISolverPerformance\\unified\\BoSSS.Solution.Tecplot.dll.config\n",
      " missing.\n",
      "Deployment directory: X:\\jenkins\\deploy\\WIP-k-LinslvPerfPar-GridGen2022Sep01_154258.786308\n",
      "copied 36 files.\n",
      "   written file: control.obj\n",
      "deployment finished.\n"
     ]
    },
    {
     "name": "stderr",
     "output_type": "stream",
     "text": [
      "stderr received: Lmod: loading emacs 27.1 \n",
      "Lmod: loading git 2.35.1 \n",
      "Lmod: loading gcc 8.5.0 \n",
      "Lmod: loading cmake 3.19.3 \n",
      "Lmod: loading mono 6.12.0 \n",
      "Lmod: loading openmpi 4.1.4 \n",
      "Lmod: loading python 3.9.5 \n",
      "----- (end of stderr)\n",
      "stderr received: Lmod: loading emacs 27.1 \n",
      "Lmod: loading git 2.35.1 \n",
      "Lmod: loading gcc 8.5.0 \n",
      "Lmod: loading cmake 3.19.3 \n",
      "Lmod: loading mono 6.12.0 \n",
      "Lmod: loading openmpi 4.1.4 \n",
      "Lmod: loading python 3.9.5 \n",
      "----- (end of stderr)\n"
     ]
    },
    {
     "name": "stdout",
     "output_type": "stream",
     "text": [
      "\r\n"
     ]
    }
   ],
   "source": [
    "foreach(var tt in ggcS) {\n",
    "    if(tt.C != null) {\n",
    "        Console.WriteLine(\" Submitting: \" + tt.C.SessionName); \n",
    "        var j = tt.C.CreateJob();\n",
    "        j.RetryCount = 2;\n",
    "        j.NumberOfMPIProcs = tt.MPIsize;\n",
    "        j.Activate();\n",
    "        break;\n",
    "    }\n",
    "}"
   ]
  },
  {
   "cell_type": "code",
   "execution_count": null,
   "metadata": {
    "dotnet_interactive": {
     "language": "csharp"
    },
    "vscode": {
     "languageId": "csharp"
    }
   },
   "outputs": [],
   "source": [
    "wmg.BlockUntilAllJobsTerminate(3600*24*2); // wait at maximum two days for the jobs to finish\n",
    "wmg.AllJobs"
   ]
  },
  {
   "cell_type": "code",
   "execution_count": null,
   "metadata": {},
   "outputs": [],
   "source": [
    "IGridInfo[] grids = new IGridInfo[Resolutions_3D.Length];\n",
    "for(int cnt = 0; cnt < Resolutions_3D.Length; cnt++) {\n",
    "    int Res = Resolutions_3D[cnt];    \n",
    "    int J = Res*Res*Res;\n",
    "    \n",
    "    Console.WriteLine(\"Searching for grid with \" + J + \" cells\");\n",
    "    grids[cnt] = wmg.Grids.FirstOrDefault(grd => grd.Name.Contains(GridNameS[cnt])); // grid must be present now\n",
    "    \n",
    "    if(grids[cnt] != null) {\n",
    "        Console.WriteLine(\"Found Grid: \" + grids[cnt]);\n",
    "        if(grids[cnt].NumberOfCells != J)\n",
    "            throw new Exception(\"J mismatch\");\n",
    "\n",
    "        if(grids[cnt].SpatialDimension != 3)\n",
    "            throw new Exception(\"D mismatch\");\n",
    "    } else {\n",
    "        Console.Error.WriteLine(\"missing: J = \" + J);\n",
    "    }\n",
    "}"
   ]
  },
  {
   "cell_type": "code",
   "execution_count": null,
   "metadata": {},
   "outputs": [],
   "source": [
    "grids"
   ]
  },
  {
   "cell_type": "markdown",
   "metadata": {
    "dotnet_interactive": {
     "language": "csharp"
    }
   },
   "source": [
    "## Setup Control Object for a Solver Run"
   ]
  },
  {
   "cell_type": "code",
   "execution_count": null,
   "metadata": {
    "dotnet_interactive": {
     "language": "csharp"
    },
    "vscode": {
     "languageId": "csharp"
    }
   },
   "outputs": [],
   "source": [
    "// - - - - - - - - - - - - - - - - - - -\n",
    "// Initial Values & Boundary conditions\n",
    "// - - - - - - - - - - - - - - - - - - -"
   ]
  },
  {
   "cell_type": "code",
   "execution_count": null,
   "metadata": {
    "dotnet_interactive": {
     "language": "csharp"
    },
    "vscode": {
     "languageId": "csharp"
    }
   },
   "outputs": [],
   "source": [
    "using BoSSS.Application.XNSE_Solver;\n",
    "using BoSSS.Solution.LevelSetTools;\n",
    "using BoSSS.Solution.AdvancedSolvers;\n",
    "using BoSSS.Solution.XNSECommon;\n",
    "using BoSSS.Solution.Timestepping;\n",
    "using BoSSS.Solution.XdgTimestepping ;"
   ]
  },
  {
   "cell_type": "markdown",
   "metadata": {
    "dotnet_interactive": {
     "language": "csharp"
    }
   },
   "source": [
    "### Setup of Parameter Study"
   ]
  },
  {
   "cell_type": "markdown",
   "metadata": {},
   "source": [
    "Polynomial degrees to test:"
   ]
  },
  {
   "cell_type": "code",
   "execution_count": null,
   "metadata": {
    "dotnet_interactive": {
     "language": "csharp"
    },
    "vscode": {
     "languageId": "csharp"
    }
   },
   "outputs": [],
   "source": [
    "int[] PolyDegS = new int[] {2, 3 ,5};"
   ]
  },
  {
   "cell_type": "code",
   "execution_count": null,
   "metadata": {},
   "outputs": [],
   "source": []
  },
  {
   "cell_type": "code",
   "execution_count": null,
   "metadata": {},
   "outputs": [],
   "source": [
    "int[] MPIsizes = new int[] { 1, 2, 4, 8, 16, 32, 64, 128 };"
   ]
  },
  {
   "cell_type": "markdown",
   "metadata": {},
   "source": [
    "Loop over all combinations of parameters and define a control object for each combo:"
   ]
  },
  {
   "cell_type": "code",
   "execution_count": null,
   "metadata": {
    "dotnet_interactive": {
     "language": "csharp"
    },
    "vscode": {
     "languageId": "csharp"
    }
   },
   "outputs": [],
   "source": [
    "using BoSSS.Solution.XNSECommon;\n",
    "using BoSSS.Foundation.XDG;"
   ]
  },
  {
   "cell_type": "code",
   "execution_count": null,
   "metadata": {
    "dotnet_interactive": {
     "language": "csharp"
    },
    "vscode": {
     "languageId": "csharp"
    }
   },
   "outputs": [],
   "source": [
    "var controls = new List<(XNSE_Control ctrl, int NoOfProcs)>();\n",
    "LinearSolverCode solver_name = LinearSolverCode.exp_Kcycle_schwarz;\n",
    "foreach(int k in PolyDegS) {\n",
    "foreach(IGridInfo grd in grids) {\n",
    "foreach(int MPIsize in MPIsizes) {\n",
    "    \n",
    "    int Np_V = Utils.Np(k);\n",
    "    int Np_p = Utils.Np(k-1);\n",
    "    int J    = grd.NumberOfCells;\n",
    "    int DOF  = Np_V*3 + Np_p;\n",
    "    if(J / MPIsize < 16) {\n",
    "        // less than 16 cells per processor - to low for a multigrid.\n",
    "        continue; \n",
    "    }\n",
    "    if(DOF/MPIsize > 500000) {\n",
    "        // not interested in doing more then 500'000 DOFs per processor\n",
    "        continue;\n",
    "    } \n",
    "    \n",
    "    \n",
    "    // Control Instance, grid, DG degree, etc.\n",
    "    // =======================================\n",
    "    \n",
    "    XNSE_Control C = new XNSE_Control();\n",
    "    controls.Add((C, MPIsize);\n",
    "       \n",
    "    string caseName = string.Format(\"XdgStokes-J{0}_p{1}_Sz{2}\", J, k, MPIsize);\n",
    "    Console.WriteLine(\"setting up: \" + caseName);\n",
    "    C.SessionName        = caseName;\n",
    "    \n",
    "    C.SetGrid(grd);\n",
    "    C.savetodb = true;\n",
    "    C.SetDGdegree(k);\n",
    "    \n",
    "    // Phys. Parameters\n",
    "    // ================\n",
    "    \n",
    "    // Species A: Water; Species B: Air\n",
    "    C.PhysicalParameters.rho_A             = 1.0; //1e-3; //     kg / cm³\n",
    "    C.PhysicalParameters.rho_B             = 1.0; //1.2e-6; //   kg / cm³\n",
    "    C.PhysicalParameters.mu_A              = 1.0; //1e-5; //      kg / cm / sec\n",
    "    C.PhysicalParameters.mu_B              = 1.0; //17.1e-8; //   kg / cm / sec\n",
    "    C.PhysicalParameters.Sigma             = 72.75e-3; // kg / sec²   \n",
    "    C.PhysicalParameters.IncludeConvection = false;\n",
    "    C.PhysicalParameters.Material          = true;\n",
    "    \n",
    "    // Dont know\n",
    "    // ============\n",
    "    \n",
    "    double r     = 0.5;\n",
    "    double nonsp = 0.5;\n",
    "\n",
    "    C.AddInitialValue(\"Phi\", new Formula($\"X => (X[0]/{r*nonsp}).Pow2() + (X[1]/{r}).Pow2() + (X[2]/{r}).Pow2() - 1\", false));\n",
    "    \n",
    "    C.LSContiProjectionMethod = BoSSS.Solution.LevelSetTools.ContinuityProjectionOption.None;\n",
    "    //C.CutCellQuadratureType   = BoSSS.Foundation.XDG.XQuadFactoryHelper.MomentFittingVariants.Saye;\n",
    "    C.ComputeEnergyProperties = false;\n",
    "\n",
    "    \n",
    "    // Solver Stuff\n",
    "    // ============\n",
    "    \n",
    "    C.LinearSolver           = solver.GetConfig();\n",
    "    if(C.LinearSolver is IterativeSolverConfig isc) {\n",
    "        isc.ConvergenceCriterion = 1e-8;\n",
    "    }\n",
    "    C.NoOfMultigridLevels = 100;\n",
    "    C.TracingNamespaces = \"BoSSS.Solution\";\n",
    "    C.LevelSet_ConvergenceCriterion     = 1e-6;\n",
    "\n",
    "    //C.Option_LevelSetEvolution                          = LevelSetEvolution.FastMarching;\n",
    "    C.AdvancedDiscretizationOptions.SST_isotropicMode   = SurfaceStressTensor_IsotropicMode.Curvature_Projected;\n",
    "    //C.AdvancedDiscretizationOptions.ViscosityMode       = ViscosityMode.Standard;\n",
    "    C.AdvancedDiscretizationOptions.FilterConfiguration = CurvatureAlgorithms.FilterConfiguration.NoFilter;\n",
    "\n",
    "    // Timestepping / Instationary\n",
    "    // ===========================\n",
    "\n",
    "    C.TimesteppingMode             = AppControl._TimesteppingMode.Steady;\n",
    "    //C.dtFixed = 0.01;\n",
    "}\n",
    "}\n",
    "}"
   ]
  },
  {
   "cell_type": "markdown",
   "metadata": {},
   "source": [
    "Total number of simulations:"
   ]
  },
  {
   "cell_type": "code",
   "execution_count": null,
   "metadata": {
    "dotnet_interactive": {
     "language": "csharp"
    },
    "vscode": {
     "languageId": "csharp"
    }
   },
   "outputs": [],
   "source": [
    "controls.Count"
   ]
  },
  {
   "cell_type": "code",
   "execution_count": null,
   "metadata": {
    "dotnet_interactive": {
     "language": "csharp"
    },
    "vscode": {
     "languageId": "csharp"
    }
   },
   "outputs": [],
   "source": [
    "// Assert that the location of the fluid phases is as desired:\n",
    "NUnit.Framework.Assert.Negative(controls[0].InitialValues[\"Phi\"].Evaluate(new double[]{0,0.0,0}, 0.0), \"phase A (negative) must be inside\");\n",
    "NUnit.Framework.Assert.Positive(controls[0].InitialValues[\"Phi\"].Evaluate(new double[]{0,4.0,0}, 0.0), \"phase B (positive) must be inside\");"
   ]
  },
  {
   "cell_type": "code",
   "execution_count": null,
   "metadata": {
    "dotnet_interactive": {
     "language": "csharp"
    },
    "vscode": {
     "languageId": "csharp"
    }
   },
   "outputs": [],
   "source": [
    "// Basic checks on the multigrid configuration\n",
    "foreach(var ctrl in controls) {\n",
    "    NUnit.Framework.Assert.Greater(ctrl.NoOfMultigridLevels, 1, \"More than 1 multigrid level must be set\");\n",
    "    if(ctrl.LinearSolver is OrthoMGSchwarzConfig osc)\n",
    "        NUnit.Framework.Assert.Greater(osc.NoOfMultigridLevels, 1, \"More than 1 multigrid level must be set\");\n",
    "}"
   ]
  },
  {
   "cell_type": "code",
   "execution_count": null,
   "metadata": {
    "dotnet_interactive": {
     "language": "csharp"
    },
    "vscode": {
     "languageId": "csharp"
    }
   },
   "outputs": [],
   "source": [
    "//string path = @\"C:\\Users\\flori\\Documents\\BoSSS-kummer\\public\\src\\L4-application\\XNSE_Solver\\bin\\Release\\net5.0\\Xstokes\";\n",
    "//foreach(var ctrl in controls) {\n",
    "//    ctrl.savetodb = false;\n",
    "//    ctrl.SaveToFile(System.IO.Path.Combine(path, ctrl.SessionName + \".obj\"));\n",
    "//}"
   ]
  },
  {
   "cell_type": "markdown",
   "metadata": {
    "dotnet_interactive": {
     "language": "csharp"
    }
   },
   "source": [
    "## Launch Jobs"
   ]
  },
  {
   "cell_type": "markdown",
   "metadata": {},
   "source": [
    "Use the default queue defined on this machine:"
   ]
  },
  {
   "cell_type": "code",
   "execution_count": null,
   "metadata": {
    "dotnet_interactive": {
     "language": "csharp"
    },
    "vscode": {
     "languageId": "csharp"
    }
   },
   "outputs": [],
   "source": [
    "ExecutionQueues"
   ]
  },
  {
   "cell_type": "code",
   "execution_count": null,
   "metadata": {
    "dotnet_interactive": {
     "language": "csharp"
    },
    "vscode": {
     "languageId": "csharp"
    }
   },
   "outputs": [],
   "source": [
    "var myBatch = GetDefaultQueue();\n",
    "myBatch"
   ]
  },
  {
   "cell_type": "code",
   "execution_count": null,
   "metadata": {
    "dotnet_interactive": {
     "language": "csharp"
    },
    "vscode": {
     "languageId": "csharp"
    }
   },
   "outputs": [],
   "source": [
    "foreach((var ctrl, int MPIsize) in controls) {\n",
    "    Console.WriteLine(\" Submitting: \" + ctrl.SessionName); \n",
    "    var j = ctrl.CreateJob();\n",
    "    j.RetryCount = 1;\n",
    "    j.NumberOfMPIProcs = MPIsize;\n",
    "    j.Activate(myBatch);\n",
    "    //ctrl.RunBatch();\n",
    "}"
   ]
  },
  {
   "cell_type": "markdown",
   "metadata": {},
   "source": [
    "### Wait for Completion and Check Job Status"
   ]
  },
  {
   "cell_type": "code",
   "execution_count": null,
   "metadata": {
    "dotnet_interactive": {
     "language": "csharp"
    },
    "vscode": {
     "languageId": "csharp"
    }
   },
   "outputs": [],
   "source": [
    "wmg.BlockUntilAllJobsTerminate(3600*24*2); // wait at maximum two days for the jobs to finish"
   ]
  },
  {
   "cell_type": "code",
   "execution_count": null,
   "metadata": {
    "dotnet_interactive": {
     "language": "csharp"
    },
    "vscode": {
     "languageId": "csharp"
    }
   },
   "outputs": [],
   "source": [
    "wmg.AllJobs"
   ]
  },
  {
   "cell_type": "code",
   "execution_count": null,
   "metadata": {
    "dotnet_interactive": {
     "language": "csharp"
    },
    "vscode": {
     "languageId": "csharp"
    }
   },
   "outputs": [],
   "source": [
    "wmg.Sessions.Where(sess => sess.Name.StartsWith(\"XdgStokes_J\"))"
   ]
  },
  {
   "cell_type": "code",
   "execution_count": null,
   "metadata": {},
   "outputs": [],
   "source": [
    "int succJob = wmg.AllJobs.Values.Where(job => job.Status == JobStatus.FinishedSuccessful).Count();\n",
    "int succSess = wmg.Sessions.Where(Si => Si.Name.Contains(\"XdgStokes_J\") && (Si.SuccessfulTermination == true)).Count();\n",
    "(succJob, succSess)"
   ]
  },
  {
   "cell_type": "code",
   "execution_count": null,
   "metadata": {},
   "outputs": [],
   "source": [
    "int failJob = wmg.AllJobs.Values.Where(job => job.Status != JobStatus.FinishedSuccessful).Count();\n",
    "int failSess = wmg.Sessions.Where(Si => Si.Name.Contains(\"XdgStokes_J\") && (Si.SuccessfulTermination == false)).Count();\n",
    "(failJob, failSess)"
   ]
  },
  {
   "cell_type": "code",
   "execution_count": null,
   "metadata": {},
   "outputs": [],
   "source": [
    "NUnit.Framework.Assert.AreEqual(succJob + failJob, controls.Count);\n",
    "//NUnit.Framework.Assert.AreEqual(succJob, succSess);\n",
    "//NUnit.Framework.Assert.AreEqual(failJob, failSess);"
   ]
  },
  {
   "cell_type": "code",
   "execution_count": null,
   "metadata": {},
   "outputs": [],
   "source": [
    "var NoSuccess = wmg.AllJobs.Values\n",
    "                        .Where(job => job.Status != JobStatus.FinishedSuccessful)\n",
    "                        .ToArray();\n",
    "NoSuccess"
   ]
  },
  {
   "cell_type": "code",
   "execution_count": null,
   "metadata": {},
   "outputs": [],
   "source": [
    "foreach(var fail in NoSuccess)\n",
    "    Console.WriteLine(fail + \":  @\" + ((fail.LatestDeployment?.DeploymentDirectory?.FullName) ?? \" no deployment directory\"));"
   ]
  },
  {
   "cell_type": "code",
   "execution_count": null,
   "metadata": {},
   "outputs": [],
   "source": [
    "var FailedSessions = wmg.Sessions.Where(Si => Si.Name.Contains(\"XdgStokes\") && !Si.Name.Contains(\"GridCreation\") &&\n",
    "                                        (Si.SuccessfulTermination == false\n",
    "                                        || Convert.ToInt32(Si.KeysAndQueries[\"Conv\"]) == 0));\n",
    "FailedSessions"
   ]
  }
 ],
 "metadata": {
  "kernelspec": {
   "display_name": ".NET (C#)",
   "language": "C#",
   "name": ".net-csharp"
  },
  "language_info": {
   "file_extension": ".cs",
   "mimetype": "text/x-csharp",
   "name": "C#",
   "pygments_lexer": "csharp",
   "version": "10.0"
  }
 },
 "nbformat": 4,
 "nbformat_minor": 4
}
