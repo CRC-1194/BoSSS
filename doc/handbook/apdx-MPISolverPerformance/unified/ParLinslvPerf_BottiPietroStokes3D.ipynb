{
 "cells": [
  {
   "cell_type": "markdown",
   "metadata": {},
   "source": [
    "# Linear Solver Performance: 3D Stokes manufactured Solution after Botti and Di Pietro, MPI-parallel\n",
    "### Part 1, Benchmark Setup and Execution"
   ]
  },
  {
   "cell_type": "markdown",
   "metadata": {},
   "source": [
    "This benchmark was proposed in a work:\n",
    "\n",
    " \"p‑Multilevel Preconditioners for HHO Discretizations of the Stokes Equations with Static Condensation\" \n",
    " by L. Botti and D. Di Pietro (https://doi.org/10.1007/s42967-021-00142-5)\n",
    " \n",
    "It is used to assess DG as well as HDG methods, the latter beeing the main focus of the paper, the former only for reference.\n",
    "The exact solution to the stationary Stokes equation is\n",
    "$$\n",
    "u_1 =  2 \\sin(\\pi x)), \\\\\n",
    "u_2 =  -\\pi y \\cos(\\pi x), \\\\\n",
    "u_3 =  -\\pi z \\cos(\\pi x), \\\\\n",
    "  p =  \\sin(\\pi y) \\cos(\\pi y) \\sin(\\pi z).\n",
    "$$\n",
    "This velocity field is divergence-free, i.e. it fulfills the continuity equation.\n",
    "To fulfill also momentum balance, a right-hand-side \n",
    "$$\n",
    "g_1 =                      -2 \\pi^2  \\sin(\\pi x), \\\\\n",
    "g_2 =    \\left( -2 \\pi \\cos(\\pi y)^2  + \\pi \\right) \\sin(\\pi z) + \\pi^3  y \\cos(\\pi x), \\\\\n",
    "g_3 =   \\pi \\left( \\cos(\\pi x) \\pi^2  z - \\sin(\\pi y) \\cos(\\pi y) \\cos(\\pi z) \\right)\n",
    "$$\n",
    "The domain is set as $ \\Omega = (0,1)^3 $.\n",
    "This manufactured solution is also used as a boundary condition on three sides; \n",
    "On one side, a Neumann boundary condition is enforced. It is not mentioned which side this is. \n",
    "\n",
    "\n",
    "### Note\n",
    "\n",
    "This example can be found in the source code repository as as `LinslvPerf_BottiPietroStokes3D.ipynb`. \n",
    "One can directly load this into Jupyter to interactively work with the following code examples.\n",
    "\n",
    "Note: First, BoSSS has to be loaded into the Jupyter kernel. Note:\n",
    "In the following line, the reference to `BoSSSpad.dll` is required. \n",
    "One must either set `#r \"BoSSSpad.dll\"` to something which is appropirate for the current computer\n",
    "(e.g. `C:\\Program Files (x86)\\FDY\\BoSSS\\bin\\Release\\net5.0\\BoSSSpad.dll` if working with the binary distribution), \n",
    "or, if one is working with the source code, one must compile `BoSSSpad`\n",
    "and put it side-by-side to this worksheet file \n",
    "(from the original location in the repository, one can use the scripts `getbossspad.sh`, resp. `getbossspad.bat`).\n"
   ]
  },
  {
   "cell_type": "code",
   "execution_count": 1,
   "metadata": {
    "dotnet_interactive": {
     "language": "csharp"
    },
    "vscode": {
     "languageId": "dotnet-interactive.csharp"
    }
   },
   "outputs": [
    {
     "data": {
      "text/html": [
       "\r\n",
       "<div>\r\n",
       "    <div id='dotnet-interactive-this-cell-26060.Microsoft.DotNet.Interactive.Http.HttpPort' style='display: none'>\r\n",
       "        The below script needs to be able to find the current output cell; this is an easy method to get it.\r\n",
       "    </div>\r\n",
       "    <script type='text/javascript'>\r\n",
       "async function probeAddresses(probingAddresses) {\r\n",
       "    function timeout(ms, promise) {\r\n",
       "        return new Promise(function (resolve, reject) {\r\n",
       "            setTimeout(function () {\r\n",
       "                reject(new Error('timeout'))\r\n",
       "            }, ms)\r\n",
       "            promise.then(resolve, reject)\r\n",
       "        })\r\n",
       "    }\r\n",
       "\r\n",
       "    if (Array.isArray(probingAddresses)) {\r\n",
       "        for (let i = 0; i < probingAddresses.length; i++) {\r\n",
       "\r\n",
       "            let rootUrl = probingAddresses[i];\r\n",
       "\r\n",
       "            if (!rootUrl.endsWith('/')) {\r\n",
       "                rootUrl = `${rootUrl}/`;\r\n",
       "            }\r\n",
       "\r\n",
       "            try {\r\n",
       "                let response = await timeout(1000, fetch(`${rootUrl}discovery`, {\r\n",
       "                    method: 'POST',\r\n",
       "                    cache: 'no-cache',\r\n",
       "                    mode: 'cors',\r\n",
       "                    timeout: 1000,\r\n",
       "                    headers: {\r\n",
       "                        'Content-Type': 'text/plain'\r\n",
       "                    },\r\n",
       "                    body: probingAddresses[i]\r\n",
       "                }));\r\n",
       "\r\n",
       "                if (response.status == 200) {\r\n",
       "                    return rootUrl;\r\n",
       "                }\r\n",
       "            }\r\n",
       "            catch (e) { }\r\n",
       "        }\r\n",
       "    }\r\n",
       "}\r\n",
       "\r\n",
       "function loadDotnetInteractiveApi() {\r\n",
       "    probeAddresses([\"http://172.23.224.1:1000/\", \"http://130.83.248.211:1000/\", \"http://192.168.56.1:1000/\", \"http://169.254.95.72:1000/\", \"http://127.0.0.1:1000/\"])\r\n",
       "        .then((root) => {\r\n",
       "        // use probing to find host url and api resources\r\n",
       "        // load interactive helpers and language services\r\n",
       "        let dotnetInteractiveRequire = require.config({\r\n",
       "        context: '26060.Microsoft.DotNet.Interactive.Http.HttpPort',\r\n",
       "                paths:\r\n",
       "            {\r\n",
       "                'dotnet-interactive': `${root}resources`\r\n",
       "                }\r\n",
       "        }) || require;\r\n",
       "\r\n",
       "            window.dotnetInteractiveRequire = dotnetInteractiveRequire;\r\n",
       "\r\n",
       "            window.configureRequireFromExtension = function(extensionName, extensionCacheBuster) {\r\n",
       "                let paths = {};\r\n",
       "                paths[extensionName] = `${root}extensions/${extensionName}/resources/`;\r\n",
       "                \r\n",
       "                let internalRequire = require.config({\r\n",
       "                    context: extensionCacheBuster,\r\n",
       "                    paths: paths,\r\n",
       "                    urlArgs: `cacheBuster=${extensionCacheBuster}`\r\n",
       "                    }) || require;\r\n",
       "\r\n",
       "                return internalRequire\r\n",
       "            };\r\n",
       "        \r\n",
       "            dotnetInteractiveRequire([\r\n",
       "                    'dotnet-interactive/dotnet-interactive'\r\n",
       "                ],\r\n",
       "                function (dotnet) {\r\n",
       "                    dotnet.init(window);\r\n",
       "                },\r\n",
       "                function (error) {\r\n",
       "                    console.log(error);\r\n",
       "                }\r\n",
       "            );\r\n",
       "        })\r\n",
       "        .catch(error => {console.log(error);});\r\n",
       "    }\r\n",
       "\r\n",
       "// ensure `require` is available globally\r\n",
       "if ((typeof(require) !==  typeof(Function)) || (typeof(require.config) !== typeof(Function))) {\r\n",
       "    let require_script = document.createElement('script');\r\n",
       "    require_script.setAttribute('src', 'https://cdnjs.cloudflare.com/ajax/libs/require.js/2.3.6/require.min.js');\r\n",
       "    require_script.setAttribute('type', 'text/javascript');\r\n",
       "    \r\n",
       "    \r\n",
       "    require_script.onload = function() {\r\n",
       "        loadDotnetInteractiveApi();\r\n",
       "    };\r\n",
       "\r\n",
       "    document.getElementsByTagName('head')[0].appendChild(require_script);\r\n",
       "}\r\n",
       "else {\r\n",
       "    loadDotnetInteractiveApi();\r\n",
       "}\r\n",
       "\r\n",
       "    </script>\r\n",
       "</div>"
      ]
     },
     "metadata": {},
     "output_type": "display_data"
    },
    {
     "name": "stdout",
     "output_type": "stream",
     "text": [
      "Execution Date/time is 30.08.2022 17:43:23\r\n"
     ]
    }
   ],
   "source": [
    "Console.WriteLine(\"Execution Date/time is \" + DateTime.Now);"
   ]
  },
  {
   "cell_type": "code",
   "execution_count": 2,
   "metadata": {
    "dotnet_interactive": {
     "language": "csharp"
    },
    "vscode": {
     "languageId": "dotnet-interactive.csharp"
    }
   },
   "outputs": [],
   "source": [
    "#r \"BoSSSpad.dll\"\n",
    "//#r \"C:\\Users\\jenkinsci\\Documents\\BoSSS-NET5\\public\\src\\L4-application\\BoSSSpad\\bin\\Debug\\net5.0\\BoSSSpad.dll\"\n",
    "using System;\n",
    "using System.Collections.Generic;\n",
    "using System.Linq;\n",
    "using ilPSP;\n",
    "using ilPSP.Utils;\n",
    "using BoSSS.Platform;\n",
    "using BoSSS.Platform.Utils.Geom;\n",
    "using BoSSS.Platform.LinAlg;\n",
    "using BoSSS.Foundation;\n",
    "using BoSSS.Foundation.XDG;\n",
    "using BoSSS.Foundation.Grid;\n",
    "using BoSSS.Foundation.Grid.Classic;\n",
    "using BoSSS.Foundation.Grid.RefElements;\n",
    "using BoSSS.Foundation.IO;\n",
    "using BoSSS.Solution;\n",
    "using BoSSS.Solution.Control;\n",
    "using BoSSS.Solution.GridImport;\n",
    "using BoSSS.Solution.Statistic;\n",
    "using BoSSS.Solution.Utils;\n",
    "using BoSSS.Solution.AdvancedSolvers;\n",
    "using BoSSS.Solution.Gnuplot;\n",
    "using BoSSS.Application.BoSSSpad;\n",
    "using BoSSS.Application.XNSE_Solver;\n",
    "using BoSSS.Application.GridGen;\n",
    "using static BoSSS.Application.BoSSSpad.BoSSSshell;\n",
    "Init();"
   ]
  },
  {
   "cell_type": "code",
   "execution_count": 3,
   "metadata": {
    "dotnet_interactive": {
     "language": "csharp"
    },
    "vscode": {
     "languageId": "dotnet-interactive.csharp"
    }
   },
   "outputs": [
    {
     "name": "stdout",
     "output_type": "stream",
     "text": [
      "Project name is set to 'WIP-k-LinslvPerfPar'.\n",
      "Opening existing database 'X:\\jenkins\\databases\\WIP-k-LinslvPerfPar'.\n"
     ]
    },
    {
     "data": {
      "text/plain": []
     },
     "execution_count": 3,
     "metadata": {},
     "output_type": "execute_result"
    }
   ],
   "source": [
    "string PROJECT_NAME = System.Environment.GetEnvironmentVariable(\"LinslvPerfPar\") ?? \"LinslvPerfPar\"; // this allows to modify the project name for testing purposes\n",
    "wmg.Init(PROJECT_NAME);\n",
    "wmg.SetNameBasedSessionJobControlCorrelation();\n",
    "wmg.AllJobs"
   ]
  },
  {
   "cell_type": "code",
   "execution_count": 4,
   "metadata": {
    "dotnet_interactive": {
     "language": "csharp"
    },
    "vscode": {
     "languageId": "dotnet-interactive.csharp"
    }
   },
   "outputs": [
    {
     "data": {
      "text/html": [
       "<table><thead><tr><th><i>index</i></th><th><i>type</i></th><th>DeploymentBaseDirectory</th><th>DeployRuntime</th><th>RuntimeLocation</th><th>Name</th><th>DotnetRuntime</th><th>BatchInstructionDir</th><th>AllowedDatabasesPaths</th><th>Username</th><th>Password</th><th>ServerName</th><th>PrivateKeyFilePath</th><th>AdditionalBatchCommands</th><th>ExecutionTime</th><th>DeploymentBaseDirectoryAtRemote</th><th>SlurmAccount</th><th>Email</th><th>MonoDebug</th></tr></thead><tbody><tr><td>0</td><td>BoSSS.Application.BoSSSpad.MiniBatchProcessorClient</td><td>C:\\Users\\flori\\AppData\\Local\\BoSSS-LocalJobs</td><td>False</td><td><div class=\"dni-plaintext\">&lt;null&gt;</div></td><td>LocalPC</td><td>dotnet</td><td><div class=\"dni-plaintext\">&lt;null&gt;</div></td><td>[ C:\\BoSSS-Databases, C:\\Users\\flori ]</td><td></td><td></td><td></td><td></td><td></td><td></td><td></td><td></td><td></td><td></td></tr><tr><td>1</td><td>BoSSS.Application.BoSSSpad.SlurmClient</td><td>X:\\jenkins\\deploy</td><td>False</td><td>linux/amd64-openmpi</td><td>Lb2-specialPrj-Jenkins</td><td>dotnet</td><td></td><td>[ X:\\jenkins\\databases == /work/scratch/fk69umer/jenkins/databases ]</td><td>fk69umer</td><td><div class=\"dni-plaintext\">&lt;null&gt;</div></td><td>lcluster16.hrz.tu-darmstadt.de</td><td>C:\\Users\\flori\\.ssh\\id_rsa</td><td>[ #SBATCH -C avx512, #SBATCH --mem-per-cpu=8000 ]</td><td>05:00:00</td><td>/work/scratch/fk69umer/jenkins/deploy</td><td>special00006</td><td><div class=\"dni-plaintext\">&lt;null&gt;</div></td><td>False</td></tr></tbody></table>"
      ]
     },
     "execution_count": 4,
     "metadata": {},
     "output_type": "execute_result"
    }
   ],
   "source": [
    "ExecutionQueues"
   ]
  },
  {
   "cell_type": "code",
   "execution_count": 5,
   "metadata": {},
   "outputs": [
    {
     "data": {
      "text/html": [
       "<table><thead><tr><th>Username</th><th>Password</th><th>ServerName</th><th>PrivateKeyFilePath</th><th>AdditionalBatchCommands</th><th>ExecutionTime</th><th>DeploymentBaseDirectoryAtRemote</th><th>RuntimeLocation</th><th>SlurmAccount</th><th>Email</th><th>DeploymentBaseDirectory</th><th>DeployRuntime</th><th>Name</th><th>DotnetRuntime</th><th>MonoDebug</th><th>AllowedDatabasesPaths</th></tr></thead><tbody><tr><td><div class=\"dni-plaintext\">fk69umer</div></td><td><div class=\"dni-plaintext\">&lt;null&gt;</div></td><td><div class=\"dni-plaintext\">lcluster16.hrz.tu-darmstadt.de</div></td><td><div class=\"dni-plaintext\">C:\\Users\\flori\\.ssh\\id_rsa</div></td><td><div class=\"dni-plaintext\">[ #SBATCH -C avx512, #SBATCH --mem-per-cpu=8000 ]</div></td><td><div class=\"dni-plaintext\">05:00:00</div></td><td><div class=\"dni-plaintext\">/work/scratch/fk69umer/jenkins/deploy</div></td><td><div class=\"dni-plaintext\">linux/amd64-openmpi</div></td><td><div class=\"dni-plaintext\">special00006</div></td><td><div class=\"dni-plaintext\">&lt;null&gt;</div></td><td><div class=\"dni-plaintext\">X:\\jenkins\\deploy</div></td><td><div class=\"dni-plaintext\">False</div></td><td><div class=\"dni-plaintext\">Lb2-specialPrj-Jenkins</div></td><td><div class=\"dni-plaintext\">dotnet</div></td><td><div class=\"dni-plaintext\">False</div></td><td><div class=\"dni-plaintext\">[ X:\\jenkins\\databases == /work/scratch/fk69umer/jenkins/databases ]</div></td></tr></tbody></table>"
      ]
     },
     "execution_count": 5,
     "metadata": {},
     "output_type": "execute_result"
    }
   ],
   "source": [
    "GetDefaultQueue()"
   ]
  },
  {
   "cell_type": "markdown",
   "metadata": {
    "dotnet_interactive": {
     "language": "csharp"
    }
   },
   "source": [
    "## Utility definitions"
   ]
  },
  {
   "cell_type": "code",
   "execution_count": 6,
   "metadata": {
    "dotnet_interactive": {
     "language": "csharp"
    },
    "vscode": {
     "languageId": "dotnet-interactive.csharp"
    }
   },
   "outputs": [],
   "source": [
    "static class Utils {\n",
    "    // DOF per cell for one variable\n",
    "    public static int Np(int p) {\n",
    "        //return (p*p + 3*p + 2)/2; // 2D \n",
    "        return (p*p*p + 6*p*p + 11*p + 6)/6; // 3D\n",
    "    }    \n",
    "    \n",
    "    /*\n",
    "    //Non-equidistant nodes\n",
    "    public static double[] SinLinSpacing(double l, double r, double a, int n) {\n",
    "        double[] linnodes = GenericBlas.Linspace(-Math.PI * 0.5, Math.PI * 0.5, n);\n",
    "        double[] linnodes2 = GenericBlas.Linspace(-1, 1, n);\n",
    "        double[] nodes = new double[n];\n",
    "\n",
    "        for (int i = 0; i < n; i++)\n",
    "            //nodes[i] = linnodes2[i] * (1 - a) + (1.0 - Math.Sin(linnodes[i])) * a;\n",
    "            nodes[i] = linnodes2[i] * (1 - a) + Math.Sin(linnodes[i])*a;\n",
    "\n",
    "        for (int i = 0; i < n; i++)\n",
    "            nodes[i] = nodes[i] * (r - l)*0.5 + l;\n",
    "        return nodes;\n",
    "    }\n",
    "    */\n",
    "}"
   ]
  },
  {
   "cell_type": "markdown",
   "metadata": {
    "dotnet_interactive": {
     "language": "csharp"
    }
   },
   "source": [
    "## Init grids and save to database"
   ]
  },
  {
   "cell_type": "code",
   "execution_count": 7,
   "metadata": {
    "dotnet_interactive": {
     "language": "csharp"
    },
    "vscode": {
     "languageId": "dotnet-interactive.csharp"
    }
   },
   "outputs": [
    {
     "name": "stdout",
     "output_type": "stream",
     "text": [
      "Opening existing database 'C:\\BoSSS-Databases\\WIP-k-LinslvPerfPar'.\n",
      "Must create: WIP-k-LinslvPerfPar-Stokes3D_J512 with 1 processors.\n",
      "Must create: WIP-k-LinslvPerfPar-Stokes3D_J4096 with 1 processors.\n",
      "Must create: WIP-k-LinslvPerfPar-Stokes3D_J13824 with 1 processors.\n",
      "Must create: WIP-k-LinslvPerfPar-Stokes3D_J32768 with 1 processors.\n",
      "Must create: WIP-k-LinslvPerfPar-Stokes3D_J110592 with 1 processors.\n",
      "Must create: WIP-k-LinslvPerfPar-Stokes3D_J262144 with 2 processors.\n",
      "Must create: WIP-k-LinslvPerfPar-Stokes3D_J2097152 with 11 processors.\n",
      "Must create: WIP-k-LinslvPerfPar-Stokes3D_J16777216 with 84 processors.\n"
     ]
    }
   ],
   "source": [
    "int[] Resolutions_3D = new int[] { 8, 16, 24, 32, 48, 64, 128, 256 };\n",
    "string[] GridNameS = new string[Resolutions_3D.Length];\n",
    "var ggcS = new (GridGenControl C, int MPIsize)[Resolutions_3D.Length];\n",
    "\n",
    "for(int cnt = 0; cnt < Resolutions_3D.Length; cnt++) {\n",
    "    int Res = Resolutions_3D[cnt];    \n",
    "    \n",
    "    double[] _xNodes = GenericBlas.Linspace(0, +1, Res + 1);\n",
    "    double[] _yNodes = GenericBlas.Linspace(0, +1, Res + 1);\n",
    "    double[] _zNodes = GenericBlas.Linspace(0, +1, Res + 1);\n",
    "    int J = (_xNodes.Length - 1)*(_yNodes.Length - 1)*(_zNodes.Length - 1);\n",
    "    \n",
    "    string GridName = string.Format(wmg.CurrentProject + \"-Stokes3D_J\" + J);\n",
    "    GridNameS[cnt] = GridName;  \n",
    "    \n",
    "    if(wmg.Grids.Where(grd => grd.Name.Contains(GridName)).Count() <= 0) {\n",
    "        int NoOfProcs = (int) Math.Min(182, Math.Max(1, Math.Ceiling(J/200000.0)));\n",
    "        Console.WriteLine(\"Must create: \" + GridName + \" with \" + NoOfProcs + \" processors.\");\n",
    "        \n",
    "        var C = new GridGenControl();\n",
    "        ggcS[cnt] = (C, NoOfProcs);\n",
    "        C.SetDatabase(wmg.DefaultDatabase);\n",
    "        \n",
    "        C.GridName = GridName;\n",
    "\n",
    "        C.GridBlocks = new GridGenControl.MeshBlock[] {\n",
    "            new GridGenControl.Cartesian3D() {\n",
    "                xNodes = _xNodes,\n",
    "                yNodes = _yNodes,\n",
    "                zNodes = _zNodes\n",
    "            }\n",
    "        };\n",
    "\n",
    "        C.BoundaryRegions.Add((\n",
    "            new BoundingBox(new double[] { -1e-8, -2, -2 }, new double[] { +1e-8, +2, +2 }), \n",
    "             \"pressure_outlet\"));\n",
    "        C.BoundaryRegions.Add((\n",
    "            null, \n",
    "            \"wall\"));\n",
    "        \n",
    "        C.SessionName = \"GridCreation-\" + GridName;\n",
    "    } else {\n",
    "        Console.WriteLine(\"Found grid: \" + GridName);\n",
    "    }\n",
    "}"
   ]
  },
  {
   "cell_type": "code",
   "execution_count": 8,
   "metadata": {
    "dotnet_interactive": {
     "language": "csharp"
    },
    "vscode": {
     "languageId": "dotnet-interactive.csharp"
    }
   },
   "outputs": [
    {
     "name": "stdout",
     "output_type": "stream",
     "text": [
      " Submitting: GridCreation-WIP-k-LinslvPerfPar-Stokes3D_J512\n",
      "Deploying job GridCreation-WIP-k-LinslvPerfPar-Stokes3D_J512 ... \n"
     ]
    },
    {
     "name": "stderr",
     "output_type": "stream",
     "text": [
      "Warning: no grid seems to be specified for the job to submit.\r\n"
     ]
    },
    {
     "name": "stdout",
     "output_type": "stream",
     "text": [
      "Deploying executables and additional files ...\n",
      "Looking in C:\\Users\\flori\\Documents\\BoSSS-kummer\\public\\doc\\handbook\\apdx-MPISolverPerformance\\unified\n",
      "---- dll: C:\\Users\\flori\\Documents\\BoSSS-kummer\\public\\doc\\handbook\\apdx-MPISolverPerformance\\unified\\GridGen.dllFound\n",
      "---- -- C:\\Users\\flori\\Documents\\BoSSS-kummer\\public\\doc\\handbook\\apdx-MPISolverPerformance\\unified\\GridGen.dll.config added.\n",
      "---- -- C:\\Users\\flori\\Documents\\BoSSS-kummer\\public\\doc\\handbook\\apdx-MPISolverPerformance\\unified\\GridGen.dll.config added.\n",
      "---- dll: C:\\Users\\flori\\Documents\\BoSSS-kummer\\public\\doc\\handbook\\apdx-MPISolverPerformance\\unified\\System.Runtime.dll   SKIPPING --- \n",
      "---- dll: C:\\Users\\flori\\Documents\\BoSSS-kummer\\public\\doc\\handbook\\apdx-MPISolverPerformance\\unified\\System.Private.CoreLib.dll   SKIPPING --- \n",
      "---- dll: C:\\Users\\flori\\Documents\\BoSSS-kummer\\public\\doc\\handbook\\apdx-MPISolverPerformance\\unified\\System.Private.Uri.dll   SKIPPING --- \n",
      "---- dll: C:\\Users\\flori\\Documents\\BoSSS-kummer\\public\\doc\\handbook\\apdx-MPISolverPerformance\\unified\\System.Runtime.InteropServices.dll   SKIPPING --- \n",
      "---- dll: C:\\Users\\flori\\Documents\\BoSSS-kummer\\public\\doc\\handbook\\apdx-MPISolverPerformance\\unified\\System.Runtime.Serialization.Primitives.dll   SKIPPING --- \n",
      "---- dll: C:\\Users\\flori\\Documents\\BoSSS-kummer\\public\\doc\\handbook\\apdx-MPISolverPerformance\\unified\\BoSSS.Solution.dllFound\n",
      "---- -- C:\\Users\\flori\\Documents\\BoSSS-kummer\\public\\doc\\handbook\\apdx-MPISolverPerformance\\unified\\BoSSS.Solution.dll.config missing.\n",
      "---- -- C:\\Users\\flori\\Documents\\BoSSS-kummer\\public\\doc\\handbook\\apdx-MPISolverPerformance\\unified\\BoSSS.Solution.dll.config missing.\n",
      "---- dll: C:\\Users\\flori\\Documents\\BoSSS-kummer\\public\\doc\\handbook\\apdx-MPISolverPerformance\\unified\\netstandard.dll   SKIPPING --- \n",
      "---- dll: C:\\Users\\flori\\Documents\\BoSSS-kummer\\public\\doc\\handbook\\apdx-MPISolverPerformance\\unified\\System.IO.MemoryMappedFiles.dll   SKIPPING --- \n",
      "---- dll: C:\\Users\\flori\\Documents\\BoSSS-kummer\\public\\doc\\handbook\\apdx-MPISolverPerformance\\unified\\System.Threading.Thread.dll   SKIPPING --- \n",
      "---- dll: C:\\Users\\flori\\Documents\\BoSSS-kummer\\public\\doc\\handbook\\apdx-MPISolverPerformance\\unified\\System.Threading.dll   SKIPPING --- \n",
      "---- dll: C:\\Users\\flori\\Documents\\BoSSS-kummer\\public\\doc\\handbook\\apdx-MPISolverPerformance\\unified\\System.IO.Pipes.dll   SKIPPING --- \n",
      "---- dll: C:\\Users\\flori\\Documents\\BoSSS-kummer\\public\\doc\\handbook\\apdx-MPISolverPerformance\\unified\\System.Threading.Overlapped.dll   SKIPPING --- \n",
      "---- dll: C:\\Users\\flori\\Documents\\BoSSS-kummer\\public\\doc\\handbook\\apdx-MPISolverPerformance\\unified\\System.Security.Principal.Windows.dll   SKIPPING --- \n",
      "---- dll: C:\\Users\\flori\\Documents\\BoSSS-kummer\\public\\doc\\handbook\\apdx-MPISolverPerformance\\unified\\System.Collections.dll   SKIPPING --- \n",
      "---- dll: C:\\Users\\flori\\Documents\\BoSSS-kummer\\public\\doc\\handbook\\apdx-MPISolverPerformance\\unified\\Microsoft.Win32.Primitives.dll   SKIPPING --- \n",
      "---- dll: C:\\Users\\flori\\Documents\\BoSSS-kummer\\public\\doc\\handbook\\apdx-MPISolverPerformance\\unified\\System.Security.Claims.dll   SKIPPING --- \n",
      "---- dll: C:\\Users\\flori\\Documents\\BoSSS-kummer\\public\\doc\\handbook\\apdx-MPISolverPerformance\\unified\\System.Security.AccessControl.dll   SKIPPING --- \n",
      "---- dll: C:\\Users\\flori\\Documents\\BoSSS-kummer\\public\\doc\\handbook\\apdx-MPISolverPerformance\\unified\\System.Collections.NonGeneric.dll   SKIPPING --- \n",
      "---- dll: C:\\Users\\flori\\Documents\\BoSSS-kummer\\public\\doc\\handbook\\apdx-MPISolverPerformance\\unified\\System.Memory.dll   SKIPPING --- \n",
      "---- dll: C:\\Users\\flori\\Documents\\BoSSS-kummer\\public\\doc\\handbook\\apdx-MPISolverPerformance\\unified\\System.Diagnostics.Process.dll   SKIPPING --- \n",
      "---- dll: C:\\Users\\flori\\Documents\\BoSSS-kummer\\public\\doc\\handbook\\apdx-MPISolverPerformance\\unified\\System.Text.Encoding.Extensions.dll   SKIPPING --- \n",
      "---- dll: C:\\Users\\flori\\Documents\\BoSSS-kummer\\public\\doc\\handbook\\apdx-MPISolverPerformance\\unified\\System.Threading.ThreadPool.dll   SKIPPING --- \n",
      "---- dll: C:\\Users\\flori\\Documents\\BoSSS-kummer\\public\\doc\\handbook\\apdx-MPISolverPerformance\\unified\\System.ComponentModel.Primitives.dll   SKIPPING --- \n",
      "---- dll: C:\\Users\\flori\\Documents\\BoSSS-kummer\\public\\doc\\handbook\\apdx-MPISolverPerformance\\unified\\System.ComponentModel.dll   SKIPPING --- \n",
      "---- dll: C:\\Users\\flori\\Documents\\BoSSS-kummer\\public\\doc\\handbook\\apdx-MPISolverPerformance\\unified\\System.ObjectModel.dll   SKIPPING --- \n",
      "---- dll: C:\\Users\\flori\\Documents\\BoSSS-kummer\\public\\doc\\handbook\\apdx-MPISolverPerformance\\unified\\System.Diagnostics.FileVersionInfo.dll   SKIPPING --- \n",
      "---- dll: C:\\Users\\flori\\Documents\\BoSSS-kummer\\public\\doc\\handbook\\apdx-MPISolverPerformance\\unified\\System.Collections.Specialized.dll   SKIPPING --- \n",
      "---- dll: C:\\Users\\flori\\Documents\\BoSSS-kummer\\public\\doc\\handbook\\apdx-MPISolverPerformance\\unified\\Microsoft.Win32.Registry.dll   SKIPPING --- \n",
      "---- dll: C:\\Users\\flori\\Documents\\BoSSS-kummer\\public\\doc\\handbook\\apdx-MPISolverPerformance\\unified\\System.Collections.Concurrent.dll   SKIPPING --- \n",
      "---- dll: C:\\Users\\flori\\Documents\\BoSSS-kummer\\public\\doc\\handbook\\apdx-MPISolverPerformance\\unified\\System.Security.Cryptography.X509Certificates.dll   SKIPPING --- \n",
      "---- dll: C:\\Users\\flori\\Documents\\BoSSS-kummer\\public\\doc\\handbook\\apdx-MPISolverPerformance\\unified\\System.Security.Cryptography.Cng.dll   SKIPPING --- \n",
      "---- dll: C:\\Users\\flori\\Documents\\BoSSS-kummer\\public\\doc\\handbook\\apdx-MPISolverPerformance\\unified\\System.Security.Cryptography.Encoding.dll   SKIPPING --- \n",
      "---- dll: C:\\Users\\flori\\Documents\\BoSSS-kummer\\public\\doc\\handbook\\apdx-MPISolverPerformance\\unified\\System.Security.Cryptography.Primitives.dll   SKIPPING --- \n",
      "---- dll: C:\\Users\\flori\\Documents\\BoSSS-kummer\\public\\doc\\handbook\\apdx-MPISolverPerformance\\unified\\System.Security.Cryptography.Algorithms.dll   SKIPPING --- \n",
      "---- dll: C:\\Users\\flori\\Documents\\BoSSS-kummer\\public\\doc\\handbook\\apdx-MPISolverPerformance\\unified\\System.Formats.Asn1.dll   SKIPPING --- \n",
      "---- dll: C:\\Users\\flori\\Documents\\BoSSS-kummer\\public\\doc\\handbook\\apdx-MPISolverPerformance\\unified\\System.Runtime.Numerics.dll   SKIPPING --- \n",
      "---- dll: C:\\Users\\flori\\Documents\\BoSSS-kummer\\public\\doc\\handbook\\apdx-MPISolverPerformance\\unified\\System.Runtime.CompilerServices.Unsafe.dll   SKIPPING --- \n",
      "---- dll: C:\\Users\\flori\\Documents\\BoSSS-kummer\\public\\doc\\handbook\\apdx-MPISolverPerformance\\unified\\System.Security.Cryptography.Csp.dll   SKIPPING --- \n",
      "---- dll: C:\\Users\\flori\\Documents\\BoSSS-kummer\\public\\doc\\handbook\\apdx-MPISolverPerformance\\unified\\System.Net.Primitives.dll   SKIPPING --- \n",
      "---- dll: C:\\Users\\flori\\Documents\\BoSSS-kummer\\public\\doc\\handbook\\apdx-MPISolverPerformance\\unified\\System.Diagnostics.Tracing.dll   SKIPPING --- \n",
      "---- dll: C:\\Users\\flori\\Documents\\BoSSS-kummer\\public\\doc\\handbook\\apdx-MPISolverPerformance\\unified\\System.ComponentModel.TypeConverter.dll   SKIPPING --- \n",
      "---- dll: C:\\Users\\flori\\Documents\\BoSSS-kummer\\public\\doc\\handbook\\apdx-MPISolverPerformance\\unified\\System.Runtime.Loader.dll   SKIPPING --- \n",
      "---- dll: C:\\Users\\flori\\Documents\\BoSSS-kummer\\public\\doc\\handbook\\apdx-MPISolverPerformance\\unified\\System.Net.Security.dll   SKIPPING --- \n",
      "---- dll: C:\\Users\\flori\\Documents\\BoSSS-kummer\\public\\doc\\handbook\\apdx-MPISolverPerformance\\unified\\System.Net.Sockets.dll   SKIPPING --- \n",
      "---- dll: C:\\Users\\flori\\Documents\\BoSSS-kummer\\public\\doc\\handbook\\apdx-MPISolverPerformance\\unified\\System.Net.NameResolution.dll   SKIPPING --- \n",
      "---- dll: C:\\Users\\flori\\Documents\\BoSSS-kummer\\public\\doc\\handbook\\apdx-MPISolverPerformance\\unified\\System.Drawing.Primitives.dll   SKIPPING --- \n",
      "---- dll: C:\\Users\\flori\\Documents\\BoSSS-kummer\\public\\doc\\handbook\\apdx-MPISolverPerformance\\unified\\System.Numerics.Vectors.dll   SKIPPING --- \n",
      "---- dll: C:\\Users\\flori\\Documents\\BoSSS-kummer\\public\\doc\\handbook\\apdx-MPISolverPerformance\\unified\\System.Linq.dll   SKIPPING --- \n",
      "---- dll: C:\\Users\\flori\\Documents\\BoSSS-kummer\\public\\doc\\handbook\\apdx-MPISolverPerformance\\unified\\System.Text.RegularExpressions.dll   SKIPPING --- \n"
     ]
    },
    {
     "name": "stdout",
     "output_type": "stream",
     "text": [
      "---- dll: C:\\Users\\flori\\Documents\\BoSSS-kummer\\public\\doc\\handbook\\apdx-MPISolverPerformance\\unified\\System.Reflection.Emit.ILGeneration.dll   SKIPPING --- \n",
      "---- dll: C:\\Users\\flori\\Documents\\BoSSS-kummer\\public\\doc\\handbook\\apdx-MPISolverPerformance\\unified\\System.Reflection.Emit.Lightweight.dll   SKIPPING --- \n",
      "---- dll: C:\\Users\\flori\\Documents\\BoSSS-kummer\\public\\doc\\handbook\\apdx-MPISolverPerformance\\unified\\System.Reflection.Primitives.dll   SKIPPING --- \n",
      "---- dll: C:\\Users\\flori\\Documents\\BoSSS-kummer\\public\\doc\\handbook\\apdx-MPISolverPerformance\\unified\\System.Runtime.Serialization.Formatters.dll   SKIPPING --- \n",
      "---- dll: C:\\Users\\flori\\Documents\\BoSSS-kummer\\public\\doc\\handbook\\apdx-MPISolverPerformance\\unified\\System.Resources.Writer.dll   SKIPPING --- \n",
      "---- dll: C:\\Users\\flori\\Documents\\BoSSS-kummer\\public\\doc\\handbook\\apdx-MPISolverPerformance\\unified\\System.Xml.XDocument.dll   SKIPPING --- \n",
      "---- dll: C:\\Users\\flori\\Documents\\BoSSS-kummer\\public\\doc\\handbook\\apdx-MPISolverPerformance\\unified\\System.Private.Xml.Linq.dll   SKIPPING --- \n",
      "---- dll: C:\\Users\\flori\\Documents\\BoSSS-kummer\\public\\doc\\handbook\\apdx-MPISolverPerformance\\unified\\System.Private.Xml.dll   SKIPPING --- \n",
      "---- dll: C:\\Users\\flori\\Documents\\BoSSS-kummer\\public\\doc\\handbook\\apdx-MPISolverPerformance\\unified\\System.Diagnostics.TraceSource.dll   SKIPPING --- \n",
      "---- dll: C:\\Users\\flori\\Documents\\BoSSS-kummer\\public\\doc\\handbook\\apdx-MPISolverPerformance\\unified\\System.Net.Http.dll   SKIPPING --- \n",
      "---- dll: C:\\Users\\flori\\Documents\\BoSSS-kummer\\public\\doc\\handbook\\apdx-MPISolverPerformance\\unified\\System.Net.Quic.dll   SKIPPING --- \n",
      "---- dll: C:\\Users\\flori\\Documents\\BoSSS-kummer\\public\\doc\\handbook\\apdx-MPISolverPerformance\\unified\\System.Threading.Channels.dll   SKIPPING --- \n",
      "---- dll: C:\\Users\\flori\\Documents\\BoSSS-kummer\\public\\doc\\handbook\\apdx-MPISolverPerformance\\unified\\System.IO.Compression.dll   SKIPPING --- \n",
      "---- dll: C:\\Users\\flori\\Documents\\BoSSS-kummer\\public\\doc\\handbook\\apdx-MPISolverPerformance\\unified\\System.IO.Compression.Brotli.dll   SKIPPING --- \n",
      "---- dll: C:\\Users\\flori\\Documents\\BoSSS-kummer\\public\\doc\\handbook\\apdx-MPISolverPerformance\\unified\\System.Net.NetworkInformation.dll   SKIPPING --- \n",
      "---- dll: C:\\Users\\flori\\Documents\\BoSSS-kummer\\public\\doc\\handbook\\apdx-MPISolverPerformance\\unified\\System.Diagnostics.DiagnosticSource.dll   SKIPPING --- \n",
      "---- dll: C:\\Users\\flori\\Documents\\BoSSS-kummer\\public\\doc\\handbook\\apdx-MPISolverPerformance\\unified\\System.Reflection.Emit.dll   SKIPPING --- \n",
      "---- dll: C:\\Users\\flori\\Documents\\BoSSS-kummer\\public\\doc\\handbook\\apdx-MPISolverPerformance\\unified\\System.Linq.Expressions.dll   SKIPPING --- \n",
      "---- dll: C:\\Users\\flori\\Documents\\BoSSS-kummer\\public\\doc\\handbook\\apdx-MPISolverPerformance\\unified\\System.ComponentModel.EventBasedAsync.dll   SKIPPING --- \n",
      "---- dll: C:\\Users\\flori\\Documents\\BoSSS-kummer\\public\\doc\\handbook\\apdx-MPISolverPerformance\\unified\\System.Console.dll   SKIPPING --- \n",
      "---- dll: C:\\Users\\flori\\Documents\\BoSSS-kummer\\public\\doc\\handbook\\apdx-MPISolverPerformance\\unified\\System.Data.Common.dll   SKIPPING --- \n",
      "---- dll: C:\\Users\\flori\\Documents\\BoSSS-kummer\\public\\doc\\handbook\\apdx-MPISolverPerformance\\unified\\System.Xml.ReaderWriter.dll   SKIPPING --- \n",
      "---- dll: C:\\Users\\flori\\Documents\\BoSSS-kummer\\public\\doc\\handbook\\apdx-MPISolverPerformance\\unified\\System.Xml.XmlSerializer.dll   SKIPPING --- \n",
      "---- dll: C:\\Users\\flori\\Documents\\BoSSS-kummer\\public\\doc\\handbook\\apdx-MPISolverPerformance\\unified\\System.Transactions.Local.dll   SKIPPING --- \n",
      "---- dll: C:\\Users\\flori\\Documents\\BoSSS-kummer\\public\\doc\\handbook\\apdx-MPISolverPerformance\\unified\\System.Diagnostics.Contracts.dll   SKIPPING --- \n",
      "---- dll: C:\\Users\\flori\\Documents\\BoSSS-kummer\\public\\doc\\handbook\\apdx-MPISolverPerformance\\unified\\System.Diagnostics.TextWriterTraceListener.dll   SKIPPING --- \n",
      "---- dll: C:\\Users\\flori\\Documents\\BoSSS-kummer\\public\\doc\\handbook\\apdx-MPISolverPerformance\\unified\\System.Diagnostics.StackTrace.dll   SKIPPING --- \n",
      "---- dll: C:\\Users\\flori\\Documents\\BoSSS-kummer\\public\\doc\\handbook\\apdx-MPISolverPerformance\\unified\\System.Reflection.Metadata.dll   SKIPPING --- \n",
      "---- dll: C:\\Users\\flori\\Documents\\BoSSS-kummer\\public\\doc\\handbook\\apdx-MPISolverPerformance\\unified\\System.Collections.Immutable.dll   SKIPPING --- \n",
      "---- dll: C:\\Users\\flori\\Documents\\BoSSS-kummer\\public\\doc\\handbook\\apdx-MPISolverPerformance\\unified\\System.IO.Compression.ZipFile.dll   SKIPPING --- \n",
      "---- dll: C:\\Users\\flori\\Documents\\BoSSS-kummer\\public\\doc\\handbook\\apdx-MPISolverPerformance\\unified\\System.IO.FileSystem.DriveInfo.dll   SKIPPING --- \n",
      "---- dll: C:\\Users\\flori\\Documents\\BoSSS-kummer\\public\\doc\\handbook\\apdx-MPISolverPerformance\\unified\\System.IO.FileSystem.Watcher.dll   SKIPPING --- \n",
      "---- dll: C:\\Users\\flori\\Documents\\BoSSS-kummer\\public\\doc\\handbook\\apdx-MPISolverPerformance\\unified\\System.IO.IsolatedStorage.dll   SKIPPING --- \n",
      "---- dll: C:\\Users\\flori\\Documents\\BoSSS-kummer\\public\\doc\\handbook\\apdx-MPISolverPerformance\\unified\\System.IO.FileSystem.AccessControl.dll   SKIPPING --- \n",
      "---- dll: C:\\Users\\flori\\Documents\\BoSSS-kummer\\public\\doc\\handbook\\apdx-MPISolverPerformance\\unified\\System.Linq.Queryable.dll   SKIPPING --- \n",
      "---- dll: C:\\Users\\flori\\Documents\\BoSSS-kummer\\public\\doc\\handbook\\apdx-MPISolverPerformance\\unified\\System.Linq.Parallel.dll   SKIPPING --- \n",
      "---- dll: C:\\Users\\flori\\Documents\\BoSSS-kummer\\public\\doc\\handbook\\apdx-MPISolverPerformance\\unified\\System.Net.Requests.dll   SKIPPING --- \n",
      "---- dll: C:\\Users\\flori\\Documents\\BoSSS-kummer\\public\\doc\\handbook\\apdx-MPISolverPerformance\\unified\\System.Net.WebHeaderCollection.dll   SKIPPING --- \n",
      "---- dll: C:\\Users\\flori\\Documents\\BoSSS-kummer\\public\\doc\\handbook\\apdx-MPISolverPerformance\\unified\\System.Net.ServicePoint.dll   SKIPPING --- \n",
      "---- dll: C:\\Users\\flori\\Documents\\BoSSS-kummer\\public\\doc\\handbook\\apdx-MPISolverPerformance\\unified\\System.Net.HttpListener.dll   SKIPPING --- \n",
      "---- dll: C:\\Users\\flori\\Documents\\BoSSS-kummer\\public\\doc\\handbook\\apdx-MPISolverPerformance\\unified\\System.Net.WebSockets.dll   SKIPPING --- \n",
      "---- dll: C:\\Users\\flori\\Documents\\BoSSS-kummer\\public\\doc\\handbook\\apdx-MPISolverPerformance\\unified\\System.Net.WebClient.dll   SKIPPING --- \n",
      "---- dll: C:\\Users\\flori\\Documents\\BoSSS-kummer\\public\\doc\\handbook\\apdx-MPISolverPerformance\\unified\\System.Net.WebProxy.dll   SKIPPING --- \n",
      "---- dll: C:\\Users\\flori\\Documents\\BoSSS-kummer\\public\\doc\\handbook\\apdx-MPISolverPerformance\\unified\\System.Net.Mail.dll   SKIPPING --- \n",
      "---- dll: C:\\Users\\flori\\Documents\\BoSSS-kummer\\public\\doc\\handbook\\apdx-MPISolverPerformance\\unified\\System.Net.Ping.dll   SKIPPING --- \n",
      "---- dll: C:\\Users\\flori\\Documents\\BoSSS-kummer\\public\\doc\\handbook\\apdx-MPISolverPerformance\\unified\\System.Net.WebSockets.Client.dll   SKIPPING --- \n",
      "---- dll: C:\\Users\\flori\\Documents\\BoSSS-kummer\\public\\doc\\handbook\\apdx-MPISolverPerformance\\unified\\System.Reflection.DispatchProxy.dll   SKIPPING --- \n",
      "---- dll: C:\\Users\\flori\\Documents\\BoSSS-kummer\\public\\doc\\handbook\\apdx-MPISolverPerformance\\unified\\System.Runtime.CompilerServices.VisualC.dll   SKIPPING --- \n",
      "---- dll: C:\\Users\\flori\\Documents\\BoSSS-kummer\\public\\doc\\handbook\\apdx-MPISolverPerformance\\unified\\System.Runtime.InteropServices.RuntimeInformation.dll   SKIPPING --- \n",
      "---- dll: C:\\Users\\flori\\Documents\\BoSSS-kummer\\public\\doc\\handbook\\apdx-MPISolverPerformance\\unified\\System.Runtime.Serialization.Xml.dll   SKIPPING --- \n",
      "---- dll: C:\\Users\\flori\\Documents\\BoSSS-kummer\\public\\doc\\handbook\\apdx-MPISolverPerformance\\unified\\System.Private.DataContractSerialization.dll   SKIPPING --- \n",
      "---- dll: C:\\Users\\flori\\Documents\\BoSSS-kummer\\public\\doc\\handbook\\apdx-MPISolverPerformance\\unified\\System.Runtime.Serialization.Json.dll   SKIPPING --- \n",
      "---- dll: C:\\Users\\flori\\Documents\\BoSSS-kummer\\public\\doc\\handbook\\apdx-MPISolverPerformance\\unified\\System.Threading.Tasks.Parallel.dll   SKIPPING --- \n",
      "---- dll: C:\\Users\\flori\\Documents\\BoSSS-kummer\\public\\doc\\handbook\\apdx-MPISolverPerformance\\unified\\System.Web.HttpUtility.dll   SKIPPING --- \n"
     ]
    },
    {
     "name": "stdout",
     "output_type": "stream",
     "text": [
      "---- dll: C:\\Users\\flori\\Documents\\BoSSS-kummer\\public\\doc\\handbook\\apdx-MPISolverPerformance\\unified\\System.Xml.XPath.XDocument.dll   SKIPPING --- \n",
      "---- dll: C:\\Users\\flori\\Documents\\BoSSS-kummer\\public\\doc\\handbook\\apdx-MPISolverPerformance\\unified\\System.Xml.XPath.dll   SKIPPING --- \n",
      "---- dll: C:\\Users\\flori\\Documents\\BoSSS-kummer\\public\\doc\\handbook\\apdx-MPISolverPerformance\\unified\\Newtonsoft.Json.dllFound\n",
      "---- -- C:\\Users\\flori\\Documents\\BoSSS-kummer\\public\\doc\\handbook\\apdx-MPISolverPerformance\\unified\\Newtonsoft.Json.dll.config missing.\n",
      "---- -- C:\\Users\\flori\\Documents\\BoSSS-kummer\\public\\doc\\handbook\\apdx-MPISolverPerformance\\unified\\Newtonsoft.Json.dll.config missing.\n",
      "---- dll: C:\\Users\\flori\\Documents\\BoSSS-kummer\\public\\doc\\handbook\\apdx-MPISolverPerformance\\unified\\ilPSP.Connectors.Matlab.dllFound\n",
      "---- -- C:\\Users\\flori\\Documents\\BoSSS-kummer\\public\\doc\\handbook\\apdx-MPISolverPerformance\\unified\\ilPSP.Connectors.Matlab.dll.config missing.\n",
      "---- -- C:\\Users\\flori\\Documents\\BoSSS-kummer\\public\\doc\\handbook\\apdx-MPISolverPerformance\\unified\\ilPSP.Connectors.Matlab.dll.config missing.\n",
      "---- dll: C:\\Users\\flori\\Documents\\BoSSS-kummer\\public\\doc\\handbook\\apdx-MPISolverPerformance\\unified\\MPI.Wrappers.dllFound\n",
      "---- -- C:\\Users\\flori\\Documents\\BoSSS-kummer\\public\\doc\\handbook\\apdx-MPISolverPerformance\\unified\\MPI.Wrappers.dll.config missing.\n",
      "---- -- C:\\Users\\flori\\Documents\\BoSSS-kummer\\public\\doc\\handbook\\apdx-MPISolverPerformance\\unified\\MPI.Wrappers.dll.config missing.\n",
      "---- dll: C:\\Users\\flori\\Documents\\BoSSS-kummer\\public\\doc\\handbook\\apdx-MPISolverPerformance\\unified\\log4net.dllFound\n",
      "---- -- C:\\Users\\flori\\Documents\\BoSSS-kummer\\public\\doc\\handbook\\apdx-MPISolverPerformance\\unified\\log4net.dll.config missing.\n",
      "---- -- C:\\Users\\flori\\Documents\\BoSSS-kummer\\public\\doc\\handbook\\apdx-MPISolverPerformance\\unified\\log4net.dll.config missing.\n",
      "---- dll: C:\\Users\\flori\\Documents\\BoSSS-kummer\\public\\doc\\handbook\\apdx-MPISolverPerformance\\unified\\System.Configuration.ConfigurationManager.dll   SKIPPING --- \n",
      "---- dll: C:\\Users\\flori\\Documents\\BoSSS-kummer\\public\\doc\\handbook\\apdx-MPISolverPerformance\\unified\\System.Security.Cryptography.ProtectedData.dll   SKIPPING --- \n",
      "---- dll: C:\\Users\\flori\\Documents\\BoSSS-kummer\\public\\doc\\handbook\\apdx-MPISolverPerformance\\unified\\nunit.framework.dllFound\n",
      "---- -- C:\\Users\\flori\\Documents\\BoSSS-kummer\\public\\doc\\handbook\\apdx-MPISolverPerformance\\unified\\nunit.framework.dll.config missing.\n",
      "---- -- C:\\Users\\flori\\Documents\\BoSSS-kummer\\public\\doc\\handbook\\apdx-MPISolverPerformance\\unified\\nunit.framework.dll.config missing.\n",
      "---- dll: C:\\Users\\flori\\Documents\\BoSSS-kummer\\public\\doc\\handbook\\apdx-MPISolverPerformance\\unified\\ilPSP.dllFound\n",
      "---- -- C:\\Users\\flori\\Documents\\BoSSS-kummer\\public\\doc\\handbook\\apdx-MPISolverPerformance\\unified\\ilPSP.dll.config missing.\n",
      "---- -- C:\\Users\\flori\\Documents\\BoSSS-kummer\\public\\doc\\handbook\\apdx-MPISolverPerformance\\unified\\ilPSP.dll.config missing.\n",
      "---- dll: C:\\Users\\flori\\Documents\\BoSSS-kummer\\public\\doc\\handbook\\apdx-MPISolverPerformance\\unified\\BoSSS.Foundation.dllFound\n",
      "---- -- C:\\Users\\flori\\Documents\\BoSSS-kummer\\public\\doc\\handbook\\apdx-MPISolverPerformance\\unified\\BoSSS.Foundation.dll.config missing.\n",
      "---- -- C:\\Users\\flori\\Documents\\BoSSS-kummer\\public\\doc\\handbook\\apdx-MPISolverPerformance\\unified\\BoSSS.Foundation.dll.config missing.\n",
      "---- dll: C:\\Users\\flori\\Documents\\BoSSS-kummer\\public\\doc\\handbook\\apdx-MPISolverPerformance\\unified\\BoSSS.Platform.dllFound\n",
      "---- -- C:\\Users\\flori\\Documents\\BoSSS-kummer\\public\\doc\\handbook\\apdx-MPISolverPerformance\\unified\\BoSSS.Platform.dll.config missing.\n",
      "---- -- C:\\Users\\flori\\Documents\\BoSSS-kummer\\public\\doc\\handbook\\apdx-MPISolverPerformance\\unified\\BoSSS.Platform.dll.config missing.\n",
      "---- dll: C:\\Users\\flori\\Documents\\BoSSS-kummer\\public\\doc\\handbook\\apdx-MPISolverPerformance\\unified\\ilPSP.LinSolvers.PARDISO.dllFound\n",
      "---- -- C:\\Users\\flori\\Documents\\BoSSS-kummer\\public\\doc\\handbook\\apdx-MPISolverPerformance\\unified\\ilPSP.LinSolvers.PARDISO.dll.config missing.\n",
      "---- -- C:\\Users\\flori\\Documents\\BoSSS-kummer\\public\\doc\\handbook\\apdx-MPISolverPerformance\\unified\\ilPSP.LinSolvers.PARDISO.dll.config missing.\n",
      "---- dll: C:\\Users\\flori\\Documents\\BoSSS-kummer\\public\\doc\\handbook\\apdx-MPISolverPerformance\\unified\\ilPSP.LinSolvers.monkey.dllFound\n",
      "---- -- C:\\Users\\flori\\Documents\\BoSSS-kummer\\public\\doc\\handbook\\apdx-MPISolverPerformance\\unified\\ilPSP.LinSolvers.monkey.dll.config missing.\n",
      "---- -- C:\\Users\\flori\\Documents\\BoSSS-kummer\\public\\doc\\handbook\\apdx-MPISolverPerformance\\unified\\ilPSP.LinSolvers.monkey.dll.config missing.\n",
      "---- dll: C:\\Users\\flori\\Documents\\BoSSS-kummer\\public\\doc\\handbook\\apdx-MPISolverPerformance\\unified\\ilPSP.LinSolvers.HYPRE.dllFound\n",
      "---- -- C:\\Users\\flori\\Documents\\BoSSS-kummer\\public\\doc\\handbook\\apdx-MPISolverPerformance\\unified\\ilPSP.LinSolvers.HYPRE.dll.config missing.\n",
      "---- -- C:\\Users\\flori\\Documents\\BoSSS-kummer\\public\\doc\\handbook\\apdx-MPISolverPerformance\\unified\\ilPSP.LinSolvers.HYPRE.dll.config missing.\n",
      "---- dll: C:\\Users\\flori\\Documents\\BoSSS-kummer\\public\\doc\\handbook\\apdx-MPISolverPerformance\\unified\\BoSSS.Foundation.XDG.dllFound\n",
      "---- -- C:\\Users\\flori\\Documents\\BoSSS-kummer\\public\\doc\\handbook\\apdx-MPISolverPerformance\\unified\\BoSSS.Foundation.XDG.dll.config missing.\n",
      "---- -- C:\\Users\\flori\\Documents\\BoSSS-kummer\\public\\doc\\handbook\\apdx-MPISolverPerformance\\unified\\BoSSS.Foundation.XDG.dll.config missing.\n",
      "---- dll: C:\\Users\\flori\\Documents\\BoSSS-kummer\\public\\doc\\handbook\\apdx-MPISolverPerformance\\unified\\CommandLine.dllFound\n",
      "---- -- C:\\Users\\flori\\Documents\\BoSSS-kummer\\public\\doc\\handbook\\apdx-MPISolverPerformance\\unified\\CommandLine.dll.config missing.\n",
      "---- -- C:\\Users\\flori\\Documents\\BoSSS-kummer\\public\\doc\\handbook\\apdx-MPISolverPerformance\\unified\\CommandLine.dll.config missing.\n",
      "---- dll: C:\\Users\\flori\\Documents\\BoSSS-kummer\\public\\doc\\handbook\\apdx-MPISolverPerformance\\unified\\mscorlib.dll   SKIPPING --- \n",
      "---- dll: C:\\Users\\flori\\Documents\\BoSSS-kummer\\public\\doc\\handbook\\apdx-MPISolverPerformance\\unified\\System.Security.Permissions.dll   SKIPPING --- \n",
      "---- dll: C:\\Users\\flori\\Documents\\BoSSS-kummer\\public\\doc\\handbook\\apdx-MPISolverPerformance\\unified\\System.Windows.Extensions.dll   SKIPPING --- \n",
      "---- dll: C:\\Users\\flori\\Documents\\BoSSS-kummer\\public\\doc\\handbook\\apdx-MPISolverPerformance\\unified\\System.Drawing.Common.dll   SKIPPING --- \n",
      "---- dll: C:\\Users\\flori\\Documents\\BoSSS-kummer\\public\\doc\\handbook\\apdx-MPISolverPerformance\\unified\\Microsoft.Win32.SystemEvents.dll   SKIPPING --- \n",
      "---- dll: C:\\Users\\flori\\Documents\\BoSSS-kummer\\public\\doc\\handbook\\apdx-MPISolverPerformance\\unified\\System.Threading.AccessControl.dll   SKIPPING --- \n",
      "---- dll: C:\\Users\\flori\\Documents\\BoSSS-kummer\\public\\doc\\handbook\\apdx-MPISolverPerformance\\unified\\System.dll   SKIPPING --- \n",
      "---- dll: C:\\Users\\flori\\Documents\\BoSSS-kummer\\public\\doc\\handbook\\apdx-MPISolverPerformance\\unified\\System.CodeDom.dll   SKIPPING --- \n",
      "---- dll: C:\\Users\\flori\\Documents\\BoSSS-kummer\\public\\doc\\handbook\\apdx-MPISolverPerformance\\unified\\System.Diagnostics.PerformanceCounter.dll   SKIPPING --- \n",
      "---- dll: C:\\Users\\flori\\Documents\\BoSSS-kummer\\public\\doc\\handbook\\apdx-MPISolverPerformance\\unified\\System.Diagnostics.EventLog.dll   SKIPPING --- \n",
      "---- dll: C:\\Users\\flori\\Documents\\BoSSS-kummer\\public\\doc\\handbook\\apdx-MPISolverPerformance\\unified\\System.IO.Ports.dll   SKIPPING --- \n",
      "---- dll: C:\\Users\\flori\\Documents\\BoSSS-kummer\\public\\doc\\handbook\\apdx-MPISolverPerformance\\unified\\Microsoft.CodeAnalysis.Scripting.dllFound\n",
      "---- -- C:\\Users\\flori\\Documents\\BoSSS-kummer\\public\\doc\\handbook\\apdx-MPISolverPerformance\\unified\\Microsoft.CodeAnalysis.Scripting.dll.config missing.\n",
      "---- -- C:\\Users\\flori\\Documents\\BoSSS-kummer\\public\\doc\\handbook\\apdx-MPISolverPerformance\\unified\\Microsoft.CodeAnalysis.Scripting.dll.config missing.\n",
      "---- dll: C:\\Users\\flori\\Documents\\BoSSS-kummer\\public\\doc\\handbook\\apdx-MPISolverPerformance\\unified\\System.Resources.ResourceManager.dll   SKIPPING --- \n",
      "---- dll: C:\\Users\\flori\\Documents\\BoSSS-kummer\\public\\doc\\handbook\\apdx-MPISolverPerformance\\unified\\System.Runtime.Extensions.dll   SKIPPING --- \n"
     ]
    },
    {
     "name": "stdout",
     "output_type": "stream",
     "text": [
      "---- dll: C:\\Users\\flori\\Documents\\BoSSS-kummer\\public\\doc\\handbook\\apdx-MPISolverPerformance\\unified\\Microsoft.CodeAnalysis.dllFound\n",
      "---- -- C:\\Users\\flori\\Documents\\BoSSS-kummer\\public\\doc\\handbook\\apdx-MPISolverPerformance\\unified\\Microsoft.CodeAnalysis.dll.config missing.\n",
      "---- -- C:\\Users\\flori\\Documents\\BoSSS-kummer\\public\\doc\\handbook\\apdx-MPISolverPerformance\\unified\\Microsoft.CodeAnalysis.dll.config missing.\n",
      "---- dll: C:\\Users\\flori\\Documents\\BoSSS-kummer\\public\\doc\\handbook\\apdx-MPISolverPerformance\\unified\\System.Diagnostics.Debug.dll   SKIPPING --- \n",
      "---- dll: C:\\Users\\flori\\Documents\\BoSSS-kummer\\public\\doc\\handbook\\apdx-MPISolverPerformance\\unified\\System.Threading.Tasks.dll   SKIPPING --- \n",
      "---- dll: C:\\Users\\flori\\Documents\\BoSSS-kummer\\public\\doc\\handbook\\apdx-MPISolverPerformance\\unified\\System.IO.FileSystem.dll   SKIPPING --- \n",
      "---- dll: C:\\Users\\flori\\Documents\\BoSSS-kummer\\public\\doc\\handbook\\apdx-MPISolverPerformance\\unified\\System.Text.Encoding.CodePages.dll   SKIPPING --- \n",
      "---- dll: C:\\Users\\flori\\Documents\\BoSSS-kummer\\public\\doc\\handbook\\apdx-MPISolverPerformance\\unified\\Microsoft.CodeAnalysis.CSharp.dllFound\n",
      "---- -- C:\\Users\\flori\\Documents\\BoSSS-kummer\\public\\doc\\handbook\\apdx-MPISolverPerformance\\unified\\Microsoft.CodeAnalysis.CSharp.dll.config missing.\n",
      "---- -- C:\\Users\\flori\\Documents\\BoSSS-kummer\\public\\doc\\handbook\\apdx-MPISolverPerformance\\unified\\Microsoft.CodeAnalysis.CSharp.dll.config missing.\n",
      "---- dll: C:\\Users\\flori\\Documents\\BoSSS-kummer\\public\\doc\\handbook\\apdx-MPISolverPerformance\\unified\\Microsoft.CodeAnalysis.CSharp.Scripting.dllFound\n",
      "---- -- C:\\Users\\flori\\Documents\\BoSSS-kummer\\public\\doc\\handbook\\apdx-MPISolverPerformance\\unified\\Microsoft.CodeAnalysis.CSharp.Scripting.dll.config missing.\n",
      "---- -- C:\\Users\\flori\\Documents\\BoSSS-kummer\\public\\doc\\handbook\\apdx-MPISolverPerformance\\unified\\Microsoft.CodeAnalysis.CSharp.Scripting.dll.config missing.\n",
      "---- dll: C:\\Users\\flori\\Documents\\BoSSS-kummer\\public\\doc\\handbook\\apdx-MPISolverPerformance\\unified\\MathNet.Numerics.dllFound\n",
      "---- -- C:\\Users\\flori\\Documents\\BoSSS-kummer\\public\\doc\\handbook\\apdx-MPISolverPerformance\\unified\\MathNet.Numerics.dll.config missing.\n",
      "---- -- C:\\Users\\flori\\Documents\\BoSSS-kummer\\public\\doc\\handbook\\apdx-MPISolverPerformance\\unified\\MathNet.Numerics.dll.config missing.\n",
      "---- dll: C:\\Users\\flori\\Documents\\BoSSS-kummer\\public\\doc\\handbook\\apdx-MPISolverPerformance\\unified\\BoSSS.Foundation.Grid.dllFound\n",
      "---- -- C:\\Users\\flori\\Documents\\BoSSS-kummer\\public\\doc\\handbook\\apdx-MPISolverPerformance\\unified\\BoSSS.Foundation.Grid.dll.config missing.\n",
      "---- -- C:\\Users\\flori\\Documents\\BoSSS-kummer\\public\\doc\\handbook\\apdx-MPISolverPerformance\\unified\\BoSSS.Foundation.Grid.dll.config missing.\n",
      "---- dll: C:\\Users\\flori\\Documents\\BoSSS-kummer\\public\\doc\\handbook\\apdx-MPISolverPerformance\\unified\\MIConvexHull.dllFound\n",
      "---- -- C:\\Users\\flori\\Documents\\BoSSS-kummer\\public\\doc\\handbook\\apdx-MPISolverPerformance\\unified\\MIConvexHull.dll.config missing.\n",
      "---- -- C:\\Users\\flori\\Documents\\BoSSS-kummer\\public\\doc\\handbook\\apdx-MPISolverPerformance\\unified\\MIConvexHull.dll.config missing.\n",
      "---- dll: C:\\Users\\flori\\Documents\\BoSSS-kummer\\public\\doc\\handbook\\apdx-MPISolverPerformance\\unified\\System.Core.dll   SKIPPING --- \n",
      "---- dll: C:\\Users\\flori\\Documents\\BoSSS-kummer\\public\\doc\\handbook\\apdx-MPISolverPerformance\\unified\\System.IO.Pipes.AccessControl.dll   SKIPPING --- \n",
      "---- dll: C:\\Users\\flori\\Documents\\BoSSS-kummer\\public\\doc\\handbook\\apdx-MPISolverPerformance\\unified\\BoSSS.Solution.Tecplot.dllFound\n",
      "---- -- C:\\Users\\flori\\Documents\\BoSSS-kummer\\public\\doc\\handbook\\apdx-MPISolverPerformance\\unified\\BoSSS.Solution.Tecplot.dll.config missing.\n",
      "---- -- C:\\Users\\flori\\Documents\\BoSSS-kummer\\public\\doc\\handbook\\apdx-MPISolverPerformance\\unified\\BoSSS.Solution.Tecplot.dll.config missing.\n",
      "Deployment directory: X:\\jenkins\\deploy\\WIP-k-LinslvPerfPar-GridGen2022Aug30_174341.950126\n",
      "copied 25 files.\n",
      "   written file: control.obj\n",
      "deployment finished.\n"
     ]
    },
    {
     "name": "stderr",
     "output_type": "stream",
     "text": [
      "stderr received: Lmod: loading emacs 27.1 \n",
      "Lmod: loading git 2.35.1 \n",
      "Lmod: loading gcc 8.5.0 \n",
      "Lmod: loading cmake 3.19.3 \n",
      "Lmod: loading mono 6.12.0 \n",
      "Lmod: loading openmpi 4.1.4 \n",
      "Lmod: loading python 3.9.5 \n",
      "----- (end of stderr)\n",
      "stderr received: Lmod: loading emacs 27.1 \n",
      "Lmod: loading git 2.35.1 \n",
      "Lmod: loading gcc 8.5.0 \n",
      "Lmod: loading cmake 3.19.3 \n",
      "Lmod: loading mono 6.12.0 \n",
      "Lmod: loading openmpi 4.1.4 \n",
      "Lmod: loading python 3.9.5 \n",
      "----- (end of stderr)\n"
     ]
    },
    {
     "name": "stdout",
     "output_type": "stream",
     "text": [
      "\r\n"
     ]
    }
   ],
   "source": [
    "foreach(var tt in ggcS) {\n",
    "    if(tt.C != null) {\n",
    "    Console.WriteLine(\" Submitting: \" + tt.C.SessionName); \n",
    "    var j = tt.C.CreateJob();\n",
    "    j.RetryCount = 2;\n",
    "    j.NumberOfMPIProcs = tt.MPIsize;\n",
    "    j.Activate();\n",
    "    break;\n",
    "    }\n",
    "}"
   ]
  },
  {
   "cell_type": "code",
   "execution_count": 9,
   "metadata": {
    "dotnet_interactive": {
     "language": "csharp"
    },
    "vscode": {
     "languageId": "dotnet-interactive.csharp"
    }
   },
   "outputs": [
    {
     "name": "stdout",
     "output_type": "stream",
     "text": [
      "All jobs finished.\r\n"
     ]
    },
    {
     "data": {
      "text/plain": [
       "#0: GridCreation-WIP-k-LinslvPerfPar-Stokes3D_J512: FailedOrCanceled (SlurmClient Lb2-specialPrj-Jenkins : fk69umer@lcluster16.hrz.tu-darmstadt.de, Slurm account: special00006)\tGridCreation-WIP-k-LinslvPerfPar-Stokes3D_J512: FailedOrCanceled (SlurmClient Lb2-specialPrj-Jenkins : fk69umer@lcluster16.hrz.tu-darmstadt.de, Slurm account: special00006)\r\n"
      ]
     },
     "execution_count": 9,
     "metadata": {},
     "output_type": "execute_result"
    }
   ],
   "source": [
    "wmg.BlockUntilAllJobsTerminate(3600*24*2); // wait at maximum two days for the jobs to finish\n",
    "wmg.AllJobs"
   ]
  },
  {
   "cell_type": "code",
   "execution_count": 12,
   "metadata": {},
   "outputs": [
    {
     "name": "stdout",
     "output_type": "stream",
     "text": [
      "Deleted deployment WIP-k-LinslvPerfPar-GridGen2022Aug30_172056.081270\r\n"
     ]
    }
   ],
   "source": [
    "foreach(var j in wmg.AllJobs.Values)\n",
    "   j.DeleteOldDeploymentsAndSessions();"
   ]
  },
  {
   "cell_type": "code",
   "execution_count": 11,
   "metadata": {
    "dotnet_interactive": {
     "language": "csharp"
    },
    "vscode": {
     "languageId": "dotnet-interactive.csharp"
    }
   },
   "outputs": [
    {
     "data": {
      "text/plain": [
       "{ Session Count = 193; Grid Count = 16; Path = X:\\jenkins\\databases\\WIP-k-LinslvPerfPar }"
      ]
     },
     "execution_count": 11,
     "metadata": {},
     "output_type": "execute_result"
    }
   ],
   "source": [
    "wmg.DefaultDatabase"
   ]
  },
  {
   "cell_type": "code",
   "execution_count": 12,
   "metadata": {},
   "outputs": [
    {
     "name": "stdout",
     "output_type": "stream",
     "text": [
      "Searching for grid with 512 cells\r\n"
     ]
    },
    {
     "name": "stderr",
     "output_type": "stream",
     "text": [
      "missing: J = 512\r\n"
     ]
    },
    {
     "name": "stdout",
     "output_type": "stream",
     "text": [
      "Searching for grid with 4096 cells\r\n"
     ]
    },
    {
     "name": "stderr",
     "output_type": "stream",
     "text": [
      "missing: J = 4096\r\n"
     ]
    },
    {
     "name": "stdout",
     "output_type": "stream",
     "text": [
      "Searching for grid with 13824 cells\r\n"
     ]
    },
    {
     "name": "stderr",
     "output_type": "stream",
     "text": [
      "missing: J = 13824\r\n"
     ]
    },
    {
     "name": "stdout",
     "output_type": "stream",
     "text": [
      "Searching for grid with 32768 cells\r\n"
     ]
    },
    {
     "name": "stderr",
     "output_type": "stream",
     "text": [
      "missing: J = 32768\r\n"
     ]
    },
    {
     "name": "stdout",
     "output_type": "stream",
     "text": [
      "Searching for grid with 110592 cells\r\n"
     ]
    },
    {
     "name": "stderr",
     "output_type": "stream",
     "text": [
      "missing: J = 110592\r\n"
     ]
    },
    {
     "name": "stdout",
     "output_type": "stream",
     "text": [
      "Searching for grid with 262144 cells\r\n"
     ]
    },
    {
     "name": "stderr",
     "output_type": "stream",
     "text": [
      "missing: J = 262144\r\n"
     ]
    },
    {
     "name": "stdout",
     "output_type": "stream",
     "text": [
      "Searching for grid with 2097152 cells\r\n"
     ]
    },
    {
     "name": "stderr",
     "output_type": "stream",
     "text": [
      "missing: J = 2097152\r\n"
     ]
    },
    {
     "name": "stdout",
     "output_type": "stream",
     "text": [
      "Searching for grid with 16777216 cells\r\n"
     ]
    },
    {
     "name": "stderr",
     "output_type": "stream",
     "text": [
      "missing: J = 16777216\r\n"
     ]
    }
   ],
   "source": [
    "IGridInfo[] grids = new IGridInfo[Resolutions_3D.Length];\n",
    "for(int cnt = 0; cnt < Resolutions_3D.Length; cnt++) {\n",
    "    int Res = Resolutions_3D[cnt];    \n",
    "    int J = Res*Res*Res;\n",
    "    \n",
    "    Console.WriteLine(\"Searching for grid with \" + J + \" cells\");\n",
    "    grids[cnt] = wmg.Grids.FirstOrDefault(grd => grd.Name.Contains(GridNameS[cnt])); // grid must be present now\n",
    "    \n",
    "    if(grids[cnt] != null) {\n",
    "        Console.WriteLine(\"Found Grid: \" + grids[cnt]);\n",
    "        if(grids[cnt].NumberOfCells != J)\n",
    "            throw new Exception(\"J mismatch\");\n",
    "\n",
    "        if(grids[cnt].SpatialDimension != 3)\n",
    "            throw new Exception(\"D mismatch\");\n",
    "    } else {\n",
    "        Console.Error.WriteLine(\"missing: J = \" + J);\n",
    "    }\n",
    "}"
   ]
  },
  {
   "cell_type": "code",
   "execution_count": 13,
   "metadata": {},
   "outputs": [
    {
     "data": {
      "text/plain": [
       "#0: NULL\r\n",
       "#1: NULL\r\n",
       "#2: NULL\r\n",
       "#3: NULL\r\n",
       "#4: NULL\r\n",
       "#5: NULL\r\n",
       "#6: NULL\r\n",
       "#7: NULL\r\n"
      ]
     },
     "execution_count": 13,
     "metadata": {},
     "output_type": "execute_result"
    }
   ],
   "source": [
    "grids"
   ]
  },
  {
   "cell_type": "markdown",
   "metadata": {
    "dotnet_interactive": {
     "language": "csharp"
    }
   },
   "source": [
    "## Setup Control Object for a Solver Run"
   ]
  },
  {
   "cell_type": "code",
   "execution_count": null,
   "metadata": {
    "dotnet_interactive": {
     "language": "csharp"
    },
    "vscode": {
     "languageId": "dotnet-interactive.csharp"
    }
   },
   "outputs": [],
   "source": [
    "// - - - - - - - - - - - - - - - - - - -\n",
    "// Initial Values & Boundary conditions\n",
    "// - - - - - - - - - - - - - - - - - - -"
   ]
  },
  {
   "cell_type": "code",
   "execution_count": null,
   "metadata": {
    "dotnet_interactive": {
     "language": "csharp"
    },
    "vscode": {
     "languageId": "dotnet-interactive.csharp"
    }
   },
   "outputs": [],
   "source": [
    "using BoSSS.Application.XNSE_Solver;\n",
    "using BoSSS.Solution.LevelSetTools;\n",
    "using BoSSS.Solution.AdvancedSolvers;\n",
    "using BoSSS.Solution.XNSECommon;\n",
    "using BoSSS.Solution.Timestepping;\n",
    "using BoSSS.Solution.XdgTimestepping ;"
   ]
  },
  {
   "cell_type": "markdown",
   "metadata": {},
   "source": [
    "### Boundary Conditions and Exact Solution\n",
    "\n",
    "Note that the 3D-example given by Botti and Di Pietro is only a manufactured solution, i.e. it fulfills the continuity, but not the momentum equation;\n",
    "Hence, some non-zero right-hand-side for the momentum is required."
   ]
  },
  {
   "cell_type": "code",
   "execution_count": null,
   "metadata": {
    "dotnet_interactive": {
     "language": "csharp"
    },
    "vscode": {
     "languageId": "dotnet-interactive.csharp"
    }
   },
   "outputs": [],
   "source": [
    "var VelocityX = new Formula(\"(X) => 2.0*Math.Sin(Math.PI*X[0])\");"
   ]
  },
  {
   "cell_type": "code",
   "execution_count": null,
   "metadata": {
    "dotnet_interactive": {
     "language": "csharp"
    },
    "vscode": {
     "languageId": "dotnet-interactive.csharp"
    }
   },
   "outputs": [],
   "source": [
    "var VelocityY = new Formula(\"(X) => -Math.PI*X[1]*Math.Cos(Math.PI*X[0])\");"
   ]
  },
  {
   "cell_type": "code",
   "execution_count": null,
   "metadata": {
    "dotnet_interactive": {
     "language": "csharp"
    },
    "vscode": {
     "languageId": "dotnet-interactive.csharp"
    }
   },
   "outputs": [],
   "source": [
    "var VelocityZ = new Formula(\"(X) =>  -Math.PI*X[2]*Math.Cos(Math.PI*X[0])\");"
   ]
  },
  {
   "cell_type": "code",
   "execution_count": null,
   "metadata": {
    "dotnet_interactive": {
     "language": "csharp"
    },
    "vscode": {
     "languageId": "dotnet-interactive.csharp"
    }
   },
   "outputs": [],
   "source": [
    "var Pressure = new Formula(\"(X) => Math.Sin(Math.PI*X[1])*Math.Cos(Math.PI*X[1])*Math.Sin(Math.PI*X[2])\");"
   ]
  },
  {
   "cell_type": "code",
   "execution_count": null,
   "metadata": {
    "dotnet_interactive": {
     "language": "csharp"
    },
    "vscode": {
     "languageId": "dotnet-interactive.csharp"
    }
   },
   "outputs": [],
   "source": [
    "var RhsX = new Formula(\"(X) => -(2*Math.PI.Pow2()*Math.Sin(Math.PI*X[0]) + Math.PI*Math.Cos(Math.PI*X[0])*Math.Cos(Math.PI*X[1])*Math.Sin(Math.PI*X[2]))\");"
   ]
  },
  {
   "cell_type": "code",
   "execution_count": null,
   "metadata": {
    "dotnet_interactive": {
     "language": "csharp"
    },
    "vscode": {
     "languageId": "dotnet-interactive.csharp"
    }
   },
   "outputs": [],
   "source": [
    "var RhsY = new Formula(\"(X) => -(-Math.PI*(Math.Cos(Math.PI*X[0])*Math.PI.Pow2()*X[1] + Math.Sin(Math.PI*X[0])*Math.Sin(Math.PI*X[1])*Math.Sin(Math.PI*X[2])))\");"
   ]
  },
  {
   "cell_type": "code",
   "execution_count": null,
   "metadata": {
    "dotnet_interactive": {
     "language": "csharp"
    },
    "vscode": {
     "languageId": "dotnet-interactive.csharp"
    }
   },
   "outputs": [],
   "source": [
    "var RhsZ = new Formula(\"(X) => -(-Math.PI*(Math.Cos(Math.PI*X[0])*Math.PI.Pow2()*X[2] - Math.Cos(Math.PI*X[1])*Math.Cos(Math.PI*X[2])*Math.Sin(Math.PI*X[0])))\");"
   ]
  },
  {
   "cell_type": "code",
   "execution_count": null,
   "metadata": {
    "dotnet_interactive": {
     "language": "csharp"
    },
    "vscode": {
     "languageId": "dotnet-interactive.csharp"
    }
   },
   "outputs": [],
   "source": [
    "NUnit.Framework.Assert.Less((VelocityX.Evaluate(new double[] { 0.3, 0.3, 0.7 }, 0) - (1.618033989)).Abs(), 1.0e-9, \n",
    "     \"x-Velocity expression differs from reference value\");\n",
    "NUnit.Framework.Assert.Less((VelocityY.Evaluate(new double[] { 0.3, 0.3, 0.7 }, 0) - (-0.5539745491)).Abs(), 1.0e-9, \n",
    "     \"y-Velocity expression differs from reference value\");\n",
    "NUnit.Framework.Assert.Less((VelocityZ.Evaluate(new double[] { 0.3, 0.3, 0.7 }, 0) - (-1.292607281)).Abs(), 1.0e-9, \n",
    "     \"z-Velocity expression differs from reference value\");\n",
    "NUnit.Framework.Assert.Less((Pressure.Evaluate(new double[] { 0.3, 0.3, 0.7 }, 0) - (0.3847104420)).Abs(), 1.0e-9, \n",
    "     \"pressure expression differs from reference value\");\n",
    "NUnit.Framework.Assert.Less((RhsX.Evaluate(new double[] { 0.3, 0.3, 0.7 }, 0) - (-16.84745722)).Abs(), 1.0e-8, \n",
    "     \"Rhs of x-Momentum expression differs from reference value\");\n",
    "NUnit.Framework.Assert.Less((RhsY.Evaluate(new double[] { 0.3, 0.3, 0.7 }, 0) - (+7.131009654)).Abs(), 1.0e-8, \n",
    "     \"Rhs of y-Momentum expression differs from reference value\");\n",
    "NUnit.Framework.Assert.Less((RhsZ.Evaluate(new double[] { 0.3, 0.3, 0.7 }, 0) - (+13.63562436)).Abs(), 1.0e-8, \n",
    "     \"Rhs of z-Momentum expression differs from reference value\");"
   ]
  },
  {
   "cell_type": "markdown",
   "metadata": {
    "dotnet_interactive": {
     "language": "csharp"
    }
   },
   "source": [
    "### Setup of Parameter Study"
   ]
  },
  {
   "cell_type": "markdown",
   "metadata": {},
   "source": [
    "Polynomial degrees to test:"
   ]
  },
  {
   "cell_type": "code",
   "execution_count": null,
   "metadata": {
    "dotnet_interactive": {
     "language": "csharp"
    },
    "vscode": {
     "languageId": "dotnet-interactive.csharp"
    }
   },
   "outputs": [],
   "source": [
    "int[] PolyDegS = new int[] {2, 3, 5};"
   ]
  },
  {
   "cell_type": "markdown",
   "metadata": {},
   "source": [
    "Number of processors:"
   ]
  },
  {
   "cell_type": "code",
   "execution_count": null,
   "metadata": {},
   "outputs": [],
   "source": [
    "int[] MPIsizes = new int[] { 1, 2, 4, 8, 16, 32, 64, 128 };"
   ]
  },
  {
   "cell_type": "markdown",
   "metadata": {},
   "source": [
    "Loop over all combinations of parameters and define a control object for each combo:"
   ]
  },
  {
   "cell_type": "code",
   "execution_count": null,
   "metadata": {
    "dotnet_interactive": {
     "language": "csharp"
    },
    "vscode": {
     "languageId": "dotnet-interactive.csharp"
    }
   },
   "outputs": [],
   "source": [
    "using BoSSS.Solution.XNSECommon;\n",
    "using BoSSS.Foundation.XDG;"
   ]
  },
  {
   "cell_type": "code",
   "execution_count": null,
   "metadata": {
    "dotnet_interactive": {
     "language": "csharp"
    },
    "vscode": {
     "languageId": "dotnet-interactive.csharp"
    }
   },
   "outputs": [],
   "source": [
    "var controls = new List<(XNSE_Control ctrl, int NoOfProcs)>();\n",
    "LinearSolverCode solver_name = LinearSolverCode.exp_Kcycle_schwarz;\n",
    "foreach(int k in PolyDegS) {\n",
    "foreach(IGridInfo grd in grids) {\n",
    "foreach(int MPIsize in MPIsizes) {\n",
    "    \n",
    "    int Np_V = Utils.Np(k);\n",
    "    int Np_p = Utils.Np(k-1);\n",
    "    int J    = grd.NumberOfCells;\n",
    "    int DOF  = Np_V*3 + Np_p;\n",
    "    if(J / MPIsize < 16) {\n",
    "        // less than 16 cells per processor - to low for a multigrid.\n",
    "        continue; \n",
    "    }\n",
    "    if(DOF/MPIsize > 500000) {\n",
    "        // not interested in doing more then 500'000 DOFs per processor\n",
    "        continue;\n",
    "    } \n",
    "    \n",
    "    // Control Instance, grid, DG degree, etc.\n",
    "    // =======================================\n",
    "    \n",
    "    XNSE_Control C = new XNSE_Control();\n",
    "    controls.Add((C, MPIsize);\n",
    "       \n",
    "    string caseName = string.Format(\"BottiPietroStokes3D-J{0}_p{1}_{2}\", J, k, solver);\n",
    "    Console.WriteLine(\"setting up: \" + caseName);\n",
    "    C.SessionName        = caseName;\n",
    "    \n",
    "    C.SetGrid(grd);\n",
    "    C.savetodb = true;\n",
    "    C.SetDGdegree(k);\n",
    "    \n",
    "    // Phys. Parameters\n",
    "    // ================\n",
    "    \n",
    "    C.PhysicalParameters.rho_A             = 1; // not relevant, since density is not present in steady-state Stokes.\n",
    "    C.PhysicalParameters.rho_B             = 1; // not relevant, since density is not present in steady-state Stokes.\n",
    "    C.PhysicalParameters.mu_A              = 1; // dimensionless\n",
    "    C.PhysicalParameters.mu_B              = 1; // dimensionless\n",
    "    C.PhysicalParameters.Sigma             = 0; // not relevant, since single phase\n",
    "    C.PhysicalParameters.IncludeConvection = false;\n",
    "    C.PhysicalParameters.Material          = true;\n",
    "    \n",
    "    // Boundary Conditions\n",
    "    // ===================\n",
    "    C.AddBoundaryValue(\"wall\", \"VelocityX\", VelocityX);\n",
    "    C.AddBoundaryValue(\"wall\", \"VelocityY\", VelocityY);\n",
    "    C.AddBoundaryValue(\"wall\", \"VelocityZ\", VelocityZ);\n",
    "    \n",
    "    // RHS of the manufactured solution\n",
    "    // ================================\n",
    "\n",
    "    C.AddInitialValue(\"VolumeForceX\", RhsX);\n",
    "    C.AddInitialValue(\"VolumeForceY\", RhsY);\n",
    "    C.AddInitialValue(\"VolumeForceZ\", RhsZ);\n",
    "\n",
    "   \n",
    "    // Solver Stuff\n",
    "    // ============\n",
    "    \n",
    "    //C.VelocityBlockPrecondMode         = MultigridOperator.Mode.SymPart_DiagBlockEquilib;\n",
    "    \n",
    "    C.LinearSolver           = solver.GetConfig();\n",
    "    if(C.LinearSolver is IterativeSolverConfig isc) {\n",
    "        isc.ConvergenceCriterion = 1e-8;\n",
    "    }\n",
    "    C.LevelSet_ConvergenceCriterion     = 1e-6;\n",
    "    C.NoOfMultigridLevels = 100;\n",
    "    C.TracingNamespaces = \"BoSSS.Solution\";\n",
    "\n",
    "    // Timestepping / Instationary\n",
    "    // ===========================\n",
    "\n",
    "    C.TimesteppingMode             = AppControl._TimesteppingMode.Steady;\n",
    "}\n",
    "}\n",
    "}"
   ]
  },
  {
   "cell_type": "markdown",
   "metadata": {},
   "source": [
    "Total number of simulations:"
   ]
  },
  {
   "cell_type": "code",
   "execution_count": null,
   "metadata": {
    "dotnet_interactive": {
     "language": "csharp"
    },
    "vscode": {
     "languageId": "dotnet-interactive.csharp"
    }
   },
   "outputs": [],
   "source": [
    "controls.Count"
   ]
  },
  {
   "cell_type": "code",
   "execution_count": null,
   "metadata": {
    "dotnet_interactive": {
     "language": "csharp"
    },
    "vscode": {
     "languageId": "dotnet-interactive.csharp"
    }
   },
   "outputs": [],
   "source": [
    "// Basic checks on the multigrid configuration\n",
    "foreach(var ctrl in controls) {\n",
    "    NUnit.Framework.Assert.Greater(ctrl.NoOfMultigridLevels, 1, \"More than 1 multigrid level must be set\");\n",
    "    if(ctrl.LinearSolver is OrthoMGSchwarzConfig osc)\n",
    "        NUnit.Framework.Assert.Greater(osc.NoOfMultigridLevels, 1, \"More than 1 multigrid level must be set\");\n",
    "}"
   ]
  },
  {
   "cell_type": "code",
   "execution_count": null,
   "metadata": {
    "dotnet_interactive": {
     "language": "csharp"
    },
    "vscode": {
     "languageId": "dotnet-interactive.csharp"
    }
   },
   "outputs": [],
   "source": [
    "//string path = @\"C:\\Users\\kummer\\Documents\\BoSSS-kummer\\public\\src\\L4-application\\XNSE_Solver\\bin\\release\\net5.0\\Stokes3D\";\n",
    "//foreach(var ctrl in controls) {\n",
    "//    ctrl.savetodb = false;\n",
    "//    ctrl.SaveToFile(System.IO.Path.Combine(path, \"control-\" + ctrl.SessionName + \".obj\"));\n",
    "//}"
   ]
  },
  {
   "cell_type": "markdown",
   "metadata": {
    "dotnet_interactive": {
     "language": "csharp"
    }
   },
   "source": [
    "## Launch Jobs"
   ]
  },
  {
   "cell_type": "markdown",
   "metadata": {},
   "source": [
    "Use the default queue defined on this machine:"
   ]
  },
  {
   "cell_type": "code",
   "execution_count": null,
   "metadata": {
    "dotnet_interactive": {
     "language": "csharp"
    },
    "vscode": {
     "languageId": "dotnet-interactive.csharp"
    }
   },
   "outputs": [],
   "source": [
    "ExecutionQueues"
   ]
  },
  {
   "cell_type": "code",
   "execution_count": null,
   "metadata": {
    "dotnet_interactive": {
     "language": "csharp"
    },
    "vscode": {
     "languageId": "dotnet-interactive.csharp"
    }
   },
   "outputs": [],
   "source": [
    "var myBatch = GetDefaultQueue();\n",
    "myBatch"
   ]
  },
  {
   "cell_type": "code",
   "execution_count": null,
   "metadata": {
    "dotnet_interactive": {
     "language": "csharp"
    },
    "vscode": {
     "languageId": "dotnet-interactive.csharp"
    }
   },
   "outputs": [],
   "source": [
    "foreach((var ctrl, int MPIsize) in controls) {\n",
    "    Console.WriteLine(\" Submitting: \" + ctrl.SessionName); \n",
    "    var j = ctrl.CreateJob();\n",
    "    j.RetryCount = 1;\n",
    "    j.NumberOfMPIProcs = MPIsize;\n",
    "    j.Activate(myBatch);\n",
    "    //ctrl.RunBatch();\n",
    "}"
   ]
  },
  {
   "cell_type": "code",
   "execution_count": null,
   "metadata": {
    "dotnet_interactive": {
     "language": "csharp"
    },
    "vscode": {
     "languageId": "dotnet-interactive.csharp"
    }
   },
   "outputs": [],
   "source": [
    "//foreach(var j in wmg.AllJobs.Values) {\n",
    "//    j.DeleteOldDeploymentsAndSessions();\n",
    "//}"
   ]
  },
  {
   "cell_type": "markdown",
   "metadata": {},
   "source": [
    "### Wait for Completion and Check Job Status"
   ]
  },
  {
   "cell_type": "code",
   "execution_count": null,
   "metadata": {
    "dotnet_interactive": {
     "language": "csharp"
    },
    "vscode": {
     "languageId": "dotnet-interactive.csharp"
    }
   },
   "outputs": [],
   "source": [
    "wmg.BlockUntilAllJobsTerminate(3600*24*2); // wait at maximum two days for the jobs to finish"
   ]
  },
  {
   "cell_type": "code",
   "execution_count": null,
   "metadata": {
    "dotnet_interactive": {
     "language": "csharp"
    },
    "vscode": {
     "languageId": "dotnet-interactive.csharp"
    }
   },
   "outputs": [],
   "source": [
    "wmg.AllJobs"
   ]
  },
  {
   "cell_type": "code",
   "execution_count": null,
   "metadata": {
    "dotnet_interactive": {
     "language": "csharp"
    },
    "vscode": {
     "languageId": "dotnet-interactive.csharp"
    }
   },
   "outputs": [],
   "source": [
    "wmg.Sessions.Where(sess => sess.Name.StartsWith(\"BottiPietroStokes3D-J\"))"
   ]
  },
  {
   "cell_type": "code",
   "execution_count": null,
   "metadata": {},
   "outputs": [],
   "source": [
    "int succJob = wmg.AllJobs.Values.Where(job => job.Status == JobStatus.FinishedSuccessful).Count();\n",
    "int succSess = wmg.Sessions.Where(Si => Si.Name.Contains(\"BottiPietroStokes3D-J\") && (Si.SuccessfulTermination == true)).Count();\n",
    "(succJob, succSess)"
   ]
  },
  {
   "cell_type": "code",
   "execution_count": null,
   "metadata": {},
   "outputs": [],
   "source": [
    "int failJob = wmg.AllJobs.Values.Where(job => job.Status != JobStatus.FinishedSuccessful).Count();\n",
    "int failSess = wmg.Sessions.Where(Si => Si.Name.Contains(\"BottiPietroStokes3D-J\") && (Si.SuccessfulTermination == false)).Count();\n",
    "(failJob, failSess)"
   ]
  },
  {
   "cell_type": "code",
   "execution_count": null,
   "metadata": {},
   "outputs": [],
   "source": [
    "NUnit.Framework.Assert.AreEqual(succJob + failJob, controls.Count);\n",
    "//NUnit.Framework.Assert.AreEqual(succJob, succSess);\n",
    "//NUnit.Framework.Assert.AreEqual(failJob, failSess);"
   ]
  },
  {
   "cell_type": "code",
   "execution_count": null,
   "metadata": {},
   "outputs": [],
   "source": [
    "var NoSuccess = wmg.AllJobs.Values\n",
    "                        .Where(job => job.Status != JobStatus.FinishedSuccessful)\n",
    "                        .ToArray();\n",
    "NoSuccess"
   ]
  },
  {
   "cell_type": "code",
   "execution_count": null,
   "metadata": {},
   "outputs": [],
   "source": [
    "foreach(var fail in NoSuccess)\n",
    "    Console.WriteLine(fail + \":  @\" + ((fail.LatestDeployment?.DeploymentDirectory?.FullName) ?? \" no deployment directory\"));"
   ]
  },
  {
   "cell_type": "code",
   "execution_count": null,
   "metadata": {},
   "outputs": [],
   "source": [
    "var FailedSessions = wmg.Sessions.Where(Si => Si.Name.Contains(\"BottiPietroStokes3D\") && !Si.Name.Contains(\"GridCreation\") &&\n",
    "                                        (Si.SuccessfulTermination == false\n",
    "                                        || Convert.ToInt32(Si.KeysAndQueries[\"Conv\"]) == 0));\n",
    "FailedSessions"
   ]
  }
 ],
 "metadata": {
  "kernelspec": {
   "display_name": ".NET (C#)",
   "language": "C#",
   "name": ".net-csharp"
  },
  "language_info": {
   "file_extension": ".cs",
   "mimetype": "text/x-csharp",
   "name": "C#",
   "pygments_lexer": "csharp",
   "version": "10.0"
  }
 },
 "nbformat": 4,
 "nbformat_minor": 4
}
