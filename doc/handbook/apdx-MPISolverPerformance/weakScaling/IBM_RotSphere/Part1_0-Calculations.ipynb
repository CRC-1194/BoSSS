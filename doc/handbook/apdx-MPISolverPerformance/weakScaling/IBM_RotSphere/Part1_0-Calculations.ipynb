{
 "cells": [
  {
   "cell_type": "code",
   "execution_count": null,
   "source": [
    "#r \"./../../../../../../public/src/L4-application/BoSSSpad/bin/Release/net5.0/BoSSSpad.dll\"\r\n",
    "using System;\r\n",
    "using ilPSP;\r\n",
    "using ilPSP.Utils;\r\n",
    "using BoSSS.Platform;\r\n",
    "using BoSSS.Foundation;\r\n",
    "using BoSSS.Foundation.XDG;\r\n",
    "using BoSSS.Foundation.Grid;\r\n",
    "using BoSSS.Solution;\r\n",
    "using BoSSS.Application.XNSE_Solver;\r\n",
    "using BoSSS.Application.BoSSSpad;\r\n",
    "using BoSSS.Foundation.Grid.Classic;\r\n",
    "using BoSSS.Foundation.IO;\r\n",
    "using BoSSS.Solution.AdvancedSolvers;\r\n",
    "using BoSSS.Solution.Control;\r\n",
    "using BoSSS.Solution.XNSECommon;\r\n",
    "using BoSSS.Solution.NSECommon;\r\n",
    "using BoSSS.Application.XNSE_Solver.LoadBalancing;\r\n",
    "using BoSSS.Solution.LevelSetTools;\r\n",
    "using BoSSS.Solution.XdgTimestepping;\r\n",
    "\r\n",
    "using static BoSSS.Application.BoSSSpad.BoSSSshell;\r\n",
    "Init();"
   ],
   "outputs": [],
   "metadata": {
    "dotnet_interactive": {
     "language": "csharp"
    }
   }
  },
  {
   "cell_type": "code",
   "execution_count": null,
   "source": [
    "struct Parameterz{\r\n",
    "    public Parameterz(int _Cores, int _Poly, int _Res){\r\n",
    "        Cores = _Cores;\r\n",
    "        Poly = _Poly;\r\n",
    "        Res = _Res;\r\n",
    "    }\r\n",
    "    public int Cores;\r\n",
    "    public int Poly;\r\n",
    "    public int Res;\r\n",
    "}"
   ],
   "outputs": [],
   "metadata": {
    "dotnet_interactive": {
     "language": "csharp"
    }
   }
  },
  {
   "cell_type": "code",
   "execution_count": null,
   "source": [
    "// set parameterz\r\n",
    "var Parameterz = new List<Parameterz>();\r\n",
    "\r\n",
    "/*\r\n",
    "Values for stretch in x-direction = 1, meaning: cells = Res * stretch * Res * Res\r\n",
    "\r\n",
    "k2\tcores\tN\tRes\t\tcells\tDOF per core\t\r\n",
    "\t4\t34\t10.55667192\t11\t1331\t11314\t\r\n",
    "\t8\t34\t13.30057317\t14\t2744\t11662\t\r\n",
    "\t16\t34\t16.75767211\t17\t4913\t10440\t\r\n",
    "\t32\t34\t21.11334384\t22\t10648\t11314\t\r\n",
    "\t64\t34\t26.60114634\t28\t21952\t11662\t\r\n",
    "\t128\t34\t33.51534422\t34\t39304\t10440\t\r\n",
    "\t256\t34\t42.22668768\t44\t85184\t11314\t\r\n",
    "\t512\t34\t53.20229267\t56\t175616\t11662\t\r\n",
    "\t1024\t34\t67.03068844\t68\t314432\t10440\t\r\n",
    "k3\tcores\tN\tRes\t\tcells\tDOF per core\t\r\n",
    "\t4\t70\t8.298265334\t9\t729\t12758\t\r\n",
    "\t8\t70\t10.45515917\t11\t1331\t11646\t\r\n",
    "\t16\t70\t13.17267512\t14\t2744\t12005\t\r\n",
    "\t32\t70\t16.59653067\t18\t5832\t12758\t\r\n",
    "\t64\t70\t20.91031834\t22\t10648\t11646\t\r\n",
    "\t128\t70\t26.34535024\t28\t21952\t12005\t\r\n",
    "\t256\t70\t33.19306133\t36\t46656\t12758\t\r\n",
    "\t512\t70\t41.82063669\t44\t85184\t11646\t\r\n",
    "\t1024\t70\t52.69070048\t56\t175616\t12005\t\r\n",
    "k4\tcores\tN\tRes\t\tcells\tDOF per core\t\r\n",
    "\t4\t125\t6.839903787\t7\t343\t10719\t\r\n",
    "\t8\t125\t8.61773876\t9\t729\t11391\t\r\n",
    "\t16\t125\t10.85767047\t11\t1331\t10398\t\r\n",
    "\t32\t125\t13.67980757\t14\t2744\t10719\t\r\n",
    "\t64\t125\t17.23547752\t18\t5832\t11391\t\r\n",
    "\t128\t125\t21.71534093\t22\t10648\t10398\t\r\n",
    "\t256\t125\t27.35961515\t28\t21952\t10719\t\r\n",
    "\t512\t125\t34.47095504\t36\t46656\t11391\r\n",
    "*/\r\n",
    "\r\n",
    " // 8 cores\r\n",
    " //Parameterz.Add(new Parameterz(8,2,14));\r\n",
    " //Parameterz.Add(new Parameterz(8,3,11));\r\n",
    " Parameterz.Add(new Parameterz(8,4,9));\r\n",
    "\r\n",
    " // 16 cores\r\n",
    " //Parameterz.Add(new Parameterz(16,2,18));\r\n",
    " //Parameterz.Add(new Parameterz(16,3,14));\r\n",
    " Parameterz.Add(new Parameterz(16,4,11));\r\n",
    " \r\n",
    " // 32 cores\r\n",
    " //Parameterz.Add(new Parameterz(32,2,22));\r\n",
    " //Parameterz.Add(new Parameterz(32,3,18));\r\n",
    " Parameterz.Add(new Parameterz(32,4,14));\r\n",
    "\r\n",
    "// 64 cores\r\n",
    " //Parameterz.Add(new Parameterz(64,2,28));\r\n",
    " //Parameterz.Add(new Parameterz(64,3,22));\r\n",
    " Parameterz.Add(new Parameterz(64,4,18));\r\n",
    "\r\n",
    " // 128 cores\r\n",
    " //Parameterz.Add(new Parameterz(128,2,36));\r\n",
    " //Parameterz.Add(new Parameterz(128,3,28));\r\n",
    " Parameterz.Add(new Parameterz(128,4,22));\r\n",
    "\r\n",
    " // 256 cores\r\n",
    " //Parameterz.Add(new Parameterz(256,2,44));\r\n",
    " //Parameterz.Add(new Parameterz(256,3,36));\r\n",
    " Parameterz.Add(new Parameterz(256,4,28));\r\n",
    "\r\n",
    "/*\r\n",
    " // 512 cores\r\n",
    " Parameterz.Add(new Parameterz(512,2,56));\r\n",
    " Parameterz.Add(new Parameterz(512,3,44));\r\n",
    " Parameterz.Add(new Parameterz(512,4,36));\r\n",
    " */"
   ],
   "outputs": [],
   "metadata": {
    "dotnet_interactive": {
     "language": "csharp"
    }
   }
  },
  {
   "cell_type": "code",
   "execution_count": null,
   "source": [
    "bool useAMR = false;\r\n",
    "bool useLoadBal = true;\r\n",
    "int NoOfTimeSteps = 1;\r\n",
    "bool Steady = true;\r\n",
    "bool IncludeConvection = false;\r\n",
    "var Gshape = Shape.Sphere;"
   ],
   "outputs": [],
   "metadata": {
    "dotnet_interactive": {
     "language": "csharp"
    }
   }
  },
  {
   "cell_type": "code",
   "execution_count": null,
   "source": [
    "ExecutionQueues"
   ],
   "outputs": [
    {
     "data": {
      "text/html": [
       "<table><thead><tr><th><i>index</i></th><th><i>type</i></th><th>Username</th><th>Password</th><th>ServerName</th><th>PrivateKeyFilePath</th><th>AdditionalBatchCommands</th><th>DeploymentBaseDirectoryAtRemote</th><th>SlurmAccount</th><th>Email</th><th>DeploymentBaseDirectory</th><th>DeployRuntime</th><th>Name</th><th>DotnetRuntime</th><th>MonoDebug</th><th>AllowedDatabasesPaths</th><th>BatchInstructionDir</th><th>ComputeNodes</th><th>DefaultJobPriority</th><th>SingleNode</th></tr></thead><tbody><tr><td>0</td><td>BoSSS.Application.BoSSSpad.SlurmClient</td><td>jw52xeqa</td><td><div class=\"dni-plaintext\">&lt;null&gt;</div></td><td>lcluster14.hrz.tu-darmstadt.de</td><td>C:\\Users\\weber\\.ssh\\id_rsa</td><td><div class=\"dni-plaintext\">[ #SBATCH -p test24, #SBATCH -C avx512, #SBATCH --mem-per-cpu=2000 ]</div></td><td>/home/jw52xeqa/Deployerie</td><td>special00006</td><td><div class=\"dni-plaintext\">&lt;null&gt;</div></td><td>X:\\Deployerie</td><td><div class=\"dni-plaintext\">True</div></td><td>HHLR</td><td>dotnet</td><td><div class=\"dni-plaintext\">False</div></td><td><div class=\"dni-plaintext\">[ { W:\\work\\scratch\\jw52xeqa == /work/scratch/jw52xeqa: LocalMountPath: W:\\work\\scratch\\jw52xeqa, PathAtRemote: /work/scratch/jw52xeqa } ]</div></td><td></td><td></td><td></td><td></td></tr><tr><td>1</td><td>BoSSS.Application.BoSSSpad.MiniBatchProcessorClient</td><td></td><td></td><td></td><td></td><td></td><td></td><td></td><td></td><td>C:\\Users\\weber\\AppData\\Local\\BoSSS-LocalJobs</td><td><div class=\"dni-plaintext\">False</div></td><td>LocalPC</td><td>dotnet</td><td></td><td></td><td><div class=\"dni-plaintext\">&lt;null&gt;</div></td><td></td><td></td><td></td></tr><tr><td>2</td><td>BoSSS.Application.BoSSSpad.MsHPC2012Client</td><td>FDY\\weber</td><td></td><td>DC2</td><td></td><td></td><td></td><td></td><td></td><td>\\\\hpccluster\\hpccluster-scratch\\weber\\dply</td><td><div class=\"dni-plaintext\">True</div></td><td>FDY-cluster</td><td>dotnet</td><td></td><td><div class=\"dni-plaintext\">[ { \\\\hpccluster\\hpccluster-scratch\\weber\\trash_DB == : LocalMountPath: \\\\hpccluster\\hpccluster-scratch\\weber\\trash_DB, PathAtRemote:  } ]</div></td><td></td><td><div class=\"dni-plaintext\">[ HPCCLUSTER2 ]</div></td><td><span>Normal</span></td><td><div class=\"dni-plaintext\">True</div></td></tr><tr><td>3</td><td>BoSSS.Application.BoSSSpad.SlurmClient</td><td>jw52xeqa</td><td><div class=\"dni-plaintext\">&lt;null&gt;</div></td><td>lcluster5.hrz.tu-darmstadt.de</td><td>C:\\Users\\weber\\.ssh\\id_rsa</td><td><div class=\"dni-plaintext\">&lt;null&gt;</div></td><td>/home/jw52xeqa/Deployerie</td><td>project01217</td><td><div class=\"dni-plaintext\">&lt;null&gt;</div></td><td>X:\\Deployerie</td><td><div class=\"dni-plaintext\">True</div></td><td><div class=\"dni-plaintext\">&lt;null&gt;</div></td><td>dotnet</td><td><div class=\"dni-plaintext\">False</div></td><td></td><td></td><td></td><td></td><td></td></tr></tbody></table>"
      ]
     },
     "metadata": {},
     "output_type": "display_data"
    }
   ],
   "metadata": {
    "dotnet_interactive": {
     "language": "csharp"
    }
   }
  },
  {
   "cell_type": "code",
   "execution_count": null,
   "source": [
    "// ==================================\r\n",
    "// setup Client & Workflow & Database\r\n",
    "// ==================================\r\n",
    "/*\r\n",
    "var myBatch = (SlurmClient)ExecutionQueues[3];\r\n",
    "var AddSbatchCmds = new List<string>();\r\n",
    "AddSbatchCmds.AddRange(new string[]{\"#SBATCH -p test24\", \"#SBATCH -C avx512\", \"#SBATCH --mem-per-cpu=\"+MemoryPerCore});\r\n",
    "myBatch.AdditionalBatchCommands = AddSbatchCmds.ToArray();\r\n",
    "myBatch.AdditionalBatchCommands\r\n",
    "*/"
   ],
   "outputs": [],
   "metadata": {
    "dotnet_interactive": {
     "language": "csharp"
    }
   }
  },
  {
   "cell_type": "code",
   "execution_count": null,
   "source": [
    "// Config for Jenkins-Server\r\n",
    "//var myBatch = (MsHPC2012Client)ExecutionQueues[2];\r\n",
    "var myBatch = GetDefaultQueue();\r\n",
    "if(myBatch is SlurmClient){\r\n",
    "    (myBatch as SlurmClient).AdditionalBatchCommands = new string[]{\"#SBATCH -p test24\", \"#SBATCH -C avx512\", \"#SBATCH --mem-per-cpu=2000\"};\r\n",
    "}"
   ],
   "outputs": [],
   "metadata": {
    "dotnet_interactive": {
     "language": "csharp"
    }
   }
  },
  {
   "cell_type": "code",
   "execution_count": null,
   "source": [
    "string WFlowName = \"weak_scaling_5_1_p-MG\";\r\n",
    "BoSSS.Application.BoSSSpad.BoSSSshell.WorkflowMgm.Init(WFlowName);\r\n",
    "BoSSS.Application.BoSSSpad.BoSSSshell.WorkflowMgm.SetNameBasedSessionJobControlCorrelation();"
   ],
   "outputs": [],
   "metadata": {
    "dotnet_interactive": {
     "language": "csharp"
    }
   }
  },
  {
   "cell_type": "code",
   "execution_count": null,
   "source": [
    "//string dirname = \"DB_rotCubePaper\";\r\n",
    "//string dirname = \"DB_rotSphere_CoreScaling\";\r\n",
    "//string dirname = \"DB_rotSphere_DOFScaling\";\r\n",
    "//string dirname =\"DB_rotSphereBenchmark\";\r\n",
    "//string dirname =\"DB_rotSphere_CoreScaling\";"
   ],
   "outputs": [],
   "metadata": {
    "dotnet_interactive": {
     "language": "csharp"
    }
   }
  },
  {
   "cell_type": "code",
   "execution_count": null,
   "source": [
    "//myBatch.AllowedDatabasesPaths.Clear();\r\n",
    "//string winpath = @\"W:\\work\\scratch\\jw52xeqa\\\"+dirname;\r\n",
    "//string winpath = @\"\\\\hpccluster\\hpccluster-scratch\\\"+dirname;\r\n",
    "//string remotepath = @\"/work/scratch/jw52xeqa/\"+dirname;\r\n",
    "//var myDB = OpenOrCreateDatabase(winpath);\r\n",
    "//myBatch.AllowedDatabasesPaths.Add(new AllowedDatabasesPair(winpath,remotepath)); myBatch.AllowedDatabasesPaths"
   ],
   "outputs": [],
   "metadata": {
    "dotnet_interactive": {
     "language": "csharp"
    }
   }
  },
  {
   "cell_type": "code",
   "execution_count": null,
   "source": [
    "var pair = myBatch.AllowedDatabasesPaths.Pick(0);\r\n",
    "string DBName = @\"\\\"+\"DB_rotSphere_CoreScaling\";\r\n",
    "string localpath=pair.LocalMountPath+DBName;\r\n",
    "string remotepath=pair.PathAtRemote+DBName;\r\n",
    "var myDB = OpenOrCreateDatabase(localpath); myDB.Path"
   ],
   "outputs": [
    {
     "data": {
      "text/plain": [
       "W:\\work\\scratch\\jw52xeqa\\DB_rotSphere_CoreScaling"
      ]
     },
     "metadata": {},
     "output_type": "display_data"
    }
   ],
   "metadata": {
    "dotnet_interactive": {
     "language": "csharp"
    }
   }
  },
  {
   "cell_type": "code",
   "execution_count": null,
   "source": [
    "static class Utils {\r\n",
    "    // DOF per cell in 3D\r\n",
    "    public static int Np(int p) {\r\n",
    "        return (p*p*p + 6*p*p + 11*p + 6)/6;\r\n",
    "    }    \r\n",
    "}"
   ],
   "outputs": [],
   "metadata": {
    "dotnet_interactive": {
     "language": "csharp"
    }
   }
  },
  {
   "cell_type": "markdown",
   "source": [
    "using "
   ],
   "metadata": {}
  },
  {
   "cell_type": "code",
   "execution_count": null,
   "source": [
    "double xMax = 4.0, yMax = 1.0, zMax = 1.0;\r\n",
    "double xMin = -2.0, yMin = -1.0,zMin = -1.0;"
   ],
   "outputs": [],
   "metadata": {
    "dotnet_interactive": {
     "language": "csharp"
    }
   }
  },
  {
   "cell_type": "markdown",
   "source": [
    "double xMax = 1.0, yMax = 1.0, zMax=1.0;\r\n",
    "double xMin = -1.0, yMin = -1.0,zMin = -1.0;"
   ],
   "metadata": {}
  },
  {
   "cell_type": "code",
   "execution_count": null,
   "source": [
    "static Dictionary<int, IGridInfo> Grids = new Dictionary<int, IGridInfo>();\r\n",
    "foreach(var P in Parameterz){\r\n",
    "    int Res = P.Res;\r\n",
    "    if(Grids.TryGetValue(Res,out IGridInfo ignore))\r\n",
    "        continue;\r\n",
    "    //int Stretching = (int)Math.Floor(Math.Abs(xMax-xMin)/Math.Abs(yMax-yMin));\r\n",
    "    int Stretching = 1;\r\n",
    "    var _xNodes = GenericBlas.Linspace(xMin, xMax, Stretching*Res + 1);\r\n",
    "    var _yNodes = GenericBlas.Linspace(yMin, yMax, Res + 1);\r\n",
    "    var _zNodes = GenericBlas.Linspace(zMin, zMax, Res + 1);\r\n",
    "\r\n",
    "    GridCommons grd;\r\n",
    "    string gname = \"RotBenchmarkGrid\";\r\n",
    "    \r\n",
    "    var tmp = new List<IGridInfo>();\r\n",
    "    foreach(var grid in myDB.Grids){\r\n",
    "        try{\r\n",
    "            bool IsMatch = grid.Name.Equals(gname)&&grid.NumberOfCells==(_xNodes.Length-1)*(_yNodes.Length-1)*(_zNodes.Length-1);\r\n",
    "            if(IsMatch) tmp.Add(grid);\r\n",
    "        }\r\n",
    "        catch(Exception ex) {\r\n",
    "            Console.WriteLine(ex.Message);\r\n",
    "        }\r\n",
    "    }\r\n",
    "    //var tmp = myDB.Grids.Where(g=>g.Name.Equals(gname)&&g.NumberOfCells==Res*Res*Res); // this leads to exception in case of broken grids\r\n",
    "    if(tmp.Count()>=1){\r\n",
    "        Console.WriteLine(\"Grid found: \"+tmp.Pick(0).Name);\r\n",
    "        Grids.Add(Res,tmp.Pick(0));\r\n",
    "        continue;\r\n",
    "    }\r\n",
    "    \r\n",
    "    grd = Grid3D.Cartesian3DGrid(_xNodes, _yNodes, _zNodes);\r\n",
    "    grd.Name = gname;\r\n",
    "    //grd.AddPredefinedPartitioning(\"debug\", MakeDebugPart);\r\n",
    "\r\n",
    "    grd.EdgeTagNames.Add(1, \"Velocity_inlet\");\r\n",
    "    grd.EdgeTagNames.Add(2, \"Wall\");\r\n",
    "    grd.EdgeTagNames.Add(3, \"Pressure_Outlet\");\r\n",
    "\r\n",
    "    grd.DefineEdgeTags(delegate (double[] _X) {\r\n",
    "        var X = _X;\r\n",
    "        double x, y, z;\r\n",
    "        x = X[0];\r\n",
    "        y = X[1];\r\n",
    "        z = X[2];\r\n",
    "        if(Math.Abs(x-xMin)<1E-8)\r\n",
    "            return 1;\r\n",
    "        else\r\n",
    "            return 3;\r\n",
    "    });\r\n",
    "    myDB.SaveGrid(ref grd,false);\r\n",
    "    Grids.Add(Res,grd);\r\n",
    "} Grids.Keys.ToList()"
   ],
   "outputs": [
    {
     "data": {
      "text/html": [
       "<table><thead><tr><th><i>index</i></th><th>value</th></tr></thead><tbody><tr><td>0</td><td><div class=\"dni-plaintext\">9</div></td></tr><tr><td>1</td><td><div class=\"dni-plaintext\">11</div></td></tr><tr><td>2</td><td><div class=\"dni-plaintext\">14</div></td></tr><tr><td>3</td><td><div class=\"dni-plaintext\">18</div></td></tr><tr><td>4</td><td><div class=\"dni-plaintext\">22</div></td></tr><tr><td>5</td><td><div class=\"dni-plaintext\">28</div></td></tr></tbody></table>"
      ]
     },
     "metadata": {},
     "output_type": "display_data"
    }
   ],
   "metadata": {
    "dotnet_interactive": {
     "language": "csharp"
    }
   }
  },
  {
   "cell_type": "code",
   "execution_count": null,
   "source": [
    "int SpaceDim = 3; "
   ],
   "outputs": [],
   "metadata": {
    "dotnet_interactive": {
     "language": "csharp"
    }
   }
  },
  {
   "cell_type": "code",
   "execution_count": null,
   "source": [
    "Func<IGridInfo, int, XNSE_Control> GenXNSECtrl = delegate(IGridInfo grd, int k){\r\n",
    "    XNSE_Control C = new XNSE_Control();\r\n",
    "    // basic database options\r\n",
    "    // ======================\r\n",
    "    C.AlternateDbPaths = new[] {\r\n",
    "        (localpath, \"\"),\r\n",
    "        (remotepath,\"\")};\r\n",
    "    //C.AlternateDbPaths = new[] {\r\n",
    "    //    (@\"/work/scratch/jw52xeqa/DB_rotSphereBenchmark\", \"\"),\r\n",
    "    //    (@\"W:\\work\\scratch\\jw52xeqa\\DB_rotSphereBenchmark\",\"\")};\r\n",
    "    //C.DbPath=@\"\\\\hpccluster\\hpccluster-scratch\\DB_rotSphereBenchmark\";\r\n",
    "    C.savetodb = true;\r\n",
    "    int J  = grd.NumberOfCells;\r\n",
    "    C.SessionName = string.Format(\"J{0}_k{1}_t{2}\", J, k,NoOfTimeSteps);\r\n",
    "    if(IncludeConvection){\r\n",
    "        C.SessionName += \"_NSE\";\r\n",
    "        C.Tags.Add(\"NSE\");\r\n",
    "    } else {\r\n",
    "        C.SessionName += \"_Stokes\";\r\n",
    "        C.Tags.Add(\"Stokes\");\r\n",
    "    }\r\n",
    "    C.Tags.Add(SpaceDim + \"D\");\r\n",
    "    if(Steady)C.Tags.Add(\"steady\");\r\n",
    "    else C.Tags.Add(\"transient\");\r\n",
    "    C.Tags.Add(\"reortho_Iter2_sameRes\");\r\n",
    "\r\n",
    "    // DG degrees\r\n",
    "    // ==========\r\n",
    "    C.SetFieldOptions(k, Math.Max(k, 2));\r\n",
    "    C.saveperiod = 1;\r\n",
    "    //C.TracingNamespaces = \"*\";\r\n",
    "\r\n",
    "    C.GridGuid = grd.ID;\r\n",
    "    C.GridPartType = GridPartType.clusterHilbert;\r\n",
    "    C.DynamicLoadbalancing_ClassifierType = ClassifierType.CutCells;\r\n",
    "    C.DynamicLoadBalancing_On = useLoadBal;\r\n",
    "    C.DynamicLoadBalancing_RedistributeAtStartup = true;\r\n",
    "    C.DynamicLoadBalancing_Period = 1;\r\n",
    "    C.DynamicLoadBalancing_ImbalanceThreshold = 0.1;\r\n",
    "\r\n",
    "    // Physical Parameters\r\n",
    "    // ===================\r\n",
    "    const double rhoA = 1;\r\n",
    "    const double Re = 50;\r\n",
    "    double muA = 1;\r\n",
    "    \r\n",
    "    double partRad = 0.3001;\r\n",
    "    double anglev = Re*muA/rhoA/(2*partRad);\r\n",
    "    //double anglev = 0.0;\r\n",
    "    double d_hyd = 2*partRad;\r\n",
    "    double VelocityIn = Re*muA/rhoA/d_hyd;\r\n",
    "    double[] pos = new double[SpaceDim];\r\n",
    "\r\n",
    "    C.PhysicalParameters.IncludeConvection = IncludeConvection;\r\n",
    "    C.PhysicalParameters.Material = true;\r\n",
    "    C.PhysicalParameters.rho_A = rhoA;\r\n",
    "    C.PhysicalParameters.mu_A = muA;\r\n",
    "\r\n",
    "    C.Rigidbody.SetParameters(pos,anglev,partRad,SpaceDim);\r\n",
    "    C.Rigidbody.SpecifyShape(Gshape);\r\n",
    "    C.Rigidbody.SetRotationAxis(\"x\");\r\n",
    "\r\n",
    "    C.AddInitialValue(VariableNames.LevelSetCGidx(0), new Formula(\"X => -1\"));\r\n",
    "    C.UseImmersedBoundary = true;\r\n",
    "    \r\n",
    "    C.AddInitialValue(\"Pressure\", new Formula(@\"X => 0\"));\r\n",
    "    C.AddBoundaryValue(\"Pressure_Outlet\");\r\n",
    "    C.AddBoundaryValue(\"Velocity_inlet\",\"VelocityX\",new Formula($\"(X) => {VelocityIn}\"));\r\n",
    "\r\n",
    "    C.CutCellQuadratureType = BoSSS.Foundation.XDG.XQuadFactoryHelper.MomentFittingVariants.Saye;\r\n",
    "    C.UseSchurBlockPrec = true;\r\n",
    "    C.AgglomerationThreshold = 0.1;\r\n",
    "    C.AdvancedDiscretizationOptions.ViscosityMode = ViscosityMode.FullySymmetric;\r\n",
    "    C.Option_LevelSetEvolution2 = LevelSetEvolution.Prescribed;\r\n",
    "    C.Option_LevelSetEvolution = LevelSetEvolution.None;\r\n",
    "    C.Timestepper_LevelSetHandling = LevelSetHandling.None;\r\n",
    "    C.LinearSolver.NoOfMultigridLevels = 4;\r\n",
    "    C.LinearSolver.ConvergenceCriterion = 1E-6;\r\n",
    "    C.LinearSolver.MaxSolverIterations = 500;\r\n",
    "    C.LinearSolver.MaxKrylovDim = 50;\r\n",
    "    C.LinearSolver.TargetBlockSize = 1000;\r\n",
    "    C.LinearSolver.verbose = true;\r\n",
    "    C.LinearSolver.SolverCode = LinearSolverCode.exp_Kcycle_schwarz;\r\n",
    "    C.NonLinearSolver.SolverCode = NonLinearSolverCode.Newton;\r\n",
    "    C.NonLinearSolver.ConvergenceCriterion = 1E-6;\r\n",
    "    C.NonLinearSolver.MaxSolverIterations = 10;\r\n",
    "    C.NonLinearSolver.verbose = true;\r\n",
    "\r\n",
    "    C.AdaptiveMeshRefinement = useAMR;\r\n",
    "    if (useAMR) {\r\n",
    "        C.SetMaximalRefinementLevel(1);\r\n",
    "        C.AMR_startUpSweeps = 0;\r\n",
    "    }\r\n",
    "\r\n",
    "    // Timestepping\r\n",
    "    // ============\r\n",
    "    double dt = -1;\r\n",
    "    if(Steady){\r\n",
    "        C.TimesteppingMode = AppControl._TimesteppingMode.Steady;\r\n",
    "        dt = 1000;\r\n",
    "        C.NoOfTimesteps = 1;\r\n",
    "    } else {\r\n",
    "        C.TimesteppingMode = AppControl._TimesteppingMode.Transient;        \r\n",
    "        dt = 0.1;        \r\n",
    "        C.NoOfTimesteps = NoOfTimeSteps;\r\n",
    "    }\r\n",
    "    C.TimeSteppingScheme = TimeSteppingScheme.ImplicitEuler;\r\n",
    "    C.dtFixed = dt;\r\n",
    "    return C;\r\n",
    "};"
   ],
   "outputs": [],
   "metadata": {
    "dotnet_interactive": {
     "language": "csharp"
    }
   }
  },
  {
   "cell_type": "code",
   "execution_count": null,
   "source": [
    "var controls = new Dictionary<Parameterz,XNSE_Control>();\r\n",
    "foreach(var P in Parameterz){\r\n",
    "    int k = P.Poly;\r\n",
    "    Grids.TryGetValue(P.Res,out IGridInfo grd);\r\n",
    "    controls.Add(P,GenXNSECtrl(grd,k));\r\n",
    "} controls.Values.Select(s=>s.SessionName)"
   ],
   "outputs": [
    {
     "data": {
      "text/html": [
       "<table><thead><tr><th><i>index</i></th><th>value</th></tr></thead><tbody><tr><td>0</td><td>J729_k4_t1_Stokes</td></tr><tr><td>1</td><td>J1331_k4_t1_Stokes</td></tr><tr><td>2</td><td>J2744_k4_t1_Stokes</td></tr><tr><td>3</td><td>J5832_k4_t1_Stokes</td></tr><tr><td>4</td><td>J10648_k4_t1_Stokes</td></tr><tr><td>5</td><td>J21952_k4_t1_Stokes</td></tr></tbody></table>"
      ]
     },
     "metadata": {},
     "output_type": "display_data"
    }
   ],
   "metadata": {
    "dotnet_interactive": {
     "language": "csharp"
    }
   }
  },
  {
   "cell_type": "code",
   "execution_count": null,
   "source": [
    "static Func<KeyValuePair<Parameterz,XNSE_Control>,int> NodeRegression =  delegate (KeyValuePair<Parameterz,XNSE_Control> extcontrol) {\r\n",
    "\r\n",
    "    var thisctrl = extcontrol;\r\n",
    "    Grids.TryGetValue(thisctrl.Key.Res,out IGridInfo grd);\r\n",
    "    int Ncells = grd.NumberOfCells;\r\n",
    "    int k = thisctrl.Key.Poly;\r\n",
    "    int DOFperCell = Utils.Np(k);\r\n",
    "    int DOFperCore = DOFperCell*Ncells;\r\n",
    "    double mempercore = -1E-10*DOFperCore*DOFperCore+2.6E-3*DOFperCore+13500;\r\n",
    "    double memoryneed = mempercore * thisctrl.Key.Cores;\r\n",
    "    double memorypernode = 384*1024; // MB\r\n",
    "    int tmp = (int)Math.Ceiling(memoryneed / memorypernode); \r\n",
    "    double bla = Math.Ceiling(Math.Log(tmp)/Math.Log(2));\r\n",
    "    int nodes2allocate = (int)Math.Pow(2,bla);\r\n",
    "    \r\n",
    "    return nodes2allocate;\r\n",
    "};"
   ],
   "outputs": [],
   "metadata": {
    "dotnet_interactive": {
     "language": "csharp"
    }
   }
  },
  {
   "cell_type": "markdown",
   "source": [],
   "metadata": {}
  },
  {
   "cell_type": "code",
   "execution_count": null,
   "source": [
    "NodeRegression(controls.Pick(0))"
   ],
   "outputs": [
    {
     "data": {
      "text/html": [
       "<div class=\"dni-plaintext\">1</div>"
      ]
     },
     "metadata": {},
     "output_type": "display_data"
    }
   ],
   "metadata": {
    "dotnet_interactive": {
     "language": "csharp"
    }
   }
  },
  {
   "cell_type": "code",
   "execution_count": null,
   "source": [
    "controls.Select(s=>s.Value.SessionName)"
   ],
   "outputs": [
    {
     "data": {
      "text/html": [
       "<table><thead><tr><th><i>index</i></th><th>value</th></tr></thead><tbody><tr><td>0</td><td>J729_k4_t1_Stokes</td></tr><tr><td>1</td><td>J1331_k4_t1_Stokes</td></tr><tr><td>2</td><td>J2744_k4_t1_Stokes</td></tr><tr><td>3</td><td>J5832_k4_t1_Stokes</td></tr><tr><td>4</td><td>J10648_k4_t1_Stokes</td></tr><tr><td>5</td><td>J21952_k4_t1_Stokes</td></tr></tbody></table>"
      ]
     },
     "metadata": {},
     "output_type": "display_data"
    }
   ],
   "metadata": {
    "dotnet_interactive": {
     "language": "csharp"
    }
   }
  },
  {
   "cell_type": "code",
   "execution_count": null,
   "source": [
    "int iSweep=0;\r\n",
    "foreach(var ctrl in controls){\r\n",
    "    try{\r\n",
    "    int cores= ctrl.Key.Cores;\r\n",
    "    var ctrlobj = ctrl.Value;\r\n",
    "    string sessname = ctrlobj.SessionName;\r\n",
    "    ctrlobj.SessionName = sessname + \"_c\"+cores+\"_Re50_\"+\"mue_\"+ctrlobj.PhysicalParameters.mu_A;\r\n",
    "    var aJob   = new Job(\"rotSphereInlet_\"+Gshape+ctrlobj.SessionName,typeof(XNSE));\r\n",
    "    aJob.SetControlObject(ctrlobj);\r\n",
    "    aJob.NumberOfMPIProcs         = cores;\r\n",
    "    aJob.ExecutionTime            = \"3:00:00\";\r\n",
    "    aJob.UseComputeNodesExclusive = true;\r\n",
    "\r\n",
    "    if(myBatch is SlurmClient){\r\n",
    "        int nodes2allocate = NodeRegression.Invoke(ctrl);\r\n",
    "\r\n",
    "        var Cmdtmp = new List<string>();\r\n",
    "        Cmdtmp.AddRange((myBatch as SlurmClient).AdditionalBatchCommands.ToList());\r\n",
    "        Cmdtmp.Add($\"#SBATCH -N {nodes2allocate}\");\r\n",
    "        (myBatch as SlurmClient).AdditionalBatchCommands = Cmdtmp.ToArray();\r\n",
    "    }\r\n",
    "    aJob.Activate(myBatch);\r\n",
    "    iSweep++;\r\n",
    "    } catch (Exception ex){\r\n",
    "        Console.WriteLine(ex.Message);\r\n",
    "    }\r\n",
    "}"
   ],
   "outputs": [],
   "metadata": {
    "dotnet_interactive": {
     "language": "csharp"
    }
   }
  },
  {
   "cell_type": "code",
   "execution_count": null,
   "source": [
    "BoSSS.Application.BoSSSpad.BoSSSshell.WorkflowMgm.BlockUntilAllJobsTerminate();"
   ],
   "outputs": [],
   "metadata": {
    "dotnet_interactive": {
     "language": "csharp"
    }
   }
  }
 ],
 "metadata": {
  "kernelspec": {
   "display_name": ".NET (C#)",
   "language": "C#",
   "name": ".net-csharp"
  },
  "language_info": {
   "file_extension": ".cs",
   "mimetype": "text/x-csharp",
   "name": "C#",
   "pygments_lexer": "csharp",
   "version": "9.0"
  },
  "orig_nbformat": 2
 },
 "nbformat": 4,
 "nbformat_minor": 2
}