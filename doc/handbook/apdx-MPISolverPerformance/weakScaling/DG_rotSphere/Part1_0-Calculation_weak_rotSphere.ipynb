{
 "cells": [
  {
   "cell_type": "code",
   "execution_count": null,
   "metadata": {
    "dotnet_interactive": {
     "language": "csharp"
    }
   },
   "outputs": [],
   "source": [
    "#r \"./../../../../../public/src/L4-application/BoSSSpad/bin/Release/net5.0/BoSSSpad.dll\"\n",
    "using System;\n",
    "using ilPSP;\n",
    "using ilPSP.Utils;\n",
    "using BoSSS.Platform;\n",
    "using BoSSS.Foundation;\n",
    "using BoSSS.Foundation.XDG;\n",
    "using BoSSS.Foundation.Grid;\n",
    "using BoSSS.Solution;\n",
    "using BoSSS.Application.XNSE_Solver;\n",
    "using BoSSS.Application.BoSSSpad;\n",
    "using BoSSS.Foundation.Grid.Classic;\n",
    "using BoSSS.Foundation.IO;\n",
    "using BoSSS.Solution.AdvancedSolvers;\n",
    "using BoSSS.Solution.Control;\n",
    "using BoSSS.Solution.XNSECommon;\n",
    "using BoSSS.Solution.NSECommon;\n",
    "using BoSSS.Application.XNSE_Solver.LoadBalancing;\n",
    "using BoSSS.Solution.LevelSetTools;\n",
    "using BoSSS.Solution.XdgTimestepping;\n",
    "\n",
    "using static BoSSS.Application.BoSSSpad.BoSSSshell;\n",
    "Init();"
   ]
  },
  {
   "cell_type": "code",
   "execution_count": null,
   "metadata": {
    "dotnet_interactive": {
     "language": "csharp"
    }
   },
   "outputs": [],
   "source": [
    "// read Environment variables, if there are any\n",
    "string database_name = \"DB_Benchmarks\";\n",
    "string buildname = System.Environment.GetEnvironmentVariable(\"BUILD_DISPLAY_NAME\");\n",
    "string buildNr = System.Environment.GetEnvironmentVariable(\"BUILD_NUMBER\");\n",
    "string table_name = String.Concat(buildname,\"_\",buildNr);"
   ]
  },
  {
   "cell_type": "code",
   "execution_count": null,
   "metadata": {
    "dotnet_interactive": {
     "language": "csharp"
    }
   },
   "outputs": [],
   "source": [
    "struct Parameterz{\n",
    "    public Parameterz(int _Cores, int _Poly, int _Res){\n",
    "        Cores = _Cores;\n",
    "        Poly = _Poly;\n",
    "        Res = _Res;\n",
    "    }\n",
    "    public int Cores;\n",
    "    public int Poly;\n",
    "    public int Res;\n",
    "}"
   ]
  },
  {
   "cell_type": "code",
   "execution_count": null,
   "metadata": {
    "dotnet_interactive": {
     "language": "csharp"
    }
   },
   "outputs": [],
   "source": [
    "// set parameterz\n",
    "var Parameterz = new List<Parameterz>();\n",
    "/*\n",
    "int[] CSweep = new int[] {4,8,16,32};\n",
    "foreach(int cores in CSweep){\n",
    "    // strong scaling\n",
    "    Parameterz.Add(new Parameterz(cores,4,18));\n",
    "    Parameterz.Add(new Parameterz(cores,3,22));\n",
    "    Parameterz.Add(new Parameterz(cores,2,28));\n",
    "}\n",
    "*/\n",
    "\n",
    "\n",
    " // 8 cores\n",
    " Parameterz.Add(new Parameterz(8,2,14));\n",
    " Parameterz.Add(new Parameterz(8,3,11));\n",
    " Parameterz.Add(new Parameterz(8,4,9));\n",
    "\n",
    " // 16 cores\n",
    " Parameterz.Add(new Parameterz(16,2,18));\n",
    " Parameterz.Add(new Parameterz(16,3,14));\n",
    " Parameterz.Add(new Parameterz(16,4,11));\n",
    " \n",
    " // 32 cores\n",
    " Parameterz.Add(new Parameterz(32,2,22));\n",
    " Parameterz.Add(new Parameterz(32,3,18));\n",
    " Parameterz.Add(new Parameterz(32,4,14));\n",
    "\n",
    "\n",
    "// 64 cores\n",
    " Parameterz.Add(new Parameterz(64,2,28));\n",
    " Parameterz.Add(new Parameterz(64,3,22));\n",
    " Parameterz.Add(new Parameterz(64,4,18));\n",
    "\n",
    "/*\n",
    " // 128 cores\n",
    " Parameterz.Add(new Parameterz(128,2,36));\n",
    " Parameterz.Add(new Parameterz(128,3,28));\n",
    " Parameterz.Add(new Parameterz(128,4,22));\n",
    "*/\n",
    "/*\n",
    " // 256 cores\n",
    " Parameterz.Add(new Parameterz(256,2,44));\n",
    " Parameterz.Add(new Parameterz(256,3,36));\n",
    " Parameterz.Add(new Parameterz(256,4,28));\n",
    "*/\n",
    "\n",
    " // 512 cores\n",
    " //Parameterz.Add(new Parameterz(512,2,56));\n",
    " //Parameterz.Add(new Parameterz(512,3,44));\n",
    " //Parameterz.Add(new Parameterz(512,4,36));\n",
    "int MemoryPerCore = 2000;"
   ]
  },
  {
   "cell_type": "code",
   "execution_count": null,
   "metadata": {
    "dotnet_interactive": {
     "language": "csharp"
    }
   },
   "outputs": [],
   "source": [
    "bool useAMR = false;\n",
    "bool useLoadBal = true;\n",
    "int NoOfTimeSteps = 1;\n",
    "bool Steady = false;\n",
    "bool IncludeConvection = false;\n",
    "var Gshape = Shape.Sphere;"
   ]
  },
  {
   "cell_type": "code",
   "execution_count": null,
   "metadata": {
    "dotnet_interactive": {
     "language": "csharp"
    }
   },
   "outputs": [],
   "source": [
    "ExecutionQueues"
   ]
  },
  {
   "cell_type": "code",
   "execution_count": null,
   "metadata": {
    "dotnet_interactive": {
     "language": "csharp"
    }
   },
   "outputs": [],
   "source": [
    "// ==================================\n",
    "// setup Client & Workflow & Database\n",
    "// ==================================\n",
    "var myBatch = (SlurmClient)GetDefaultQueue();\n",
    "var AddSbatchCmds = new List<string>();\n",
    "AddSbatchCmds.AddRange(new string[]{\"#SBATCH -C avx512\", \"#SBATCH --mem-per-cpu=\"+MemoryPerCore});\n",
    "myBatch.AdditionalBatchCommands = AddSbatchCmds.ToArray();\n",
    "myBatch.AdditionalBatchCommands"
   ]
  },
  {
   "cell_type": "code",
   "execution_count": null,
   "metadata": {
    "dotnet_interactive": {
     "language": "csharp"
    }
   },
   "outputs": [],
   "source": [
    "// Config for Jenkins-Server\n",
    "//var myBatch = (MsHPC2012Client)ExecutionQueues[2];"
   ]
  },
  {
   "cell_type": "code",
   "execution_count": null,
   "metadata": {
    "dotnet_interactive": {
     "language": "csharp"
    }
   },
   "outputs": [],
   "source": [
    "string WFlowName = table_name;\n",
    "BoSSS.Application.BoSSSpad.BoSSSshell.WorkflowMgm.Init(WFlowName);\n",
    "BoSSS.Application.BoSSSpad.BoSSSshell.WorkflowMgm.SetNameBasedSessionJobControlCorrelation();"
   ]
  },
  {
   "cell_type": "code",
   "execution_count": null,
   "metadata": {
    "dotnet_interactive": {
     "language": "csharp"
    }
   },
   "outputs": [],
   "source": [
    "//string dirname = \"DB_rotCubePaper\";\n",
    "//string dirname = \"DB_rotSphere_CoreScaling\";\n",
    "//string dirname = \"DB_rotSphere_DOFScaling\";\n",
    "//string dirname =\"DB_rotSphereBenchmark\";\n",
    "//string dirname =\"DB_rotSphere_CoreScaling\";"
   ]
  },
  {
   "cell_type": "code",
   "execution_count": null,
   "metadata": {
    "dotnet_interactive": {
     "language": "csharp"
    }
   },
   "outputs": [],
   "source": [
    "//myBatch.AllowedDatabasesPaths.Clear();\n",
    "//string winpath = @\"W:\\work\\scratch\\jw52xeqa\\\"+dirname;\n",
    "//string winpath = @\"\\\\hpccluster\\hpccluster-scratch\\\"+dirname;\n",
    "//string remotepath = @\"/work/scratch/jw52xeqa/\"+dirname;\n",
    "//var myDB = OpenOrCreateDatabase(winpath);\n",
    "//myBatch.AllowedDatabasesPaths.Add(new AllowedDatabasesPair(winpath,remotepath)); myBatch.AllowedDatabasesPaths"
   ]
  },
  {
   "cell_type": "code",
   "execution_count": null,
   "metadata": {
    "dotnet_interactive": {
     "language": "csharp"
    }
   },
   "outputs": [],
   "source": [
    "var pair = myBatch.AllowedDatabasesPaths.Pick(0);\n",
    "string DBName = @\"\\\"+database_name;\n",
    "string localpath=pair.LocalMountPath+DBName;\n",
    "string remotepath=pair.PathAtRemote+DBName;\n",
    "var myDB = OpenOrCreateDatabase(localpath);"
   ]
  },
  {
   "cell_type": "code",
   "execution_count": null,
   "metadata": {
    "dotnet_interactive": {
     "language": "csharp"
    }
   },
   "outputs": [],
   "source": [
    "static class Utils {\n",
    "    // DOF per cell in 3D\n",
    "    public static int Np(int p) {\n",
    "        return (p*p*p + 6*p*p + 11*p + 6)/6;\n",
    "    }    \n",
    "}"
   ]
  },
  {
   "cell_type": "markdown",
   "metadata": {},
   "source": [
    "using "
   ]
  },
  {
   "cell_type": "code",
   "execution_count": null,
   "metadata": {
    "dotnet_interactive": {
     "language": "csharp"
    }
   },
   "outputs": [],
   "source": [
    "double xMax = 4.0, yMax = 1.0, zMax = 1.0;\n",
    "double xMin = -2.0, yMin = -1.0,zMin = -1.0;"
   ]
  },
  {
   "cell_type": "markdown",
   "metadata": {},
   "source": [
    "double xMax = 1.0, yMax = 1.0, zMax=1.0;\n",
    "double xMin = -1.0, yMin = -1.0,zMin = -1.0;"
   ]
  },
  {
   "cell_type": "code",
   "execution_count": null,
   "metadata": {
    "dotnet_interactive": {
     "language": "csharp"
    }
   },
   "outputs": [],
   "source": [
    "var Grids = new Dictionary<int, IGridInfo>();\n",
    "foreach(var P in Parameterz){\n",
    "    int Res = P.Res;\n",
    "    if(Grids.TryGetValue(Res,out IGridInfo ignore))\n",
    "        continue;\n",
    "    int Stretching = (int)Math.Floor(Math.Abs(xMax-xMin)/Math.Abs(yMax-yMin));\n",
    "    //int Stretching = 1;\n",
    "    var _xNodes = GenericBlas.Linspace(xMin, xMax, Stretching*Res + 1);\n",
    "    var _yNodes = GenericBlas.Linspace(yMin, yMax, Res + 1);\n",
    "    var _zNodes = GenericBlas.Linspace(zMin, zMax, Res + 1);\n",
    "\n",
    "    GridCommons grd;\n",
    "    string gname = \"RotBenchmarkGrid\";\n",
    "    \n",
    "    var tmp = new List<IGridInfo>();\n",
    "    foreach(var grid in myDB.Grids){\n",
    "        try{\n",
    "            bool IsMatch = grid.Name.Equals(gname)&&grid.NumberOfCells==(_xNodes.Length-1)*(_yNodes.Length-1)*(_zNodes.Length-1);\n",
    "            if(IsMatch) tmp.Add(grid);\n",
    "        }\n",
    "        catch(Exception ex) {\n",
    "            Console.WriteLine(ex.Message);\n",
    "        }\n",
    "    }\n",
    "    //var tmp = myDB.Grids.Where(g=>g.Name.Equals(gname)&&g.NumberOfCells==Res*Res*Res); // this leads to exception in case of broken grids\n",
    "    if(tmp.Count()>=1){\n",
    "        Console.WriteLine(\"Grid found: \"+tmp.Pick(0).Name);\n",
    "        Grids.Add(Res,tmp.Pick(0));\n",
    "        continue;\n",
    "    }\n",
    "    \n",
    "    grd = Grid3D.Cartesian3DGrid(_xNodes, _yNodes, _zNodes);\n",
    "    grd.Name = gname;\n",
    "    //grd.AddPredefinedPartitioning(\"debug\", MakeDebugPart);\n",
    "\n",
    "    grd.EdgeTagNames.Add(1, \"Velocity_inlet\");\n",
    "    grd.EdgeTagNames.Add(2, \"Wall\");\n",
    "    grd.EdgeTagNames.Add(3, \"Pressure_Outlet\");\n",
    "\n",
    "    grd.DefineEdgeTags(delegate (double[] _X) {\n",
    "        var X = _X;\n",
    "        double x, y, z;\n",
    "        x = X[0];\n",
    "        y = X[1];\n",
    "        z = X[2];\n",
    "        if(Math.Abs(x-xMin)<1E-8)\n",
    "            return 1;\n",
    "        else\n",
    "            return 3;\n",
    "    });\n",
    "    myDB.SaveGrid(ref grd,false);\n",
    "    Grids.Add(Res,grd);\n",
    "} Grids.Keys.ToList()"
   ]
  },
  {
   "cell_type": "code",
   "execution_count": null,
   "metadata": {
    "dotnet_interactive": {
     "language": "csharp"
    }
   },
   "outputs": [],
   "source": [
    "int SpaceDim = 3; "
   ]
  },
  {
   "cell_type": "code",
   "execution_count": null,
   "metadata": {
    "dotnet_interactive": {
     "language": "csharp"
    }
   },
   "outputs": [],
   "source": [
    "Func<IGridInfo, int, XNSE_Control> GenXNSECtrl = delegate(IGridInfo grd, int k){\n",
    "    XNSE_Control C = new XNSE_Control();\n",
    "    // basic database options\n",
    "    // ======================\n",
    "    C.AlternateDbPaths = new[] {\n",
    "        (localpath, \"\"),\n",
    "        (remotepath,\"\")};\n",
    "    //C.AlternateDbPaths = new[] {\n",
    "    //    (@\"/work/scratch/jw52xeqa/DB_rotSphereBenchmark\", \"\"),\n",
    "    //    (@\"W:\\work\\scratch\\jw52xeqa\\DB_rotSphereBenchmark\",\"\")};\n",
    "    //C.DbPath=@\"\\\\hpccluster\\hpccluster-scratch\\DB_rotSphereBenchmark\";\n",
    "    C.savetodb = true;\n",
    "    int J  = grd.NumberOfCells;\n",
    "    C.SessionName = string.Format(\"J{0}_k{1}_t{2}\", J, k,NoOfTimeSteps);\n",
    "    if(IncludeConvection){\n",
    "        C.SessionName += \"_NSE\";\n",
    "        C.Tags.Add(\"NSE\");\n",
    "    } else {\n",
    "        C.SessionName += \"_Stokes\";\n",
    "        C.Tags.Add(\"Stokes\");\n",
    "    }\n",
    "    C.Tags.Add(SpaceDim + \"D\");\n",
    "    if(Steady)C.Tags.Add(\"steady\");\n",
    "    else C.Tags.Add(\"transient\");\n",
    "    C.Tags.Add(\"reortho_Iter2_sameRes\");\n",
    "\n",
    "    // DG degrees\n",
    "    // ==========\n",
    "    C.SetFieldOptions(k, Math.Max(k, 2));\n",
    "    C.saveperiod = 1;\n",
    "    //C.TracingNamespaces = \"*\";\n",
    "\n",
    "    C.GridGuid = grd.ID;\n",
    "    C.GridPartType = GridPartType.clusterHilbert;\n",
    "    C.DynamicLoadbalancing_ClassifierType = ClassifierType.CutCells;\n",
    "    C.DynamicLoadBalancing_On = useLoadBal;\n",
    "    C.DynamicLoadBalancing_RedistributeAtStartup = true;\n",
    "    C.DynamicLoadBalancing_Period = 1;\n",
    "    C.DynamicLoadBalancing_ImbalanceThreshold = 0.1;\n",
    "\n",
    "    // Physical Parameters\n",
    "    // ===================\n",
    "    const double rhoA = 1;\n",
    "    const double Re = 50;\n",
    "    double muA = 1;\n",
    "    \n",
    "    double partRad = 0.3001;\n",
    "    double anglev = Re*muA/rhoA/(2*partRad);\n",
    "    //double anglev = 0.0;\n",
    "    double d_hyd = 2*partRad;\n",
    "    double VelocityIn = Re*muA/rhoA/d_hyd;\n",
    "    double[] pos = new double[SpaceDim];\n",
    "\n",
    "    C.PhysicalParameters.IncludeConvection = IncludeConvection;\n",
    "    C.PhysicalParameters.Material = true;\n",
    "    C.PhysicalParameters.rho_A = rhoA;\n",
    "    C.PhysicalParameters.mu_A = muA;\n",
    "\n",
    "    C.Rigidbody.SetParameters(pos,anglev,partRad,SpaceDim);\n",
    "    C.Rigidbody.SpecifyShape(Gshape);\n",
    "    C.Rigidbody.SetRotationAxis(\"x\");\n",
    "\n",
    "    C.AddInitialValue(VariableNames.LevelSetCGidx(0), new Formula(\"X => -1\"));\n",
    "    C.UseImmersedBoundary = true;\n",
    "    \n",
    "    C.AddInitialValue(\"Pressure\", new Formula(@\"X => 0\"));\n",
    "    C.AddBoundaryValue(\"Pressure_Outlet\");\n",
    "    C.AddBoundaryValue(\"Velocity_inlet\",\"VelocityX\",new Formula($\"(X) => {VelocityIn}\"));\n",
    "\n",
    "    C.CutCellQuadratureType = BoSSS.Foundation.XDG.XQuadFactoryHelper.MomentFittingVariants.Saye;\n",
    "    C.UseSchurBlockPrec = true;\n",
    "    C.AgglomerationThreshold = 0.1;\n",
    "    C.AdvancedDiscretizationOptions.ViscosityMode = ViscosityMode.FullySymmetric;\n",
    "    C.Option_LevelSetEvolution2 = LevelSetEvolution.Prescribed;\n",
    "    C.Option_LevelSetEvolution = LevelSetEvolution.None;\n",
    "    C.Timestepper_LevelSetHandling = LevelSetHandling.None;\n",
    "    C.LinearSolver.NoOfMultigridLevels = 4;\n",
    "    C.LinearSolver.ConvergenceCriterion = 1E-6;\n",
    "    C.LinearSolver.MaxSolverIterations = 500;\n",
    "    C.LinearSolver.MaxKrylovDim = 50;\n",
    "    C.LinearSolver.TargetBlockSize = 1000;\n",
    "    C.LinearSolver.verbose = true;\n",
    "    C.LinearSolver.SolverCode = LinearSolverCode.exp_Kcycle_schwarz;\n",
    "    C.NonLinearSolver.SolverCode = NonLinearSolverCode.Newton;\n",
    "    C.NonLinearSolver.ConvergenceCriterion = 1E-6;\n",
    "    C.NonLinearSolver.MaxSolverIterations = 10;\n",
    "    C.NonLinearSolver.verbose = true;\n",
    "\n",
    "    C.AdaptiveMeshRefinement = useAMR;\n",
    "    if (useAMR) {\n",
    "        C.SetMaximalRefinementLevel(1);\n",
    "        C.AMR_startUpSweeps = 0;\n",
    "    }\n",
    "\n",
    "    // Timestepping\n",
    "    // ============\n",
    "    double dt = -1;\n",
    "    if(Steady){\n",
    "        C.TimesteppingMode = AppControl._TimesteppingMode.Steady;\n",
    "        dt = 1000;\n",
    "        C.NoOfTimesteps = 1;\n",
    "    } else {\n",
    "        C.TimesteppingMode = AppControl._TimesteppingMode.Transient;        \n",
    "        dt = 0.1;        \n",
    "        C.NoOfTimesteps = NoOfTimeSteps;\n",
    "    }\n",
    "    C.TimeSteppingScheme = TimeSteppingScheme.ImplicitEuler;\n",
    "    C.dtFixed = dt;\n",
    "    return C;\n",
    "};"
   ]
  },
  {
   "cell_type": "code",
   "execution_count": null,
   "metadata": {
    "dotnet_interactive": {
     "language": "csharp"
    }
   },
   "outputs": [],
   "source": [
    "var controls = new Dictionary<Parameterz,XNSE_Control>();\n",
    "foreach(var P in Parameterz){\n",
    "    int k = P.Poly;\n",
    "    Grids.TryGetValue(P.Res,out IGridInfo grd);\n",
    "    controls.Add(P,GenXNSECtrl(grd,k));\n",
    "} controls.Values.Select(s=>s.SessionName)"
   ]
  },
  {
   "cell_type": "code",
   "execution_count": null,
   "metadata": {
    "dotnet_interactive": {
     "language": "csharp"
    }
   },
   "outputs": [],
   "source": [
    "static Action<int,BatchProcessorClient> NodeRegression =  delegate (int cores, BatchProcessorClient thisBatch) {\n",
    "    int NoOfNodes = (int)Math.Ceiling(0.75*Math.Pow(cores,0.44));\n",
    "    List<string> Cmdtmp = (thisBatch as SlurmClient).AdditionalBatchCommands.ToList();\n",
    "    Cmdtmp.Add($\"#SBATCH -N {NoOfNodes}\");\n",
    "    (thisBatch as SlurmClient).AdditionalBatchCommands = Cmdtmp.ToArray();\n",
    "};"
   ]
  },
  {
   "cell_type": "markdown",
   "metadata": {},
   "source": []
  },
  {
   "cell_type": "code",
   "execution_count": null,
   "metadata": {
    "dotnet_interactive": {
     "language": "csharp"
    }
   },
   "outputs": [],
   "source": [
    "controls.Select(s=>s.Value.SessionName)"
   ]
  },
  {
   "cell_type": "code",
   "execution_count": null,
   "metadata": {
    "dotnet_interactive": {
     "language": "csharp"
    }
   },
   "outputs": [],
   "source": [
    "int iSweep=0;\n",
    "foreach(var ctrl in controls){\n",
    "    try{\n",
    "    int cores= ctrl.Key.Cores;\n",
    "    var ctrlobj = ctrl.Value;\n",
    "    string sessname = ctrlobj.SessionName;\n",
    "    ctrlobj.SessionName = sessname + \"_c\"+cores+\"_Re50_\"+\"mue_\"+ctrlobj.PhysicalParameters.mu_A;\n",
    "    var aJob   = new Job(\"rotSphereInlet_\"+Gshape+ctrlobj.SessionName,typeof(XNSE));\n",
    "    aJob.SetControlObject(ctrlobj);\n",
    "    aJob.NumberOfMPIProcs         = cores;\n",
    "    aJob.ExecutionTime            = \"3:00:00\";\n",
    "    aJob.UseComputeNodesExclusive = true;\n",
    "\n",
    "    if(myBatch is SlurmClient) NodeRegression.Invoke(cores,myBatch);\n",
    "\n",
    "    aJob.Activate(myBatch);\n",
    "    iSweep++;\n",
    "    } catch (Exception ex){\n",
    "        Console.WriteLine(ex.Message);\n",
    "    }\n",
    "}"
   ]
  },
  {
   "cell_type": "code",
   "execution_count": null,
   "metadata": {
    "dotnet_interactive": {
     "language": "csharp"
    }
   },
   "outputs": [],
   "source": [
    "BoSSS.Application.BoSSSpad.BoSSSshell.WorkflowMgm.BlockUntilAllJobsTerminate();"
   ]
  }
 ],
 "metadata": {
  "kernelspec": {
   "display_name": ".NET (C#)",
   "language": "C#",
   "name": ".net-csharp"
  },
  "language_info": {
   "file_extension": ".cs",
   "mimetype": "text/x-csharp",
   "name": "C#",
   "pygments_lexer": "csharp",
   "version": "9.0"
  },
  "orig_nbformat": 2
 },
 "nbformat": 4,
 "nbformat_minor": 2
}
