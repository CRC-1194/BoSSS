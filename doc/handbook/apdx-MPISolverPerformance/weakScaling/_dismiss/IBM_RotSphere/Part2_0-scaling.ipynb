{
 "metadata": {
  "kernelspec": {
   "display_name": ".NET (C#)",
   "language": "C#",
   "name": ".net-csharp"
  },
  "language_info": {
   "name": "C#"
  }
 },
 "cells": [
  {
   "cell_type": "code",
   "execution_count": null,
   "source": [
    "#r \"./../../../../../../public/src/L4-application/BoSSSpad/bin/Release/net5.0/BoSSSpad.dll\"\r\n",
    "using System;\r\n",
    "using ilPSP;\r\n",
    "using ilPSP.Utils;\r\n",
    "using BoSSS.Platform;\r\n",
    "using BoSSS.Foundation;\r\n",
    "using BoSSS.Foundation.XDG;\r\n",
    "using BoSSS.Foundation.Grid;\r\n",
    "using BoSSS.Solution;\r\n",
    "using BoSSS.Application.XNSE_Solver;\r\n",
    "using System.IO;\r\n",
    "using BoSSS.Foundation.IO;\r\n",
    "using ilPSP.Tracing;\r\n",
    "using BoSSS.Application.BoSSSpad;\r\n",
    "using BoSSS.Solution.Gnuplot;\r\n",
    "using BoSSS.Solution.AdvancedSolvers;\r\n",
    "\r\n",
    "using static BoSSS.Application.BoSSSpad.BoSSSshell;\r\n",
    "Init();"
   ],
   "outputs": [
    {
     "output_type": "stream",
     "name": "stdout",
     "text": [
      "Using gnuplot: B:\\BoSSS-BIN\\bin\\native\\win\\gnuplot-gp510-20160418-win32-mingw\\gnuplot\\bin\\gnuplot.exe\r\n",
      "ArgumentException caught while opening database #2 at 'H:\\weber': Database Error: field state directory (H:\\weber\\timesteps) does not exist.\r\n",
      "Databases loaded: \r\n",
      "Capacity: 4\r\n",
      "Count: 3\r\n",
      "\r\n"
     ]
    }
   ],
   "metadata": {
    "dotnet_interactive": {
     "language": "csharp"
    }
   }
  },
  {
   "cell_type": "code",
   "execution_count": null,
   "source": [
    "////================================\r\n",
    "//// pt2 of this sheet: Process Data\r\n",
    "////================================\r\n",
    "// Load Tables\r\n",
    "string basepath = System.IO.\r\n",
    "List<System.Data.DataTable> LoadedTabs = new List<System.Data.DataTable>();\r\n",
    "//LoadedTabs.Add(TableExtensions.LoadFromFile(basepath+\"strong_scaling_3_2021-9-24.json\"));\r\n",
    "LoadedTabs.Add(TableExtensions.LoadFromFile(basepath+\"weak_scaling_4_0_2021-9-27.json\"));\r\n",
    "//LoadedTabs.Add(TableExtensions.LoadFromFile(basepath+\"strong_scaling_3_1_2021-9-24.json\"));\r\n",
    "//LoadedTabs.Add(TableExtensions.LoadFromFile(basepath+\"strong_scaling_3_3_2021-9-.json\"));\r\n",
    "var LoadTab = LoadedTabs.Pick(0);\r\n",
    "LoadedTabs.ForEach(s=>LoadTab.Merge(s)); LoadTab.Rows.Count()"
   ],
   "outputs": [
    {
     "data": {
      "text/html": [
       "<div class=\"dni-plaintext\">15</div>"
      ]
     },
     "metadata": {},
     "output_type": "display_data"
    }
   ],
   "metadata": {
    "dotnet_interactive": {
     "language": "csharp"
    }
   }
  },
  {
   "cell_type": "code",
   "execution_count": null,
   "source": [
    "string[] ColumnNames = new string[]{               \r\n",
    "   \"OrthonormalizationMultigrid.AddSol\",\r\n",
    "   \"Schwarz.Solve\",\r\n",
    "   \"OrthonormalizationMultigrid.MinimizeResidual\",\r\n",
    "   \"OrthonormalizationMultigrid.Residual\",\r\n",
    "   \"OrthonormalizationMultigrid.Solve\",\r\n",
    "   \"overlap_scaling\",\r\n",
    "   \"block_solve_level\",\r\n",
    "   //\"caching\",\r\n",
    "   //\"nocaching\",\r\n",
    "   \"OrthonormalizationMultigrid.VerivyCurrentResidual\",\r\n",
    "   \"Restriction\",\r\n",
    "   \"Prolongation\",\r\n",
    "   \"SolverRun_time\",\r\n",
    "   \"LSolverIter\",\r\n",
    "   \"DGdegree:Velocity*\",\r\n",
    "   \"DOF\",\r\n",
    "   \"MGDepth\",\r\n",
    "   \"NoOfNodes\",\r\n",
    "   \"NoOfCores\",\r\n",
    "   //\"DirectSolver.Solve\",\r\n",
    "};"
   ],
   "outputs": [],
   "metadata": {
    "dotnet_interactive": {
     "language": "csharp"
    }
   }
  },
  {
   "cell_type": "code",
   "execution_count": null,
   "source": [
    "var SesTab = LoadTab.ExtractColumns(ColumnNames);"
   ],
   "outputs": [],
   "metadata": {
    "dotnet_interactive": {
     "language": "csharp"
    }
   }
  },
  {
   "cell_type": "code",
   "execution_count": null,
   "source": [
    "// Average of Repititions ... pt1: Group Runs\r\n",
    "var RegistryOfRuns = new Dictionary<string,List<System.Data.DataRow>>();\r\n",
    "foreach(System.Data.DataRow Row in SesTab.Rows){\r\n",
    "    string test = \"\";\r\n",
    "    test += \"k\"+Convert.ToString(Row[\"DGdegree:Velocity*\"]);\r\n",
    "    test += \"_c\"+Convert.ToString(Row[\"NoOfCores\"]);\r\n",
    "    List<System.Data.DataRow> Reps;\r\n",
    "    if(RegistryOfRuns.TryGetValue(test,out Reps)){\r\n",
    "        Reps.Add(Row);\r\n",
    "    } else {\r\n",
    "        Reps = new List<System.Data.DataRow>();\r\n",
    "        Reps.Add(Row);\r\n",
    "        RegistryOfRuns.Add(test,Reps);\r\n",
    "    }\r\n",
    "} RegistryOfRuns.OrderBy(s=>s.Key[0]).OrderBy(s=>s.Key[1]).Select(s=>new object[]{s.Key,s.Value.Count()})"
   ],
   "outputs": [
    {
     "data": {
      "text/html": [
       "<table><thead><tr><th><i>index</i></th><th>value</th></tr></thead><tbody><tr><td>0</td><td><div class=\"dni-plaintext\">[ k2_c256, 1 ]</div></td></tr><tr><td>1</td><td><div class=\"dni-plaintext\">[ k2_c128, 1 ]</div></td></tr><tr><td>2</td><td><div class=\"dni-plaintext\">[ k2_c64, 1 ]</div></td></tr><tr><td>3</td><td><div class=\"dni-plaintext\">[ k2_c32, 1 ]</div></td></tr><tr><td>4</td><td><div class=\"dni-plaintext\">[ k2_c16, 1 ]</div></td></tr><tr><td>5</td><td><div class=\"dni-plaintext\">[ k3_c256, 1 ]</div></td></tr><tr><td>6</td><td><div class=\"dni-plaintext\">[ k3_c128, 1 ]</div></td></tr><tr><td>7</td><td><div class=\"dni-plaintext\">[ k3_c64, 1 ]</div></td></tr><tr><td>8</td><td><div class=\"dni-plaintext\">[ k3_c32, 1 ]</div></td></tr><tr><td>9</td><td><div class=\"dni-plaintext\">[ k3_c16, 1 ]</div></td></tr><tr><td>10</td><td><div class=\"dni-plaintext\">[ k4_c256, 1 ]</div></td></tr><tr><td>11</td><td><div class=\"dni-plaintext\">[ k4_c128, 1 ]</div></td></tr><tr><td>12</td><td><div class=\"dni-plaintext\">[ k4_c64, 1 ]</div></td></tr><tr><td>13</td><td><div class=\"dni-plaintext\">[ k4_c32, 1 ]</div></td></tr><tr><td>14</td><td><div class=\"dni-plaintext\">[ k4_c16, 1 ]</div></td></tr></tbody></table>"
      ]
     },
     "metadata": {},
     "output_type": "display_data"
    }
   ],
   "metadata": {
    "dotnet_interactive": {
     "language": "csharp"
    }
   }
  },
  {
   "cell_type": "code",
   "execution_count": null,
   "source": [
    "// Average of Repititions ... pt2: Compute Average\r\n",
    "var tmp = SesTab.Clone();\r\n",
    "tmp.Clear();\r\n",
    "foreach(var kvp in RegistryOfRuns){\r\n",
    "    var newrow = tmp.NewRow();\r\n",
    "    var sample = kvp.Value.First();\r\n",
    "    newrow[\"DGdegree:Velocity*\"]=Convert.ToInt32(sample[\"DGdegree:Velocity*\"]);\r\n",
    "    newrow[\"NoOfCores\"]=Convert.ToInt32(sample[\"NoOfCores\"]);\r\n",
    "    foreach(System.Data.DataColumn col in tmp.Columns){\r\n",
    "        if(col.ColumnName==\"DGdegree:Velocity*\"||col.ColumnName==\"NoOfCores\")\r\n",
    "            continue;\r\n",
    "        double value=0.0;\r\n",
    "        foreach(System.Data.DataRow row in kvp.Value){\r\n",
    "            value+=Convert.ToDouble(row[col.ColumnName]);\r\n",
    "        }\r\n",
    "        newrow[col]=value / kvp.Value.Count();\r\n",
    "    }\r\n",
    "    tmp.Rows.Add(newrow);\r\n",
    "}\r\n",
    "SesTab = tmp;\r\n",
    "SesTab.Print()"
   ],
   "outputs": [
    {
     "output_type": "stream",
     "name": "stdout",
     "text": [
      "    OrthonormalizationMultigrid.AddSol Schwarz.Solve      OrthonormalizationMultigrid.MinimizeResidual OrthonormalizationMultigrid.Residual OrthonormalizationMultigrid.Solve overlap_scaling    block_solve_level  OrthonormalizationMultigrid.VerivyCurrentResidual Restriction         Prolongation        SolverRun_time LSolverIter DGdegree:Velocity* DOF     MGDepth NoOfNodes NoOfCores \r\n",
      "0:  103.13406479999999                 139.6655767        4.006172299999999                            3.3955599999999997                   2164.2422509                      68.97567459999999  108.3081707        2.71978                                           7.6306563999999995  4.8572404           856.7742059    320         2                  2896256 4       8         256       \r\n",
      "1:  281.52297109999995                 365.017196         1.6488513999999999                           3.0274434999999995                   14833.7485633                     263.49273800000003 328.19516050000004 1.3033309                                         2.602022            1.8597902999999998  5195.1448011   101         4                  2744000 4       8         256       \r\n",
      "2:  116.2244658                        230.48538349999998 1.5548584                                    4.230268                             7604.5225173                      97.8827192         198.7490485        1.6189312                                         3.9737226000000003  1.9974771           2711.1506716   166         4                  1331000 4       6         128       \r\n",
      "3:  111.3747357                        223.1011817        2.5916916999999997                           3.9192669999999996                   6246.694875899999                 123.3076511        184.68569139999997 2.3252024000000002                                5.2918299           3.4613973           2255.3282185   214         3                  3265920 4       8         256       \r\n",
      "4:  62.3014389                         188.7922938        0.7284793                                    2.0542808                            2244.9999704                      73.11811370000001  167.2042112        0.8458879                                         2.3664914           1.2607454           876.2433022    125         4                  729000  4       4         64        \r\n",
      "5:  41.9428261                         128.0623203        0.9428061999999999                           1.7291729999999998                   1190.6799707999999                52.066894500000004 112.34032140000001 0.7179185                                         1.9541219           1.0518953           486.3525383    99          3                  1536640 4       6         128       \r\n",
      "6:  81.14681440000001                  129.9042986        3.0059210000000003                           5.569371500000001                    944.1942473                       38.6257607         99.7927357         1.8768844999999998                                6.452644399999999   2.930422            433.2271056    294         2                  1586304 4       6         128       \r\n",
      "7:  23.9159795                         89.49547059999999  0.5407227                                    1.04156                              487.6387419                       34.2709683         78.89865230000001  0.5864859                                         1.2306243           0.7977658           224.6711767    87          3                  745360  4       4         64        \r\n",
      "8:  31.4758457                         139.7001617        0.5242192                                    1.5728799                            829.2331348                       53.99827930000001  125.5728915        0.7344399                                         1.4620696           1.0725049           372.1763627    112         4                  343000  4       2         32        \r\n",
      "9:  24.9812508                         60.5878967         0.9830389                                    1.317713                             241.5460691                       18.7882475         49.1673302         0.7795422999999999                                2.4075223           1.2546061000000002  128.3245849    149         2                  746368  4       4         64        \r\n",
      "10: 22.6468091                         97.3048397         0.4313215                                    0.8089329000000001                   264.727849                        39.73159460000001  89.2435347         0.4602849                                         1.0769662           0.7628753           154.1066725    84          3                  408240  4       2         32        \r\n",
      "11: 18.9908271                         71.7187567         0.26459109999999997                          0.8864761000000001                   427.01023599999996                20.7955119         62.92901           0.43842590000000004                               0.6303155           0.6317756999999999  249.3349342    110         4                  166375  3       2         16        \r\n",
      "12: 8.8084585                          29.450777799999997 0.2686642                                    0.3445657                            144.1248192                       9.610329799999999  25.492578899999998 0.25351429999999997                               0.44420839999999995 0.4395533           87.9410843     69          2                  362032  3       2         32        \r\n",
      "13: 9.155172499999999                  41.4026565         0.1794766                                    0.4292845                            150.4911164                       11.5345383         36.687025399999996 0.27636340000000004                               0.4189017           0.4059158           96.6070814     73          3                  192080  3       2         16        \r\n",
      "14: 5.5246602                          23.5209641         0.192004                                     0.2403416                            75.4254775                        6.9779096          20.6970442         0.191538                                          0.3503605           0.35637430000000003 49.9462632     65          2                  198288  3       2         16        "
     ]
    }
   ],
   "metadata": {
    "dotnet_interactive": {
     "language": "csharp"
    }
   }
  },
  {
   "cell_type": "code",
   "execution_count": null,
   "source": [
    "//string thisdir = Directory.GetCurrentDirectory();\r\n",
    "//SesTab.ToCSVFile(thisdir+@\"\\table.csv\");"
   ],
   "outputs": [],
   "metadata": {
    "dotnet_interactive": {
     "language": "csharp"
    }
   }
  },
  {
   "cell_type": "code",
   "execution_count": null,
   "source": [
    "// Minitab blaupause 4 Runtime per iteration\r\n",
    "var Minitab_blueprint = new System.Data.DataTable();\r\n",
    "Minitab_blueprint.Columns.Add(\"NoOfCores\", typeof(Int32));\r\n",
    "Minitab_blueprint.Columns.Add(\"runtime_per_iter\", typeof(Double));\r\n",
    "Minitab_blueprint.Columns.Add(\"Speedup\", typeof(Double));"
   ],
   "outputs": [],
   "metadata": {
    "dotnet_interactive": {
     "language": "csharp"
    }
   }
  },
  {
   "cell_type": "code",
   "execution_count": null,
   "source": [
    "// fill minitables for plots\r\n",
    "var listofDGdegree = new List<int>();\r\n",
    "foreach(System.Data.DataRow Row in SesTab.Rows){\r\n",
    "    listofDGdegree.Add(Convert.ToInt32(Row[\"DGdegree:Velocity*\"]));\r\n",
    "}\r\n",
    "List<double> DGdegrees=listofDGdegree.GroupBy(s=>s).Select(s=>s.Average()).ToList();\r\n",
    "string dirpath = Directory.GetCurrentDirectory();\r\n",
    "foreach(double DG in DGdegrees){\r\n",
    "    var MiniTab = Minitab_blueprint.Clone();\r\n",
    "    foreach(System.Data.DataRow Row in SesTab.Rows){\r\n",
    "        if(Convert.ToInt32(Row[\"DGdegree:Velocity*\"])!=DG) continue;\r\n",
    "        var newrow = MiniTab.NewRow();\r\n",
    "        newrow[\"NoOfCores\"] = Convert.ToInt32(Row[\"NoOfCores\"]);\r\n",
    "        double iter = Convert.ToDouble(Row[\"LSolverIter\"]);\r\n",
    "        double runtime = Convert.ToDouble(Row[\"SolverRun_time\"]);\r\n",
    "        newrow[\"runtime_per_iter\"] = runtime / iter;\r\n",
    "        MiniTab.Rows.Add(newrow);\r\n",
    "    }\r\n",
    "    System.Data.DataView view = new System.Data.DataView(MiniTab);\r\n",
    "    view.Sort = \"NoOfCores\";\r\n",
    "    MiniTab=view.ToTable();\r\n",
    "\r\n",
    "    double reference = Convert.ToDouble(MiniTab.Rows[0][\"runtime_per_iter\"]);\r\n",
    "    foreach(System.Data.DataRow Row in MiniTab.Rows){\r\n",
    "        Row[\"Speedup\"]=reference/Convert.ToDouble(Row[\"runtime_per_iter\"]);\r\n",
    "    }\r\n",
    "\r\n",
    "    MiniTab.ToCSVFile(dirpath+@\"\\strong_k\"+DG+\".dat\");\r\n",
    "} dirpath"
   ],
   "outputs": [
    {
     "data": {
      "text/plain": [
       "b:\\BoSSS-smuda\\public\\doc\\handbook\\apdx-MPISolverPerformance\\weakScaling\\IBM_RotSphere"
      ]
     },
     "metadata": {},
     "output_type": "display_data"
    }
   ],
   "metadata": {
    "dotnet_interactive": {
     "language": "csharp"
    }
   }
  },
  {
   "cell_type": "code",
   "execution_count": null,
   "source": [
    "// Generate rnd Formatting for massive multiplots\r\n",
    "var theDict = new List<Tuple<string,DashTypes,LineColors>>();\r\n",
    "public static Tuple<string,DashTypes,LineColors>[] AofFormats;\r\n",
    "var dashes = new DashTypes[]{DashTypes.Dashed,DashTypes.DotDashed,DashTypes.DotDotDashed};\r\n",
    "var points= new PointTypes[]{PointTypes.OpenCircle,PointTypes.OpenCircle,PointTypes.OpenDiamond,PointTypes.OpenUpperTriangle};\r\n",
    "var colors = new LineColors[]{LineColors.Red, LineColors.Green, LineColors.Blue, LineColors.Magenta, LineColors.Yellow, LineColors.Black, LineColors.Orange, LineColors.Grey};\r\n",
    "\r\n",
    "int iSweep=0;\r\n",
    "foreach(string Name in SesTab.GetColumnNames()){\r\n",
    "    //if(Name!=\"OrthonormalizationMultigrid.MinimizeResidual\"&&Name!=\"overlap_scaling\")\r\n",
    "    //    continue;\r\n",
    "    if(Name==\"NoOfCores\"||Name==\"LSolverIter\"||Name==\"DGdegree:Velocity*\"||Name==\"NoOfNodes\"||Name==\"MGDepth\"||Name==\"DOF\")\r\n",
    "        continue;\r\n",
    "    int one=iSweep%(dashes.Length-1);\r\n",
    "    int two=iSweep/(dashes.Length-1);\r\n",
    "    theDict.Add(new Tuple<string,DashTypes,LineColors>(Name,dashes[one],colors[two]));\r\n",
    "    iSweep++;\r\n",
    "}\r\n",
    "AofFormats = theDict.ToArray()"
   ],
   "outputs": [
    {
     "data": {
      "text/html": [
       "<table><thead><tr><th><i>index</i></th><th>Item1</th><th>Item2</th><th>Item3</th></tr></thead><tbody><tr><td>0</td><td>OrthonormalizationMultigrid.AddSol</td><td><span>Dashed</span></td><td><span>Red</span></td></tr><tr><td>1</td><td>Schwarz.Solve</td><td><span>DotDashed</span></td><td><span>Red</span></td></tr><tr><td>2</td><td>OrthonormalizationMultigrid.MinimizeResidual</td><td><span>Dashed</span></td><td><span>Green</span></td></tr><tr><td>3</td><td>OrthonormalizationMultigrid.Residual</td><td><span>DotDashed</span></td><td><span>Green</span></td></tr><tr><td>4</td><td>OrthonormalizationMultigrid.Solve</td><td><span>Dashed</span></td><td><span>Blue</span></td></tr><tr><td>5</td><td>overlap_scaling</td><td><span>DotDashed</span></td><td><span>Blue</span></td></tr><tr><td>6</td><td>block_solve_level</td><td><span>Dashed</span></td><td><span>Magenta</span></td></tr><tr><td>7</td><td>OrthonormalizationMultigrid.VerivyCurrentResidual</td><td><span>DotDashed</span></td><td><span>Magenta</span></td></tr><tr><td>8</td><td>Restriction</td><td><span>Dashed</span></td><td><span>Yellow</span></td></tr><tr><td>9</td><td>Prolongation</td><td><span>DotDashed</span></td><td><span>Yellow</span></td></tr><tr><td>10</td><td>SolverRun_time</td><td><span>Dashed</span></td><td><span>Black</span></td></tr></tbody></table>"
      ]
     },
     "metadata": {},
     "output_type": "display_data"
    }
   ],
   "metadata": {
    "dotnet_interactive": {
     "language": "csharp"
    }
   }
  },
  {
   "cell_type": "code",
   "execution_count": null,
   "source": [
    "public static class DoWhatUWant{\r\n",
    "    public static PlotRowSelectorEx Solver_DG_Proj(int DG){\r\n",
    "    return delegate (int iSweep, int iTabRow, \r\n",
    "                    IDictionary<string, object> Row, \r\n",
    "                    out string Nmn, \r\n",
    "                    out PlotFormat Fmt,\r\n",
    "                    out double xValue, out double yValue) { \r\n",
    "\r\n",
    "            int k  = Convert.ToInt32(Row[\"DGdegree:Velocity*\"]);\r\n",
    "            Nmn = AofFormats[iSweep].Item1;\r\n",
    "\r\n",
    "            if(k != DG ) {\r\n",
    "                // degree does not match -> not in this plot\r\n",
    "                Nmn    = null;\r\n",
    "                Fmt    = null;\r\n",
    "                xValue = 0;\r\n",
    "                yValue = 0;\r\n",
    "                return;\r\n",
    "            } \r\n",
    "            \r\n",
    "            Fmt           = new PlotFormat();\r\n",
    "            Fmt.PointSize = 0.5;\r\n",
    "            Fmt.Style     = Styles.LinesPoints;\r\n",
    "            Fmt.LineWidth = 3;\r\n",
    "\r\n",
    "            Fmt.DashType = AofFormats[iSweep].Item2;\r\n",
    "            Fmt.LineColor = AofFormats[iSweep].Item3;\r\n",
    "            double iter = Convert.ToDouble(Row[\"LSolverIter\"]);\r\n",
    "            yValue = Convert.ToDouble(Row[Nmn])/iter;\r\n",
    "            //yValue = Convert.ToDouble(Row[Nmn]);\r\n",
    "            xValue    = Convert.ToDouble(Row[\"NoOfCores\"]);\r\n",
    "        };\r\n",
    "    }\r\n",
    "\r\n",
    "    public static PlotRowSelectorEx Solver_DG_Proj(){\r\n",
    "        return delegate (int iSweep, int iTabRow, \r\n",
    "                    IDictionary<string, object> Row, \r\n",
    "                    out string Nmn, \r\n",
    "                    out PlotFormat Fmt,\r\n",
    "                    out double xValue, out double yValue) { \r\n",
    "\r\n",
    "            int k           = Convert.ToInt32(Row[\"DGdegree:Velocity*\"]);\r\n",
    "            \r\n",
    "            Fmt           = new PlotFormat();\r\n",
    "            Fmt.PointSize = 0.5;\r\n",
    "            Fmt.Style     = Styles.LinesPoints;\r\n",
    "            Fmt.LineWidth = 3;\r\n",
    "            \r\n",
    "            switch(k){\r\n",
    "            case 2:\r\n",
    "                Nmn=\"k2\";\r\n",
    "                Fmt.LineColor = LineColors.Red;\r\n",
    "                break;\r\n",
    "            case 3:\r\n",
    "                Nmn=\"k3\";\r\n",
    "                Fmt.LineColor = LineColors.Orange;\r\n",
    "                break;\r\n",
    "            case 4:\r\n",
    "                Nmn=\"k4\";\r\n",
    "                Fmt.LineColor = LineColors.Blue;\r\n",
    "                break;\r\n",
    "            default:\r\n",
    "                throw new Exception(\"vergiss es\");\r\n",
    "            }\r\n",
    "            double time = Convert.ToDouble(Row[\"SolverRun_time\"]);\r\n",
    "            double iter = Convert.ToDouble(Row[\"LSolverIter\"]);\r\n",
    "            double timeSchwarz = Convert.ToDouble(Row[\"Schwarz.Solve\"]);\r\n",
    "            //yValue = Convert.ToDouble(Row[\"NoOfNodes\"]);\r\n",
    "            //yValue = time/iter;\r\n",
    "            //yValue = Convert.ToDouble(Row[\"MGDepth\"]);\r\n",
    "            //yValue=Convert.ToDouble(Row[\"LSolverIter\"]);\r\n",
    "            //yValue = iter;\r\n",
    "            yValue = time;\r\n",
    "            xValue = Convert.ToDouble(Row[\"NoOfCores\"]);\r\n",
    "        };\r\n",
    "    }\r\n",
    "}"
   ],
   "outputs": [],
   "metadata": {
    "dotnet_interactive": {
     "language": "csharp"
    }
   }
  },
  {
   "cell_type": "code",
   "execution_count": null,
   "source": [
    "int k = 2;\r\n",
    "int xMin = 16;\r\n",
    "int xMax = 256;"
   ],
   "outputs": [],
   "metadata": {
    "dotnet_interactive": {
     "language": "csharp"
    }
   }
  },
  {
   "cell_type": "code",
   "execution_count": null,
   "source": [
    "Plot2Ddata[,] multiplots = new Plot2Ddata[1,1];\r\n",
    "//multiplots[0,0] = SesTab.ToPlot(DoWhatUWant.Solver_DG_Proj(),AofFormats.Length);\r\n",
    "multiplots[0,0] = SesTab.ToPlot(DoWhatUWant.Solver_DG_Proj(),AofFormats.Length);\r\n",
    "multiplots[0,0].LogX = true;\r\n",
    "multiplots[0,0].LogY = true;\r\n",
    "multiplots[0,0].tmargin = 0;\r\n",
    "multiplots[0,0].bmargin = 5;\r\n",
    "multiplots[0,0].XrangeMin=xMin;\r\n",
    "multiplots[0,0].XrangeMax=xMax;\r\n",
    "multiplots[0,0].YrangeMin=.1;\r\n",
    "multiplots[0,0].YrangeMax=10;\r\n",
    "multiplots[0,0].Ylabel = \"iter\";\r\n",
    "multiplots[0,0].Xlabel = \"cores\";\r\n",
    "multiplots[0,0].LegendAlignment=new string[]{\"i\",\"t\",\"r\"};\r\n",
    "multiplots.PlotNow()"
   ],
   "outputs": [
    {
     "output_type": "stream",
     "name": "stdout",
     "text": [
      "Using gnuplot: B:\\BoSSS-BIN\\bin\\native\\win\\gnuplot-gp510-20160418-win32-mingw\\gnuplot\\bin\\gnuplot.exe\r\n",
      "set key font \",16\"inside top right Left reverse \r\n"
     ]
    },
    {
     "data": {
      "text/html": [
       "<?xml version=\"1.0\" encoding=\"utf-8\"  standalone=\"no\"?>\n",
       "<!DOCTYPE svg PUBLIC \"-//W3C//DTD SVG 1.1//EN\"\n",
       " \"http://www.w3.org/Graphics/SVG/1.1/DTD/svg11.dtd\">\n",
       "<svg \n",
       " width=\"800\" height=\"600\"\n",
       " viewBox=\"0 0 800 600\"\n",
       " xmlns=\"http://www.w3.org/2000/svg\"\n",
       " xmlns:xlink=\"http://www.w3.org/1999/xlink\"\n",
       ">\n",
       "\n",
       "<title>Gnuplot</title>\n",
       "<desc>Produced by GNUPLOT 5.1 patchlevel 0 </desc>\n",
       "\n",
       "<g id=\"gnuplot_canvas\">\n",
       "\n",
       "<rect x=\"0\" y=\"0\" width=\"800\" height=\"600\" fill=\"#ffffff\"/>\n",
       "<defs>\n",
       "\n",
       "\t<circle id='gpDot' r='0.5' stroke-width='0.5'/>\n",
       "\t<path id='gpPt0' stroke-width='0.222' stroke='currentColor' d='M-1,0 h2 M0,-1 v2'/>\n",
       "\t<path id='gpPt1' stroke-width='0.222' stroke='currentColor' d='M-1,-1 L1,1 M1,-1 L-1,1'/>\n",
       "\t<path id='gpPt2' stroke-width='0.222' stroke='currentColor' d='M-1,0 L1,0 M0,-1 L0,1 M-1,-1 L1,1 M-1,1 L1,-1'/>\n",
       "\t<rect id='gpPt3' stroke-width='0.222' stroke='currentColor' x='-1' y='-1' width='2' height='2'/>\n",
       "\t<rect id='gpPt4' stroke-width='0.222' stroke='currentColor' fill='currentColor' x='-1' y='-1' width='2' height='2'/>\n",
       "\t<circle id='gpPt5' stroke-width='0.222' stroke='currentColor' cx='0' cy='0' r='1'/>\n",
       "\t<use xlink:href='#gpPt5' id='gpPt6' fill='currentColor' stroke='none'/>\n",
       "\t<path id='gpPt7' stroke-width='0.222' stroke='currentColor' d='M0,-1.33 L-1.33,0.67 L1.33,0.67 z'/>\n",
       "\t<use xlink:href='#gpPt7' id='gpPt8' fill='currentColor' stroke='none'/>\n",
       "\t<use xlink:href='#gpPt7' id='gpPt9' stroke='currentColor' transform='rotate(180)'/>\n",
       "\t<use xlink:href='#gpPt9' id='gpPt10' fill='currentColor' stroke='none'/>\n",
       "\t<use xlink:href='#gpPt3' id='gpPt11' stroke='currentColor' transform='rotate(45)'/>\n",
       "\t<use xlink:href='#gpPt11' id='gpPt12' fill='currentColor' stroke='none'/>\n",
       "\t<path id='gpPt13' stroke-width='0.222' stroke='currentColor' d='M0,1.330 L1.265,0.411 L0.782,-1.067 L-0.782,-1.076 L-1.265,0.411 z'/>\n",
       "\t<use xlink:href='#gpPt13' id='gpPt14' fill='currentColor' stroke='none'/>\n",
       "\t<filter id='textbox' filterUnits='objectBoundingBox' x='0' y='0' height='1' width='1'>\n",
       "\t  <feFlood flood-color='#FFFFFF' flood-opacity='1' result='bgnd'/>\n",
       "\t  <feComposite in='SourceGraphic' in2='bgnd' operator='atop'/>\n",
       "\t</filter>\n",
       "\t<filter id='greybox' filterUnits='objectBoundingBox' x='0' y='0' height='1' width='1'>\n",
       "\t  <feFlood flood-color='lightgrey' flood-opacity='1' result='grey'/>\n",
       "\t  <feComposite in='SourceGraphic' in2='grey' operator='atop'/>\n",
       "\t</filter>\n",
       "</defs>\n",
       "<g fill=\"none\" color=\"#FFFFFF\" stroke=\"currentColor\" stroke-width=\"1.00\" stroke-linecap=\"butt\" stroke-linejoin=\"miter\">\n",
       "</g>\n",
       "<g fill=\"none\" color=\"black\" stroke=\"currentColor\" stroke-width=\"1.00\" stroke-linecap=\"butt\" stroke-linejoin=\"miter\">\n",
       "\t<path stroke='black'  d='M88.1,504.1 L97.1,504.1 M742.1,504.1 L733.1,504.1  '/>\t<g transform=\"translate(79.8,510.1)\" stroke=\"none\" fill=\"black\" font-family=\"sans\" font-size=\"16.00\"  text-anchor=\"end\">\n",
       "\t\t<text><tspan font-family=\"sans\" >$10</tspan><tspan font-family=\"sans\"  font-size=\"12.8\" dy=\"-8.00px\">-1</tspan><tspan font-family=\"sans\"  font-size=\"16.0\" dy=\"8.00px\">$</tspan></text>\n",
       "\t</g>\n",
       "</g>\n",
       "<g fill=\"none\" color=\"black\" stroke=\"currentColor\" stroke-width=\"1.00\" stroke-linecap=\"butt\" stroke-linejoin=\"miter\">\n",
       "\t<path stroke='black'  d='M88.1,429.1 L92.6,429.1 M742.1,429.1 L737.6,429.1 M88.1,385.3 L92.6,385.3 M742.1,385.3 L737.6,385.3\n",
       "\t\tM88.1,354.2 L92.6,354.2 M742.1,354.2 L737.6,354.2 M88.1,330.1 L92.6,330.1 M742.1,330.1 L737.6,330.1\n",
       "\t\tM88.1,310.3 L92.6,310.3 M742.1,310.3 L737.6,310.3 M88.1,293.7 L92.6,293.7 M742.1,293.7 L737.6,293.7\n",
       "\t\tM88.1,279.2 L92.6,279.2 M742.1,279.2 L737.6,279.2 M88.1,266.5 L92.6,266.5 M742.1,266.5 L737.6,266.5\n",
       "\t\tM88.1,255.1 L97.1,255.1 M742.1,255.1 L733.1,255.1  '/>\t<g transform=\"translate(79.8,261.1)\" stroke=\"none\" fill=\"black\" font-family=\"sans\" font-size=\"16.00\"  text-anchor=\"end\">\n",
       "\t\t<text><tspan font-family=\"sans\" >$10</tspan><tspan font-family=\"sans\"  font-size=\"12.8\" dy=\"-8.00px\">0</tspan><tspan font-family=\"sans\"  font-size=\"16.0\" dy=\"8.00px\">$</tspan></text>\n",
       "\t</g>\n",
       "</g>\n",
       "<g fill=\"none\" color=\"black\" stroke=\"currentColor\" stroke-width=\"1.00\" stroke-linecap=\"butt\" stroke-linejoin=\"miter\">\n",
       "\t<path stroke='black'  d='M88.1,180.1 L92.6,180.1 M742.1,180.1 L737.6,180.1 M88.1,136.3 L92.6,136.3 M742.1,136.3 L737.6,136.3\n",
       "\t\tM88.1,105.2 L92.6,105.2 M742.1,105.2 L737.6,105.2 M88.1,81.1 L92.6,81.1 M742.1,81.1 L737.6,81.1\n",
       "\t\tM88.1,61.3 L92.6,61.3 M742.1,61.3 L737.6,61.3 M88.1,44.7 L92.6,44.7 M742.1,44.7 L737.6,44.7\n",
       "\t\tM88.1,30.2 L92.6,30.2 M742.1,30.2 L737.6,30.2 M88.1,17.5 L92.6,17.5 M742.1,17.5 L737.6,17.5\n",
       "\t\tM88.1,6.1 L97.1,6.1 M742.1,6.1 L733.1,6.1  '/>\t<g transform=\"translate(79.8,12.1)\" stroke=\"none\" fill=\"black\" font-family=\"sans\" font-size=\"16.00\"  text-anchor=\"end\">\n",
       "\t\t<text><tspan font-family=\"sans\" >$10</tspan><tspan font-family=\"sans\"  font-size=\"12.8\" dy=\"-8.00px\">1</tspan><tspan font-family=\"sans\"  font-size=\"16.0\" dy=\"8.00px\">$</tspan></text>\n",
       "\t</g>\n",
       "</g>\n",
       "<g fill=\"none\" color=\"black\" stroke=\"currentColor\" stroke-width=\"1.00\" stroke-linecap=\"butt\" stroke-linejoin=\"miter\">\n",
       "\t<path stroke='black'  d='M140.7,504.1 L140.7,499.6 M140.7,6.1 L140.7,10.6 M236.4,504.1 L236.4,499.6 M236.4,6.1 L236.4,10.6\n",
       "\t\tM304.2,504.1 L304.2,499.6 M304.2,6.1 L304.2,10.6 M356.9,504.1 L356.9,499.6 M356.9,6.1 L356.9,10.6\n",
       "\t\tM399.9,504.1 L399.9,499.6 M399.9,6.1 L399.9,10.6 M436.2,504.1 L436.2,499.6 M436.2,6.1 L436.2,10.6\n",
       "\t\tM467.7,504.1 L467.7,499.6 M467.7,6.1 L467.7,10.6 M495.5,504.1 L495.5,499.6 M495.5,6.1 L495.5,10.6\n",
       "\t\tM520.4,504.1 L520.4,495.1 M520.4,6.1 L520.4,15.1  '/>\t<g transform=\"translate(520.4,535.3)\" stroke=\"none\" fill=\"black\" font-family=\"sans\" font-size=\"16.00\"  text-anchor=\"middle\">\n",
       "\t\t<text><tspan font-family=\"sans\" >$10</tspan><tspan font-family=\"sans\"  font-size=\"12.8\" dy=\"-8.00px\">2</tspan><tspan font-family=\"sans\"  font-size=\"16.0\" dy=\"8.00px\">$</tspan></text>\n",
       "\t</g>\n",
       "</g>\n",
       "<g fill=\"none\" color=\"black\" stroke=\"currentColor\" stroke-width=\"1.00\" stroke-linecap=\"butt\" stroke-linejoin=\"miter\">\n",
       "\t<path stroke='black'  d='M683.9,504.1 L683.9,499.6 M683.9,6.1 L683.9,10.6 M742.1,504.1 L733.1,504.1  '/>\t<g transform=\"translate(750.4,508.6)\" stroke=\"none\" fill=\"black\" font-family=\"Arial\" font-size=\"12.00\"  text-anchor=\"start\">\n",
       "\t\t<text><tspan font-family=\"Arial\" > </tspan></text>\n",
       "\t</g>\n",
       "</g>\n",
       "<g fill=\"none\" color=\"black\" stroke=\"currentColor\" stroke-width=\"1.00\" stroke-linecap=\"butt\" stroke-linejoin=\"miter\">\n",
       "\t<path stroke='black'  d='M742.1,454.3 L733.1,454.3  '/>\t<g transform=\"translate(750.4,458.8)\" stroke=\"none\" fill=\"black\" font-family=\"Arial\" font-size=\"12.00\"  text-anchor=\"start\">\n",
       "\t\t<text><tspan font-family=\"Arial\" > </tspan></text>\n",
       "\t</g>\n",
       "</g>\n",
       "<g fill=\"none\" color=\"black\" stroke=\"currentColor\" stroke-width=\"1.00\" stroke-linecap=\"butt\" stroke-linejoin=\"miter\">\n",
       "\t<path stroke='black'  d='M742.1,404.5 L733.1,404.5  '/>\t<g transform=\"translate(750.4,409.0)\" stroke=\"none\" fill=\"black\" font-family=\"Arial\" font-size=\"12.00\"  text-anchor=\"start\">\n",
       "\t\t<text><tspan font-family=\"Arial\" > </tspan></text>\n",
       "\t</g>\n",
       "</g>\n",
       "<g fill=\"none\" color=\"black\" stroke=\"currentColor\" stroke-width=\"1.00\" stroke-linecap=\"butt\" stroke-linejoin=\"miter\">\n",
       "\t<path stroke='black'  d='M742.1,354.7 L733.1,354.7  '/>\t<g transform=\"translate(750.4,359.2)\" stroke=\"none\" fill=\"black\" font-family=\"Arial\" font-size=\"12.00\"  text-anchor=\"start\">\n",
       "\t\t<text><tspan font-family=\"Arial\" > </tspan></text>\n",
       "\t</g>\n",
       "</g>\n",
       "<g fill=\"none\" color=\"black\" stroke=\"currentColor\" stroke-width=\"1.00\" stroke-linecap=\"butt\" stroke-linejoin=\"miter\">\n",
       "\t<path stroke='black'  d='M742.1,304.9 L733.1,304.9  '/>\t<g transform=\"translate(750.4,309.4)\" stroke=\"none\" fill=\"black\" font-family=\"Arial\" font-size=\"12.00\"  text-anchor=\"start\">\n",
       "\t\t<text><tspan font-family=\"Arial\" > </tspan></text>\n",
       "\t</g>\n",
       "</g>\n",
       "<g fill=\"none\" color=\"black\" stroke=\"currentColor\" stroke-width=\"1.00\" stroke-linecap=\"butt\" stroke-linejoin=\"miter\">\n",
       "\t<path stroke='black'  d='M742.1,255.1 L733.1,255.1  '/>\t<g transform=\"translate(750.4,259.6)\" stroke=\"none\" fill=\"black\" font-family=\"Arial\" font-size=\"12.00\"  text-anchor=\"start\">\n",
       "\t\t<text><tspan font-family=\"Arial\" > </tspan></text>\n",
       "\t</g>\n",
       "</g>\n",
       "<g fill=\"none\" color=\"black\" stroke=\"currentColor\" stroke-width=\"1.00\" stroke-linecap=\"butt\" stroke-linejoin=\"miter\">\n",
       "\t<path stroke='black'  d='M742.1,205.3 L733.1,205.3  '/>\t<g transform=\"translate(750.4,209.8)\" stroke=\"none\" fill=\"black\" font-family=\"Arial\" font-size=\"12.00\"  text-anchor=\"start\">\n",
       "\t\t<text><tspan font-family=\"Arial\" > </tspan></text>\n",
       "\t</g>\n",
       "</g>\n",
       "<g fill=\"none\" color=\"black\" stroke=\"currentColor\" stroke-width=\"1.00\" stroke-linecap=\"butt\" stroke-linejoin=\"miter\">\n",
       "\t<path stroke='black'  d='M742.1,155.5 L733.1,155.5  '/>\t<g transform=\"translate(750.4,160.0)\" stroke=\"none\" fill=\"black\" font-family=\"Arial\" font-size=\"12.00\"  text-anchor=\"start\">\n",
       "\t\t<text><tspan font-family=\"Arial\" > </tspan></text>\n",
       "\t</g>\n",
       "</g>\n",
       "<g fill=\"none\" color=\"black\" stroke=\"currentColor\" stroke-width=\"1.00\" stroke-linecap=\"butt\" stroke-linejoin=\"miter\">\n",
       "\t<path stroke='black'  d='M742.1,105.7 L733.1,105.7  '/>\t<g transform=\"translate(750.4,110.2)\" stroke=\"none\" fill=\"black\" font-family=\"Arial\" font-size=\"12.00\"  text-anchor=\"start\">\n",
       "\t\t<text><tspan font-family=\"Arial\" > </tspan></text>\n",
       "\t</g>\n",
       "</g>\n",
       "<g fill=\"none\" color=\"black\" stroke=\"currentColor\" stroke-width=\"1.00\" stroke-linecap=\"butt\" stroke-linejoin=\"miter\">\n",
       "\t<path stroke='black'  d='M742.1,55.9 L733.1,55.9  '/>\t<g transform=\"translate(750.4,60.4)\" stroke=\"none\" fill=\"black\" font-family=\"Arial\" font-size=\"12.00\"  text-anchor=\"start\">\n",
       "\t\t<text><tspan font-family=\"Arial\" > </tspan></text>\n",
       "\t</g>\n",
       "</g>\n",
       "<g fill=\"none\" color=\"black\" stroke=\"currentColor\" stroke-width=\"1.00\" stroke-linecap=\"butt\" stroke-linejoin=\"miter\">\n",
       "\t<path stroke='black'  d='M742.1,6.1 L733.1,6.1  '/>\t<g transform=\"translate(750.4,10.6)\" stroke=\"none\" fill=\"black\" font-family=\"Arial\" font-size=\"12.00\"  text-anchor=\"start\">\n",
       "\t\t<text><tspan font-family=\"Arial\" > </tspan></text>\n",
       "\t</g>\n",
       "</g>\n",
       "<g fill=\"none\" color=\"black\" stroke=\"currentColor\" stroke-width=\"1.00\" stroke-linecap=\"butt\" stroke-linejoin=\"miter\">\n",
       "\t<path stroke='black'  d='M88.1,6.1 L88.1,15.1  '/></g>\n",
       "<g fill=\"none\" color=\"black\" stroke=\"currentColor\" stroke-width=\"1.00\" stroke-linecap=\"butt\" stroke-linejoin=\"miter\">\n",
       "\t<path stroke='black'  d='M181.5,6.1 L181.5,15.1  '/></g>\n",
       "<g fill=\"none\" color=\"black\" stroke=\"currentColor\" stroke-width=\"1.00\" stroke-linecap=\"butt\" stroke-linejoin=\"miter\">\n",
       "\t<path stroke='black'  d='M275.0,6.1 L275.0,15.1  '/></g>\n",
       "<g fill=\"none\" color=\"black\" stroke=\"currentColor\" stroke-width=\"1.00\" stroke-linecap=\"butt\" stroke-linejoin=\"miter\">\n",
       "\t<path stroke='black'  d='M368.4,6.1 L368.4,15.1  '/></g>\n",
       "<g fill=\"none\" color=\"black\" stroke=\"currentColor\" stroke-width=\"1.00\" stroke-linecap=\"butt\" stroke-linejoin=\"miter\">\n",
       "\t<path stroke='black'  d='M461.8,6.1 L461.8,15.1  '/></g>\n",
       "<g fill=\"none\" color=\"black\" stroke=\"currentColor\" stroke-width=\"1.00\" stroke-linecap=\"butt\" stroke-linejoin=\"miter\">\n",
       "\t<path stroke='black'  d='M555.2,6.1 L555.2,15.1  '/></g>\n",
       "<g fill=\"none\" color=\"black\" stroke=\"currentColor\" stroke-width=\"1.00\" stroke-linecap=\"butt\" stroke-linejoin=\"miter\">\n",
       "\t<path stroke='black'  d='M648.7,6.1 L648.7,15.1  '/></g>\n",
       "<g fill=\"none\" color=\"black\" stroke=\"currentColor\" stroke-width=\"1.00\" stroke-linecap=\"butt\" stroke-linejoin=\"miter\">\n",
       "\t<path stroke='black'  d='M742.1,6.1 L742.1,15.1  '/></g>\n",
       "<g fill=\"none\" color=\"black\" stroke=\"currentColor\" stroke-width=\"1.00\" stroke-linecap=\"butt\" stroke-linejoin=\"miter\">\n",
       "</g>\n",
       "<g fill=\"none\" color=\"black\" stroke=\"currentColor\" stroke-width=\"1.00\" stroke-linecap=\"butt\" stroke-linejoin=\"miter\">\n",
       "\t<path stroke='black'  d='M88.1,6.1 L88.1,504.1 L742.1,504.1 L742.1,6.1 L88.1,6.1 Z  '/></g>\n",
       "<g fill=\"none\" color=\"black\" stroke=\"currentColor\" stroke-width=\"1.00\" stroke-linecap=\"butt\" stroke-linejoin=\"miter\">\n",
       "\t<g transform=\"translate(25.5,255.1) rotate(270)\" stroke=\"none\" fill=\"black\" font-family=\"Arial\" font-size=\"12.00\"  text-anchor=\"middle\">\n",
       "\t\t<text><tspan font-family=\"Arial\" >iter</tspan></text>\n",
       "\t</g>\n",
       "</g>\n",
       "<g fill=\"none\" color=\"black\" stroke=\"currentColor\" stroke-width=\"1.00\" stroke-linecap=\"butt\" stroke-linejoin=\"miter\">\n",
       "\t<g transform=\"translate(415.1,553.6)\" stroke=\"none\" fill=\"black\" font-family=\"Arial\" font-size=\"12.00\"  text-anchor=\"middle\">\n",
       "\t\t<text><tspan font-family=\"Arial\" >cores</tspan></text>\n",
       "\t</g>\n",
       "</g>\n",
       "<g fill=\"none\" color=\"black\" stroke=\"currentColor\" stroke-width=\"1.00\" stroke-linecap=\"butt\" stroke-linejoin=\"miter\">\n",
       "</g>\n",
       "\t<g id=\"gnuplot_plot_1a\" ><title>k2</title>\n",
       "<g fill=\"none\" color=\"#FFFFFF\" stroke=\"currentColor\" stroke-width=\"3.00\" stroke-linecap=\"butt\" stroke-linejoin=\"miter\">\n",
       "</g>\n",
       "<g fill=\"none\" color=\"black\" stroke=\"currentColor\" stroke-width=\"3.00\" stroke-linecap=\"butt\" stroke-linejoin=\"miter\">\n",
       "\t<g transform=\"translate(711.6,33.1)\" stroke=\"none\" fill=\"black\" font-family=\"Arial\" font-size=\"16.00\"  text-anchor=\"start\">\n",
       "\t\t<text><tspan font-family=\"Arial\" >k2</tspan></text>\n",
       "\t</g>\n",
       "</g>\n",
       "<g fill=\"none\" color=\"black\" stroke=\"currentColor\" stroke-width=\"3.00\" stroke-linecap=\"butt\" stroke-linejoin=\"miter\">\n",
       "\t<path stroke='rgb(255,   0,   0)'  d='M647.1,27.1 L700.5,27.1 M88.1,136.3 L251.6,136.3 L415.1,105.2 L578.6,105.2 L742.1,105.2  '/>\t<use xlink:href='#gpPt5' transform='translate(88.1,136.3) scale(2.25)' color='rgb(255,   0,   0)'/>\n",
       "\t<use xlink:href='#gpPt5' transform='translate(88.1,136.3) scale(2.25)' color='rgb(255,   0,   0)'/>\n",
       "\t<use xlink:href='#gpPt5' transform='translate(88.1,136.3) scale(2.25)' color='rgb(255,   0,   0)'/>\n",
       "\t<use xlink:href='#gpPt5' transform='translate(88.1,136.3) scale(2.25)' color='rgb(255,   0,   0)'/>\n",
       "\t<use xlink:href='#gpPt5' transform='translate(88.1,136.3) scale(2.25)' color='rgb(255,   0,   0)'/>\n",
       "\t<use xlink:href='#gpPt5' transform='translate(88.1,136.3) scale(2.25)' color='rgb(255,   0,   0)'/>\n",
       "\t<use xlink:href='#gpPt5' transform='translate(88.1,136.3) scale(2.25)' color='rgb(255,   0,   0)'/>\n",
       "\t<use xlink:href='#gpPt5' transform='translate(88.1,136.3) scale(2.25)' color='rgb(255,   0,   0)'/>\n",
       "\t<use xlink:href='#gpPt5' transform='translate(88.1,136.3) scale(2.25)' color='rgb(255,   0,   0)'/>\n",
       "\t<use xlink:href='#gpPt5' transform='translate(88.1,136.3) scale(2.25)' color='rgb(255,   0,   0)'/>\n",
       "\t<use xlink:href='#gpPt5' transform='translate(88.1,136.3) scale(2.25)' color='rgb(255,   0,   0)'/>\n",
       "\t<use xlink:href='#gpPt5' transform='translate(251.6,136.3) scale(2.25)' color='rgb(255,   0,   0)'/>\n",
       "\t<use xlink:href='#gpPt5' transform='translate(251.6,136.3) scale(2.25)' color='rgb(255,   0,   0)'/>\n",
       "\t<use xlink:href='#gpPt5' transform='translate(251.6,136.3) scale(2.25)' color='rgb(255,   0,   0)'/>\n",
       "\t<use xlink:href='#gpPt5' transform='translate(251.6,136.3) scale(2.25)' color='rgb(255,   0,   0)'/>\n",
       "\t<use xlink:href='#gpPt5' transform='translate(251.6,136.3) scale(2.25)' color='rgb(255,   0,   0)'/>\n",
       "\t<use xlink:href='#gpPt5' transform='translate(251.6,136.3) scale(2.25)' color='rgb(255,   0,   0)'/>\n",
       "\t<use xlink:href='#gpPt5' transform='translate(251.6,136.3) scale(2.25)' color='rgb(255,   0,   0)'/>\n",
       "\t<use xlink:href='#gpPt5' transform='translate(251.6,136.3) scale(2.25)' color='rgb(255,   0,   0)'/>\n",
       "\t<use xlink:href='#gpPt5' transform='translate(251.6,136.3) scale(2.25)' color='rgb(255,   0,   0)'/>\n",
       "\t<use xlink:href='#gpPt5' transform='translate(251.6,136.3) scale(2.25)' color='rgb(255,   0,   0)'/>\n",
       "\t<use xlink:href='#gpPt5' transform='translate(251.6,136.3) scale(2.25)' color='rgb(255,   0,   0)'/>\n",
       "\t<use xlink:href='#gpPt5' transform='translate(415.1,105.2) scale(2.25)' color='rgb(255,   0,   0)'/>\n",
       "\t<use xlink:href='#gpPt5' transform='translate(415.1,105.2) scale(2.25)' color='rgb(255,   0,   0)'/>\n",
       "\t<use xlink:href='#gpPt5' transform='translate(415.1,105.2) scale(2.25)' color='rgb(255,   0,   0)'/>\n",
       "\t<use xlink:href='#gpPt5' transform='translate(415.1,105.2) scale(2.25)' color='rgb(255,   0,   0)'/>\n",
       "\t<use xlink:href='#gpPt5' transform='translate(415.1,105.2) scale(2.25)' color='rgb(255,   0,   0)'/>\n",
       "\t<use xlink:href='#gpPt5' transform='translate(415.1,105.2) scale(2.25)' color='rgb(255,   0,   0)'/>\n",
       "\t<use xlink:href='#gpPt5' transform='translate(415.1,105.2) scale(2.25)' color='rgb(255,   0,   0)'/>\n",
       "\t<use xlink:href='#gpPt5' transform='translate(415.1,105.2) scale(2.25)' color='rgb(255,   0,   0)'/>\n",
       "\t<use xlink:href='#gpPt5' transform='translate(415.1,105.2) scale(2.25)' color='rgb(255,   0,   0)'/>\n",
       "\t<use xlink:href='#gpPt5' transform='translate(415.1,105.2) scale(2.25)' color='rgb(255,   0,   0)'/>\n",
       "\t<use xlink:href='#gpPt5' transform='translate(415.1,105.2) scale(2.25)' color='rgb(255,   0,   0)'/>\n",
       "\t<use xlink:href='#gpPt5' transform='translate(578.6,105.2) scale(2.25)' color='rgb(255,   0,   0)'/>\n",
       "\t<use xlink:href='#gpPt5' transform='translate(578.6,105.2) scale(2.25)' color='rgb(255,   0,   0)'/>\n",
       "\t<use xlink:href='#gpPt5' transform='translate(578.6,105.2) scale(2.25)' color='rgb(255,   0,   0)'/>\n",
       "\t<use xlink:href='#gpPt5' transform='translate(578.6,105.2) scale(2.25)' color='rgb(255,   0,   0)'/>\n",
       "\t<use xlink:href='#gpPt5' transform='translate(578.6,105.2) scale(2.25)' color='rgb(255,   0,   0)'/>\n",
       "\t<use xlink:href='#gpPt5' transform='translate(578.6,105.2) scale(2.25)' color='rgb(255,   0,   0)'/>\n",
       "\t<use xlink:href='#gpPt5' transform='translate(578.6,105.2) scale(2.25)' color='rgb(255,   0,   0)'/>\n",
       "\t<use xlink:href='#gpPt5' transform='translate(578.6,105.2) scale(2.25)' color='rgb(255,   0,   0)'/>\n",
       "\t<use xlink:href='#gpPt5' transform='translate(578.6,105.2) scale(2.25)' color='rgb(255,   0,   0)'/>\n",
       "\t<use xlink:href='#gpPt5' transform='translate(578.6,105.2) scale(2.25)' color='rgb(255,   0,   0)'/>\n",
       "\t<use xlink:href='#gpPt5' transform='translate(578.6,105.2) scale(2.25)' color='rgb(255,   0,   0)'/>\n",
       "\t<use xlink:href='#gpPt5' transform='translate(742.1,105.2) scale(2.25)' color='rgb(255,   0,   0)'/>\n",
       "\t<use xlink:href='#gpPt5' transform='translate(742.1,105.2) scale(2.25)' color='rgb(255,   0,   0)'/>\n",
       "\t<use xlink:href='#gpPt5' transform='translate(742.1,105.2) scale(2.25)' color='rgb(255,   0,   0)'/>\n",
       "\t<use xlink:href='#gpPt5' transform='translate(742.1,105.2) scale(2.25)' color='rgb(255,   0,   0)'/>\n",
       "\t<use xlink:href='#gpPt5' transform='translate(742.1,105.2) scale(2.25)' color='rgb(255,   0,   0)'/>\n",
       "\t<use xlink:href='#gpPt5' transform='translate(742.1,105.2) scale(2.25)' color='rgb(255,   0,   0)'/>\n",
       "\t<use xlink:href='#gpPt5' transform='translate(742.1,105.2) scale(2.25)' color='rgb(255,   0,   0)'/>\n",
       "\t<use xlink:href='#gpPt5' transform='translate(742.1,105.2) scale(2.25)' color='rgb(255,   0,   0)'/>\n",
       "\t<use xlink:href='#gpPt5' transform='translate(742.1,105.2) scale(2.25)' color='rgb(255,   0,   0)'/>\n",
       "\t<use xlink:href='#gpPt5' transform='translate(742.1,105.2) scale(2.25)' color='rgb(255,   0,   0)'/>\n",
       "\t<use xlink:href='#gpPt5' transform='translate(742.1,105.2) scale(2.25)' color='rgb(255,   0,   0)'/>\n",
       "\t<use xlink:href='#gpPt5' transform='translate(673.8,27.1) scale(2.25)' color='rgb(255,   0,   0)'/>\n",
       "</g>\n",
       "\t</g>\n",
       "\t<g id=\"gnuplot_plot_2a\" ><title>k4</title>\n",
       "<g fill=\"none\" color=\"black\" stroke=\"currentColor\" stroke-width=\"3.00\" stroke-linecap=\"butt\" stroke-linejoin=\"miter\">\n",
       "\t<g transform=\"translate(711.6,57.1)\" stroke=\"none\" fill=\"black\" font-family=\"Arial\" font-size=\"16.00\"  text-anchor=\"start\">\n",
       "\t\t<text><tspan font-family=\"Arial\" >k4</tspan></text>\n",
       "\t</g>\n",
       "</g>\n",
       "<g fill=\"none\" color=\"black\" stroke=\"currentColor\" stroke-width=\"3.00\" stroke-linecap=\"butt\" stroke-linejoin=\"miter\">\n",
       "\t<path stroke='rgb(  0,   0, 255)'  d='M647.1,51.1 L700.5,51.1 M88.1,136.3 L251.6,105.2 L415.1,105.2 L578.6,105.2 L742.1,105.2  '/>\t<use xlink:href='#gpPt5' transform='translate(88.1,136.3) scale(2.25)' color='rgb(  0,   0, 255)'/>\n",
       "\t<use xlink:href='#gpPt5' transform='translate(88.1,136.3) scale(2.25)' color='rgb(  0,   0, 255)'/>\n",
       "\t<use xlink:href='#gpPt5' transform='translate(88.1,136.3) scale(2.25)' color='rgb(  0,   0, 255)'/>\n",
       "\t<use xlink:href='#gpPt5' transform='translate(88.1,136.3) scale(2.25)' color='rgb(  0,   0, 255)'/>\n",
       "\t<use xlink:href='#gpPt5' transform='translate(88.1,136.3) scale(2.25)' color='rgb(  0,   0, 255)'/>\n",
       "\t<use xlink:href='#gpPt5' transform='translate(88.1,136.3) scale(2.25)' color='rgb(  0,   0, 255)'/>\n",
       "\t<use xlink:href='#gpPt5' transform='translate(88.1,136.3) scale(2.25)' color='rgb(  0,   0, 255)'/>\n",
       "\t<use xlink:href='#gpPt5' transform='translate(88.1,136.3) scale(2.25)' color='rgb(  0,   0, 255)'/>\n",
       "\t<use xlink:href='#gpPt5' transform='translate(88.1,136.3) scale(2.25)' color='rgb(  0,   0, 255)'/>\n",
       "\t<use xlink:href='#gpPt5' transform='translate(88.1,136.3) scale(2.25)' color='rgb(  0,   0, 255)'/>\n",
       "\t<use xlink:href='#gpPt5' transform='translate(88.1,136.3) scale(2.25)' color='rgb(  0,   0, 255)'/>\n",
       "\t<use xlink:href='#gpPt5' transform='translate(251.6,105.2) scale(2.25)' color='rgb(  0,   0, 255)'/>\n",
       "\t<use xlink:href='#gpPt5' transform='translate(251.6,105.2) scale(2.25)' color='rgb(  0,   0, 255)'/>\n",
       "\t<use xlink:href='#gpPt5' transform='translate(251.6,105.2) scale(2.25)' color='rgb(  0,   0, 255)'/>\n",
       "\t<use xlink:href='#gpPt5' transform='translate(251.6,105.2) scale(2.25)' color='rgb(  0,   0, 255)'/>\n",
       "\t<use xlink:href='#gpPt5' transform='translate(251.6,105.2) scale(2.25)' color='rgb(  0,   0, 255)'/>\n",
       "\t<use xlink:href='#gpPt5' transform='translate(251.6,105.2) scale(2.25)' color='rgb(  0,   0, 255)'/>\n",
       "\t<use xlink:href='#gpPt5' transform='translate(251.6,105.2) scale(2.25)' color='rgb(  0,   0, 255)'/>\n",
       "\t<use xlink:href='#gpPt5' transform='translate(251.6,105.2) scale(2.25)' color='rgb(  0,   0, 255)'/>\n",
       "\t<use xlink:href='#gpPt5' transform='translate(251.6,105.2) scale(2.25)' color='rgb(  0,   0, 255)'/>\n",
       "\t<use xlink:href='#gpPt5' transform='translate(251.6,105.2) scale(2.25)' color='rgb(  0,   0, 255)'/>\n",
       "\t<use xlink:href='#gpPt5' transform='translate(251.6,105.2) scale(2.25)' color='rgb(  0,   0, 255)'/>\n",
       "\t<use xlink:href='#gpPt5' transform='translate(415.1,105.2) scale(2.25)' color='rgb(  0,   0, 255)'/>\n",
       "\t<use xlink:href='#gpPt5' transform='translate(415.1,105.2) scale(2.25)' color='rgb(  0,   0, 255)'/>\n",
       "\t<use xlink:href='#gpPt5' transform='translate(415.1,105.2) scale(2.25)' color='rgb(  0,   0, 255)'/>\n",
       "\t<use xlink:href='#gpPt5' transform='translate(415.1,105.2) scale(2.25)' color='rgb(  0,   0, 255)'/>\n",
       "\t<use xlink:href='#gpPt5' transform='translate(415.1,105.2) scale(2.25)' color='rgb(  0,   0, 255)'/>\n",
       "\t<use xlink:href='#gpPt5' transform='translate(415.1,105.2) scale(2.25)' color='rgb(  0,   0, 255)'/>\n",
       "\t<use xlink:href='#gpPt5' transform='translate(415.1,105.2) scale(2.25)' color='rgb(  0,   0, 255)'/>\n",
       "\t<use xlink:href='#gpPt5' transform='translate(415.1,105.2) scale(2.25)' color='rgb(  0,   0, 255)'/>\n",
       "\t<use xlink:href='#gpPt5' transform='translate(415.1,105.2) scale(2.25)' color='rgb(  0,   0, 255)'/>\n",
       "\t<use xlink:href='#gpPt5' transform='translate(415.1,105.2) scale(2.25)' color='rgb(  0,   0, 255)'/>\n",
       "\t<use xlink:href='#gpPt5' transform='translate(415.1,105.2) scale(2.25)' color='rgb(  0,   0, 255)'/>\n",
       "\t<use xlink:href='#gpPt5' transform='translate(578.6,105.2) scale(2.25)' color='rgb(  0,   0, 255)'/>\n",
       "\t<use xlink:href='#gpPt5' transform='translate(578.6,105.2) scale(2.25)' color='rgb(  0,   0, 255)'/>\n",
       "\t<use xlink:href='#gpPt5' transform='translate(578.6,105.2) scale(2.25)' color='rgb(  0,   0, 255)'/>\n",
       "\t<use xlink:href='#gpPt5' transform='translate(578.6,105.2) scale(2.25)' color='rgb(  0,   0, 255)'/>\n",
       "\t<use xlink:href='#gpPt5' transform='translate(578.6,105.2) scale(2.25)' color='rgb(  0,   0, 255)'/>\n",
       "\t<use xlink:href='#gpPt5' transform='translate(578.6,105.2) scale(2.25)' color='rgb(  0,   0, 255)'/>\n",
       "\t<use xlink:href='#gpPt5' transform='translate(578.6,105.2) scale(2.25)' color='rgb(  0,   0, 255)'/>\n",
       "\t<use xlink:href='#gpPt5' transform='translate(578.6,105.2) scale(2.25)' color='rgb(  0,   0, 255)'/>\n",
       "\t<use xlink:href='#gpPt5' transform='translate(578.6,105.2) scale(2.25)' color='rgb(  0,   0, 255)'/>\n",
       "\t<use xlink:href='#gpPt5' transform='translate(578.6,105.2) scale(2.25)' color='rgb(  0,   0, 255)'/>\n",
       "\t<use xlink:href='#gpPt5' transform='translate(578.6,105.2) scale(2.25)' color='rgb(  0,   0, 255)'/>\n",
       "\t<use xlink:href='#gpPt5' transform='translate(742.1,105.2) scale(2.25)' color='rgb(  0,   0, 255)'/>\n",
       "\t<use xlink:href='#gpPt5' transform='translate(742.1,105.2) scale(2.25)' color='rgb(  0,   0, 255)'/>\n",
       "\t<use xlink:href='#gpPt5' transform='translate(742.1,105.2) scale(2.25)' color='rgb(  0,   0, 255)'/>\n",
       "\t<use xlink:href='#gpPt5' transform='translate(742.1,105.2) scale(2.25)' color='rgb(  0,   0, 255)'/>\n",
       "\t<use xlink:href='#gpPt5' transform='translate(742.1,105.2) scale(2.25)' color='rgb(  0,   0, 255)'/>\n",
       "\t<use xlink:href='#gpPt5' transform='translate(742.1,105.2) scale(2.25)' color='rgb(  0,   0, 255)'/>\n",
       "\t<use xlink:href='#gpPt5' transform='translate(742.1,105.2) scale(2.25)' color='rgb(  0,   0, 255)'/>\n",
       "\t<use xlink:href='#gpPt5' transform='translate(742.1,105.2) scale(2.25)' color='rgb(  0,   0, 255)'/>\n",
       "\t<use xlink:href='#gpPt5' transform='translate(742.1,105.2) scale(2.25)' color='rgb(  0,   0, 255)'/>\n",
       "\t<use xlink:href='#gpPt5' transform='translate(742.1,105.2) scale(2.25)' color='rgb(  0,   0, 255)'/>\n",
       "\t<use xlink:href='#gpPt5' transform='translate(742.1,105.2) scale(2.25)' color='rgb(  0,   0, 255)'/>\n",
       "\t<use xlink:href='#gpPt5' transform='translate(673.8,51.1) scale(2.25)' color='rgb(  0,   0, 255)'/>\n",
       "</g>\n",
       "\t</g>\n",
       "\t<g id=\"gnuplot_plot_3a\" ><title>k3</title>\n",
       "<g fill=\"none\" color=\"black\" stroke=\"currentColor\" stroke-width=\"3.00\" stroke-linecap=\"butt\" stroke-linejoin=\"miter\">\n",
       "\t<g transform=\"translate(711.6,81.1)\" stroke=\"none\" fill=\"black\" font-family=\"Arial\" font-size=\"16.00\"  text-anchor=\"start\">\n",
       "\t\t<text><tspan font-family=\"Arial\" >k3</tspan></text>\n",
       "\t</g>\n",
       "</g>\n",
       "<g fill=\"none\" color=\"black\" stroke=\"currentColor\" stroke-width=\"3.00\" stroke-linecap=\"butt\" stroke-linejoin=\"miter\">\n",
       "\t<path stroke='rgb(255, 165,   0)'  d='M647.1,75.1 L700.5,75.1 M88.1,136.3 L251.6,105.2 L415.1,105.2 L578.6,105.2 L742.1,105.2  '/>\t<use xlink:href='#gpPt5' transform='translate(88.1,136.3) scale(2.25)' color='rgb(255, 165,   0)'/>\n",
       "\t<use xlink:href='#gpPt5' transform='translate(88.1,136.3) scale(2.25)' color='rgb(255, 165,   0)'/>\n",
       "\t<use xlink:href='#gpPt5' transform='translate(88.1,136.3) scale(2.25)' color='rgb(255, 165,   0)'/>\n",
       "\t<use xlink:href='#gpPt5' transform='translate(88.1,136.3) scale(2.25)' color='rgb(255, 165,   0)'/>\n",
       "\t<use xlink:href='#gpPt5' transform='translate(88.1,136.3) scale(2.25)' color='rgb(255, 165,   0)'/>\n",
       "\t<use xlink:href='#gpPt5' transform='translate(88.1,136.3) scale(2.25)' color='rgb(255, 165,   0)'/>\n",
       "\t<use xlink:href='#gpPt5' transform='translate(88.1,136.3) scale(2.25)' color='rgb(255, 165,   0)'/>\n",
       "\t<use xlink:href='#gpPt5' transform='translate(88.1,136.3) scale(2.25)' color='rgb(255, 165,   0)'/>\n",
       "\t<use xlink:href='#gpPt5' transform='translate(88.1,136.3) scale(2.25)' color='rgb(255, 165,   0)'/>\n",
       "\t<use xlink:href='#gpPt5' transform='translate(88.1,136.3) scale(2.25)' color='rgb(255, 165,   0)'/>\n",
       "\t<use xlink:href='#gpPt5' transform='translate(88.1,136.3) scale(2.25)' color='rgb(255, 165,   0)'/>\n",
       "\t<use xlink:href='#gpPt5' transform='translate(251.6,105.2) scale(2.25)' color='rgb(255, 165,   0)'/>\n",
       "\t<use xlink:href='#gpPt5' transform='translate(251.6,105.2) scale(2.25)' color='rgb(255, 165,   0)'/>\n",
       "\t<use xlink:href='#gpPt5' transform='translate(251.6,105.2) scale(2.25)' color='rgb(255, 165,   0)'/>\n",
       "\t<use xlink:href='#gpPt5' transform='translate(251.6,105.2) scale(2.25)' color='rgb(255, 165,   0)'/>\n",
       "\t<use xlink:href='#gpPt5' transform='translate(251.6,105.2) scale(2.25)' color='rgb(255, 165,   0)'/>\n",
       "\t<use xlink:href='#gpPt5' transform='translate(251.6,105.2) scale(2.25)' color='rgb(255, 165,   0)'/>\n",
       "\t<use xlink:href='#gpPt5' transform='translate(251.6,105.2) scale(2.25)' color='rgb(255, 165,   0)'/>\n",
       "\t<use xlink:href='#gpPt5' transform='translate(251.6,105.2) scale(2.25)' color='rgb(255, 165,   0)'/>\n",
       "\t<use xlink:href='#gpPt5' transform='translate(251.6,105.2) scale(2.25)' color='rgb(255, 165,   0)'/>\n",
       "\t<use xlink:href='#gpPt5' transform='translate(251.6,105.2) scale(2.25)' color='rgb(255, 165,   0)'/>\n",
       "\t<use xlink:href='#gpPt5' transform='translate(251.6,105.2) scale(2.25)' color='rgb(255, 165,   0)'/>\n",
       "\t<use xlink:href='#gpPt5' transform='translate(415.1,105.2) scale(2.25)' color='rgb(255, 165,   0)'/>\n",
       "\t<use xlink:href='#gpPt5' transform='translate(415.1,105.2) scale(2.25)' color='rgb(255, 165,   0)'/>\n",
       "\t<use xlink:href='#gpPt5' transform='translate(415.1,105.2) scale(2.25)' color='rgb(255, 165,   0)'/>\n",
       "\t<use xlink:href='#gpPt5' transform='translate(415.1,105.2) scale(2.25)' color='rgb(255, 165,   0)'/>\n",
       "\t<use xlink:href='#gpPt5' transform='translate(415.1,105.2) scale(2.25)' color='rgb(255, 165,   0)'/>\n",
       "\t<use xlink:href='#gpPt5' transform='translate(415.1,105.2) scale(2.25)' color='rgb(255, 165,   0)'/>\n",
       "\t<use xlink:href='#gpPt5' transform='translate(415.1,105.2) scale(2.25)' color='rgb(255, 165,   0)'/>\n",
       "\t<use xlink:href='#gpPt5' transform='translate(415.1,105.2) scale(2.25)' color='rgb(255, 165,   0)'/>\n",
       "\t<use xlink:href='#gpPt5' transform='translate(415.1,105.2) scale(2.25)' color='rgb(255, 165,   0)'/>\n",
       "\t<use xlink:href='#gpPt5' transform='translate(415.1,105.2) scale(2.25)' color='rgb(255, 165,   0)'/>\n",
       "\t<use xlink:href='#gpPt5' transform='translate(415.1,105.2) scale(2.25)' color='rgb(255, 165,   0)'/>\n",
       "\t<use xlink:href='#gpPt5' transform='translate(578.6,105.2) scale(2.25)' color='rgb(255, 165,   0)'/>\n",
       "\t<use xlink:href='#gpPt5' transform='translate(578.6,105.2) scale(2.25)' color='rgb(255, 165,   0)'/>\n",
       "\t<use xlink:href='#gpPt5' transform='translate(578.6,105.2) scale(2.25)' color='rgb(255, 165,   0)'/>\n",
       "\t<use xlink:href='#gpPt5' transform='translate(578.6,105.2) scale(2.25)' color='rgb(255, 165,   0)'/>\n",
       "\t<use xlink:href='#gpPt5' transform='translate(578.6,105.2) scale(2.25)' color='rgb(255, 165,   0)'/>\n",
       "\t<use xlink:href='#gpPt5' transform='translate(578.6,105.2) scale(2.25)' color='rgb(255, 165,   0)'/>\n",
       "\t<use xlink:href='#gpPt5' transform='translate(578.6,105.2) scale(2.25)' color='rgb(255, 165,   0)'/>\n",
       "\t<use xlink:href='#gpPt5' transform='translate(578.6,105.2) scale(2.25)' color='rgb(255, 165,   0)'/>\n",
       "\t<use xlink:href='#gpPt5' transform='translate(578.6,105.2) scale(2.25)' color='rgb(255, 165,   0)'/>\n",
       "\t<use xlink:href='#gpPt5' transform='translate(578.6,105.2) scale(2.25)' color='rgb(255, 165,   0)'/>\n",
       "\t<use xlink:href='#gpPt5' transform='translate(578.6,105.2) scale(2.25)' color='rgb(255, 165,   0)'/>\n",
       "\t<use xlink:href='#gpPt5' transform='translate(742.1,105.2) scale(2.25)' color='rgb(255, 165,   0)'/>\n",
       "\t<use xlink:href='#gpPt5' transform='translate(742.1,105.2) scale(2.25)' color='rgb(255, 165,   0)'/>\n",
       "\t<use xlink:href='#gpPt5' transform='translate(742.1,105.2) scale(2.25)' color='rgb(255, 165,   0)'/>\n",
       "\t<use xlink:href='#gpPt5' transform='translate(742.1,105.2) scale(2.25)' color='rgb(255, 165,   0)'/>\n",
       "\t<use xlink:href='#gpPt5' transform='translate(742.1,105.2) scale(2.25)' color='rgb(255, 165,   0)'/>\n",
       "\t<use xlink:href='#gpPt5' transform='translate(742.1,105.2) scale(2.25)' color='rgb(255, 165,   0)'/>\n",
       "\t<use xlink:href='#gpPt5' transform='translate(742.1,105.2) scale(2.25)' color='rgb(255, 165,   0)'/>\n",
       "\t<use xlink:href='#gpPt5' transform='translate(742.1,105.2) scale(2.25)' color='rgb(255, 165,   0)'/>\n",
       "\t<use xlink:href='#gpPt5' transform='translate(742.1,105.2) scale(2.25)' color='rgb(255, 165,   0)'/>\n",
       "\t<use xlink:href='#gpPt5' transform='translate(742.1,105.2) scale(2.25)' color='rgb(255, 165,   0)'/>\n",
       "\t<use xlink:href='#gpPt5' transform='translate(742.1,105.2) scale(2.25)' color='rgb(255, 165,   0)'/>\n",
       "\t<use xlink:href='#gpPt5' transform='translate(673.8,75.1) scale(2.25)' color='rgb(255, 165,   0)'/>\n",
       "</g>\n",
       "\t</g>\n",
       "<g fill=\"none\" color=\"#FFFFFF\" stroke=\"rgb(255, 165,   0)\" stroke-width=\"2.00\" stroke-linecap=\"butt\" stroke-linejoin=\"miter\">\n",
       "</g>\n",
       "<g fill=\"none\" color=\"black\" stroke=\"currentColor\" stroke-width=\"2.00\" stroke-linecap=\"butt\" stroke-linejoin=\"miter\">\n",
       "</g>\n",
       "<g fill=\"none\" color=\"black\" stroke=\"black\" stroke-width=\"1.00\" stroke-linecap=\"butt\" stroke-linejoin=\"miter\">\n",
       "</g>\n",
       "<g fill=\"none\" color=\"black\" stroke=\"currentColor\" stroke-width=\"1.00\" stroke-linecap=\"butt\" stroke-linejoin=\"miter\">\n",
       "\t<path stroke='black'  d='M88.1,6.1 L88.1,504.1 L742.1,504.1 L742.1,6.1 L88.1,6.1 Z  '/></g>\n",
       "<g fill=\"none\" color=\"black\" stroke=\"currentColor\" stroke-width=\"1.00\" stroke-linecap=\"butt\" stroke-linejoin=\"miter\">\n",
       "</g>\n",
       "</g>\n",
       "</svg>\n",
       "\n"
      ]
     },
     "metadata": {},
     "output_type": "display_data"
    }
   ],
   "metadata": {
    "dotnet_interactive": {
     "language": "csharp"
    }
   }
  },
  {
   "cell_type": "code",
   "execution_count": null,
   "source": [],
   "outputs": [],
   "metadata": {
    "dotnet_interactive": {
     "language": "csharp"
    }
   }
  },
  {
   "cell_type": "code",
   "execution_count": null,
   "source": [],
   "outputs": [],
   "metadata": {
    "dotnet_interactive": {
     "language": "csharp"
    }
   }
  }
 ],
 "nbformat": 4,
 "nbformat_minor": 2
}