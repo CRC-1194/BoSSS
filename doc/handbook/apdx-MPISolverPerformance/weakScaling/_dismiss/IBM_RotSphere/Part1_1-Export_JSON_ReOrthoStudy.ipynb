{
 "cells": [
  {
   "cell_type": "code",
   "execution_count": null,
   "metadata": {
    "dotnet_interactive": {
     "language": "csharp"
    }
   },
   "outputs": [],
   "source": [
    "#r \"./../../../../../../public/src/L4-application/BoSSSpad/bin/Release/net5.0/BoSSSpad.dll\"\n",
    "using System;\n",
    "using ilPSP;\n",
    "using ilPSP.Utils;\n",
    "using BoSSS.Platform;\n",
    "using BoSSS.Foundation;\n",
    "using BoSSS.Foundation.XDG;\n",
    "using BoSSS.Foundation.Grid;\n",
    "using BoSSS.Solution;\n",
    "using BoSSS.Application.XNSE_Solver;\n",
    "using System.IO;\n",
    "using BoSSS.Foundation.IO;\n",
    "using ilPSP.Tracing;\n",
    "using BoSSS.Application.BoSSSpad;\n",
    "\n",
    "using static BoSSS.Application.BoSSSpad.BoSSSshell;\n",
    "Init();"
   ]
  },
  {
   "cell_type": "code",
   "execution_count": null,
   "metadata": {
    "dotnet_interactive": {
     "language": "csharp"
    }
   },
   "outputs": [],
   "source": [
    "var DB = OpenOrCreateDatabase(@\"W:\\work\\scratch\\jw52xeqa\\DB_ReOrthoStudy\");"
   ]
  },
  {
   "cell_type": "code",
   "execution_count": null,
   "metadata": {
    "dotnet_interactive": {
     "language": "csharp"
    }
   },
   "outputs": [
    {
     "data": {
      "text/plain": [
       "#0: run_6-1-2022\tJ2187_k4_t1_Stokes_c8_c8_c8reortho_10Iter\t01/06/2022 21:14:52\t368272c0...\r\n",
       "#1: run_6-1-2022\tJ2187_k4_t1_Stokes_c8_c8\t01/06/2022 21:14:55\t7f6033ce...\r\n",
       "#2: run_6-1-2022\tJ2187_k4_t1_Stokes_c8\t01/06/2022 21:14:54\tbb22aa5d...\r\n",
       "#3: run_6-1-2022\tJ2187_k4_t1_Stokes_c8reortho_1Iter\t01/06/2022 21:14:52\te9833352...\r\n",
       "#4: run_6-1-2022\tJ2187_k4_t1_Stokes_c8mue_1_c8\t01/06/2022 21:05:00\tadf91048...\r\n"
      ]
     },
     "metadata": {},
     "output_type": "display_data"
    }
   ],
   "source": [
    "string WFlowName = DB.Sessions.Pick(0).ProjectName;\n",
    "var wfmgr = BoSSS.Application.BoSSSpad.BoSSSshell.WorkflowMgm;\n",
    "wfmgr.Init(WFlowName); wfmgr.Sessions"
   ]
  },
  {
   "cell_type": "code",
   "execution_count": null,
   "metadata": {
    "dotnet_interactive": {
     "language": "csharp"
    }
   },
   "outputs": [
    {
     "data": {
      "text/plain": [
       "#0: run_6-1-2022\tJ2187_k4_t1_Stokes_c8_c8_c8reortho_10Iter\t01/06/2022 21:14:52\t368272c0...\r\n",
       "#1: run_6-1-2022\tJ2187_k4_t1_Stokes_c8_c8\t01/06/2022 21:14:55\t7f6033ce...\r\n",
       "#2: run_6-1-2022\tJ2187_k4_t1_Stokes_c8\t01/06/2022 21:14:54\tbb22aa5d...\r\n",
       "#3: run_6-1-2022\tJ2187_k4_t1_Stokes_c8reortho_1Iter\t01/06/2022 21:14:52\te9833352...\r\n",
       "#4: run_6-1-2022\tJ2187_k4_t1_Stokes_c8mue_1_c8\t01/06/2022 21:05:00\tadf91048...\r\n"
      ]
     },
     "metadata": {},
     "output_type": "display_data"
    }
   ],
   "source": [
    "wfmgr.Sessions.Where(s=>!s.SuccessfulTermination).ForEach(s=>s.Delete(true));\n",
    "wfmgr.Init(WFlowName); wfmgr.Sessions"
   ]
  },
  {
   "cell_type": "code",
   "execution_count": null,
   "metadata": {
    "dotnet_interactive": {
     "language": "csharp"
    }
   },
   "outputs": [],
   "source": [
    "/*\n",
    "CG projection               -> ProjectDGField                               BoSSS.Foundation.ConstrainedDGprojection.ConstrainedDGField_Global.ProjectDGField\n",
    "dyn Loadbalancing           -> DoLoadbalancing                              BoSSS.Solution.Application`1.DoLoadbalancing\n",
    "AMR                         -> DoMeshAdaption                               BoSSS.Solution.Application`1.DoMeshAdaption\n",
    "compile Cut-cell quadrature -> Rule_Compilation_SayeGaussRuleFactory        Rule_Compilation_SayeGaussRuleFactory\n",
    "compile standard quadrature -> Rule_Compilation_StandardQuadRuleFactory     Rule_Compilation_StandardQuadRuleFactory\n",
    "matrix assembly             -> XdgMatrixAssembly                            BoSSS.Solution.XdgTimestepping.XdgBDFTimestepping.AssembleMatrixCallback\n",
    "agg basis init              -> Aggregation_basis_init_time                  BoSSS.Solution.AdvancedSolvers.XdgAggregationBasis.Update\n",
    "solver init                 -> Solver_Init_time                             Slv Init\n",
    "solver run                  -> Solver_Run_time                              Slv Iter\n",
    "I/O                         -> SaveToDatabase                               BoSSS.Solution.Application`1.SaveToDatabase\n",
    "*/"
   ]
  },
  {
   "cell_type": "code",
   "execution_count": null,
   "metadata": {
    "dotnet_interactive": {
     "language": "csharp"
    }
   },
   "outputs": [],
   "source": [
    "static var PreComputeProfiling = new Dictionary<System.Guid,MethodCallRecord[]>();\n",
    "foreach(var sess in wfmgr.Sessions){\n",
    "    MethodCallRecord[] mcrs = null;\n",
    "    try{\n",
    "        mcrs = sess.GetProfiling();\n",
    "    } catch (Exception ex){\n",
    "        Console.WriteLine(ex.Message);\n",
    "    }\n",
    "    PreComputeProfiling.Add(sess.ID, mcrs);\n",
    "}"
   ]
  },
  {
   "cell_type": "code",
   "execution_count": null,
   "metadata": {
    "dotnet_interactive": {
     "language": "csharp"
    }
   },
   "outputs": [],
   "source": [
    "static class AddCols {\n",
    "    static public MethodCallRecord[] GetMCR(ISessionInfo SI){\n",
    "        MethodCallRecord[] mcrs = null;\n",
    "        PreComputeProfiling.TryGetValue(SI.ID,out mcrs);\n",
    "        return mcrs;\n",
    "    }\n",
    "    static private double TimeOnProc(MethodCallRecord mcr, string method){\n",
    "        double time = 0;\n",
    "        foreach(var child in mcr.FindChildren(method)){\n",
    "            time += child.TimeSpentInMethod.TotalSeconds;\n",
    "            //time += child.TimeSpentInMPIBlocking.TotalSeconds;\n",
    "        }\n",
    "        /*\n",
    "        var child = mcr.FindChildren(method).Pick(0);\n",
    "        time = child.TimeExclusive.TotalSeconds;\n",
    "        */\n",
    "        /*\n",
    "        double time = -1;\n",
    "        foreach(var child in mcr.FindChildren(method)){\n",
    "            var childtime = child.TimeSpentInMethod.TotalSeconds;\n",
    "            //var childtime = child.TimeSpentInMPIBlocking.TotalSeconds;\n",
    "            time = childtime > time? childtime:time;\n",
    "        }\n",
    "        */\n",
    "        return time;\n",
    "    }\n",
    "    static public double AverageTime(ISessionInfo SI,string method){\n",
    "        var mcrs       = GetMCR(SI);\n",
    "        double avtime = 0;\n",
    "\n",
    "        foreach(var mcr in mcrs){\n",
    "            avtime+=TimeOnProc(mcr,method);\n",
    "        }\n",
    "        avtime = avtime / mcrs.Count();\n",
    "        return avtime;\n",
    "    }\n",
    "    static public double MaxTime(ISessionInfo SI,string method){\n",
    "        var mcrs       = GetMCR(SI);\n",
    "        double maxtime = -1;\n",
    "\n",
    "        foreach(var mcr in mcrs){\n",
    "            double time =TimeOnProc(mcr,method);    \n",
    "            maxtime = time>maxtime?time:maxtime;\n",
    "        }\n",
    "        return maxtime;\n",
    "    }\n",
    "    static public object LSolverIter(ISessionInfo SI){\n",
    "        var mcr          = GetMCR(SI)[0];\n",
    "        string searchstr = \"BoSSS.Solution.AdvancedSolvers.OrthonormalizationMultigrid.Solve\";\n",
    "        var ndS = mcr.FindChildren(searchstr);\n",
    "        var nd  = ndS.ElementAt(1);\n",
    "        return nd.CallCount;\n",
    "    }\n",
    "    static public object NLSolverIter(ISessionInfo SI){\n",
    "        var mcr          = GetMCR(SI)[0];\n",
    "        string searchstr = \"BoSSS.Solution.AdvancedSolvers.Newton.GlobalizedNewton\";\n",
    "        var ndS = mcr.FindChildren(searchstr);\n",
    "        var nd  = ndS.ElementAt(0);\n",
    "        return nd.CallCount;\n",
    "    }\n",
    "    static public object TotalRuntime(ISessionInfo SI){\n",
    "        return MaxTime(SI,\"root_frame\");\n",
    "    }\n",
    "    static public object MatrixAssembly_time(ISessionInfo SI) {\n",
    "        return MaxTime(SI,\"BoSSS.Solution.XdgTimestepping.XdgBDFTimestepping.AssembleMatrixCallback\");\n",
    "    }\n",
    "    static public object AggregationBaseInit_time(ISessionInfo SI) {\n",
    "        return MaxTime(SI,\"BoSSS.Solution.AdvancedSolvers.XdgAggregationBasis.Update\");\n",
    "    }\n",
    "    static public object SolverInit_time(ISessionInfo SI) {\n",
    "        return MaxTime(SI,\"Slv Init\");\n",
    "    }\n",
    "    static public object SolverRun_time(ISessionInfo SI) {\n",
    "        return MaxTime(SI,\"Slv Iter\");\n",
    "    }\n",
    "    static public object DataIO_time(ISessionInfo SI){\n",
    "        double sum = 0;\n",
    "        sum+=MaxTime(SI,\"BoSSS.Solution.Application`1.CreateOrLoadGrid\");\n",
    "        sum+=MaxTime(SI,\"BoSSS.Solution.Application`1.SaveToDatabase\");\n",
    "        return sum;\n",
    "    }\n",
    "    static public object CGProjection_time(ISessionInfo SI){\n",
    "        return MaxTime(SI,\"BoSSS.Foundation.ConstrainedDGprojection.ConstrainedDGField_Global.ProjectDGField\");\n",
    "    }\n",
    "    static public object SayeCompile_time(ISessionInfo SI){\n",
    "        return MaxTime(SI,\"Rule_Compilation_SayeGaussRuleFactory\");\n",
    "    }\n",
    "    static public object StandardCompile_time(ISessionInfo SI){\n",
    "        return MaxTime(SI,\"Rule_Compilation_StandardQuadRuleFactory\");\n",
    "    }\n",
    "    static public object AMR_time(ISessionInfo SI){\n",
    "        return MaxTime(SI,\"BoSSS.Solution.Application`1.DoMeshAdaption\");\n",
    "    }\n",
    "    static public object LoadBal_time(ISessionInfo SI){\n",
    "        return MaxTime(SI,\"BoSSS.Solution.Application`1.DoLoadbalancing\");\n",
    "    }\n",
    "    static public object NoOfCores(ISessionInfo SI){\n",
    "        return SI.ComputeNodeNames.Count();\n",
    "    }\n",
    "    static public object NoOfNodes(ISessionInfo SI){\n",
    "        return SI.ComputeNodeNames.GroupBy(s=>s).Count();\n",
    "    }\n",
    "    static public object MGDepth(ISessionInfo SI){\n",
    "        var mcr = GetMCR(SI)[0];\n",
    "        double NInit  = mcr.FindChildren(\"BoSSS.Solution.AdvancedSolvers.OrthonormalizationMultigrid.Init\").ToArray().Length;\n",
    "        return NInit + 1;\n",
    "    }\n",
    "    static public object DOF(ISessionInfo SI){\n",
    "        return SI.GetDOF(\"VelocityX\")*3+SI.GetDOF(\"Pressure\");\n",
    "    }\n",
    "    static public Func<ISessionInfo,object> FuncGenerator(string method){\n",
    "        return delegate (ISessionInfo SI){\n",
    "            return MaxTime(SI, method);\n",
    "        };\n",
    "    }\n",
    "    static public object AppendLastTag(ISessionInfo SI){\n",
    "        return SI.Tags.Pick(3);\n",
    "    }\n",
    "    static public object \n",
    "}"
   ]
  },
  {
   "cell_type": "code",
   "execution_count": null,
   "metadata": {
    "dotnet_interactive": {
     "language": "csharp"
    }
   },
   "outputs": [
    {
     "data": {
      "text/html": [
       "<table><thead><tr><th><i>index</i></th><th>value</th></tr></thead><tbody><tr><td>0</td><td>61</td></tr><tr><td>1</td><td>73</td></tr><tr><td>2</td><td>51</td></tr><tr><td>3</td><td>49</td></tr><tr><td>4</td><td>65</td></tr></tbody></table>"
      ]
     },
     "metadata": {},
     "output_type": "display_data"
    }
   ],
   "source": [
    "wfmgr.Sessions.Select(s=>AddCols.LSolverIter(s))"
   ]
  },
  {
   "cell_type": "code",
   "execution_count": null,
   "metadata": {
    "dotnet_interactive": {
     "language": "csharp"
    }
   },
   "outputs": [],
   "source": [
    "wfmgr.AdditionalSessionTableColums.Clear();\n",
    "wfmgr.AdditionalSessionTableColums.Add(\"LSolverIter\", AddCols.LSolverIter);\n",
    "wfmgr.AdditionalSessionTableColums.Add(\"NLSolverIter\", AddCols.NLSolverIter);\n",
    "wfmgr.AdditionalSessionTableColums.Add(\"TotalRuntime\", AddCols.TotalRuntime);\n",
    "wfmgr.AdditionalSessionTableColums.Add(\"MatrixAssembly_time\", AddCols.MatrixAssembly_time);\n",
    "wfmgr.AdditionalSessionTableColums.Add(\"AggregationBaseInit_time\", AddCols.AggregationBaseInit_time);\n",
    "wfmgr.AdditionalSessionTableColums.Add(\"DataIO_time\", AddCols.DataIO_time);\n",
    "wfmgr.AdditionalSessionTableColums.Add(\"CGProjection_time\", AddCols.CGProjection_time);\n",
    "wfmgr.AdditionalSessionTableColums.Add(\"SayeCompile_time\", AddCols.SayeCompile_time);\n",
    "wfmgr.AdditionalSessionTableColums.Add(\"StandardCompile_time\",AddCols.StandardCompile_time);\n",
    "wfmgr.AdditionalSessionTableColums.Add(\"AMR_time\",AddCols.AMR_time);\n",
    "wfmgr.AdditionalSessionTableColums.Add(\"LoadBal_time\",AddCols.LoadBal_time);\n",
    "wfmgr.AdditionalSessionTableColums.Add(\"NoOfCores\",AddCols.NoOfCores);\n",
    "wfmgr.AdditionalSessionTableColums.Add(\"NoOfNodes\",AddCols.NoOfNodes);\n",
    "wfmgr.AdditionalSessionTableColums.Add(\"SolverInit_time\", AddCols.SolverInit_time);\n",
    "wfmgr.AdditionalSessionTableColums.Add(\"SolverRun_time\", AddCols.SolverRun_time);\n",
    "wfmgr.AdditionalSessionTableColums.Add(\"MGDepth\",AddCols.MGDepth);\n",
    "wfmgr.AdditionalSessionTableColums.Add(\"DOF\",AddCols.DOF);\n",
    "wfmgr.AdditionalSessionTableColums.Add(\"Tag\",AddCols.AppendLastTag);"
   ]
  },
  {
   "cell_type": "code",
   "execution_count": null,
   "metadata": {
    "dotnet_interactive": {
     "language": "csharp"
    }
   },
   "outputs": [],
   "source": [
    "string[] AdditionalTraces = new string[]{               \n",
    "    \"BoSSS.Solution.AdvancedSolvers.OrthonormalizationMultigrid.AddSol\",\n",
    "    \"BoSSS.Solution.AdvancedSolvers.Schwarz.Solve\",\n",
    "    \"BoSSS.Solution.AdvancedSolvers.OrthonormalizationMultigrid.MinimizeResidual\",\n",
    "    \"BoSSS.Solution.AdvancedSolvers.OrthonormalizationMultigrid.Residual\",\n",
    "    \"BoSSS.Solution.AdvancedSolvers.OrthonormalizationMultigrid.Solve\",\n",
    "    \"overlap_scaling\",\n",
    "    \"block_solve_level\",\n",
    "    \"caching\",\n",
    "    \"nocaching\",\n",
    "    \"BoSSS.Solution.AdvancedSolvers.OrthonormalizationMultigrid.VerivyCurrentResidual\",\n",
    "    \"Restriction\",\n",
    "    \"Prolongation\",\n",
    "    \"BoSSS.Solution.AdvancedSolvers.DirectSolver.Solve\"\n",
    "};"
   ]
  },
  {
   "cell_type": "code",
   "execution_count": null,
   "metadata": {
    "dotnet_interactive": {
     "language": "csharp"
    }
   },
   "outputs": [],
   "source": [
    "foreach(string Ftrace in AdditionalTraces){\n",
    "    string[] Schnipsel = Ftrace.Split('.');\n",
    "    int L = Schnipsel.Length;\n",
    "    string ColumnName = \"\";\n",
    "    if(L>1)\n",
    "        ColumnName = String.Concat(Schnipsel[L-2],'.',Schnipsel[L-1]);\n",
    "    else\n",
    "        ColumnName = Schnipsel.Last();\n",
    "\n",
    "    wfmgr.AdditionalSessionTableColums.Add(ColumnName,AddCols.FuncGenerator(Ftrace));\n",
    "}"
   ]
  },
  {
   "cell_type": "code",
   "execution_count": null,
   "metadata": {
    "dotnet_interactive": {
     "language": "csharp"
    }
   },
   "outputs": [
    {
     "data": {
      "text/html": [
       "<table><thead><tr><th><i>index</i></th><th>value</th></tr></thead><tbody><tr><td>0</td><td>AdaptiveMeshRefinement</td></tr><tr><td>1</td><td>adaptiveReInit</td></tr><tr><td>2</td><td>AdvancedDiscretizationOptions.alpha</td></tr><tr><td>3</td><td>AdvancedDiscretizationOptions.CurvatureNeeded</td></tr><tr><td>4</td><td>AdvancedDiscretizationOptions.DoubleCutSpecialQuadrature</td></tr><tr><td>5</td><td>AdvancedDiscretizationOptions.FilterConfiguration.CurvatureLimiting</td></tr><tr><td>6</td><td>AdvancedDiscretizationOptions.FilterConfiguration.FilterCurvatureCycles</td></tr><tr><td>7</td><td>AdvancedDiscretizationOptions.FilterConfiguration.gradOpt</td></tr><tr><td>8</td><td>AdvancedDiscretizationOptions.FilterConfiguration.hessOpt</td></tr><tr><td>9</td><td>AdvancedDiscretizationOptions.FilterConfiguration.LevelSetSource</td></tr><tr><td>10</td><td>AdvancedDiscretizationOptions.FilterConfiguration.NoOfPatchRecoverySweeps</td></tr><tr><td>11</td><td>AdvancedDiscretizationOptions.FilterConfiguration.PatchRecoveryDomWidth</td></tr><tr><td>12</td><td>AdvancedDiscretizationOptions.FilterConfiguration.useFiltLevSetGrad</td></tr><tr><td>13</td><td>AdvancedDiscretizationOptions.FilterConfiguration.useFiltLevSetHess</td></tr><tr><td>14</td><td>AdvancedDiscretizationOptions.FilterConfiguration.UseWholeField</td></tr><tr><td>15</td><td>AdvancedDiscretizationOptions.freeSurfaceFlow</td></tr><tr><td>16</td><td>AdvancedDiscretizationOptions.GNBC_Localization</td></tr><tr><td>17</td><td>AdvancedDiscretizationOptions.GNBC_SlipLength</td></tr><tr><td>18</td><td>AdvancedDiscretizationOptions.IBM_BoundaryType</td></tr><tr><td>19</td><td>AdvancedDiscretizationOptions.LFFA</td></tr><tr><td>20</td><td>AdvancedDiscretizationOptions.LFFB</td></tr><tr><td>21</td><td>AdvancedDiscretizationOptions.ObjectiveParam</td></tr><tr><td>22</td><td>AdvancedDiscretizationOptions.Penalty1[0]</td></tr><tr><td>23</td><td>AdvancedDiscretizationOptions.Penalty1[1]</td></tr><tr><td>24</td><td>AdvancedDiscretizationOptions.Penalty2</td></tr><tr><td>25</td><td>AdvancedDiscretizationOptions.PenaltySafety</td></tr><tr><td>26</td><td>AdvancedDiscretizationOptions.PresPenalty1[0]</td></tr><tr><td>27</td><td>AdvancedDiscretizationOptions.PresPenalty1[1]</td></tr><tr><td>28</td><td>AdvancedDiscretizationOptions.PresPenalty2</td></tr><tr><td>29</td><td>AdvancedDiscretizationOptions.SetSurfaceTensionMaxValue</td></tr><tr><td>30</td><td>AdvancedDiscretizationOptions.SST_isotropicMode</td></tr><tr><td>31</td><td>AdvancedDiscretizationOptions.STFstabilization</td></tr><tr><td>32</td><td>AdvancedDiscretizationOptions.StressPenalty</td></tr><tr><td>33</td><td>AdvancedDiscretizationOptions.SurfStressTensor</td></tr><tr><td>34</td><td>AdvancedDiscretizationOptions.ViscosityMode</td></tr><tr><td>35</td><td>AgglomerationThreshold</td></tr><tr><td>36</td><td>AggregationBaseInit_time</td></tr><tr><td>37</td><td>AlternateDbPaths[0].Item1</td></tr><tr><td>38</td><td>AlternateDbPaths[0].Item2</td></tr><tr><td>39</td><td>AlternateDbPaths[1].Item1</td></tr><tr><td>40</td><td>AlternateDbPaths[1].Item2</td></tr><tr><td>41</td><td>AlternateDbPaths[2].Item1</td></tr><tr><td>42</td><td>AMR_startUpSweeps</td></tr><tr><td>43</td><td>AMR_time</td></tr><tr><td>44</td><td>BaseRefinementLevel</td></tr><tr><td>45</td><td>block_solve_level</td></tr><tr><td>46</td><td>Bndtype:Pressure_Outlet</td></tr><tr><td>47</td><td>Bndtype:Velocity_inlet</td></tr><tr><td>48</td><td>BurstSave</td></tr><tr><td>49</td><td>caching</td></tr><tr><td>50</td><td>CGProjection_time</td></tr><tr><td>51</td><td>CheckInterfaceProps</td></tr><tr><td>52</td><td>CheckJumpConditions</td></tr><tr><td>53</td><td>ClearVelocitiesOnRestart</td></tr><tr><td>54</td><td>ComputeEnergyProperties</td></tr><tr><td>55</td><td>conductMode</td></tr><tr><td>56</td><td>ContinueOnIoError</td></tr><tr><td>57</td><td>ControlFileText_Index</td></tr><tr><td>58</td><td>CutCellQuadratureType</td></tr><tr><td>59</td><td>DataIO_time</td></tr><tr><td>60</td><td>DGdegree:Curvature</td></tr><tr><td>61</td><td>DGdegree:Phi</td></tr><tr><td>62</td><td>DGdegree:Phi2</td></tr><tr><td>63</td><td>DGdegree:Phi2DG</td></tr><tr><td>64</td><td>DGdegree:PhiDG</td></tr><tr><td>65</td><td>DGdegree:Pressure</td></tr><tr><td>66</td><td>DGdegree:Velocity*</td></tr><tr><td>67</td><td>DirectSolver.Solve</td></tr><tr><td>68</td><td>DOF</td></tr><tr><td>69</td><td>dtFixed</td></tr><tr><td>70</td><td>dtMax</td></tr><tr><td>71</td><td>dtMin</td></tr><tr><td>72</td><td>DynamicLoadbalancing_ClassifierType</td></tr><tr><td>73</td><td>DynamicLoadBalancing_ImbalanceThreshold</td></tr><tr><td>74</td><td>DynamicLoadBalancing_On</td></tr><tr><td>75</td><td>DynamicLoadBalancing_Period</td></tr><tr><td>76</td><td>DynamicLoadBalancing_RedistributeAtStartup</td></tr><tr><td>77</td><td>EllipticExtVelAlgoControl.FluxVariant</td></tr><tr><td>78</td><td>EllipticExtVelAlgoControl.IsotropicViscosity</td></tr><tr><td>79</td><td>EllipticExtVelAlgoControl.PenaltyMultiplierFlux</td></tr><tr><td>80</td><td>EllipticExtVelAlgoControl.PenaltyMultiplierInterface</td></tr><tr><td>81</td><td>EllipticExtVelAlgoControl.subGridRestriction</td></tr><tr><td>82</td><td>Endtime</td></tr><tr><td>83</td><td>EnforceLevelSetConservation</td></tr><tr><td>84</td><td>equalTimesteppingForKineticEnergy</td></tr><tr><td>85</td><td>FastMarchingPenaltyTerms</td></tr><tr><td>86</td><td>FastMarchingReInitPeriod</td></tr><tr><td>87</td><td>fullReInit</td></tr><tr><td>88</td><td>GeneratedFromCode</td></tr><tr><td>89</td><td>Grid:hMax</td></tr><tr><td>90</td><td>Grid:hMin</td></tr><tr><td>91</td><td>Grid:NoOfCells</td></tr><tr><td>92</td><td>Grid:SpatialDimension</td></tr><tr><td>93</td><td>GridPartType</td></tr><tr><td>94</td><td>ImmediatePlotPeriod</td></tr><tr><td>95</td><td>InitialValues_Evaluators_TimeDep[0].Key</td></tr><tr><td>96</td><td>InitialValues_Evaluators_TimeDep[1].Key</td></tr><tr><td>97</td><td>InitialValues_Evaluators_TimeDep[2].Key</td></tr><tr><td>98</td><td>InitialValues_Evaluators_TimeDep[3].Key</td></tr><tr><td>99</td><td>InitialValues_Evaluators_TimeDep[4].Key</td></tr><tr><td colspan=\"2\">(143 more)</td></tr></tbody></table>"
      ]
     },
     "metadata": {},
     "output_type": "display_data"
    }
   ],
   "source": [
    "var SessTab = wfmgr.SessionTable;\n",
    "SessTab.GetColumnNames().OrderBy(s=>s)"
   ]
  },
  {
   "cell_type": "code",
   "execution_count": null,
   "metadata": {
    "dotnet_interactive": {
     "language": "csharp"
    }
   },
   "outputs": [],
   "source": [
    "// The Session column can't be serialized,\n",
    "// we have to remove it\n",
    "List<string> AllCols = SessTab.GetColumnNames().ToList();\n",
    "AllCols.Remove(\"Session\");"
   ]
  },
  {
   "cell_type": "code",
   "execution_count": null,
   "metadata": {
    "dotnet_interactive": {
     "language": "csharp"
    }
   },
   "outputs": [
    {
     "data": {
      "text/html": [
       "<table><thead><tr><th><i>index</i></th><th>value</th></tr></thead><tbody><tr><td>0</td><td>MGDepth</td></tr></tbody></table>"
      ]
     },
     "metadata": {},
     "output_type": "display_data"
    }
   ],
   "source": [
    "SessTab.GetColumnNames().Where(s=>s.Contains(\"Depth\"))"
   ]
  },
  {
   "cell_type": "code",
   "execution_count": null,
   "metadata": {
    "dotnet_interactive": {
     "language": "csharp"
    }
   },
   "outputs": [
    {
     "data": {
      "text/plain": [
       "b:\\BoSSS-smuda\\public\\doc\\handbook\\apdx-MPISolverPerformance\\weakScaling\\IBM_RotSphere\\run_6-1-2022_2022-1-7.json"
      ]
     },
     "metadata": {},
     "output_type": "display_data"
    }
   ],
   "source": [
    "SessTab = SessTab.ExtractColumns(AllCols.ToArray());\n",
    "// Filename\n",
    "string dirpath = Directory.GetCurrentDirectory();\n",
    "var now           = DateTime.Now;\n",
    "SessTab.TableName = WFlowName + \"_\" + now.Year + \"-\" + now.Month + \"-\" + now.Day;\n",
    "string docpath    = Path.Combine(dirpath, SessTab.TableName + \".json\");\n",
    "SessTab.SaveToFile(docpath); docpath"
   ]
  },
  {
   "cell_type": "code",
   "execution_count": null,
   "metadata": {
    "dotnet_interactive": {
     "language": "csharp"
    }
   },
   "outputs": [
    {
     "data": {
      "text/plain": [
       "b:\\BoSSS-smuda\\public\\doc\\handbook\\apdx-MPISolverPerformance\\weakScaling\\IBM_RotSphere"
      ]
     },
     "metadata": {},
     "output_type": "display_data"
    }
   ],
   "source": [
    "var SubTab = SessTab.ExtractColumns(\"LSolverIter\", \"NLSolverIter\", \"TotalRuntime\", \"MatrixAssembly_time\", \"AggregationBaseInit_time\", \"DataIO_time\", \"CGProjection_time\",\n",
    "\"SayeCompile_time\", \"StandardCompile_time\",\"AMR_time\",\"LoadBal_time\",\"NoOfCores\",\"NoOfNodes\",\"SolverInit_time\", \"SolverRun_time\", \"MGDepth\",\"DGdegree:Velocity*\",\"Tag\");\n",
    "SubTab.ToCSVFile(dirpath+@\"\\table.csv\");dirpath"
   ]
  },
  {
   "cell_type": "code",
   "execution_count": null,
   "metadata": {
    "dotnet_interactive": {
     "language": "csharp"
    }
   },
   "outputs": [],
   "source": []
  }
 ],
 "metadata": {
  "kernelspec": {
   "display_name": ".NET (C#)",
   "language": "C#",
   "name": ".net-csharp"
  },
  "language_info": {
   "name": "C#"
  }
 },
 "nbformat": 4,
 "nbformat_minor": 2
}
