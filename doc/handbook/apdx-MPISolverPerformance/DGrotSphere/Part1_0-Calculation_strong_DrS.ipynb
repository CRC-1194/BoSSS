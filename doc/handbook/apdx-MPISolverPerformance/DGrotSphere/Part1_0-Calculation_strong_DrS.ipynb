{
 "cells": [
  {
   "cell_type": "markdown",
   "metadata": {},
   "source": [
    "# Strong Scaling of rotating Sphere (Stokes, steady)\n",
    "\n",
    "We investigate: How much does the algorithm profit from more rescources for a fixed problem size? In theory the sequential part of the algorithm is the asymtotical limit, which is described by Ahmdal's law."
   ]
  },
  {
   "cell_type": "code",
   "execution_count": null,
   "metadata": {
    "dotnet_interactive": {
     "language": "csharp"
    }
   },
   "outputs": [],
   "source": [
    "//#r \"./../../../../../../public/src/L4-application/BoSSSpad/bin/Release/net5.0/BoSSSpad.dll\"\n",
    "#r \"BoSSSpad.dll\"\n",
    "using System;\n",
    "using ilPSP;\n",
    "using ilPSP.Utils;\n",
    "using BoSSS.Platform;\n",
    "using BoSSS.Foundation;\n",
    "using BoSSS.Foundation.XDG;\n",
    "using BoSSS.Foundation.Grid;\n",
    "using BoSSS.Foundation.IO;\n",
    "using BoSSS.Foundation.Grid.Classic;\n",
    "using BoSSS.Application.XNSE_Solver;\n",
    "using BoSSS.Application.BoSSSpad;\n",
    "using BoSSS.Application.XNSE_Solver.LoadBalancing;\n",
    "using BoSSS.Solution;\n",
    "using BoSSS.Solution.AdvancedSolvers;\n",
    "using BoSSS.Solution.Control;\n",
    "using BoSSS.Solution.XNSECommon;\n",
    "using BoSSS.Solution.NSECommon;\n",
    "using BoSSS.Solution.LevelSetTools;\n",
    "using BoSSS.Solution.XdgTimestepping;\n",
    "\n",
    "using static BoSSS.Application.BoSSSpad.BoSSSshell;\n",
    "Init();"
   ]
  },
  {
   "cell_type": "markdown",
   "metadata": {},
   "source": [
    "## Parameter sweeps\n",
    "If you feel the urge to change something stick to this section ...\n",
    "<br>Auxiliary datatype to map gridID onto controlobjects and control objects onto job settings."
   ]
  },
  {
   "cell_type": "code",
   "execution_count": null,
   "metadata": {
    "dotnet_interactive": {
     "language": "csharp"
    }
   },
   "outputs": [],
   "source": [
    "struct Parameterz{\n",
    "    public Parameterz(int _Cores, int _Poly, int _Res){\n",
    "        Cores = _Cores;\n",
    "        Poly = _Poly;\n",
    "        Res = _Res;\n",
    "    }\n",
    "    public int Cores;\n",
    "    public int Poly;\n",
    "    public int Res;\n",
    "}"
   ]
  },
  {
   "cell_type": "markdown",
   "metadata": {},
   "source": [
    "define job settings. One <code>Parameterz</code> marks one job setting (injective mapping).\n",
    "\n",
    "|\t | DOF/cell | Res | cells | total DOF |\n",
    "|----|:----:|:--:|:------:|:---------:|\n",
    "| k2 | 34 \t| 28 | 65,856 | 2,239,104 |\n",
    "| k3 | 70 \t| 22 | 31,944 | 2,236,080 |\n",
    "| k4 | 125 \t| 18 | 17,496 | 2,187,000 |"
   ]
  },
  {
   "cell_type": "code",
   "execution_count": null,
   "metadata": {
    "dotnet_interactive": {
     "language": "csharp"
    }
   },
   "outputs": [],
   "source": [
    "// set parameterz\n",
    "var Parameterz = new List<Parameterz>();\n",
    "\n",
    "int[] CSweep = new int[] {128,256};\n",
    "foreach(int cores in CSweep){\n",
    "    // strong scaling\n",
    "    Parameterz.Add(new Parameterz(cores,4,18));\n",
    "    Parameterz.Add(new Parameterz(cores,3,22));\n",
    "    Parameterz.Add(new Parameterz(cores,2,28));\n",
    "}\n",
    "\n",
    "int MemoryPerCore = 2000;"
   ]
  },
  {
   "cell_type": "markdown",
   "metadata": {},
   "source": [
    "Define solver parameters"
   ]
  },
  {
   "cell_type": "code",
   "execution_count": null,
   "metadata": {
    "dotnet_interactive": {
     "language": "csharp"
    }
   },
   "outputs": [],
   "source": [
    "bool useAMR = false;\n",
    "bool useLoadBal = true;\n",
    "int NoOfTimeSteps = 1;\n",
    "bool Steady = true;\n",
    "bool IncludeConvection = false;\n",
    "var Gshape = Shape.Sphere;"
   ]
  },
  {
   "cell_type": "markdown",
   "metadata": {},
   "source": [
    "## Init Database, Client and Workflowmanager\n",
    "Set names of database and tables to be written out. \n",
    "Names are generated of environment variables (build information of jenkins).\n",
    "There are defaults though, you see no need change anything."
   ]
  },
  {
   "cell_type": "code",
   "execution_count": null,
   "metadata": {
    "dotnet_interactive": {
     "language": "csharp"
    }
   },
   "outputs": [],
   "source": [
    "// Is used at Jenkins to generate individual names (for output .json)\n",
    "string dbname = System.Environment.GetEnvironmentVariable(\"DATABASE_NAME\");\n",
    "string buildname = System.Environment.GetEnvironmentVariable(\"BUILD_DISPLAY_NAME\");\n",
    "string buildNr = System.Environment.GetEnvironmentVariable(\"BUILD_NUMBER\");\n",
    "//defaults\n",
    "buildname = String.IsNullOrEmpty(buildname)? \"run\" : buildname;\n",
    "string thedate = $\"{System.DateTime.Today.Day}-{System.DateTime.Today.Month}-{System.DateTime.Today.Year}\";\n",
    "buildNr = String.IsNullOrEmpty(buildNr)? thedate : buildNr;\n",
    "\n",
    "string database_name = String.IsNullOrEmpty(dbname)? \"DB_Benchmarks\" : dbname;\n",
    "string table_name = String.Concat(buildname, \"_\", buildNr);"
   ]
  },
  {
   "cell_type": "markdown",
   "metadata": {},
   "source": [
    "show available exection queues"
   ]
  },
  {
   "cell_type": "code",
   "execution_count": null,
   "metadata": {
    "dotnet_interactive": {
     "language": "csharp"
    }
   },
   "outputs": [
    {
     "data": {
      "text/html": [
       "<table><thead><tr><th><i>index</i></th><th><i>type</i></th><th>Username</th><th>Password</th><th>ServerName</th><th>PrivateKeyFilePath</th><th>AdditionalBatchCommands</th><th>DeploymentBaseDirectoryAtRemote</th><th>SlurmAccount</th><th>Email</th><th>DeploymentBaseDirectory</th><th>DeployRuntime</th><th>Name</th><th>DotnetRuntime</th><th>MonoDebug</th><th>AllowedDatabasesPaths</th><th>BatchInstructionDir</th><th>ComputeNodes</th><th>DefaultJobPriority</th><th>SingleNode</th></tr></thead><tbody><tr><td>0</td><td>BoSSS.Application.BoSSSpad.SlurmClient</td><td>jw52xeqa</td><td><div class=\"dni-plaintext\">&lt;null&gt;</div></td><td>lcluster14.hrz.tu-darmstadt.de</td><td>C:\\Users\\weber\\.ssh\\id_rsa</td><td>[ #SBATCH -C avx512, #SBATCH --mem-per-cpu=2000 ]</td><td>/home/jw52xeqa/Deployerie</td><td>special00006</td><td><div class=\"dni-plaintext\">&lt;null&gt;</div></td><td>X:\\Deployerie</td><td>True</td><td>HHLR</td><td>dotnet</td><td>False</td><td>[ W:\\work\\scratch\\jw52xeqa == /work/scratch/jw52xeqa ]</td><td></td><td></td><td></td><td></td></tr><tr><td>1</td><td>BoSSS.Application.BoSSSpad.MiniBatchProcessorClient</td><td></td><td></td><td></td><td></td><td></td><td></td><td></td><td></td><td>C:\\Users\\weber\\AppData\\Local\\BoSSS-LocalJobs</td><td>False</td><td>LocalPC</td><td>dotnet</td><td></td><td>[ D:\\trash_db ==  ]</td><td><div class=\"dni-plaintext\">&lt;null&gt;</div></td><td></td><td></td><td></td></tr><tr><td>2</td><td>BoSSS.Application.BoSSSpad.MsHPC2012Client</td><td>FDY\\weber</td><td></td><td>DC2</td><td></td><td></td><td></td><td></td><td></td><td>\\\\hpccluster\\hpccluster-scratch\\weber\\dply</td><td>True</td><td>FDY-cluster</td><td>dotnet</td><td></td><td>[ \\\\hpccluster\\hpccluster-scratch\\weber\\trash_DB ==  ]</td><td></td><td>[ HPCCLUSTER2 ]</td><td>Normal</td><td>True</td></tr><tr><td>3</td><td>BoSSS.Application.BoSSSpad.SlurmClient</td><td>jw52xeqa</td><td><div class=\"dni-plaintext\">&lt;null&gt;</div></td><td>lcluster5.hrz.tu-darmstadt.de</td><td>C:\\Users\\weber\\.ssh\\id_rsa</td><td><div class=\"dni-plaintext\">&lt;null&gt;</div></td><td>/home/jw52xeqa/Deployerie</td><td>project01217</td><td><div class=\"dni-plaintext\">&lt;null&gt;</div></td><td>X:\\Deployerie</td><td>True</td><td><div class=\"dni-plaintext\">&lt;null&gt;</div></td><td>dotnet</td><td>False</td><td></td><td></td><td></td><td></td><td></td></tr></tbody></table>"
      ]
     },
     "metadata": {},
     "output_type": "display_data"
    }
   ],
   "source": [
    "ExecutionQueues\n",
    "//var myBatch = (MsHPC2012Client)ExecutionQueues[1];"
   ]
  },
  {
   "cell_type": "markdown",
   "metadata": {},
   "source": [
    "Client setup and <code>\\#SBATCH</code> configuration:\n",
    "- <code>-N</code> (nodes),\n",
    "- <code>-C</code> (Processor architecture),\n",
    "- <code>--mem-per-cpu</code> (allocated memory per core).\n",
    "<br> Note: <code>--mem-per-cpu</code> must be set that the job is accepted by Lichtenberg scheduler."
   ]
  },
  {
   "cell_type": "code",
   "execution_count": null,
   "metadata": {
    "dotnet_interactive": {
     "language": "csharp"
    }
   },
   "outputs": [
    {
     "data": {
      "text/html": [
       "<table><thead><tr><th><i>index</i></th><th>value</th></tr></thead><tbody><tr><td>0</td><td>#SBATCH -N 6</td></tr><tr><td>1</td><td>#SBATCH -C avx512</td></tr><tr><td>2</td><td>#SBATCH --mem-per-cpu=2000</td></tr></tbody></table>"
      ]
     },
     "metadata": {},
     "output_type": "display_data"
    }
   ],
   "source": [
    "var myBatch = (SlurmClient)GetDefaultQueue();\n",
    "var AddSbatchCmds = new List<string>();\n",
    "AddSbatchCmds.AddRange(new string[]{\"#SBATCH -N 6\", \"#SBATCH -C avx512\", \"#SBATCH --mem-per-cpu=\"+MemoryPerCore});\n",
    "myBatch.AdditionalBatchCommands = AddSbatchCmds.ToArray();\n",
    "myBatch.AdditionalBatchCommands"
   ]
  },
  {
   "cell_type": "code",
   "execution_count": null,
   "metadata": {
    "dotnet_interactive": {
     "language": "csharp"
    }
   },
   "outputs": [
    {
     "name": "stdout",
     "output_type": "stream",
     "text": [
      "Project name is set to 'run_11-1-2022'.\r\n",
      "Creating database 'W:\\work\\scratch\\jw52xeqa\\run_11-1-2022'.\r\n"
     ]
    }
   ],
   "source": [
    "string WFlowName = table_name;\n",
    "BoSSS.Application.BoSSSpad.BoSSSshell.WorkflowMgm.Init(WFlowName);\n",
    "BoSSS.Application.BoSSSpad.BoSSSshell.WorkflowMgm.SetNameBasedSessionJobControlCorrelation();"
   ]
  },
  {
   "cell_type": "markdown",
   "metadata": {},
   "source": [
    "Set database"
   ]
  },
  {
   "cell_type": "code",
   "execution_count": null,
   "metadata": {
    "dotnet_interactive": {
     "language": "csharp"
    }
   },
   "outputs": [
    {
     "name": "stdout",
     "output_type": "stream",
     "text": [
      "Creating database 'W:\\work\\scratch\\jw52xeqa\\DB_Benchmarks'.\r\n"
     ]
    }
   ],
   "source": [
    "var pair = myBatch.AllowedDatabasesPaths.Pick(0);\n",
    "string DBName = @\"\\\"+database_name;\n",
    "string localpath=pair.LocalMountPath+DBName;\n",
    "string remotepath=pair.PathAtRemote+DBName;\n",
    "var myDB = OpenOrCreateDatabase(localpath);"
   ]
  },
  {
   "cell_type": "markdown",
   "metadata": {},
   "source": [
    "## Generate Grid\n",
    "- Domain (-2,4)x(-1,1)x(-1,1)\n",
    "- equidistant cells, resolution is chosen according to <code>Parameterz.Res</code>"
   ]
  },
  {
   "cell_type": "code",
   "execution_count": null,
   "metadata": {
    "dotnet_interactive": {
     "language": "csharp"
    }
   },
   "outputs": [],
   "source": [
    "static double xMax = 4.0, yMax = 1.0, zMax = 1.0;\n",
    "static double xMin = -2.0, yMin = -1.0,zMin = -1.0;"
   ]
  },
  {
   "cell_type": "markdown",
   "metadata": {},
   "source": [
    "Some auxiliary methods: \n",
    "- calculate N_p (DOF of a scalar variable in 3D),\n",
    "- optional: predefined partitioning (not used yet)"
   ]
  },
  {
   "cell_type": "code",
   "execution_count": null,
   "metadata": {
    "dotnet_interactive": {
     "language": "csharp"
    }
   },
   "outputs": [],
   "source": [
    "static class Utils {\n",
    "    // DOF per cell in 3D\n",
    "    static public int Np(int p) {\n",
    "        return (p*p*p + 6*p*p + 11*p + 6)/6;\n",
    "    }\n",
    "    static public Func<double[],int> GetPartFunc(int cores){\n",
    "        Func<double[], int> MakeMyPartioning = delegate (double[] X) {\n",
    "        double x  = X[0];\n",
    "        double y  = X[1];\n",
    "        double z  = X[2];\n",
    "    \n",
    "        int sx = 1;\n",
    "        int sy = 1;\n",
    "        int sz = 1;\n",
    "        for (int i = 0; i < Math.Log(cores, 2); i++) {\n",
    "            if (i % 3 == 0)\n",
    "                sx*= 2;\n",
    "            else if(i % 3 == 1)\n",
    "                sy*=2;\n",
    "            else\n",
    "                sz*=2;\n",
    "        }\n",
    "    \n",
    "    \n",
    "        double xspan = (xMax - xMin) / sx;\n",
    "        double yspan = (yMax - yMin) / sy;\n",
    "        double zspan = (zMax - zMin) / sz;\n",
    "        int rank     = int.MaxValue;\n",
    "        int icore    = 0;\n",
    "        for (int i = 0; i < sx; i++) {\n",
    "            for (int j = 0; j < sy; j++) {\n",
    "                for(int k=0;k<sz;k++){\n",
    "                    bool xtrue = x <= xspan * (i + 1) + xMin;\n",
    "                    bool ytrue = y <= yspan * (j + 1) + yMin;\n",
    "                    bool ztrue = z <= zspan * (k + 1) + zMin;\n",
    "                    if (xtrue && ytrue && ztrue) {\n",
    "                        rank = icore;\n",
    "                        return rank;\n",
    "                    }\n",
    "                    icore++;\n",
    "                }\n",
    "            }\n",
    "        }\n",
    "    \n",
    "        return rank;\n",
    "        };\n",
    "    return MakeMyPartioning;\n",
    "    }\n",
    "}"
   ]
  },
  {
   "cell_type": "markdown",
   "metadata": {},
   "source": [
    "generate all grids defined by <code>Parameterz.Res</code>. If grid already exists, continue. "
   ]
  },
  {
   "cell_type": "code",
   "execution_count": null,
   "metadata": {
    "dotnet_interactive": {
     "language": "csharp"
    }
   },
   "outputs": [
    {
     "name": "stdout",
     "output_type": "stream",
     "text": [
      "Grid Edge Tags changed.\r\n",
      "Grid Edge Tags changed.\r\n",
      "Grid Edge Tags changed.\r\n"
     ]
    },
    {
     "data": {
      "text/html": [
       "<table><thead><tr><th><i>index</i></th><th>value</th></tr></thead><tbody><tr><td>0</td><td>18</td></tr><tr><td>1</td><td>22</td></tr><tr><td>2</td><td>28</td></tr></tbody></table>"
      ]
     },
     "metadata": {},
     "output_type": "display_data"
    }
   ],
   "source": [
    "var Grids = new Dictionary<int, IGridInfo>();\n",
    "foreach(var P in Parameterz){\n",
    "    int Res = P.Res;\n",
    "    if(Grids.TryGetValue(Res,out IGridInfo ignore))\n",
    "        continue;\n",
    "    int Stretching = (int)Math.Floor(Math.Abs(xMax-xMin)/Math.Abs(yMax-yMin));\n",
    "    //int Stretching = 1;\n",
    "    var _xNodes = GenericBlas.Linspace(xMin, xMax, Stretching*Res + 1);\n",
    "    var _yNodes = GenericBlas.Linspace(yMin, yMax, Res + 1);\n",
    "    var _zNodes = GenericBlas.Linspace(zMin, zMax, Res + 1);\n",
    "\n",
    "    GridCommons grd;\n",
    "    string gname = \"RotBenchmarkGrid\";\n",
    "    \n",
    "    var tmp = new List<IGridInfo>();\n",
    "    foreach(var grid in myDB.Grids){\n",
    "        try{\n",
    "            bool IsMatch = grid.Name.Equals(gname)&&grid.NumberOfCells==(_xNodes.Length-1)*(_yNodes.Length-1)*(_zNodes.Length-1);\n",
    "            if(IsMatch) tmp.Add(grid);\n",
    "        }\n",
    "        catch(Exception ex) {\n",
    "            Console.WriteLine(ex.Message);\n",
    "        }\n",
    "    }\n",
    "    //var tmp = myDB.Grids.Where(g=>g.Name.Equals(gname)&&g.NumberOfCells==Res*Res*Res); // this leads to exception in case of broken grids\n",
    "    if(tmp.Count()>=1){\n",
    "        Console.WriteLine(\"Grid found: \"+tmp.Pick(0).Name);\n",
    "        Grids.Add(Res,tmp.Pick(0));\n",
    "        continue;\n",
    "    }\n",
    "    \n",
    "    grd = Grid3D.Cartesian3DGrid(_xNodes, _yNodes, _zNodes);\n",
    "    grd.Name = gname;\n",
    "    //grd.AddPredefinedPartitioning(\"bisec\", GetPartFunc);\n",
    "\n",
    "    grd.EdgeTagNames.Add(1, \"Velocity_inlet\");\n",
    "    grd.EdgeTagNames.Add(2, \"Wall\");\n",
    "    grd.EdgeTagNames.Add(3, \"Pressure_Outlet\");\n",
    "\n",
    "    grd.DefineEdgeTags(delegate (double[] _X) {\n",
    "        var X = _X;\n",
    "        double x, y, z;\n",
    "        x = X[0];\n",
    "        y = X[1];\n",
    "        z = X[2];\n",
    "        if(Math.Abs(x-xMin)<1E-8)\n",
    "            return 1;\n",
    "        else\n",
    "            return 3;\n",
    "    });\n",
    "    myDB.SaveGrid(ref grd,true);\n",
    "    Grids.Add(Res,grd);\n",
    "} Grids.Keys.ToList()"
   ]
  },
  {
   "cell_type": "markdown",
   "metadata": {},
   "source": [
    "## Generate Control object\n",
    "\n",
    "### governing equations\n",
    "- incompressible steady Navier-Stokes:\n",
    "<br>$\\frac{\\partial \\rho \\vec{u}}{\\partial t}+ \\nabla \\cdot ( \\rho \\vec{u} \\otimes \\vec{u}) + \\nabla p - \\eta \\Delta \\vec{u} = \\vec{f} \\ \\ in \\ \\ \\Omega_F(t) \\times (0,T)$\n",
    "<br>$\\nabla \\cdot \\vec{u} = 0 \\quad in \\ \\ \\Omega_F(t) \\times (0,T)$\n",
    "- with inital conditions:\n",
    "<br>$\\vec{u}(\\vec{x},0)  =  \\vec{0} \\quad on \\ \\ \\Omega_F(0)$\n",
    "<br>$p(\\vec{x},0)  =  0 \\quad  on \\ \\ \\Omega_F(0)$\n",
    "- with boundary conditions:\n",
    "<br>$\\vec{u}(\\vec{x},t)  =  \\vec{u}_{Inlet} \\ \\  on \\ \\ \\Gamma_{Inlet} = \\{ \\vec{X} \\in \\partial \\Omega_F(t) |  x=-2 \\}$\n",
    "<br>$p \\mathbf{I} - \\frac{1}{Re} \\nabla \\vec{u} \\vec{n}_{ \\Gamma_{pOut} } = 0 \\ \\ on \\ \\ \\Gamma_{pOut} = \\partial \\Omega \\backslash \\Gamma_{Inlet} $ \n",
    "<br>$\\vec{u}(\\vec{x},t) = \\boldsymbol{\\omega}(t) \\times \\vec{r} \\quad on \\ \\ \\mathcal{J} = \\partial \\Omega_S \\cap \\partial \\Omega_F$\n",
    "\n",
    "- Inlet-Velocity $u_{Inlet}=\\frac{Re*\\mu_A}{\\rho_A*d_{hyd}}$\n",
    "- angular velocity of rotating sphere $\\boldsymbol{\\omega}(t)=\\frac{Re*\\mu_A}{\\rho_A*d_{hyd}*1m}$\n",
    "\n",
    "### Notes:\n",
    "- for simplicity we stick to a steady linear problem (we do not have to worry about time stepping and NL-solver at this point)\n",
    "- why sphere? answer: we do not have to enforce continuity of Levelset. Although sharp edges demand higher local resolution (skip AMR at this point)"
   ]
  },
  {
   "cell_type": "code",
   "execution_count": null,
   "metadata": {
    "dotnet_interactive": {
     "language": "csharp"
    }
   },
   "outputs": [],
   "source": [
    "int SpaceDim = 3;"
   ]
  },
  {
   "cell_type": "code",
   "execution_count": null,
   "metadata": {
    "dotnet_interactive": {
     "language": "csharp"
    }
   },
   "outputs": [],
   "source": [
    "Func<IGridInfo, int, XNSE_Control> GenXNSECtrl = delegate(IGridInfo grd, int k){\n",
    "    XNSE_Control C = new XNSE_Control();\n",
    "    // basic database options\n",
    "    // ======================\n",
    "    C.AlternateDbPaths = new[] {\n",
    "        (localpath, \"\"),\n",
    "        (remotepath,\"\")};\n",
    "    C.savetodb = true;\n",
    "    int J  = grd.NumberOfCells;\n",
    "    C.SessionName = string.Format(\"J{0}_k{1}_t{2}\", J, k,NoOfTimeSteps);\n",
    "    if(IncludeConvection){\n",
    "        C.SessionName += \"_NSE\";\n",
    "        C.Tags.Add(\"NSE\");\n",
    "    } else {\n",
    "        C.SessionName += \"_Stokes\";\n",
    "        C.Tags.Add(\"Stokes\");\n",
    "    }\n",
    "    C.Tags.Add(SpaceDim + \"D\");\n",
    "    if(Steady)C.Tags.Add(\"steady\");\n",
    "    else C.Tags.Add(\"transient\");\n",
    "    C.Tags.Add(\"reortho_Iter2_sameRes\");\n",
    "\n",
    "    // DG degrees\n",
    "    // ==========\n",
    "    C.SetFieldOptions(k, Math.Max(k, 2));\n",
    "    C.saveperiod = 1;\n",
    "    //C.TracingNamespaces = \"*\";\n",
    "\n",
    "    C.GridGuid = grd.ID;\n",
    "    C.GridPartType = GridPartType.clusterHilbert;\n",
    "    C.DynamicLoadbalancing_ClassifierType = ClassifierType.CutCells;\n",
    "    C.DynamicLoadBalancing_On = useLoadBal;\n",
    "    C.DynamicLoadBalancing_RedistributeAtStartup = true;\n",
    "    C.DynamicLoadBalancing_Period = 1;\n",
    "    C.DynamicLoadBalancing_ImbalanceThreshold = 0.1;\n",
    "\n",
    "    // Physical Parameters\n",
    "    // ===================\n",
    "    const double rhoA = 1;\n",
    "    const double Re = 50;\n",
    "    double muA = 1;\n",
    "    \n",
    "    double partRad = 0.3001;\n",
    "    double d_hyd = 2*partRad;\n",
    "    double anglev = Re*muA/rhoA/(d_hyd); // angular velocity [1/sec]\n",
    "    //double anglev = 0.0;\n",
    "    double VelocityIn = Re*muA/rhoA/d_hyd;\n",
    "    double[] pos = new double[SpaceDim];\n",
    "\n",
    "    C.PhysicalParameters.IncludeConvection = IncludeConvection;\n",
    "    C.PhysicalParameters.Material = true;\n",
    "    C.PhysicalParameters.rho_A = rhoA;\n",
    "    C.PhysicalParameters.mu_A = muA;\n",
    "\n",
    "    C.Rigidbody.SetParameters(pos,anglev,partRad,SpaceDim);\n",
    "    C.Rigidbody.SpecifyShape(Gshape);\n",
    "    C.Rigidbody.SetRotationAxis(\"x\");\n",
    "\n",
    "    C.AddInitialValue(VariableNames.LevelSetCGidx(0), new Formula(\"X => -1\"));\n",
    "    C.UseImmersedBoundary = true;\n",
    "    \n",
    "    C.AddInitialValue(\"Pressure\", new Formula(@\"X => 0\"));\n",
    "    C.AddBoundaryValue(\"Pressure_Outlet\");\n",
    "    C.AddBoundaryValue(\"Velocity_inlet\",\"VelocityX\",new Formula($\"(X) => {VelocityIn}\"));\n",
    "\n",
    "    C.CutCellQuadratureType = BoSSS.Foundation.XDG.XQuadFactoryHelper.MomentFittingVariants.Saye;\n",
    "    C.UseSchurBlockPrec = true;\n",
    "    C.AgglomerationThreshold = 0.1;\n",
    "    C.AdvancedDiscretizationOptions.ViscosityMode = ViscosityMode.FullySymmetric;\n",
    "    C.Option_LevelSetEvolution2 = LevelSetEvolution.Prescribed;\n",
    "    C.Option_LevelSetEvolution = LevelSetEvolution.None;\n",
    "    C.Timestepper_LevelSetHandling = LevelSetHandling.None;\n",
    "    C.LinearSolver.NoOfMultigridLevels = 4;\n",
    "    C.LinearSolver.ConvergenceCriterion = 1E-6;\n",
    "    C.LinearSolver.MaxSolverIterations = 500;\n",
    "    C.LinearSolver.MaxKrylovDim = 50;\n",
    "    C.LinearSolver.TargetBlockSize = 1000;\n",
    "    C.LinearSolver.verbose = true;\n",
    "    C.LinearSolver.SolverCode = LinearSolverCode.exp_Kcycle_schwarz;\n",
    "    C.NonLinearSolver.SolverCode = NonLinearSolverCode.Newton;\n",
    "    C.NonLinearSolver.ConvergenceCriterion = 1E-6;\n",
    "    C.NonLinearSolver.MaxSolverIterations = 10;\n",
    "    C.NonLinearSolver.verbose = true;\n",
    "\n",
    "    C.AdaptiveMeshRefinement = useAMR;\n",
    "    if (useAMR) {\n",
    "        C.SetMaximalRefinementLevel(1);\n",
    "        C.AMR_startUpSweeps = 0;\n",
    "    }\n",
    "\n",
    "    // Timestepping\n",
    "    // ============\n",
    "    double dt = -1;\n",
    "    if(Steady){\n",
    "        C.TimesteppingMode = AppControl._TimesteppingMode.Steady;\n",
    "        dt = 1000;\n",
    "        C.NoOfTimesteps = 1;\n",
    "    } else {\n",
    "        C.TimesteppingMode = AppControl._TimesteppingMode.Transient;        \n",
    "        dt = 0.1;        \n",
    "        C.NoOfTimesteps = NoOfTimeSteps;\n",
    "    }\n",
    "    C.TimeSteppingScheme = TimeSteppingScheme.ImplicitEuler;\n",
    "    C.dtFixed = dt;\n",
    "    return C;\n",
    "};"
   ]
  },
  {
   "cell_type": "code",
   "execution_count": null,
   "metadata": {
    "dotnet_interactive": {
     "language": "csharp"
    }
   },
   "outputs": [
    {
     "data": {
      "text/html": [
       "<table><thead><tr><th><i>index</i></th><th>value</th></tr></thead><tbody><tr><td>0</td><td>J17496_k4_t1_Stokes</td></tr><tr><td>1</td><td>J31944_k3_t1_Stokes</td></tr><tr><td>2</td><td>J65856_k2_t1_Stokes</td></tr><tr><td>3</td><td>J17496_k4_t1_Stokes</td></tr><tr><td>4</td><td>J31944_k3_t1_Stokes</td></tr><tr><td>5</td><td>J65856_k2_t1_Stokes</td></tr></tbody></table>"
      ]
     },
     "metadata": {},
     "output_type": "display_data"
    }
   ],
   "source": [
    "var controls = new Dictionary<Parameterz,XNSE_Control>();\n",
    "foreach(var P in Parameterz){\n",
    "    int k = P.Poly;\n",
    "    Grids.TryGetValue(P.Res,out IGridInfo grd);\n",
    "    controls.Add(P,GenXNSECtrl(grd,k));\n",
    "} controls.Values.Select(s=>s.SessionName)"
   ]
  },
  {
   "cell_type": "markdown",
   "metadata": {},
   "source": [
    "## Submit & Run Jobs at Server\n",
    "\n",
    "mapping controlfiles to jobconfiguration alias number of cores in particular"
   ]
  },
  {
   "cell_type": "code",
   "execution_count": null,
   "metadata": {
    "dotnet_interactive": {
     "language": "csharp"
    }
   },
   "outputs": [
    {
     "data": {
      "text/html": [
       "<table><thead><tr><th><i>index</i></th><th>value</th></tr></thead><tbody><tr><td>0</td><td>J17496_k4_t1_Stokes</td></tr><tr><td>1</td><td>J31944_k3_t1_Stokes</td></tr><tr><td>2</td><td>J65856_k2_t1_Stokes</td></tr><tr><td>3</td><td>J17496_k4_t1_Stokes</td></tr><tr><td>4</td><td>J31944_k3_t1_Stokes</td></tr><tr><td>5</td><td>J65856_k2_t1_Stokes</td></tr></tbody></table>"
      ]
     },
     "metadata": {},
     "output_type": "display_data"
    }
   ],
   "source": [
    "controls.Select(s=>s.Value.SessionName)"
   ]
  },
  {
   "cell_type": "code",
   "execution_count": null,
   "metadata": {
    "dotnet_interactive": {
     "language": "csharp"
    }
   },
   "outputs": [
    {
     "name": "stdout",
     "output_type": "stream",
     "text": [
      "Deploying job rotSphereInlet_SphereJ17496_k4_t1_Stokes_c128_Re50_mue_1 ... \r\n",
      "Deploying executables and additional files ...\r\n",
      "Deployment directory: X:\\Deployerie\\run_11-1-2022-XNSE_Solver2022Jan11_174849\r\n",
      "copied 49 files.\r\n",
      "   written file: control.obj\r\n",
      "   copied 'amd64' runtime.\r\n",
      "deployment finished.\r\n",
      "24877684\r\n",
      "\r\n",
      "Deploying job rotSphereInlet_SphereJ31944_k3_t1_Stokes_c128_Re50_mue_1 ... \r\n",
      "Deploying executables and additional files ...\r\n",
      "Deployment directory: X:\\Deployerie\\run_11-1-2022-XNSE_Solver2022Jan11_174902\r\n",
      "copied 49 files.\r\n",
      "   written file: control.obj\r\n",
      "   copied 'amd64' runtime.\r\n",
      "deployment finished.\r\n",
      "24877687\r\n",
      "\r\n",
      "Deploying job rotSphereInlet_SphereJ65856_k2_t1_Stokes_c128_Re50_mue_1 ... \r\n",
      "Deploying executables and additional files ...\r\n",
      "Deployment directory: X:\\Deployerie\\run_11-1-2022-XNSE_Solver2022Jan11_174914\r\n",
      "copied 49 files.\r\n",
      "   written file: control.obj\r\n"
     ]
    },
    {
     "ename": "Error",
     "evalue": "System.OperationCanceledException: Command :SubmitCode: int iSweep=0;\nforeach(var ctrl in controls){\n    t ... cancelled.",
     "output_type": "error",
     "traceback": [
      "System.OperationCanceledException: Command :SubmitCode: int iSweep=0;\n",
      "foreach(var ctrl in controls){\n",
      "    t ... cancelled."
     ]
    }
   ],
   "source": [
    "int iSweep=0;\n",
    "foreach(var ctrl in controls){\n",
    "    try{\n",
    "    int cores= ctrl.Key.Cores;\n",
    "    var ctrlobj = ctrl.Value;\n",
    "    string sessname = ctrlobj.SessionName;\n",
    "    ctrlobj.SessionName = sessname + \"_c\"+cores+\"_Re50_\"+\"mue_\"+ctrlobj.PhysicalParameters.mu_A;\n",
    "    var aJob   = new Job(\"rotSphereInlet_\"+Gshape+ctrlobj.SessionName,typeof(XNSE));\n",
    "    aJob.SetControlObject(ctrlobj);\n",
    "    aJob.NumberOfMPIProcs         = cores;\n",
    "    aJob.ExecutionTime            = \"3:00:00\";\n",
    "    aJob.UseComputeNodesExclusive = true;\n",
    "    aJob.Activate(myBatch);\n",
    "    iSweep++;\n",
    "    } catch (Exception ex){\n",
    "        Console.WriteLine(ex.Message);\n",
    "    }\n",
    "}"
   ]
  },
  {
   "cell_type": "markdown",
   "metadata": {},
   "source": [
    "Wait until all jobs terminate. Checking in 60 sec intervals. Printing out every 15 min ..."
   ]
  },
  {
   "cell_type": "code",
   "execution_count": null,
   "metadata": {
    "dotnet_interactive": {
     "language": "csharp"
    }
   },
   "outputs": [],
   "source": [
    "BoSSS.Application.BoSSSpad.BoSSSshell.WorkflowMgm.BlockUntilAllJobsTerminate(60,900)"
   ]
  }
 ],
 "metadata": {
  "kernelspec": {
   "display_name": ".NET (C#)",
   "language": "C#",
   "name": ".net-csharp"
  },
  "language_info": {
   "file_extension": ".cs",
   "mimetype": "text/x-csharp",
   "name": "C#",
   "pygments_lexer": "csharp",
   "version": "9.0"
  },
  "orig_nbformat": 2
 },
 "nbformat": 4,
 "nbformat_minor": 2
}
