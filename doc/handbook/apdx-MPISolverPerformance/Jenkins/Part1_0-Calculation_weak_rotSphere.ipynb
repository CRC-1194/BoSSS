{
 "cells": [
  {
   "cell_type": "code",
   "execution_count": null,
   "source": [
    "#r \"./../../../../../public/src/L4-application/BoSSSpad/bin/Release/net5.0/BoSSSpad.dll\"\r\n",
    "using System;\r\n",
    "using ilPSP;\r\n",
    "using ilPSP.Utils;\r\n",
    "using BoSSS.Platform;\r\n",
    "using BoSSS.Foundation;\r\n",
    "using BoSSS.Foundation.XDG;\r\n",
    "using BoSSS.Foundation.Grid;\r\n",
    "using BoSSS.Solution;\r\n",
    "using BoSSS.Application.XNSE_Solver;\r\n",
    "using BoSSS.Application.BoSSSpad;\r\n",
    "using BoSSS.Foundation.Grid.Classic;\r\n",
    "using BoSSS.Foundation.IO;\r\n",
    "using BoSSS.Solution.AdvancedSolvers;\r\n",
    "using BoSSS.Solution.Control;\r\n",
    "using BoSSS.Solution.XNSECommon;\r\n",
    "using BoSSS.Solution.NSECommon;\r\n",
    "using BoSSS.Application.XNSE_Solver.LoadBalancing;\r\n",
    "using BoSSS.Solution.LevelSetTools;\r\n",
    "using BoSSS.Solution.XdgTimestepping;\r\n",
    "\r\n",
    "using static BoSSS.Application.BoSSSpad.BoSSSshell;\r\n",
    "Init();"
   ],
   "outputs": [],
   "metadata": {
    "dotnet_interactive": {
     "language": "csharp"
    }
   }
  },
  {
   "cell_type": "code",
   "execution_count": null,
   "source": [
    "// read inputargs if there are any\r\n",
    "string inputargs = System.IO.Directory.GetCurrentDirectory()+@\"\\config.txt\";\r\n",
    "string database_name = \"DB_Benchmarks\";\r\n",
    "string table_name = \"Run_31337\";\r\n",
    "if (System.IO.File.Exists(inputargs)){\r\n",
    "    string firstline = System.IO.File.ReadLines(inputargs).Pick(0);\r\n",
    "    string[] args = firstline.Split();\r\n",
    "    database_name = args[0];\r\n",
    "    table_name = args[1];\r\n",
    "}"
   ],
   "outputs": [],
   "metadata": {
    "dotnet_interactive": {
     "language": "csharp"
    }
   }
  },
  {
   "cell_type": "code",
   "execution_count": null,
   "source": [
    "struct Parameterz{\r\n",
    "    public Parameterz(int _Cores, int _Poly, int _Res){\r\n",
    "        Cores = _Cores;\r\n",
    "        Poly = _Poly;\r\n",
    "        Res = _Res;\r\n",
    "    }\r\n",
    "    public int Cores;\r\n",
    "    public int Poly;\r\n",
    "    public int Res;\r\n",
    "}"
   ],
   "outputs": [],
   "metadata": {
    "dotnet_interactive": {
     "language": "csharp"
    }
   }
  },
  {
   "cell_type": "code",
   "execution_count": null,
   "source": [
    "// set parameterz\r\n",
    "var Parameterz = new List<Parameterz>();\r\n",
    "/*\r\n",
    "int[] CSweep = new int[] {4,8,16,32};\r\n",
    "foreach(int cores in CSweep){\r\n",
    "    // strong scaling\r\n",
    "    Parameterz.Add(new Parameterz(cores,4,18));\r\n",
    "    Parameterz.Add(new Parameterz(cores,3,22));\r\n",
    "    Parameterz.Add(new Parameterz(cores,2,28));\r\n",
    "}\r\n",
    "*/\r\n",
    "\r\n",
    "\r\n",
    " // 8 cores\r\n",
    " Parameterz.Add(new Parameterz(8,2,14));\r\n",
    " Parameterz.Add(new Parameterz(8,3,11));\r\n",
    " Parameterz.Add(new Parameterz(8,4,9));\r\n",
    "\r\n",
    " // 16 cores\r\n",
    " Parameterz.Add(new Parameterz(16,2,18));\r\n",
    " Parameterz.Add(new Parameterz(16,3,14));\r\n",
    " Parameterz.Add(new Parameterz(16,4,11));\r\n",
    " \r\n",
    " // 32 cores\r\n",
    " Parameterz.Add(new Parameterz(32,2,22));\r\n",
    " Parameterz.Add(new Parameterz(32,3,18));\r\n",
    " Parameterz.Add(new Parameterz(32,4,14));\r\n",
    "\r\n",
    "\r\n",
    "// 64 cores\r\n",
    " Parameterz.Add(new Parameterz(64,2,28));\r\n",
    " Parameterz.Add(new Parameterz(64,3,22));\r\n",
    " Parameterz.Add(new Parameterz(64,4,18));\r\n",
    "\r\n",
    "/*\r\n",
    " // 128 cores\r\n",
    " Parameterz.Add(new Parameterz(128,2,36));\r\n",
    " Parameterz.Add(new Parameterz(128,3,28));\r\n",
    " Parameterz.Add(new Parameterz(128,4,22));\r\n",
    "*/\r\n",
    "/*\r\n",
    " // 256 cores\r\n",
    " Parameterz.Add(new Parameterz(256,2,44));\r\n",
    " Parameterz.Add(new Parameterz(256,3,36));\r\n",
    " Parameterz.Add(new Parameterz(256,4,28));\r\n",
    "*/\r\n",
    "\r\n",
    " // 512 cores\r\n",
    " //Parameterz.Add(new Parameterz(512,2,56));\r\n",
    " //Parameterz.Add(new Parameterz(512,3,44));\r\n",
    " //Parameterz.Add(new Parameterz(512,4,36));\r\n",
    "int MemoryPerCore = 2000;"
   ],
   "outputs": [],
   "metadata": {
    "dotnet_interactive": {
     "language": "csharp"
    }
   }
  },
  {
   "cell_type": "code",
   "execution_count": null,
   "source": [
    "bool useAMR = false;\r\n",
    "bool useLoadBal = true;\r\n",
    "int NoOfTimeSteps = 1;\r\n",
    "bool Steady = true;\r\n",
    "bool IncludeConvection = false;\r\n",
    "var Gshape = Shape.Sphere;"
   ],
   "outputs": [],
   "metadata": {
    "dotnet_interactive": {
     "language": "csharp"
    }
   }
  },
  {
   "cell_type": "code",
   "execution_count": null,
   "source": [
    "ExecutionQueues"
   ],
   "outputs": [],
   "metadata": {
    "dotnet_interactive": {
     "language": "csharp"
    }
   }
  },
  {
   "cell_type": "code",
   "execution_count": null,
   "source": [
    "// ==================================\r\n",
    "// setup Client & Workflow & Database\r\n",
    "// ==================================\r\n",
    "var myBatch = (SlurmClient)GetDefaultQueue();\r\n",
    "var AddSbatchCmds = new List<string>();\r\n",
    "AddSbatchCmds.AddRange(new string[]{\"#SBATCH -p test24\", \"#SBATCH -C avx512\", \"#SBATCH --mem-per-cpu=\"+MemoryPerCore});\r\n",
    "myBatch.AdditionalBatchCommands = AddSbatchCmds.ToArray();\r\n",
    "myBatch.AdditionalBatchCommands"
   ],
   "outputs": [],
   "metadata": {
    "dotnet_interactive": {
     "language": "csharp"
    }
   }
  },
  {
   "cell_type": "code",
   "execution_count": null,
   "source": [
    "// Config for Jenkins-Server\r\n",
    "//var myBatch = (MsHPC2012Client)ExecutionQueues[2];"
   ],
   "outputs": [],
   "metadata": {
    "dotnet_interactive": {
     "language": "csharp"
    }
   }
  },
  {
   "cell_type": "code",
   "execution_count": null,
   "source": [
    "string WFlowName = table_name;\r\n",
    "BoSSS.Application.BoSSSpad.BoSSSshell.WorkflowMgm.Init(WFlowName);\r\n",
    "BoSSS.Application.BoSSSpad.BoSSSshell.WorkflowMgm.SetNameBasedSessionJobControlCorrelation();"
   ],
   "outputs": [],
   "metadata": {
    "dotnet_interactive": {
     "language": "csharp"
    }
   }
  },
  {
   "cell_type": "code",
   "execution_count": null,
   "source": [
    "//string dirname = \"DB_rotCubePaper\";\r\n",
    "//string dirname = \"DB_rotSphere_CoreScaling\";\r\n",
    "//string dirname = \"DB_rotSphere_DOFScaling\";\r\n",
    "//string dirname =\"DB_rotSphereBenchmark\";\r\n",
    "//string dirname =\"DB_rotSphere_CoreScaling\";"
   ],
   "outputs": [],
   "metadata": {
    "dotnet_interactive": {
     "language": "csharp"
    }
   }
  },
  {
   "cell_type": "code",
   "execution_count": null,
   "source": [
    "//myBatch.AllowedDatabasesPaths.Clear();\r\n",
    "//string winpath = @\"W:\\work\\scratch\\jw52xeqa\\\"+dirname;\r\n",
    "//string winpath = @\"\\\\hpccluster\\hpccluster-scratch\\\"+dirname;\r\n",
    "//string remotepath = @\"/work/scratch/jw52xeqa/\"+dirname;\r\n",
    "//var myDB = OpenOrCreateDatabase(winpath);\r\n",
    "//myBatch.AllowedDatabasesPaths.Add(new AllowedDatabasesPair(winpath,remotepath)); myBatch.AllowedDatabasesPaths"
   ],
   "outputs": [],
   "metadata": {
    "dotnet_interactive": {
     "language": "csharp"
    }
   }
  },
  {
   "cell_type": "code",
   "execution_count": null,
   "source": [
    "var pair = myBatch.AllowedDatabasesPaths.Pick(0);\r\n",
    "string DBName = @\"\\\"+database_name;\r\n",
    "string localpath=pair.LocalMountPath+DBName;\r\n",
    "string remotepath=pair.PathAtRemote+DBName;\r\n",
    "var myDB = OpenOrCreateDatabase(localpath);"
   ],
   "outputs": [],
   "metadata": {
    "dotnet_interactive": {
     "language": "csharp"
    }
   }
  },
  {
   "cell_type": "code",
   "execution_count": null,
   "source": [
    "static class Utils {\r\n",
    "    // DOF per cell in 3D\r\n",
    "    public static int Np(int p) {\r\n",
    "        return (p*p*p + 6*p*p + 11*p + 6)/6;\r\n",
    "    }    \r\n",
    "}"
   ],
   "outputs": [],
   "metadata": {
    "dotnet_interactive": {
     "language": "csharp"
    }
   }
  },
  {
   "cell_type": "markdown",
   "source": [
    "using "
   ],
   "metadata": {}
  },
  {
   "cell_type": "code",
   "execution_count": null,
   "source": [
    "double xMax = 4.0, yMax = 1.0, zMax = 1.0;\r\n",
    "double xMin = -2.0, yMin = -1.0,zMin = -1.0;"
   ],
   "outputs": [],
   "metadata": {
    "dotnet_interactive": {
     "language": "csharp"
    }
   }
  },
  {
   "cell_type": "markdown",
   "source": [
    "double xMax = 1.0, yMax = 1.0, zMax=1.0;\r\n",
    "double xMin = -1.0, yMin = -1.0,zMin = -1.0;"
   ],
   "metadata": {}
  },
  {
   "cell_type": "code",
   "execution_count": null,
   "source": [
    "var Grids = new Dictionary<int, IGridInfo>();\r\n",
    "foreach(var P in Parameterz){\r\n",
    "    int Res = P.Res;\r\n",
    "    if(Grids.TryGetValue(Res,out IGridInfo ignore))\r\n",
    "        continue;\r\n",
    "    int Stretching = (int)Math.Floor(Math.Abs(xMax-xMin)/Math.Abs(yMax-yMin));\r\n",
    "    //int Stretching = 1;\r\n",
    "    var _xNodes = GenericBlas.Linspace(xMin, xMax, Stretching*Res + 1);\r\n",
    "    var _yNodes = GenericBlas.Linspace(yMin, yMax, Res + 1);\r\n",
    "    var _zNodes = GenericBlas.Linspace(zMin, zMax, Res + 1);\r\n",
    "\r\n",
    "    GridCommons grd;\r\n",
    "    string gname = \"RotBenchmarkGrid\";\r\n",
    "    \r\n",
    "    var tmp = new List<IGridInfo>();\r\n",
    "    foreach(var grid in myDB.Grids){\r\n",
    "        try{\r\n",
    "            bool IsMatch = grid.Name.Equals(gname)&&grid.NumberOfCells==(_xNodes.Length-1)*(_yNodes.Length-1)*(_zNodes.Length-1);\r\n",
    "            if(IsMatch) tmp.Add(grid);\r\n",
    "        }\r\n",
    "        catch(Exception ex) {\r\n",
    "            Console.WriteLine(ex.Message);\r\n",
    "        }\r\n",
    "    }\r\n",
    "    //var tmp = myDB.Grids.Where(g=>g.Name.Equals(gname)&&g.NumberOfCells==Res*Res*Res); // this leads to exception in case of broken grids\r\n",
    "    if(tmp.Count()>=1){\r\n",
    "        Console.WriteLine(\"Grid found: \"+tmp.Pick(0).Name);\r\n",
    "        Grids.Add(Res,tmp.Pick(0));\r\n",
    "        continue;\r\n",
    "    }\r\n",
    "    \r\n",
    "    grd = Grid3D.Cartesian3DGrid(_xNodes, _yNodes, _zNodes);\r\n",
    "    grd.Name = gname;\r\n",
    "    //grd.AddPredefinedPartitioning(\"debug\", MakeDebugPart);\r\n",
    "\r\n",
    "    grd.EdgeTagNames.Add(1, \"Velocity_inlet\");\r\n",
    "    grd.EdgeTagNames.Add(2, \"Wall\");\r\n",
    "    grd.EdgeTagNames.Add(3, \"Pressure_Outlet\");\r\n",
    "\r\n",
    "    grd.DefineEdgeTags(delegate (double[] _X) {\r\n",
    "        var X = _X;\r\n",
    "        double x, y, z;\r\n",
    "        x = X[0];\r\n",
    "        y = X[1];\r\n",
    "        z = X[2];\r\n",
    "        if(Math.Abs(x-xMin)<1E-8)\r\n",
    "            return 1;\r\n",
    "        else\r\n",
    "            return 3;\r\n",
    "    });\r\n",
    "    myDB.SaveGrid(ref grd,false);\r\n",
    "    Grids.Add(Res,grd);\r\n",
    "} Grids.Keys.ToList()"
   ],
   "outputs": [],
   "metadata": {
    "dotnet_interactive": {
     "language": "csharp"
    }
   }
  },
  {
   "cell_type": "code",
   "execution_count": null,
   "source": [
    "int SpaceDim = 3; "
   ],
   "outputs": [],
   "metadata": {
    "dotnet_interactive": {
     "language": "csharp"
    }
   }
  },
  {
   "cell_type": "code",
   "execution_count": null,
   "source": [
    "Func<IGridInfo, int, XNSE_Control> GenXNSECtrl = delegate(IGridInfo grd, int k){\r\n",
    "    XNSE_Control C = new XNSE_Control();\r\n",
    "    // basic database options\r\n",
    "    // ======================\r\n",
    "    C.AlternateDbPaths = new[] {\r\n",
    "        (localpath, \"\"),\r\n",
    "        (remotepath,\"\")};\r\n",
    "    //C.AlternateDbPaths = new[] {\r\n",
    "    //    (@\"/work/scratch/jw52xeqa/DB_rotSphereBenchmark\", \"\"),\r\n",
    "    //    (@\"W:\\work\\scratch\\jw52xeqa\\DB_rotSphereBenchmark\",\"\")};\r\n",
    "    //C.DbPath=@\"\\\\hpccluster\\hpccluster-scratch\\DB_rotSphereBenchmark\";\r\n",
    "    C.savetodb = true;\r\n",
    "    int J  = grd.NumberOfCells;\r\n",
    "    C.SessionName = string.Format(\"J{0}_k{1}_t{2}\", J, k,NoOfTimeSteps);\r\n",
    "    if(IncludeConvection){\r\n",
    "        C.SessionName += \"_NSE\";\r\n",
    "        C.Tags.Add(\"NSE\");\r\n",
    "    } else {\r\n",
    "        C.SessionName += \"_Stokes\";\r\n",
    "        C.Tags.Add(\"Stokes\");\r\n",
    "    }\r\n",
    "    C.Tags.Add(SpaceDim + \"D\");\r\n",
    "    if(Steady)C.Tags.Add(\"steady\");\r\n",
    "    else C.Tags.Add(\"transient\");\r\n",
    "    C.Tags.Add(\"reortho_Iter2_sameRes\");\r\n",
    "\r\n",
    "    // DG degrees\r\n",
    "    // ==========\r\n",
    "    C.SetFieldOptions(k, Math.Max(k, 2));\r\n",
    "    C.saveperiod = 1;\r\n",
    "    //C.TracingNamespaces = \"*\";\r\n",
    "\r\n",
    "    C.GridGuid = grd.ID;\r\n",
    "    C.GridPartType = GridPartType.clusterHilbert;\r\n",
    "    C.DynamicLoadbalancing_ClassifierType = ClassifierType.CutCells;\r\n",
    "    C.DynamicLoadBalancing_On = useLoadBal;\r\n",
    "    C.DynamicLoadBalancing_RedistributeAtStartup = true;\r\n",
    "    C.DynamicLoadBalancing_Period = 1;\r\n",
    "    C.DynamicLoadBalancing_ImbalanceThreshold = 0.1;\r\n",
    "\r\n",
    "    // Physical Parameters\r\n",
    "    // ===================\r\n",
    "    const double rhoA = 1;\r\n",
    "    const double Re = 50;\r\n",
    "    double muA = 1;\r\n",
    "    \r\n",
    "    double partRad = 0.3001;\r\n",
    "    double anglev = Re*muA/rhoA/(2*partRad);\r\n",
    "    //double anglev = 0.0;\r\n",
    "    double d_hyd = 2*partRad;\r\n",
    "    double VelocityIn = Re*muA/rhoA/d_hyd;\r\n",
    "    double[] pos = new double[SpaceDim];\r\n",
    "\r\n",
    "    C.PhysicalParameters.IncludeConvection = IncludeConvection;\r\n",
    "    C.PhysicalParameters.Material = true;\r\n",
    "    C.PhysicalParameters.rho_A = rhoA;\r\n",
    "    C.PhysicalParameters.mu_A = muA;\r\n",
    "\r\n",
    "    C.Rigidbody.SetParameters(pos,anglev,partRad,SpaceDim);\r\n",
    "    C.Rigidbody.SpecifyShape(Gshape);\r\n",
    "    C.Rigidbody.SetRotationAxis(\"x\");\r\n",
    "\r\n",
    "    C.AddInitialValue(VariableNames.LevelSetCGidx(0), new Formula(\"X => -1\"));\r\n",
    "    C.UseImmersedBoundary = true;\r\n",
    "    \r\n",
    "    C.AddInitialValue(\"Pressure\", new Formula(@\"X => 0\"));\r\n",
    "    C.AddBoundaryValue(\"Pressure_Outlet\");\r\n",
    "    C.AddBoundaryValue(\"Velocity_inlet\",\"VelocityX\",new Formula($\"(X) => {VelocityIn}\"));\r\n",
    "\r\n",
    "    C.CutCellQuadratureType = BoSSS.Foundation.XDG.XQuadFactoryHelper.MomentFittingVariants.Saye;\r\n",
    "    C.UseSchurBlockPrec = true;\r\n",
    "    C.AgglomerationThreshold = 0.1;\r\n",
    "    C.AdvancedDiscretizationOptions.ViscosityMode = ViscosityMode.FullySymmetric;\r\n",
    "    C.Option_LevelSetEvolution2 = LevelSetEvolution.Prescribed;\r\n",
    "    C.Option_LevelSetEvolution = LevelSetEvolution.None;\r\n",
    "    C.Timestepper_LevelSetHandling = LevelSetHandling.None;\r\n",
    "    C.LinearSolver.NoOfMultigridLevels = 4;\r\n",
    "    C.LinearSolver.ConvergenceCriterion = 1E-6;\r\n",
    "    C.LinearSolver.MaxSolverIterations = 500;\r\n",
    "    C.LinearSolver.MaxKrylovDim = 50;\r\n",
    "    C.LinearSolver.TargetBlockSize = 1000;\r\n",
    "    C.LinearSolver.verbose = true;\r\n",
    "    C.LinearSolver.SolverCode = LinearSolverCode.exp_Kcycle_schwarz;\r\n",
    "    C.NonLinearSolver.SolverCode = NonLinearSolverCode.Newton;\r\n",
    "    C.NonLinearSolver.ConvergenceCriterion = 1E-6;\r\n",
    "    C.NonLinearSolver.MaxSolverIterations = 10;\r\n",
    "    C.NonLinearSolver.verbose = true;\r\n",
    "\r\n",
    "    C.AdaptiveMeshRefinement = useAMR;\r\n",
    "    if (useAMR) {\r\n",
    "        C.SetMaximalRefinementLevel(1);\r\n",
    "        C.AMR_startUpSweeps = 0;\r\n",
    "    }\r\n",
    "\r\n",
    "    // Timestepping\r\n",
    "    // ============\r\n",
    "    double dt = -1;\r\n",
    "    if(Steady){\r\n",
    "        C.TimesteppingMode = AppControl._TimesteppingMode.Steady;\r\n",
    "        dt = 1000;\r\n",
    "        C.NoOfTimesteps = 1;\r\n",
    "    } else {\r\n",
    "        C.TimesteppingMode = AppControl._TimesteppingMode.Transient;        \r\n",
    "        dt = 0.1;        \r\n",
    "        C.NoOfTimesteps = NoOfTimeSteps;\r\n",
    "    }\r\n",
    "    C.TimeSteppingScheme = TimeSteppingScheme.ImplicitEuler;\r\n",
    "    C.dtFixed = dt;\r\n",
    "    return C;\r\n",
    "};"
   ],
   "outputs": [],
   "metadata": {
    "dotnet_interactive": {
     "language": "csharp"
    }
   }
  },
  {
   "cell_type": "code",
   "execution_count": null,
   "source": [
    "var controls = new Dictionary<Parameterz,XNSE_Control>();\r\n",
    "foreach(var P in Parameterz){\r\n",
    "    int k = P.Poly;\r\n",
    "    Grids.TryGetValue(P.Res,out IGridInfo grd);\r\n",
    "    controls.Add(P,GenXNSECtrl(grd,k));\r\n",
    "} controls.Values.Select(s=>s.SessionName)"
   ],
   "outputs": [],
   "metadata": {
    "dotnet_interactive": {
     "language": "csharp"
    }
   }
  },
  {
   "cell_type": "code",
   "execution_count": null,
   "source": [
    "static Action<int,BatchProcessorClient> NodeRegression =  delegate (int cores, BatchProcessorClient thisBatch) {\r\n",
    "    int NoOfNodes = (int)Math.Ceiling(0.75*Math.Pow(cores,0.44));\r\n",
    "    List<string> Cmdtmp = (thisBatch as SlurmClient).AdditionalBatchCommands.ToList();\r\n",
    "    Cmdtmp.Add($\"#SBATCH -N {NoOfNodes}\");\r\n",
    "    (thisBatch as SlurmClient).AdditionalBatchCommands = Cmdtmp.ToArray();\r\n",
    "};"
   ],
   "outputs": [],
   "metadata": {
    "dotnet_interactive": {
     "language": "csharp"
    }
   }
  },
  {
   "cell_type": "markdown",
   "source": [],
   "metadata": {}
  },
  {
   "cell_type": "code",
   "execution_count": null,
   "source": [
    "controls.Select(s=>s.Value.SessionName)"
   ],
   "outputs": [],
   "metadata": {
    "dotnet_interactive": {
     "language": "csharp"
    }
   }
  },
  {
   "cell_type": "code",
   "execution_count": null,
   "source": [
    "int iSweep=0;\r\n",
    "foreach(var ctrl in controls){\r\n",
    "    try{\r\n",
    "    int cores= ctrl.Key.Cores;\r\n",
    "    var ctrlobj = ctrl.Value;\r\n",
    "    string sessname = ctrlobj.SessionName;\r\n",
    "    ctrlobj.SessionName = sessname + \"_c\"+cores+\"_Re50_\"+\"mue_\"+ctrlobj.PhysicalParameters.mu_A;\r\n",
    "    var aJob   = new Job(\"rotSphereInlet_\"+Gshape+ctrlobj.SessionName,typeof(XNSE));\r\n",
    "    aJob.SetControlObject(ctrlobj);\r\n",
    "    aJob.NumberOfMPIProcs         = cores;\r\n",
    "    aJob.ExecutionTime            = \"3:00:00\";\r\n",
    "    aJob.UseComputeNodesExclusive = true;\r\n",
    "\r\n",
    "    if(myBatch is SlurmClient) NodeRegression.Invoke(cores,myBatch);\r\n",
    "\r\n",
    "    aJob.Activate(myBatch);\r\n",
    "    iSweep++;\r\n",
    "    } catch (Exception ex){\r\n",
    "        Console.WriteLine(ex.Message);\r\n",
    "    }\r\n",
    "}"
   ],
   "outputs": [],
   "metadata": {
    "dotnet_interactive": {
     "language": "csharp"
    }
   }
  },
  {
   "cell_type": "code",
   "execution_count": null,
   "source": [
    "BoSSS.Application.BoSSSpad.BoSSSshell.WorkflowMgm.BlockUntilAllJobsTerminate();"
   ],
   "outputs": [],
   "metadata": {
    "dotnet_interactive": {
     "language": "csharp"
    }
   }
  }
 ],
 "metadata": {
  "kernelspec": {
   "display_name": ".NET (C#)",
   "language": "C#",
   "name": ".net-csharp"
  },
  "language_info": {
   "file_extension": ".cs",
   "mimetype": "text/x-csharp",
   "name": "C#",
   "pygments_lexer": "csharp",
   "version": "9.0"
  },
  "orig_nbformat": 2
 },
 "nbformat": 4,
 "nbformat_minor": 2
}