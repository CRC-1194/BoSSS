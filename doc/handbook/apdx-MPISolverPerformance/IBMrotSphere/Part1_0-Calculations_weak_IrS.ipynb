{
 "cells": [
  {
   "cell_type": "markdown",
   "metadata": {},
   "source": [
    "# Weak Scaling of rotating Sphere (Stokes, steady)\n",
    "\n",
    "We investigate: How efficient can resources been allocated (fixed problem size per core)? Theory of Gusavson's law states: the problem size lineary scales with the available resources for a efficient implementation and fixed runtime (e.g. double no of cores can solve a problem of double size (DOF) in the same time). Note: adjusting problem size during run is not possible with our approach, so we stick to fixed size per core instead."
   ]
  },
  {
   "cell_type": "code",
   "execution_count": null,
   "metadata": {
    "dotnet_interactive": {
     "language": "csharp"
    }
   },
   "outputs": [],
   "source": [
    "//#r \"./../../../../../public/src/L4-application/BoSSSpad/bin/Release/net5.0/BoSSSpad.dll\"\n",
    "#r \"BoSSSpad.dll\"\n",
    "using System;\n",
    "using ilPSP;\n",
    "using ilPSP.Utils;\n",
    "using BoSSS.Platform;\n",
    "using BoSSS.Foundation;\n",
    "using BoSSS.Foundation.XDG;\n",
    "using BoSSS.Foundation.Grid;\n",
    "using BoSSS.Solution;\n",
    "using BoSSS.Application.XNSE_Solver;\n",
    "using BoSSS.Application.BoSSSpad;\n",
    "using BoSSS.Foundation.Grid.Classic;\n",
    "using BoSSS.Foundation.IO;\n",
    "using BoSSS.Solution.AdvancedSolvers;\n",
    "using BoSSS.Solution.Control;\n",
    "using BoSSS.Solution.XNSECommon;\n",
    "using BoSSS.Solution.NSECommon;\n",
    "using BoSSS.Application.XNSE_Solver.LoadBalancing;\n",
    "using BoSSS.Solution.LevelSetTools;\n",
    "using BoSSS.Solution.XdgTimestepping;\n",
    "\n",
    "using static BoSSS.Application.BoSSSpad.BoSSSshell;\n",
    "Init();"
   ]
  },
  {
   "cell_type": "markdown",
   "metadata": {},
   "source": [
    "## Init Database, Client and Workflowmanager\n",
    "Set names of database and tables to be written out. \n",
    "Names are generated of environment variables (build information of jenkins).\n",
    "There are defaults though, you see no need change anything."
   ]
  },
  {
   "cell_type": "code",
   "execution_count": null,
   "metadata": {
    "dotnet_interactive": {
     "language": "csharp"
    }
   },
   "outputs": [],
   "source": [
    "// Is used at Jenkins to generate individual names (for output .json)\n",
    "string dbname = System.Environment.GetEnvironmentVariable(\"DATABASE_NAME\");\n",
    "string buildname = System.Environment.GetEnvironmentVariable(\"JOB_NAME\");\n",
    "//defaults\n",
    "buildname = String.IsNullOrEmpty(buildname)? \"Benchmark\" : buildname;\n",
    "//string thedate = $\"{System.DateTime.Today.Day}-{System.DateTime.Today.Month}-{System.DateTime.Today.Year}\";\n",
    "dbname = String.IsNullOrEmpty(dbname)? \"dbname\" : dbname;\n",
    "string table_name = String.Concat(buildname, \"_\", dbname);"
   ]
  },
  {
   "cell_type": "markdown",
   "metadata": {},
   "source": [
    "Auxiliary datatype to map gridID onto controlobjects and control objects onto job settings."
   ]
  },
  {
   "cell_type": "code",
   "execution_count": null,
   "metadata": {
    "dotnet_interactive": {
     "language": "csharp"
    }
   },
   "outputs": [],
   "source": [
    "struct Parameterz{\n",
    "    public Parameterz(int _Cores, int _Poly, int _Res){\n",
    "        Cores = _Cores;\n",
    "        Poly = _Poly;\n",
    "        Res = _Res;\n",
    "    }\n",
    "    public int Cores;\n",
    "    public int Poly;\n",
    "    public int Res;\n",
    "}"
   ]
  },
  {
   "cell_type": "markdown",
   "metadata": {},
   "source": [
    "define job settings. One <code>Parameterz</code> marks one job setting (injective mapping). Settings will lead to approximately same problem size per core:\n",
    "\n",
    "|\t | DOF/cell | cores | Res | DOF/core |\n",
    "|----|:----:|:-------------:|:------:|:------:|\n",
    "| k2 | 34 \t| 4,32,256     | 11*m | 11,314 |\n",
    "| k2 | 34 \t| 8,64,512     | 14*m | 11,662 |\n",
    "| k2 | 34 \t| 16,128,1024  | 17*m | 10,440 |\n",
    "| k3 | 70 \t| 4,32,256     | 9*m  | 12,758 |\n",
    "| k3 | 70 \t| 8,64,512     | 11*m | 11,646 |\n",
    "| k3 | 70 \t| 16,128,1024  | 14*m | 12,005 |\n",
    "| k4 | 125 \t| 4,32,256     | 7*m  | 10,719 |\n",
    "| k4 | 125 \t| 8,64,512     | 9*m  | 11,391 |\n",
    "| k4 | 125 \t| 16,128,1024  | 11*m | 10,398 |\n",
    "\n",
    "(Res is cells in direction of space within domain; m=(1,2,4))\n",
    "\n",
    "rectengular cells are used with x/y/z=3/1/1. Why this setting was chosen:\n",
    "- nonlinear increase in memory per core (more than 16 nodes had to be allocated: 384*16 GB = 6,144 GB!)\n",
    "- best match for DOF/core through k2, k3 and k4\n",
    "Note: that 10k DOF is the limie for Schwarz block size, so there is always 1 Schwarz block at each level per core"
   ]
  },
  {
   "cell_type": "code",
   "execution_count": null,
   "metadata": {
    "dotnet_interactive": {
     "language": "csharp"
    }
   },
   "outputs": [],
   "source": [
    "// set parameterz\n",
    "var Parameterz = new List<Parameterz>();\n",
    "\n",
    " // 8 cores\n",
    " Parameterz.Add(new Parameterz(8,2,11));\n",
    " Parameterz.Add(new Parameterz(8,3,9));\n",
    " Parameterz.Add(new Parameterz(8,4,7));\n",
    "/*\n",
    " // 16 cores\n",
    " Parameterz.Add(new Parameterz(16,2,18));\n",
    " Parameterz.Add(new Parameterz(16,3,14));\n",
    " Parameterz.Add(new Parameterz(16,4,11));\n",
    " \n",
    " // 32 cores\n",
    " Parameterz.Add(new Parameterz(32,2,22));\n",
    " Parameterz.Add(new Parameterz(32,3,18));\n",
    " Parameterz.Add(new Parameterz(32,4,14));\n",
    "\n",
    "\n",
    "// 64 cores\n",
    " Parameterz.Add(new Parameterz(64,2,28));\n",
    " Parameterz.Add(new Parameterz(64,3,22));\n",
    " Parameterz.Add(new Parameterz(64,4,18));\n",
    " */\n",
    "\n",
    "// problematic, high memory consumption !!!\n",
    "\n",
    " // 128 cores\n",
    " Parameterz.Add(new Parameterz(128,2,36));\n",
    " Parameterz.Add(new Parameterz(128,3,28));\n",
    " Parameterz.Add(new Parameterz(128,4,22));\n",
    "\n",
    "/*\n",
    " // 256 cores\n",
    " Parameterz.Add(new Parameterz(256,2,44));\n",
    " Parameterz.Add(new Parameterz(256,3,36));\n",
    " Parameterz.Add(new Parameterz(256,4,28));\n",
    "*/\n",
    "\n",
    " // 512 cores\n",
    " //Parameterz.Add(new Parameterz(512,2,56));\n",
    " //Parameterz.Add(new Parameterz(512,3,44));\n",
    " //Parameterz.Add(new Parameterz(512,4,36));\n",
    "int MemoryPerCore = 2000;"
   ]
  },
  {
   "cell_type": "markdown",
   "metadata": {},
   "source": [
    "Define solver parameters"
   ]
  },
  {
   "cell_type": "code",
   "execution_count": null,
   "metadata": {
    "dotnet_interactive": {
     "language": "csharp"
    }
   },
   "outputs": [],
   "source": [
    "bool useAMR = false;\n",
    "bool useLoadBal = true;\n",
    "int NoOfTimeSteps = 1;\n",
    "bool Steady = false;\n",
    "bool IncludeConvection = false;\n",
    "var Gshape = Shape.Sphere;"
   ]
  },
  {
   "cell_type": "markdown",
   "metadata": {},
   "source": [
    "Define solver parameters"
   ]
  },
  {
   "cell_type": "code",
   "execution_count": null,
   "metadata": {
    "dotnet_interactive": {
     "language": "csharp"
    }
   },
   "outputs": [],
   "source": [
    "ExecutionQueues"
   ]
  },
  {
   "cell_type": "markdown",
   "metadata": {},
   "source": [
    "Client setup and <code>\\#SBATCH</code> configuration:\n",
    "- <code>-N</code> (nodes),\n",
    "- <code>-C</code> (Processor architecture),\n",
    "- <code>--mem-per-cpu</code> (allocated memory per core).\n",
    "<br> Note: <code>--mem-per-cpu</code> must be set that the job is accepted by Lichtenberg scheduler."
   ]
  },
  {
   "cell_type": "code",
   "execution_count": null,
   "metadata": {
    "dotnet_interactive": {
     "language": "csharp"
    }
   },
   "outputs": [],
   "source": [
    "var myBatch = (SlurmClient)GetDefaultQueue();\n",
    "var AddSbatchCmds = new List<string>();\n",
    "AddSbatchCmds.AddRange(new string[]{\"#SBATCH -C avx512\", \"#SBATCH --mem-per-cpu=\"+MemoryPerCore});\n",
    "myBatch.AdditionalBatchCommands = AddSbatchCmds.ToArray();\n",
    "myBatch.AdditionalBatchCommands"
   ]
  },
  {
   "cell_type": "code",
   "execution_count": null,
   "metadata": {
    "dotnet_interactive": {
     "language": "csharp"
    }
   },
   "outputs": [],
   "source": [
    "string WFlowName = table_name;\n",
    "BoSSS.Application.BoSSSpad.BoSSSshell.WorkflowMgm.Init(WFlowName);\n",
    "BoSSS.Application.BoSSSpad.BoSSSshell.WorkflowMgm.SetNameBasedSessionJobControlCorrelation();"
   ]
  },
  {
   "cell_type": "markdown",
   "metadata": {},
   "source": [
    "Set database"
   ]
  },
  {
   "cell_type": "code",
   "execution_count": null,
   "metadata": {
    "dotnet_interactive": {
     "language": "csharp"
    }
   },
   "outputs": [],
   "source": [
    "string WFlowName = table_name;\n",
    "BoSSS.Application.BoSSSpad.BoSSSshell.WorkflowMgm.Init(WFlowName);\n",
    "BoSSS.Application.BoSSSpad.BoSSSshell.WorkflowMgm.SetNameBasedSessionJobControlCorrelation();\n",
    "var myDB = BoSSS.Application.BoSSSpad.BoSSSshell.WorkflowMgm.DefaultDatabase; myDB"
   ]
  },
  {
   "cell_type": "markdown",
   "metadata": {},
   "source": [
    "## Generate Grid\n",
    "- Domain (-2,4)x(-1,1)x(-1,1)\n",
    "- equidistant, rectengular (x/y/z=3/1/1) cells, resolution is chosen according to <code>Parameterz.Res</code>"
   ]
  },
  {
   "cell_type": "code",
   "execution_count": null,
   "metadata": {
    "dotnet_interactive": {
     "language": "csharp"
    }
   },
   "outputs": [],
   "source": [
    "static class Utils {\n",
    "    // DOF per cell in 3D\n",
    "    public static int Np(int p) {\n",
    "        return (p*p*p + 6*p*p + 11*p + 6)/6;\n",
    "    }    \n",
    "}"
   ]
  },
  {
   "cell_type": "code",
   "execution_count": null,
   "metadata": {
    "dotnet_interactive": {
     "language": "csharp"
    }
   },
   "outputs": [],
   "source": [
    "double xMax = 4.0, yMax = 1.0, zMax = 1.0;\n",
    "double xMin = -2.0, yMin = -1.0,zMin = -1.0;"
   ]
  },
  {
   "cell_type": "markdown",
   "metadata": {},
   "source": [
    "generate all grids defined by <code>Parameterz.Res</code>. If grid already exists, continue. "
   ]
  },
  {
   "cell_type": "code",
   "execution_count": null,
   "metadata": {
    "dotnet_interactive": {
     "language": "csharp"
    }
   },
   "outputs": [],
   "source": [
    "var Grids = new Dictionary<int, IGridInfo>();\n",
    "foreach(var P in Parameterz){\n",
    "    int Res = P.Res;\n",
    "    if(Grids.TryGetValue(Res,out IGridInfo ignore))\n",
    "        continue;\n",
    "    int Stretching = (int)Math.Floor(Math.Abs(xMax-xMin)/Math.Abs(yMax-yMin));\n",
    "    //int Stretching = 1;\n",
    "    var _xNodes = GenericBlas.Linspace(xMin, xMax, Stretching*Res + 1);\n",
    "    var _yNodes = GenericBlas.Linspace(yMin, yMax, Res + 1);\n",
    "    var _zNodes = GenericBlas.Linspace(zMin, zMax, Res + 1);\n",
    "\n",
    "    GridCommons grd;\n",
    "    string gname = \"RotBenchmarkGrid\";\n",
    "    \n",
    "    var tmp = new List<IGridInfo>();\n",
    "    foreach(var grid in myDB.Grids){\n",
    "        try{\n",
    "            bool IsMatch = grid.Name.Equals(gname)&&grid.NumberOfCells==(_xNodes.Length-1)*(_yNodes.Length-1)*(_zNodes.Length-1);\n",
    "            if(IsMatch) tmp.Add(grid);\n",
    "        }\n",
    "        catch(Exception ex) {\n",
    "            Console.WriteLine(ex.Message);\n",
    "        }\n",
    "    }\n",
    "    //var tmp = myDB.Grids.Where(g=>g.Name.Equals(gname)&&g.NumberOfCells==Res*Res*Res); // this leads to exception in case of broken grids\n",
    "    if(tmp.Count()>=1){\n",
    "        Console.WriteLine(\"Grid found: \"+tmp.Pick(0).Name);\n",
    "        Grids.Add(Res,tmp.Pick(0));\n",
    "        continue;\n",
    "    }\n",
    "    \n",
    "    grd = Grid3D.Cartesian3DGrid(_xNodes, _yNodes, _zNodes);\n",
    "    grd.Name = gname;\n",
    "    //grd.AddPredefinedPartitioning(\"debug\", MakeDebugPart);\n",
    "\n",
    "    grd.EdgeTagNames.Add(1, \"Velocity_inlet\");\n",
    "    grd.EdgeTagNames.Add(2, \"Wall\");\n",
    "    grd.EdgeTagNames.Add(3, \"Pressure_Outlet\");\n",
    "\n",
    "    grd.DefineEdgeTags(delegate (double[] _X) {\n",
    "        var X = _X;\n",
    "        double x, y, z;\n",
    "        x = X[0];\n",
    "        y = X[1];\n",
    "        z = X[2];\n",
    "        if(Math.Abs(x-xMin)<1E-8)\n",
    "            return 1;\n",
    "        else\n",
    "            return 3;\n",
    "    });\n",
    "    myDB.SaveGrid(ref grd,false);\n",
    "    Grids.Add(Res,grd);\n",
    "} Grids.Keys.ToList()"
   ]
  },
  {
   "cell_type": "markdown",
   "metadata": {},
   "source": [
    "## Generate Control object\n",
    "\n",
    "### governing equations\n",
    "- incompressible steady Stokes:\n",
    "<br>$\\nabla p - \\eta \\Delta \\vec{u} = \\vec{f} \\ \\ in \\ \\ \\Omega_F $\n",
    "<br>$\\nabla \\cdot \\vec{u} = 0 \\quad in \\ \\ \\Omega_F$\n",
    "- with boundary conditions:\n",
    "<br>$\\vec{u}(\\vec{x})  =  \\vec{u}_{Inlet} \\ \\  on \\ \\ \\Gamma_{Inlet} = \\{ \\vec{X} \\in \\partial \\Omega_F |  x=-2 \\}$\n",
    "<br>$p \\mathbf{I} - \\frac{1}{Re} \\nabla \\vec{u} \\vec{n}_{ \\Gamma_{pOut} } = 0 \\ \\ on \\ \\ \\Gamma_{pOut} = \\partial \\Omega \\backslash \\Gamma_{Inlet} $ \n",
    "<br>$\\vec{u}(\\vec{x}) = \\boldsymbol{\\omega} \\times \\vec{r} \\quad on \\ \\ \\mathcal{J} = \\partial \\Omega_S \\cap \\partial \\Omega_F$\n",
    "\n",
    "- Inlet-Velocity $u_{Inlet}=\\frac{Re*\\mu_A}{\\rho_A*d_{hyd}}$\n",
    "- angular velocity of rotating sphere $\\boldsymbol{\\omega}=\\frac{Re*\\mu_A}{\\rho_A*d_{hyd}*1m}$\n",
    "\n",
    "### Notes:\n",
    "- for simplicity we stick to a steady linear problem (we do not have to worry about time stepping and NL-solver at this point)\n",
    "- why sphere? answer: we do not have to enforce continuity of Levelset. Although sharp edges demand higher local resolution (skip AMR at this point)"
   ]
  },
  {
   "cell_type": "code",
   "execution_count": null,
   "metadata": {
    "dotnet_interactive": {
     "language": "csharp"
    }
   },
   "outputs": [],
   "source": [
    "int SpaceDim = 3; "
   ]
  },
  {
   "cell_type": "code",
   "execution_count": null,
   "metadata": {
    "dotnet_interactive": {
     "language": "csharp"
    }
   },
   "outputs": [],
   "source": [
    "Func<IGridInfo, int, XNSE_Control> GenXNSECtrl = delegate(IGridInfo grd, int k){\n",
    "    XNSE_Control C = new XNSE_Control();\n",
    "    // basic database options\n",
    "    // ======================\n",
    "    C.SetDatabase(myDB);\n",
    "    C.savetodb = true;\n",
    "    int J  = grd.NumberOfCells;\n",
    "    C.SessionName = string.Format(\"J{0}_k{1}_t{2}\", J, k,NoOfTimeSteps);\n",
    "    if(IncludeConvection){\n",
    "        C.SessionName += \"_NSE\";\n",
    "        C.Tags.Add(\"NSE\");\n",
    "    } else {\n",
    "        C.SessionName += \"_Stokes\";\n",
    "        C.Tags.Add(\"Stokes\");\n",
    "    }\n",
    "    C.Tags.Add(SpaceDim + \"D\");\n",
    "    if(Steady)C.Tags.Add(\"steady\");\n",
    "    else C.Tags.Add(\"transient\");\n",
    "    C.Tags.Add(\"reortho_Iter2_sameRes\");\n",
    "\n",
    "    // DG degrees\n",
    "    // ==========\n",
    "    C.SetFieldOptions(k, Math.Max(k, 2));\n",
    "    C.saveperiod = 1;\n",
    "    //C.TracingNamespaces = \"*\";\n",
    "\n",
    "    C.GridGuid = grd.ID;\n",
    "    C.GridPartType = GridPartType.clusterHilbert;\n",
    "    C.DynamicLoadbalancing_ClassifierType = ClassifierType.CutCells;\n",
    "    C.DynamicLoadBalancing_On = useLoadBal;\n",
    "    C.DynamicLoadBalancing_RedistributeAtStartup = true;\n",
    "    C.DynamicLoadBalancing_Period = 1;\n",
    "    C.DynamicLoadBalancing_ImbalanceThreshold = 0.1;\n",
    "\n",
    "    // Physical Parameters\n",
    "    // ===================\n",
    "    const double rhoA = 1;\n",
    "    const double Re = 50;\n",
    "    double muA = 1;\n",
    "    \n",
    "    double partRad = 0.3001;\n",
    "    double anglev = Re*muA/rhoA/(2*partRad);\n",
    "    //double anglev = 0.0;\n",
    "    double d_hyd = 2*partRad;\n",
    "    double VelocityIn = Re*muA/rhoA/d_hyd;\n",
    "    double[] pos = new double[SpaceDim];\n",
    "\n",
    "    C.PhysicalParameters.IncludeConvection = IncludeConvection;\n",
    "    C.PhysicalParameters.Material = true;\n",
    "    C.PhysicalParameters.rho_A = rhoA;\n",
    "    C.PhysicalParameters.mu_A = muA;\n",
    "\n",
    "    C.Rigidbody.SetParameters(pos,anglev,partRad,SpaceDim);\n",
    "    C.Rigidbody.SpecifyShape(Gshape);\n",
    "    C.Rigidbody.SetRotationAxis(\"x\");\n",
    "\n",
    "    C.AddInitialValue(VariableNames.LevelSetCGidx(0), new Formula(\"X => -1\"));\n",
    "    C.UseImmersedBoundary = true;\n",
    "    \n",
    "    C.AddInitialValue(\"Pressure\", new Formula(@\"X => 0\"));\n",
    "    C.AddBoundaryValue(\"Pressure_Outlet\");\n",
    "    C.AddBoundaryValue(\"Velocity_inlet\",\"VelocityX\",new Formula($\"(X) => {VelocityIn}\"));\n",
    "    //C.AddInitialValue(\"VelocityX\", new Formula($\"(X,t) => {VelocityIn}\"));\n",
    "\n",
    "    C.CutCellQuadratureType = BoSSS.Foundation.XDG.XQuadFactoryHelper.MomentFittingVariants.Saye;\n",
    "    C.UseSchurBlockPrec = true;\n",
    "    C.AgglomerationThreshold = 0.1;\n",
    "    C.AdvancedDiscretizationOptions.ViscosityMode = ViscosityMode.FullySymmetric;\n",
    "    C.Option_LevelSetEvolution2 = LevelSetEvolution.Prescribed;\n",
    "    C.Option_LevelSetEvolution = LevelSetEvolution.None;\n",
    "    C.Timestepper_LevelSetHandling = LevelSetHandling.None;\n",
    "    C.LinearSolver.NoOfMultigridLevels = 4;\n",
    "    C.LinearSolver.ConvergenceCriterion = 1E-6;\n",
    "    C.LinearSolver.MaxSolverIterations = 500;\n",
    "    C.LinearSolver.MaxKrylovDim = 50;\n",
    "    C.LinearSolver.TargetBlockSize = 1000;\n",
    "    C.LinearSolver.verbose = true;\n",
    "    C.LinearSolver.SolverCode = LinearSolverCode.exp_Kcycle_schwarz;\n",
    "    C.NonLinearSolver.SolverCode = NonLinearSolverCode.Newton;\n",
    "    C.NonLinearSolver.ConvergenceCriterion = 1E-6;\n",
    "    C.NonLinearSolver.MaxSolverIterations = 10;\n",
    "    C.NonLinearSolver.verbose = true;\n",
    "\n",
    "    C.AdaptiveMeshRefinement = useAMR;\n",
    "    if (useAMR) {\n",
    "        C.SetMaximalRefinementLevel(1);\n",
    "        C.AMR_startUpSweeps = 0;\n",
    "    }\n",
    "\n",
    "    // Timestepping\n",
    "    // ============\n",
    "    double dt = -1;\n",
    "    if(Steady){\n",
    "        C.TimesteppingMode = AppControl._TimesteppingMode.Steady;\n",
    "        dt = 1000;\n",
    "        C.NoOfTimesteps = 1;\n",
    "    } else {\n",
    "        C.TimesteppingMode = AppControl._TimesteppingMode.Transient;        \n",
    "        dt = 0.1;        \n",
    "        C.NoOfTimesteps = NoOfTimeSteps;\n",
    "    }\n",
    "    C.TimeSteppingScheme = TimeSteppingScheme.ImplicitEuler;\n",
    "    C.dtFixed = dt;\n",
    "    return C;\n",
    "};"
   ]
  },
  {
   "cell_type": "code",
   "execution_count": null,
   "metadata": {
    "dotnet_interactive": {
     "language": "csharp"
    }
   },
   "outputs": [],
   "source": [
    "var controls = new Dictionary<Parameterz,XNSE_Control>();\n",
    "foreach(var P in Parameterz){\n",
    "    int k = P.Poly;\n",
    "    Grids.TryGetValue(P.Res,out IGridInfo grd);\n",
    "    controls.Add(P,GenXNSECtrl(grd,k));\n",
    "} controls.Values.Select(s=>s.SessionName)"
   ]
  },
  {
   "cell_type": "markdown",
   "metadata": {},
   "source": [
    "## Submit & Run Jobs at Server\n",
    "\n",
    "mapping control files to job configuration alias number of cores in particular.\n",
    "<br>Memory consumption was severe. Number of nodes had to be adjusted due to memory consumption (384 GB per node at Lichtenberg 2). So not all cores of a node where operating (96 cores / node at Lichtenberg 2). <code>NodeRegression</code> is a regression of memory to cores, to estimate nodes to allocate for runs. Hopefully this is not necessary anymore in the future ..."
   ]
  },
  {
   "cell_type": "code",
   "execution_count": null,
   "metadata": {
    "dotnet_interactive": {
     "language": "csharp"
    }
   },
   "outputs": [],
   "source": [
    "static Action<int,BatchProcessorClient> NodeRegression =  delegate (int cores, BatchProcessorClient thisBatch) {\n",
    "    int NoOfNodes = (int)Math.Ceiling(0.75*Math.Pow(cores,0.44));\n",
    "    List<string> Cmdtmp = (thisBatch as SlurmClient).AdditionalBatchCommands.ToList();\n",
    "    Cmdtmp.Add($\"#SBATCH -N {NoOfNodes}\");\n",
    "    (thisBatch as SlurmClient).AdditionalBatchCommands = Cmdtmp.ToArray();\n",
    "};"
   ]
  },
  {
   "cell_type": "markdown",
   "metadata": {},
   "source": []
  },
  {
   "cell_type": "code",
   "execution_count": null,
   "metadata": {
    "dotnet_interactive": {
     "language": "csharp"
    }
   },
   "outputs": [],
   "source": [
    "controls.Select(s=>s.Value.SessionName)"
   ]
  },
  {
   "cell_type": "code",
   "execution_count": null,
   "metadata": {
    "dotnet_interactive": {
     "language": "csharp"
    }
   },
   "outputs": [],
   "source": [
    "int iSweep=0;\n",
    "foreach(var ctrl in controls){\n",
    "    try{\n",
    "    int cores= ctrl.Key.Cores;\n",
    "    var ctrlobj = ctrl.Value;\n",
    "    string sessname = ctrlobj.SessionName;\n",
    "    ctrlobj.SessionName = sessname + \"_c\"+cores+\"_Re50_\"+\"mue_\"+ctrlobj.PhysicalParameters.mu_A;\n",
    "    var aJob   = new Job(\"rotSphereInlet_\"+Gshape+ctrlobj.SessionName,typeof(XNSE));\n",
    "    aJob.SetControlObject(ctrlobj);\n",
    "    aJob.NumberOfMPIProcs         = cores;\n",
    "    aJob.ExecutionTime            = \"3:00:00\";\n",
    "    aJob.UseComputeNodesExclusive = true;\n",
    "\n",
    "    if(myBatch is SlurmClient) NodeRegression.Invoke(cores,myBatch);\n",
    "\n",
    "    aJob.Activate(myBatch);\n",
    "    iSweep++;\n",
    "    } catch (Exception ex){\n",
    "        Console.WriteLine(ex.Message);\n",
    "    }\n",
    "}"
   ]
  },
  {
   "cell_type": "markdown",
   "metadata": {},
   "source": [
    "Wait until all jobs terminate. Checking in 60 sec intervals. Printing out every 15 min ..."
   ]
  },
  {
   "cell_type": "code",
   "execution_count": null,
   "metadata": {
    "dotnet_interactive": {
     "language": "csharp"
    }
   },
   "outputs": [],
   "source": [
    "BoSSS.Application.BoSSSpad.BoSSSshell.WorkflowMgm.BlockUntilAllJobsTerminate(3*3600,60);"
   ]
  }
 ],
 "metadata": {
  "kernelspec": {
   "display_name": ".NET (C#)",
   "language": "C#",
   "name": ".net-csharp"
  },
  "language_info": {
   "file_extension": ".cs",
   "mimetype": "text/x-csharp",
   "name": "C#",
   "pygments_lexer": "csharp",
   "version": "9.0"
  },
  "orig_nbformat": 2
 },
 "nbformat": 4,
 "nbformat_minor": 2
}
