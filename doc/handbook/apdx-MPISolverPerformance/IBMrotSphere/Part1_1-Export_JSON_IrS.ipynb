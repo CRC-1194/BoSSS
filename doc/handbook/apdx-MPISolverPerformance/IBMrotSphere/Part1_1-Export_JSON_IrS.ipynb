{
 "cells": [
  {
   "cell_type": "code",
   "execution_count": null,
   "metadata": {
    "dotnet_interactive": {
     "language": "csharp"
    }
   },
   "outputs": [],
   "source": [
    "//#r \"./../../../../../public/src/L4-application/BoSSSpad/bin/Release/net5.0/BoSSSpad.dll\"\n",
    "#r \"BoSSSpad.dll\"\n",
    "using System;\n",
    "using ilPSP;\n",
    "using ilPSP.Utils;\n",
    "using BoSSS.Platform;\n",
    "using BoSSS.Foundation;\n",
    "using BoSSS.Foundation.XDG;\n",
    "using BoSSS.Foundation.Grid;\n",
    "using BoSSS.Solution;\n",
    "using BoSSS.Application.XNSE_Solver;\n",
    "using System.IO;\n",
    "using BoSSS.Foundation.IO;\n",
    "using ilPSP.Tracing;\n",
    "using BoSSS.Application.BoSSSpad;\n",
    "\n",
    "using static BoSSS.Application.BoSSSpad.BoSSSshell;\n",
    "Init();"
   ]
  },
  {
   "cell_type": "code",
   "execution_count": null,
   "metadata": {
    "dotnet_interactive": {
     "language": "csharp"
    }
   },
   "outputs": [],
   "source": [
    "// Is used at Jenkins to generate individual names (for output .json)\n",
    "string dbname = System.Environment.GetEnvironmentVariable(\"DATABASE_NAME\");\n",
    "string buildname = System.Environment.GetEnvironmentVariable(\"JOB_NAME\");\n",
    "//defaults\n",
    "buildname = String.IsNullOrEmpty(buildname)? \"Benchmark\" : buildname;\n",
    "//string thedate = $\"{System.DateTime.Today.Day}-{System.DateTime.Today.Month}-{System.DateTime.Today.Year}\";\n",
    "dbname = String.IsNullOrEmpty(dbname)? \"dbname\" : dbname;\n",
    "string table_name = String.Concat(buildname, \"_\", dbname);"
   ]
  },
  {
   "cell_type": "code",
   "execution_count": null,
   "metadata": {
    "dotnet_interactive": {
     "language": "csharp"
    }
   },
   "outputs": [],
   "source": [
    "string WFlowName = table_name;\n",
    "var wfmgr = BoSSS.Application.BoSSSpad.BoSSSshell.WorkflowMgm;\n",
    "wfmgr.Init(WFlowName); wfmgr.Sessions"
   ]
  },
  {
   "cell_type": "code",
   "execution_count": null,
   "metadata": {
    "dotnet_interactive": {
     "language": "csharp"
    }
   },
   "outputs": [],
   "source": [
    "wfmgr.Sessions.Where(s=>!s.SuccessfulTermination).ForEach(s=>s.Delete(true));\n",
    "wfmgr.Init(WFlowName); wfmgr.Sessions"
   ]
  },
  {
   "cell_type": "code",
   "execution_count": null,
   "metadata": {
    "dotnet_interactive": {
     "language": "csharp"
    }
   },
   "outputs": [],
   "source": [
    "/*\n",
    "CG projection               -> ProjectDGField                               BoSSS.Foundation.ConstrainedDGprojection.ConstrainedDGField_Global.ProjectDGField\n",
    "dyn Loadbalancing           -> DoLoadbalancing                              BoSSS.Solution.Application`1.DoLoadbalancing\n",
    "AMR                         -> DoMeshAdaption                               BoSSS.Solution.Application`1.DoMeshAdaption\n",
    "compile Cut-cell quadrature -> Rule_Compilation_SayeGaussRuleFactory        Rule_Compilation_SayeGaussRuleFactory\n",
    "compile standard quadrature -> Rule_Compilation_StandardQuadRuleFactory     Rule_Compilation_StandardQuadRuleFactory\n",
    "matrix assembly             -> XdgMatrixAssembly                            BoSSS.Solution.XdgTimestepping.XdgBDFTimestepping.AssembleMatrixCallback\n",
    "agg basis init              -> Aggregation_basis_init_time                  BoSSS.Solution.AdvancedSolvers.XdgAggregationBasis.Update\n",
    "solver init                 -> Solver_Init_time                             Slv Init\n",
    "solver run                  -> Solver_Run_time                              Slv Iter\n",
    "I/O                         -> SaveToDatabase                               BoSSS.Solution.Application`1.SaveToDatabase\n",
    "*/"
   ]
  },
  {
   "cell_type": "code",
   "execution_count": null,
   "metadata": {
    "dotnet_interactive": {
     "language": "csharp"
    }
   },
   "outputs": [],
   "source": [
    "static var PreComputeProfiling = new Dictionary<System.Guid,MethodCallRecord[]>();\n",
    "foreach(var sess in wfmgr.Sessions){\n",
    "    MethodCallRecord[] mcrs = null;\n",
    "    try{\n",
    "        mcrs = sess.GetProfiling();\n",
    "    } catch (Exception ex){\n",
    "        Console.WriteLine(ex.Message);\n",
    "    }\n",
    "    PreComputeProfiling.Add(sess.ID, mcrs);\n",
    "}"
   ]
  },
  {
   "cell_type": "code",
   "execution_count": null,
   "metadata": {
    "dotnet_interactive": {
     "language": "csharp"
    }
   },
   "outputs": [],
   "source": [
    "static class AddCols {\n",
    "    static public MethodCallRecord[] GetMCR(ISessionInfo SI){\n",
    "        MethodCallRecord[] mcrs = null;\n",
    "        PreComputeProfiling.TryGetValue(SI.ID,out mcrs);\n",
    "        return mcrs;\n",
    "    }\n",
    "    static private double TimeOnProc(MethodCallRecord mcr, string method){\n",
    "        double time = 0;\n",
    "        foreach(var child in mcr.FindChildren(method)){\n",
    "            time += child.TimeSpentInMethod.TotalSeconds;\n",
    "            //time += child.TimeSpentInMPIBlocking.TotalSeconds;\n",
    "        }\n",
    "        /*\n",
    "        var child = mcr.FindChildren(method).Pick(0);\n",
    "        time = child.TimeExclusive.TotalSeconds;\n",
    "        */\n",
    "        /*\n",
    "        double time = -1;\n",
    "        foreach(var child in mcr.FindChildren(method)){\n",
    "            var childtime = child.TimeSpentInMethod.TotalSeconds;\n",
    "            //var childtime = child.TimeSpentInMPIBlocking.TotalSeconds;\n",
    "            time = childtime > time? childtime:time;\n",
    "        }\n",
    "        */\n",
    "        return time;\n",
    "    }\n",
    "    static public double AverageTime(ISessionInfo SI,string method){\n",
    "        var mcrs       = GetMCR(SI);\n",
    "        double avtime = 0;\n",
    "\n",
    "        foreach(var mcr in mcrs){\n",
    "            avtime+=TimeOnProc(mcr,method);\n",
    "        }\n",
    "        avtime = avtime / mcrs.Count();\n",
    "        return avtime;\n",
    "    }\n",
    "    static public double MaxTime(ISessionInfo SI,string method){\n",
    "        var mcrs       = GetMCR(SI);\n",
    "        double maxtime = -1;\n",
    "\n",
    "        foreach(var mcr in mcrs){\n",
    "            double time =TimeOnProc(mcr,method);    \n",
    "            maxtime = time>maxtime?time:maxtime;\n",
    "        }\n",
    "        return maxtime;\n",
    "    }\n",
    "    static public object LSolverIter(ISessionInfo SI){\n",
    "        var mcr          = GetMCR(SI)[0];\n",
    "        string searchstr = \"BoSSS.Solution.AdvancedSolvers.DirectSolver.Solve\";\n",
    "        var ndS = mcr.FindChildren(searchstr);\n",
    "        var nd  = ndS.ElementAt(1);\n",
    "        return nd.CallCount;\n",
    "    }\n",
    "    static public object NLSolverIter(ISessionInfo SI){\n",
    "        var mcr          = GetMCR(SI)[0];\n",
    "        string searchstr = \"BoSSS.Solution.AdvancedSolvers.Newton.GlobalizedNewton\";\n",
    "        var ndS = mcr.FindChildren(searchstr);\n",
    "        var nd  = ndS.ElementAt(0);\n",
    "        return nd.CallCount;\n",
    "    }\n",
    "    static public object TotalRuntime(ISessionInfo SI){\n",
    "        return MaxTime(SI,\"root_frame\");\n",
    "    }\n",
    "    static public object MatrixAssembly_time(ISessionInfo SI) {\n",
    "        return MaxTime(SI,\"BoSSS.Solution.XdgTimestepping.XdgBDFTimestepping.AssembleMatrixCallback\");\n",
    "    }\n",
    "    static public object AggregationBaseInit_time(ISessionInfo SI) {\n",
    "        return MaxTime(SI,\"BoSSS.Solution.AdvancedSolvers.XdgAggregationBasis.Update\");\n",
    "    }\n",
    "    static public object SolverInit_time(ISessionInfo SI) {\n",
    "        return MaxTime(SI,\"Slv Init\");\n",
    "    }\n",
    "    static public object SolverRun_time(ISessionInfo SI) {\n",
    "        return MaxTime(SI,\"Slv Iter\");\n",
    "    }\n",
    "    static public object DataIO_time(ISessionInfo SI){\n",
    "        double sum = 0;\n",
    "        sum+=MaxTime(SI,\"BoSSS.Solution.Application`1.CreateOrLoadGrid\");\n",
    "        sum+=MaxTime(SI,\"BoSSS.Solution.Application`1.SaveToDatabase\");\n",
    "        return sum;\n",
    "    }\n",
    "    static public object CGProjection_time(ISessionInfo SI){\n",
    "        return MaxTime(SI,\"BoSSS.Foundation.ConstrainedDGprojection.ConstrainedDGField_Global.ProjectDGField\");\n",
    "    }\n",
    "    static public object SayeCompile_time(ISessionInfo SI){\n",
    "        return MaxTime(SI,\"Rule_Compilation_SayeGaussRuleFactory\");\n",
    "    }\n",
    "    static public object StandardCompile_time(ISessionInfo SI){\n",
    "        return MaxTime(SI,\"Rule_Compilation_StandardQuadRuleFactory\");\n",
    "    }\n",
    "    static public object AMR_time(ISessionInfo SI){\n",
    "        return MaxTime(SI,\"BoSSS.Solution.Application`1.DoMeshAdaption\");\n",
    "    }\n",
    "    static public object LoadBal_time(ISessionInfo SI){\n",
    "        return MaxTime(SI,\"BoSSS.Solution.Application`1.DoLoadbalancing\");\n",
    "    }\n",
    "    static public object NoOfCores(ISessionInfo SI){\n",
    "        return SI.ComputeNodeNames.Count();\n",
    "    }\n",
    "    static public object NoOfNodes(ISessionInfo SI){\n",
    "        return SI.ComputeNodeNames.GroupBy(s=>s).Count();\n",
    "    }\n",
    "    static public object MGDepth(ISessionInfo SI){\n",
    "        var mcr = GetMCR(SI)[0];\n",
    "        double NInit  = mcr.FindChildren(\"BoSSS.Solution.AdvancedSolvers.OrthonormalizationMultigrid.Init\").ToArray().Length;\n",
    "        return NInit + 1;\n",
    "    }\n",
    "    static public object DOF(ISessionInfo SI){\n",
    "        return SI.GetDOF(\"VelocityX\")*3+SI.GetDOF(\"Pressure\");\n",
    "    }\n",
    "    static public Func<ISessionInfo,object> FuncGenerator(string method){\n",
    "        return delegate (ISessionInfo SI){\n",
    "            return MaxTime(SI, method);\n",
    "        };\n",
    "    }\n",
    "}"
   ]
  },
  {
   "cell_type": "code",
   "execution_count": null,
   "metadata": {
    "dotnet_interactive": {
     "language": "csharp"
    }
   },
   "outputs": [],
   "source": [
    "wfmgr.Sessions.Select(s=>AddCols.LSolverIter(s))"
   ]
  },
  {
   "cell_type": "code",
   "execution_count": null,
   "metadata": {
    "dotnet_interactive": {
     "language": "csharp"
    }
   },
   "outputs": [],
   "source": [
    "wfmgr.AdditionalSessionTableColums.Clear();\n",
    "wfmgr.AdditionalSessionTableColums.Add(\"LSolverIter\", AddCols.LSolverIter);\n",
    "wfmgr.AdditionalSessionTableColums.Add(\"NLSolverIter\", AddCols.NLSolverIter);\n",
    "wfmgr.AdditionalSessionTableColums.Add(\"TotalRuntime\", AddCols.TotalRuntime);\n",
    "wfmgr.AdditionalSessionTableColums.Add(\"MatrixAssembly_time\", AddCols.MatrixAssembly_time);\n",
    "wfmgr.AdditionalSessionTableColums.Add(\"AggregationBaseInit_time\", AddCols.AggregationBaseInit_time);\n",
    "wfmgr.AdditionalSessionTableColums.Add(\"DataIO_time\", AddCols.DataIO_time);\n",
    "wfmgr.AdditionalSessionTableColums.Add(\"CGProjection_time\", AddCols.CGProjection_time);\n",
    "wfmgr.AdditionalSessionTableColums.Add(\"SayeCompile_time\", AddCols.SayeCompile_time);\n",
    "wfmgr.AdditionalSessionTableColums.Add(\"StandardCompile_time\",AddCols.StandardCompile_time);\n",
    "wfmgr.AdditionalSessionTableColums.Add(\"AMR_time\",AddCols.AMR_time);\n",
    "wfmgr.AdditionalSessionTableColums.Add(\"LoadBal_time\",AddCols.LoadBal_time);\n",
    "wfmgr.AdditionalSessionTableColums.Add(\"NoOfCores\",AddCols.NoOfCores);\n",
    "wfmgr.AdditionalSessionTableColums.Add(\"NoOfNodes\",AddCols.NoOfNodes);\n",
    "wfmgr.AdditionalSessionTableColums.Add(\"SolverInit_time\", AddCols.SolverInit_time);\n",
    "wfmgr.AdditionalSessionTableColums.Add(\"SolverRun_time\", AddCols.SolverRun_time);\n",
    "wfmgr.AdditionalSessionTableColums.Add(\"MGDepth\",AddCols.MGDepth);\n",
    "wfmgr.AdditionalSessionTableColums.Add(\"DOF\",AddCols.DOF);"
   ]
  },
  {
   "cell_type": "code",
   "execution_count": null,
   "metadata": {
    "dotnet_interactive": {
     "language": "csharp"
    }
   },
   "outputs": [],
   "source": [
    "string[] AdditionalTraces = new string[]{               \n",
    "    \"BoSSS.Solution.AdvancedSolvers.OrthonormalizationMultigrid.AddSol\",\n",
    "    \"BoSSS.Solution.AdvancedSolvers.Schwarz.Solve\",\n",
    "    \"BoSSS.Solution.AdvancedSolvers.OrthonormalizationMultigrid.MinimizeResidual\",\n",
    "    \"BoSSS.Solution.AdvancedSolvers.OrthonormalizationMultigrid.Residual\",\n",
    "    \"BoSSS.Solution.AdvancedSolvers.OrthonormalizationMultigrid.Solve\",\n",
    "    \"overlap_scaling\",\n",
    "    \"block_solve_level\",\n",
    "    \"caching\",\n",
    "    \"nocaching\",\n",
    "    \"BoSSS.Solution.AdvancedSolvers.OrthonormalizationMultigrid.VerivyCurrentResidual\",\n",
    "    \"Restriction\",\n",
    "    \"Prolongation\",\n",
    "    \"BoSSS.Solution.AdvancedSolvers.DirectSolver.Solve\"\n",
    "};"
   ]
  },
  {
   "cell_type": "code",
   "execution_count": null,
   "metadata": {
    "dotnet_interactive": {
     "language": "csharp"
    }
   },
   "outputs": [],
   "source": [
    "foreach(string Ftrace in AdditionalTraces){\n",
    "    string[] Schnipsel = Ftrace.Split('.');\n",
    "    int L = Schnipsel.Length;\n",
    "    string ColumnName = \"\";\n",
    "    if(L>1)\n",
    "        ColumnName = String.Concat(Schnipsel[L-2],'.',Schnipsel[L-1]);\n",
    "    else\n",
    "        ColumnName = Schnipsel.Last();\n",
    "\n",
    "    wfmgr.AdditionalSessionTableColums.Add(ColumnName,AddCols.FuncGenerator(Ftrace));\n",
    "}"
   ]
  },
  {
   "cell_type": "code",
   "execution_count": null,
   "metadata": {
    "dotnet_interactive": {
     "language": "csharp"
    }
   },
   "outputs": [],
   "source": [
    "var SessTab = wfmgr.SessionTable;\n",
    "SessTab.GetColumnNames().OrderBy(s=>s)"
   ]
  },
  {
   "cell_type": "code",
   "execution_count": null,
   "metadata": {
    "dotnet_interactive": {
     "language": "csharp"
    }
   },
   "outputs": [],
   "source": [
    "// The Session column can't be serialized,\n",
    "// we have to remove it\n",
    "List<string> AllCols = SessTab.GetColumnNames().ToList();\n",
    "AllCols.Remove(\"Session\");"
   ]
  },
  {
   "cell_type": "code",
   "execution_count": null,
   "metadata": {
    "dotnet_interactive": {
     "language": "csharp"
    }
   },
   "outputs": [],
   "source": [
    "SessTab.GetColumnNames().Where(s=>s.Contains(\"Depth\"))"
   ]
  },
  {
   "cell_type": "code",
   "execution_count": null,
   "metadata": {
    "dotnet_interactive": {
     "language": "csharp"
    }
   },
   "outputs": [],
   "source": [
    "SessTab = SessTab.ExtractColumns(AllCols.ToArray());\n",
    "// Filename\n",
    "string dirpath = Directory.GetCurrentDirectory();\n",
    "var now           = DateTime.Now;\n",
    "SessTab.TableName = WFlowName;\n",
    "string docpath    = Path.Combine(dirpath, SessTab.TableName + \".json\");\n",
    "SessTab.SaveToFile(docpath); docpath"
   ]
  },
  {
   "cell_type": "code",
   "execution_count": null,
   "metadata": {
    "dotnet_interactive": {
     "language": "csharp"
    }
   },
   "outputs": [],
   "source": [
    "/*\n",
    "var SubTab = SessTab.ExtractColumns(\"LSolverIter\", \"NLSolverIter\", \"TotalRuntime\", \"MatrixAssembly_time\", \"AggregationBaseInit_time\", \"DataIO_time\", \"CGProjection_time\",\n",
    "\"SayeCompile_time\", \"StandardCompile_time\",\"AMR_time\",\"LoadBal_time\",\"NoOfCores\",\"NoOfNodes\",\"SolverInit_time\", \"SolverRun_time\", \"MGDepth\",\"DGdegree:Velocity*\");\n",
    "SubTab.ToCSVFile(dirpath+@\"\\table.csv\");dirpath\n",
    "*/"
   ]
  }
 ],
 "metadata": {
  "kernelspec": {
   "display_name": ".NET (C#)",
   "language": "C#",
   "name": ".net-csharp"
  },
  "language_info": {
   "name": "C#"
  }
 },
 "nbformat": 4,
 "nbformat_minor": 2
}
