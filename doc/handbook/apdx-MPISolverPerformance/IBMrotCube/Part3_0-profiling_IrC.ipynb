{
 "cells": [
  {
   "cell_type": "code",
   "execution_count": null,
   "metadata": {
    "dotnet_interactive": {
     "language": "csharp"
    }
   },
   "outputs": [],
   "source": [
    "//#r \"./../../../../../public/src/L4-application/BoSSSpad/bin/Release/net5.0/BoSSSpad.dll\"\n",
    "#r \"BoSSSpad.dll\"\n",
    "using System;\n",
    "using ilPSP;\n",
    "using ilPSP.Utils;\n",
    "using BoSSS.Platform;\n",
    "using BoSSS.Foundation;\n",
    "using BoSSS.Foundation.XDG;\n",
    "using BoSSS.Foundation.Grid;\n",
    "using BoSSS.Solution;\n",
    "using BoSSS.Application.XNSE_Solver;\n",
    "using System.IO;\n",
    "using BoSSS.Foundation.IO;\n",
    "using ilPSP.Tracing;\n",
    "using BoSSS.Application.BoSSSpad;\n",
    "using BoSSS.Solution.Gnuplot;\n",
    "using BoSSS.Solution.AdvancedSolvers;\n",
    "\n",
    "using static BoSSS.Application.BoSSSpad.BoSSSshell;\n",
    "Init();"
   ]
  },
  {
   "cell_type": "code",
   "execution_count": null,
   "metadata": {
    "dotnet_interactive": {
     "language": "csharp"
    }
   },
   "outputs": [],
   "source": [
    "// Is used at Jenkins to generate individual names (for output .json)\n",
    "string dbname = System.Environment.GetEnvironmentVariable(\"DATABASE_NAME\");\n",
    "string buildname = System.Environment.GetEnvironmentVariable(\"BUILD_DISPLAY_NAME\");\n",
    "string buildNr = System.Environment.GetEnvironmentVariable(\"BUILD_NUMBER\");\n",
    "//defaults\n",
    "buildname = String.IsNullOrEmpty(buildname)? \"run\" : buildname;\n",
    "string thedate = $\"{System.DateTime.Today.Day}-{System.DateTime.Today.Month}-{System.DateTime.Today.Year}\";\n",
    "buildNr = String.IsNullOrEmpty(buildNr)? thedate : buildNr;\n",
    "\n",
    "string database_name = String.IsNullOrEmpty(dbname)? \"DB_Benchmarks\" : dbname;\n",
    "string table_name = String.Concat(buildname, \"_\", buildNr);"
   ]
  },
  {
   "cell_type": "code",
   "execution_count": null,
   "metadata": {
    "dotnet_interactive": {
     "language": "csharp"
    }
   },
   "outputs": [],
   "source": [
    "string basepath = @\"B:\\BoSSS-smuda\\public\\doc\\handbook\\apdx-MPISolverPerformance\\strongScaling\\IBM_RotCube\\\";\n",
    "List<System.Data.DataTable> LoadedTabs = new List<System.Data.DataTable>();\n",
    "/*\n",
    "LoadedTabs.Add(TableExtensions.LoadFromFile(basepath+\"strong_scaling_3_2_2021-9-24.json\"));\n",
    "LoadedTabs.Add(TableExtensions.LoadFromFile(basepath+\"strong_scaling_3_1_2021-9-24.json\"));\n",
    "LoadedTabs.Add(TableExtensions.LoadFromFile(basepath+\"strong_scaling_3_2021-9-24.json\"));\n",
    "*/\n",
    "LoadedTabs.Add(basepath+@\"\\\"+table_name+\".json\");\n",
    "var SesTab = LoadedTabs.Pick(0);\n",
    "LoadedTabs.ForEach(s=>SesTab.Merge(s)); SesTab.Rows.Count()"
   ]
  },
  {
   "cell_type": "code",
   "execution_count": null,
   "metadata": {
    "dotnet_interactive": {
     "language": "csharp"
    }
   },
   "outputs": [],
   "source": [
    "SesTab.GetColumnNames().Where(s=>s.Contains(\"Name\"))"
   ]
  },
  {
   "cell_type": "code",
   "execution_count": null,
   "metadata": {
    "dotnet_interactive": {
     "language": "csharp"
    }
   },
   "outputs": [],
   "source": [
    "string[] ColumnNames = new string[]{\n",
    "\"NoOfCores\",\n",
    "\"TotalRuntime\",\n",
    "\"MatrixAssembly_time\",\n",
    "\"AggregationBaseInit_time\",\n",
    "\"DataIO_time\",\n",
    "\"CGProjection_time\",\n",
    "\"SayeCompile_time\",\n",
    "\"StandardCompile_time\",\n",
    "\"AMR_time\",\n",
    "\"LoadBal_time\",\n",
    "\"SolverInit_time\",\n",
    "\"SolverRun_time\"};"
   ]
  },
  {
   "cell_type": "code",
   "execution_count": null,
   "metadata": {
    "dotnet_interactive": {
     "language": "csharp"
    }
   },
   "outputs": [],
   "source": [
    "int k = 4;"
   ]
  },
  {
   "cell_type": "code",
   "execution_count": null,
   "metadata": {
    "dotnet_interactive": {
     "language": "csharp"
    }
   },
   "outputs": [],
   "source": [
    "var ProfileTab = SesTab.ExtractColumns(ColumnNames);\n",
    "ProfileTab.Clear();\n",
    "foreach(System.Data.DataRow Row in SesTab.Rows){\n",
    "    if(Convert.ToInt32(Row[\"DGdegree:Velocity*\"])!=k) continue;\n",
    "    var newrow = ProfileTab.NewRow();\n",
    "    //double total = Convert.ToDouble(Row[\"TotalRuntime\"]);\n",
    "    foreach(string CName in ColumnNames){\n",
    "        newrow[CName]=Convert.ToDouble(Row[CName]);\n",
    "    }\n",
    "    ProfileTab.Rows.Add(newrow);\n",
    "}"
   ]
  },
  {
   "cell_type": "code",
   "execution_count": null,
   "metadata": {
    "dotnet_interactive": {
     "language": "csharp"
    }
   },
   "outputs": [],
   "source": [
    "string Name_Ncores = \"NoOfCores\";\n",
    "string Name_DGdegree = \"DGdegree:Velocity*\";"
   ]
  },
  {
   "cell_type": "code",
   "execution_count": null,
   "metadata": {
    "dotnet_interactive": {
     "language": "csharp"
    }
   },
   "outputs": [],
   "source": [
    "// Average of Repititions ... pt1: Group Runs\n",
    "var RegistryOfRuns = new Dictionary<string,List<System.Data.DataRow>>();\n",
    "foreach(System.Data.DataRow Row in ProfileTab.Rows){\n",
    "    string test = \"\";\n",
    "    test += \"_c\"+Convert.ToString(Row[Name_Ncores]);\n",
    "    List<System.Data.DataRow> Reps;\n",
    "    if(RegistryOfRuns.TryGetValue(test,out Reps)){\n",
    "        Reps.Add(Row);\n",
    "    } else {\n",
    "        Reps = new List<System.Data.DataRow>();\n",
    "        Reps.Add(Row);\n",
    "        RegistryOfRuns.Add(test,Reps);\n",
    "    }\n",
    "} RegistryOfRuns.OrderBy(s=>s.Key[0]).OrderBy(s=>s.Key[1]).Select(s=>new object[]{s.Key,s.Value.Count()})"
   ]
  },
  {
   "cell_type": "code",
   "execution_count": null,
   "metadata": {
    "dotnet_interactive": {
     "language": "csharp"
    }
   },
   "outputs": [],
   "source": [
    "RegistryOfRuns[\"_c8\"][0][1]"
   ]
  },
  {
   "cell_type": "code",
   "execution_count": null,
   "metadata": {
    "dotnet_interactive": {
     "language": "csharp"
    }
   },
   "outputs": [],
   "source": [
    "// Average of Repititions ... pt2: Compute Average\n",
    "var tmp = ProfileTab.Clone();\n",
    "tmp.Clear();\n",
    "foreach(var kvp in RegistryOfRuns){\n",
    "    var newrow = tmp.NewRow();\n",
    "    var sample = kvp.Value.First();\n",
    "    newrow[Name_Ncores]=Convert.ToInt32(sample[Name_Ncores]);\n",
    "    foreach(System.Data.DataColumn col in tmp.Columns){\n",
    "        if(col.ColumnName==Name_Ncores) continue;\n",
    "        double value=0.0;\n",
    "        foreach(System.Data.DataRow row in kvp.Value){\n",
    "            try{\n",
    "                value+=Convert.ToDouble(row[col.ColumnName]);\n",
    "            } catch (Exception ex){\n",
    "                Console.WriteLine(\"err at \"+col.ColumnName);\n",
    "            }\n",
    "        }\n",
    "        newrow[col]=value / kvp.Value.Count();\n",
    "    }\n",
    "    tmp.Rows.Add(newrow);\n",
    "}\n",
    "ProfileTab = tmp;\n",
    "ProfileTab.Print()"
   ]
  },
  {
   "cell_type": "code",
   "execution_count": null,
   "metadata": {
    "dotnet_interactive": {
     "language": "csharp"
    }
   },
   "outputs": [],
   "source": []
  },
  {
   "cell_type": "code",
   "execution_count": null,
   "metadata": {
    "dotnet_interactive": {
     "language": "csharp"
    }
   },
   "outputs": [],
   "source": [
    "//ProfileTab.Columns[\"NoOfCores\"].SetOrdinal(0);\n",
    "System.Data.DataView view = new System.Data.DataView(ProfileTab);\n",
    "view.Sort = \"NoOfCores\";\n",
    "ProfileTab=view.ToTable();\n",
    "ProfileTab.Print()"
   ]
  },
  {
   "cell_type": "code",
   "execution_count": null,
   "metadata": {
    "dotnet_interactive": {
     "language": "csharp"
    }
   },
   "outputs": [],
   "source": [
    "/*\n",
    "System.Data.DataTable dtNew = new System.Data.DataTable();\n",
    "var dt=ProfileTab;\n",
    "dtNew.Columns.Add(\"times\",typeof(String));\n",
    "//adding columns    \n",
    "for(int i=0; i<dt.Rows.Count; i++)\n",
    "{\n",
    "    dtNew.Columns.Add(Convert.ToString(dt.Rows[i][\"NoOfCores\"]));\n",
    "}\n",
    "//Changing Column Captions: \n",
    "\n",
    "\n",
    "//Adding Row Data\n",
    "for(int k=1; k<dt.Columns.Count; k++)\n",
    "{\n",
    "    System.Data.DataRow r = dtNew.NewRow();\n",
    "    r[0] = dt.Columns[k].ToString(); \n",
    "    for(int j=1; j<=dt.Rows.Count; j++)\n",
    "    r[j] = dt.Rows[j-1][k];  \n",
    "    dtNew.Rows.Add(r);\n",
    "}\n",
    "dtNew.Print()\n",
    "*/"
   ]
  },
  {
   "cell_type": "code",
   "execution_count": null,
   "metadata": {
    "dotnet_interactive": {
     "language": "csharp"
    }
   },
   "outputs": [],
   "source": [
    "string dirpath = Directory.GetCurrentDirectory();\n",
    "ProfileTab.ToCSVFile(dirpath+@\"\\profile_k\"+k+\".dat\"); dirpath"
   ]
  },
  {
   "cell_type": "code",
   "execution_count": null,
   "metadata": {
    "dotnet_interactive": {
     "language": "csharp"
    }
   },
   "outputs": [],
   "source": []
  }
 ],
 "metadata": {
  "kernelspec": {
   "display_name": ".NET (C#)",
   "language": "C#",
   "name": ".net-csharp"
  },
  "language_info": {
   "name": "C#"
  }
 },
 "nbformat": 4,
 "nbformat_minor": 2
}
