{
 "cells": [
  {
   "cell_type": "markdown",
   "metadata": {},
   "source": [
    "# Simple channel flow using the Incompressible Solver\n",
    "\n",
    "## What's new\n",
    "\n",
    " - running a simulation with the incompressible Navier-Stokes solver\n",
    " - how to use the immersed boundary method\n",
    " - post-processing, i.e. plotting and checking physical values\n"
   ]
  },
  {
   "cell_type": "markdown",
   "metadata": {},
   "source": [
    "\n",
    "\n",
    "## Prerequisites\n",
    "\n",
    "\n",
    "- the **BoSSS** framework\n",
    "- a visualization tool, e.g Paraview or VisIt\n",
    "- the knowledge of how to setup a database for **BoSSS**\n",
    "\n",
    "\n",
    " This tutorial will explain the basic features of the incompressible \n",
    " Navier-Stokes solver in the **BoSSS** framework. \n",
    "\n",
    " First, the simple testcase of a 2D channel flow will be explained. After \n",
    " that, there will be a short part about the immersed boundary feature of our incompressible flow solver. \n",
    "\n",
    " Therefore the flow around a cylinder will be investigated using the immersed boundary method.\n",
    "\n",
    " Note that **BoSSS**, at the present time contains no stand-alone single-phase \n",
    " solver that is fully recomended - although there are some legacy solvers, e.g. SIMPLE.\n",
    " Instead, the two-phase-solver with immersed boundary is used, where the two-phase option ist deactivated.\n"
   ]
  },
  {
   "cell_type": "markdown",
   "metadata": {},
   "source": []
  },
  {
   "cell_type": "markdown",
   "metadata": {},
   "source": [
    "\n",
    "## Problem statement\n",
    "\n",
    "The flow is described by the unsteady Navier-Stokes equations in the fluid region\n",
    "\n",
    ">$$ \\rho_f\\left(\\frac{\\partial \\vec{u}}{\\partial t}+ \\vec{u} \\cdot \\nabla \\vec{u}\\right) +\\nabla p - \\mu_f \\Delta \\vec{u} = \\vec{f}  $$\n",
    "\n",
    " and the continuity equation\n",
    ">$$ \\nabla \\cdot \\vec{u} = 0 \\quad \\forall\\ t \\in (0,T)\\quad \\textrm{in}\\ \\Omega $$\n",
    "\n",
    " In the equations above \n",
    " - $\\vec{u}$ is the velocity vector \n",
    " - $p$ the pressure. \n",
    " - The fluid density is denoted by $\\rho_f$\n",
    " - $\\mu_f=\\rho_f \\cdot \\nu_f$ is the dynamic viscosity of the fluid.\n"
   ]
  },
  {
   "cell_type": "markdown",
   "metadata": {},
   "source": [
    "\n",
    "## Channel\n",
    "\n",
    "First, we initialize the new worksheet;\n",
    "Note: \n",
    "1. This tutorial can be found in the source code repository as as `channel.ipynb`. \n",
    "   One can directly load this into Jupyter to interactively work with the following code examples.\n",
    "2. **In the following line, the reference to `BoSSSpad.dll` is required**. \n",
    "   You must either set `#r \"BoSSSpad.dll\"` to something which is appropirate for your computer\n",
    "   (e.g. `C:\\Program Files (x86)\\FDY\\BoSSS\\bin\\Release\\net5.0\\BoSSSpad.dll` if you installed the binary distribution),\n",
    "   or, if you are working with the source code, you must compile `BoSSSpad` and put it side-by-side to this worksheet file\n",
    "   (from the original location in the repository, you can use the scripts `getbossspad.sh`, resp. `getbossspad.bat`)."
   ]
  },
  {
   "cell_type": "code",
   "execution_count": 1,
   "metadata": {
    "dotnet_interactive": {
     "language": "csharp"
    }
   },
   "outputs": [
    {
     "data": {
      "text/html": [
       "\r\n",
       "<div>\r\n",
       "    <div id='dotnet-interactive-this-cell-31768.Microsoft.DotNet.Interactive.Http.HttpPort' style='display: none'>\r\n",
       "        The below script needs to be able to find the current output cell; this is an easy method to get it.\r\n",
       "    </div>\r\n",
       "    <script type='text/javascript'>\r\n",
       "async function probeAddresses(probingAddresses) {\r\n",
       "    function timeout(ms, promise) {\r\n",
       "        return new Promise(function (resolve, reject) {\r\n",
       "            setTimeout(function () {\r\n",
       "                reject(new Error('timeout'))\r\n",
       "            }, ms)\r\n",
       "            promise.then(resolve, reject)\r\n",
       "        })\r\n",
       "    }\r\n",
       "\r\n",
       "    if (Array.isArray(probingAddresses)) {\r\n",
       "        for (let i = 0; i < probingAddresses.length; i++) {\r\n",
       "\r\n",
       "            let rootUrl = probingAddresses[i];\r\n",
       "\r\n",
       "            if (!rootUrl.endsWith('/')) {\r\n",
       "                rootUrl = `${rootUrl}/`;\r\n",
       "            }\r\n",
       "\r\n",
       "            try {\r\n",
       "                let response = await timeout(1000, fetch(`${rootUrl}discovery`, {\r\n",
       "                    method: 'POST',\r\n",
       "                    cache: 'no-cache',\r\n",
       "                    mode: 'cors',\r\n",
       "                    timeout: 1000,\r\n",
       "                    headers: {\r\n",
       "                        'Content-Type': 'text/plain'\r\n",
       "                    },\r\n",
       "                    body: probingAddresses[i]\r\n",
       "                }));\r\n",
       "\r\n",
       "                if (response.status == 200) {\r\n",
       "                    return rootUrl;\r\n",
       "                }\r\n",
       "            }\r\n",
       "            catch (e) { }\r\n",
       "        }\r\n",
       "    }\r\n",
       "}\r\n",
       "\r\n",
       "function loadDotnetInteractiveApi() {\r\n",
       "    probeAddresses([\"http://192.168.56.1:1000/\", \"http://130.83.248.221:1000/\", \"http://169.254.113.120:1000/\", \"http://172.16.34.90:1000/\", \"http://192.168.174.1:1000/\", \"http://127.0.0.1:1000/\"])\r\n",
       "        .then((root) => {\r\n",
       "        // use probing to find host url and api resources\r\n",
       "        // load interactive helpers and language services\r\n",
       "        let dotnetInteractiveRequire = require.config({\r\n",
       "        context: '31768.Microsoft.DotNet.Interactive.Http.HttpPort',\r\n",
       "                paths:\r\n",
       "            {\r\n",
       "                'dotnet-interactive': `${root}resources`\r\n",
       "                }\r\n",
       "        }) || require;\r\n",
       "\r\n",
       "            window.dotnetInteractiveRequire = dotnetInteractiveRequire;\r\n",
       "\r\n",
       "            window.configureRequireFromExtension = function(extensionName, extensionCacheBuster) {\r\n",
       "                let paths = {};\r\n",
       "                paths[extensionName] = `${root}extensions/${extensionName}/resources/`;\r\n",
       "                \r\n",
       "                let internalRequire = require.config({\r\n",
       "                    context: extensionCacheBuster,\r\n",
       "                    paths: paths,\r\n",
       "                    urlArgs: `cacheBuster=${extensionCacheBuster}`\r\n",
       "                    }) || require;\r\n",
       "\r\n",
       "                return internalRequire\r\n",
       "            };\r\n",
       "        \r\n",
       "            dotnetInteractiveRequire([\r\n",
       "                    'dotnet-interactive/dotnet-interactive'\r\n",
       "                ],\r\n",
       "                function (dotnet) {\r\n",
       "                    dotnet.init(window);\r\n",
       "                },\r\n",
       "                function (error) {\r\n",
       "                    console.log(error);\r\n",
       "                }\r\n",
       "            );\r\n",
       "        })\r\n",
       "        .catch(error => {console.log(error);});\r\n",
       "    }\r\n",
       "\r\n",
       "// ensure `require` is available globally\r\n",
       "if ((typeof(require) !==  typeof(Function)) || (typeof(require.config) !== typeof(Function))) {\r\n",
       "    let require_script = document.createElement('script');\r\n",
       "    require_script.setAttribute('src', 'https://cdnjs.cloudflare.com/ajax/libs/require.js/2.3.6/require.min.js');\r\n",
       "    require_script.setAttribute('type', 'text/javascript');\r\n",
       "    \r\n",
       "    \r\n",
       "    require_script.onload = function() {\r\n",
       "        loadDotnetInteractiveApi();\r\n",
       "    };\r\n",
       "\r\n",
       "    document.getElementsByTagName('head')[0].appendChild(require_script);\r\n",
       "}\r\n",
       "else {\r\n",
       "    loadDotnetInteractiveApi();\r\n",
       "}\r\n",
       "\r\n",
       "    </script>\r\n",
       "</div>"
      ]
     },
     "metadata": {},
     "output_type": "display_data"
    }
   ],
   "source": [
    "#r \"BoSSSpad.dll\"\n",
    "using System;\n",
    "using System.Collections.Generic;\n",
    "using System.Linq;\n",
    "using System.Diagnostics;\n",
    "using ilPSP;\n",
    "using ilPSP.Utils;\n",
    "using BoSSS.Platform;\n",
    "using BoSSS.Platform.LinAlg;\n",
    "using BoSSS.Foundation;\n",
    "using BoSSS.Foundation.XDG;\n",
    "using BoSSS.Foundation.Grid;\n",
    "using BoSSS.Foundation.Grid.Classic;\n",
    "using BoSSS.Foundation.Grid.RefElements;\n",
    "using BoSSS.Foundation.IO;\n",
    "using BoSSS.Solution;\n",
    "using BoSSS.Solution.Control;\n",
    "using BoSSS.Solution.GridImport;\n",
    "using BoSSS.Solution.Statistic;\n",
    "using BoSSS.Solution.Utils;\n",
    "using BoSSS.Solution.AdvancedSolvers;\n",
    "using BoSSS.Solution.Gnuplot;\n",
    "using BoSSS.Application.BoSSSpad;\n",
    "using BoSSS.Application.XNSE_Solver;\n",
    "using static BoSSS.Application.BoSSSpad.BoSSSshell;\n",
    "Init();\n"
   ]
  },
  {
   "cell_type": "markdown",
   "metadata": {},
   "source": [
    "Now, a new database has to be created.\n",
    "In this worksheet, we use a temporary database which will be deleted\n",
    "after the worksheet has been executed.\n",
    "For your calculation, you might consider some non-temporary alternative,\n",
    ">cf. *OpenOrCreateDatabase* or *OpenOrCreateDefaultDatabase*:"
   ]
  },
  {
   "cell_type": "code",
   "execution_count": 2,
   "metadata": {
    "dotnet_interactive": {
     "language": "csharp"
    }
   },
   "outputs": [
    {
     "name": "stdout",
     "output_type": "stream",
     "text": [
      "Creating database 'C:\\Users\\flori\\AppData\\Local\\Temp\\1950674969'.\r\n"
     ]
    }
   ],
   "source": [
    "\n",
    "var myDb = CreateTempDatabase();"
   ]
  },
  {
   "cell_type": "markdown",
   "metadata": {},
   "source": [
    "Create a new control object for setting up the simulation:"
   ]
  },
  {
   "cell_type": "code",
   "execution_count": 3,
   "metadata": {
    "dotnet_interactive": {
     "language": "csharp"
    }
   },
   "outputs": [],
   "source": [
    "var c = new XNSE_Control();"
   ]
  },
  {
   "cell_type": "markdown",
   "metadata": {},
   "source": [
    "### How to define/change input data"
   ]
  },
  {
   "cell_type": "markdown",
   "metadata": {},
   "source": [
    "First, the DG polynomial degree is set:\n",
    "(degree 2 for velocity and 1 for pressure)."
   ]
  },
  {
   "cell_type": "code",
   "execution_count": 4,
   "metadata": {
    "dotnet_interactive": {
     "language": "csharp"
    }
   },
   "outputs": [],
   "source": [
    "c.SetDGdegree(2);"
   ]
  },
  {
   "cell_type": "markdown",
   "metadata": {},
   "source": [
    "Domain and Grid variables are set (i.e. we get a channel with length 22 and height 4.1)"
   ]
  },
  {
   "cell_type": "code",
   "execution_count": 5,
   "metadata": {
    "dotnet_interactive": {
     "language": "csharp"
    }
   },
   "outputs": [],
   "source": [
    "double xMin        = -2; \n",
    "double xMax        = 20;\n",
    "double yMin        = -2; \n",
    "double yMax        = 2.1;\n",
    "int numberOfCellsX = 44; \n",
    "int numberOfCellsY = 8;"
   ]
  },
  {
   "cell_type": "markdown",
   "metadata": {},
   "source": [
    "Basic database options "
   ]
  },
  {
   "cell_type": "code",
   "execution_count": 6,
   "metadata": {
    "dotnet_interactive": {
     "language": "csharp"
    }
   },
   "outputs": [],
   "source": [
    "c.SetDatabase(myDb);\n",
    "c.savetodb   = true;\n",
    "c.saveperiod = 1;"
   ]
  },
  {
   "cell_type": "markdown",
   "metadata": {},
   "source": [
    "Setting some variables for database saving. Here it is also possible to define tags which can be helpful for finding a particular simulation in the **BoSSS** database"
   ]
  },
  {
   "cell_type": "code",
   "execution_count": 7,
   "metadata": {
    "dotnet_interactive": {
     "language": "csharp"
    }
   },
   "outputs": [],
   "source": [
    "string sessionName   = \"dt = 1E20_\" + numberOfCellsX + \"x\" + numberOfCellsY + \"_k2\";\n",
    "c.SessionName        = sessionName;\n",
    "c.ProjectDescription = \"Incompressible Solver Examples\";\n",
    "c.Tags.Add(\"numberOfCellsX_\" + numberOfCellsX);\n",
    "c.Tags.Add(\"numberOfCellsY_\" + numberOfCellsY);\n",
    "c.Tags.Add(\"k2\");"
   ]
  },
  {
   "cell_type": "markdown",
   "metadata": {},
   "source": [
    "The grid is generated using the previously defined parameters."
   ]
  },
  {
   "cell_type": "code",
   "execution_count": 8,
   "metadata": {
    "dotnet_interactive": {
     "language": "csharp"
    }
   },
   "outputs": [],
   "source": [
    "c.GridFunc       = null; \n",
    "var xNodes       = GenericBlas.Linspace(xMin, xMax , numberOfCellsX);\n",
    "var yNodes       = GenericBlas.Linspace(yMin, yMax, numberOfCellsY);\n",
    "GridCommons grid = Grid2D.Cartesian2DGrid(xNodes, yNodes, CellType.Square_Linear, false);"
   ]
  },
  {
   "cell_type": "markdown",
   "metadata": {},
   "source": [
    "Set the geometric location of boundary conditions by edge tags; Later we will assign values depending on these tags.\n",
    "\n",
    "Edges that get assigned \"0\" are \"inner edges\"."
   ]
  },
  {
   "cell_type": "code",
   "execution_count": 9,
   "metadata": {
    "dotnet_interactive": {
     "language": "csharp"
    }
   },
   "outputs": [
    {
     "name": "stdout",
     "output_type": "stream",
     "text": [
      "Grid Edge Tags changed.\r\n"
     ]
    }
   ],
   "source": [
    "grid.DefineEdgeTags(delegate (double[] X) {\n",
    "    if (Math.Abs(X[1] - (-2)) <= 1.0e-8)\n",
    "        return \"wall\"; // wall at y = -2\n",
    "    if (Math.Abs(X[1] - (+2.1 )) <= 1.0e-8)\n",
    "        return \"wall\"; // wall at y = +2.1\n",
    "    if (Math.Abs(X[0] - (-2)) <= 1.0e-8)\n",
    "        return \"Velocity_Inlet\"; // velocity inlet at x = -2\n",
    "    if (Math.Abs(X[0] - (+20.0)) <= 1.0e-8)\n",
    "        return \"Pressure_Outlet\"; // pressure outlet at x = +20\n",
    "    throw new ArgumentException(\"unexpected domain boundary\"); \n",
    "});"
   ]
  },
  {
   "cell_type": "markdown",
   "metadata": {},
   "source": [
    "Save the grid in the database so that the simulation can use it"
   ]
  },
  {
   "cell_type": "code",
   "execution_count": 10,
   "metadata": {
    "dotnet_interactive": {
     "language": "csharp"
    }
   },
   "outputs": [
    {
     "data": {
      "text/html": [
       "<table><thead><tr><th>EdgeTagNames</th><th>PredefinedGridPartitioning</th><th>Description</th><th>StorageGuid</th><th>BcCellsStorageGuid</th><th>PeriodicTrafo</th><th>InversePeriodicTrafo</th><th>NoOfUpdateCells</th><th>NoOfBcCells</th><th>NumberOfCells_l</th><th>NumberOfBcCells</th><th>RefElements</th><th>EdgeRefElements</th><th>SpatialDimension</th><th>CellPartitioning</th><th>BcCellPartitioning</th><th>MyRank</th><th>Size</th><th>NodePartitioning</th><th>iGridData</th><th>..</th></tr></thead><tbody><tr><td><div class=\"dni-plaintext\">[ [0, inner edge], [1, Velocity_Inlet], [2, wall], [3, Pressure_Outlet] ]</div></td><td><div class=\"dni-plaintext\">[  ]</div></td><td><div class=\"dni-plaintext\">&lt;null&gt;</div></td><td><div class=\"dni-plaintext\">00000000-0000-0000-0000-000000000000</div></td><td><div class=\"dni-plaintext\">00000000-0000-0000-0000-000000000000</div></td><td><div class=\"dni-plaintext\">[  ]</div></td><td><div class=\"dni-plaintext\">[  ]</div></td><td><div class=\"dni-plaintext\">301</div></td><td><div class=\"dni-plaintext\">0</div></td><td><div class=\"dni-plaintext\">301</div></td><td><div class=\"dni-plaintext\">0</div></td><td><div class=\"dni-plaintext\">[ BoSSS.Foundation.Grid.RefElements.Square ]</div></td><td><div class=\"dni-plaintext\">[ BoSSS.Foundation.Grid.RefElements.Line ]</div></td><td><div class=\"dni-plaintext\">2</div></td><td><div class=\"dni-plaintext\">ilPSP.Partitioning</div></td><td><div class=\"dni-plaintext\">ilPSP.Partitioning</div></td><td><div class=\"dni-plaintext\">0</div></td><td><div class=\"dni-plaintext\">1</div></td><td><div class=\"dni-plaintext\">ilPSP.Partitioning</div></td><td><div class=\"dni-plaintext\">BoSSS.Foundation.Grid.Classic.GridData</div></td></tr></tbody></table>"
      ]
     },
     "execution_count": 10,
     "metadata": {},
     "output_type": "execute_result"
    }
   ],
   "source": [
    "grid"
   ]
  },
  {
   "cell_type": "code",
   "execution_count": 11,
   "metadata": {
    "dotnet_interactive": {
     "language": "csharp"
    }
   },
   "outputs": [],
   "source": [
    "myDb.SaveGrid(ref grid);\n",
    "c.SetGrid(grid);"
   ]
  },
  {
   "cell_type": "markdown",
   "metadata": {},
   "source": [
    "Specification of boundary conditions with a parabolic velocity profile for the inlet"
   ]
  },
  {
   "cell_type": "code",
   "execution_count": 12,
   "metadata": {
    "dotnet_interactive": {
     "language": "csharp"
    }
   },
   "outputs": [],
   "source": [
    "c.BoundaryValues.Clear();\n",
    "c.AddBoundaryValue(\"Velocity_Inlet\", \"VelocityX\", \n",
    "      (X => (4.1 * 1.5 * (X[1] + 2) * (4.1 - (X[1] + 2)) / (4.1 * 4.1))));"
   ]
  },
  {
   "cell_type": "markdown",
   "metadata": {},
   "source": [
    "*Fluid Properties*\n",
    "\n",
    "Note: The characteristic length and fluid density are choosen to one. \n",
    "Therefore, the viscosity can be defined by $\\frac{1}{reynolds}$."
   ]
  },
  {
   "cell_type": "code",
   "execution_count": 13,
   "metadata": {
    "dotnet_interactive": {
     "language": "csharp"
    }
   },
   "outputs": [],
   "source": [
    "\n",
    "double reynolds            = 20;\n",
    "c.PhysicalParameters.rho_A = 1;\n",
    "c.PhysicalParameters.mu_A  = 1.0/reynolds;"
   ]
  },
  {
   "cell_type": "markdown",
   "metadata": {},
   "source": [
    "Bool parameter whether the Navier-Stokes or Stokes equations\n",
    "should be solved"
   ]
  },
  {
   "cell_type": "code",
   "execution_count": 14,
   "metadata": {
    "dotnet_interactive": {
     "language": "csharp"
    }
   },
   "outputs": [],
   "source": [
    "c.PhysicalParameters.IncludeConvection = true;"
   ]
  },
  {
   "cell_type": "markdown",
   "metadata": {},
   "source": [
    "Initial Values are set to 0; Note that the following lines are only for \n",
    "demonstration -- if no initial value is specified, 0 is set automatically."
   ]
  },
  {
   "cell_type": "code",
   "execution_count": 15,
   "metadata": {
    "dotnet_interactive": {
     "language": "csharp"
    }
   },
   "outputs": [],
   "source": [
    "c.InitialValues.Clear();\n",
    "c.InitialValues.Add(\"VelocityX\", new Formula(\"X => 0.0\", false));\n",
    "c.InitialValues.Add(\"VelocityY\", new Formula(\"X => 0.0\", false));\n",
    "c.InitialValues.Add(\"Pressure\", new Formula(\"X => 0.0\", false));"
   ]
  },
  {
   "cell_type": "markdown",
   "metadata": {},
   "source": [
    "Timestepping properties:\n",
    "Most solvers in **BoSSS** simulate transient equations. Configuring\n",
    "a steady simulation confiures one very large timestep."
   ]
  },
  {
   "cell_type": "code",
   "execution_count": 16,
   "metadata": {
    "dotnet_interactive": {
     "language": "csharp"
    }
   },
   "outputs": [],
   "source": [
    "c.TimesteppingMode = AppControl._TimesteppingMode.Steady;"
   ]
  },
  {
   "cell_type": "markdown",
   "metadata": {},
   "source": [
    "## Run a simulation\n",
    "\n",
    "The solver can be run inline (i.e. within the *BoSSSpad* process) by \n",
    "executing the `Run` method on the control objece `c`.\n",
    "An inline run will block *BoSSSpad* until the solver exits."
   ]
  },
  {
   "cell_type": "code",
   "execution_count": null,
   "metadata": {
    "dotnet_interactive": {
     "language": "csharp"
    }
   },
   "outputs": [
    {
     "name": "stdout",
     "output_type": "stream",
     "text": [
      "Session ID: 16ab08ae-014b-4145-ada8-012af6788134, DB path: 'C:\\Users\\flori\\AppData\\Local\\Temp\\1950674969'.\n",
      "Level-Set field Phi is **exactly** zero: setting entire field to -1.\n",
      "Starting time step 1, dt = 1.7976931348623158E+304 ...\n",
      " #Line, #Time, #Iter  #Spc\tL2Norm MomentumX    L2Norm MomentumY    L2Norm ContiEq      L2Norm Total        \n",
      "     1,     1,     1     A\t1.000837E+004       0.000000E+000       6.317042E+000       1.000837E+004       \n",
      "                         B\t0.000000E+000       0.000000E+000       0.000000E+000       0.000000E+000       \n",
      "     2,     1,     2     A\t6.372073E+000       1.261499E-003       1.766295E-013       6.372073E+000       \n",
      "                         B\t0.000000E+000       0.000000E+000       0.000000E+000       0.000000E+000       \n"
     ]
    },
    {
     "name": "stderr",
     "output_type": "stream",
     "text": [
      "High residual from direct solver (using ilPSP.LinSolvers.MUMPS.MUMPSSolver).\r\n",
      "    L2 Norm of RHS:         0.04480812310423826\r\n",
      "    L2 Norm of Solution:    0.07010957002391517\r\n",
      "    L2 Norm of Residual:    0.00012363493088295293\r\n",
      "    Relative Residual norm: 2.689853796382119E-05\r\n",
      "    Matrix Inf norm:        4.596343899777868\r\n",
      "\r\n"
     ]
    },
    {
     "name": "stdout",
     "output_type": "stream",
     "text": [
      "     3,     1,     3     A\t8.291668E-003       1.465587E-003       8.146234E-007       8.420196E-003       \n",
      "                         B\t0.000000E+000       0.000000E+000       0.000000E+000       0.000000E+000       \n"
     ]
    },
    {
     "name": "stderr",
     "output_type": "stream",
     "text": [
      "High residual from direct solver (using ilPSP.LinSolvers.MUMPS.MUMPSSolver).\r\n",
      "    L2 Norm of RHS:         0.00021972129706530322\r\n",
      "    L2 Norm of Solution:    0.0726408486092661\r\n",
      "    L2 Norm of Residual:    4.475747573231172E-05\r\n",
      "    Relative Residual norm: 9.737625536739794E-06\r\n",
      "    Matrix Inf norm:        4.596343899592666\r\n",
      "\r\n"
     ]
    },
    {
     "name": "stdout",
     "output_type": "stream",
     "text": [
      "     4,     1,     4     A\t1.783493E-003       8.823600E-004       4.422456E-007       1.989826E-003       \n",
      "                         B\t0.000000E+000       0.000000E+000       0.000000E+000       0.000000E+000       \n"
     ]
    },
    {
     "name": "stderr",
     "output_type": "stream",
     "text": [
      "High residual from direct solver (using ilPSP.LinSolvers.MUMPS.MUMPSSolver).\r\n",
      "    L2 Norm of RHS:         4.522728371866013E-05\r\n",
      "    L2 Norm of Solution:    0.11292618631860783\r\n",
      "    L2 Norm of Residual:    5.975250637190093E-05\r\n",
      "    Relative Residual norm: 1.3000007761526069E-05\r\n",
      "    Matrix Inf norm:        4.596343899789072\r\n",
      "\r\n"
     ]
    },
    {
     "name": "stdout",
     "output_type": "stream",
     "text": [
      "     5,     1,     5     A\t2.723255E-003       1.094651E-003       5.930994E-007       2.935027E-003       \n",
      "                         B\t0.000000E+000       0.000000E+000       0.000000E+000       0.000000E+000       \n"
     ]
    },
    {
     "name": "stderr",
     "output_type": "stream",
     "text": [
      "High residual from direct solver (using ilPSP.LinSolvers.MUMPS.MUMPSSolver).\r\n",
      "    L2 Norm of RHS:         6.032432232302883E-05\r\n",
      "    L2 Norm of Solution:    0.17573505633532988\r\n",
      "    L2 Norm of Residual:    9.962602757121298E-05\r\n",
      "    Relative Residual norm: 2.167505951787155E-05\r\n",
      "    Matrix Inf norm:        4.596343898805408\r\n",
      "\r\n"
     ]
    },
    {
     "name": "stdout",
     "output_type": "stream",
     "text": [
      "     6,     1,     6     A\t4.299320E-003       1.827848E-003       1.017016E-006       4.671743E-003       \n",
      "                         B\t0.000000E+000       0.000000E+000       0.000000E+000       0.000000E+000       \n"
     ]
    },
    {
     "name": "stderr",
     "output_type": "stream",
     "text": [
      "High residual from direct solver (using ilPSP.LinSolvers.MUMPS.MUMPSSolver).\r\n",
      "    L2 Norm of RHS:         0.00010059847325323916\r\n",
      "    L2 Norm of Solution:    0.314218916567786\r\n",
      "    L2 Norm of Residual:    0.00016797686934043912\r\n",
      "    Relative Residual norm: 3.6545757471603666E-05\r\n",
      "    Matrix Inf norm:        4.596343897672895\r\n",
      "\r\n"
     ]
    },
    {
     "name": "stdout",
     "output_type": "stream",
     "text": [
      "     7,     1,     7     A\t7.605545E-003       2.999190E-003       1.712630E-006       8.175540E-003       \n",
      "                         B\t0.000000E+000       0.000000E+000       0.000000E+000       0.000000E+000       \n"
     ]
    },
    {
     "name": "stderr",
     "output_type": "stream",
     "text": [
      "High residual from direct solver (using ilPSP.LinSolvers.MUMPS.MUMPSSolver).\r\n",
      "    L2 Norm of RHS:         0.00016960062272582683\r\n",
      "    L2 Norm of Solution:    0.5457902078558091\r\n",
      "    L2 Norm of Residual:    0.0003032460262934921\r\n",
      "    Relative Residual norm: 6.597548652206019E-05\r\n",
      "    Matrix Inf norm:        4.596343919223632\r\n",
      "\r\n"
     ]
    },
    {
     "name": "stdout",
     "output_type": "stream",
     "text": [
      "     8,     1,     8     A\t1.331450E-002       5.454192E-003       3.121708E-006       1.438833E-002       \n",
      "                         B\t0.000000E+000       0.000000E+000       0.000000E+000       0.000000E+000       \n"
     ]
    },
    {
     "name": "stderr",
     "output_type": "stream",
     "text": [
      "High residual from direct solver (using ilPSP.LinSolvers.MUMPS.MUMPSSolver).\r\n",
      "    L2 Norm of RHS:         0.0003061250088189074\r\n",
      "    L2 Norm of Solution:    1.015428444399888\r\n",
      "    L2 Norm of Residual:    0.0005462340199375005\r\n",
      "    Relative Residual norm: 0.00011884097992873895\r\n",
      "    Matrix Inf norm:        4.596343956983868\r\n",
      "\r\n"
     ]
    },
    {
     "name": "stdout",
     "output_type": "stream",
     "text": [
      "     9,     1,     9     A\t2.461237E-002       9.679659E-003       5.618898E-006       2.644739E-002       \n",
      "                         B\t0.000000E+000       0.000000E+000       0.000000E+000       0.000000E+000       \n"
     ]
    },
    {
     "name": "stderr",
     "output_type": "stream",
     "text": [
      "High residual from direct solver (using ilPSP.LinSolvers.MUMPS.MUMPSSolver).\r\n",
      "    L2 Norm of RHS:         0.000551568655809364\r\n",
      "    L2 Norm of Solution:    1.8497889332296733\r\n",
      "    L2 Norm of Residual:    0.0010193966105855267\r\n",
      "    Relative Residual norm: 0.00022178423233136057\r\n",
      "    Matrix Inf norm:        4.59634393243285\r\n",
      "\r\n"
     ]
    },
    {
     "name": "stdout",
     "output_type": "stream",
     "text": [
      "    10,     1,    10     A\t4.507047E-002       1.816962E-002       1.053724E-005       4.859508E-002       \n",
      "                         B\t0.000000E+000       0.000000E+000       0.000000E+000       0.000000E+000       \n"
     ]
    },
    {
     "name": "stderr",
     "output_type": "stream",
     "text": [
      "High residual from direct solver (using ilPSP.LinSolvers.MUMPS.MUMPSSolver).\r\n",
      "    L2 Norm of RHS:         0.0010301404524792064\r\n",
      "    L2 Norm of Solution:    3.5171764119515747\r\n",
      "    L2 Norm of Residual:    0.0018983668692588965\r\n",
      "    Relative Residual norm: 0.0004130167556071049\r\n",
      "    Matrix Inf norm:        4.596343473931061\r\n",
      "\r\n"
     ]
    },
    {
     "name": "stdout",
     "output_type": "stream",
     "text": [
      "    11,     1,    11     A\t8.537873E-002       3.348888E-002       1.963020E-005       9.171168E-002       \n",
      "                         B\t0.000000E+000       0.000000E+000       0.000000E+000       0.000000E+000       \n"
     ]
    },
    {
     "name": "stderr",
     "output_type": "stream",
     "text": [
      "High residual from direct solver (using ilPSP.LinSolvers.MUMPS.MUMPSSolver).\r\n",
      "    L2 Norm of RHS:         0.001918608822470054\r\n",
      "    L2 Norm of Solution:    6.581107591168557\r\n",
      "    L2 Norm of Residual:    0.0036114404442605615\r\n",
      "    Relative Residual norm: 0.0005487587604717013\r\n",
      "    Matrix Inf norm:        4.596344397892878\r\n",
      "\r\n"
     ]
    },
    {
     "name": "stdout",
     "output_type": "stream",
     "text": [
      "    12,     1,    12     A\t1.603244E-001       6.395063E-002       3.738776E-005       1.726082E-001       \n",
      "                         B\t0.000000E+000       0.000000E+000       0.000000E+000       0.000000E+000       \n"
     ]
    },
    {
     "name": "stderr",
     "output_type": "stream",
     "text": [
      "High residual from direct solver (using ilPSP.LinSolvers.MUMPS.MUMPSSolver).\r\n",
      "    L2 Norm of RHS:         0.003643870410579873\r\n",
      "    L2 Norm of Solution:    12.667065969178719\r\n",
      "    L2 Norm of Residual:    0.006834595207713852\r\n",
      "    Relative Residual norm: 0.0005395562969628222\r\n",
      "    Matrix Inf norm:        4.596346820171495\r\n",
      "\r\n"
     ]
    },
    {
     "name": "stdout",
     "output_type": "stream",
     "text": [
      "    13,     1,    13     A\t3.071742E-001       1.200672E-001       7.076177E-005       3.298062E-001       \n",
      "                         B\t0.000000E+000       0.000000E+000       0.000000E+000       0.000000E+000       \n"
     ]
    },
    {
     "name": "stderr",
     "output_type": "stream",
     "text": [
      "High residual from direct solver (using ilPSP.LinSolvers.MUMPS.MUMPSSolver).\r\n",
      "    L2 Norm of RHS:         0.0068883119537900715\r\n",
      "    L2 Norm of Solution:    24.04322306914957\r\n",
      "    L2 Norm of Residual:    0.013085221509679749\r\n",
      "    Relative Residual norm: 0.0005442374124320174\r\n",
      "    Matrix Inf norm:        4.596346921581253\r\n",
      "\r\n"
     ]
    },
    {
     "name": "stdout",
     "output_type": "stream",
     "text": [
      "    14,     1,    14     A\t5.841277E-001       2.306923E-001       1.350969E-004       6.280320E-001       \n",
      "                         B\t0.000000E+000       0.000000E+000       0.000000E+000       0.000000E+000       \n"
     ]
    },
    {
     "name": "stderr",
     "output_type": "stream",
     "text": [
      "High residual from direct solver (using ilPSP.LinSolvers.MUMPS.MUMPSSolver).\r\n",
      "    L2 Norm of RHS:         0.013245819485163795\r\n",
      "    L2 Norm of Solution:    46.65014831545065\r\n",
      "    L2 Norm of Residual:    0.025164171074089317\r\n",
      "    Relative Residual norm: 0.0005394231740471204\r\n",
      "    Matrix Inf norm:        4.596332626753401\r\n",
      "\r\n"
     ]
    },
    {
     "name": "stdout",
     "output_type": "stream",
     "text": [
      "    15,     1,    15     A\t1.135309E+000       4.401868E-001       2.604412E-004       1.217658E+000       \n",
      "                         B\t0.000000E+000       0.000000E+000       0.000000E+000       0.000000E+000       \n"
     ]
    },
    {
     "name": "stderr",
     "output_type": "stream",
     "text": [
      "High residual from direct solver (using ilPSP.LinSolvers.MUMPS.MUMPSSolver).\r\n",
      "    L2 Norm of RHS:         0.025649749975690226\r\n",
      "    L2 Norm of Solution:    89.84381767655199\r\n",
      "    L2 Norm of Residual:    0.04938689258228105\r\n",
      "    Relative Residual norm: 0.0005496971729326942\r\n",
      "    Matrix Inf norm:        4.596349532880991\r\n",
      "\r\n"
     ]
    },
    {
     "name": "stdout",
     "output_type": "stream",
     "text": [
      "    16,     1,    16     A\t2.212258E+000       8.621383E-001       5.076434E-004       2.374315E+000       \n",
      "                         B\t0.000000E+000       0.000000E+000       0.000000E+000       0.000000E+000       \n"
     ]
    },
    {
     "name": "stderr",
     "output_type": "stream",
     "text": [
      "High residual from direct solver (using ilPSP.LinSolvers.MUMPS.MUMPSSolver).\r\n",
      "    L2 Norm of RHS:         0.05028410123699293\r\n",
      "    L2 Norm of Solution:    175.39272820856164\r\n",
      "    L2 Norm of Residual:    0.0976643961739808\r\n",
      "    Relative Residual norm: 0.0005568326416466188\r\n",
      "    Matrix Inf norm:        4.596413558732648\r\n",
      "\r\n"
     ]
    },
    {
     "name": "stdout",
     "output_type": "stream",
     "text": [
      "    17,     1,    17     A\t4.392664E+000       1.691147E+000       1.003460E-003       4.706961E+000       \n",
      "                         B\t0.000000E+000       0.000000E+000       0.000000E+000       0.000000E+000       \n"
     ]
    },
    {
     "name": "stderr",
     "output_type": "stream",
     "text": [
      "High residual from direct solver (using ilPSP.LinSolvers.MUMPS.MUMPSSolver).\r\n",
      "    L2 Norm of RHS:         0.10025176062324506\r\n",
      "    L2 Norm of Solution:    340.1836034311576\r\n",
      "    L2 Norm of Residual:    0.20280774907509747\r\n",
      "    Relative Residual norm: 0.0005961714410381314\r\n",
      "    Matrix Inf norm:        4.596424417650213\r\n",
      "\r\n"
     ]
    },
    {
     "name": "stdout",
     "output_type": "stream",
     "text": [
      "    18,     1,    18     A\t9.191252E+000       3.575946E+000       2.098096E-003       9.862378E+000       \n",
      "                         B\t0.000000E+000       0.000000E+000       0.000000E+000       0.000000E+000       \n"
     ]
    },
    {
     "name": "stderr",
     "output_type": "stream",
     "text": [
      "High residual from direct solver (using ilPSP.LinSolvers.MUMPS.MUMPSSolver).\r\n",
      "    L2 Norm of RHS:         0.22467723639054574\r\n",
      "    L2 Norm of Solution:    718.5021797198169\r\n",
      "    L2 Norm of Residual:    0.5121138800538552\r\n",
      "    Relative Residual norm: 0.0007127520201171223\r\n",
      "    Matrix Inf norm:        4.596379261272959\r\n",
      "\r\n"
     ]
    },
    {
     "name": "stdout",
     "output_type": "stream",
     "text": [
      "    19,     1,    19     A\t2.447952E+001       9.858564E+000       5.637487E-003       2.639011E+001       \n",
      "                         B\t0.000000E+000       0.000000E+000       0.000000E+000       0.000000E+000       \n"
     ]
    },
    {
     "name": "stderr",
     "output_type": "stream",
     "text": [
      "High residual from direct solver (using ilPSP.LinSolvers.MUMPS.MUMPSSolver).\r\n",
      "    L2 Norm of RHS:         0.6671892354379348\r\n",
      "    L2 Norm of Solution:    2377.467660599655\r\n",
      "    L2 Norm of Residual:    2.321216275862225\r\n",
      "    Relative Residual norm: 0.0009763397897394565\r\n",
      "    Matrix Inf norm:        4.596674868170561\r\n",
      "\r\n"
     ]
    },
    {
     "name": "stdout",
     "output_type": "stream",
     "text": [
      "    20,     1,    20     A\t1.695036E+002       7.622679E+001       2.608758E-002       1.858548E+002       \n",
      "                         B\t0.000000E+000       0.000000E+000       0.000000E+000       0.000000E+000       \n"
     ]
    },
    {
     "name": "stderr",
     "output_type": "stream",
     "text": [
      "High residual from direct solver (using ilPSP.LinSolvers.MUMPS.MUMPSSolver).\r\n",
      "    L2 Norm of RHS:         6.006745719439088\r\n",
      "    L2 Norm of Solution:    18520.76570817483\r\n",
      "    L2 Norm of Residual:    53.05440916157993\r\n",
      "    Relative Residual norm: 0.0028645904817079133\r\n",
      "    Matrix Inf norm:        4.597873933770607\r\n",
      "\r\n"
     ]
    },
    {
     "name": "stdout",
     "output_type": "stream",
     "text": [
      "    21,     1,    21     A\t8.714387E+003       4.311705E+003       6.507340E-001       9.722723E+003       \n",
      "                         B\t0.000000E+000       0.000000E+000       0.000000E+000       0.000000E+000       \n"
     ]
    },
    {
     "name": "stderr",
     "output_type": "stream",
     "text": [
      "High residual from direct solver (using ilPSP.LinSolvers.MUMPS.MUMPSSolver).\r\n",
      "    L2 Norm of RHS:         351.8380053271138\r\n",
      "    L2 Norm of Solution:    842998.7634685772\r\n",
      "    L2 Norm of Residual:    17146.33887824135\r\n",
      "    Relative Residual norm: 0.020339696356957326\r\n",
      "    Matrix Inf norm:        4.629716485662896\r\n",
      "\r\n"
     ]
    },
    {
     "name": "stdout",
     "output_type": "stream",
     "text": [
      "    22,     1,    22     A\t1.797454E+007       1.063952E+007       2.466354E+002       2.088740E+007       \n",
      "                         B\t0.000000E+000       0.000000E+000       0.000000E+000       0.000000E+000       \n"
     ]
    },
    {
     "name": "stderr",
     "output_type": "stream",
     "text": [
      "High residual from direct solver (using ilPSP.LinSolvers.MUMPS.MUMPSSolver).\r\n",
      "    L2 Norm of RHS:         428812.4382400907\r\n",
      "    L2 Norm of Solution:    765145116.9573706\r\n",
      "    L2 Norm of Residual:    306337838.54689443\r\n",
      "    Relative Residual norm: 0.400365671501713\r\n",
      "    Matrix Inf norm:        8.576447102018776\r\n",
      "\r\n"
     ]
    },
    {
     "name": "stdout",
     "output_type": "stream",
     "text": [
      "    23,     1,    23     A\t1.136343E+013       6.445871E+012       1.782948E+006       1.306434E+013       \n",
      "                         B\t0.000000E+000       0.000000E+000       0.000000E+000       0.000000E+000       \n"
     ]
    },
    {
     "name": "stderr",
     "output_type": "stream",
     "text": [
      "High residual from direct solver (using ilPSP.LinSolvers.MUMPS.MUMPSSolver).\r\n",
      "    L2 Norm of RHS:         9378971590.713938\r\n",
      "    L2 Norm of Solution:    19871268450208.418\r\n",
      "    L2 Norm of Residual:    9165623175586.195\r\n",
      "    Relative Residual norm: 0.46125003034167467\r\n",
      "    Matrix Inf norm:        55.3754340909281\r\n",
      "\r\n"
     ]
    },
    {
     "name": "stdout",
     "output_type": "stream",
     "text": [
      "    24,     1,    24     A\t1.031532E+020       3.159116E+019       6.663222E+009       1.078823E+020       \n",
      "                         B\t0.000000E+000       0.000000E+000       0.000000E+000       0.000000E+000       \n"
     ]
    },
    {
     "name": "stderr",
     "output_type": "stream",
     "text": [
      "High residual from direct solver (using ilPSP.LinSolvers.MUMPS.MUMPSSolver).\r\n",
      "    L2 Norm of RHS:         671516421746880.1\r\n",
      "    L2 Norm of Solution:    1.5707987826578104E+18\r\n",
      "    L2 Norm of Residual:    9.728815854633139E+17\r\n",
      "    Relative Residual norm: 0.6193546851476334\r\n",
      "    Matrix Inf norm:        30.76409861813698\r\n",
      "\r\n"
     ]
    },
    {
     "name": "stdout",
     "output_type": "stream",
     "text": [
      "    25,     1,    25     A\t6.321838E+026       2.336840E+026       2.064206E+013       6.739915E+026       \n",
      "                         B\t0.000000E+000       0.000000E+000       0.000000E+000       0.000000E+000       \n"
     ]
    },
    {
     "name": "stderr",
     "output_type": "stream",
     "text": [
      "High residual from direct solver (using ilPSP.LinSolvers.MUMPS.MUMPSSolver).\r\n",
      "    L2 Norm of RHS:         8.166433881145303E+19\r\n",
      "    L2 Norm of Solution:    2.041757889439647E+23\r\n",
      "    L2 Norm of Residual:    1.293261944188354E+23\r\n",
      "    Relative Residual norm: 0.6334061207145795\r\n",
      "    Matrix Inf norm:        97.53475806005555\r\n",
      "\r\n"
     ]
    }
   ],
   "source": [
    "c.Run();"
   ]
  },
  {
   "cell_type": "markdown",
   "metadata": {},
   "source": [
    "## Postprocessing\n",
    "\n",
    "In order to postprocess data we need to export it with the following command. This creates a folder containing the data as files (In Jupyter you need to copy the commands from the markdown into a code field to execute them)\n",
    "\n",
    "```csharp\n",
    "myDb.Sessions.First().Export().Do();\n",
    "```\n",
    "\n",
    "You can now go to the path and Plot the data using a programm you prefer (e.g. VisIt or Paraview)"
   ]
  },
  {
   "cell_type": "markdown",
   "metadata": {},
   "source": [
    "\n",
    "Open the ExportDirectory to view the *.plt files (does only work in BoSSSPad, but you should see the path from the commands before)\n",
    "```csharp\n",
    "myDb.Sessions.First().OpenExportDirectory();\n",
    "```\n",
    "Some information like the console output or a log containing various physical values can be found in the session directory (does only work in BoSSSPad, but you should see the path from the commands before)\n",
    "```csharp\n",
    "myDb.Sessions.First().OpenSessionDirectory();\n",
    "```\n",
    "Delete database\n",
    "```csharp\n",
    "DatabaseUtils.DeleteDatabase(myDb.Path); \n",
    "```"
   ]
  },
  {
   "cell_type": "code",
   "execution_count": null,
   "metadata": {
    "dotnet_interactive": {
     "language": "csharp"
    }
   },
   "outputs": [],
   "source": []
  },
  {
   "cell_type": "markdown",
   "metadata": {},
   "source": [
    "## Immersed boundary method\n",
    "\n",
    "It is also possible to use the immersed boundary feature of our incompressible Navier-Stokes Solver.\n",
    "\n",
    "For this example we have to change two parts of the code: First, for a good result, we have to refine \n",
    "the grid at the position of the cylinder.\n",
    "\n",
    "\n",
    "x-Direction (using also hyperbolic tangential distribution)\n",
    "```csharp\n",
    "var _xNodes1 = Grid1D.TanhSpacing(-2, -1, 10, 0.5, false); \n",
    "_xNodes1     = _xNodes1.GetSubVector(0, (_xNodes1.Length - 1));\n",
    "var _xNodes2 = GenericBlas.Linspace(-1, 2, 35); \n",
    "_xNodes2     = _xNodes2.GetSubVector(0, (_xNodes2.Length - 1));\n",
    "var _xNodes3 = Grid1D.TanhSpacing(2, 20, 60 , 1.5, true);  \n",
    "var xNodes   = ArrayTools.Cat(_xNodes1, _xNodes2, _xNodes3);\n",
    "```\n",
    "\n",
    "y-Direction\n",
    "```csharp\n",
    "var _yNodes1 = Grid1D.TanhSpacing(-2, -1, 7, 0.9, false); \n",
    "_yNodes1     = _yNodes1.GetSubVector(0, (_yNodes1.Length - 1));\n",
    "var _yNodes2 = GenericBlas.Linspace(-1, 1, 25); \n",
    "_yNodes2     = _yNodes2.GetSubVector(0, (_yNodes2.Length - 1));\n",
    "var _yNodes3 = Grid1D.TanhSpacing(1, 2.1, 7, 1.1, true);  \n",
    "var yNodes   = ArrayTools.Cat(_yNodes1, _yNodes2, _yNodes3);\n",
    "```\n",
    "\n",
    "Furthermore, the cylinder immersing the fluid should be described\n",
    "by using the zero contour of a level set function. The radius of the cylinder is set to 0.5.\n",
    "\n",
    "```csharp\n",
    "c.InitialValues.Add(\"Phi\", new Formula(\"X => -(X[0]).Pow2() + -(X[1]).Pow2() + 0.25\", false));\n",
    "```\n",
    "\n",
    "Example control files for both,\n",
    "the channel and the flow around a cylinder can be found in the ControlExample directory. As soon as we run \n",
    "the simulation again we can take a look at the plots and the PhysicalData file in the session directory. \n",
    "There we can find for example lift and drag forces acting on the cylinder."
   ]
  },
  {
   "cell_type": "code",
   "execution_count": null,
   "metadata": {
    "dotnet_interactive": {
     "language": "csharp"
    }
   },
   "outputs": [],
   "source": []
  }
 ],
 "metadata": {
  "kernelspec": {
   "display_name": ".NET (C#)",
   "language": "C#",
   "name": ".net-csharp"
  },
  "language_info": {
   "file_extension": ".cs",
   "mimetype": "text/x-csharp",
   "name": "C#",
   "pygments_lexer": "csharp",
   "version": "8.0"
  }
 },
 "nbformat": 4,
 "nbformat_minor": 4
}
