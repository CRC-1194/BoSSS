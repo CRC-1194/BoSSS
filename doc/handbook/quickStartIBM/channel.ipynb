{
 "cells": [
  {
   "cell_type": "markdown",
   "metadata": {},
   "source": [
    "# Simple channel flow using the Incompressible Solver\n",
    "\n",
    "## What's new\n",
    "\n",
    " - running a simulation with the incompressible Navier-Stokes solver\n",
    " - how to use the immersed boundary method\n",
    " - post-processing, i.e. plotting and checking physical values\n"
   ]
  },
  {
   "cell_type": "markdown",
   "metadata": {},
   "source": [
    "\n",
    "\n",
    "## Prerequisites\n",
    "\n",
    "\n",
    "- the **BoSSS** framework\n",
    "- a visualization tool, e.g Paraview or VisIt\n",
    "- the knowledge of how to setup a database for **BoSSS**\n",
    "\n",
    "\n",
    " This tutorial will explain the basic features of the incompressible \n",
    " Navier-Stokes solver in the **BoSSS** framework. \n",
    "\n",
    " First, the simple testcase of a 2D channel flow will be explained. After \n",
    " that, there will be a short part about the immersed boundary feature of our incompressible flow solver. \n",
    "\n",
    " Therefore the flow around a cylinder will be investigated using the immersed boundary method.\n",
    "\n",
    " Note that **BoSSS**, at the present time contains no stand-alone single-phase \n",
    " solver that is fully recomended - although there are some legacy solvers, e.g. SIMPLE.\n",
    " Instead, the two-phase-solver with immersed boundary is used, where the two-phase option ist deactivated.\n"
   ]
  },
  {
   "cell_type": "markdown",
   "metadata": {},
   "source": []
  },
  {
   "cell_type": "markdown",
   "metadata": {},
   "source": [
    "\n",
    "## Problem statement\n",
    "\n",
    "The flow is described by the unsteady Navier-Stokes equations in the fluid region\n",
    "\n",
    ">$$ \\rho_f\\left(\\frac{\\partial \\vec{u}}{\\partial t}+ \\vec{u} \\cdot \\nabla \\vec{u}\\right) +\\nabla p - \\mu_f \\Delta \\vec{u} = \\vec{f}  $$\n",
    "\n",
    " and the continuity equation\n",
    ">$$ \\nabla \\cdot \\vec{u} = 0 \\quad \\forall\\ t \\in (0,T)\\quad \\textrm{in}\\ \\Omega $$\n",
    "\n",
    " In the equations above \n",
    " - $\\vec{u}$ is the velocity vector \n",
    " - $p$ the pressure. \n",
    " - The fluid density is denoted by $\\rho_f$\n",
    " - $\\mu_f=\\rho_f \\cdot \\nu_f$ is the dynamic viscosity of the fluid.\n"
   ]
  },
  {
   "cell_type": "markdown",
   "metadata": {},
   "source": [
    "\n",
    "## Channel\n",
    "\n",
    "First, we initialize the new worksheet;\n",
    "Note: \n",
    "1. This tutorial can be found in the source code repository as as `channel.ipynb`. \n",
    "   One can directly load this into Jupyter to interactively work with the following code examples.\n",
    "2. **In the following line, the reference to `BoSSSpad.dll` is required**. \n",
    "   You must either set `#r \"BoSSSpad.dll\"` to something which is appropirate for your computer\n",
    "   (e.g. `C:\\Program Files (x86)\\FDY\\BoSSS\\bin\\Release\\net5.0\\BoSSSpad.dll` if you installed the binary distribution),\n",
    "   or, if you are working with the source code, you must compile `BoSSSpad` and put it side-by-side to this worksheet file\n",
    "   (from the original location in the repository, you can use the scripts `getbossspad.sh`, resp. `getbossspad.bat`)."
   ]
  },
  {
   "cell_type": "code",
   "execution_count": null,
   "metadata": {
    "dotnet_interactive": {
     "language": "csharp"
    }
   },
   "outputs": [],
   "source": [
    "#r \"BoSSSpad.dll\"\n",
    "using System;\n",
    "using System.Collections.Generic;\n",
    "using System.Linq;\n",
    "using System.Diagnostics;\n",
    "using ilPSP;\n",
    "using ilPSP.Utils;\n",
    "using BoSSS.Platform;\n",
    "using BoSSS.Platform.LinAlg;\n",
    "using BoSSS.Foundation;\n",
    "using BoSSS.Foundation.XDG;\n",
    "using BoSSS.Foundation.Grid;\n",
    "using BoSSS.Foundation.Grid.Classic;\n",
    "using BoSSS.Foundation.Grid.RefElements;\n",
    "using BoSSS.Foundation.IO;\n",
    "using BoSSS.Solution;\n",
    "using BoSSS.Solution.Control;\n",
    "using BoSSS.Solution.GridImport;\n",
    "using BoSSS.Solution.Statistic;\n",
    "using BoSSS.Solution.Utils;\n",
    "using BoSSS.Solution.AdvancedSolvers;\n",
    "using BoSSS.Solution.Gnuplot;\n",
    "using BoSSS.Application.BoSSSpad;\n",
    "using BoSSS.Application.XNSE_Solver;\n",
    "using static BoSSS.Application.BoSSSpad.BoSSSshell;\n",
    "Init();\n"
   ]
  },
  {
   "cell_type": "markdown",
   "metadata": {},
   "source": [
    "Now, a new database has to be created.\n",
    "In this worksheet, we use a temporary database which will be deleted\n",
    "after the worksheet has been executed.\n",
    "For your calculation, you might consider some non-temporary alternative,\n",
    ">cf. *OpenOrCreateDatabase* or *OpenOrCreateDefaultDatabase*:"
   ]
  },
  {
   "cell_type": "code",
   "execution_count": null,
   "metadata": {
    "dotnet_interactive": {
     "language": "csharp"
    }
   },
   "outputs": [],
   "source": [
    "var myDb = CreateTempDatabase();"
   ]
  },
  {
   "cell_type": "markdown",
   "metadata": {},
   "source": [
    "Create a new control object for setting up the simulation:"
   ]
  },
  {
   "cell_type": "code",
   "execution_count": null,
   "metadata": {
    "dotnet_interactive": {
     "language": "csharp"
    }
   },
   "outputs": [],
   "source": [
    "var c = new XNSE_Control();"
   ]
  },
  {
   "cell_type": "markdown",
   "metadata": {},
   "source": [
    "### How to define/change input data"
   ]
  },
  {
   "cell_type": "markdown",
   "metadata": {},
   "source": [
    "First, the DG polynomial degree is set:\n",
    "(degree 2 for velocity and 1 for pressure)."
   ]
  },
  {
   "cell_type": "code",
   "execution_count": null,
   "metadata": {
    "dotnet_interactive": {
     "language": "csharp"
    }
   },
   "outputs": [],
   "source": [
    "c.SetDGdegree(2);"
   ]
  },
  {
   "cell_type": "markdown",
   "metadata": {},
   "source": [
    "Domain and Grid variables are set (i.e. we get a channel with length 22 and height 4.1)"
   ]
  },
  {
   "cell_type": "code",
   "execution_count": null,
   "metadata": {
    "dotnet_interactive": {
     "language": "csharp"
    }
   },
   "outputs": [],
   "source": [
    "double xMin        = -2; \n",
    "double xMax        = 20;\n",
    "double yMin        = -2; \n",
    "double yMax        = 2.1;\n",
    "int numberOfCellsX = 44; \n",
    "int numberOfCellsY = 8;"
   ]
  },
  {
   "cell_type": "markdown",
   "metadata": {},
   "source": [
    "Basic database options "
   ]
  },
  {
   "cell_type": "code",
   "execution_count": null,
   "metadata": {
    "dotnet_interactive": {
     "language": "csharp"
    }
   },
   "outputs": [],
   "source": [
    "c.SetDatabase(myDb);\n",
    "c.savetodb   = true;\n",
    "c.saveperiod = 1;"
   ]
  },
  {
   "cell_type": "markdown",
   "metadata": {},
   "source": [
    "Setting some variables for database saving. Here it is also possible to define tags which can be helpful for finding a particular simulation in the **BoSSS** database"
   ]
  },
  {
   "cell_type": "code",
   "execution_count": null,
   "metadata": {
    "dotnet_interactive": {
     "language": "csharp"
    }
   },
   "outputs": [],
   "source": [
    "string sessionName   = \"dt = 1E20_\" + numberOfCellsX + \"x\" + numberOfCellsY + \"_k2\";\n",
    "c.SessionName        = sessionName;\n",
    "c.ProjectDescription = \"Incompressible Solver Examples\";\n",
    "c.Tags.Add(\"numberOfCellsX_\" + numberOfCellsX);\n",
    "c.Tags.Add(\"numberOfCellsY_\" + numberOfCellsY);\n",
    "c.Tags.Add(\"k2\");"
   ]
  },
  {
   "cell_type": "markdown",
   "metadata": {},
   "source": [
    "The grid is generated using the previously defined parameters."
   ]
  },
  {
   "cell_type": "code",
   "execution_count": null,
   "metadata": {
    "dotnet_interactive": {
     "language": "csharp"
    }
   },
   "outputs": [],
   "source": [
    "c.GridFunc       = null; \n",
    "var xNodes       = GenericBlas.Linspace(xMin, xMax , numberOfCellsX);\n",
    "var yNodes       = GenericBlas.Linspace(yMin, yMax, numberOfCellsY);\n",
    "GridCommons grid = Grid2D.Cartesian2DGrid(xNodes, yNodes, CellType.Square_Linear, false);"
   ]
  },
  {
   "cell_type": "markdown",
   "metadata": {},
   "source": [
    "Set the geometric location of boundary conditions by edge tags; Later we will assign values depending on these tags.\n",
    "\n",
    "Edges that get assigned \"0\" are \"inner edges\"."
   ]
  },
  {
   "cell_type": "code",
   "execution_count": null,
   "metadata": {
    "dotnet_interactive": {
     "language": "csharp"
    }
   },
   "outputs": [],
   "source": [
    "grid.DefineEdgeTags(delegate (double[] X) {\n",
    "    if (Math.Abs(X[1] - (-2)) <= 1.0e-8)\n",
    "        return \"wall\"; // wall at y = -2\n",
    "    if (Math.Abs(X[1] - (+2.1 )) <= 1.0e-8)\n",
    "        return \"wall\"; // wall at y = +2.1\n",
    "    if (Math.Abs(X[0] - (-2)) <= 1.0e-8)\n",
    "        return \"Velocity_Inlet\"; // velocity inlet at x = -2\n",
    "    if (Math.Abs(X[0] - (+20.0)) <= 1.0e-8)\n",
    "        return \"Pressure_Outlet\"; // pressure outlet at x = +20\n",
    "    throw new ArgumentException(\"unexpected domain boundary\"); \n",
    "});"
   ]
  },
  {
   "cell_type": "markdown",
   "metadata": {},
   "source": [
    "Save the grid in the database so that the simulation can use it"
   ]
  },
  {
   "cell_type": "code",
   "execution_count": null,
   "metadata": {
    "dotnet_interactive": {
     "language": "csharp"
    }
   },
   "outputs": [],
   "source": [
    "grid"
   ]
  },
  {
   "cell_type": "code",
   "execution_count": null,
   "metadata": {
    "dotnet_interactive": {
     "language": "csharp"
    }
   },
   "outputs": [],
   "source": [
    "myDb.SaveGrid(ref grid);\n",
    "c.SetGrid(grid);"
   ]
  },
  {
   "cell_type": "markdown",
   "metadata": {},
   "source": [
    "Specification of boundary conditions with a parabolic velocity profile for the inlet"
   ]
  },
  {
   "cell_type": "code",
   "execution_count": null,
   "metadata": {
    "dotnet_interactive": {
     "language": "csharp"
    }
   },
   "outputs": [],
   "source": [
    "c.BoundaryValues.Clear();\n",
    "c.AddBoundaryValue(\"Velocity_Inlet\", \"VelocityX\", \n",
    "      (X => (4.1 * 1.5 * (X[1] + 2) * (4.1 - (X[1] + 2)) / (4.1 * 4.1))));"
   ]
  },
  {
   "cell_type": "markdown",
   "metadata": {},
   "source": [
    "*Fluid Properties*\n",
    "\n",
    "Note: The characteristic length and fluid density are choosen to one. \n",
    "Therefore, the viscosity can be defined by $\\frac{1}{reynolds}$."
   ]
  },
  {
   "cell_type": "code",
   "execution_count": null,
   "metadata": {
    "dotnet_interactive": {
     "language": "csharp"
    }
   },
   "outputs": [],
   "source": [
    "double reynolds            = 20;\n",
    "c.PhysicalParameters.rho_A = 1;\n",
    "c.PhysicalParameters.mu_A  = 1.0/reynolds;"
   ]
  },
  {
   "cell_type": "markdown",
   "metadata": {},
   "source": [
    "Bool parameter whether the Navier-Stokes or Stokes equations\n",
    "should be solved"
   ]
  },
  {
   "cell_type": "code",
   "execution_count": null,
   "metadata": {
    "dotnet_interactive": {
     "language": "csharp"
    }
   },
   "outputs": [],
   "source": [
    "c.PhysicalParameters.IncludeConvection = true;"
   ]
  },
  {
   "cell_type": "markdown",
   "metadata": {},
   "source": [
    "Initial Values are set to 0; Note that the following lines are only for \n",
    "demonstration -- if no initial value is specified, 0 is set automatically."
   ]
  },
  {
   "cell_type": "code",
   "execution_count": null,
   "metadata": {
    "dotnet_interactive": {
     "language": "csharp"
    }
   },
   "outputs": [],
   "source": [
    "c.InitialValues.Clear();\n",
    "c.InitialValues.Add(\"VelocityX\", new Formula(\"X => 0.0\", false));\n",
    "c.InitialValues.Add(\"VelocityY\", new Formula(\"X => 0.0\", false));\n",
    "c.InitialValues.Add(\"Pressure\", new Formula(\"X => 0.0\", false));"
   ]
  },
  {
   "cell_type": "markdown",
   "metadata": {},
   "source": [
    "Timestepping properties:\n",
    "Most solvers in **BoSSS** simulate transient equations. Configuring\n",
    "a steady simulation confiures one very large timestep."
   ]
  },
  {
   "cell_type": "code",
   "execution_count": null,
   "metadata": {
    "dotnet_interactive": {
     "language": "csharp"
    }
   },
   "outputs": [],
   "source": [
    "c.TimesteppingMode = AppControl._TimesteppingMode.Steady;"
   ]
  },
  {
   "cell_type": "markdown",
   "metadata": {},
   "source": [
    "## Run a simulation\n",
    "\n",
    "The solver can be run inline (i.e. within the *BoSSSpad* process) by \n",
    "executing the `Run` method on the control objece `c`.\n",
    "An inline run will block *BoSSSpad* until the solver exits."
   ]
  },
  {
   "cell_type": "code",
   "execution_count": null,
   "metadata": {
    "dotnet_interactive": {
     "language": "csharp"
    }
   },
   "outputs": [],
   "source": [
    "c.Run();"
   ]
  },
  {
   "cell_type": "markdown",
   "metadata": {},
   "source": [
    "## Postprocessing\n",
    "\n",
    "In order to postprocess data we need to export it with the following command. This creates a folder containing the data as files (In Jupyter you need to copy the commands from the markdown into a code field to execute them)\n",
    "\n",
    "```csharp\n",
    "myDb.Sessions.First().Export().Do();\n",
    "```\n",
    "\n",
    "You can now go to the path and Plot the data using a programm you prefer (e.g. VisIt or Paraview)"
   ]
  },
  {
   "cell_type": "markdown",
   "metadata": {},
   "source": [
    "\n",
    "Open the ExportDirectory to view the *.plt files (does only work in BoSSSPad, but you should see the path from the commands before)\n",
    "```csharp\n",
    "myDb.Sessions.First().OpenExportDirectory();\n",
    "```\n",
    "Some information like the console output or a log containing various physical values can be found in the session directory (does only work in BoSSSPad, but you should see the path from the commands before)\n",
    "```csharp\n",
    "myDb.Sessions.First().OpenSessionDirectory();\n",
    "```\n",
    "Delete database\n",
    "```csharp\n",
    "DatabaseUtils.DeleteDatabase(myDb.Path); \n",
    "```"
   ]
  },
  {
   "cell_type": "markdown",
   "metadata": {},
   "source": [
    "## Immersed boundary method\n",
    "\n",
    "It is also possible to use the immersed boundary feature of our incompressible Navier-Stokes Solver.\n",
    "\n",
    "For this example we have to change two parts of the code: First, for a good result, we have to refine \n",
    "the grid at the position of the cylinder.\n",
    "\n",
    "\n",
    "x-Direction (using also hyperbolic tangential distribution)\n",
    "```csharp\n",
    "var _xNodes1 = Grid1D.TanhSpacing(-2, -1, 10, 0.5, false); \n",
    "_xNodes1     = _xNodes1.GetSubVector(0, (_xNodes1.Length - 1));\n",
    "var _xNodes2 = GenericBlas.Linspace(-1, 2, 35); \n",
    "_xNodes2     = _xNodes2.GetSubVector(0, (_xNodes2.Length - 1));\n",
    "var _xNodes3 = Grid1D.TanhSpacing(2, 20, 60 , 1.5, true);  \n",
    "var xNodes   = ArrayTools.Cat(_xNodes1, _xNodes2, _xNodes3);\n",
    "```\n",
    "\n",
    "y-Direction\n",
    "```csharp\n",
    "var _yNodes1 = Grid1D.TanhSpacing(-2, -1, 7, 0.9, false); \n",
    "_yNodes1     = _yNodes1.GetSubVector(0, (_yNodes1.Length - 1));\n",
    "var _yNodes2 = GenericBlas.Linspace(-1, 1, 25); \n",
    "_yNodes2     = _yNodes2.GetSubVector(0, (_yNodes2.Length - 1));\n",
    "var _yNodes3 = Grid1D.TanhSpacing(1, 2.1, 7, 1.1, true);  \n",
    "var yNodes   = ArrayTools.Cat(_yNodes1, _yNodes2, _yNodes3);\n",
    "```\n",
    "\n",
    "Furthermore, the cylinder immersing the fluid should be described\n",
    "by using the zero contour of a level set function. The radius of the cylinder is set to 0.5.\n",
    "\n",
    "```csharp\n",
    "c.InitialValues.Add(\"Phi\", new Formula(\"X => -(X[0]).Pow2() + -(X[1]).Pow2() + 0.25\", false));\n",
    "```\n",
    "\n",
    "Example control files for both,\n",
    "the channel and the flow around a cylinder can be found in the ControlExample directory. As soon as we run \n",
    "the simulation again we can take a look at the plots and the PhysicalData file in the session directory. \n",
    "There we can find for example lift and drag forces acting on the cylinder."
   ]
  }
 ],
 "metadata": {
  "kernelspec": {
   "display_name": ".NET (C#)",
   "language": "C#",
   "name": ".net-csharp"
  },
  "language_info": {
   "file_extension": ".cs",
   "mimetype": "text/x-csharp",
   "name": "C#",
   "pygments_lexer": "csharp",
   "version": "9.0"
  }
 },
 "nbformat": 4,
 "nbformat_minor": 4
}
