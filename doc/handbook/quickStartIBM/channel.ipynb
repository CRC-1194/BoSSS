{
  "cells": [
    {
      "cell_type": "markdown",
      "source": [
        "# **1 What's new**\r\n",
        "\r\n",
        "\r\n",
        " - running a simulation with the incompressible Navier-Stokes solver\r\n",
        " - how to use the immersed boundary method\r\n",
        " - post-processing, i.e. plotting and checking physical values\r\n"
      ],
      "metadata": {}
    },
    {
      "cell_type": "markdown",
      "source": [
        "\r\n",
        "\r\n",
        "# **2 Prerequisites**\r\n",
        "\r\n",
        "\r\n",
        "- the **BoSSS** framework\r\n",
        "- a visualization tool, e.g Paraview or VisIt\r\n",
        "- the knowledge of how to setup a database for **BoSSS**\r\n",
        "\r\n",
        "\r\n",
        " This tutorial will explain the basic features of the incompressible \r\n",
        " Navier-Stokes solver in the **BoSSS** framework. \r\n",
        "\r\n",
        " First, the simple testcase of a 2D channel flow will be explained. After \r\n",
        " that, there will be a short part about the immersed boundary feature of our incompressible flow solver. \r\n",
        "\r\n",
        " Therefore the flow around a cylinder will be investigated using the immersed boundary method.\r\n",
        "\r\n",
        " Note that **BoSSS**, at the present time contains no stand-alone single-phase  \r\n",
        " solver that is fully recomended - although there are some legacy solvers, e.g. SIMPLE.\r\n",
        " Instead, the two-phase-solver with immersed boundary is used, where the two-phase option ist deactivated.\r\n"
      ],
      "metadata": {}
    },
    {
      "cell_type": "markdown",
      "source": [],
      "metadata": {}
    },
    {
      "cell_type": "markdown",
      "source": [
        "\r\n",
        "# **3 Problem statement**\r\n",
        "\r\n",
        "The flow is described by the unsteady Navier-Stokes equations in the fluid region\r\n",
        "\r\n",
        ">$$ \\rho_f\\left(\\frac{\\partial \\vec{u}}{\\partial t}+ \\vec{u} \\cdot \\nabla \\vec{u}\\right) +\\nabla p - \\mu_f \\Delta \\vec{u} = \\vec{f}  $$\r\n",
        "\r\n",
        " and the continuity equation\r\n",
        ">$$ \\nabla \\cdot \\vec{u} = 0 \\quad \\forall\\ t \\in (0,T)\\quad \\textrm{in}\\ \\Omega $$\r\n",
        "\r\n",
        " In the equations above \r\n",
        " - $\\vec{u}$ is the velocity vector \r\n",
        " - $p$ the pressure. \r\n",
        " - The fluid density is denoted by $\\rho_f$\r\n",
        " - $\\mu_f=\\rho_f \\cdot \\nu_f$ is the dynamic viscosity of the fluid.\r\n"
      ],
      "metadata": {}
    },
    {
      "cell_type": "markdown",
      "source": [
        "\r\n",
        "# **4 Channel**\r\n",
        "\r\n",
        "ATTENTION: Before you start you need to modify the first line to point to your local **BoSSSPad.dll** :file_folder:\r\n",
        "\r\n",
        "```csharp\r\n",
        "#r \"BoSSSpad.dll\"\r\n",
        "```\r\n",
        "such that the BoSSSpad.dll can be found (e.g it should look like the following)\r\n",
        "\r\n",
        "```csharp\r\n",
        "#r \"..\\experimental\\public\\src\\L4-application\\BoSSSpad\\bin\\Release\\net5.0\\BoSSSpad.dll\"\r\n",
        "```"
      ],
      "metadata": {}
    },
    {
      "cell_type": "code",
      "execution_count": null,
      "source": [
        "#r \"BoSSSpad.dll\"\r\n",
        "using System;\r\n",
        "using System.Collections.Generic;\r\n",
        "using System.Linq;\r\n",
        "using System.Diagnostics;\r\n",
        "using ilPSP;\r\n",
        "using ilPSP.Utils;\r\n",
        "using BoSSS.Platform;\r\n",
        "using BoSSS.Platform.LinAlg;\r\n",
        "using BoSSS.Foundation;\r\n",
        "using BoSSS.Foundation.XDG;\r\n",
        "using BoSSS.Foundation.Grid;\r\n",
        "using BoSSS.Foundation.Grid.Classic;\r\n",
        "using BoSSS.Foundation.Grid.RefElements;\r\n",
        "using BoSSS.Foundation.IO;\r\n",
        "using BoSSS.Solution;\r\n",
        "using BoSSS.Solution.Control;\r\n",
        "using BoSSS.Solution.GridImport;\r\n",
        "using BoSSS.Solution.Statistic;\r\n",
        "using BoSSS.Solution.Utils;\r\n",
        "using BoSSS.Solution.AdvancedSolvers;\r\n",
        "using BoSSS.Solution.Gnuplot;\r\n",
        "using BoSSS.Application.BoSSSpad;\r\n",
        "using BoSSS.Application.XNSE_Solver;\r\n",
        "using static BoSSS.Application.BoSSSpad.BoSSSshell;\r\n",
        "Init();\r\n"
      ],
      "outputs": [
        {
          "output_type": "error",
          "ename": "Error",
          "evalue": "(1,1): error CS0006: Metadatendatei \"BoSSSpad.dll\" wurde nicht gefunden.\r\n(6,7): error CS0246: Der Typ- oder Namespacename \"ilPSP\" wurde nicht gefunden (möglicherweise fehlt eine using-Direktive oder ein Assemblyverweis).\r\n(7,7): error CS0246: Der Typ- oder Namespacename \"ilPSP\" wurde nicht gefunden (möglicherweise fehlt eine using-Direktive oder ein Assemblyverweis).\r\n(8,7): error CS0246: Der Typ- oder Namespacename \"BoSSS\" wurde nicht gefunden (möglicherweise fehlt eine using-Direktive oder ein Assemblyverweis).\r\n(9,7): error CS0246: Der Typ- oder Namespacename \"BoSSS\" wurde nicht gefunden (möglicherweise fehlt eine using-Direktive oder ein Assemblyverweis).\r\n(10,7): error CS0246: Der Typ- oder Namespacename \"BoSSS\" wurde nicht gefunden (möglicherweise fehlt eine using-Direktive oder ein Assemblyverweis).\r\n(11,7): error CS0246: Der Typ- oder Namespacename \"BoSSS\" wurde nicht gefunden (möglicherweise fehlt eine using-Direktive oder ein Assemblyverweis).\r\n(12,7): error CS0246: Der Typ- oder Namespacename \"BoSSS\" wurde nicht gefunden (möglicherweise fehlt eine using-Direktive oder ein Assemblyverweis).\r\n(13,7): error CS0246: Der Typ- oder Namespacename \"BoSSS\" wurde nicht gefunden (möglicherweise fehlt eine using-Direktive oder ein Assemblyverweis).\r\n(14,7): error CS0246: Der Typ- oder Namespacename \"BoSSS\" wurde nicht gefunden (möglicherweise fehlt eine using-Direktive oder ein Assemblyverweis).\r\n(15,7): error CS0246: Der Typ- oder Namespacename \"BoSSS\" wurde nicht gefunden (möglicherweise fehlt eine using-Direktive oder ein Assemblyverweis).\r\n(16,7): error CS0246: Der Typ- oder Namespacename \"BoSSS\" wurde nicht gefunden (möglicherweise fehlt eine using-Direktive oder ein Assemblyverweis).\r\n(17,7): error CS0246: Der Typ- oder Namespacename \"BoSSS\" wurde nicht gefunden (möglicherweise fehlt eine using-Direktive oder ein Assemblyverweis).\r\n(18,7): error CS0246: Der Typ- oder Namespacename \"BoSSS\" wurde nicht gefunden (möglicherweise fehlt eine using-Direktive oder ein Assemblyverweis).\r\n(19,7): error CS0246: Der Typ- oder Namespacename \"BoSSS\" wurde nicht gefunden (möglicherweise fehlt eine using-Direktive oder ein Assemblyverweis).\r\n(20,7): error CS0246: Der Typ- oder Namespacename \"BoSSS\" wurde nicht gefunden (möglicherweise fehlt eine using-Direktive oder ein Assemblyverweis).\r\n(21,7): error CS0246: Der Typ- oder Namespacename \"BoSSS\" wurde nicht gefunden (möglicherweise fehlt eine using-Direktive oder ein Assemblyverweis).\r\n(22,7): error CS0246: Der Typ- oder Namespacename \"BoSSS\" wurde nicht gefunden (möglicherweise fehlt eine using-Direktive oder ein Assemblyverweis).\r\n(23,7): error CS0246: Der Typ- oder Namespacename \"BoSSS\" wurde nicht gefunden (möglicherweise fehlt eine using-Direktive oder ein Assemblyverweis).\r\n(24,7): error CS0246: Der Typ- oder Namespacename \"BoSSS\" wurde nicht gefunden (möglicherweise fehlt eine using-Direktive oder ein Assemblyverweis).\r\n(25,14): error CS0246: Der Typ- oder Namespacename \"BoSSS\" wurde nicht gefunden (möglicherweise fehlt eine using-Direktive oder ein Assemblyverweis).\r\n(26,1): error CS0103: Der Name \"Init\" ist im aktuellen Kontext nicht vorhanden.",
          "traceback": [
            "(1,1): error CS0006: Metadatendatei \"BoSSSpad.dll\" wurde nicht gefunden.\r\n",
            "(6,7): error CS0246: Der Typ- oder Namespacename \"ilPSP\" wurde nicht gefunden (möglicherweise fehlt eine using-Direktive oder ein Assemblyverweis).\r\n",
            "(7,7): error CS0246: Der Typ- oder Namespacename \"ilPSP\" wurde nicht gefunden (möglicherweise fehlt eine using-Direktive oder ein Assemblyverweis).\r\n",
            "(8,7): error CS0246: Der Typ- oder Namespacename \"BoSSS\" wurde nicht gefunden (möglicherweise fehlt eine using-Direktive oder ein Assemblyverweis).\r\n",
            "(9,7): error CS0246: Der Typ- oder Namespacename \"BoSSS\" wurde nicht gefunden (möglicherweise fehlt eine using-Direktive oder ein Assemblyverweis).\r\n",
            "(10,7): error CS0246: Der Typ- oder Namespacename \"BoSSS\" wurde nicht gefunden (möglicherweise fehlt eine using-Direktive oder ein Assemblyverweis).\r\n",
            "(11,7): error CS0246: Der Typ- oder Namespacename \"BoSSS\" wurde nicht gefunden (möglicherweise fehlt eine using-Direktive oder ein Assemblyverweis).\r\n",
            "(12,7): error CS0246: Der Typ- oder Namespacename \"BoSSS\" wurde nicht gefunden (möglicherweise fehlt eine using-Direktive oder ein Assemblyverweis).\r\n",
            "(13,7): error CS0246: Der Typ- oder Namespacename \"BoSSS\" wurde nicht gefunden (möglicherweise fehlt eine using-Direktive oder ein Assemblyverweis).\r\n",
            "(14,7): error CS0246: Der Typ- oder Namespacename \"BoSSS\" wurde nicht gefunden (möglicherweise fehlt eine using-Direktive oder ein Assemblyverweis).\r\n",
            "(15,7): error CS0246: Der Typ- oder Namespacename \"BoSSS\" wurde nicht gefunden (möglicherweise fehlt eine using-Direktive oder ein Assemblyverweis).\r\n",
            "(16,7): error CS0246: Der Typ- oder Namespacename \"BoSSS\" wurde nicht gefunden (möglicherweise fehlt eine using-Direktive oder ein Assemblyverweis).\r\n",
            "(17,7): error CS0246: Der Typ- oder Namespacename \"BoSSS\" wurde nicht gefunden (möglicherweise fehlt eine using-Direktive oder ein Assemblyverweis).\r\n",
            "(18,7): error CS0246: Der Typ- oder Namespacename \"BoSSS\" wurde nicht gefunden (möglicherweise fehlt eine using-Direktive oder ein Assemblyverweis).\r\n",
            "(19,7): error CS0246: Der Typ- oder Namespacename \"BoSSS\" wurde nicht gefunden (möglicherweise fehlt eine using-Direktive oder ein Assemblyverweis).\r\n",
            "(20,7): error CS0246: Der Typ- oder Namespacename \"BoSSS\" wurde nicht gefunden (möglicherweise fehlt eine using-Direktive oder ein Assemblyverweis).\r\n",
            "(21,7): error CS0246: Der Typ- oder Namespacename \"BoSSS\" wurde nicht gefunden (möglicherweise fehlt eine using-Direktive oder ein Assemblyverweis).\r\n",
            "(22,7): error CS0246: Der Typ- oder Namespacename \"BoSSS\" wurde nicht gefunden (möglicherweise fehlt eine using-Direktive oder ein Assemblyverweis).\r\n",
            "(23,7): error CS0246: Der Typ- oder Namespacename \"BoSSS\" wurde nicht gefunden (möglicherweise fehlt eine using-Direktive oder ein Assemblyverweis).\r\n",
            "(24,7): error CS0246: Der Typ- oder Namespacename \"BoSSS\" wurde nicht gefunden (möglicherweise fehlt eine using-Direktive oder ein Assemblyverweis).\r\n",
            "(25,14): error CS0246: Der Typ- oder Namespacename \"BoSSS\" wurde nicht gefunden (möglicherweise fehlt eine using-Direktive oder ein Assemblyverweis).\r\n",
            "(26,1): error CS0103: Der Name \"Init\" ist im aktuellen Kontext nicht vorhanden."
          ]
        }
      ],
      "metadata": {
        "dotnet_interactive": {
          "language": "csharp"
        }
      }
    },
    {
      "cell_type": "markdown",
      "source": [
        "Now, a new database has to be created.\r\n",
        "In this worksheet, we use a temporary database which will be deleted\r\n",
        "after the worksheet has been executed.\r\n",
        "For your calculation, you might consider some non-temporary alternative,\r\n",
        ">cf. *OpenOrCreateDatabase* or *OpenOrCreateDefaultDatabase*:"
      ],
      "metadata": {}
    },
    {
      "cell_type": "code",
      "execution_count": null,
      "source": [
        "\r\n",
        "var myDb = CreateTempDatabase();"
      ],
      "outputs": [],
      "metadata": {
        "dotnet_interactive": {
          "language": "csharp"
        }
      }
    },
    {
      "cell_type": "markdown",
      "source": [
        "Create a new control object for setting up the simulation:"
      ],
      "metadata": {}
    },
    {
      "cell_type": "code",
      "execution_count": null,
      "source": [
        "var c = new XNSE_Control();"
      ],
      "outputs": [],
      "metadata": {
        "dotnet_interactive": {
          "language": "csharp"
        }
      }
    },
    {
      "cell_type": "markdown",
      "source": [
        "# 4.1 How to define/change input data"
      ],
      "metadata": {}
    },
    {
      "cell_type": "markdown",
      "source": [
        "First, the DG polynomial degree is set:\r\n",
        "(degree 2 for velocity and 1 for pressure)."
      ],
      "metadata": {}
    },
    {
      "cell_type": "code",
      "execution_count": null,
      "source": [
        "\r\n",
        "c.SetDGdegree(2);"
      ],
      "outputs": [],
      "metadata": {
        "dotnet_interactive": {
          "language": "csharp"
        }
      }
    },
    {
      "cell_type": "markdown",
      "source": [
        "Domain and Grid variables are set (i.e. we get a channel with length 22 and height 4.1)"
      ],
      "metadata": {}
    },
    {
      "cell_type": "code",
      "execution_count": null,
      "source": [
        "double xMin        = -2; \r\n",
        "double xMax        = 20;\r\n",
        "double yMin        = -2; \r\n",
        "double yMax        = 2.1;\r\n",
        "int numberOfCellsX = 44; \r\n",
        "int numberOfCellsY = 8;"
      ],
      "outputs": [],
      "metadata": {
        "dotnet_interactive": {
          "language": "csharp"
        }
      }
    },
    {
      "cell_type": "markdown",
      "source": [
        "Basic database options "
      ],
      "metadata": {}
    },
    {
      "cell_type": "code",
      "execution_count": null,
      "source": [
        "\r\n",
        "c.SetDatabase(myDb);\r\n",
        "c.savetodb   = true;\r\n",
        "c.saveperiod = 1;"
      ],
      "outputs": [],
      "metadata": {
        "dotnet_interactive": {
          "language": "csharp"
        }
      }
    },
    {
      "cell_type": "markdown",
      "source": [
        "Setting some variables for database saving. Here it is also possible to define tags which can be helpful for finding a particular simulation in the **BoSSS** database"
      ],
      "metadata": {}
    },
    {
      "cell_type": "code",
      "execution_count": null,
      "source": [
        "\r\n",
        "string sessionName   = \"dt = 1E20_\" + numberOfCellsX + \"x\" + numberOfCellsY + \"_k2\";\r\n",
        "c.SessionName        = sessionName;\r\n",
        "c.ProjectDescription = \"Incompressible Solver Examples\";\r\n",
        "c.Tags.Add(\"numberOfCellsX_\" + numberOfCellsX);\r\n",
        "c.Tags.Add(\"numberOfCellsY_\" + numberOfCellsY);\r\n",
        "c.Tags.Add(\"k2\");"
      ],
      "outputs": [],
      "metadata": {
        "dotnet_interactive": {
          "language": "csharp"
        }
      }
    },
    {
      "cell_type": "markdown",
      "source": [
        "The grid is generated using the previously defined parameters."
      ],
      "metadata": {}
    },
    {
      "cell_type": "code",
      "execution_count": null,
      "source": [
        "c.GridFunc       = null; \r\n",
        "var xNodes       = GenericBlas.Linspace(xMin, xMax , numberOfCellsX);\r\n",
        "var yNodes       = GenericBlas.Linspace(yMin, yMax, numberOfCellsY);\r\n",
        "GridCommons grid = Grid2D.Cartesian2DGrid(xNodes, yNodes, CellType.Square_Linear, false);"
      ],
      "outputs": [],
      "metadata": {
        "dotnet_interactive": {
          "language": "csharp"
        }
      }
    },
    {
      "cell_type": "markdown",
      "source": [
        "Set the geometric location of boundary conditions by edge tags; Later we will assign values depending on these tags.\r\n",
        "\r\n",
        "Edges that get assigned \"0\" are \"inner edges\"."
      ],
      "metadata": {}
    },
    {
      "cell_type": "code",
      "execution_count": null,
      "source": [
        "grid.DefineEdgeTags(delegate (double[] X) {\r\n",
        "    if (Math.Abs(X[1] - (-2)) <= 1.0e-8)\r\n",
        "        return \"wall\"; // wall at y = -2\r\n",
        "    if (Math.Abs(X[1] - (+2.1 )) <= 1.0e-8)\r\n",
        "        return \"wall\"; // wall at y = +2.1\r\n",
        "    if (Math.Abs(X[0] - (-2)) <= 1.0e-8)\r\n",
        "        return \"Velocity_Inlet\"; // velocity inlet at x = -2\r\n",
        "    if (Math.Abs(X[0] - (+20.0)) <= 1.0e-8)\r\n",
        "        return \"Pressure_Outlet\"; // pressure outlet at x = +20\r\n",
        "    throw new ArgumentException(\"unexpected domain boundary\"); \r\n",
        "});"
      ],
      "outputs": [],
      "metadata": {
        "dotnet_interactive": {
          "language": "csharp"
        }
      }
    },
    {
      "cell_type": "markdown",
      "source": [
        "Save the grid in the database so that the simulation can use it"
      ],
      "metadata": {}
    },
    {
      "cell_type": "code",
      "execution_count": null,
      "source": [
        "grid"
      ],
      "outputs": [],
      "metadata": {
        "dotnet_interactive": {
          "language": "csharp"
        }
      }
    },
    {
      "cell_type": "code",
      "execution_count": null,
      "source": [
        "myDb.SaveGrid(ref grid);\r\n",
        "c.SetGrid(grid);"
      ],
      "outputs": [],
      "metadata": {
        "dotnet_interactive": {
          "language": "csharp"
        }
      }
    },
    {
      "cell_type": "markdown",
      "source": [
        "Specification of boundary conditions with a parabolic velocity profile for the inlet"
      ],
      "metadata": {}
    },
    {
      "cell_type": "code",
      "execution_count": null,
      "source": [
        "c.BoundaryValues.Clear();\r\n",
        "c.AddBoundaryValue(\"Velocity_Inlet\", \"VelocityX\", \r\n",
        "      (X => (4.1 * 1.5 * (X[1] + 2) * (4.1 - (X[1] + 2)) / (4.1 * 4.1))));"
      ],
      "outputs": [],
      "metadata": {
        "dotnet_interactive": {
          "language": "csharp"
        }
      }
    },
    {
      "cell_type": "markdown",
      "source": [
        "*Fluid Properties*\r\n",
        "\r\n",
        "Note: The characteristic length and fluid density are choosen to one. \r\n",
        "Therefore, the viscosity can be defined by $\\frac{1}{reynolds}$."
      ],
      "metadata": {}
    },
    {
      "cell_type": "code",
      "execution_count": null,
      "source": [
        "\r\n",
        "double reynolds            = 20;\r\n",
        "c.PhysicalParameters.rho_A = 1;\r\n",
        "c.PhysicalParameters.mu_A  = 1.0/reynolds;"
      ],
      "outputs": [],
      "metadata": {
        "dotnet_interactive": {
          "language": "csharp"
        }
      }
    },
    {
      "cell_type": "markdown",
      "source": [
        "Bool parameter whether the Navier-Stokes or Stokes equations\r\n",
        "should be solved"
      ],
      "metadata": {}
    },
    {
      "cell_type": "code",
      "execution_count": null,
      "source": [
        "c.PhysicalParameters.IncludeConvection = true;"
      ],
      "outputs": [],
      "metadata": {
        "dotnet_interactive": {
          "language": "csharp"
        }
      }
    },
    {
      "cell_type": "markdown",
      "source": [
        "Initial Values are set to 0; Note that the following lines are only for \r\n",
        "demonstration -- if no initial value is specified, 0 is set automatically."
      ],
      "metadata": {}
    },
    {
      "cell_type": "code",
      "execution_count": null,
      "source": [
        "c.InitialValues.Clear();\r\n",
        "c.InitialValues.Add(\"VelocityX\", new Formula(\"X => 0.0\", false));\r\n",
        "c.InitialValues.Add(\"VelocityY\", new Formula(\"X => 0.0\", false));\r\n",
        "c.InitialValues.Add(\"Pressure\", new Formula(\"X => 0.0\", false));"
      ],
      "outputs": [],
      "metadata": {
        "dotnet_interactive": {
          "language": "csharp"
        }
      }
    },
    {
      "cell_type": "markdown",
      "source": [
        "Timestepping properties:\r\n",
        "Most solvers in **BoSSS** simulate transient equations. Configuring\r\n",
        "a steady simulation confiures one very large timestep."
      ],
      "metadata": {}
    },
    {
      "cell_type": "code",
      "execution_count": null,
      "source": [
        "\r\n",
        "c.TimesteppingMode = AppControl._TimesteppingMode.Steady;"
      ],
      "outputs": [],
      "metadata": {
        "dotnet_interactive": {
          "language": "csharp"
        }
      }
    },
    {
      "cell_type": "markdown",
      "source": [
        "# 4.2 Run a simulation\r\n",
        "\r\n",
        "The solver can be run inline (i.e. within the *BoSSSpad* process) by \r\n",
        "executing the **Run** method on the control objece **c**.\r\n",
        "An inline run will block *BoSSSpad* until the solver exits."
      ],
      "metadata": {}
    },
    {
      "cell_type": "code",
      "execution_count": null,
      "source": [
        "\r\n",
        "c.Run();"
      ],
      "outputs": [],
      "metadata": {
        "dotnet_interactive": {
          "language": "csharp"
        }
      }
    },
    {
      "cell_type": "markdown",
      "source": [
        "# 4.3 Postprocessing\r\n",
        "\r\n",
        "In order to postprocess data we need to export it with the following command. This creates a folder containing the data as files (In Jupyter you need to copy the commands from the markdown into a code field to execute them)\r\n",
        "\r\n",
        "```csharp\r\n",
        "myDb.Sessions.First().Export().Do();\r\n",
        "```\r\n",
        "\r\n",
        "You can now go to the path and Plot the data using a programm you prefer (e.g. VisIt or Paraview)"
      ],
      "metadata": {}
    },
    {
      "cell_type": "markdown",
      "source": [
        "\r\n",
        "Open the ExportDirectory to view the *.plt files (does only work in BoSSSPad, but you should see the path from the commands before)\r\n",
        "```csharp\r\n",
        "myDb.Sessions.First().OpenExportDirectory();\r\n",
        "```\r\n",
        "Some information like the console output or a log containing various physical values can be found in the session directory (does only work in BoSSSPad, but you should see the path from the commands before)\r\n",
        "```csharp\r\n",
        "myDb.Sessions.First().OpenSessionDirectory();\r\n",
        "```\r\n",
        "Delete database\r\n",
        "```csharp\r\n",
        "DatabaseUtils.DeleteDatabase(myDb.Path); \r\n",
        "```"
      ],
      "metadata": {}
    },
    {
      "cell_type": "code",
      "execution_count": null,
      "source": [],
      "outputs": [],
      "metadata": {
        "dotnet_interactive": {
          "language": "csharp"
        }
      }
    },
    {
      "cell_type": "markdown",
      "source": [
        "# Immersed boundary method\r\n",
        "\r\n",
        "It is also possible to use the immersed boundary feature of our incompressible Navier-Stokes Solver.\r\n",
        "\r\n",
        "For this example we have to change two parts of the code: First, for a good result, we have to refine \r\n",
        "the grid at the position of the cylinder.\r\n",
        "\r\n",
        "\r\n",
        "x-Direction (using also hyperbolic tangential distribution)\r\n",
        "```csharp\r\n",
        "var _xNodes1 = Grid1D.TanhSpacing(-2, -1, 10, 0.5, false); \r\n",
        "_xNodes1     = _xNodes1.GetSubVector(0, (_xNodes1.Length - 1));\r\n",
        "var _xNodes2 = GenericBlas.Linspace(-1, 2, 35); \r\n",
        "_xNodes2     = _xNodes2.GetSubVector(0, (_xNodes2.Length - 1));\r\n",
        "var _xNodes3 = Grid1D.TanhSpacing(2, 20, 60 , 1.5, true);  \r\n",
        "var xNodes   = ArrayTools.Cat(_xNodes1, _xNodes2, _xNodes3);\r\n",
        "```\r\n",
        "\r\n",
        "y-Direction\r\n",
        "```csharp\r\n",
        "var _yNodes1 = Grid1D.TanhSpacing(-2, -1, 7, 0.9, false); \r\n",
        "_yNodes1     = _yNodes1.GetSubVector(0, (_yNodes1.Length - 1));\r\n",
        "var _yNodes2 = GenericBlas.Linspace(-1, 1, 25); \r\n",
        "_yNodes2     = _yNodes2.GetSubVector(0, (_yNodes2.Length - 1));\r\n",
        "var _yNodes3 = Grid1D.TanhSpacing(1, 2.1, 7, 1.1, true);  \r\n",
        "var yNodes   = ArrayTools.Cat(_yNodes1, _yNodes2, _yNodes3);\r\n",
        "```\r\n",
        "\r\n",
        "Furthermore, the cylinder immersing the fluid should be described\r\n",
        "by using the zero contour of a level set function. The radius of the cylinder is set to 0.5.\r\n",
        "\r\n",
        "```csharp\r\n",
        "c.InitialValues.Add(\"Phi\", new Formula(\"X => -(X[0]).Pow2() + -(X[1]).Pow2() + 0.25\", false));\r\n",
        "```\r\n",
        "\r\n",
        "Example control files for both,\r\n",
        "the channel and the flow around a cylinder can be found in the ControlExample directory. As soon as we run \r\n",
        "the simulation again we can take a look at the plots and the PhysicalData file in the session directory. \r\n",
        "There we can find for example lift and drag forces acting on the cylinder."
      ],
      "metadata": {}
    },
    {
      "cell_type": "code",
      "execution_count": null,
      "source": [],
      "outputs": [],
      "metadata": {
        "dotnet_interactive": {
          "language": "csharp"
        }
      }
    }
  ],
  "metadata": {
    "kernelspec": {
      "display_name": ".NET (C#)",
      "language": "C#",
      "name": ".net-csharp"
    },
    "language_info": {
      "file_extension": ".cs",
      "mimetype": "text/x-csharp",
      "name": "C#",
      "pygments_lexer": "csharp",
      "version": "8.0"
    }
  },
  "nbformat": 4,
  "nbformat_minor": 4
}