{
  "cells": [
    {
      "cell_type": "code",
      "execution_count": 1,
      "metadata": {
        "dotnet_interactive": {
          "language": "csharp"
        }
      },
      "source": [
        "#r \"C:\\experimental\\public\\src\\L4-application\\BoSSSpad\\bin\\Release\\net5.0\\BoSSSpad.dll\"\n",
        "using System;\n",
        "using System.Collections.Generic;\n",
        "using System.Linq;\n",
        "using ilPSP;\n",
        "using ilPSP.Utils;\n",
        "using BoSSS.Platform;\n",
        "using BoSSS.Platform.LinAlg;\n",
        "using BoSSS.Foundation;\n",
        "using BoSSS.Foundation.XDG;\n",
        "using BoSSS.Foundation.Grid;\n",
        "using BoSSS.Foundation.Grid.Classic;\n",
        "using BoSSS.Foundation.Grid.RefElements;\n",
        "using BoSSS.Foundation.IO;\n",
        "using BoSSS.Solution;\n",
        "using BoSSS.Solution.Control;\n",
        "using BoSSS.Solution.GridImport;\n",
        "using BoSSS.Solution.Statistic;\n",
        "using BoSSS.Solution.Utils;\n",
        "using BoSSS.Solution.AdvancedSolvers;\n",
        "using BoSSS.Solution.Gnuplot;\n",
        "using BoSSS.Application.BoSSSpad;\n",
        "using BoSSS.Application.XNSE_Solver;\n",
        "using static BoSSS.Application.BoSSSpad.BoSSSshell;\n",
        "Init();\n",
        ""
      ],
      "outputs": []
    },
    {
      "cell_type": "code",
      "execution_count": 1,
      "metadata": {
        "dotnet_interactive": {
          "language": "csharp"
        }
      },
      "source": [
        "var tempDB = OpenOrCreateDatabase(\"C:\\\\tmp\\\\Newton\");"
      ],
      "outputs": []
    },
    {
      "cell_type": "code",
      "execution_count": 1,
      "metadata": {
        "dotnet_interactive": {
          "language": "csharp"
        }
      },
      "source": [
        "databases;"
      ],
      "outputs": []
    },
    {
      "cell_type": "code",
      "execution_count": 1,
      "metadata": {
        "dotnet_interactive": {
          "language": "csharp"
        }
      },
      "source": [
        "ExecutionQueues;"
      ],
      "outputs": []
    },
    {
      "cell_type": "code",
      "execution_count": 1,
      "metadata": {
        "dotnet_interactive": {
          "language": "csharp"
        }
      },
      "source": [
        "var mainDB = tempDB;"
      ],
      "outputs": []
    },
    {
      "cell_type": "code",
      "execution_count": 1,
      "metadata": {
        "dotnet_interactive": {
          "language": "csharp"
        }
      },
      "source": [
        "var mainQueue = ExecutionQueues[0];"
      ],
      "outputs": []
    },
    {
      "cell_type": "code",
      "execution_count": 1,
      "metadata": {
        "dotnet_interactive": {
          "language": "csharp"
        }
      },
      "source": [
        "WorkflowMgm.Init(\"NonlinearSolverBenchmark\");"
      ],
      "outputs": []
    },
    {
      "cell_type": "code",
      "execution_count": 1,
      "metadata": {
        "dotnet_interactive": {
          "language": "csharp"
        }
      },
      "source": [
        "WorkflowMgm.SetEqualityBasedSessionJobControllCorrelation();"
      ],
      "outputs": []
    },
    {
      "cell_type": "code",
      "execution_count": 1,
      "metadata": {
        "dotnet_interactive": {
          "language": "csharp"
        }
      },
      "source": [
        "using BoSSS.Application.IBM_Solver;"
      ],
      "outputs": []
    },
    {
      "cell_type": "code",
      "execution_count": 1,
      "metadata": {
        "dotnet_interactive": {
          "language": "csharp"
        }
      },
      "source": [
        "// --------------\n",
        "// specify meshes \n",
        "// --------------"
      ],
      "outputs": []
    },
    {
      "cell_type": "code",
      "execution_count": 1,
      "metadata": {
        "dotnet_interactive": {
          "language": "csharp"
        }
      },
      "source": [
        "// grid creation loop:"
      ],
      "outputs": []
    },
    {
      "cell_type": "code",
      "execution_count": 1,
      "metadata": {
        "dotnet_interactive": {
          "language": "csharp"
        }
      },
      "source": [
        "IGridInfo[] grids = new IGridInfo[1];\n",
        "for(int i = 0; i < grids.Length; i++) {\n",
        "    var gDb = mainDB.Grids.SingleOrDefault(gi => gi.ID == new Guid(\"3572ea5c-3090-4c26-a479-260809a7c40c\"));\n",
        "    if(gDb != null) {\n",
        "        // grid already created\n",
        "        Console.WriteLine(\"found \" + gDb.ToString());\n",
        "        grids[i] = gDb;\n",
        "        continue;\n",
        "    }\n",
        "    \n",
        "    int nx = 21*5*(i+1);\n",
        "    int ny = 21*(i+1);\n",
        "    int nz = ny;\n",
        "    double[] xNodes = GenericBlas.Linspace(-5,+5, nx + 1);   \n",
        "    double[] yNodes = GenericBlas.Linspace(-1,+1, ny + 1);\n",
        "    double[] zNodes = GenericBlas.Linspace(-1,+1, nz + 1);\n",
        "    \n",
        "    \n",
        "    Console.WriteLine(\"Creating grid with \" + (nx*ny*nz) + \" cells ...\");\n",
        "    \n",
        "    var grd = Grid3D.Cartesian3DGrid(xNodes, yNodes, zNodes);\n",
        "    \n",
        "    \n",
        "    grd.DefineEdgeTags(delegate(double[] X) {\n",
        "       double x = X[0];\n",
        "       if(Math.Abs(x - (-5.0)) < 1e-8) {\n",
        "           return \"Velocity_Inlet_front\";    \n",
        "           \n",
        "       } else if(Math.Abs(x - (+5.0)) < 1.0e-8) {\n",
        "           return \"Pressure_Outlet_back\";    \n",
        "       } else {\n",
        "           return \"walls\";\n",
        "       }\n",
        "    });\n",
        "    \n",
        "    Console.WriteLine(\"done.\");\n",
        "    Console.WriteLine(\"Saving to database ...\");\n",
        "    mainDB.SaveGrid(ref grd);\n",
        "    grids[i] = grd;\n",
        "    Console.WriteLine(\"done.\");\n",
        "}"
      ],
      "outputs": []
    },
    {
      "cell_type": "code",
      "execution_count": 1,
      "metadata": {
        "dotnet_interactive": {
          "language": "csharp"
        }
      },
      "source": [
        "// -------------------------\n",
        "// further parameter ranges\n",
        "// -------------------------"
      ],
      "outputs": []
    },
    {
      "cell_type": "code",
      "execution_count": 1,
      "metadata": {
        "dotnet_interactive": {
          "language": "csharp"
        }
      },
      "source": [
        "var codes = new NonLinearSolverCode[]{NonLinearSolverCode.Picard, NonLinearSolverCode.Newton } ;"
      ],
      "outputs": []
    },
    {
      "cell_type": "code",
      "execution_count": 1,
      "metadata": {
        "dotnet_interactive": {
          "language": "csharp"
        }
      },
      "source": [
        "var ReynoldsS = new double[] { 1, 2, 10, 20, 100, 200.0 };"
      ],
      "outputs": []
    },
    {
      "cell_type": "code",
      "execution_count": 1,
      "metadata": {
        "dotnet_interactive": {
          "language": "csharp"
        }
      },
      "source": [
        "var DGdegree = new int[] { 1, 2, 3 };"
      ],
      "outputs": []
    },
    {
      "cell_type": "code",
      "execution_count": 1,
      "metadata": {
        "dotnet_interactive": {
          "language": "csharp"
        }
      },
      "source": [
        "// -----------------------\n",
        "// specify control objects\n",
        "// -----------------------"
      ],
      "outputs": []
    },
    {
      "cell_type": "code",
      "execution_count": 1,
      "metadata": {
        "dotnet_interactive": {
          "language": "csharp"
        }
      },
      "source": [
        "//grids[0].Describe();"
      ],
      "outputs": []
    },
    {
      "cell_type": "code",
      "execution_count": 1,
      "metadata": {
        "dotnet_interactive": {
          "language": "csharp"
        }
      },
      "source": [
        "var controls = new List<IBM_Control>();"
      ],
      "outputs": []
    },
    {
      "cell_type": "code",
      "execution_count": 1,
      "metadata": {
        "dotnet_interactive": {
          "language": "csharp"
        }
      },
      "source": [
        "controls.Clear();\n",
        "foreach(var g in grids) {\n",
        "foreach(var p in DGdegree) {\n",
        "foreach(var Rey in ReynoldsS) {\n",
        "    var c1 = new IBM_Control();\n",
        "    c1.SetDGdegree(p);\n",
        "    c1.SetGrid(g);\n",
        "    c1.SetDatabase(mainDB);\n",
        "    c1.SessionName = string.Format(\"IBMsphere-Rey{0}-J{0}p{1}\", Rey, g.NumberOfCells, p);\n",
        "\n",
        "    c1.InitialValues.Add(\"Phi\", \n",
        "       new Formula(\"X => -(X[0]).Pow2() + -(X[1]).Pow2() + -(X[2]).Pow2() + 0.5\"));\n",
        "    c1.AddBoundaryValue(\"Velocity_Inlet_front\", \"VelocityX\", \n",
        "       new Formula(\"X => 1.0\"));\n",
        "    c1.AddBoundaryValue(\"walls\", \"VelocityX\", \n",
        "      new Formula(\"X => 1.0\"));\n",
        "\n",
        "    c1.PhysicalParameters.rho_A = 1.0;\n",
        "    c1.PhysicalParameters.mu_A  = 1.0/Rey;\n",
        "    c1.TimesteppingMode         = AppControl._TimesteppingMode.Steady;\n",
        "}\n",
        "}\n",
        "}"
      ],
      "outputs": []
    },
    {
      "cell_type": "code",
      "execution_count": 1,
      "metadata": {
        "dotnet_interactive": {
          "language": "csharp"
        }
      },
      "source": [
        ""
      ],
      "outputs": []
    },
    {
      "cell_type": "code",
      "execution_count": 1,
      "metadata": {
        "dotnet_interactive": {
          "language": "csharp"
        }
      },
      "source": [
        ""
      ],
      "outputs": []
    },
    {
      "cell_type": "code",
      "execution_count": 1,
      "metadata": {
        "dotnet_interactive": {
          "language": "csharp"
        }
      },
      "source": [
        ""
      ],
      "outputs": []
    },
    {
      "cell_type": "code",
      "execution_count": 1,
      "metadata": {
        "dotnet_interactive": {
          "language": "csharp"
        }
      },
      "source": [
        ""
      ],
      "outputs": []
    },
    {
      "cell_type": "code",
      "execution_count": 1,
      "metadata": {
        "dotnet_interactive": {
          "language": "csharp"
        }
      },
      "source": [
        ""
      ],
      "outputs": []
    },
    {
      "cell_type": "code",
      "execution_count": 1,
      "metadata": {
        "dotnet_interactive": {
          "language": "csharp"
        }
      },
      "source": [
        ""
      ],
      "outputs": []
    },
    {
      "cell_type": "code",
      "execution_count": 1,
      "metadata": {
        "dotnet_interactive": {
          "language": "csharp"
        }
      },
      "source": [
        ""
      ],
      "outputs": []
    },
    {
      "cell_type": "code",
      "execution_count": 1,
      "metadata": {
        "dotnet_interactive": {
          "language": "csharp"
        }
      },
      "source": [
        ""
      ],
      "outputs": []
    },
    {
      "cell_type": "code",
      "execution_count": 1,
      "metadata": {
        "dotnet_interactive": {
          "language": "csharp"
        }
      },
      "source": [
        ""
      ],
      "outputs": []
    },
    {
      "cell_type": "code",
      "execution_count": 1,
      "metadata": {
        "dotnet_interactive": {
          "language": "csharp"
        }
      },
      "source": [
        "foreach(var c1 in controls) {\n",
        "    var j1 = c1.CreateJob();\n",
        "    j1.Activate(mainQueue);\n",
        "}"
      ],
      "outputs": []
    },
    {
      "cell_type": "code",
      "execution_count": 1,
      "metadata": {
        "dotnet_interactive": {
          "language": "csharp"
        }
      },
      "source": [
        "j1.RetryCount = 1;"
      ],
      "outputs": []
    },
    {
      "cell_type": "code",
      "execution_count": 1,
      "metadata": {
        "dotnet_interactive": {
          "language": "csharp"
        }
      },
      "source": [
        "j1.Activate(mainQueue);"
      ],
      "outputs": []
    },
    {
      "cell_type": "code",
      "execution_count": 1,
      "metadata": {
        "dotnet_interactive": {
          "language": "csharp"
        }
      },
      "source": [
        "j1.ShowOutput();"
      ],
      "outputs": []
    },
    {
      "cell_type": "code",
      "execution_count": 1,
      "metadata": {
        "dotnet_interactive": {
          "language": "csharp"
        }
      },
      "source": [
        "j1.Status;"
      ],
      "outputs": []
    },
    {
      "cell_type": "code",
      "execution_count": 1,
      "metadata": {
        "dotnet_interactive": {
          "language": "csharp"
        }
      },
      "source": [
        "j1.Stdout;"
      ],
      "outputs": []
    },
    {
      "cell_type": "code",
      "execution_count": 1,
      "metadata": {
        "dotnet_interactive": {
          "language": "csharp"
        }
      },
      "source": [
        "j1.Stderr;"
      ],
      "outputs": []
    },
    {
      "cell_type": "code",
      "execution_count": 1,
      "metadata": {
        "dotnet_interactive": {
          "language": "csharp"
        }
      },
      "source": [
        "j1.BatchProcessorIdentifierToken;"
      ],
      "outputs": []
    },
    {
      "cell_type": "code",
      "execution_count": 1,
      "metadata": {
        "dotnet_interactive": {
          "language": "csharp"
        }
      },
      "source": [
        "j1.LatestSession.DeployPath;"
      ],
      "outputs": []
    },
    {
      "cell_type": "code",
      "execution_count": 1,
      "metadata": {
        "dotnet_interactive": {
          "language": "csharp"
        }
      },
      "source": [
        "j1.DeploymentDirectory;"
      ],
      "outputs": []
    },
    {
      "cell_type": "code",
      "execution_count": 1,
      "metadata": {
        "dotnet_interactive": {
          "language": "csharp"
        }
      },
      "source": [
        "//j1.LatestSession.OpenSessionDirectory();"
      ],
      "outputs": []
    },
    {
      "cell_type": "code",
      "execution_count": 1,
      "metadata": {
        "dotnet_interactive": {
          "language": "csharp"
        }
      },
      "source": [
        "var rl = j1.LatestSession.Residuals();"
      ],
      "outputs": []
    },
    {
      "cell_type": "code",
      "execution_count": 1,
      "metadata": {
        "dotnet_interactive": {
          "language": "csharp"
        }
      },
      "source": [
        "rl;"
      ],
      "outputs": []
    },
    {
      "cell_type": "code",
      "execution_count": 1,
      "metadata": {
        "dotnet_interactive": {
          "language": "csharp"
        }
      },
      "source": [
        "LastError;"
      ],
      "outputs": []
    },
    {
      "cell_type": "code",
      "execution_count": 1,
      "metadata": {
        "dotnet_interactive": {
          "language": "csharp"
        }
      },
      "source": [
        "rl.GetType();"
      ],
      "outputs": []
    },
    {
      "cell_type": "code",
      "execution_count": 1,
      "metadata": {
        "dotnet_interactive": {
          "language": "csharp"
        }
      },
      "source": [
        "rl.Values.Keys"
      ],
      "outputs": []
    },
    {
      "cell_type": "code",
      "execution_count": 1,
      "metadata": {
        "dotnet_interactive": {
          "language": "csharp"
        }
      },
      "source": [
        "static class MyUtils {\n",
        "\n",
        "    public static int[] Indices4Ts(ResidualLog log, int Timestep) {\n",
        "        var r         = new List<int>();\n",
        "        var timesteps = log.Values[\"#Time\"];\n",
        "        for(int a = 0; a < timesteps.Count; a++) {\n",
        "            if(timesteps[a] == Timestep) {\n",
        "                r.Add(a);\n",
        "            }\n",
        "        }\n",
        "        return r.ToArray();\n",
        "    }\n",
        "    \n",
        "    static public double[] TotResidual(ResidualLog log, int Timestep) {\n",
        "        string[] Cols = log.Values.Keys.Where(name => !name.StartsWith(\"#\")).ToArray();\n",
        "        int[] lines = Indices4Ts(log, Timestep);\n",
        "        \n",
        "        double[] ret = new double[lines.Length];\n",
        "        foreach(var col in Cols) {\n",
        "            var colVals = log.Values[col];    \n",
        "            for(int i = 0; i < lines.Length; i++) {\n",
        "                ret[i] += colVals[lines[i]].Pow2();    \n",
        "            }\n",
        "        }\n",
        "        \n",
        "        for(int i = 0; i < lines.Length; i++) {\n",
        "            ret[i] = Math.Sqrt(ret[i]);\n",
        "        }\n",
        "        \n",
        "        return ret;\n",
        "    }\n",
        "}"
      ],
      "outputs": []
    },
    {
      "cell_type": "code",
      "execution_count": 1,
      "metadata": {
        "dotnet_interactive": {
          "language": "csharp"
        }
      },
      "source": [
        "MyUtils.Indices4Ts(rl, 2);"
      ],
      "outputs": []
    },
    {
      "cell_type": "code",
      "execution_count": 1,
      "metadata": {
        "dotnet_interactive": {
          "language": "csharp"
        }
      },
      "source": [
        "MyUtils.TotResidual(rl, 1);"
      ],
      "outputs": []
    },
    {
      "cell_type": "code",
      "execution_count": 1,
      "metadata": {
        "dotnet_interactive": {
          "language": "csharp"
        }
      },
      "source": [
        ""
      ],
      "outputs": []
    },
    {
      "cell_type": "code",
      "execution_count": 1,
      "metadata": {
        "dotnet_interactive": {
          "language": "csharp"
        }
      },
      "source": [
        ""
      ],
      "outputs": []
    },
    {
      "cell_type": "code",
      "execution_count": 1,
      "metadata": {
        "dotnet_interactive": {
          "language": "csharp"
        }
      },
      "source": [
        ""
      ],
      "outputs": []
    },
    {
      "cell_type": "code",
      "execution_count": 1,
      "metadata": {
        "dotnet_interactive": {
          "language": "csharp"
        }
      },
      "source": [
        ""
      ],
      "outputs": []
    },
    {
      "cell_type": "code",
      "execution_count": 1,
      "metadata": {
        "dotnet_interactive": {
          "language": "csharp"
        }
      },
      "source": [
        ""
      ],
      "outputs": []
    },
    {
      "cell_type": "code",
      "execution_count": 1,
      "metadata": {
        "dotnet_interactive": {
          "language": "csharp"
        }
      },
      "source": [
        ""
      ],
      "outputs": []
    },
    {
      "cell_type": "code",
      "execution_count": 1,
      "metadata": {
        "dotnet_interactive": {
          "language": "csharp"
        }
      },
      "source": [
        ""
      ],
      "outputs": []
    },
    {
      "cell_type": "code",
      "execution_count": 1,
      "metadata": {
        "dotnet_interactive": {
          "language": "csharp"
        }
      },
      "source": [
        ""
      ],
      "outputs": []
    }
  ],
  "metadata": {
    "kernelspec": {
      "display_name": ".NET (C#)",
      "language": "C#",
      "name": ".net-csharp"
    },
    "language_info": {
      "file_extension": ".cs",
      "mimetype": "text/x-csharp",
      "name": "C#",
      "pygments_lexer": "csharp",
      "version": "8.0"
    }
  },
  "nbformat": 4,
  "nbformat_minor": 4
}