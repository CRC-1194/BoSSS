{
 "cells": [
  {
   "cell_type": "markdown",
   "id": "3b3d3e0a",
   "metadata": {},
   "source": [
    "# Memory profiling of MPI-parallel runs\n",
    "\n",
    "## Initialization\n",
    "\n",
    "In order to execute the individual solver runs,\n",
    "we are going to employ the mini batch processor,\n",
    "for running the calculations on the local machine.\n",
    "We also have to initialize the workflow management system and create \n",
    "a database.\n",
    "\n",
    "Note: \n",
    "1. This tutorial can be found in the source code repository as as `convStudy.ipynb`. \n",
    "   One can directly load this into Jupyter to interactively work with the following code examples.\n",
    "2. **In the following line, the reference to `BoSSSpad.dll` is required**. \n",
    "   You must either set `#r \"BoSSSpad.dll\"` to something which is appropirate for your computer\n",
    "   (e.g. `C:\\Program Files (x86)\\FDY\\BoSSS\\bin\\Release\\net5.0\\BoSSSpad.dll` if you installed the binary distribution),\n",
    "   or, if you are working with the source code, you must compile `BoSSSpad` and put it side-by-side to this worksheet file\n",
    "   (from the original location in the repository, you can use the scripts `getbossspad.sh`, resp. `getbossspad.bat`)."
   ]
  },
  {
   "cell_type": "code",
   "execution_count": null,
   "id": "b1b0da91",
   "metadata": {},
   "outputs": [],
   "source": [
    "#r \"BoSSSpad.dll\"\n",
    "using static BoSSS.Application.BoSSSpad.BoSSSshell;\n",
    "Init();"
   ]
  },
  {
   "cell_type": "code",
   "execution_count": null,
   "id": "217be03c",
   "metadata": {},
   "outputs": [],
   "source": [
    "using System;\n",
    "using System.Collections.Generic;\n",
    "using System.Linq;\n",
    "using ilPSP;\n",
    "using ilPSP.Utils;\n",
    "using BoSSS.Platform;\n",
    "using BoSSS.Platform.Utils.Geom;\n",
    "using BoSSS.Foundation;\n",
    "using BoSSS.Foundation.Grid;\n",
    "using BoSSS.Foundation.Grid.Classic;\n",
    "using BoSSS.Foundation.IO;\n",
    "using BoSSS.Solution;\n",
    "using BoSSS.Solution.Control;\n",
    "using BoSSS.Solution.GridImport;\n",
    "using BoSSS.Solution.Statistic;\n",
    "using BoSSS.Solution.Utils;\n",
    "using BoSSS.Solution.Gnuplot;\n",
    "using BoSSS.Application.BoSSSpad;\n",
    "using BoSSS.Application.XNSE_Solver;\n",
    "using BoSSS.Application.GridGen;"
   ]
  },
  {
   "cell_type": "code",
   "execution_count": null,
   "id": "c24ccae7",
   "metadata": {},
   "outputs": [],
   "source": [
    "BoSSSshell.WorkflowMgm.Init(\"memprofile\");\n",
    "wmg.SetNameBasedSessionJobControlCorrelation();"
   ]
  },
  {
   "cell_type": "code",
   "execution_count": null,
   "id": "b08d7c70",
   "metadata": {},
   "outputs": [],
   "source": [
    "GetDefaultQueue()"
   ]
  },
  {
   "cell_type": "code",
   "execution_count": null,
   "id": "43b9eb49",
   "metadata": {},
   "outputs": [],
   "source": []
  },
  {
   "cell_type": "markdown",
   "id": "6e3dd754",
   "metadata": {},
   "source": [
    "## Memory instrumetation of grid generation\n",
    "\n",
    "### Peform runs"
   ]
  },
  {
   "cell_type": "code",
   "execution_count": null,
   "id": "d96553f1",
   "metadata": {},
   "outputs": [],
   "source": [
    "int[] Resolutions_3D = new int[] { 256 };\n",
    "int[] NoOfProcs = new int[] { 8, 16, 32, 64 };\n",
    "var ggcS = new List<(GridGenControl C, int MPIsize)>();\n",
    "\n",
    "foreach(int MPIzs in NoOfProcs) {\n",
    "for(int cnt = 0; cnt < Resolutions_3D.Length; cnt++) {\n",
    "    int Res = Resolutions_3D[cnt];    \n",
    "    \n",
    "    double[] _xNodes = GenericBlas.Linspace(-1, +1, Res + 1);\n",
    "    double[] _yNodes = GenericBlas.Linspace(-1, +1, Res + 1);\n",
    "    double[] _zNodes = GenericBlas.Linspace(-1, +1, Res + 1);\n",
    "    int J = (_xNodes.Length - 1)*(_yNodes.Length - 1)*(_zNodes.Length - 1);\n",
    "    \n",
    "    string GridName = string.Format(wmg.CurrentProject + \"-MeshInit_J\" + J + \"_Sz\" + MPIzs);\n",
    "    \n",
    "    {\n",
    "        //int NoOfProcs = (int) Math.Min(182, Math.Max(1, Math.Ceiling(J/200000.0)));\n",
    "        Console.WriteLine(\"Must create: \" + GridName + \" with \" + MPIzs + \" processors.\");\n",
    "        \n",
    "        var C = new GridGenControl();\n",
    "        ggcS.Add((C, MPIzs));\n",
    "        C.SetDatabase(wmg.DefaultDatabase);\n",
    "        \n",
    "        C.GridName = GridName;\n",
    "        \n",
    "        // ***********************************************************\n",
    "        C.MemoryInstrumentationLevel = ilPSP.Tracing.MemoryInstrumentationLevel.GcAndPrivateMemory;\n",
    "        // ***********************************************************\n",
    "\n",
    "        C.GridBlocks = new GridGenControl.MeshBlock[] {\n",
    "            new GridGenControl.Cartesian3D() {\n",
    "                xNodes = _xNodes,\n",
    "                yNodes = _yNodes,\n",
    "                zNodes = _zNodes\n",
    "            }\n",
    "        };\n",
    "\n",
    "        C.BoundaryRegions.Add((\n",
    "            new BoundingBox(new double[] { -1-1e-8, -2, -2 }, new double[] { -1+1e-8, +2, +2 }), \n",
    "            \"wall_left\"));\n",
    "        C.BoundaryRegions.Add((\n",
    "            new BoundingBox(new double[] { +1-1e-8, -2, -2 }, new double[] { +1+1e-8, +2, +2 }), \n",
    "            \"wall_right\"));\n",
    "        C.BoundaryRegions.Add((\n",
    "            new BoundingBox(new double[] { -2, -1-1e-8, -2 }, new double[] { +2, -1+1e-8, +2 }), \n",
    "            \"wall_front\"));\n",
    "        C.BoundaryRegions.Add((\n",
    "            new BoundingBox(new double[] { -2, +1-1e-8, -2 }, new double[] { +2, +1+1e-8, +2 }), \n",
    "            \"wall_back\"));\n",
    "        C.BoundaryRegions.Add((\n",
    "            new BoundingBox(new double[] { -2, -2, -1-1e-8 }, new double[] { +2, +2, -1+1e-8 }), \n",
    "            \"wall_top\"));\n",
    "        C.BoundaryRegions.Add((\n",
    "            new BoundingBox(new double[] { -2, -2, +1-1e-8 }, new double[] { +2, +2, +1+1e-8 }), \n",
    "            \"wall_bottom\"));\n",
    "        \n",
    "        \n",
    "        C.SessionName = \"GridCreation-\" + GridName;\n",
    "    } \n",
    "}\n",
    "}"
   ]
  },
  {
   "cell_type": "code",
   "execution_count": null,
   "id": "59faaf83",
   "metadata": {},
   "outputs": [],
   "source": [
    "ggcS"
   ]
  },
  {
   "cell_type": "code",
   "execution_count": null,
   "id": "c21e7b38",
   "metadata": {},
   "outputs": [],
   "source": [
    "foreach(var tt in ggcS) {\n",
    "    Console.WriteLine(\" Submitting: \" + tt.C.SessionName); \n",
    "    var j = tt.C.CreateJob();\n",
    "    j.RetryCount = 1;\n",
    "    j.NumberOfMPIProcs = tt.MPIsize;\n",
    "    j.Activate();\n",
    "}"
   ]
  },
  {
   "cell_type": "code",
   "execution_count": null,
   "id": "ccf34f22",
   "metadata": {},
   "outputs": [],
   "source": [
    "wmg.BlockUntilAllJobsTerminate(3600); // wait at maximum one hour\n",
    "wmg.AllJobs"
   ]
  },
  {
   "cell_type": "markdown",
   "id": "20e4650e",
   "metadata": {},
   "source": [
    "### Analysis and plot"
   ]
  },
  {
   "cell_type": "code",
   "execution_count": null,
   "id": "b8623405",
   "metadata": {},
   "outputs": [],
   "source": [
    "var plot = wmg.Sessions.GetMPItotalMemory();"
   ]
  },
  {
   "cell_type": "code",
   "execution_count": null,
   "id": "fa725efe",
   "metadata": {},
   "outputs": [],
   "source": [
    "plot.PlotNow()"
   ]
  },
  {
   "cell_type": "code",
   "execution_count": null,
   "id": "09cb886d",
   "metadata": {},
   "outputs": [],
   "source": [
    "plot."
   ]
  }
 ],
 "metadata": {
  "kernelspec": {
   "display_name": ".NET (C#)",
   "language": "C#",
   "name": ".net-csharp"
  },
  "language_info": {
   "file_extension": ".cs",
   "mimetype": "text/x-csharp",
   "name": "C#",
   "pygments_lexer": "csharp",
   "version": "10.0"
  }
 },
 "nbformat": 4,
 "nbformat_minor": 5
}
