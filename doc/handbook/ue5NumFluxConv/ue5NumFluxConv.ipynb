{
 "cells": [
  {
   "cell_type": "code",
   "execution_count": 1,
   "metadata": {
    "dotnet_interactive": {
     "language": "csharp"
    }
   },
   "outputs": [
    {
     "data": {
      "text/html": [
       "\r\n",
       "<div>\r\n",
       "    <div id='dotnet-interactive-this-cell-19980.Microsoft.DotNet.Interactive.Http.HttpPort' style='display: none'>\r\n",
       "        The below script needs to be able to find the current output cell; this is an easy method to get it.\r\n",
       "    </div>\r\n",
       "    <script type='text/javascript'>\r\n",
       "async function probeAddresses(probingAddresses) {\r\n",
       "    function timeout(ms, promise) {\r\n",
       "        return new Promise(function (resolve, reject) {\r\n",
       "            setTimeout(function () {\r\n",
       "                reject(new Error('timeout'))\r\n",
       "            }, ms)\r\n",
       "            promise.then(resolve, reject)\r\n",
       "        })\r\n",
       "    }\r\n",
       "\r\n",
       "    if (Array.isArray(probingAddresses)) {\r\n",
       "        for (let i = 0; i < probingAddresses.length; i++) {\r\n",
       "\r\n",
       "            let rootUrl = probingAddresses[i];\r\n",
       "\r\n",
       "            if (!rootUrl.endsWith('/')) {\r\n",
       "                rootUrl = `${rootUrl}/`;\r\n",
       "            }\r\n",
       "\r\n",
       "            try {\r\n",
       "                let response = await timeout(1000, fetch(`${rootUrl}discovery`, {\r\n",
       "                    method: 'POST',\r\n",
       "                    cache: 'no-cache',\r\n",
       "                    mode: 'cors',\r\n",
       "                    timeout: 1000,\r\n",
       "                    headers: {\r\n",
       "                        'Content-Type': 'text/plain'\r\n",
       "                    },\r\n",
       "                    body: probingAddresses[i]\r\n",
       "                }));\r\n",
       "\r\n",
       "                if (response.status == 200) {\r\n",
       "                    return rootUrl;\r\n",
       "                }\r\n",
       "            }\r\n",
       "            catch (e) { }\r\n",
       "        }\r\n",
       "    }\r\n",
       "}\r\n",
       "\r\n",
       "function loadDotnetInteractiveApi() {\r\n",
       "    probeAddresses([\"http://192.168.56.1:1000/\", \"http://130.83.248.204:1000/\", \"http://169.254.241.121:1000/\", \"http://172.18.114.81:1000/\", \"http://127.0.0.1:1000/\"])\r\n",
       "        .then((root) => {\r\n",
       "        // use probing to find host url and api resources\r\n",
       "        // load interactive helpers and language services\r\n",
       "        let dotnetInteractiveRequire = require.config({\r\n",
       "        context: '19980.Microsoft.DotNet.Interactive.Http.HttpPort',\r\n",
       "                paths:\r\n",
       "            {\r\n",
       "                'dotnet-interactive': `${root}resources`\r\n",
       "                }\r\n",
       "        }) || require;\r\n",
       "\r\n",
       "            window.dotnetInteractiveRequire = dotnetInteractiveRequire;\r\n",
       "\r\n",
       "            window.configureRequireFromExtension = function(extensionName, extensionCacheBuster) {\r\n",
       "                let paths = {};\r\n",
       "                paths[extensionName] = `${root}extensions/${extensionName}/resources/`;\r\n",
       "                \r\n",
       "                let internalRequire = require.config({\r\n",
       "                    context: extensionCacheBuster,\r\n",
       "                    paths: paths,\r\n",
       "                    urlArgs: `cacheBuster=${extensionCacheBuster}`\r\n",
       "                    }) || require;\r\n",
       "\r\n",
       "                return internalRequire\r\n",
       "            };\r\n",
       "        \r\n",
       "            dotnetInteractiveRequire([\r\n",
       "                    'dotnet-interactive/dotnet-interactive'\r\n",
       "                ],\r\n",
       "                function (dotnet) {\r\n",
       "                    dotnet.init(window);\r\n",
       "                },\r\n",
       "                function (error) {\r\n",
       "                    console.log(error);\r\n",
       "                }\r\n",
       "            );\r\n",
       "        })\r\n",
       "        .catch(error => {console.log(error);});\r\n",
       "    }\r\n",
       "\r\n",
       "// ensure `require` is available globally\r\n",
       "if ((typeof(require) !==  typeof(Function)) || (typeof(require.config) !== typeof(Function))) {\r\n",
       "    let require_script = document.createElement('script');\r\n",
       "    require_script.setAttribute('src', 'https://cdnjs.cloudflare.com/ajax/libs/require.js/2.3.6/require.min.js');\r\n",
       "    require_script.setAttribute('type', 'text/javascript');\r\n",
       "    \r\n",
       "    \r\n",
       "    require_script.onload = function() {\r\n",
       "        loadDotnetInteractiveApi();\r\n",
       "    };\r\n",
       "\r\n",
       "    document.getElementsByTagName('head')[0].appendChild(require_script);\r\n",
       "}\r\n",
       "else {\r\n",
       "    loadDotnetInteractiveApi();\r\n",
       "}\r\n",
       "\r\n",
       "    </script>\r\n",
       "</div>"
      ]
     },
     "metadata": {},
     "output_type": "display_data"
    }
   ],
   "source": [
    "///\\section*{What's new}\n",
    "///\\begin{itemize}\n",
    "/// \\item implementing the Lax-Friedrichs flux\n",
    "/// \\item computation of \"experimental order of convergence\" (EOC)\n",
    "///\\end{itemize}\n",
    "///\n",
    "///\\section*{Prerequisites}\n",
    "///\\begin{itemize}\n",
    "/// \\item definition of fluxes, chapter \\ref{SpatialOperator}\n",
    "/// \\item grid generation, chapter \\ref{GridInstantiation}\n",
    "/// \\item basics of convergence studies, chapter \\ref{GridInstantiation}\n",
    "///\\end{itemize}\n",
    "///Within this tutorial the Lax-Friedrichs flux will be implemented as an alternative to the Upwind flux (see chapter \\ref{SpatialOperator}). \n",
    "/// For both fluxes a convergence study will be performed and the \"experimental order of convergence\" (EOC) will be computed. \n",
    "///For the implementation of the Lax-Friedrichs flux and the Upwind flux it is recommended to work through chapter \\ref{SpatialOperator} first \n",
    "/// as the definition of fluxes is explained there in more detail. For the second part of the tutorial, \n",
    "/// chapter \\ref{GridInstantiation} has already taught the basics of doing a convergence study.\n",
    "///\n",
    "///\\section{Problem statement}\n",
    "///\\label{sec:NumFlux_problem}\n",
    "///As an examplary problem, we consider the scalar transport equation\n",
    "///\\begin{equation}\n",
    "///\\frac{\\partial c}{\\partial t} + \\nabla \\cdot (\\vec{u} c) = 0\n",
    "///\\end{equation}\n",
    "///in the domain $\\domain = [-1, 1] \\times [-1, 1]$, where the concentration $c = c(x,y,t) \\in \\mathbb{R}$ is unknown and the velocity field is given by\n",
    "///\\begin{equation*}\n",
    "///\\vec{u} = \\begin{pmatrix}\n",
    "///y\\\\-x\n",
    "///\\end{pmatrix}\n",
    "///\\end{equation*}\n",
    "///The analytical solution for the problem above is given by \n",
    "///\\begin{align*}\n",
    "///c_\\text{Exact}(x,y,t) &= \\cos(\\cos(t) x - \\sin(t) y) \\quad \\text{ for } (x,y) \\in \\domain,\n",
    "///\\end{align*}\n",
    "///which can be used to describe the initial and boundary conditions. \n",
    "///\n",
    "///\\section{Solution within the BoSSS Framework}\n",
    "///\\label{sec:NumFlux_tutorial}"
   ]
  },
  {
   "cell_type": "code",
   "execution_count": 2,
   "metadata": {
    "dotnet_interactive": {
     "language": "csharp"
    }
   },
   "outputs": [],
   "source": [
    "#r \"BoSSSpad.dll\"\n",
    "using System;\n",
    "using System.Collections.Generic;\n",
    "using System.Linq;\n",
    "using ilPSP;\n",
    "using ilPSP.Utils;\n",
    "using BoSSS.Platform;\n",
    "using BoSSS.Foundation;\n",
    "using BoSSS.Foundation.Grid;\n",
    "using BoSSS.Foundation.Grid.Classic;\n",
    "using BoSSS.Foundation.IO;\n",
    "using BoSSS.Solution;\n",
    "using BoSSS.Solution.Control;\n",
    "using BoSSS.Solution.GridImport;\n",
    "using BoSSS.Solution.Statistic;\n",
    "using BoSSS.Solution.Utils;\n",
    "using BoSSS.Solution.Gnuplot;\n",
    "using BoSSS.Application.BoSSSpad;\n",
    "using BoSSS.Application.XNSE_Solver;\n",
    "using static BoSSS.Application.BoSSSpad.BoSSSshell;\n",
    "Init();\n"
   ]
  },
  {
   "cell_type": "code",
   "execution_count": 3,
   "metadata": {
    "dotnet_interactive": {
     "language": "csharp"
    }
   },
   "outputs": [],
   "source": [
    "/// First, we define functions for the given velocity field and the exact solution"
   ]
  },
  {
   "cell_type": "code",
   "execution_count": 4,
   "metadata": {},
   "outputs": [],
   "source": [
    "public static class MyGlobals {\n",
    "    public static double u(double[] X) => X[1];\n",
    "    public static double v(double[] X) => -X[0];\n",
    "    public static double cExact(double[] X, double t) => Math.Cos(Math.Cos(t)*X[0] - Math.Sin(t)*X[1]);\n",
    "}"
   ]
  },
  {
   "cell_type": "code",
   "execution_count": 5,
   "metadata": {
    "dotnet_interactive": {
     "language": "csharp"
    }
   },
   "outputs": [],
   "source": [
    "/// %=============================================\n",
    "/// \\subsection{Definition of the numerical fluxes} \\label{sec:NumFlux_fluxes}\n",
    "/// \\subsection{Definition of the numerical fluxes} \\label{sec:flux_and_convergence_fluxes}\n",
    "/// %============================================="
   ]
  },
  {
   "cell_type": "code",
   "execution_count": 6,
   "metadata": {
    "dotnet_interactive": {
     "language": "csharp"
    }
   },
   "outputs": [],
   "source": [
    "using BoSSS.Platform.LinAlg;"
   ]
  },
  {
   "cell_type": "code",
   "execution_count": 7,
   "metadata": {
    "dotnet_interactive": {
     "language": "csharp"
    }
   },
   "outputs": [],
   "source": [
    "/// Before implementing the \\code{ScalarTransportFlux} as done in Tutorial 4, we define both fluxes \n",
    "/// as functions in terms of the parameters \\code{Uin}, \\code{Uout}, the normal vector \\code{n} and the\n",
    "/// \\code{velocityVector}. Recalling the Upwind flux, the corresponding flux function is defined as"
   ]
  },
  {
   "cell_type": "code",
   "execution_count": 8,
   "metadata": {
    "dotnet_interactive": {
     "language": "csharp"
    }
   },
   "outputs": [],
   "source": [
    "Func<double, double, Vector, Vector, double> upwindFlux =     \n",
    "    delegate(double Uin, double Uout, Vector n, Vector velocityVector) {     \n",
    " \n",
    "        if (velocityVector * n > 0) {     \n",
    "            return (velocityVector * Uin) * n;     \n",
    "        } else {     \n",
    "           return (velocityVector * Uout) * n;     \n",
    "        }     \n",
    "    };"
   ]
  },
  {
   "cell_type": "code",
   "execution_count": 9,
   "metadata": {
    "dotnet_interactive": {
     "language": "csharp"
    }
   },
   "outputs": [],
   "source": [
    "/// The second flux we are considering now, is the Lax-Friedrichs flux\n",
    "/// \\begin{equation*}\n",
    "/// \\hat{f}(c_h^-, c_h^+, \\vec{u} \\cdot \\vec{n}) = \\mean{\\vec{u} \\, c_h} \\cdot \\vec{n} + \\frac{C}{2} \\jump{c_h}.\n",
    "/// \\end{equation*}\n",
    "/// The constant $C \\in \\mathbb{R}^+$ has to be sufficiently large in order to guarantee the stability of the \n",
    "/// numerical scheme. We choose \n",
    "/// \\begin{equation*}\n",
    "/// C = \\max \\abs{\\vec{u} \\cdot \\vec{n}} = 1\n",
    "/// \\end{equation*}\n",
    "/// for the given problem."
   ]
  },
  {
   "cell_type": "code",
   "execution_count": 10,
   "metadata": {
    "dotnet_interactive": {
     "language": "csharp"
    }
   },
   "outputs": [],
   "source": [
    "double C = 0.3;     \n",
    " \n",
    "Func<double, double, Vector, Vector, double> laxFriedrichsFlux =     \n",
    "    delegate(double Uin, double Uout, Vector n, Vector velocityVector) {     \n",
    " \n",
    "        return 0.5 * (Uin + Uout) * velocityVector * n - C * (Uout - Uin);     \n",
    "    };"
   ]
  },
  {
   "cell_type": "code",
   "execution_count": 11,
   "metadata": {
    "dotnet_interactive": {
     "language": "csharp"
    }
   },
   "outputs": [],
   "source": [
    "/// For the implementation of the \\code{ScalarTransportFlux} we want to generate \n",
    "/// instances by the definition of the \\code{numericalFlux}. Therefore a new constructor is implemented \n",
    "/// and the implementation of \\code{InnerEdgeFlux} is rewritten in terms of the \\code{numericalFlux}.\n",
    "class ScalarTransportFlux : NonlinearFlux {     \n",
    " \n",
    "    private Func<double, double, Vector, Vector, double> numericalFlux;     \n",
    " \n",
    "    // Provides instances of this class with a specific flux implementation     \n",
    "    public ScalarTransportFlux(     \n",
    "        Func<double, double, Vector, Vector, double> numericalFlux) {     \n",
    " \n",
    "        this.numericalFlux = numericalFlux;     \n",
    "    }     \n",
    " \n",
    "    public override IList<string> ArgumentOrdering {     \n",
    "        get { return new string[] { \"ch\" }; }     \n",
    "    }     \n",
    " \n",
    "    protected override void Flux(     \n",
    "        double time, double[] x, double[] U, double[] output) {     \n",
    " \n",
    "        output[0] = MyGlobals.u(x) * U[0];     \n",
    "        output[1] = MyGlobals.v(x) * U[0];     \n",
    "    }     \n",
    " \n",
    "    // Makes use of the flux implementation supplied in the constructor     \n",
    "    protected override double InnerEdgeFlux(     \n",
    "        double time, double[] x, double[] normal,      \n",
    "        double[] Uin, double[] Uout, int jEdge) {     \n",
    " \n",
    "        Vector n              = new Vector(normal);     \n",
    "        Vector velocityVector = new Vector(MyGlobals.u(x), MyGlobals.v(x));     \n",
    " \n",
    "        return numericalFlux(Uin[0], Uout[0], n, velocityVector);     \n",
    "    }     \n",
    " \n",
    "    protected override double BorderEdgeFlux(     \n",
    "        double time, double[] x, double[] normal, byte EdgeTag,     \n",
    "        double[] Uin, int jEdge) {     \n",
    " \n",
    "        double[] Uout = new double[] { MyGlobals.cExact(x, time) };     \n",
    " \n",
    "        return InnerEdgeFlux(time, x, normal, Uin, Uout, jEdge);     \n",
    "    }     \n",
    "}"
   ]
  },
  {
   "cell_type": "code",
   "execution_count": 12,
   "metadata": {
    "dotnet_interactive": {
     "language": "csharp"
    }
   },
   "outputs": [],
   "source": [
    "/// For both numerical fluxes we define a \\code{SpatialOperator} that uses the corresponding flux to compute div(...)"
   ]
  },
  {
   "cell_type": "code",
   "execution_count": 13,
   "metadata": {
    "dotnet_interactive": {
     "language": "csharp"
    }
   },
   "outputs": [],
   "source": [
    "var upwindOperator = new SpatialOperator(     \n",
    "    new string[] { \"ch\" },     \n",
    "    new string[] { \"div\" },     \n",
    "    QuadOrderFunc.NonLinear(2));"
   ]
  },
  {
   "cell_type": "code",
   "execution_count": 14,
   "metadata": {
    "dotnet_interactive": {
     "language": "csharp"
    }
   },
   "outputs": [],
   "source": [
    "upwindOperator.EquationComponents[\"div\"].Add(     \n",
    "    new ScalarTransportFlux(upwindFlux));"
   ]
  },
  {
   "cell_type": "code",
   "execution_count": 15,
   "metadata": {
    "dotnet_interactive": {
     "language": "csharp"
    }
   },
   "outputs": [],
   "source": [
    "upwindOperator.Commit();"
   ]
  },
  {
   "cell_type": "code",
   "execution_count": 16,
   "metadata": {
    "dotnet_interactive": {
     "language": "csharp"
    }
   },
   "outputs": [],
   "source": [
    "/// %"
   ]
  },
  {
   "cell_type": "code",
   "execution_count": 17,
   "metadata": {
    "dotnet_interactive": {
     "language": "csharp"
    }
   },
   "outputs": [],
   "source": [
    "var laxFriedrichsOperator = new SpatialOperator(     \n",
    "    new string[] { \"ch\" },     \n",
    "    new string[] { \"div\" },     \n",
    "    QuadOrderFunc.NonLinear(2));"
   ]
  },
  {
   "cell_type": "code",
   "execution_count": 18,
   "metadata": {
    "dotnet_interactive": {
     "language": "csharp"
    }
   },
   "outputs": [],
   "source": [
    "laxFriedrichsOperator.EquationComponents[\"div\"].Add(     \n",
    "    new ScalarTransportFlux(laxFriedrichsFlux));"
   ]
  },
  {
   "cell_type": "code",
   "execution_count": 19,
   "metadata": {
    "dotnet_interactive": {
     "language": "csharp"
    }
   },
   "outputs": [],
   "source": [
    "laxFriedrichsOperator.Commit();"
   ]
  },
  {
   "cell_type": "code",
   "execution_count": 20,
   "metadata": {
    "dotnet_interactive": {
     "language": "csharp"
    }
   },
   "outputs": [],
   "source": [
    "/// %"
   ]
  },
  {
   "cell_type": "code",
   "execution_count": 21,
   "metadata": {
    "dotnet_interactive": {
     "language": "csharp"
    }
   },
   "outputs": [],
   "source": [
    "/// %=============================================\n",
    "/// \\subsection{Convergence study}\\label{sec:flux_and_convergence_convergence}\n",
    "/// %============================================="
   ]
  },
  {
   "cell_type": "code",
   "execution_count": 22,
   "metadata": {
    "dotnet_interactive": {
     "language": "csharp"
    }
   },
   "outputs": [],
   "source": [
    "/// In the following a convergence study for the discretization error will be performed on grids \n",
    "/// with $2\\times2$, $4\\times4$, $8\\times8$ and $16\\times16$ cells. The error at $t = \\pi /4$\n",
    "/// will be investigated for the polynomial degrees $\\degree = 0, \\ldots, 3$ of the ansatzfunctions. \n",
    "/// The study will be done for both numerical fluxes."
   ]
  },
  {
   "cell_type": "code",
   "execution_count": 23,
   "metadata": {
    "dotnet_interactive": {
     "language": "csharp"
    }
   },
   "outputs": [],
   "source": [
    "/// We start by defining a series of nested grids for the convergence study"
   ]
  },
  {
   "cell_type": "code",
   "execution_count": 24,
   "metadata": {
    "dotnet_interactive": {
     "language": "csharp"
    }
   },
   "outputs": [],
   "source": [
    "int[] numbersOfCells = new int[] { 2, 4, 8, 16 };"
   ]
  },
  {
   "cell_type": "code",
   "execution_count": 25,
   "metadata": {
    "dotnet_interactive": {
     "language": "csharp"
    }
   },
   "outputs": [],
   "source": [
    "GridData[] grids = new GridData[numbersOfCells.Length];"
   ]
  },
  {
   "cell_type": "code",
   "execution_count": 26,
   "metadata": {
    "dotnet_interactive": {
     "language": "csharp"
    }
   },
   "outputs": [],
   "source": [
    "for (int i = 0; i < numbersOfCells.Length; i++) {     \n",
    " \n",
    "    double[] nodes = GenericBlas.Linspace(-1.0, 1.0, numbersOfCells[i] + 1);     \n",
    " \n",
    "    GridCommons grid = Grid2D.Cartesian2DGrid(nodes, nodes);     \n",
    " \n",
    "    grids[i] = new GridData(grid);     \n",
    "}"
   ]
  },
  {
   "cell_type": "code",
   "execution_count": 27,
   "metadata": {
    "dotnet_interactive": {
     "language": "csharp"
    }
   },
   "outputs": [],
   "source": [
    "/// Then, a \\code{SinglePhaseField} is defined for each polynomial degree on each grid.\n",
    "/// The initial value is projected on each field."
   ]
  },
  {
   "cell_type": "code",
   "execution_count": 28,
   "metadata": {
    "dotnet_interactive": {
     "language": "csharp"
    }
   },
   "outputs": [],
   "source": [
    "int[] dgDegrees = new int[] { 0, 1, 2, 3 };"
   ]
  },
  {
   "cell_type": "code",
   "execution_count": 29,
   "metadata": {
    "dotnet_interactive": {
     "language": "csharp"
    }
   },
   "outputs": [],
   "source": [
    "SinglePhaseField[,] fields =      \n",
    "    new SinglePhaseField[dgDegrees.Length, numbersOfCells.Length];"
   ]
  },
  {
   "cell_type": "code",
   "execution_count": 30,
   "metadata": {
    "dotnet_interactive": {
     "language": "csharp"
    }
   },
   "outputs": [],
   "source": [
    "for (int i = 0; i < dgDegrees.Length; i++) {     \n",
    "    for (int j = 0; j < numbersOfCells.Length; j++) {     \n",
    " \n",
    "        Basis basis = new Basis(grids[j], dgDegrees[i]);     \n",
    "        fields[i, j] = new SinglePhaseField(     \n",
    "                              basis, \"ch_\" + dgDegrees[i] + \"_\" + grids[j]);     \n",
    "        fields[i, j].ProjectField(X => MyGlobals.cExact(X, 0.0));     \n",
    "    }     \n",
    "}"
   ]
  },
  {
   "cell_type": "code",
   "execution_count": 31,
   "metadata": {
    "dotnet_interactive": {
     "language": "csharp"
    }
   },
   "outputs": [],
   "source": [
    "/// Since the error at a fourth revolution is considered, the initial concentration has to be simulated until \n",
    "/// $\\code{endTime} = \\pi / 4$. For the timestepping we are using the classical fourth order Runge-Kutta scheme. \n",
    "/// The timestep size should be chosen small enough in order to reduce the \\emph{temporal} error,\n",
    "/// so that the \\emph{spatial} error dominates for the convergence study."
   ]
  },
  {
   "cell_type": "code",
   "execution_count": 32,
   "metadata": {
    "dotnet_interactive": {
     "language": "csharp"
    }
   },
   "outputs": [],
   "source": [
    "using BoSSS.Solution.Timestepping;"
   ]
  },
  {
   "cell_type": "code",
   "execution_count": 33,
   "metadata": {
    "dotnet_interactive": {
     "language": "csharp"
    }
   },
   "outputs": [],
   "source": [
    "double endTime        = Math.PI / 4.0;     \n",
    "int numberOfTimesteps = 100;     \n",
    "double dt             = endTime / numberOfTimesteps;"
   ]
  },
  {
   "cell_type": "code",
   "execution_count": 34,
   "metadata": {
    "dotnet_interactive": {
     "language": "csharp"
    }
   },
   "outputs": [],
   "source": [
    "/// A \\code{MultidimensionalArray} is a special double array that enables \\emph{shallow} resizing and data\n",
    "/// extraction. For example, sub-arrays can be extracted without needing to copy the entries of\n",
    "/// the \\code{MultidimensionalArray}. BoSSS makes extensive use of this class because this is crucial\n",
    "/// for the performance.\n",
    "/// Here, we create a three-dimensional array, where the first index corresponds to the flux\n",
    "/// function, the second to the DG degree and the third to the number of cells.\n",
    "MultidimensionalArray errors =      \n",
    "    MultidimensionalArray.Create(2, dgDegrees.Length, grids.Length);"
   ]
  },
  {
   "cell_type": "code",
   "execution_count": 35,
   "metadata": {
    "dotnet_interactive": {
     "language": "csharp"
    }
   },
   "outputs": [],
   "source": [
    "for (int i = 0; i < dgDegrees.Length; i++) {     \n",
    "    for (int j = 0; j < numbersOfCells.Length; j++) {     \n",
    " \n",
    "        // Clones an object and casts it to the type of the original object  \n",
    "        // at the same time.  \n",
    "        SinglePhaseField c = fields[i, j].CloneAs();     \n",
    " \n",
    "        // Instantiate the timestepper (classical Runge-Kutta scheme)     \n",
    "        // for the evolution of the concentration c with Upwind flux     \n",
    "        RungeKutta timeStepper = new RungeKutta(     \n",
    "            RungeKutta.RungeKuttaSchemes.RungeKutta1901,     \n",
    "            upwindOperator, c);     \n",
    " \n",
    "        // Integrate in time for each timestep     \n",
    "        for (int k = 0; k < numberOfTimesteps; k++) {     \n",
    "            timeStepper.Perform(dt);     \n",
    "        }     \n",
    " \n",
    "        // Compute the error w.r.t. analytical solution     \n",
    "        errors[0, i, j] = c.L2Error(X => MyGlobals.cExact(X, endTime));     \n",
    " \n",
    "        // Simulate with the Lax-Friedrichs flux     \n",
    "        c = fields[i, j].CloneAs();     \n",
    "        timeStepper = new RungeKutta(     \n",
    "                             RungeKutta.RungeKuttaSchemes.RungeKutta1901,      \n",
    "                             laxFriedrichsOperator, c);     \n",
    "        for (int k = 0; k < numberOfTimesteps; k++) {     \n",
    "            timeStepper.Perform(dt);     \n",
    "        }     \n",
    "        errors[1, i, j] = c.L2Error(X => MyGlobals.cExact(X, endTime));     \n",
    "    }     \n",
    "}"
   ]
  },
  {
   "cell_type": "code",
   "execution_count": 36,
   "metadata": {
    "dotnet_interactive": {
     "language": "csharp"
    }
   },
   "outputs": [],
   "source": [
    "/// %=============================================\n",
    "/// \\subsection{Plotting results}\\label{sec:NumFlux_plots}\n",
    "/// \\subsection{Plotting results}\\label{sec:flux_and_convergence_plots}\n",
    "/// %============================================="
   ]
  },
  {
   "cell_type": "code",
   "execution_count": null,
   "metadata": {
    "dotnet_interactive": {
     "language": "csharp"
    }
   },
   "outputs": [],
   "source": []
  },
  {
   "cell_type": "code",
   "execution_count": 37,
   "metadata": {
    "dotnet_interactive": {
     "language": "csharp"
    }
   },
   "outputs": [],
   "source": [
    "/// For the convergence plots the error is plotted over the mesh size, \n",
    "/// where the coarsest grid size is defined as size = 1."
   ]
  },
  {
   "cell_type": "code",
   "execution_count": 38,
   "metadata": {
    "dotnet_interactive": {
     "language": "csharp"
    }
   },
   "outputs": [],
   "source": [
    "var sizes = numbersOfCells.Select(s => 2.0 / s).ToArray();"
   ]
  },
  {
   "cell_type": "code",
   "execution_count": 39,
   "metadata": {
    "dotnet_interactive": {
     "language": "csharp"
    }
   },
   "outputs": [
    {
     "name": "stdout",
     "output_type": "stream",
     "text": [
      "Using gnuplot: C:\\Program Files (x86)\\FDY\\BoSSS\\bin\\native\\win\\gnuplot-gp510-20160418-win32-mingw\\gnuplot\\bin\\gnuplot.exe\r\n"
     ]
    }
   ],
   "source": [
    "/// First, we are looking at the convergence plot of the Upwind flux. \n",
    "/// Therefore, an instance of Gnuplot has to be generated.\n",
    "var gpUpwind = new Gnuplot();     \n",
    "gpUpwind.SetYRange(Math.Pow(10,-7), Math.Pow(10,0));"
   ]
  },
  {
   "cell_type": "code",
   "execution_count": 40,
   "metadata": {
    "dotnet_interactive": {
     "language": "csharp"
    }
   },
   "outputs": [],
   "source": [
    "for (int i = 0; i < dgDegrees.Length; i++) {     \n",
    " \n",
    "    /// Here, we use the shallow extraction features of    \n",
    "    /// \\code{MultidimensionalArray} mentioned above.   \n",
    "    /// The command \\code{ExtractSubArrayShallow(0, i, -1)}    \n",
    "    /// is roughly equivalent to writing \"errors[0, i, :]\" in Matlab   \n",
    "    var errorsForDegree = errors.ExtractSubArrayShallow(0, i, -1).To1DArray();     \n",
    " \n",
    "    // some formatting of the plot data for the convergence study      \n",
    "    PlotFormat format = new PlotFormat(lineColor: (LineColors)(i+1),     \n",
    "                                       Style: Styles.LinesPoints,       \n",
    "                                       pointType: PointTypes.Diamond,       \n",
    "                                       pointSize: 2.0);     \n",
    " \n",
    "    // Create log-log plot mesh size vs. error for dgDegrees[i]    \n",
    "    gpUpwind.PlotLogXLogY(sizes, errorsForDegree,      \n",
    "                          \"Upwind, order \" + dgDegrees[i], format);     \n",
    "}"
   ]
  },
  {
   "cell_type": "code",
   "execution_count": 52,
   "metadata": {
    "dotnet_interactive": {
     "language": "csharp"
    }
   },
   "outputs": [
    {
     "data": {
      "text/html": [
       "<?xml version=\"1.0\" encoding=\"utf-8\"  standalone=\"no\"?>\n",
       "<!DOCTYPE svg PUBLIC \"-//W3C//DTD SVG 1.1//EN\"\n",
       " \"http://www.w3.org/Graphics/SVG/1.1/DTD/svg11.dtd\">\n",
       "<svg \n",
       " width=\"1024\" height=\"768\"\n",
       " viewBox=\"0 0 1024 768\"\n",
       " xmlns=\"http://www.w3.org/2000/svg\"\n",
       " xmlns:xlink=\"http://www.w3.org/1999/xlink\"\n",
       ">\n",
       "\n",
       "<title>Gnuplot</title>\n",
       "<desc>Produced by GNUPLOT 5.1 patchlevel 0 </desc>\n",
       "\n",
       "<g id=\"gnuplot_canvas\">\n",
       "\n",
       "<rect x=\"0\" y=\"0\" width=\"1024\" height=\"768\" fill=\"#ffffff\"/>\n",
       "<defs>\n",
       "\n",
       "\t<circle id='gpDot' r='0.5' stroke-width='0.5'/>\n",
       "\t<path id='gpPt0' stroke-width='0.222' stroke='currentColor' d='M-1,0 h2 M0,-1 v2'/>\n",
       "\t<path id='gpPt1' stroke-width='0.222' stroke='currentColor' d='M-1,-1 L1,1 M1,-1 L-1,1'/>\n",
       "\t<path id='gpPt2' stroke-width='0.222' stroke='currentColor' d='M-1,0 L1,0 M0,-1 L0,1 M-1,-1 L1,1 M-1,1 L1,-1'/>\n",
       "\t<rect id='gpPt3' stroke-width='0.222' stroke='currentColor' x='-1' y='-1' width='2' height='2'/>\n",
       "\t<rect id='gpPt4' stroke-width='0.222' stroke='currentColor' fill='currentColor' x='-1' y='-1' width='2' height='2'/>\n",
       "\t<circle id='gpPt5' stroke-width='0.222' stroke='currentColor' cx='0' cy='0' r='1'/>\n",
       "\t<use xlink:href='#gpPt5' id='gpPt6' fill='currentColor' stroke='none'/>\n",
       "\t<path id='gpPt7' stroke-width='0.222' stroke='currentColor' d='M0,-1.33 L-1.33,0.67 L1.33,0.67 z'/>\n",
       "\t<use xlink:href='#gpPt7' id='gpPt8' fill='currentColor' stroke='none'/>\n",
       "\t<use xlink:href='#gpPt7' id='gpPt9' stroke='currentColor' transform='rotate(180)'/>\n",
       "\t<use xlink:href='#gpPt9' id='gpPt10' fill='currentColor' stroke='none'/>\n",
       "\t<use xlink:href='#gpPt3' id='gpPt11' stroke='currentColor' transform='rotate(45)'/>\n",
       "\t<use xlink:href='#gpPt11' id='gpPt12' fill='currentColor' stroke='none'/>\n",
       "\t<path id='gpPt13' stroke-width='0.222' stroke='currentColor' d='M0,1.330 L1.265,0.411 L0.782,-1.067 L-0.782,-1.076 L-1.265,0.411 z'/>\n",
       "\t<use xlink:href='#gpPt13' id='gpPt14' fill='currentColor' stroke='none'/>\n",
       "\t<filter id='textbox' filterUnits='objectBoundingBox' x='0' y='0' height='1' width='1'>\n",
       "\t  <feFlood flood-color='#FFFFFF' flood-opacity='1' result='bgnd'/>\n",
       "\t  <feComposite in='SourceGraphic' in2='bgnd' operator='atop'/>\n",
       "\t</filter>\n",
       "\t<filter id='greybox' filterUnits='objectBoundingBox' x='0' y='0' height='1' width='1'>\n",
       "\t  <feFlood flood-color='lightgrey' flood-opacity='1' result='grey'/>\n",
       "\t  <feComposite in='SourceGraphic' in2='grey' operator='atop'/>\n",
       "\t</filter>\n",
       "</defs>\n",
       "<g fill=\"none\" color=\"#FFFFFF\" stroke=\"currentColor\" stroke-width=\"1.00\" stroke-linecap=\"butt\" stroke-linejoin=\"miter\">\n",
       "</g>\n",
       "<g fill=\"none\" color=\"black\" stroke=\"currentColor\" stroke-width=\"1.00\" stroke-linecap=\"butt\" stroke-linejoin=\"miter\">\n",
       "\t<path stroke='black'  d='M95.4,732.0 L104.4,732.0 M999.0,732.0 L990.0,732.0  '/>\t<g transform=\"translate(87.1,736.5)\" stroke=\"none\" fill=\"black\" font-family=\"Arial\" font-size=\"12.00\"  text-anchor=\"end\">\n",
       "\t\t<text><tspan font-family=\"Arial\" >0.0000001</tspan></text>\n",
       "\t</g>\n",
       "</g>\n",
       "<g fill=\"none\" color=\"black\" stroke=\"currentColor\" stroke-width=\"1.00\" stroke-linecap=\"butt\" stroke-linejoin=\"miter\">\n",
       "\t<path stroke='black'  d='M95.4,701.2 L99.9,701.2 M999.0,701.2 L994.5,701.2 M95.4,660.6 L99.9,660.6 M999.0,660.6 L994.5,660.6\n",
       "\t\tM95.4,639.7 L99.9,639.7 M999.0,639.7 L994.5,639.7 M95.4,629.8 L104.4,629.8 M999.0,629.8 L990.0,629.8\n",
       "\t\t '/>\t<g transform=\"translate(87.1,634.3)\" stroke=\"none\" fill=\"black\" font-family=\"Arial\" font-size=\"12.00\"  text-anchor=\"end\">\n",
       "\t\t<text><tspan font-family=\"Arial\" >0.0000010</tspan></text>\n",
       "\t</g>\n",
       "</g>\n",
       "<g fill=\"none\" color=\"black\" stroke=\"currentColor\" stroke-width=\"1.00\" stroke-linecap=\"butt\" stroke-linejoin=\"miter\">\n",
       "\t<path stroke='black'  d='M95.4,599.1 L99.9,599.1 M999.0,599.1 L994.5,599.1 M95.4,558.4 L99.9,558.4 M999.0,558.4 L994.5,558.4\n",
       "\t\tM95.4,537.5 L99.9,537.5 M999.0,537.5 L994.5,537.5 M95.4,527.6 L104.4,527.6 M999.0,527.6 L990.0,527.6\n",
       "\t\t '/>\t<g transform=\"translate(87.1,532.1)\" stroke=\"none\" fill=\"black\" font-family=\"Arial\" font-size=\"12.00\"  text-anchor=\"end\">\n",
       "\t\t<text><tspan font-family=\"Arial\" >0.0000100</tspan></text>\n",
       "\t</g>\n",
       "</g>\n",
       "<g fill=\"none\" color=\"black\" stroke=\"currentColor\" stroke-width=\"1.00\" stroke-linecap=\"butt\" stroke-linejoin=\"miter\">\n",
       "\t<path stroke='black'  d='M95.4,496.9 L99.9,496.9 M999.0,496.9 L994.5,496.9 M95.4,456.2 L99.9,456.2 M999.0,456.2 L994.5,456.2\n",
       "\t\tM95.4,435.3 L99.9,435.3 M999.0,435.3 L994.5,435.3 M95.4,425.4 L104.4,425.4 M999.0,425.4 L990.0,425.4\n",
       "\t\t '/>\t<g transform=\"translate(87.1,429.9)\" stroke=\"none\" fill=\"black\" font-family=\"Arial\" font-size=\"12.00\"  text-anchor=\"end\">\n",
       "\t\t<text><tspan font-family=\"Arial\" >0.0001000</tspan></text>\n",
       "\t</g>\n",
       "</g>\n",
       "<g fill=\"none\" color=\"black\" stroke=\"currentColor\" stroke-width=\"1.00\" stroke-linecap=\"butt\" stroke-linejoin=\"miter\">\n",
       "\t<path stroke='black'  d='M95.4,394.7 L99.9,394.7 M999.0,394.7 L994.5,394.7 M95.4,354.0 L99.9,354.0 M999.0,354.0 L994.5,354.0\n",
       "\t\tM95.4,333.2 L99.9,333.2 M999.0,333.2 L994.5,333.2 M95.4,323.3 L104.4,323.3 M999.0,323.3 L990.0,323.3\n",
       "\t\t '/>\t<g transform=\"translate(87.1,327.8)\" stroke=\"none\" fill=\"black\" font-family=\"Arial\" font-size=\"12.00\"  text-anchor=\"end\">\n",
       "\t\t<text><tspan font-family=\"Arial\" >0.0010000</tspan></text>\n",
       "\t</g>\n",
       "</g>\n",
       "<g fill=\"none\" color=\"black\" stroke=\"currentColor\" stroke-width=\"1.00\" stroke-linecap=\"butt\" stroke-linejoin=\"miter\">\n",
       "\t<path stroke='black'  d='M95.4,292.5 L99.9,292.5 M999.0,292.5 L994.5,292.5 M95.4,251.8 L99.9,251.8 M999.0,251.8 L994.5,251.8\n",
       "\t\tM95.4,231.0 L99.9,231.0 M999.0,231.0 L994.5,231.0 M95.4,221.1 L104.4,221.1 M999.0,221.1 L990.0,221.1\n",
       "\t\t '/>\t<g transform=\"translate(87.1,225.6)\" stroke=\"none\" fill=\"black\" font-family=\"Arial\" font-size=\"12.00\"  text-anchor=\"end\">\n",
       "\t\t<text><tspan font-family=\"Arial\" >0.0100000</tspan></text>\n",
       "\t</g>\n",
       "</g>\n",
       "<g fill=\"none\" color=\"black\" stroke=\"currentColor\" stroke-width=\"1.00\" stroke-linecap=\"butt\" stroke-linejoin=\"miter\">\n",
       "\t<path stroke='black'  d='M95.4,190.3 L99.9,190.3 M999.0,190.3 L994.5,190.3 M95.4,149.6 L99.9,149.6 M999.0,149.6 L994.5,149.6\n",
       "\t\tM95.4,128.8 L99.9,128.8 M999.0,128.8 L994.5,128.8 M95.4,118.9 L104.4,118.9 M999.0,118.9 L990.0,118.9\n",
       "\t\t '/>\t<g transform=\"translate(87.1,123.4)\" stroke=\"none\" fill=\"black\" font-family=\"Arial\" font-size=\"12.00\"  text-anchor=\"end\">\n",
       "\t\t<text><tspan font-family=\"Arial\" >0.1000000</tspan></text>\n",
       "\t</g>\n",
       "</g>\n",
       "<g fill=\"none\" color=\"black\" stroke=\"currentColor\" stroke-width=\"1.00\" stroke-linecap=\"butt\" stroke-linejoin=\"miter\">\n",
       "\t<path stroke='black'  d='M95.4,88.1 L99.9,88.1 M999.0,88.1 L994.5,88.1 M95.4,47.5 L99.9,47.5 M999.0,47.5 L994.5,47.5\n",
       "\t\tM95.4,26.6 L99.9,26.6 M999.0,26.6 L994.5,26.6 M95.4,16.7 L104.4,16.7 M999.0,16.7 L990.0,16.7\n",
       "\t\t '/>\t<g transform=\"translate(87.1,21.2)\" stroke=\"none\" fill=\"black\" font-family=\"Arial\" font-size=\"12.00\"  text-anchor=\"end\">\n",
       "\t\t<text><tspan font-family=\"Arial\" >1.0000000</tspan></text>\n",
       "\t</g>\n",
       "</g>\n",
       "<g fill=\"none\" color=\"black\" stroke=\"currentColor\" stroke-width=\"1.00\" stroke-linecap=\"butt\" stroke-linejoin=\"miter\">\n",
       "\t<path stroke='black'  d='M95.4,732.0 L95.4,723.0 M95.4,16.7 L95.4,25.7  '/>\t<g transform=\"translate(95.4,754.5)\" stroke=\"none\" fill=\"black\" font-family=\"Arial\" font-size=\"12.00\"  text-anchor=\"middle\">\n",
       "\t\t<text><tspan font-family=\"Arial\" > 0.1</tspan></text>\n",
       "\t</g>\n",
       "</g>\n",
       "<g fill=\"none\" color=\"black\" stroke=\"currentColor\" stroke-width=\"1.00\" stroke-linecap=\"butt\" stroke-linejoin=\"miter\">\n",
       "\t<path stroke='black'  d='M367.4,732.0 L367.4,727.5 M367.4,16.7 L367.4,21.2 M526.5,732.0 L526.5,727.5 M526.5,16.7 L526.5,21.2\n",
       "\t\tM639.4,732.0 L639.4,727.5 M639.4,16.7 L639.4,21.2 M727.0,732.0 L727.0,727.5 M727.0,16.7 L727.0,21.2\n",
       "\t\tM798.5,732.0 L798.5,727.5 M798.5,16.7 L798.5,21.2 M859.0,732.0 L859.0,727.5 M859.0,16.7 L859.0,21.2\n",
       "\t\tM911.4,732.0 L911.4,727.5 M911.4,16.7 L911.4,21.2 M957.7,732.0 L957.7,727.5 M957.7,16.7 L957.7,21.2\n",
       "\t\tM999.0,732.0 L999.0,723.0 M999.0,16.7 L999.0,25.7  '/>\t<g transform=\"translate(999.0,754.5)\" stroke=\"none\" fill=\"black\" font-family=\"Arial\" font-size=\"12.00\"  text-anchor=\"middle\">\n",
       "\t\t<text><tspan font-family=\"Arial\" > 1</tspan></text>\n",
       "\t</g>\n",
       "</g>\n",
       "<g fill=\"none\" color=\"black\" stroke=\"currentColor\" stroke-width=\"1.00\" stroke-linecap=\"butt\" stroke-linejoin=\"miter\">\n",
       "</g>\n",
       "<g fill=\"none\" color=\"black\" stroke=\"currentColor\" stroke-width=\"1.00\" stroke-linecap=\"butt\" stroke-linejoin=\"miter\">\n",
       "\t<path stroke='black'  d='M95.4,16.7 L95.4,732.0 L999.0,732.0 L999.0,16.7 L95.4,16.7 Z  '/></g>\n",
       "<g fill=\"none\" color=\"black\" stroke=\"currentColor\" stroke-width=\"1.00\" stroke-linecap=\"butt\" stroke-linejoin=\"miter\">\n",
       "</g>\n",
       "\t<g id=\"gnuplot_plot_1\" ><title>Upwind, order 0</title>\n",
       "<g fill=\"none\" color=\"black\" stroke=\"currentColor\" stroke-width=\"1.00\" stroke-linecap=\"butt\" stroke-linejoin=\"miter\">\n",
       "\t<g transform=\"translate(931.9,39.2)\" stroke=\"none\" fill=\"black\" font-family=\"Arial\" font-size=\"12.00\"  text-anchor=\"end\">\n",
       "\t\t<text><tspan font-family=\"Arial\" >Upwind, order 0</tspan></text>\n",
       "\t</g>\n",
       "</g>\n",
       "<g fill=\"none\" color=\"black\" stroke=\"currentColor\" stroke-width=\"1.00\" stroke-linecap=\"butt\" stroke-linejoin=\"miter\">\n",
       "\t<path stroke='rgb(255,   0,   0)'  d='M940.2,34.7 L982.4,34.7 M999.0,88.0 L727.0,109.7 L455.0,134.0 L183.0,160.6  '/>\t<use xlink:href='#gpPt12' transform='translate(999.0,88.0) scale(9.00)' color='rgb(255,   0,   0)'/>\n",
       "\t<use xlink:href='#gpPt12' transform='translate(727.0,109.7) scale(9.00)' color='rgb(255,   0,   0)'/>\n",
       "\t<use xlink:href='#gpPt12' transform='translate(455.0,134.0) scale(9.00)' color='rgb(255,   0,   0)'/>\n",
       "\t<use xlink:href='#gpPt12' transform='translate(183.0,160.6) scale(9.00)' color='rgb(255,   0,   0)'/>\n",
       "\t<use xlink:href='#gpPt12' transform='translate(961.3,34.7) scale(9.00)' color='rgb(255,   0,   0)'/>\n",
       "</g>\n",
       "\t</g>\n",
       "\t<g id=\"gnuplot_plot_2\" ><title>Upwind, order 1</title>\n",
       "<g fill=\"none\" color=\"black\" stroke=\"currentColor\" stroke-width=\"1.00\" stroke-linecap=\"butt\" stroke-linejoin=\"miter\">\n",
       "\t<g transform=\"translate(931.9,57.2)\" stroke=\"none\" fill=\"black\" font-family=\"Arial\" font-size=\"12.00\"  text-anchor=\"end\">\n",
       "\t\t<text><tspan font-family=\"Arial\" >Upwind, order 1</tspan></text>\n",
       "\t</g>\n",
       "</g>\n",
       "<g fill=\"none\" color=\"black\" stroke=\"currentColor\" stroke-width=\"1.00\" stroke-linecap=\"butt\" stroke-linejoin=\"miter\">\n",
       "\t<path stroke='rgb(  0, 255,   0)'  d='M940.2,52.7 L982.4,52.7 M999.0,125.3 L727.0,185.6 L455.0,246.5 L183.0,307.6  '/>\t<use xlink:href='#gpPt12' transform='translate(999.0,125.3) scale(9.00)' color='rgb(  0, 255,   0)'/>\n",
       "\t<use xlink:href='#gpPt12' transform='translate(727.0,185.6) scale(9.00)' color='rgb(  0, 255,   0)'/>\n",
       "\t<use xlink:href='#gpPt12' transform='translate(455.0,246.5) scale(9.00)' color='rgb(  0, 255,   0)'/>\n",
       "\t<use xlink:href='#gpPt12' transform='translate(183.0,307.6) scale(9.00)' color='rgb(  0, 255,   0)'/>\n",
       "\t<use xlink:href='#gpPt12' transform='translate(961.3,52.7) scale(9.00)' color='rgb(  0, 255,   0)'/>\n",
       "</g>\n",
       "\t</g>\n",
       "\t<g id=\"gnuplot_plot_3\" ><title>Upwind, order 2</title>\n",
       "<g fill=\"none\" color=\"black\" stroke=\"currentColor\" stroke-width=\"1.00\" stroke-linecap=\"butt\" stroke-linejoin=\"miter\">\n",
       "\t<g transform=\"translate(931.9,75.2)\" stroke=\"none\" fill=\"black\" font-family=\"Arial\" font-size=\"12.00\"  text-anchor=\"end\">\n",
       "\t\t<text><tspan font-family=\"Arial\" >Upwind, order 2</tspan></text>\n",
       "\t</g>\n",
       "</g>\n",
       "<g fill=\"none\" color=\"black\" stroke=\"currentColor\" stroke-width=\"1.00\" stroke-linecap=\"butt\" stroke-linejoin=\"miter\">\n",
       "\t<path stroke='rgb(  0,   0, 255)'  d='M940.2,70.7 L982.4,70.7 M999.0,245.0 L727.0,332.3 L455.0,424.8 L183.0,517.5  '/>\t<use xlink:href='#gpPt12' transform='translate(999.0,245.0) scale(9.00)' color='rgb(  0,   0, 255)'/>\n",
       "\t<use xlink:href='#gpPt12' transform='translate(727.0,332.3) scale(9.00)' color='rgb(  0,   0, 255)'/>\n",
       "\t<use xlink:href='#gpPt12' transform='translate(455.0,424.8) scale(9.00)' color='rgb(  0,   0, 255)'/>\n",
       "\t<use xlink:href='#gpPt12' transform='translate(183.0,517.5) scale(9.00)' color='rgb(  0,   0, 255)'/>\n",
       "\t<use xlink:href='#gpPt12' transform='translate(961.3,70.7) scale(9.00)' color='rgb(  0,   0, 255)'/>\n",
       "</g>\n",
       "\t</g>\n",
       "\t<g id=\"gnuplot_plot_4\" ><title>Upwind, order 3</title>\n",
       "<g fill=\"none\" color=\"black\" stroke=\"currentColor\" stroke-width=\"1.00\" stroke-linecap=\"butt\" stroke-linejoin=\"miter\">\n",
       "\t<g transform=\"translate(931.9,93.2)\" stroke=\"none\" fill=\"black\" font-family=\"Arial\" font-size=\"12.00\"  text-anchor=\"end\">\n",
       "\t\t<text><tspan font-family=\"Arial\" >Upwind, order 3</tspan></text>\n",
       "\t</g>\n",
       "</g>\n",
       "<g fill=\"none\" color=\"black\" stroke=\"currentColor\" stroke-width=\"1.00\" stroke-linecap=\"butt\" stroke-linejoin=\"miter\">\n",
       "\t<path stroke='rgb(255,   0, 255)'  d='M940.2,88.7 L982.4,88.7 M999.0,318.6 L727.0,440.0 L455.0,562.1 L183.0,683.3  '/>\t<use xlink:href='#gpPt12' transform='translate(999.0,318.6) scale(9.00)' color='rgb(255,   0, 255)'/>\n",
       "\t<use xlink:href='#gpPt12' transform='translate(727.0,440.0) scale(9.00)' color='rgb(255,   0, 255)'/>\n",
       "\t<use xlink:href='#gpPt12' transform='translate(455.0,562.1) scale(9.00)' color='rgb(255,   0, 255)'/>\n",
       "\t<use xlink:href='#gpPt12' transform='translate(183.0,683.3) scale(9.00)' color='rgb(255,   0, 255)'/>\n",
       "\t<use xlink:href='#gpPt12' transform='translate(961.3,88.7) scale(9.00)' color='rgb(255,   0, 255)'/>\n",
       "</g>\n",
       "\t</g>\n",
       "<g fill=\"none\" color=\"#FFFFFF\" stroke=\"rgb(255,   0, 255)\" stroke-width=\"2.00\" stroke-linecap=\"butt\" stroke-linejoin=\"miter\">\n",
       "</g>\n",
       "<g fill=\"none\" color=\"black\" stroke=\"currentColor\" stroke-width=\"2.00\" stroke-linecap=\"butt\" stroke-linejoin=\"miter\">\n",
       "</g>\n",
       "<g fill=\"none\" color=\"black\" stroke=\"black\" stroke-width=\"1.00\" stroke-linecap=\"butt\" stroke-linejoin=\"miter\">\n",
       "</g>\n",
       "<g fill=\"none\" color=\"black\" stroke=\"currentColor\" stroke-width=\"1.00\" stroke-linecap=\"butt\" stroke-linejoin=\"miter\">\n",
       "\t<path stroke='black'  d='M95.4,16.7 L95.4,732.0 L999.0,732.0 L999.0,16.7 L95.4,16.7 Z  '/></g>\n",
       "<g fill=\"none\" color=\"black\" stroke=\"currentColor\" stroke-width=\"1.00\" stroke-linecap=\"butt\" stroke-linejoin=\"miter\">\n",
       "</g>\n",
       "</g>\n",
       "</svg>\n",
       "\n"
      ]
     },
     "execution_count": 52,
     "metadata": {},
     "output_type": "execute_result"
    }
   ],
   "source": [
    "gpUpwind.PlotNow() // perform the plotting"
   ]
  },
  {
   "cell_type": "code",
   "execution_count": 42,
   "metadata": {
    "dotnet_interactive": {
     "language": "csharp"
    }
   },
   "outputs": [],
   "source": [
    "/// The convergence plot is also done for the Lax-Friedrichs flux."
   ]
  },
  {
   "cell_type": "code",
   "execution_count": 43,
   "metadata": {
    "dotnet_interactive": {
     "language": "csharp"
    }
   },
   "outputs": [
    {
     "name": "stdout",
     "output_type": "stream",
     "text": [
      "Using gnuplot: C:\\Program Files (x86)\\FDY\\BoSSS\\bin\\native\\win\\gnuplot-gp510-20160418-win32-mingw\\gnuplot\\bin\\gnuplot.exe\r\n"
     ]
    }
   ],
   "source": [
    "var gpLaxFriedrichs = new Gnuplot();     \n",
    "gpLaxFriedrichs.SetYRange(Math.Pow(10,-7), Math.Pow(10,0));"
   ]
  },
  {
   "cell_type": "code",
   "execution_count": 44,
   "metadata": {
    "dotnet_interactive": {
     "language": "csharp"
    }
   },
   "outputs": [],
   "source": [
    "for (int i = 0; i < dgDegrees.Length; i++) {     \n",
    " \n",
    "    var errorsForDegree = errors.ExtractSubArrayShallow(1, i, -1).To1DArray();     \n",
    " \n",
    "    PlotFormat format = new PlotFormat(lineColor: (LineColors)(i+1),     \n",
    "                                       Style: Styles.LinesPoints,       \n",
    "                                       pointType: PointTypes.Diamond,       \n",
    "                                       pointSize: 2.0);     \n",
    " \n",
    "    gpLaxFriedrichs.PlotLogXLogY(sizes, errorsForDegree,      \n",
    "                                 \"LaxFriedrichs, order \" + dgDegrees[i],      \n",
    "                                 format);     \n",
    "}"
   ]
  },
  {
   "cell_type": "code",
   "execution_count": 53,
   "metadata": {
    "dotnet_interactive": {
     "language": "csharp"
    }
   },
   "outputs": [
    {
     "data": {
      "text/html": [
       "<?xml version=\"1.0\" encoding=\"utf-8\"  standalone=\"no\"?>\n",
       "<!DOCTYPE svg PUBLIC \"-//W3C//DTD SVG 1.1//EN\"\n",
       " \"http://www.w3.org/Graphics/SVG/1.1/DTD/svg11.dtd\">\n",
       "<svg \n",
       " width=\"1024\" height=\"768\"\n",
       " viewBox=\"0 0 1024 768\"\n",
       " xmlns=\"http://www.w3.org/2000/svg\"\n",
       " xmlns:xlink=\"http://www.w3.org/1999/xlink\"\n",
       ">\n",
       "\n",
       "<title>Gnuplot</title>\n",
       "<desc>Produced by GNUPLOT 5.1 patchlevel 0 </desc>\n",
       "\n",
       "<g id=\"gnuplot_canvas\">\n",
       "\n",
       "<rect x=\"0\" y=\"0\" width=\"1024\" height=\"768\" fill=\"#ffffff\"/>\n",
       "<defs>\n",
       "\n",
       "\t<circle id='gpDot' r='0.5' stroke-width='0.5'/>\n",
       "\t<path id='gpPt0' stroke-width='0.222' stroke='currentColor' d='M-1,0 h2 M0,-1 v2'/>\n",
       "\t<path id='gpPt1' stroke-width='0.222' stroke='currentColor' d='M-1,-1 L1,1 M1,-1 L-1,1'/>\n",
       "\t<path id='gpPt2' stroke-width='0.222' stroke='currentColor' d='M-1,0 L1,0 M0,-1 L0,1 M-1,-1 L1,1 M-1,1 L1,-1'/>\n",
       "\t<rect id='gpPt3' stroke-width='0.222' stroke='currentColor' x='-1' y='-1' width='2' height='2'/>\n",
       "\t<rect id='gpPt4' stroke-width='0.222' stroke='currentColor' fill='currentColor' x='-1' y='-1' width='2' height='2'/>\n",
       "\t<circle id='gpPt5' stroke-width='0.222' stroke='currentColor' cx='0' cy='0' r='1'/>\n",
       "\t<use xlink:href='#gpPt5' id='gpPt6' fill='currentColor' stroke='none'/>\n",
       "\t<path id='gpPt7' stroke-width='0.222' stroke='currentColor' d='M0,-1.33 L-1.33,0.67 L1.33,0.67 z'/>\n",
       "\t<use xlink:href='#gpPt7' id='gpPt8' fill='currentColor' stroke='none'/>\n",
       "\t<use xlink:href='#gpPt7' id='gpPt9' stroke='currentColor' transform='rotate(180)'/>\n",
       "\t<use xlink:href='#gpPt9' id='gpPt10' fill='currentColor' stroke='none'/>\n",
       "\t<use xlink:href='#gpPt3' id='gpPt11' stroke='currentColor' transform='rotate(45)'/>\n",
       "\t<use xlink:href='#gpPt11' id='gpPt12' fill='currentColor' stroke='none'/>\n",
       "\t<path id='gpPt13' stroke-width='0.222' stroke='currentColor' d='M0,1.330 L1.265,0.411 L0.782,-1.067 L-0.782,-1.076 L-1.265,0.411 z'/>\n",
       "\t<use xlink:href='#gpPt13' id='gpPt14' fill='currentColor' stroke='none'/>\n",
       "\t<filter id='textbox' filterUnits='objectBoundingBox' x='0' y='0' height='1' width='1'>\n",
       "\t  <feFlood flood-color='#FFFFFF' flood-opacity='1' result='bgnd'/>\n",
       "\t  <feComposite in='SourceGraphic' in2='bgnd' operator='atop'/>\n",
       "\t</filter>\n",
       "\t<filter id='greybox' filterUnits='objectBoundingBox' x='0' y='0' height='1' width='1'>\n",
       "\t  <feFlood flood-color='lightgrey' flood-opacity='1' result='grey'/>\n",
       "\t  <feComposite in='SourceGraphic' in2='grey' operator='atop'/>\n",
       "\t</filter>\n",
       "</defs>\n",
       "<g fill=\"none\" color=\"#FFFFFF\" stroke=\"currentColor\" stroke-width=\"1.00\" stroke-linecap=\"butt\" stroke-linejoin=\"miter\">\n",
       "</g>\n",
       "<g fill=\"none\" color=\"black\" stroke=\"currentColor\" stroke-width=\"1.00\" stroke-linecap=\"butt\" stroke-linejoin=\"miter\">\n",
       "\t<path stroke='black'  d='M95.4,732.0 L104.4,732.0 M999.0,732.0 L990.0,732.0  '/>\t<g transform=\"translate(87.1,736.5)\" stroke=\"none\" fill=\"black\" font-family=\"Arial\" font-size=\"12.00\"  text-anchor=\"end\">\n",
       "\t\t<text><tspan font-family=\"Arial\" >0.0000001</tspan></text>\n",
       "\t</g>\n",
       "</g>\n",
       "<g fill=\"none\" color=\"black\" stroke=\"currentColor\" stroke-width=\"1.00\" stroke-linecap=\"butt\" stroke-linejoin=\"miter\">\n",
       "\t<path stroke='black'  d='M95.4,701.2 L99.9,701.2 M999.0,701.2 L994.5,701.2 M95.4,660.6 L99.9,660.6 M999.0,660.6 L994.5,660.6\n",
       "\t\tM95.4,639.7 L99.9,639.7 M999.0,639.7 L994.5,639.7 M95.4,629.8 L104.4,629.8 M999.0,629.8 L990.0,629.8\n",
       "\t\t '/>\t<g transform=\"translate(87.1,634.3)\" stroke=\"none\" fill=\"black\" font-family=\"Arial\" font-size=\"12.00\"  text-anchor=\"end\">\n",
       "\t\t<text><tspan font-family=\"Arial\" >0.0000010</tspan></text>\n",
       "\t</g>\n",
       "</g>\n",
       "<g fill=\"none\" color=\"black\" stroke=\"currentColor\" stroke-width=\"1.00\" stroke-linecap=\"butt\" stroke-linejoin=\"miter\">\n",
       "\t<path stroke='black'  d='M95.4,599.1 L99.9,599.1 M999.0,599.1 L994.5,599.1 M95.4,558.4 L99.9,558.4 M999.0,558.4 L994.5,558.4\n",
       "\t\tM95.4,537.5 L99.9,537.5 M999.0,537.5 L994.5,537.5 M95.4,527.6 L104.4,527.6 M999.0,527.6 L990.0,527.6\n",
       "\t\t '/>\t<g transform=\"translate(87.1,532.1)\" stroke=\"none\" fill=\"black\" font-family=\"Arial\" font-size=\"12.00\"  text-anchor=\"end\">\n",
       "\t\t<text><tspan font-family=\"Arial\" >0.0000100</tspan></text>\n",
       "\t</g>\n",
       "</g>\n",
       "<g fill=\"none\" color=\"black\" stroke=\"currentColor\" stroke-width=\"1.00\" stroke-linecap=\"butt\" stroke-linejoin=\"miter\">\n",
       "\t<path stroke='black'  d='M95.4,496.9 L99.9,496.9 M999.0,496.9 L994.5,496.9 M95.4,456.2 L99.9,456.2 M999.0,456.2 L994.5,456.2\n",
       "\t\tM95.4,435.3 L99.9,435.3 M999.0,435.3 L994.5,435.3 M95.4,425.4 L104.4,425.4 M999.0,425.4 L990.0,425.4\n",
       "\t\t '/>\t<g transform=\"translate(87.1,429.9)\" stroke=\"none\" fill=\"black\" font-family=\"Arial\" font-size=\"12.00\"  text-anchor=\"end\">\n",
       "\t\t<text><tspan font-family=\"Arial\" >0.0001000</tspan></text>\n",
       "\t</g>\n",
       "</g>\n",
       "<g fill=\"none\" color=\"black\" stroke=\"currentColor\" stroke-width=\"1.00\" stroke-linecap=\"butt\" stroke-linejoin=\"miter\">\n",
       "\t<path stroke='black'  d='M95.4,394.7 L99.9,394.7 M999.0,394.7 L994.5,394.7 M95.4,354.0 L99.9,354.0 M999.0,354.0 L994.5,354.0\n",
       "\t\tM95.4,333.2 L99.9,333.2 M999.0,333.2 L994.5,333.2 M95.4,323.3 L104.4,323.3 M999.0,323.3 L990.0,323.3\n",
       "\t\t '/>\t<g transform=\"translate(87.1,327.8)\" stroke=\"none\" fill=\"black\" font-family=\"Arial\" font-size=\"12.00\"  text-anchor=\"end\">\n",
       "\t\t<text><tspan font-family=\"Arial\" >0.0010000</tspan></text>\n",
       "\t</g>\n",
       "</g>\n",
       "<g fill=\"none\" color=\"black\" stroke=\"currentColor\" stroke-width=\"1.00\" stroke-linecap=\"butt\" stroke-linejoin=\"miter\">\n",
       "\t<path stroke='black'  d='M95.4,292.5 L99.9,292.5 M999.0,292.5 L994.5,292.5 M95.4,251.8 L99.9,251.8 M999.0,251.8 L994.5,251.8\n",
       "\t\tM95.4,231.0 L99.9,231.0 M999.0,231.0 L994.5,231.0 M95.4,221.1 L104.4,221.1 M999.0,221.1 L990.0,221.1\n",
       "\t\t '/>\t<g transform=\"translate(87.1,225.6)\" stroke=\"none\" fill=\"black\" font-family=\"Arial\" font-size=\"12.00\"  text-anchor=\"end\">\n",
       "\t\t<text><tspan font-family=\"Arial\" >0.0100000</tspan></text>\n",
       "\t</g>\n",
       "</g>\n",
       "<g fill=\"none\" color=\"black\" stroke=\"currentColor\" stroke-width=\"1.00\" stroke-linecap=\"butt\" stroke-linejoin=\"miter\">\n",
       "\t<path stroke='black'  d='M95.4,190.3 L99.9,190.3 M999.0,190.3 L994.5,190.3 M95.4,149.6 L99.9,149.6 M999.0,149.6 L994.5,149.6\n",
       "\t\tM95.4,128.8 L99.9,128.8 M999.0,128.8 L994.5,128.8 M95.4,118.9 L104.4,118.9 M999.0,118.9 L990.0,118.9\n",
       "\t\t '/>\t<g transform=\"translate(87.1,123.4)\" stroke=\"none\" fill=\"black\" font-family=\"Arial\" font-size=\"12.00\"  text-anchor=\"end\">\n",
       "\t\t<text><tspan font-family=\"Arial\" >0.1000000</tspan></text>\n",
       "\t</g>\n",
       "</g>\n",
       "<g fill=\"none\" color=\"black\" stroke=\"currentColor\" stroke-width=\"1.00\" stroke-linecap=\"butt\" stroke-linejoin=\"miter\">\n",
       "\t<path stroke='black'  d='M95.4,88.1 L99.9,88.1 M999.0,88.1 L994.5,88.1 M95.4,47.5 L99.9,47.5 M999.0,47.5 L994.5,47.5\n",
       "\t\tM95.4,26.6 L99.9,26.6 M999.0,26.6 L994.5,26.6 M95.4,16.7 L104.4,16.7 M999.0,16.7 L990.0,16.7\n",
       "\t\t '/>\t<g transform=\"translate(87.1,21.2)\" stroke=\"none\" fill=\"black\" font-family=\"Arial\" font-size=\"12.00\"  text-anchor=\"end\">\n",
       "\t\t<text><tspan font-family=\"Arial\" >1.0000000</tspan></text>\n",
       "\t</g>\n",
       "</g>\n",
       "<g fill=\"none\" color=\"black\" stroke=\"currentColor\" stroke-width=\"1.00\" stroke-linecap=\"butt\" stroke-linejoin=\"miter\">\n",
       "\t<path stroke='black'  d='M95.4,732.0 L95.4,723.0 M95.4,16.7 L95.4,25.7  '/>\t<g transform=\"translate(95.4,754.5)\" stroke=\"none\" fill=\"black\" font-family=\"Arial\" font-size=\"12.00\"  text-anchor=\"middle\">\n",
       "\t\t<text><tspan font-family=\"Arial\" > 0.1</tspan></text>\n",
       "\t</g>\n",
       "</g>\n",
       "<g fill=\"none\" color=\"black\" stroke=\"currentColor\" stroke-width=\"1.00\" stroke-linecap=\"butt\" stroke-linejoin=\"miter\">\n",
       "\t<path stroke='black'  d='M367.4,732.0 L367.4,727.5 M367.4,16.7 L367.4,21.2 M526.5,732.0 L526.5,727.5 M526.5,16.7 L526.5,21.2\n",
       "\t\tM639.4,732.0 L639.4,727.5 M639.4,16.7 L639.4,21.2 M727.0,732.0 L727.0,727.5 M727.0,16.7 L727.0,21.2\n",
       "\t\tM798.5,732.0 L798.5,727.5 M798.5,16.7 L798.5,21.2 M859.0,732.0 L859.0,727.5 M859.0,16.7 L859.0,21.2\n",
       "\t\tM911.4,732.0 L911.4,727.5 M911.4,16.7 L911.4,21.2 M957.7,732.0 L957.7,727.5 M957.7,16.7 L957.7,21.2\n",
       "\t\tM999.0,732.0 L999.0,723.0 M999.0,16.7 L999.0,25.7  '/>\t<g transform=\"translate(999.0,754.5)\" stroke=\"none\" fill=\"black\" font-family=\"Arial\" font-size=\"12.00\"  text-anchor=\"middle\">\n",
       "\t\t<text><tspan font-family=\"Arial\" > 1</tspan></text>\n",
       "\t</g>\n",
       "</g>\n",
       "<g fill=\"none\" color=\"black\" stroke=\"currentColor\" stroke-width=\"1.00\" stroke-linecap=\"butt\" stroke-linejoin=\"miter\">\n",
       "</g>\n",
       "<g fill=\"none\" color=\"black\" stroke=\"currentColor\" stroke-width=\"1.00\" stroke-linecap=\"butt\" stroke-linejoin=\"miter\">\n",
       "\t<path stroke='black'  d='M95.4,16.7 L95.4,732.0 L999.0,732.0 L999.0,16.7 L95.4,16.7 Z  '/></g>\n",
       "<g fill=\"none\" color=\"black\" stroke=\"currentColor\" stroke-width=\"1.00\" stroke-linecap=\"butt\" stroke-linejoin=\"miter\">\n",
       "</g>\n",
       "\t<g id=\"gnuplot_plot_1\" ><title>LaxFriedrichs, order 0</title>\n",
       "<g fill=\"none\" color=\"black\" stroke=\"currentColor\" stroke-width=\"1.00\" stroke-linecap=\"butt\" stroke-linejoin=\"miter\">\n",
       "\t<g transform=\"translate(931.9,39.2)\" stroke=\"none\" fill=\"black\" font-family=\"Arial\" font-size=\"12.00\"  text-anchor=\"end\">\n",
       "\t\t<text><tspan font-family=\"Arial\" >LaxFriedrichs, order 0</tspan></text>\n",
       "\t</g>\n",
       "</g>\n",
       "<g fill=\"none\" color=\"black\" stroke=\"currentColor\" stroke-width=\"1.00\" stroke-linecap=\"butt\" stroke-linejoin=\"miter\">\n",
       "\t<path stroke='rgb(255,   0,   0)'  d='M940.2,34.7 L982.4,34.7 M999.0,86.2 L727.0,104.0 L455.0,126.9 L183.0,153.3  '/>\t<use xlink:href='#gpPt12' transform='translate(999.0,86.2) scale(9.00)' color='rgb(255,   0,   0)'/>\n",
       "\t<use xlink:href='#gpPt12' transform='translate(727.0,104.0) scale(9.00)' color='rgb(255,   0,   0)'/>\n",
       "\t<use xlink:href='#gpPt12' transform='translate(455.0,126.9) scale(9.00)' color='rgb(255,   0,   0)'/>\n",
       "\t<use xlink:href='#gpPt12' transform='translate(183.0,153.3) scale(9.00)' color='rgb(255,   0,   0)'/>\n",
       "\t<use xlink:href='#gpPt12' transform='translate(961.3,34.7) scale(9.00)' color='rgb(255,   0,   0)'/>\n",
       "</g>\n",
       "\t</g>\n",
       "\t<g id=\"gnuplot_plot_2\" ><title>LaxFriedrichs, order 1</title>\n",
       "<g fill=\"none\" color=\"black\" stroke=\"currentColor\" stroke-width=\"1.00\" stroke-linecap=\"butt\" stroke-linejoin=\"miter\">\n",
       "\t<g transform=\"translate(931.9,57.2)\" stroke=\"none\" fill=\"black\" font-family=\"Arial\" font-size=\"12.00\"  text-anchor=\"end\">\n",
       "\t\t<text><tspan font-family=\"Arial\" >LaxFriedrichs, order 1</tspan></text>\n",
       "\t</g>\n",
       "</g>\n",
       "<g fill=\"none\" color=\"black\" stroke=\"currentColor\" stroke-width=\"1.00\" stroke-linecap=\"butt\" stroke-linejoin=\"miter\">\n",
       "\t<path stroke='rgb(  0, 255,   0)'  d='M940.2,52.7 L982.4,52.7 M999.0,123.2 L727.0,184.4 L455.0,246.3 L183.0,308.0  '/>\t<use xlink:href='#gpPt12' transform='translate(999.0,123.2) scale(9.00)' color='rgb(  0, 255,   0)'/>\n",
       "\t<use xlink:href='#gpPt12' transform='translate(727.0,184.4) scale(9.00)' color='rgb(  0, 255,   0)'/>\n",
       "\t<use xlink:href='#gpPt12' transform='translate(455.0,246.3) scale(9.00)' color='rgb(  0, 255,   0)'/>\n",
       "\t<use xlink:href='#gpPt12' transform='translate(183.0,308.0) scale(9.00)' color='rgb(  0, 255,   0)'/>\n",
       "\t<use xlink:href='#gpPt12' transform='translate(961.3,52.7) scale(9.00)' color='rgb(  0, 255,   0)'/>\n",
       "</g>\n",
       "\t</g>\n",
       "\t<g id=\"gnuplot_plot_3\" ><title>LaxFriedrichs, order 2</title>\n",
       "<g fill=\"none\" color=\"black\" stroke=\"currentColor\" stroke-width=\"1.00\" stroke-linecap=\"butt\" stroke-linejoin=\"miter\">\n",
       "\t<g transform=\"translate(931.9,75.2)\" stroke=\"none\" fill=\"black\" font-family=\"Arial\" font-size=\"12.00\"  text-anchor=\"end\">\n",
       "\t\t<text><tspan font-family=\"Arial\" >LaxFriedrichs, order 2</tspan></text>\n",
       "\t</g>\n",
       "</g>\n",
       "<g fill=\"none\" color=\"black\" stroke=\"currentColor\" stroke-width=\"1.00\" stroke-linecap=\"butt\" stroke-linejoin=\"miter\">\n",
       "\t<path stroke='rgb(  0,   0, 255)'  d='M940.2,70.7 L982.4,70.7 M999.0,246.1 L727.0,332.7 L455.0,424.0 L183.0,515.5  '/>\t<use xlink:href='#gpPt12' transform='translate(999.0,246.1) scale(9.00)' color='rgb(  0,   0, 255)'/>\n",
       "\t<use xlink:href='#gpPt12' transform='translate(727.0,332.7) scale(9.00)' color='rgb(  0,   0, 255)'/>\n",
       "\t<use xlink:href='#gpPt12' transform='translate(455.0,424.0) scale(9.00)' color='rgb(  0,   0, 255)'/>\n",
       "\t<use xlink:href='#gpPt12' transform='translate(183.0,515.5) scale(9.00)' color='rgb(  0,   0, 255)'/>\n",
       "\t<use xlink:href='#gpPt12' transform='translate(961.3,70.7) scale(9.00)' color='rgb(  0,   0, 255)'/>\n",
       "</g>\n",
       "\t</g>\n",
       "\t<g id=\"gnuplot_plot_4\" ><title>LaxFriedrichs, order 3</title>\n",
       "<g fill=\"none\" color=\"black\" stroke=\"currentColor\" stroke-width=\"1.00\" stroke-linecap=\"butt\" stroke-linejoin=\"miter\">\n",
       "\t<g transform=\"translate(931.9,93.2)\" stroke=\"none\" fill=\"black\" font-family=\"Arial\" font-size=\"12.00\"  text-anchor=\"end\">\n",
       "\t\t<text><tspan font-family=\"Arial\" >LaxFriedrichs, order 3</tspan></text>\n",
       "\t</g>\n",
       "</g>\n",
       "<g fill=\"none\" color=\"black\" stroke=\"currentColor\" stroke-width=\"1.00\" stroke-linecap=\"butt\" stroke-linejoin=\"miter\">\n",
       "\t<path stroke='rgb(255,   0, 255)'  d='M940.2,88.7 L982.4,88.7 M999.0,317.7 L727.0,440.2 L455.0,562.2 L183.0,683.7  '/>\t<use xlink:href='#gpPt12' transform='translate(999.0,317.7) scale(9.00)' color='rgb(255,   0, 255)'/>\n",
       "\t<use xlink:href='#gpPt12' transform='translate(727.0,440.2) scale(9.00)' color='rgb(255,   0, 255)'/>\n",
       "\t<use xlink:href='#gpPt12' transform='translate(455.0,562.2) scale(9.00)' color='rgb(255,   0, 255)'/>\n",
       "\t<use xlink:href='#gpPt12' transform='translate(183.0,683.7) scale(9.00)' color='rgb(255,   0, 255)'/>\n",
       "\t<use xlink:href='#gpPt12' transform='translate(961.3,88.7) scale(9.00)' color='rgb(255,   0, 255)'/>\n",
       "</g>\n",
       "\t</g>\n",
       "<g fill=\"none\" color=\"#FFFFFF\" stroke=\"rgb(255,   0, 255)\" stroke-width=\"2.00\" stroke-linecap=\"butt\" stroke-linejoin=\"miter\">\n",
       "</g>\n",
       "<g fill=\"none\" color=\"black\" stroke=\"currentColor\" stroke-width=\"2.00\" stroke-linecap=\"butt\" stroke-linejoin=\"miter\">\n",
       "</g>\n",
       "<g fill=\"none\" color=\"black\" stroke=\"black\" stroke-width=\"1.00\" stroke-linecap=\"butt\" stroke-linejoin=\"miter\">\n",
       "</g>\n",
       "<g fill=\"none\" color=\"black\" stroke=\"currentColor\" stroke-width=\"1.00\" stroke-linecap=\"butt\" stroke-linejoin=\"miter\">\n",
       "\t<path stroke='black'  d='M95.4,16.7 L95.4,732.0 L999.0,732.0 L999.0,16.7 L95.4,16.7 Z  '/></g>\n",
       "<g fill=\"none\" color=\"black\" stroke=\"currentColor\" stroke-width=\"1.00\" stroke-linecap=\"butt\" stroke-linejoin=\"miter\">\n",
       "</g>\n",
       "</g>\n",
       "</svg>\n",
       "\n"
      ]
     },
     "execution_count": 53,
     "metadata": {},
     "output_type": "execute_result"
    }
   ],
   "source": [
    "gpLaxFriedrichs.PlotNow()"
   ]
  },
  {
   "cell_type": "code",
   "execution_count": 46,
   "metadata": {
    "dotnet_interactive": {
     "language": "csharp"
    }
   },
   "outputs": [],
   "source": [
    "/// %"
   ]
  },
  {
   "cell_type": "code",
   "execution_count": 47,
   "metadata": {
    "dotnet_interactive": {
     "language": "csharp"
    }
   },
   "outputs": [],
   "source": [
    "/// %==========================================\n",
    "/// \\subsection{Linear regression by ordinary least squares}\\label{sec:NumFlux_slopes}\n",
    "/// \\subsection{Linear regression by ordinary least squares}\\label{sec:flux_and_convergence_slopes}\n",
    "/// %==========================================="
   ]
  },
  {
   "cell_type": "code",
   "execution_count": 48,
   "metadata": {
    "dotnet_interactive": {
     "language": "csharp"
    }
   },
   "outputs": [],
   "source": [
    "/// For the determination of the experimental order of convergence (EOC) the linear regression is used \n",
    "/// to compute the slope of the line in the log-log plot. In the following, the ordinary least squares method \n",
    "/// is implemented to estimate the regression coefficient of the slope for given sets of x- and y-values."
   ]
  },
  {
   "cell_type": "code",
   "execution_count": 49,
   "metadata": {
    "dotnet_interactive": {
     "language": "csharp"
    }
   },
   "outputs": [],
   "source": [
    "Func<double[], double[], double> slope =      \n",
    "    delegate(double[] xValues, double[] yValues) {     \n",
    " \n",
    "    if (xValues.Length != yValues.Length) {     \n",
    "        throw new ArgumentException();     \n",
    "    }     \n",
    " \n",
    "    xValues = xValues.Select(s => Math.Log10(s)).ToArray();     \n",
    "    yValues = yValues.Select(s => Math.Log10(s)).ToArray();     \n",
    " \n",
    "    double xAverage = xValues.Sum() / xValues.Length;     \n",
    "    double yAverage = yValues.Sum() / yValues.Length;     \n",
    " \n",
    "    double v1 = 0.0;     \n",
    "    double v2 = 0.0;     \n",
    " \n",
    "    // Computation of the regression coefficient for the slope     \n",
    "    for (int i = 0; i < yValues.Length; i++) {     \n",
    "        v1 += (xValues[i] - xAverage) * (yValues[i] - yAverage);     \n",
    "        v2 += Math.Pow(xValues[i] - xAverage, 2);     \n",
    "    }     \n",
    "    return v1 / v2;     \n",
    "};"
   ]
  },
  {
   "cell_type": "code",
   "execution_count": 50,
   "metadata": {
    "dotnet_interactive": {
     "language": "csharp"
    }
   },
   "outputs": [
    {
     "data": {
      "text/html": [
       "<div class=\"dni-plaintext\">True</div>"
      ]
     },
     "execution_count": 50,
     "metadata": {},
     "output_type": "execute_result"
    }
   ],
   "source": [
    "// Verification that the slope is computed correctly     \n",
    "Math.Abs(slope(sizes, new double[] { 64.0, 16.0, 4.0, 1.0 }) - 2.0) < 1e-14"
   ]
  },
  {
   "cell_type": "code",
   "execution_count": 51,
   "metadata": {
    "dotnet_interactive": {
     "language": "csharp"
    }
   },
   "outputs": [
    {
     "name": "stdout",
     "output_type": "stream",
     "text": [
      "\n",
      "Upwind flux, order 0:\t\t 0,79\n",
      "Lax-Friedrichs flux, order 0:\t 0,73\n",
      "\n",
      "Upwind flux, order 1:\t\t 1,98\n",
      "Lax-Friedrichs flux, order 1:\t 2,00\n",
      "\n",
      "Upwind flux, order 2:\t\t 2,96\n",
      "Lax-Friedrichs flux, order 2:\t 2,92\n",
      "\n",
      "Upwind flux, order 3:\t\t 3,95\n",
      "Lax-Friedrichs flux, order 3:\t 3,97\n"
     ]
    }
   ],
   "source": [
    "/// The experimental orders of convergence (EOC) are computed for both fluxes \n",
    "/// for each polynomial degree of the ansatzfunctions\n",
    "for (int i = 0; i < dgDegrees.Length; i++) {     \n",
    " \n",
    "    Console.WriteLine();     \n",
    " \n",
    "    var errorsForDegree = errors.ExtractSubArrayShallow(0, i, -1).To1DArray();     \n",
    " \n",
    "    Console.WriteLine(     \n",
    "        \"Upwind flux, order {0}:\\t\\t {1:F2}\", i,      \n",
    "        slope(sizes, errorsForDegree));     \n",
    " \n",
    "    errorsForDegree = errors.ExtractSubArrayShallow(1, i, -1).To1DArray();     \n",
    " \n",
    "    Console.WriteLine(     \n",
    "        \"Lax-Friedrichs flux, order {0}:\\t {1:F2}\", i,     \n",
    "        slope(sizes, errorsForDegree));     \n",
    "}"
   ]
  }
 ],
 "metadata": {
  "kernelspec": {
   "display_name": ".NET (C#)",
   "language": "C#",
   "name": ".net-csharp"
  },
  "language_info": {
   "file_extension": ".cs",
   "mimetype": "text/x-csharp",
   "name": "C#",
   "pygments_lexer": "csharp",
   "version": "8.0"
  }
 },
 "nbformat": 4,
 "nbformat_minor": 4
}
