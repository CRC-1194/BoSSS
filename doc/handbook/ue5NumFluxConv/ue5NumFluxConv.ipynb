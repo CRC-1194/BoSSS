{
 "cells": [
  {
   "cell_type": "code",
   "execution_count": 1,
   "metadata": {
    "dotnet_interactive": {
     "language": "csharp"
    }
   },
   "outputs": [
    {
     "data": {
      "text/html": [
       "\r\n",
       "<div>\r\n",
       "    <div id='dotnet-interactive-this-cell-27220.Microsoft.DotNet.Interactive.Http.HttpPort' style='display: none'>\r\n",
       "        The below script needs to be able to find the current output cell; this is an easy method to get it.\r\n",
       "    </div>\r\n",
       "    <script type='text/javascript'>\r\n",
       "async function probeAddresses(probingAddresses) {\r\n",
       "    function timeout(ms, promise) {\r\n",
       "        return new Promise(function (resolve, reject) {\r\n",
       "            setTimeout(function () {\r\n",
       "                reject(new Error('timeout'))\r\n",
       "            }, ms)\r\n",
       "            promise.then(resolve, reject)\r\n",
       "        })\r\n",
       "    }\r\n",
       "\r\n",
       "    if (Array.isArray(probingAddresses)) {\r\n",
       "        for (let i = 0; i < probingAddresses.length; i++) {\r\n",
       "\r\n",
       "            let rootUrl = probingAddresses[i];\r\n",
       "\r\n",
       "            if (!rootUrl.endsWith('/')) {\r\n",
       "                rootUrl = `${rootUrl}/`;\r\n",
       "            }\r\n",
       "\r\n",
       "            try {\r\n",
       "                let response = await timeout(1000, fetch(`${rootUrl}discovery`, {\r\n",
       "                    method: 'POST',\r\n",
       "                    cache: 'no-cache',\r\n",
       "                    mode: 'cors',\r\n",
       "                    timeout: 1000,\r\n",
       "                    headers: {\r\n",
       "                        'Content-Type': 'text/plain'\r\n",
       "                    },\r\n",
       "                    body: probingAddresses[i]\r\n",
       "                }));\r\n",
       "\r\n",
       "                if (response.status == 200) {\r\n",
       "                    return rootUrl;\r\n",
       "                }\r\n",
       "            }\r\n",
       "            catch (e) { }\r\n",
       "        }\r\n",
       "    }\r\n",
       "}\r\n",
       "\r\n",
       "function loadDotnetInteractiveApi() {\r\n",
       "    probeAddresses([\"http://192.168.56.1:1000/\", \"http://169.254.241.121:1000/\", \"http://192.168.178.23:1000/\", \"http://172.18.114.81:1000/\", \"http://127.0.0.1:1000/\"])\r\n",
       "        .then((root) => {\r\n",
       "        // use probing to find host url and api resources\r\n",
       "        // load interactive helpers and language services\r\n",
       "        let dotnetInteractiveRequire = require.config({\r\n",
       "        context: '27220.Microsoft.DotNet.Interactive.Http.HttpPort',\r\n",
       "                paths:\r\n",
       "            {\r\n",
       "                'dotnet-interactive': `${root}resources`\r\n",
       "                }\r\n",
       "        }) || require;\r\n",
       "\r\n",
       "            window.dotnetInteractiveRequire = dotnetInteractiveRequire;\r\n",
       "\r\n",
       "            window.configureRequireFromExtension = function(extensionName, extensionCacheBuster) {\r\n",
       "                let paths = {};\r\n",
       "                paths[extensionName] = `${root}extensions/${extensionName}/resources/`;\r\n",
       "                \r\n",
       "                let internalRequire = require.config({\r\n",
       "                    context: extensionCacheBuster,\r\n",
       "                    paths: paths,\r\n",
       "                    urlArgs: `cacheBuster=${extensionCacheBuster}`\r\n",
       "                    }) || require;\r\n",
       "\r\n",
       "                return internalRequire\r\n",
       "            };\r\n",
       "        \r\n",
       "            dotnetInteractiveRequire([\r\n",
       "                    'dotnet-interactive/dotnet-interactive'\r\n",
       "                ],\r\n",
       "                function (dotnet) {\r\n",
       "                    dotnet.init(window);\r\n",
       "                },\r\n",
       "                function (error) {\r\n",
       "                    console.log(error);\r\n",
       "                }\r\n",
       "            );\r\n",
       "        })\r\n",
       "        .catch(error => {console.log(error);});\r\n",
       "    }\r\n",
       "\r\n",
       "// ensure `require` is available globally\r\n",
       "if ((typeof(require) !==  typeof(Function)) || (typeof(require.config) !== typeof(Function))) {\r\n",
       "    let require_script = document.createElement('script');\r\n",
       "    require_script.setAttribute('src', 'https://cdnjs.cloudflare.com/ajax/libs/require.js/2.3.6/require.min.js');\r\n",
       "    require_script.setAttribute('type', 'text/javascript');\r\n",
       "    \r\n",
       "    \r\n",
       "    require_script.onload = function() {\r\n",
       "        loadDotnetInteractiveApi();\r\n",
       "    };\r\n",
       "\r\n",
       "    document.getElementsByTagName('head')[0].appendChild(require_script);\r\n",
       "}\r\n",
       "else {\r\n",
       "    loadDotnetInteractiveApi();\r\n",
       "}\r\n",
       "\r\n",
       "    </script>\r\n",
       "</div>"
      ]
     },
     "metadata": {},
     "output_type": "display_data"
    }
   ],
   "source": [
    "///\\section*{What's new}\n",
    "///\\begin{itemize}\n",
    "/// \\item implementing the Lax-Friedrichs flux\n",
    "/// \\item computation of \"experimental order of convergence\" (EOC)\n",
    "///\\end{itemize}\n",
    "///\n",
    "///\\section*{Prerequisites}\n",
    "///\\begin{itemize}\n",
    "/// \\item definition of fluxes, chapter \\ref{SpatialOperator}\n",
    "/// \\item grid generation, chapter \\ref{GridInstantiation}\n",
    "/// \\item basics of convergence studies, chapter \\ref{GridInstantiation}\n",
    "///\\end{itemize}\n",
    "///Within this tutorial the Lax-Friedrichs flux will be implemented as an alternative to the Upwind flux (see chapter \\ref{SpatialOperator}). \n",
    "/// For both fluxes a convergence study will be performed and the \"experimental order of convergence\" (EOC) will be computed. \n",
    "///For the implementation of the Lax-Friedrichs flux and the Upwind flux it is recommended to work through chapter \\ref{SpatialOperator} first \n",
    "/// as the definition of fluxes is explained there in more detail. For the second part of the tutorial, \n",
    "/// chapter \\ref{GridInstantiation} has already taught the basics of doing a convergence study.\n",
    "///\n",
    "///\\section{Problem statement}\n",
    "///\\label{sec:NumFlux_problem}\n",
    "///As an examplary problem, we consider the scalar transport equation\n",
    "///\\begin{equation}\n",
    "///\\frac{\\partial c}{\\partial t} + \\nabla \\cdot (\\vec{u} c) = 0\n",
    "///\\end{equation}\n",
    "///in the domain $\\domain = [-1, 1] \\times [-1, 1]$, where the concentration $c = c(x,y,t) \\in \\mathbb{R}$ is unknown and the velocity field is given by\n",
    "///\\begin{equation*}\n",
    "///\\vec{u} = \\begin{pmatrix}\n",
    "///y\\\\-x\n",
    "///\\end{pmatrix}\n",
    "///\\end{equation*}\n",
    "///The analytical solution for the problem above is given by \n",
    "///\\begin{align*}\n",
    "///c_\\text{Exact}(x,y,t) &= \\cos(\\cos(t) x - \\sin(t) y) \\quad \\text{ for } (x,y) \\in \\domain,\n",
    "///\\end{align*}\n",
    "///which can be used to describe the initial and boundary conditions. \n",
    "///\n",
    "///\\section{Solution within the BoSSS Framework}\n",
    "///\\label{sec:NumFlux_tutorial}"
   ]
  },
  {
   "cell_type": "code",
   "execution_count": 2,
   "metadata": {
    "dotnet_interactive": {
     "language": "csharp"
    }
   },
   "outputs": [],
   "source": [
    "#r \"BoSSSpad.dll\"\n",
    "using System;\n",
    "using System.Collections.Generic;\n",
    "using System.Linq;\n",
    "using ilPSP;\n",
    "using ilPSP.Utils;\n",
    "using BoSSS.Platform;\n",
    "using BoSSS.Foundation;\n",
    "using BoSSS.Foundation.Grid;\n",
    "using BoSSS.Foundation.Grid.Classic;\n",
    "using BoSSS.Foundation.IO;\n",
    "using BoSSS.Solution;\n",
    "using BoSSS.Solution.Control;\n",
    "using BoSSS.Solution.GridImport;\n",
    "using BoSSS.Solution.Statistic;\n",
    "using BoSSS.Solution.Utils;\n",
    "using BoSSS.Solution.Gnuplot;\n",
    "using BoSSS.Application.BoSSSpad;\n",
    "using BoSSS.Application.XNSE_Solver;\n",
    "using static BoSSS.Application.BoSSSpad.BoSSSshell;\n",
    "Init();\n"
   ]
  },
  {
   "cell_type": "code",
   "execution_count": 3,
   "metadata": {
    "dotnet_interactive": {
     "language": "csharp"
    }
   },
   "outputs": [],
   "source": [
    "/// First, we define functions for the given velocity field and the exact solution"
   ]
  },
  {
   "cell_type": "code",
   "execution_count": 4,
   "metadata": {},
   "outputs": [],
   "source": [
    "public static class MyGlobals {\n",
    "    public static double u(double[] X) => X[1];\n",
    "    public static double v(double[] X) => -X[0];\n",
    "    public static double cExact(double[] X, double t) => Math.Cos(Math.Cos(t)*X[0] - Math.Sin(t)*X[1]);\n",
    "}"
   ]
  },
  {
   "cell_type": "code",
   "execution_count": 5,
   "metadata": {
    "dotnet_interactive": {
     "language": "csharp"
    }
   },
   "outputs": [],
   "source": [
    "/// %=============================================\n",
    "/// \\subsection{Definition of the numerical fluxes} \\label{sec:NumFlux_fluxes}\n",
    "/// \\subsection{Definition of the numerical fluxes} \\label{sec:flux_and_convergence_fluxes}\n",
    "/// %============================================="
   ]
  },
  {
   "cell_type": "code",
   "execution_count": 6,
   "metadata": {
    "dotnet_interactive": {
     "language": "csharp"
    }
   },
   "outputs": [],
   "source": [
    "using BoSSS.Platform.LinAlg;"
   ]
  },
  {
   "cell_type": "code",
   "execution_count": 7,
   "metadata": {
    "dotnet_interactive": {
     "language": "csharp"
    }
   },
   "outputs": [],
   "source": [
    "/// Before implementing the \\code{ScalarTransportFlux} as done in Tutorial 4, we define both fluxes \n",
    "/// as functions in terms of the parameters \\code{Uin}, \\code{Uout}, the normal vector \\code{n} and the\n",
    "/// \\code{velocityVector}. Recalling the Upwind flux, the corresponding flux function is defined as"
   ]
  },
  {
   "cell_type": "code",
   "execution_count": 8,
   "metadata": {
    "dotnet_interactive": {
     "language": "csharp"
    }
   },
   "outputs": [],
   "source": [
    "Func<double, double, Vector, Vector, double> upwindFlux =     \n",
    "    delegate(double Uin, double Uout, Vector n, Vector velocityVector) {     \n",
    " \n",
    "        if (velocityVector * n > 0) {     \n",
    "            return (velocityVector * Uin) * n;     \n",
    "        } else {     \n",
    "           return (velocityVector * Uout) * n;     \n",
    "        }     \n",
    "    };"
   ]
  },
  {
   "cell_type": "code",
   "execution_count": 9,
   "metadata": {
    "dotnet_interactive": {
     "language": "csharp"
    }
   },
   "outputs": [],
   "source": [
    "/// The second flux we are considering now, is the Lax-Friedrichs flux\n",
    "/// \\begin{equation*}\n",
    "/// \\hat{f}(c_h^-, c_h^+, \\vec{u} \\cdot \\vec{n}) = \\mean{\\vec{u} \\, c_h} \\cdot \\vec{n} + \\frac{C}{2} \\jump{c_h}.\n",
    "/// \\end{equation*}\n",
    "/// The constant $C \\in \\mathbb{R}^+$ has to be sufficiently large in order to guarantee the stability of the \n",
    "/// numerical scheme. We choose \n",
    "/// \\begin{equation*}\n",
    "/// C = \\max \\abs{\\vec{u} \\cdot \\vec{n}} = 1\n",
    "/// \\end{equation*}\n",
    "/// for the given problem."
   ]
  },
  {
   "cell_type": "code",
   "execution_count": 10,
   "metadata": {
    "dotnet_interactive": {
     "language": "csharp"
    }
   },
   "outputs": [],
   "source": [
    "double C = 0.3;     \n",
    " \n",
    "Func<double, double, Vector, Vector, double> laxFriedrichsFlux =     \n",
    "    delegate(double Uin, double Uout, Vector n, Vector velocityVector) {     \n",
    " \n",
    "        return 0.5 * (Uin + Uout) * velocityVector * n - C * (Uout - Uin);     \n",
    "    };"
   ]
  },
  {
   "cell_type": "code",
   "execution_count": 11,
   "metadata": {
    "dotnet_interactive": {
     "language": "csharp"
    }
   },
   "outputs": [],
   "source": [
    "/// For the implementation of the \\code{ScalarTransportFlux} we want to generate \n",
    "/// instances by the definition of the \\code{numericalFlux}. Therefore a new constructor is implemented \n",
    "/// and the implementation of \\code{InnerEdgeFlux} is rewritten in terms of the \\code{numericalFlux}.\n",
    "class ScalarTransportFlux : NonlinearFlux {     \n",
    " \n",
    "    private Func<double, double, Vector, Vector, double> numericalFlux;     \n",
    " \n",
    "    // Provides instances of this class with a specific flux implementation     \n",
    "    public ScalarTransportFlux(     \n",
    "        Func<double, double, Vector, Vector, double> numericalFlux) {     \n",
    " \n",
    "        this.numericalFlux = numericalFlux;     \n",
    "    }     \n",
    " \n",
    "    public override IList<string> ArgumentOrdering {     \n",
    "        get { return new string[] { \"ch\" }; }     \n",
    "    }     \n",
    " \n",
    "    protected override void Flux(     \n",
    "        double time, double[] x, double[] U, double[] output) {     \n",
    " \n",
    "        output[0] = MyGlobals.u(x) * U[0];     \n",
    "        output[1] = MyGlobals.v(x) * U[0];     \n",
    "    }     \n",
    " \n",
    "    // Makes use of the flux implementation supplied in the constructor     \n",
    "    protected override double InnerEdgeFlux(     \n",
    "        double time, double[] x, double[] normal,      \n",
    "        double[] Uin, double[] Uout, int jEdge) {     \n",
    " \n",
    "        Vector n              = new Vector(normal);     \n",
    "        Vector velocityVector = new Vector(MyGlobals.u(x), MyGlobals.v(x));     \n",
    " \n",
    "        return numericalFlux(Uin[0], Uout[0], n, velocityVector);     \n",
    "    }     \n",
    " \n",
    "    protected override double BorderEdgeFlux(     \n",
    "        double time, double[] x, double[] normal, byte EdgeTag,     \n",
    "        double[] Uin, int jEdge) {     \n",
    " \n",
    "        double[] Uout = new double[] { MyGlobals.cExact(x, time) };     \n",
    " \n",
    "        return InnerEdgeFlux(time, x, normal, Uin, Uout, jEdge);     \n",
    "    }     \n",
    "}"
   ]
  },
  {
   "cell_type": "code",
   "execution_count": 12,
   "metadata": {
    "dotnet_interactive": {
     "language": "csharp"
    }
   },
   "outputs": [],
   "source": [
    "/// For both numerical fluxes we define a \\code{SpatialOperator} that uses the corresponding flux to compute div(...)"
   ]
  },
  {
   "cell_type": "code",
   "execution_count": 13,
   "metadata": {
    "dotnet_interactive": {
     "language": "csharp"
    }
   },
   "outputs": [],
   "source": [
    "var upwindOperator = new SpatialOperator(     \n",
    "    new string[] { \"ch\" },     \n",
    "    new string[] { \"div\" },     \n",
    "    QuadOrderFunc.NonLinear(2));"
   ]
  },
  {
   "cell_type": "code",
   "execution_count": 14,
   "metadata": {
    "dotnet_interactive": {
     "language": "csharp"
    }
   },
   "outputs": [],
   "source": [
    "upwindOperator.EquationComponents[\"div\"].Add(     \n",
    "    new ScalarTransportFlux(upwindFlux));"
   ]
  },
  {
   "cell_type": "code",
   "execution_count": 15,
   "metadata": {
    "dotnet_interactive": {
     "language": "csharp"
    }
   },
   "outputs": [],
   "source": [
    "upwindOperator.Commit();"
   ]
  },
  {
   "cell_type": "code",
   "execution_count": 16,
   "metadata": {
    "dotnet_interactive": {
     "language": "csharp"
    }
   },
   "outputs": [],
   "source": [
    "/// %"
   ]
  },
  {
   "cell_type": "code",
   "execution_count": 17,
   "metadata": {
    "dotnet_interactive": {
     "language": "csharp"
    }
   },
   "outputs": [],
   "source": [
    "var laxFriedrichsOperator = new SpatialOperator(     \n",
    "    new string[] { \"ch\" },     \n",
    "    new string[] { \"div\" },     \n",
    "    QuadOrderFunc.NonLinear(2));"
   ]
  },
  {
   "cell_type": "code",
   "execution_count": 18,
   "metadata": {
    "dotnet_interactive": {
     "language": "csharp"
    }
   },
   "outputs": [],
   "source": [
    "laxFriedrichsOperator.EquationComponents[\"div\"].Add(     \n",
    "    new ScalarTransportFlux(laxFriedrichsFlux));"
   ]
  },
  {
   "cell_type": "code",
   "execution_count": 19,
   "metadata": {
    "dotnet_interactive": {
     "language": "csharp"
    }
   },
   "outputs": [],
   "source": [
    "laxFriedrichsOperator.Commit();"
   ]
  },
  {
   "cell_type": "code",
   "execution_count": 20,
   "metadata": {
    "dotnet_interactive": {
     "language": "csharp"
    }
   },
   "outputs": [],
   "source": [
    "/// %"
   ]
  },
  {
   "cell_type": "code",
   "execution_count": 21,
   "metadata": {
    "dotnet_interactive": {
     "language": "csharp"
    }
   },
   "outputs": [],
   "source": [
    "/// %=============================================\n",
    "/// \\subsection{Convergence study}\\label{sec:flux_and_convergence_convergence}\n",
    "/// %============================================="
   ]
  },
  {
   "cell_type": "code",
   "execution_count": 22,
   "metadata": {
    "dotnet_interactive": {
     "language": "csharp"
    }
   },
   "outputs": [],
   "source": [
    "/// In the following a convergence study for the discretization error will be performed on grids \n",
    "/// with $2\\times2$, $4\\times4$, $8\\times8$ and $16\\times16$ cells. The error at $t = \\pi /4$\n",
    "/// will be investigated for the polynomial degrees $\\degree = 0, \\ldots, 3$ of the ansatzfunctions. \n",
    "/// The study will be done for both numerical fluxes."
   ]
  },
  {
   "cell_type": "code",
   "execution_count": 23,
   "metadata": {
    "dotnet_interactive": {
     "language": "csharp"
    }
   },
   "outputs": [],
   "source": [
    "/// We start by defining a series of nested grids for the convergence study"
   ]
  },
  {
   "cell_type": "code",
   "execution_count": 24,
   "metadata": {
    "dotnet_interactive": {
     "language": "csharp"
    }
   },
   "outputs": [],
   "source": [
    "int[] numbersOfCells = new int[] { 2, 4, 8, 16 };"
   ]
  },
  {
   "cell_type": "code",
   "execution_count": 25,
   "metadata": {
    "dotnet_interactive": {
     "language": "csharp"
    }
   },
   "outputs": [],
   "source": [
    "GridData[] grids = new GridData[numbersOfCells.Length];"
   ]
  },
  {
   "cell_type": "code",
   "execution_count": 26,
   "metadata": {
    "dotnet_interactive": {
     "language": "csharp"
    }
   },
   "outputs": [],
   "source": [
    "for (int i = 0; i < numbersOfCells.Length; i++) {     \n",
    " \n",
    "    double[] nodes = GenericBlas.Linspace(-1.0, 1.0, numbersOfCells[i] + 1);     \n",
    " \n",
    "    GridCommons grid = Grid2D.Cartesian2DGrid(nodes, nodes);     \n",
    " \n",
    "    grids[i] = new GridData(grid);     \n",
    "}"
   ]
  },
  {
   "cell_type": "code",
   "execution_count": 27,
   "metadata": {
    "dotnet_interactive": {
     "language": "csharp"
    }
   },
   "outputs": [],
   "source": [
    "/// Then, a \\code{SinglePhaseField} is defined for each polynomial degree on each grid.\n",
    "/// The initial value is projected on each field."
   ]
  },
  {
   "cell_type": "code",
   "execution_count": 28,
   "metadata": {
    "dotnet_interactive": {
     "language": "csharp"
    }
   },
   "outputs": [],
   "source": [
    "int[] dgDegrees = new int[] { 0, 1, 2, 3 };"
   ]
  },
  {
   "cell_type": "code",
   "execution_count": 29,
   "metadata": {
    "dotnet_interactive": {
     "language": "csharp"
    }
   },
   "outputs": [],
   "source": [
    "SinglePhaseField[,] fields =      \n",
    "    new SinglePhaseField[dgDegrees.Length, numbersOfCells.Length];"
   ]
  },
  {
   "cell_type": "code",
   "execution_count": 30,
   "metadata": {
    "dotnet_interactive": {
     "language": "csharp"
    }
   },
   "outputs": [
    {
     "name": "stderr",
     "output_type": "stream",
     "text": [
      "\r\n",
      "(7,40): error CS0103: The name 'cExact' does not exist in the current context\r\n",
      "\r\n"
     ]
    },
    {
     "ename": "Cell not executed",
     "evalue": "compilation error",
     "output_type": "error",
     "traceback": []
    }
   ],
   "source": [
    "for (int i = 0; i < dgDegrees.Length; i++) {     \n",
    "    for (int j = 0; j < numbersOfCells.Length; j++) {     \n",
    " \n",
    "        Basis basis = new Basis(grids[j], dgDegrees[i]);     \n",
    "        fields[i, j] = new SinglePhaseField(     \n",
    "                              basis, \"ch_\" + dgDegrees[i] + \"_\" + grids[j]);     \n",
    "        fields[i, j].ProjectField(X => Globals.cExact(X, 0.0));     \n",
    "    }     \n",
    "}"
   ]
  },
  {
   "cell_type": "code",
   "execution_count": 31,
   "metadata": {
    "dotnet_interactive": {
     "language": "csharp"
    }
   },
   "outputs": [],
   "source": [
    "/// Since the error at a fourth revolution is considered, the initial concentration has to be simulated until \n",
    "/// $\\code{endTime} = \\pi / 4$. For the timestepping we are using the classical fourth order Runge-Kutta scheme. \n",
    "/// The timestep size should be chosen small enough in order to reduce the \\emph{temporal} error,\n",
    "/// so that the \\emph{spatial} error dominates for the convergence study."
   ]
  },
  {
   "cell_type": "code",
   "execution_count": 32,
   "metadata": {
    "dotnet_interactive": {
     "language": "csharp"
    }
   },
   "outputs": [],
   "source": [
    "using BoSSS.Solution.Timestepping;"
   ]
  },
  {
   "cell_type": "code",
   "execution_count": 33,
   "metadata": {
    "dotnet_interactive": {
     "language": "csharp"
    }
   },
   "outputs": [],
   "source": [
    "double endTime        = Math.PI / 4.0;     \n",
    "int numberOfTimesteps = 100;     \n",
    "double dt             = endTime / numberOfTimesteps;"
   ]
  },
  {
   "cell_type": "code",
   "execution_count": 34,
   "metadata": {
    "dotnet_interactive": {
     "language": "csharp"
    }
   },
   "outputs": [],
   "source": [
    "/// A \\code{MultidimensionalArray} is a special double array that enables \\emph{shallow} resizing and data\n",
    "/// extraction. For example, sub-arrays can be extracted without needing to copy the entries of\n",
    "/// the \\code{MultidimensionalArray}. BoSSS makes extensive use of this class because this is crucial\n",
    "/// for the performance.\n",
    "/// Here, we create a three-dimensional array, where the first index corresponds to the flux\n",
    "/// function, the second to the DG degree and the third to the number of cells.\n",
    "MultidimensionalArray errors =      \n",
    "    MultidimensionalArray.Create(2, dgDegrees.Length, grids.Length);"
   ]
  },
  {
   "cell_type": "code",
   "execution_count": 35,
   "metadata": {
    "dotnet_interactive": {
     "language": "csharp"
    }
   },
   "outputs": [
    {
     "name": "stderr",
     "output_type": "stream",
     "text": [
      "\r\n",
      "(20,42): error CS0103: The name 'cExact' does not exist in the current context\r\n",
      "\r\n",
      "(30,42): error CS0103: The name 'cExact' does not exist in the current context\r\n",
      "\r\n"
     ]
    },
    {
     "ename": "Cell not executed",
     "evalue": "compilation error",
     "output_type": "error",
     "traceback": []
    }
   ],
   "source": [
    "for (int i = 0; i < dgDegrees.Length; i++) {     \n",
    "    for (int j = 0; j < numbersOfCells.Length; j++) {     \n",
    " \n",
    "        // Clones an object and casts it to the type of the original object  \n",
    "        // at the same time.  \n",
    "        SinglePhaseField c = fields[i, j].CloneAs();     \n",
    " \n",
    "        // Instantiate the timestepper (classical Runge-Kutta scheme)     \n",
    "        // for the evolution of the concentration c with Upwind flux     \n",
    "        RungeKutta timeStepper = new RungeKutta(     \n",
    "            RungeKutta.RungeKuttaSchemes.RungeKutta1901,     \n",
    "            upwindOperator, c);     \n",
    " \n",
    "        // Integrate in time for each timestep     \n",
    "        for (int k = 0; k < numberOfTimesteps; k++) {     \n",
    "            timeStepper.Perform(dt);     \n",
    "        }     \n",
    " \n",
    "        // Compute the error w.r.t. analytical solution     \n",
    "        errors[0, i, j] = c.L2Error(X => cExact(X, endTime));     \n",
    " \n",
    "        // Simulate with the Lax-Friedrichs flux     \n",
    "        c = fields[i, j].CloneAs();     \n",
    "        timeStepper = new RungeKutta(     \n",
    "                             RungeKutta.RungeKuttaSchemes.RungeKutta1901,      \n",
    "                             laxFriedrichsOperator, c);     \n",
    "        for (int k = 0; k < numberOfTimesteps; k++) {     \n",
    "            timeStepper.Perform(dt);     \n",
    "        }     \n",
    "        errors[1, i, j] = c.L2Error(X => Globals.cExact(X, endTime));     \n",
    "    }     \n",
    "}"
   ]
  },
  {
   "cell_type": "code",
   "execution_count": 36,
   "metadata": {
    "dotnet_interactive": {
     "language": "csharp"
    }
   },
   "outputs": [],
   "source": [
    "/// %=============================================\n",
    "/// \\subsection{Plotting results}\\label{sec:NumFlux_plots}\n",
    "/// \\subsection{Plotting results}\\label{sec:flux_and_convergence_plots}\n",
    "/// %============================================="
   ]
  },
  {
   "cell_type": "code",
   "execution_count": null,
   "metadata": {
    "dotnet_interactive": {
     "language": "csharp"
    }
   },
   "outputs": [],
   "source": []
  },
  {
   "cell_type": "code",
   "execution_count": 37,
   "metadata": {
    "dotnet_interactive": {
     "language": "csharp"
    }
   },
   "outputs": [],
   "source": [
    "/// For the convergence plots the error is plotted over the mesh size, \n",
    "/// where the coarsest grid size is defined as size = 1."
   ]
  },
  {
   "cell_type": "code",
   "execution_count": 38,
   "metadata": {
    "dotnet_interactive": {
     "language": "csharp"
    }
   },
   "outputs": [],
   "source": [
    "var sizes = numbersOfCells.Select(s => 2.0 / s).ToArray();"
   ]
  },
  {
   "cell_type": "code",
   "execution_count": 39,
   "metadata": {
    "dotnet_interactive": {
     "language": "csharp"
    }
   },
   "outputs": [
    {
     "name": "stdout",
     "output_type": "stream",
     "text": [
      "Using gnuplot: C:\\Program Files (x86)\\FDY\\BoSSS\\bin\\native\\win\\gnuplot-gp510-20160418-win32-mingw\\gnuplot\\bin\\gnuplot.exe\r\n"
     ]
    }
   ],
   "source": [
    "/// First, we are looking at the convergence plot of the Upwind flux. \n",
    "/// Therefore, an instance of Gnuplot has to be generated.\n",
    "var gpUpwind = new Gnuplot();     \n",
    "gpUpwind.SetYRange(Math.Pow(10,-7), Math.Pow(10,0));"
   ]
  },
  {
   "cell_type": "code",
   "execution_count": 40,
   "metadata": {
    "dotnet_interactive": {
     "language": "csharp"
    }
   },
   "outputs": [],
   "source": [
    "for (int i = 0; i < dgDegrees.Length; i++) {     \n",
    " \n",
    "    /// Here, we use the shallow extraction features of    \n",
    "    /// \\code{MultidimensionalArray} mentioned above.   \n",
    "    /// The command \\code{ExtractSubArrayShallow(0, i, -1)}    \n",
    "    /// is roughly equivalent to writing \"errors[0, i, :]\" in Matlab   \n",
    "    var errorsForDegree = errors.ExtractSubArrayShallow(0, i, -1).To1DArray();     \n",
    " \n",
    "    // some formatting of the plot data for the convergence study      \n",
    "    PlotFormat format = new PlotFormat(lineColor: (LineColors)(i+1),     \n",
    "                                       Style: Styles.LinesPoints,       \n",
    "                                       pointType: PointTypes.Diamond,       \n",
    "                                       pointSize: 2.0);     \n",
    " \n",
    "    // Create log-log plot mesh size vs. error for dgDegrees[i]    \n",
    "    gpUpwind.PlotLogXLogY(sizes, errorsForDegree,      \n",
    "                          \"Upwind, order \" + dgDegrees[i], format);     \n",
    "}"
   ]
  },
  {
   "cell_type": "code",
   "execution_count": 41,
   "metadata": {
    "dotnet_interactive": {
     "language": "csharp"
    }
   },
   "outputs": [],
   "source": [
    "gpUpwind.PlotNow(); // perform the plotting"
   ]
  },
  {
   "cell_type": "code",
   "execution_count": 42,
   "metadata": {
    "dotnet_interactive": {
     "language": "csharp"
    }
   },
   "outputs": [],
   "source": [
    "/// The convergence plot is also done for the Lax-Friedrichs flux."
   ]
  },
  {
   "cell_type": "code",
   "execution_count": 43,
   "metadata": {
    "dotnet_interactive": {
     "language": "csharp"
    }
   },
   "outputs": [
    {
     "name": "stdout",
     "output_type": "stream",
     "text": [
      "Using gnuplot: C:\\Program Files (x86)\\FDY\\BoSSS\\bin\\native\\win\\gnuplot-gp510-20160418-win32-mingw\\gnuplot\\bin\\gnuplot.exe\r\n"
     ]
    }
   ],
   "source": [
    "var gpLaxFriedrichs = new Gnuplot();     \n",
    "gpLaxFriedrichs.SetYRange(Math.Pow(10,-7), Math.Pow(10,0));"
   ]
  },
  {
   "cell_type": "code",
   "execution_count": 44,
   "metadata": {
    "dotnet_interactive": {
     "language": "csharp"
    }
   },
   "outputs": [],
   "source": [
    "for (int i = 0; i < dgDegrees.Length; i++) {     \n",
    " \n",
    "    var errorsForDegree = errors.ExtractSubArrayShallow(1, i, -1).To1DArray();     \n",
    " \n",
    "    PlotFormat format = new PlotFormat(lineColor: (LineColors)(i+1),     \n",
    "                                       Style: Styles.LinesPoints,       \n",
    "                                       pointType: PointTypes.Diamond,       \n",
    "                                       pointSize: 2.0);     \n",
    " \n",
    "    gpLaxFriedrichs.PlotLogXLogY(sizes, errorsForDegree,      \n",
    "                                 \"LaxFriedrichs, order \" + dgDegrees[i],      \n",
    "                                 format);     \n",
    "}"
   ]
  },
  {
   "cell_type": "code",
   "execution_count": 45,
   "metadata": {
    "dotnet_interactive": {
     "language": "csharp"
    }
   },
   "outputs": [],
   "source": [
    "gpLaxFriedrichs.PlotNow();"
   ]
  },
  {
   "cell_type": "code",
   "execution_count": 46,
   "metadata": {
    "dotnet_interactive": {
     "language": "csharp"
    }
   },
   "outputs": [],
   "source": [
    "/// %"
   ]
  },
  {
   "cell_type": "code",
   "execution_count": 47,
   "metadata": {
    "dotnet_interactive": {
     "language": "csharp"
    }
   },
   "outputs": [],
   "source": [
    "/// %==========================================\n",
    "/// \\subsection{Linear regression by ordinary least squares}\\label{sec:NumFlux_slopes}\n",
    "/// \\subsection{Linear regression by ordinary least squares}\\label{sec:flux_and_convergence_slopes}\n",
    "/// %==========================================="
   ]
  },
  {
   "cell_type": "code",
   "execution_count": 48,
   "metadata": {
    "dotnet_interactive": {
     "language": "csharp"
    }
   },
   "outputs": [],
   "source": [
    "/// For the determination of the experimental order of convergence (EOC) the linear regression is used \n",
    "/// to compute the slope of the line in the log-log plot. In the following, the ordinary least squares method \n",
    "/// is implemented to estimate the regression coefficient of the slope for given sets of x- and y-values."
   ]
  },
  {
   "cell_type": "code",
   "execution_count": 49,
   "metadata": {
    "dotnet_interactive": {
     "language": "csharp"
    }
   },
   "outputs": [],
   "source": [
    "Func<double[], double[], double> slope =      \n",
    "    delegate(double[] xValues, double[] yValues) {     \n",
    " \n",
    "    if (xValues.Length != yValues.Length) {     \n",
    "        throw new ArgumentException();     \n",
    "    }     \n",
    " \n",
    "    xValues = xValues.Select(s => Math.Log10(s)).ToArray();     \n",
    "    yValues = yValues.Select(s => Math.Log10(s)).ToArray();     \n",
    " \n",
    "    double xAverage = xValues.Sum() / xValues.Length;     \n",
    "    double yAverage = yValues.Sum() / yValues.Length;     \n",
    " \n",
    "    double v1 = 0.0;     \n",
    "    double v2 = 0.0;     \n",
    " \n",
    "    // Computation of the regression coefficient for the slope     \n",
    "    for (int i = 0; i < yValues.Length; i++) {     \n",
    "        v1 += (xValues[i] - xAverage) * (yValues[i] - yAverage);     \n",
    "        v2 += Math.Pow(xValues[i] - xAverage, 2);     \n",
    "    }     \n",
    "    return v1 / v2;     \n",
    "};"
   ]
  },
  {
   "cell_type": "code",
   "execution_count": 52,
   "metadata": {
    "dotnet_interactive": {
     "language": "csharp"
    }
   },
   "outputs": [
    {
     "data": {
      "text/html": [
       "<div class=\"dni-plaintext\">True</div>"
      ]
     },
     "execution_count": 52,
     "metadata": {},
     "output_type": "execute_result"
    }
   ],
   "source": [
    "// Verification that the slope is computed correctly     \n",
    "Math.Abs(slope(sizes, new double[] { 64.0, 16.0, 4.0, 1.0 }) - 2.0) < 1e-14"
   ]
  },
  {
   "cell_type": "code",
   "execution_count": 51,
   "metadata": {
    "dotnet_interactive": {
     "language": "csharp"
    }
   },
   "outputs": [
    {
     "name": "stdout",
     "output_type": "stream",
     "text": [
      "\n",
      "Upwind flux, order 0:\t\t NaN\n",
      "Lax-Friedrichs flux, order 0:\t NaN\n",
      "\n",
      "Upwind flux, order 1:\t\t NaN\n",
      "Lax-Friedrichs flux, order 1:\t NaN\n",
      "\n",
      "Upwind flux, order 2:\t\t NaN\n",
      "Lax-Friedrichs flux, order 2:\t NaN\n",
      "\n",
      "Upwind flux, order 3:\t\t NaN\n",
      "Lax-Friedrichs flux, order 3:\t NaN\n"
     ]
    }
   ],
   "source": [
    "/// The experimental orders of convergence (EOC) are computed for both fluxes \n",
    "/// for each polynomial degree of the ansatzfunctions\n",
    "for (int i = 0; i < dgDegrees.Length; i++) {     \n",
    " \n",
    "    Console.WriteLine();     \n",
    " \n",
    "    var errorsForDegree = errors.ExtractSubArrayShallow(0, i, -1).To1DArray();     \n",
    " \n",
    "    Console.WriteLine(     \n",
    "        \"Upwind flux, order {0}:\\t\\t {1:F2}\", i,      \n",
    "        slope(sizes, errorsForDegree));     \n",
    " \n",
    "    errorsForDegree = errors.ExtractSubArrayShallow(1, i, -1).To1DArray();     \n",
    " \n",
    "    Console.WriteLine(     \n",
    "        \"Lax-Friedrichs flux, order {0}:\\t {1:F2}\", i,     \n",
    "        slope(sizes, errorsForDegree));     \n",
    "}"
   ]
  }
 ],
 "metadata": {
  "kernelspec": {
   "display_name": ".NET (C#)",
   "language": "C#",
   "name": ".net-csharp"
  },
  "language_info": {
   "file_extension": ".cs",
   "mimetype": "text/x-csharp",
   "name": "C#",
   "pygments_lexer": "csharp",
   "version": "8.0"
  }
 },
 "nbformat": 4,
 "nbformat_minor": 4
}
