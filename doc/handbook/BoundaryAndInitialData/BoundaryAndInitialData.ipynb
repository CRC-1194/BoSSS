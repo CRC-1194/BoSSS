{
 "cells": [
  {
   "cell_type": "code",
   "execution_count": 1,
   "metadata": {
    "dotnet_interactive": {
     "language": "csharp"
    }
   },
   "outputs": [
    {
     "data": {
      "text/html": [
       "\r\n",
       "<div>\r\n",
       "    <div id='dotnet-interactive-this-cell-24676.Microsoft.DotNet.Interactive.Http.HttpPort' style='display: none'>\r\n",
       "        The below script needs to be able to find the current output cell; this is an easy method to get it.\r\n",
       "    </div>\r\n",
       "    <script type='text/javascript'>\r\n",
       "async function probeAddresses(probingAddresses) {\r\n",
       "    function timeout(ms, promise) {\r\n",
       "        return new Promise(function (resolve, reject) {\r\n",
       "            setTimeout(function () {\r\n",
       "                reject(new Error('timeout'))\r\n",
       "            }, ms)\r\n",
       "            promise.then(resolve, reject)\r\n",
       "        })\r\n",
       "    }\r\n",
       "\r\n",
       "    if (Array.isArray(probingAddresses)) {\r\n",
       "        for (let i = 0; i < probingAddresses.length; i++) {\r\n",
       "\r\n",
       "            let rootUrl = probingAddresses[i];\r\n",
       "\r\n",
       "            if (!rootUrl.endsWith('/')) {\r\n",
       "                rootUrl = `${rootUrl}/`;\r\n",
       "            }\r\n",
       "\r\n",
       "            try {\r\n",
       "                let response = await timeout(1000, fetch(`${rootUrl}discovery`, {\r\n",
       "                    method: 'POST',\r\n",
       "                    cache: 'no-cache',\r\n",
       "                    mode: 'cors',\r\n",
       "                    timeout: 1000,\r\n",
       "                    headers: {\r\n",
       "                        'Content-Type': 'text/plain'\r\n",
       "                    },\r\n",
       "                    body: probingAddresses[i]\r\n",
       "                }));\r\n",
       "\r\n",
       "                if (response.status == 200) {\r\n",
       "                    return rootUrl;\r\n",
       "                }\r\n",
       "            }\r\n",
       "            catch (e) { }\r\n",
       "        }\r\n",
       "    }\r\n",
       "}\r\n",
       "\r\n",
       "function loadDotnetInteractiveApi() {\r\n",
       "    probeAddresses([\"http://192.168.56.1:1000/\", \"http://130.83.248.204:1000/\", \"http://169.254.113.120:1000/\", \"http://172.17.100.49:1000/\", \"http://127.0.0.1:1000/\"])\r\n",
       "        .then((root) => {\r\n",
       "        // use probing to find host url and api resources\r\n",
       "        // load interactive helpers and language services\r\n",
       "        let dotnetInteractiveRequire = require.config({\r\n",
       "        context: '24676.Microsoft.DotNet.Interactive.Http.HttpPort',\r\n",
       "                paths:\r\n",
       "            {\r\n",
       "                'dotnet-interactive': `${root}resources`\r\n",
       "                }\r\n",
       "        }) || require;\r\n",
       "\r\n",
       "            window.dotnetInteractiveRequire = dotnetInteractiveRequire;\r\n",
       "\r\n",
       "            window.configureRequireFromExtension = function(extensionName, extensionCacheBuster) {\r\n",
       "                let paths = {};\r\n",
       "                paths[extensionName] = `${root}extensions/${extensionName}/resources/`;\r\n",
       "                \r\n",
       "                let internalRequire = require.config({\r\n",
       "                    context: extensionCacheBuster,\r\n",
       "                    paths: paths,\r\n",
       "                    urlArgs: `cacheBuster=${extensionCacheBuster}`\r\n",
       "                    }) || require;\r\n",
       "\r\n",
       "                return internalRequire\r\n",
       "            };\r\n",
       "        \r\n",
       "            dotnetInteractiveRequire([\r\n",
       "                    'dotnet-interactive/dotnet-interactive'\r\n",
       "                ],\r\n",
       "                function (dotnet) {\r\n",
       "                    dotnet.init(window);\r\n",
       "                },\r\n",
       "                function (error) {\r\n",
       "                    console.log(error);\r\n",
       "                }\r\n",
       "            );\r\n",
       "        })\r\n",
       "        .catch(error => {console.log(error);});\r\n",
       "    }\r\n",
       "\r\n",
       "// ensure `require` is available globally\r\n",
       "if ((typeof(require) !==  typeof(Function)) || (typeof(require.config) !== typeof(Function))) {\r\n",
       "    let require_script = document.createElement('script');\r\n",
       "    require_script.setAttribute('src', 'https://cdnjs.cloudflare.com/ajax/libs/require.js/2.3.6/require.min.js');\r\n",
       "    require_script.setAttribute('type', 'text/javascript');\r\n",
       "    \r\n",
       "    \r\n",
       "    require_script.onload = function() {\r\n",
       "        loadDotnetInteractiveApi();\r\n",
       "    };\r\n",
       "\r\n",
       "    document.getElementsByTagName('head')[0].appendChild(require_script);\r\n",
       "}\r\n",
       "else {\r\n",
       "    loadDotnetInteractiveApi();\r\n",
       "}\r\n",
       "\r\n",
       "    </script>\r\n",
       "</div>"
      ]
     },
     "metadata": {},
     "output_type": "display_data"
    }
   ],
   "source": [
    "#r \"BoSSSpad.dll\"\n",
    "using System;\n",
    "using System.Collections.Generic;\n",
    "using System.Linq;\n",
    "using ilPSP;\n",
    "using ilPSP.Utils;\n",
    "using BoSSS.Platform;\n",
    "using BoSSS.Foundation;\n",
    "using BoSSS.Foundation.Grid;\n",
    "using BoSSS.Foundation.Grid.Classic;\n",
    "using BoSSS.Foundation.IO;\n",
    "using BoSSS.Solution;\n",
    "using BoSSS.Solution.Control;\n",
    "using BoSSS.Solution.GridImport;\n",
    "using BoSSS.Solution.Statistic;\n",
    "using BoSSS.Solution.Utils;\n",
    "using BoSSS.Solution.Gnuplot;\n",
    "using BoSSS.Application.BoSSSpad;\n",
    "using BoSSS.Application.XNSE_Solver;\n",
    "using static BoSSS.Application.BoSSSpad.BoSSSshell;\n",
    "Init();\n"
   ]
  },
  {
   "cell_type": "markdown",
   "metadata": {},
   "source": [
    " This tutorial demostrates the **definition**, resp. the **import** of \n",
    " data for **boundary and initial values**. \n",
    " \n",
    " In order to demonstrate the usage, \n",
    " we employ the exemplaric **Poisson solver**."
   ]
  },
  {
   "cell_type": "code",
   "execution_count": 2,
   "metadata": {
    "dotnet_interactive": {
     "language": "csharp"
    }
   },
   "outputs": [],
   "source": [
    "using BoSSS.Application.SipPoisson;"
   ]
  },
  {
   "cell_type": "markdown",
   "metadata": {},
   "source": [
    "We use a **temporary database** for this tutorial:"
   ]
  },
  {
   "cell_type": "code",
   "execution_count": 3,
   "metadata": {
    "dotnet_interactive": {
     "language": "csharp"
    }
   },
   "outputs": [
    {
     "name": "stdout",
     "output_type": "stream",
     "text": [
      "Creating database 'C:\\Users\\flori\\AppData\\Local\\Temp\\553852612'.\r\n"
     ]
    }
   ],
   "source": [
    "var tempDb = CreateTempDatabase();"
   ]
  },
  {
   "cell_type": "markdown",
   "metadata": {},
   "source": [
    "We use the following helper function to create a **template for the multiple solver runs**."
   ]
  },
  {
   "cell_type": "code",
   "execution_count": 4,
   "metadata": {
    "dotnet_interactive": {
     "language": "csharp"
    }
   },
   "outputs": [],
   "source": [
    "Func<SipControl> PreDefinedControl = delegate() {\n",
    "    SipControl c = new SipControl();\n",
    " \n",
    "    c.SetDGdegree(2);\n",
    " \n",
    "    c.GridFunc = delegate() {\n",
    "        // define a grid of 10x10 cells\n",
    "        double[] nodes = GenericBlas.Linspace(-1, 1, 11);\n",
    "        var grd = Grid2D.Cartesian2DGrid(nodes, nodes);\n",
    " \n",
    "        // set the entire boundary to Dirichlet b.c.\n",
    "        grd.DefineEdgeTags(delegate (double[] X) {\n",
    "            return BoundaryType.Dirichlet.ToString();\n",
    "        });\n",
    " \n",
    "        return grd;\n",
    "    };\n",
    " \n",
    "    c.SetDatabase(tempDb);\n",
    "    c.savetodb = true; \n",
    " \n",
    "    return c;    \n",
    "};"
   ]
  },
  {
   "cell_type": "markdown",
   "metadata": {},
   "source": [
    "Again, we are using the **workflow management**"
   ]
  },
  {
   "cell_type": "code",
   "execution_count": 5,
   "metadata": {
    "dotnet_interactive": {
     "language": "csharp"
    }
   },
   "outputs": [
    {
     "name": "stdout",
     "output_type": "stream",
     "text": [
      "Project name is set to 'Demo_BoundaryAndInitialData'.\r\n"
     ]
    }
   ],
   "source": [
    "BoSSSshell.WorkflowMgm.Init(\"Demo_BoundaryAndInitialData\");"
   ]
  },
  {
   "cell_type": "markdown",
   "metadata": {},
   "source": [
    "# **1. Textual and Embedded formulas**\n"
   ]
  },
  {
   "cell_type": "code",
   "execution_count": 6,
   "metadata": {
    "dotnet_interactive": {
     "language": "csharp"
    }
   },
   "outputs": [],
   "source": [
    "SipControl c1 = PreDefinedControl();"
   ]
  },
  {
   "cell_type": "markdown",
   "metadata": {},
   "source": [
    "Provide **initial data** as a text:"
   ]
  },
  {
   "cell_type": "code",
   "execution_count": 7,
   "metadata": {
    "dotnet_interactive": {
     "language": "csharp"
    }
   },
   "outputs": [],
   "source": [
    "c1.AddInitialValue(\"RHS\",\"X => Math.Sin(X[0])*Math.Cos(X[1])\",\n",
    "                        TimeDependent:false);"
   ]
  },
  {
   "cell_type": "markdown",
   "metadata": {},
   "source": [
    "Finally, all initial data is stored in the \n",
    "***AppControl.InitialVa*** dictionary and \n",
    "all boundary data is stored in the \n",
    "***AppControl.BoundaryValues*** dictionary.\n",
    " \n",
    "The common interface for all varinats to specify boundary\n",
    "and initial data is ***IBoundaryAndInitialData***.\n",
    "\n",
    "The snippet above is only a shortcut to add a ***Formula*** object,\n",
    "which implements the ***IBoundaryAndInitialData*** interface."
   ]
  },
  {
   "cell_type": "code",
   "execution_count": 8,
   "metadata": {
    "dotnet_interactive": {
     "language": "csharp"
    }
   },
   "outputs": [
    {
     "data": {
      "text/html": [
       "<table><thead><tr><th><i>key</i></th><th></th></tr></thead><tbody><tr><td><div class=\"dni-plaintext\">RHS</div></td><td><div class=\"dni-plaintext\">BoSSS.Solution.Control.Formula</div></td></tr></tbody></table>"
      ]
     },
     "execution_count": 8,
     "metadata": {},
     "output_type": "execute_result"
    }
   ],
   "source": [
    "c1.InitialValues"
   ]
  },
  {
   "cell_type": "code",
   "execution_count": 9,
   "metadata": {
    "dotnet_interactive": {
     "language": "csharp"
    }
   },
   "outputs": [
    {
     "data": {
      "text/html": [
       "<div class=\"dni-plaintext\">BoSSS.Solution.Control.Formula</div>"
      ]
     },
     "execution_count": 9,
     "metadata": {},
     "output_type": "execute_result"
    }
   ],
   "source": [
    "c1.InitialValues[\"RHS\"]"
   ]
  },
  {
   "cell_type": "markdown",
   "metadata": {},
   "source": [
    "In **BoSSSpad**, such objects can also be extracted from \n",
    "static methods of classes; note that these should not depend on any other\n",
    "object in the worksheet."
   ]
  },
  {
   "cell_type": "code",
   "execution_count": 10,
   "metadata": {
    "dotnet_interactive": {
     "language": "csharp"
    }
   },
   "outputs": [],
   "source": [
    "Formula BndyFormula = new Formula(\n",
    "    \"BndyValue.BndyFunction\",\n",
    "    false,\n",
    "\"static class BndyValue {\"+\n",
    "\"    public static double BndyFunction(double[] X) {\"+\n",
    "\"        return 1.0;\"+\n",
    "\"    }\"+\n",
    "\"}\");"
   ]
  },
  {
   "cell_type": "code",
   "execution_count": 11,
   "metadata": {
    "dotnet_interactive": {
     "language": "csharp"
    }
   },
   "outputs": [],
   "source": [
    "c1.AddBoundaryValue(BoundaryType.Dirichlet.ToString(),\n",
    "                    \"T\",\n",
    "                    BndyFormula);"
   ]
  },
  {
   "cell_type": "markdown",
   "metadata": {},
   "source": [
    "Creates a Job named **J1** and runs it"
   ]
  },
  {
   "cell_type": "code",
   "execution_count": 12,
   "metadata": {
    "dotnet_interactive": {
     "language": "csharp"
    }
   },
   "outputs": [
    {
     "name": "stdout",
     "output_type": "stream",
     "text": [
      "Control object contains grid function. Trying to Serialize the grid...\n",
      "Grid Edge Tags changed.\n",
      "Control object modified.\n",
      "Deploying job UnnamedJob_1 ... \n",
      "Deploying executables and additional files ...\n",
      "Deployment directory: C:\\Users\\flori\\AppData\\Local\\BoSSS-LocalJobs\\Demo_BoundaryAndInitialData-ipPoisson2021Sep05_085808\n",
      "copied 42 files.\n",
      "   written file: control.obj\n",
      "deployment finished.\n",
      "\n"
     ]
    }
   ],
   "source": [
    "var J1 = c1.RunBatch();"
   ]
  },
  {
   "cell_type": "markdown",
   "metadata": {},
   "source": [
    "The next line prints the Status of the Job **J1**."
   ]
  },
  {
   "cell_type": "code",
   "execution_count": 13,
   "metadata": {
    "dotnet_interactive": {
     "language": "csharp"
    }
   },
   "outputs": [
    {
     "name": "stdout",
     "output_type": "stream",
     "text": [
      "Timeout.\r\n"
     ]
    }
   ],
   "source": [
    "BoSSSshell.WorkflowMgm.BlockUntilAllJobsTerminate(3600*4);"
   ]
  },
  {
   "cell_type": "markdown",
   "metadata": {},
   "source": [
    "We can print the Status of the Job **J1**."
   ]
  },
  {
   "cell_type": "code",
   "execution_count": 14,
   "metadata": {
    "dotnet_interactive": {
     "language": "csharp"
    }
   },
   "outputs": [
    {
     "data": {
      "text/html": [
       "<span>FinishedSuccessful</span>"
      ]
     },
     "execution_count": 14,
     "metadata": {},
     "output_type": "execute_result"
    }
   ],
   "source": [
    "J1.Status"
   ]
  },
  {
   "cell_type": "markdown",
   "metadata": {},
   "source": [
    "We can also check via a method if the Job **J1** is truly finished"
   ]
  },
  {
   "cell_type": "code",
   "execution_count": 15,
   "metadata": {
    "dotnet_interactive": {
     "language": "csharp"
    }
   },
   "outputs": [],
   "source": [
    "\n",
    "NUnit.Framework.Assert.IsTrue(J1.Status == JobStatus.FinishedSuccessful);"
   ]
  },
  {
   "cell_type": "markdown",
   "metadata": {},
   "source": [
    "# **2. 1D Splines**\n",
    "\n",
    "**Splines** can be used to interpolate nodal data onto a DG field;\n",
    "currently, only 1D is supported."
   ]
  },
  {
   "cell_type": "code",
   "execution_count": 16,
   "metadata": {
    "dotnet_interactive": {
     "language": "csharp"
    }
   },
   "outputs": [],
   "source": [
    "SipControl c2 = PreDefinedControl();"
   ]
  },
  {
   "cell_type": "code",
   "execution_count": 17,
   "metadata": {
    "dotnet_interactive": {
     "language": "csharp"
    }
   },
   "outputs": [],
   "source": [
    "// create test data for the spline\n",
    "double[] xNodes = GenericBlas.Linspace(-2,2,13);\n",
    "double[] yNodes = xNodes.Select(x => x*0.4).ToArray();"
   ]
  },
  {
   "cell_type": "code",
   "execution_count": 18,
   "metadata": {
    "dotnet_interactive": {
     "language": "csharp"
    }
   },
   "outputs": [],
   "source": [
    "var rhsSpline = new Spline1D(xNodes, yNodes,\n",
    "                             0,\n",
    "                             Spline1D.OutOfBoundsBehave.Extrapolate);"
   ]
  },
  {
   "cell_type": "code",
   "execution_count": null,
   "metadata": {
    "dotnet_interactive": {
     "language": "csharp"
    }
   },
   "outputs": [],
   "source": []
  },
  {
   "cell_type": "code",
   "execution_count": 19,
   "metadata": {
    "dotnet_interactive": {
     "language": "csharp"
    }
   },
   "outputs": [],
   "source": [
    "/// BoSSScmdSilent\n",
    "double err = 0;\n",
    "// test the spline: a line must be interpolated exactly.\n",
    "foreach(double xtst in GenericBlas.Linspace(-3,3,77)) { \n",
    "   double sVal = rhsSpline.Evaluate(new double[] {xtst , 0, 0 }, 0.0);\n",
    "   double rVal = xtst*0.4;\n",
    "   err += Math.Abs(sVal - rVal);\n",
    "}\n",
    "NUnit.Framework.Assert.Less(err, 1.0e-10, \"Slpine implementation fail.\");"
   ]
  },
  {
   "cell_type": "code",
   "execution_count": 20,
   "metadata": {
    "dotnet_interactive": {
     "language": "csharp"
    }
   },
   "outputs": [],
   "source": [
    "c2.AddInitialValue(\"RHS\", rhsSpline);"
   ]
  },
  {
   "cell_type": "code",
   "execution_count": 21,
   "metadata": {
    "dotnet_interactive": {
     "language": "csharp"
    }
   },
   "outputs": [
    {
     "name": "stdout",
     "output_type": "stream",
     "text": [
      "Control object contains grid function. Trying to Serialize the grid...\n",
      "Grid Edge Tags changed.\n",
      "An equivalent grid (b22511f5-53a7-43d4-bb2c-470feb1a1989) is already present in the database -- the grid will not be saved.\n",
      "Control object modified.\n",
      "Deploying job UnnamedJob_2 ... \n",
      "Deploying executables and additional files ...\n",
      "Deployment directory: C:\\Users\\flori\\AppData\\Local\\BoSSS-LocalJobs\\Demo_BoundaryAndInitialData-ipPoisson2021Sep05_085819\n",
      "copied 42 files.\n",
      "   written file: control.obj\n",
      "deployment finished.\n",
      "\n"
     ]
    }
   ],
   "source": [
    "var J2 = c2.RunBatch();"
   ]
  },
  {
   "cell_type": "code",
   "execution_count": 22,
   "metadata": {
    "dotnet_interactive": {
     "language": "csharp"
    }
   },
   "outputs": [
    {
     "name": "stdout",
     "output_type": "stream",
     "text": [
      "Timeout.\r\n"
     ]
    }
   ],
   "source": [
    "BoSSSshell.WorkflowMgm.BlockUntilAllJobsTerminate(3600*4);"
   ]
  },
  {
   "cell_type": "code",
   "execution_count": 23,
   "metadata": {
    "dotnet_interactive": {
     "language": "csharp"
    }
   },
   "outputs": [
    {
     "data": {
      "text/html": [
       "<span>FinishedSuccessful</span>"
      ]
     },
     "execution_count": 23,
     "metadata": {},
     "output_type": "execute_result"
    }
   ],
   "source": [
    "J2.Status"
   ]
  },
  {
   "cell_type": "code",
   "execution_count": 24,
   "metadata": {
    "dotnet_interactive": {
     "language": "csharp"
    }
   },
   "outputs": [],
   "source": [
    "/// BoSSScmdSilent\n",
    "NUnit.Framework.Assert.IsTrue(J2.Status == JobStatus.FinishedSuccessful);"
   ]
  },
  {
   "cell_type": "markdown",
   "metadata": {},
   "source": [
    "\n",
    "# **3. Interpolating values from other Calculations**\n",
    "\n",
    "For demonstrational purposes, we use the result (i.e. the last time-step) \n",
    "of a previous calculation as a right-hand-side for the next calculation."
   ]
  },
  {
   "cell_type": "code",
   "execution_count": 25,
   "metadata": {
    "dotnet_interactive": {
     "language": "csharp"
    }
   },
   "outputs": [],
   "source": [
    "var j2Sess = J2.LatestSession;"
   ]
  },
  {
   "cell_type": "code",
   "execution_count": 26,
   "metadata": {
    "dotnet_interactive": {
     "language": "csharp"
    }
   },
   "outputs": [
    {
     "data": {
      "text/plain": [
       "Demo_BoundaryAndInitialData\tUnnamedJob_2\t09/05/2021 08:58:22\te0c45358..."
      ]
     },
     "execution_count": 26,
     "metadata": {},
     "output_type": "execute_result"
    }
   ],
   "source": [
    "j2Sess"
   ]
  },
  {
   "cell_type": "code",
   "execution_count": 27,
   "metadata": {
    "dotnet_interactive": {
     "language": "csharp"
    }
   },
   "outputs": [
    {
     "data": {
      "text/plain": [
       "#0:  { Time-step: 0; Physical time: 0s; Fields: T, ResidualKP1, Error, MgLevel_0; Name:  }\r\n",
       "#1:  { Time-step: 1; Physical time: 0s; Fields: T, ResidualKP1, Error, MgLevel_0; Name:  }\r\n"
      ]
     },
     "execution_count": 27,
     "metadata": {},
     "output_type": "execute_result"
    }
   ],
   "source": [
    "j2Sess.Timesteps"
   ]
  },
  {
   "cell_type": "code",
   "execution_count": 28,
   "metadata": {
    "dotnet_interactive": {
     "language": "csharp"
    }
   },
   "outputs": [],
   "source": [
    "var lastTimeStep = j2Sess.Timesteps.Last();"
   ]
  },
  {
   "cell_type": "markdown",
   "metadata": {},
   "source": [
    "We encapsulate the value **T** in the **ForeignGridValue** object,\n",
    "which allows interpolation between different meshes:"
   ]
  },
  {
   "cell_type": "code",
   "execution_count": 29,
   "metadata": {
    "dotnet_interactive": {
     "language": "csharp"
    }
   },
   "outputs": [],
   "source": [
    "var newForeignMesh = new ForeignGridValue(lastTimeStep,\"T\");"
   ]
  },
  {
   "cell_type": "code",
   "execution_count": 30,
   "metadata": {
    "dotnet_interactive": {
     "language": "csharp"
    }
   },
   "outputs": [],
   "source": [
    "/// Use different mesh in the control file:\n",
    "SipControl c3 = PreDefinedControl();"
   ]
  },
  {
   "cell_type": "code",
   "execution_count": 31,
   "metadata": {
    "dotnet_interactive": {
     "language": "csharp"
    }
   },
   "outputs": [],
   "source": [
    "c3.GridFunc = delegate() {\n",
    "   // define a grid of *triangle* cells\n",
    "   double[] nodes = GenericBlas.Linspace(-1, 1, 11);\n",
    "   var grd = Grid2D.UnstructuredTriangleGrid(nodes, nodes);\n",
    " \n",
    "   // set the entire boundary to Dirichlet b.c.\n",
    "   grd.DefineEdgeTags(delegate (double[] X) {\n",
    "       return BoundaryType.Dirichlet.ToString();\n",
    "   });\n",
    " \n",
    "   return grd;\n",
    "};\n",
    "// we also save the RHS in the database\n",
    "c3.AddFieldOption(\"RHS\", SaveOpt: FieldOpts.SaveToDBOpt.TRUE);"
   ]
  },
  {
   "cell_type": "code",
   "execution_count": 32,
   "metadata": {
    "dotnet_interactive": {
     "language": "csharp"
    }
   },
   "outputs": [],
   "source": [
    "/// finally, we define the RHS:\n",
    "c3.AddInitialValue(\"RHS\", newForeignMesh);"
   ]
  },
  {
   "cell_type": "code",
   "execution_count": 33,
   "metadata": {
    "dotnet_interactive": {
     "language": "csharp"
    }
   },
   "outputs": [],
   "source": [
    "/// BoSSScmdSilent\n",
    "double orgProbe = newForeignMesh.Evaluate(new double[] {0.5,0.5}, 0.0);\n",
    "double newProbe = lastTimeStep.GetField(\"T\").ProbeAt(new double[] {0.5,0.5});\n",
    "NUnit.Framework.Assert.Less(Math.Abs(orgProbe - newProbe), 1.0e-10, \"Check (1) on ForeignGridValue failed\");"
   ]
  },
  {
   "cell_type": "code",
   "execution_count": 34,
   "metadata": {
    "dotnet_interactive": {
     "language": "csharp"
    }
   },
   "outputs": [
    {
     "name": "stdout",
     "output_type": "stream",
     "text": [
      "Control object contains grid function. Trying to Serialize the grid...\n",
      "Grid Edge Tags changed.\n",
      "Control object modified.\n",
      "Deploying job UnnamedJob_3 ... \n",
      "Deploying executables and additional files ...\n",
      "Deployment directory: C:\\Users\\flori\\AppData\\Local\\BoSSS-LocalJobs\\Demo_BoundaryAndInitialData-ipPoisson2021Sep05_085832\n",
      "copied 42 files.\n",
      "   written file: control.obj\n",
      "deployment finished.\n",
      "\n"
     ]
    }
   ],
   "source": [
    "var J3 = c3.RunBatch();"
   ]
  },
  {
   "cell_type": "code",
   "execution_count": 35,
   "metadata": {
    "dotnet_interactive": {
     "language": "csharp"
    }
   },
   "outputs": [
    {
     "name": "stdout",
     "output_type": "stream",
     "text": [
      "Timeout.\r\n"
     ]
    }
   ],
   "source": [
    "BoSSSshell.WorkflowMgm.BlockUntilAllJobsTerminate(3600*4);"
   ]
  },
  {
   "cell_type": "code",
   "execution_count": 36,
   "metadata": {
    "dotnet_interactive": {
     "language": "csharp"
    }
   },
   "outputs": [
    {
     "data": {
      "text/html": [
       "<span>InProgress</span>"
      ]
     },
     "execution_count": 36,
     "metadata": {},
     "output_type": "execute_result"
    }
   ],
   "source": [
    "J3.Status"
   ]
  },
  {
   "cell_type": "code",
   "execution_count": 37,
   "metadata": {
    "dotnet_interactive": {
     "language": "csharp"
    }
   },
   "outputs": [],
   "source": [
    "/// BoSSScmdSilent\n",
    "NUnit.Framework.Assert.IsTrue(J3.Status == JobStatus.FinishedSuccessful);"
   ]
  },
  {
   "cell_type": "markdown",
   "metadata": {},
   "source": [
    "Since the quadrilateral mesh used for the original\n",
    "right-hand-side is geometrically embedded in the triangular mesh \n",
    "the **interpolation error should be zero** (up to machine precision)."
   ]
  },
  {
   "cell_type": "code",
   "execution_count": 38,
   "metadata": {
    "dotnet_interactive": {
     "language": "csharp"
    }
   },
   "outputs": [],
   "source": [
    "var firstTimeStep = J3.LatestSession.Timesteps.First();"
   ]
  },
  {
   "cell_type": "code",
   "execution_count": 39,
   "metadata": {
    "dotnet_interactive": {
     "language": "csharp"
    }
   },
   "outputs": [],
   "source": [
    "DGField RhsOnTriangles = firstTimeStep.GetField(\"rhs\"); // case-insensitive!\n",
    "DGField RhsOriginal    = lastTimeStep.GetField(\"T\");"
   ]
  },
  {
   "cell_type": "code",
   "execution_count": 40,
   "metadata": {
    "dotnet_interactive": {
     "language": "csharp"
    }
   },
   "outputs": [
    {
     "data": {
      "text/html": [
       "<div class=\"dni-plaintext\">1.200592953981901E-17</div>"
      ]
     },
     "execution_count": 40,
     "metadata": {},
     "output_type": "execute_result"
    }
   ],
   "source": [
    "// note: we have to cast DGField to ConventionalDGField in order to use\n",
    "// the 'L2Distance' function:\n",
    "((ConventionalDGField)RhsOnTriangles).L2Distance((ConventionalDGField)RhsOriginal)"
   ]
  },
  {
   "cell_type": "code",
   "execution_count": 41,
   "metadata": {
    "dotnet_interactive": {
     "language": "csharp"
    }
   },
   "outputs": [],
   "source": [
    "/// BoSSScmdSilent\n",
    "var H1err = ((ConventionalDGField)RhsOnTriangles).H1Distance((ConventionalDGField)RhsOriginal);\n",
    "NUnit.Framework.Assert.Less(H1err, 1.0e-10, \"Check (2) on ForeignGridValue failed.\");"
   ]
  },
  {
   "cell_type": "markdown",
   "metadata": {},
   "source": [
    "# **4. Restart from Dummy-Sessions**\n",
    "\n",
    "Dummy sessions are kind of fake siolver runs, with the only purpose \n",
    "of using them for a restart."
   ]
  },
  {
   "cell_type": "code",
   "execution_count": 42,
   "metadata": {
    "dotnet_interactive": {
     "language": "csharp"
    }
   },
   "outputs": [],
   "source": [
    "DGField RHSforRestart = firstTimeStep.GetField(\"RHS\");"
   ]
  },
  {
   "cell_type": "markdown",
   "metadata": {},
   "source": [
    "We save the DG field ***RHSforRestart*** in the database;\n",
    "This automatically creates a timestep and a session which host the DG field:"
   ]
  },
  {
   "cell_type": "code",
   "execution_count": 43,
   "metadata": {
    "dotnet_interactive": {
     "language": "csharp"
    }
   },
   "outputs": [],
   "source": [
    "var RestartTimestep = tempDb.SaveTimestep(RHSforRestart);"
   ]
  },
  {
   "cell_type": "code",
   "execution_count": 44,
   "metadata": {
    "dotnet_interactive": {
     "language": "csharp"
    }
   },
   "outputs": [
    {
     "data": {
      "text/plain": [
       " { Time-step: 0; Physical time: 0s; Fields: RHS; Name:  }"
      ]
     },
     "execution_count": 44,
     "metadata": {},
     "output_type": "execute_result"
    }
   ],
   "source": [
    "RestartTimestep"
   ]
  },
  {
   "cell_type": "code",
   "execution_count": 45,
   "metadata": {
    "dotnet_interactive": {
     "language": "csharp"
    }
   },
   "outputs": [
    {
     "data": {
      "text/plain": [
       "Demo_BoundaryAndInitialData\tInitialValueSession\t09/05/2021 08:58:44\tdf886820..."
      ]
     },
     "execution_count": 45,
     "metadata": {},
     "output_type": "execute_result"
    }
   ],
   "source": [
    "RestartTimestep.Session"
   ]
  },
  {
   "cell_type": "markdown",
   "metadata": {},
   "source": [
    "This time step can be used as a restart value.:"
   ]
  },
  {
   "cell_type": "code",
   "execution_count": 46,
   "metadata": {
    "dotnet_interactive": {
     "language": "csharp"
    }
   },
   "outputs": [],
   "source": [
    "var c4 = PreDefinedControl();"
   ]
  },
  {
   "cell_type": "code",
   "execution_count": 47,
   "metadata": {
    "dotnet_interactive": {
     "language": "csharp"
    }
   },
   "outputs": [],
   "source": [
    "c4.InitialValues.Clear();\n",
    "c4.SetRestart(RestartTimestep);"
   ]
  },
  {
   "cell_type": "code",
   "execution_count": 48,
   "metadata": {
    "dotnet_interactive": {
     "language": "csharp"
    }
   },
   "outputs": [
    {
     "name": "stdout",
     "output_type": "stream",
     "text": [
      "Deploying job UnnamedJob_4 ... \n",
      "Deploying executables and additional files ...\n",
      "Deployment directory: C:\\Users\\flori\\AppData\\Local\\BoSSS-LocalJobs\\Demo_BoundaryAndInitialData-ipPoisson2021Sep05_085845\n",
      "copied 42 files.\n",
      "   written file: control.obj\n",
      "deployment finished.\n",
      "\n"
     ]
    }
   ],
   "source": [
    "var J4 = c4.RunBatch();"
   ]
  },
  {
   "cell_type": "code",
   "execution_count": 49,
   "metadata": {
    "dotnet_interactive": {
     "language": "csharp"
    }
   },
   "outputs": [
    {
     "name": "stdout",
     "output_type": "stream",
     "text": [
      "All jobs finished.\r\n"
     ]
    }
   ],
   "source": [
    "BoSSSshell.WorkflowMgm.BlockUntilAllJobsTerminate(3600*4);"
   ]
  },
  {
   "cell_type": "code",
   "execution_count": 50,
   "metadata": {
    "dotnet_interactive": {
     "language": "csharp"
    }
   },
   "outputs": [
    {
     "data": {
      "text/html": [
       "<span>FinishedSuccessful</span>"
      ]
     },
     "execution_count": 50,
     "metadata": {},
     "output_type": "execute_result"
    }
   ],
   "source": [
    "J4.Status"
   ]
  },
  {
   "cell_type": "code",
   "execution_count": 51,
   "metadata": {
    "dotnet_interactive": {
     "language": "csharp"
    }
   },
   "outputs": [],
   "source": [
    "/// BoSSScmdSilent\n",
    "NUnit.Framework.Assert.IsTrue(J4.Status == JobStatus.FinishedSuccessful);"
   ]
  },
  {
   "cell_type": "markdown",
   "metadata": {},
   "source": [
    "# Note\n",
    "\n",
    "Since no mesh interpolation is performed for the restart, it is much faster\n",
    "than **ForeignGridValue**, but less flexible \n",
    "(a restart is always performed on the same mesh).\n",
    "\n",
    "To avoid multiple mesh interpolations (e.g. when multiple runs are required)\n",
    "one coudl therefore speed up the process by doing the \n",
    "mesh interpolation once ***use ProjectFromForeignGrid*** in BoSSSpad and\n",
    "save the interpolation in a dummy session."
   ]
  }
 ],
 "metadata": {
  "kernelspec": {
   "display_name": ".NET (C#)",
   "language": "C#",
   "name": ".net-csharp"
  },
  "language_info": {
   "file_extension": ".cs",
   "mimetype": "text/x-csharp",
   "name": "C#",
   "pygments_lexer": "csharp",
   "version": "8.0"
  }
 },
 "nbformat": 4,
 "nbformat_minor": 4
}
