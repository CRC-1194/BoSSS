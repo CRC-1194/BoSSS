{
 "cells": [
  {
   "cell_type": "code",
   "execution_count": null,
   "source": [
    "#r \"BoSSSpad.dll\"\r\n",
    "using System;\r\n",
    "using System.Collections.Generic;\r\n",
    "using System.Linq;\r\n",
    "using ilPSP;\r\n",
    "using ilPSP.Utils;\r\n",
    "using BoSSS.Platform;\r\n",
    "using BoSSS.Foundation;\r\n",
    "using BoSSS.Foundation.Grid;\r\n",
    "using BoSSS.Foundation.Grid.Classic;\r\n",
    "using BoSSS.Foundation.IO;\r\n",
    "using BoSSS.Solution;\r\n",
    "using BoSSS.Solution.Control;\r\n",
    "using BoSSS.Solution.GridImport;\r\n",
    "using BoSSS.Solution.Statistic;\r\n",
    "using BoSSS.Solution.Utils;\r\n",
    "using BoSSS.Solution.Gnuplot;\r\n",
    "using BoSSS.Application.BoSSSpad;\r\n",
    "using BoSSS.Application.XNSE_Solver;\r\n",
    "using static BoSSS.Application.BoSSSpad.BoSSSshell;\r\n",
    "Init();\r\n"
   ],
   "outputs": [
    {
     "output_type": "display_data",
     "data": {
      "text/html": [
       "\r\n",
       "<div>\r\n",
       "    <div id='dotnet-interactive-this-cell-22820.Microsoft.DotNet.Interactive.Http.HttpPort' style='display: none'>\r\n",
       "        The below script needs to be able to find the current output cell; this is an easy method to get it.\r\n",
       "    </div>\r\n",
       "    <script type='text/javascript'>\r\n",
       "async function probeAddresses(probingAddresses) {\r\n",
       "    function timeout(ms, promise) {\r\n",
       "        return new Promise(function (resolve, reject) {\r\n",
       "            setTimeout(function () {\r\n",
       "                reject(new Error('timeout'))\r\n",
       "            }, ms)\r\n",
       "            promise.then(resolve, reject)\r\n",
       "        })\r\n",
       "    }\r\n",
       "\r\n",
       "    if (Array.isArray(probingAddresses)) {\r\n",
       "        for (let i = 0; i < probingAddresses.length; i++) {\r\n",
       "\r\n",
       "            let rootUrl = probingAddresses[i];\r\n",
       "\r\n",
       "            if (!rootUrl.endsWith('/')) {\r\n",
       "                rootUrl = `${rootUrl}/`;\r\n",
       "            }\r\n",
       "\r\n",
       "            try {\r\n",
       "                let response = await timeout(1000, fetch(`${rootUrl}discovery`, {\r\n",
       "                    method: 'POST',\r\n",
       "                    cache: 'no-cache',\r\n",
       "                    mode: 'cors',\r\n",
       "                    timeout: 1000,\r\n",
       "                    headers: {\r\n",
       "                        'Content-Type': 'text/plain'\r\n",
       "                    },\r\n",
       "                    body: probingAddresses[i]\r\n",
       "                }));\r\n",
       "\r\n",
       "                if (response.status == 200) {\r\n",
       "                    return rootUrl;\r\n",
       "                }\r\n",
       "            }\r\n",
       "            catch (e) { }\r\n",
       "        }\r\n",
       "    }\r\n",
       "}\r\n",
       "\r\n",
       "function loadDotnetInteractiveApi() {\r\n",
       "    probeAddresses([\"http://192.168.56.1:1000/\", \"http://169.254.241.121:1000/\", \"http://192.168.178.23:1000/\", \"http://192.168.21.33:1000/\", \"http://127.0.0.1:1000/\"])\r\n",
       "        .then((root) => {\r\n",
       "        // use probing to find host url and api resources\r\n",
       "        // load interactive helpers and language services\r\n",
       "        let dotnetInteractiveRequire = require.config({\r\n",
       "        context: '22820.Microsoft.DotNet.Interactive.Http.HttpPort',\r\n",
       "                paths:\r\n",
       "            {\r\n",
       "                'dotnet-interactive': `${root}resources`\r\n",
       "                }\r\n",
       "        }) || require;\r\n",
       "\r\n",
       "            window.dotnetInteractiveRequire = dotnetInteractiveRequire;\r\n",
       "\r\n",
       "            window.configureRequireFromExtension = function(extensionName, extensionCacheBuster) {\r\n",
       "                let paths = {};\r\n",
       "                paths[extensionName] = `${root}extensions/${extensionName}/resources/`;\r\n",
       "                \r\n",
       "                let internalRequire = require.config({\r\n",
       "                    context: extensionCacheBuster,\r\n",
       "                    paths: paths,\r\n",
       "                    urlArgs: `cacheBuster=${extensionCacheBuster}`\r\n",
       "                    }) || require;\r\n",
       "\r\n",
       "                return internalRequire\r\n",
       "            };\r\n",
       "        \r\n",
       "            dotnetInteractiveRequire([\r\n",
       "                    'dotnet-interactive/dotnet-interactive'\r\n",
       "                ],\r\n",
       "                function (dotnet) {\r\n",
       "                    dotnet.init(window);\r\n",
       "                },\r\n",
       "                function (error) {\r\n",
       "                    console.log(error);\r\n",
       "                }\r\n",
       "            );\r\n",
       "        })\r\n",
       "        .catch(error => {console.log(error);});\r\n",
       "    }\r\n",
       "\r\n",
       "// ensure `require` is available globally\r\n",
       "if ((typeof(require) !==  typeof(Function)) || (typeof(require.config) !== typeof(Function))) {\r\n",
       "    let require_script = document.createElement('script');\r\n",
       "    require_script.setAttribute('src', 'https://cdnjs.cloudflare.com/ajax/libs/require.js/2.3.6/require.min.js');\r\n",
       "    require_script.setAttribute('type', 'text/javascript');\r\n",
       "    \r\n",
       "    \r\n",
       "    require_script.onload = function() {\r\n",
       "        loadDotnetInteractiveApi();\r\n",
       "    };\r\n",
       "\r\n",
       "    document.getElementsByTagName('head')[0].appendChild(require_script);\r\n",
       "}\r\n",
       "else {\r\n",
       "    loadDotnetInteractiveApi();\r\n",
       "}\r\n",
       "\r\n",
       "    </script>\r\n",
       "</div>"
      ]
     },
     "metadata": {}
    }
   ],
   "metadata": {
    "dotnet_interactive": {
     "language": "csharp"
    }
   }
  },
  {
   "cell_type": "markdown",
   "source": [
    " This tutorial demostrates the **definition**, resp. the **import** of \r\n",
    " data for **boundary and initial values**. \r\n",
    " \r\n",
    " In order to demonstrate the usage, \r\n",
    " we employ the exemplaric **Poisson solver**."
   ],
   "metadata": {}
  },
  {
   "cell_type": "code",
   "execution_count": null,
   "source": [
    "using BoSSS.Application.SipPoisson;"
   ],
   "outputs": [],
   "metadata": {
    "dotnet_interactive": {
     "language": "csharp"
    }
   }
  },
  {
   "cell_type": "markdown",
   "source": [
    "We use a **temporary database** for this tutorial:"
   ],
   "metadata": {}
  },
  {
   "cell_type": "code",
   "execution_count": null,
   "source": [
    "var tempDb = CreateTempDatabase();"
   ],
   "outputs": [
    {
     "output_type": "stream",
     "name": "stdout",
     "text": [
      "Creating database 'C:\\Users\\flori\\AppData\\Local\\Temp\\1745730561'.\r\n"
     ]
    }
   ],
   "metadata": {
    "dotnet_interactive": {
     "language": "csharp"
    }
   }
  },
  {
   "cell_type": "markdown",
   "source": [
    "We use the following helper function to create a **template for the multiple solver runs**."
   ],
   "metadata": {}
  },
  {
   "cell_type": "code",
   "execution_count": null,
   "source": [
    "Func<SipControl> PreDefinedControl = delegate() {\r\n",
    "    SipControl c = new SipControl();\r\n",
    " \r\n",
    "    c.SetDGdegree(2);\r\n",
    " \r\n",
    "    c.GridFunc = delegate() {\r\n",
    "        // define a grid of 10x10 cells\r\n",
    "        double[] nodes = GenericBlas.Linspace(-1, 1, 11);\r\n",
    "        var grd = Grid2D.Cartesian2DGrid(nodes, nodes);\r\n",
    " \r\n",
    "        // set the entire boundary to Dirichlet b.c.\r\n",
    "        grd.DefineEdgeTags(delegate (double[] X) {\r\n",
    "            return BoundaryType.Dirichlet.ToString();\r\n",
    "        });\r\n",
    " \r\n",
    "        return grd;\r\n",
    "    };\r\n",
    " \r\n",
    "    c.SetDatabase(tempDb);\r\n",
    "    c.savetodb = true; \r\n",
    " \r\n",
    "    return c;    \r\n",
    "};"
   ],
   "outputs": [],
   "metadata": {
    "dotnet_interactive": {
     "language": "csharp"
    }
   }
  },
  {
   "cell_type": "markdown",
   "source": [
    "Again, we are using the **workflow management**"
   ],
   "metadata": {}
  },
  {
   "cell_type": "code",
   "execution_count": null,
   "source": [
    "BoSSSshell.WorkflowMgm.Init(\"Demo_BoundaryAndInitialData\");"
   ],
   "outputs": [
    {
     "output_type": "stream",
     "name": "stdout",
     "text": [
      "Project name is set to 'Demo_BoundaryAndInitialData'.\r\n"
     ]
    }
   ],
   "metadata": {
    "dotnet_interactive": {
     "language": "csharp"
    }
   }
  },
  {
   "cell_type": "markdown",
   "source": [
    "# **1. Textual and Embedded formulas**\r\n"
   ],
   "metadata": {}
  },
  {
   "cell_type": "code",
   "execution_count": null,
   "source": [
    "SipControl c1 = PreDefinedControl();"
   ],
   "outputs": [],
   "metadata": {
    "dotnet_interactive": {
     "language": "csharp"
    }
   }
  },
  {
   "cell_type": "markdown",
   "source": [
    "Provide **initial data** as a text:"
   ],
   "metadata": {}
  },
  {
   "cell_type": "code",
   "execution_count": null,
   "source": [
    "c1.AddInitialValue(\"RHS\",\"X => Math.Sin(X[0])*Math.Cos(X[1])\",\r\n",
    "                        TimeDependent:false);"
   ],
   "outputs": [],
   "metadata": {
    "dotnet_interactive": {
     "language": "csharp"
    }
   }
  },
  {
   "cell_type": "markdown",
   "source": [
    "Finally, all initial data is stored in the \r\n",
    "***AppControl.InitialVa*** dictionary and \r\n",
    "all boundary data is stored in the \r\n",
    "***AppControl.BoundaryValues*** dictionary.\r\n",
    " \r\n",
    "The common interface for all varinats to specify boundary\r\n",
    "and initial data is ***IBoundaryAndInitialData***.\r\n",
    "\r\n",
    "The snippet above is only a shortcut to add a ***Formula*** object,\r\n",
    "which implements the ***IBoundaryAndInitialData*** interface."
   ],
   "metadata": {}
  },
  {
   "cell_type": "code",
   "execution_count": null,
   "source": [
    "c1.InitialValues"
   ],
   "outputs": [
    {
     "output_type": "execute_result",
     "data": {
      "text/html": [
       "<table><thead><tr><th><i>key</i></th><th></th></tr></thead><tbody><tr><td><div class=\"dni-plaintext\">RHS</div></td><td><div class=\"dni-plaintext\">BoSSS.Solution.Control.Formula</div></td></tr></tbody></table>"
      ]
     },
     "metadata": {},
     "execution_count": 15
    }
   ],
   "metadata": {
    "dotnet_interactive": {
     "language": "csharp"
    }
   }
  },
  {
   "cell_type": "code",
   "execution_count": null,
   "source": [
    "c1.InitialValues[\"RHS\"]"
   ],
   "outputs": [
    {
     "output_type": "execute_result",
     "data": {
      "text/html": [
       "<div class=\"dni-plaintext\">BoSSS.Solution.Control.Formula</div>"
      ]
     },
     "metadata": {},
     "execution_count": 16
    }
   ],
   "metadata": {
    "dotnet_interactive": {
     "language": "csharp"
    }
   }
  },
  {
   "cell_type": "markdown",
   "source": [
    "In **BoSSSpad**, such objects can also be extracted from \r\n",
    "static methods of classes; note that these should not depend on any other\r\n",
    "object in the worksheet."
   ],
   "metadata": {}
  },
  {
   "cell_type": "code",
   "execution_count": null,
   "source": [
    "Formula BndyFormula = new Formula(\r\n",
    "    \"BndyValue.BndyFunction\",\r\n",
    "    false,\r\n",
    "\"static class BndyValue {\"+\r\n",
    "\"    public static double BndyFunction(double[] X) {\"+\r\n",
    "\"        return 1.0;\"+\r\n",
    "\"    }\"+\r\n",
    "\"}\");"
   ],
   "outputs": [],
   "metadata": {
    "dotnet_interactive": {
     "language": "csharp"
    }
   }
  },
  {
   "cell_type": "code",
   "execution_count": null,
   "source": [
    "c1.AddBoundaryValue(BoundaryType.Dirichlet.ToString(),\r\n",
    "                    \"T\",\r\n",
    "                    BndyFormula);"
   ],
   "outputs": [],
   "metadata": {
    "dotnet_interactive": {
     "language": "csharp"
    }
   }
  },
  {
   "cell_type": "code",
   "execution_count": null,
   "source": [
    "var J1 = c1.RunBatch();"
   ],
   "outputs": [
    {
     "output_type": "stream",
     "name": "stdout",
     "text": [
      "Control object contains grid function. Trying to Serialize the grid...\n",
      "Grid Edge Tags changed.\n",
      "Control object modified.\n"
     ]
    },
    {
     "output_type": "error",
     "ename": "Unhandled exception",
     "evalue": "Newtonsoft.Json.JsonSerializationException: Error resolving type specified in JSON 'BoSSS.Solution.Statistic.ForeignGridValue, BoSSS.Solution.Statistic'. Path 'm_InitialValues.RHS.$type', line 69, position 84.\r\n ---> Newtonsoft.Json.JsonSerializationException: Could not load assembly 'BoSSS.Solution.Statistic'.\r\n   at Newtonsoft.Json.Serialization.DefaultSerializationBinder.GetTypeFromTypeNameKey(StructMultiKey`2 typeNameKey)\r\n   at System.Collections.Concurrent.ConcurrentDictionary`2.GetOrAdd(TKey key, Func`2 valueFactory)\r\n   at Newtonsoft.Json.Utilities.ThreadSafeStore`2.Get(TKey key)\r\n   at Newtonsoft.Json.Serialization.DefaultSerializationBinder.GetTypeByName(StructMultiKey`2 typeNameKey)\r\n   at Newtonsoft.Json.Serialization.DefaultSerializationBinder.BindToType(String assemblyName, String typeName)\r\n   at Newtonsoft.Json.Serialization.JsonSerializerInternalReader.ResolveTypeName(JsonReader reader, Type& objectType, JsonContract& contract, JsonProperty member, JsonContainerContract containerContract, JsonProperty containerMember, String qualifiedTypeName)\r\n   --- End of inner exception stack trace ---\r\n   at Newtonsoft.Json.Serialization.JsonSerializerInternalReader.ResolveTypeName(JsonReader reader, Type& objectType, JsonContract& contract, JsonProperty member, JsonContainerContract containerContract, JsonProperty containerMember, String qualifiedTypeName)\r\n   at Newtonsoft.Json.Serialization.JsonSerializerInternalReader.ReadMetadataProperties(JsonReader reader, Type& objectType, JsonContract& contract, JsonProperty member, JsonContainerContract containerContract, JsonProperty containerMember, Object existingValue, Object& newValue, String& id)\r\n   at Newtonsoft.Json.Serialization.JsonSerializerInternalReader.CreateObject(JsonReader reader, Type objectType, JsonContract contract, JsonProperty member, JsonContainerContract containerContract, JsonProperty containerMember, Object existingValue)\r\n   at Newtonsoft.Json.Serialization.JsonSerializerInternalReader.CreateValueInternal(JsonReader reader, Type objectType, JsonContract contract, JsonProperty member, JsonContainerContract containerContract, JsonProperty containerMember, Object existingValue)\r\n   at Newtonsoft.Json.Serialization.JsonSerializerInternalReader.PopulateDictionary(IDictionary dictionary, JsonReader reader, JsonDictionaryContract contract, JsonProperty containerProperty, String id)\r\n   at Newtonsoft.Json.Serialization.JsonSerializerInternalReader.CreateObject(JsonReader reader, Type objectType, JsonContract contract, JsonProperty member, JsonContainerContract containerContract, JsonProperty containerMember, Object existingValue)\r\n   at Newtonsoft.Json.Serialization.JsonSerializerInternalReader.CreateValueInternal(JsonReader reader, Type objectType, JsonContract contract, JsonProperty member, JsonContainerContract containerContract, JsonProperty containerMember, Object existingValue)\r\n   at Newtonsoft.Json.Serialization.JsonSerializerInternalReader.SetPropertyValue(JsonProperty property, JsonConverter propertyConverter, JsonContainerContract containerContract, JsonProperty containerProperty, JsonReader reader, Object target)\r\n   at Newtonsoft.Json.Serialization.JsonSerializerInternalReader.PopulateObject(Object newObject, JsonReader reader, JsonObjectContract contract, JsonProperty member, String id)\r\n   at Newtonsoft.Json.Serialization.JsonSerializerInternalReader.CreateObject(JsonReader reader, Type objectType, JsonContract contract, JsonProperty member, JsonContainerContract containerContract, JsonProperty containerMember, Object existingValue)\r\n   at Newtonsoft.Json.Serialization.JsonSerializerInternalReader.CreateValueInternal(JsonReader reader, Type objectType, JsonContract contract, JsonProperty member, JsonContainerContract containerContract, JsonProperty containerMember, Object existingValue)\r\n   at Newtonsoft.Json.Serialization.JsonSerializerInternalReader.Deserialize(JsonReader reader, Type objectType, Boolean checkAdditionalContent)\r\n   at Newtonsoft.Json.JsonSerializer.DeserializeInternal(JsonReader reader, Type objectType)\r\n   at BoSSS.Solution.Control.AppControl.Deserialize(String Str) in C:\\Users\\flori\\Documents\\BoSSS-NET5\\public\\src\\L3-solution\\BoSSS.Solution\\AppControl.cs:line 1138\r\n   at BoSSS.Application.BoSSSpad.Job.GetAllUnkonwnExistingDeployDirectories() in C:\\Users\\flori\\Documents\\BoSSS-NET5\\public\\src\\L4-application\\BoSSSpad\\Job.cs:line 733\r\n   at BoSSS.Application.BoSSSpad.Job.UpdateDeployments() in C:\\Users\\flori\\Documents\\BoSSS-NET5\\public\\src\\L4-application\\BoSSSpad\\Job.cs:line 782\r\n   at BoSSS.Application.BoSSSpad.Job.get_AllDeployments() in C:\\Users\\flori\\Documents\\BoSSS-NET5\\public\\src\\L4-application\\BoSSSpad\\Job.cs:line 819\r\n   at BoSSS.Application.BoSSSpad.Job.GetStatus(Boolean WriteHints) in C:\\Users\\flori\\Documents\\BoSSS-NET5\\public\\src\\L4-application\\BoSSSpad\\Job.cs:line 1213\r\n   at BoSSS.Application.BoSSSpad.Job.Activate(BatchProcessorClient bpc, Boolean DeleteOldDeploymentsAndSessions) in C:\\Users\\flori\\Documents\\BoSSS-NET5\\public\\src\\L4-application\\BoSSSpad\\Job.cs:line 1149\r\n   at BoSSS.Application.BoSSSpad.AppControlExtensions.RunBatch(AppControl ctrl, BatchProcessorClient BatchSys) in C:\\Users\\flori\\Documents\\BoSSS-NET5\\public\\src\\L4-application\\BoSSSpad\\AppControlExtensions.cs:line 66\r\n   at BoSSS.Application.BoSSSpad.AppControlExtensions.RunBatch(AppControl ctrl, Int32 queueIdx) in C:\\Users\\flori\\Documents\\BoSSS-NET5\\public\\src\\L4-application\\BoSSSpad\\AppControlExtensions.cs:line 81\r\n   at Submission#23.<<Initialize>>d__0.MoveNext()\r\n--- End of stack trace from previous location ---\r\n   at Microsoft.CodeAnalysis.Scripting.ScriptExecutionState.RunSubmissionsAsync[TResult](ImmutableArray`1 precedingExecutors, Func`2 currentExecutor, StrongBox`1 exceptionHolderOpt, Func`2 catchExceptionOpt, CancellationToken cancellationToken)",
     "traceback": [
      "Newtonsoft.Json.JsonSerializationException: Error resolving type specified in JSON 'BoSSS.Solution.Statistic.ForeignGridValue, BoSSS.Solution.Statistic'. Path 'm_InitialValues.RHS.$type', line 69, position 84.\r\n ---> Newtonsoft.Json.JsonSerializationException: Could not load assembly 'BoSSS.Solution.Statistic'.\r\n   at Newtonsoft.Json.Serialization.DefaultSerializationBinder.GetTypeFromTypeNameKey(StructMultiKey`2 typeNameKey)\r\n   at System.Collections.Concurrent.ConcurrentDictionary`2.GetOrAdd(TKey key, Func`2 valueFactory)\r\n   at Newtonsoft.Json.Utilities.ThreadSafeStore`2.Get(TKey key)\r\n   at Newtonsoft.Json.Serialization.DefaultSerializationBinder.GetTypeByName(StructMultiKey`2 typeNameKey)\r\n   at Newtonsoft.Json.Serialization.DefaultSerializationBinder.BindToType(String assemblyName, String typeName)\r\n   at Newtonsoft.Json.Serialization.JsonSerializerInternalReader.ResolveTypeName(JsonReader reader, Type& objectType, JsonContract& contract, JsonProperty member, JsonContainerContract containerContract, JsonProperty containerMember, String qualifiedTypeName)\r\n   --- End of inner exception stack trace ---\r\n   at Newtonsoft.Json.Serialization.JsonSerializerInternalReader.ResolveTypeName(JsonReader reader, Type& objectType, JsonContract& contract, JsonProperty member, JsonContainerContract containerContract, JsonProperty containerMember, String qualifiedTypeName)\r\n   at Newtonsoft.Json.Serialization.JsonSerializerInternalReader.ReadMetadataProperties(JsonReader reader, Type& objectType, JsonContract& contract, JsonProperty member, JsonContainerContract containerContract, JsonProperty containerMember, Object existingValue, Object& newValue, String& id)\r\n   at Newtonsoft.Json.Serialization.JsonSerializerInternalReader.CreateObject(JsonReader reader, Type objectType, JsonContract contract, JsonProperty member, JsonContainerContract containerContract, JsonProperty containerMember, Object existingValue)\r\n   at Newtonsoft.Json.Serialization.JsonSerializerInternalReader.CreateValueInternal(JsonReader reader, Type objectType, JsonContract contract, JsonProperty member, JsonContainerContract containerContract, JsonProperty containerMember, Object existingValue)\r\n   at Newtonsoft.Json.Serialization.JsonSerializerInternalReader.PopulateDictionary(IDictionary dictionary, JsonReader reader, JsonDictionaryContract contract, JsonProperty containerProperty, String id)\r\n   at Newtonsoft.Json.Serialization.JsonSerializerInternalReader.CreateObject(JsonReader reader, Type objectType, JsonContract contract, JsonProperty member, JsonContainerContract containerContract, JsonProperty containerMember, Object existingValue)\r\n   at Newtonsoft.Json.Serialization.JsonSerializerInternalReader.CreateValueInternal(JsonReader reader, Type objectType, JsonContract contract, JsonProperty member, JsonContainerContract containerContract, JsonProperty containerMember, Object existingValue)\r\n   at Newtonsoft.Json.Serialization.JsonSerializerInternalReader.SetPropertyValue(JsonProperty property, JsonConverter propertyConverter, JsonContainerContract containerContract, JsonProperty containerProperty, JsonReader reader, Object target)\r\n   at Newtonsoft.Json.Serialization.JsonSerializerInternalReader.PopulateObject(Object newObject, JsonReader reader, JsonObjectContract contract, JsonProperty member, String id)\r\n   at Newtonsoft.Json.Serialization.JsonSerializerInternalReader.CreateObject(JsonReader reader, Type objectType, JsonContract contract, JsonProperty member, JsonContainerContract containerContract, JsonProperty containerMember, Object existingValue)\r\n   at Newtonsoft.Json.Serialization.JsonSerializerInternalReader.CreateValueInternal(JsonReader reader, Type objectType, JsonContract contract, JsonProperty member, JsonContainerContract containerContract, JsonProperty containerMember, Object existingValue)\r\n   at Newtonsoft.Json.Serialization.JsonSerializerInternalReader.Deserialize(JsonReader reader, Type objectType, Boolean checkAdditionalContent)\r\n   at Newtonsoft.Json.JsonSerializer.DeserializeInternal(JsonReader reader, Type objectType)\r\n   at BoSSS.Solution.Control.AppControl.Deserialize(String Str) in C:\\Users\\flori\\Documents\\BoSSS-NET5\\public\\src\\L3-solution\\BoSSS.Solution\\AppControl.cs:line 1138\r\n   at BoSSS.Application.BoSSSpad.Job.GetAllUnkonwnExistingDeployDirectories() in C:\\Users\\flori\\Documents\\BoSSS-NET5\\public\\src\\L4-application\\BoSSSpad\\Job.cs:line 733\r\n   at BoSSS.Application.BoSSSpad.Job.UpdateDeployments() in C:\\Users\\flori\\Documents\\BoSSS-NET5\\public\\src\\L4-application\\BoSSSpad\\Job.cs:line 782\r\n   at BoSSS.Application.BoSSSpad.Job.get_AllDeployments() in C:\\Users\\flori\\Documents\\BoSSS-NET5\\public\\src\\L4-application\\BoSSSpad\\Job.cs:line 819\r\n   at BoSSS.Application.BoSSSpad.Job.GetStatus(Boolean WriteHints) in C:\\Users\\flori\\Documents\\BoSSS-NET5\\public\\src\\L4-application\\BoSSSpad\\Job.cs:line 1213\r\n   at BoSSS.Application.BoSSSpad.Job.Activate(BatchProcessorClient bpc, Boolean DeleteOldDeploymentsAndSessions) in C:\\Users\\flori\\Documents\\BoSSS-NET5\\public\\src\\L4-application\\BoSSSpad\\Job.cs:line 1149\r\n   at BoSSS.Application.BoSSSpad.AppControlExtensions.RunBatch(AppControl ctrl, BatchProcessorClient BatchSys) in C:\\Users\\flori\\Documents\\BoSSS-NET5\\public\\src\\L4-application\\BoSSSpad\\AppControlExtensions.cs:line 66\r\n   at BoSSS.Application.BoSSSpad.AppControlExtensions.RunBatch(AppControl ctrl, Int32 queueIdx) in C:\\Users\\flori\\Documents\\BoSSS-NET5\\public\\src\\L4-application\\BoSSSpad\\AppControlExtensions.cs:line 81\r\n   at Submission#23.<<Initialize>>d__0.MoveNext()\r\n--- End of stack trace from previous location ---\r\n   at Microsoft.CodeAnalysis.Scripting.ScriptExecutionState.RunSubmissionsAsync[TResult](ImmutableArray`1 precedingExecutors, Func`2 currentExecutor, StrongBox`1 exceptionHolderOpt, Func`2 catchExceptionOpt, CancellationToken cancellationToken)",
      "   at Newtonsoft.Json.Serialization.JsonSerializerInternalReader.ResolveTypeName(JsonReader reader, Type& objectType, JsonContract& contract, JsonProperty member, JsonContainerContract containerContract, JsonProperty containerMember, String qualifiedTypeName)",
      "   at Newtonsoft.Json.Serialization.JsonSerializerInternalReader.ReadMetadataProperties(JsonReader reader, Type& objectType, JsonContract& contract, JsonProperty member, JsonContainerContract containerContract, JsonProperty containerMember, Object existingValue, Object& newValue, String& id)",
      "   at Newtonsoft.Json.Serialization.JsonSerializerInternalReader.CreateObject(JsonReader reader, Type objectType, JsonContract contract, JsonProperty member, JsonContainerContract containerContract, JsonProperty containerMember, Object existingValue)",
      "   at Newtonsoft.Json.Serialization.JsonSerializerInternalReader.CreateValueInternal(JsonReader reader, Type objectType, JsonContract contract, JsonProperty member, JsonContainerContract containerContract, JsonProperty containerMember, Object existingValue)",
      "   at Newtonsoft.Json.Serialization.JsonSerializerInternalReader.PopulateDictionary(IDictionary dictionary, JsonReader reader, JsonDictionaryContract contract, JsonProperty containerProperty, String id)",
      "   at Newtonsoft.Json.Serialization.JsonSerializerInternalReader.CreateObject(JsonReader reader, Type objectType, JsonContract contract, JsonProperty member, JsonContainerContract containerContract, JsonProperty containerMember, Object existingValue)",
      "   at Newtonsoft.Json.Serialization.JsonSerializerInternalReader.CreateValueInternal(JsonReader reader, Type objectType, JsonContract contract, JsonProperty member, JsonContainerContract containerContract, JsonProperty containerMember, Object existingValue)",
      "   at Newtonsoft.Json.Serialization.JsonSerializerInternalReader.SetPropertyValue(JsonProperty property, JsonConverter propertyConverter, JsonContainerContract containerContract, JsonProperty containerProperty, JsonReader reader, Object target)",
      "   at Newtonsoft.Json.Serialization.JsonSerializerInternalReader.PopulateObject(Object newObject, JsonReader reader, JsonObjectContract contract, JsonProperty member, String id)",
      "   at Newtonsoft.Json.Serialization.JsonSerializerInternalReader.CreateObject(JsonReader reader, Type objectType, JsonContract contract, JsonProperty member, JsonContainerContract containerContract, JsonProperty containerMember, Object existingValue)",
      "   at Newtonsoft.Json.Serialization.JsonSerializerInternalReader.CreateValueInternal(JsonReader reader, Type objectType, JsonContract contract, JsonProperty member, JsonContainerContract containerContract, JsonProperty containerMember, Object existingValue)",
      "   at Newtonsoft.Json.Serialization.JsonSerializerInternalReader.Deserialize(JsonReader reader, Type objectType, Boolean checkAdditionalContent)",
      "   at Newtonsoft.Json.JsonSerializer.DeserializeInternal(JsonReader reader, Type objectType)",
      "   at BoSSS.Solution.Control.AppControl.Deserialize(String Str) in C:\\Users\\flori\\Documents\\BoSSS-NET5\\public\\src\\L3-solution\\BoSSS.Solution\\AppControl.cs:line 1138",
      "   at BoSSS.Application.BoSSSpad.Job.GetAllUnkonwnExistingDeployDirectories() in C:\\Users\\flori\\Documents\\BoSSS-NET5\\public\\src\\L4-application\\BoSSSpad\\Job.cs:line 733",
      "   at BoSSS.Application.BoSSSpad.Job.UpdateDeployments() in C:\\Users\\flori\\Documents\\BoSSS-NET5\\public\\src\\L4-application\\BoSSSpad\\Job.cs:line 782",
      "   at BoSSS.Application.BoSSSpad.Job.get_AllDeployments() in C:\\Users\\flori\\Documents\\BoSSS-NET5\\public\\src\\L4-application\\BoSSSpad\\Job.cs:line 819",
      "   at BoSSS.Application.BoSSSpad.Job.GetStatus(Boolean WriteHints) in C:\\Users\\flori\\Documents\\BoSSS-NET5\\public\\src\\L4-application\\BoSSSpad\\Job.cs:line 1213",
      "   at BoSSS.Application.BoSSSpad.Job.Activate(BatchProcessorClient bpc, Boolean DeleteOldDeploymentsAndSessions) in C:\\Users\\flori\\Documents\\BoSSS-NET5\\public\\src\\L4-application\\BoSSSpad\\Job.cs:line 1149",
      "   at BoSSS.Application.BoSSSpad.AppControlExtensions.RunBatch(AppControl ctrl, BatchProcessorClient BatchSys) in C:\\Users\\flori\\Documents\\BoSSS-NET5\\public\\src\\L4-application\\BoSSSpad\\AppControlExtensions.cs:line 66",
      "   at BoSSS.Application.BoSSSpad.AppControlExtensions.RunBatch(AppControl ctrl, Int32 queueIdx) in C:\\Users\\flori\\Documents\\BoSSS-NET5\\public\\src\\L4-application\\BoSSSpad\\AppControlExtensions.cs:line 81",
      "   at Submission#23.<<Initialize>>d__0.MoveNext()",
      "--- End of stack trace from previous location ---",
      "   at Microsoft.CodeAnalysis.Scripting.ScriptExecutionState.RunSubmissionsAsync[TResult](ImmutableArray`1 precedingExecutors, Func`2 currentExecutor, StrongBox`1 exceptionHolderOpt, Func`2 catchExceptionOpt, CancellationToken cancellationToken)"
     ]
    }
   ],
   "metadata": {
    "dotnet_interactive": {
     "language": "csharp"
    }
   }
  },
  {
   "cell_type": "code",
   "execution_count": null,
   "source": [
    "BoSSSshell.WorkflowMgm.BlockUntilAllJobsTerminate(3600*4);"
   ],
   "outputs": [],
   "metadata": {
    "dotnet_interactive": {
     "language": "csharp"
    }
   }
  },
  {
   "cell_type": "code",
   "execution_count": null,
   "source": [
    "/// What happened to the job?\r\n",
    "J1.Status"
   ],
   "outputs": [],
   "metadata": {
    "dotnet_interactive": {
     "language": "csharp"
    }
   }
  },
  {
   "cell_type": "code",
   "execution_count": null,
   "source": [
    "/// BoSSScmdSilent\r\n",
    "NUnit.Framework.Assert.IsTrue(J1.Status == JobStatus.FinishedSuccessful);"
   ],
   "outputs": [],
   "metadata": {
    "dotnet_interactive": {
     "language": "csharp"
    }
   }
  },
  {
   "cell_type": "markdown",
   "source": [
    "# **2. 1D Splines**\r\n",
    "\r\n",
    "**Splines** can be used to interpolate nodal data onto a DG field;\r\n",
    "currently, only 1D is supported."
   ],
   "metadata": {}
  },
  {
   "cell_type": "code",
   "execution_count": null,
   "source": [
    "SipControl c2 = PreDefinedControl();"
   ],
   "outputs": [],
   "metadata": {
    "dotnet_interactive": {
     "language": "csharp"
    }
   }
  },
  {
   "cell_type": "code",
   "execution_count": null,
   "source": [
    "// create test data for the spline\r\n",
    "double[] xNodes = GenericBlas.Linspace(-2,2,13);\r\n",
    "double[] yNodes = xNodes.Select(x => x*0.4).ToArray();"
   ],
   "outputs": [],
   "metadata": {
    "dotnet_interactive": {
     "language": "csharp"
    }
   }
  },
  {
   "cell_type": "code",
   "execution_count": null,
   "source": [
    "var rhsSpline = new Spline1D(xNodes, yNodes,\r\n",
    "                             0,\r\n",
    "                             Spline1D.OutOfBoundsBehave.Extrapolate);"
   ],
   "outputs": [],
   "metadata": {
    "dotnet_interactive": {
     "language": "csharp"
    }
   }
  },
  {
   "cell_type": "code",
   "execution_count": null,
   "source": [],
   "outputs": [],
   "metadata": {
    "dotnet_interactive": {
     "language": "csharp"
    }
   }
  },
  {
   "cell_type": "code",
   "execution_count": null,
   "source": [
    "/// BoSSScmdSilent\r\n",
    "double err = 0;\r\n",
    "// test the spline: a line must be interpolated exactly.\r\n",
    "foreach(double xtst in GenericBlas.Linspace(-3,3,77)) { \r\n",
    "   double sVal = rhsSpline.Evaluate(new double[] {xtst , 0, 0 }, 0.0);\r\n",
    "   double rVal = xtst*0.4;\r\n",
    "   err += Math.Abs(sVal - rVal);\r\n",
    "}\r\n",
    "NUnit.Framework.Assert.Less(err, 1.0e-10, \"Slpine implementation fail.\");"
   ],
   "outputs": [],
   "metadata": {
    "dotnet_interactive": {
     "language": "csharp"
    }
   }
  },
  {
   "cell_type": "code",
   "execution_count": null,
   "source": [
    "c2.AddInitialValue(\"RHS\", rhsSpline);"
   ],
   "outputs": [],
   "metadata": {
    "dotnet_interactive": {
     "language": "csharp"
    }
   }
  },
  {
   "cell_type": "code",
   "execution_count": null,
   "source": [
    "var J2 = c2.RunBatch();"
   ],
   "outputs": [],
   "metadata": {
    "dotnet_interactive": {
     "language": "csharp"
    }
   }
  },
  {
   "cell_type": "code",
   "execution_count": null,
   "source": [
    "BoSSSshell.WorkflowMgm.BlockUntilAllJobsTerminate(3600*4);"
   ],
   "outputs": [],
   "metadata": {
    "dotnet_interactive": {
     "language": "csharp"
    }
   }
  },
  {
   "cell_type": "code",
   "execution_count": null,
   "source": [
    "J2.Status"
   ],
   "outputs": [],
   "metadata": {
    "dotnet_interactive": {
     "language": "csharp"
    }
   }
  },
  {
   "cell_type": "code",
   "execution_count": null,
   "source": [
    "/// BoSSScmdSilent\r\n",
    "NUnit.Framework.Assert.IsTrue(J2.Status == JobStatus.FinishedSuccessful);"
   ],
   "outputs": [],
   "metadata": {
    "dotnet_interactive": {
     "language": "csharp"
    }
   }
  },
  {
   "cell_type": "markdown",
   "source": [
    "\r\n",
    "# **3. Interpolating values from other Calculations**\r\n",
    "\r\n",
    "For demonstrational purposes, we use the result (i.e. the last time-step) \r\n",
    "of a previous calculation as a right-hand-side for the next calculation."
   ],
   "metadata": {}
  },
  {
   "cell_type": "code",
   "execution_count": null,
   "source": [
    "var j2Sess = J2.LatestSession;"
   ],
   "outputs": [],
   "metadata": {
    "dotnet_interactive": {
     "language": "csharp"
    }
   }
  },
  {
   "cell_type": "code",
   "execution_count": null,
   "source": [
    "j2Sess"
   ],
   "outputs": [],
   "metadata": {
    "dotnet_interactive": {
     "language": "csharp"
    }
   }
  },
  {
   "cell_type": "code",
   "execution_count": null,
   "source": [
    "j2Sess.Timesteps"
   ],
   "outputs": [],
   "metadata": {
    "dotnet_interactive": {
     "language": "csharp"
    }
   }
  },
  {
   "cell_type": "code",
   "execution_count": null,
   "source": [
    "var lastTimeStep = j2Sess.Timesteps.Last();"
   ],
   "outputs": [],
   "metadata": {
    "dotnet_interactive": {
     "language": "csharp"
    }
   }
  },
  {
   "cell_type": "markdown",
   "source": [
    "We encapsulate the value **T** in the **ForeignGridValue** object,\r\n",
    "which allows interpolation between different meshes:"
   ],
   "metadata": {}
  },
  {
   "cell_type": "code",
   "execution_count": null,
   "source": [
    "var newForeignMesh = new ForeignGridValue(lastTimeStep,\"T\");"
   ],
   "outputs": [],
   "metadata": {
    "dotnet_interactive": {
     "language": "csharp"
    }
   }
  },
  {
   "cell_type": "code",
   "execution_count": null,
   "source": [
    "/// Use different mesh in the control file:\r\n",
    "SipControl c3 = PreDefinedControl();"
   ],
   "outputs": [],
   "metadata": {
    "dotnet_interactive": {
     "language": "csharp"
    }
   }
  },
  {
   "cell_type": "code",
   "execution_count": null,
   "source": [
    "c3.GridFunc = delegate() {\r\n",
    "   // define a grid of *triangle* cells\r\n",
    "   double[] nodes = GenericBlas.Linspace(-1, 1, 11);\r\n",
    "   var grd = Grid2D.UnstructuredTriangleGrid(nodes, nodes);\r\n",
    " \r\n",
    "   // set the entire boundary to Dirichlet b.c.\r\n",
    "   grd.DefineEdgeTags(delegate (double[] X) {\r\n",
    "       return BoundaryType.Dirichlet.ToString();\r\n",
    "   });\r\n",
    " \r\n",
    "   return grd;\r\n",
    "};\r\n",
    "// we also save the RHS in the database\r\n",
    "c3.AddFieldOption(\"RHS\", SaveOpt: FieldOpts.SaveToDBOpt.TRUE);"
   ],
   "outputs": [],
   "metadata": {
    "dotnet_interactive": {
     "language": "csharp"
    }
   }
  },
  {
   "cell_type": "code",
   "execution_count": null,
   "source": [
    "/// finally, we define the RHS:\r\n",
    "c3.AddInitialValue(\"RHS\", newForeignMesh);"
   ],
   "outputs": [],
   "metadata": {
    "dotnet_interactive": {
     "language": "csharp"
    }
   }
  },
  {
   "cell_type": "code",
   "execution_count": null,
   "source": [
    "/// BoSSScmdSilent\r\n",
    "double orgProbe = newForeignMesh.Evaluate(new double[] {0.5,0.5}, 0.0);\r\n",
    "double newProbe = lastTimeStep.GetField(\"T\").ProbeAt(new double[] {0.5,0.5});\r\n",
    "NUnit.Framework.Assert.Less(Math.Abs(orgProbe - newProbe), 1.0e-10, \"Check (1) on ForeignGridValue failed\");"
   ],
   "outputs": [],
   "metadata": {
    "dotnet_interactive": {
     "language": "csharp"
    }
   }
  },
  {
   "cell_type": "code",
   "execution_count": null,
   "source": [
    "var J3 = c3.RunBatch();"
   ],
   "outputs": [],
   "metadata": {
    "dotnet_interactive": {
     "language": "csharp"
    }
   }
  },
  {
   "cell_type": "code",
   "execution_count": null,
   "source": [
    "BoSSSshell.WorkflowMgm.BlockUntilAllJobsTerminate(3600*4);"
   ],
   "outputs": [],
   "metadata": {
    "dotnet_interactive": {
     "language": "csharp"
    }
   }
  },
  {
   "cell_type": "code",
   "execution_count": null,
   "source": [
    "J3.Status"
   ],
   "outputs": [],
   "metadata": {
    "dotnet_interactive": {
     "language": "csharp"
    }
   }
  },
  {
   "cell_type": "code",
   "execution_count": null,
   "source": [
    "/// BoSSScmdSilent\r\n",
    "NUnit.Framework.Assert.IsTrue(J3.Status == JobStatus.FinishedSuccessful);"
   ],
   "outputs": [],
   "metadata": {
    "dotnet_interactive": {
     "language": "csharp"
    }
   }
  },
  {
   "cell_type": "markdown",
   "source": [
    "Since the quadrilateral mesh used for the original\r\n",
    "right-hand-side is geometrically embedded in the triangular mesh \r\n",
    "the **interpolation error should be zero** (up to machine precision)."
   ],
   "metadata": {}
  },
  {
   "cell_type": "code",
   "execution_count": null,
   "source": [
    "var firstTimeStep = J3.LatestSession.Timesteps.First();"
   ],
   "outputs": [],
   "metadata": {
    "dotnet_interactive": {
     "language": "csharp"
    }
   }
  },
  {
   "cell_type": "code",
   "execution_count": null,
   "source": [
    "DGField RhsOnTriangles = firstTimeStep.GetField(\"rhs\"); // case-insensitive!\r\n",
    "DGField RhsOriginal    = lastTimeStep.GetField(\"T\");"
   ],
   "outputs": [],
   "metadata": {
    "dotnet_interactive": {
     "language": "csharp"
    }
   }
  },
  {
   "cell_type": "code",
   "execution_count": null,
   "source": [
    "// note: we have to cast DGField to ConventionalDGField in order to use\r\n",
    "// the 'L2Distance' function:\r\n",
    "((ConventionalDGField)RhsOnTriangles).L2Distance((ConventionalDGField)RhsOriginal)"
   ],
   "outputs": [],
   "metadata": {
    "dotnet_interactive": {
     "language": "csharp"
    }
   }
  },
  {
   "cell_type": "code",
   "execution_count": null,
   "source": [
    "/// BoSSScmdSilent\r\n",
    "var H1err = ((ConventionalDGField)RhsOnTriangles).H1Distance((ConventionalDGField)RhsOriginal);\r\n",
    "NUnit.Framework.Assert.Less(H1err, 1.0e-10, \"Check (2) on ForeignGridValue failed.\");"
   ],
   "outputs": [],
   "metadata": {
    "dotnet_interactive": {
     "language": "csharp"
    }
   }
  },
  {
   "cell_type": "markdown",
   "source": [
    "# **4. Restart from Dummy-Sessions**\r\n",
    "\r\n",
    "Dummy sessions are kind of fake siolver runs, with the only purpose \r\n",
    "of using them for a restart."
   ],
   "metadata": {}
  },
  {
   "cell_type": "code",
   "execution_count": null,
   "source": [
    "DGField RHSforRestart = firstTimeStep.GetField(\"RHS\");"
   ],
   "outputs": [],
   "metadata": {
    "dotnet_interactive": {
     "language": "csharp"
    }
   }
  },
  {
   "cell_type": "markdown",
   "source": [
    "We save the DG field ***RHSforRestart*** in the database;\r\n",
    "This automatically creates a timestep and a session which host the DG field:"
   ],
   "metadata": {}
  },
  {
   "cell_type": "code",
   "execution_count": null,
   "source": [
    "var RestartTimestep = tempDb.SaveTimestep(RHSforRestart);"
   ],
   "outputs": [],
   "metadata": {
    "dotnet_interactive": {
     "language": "csharp"
    }
   }
  },
  {
   "cell_type": "code",
   "execution_count": null,
   "source": [
    "RestartTimestep"
   ],
   "outputs": [],
   "metadata": {
    "dotnet_interactive": {
     "language": "csharp"
    }
   }
  },
  {
   "cell_type": "code",
   "execution_count": null,
   "source": [
    "RestartTimestep.Session"
   ],
   "outputs": [],
   "metadata": {
    "dotnet_interactive": {
     "language": "csharp"
    }
   }
  },
  {
   "cell_type": "markdown",
   "source": [
    "This time step can be used as a restart value.:"
   ],
   "metadata": {}
  },
  {
   "cell_type": "code",
   "execution_count": null,
   "source": [
    "var c4 = PreDefinedControl();"
   ],
   "outputs": [],
   "metadata": {
    "dotnet_interactive": {
     "language": "csharp"
    }
   }
  },
  {
   "cell_type": "code",
   "execution_count": null,
   "source": [
    "c4.InitialValues.Clear();\r\n",
    "c4.SetRestart(RestartTimestep);"
   ],
   "outputs": [],
   "metadata": {
    "dotnet_interactive": {
     "language": "csharp"
    }
   }
  },
  {
   "cell_type": "code",
   "execution_count": null,
   "source": [
    "var J4 = c4.RunBatch();"
   ],
   "outputs": [],
   "metadata": {
    "dotnet_interactive": {
     "language": "csharp"
    }
   }
  },
  {
   "cell_type": "code",
   "execution_count": null,
   "source": [
    "BoSSSshell.WorkflowMgm.BlockUntilAllJobsTerminate(3600*4);"
   ],
   "outputs": [],
   "metadata": {
    "dotnet_interactive": {
     "language": "csharp"
    }
   }
  },
  {
   "cell_type": "code",
   "execution_count": null,
   "source": [
    "J4.Status"
   ],
   "outputs": [],
   "metadata": {
    "dotnet_interactive": {
     "language": "csharp"
    }
   }
  },
  {
   "cell_type": "code",
   "execution_count": null,
   "source": [
    "/// BoSSScmdSilent\r\n",
    "NUnit.Framework.Assert.IsTrue(J4.Status == JobStatus.FinishedSuccessful);"
   ],
   "outputs": [],
   "metadata": {
    "dotnet_interactive": {
     "language": "csharp"
    }
   }
  },
  {
   "cell_type": "markdown",
   "source": [
    "# Note\r\n",
    "\r\n",
    "Since no mesh interpolation is performed for the restart, it is much faster\r\n",
    "than **ForeignGridValue**, but less flexible \r\n",
    "(a restart is always performed on the same mesh).\r\n",
    "\r\n",
    "To avoid multiple mesh interpolations (e.g. when multiple runs are required)\r\n",
    "one coudl therefore speed up the process by doing the \r\n",
    "mesh interpolation once ***use ProjectFromForeignGrid*** in BoSSSpad and\r\n",
    "save the interpolation in a dummy session."
   ],
   "metadata": {}
  }
 ],
 "metadata": {
  "kernelspec": {
   "display_name": ".NET (C#)",
   "language": "C#",
   "name": ".net-csharp"
  },
  "language_info": {
   "file_extension": ".cs",
   "mimetype": "text/x-csharp",
   "name": "C#",
   "pygments_lexer": "csharp",
   "version": "8.0"
  }
 },
 "nbformat": 4,
 "nbformat_minor": 4
}