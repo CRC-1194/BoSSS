{
 "cells": [
  {
   "cell_type": "code",
   "execution_count": null,
   "source": [
    "#r \"BoSSSpad.dll\"\r\n",
    "using System;\r\n",
    "using System.Collections.Generic;\r\n",
    "using System.Linq;\r\n",
    "using ilPSP;\r\n",
    "using ilPSP.Utils;\r\n",
    "using BoSSS.Platform;\r\n",
    "using BoSSS.Foundation;\r\n",
    "using BoSSS.Foundation.Grid;\r\n",
    "using BoSSS.Foundation.Grid.Classic;\r\n",
    "using BoSSS.Foundation.IO;\r\n",
    "using BoSSS.Solution;\r\n",
    "using BoSSS.Solution.Control;\r\n",
    "using BoSSS.Solution.GridImport;\r\n",
    "using BoSSS.Solution.Statistic;\r\n",
    "using BoSSS.Solution.Utils;\r\n",
    "using BoSSS.Solution.Gnuplot;\r\n",
    "using BoSSS.Application.BoSSSpad;\r\n",
    "using BoSSS.Application.XNSE_Solver;\r\n",
    "using static BoSSS.Application.BoSSSpad.BoSSSshell;\r\n",
    "Init();\r\n"
   ],
   "outputs": [
    {
     "output_type": "error",
     "ename": "Error",
     "evalue": "(1,1): error CS0006: Metadatendatei \"BoSSSpad.dll\" wurde nicht gefunden.\r\n(5,7): error CS0246: Der Typ- oder Namespacename \"ilPSP\" wurde nicht gefunden (möglicherweise fehlt eine using-Direktive oder ein Assemblyverweis).\r\n(6,7): error CS0246: Der Typ- oder Namespacename \"ilPSP\" wurde nicht gefunden (möglicherweise fehlt eine using-Direktive oder ein Assemblyverweis).\r\n(7,7): error CS0246: Der Typ- oder Namespacename \"BoSSS\" wurde nicht gefunden (möglicherweise fehlt eine using-Direktive oder ein Assemblyverweis).\r\n(8,7): error CS0246: Der Typ- oder Namespacename \"BoSSS\" wurde nicht gefunden (möglicherweise fehlt eine using-Direktive oder ein Assemblyverweis).\r\n(9,7): error CS0246: Der Typ- oder Namespacename \"BoSSS\" wurde nicht gefunden (möglicherweise fehlt eine using-Direktive oder ein Assemblyverweis).\r\n(10,7): error CS0246: Der Typ- oder Namespacename \"BoSSS\" wurde nicht gefunden (möglicherweise fehlt eine using-Direktive oder ein Assemblyverweis).\r\n(11,7): error CS0246: Der Typ- oder Namespacename \"BoSSS\" wurde nicht gefunden (möglicherweise fehlt eine using-Direktive oder ein Assemblyverweis).\r\n(12,7): error CS0246: Der Typ- oder Namespacename \"BoSSS\" wurde nicht gefunden (möglicherweise fehlt eine using-Direktive oder ein Assemblyverweis).\r\n(13,7): error CS0246: Der Typ- oder Namespacename \"BoSSS\" wurde nicht gefunden (möglicherweise fehlt eine using-Direktive oder ein Assemblyverweis).\r\n(14,7): error CS0246: Der Typ- oder Namespacename \"BoSSS\" wurde nicht gefunden (möglicherweise fehlt eine using-Direktive oder ein Assemblyverweis).\r\n(15,7): error CS0246: Der Typ- oder Namespacename \"BoSSS\" wurde nicht gefunden (möglicherweise fehlt eine using-Direktive oder ein Assemblyverweis).\r\n(16,7): error CS0246: Der Typ- oder Namespacename \"BoSSS\" wurde nicht gefunden (möglicherweise fehlt eine using-Direktive oder ein Assemblyverweis).\r\n(17,7): error CS0246: Der Typ- oder Namespacename \"BoSSS\" wurde nicht gefunden (möglicherweise fehlt eine using-Direktive oder ein Assemblyverweis).\r\n(18,7): error CS0246: Der Typ- oder Namespacename \"BoSSS\" wurde nicht gefunden (möglicherweise fehlt eine using-Direktive oder ein Assemblyverweis).\r\n(19,7): error CS0246: Der Typ- oder Namespacename \"BoSSS\" wurde nicht gefunden (möglicherweise fehlt eine using-Direktive oder ein Assemblyverweis).\r\n(20,14): error CS0246: Der Typ- oder Namespacename \"BoSSS\" wurde nicht gefunden (möglicherweise fehlt eine using-Direktive oder ein Assemblyverweis).\r\n(21,1): error CS0103: Der Name \"Init\" ist im aktuellen Kontext nicht vorhanden.",
     "traceback": [
      "(1,1): error CS0006: Metadatendatei \"BoSSSpad.dll\" wurde nicht gefunden.\r\n",
      "(5,7): error CS0246: Der Typ- oder Namespacename \"ilPSP\" wurde nicht gefunden (möglicherweise fehlt eine using-Direktive oder ein Assemblyverweis).\r\n",
      "(6,7): error CS0246: Der Typ- oder Namespacename \"ilPSP\" wurde nicht gefunden (möglicherweise fehlt eine using-Direktive oder ein Assemblyverweis).\r\n",
      "(7,7): error CS0246: Der Typ- oder Namespacename \"BoSSS\" wurde nicht gefunden (möglicherweise fehlt eine using-Direktive oder ein Assemblyverweis).\r\n",
      "(8,7): error CS0246: Der Typ- oder Namespacename \"BoSSS\" wurde nicht gefunden (möglicherweise fehlt eine using-Direktive oder ein Assemblyverweis).\r\n",
      "(9,7): error CS0246: Der Typ- oder Namespacename \"BoSSS\" wurde nicht gefunden (möglicherweise fehlt eine using-Direktive oder ein Assemblyverweis).\r\n",
      "(10,7): error CS0246: Der Typ- oder Namespacename \"BoSSS\" wurde nicht gefunden (möglicherweise fehlt eine using-Direktive oder ein Assemblyverweis).\r\n",
      "(11,7): error CS0246: Der Typ- oder Namespacename \"BoSSS\" wurde nicht gefunden (möglicherweise fehlt eine using-Direktive oder ein Assemblyverweis).\r\n",
      "(12,7): error CS0246: Der Typ- oder Namespacename \"BoSSS\" wurde nicht gefunden (möglicherweise fehlt eine using-Direktive oder ein Assemblyverweis).\r\n",
      "(13,7): error CS0246: Der Typ- oder Namespacename \"BoSSS\" wurde nicht gefunden (möglicherweise fehlt eine using-Direktive oder ein Assemblyverweis).\r\n",
      "(14,7): error CS0246: Der Typ- oder Namespacename \"BoSSS\" wurde nicht gefunden (möglicherweise fehlt eine using-Direktive oder ein Assemblyverweis).\r\n",
      "(15,7): error CS0246: Der Typ- oder Namespacename \"BoSSS\" wurde nicht gefunden (möglicherweise fehlt eine using-Direktive oder ein Assemblyverweis).\r\n",
      "(16,7): error CS0246: Der Typ- oder Namespacename \"BoSSS\" wurde nicht gefunden (möglicherweise fehlt eine using-Direktive oder ein Assemblyverweis).\r\n",
      "(17,7): error CS0246: Der Typ- oder Namespacename \"BoSSS\" wurde nicht gefunden (möglicherweise fehlt eine using-Direktive oder ein Assemblyverweis).\r\n",
      "(18,7): error CS0246: Der Typ- oder Namespacename \"BoSSS\" wurde nicht gefunden (möglicherweise fehlt eine using-Direktive oder ein Assemblyverweis).\r\n",
      "(19,7): error CS0246: Der Typ- oder Namespacename \"BoSSS\" wurde nicht gefunden (möglicherweise fehlt eine using-Direktive oder ein Assemblyverweis).\r\n",
      "(20,14): error CS0246: Der Typ- oder Namespacename \"BoSSS\" wurde nicht gefunden (möglicherweise fehlt eine using-Direktive oder ein Assemblyverweis).\r\n",
      "(21,1): error CS0103: Der Name \"Init\" ist im aktuellen Kontext nicht vorhanden."
     ]
    }
   ],
   "metadata": {
    "dotnet_interactive": {
     "language": "csharp"
    }
   }
  },
  {
   "cell_type": "markdown",
   "source": [
    " This tutorial demostrates the **definition**, resp. the **import** of \r\n",
    " data for **boundary and initial values**. \r\n",
    " \r\n",
    " In order to demonstrate the usage, \r\n",
    " we employ the exemplaric **Poisson solver**."
   ],
   "metadata": {}
  },
  {
   "cell_type": "code",
   "execution_count": null,
   "source": [
    "using BoSSS.Application.SipPoisson;"
   ],
   "outputs": [],
   "metadata": {
    "dotnet_interactive": {
     "language": "csharp"
    }
   }
  },
  {
   "cell_type": "markdown",
   "source": [
    "We use a **temporary database** for this tutorial:"
   ],
   "metadata": {}
  },
  {
   "cell_type": "code",
   "execution_count": null,
   "source": [
    "var tempDb = CreateTempDatabase();"
   ],
   "outputs": [
    {
     "output_type": "stream",
     "name": "stdout",
     "text": [
      "Creating database 'C:\\Users\\flori\\AppData\\Local\\Temp\\1745730561'.\r\n"
     ]
    }
   ],
   "metadata": {
    "dotnet_interactive": {
     "language": "csharp"
    }
   }
  },
  {
   "cell_type": "markdown",
   "source": [
    "We use the following helper function to create a **template for the multiple solver runs**."
   ],
   "metadata": {}
  },
  {
   "cell_type": "code",
   "execution_count": null,
   "source": [
    "Func<SipControl> PreDefinedControl = delegate() {\r\n",
    "    SipControl c = new SipControl();\r\n",
    " \r\n",
    "    c.SetDGdegree(2);\r\n",
    " \r\n",
    "    c.GridFunc = delegate() {\r\n",
    "        // define a grid of 10x10 cells\r\n",
    "        double[] nodes = GenericBlas.Linspace(-1, 1, 11);\r\n",
    "        var grd = Grid2D.Cartesian2DGrid(nodes, nodes);\r\n",
    " \r\n",
    "        // set the entire boundary to Dirichlet b.c.\r\n",
    "        grd.DefineEdgeTags(delegate (double[] X) {\r\n",
    "            return BoundaryType.Dirichlet.ToString();\r\n",
    "        });\r\n",
    " \r\n",
    "        return grd;\r\n",
    "    };\r\n",
    " \r\n",
    "    c.SetDatabase(tempDb);\r\n",
    "    c.savetodb = true; \r\n",
    " \r\n",
    "    return c;    \r\n",
    "};"
   ],
   "outputs": [
    {
     "output_type": "error",
     "ename": "Error",
     "evalue": "(1,6): error CS0246: Der Typ- oder Namespacename \"SipControl\" wurde nicht gefunden (möglicherweise fehlt eine using-Direktive oder ein Assemblyverweis).\r\n(2,5): error CS0246: Der Typ- oder Namespacename \"SipControl\" wurde nicht gefunden (möglicherweise fehlt eine using-Direktive oder ein Assemblyverweis).\r\n(2,24): error CS0246: Der Typ- oder Namespacename \"SipControl\" wurde nicht gefunden (möglicherweise fehlt eine using-Direktive oder ein Assemblyverweis).\r\n(19,19): error CS0103: Der Name \"tempDb\" ist im aktuellen Kontext nicht vorhanden.",
     "traceback": [
      "(1,6): error CS0246: Der Typ- oder Namespacename \"SipControl\" wurde nicht gefunden (möglicherweise fehlt eine using-Direktive oder ein Assemblyverweis).\r\n",
      "(2,5): error CS0246: Der Typ- oder Namespacename \"SipControl\" wurde nicht gefunden (möglicherweise fehlt eine using-Direktive oder ein Assemblyverweis).\r\n",
      "(2,24): error CS0246: Der Typ- oder Namespacename \"SipControl\" wurde nicht gefunden (möglicherweise fehlt eine using-Direktive oder ein Assemblyverweis).\r\n",
      "(19,19): error CS0103: Der Name \"tempDb\" ist im aktuellen Kontext nicht vorhanden."
     ]
    }
   ],
   "metadata": {
    "dotnet_interactive": {
     "language": "csharp"
    }
   }
  },
  {
   "cell_type": "markdown",
   "source": [
    "Again, we are using the **workflow management**"
   ],
   "metadata": {}
  },
  {
   "cell_type": "code",
   "execution_count": null,
   "source": [
    "BoSSSshell.WorkflowMgm.Init(\"Demo_BoundaryAndInitialData\");"
   ],
   "outputs": [
    {
     "output_type": "stream",
     "name": "stdout",
     "text": [
      "Project name is set to 'Demo_BoundaryAndInitialData'.\r\n"
     ]
    }
   ],
   "metadata": {
    "dotnet_interactive": {
     "language": "csharp"
    }
   }
  },
  {
   "cell_type": "markdown",
   "source": [
    "# **1. Textual and Embedded formulas**\r\n"
   ],
   "metadata": {}
  },
  {
   "cell_type": "code",
   "execution_count": null,
   "source": [
    "SipControl c1 = PreDefinedControl();"
   ],
   "outputs": [],
   "metadata": {
    "dotnet_interactive": {
     "language": "csharp"
    }
   }
  },
  {
   "cell_type": "markdown",
   "source": [
    "Provide **initial data** as a text:"
   ],
   "metadata": {}
  },
  {
   "cell_type": "code",
   "execution_count": null,
   "source": [
    "c1.AddInitialValue(\"RHS\",\"X => Math.Sin(X[0])*Math.Cos(X[1])\",\r\n",
    "                        TimeDependent:false);"
   ],
   "outputs": [],
   "metadata": {
    "dotnet_interactive": {
     "language": "csharp"
    }
   }
  },
  {
   "cell_type": "markdown",
   "source": [
    "Finally, all initial data is stored in the \r\n",
    "***AppControl.InitialVa*** dictionary and \r\n",
    "all boundary data is stored in the \r\n",
    "***AppControl.BoundaryValues*** dictionary.\r\n",
    " \r\n",
    "The common interface for all varinats to specify boundary\r\n",
    "and initial data is ***IBoundaryAndInitialData***.\r\n",
    "\r\n",
    "The snippet above is only a shortcut to add a ***Formula*** object,\r\n",
    "which implements the ***IBoundaryAndInitialData*** interface."
   ],
   "metadata": {}
  },
  {
   "cell_type": "code",
   "execution_count": null,
   "source": [
    "c1.InitialValues"
   ],
   "outputs": [
    {
     "output_type": "execute_result",
     "data": {
      "text/html": [
       "<table><thead><tr><th><i>key</i></th><th></th></tr></thead><tbody><tr><td><div class=\"dni-plaintext\">RHS</div></td><td><div class=\"dni-plaintext\">BoSSS.Solution.Control.Formula</div></td></tr></tbody></table>"
      ]
     },
     "metadata": {},
     "execution_count": 15
    }
   ],
   "metadata": {
    "dotnet_interactive": {
     "language": "csharp"
    }
   }
  },
  {
   "cell_type": "code",
   "execution_count": null,
   "source": [
    "c1.InitialValues[\"RHS\"]"
   ],
   "outputs": [
    {
     "output_type": "execute_result",
     "data": {
      "text/html": [
       "<div class=\"dni-plaintext\">BoSSS.Solution.Control.Formula</div>"
      ]
     },
     "metadata": {},
     "execution_count": 16
    }
   ],
   "metadata": {
    "dotnet_interactive": {
     "language": "csharp"
    }
   }
  },
  {
   "cell_type": "markdown",
   "source": [
    "In **BoSSSpad**, such objects can also be extracted from \r\n",
    "static methods of classes; note that these should not depend on any other\r\n",
    "object in the worksheet."
   ],
   "metadata": {}
  },
  {
   "cell_type": "code",
   "execution_count": null,
   "source": [
    "Formula BndyFormula = new Formula(\r\n",
    "    \"BndyValue.BndyFunction\",\r\n",
    "    false,\r\n",
    "\"static class BndyValue {\"+\r\n",
    "\"    public static double BndyFunction(double[] X) {\"+\r\n",
    "\"        return 1.0;\"+\r\n",
    "\"    }\"+\r\n",
    "\"}\");"
   ],
   "outputs": [],
   "metadata": {
    "dotnet_interactive": {
     "language": "csharp"
    }
   }
  },
  {
   "cell_type": "code",
   "execution_count": null,
   "source": [
    "c1.AddBoundaryValue(BoundaryType.Dirichlet.ToString(),\r\n",
    "                    \"T\",\r\n",
    "                    BndyFormula);"
   ],
   "outputs": [],
   "metadata": {
    "dotnet_interactive": {
     "language": "csharp"
    }
   }
  },
  {
   "cell_type": "markdown",
   "source": [
    "Creates a Job named **J1** and runs it"
   ],
   "metadata": {}
  },
  {
   "cell_type": "code",
   "execution_count": null,
   "source": [
    "var J1 = c1.RunBatch();"
   ],
   "outputs": [],
   "metadata": {
    "dotnet_interactive": {
     "language": "csharp"
    }
   }
  },
  {
   "cell_type": "markdown",
   "source": [
    "The next line prints the Status of the Job **J1**."
   ],
   "metadata": {}
  },
  {
   "cell_type": "code",
   "execution_count": null,
   "source": [
    "BoSSSshell.WorkflowMgm.BlockUntilAllJobsTerminate(10);"
   ],
   "outputs": [
    {
     "output_type": "error",
     "ename": "Error",
     "evalue": "(1,1): error CS0103: Der Name \"BoSSSshell\" ist im aktuellen Kontext nicht vorhanden.",
     "traceback": [
      "(1,1): error CS0103: Der Name \"BoSSSshell\" ist im aktuellen Kontext nicht vorhanden."
     ]
    }
   ],
   "metadata": {
    "dotnet_interactive": {
     "language": "csharp"
    }
   }
  },
  {
   "cell_type": "markdown",
   "source": [
    "We can print the Status of the Job **J1**."
   ],
   "metadata": {}
  },
  {
   "cell_type": "code",
   "execution_count": null,
   "source": [
    "J1.Status"
   ],
   "outputs": [],
   "metadata": {
    "dotnet_interactive": {
     "language": "csharp"
    }
   }
  },
  {
   "cell_type": "markdown",
   "source": [
    "We can also check via a method if the Job **J1** is truly finished"
   ],
   "metadata": {}
  },
  {
   "cell_type": "code",
   "execution_count": null,
   "source": [
    "\r\n",
    "NUnit.Framework.Assert.IsTrue(J1.Status == JobStatus.FinishedSuccessful);"
   ],
   "outputs": [],
   "metadata": {
    "dotnet_interactive": {
     "language": "csharp"
    }
   }
  },
  {
   "cell_type": "markdown",
   "source": [
    "# **2. 1D Splines**\r\n",
    "\r\n",
    "**Splines** can be used to interpolate nodal data onto a DG field;\r\n",
    "currently, only 1D is supported."
   ],
   "metadata": {}
  },
  {
   "cell_type": "code",
   "execution_count": null,
   "source": [
    "SipControl c2 = PreDefinedControl();"
   ],
   "outputs": [],
   "metadata": {
    "dotnet_interactive": {
     "language": "csharp"
    }
   }
  },
  {
   "cell_type": "code",
   "execution_count": null,
   "source": [
    "// create test data for the spline\r\n",
    "double[] xNodes = GenericBlas.Linspace(-2,2,13);\r\n",
    "double[] yNodes = xNodes.Select(x => x*0.4).ToArray();"
   ],
   "outputs": [],
   "metadata": {
    "dotnet_interactive": {
     "language": "csharp"
    }
   }
  },
  {
   "cell_type": "code",
   "execution_count": null,
   "source": [
    "var rhsSpline = new Spline1D(xNodes, yNodes,\r\n",
    "                             0,\r\n",
    "                             Spline1D.OutOfBoundsBehave.Extrapolate);"
   ],
   "outputs": [],
   "metadata": {
    "dotnet_interactive": {
     "language": "csharp"
    }
   }
  },
  {
   "cell_type": "code",
   "execution_count": null,
   "source": [],
   "outputs": [],
   "metadata": {
    "dotnet_interactive": {
     "language": "csharp"
    }
   }
  },
  {
   "cell_type": "code",
   "execution_count": null,
   "source": [
    "/// BoSSScmdSilent\r\n",
    "double err = 0;\r\n",
    "// test the spline: a line must be interpolated exactly.\r\n",
    "foreach(double xtst in GenericBlas.Linspace(-3,3,77)) { \r\n",
    "   double sVal = rhsSpline.Evaluate(new double[] {xtst , 0, 0 }, 0.0);\r\n",
    "   double rVal = xtst*0.4;\r\n",
    "   err += Math.Abs(sVal - rVal);\r\n",
    "}\r\n",
    "NUnit.Framework.Assert.Less(err, 1.0e-10, \"Slpine implementation fail.\");"
   ],
   "outputs": [],
   "metadata": {
    "dotnet_interactive": {
     "language": "csharp"
    }
   }
  },
  {
   "cell_type": "code",
   "execution_count": null,
   "source": [
    "c2.AddInitialValue(\"RHS\", rhsSpline);"
   ],
   "outputs": [],
   "metadata": {
    "dotnet_interactive": {
     "language": "csharp"
    }
   }
  },
  {
   "cell_type": "code",
   "execution_count": null,
   "source": [
    "var J2 = c2.RunBatch();"
   ],
   "outputs": [],
   "metadata": {
    "dotnet_interactive": {
     "language": "csharp"
    }
   }
  },
  {
   "cell_type": "code",
   "execution_count": null,
   "source": [
    "BoSSSshell.WorkflowMgm.BlockUntilAllJobsTerminate(10);"
   ],
   "outputs": [],
   "metadata": {
    "dotnet_interactive": {
     "language": "csharp"
    }
   }
  },
  {
   "cell_type": "code",
   "execution_count": null,
   "source": [
    "J2.Status"
   ],
   "outputs": [],
   "metadata": {
    "dotnet_interactive": {
     "language": "csharp"
    }
   }
  },
  {
   "cell_type": "code",
   "execution_count": null,
   "source": [
    "/// BoSSScmdSilent\r\n",
    "NUnit.Framework.Assert.IsTrue(J2.Status == JobStatus.FinishedSuccessful);"
   ],
   "outputs": [],
   "metadata": {
    "dotnet_interactive": {
     "language": "csharp"
    }
   }
  },
  {
   "cell_type": "markdown",
   "source": [
    "\r\n",
    "# **3. Interpolating values from other Calculations**\r\n",
    "\r\n",
    "For demonstrational purposes, we use the result (i.e. the last time-step) \r\n",
    "of a previous calculation as a right-hand-side for the next calculation."
   ],
   "metadata": {}
  },
  {
   "cell_type": "code",
   "execution_count": null,
   "source": [
    "var j2Sess = J2.LatestSession;"
   ],
   "outputs": [],
   "metadata": {
    "dotnet_interactive": {
     "language": "csharp"
    }
   }
  },
  {
   "cell_type": "code",
   "execution_count": null,
   "source": [
    "j2Sess"
   ],
   "outputs": [],
   "metadata": {
    "dotnet_interactive": {
     "language": "csharp"
    }
   }
  },
  {
   "cell_type": "code",
   "execution_count": null,
   "source": [
    "j2Sess.Timesteps"
   ],
   "outputs": [],
   "metadata": {
    "dotnet_interactive": {
     "language": "csharp"
    }
   }
  },
  {
   "cell_type": "code",
   "execution_count": null,
   "source": [
    "var lastTimeStep = j2Sess.Timesteps.Last();"
   ],
   "outputs": [],
   "metadata": {
    "dotnet_interactive": {
     "language": "csharp"
    }
   }
  },
  {
   "cell_type": "markdown",
   "source": [
    "We encapsulate the value **T** in the **ForeignGridValue** object,\r\n",
    "which allows interpolation between different meshes:"
   ],
   "metadata": {}
  },
  {
   "cell_type": "code",
   "execution_count": null,
   "source": [
    "var newForeignMesh = new ForeignGridValue(lastTimeStep,\"T\");"
   ],
   "outputs": [],
   "metadata": {
    "dotnet_interactive": {
     "language": "csharp"
    }
   }
  },
  {
   "cell_type": "code",
   "execution_count": null,
   "source": [
    "/// Use different mesh in the control file:\r\n",
    "SipControl c3 = PreDefinedControl();"
   ],
   "outputs": [],
   "metadata": {
    "dotnet_interactive": {
     "language": "csharp"
    }
   }
  },
  {
   "cell_type": "code",
   "execution_count": null,
   "source": [
    "c3.GridFunc = delegate() {\r\n",
    "   // define a grid of *triangle* cells\r\n",
    "   double[] nodes = GenericBlas.Linspace(-1, 1, 11);\r\n",
    "   var grd = Grid2D.UnstructuredTriangleGrid(nodes, nodes);\r\n",
    " \r\n",
    "   // set the entire boundary to Dirichlet b.c.\r\n",
    "   grd.DefineEdgeTags(delegate (double[] X) {\r\n",
    "       return BoundaryType.Dirichlet.ToString();\r\n",
    "   });\r\n",
    " \r\n",
    "   return grd;\r\n",
    "};\r\n",
    "// we also save the RHS in the database\r\n",
    "c3.AddFieldOption(\"RHS\", SaveOpt: FieldOpts.SaveToDBOpt.TRUE);"
   ],
   "outputs": [],
   "metadata": {
    "dotnet_interactive": {
     "language": "csharp"
    }
   }
  },
  {
   "cell_type": "code",
   "execution_count": null,
   "source": [
    "/// finally, we define the RHS:\r\n",
    "c3.AddInitialValue(\"RHS\", newForeignMesh);"
   ],
   "outputs": [],
   "metadata": {
    "dotnet_interactive": {
     "language": "csharp"
    }
   }
  },
  {
   "cell_type": "code",
   "execution_count": null,
   "source": [
    "/// BoSSScmdSilent\r\n",
    "double orgProbe = newForeignMesh.Evaluate(new double[] {0.5,0.5}, 0.0);\r\n",
    "double newProbe = lastTimeStep.GetField(\"T\").ProbeAt(new double[] {0.5,0.5});\r\n",
    "NUnit.Framework.Assert.Less(Math.Abs(orgProbe - newProbe), 1.0e-10, \"Check (1) on ForeignGridValue failed\");"
   ],
   "outputs": [],
   "metadata": {
    "dotnet_interactive": {
     "language": "csharp"
    }
   }
  },
  {
   "cell_type": "code",
   "execution_count": null,
   "source": [
    "var J3 = c3.RunBatch();"
   ],
   "outputs": [],
   "metadata": {
    "dotnet_interactive": {
     "language": "csharp"
    }
   }
  },
  {
   "cell_type": "code",
   "execution_count": null,
   "source": [
    "BoSSSshell.WorkflowMgm.BlockUntilAllJobsTerminate(10);"
   ],
   "outputs": [],
   "metadata": {
    "dotnet_interactive": {
     "language": "csharp"
    }
   }
  },
  {
   "cell_type": "code",
   "execution_count": null,
   "source": [
    "J3.Status"
   ],
   "outputs": [],
   "metadata": {
    "dotnet_interactive": {
     "language": "csharp"
    }
   }
  },
  {
   "cell_type": "code",
   "execution_count": null,
   "source": [
    "/// BoSSScmdSilent\r\n",
    "NUnit.Framework.Assert.IsTrue(J3.Status == JobStatus.FinishedSuccessful);"
   ],
   "outputs": [],
   "metadata": {
    "dotnet_interactive": {
     "language": "csharp"
    }
   }
  },
  {
   "cell_type": "markdown",
   "source": [
    "Since the quadrilateral mesh used for the original\r\n",
    "right-hand-side is geometrically embedded in the triangular mesh \r\n",
    "the **interpolation error should be zero** (up to machine precision)."
   ],
   "metadata": {}
  },
  {
   "cell_type": "code",
   "execution_count": null,
   "source": [
    "var firstTimeStep = J3.LatestSession.Timesteps.First();"
   ],
   "outputs": [],
   "metadata": {
    "dotnet_interactive": {
     "language": "csharp"
    }
   }
  },
  {
   "cell_type": "code",
   "execution_count": null,
   "source": [
    "DGField RhsOnTriangles = firstTimeStep.GetField(\"rhs\"); // case-insensitive!\r\n",
    "DGField RhsOriginal    = lastTimeStep.GetField(\"T\");"
   ],
   "outputs": [],
   "metadata": {
    "dotnet_interactive": {
     "language": "csharp"
    }
   }
  },
  {
   "cell_type": "code",
   "execution_count": null,
   "source": [
    "// note: we have to cast DGField to ConventionalDGField in order to use\r\n",
    "// the 'L2Distance' function:\r\n",
    "((ConventionalDGField)RhsOnTriangles).L2Distance((ConventionalDGField)RhsOriginal)"
   ],
   "outputs": [],
   "metadata": {
    "dotnet_interactive": {
     "language": "csharp"
    }
   }
  },
  {
   "cell_type": "code",
   "execution_count": null,
   "source": [
    "/// BoSSScmdSilent\r\n",
    "var H1err = ((ConventionalDGField)RhsOnTriangles).H1Distance((ConventionalDGField)RhsOriginal);\r\n",
    "NUnit.Framework.Assert.Less(H1err, 1.0e-10, \"Check (2) on ForeignGridValue failed.\");"
   ],
   "outputs": [],
   "metadata": {
    "dotnet_interactive": {
     "language": "csharp"
    }
   }
  },
  {
   "cell_type": "markdown",
   "source": [
    "# **4. Restart from Dummy-Sessions**\r\n",
    "\r\n",
    "Dummy sessions are kind of fake siolver runs, with the only purpose \r\n",
    "of using them for a restart."
   ],
   "metadata": {}
  },
  {
   "cell_type": "code",
   "execution_count": null,
   "source": [
    "DGField RHSforRestart = firstTimeStep.GetField(\"RHS\");"
   ],
   "outputs": [],
   "metadata": {
    "dotnet_interactive": {
     "language": "csharp"
    }
   }
  },
  {
   "cell_type": "markdown",
   "source": [
    "We save the DG field ***RHSforRestart*** in the database;\r\n",
    "This automatically creates a timestep and a session which host the DG field:"
   ],
   "metadata": {}
  },
  {
   "cell_type": "code",
   "execution_count": null,
   "source": [
    "var RestartTimestep = tempDb.SaveTimestep(RHSforRestart);"
   ],
   "outputs": [],
   "metadata": {
    "dotnet_interactive": {
     "language": "csharp"
    }
   }
  },
  {
   "cell_type": "code",
   "execution_count": null,
   "source": [
    "RestartTimestep"
   ],
   "outputs": [],
   "metadata": {
    "dotnet_interactive": {
     "language": "csharp"
    }
   }
  },
  {
   "cell_type": "code",
   "execution_count": null,
   "source": [
    "RestartTimestep.Session"
   ],
   "outputs": [],
   "metadata": {
    "dotnet_interactive": {
     "language": "csharp"
    }
   }
  },
  {
   "cell_type": "markdown",
   "source": [
    "This time step can be used as a restart value.:"
   ],
   "metadata": {}
  },
  {
   "cell_type": "code",
   "execution_count": null,
   "source": [
    "var c4 = PreDefinedControl();"
   ],
   "outputs": [],
   "metadata": {
    "dotnet_interactive": {
     "language": "csharp"
    }
   }
  },
  {
   "cell_type": "code",
   "execution_count": null,
   "source": [
    "c4.InitialValues.Clear();\r\n",
    "c4.SetRestart(RestartTimestep);"
   ],
   "outputs": [],
   "metadata": {
    "dotnet_interactive": {
     "language": "csharp"
    }
   }
  },
  {
   "cell_type": "code",
   "execution_count": null,
   "source": [
    "var J4 = c4.RunBatch();"
   ],
   "outputs": [],
   "metadata": {
    "dotnet_interactive": {
     "language": "csharp"
    }
   }
  },
  {
   "cell_type": "code",
   "execution_count": null,
   "source": [
    "BoSSSshell.WorkflowMgm.BlockUntilAllJobsTerminate(3600*4);"
   ],
   "outputs": [],
   "metadata": {
    "dotnet_interactive": {
     "language": "csharp"
    }
   }
  },
  {
   "cell_type": "code",
   "execution_count": null,
   "source": [
    "J4.Status"
   ],
   "outputs": [],
   "metadata": {
    "dotnet_interactive": {
     "language": "csharp"
    }
   }
  },
  {
   "cell_type": "code",
   "execution_count": null,
   "source": [
    "/// BoSSScmdSilent\r\n",
    "NUnit.Framework.Assert.IsTrue(J4.Status == JobStatus.FinishedSuccessful);"
   ],
   "outputs": [],
   "metadata": {
    "dotnet_interactive": {
     "language": "csharp"
    }
   }
  },
  {
   "cell_type": "markdown",
   "source": [
    "# Note\r\n",
    "\r\n",
    "Since no mesh interpolation is performed for the restart, it is much faster\r\n",
    "than **ForeignGridValue**, but less flexible \r\n",
    "(a restart is always performed on the same mesh).\r\n",
    "\r\n",
    "To avoid multiple mesh interpolations (e.g. when multiple runs are required)\r\n",
    "one coudl therefore speed up the process by doing the \r\n",
    "mesh interpolation once ***use ProjectFromForeignGrid*** in BoSSSpad and\r\n",
    "save the interpolation in a dummy session."
   ],
   "metadata": {}
  }
 ],
 "metadata": {
  "kernelspec": {
   "display_name": ".NET (C#)",
   "language": "C#",
   "name": ".net-csharp"
  },
  "language_info": {
   "file_extension": ".cs",
   "mimetype": "text/x-csharp",
   "name": "C#",
   "pygments_lexer": "csharp",
   "version": "8.0"
  }
 },
 "nbformat": 4,
 "nbformat_minor": 4
}