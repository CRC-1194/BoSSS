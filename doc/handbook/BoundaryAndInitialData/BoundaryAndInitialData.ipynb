{
  "cells": [
    {
      "cell_type": "code",
      "execution_count": 1,
      "metadata": {
        "dotnet_interactive": {
          "language": "csharp"
        }
      },
      "source": [
        "#r \"BoSSSpad.dll\"\n",
        "using System;\n",
        "using System.Collections.Generic;\n",
        "using System.Linq;\n",
        "using ilPSP;\n",
        "using ilPSP.Utils;\n",
        "using BoSSS.Platform;\n",
        "using BoSSS.Foundation;\n",
        "using BoSSS.Foundation.Grid;\n",
        "using BoSSS.Foundation.Grid.Classic;\n",
        "using BoSSS.Foundation.IO;\n",
        "using BoSSS.Solution;\n",
        "using BoSSS.Solution.Control;\n",
        "using BoSSS.Solution.GridImport;\n",
        "using BoSSS.Solution.Statistic;\n",
        "using BoSSS.Solution.Utils;\n",
        "using BoSSS.Solution.Gnuplot;\n",
        "using BoSSS.Application.BoSSSpad;\n",
        "using BoSSS.Application.XNSE_Solver;\n",
        "using static BoSSS.Application.BoSSSpad.BoSSSshell;\n",
        "Init();\n",
        ""
      ],
      "outputs": []
    },
    {
      "cell_type": "code",
      "execution_count": 1,
      "metadata": {
        "dotnet_interactive": {
          "language": "csharp"
        }
      },
      "source": [
        "/// This tutorial demostrates the definition, resp. the import of \n",
        "/// data for boundary and initial values. \n",
        "/// In order to demonstrate the usage, \n",
        "/// we employ the exemplaric Poisson solver."
      ],
      "outputs": []
    },
    {
      "cell_type": "code",
      "execution_count": 1,
      "metadata": {
        "dotnet_interactive": {
          "language": "csharp"
        }
      },
      "source": [
        "using BoSSS.Application.SipPoisson;"
      ],
      "outputs": []
    },
    {
      "cell_type": "code",
      "execution_count": 1,
      "metadata": {
        "dotnet_interactive": {
          "language": "csharp"
        }
      },
      "source": [
        "/// We use a temporary database for this tutorial:"
      ],
      "outputs": []
    },
    {
      "cell_type": "code",
      "execution_count": 1,
      "metadata": {
        "dotnet_interactive": {
          "language": "csharp"
        }
      },
      "source": [
        "var tempDb = CreateTempDatabase();"
      ],
      "outputs": []
    },
    {
      "cell_type": "code",
      "execution_count": 1,
      "metadata": {
        "dotnet_interactive": {
          "language": "csharp"
        }
      },
      "source": [
        "/// We use the following helper function to create a template for \n",
        "/// the multiple solver runs."
      ],
      "outputs": []
    },
    {
      "cell_type": "code",
      "execution_count": 1,
      "metadata": {
        "dotnet_interactive": {
          "language": "csharp"
        }
      },
      "source": [
        "Func<SipControl> PreDefinedControl = delegate() {\n",
        "    SipControl c = new SipControl();\n",
        " \n",
        "    c.SetDGdegree(2);\n",
        " \n",
        "    c.GridFunc = delegate() {\n",
        "        // define a grid of 10x10 cells\n",
        "        double[] nodes = GenericBlas.Linspace(-1, 1, 11);\n",
        "        var grd = Grid2D.Cartesian2DGrid(nodes, nodes);\n",
        " \n",
        "        // set the entire boundary to Dirichlet b.c.\n",
        "        grd.DefineEdgeTags(delegate (double[] X) {\n",
        "            return BoundaryType.Dirichlet.ToString();\n",
        "        });\n",
        " \n",
        "        return grd;\n",
        "    };\n",
        " \n",
        "    c.SetDatabase(tempDb);\n",
        "    c.savetodb = true; \n",
        " \n",
        "    return c;    \n",
        "};"
      ],
      "outputs": []
    },
    {
      "cell_type": "code",
      "execution_count": 1,
      "metadata": {
        "dotnet_interactive": {
          "language": "csharp"
        }
      },
      "source": [
        "/// Again, we are using the workflow management"
      ],
      "outputs": []
    },
    {
      "cell_type": "code",
      "execution_count": 1,
      "metadata": {
        "dotnet_interactive": {
          "language": "csharp"
        }
      },
      "source": [
        "BoSSSshell.WorkflowMgm.Init(\"Demo_BoundaryAndInitialData\");"
      ],
      "outputs": []
    },
    {
      "cell_type": "code",
      "execution_count": 1,
      "metadata": {
        "dotnet_interactive": {
          "language": "csharp"
        }
      },
      "source": [
        "/// % ======================================\n",
        "/// \\section{Textual and Embedded formulas}\n",
        "/// % ======================================"
      ],
      "outputs": []
    },
    {
      "cell_type": "code",
      "execution_count": 1,
      "metadata": {
        "dotnet_interactive": {
          "language": "csharp"
        }
      },
      "source": [
        ""
      ],
      "outputs": []
    },
    {
      "cell_type": "code",
      "execution_count": 1,
      "metadata": {
        "dotnet_interactive": {
          "language": "csharp"
        }
      },
      "source": [
        "SipControl c1 = PreDefinedControl();"
      ],
      "outputs": []
    },
    {
      "cell_type": "code",
      "execution_count": 1,
      "metadata": {
        "dotnet_interactive": {
          "language": "csharp"
        }
      },
      "source": [
        "/// Provide initial data as a text:"
      ],
      "outputs": []
    },
    {
      "cell_type": "code",
      "execution_count": 1,
      "metadata": {
        "dotnet_interactive": {
          "language": "csharp"
        }
      },
      "source": [
        "c1.AddInitialValue(\"RHS\",\"X => Math.Sin(X[0])*Math.Cos(X[1])\",\n",
        "                        TimeDependent:false);"
      ],
      "outputs": []
    },
    {
      "cell_type": "code",
      "execution_count": 1,
      "metadata": {
        "dotnet_interactive": {
          "language": "csharp"
        }
      },
      "source": [
        "/// Finally, all initial data is stored in the \n",
        "/// \\code{AppControl.InitialValues} dictionary and \n",
        "/// all boundary data is stored in the \n",
        "/// \\code{AppControl.BoundaryValues} dictionary.\n",
        " \n",
        "/// The common interface for all varinats to specify boundary\n",
        "/// and initial data is \\code{IBoundaryAndInitialData}.\n",
        "/// The snippet above is only a shortcut to add a \\code{Formula} object,\n",
        "/// which implements the \\code{IBoundaryAndInitialData} interface."
      ],
      "outputs": []
    },
    {
      "cell_type": "code",
      "execution_count": 1,
      "metadata": {
        "dotnet_interactive": {
          "language": "csharp"
        }
      },
      "source": [
        "c1.InitialValues"
      ],
      "outputs": []
    },
    {
      "cell_type": "code",
      "execution_count": 1,
      "metadata": {
        "dotnet_interactive": {
          "language": "csharp"
        }
      },
      "source": [
        "c1.InitialValues[\"RHS\"]"
      ],
      "outputs": []
    },
    {
      "cell_type": "code",
      "execution_count": 1,
      "metadata": {
        "dotnet_interactive": {
          "language": "csharp"
        }
      },
      "source": [
        "/// In \\BoSSSpad, such objects can also be extracted from \n",
        "/// static methods of classes; note that these should not depend on any other\n",
        "/// object in the worksheet."
      ],
      "outputs": []
    },
    {
      "cell_type": "code",
      "execution_count": 1,
      "metadata": {
        "dotnet_interactive": {
          "language": "csharp"
        }
      },
      "source": [
        "Formula BndyFormula = new Formula(\n",
        "    \"BndyValue.BndyFunction\",\n",
        "    false,\n",
        "\"static class BndyValue {\"+\n",
        "\"    public static double BndyFunction(double[] X) {\"+\n",
        "\"        return 1.0;\"+\n",
        "\"    }\"+\n",
        "\"}\");"
      ],
      "outputs": []
    },
    {
      "cell_type": "code",
      "execution_count": 1,
      "metadata": {
        "dotnet_interactive": {
          "language": "csharp"
        }
      },
      "source": [
        "c1.AddBoundaryValue(BoundaryType.Dirichlet.ToString(),\n",
        "                    \"T\",\n",
        "                    BndyFormula);"
      ],
      "outputs": []
    },
    {
      "cell_type": "code",
      "execution_count": 1,
      "metadata": {
        "dotnet_interactive": {
          "language": "csharp"
        }
      },
      "source": [
        ""
      ],
      "outputs": []
    },
    {
      "cell_type": "code",
      "execution_count": 1,
      "metadata": {
        "dotnet_interactive": {
          "language": "csharp"
        }
      },
      "source": [
        "var J1 = c1.RunBatch();"
      ],
      "outputs": []
    },
    {
      "cell_type": "code",
      "execution_count": 1,
      "metadata": {
        "dotnet_interactive": {
          "language": "csharp"
        }
      },
      "source": [
        "BoSSSshell.WorkflowMgm.BlockUntilAllJobsTerminate(3600*4);"
      ],
      "outputs": []
    },
    {
      "cell_type": "code",
      "execution_count": 1,
      "metadata": {
        "dotnet_interactive": {
          "language": "csharp"
        }
      },
      "source": [
        "/// What happened to the job?\n",
        "J1.Status"
      ],
      "outputs": []
    },
    {
      "cell_type": "code",
      "execution_count": 1,
      "metadata": {
        "dotnet_interactive": {
          "language": "csharp"
        }
      },
      "source": [
        "/// BoSSScmdSilent\n",
        "NUnit.Framework.Assert.IsTrue(J1.Status == JobStatus.FinishedSuccessful);"
      ],
      "outputs": []
    },
    {
      "cell_type": "code",
      "execution_count": 1,
      "metadata": {
        "dotnet_interactive": {
          "language": "csharp"
        }
      },
      "source": [
        "/// % ==================\n",
        "/// \\section{1D Splines}\n",
        "/// % =================="
      ],
      "outputs": []
    },
    {
      "cell_type": "code",
      "execution_count": 1,
      "metadata": {
        "dotnet_interactive": {
          "language": "csharp"
        }
      },
      "source": [
        "/// Splines can be used to interpolate nodal data onto a DG field;\n",
        "/// currently, only 1D is supported."
      ],
      "outputs": []
    },
    {
      "cell_type": "code",
      "execution_count": 1,
      "metadata": {
        "dotnet_interactive": {
          "language": "csharp"
        }
      },
      "source": [
        "SipControl c2 = PreDefinedControl();"
      ],
      "outputs": []
    },
    {
      "cell_type": "code",
      "execution_count": 1,
      "metadata": {
        "dotnet_interactive": {
          "language": "csharp"
        }
      },
      "source": [
        "// create test data for the spline\n",
        "double[] xNodes = GenericBlas.Linspace(-2,2,13);\n",
        "double[] yNodes = xNodes.Select(x => x*0.4).ToArray();"
      ],
      "outputs": []
    },
    {
      "cell_type": "code",
      "execution_count": 1,
      "metadata": {
        "dotnet_interactive": {
          "language": "csharp"
        }
      },
      "source": [
        "var rhsSpline = new Spline1D(xNodes, yNodes,\n",
        "                             0,\n",
        "                             Spline1D.OutOfBoundsBehave.Extrapolate);"
      ],
      "outputs": []
    },
    {
      "cell_type": "code",
      "execution_count": 1,
      "metadata": {
        "dotnet_interactive": {
          "language": "csharp"
        }
      },
      "source": [
        ""
      ],
      "outputs": []
    },
    {
      "cell_type": "code",
      "execution_count": 1,
      "metadata": {
        "dotnet_interactive": {
          "language": "csharp"
        }
      },
      "source": [
        "/// BoSSScmdSilent\n",
        "double err = 0;\n",
        "// test the spline: a line must be interpolated exactly.\n",
        "foreach(double xtst in GenericBlas.Linspace(-3,3,77)) { \n",
        "   double sVal = rhsSpline.Evaluate(new double[] {xtst , 0, 0 }, 0.0);\n",
        "   double rVal = xtst*0.4;\n",
        "   err += Math.Abs(sVal - rVal);\n",
        "}\n",
        "NUnit.Framework.Assert.Less(err, 1.0e-10, \"Slpine implementation fail.\");"
      ],
      "outputs": []
    },
    {
      "cell_type": "code",
      "execution_count": 1,
      "metadata": {
        "dotnet_interactive": {
          "language": "csharp"
        }
      },
      "source": [
        ""
      ],
      "outputs": []
    },
    {
      "cell_type": "code",
      "execution_count": 1,
      "metadata": {
        "dotnet_interactive": {
          "language": "csharp"
        }
      },
      "source": [
        "c2.AddInitialValue(\"RHS\", rhsSpline);"
      ],
      "outputs": []
    },
    {
      "cell_type": "code",
      "execution_count": 1,
      "metadata": {
        "dotnet_interactive": {
          "language": "csharp"
        }
      },
      "source": [
        "var J2 = c2.RunBatch();"
      ],
      "outputs": []
    },
    {
      "cell_type": "code",
      "execution_count": 1,
      "metadata": {
        "dotnet_interactive": {
          "language": "csharp"
        }
      },
      "source": [
        "BoSSSshell.WorkflowMgm.BlockUntilAllJobsTerminate(3600*4);"
      ],
      "outputs": []
    },
    {
      "cell_type": "code",
      "execution_count": 1,
      "metadata": {
        "dotnet_interactive": {
          "language": "csharp"
        }
      },
      "source": [
        "J2.Status"
      ],
      "outputs": []
    },
    {
      "cell_type": "code",
      "execution_count": 1,
      "metadata": {
        "dotnet_interactive": {
          "language": "csharp"
        }
      },
      "source": [
        "/// BoSSScmdSilent\n",
        "NUnit.Framework.Assert.IsTrue(J2.Status == JobStatus.FinishedSuccessful);"
      ],
      "outputs": []
    },
    {
      "cell_type": "code",
      "execution_count": 1,
      "metadata": {
        "dotnet_interactive": {
          "language": "csharp"
        }
      },
      "source": [
        ""
      ],
      "outputs": []
    },
    {
      "cell_type": "code",
      "execution_count": 1,
      "metadata": {
        "dotnet_interactive": {
          "language": "csharp"
        }
      },
      "source": [
        "/// % =====================================================\n",
        "/// \\section{Interpolating values from other Calculations}\n",
        "/// % ====================================================="
      ],
      "outputs": []
    },
    {
      "cell_type": "code",
      "execution_count": 1,
      "metadata": {
        "dotnet_interactive": {
          "language": "csharp"
        }
      },
      "source": [
        "/// For demonstrational purposes, we use the result (i.e. the last time-step) \n",
        "/// of a previous calculation as a right-hand-side for the next calculation."
      ],
      "outputs": []
    },
    {
      "cell_type": "code",
      "execution_count": 1,
      "metadata": {
        "dotnet_interactive": {
          "language": "csharp"
        }
      },
      "source": [
        "var j2Sess = J2.LatestSession;"
      ],
      "outputs": []
    },
    {
      "cell_type": "code",
      "execution_count": 1,
      "metadata": {
        "dotnet_interactive": {
          "language": "csharp"
        }
      },
      "source": [
        "j2Sess"
      ],
      "outputs": []
    },
    {
      "cell_type": "code",
      "execution_count": 1,
      "metadata": {
        "dotnet_interactive": {
          "language": "csharp"
        }
      },
      "source": [
        "j2Sess.Timesteps"
      ],
      "outputs": []
    },
    {
      "cell_type": "code",
      "execution_count": 1,
      "metadata": {
        "dotnet_interactive": {
          "language": "csharp"
        }
      },
      "source": [
        "var lastTimeStep = j2Sess.Timesteps.Last();"
      ],
      "outputs": []
    },
    {
      "cell_type": "code",
      "execution_count": 1,
      "metadata": {
        "dotnet_interactive": {
          "language": "csharp"
        }
      },
      "source": [
        "/// We encapsulate the value T in the \\code{ForeignGridValue} object,\n",
        "/// which allows interpolation between different meshes:"
      ],
      "outputs": []
    },
    {
      "cell_type": "code",
      "execution_count": 1,
      "metadata": {
        "dotnet_interactive": {
          "language": "csharp"
        }
      },
      "source": [
        "var newForeignMesh = new ForeignGridValue(lastTimeStep,\"T\");"
      ],
      "outputs": []
    },
    {
      "cell_type": "code",
      "execution_count": 1,
      "metadata": {
        "dotnet_interactive": {
          "language": "csharp"
        }
      },
      "source": [
        "/// Use different mesh in the control file:"
      ],
      "outputs": []
    },
    {
      "cell_type": "code",
      "execution_count": 1,
      "metadata": {
        "dotnet_interactive": {
          "language": "csharp"
        }
      },
      "source": [
        "SipControl c3 = PreDefinedControl();"
      ],
      "outputs": []
    },
    {
      "cell_type": "code",
      "execution_count": 1,
      "metadata": {
        "dotnet_interactive": {
          "language": "csharp"
        }
      },
      "source": [
        "c3.GridFunc = delegate() {\n",
        "   // define a grid of *triangle* cells\n",
        "   double[] nodes = GenericBlas.Linspace(-1, 1, 11);\n",
        "   var grd = Grid2D.UnstructuredTriangleGrid(nodes, nodes);\n",
        " \n",
        "   // set the entire boundary to Dirichlet b.c.\n",
        "   grd.DefineEdgeTags(delegate (double[] X) {\n",
        "       return BoundaryType.Dirichlet.ToString();\n",
        "   });\n",
        " \n",
        "   return grd;\n",
        "};\n",
        "// we also save the RHS in the database\n",
        "c3.AddFieldOption(\"RHS\", SaveOpt: FieldOpts.SaveToDBOpt.TRUE);"
      ],
      "outputs": []
    },
    {
      "cell_type": "code",
      "execution_count": 1,
      "metadata": {
        "dotnet_interactive": {
          "language": "csharp"
        }
      },
      "source": [
        "/// finally, we define the RHS:"
      ],
      "outputs": []
    },
    {
      "cell_type": "code",
      "execution_count": 1,
      "metadata": {
        "dotnet_interactive": {
          "language": "csharp"
        }
      },
      "source": [
        "c3.AddInitialValue(\"RHS\", newForeignMesh);"
      ],
      "outputs": []
    },
    {
      "cell_type": "code",
      "execution_count": 1,
      "metadata": {
        "dotnet_interactive": {
          "language": "csharp"
        }
      },
      "source": [
        "/// BoSSScmdSilent\n",
        "double orgProbe = newForeignMesh.Evaluate(new double[] {0.5,0.5}, 0.0);\n",
        "double newProbe = lastTimeStep.GetField(\"T\").ProbeAt(new double[] {0.5,0.5});\n",
        "NUnit.Framework.Assert.Less(Math.Abs(orgProbe - newProbe), 1.0e-10, \"Check (1) on ForeignGridValue failed\");"
      ],
      "outputs": []
    },
    {
      "cell_type": "code",
      "execution_count": 1,
      "metadata": {
        "dotnet_interactive": {
          "language": "csharp"
        }
      },
      "source": [
        "var J3 = c3.RunBatch();"
      ],
      "outputs": []
    },
    {
      "cell_type": "code",
      "execution_count": 1,
      "metadata": {
        "dotnet_interactive": {
          "language": "csharp"
        }
      },
      "source": [
        "BoSSSshell.WorkflowMgm.BlockUntilAllJobsTerminate(3600*4);"
      ],
      "outputs": []
    },
    {
      "cell_type": "code",
      "execution_count": 1,
      "metadata": {
        "dotnet_interactive": {
          "language": "csharp"
        }
      },
      "source": [
        "J3.Status"
      ],
      "outputs": []
    },
    {
      "cell_type": "code",
      "execution_count": 1,
      "metadata": {
        "dotnet_interactive": {
          "language": "csharp"
        }
      },
      "source": [
        "/// BoSSScmdSilent\n",
        "NUnit.Framework.Assert.IsTrue(J3.Status == JobStatus.FinishedSuccessful);"
      ],
      "outputs": []
    },
    {
      "cell_type": "code",
      "execution_count": 1,
      "metadata": {
        "dotnet_interactive": {
          "language": "csharp"
        }
      },
      "source": [
        "/// \\paragraph{Side Note:} Since the quadrilateral mesh used for the original\n",
        "/// right-hand-side is geometrically embedded in the triangular mesh \n",
        "/// the interpolation error should be zero (up to machine precision)."
      ],
      "outputs": []
    },
    {
      "cell_type": "code",
      "execution_count": 1,
      "metadata": {
        "dotnet_interactive": {
          "language": "csharp"
        }
      },
      "source": [
        "var firstTimeStep = J3.LatestSession.Timesteps.First();"
      ],
      "outputs": []
    },
    {
      "cell_type": "code",
      "execution_count": 1,
      "metadata": {
        "dotnet_interactive": {
          "language": "csharp"
        }
      },
      "source": [
        "DGField RhsOnTriangles = firstTimeStep.GetField(\"rhs\"); // case-insensitive!\n",
        "DGField RhsOriginal    = lastTimeStep.GetField(\"T\");"
      ],
      "outputs": []
    },
    {
      "cell_type": "code",
      "execution_count": 1,
      "metadata": {
        "dotnet_interactive": {
          "language": "csharp"
        }
      },
      "source": [
        "// note: we have to cast DGField to ConventionalDGField in order to use\n",
        "// the 'L2Distance' function:\n",
        "((ConventionalDGField)RhsOnTriangles).L2Distance((ConventionalDGField)RhsOriginal);"
      ],
      "outputs": []
    },
    {
      "cell_type": "code",
      "execution_count": 1,
      "metadata": {
        "dotnet_interactive": {
          "language": "csharp"
        }
      },
      "source": [
        "/// BoSSScmdSilent\n",
        "var H1err = ((ConventionalDGField)RhsOnTriangles).H1Distance((ConventionalDGField)RhsOriginal);\n",
        "NUnit.Framework.Assert.Less(H1err, 1.0e-10, \"Check (2) on ForeignGridValue failed.\");"
      ],
      "outputs": []
    },
    {
      "cell_type": "code",
      "execution_count": 1,
      "metadata": {
        "dotnet_interactive": {
          "language": "csharp"
        }
      },
      "source": [
        "/// % ===================================\n",
        "/// \\section{Restart from Dummy-Sessions}\n",
        "/// % ==================================="
      ],
      "outputs": []
    },
    {
      "cell_type": "code",
      "execution_count": 1,
      "metadata": {
        "dotnet_interactive": {
          "language": "csharp"
        }
      },
      "source": [
        "/// Dummy sessions are kind of fake siolver runs, with the only purpose \n",
        "/// of using them for a restart."
      ],
      "outputs": []
    },
    {
      "cell_type": "code",
      "execution_count": 1,
      "metadata": {
        "dotnet_interactive": {
          "language": "csharp"
        }
      },
      "source": [
        "DGField RHSforRestart = firstTimeStep.GetField(\"RHS\");"
      ],
      "outputs": []
    },
    {
      "cell_type": "code",
      "execution_count": 1,
      "metadata": {
        "dotnet_interactive": {
          "language": "csharp"
        }
      },
      "source": [
        "/// We save the DG field \\code{RHSforRestart} in the database;\n",
        "/// This automatically creates a timestep and a session which host the DG field:"
      ],
      "outputs": []
    },
    {
      "cell_type": "code",
      "execution_count": 1,
      "metadata": {
        "dotnet_interactive": {
          "language": "csharp"
        }
      },
      "source": [
        "var RestartTimestep = tempDb.SaveTimestep(RHSforRestart);"
      ],
      "outputs": []
    },
    {
      "cell_type": "code",
      "execution_count": 1,
      "metadata": {
        "dotnet_interactive": {
          "language": "csharp"
        }
      },
      "source": [
        "RestartTimestep"
      ],
      "outputs": []
    },
    {
      "cell_type": "code",
      "execution_count": 1,
      "metadata": {
        "dotnet_interactive": {
          "language": "csharp"
        }
      },
      "source": [
        "RestartTimestep.Session"
      ],
      "outputs": []
    },
    {
      "cell_type": "code",
      "execution_count": 1,
      "metadata": {
        "dotnet_interactive": {
          "language": "csharp"
        }
      },
      "source": [
        "/// This time step can be used as a restart value.:"
      ],
      "outputs": []
    },
    {
      "cell_type": "code",
      "execution_count": 1,
      "metadata": {
        "dotnet_interactive": {
          "language": "csharp"
        }
      },
      "source": [
        "var c4 = PreDefinedControl();"
      ],
      "outputs": []
    },
    {
      "cell_type": "code",
      "execution_count": 1,
      "metadata": {
        "dotnet_interactive": {
          "language": "csharp"
        }
      },
      "source": [
        "c4.InitialValues.Clear();\n",
        "c4.SetRestart(RestartTimestep);"
      ],
      "outputs": []
    },
    {
      "cell_type": "code",
      "execution_count": 1,
      "metadata": {
        "dotnet_interactive": {
          "language": "csharp"
        }
      },
      "source": [
        "var J4 = c4.RunBatch();"
      ],
      "outputs": []
    },
    {
      "cell_type": "code",
      "execution_count": 1,
      "metadata": {
        "dotnet_interactive": {
          "language": "csharp"
        }
      },
      "source": [
        "BoSSSshell.WorkflowMgm.BlockUntilAllJobsTerminate(3600*4);"
      ],
      "outputs": []
    },
    {
      "cell_type": "code",
      "execution_count": 1,
      "metadata": {
        "dotnet_interactive": {
          "language": "csharp"
        }
      },
      "source": [
        "J4.Status"
      ],
      "outputs": []
    },
    {
      "cell_type": "code",
      "execution_count": 1,
      "metadata": {
        "dotnet_interactive": {
          "language": "csharp"
        }
      },
      "source": [
        "/// BoSSScmdSilent\n",
        "NUnit.Framework.Assert.IsTrue(J4.Status == JobStatus.FinishedSuccessful);"
      ],
      "outputs": []
    },
    {
      "cell_type": "code",
      "execution_count": 1,
      "metadata": {
        "dotnet_interactive": {
          "language": "csharp"
        }
      },
      "source": [
        "/// \\paragraph{Note:}\n",
        "/// Since no mesh interpolation is performed for the restart, it is much faster\n",
        "/// than \\code{ForeignGridValue}, but less flexible \n",
        "/// (a restart is always performed on the same mesh).\n",
        "///\n",
        "/// To avoid multiple mesh interpolations (e.g. when multiple runs are required)\n",
        "/// one coudl therefore speed up the process by doing the \n",
        "/// mesh interpolation once (use \\emph{ProjectFromForeignGrid}) in BoSSSpad and\n",
        "/// save the interpolation in a dummy session."
      ],
      "outputs": []
    }
  ],
  "metadata": {
    "kernelspec": {
      "display_name": ".NET (C#)",
      "language": "C#",
      "name": ".net-csharp"
    },
    "language_info": {
      "file_extension": ".cs",
      "mimetype": "text/x-csharp",
      "name": "C#",
      "pygments_lexer": "csharp",
      "version": "8.0"
    }
  },
  "nbformat": 4,
  "nbformat_minor": 4
}