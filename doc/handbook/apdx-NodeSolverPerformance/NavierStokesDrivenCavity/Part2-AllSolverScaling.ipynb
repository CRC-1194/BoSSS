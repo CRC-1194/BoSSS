{
  "cells": [
    {
      "cell_type": "code",
      "execution_count": 1,
      "metadata": {
        "dotnet_interactive": {
          "language": "csharp"
        }
      },
      "source": [
        "#r \"C:\\experimental\\public\\src\\L4-application\\BoSSSpad\\bin\\Release\\net5.0\\BoSSSpad.dll\"\n",
        "using System;\n",
        "using System.Collections.Generic;\n",
        "using System.Linq;\n",
        "using ilPSP;\n",
        "using ilPSP.Utils;\n",
        "using BoSSS.Platform;\n",
        "using BoSSS.Platform.LinAlg;\n",
        "using BoSSS.Foundation;\n",
        "using BoSSS.Foundation.XDG;\n",
        "using BoSSS.Foundation.Grid;\n",
        "using BoSSS.Foundation.Grid.Classic;\n",
        "using BoSSS.Foundation.Grid.RefElements;\n",
        "using BoSSS.Foundation.IO;\n",
        "using BoSSS.Solution;\n",
        "using BoSSS.Solution.Control;\n",
        "using BoSSS.Solution.GridImport;\n",
        "using BoSSS.Solution.Statistic;\n",
        "using BoSSS.Solution.Utils;\n",
        "using BoSSS.Solution.AdvancedSolvers;\n",
        "using BoSSS.Solution.Gnuplot;\n",
        "using BoSSS.Application.BoSSSpad;\n",
        "using BoSSS.Application.XNSE_Solver;\n",
        "using static BoSSS.Application.BoSSSpad.BoSSSshell;\n",
        "Init();\n",
        ""
      ],
      "outputs": []
    },
    {
      "cell_type": "code",
      "execution_count": 1,
      "metadata": {
        "dotnet_interactive": {
          "language": "csharp"
        }
      },
      "source": [
        "WorkflowMgm.Init(\"SolverPerformanceDrivenCavity\");"
      ],
      "outputs": []
    },
    {
      "cell_type": "code",
      "execution_count": 1,
      "metadata": {
        "dotnet_interactive": {
          "language": "csharp"
        }
      },
      "source": [
        "using System.IO;\n",
        "using BoSSS.Application.IBM_Solver;\n",
        "using System.Data;"
      ],
      "outputs": []
    },
    {
      "cell_type": "code",
      "execution_count": 1,
      "metadata": {
        "dotnet_interactive": {
          "language": "csharp"
        }
      },
      "source": [
        "string dateString = \"2018-5-17\";\n",
        "string File       = \"SolverRuns--\" + dateString + \".json\";\n",
        "string FilePath   = Path.Combine(CurrentDocDir, File);\n",
        "var SessTab       = TableExtensions.LoadFromFile(FilePath);"
      ],
      "outputs": []
    },
    {
      "cell_type": "code",
      "execution_count": 1,
      "metadata": {
        "dotnet_interactive": {
          "language": "csharp"
        }
      },
      "source": [
        "static class Utils {\n",
        "    // DOF per cell in 3D\n",
        "    public static long Np(long p) {\n",
        "        return (p*p*p + 6*p*p + 11*p + 6)/6;\n",
        "    }\n",
        "}"
      ],
      "outputs": []
    },
    {
      "cell_type": "code",
      "execution_count": 1,
      "metadata": {
        "dotnet_interactive": {
          "language": "csharp"
        }
      },
      "source": [
        "// ====================\n",
        "// Evaluation, plotting\n",
        "// ===================="
      ],
      "outputs": []
    },
    {
      "cell_type": "code",
      "execution_count": 1,
      "metadata": {
        "dotnet_interactive": {
          "language": "csharp"
        }
      },
      "source": [
        "SessTab.GetColumnNames();"
      ],
      "outputs": []
    },
    {
      "cell_type": "code",
      "execution_count": 1,
      "metadata": {
        "dotnet_interactive": {
          "language": "csharp"
        }
      },
      "source": [
        "var SubTab_1 = SessTab.ExtractColumns(\"Grid:NoOfCells\",\"SlvIter_excl\",\"NonlinearSolve\",\"LinearSolve\",\"NoOfMultigridLevels\",\"DGdegree:Velocity*\",\"RegularTerminated\");"
      ],
      "outputs": []
    },
    {
      "cell_type": "code",
      "execution_count": 1,
      "metadata": {
        "dotnet_interactive": {
          "language": "csharp"
        }
      },
      "source": [
        "// Add columns to DataTable\n",
        "SubTab_1.Columns.Add(\"TotalDoFs\",typeof(double));\n",
        "long[] cells = ((long[]) SubTab_1.GetColumn(\"Grid:NoOfCells\"));\n",
        "long[] k = ((long[]) SubTab_1.GetColumn(\"DGdegree:Velocity*\"));\n",
        "int i     = 0;\n",
        "foreach (DataRow row in SubTab_1.Rows) {\n",
        "    row[\"TotalDoFs\"] = (3*Utils.Np(k[i])+Utils.Np(k[i]-1))*cells[i];\n",
        "    i++;\n",
        "}"
      ],
      "outputs": []
    },
    {
      "cell_type": "code",
      "execution_count": 1,
      "metadata": {
        "dotnet_interactive": {
          "language": "csharp"
        }
      },
      "source": [
        "SubTab_1.Print();"
      ],
      "outputs": []
    },
    {
      "cell_type": "code",
      "execution_count": 1,
      "metadata": {
        "dotnet_interactive": {
          "language": "csharp"
        }
      },
      "source": [
        ""
      ],
      "outputs": []
    },
    {
      "cell_type": "code",
      "execution_count": 1,
      "metadata": {
        "dotnet_interactive": {
          "language": "csharp"
        }
      },
      "source": [
        "static public class Formats {\n",
        "static public void getFormat(int iTabRow,IDictionary<string, object> Row, \n",
        "                 out string Nmn, out PlotFormat Fmt){\n",
        "           // - - - - - - - - - - - - - - - - - - - - - - - - \n",
        "           // PlotRowSelector:\n",
        "           // selects, which table row goes to which graph,\n",
        "           // and the respective color  \n",
        "           // - - - - - - - - - - - - - - - - - - - - - - - - \n",
        "         \n",
        "           NonlinearSolverCodes Nonlin_solver_name = (NonlinearSolverCodes) Convert.ToInt32(Row[\"NonlinearSolve\"]);\n",
        "           LinearSolverCodes solver_name = (LinearSolverCodes) Convert.ToInt32(Row[\"LinearSolve\"]);\n",
        "           int MGLevels                  = Convert.ToInt32(Row[\"NoOfMultigridLevels\"]);\n",
        "           Fmt                           = new PlotFormat();\n",
        "           \n",
        "\t\t   // ===!!!=== CAUTION ===!!!===\n",
        "\t\t   // Solverframework (SolverEnum numbers) have changed! Please check LinearSolver and NonLinearSolver for details\n",
        "\t\t   \n",
        "           switch(Nonlin_solver_name) {\n",
        "           case NonlinearSolverCodes.Picard: \n",
        "               Nmn = \"Picard \"; \n",
        "               break;  \n",
        "           case NonlinearSolverCodes.Newton: \n",
        "               Nmn = \"Newton \"; \n",
        "               break; \n",
        "           case NonlinearSolverCodes.NewtonGMRES: \n",
        "               Nmn = \"NewtonGmres \"; \n",
        "               break;          \n",
        "           default:\n",
        "               Console.WriteLine(\"unknown: \" + Nonlin_solver_name); \n",
        "               Nmn = \"unknown\"; \n",
        "               break;\n",
        "           } \n",
        "\n",
        "          \n",
        "           switch(solver_name) {\n",
        "           case LinearSolverCodes.automatic: \n",
        "               Nmn           = Nmn+\"Automatic\"; \n",
        "               Fmt.PointType = PointTypes.OpenCircle;\n",
        "               Fmt.DashType  = DashTypes.Dotted;\n",
        "               break;\n",
        "           case LinearSolverCodes.direct_mumps: \n",
        "               Nmn           = Nmn+\"Mumps\"; \n",
        "               Fmt.PointType = PointTypes.OpenUpperTriangle;\n",
        "               Fmt.DashType  = DashTypes.Dotted;\n",
        "               break;\n",
        "           case LinearSolverCodes.direct_pardiso: \n",
        "               Nmn           = Nmn+\"Pardiso\"; \n",
        "               Fmt.PointType = PointTypes.Asterisk;\n",
        "               Fmt.DashType  = DashTypes.Dashed;\n",
        "               break;\n",
        "           case LinearSolverCodes.exp_schwarz_directcoarse: \n",
        "               Nmn           = Nmn+\"Swz w Coarse\"; \n",
        "               Fmt.PointType = PointTypes.UpperTriangle;\n",
        "               Fmt.DashType  = DashTypes.DotDashed;\n",
        "               break;\n",
        "           case LinearSolverCodes.exp_schwarz_Kcycle_directcoarse_overlap: \n",
        "               Nmn           = Nmn+\"Swz Kcycle w Coarse Overlap\"; \n",
        "               Fmt.PointType = PointTypes.Plus;\n",
        "               Fmt.DashType  = DashTypes.Dashed;\n",
        "               break;\n",
        "           case LinearSolverCodes.exp_schwarz_directcoarse_overlap: \n",
        "               Nmn           = Nmn+\"Swz w Coarse Overlap\"; \n",
        "               Fmt.PointType = PointTypes.OpenBox;\n",
        "               Fmt.DashType  = DashTypes.Dotted;\n",
        "               break;\n",
        "           case LinearSolverCodes.exp_schwarz_Kcycle_directcoarse: \n",
        "               Nmn           = Nmn+\"Swz Kcycle w Coarse\"; \n",
        "               Fmt.PointType = PointTypes.LowerTriangle;\n",
        "               Fmt.DashType  = DashTypes.DotDotDashed;\n",
        "               break;\n",
        "           case LinearSolverCodes.exp_softgmres: \n",
        "               Nmn           = Nmn+\"SoftGMRES\"; \n",
        "               Fmt.PointType = PointTypes.Box;\n",
        "               Fmt.DashType  = DashTypes.Dotted;\n",
        "               break;\n",
        "           case LinearSolverCodes.exp_softgmres_schwarz_directcoarse: \n",
        "               Nmn           = Nmn+\"SoftGMRES Swz w Coarse\"; \n",
        "               Fmt.PointType = PointTypes.OpenCircle;\n",
        "               Fmt.DashType  = DashTypes.Dashed;\n",
        "               break;\n",
        "          case LinearSolverCodes.exp_softgmres_schwarz_directcoarse_overlap: \n",
        "               Nmn           = Nmn+\"SoftGMRES Swz w Coarse Overlap\"; \n",
        "               Fmt.PointType = PointTypes.OpenCircle;\n",
        "               Fmt.DashType  = DashTypes.Dashed;\n",
        "               break;\n",
        "          case LinearSolverCodes.exp_softgmres_schwarz_Kcycle_directcoarse_overlap: \n",
        "               Nmn           = Nmn+\"SoftGMRES Swz Kcycle w Coarse Overlap\"; \n",
        "               Fmt.PointType = PointTypes.Times;\n",
        "               Fmt.DashType  = DashTypes.DotDashed;\n",
        "               break;\n",
        "           default:\n",
        "               Console.WriteLine(\"unknown: \" + solver_name); \n",
        "               Nmn = Nmn+\"unknown\"; \n",
        "               break;\n",
        "           } \n",
        "           Nmn           = Nmn;//+\" MGLevels\"+MGLevels;\n",
        "           Fmt.PointSize = 0.5;\n",
        "           Fmt.Style     = Styles.LinesPoints;\n",
        "           Fmt.LineColor = LineColors.Black;\n",
        "           Fmt.LineWidth = 3;\n",
        "       }\n",
        "}"
      ],
      "outputs": []
    },
    {
      "cell_type": "code",
      "execution_count": 1,
      "metadata": {
        "dotnet_interactive": {
          "language": "csharp"
        }
      },
      "source": [
        "var plotSlvIterTime = SubTab_1.ToPlot(\"TotalDoFs\", \"SlvIter_excl\", // column for x- and y\n",
        "                                  Formats.getFormat); // column for group\n",
        "//var plotSlvIterSpeedup = SubTab_1.ToPlot(\"Grid:NoOfCells\", \"SlvIter_speedup\", // column for x- and y\n",
        "  //                                Formats.getFormat); // column for group\n",
        "//var plotSlvInit = SubTab_1.ToPlot(\"Processors\", \"SlvInit_excl\", // column for x- and y\n",
        "//                                  Formats.getFormat); // column for group\n",
        "Plot2Ddata[,] multiplots = new Plot2Ddata[1,1];\n",
        "//plotSlvIterTime.Title     = \"Exclusiveb_1.ToPlot(\"Grid:NoOfCells\", \"SlvIter_excl\", // column for x- and ytimes\";\n",
        "plotSlvIterTime.Ylabel = \"Time [s]\";\n",
        "plotSlvIterTime.Xlabel = \"TotalDoFs\";\n",
        "\n",
        "\n",
        "plotSlvIterTime.XrangeMin = 1000;\n",
        "plotSlvIterTime.XrangeMax = 1000000;\n",
        "plotSlvIterTime.LogX      = true;\n",
        "plotSlvIterTime.LogY      = true;\n",
        "plotSlvIterTime.LogBaseX  = 10;\n",
        "plotSlvIterTime.LogBaseY  = 10;\n",
        "\n",
        "multiplots[0,0] = plotSlvIterTime;\n",
        "//multiplots[1,0] = plotSlvIterSpeedup;\n",
        "\n",
        "double[] dof = new[]{1e3,1e6};\n",
        "double[] linT = dof.Select(x => x*1).ToArray();\n",
        "var linP = new Plot2Ddata.XYvalues(\"linear\", dof, linT);\n",
        "linP.Format.FromString(\"- black\");\n",
        "ArrayTools.AddToArray(linP, ref multiplots[0,0].dataGroups);\n",
        "\n",
        "multiplots[0,0].bmargin = 4;\n",
        "//multiplots[1,0].tmargin = 1;\n",
        "multiplots[0,0].tmargin = 4;\n",
        "multiplots.PlotNow();"
      ],
      "outputs": []
    },
    {
      "cell_type": "code",
      "execution_count": 1,
      "metadata": {
        "dotnet_interactive": {
          "language": "csharp"
        }
      },
      "source": [
        "LastError"
      ],
      "outputs": []
    },
    {
      "cell_type": "code",
      "execution_count": 1,
      "metadata": {
        "dotnet_interactive": {
          "language": "csharp"
        }
      },
      "source": [
        "var CL = multiplots.ToGnuplot().PlotCairolatex(xSize:18, ySize:10);"
      ],
      "outputs": []
    },
    {
      "cell_type": "code",
      "execution_count": 1,
      "metadata": {
        "dotnet_interactive": {
          "language": "csharp"
        }
      },
      "source": [
        "CL.SaveTo(Path.Combine(CurrentDocDir+\"/plots/\", \"NodePerformance.tex\"));"
      ],
      "outputs": []
    },
    {
      "cell_type": "code",
      "execution_count": 1,
      "metadata": {
        "dotnet_interactive": {
          "language": "csharp"
        }
      },
      "source": [
        "CL.PlotNow();"
      ],
      "outputs": []
    },
    {
      "cell_type": "code",
      "execution_count": 1,
      "metadata": {
        "dotnet_interactive": {
          "language": "csharp"
        }
      },
      "source": [
        "LastError"
      ],
      "outputs": []
    },
    {
      "cell_type": "code",
      "execution_count": 1,
      "metadata": {
        "dotnet_interactive": {
          "language": "csharp"
        }
      },
      "source": [
        ""
      ],
      "outputs": []
    },
    {
      "cell_type": "code",
      "execution_count": 1,
      "metadata": {
        "dotnet_interactive": {
          "language": "csharp"
        }
      },
      "source": [
        ""
      ],
      "outputs": []
    },
    {
      "cell_type": "code",
      "execution_count": 1,
      "metadata": {
        "dotnet_interactive": {
          "language": "csharp"
        }
      },
      "source": [
        ""
      ],
      "outputs": []
    },
    {
      "cell_type": "code",
      "execution_count": 1,
      "metadata": {
        "dotnet_interactive": {
          "language": "csharp"
        }
      },
      "source": [
        ""
      ],
      "outputs": []
    },
    {
      "cell_type": "code",
      "execution_count": 1,
      "metadata": {
        "dotnet_interactive": {
          "language": "csharp"
        }
      },
      "source": [
        ""
      ],
      "outputs": []
    },
    {
      "cell_type": "code",
      "execution_count": 1,
      "metadata": {
        "dotnet_interactive": {
          "language": "csharp"
        }
      },
      "source": [
        ""
      ],
      "outputs": []
    },
    {
      "cell_type": "code",
      "execution_count": 1,
      "metadata": {
        "dotnet_interactive": {
          "language": "csharp"
        }
      },
      "source": [
        ""
      ],
      "outputs": []
    },
    {
      "cell_type": "code",
      "execution_count": 1,
      "metadata": {
        "dotnet_interactive": {
          "language": "csharp"
        }
      },
      "source": [
        ""
      ],
      "outputs": []
    },
    {
      "cell_type": "code",
      "execution_count": 1,
      "metadata": {
        "dotnet_interactive": {
          "language": "csharp"
        }
      },
      "source": [
        ""
      ],
      "outputs": []
    },
    {
      "cell_type": "code",
      "execution_count": 1,
      "metadata": {
        "dotnet_interactive": {
          "language": "csharp"
        }
      },
      "source": [
        ""
      ],
      "outputs": []
    },
    {
      "cell_type": "code",
      "execution_count": 1,
      "metadata": {
        "dotnet_interactive": {
          "language": "csharp"
        }
      },
      "source": [
        ""
      ],
      "outputs": []
    },
    {
      "cell_type": "code",
      "execution_count": 1,
      "metadata": {
        "dotnet_interactive": {
          "language": "csharp"
        }
      },
      "source": [
        ""
      ],
      "outputs": []
    },
    {
      "cell_type": "code",
      "execution_count": 1,
      "metadata": {
        "dotnet_interactive": {
          "language": "csharp"
        }
      },
      "source": [
        ""
      ],
      "outputs": []
    },
    {
      "cell_type": "code",
      "execution_count": 1,
      "metadata": {
        "dotnet_interactive": {
          "language": "csharp"
        }
      },
      "source": [
        ""
      ],
      "outputs": []
    },
    {
      "cell_type": "code",
      "execution_count": 1,
      "metadata": {
        "dotnet_interactive": {
          "language": "csharp"
        }
      },
      "source": [
        ""
      ],
      "outputs": []
    },
    {
      "cell_type": "code",
      "execution_count": 1,
      "metadata": {
        "dotnet_interactive": {
          "language": "csharp"
        }
      },
      "source": [
        ""
      ],
      "outputs": []
    },
    {
      "cell_type": "code",
      "execution_count": 1,
      "metadata": {
        "dotnet_interactive": {
          "language": "csharp"
        }
      },
      "source": [
        ""
      ],
      "outputs": []
    },
    {
      "cell_type": "code",
      "execution_count": 1,
      "metadata": {
        "dotnet_interactive": {
          "language": "csharp"
        }
      },
      "source": [
        ""
      ],
      "outputs": []
    },
    {
      "cell_type": "code",
      "execution_count": 1,
      "metadata": {
        "dotnet_interactive": {
          "language": "csharp"
        }
      },
      "source": [
        ""
      ],
      "outputs": []
    },
    {
      "cell_type": "code",
      "execution_count": 1,
      "metadata": {
        "dotnet_interactive": {
          "language": "csharp"
        }
      },
      "source": [
        ""
      ],
      "outputs": []
    },
    {
      "cell_type": "code",
      "execution_count": 1,
      "metadata": {
        "dotnet_interactive": {
          "language": "csharp"
        }
      },
      "source": [
        ""
      ],
      "outputs": []
    },
    {
      "cell_type": "code",
      "execution_count": 1,
      "metadata": {
        "dotnet_interactive": {
          "language": "csharp"
        }
      },
      "source": [
        ""
      ],
      "outputs": []
    },
    {
      "cell_type": "code",
      "execution_count": 1,
      "metadata": {
        "dotnet_interactive": {
          "language": "csharp"
        }
      },
      "source": [
        ""
      ],
      "outputs": []
    },
    {
      "cell_type": "code",
      "execution_count": 1,
      "metadata": {
        "dotnet_interactive": {
          "language": "csharp"
        }
      },
      "source": [
        ""
      ],
      "outputs": []
    },
    {
      "cell_type": "code",
      "execution_count": 1,
      "metadata": {
        "dotnet_interactive": {
          "language": "csharp"
        }
      },
      "source": [
        ""
      ],
      "outputs": []
    },
    {
      "cell_type": "code",
      "execution_count": 1,
      "metadata": {
        "dotnet_interactive": {
          "language": "csharp"
        }
      },
      "source": [
        ""
      ],
      "outputs": []
    },
    {
      "cell_type": "code",
      "execution_count": 1,
      "metadata": {
        "dotnet_interactive": {
          "language": "csharp"
        }
      },
      "source": [
        ""
      ],
      "outputs": []
    },
    {
      "cell_type": "code",
      "execution_count": 1,
      "metadata": {
        "dotnet_interactive": {
          "language": "csharp"
        }
      },
      "source": [
        ""
      ],
      "outputs": []
    },
    {
      "cell_type": "code",
      "execution_count": 1,
      "metadata": {
        "dotnet_interactive": {
          "language": "csharp"
        }
      },
      "source": [
        ""
      ],
      "outputs": []
    },
    {
      "cell_type": "code",
      "execution_count": 1,
      "metadata": {
        "dotnet_interactive": {
          "language": "csharp"
        }
      },
      "source": [
        ""
      ],
      "outputs": []
    },
    {
      "cell_type": "code",
      "execution_count": 1,
      "metadata": {
        "dotnet_interactive": {
          "language": "csharp"
        }
      },
      "source": [
        ""
      ],
      "outputs": []
    },
    {
      "cell_type": "code",
      "execution_count": 1,
      "metadata": {
        "dotnet_interactive": {
          "language": "csharp"
        }
      },
      "source": [
        ""
      ],
      "outputs": []
    },
    {
      "cell_type": "code",
      "execution_count": 1,
      "metadata": {
        "dotnet_interactive": {
          "language": "csharp"
        }
      },
      "source": [
        ""
      ],
      "outputs": []
    },
    {
      "cell_type": "code",
      "execution_count": 1,
      "metadata": {
        "dotnet_interactive": {
          "language": "csharp"
        }
      },
      "source": [
        ""
      ],
      "outputs": []
    },
    {
      "cell_type": "code",
      "execution_count": 1,
      "metadata": {
        "dotnet_interactive": {
          "language": "csharp"
        }
      },
      "source": [
        ""
      ],
      "outputs": []
    },
    {
      "cell_type": "code",
      "execution_count": 1,
      "metadata": {
        "dotnet_interactive": {
          "language": "csharp"
        }
      },
      "source": [
        ""
      ],
      "outputs": []
    },
    {
      "cell_type": "code",
      "execution_count": 1,
      "metadata": {
        "dotnet_interactive": {
          "language": "csharp"
        }
      },
      "source": [
        ""
      ],
      "outputs": []
    },
    {
      "cell_type": "code",
      "execution_count": 1,
      "metadata": {
        "dotnet_interactive": {
          "language": "csharp"
        }
      },
      "source": [
        ""
      ],
      "outputs": []
    }
  ],
  "metadata": {
    "kernelspec": {
      "display_name": ".NET (C#)",
      "language": "C#",
      "name": ".net-csharp"
    },
    "language_info": {
      "file_extension": ".cs",
      "mimetype": "text/x-csharp",
      "name": "C#",
      "pygments_lexer": "csharp",
      "version": "8.0"
    }
  },
  "nbformat": 4,
  "nbformat_minor": 4
}