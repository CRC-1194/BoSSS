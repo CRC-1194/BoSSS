{
  "cells": [
    {
      "cell_type": "code",
      "execution_count": 1,
      "metadata": {
        "dotnet_interactive": {
          "language": "csharp"
        }
      },
      "source": [
        "#r \"C:\\experimental\\public\\src\\L4-application\\BoSSSpad\\bin\\Release\\net5.0\\BoSSSpad.dll\"\n",
        "using System;\n",
        "using System.Collections.Generic;\n",
        "using System.Linq;\n",
        "using ilPSP;\n",
        "using ilPSP.Utils;\n",
        "using BoSSS.Platform;\n",
        "using BoSSS.Platform.LinAlg;\n",
        "using BoSSS.Foundation;\n",
        "using BoSSS.Foundation.XDG;\n",
        "using BoSSS.Foundation.Grid;\n",
        "using BoSSS.Foundation.Grid.Classic;\n",
        "using BoSSS.Foundation.Grid.RefElements;\n",
        "using BoSSS.Foundation.IO;\n",
        "using BoSSS.Solution;\n",
        "using BoSSS.Solution.Control;\n",
        "using BoSSS.Solution.GridImport;\n",
        "using BoSSS.Solution.Statistic;\n",
        "using BoSSS.Solution.Utils;\n",
        "using BoSSS.Solution.AdvancedSolvers;\n",
        "using BoSSS.Solution.Gnuplot;\n",
        "using BoSSS.Application.BoSSSpad;\n",
        "using BoSSS.Application.XNSE_Solver;\n",
        "using static BoSSS.Application.BoSSSpad.BoSSSshell;\n",
        "Init();\n",
        ""
      ],
      "outputs": []
    },
    {
      "cell_type": "code",
      "execution_count": 1,
      "metadata": {
        "dotnet_interactive": {
          "language": "csharp"
        }
      },
      "source": [
        "using BoSSS.Application.IBMSolver;\n",
        "using BoSSS.Foundation.Grid.RefElements;\n",
        "using BoSSS.Solution;\n",
        "using System.Text;\n",
        "using System.Threading.Tasks;\n",
        "using System.Threading;\n",
        "using ilPSP.Tracing;"
      ],
      "outputs": []
    },
    {
      "cell_type": "code",
      "execution_count": 1,
      "metadata": {
        "dotnet_interactive": {
          "language": "csharp"
        }
      },
      "source": [
        "string WFlowName = \"SolverPerformanceDrivenCavity\";\n",
        "WorkflowMgm.Init(WFlowName);"
      ],
      "outputs": []
    },
    {
      "cell_type": "code",
      "execution_count": 1,
      "metadata": {
        "dotnet_interactive": {
          "language": "csharp"
        }
      },
      "source": [
        "var WinTempDB = OpenOrCreateDatabase(@\"\\\\dc1\\userspace\\weber\\Performance_DB\");\n",
        "//var LinuxTempDB = OpenOrCreateDatabase(@\"L:\\BoSSS_DB\\Lichtenberg_DB\");"
      ],
      "outputs": []
    },
    {
      "cell_type": "code",
      "execution_count": 1,
      "metadata": {
        "dotnet_interactive": {
          "language": "csharp"
        }
      },
      "source": [
        "//Console.WriteLine(\"Please type in your Username\");\n",
        "//var Username = Console.ReadLine();"
      ],
      "outputs": []
    },
    {
      "cell_type": "code",
      "execution_count": 1,
      "metadata": {
        "dotnet_interactive": {
          "language": "csharp"
        }
      },
      "source": [
        "//var myBatch = new SlurmClient(@\"L:\\SLURM\",\"lcluster3.hrz.tu-darmstadt.de\",\"oe11okuz\");\n",
        "var myBatch = new MsHPC2012Client(@\"\\\\dc1\\userspace\\weber\\deploy\",\"hpccluster\",ComputeNodes : new[] {\"hpccluster\"});"
      ],
      "outputs": []
    },
    {
      "cell_type": "code",
      "execution_count": 1,
      "metadata": {
        "dotnet_interactive": {
          "language": "csharp"
        }
      },
      "source": [
        "//var myBatch = new MiniBatchProcessorClient(@\"P:\\tmp\\\");"
      ],
      "outputs": []
    },
    {
      "cell_type": "code",
      "execution_count": 1,
      "metadata": {
        "dotnet_interactive": {
          "language": "csharp"
        }
      },
      "source": [
        "//MiniBatchProcessor.Server.StartIfNotRunning();"
      ],
      "outputs": []
    },
    {
      "cell_type": "code",
      "execution_count": 1,
      "metadata": {
        "dotnet_interactive": {
          "language": "csharp"
        }
      },
      "source": [
        "static class Utils {\n",
        "    // DOF per cell in 3D\n",
        "    public static int Np(int p) {\n",
        "        return (p*p*p + 6*p*p + 11*p + 6)/6;\n",
        "    }\n",
        "}"
      ],
      "outputs": []
    },
    {
      "cell_type": "code",
      "execution_count": 1,
      "metadata": {
        "dotnet_interactive": {
          "language": "csharp"
        }
      },
      "source": [
        "// ==========\n",
        "// Parameters\n",
        "// =========="
      ],
      "outputs": []
    },
    {
      "cell_type": "code",
      "execution_count": 1,
      "metadata": {
        "dotnet_interactive": {
          "language": "csharp"
        }
      },
      "source": [
        "LinearSolverCodes[] linSolvers = new LinearSolverCodes[] {\n",
        "    //LinearSolverCodes.exp_schwarz_directcoarse,\n",
        "    //LinearSolverCodes.exp_schwarz_Kcycle_directcoarse,\n",
        "    //LinearSolverCodes.exp_schwarz_directcoarse_overlap,\n",
        "    //LinearSolverCodes.exp_schwarz_Kcycle_directcoarse_overlap,\n",
        "    //LinearSolverCodes.exp_softgmres_schwarz_Kcycle_directcoarse_overlap,\n",
        "    //LinearSolverCodes.exp_softgmres_schwarz_directcoarse_overlap,\n",
        "    //LinearSolverCodes.automatic,\n",
        "    //LinearSolverCodes.classic_mumps,\n",
        "    //LinearSolverCodes.exp_multigrid\n",
        "};\n",
        "NonlinearSolverCodes[] NlinSolvers = new NonlinearSolverCodes[]{\n",
        "    NonlinearSolverCodes.NewtonGMRES,\n",
        "    NonlinearSolverCodes.Newton,\n",
        "    NonlinearSolverCodes.PicardGMRES,\n",
        "    NonlinearSolverCodes.Picard\n",
        "};\n",
        "int[] ks = new int[] {2,3};\n",
        "int re        = 400; \n",
        "int saveToDB  = 1;\n",
        "int[] procs    = new int[] {1};\n",
        "//string[] estTime = new string[] {\"24:00:00\",\"18:00:00\",\"12:00:00\",\"06:00:00\"};"
      ],
      "outputs": []
    },
    {
      "cell_type": "code",
      "execution_count": 1,
      "metadata": {
        "dotnet_interactive": {
          "language": "csharp"
        }
      },
      "source": [
        "// ===============================\n",
        "// Init grids and save to database\n",
        "// ==============================="
      ],
      "outputs": []
    },
    {
      "cell_type": "code",
      "execution_count": 1,
      "metadata": {
        "dotnet_interactive": {
          "language": "csharp"
        }
      },
      "source": [
        "//int[] Resolutions_3D = new int[] {5,7,10,13};//,17,25};\n",
        "int[] Resolutions_3D = new int[] { 2, 4, 8, 16, 32, 64 };\n",
        "IGridInfo[] grids = new IGridInfo[Resolutions_3D.Length];\n",
        "\n",
        "for(int cnt = 0; cnt < Resolutions_3D.Length; cnt++) {\n",
        "  int  Res = Resolutions_3D[cnt];\n",
        "// x-direction\n",
        "var _xNodes = GenericBlas.Linspace(-0.5, 0.5, Res + 1);\n",
        "// y-direction\n",
        "var _yNodes = GenericBlas.Linspace(-0.5, 0.5, Res + 1);\n",
        "// z-direction\n",
        "var _zNodes = GenericBlas.Linspace(-0.5, 0.5, Res + 1);\n",
        "// Generate Grid\n",
        "int J           = (_xNodes.Length - 1)*(_yNodes.Length - 1)*(_zNodes.Length - 1);\n",
        "string GridName = string.Format(WorkflowMgm.CurrentProject + \"_J\" + J);\n",
        "grids[cnt] = WinTempDB.Grids.SingleOrDefault(grd => grd.Name == GridName);\n",
        "if(grids[cnt] == null){\n",
        "Console.WriteLine(\"Creating grid with \" + J + \" cells.\");\n",
        "GridCommons grd; \n",
        "grd = Grid3D.Cartesian3DGrid(_xNodes, _yNodes, _zNodes, false, true, false, CellType.Cube_Linear);\n",
        "grd.EdgeTagNames.Add(1, \"Velocity_17inlet\");\n",
        "grd.EdgeTagNames.Add(2, \"Wall\");\n",
        "grd.DefineEdgeTags(delegate (double[] _X) {\n",
        "                    var X    = _X;\n",
        "                    double x = X[0];\n",
        "                    double y = X[1];\n",
        "                    double z = X[2];\n",
        "                    byte ret = 0;\n",
        "\n",
        "                    if (Math.Abs(x - (-0.5)) < 1.0e-6)\n",
        "                        // inlet\n",
        "                        ret = 2;\n",
        "\n",
        "                    if (Math.Abs(x - (0.5)) < 1.0e-6)\n",
        "                        // outlet\n",
        "                        ret = 2;\n",
        "\n",
        "                    if (Math.Abs(y - (-0.5)) < 1.0e-6)\n",
        "                        // left\n",
        "                        ret = 2;\n",
        "\n",
        "                    if (Math.Abs(y - (0.5)) < 1.0e-6)\n",
        "                        // right\n",
        "                        ret = 2;\n",
        "\n",
        "                    if (Math.Abs(z - (-0.5)) < 1.0e-6)\n",
        "                        // top left\n",
        "                        ret = 2;\n",
        "\n",
        "                    if (Math.Abs(z - (0.5)) < 1.0e-6)\n",
        "                        // top right\n",
        "                        ret = 1;\n",
        "                        \n",
        "                        return ret;\n",
        "                });\n",
        "WinTempDB.SaveGrid(ref grd);\n",
        "grids[cnt] = grd;\n",
        "}else{\n",
        "Console.WriteLine(\"Found Grid: \" + grids[cnt]);\n",
        "if(grids[cnt].NumberOfCells != J)\n",
        "            throw new Exception(\"J mismatch\");\n",
        "        \n",
        "        if(grids[cnt].SpatialDimension != 3)\n",
        "            throw new Exception(\"D mismatch\");\n",
        "}\n",
        "}"
      ],
      "outputs": []
    },
    {
      "cell_type": "code",
      "execution_count": 1,
      "metadata": {
        "dotnet_interactive": {
          "language": "csharp"
        }
      },
      "source": [
        "// =====================================\n",
        "// setup control object for a solver run\n",
        "// ====================================="
      ],
      "outputs": []
    },
    {
      "cell_type": "code",
      "execution_count": 1,
      "metadata": {
        "dotnet_interactive": {
          "language": "csharp"
        }
      },
      "source": [
        "// - - - - - - - - - - - - - - - - - - -\n",
        "// Initial Values & Boundary conditions\n",
        "// - - - - - - - - - - - - - - - - - - -"
      ],
      "outputs": []
    },
    {
      "cell_type": "code",
      "execution_count": 1,
      "metadata": {
        "dotnet_interactive": {
          "language": "csharp"
        }
      },
      "source": [
        "static class InitialValues {\n",
        "    public static double ZERO(double[] X) {\n",
        "        return 0.0;\n",
        "    }\n",
        "    public static double Phi(double[] X) {\n",
        "        return -1;   \n",
        "    }\n",
        "    public static double VelocityInlet(double[] X) {\n",
        "        return 1;\n",
        "    }\n",
        "}"
      ],
      "outputs": []
    },
    {
      "cell_type": "code",
      "execution_count": 1,
      "metadata": {
        "dotnet_interactive": {
          "language": "csharp"
        }
      },
      "source": [
        "List<IBM_Control> controls = new List<IBM_Control>();"
      ],
      "outputs": []
    },
    {
      "cell_type": "code",
      "execution_count": 1,
      "metadata": {
        "dotnet_interactive": {
          "language": "csharp"
        }
      },
      "source": [
        "// polynomial degrees to test\n",
        "int[] PolyDegS = new int[] {2};"
      ],
      "outputs": []
    },
    {
      "cell_type": "code",
      "execution_count": 1,
      "metadata": {
        "dotnet_interactive": {
          "language": "csharp"
        }
      },
      "source": [
        ""
      ],
      "outputs": []
    },
    {
      "cell_type": "code",
      "execution_count": 1,
      "metadata": {
        "dotnet_interactive": {
          "language": "csharp"
        }
      },
      "source": [
        "// MaxDof for one claculation (we skip fine grids for higher polynomial orders)\n",
        "int MaxDof = 5000000;"
      ],
      "outputs": []
    },
    {
      "cell_type": "code",
      "execution_count": 1,
      "metadata": {
        "dotnet_interactive": {
          "language": "csharp"
        }
      },
      "source": [
        "controls.Clear();\n",
        "foreach(LinearSolverCodes linSolverName in linSolvers){\n",
        "foreach(int k in PolyDegS) {\n",
        "int iGrd = 0;    \n",
        "foreach(IGridInfo grd in grids) {\n",
        "    iGrd ++;\n",
        "    var C = new IBM_Control();\n",
        "    controls.Add(C);\n",
        "\n",
        "    int Np = Utils.Np(k);\n",
        "    int J  = grd.NumberOfCells;\n",
        "    if(J*Np > MaxDof)\n",
        "        continue;\n",
        "    \n",
        "\t// ===!!!=== CAUTION ===!!!===\n",
        "    // Solverframework (SolverEnum numbers) have changed! Please check LinearSolver and NonLinearSolver for details\n",
        "\t\n",
        "    string caseName = string.Format(\"J{0}_k{1}_{2}\", J, k, solver_name);\n",
        "    Console.WriteLine(\"setting up: \" + caseName);\n",
        "\n",
        "// basic database options\n",
        "// ======================\n",
        "\n",
        "C.savetodb = true;\n",
        "C.SetDatabase(WinTempDB);\n",
        "C.DynamicLoadBalancing_Period                = 1;\n",
        "C.GridPartType                               = GridPartType.Hilbert;\n",
        "C.DynamicLoadBalancing_RedistributeAtStartup = false;\n",
        "C.DynamicLoadBalancing_ImbalanceThreshold    = 0.0;\n",
        "\n",
        "C.saveperiod  = 1;\n",
        "C.ProjectName = \"3DChannel\";\n",
        "C.Tags.Add(\"Prec param study\");\n",
        "C.solver_name = linSolverName;\n",
        "C.SetDGdegree(k);\n",
        "C.SetGrid(grd);\n",
        "           \n",
        "// Set Initial Conditions\n",
        "C.InitialValues.Add(\"VelocityX\", GetFormulaObject(InitialValues.ZERO));\n",
        "C.InitialValues.Add(\"VelocityY\", GetFormulaObject(InitialValues.ZERO));\n",
        "C.InitialValues.Add(\"VelocityZ\", GetFormulaObject(InitialValues.ZERO));\n",
        "C.InitialValues.Add(\"Pressure\", GetFormulaObject(InitialValues.ZERO));\n",
        "C.InitialValues.Add(\"Phi\", GetFormulaObject(InitialValues.Phi));\n",
        "        \n",
        "\n",
        "        // Because its a sphere\n",
        "  \n",
        "\n",
        "        // Physical values\n",
        "        C.PhysicalParameters.rho_A = 1;\n",
        "        // 1/Re\n",
        "        //C.PhysicalParameters.mu_A = 1.0 / 10.0;\n",
        "        C.PhysicalParameters.mu_A = 1.0/ re;\n",
        "\n",
        "        //C.PhysicalParameters.mu_A = 1.0 / re;\n",
        "\n",
        "        // Boundary conditions\n",
        "        C.AddBoundaryValue(\"Velocity_inlet\", \"VelocityX\", GetFormulaObject(InitialValues.VelocityInlet));\n",
        "        C.AddBoundaryValue(\"Velocity_inlet\", \"VelocityY\", GetFormulaObject(InitialValues.ZERO));\n",
        "        C.AddBoundaryValue(\"Wall\");\n",
        "\n",
        "\n",
        "        // misc. solver options\n",
        "        // ====================\n",
        "        C.PhysicalParameters.IncludeConvection                     = true;\n",
        "        C.AdvancedDiscretizationOptions.PenaltySafety              = 4;\n",
        "        C.AdvancedDiscretizationOptions.CellAgglomerationThreshold = 0.2;\n",
        "        C.LevelSetSmoothing                                        = false;\n",
        "        C.MaxKrylovDim                                             = 30;\n",
        "        C.MaxSolverIterations                                      = 50;\n",
        "        C.MinSolverIterations                                      = 1;\n",
        "        // C.MaxSolverIterations = 10000;\n",
        "        C.Solver_ConvergenceCriterion = 1E-5;\n",
        "        //C.Solver_ConvergenceCriterion = 1E-6;\n",
        "        C.VelocityBlockPrecondMode = MultigridOperator.Mode.SymPart_DiagBlockEquilib_DropIndefinite;\n",
        "        \n",
        "        // Solver configuration\n",
        "        C.NonlinearSolve = NonlinearSolverCodes.NewtonGMRES;\n",
        "        C.LinearSolve    = linSolverName;\n",
        "\n",
        "        \n",
        "\n",
        "        // Timestepping\n",
        "        // ============\n",
        "        C.Timestepper_Scheme = IBM_Control.TimesteppingScheme.BDF2;\n",
        "        //C.dtFixed            = 1E20;\n",
        "        C.dtMax               = 1E20;\n",
        "        C.dtMin               = 1E20;\n",
        "        C.Endtime             = 10000000;\n",
        "        C.NoOfTimesteps       = 1;\n",
        "        C.NoOfMultigridLevels = 3;\n",
        "        \n",
        "        // Assign correct names\n",
        "        C.SessionName = \"DrivenCavity_k2_\"+C.NonlinearSolve+\"_\"+linSolverName+\"_J\"+grd.NumberOfCells+\"_MGLev\"+C.NoOfMultigridLevels;\n",
        "        }\n",
        "}\n",
        "}"
      ],
      "outputs": []
    },
    {
      "cell_type": "code",
      "execution_count": 1,
      "metadata": {
        "dotnet_interactive": {
          "language": "csharp"
        }
      },
      "source": [
        "LastError"
      ],
      "outputs": []
    },
    {
      "cell_type": "code",
      "execution_count": 1,
      "metadata": {
        "dotnet_interactive": {
          "language": "csharp"
        }
      },
      "source": [
        "// ==========\n",
        "// Launch Job\n",
        "// =========="
      ],
      "outputs": []
    },
    {
      "cell_type": "code",
      "execution_count": 1,
      "metadata": {
        "dotnet_interactive": {
          "language": "csharp"
        }
      },
      "source": [
        "foreach(var ctrl in controls) {\n",
        "    var tmpName = ctrl.SessionName;\n",
        "foreach(int proc in procs){\n",
        "    ctrl.SessionName = tmpName;\n",
        "    Console.WriteLine(\" Submitting: \" + ctrl.SessionName);\n",
        "    ctrl.RunBatch(myBatch,NumberOfMPIProcs:proc,UseComputeNodesExclusive:true,executionTime:\"96:00:00\");  \n",
        "}}"
      ],
      "outputs": []
    },
    {
      "cell_type": "code",
      "execution_count": 1,
      "metadata": {
        "dotnet_interactive": {
          "language": "csharp"
        }
      },
      "source": [
        "WorkflowMgm.SessionTable.Rows.Count;"
      ],
      "outputs": []
    },
    {
      "cell_type": "code",
      "execution_count": 1,
      "metadata": {
        "dotnet_interactive": {
          "language": "csharp"
        }
      },
      "source": [
        "// =====================================\n",
        "// Session table\n",
        "// ====================================="
      ],
      "outputs": []
    },
    {
      "cell_type": "code",
      "execution_count": 1,
      "metadata": {
        "dotnet_interactive": {
          "language": "csharp"
        }
      },
      "source": [
        "// -------------------------------\n",
        "// Additional/user-defined columns\n",
        "// -------------------------------"
      ],
      "outputs": []
    },
    {
      "cell_type": "code",
      "execution_count": 1,
      "metadata": {
        "dotnet_interactive": {
          "language": "csharp"
        }
      },
      "source": [
        "static class AddCols {\n",
        "     static public double getMaxTime(ISessionInfo SI, string method, bool exclusive) {\n",
        "         double maxTime = 0.0;\n",
        "         var mcr        = SI.GetProfiling();\n",
        "                // Iterate over MPIs\n",
        "                for (int j = 0; j < mcr.Count(); j++) {\n",
        "                    MethodCallRecord value;\n",
        "                    // Iterate over methods\n",
        "                        // Get execution time of current method for current processor\n",
        "                        double tempTime;\n",
        "                        double tempFractions;\n",
        "                        int occurence = 1;\n",
        "\n",
        "                        value = mcr[j].FindChild(method);\n",
        "                        if (value == null) {\n",
        "                            value = mcr[j];\n",
        "                        }\n",
        "                        if (exclusive) {\n",
        "                            tempTime = value.FindChildren(method).OrderByDescending(s => s.TimeExclusive.TotalSeconds).Pick(occurence-1).TimeExclusive.TotalSeconds;\n",
        "                                IEnumerable<MethodCallRecord> calls = value.FindChildren(method).OrderByDescending(s => s.ExclusiveTimeFractionOfRoot);\n",
        "                                double maxValue = calls.Pick(occurence-1).ExclusiveTimeFractionOfRoot;\n",
        "                                int maxIndex    = calls.Select(s => s.ExclusiveTimeFractionOfRoot).ToList().IndexOf(maxValue);\n",
        "                                tempFractions   = maxValue;                             \n",
        "                            \n",
        "                        } else {\n",
        "                             tempTime = value.FindChildren(method).OrderByDescending(s => s.TimeSpentInMethod.TotalSeconds).Pick(occurence-1).TimeSpentInMethod.TotalSeconds;\n",
        "                                IEnumerable<MethodCallRecord> calls = value.FindChildren(method).OrderByDescending(s => s.TimeFractionOfRoot);\n",
        "                                double maxValue = calls.Pick(occurence-1).TimeFractionOfRoot;\n",
        "                                int maxIndex    = calls.Select(s => s.TimeFractionOfRoot).ToList().IndexOf(maxValue);\n",
        "                                tempFractions   = maxValue;\n",
        "                        }\n",
        "                            \n",
        "                        // Only save execution time if it is the highest value of all processor times\n",
        "                        if (tempTime > maxTime) {\n",
        "                            maxTime = tempTime;\n",
        "                        }\n",
        "                    }\n",
        "                    return maxTime;\n",
        "    }\n",
        "    \n",
        "    static public object SlvIterTime(ISessionInfo SI) {\n",
        "       // Thread.Sleep(2000);\n",
        "        return getMaxTime(SI,\"Slv Iter\",false);\n",
        "    }\n",
        "    static public object SlvInitTime(ISessionInfo SI) {\n",
        "        // sometimes problems such that some method show NULL time. Sleep helped\n",
        "        //Thread.Sleep(2000);\n",
        "        return getMaxTime(SI,\"Slv Init\",false);\n",
        "    }\n",
        "    //static public object SchwarzSolve(ISessionInfo SI) {\n",
        "      //  Thread.Sleep(2000);\n",
        "        //return getMaxTime(SI,\"BoSSS.Solution.Multigrid.Schwarz.Solve\",false);\n",
        "    //}\n",
        "    //static public object NewtonDirder(ISessionInfo SI) {\n",
        "      //  Thread.Sleep(2000);        \n",
        "        //return getMaxTime(SI,\"BoSSS.Solution.Multigrid.Newton.dirder\",false);\n",
        "    //}\n",
        "    static public object MPIs(ISessionInfo SI) {\n",
        "        return SI.ComputeNodeNames.Count();\n",
        "    }\n",
        "}"
      ],
      "outputs": []
    },
    {
      "cell_type": "code",
      "execution_count": 1,
      "metadata": {
        "dotnet_interactive": {
          "language": "csharp"
        }
      },
      "source": [
        "WorkflowMgm.AdditionalSessionTableColums.Clear();\n",
        "WorkflowMgm.AdditionalSessionTableColums.Add(\n",
        "    \"SlvIter_excl\", AddCols.SlvIterTime);\n",
        "WorkflowMgm.AdditionalSessionTableColums.Add(\n",
        "    \"Processors\", AddCols.MPIs);"
      ],
      "outputs": []
    },
    {
      "cell_type": "code",
      "execution_count": 1,
      "metadata": {
        "dotnet_interactive": {
          "language": "csharp"
        }
      },
      "source": [
        "// --------------------------\n",
        "// Save Session table in file\n",
        "// --------------------------"
      ],
      "outputs": []
    },
    {
      "cell_type": "code",
      "execution_count": 1,
      "metadata": {
        "dotnet_interactive": {
          "language": "csharp"
        }
      },
      "source": [
        "var SessTab = WorkflowMgm.SessionTable;"
      ],
      "outputs": []
    },
    {
      "cell_type": "code",
      "execution_count": 1,
      "metadata": {
        "dotnet_interactive": {
          "language": "csharp"
        }
      },
      "source": [
        "// The Session column can't be serialized,\n",
        "// we have to remove it\n",
        "List<string> AllCols = SessTab.GetColumnNames().ToList();\n",
        "AllCols.Remove(\"Session\");"
      ],
      "outputs": []
    },
    {
      "cell_type": "code",
      "execution_count": 1,
      "metadata": {
        "dotnet_interactive": {
          "language": "csharp"
        }
      },
      "source": [
        "SessTab = SessTab.ExtractColumns(AllCols.ToArray());"
      ],
      "outputs": []
    },
    {
      "cell_type": "code",
      "execution_count": 1,
      "metadata": {
        "dotnet_interactive": {
          "language": "csharp"
        }
      },
      "source": [
        "AllCols"
      ],
      "outputs": []
    },
    {
      "cell_type": "code",
      "execution_count": 1,
      "metadata": {
        "dotnet_interactive": {
          "language": "csharp"
        }
      },
      "source": [
        "//Checking if table contains all information\n",
        "var SubTab_1 = SessTab.ExtractColumns(\"Grid:NoOfCells\",\"SlvIter_excl\",\"NonlinearSolve\",\"LinearSolve\",\"NoOfMultigridLevels\",\"DGdegree:Velocity*\",\"RegularTerminated\");"
      ],
      "outputs": []
    },
    {
      "cell_type": "code",
      "execution_count": 1,
      "metadata": {
        "dotnet_interactive": {
          "language": "csharp"
        }
      },
      "source": [
        "SubTab_1.Print();"
      ],
      "outputs": []
    },
    {
      "cell_type": "code",
      "execution_count": 1,
      "metadata": {
        "dotnet_interactive": {
          "language": "csharp"
        }
      },
      "source": [
        "using System.IO;"
      ],
      "outputs": []
    },
    {
      "cell_type": "code",
      "execution_count": 1,
      "metadata": {
        "dotnet_interactive": {
          "language": "csharp"
        }
      },
      "source": [
        "// Filename\n",
        "var now           = DateTime.Now;\n",
        "SessTab.TableName = \"SolverRuns--\" + now.Year + \"-\" + now.Month + \"-\" + now.Day;\n",
        "string docpath    = Path.Combine(CurrentDocDir, SessTab.TableName + \".json\");"
      ],
      "outputs": []
    },
    {
      "cell_type": "code",
      "execution_count": 1,
      "metadata": {
        "dotnet_interactive": {
          "language": "csharp"
        }
      },
      "source": [
        "// save session table as file: this can be stored in our git \n",
        "// repository\n",
        "SessTab.SaveToFile(docpath);"
      ],
      "outputs": []
    },
    {
      "cell_type": "code",
      "execution_count": 1,
      "metadata": {
        "dotnet_interactive": {
          "language": "csharp"
        }
      },
      "source": [
        ""
      ],
      "outputs": []
    },
    {
      "cell_type": "code",
      "execution_count": 1,
      "metadata": {
        "dotnet_interactive": {
          "language": "csharp"
        }
      },
      "source": [
        ""
      ],
      "outputs": []
    },
    {
      "cell_type": "code",
      "execution_count": 1,
      "metadata": {
        "dotnet_interactive": {
          "language": "csharp"
        }
      },
      "source": [
        ""
      ],
      "outputs": []
    },
    {
      "cell_type": "code",
      "execution_count": 1,
      "metadata": {
        "dotnet_interactive": {
          "language": "csharp"
        }
      },
      "source": [
        ""
      ],
      "outputs": []
    },
    {
      "cell_type": "code",
      "execution_count": 1,
      "metadata": {
        "dotnet_interactive": {
          "language": "csharp"
        }
      },
      "source": [
        ""
      ],
      "outputs": []
    },
    {
      "cell_type": "code",
      "execution_count": 1,
      "metadata": {
        "dotnet_interactive": {
          "language": "csharp"
        }
      },
      "source": [
        ""
      ],
      "outputs": []
    },
    {
      "cell_type": "code",
      "execution_count": 1,
      "metadata": {
        "dotnet_interactive": {
          "language": "csharp"
        }
      },
      "source": [
        ""
      ],
      "outputs": []
    },
    {
      "cell_type": "code",
      "execution_count": 1,
      "metadata": {
        "dotnet_interactive": {
          "language": "csharp"
        }
      },
      "source": [
        ""
      ],
      "outputs": []
    },
    {
      "cell_type": "code",
      "execution_count": 1,
      "metadata": {
        "dotnet_interactive": {
          "language": "csharp"
        }
      },
      "source": [
        ""
      ],
      "outputs": []
    }
  ],
  "metadata": {
    "kernelspec": {
      "display_name": ".NET (C#)",
      "language": "C#",
      "name": ".net-csharp"
    },
    "language_info": {
      "file_extension": ".cs",
      "mimetype": "text/x-csharp",
      "name": "C#",
      "pygments_lexer": "csharp",
      "version": "8.0"
    }
  },
  "nbformat": 4,
  "nbformat_minor": 4
}