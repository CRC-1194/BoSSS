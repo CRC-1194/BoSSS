{
 "cells": [
  {
   "cell_type": "markdown",
   "metadata": {},
   "source": [
    "# Note on solution depencence of polynomial degree"
   ]
  },
  {
   "cell_type": "markdown",
   "metadata": {},
   "source": [
    "This small study war born out ouf a problem when trying to develop multigrid solvers for steady-state XDG Stokes problems.\n",
    "For the example used as a benchmark, the p-multigrid approach does not seem to work.\n",
    "The main idea here is to use the solution with a low polynomial degree (e.g. degree 1, $k = 1$)\n",
    "as an initial guess for a higher polynomial degree (most simple, $k = 2$). \n",
    "Then, the multigrid approach iterates back and forth between the coarse and the fine solution.\n",
    "To obtain a \"working\" multigrid method, i.e. a fast convergence of the method (in a handful of iterations) \n",
    "it is required that in the first iteration, the $k = 1$-solution is already a good approximation to the $k = 2$ solution.\n",
    "\n",
    "This might not always be the case and prevents the multigrid method from working.\n",
    "The example in below is such a case."
   ]
  },
  {
   "cell_type": "code",
   "execution_count": null,
   "metadata": {
    "dotnet_interactive": {
     "language": "csharp"
    }
   },
   "outputs": [],
   "source": [
    "#r \"BoSSSpad.dll\"\n",
    "using System;\n",
    "using System.Collections.Generic;\n",
    "using System.Linq;\n",
    "using ilPSP;\n",
    "using ilPSP.Utils;\n",
    "using BoSSS.Platform;\n",
    "using BoSSS.Platform.LinAlg;\n",
    "using BoSSS.Foundation;\n",
    "using BoSSS.Foundation.XDG;\n",
    "using BoSSS.Foundation.Grid;\n",
    "using BoSSS.Foundation.Grid.Classic;\n",
    "using BoSSS.Foundation.Grid.RefElements;\n",
    "using BoSSS.Foundation.IO;\n",
    "using BoSSS.Solution;\n",
    "using BoSSS.Solution.Control;\n",
    "using BoSSS.Solution.GridImport;\n",
    "using BoSSS.Solution.Statistic;\n",
    "using BoSSS.Solution.Utils;\n",
    "using BoSSS.Solution.AdvancedSolvers;\n",
    "using BoSSS.Solution.Gnuplot;\n",
    "using BoSSS.Application.BoSSSpad;\n",
    "using BoSSS.Application.XNSE_Solver;\n",
    "using BoSSS.Application.XNSFE_Solver;\n",
    "using static BoSSS.Application.BoSSSpad.BoSSSshell;\n",
    "Init();"
   ]
  },
  {
   "cell_type": "markdown",
   "metadata": {},
   "source": [
    "## Setup"
   ]
  },
  {
   "cell_type": "code",
   "execution_count": null,
   "metadata": {},
   "outputs": [],
   "source": [
    "using BoSSS.Solution.XNSECommon;"
   ]
  },
  {
   "cell_type": "markdown",
   "metadata": {},
   "source": [
    "Grid resolutions and polynomial degrees:"
   ]
  },
  {
   "cell_type": "code",
   "execution_count": null,
   "metadata": {},
   "outputs": [],
   "source": [
    "int[] GridReS = new int[] { 8, 16, 32, 64, 128, 256 };\n",
    "int[] DegreeS = new int[] { 1, 2, 3, 4 };"
   ]
  },
  {
   "cell_type": "markdown",
   "metadata": {},
   "source": [
    "Note that Viscosity in both fluid phases to 1 ($\\mu = 1$), to illustrate that the effect in question \n",
    "(strong dependence of the solution on the DG polynomial degree) is not just a result of \n",
    "large parameter jumps.\n",
    "Density is also set to 1; However, in steady-state Stokes simulations, density has no effect, since the momentum equation reduces to $\\nabla p = \\mu \\Delta \\vec{u}$ and no density is present in the equation."
   ]
  },
  {
   "cell_type": "code",
   "execution_count": null,
   "metadata": {},
   "outputs": [],
   "source": [
    "XNSE_Control GetControl(int Res, int k) {\n",
    "    var C = new XNSE_Control();\n",
    "\n",
    "    C.savetodb = false;\n",
    "    C.SetDGdegree(k);\n",
    "\n",
    "    // Air - Water: \n",
    "    //C.PhysicalParameters.rho_A = 1e3;\n",
    "    //C.PhysicalParameters.rho_B = 1.2;\n",
    "    //C.PhysicalParameters.mu_A = 1e-3;\n",
    "    //C.PhysicalParameters.mu_B = 17.1e-6;\n",
    "    C.PhysicalParameters.Sigma = 72.75e-3;\n",
    "\n",
    "    C.PhysicalParameters.rho_A = 1;\n",
    "    C.PhysicalParameters.mu_A = 1;\n",
    "    C.PhysicalParameters.rho_B = C.PhysicalParameters.rho_A;\n",
    "    C.PhysicalParameters.mu_B = C.PhysicalParameters.mu_A;\n",
    "            \n",
    "    C.PhysicalParameters.IncludeConvection = false;\n",
    "    C.PhysicalParameters.Material = true;\n",
    "\n",
    "    double Lscale = 0.01;\n",
    "    double L = 2.0 * Lscale;\n",
    "\n",
    "    C.GridFunc = delegate () {\n",
    "        double[] Xnodes = GenericBlas.Linspace(-(L / 2.0), (L / 2.0), Res + 1);\n",
    "        double[] Ynodes = GenericBlas.Linspace(-(L / 2.0), (L / 2.0), Res + 1);\n",
    "        var grd = Grid2D.Cartesian2DGrid(Xnodes, Ynodes);\n",
    "\n",
    "        grd.DefineEdgeTags(delegate (double[] X) {\n",
    "            if (Math.Abs(X[1] + (L / 2.0)) <= 1.0e-8)\n",
    "                return \"wall\";\n",
    "            if (Math.Abs(X[1] - (L / 2.0)) <= 1.0e-8)\n",
    "                return \"wall\";\n",
    "            if (Math.Abs(X[0] + (L / 2.0)) <= 1.0e-8)\n",
    "                return \"wall\";\n",
    "            if (Math.Abs(X[0] - (L / 2.0)) <= 1.0e-8)\n",
    "                return\"wall\";\n",
    "            throw new ArgumentException(\"unable to detect boundary\");\n",
    "        });\n",
    "\n",
    "        return grd;\n",
    "    };\n",
    "\n",
    "    C.AddBoundaryValue(\"wall\");\n",
    "\n",
    "    double r = 0.25 * Lscale;\n",
    "    double asym = 1e-2;\n",
    "    double a = (1 + asym) * r;\n",
    "    double b = (1 - asym) * r;\n",
    "\n",
    "    Func<double[], double> PhiFunc = (X => ((X[0] - 0.0).Pow2() / a.Pow2() + (X[1] - 0.0).Pow2() / b.Pow2()) - 1);          // ellipse                     \n",
    "    C.InitialValues_Evaluators.Add(\"Phi\", PhiFunc);\n",
    "\n",
    "    C.LSContiProjectionMethod = BoSSS.Solution.LevelSetTools.ContinuityProjectionOption.ConstrainedDG;\n",
    "    C.AdvancedDiscretizationOptions.ViscosityMode = ViscosityMode.FullySymmetric;\n",
    "\n",
    "    C.AdvancedDiscretizationOptions.SST_isotropicMode = SurfaceStressTensor_IsotropicMode.LaplaceBeltrami_Flux;\n",
    "    C.AdvancedDiscretizationOptions.SurfStressTensor = SurfaceSressTensor.Isotropic;\n",
    "\n",
    "    C.LinearSolver = LinearSolverCode.direct_pardiso.GetConfig();\n",
    "\n",
    "    C.TimesteppingMode = AppControl._TimesteppingMode.Steady;\n",
    "    return C;\n",
    "}"
   ]
  },
  {
   "cell_type": "code",
   "execution_count": null,
   "metadata": {},
   "outputs": [],
   "source": []
  },
  {
   "cell_type": "code",
   "execution_count": null,
   "metadata": {},
   "outputs": [],
   "source": [
    "(double vel_Range, double p_Range) MyRun(AppControl ctrl) {\n",
    "    var solverClass = ctrl.GetSolverType();\n",
    "    object solver = Activator.CreateInstance(solverClass);\n",
    "\n",
    "    var app = (BoSSS.Application.XNSE_Solver.XNSE<XNSE_Control>) solver;\n",
    "    app.Init(ctrl);\n",
    "    app.RunSolverMode();\n",
    "\n",
    "    app.Velocity[0].GetExtremalValues(out double u_min, out double u_max);\n",
    "    app.Velocity[1].GetExtremalValues(out double v_min, out double v_max);\n",
    "    \n",
    "    app.Pressure.GetExtremalValues(out double p_min, out double p_max);\n",
    "    double vel_Range = Math.Max(Math.Abs(u_max - u_min), Math.Abs(v_max - v_min));\n",
    "    double p_Range = Math.Abs(p_max - p_min);\n",
    "    \n",
    "    \n",
    "    Console.WriteLine($\"  vel-range: {vel_Range:e4} \\tp-range: {p_Range:e4}\");\n",
    "    \n",
    "    app.Dispose();\n",
    "    \n",
    "    return (vel_Range, p_Range);\n",
    "}"
   ]
  },
  {
   "cell_type": "markdown",
   "metadata": {},
   "source": [
    "## Execution of runs\n",
    "\n",
    "Note that, to limit computational costs, for higher polynomial degrees, high resolutions are skipped."
   ]
  },
  {
   "cell_type": "code",
   "execution_count": null,
   "metadata": {},
   "outputs": [],
   "source": [
    "double[][] vel_Ranges = new double[DegreeS.Length][];\n",
    "double[][] p_Range = new double[DegreeS.Length][];"
   ]
  },
  {
   "cell_type": "code",
   "execution_count": null,
   "metadata": {},
   "outputs": [],
   "source": [
    "for(int i = 0; i < DegreeS.Length; i++) {\n",
    "    int k = DegreeS[i];\n",
    "    \n",
    "    vel_Ranges[i] = new double[GridReS.Length];\n",
    "    p_Range[i] = new double[GridReS.Length];\n",
    "    \n",
    "    int Count = 0;\n",
    "    for(int j = 0; j < GridReS.Length; j++) {\n",
    "        int res = GridReS[j];\n",
    "        // skip some expensive runs\n",
    "        if(k >= 2 && res > 64)\n",
    "            continue;\n",
    "        if(k >= 3 && res > 32)\n",
    "            continue;\n",
    "        Count++;\n",
    "        var C = GetControl(res, k);\n",
    "        (vel_Ranges[i][j], p_Range[i][j]) = MyRun(C);\n",
    "    }\n",
    "    \n",
    "    Array.Resize(ref vel_Ranges[i], Count);\n",
    "    Array.Resize(ref p_Range[i], Count);\n",
    "}"
   ]
  },
  {
   "cell_type": "markdown",
   "metadata": {},
   "source": [
    "## Results and Discussion"
   ]
  },
  {
   "cell_type": "markdown",
   "metadata": {},
   "source": [
    "### Velocity range"
   ]
  },
  {
   "cell_type": "code",
   "execution_count": null,
   "metadata": {},
   "outputs": [],
   "source": [
    "Plot(GridReS.Select(res => Math.Log10(res)).Take(vel_Ranges[0].Length), vel_Ranges[0], \"k = 1\", \"-xr\",\n",
    "     GridReS.Select(res => Math.Log10(res)).Take(vel_Ranges[1].Length), vel_Ranges[1], \"k = 2\", \"-ob\",\n",
    "     GridReS.Select(res => Math.Log10(res)).Take(vel_Ranges[2].Length), vel_Ranges[2], \"k = 3\", \"-+c\",\n",
    "     GridReS.Select(res => Math.Log10(res)).Take(vel_Ranges[3].Length), vel_Ranges[3], \"k = 4\", \"-*m\")"
   ]
  },
  {
   "cell_type": "markdown",
   "metadata": {},
   "source": [
    "One observes a huge difference between different polynomial degrees for coarse meshes, \n",
    "especially for k = 1.\n",
    "This indicates that a p-multigrid (resp. two-grid) method, \n",
    "which uses e.g. k = 2 as a fine resolution and k = 1 as a coarse solution would probably never work."
   ]
  },
  {
   "cell_type": "markdown",
   "metadata": {},
   "source": [
    "### Pressure range"
   ]
  },
  {
   "cell_type": "code",
   "execution_count": null,
   "metadata": {},
   "outputs": [],
   "source": [
    "Plot(GridReS.Select(res => Math.Log10(res)).Take(p_Range[0].Length), p_Range[0], \"k = 1\", \"-xr\",\n",
    "     GridReS.Select(res => Math.Log10(res)).Take(p_Range[1].Length), p_Range[1], \"k = 2\", \"-ob\",\n",
    "     GridReS.Select(res => Math.Log10(res)).Take(p_Range[2].Length), p_Range[2], \"k = 3\", \"-+c\",\n",
    "     GridReS.Select(res => Math.Log10(res)).Take(p_Range[3].Length), p_Range[3], \"k = 4\", \"-*m\")"
   ]
  },
  {
   "cell_type": "markdown",
   "metadata": {},
   "source": [
    "Surprisingly, one observes that for the pressure the situation is not nearly as severe as for the velocity. \n",
    "Even for low resolutions, the pressure range is in a very close range."
   ]
  },
  {
   "cell_type": "code",
   "execution_count": null,
   "metadata": {},
   "outputs": [],
   "source": []
  }
 ],
 "metadata": {
  "kernelspec": {
   "display_name": ".NET (C#)",
   "language": "C#",
   "name": ".net-csharp"
  },
  "language_info": {
   "file_extension": ".cs",
   "mimetype": "text/x-csharp",
   "name": "C#",
   "pygments_lexer": "csharp",
   "version": "9.0"
  }
 },
 "nbformat": 4,
 "nbformat_minor": 4
}
