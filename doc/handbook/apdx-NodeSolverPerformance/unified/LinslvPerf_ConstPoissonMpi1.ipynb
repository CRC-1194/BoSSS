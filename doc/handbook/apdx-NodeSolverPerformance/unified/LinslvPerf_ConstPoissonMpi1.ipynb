{
 "cells": [
  {
   "cell_type": "markdown",
   "metadata": {},
   "source": [
    "# Linear Solver Performance: Constant Coefficient Poisson, Single Core\n",
    "\n",
    "### Part 1, Benchmark Setup and Execution"
   ]
  },
  {
   "cell_type": "code",
   "execution_count": 1,
   "metadata": {
    "dotnet_interactive": {
     "language": "csharp"
    }
   },
   "outputs": [
    {
     "data": {
      "text/html": [
       "\r\n",
       "<div>\r\n",
       "    <div id='dotnet-interactive-this-cell-32776.Microsoft.DotNet.Interactive.Http.HttpPort' style='display: none'>\r\n",
       "        The below script needs to be able to find the current output cell; this is an easy method to get it.\r\n",
       "    </div>\r\n",
       "    <script type='text/javascript'>\r\n",
       "async function probeAddresses(probingAddresses) {\r\n",
       "    function timeout(ms, promise) {\r\n",
       "        return new Promise(function (resolve, reject) {\r\n",
       "            setTimeout(function () {\r\n",
       "                reject(new Error('timeout'))\r\n",
       "            }, ms)\r\n",
       "            promise.then(resolve, reject)\r\n",
       "        })\r\n",
       "    }\r\n",
       "\r\n",
       "    if (Array.isArray(probingAddresses)) {\r\n",
       "        for (let i = 0; i < probingAddresses.length; i++) {\r\n",
       "\r\n",
       "            let rootUrl = probingAddresses[i];\r\n",
       "\r\n",
       "            if (!rootUrl.endsWith('/')) {\r\n",
       "                rootUrl = `${rootUrl}/`;\r\n",
       "            }\r\n",
       "\r\n",
       "            try {\r\n",
       "                let response = await timeout(1000, fetch(`${rootUrl}discovery`, {\r\n",
       "                    method: 'POST',\r\n",
       "                    cache: 'no-cache',\r\n",
       "                    mode: 'cors',\r\n",
       "                    timeout: 1000,\r\n",
       "                    headers: {\r\n",
       "                        'Content-Type': 'text/plain'\r\n",
       "                    },\r\n",
       "                    body: probingAddresses[i]\r\n",
       "                }));\r\n",
       "\r\n",
       "                if (response.status == 200) {\r\n",
       "                    return rootUrl;\r\n",
       "                }\r\n",
       "            }\r\n",
       "            catch (e) { }\r\n",
       "        }\r\n",
       "    }\r\n",
       "}\r\n",
       "\r\n",
       "function loadDotnetInteractiveApi() {\r\n",
       "    probeAddresses([\"http://130.83.248.207:1000/\", \"http://127.0.0.1:1000/\"])\r\n",
       "        .then((root) => {\r\n",
       "        // use probing to find host url and api resources\r\n",
       "        // load interactive helpers and language services\r\n",
       "        let dotnetInteractiveRequire = require.config({\r\n",
       "        context: '32776.Microsoft.DotNet.Interactive.Http.HttpPort',\r\n",
       "                paths:\r\n",
       "            {\r\n",
       "                'dotnet-interactive': `${root}resources`\r\n",
       "                }\r\n",
       "        }) || require;\r\n",
       "\r\n",
       "            window.dotnetInteractiveRequire = dotnetInteractiveRequire;\r\n",
       "\r\n",
       "            window.configureRequireFromExtension = function(extensionName, extensionCacheBuster) {\r\n",
       "                let paths = {};\r\n",
       "                paths[extensionName] = `${root}extensions/${extensionName}/resources/`;\r\n",
       "                \r\n",
       "                let internalRequire = require.config({\r\n",
       "                    context: extensionCacheBuster,\r\n",
       "                    paths: paths,\r\n",
       "                    urlArgs: `cacheBuster=${extensionCacheBuster}`\r\n",
       "                    }) || require;\r\n",
       "\r\n",
       "                return internalRequire\r\n",
       "            };\r\n",
       "        \r\n",
       "            dotnetInteractiveRequire([\r\n",
       "                    'dotnet-interactive/dotnet-interactive'\r\n",
       "                ],\r\n",
       "                function (dotnet) {\r\n",
       "                    dotnet.init(window);\r\n",
       "                },\r\n",
       "                function (error) {\r\n",
       "                    console.log(error);\r\n",
       "                }\r\n",
       "            );\r\n",
       "        })\r\n",
       "        .catch(error => {console.log(error);});\r\n",
       "    }\r\n",
       "\r\n",
       "// ensure `require` is available globally\r\n",
       "if ((typeof(require) !==  typeof(Function)) || (typeof(require.config) !== typeof(Function))) {\r\n",
       "    let require_script = document.createElement('script');\r\n",
       "    require_script.setAttribute('src', 'https://cdnjs.cloudflare.com/ajax/libs/require.js/2.3.6/require.min.js');\r\n",
       "    require_script.setAttribute('type', 'text/javascript');\r\n",
       "    \r\n",
       "    \r\n",
       "    require_script.onload = function() {\r\n",
       "        loadDotnetInteractiveApi();\r\n",
       "    };\r\n",
       "\r\n",
       "    document.getElementsByTagName('head')[0].appendChild(require_script);\r\n",
       "}\r\n",
       "else {\r\n",
       "    loadDotnetInteractiveApi();\r\n",
       "}\r\n",
       "\r\n",
       "    </script>\r\n",
       "</div>"
      ]
     },
     "metadata": {},
     "output_type": "display_data"
    },
    {
     "name": "stdout",
     "output_type": "stream",
     "text": [
      "Execution Date/time is 5/24/2022 6:46:09 AM\r\n"
     ]
    }
   ],
   "source": [
    "Console.WriteLine(\"Execution Date/time is \" + DateTime.Now);"
   ]
  },
  {
   "cell_type": "code",
   "execution_count": 2,
   "metadata": {
    "dotnet_interactive": {
     "language": "csharp"
    }
   },
   "outputs": [],
   "source": [
    "#r \"BoSSSpad.dll\"\n",
    "//#r \"../../../../src/L4-application/BoSSSpad/bin/Debug/net5.0/BoSSSpad.dll\"\n",
    "using System;\n",
    "using System.Collections.Generic;\n",
    "using System.Linq;\n",
    "using ilPSP;\n",
    "using ilPSP.Utils;\n",
    "using BoSSS.Platform;\n",
    "using BoSSS.Platform.LinAlg;\n",
    "using BoSSS.Foundation;\n",
    "using BoSSS.Foundation.XDG;\n",
    "using BoSSS.Foundation.Grid;\n",
    "using BoSSS.Foundation.Grid.Classic;\n",
    "using BoSSS.Foundation.Grid.RefElements;\n",
    "using BoSSS.Foundation.IO;\n",
    "using BoSSS.Solution;\n",
    "using BoSSS.Solution.Control;\n",
    "using BoSSS.Solution.GridImport;\n",
    "using BoSSS.Solution.Statistic;\n",
    "using BoSSS.Solution.Utils;\n",
    "using BoSSS.Solution.AdvancedSolvers;\n",
    "using BoSSS.Solution.Gnuplot;\n",
    "using BoSSS.Application.BoSSSpad;\n",
    "using BoSSS.Application.XNSE_Solver;\n",
    "using static BoSSS.Application.BoSSSpad.BoSSSshell;\n",
    "Init();"
   ]
  },
  {
   "cell_type": "code",
   "execution_count": 3,
   "metadata": {
    "dotnet_interactive": {
     "language": "csharp"
    }
   },
   "outputs": [],
   "source": [
    "using BoSSS.Application.SipPoisson;"
   ]
  },
  {
   "cell_type": "code",
   "execution_count": 4,
   "metadata": {
    "dotnet_interactive": {
     "language": "csharp"
    }
   },
   "outputs": [
    {
     "name": "stdout",
     "output_type": "stream",
     "text": [
      "Project name is set to 'WIP-k-LinslvPerfSer'.\n",
      "Opening existing database '\\\\fdygitrunner\\ValidationTests\\WIP-k-LinslvPerfSer'.\n"
     ]
    },
    {
     "data": {
      "text/plain": []
     },
     "execution_count": 4,
     "metadata": {},
     "output_type": "execute_result"
    }
   ],
   "source": [
    "wmg.Init(\"WIP-k-LinslvPerfSer\");\n",
    "wmg.SetNameBasedSessionJobControlCorrelation();\n",
    "wmg.AllJobs"
   ]
  },
  {
   "cell_type": "code",
   "execution_count": 5,
   "metadata": {
    "dotnet_interactive": {
     "language": "csharp"
    }
   },
   "outputs": [
    {
     "data": {
      "text/html": [
       "<table><thead><tr><th><i>index</i></th><th>RuntimeLocation</th><th>DeploymentBaseDirectory</th><th>DeployRuntime</th><th>Name</th><th>DotnetRuntime</th><th>Username</th><th>ServerName</th><th>ComputeNodes</th><th>DefaultJobPriority</th><th>SingleNode</th><th>AllowedDatabasesPaths</th></tr></thead><tbody><tr><td>0</td><td>win\\amd64</td><td>C:\\BoSSStests</td><td>False</td><td>MSHPC-Gitrunner-HighPrio</td><td>dotnet</td><td>FDY\\jenkinsci</td><td>DC2</td><td>[ fdygitrunner ]</td><td>Highest</td><td>True</td><td>[ C:\\BoSSStests == , C:\\Users\\jenkinsci\\ ==  ]</td></tr><tr><td>1</td><td>win\\amd64</td><td>\\\\fdygitrunner\\BoSSStests</td><td>False</td><td>MSHPC-Gitrunner-DefaultTest</td><td>dotnet</td><td>FDY\\jenkinsci</td><td>DC2</td><td>[ hpccluster, fdygitrunner, hpcluster3, hpccluster2 ]</td><td>Normal</td><td>True</td><td>[ \\\\fdygitrunner\\BoSSStests ==  ]</td></tr><tr><td>2</td><td>win\\amd64</td><td>\\\\fdygitrunner\\ValidationTests</td><td>True</td><td>MSHPC-AllNodes</td><td>dotnet</td><td>FDY\\jenkinsci</td><td>DC2</td><td>[ hpccluster, hpccluster2, hpcluster3, fdygitrunner ]</td><td>Normal</td><td>True</td><td>[ \\\\fdygitrunner\\ValidationTests ==  ]</td></tr><tr><td>3</td><td>win\\amd64</td><td>\\\\fdygitrunner\\ValidationTests</td><td>True</td><td>MSHPC-FastNodes</td><td>dotnet</td><td>FDY\\jenkinsci</td><td>DC2</td><td>[ hpcluster3 ]</td><td>Normal</td><td>True</td><td>[ \\\\fdygitrunner\\ValidationTests ==  ]</td></tr></tbody></table>"
      ]
     },
     "execution_count": 5,
     "metadata": {},
     "output_type": "execute_result"
    }
   ],
   "source": [
    "ExecutionQueues"
   ]
  },
  {
   "cell_type": "markdown",
   "metadata": {},
   "source": [
    "Queue which will be used:"
   ]
  },
  {
   "cell_type": "code",
   "execution_count": 6,
   "metadata": {},
   "outputs": [
    {
     "data": {
      "text/html": [
       "<table><thead><tr><th>RuntimeLocation</th><th>DeploymentBaseDirectory</th><th>DeployRuntime</th><th>Name</th><th>DotnetRuntime</th><th>Username</th><th>ServerName</th><th>ComputeNodes</th><th>DefaultJobPriority</th><th>SingleNode</th><th>AllowedDatabasesPaths</th></tr></thead><tbody><tr><td><div class=\"dni-plaintext\">win\\amd64</div></td><td><div class=\"dni-plaintext\">\\\\fdygitrunner\\ValidationTests</div></td><td><div class=\"dni-plaintext\">True</div></td><td><div class=\"dni-plaintext\">MSHPC-AllNodes</div></td><td><div class=\"dni-plaintext\">dotnet</div></td><td><div class=\"dni-plaintext\">FDY\\jenkinsci</div></td><td><div class=\"dni-plaintext\">DC2</div></td><td><div class=\"dni-plaintext\">[ hpccluster, hpccluster2, hpcluster3, fdygitrunner ]</div></td><td><div class=\"dni-plaintext\">Normal</div></td><td><div class=\"dni-plaintext\">True</div></td><td><div class=\"dni-plaintext\">[ \\\\fdygitrunner\\ValidationTests ==  ]</div></td></tr></tbody></table>"
      ]
     },
     "execution_count": 6,
     "metadata": {},
     "output_type": "execute_result"
    }
   ],
   "source": [
    "GetDefaultQueue()"
   ]
  },
  {
   "cell_type": "markdown",
   "metadata": {
    "dotnet_interactive": {
     "language": "csharp"
    }
   },
   "source": [
    "## Utility definitions"
   ]
  },
  {
   "cell_type": "code",
   "execution_count": 7,
   "metadata": {
    "dotnet_interactive": {
     "language": "csharp"
    }
   },
   "outputs": [],
   "source": [
    "static class Utils {\n",
    "    // DOF per cell in 3D\n",
    "    public static int Np(int p) {\n",
    "        return (p*p*p + 6*p*p + 11*p + 6)/6;\n",
    "    }    \n",
    "    \n",
    "    //Non-equidistant nodes\n",
    "    public static double[] SinLinSpacing(double l, double r, double a, int n) {\n",
    "        double[] linnodes = GenericBlas.Linspace(-Math.PI * 0.5, Math.PI * 0.5, n);\n",
    "        double[] linnodes2 = GenericBlas.Linspace(-1, 1, n);\n",
    "        double[] nodes = new double[n];\n",
    "\n",
    "        for (int i = 0; i < n; i++)\n",
    "            //nodes[i] = linnodes2[i] * (1 - a) + (1.0 - Math.Sin(linnodes[i])) * a;\n",
    "            nodes[i] = linnodes2[i] * (1 - a) + Math.Sin(linnodes[i])*a;\n",
    "\n",
    "        for (int i = 0; i < n; i++)\n",
    "            nodes[i] = nodes[i] * (r - l)*0.5 + l;\n",
    "        return nodes;\n",
    "    }\n",
    "}"
   ]
  },
  {
   "cell_type": "markdown",
   "metadata": {
    "dotnet_interactive": {
     "language": "csharp"
    }
   },
   "source": [
    "## Init grids and save to database"
   ]
  },
  {
   "cell_type": "code",
   "execution_count": 8,
   "metadata": {
    "dotnet_interactive": {
     "language": "csharp"
    }
   },
   "outputs": [
    {
     "name": "stdout",
     "output_type": "stream",
     "text": [
      "Opening existing database 'C:\\BoSSStests\\WIP-k-LinslvPerfSer'.\r\n"
     ]
    },
    {
     "data": {
      "text/plain": [
       "#0: { Guid = 594ff2ad-dc94-481e-807b-31f46e1519cd; Name = WIP-k-LinslvPerfSer-SIP_Poisson_J1310720; Cell Count = 1310720; Dim = 3 }\r\n",
       "#1: { Guid = 735a9e2d-67ce-41b8-aa97-d38ce827238c; Name = WIP-k-LinslvPerfSer-SIP_Poisson_J552960; Cell Count = 552960; Dim = 3 }\r\n",
       "#2: { Guid = 5f9955a3-954e-44e5-ae82-5f7e451b5c10; Name = WIP-k-LinslvPerfSer-SIP_Poisson_J163840; Cell Count = 163840; Dim = 3 }\r\n",
       "#3: { Guid = ee953445-5c67-44c5-8ec9-8a4a70f92431; Name = WIP-k-LinslvPerfSer-SIP_Poisson_J69120; Cell Count = 69120; Dim = 3 }\r\n",
       "#4: { Guid = 6162fb52-04e2-4fa2-a719-cd2d4d4d8ee7; Name = WIP-k-LinslvPerfSer-SIP_Poisson_J20480; Cell Count = 20480; Dim = 3 }\r\n",
       "#5: { Guid = 2cb2c452-9e53-4aee-863f-e4ffcf87da43; Name = WIP-k-LinslvPerfSer-SIP_Poisson_J2560; Cell Count = 2560; Dim = 3 }\r\n",
       "#6: { Guid = 43a10f77-866f-4a1d-a06e-99ee6bcc0617; Name = WIP-k-LinslvPerfSer-SIP_Poisson_J320; Cell Count = 320; Dim = 3 }\r\n"
      ]
     },
     "execution_count": 8,
     "metadata": {},
     "output_type": "execute_result"
    }
   ],
   "source": [
    "wmg.Grids"
   ]
  },
  {
   "cell_type": "code",
   "execution_count": 9,
   "metadata": {},
   "outputs": [],
   "source": [
    "//wmg.Grids.Skip(17).ForEach(g => g.Delete(true));"
   ]
  },
  {
   "cell_type": "markdown",
   "metadata": {},
   "source": [
    "Create meshes in various resolutions:\n",
    "- domain $\\Omega = (0,10) \\times (-1,1) \\times (-1,1)$; \n",
    "- a Dirichlet boundary is set for $x = 0$, everywhere else Neumann boundaries are assumed; \n",
    "  these are typically more challenging for a linear solver than Dirichlet boundaries.\n",
    "- in order to make the problem a bit challenging, a non-equidistant spacing for $y$ and $z$ coordinate are used\n",
    "- the domain shape is reminiscent of a typical grid for the simulation of channel flows, with exception of the boundary conditions"
   ]
  },
  {
   "cell_type": "code",
   "execution_count": 10,
   "metadata": {
    "dotnet_interactive": {
     "language": "csharp"
    }
   },
   "outputs": [
    {
     "name": "stdout",
     "output_type": "stream",
     "text": [
      "Found Grid: { Guid = 43a10f77-866f-4a1d-a06e-99ee6bcc0617; Name = WIP-k-LinslvPerfSer-SIP_Poisson_J320; Cell Count = 320; Dim = 3 }\n",
      "Found Grid: { Guid = 2cb2c452-9e53-4aee-863f-e4ffcf87da43; Name = WIP-k-LinslvPerfSer-SIP_Poisson_J2560; Cell Count = 2560; Dim = 3 }\n",
      "Found Grid: { Guid = 6162fb52-04e2-4fa2-a719-cd2d4d4d8ee7; Name = WIP-k-LinslvPerfSer-SIP_Poisson_J20480; Cell Count = 20480; Dim = 3 }\n",
      "Found Grid: { Guid = ee953445-5c67-44c5-8ec9-8a4a70f92431; Name = WIP-k-LinslvPerfSer-SIP_Poisson_J69120; Cell Count = 69120; Dim = 3 }\n",
      "Found Grid: { Guid = 5f9955a3-954e-44e5-ae82-5f7e451b5c10; Name = WIP-k-LinslvPerfSer-SIP_Poisson_J163840; Cell Count = 163840; Dim = 3 }\n",
      "Found Grid: { Guid = 735a9e2d-67ce-41b8-aa97-d38ce827238c; Name = WIP-k-LinslvPerfSer-SIP_Poisson_J552960; Cell Count = 552960; Dim = 3 }\n",
      "Found Grid: { Guid = 594ff2ad-dc94-481e-807b-31f46e1519cd; Name = WIP-k-LinslvPerfSer-SIP_Poisson_J1310720; Cell Count = 1310720; Dim = 3 }\n"
     ]
    }
   ],
   "source": [
    "int[] Resolutions_3D = new int[] { 4, 8, 16, 24, 32, 48, 64 };\n",
    "IGridInfo[] grids = new IGridInfo[Resolutions_3D.Length];\n",
    "\n",
    "for(int cnt = 0; cnt < Resolutions_3D.Length; cnt++) {\n",
    "    int Res = Resolutions_3D[cnt];    \n",
    "    \n",
    "    double[] xNodes = GenericBlas.Linspace(0, 10, Res*5 + 1);\n",
    "    double[] yNodes = Utils.SinLinSpacing(-1, +1, 0.6, Res + 1);\n",
    "    double[] zNodes = Utils.SinLinSpacing(-1, +1, 0.6, Res + 1);\n",
    "    int J = (xNodes.Length - 1)*(yNodes.Length - 1)*(zNodes.Length - 1);\n",
    "    \n",
    "    string GridName = wmg.CurrentProject + \"-SIP_Poisson_J\" + J;\n",
    "    \n",
    "    //grids[cnt] = null;\n",
    "    //foreach(IGridInfo grd in wmg.Grids) { \n",
    "    //    bool check = grd.Name.Contains(string.Format(\"_J\"+ J));\n",
    "    //    if(check) {\n",
    "    //      grids[cnt] = grd;\n",
    "    //    }\n",
    "    //}\n",
    "    \n",
    "    grids[cnt] = wmg.Grids.SingleOrDefault(grd => grd.Name.Contains(GridName)); // check if an appropriate grid is already present in the database\n",
    "    if(grids[cnt] == null) { // \n",
    "        Console.WriteLine($\"Creating grid with {J} = {Res*5}x{Res}x{Res} cells.\");\n",
    "        \n",
    "        GridCommons g;\n",
    "        g      = Grid3D.Cartesian3DGrid(xNodes, yNodes, zNodes);\n",
    "        g.Name = GridName;\n",
    "    \n",
    "        g.DefineEdgeTags(delegate (double[] X) {\n",
    "            if(Math.Abs(X[0] - 0.0) <= 1.0e-6)\n",
    "                return BoundaryType.Dirichlet.ToString();\n",
    "            else\n",
    "                return BoundaryType.Neumann.ToString();\n",
    "        });\n",
    "      \n",
    "        g = wmg.SaveGrid(g);  \n",
    "        grids[cnt] = g;\n",
    "    } else {\n",
    "        Console.WriteLine(\"Found Grid: \" + grids[cnt]);\n",
    "        if(grids[cnt].NumberOfCells != J)\n",
    "            throw new Exception(\"J mismatch\");\n",
    "        \n",
    "        if(grids[cnt].SpatialDimension != 3)\n",
    "            throw new Exception(\"D mismatch\");\n",
    "    }\n",
    "}"
   ]
  },
  {
   "cell_type": "code",
   "execution_count": 11,
   "metadata": {
    "dotnet_interactive": {
     "language": "csharp"
    }
   },
   "outputs": [
    {
     "data": {
      "text/plain": [
       "#0: { Guid = 43a10f77-866f-4a1d-a06e-99ee6bcc0617; Name = WIP-k-LinslvPerfSer-SIP_Poisson_J320; Cell Count = 320; Dim = 3 }\r\n",
       "#1: { Guid = 2cb2c452-9e53-4aee-863f-e4ffcf87da43; Name = WIP-k-LinslvPerfSer-SIP_Poisson_J2560; Cell Count = 2560; Dim = 3 }\r\n",
       "#2: { Guid = 6162fb52-04e2-4fa2-a719-cd2d4d4d8ee7; Name = WIP-k-LinslvPerfSer-SIP_Poisson_J20480; Cell Count = 20480; Dim = 3 }\r\n",
       "#3: { Guid = ee953445-5c67-44c5-8ec9-8a4a70f92431; Name = WIP-k-LinslvPerfSer-SIP_Poisson_J69120; Cell Count = 69120; Dim = 3 }\r\n",
       "#4: { Guid = 5f9955a3-954e-44e5-ae82-5f7e451b5c10; Name = WIP-k-LinslvPerfSer-SIP_Poisson_J163840; Cell Count = 163840; Dim = 3 }\r\n",
       "#5: { Guid = 735a9e2d-67ce-41b8-aa97-d38ce827238c; Name = WIP-k-LinslvPerfSer-SIP_Poisson_J552960; Cell Count = 552960; Dim = 3 }\r\n",
       "#6: { Guid = 594ff2ad-dc94-481e-807b-31f46e1519cd; Name = WIP-k-LinslvPerfSer-SIP_Poisson_J1310720; Cell Count = 1310720; Dim = 3 }\r\n"
      ]
     },
     "execution_count": 11,
     "metadata": {},
     "output_type": "execute_result"
    }
   ],
   "source": [
    "grids"
   ]
  },
  {
   "cell_type": "markdown",
   "metadata": {
    "dotnet_interactive": {
     "language": "csharp"
    }
   },
   "source": [
    "## Setup Control Object for a Solver Run"
   ]
  },
  {
   "cell_type": "markdown",
   "metadata": {
    "dotnet_interactive": {
     "language": "csharp"
    }
   },
   "source": [
    "### Values/Formulas for the Values of RHS and Boundary Conditions"
   ]
  },
  {
   "cell_type": "code",
   "execution_count": 12,
   "metadata": {
    "dotnet_interactive": {
     "language": "csharp"
    }
   },
   "outputs": [],
   "source": [
    "string nl = System.Environment.NewLine;\n",
    "string math_expressions_code = \n",
    "\"static class InitialValues { \" +\n",
    "\"    public static double RHS(double[] X) { \" + nl +\n",
    "\"        return -Math.Sin(X[0]); \" + nl +\n",
    "\"    } \" + nl +\n",
    "\"     \" + nl +\n",
    "\"    public static double DirichletBC(double[] X) { \" + nl +\n",
    "\"        return 0.0; \" + nl +\n",
    "\"    } \" + nl +\n",
    "\"     \" + nl +\n",
    "\"    public static double NeumannBC(double[] X) { \" + nl +\n",
    "\"       if(Math.Abs(X[1] - 1.0) < 1.0e-8 || Math.Abs(X[1] + 1.0) < 1.0e-8) \" + nl +\n",
    "\"           return 0; \" + nl +\n",
    "\"       if(X.Length > 2 && (Math.Abs(X[2] - 1.0) < 1.0e-8 || Math.Abs(X[2] + 1.0) < 1.0e-8)) \" + nl +\n",
    "\"           return 0; \" + nl +\n",
    "\"     \" + nl +\n",
    "\"       return Math.Cos(10.0); \" + nl +\n",
    "\"   } \" + nl +\n",
    "\"} \" + nl;"
   ]
  },
  {
   "cell_type": "code",
   "execution_count": 13,
   "metadata": {
    "dotnet_interactive": {
     "language": "csharp"
    }
   },
   "outputs": [],
   "source": [
    "var RHS_value = new Formula(\"InitialValues.RHS\", false, math_expressions_code);\n",
    "var NeumannBC_value = new Formula(\"InitialValues.NeumannBC\", false, math_expressions_code);\n",
    "var DirichletBC_value = new ConstantValue(0.0);"
   ]
  },
  {
   "cell_type": "markdown",
   "metadata": {},
   "source": [
    "Brief test of the boundary values:"
   ]
  },
  {
   "cell_type": "code",
   "execution_count": 14,
   "metadata": {
    "dotnet_interactive": {
     "language": "csharp"
    }
   },
   "outputs": [
    {
     "data": {
      "text/html": [
       "<div class=\"dni-plaintext\">-0.19866933079506122</div>"
      ]
     },
     "execution_count": 14,
     "metadata": {},
     "output_type": "execute_result"
    }
   ],
   "source": [
    "RHS_value.Evaluate(new Vector(0.2, 0.1), 0)"
   ]
  },
  {
   "cell_type": "code",
   "execution_count": 15,
   "metadata": {
    "dotnet_interactive": {
     "language": "csharp"
    }
   },
   "outputs": [
    {
     "data": {
      "text/html": [
       "<div class=\"dni-plaintext\">-0.8390715290764524</div>"
      ]
     },
     "execution_count": 15,
     "metadata": {},
     "output_type": "execute_result"
    }
   ],
   "source": [
    "NeumannBC_value.Evaluate(new Vector(0.2, 0.1), 0)"
   ]
  },
  {
   "cell_type": "markdown",
   "metadata": {
    "dotnet_interactive": {
     "language": "csharp"
    }
   },
   "source": [
    "### Setup of Parameter Study"
   ]
  },
  {
   "cell_type": "markdown",
   "metadata": {
    "dotnet_interactive": {
     "language": "csharp"
    }
   },
   "source": [
    "Polynomial degrees to test:"
   ]
  },
  {
   "cell_type": "code",
   "execution_count": 16,
   "metadata": {
    "dotnet_interactive": {
     "language": "csharp"
    }
   },
   "outputs": [],
   "source": [
    "//int[] PolyDegS = new int[] {2, 3, 4, 5, 6};\n",
    "int[] PolyDegS = new int[] {2, 3, 5}; // reduced options for dev."
   ]
  },
  {
   "cell_type": "markdown",
   "metadata": {},
   "source": [
    "Solvers which we want to instrument:"
   ]
  },
  {
   "cell_type": "code",
   "execution_count": 17,
   "metadata": {
    "dotnet_interactive": {
     "language": "csharp"
    }
   },
   "outputs": [],
   "source": [
    "using BoSSS.Solution.AdvancedSolvers;"
   ]
  },
  {
   "cell_type": "code",
   "execution_count": 18,
   "metadata": {
    "dotnet_interactive": {
     "language": "csharp"
    }
   },
   "outputs": [],
   "source": [
    "LinearSolverCode[] solver_nameS = new LinearSolverCode[] {\n",
    "    LinearSolverCode.direct_pardiso, \n",
    "    LinearSolverCode.exp_gmres_levelpmg,\n",
    "    LinearSolverCode.exp_Kcycle_schwarz,\n",
    "    LinearSolverCode.pMultigrid\n",
    "    //LinearSolverCode.exp_Kcycle_ILU\n",
    "}; "
   ]
  },
  {
   "cell_type": "markdown",
   "metadata": {},
   "source": [
    "Maximum Dof for one calculation (we skip fine grids for higher polynomial orders):"
   ]
  },
  {
   "cell_type": "code",
   "execution_count": 19,
   "metadata": {
    "dotnet_interactive": {
     "language": "csharp"
    }
   },
   "outputs": [],
   "source": [
    "int GetMaxAllowedDOF(LinearSolverCode code) {\n",
    "    switch(code) {\n",
    "        case LinearSolverCode.direct_pardiso:\n",
    "        case LinearSolverCode.direct_mumps:\n",
    "        return 1100000; // 1.1 Million for iterative solvers at maximum\n",
    "    \n",
    "        default: \n",
    "        return 3000000; // Up to 3 Million for iterative solvers\n",
    "    }\n",
    "}"
   ]
  },
  {
   "cell_type": "markdown",
   "metadata": {},
   "source": [
    "Loop over all combinations of parameters and define a control object for each combo:"
   ]
  },
  {
   "cell_type": "code",
   "execution_count": 20,
   "metadata": {
    "dotnet_interactive": {
     "language": "csharp"
    }
   },
   "outputs": [
    {
     "name": "stdout",
     "output_type": "stream",
     "text": [
      "setting up: Poisson_J320_k2_direct_pardiso\n",
      "setting up: Poisson_J2560_k2_direct_pardiso\n",
      "setting up: Poisson_J20480_k2_direct_pardiso\n",
      "setting up: Poisson_J69120_k2_direct_pardiso\n",
      "setting up: Poisson_J320_k3_direct_pardiso\n",
      "setting up: Poisson_J2560_k3_direct_pardiso\n",
      "setting up: Poisson_J20480_k3_direct_pardiso\n",
      "setting up: Poisson_J320_k5_direct_pardiso\n",
      "setting up: Poisson_J2560_k5_direct_pardiso\n",
      "setting up: Poisson_J320_k2_exp_gmres_levelpmg\n",
      "setting up: Poisson_J2560_k2_exp_gmres_levelpmg\n",
      "setting up: Poisson_J20480_k2_exp_gmres_levelpmg\n",
      "setting up: Poisson_J69120_k2_exp_gmres_levelpmg\n",
      "setting up: Poisson_J163840_k2_exp_gmres_levelpmg\n",
      "setting up: Poisson_J320_k3_exp_gmres_levelpmg\n",
      "setting up: Poisson_J2560_k3_exp_gmres_levelpmg\n",
      "setting up: Poisson_J20480_k3_exp_gmres_levelpmg\n",
      "setting up: Poisson_J69120_k3_exp_gmres_levelpmg\n",
      "setting up: Poisson_J320_k5_exp_gmres_levelpmg\n",
      "setting up: Poisson_J2560_k5_exp_gmres_levelpmg\n",
      "setting up: Poisson_J20480_k5_exp_gmres_levelpmg\n",
      "setting up: Poisson_J320_k2_exp_Kcycle_schwarz\n",
      "setting up: Poisson_J2560_k2_exp_Kcycle_schwarz\n",
      "setting up: Poisson_J20480_k2_exp_Kcycle_schwarz\n",
      "setting up: Poisson_J69120_k2_exp_Kcycle_schwarz\n",
      "setting up: Poisson_J163840_k2_exp_Kcycle_schwarz\n",
      "setting up: Poisson_J320_k3_exp_Kcycle_schwarz\n",
      "setting up: Poisson_J2560_k3_exp_Kcycle_schwarz\n",
      "setting up: Poisson_J20480_k3_exp_Kcycle_schwarz\n",
      "setting up: Poisson_J69120_k3_exp_Kcycle_schwarz\n",
      "setting up: Poisson_J320_k5_exp_Kcycle_schwarz\n",
      "setting up: Poisson_J2560_k5_exp_Kcycle_schwarz\n",
      "setting up: Poisson_J20480_k5_exp_Kcycle_schwarz\n",
      "setting up: Poisson_J320_k2_pMultigrid\n",
      "setting up: Poisson_J2560_k2_pMultigrid\n",
      "setting up: Poisson_J20480_k2_pMultigrid\n",
      "setting up: Poisson_J69120_k2_pMultigrid\n",
      "setting up: Poisson_J163840_k2_pMultigrid\n",
      "setting up: Poisson_J320_k3_pMultigrid\n",
      "setting up: Poisson_J2560_k3_pMultigrid\n",
      "setting up: Poisson_J20480_k3_pMultigrid\n",
      "setting up: Poisson_J69120_k3_pMultigrid\n",
      "setting up: Poisson_J320_k5_pMultigrid\n",
      "setting up: Poisson_J2560_k5_pMultigrid\n",
      "setting up: Poisson_J20480_k5_pMultigrid\n"
     ]
    }
   ],
   "source": [
    "List<SipControl> controls = new List<SipControl>();\n",
    "foreach(LinearSolverCode solver_name in solver_nameS) {\n",
    "foreach(int k in PolyDegS) {   \n",
    "foreach(IGridInfo grd in grids) {\n",
    "    int Np = Utils.Np(k);\n",
    "    int J  = grd.NumberOfCells;\n",
    "    if(J*Np > GetMaxAllowedDOF(solver_name)) {\n",
    "        continue;\n",
    "    } \n",
    "    var ctrl = new SipControl();\n",
    "    controls.Add(ctrl);\n",
    "       \n",
    "    \n",
    "    string caseName = string.Format(\"Poisson_J{0}_k{1}_{2}\", J, k, solver_name);\n",
    "    Console.WriteLine(\"setting up: \" + caseName);\n",
    "    ctrl.SessionName = \"SIP_\" + caseName;\n",
    "\n",
    "    ctrl.SetGrid(grd);\n",
    "    ctrl.savetodb = true;\n",
    "    ctrl.SetDGdegree(k);\n",
    "\n",
    "    ctrl.LinearSolver           = solver_name.GetConfig();\n",
    "    var isc = ctrl.LinearSolver as IterativeSolverConfig;\n",
    "    if(isc != null) {\n",
    "        //Console.WriteLine(isc.ConvergenceCriterion);\n",
    "        //ctrl.LinearSolver.TargetBlockSize      = Math.Min(J*Np-1,10000);\n",
    "        isc.ConvergenceCriterion = 1e-8;\n",
    "    }\n",
    "        \n",
    "        \n",
    "    ctrl.InitialValues.Add(\"RHS\", RHS_value);\n",
    "    ctrl.AddBoundaryValue(BoundaryType.Dirichlet.ToString(), \"T\", DirichletBC_value);\n",
    "    ctrl.AddBoundaryValue(BoundaryType.Neumann.ToString(), \"T\", NeumannBC_value);\n",
    "    \n",
    "    ctrl.NoOfMultigridLevels = 100; // maximum number of multigrid levels to use; actual number will be far lower.\n",
    "    \n",
    "    //ctrl.GridPartType = BoSSS.Foundation.Grid.GridPartType.METIS;\n",
    "    //ctrl.GridPartType = BoSSS.Foundation.Grid.GridPartType.directHilbert;\n",
    "}\n",
    "}\n",
    "}"
   ]
  },
  {
   "cell_type": "code",
   "execution_count": 21,
   "metadata": {},
   "outputs": [],
   "source": [
    "/*\n",
    "// Save results on local workstation to reporduce particular cases:\n",
    "string dest = @\"C:\\Users\\flori\\Documents\\BoSSS-kummer\\public\\src\\L4-application\\ipPoisson\\bin\\Release\\net5.0\\PoissonBench\";\n",
    "foreach(var c in controls) {\n",
    "    string name = c.SessionName;\n",
    "    Console.Write(name + \": \");\n",
    "    try {\n",
    "        \n",
    "        var txt = c.Serialize();\n",
    "        \n",
    "        string DestPath = System.IO.Path.Combine(dest, name + \".obj\");\n",
    "        System.IO.File.WriteAllText(DestPath, txt);\n",
    "        \n",
    "        Console.WriteLine(\"written\");\n",
    "    } catch(Exception e) {\n",
    "        Console.WriteLine(e.Message);\n",
    "    }\n",
    "}\n",
    "*/"
   ]
  },
  {
   "cell_type": "code",
   "execution_count": 22,
   "metadata": {},
   "outputs": [
    {
     "data": {
      "text/html": [
       "<div class=\"dni-plaintext\">45</div>"
      ]
     },
     "execution_count": 22,
     "metadata": {},
     "output_type": "execute_result"
    }
   ],
   "source": [
    "controls.Count()"
   ]
  },
  {
   "cell_type": "markdown",
   "metadata": {},
   "source": [
    "## Launch Jobs"
   ]
  },
  {
   "cell_type": "code",
   "execution_count": 23,
   "metadata": {
    "dotnet_interactive": {
     "language": "csharp"
    }
   },
   "outputs": [
    {
     "name": "stdout",
     "output_type": "stream",
     "text": [
      " Submitting: SIP_Poisson_J320_k2_direct_pardiso\n",
      "Info: Found successful session \"WIP-k-LinslvPerfSer\tSIP_Poisson_J320_k2_direct_pardiso\t05/23/2022 17:54:22\t803a2124...\" -- job is marked as successful, no further action.\n",
      "No submission, because job status is: FinishedSuccessful\n",
      " Submitting: SIP_Poisson_J2560_k2_direct_pardiso\n",
      "Info: Found successful session \"WIP-k-LinslvPerfSer\tSIP_Poisson_J2560_k2_direct_pardiso\t05/23/2022 17:54:32\t34b95dee...\" -- job is marked as successful, no further action.\n",
      "No submission, because job status is: FinishedSuccessful\n",
      " Submitting: SIP_Poisson_J20480_k2_direct_pardiso\n",
      "Info: Found successful session \"WIP-k-LinslvPerfSer\tSIP_Poisson_J20480_k2_direct_pardiso\t05/23/2022 17:54:43\tacd0cb48...\" -- job is marked as successful, no further action.\n",
      "No submission, because job status is: FinishedSuccessful\n",
      " Submitting: SIP_Poisson_J69120_k2_direct_pardiso\n",
      "Info: Found successful session \"WIP-k-LinslvPerfSer\tSIP_Poisson_J69120_k2_direct_pardiso\t05/23/2022 17:54:54\t3afd81ab...\" -- job is marked as successful, no further action.\n",
      "No submission, because job status is: FinishedSuccessful\n",
      " Submitting: SIP_Poisson_J320_k3_direct_pardiso\n",
      "Info: Found successful session \"WIP-k-LinslvPerfSer\tSIP_Poisson_J320_k3_direct_pardiso\t05/23/2022 17:55:05\t6ab9244d...\" -- job is marked as successful, no further action.\n",
      "No submission, because job status is: FinishedSuccessful\n",
      " Submitting: SIP_Poisson_J2560_k3_direct_pardiso\n",
      "Info: Found successful session \"WIP-k-LinslvPerfSer\tSIP_Poisson_J2560_k3_direct_pardiso\t05/23/2022 17:55:15\t76690675...\" -- job is marked as successful, no further action.\n",
      "No submission, because job status is: FinishedSuccessful\n",
      " Submitting: SIP_Poisson_J20480_k3_direct_pardiso\n",
      "Info: Found successful session \"WIP-k-LinslvPerfSer\tSIP_Poisson_J20480_k3_direct_pardiso\t05/23/2022 17:55:26\tf368139c...\" -- job is marked as successful, no further action.\n",
      "No submission, because job status is: FinishedSuccessful\n",
      " Submitting: SIP_Poisson_J320_k5_direct_pardiso\n",
      "Info: Found successful session \"WIP-k-LinslvPerfSer\tSIP_Poisson_J320_k5_direct_pardiso\t05/23/2022 17:55:39\tbd9f47ef...\" -- job is marked as successful, no further action.\n",
      "No submission, because job status is: FinishedSuccessful\n",
      " Submitting: SIP_Poisson_J2560_k5_direct_pardiso\n",
      "Info: Found successful session \"WIP-k-LinslvPerfSer\tSIP_Poisson_J2560_k5_direct_pardiso\t05/23/2022 17:55:51\tb2816c83...\" -- job is marked as successful, no further action.\n",
      "No submission, because job status is: FinishedSuccessful\n",
      " Submitting: SIP_Poisson_J320_k2_exp_gmres_levelpmg\n",
      "Info: Found successful session \"WIP-k-LinslvPerfSer\tSIP_Poisson_J320_k2_exp_gmres_levelpmg\t05/23/2022 17:56:02\t23a3edab...\" -- job is marked as successful, no further action.\n",
      "No submission, because job status is: FinishedSuccessful\n",
      " Submitting: SIP_Poisson_J2560_k2_exp_gmres_levelpmg\n",
      "Info: Found successful session \"WIP-k-LinslvPerfSer\tSIP_Poisson_J2560_k2_exp_gmres_levelpmg\t05/23/2022 17:56:14\t488abb2c...\" -- job is marked as successful, no further action.\n",
      "No submission, because job status is: FinishedSuccessful\n",
      " Submitting: SIP_Poisson_J20480_k2_exp_gmres_levelpmg\n",
      "Info: Found successful session \"WIP-k-LinslvPerfSer\tSIP_Poisson_J20480_k2_exp_gmres_levelpmg\t05/23/2022 17:56:24\tcff73330...\" -- job is marked as successful, no further action.\n",
      "No submission, because job status is: FinishedSuccessful\n",
      " Submitting: SIP_Poisson_J69120_k2_exp_gmres_levelpmg\n",
      "Info: Found successful session \"WIP-k-LinslvPerfSer\tSIP_Poisson_J69120_k2_exp_gmres_levelpmg\t05/23/2022 17:56:36\ta6506b88...\" -- job is marked as successful, no further action.\n",
      "No submission, because job status is: FinishedSuccessful\n",
      " Submitting: SIP_Poisson_J163840_k2_exp_gmres_levelpmg\n",
      "Info: Found successful session \"WIP-k-LinslvPerfSer\tSIP_Poisson_J163840_k2_exp_gmres_levelpmg\t05/23/2022 17:56:47\tb9898fcd...\" -- job is marked as successful, no further action.\n",
      "No submission, because job status is: FinishedSuccessful\n",
      " Submitting: SIP_Poisson_J320_k3_exp_gmres_levelpmg\n",
      "Info: Found successful session \"WIP-k-LinslvPerfSer\tSIP_Poisson_J320_k3_exp_gmres_levelpmg\t05/23/2022 17:56:59\te8cb3ed0...\" -- job is marked as successful, no further action.\n",
      "No submission, because job status is: FinishedSuccessful\n",
      " Submitting: SIP_Poisson_J2560_k3_exp_gmres_levelpmg\n",
      "Info: Found successful session \"WIP-k-LinslvPerfSer\tSIP_Poisson_J2560_k3_exp_gmres_levelpmg\t05/23/2022 17:57:09\ta50c6d08...\" -- job is marked as successful, no further action.\n",
      "No submission, because job status is: FinishedSuccessful\n",
      " Submitting: SIP_Poisson_J20480_k3_exp_gmres_levelpmg\n",
      "Info: Found successful session \"WIP-k-LinslvPerfSer\tSIP_Poisson_J20480_k3_exp_gmres_levelpmg\t05/23/2022 17:57:21\td81dfc98...\" -- job is marked as successful, no further action.\n",
      "No submission, because job status is: FinishedSuccessful\n",
      " Submitting: SIP_Poisson_J69120_k3_exp_gmres_levelpmg\n",
      "Info: Found successful session \"WIP-k-LinslvPerfSer\tSIP_Poisson_J69120_k3_exp_gmres_levelpmg\t05/24/2022 06:03:25\t7d30251d...\" -- job is marked as successful, no further action.\n",
      "No submission, because job status is: FinishedSuccessful\n",
      " Submitting: SIP_Poisson_J320_k5_exp_gmres_levelpmg\n",
      "Info: Found successful session \"WIP-k-LinslvPerfSer\tSIP_Poisson_J320_k5_exp_gmres_levelpmg\t05/23/2022 17:57:47\t5c3afad2...\" -- job is marked as successful, no further action.\n",
      "No submission, because job status is: FinishedSuccessful\n",
      " Submitting: SIP_Poisson_J2560_k5_exp_gmres_levelpmg\n",
      "Info: Found successful session \"WIP-k-LinslvPerfSer\tSIP_Poisson_J2560_k5_exp_gmres_levelpmg\t05/23/2022 17:58:00\tdfcb8663...\" -- job is marked as successful, no further action.\n",
      "No submission, because job status is: FinishedSuccessful\n",
      " Submitting: SIP_Poisson_J20480_k5_exp_gmres_levelpmg\n",
      "Info: Found successful session \"WIP-k-LinslvPerfSer\tSIP_Poisson_J20480_k5_exp_gmres_levelpmg\t05/23/2022 17:58:11\t5e49f89c...\" -- job is marked as successful, no further action.\n",
      "No submission, because job status is: FinishedSuccessful\n",
      " Submitting: SIP_Poisson_J320_k2_exp_Kcycle_schwarz\n",
      "Info: Found successful session \"WIP-k-LinslvPerfSer\tSIP_Poisson_J320_k2_exp_Kcycle_schwarz\t05/23/2022 17:58:23\ta5613472...\" -- job is marked as successful, no further action.\n",
      "No submission, because job status is: FinishedSuccessful\n",
      " Submitting: SIP_Poisson_J2560_k2_exp_Kcycle_schwarz\n",
      "Info: Found successful session \"WIP-k-LinslvPerfSer\tSIP_Poisson_J2560_k2_exp_Kcycle_schwarz\t05/24/2022 06:03:40\t3b511c77...\" -- job is marked as successful, no further action.\n",
      "No submission, because job status is: FinishedSuccessful\n",
      " Submitting: SIP_Poisson_J20480_k2_exp_Kcycle_schwarz\n",
      "Info: Found successful session \"WIP-k-LinslvPerfSer\tSIP_Poisson_J20480_k2_exp_Kcycle_schwarz\t05/23/2022 17:58:48\tdc54a2d0...\" -- job is marked as successful, no further action.\n",
      "No submission, because job status is: FinishedSuccessful\n",
      " Submitting: SIP_Poisson_J69120_k2_exp_Kcycle_schwarz\n",
      "Info: Found successful session \"WIP-k-LinslvPerfSer\tSIP_Poisson_J69120_k2_exp_Kcycle_schwarz\t05/23/2022 17:59:01\t93e5f523...\" -- job is marked as successful, no further action.\n",
      "No submission, because job status is: FinishedSuccessful\n",
      " Submitting: SIP_Poisson_J163840_k2_exp_Kcycle_schwarz\n",
      "Info: Found successful session \"WIP-k-LinslvPerfSer\tSIP_Poisson_J163840_k2_exp_Kcycle_schwarz\t05/24/2022 06:03:54\t171f6bc0...\" -- job is marked as successful, no further action.\n",
      "No submission, because job status is: FinishedSuccessful\n",
      " Submitting: SIP_Poisson_J320_k3_exp_Kcycle_schwarz\n",
      "Info: Found successful session \"WIP-k-LinslvPerfSer\tSIP_Poisson_J320_k3_exp_Kcycle_schwarz\t05/23/2022 17:59:26\t39b2e8b3...\" -- job is marked as successful, no further action.\n",
      "No submission, because job status is: FinishedSuccessful\n",
      " Submitting: SIP_Poisson_J2560_k3_exp_Kcycle_schwarz\n",
      "Info: Found successful session \"WIP-k-LinslvPerfSer\tSIP_Poisson_J2560_k3_exp_Kcycle_schwarz\t05/24/2022 06:04:08\t0b6ec0f3...\" -- job is marked as successful, no further action.\n",
      "No submission, because job status is: FinishedSuccessful\n",
      " Submitting: SIP_Poisson_J20480_k3_exp_Kcycle_schwarz\n",
      "Info: Found successful session \"WIP-k-LinslvPerfSer\tSIP_Poisson_J20480_k3_exp_Kcycle_schwarz\t05/23/2022 17:59:51\t469af62d...\" -- job is marked as successful, no further action.\n",
      "No submission, because job status is: FinishedSuccessful\n"
     ]
    },
    {
     "name": "stdout",
     "output_type": "stream",
     "text": [
      " Submitting: SIP_Poisson_J69120_k3_exp_Kcycle_schwarz\n",
      "Info: Found successful session \"WIP-k-LinslvPerfSer\tSIP_Poisson_J69120_k3_exp_Kcycle_schwarz\t05/24/2022 06:04:22\t79f7c40b...\" -- job is marked as successful, no further action.\n",
      "No submission, because job status is: FinishedSuccessful\n",
      " Submitting: SIP_Poisson_J320_k5_exp_Kcycle_schwarz\n",
      "Info: Found successful session \"WIP-k-LinslvPerfSer\tSIP_Poisson_J320_k5_exp_Kcycle_schwarz\t05/23/2022 18:00:16\t7bfe7fcf...\" -- job is marked as successful, no further action.\n",
      "No submission, because job status is: FinishedSuccessful\n",
      " Submitting: SIP_Poisson_J2560_k5_exp_Kcycle_schwarz\n",
      "Info: Found successful session \"WIP-k-LinslvPerfSer\tSIP_Poisson_J2560_k5_exp_Kcycle_schwarz\t05/24/2022 06:04:36\t89391ec8...\" -- job is marked as successful, no further action.\n",
      "No submission, because job status is: FinishedSuccessful\n",
      " Submitting: SIP_Poisson_J20480_k5_exp_Kcycle_schwarz\n",
      "Info: Found successful session \"WIP-k-LinslvPerfSer\tSIP_Poisson_J20480_k5_exp_Kcycle_schwarz\t05/23/2022 18:00:42\t313c304c...\" -- job is marked as successful, no further action.\n",
      "No submission, because job status is: FinishedSuccessful\n",
      " Submitting: SIP_Poisson_J320_k2_pMultigrid\n",
      "Info: Found successful session \"WIP-k-LinslvPerfSer\tSIP_Poisson_J320_k2_pMultigrid\t05/23/2022 18:00:55\tc6e945bd...\" -- job is marked as successful, no further action.\n",
      "No submission, because job status is: FinishedSuccessful\n",
      " Submitting: SIP_Poisson_J2560_k2_pMultigrid\n",
      "Info: Found successful session \"WIP-k-LinslvPerfSer\tSIP_Poisson_J2560_k2_pMultigrid\t05/23/2022 18:01:08\t20fd3fbd...\" -- job is marked as successful, no further action.\n",
      "No submission, because job status is: FinishedSuccessful\n",
      " Submitting: SIP_Poisson_J20480_k2_pMultigrid\n",
      "Info: Found successful session \"WIP-k-LinslvPerfSer\tSIP_Poisson_J20480_k2_pMultigrid\t05/23/2022 18:01:23\t1bad2bbd...\" -- job is marked as successful, no further action.\n",
      "No submission, because job status is: FinishedSuccessful\n",
      " Submitting: SIP_Poisson_J69120_k2_pMultigrid\n",
      "Info: Found successful session \"WIP-k-LinslvPerfSer\tSIP_Poisson_J69120_k2_pMultigrid\t05/23/2022 18:01:37\tc348f775...\" -- job is marked as successful, no further action.\n",
      "No submission, because job status is: FinishedSuccessful\n",
      " Submitting: SIP_Poisson_J163840_k2_pMultigrid\n",
      "Info: Found successful session \"WIP-k-LinslvPerfSer\tSIP_Poisson_J163840_k2_pMultigrid\t05/23/2022 18:01:50\t219476f6...\" -- job is marked as successful, no further action.\n",
      "No submission, because job status is: FinishedSuccessful\n",
      " Submitting: SIP_Poisson_J320_k3_pMultigrid\n",
      "Info: Found successful session \"WIP-k-LinslvPerfSer\tSIP_Poisson_J320_k3_pMultigrid\t05/23/2022 18:02:04\t5db687a7...\" -- job is marked as successful, no further action.\n",
      "No submission, because job status is: FinishedSuccessful\n",
      " Submitting: SIP_Poisson_J2560_k3_pMultigrid\n",
      "Info: Found successful session \"WIP-k-LinslvPerfSer\tSIP_Poisson_J2560_k3_pMultigrid\t05/24/2022 06:04:56\tddc16fa7...\" -- job is marked as successful, no further action.\n",
      "No submission, because job status is: FinishedSuccessful\n",
      " Submitting: SIP_Poisson_J20480_k3_pMultigrid\n",
      "Info: Found successful session \"WIP-k-LinslvPerfSer\tSIP_Poisson_J20480_k3_pMultigrid\t05/23/2022 18:02:30\tc728b20a...\" -- job is marked as successful, no further action.\n",
      "No submission, because job status is: FinishedSuccessful\n",
      " Submitting: SIP_Poisson_J69120_k3_pMultigrid\n",
      "Info: Found successful session \"WIP-k-LinslvPerfSer\tSIP_Poisson_J69120_k3_pMultigrid\t05/23/2022 18:02:44\t56bd8608...\" -- job is marked as successful, no further action.\n",
      "No submission, because job status is: FinishedSuccessful\n",
      " Submitting: SIP_Poisson_J320_k5_pMultigrid\n",
      "Info: Found successful session \"WIP-k-LinslvPerfSer\tSIP_Poisson_J320_k5_pMultigrid\t05/24/2022 06:05:11\td68fd4b7...\" -- job is marked as successful, no further action.\n",
      "No submission, because job status is: FinishedSuccessful\n",
      " Submitting: SIP_Poisson_J2560_k5_pMultigrid\n",
      "Info: Found successful session \"WIP-k-LinslvPerfSer\tSIP_Poisson_J2560_k5_pMultigrid\t05/24/2022 06:05:24\tc95ff43e...\" -- job is marked as successful, no further action.\n",
      "No submission, because job status is: FinishedSuccessful\n",
      " Submitting: SIP_Poisson_J20480_k5_pMultigrid\n",
      "Info: Found successful session \"WIP-k-LinslvPerfSer\tSIP_Poisson_J20480_k5_pMultigrid\t05/24/2022 06:05:37\tbebf2868...\" -- job is marked as successful, no further action.\n",
      "No submission, because job status is: FinishedSuccessful\n"
     ]
    }
   ],
   "source": [
    "foreach(var ctrl in controls) {\n",
    "    Console.WriteLine(\" Submitting: \" + ctrl.SessionName);\n",
    "    ctrl.RunBatch(); // run in the default queue for this project\n",
    "}"
   ]
  },
  {
   "cell_type": "code",
   "execution_count": 24,
   "metadata": {
    "dotnet_interactive": {
     "language": "csharp"
    }
   },
   "outputs": [],
   "source": [
    "//foreach(var j in wmg.AllJobs.Values)\n",
    "//    j.DeleteOldDeploymentsAndSessions();"
   ]
  },
  {
   "cell_type": "markdown",
   "metadata": {},
   "source": [
    "### Wait for Completion and Check Job Status"
   ]
  },
  {
   "cell_type": "code",
   "execution_count": 25,
   "metadata": {
    "dotnet_interactive": {
     "language": "csharp"
    }
   },
   "outputs": [
    {
     "name": "stdout",
     "output_type": "stream",
     "text": [
      "All jobs finished.\r\n"
     ]
    }
   ],
   "source": [
    "wmg.BlockUntilAllJobsTerminate(3600*24*2); // wait at maximum two days for the jobs to finish"
   ]
  },
  {
   "cell_type": "code",
   "execution_count": 26,
   "metadata": {
    "dotnet_interactive": {
     "language": "csharp"
    }
   },
   "outputs": [
    {
     "data": {
      "text/plain": [
       "#0: SIP_Poisson_J320_k2_direct_pardiso: FinishedSuccessful (MS HPC client  MSHPC-AllNodes @DC2, @\\\\fdygitrunner\\ValidationTests)\tSIP_Poisson_J320_k2_direct_pardiso: FinishedSuccessful (MS HPC client  MSHPC-AllNodes @DC2, @\\\\fdygitrunner\\ValidationTests)\r\n",
       "#1: SIP_Poisson_J2560_k2_direct_pardiso: FinishedSuccessful (MS HPC client  MSHPC-AllNodes @DC2, @\\\\fdygitrunner\\ValidationTests)\tSIP_Poisson_J2560_k2_direct_pardiso: FinishedSuccessful (MS HPC client  MSHPC-AllNodes @DC2, @\\\\fdygitrunner\\ValidationTests)\r\n",
       "#2: SIP_Poisson_J20480_k2_direct_pardiso: FinishedSuccessful (MS HPC client  MSHPC-AllNodes @DC2, @\\\\fdygitrunner\\ValidationTests)\tSIP_Poisson_J20480_k2_direct_pardiso: FinishedSuccessful (MS HPC client  MSHPC-AllNodes @DC2, @\\\\fdygitrunner\\ValidationTests)\r\n",
       "#3: SIP_Poisson_J69120_k2_direct_pardiso: FinishedSuccessful (MS HPC client  MSHPC-AllNodes @DC2, @\\\\fdygitrunner\\ValidationTests)\tSIP_Poisson_J69120_k2_direct_pardiso: FinishedSuccessful (MS HPC client  MSHPC-AllNodes @DC2, @\\\\fdygitrunner\\ValidationTests)\r\n",
       "#4: SIP_Poisson_J320_k3_direct_pardiso: FinishedSuccessful (MS HPC client  MSHPC-AllNodes @DC2, @\\\\fdygitrunner\\ValidationTests)\tSIP_Poisson_J320_k3_direct_pardiso: FinishedSuccessful (MS HPC client  MSHPC-AllNodes @DC2, @\\\\fdygitrunner\\ValidationTests)\r\n",
       "#5: SIP_Poisson_J2560_k3_direct_pardiso: FinishedSuccessful (MS HPC client  MSHPC-AllNodes @DC2, @\\\\fdygitrunner\\ValidationTests)\tSIP_Poisson_J2560_k3_direct_pardiso: FinishedSuccessful (MS HPC client  MSHPC-AllNodes @DC2, @\\\\fdygitrunner\\ValidationTests)\r\n",
       "#6: SIP_Poisson_J20480_k3_direct_pardiso: FinishedSuccessful (MS HPC client  MSHPC-AllNodes @DC2, @\\\\fdygitrunner\\ValidationTests)\tSIP_Poisson_J20480_k3_direct_pardiso: FinishedSuccessful (MS HPC client  MSHPC-AllNodes @DC2, @\\\\fdygitrunner\\ValidationTests)\r\n",
       "#7: SIP_Poisson_J320_k5_direct_pardiso: FinishedSuccessful (MS HPC client  MSHPC-AllNodes @DC2, @\\\\fdygitrunner\\ValidationTests)\tSIP_Poisson_J320_k5_direct_pardiso: FinishedSuccessful (MS HPC client  MSHPC-AllNodes @DC2, @\\\\fdygitrunner\\ValidationTests)\r\n",
       "#8: SIP_Poisson_J2560_k5_direct_pardiso: FinishedSuccessful (MS HPC client  MSHPC-AllNodes @DC2, @\\\\fdygitrunner\\ValidationTests)\tSIP_Poisson_J2560_k5_direct_pardiso: FinishedSuccessful (MS HPC client  MSHPC-AllNodes @DC2, @\\\\fdygitrunner\\ValidationTests)\r\n",
       "#9: SIP_Poisson_J320_k2_exp_gmres_levelpmg: FinishedSuccessful (MS HPC client  MSHPC-AllNodes @DC2, @\\\\fdygitrunner\\ValidationTests)\tSIP_Poisson_J320_k2_exp_gmres_levelpmg: FinishedSuccessful (MS HPC client  MSHPC-AllNodes @DC2, @\\\\fdygitrunner\\ValidationTests)\r\n",
       "#10: SIP_Poisson_J2560_k2_exp_gmres_levelpmg: FinishedSuccessful (MS HPC client  MSHPC-AllNodes @DC2, @\\\\fdygitrunner\\ValidationTests)\tSIP_Poisson_J2560_k2_exp_gmres_levelpmg: FinishedSuccessful (MS HPC client  MSHPC-AllNodes @DC2, @\\\\fdygitrunner\\ValidationTests)\r\n",
       "#11: SIP_Poisson_J20480_k2_exp_gmres_levelpmg: FinishedSuccessful (MS HPC client  MSHPC-AllNodes @DC2, @\\\\fdygitrunner\\ValidationTests)\tSIP_Poisson_J20480_k2_exp_gmres_levelpmg: FinishedSuccessful (MS HPC client  MSHPC-AllNodes @DC2, @\\\\fdygitrunner\\ValidationTests)\r\n",
       "#12: SIP_Poisson_J69120_k2_exp_gmres_levelpmg: FinishedSuccessful (MS HPC client  MSHPC-AllNodes @DC2, @\\\\fdygitrunner\\ValidationTests)\tSIP_Poisson_J69120_k2_exp_gmres_levelpmg: FinishedSuccessful (MS HPC client  MSHPC-AllNodes @DC2, @\\\\fdygitrunner\\ValidationTests)\r\n",
       "#13: SIP_Poisson_J163840_k2_exp_gmres_levelpmg: FinishedSuccessful (MS HPC client  MSHPC-AllNodes @DC2, @\\\\fdygitrunner\\ValidationTests)\tSIP_Poisson_J163840_k2_exp_gmres_levelpmg: FinishedSuccessful (MS HPC client  MSHPC-AllNodes @DC2, @\\\\fdygitrunner\\ValidationTests)\r\n",
       "#14: SIP_Poisson_J320_k3_exp_gmres_levelpmg: FinishedSuccessful (MS HPC client  MSHPC-AllNodes @DC2, @\\\\fdygitrunner\\ValidationTests)\tSIP_Poisson_J320_k3_exp_gmres_levelpmg: FinishedSuccessful (MS HPC client  MSHPC-AllNodes @DC2, @\\\\fdygitrunner\\ValidationTests)\r\n",
       "#15: SIP_Poisson_J2560_k3_exp_gmres_levelpmg: FinishedSuccessful (MS HPC client  MSHPC-AllNodes @DC2, @\\\\fdygitrunner\\ValidationTests)\tSIP_Poisson_J2560_k3_exp_gmres_levelpmg: FinishedSuccessful (MS HPC client  MSHPC-AllNodes @DC2, @\\\\fdygitrunner\\ValidationTests)\r\n",
       "#16: SIP_Poisson_J20480_k3_exp_gmres_levelpmg: FinishedSuccessful (MS HPC client  MSHPC-AllNodes @DC2, @\\\\fdygitrunner\\ValidationTests)\tSIP_Poisson_J20480_k3_exp_gmres_levelpmg: FinishedSuccessful (MS HPC client  MSHPC-AllNodes @DC2, @\\\\fdygitrunner\\ValidationTests)\r\n",
       "#17: SIP_Poisson_J69120_k3_exp_gmres_levelpmg: FinishedSuccessful (MS HPC client  MSHPC-AllNodes @DC2, @\\\\fdygitrunner\\ValidationTests)\tSIP_Poisson_J69120_k3_exp_gmres_levelpmg: FinishedSuccessful (MS HPC client  MSHPC-AllNodes @DC2, @\\\\fdygitrunner\\ValidationTests)\r\n",
       "#18: SIP_Poisson_J320_k5_exp_gmres_levelpmg: FinishedSuccessful (MS HPC client  MSHPC-AllNodes @DC2, @\\\\fdygitrunner\\ValidationTests)\tSIP_Poisson_J320_k5_exp_gmres_levelpmg: FinishedSuccessful (MS HPC client  MSHPC-AllNodes @DC2, @\\\\fdygitrunner\\ValidationTests)\r\n",
       "#19: SIP_Poisson_J2560_k5_exp_gmres_levelpmg: FinishedSuccessful (MS HPC client  MSHPC-AllNodes @DC2, @\\\\fdygitrunner\\ValidationTests)\tSIP_Poisson_J2560_k5_exp_gmres_levelpmg: FinishedSuccessful (MS HPC client  MSHPC-AllNodes @DC2, @\\\\fdygitrunner\\ValidationTests)\r\n",
       "#20: SIP_Poisson_J20480_k5_exp_gmres_levelpmg: FinishedSuccessful (MS HPC client  MSHPC-AllNodes @DC2, @\\\\fdygitrunner\\ValidationTests)\tSIP_Poisson_J20480_k5_exp_gmres_levelpmg: FinishedSuccessful (MS HPC client  MSHPC-AllNodes @DC2, @\\\\fdygitrunner\\ValidationTests)\r\n",
       "#21: SIP_Poisson_J320_k2_exp_Kcycle_schwarz: FinishedSuccessful (MS HPC client  MSHPC-AllNodes @DC2, @\\\\fdygitrunner\\ValidationTests)\tSIP_Poisson_J320_k2_exp_Kcycle_schwarz: FinishedSuccessful (MS HPC client  MSHPC-AllNodes @DC2, @\\\\fdygitrunner\\ValidationTests)\r\n",
       "#22: SIP_Poisson_J2560_k2_exp_Kcycle_schwarz: FinishedSuccessful (MS HPC client  MSHPC-AllNodes @DC2, @\\\\fdygitrunner\\ValidationTests)\tSIP_Poisson_J2560_k2_exp_Kcycle_schwarz: FinishedSuccessful (MS HPC client  MSHPC-AllNodes @DC2, @\\\\fdygitrunner\\ValidationTests)\r\n",
       "#23: SIP_Poisson_J20480_k2_exp_Kcycle_schwarz: FinishedSuccessful (MS HPC client  MSHPC-AllNodes @DC2, @\\\\fdygitrunner\\ValidationTests)\tSIP_Poisson_J20480_k2_exp_Kcycle_schwarz: FinishedSuccessful (MS HPC client  MSHPC-AllNodes @DC2, @\\\\fdygitrunner\\ValidationTests)\r\n",
       "#24: SIP_Poisson_J69120_k2_exp_Kcycle_schwarz: FinishedSuccessful (MS HPC client  MSHPC-AllNodes @DC2, @\\\\fdygitrunner\\ValidationTests)\tSIP_Poisson_J69120_k2_exp_Kcycle_schwarz: FinishedSuccessful (MS HPC client  MSHPC-AllNodes @DC2, @\\\\fdygitrunner\\ValidationTests)\r\n",
       "#25: SIP_Poisson_J163840_k2_exp_Kcycle_schwarz: FinishedSuccessful (MS HPC client  MSHPC-AllNodes @DC2, @\\\\fdygitrunner\\ValidationTests)\tSIP_Poisson_J163840_k2_exp_Kcycle_schwarz: FinishedSuccessful (MS HPC client  MSHPC-AllNodes @DC2, @\\\\fdygitrunner\\ValidationTests)\r\n",
       "#26: SIP_Poisson_J320_k3_exp_Kcycle_schwarz: FinishedSuccessful (MS HPC client  MSHPC-AllNodes @DC2, @\\\\fdygitrunner\\ValidationTests)\tSIP_Poisson_J320_k3_exp_Kcycle_schwarz: FinishedSuccessful (MS HPC client  MSHPC-AllNodes @DC2, @\\\\fdygitrunner\\ValidationTests)\r\n",
       "#27: SIP_Poisson_J2560_k3_exp_Kcycle_schwarz: FinishedSuccessful (MS HPC client  MSHPC-AllNodes @DC2, @\\\\fdygitrunner\\ValidationTests)\tSIP_Poisson_J2560_k3_exp_Kcycle_schwarz: FinishedSuccessful (MS HPC client  MSHPC-AllNodes @DC2, @\\\\fdygitrunner\\ValidationTests)\r\n",
       "#28: SIP_Poisson_J20480_k3_exp_Kcycle_schwarz: FinishedSuccessful (MS HPC client  MSHPC-AllNodes @DC2, @\\\\fdygitrunner\\ValidationTests)\tSIP_Poisson_J20480_k3_exp_Kcycle_schwarz: FinishedSuccessful (MS HPC client  MSHPC-AllNodes @DC2, @\\\\fdygitrunner\\ValidationTests)\r\n",
       "#29: SIP_Poisson_J69120_k3_exp_Kcycle_schwarz: FinishedSuccessful (MS HPC client  MSHPC-AllNodes @DC2, @\\\\fdygitrunner\\ValidationTests)\tSIP_Poisson_J69120_k3_exp_Kcycle_schwarz: FinishedSuccessful (MS HPC client  MSHPC-AllNodes @DC2, @\\\\fdygitrunner\\ValidationTests)\r\n",
       "#30: SIP_Poisson_J320_k5_exp_Kcycle_schwarz: FinishedSuccessful (MS HPC client  MSHPC-AllNodes @DC2, @\\\\fdygitrunner\\ValidationTests)\tSIP_Poisson_J320_k5_exp_Kcycle_schwarz: FinishedSuccessful (MS HPC client  MSHPC-AllNodes @DC2, @\\\\fdygitrunner\\ValidationTests)\r\n",
       "#31: SIP_Poisson_J2560_k5_exp_Kcycle_schwarz: FinishedSuccessful (MS HPC client  MSHPC-AllNodes @DC2, @\\\\fdygitrunner\\ValidationTests)\tSIP_Poisson_J2560_k5_exp_Kcycle_schwarz: FinishedSuccessful (MS HPC client  MSHPC-AllNodes @DC2, @\\\\fdygitrunner\\ValidationTests)\r\n",
       "#32: SIP_Poisson_J20480_k5_exp_Kcycle_schwarz: FinishedSuccessful (MS HPC client  MSHPC-AllNodes @DC2, @\\\\fdygitrunner\\ValidationTests)\tSIP_Poisson_J20480_k5_exp_Kcycle_schwarz: FinishedSuccessful (MS HPC client  MSHPC-AllNodes @DC2, @\\\\fdygitrunner\\ValidationTests)\r\n",
       "#33: SIP_Poisson_J320_k2_pMultigrid: FinishedSuccessful (MS HPC client  MSHPC-AllNodes @DC2, @\\\\fdygitrunner\\ValidationTests)\tSIP_Poisson_J320_k2_pMultigrid: FinishedSuccessful (MS HPC client  MSHPC-AllNodes @DC2, @\\\\fdygitrunner\\ValidationTests)\r\n",
       "#34: SIP_Poisson_J2560_k2_pMultigrid: FinishedSuccessful (MS HPC client  MSHPC-AllNodes @DC2, @\\\\fdygitrunner\\ValidationTests)\tSIP_Poisson_J2560_k2_pMultigrid: FinishedSuccessful (MS HPC client  MSHPC-AllNodes @DC2, @\\\\fdygitrunner\\ValidationTests)\r\n",
       "#35: SIP_Poisson_J20480_k2_pMultigrid: FinishedSuccessful (MS HPC client  MSHPC-AllNodes @DC2, @\\\\fdygitrunner\\ValidationTests)\tSIP_Poisson_J20480_k2_pMultigrid: FinishedSuccessful (MS HPC client  MSHPC-AllNodes @DC2, @\\\\fdygitrunner\\ValidationTests)\r\n",
       "#36: SIP_Poisson_J69120_k2_pMultigrid: FinishedSuccessful (MS HPC client  MSHPC-AllNodes @DC2, @\\\\fdygitrunner\\ValidationTests)\tSIP_Poisson_J69120_k2_pMultigrid: FinishedSuccessful (MS HPC client  MSHPC-AllNodes @DC2, @\\\\fdygitrunner\\ValidationTests)\r\n",
       "#37: SIP_Poisson_J163840_k2_pMultigrid: FinishedSuccessful (MS HPC client  MSHPC-AllNodes @DC2, @\\\\fdygitrunner\\ValidationTests)\tSIP_Poisson_J163840_k2_pMultigrid: FinishedSuccessful (MS HPC client  MSHPC-AllNodes @DC2, @\\\\fdygitrunner\\ValidationTests)\r\n",
       "#38: SIP_Poisson_J320_k3_pMultigrid: FinishedSuccessful (MS HPC client  MSHPC-AllNodes @DC2, @\\\\fdygitrunner\\ValidationTests)\tSIP_Poisson_J320_k3_pMultigrid: FinishedSuccessful (MS HPC client  MSHPC-AllNodes @DC2, @\\\\fdygitrunner\\ValidationTests)\r\n",
       "#39: SIP_Poisson_J2560_k3_pMultigrid: FinishedSuccessful (MS HPC client  MSHPC-AllNodes @DC2, @\\\\fdygitrunner\\ValidationTests)\tSIP_Poisson_J2560_k3_pMultigrid: FinishedSuccessful (MS HPC client  MSHPC-AllNodes @DC2, @\\\\fdygitrunner\\ValidationTests)\r\n",
       "#40: SIP_Poisson_J20480_k3_pMultigrid: FinishedSuccessful (MS HPC client  MSHPC-AllNodes @DC2, @\\\\fdygitrunner\\ValidationTests)\tSIP_Poisson_J20480_k3_pMultigrid: FinishedSuccessful (MS HPC client  MSHPC-AllNodes @DC2, @\\\\fdygitrunner\\ValidationTests)\r\n",
       "#41: SIP_Poisson_J69120_k3_pMultigrid: FinishedSuccessful (MS HPC client  MSHPC-AllNodes @DC2, @\\\\fdygitrunner\\ValidationTests)\tSIP_Poisson_J69120_k3_pMultigrid: FinishedSuccessful (MS HPC client  MSHPC-AllNodes @DC2, @\\\\fdygitrunner\\ValidationTests)\r\n",
       "#42: SIP_Poisson_J320_k5_pMultigrid: FinishedSuccessful (MS HPC client  MSHPC-AllNodes @DC2, @\\\\fdygitrunner\\ValidationTests)\tSIP_Poisson_J320_k5_pMultigrid: FinishedSuccessful (MS HPC client  MSHPC-AllNodes @DC2, @\\\\fdygitrunner\\ValidationTests)\r\n",
       "#43: SIP_Poisson_J2560_k5_pMultigrid: FinishedSuccessful (MS HPC client  MSHPC-AllNodes @DC2, @\\\\fdygitrunner\\ValidationTests)\tSIP_Poisson_J2560_k5_pMultigrid: FinishedSuccessful (MS HPC client  MSHPC-AllNodes @DC2, @\\\\fdygitrunner\\ValidationTests)\r\n",
       "#44: SIP_Poisson_J20480_k5_pMultigrid: FinishedSuccessful (MS HPC client  MSHPC-AllNodes @DC2, @\\\\fdygitrunner\\ValidationTests)\tSIP_Poisson_J20480_k5_pMultigrid: FinishedSuccessful (MS HPC client  MSHPC-AllNodes @DC2, @\\\\fdygitrunner\\ValidationTests)\r\n"
      ]
     },
     "execution_count": 26,
     "metadata": {},
     "output_type": "execute_result"
    }
   ],
   "source": [
    "wmg.AllJobs"
   ]
  },
  {
   "cell_type": "code",
   "execution_count": 27,
   "metadata": {
    "dotnet_interactive": {
     "language": "csharp"
    }
   },
   "outputs": [
    {
     "data": {
      "text/plain": [
       "#0: WIP-k-LinslvPerfSer\tSIP_Poisson_J20480_k5_pMultigrid\t05/24/2022 06:05:37\tbebf2868...\r\n",
       "#1: WIP-k-LinslvPerfSer\tSIP_Poisson_J69120_k3_exp_Kcycle_schwarz\t05/24/2022 06:04:22\t79f7c40b...\r\n",
       "#2: WIP-k-LinslvPerfSer\tSIP_Poisson_J69120_k3_exp_gmres_levelpmg\t05/24/2022 06:03:25\t7d30251d...\r\n",
       "#3: WIP-k-LinslvPerfSer\tSIP_Poisson_J163840_k2_exp_Kcycle_schwarz\t05/24/2022 06:03:54\t171f6bc0...\r\n",
       "#4: WIP-k-LinslvPerfSer\tSIP_Poisson_J2560_k5_pMultigrid\t05/24/2022 06:05:24\tc95ff43e...\r\n",
       "#5: WIP-k-LinslvPerfSer\tSIP_Poisson_J2560_k5_exp_Kcycle_schwarz\t05/24/2022 06:04:36\t89391ec8...\r\n",
       "#6: WIP-k-LinslvPerfSer\tSIP_Poisson_J2560_k3_pMultigrid\t05/24/2022 06:04:56\tddc16fa7...\r\n",
       "#7: WIP-k-LinslvPerfSer\tSIP_Poisson_J320_k5_pMultigrid\t05/24/2022 06:05:11\td68fd4b7...\r\n",
       "#8: WIP-k-LinslvPerfSer\tSIP_Poisson_J2560_k3_exp_Kcycle_schwarz\t05/24/2022 06:04:08\t0b6ec0f3...\r\n",
       "#9: WIP-k-LinslvPerfSer\tSIP_Poisson_J2560_k2_exp_Kcycle_schwarz\t05/24/2022 06:03:40\t3b511c77...\r\n",
       "#10: WIP-k-LinslvPerfSer\tSIP_Poisson_J20480_k5_exp_Kcycle_schwarz\t05/23/2022 18:00:42\t313c304c...\r\n",
       "#11: WIP-k-LinslvPerfSer\tSIP_Poisson_J163840_k2_pMultigrid\t05/23/2022 18:01:50\t219476f6...\r\n",
       "#12: WIP-k-LinslvPerfSer\tSIP_Poisson_J69120_k3_pMultigrid\t05/23/2022 18:02:44\t56bd8608...\r\n",
       "#13: WIP-k-LinslvPerfSer\tSIP_Poisson_J163840_k2_exp_gmres_levelpmg\t05/23/2022 17:56:47\tb9898fcd...\r\n",
       "#14: WIP-k-LinslvPerfSer\tSIP_Poisson_J20480_k5_exp_gmres_levelpmg\t05/23/2022 17:58:11\t5e49f89c...\r\n",
       "#15: WIP-k-LinslvPerfSer\tSIP_Poisson_J69120_k2_direct_pardiso\t05/23/2022 17:54:54\t3afd81ab...\r\n",
       "#16: WIP-k-LinslvPerfSer\tSIP_Poisson_J69120_k2_pMultigrid\t05/23/2022 18:01:37\tc348f775...\r\n",
       "#17: WIP-k-LinslvPerfSer\tSIP_Poisson_J20480_k3_direct_pardiso\t05/23/2022 17:55:26\tf368139c...\r\n",
       "#18: WIP-k-LinslvPerfSer\tSIP_Poisson_J20480_k3_pMultigrid\t05/23/2022 18:02:30\tc728b20a...\r\n",
       "#19: WIP-k-LinslvPerfSer\tSIP_Poisson_J69120_k2_exp_Kcycle_schwarz\t05/23/2022 17:59:01\t93e5f523...\r\n",
       "#20: WIP-k-LinslvPerfSer\tSIP_Poisson_J163840_k2_exp_Kcycle_schwarz*\t05/23/2022 17:59:13\ta66ecfdf...\r\n",
       "#21: WIP-k-LinslvPerfSer\tSIP_Poisson_J20480_k3_exp_Kcycle_schwarz\t05/23/2022 17:59:51\t469af62d...\r\n",
       "#22: WIP-k-LinslvPerfSer\tSIP_Poisson_J20480_k5_pMultigrid*\t05/23/2022 18:03:24\t24c953d9...\r\n",
       "#23: WIP-k-LinslvPerfSer\tSIP_Poisson_J20480_k2_pMultigrid\t05/23/2022 18:01:23\t1bad2bbd...\r\n",
       "#24: WIP-k-LinslvPerfSer\tSIP_Poisson_J69120_k2_exp_gmres_levelpmg\t05/23/2022 17:56:36\ta6506b88...\r\n",
       "#25: WIP-k-LinslvPerfSer\tSIP_Poisson_J2560_k5_pMultigrid*\t05/23/2022 18:03:11\td038ae4e...\r\n",
       "#26: WIP-k-LinslvPerfSer\tSIP_Poisson_J69120_k3_exp_Kcycle_schwarz*\t05/23/2022 18:00:04\t5918c7ee...\r\n",
       "#27: WIP-k-LinslvPerfSer\tSIP_Poisson_J320_k5_pMultigrid*\t05/23/2022 18:02:58\t77ab5e43...\r\n",
       "#28: WIP-k-LinslvPerfSer\tSIP_Poisson_J2560_k3_pMultigrid*\t05/23/2022 18:02:18\t9d5891d6...\r\n",
       "#29: WIP-k-LinslvPerfSer\tSIP_Poisson_J320_k3_pMultigrid\t05/23/2022 18:02:04\t5db687a7...\r\n",
       "#30: WIP-k-LinslvPerfSer\tSIP_Poisson_J20480_k3_exp_gmres_levelpmg\t05/23/2022 17:57:21\td81dfc98...\r\n",
       "#31: WIP-k-LinslvPerfSer\tSIP_Poisson_J2560_k2_pMultigrid\t05/23/2022 18:01:08\t20fd3fbd...\r\n",
       "#32: WIP-k-LinslvPerfSer\tSIP_Poisson_J20480_k2_exp_Kcycle_schwarz\t05/23/2022 17:58:48\tdc54a2d0...\r\n",
       "#33: WIP-k-LinslvPerfSer\tSIP_Poisson_J320_k2_pMultigrid\t05/23/2022 18:00:55\tc6e945bd...\r\n",
       "#34: WIP-k-LinslvPerfSer\tSIP_Poisson_J2560_k5_direct_pardiso\t05/23/2022 17:55:51\tb2816c83...\r\n",
       "#35: WIP-k-LinslvPerfSer\tSIP_Poisson_J2560_k5_exp_gmres_levelpmg\t05/23/2022 17:58:00\tdfcb8663...\r\n",
       "#36: WIP-k-LinslvPerfSer\tSIP_Poisson_J69120_k3_exp_gmres_levelpmg*\t05/23/2022 17:57:33\t86674daf...\r\n",
       "#37: WIP-k-LinslvPerfSer\tSIP_Poisson_J2560_k5_exp_Kcycle_schwarz*\t05/23/2022 18:00:29\t22980daf...\r\n",
       "#38: WIP-k-LinslvPerfSer\tSIP_Poisson_J320_k5_exp_Kcycle_schwarz\t05/23/2022 18:00:16\t7bfe7fcf...\r\n",
       "#39: WIP-k-LinslvPerfSer\tSIP_Poisson_J2560_k3_exp_Kcycle_schwarz*\t05/23/2022 17:59:39\te35953a8...\r\n",
       "#40: WIP-k-LinslvPerfSer\tSIP_Poisson_J320_k3_exp_Kcycle_schwarz\t05/23/2022 17:59:26\t39b2e8b3...\r\n",
       "#41: WIP-k-LinslvPerfSer\tSIP_Poisson_J20480_k2_exp_gmres_levelpmg\t05/23/2022 17:56:24\tcff73330...\r\n",
       "#42: WIP-k-LinslvPerfSer\tSIP_Poisson_J2560_k2_exp_Kcycle_schwarz*\t05/23/2022 17:58:36\t8c191bd0...\r\n",
       "#43: WIP-k-LinslvPerfSer\tSIP_Poisson_J320_k2_exp_Kcycle_schwarz\t05/23/2022 17:58:23\ta5613472...\r\n",
       "#44: WIP-k-LinslvPerfSer\tSIP_Poisson_J320_k5_exp_gmres_levelpmg\t05/23/2022 17:57:47\t5c3afad2...\r\n",
       "#45: WIP-k-LinslvPerfSer\tSIP_Poisson_J2560_k3_exp_gmres_levelpmg\t05/23/2022 17:57:09\ta50c6d08...\r\n",
       "#46: WIP-k-LinslvPerfSer\tSIP_Poisson_J20480_k2_direct_pardiso\t05/23/2022 17:54:43\tacd0cb48...\r\n",
       "#47: WIP-k-LinslvPerfSer\tSIP_Poisson_J320_k3_exp_gmres_levelpmg\t05/23/2022 17:56:59\te8cb3ed0...\r\n",
       "#48: WIP-k-LinslvPerfSer\tSIP_Poisson_J2560_k2_exp_gmres_levelpmg\t05/23/2022 17:56:14\t488abb2c...\r\n",
       "#49: WIP-k-LinslvPerfSer\tSIP_Poisson_J320_k2_exp_gmres_levelpmg\t05/23/2022 17:56:02\t23a3edab...\r\n",
       "#50: WIP-k-LinslvPerfSer\tSIP_Poisson_J320_k5_direct_pardiso\t05/23/2022 17:55:39\tbd9f47ef...\r\n",
       "#51: WIP-k-LinslvPerfSer\tSIP_Poisson_J2560_k3_direct_pardiso\t05/23/2022 17:55:15\t76690675...\r\n",
       "#52: WIP-k-LinslvPerfSer\tSIP_Poisson_J320_k3_direct_pardiso\t05/23/2022 17:55:05\t6ab9244d...\r\n",
       "#53: WIP-k-LinslvPerfSer\tSIP_Poisson_J2560_k2_direct_pardiso\t05/23/2022 17:54:32\t34b95dee...\r\n",
       "#54: WIP-k-LinslvPerfSer\tSIP_Poisson_J320_k2_direct_pardiso\t05/23/2022 17:54:22\t803a2124...\r\n"
      ]
     },
     "execution_count": 27,
     "metadata": {},
     "output_type": "execute_result"
    }
   ],
   "source": [
    "wmg.Sessions"
   ]
  },
  {
   "cell_type": "code",
   "execution_count": 28,
   "metadata": {
    "dotnet_interactive": {
     "language": "csharp"
    }
   },
   "outputs": [
    {
     "data": {
      "text/plain": []
     },
     "execution_count": 28,
     "metadata": {},
     "output_type": "execute_result"
    }
   ],
   "source": [
    "var NoSuccess = controls.Select(ctrl => ctrl.GetJob()).Where(job => job.Status != JobStatus.FinishedSuccessful).ToArray();\n",
    "NoSuccess"
   ]
  },
  {
   "cell_type": "code",
   "execution_count": 29,
   "metadata": {
    "dotnet_interactive": {
     "language": "csharp"
    }
   },
   "outputs": [],
   "source": [
    "foreach(var fail in NoSuccess)\n",
    "    Console.WriteLine(fail + \":  @\" + fail.LatestDeployment.DeploymentDirectory.FullName);"
   ]
  },
  {
   "cell_type": "code",
   "execution_count": 30,
   "metadata": {},
   "outputs": [],
   "source": [
    "/*\n",
    "string PathOffset = @\"C:\\Users\\jenkinsci\\Desktop\\LinSlvPerfFail-20apr22\";\n",
    "foreach(var fail in NoSuccess) {\n",
    "    var C = fail.GetControl();\n",
    "    C.savetodb = false;\n",
    "    C.SaveToFile(System.IO.Path.Combine(PathOffset, fail.Name + \".obj\"));\n",
    "    \n",
    "    string Stdout = fail.Stdout;\n",
    "    System.IO.File.WriteAllText(System.IO.Path.Combine(PathOffset, fail.Name + \"-stdout.txt\"), Stdout);\n",
    "    \n",
    "    string Stderr = fail.Stderr;\n",
    "    System.IO.File.WriteAllText(System.IO.Path.Combine(PathOffset, fail.Name + \"-stderr.txt\"), Stderr);\n",
    "}\n",
    "*/"
   ]
  },
  {
   "cell_type": "code",
   "execution_count": 31,
   "metadata": {
    "dotnet_interactive": {
     "language": "csharp"
    }
   },
   "outputs": [
    {
     "data": {
      "text/plain": [
       "#0: WIP-k-LinslvPerfSer\tSIP_Poisson_J163840_k2_exp_Kcycle_schwarz*\t05/23/2022 17:59:13\ta66ecfdf...\r\n",
       "#1: WIP-k-LinslvPerfSer\tSIP_Poisson_J20480_k5_pMultigrid*\t05/23/2022 18:03:24\t24c953d9...\r\n",
       "#2: WIP-k-LinslvPerfSer\tSIP_Poisson_J2560_k5_pMultigrid*\t05/23/2022 18:03:11\td038ae4e...\r\n",
       "#3: WIP-k-LinslvPerfSer\tSIP_Poisson_J69120_k3_exp_Kcycle_schwarz*\t05/23/2022 18:00:04\t5918c7ee...\r\n",
       "#4: WIP-k-LinslvPerfSer\tSIP_Poisson_J320_k5_pMultigrid*\t05/23/2022 18:02:58\t77ab5e43...\r\n",
       "#5: WIP-k-LinslvPerfSer\tSIP_Poisson_J2560_k3_pMultigrid*\t05/23/2022 18:02:18\t9d5891d6...\r\n",
       "#6: WIP-k-LinslvPerfSer\tSIP_Poisson_J69120_k3_exp_gmres_levelpmg*\t05/23/2022 17:57:33\t86674daf...\r\n",
       "#7: WIP-k-LinslvPerfSer\tSIP_Poisson_J2560_k5_exp_Kcycle_schwarz*\t05/23/2022 18:00:29\t22980daf...\r\n",
       "#8: WIP-k-LinslvPerfSer\tSIP_Poisson_J2560_k3_exp_Kcycle_schwarz*\t05/23/2022 17:59:39\te35953a8...\r\n",
       "#9: WIP-k-LinslvPerfSer\tSIP_Poisson_J2560_k2_exp_Kcycle_schwarz*\t05/23/2022 17:58:36\t8c191bd0...\r\n"
      ]
     },
     "execution_count": 31,
     "metadata": {},
     "output_type": "execute_result"
    }
   ],
   "source": [
    "var FailedSessions = wmg.Sessions.Where(Si => Si.Name.Contains(\"SIP_Poisson\") &&\n",
    "                                        (Si.SuccessfulTermination == false\n",
    "                                        || Convert.ToInt32(Si.KeysAndQueries[\"Conv\"]) == 0));\n",
    "FailedSessions"
   ]
  },
  {
   "cell_type": "code",
   "execution_count": 36,
   "metadata": {},
   "outputs": [
    {
     "data": {
      "text/plain": [
       "#0: Job 449852, FailedOrCanceled 'WIP-k-LinslvPerfSer-ipPoisson2022May23_180255' @ MS HPC client  MSHPC-AllNodes @DC2, @\\\\fdygitrunner\\ValidationTests\r\n",
       "#1: Job 449862, FinishedSuccessful 'WIP-k-LinslvPerfSer-ipPoisson2022May24_060509' @ MS HPC client  MSHPC-AllNodes @DC2, @\\\\fdygitrunner\\ValidationTests\r\n"
      ]
     },
     "execution_count": 36,
     "metadata": {},
     "output_type": "execute_result"
    }
   ],
   "source": [
    "wmg.AllJobs[\"SIP_Poisson_J2560_k5_pMultigrid\"].AllDeployments"
   ]
  },
  {
   "cell_type": "code",
   "execution_count": 32,
   "metadata": {
    "dotnet_interactive": {
     "language": "csharp"
    }
   },
   "outputs": [],
   "source": [
    "NUnit.Framework.Assert.Zero(NoSuccess.Count(), \"Some Jobs Failed\");"
   ]
  },
  {
   "cell_type": "code",
   "execution_count": null,
   "metadata": {
    "dotnet_interactive": {
     "language": "csharp"
    }
   },
   "outputs": [],
   "source": [
    "//foreach(Job jF in NoSuccess)\n",
    "//   jF.DeleteOldDeploymentsAndSessions();"
   ]
  },
  {
   "cell_type": "code",
   "execution_count": null,
   "metadata": {
    "dotnet_interactive": {
     "language": "csharp"
    }
   },
   "outputs": [],
   "source": [
    "NUnit.Framework.Assert.Zero(FailedSessions.Count(), \"Some Sessions did not derminate successfully.\");"
   ]
  },
  {
   "cell_type": "markdown",
   "metadata": {},
   "source": [
    "List Output of some job (arbitrarily the first one):"
   ]
  },
  {
   "cell_type": "code",
   "execution_count": null,
   "metadata": {
    "dotnet_interactive": {
     "language": "csharp"
    }
   },
   "outputs": [],
   "source": [
    "wmg.AllJobs.First().Value.Stdout"
   ]
  },
  {
   "cell_type": "markdown",
   "metadata": {
    "dotnet_interactive": {
     "language": "csharp"
    }
   },
   "source": [
    "## Create Table for Post-Processing\n",
    "\n",
    "(moved to post-processing worksheet)"
   ]
  },
  {
   "cell_type": "code",
   "execution_count": null,
   "metadata": {
    "dotnet_interactive": {
     "language": "csharp"
    }
   },
   "outputs": [],
   "source": [
    "/*\n",
    "// evaluators to add additional columns to the session table\n",
    "static class AddCols {\n",
    "    static public object XdgMatrixAssembly_time(ISessionInfo SI) {\n",
    "        var mcr = SI.GetProfiling()[0];\n",
    "        var ndS = mcr.FindChildren(\"MatrixAssembly\");\n",
    "        var nd  = ndS.ElementAt(0);\n",
    "        return nd.TimeSpentInMethod.TotalSeconds  / nd.CallCount;\n",
    "    }\n",
    "    static public object Aggregation_basis_init_time(ISessionInfo SI) {\n",
    "        var mcr = SI.GetProfiling()[0];\n",
    "        var ndS = mcr.FindChildren(\"Aggregation_basis_init\");\n",
    "        var nd  = ndS.ElementAt(0);\n",
    "        return nd.TimeSpentInMethod.TotalSeconds  / nd.CallCount;\n",
    "    }\n",
    "    static public object Solver_Init_time(ISessionInfo SI) {\n",
    "        var mcr = SI.GetProfiling()[0];\n",
    "        var ndS = mcr.FindChildren(\"Solver_Init\");\n",
    "        var nd  = ndS.ElementAt(0);\n",
    "        //Console.WriteLine(\"Number of nodes: \" + ndS.Count() + \" cc \" + nd.CallCount );\n",
    "        return nd.TimeSpentInMethod.TotalSeconds / nd.CallCount;\n",
    "    }\n",
    "    static public object Solver_Run_time(ISessionInfo SI) {\n",
    "        var mcr = SI.GetProfiling()[0];\n",
    "        var ndS = mcr.FindChildren(\"Solver_Run\");\n",
    "        var nd  = ndS.ElementAt(0);\n",
    "        return nd.TimeSpentInMethod.TotalSeconds  / nd.CallCount;\n",
    "    }\n",
    "    static public object NoOfCores(ISessionInfo SI){\n",
    "        return SI.GetProfiling().Length;\n",
    "        }\n",
    "}\n",
    "*/"
   ]
  },
  {
   "cell_type": "code",
   "execution_count": null,
   "metadata": {
    "dotnet_interactive": {
     "language": "csharp"
    }
   },
   "outputs": [],
   "source": [
    "/*\n",
    "wmg.AdditionalSessionTableColums.Clear();\n",
    "wmg.AdditionalSessionTableColums.Add(\"MatrixAssembly\", AddCols.XdgMatrixAssembly_time);\n",
    "wmg.AdditionalSessionTableColums.Add(\"Aggregation_basis_init_time\", AddCols.Aggregation_basis_init_time);\n",
    "wmg.AdditionalSessionTableColums.Add(\"Solver_Init_time\", AddCols.Solver_Init_time);\n",
    "wmg.AdditionalSessionTableColums.Add(\"Solver_Run_time\", AddCols.Solver_Run_time);\n",
    "wmg.AdditionalSessionTableColums.Add(\"NoOfCores\", AddCols.NoOfCores);\n",
    "*/"
   ]
  },
  {
   "cell_type": "code",
   "execution_count": null,
   "metadata": {
    "dotnet_interactive": {
     "language": "csharp"
    }
   },
   "outputs": [],
   "source": [
    "/*\n",
    "var FullSessTab = wmg.SessionTable;\n",
    "\n",
    "// The Session column can't be serialized,\n",
    "// we have to remove it\n",
    "List<string> AllCols = FullSessTab.GetColumnNames().ToList();\n",
    "AllCols.Remove(\"Session\");\n",
    "FullSessTab = FullSessTab.ExtractColumns(AllCols.ToArray());\n",
    "*/"
   ]
  },
  {
   "cell_type": "code",
   "execution_count": null,
   "metadata": {
    "dotnet_interactive": {
     "language": "csharp"
    }
   },
   "outputs": [],
   "source": [
    "//foreach(var s in AllCols) Console.WriteLine(s);"
   ]
  },
  {
   "cell_type": "code",
   "execution_count": null,
   "metadata": {
    "dotnet_interactive": {
     "language": "csharp"
    }
   },
   "outputs": [],
   "source": [
    "//foreach(var s in wmg.Sessions[0].KeysAndQueries.Keys) Console.WriteLine(s + \" \\t = \" + wmg.Sessions[0].KeysAndQueries[s]);"
   ]
  },
  {
   "cell_type": "code",
   "execution_count": null,
   "metadata": {
    "dotnet_interactive": {
     "language": "csharp"
    }
   },
   "outputs": [],
   "source": [
    "/*var SubTab = FullSessTab.ExtractColumns(\n",
    "    \"SessionName\",\"DGdegree:T\", \"Grid:NoOfCells\", \"LinearSolver.SolverCode\", \"DOFs\", \"MatrixAssembly\",\n",
    "    \"Aggregation_basis_init_time\", \"Solver_Init_time\", \"Solver_Run_time\", \"NoIter\");\n",
    "*/"
   ]
  },
  {
   "cell_type": "code",
   "execution_count": null,
   "metadata": {
    "dotnet_interactive": {
     "language": "csharp"
    }
   },
   "outputs": [],
   "source": [
    "//SubTab.Print();"
   ]
  },
  {
   "cell_type": "code",
   "execution_count": null,
   "metadata": {
    "dotnet_interactive": {
     "language": "csharp"
    }
   },
   "outputs": [],
   "source": [
    "/*\n",
    "// Filename\n",
    "var now               = DateTime.Now;\n",
    "FullSessTab.TableName = wmg.CurrentProject + \"_\" + now.Year + \"-\" + now.Month + \"-\" + now.Day;\n",
    "string docpath        = FullSessTab.TableName + \".json\";\n",
    "SubTab.SaveToFile(wmg.CurrentProject + \".json\");\n",
    "SubTab.ToCSVFile(wmg.CurrentProject + \".csv\");\n",
    "*/"
   ]
  }
 ],
 "metadata": {
  "kernelspec": {
   "display_name": ".NET (C#)",
   "language": "C#",
   "name": ".net-csharp"
  },
  "language_info": {
   "file_extension": ".cs",
   "mimetype": "text/x-csharp",
   "name": "C#",
   "pygments_lexer": "csharp",
   "version": "9.0"
  }
 },
 "nbformat": 4,
 "nbformat_minor": 4
}
