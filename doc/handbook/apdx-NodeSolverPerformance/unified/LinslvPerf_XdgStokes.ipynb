{
 "cells": [
  {
   "cell_type": "markdown",
   "metadata": {},
   "source": [
    "# Linear Solver Performance: XDG Stokes, Single Core\n",
    "### Part 1, Benchmark Setup and Execution"
   ]
  },
  {
   "cell_type": "code",
   "execution_count": 1,
   "metadata": {
    "dotnet_interactive": {
     "language": "csharp"
    },
    "vscode": {
     "languageId": "dotnet-interactive.csharp"
    }
   },
   "outputs": [
    {
     "data": {
      "text/html": [
       "\r\n",
       "<div>\r\n",
       "    <div id='dotnet-interactive-this-cell-107828.Microsoft.DotNet.Interactive.Http.HttpPort' style='display: none'>\r\n",
       "        The below script needs to be able to find the current output cell; this is an easy method to get it.\r\n",
       "    </div>\r\n",
       "    <script type='text/javascript'>\r\n",
       "async function probeAddresses(probingAddresses) {\r\n",
       "    function timeout(ms, promise) {\r\n",
       "        return new Promise(function (resolve, reject) {\r\n",
       "            setTimeout(function () {\r\n",
       "                reject(new Error('timeout'))\r\n",
       "            }, ms)\r\n",
       "            promise.then(resolve, reject)\r\n",
       "        })\r\n",
       "    }\r\n",
       "\r\n",
       "    if (Array.isArray(probingAddresses)) {\r\n",
       "        for (let i = 0; i < probingAddresses.length; i++) {\r\n",
       "\r\n",
       "            let rootUrl = probingAddresses[i];\r\n",
       "\r\n",
       "            if (!rootUrl.endsWith('/')) {\r\n",
       "                rootUrl = `${rootUrl}/`;\r\n",
       "            }\r\n",
       "\r\n",
       "            try {\r\n",
       "                let response = await timeout(1000, fetch(`${rootUrl}discovery`, {\r\n",
       "                    method: 'POST',\r\n",
       "                    cache: 'no-cache',\r\n",
       "                    mode: 'cors',\r\n",
       "                    timeout: 1000,\r\n",
       "                    headers: {\r\n",
       "                        'Content-Type': 'text/plain'\r\n",
       "                    },\r\n",
       "                    body: probingAddresses[i]\r\n",
       "                }));\r\n",
       "\r\n",
       "                if (response.status == 200) {\r\n",
       "                    return rootUrl;\r\n",
       "                }\r\n",
       "            }\r\n",
       "            catch (e) { }\r\n",
       "        }\r\n",
       "    }\r\n",
       "}\r\n",
       "\r\n",
       "function loadDotnetInteractiveApi() {\r\n",
       "    probeAddresses([\"http://130.83.248.207:1001/\", \"http://127.0.0.1:1001/\"])\r\n",
       "        .then((root) => {\r\n",
       "        // use probing to find host url and api resources\r\n",
       "        // load interactive helpers and language services\r\n",
       "        let dotnetInteractiveRequire = require.config({\r\n",
       "        context: '107828.Microsoft.DotNet.Interactive.Http.HttpPort',\r\n",
       "                paths:\r\n",
       "            {\r\n",
       "                'dotnet-interactive': `${root}resources`\r\n",
       "                }\r\n",
       "        }) || require;\r\n",
       "\r\n",
       "            window.dotnetInteractiveRequire = dotnetInteractiveRequire;\r\n",
       "\r\n",
       "            window.configureRequireFromExtension = function(extensionName, extensionCacheBuster) {\r\n",
       "                let paths = {};\r\n",
       "                paths[extensionName] = `${root}extensions/${extensionName}/resources/`;\r\n",
       "                \r\n",
       "                let internalRequire = require.config({\r\n",
       "                    context: extensionCacheBuster,\r\n",
       "                    paths: paths,\r\n",
       "                    urlArgs: `cacheBuster=${extensionCacheBuster}`\r\n",
       "                    }) || require;\r\n",
       "\r\n",
       "                return internalRequire\r\n",
       "            };\r\n",
       "        \r\n",
       "            dotnetInteractiveRequire([\r\n",
       "                    'dotnet-interactive/dotnet-interactive'\r\n",
       "                ],\r\n",
       "                function (dotnet) {\r\n",
       "                    dotnet.init(window);\r\n",
       "                },\r\n",
       "                function (error) {\r\n",
       "                    console.log(error);\r\n",
       "                }\r\n",
       "            );\r\n",
       "        })\r\n",
       "        .catch(error => {console.log(error);});\r\n",
       "    }\r\n",
       "\r\n",
       "// ensure `require` is available globally\r\n",
       "if ((typeof(require) !==  typeof(Function)) || (typeof(require.config) !== typeof(Function))) {\r\n",
       "    let require_script = document.createElement('script');\r\n",
       "    require_script.setAttribute('src', 'https://cdnjs.cloudflare.com/ajax/libs/require.js/2.3.6/require.min.js');\r\n",
       "    require_script.setAttribute('type', 'text/javascript');\r\n",
       "    \r\n",
       "    \r\n",
       "    require_script.onload = function() {\r\n",
       "        loadDotnetInteractiveApi();\r\n",
       "    };\r\n",
       "\r\n",
       "    document.getElementsByTagName('head')[0].appendChild(require_script);\r\n",
       "}\r\n",
       "else {\r\n",
       "    loadDotnetInteractiveApi();\r\n",
       "}\r\n",
       "\r\n",
       "    </script>\r\n",
       "</div>"
      ]
     },
     "metadata": {},
     "output_type": "display_data"
    },
    {
     "name": "stdout",
     "output_type": "stream",
     "text": [
      "Execution Date/time is 7/22/2022 7:12:22 AM\r\n"
     ]
    }
   ],
   "source": [
    "Console.WriteLine(\"Execution Date/time is \" + DateTime.Now);"
   ]
  },
  {
   "cell_type": "code",
   "execution_count": 2,
   "metadata": {
    "dotnet_interactive": {
     "language": "csharp"
    },
    "vscode": {
     "languageId": "dotnet-interactive.csharp"
    }
   },
   "outputs": [],
   "source": [
    "#r \"BoSSSpad.dll\"\n",
    "using System;\n",
    "using System.Collections.Generic;\n",
    "using System.Linq;\n",
    "using ilPSP;\n",
    "using ilPSP.Utils;\n",
    "using BoSSS.Platform;\n",
    "using BoSSS.Platform.LinAlg;\n",
    "using BoSSS.Foundation;\n",
    "using BoSSS.Foundation.XDG;\n",
    "using BoSSS.Foundation.Grid;\n",
    "using BoSSS.Foundation.Grid.Classic;\n",
    "using BoSSS.Foundation.Grid.RefElements;\n",
    "using BoSSS.Foundation.IO;\n",
    "using BoSSS.Solution;\n",
    "using BoSSS.Solution.Control;\n",
    "using BoSSS.Solution.GridImport;\n",
    "using BoSSS.Solution.Statistic;\n",
    "using BoSSS.Solution.Utils;\n",
    "using BoSSS.Solution.AdvancedSolvers;\n",
    "using BoSSS.Solution.Gnuplot;\n",
    "using BoSSS.Application.BoSSSpad;\n",
    "using BoSSS.Application.XNSE_Solver;\n",
    "using BoSSS.Application.XNSFE_Solver;\n",
    "using static BoSSS.Application.BoSSSpad.BoSSSshell;\n",
    "Init();"
   ]
  },
  {
   "cell_type": "code",
   "execution_count": 3,
   "metadata": {
    "dotnet_interactive": {
     "language": "csharp"
    },
    "vscode": {
     "languageId": "dotnet-interactive.csharp"
    }
   },
   "outputs": [
    {
     "name": "stdout",
     "output_type": "stream",
     "text": [
      "Project name is set to 'WIP-k-LinslvPerfSer'.\n",
      "Opening existing database '\\\\fdygitrunner\\ValidationTests\\WIP-k-LinslvPerfSer'.\n"
     ]
    },
    {
     "data": {
      "text/plain": []
     },
     "execution_count": 3,
     "metadata": {},
     "output_type": "execute_result"
    }
   ],
   "source": [
    "wmg.Init(\"WIP-k-LinslvPerfSer\");\n",
    "wmg.SetNameBasedSessionJobControlCorrelation();\n",
    "wmg.AllJobs"
   ]
  },
  {
   "cell_type": "code",
   "execution_count": 4,
   "metadata": {
    "dotnet_interactive": {
     "language": "csharp"
    },
    "vscode": {
     "languageId": "dotnet-interactive.csharp"
    }
   },
   "outputs": [],
   "source": [
    "// for examination on the local workstation, \n",
    "//OpenDatabase(@\"\\\\fdygitrunner\\ValidationTests\\LinslvPerf_XdgStokes\");"
   ]
  },
  {
   "cell_type": "code",
   "execution_count": 5,
   "metadata": {
    "dotnet_interactive": {
     "language": "csharp"
    },
    "vscode": {
     "languageId": "dotnet-interactive.csharp"
    }
   },
   "outputs": [],
   "source": [
    "/*\n",
    "// extract the control object to reproduce specific simulation on local workstation\n",
    "string dest = @\"C:\\Users\\flori\\Documents\\BoSSS-kummer\\public\\src\\L4-application\\XNSE_Solver\\bin\\Release\\net5.0\\BenchControls\";\n",
    "foreach(var s in wmg.Sessions) {\n",
    "    string name = s.Name;\n",
    "    Console.Write(name + \": \");\n",
    "    try {\n",
    "        var ctrl = s.GetControl();\n",
    "        var txt = ctrl.Serialize();\n",
    "        \n",
    "        string DestPath = System.IO.Path.Combine(dest, name + \".obj\");\n",
    "        System.IO.File.WriteAllText(DestPath, txt);\n",
    "        \n",
    "        Console.WriteLine(\"written\");\n",
    "    } catch(Exception e) {\n",
    "        Console.WriteLine(e.Message);\n",
    "    }\n",
    "}\n",
    "*/"
   ]
  },
  {
   "cell_type": "code",
   "execution_count": 6,
   "metadata": {},
   "outputs": [],
   "source": [
    "//var ss = wmg.Sessions.Where(sess => sess.Name.Contains(\"XdgStokes\"));\n",
    "//foreach(var s in ss)\n",
    "//    s.Delete(true);"
   ]
  },
  {
   "cell_type": "markdown",
   "metadata": {
    "dotnet_interactive": {
     "language": "csharp"
    }
   },
   "source": [
    "## Utility definitions"
   ]
  },
  {
   "cell_type": "code",
   "execution_count": 7,
   "metadata": {
    "dotnet_interactive": {
     "language": "csharp"
    },
    "vscode": {
     "languageId": "dotnet-interactive.csharp"
    }
   },
   "outputs": [],
   "source": [
    "static class Utils {\n",
    "    // DOF per cell in 3D for one variable\n",
    "    public static int Np(int p) {\n",
    "        return (p*p*p + 6*p*p + 11*p + 6)/6;\n",
    "    }    \n",
    "    \n",
    "    /*\n",
    "    //Non-equidistant nodes\n",
    "    public static double[] SinLinSpacing(double l, double r, double a, int n) {\n",
    "        double[] linnodes = GenericBlas.Linspace(-Math.PI * 0.5, Math.PI * 0.5, n);\n",
    "        double[] linnodes2 = GenericBlas.Linspace(-1, 1, n);\n",
    "        double[] nodes = new double[n];\n",
    "\n",
    "        for (int i = 0; i < n; i++)\n",
    "            //nodes[i] = linnodes2[i] * (1 - a) + (1.0 - Math.Sin(linnodes[i])) * a;\n",
    "            nodes[i] = linnodes2[i] * (1 - a) + Math.Sin(linnodes[i])*a;\n",
    "\n",
    "        for (int i = 0; i < n; i++)\n",
    "            nodes[i] = nodes[i] * (r - l)*0.5 + l;\n",
    "        return nodes;\n",
    "    }\n",
    "    */\n",
    "}"
   ]
  },
  {
   "cell_type": "markdown",
   "metadata": {
    "dotnet_interactive": {
     "language": "csharp"
    }
   },
   "source": [
    "## Init grids and save to database"
   ]
  },
  {
   "cell_type": "markdown",
   "metadata": {
    "dotnet_interactive": {
     "language": "csharp"
    }
   },
   "source": [
    "Note: The dimension of the domain $(-1,1)^3$ are assumed to be **centimeters**!\n",
    "In this benchmark, realistic physical values are used, i.e. densities and viscosities of \n",
    "- water for Phase A (inside the droplet)\n",
    "- air for Phase B (surounding)\n",
    "The droplet is assumed to be in the millimeter range; therefore, all lenght-, area-, and volume-related properties \n",
    "must also be set in centimeters, e.g. the density of water is $10^{-3} \\text{kg}/\\text{cm}^3$."
   ]
  },
  {
   "cell_type": "code",
   "execution_count": 8,
   "metadata": {
    "dotnet_interactive": {
     "language": "csharp"
    },
    "vscode": {
     "languageId": "dotnet-interactive.csharp"
    }
   },
   "outputs": [
    {
     "name": "stdout",
     "output_type": "stream",
     "text": [
      "Opening existing database 'C:\\BoSSStests\\WIP-k-LinslvPerfSer'.\n",
      "Found Grid: { Guid = 332447a7-b0a7-4cde-a75a-3b615a81aaac; Name = WIP-k-LinslvPerfSer-XdgStokes_J512; Cell Count = 512; Dim = 3 }\n",
      "Found Grid: { Guid = a7d28a70-9959-4417-80ae-13290b53ab44; Name = WIP-k-LinslvPerfSer-XdgStokes_J4096; Cell Count = 4096; Dim = 3 }\n",
      "Found Grid: { Guid = 4c63f3fc-0b08-4711-8f54-e535594e9183; Name = WIP-k-LinslvPerfSer-XdgStokes_J13824; Cell Count = 13824; Dim = 3 }\n",
      "Found Grid: { Guid = e21a1da6-8dd3-423e-8fc2-2054eb72ba69; Name = WIP-k-LinslvPerfSer-XdgStokes_J32768; Cell Count = 32768; Dim = 3 }\n",
      "Found Grid: { Guid = ddbfd64f-6bb3-4184-8f9b-1f674fa10231; Name = WIP-k-LinslvPerfSer-XdgStokes_J110592; Cell Count = 110592; Dim = 3 }\n",
      "Found Grid: { Guid = 1efa192f-ecf1-45ca-9f1f-d17d8db22954; Name = WIP-k-LinslvPerfSer-XdgStokes_J262144; Cell Count = 262144; Dim = 3 }\n"
     ]
    }
   ],
   "source": [
    "int[] Resolutions_3D = new int[] { 8, 16, 24, 32, 48, 64 };\n",
    "//int[] Resolutions_3D = new int[] { 2 };\n",
    "IGridInfo[] grids = new IGridInfo[Resolutions_3D.Length];\n",
    "for(int cnt = 0; cnt < Resolutions_3D.Length; cnt++) {\n",
    "    int Res = Resolutions_3D[cnt];    \n",
    "    \n",
    "    double[] xNodes = GenericBlas.Linspace(-1, +1, Res + 1);\n",
    "    double[] yNodes = GenericBlas.Linspace(-1, +1, Res + 1);\n",
    "    double[] zNodes = GenericBlas.Linspace(-1, +1, Res + 1);\n",
    "    int J = (xNodes.Length - 1)*(yNodes.Length - 1)*(zNodes.Length - 1);\n",
    "    \n",
    "    string GridName = string.Format(wmg.CurrentProject + \"-XdgStokes_J\" + J);\n",
    "    \n",
    "    grids[cnt] = wmg.Grids.SingleOrDefault(grd => grd.Name.Contains(GridName)); // check if an appropriate grid is already present in the database\n",
    "    if(grids[cnt] == null){\n",
    "        Console.WriteLine(\"Creating grid with \" + J + \" cells.\");\n",
    "        \n",
    "        GridCommons g;\n",
    "        g      = Grid3D.Cartesian3DGrid(xNodes, yNodes, zNodes);\n",
    "        g.Name = GridName;\n",
    "        \n",
    "        g.DefineEdgeTags(delegate (double[] X) {\n",
    "            if (Math.Abs(X[0] - (-1)) <= 1.0e-8)\n",
    "                return \"wall_left\";\n",
    "            if (Math.Abs(X[0] - (+1)) <= 1.0e-8)\n",
    "                return \"wall_right\";\n",
    "            if (Math.Abs(X[1] - (-1)) <= 1.0e-8)\n",
    "                return \"wall_front\";\n",
    "            if (Math.Abs(X[1] - (+1)) <= 1.0e-8)\n",
    "                return \"wall_back\";\n",
    "            if (Math.Abs(X[2] - (-1)) <= 1.0e-8)\n",
    "                return \"wall_top\";\n",
    "            if (Math.Abs(X[2] - (+1)) <= 1.0e-8)\n",
    "                return \"wall_bottom\";\n",
    "            throw new ArgumentException(\"unknown wall\");\n",
    "        });\n",
    "      \n",
    "        g = wmg.SaveGrid(g);  \n",
    "        grids[cnt] = g;\n",
    "    } else {\n",
    "        Console.WriteLine(\"Found Grid: \" + grids[cnt]);\n",
    "        if(grids[cnt].NumberOfCells != J)\n",
    "            throw new Exception(\"J mismatch\");\n",
    "        \n",
    "        if(grids[cnt].SpatialDimension != 3)\n",
    "            throw new Exception(\"D mismatch\");\n",
    "    }\n",
    "}"
   ]
  },
  {
   "cell_type": "code",
   "execution_count": 9,
   "metadata": {
    "dotnet_interactive": {
     "language": "csharp"
    },
    "vscode": {
     "languageId": "dotnet-interactive.csharp"
    }
   },
   "outputs": [
    {
     "data": {
      "text/plain": [
       "#0: { Guid = 332447a7-b0a7-4cde-a75a-3b615a81aaac; Name = WIP-k-LinslvPerfSer-XdgStokes_J512; Cell Count = 512; Dim = 3 }\r\n",
       "#1: { Guid = a7d28a70-9959-4417-80ae-13290b53ab44; Name = WIP-k-LinslvPerfSer-XdgStokes_J4096; Cell Count = 4096; Dim = 3 }\r\n",
       "#2: { Guid = 4c63f3fc-0b08-4711-8f54-e535594e9183; Name = WIP-k-LinslvPerfSer-XdgStokes_J13824; Cell Count = 13824; Dim = 3 }\r\n",
       "#3: { Guid = e21a1da6-8dd3-423e-8fc2-2054eb72ba69; Name = WIP-k-LinslvPerfSer-XdgStokes_J32768; Cell Count = 32768; Dim = 3 }\r\n",
       "#4: { Guid = ddbfd64f-6bb3-4184-8f9b-1f674fa10231; Name = WIP-k-LinslvPerfSer-XdgStokes_J110592; Cell Count = 110592; Dim = 3 }\r\n",
       "#5: { Guid = 1efa192f-ecf1-45ca-9f1f-d17d8db22954; Name = WIP-k-LinslvPerfSer-XdgStokes_J262144; Cell Count = 262144; Dim = 3 }\r\n"
      ]
     },
     "execution_count": 9,
     "metadata": {},
     "output_type": "execute_result"
    }
   ],
   "source": [
    "grids"
   ]
  },
  {
   "cell_type": "code",
   "execution_count": 10,
   "metadata": {},
   "outputs": [],
   "source": [
    "//var ss = wmg.Sessions.Where(sess => sess.Name.Contains(\"XdgStokes\") && sess.Name.Contains(\"exp_Kcycle_schwarz\"));\n",
    "//foreach(var s in ss)\n",
    "//    s.Delete(true);"
   ]
  },
  {
   "cell_type": "markdown",
   "metadata": {
    "dotnet_interactive": {
     "language": "csharp"
    }
   },
   "source": [
    "## Setup Control Object for a Solver Run"
   ]
  },
  {
   "cell_type": "code",
   "execution_count": 11,
   "metadata": {
    "dotnet_interactive": {
     "language": "csharp"
    },
    "vscode": {
     "languageId": "dotnet-interactive.csharp"
    }
   },
   "outputs": [],
   "source": [
    "// - - - - - - - - - - - - - - - - - - -\n",
    "// Initial Values & Boundary conditions\n",
    "// - - - - - - - - - - - - - - - - - - -"
   ]
  },
  {
   "cell_type": "code",
   "execution_count": 12,
   "metadata": {
    "dotnet_interactive": {
     "language": "csharp"
    },
    "vscode": {
     "languageId": "dotnet-interactive.csharp"
    }
   },
   "outputs": [],
   "source": [
    "using BoSSS.Application.XNSE_Solver;\n",
    "using BoSSS.Solution.LevelSetTools;\n",
    "using BoSSS.Solution.AdvancedSolvers;\n",
    "using BoSSS.Solution.XNSECommon;\n",
    "using BoSSS.Solution.Timestepping;\n",
    "using BoSSS.Solution.XdgTimestepping ;"
   ]
  },
  {
   "cell_type": "markdown",
   "metadata": {
    "dotnet_interactive": {
     "language": "csharp"
    }
   },
   "source": [
    "### Setup of Parameter Study"
   ]
  },
  {
   "cell_type": "markdown",
   "metadata": {},
   "source": [
    "Polynomial degrees to test:"
   ]
  },
  {
   "cell_type": "code",
   "execution_count": 13,
   "metadata": {
    "dotnet_interactive": {
     "language": "csharp"
    },
    "vscode": {
     "languageId": "dotnet-interactive.csharp"
    }
   },
   "outputs": [],
   "source": [
    "int[] PolyDegS = new int[] {2, 3 ,5};"
   ]
  },
  {
   "cell_type": "markdown",
   "metadata": {},
   "source": [
    "Solvers which we want to instrument:"
   ]
  },
  {
   "cell_type": "code",
   "execution_count": 14,
   "metadata": {
    "dotnet_interactive": {
     "language": "csharp"
    },
    "vscode": {
     "languageId": "dotnet-interactive.csharp"
    }
   },
   "outputs": [],
   "source": [
    "// Solvers which we want to instrument:\n",
    "LinearSolverCode[] solver_nameS = new LinearSolverCode[] {\n",
    "    LinearSolverCode.direct_pardiso,\n",
    "    LinearSolverCode.exp_gmres_levelpmg,\n",
    "    LinearSolverCode.exp_Kcycle_schwarz,\n",
    "    LinearSolverCode.pMultigrid\n",
    "}; "
   ]
  },
  {
   "cell_type": "markdown",
   "metadata": {},
   "source": [
    "Maximum Dof for one calculation (we skip fine grids for higher polynomial orders):"
   ]
  },
  {
   "cell_type": "code",
   "execution_count": 15,
   "metadata": {
    "dotnet_interactive": {
     "language": "csharp"
    },
    "vscode": {
     "languageId": "dotnet-interactive.csharp"
    }
   },
   "outputs": [],
   "source": [
    "int GetMaxAllowedDOF(LinearSolverCode code) {\n",
    "    switch(code) {\n",
    "        case LinearSolverCode.direct_pardiso:\n",
    "        case LinearSolverCode.direct_mumps:\n",
    "        return 1100000; // 1.1 Million for direct solvers at maximum\n",
    "    \n",
    "        default: \n",
    "        return 3000000; // Up to 3 Million for iterative solvers\n",
    "    }\n",
    "}"
   ]
  },
  {
   "cell_type": "markdown",
   "metadata": {},
   "source": [
    "Loop over all combinations of parameters and define a control object for each combo:"
   ]
  },
  {
   "cell_type": "code",
   "execution_count": 16,
   "metadata": {
    "dotnet_interactive": {
     "language": "csharp"
    },
    "vscode": {
     "languageId": "dotnet-interactive.csharp"
    }
   },
   "outputs": [],
   "source": [
    "using BoSSS.Solution.XNSECommon;\n",
    "using BoSSS.Foundation.XDG;"
   ]
  },
  {
   "cell_type": "code",
   "execution_count": 17,
   "metadata": {
    "dotnet_interactive": {
     "language": "csharp"
    },
    "vscode": {
     "languageId": "dotnet-interactive.csharp"
    }
   },
   "outputs": [
    {
     "name": "stdout",
     "output_type": "stream",
     "text": [
      "setting up: XdgStokes-J512_p2_direct_pardiso\n",
      "setting up: XdgStokes-J4096_p2_direct_pardiso\n",
      "setting up: XdgStokes-J13824_p2_direct_pardiso\n",
      "setting up: XdgStokes-J512_p3_direct_pardiso\n",
      "setting up: XdgStokes-J4096_p3_direct_pardiso\n",
      "setting up: XdgStokes-J13824_p3_direct_pardiso\n",
      "setting up: XdgStokes-J512_p5_direct_pardiso\n",
      "setting up: XdgStokes-J4096_p5_direct_pardiso\n",
      "setting up: XdgStokes-J512_p2_exp_gmres_levelpmg\n",
      "setting up: XdgStokes-J4096_p2_exp_gmres_levelpmg\n",
      "setting up: XdgStokes-J13824_p2_exp_gmres_levelpmg\n",
      "setting up: XdgStokes-J32768_p2_exp_gmres_levelpmg\n",
      "setting up: XdgStokes-J512_p3_exp_gmres_levelpmg\n",
      "setting up: XdgStokes-J4096_p3_exp_gmres_levelpmg\n",
      "setting up: XdgStokes-J13824_p3_exp_gmres_levelpmg\n",
      "setting up: XdgStokes-J32768_p3_exp_gmres_levelpmg\n",
      "setting up: XdgStokes-J512_p5_exp_gmres_levelpmg\n",
      "setting up: XdgStokes-J4096_p5_exp_gmres_levelpmg\n",
      "setting up: XdgStokes-J13824_p5_exp_gmres_levelpmg\n",
      "setting up: XdgStokes-J512_p2_exp_Kcycle_schwarz\n",
      "setting up: XdgStokes-J4096_p2_exp_Kcycle_schwarz\n",
      "setting up: XdgStokes-J13824_p2_exp_Kcycle_schwarz\n",
      "setting up: XdgStokes-J32768_p2_exp_Kcycle_schwarz\n",
      "setting up: XdgStokes-J512_p3_exp_Kcycle_schwarz\n",
      "setting up: XdgStokes-J4096_p3_exp_Kcycle_schwarz\n",
      "setting up: XdgStokes-J13824_p3_exp_Kcycle_schwarz\n",
      "setting up: XdgStokes-J32768_p3_exp_Kcycle_schwarz\n",
      "setting up: XdgStokes-J512_p5_exp_Kcycle_schwarz\n",
      "setting up: XdgStokes-J4096_p5_exp_Kcycle_schwarz\n",
      "setting up: XdgStokes-J13824_p5_exp_Kcycle_schwarz\n",
      "setting up: XdgStokes-J512_p2_pMultigrid\n",
      "setting up: XdgStokes-J4096_p2_pMultigrid\n",
      "setting up: XdgStokes-J13824_p2_pMultigrid\n",
      "setting up: XdgStokes-J32768_p2_pMultigrid\n",
      "setting up: XdgStokes-J512_p3_pMultigrid\n",
      "setting up: XdgStokes-J4096_p3_pMultigrid\n",
      "setting up: XdgStokes-J13824_p3_pMultigrid\n",
      "setting up: XdgStokes-J32768_p3_pMultigrid\n",
      "setting up: XdgStokes-J512_p5_pMultigrid\n",
      "setting up: XdgStokes-J4096_p5_pMultigrid\n",
      "setting up: XdgStokes-J13824_p5_pMultigrid\n"
     ]
    }
   ],
   "source": [
    "List<XNSE_Control> controls = new List<XNSE_Control>();\n",
    "controls.Clear();\n",
    "foreach(LinearSolverCode solver in solver_nameS) {\n",
    "foreach(int k in PolyDegS) {\n",
    "foreach(IGridInfo grd in grids) {\n",
    "\n",
    "    int Np_V = Utils.Np(k);\n",
    "    int Np_p = Utils.Np(k-1);\n",
    "    int J    = grd.NumberOfCells;\n",
    "    int DOF  = Np_V*3 + Np_p;\n",
    "    if(J*DOF >  GetMaxAllowedDOF(solver))\n",
    "        continue;\n",
    "    \n",
    "    // Control Instance, grid, DG degree, etc.\n",
    "    // =======================================\n",
    "    \n",
    "    XNSE_Control C = new XNSE_Control();\n",
    "    controls.Add(C);\n",
    "       \n",
    "    string caseName = string.Format(\"XdgStokes-J{0}_p{1}_{2}\", J, k, solver);\n",
    "    Console.WriteLine(\"setting up: \" + caseName);\n",
    "    C.SessionName        = caseName;\n",
    "    \n",
    "    C.SetGrid(grd);\n",
    "    C.savetodb = true;\n",
    "    C.SetDGdegree(k);\n",
    "    \n",
    "    // Phys. Parameters\n",
    "    // ================\n",
    "    \n",
    "    // Species A: Water; Species B: Air\n",
    "    C.PhysicalParameters.rho_A             = 1.0; //1e-3; //     kg / cm³\n",
    "    C.PhysicalParameters.rho_B             = 1.0; //1.2e-6; //   kg / cm³\n",
    "    C.PhysicalParameters.mu_A              = 1.0; //1e-5; //      kg / cm / sec\n",
    "    C.PhysicalParameters.mu_B              = 1.0; //17.1e-8; //   kg / cm / sec\n",
    "    C.PhysicalParameters.Sigma             = 72.75e-3; // kg / sec²   \n",
    "    C.PhysicalParameters.IncludeConvection = false;\n",
    "    C.PhysicalParameters.Material          = true;\n",
    "    \n",
    "    // Dont know\n",
    "    // ============\n",
    "    \n",
    "    double r     = 0.5;\n",
    "    double nonsp = 0.5;\n",
    "\n",
    "    C.AddInitialValue(\"Phi\", new Formula($\"X => (X[0]/{r*nonsp}).Pow2() + (X[1]/{r}).Pow2() + (X[2]/{r}).Pow2() - 1\", false));\n",
    "    \n",
    "    C.LSContiProjectionMethod = BoSSS.Solution.LevelSetTools.ContinuityProjectionOption.None;\n",
    "    //C.CutCellQuadratureType   = BoSSS.Foundation.XDG.XQuadFactoryHelper.MomentFittingVariants.Saye;\n",
    "    C.ComputeEnergyProperties = false;\n",
    "\n",
    "    \n",
    "    // Solver Stuff\n",
    "    // ============\n",
    "    \n",
    "    C.LinearSolver           = solver.GetConfig();\n",
    "    if(C.LinearSolver is IterativeSolverConfig isc) {\n",
    "        isc.ConvergenceCriterion = 1e-8;\n",
    "    }\n",
    "    C.NoOfMultigridLevels = 100;\n",
    "    C.TracingNamespaces = \"BoSSS.Solution\";\n",
    "    C.LevelSet_ConvergenceCriterion     = 1e-6;\n",
    "\n",
    "    //C.Option_LevelSetEvolution                          = LevelSetEvolution.FastMarching;\n",
    "    C.AdvancedDiscretizationOptions.SST_isotropicMode   = SurfaceStressTensor_IsotropicMode.Curvature_Projected;\n",
    "    //C.AdvancedDiscretizationOptions.ViscosityMode       = ViscosityMode.Standard;\n",
    "    C.AdvancedDiscretizationOptions.FilterConfiguration = CurvatureAlgorithms.FilterConfiguration.NoFilter;\n",
    "\n",
    "    // Timestepping / Instationary\n",
    "    // ===========================\n",
    "\n",
    "    C.TimesteppingMode             = AppControl._TimesteppingMode.Steady;\n",
    "    //C.dtFixed = 0.01;\n",
    "}\n",
    "}\n",
    "}"
   ]
  },
  {
   "cell_type": "markdown",
   "metadata": {},
   "source": [
    "Total number of simulations:"
   ]
  },
  {
   "cell_type": "code",
   "execution_count": 18,
   "metadata": {
    "dotnet_interactive": {
     "language": "csharp"
    },
    "vscode": {
     "languageId": "dotnet-interactive.csharp"
    }
   },
   "outputs": [
    {
     "data": {
      "text/html": [
       "<div class=\"dni-plaintext\">41</div>"
      ]
     },
     "execution_count": 18,
     "metadata": {},
     "output_type": "execute_result"
    }
   ],
   "source": [
    "controls.Count"
   ]
  },
  {
   "cell_type": "code",
   "execution_count": 19,
   "metadata": {
    "dotnet_interactive": {
     "language": "csharp"
    },
    "vscode": {
     "languageId": "dotnet-interactive.csharp"
    }
   },
   "outputs": [],
   "source": [
    "// Assert that the location of the fluid phases is as desired:\n",
    "NUnit.Framework.Assert.Negative(controls[0].InitialValues[\"Phi\"].Evaluate(new double[]{0,0.0,0}, 0.0), \"phase A (negative) must be inside\");\n",
    "NUnit.Framework.Assert.Positive(controls[0].InitialValues[\"Phi\"].Evaluate(new double[]{0,4.0,0}, 0.0), \"phase B (positive) must be inside\");"
   ]
  },
  {
   "cell_type": "code",
   "execution_count": 20,
   "metadata": {
    "dotnet_interactive": {
     "language": "csharp"
    },
    "vscode": {
     "languageId": "dotnet-interactive.csharp"
    }
   },
   "outputs": [],
   "source": [
    "// Basic checks on the multigrid configuration\n",
    "foreach(var ctrl in controls) {\n",
    "    NUnit.Framework.Assert.Greater(ctrl.NoOfMultigridLevels, 1, \"More than 1 multigrid level must be set\");\n",
    "    if(ctrl.LinearSolver is OrthoMGSchwarzConfig osc)\n",
    "        NUnit.Framework.Assert.Greater(osc.NoOfMultigridLevels, 1, \"More than 1 multigrid level must be set\");\n",
    "}"
   ]
  },
  {
   "cell_type": "code",
   "execution_count": 21,
   "metadata": {
    "dotnet_interactive": {
     "language": "csharp"
    },
    "vscode": {
     "languageId": "dotnet-interactive.csharp"
    }
   },
   "outputs": [],
   "source": [
    "//string path = @\"C:\\Users\\flori\\Documents\\BoSSS-kummer\\public\\src\\L4-application\\XNSE_Solver\\bin\\Release\\net5.0\\Xstokes\";\n",
    "//foreach(var ctrl in controls) {\n",
    "//    ctrl.savetodb = false;\n",
    "//    ctrl.SaveToFile(System.IO.Path.Combine(path, ctrl.SessionName + \".obj\"));\n",
    "//}"
   ]
  },
  {
   "cell_type": "markdown",
   "metadata": {
    "dotnet_interactive": {
     "language": "csharp"
    }
   },
   "source": [
    "## Launch Jobs"
   ]
  },
  {
   "cell_type": "markdown",
   "metadata": {},
   "source": [
    "Use the default queue defined on this machine:"
   ]
  },
  {
   "cell_type": "code",
   "execution_count": 22,
   "metadata": {
    "dotnet_interactive": {
     "language": "csharp"
    },
    "vscode": {
     "languageId": "dotnet-interactive.csharp"
    }
   },
   "outputs": [
    {
     "data": {
      "text/html": [
       "<table><thead><tr><th><i>index</i></th><th>RuntimeLocation</th><th>DeploymentBaseDirectory</th><th>DeployRuntime</th><th>Name</th><th>DotnetRuntime</th><th>Username</th><th>ServerName</th><th>ComputeNodes</th><th>DefaultJobPriority</th><th>SingleNode</th><th>AllowedDatabasesPaths</th></tr></thead><tbody><tr><td>0</td><td>win\\amd64</td><td>C:\\BoSSStests</td><td>False</td><td>MSHPC-Gitrunner-HighPrio</td><td>dotnet</td><td>FDY\\jenkinsci</td><td>DC2</td><td>[ fdygitrunner ]</td><td>Highest</td><td>True</td><td>[ C:\\BoSSStests, C:\\Users\\jenkinsci\\ ]</td></tr><tr><td>1</td><td>win\\amd64</td><td>\\\\fdygitrunner\\BoSSStests</td><td>False</td><td>MSHPC-Gitrunner-DefaultTest</td><td>dotnet</td><td>FDY\\jenkinsci</td><td>DC2</td><td>[ hpccluster, fdygitrunner, hpcluster3, hpccluster2 ]</td><td>Normal</td><td>True</td><td>[ \\\\fdygitrunner\\BoSSStests ]</td></tr><tr><td>2</td><td>win\\amd64</td><td>\\\\fdygitrunner\\ValidationTests</td><td>True</td><td>MSHPC-AllNodes</td><td>dotnet</td><td>FDY\\jenkinsci</td><td>DC2</td><td>[ hpccluster, hpccluster2, hpcluster3, fdygitrunner ]</td><td>Normal</td><td>True</td><td>[ \\\\fdygitrunner\\ValidationTests ]</td></tr><tr><td>3</td><td>win\\amd64</td><td>\\\\fdygitrunner\\ValidationTests</td><td>True</td><td>MSHPC-FastNodes</td><td>dotnet</td><td>FDY\\jenkinsci</td><td>DC2</td><td>[ hpcluster3 ]</td><td>Normal</td><td>True</td><td>[ \\\\fdygitrunner\\ValidationTests ]</td></tr></tbody></table>"
      ]
     },
     "execution_count": 22,
     "metadata": {},
     "output_type": "execute_result"
    }
   ],
   "source": [
    "ExecutionQueues"
   ]
  },
  {
   "cell_type": "code",
   "execution_count": 23,
   "metadata": {
    "dotnet_interactive": {
     "language": "csharp"
    },
    "vscode": {
     "languageId": "dotnet-interactive.csharp"
    }
   },
   "outputs": [
    {
     "data": {
      "text/html": [
       "<table><thead><tr><th>RuntimeLocation</th><th>DeploymentBaseDirectory</th><th>DeployRuntime</th><th>Name</th><th>DotnetRuntime</th><th>Username</th><th>ServerName</th><th>ComputeNodes</th><th>DefaultJobPriority</th><th>SingleNode</th><th>AllowedDatabasesPaths</th></tr></thead><tbody><tr><td><div class=\"dni-plaintext\">win\\amd64</div></td><td><div class=\"dni-plaintext\">\\\\fdygitrunner\\ValidationTests</div></td><td><div class=\"dni-plaintext\">True</div></td><td><div class=\"dni-plaintext\">MSHPC-AllNodes</div></td><td><div class=\"dni-plaintext\">dotnet</div></td><td><div class=\"dni-plaintext\">FDY\\jenkinsci</div></td><td><div class=\"dni-plaintext\">DC2</div></td><td><div class=\"dni-plaintext\">[ hpccluster, hpccluster2, hpcluster3, fdygitrunner ]</div></td><td><div class=\"dni-plaintext\">Normal</div></td><td><div class=\"dni-plaintext\">True</div></td><td><div class=\"dni-plaintext\">[ \\\\fdygitrunner\\ValidationTests ]</div></td></tr></tbody></table>"
      ]
     },
     "execution_count": 23,
     "metadata": {},
     "output_type": "execute_result"
    }
   ],
   "source": [
    "var myBatch = GetDefaultQueue();\n",
    "myBatch"
   ]
  },
  {
   "cell_type": "code",
   "execution_count": 24,
   "metadata": {
    "dotnet_interactive": {
     "language": "csharp"
    },
    "vscode": {
     "languageId": "dotnet-interactive.csharp"
    }
   },
   "outputs": [
    {
     "name": "stdout",
     "output_type": "stream",
     "text": [
      " Submitting: XdgStokes-J512_p2_direct_pardiso\n",
      "Note: found 2 successful deployment(s), but job is configured to require a successful result session ('this.SessionReqForSuccess' is true), and none is found. 0 sessions correlated to this job fount in total.\n",
      "Deploying job XdgStokes-J512_p2_direct_pardiso ... \n",
      "Deploying executables and additional files ...\n",
      "Deployment directory: \\\\fdygitrunner\\ValidationTests\\WIP-k-LinslvPerfSer-XNSE_Solver2022Jul22_071310\n",
      "copied 50 files.\n",
      "   written file: control.obj\n",
      "   copied 'win\\amd64' runtime.\n",
      "deployment finished.\n",
      "\n",
      " Submitting: XdgStokes-J4096_p2_direct_pardiso\n",
      "Note: found 2 successful deployment(s), but job is configured to require a successful result session ('this.SessionReqForSuccess' is true), and none is found. 0 sessions correlated to this job fount in total.\n",
      "Deploying job XdgStokes-J4096_p2_direct_pardiso ... \n",
      "Deploying executables and additional files ...\n",
      "Deployment directory: \\\\fdygitrunner\\ValidationTests\\WIP-k-LinslvPerfSer-XNSE_Solver2022Jul22_071347\n",
      "copied 50 files.\n",
      "   written file: control.obj\n",
      "   copied 'win\\amd64' runtime.\n",
      "deployment finished.\n",
      "\n",
      " Submitting: XdgStokes-J13824_p2_direct_pardiso\n",
      "Note: found 2 successful deployment(s), but job is configured to require a successful result session ('this.SessionReqForSuccess' is true), and none is found. 0 sessions correlated to this job fount in total.\n",
      "Deploying job XdgStokes-J13824_p2_direct_pardiso ... \n",
      "Deploying executables and additional files ...\n",
      "Deployment directory: \\\\fdygitrunner\\ValidationTests\\WIP-k-LinslvPerfSer-XNSE_Solver2022Jul22_071418\n",
      "copied 50 files.\n",
      "   written file: control.obj\n",
      "   copied 'win\\amd64' runtime.\n",
      "deployment finished.\n",
      "\n",
      " Submitting: XdgStokes-J512_p3_direct_pardiso\n",
      "Note: found 2 successful deployment(s), but job is configured to require a successful result session ('this.SessionReqForSuccess' is true), and none is found. 0 sessions correlated to this job fount in total.\n",
      "Deploying job XdgStokes-J512_p3_direct_pardiso ... \n",
      "Deploying executables and additional files ...\n",
      "Deployment directory: \\\\fdygitrunner\\ValidationTests\\WIP-k-LinslvPerfSer-XNSE_Solver2022Jul22_071448\n",
      "copied 50 files.\n",
      "   written file: control.obj\n",
      "   copied 'win\\amd64' runtime.\n",
      "deployment finished.\n",
      "\n",
      " Submitting: XdgStokes-J4096_p3_direct_pardiso\n",
      "Note: found 2 successful deployment(s), but job is configured to require a successful result session ('this.SessionReqForSuccess' is true), and none is found. 0 sessions correlated to this job fount in total.\n",
      "Deploying job XdgStokes-J4096_p3_direct_pardiso ... \n",
      "Deploying executables and additional files ...\n",
      "Deployment directory: \\\\fdygitrunner\\ValidationTests\\WIP-k-LinslvPerfSer-XNSE_Solver2022Jul22_071520\n",
      "copied 50 files.\n",
      "   written file: control.obj\n",
      "   copied 'win\\amd64' runtime.\n",
      "deployment finished.\n",
      "\n",
      " Submitting: XdgStokes-J13824_p3_direct_pardiso\n",
      "Note: found 2 successful deployment(s), but job is configured to require a successful result session ('this.SessionReqForSuccess' is true), and none is found. 0 sessions correlated to this job fount in total.\n",
      "Deploying job XdgStokes-J13824_p3_direct_pardiso ... \n",
      "Deploying executables and additional files ...\n",
      "Deployment directory: \\\\fdygitrunner\\ValidationTests\\WIP-k-LinslvPerfSer-XNSE_Solver2022Jul22_071550\n",
      "copied 50 files.\n",
      "   written file: control.obj\n",
      "   copied 'win\\amd64' runtime.\n",
      "deployment finished.\n",
      "\n",
      " Submitting: XdgStokes-J512_p5_direct_pardiso\n",
      "Note: found 2 successful deployment(s), but job is configured to require a successful result session ('this.SessionReqForSuccess' is true), and none is found. 0 sessions correlated to this job fount in total.\n",
      "Deploying job XdgStokes-J512_p5_direct_pardiso ... \n",
      "Deploying executables and additional files ...\n",
      "Deployment directory: \\\\fdygitrunner\\ValidationTests\\WIP-k-LinslvPerfSer-XNSE_Solver2022Jul22_071619\n",
      "copied 50 files.\n",
      "   written file: control.obj\n",
      "   copied 'win\\amd64' runtime.\n",
      "deployment finished.\n",
      "\n",
      " Submitting: XdgStokes-J4096_p5_direct_pardiso\n",
      " ------------ MSHPC FailedOrCanceled; original Failed\n",
      "Note: found 1 successful deployment(s), but job is configured to require a successful result session ('this.SessionReqForSuccess' is true), and none is found. 0 sessions correlated to this job fount in total.\n",
      "Deploying job XdgStokes-J4096_p5_direct_pardiso ... \n",
      "Deploying executables and additional files ...\n",
      "Deployment directory: \\\\fdygitrunner\\ValidationTests\\WIP-k-LinslvPerfSer-XNSE_Solver2022Jul22_071649\n",
      "copied 50 files.\n",
      "   written file: control.obj\n",
      "   copied 'win\\amd64' runtime.\n",
      "deployment finished.\n",
      "\n",
      " Submitting: XdgStokes-J512_p2_exp_gmres_levelpmg\n",
      "Note: found 2 successful deployment(s), but job is configured to require a successful result session ('this.SessionReqForSuccess' is true), and none is found. 0 sessions correlated to this job fount in total.\n",
      "Deploying job XdgStokes-J512_p2_exp_gmres_levelpmg ... \n",
      "Deploying executables and additional files ...\n",
      "Deployment directory: \\\\fdygitrunner\\ValidationTests\\WIP-k-LinslvPerfSer-XNSE_Solver2022Jul22_071717\n",
      "copied 50 files.\n",
      "   written file: control.obj\n",
      "   copied 'win\\amd64' runtime.\n",
      "deployment finished.\n",
      "\n",
      " Submitting: XdgStokes-J4096_p2_exp_gmres_levelpmg\n",
      "Note: found 2 successful deployment(s), but job is configured to require a successful result session ('this.SessionReqForSuccess' is true), and none is found. 0 sessions correlated to this job fount in total.\n",
      "Deploying job XdgStokes-J4096_p2_exp_gmres_levelpmg ... \n",
      "Deploying executables and additional files ...\n",
      "Deployment directory: \\\\fdygitrunner\\ValidationTests\\WIP-k-LinslvPerfSer-XNSE_Solver2022Jul22_071746\n",
      "copied 50 files.\n",
      "   written file: control.obj\n",
      "   copied 'win\\amd64' runtime.\n",
      "deployment finished.\n",
      "\n",
      " Submitting: XdgStokes-J13824_p2_exp_gmres_levelpmg\n",
      "Note: found 2 successful deployment(s), but job is configured to require a successful result session ('this.SessionReqForSuccess' is true), and none is found. 0 sessions correlated to this job fount in total.\n",
      "Deploying job XdgStokes-J13824_p2_exp_gmres_levelpmg ... \n",
      "Deploying executables and additional files ...\n",
      "Deployment directory: \\\\fdygitrunner\\ValidationTests\\WIP-k-LinslvPerfSer-XNSE_Solver2022Jul22_071815\n",
      "copied 50 files.\n",
      "   written file: control.obj\n",
      "   copied 'win\\amd64' runtime.\n",
      "deployment finished.\n",
      "\n",
      " Submitting: XdgStokes-J32768_p2_exp_gmres_levelpmg\n",
      "Note: found 2 successful deployment(s), but job is configured to require a successful result session ('this.SessionReqForSuccess' is true), and none is found. 0 sessions correlated to this job fount in total.\n",
      "Deploying job XdgStokes-J32768_p2_exp_gmres_levelpmg ... \n",
      "Deploying executables and additional files ...\n",
      "Deployment directory: \\\\fdygitrunner\\ValidationTests\\WIP-k-LinslvPerfSer-XNSE_Solver2022Jul22_071846\n",
      "copied 50 files.\n",
      "   written file: control.obj\n",
      "   copied 'win\\amd64' runtime.\n",
      "deployment finished.\n",
      "\n",
      " Submitting: XdgStokes-J512_p3_exp_gmres_levelpmg\n",
      "Note: found 2 successful deployment(s), but job is configured to require a successful result session ('this.SessionReqForSuccess' is true), and none is found. 0 sessions correlated to this job fount in total.\n",
      "Deploying job XdgStokes-J512_p3_exp_gmres_levelpmg ... \n",
      "Deploying executables and additional files ...\n",
      "Deployment directory: \\\\fdygitrunner\\ValidationTests\\WIP-k-LinslvPerfSer-XNSE_Solver2022Jul22_071914\n",
      "copied 50 files.\n",
      "   written file: control.obj\n",
      "   copied 'win\\amd64' runtime.\n",
      "deployment finished.\n",
      "\n",
      " Submitting: XdgStokes-J4096_p3_exp_gmres_levelpmg\n",
      "Note: found 2 successful deployment(s), but job is configured to require a successful result session ('this.SessionReqForSuccess' is true), and none is found. 0 sessions correlated to this job fount in total.\n",
      "Deploying job XdgStokes-J4096_p3_exp_gmres_levelpmg ... \n",
      "Deploying executables and additional files ...\n",
      "Deployment directory: \\\\fdygitrunner\\ValidationTests\\WIP-k-LinslvPerfSer-XNSE_Solver2022Jul22_071943\n",
      "copied 50 files.\n",
      "   written file: control.obj\n",
      "   copied 'win\\amd64' runtime.\n",
      "deployment finished.\n",
      "\n",
      " Submitting: XdgStokes-J13824_p3_exp_gmres_levelpmg\n",
      "Note: found 2 successful deployment(s), but job is configured to require a successful result session ('this.SessionReqForSuccess' is true), and none is found. 0 sessions correlated to this job fount in total.\n",
      "Deploying job XdgStokes-J13824_p3_exp_gmres_levelpmg ... \n"
     ]
    },
    {
     "name": "stdout",
     "output_type": "stream",
     "text": [
      "Deploying executables and additional files ...\n",
      "Deployment directory: \\\\fdygitrunner\\ValidationTests\\WIP-k-LinslvPerfSer-XNSE_Solver2022Jul22_072012\n",
      "copied 50 files.\n",
      "   written file: control.obj\n",
      "   copied 'win\\amd64' runtime.\n",
      "deployment finished.\n",
      "\n",
      " Submitting: XdgStokes-J32768_p3_exp_gmres_levelpmg\n",
      "Loading session 26140c17-10be-4564-9ac6-28c9d5e0bf98 failed with message 'Could not find file '\\\\fdygitrunner\\ValidationTests\\WIP-k-LinslvPerfSer\\sessions\\26140c17-10be-4564-9ac6-28c9d5e0bf98\\Session.info'.'\n",
      "Note: found 2 successful deployment(s), but job is configured to require a successful result session ('this.SessionReqForSuccess' is true), and none is found. 0 sessions correlated to this job fount in total.\n",
      "Deploying job XdgStokes-J32768_p3_exp_gmres_levelpmg ... \n",
      "Deploying executables and additional files ...\n",
      "Deployment directory: \\\\fdygitrunner\\ValidationTests\\WIP-k-LinslvPerfSer-XNSE_Solver2022Jul22_072040\n",
      "copied 50 files.\n",
      "   written file: control.obj\n",
      "   copied 'win\\amd64' runtime.\n",
      "deployment finished.\n",
      "\n",
      " Submitting: XdgStokes-J512_p5_exp_gmres_levelpmg\n",
      " ------------ MSHPC FailedOrCanceled; original Failed\n",
      "Note: found 1 successful deployment(s), but job is configured to require a successful result session ('this.SessionReqForSuccess' is true), and none is found. 0 sessions correlated to this job fount in total.\n",
      "Deploying job XdgStokes-J512_p5_exp_gmres_levelpmg ... \n",
      "Deploying executables and additional files ...\n",
      "Deployment directory: \\\\fdygitrunner\\ValidationTests\\WIP-k-LinslvPerfSer-XNSE_Solver2022Jul22_072108\n",
      "copied 50 files.\n",
      "   written file: control.obj\n",
      "   copied 'win\\amd64' runtime.\n",
      "deployment finished.\n",
      "\n",
      " Submitting: XdgStokes-J4096_p5_exp_gmres_levelpmg\n",
      " ------------ MSHPC FailedOrCanceled; original Failed\n",
      "Note: found 1 successful deployment(s), but job is configured to require a successful result session ('this.SessionReqForSuccess' is true), and none is found. 0 sessions correlated to this job fount in total.\n",
      "Deploying job XdgStokes-J4096_p5_exp_gmres_levelpmg ... \n",
      "Deploying executables and additional files ...\n",
      "Deployment directory: \\\\fdygitrunner\\ValidationTests\\WIP-k-LinslvPerfSer-XNSE_Solver2022Jul22_072137\n",
      "copied 50 files.\n",
      "   written file: control.obj\n",
      "   copied 'win\\amd64' runtime.\n",
      "deployment finished.\n",
      "\n",
      " Submitting: XdgStokes-J13824_p5_exp_gmres_levelpmg\n",
      " ------------ MSHPC FailedOrCanceled; original Failed\n",
      "Note: Job was deployed (3) number of times, all failed; RetryCount is 4, so try once more.\n",
      "Hint: want to re-activate the job.\n",
      "Job is FailedOrCanceled, but retry count is set to 4 and only 3 tries yet - trying once more...\n",
      "Deploying job XdgStokes-J13824_p5_exp_gmres_levelpmg ... \n",
      "Deploying executables and additional files ...\n",
      "Deployment directory: \\\\fdygitrunner\\ValidationTests\\WIP-k-LinslvPerfSer-XNSE_Solver2022Jul22_072201\n",
      "copied 50 files.\n",
      "   written file: control.obj\n",
      "   copied 'win\\amd64' runtime.\n",
      "deployment finished.\n",
      "\n",
      " Submitting: XdgStokes-J512_p2_exp_Kcycle_schwarz\n",
      "Note: found 3 successful deployment(s), but job is configured to require a successful result session ('this.SessionReqForSuccess' is true), and none is found. 0 sessions correlated to this job fount in total.\n",
      "Deploying job XdgStokes-J512_p2_exp_Kcycle_schwarz ... \n",
      "Deploying executables and additional files ...\n",
      "Deployment directory: \\\\fdygitrunner\\ValidationTests\\WIP-k-LinslvPerfSer-XNSE_Solver2022Jul22_072231\n",
      "copied 50 files.\n",
      "   written file: control.obj\n",
      "   copied 'win\\amd64' runtime.\n",
      "deployment finished.\n",
      "\n",
      " Submitting: XdgStokes-J4096_p2_exp_Kcycle_schwarz\n",
      "Note: found 3 successful deployment(s), but job is configured to require a successful result session ('this.SessionReqForSuccess' is true), and none is found. 0 sessions correlated to this job fount in total.\n",
      "Deploying job XdgStokes-J4096_p2_exp_Kcycle_schwarz ... \n",
      "Deploying executables and additional files ...\n",
      "Deployment directory: \\\\fdygitrunner\\ValidationTests\\WIP-k-LinslvPerfSer-XNSE_Solver2022Jul22_072304\n",
      "copied 50 files.\n",
      "   written file: control.obj\n",
      "   copied 'win\\amd64' runtime.\n",
      "deployment finished.\n",
      "\n",
      " Submitting: XdgStokes-J13824_p2_exp_Kcycle_schwarz\n",
      "Note: found 3 successful deployment(s), but job is configured to require a successful result session ('this.SessionReqForSuccess' is true), and none is found. 0 sessions correlated to this job fount in total.\n",
      "Deploying job XdgStokes-J13824_p2_exp_Kcycle_schwarz ... \n",
      "Deploying executables and additional files ...\n",
      "Deployment directory: \\\\fdygitrunner\\ValidationTests\\WIP-k-LinslvPerfSer-XNSE_Solver2022Jul22_072338\n",
      "copied 50 files.\n",
      "   written file: control.obj\n",
      "   copied 'win\\amd64' runtime.\n",
      "deployment finished.\n",
      "\n",
      " Submitting: XdgStokes-J32768_p2_exp_Kcycle_schwarz\n",
      "Note: found 3 successful deployment(s), but job is configured to require a successful result session ('this.SessionReqForSuccess' is true), and none is found. 0 sessions correlated to this job fount in total.\n",
      "Deploying job XdgStokes-J32768_p2_exp_Kcycle_schwarz ... \n",
      "Deploying executables and additional files ...\n",
      "Deployment directory: \\\\fdygitrunner\\ValidationTests\\WIP-k-LinslvPerfSer-XNSE_Solver2022Jul22_072410\n",
      "copied 50 files.\n",
      "   written file: control.obj\n",
      "   copied 'win\\amd64' runtime.\n",
      "deployment finished.\n",
      "\n",
      " Submitting: XdgStokes-J512_p3_exp_Kcycle_schwarz\n",
      "Note: found 3 successful deployment(s), but job is configured to require a successful result session ('this.SessionReqForSuccess' is true), and none is found. 0 sessions correlated to this job fount in total.\n",
      "Deploying job XdgStokes-J512_p3_exp_Kcycle_schwarz ... \n",
      "Deploying executables and additional files ...\n",
      "Deployment directory: \\\\fdygitrunner\\ValidationTests\\WIP-k-LinslvPerfSer-XNSE_Solver2022Jul22_072439\n",
      "copied 50 files.\n",
      "   written file: control.obj\n",
      "   copied 'win\\amd64' runtime.\n",
      "deployment finished.\n",
      "\n",
      " Submitting: XdgStokes-J4096_p3_exp_Kcycle_schwarz\n",
      "Note: found 3 successful deployment(s), but job is configured to require a successful result session ('this.SessionReqForSuccess' is true), and none is found. 0 sessions correlated to this job fount in total.\n",
      "Deploying job XdgStokes-J4096_p3_exp_Kcycle_schwarz ... \n",
      "Deploying executables and additional files ...\n",
      "Deployment directory: \\\\fdygitrunner\\ValidationTests\\WIP-k-LinslvPerfSer-XNSE_Solver2022Jul22_072508\n",
      "copied 50 files.\n",
      "   written file: control.obj\n",
      "   copied 'win\\amd64' runtime.\n",
      "deployment finished.\n",
      "\n",
      " Submitting: XdgStokes-J13824_p3_exp_Kcycle_schwarz\n",
      "Note: found 2 successful deployment(s), but job is configured to require a successful result session ('this.SessionReqForSuccess' is true), and none is found. 0 sessions correlated to this job fount in total.\n",
      "Deploying job XdgStokes-J13824_p3_exp_Kcycle_schwarz ... \n",
      "Deploying executables and additional files ...\n",
      "Deployment directory: \\\\fdygitrunner\\ValidationTests\\WIP-k-LinslvPerfSer-XNSE_Solver2022Jul22_072536\n",
      "copied 50 files.\n",
      "   written file: control.obj\n",
      "   copied 'win\\amd64' runtime.\n",
      "deployment finished.\n",
      "\n",
      " Submitting: XdgStokes-J32768_p3_exp_Kcycle_schwarz\n",
      " ------------ MSHPC FailedOrCanceled; original Failed\n",
      "Note: Job was deployed (3) number of times, all failed; RetryCount is 4, so try once more.\n",
      "Hint: want to re-activate the job.\n",
      "Job is FailedOrCanceled, but retry count is set to 4 and only 3 tries yet - trying once more...\n",
      "Deploying job XdgStokes-J32768_p3_exp_Kcycle_schwarz ... \n",
      "Deploying executables and additional files ...\n",
      "Deployment directory: \\\\fdygitrunner\\ValidationTests\\WIP-k-LinslvPerfSer-XNSE_Solver2022Jul22_072559\n",
      "copied 50 files.\n",
      "   written file: control.obj\n",
      "   copied 'win\\amd64' runtime.\n",
      "deployment finished.\n",
      "\n",
      " Submitting: XdgStokes-J512_p5_exp_Kcycle_schwarz\n",
      "Note: found 3 successful deployment(s), but job is configured to require a successful result session ('this.SessionReqForSuccess' is true), and none is found. 0 sessions correlated to this job fount in total.\n",
      "Deploying job XdgStokes-J512_p5_exp_Kcycle_schwarz ... \n",
      "Deploying executables and additional files ...\n",
      "Deployment directory: \\\\fdygitrunner\\ValidationTests\\WIP-k-LinslvPerfSer-XNSE_Solver2022Jul22_072629\n",
      "copied 50 files.\n",
      "   written file: control.obj\n",
      "   copied 'win\\amd64' runtime.\n",
      "deployment finished.\n",
      "\n",
      " Submitting: XdgStokes-J4096_p5_exp_Kcycle_schwarz\n",
      "Note: found 1 successful deployment(s), but job is configured to require a successful result session ('this.SessionReqForSuccess' is true), and none is found. 0 sessions correlated to this job fount in total.\n"
     ]
    },
    {
     "name": "stdout",
     "output_type": "stream",
     "text": [
      "Deploying job XdgStokes-J4096_p5_exp_Kcycle_schwarz ... \n",
      "Deploying executables and additional files ...\n",
      "Deployment directory: \\\\fdygitrunner\\ValidationTests\\WIP-k-LinslvPerfSer-XNSE_Solver2022Jul22_072700\n",
      "copied 50 files.\n",
      "   written file: control.obj\n",
      "   copied 'win\\amd64' runtime.\n",
      "deployment finished.\n",
      "\n",
      " Submitting: XdgStokes-J13824_p5_exp_Kcycle_schwarz\n",
      " ------------ MSHPC FailedOrCanceled; original Failed\n",
      "Note: Job was deployed (3) number of times, all failed; RetryCount is 4, so try once more.\n",
      "Hint: want to re-activate the job.\n",
      "Job is FailedOrCanceled, but retry count is set to 4 and only 3 tries yet - trying once more...\n",
      "Deploying job XdgStokes-J13824_p5_exp_Kcycle_schwarz ... \n",
      "Deploying executables and additional files ...\n",
      "Deployment directory: \\\\fdygitrunner\\ValidationTests\\WIP-k-LinslvPerfSer-XNSE_Solver2022Jul22_072724\n",
      "copied 50 files.\n",
      "   written file: control.obj\n",
      "   copied 'win\\amd64' runtime.\n",
      "deployment finished.\n",
      "\n",
      " Submitting: XdgStokes-J512_p2_pMultigrid\n",
      "Note: found 2 successful deployment(s), but job is configured to require a successful result session ('this.SessionReqForSuccess' is true), and none is found. 0 sessions correlated to this job fount in total.\n",
      "Deploying job XdgStokes-J512_p2_pMultigrid ... \n",
      "Deploying executables and additional files ...\n",
      "Deployment directory: \\\\fdygitrunner\\ValidationTests\\WIP-k-LinslvPerfSer-XNSE_Solver2022Jul22_072754\n",
      "copied 50 files.\n",
      "   written file: control.obj\n",
      "   copied 'win\\amd64' runtime.\n",
      "deployment finished.\n",
      "\n",
      " Submitting: XdgStokes-J4096_p2_pMultigrid\n",
      "Note: found 2 successful deployment(s), but job is configured to require a successful result session ('this.SessionReqForSuccess' is true), and none is found. 0 sessions correlated to this job fount in total.\n",
      "Deploying job XdgStokes-J4096_p2_pMultigrid ... \n",
      "Deploying executables and additional files ...\n",
      "Deployment directory: \\\\fdygitrunner\\ValidationTests\\WIP-k-LinslvPerfSer-XNSE_Solver2022Jul22_072826\n",
      "copied 50 files.\n",
      "   written file: control.obj\n",
      "   copied 'win\\amd64' runtime.\n",
      "deployment finished.\n",
      "\n",
      " Submitting: XdgStokes-J13824_p2_pMultigrid\n",
      " ------------ MSHPC FailedOrCanceled; original Failed\n",
      "Note: Job was deployed (3) number of times, all failed; RetryCount is 4, so try once more.\n",
      "Hint: want to re-activate the job.\n",
      "Job is FailedOrCanceled, but retry count is set to 4 and only 3 tries yet - trying once more...\n",
      "Deploying job XdgStokes-J13824_p2_pMultigrid ... \n",
      "Deploying executables and additional files ...\n",
      "Deployment directory: \\\\fdygitrunner\\ValidationTests\\WIP-k-LinslvPerfSer-XNSE_Solver2022Jul22_072855\n",
      "copied 50 files.\n",
      "   written file: control.obj\n",
      "   copied 'win\\amd64' runtime.\n",
      "deployment finished.\n",
      "\n",
      " Submitting: XdgStokes-J32768_p2_pMultigrid\n",
      "Note: found 1 successful deployment(s), but job is configured to require a successful result session ('this.SessionReqForSuccess' is true), and none is found. 0 sessions correlated to this job fount in total.\n",
      "Deploying job XdgStokes-J32768_p2_pMultigrid ... \n",
      "Deploying executables and additional files ...\n",
      "Deployment directory: \\\\fdygitrunner\\ValidationTests\\WIP-k-LinslvPerfSer-XNSE_Solver2022Jul22_072929\n",
      "copied 50 files.\n",
      "   written file: control.obj\n",
      "   copied 'win\\amd64' runtime.\n",
      "deployment finished.\n",
      "\n",
      " Submitting: XdgStokes-J512_p3_pMultigrid\n",
      "Note: found 2 successful deployment(s), but job is configured to require a successful result session ('this.SessionReqForSuccess' is true), and none is found. 0 sessions correlated to this job fount in total.\n",
      "Deploying job XdgStokes-J512_p3_pMultigrid ... \n",
      "Deploying executables and additional files ...\n",
      "Deployment directory: \\\\fdygitrunner\\ValidationTests\\WIP-k-LinslvPerfSer-XNSE_Solver2022Jul22_073001\n",
      "copied 50 files.\n",
      "   written file: control.obj\n",
      "   copied 'win\\amd64' runtime.\n",
      "deployment finished.\n",
      "\n",
      " Submitting: XdgStokes-J4096_p3_pMultigrid\n",
      "Note: found 1 successful deployment(s), but job is configured to require a successful result session ('this.SessionReqForSuccess' is true), and none is found. 0 sessions correlated to this job fount in total.\n",
      "Deploying job XdgStokes-J4096_p3_pMultigrid ... \n",
      "Deploying executables and additional files ...\n",
      "Deployment directory: \\\\fdygitrunner\\ValidationTests\\WIP-k-LinslvPerfSer-XNSE_Solver2022Jul22_073033\n",
      "copied 50 files.\n",
      "   written file: control.obj\n",
      "   copied 'win\\amd64' runtime.\n",
      "deployment finished.\n",
      "\n",
      " Submitting: XdgStokes-J13824_p3_pMultigrid\n",
      "Note: found 1 successful deployment(s), but job is configured to require a successful result session ('this.SessionReqForSuccess' is true), and none is found. 0 sessions correlated to this job fount in total.\n",
      "Deploying job XdgStokes-J13824_p3_pMultigrid ... \n",
      "Deploying executables and additional files ...\n",
      "Deployment directory: \\\\fdygitrunner\\ValidationTests\\WIP-k-LinslvPerfSer-XNSE_Solver2022Jul22_073114\n",
      "copied 50 files.\n",
      "   written file: control.obj\n",
      "   copied 'win\\amd64' runtime.\n",
      "deployment finished.\n",
      "\n",
      " Submitting: XdgStokes-J32768_p3_pMultigrid\n",
      "Note: found 1 successful deployment(s), but job is configured to require a successful result session ('this.SessionReqForSuccess' is true), and none is found. 0 sessions correlated to this job fount in total.\n",
      "Deploying job XdgStokes-J32768_p3_pMultigrid ... \n",
      "Deploying executables and additional files ...\n",
      "Deployment directory: \\\\fdygitrunner\\ValidationTests\\WIP-k-LinslvPerfSer-XNSE_Solver2022Jul22_073156\n",
      "copied 50 files.\n",
      "   written file: control.obj\n",
      "   copied 'win\\amd64' runtime.\n",
      "deployment finished.\n",
      "\n",
      " Submitting: XdgStokes-J512_p5_pMultigrid\n",
      "Note: found 2 successful deployment(s), but job is configured to require a successful result session ('this.SessionReqForSuccess' is true), and none is found. 0 sessions correlated to this job fount in total.\n",
      "Deploying job XdgStokes-J512_p5_pMultigrid ... \n",
      "Deploying executables and additional files ...\n",
      "Deployment directory: \\\\fdygitrunner\\ValidationTests\\WIP-k-LinslvPerfSer-XNSE_Solver2022Jul22_073240\n",
      "copied 50 files.\n",
      "   written file: control.obj\n",
      "   copied 'win\\amd64' runtime.\n",
      "deployment finished.\n",
      "\n",
      " Submitting: XdgStokes-J4096_p5_pMultigrid\n",
      "Note: found 1 successful deployment(s), but job is configured to require a successful result session ('this.SessionReqForSuccess' is true), and none is found. 0 sessions correlated to this job fount in total.\n",
      "Deploying job XdgStokes-J4096_p5_pMultigrid ... \n",
      "Deploying executables and additional files ...\n",
      "Deployment directory: \\\\fdygitrunner\\ValidationTests\\WIP-k-LinslvPerfSer-XNSE_Solver2022Jul22_073322\n",
      "copied 50 files.\n",
      "   written file: control.obj\n",
      "   copied 'win\\amd64' runtime.\n",
      "deployment finished.\n",
      "\n",
      " Submitting: XdgStokes-J13824_p5_pMultigrid\n",
      " ------------ MSHPC FailedOrCanceled; original Failed\n",
      "Note: Job was deployed (3) number of times, all failed; RetryCount is 4, so try once more.\n",
      "Hint: want to re-activate the job.\n",
      "Job is FailedOrCanceled, but retry count is set to 4 and only 3 tries yet - trying once more...\n",
      "Deploying job XdgStokes-J13824_p5_pMultigrid ... \n",
      "Deploying executables and additional files ...\n",
      "Deployment directory: \\\\fdygitrunner\\ValidationTests\\WIP-k-LinslvPerfSer-XNSE_Solver2022Jul22_073356\n",
      "copied 50 files.\n",
      "   written file: control.obj\n",
      "   copied 'win\\amd64' runtime.\n",
      "deployment finished.\n",
      "\n"
     ]
    }
   ],
   "source": [
    "foreach(var ctrl in controls) {\n",
    "    Console.WriteLine(\" Submitting: \" + ctrl.SessionName); \n",
    "    var j = ctrl.CreateJob();\n",
    "    j.RetryCount = 4;\n",
    "    j.Activate(myBatch);\n",
    "    //ctrl.RunBatch();\n",
    "}"
   ]
  },
  {
   "cell_type": "markdown",
   "metadata": {},
   "source": [
    "### Wait for Completion and Check Job Status"
   ]
  },
  {
   "cell_type": "code",
   "execution_count": 25,
   "metadata": {
    "dotnet_interactive": {
     "language": "csharp"
    },
    "vscode": {
     "languageId": "dotnet-interactive.csharp"
    }
   },
   "outputs": [
    {
     "name": "stdout",
     "output_type": "stream",
     "text": [
      "Error at loading of session:7a98a708-5f7f-401f-b5b8-a3476c5ed297\n",
      "Error at loading of session:ef8e0c51-4532-477d-b0d8-7576867b84b4\n",
      "Error at loading of session:ddc81fe3-0ad4-424f-936f-7d52d748406e\n",
      "Error at loading of session:b67642b7-2e7c-40d0-b0dc-c0be8d47d830\n",
      "Error at loading of session:d362b867-4e05-4651-93f5-f477533bafea\n",
      "Error at loading of session:1b9837cb-c70d-4be8-ad72-4ee0811db8f6\n",
      " ------------ MSHPC FailedOrCanceled; original Failed\n",
      " ------------ MSHPC FailedOrCanceled; original Failed\n",
      " ------------ MSHPC FailedOrCanceled; original Failed\n",
      " ------------ MSHPC FailedOrCanceled; original Failed\n",
      " ------------ MSHPC FailedOrCanceled; original Failed\n",
      " ------------ MSHPC FailedOrCanceled; original Failed\n",
      "All jobs finished.\n"
     ]
    }
   ],
   "source": [
    "wmg.BlockUntilAllJobsTerminate(3600*24*2); // wait at maximum two days for the jobs to finish"
   ]
  },
  {
   "cell_type": "code",
   "execution_count": 26,
   "metadata": {
    "dotnet_interactive": {
     "language": "csharp"
    },
    "vscode": {
     "languageId": "dotnet-interactive.csharp"
    }
   },
   "outputs": [
    {
     "data": {
      "text/plain": [
       "#0: XdgStokes-J512_p2_direct_pardiso: FinishedSuccessful (MS HPC client  MSHPC-AllNodes @DC2, @\\\\fdygitrunner\\ValidationTests)\tXdgStokes-J512_p2_direct_pardiso: FinishedSuccessful (MS HPC client  MSHPC-AllNodes @DC2, @\\\\fdygitrunner\\ValidationTests)\r\n",
       "#1: XdgStokes-J4096_p2_direct_pardiso: FinishedSuccessful (MS HPC client  MSHPC-AllNodes @DC2, @\\\\fdygitrunner\\ValidationTests)\tXdgStokes-J4096_p2_direct_pardiso: FinishedSuccessful (MS HPC client  MSHPC-AllNodes @DC2, @\\\\fdygitrunner\\ValidationTests)\r\n",
       "#2: XdgStokes-J13824_p2_direct_pardiso: FinishedSuccessful (MS HPC client  MSHPC-AllNodes @DC2, @\\\\fdygitrunner\\ValidationTests)\tXdgStokes-J13824_p2_direct_pardiso: FinishedSuccessful (MS HPC client  MSHPC-AllNodes @DC2, @\\\\fdygitrunner\\ValidationTests)\r\n",
       "#3: XdgStokes-J512_p3_direct_pardiso: FinishedSuccessful (MS HPC client  MSHPC-AllNodes @DC2, @\\\\fdygitrunner\\ValidationTests)\tXdgStokes-J512_p3_direct_pardiso: FinishedSuccessful (MS HPC client  MSHPC-AllNodes @DC2, @\\\\fdygitrunner\\ValidationTests)\r\n",
       "#4: XdgStokes-J4096_p3_direct_pardiso: FinishedSuccessful (MS HPC client  MSHPC-AllNodes @DC2, @\\\\fdygitrunner\\ValidationTests)\tXdgStokes-J4096_p3_direct_pardiso: FinishedSuccessful (MS HPC client  MSHPC-AllNodes @DC2, @\\\\fdygitrunner\\ValidationTests)\r\n",
       "#5: XdgStokes-J13824_p3_direct_pardiso: FinishedSuccessful (MS HPC client  MSHPC-AllNodes @DC2, @\\\\fdygitrunner\\ValidationTests)\tXdgStokes-J13824_p3_direct_pardiso: FinishedSuccessful (MS HPC client  MSHPC-AllNodes @DC2, @\\\\fdygitrunner\\ValidationTests)\r\n",
       "#6: XdgStokes-J512_p5_direct_pardiso: FinishedSuccessful (MS HPC client  MSHPC-AllNodes @DC2, @\\\\fdygitrunner\\ValidationTests)\tXdgStokes-J512_p5_direct_pardiso: FinishedSuccessful (MS HPC client  MSHPC-AllNodes @DC2, @\\\\fdygitrunner\\ValidationTests)\r\n",
       "#7: XdgStokes-J4096_p5_direct_pardiso: FailedOrCanceled (MS HPC client  MSHPC-AllNodes @DC2, @\\\\fdygitrunner\\ValidationTests)\tXdgStokes-J4096_p5_direct_pardiso: FailedOrCanceled (MS HPC client  MSHPC-AllNodes @DC2, @\\\\fdygitrunner\\ValidationTests)\r\n",
       "#8: XdgStokes-J512_p2_exp_gmres_levelpmg: FinishedSuccessful (MS HPC client  MSHPC-AllNodes @DC2, @\\\\fdygitrunner\\ValidationTests)\tXdgStokes-J512_p2_exp_gmres_levelpmg: FinishedSuccessful (MS HPC client  MSHPC-AllNodes @DC2, @\\\\fdygitrunner\\ValidationTests)\r\n",
       "#9: XdgStokes-J4096_p2_exp_gmres_levelpmg: FinishedSuccessful (MS HPC client  MSHPC-AllNodes @DC2, @\\\\fdygitrunner\\ValidationTests)\tXdgStokes-J4096_p2_exp_gmres_levelpmg: FinishedSuccessful (MS HPC client  MSHPC-AllNodes @DC2, @\\\\fdygitrunner\\ValidationTests)\r\n",
       "#10: XdgStokes-J13824_p2_exp_gmres_levelpmg: FinishedSuccessful (MS HPC client  MSHPC-AllNodes @DC2, @\\\\fdygitrunner\\ValidationTests)\tXdgStokes-J13824_p2_exp_gmres_levelpmg: FinishedSuccessful (MS HPC client  MSHPC-AllNodes @DC2, @\\\\fdygitrunner\\ValidationTests)\r\n",
       "#11: XdgStokes-J32768_p2_exp_gmres_levelpmg: FinishedSuccessful (MS HPC client  MSHPC-AllNodes @DC2, @\\\\fdygitrunner\\ValidationTests)\tXdgStokes-J32768_p2_exp_gmres_levelpmg: FinishedSuccessful (MS HPC client  MSHPC-AllNodes @DC2, @\\\\fdygitrunner\\ValidationTests)\r\n",
       "#12: XdgStokes-J512_p3_exp_gmres_levelpmg: FinishedSuccessful (MS HPC client  MSHPC-AllNodes @DC2, @\\\\fdygitrunner\\ValidationTests)\tXdgStokes-J512_p3_exp_gmres_levelpmg: FinishedSuccessful (MS HPC client  MSHPC-AllNodes @DC2, @\\\\fdygitrunner\\ValidationTests)\r\n",
       "#13: XdgStokes-J4096_p3_exp_gmres_levelpmg: FinishedSuccessful (MS HPC client  MSHPC-AllNodes @DC2, @\\\\fdygitrunner\\ValidationTests)\tXdgStokes-J4096_p3_exp_gmres_levelpmg: FinishedSuccessful (MS HPC client  MSHPC-AllNodes @DC2, @\\\\fdygitrunner\\ValidationTests)\r\n",
       "#14: XdgStokes-J13824_p3_exp_gmres_levelpmg: FinishedSuccessful (MS HPC client  MSHPC-AllNodes @DC2, @\\\\fdygitrunner\\ValidationTests)\tXdgStokes-J13824_p3_exp_gmres_levelpmg: FinishedSuccessful (MS HPC client  MSHPC-AllNodes @DC2, @\\\\fdygitrunner\\ValidationTests)\r\n",
       "#15: XdgStokes-J32768_p3_exp_gmres_levelpmg: Unknown (MS HPC client  MSHPC-AllNodes @DC2, @\\\\fdygitrunner\\ValidationTests)\tXdgStokes-J32768_p3_exp_gmres_levelpmg: Unknown (MS HPC client  MSHPC-AllNodes @DC2, @\\\\fdygitrunner\\ValidationTests)\r\n",
       "#16: XdgStokes-J512_p5_exp_gmres_levelpmg: Unknown (MS HPC client  MSHPC-AllNodes @DC2, @\\\\fdygitrunner\\ValidationTests)\tXdgStokes-J512_p5_exp_gmres_levelpmg: Unknown (MS HPC client  MSHPC-AllNodes @DC2, @\\\\fdygitrunner\\ValidationTests)\r\n",
       "#17: XdgStokes-J4096_p5_exp_gmres_levelpmg: Unknown (MS HPC client  MSHPC-AllNodes @DC2, @\\\\fdygitrunner\\ValidationTests)\tXdgStokes-J4096_p5_exp_gmres_levelpmg: Unknown (MS HPC client  MSHPC-AllNodes @DC2, @\\\\fdygitrunner\\ValidationTests)\r\n",
       "#18: XdgStokes-J13824_p5_exp_gmres_levelpmg: FailedOrCanceled (MS HPC client  MSHPC-AllNodes @DC2, @\\\\fdygitrunner\\ValidationTests)\tXdgStokes-J13824_p5_exp_gmres_levelpmg: FailedOrCanceled (MS HPC client  MSHPC-AllNodes @DC2, @\\\\fdygitrunner\\ValidationTests)\r\n",
       "#19: XdgStokes-J512_p2_exp_Kcycle_schwarz: FinishedSuccessful (MS HPC client  MSHPC-AllNodes @DC2, @\\\\fdygitrunner\\ValidationTests)\tXdgStokes-J512_p2_exp_Kcycle_schwarz: FinishedSuccessful (MS HPC client  MSHPC-AllNodes @DC2, @\\\\fdygitrunner\\ValidationTests)\r\n",
       "#20: XdgStokes-J4096_p2_exp_Kcycle_schwarz: FinishedSuccessful (MS HPC client  MSHPC-AllNodes @DC2, @\\\\fdygitrunner\\ValidationTests)\tXdgStokes-J4096_p2_exp_Kcycle_schwarz: FinishedSuccessful (MS HPC client  MSHPC-AllNodes @DC2, @\\\\fdygitrunner\\ValidationTests)\r\n",
       "#21: XdgStokes-J13824_p2_exp_Kcycle_schwarz: FinishedSuccessful (MS HPC client  MSHPC-AllNodes @DC2, @\\\\fdygitrunner\\ValidationTests)\tXdgStokes-J13824_p2_exp_Kcycle_schwarz: FinishedSuccessful (MS HPC client  MSHPC-AllNodes @DC2, @\\\\fdygitrunner\\ValidationTests)\r\n",
       "#22: XdgStokes-J32768_p2_exp_Kcycle_schwarz: FinishedSuccessful (MS HPC client  MSHPC-AllNodes @DC2, @\\\\fdygitrunner\\ValidationTests)\tXdgStokes-J32768_p2_exp_Kcycle_schwarz: FinishedSuccessful (MS HPC client  MSHPC-AllNodes @DC2, @\\\\fdygitrunner\\ValidationTests)\r\n",
       "#23: XdgStokes-J512_p3_exp_Kcycle_schwarz: FinishedSuccessful (MS HPC client  MSHPC-AllNodes @DC2, @\\\\fdygitrunner\\ValidationTests)\tXdgStokes-J512_p3_exp_Kcycle_schwarz: FinishedSuccessful (MS HPC client  MSHPC-AllNodes @DC2, @\\\\fdygitrunner\\ValidationTests)\r\n",
       "#24: XdgStokes-J4096_p3_exp_Kcycle_schwarz: FailedOrCanceled (MS HPC client  MSHPC-AllNodes @DC2, @\\\\fdygitrunner\\ValidationTests)\tXdgStokes-J4096_p3_exp_Kcycle_schwarz: FailedOrCanceled (MS HPC client  MSHPC-AllNodes @DC2, @\\\\fdygitrunner\\ValidationTests)\r\n",
       "#25: XdgStokes-J13824_p3_exp_Kcycle_schwarz: FinishedSuccessful (MS HPC client  MSHPC-AllNodes @DC2, @\\\\fdygitrunner\\ValidationTests)\tXdgStokes-J13824_p3_exp_Kcycle_schwarz: FinishedSuccessful (MS HPC client  MSHPC-AllNodes @DC2, @\\\\fdygitrunner\\ValidationTests)\r\n",
       "#26: XdgStokes-J32768_p3_exp_Kcycle_schwarz: FailedOrCanceled (MS HPC client  MSHPC-AllNodes @DC2, @\\\\fdygitrunner\\ValidationTests)\tXdgStokes-J32768_p3_exp_Kcycle_schwarz: FailedOrCanceled (MS HPC client  MSHPC-AllNodes @DC2, @\\\\fdygitrunner\\ValidationTests)\r\n",
       "#27: XdgStokes-J512_p5_exp_Kcycle_schwarz: FinishedSuccessful (MS HPC client  MSHPC-AllNodes @DC2, @\\\\fdygitrunner\\ValidationTests)\tXdgStokes-J512_p5_exp_Kcycle_schwarz: FinishedSuccessful (MS HPC client  MSHPC-AllNodes @DC2, @\\\\fdygitrunner\\ValidationTests)\r\n",
       "#28: XdgStokes-J4096_p5_exp_Kcycle_schwarz: FailedOrCanceled (MS HPC client  MSHPC-AllNodes @DC2, @\\\\fdygitrunner\\ValidationTests)\tXdgStokes-J4096_p5_exp_Kcycle_schwarz: FailedOrCanceled (MS HPC client  MSHPC-AllNodes @DC2, @\\\\fdygitrunner\\ValidationTests)\r\n",
       "#29: XdgStokes-J13824_p5_exp_Kcycle_schwarz: FailedOrCanceled (MS HPC client  MSHPC-AllNodes @DC2, @\\\\fdygitrunner\\ValidationTests)\tXdgStokes-J13824_p5_exp_Kcycle_schwarz: FailedOrCanceled (MS HPC client  MSHPC-AllNodes @DC2, @\\\\fdygitrunner\\ValidationTests)\r\n",
       "#30: XdgStokes-J512_p2_pMultigrid: FinishedSuccessful (MS HPC client  MSHPC-AllNodes @DC2, @\\\\fdygitrunner\\ValidationTests)\tXdgStokes-J512_p2_pMultigrid: FinishedSuccessful (MS HPC client  MSHPC-AllNodes @DC2, @\\\\fdygitrunner\\ValidationTests)\r\n",
       "#31: XdgStokes-J4096_p2_pMultigrid: FinishedSuccessful (MS HPC client  MSHPC-AllNodes @DC2, @\\\\fdygitrunner\\ValidationTests)\tXdgStokes-J4096_p2_pMultigrid: FinishedSuccessful (MS HPC client  MSHPC-AllNodes @DC2, @\\\\fdygitrunner\\ValidationTests)\r\n",
       "#32: XdgStokes-J13824_p2_pMultigrid: FailedOrCanceled (MS HPC client  MSHPC-AllNodes @DC2, @\\\\fdygitrunner\\ValidationTests)\tXdgStokes-J13824_p2_pMultigrid: FailedOrCanceled (MS HPC client  MSHPC-AllNodes @DC2, @\\\\fdygitrunner\\ValidationTests)\r\n",
       "#33: XdgStokes-J32768_p2_pMultigrid: FinishedSuccessful (MS HPC client  MSHPC-AllNodes @DC2, @\\\\fdygitrunner\\ValidationTests)\tXdgStokes-J32768_p2_pMultigrid: FinishedSuccessful (MS HPC client  MSHPC-AllNodes @DC2, @\\\\fdygitrunner\\ValidationTests)\r\n",
       "#34: XdgStokes-J512_p3_pMultigrid: FinishedSuccessful (MS HPC client  MSHPC-AllNodes @DC2, @\\\\fdygitrunner\\ValidationTests)\tXdgStokes-J512_p3_pMultigrid: FinishedSuccessful (MS HPC client  MSHPC-AllNodes @DC2, @\\\\fdygitrunner\\ValidationTests)\r\n",
       "#35: XdgStokes-J4096_p3_pMultigrid: FinishedSuccessful (MS HPC client  MSHPC-AllNodes @DC2, @\\\\fdygitrunner\\ValidationTests)\tXdgStokes-J4096_p3_pMultigrid: FinishedSuccessful (MS HPC client  MSHPC-AllNodes @DC2, @\\\\fdygitrunner\\ValidationTests)\r\n",
       "#36: XdgStokes-J13824_p3_pMultigrid: FinishedSuccessful (MS HPC client  MSHPC-AllNodes @DC2, @\\\\fdygitrunner\\ValidationTests)\tXdgStokes-J13824_p3_pMultigrid: FinishedSuccessful (MS HPC client  MSHPC-AllNodes @DC2, @\\\\fdygitrunner\\ValidationTests)\r\n",
       "#37: XdgStokes-J32768_p3_pMultigrid: FinishedSuccessful (MS HPC client  MSHPC-AllNodes @DC2, @\\\\fdygitrunner\\ValidationTests)\tXdgStokes-J32768_p3_pMultigrid: FinishedSuccessful (MS HPC client  MSHPC-AllNodes @DC2, @\\\\fdygitrunner\\ValidationTests)\r\n",
       "#38: XdgStokes-J512_p5_pMultigrid: FinishedSuccessful (MS HPC client  MSHPC-AllNodes @DC2, @\\\\fdygitrunner\\ValidationTests)\tXdgStokes-J512_p5_pMultigrid: FinishedSuccessful (MS HPC client  MSHPC-AllNodes @DC2, @\\\\fdygitrunner\\ValidationTests)\r\n",
       "#39: XdgStokes-J4096_p5_pMultigrid: FinishedSuccessful (MS HPC client  MSHPC-AllNodes @DC2, @\\\\fdygitrunner\\ValidationTests)\tXdgStokes-J4096_p5_pMultigrid: FinishedSuccessful (MS HPC client  MSHPC-AllNodes @DC2, @\\\\fdygitrunner\\ValidationTests)\r\n",
       "#40: XdgStokes-J13824_p5_pMultigrid: FailedOrCanceled (MS HPC client  MSHPC-AllNodes @DC2, @\\\\fdygitrunner\\ValidationTests)\tXdgStokes-J13824_p5_pMultigrid: FailedOrCanceled (MS HPC client  MSHPC-AllNodes @DC2, @\\\\fdygitrunner\\ValidationTests)\r\n"
      ]
     },
     "execution_count": 26,
     "metadata": {},
     "output_type": "execute_result"
    }
   ],
   "source": [
    "wmg.AllJobs"
   ]
  },
  {
   "cell_type": "code",
   "execution_count": 27,
   "metadata": {
    "dotnet_interactive": {
     "language": "csharp"
    },
    "vscode": {
     "languageId": "dotnet-interactive.csharp"
    }
   },
   "outputs": [
    {
     "data": {
      "text/plain": []
     },
     "execution_count": 27,
     "metadata": {},
     "output_type": "execute_result"
    }
   ],
   "source": [
    "wmg.Sessions.Where(sess => sess.Name.StartsWith(\"XdgStokes_J\"))"
   ]
  },
  {
   "cell_type": "code",
   "execution_count": 28,
   "metadata": {
    "dotnet_interactive": {
     "language": "csharp"
    },
    "vscode": {
     "languageId": "dotnet-interactive.csharp"
    }
   },
   "outputs": [],
   "source": [
    "//wmg.Sessions[3].Export().WithSupersampling(2).Do()"
   ]
  },
  {
   "cell_type": "code",
   "execution_count": 29,
   "metadata": {
    "dotnet_interactive": {
     "language": "csharp"
    },
    "vscode": {
     "languageId": "dotnet-interactive.csharp"
    }
   },
   "outputs": [
    {
     "data": {
      "text/plain": [
       "#0: XdgStokes-J4096_p5_direct_pardiso: FailedOrCanceled (MS HPC client  MSHPC-AllNodes @DC2, @\\\\fdygitrunner\\ValidationTests)\r\n",
       "#1: XdgStokes-J32768_p3_exp_gmres_levelpmg: Unknown (MS HPC client  MSHPC-AllNodes @DC2, @\\\\fdygitrunner\\ValidationTests)\r\n",
       "#2: XdgStokes-J512_p5_exp_gmres_levelpmg: Unknown (MS HPC client  MSHPC-AllNodes @DC2, @\\\\fdygitrunner\\ValidationTests)\r\n",
       "#3: XdgStokes-J4096_p5_exp_gmres_levelpmg: Unknown (MS HPC client  MSHPC-AllNodes @DC2, @\\\\fdygitrunner\\ValidationTests)\r\n",
       "#4: XdgStokes-J13824_p5_exp_gmres_levelpmg: FailedOrCanceled (MS HPC client  MSHPC-AllNodes @DC2, @\\\\fdygitrunner\\ValidationTests)\r\n",
       "#5: XdgStokes-J4096_p3_exp_Kcycle_schwarz: FailedOrCanceled (MS HPC client  MSHPC-AllNodes @DC2, @\\\\fdygitrunner\\ValidationTests)\r\n",
       "#6: XdgStokes-J32768_p3_exp_Kcycle_schwarz: FailedOrCanceled (MS HPC client  MSHPC-AllNodes @DC2, @\\\\fdygitrunner\\ValidationTests)\r\n",
       "#7: XdgStokes-J4096_p5_exp_Kcycle_schwarz: FailedOrCanceled (MS HPC client  MSHPC-AllNodes @DC2, @\\\\fdygitrunner\\ValidationTests)\r\n",
       "#8: XdgStokes-J13824_p5_exp_Kcycle_schwarz: FailedOrCanceled (MS HPC client  MSHPC-AllNodes @DC2, @\\\\fdygitrunner\\ValidationTests)\r\n",
       "#9: XdgStokes-J13824_p2_pMultigrid: FailedOrCanceled (MS HPC client  MSHPC-AllNodes @DC2, @\\\\fdygitrunner\\ValidationTests)\r\n",
       "#10: XdgStokes-J13824_p5_pMultigrid: FailedOrCanceled (MS HPC client  MSHPC-AllNodes @DC2, @\\\\fdygitrunner\\ValidationTests)\r\n"
      ]
     },
     "execution_count": 29,
     "metadata": {},
     "output_type": "execute_result"
    }
   ],
   "source": [
    "var NoSuccess = controls.Select(ctrl => ctrl.GetJob()).Where(job => job.Status != JobStatus.FinishedSuccessful).ToArray();\n",
    "NoSuccess"
   ]
  },
  {
   "cell_type": "code",
   "execution_count": 30,
   "metadata": {
    "dotnet_interactive": {
     "language": "csharp"
    },
    "vscode": {
     "languageId": "dotnet-interactive.csharp"
    }
   },
   "outputs": [
    {
     "name": "stdout",
     "output_type": "stream",
     "text": [
      "XdgStokes-J4096_p5_direct_pardiso: FailedOrCanceled (MS HPC client  MSHPC-AllNodes @DC2, @\\\\fdygitrunner\\ValidationTests):  @\\\\fdygitrunner\\ValidationTests\\WIP-k-LinslvPerfSer-XNSE_Solver2022Jul22_071649\n",
      "XdgStokes-J32768_p3_exp_gmres_levelpmg: Unknown (MS HPC client  MSHPC-AllNodes @DC2, @\\\\fdygitrunner\\ValidationTests):  @\\\\fdygitrunner\\ValidationTests\\WIP-k-LinslvPerfSer-XNSE_Solver2022Jul22_072040\n",
      "XdgStokes-J512_p5_exp_gmres_levelpmg: Unknown (MS HPC client  MSHPC-AllNodes @DC2, @\\\\fdygitrunner\\ValidationTests):  @\\\\fdygitrunner\\ValidationTests\\WIP-k-LinslvPerfSer-XNSE_Solver2022Jul22_072108\n",
      "XdgStokes-J4096_p5_exp_gmres_levelpmg: Unknown (MS HPC client  MSHPC-AllNodes @DC2, @\\\\fdygitrunner\\ValidationTests):  @\\\\fdygitrunner\\ValidationTests\\WIP-k-LinslvPerfSer-XNSE_Solver2022Jul22_072137\n",
      "XdgStokes-J13824_p5_exp_gmres_levelpmg: FailedOrCanceled (MS HPC client  MSHPC-AllNodes @DC2, @\\\\fdygitrunner\\ValidationTests):  @\\\\fdygitrunner\\ValidationTests\\WIP-k-LinslvPerfSer-XNSE_Solver2022Jul22_072201\n",
      "XdgStokes-J4096_p3_exp_Kcycle_schwarz: FailedOrCanceled (MS HPC client  MSHPC-AllNodes @DC2, @\\\\fdygitrunner\\ValidationTests):  @\\\\fdygitrunner\\ValidationTests\\WIP-k-LinslvPerfSer-XNSE_Solver2022Jul22_072508\n",
      "XdgStokes-J32768_p3_exp_Kcycle_schwarz: FailedOrCanceled (MS HPC client  MSHPC-AllNodes @DC2, @\\\\fdygitrunner\\ValidationTests):  @\\\\fdygitrunner\\ValidationTests\\WIP-k-LinslvPerfSer-XNSE_Solver2022Jul22_072559\n",
      "XdgStokes-J4096_p5_exp_Kcycle_schwarz: FailedOrCanceled (MS HPC client  MSHPC-AllNodes @DC2, @\\\\fdygitrunner\\ValidationTests):  @\\\\fdygitrunner\\ValidationTests\\WIP-k-LinslvPerfSer-XNSE_Solver2022Jul22_072700\n",
      "XdgStokes-J13824_p5_exp_Kcycle_schwarz: FailedOrCanceled (MS HPC client  MSHPC-AllNodes @DC2, @\\\\fdygitrunner\\ValidationTests):  @\\\\fdygitrunner\\ValidationTests\\WIP-k-LinslvPerfSer-XNSE_Solver2022Jul22_072724\n",
      "XdgStokes-J13824_p2_pMultigrid: FailedOrCanceled (MS HPC client  MSHPC-AllNodes @DC2, @\\\\fdygitrunner\\ValidationTests):  @\\\\fdygitrunner\\ValidationTests\\WIP-k-LinslvPerfSer-XNSE_Solver2022Jul22_072855\n",
      "XdgStokes-J13824_p5_pMultigrid: FailedOrCanceled (MS HPC client  MSHPC-AllNodes @DC2, @\\\\fdygitrunner\\ValidationTests):  @\\\\fdygitrunner\\ValidationTests\\WIP-k-LinslvPerfSer-XNSE_Solver2022Jul22_073356\n"
     ]
    }
   ],
   "source": [
    "// In the case of some failed job, print the directory name for further inspection:\n",
    "foreach(var fail in NoSuccess)\n",
    "    Console.WriteLine(fail + \":  @\" + ((fail.LatestDeployment?.DeploymentDirectory?.FullName) ?? \" no deployment directory\"));\n",
    "    //Console.WriteLine(fail.LatestDeployment);"
   ]
  },
  {
   "cell_type": "code",
   "execution_count": 31,
   "metadata": {
    "dotnet_interactive": {
     "language": "csharp"
    },
    "vscode": {
     "languageId": "dotnet-interactive.csharp"
    }
   },
   "outputs": [],
   "source": [
    "/*\n",
    "string PathOffset = @\"C:\\Users\\jenkinsci\\Desktop\\LinSlvPerfFail-20apr22\";\n",
    "foreach(var fail in NoSuccess) {\n",
    "    var C = fail.GetControl();\n",
    "    C.savetodb = false;\n",
    "    C.SaveToFile(System.IO.Path.Combine(PathOffset, fail.Name + \".obj\"));\n",
    "    \n",
    "    string Stdout = fail.Stdout;\n",
    "    System.IO.File.WriteAllText(System.IO.Path.Combine(PathOffset, fail.Name + \"-stdout.txt\"), Stdout);\n",
    "    \n",
    "    string Stderr = fail.Stderr;\n",
    "    System.IO.File.WriteAllText(System.IO.Path.Combine(PathOffset, fail.Name + \"-stderr.txt\"), Stderr);\n",
    "}\n",
    "*/"
   ]
  },
  {
   "cell_type": "code",
   "execution_count": 32,
   "metadata": {
    "dotnet_interactive": {
     "language": "csharp"
    },
    "vscode": {
     "languageId": "dotnet-interactive.csharp"
    }
   },
   "outputs": [
    {
     "data": {
      "text/plain": [
       "#0: WIP-k-LinslvPerfSer\tXdgStokes-J13824_p5_pMultigrid*\t07/22/2022 07:34:11\t94285ee1...\r\n",
       "#1: WIP-k-LinslvPerfSer\tXdgStokes-J13824_p5_exp_Kcycle_schwarz*\t07/22/2022 07:27:38\t662bfec8...\r\n",
       "#2: WIP-k-LinslvPerfSer\tXdgStokes-J32768_p3_exp_Kcycle_schwarz*\t07/22/2022 07:26:11\tbc8d90f9...\r\n",
       "#3: WIP-k-LinslvPerfSer\tXdgStokes-J4096_p5_exp_Kcycle_schwarz*\t07/22/2022 07:27:14\t32fe5f41...\r\n",
       "#4: WIP-k-LinslvPerfSer\tXdgStokes-J4096_p3_exp_Kcycle_schwarz*\t07/22/2022 07:25:21\t01bb6696...\r\n",
       "#5: WIP-k-LinslvPerfSer\tXdgStokes-J13824_p5_exp_gmres_levelpmg*\t07/22/2022 07:22:15\t72cd6a08...\r\n",
       "#6: WIP-k-LinslvPerfSer\tXdgStokes-J32768_p3_exp_gmres_levelpmg*\t07/22/2022 07:20:54\tc01775c9...\r\n",
       "#7: WIP-k-LinslvPerfSer\tXdgStokes-J4096_p5_exp_gmres_levelpmg*\t07/22/2022 07:21:52\ta6ea3b65...\r\n",
       "#8: WIP-k-LinslvPerfSer\tXdgStokes-J512_p5_exp_gmres_levelpmg*\t07/22/2022 07:21:22\t54fbb1b5...\r\n",
       "#9: WIP-k-LinslvPerfSer\tXdgStokes-J4096_p5_direct_pardiso*\t07/22/2022 07:17:03\t52a24090...\r\n"
      ]
     },
     "execution_count": 32,
     "metadata": {},
     "output_type": "execute_result"
    }
   ],
   "source": [
    "var FailedSessions = wmg.Sessions.Where(Si => Si.Name.Contains(\"XdgStokes\") && Si.SuccessfulTermination == false);\n",
    "FailedSessions"
   ]
  },
  {
   "cell_type": "markdown",
   "metadata": {},
   "source": [
    "#### Asserting Success:"
   ]
  },
  {
   "cell_type": "markdown",
   "metadata": {},
   "source": [
    "Remark: since this is currently (22 Apr. 2022) work-in-progress, we allow for some jobs to fail; \n",
    "At this intermediate milestone, I want to record (by the means of tests) what **is already working**.\n",
    "Thereby, I hope I won't break the working cases while trying to fix the failing ones."
   ]
  },
  {
   "cell_type": "code",
   "execution_count": 33,
   "metadata": {
    "dotnet_interactive": {
     "language": "csharp"
    },
    "vscode": {
     "languageId": "dotnet-interactive.csharp"
    }
   },
   "outputs": [],
   "source": [
    "var prelim_allowedFails = new[] { \n",
    "\"XdgStokes-J13824_p5_exp_Kcycle_schwarz\", \n",
    "\"XdgStokes-J4096_p5_exp_Kcycle_schwarz\",\n",
    "\"XdgStokes-J32768_p3_exp_Kcycle_schwarz\", \n",
    "\"XdgStokes-J13824_p3_exp_Kcycle_schwarz\",\n",
    "\"XdgStokes-J32768_p2_exp_Kcycle_schwarz\",\n",
    "//\n",
    "\"XdgStokes-J13824_p5_exp_gmres_levelpmg\",\n",
    "\"XdgStokes-J4096_p5_exp_gmres_levelpmg\",\n",
    "\"XdgStokes-J32768_p3_exp_gmres_levelpmg\",\n",
    "//\n",
    "\"XdgStokes-J4096_p5_direct_pardiso\",\n",
    "//\n",
    "\"XdgStokes-J32768_p3_pMultigrid\",\t\n",
    "\"XdgStokes-J13824_p5_pMultigrid\",\t\n",
    "\"XdgStokes-J4096_p5_pMultigrid\",\n",
    "\"XdgStokes-J32768_p2_pMultigrid\",\t\n",
    "\"XdgStokes-J13824_p3_pMultigrid\",\t\n",
    "\"XdgStokes-J4096_p3_pMultigrid\",\n",
    "\"XdgStokes-J13824_p2_pMultigrid\",\t\n",
    "\"XdgStokes-J4096_p2_pMultigrid\"\t\n",
    " };"
   ]
  },
  {
   "cell_type": "code",
   "execution_count": 34,
   "metadata": {
    "dotnet_interactive": {
     "language": "csharp"
    },
    "vscode": {
     "languageId": "dotnet-interactive.csharp"
    }
   },
   "outputs": [],
   "source": [
    "//foreach(var si in FailedSessions)\n",
    "//   si.Delete(true);"
   ]
  },
  {
   "cell_type": "code",
   "execution_count": 35,
   "metadata": {
    "dotnet_interactive": {
     "language": "csharp"
    },
    "vscode": {
     "languageId": "dotnet-interactive.csharp"
    }
   },
   "outputs": [
    {
     "ename": "Unhandled exception",
     "evalue": "NUnit.Framework.AssertionException:   Some Jobs Failed\r\n  Expected: 0\r\n  But was:  2\r\n\r\n   at NUnit.Framework.Assert.ReportFailure(String message) in /_/src/NUnitFramework/framework/Assert.cs:line 395\r\n   at NUnit.Framework.Assert.ReportFailure(ConstraintResult result, String message, Object[] args) in /_/src/NUnitFramework/framework/Assert.cs:line 383\r\n   at NUnit.Framework.Assert.That[TActual](TActual actual, IResolveConstraint expression, String message, Object[] args) in /_/src/NUnitFramework/framework/Assert.That.cs:line 229\r\n   at NUnit.Framework.Assert.Zero(Int32 actual, String message, Object[] args) in /_/src/NUnitFramework/framework/Assert.Conditions.cs:line 484\r\n   at Submission#37.<<Initialize>>d__0.MoveNext()\r\n--- End of stack trace from previous location ---\r\n   at Microsoft.CodeAnalysis.Scripting.ScriptExecutionState.RunSubmissionsAsync[TResult](ImmutableArray`1 precedingExecutors, Func`2 currentExecutor, StrongBox`1 exceptionHolderOpt, Func`2 catchExceptionOpt, CancellationToken cancellationToken)",
     "output_type": "error",
     "traceback": [
      "NUnit.Framework.AssertionException:   Some Jobs Failed\r\n  Expected: 0\r\n  But was:  2\r\n\r\n   at NUnit.Framework.Assert.ReportFailure(String message) in /_/src/NUnitFramework/framework/Assert.cs:line 395\r\n   at NUnit.Framework.Assert.ReportFailure(ConstraintResult result, String message, Object[] args) in /_/src/NUnitFramework/framework/Assert.cs:line 383\r\n   at NUnit.Framework.Assert.That[TActual](TActual actual, IResolveConstraint expression, String message, Object[] args) in /_/src/NUnitFramework/framework/Assert.That.cs:line 229\r\n   at NUnit.Framework.Assert.Zero(Int32 actual, String message, Object[] args) in /_/src/NUnitFramework/framework/Assert.Conditions.cs:line 484\r\n   at Submission#37.<<Initialize>>d__0.MoveNext()\r\n--- End of stack trace from previous location ---\r\n   at Microsoft.CodeAnalysis.Scripting.ScriptExecutionState.RunSubmissionsAsync[TResult](ImmutableArray`1 precedingExecutors, Func`2 currentExecutor, StrongBox`1 exceptionHolderOpt, Func`2 catchExceptionOpt, CancellationToken cancellationToken)",
      "   at NUnit.Framework.Assert.ReportFailure(String message) in /_/src/NUnitFramework/framework/Assert.cs:line 395",
      "   at NUnit.Framework.Assert.ReportFailure(ConstraintResult result, String message, Object[] args) in /_/src/NUnitFramework/framework/Assert.cs:line 383",
      "   at NUnit.Framework.Assert.That[TActual](TActual actual, IResolveConstraint expression, String message, Object[] args) in /_/src/NUnitFramework/framework/Assert.That.cs:line 229",
      "   at NUnit.Framework.Assert.Zero(Int32 actual, String message, Object[] args) in /_/src/NUnitFramework/framework/Assert.Conditions.cs:line 484",
      "   at Submission#37.<<Initialize>>d__0.MoveNext()",
      "--- End of stack trace from previous location ---",
      "   at Microsoft.CodeAnalysis.Scripting.ScriptExecutionState.RunSubmissionsAsync[TResult](ImmutableArray`1 precedingExecutors, Func`2 currentExecutor, StrongBox`1 exceptionHolderOpt, Func`2 catchExceptionOpt, CancellationToken cancellationToken)"
     ]
    }
   ],
   "source": [
    "NUnit.Framework.Assert.Zero(NoSuccess.Where(job => !prelim_allowedFails.Contains(job.Name)).Count(), \"Some Jobs Failed\");"
   ]
  },
  {
   "cell_type": "code",
   "execution_count": 36,
   "metadata": {
    "dotnet_interactive": {
     "language": "csharp"
    },
    "vscode": {
     "languageId": "dotnet-interactive.csharp"
    }
   },
   "outputs": [
    {
     "ename": "Unhandled exception",
     "evalue": "NUnit.Framework.AssertionException:   Some Sessions did not terminate successfully.\r\n  Expected: 0\r\n  But was:  2\r\n\r\n   at NUnit.Framework.Assert.ReportFailure(String message) in /_/src/NUnitFramework/framework/Assert.cs:line 395\r\n   at NUnit.Framework.Assert.ReportFailure(ConstraintResult result, String message, Object[] args) in /_/src/NUnitFramework/framework/Assert.cs:line 383\r\n   at NUnit.Framework.Assert.That[TActual](TActual actual, IResolveConstraint expression, String message, Object[] args) in /_/src/NUnitFramework/framework/Assert.That.cs:line 229\r\n   at NUnit.Framework.Assert.Zero(Int32 actual, String message, Object[] args) in /_/src/NUnitFramework/framework/Assert.Conditions.cs:line 484\r\n   at Submission#38.<<Initialize>>d__0.MoveNext()\r\n--- End of stack trace from previous location ---\r\n   at Microsoft.CodeAnalysis.Scripting.ScriptExecutionState.RunSubmissionsAsync[TResult](ImmutableArray`1 precedingExecutors, Func`2 currentExecutor, StrongBox`1 exceptionHolderOpt, Func`2 catchExceptionOpt, CancellationToken cancellationToken)",
     "output_type": "error",
     "traceback": [
      "NUnit.Framework.AssertionException:   Some Sessions did not terminate successfully.\r\n  Expected: 0\r\n  But was:  2\r\n\r\n   at NUnit.Framework.Assert.ReportFailure(String message) in /_/src/NUnitFramework/framework/Assert.cs:line 395\r\n   at NUnit.Framework.Assert.ReportFailure(ConstraintResult result, String message, Object[] args) in /_/src/NUnitFramework/framework/Assert.cs:line 383\r\n   at NUnit.Framework.Assert.That[TActual](TActual actual, IResolveConstraint expression, String message, Object[] args) in /_/src/NUnitFramework/framework/Assert.That.cs:line 229\r\n   at NUnit.Framework.Assert.Zero(Int32 actual, String message, Object[] args) in /_/src/NUnitFramework/framework/Assert.Conditions.cs:line 484\r\n   at Submission#38.<<Initialize>>d__0.MoveNext()\r\n--- End of stack trace from previous location ---\r\n   at Microsoft.CodeAnalysis.Scripting.ScriptExecutionState.RunSubmissionsAsync[TResult](ImmutableArray`1 precedingExecutors, Func`2 currentExecutor, StrongBox`1 exceptionHolderOpt, Func`2 catchExceptionOpt, CancellationToken cancellationToken)",
      "   at NUnit.Framework.Assert.ReportFailure(String message) in /_/src/NUnitFramework/framework/Assert.cs:line 395",
      "   at NUnit.Framework.Assert.ReportFailure(ConstraintResult result, String message, Object[] args) in /_/src/NUnitFramework/framework/Assert.cs:line 383",
      "   at NUnit.Framework.Assert.That[TActual](TActual actual, IResolveConstraint expression, String message, Object[] args) in /_/src/NUnitFramework/framework/Assert.That.cs:line 229",
      "   at NUnit.Framework.Assert.Zero(Int32 actual, String message, Object[] args) in /_/src/NUnitFramework/framework/Assert.Conditions.cs:line 484",
      "   at Submission#38.<<Initialize>>d__0.MoveNext()",
      "--- End of stack trace from previous location ---",
      "   at Microsoft.CodeAnalysis.Scripting.ScriptExecutionState.RunSubmissionsAsync[TResult](ImmutableArray`1 precedingExecutors, Func`2 currentExecutor, StrongBox`1 exceptionHolderOpt, Func`2 catchExceptionOpt, CancellationToken cancellationToken)"
     ]
    }
   ],
   "source": [
    "NUnit.Framework.Assert.Zero(FailedSessions.Where(s => !prelim_allowedFails.Contains(s.Name)).Count(), \"Some Sessions did not terminate successfully.\");"
   ]
  }
 ],
 "metadata": {
  "kernelspec": {
   "display_name": ".NET (C#)",
   "language": "C#",
   "name": ".net-csharp"
  },
  "language_info": {
   "file_extension": ".cs",
   "mimetype": "text/x-csharp",
   "name": "C#",
   "pygments_lexer": "csharp",
   "version": "9.0"
  }
 },
 "nbformat": 4,
 "nbformat_minor": 4
}
