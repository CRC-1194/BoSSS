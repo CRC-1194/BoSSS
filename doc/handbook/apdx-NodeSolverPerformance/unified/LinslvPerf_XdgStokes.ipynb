{
 "cells": [
  {
   "cell_type": "markdown",
   "metadata": {},
   "source": [
    "# Linear Solver Performance: XDG Stokes, Single Core\n",
    "### Part 1, Benchmark Setup and Execution"
   ]
  },
  {
   "cell_type": "code",
   "execution_count": 1,
   "metadata": {
    "dotnet_interactive": {
     "language": "csharp"
    }
   },
   "outputs": [
    {
     "data": {
      "text/html": [
       "\r\n",
       "<div>\r\n",
       "    <div id='dotnet-interactive-this-cell-50800.Microsoft.DotNet.Interactive.Http.HttpPort' style='display: none'>\r\n",
       "        The below script needs to be able to find the current output cell; this is an easy method to get it.\r\n",
       "    </div>\r\n",
       "    <script type='text/javascript'>\r\n",
       "async function probeAddresses(probingAddresses) {\r\n",
       "    function timeout(ms, promise) {\r\n",
       "        return new Promise(function (resolve, reject) {\r\n",
       "            setTimeout(function () {\r\n",
       "                reject(new Error('timeout'))\r\n",
       "            }, ms)\r\n",
       "            promise.then(resolve, reject)\r\n",
       "        })\r\n",
       "    }\r\n",
       "\r\n",
       "    if (Array.isArray(probingAddresses)) {\r\n",
       "        for (let i = 0; i < probingAddresses.length; i++) {\r\n",
       "\r\n",
       "            let rootUrl = probingAddresses[i];\r\n",
       "\r\n",
       "            if (!rootUrl.endsWith('/')) {\r\n",
       "                rootUrl = `${rootUrl}/`;\r\n",
       "            }\r\n",
       "\r\n",
       "            try {\r\n",
       "                let response = await timeout(1000, fetch(`${rootUrl}discovery`, {\r\n",
       "                    method: 'POST',\r\n",
       "                    cache: 'no-cache',\r\n",
       "                    mode: 'cors',\r\n",
       "                    timeout: 1000,\r\n",
       "                    headers: {\r\n",
       "                        'Content-Type': 'text/plain'\r\n",
       "                    },\r\n",
       "                    body: probingAddresses[i]\r\n",
       "                }));\r\n",
       "\r\n",
       "                if (response.status == 200) {\r\n",
       "                    return rootUrl;\r\n",
       "                }\r\n",
       "            }\r\n",
       "            catch (e) { }\r\n",
       "        }\r\n",
       "    }\r\n",
       "}\r\n",
       "\r\n",
       "function loadDotnetInteractiveApi() {\r\n",
       "    probeAddresses([\"http://130.83.248.207:1002/\", \"http://127.0.0.1:1002/\"])\r\n",
       "        .then((root) => {\r\n",
       "        // use probing to find host url and api resources\r\n",
       "        // load interactive helpers and language services\r\n",
       "        let dotnetInteractiveRequire = require.config({\r\n",
       "        context: '50800.Microsoft.DotNet.Interactive.Http.HttpPort',\r\n",
       "                paths:\r\n",
       "            {\r\n",
       "                'dotnet-interactive': `${root}resources`\r\n",
       "                }\r\n",
       "        }) || require;\r\n",
       "\r\n",
       "            window.dotnetInteractiveRequire = dotnetInteractiveRequire;\r\n",
       "\r\n",
       "            window.configureRequireFromExtension = function(extensionName, extensionCacheBuster) {\r\n",
       "                let paths = {};\r\n",
       "                paths[extensionName] = `${root}extensions/${extensionName}/resources/`;\r\n",
       "                \r\n",
       "                let internalRequire = require.config({\r\n",
       "                    context: extensionCacheBuster,\r\n",
       "                    paths: paths,\r\n",
       "                    urlArgs: `cacheBuster=${extensionCacheBuster}`\r\n",
       "                    }) || require;\r\n",
       "\r\n",
       "                return internalRequire\r\n",
       "            };\r\n",
       "        \r\n",
       "            dotnetInteractiveRequire([\r\n",
       "                    'dotnet-interactive/dotnet-interactive'\r\n",
       "                ],\r\n",
       "                function (dotnet) {\r\n",
       "                    dotnet.init(window);\r\n",
       "                },\r\n",
       "                function (error) {\r\n",
       "                    console.log(error);\r\n",
       "                }\r\n",
       "            );\r\n",
       "        })\r\n",
       "        .catch(error => {console.log(error);});\r\n",
       "    }\r\n",
       "\r\n",
       "// ensure `require` is available globally\r\n",
       "if ((typeof(require) !==  typeof(Function)) || (typeof(require.config) !== typeof(Function))) {\r\n",
       "    let require_script = document.createElement('script');\r\n",
       "    require_script.setAttribute('src', 'https://cdnjs.cloudflare.com/ajax/libs/require.js/2.3.6/require.min.js');\r\n",
       "    require_script.setAttribute('type', 'text/javascript');\r\n",
       "    \r\n",
       "    \r\n",
       "    require_script.onload = function() {\r\n",
       "        loadDotnetInteractiveApi();\r\n",
       "    };\r\n",
       "\r\n",
       "    document.getElementsByTagName('head')[0].appendChild(require_script);\r\n",
       "}\r\n",
       "else {\r\n",
       "    loadDotnetInteractiveApi();\r\n",
       "}\r\n",
       "\r\n",
       "    </script>\r\n",
       "</div>"
      ]
     },
     "metadata": {},
     "output_type": "display_data"
    },
    {
     "name": "stdout",
     "output_type": "stream",
     "text": [
      "Execution Date/time is 4/7/2022 1:20:59 PM\r\n"
     ]
    }
   ],
   "source": [
    "Console.WriteLine(\"Execution Date/time is \" + DateTime.Now);"
   ]
  },
  {
   "cell_type": "code",
   "execution_count": 2,
   "metadata": {
    "dotnet_interactive": {
     "language": "csharp"
    }
   },
   "outputs": [],
   "source": [
    "#r \"BoSSSpad.dll\"\n",
    "using System;\n",
    "using System.Collections.Generic;\n",
    "using System.Linq;\n",
    "using ilPSP;\n",
    "using ilPSP.Utils;\n",
    "using BoSSS.Platform;\n",
    "using BoSSS.Platform.LinAlg;\n",
    "using BoSSS.Foundation;\n",
    "using BoSSS.Foundation.XDG;\n",
    "using BoSSS.Foundation.Grid;\n",
    "using BoSSS.Foundation.Grid.Classic;\n",
    "using BoSSS.Foundation.Grid.RefElements;\n",
    "using BoSSS.Foundation.IO;\n",
    "using BoSSS.Solution;\n",
    "using BoSSS.Solution.Control;\n",
    "using BoSSS.Solution.GridImport;\n",
    "using BoSSS.Solution.Statistic;\n",
    "using BoSSS.Solution.Utils;\n",
    "using BoSSS.Solution.AdvancedSolvers;\n",
    "using BoSSS.Solution.Gnuplot;\n",
    "using BoSSS.Application.BoSSSpad;\n",
    "using BoSSS.Application.XNSE_Solver;\n",
    "using BoSSS.Application.XNSFE_Solver;\n",
    "using static BoSSS.Application.BoSSSpad.BoSSSshell;\n",
    "Init();"
   ]
  },
  {
   "cell_type": "code",
   "execution_count": 3,
   "metadata": {
    "dotnet_interactive": {
     "language": "csharp"
    }
   },
   "outputs": [
    {
     "name": "stdout",
     "output_type": "stream",
     "text": [
      "Project name is set to 'LinslvPerfSer'.\n",
      "Opening existing database '\\\\fdygitrunner\\ValidationTests\\LinslvPerfSer'.\n"
     ]
    },
    {
     "data": {
      "text/plain": []
     },
     "execution_count": 3,
     "metadata": {},
     "output_type": "execute_result"
    }
   ],
   "source": [
    "wmg.Init(\"LinslvPerfSer\");\n",
    "wmg.AllJobs"
   ]
  },
  {
   "cell_type": "code",
   "execution_count": 4,
   "metadata": {
    "dotnet_interactive": {
     "language": "csharp"
    }
   },
   "outputs": [
    {
     "data": {
      "text/html": [
       "<table><thead><tr><th>DeploymentBaseDirectory</th><th>DeployRuntime</th><th>Name</th><th>DotnetRuntime</th><th>Username</th><th>ServerName</th><th>ComputeNodes</th><th>DefaultJobPriority</th><th>SingleNode</th><th>AllowedDatabasesPaths</th></tr></thead><tbody><tr><td><div class=\"dni-plaintext\">\\\\fdygitrunner\\ValidationTests</div></td><td><div class=\"dni-plaintext\">True</div></td><td><div class=\"dni-plaintext\">MSHPC-AllNodes</div></td><td><div class=\"dni-plaintext\">dotnet</div></td><td><div class=\"dni-plaintext\">FDY\\jenkinsci</div></td><td><div class=\"dni-plaintext\">DC2</div></td><td><div class=\"dni-plaintext\">[ hpccluster, hpccluster2, hpcluster3 ]</div></td><td><div class=\"dni-plaintext\">Normal</div></td><td><div class=\"dni-plaintext\">True</div></td><td><div class=\"dni-plaintext\">[ \\\\fdygitrunner\\ValidationTests ==  ]</div></td></tr></tbody></table>"
      ]
     },
     "execution_count": 4,
     "metadata": {},
     "output_type": "execute_result"
    }
   ],
   "source": [
    "var myBatch = GetDefaultQueue();\n",
    "myBatch"
   ]
  },
  {
   "cell_type": "code",
   "execution_count": 5,
   "metadata": {},
   "outputs": [],
   "source": [
    "// for examination on the local workstation, \n",
    "//OpenDatabase(@\"\\\\fdygitrunner\\ValidationTests\\LinslvPerf_XdgStokes\");"
   ]
  },
  {
   "cell_type": "code",
   "execution_count": 6,
   "metadata": {},
   "outputs": [],
   "source": [
    "/*\n",
    "// extract the control object to reproduce specific simulation on local workstation\n",
    "string dest = @\"C:\\Users\\flori\\Documents\\BoSSS-kummer\\public\\src\\L4-application\\XNSE_Solver\\bin\\Release\\net5.0\\BenchControls\";\n",
    "foreach(var s in wmg.Sessions) {\n",
    "    string name = s.Name;\n",
    "    Console.Write(name + \": \");\n",
    "    try {\n",
    "        var ctrl = s.GetControl();\n",
    "        var txt = ctrl.Serialize();\n",
    "        \n",
    "        string DestPath = System.IO.Path.Combine(dest, name + \".obj\");\n",
    "        System.IO.File.WriteAllText(DestPath, txt);\n",
    "        \n",
    "        Console.WriteLine(\"written\");\n",
    "    } catch(Exception e) {\n",
    "        Console.WriteLine(e.Message);\n",
    "    }\n",
    "}\n",
    "*/"
   ]
  },
  {
   "cell_type": "markdown",
   "metadata": {
    "dotnet_interactive": {
     "language": "csharp"
    }
   },
   "source": [
    "## Utility definitions"
   ]
  },
  {
   "cell_type": "code",
   "execution_count": 7,
   "metadata": {
    "dotnet_interactive": {
     "language": "csharp"
    }
   },
   "outputs": [],
   "source": [
    "static class Utils {\n",
    "    // DOF per cell in 3D for one variable\n",
    "    public static int Np(int p) {\n",
    "        return (p*p*p + 6*p*p + 11*p + 6)/6;\n",
    "    }    \n",
    "    \n",
    "    /*\n",
    "    //Non-equidistant nodes\n",
    "    public static double[] SinLinSpacing(double l, double r, double a, int n) {\n",
    "        double[] linnodes = GenericBlas.Linspace(-Math.PI * 0.5, Math.PI * 0.5, n);\n",
    "        double[] linnodes2 = GenericBlas.Linspace(-1, 1, n);\n",
    "        double[] nodes = new double[n];\n",
    "\n",
    "        for (int i = 0; i < n; i++)\n",
    "            //nodes[i] = linnodes2[i] * (1 - a) + (1.0 - Math.Sin(linnodes[i])) * a;\n",
    "            nodes[i] = linnodes2[i] * (1 - a) + Math.Sin(linnodes[i])*a;\n",
    "\n",
    "        for (int i = 0; i < n; i++)\n",
    "            nodes[i] = nodes[i] * (r - l)*0.5 + l;\n",
    "        return nodes;\n",
    "    }\n",
    "    */\n",
    "}"
   ]
  },
  {
   "cell_type": "markdown",
   "metadata": {
    "dotnet_interactive": {
     "language": "csharp"
    }
   },
   "source": [
    "## Init grids and save to database"
   ]
  },
  {
   "cell_type": "markdown",
   "metadata": {
    "dotnet_interactive": {
     "language": "csharp"
    }
   },
   "source": [
    "Note: The dimension of the domain $(-1,1)^3$ are assumed to be **centimeters**!\n",
    "In this benchmark, realistic physical values are used, i.e. densities and viscosities of \n",
    "- water for Phase A (inside the droplet)\n",
    "- air for Phase B (surounding)\n",
    "The droplet is assumed to be in the millimeter range; therefore, all lenght-, area-, and volume-related properties \n",
    "must also be set in centimeters, e.g. the density of water is $10^{-3} \\text{kg}/\\text{cm}^3$."
   ]
  },
  {
   "cell_type": "code",
   "execution_count": 8,
   "metadata": {
    "dotnet_interactive": {
     "language": "csharp"
    }
   },
   "outputs": [
    {
     "name": "stdout",
     "output_type": "stream",
     "text": [
      "Opening existing database 'C:\\BoSSStests\\LinslvPerfSer'.\n",
      "Creating grid with 512 cells.\n",
      "Grid Edge Tags changed.\n",
      "Creating grid with 4096 cells.\n",
      "Grid Edge Tags changed.\n",
      "Creating grid with 13824 cells.\n",
      "Grid Edge Tags changed.\n",
      "Creating grid with 32768 cells.\n",
      "Grid Edge Tags changed.\n",
      "Creating grid with 110592 cells.\n",
      "Grid Edge Tags changed.\n",
      "Creating grid with 262144 cells.\n",
      "Grid Edge Tags changed.\n"
     ]
    }
   ],
   "source": [
    "int[] Resolutions_3D = new int[] { 8, 16, 24, 32, 48, 64 };\n",
    "//int[] Resolutions_3D = new int[] { 2 };\n",
    "IGridInfo[] grids = new IGridInfo[Resolutions_3D.Length];\n",
    "for(int cnt = 0; cnt < Resolutions_3D.Length; cnt++) {\n",
    "    int Res = Resolutions_3D[cnt];    \n",
    "    \n",
    "    double[] xNodes = GenericBlas.Linspace(-1, +1, Res + 1);\n",
    "    double[] yNodes = GenericBlas.Linspace(-1, +1, Res + 1);\n",
    "    double[] zNodes = GenericBlas.Linspace(-1, +1, Res + 1);\n",
    "    int J = (xNodes.Length - 1)*(yNodes.Length - 1)*(zNodes.Length - 1);\n",
    "    \n",
    "    string GridName = string.Format(wmg.CurrentProject + \"-XdgStokes_J\" + J);\n",
    "    \n",
    "    grids[cnt] = wmg.Grids.SingleOrDefault(grd => grd.Name.Contains(GridName)); // check if an appropriate grid is already present in the database\n",
    "    if(grids[cnt] == null){\n",
    "        Console.WriteLine(\"Creating grid with \" + J + \" cells.\");\n",
    "        \n",
    "        GridCommons g;\n",
    "        g      = Grid3D.Cartesian3DGrid(xNodes, yNodes, zNodes);\n",
    "        g.Name = GridName;\n",
    "        \n",
    "        g.DefineEdgeTags(delegate (double[] X) {\n",
    "            if (Math.Abs(X[0] - (-1)) <= 1.0e-8)\n",
    "                return \"wall_left\";\n",
    "            if (Math.Abs(X[0] - (+1)) <= 1.0e-8)\n",
    "                return \"wall_right\";\n",
    "            if (Math.Abs(X[1] - (-1)) <= 1.0e-8)\n",
    "                return \"wall_front\";\n",
    "            if (Math.Abs(X[1] - (+1)) <= 1.0e-8)\n",
    "                return \"wall_back\";\n",
    "            if (Math.Abs(X[2] - (-1)) <= 1.0e-8)\n",
    "                return \"wall_top\";\n",
    "            if (Math.Abs(X[2] - (+1)) <= 1.0e-8)\n",
    "                return \"wall_bottom\";\n",
    "            throw new ArgumentException(\"unknown wall\");\n",
    "        });\n",
    "      \n",
    "        g = wmg.SaveGrid(g);  \n",
    "        grids[cnt] = g;\n",
    "    } else {\n",
    "        Console.WriteLine(\"Found Grid: \" + grids[cnt]);\n",
    "        if(grids[cnt].NumberOfCells != J)\n",
    "            throw new Exception(\"J mismatch\");\n",
    "        \n",
    "        if(grids[cnt].SpatialDimension != 3)\n",
    "            throw new Exception(\"D mismatch\");\n",
    "    }\n",
    "}"
   ]
  },
  {
   "cell_type": "code",
   "execution_count": 9,
   "metadata": {
    "dotnet_interactive": {
     "language": "csharp"
    }
   },
   "outputs": [
    {
     "data": {
      "text/plain": [
       "#0: { Guid = 49f876ae-c07b-4fbf-8ba8-6239741e977d; Name = LinslvPerfSer-XdgStokes_J512; Cell Count = 512; Dim = 3 }\r\n",
       "#1: { Guid = 80474277-0455-4bd5-aac5-4110b2b27d6b; Name = LinslvPerfSer-XdgStokes_J4096; Cell Count = 4096; Dim = 3 }\r\n",
       "#2: { Guid = 4c3b06c3-4a03-4592-aec6-d4ff4e28dd9d; Name = LinslvPerfSer-XdgStokes_J13824; Cell Count = 13824; Dim = 3 }\r\n",
       "#3: { Guid = 0e9972c9-fcfe-4a41-b6d8-9d29cd6d4578; Name = LinslvPerfSer-XdgStokes_J32768; Cell Count = 32768; Dim = 3 }\r\n",
       "#4: { Guid = 1b28d879-406b-41dc-8e8e-bcd1e01bed0f; Name = LinslvPerfSer-XdgStokes_J110592; Cell Count = 110592; Dim = 3 }\r\n",
       "#5: { Guid = d1d02a90-eb4d-46f4-8b12-6c8db0c4cf01; Name = LinslvPerfSer-XdgStokes_J262144; Cell Count = 262144; Dim = 3 }\r\n"
      ]
     },
     "execution_count": 9,
     "metadata": {},
     "output_type": "execute_result"
    }
   ],
   "source": [
    "grids"
   ]
  },
  {
   "cell_type": "markdown",
   "metadata": {
    "dotnet_interactive": {
     "language": "csharp"
    }
   },
   "source": [
    "## Setup Control Object for a Solver Run"
   ]
  },
  {
   "cell_type": "code",
   "execution_count": 10,
   "metadata": {
    "dotnet_interactive": {
     "language": "csharp"
    }
   },
   "outputs": [],
   "source": [
    "// - - - - - - - - - - - - - - - - - - -\n",
    "// Initial Values & Boundary conditions\n",
    "// - - - - - - - - - - - - - - - - - - -"
   ]
  },
  {
   "cell_type": "code",
   "execution_count": 11,
   "metadata": {
    "dotnet_interactive": {
     "language": "csharp"
    }
   },
   "outputs": [],
   "source": [
    "using BoSSS.Application.XNSE_Solver;\n",
    "using BoSSS.Solution.LevelSetTools;\n",
    "using BoSSS.Solution.AdvancedSolvers;\n",
    "using BoSSS.Solution.XNSECommon;\n",
    "using BoSSS.Solution.Timestepping;\n",
    "using BoSSS.Solution.XdgTimestepping ;"
   ]
  },
  {
   "cell_type": "markdown",
   "metadata": {
    "dotnet_interactive": {
     "language": "csharp"
    }
   },
   "source": [
    "### Setup of Parameter Study"
   ]
  },
  {
   "cell_type": "markdown",
   "metadata": {},
   "source": [
    "Polynomial degrees to test:"
   ]
  },
  {
   "cell_type": "code",
   "execution_count": 12,
   "metadata": {
    "dotnet_interactive": {
     "language": "csharp"
    }
   },
   "outputs": [],
   "source": [
    "int[] PolyDegS = new int[] {2, 3 ,5};"
   ]
  },
  {
   "cell_type": "markdown",
   "metadata": {},
   "source": [
    "Solvers which we want to instrument:"
   ]
  },
  {
   "cell_type": "code",
   "execution_count": 13,
   "metadata": {
    "dotnet_interactive": {
     "language": "csharp"
    }
   },
   "outputs": [],
   "source": [
    "// Solvers which we want to instrument:\n",
    "LinearSolverCode[] solver_nameS = new LinearSolverCode[] {\n",
    "    LinearSolverCode.direct_pardiso,\n",
    "    LinearSolverCode.exp_gmres_levelpmg,\n",
    "    LinearSolverCode.exp_Kcycle_schwarz,\n",
    "    LinearSolverCode.pMultigrid\n",
    "}; "
   ]
  },
  {
   "cell_type": "markdown",
   "metadata": {},
   "source": [
    "Maximum Dof for one calculation (we skip fine grids for higher polynomial orders):"
   ]
  },
  {
   "cell_type": "code",
   "execution_count": 14,
   "metadata": {
    "dotnet_interactive": {
     "language": "csharp"
    }
   },
   "outputs": [],
   "source": [
    "int GetMaxAllowedDOF(LinearSolverCode code) {\n",
    "    switch(code) {\n",
    "        case LinearSolverCode.direct_pardiso:\n",
    "        case LinearSolverCode.direct_mumps:\n",
    "        return 1100000; // 1.1 Million for iterative solvers at maximum\n",
    "    \n",
    "        default: \n",
    "        return 3000000; // Up to 3 Million for iterative solvers\n",
    "    }\n",
    "}"
   ]
  },
  {
   "cell_type": "markdown",
   "metadata": {},
   "source": [
    "Loop over all combinations of parameters and define a control object for each combo:"
   ]
  },
  {
   "cell_type": "code",
   "execution_count": 15,
   "metadata": {
    "dotnet_interactive": {
     "language": "csharp"
    }
   },
   "outputs": [],
   "source": [
    "using BoSSS.Solution.XNSECommon;\n",
    "using BoSSS.Foundation.XDG;"
   ]
  },
  {
   "cell_type": "code",
   "execution_count": 16,
   "metadata": {
    "dotnet_interactive": {
     "language": "csharp"
    }
   },
   "outputs": [
    {
     "name": "stdout",
     "output_type": "stream",
     "text": [
      "setting up: XdgStokes-J512_p2_direct_pardiso\n",
      "setting up: XdgStokes-J4096_p2_direct_pardiso\n",
      "setting up: XdgStokes-J13824_p2_direct_pardiso\n",
      "setting up: XdgStokes-J512_p3_direct_pardiso\n",
      "setting up: XdgStokes-J4096_p3_direct_pardiso\n",
      "setting up: XdgStokes-J13824_p3_direct_pardiso\n",
      "setting up: XdgStokes-J512_p5_direct_pardiso\n",
      "setting up: XdgStokes-J4096_p5_direct_pardiso\n",
      "setting up: XdgStokes-J512_p2_exp_gmres_levelpmg\n",
      "setting up: XdgStokes-J4096_p2_exp_gmres_levelpmg\n",
      "setting up: XdgStokes-J13824_p2_exp_gmres_levelpmg\n",
      "setting up: XdgStokes-J32768_p2_exp_gmres_levelpmg\n",
      "setting up: XdgStokes-J512_p3_exp_gmres_levelpmg\n",
      "setting up: XdgStokes-J4096_p3_exp_gmres_levelpmg\n",
      "setting up: XdgStokes-J13824_p3_exp_gmres_levelpmg\n",
      "setting up: XdgStokes-J32768_p3_exp_gmres_levelpmg\n",
      "setting up: XdgStokes-J512_p5_exp_gmres_levelpmg\n",
      "setting up: XdgStokes-J4096_p5_exp_gmres_levelpmg\n",
      "setting up: XdgStokes-J13824_p5_exp_gmres_levelpmg\n",
      "setting up: XdgStokes-J512_p2_exp_Kcycle_schwarz\n",
      "setting up: XdgStokes-J4096_p2_exp_Kcycle_schwarz\n",
      "setting up: XdgStokes-J13824_p2_exp_Kcycle_schwarz\n",
      "setting up: XdgStokes-J32768_p2_exp_Kcycle_schwarz\n",
      "setting up: XdgStokes-J512_p3_exp_Kcycle_schwarz\n",
      "setting up: XdgStokes-J4096_p3_exp_Kcycle_schwarz\n",
      "setting up: XdgStokes-J13824_p3_exp_Kcycle_schwarz\n",
      "setting up: XdgStokes-J32768_p3_exp_Kcycle_schwarz\n",
      "setting up: XdgStokes-J512_p5_exp_Kcycle_schwarz\n",
      "setting up: XdgStokes-J4096_p5_exp_Kcycle_schwarz\n",
      "setting up: XdgStokes-J13824_p5_exp_Kcycle_schwarz\n",
      "setting up: XdgStokes-J512_p2_pMultigrid\n",
      "setting up: XdgStokes-J4096_p2_pMultigrid\n",
      "setting up: XdgStokes-J13824_p2_pMultigrid\n",
      "setting up: XdgStokes-J32768_p2_pMultigrid\n",
      "setting up: XdgStokes-J512_p3_pMultigrid\n",
      "setting up: XdgStokes-J4096_p3_pMultigrid\n",
      "setting up: XdgStokes-J13824_p3_pMultigrid\n",
      "setting up: XdgStokes-J32768_p3_pMultigrid\n",
      "setting up: XdgStokes-J512_p5_pMultigrid\n",
      "setting up: XdgStokes-J4096_p5_pMultigrid\n",
      "setting up: XdgStokes-J13824_p5_pMultigrid\n"
     ]
    }
   ],
   "source": [
    "List<XNSE_Control> controls = new List<XNSE_Control>();\n",
    "controls.Clear();\n",
    "foreach(LinearSolverCode solver in solver_nameS) {\n",
    "foreach(int k in PolyDegS) {\n",
    "foreach(IGridInfo grd in grids) {\n",
    "\n",
    "    int Np_V = Utils.Np(k);\n",
    "    int Np_p = Utils.Np(k-1);\n",
    "    int J    = grd.NumberOfCells;\n",
    "    int DOF  = Np_V*3 + Np_p;\n",
    "    if(J*DOF >  GetMaxAllowedDOF(solver))\n",
    "        continue;\n",
    "    \n",
    "    // Control Instance, grid, DG degree, etc.\n",
    "    // =======================================\n",
    "    \n",
    "    XNSE_Control C = new XNSE_Control();\n",
    "    controls.Add(C);\n",
    "       \n",
    "    string caseName = string.Format(\"XdgStokes-J{0}_p{1}_{2}\", J, k, solver);\n",
    "    Console.WriteLine(\"setting up: \" + caseName);\n",
    "    C.SessionName        = caseName;\n",
    "    \n",
    "    C.SetGrid(grd);\n",
    "    C.savetodb = true;\n",
    "    C.SetDGdegree(k);\n",
    "    \n",
    "    // Phys. Parameters\n",
    "    // ================\n",
    "    \n",
    "    // Species A: Water; Species B: Air\n",
    "    C.PhysicalParameters.rho_A             = 1e-3; //     kg / cm³\n",
    "    C.PhysicalParameters.rho_B             = 1.2e-6; //   kg / cm³\n",
    "    C.PhysicalParameters.mu_A              = 1e-5; //      kg / cm / sec\n",
    "    C.PhysicalParameters.mu_B              = 17.1e-8; //   kg / cm / sec\n",
    "    C.PhysicalParameters.Sigma             = 72.75e-3; // kg / sec²   \n",
    "    C.PhysicalParameters.IncludeConvection = false;\n",
    "    C.PhysicalParameters.Material          = true;\n",
    "    \n",
    "    // Dont know\n",
    "    // ============\n",
    "    \n",
    "    double r     = 0.5;\n",
    "    double nonsp = 0.5;\n",
    "\n",
    "    C.AddInitialValue(\"Phi\", new Formula($\"X => (X[0]/{r*nonsp}).Pow2() + (X[1]/{r}).Pow2() + (X[2]/{r}).Pow2() - 1\", false));\n",
    "    \n",
    "    C.LSContiProjectionMethod = BoSSS.Solution.LevelSetTools.ContinuityProjectionOption.None;\n",
    "    //C.CutCellQuadratureType   = BoSSS.Foundation.XDG.XQuadFactoryHelper.MomentFittingVariants.Saye;\n",
    "    C.ComputeEnergyProperties = false;\n",
    "\n",
    "    \n",
    "    // Solver Stuff\n",
    "    // ============\n",
    "    \n",
    "    C.LinearSolver           = solver.GetConfig();\n",
    "    if(C.LinearSolver is IterativeSolverConfig isc) {\n",
    "        isc.ConvergenceCriterion = 1e-8;\n",
    "    }\n",
    "    C.NoOfMultigridLevels = 100;\n",
    "    C.LevelSet_ConvergenceCriterion     = 1e-6;\n",
    "\n",
    "    //C.Option_LevelSetEvolution                          = LevelSetEvolution.FastMarching;\n",
    "    C.AdvancedDiscretizationOptions.SST_isotropicMode   = SurfaceStressTensor_IsotropicMode.Curvature_Projected;\n",
    "    //C.AdvancedDiscretizationOptions.ViscosityMode       = ViscosityMode.Standard;\n",
    "    C.AdvancedDiscretizationOptions.FilterConfiguration = CurvatureAlgorithms.FilterConfiguration.NoFilter;\n",
    "\n",
    "    // Timestepping / Instationary\n",
    "    // ===========================\n",
    "\n",
    "    C.TimesteppingMode             = AppControl._TimesteppingMode.Steady;\n",
    "}\n",
    "}\n",
    "}"
   ]
  },
  {
   "cell_type": "markdown",
   "metadata": {},
   "source": [
    "Total number of simulations:"
   ]
  },
  {
   "cell_type": "code",
   "execution_count": 17,
   "metadata": {},
   "outputs": [
    {
     "data": {
      "text/html": [
       "<div class=\"dni-plaintext\">41</div>"
      ]
     },
     "execution_count": 17,
     "metadata": {},
     "output_type": "execute_result"
    }
   ],
   "source": [
    "controls.Count"
   ]
  },
  {
   "cell_type": "code",
   "execution_count": 18,
   "metadata": {},
   "outputs": [],
   "source": [
    "// Assert that the location of the fluid phases is as desired:\n",
    "NUnit.Framework.Assert.Negative(controls[0].InitialValues[\"Phi\"].Evaluate(new double[]{0,0.0,0}, 0.0), \"phase A (negative) must be inside\");\n",
    "NUnit.Framework.Assert.Positive(controls[0].InitialValues[\"Phi\"].Evaluate(new double[]{0,4.0,0}, 0.0), \"phase B (positive) must be inside\");"
   ]
  },
  {
   "cell_type": "code",
   "execution_count": 19,
   "metadata": {},
   "outputs": [],
   "source": [
    "// Basic checks on the multigrid configuration\n",
    "foreach(var ctrl in controls) {\n",
    "    NUnit.Framework.Assert.Greater(ctrl.NoOfMultigridLevels, 1, \"More than 1 multigrid level must be set\");\n",
    "    if(ctrl.LinearSolver is OrthoMGSchwarzConfig osc)\n",
    "        NUnit.Framework.Assert.Greater(osc.NoOfMultigridLevels, 1, \"More than 1 multigrid level must be set\");\n",
    "}"
   ]
  },
  {
   "cell_type": "code",
   "execution_count": 20,
   "metadata": {},
   "outputs": [],
   "source": [
    "//string path = @\"C:\\Users\\flori\\Documents\\BoSSS-kummer\\public\\src\\L4-application\\XNSE_Solver\\bin\\Release\\net5.0\\Xstokes\";\n",
    "//foreach(var ctrl in controls) {\n",
    "//    ctrl.SaveToFile(System.IO.Path.Combine(path, ctrl.SessionName + \".obj\"));\n",
    "//}"
   ]
  },
  {
   "cell_type": "markdown",
   "metadata": {
    "dotnet_interactive": {
     "language": "csharp"
    }
   },
   "source": [
    "## Launch Jobs"
   ]
  },
  {
   "cell_type": "code",
   "execution_count": 21,
   "metadata": {
    "dotnet_interactive": {
     "language": "csharp"
    }
   },
   "outputs": [
    {
     "name": "stdout",
     "output_type": "stream",
     "text": [
      " Submitting: XdgStokes-J512_p2_direct_pardiso\n",
      "Deploying job XdgStokes-J512_p2_direct_pardiso ... \n",
      "Deploying executables and additional files ...\n",
      "Deployment directory: \\\\fdygitrunner\\ValidationTests\\LinslvPerfSer-XNSE_Solver2022Apr07_132512\n",
      "copied 50 files.\n",
      "   written file: control.obj\n",
      "   copied 'amd64' runtime.\n",
      "deployment finished.\n",
      "\n",
      " Submitting: XdgStokes-J4096_p2_direct_pardiso\n",
      "Deploying job XdgStokes-J4096_p2_direct_pardiso ... \n",
      "Deploying executables and additional files ...\n",
      "Deployment directory: \\\\fdygitrunner\\ValidationTests\\LinslvPerfSer-XNSE_Solver2022Apr07_132711\n",
      "copied 50 files.\n",
      "   written file: control.obj\n",
      "   copied 'amd64' runtime.\n",
      "deployment finished.\n",
      "\n",
      " Submitting: XdgStokes-J13824_p2_direct_pardiso\n",
      "Deploying job XdgStokes-J13824_p2_direct_pardiso ... \n",
      "Deploying executables and additional files ...\n",
      "Deployment directory: \\\\fdygitrunner\\ValidationTests\\LinslvPerfSer-XNSE_Solver2022Apr07_132914\n",
      "copied 50 files.\n",
      "   written file: control.obj\n",
      "   copied 'amd64' runtime.\n",
      "deployment finished.\n",
      "\n",
      " Submitting: XdgStokes-J512_p3_direct_pardiso\n",
      "Deploying job XdgStokes-J512_p3_direct_pardiso ... \n",
      "Deploying executables and additional files ...\n",
      "Deployment directory: \\\\fdygitrunner\\ValidationTests\\LinslvPerfSer-XNSE_Solver2022Apr07_133117\n",
      "copied 50 files.\n",
      "   written file: control.obj\n",
      "   copied 'amd64' runtime.\n",
      "deployment finished.\n",
      "\n",
      " Submitting: XdgStokes-J4096_p3_direct_pardiso\n",
      "Deploying job XdgStokes-J4096_p3_direct_pardiso ... \n",
      "Deploying executables and additional files ...\n",
      "Deployment directory: \\\\fdygitrunner\\ValidationTests\\LinslvPerfSer-XNSE_Solver2022Apr07_133317\n",
      "copied 50 files.\n",
      "   written file: control.obj\n",
      "   copied 'amd64' runtime.\n",
      "deployment finished.\n",
      "\n",
      " Submitting: XdgStokes-J13824_p3_direct_pardiso\n",
      "Deploying job XdgStokes-J13824_p3_direct_pardiso ... \n",
      "Deploying executables and additional files ...\n",
      "Deployment directory: \\\\fdygitrunner\\ValidationTests\\LinslvPerfSer-XNSE_Solver2022Apr07_133518\n",
      "copied 50 files.\n",
      "   written file: control.obj\n",
      "   copied 'amd64' runtime.\n",
      "deployment finished.\n",
      "\n",
      " Submitting: XdgStokes-J512_p5_direct_pardiso\n",
      "Deploying job XdgStokes-J512_p5_direct_pardiso ... \n",
      "Deploying executables and additional files ...\n",
      "Deployment directory: \\\\fdygitrunner\\ValidationTests\\LinslvPerfSer-XNSE_Solver2022Apr07_133718\n",
      "copied 50 files.\n",
      "   written file: control.obj\n",
      "   copied 'amd64' runtime.\n",
      "deployment finished.\n",
      "\n",
      " Submitting: XdgStokes-J4096_p5_direct_pardiso\n",
      "Deploying job XdgStokes-J4096_p5_direct_pardiso ... \n",
      "Deploying executables and additional files ...\n",
      "Deployment directory: \\\\fdygitrunner\\ValidationTests\\LinslvPerfSer-XNSE_Solver2022Apr07_133919\n",
      "copied 50 files.\n",
      "   written file: control.obj\n",
      "   copied 'amd64' runtime.\n",
      "deployment finished.\n",
      "\n",
      " Submitting: XdgStokes-J512_p2_exp_gmres_levelpmg\n",
      "Deploying job XdgStokes-J512_p2_exp_gmres_levelpmg ... \n",
      "Deploying executables and additional files ...\n",
      "Deployment directory: \\\\fdygitrunner\\ValidationTests\\LinslvPerfSer-XNSE_Solver2022Apr07_134126\n",
      "copied 50 files.\n",
      "   written file: control.obj\n",
      "   copied 'amd64' runtime.\n",
      "deployment finished.\n",
      "\n",
      " Submitting: XdgStokes-J4096_p2_exp_gmres_levelpmg\n",
      "Deploying job XdgStokes-J4096_p2_exp_gmres_levelpmg ... \n",
      "Deploying executables and additional files ...\n",
      "Deployment directory: \\\\fdygitrunner\\ValidationTests\\LinslvPerfSer-XNSE_Solver2022Apr07_134345\n",
      "copied 50 files.\n",
      "   written file: control.obj\n",
      "   copied 'amd64' runtime.\n",
      "deployment finished.\n",
      "\n",
      " Submitting: XdgStokes-J13824_p2_exp_gmres_levelpmg\n",
      "Deploying job XdgStokes-J13824_p2_exp_gmres_levelpmg ... \n",
      "Deploying executables and additional files ...\n",
      "Deployment directory: \\\\fdygitrunner\\ValidationTests\\LinslvPerfSer-XNSE_Solver2022Apr07_134606\n",
      "copied 50 files.\n",
      "   written file: control.obj\n",
      "   copied 'amd64' runtime.\n",
      "deployment finished.\n",
      "\n",
      " Submitting: XdgStokes-J32768_p2_exp_gmres_levelpmg\n",
      "Deploying job XdgStokes-J32768_p2_exp_gmres_levelpmg ... \n",
      "Deploying executables and additional files ...\n",
      "Deployment directory: \\\\fdygitrunner\\ValidationTests\\LinslvPerfSer-XNSE_Solver2022Apr07_134827\n",
      "copied 50 files.\n",
      "   written file: control.obj\n",
      "   copied 'amd64' runtime.\n",
      "deployment finished.\n",
      "\n",
      " Submitting: XdgStokes-J512_p3_exp_gmres_levelpmg\n",
      "Deploying job XdgStokes-J512_p3_exp_gmres_levelpmg ... \n",
      "Deploying executables and additional files ...\n",
      "Deployment directory: \\\\fdygitrunner\\ValidationTests\\LinslvPerfSer-XNSE_Solver2022Apr07_135052\n",
      "copied 50 files.\n",
      "   written file: control.obj\n",
      "   copied 'amd64' runtime.\n",
      "deployment finished.\n",
      "\n",
      " Submitting: XdgStokes-J4096_p3_exp_gmres_levelpmg\n",
      "Deploying job XdgStokes-J4096_p3_exp_gmres_levelpmg ... \n",
      "Deploying executables and additional files ...\n",
      "Deployment directory: \\\\fdygitrunner\\ValidationTests\\LinslvPerfSer-XNSE_Solver2022Apr07_135314\n",
      "copied 50 files.\n",
      "   written file: control.obj\n",
      "   copied 'amd64' runtime.\n",
      "deployment finished.\n",
      "\n",
      " Submitting: XdgStokes-J13824_p3_exp_gmres_levelpmg\n",
      "Deploying job XdgStokes-J13824_p3_exp_gmres_levelpmg ... \n",
      "Deploying executables and additional files ...\n",
      "Deployment directory: \\\\fdygitrunner\\ValidationTests\\LinslvPerfSer-XNSE_Solver2022Apr07_135538\n",
      "copied 50 files.\n",
      "   written file: control.obj\n",
      "   copied 'amd64' runtime.\n",
      "deployment finished.\n",
      "\n",
      " Submitting: XdgStokes-J32768_p3_exp_gmres_levelpmg\n",
      "Deploying job XdgStokes-J32768_p3_exp_gmres_levelpmg ... \n",
      "Deploying executables and additional files ...\n",
      "Deployment directory: \\\\fdygitrunner\\ValidationTests\\LinslvPerfSer-XNSE_Solver2022Apr07_135812\n",
      "copied 50 files.\n",
      "   written file: control.obj\n",
      "   copied 'amd64' runtime.\n",
      "deployment finished.\n",
      "\n",
      " Submitting: XdgStokes-J512_p5_exp_gmres_levelpmg\n",
      "Deploying job XdgStokes-J512_p5_exp_gmres_levelpmg ... \n",
      "Deploying executables and additional files ...\n",
      "Deployment directory: \\\\fdygitrunner\\ValidationTests\\LinslvPerfSer-XNSE_Solver2022Apr07_140046\n",
      "copied 50 files.\n",
      "   written file: control.obj\n",
      "   copied 'amd64' runtime.\n",
      "deployment finished.\n",
      "\n",
      " Submitting: XdgStokes-J4096_p5_exp_gmres_levelpmg\n",
      "Deploying job XdgStokes-J4096_p5_exp_gmres_levelpmg ... \n",
      "Deploying executables and additional files ...\n",
      "Deployment directory: \\\\fdygitrunner\\ValidationTests\\LinslvPerfSer-XNSE_Solver2022Apr07_140308\n",
      "copied 50 files.\n",
      "   written file: control.obj\n",
      "   copied 'amd64' runtime.\n",
      "deployment finished.\n",
      "\n",
      " Submitting: XdgStokes-J13824_p5_exp_gmres_levelpmg\n",
      "Deploying job XdgStokes-J13824_p5_exp_gmres_levelpmg ... \n",
      "Deploying executables and additional files ...\n",
      "Deployment directory: \\\\fdygitrunner\\ValidationTests\\LinslvPerfSer-XNSE_Solver2022Apr07_140532\n",
      "copied 50 files.\n",
      "   written file: control.obj\n",
      "   copied 'amd64' runtime.\n",
      "deployment finished.\n",
      "\n",
      " Submitting: XdgStokes-J512_p2_exp_Kcycle_schwarz\n",
      "Deploying job XdgStokes-J512_p2_exp_Kcycle_schwarz ... \n",
      "Deploying executables and additional files ...\n",
      "Deployment directory: \\\\fdygitrunner\\ValidationTests\\LinslvPerfSer-XNSE_Solver2022Apr07_140758\n",
      "copied 50 files.\n",
      "   written file: control.obj\n",
      "   copied 'amd64' runtime.\n",
      "deployment finished.\n",
      "\n",
      " Submitting: XdgStokes-J4096_p2_exp_Kcycle_schwarz\n",
      "Deploying job XdgStokes-J4096_p2_exp_Kcycle_schwarz ... \n",
      "Deploying executables and additional files ...\n",
      "Deployment directory: \\\\fdygitrunner\\ValidationTests\\LinslvPerfSer-XNSE_Solver2022Apr07_141035\n",
      "copied 50 files.\n",
      "   written file: control.obj\n",
      "   copied 'amd64' runtime.\n",
      "deployment finished.\n",
      "\n",
      " Submitting: XdgStokes-J13824_p2_exp_Kcycle_schwarz\n",
      "Deploying job XdgStokes-J13824_p2_exp_Kcycle_schwarz ... \n",
      "Deploying executables and additional files ...\n",
      "Deployment directory: \\\\fdygitrunner\\ValidationTests\\LinslvPerfSer-XNSE_Solver2022Apr07_141309\n",
      "copied 50 files.\n",
      "   written file: control.obj\n",
      "   copied 'amd64' runtime.\n",
      "deployment finished.\n",
      "\n",
      " Submitting: XdgStokes-J32768_p2_exp_Kcycle_schwarz\n",
      "Deploying job XdgStokes-J32768_p2_exp_Kcycle_schwarz ... \n",
      "Deploying executables and additional files ...\n",
      "Deployment directory: \\\\fdygitrunner\\ValidationTests\\LinslvPerfSer-XNSE_Solver2022Apr07_141543\n",
      "copied 50 files.\n",
      "   written file: control.obj\n",
      "   copied 'amd64' runtime.\n",
      "deployment finished.\n",
      "\n",
      " Submitting: XdgStokes-J512_p3_exp_Kcycle_schwarz\n",
      "Deploying job XdgStokes-J512_p3_exp_Kcycle_schwarz ... \n",
      "Deploying executables and additional files ...\n",
      "Deployment directory: \\\\fdygitrunner\\ValidationTests\\LinslvPerfSer-XNSE_Solver2022Apr07_141817\n",
      "copied 50 files.\n",
      "   written file: control.obj\n",
      "   copied 'amd64' runtime.\n"
     ]
    },
    {
     "name": "stdout",
     "output_type": "stream",
     "text": [
      "deployment finished.\n",
      "\n",
      " Submitting: XdgStokes-J4096_p3_exp_Kcycle_schwarz\n",
      "Deploying job XdgStokes-J4096_p3_exp_Kcycle_schwarz ... \n",
      "Deploying executables and additional files ...\n",
      "Deployment directory: \\\\fdygitrunner\\ValidationTests\\LinslvPerfSer-XNSE_Solver2022Apr07_142055\n",
      "copied 50 files.\n",
      "   written file: control.obj\n",
      "   copied 'amd64' runtime.\n",
      "deployment finished.\n",
      "\n",
      " Submitting: XdgStokes-J13824_p3_exp_Kcycle_schwarz\n",
      "Deploying job XdgStokes-J13824_p3_exp_Kcycle_schwarz ... \n",
      "Deploying executables and additional files ...\n",
      "Deployment directory: \\\\fdygitrunner\\ValidationTests\\LinslvPerfSer-XNSE_Solver2022Apr07_142327\n",
      "copied 50 files.\n",
      "   written file: control.obj\n",
      "   copied 'amd64' runtime.\n",
      "deployment finished.\n",
      "\n",
      " Submitting: XdgStokes-J32768_p3_exp_Kcycle_schwarz\n",
      "Deploying job XdgStokes-J32768_p3_exp_Kcycle_schwarz ... \n",
      "Deploying executables and additional files ...\n",
      "Deployment directory: \\\\fdygitrunner\\ValidationTests\\LinslvPerfSer-XNSE_Solver2022Apr07_142559\n",
      "copied 50 files.\n",
      "   written file: control.obj\n",
      "   copied 'amd64' runtime.\n",
      "deployment finished.\n",
      "\n",
      " Submitting: XdgStokes-J512_p5_exp_Kcycle_schwarz\n",
      "Deploying job XdgStokes-J512_p5_exp_Kcycle_schwarz ... \n",
      "Deploying executables and additional files ...\n",
      "Deployment directory: \\\\fdygitrunner\\ValidationTests\\LinslvPerfSer-XNSE_Solver2022Apr07_142830\n",
      "copied 50 files.\n",
      "   written file: control.obj\n",
      "   copied 'amd64' runtime.\n",
      "deployment finished.\n",
      "\n",
      " Submitting: XdgStokes-J4096_p5_exp_Kcycle_schwarz\n",
      "Deploying job XdgStokes-J4096_p5_exp_Kcycle_schwarz ... \n",
      "Deploying executables and additional files ...\n",
      "Deployment directory: \\\\fdygitrunner\\ValidationTests\\LinslvPerfSer-XNSE_Solver2022Apr07_143103\n",
      "copied 50 files.\n",
      "   written file: control.obj\n",
      "   copied 'amd64' runtime.\n",
      "deployment finished.\n",
      "\n",
      " Submitting: XdgStokes-J13824_p5_exp_Kcycle_schwarz\n",
      "Deploying job XdgStokes-J13824_p5_exp_Kcycle_schwarz ... \n",
      "Deploying executables and additional files ...\n",
      "Deployment directory: \\\\fdygitrunner\\ValidationTests\\LinslvPerfSer-XNSE_Solver2022Apr07_143334\n",
      "copied 50 files.\n",
      "   written file: control.obj\n",
      "   copied 'amd64' runtime.\n",
      "deployment finished.\n",
      "\n",
      " Submitting: XdgStokes-J512_p2_pMultigrid\n",
      "Deploying job XdgStokes-J512_p2_pMultigrid ... \n",
      "Deploying executables and additional files ...\n",
      "Deployment directory: \\\\fdygitrunner\\ValidationTests\\LinslvPerfSer-XNSE_Solver2022Apr07_143611\n",
      "copied 50 files.\n",
      "   written file: control.obj\n",
      "   copied 'amd64' runtime.\n",
      "deployment finished.\n",
      "\n",
      " Submitting: XdgStokes-J4096_p2_pMultigrid\n",
      "Deploying job XdgStokes-J4096_p2_pMultigrid ... \n",
      "Deploying executables and additional files ...\n",
      "Deployment directory: \\\\fdygitrunner\\ValidationTests\\LinslvPerfSer-XNSE_Solver2022Apr07_143842\n",
      "copied 50 files.\n",
      "   written file: control.obj\n",
      "   copied 'amd64' runtime.\n",
      "deployment finished.\n",
      "\n",
      " Submitting: XdgStokes-J13824_p2_pMultigrid\n",
      "Deploying job XdgStokes-J13824_p2_pMultigrid ... \n",
      "Deploying executables and additional files ...\n",
      "Deployment directory: \\\\fdygitrunner\\ValidationTests\\LinslvPerfSer-XNSE_Solver2022Apr07_144109\n",
      "copied 50 files.\n",
      "   written file: control.obj\n",
      "   copied 'amd64' runtime.\n",
      "deployment finished.\n",
      "\n",
      " Submitting: XdgStokes-J32768_p2_pMultigrid\n",
      "Deploying job XdgStokes-J32768_p2_pMultigrid ... \n",
      "Deploying executables and additional files ...\n",
      "Deployment directory: \\\\fdygitrunner\\ValidationTests\\LinslvPerfSer-XNSE_Solver2022Apr07_144337\n",
      "copied 50 files.\n",
      "   written file: control.obj\n",
      "   copied 'amd64' runtime.\n",
      "deployment finished.\n",
      "\n",
      " Submitting: XdgStokes-J512_p3_pMultigrid\n",
      "Deploying job XdgStokes-J512_p3_pMultigrid ... \n",
      "Deploying executables and additional files ...\n",
      "Deployment directory: \\\\fdygitrunner\\ValidationTests\\LinslvPerfSer-XNSE_Solver2022Apr07_144556\n",
      "copied 50 files.\n",
      "   written file: control.obj\n",
      "   copied 'amd64' runtime.\n",
      "deployment finished.\n",
      "\n",
      " Submitting: XdgStokes-J4096_p3_pMultigrid\n",
      "Deploying job XdgStokes-J4096_p3_pMultigrid ... \n",
      "Deploying executables and additional files ...\n",
      "Deployment directory: \\\\fdygitrunner\\ValidationTests\\LinslvPerfSer-XNSE_Solver2022Apr07_144813\n",
      "copied 50 files.\n",
      "   written file: control.obj\n",
      "   copied 'amd64' runtime.\n",
      "deployment finished.\n",
      "\n",
      " Submitting: XdgStokes-J13824_p3_pMultigrid\n",
      "Deploying job XdgStokes-J13824_p3_pMultigrid ... \n",
      "Deploying executables and additional files ...\n",
      "Deployment directory: \\\\fdygitrunner\\ValidationTests\\LinslvPerfSer-XNSE_Solver2022Apr07_145033\n",
      "copied 50 files.\n",
      "   written file: control.obj\n",
      "   copied 'amd64' runtime.\n",
      "deployment finished.\n",
      "\n",
      " Submitting: XdgStokes-J32768_p3_pMultigrid\n",
      "Deploying job XdgStokes-J32768_p3_pMultigrid ... \n",
      "Deploying executables and additional files ...\n",
      "Deployment directory: \\\\fdygitrunner\\ValidationTests\\LinslvPerfSer-XNSE_Solver2022Apr07_145250\n",
      "copied 50 files.\n",
      "   written file: control.obj\n",
      "   copied 'amd64' runtime.\n",
      "deployment finished.\n",
      "\n",
      " Submitting: XdgStokes-J512_p5_pMultigrid\n",
      "Deploying job XdgStokes-J512_p5_pMultigrid ... \n",
      "Deploying executables and additional files ...\n",
      "Deployment directory: \\\\fdygitrunner\\ValidationTests\\LinslvPerfSer-XNSE_Solver2022Apr07_145508\n",
      "copied 50 files.\n",
      "   written file: control.obj\n",
      "   copied 'amd64' runtime.\n",
      "deployment finished.\n",
      "\n",
      " Submitting: XdgStokes-J4096_p5_pMultigrid\n",
      "Deploying job XdgStokes-J4096_p5_pMultigrid ... \n",
      "Deploying executables and additional files ...\n",
      "Deployment directory: \\\\fdygitrunner\\ValidationTests\\LinslvPerfSer-XNSE_Solver2022Apr07_145729\n",
      "copied 50 files.\n",
      "   written file: control.obj\n",
      "   copied 'amd64' runtime.\n",
      "deployment finished.\n",
      "\n",
      " Submitting: XdgStokes-J13824_p5_pMultigrid\n",
      "Deploying job XdgStokes-J13824_p5_pMultigrid ... \n",
      "Deploying executables and additional files ...\n",
      "Deployment directory: \\\\fdygitrunner\\ValidationTests\\LinslvPerfSer-XNSE_Solver2022Apr07_145949\n",
      "copied 50 files.\n",
      "   written file: control.obj\n",
      "   copied 'amd64' runtime.\n",
      "deployment finished.\n",
      "\n"
     ]
    }
   ],
   "source": [
    "foreach(var ctrl in controls) {\n",
    "    Console.WriteLine(\" Submitting: \" + ctrl.SessionName); \n",
    "    ctrl.RunBatch();\n",
    "}"
   ]
  },
  {
   "cell_type": "markdown",
   "metadata": {},
   "source": [
    "### Wait for Completion and Check Job Status"
   ]
  },
  {
   "cell_type": "code",
   "execution_count": null,
   "metadata": {},
   "outputs": [
    {
     "name": "stdout",
     "output_type": "stream",
     "text": [
      " ------------ MSHPC FailedOrCanceled; original Failed\n",
      " ------------ MSHPC FailedOrCanceled; original Failed\n",
      " ------------ MSHPC FailedOrCanceled; original Failed\n",
      " ------------ MSHPC FailedOrCanceled; original Failed\n",
      " ------------ MSHPC FailedOrCanceled; original Failed\n",
      " ------------ MSHPC FailedOrCanceled; original Failed\n",
      " ------------ MSHPC FailedOrCanceled; original Failed\n",
      " ------------ MSHPC FailedOrCanceled; original Failed\n",
      " ------------ MSHPC FailedOrCanceled; original Failed\n",
      " ------------ MSHPC FailedOrCanceled; original Failed\n",
      " ------------ MSHPC FailedOrCanceled; original Failed\n",
      " ------------ MSHPC FailedOrCanceled; original Failed\n",
      " ------------ MSHPC FailedOrCanceled; original Failed\n",
      " ------------ MSHPC FailedOrCanceled; original Failed\n",
      " ------------ MSHPC FailedOrCanceled; original Failed\n",
      " ------------ MSHPC FailedOrCanceled; original Failed\n"
     ]
    }
   ],
   "source": [
    "wmg.BlockUntilAllJobsTerminate(3600*24*2); // wait at maximum two days for the jobs to finish"
   ]
  },
  {
   "cell_type": "code",
   "execution_count": null,
   "metadata": {},
   "outputs": [],
   "source": [
    "wmg.AllJobs"
   ]
  },
  {
   "cell_type": "code",
   "execution_count": null,
   "metadata": {},
   "outputs": [],
   "source": [
    "wmg.Sessions"
   ]
  },
  {
   "cell_type": "code",
   "execution_count": null,
   "metadata": {},
   "outputs": [],
   "source": [
    "//wmg.Sessions[3].Export().WithSupersampling(2).Do()"
   ]
  },
  {
   "cell_type": "code",
   "execution_count": null,
   "metadata": {},
   "outputs": [],
   "source": [
    "var NoSuccess = controls.Select(ctrl => ctrl.GetJob()).Where(job => job.Status != JobStatus.FinishedSuccessful).ToArray();\n",
    "NoSuccess"
   ]
  },
  {
   "cell_type": "code",
   "execution_count": null,
   "metadata": {},
   "outputs": [],
   "source": [
    "// In the case of some failed job, print the directory name for further inspection:\n",
    "foreach(var fail in NoSuccess)\n",
    "    Console.WriteLine(fail + \":  @\" + fail.LatestDeployment.DeploymentDirectory.FullName);\n",
    "    //Console.WriteLine(fail.LatestDeployment);"
   ]
  },
  {
   "cell_type": "code",
   "execution_count": null,
   "metadata": {},
   "outputs": [],
   "source": [
    "var FailedSessions = wmg.Sessions.Where(Si => Si.Name.Contains(\"XdgStokes\") && Si.SuccessfulTermination == false);\n",
    "FailedSessions"
   ]
  },
  {
   "cell_type": "code",
   "execution_count": null,
   "metadata": {},
   "outputs": [],
   "source": [
    "//foreach(var si in FailedSessions)\n",
    "//   si.Delete(true);"
   ]
  },
  {
   "cell_type": "code",
   "execution_count": null,
   "metadata": {},
   "outputs": [],
   "source": [
    "NUnit.Framework.Assert.Zero(NoSuccess.Count(), \"Some Jobs Failed\");"
   ]
  },
  {
   "cell_type": "code",
   "execution_count": null,
   "metadata": {},
   "outputs": [],
   "source": [
    "NUnit.Framework.Assert.Zero(FailedSessions.Count(), \"Some Sessions did not terminate successfully.\");"
   ]
  }
 ],
 "metadata": {
  "kernelspec": {
   "display_name": ".NET (C#)",
   "language": "C#",
   "name": ".net-csharp"
  },
  "language_info": {
   "file_extension": ".cs",
   "mimetype": "text/x-csharp",
   "name": "C#",
   "pygments_lexer": "csharp",
   "version": "9.0"
  }
 },
 "nbformat": 4,
 "nbformat_minor": 4
}
