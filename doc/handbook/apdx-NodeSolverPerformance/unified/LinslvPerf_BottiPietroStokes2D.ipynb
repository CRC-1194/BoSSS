{
 "cells": [
  {
   "cell_type": "markdown",
   "metadata": {},
   "source": [
    "# Linear Solver Performance: 2D Stokes manufactured Solution after Botti and Di Pietro\n",
    "### Part 1, Benchmark Setup and Execution"
   ]
  },
  {
   "cell_type": "markdown",
   "metadata": {},
   "source": [
    "This benchmark was proposed in a work:\n",
    "\n",
    " \"p‑Multilevel Preconditioners for HHO Discretizations of the Stokes Equations with Static Condensation\" \n",
    " by L. Botti and D. Di Pietro (https://doi.org/10.1007/s42967-021-00142-5)\n",
    " \n",
    "It is used to assess DG as well as HDG methods, the latter beeing the main focus of the paper, the former only for reference.\n",
    "The exact solution to the stationary Stokes equation is\n",
    "$$\n",
    "u_1 =  -\\exp(x)*(y*\\cos(y) + \\sin(y)), \\\\\n",
    "u_2 =  \\exp(x)*y*\\sin(y), \\\\\n",
    "  p =  2*\\exp(x)*\\sin(y) .\n",
    "$$\n",
    "The domain is set as $ \\Omega = (-1,1) $.\n",
    "This exact solution is also used as a boundary condition on three sides; On one side, a Neumann boundary condition is enforced. It is not mentioned which side this is. \n",
    "\n",
    "\n",
    "### Note\n",
    "\n",
    "This example can be found in the source code repository as as `LinslvPerf_BottiPietroStokes2D.ipynb`. \n",
    "One can directly load this into Jupyter to interactively work with the following code examples.\n",
    "\n",
    "Note: First, BoSSS has to be loaded into the Jupyter kernel. Note:\n",
    "In the following line, the reference to `BoSSSpad.dll` is required. \n",
    "One must either set `#r \"BoSSSpad.dll\"` to something which is appropirate for the current computer\n",
    "(e.g. `C:\\Program Files (x86)\\FDY\\BoSSS\\bin\\Release\\net5.0\\BoSSSpad.dll` if working with the binary distribution), \n",
    "or, if one is working with the source code, one must compile `BoSSSpad`\n",
    "and put it side-by-side to this worksheet file \n",
    "(from the original location in the repository, one can use the scripts `getbossspad.sh`, resp. `getbossspad.bat`).\n"
   ]
  },
  {
   "cell_type": "code",
   "execution_count": 1,
   "metadata": {
    "dotnet_interactive": {
     "language": "csharp"
    }
   },
   "outputs": [
    {
     "data": {
      "text/html": [
       "\r\n",
       "<div>\r\n",
       "    <div id='dotnet-interactive-this-cell-44348.Microsoft.DotNet.Interactive.Http.HttpPort' style='display: none'>\r\n",
       "        The below script needs to be able to find the current output cell; this is an easy method to get it.\r\n",
       "    </div>\r\n",
       "    <script type='text/javascript'>\r\n",
       "async function probeAddresses(probingAddresses) {\r\n",
       "    function timeout(ms, promise) {\r\n",
       "        return new Promise(function (resolve, reject) {\r\n",
       "            setTimeout(function () {\r\n",
       "                reject(new Error('timeout'))\r\n",
       "            }, ms)\r\n",
       "            promise.then(resolve, reject)\r\n",
       "        })\r\n",
       "    }\r\n",
       "\r\n",
       "    if (Array.isArray(probingAddresses)) {\r\n",
       "        for (let i = 0; i < probingAddresses.length; i++) {\r\n",
       "\r\n",
       "            let rootUrl = probingAddresses[i];\r\n",
       "\r\n",
       "            if (!rootUrl.endsWith('/')) {\r\n",
       "                rootUrl = `${rootUrl}/`;\r\n",
       "            }\r\n",
       "\r\n",
       "            try {\r\n",
       "                let response = await timeout(1000, fetch(`${rootUrl}discovery`, {\r\n",
       "                    method: 'POST',\r\n",
       "                    cache: 'no-cache',\r\n",
       "                    mode: 'cors',\r\n",
       "                    timeout: 1000,\r\n",
       "                    headers: {\r\n",
       "                        'Content-Type': 'text/plain'\r\n",
       "                    },\r\n",
       "                    body: probingAddresses[i]\r\n",
       "                }));\r\n",
       "\r\n",
       "                if (response.status == 200) {\r\n",
       "                    return rootUrl;\r\n",
       "                }\r\n",
       "            }\r\n",
       "            catch (e) { }\r\n",
       "        }\r\n",
       "    }\r\n",
       "}\r\n",
       "\r\n",
       "function loadDotnetInteractiveApi() {\r\n",
       "    probeAddresses([\"http://130.83.248.207:1001/\", \"http://127.0.0.1:1001/\"])\r\n",
       "        .then((root) => {\r\n",
       "        // use probing to find host url and api resources\r\n",
       "        // load interactive helpers and language services\r\n",
       "        let dotnetInteractiveRequire = require.config({\r\n",
       "        context: '44348.Microsoft.DotNet.Interactive.Http.HttpPort',\r\n",
       "                paths:\r\n",
       "            {\r\n",
       "                'dotnet-interactive': `${root}resources`\r\n",
       "                }\r\n",
       "        }) || require;\r\n",
       "\r\n",
       "            window.dotnetInteractiveRequire = dotnetInteractiveRequire;\r\n",
       "\r\n",
       "            window.configureRequireFromExtension = function(extensionName, extensionCacheBuster) {\r\n",
       "                let paths = {};\r\n",
       "                paths[extensionName] = `${root}extensions/${extensionName}/resources/`;\r\n",
       "                \r\n",
       "                let internalRequire = require.config({\r\n",
       "                    context: extensionCacheBuster,\r\n",
       "                    paths: paths,\r\n",
       "                    urlArgs: `cacheBuster=${extensionCacheBuster}`\r\n",
       "                    }) || require;\r\n",
       "\r\n",
       "                return internalRequire\r\n",
       "            };\r\n",
       "        \r\n",
       "            dotnetInteractiveRequire([\r\n",
       "                    'dotnet-interactive/dotnet-interactive'\r\n",
       "                ],\r\n",
       "                function (dotnet) {\r\n",
       "                    dotnet.init(window);\r\n",
       "                },\r\n",
       "                function (error) {\r\n",
       "                    console.log(error);\r\n",
       "                }\r\n",
       "            );\r\n",
       "        })\r\n",
       "        .catch(error => {console.log(error);});\r\n",
       "    }\r\n",
       "\r\n",
       "// ensure `require` is available globally\r\n",
       "if ((typeof(require) !==  typeof(Function)) || (typeof(require.config) !== typeof(Function))) {\r\n",
       "    let require_script = document.createElement('script');\r\n",
       "    require_script.setAttribute('src', 'https://cdnjs.cloudflare.com/ajax/libs/require.js/2.3.6/require.min.js');\r\n",
       "    require_script.setAttribute('type', 'text/javascript');\r\n",
       "    \r\n",
       "    \r\n",
       "    require_script.onload = function() {\r\n",
       "        loadDotnetInteractiveApi();\r\n",
       "    };\r\n",
       "\r\n",
       "    document.getElementsByTagName('head')[0].appendChild(require_script);\r\n",
       "}\r\n",
       "else {\r\n",
       "    loadDotnetInteractiveApi();\r\n",
       "}\r\n",
       "\r\n",
       "    </script>\r\n",
       "</div>"
      ]
     },
     "metadata": {},
     "output_type": "display_data"
    },
    {
     "name": "stdout",
     "output_type": "stream",
     "text": [
      "Execution Date/time is 5/16/2022 11:59:38 AM\r\n"
     ]
    }
   ],
   "source": [
    "Console.WriteLine(\"Execution Date/time is \" + DateTime.Now);"
   ]
  },
  {
   "cell_type": "code",
   "execution_count": 2,
   "metadata": {
    "dotnet_interactive": {
     "language": "csharp"
    }
   },
   "outputs": [],
   "source": [
    "#r \"BoSSSpad.dll\"\n",
    "using System;\n",
    "using System.Collections.Generic;\n",
    "using System.Linq;\n",
    "using ilPSP;\n",
    "using ilPSP.Utils;\n",
    "using BoSSS.Platform;\n",
    "using BoSSS.Platform.LinAlg;\n",
    "using BoSSS.Foundation;\n",
    "using BoSSS.Foundation.XDG;\n",
    "using BoSSS.Foundation.Grid;\n",
    "using BoSSS.Foundation.Grid.Classic;\n",
    "using BoSSS.Foundation.Grid.RefElements;\n",
    "using BoSSS.Foundation.IO;\n",
    "using BoSSS.Solution;\n",
    "using BoSSS.Solution.Control;\n",
    "using BoSSS.Solution.GridImport;\n",
    "using BoSSS.Solution.Statistic;\n",
    "using BoSSS.Solution.Utils;\n",
    "using BoSSS.Solution.AdvancedSolvers;\n",
    "using BoSSS.Solution.Gnuplot;\n",
    "using BoSSS.Application.BoSSSpad;\n",
    "using BoSSS.Application.XNSE_Solver;\n",
    "using BoSSS.Application.XNSFE_Solver;\n",
    "using static BoSSS.Application.BoSSSpad.BoSSSshell;\n",
    "Init();"
   ]
  },
  {
   "cell_type": "code",
   "execution_count": 3,
   "metadata": {
    "dotnet_interactive": {
     "language": "csharp"
    }
   },
   "outputs": [
    {
     "name": "stdout",
     "output_type": "stream",
     "text": [
      "Project name is set to 'LinslvPerfSer'.\n",
      "Opening existing database '\\\\fdygitrunner\\ValidationTests\\LinslvPerfSer'.\n"
     ]
    },
    {
     "data": {
      "text/plain": []
     },
     "execution_count": 3,
     "metadata": {},
     "output_type": "execute_result"
    }
   ],
   "source": [
    "wmg.Init(\"LinslvPerfSer\");\n",
    "wmg.SetNameBasedSessionJobControlCorrelation();\n",
    "wmg.AllJobs"
   ]
  },
  {
   "cell_type": "code",
   "execution_count": 4,
   "metadata": {},
   "outputs": [],
   "source": [
    "// for examination on the local workstation, \n",
    "//OpenDatabase(@\"\\\\fdygitrunner\\ValidationTests\\LinslvPerf_XdgStokes\");"
   ]
  },
  {
   "cell_type": "code",
   "execution_count": 5,
   "metadata": {},
   "outputs": [],
   "source": [
    "/*\n",
    "// extract the control object to reproduce specific simulation on local workstation\n",
    "string dest = @\"C:\\Users\\flori\\Documents\\BoSSS-kummer\\public\\src\\L4-application\\XNSE_Solver\\bin\\Release\\net5.0\\BenchControls\";\n",
    "foreach(var s in wmg.Sessions) {\n",
    "    string name = s.Name;\n",
    "    Console.Write(name + \": \");\n",
    "    try {\n",
    "        var ctrl = s.GetControl();\n",
    "        var txt = ctrl.Serialize();\n",
    "        \n",
    "        string DestPath = System.IO.Path.Combine(dest, name + \".obj\");\n",
    "        System.IO.File.WriteAllText(DestPath, txt);\n",
    "        \n",
    "        Console.WriteLine(\"written\");\n",
    "    } catch(Exception e) {\n",
    "        Console.WriteLine(e.Message);\n",
    "    }\n",
    "}\n",
    "*/"
   ]
  },
  {
   "cell_type": "code",
   "execution_count": 6,
   "metadata": {},
   "outputs": [],
   "source": [
    "//wmg.DefaultDatabase.Grids.ForEach(s => s.Delete(true));"
   ]
  },
  {
   "cell_type": "markdown",
   "metadata": {
    "dotnet_interactive": {
     "language": "csharp"
    }
   },
   "source": [
    "## Utility definitions"
   ]
  },
  {
   "cell_type": "code",
   "execution_count": 7,
   "metadata": {
    "dotnet_interactive": {
     "language": "csharp"
    }
   },
   "outputs": [],
   "source": [
    "static class Utils {\n",
    "    // DOF per cell for one variable\n",
    "    public static int Np(int p) {\n",
    "        return (p*p + 3*p + 2)/2; // 2D \n",
    "        //return (p*p*p + 6*p*p + 11*p + 6)/6; // 3D\n",
    "    }    \n",
    "    \n",
    "    /*\n",
    "    //Non-equidistant nodes\n",
    "    public static double[] SinLinSpacing(double l, double r, double a, int n) {\n",
    "        double[] linnodes = GenericBlas.Linspace(-Math.PI * 0.5, Math.PI * 0.5, n);\n",
    "        double[] linnodes2 = GenericBlas.Linspace(-1, 1, n);\n",
    "        double[] nodes = new double[n];\n",
    "\n",
    "        for (int i = 0; i < n; i++)\n",
    "            //nodes[i] = linnodes2[i] * (1 - a) + (1.0 - Math.Sin(linnodes[i])) * a;\n",
    "            nodes[i] = linnodes2[i] * (1 - a) + Math.Sin(linnodes[i])*a;\n",
    "\n",
    "        for (int i = 0; i < n; i++)\n",
    "            nodes[i] = nodes[i] * (r - l)*0.5 + l;\n",
    "        return nodes;\n",
    "    }\n",
    "    */\n",
    "}"
   ]
  },
  {
   "cell_type": "markdown",
   "metadata": {
    "dotnet_interactive": {
     "language": "csharp"
    }
   },
   "source": [
    "## Init grids and save to database"
   ]
  },
  {
   "cell_type": "code",
   "execution_count": 8,
   "metadata": {
    "dotnet_interactive": {
     "language": "csharp"
    }
   },
   "outputs": [
    {
     "name": "stdout",
     "output_type": "stream",
     "text": [
      "Opening existing database 'C:\\BoSSStests\\LinslvPerfSer'.\n",
      "Found Grid: { Guid = 71453b0b-2b9f-456c-bd49-f5cf994aea67; Name = LinslvPerfSer-Stokes2D_J64; Cell Count = 64; Dim = 2 }\n",
      "Found Grid: { Guid = d8d89ac6-7a24-4e66-b2a1-f6b037ea96a3; Name = LinslvPerfSer-Stokes2D_J256; Cell Count = 256; Dim = 2 }\n",
      "Found Grid: { Guid = 485caa82-896f-4674-8958-ae296d9b1d42; Name = LinslvPerfSer-Stokes2D_J576; Cell Count = 576; Dim = 2 }\n",
      "Found Grid: { Guid = ba6ce9a4-f41a-40bc-83ae-2ba15dff4f9a; Name = LinslvPerfSer-Stokes2D_J1024; Cell Count = 1024; Dim = 2 }\n",
      "Found Grid: { Guid = bfee9062-773f-4cbf-b20b-be749c3943b7; Name = LinslvPerfSer-Stokes2D_J2304; Cell Count = 2304; Dim = 2 }\n",
      "Found Grid: { Guid = 02a2ed43-b06b-43e7-ae3c-b6d66c1e741a; Name = LinslvPerfSer-Stokes2D_J4096; Cell Count = 4096; Dim = 2 }\n",
      "Found Grid: { Guid = 8e3f6b09-5703-4464-b850-400630e49880; Name = LinslvPerfSer-Stokes2D_J16384; Cell Count = 16384; Dim = 2 }\n",
      "Found Grid: { Guid = f4a19a12-1747-4340-a347-f96f7b8f9bce; Name = LinslvPerfSer-Stokes2D_J36864; Cell Count = 36864; Dim = 2 }\n",
      "Found Grid: { Guid = 708a43c5-ada6-4591-af5e-3cb12ad67969; Name = LinslvPerfSer-Stokes2D_J65536; Cell Count = 65536; Dim = 2 }\n",
      "Found Grid: { Guid = 81aff8dc-18b5-4e81-aa5a-15455b21c2c1; Name = LinslvPerfSer-Stokes2D_J147456; Cell Count = 147456; Dim = 2 }\n",
      "Found Grid: { Guid = 3dac79eb-6c64-4daa-a01b-7e91de53d802; Name = LinslvPerfSer-Stokes2D_J262144; Cell Count = 262144; Dim = 2 }\n"
     ]
    }
   ],
   "source": [
    "int[] Resolutions_2D = new int[] { 8, 16, 24, 32, 48, 64, 128, 192, 256, 384, 512 };\n",
    "\n",
    "IGridInfo[] grids = new IGridInfo[Resolutions_2D.Length];\n",
    "for(int cnt = 0; cnt < Resolutions_2D.Length; cnt++) {\n",
    "    int Res = Resolutions_2D[cnt];    \n",
    "    \n",
    "    double[] xNodes = GenericBlas.Linspace(-1, +1, Res + 1);\n",
    "    double[] yNodes = GenericBlas.Linspace(-1, +1, Res + 1);\n",
    "    int J = (xNodes.Length - 1)*(yNodes.Length - 1);\n",
    "    \n",
    "    string GridName = string.Format(wmg.CurrentProject + \"-Stokes2D_J\" + J);\n",
    "    \n",
    "    grids[cnt] = wmg.Grids.SingleOrDefault(grd => grd.Name.Contains(GridName)); // check if an appropriate grid is already present in the database\n",
    "    if(grids[cnt] == null){\n",
    "        Console.WriteLine(\"Creating grid with \" + J + \" cells.\");\n",
    "        \n",
    "        GridCommons g;\n",
    "        g      = Grid2D.Cartesian2DGrid(xNodes, yNodes);\n",
    "        g.Name = GridName;\n",
    "        \n",
    "        g.DefineEdgeTags(delegate (double[] X) {\n",
    "            double x = X[0];\n",
    "            if(Math.Abs(x - (-1)) < 1e-8)\n",
    "                return \"pressure_outlet\";\n",
    "            return \"wall\"; \n",
    "        });\n",
    "      \n",
    "        g = wmg.SaveGrid(g);  \n",
    "        grids[cnt] = g;\n",
    "    } else {\n",
    "        Console.WriteLine(\"Found Grid: \" + grids[cnt]);\n",
    "        if(grids[cnt].NumberOfCells != J)\n",
    "            throw new Exception(\"J mismatch\");\n",
    "        \n",
    "        if(grids[cnt].SpatialDimension != 2)\n",
    "            throw new Exception(\"D mismatch\");\n",
    "    }\n",
    "}"
   ]
  },
  {
   "cell_type": "code",
   "execution_count": 9,
   "metadata": {
    "dotnet_interactive": {
     "language": "csharp"
    }
   },
   "outputs": [
    {
     "data": {
      "text/plain": [
       "#0: { Guid = 71453b0b-2b9f-456c-bd49-f5cf994aea67; Name = LinslvPerfSer-Stokes2D_J64; Cell Count = 64; Dim = 2 }\r\n",
       "#1: { Guid = d8d89ac6-7a24-4e66-b2a1-f6b037ea96a3; Name = LinslvPerfSer-Stokes2D_J256; Cell Count = 256; Dim = 2 }\r\n",
       "#2: { Guid = 485caa82-896f-4674-8958-ae296d9b1d42; Name = LinslvPerfSer-Stokes2D_J576; Cell Count = 576; Dim = 2 }\r\n",
       "#3: { Guid = ba6ce9a4-f41a-40bc-83ae-2ba15dff4f9a; Name = LinslvPerfSer-Stokes2D_J1024; Cell Count = 1024; Dim = 2 }\r\n",
       "#4: { Guid = bfee9062-773f-4cbf-b20b-be749c3943b7; Name = LinslvPerfSer-Stokes2D_J2304; Cell Count = 2304; Dim = 2 }\r\n",
       "#5: { Guid = 02a2ed43-b06b-43e7-ae3c-b6d66c1e741a; Name = LinslvPerfSer-Stokes2D_J4096; Cell Count = 4096; Dim = 2 }\r\n",
       "#6: { Guid = 8e3f6b09-5703-4464-b850-400630e49880; Name = LinslvPerfSer-Stokes2D_J16384; Cell Count = 16384; Dim = 2 }\r\n",
       "#7: { Guid = f4a19a12-1747-4340-a347-f96f7b8f9bce; Name = LinslvPerfSer-Stokes2D_J36864; Cell Count = 36864; Dim = 2 }\r\n",
       "#8: { Guid = 708a43c5-ada6-4591-af5e-3cb12ad67969; Name = LinslvPerfSer-Stokes2D_J65536; Cell Count = 65536; Dim = 2 }\r\n",
       "#9: { Guid = 81aff8dc-18b5-4e81-aa5a-15455b21c2c1; Name = LinslvPerfSer-Stokes2D_J147456; Cell Count = 147456; Dim = 2 }\r\n",
       "#10: { Guid = 3dac79eb-6c64-4daa-a01b-7e91de53d802; Name = LinslvPerfSer-Stokes2D_J262144; Cell Count = 262144; Dim = 2 }\r\n"
      ]
     },
     "execution_count": 9,
     "metadata": {},
     "output_type": "execute_result"
    }
   ],
   "source": [
    "grids"
   ]
  },
  {
   "cell_type": "code",
   "execution_count": 10,
   "metadata": {},
   "outputs": [],
   "source": [
    "//PlotGrid(\"g2304\",grids[4]);"
   ]
  },
  {
   "cell_type": "code",
   "execution_count": 11,
   "metadata": {},
   "outputs": [
    {
     "data": {
      "text/plain": [
       "{ Session Count = 242; Grid Count = 30; Path = \\\\fdygitrunner\\ValidationTests\\LinslvPerfSer }"
      ]
     },
     "execution_count": 11,
     "metadata": {},
     "output_type": "execute_result"
    }
   ],
   "source": [
    "wmg.DefaultDatabase"
   ]
  },
  {
   "cell_type": "markdown",
   "metadata": {
    "dotnet_interactive": {
     "language": "csharp"
    }
   },
   "source": [
    "## Setup Control Object for a Solver Run"
   ]
  },
  {
   "cell_type": "code",
   "execution_count": 12,
   "metadata": {
    "dotnet_interactive": {
     "language": "csharp"
    }
   },
   "outputs": [],
   "source": [
    "// - - - - - - - - - - - - - - - - - - -\n",
    "// Initial Values & Boundary conditions\n",
    "// - - - - - - - - - - - - - - - - - - -"
   ]
  },
  {
   "cell_type": "code",
   "execution_count": 13,
   "metadata": {
    "dotnet_interactive": {
     "language": "csharp"
    }
   },
   "outputs": [],
   "source": [
    "using BoSSS.Application.XNSE_Solver;\n",
    "using BoSSS.Solution.LevelSetTools;\n",
    "using BoSSS.Solution.AdvancedSolvers;\n",
    "using BoSSS.Solution.XNSECommon;\n",
    "using BoSSS.Solution.Timestepping;\n",
    "using BoSSS.Solution.XdgTimestepping ;"
   ]
  },
  {
   "cell_type": "markdown",
   "metadata": {},
   "source": [
    "### Boundary Conditions and Exact Solution"
   ]
  },
  {
   "cell_type": "code",
   "execution_count": 14,
   "metadata": {},
   "outputs": [],
   "source": [
    "var VelocityX = new Formula(\"(X) => -Math.Exp(X[0])*(X[1]*Math.Cos(X[1]) + Math.Sin(X[1]))\");"
   ]
  },
  {
   "cell_type": "code",
   "execution_count": 15,
   "metadata": {},
   "outputs": [],
   "source": [
    "var VelocityY = new Formula(\"(X) => Math.Exp(X[0])*X[1]*Math.Sin(X[1])\");"
   ]
  },
  {
   "cell_type": "code",
   "execution_count": 16,
   "metadata": {},
   "outputs": [],
   "source": [
    "var Pressure = new Formula(\"(X) => 2*Math.Exp(X[0])*Math.Sin(X[1])\");"
   ]
  },
  {
   "cell_type": "code",
   "execution_count": 17,
   "metadata": {},
   "outputs": [],
   "source": [
    "NUnit.Framework.Assert.Less((VelocityX.Evaluate(new double[] { 1, 0.5 }, 0) - (-2.495972095)).Abs(), 1.0e-9, \n",
    "     \"x-Velocity expression differs from reference value\");"
   ]
  },
  {
   "cell_type": "code",
   "execution_count": 18,
   "metadata": {},
   "outputs": [],
   "source": [
    "NUnit.Framework.Assert.Less((VelocityY.Evaluate(new double[] { 1, 0.5 }, 0) - 0.6516068645).Abs(), 1.0e-9, \n",
    "     \"y-Velocity expression differs from reference value\");"
   ]
  },
  {
   "cell_type": "markdown",
   "metadata": {
    "dotnet_interactive": {
     "language": "csharp"
    }
   },
   "source": [
    "### Setup of Parameter Study"
   ]
  },
  {
   "cell_type": "markdown",
   "metadata": {},
   "source": [
    "Polynomial degrees to test:"
   ]
  },
  {
   "cell_type": "code",
   "execution_count": 19,
   "metadata": {
    "dotnet_interactive": {
     "language": "csharp"
    }
   },
   "outputs": [],
   "source": [
    "int[] PolyDegS = new int[] {2, 3, 5};"
   ]
  },
  {
   "cell_type": "markdown",
   "metadata": {},
   "source": [
    "Solvers which we want to instrument:"
   ]
  },
  {
   "cell_type": "code",
   "execution_count": 20,
   "metadata": {
    "dotnet_interactive": {
     "language": "csharp"
    }
   },
   "outputs": [],
   "source": [
    "// Solvers which we want to instrument:\n",
    "LinearSolverCode[] solver_nameS = new LinearSolverCode[] {\n",
    "    LinearSolverCode.direct_pardiso,\n",
    "    LinearSolverCode.exp_gmres_levelpmg,\n",
    "    LinearSolverCode.exp_Kcycle_schwarz,\n",
    "    LinearSolverCode.pMultigrid\n",
    "}; "
   ]
  },
  {
   "cell_type": "markdown",
   "metadata": {},
   "source": [
    "Maximum Dof for one calculation (we skip fine grids for higher polynomial orders):"
   ]
  },
  {
   "cell_type": "code",
   "execution_count": 21,
   "metadata": {
    "dotnet_interactive": {
     "language": "csharp"
    }
   },
   "outputs": [],
   "source": [
    "int GetMaxAllowedDOF(LinearSolverCode code) {\n",
    "    switch(code) {\n",
    "        case LinearSolverCode.direct_pardiso:\n",
    "        case LinearSolverCode.direct_mumps:\n",
    "        return 1100000; // 1.1 Million for iterative solvers at maximum\n",
    "    \n",
    "        default: \n",
    "        return 3000000; // Up to 3 Million for iterative solvers\n",
    "    }\n",
    "}"
   ]
  },
  {
   "cell_type": "markdown",
   "metadata": {},
   "source": [
    "Loop over all combinations of parameters and define a control object for each combo:"
   ]
  },
  {
   "cell_type": "code",
   "execution_count": 22,
   "metadata": {
    "dotnet_interactive": {
     "language": "csharp"
    }
   },
   "outputs": [],
   "source": [
    "using BoSSS.Solution.XNSECommon;\n",
    "using BoSSS.Foundation.XDG;"
   ]
  },
  {
   "cell_type": "code",
   "execution_count": 23,
   "metadata": {
    "dotnet_interactive": {
     "language": "csharp"
    }
   },
   "outputs": [
    {
     "name": "stdout",
     "output_type": "stream",
     "text": [
      "setting up: BottiPietroStokes2D-J64_p2_direct_pardiso\n",
      "setting up: BottiPietroStokes2D-J256_p2_direct_pardiso\n",
      "setting up: BottiPietroStokes2D-J576_p2_direct_pardiso\n",
      "setting up: BottiPietroStokes2D-J1024_p2_direct_pardiso\n",
      "setting up: BottiPietroStokes2D-J2304_p2_direct_pardiso\n",
      "setting up: BottiPietroStokes2D-J4096_p2_direct_pardiso\n",
      "setting up: BottiPietroStokes2D-J16384_p2_direct_pardiso\n",
      "setting up: BottiPietroStokes2D-J36864_p2_direct_pardiso\n",
      "setting up: BottiPietroStokes2D-J65536_p2_direct_pardiso\n",
      "setting up: BottiPietroStokes2D-J64_p3_direct_pardiso\n",
      "setting up: BottiPietroStokes2D-J256_p3_direct_pardiso\n",
      "setting up: BottiPietroStokes2D-J576_p3_direct_pardiso\n",
      "setting up: BottiPietroStokes2D-J1024_p3_direct_pardiso\n",
      "setting up: BottiPietroStokes2D-J2304_p3_direct_pardiso\n",
      "setting up: BottiPietroStokes2D-J4096_p3_direct_pardiso\n",
      "setting up: BottiPietroStokes2D-J16384_p3_direct_pardiso\n",
      "setting up: BottiPietroStokes2D-J36864_p3_direct_pardiso\n",
      "setting up: BottiPietroStokes2D-J64_p5_direct_pardiso\n",
      "setting up: BottiPietroStokes2D-J256_p5_direct_pardiso\n",
      "setting up: BottiPietroStokes2D-J576_p5_direct_pardiso\n",
      "setting up: BottiPietroStokes2D-J1024_p5_direct_pardiso\n",
      "setting up: BottiPietroStokes2D-J2304_p5_direct_pardiso\n",
      "setting up: BottiPietroStokes2D-J4096_p5_direct_pardiso\n",
      "setting up: BottiPietroStokes2D-J16384_p5_direct_pardiso\n",
      "setting up: BottiPietroStokes2D-J64_p2_exp_gmres_levelpmg\n",
      "setting up: BottiPietroStokes2D-J256_p2_exp_gmres_levelpmg\n",
      "setting up: BottiPietroStokes2D-J576_p2_exp_gmres_levelpmg\n",
      "setting up: BottiPietroStokes2D-J1024_p2_exp_gmres_levelpmg\n",
      "setting up: BottiPietroStokes2D-J2304_p2_exp_gmres_levelpmg\n",
      "setting up: BottiPietroStokes2D-J4096_p2_exp_gmres_levelpmg\n",
      "setting up: BottiPietroStokes2D-J16384_p2_exp_gmres_levelpmg\n",
      "setting up: BottiPietroStokes2D-J36864_p2_exp_gmres_levelpmg\n",
      "setting up: BottiPietroStokes2D-J65536_p2_exp_gmres_levelpmg\n",
      "setting up: BottiPietroStokes2D-J147456_p2_exp_gmres_levelpmg\n",
      "setting up: BottiPietroStokes2D-J64_p3_exp_gmres_levelpmg\n",
      "setting up: BottiPietroStokes2D-J256_p3_exp_gmres_levelpmg\n",
      "setting up: BottiPietroStokes2D-J576_p3_exp_gmres_levelpmg\n",
      "setting up: BottiPietroStokes2D-J1024_p3_exp_gmres_levelpmg\n",
      "setting up: BottiPietroStokes2D-J2304_p3_exp_gmres_levelpmg\n",
      "setting up: BottiPietroStokes2D-J4096_p3_exp_gmres_levelpmg\n",
      "setting up: BottiPietroStokes2D-J16384_p3_exp_gmres_levelpmg\n",
      "setting up: BottiPietroStokes2D-J36864_p3_exp_gmres_levelpmg\n",
      "setting up: BottiPietroStokes2D-J65536_p3_exp_gmres_levelpmg\n",
      "setting up: BottiPietroStokes2D-J64_p5_exp_gmres_levelpmg\n",
      "setting up: BottiPietroStokes2D-J256_p5_exp_gmres_levelpmg\n",
      "setting up: BottiPietroStokes2D-J576_p5_exp_gmres_levelpmg\n",
      "setting up: BottiPietroStokes2D-J1024_p5_exp_gmres_levelpmg\n",
      "setting up: BottiPietroStokes2D-J2304_p5_exp_gmres_levelpmg\n",
      "setting up: BottiPietroStokes2D-J4096_p5_exp_gmres_levelpmg\n",
      "setting up: BottiPietroStokes2D-J16384_p5_exp_gmres_levelpmg\n",
      "setting up: BottiPietroStokes2D-J36864_p5_exp_gmres_levelpmg\n",
      "setting up: BottiPietroStokes2D-J64_p2_exp_Kcycle_schwarz\n",
      "setting up: BottiPietroStokes2D-J256_p2_exp_Kcycle_schwarz\n",
      "setting up: BottiPietroStokes2D-J576_p2_exp_Kcycle_schwarz\n",
      "setting up: BottiPietroStokes2D-J1024_p2_exp_Kcycle_schwarz\n",
      "setting up: BottiPietroStokes2D-J2304_p2_exp_Kcycle_schwarz\n",
      "setting up: BottiPietroStokes2D-J4096_p2_exp_Kcycle_schwarz\n",
      "setting up: BottiPietroStokes2D-J16384_p2_exp_Kcycle_schwarz\n",
      "setting up: BottiPietroStokes2D-J36864_p2_exp_Kcycle_schwarz\n",
      "setting up: BottiPietroStokes2D-J65536_p2_exp_Kcycle_schwarz\n",
      "setting up: BottiPietroStokes2D-J147456_p2_exp_Kcycle_schwarz\n",
      "setting up: BottiPietroStokes2D-J64_p3_exp_Kcycle_schwarz\n",
      "setting up: BottiPietroStokes2D-J256_p3_exp_Kcycle_schwarz\n",
      "setting up: BottiPietroStokes2D-J576_p3_exp_Kcycle_schwarz\n",
      "setting up: BottiPietroStokes2D-J1024_p3_exp_Kcycle_schwarz\n",
      "setting up: BottiPietroStokes2D-J2304_p3_exp_Kcycle_schwarz\n",
      "setting up: BottiPietroStokes2D-J4096_p3_exp_Kcycle_schwarz\n",
      "setting up: BottiPietroStokes2D-J16384_p3_exp_Kcycle_schwarz\n",
      "setting up: BottiPietroStokes2D-J36864_p3_exp_Kcycle_schwarz\n",
      "setting up: BottiPietroStokes2D-J65536_p3_exp_Kcycle_schwarz\n",
      "setting up: BottiPietroStokes2D-J64_p5_exp_Kcycle_schwarz\n",
      "setting up: BottiPietroStokes2D-J256_p5_exp_Kcycle_schwarz\n",
      "setting up: BottiPietroStokes2D-J576_p5_exp_Kcycle_schwarz\n",
      "setting up: BottiPietroStokes2D-J1024_p5_exp_Kcycle_schwarz\n",
      "setting up: BottiPietroStokes2D-J2304_p5_exp_Kcycle_schwarz\n",
      "setting up: BottiPietroStokes2D-J4096_p5_exp_Kcycle_schwarz\n",
      "setting up: BottiPietroStokes2D-J16384_p5_exp_Kcycle_schwarz\n",
      "setting up: BottiPietroStokes2D-J36864_p5_exp_Kcycle_schwarz\n",
      "setting up: BottiPietroStokes2D-J64_p2_pMultigrid\n",
      "setting up: BottiPietroStokes2D-J256_p2_pMultigrid\n",
      "setting up: BottiPietroStokes2D-J576_p2_pMultigrid\n",
      "setting up: BottiPietroStokes2D-J1024_p2_pMultigrid\n",
      "setting up: BottiPietroStokes2D-J2304_p2_pMultigrid\n",
      "setting up: BottiPietroStokes2D-J4096_p2_pMultigrid\n",
      "setting up: BottiPietroStokes2D-J16384_p2_pMultigrid\n",
      "setting up: BottiPietroStokes2D-J36864_p2_pMultigrid\n",
      "setting up: BottiPietroStokes2D-J65536_p2_pMultigrid\n",
      "setting up: BottiPietroStokes2D-J147456_p2_pMultigrid\n",
      "setting up: BottiPietroStokes2D-J64_p3_pMultigrid\n",
      "setting up: BottiPietroStokes2D-J256_p3_pMultigrid\n",
      "setting up: BottiPietroStokes2D-J576_p3_pMultigrid\n",
      "setting up: BottiPietroStokes2D-J1024_p3_pMultigrid\n",
      "setting up: BottiPietroStokes2D-J2304_p3_pMultigrid\n",
      "setting up: BottiPietroStokes2D-J4096_p3_pMultigrid\n",
      "setting up: BottiPietroStokes2D-J16384_p3_pMultigrid\n",
      "setting up: BottiPietroStokes2D-J36864_p3_pMultigrid\n",
      "setting up: BottiPietroStokes2D-J65536_p3_pMultigrid\n",
      "setting up: BottiPietroStokes2D-J64_p5_pMultigrid\n",
      "setting up: BottiPietroStokes2D-J256_p5_pMultigrid\n",
      "setting up: BottiPietroStokes2D-J576_p5_pMultigrid\n",
      "setting up: BottiPietroStokes2D-J1024_p5_pMultigrid\n",
      "setting up: BottiPietroStokes2D-J2304_p5_pMultigrid\n",
      "setting up: BottiPietroStokes2D-J4096_p5_pMultigrid\n",
      "setting up: BottiPietroStokes2D-J16384_p5_pMultigrid\n",
      "setting up: BottiPietroStokes2D-J36864_p5_pMultigrid\n"
     ]
    }
   ],
   "source": [
    "List<XNSE_Control> controls = new List<XNSE_Control>();\n",
    "controls.Clear();\n",
    "foreach(LinearSolverCode solver in solver_nameS) {\n",
    "foreach(int k in PolyDegS) {\n",
    "foreach(IGridInfo grd in grids) {\n",
    "\n",
    "    int Np_V = Utils.Np(k);\n",
    "    int Np_p = Utils.Np(k-1);\n",
    "    int J    = grd.NumberOfCells;\n",
    "    int DOF  = Np_V*2 + Np_p;\n",
    "    if(J*DOF >  GetMaxAllowedDOF(solver))\n",
    "        continue;\n",
    "    \n",
    "    // Control Instance, grid, DG degree, etc.\n",
    "    // =======================================\n",
    "    \n",
    "    XNSE_Control C = new XNSE_Control();\n",
    "    controls.Add(C);\n",
    "       \n",
    "    string caseName = string.Format(\"BottiPietroStokes2D-J{0}_p{1}_{2}\", J, k, solver);\n",
    "    Console.WriteLine(\"setting up: \" + caseName);\n",
    "    C.SessionName        = caseName;\n",
    "    \n",
    "    C.SetGrid(grd);\n",
    "    C.savetodb = true;\n",
    "    C.SetDGdegree(k);\n",
    "    \n",
    "    // Phys. Parameters\n",
    "    // ================\n",
    "    \n",
    "    C.PhysicalParameters.rho_A             = 1; // not relevant, since density is not present in steady-state Stokes.\n",
    "    C.PhysicalParameters.rho_B             = 1; // not relevant, since density is not present in steady-state Stokes.\n",
    "    C.PhysicalParameters.mu_A              = 1; // dimensionless\n",
    "    C.PhysicalParameters.mu_B              = 1; // dimensionless\n",
    "    C.PhysicalParameters.Sigma             = 0; // not relevant, since single phase\n",
    "    C.PhysicalParameters.IncludeConvection = false;\n",
    "    C.PhysicalParameters.Material          = true;\n",
    "    \n",
    "    // Boundary Conditions\n",
    "    // ===================\n",
    "    C.AddBoundaryValue(\"wall\", \"VelocityX\", VelocityX);\n",
    "    C.AddBoundaryValue(\"wall\", \"VelocityY\", VelocityY);\n",
    "    \n",
    "    C.AddInitialValue(\"VelocityX\", VelocityX);\n",
    "    C.AddInitialValue(\"VelocityY\", VelocityY);\n",
    "   \n",
    "    // Solver Stuff\n",
    "    // ============\n",
    "    \n",
    "    //C.VelocityBlockPrecondMode         = MultigridOperator.Mode.SymPart_DiagBlockEquilib;\n",
    "    \n",
    "    C.LinearSolver           = solver.GetConfig();\n",
    "    if(C.LinearSolver is IterativeSolverConfig isc) {\n",
    "        isc.ConvergenceCriterion = 1e-8;\n",
    "    }\n",
    "    C.LevelSet_ConvergenceCriterion     = 1e-6;\n",
    "    C.NoOfMultigridLevels = 100;\n",
    "\n",
    "    // Timestepping / Instationary\n",
    "    // ===========================\n",
    "\n",
    "    C.TimesteppingMode             = AppControl._TimesteppingMode.Steady;\n",
    "}\n",
    "}\n",
    "}"
   ]
  },
  {
   "cell_type": "markdown",
   "metadata": {},
   "source": [
    "Total number of simulations:"
   ]
  },
  {
   "cell_type": "code",
   "execution_count": 24,
   "metadata": {},
   "outputs": [
    {
     "data": {
      "text/html": [
       "<div class=\"dni-plaintext\">105</div>"
      ]
     },
     "execution_count": 24,
     "metadata": {},
     "output_type": "execute_result"
    }
   ],
   "source": [
    "controls.Count"
   ]
  },
  {
   "cell_type": "code",
   "execution_count": 25,
   "metadata": {},
   "outputs": [],
   "source": [
    "// Basic checks on the multigrid configuration\n",
    "foreach(var ctrl in controls) {\n",
    "    NUnit.Framework.Assert.Greater(ctrl.NoOfMultigridLevels, 1, \"More than 1 multigrid level must be set\");\n",
    "    if(ctrl.LinearSolver is OrthoMGSchwarzConfig osc)\n",
    "        NUnit.Framework.Assert.Greater(osc.NoOfMultigridLevels, 1, \"More than 1 multigrid level must be set\");\n",
    "}"
   ]
  },
  {
   "cell_type": "code",
   "execution_count": 26,
   "metadata": {},
   "outputs": [],
   "source": [
    "//string path = @\"C:\\Users\\jenkinsci\\Documents\\BoSSS-kummer\\public\\src\\L4-application\\XNSE_Solver\\bin\\Release\\net5.0\\Stokes2D\";\n",
    "//foreach(var ctrl in controls) {\n",
    "//    ctrl.savetodb = false;\n",
    "//    ctrl.SaveToFile(System.IO.Path.Combine(path, \"control-\" + ctrl.SessionName + \".obj\"));\n",
    "//}"
   ]
  },
  {
   "cell_type": "markdown",
   "metadata": {
    "dotnet_interactive": {
     "language": "csharp"
    }
   },
   "source": [
    "## Launch Jobs"
   ]
  },
  {
   "cell_type": "code",
   "execution_count": 27,
   "metadata": {
    "dotnet_interactive": {
     "language": "csharp"
    }
   },
   "outputs": [
    {
     "name": "stdout",
     "output_type": "stream",
     "text": [
      " Submitting: BottiPietroStokes2D-J64_p2_direct_pardiso\n",
      "Info: Found successful session \"LinslvPerfSer\tBottiPietroStokes2D-J64_p2_direct_pardiso\t04/15/2022 09:13:55\t15afafd8...\" -- job is marked as successful, no further action.\n",
      "No submission, because job status is: FinishedSuccessful\n",
      " Submitting: BottiPietroStokes2D-J256_p2_direct_pardiso\n",
      "Info: Found successful session \"LinslvPerfSer\tBottiPietroStokes2D-J256_p2_direct_pardiso\t04/15/2022 09:14:31\t5e6d305d...\" -- job is marked as successful, no further action.\n",
      "No submission, because job status is: FinishedSuccessful\n",
      " Submitting: BottiPietroStokes2D-J576_p2_direct_pardiso\n",
      "Info: Found successful session \"LinslvPerfSer\tBottiPietroStokes2D-J576_p2_direct_pardiso\t04/15/2022 09:15:06\t97e38d09...\" -- job is marked as successful, no further action.\n",
      "No submission, because job status is: FinishedSuccessful\n",
      " Submitting: BottiPietroStokes2D-J1024_p2_direct_pardiso\n",
      "Info: Found successful session \"LinslvPerfSer\tBottiPietroStokes2D-J1024_p2_direct_pardiso\t04/15/2022 09:15:41\t6e4385d5...\" -- job is marked as successful, no further action.\n",
      "No submission, because job status is: FinishedSuccessful\n",
      " Submitting: BottiPietroStokes2D-J2304_p2_direct_pardiso\n",
      "Info: Found successful session \"LinslvPerfSer\tBottiPietroStokes2D-J2304_p2_direct_pardiso\t04/15/2022 09:16:19\te86db75a...\" -- job is marked as successful, no further action.\n",
      "No submission, because job status is: FinishedSuccessful\n",
      " Submitting: BottiPietroStokes2D-J4096_p2_direct_pardiso\n",
      "Info: Found successful session \"LinslvPerfSer\tBottiPietroStokes2D-J4096_p2_direct_pardiso\t04/15/2022 09:16:58\t3c856864...\" -- job is marked as successful, no further action.\n",
      "No submission, because job status is: FinishedSuccessful\n",
      " Submitting: BottiPietroStokes2D-J16384_p2_direct_pardiso\n",
      "Info: Found successful session \"LinslvPerfSer\tBottiPietroStokes2D-J16384_p2_direct_pardiso\t04/15/2022 09:17:39\t442c71a0...\" -- job is marked as successful, no further action.\n",
      "No submission, because job status is: FinishedSuccessful\n",
      " Submitting: BottiPietroStokes2D-J36864_p2_direct_pardiso\n",
      "Info: Found successful session \"LinslvPerfSer\tBottiPietroStokes2D-J36864_p2_direct_pardiso\t04/15/2022 09:18:23\tc0a95c81...\" -- job is marked as successful, no further action.\n",
      "No submission, because job status is: FinishedSuccessful\n",
      " Submitting: BottiPietroStokes2D-J65536_p2_direct_pardiso\n",
      "Info: Found successful session \"LinslvPerfSer\tBottiPietroStokes2D-J65536_p2_direct_pardiso\t04/15/2022 09:19:09\t86a3c84c...\" -- job is marked as successful, no further action.\n",
      "No submission, because job status is: FinishedSuccessful\n",
      " Submitting: BottiPietroStokes2D-J64_p3_direct_pardiso\n",
      "Info: Found successful session \"LinslvPerfSer\tBottiPietroStokes2D-J64_p3_direct_pardiso\t04/15/2022 09:19:57\t5d5becd9...\" -- job is marked as successful, no further action.\n",
      "No submission, because job status is: FinishedSuccessful\n",
      " Submitting: BottiPietroStokes2D-J256_p3_direct_pardiso\n",
      "Info: Found successful session \"LinslvPerfSer\tBottiPietroStokes2D-J256_p3_direct_pardiso\t04/15/2022 09:20:45\t1433b6e0...\" -- job is marked as successful, no further action.\n",
      "No submission, because job status is: FinishedSuccessful\n",
      " Submitting: BottiPietroStokes2D-J576_p3_direct_pardiso\n",
      "Info: Found successful session \"LinslvPerfSer\tBottiPietroStokes2D-J576_p3_direct_pardiso\t04/15/2022 09:21:34\tb0f8a00f...\" -- job is marked as successful, no further action.\n",
      "No submission, because job status is: FinishedSuccessful\n",
      " Submitting: BottiPietroStokes2D-J1024_p3_direct_pardiso\n",
      "Info: Found successful session \"LinslvPerfSer\tBottiPietroStokes2D-J1024_p3_direct_pardiso\t04/15/2022 09:22:23\teb48271a...\" -- job is marked as successful, no further action.\n",
      "No submission, because job status is: FinishedSuccessful\n",
      " Submitting: BottiPietroStokes2D-J2304_p3_direct_pardiso\n",
      "Info: Found successful session \"LinslvPerfSer\tBottiPietroStokes2D-J2304_p3_direct_pardiso\t04/15/2022 09:23:13\taf3fdeb0...\" -- job is marked as successful, no further action.\n",
      "No submission, because job status is: FinishedSuccessful\n",
      " Submitting: BottiPietroStokes2D-J4096_p3_direct_pardiso\n",
      "Info: Found successful session \"LinslvPerfSer\tBottiPietroStokes2D-J4096_p3_direct_pardiso\t04/15/2022 09:24:13\t4970a5dc...\" -- job is marked as successful, no further action.\n",
      "No submission, because job status is: FinishedSuccessful\n",
      " Submitting: BottiPietroStokes2D-J16384_p3_direct_pardiso\n",
      "Info: Found successful session \"LinslvPerfSer\tBottiPietroStokes2D-J16384_p3_direct_pardiso\t04/15/2022 09:25:04\t969694ed...\" -- job is marked as successful, no further action.\n",
      "No submission, because job status is: FinishedSuccessful\n",
      " Submitting: BottiPietroStokes2D-J36864_p3_direct_pardiso\n",
      "Info: Found successful session \"LinslvPerfSer\tBottiPietroStokes2D-J36864_p3_direct_pardiso\t04/15/2022 09:26:02\tc9c9726e...\" -- job is marked as successful, no further action.\n",
      "No submission, because job status is: FinishedSuccessful\n",
      " Submitting: BottiPietroStokes2D-J64_p5_direct_pardiso\n",
      "Info: Found successful session \"LinslvPerfSer\tBottiPietroStokes2D-J64_p5_direct_pardiso\t04/15/2022 09:27:04\tea9ede00...\" -- job is marked as successful, no further action.\n",
      "No submission, because job status is: FinishedSuccessful\n",
      " Submitting: BottiPietroStokes2D-J256_p5_direct_pardiso\n",
      "Info: Found successful session \"LinslvPerfSer\tBottiPietroStokes2D-J256_p5_direct_pardiso\t04/15/2022 09:28:11\t1da34677...\" -- job is marked as successful, no further action.\n",
      "No submission, because job status is: FinishedSuccessful\n",
      " Submitting: BottiPietroStokes2D-J576_p5_direct_pardiso\n",
      "Info: Found successful session \"LinslvPerfSer\tBottiPietroStokes2D-J576_p5_direct_pardiso\t04/15/2022 09:29:17\t483159b7...\" -- job is marked as successful, no further action.\n",
      "No submission, because job status is: FinishedSuccessful\n",
      " Submitting: BottiPietroStokes2D-J1024_p5_direct_pardiso\n",
      "Info: Found successful session \"LinslvPerfSer\tBottiPietroStokes2D-J1024_p5_direct_pardiso\t04/15/2022 09:30:20\t1e5f3a0a...\" -- job is marked as successful, no further action.\n",
      "No submission, because job status is: FinishedSuccessful\n",
      " Submitting: BottiPietroStokes2D-J2304_p5_direct_pardiso\n",
      "Info: Found successful session \"LinslvPerfSer\tBottiPietroStokes2D-J2304_p5_direct_pardiso\t04/15/2022 09:31:29\t81d2ebca...\" -- job is marked as successful, no further action.\n",
      "No submission, because job status is: FinishedSuccessful\n",
      " Submitting: BottiPietroStokes2D-J4096_p5_direct_pardiso\n",
      "Info: Found successful session \"LinslvPerfSer\tBottiPietroStokes2D-J4096_p5_direct_pardiso\t04/15/2022 09:32:39\t0e30c0f5...\" -- job is marked as successful, no further action.\n",
      "No submission, because job status is: FinishedSuccessful\n",
      " Submitting: BottiPietroStokes2D-J16384_p5_direct_pardiso\n",
      "Info: Found successful session \"LinslvPerfSer\tBottiPietroStokes2D-J16384_p5_direct_pardiso\t04/15/2022 09:33:52\tfa45c58c...\" -- job is marked as successful, no further action.\n",
      "No submission, because job status is: FinishedSuccessful\n",
      " Submitting: BottiPietroStokes2D-J64_p2_exp_gmres_levelpmg\n",
      "Info: Found successful session \"LinslvPerfSer\tBottiPietroStokes2D-J64_p2_exp_gmres_levelpmg\t04/15/2022 09:35:10\tbbf66233...\" -- job is marked as successful, no further action.\n",
      "No submission, because job status is: FinishedSuccessful\n",
      " Submitting: BottiPietroStokes2D-J256_p2_exp_gmres_levelpmg\n",
      "Info: Found successful session \"LinslvPerfSer\tBottiPietroStokes2D-J256_p2_exp_gmres_levelpmg\t04/15/2022 09:36:25\tb8f2ddcb...\" -- job is marked as successful, no further action.\n",
      "No submission, because job status is: FinishedSuccessful\n",
      " Submitting: BottiPietroStokes2D-J576_p2_exp_gmres_levelpmg\n",
      "Info: Found successful session \"LinslvPerfSer\tBottiPietroStokes2D-J576_p2_exp_gmres_levelpmg\t04/15/2022 09:37:44\t30fa395a...\" -- job is marked as successful, no further action.\n",
      "No submission, because job status is: FinishedSuccessful\n",
      " Submitting: BottiPietroStokes2D-J1024_p2_exp_gmres_levelpmg\n",
      "Info: Found successful session \"LinslvPerfSer\tBottiPietroStokes2D-J1024_p2_exp_gmres_levelpmg\t04/15/2022 09:39:12\tb6dd1f1e...\" -- job is marked as successful, no further action.\n",
      "No submission, because job status is: FinishedSuccessful\n",
      " Submitting: BottiPietroStokes2D-J2304_p2_exp_gmres_levelpmg\n",
      "Info: Found successful session \"LinslvPerfSer\tBottiPietroStokes2D-J2304_p2_exp_gmres_levelpmg\t04/15/2022 09:40:27\t609c434e...\" -- job is marked as successful, no further action.\n"
     ]
    },
    {
     "name": "stdout",
     "output_type": "stream",
     "text": [
      "No submission, because job status is: FinishedSuccessful\n",
      " Submitting: BottiPietroStokes2D-J4096_p2_exp_gmres_levelpmg\n",
      "Info: Found successful session \"LinslvPerfSer\tBottiPietroStokes2D-J4096_p2_exp_gmres_levelpmg\t04/15/2022 09:41:49\tac3bdf24...\" -- job is marked as successful, no further action.\n",
      "No submission, because job status is: FinishedSuccessful\n",
      " Submitting: BottiPietroStokes2D-J16384_p2_exp_gmres_levelpmg\n",
      "Info: Found successful session \"LinslvPerfSer\tBottiPietroStokes2D-J16384_p2_exp_gmres_levelpmg\t04/15/2022 09:43:18\t1230fdf5...\" -- job is marked as successful, no further action.\n",
      "No submission, because job status is: FinishedSuccessful\n",
      " Submitting: BottiPietroStokes2D-J36864_p2_exp_gmres_levelpmg\n",
      "Info: Found successful session \"LinslvPerfSer\tBottiPietroStokes2D-J36864_p2_exp_gmres_levelpmg\t04/15/2022 09:44:47\t758a1841...\" -- job is marked as successful, no further action.\n",
      "No submission, because job status is: FinishedSuccessful\n",
      " Submitting: BottiPietroStokes2D-J65536_p2_exp_gmres_levelpmg\n",
      "Info: Found successful session \"LinslvPerfSer\tBottiPietroStokes2D-J65536_p2_exp_gmres_levelpmg\t04/15/2022 09:46:19\tb5f94c78...\" -- job is marked as successful, no further action.\n",
      "No submission, because job status is: FinishedSuccessful\n",
      " Submitting: BottiPietroStokes2D-J147456_p2_exp_gmres_levelpmg\n",
      "Info: Found successful session \"LinslvPerfSer\tBottiPietroStokes2D-J147456_p2_exp_gmres_levelpmg\t04/15/2022 09:47:52\t4ac8a4f6...\" -- job is marked as successful, no further action.\n",
      "No submission, because job status is: FinishedSuccessful\n",
      " Submitting: BottiPietroStokes2D-J64_p3_exp_gmres_levelpmg\n",
      "Info: Found successful session \"LinslvPerfSer\tBottiPietroStokes2D-J64_p3_exp_gmres_levelpmg\t04/15/2022 09:49:23\tcd1d0cb1...\" -- job is marked as successful, no further action.\n",
      "No submission, because job status is: FinishedSuccessful\n",
      " Submitting: BottiPietroStokes2D-J256_p3_exp_gmres_levelpmg\n",
      "Info: Found successful session \"LinslvPerfSer\tBottiPietroStokes2D-J256_p3_exp_gmres_levelpmg\t04/15/2022 09:50:55\t295d92b5...\" -- job is marked as successful, no further action.\n",
      "No submission, because job status is: FinishedSuccessful\n",
      " Submitting: BottiPietroStokes2D-J576_p3_exp_gmres_levelpmg\n",
      "Info: Found successful session \"LinslvPerfSer\tBottiPietroStokes2D-J576_p3_exp_gmres_levelpmg\t04/15/2022 09:52:28\tdb5eaf1c...\" -- job is marked as successful, no further action.\n",
      "No submission, because job status is: FinishedSuccessful\n",
      " Submitting: BottiPietroStokes2D-J1024_p3_exp_gmres_levelpmg\n",
      "Info: Found successful session \"LinslvPerfSer\tBottiPietroStokes2D-J1024_p3_exp_gmres_levelpmg\t04/15/2022 09:54:02\t80b2b8d0...\" -- job is marked as successful, no further action.\n",
      "No submission, because job status is: FinishedSuccessful\n",
      " Submitting: BottiPietroStokes2D-J2304_p3_exp_gmres_levelpmg\n",
      "Info: Found successful session \"LinslvPerfSer\tBottiPietroStokes2D-J2304_p3_exp_gmres_levelpmg\t04/15/2022 09:55:34\t84ae7ac9...\" -- job is marked as successful, no further action.\n",
      "No submission, because job status is: FinishedSuccessful\n",
      " Submitting: BottiPietroStokes2D-J4096_p3_exp_gmres_levelpmg\n",
      "Info: Found successful session \"LinslvPerfSer\tBottiPietroStokes2D-J4096_p3_exp_gmres_levelpmg\t04/15/2022 09:57:11\t83f574eb...\" -- job is marked as successful, no further action.\n",
      "No submission, because job status is: FinishedSuccessful\n",
      " Submitting: BottiPietroStokes2D-J16384_p3_exp_gmres_levelpmg\n",
      "Info: Found successful session \"LinslvPerfSer\tBottiPietroStokes2D-J16384_p3_exp_gmres_levelpmg\t04/15/2022 09:58:38\t63d69d78...\" -- job is marked as successful, no further action.\n",
      "No submission, because job status is: FinishedSuccessful\n",
      " Submitting: BottiPietroStokes2D-J36864_p3_exp_gmres_levelpmg\n",
      "Info: Found successful session \"LinslvPerfSer\tBottiPietroStokes2D-J36864_p3_exp_gmres_levelpmg\t04/15/2022 10:00:14\td109c9a3...\" -- job is marked as successful, no further action.\n",
      "No submission, because job status is: FinishedSuccessful\n",
      " Submitting: BottiPietroStokes2D-J65536_p3_exp_gmres_levelpmg\n",
      "Info: Found successful session \"LinslvPerfSer\tBottiPietroStokes2D-J65536_p3_exp_gmres_levelpmg\t04/15/2022 10:01:42\t45103e5d...\" -- job is marked as successful, no further action.\n",
      "No submission, because job status is: FinishedSuccessful\n",
      " Submitting: BottiPietroStokes2D-J64_p5_exp_gmres_levelpmg\n",
      "Info: Found successful session \"LinslvPerfSer\tBottiPietroStokes2D-J64_p5_exp_gmres_levelpmg\t04/15/2022 10:03:17\t64effbb5...\" -- job is marked as successful, no further action.\n",
      "No submission, because job status is: FinishedSuccessful\n",
      " Submitting: BottiPietroStokes2D-J256_p5_exp_gmres_levelpmg\n",
      "Info: Found successful session \"LinslvPerfSer\tBottiPietroStokes2D-J256_p5_exp_gmres_levelpmg\t04/15/2022 10:04:53\t59b9f0bf...\" -- job is marked as successful, no further action.\n",
      "No submission, because job status is: FinishedSuccessful\n",
      " Submitting: BottiPietroStokes2D-J576_p5_exp_gmres_levelpmg\n",
      "Info: Found successful session \"LinslvPerfSer\tBottiPietroStokes2D-J576_p5_exp_gmres_levelpmg\t04/15/2022 10:06:32\ta81d35d1...\" -- job is marked as successful, no further action.\n",
      "No submission, because job status is: FinishedSuccessful\n",
      " Submitting: BottiPietroStokes2D-J1024_p5_exp_gmres_levelpmg\n",
      "Info: Found successful session \"LinslvPerfSer\tBottiPietroStokes2D-J1024_p5_exp_gmres_levelpmg\t04/15/2022 10:08:10\ta63f3b7d...\" -- job is marked as successful, no further action.\n",
      "No submission, because job status is: FinishedSuccessful\n",
      " Submitting: BottiPietroStokes2D-J2304_p5_exp_gmres_levelpmg\n",
      "Info: Found successful session \"LinslvPerfSer\tBottiPietroStokes2D-J2304_p5_exp_gmres_levelpmg\t04/15/2022 10:09:47\tbfd2970c...\" -- job is marked as successful, no further action.\n",
      "No submission, because job status is: FinishedSuccessful\n",
      " Submitting: BottiPietroStokes2D-J4096_p5_exp_gmres_levelpmg\n",
      "Info: Found successful session \"LinslvPerfSer\tBottiPietroStokes2D-J4096_p5_exp_gmres_levelpmg\t04/15/2022 10:11:25\tbf2233c6...\" -- job is marked as successful, no further action.\n",
      "No submission, because job status is: FinishedSuccessful\n",
      " Submitting: BottiPietroStokes2D-J16384_p5_exp_gmres_levelpmg\n",
      "Info: Found successful session \"LinslvPerfSer\tBottiPietroStokes2D-J16384_p5_exp_gmres_levelpmg\t04/15/2022 10:13:03\tb89614db...\" -- job is marked as successful, no further action.\n",
      "No submission, because job status is: FinishedSuccessful\n",
      " Submitting: BottiPietroStokes2D-J36864_p5_exp_gmres_levelpmg\n",
      "Info: Found successful session \"LinslvPerfSer\tBottiPietroStokes2D-J36864_p5_exp_gmres_levelpmg\t04/15/2022 10:14:45\t3e22c27b...\" -- job is marked as successful, no further action.\n",
      "No submission, because job status is: FinishedSuccessful\n",
      " Submitting: BottiPietroStokes2D-J64_p2_exp_Kcycle_schwarz\n",
      "Info: Found successful session \"LinslvPerfSer\tBottiPietroStokes2D-J64_p2_exp_Kcycle_schwarz\t04/15/2022 10:16:26\t91876553...\" -- job is marked as successful, no further action.\n",
      "No submission, because job status is: FinishedSuccessful\n",
      " Submitting: BottiPietroStokes2D-J256_p2_exp_Kcycle_schwarz\n",
      "Info: Found successful session \"LinslvPerfSer\tBottiPietroStokes2D-J256_p2_exp_Kcycle_schwarz\t04/15/2022 10:18:06\tb47bd30f...\" -- job is marked as successful, no further action.\n",
      "No submission, because job status is: FinishedSuccessful\n",
      " Submitting: BottiPietroStokes2D-J576_p2_exp_Kcycle_schwarz\n",
      "Info: Found successful session \"LinslvPerfSer\tBottiPietroStokes2D-J576_p2_exp_Kcycle_schwarz\t04/15/2022 10:19:46\tcf1d84df...\" -- job is marked as successful, no further action.\n",
      "No submission, because job status is: FinishedSuccessful\n",
      " Submitting: BottiPietroStokes2D-J1024_p2_exp_Kcycle_schwarz\n",
      "Info: Found successful session \"LinslvPerfSer\tBottiPietroStokes2D-J1024_p2_exp_Kcycle_schwarz\t04/15/2022 10:21:22\t0d1f9cd7...\" -- job is marked as successful, no further action.\n",
      "No submission, because job status is: FinishedSuccessful\n",
      " Submitting: BottiPietroStokes2D-J2304_p2_exp_Kcycle_schwarz\n",
      "Info: Found successful session \"LinslvPerfSer\tBottiPietroStokes2D-J2304_p2_exp_Kcycle_schwarz\t04/15/2022 10:23:04\t029881cb...\" -- job is marked as successful, no further action.\n",
      "No submission, because job status is: FinishedSuccessful\n",
      " Submitting: BottiPietroStokes2D-J4096_p2_exp_Kcycle_schwarz\n",
      "Info: Found successful session \"LinslvPerfSer\tBottiPietroStokes2D-J4096_p2_exp_Kcycle_schwarz\t04/15/2022 10:24:45\tccb7f1ff...\" -- job is marked as successful, no further action.\n"
     ]
    },
    {
     "name": "stdout",
     "output_type": "stream",
     "text": [
      "No submission, because job status is: FinishedSuccessful\n",
      " Submitting: BottiPietroStokes2D-J16384_p2_exp_Kcycle_schwarz\n",
      "Info: Found successful session \"LinslvPerfSer\tBottiPietroStokes2D-J16384_p2_exp_Kcycle_schwarz\t04/15/2022 10:26:27\tfce9b18c...\" -- job is marked as successful, no further action.\n",
      "No submission, because job status is: FinishedSuccessful\n",
      " Submitting: BottiPietroStokes2D-J36864_p2_exp_Kcycle_schwarz\n",
      "Info: Found successful session \"LinslvPerfSer\tBottiPietroStokes2D-J36864_p2_exp_Kcycle_schwarz\t04/15/2022 10:28:09\t82b78cc9...\" -- job is marked as successful, no further action.\n",
      "No submission, because job status is: FinishedSuccessful\n",
      " Submitting: BottiPietroStokes2D-J65536_p2_exp_Kcycle_schwarz\n",
      "Info: Found successful session \"LinslvPerfSer\tBottiPietroStokes2D-J65536_p2_exp_Kcycle_schwarz\t04/15/2022 10:29:54\te44f7e0e...\" -- job is marked as successful, no further action.\n",
      "No submission, because job status is: FinishedSuccessful\n",
      " Submitting: BottiPietroStokes2D-J147456_p2_exp_Kcycle_schwarz\n",
      "Info: Found successful session \"LinslvPerfSer\tBottiPietroStokes2D-J147456_p2_exp_Kcycle_schwarz\t04/15/2022 10:31:35\t6ef09c97...\" -- job is marked as successful, no further action.\n",
      "No submission, because job status is: FinishedSuccessful\n",
      " Submitting: BottiPietroStokes2D-J64_p3_exp_Kcycle_schwarz\n",
      "Info: Found successful session \"LinslvPerfSer\tBottiPietroStokes2D-J64_p3_exp_Kcycle_schwarz\t04/15/2022 10:33:19\t583fa52c...\" -- job is marked as successful, no further action.\n",
      "No submission, because job status is: FinishedSuccessful\n",
      " Submitting: BottiPietroStokes2D-J256_p3_exp_Kcycle_schwarz\n",
      "Info: Found successful session \"LinslvPerfSer\tBottiPietroStokes2D-J256_p3_exp_Kcycle_schwarz\t04/15/2022 10:35:08\t16cced71...\" -- job is marked as successful, no further action.\n",
      "No submission, because job status is: FinishedSuccessful\n",
      " Submitting: BottiPietroStokes2D-J576_p3_exp_Kcycle_schwarz\n",
      "Info: Found successful session \"LinslvPerfSer\tBottiPietroStokes2D-J576_p3_exp_Kcycle_schwarz\t04/15/2022 10:36:51\t3abeddda...\" -- job is marked as successful, no further action.\n",
      "No submission, because job status is: FinishedSuccessful\n",
      " Submitting: BottiPietroStokes2D-J1024_p3_exp_Kcycle_schwarz\n",
      "Info: Found successful session \"LinslvPerfSer\tBottiPietroStokes2D-J1024_p3_exp_Kcycle_schwarz\t04/15/2022 10:38:36\t4ff8f1c1...\" -- job is marked as successful, no further action.\n",
      "No submission, because job status is: FinishedSuccessful\n",
      " Submitting: BottiPietroStokes2D-J2304_p3_exp_Kcycle_schwarz\n",
      "Info: Found successful session \"LinslvPerfSer\tBottiPietroStokes2D-J2304_p3_exp_Kcycle_schwarz\t04/15/2022 10:40:23\t227b88a6...\" -- job is marked as successful, no further action.\n",
      "No submission, because job status is: FinishedSuccessful\n",
      " Submitting: BottiPietroStokes2D-J4096_p3_exp_Kcycle_schwarz\n",
      "Info: Found successful session \"LinslvPerfSer\tBottiPietroStokes2D-J4096_p3_exp_Kcycle_schwarz\t04/15/2022 10:42:14\tbeb2a6fc...\" -- job is marked as successful, no further action.\n",
      "No submission, because job status is: FinishedSuccessful\n",
      " Submitting: BottiPietroStokes2D-J16384_p3_exp_Kcycle_schwarz\n",
      "Info: Found successful session \"LinslvPerfSer\tBottiPietroStokes2D-J16384_p3_exp_Kcycle_schwarz\t04/15/2022 10:44:01\t6df70438...\" -- job is marked as successful, no further action.\n",
      "No submission, because job status is: FinishedSuccessful\n",
      " Submitting: BottiPietroStokes2D-J36864_p3_exp_Kcycle_schwarz\n",
      "Info: Found successful session \"LinslvPerfSer\tBottiPietroStokes2D-J36864_p3_exp_Kcycle_schwarz\t04/15/2022 10:45:44\tb4b66d1a...\" -- job is marked as successful, no further action.\n",
      "No submission, because job status is: FinishedSuccessful\n",
      " Submitting: BottiPietroStokes2D-J65536_p3_exp_Kcycle_schwarz\n",
      "Info: Found successful session \"LinslvPerfSer\tBottiPietroStokes2D-J65536_p3_exp_Kcycle_schwarz\t04/15/2022 10:47:37\td8c4c789...\" -- job is marked as successful, no further action.\n",
      "No submission, because job status is: FinishedSuccessful\n",
      " Submitting: BottiPietroStokes2D-J64_p5_exp_Kcycle_schwarz\n",
      "Info: Found successful session \"LinslvPerfSer\tBottiPietroStokes2D-J64_p5_exp_Kcycle_schwarz\t04/15/2022 10:49:18\t3f71b4a2...\" -- job is marked as successful, no further action.\n",
      "No submission, because job status is: FinishedSuccessful\n",
      " Submitting: BottiPietroStokes2D-J256_p5_exp_Kcycle_schwarz\n",
      "Info: Found successful session \"LinslvPerfSer\tBottiPietroStokes2D-J256_p5_exp_Kcycle_schwarz\t04/15/2022 10:51:04\t8fe20715...\" -- job is marked as successful, no further action.\n",
      "No submission, because job status is: FinishedSuccessful\n",
      " Submitting: BottiPietroStokes2D-J576_p5_exp_Kcycle_schwarz\n",
      "Info: Found successful session \"LinslvPerfSer\tBottiPietroStokes2D-J576_p5_exp_Kcycle_schwarz\t04/15/2022 10:52:52\t64ba84ca...\" -- job is marked as successful, no further action.\n",
      "No submission, because job status is: FinishedSuccessful\n",
      " Submitting: BottiPietroStokes2D-J1024_p5_exp_Kcycle_schwarz\n",
      "Info: Found successful session \"LinslvPerfSer\tBottiPietroStokes2D-J1024_p5_exp_Kcycle_schwarz\t04/15/2022 10:54:39\tb404e5b3...\" -- job is marked as successful, no further action.\n",
      "No submission, because job status is: FinishedSuccessful\n",
      " Submitting: BottiPietroStokes2D-J2304_p5_exp_Kcycle_schwarz\n",
      "Info: Found successful session \"LinslvPerfSer\tBottiPietroStokes2D-J2304_p5_exp_Kcycle_schwarz\t04/15/2022 10:56:28\tfaa1ae7e...\" -- job is marked as successful, no further action.\n",
      "No submission, because job status is: FinishedSuccessful\n",
      " Submitting: BottiPietroStokes2D-J4096_p5_exp_Kcycle_schwarz\n",
      "Info: Found successful session \"LinslvPerfSer\tBottiPietroStokes2D-J4096_p5_exp_Kcycle_schwarz\t04/15/2022 10:58:16\t5d79ff60...\" -- job is marked as successful, no further action.\n",
      "No submission, because job status is: FinishedSuccessful\n",
      " Submitting: BottiPietroStokes2D-J16384_p5_exp_Kcycle_schwarz\n",
      "Info: Found successful session \"LinslvPerfSer\tBottiPietroStokes2D-J16384_p5_exp_Kcycle_schwarz\t04/15/2022 11:00:09\te8e1b2ee...\" -- job is marked as successful, no further action.\n",
      "No submission, because job status is: FinishedSuccessful\n",
      " Submitting: BottiPietroStokes2D-J36864_p5_exp_Kcycle_schwarz\n",
      "Info: Found successful session \"LinslvPerfSer\tBottiPietroStokes2D-J36864_p5_exp_Kcycle_schwarz\t04/15/2022 11:02:01\t37356940...\" -- job is marked as successful, no further action.\n",
      "No submission, because job status is: FinishedSuccessful\n",
      " Submitting: BottiPietroStokes2D-J64_p2_pMultigrid\n",
      "Info: Found successful session \"LinslvPerfSer\tBottiPietroStokes2D-J64_p2_pMultigrid\t04/15/2022 11:03:50\t245f3380...\" -- job is marked as successful, no further action.\n",
      "No submission, because job status is: FinishedSuccessful\n",
      " Submitting: BottiPietroStokes2D-J256_p2_pMultigrid\n",
      "Info: Found successful session \"LinslvPerfSer\tBottiPietroStokes2D-J256_p2_pMultigrid\t04/15/2022 11:05:52\taf5afa4a...\" -- job is marked as successful, no further action.\n",
      "No submission, because job status is: FinishedSuccessful\n",
      " Submitting: BottiPietroStokes2D-J576_p2_pMultigrid\n",
      "Info: Found successful session \"LinslvPerfSer\tBottiPietroStokes2D-J576_p2_pMultigrid\t04/15/2022 11:07:52\t1428d3ee...\" -- job is marked as successful, no further action.\n",
      "No submission, because job status is: FinishedSuccessful\n",
      " Submitting: BottiPietroStokes2D-J1024_p2_pMultigrid\n",
      "Info: Found successful session \"LinslvPerfSer\tBottiPietroStokes2D-J1024_p2_pMultigrid\t04/15/2022 11:09:49\t17ecc109...\" -- job is marked as successful, no further action.\n",
      "No submission, because job status is: FinishedSuccessful\n",
      " Submitting: BottiPietroStokes2D-J2304_p2_pMultigrid\n",
      "Deploying job BottiPietroStokes2D-J2304_p2_pMultigrid ... \n",
      "Deploying executables and additional files ...\n",
      "Deployment directory: \\\\fdygitrunner\\ValidationTests\\LinslvPerfSer-XNSE_Solver2022May16_124349\n",
      "copied 50 files.\n",
      "   written file: control.obj\n",
      "   copied 'amd64' runtime.\n",
      "deployment finished.\n",
      "\n",
      " Submitting: BottiPietroStokes2D-J4096_p2_pMultigrid\n",
      "Info: Found successful session \"LinslvPerfSer\tBottiPietroStokes2D-J4096_p2_pMultigrid\t04/15/2022 11:13:57\tc9f25eec...\" -- job is marked as successful, no further action.\n",
      "No submission, because job status is: FinishedSuccessful\n",
      " Submitting: BottiPietroStokes2D-J16384_p2_pMultigrid\n",
      "Deploying job BottiPietroStokes2D-J16384_p2_pMultigrid ... \n",
      "Deploying executables and additional files ...\n",
      "Deployment directory: \\\\fdygitrunner\\ValidationTests\\LinslvPerfSer-XNSE_Solver2022May16_124555\n"
     ]
    },
    {
     "name": "stdout",
     "output_type": "stream",
     "text": [
      "copied 50 files.\n",
      "   written file: control.obj\n",
      "   copied 'amd64' runtime.\n",
      "deployment finished.\n",
      "\n",
      " Submitting: BottiPietroStokes2D-J36864_p2_pMultigrid\n",
      "Deploying job BottiPietroStokes2D-J36864_p2_pMultigrid ... \n",
      "Deploying executables and additional files ...\n",
      "Deployment directory: \\\\fdygitrunner\\ValidationTests\\LinslvPerfSer-XNSE_Solver2022May16_124738\n",
      "copied 50 files.\n",
      "   written file: control.obj\n",
      "   copied 'amd64' runtime.\n",
      "deployment finished.\n",
      "\n",
      " Submitting: BottiPietroStokes2D-J65536_p2_pMultigrid\n",
      "Deploying job BottiPietroStokes2D-J65536_p2_pMultigrid ... \n",
      "Deploying executables and additional files ...\n",
      "Deployment directory: \\\\fdygitrunner\\ValidationTests\\LinslvPerfSer-XNSE_Solver2022May16_124931\n",
      "copied 50 files.\n",
      "   written file: control.obj\n",
      "   copied 'amd64' runtime.\n",
      "deployment finished.\n",
      "\n",
      " Submitting: BottiPietroStokes2D-J147456_p2_pMultigrid\n",
      "Deploying job BottiPietroStokes2D-J147456_p2_pMultigrid ... \n",
      "Deploying executables and additional files ...\n",
      "Deployment directory: \\\\fdygitrunner\\ValidationTests\\LinslvPerfSer-XNSE_Solver2022May16_125132\n",
      "copied 50 files.\n",
      "   written file: control.obj\n",
      "   copied 'amd64' runtime.\n",
      "deployment finished.\n",
      "\n",
      " Submitting: BottiPietroStokes2D-J64_p3_pMultigrid\n",
      "Info: Found successful session \"LinslvPerfSer\tBottiPietroStokes2D-J64_p3_pMultigrid\t04/15/2022 11:24:20\tc75b273f...\" -- job is marked as successful, no further action.\n",
      "No submission, because job status is: FinishedSuccessful\n",
      " Submitting: BottiPietroStokes2D-J256_p3_pMultigrid\n",
      "Info: Found successful session \"LinslvPerfSer\tBottiPietroStokes2D-J256_p3_pMultigrid\t04/15/2022 11:26:28\t429c35b8...\" -- job is marked as successful, no further action.\n",
      "No submission, because job status is: FinishedSuccessful\n",
      " Submitting: BottiPietroStokes2D-J576_p3_pMultigrid\n",
      "Info: Found successful session \"LinslvPerfSer\tBottiPietroStokes2D-J576_p3_pMultigrid\t04/15/2022 11:28:33\tfcf8b78a...\" -- job is marked as successful, no further action.\n",
      "No submission, because job status is: FinishedSuccessful\n",
      " Submitting: BottiPietroStokes2D-J1024_p3_pMultigrid\n",
      "Info: Found successful session \"LinslvPerfSer\tBottiPietroStokes2D-J1024_p3_pMultigrid\t04/15/2022 11:30:35\tc264ec65...\" -- job is marked as successful, no further action.\n",
      "No submission, because job status is: FinishedSuccessful\n",
      " Submitting: BottiPietroStokes2D-J2304_p3_pMultigrid\n",
      "Info: Found successful session \"LinslvPerfSer\tBottiPietroStokes2D-J2304_p3_pMultigrid\t04/15/2022 11:32:39\t524a9e13...\" -- job is marked as successful, no further action.\n",
      "No submission, because job status is: FinishedSuccessful\n",
      " Submitting: BottiPietroStokes2D-J4096_p3_pMultigrid\n",
      "Info: Found successful session \"LinslvPerfSer\tBottiPietroStokes2D-J4096_p3_pMultigrid\t04/15/2022 11:34:42\tbcfe322d...\" -- job is marked as successful, no further action.\n",
      "No submission, because job status is: FinishedSuccessful\n",
      " Submitting: BottiPietroStokes2D-J16384_p3_pMultigrid\n",
      "Info: Found successful session \"LinslvPerfSer\tBottiPietroStokes2D-J16384_p3_pMultigrid\t04/15/2022 11:36:47\tf8e2ebdd...\" -- job is marked as successful, no further action.\n",
      "No submission, because job status is: FinishedSuccessful\n",
      " Submitting: BottiPietroStokes2D-J36864_p3_pMultigrid\n",
      "Deploying job BottiPietroStokes2D-J36864_p3_pMultigrid ... \n",
      "Deploying executables and additional files ...\n",
      "Deployment directory: \\\\fdygitrunner\\ValidationTests\\LinslvPerfSer-XNSE_Solver2022May16_125736\n",
      "copied 50 files.\n",
      "   written file: control.obj\n",
      "   copied 'amd64' runtime.\n",
      "deployment finished.\n",
      "\n",
      " Submitting: BottiPietroStokes2D-J65536_p3_pMultigrid\n",
      "Info: Found successful session \"LinslvPerfSer\tBottiPietroStokes2D-J65536_p3_pMultigrid\t04/15/2022 11:41:00\t49c171e1...\" -- job is marked as successful, no further action.\n",
      "No submission, because job status is: FinishedSuccessful\n",
      " Submitting: BottiPietroStokes2D-J64_p5_pMultigrid\n",
      "Info: Found successful session \"LinslvPerfSer\tBottiPietroStokes2D-J64_p5_pMultigrid\t04/15/2022 11:43:06\t7032c818...\" -- job is marked as successful, no further action.\n",
      "No submission, because job status is: FinishedSuccessful\n",
      " Submitting: BottiPietroStokes2D-J256_p5_pMultigrid\n",
      "Info: Found successful session \"LinslvPerfSer\tBottiPietroStokes2D-J256_p5_pMultigrid\t04/15/2022 11:45:13\t02ac66a0...\" -- job is marked as successful, no further action.\n",
      "No submission, because job status is: FinishedSuccessful\n",
      " Submitting: BottiPietroStokes2D-J576_p5_pMultigrid\n",
      "Info: Found successful session \"LinslvPerfSer\tBottiPietroStokes2D-J576_p5_pMultigrid\t04/15/2022 11:47:17\tf774a0e2...\" -- job is marked as successful, no further action.\n",
      "No submission, because job status is: FinishedSuccessful\n",
      " Submitting: BottiPietroStokes2D-J1024_p5_pMultigrid\n",
      "Info: Found successful session \"LinslvPerfSer\tBottiPietroStokes2D-J1024_p5_pMultigrid\t04/15/2022 11:49:20\t700d467c...\" -- job is marked as successful, no further action.\n",
      "No submission, because job status is: FinishedSuccessful\n",
      " Submitting: BottiPietroStokes2D-J2304_p5_pMultigrid\n",
      "Info: Found successful session \"LinslvPerfSer\tBottiPietroStokes2D-J2304_p5_pMultigrid\t04/15/2022 11:51:30\t6bf8f78c...\" -- job is marked as successful, no further action.\n",
      "No submission, because job status is: FinishedSuccessful\n",
      " Submitting: BottiPietroStokes2D-J4096_p5_pMultigrid\n",
      "Info: Found successful session \"LinslvPerfSer\tBottiPietroStokes2D-J4096_p5_pMultigrid\t04/15/2022 11:53:36\t2b592dd5...\" -- job is marked as successful, no further action.\n",
      "No submission, because job status is: FinishedSuccessful\n",
      " Submitting: BottiPietroStokes2D-J16384_p5_pMultigrid\n",
      "Deploying job BottiPietroStokes2D-J16384_p5_pMultigrid ... \n",
      "Deploying executables and additional files ...\n",
      "Deployment directory: \\\\fdygitrunner\\ValidationTests\\LinslvPerfSer-XNSE_Solver2022May16_130325\n",
      "copied 50 files.\n",
      "   written file: control.obj\n",
      "   copied 'amd64' runtime.\n",
      "deployment finished.\n",
      "\n",
      " Submitting: BottiPietroStokes2D-J36864_p5_pMultigrid\n",
      "Deploying job BottiPietroStokes2D-J36864_p5_pMultigrid ... \n",
      "Deploying executables and additional files ...\n",
      "Deployment directory: \\\\fdygitrunner\\ValidationTests\\LinslvPerfSer-XNSE_Solver2022May16_130524\n",
      "copied 50 files.\n",
      "   written file: control.obj\n",
      "   copied 'amd64' runtime.\n",
      "deployment finished.\n",
      "\n"
     ]
    }
   ],
   "source": [
    "foreach(var ctrl in controls) {\n",
    "    Console.WriteLine(\" Submitting: \" + ctrl.SessionName); \n",
    "    ctrl.RunBatch();\n",
    "}"
   ]
  },
  {
   "cell_type": "code",
   "execution_count": 28,
   "metadata": {},
   "outputs": [
    {
     "name": "stdout",
     "output_type": "stream",
     "text": [
      " ------------ MSHPC FailedOrCanceled; original Failed\r\n"
     ]
    },
    {
     "data": {
      "text/plain": [
       "#0: BottiPietroStokes2D-J64_p2_direct_pardiso: FinishedSuccessful (MS HPC client  MSHPC-AllNodes @DC2, @\\\\fdygitrunner\\ValidationTests)\tBottiPietroStokes2D-J64_p2_direct_pardiso: FinishedSuccessful (MS HPC client  MSHPC-AllNodes @DC2, @\\\\fdygitrunner\\ValidationTests)\r\n",
       "#1: BottiPietroStokes2D-J256_p2_direct_pardiso: FinishedSuccessful (MS HPC client  MSHPC-AllNodes @DC2, @\\\\fdygitrunner\\ValidationTests)\tBottiPietroStokes2D-J256_p2_direct_pardiso: FinishedSuccessful (MS HPC client  MSHPC-AllNodes @DC2, @\\\\fdygitrunner\\ValidationTests)\r\n",
       "#2: BottiPietroStokes2D-J576_p2_direct_pardiso: FinishedSuccessful (MS HPC client  MSHPC-AllNodes @DC2, @\\\\fdygitrunner\\ValidationTests)\tBottiPietroStokes2D-J576_p2_direct_pardiso: FinishedSuccessful (MS HPC client  MSHPC-AllNodes @DC2, @\\\\fdygitrunner\\ValidationTests)\r\n",
       "#3: BottiPietroStokes2D-J1024_p2_direct_pardiso: FinishedSuccessful (MS HPC client  MSHPC-AllNodes @DC2, @\\\\fdygitrunner\\ValidationTests)\tBottiPietroStokes2D-J1024_p2_direct_pardiso: FinishedSuccessful (MS HPC client  MSHPC-AllNodes @DC2, @\\\\fdygitrunner\\ValidationTests)\r\n",
       "#4: BottiPietroStokes2D-J2304_p2_direct_pardiso: FinishedSuccessful (MS HPC client  MSHPC-AllNodes @DC2, @\\\\fdygitrunner\\ValidationTests)\tBottiPietroStokes2D-J2304_p2_direct_pardiso: FinishedSuccessful (MS HPC client  MSHPC-AllNodes @DC2, @\\\\fdygitrunner\\ValidationTests)\r\n",
       "#5: BottiPietroStokes2D-J4096_p2_direct_pardiso: FinishedSuccessful (MS HPC client  MSHPC-AllNodes @DC2, @\\\\fdygitrunner\\ValidationTests)\tBottiPietroStokes2D-J4096_p2_direct_pardiso: FinishedSuccessful (MS HPC client  MSHPC-AllNodes @DC2, @\\\\fdygitrunner\\ValidationTests)\r\n",
       "#6: BottiPietroStokes2D-J16384_p2_direct_pardiso: FinishedSuccessful (MS HPC client  MSHPC-AllNodes @DC2, @\\\\fdygitrunner\\ValidationTests)\tBottiPietroStokes2D-J16384_p2_direct_pardiso: FinishedSuccessful (MS HPC client  MSHPC-AllNodes @DC2, @\\\\fdygitrunner\\ValidationTests)\r\n",
       "#7: BottiPietroStokes2D-J36864_p2_direct_pardiso: FinishedSuccessful (MS HPC client  MSHPC-AllNodes @DC2, @\\\\fdygitrunner\\ValidationTests)\tBottiPietroStokes2D-J36864_p2_direct_pardiso: FinishedSuccessful (MS HPC client  MSHPC-AllNodes @DC2, @\\\\fdygitrunner\\ValidationTests)\r\n",
       "#8: BottiPietroStokes2D-J65536_p2_direct_pardiso: FinishedSuccessful (MS HPC client  MSHPC-AllNodes @DC2, @\\\\fdygitrunner\\ValidationTests)\tBottiPietroStokes2D-J65536_p2_direct_pardiso: FinishedSuccessful (MS HPC client  MSHPC-AllNodes @DC2, @\\\\fdygitrunner\\ValidationTests)\r\n",
       "#9: BottiPietroStokes2D-J64_p3_direct_pardiso: FinishedSuccessful (MS HPC client  MSHPC-AllNodes @DC2, @\\\\fdygitrunner\\ValidationTests)\tBottiPietroStokes2D-J64_p3_direct_pardiso: FinishedSuccessful (MS HPC client  MSHPC-AllNodes @DC2, @\\\\fdygitrunner\\ValidationTests)\r\n",
       "#10: BottiPietroStokes2D-J256_p3_direct_pardiso: FinishedSuccessful (MS HPC client  MSHPC-AllNodes @DC2, @\\\\fdygitrunner\\ValidationTests)\tBottiPietroStokes2D-J256_p3_direct_pardiso: FinishedSuccessful (MS HPC client  MSHPC-AllNodes @DC2, @\\\\fdygitrunner\\ValidationTests)\r\n",
       "#11: BottiPietroStokes2D-J576_p3_direct_pardiso: FinishedSuccessful (MS HPC client  MSHPC-AllNodes @DC2, @\\\\fdygitrunner\\ValidationTests)\tBottiPietroStokes2D-J576_p3_direct_pardiso: FinishedSuccessful (MS HPC client  MSHPC-AllNodes @DC2, @\\\\fdygitrunner\\ValidationTests)\r\n",
       "#12: BottiPietroStokes2D-J1024_p3_direct_pardiso: FinishedSuccessful (MS HPC client  MSHPC-AllNodes @DC2, @\\\\fdygitrunner\\ValidationTests)\tBottiPietroStokes2D-J1024_p3_direct_pardiso: FinishedSuccessful (MS HPC client  MSHPC-AllNodes @DC2, @\\\\fdygitrunner\\ValidationTests)\r\n",
       "#13: BottiPietroStokes2D-J2304_p3_direct_pardiso: FinishedSuccessful (MS HPC client  MSHPC-AllNodes @DC2, @\\\\fdygitrunner\\ValidationTests)\tBottiPietroStokes2D-J2304_p3_direct_pardiso: FinishedSuccessful (MS HPC client  MSHPC-AllNodes @DC2, @\\\\fdygitrunner\\ValidationTests)\r\n",
       "#14: BottiPietroStokes2D-J4096_p3_direct_pardiso: FinishedSuccessful (MS HPC client  MSHPC-AllNodes @DC2, @\\\\fdygitrunner\\ValidationTests)\tBottiPietroStokes2D-J4096_p3_direct_pardiso: FinishedSuccessful (MS HPC client  MSHPC-AllNodes @DC2, @\\\\fdygitrunner\\ValidationTests)\r\n",
       "#15: BottiPietroStokes2D-J16384_p3_direct_pardiso: FinishedSuccessful (MS HPC client  MSHPC-AllNodes @DC2, @\\\\fdygitrunner\\ValidationTests)\tBottiPietroStokes2D-J16384_p3_direct_pardiso: FinishedSuccessful (MS HPC client  MSHPC-AllNodes @DC2, @\\\\fdygitrunner\\ValidationTests)\r\n",
       "#16: BottiPietroStokes2D-J36864_p3_direct_pardiso: FinishedSuccessful (MS HPC client  MSHPC-AllNodes @DC2, @\\\\fdygitrunner\\ValidationTests)\tBottiPietroStokes2D-J36864_p3_direct_pardiso: FinishedSuccessful (MS HPC client  MSHPC-AllNodes @DC2, @\\\\fdygitrunner\\ValidationTests)\r\n",
       "#17: BottiPietroStokes2D-J64_p5_direct_pardiso: FinishedSuccessful (MS HPC client  MSHPC-AllNodes @DC2, @\\\\fdygitrunner\\ValidationTests)\tBottiPietroStokes2D-J64_p5_direct_pardiso: FinishedSuccessful (MS HPC client  MSHPC-AllNodes @DC2, @\\\\fdygitrunner\\ValidationTests)\r\n",
       "#18: BottiPietroStokes2D-J256_p5_direct_pardiso: FinishedSuccessful (MS HPC client  MSHPC-AllNodes @DC2, @\\\\fdygitrunner\\ValidationTests)\tBottiPietroStokes2D-J256_p5_direct_pardiso: FinishedSuccessful (MS HPC client  MSHPC-AllNodes @DC2, @\\\\fdygitrunner\\ValidationTests)\r\n",
       "#19: BottiPietroStokes2D-J576_p5_direct_pardiso: FinishedSuccessful (MS HPC client  MSHPC-AllNodes @DC2, @\\\\fdygitrunner\\ValidationTests)\tBottiPietroStokes2D-J576_p5_direct_pardiso: FinishedSuccessful (MS HPC client  MSHPC-AllNodes @DC2, @\\\\fdygitrunner\\ValidationTests)\r\n",
       "#20: BottiPietroStokes2D-J1024_p5_direct_pardiso: FinishedSuccessful (MS HPC client  MSHPC-AllNodes @DC2, @\\\\fdygitrunner\\ValidationTests)\tBottiPietroStokes2D-J1024_p5_direct_pardiso: FinishedSuccessful (MS HPC client  MSHPC-AllNodes @DC2, @\\\\fdygitrunner\\ValidationTests)\r\n",
       "#21: BottiPietroStokes2D-J2304_p5_direct_pardiso: FinishedSuccessful (MS HPC client  MSHPC-AllNodes @DC2, @\\\\fdygitrunner\\ValidationTests)\tBottiPietroStokes2D-J2304_p5_direct_pardiso: FinishedSuccessful (MS HPC client  MSHPC-AllNodes @DC2, @\\\\fdygitrunner\\ValidationTests)\r\n",
       "#22: BottiPietroStokes2D-J4096_p5_direct_pardiso: FinishedSuccessful (MS HPC client  MSHPC-AllNodes @DC2, @\\\\fdygitrunner\\ValidationTests)\tBottiPietroStokes2D-J4096_p5_direct_pardiso: FinishedSuccessful (MS HPC client  MSHPC-AllNodes @DC2, @\\\\fdygitrunner\\ValidationTests)\r\n",
       "#23: BottiPietroStokes2D-J16384_p5_direct_pardiso: FinishedSuccessful (MS HPC client  MSHPC-AllNodes @DC2, @\\\\fdygitrunner\\ValidationTests)\tBottiPietroStokes2D-J16384_p5_direct_pardiso: FinishedSuccessful (MS HPC client  MSHPC-AllNodes @DC2, @\\\\fdygitrunner\\ValidationTests)\r\n",
       "#24: BottiPietroStokes2D-J64_p2_exp_gmres_levelpmg: FinishedSuccessful (MS HPC client  MSHPC-AllNodes @DC2, @\\\\fdygitrunner\\ValidationTests)\tBottiPietroStokes2D-J64_p2_exp_gmres_levelpmg: FinishedSuccessful (MS HPC client  MSHPC-AllNodes @DC2, @\\\\fdygitrunner\\ValidationTests)\r\n",
       "#25: BottiPietroStokes2D-J256_p2_exp_gmres_levelpmg: FinishedSuccessful (MS HPC client  MSHPC-AllNodes @DC2, @\\\\fdygitrunner\\ValidationTests)\tBottiPietroStokes2D-J256_p2_exp_gmres_levelpmg: FinishedSuccessful (MS HPC client  MSHPC-AllNodes @DC2, @\\\\fdygitrunner\\ValidationTests)\r\n",
       "#26: BottiPietroStokes2D-J576_p2_exp_gmres_levelpmg: FinishedSuccessful (MS HPC client  MSHPC-AllNodes @DC2, @\\\\fdygitrunner\\ValidationTests)\tBottiPietroStokes2D-J576_p2_exp_gmres_levelpmg: FinishedSuccessful (MS HPC client  MSHPC-AllNodes @DC2, @\\\\fdygitrunner\\ValidationTests)\r\n",
       "#27: BottiPietroStokes2D-J1024_p2_exp_gmres_levelpmg: FinishedSuccessful (MS HPC client  MSHPC-AllNodes @DC2, @\\\\fdygitrunner\\ValidationTests)\tBottiPietroStokes2D-J1024_p2_exp_gmres_levelpmg: FinishedSuccessful (MS HPC client  MSHPC-AllNodes @DC2, @\\\\fdygitrunner\\ValidationTests)\r\n",
       "#28: BottiPietroStokes2D-J2304_p2_exp_gmres_levelpmg: FinishedSuccessful (MS HPC client  MSHPC-AllNodes @DC2, @\\\\fdygitrunner\\ValidationTests)\tBottiPietroStokes2D-J2304_p2_exp_gmres_levelpmg: FinishedSuccessful (MS HPC client  MSHPC-AllNodes @DC2, @\\\\fdygitrunner\\ValidationTests)\r\n",
       "#29: BottiPietroStokes2D-J4096_p2_exp_gmres_levelpmg: FinishedSuccessful (MS HPC client  MSHPC-AllNodes @DC2, @\\\\fdygitrunner\\ValidationTests)\tBottiPietroStokes2D-J4096_p2_exp_gmres_levelpmg: FinishedSuccessful (MS HPC client  MSHPC-AllNodes @DC2, @\\\\fdygitrunner\\ValidationTests)\r\n",
       "#30: BottiPietroStokes2D-J16384_p2_exp_gmres_levelpmg: FinishedSuccessful (MS HPC client  MSHPC-AllNodes @DC2, @\\\\fdygitrunner\\ValidationTests)\tBottiPietroStokes2D-J16384_p2_exp_gmres_levelpmg: FinishedSuccessful (MS HPC client  MSHPC-AllNodes @DC2, @\\\\fdygitrunner\\ValidationTests)\r\n",
       "#31: BottiPietroStokes2D-J36864_p2_exp_gmres_levelpmg: FinishedSuccessful (MS HPC client  MSHPC-AllNodes @DC2, @\\\\fdygitrunner\\ValidationTests)\tBottiPietroStokes2D-J36864_p2_exp_gmres_levelpmg: FinishedSuccessful (MS HPC client  MSHPC-AllNodes @DC2, @\\\\fdygitrunner\\ValidationTests)\r\n",
       "#32: BottiPietroStokes2D-J65536_p2_exp_gmres_levelpmg: FinishedSuccessful (MS HPC client  MSHPC-AllNodes @DC2, @\\\\fdygitrunner\\ValidationTests)\tBottiPietroStokes2D-J65536_p2_exp_gmres_levelpmg: FinishedSuccessful (MS HPC client  MSHPC-AllNodes @DC2, @\\\\fdygitrunner\\ValidationTests)\r\n",
       "#33: BottiPietroStokes2D-J147456_p2_exp_gmres_levelpmg: FinishedSuccessful (MS HPC client  MSHPC-AllNodes @DC2, @\\\\fdygitrunner\\ValidationTests)\tBottiPietroStokes2D-J147456_p2_exp_gmres_levelpmg: FinishedSuccessful (MS HPC client  MSHPC-AllNodes @DC2, @\\\\fdygitrunner\\ValidationTests)\r\n",
       "#34: BottiPietroStokes2D-J64_p3_exp_gmres_levelpmg: FinishedSuccessful (MS HPC client  MSHPC-AllNodes @DC2, @\\\\fdygitrunner\\ValidationTests)\tBottiPietroStokes2D-J64_p3_exp_gmres_levelpmg: FinishedSuccessful (MS HPC client  MSHPC-AllNodes @DC2, @\\\\fdygitrunner\\ValidationTests)\r\n",
       "#35: BottiPietroStokes2D-J256_p3_exp_gmres_levelpmg: FinishedSuccessful (MS HPC client  MSHPC-AllNodes @DC2, @\\\\fdygitrunner\\ValidationTests)\tBottiPietroStokes2D-J256_p3_exp_gmres_levelpmg: FinishedSuccessful (MS HPC client  MSHPC-AllNodes @DC2, @\\\\fdygitrunner\\ValidationTests)\r\n",
       "#36: BottiPietroStokes2D-J576_p3_exp_gmres_levelpmg: FinishedSuccessful (MS HPC client  MSHPC-AllNodes @DC2, @\\\\fdygitrunner\\ValidationTests)\tBottiPietroStokes2D-J576_p3_exp_gmres_levelpmg: FinishedSuccessful (MS HPC client  MSHPC-AllNodes @DC2, @\\\\fdygitrunner\\ValidationTests)\r\n",
       "#37: BottiPietroStokes2D-J1024_p3_exp_gmres_levelpmg: FinishedSuccessful (MS HPC client  MSHPC-AllNodes @DC2, @\\\\fdygitrunner\\ValidationTests)\tBottiPietroStokes2D-J1024_p3_exp_gmres_levelpmg: FinishedSuccessful (MS HPC client  MSHPC-AllNodes @DC2, @\\\\fdygitrunner\\ValidationTests)\r\n",
       "#38: BottiPietroStokes2D-J2304_p3_exp_gmres_levelpmg: FinishedSuccessful (MS HPC client  MSHPC-AllNodes @DC2, @\\\\fdygitrunner\\ValidationTests)\tBottiPietroStokes2D-J2304_p3_exp_gmres_levelpmg: FinishedSuccessful (MS HPC client  MSHPC-AllNodes @DC2, @\\\\fdygitrunner\\ValidationTests)\r\n",
       "#39: BottiPietroStokes2D-J4096_p3_exp_gmres_levelpmg: FinishedSuccessful (MS HPC client  MSHPC-AllNodes @DC2, @\\\\fdygitrunner\\ValidationTests)\tBottiPietroStokes2D-J4096_p3_exp_gmres_levelpmg: FinishedSuccessful (MS HPC client  MSHPC-AllNodes @DC2, @\\\\fdygitrunner\\ValidationTests)\r\n",
       "#40: BottiPietroStokes2D-J16384_p3_exp_gmres_levelpmg: FinishedSuccessful (MS HPC client  MSHPC-AllNodes @DC2, @\\\\fdygitrunner\\ValidationTests)\tBottiPietroStokes2D-J16384_p3_exp_gmres_levelpmg: FinishedSuccessful (MS HPC client  MSHPC-AllNodes @DC2, @\\\\fdygitrunner\\ValidationTests)\r\n",
       "#41: BottiPietroStokes2D-J36864_p3_exp_gmres_levelpmg: FinishedSuccessful (MS HPC client  MSHPC-AllNodes @DC2, @\\\\fdygitrunner\\ValidationTests)\tBottiPietroStokes2D-J36864_p3_exp_gmres_levelpmg: FinishedSuccessful (MS HPC client  MSHPC-AllNodes @DC2, @\\\\fdygitrunner\\ValidationTests)\r\n",
       "#42: BottiPietroStokes2D-J65536_p3_exp_gmres_levelpmg: FinishedSuccessful (MS HPC client  MSHPC-AllNodes @DC2, @\\\\fdygitrunner\\ValidationTests)\tBottiPietroStokes2D-J65536_p3_exp_gmres_levelpmg: FinishedSuccessful (MS HPC client  MSHPC-AllNodes @DC2, @\\\\fdygitrunner\\ValidationTests)\r\n",
       "#43: BottiPietroStokes2D-J64_p5_exp_gmres_levelpmg: FinishedSuccessful (MS HPC client  MSHPC-AllNodes @DC2, @\\\\fdygitrunner\\ValidationTests)\tBottiPietroStokes2D-J64_p5_exp_gmres_levelpmg: FinishedSuccessful (MS HPC client  MSHPC-AllNodes @DC2, @\\\\fdygitrunner\\ValidationTests)\r\n",
       "#44: BottiPietroStokes2D-J256_p5_exp_gmres_levelpmg: FinishedSuccessful (MS HPC client  MSHPC-AllNodes @DC2, @\\\\fdygitrunner\\ValidationTests)\tBottiPietroStokes2D-J256_p5_exp_gmres_levelpmg: FinishedSuccessful (MS HPC client  MSHPC-AllNodes @DC2, @\\\\fdygitrunner\\ValidationTests)\r\n",
       "#45: BottiPietroStokes2D-J576_p5_exp_gmres_levelpmg: FinishedSuccessful (MS HPC client  MSHPC-AllNodes @DC2, @\\\\fdygitrunner\\ValidationTests)\tBottiPietroStokes2D-J576_p5_exp_gmres_levelpmg: FinishedSuccessful (MS HPC client  MSHPC-AllNodes @DC2, @\\\\fdygitrunner\\ValidationTests)\r\n",
       "#46: BottiPietroStokes2D-J1024_p5_exp_gmres_levelpmg: FinishedSuccessful (MS HPC client  MSHPC-AllNodes @DC2, @\\\\fdygitrunner\\ValidationTests)\tBottiPietroStokes2D-J1024_p5_exp_gmres_levelpmg: FinishedSuccessful (MS HPC client  MSHPC-AllNodes @DC2, @\\\\fdygitrunner\\ValidationTests)\r\n",
       "#47: BottiPietroStokes2D-J2304_p5_exp_gmres_levelpmg: FinishedSuccessful (MS HPC client  MSHPC-AllNodes @DC2, @\\\\fdygitrunner\\ValidationTests)\tBottiPietroStokes2D-J2304_p5_exp_gmres_levelpmg: FinishedSuccessful (MS HPC client  MSHPC-AllNodes @DC2, @\\\\fdygitrunner\\ValidationTests)\r\n",
       "#48: BottiPietroStokes2D-J4096_p5_exp_gmres_levelpmg: FinishedSuccessful (MS HPC client  MSHPC-AllNodes @DC2, @\\\\fdygitrunner\\ValidationTests)\tBottiPietroStokes2D-J4096_p5_exp_gmres_levelpmg: FinishedSuccessful (MS HPC client  MSHPC-AllNodes @DC2, @\\\\fdygitrunner\\ValidationTests)\r\n",
       "#49: BottiPietroStokes2D-J16384_p5_exp_gmres_levelpmg: FinishedSuccessful (MS HPC client  MSHPC-AllNodes @DC2, @\\\\fdygitrunner\\ValidationTests)\tBottiPietroStokes2D-J16384_p5_exp_gmres_levelpmg: FinishedSuccessful (MS HPC client  MSHPC-AllNodes @DC2, @\\\\fdygitrunner\\ValidationTests)\r\n",
       "#50: BottiPietroStokes2D-J36864_p5_exp_gmres_levelpmg: FinishedSuccessful (MS HPC client  MSHPC-AllNodes @DC2, @\\\\fdygitrunner\\ValidationTests)\tBottiPietroStokes2D-J36864_p5_exp_gmres_levelpmg: FinishedSuccessful (MS HPC client  MSHPC-AllNodes @DC2, @\\\\fdygitrunner\\ValidationTests)\r\n",
       "#51: BottiPietroStokes2D-J64_p2_exp_Kcycle_schwarz: FinishedSuccessful (MS HPC client  MSHPC-AllNodes @DC2, @\\\\fdygitrunner\\ValidationTests)\tBottiPietroStokes2D-J64_p2_exp_Kcycle_schwarz: FinishedSuccessful (MS HPC client  MSHPC-AllNodes @DC2, @\\\\fdygitrunner\\ValidationTests)\r\n",
       "#52: BottiPietroStokes2D-J256_p2_exp_Kcycle_schwarz: FinishedSuccessful (MS HPC client  MSHPC-AllNodes @DC2, @\\\\fdygitrunner\\ValidationTests)\tBottiPietroStokes2D-J256_p2_exp_Kcycle_schwarz: FinishedSuccessful (MS HPC client  MSHPC-AllNodes @DC2, @\\\\fdygitrunner\\ValidationTests)\r\n",
       "#53: BottiPietroStokes2D-J576_p2_exp_Kcycle_schwarz: FinishedSuccessful (MS HPC client  MSHPC-AllNodes @DC2, @\\\\fdygitrunner\\ValidationTests)\tBottiPietroStokes2D-J576_p2_exp_Kcycle_schwarz: FinishedSuccessful (MS HPC client  MSHPC-AllNodes @DC2, @\\\\fdygitrunner\\ValidationTests)\r\n",
       "#54: BottiPietroStokes2D-J1024_p2_exp_Kcycle_schwarz: FinishedSuccessful (MS HPC client  MSHPC-AllNodes @DC2, @\\\\fdygitrunner\\ValidationTests)\tBottiPietroStokes2D-J1024_p2_exp_Kcycle_schwarz: FinishedSuccessful (MS HPC client  MSHPC-AllNodes @DC2, @\\\\fdygitrunner\\ValidationTests)\r\n",
       "#55: BottiPietroStokes2D-J2304_p2_exp_Kcycle_schwarz: FinishedSuccessful (MS HPC client  MSHPC-AllNodes @DC2, @\\\\fdygitrunner\\ValidationTests)\tBottiPietroStokes2D-J2304_p2_exp_Kcycle_schwarz: FinishedSuccessful (MS HPC client  MSHPC-AllNodes @DC2, @\\\\fdygitrunner\\ValidationTests)\r\n",
       "#56: BottiPietroStokes2D-J4096_p2_exp_Kcycle_schwarz: FinishedSuccessful (MS HPC client  MSHPC-AllNodes @DC2, @\\\\fdygitrunner\\ValidationTests)\tBottiPietroStokes2D-J4096_p2_exp_Kcycle_schwarz: FinishedSuccessful (MS HPC client  MSHPC-AllNodes @DC2, @\\\\fdygitrunner\\ValidationTests)\r\n",
       "#57: BottiPietroStokes2D-J16384_p2_exp_Kcycle_schwarz: FinishedSuccessful (MS HPC client  MSHPC-AllNodes @DC2, @\\\\fdygitrunner\\ValidationTests)\tBottiPietroStokes2D-J16384_p2_exp_Kcycle_schwarz: FinishedSuccessful (MS HPC client  MSHPC-AllNodes @DC2, @\\\\fdygitrunner\\ValidationTests)\r\n",
       "#58: BottiPietroStokes2D-J36864_p2_exp_Kcycle_schwarz: FinishedSuccessful (MS HPC client  MSHPC-AllNodes @DC2, @\\\\fdygitrunner\\ValidationTests)\tBottiPietroStokes2D-J36864_p2_exp_Kcycle_schwarz: FinishedSuccessful (MS HPC client  MSHPC-AllNodes @DC2, @\\\\fdygitrunner\\ValidationTests)\r\n",
       "#59: BottiPietroStokes2D-J65536_p2_exp_Kcycle_schwarz: FinishedSuccessful (MS HPC client  MSHPC-AllNodes @DC2, @\\\\fdygitrunner\\ValidationTests)\tBottiPietroStokes2D-J65536_p2_exp_Kcycle_schwarz: FinishedSuccessful (MS HPC client  MSHPC-AllNodes @DC2, @\\\\fdygitrunner\\ValidationTests)\r\n",
       "#60: BottiPietroStokes2D-J147456_p2_exp_Kcycle_schwarz: FinishedSuccessful (MS HPC client  MSHPC-AllNodes @DC2, @\\\\fdygitrunner\\ValidationTests)\tBottiPietroStokes2D-J147456_p2_exp_Kcycle_schwarz: FinishedSuccessful (MS HPC client  MSHPC-AllNodes @DC2, @\\\\fdygitrunner\\ValidationTests)\r\n",
       "#61: BottiPietroStokes2D-J64_p3_exp_Kcycle_schwarz: FinishedSuccessful (MS HPC client  MSHPC-AllNodes @DC2, @\\\\fdygitrunner\\ValidationTests)\tBottiPietroStokes2D-J64_p3_exp_Kcycle_schwarz: FinishedSuccessful (MS HPC client  MSHPC-AllNodes @DC2, @\\\\fdygitrunner\\ValidationTests)\r\n",
       "#62: BottiPietroStokes2D-J256_p3_exp_Kcycle_schwarz: FinishedSuccessful (MS HPC client  MSHPC-AllNodes @DC2, @\\\\fdygitrunner\\ValidationTests)\tBottiPietroStokes2D-J256_p3_exp_Kcycle_schwarz: FinishedSuccessful (MS HPC client  MSHPC-AllNodes @DC2, @\\\\fdygitrunner\\ValidationTests)\r\n",
       "#63: BottiPietroStokes2D-J576_p3_exp_Kcycle_schwarz: FinishedSuccessful (MS HPC client  MSHPC-AllNodes @DC2, @\\\\fdygitrunner\\ValidationTests)\tBottiPietroStokes2D-J576_p3_exp_Kcycle_schwarz: FinishedSuccessful (MS HPC client  MSHPC-AllNodes @DC2, @\\\\fdygitrunner\\ValidationTests)\r\n",
       "#64: BottiPietroStokes2D-J1024_p3_exp_Kcycle_schwarz: FinishedSuccessful (MS HPC client  MSHPC-AllNodes @DC2, @\\\\fdygitrunner\\ValidationTests)\tBottiPietroStokes2D-J1024_p3_exp_Kcycle_schwarz: FinishedSuccessful (MS HPC client  MSHPC-AllNodes @DC2, @\\\\fdygitrunner\\ValidationTests)\r\n",
       "#65: BottiPietroStokes2D-J2304_p3_exp_Kcycle_schwarz: FinishedSuccessful (MS HPC client  MSHPC-AllNodes @DC2, @\\\\fdygitrunner\\ValidationTests)\tBottiPietroStokes2D-J2304_p3_exp_Kcycle_schwarz: FinishedSuccessful (MS HPC client  MSHPC-AllNodes @DC2, @\\\\fdygitrunner\\ValidationTests)\r\n",
       "#66: BottiPietroStokes2D-J4096_p3_exp_Kcycle_schwarz: FinishedSuccessful (MS HPC client  MSHPC-AllNodes @DC2, @\\\\fdygitrunner\\ValidationTests)\tBottiPietroStokes2D-J4096_p3_exp_Kcycle_schwarz: FinishedSuccessful (MS HPC client  MSHPC-AllNodes @DC2, @\\\\fdygitrunner\\ValidationTests)\r\n",
       "#67: BottiPietroStokes2D-J16384_p3_exp_Kcycle_schwarz: FinishedSuccessful (MS HPC client  MSHPC-AllNodes @DC2, @\\\\fdygitrunner\\ValidationTests)\tBottiPietroStokes2D-J16384_p3_exp_Kcycle_schwarz: FinishedSuccessful (MS HPC client  MSHPC-AllNodes @DC2, @\\\\fdygitrunner\\ValidationTests)\r\n",
       "#68: BottiPietroStokes2D-J36864_p3_exp_Kcycle_schwarz: FinishedSuccessful (MS HPC client  MSHPC-AllNodes @DC2, @\\\\fdygitrunner\\ValidationTests)\tBottiPietroStokes2D-J36864_p3_exp_Kcycle_schwarz: FinishedSuccessful (MS HPC client  MSHPC-AllNodes @DC2, @\\\\fdygitrunner\\ValidationTests)\r\n",
       "#69: BottiPietroStokes2D-J65536_p3_exp_Kcycle_schwarz: FinishedSuccessful (MS HPC client  MSHPC-AllNodes @DC2, @\\\\fdygitrunner\\ValidationTests)\tBottiPietroStokes2D-J65536_p3_exp_Kcycle_schwarz: FinishedSuccessful (MS HPC client  MSHPC-AllNodes @DC2, @\\\\fdygitrunner\\ValidationTests)\r\n",
       "#70: BottiPietroStokes2D-J64_p5_exp_Kcycle_schwarz: FinishedSuccessful (MS HPC client  MSHPC-AllNodes @DC2, @\\\\fdygitrunner\\ValidationTests)\tBottiPietroStokes2D-J64_p5_exp_Kcycle_schwarz: FinishedSuccessful (MS HPC client  MSHPC-AllNodes @DC2, @\\\\fdygitrunner\\ValidationTests)\r\n",
       "#71: BottiPietroStokes2D-J256_p5_exp_Kcycle_schwarz: FinishedSuccessful (MS HPC client  MSHPC-AllNodes @DC2, @\\\\fdygitrunner\\ValidationTests)\tBottiPietroStokes2D-J256_p5_exp_Kcycle_schwarz: FinishedSuccessful (MS HPC client  MSHPC-AllNodes @DC2, @\\\\fdygitrunner\\ValidationTests)\r\n",
       "#72: BottiPietroStokes2D-J576_p5_exp_Kcycle_schwarz: FinishedSuccessful (MS HPC client  MSHPC-AllNodes @DC2, @\\\\fdygitrunner\\ValidationTests)\tBottiPietroStokes2D-J576_p5_exp_Kcycle_schwarz: FinishedSuccessful (MS HPC client  MSHPC-AllNodes @DC2, @\\\\fdygitrunner\\ValidationTests)\r\n",
       "#73: BottiPietroStokes2D-J1024_p5_exp_Kcycle_schwarz: FinishedSuccessful (MS HPC client  MSHPC-AllNodes @DC2, @\\\\fdygitrunner\\ValidationTests)\tBottiPietroStokes2D-J1024_p5_exp_Kcycle_schwarz: FinishedSuccessful (MS HPC client  MSHPC-AllNodes @DC2, @\\\\fdygitrunner\\ValidationTests)\r\n",
       "#74: BottiPietroStokes2D-J2304_p5_exp_Kcycle_schwarz: FinishedSuccessful (MS HPC client  MSHPC-AllNodes @DC2, @\\\\fdygitrunner\\ValidationTests)\tBottiPietroStokes2D-J2304_p5_exp_Kcycle_schwarz: FinishedSuccessful (MS HPC client  MSHPC-AllNodes @DC2, @\\\\fdygitrunner\\ValidationTests)\r\n",
       "#75: BottiPietroStokes2D-J4096_p5_exp_Kcycle_schwarz: FinishedSuccessful (MS HPC client  MSHPC-AllNodes @DC2, @\\\\fdygitrunner\\ValidationTests)\tBottiPietroStokes2D-J4096_p5_exp_Kcycle_schwarz: FinishedSuccessful (MS HPC client  MSHPC-AllNodes @DC2, @\\\\fdygitrunner\\ValidationTests)\r\n",
       "#76: BottiPietroStokes2D-J16384_p5_exp_Kcycle_schwarz: FinishedSuccessful (MS HPC client  MSHPC-AllNodes @DC2, @\\\\fdygitrunner\\ValidationTests)\tBottiPietroStokes2D-J16384_p5_exp_Kcycle_schwarz: FinishedSuccessful (MS HPC client  MSHPC-AllNodes @DC2, @\\\\fdygitrunner\\ValidationTests)\r\n",
       "#77: BottiPietroStokes2D-J36864_p5_exp_Kcycle_schwarz: FinishedSuccessful (MS HPC client  MSHPC-AllNodes @DC2, @\\\\fdygitrunner\\ValidationTests)\tBottiPietroStokes2D-J36864_p5_exp_Kcycle_schwarz: FinishedSuccessful (MS HPC client  MSHPC-AllNodes @DC2, @\\\\fdygitrunner\\ValidationTests)\r\n",
       "#78: BottiPietroStokes2D-J64_p2_pMultigrid: FinishedSuccessful (MS HPC client  MSHPC-AllNodes @DC2, @\\\\fdygitrunner\\ValidationTests)\tBottiPietroStokes2D-J64_p2_pMultigrid: FinishedSuccessful (MS HPC client  MSHPC-AllNodes @DC2, @\\\\fdygitrunner\\ValidationTests)\r\n",
       "#79: BottiPietroStokes2D-J256_p2_pMultigrid: FinishedSuccessful (MS HPC client  MSHPC-AllNodes @DC2, @\\\\fdygitrunner\\ValidationTests)\tBottiPietroStokes2D-J256_p2_pMultigrid: FinishedSuccessful (MS HPC client  MSHPC-AllNodes @DC2, @\\\\fdygitrunner\\ValidationTests)\r\n",
       "#80: BottiPietroStokes2D-J576_p2_pMultigrid: FinishedSuccessful (MS HPC client  MSHPC-AllNodes @DC2, @\\\\fdygitrunner\\ValidationTests)\tBottiPietroStokes2D-J576_p2_pMultigrid: FinishedSuccessful (MS HPC client  MSHPC-AllNodes @DC2, @\\\\fdygitrunner\\ValidationTests)\r\n",
       "#81: BottiPietroStokes2D-J1024_p2_pMultigrid: FinishedSuccessful (MS HPC client  MSHPC-AllNodes @DC2, @\\\\fdygitrunner\\ValidationTests)\tBottiPietroStokes2D-J1024_p2_pMultigrid: FinishedSuccessful (MS HPC client  MSHPC-AllNodes @DC2, @\\\\fdygitrunner\\ValidationTests)\r\n",
       "#82: BottiPietroStokes2D-J2304_p2_pMultigrid: Unknown (MS HPC client  MSHPC-AllNodes @DC2, @\\\\fdygitrunner\\ValidationTests)\tBottiPietroStokes2D-J2304_p2_pMultigrid: Unknown (MS HPC client  MSHPC-AllNodes @DC2, @\\\\fdygitrunner\\ValidationTests)\r\n",
       "#83: BottiPietroStokes2D-J4096_p2_pMultigrid: FinishedSuccessful (MS HPC client  MSHPC-AllNodes @DC2, @\\\\fdygitrunner\\ValidationTests)\tBottiPietroStokes2D-J4096_p2_pMultigrid: FinishedSuccessful (MS HPC client  MSHPC-AllNodes @DC2, @\\\\fdygitrunner\\ValidationTests)\r\n",
       "#84: BottiPietroStokes2D-J16384_p2_pMultigrid: InProgress (MS HPC client  MSHPC-AllNodes @DC2, @\\\\fdygitrunner\\ValidationTests)\tBottiPietroStokes2D-J16384_p2_pMultigrid: InProgress (MS HPC client  MSHPC-AllNodes @DC2, @\\\\fdygitrunner\\ValidationTests)\r\n",
       "#85: BottiPietroStokes2D-J36864_p2_pMultigrid: InProgress (MS HPC client  MSHPC-AllNodes @DC2, @\\\\fdygitrunner\\ValidationTests)\tBottiPietroStokes2D-J36864_p2_pMultigrid: InProgress (MS HPC client  MSHPC-AllNodes @DC2, @\\\\fdygitrunner\\ValidationTests)\r\n",
       "#86: BottiPietroStokes2D-J65536_p2_pMultigrid: InProgress (MS HPC client  MSHPC-AllNodes @DC2, @\\\\fdygitrunner\\ValidationTests)\tBottiPietroStokes2D-J65536_p2_pMultigrid: InProgress (MS HPC client  MSHPC-AllNodes @DC2, @\\\\fdygitrunner\\ValidationTests)\r\n",
       "#87: BottiPietroStokes2D-J147456_p2_pMultigrid: InProgress (MS HPC client  MSHPC-AllNodes @DC2, @\\\\fdygitrunner\\ValidationTests)\tBottiPietroStokes2D-J147456_p2_pMultigrid: InProgress (MS HPC client  MSHPC-AllNodes @DC2, @\\\\fdygitrunner\\ValidationTests)\r\n",
       "#88: BottiPietroStokes2D-J64_p3_pMultigrid: FinishedSuccessful (MS HPC client  MSHPC-AllNodes @DC2, @\\\\fdygitrunner\\ValidationTests)\tBottiPietroStokes2D-J64_p3_pMultigrid: FinishedSuccessful (MS HPC client  MSHPC-AllNodes @DC2, @\\\\fdygitrunner\\ValidationTests)\r\n",
       "#89: BottiPietroStokes2D-J256_p3_pMultigrid: FinishedSuccessful (MS HPC client  MSHPC-AllNodes @DC2, @\\\\fdygitrunner\\ValidationTests)\tBottiPietroStokes2D-J256_p3_pMultigrid: FinishedSuccessful (MS HPC client  MSHPC-AllNodes @DC2, @\\\\fdygitrunner\\ValidationTests)\r\n",
       "#90: BottiPietroStokes2D-J576_p3_pMultigrid: FinishedSuccessful (MS HPC client  MSHPC-AllNodes @DC2, @\\\\fdygitrunner\\ValidationTests)\tBottiPietroStokes2D-J576_p3_pMultigrid: FinishedSuccessful (MS HPC client  MSHPC-AllNodes @DC2, @\\\\fdygitrunner\\ValidationTests)\r\n",
       "#91: BottiPietroStokes2D-J1024_p3_pMultigrid: FinishedSuccessful (MS HPC client  MSHPC-AllNodes @DC2, @\\\\fdygitrunner\\ValidationTests)\tBottiPietroStokes2D-J1024_p3_pMultigrid: FinishedSuccessful (MS HPC client  MSHPC-AllNodes @DC2, @\\\\fdygitrunner\\ValidationTests)\r\n",
       "#92: BottiPietroStokes2D-J2304_p3_pMultigrid: FinishedSuccessful (MS HPC client  MSHPC-AllNodes @DC2, @\\\\fdygitrunner\\ValidationTests)\tBottiPietroStokes2D-J2304_p3_pMultigrid: FinishedSuccessful (MS HPC client  MSHPC-AllNodes @DC2, @\\\\fdygitrunner\\ValidationTests)\r\n",
       "#93: BottiPietroStokes2D-J4096_p3_pMultigrid: FinishedSuccessful (MS HPC client  MSHPC-AllNodes @DC2, @\\\\fdygitrunner\\ValidationTests)\tBottiPietroStokes2D-J4096_p3_pMultigrid: FinishedSuccessful (MS HPC client  MSHPC-AllNodes @DC2, @\\\\fdygitrunner\\ValidationTests)\r\n",
       "#94: BottiPietroStokes2D-J16384_p3_pMultigrid: FinishedSuccessful (MS HPC client  MSHPC-AllNodes @DC2, @\\\\fdygitrunner\\ValidationTests)\tBottiPietroStokes2D-J16384_p3_pMultigrid: FinishedSuccessful (MS HPC client  MSHPC-AllNodes @DC2, @\\\\fdygitrunner\\ValidationTests)\r\n",
       "#95: BottiPietroStokes2D-J36864_p3_pMultigrid: InProgress (MS HPC client  MSHPC-AllNodes @DC2, @\\\\fdygitrunner\\ValidationTests)\tBottiPietroStokes2D-J36864_p3_pMultigrid: InProgress (MS HPC client  MSHPC-AllNodes @DC2, @\\\\fdygitrunner\\ValidationTests)\r\n",
       "#96: BottiPietroStokes2D-J65536_p3_pMultigrid: FinishedSuccessful (MS HPC client  MSHPC-AllNodes @DC2, @\\\\fdygitrunner\\ValidationTests)\tBottiPietroStokes2D-J65536_p3_pMultigrid: FinishedSuccessful (MS HPC client  MSHPC-AllNodes @DC2, @\\\\fdygitrunner\\ValidationTests)\r\n",
       "#97: BottiPietroStokes2D-J64_p5_pMultigrid: FinishedSuccessful (MS HPC client  MSHPC-AllNodes @DC2, @\\\\fdygitrunner\\ValidationTests)\tBottiPietroStokes2D-J64_p5_pMultigrid: FinishedSuccessful (MS HPC client  MSHPC-AllNodes @DC2, @\\\\fdygitrunner\\ValidationTests)\r\n",
       "#98: BottiPietroStokes2D-J256_p5_pMultigrid: FinishedSuccessful (MS HPC client  MSHPC-AllNodes @DC2, @\\\\fdygitrunner\\ValidationTests)\tBottiPietroStokes2D-J256_p5_pMultigrid: FinishedSuccessful (MS HPC client  MSHPC-AllNodes @DC2, @\\\\fdygitrunner\\ValidationTests)\r\n",
       "#99: BottiPietroStokes2D-J576_p5_pMultigrid: FinishedSuccessful (MS HPC client  MSHPC-AllNodes @DC2, @\\\\fdygitrunner\\ValidationTests)\tBottiPietroStokes2D-J576_p5_pMultigrid: FinishedSuccessful (MS HPC client  MSHPC-AllNodes @DC2, @\\\\fdygitrunner\\ValidationTests)\r\n",
       "#100: BottiPietroStokes2D-J1024_p5_pMultigrid: FinishedSuccessful (MS HPC client  MSHPC-AllNodes @DC2, @\\\\fdygitrunner\\ValidationTests)\tBottiPietroStokes2D-J1024_p5_pMultigrid: FinishedSuccessful (MS HPC client  MSHPC-AllNodes @DC2, @\\\\fdygitrunner\\ValidationTests)\r\n",
       "#101: BottiPietroStokes2D-J2304_p5_pMultigrid: FinishedSuccessful (MS HPC client  MSHPC-AllNodes @DC2, @\\\\fdygitrunner\\ValidationTests)\tBottiPietroStokes2D-J2304_p5_pMultigrid: FinishedSuccessful (MS HPC client  MSHPC-AllNodes @DC2, @\\\\fdygitrunner\\ValidationTests)\r\n",
       "#102: BottiPietroStokes2D-J4096_p5_pMultigrid: FinishedSuccessful (MS HPC client  MSHPC-AllNodes @DC2, @\\\\fdygitrunner\\ValidationTests)\tBottiPietroStokes2D-J4096_p5_pMultigrid: FinishedSuccessful (MS HPC client  MSHPC-AllNodes @DC2, @\\\\fdygitrunner\\ValidationTests)\r\n",
       "#103: BottiPietroStokes2D-J16384_p5_pMultigrid: InProgress (MS HPC client  MSHPC-AllNodes @DC2, @\\\\fdygitrunner\\ValidationTests)\tBottiPietroStokes2D-J16384_p5_pMultigrid: InProgress (MS HPC client  MSHPC-AllNodes @DC2, @\\\\fdygitrunner\\ValidationTests)\r\n",
       "#104: BottiPietroStokes2D-J36864_p5_pMultigrid: InProgress (MS HPC client  MSHPC-AllNodes @DC2, @\\\\fdygitrunner\\ValidationTests)\tBottiPietroStokes2D-J36864_p5_pMultigrid: InProgress (MS HPC client  MSHPC-AllNodes @DC2, @\\\\fdygitrunner\\ValidationTests)\r\n"
      ]
     },
     "execution_count": 28,
     "metadata": {},
     "output_type": "execute_result"
    }
   ],
   "source": [
    "wmg.AllJobs"
   ]
  },
  {
   "cell_type": "markdown",
   "metadata": {},
   "source": [
    "### Wait for Completion and Check Job Status"
   ]
  },
  {
   "cell_type": "code",
   "execution_count": null,
   "metadata": {},
   "outputs": [],
   "source": [
    "wmg.BlockUntilAllJobsTerminate(3600*24*2); // wait at maximum two days for the jobs to finish"
   ]
  },
  {
   "cell_type": "code",
   "execution_count": null,
   "metadata": {},
   "outputs": [],
   "source": [
    "wmg.AllJobs"
   ]
  },
  {
   "cell_type": "code",
   "execution_count": null,
   "metadata": {},
   "outputs": [],
   "source": [
    "wmg.Sessions"
   ]
  },
  {
   "cell_type": "code",
   "execution_count": null,
   "metadata": {},
   "outputs": [],
   "source": [
    "var NoSuccess = controls.Select(ctrl => ctrl.GetJob()).Where(job => job.Status != JobStatus.FinishedSuccessful).ToArray();\n",
    "NoSuccess"
   ]
  },
  {
   "cell_type": "code",
   "execution_count": null,
   "metadata": {},
   "outputs": [],
   "source": [
    "// In the case of some failed job, print the directory name for further inspection:\n",
    "foreach(var fail in NoSuccess) {\n",
    "    Console.WriteLine(fail + \":  @\" + fail.LatestDeployment.DeploymentDirectory.FullName);\n",
    "    //Console.WriteLine(fail.Stderr);\n",
    "    //Console.WriteLine();\n",
    "    //Console.WriteLine(\"***************************\");\n",
    "    //Console.WriteLine(\"***************************\");\n",
    "    //Console.WriteLine();\n",
    "}"
   ]
  },
  {
   "cell_type": "code",
   "execution_count": null,
   "metadata": {},
   "outputs": [],
   "source": [
    "/*\n",
    "string PathOffset = @\"C:\\Users\\jenkinsci\\Desktop\\LinSlvPerfFail-20apr22\";\n",
    "foreach(var fail in NoSuccess) {\n",
    "    var C = fail.GetControl();\n",
    "    C.savetodb = false;\n",
    "    C.SaveToFile(System.IO.Path.Combine(PathOffset, fail.Name + \".obj\"));\n",
    "    \n",
    "    string Stdout = fail.Stdout;\n",
    "    System.IO.File.WriteAllText(System.IO.Path.Combine(PathOffset, fail.Name + \"-stdout.txt\"), Stdout);\n",
    "    \n",
    "    string Stderr = fail.Stderr;\n",
    "    System.IO.File.WriteAllText(System.IO.Path.Combine(PathOffset, fail.Name + \"-stderr.txt\"), Stderr);\n",
    "}\n",
    "*/"
   ]
  },
  {
   "cell_type": "code",
   "execution_count": null,
   "metadata": {},
   "outputs": [],
   "source": [
    "var FailedSessions = wmg.Sessions.Where(Si => Si.Name.Contains(\"BottiPietroStokes2D\") && Si.SuccessfulTermination == false);\n",
    "FailedSessions"
   ]
  },
  {
   "cell_type": "code",
   "execution_count": null,
   "metadata": {},
   "outputs": [],
   "source": [
    "//FailedSessions.Select(si => (si, si.GetSessionDirectory(), si.DeployPath))"
   ]
  },
  {
   "cell_type": "markdown",
   "metadata": {},
   "source": [
    "#### Asserting Success:"
   ]
  },
  {
   "cell_type": "markdown",
   "metadata": {},
   "source": [
    "Remark: since this is currently (22 Apr. 2022) work-in-progress, we allow for some jobs to fail; At this intermediate milestone, I want to record (by the means of tests) what is already working. Thereby, I hope I won't break the working cases while trying to fix the failing ones."
   ]
  },
  {
   "cell_type": "code",
   "execution_count": null,
   "metadata": {},
   "outputs": [],
   "source": [
    "//foreach(var si in FailedSessions)\n",
    "//   si.Delete(true);"
   ]
  },
  {
   "cell_type": "code",
   "execution_count": null,
   "metadata": {},
   "outputs": [],
   "source": [
    "var prelim_allowedFails = new[] { \"BottiPietroStokes2D-J2304_p2_pMultigrid\", \n",
    "                                  \"BottiPietroStokes2D-J16384_p2_pMultigrid\", \n",
    "                                  \"BottiPietroStokes2D-J36864_p2_pMultigrid\", \n",
    "                                  \"BottiPietroStokes2D-J65536_p2_pMultigrid\", \n",
    "                                  \"BottiPietroStokes2D-J147456_p2_pMultigrid\", \n",
    "                                  \"BottiPietroStokes2D-J36864_p3_pMultigrid\", \n",
    "                                  \"BottiPietroStokes2D-J16384_p5_pMultigrid\", \n",
    "                                  \"BottiPietroStokes2D-J36864_p5_pMultigrid\" };"
   ]
  },
  {
   "cell_type": "code",
   "execution_count": null,
   "metadata": {},
   "outputs": [],
   "source": [
    "NUnit.Framework.Assert.Zero(NoSuccess.Where(job => !prelim_allowedFails.Contains(job.Name)).Count(), \"Some Jobs Failed\");"
   ]
  },
  {
   "cell_type": "code",
   "execution_count": null,
   "metadata": {},
   "outputs": [],
   "source": [
    "NUnit.Framework.Assert.Zero(FailedSessions.Where(s => !prelim_allowedFails.Contains(s.Name)).Count(), \"Some Sessions did not terminate successfully.\");"
   ]
  }
 ],
 "metadata": {
  "kernelspec": {
   "display_name": ".NET (C#)",
   "language": "C#",
   "name": ".net-csharp"
  },
  "language_info": {
   "file_extension": ".cs",
   "mimetype": "text/x-csharp",
   "name": "C#",
   "pygments_lexer": "csharp",
   "version": "9.0"
  }
 },
 "nbformat": 4,
 "nbformat_minor": 4
}
