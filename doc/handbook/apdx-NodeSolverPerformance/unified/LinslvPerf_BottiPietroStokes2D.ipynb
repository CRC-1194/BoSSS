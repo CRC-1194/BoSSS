{
 "cells": [
  {
   "cell_type": "markdown",
   "metadata": {},
   "source": [
    "# Linear Solver Performance: 2D Stokes manufactured Solution after Botti and Di Pietro\n",
    "### Part 1, Benchmark Setup and Execution"
   ]
  },
  {
   "cell_type": "markdown",
   "metadata": {},
   "source": [
    "This benchmark was proposed in a work:\n",
    "\n",
    " \"p‑Multilevel Preconditioners for HHO Discretizations of the Stokes Equations with Static Condensation\" \n",
    " by L. Botti and D. Di Pietro (https://doi.org/10.1007/s42967-021-00142-5)\n",
    " \n",
    "It is used to assess DG as well as HDG methods, the latter beeing the main focus of the paper, the former only for reference.\n",
    "The exact solution to the stationary Stokes equation is\n",
    "$$\n",
    "u_1 =  -\\exp(x)*(y*\\cos(y) + \\sin(y)), \\\\\n",
    "u_2 =  \\exp(x)*y*\\sin(y), \\\\\n",
    "  p =  2*\\exp(x)*\\sin(y) .\n",
    "$$\n",
    "The domain is set as $ \\Omega = (-1,1) $.\n",
    "This exact solution is also used as a boundary condition on three sides; On one side, a Neumann boundary condition is enforced. It is not mentioned which side this is. \n",
    "\n",
    "\n",
    "### Note\n",
    "\n",
    "This example can be found in the source code repository as as `LinslvPerf_BottiPietroStokes2D.ipynb`. \n",
    "One can directly load this into Jupyter to interactively work with the following code examples.\n",
    "\n",
    "Note: First, BoSSS has to be loaded into the Jupyter kernel. Note:\n",
    "In the following line, the reference to `BoSSSpad.dll` is required. \n",
    "One must either set `#r \"BoSSSpad.dll\"` to something which is appropirate for the current computer\n",
    "(e.g. `C:\\Program Files (x86)\\FDY\\BoSSS\\bin\\Release\\net5.0\\BoSSSpad.dll` if working with the binary distribution), \n",
    "or, if one is working with the source code, one must compile `BoSSSpad`\n",
    "and put it side-by-side to this worksheet file \n",
    "(from the original location in the repository, one can use the scripts `getbossspad.sh`, resp. `getbossspad.bat`).\n"
   ]
  },
  {
   "cell_type": "code",
   "execution_count": 1,
   "metadata": {
    "dotnet_interactive": {
     "language": "csharp"
    }
   },
   "outputs": [
    {
     "data": {
      "text/html": [
       "\r\n",
       "<div>\r\n",
       "    <div id='dotnet-interactive-this-cell-81508.Microsoft.DotNet.Interactive.Http.HttpPort' style='display: none'>\r\n",
       "        The below script needs to be able to find the current output cell; this is an easy method to get it.\r\n",
       "    </div>\r\n",
       "    <script type='text/javascript'>\r\n",
       "async function probeAddresses(probingAddresses) {\r\n",
       "    function timeout(ms, promise) {\r\n",
       "        return new Promise(function (resolve, reject) {\r\n",
       "            setTimeout(function () {\r\n",
       "                reject(new Error('timeout'))\r\n",
       "            }, ms)\r\n",
       "            promise.then(resolve, reject)\r\n",
       "        })\r\n",
       "    }\r\n",
       "\r\n",
       "    if (Array.isArray(probingAddresses)) {\r\n",
       "        for (let i = 0; i < probingAddresses.length; i++) {\r\n",
       "\r\n",
       "            let rootUrl = probingAddresses[i];\r\n",
       "\r\n",
       "            if (!rootUrl.endsWith('/')) {\r\n",
       "                rootUrl = `${rootUrl}/`;\r\n",
       "            }\r\n",
       "\r\n",
       "            try {\r\n",
       "                let response = await timeout(1000, fetch(`${rootUrl}discovery`, {\r\n",
       "                    method: 'POST',\r\n",
       "                    cache: 'no-cache',\r\n",
       "                    mode: 'cors',\r\n",
       "                    timeout: 1000,\r\n",
       "                    headers: {\r\n",
       "                        'Content-Type': 'text/plain'\r\n",
       "                    },\r\n",
       "                    body: probingAddresses[i]\r\n",
       "                }));\r\n",
       "\r\n",
       "                if (response.status == 200) {\r\n",
       "                    return rootUrl;\r\n",
       "                }\r\n",
       "            }\r\n",
       "            catch (e) { }\r\n",
       "        }\r\n",
       "    }\r\n",
       "}\r\n",
       "\r\n",
       "function loadDotnetInteractiveApi() {\r\n",
       "    probeAddresses([\"http://130.83.248.207:1001/\", \"http://127.0.0.1:1001/\"])\r\n",
       "        .then((root) => {\r\n",
       "        // use probing to find host url and api resources\r\n",
       "        // load interactive helpers and language services\r\n",
       "        let dotnetInteractiveRequire = require.config({\r\n",
       "        context: '81508.Microsoft.DotNet.Interactive.Http.HttpPort',\r\n",
       "                paths:\r\n",
       "            {\r\n",
       "                'dotnet-interactive': `${root}resources`\r\n",
       "                }\r\n",
       "        }) || require;\r\n",
       "\r\n",
       "            window.dotnetInteractiveRequire = dotnetInteractiveRequire;\r\n",
       "\r\n",
       "            window.configureRequireFromExtension = function(extensionName, extensionCacheBuster) {\r\n",
       "                let paths = {};\r\n",
       "                paths[extensionName] = `${root}extensions/${extensionName}/resources/`;\r\n",
       "                \r\n",
       "                let internalRequire = require.config({\r\n",
       "                    context: extensionCacheBuster,\r\n",
       "                    paths: paths,\r\n",
       "                    urlArgs: `cacheBuster=${extensionCacheBuster}`\r\n",
       "                    }) || require;\r\n",
       "\r\n",
       "                return internalRequire\r\n",
       "            };\r\n",
       "        \r\n",
       "            dotnetInteractiveRequire([\r\n",
       "                    'dotnet-interactive/dotnet-interactive'\r\n",
       "                ],\r\n",
       "                function (dotnet) {\r\n",
       "                    dotnet.init(window);\r\n",
       "                },\r\n",
       "                function (error) {\r\n",
       "                    console.log(error);\r\n",
       "                }\r\n",
       "            );\r\n",
       "        })\r\n",
       "        .catch(error => {console.log(error);});\r\n",
       "    }\r\n",
       "\r\n",
       "// ensure `require` is available globally\r\n",
       "if ((typeof(require) !==  typeof(Function)) || (typeof(require.config) !== typeof(Function))) {\r\n",
       "    let require_script = document.createElement('script');\r\n",
       "    require_script.setAttribute('src', 'https://cdnjs.cloudflare.com/ajax/libs/require.js/2.3.6/require.min.js');\r\n",
       "    require_script.setAttribute('type', 'text/javascript');\r\n",
       "    \r\n",
       "    \r\n",
       "    require_script.onload = function() {\r\n",
       "        loadDotnetInteractiveApi();\r\n",
       "    };\r\n",
       "\r\n",
       "    document.getElementsByTagName('head')[0].appendChild(require_script);\r\n",
       "}\r\n",
       "else {\r\n",
       "    loadDotnetInteractiveApi();\r\n",
       "}\r\n",
       "\r\n",
       "    </script>\r\n",
       "</div>"
      ]
     },
     "metadata": {},
     "output_type": "display_data"
    },
    {
     "name": "stdout",
     "output_type": "stream",
     "text": [
      "Execution Date/time is 4/8/2022 8:53:23 AM\r\n"
     ]
    }
   ],
   "source": [
    "Console.WriteLine(\"Execution Date/time is \" + DateTime.Now);"
   ]
  },
  {
   "cell_type": "code",
   "execution_count": 2,
   "metadata": {
    "dotnet_interactive": {
     "language": "csharp"
    }
   },
   "outputs": [],
   "source": [
    "#r \"BoSSSpad.dll\"\n",
    "using System;\n",
    "using System.Collections.Generic;\n",
    "using System.Linq;\n",
    "using ilPSP;\n",
    "using ilPSP.Utils;\n",
    "using BoSSS.Platform;\n",
    "using BoSSS.Platform.LinAlg;\n",
    "using BoSSS.Foundation;\n",
    "using BoSSS.Foundation.XDG;\n",
    "using BoSSS.Foundation.Grid;\n",
    "using BoSSS.Foundation.Grid.Classic;\n",
    "using BoSSS.Foundation.Grid.RefElements;\n",
    "using BoSSS.Foundation.IO;\n",
    "using BoSSS.Solution;\n",
    "using BoSSS.Solution.Control;\n",
    "using BoSSS.Solution.GridImport;\n",
    "using BoSSS.Solution.Statistic;\n",
    "using BoSSS.Solution.Utils;\n",
    "using BoSSS.Solution.AdvancedSolvers;\n",
    "using BoSSS.Solution.Gnuplot;\n",
    "using BoSSS.Application.BoSSSpad;\n",
    "using BoSSS.Application.XNSE_Solver;\n",
    "using BoSSS.Application.XNSFE_Solver;\n",
    "using static BoSSS.Application.BoSSSpad.BoSSSshell;\n",
    "Init();"
   ]
  },
  {
   "cell_type": "code",
   "execution_count": 3,
   "metadata": {
    "dotnet_interactive": {
     "language": "csharp"
    }
   },
   "outputs": [
    {
     "name": "stdout",
     "output_type": "stream",
     "text": [
      "Project name is set to 'LinslvPerfSer'.\n",
      "Opening existing database '\\\\fdygitrunner\\ValidationTests\\LinslvPerfSer'.\n"
     ]
    },
    {
     "data": {
      "text/plain": []
     },
     "execution_count": 3,
     "metadata": {},
     "output_type": "execute_result"
    }
   ],
   "source": [
    "wmg.Init(\"LinslvPerfSer\");\n",
    "wmg.AllJobs"
   ]
  },
  {
   "cell_type": "code",
   "execution_count": 4,
   "metadata": {},
   "outputs": [],
   "source": [
    "// for examination on the local workstation, \n",
    "//OpenDatabase(@\"\\\\fdygitrunner\\ValidationTests\\LinslvPerf_XdgStokes\");"
   ]
  },
  {
   "cell_type": "code",
   "execution_count": 5,
   "metadata": {},
   "outputs": [],
   "source": [
    "/*\n",
    "// extract the control object to reproduce specific simulation on local workstation\n",
    "string dest = @\"C:\\Users\\flori\\Documents\\BoSSS-kummer\\public\\src\\L4-application\\XNSE_Solver\\bin\\Release\\net5.0\\BenchControls\";\n",
    "foreach(var s in wmg.Sessions) {\n",
    "    string name = s.Name;\n",
    "    Console.Write(name + \": \");\n",
    "    try {\n",
    "        var ctrl = s.GetControl();\n",
    "        var txt = ctrl.Serialize();\n",
    "        \n",
    "        string DestPath = System.IO.Path.Combine(dest, name + \".obj\");\n",
    "        System.IO.File.WriteAllText(DestPath, txt);\n",
    "        \n",
    "        Console.WriteLine(\"written\");\n",
    "    } catch(Exception e) {\n",
    "        Console.WriteLine(e.Message);\n",
    "    }\n",
    "}\n",
    "*/"
   ]
  },
  {
   "cell_type": "code",
   "execution_count": 6,
   "metadata": {},
   "outputs": [],
   "source": [
    "//wmg.DefaultDatabase.Grids.ForEach(s => s.Delete(true));"
   ]
  },
  {
   "cell_type": "markdown",
   "metadata": {
    "dotnet_interactive": {
     "language": "csharp"
    }
   },
   "source": [
    "## Utility definitions"
   ]
  },
  {
   "cell_type": "code",
   "execution_count": 7,
   "metadata": {
    "dotnet_interactive": {
     "language": "csharp"
    }
   },
   "outputs": [],
   "source": [
    "static class Utils {\n",
    "    // DOF per cell for one variable\n",
    "    public static int Np(int p) {\n",
    "        return (p*p + 3*p + 2)/2; // 2D \n",
    "        //return (p*p*p + 6*p*p + 11*p + 6)/6; // 3D\n",
    "    }    \n",
    "    \n",
    "    /*\n",
    "    //Non-equidistant nodes\n",
    "    public static double[] SinLinSpacing(double l, double r, double a, int n) {\n",
    "        double[] linnodes = GenericBlas.Linspace(-Math.PI * 0.5, Math.PI * 0.5, n);\n",
    "        double[] linnodes2 = GenericBlas.Linspace(-1, 1, n);\n",
    "        double[] nodes = new double[n];\n",
    "\n",
    "        for (int i = 0; i < n; i++)\n",
    "            //nodes[i] = linnodes2[i] * (1 - a) + (1.0 - Math.Sin(linnodes[i])) * a;\n",
    "            nodes[i] = linnodes2[i] * (1 - a) + Math.Sin(linnodes[i])*a;\n",
    "\n",
    "        for (int i = 0; i < n; i++)\n",
    "            nodes[i] = nodes[i] * (r - l)*0.5 + l;\n",
    "        return nodes;\n",
    "    }\n",
    "    */\n",
    "}"
   ]
  },
  {
   "cell_type": "markdown",
   "metadata": {
    "dotnet_interactive": {
     "language": "csharp"
    }
   },
   "source": [
    "## Init grids and save to database"
   ]
  },
  {
   "cell_type": "code",
   "execution_count": 8,
   "metadata": {
    "dotnet_interactive": {
     "language": "csharp"
    }
   },
   "outputs": [
    {
     "name": "stdout",
     "output_type": "stream",
     "text": [
      "Opening existing database 'C:\\BoSSStests\\LinslvPerfSer'.\n",
      "Found Grid: { Guid = 3e3cd419-2ff0-4b99-be41-b04d46899299; Name = LinslvPerfSer-Stokes2D_J64; Cell Count = 64; Dim = 2 }\n",
      "Found Grid: { Guid = 729e71b0-8bfd-4dd3-ae85-83bc9e431d0e; Name = LinslvPerfSer-Stokes2D_J256; Cell Count = 256; Dim = 2 }\n",
      "Found Grid: { Guid = aa681b03-401e-4d5c-9860-6a0735782332; Name = LinslvPerfSer-Stokes2D_J576; Cell Count = 576; Dim = 2 }\n",
      "Found Grid: { Guid = 136f770b-cfe1-45c9-ae50-af6c13371d27; Name = LinslvPerfSer-Stokes2D_J1024; Cell Count = 1024; Dim = 2 }\n",
      "Found Grid: { Guid = 37795355-b07a-4ee7-8f1a-76af185c7a6f; Name = LinslvPerfSer-Stokes2D_J2304; Cell Count = 2304; Dim = 2 }\n",
      "Found Grid: { Guid = 9730322f-d362-4351-9bda-abf491f2ef30; Name = LinslvPerfSer-Stokes2D_J4096; Cell Count = 4096; Dim = 2 }\n",
      "Found Grid: { Guid = dcbd25cc-388e-432c-940f-a7f052aee973; Name = LinslvPerfSer-Stokes2D_J16384; Cell Count = 16384; Dim = 2 }\n",
      "Found Grid: { Guid = 087a8e53-0f11-4816-985d-d5e3b376c6f6; Name = LinslvPerfSer-Stokes2D_J36864; Cell Count = 36864; Dim = 2 }\n",
      "Found Grid: { Guid = e4d05f49-5208-46a8-8a0c-cbfb8cd148a8; Name = LinslvPerfSer-Stokes2D_J65536; Cell Count = 65536; Dim = 2 }\n",
      "Found Grid: { Guid = 2f24ecd0-f4b7-4072-8f44-4ddec6e126cc; Name = LinslvPerfSer-Stokes2D_J147456; Cell Count = 147456; Dim = 2 }\n",
      "Found Grid: { Guid = b992580f-4ce1-4de8-9d98-8433a2feb21e; Name = LinslvPerfSer-Stokes2D_J262144; Cell Count = 262144; Dim = 2 }\n"
     ]
    }
   ],
   "source": [
    "int[] Resolutions_2D = new int[] { 8, 16, 24, 32, 48, 64, 128, 192, 256, 384, 512 };\n",
    "\n",
    "IGridInfo[] grids = new IGridInfo[Resolutions_2D.Length];\n",
    "for(int cnt = 0; cnt < Resolutions_2D.Length; cnt++) {\n",
    "    int Res = Resolutions_2D[cnt];    \n",
    "    \n",
    "    double[] xNodes = GenericBlas.Linspace(-1, +1, Res + 1);\n",
    "    double[] yNodes = GenericBlas.Linspace(-1, +1, Res + 1);\n",
    "    int J = (xNodes.Length - 1)*(yNodes.Length - 1);\n",
    "    \n",
    "    string GridName = string.Format(wmg.CurrentProject + \"-Stokes2D_J\" + J);\n",
    "    \n",
    "    grids[cnt] = wmg.Grids.SingleOrDefault(grd => grd.Name.Contains(GridName)); // check if an appropriate grid is already present in the database\n",
    "    if(grids[cnt] == null){\n",
    "        Console.WriteLine(\"Creating grid with \" + J + \" cells.\");\n",
    "        \n",
    "        GridCommons g;\n",
    "        g      = Grid2D.Cartesian2DGrid(xNodes, yNodes);\n",
    "        g.Name = GridName;\n",
    "        \n",
    "        g.DefineEdgeTags(delegate (double[] X) {\n",
    "            double x = X[0];\n",
    "            if(Math.Abs(x - (-1)) < 1e-8)\n",
    "                return \"pressure_outlet\";\n",
    "            return \"wall\"; \n",
    "        });\n",
    "      \n",
    "        g = wmg.SaveGrid(g);  \n",
    "        grids[cnt] = g;\n",
    "    } else {\n",
    "        Console.WriteLine(\"Found Grid: \" + grids[cnt]);\n",
    "        if(grids[cnt].NumberOfCells != J)\n",
    "            throw new Exception(\"J mismatch\");\n",
    "        \n",
    "        if(grids[cnt].SpatialDimension != 2)\n",
    "            throw new Exception(\"D mismatch\");\n",
    "    }\n",
    "}"
   ]
  },
  {
   "cell_type": "code",
   "execution_count": 9,
   "metadata": {
    "dotnet_interactive": {
     "language": "csharp"
    }
   },
   "outputs": [
    {
     "data": {
      "text/plain": [
       "#0: { Guid = 3e3cd419-2ff0-4b99-be41-b04d46899299; Name = LinslvPerfSer-Stokes2D_J64; Cell Count = 64; Dim = 2 }\r\n",
       "#1: { Guid = 729e71b0-8bfd-4dd3-ae85-83bc9e431d0e; Name = LinslvPerfSer-Stokes2D_J256; Cell Count = 256; Dim = 2 }\r\n",
       "#2: { Guid = aa681b03-401e-4d5c-9860-6a0735782332; Name = LinslvPerfSer-Stokes2D_J576; Cell Count = 576; Dim = 2 }\r\n",
       "#3: { Guid = 136f770b-cfe1-45c9-ae50-af6c13371d27; Name = LinslvPerfSer-Stokes2D_J1024; Cell Count = 1024; Dim = 2 }\r\n",
       "#4: { Guid = 37795355-b07a-4ee7-8f1a-76af185c7a6f; Name = LinslvPerfSer-Stokes2D_J2304; Cell Count = 2304; Dim = 2 }\r\n",
       "#5: { Guid = 9730322f-d362-4351-9bda-abf491f2ef30; Name = LinslvPerfSer-Stokes2D_J4096; Cell Count = 4096; Dim = 2 }\r\n",
       "#6: { Guid = dcbd25cc-388e-432c-940f-a7f052aee973; Name = LinslvPerfSer-Stokes2D_J16384; Cell Count = 16384; Dim = 2 }\r\n",
       "#7: { Guid = 087a8e53-0f11-4816-985d-d5e3b376c6f6; Name = LinslvPerfSer-Stokes2D_J36864; Cell Count = 36864; Dim = 2 }\r\n",
       "#8: { Guid = e4d05f49-5208-46a8-8a0c-cbfb8cd148a8; Name = LinslvPerfSer-Stokes2D_J65536; Cell Count = 65536; Dim = 2 }\r\n",
       "#9: { Guid = 2f24ecd0-f4b7-4072-8f44-4ddec6e126cc; Name = LinslvPerfSer-Stokes2D_J147456; Cell Count = 147456; Dim = 2 }\r\n",
       "#10: { Guid = b992580f-4ce1-4de8-9d98-8433a2feb21e; Name = LinslvPerfSer-Stokes2D_J262144; Cell Count = 262144; Dim = 2 }\r\n"
      ]
     },
     "execution_count": 9,
     "metadata": {},
     "output_type": "execute_result"
    }
   ],
   "source": [
    "grids"
   ]
  },
  {
   "cell_type": "code",
   "execution_count": 10,
   "metadata": {},
   "outputs": [],
   "source": [
    "//PlotGrid(\"g2304\",grids[4]);"
   ]
  },
  {
   "cell_type": "code",
   "execution_count": 11,
   "metadata": {},
   "outputs": [
    {
     "data": {
      "text/plain": [
       "{ Session Count = 267; Grid Count = 30; Path = \\\\fdygitrunner\\ValidationTests\\LinslvPerfSer }"
      ]
     },
     "execution_count": 11,
     "metadata": {},
     "output_type": "execute_result"
    }
   ],
   "source": [
    "wmg.DefaultDatabase"
   ]
  },
  {
   "cell_type": "markdown",
   "metadata": {
    "dotnet_interactive": {
     "language": "csharp"
    }
   },
   "source": [
    "## Setup Control Object for a Solver Run"
   ]
  },
  {
   "cell_type": "code",
   "execution_count": 12,
   "metadata": {
    "dotnet_interactive": {
     "language": "csharp"
    }
   },
   "outputs": [],
   "source": [
    "// - - - - - - - - - - - - - - - - - - -\n",
    "// Initial Values & Boundary conditions\n",
    "// - - - - - - - - - - - - - - - - - - -"
   ]
  },
  {
   "cell_type": "code",
   "execution_count": 13,
   "metadata": {
    "dotnet_interactive": {
     "language": "csharp"
    }
   },
   "outputs": [],
   "source": [
    "using BoSSS.Application.XNSE_Solver;\n",
    "using BoSSS.Solution.LevelSetTools;\n",
    "using BoSSS.Solution.AdvancedSolvers;\n",
    "using BoSSS.Solution.XNSECommon;\n",
    "using BoSSS.Solution.Timestepping;\n",
    "using BoSSS.Solution.XdgTimestepping ;"
   ]
  },
  {
   "cell_type": "markdown",
   "metadata": {},
   "source": [
    "### Boundary Conditions and Exact Solution"
   ]
  },
  {
   "cell_type": "code",
   "execution_count": 14,
   "metadata": {},
   "outputs": [],
   "source": [
    "var VelocityX = new Formula(\"(X) => -Math.Exp(X[0])*(X[1]*Math.Cos(X[1]) + Math.Sin(X[1]))\");"
   ]
  },
  {
   "cell_type": "code",
   "execution_count": 15,
   "metadata": {},
   "outputs": [],
   "source": [
    "var VelocityY = new Formula(\"(X) => Math.Exp(X[0])*X[1]*Math.Sin(X[1])\");"
   ]
  },
  {
   "cell_type": "code",
   "execution_count": 16,
   "metadata": {},
   "outputs": [],
   "source": [
    "var Pressure = new Formula(\"(X) => 2*Math.Exp(X[0])*Math.Sin(X[1])\");"
   ]
  },
  {
   "cell_type": "code",
   "execution_count": 17,
   "metadata": {},
   "outputs": [],
   "source": [
    "NUnit.Framework.Assert.Less((VelocityX.Evaluate(new double[] { 1, 0.5 }, 0) - (-2.495972095)).Abs(), 1.0e-9, \n",
    "     \"x-Velocity expression differs from reference value\");"
   ]
  },
  {
   "cell_type": "code",
   "execution_count": 18,
   "metadata": {},
   "outputs": [],
   "source": [
    "NUnit.Framework.Assert.Less((VelocityY.Evaluate(new double[] { 1, 0.5 }, 0) - 0.6516068645).Abs(), 1.0e-9, \n",
    "     \"y-Velocity expression differs from reference value\");"
   ]
  },
  {
   "cell_type": "markdown",
   "metadata": {
    "dotnet_interactive": {
     "language": "csharp"
    }
   },
   "source": [
    "### Setup of Parameter Study"
   ]
  },
  {
   "cell_type": "markdown",
   "metadata": {},
   "source": [
    "Polynomial degrees to test:"
   ]
  },
  {
   "cell_type": "code",
   "execution_count": 19,
   "metadata": {
    "dotnet_interactive": {
     "language": "csharp"
    }
   },
   "outputs": [],
   "source": [
    "int[] PolyDegS = new int[] {2, 3, 5};"
   ]
  },
  {
   "cell_type": "markdown",
   "metadata": {},
   "source": [
    "Solvers which we want to instrument:"
   ]
  },
  {
   "cell_type": "code",
   "execution_count": 20,
   "metadata": {
    "dotnet_interactive": {
     "language": "csharp"
    }
   },
   "outputs": [],
   "source": [
    "// Solvers which we want to instrument:\n",
    "LinearSolverCode[] solver_nameS = new LinearSolverCode[] {\n",
    "    LinearSolverCode.direct_pardiso,\n",
    "    LinearSolverCode.exp_gmres_levelpmg,\n",
    "    LinearSolverCode.exp_Kcycle_schwarz,\n",
    "    LinearSolverCode.pMultigrid\n",
    "}; "
   ]
  },
  {
   "cell_type": "markdown",
   "metadata": {},
   "source": [
    "Maximum Dof for one calculation (we skip fine grids for higher polynomial orders):"
   ]
  },
  {
   "cell_type": "code",
   "execution_count": 21,
   "metadata": {
    "dotnet_interactive": {
     "language": "csharp"
    }
   },
   "outputs": [],
   "source": [
    "int GetMaxAllowedDOF(LinearSolverCode code) {\n",
    "    switch(code) {\n",
    "        case LinearSolverCode.direct_pardiso:\n",
    "        case LinearSolverCode.direct_mumps:\n",
    "        return 1100000; // 1.1 Million for iterative solvers at maximum\n",
    "    \n",
    "        default: \n",
    "        return 3000000; // Up to 3 Million for iterative solvers\n",
    "    }\n",
    "}"
   ]
  },
  {
   "cell_type": "markdown",
   "metadata": {},
   "source": [
    "Loop over all combinations of parameters and define a control object for each combo:"
   ]
  },
  {
   "cell_type": "code",
   "execution_count": 22,
   "metadata": {
    "dotnet_interactive": {
     "language": "csharp"
    }
   },
   "outputs": [],
   "source": [
    "using BoSSS.Solution.XNSECommon;\n",
    "using BoSSS.Foundation.XDG;"
   ]
  },
  {
   "cell_type": "code",
   "execution_count": 23,
   "metadata": {
    "dotnet_interactive": {
     "language": "csharp"
    }
   },
   "outputs": [
    {
     "name": "stdout",
     "output_type": "stream",
     "text": [
      "setting up: BottiPietroStokes2D-J64_p2_direct_pardiso\n",
      "setting up: BottiPietroStokes2D-J256_p2_direct_pardiso\n",
      "setting up: BottiPietroStokes2D-J576_p2_direct_pardiso\n",
      "setting up: BottiPietroStokes2D-J1024_p2_direct_pardiso\n",
      "setting up: BottiPietroStokes2D-J2304_p2_direct_pardiso\n",
      "setting up: BottiPietroStokes2D-J4096_p2_direct_pardiso\n",
      "setting up: BottiPietroStokes2D-J16384_p2_direct_pardiso\n",
      "setting up: BottiPietroStokes2D-J36864_p2_direct_pardiso\n",
      "setting up: BottiPietroStokes2D-J65536_p2_direct_pardiso\n",
      "setting up: BottiPietroStokes2D-J64_p3_direct_pardiso\n",
      "setting up: BottiPietroStokes2D-J256_p3_direct_pardiso\n",
      "setting up: BottiPietroStokes2D-J576_p3_direct_pardiso\n",
      "setting up: BottiPietroStokes2D-J1024_p3_direct_pardiso\n",
      "setting up: BottiPietroStokes2D-J2304_p3_direct_pardiso\n",
      "setting up: BottiPietroStokes2D-J4096_p3_direct_pardiso\n",
      "setting up: BottiPietroStokes2D-J16384_p3_direct_pardiso\n",
      "setting up: BottiPietroStokes2D-J36864_p3_direct_pardiso\n",
      "setting up: BottiPietroStokes2D-J64_p5_direct_pardiso\n",
      "setting up: BottiPietroStokes2D-J256_p5_direct_pardiso\n",
      "setting up: BottiPietroStokes2D-J576_p5_direct_pardiso\n",
      "setting up: BottiPietroStokes2D-J1024_p5_direct_pardiso\n",
      "setting up: BottiPietroStokes2D-J2304_p5_direct_pardiso\n",
      "setting up: BottiPietroStokes2D-J4096_p5_direct_pardiso\n",
      "setting up: BottiPietroStokes2D-J16384_p5_direct_pardiso\n",
      "setting up: BottiPietroStokes2D-J64_p2_exp_gmres_levelpmg\n",
      "setting up: BottiPietroStokes2D-J256_p2_exp_gmres_levelpmg\n",
      "setting up: BottiPietroStokes2D-J576_p2_exp_gmres_levelpmg\n",
      "setting up: BottiPietroStokes2D-J1024_p2_exp_gmres_levelpmg\n",
      "setting up: BottiPietroStokes2D-J2304_p2_exp_gmres_levelpmg\n",
      "setting up: BottiPietroStokes2D-J4096_p2_exp_gmres_levelpmg\n",
      "setting up: BottiPietroStokes2D-J16384_p2_exp_gmres_levelpmg\n",
      "setting up: BottiPietroStokes2D-J36864_p2_exp_gmres_levelpmg\n",
      "setting up: BottiPietroStokes2D-J65536_p2_exp_gmres_levelpmg\n",
      "setting up: BottiPietroStokes2D-J147456_p2_exp_gmres_levelpmg\n",
      "setting up: BottiPietroStokes2D-J64_p3_exp_gmres_levelpmg\n",
      "setting up: BottiPietroStokes2D-J256_p3_exp_gmres_levelpmg\n",
      "setting up: BottiPietroStokes2D-J576_p3_exp_gmres_levelpmg\n",
      "setting up: BottiPietroStokes2D-J1024_p3_exp_gmres_levelpmg\n",
      "setting up: BottiPietroStokes2D-J2304_p3_exp_gmres_levelpmg\n",
      "setting up: BottiPietroStokes2D-J4096_p3_exp_gmres_levelpmg\n",
      "setting up: BottiPietroStokes2D-J16384_p3_exp_gmres_levelpmg\n",
      "setting up: BottiPietroStokes2D-J36864_p3_exp_gmres_levelpmg\n",
      "setting up: BottiPietroStokes2D-J65536_p3_exp_gmres_levelpmg\n",
      "setting up: BottiPietroStokes2D-J64_p5_exp_gmres_levelpmg\n",
      "setting up: BottiPietroStokes2D-J256_p5_exp_gmres_levelpmg\n",
      "setting up: BottiPietroStokes2D-J576_p5_exp_gmres_levelpmg\n",
      "setting up: BottiPietroStokes2D-J1024_p5_exp_gmres_levelpmg\n",
      "setting up: BottiPietroStokes2D-J2304_p5_exp_gmres_levelpmg\n",
      "setting up: BottiPietroStokes2D-J4096_p5_exp_gmres_levelpmg\n",
      "setting up: BottiPietroStokes2D-J16384_p5_exp_gmres_levelpmg\n",
      "setting up: BottiPietroStokes2D-J36864_p5_exp_gmres_levelpmg\n",
      "setting up: BottiPietroStokes2D-J64_p2_exp_Kcycle_schwarz\n",
      "setting up: BottiPietroStokes2D-J256_p2_exp_Kcycle_schwarz\n",
      "setting up: BottiPietroStokes2D-J576_p2_exp_Kcycle_schwarz\n",
      "setting up: BottiPietroStokes2D-J1024_p2_exp_Kcycle_schwarz\n",
      "setting up: BottiPietroStokes2D-J2304_p2_exp_Kcycle_schwarz\n",
      "setting up: BottiPietroStokes2D-J4096_p2_exp_Kcycle_schwarz\n",
      "setting up: BottiPietroStokes2D-J16384_p2_exp_Kcycle_schwarz\n",
      "setting up: BottiPietroStokes2D-J36864_p2_exp_Kcycle_schwarz\n",
      "setting up: BottiPietroStokes2D-J65536_p2_exp_Kcycle_schwarz\n",
      "setting up: BottiPietroStokes2D-J147456_p2_exp_Kcycle_schwarz\n",
      "setting up: BottiPietroStokes2D-J64_p3_exp_Kcycle_schwarz\n",
      "setting up: BottiPietroStokes2D-J256_p3_exp_Kcycle_schwarz\n",
      "setting up: BottiPietroStokes2D-J576_p3_exp_Kcycle_schwarz\n",
      "setting up: BottiPietroStokes2D-J1024_p3_exp_Kcycle_schwarz\n",
      "setting up: BottiPietroStokes2D-J2304_p3_exp_Kcycle_schwarz\n",
      "setting up: BottiPietroStokes2D-J4096_p3_exp_Kcycle_schwarz\n",
      "setting up: BottiPietroStokes2D-J16384_p3_exp_Kcycle_schwarz\n",
      "setting up: BottiPietroStokes2D-J36864_p3_exp_Kcycle_schwarz\n",
      "setting up: BottiPietroStokes2D-J65536_p3_exp_Kcycle_schwarz\n",
      "setting up: BottiPietroStokes2D-J64_p5_exp_Kcycle_schwarz\n",
      "setting up: BottiPietroStokes2D-J256_p5_exp_Kcycle_schwarz\n",
      "setting up: BottiPietroStokes2D-J576_p5_exp_Kcycle_schwarz\n",
      "setting up: BottiPietroStokes2D-J1024_p5_exp_Kcycle_schwarz\n",
      "setting up: BottiPietroStokes2D-J2304_p5_exp_Kcycle_schwarz\n",
      "setting up: BottiPietroStokes2D-J4096_p5_exp_Kcycle_schwarz\n",
      "setting up: BottiPietroStokes2D-J16384_p5_exp_Kcycle_schwarz\n",
      "setting up: BottiPietroStokes2D-J36864_p5_exp_Kcycle_schwarz\n",
      "setting up: BottiPietroStokes2D-J64_p2_pMultigrid\n",
      "setting up: BottiPietroStokes2D-J256_p2_pMultigrid\n",
      "setting up: BottiPietroStokes2D-J576_p2_pMultigrid\n",
      "setting up: BottiPietroStokes2D-J1024_p2_pMultigrid\n",
      "setting up: BottiPietroStokes2D-J2304_p2_pMultigrid\n",
      "setting up: BottiPietroStokes2D-J4096_p2_pMultigrid\n",
      "setting up: BottiPietroStokes2D-J16384_p2_pMultigrid\n",
      "setting up: BottiPietroStokes2D-J36864_p2_pMultigrid\n",
      "setting up: BottiPietroStokes2D-J65536_p2_pMultigrid\n",
      "setting up: BottiPietroStokes2D-J147456_p2_pMultigrid\n",
      "setting up: BottiPietroStokes2D-J64_p3_pMultigrid\n",
      "setting up: BottiPietroStokes2D-J256_p3_pMultigrid\n",
      "setting up: BottiPietroStokes2D-J576_p3_pMultigrid\n",
      "setting up: BottiPietroStokes2D-J1024_p3_pMultigrid\n",
      "setting up: BottiPietroStokes2D-J2304_p3_pMultigrid\n",
      "setting up: BottiPietroStokes2D-J4096_p3_pMultigrid\n",
      "setting up: BottiPietroStokes2D-J16384_p3_pMultigrid\n",
      "setting up: BottiPietroStokes2D-J36864_p3_pMultigrid\n",
      "setting up: BottiPietroStokes2D-J65536_p3_pMultigrid\n",
      "setting up: BottiPietroStokes2D-J64_p5_pMultigrid\n",
      "setting up: BottiPietroStokes2D-J256_p5_pMultigrid\n",
      "setting up: BottiPietroStokes2D-J576_p5_pMultigrid\n",
      "setting up: BottiPietroStokes2D-J1024_p5_pMultigrid\n",
      "setting up: BottiPietroStokes2D-J2304_p5_pMultigrid\n",
      "setting up: BottiPietroStokes2D-J4096_p5_pMultigrid\n",
      "setting up: BottiPietroStokes2D-J16384_p5_pMultigrid\n",
      "setting up: BottiPietroStokes2D-J36864_p5_pMultigrid\n"
     ]
    }
   ],
   "source": [
    "List<XNSE_Control> controls = new List<XNSE_Control>();\n",
    "controls.Clear();\n",
    "foreach(LinearSolverCode solver in solver_nameS) {\n",
    "foreach(int k in PolyDegS) {\n",
    "foreach(IGridInfo grd in grids) {\n",
    "\n",
    "    int Np_V = Utils.Np(k);\n",
    "    int Np_p = Utils.Np(k-1);\n",
    "    int J    = grd.NumberOfCells;\n",
    "    int DOF  = Np_V*2 + Np_p;\n",
    "    if(J*DOF >  GetMaxAllowedDOF(solver))\n",
    "        continue;\n",
    "    \n",
    "    // Control Instance, grid, DG degree, etc.\n",
    "    // =======================================\n",
    "    \n",
    "    XNSE_Control C = new XNSE_Control();\n",
    "    controls.Add(C);\n",
    "       \n",
    "    string caseName = string.Format(\"BottiPietroStokes2D-J{0}_p{1}_{2}\", J, k, solver);\n",
    "    Console.WriteLine(\"setting up: \" + caseName);\n",
    "    C.SessionName        = caseName;\n",
    "    \n",
    "    C.SetGrid(grd);\n",
    "    C.savetodb = true;\n",
    "    C.SetDGdegree(k);\n",
    "    \n",
    "    // Phys. Parameters\n",
    "    // ================\n",
    "    \n",
    "    C.PhysicalParameters.rho_A             = 1; // not relevant, since density is not present in steady-state Stokes.\n",
    "    C.PhysicalParameters.rho_B             = 1; // not relevant, since density is not present in steady-state Stokes.\n",
    "    C.PhysicalParameters.mu_A              = 1; // dimensionless\n",
    "    C.PhysicalParameters.mu_B              = 1; // dimensionless\n",
    "    C.PhysicalParameters.Sigma             = 0; // not relevant, since single phase\n",
    "    C.PhysicalParameters.IncludeConvection = false;\n",
    "    C.PhysicalParameters.Material          = true;\n",
    "    \n",
    "    // Boundary Conditions\n",
    "    // ===================\n",
    "    C.AddBoundaryValue(\"wall\", \"VelocityX\", VelocityX);\n",
    "    C.AddBoundaryValue(\"wall\", \"VelocityY\", VelocityY);\n",
    "    \n",
    "    C.AddInitialValue(\"VelocityX\", VelocityX);\n",
    "    C.AddInitialValue(\"VelocityY\", VelocityY);\n",
    "   \n",
    "    // Solver Stuff\n",
    "    // ============\n",
    "    \n",
    "    //C.VelocityBlockPrecondMode         = MultigridOperator.Mode.SymPart_DiagBlockEquilib;\n",
    "    \n",
    "    C.LinearSolver           = solver.GetConfig();\n",
    "    if(C.LinearSolver is IterativeSolverConfig isc) {\n",
    "        isc.ConvergenceCriterion = 1e-8;\n",
    "    }\n",
    "    C.LevelSet_ConvergenceCriterion     = 1e-6;\n",
    "    C.NoOfMultigridLevels = 100;\n",
    "\n",
    "    // Timestepping / Instationary\n",
    "    // ===========================\n",
    "\n",
    "    C.TimesteppingMode             = AppControl._TimesteppingMode.Steady;\n",
    "}\n",
    "}\n",
    "}"
   ]
  },
  {
   "cell_type": "markdown",
   "metadata": {},
   "source": [
    "Total number of simulations:"
   ]
  },
  {
   "cell_type": "code",
   "execution_count": 24,
   "metadata": {},
   "outputs": [
    {
     "data": {
      "text/html": [
       "<div class=\"dni-plaintext\">105</div>"
      ]
     },
     "execution_count": 24,
     "metadata": {},
     "output_type": "execute_result"
    }
   ],
   "source": [
    "controls.Count"
   ]
  },
  {
   "cell_type": "code",
   "execution_count": 25,
   "metadata": {},
   "outputs": [],
   "source": [
    "// Basic checks on the multigrid configuration\n",
    "foreach(var ctrl in controls) {\n",
    "    NUnit.Framework.Assert.Greater(ctrl.NoOfMultigridLevels, 1, \"More than 1 multigrid level must be set\");\n",
    "    if(ctrl.LinearSolver is OrthoMGSchwarzConfig osc)\n",
    "        NUnit.Framework.Assert.Greater(osc.NoOfMultigridLevels, 1, \"More than 1 multigrid level must be set\");\n",
    "}"
   ]
  },
  {
   "cell_type": "code",
   "execution_count": 29,
   "metadata": {},
   "outputs": [],
   "source": [
    "//string path = @\"C:\\Users\\jenkinsci\\Documents\\BoSSS-kummer\\public\\src\\L4-application\\XNSE_Solver\\bin\\Release\\net5.0\\Stokes2D\";\n",
    "//foreach(var ctrl in controls) {\n",
    "//    ctrl.savetodb = false;\n",
    "//    ctrl.SaveToFile(System.IO.Path.Combine(path, \"control-\" + ctrl.SessionName + \".obj\"));\n",
    "//}"
   ]
  },
  {
   "cell_type": "markdown",
   "metadata": {
    "dotnet_interactive": {
     "language": "csharp"
    }
   },
   "source": [
    "## Launch Jobs"
   ]
  },
  {
   "cell_type": "code",
   "execution_count": 26,
   "metadata": {
    "dotnet_interactive": {
     "language": "csharp"
    }
   },
   "outputs": [
    {
     "name": "stdout",
     "output_type": "stream",
     "text": [
      " Submitting: BottiPietroStokes2D-J64_p2_direct_pardiso\n",
      "Info: Found successful session \"LinslvPerfSer\tBottiPietroStokes2D-J64_p2_classic_pardiso\t03/22/2022 09:03:17\t5f8717de...\" -- job is marked as successful, no further action.\n",
      "No submission, because job status is: FinishedSuccessful\n",
      " Submitting: BottiPietroStokes2D-J256_p2_direct_pardiso\n",
      "Info: Found successful session \"LinslvPerfSer\tBottiPietroStokes2D-J256_p2_classic_pardiso\t03/22/2022 09:03:50\ta0b775a7...\" -- job is marked as successful, no further action.\n",
      "No submission, because job status is: FinishedSuccessful\n",
      " Submitting: BottiPietroStokes2D-J576_p2_direct_pardiso\n",
      "Info: Found successful session \"LinslvPerfSer\tBottiPietroStokes2D-J576_p2_classic_pardiso\t03/22/2022 09:04:24\t44cc0894...\" -- job is marked as successful, no further action.\n",
      "No submission, because job status is: FinishedSuccessful\n",
      " Submitting: BottiPietroStokes2D-J1024_p2_direct_pardiso\n",
      "Loading session 879748d1-75b7-480d-b37f-acb5075d55ef failed with message 'Could not find file '\\\\fdygitrunner\\ValidationTests\\LinslvPerfSer\\sessions\\879748d1-75b7-480d-b37f-acb5075d55ef\\Session.info'.'\n",
      "Info: Found successful session \"LinslvPerfSer\tBottiPietroStokes2D-J1024_p2_classic_pardiso\t03/22/2022 09:04:57\tfd48cc38...\" -- job is marked as successful, no further action.\n",
      "No submission, because job status is: FinishedSuccessful\n",
      " Submitting: BottiPietroStokes2D-J2304_p2_direct_pardiso\n",
      "Info: Found successful session \"LinslvPerfSer\tBottiPietroStokes2D-J2304_p2_classic_pardiso\t03/22/2022 09:05:31\t2d41dcf3...\" -- job is marked as successful, no further action.\n",
      "No submission, because job status is: FinishedSuccessful\n",
      " Submitting: BottiPietroStokes2D-J4096_p2_direct_pardiso\n",
      "Info: Found successful session \"LinslvPerfSer\tBottiPietroStokes2D-J4096_p2_classic_pardiso\t03/22/2022 09:06:07\tb8be07a9...\" -- job is marked as successful, no further action.\n",
      "No submission, because job status is: FinishedSuccessful\n",
      " Submitting: BottiPietroStokes2D-J16384_p2_direct_pardiso\n",
      "Info: Found successful session \"LinslvPerfSer\tBottiPietroStokes2D-J16384_p2_classic_pardiso\t03/22/2022 09:06:40\t94516bfe...\" -- job is marked as successful, no further action.\n",
      "No submission, because job status is: FinishedSuccessful\n",
      " Submitting: BottiPietroStokes2D-J36864_p2_direct_pardiso\n",
      "Info: Found successful session \"LinslvPerfSer\tBottiPietroStokes2D-J36864_p2_classic_pardiso\t03/22/2022 09:07:19\t9fd66283...\" -- job is marked as successful, no further action.\n",
      "No submission, because job status is: FinishedSuccessful\n",
      " Submitting: BottiPietroStokes2D-J65536_p2_direct_pardiso\n",
      "Info: Found successful session \"LinslvPerfSer\tBottiPietroStokes2D-J65536_p2_classic_pardiso\t03/22/2022 09:07:54\t42c975c4...\" -- job is marked as successful, no further action.\n",
      "No submission, because job status is: FinishedSuccessful\n",
      " Submitting: BottiPietroStokes2D-J64_p3_direct_pardiso\n",
      "Info: Found successful session \"LinslvPerfSer\tBottiPietroStokes2D-J64_p3_classic_pardiso\t03/22/2022 09:08:33\t037c41fc...\" -- job is marked as successful, no further action.\n",
      "No submission, because job status is: FinishedSuccessful\n",
      " Submitting: BottiPietroStokes2D-J256_p3_direct_pardiso\n",
      "Info: Found successful session \"LinslvPerfSer\tBottiPietroStokes2D-J256_p3_classic_pardiso\t03/22/2022 09:09:09\te31bbf21...\" -- job is marked as successful, no further action.\n",
      "No submission, because job status is: FinishedSuccessful\n",
      " Submitting: BottiPietroStokes2D-J576_p3_direct_pardiso\n",
      "Info: Found successful session \"LinslvPerfSer\tBottiPietroStokes2D-J576_p3_classic_pardiso\t03/22/2022 09:09:44\t596d2980...\" -- job is marked as successful, no further action.\n",
      "No submission, because job status is: FinishedSuccessful\n",
      " Submitting: BottiPietroStokes2D-J1024_p3_direct_pardiso\n",
      "Info: Found successful session \"LinslvPerfSer\tBottiPietroStokes2D-J1024_p3_classic_pardiso\t03/22/2022 09:10:21\t20d10759...\" -- job is marked as successful, no further action.\n",
      "No submission, because job status is: FinishedSuccessful\n",
      " Submitting: BottiPietroStokes2D-J2304_p3_direct_pardiso\n",
      "Info: Found successful session \"LinslvPerfSer\tBottiPietroStokes2D-J2304_p3_classic_pardiso\t03/22/2022 09:10:59\t09548b5d...\" -- job is marked as successful, no further action.\n",
      "No submission, because job status is: FinishedSuccessful\n",
      " Submitting: BottiPietroStokes2D-J4096_p3_direct_pardiso\n",
      "Info: Found successful session \"LinslvPerfSer\tBottiPietroStokes2D-J4096_p3_classic_pardiso\t03/22/2022 09:11:37\t6a600f81...\" -- job is marked as successful, no further action.\n",
      "No submission, because job status is: FinishedSuccessful\n",
      " Submitting: BottiPietroStokes2D-J16384_p3_direct_pardiso\n",
      "Info: Found successful session \"LinslvPerfSer\tBottiPietroStokes2D-J16384_p3_classic_pardiso\t03/22/2022 09:12:15\tf4df5732...\" -- job is marked as successful, no further action.\n",
      "No submission, because job status is: FinishedSuccessful\n",
      " Submitting: BottiPietroStokes2D-J36864_p3_direct_pardiso\n",
      "Info: Found successful session \"LinslvPerfSer\tBottiPietroStokes2D-J36864_p3_classic_pardiso\t03/22/2022 09:12:54\t950670b4...\" -- job is marked as successful, no further action.\n",
      "No submission, because job status is: FinishedSuccessful\n",
      " Submitting: BottiPietroStokes2D-J64_p5_direct_pardiso\n",
      "Info: Found successful session \"LinslvPerfSer\tBottiPietroStokes2D-J64_p5_classic_pardiso\t03/22/2022 09:13:32\t20f93aba...\" -- job is marked as successful, no further action.\n",
      "No submission, because job status is: FinishedSuccessful\n",
      " Submitting: BottiPietroStokes2D-J256_p5_direct_pardiso\n",
      "Info: Found successful session \"LinslvPerfSer\tBottiPietroStokes2D-J256_p5_classic_pardiso\t03/22/2022 09:14:12\tc93b5fec...\" -- job is marked as successful, no further action.\n",
      "No submission, because job status is: FinishedSuccessful\n",
      " Submitting: BottiPietroStokes2D-J576_p5_direct_pardiso\n",
      "Info: Found successful session \"LinslvPerfSer\tBottiPietroStokes2D-J576_p5_classic_pardiso\t03/22/2022 09:14:55\t966e1e27...\" -- job is marked as successful, no further action.\n",
      "No submission, because job status is: FinishedSuccessful\n",
      " Submitting: BottiPietroStokes2D-J1024_p5_direct_pardiso\n",
      "Info: Found successful session \"LinslvPerfSer\tBottiPietroStokes2D-J1024_p5_classic_pardiso\t03/22/2022 09:15:35\t37714c2b...\" -- job is marked as successful, no further action.\n",
      "No submission, because job status is: FinishedSuccessful\n",
      " Submitting: BottiPietroStokes2D-J2304_p5_direct_pardiso\n",
      "Info: Found successful session \"LinslvPerfSer\tBottiPietroStokes2D-J2304_p5_classic_pardiso\t03/22/2022 09:16:17\tc6eacae3...\" -- job is marked as successful, no further action.\n",
      "No submission, because job status is: FinishedSuccessful\n",
      " Submitting: BottiPietroStokes2D-J4096_p5_direct_pardiso\n",
      "Info: Found successful session \"LinslvPerfSer\tBottiPietroStokes2D-J4096_p5_classic_pardiso\t03/22/2022 09:17:01\t7a3d346a...\" -- job is marked as successful, no further action.\n",
      "No submission, because job status is: FinishedSuccessful\n",
      " Submitting: BottiPietroStokes2D-J16384_p5_direct_pardiso\n",
      "Info: Found successful session \"LinslvPerfSer\tBottiPietroStokes2D-J16384_p5_classic_pardiso\t03/22/2022 09:17:43\taccdf092...\" -- job is marked as successful, no further action.\n",
      "No submission, because job status is: FinishedSuccessful\n",
      " Submitting: BottiPietroStokes2D-J64_p2_exp_gmres_levelpmg\n",
      "Info: Found successful session \"LinslvPerfSer\tBottiPietroStokes2D-J64_p2_exp_gmres_levelpmg\t03/22/2022 09:18:28\t39c70f44...\" -- job is marked as successful, no further action.\n",
      "No submission, because job status is: FinishedSuccessful\n",
      " Submitting: BottiPietroStokes2D-J256_p2_exp_gmres_levelpmg\n",
      "Info: Found successful session \"LinslvPerfSer\tBottiPietroStokes2D-J256_p2_exp_gmres_levelpmg\t03/22/2022 09:19:11\tfc383984...\" -- job is marked as successful, no further action.\n",
      "No submission, because job status is: FinishedSuccessful\n",
      " Submitting: BottiPietroStokes2D-J576_p2_exp_gmres_levelpmg\n",
      "Info: Found successful session \"LinslvPerfSer\tBottiPietroStokes2D-J576_p2_exp_gmres_levelpmg\t03/22/2022 09:19:58\t2d01ab34...\" -- job is marked as successful, no further action.\n",
      "No submission, because job status is: FinishedSuccessful\n",
      " Submitting: BottiPietroStokes2D-J1024_p2_exp_gmres_levelpmg\n",
      "Info: Found successful session \"LinslvPerfSer\tBottiPietroStokes2D-J1024_p2_exp_gmres_levelpmg\t03/22/2022 09:20:42\t35453cff...\" -- job is marked as successful, no further action.\n"
     ]
    },
    {
     "name": "stdout",
     "output_type": "stream",
     "text": [
      "No submission, because job status is: FinishedSuccessful\n",
      " Submitting: BottiPietroStokes2D-J2304_p2_exp_gmres_levelpmg\n",
      "Info: Found successful session \"LinslvPerfSer\tBottiPietroStokes2D-J2304_p2_exp_gmres_levelpmg\t03/22/2022 09:21:27\tb07d3bf8...\" -- job is marked as successful, no further action.\n",
      "No submission, because job status is: FinishedSuccessful\n",
      " Submitting: BottiPietroStokes2D-J4096_p2_exp_gmres_levelpmg\n",
      "Info: Found successful session \"LinslvPerfSer\tBottiPietroStokes2D-J4096_p2_exp_gmres_levelpmg\t03/22/2022 09:22:12\td959a9ac...\" -- job is marked as successful, no further action.\n",
      "No submission, because job status is: FinishedSuccessful\n",
      " Submitting: BottiPietroStokes2D-J16384_p2_exp_gmres_levelpmg\n",
      "Info: Found successful session \"LinslvPerfSer\tBottiPietroStokes2D-J16384_p2_exp_gmres_levelpmg\t03/22/2022 09:22:59\tee54b27a...\" -- job is marked as successful, no further action.\n",
      "No submission, because job status is: FinishedSuccessful\n",
      " Submitting: BottiPietroStokes2D-J36864_p2_exp_gmres_levelpmg\n",
      "Info: Found successful session \"LinslvPerfSer\tBottiPietroStokes2D-J36864_p2_exp_gmres_levelpmg\t03/22/2022 09:23:48\t7119112f...\" -- job is marked as successful, no further action.\n",
      "No submission, because job status is: FinishedSuccessful\n",
      " Submitting: BottiPietroStokes2D-J65536_p2_exp_gmres_levelpmg\n",
      "Info: Found successful session \"LinslvPerfSer\tBottiPietroStokes2D-J65536_p2_exp_gmres_levelpmg\t03/22/2022 09:24:36\t7da1f155...\" -- job is marked as successful, no further action.\n",
      "No submission, because job status is: FinishedSuccessful\n",
      " Submitting: BottiPietroStokes2D-J147456_p2_exp_gmres_levelpmg\n",
      "Info: Found successful session \"LinslvPerfSer\tBottiPietroStokes2D-J147456_p2_exp_gmres_levelpmg\t03/22/2022 09:25:25\tb633bd65...\" -- job is marked as successful, no further action.\n",
      "No submission, because job status is: FinishedSuccessful\n",
      " Submitting: BottiPietroStokes2D-J64_p3_exp_gmres_levelpmg\n",
      "Info: Found successful session \"LinslvPerfSer\tBottiPietroStokes2D-J64_p3_exp_gmres_levelpmg\t03/22/2022 09:26:13\te0220e05...\" -- job is marked as successful, no further action.\n",
      "No submission, because job status is: FinishedSuccessful\n",
      " Submitting: BottiPietroStokes2D-J256_p3_exp_gmres_levelpmg\n",
      "Info: Found successful session \"LinslvPerfSer\tBottiPietroStokes2D-J256_p3_exp_gmres_levelpmg\t03/22/2022 09:27:01\ta5e63760...\" -- job is marked as successful, no further action.\n",
      "No submission, because job status is: FinishedSuccessful\n",
      " Submitting: BottiPietroStokes2D-J576_p3_exp_gmres_levelpmg\n",
      "Info: Found successful session \"LinslvPerfSer\tBottiPietroStokes2D-J576_p3_exp_gmres_levelpmg\t03/22/2022 09:27:50\te2000e35...\" -- job is marked as successful, no further action.\n",
      "No submission, because job status is: FinishedSuccessful\n",
      " Submitting: BottiPietroStokes2D-J1024_p3_exp_gmres_levelpmg\n",
      "Info: Found successful session \"LinslvPerfSer\tBottiPietroStokes2D-J1024_p3_exp_gmres_levelpmg\t03/22/2022 09:28:41\t9af23e11...\" -- job is marked as successful, no further action.\n",
      "No submission, because job status is: FinishedSuccessful\n",
      " Submitting: BottiPietroStokes2D-J2304_p3_exp_gmres_levelpmg\n",
      "Info: Found successful session \"LinslvPerfSer\tBottiPietroStokes2D-J2304_p3_exp_gmres_levelpmg\t03/22/2022 09:29:31\tb7d97687...\" -- job is marked as successful, no further action.\n",
      "No submission, because job status is: FinishedSuccessful\n",
      " Submitting: BottiPietroStokes2D-J4096_p3_exp_gmres_levelpmg\n",
      "Info: Found successful session \"LinslvPerfSer\tBottiPietroStokes2D-J4096_p3_exp_gmres_levelpmg\t03/22/2022 09:30:22\tfb692dc9...\" -- job is marked as successful, no further action.\n",
      "No submission, because job status is: FinishedSuccessful\n",
      " Submitting: BottiPietroStokes2D-J16384_p3_exp_gmres_levelpmg\n",
      "Info: Found successful session \"LinslvPerfSer\tBottiPietroStokes2D-J16384_p3_exp_gmres_levelpmg\t03/22/2022 09:31:11\t102aa368...\" -- job is marked as successful, no further action.\n",
      "No submission, because job status is: FinishedSuccessful\n",
      " Submitting: BottiPietroStokes2D-J36864_p3_exp_gmres_levelpmg\n",
      "Info: Found successful session \"LinslvPerfSer\tBottiPietroStokes2D-J36864_p3_exp_gmres_levelpmg\t03/22/2022 09:32:07\t2412d18d...\" -- job is marked as successful, no further action.\n",
      "No submission, because job status is: FinishedSuccessful\n",
      " Submitting: BottiPietroStokes2D-J65536_p3_exp_gmres_levelpmg\n",
      "Info: Found successful session \"LinslvPerfSer\tBottiPietroStokes2D-J65536_p3_exp_gmres_levelpmg\t03/22/2022 09:32:57\t9f58b0f6...\" -- job is marked as successful, no further action.\n",
      "No submission, because job status is: FinishedSuccessful\n",
      " Submitting: BottiPietroStokes2D-J64_p5_exp_gmres_levelpmg\n",
      "Note: Job was deployed (1) number of times, all failed.\n",
      "Hint: want to re-activate the job.\n",
      "No submission, because job status is: FailedOrCanceled\n",
      " Submitting: BottiPietroStokes2D-J256_p5_exp_gmres_levelpmg\n",
      "Note: Job was deployed (1) number of times, all failed.\n",
      "Hint: want to re-activate the job.\n",
      "No submission, because job status is: FailedOrCanceled\n",
      " Submitting: BottiPietroStokes2D-J576_p5_exp_gmres_levelpmg\n",
      "Note: Job was deployed (1) number of times, all failed.\n",
      "Hint: want to re-activate the job.\n",
      "No submission, because job status is: FailedOrCanceled\n",
      " Submitting: BottiPietroStokes2D-J1024_p5_exp_gmres_levelpmg\n",
      "Note: Job was deployed (1) number of times, all failed.\n",
      "Hint: want to re-activate the job.\n",
      "No submission, because job status is: FailedOrCanceled\n",
      " Submitting: BottiPietroStokes2D-J2304_p5_exp_gmres_levelpmg\n",
      "Note: Job was deployed (1) number of times, all failed.\n",
      "Hint: want to re-activate the job.\n",
      "No submission, because job status is: FailedOrCanceled\n",
      " Submitting: BottiPietroStokes2D-J4096_p5_exp_gmres_levelpmg\n",
      "Note: Job was deployed (1) number of times, all failed.\n",
      "Hint: want to re-activate the job.\n",
      "No submission, because job status is: FailedOrCanceled\n",
      " Submitting: BottiPietroStokes2D-J16384_p5_exp_gmres_levelpmg\n",
      "Note: Job was deployed (1) number of times, all failed.\n",
      "Hint: want to re-activate the job.\n",
      "No submission, because job status is: FailedOrCanceled\n",
      " Submitting: BottiPietroStokes2D-J36864_p5_exp_gmres_levelpmg\n",
      "Note: Job was deployed (1) number of times, all failed.\n",
      "Hint: want to re-activate the job.\n",
      "No submission, because job status is: FailedOrCanceled\n",
      " Submitting: BottiPietroStokes2D-J64_p2_exp_Kcycle_schwarz\n",
      "Info: Found successful session \"LinslvPerfSer\tBottiPietroStokes2D-J64_p2_exp_Kcycle_schwarz\t03/22/2022 09:41:08\t9ccf6d09...\" -- job is marked as successful, no further action.\n",
      "No submission, because job status is: FinishedSuccessful\n",
      " Submitting: BottiPietroStokes2D-J256_p2_exp_Kcycle_schwarz\n",
      "Info: Found successful session \"LinslvPerfSer\tBottiPietroStokes2D-J256_p2_exp_Kcycle_schwarz\t03/22/2022 09:42:06\t7ad37d59...\" -- job is marked as successful, no further action.\n",
      "No submission, because job status is: FinishedSuccessful\n",
      " Submitting: BottiPietroStokes2D-J576_p2_exp_Kcycle_schwarz\n",
      "Info: Found successful session \"LinslvPerfSer\tBottiPietroStokes2D-J576_p2_exp_Kcycle_schwarz\t03/22/2022 09:43:07\taa9232d2...\" -- job is marked as successful, no further action.\n",
      "No submission, because job status is: FinishedSuccessful\n",
      " Submitting: BottiPietroStokes2D-J1024_p2_exp_Kcycle_schwarz\n",
      "Info: Found successful session \"LinslvPerfSer\tBottiPietroStokes2D-J1024_p2_exp_Kcycle_schwarz\t03/22/2022 09:44:08\t938cb0cc...\" -- job is marked as successful, no further action.\n",
      "No submission, because job status is: FinishedSuccessful\n",
      " Submitting: BottiPietroStokes2D-J2304_p2_exp_Kcycle_schwarz\n",
      "Info: Found successful session \"LinslvPerfSer\tBottiPietroStokes2D-J2304_p2_exp_Kcycle_schwarz\t03/22/2022 09:45:12\t7be180f9...\" -- job is marked as successful, no further action.\n",
      "No submission, because job status is: FinishedSuccessful\n",
      " Submitting: BottiPietroStokes2D-J4096_p2_exp_Kcycle_schwarz\n",
      "Info: Found successful session \"LinslvPerfSer\tBottiPietroStokes2D-J4096_p2_exp_Kcycle_schwarz\t03/22/2022 09:46:16\tff50001f...\" -- job is marked as successful, no further action.\n",
      "No submission, because job status is: FinishedSuccessful\n",
      " Submitting: BottiPietroStokes2D-J16384_p2_exp_Kcycle_schwarz\n",
      "Info: Found successful session \"LinslvPerfSer\tBottiPietroStokes2D-J16384_p2_exp_Kcycle_schwarz\t03/22/2022 09:47:19\tbd241e71...\" -- job is marked as successful, no further action.\n",
      "No submission, because job status is: FinishedSuccessful\n"
     ]
    },
    {
     "name": "stdout",
     "output_type": "stream",
     "text": [
      " Submitting: BottiPietroStokes2D-J36864_p2_exp_Kcycle_schwarz\n",
      "Info: Found successful session \"LinslvPerfSer\tBottiPietroStokes2D-J36864_p2_exp_Kcycle_schwarz\t03/22/2022 09:48:22\t668ba7b9...\" -- job is marked as successful, no further action.\n",
      "No submission, because job status is: FinishedSuccessful\n",
      " Submitting: BottiPietroStokes2D-J65536_p2_exp_Kcycle_schwarz\n",
      "Info: Found successful session \"LinslvPerfSer\tBottiPietroStokes2D-J65536_p2_exp_Kcycle_schwarz\t03/22/2022 09:49:24\t2225a68d...\" -- job is marked as successful, no further action.\n",
      "No submission, because job status is: FinishedSuccessful\n",
      " Submitting: BottiPietroStokes2D-J147456_p2_exp_Kcycle_schwarz\n"
     ]
    },
    {
     "name": "stderr",
     "output_type": "stream",
     "text": [
      "IOException during Job.Deployment status evaluation: job.exe view 418823  /scheduler:DC2 exited with code 1\n",
      "\n",
      "Microsoft.Hpc.Scheduler.Properties.SchedulerException: The specified Job ID is not valid. Check your Job ID and try again.\n",
      "   at Microsoft.Hpc.Scheduler.Store.StoreServer.CallServerFuncWithErrorHandling(Func`1 action, Boolean asyncReconnect)\n",
      "   at Microsoft.Hpc.Scheduler.Store.SchedulerStoreSvc.OpenJob(Int32 jobid)\n",
      "   at CliTools.ViewJob.Execute(List`1 args)\n",
      "   at CliTools.CommandVerbList.Execute(List`1 args)\n",
      "   at CliTools.Program.RunList(CommandVerbList list, String[] args)\n",
      "\n",
      "IOException during Job.Deployment status evaluation: job.exe view 418823  /scheduler:DC2 exited with code 1\n",
      "\n",
      "Microsoft.Hpc.Scheduler.Properties.SchedulerException: The specified Job ID is not valid. Check your Job ID and try again.\n",
      "   at Microsoft.Hpc.Scheduler.Store.StoreServer.CallServerFuncWithErrorHandling(Func`1 action, Boolean asyncReconnect)\n",
      "   at Microsoft.Hpc.Scheduler.Store.SchedulerStoreSvc.OpenJob(Int32 jobid)\n",
      "   at CliTools.ViewJob.Execute(List`1 args)\n",
      "   at CliTools.CommandVerbList.Execute(List`1 args)\n",
      "   at CliTools.Program.RunList(CommandVerbList list, String[] args)\n",
      "\n"
     ]
    },
    {
     "name": "stdout",
     "output_type": "stream",
     "text": [
      "Info: Found successful session \"LinslvPerfSer\tBottiPietroStokes2D-J147456_p2_exp_Kcycle_schwarz\t03/22/2022 09:50:29\t3ceef9bd...\" -- job is marked as successful, no further action.\n",
      "No submission, because job status is: FinishedSuccessful\n",
      " Submitting: BottiPietroStokes2D-J64_p3_exp_Kcycle_schwarz\n",
      "Info: Found successful session \"LinslvPerfSer\tBottiPietroStokes2D-J64_p3_exp_Kcycle_schwarz\t03/22/2022 09:51:33\t093722e4...\" -- job is marked as successful, no further action.\n",
      "No submission, because job status is: FinishedSuccessful\n",
      " Submitting: BottiPietroStokes2D-J256_p3_exp_Kcycle_schwarz\n",
      "Info: Found successful session \"LinslvPerfSer\tBottiPietroStokes2D-J256_p3_exp_Kcycle_schwarz\t03/22/2022 09:52:35\t3408df26...\" -- job is marked as successful, no further action.\n",
      "No submission, because job status is: FinishedSuccessful\n",
      " Submitting: BottiPietroStokes2D-J576_p3_exp_Kcycle_schwarz\n",
      "Info: Found successful session \"LinslvPerfSer\tBottiPietroStokes2D-J576_p3_exp_Kcycle_schwarz\t03/22/2022 09:53:38\t302ffcbd...\" -- job is marked as successful, no further action.\n",
      "No submission, because job status is: FinishedSuccessful\n",
      " Submitting: BottiPietroStokes2D-J1024_p3_exp_Kcycle_schwarz\n",
      "Info: Found successful session \"LinslvPerfSer\tBottiPietroStokes2D-J1024_p3_exp_Kcycle_schwarz\t03/22/2022 09:54:41\td72f6588...\" -- job is marked as successful, no further action.\n",
      "No submission, because job status is: FinishedSuccessful\n",
      " Submitting: BottiPietroStokes2D-J2304_p3_exp_Kcycle_schwarz\n",
      "Info: Found successful session \"LinslvPerfSer\tBottiPietroStokes2D-J2304_p3_exp_Kcycle_schwarz\t03/22/2022 09:55:42\t5da56232...\" -- job is marked as successful, no further action.\n",
      "No submission, because job status is: FinishedSuccessful\n",
      " Submitting: BottiPietroStokes2D-J4096_p3_exp_Kcycle_schwarz\n",
      "Info: Found successful session \"LinslvPerfSer\tBottiPietroStokes2D-J4096_p3_exp_Kcycle_schwarz\t03/22/2022 09:56:47\t79608a58...\" -- job is marked as successful, no further action.\n",
      "No submission, because job status is: FinishedSuccessful\n",
      " Submitting: BottiPietroStokes2D-J16384_p3_exp_Kcycle_schwarz\n",
      "Info: Found successful session \"LinslvPerfSer\tBottiPietroStokes2D-J16384_p3_exp_Kcycle_schwarz\t03/22/2022 09:57:54\tc54ac101...\" -- job is marked as successful, no further action.\n",
      "No submission, because job status is: FinishedSuccessful\n",
      " Submitting: BottiPietroStokes2D-J36864_p3_exp_Kcycle_schwarz\n",
      "Info: Found successful session \"LinslvPerfSer\tBottiPietroStokes2D-J36864_p3_exp_Kcycle_schwarz\t03/22/2022 09:59:02\t0a438ab2...\" -- job is marked as successful, no further action.\n",
      "No submission, because job status is: FinishedSuccessful\n",
      " Submitting: BottiPietroStokes2D-J65536_p3_exp_Kcycle_schwarz\n",
      "Info: Found successful session \"LinslvPerfSer\tBottiPietroStokes2D-J65536_p3_exp_Kcycle_schwarz\t03/22/2022 10:00:08\t70c75b90...\" -- job is marked as successful, no further action.\n",
      "No submission, because job status is: FinishedSuccessful\n",
      " Submitting: BottiPietroStokes2D-J64_p5_exp_Kcycle_schwarz\n",
      "Info: Found successful session \"LinslvPerfSer\tBottiPietroStokes2D-J64_p5_exp_Kcycle_schwarz\t03/22/2022 10:01:14\t29387f82...\" -- job is marked as successful, no further action.\n",
      "No submission, because job status is: FinishedSuccessful\n",
      " Submitting: BottiPietroStokes2D-J256_p5_exp_Kcycle_schwarz\n",
      "Info: Found successful session \"LinslvPerfSer\tBottiPietroStokes2D-J256_p5_exp_Kcycle_schwarz\t03/22/2022 10:02:26\t879568f7...\" -- job is marked as successful, no further action.\n",
      "No submission, because job status is: FinishedSuccessful\n",
      " Submitting: BottiPietroStokes2D-J576_p5_exp_Kcycle_schwarz\n",
      "Info: Found successful session \"LinslvPerfSer\tBottiPietroStokes2D-J576_p5_exp_Kcycle_schwarz\t03/22/2022 10:03:33\tf6077e2b...\" -- job is marked as successful, no further action.\n",
      "No submission, because job status is: FinishedSuccessful\n",
      " Submitting: BottiPietroStokes2D-J1024_p5_exp_Kcycle_schwarz\n",
      "Info: Found successful session \"LinslvPerfSer\tBottiPietroStokes2D-J1024_p5_exp_Kcycle_schwarz\t03/22/2022 10:04:43\t6f2eb8fe...\" -- job is marked as successful, no further action.\n",
      "No submission, because job status is: FinishedSuccessful\n",
      " Submitting: BottiPietroStokes2D-J2304_p5_exp_Kcycle_schwarz\n",
      "Info: Found successful session \"LinslvPerfSer\tBottiPietroStokes2D-J2304_p5_exp_Kcycle_schwarz\t03/22/2022 10:05:49\t9ae0a79d...\" -- job is marked as successful, no further action.\n",
      "No submission, because job status is: FinishedSuccessful\n",
      " Submitting: BottiPietroStokes2D-J4096_p5_exp_Kcycle_schwarz\n",
      "Info: Found successful session \"LinslvPerfSer\tBottiPietroStokes2D-J4096_p5_exp_Kcycle_schwarz\t03/22/2022 10:06:55\t8717907c...\" -- job is marked as successful, no further action.\n",
      "No submission, because job status is: FinishedSuccessful\n",
      " Submitting: BottiPietroStokes2D-J16384_p5_exp_Kcycle_schwarz\n",
      "Info: Found successful session \"LinslvPerfSer\tBottiPietroStokes2D-J16384_p5_exp_Kcycle_schwarz\t03/22/2022 10:08:10\tc661e5f7...\" -- job is marked as successful, no further action.\n",
      "No submission, because job status is: FinishedSuccessful\n",
      " Submitting: BottiPietroStokes2D-J36864_p5_exp_Kcycle_schwarz\n",
      "Info: Found successful session \"LinslvPerfSer\tBottiPietroStokes2D-J36864_p5_exp_Kcycle_schwarz\t03/22/2022 10:09:19\t30be2b57...\" -- job is marked as successful, no further action.\n",
      "No submission, because job status is: FinishedSuccessful\n",
      " Submitting: BottiPietroStokes2D-J64_p2_pMultigrid\n",
      "Info: Found successful session \"LinslvPerfSer\tBottiPietroStokes2D-J64_p2_pMultigrid\t03/22/2022 10:10:36\tf4b095f9...\" -- job is marked as successful, no further action.\n",
      "No submission, because job status is: FinishedSuccessful\n",
      " Submitting: BottiPietroStokes2D-J256_p2_pMultigrid\n",
      "Info: Found successful session \"LinslvPerfSer\tBottiPietroStokes2D-J256_p2_pMultigrid\t03/22/2022 10:11:48\t7798d5db...\" -- job is marked as successful, no further action.\n",
      "No submission, because job status is: FinishedSuccessful\n",
      " Submitting: BottiPietroStokes2D-J576_p2_pMultigrid\n",
      "Info: Found successful session \"LinslvPerfSer\tBottiPietroStokes2D-J576_p2_pMultigrid\t03/22/2022 10:13:04\tb6666d2f...\" -- job is marked as successful, no further action.\n",
      "No submission, because job status is: FinishedSuccessful\n",
      " Submitting: BottiPietroStokes2D-J1024_p2_pMultigrid\n",
      "Info: Found successful session \"LinslvPerfSer\tBottiPietroStokes2D-J1024_p2_pMultigrid\t03/22/2022 10:14:14\t28445011...\" -- job is marked as successful, no further action.\n",
      "No submission, because job status is: FinishedSuccessful\n",
      " Submitting: BottiPietroStokes2D-J2304_p2_pMultigrid\n",
      "Note: Job was deployed (1) number of times, all failed.\n",
      "Hint: want to re-activate the job.\n",
      "No submission, because job status is: FailedOrCanceled\n",
      " Submitting: BottiPietroStokes2D-J4096_p2_pMultigrid\n",
      "Info: Found successful session \"LinslvPerfSer\tBottiPietroStokes2D-J4096_p2_pMultigrid\t03/22/2022 10:16:43\t49df4134...\" -- job is marked as successful, no further action.\n",
      "No submission, because job status is: FinishedSuccessful\n",
      " Submitting: BottiPietroStokes2D-J16384_p2_pMultigrid\n",
      "Note: Job was deployed (1) number of times, all failed.\n",
      "Hint: want to re-activate the job.\n",
      "No submission, because job status is: FailedOrCanceled\n",
      " Submitting: BottiPietroStokes2D-J36864_p2_pMultigrid\n",
      "Note: Job was deployed (1) number of times, all failed.\n",
      "Hint: want to re-activate the job.\n",
      "No submission, because job status is: FailedOrCanceled\n",
      " Submitting: BottiPietroStokes2D-J65536_p2_pMultigrid\n",
      "Note: Job was deployed (1) number of times, all failed.\n",
      "Hint: want to re-activate the job.\n",
      "No submission, because job status is: FailedOrCanceled\n",
      " Submitting: BottiPietroStokes2D-J147456_p2_pMultigrid\n",
      "Note: Job was deployed (1) number of times, all failed.\n",
      "Hint: want to re-activate the job.\n",
      "No submission, because job status is: FailedOrCanceled\n",
      " Submitting: BottiPietroStokes2D-J64_p3_pMultigrid\n",
      "Info: Found successful session \"LinslvPerfSer\tBottiPietroStokes2D-J64_p3_pMultigrid\t03/22/2022 10:23:04\t1e578ec9...\" -- job is marked as successful, no further action.\n",
      "No submission, because job status is: FinishedSuccessful\n",
      " Submitting: BottiPietroStokes2D-J256_p3_pMultigrid\n",
      "Info: Found successful session \"LinslvPerfSer\tBottiPietroStokes2D-J256_p3_pMultigrid\t03/22/2022 10:24:20\t38164d12...\" -- job is marked as successful, no further action.\n",
      "No submission, because job status is: FinishedSuccessful\n"
     ]
    },
    {
     "name": "stdout",
     "output_type": "stream",
     "text": [
      " Submitting: BottiPietroStokes2D-J576_p3_pMultigrid\n",
      "Info: Found successful session \"LinslvPerfSer\tBottiPietroStokes2D-J576_p3_pMultigrid\t03/22/2022 10:25:35\tf3deb8ce...\" -- job is marked as successful, no further action.\n",
      "No submission, because job status is: FinishedSuccessful\n",
      " Submitting: BottiPietroStokes2D-J1024_p3_pMultigrid\n",
      "Info: Found successful session \"LinslvPerfSer\tBottiPietroStokes2D-J1024_p3_pMultigrid\t03/22/2022 10:26:53\t21a4be20...\" -- job is marked as successful, no further action.\n",
      "No submission, because job status is: FinishedSuccessful\n",
      " Submitting: BottiPietroStokes2D-J2304_p3_pMultigrid\n",
      "Info: Found successful session \"LinslvPerfSer\tBottiPietroStokes2D-J2304_p3_pMultigrid\t03/22/2022 10:28:11\t4f804b8d...\" -- job is marked as successful, no further action.\n",
      "No submission, because job status is: FinishedSuccessful\n",
      " Submitting: BottiPietroStokes2D-J4096_p3_pMultigrid\n",
      "Info: Found successful session \"LinslvPerfSer\tBottiPietroStokes2D-J4096_p3_pMultigrid\t03/22/2022 10:29:32\teac11755...\" -- job is marked as successful, no further action.\n",
      "No submission, because job status is: FinishedSuccessful\n",
      " Submitting: BottiPietroStokes2D-J16384_p3_pMultigrid\n",
      "Info: Found successful session \"LinslvPerfSer\tBottiPietroStokes2D-J16384_p3_pMultigrid\t03/22/2022 10:30:51\td8b36c33...\" -- job is marked as successful, no further action.\n",
      "No submission, because job status is: FinishedSuccessful\n",
      " Submitting: BottiPietroStokes2D-J36864_p3_pMultigrid\n",
      "Info: Found successful session \"LinslvPerfSer\tBottiPietroStokes2D-J36864_p3_pMultigrid\t03/22/2022 10:32:10\t5d24034d...\" -- job is marked as successful, no further action.\n",
      "No submission, because job status is: FinishedSuccessful\n",
      " Submitting: BottiPietroStokes2D-J65536_p3_pMultigrid\n",
      "Info: Found successful session \"LinslvPerfSer\tBottiPietroStokes2D-J65536_p3_pMultigrid\t03/22/2022 10:33:32\t2f2b4f9d...\" -- job is marked as successful, no further action.\n",
      "No submission, because job status is: FinishedSuccessful\n",
      " Submitting: BottiPietroStokes2D-J64_p5_pMultigrid\n",
      "Info: Found successful session \"LinslvPerfSer\tBottiPietroStokes2D-J64_p5_pMultigrid\t03/22/2022 10:34:55\t78954d2d...\" -- job is marked as successful, no further action.\n",
      "No submission, because job status is: FinishedSuccessful\n",
      " Submitting: BottiPietroStokes2D-J256_p5_pMultigrid\n",
      "Info: Found successful session \"LinslvPerfSer\tBottiPietroStokes2D-J256_p5_pMultigrid\t03/22/2022 10:36:14\t7bcaaa66...\" -- job is marked as successful, no further action.\n",
      "No submission, because job status is: FinishedSuccessful\n",
      " Submitting: BottiPietroStokes2D-J576_p5_pMultigrid\n",
      "Info: Found successful session \"LinslvPerfSer\tBottiPietroStokes2D-J576_p5_pMultigrid\t03/22/2022 10:37:38\t7e0fd87a...\" -- job is marked as successful, no further action.\n",
      "No submission, because job status is: FinishedSuccessful\n",
      " Submitting: BottiPietroStokes2D-J1024_p5_pMultigrid\n",
      "Info: Found successful session \"LinslvPerfSer\tBottiPietroStokes2D-J1024_p5_pMultigrid\t03/22/2022 10:39:01\t2a366a93...\" -- job is marked as successful, no further action.\n",
      "No submission, because job status is: FinishedSuccessful\n",
      " Submitting: BottiPietroStokes2D-J2304_p5_pMultigrid\n",
      "Info: Found successful session \"LinslvPerfSer\tBottiPietroStokes2D-J2304_p5_pMultigrid\t03/22/2022 10:40:24\t3220485a...\" -- job is marked as successful, no further action.\n",
      "No submission, because job status is: FinishedSuccessful\n",
      " Submitting: BottiPietroStokes2D-J4096_p5_pMultigrid\n",
      "Info: Found successful session \"LinslvPerfSer\tBottiPietroStokes2D-J4096_p5_pMultigrid\t03/22/2022 10:41:45\t56787bd9...\" -- job is marked as successful, no further action.\n",
      "No submission, because job status is: FinishedSuccessful\n",
      " Submitting: BottiPietroStokes2D-J16384_p5_pMultigrid\n",
      "Info: Found successful session \"LinslvPerfSer\tBottiPietroStokes2D-J16384_p5_pMultigrid\t03/22/2022 10:43:08\t4ff4e50b...\" -- job is marked as successful, no further action.\n",
      "No submission, because job status is: FinishedSuccessful\n",
      " Submitting: BottiPietroStokes2D-J36864_p5_pMultigrid\n",
      "Info: Found successful session \"LinslvPerfSer\tBottiPietroStokes2D-J36864_p5_pMultigrid\t03/22/2022 10:44:32\tc77f417c...\" -- job is marked as successful, no further action.\n",
      "No submission, because job status is: FinishedSuccessful\n"
     ]
    }
   ],
   "source": [
    "foreach(var ctrl in controls) {\n",
    "    Console.WriteLine(\" Submitting: \" + ctrl.SessionName); \n",
    "    ctrl.RunBatch();\n",
    "}"
   ]
  },
  {
   "cell_type": "code",
   "execution_count": 33,
   "metadata": {},
   "outputs": [
    {
     "data": {
      "text/plain": []
     },
     "execution_count": 33,
     "metadata": {},
     "output_type": "execute_result"
    }
   ],
   "source": [
    "wmg.AllJobs"
   ]
  },
  {
   "cell_type": "markdown",
   "metadata": {},
   "source": [
    "### Wait for Completion and Check Job Status"
   ]
  },
  {
   "cell_type": "code",
   "execution_count": 27,
   "metadata": {},
   "outputs": [
    {
     "name": "stdout",
     "output_type": "stream",
     "text": [
      "All jobs finished.\r\n"
     ]
    }
   ],
   "source": [
    "wmg.BlockUntilAllJobsTerminate(3600*24*2); // wait at maximum two days for the jobs to finish"
   ]
  },
  {
   "cell_type": "code",
   "execution_count": 28,
   "metadata": {},
   "outputs": [
    {
     "data": {
      "text/plain": [
       "#0: BottiPietroStokes2D-J64_p2_direct_pardiso: FinishedSuccessful (MS HPC client  MSHPC-AllNodes @DC2, @\\\\fdygitrunner\\ValidationTests)\tBottiPietroStokes2D-J64_p2_direct_pardiso: FinishedSuccessful (MS HPC client  MSHPC-AllNodes @DC2, @\\\\fdygitrunner\\ValidationTests)\r\n",
       "#1: BottiPietroStokes2D-J256_p2_direct_pardiso: FinishedSuccessful (MS HPC client  MSHPC-AllNodes @DC2, @\\\\fdygitrunner\\ValidationTests)\tBottiPietroStokes2D-J256_p2_direct_pardiso: FinishedSuccessful (MS HPC client  MSHPC-AllNodes @DC2, @\\\\fdygitrunner\\ValidationTests)\r\n",
       "#2: BottiPietroStokes2D-J576_p2_direct_pardiso: FinishedSuccessful (MS HPC client  MSHPC-AllNodes @DC2, @\\\\fdygitrunner\\ValidationTests)\tBottiPietroStokes2D-J576_p2_direct_pardiso: FinishedSuccessful (MS HPC client  MSHPC-AllNodes @DC2, @\\\\fdygitrunner\\ValidationTests)\r\n",
       "#3: BottiPietroStokes2D-J1024_p2_direct_pardiso: FinishedSuccessful (MS HPC client  MSHPC-AllNodes @DC2, @\\\\fdygitrunner\\ValidationTests)\tBottiPietroStokes2D-J1024_p2_direct_pardiso: FinishedSuccessful (MS HPC client  MSHPC-AllNodes @DC2, @\\\\fdygitrunner\\ValidationTests)\r\n",
       "#4: BottiPietroStokes2D-J2304_p2_direct_pardiso: FinishedSuccessful (MS HPC client  MSHPC-AllNodes @DC2, @\\\\fdygitrunner\\ValidationTests)\tBottiPietroStokes2D-J2304_p2_direct_pardiso: FinishedSuccessful (MS HPC client  MSHPC-AllNodes @DC2, @\\\\fdygitrunner\\ValidationTests)\r\n",
       "#5: BottiPietroStokes2D-J4096_p2_direct_pardiso: FinishedSuccessful (MS HPC client  MSHPC-AllNodes @DC2, @\\\\fdygitrunner\\ValidationTests)\tBottiPietroStokes2D-J4096_p2_direct_pardiso: FinishedSuccessful (MS HPC client  MSHPC-AllNodes @DC2, @\\\\fdygitrunner\\ValidationTests)\r\n",
       "#6: BottiPietroStokes2D-J16384_p2_direct_pardiso: FinishedSuccessful (MS HPC client  MSHPC-AllNodes @DC2, @\\\\fdygitrunner\\ValidationTests)\tBottiPietroStokes2D-J16384_p2_direct_pardiso: FinishedSuccessful (MS HPC client  MSHPC-AllNodes @DC2, @\\\\fdygitrunner\\ValidationTests)\r\n",
       "#7: BottiPietroStokes2D-J36864_p2_direct_pardiso: FinishedSuccessful (MS HPC client  MSHPC-AllNodes @DC2, @\\\\fdygitrunner\\ValidationTests)\tBottiPietroStokes2D-J36864_p2_direct_pardiso: FinishedSuccessful (MS HPC client  MSHPC-AllNodes @DC2, @\\\\fdygitrunner\\ValidationTests)\r\n",
       "#8: BottiPietroStokes2D-J65536_p2_direct_pardiso: FinishedSuccessful (MS HPC client  MSHPC-AllNodes @DC2, @\\\\fdygitrunner\\ValidationTests)\tBottiPietroStokes2D-J65536_p2_direct_pardiso: FinishedSuccessful (MS HPC client  MSHPC-AllNodes @DC2, @\\\\fdygitrunner\\ValidationTests)\r\n",
       "#9: BottiPietroStokes2D-J64_p3_direct_pardiso: FinishedSuccessful (MS HPC client  MSHPC-AllNodes @DC2, @\\\\fdygitrunner\\ValidationTests)\tBottiPietroStokes2D-J64_p3_direct_pardiso: FinishedSuccessful (MS HPC client  MSHPC-AllNodes @DC2, @\\\\fdygitrunner\\ValidationTests)\r\n",
       "#10: BottiPietroStokes2D-J256_p3_direct_pardiso: FinishedSuccessful (MS HPC client  MSHPC-AllNodes @DC2, @\\\\fdygitrunner\\ValidationTests)\tBottiPietroStokes2D-J256_p3_direct_pardiso: FinishedSuccessful (MS HPC client  MSHPC-AllNodes @DC2, @\\\\fdygitrunner\\ValidationTests)\r\n",
       "#11: BottiPietroStokes2D-J576_p3_direct_pardiso: FinishedSuccessful (MS HPC client  MSHPC-AllNodes @DC2, @\\\\fdygitrunner\\ValidationTests)\tBottiPietroStokes2D-J576_p3_direct_pardiso: FinishedSuccessful (MS HPC client  MSHPC-AllNodes @DC2, @\\\\fdygitrunner\\ValidationTests)\r\n",
       "#12: BottiPietroStokes2D-J1024_p3_direct_pardiso: FinishedSuccessful (MS HPC client  MSHPC-AllNodes @DC2, @\\\\fdygitrunner\\ValidationTests)\tBottiPietroStokes2D-J1024_p3_direct_pardiso: FinishedSuccessful (MS HPC client  MSHPC-AllNodes @DC2, @\\\\fdygitrunner\\ValidationTests)\r\n",
       "#13: BottiPietroStokes2D-J2304_p3_direct_pardiso: FinishedSuccessful (MS HPC client  MSHPC-AllNodes @DC2, @\\\\fdygitrunner\\ValidationTests)\tBottiPietroStokes2D-J2304_p3_direct_pardiso: FinishedSuccessful (MS HPC client  MSHPC-AllNodes @DC2, @\\\\fdygitrunner\\ValidationTests)\r\n",
       "#14: BottiPietroStokes2D-J4096_p3_direct_pardiso: FinishedSuccessful (MS HPC client  MSHPC-AllNodes @DC2, @\\\\fdygitrunner\\ValidationTests)\tBottiPietroStokes2D-J4096_p3_direct_pardiso: FinishedSuccessful (MS HPC client  MSHPC-AllNodes @DC2, @\\\\fdygitrunner\\ValidationTests)\r\n",
       "#15: BottiPietroStokes2D-J16384_p3_direct_pardiso: FinishedSuccessful (MS HPC client  MSHPC-AllNodes @DC2, @\\\\fdygitrunner\\ValidationTests)\tBottiPietroStokes2D-J16384_p3_direct_pardiso: FinishedSuccessful (MS HPC client  MSHPC-AllNodes @DC2, @\\\\fdygitrunner\\ValidationTests)\r\n",
       "#16: BottiPietroStokes2D-J36864_p3_direct_pardiso: FinishedSuccessful (MS HPC client  MSHPC-AllNodes @DC2, @\\\\fdygitrunner\\ValidationTests)\tBottiPietroStokes2D-J36864_p3_direct_pardiso: FinishedSuccessful (MS HPC client  MSHPC-AllNodes @DC2, @\\\\fdygitrunner\\ValidationTests)\r\n",
       "#17: BottiPietroStokes2D-J64_p5_direct_pardiso: FinishedSuccessful (MS HPC client  MSHPC-AllNodes @DC2, @\\\\fdygitrunner\\ValidationTests)\tBottiPietroStokes2D-J64_p5_direct_pardiso: FinishedSuccessful (MS HPC client  MSHPC-AllNodes @DC2, @\\\\fdygitrunner\\ValidationTests)\r\n",
       "#18: BottiPietroStokes2D-J256_p5_direct_pardiso: FinishedSuccessful (MS HPC client  MSHPC-AllNodes @DC2, @\\\\fdygitrunner\\ValidationTests)\tBottiPietroStokes2D-J256_p5_direct_pardiso: FinishedSuccessful (MS HPC client  MSHPC-AllNodes @DC2, @\\\\fdygitrunner\\ValidationTests)\r\n",
       "#19: BottiPietroStokes2D-J576_p5_direct_pardiso: FinishedSuccessful (MS HPC client  MSHPC-AllNodes @DC2, @\\\\fdygitrunner\\ValidationTests)\tBottiPietroStokes2D-J576_p5_direct_pardiso: FinishedSuccessful (MS HPC client  MSHPC-AllNodes @DC2, @\\\\fdygitrunner\\ValidationTests)\r\n",
       "#20: BottiPietroStokes2D-J1024_p5_direct_pardiso: FinishedSuccessful (MS HPC client  MSHPC-AllNodes @DC2, @\\\\fdygitrunner\\ValidationTests)\tBottiPietroStokes2D-J1024_p5_direct_pardiso: FinishedSuccessful (MS HPC client  MSHPC-AllNodes @DC2, @\\\\fdygitrunner\\ValidationTests)\r\n",
       "#21: BottiPietroStokes2D-J2304_p5_direct_pardiso: FinishedSuccessful (MS HPC client  MSHPC-AllNodes @DC2, @\\\\fdygitrunner\\ValidationTests)\tBottiPietroStokes2D-J2304_p5_direct_pardiso: FinishedSuccessful (MS HPC client  MSHPC-AllNodes @DC2, @\\\\fdygitrunner\\ValidationTests)\r\n",
       "#22: BottiPietroStokes2D-J4096_p5_direct_pardiso: FinishedSuccessful (MS HPC client  MSHPC-AllNodes @DC2, @\\\\fdygitrunner\\ValidationTests)\tBottiPietroStokes2D-J4096_p5_direct_pardiso: FinishedSuccessful (MS HPC client  MSHPC-AllNodes @DC2, @\\\\fdygitrunner\\ValidationTests)\r\n",
       "#23: BottiPietroStokes2D-J16384_p5_direct_pardiso: FinishedSuccessful (MS HPC client  MSHPC-AllNodes @DC2, @\\\\fdygitrunner\\ValidationTests)\tBottiPietroStokes2D-J16384_p5_direct_pardiso: FinishedSuccessful (MS HPC client  MSHPC-AllNodes @DC2, @\\\\fdygitrunner\\ValidationTests)\r\n",
       "#24: BottiPietroStokes2D-J64_p2_exp_gmres_levelpmg: FinishedSuccessful (MS HPC client  MSHPC-AllNodes @DC2, @\\\\fdygitrunner\\ValidationTests)\tBottiPietroStokes2D-J64_p2_exp_gmres_levelpmg: FinishedSuccessful (MS HPC client  MSHPC-AllNodes @DC2, @\\\\fdygitrunner\\ValidationTests)\r\n",
       "#25: BottiPietroStokes2D-J256_p2_exp_gmres_levelpmg: FinishedSuccessful (MS HPC client  MSHPC-AllNodes @DC2, @\\\\fdygitrunner\\ValidationTests)\tBottiPietroStokes2D-J256_p2_exp_gmres_levelpmg: FinishedSuccessful (MS HPC client  MSHPC-AllNodes @DC2, @\\\\fdygitrunner\\ValidationTests)\r\n",
       "#26: BottiPietroStokes2D-J576_p2_exp_gmres_levelpmg: FinishedSuccessful (MS HPC client  MSHPC-AllNodes @DC2, @\\\\fdygitrunner\\ValidationTests)\tBottiPietroStokes2D-J576_p2_exp_gmres_levelpmg: FinishedSuccessful (MS HPC client  MSHPC-AllNodes @DC2, @\\\\fdygitrunner\\ValidationTests)\r\n",
       "#27: BottiPietroStokes2D-J1024_p2_exp_gmres_levelpmg: FinishedSuccessful (MS HPC client  MSHPC-AllNodes @DC2, @\\\\fdygitrunner\\ValidationTests)\tBottiPietroStokes2D-J1024_p2_exp_gmres_levelpmg: FinishedSuccessful (MS HPC client  MSHPC-AllNodes @DC2, @\\\\fdygitrunner\\ValidationTests)\r\n",
       "#28: BottiPietroStokes2D-J2304_p2_exp_gmres_levelpmg: FinishedSuccessful (MS HPC client  MSHPC-AllNodes @DC2, @\\\\fdygitrunner\\ValidationTests)\tBottiPietroStokes2D-J2304_p2_exp_gmres_levelpmg: FinishedSuccessful (MS HPC client  MSHPC-AllNodes @DC2, @\\\\fdygitrunner\\ValidationTests)\r\n",
       "#29: BottiPietroStokes2D-J4096_p2_exp_gmres_levelpmg: FinishedSuccessful (MS HPC client  MSHPC-AllNodes @DC2, @\\\\fdygitrunner\\ValidationTests)\tBottiPietroStokes2D-J4096_p2_exp_gmres_levelpmg: FinishedSuccessful (MS HPC client  MSHPC-AllNodes @DC2, @\\\\fdygitrunner\\ValidationTests)\r\n",
       "#30: BottiPietroStokes2D-J16384_p2_exp_gmres_levelpmg: FinishedSuccessful (MS HPC client  MSHPC-AllNodes @DC2, @\\\\fdygitrunner\\ValidationTests)\tBottiPietroStokes2D-J16384_p2_exp_gmres_levelpmg: FinishedSuccessful (MS HPC client  MSHPC-AllNodes @DC2, @\\\\fdygitrunner\\ValidationTests)\r\n",
       "#31: BottiPietroStokes2D-J36864_p2_exp_gmres_levelpmg: FinishedSuccessful (MS HPC client  MSHPC-AllNodes @DC2, @\\\\fdygitrunner\\ValidationTests)\tBottiPietroStokes2D-J36864_p2_exp_gmres_levelpmg: FinishedSuccessful (MS HPC client  MSHPC-AllNodes @DC2, @\\\\fdygitrunner\\ValidationTests)\r\n",
       "#32: BottiPietroStokes2D-J65536_p2_exp_gmres_levelpmg: FinishedSuccessful (MS HPC client  MSHPC-AllNodes @DC2, @\\\\fdygitrunner\\ValidationTests)\tBottiPietroStokes2D-J65536_p2_exp_gmres_levelpmg: FinishedSuccessful (MS HPC client  MSHPC-AllNodes @DC2, @\\\\fdygitrunner\\ValidationTests)\r\n",
       "#33: BottiPietroStokes2D-J147456_p2_exp_gmres_levelpmg: FinishedSuccessful (MS HPC client  MSHPC-AllNodes @DC2, @\\\\fdygitrunner\\ValidationTests)\tBottiPietroStokes2D-J147456_p2_exp_gmres_levelpmg: FinishedSuccessful (MS HPC client  MSHPC-AllNodes @DC2, @\\\\fdygitrunner\\ValidationTests)\r\n",
       "#34: BottiPietroStokes2D-J64_p3_exp_gmres_levelpmg: FinishedSuccessful (MS HPC client  MSHPC-AllNodes @DC2, @\\\\fdygitrunner\\ValidationTests)\tBottiPietroStokes2D-J64_p3_exp_gmres_levelpmg: FinishedSuccessful (MS HPC client  MSHPC-AllNodes @DC2, @\\\\fdygitrunner\\ValidationTests)\r\n",
       "#35: BottiPietroStokes2D-J256_p3_exp_gmres_levelpmg: FinishedSuccessful (MS HPC client  MSHPC-AllNodes @DC2, @\\\\fdygitrunner\\ValidationTests)\tBottiPietroStokes2D-J256_p3_exp_gmres_levelpmg: FinishedSuccessful (MS HPC client  MSHPC-AllNodes @DC2, @\\\\fdygitrunner\\ValidationTests)\r\n",
       "#36: BottiPietroStokes2D-J576_p3_exp_gmres_levelpmg: FinishedSuccessful (MS HPC client  MSHPC-AllNodes @DC2, @\\\\fdygitrunner\\ValidationTests)\tBottiPietroStokes2D-J576_p3_exp_gmres_levelpmg: FinishedSuccessful (MS HPC client  MSHPC-AllNodes @DC2, @\\\\fdygitrunner\\ValidationTests)\r\n",
       "#37: BottiPietroStokes2D-J1024_p3_exp_gmres_levelpmg: FinishedSuccessful (MS HPC client  MSHPC-AllNodes @DC2, @\\\\fdygitrunner\\ValidationTests)\tBottiPietroStokes2D-J1024_p3_exp_gmres_levelpmg: FinishedSuccessful (MS HPC client  MSHPC-AllNodes @DC2, @\\\\fdygitrunner\\ValidationTests)\r\n",
       "#38: BottiPietroStokes2D-J2304_p3_exp_gmres_levelpmg: FinishedSuccessful (MS HPC client  MSHPC-AllNodes @DC2, @\\\\fdygitrunner\\ValidationTests)\tBottiPietroStokes2D-J2304_p3_exp_gmres_levelpmg: FinishedSuccessful (MS HPC client  MSHPC-AllNodes @DC2, @\\\\fdygitrunner\\ValidationTests)\r\n",
       "#39: BottiPietroStokes2D-J4096_p3_exp_gmres_levelpmg: FinishedSuccessful (MS HPC client  MSHPC-AllNodes @DC2, @\\\\fdygitrunner\\ValidationTests)\tBottiPietroStokes2D-J4096_p3_exp_gmres_levelpmg: FinishedSuccessful (MS HPC client  MSHPC-AllNodes @DC2, @\\\\fdygitrunner\\ValidationTests)\r\n",
       "#40: BottiPietroStokes2D-J16384_p3_exp_gmres_levelpmg: FinishedSuccessful (MS HPC client  MSHPC-AllNodes @DC2, @\\\\fdygitrunner\\ValidationTests)\tBottiPietroStokes2D-J16384_p3_exp_gmres_levelpmg: FinishedSuccessful (MS HPC client  MSHPC-AllNodes @DC2, @\\\\fdygitrunner\\ValidationTests)\r\n",
       "#41: BottiPietroStokes2D-J36864_p3_exp_gmres_levelpmg: FinishedSuccessful (MS HPC client  MSHPC-AllNodes @DC2, @\\\\fdygitrunner\\ValidationTests)\tBottiPietroStokes2D-J36864_p3_exp_gmres_levelpmg: FinishedSuccessful (MS HPC client  MSHPC-AllNodes @DC2, @\\\\fdygitrunner\\ValidationTests)\r\n",
       "#42: BottiPietroStokes2D-J65536_p3_exp_gmres_levelpmg: FinishedSuccessful (MS HPC client  MSHPC-AllNodes @DC2, @\\\\fdygitrunner\\ValidationTests)\tBottiPietroStokes2D-J65536_p3_exp_gmres_levelpmg: FinishedSuccessful (MS HPC client  MSHPC-AllNodes @DC2, @\\\\fdygitrunner\\ValidationTests)\r\n",
       "#43: BottiPietroStokes2D-J64_p5_exp_gmres_levelpmg: FailedOrCanceled (MS HPC client  MSHPC-AllNodes @DC2, @\\\\fdygitrunner\\ValidationTests)\tBottiPietroStokes2D-J64_p5_exp_gmres_levelpmg: FailedOrCanceled (MS HPC client  MSHPC-AllNodes @DC2, @\\\\fdygitrunner\\ValidationTests)\r\n",
       "#44: BottiPietroStokes2D-J256_p5_exp_gmres_levelpmg: FailedOrCanceled (MS HPC client  MSHPC-AllNodes @DC2, @\\\\fdygitrunner\\ValidationTests)\tBottiPietroStokes2D-J256_p5_exp_gmres_levelpmg: FailedOrCanceled (MS HPC client  MSHPC-AllNodes @DC2, @\\\\fdygitrunner\\ValidationTests)\r\n",
       "#45: BottiPietroStokes2D-J576_p5_exp_gmres_levelpmg: FailedOrCanceled (MS HPC client  MSHPC-AllNodes @DC2, @\\\\fdygitrunner\\ValidationTests)\tBottiPietroStokes2D-J576_p5_exp_gmres_levelpmg: FailedOrCanceled (MS HPC client  MSHPC-AllNodes @DC2, @\\\\fdygitrunner\\ValidationTests)\r\n",
       "#46: BottiPietroStokes2D-J1024_p5_exp_gmres_levelpmg: FailedOrCanceled (MS HPC client  MSHPC-AllNodes @DC2, @\\\\fdygitrunner\\ValidationTests)\tBottiPietroStokes2D-J1024_p5_exp_gmres_levelpmg: FailedOrCanceled (MS HPC client  MSHPC-AllNodes @DC2, @\\\\fdygitrunner\\ValidationTests)\r\n",
       "#47: BottiPietroStokes2D-J2304_p5_exp_gmres_levelpmg: FailedOrCanceled (MS HPC client  MSHPC-AllNodes @DC2, @\\\\fdygitrunner\\ValidationTests)\tBottiPietroStokes2D-J2304_p5_exp_gmres_levelpmg: FailedOrCanceled (MS HPC client  MSHPC-AllNodes @DC2, @\\\\fdygitrunner\\ValidationTests)\r\n",
       "#48: BottiPietroStokes2D-J4096_p5_exp_gmres_levelpmg: FailedOrCanceled (MS HPC client  MSHPC-AllNodes @DC2, @\\\\fdygitrunner\\ValidationTests)\tBottiPietroStokes2D-J4096_p5_exp_gmres_levelpmg: FailedOrCanceled (MS HPC client  MSHPC-AllNodes @DC2, @\\\\fdygitrunner\\ValidationTests)\r\n",
       "#49: BottiPietroStokes2D-J16384_p5_exp_gmres_levelpmg: FailedOrCanceled (MS HPC client  MSHPC-AllNodes @DC2, @\\\\fdygitrunner\\ValidationTests)\tBottiPietroStokes2D-J16384_p5_exp_gmres_levelpmg: FailedOrCanceled (MS HPC client  MSHPC-AllNodes @DC2, @\\\\fdygitrunner\\ValidationTests)\r\n",
       "#50: BottiPietroStokes2D-J36864_p5_exp_gmres_levelpmg: FailedOrCanceled (MS HPC client  MSHPC-AllNodes @DC2, @\\\\fdygitrunner\\ValidationTests)\tBottiPietroStokes2D-J36864_p5_exp_gmres_levelpmg: FailedOrCanceled (MS HPC client  MSHPC-AllNodes @DC2, @\\\\fdygitrunner\\ValidationTests)\r\n",
       "#51: BottiPietroStokes2D-J64_p2_exp_Kcycle_schwarz: FinishedSuccessful (MS HPC client  MSHPC-AllNodes @DC2, @\\\\fdygitrunner\\ValidationTests)\tBottiPietroStokes2D-J64_p2_exp_Kcycle_schwarz: FinishedSuccessful (MS HPC client  MSHPC-AllNodes @DC2, @\\\\fdygitrunner\\ValidationTests)\r\n",
       "#52: BottiPietroStokes2D-J256_p2_exp_Kcycle_schwarz: FinishedSuccessful (MS HPC client  MSHPC-AllNodes @DC2, @\\\\fdygitrunner\\ValidationTests)\tBottiPietroStokes2D-J256_p2_exp_Kcycle_schwarz: FinishedSuccessful (MS HPC client  MSHPC-AllNodes @DC2, @\\\\fdygitrunner\\ValidationTests)\r\n",
       "#53: BottiPietroStokes2D-J576_p2_exp_Kcycle_schwarz: FinishedSuccessful (MS HPC client  MSHPC-AllNodes @DC2, @\\\\fdygitrunner\\ValidationTests)\tBottiPietroStokes2D-J576_p2_exp_Kcycle_schwarz: FinishedSuccessful (MS HPC client  MSHPC-AllNodes @DC2, @\\\\fdygitrunner\\ValidationTests)\r\n",
       "#54: BottiPietroStokes2D-J1024_p2_exp_Kcycle_schwarz: FinishedSuccessful (MS HPC client  MSHPC-AllNodes @DC2, @\\\\fdygitrunner\\ValidationTests)\tBottiPietroStokes2D-J1024_p2_exp_Kcycle_schwarz: FinishedSuccessful (MS HPC client  MSHPC-AllNodes @DC2, @\\\\fdygitrunner\\ValidationTests)\r\n",
       "#55: BottiPietroStokes2D-J2304_p2_exp_Kcycle_schwarz: FinishedSuccessful (MS HPC client  MSHPC-AllNodes @DC2, @\\\\fdygitrunner\\ValidationTests)\tBottiPietroStokes2D-J2304_p2_exp_Kcycle_schwarz: FinishedSuccessful (MS HPC client  MSHPC-AllNodes @DC2, @\\\\fdygitrunner\\ValidationTests)\r\n",
       "#56: BottiPietroStokes2D-J4096_p2_exp_Kcycle_schwarz: FinishedSuccessful (MS HPC client  MSHPC-AllNodes @DC2, @\\\\fdygitrunner\\ValidationTests)\tBottiPietroStokes2D-J4096_p2_exp_Kcycle_schwarz: FinishedSuccessful (MS HPC client  MSHPC-AllNodes @DC2, @\\\\fdygitrunner\\ValidationTests)\r\n",
       "#57: BottiPietroStokes2D-J16384_p2_exp_Kcycle_schwarz: FinishedSuccessful (MS HPC client  MSHPC-AllNodes @DC2, @\\\\fdygitrunner\\ValidationTests)\tBottiPietroStokes2D-J16384_p2_exp_Kcycle_schwarz: FinishedSuccessful (MS HPC client  MSHPC-AllNodes @DC2, @\\\\fdygitrunner\\ValidationTests)\r\n",
       "#58: BottiPietroStokes2D-J36864_p2_exp_Kcycle_schwarz: FinishedSuccessful (MS HPC client  MSHPC-AllNodes @DC2, @\\\\fdygitrunner\\ValidationTests)\tBottiPietroStokes2D-J36864_p2_exp_Kcycle_schwarz: FinishedSuccessful (MS HPC client  MSHPC-AllNodes @DC2, @\\\\fdygitrunner\\ValidationTests)\r\n",
       "#59: BottiPietroStokes2D-J65536_p2_exp_Kcycle_schwarz: FinishedSuccessful (MS HPC client  MSHPC-AllNodes @DC2, @\\\\fdygitrunner\\ValidationTests)\tBottiPietroStokes2D-J65536_p2_exp_Kcycle_schwarz: FinishedSuccessful (MS HPC client  MSHPC-AllNodes @DC2, @\\\\fdygitrunner\\ValidationTests)\r\n",
       "#60: BottiPietroStokes2D-J147456_p2_exp_Kcycle_schwarz: FinishedSuccessful (MS HPC client  MSHPC-AllNodes @DC2, @\\\\fdygitrunner\\ValidationTests)\tBottiPietroStokes2D-J147456_p2_exp_Kcycle_schwarz: FinishedSuccessful (MS HPC client  MSHPC-AllNodes @DC2, @\\\\fdygitrunner\\ValidationTests)\r\n",
       "#61: BottiPietroStokes2D-J64_p3_exp_Kcycle_schwarz: FinishedSuccessful (MS HPC client  MSHPC-AllNodes @DC2, @\\\\fdygitrunner\\ValidationTests)\tBottiPietroStokes2D-J64_p3_exp_Kcycle_schwarz: FinishedSuccessful (MS HPC client  MSHPC-AllNodes @DC2, @\\\\fdygitrunner\\ValidationTests)\r\n",
       "#62: BottiPietroStokes2D-J256_p3_exp_Kcycle_schwarz: FinishedSuccessful (MS HPC client  MSHPC-AllNodes @DC2, @\\\\fdygitrunner\\ValidationTests)\tBottiPietroStokes2D-J256_p3_exp_Kcycle_schwarz: FinishedSuccessful (MS HPC client  MSHPC-AllNodes @DC2, @\\\\fdygitrunner\\ValidationTests)\r\n",
       "#63: BottiPietroStokes2D-J576_p3_exp_Kcycle_schwarz: FinishedSuccessful (MS HPC client  MSHPC-AllNodes @DC2, @\\\\fdygitrunner\\ValidationTests)\tBottiPietroStokes2D-J576_p3_exp_Kcycle_schwarz: FinishedSuccessful (MS HPC client  MSHPC-AllNodes @DC2, @\\\\fdygitrunner\\ValidationTests)\r\n",
       "#64: BottiPietroStokes2D-J1024_p3_exp_Kcycle_schwarz: FinishedSuccessful (MS HPC client  MSHPC-AllNodes @DC2, @\\\\fdygitrunner\\ValidationTests)\tBottiPietroStokes2D-J1024_p3_exp_Kcycle_schwarz: FinishedSuccessful (MS HPC client  MSHPC-AllNodes @DC2, @\\\\fdygitrunner\\ValidationTests)\r\n",
       "#65: BottiPietroStokes2D-J2304_p3_exp_Kcycle_schwarz: FinishedSuccessful (MS HPC client  MSHPC-AllNodes @DC2, @\\\\fdygitrunner\\ValidationTests)\tBottiPietroStokes2D-J2304_p3_exp_Kcycle_schwarz: FinishedSuccessful (MS HPC client  MSHPC-AllNodes @DC2, @\\\\fdygitrunner\\ValidationTests)\r\n",
       "#66: BottiPietroStokes2D-J4096_p3_exp_Kcycle_schwarz: FinishedSuccessful (MS HPC client  MSHPC-AllNodes @DC2, @\\\\fdygitrunner\\ValidationTests)\tBottiPietroStokes2D-J4096_p3_exp_Kcycle_schwarz: FinishedSuccessful (MS HPC client  MSHPC-AllNodes @DC2, @\\\\fdygitrunner\\ValidationTests)\r\n",
       "#67: BottiPietroStokes2D-J16384_p3_exp_Kcycle_schwarz: FinishedSuccessful (MS HPC client  MSHPC-AllNodes @DC2, @\\\\fdygitrunner\\ValidationTests)\tBottiPietroStokes2D-J16384_p3_exp_Kcycle_schwarz: FinishedSuccessful (MS HPC client  MSHPC-AllNodes @DC2, @\\\\fdygitrunner\\ValidationTests)\r\n",
       "#68: BottiPietroStokes2D-J36864_p3_exp_Kcycle_schwarz: FinishedSuccessful (MS HPC client  MSHPC-AllNodes @DC2, @\\\\fdygitrunner\\ValidationTests)\tBottiPietroStokes2D-J36864_p3_exp_Kcycle_schwarz: FinishedSuccessful (MS HPC client  MSHPC-AllNodes @DC2, @\\\\fdygitrunner\\ValidationTests)\r\n",
       "#69: BottiPietroStokes2D-J65536_p3_exp_Kcycle_schwarz: FinishedSuccessful (MS HPC client  MSHPC-AllNodes @DC2, @\\\\fdygitrunner\\ValidationTests)\tBottiPietroStokes2D-J65536_p3_exp_Kcycle_schwarz: FinishedSuccessful (MS HPC client  MSHPC-AllNodes @DC2, @\\\\fdygitrunner\\ValidationTests)\r\n",
       "#70: BottiPietroStokes2D-J64_p5_exp_Kcycle_schwarz: FinishedSuccessful (MS HPC client  MSHPC-AllNodes @DC2, @\\\\fdygitrunner\\ValidationTests)\tBottiPietroStokes2D-J64_p5_exp_Kcycle_schwarz: FinishedSuccessful (MS HPC client  MSHPC-AllNodes @DC2, @\\\\fdygitrunner\\ValidationTests)\r\n",
       "#71: BottiPietroStokes2D-J256_p5_exp_Kcycle_schwarz: FinishedSuccessful (MS HPC client  MSHPC-AllNodes @DC2, @\\\\fdygitrunner\\ValidationTests)\tBottiPietroStokes2D-J256_p5_exp_Kcycle_schwarz: FinishedSuccessful (MS HPC client  MSHPC-AllNodes @DC2, @\\\\fdygitrunner\\ValidationTests)\r\n",
       "#72: BottiPietroStokes2D-J576_p5_exp_Kcycle_schwarz: FinishedSuccessful (MS HPC client  MSHPC-AllNodes @DC2, @\\\\fdygitrunner\\ValidationTests)\tBottiPietroStokes2D-J576_p5_exp_Kcycle_schwarz: FinishedSuccessful (MS HPC client  MSHPC-AllNodes @DC2, @\\\\fdygitrunner\\ValidationTests)\r\n",
       "#73: BottiPietroStokes2D-J1024_p5_exp_Kcycle_schwarz: FinishedSuccessful (MS HPC client  MSHPC-AllNodes @DC2, @\\\\fdygitrunner\\ValidationTests)\tBottiPietroStokes2D-J1024_p5_exp_Kcycle_schwarz: FinishedSuccessful (MS HPC client  MSHPC-AllNodes @DC2, @\\\\fdygitrunner\\ValidationTests)\r\n",
       "#74: BottiPietroStokes2D-J2304_p5_exp_Kcycle_schwarz: FinishedSuccessful (MS HPC client  MSHPC-AllNodes @DC2, @\\\\fdygitrunner\\ValidationTests)\tBottiPietroStokes2D-J2304_p5_exp_Kcycle_schwarz: FinishedSuccessful (MS HPC client  MSHPC-AllNodes @DC2, @\\\\fdygitrunner\\ValidationTests)\r\n",
       "#75: BottiPietroStokes2D-J4096_p5_exp_Kcycle_schwarz: FinishedSuccessful (MS HPC client  MSHPC-AllNodes @DC2, @\\\\fdygitrunner\\ValidationTests)\tBottiPietroStokes2D-J4096_p5_exp_Kcycle_schwarz: FinishedSuccessful (MS HPC client  MSHPC-AllNodes @DC2, @\\\\fdygitrunner\\ValidationTests)\r\n",
       "#76: BottiPietroStokes2D-J16384_p5_exp_Kcycle_schwarz: FinishedSuccessful (MS HPC client  MSHPC-AllNodes @DC2, @\\\\fdygitrunner\\ValidationTests)\tBottiPietroStokes2D-J16384_p5_exp_Kcycle_schwarz: FinishedSuccessful (MS HPC client  MSHPC-AllNodes @DC2, @\\\\fdygitrunner\\ValidationTests)\r\n",
       "#77: BottiPietroStokes2D-J36864_p5_exp_Kcycle_schwarz: FinishedSuccessful (MS HPC client  MSHPC-AllNodes @DC2, @\\\\fdygitrunner\\ValidationTests)\tBottiPietroStokes2D-J36864_p5_exp_Kcycle_schwarz: FinishedSuccessful (MS HPC client  MSHPC-AllNodes @DC2, @\\\\fdygitrunner\\ValidationTests)\r\n",
       "#78: BottiPietroStokes2D-J64_p2_pMultigrid: FinishedSuccessful (MS HPC client  MSHPC-AllNodes @DC2, @\\\\fdygitrunner\\ValidationTests)\tBottiPietroStokes2D-J64_p2_pMultigrid: FinishedSuccessful (MS HPC client  MSHPC-AllNodes @DC2, @\\\\fdygitrunner\\ValidationTests)\r\n",
       "#79: BottiPietroStokes2D-J256_p2_pMultigrid: FinishedSuccessful (MS HPC client  MSHPC-AllNodes @DC2, @\\\\fdygitrunner\\ValidationTests)\tBottiPietroStokes2D-J256_p2_pMultigrid: FinishedSuccessful (MS HPC client  MSHPC-AllNodes @DC2, @\\\\fdygitrunner\\ValidationTests)\r\n",
       "#80: BottiPietroStokes2D-J576_p2_pMultigrid: FinishedSuccessful (MS HPC client  MSHPC-AllNodes @DC2, @\\\\fdygitrunner\\ValidationTests)\tBottiPietroStokes2D-J576_p2_pMultigrid: FinishedSuccessful (MS HPC client  MSHPC-AllNodes @DC2, @\\\\fdygitrunner\\ValidationTests)\r\n",
       "#81: BottiPietroStokes2D-J1024_p2_pMultigrid: FinishedSuccessful (MS HPC client  MSHPC-AllNodes @DC2, @\\\\fdygitrunner\\ValidationTests)\tBottiPietroStokes2D-J1024_p2_pMultigrid: FinishedSuccessful (MS HPC client  MSHPC-AllNodes @DC2, @\\\\fdygitrunner\\ValidationTests)\r\n",
       "#82: BottiPietroStokes2D-J2304_p2_pMultigrid: FailedOrCanceled (MS HPC client  MSHPC-AllNodes @DC2, @\\\\fdygitrunner\\ValidationTests)\tBottiPietroStokes2D-J2304_p2_pMultigrid: FailedOrCanceled (MS HPC client  MSHPC-AllNodes @DC2, @\\\\fdygitrunner\\ValidationTests)\r\n",
       "#83: BottiPietroStokes2D-J4096_p2_pMultigrid: FinishedSuccessful (MS HPC client  MSHPC-AllNodes @DC2, @\\\\fdygitrunner\\ValidationTests)\tBottiPietroStokes2D-J4096_p2_pMultigrid: FinishedSuccessful (MS HPC client  MSHPC-AllNodes @DC2, @\\\\fdygitrunner\\ValidationTests)\r\n",
       "#84: BottiPietroStokes2D-J16384_p2_pMultigrid: FailedOrCanceled (MS HPC client  MSHPC-AllNodes @DC2, @\\\\fdygitrunner\\ValidationTests)\tBottiPietroStokes2D-J16384_p2_pMultigrid: FailedOrCanceled (MS HPC client  MSHPC-AllNodes @DC2, @\\\\fdygitrunner\\ValidationTests)\r\n",
       "#85: BottiPietroStokes2D-J36864_p2_pMultigrid: FailedOrCanceled (MS HPC client  MSHPC-AllNodes @DC2, @\\\\fdygitrunner\\ValidationTests)\tBottiPietroStokes2D-J36864_p2_pMultigrid: FailedOrCanceled (MS HPC client  MSHPC-AllNodes @DC2, @\\\\fdygitrunner\\ValidationTests)\r\n",
       "#86: BottiPietroStokes2D-J65536_p2_pMultigrid: FailedOrCanceled (MS HPC client  MSHPC-AllNodes @DC2, @\\\\fdygitrunner\\ValidationTests)\tBottiPietroStokes2D-J65536_p2_pMultigrid: FailedOrCanceled (MS HPC client  MSHPC-AllNodes @DC2, @\\\\fdygitrunner\\ValidationTests)\r\n",
       "#87: BottiPietroStokes2D-J147456_p2_pMultigrid: FailedOrCanceled (MS HPC client  MSHPC-AllNodes @DC2, @\\\\fdygitrunner\\ValidationTests)\tBottiPietroStokes2D-J147456_p2_pMultigrid: FailedOrCanceled (MS HPC client  MSHPC-AllNodes @DC2, @\\\\fdygitrunner\\ValidationTests)\r\n",
       "#88: BottiPietroStokes2D-J64_p3_pMultigrid: FinishedSuccessful (MS HPC client  MSHPC-AllNodes @DC2, @\\\\fdygitrunner\\ValidationTests)\tBottiPietroStokes2D-J64_p3_pMultigrid: FinishedSuccessful (MS HPC client  MSHPC-AllNodes @DC2, @\\\\fdygitrunner\\ValidationTests)\r\n",
       "#89: BottiPietroStokes2D-J256_p3_pMultigrid: FinishedSuccessful (MS HPC client  MSHPC-AllNodes @DC2, @\\\\fdygitrunner\\ValidationTests)\tBottiPietroStokes2D-J256_p3_pMultigrid: FinishedSuccessful (MS HPC client  MSHPC-AllNodes @DC2, @\\\\fdygitrunner\\ValidationTests)\r\n",
       "#90: BottiPietroStokes2D-J576_p3_pMultigrid: FinishedSuccessful (MS HPC client  MSHPC-AllNodes @DC2, @\\\\fdygitrunner\\ValidationTests)\tBottiPietroStokes2D-J576_p3_pMultigrid: FinishedSuccessful (MS HPC client  MSHPC-AllNodes @DC2, @\\\\fdygitrunner\\ValidationTests)\r\n",
       "#91: BottiPietroStokes2D-J1024_p3_pMultigrid: FinishedSuccessful (MS HPC client  MSHPC-AllNodes @DC2, @\\\\fdygitrunner\\ValidationTests)\tBottiPietroStokes2D-J1024_p3_pMultigrid: FinishedSuccessful (MS HPC client  MSHPC-AllNodes @DC2, @\\\\fdygitrunner\\ValidationTests)\r\n",
       "#92: BottiPietroStokes2D-J2304_p3_pMultigrid: FinishedSuccessful (MS HPC client  MSHPC-AllNodes @DC2, @\\\\fdygitrunner\\ValidationTests)\tBottiPietroStokes2D-J2304_p3_pMultigrid: FinishedSuccessful (MS HPC client  MSHPC-AllNodes @DC2, @\\\\fdygitrunner\\ValidationTests)\r\n",
       "#93: BottiPietroStokes2D-J4096_p3_pMultigrid: FinishedSuccessful (MS HPC client  MSHPC-AllNodes @DC2, @\\\\fdygitrunner\\ValidationTests)\tBottiPietroStokes2D-J4096_p3_pMultigrid: FinishedSuccessful (MS HPC client  MSHPC-AllNodes @DC2, @\\\\fdygitrunner\\ValidationTests)\r\n",
       "#94: BottiPietroStokes2D-J16384_p3_pMultigrid: FinishedSuccessful (MS HPC client  MSHPC-AllNodes @DC2, @\\\\fdygitrunner\\ValidationTests)\tBottiPietroStokes2D-J16384_p3_pMultigrid: FinishedSuccessful (MS HPC client  MSHPC-AllNodes @DC2, @\\\\fdygitrunner\\ValidationTests)\r\n",
       "#95: BottiPietroStokes2D-J36864_p3_pMultigrid: FinishedSuccessful (MS HPC client  MSHPC-AllNodes @DC2, @\\\\fdygitrunner\\ValidationTests)\tBottiPietroStokes2D-J36864_p3_pMultigrid: FinishedSuccessful (MS HPC client  MSHPC-AllNodes @DC2, @\\\\fdygitrunner\\ValidationTests)\r\n",
       "#96: BottiPietroStokes2D-J65536_p3_pMultigrid: FinishedSuccessful (MS HPC client  MSHPC-AllNodes @DC2, @\\\\fdygitrunner\\ValidationTests)\tBottiPietroStokes2D-J65536_p3_pMultigrid: FinishedSuccessful (MS HPC client  MSHPC-AllNodes @DC2, @\\\\fdygitrunner\\ValidationTests)\r\n",
       "#97: BottiPietroStokes2D-J64_p5_pMultigrid: FinishedSuccessful (MS HPC client  MSHPC-AllNodes @DC2, @\\\\fdygitrunner\\ValidationTests)\tBottiPietroStokes2D-J64_p5_pMultigrid: FinishedSuccessful (MS HPC client  MSHPC-AllNodes @DC2, @\\\\fdygitrunner\\ValidationTests)\r\n",
       "#98: BottiPietroStokes2D-J256_p5_pMultigrid: FinishedSuccessful (MS HPC client  MSHPC-AllNodes @DC2, @\\\\fdygitrunner\\ValidationTests)\tBottiPietroStokes2D-J256_p5_pMultigrid: FinishedSuccessful (MS HPC client  MSHPC-AllNodes @DC2, @\\\\fdygitrunner\\ValidationTests)\r\n",
       "#99: BottiPietroStokes2D-J576_p5_pMultigrid: FinishedSuccessful (MS HPC client  MSHPC-AllNodes @DC2, @\\\\fdygitrunner\\ValidationTests)\tBottiPietroStokes2D-J576_p5_pMultigrid: FinishedSuccessful (MS HPC client  MSHPC-AllNodes @DC2, @\\\\fdygitrunner\\ValidationTests)\r\n",
       "#100: BottiPietroStokes2D-J1024_p5_pMultigrid: FinishedSuccessful (MS HPC client  MSHPC-AllNodes @DC2, @\\\\fdygitrunner\\ValidationTests)\tBottiPietroStokes2D-J1024_p5_pMultigrid: FinishedSuccessful (MS HPC client  MSHPC-AllNodes @DC2, @\\\\fdygitrunner\\ValidationTests)\r\n",
       "#101: BottiPietroStokes2D-J2304_p5_pMultigrid: FinishedSuccessful (MS HPC client  MSHPC-AllNodes @DC2, @\\\\fdygitrunner\\ValidationTests)\tBottiPietroStokes2D-J2304_p5_pMultigrid: FinishedSuccessful (MS HPC client  MSHPC-AllNodes @DC2, @\\\\fdygitrunner\\ValidationTests)\r\n",
       "#102: BottiPietroStokes2D-J4096_p5_pMultigrid: FinishedSuccessful (MS HPC client  MSHPC-AllNodes @DC2, @\\\\fdygitrunner\\ValidationTests)\tBottiPietroStokes2D-J4096_p5_pMultigrid: FinishedSuccessful (MS HPC client  MSHPC-AllNodes @DC2, @\\\\fdygitrunner\\ValidationTests)\r\n",
       "#103: BottiPietroStokes2D-J16384_p5_pMultigrid: FinishedSuccessful (MS HPC client  MSHPC-AllNodes @DC2, @\\\\fdygitrunner\\ValidationTests)\tBottiPietroStokes2D-J16384_p5_pMultigrid: FinishedSuccessful (MS HPC client  MSHPC-AllNodes @DC2, @\\\\fdygitrunner\\ValidationTests)\r\n",
       "#104: BottiPietroStokes2D-J36864_p5_pMultigrid: FinishedSuccessful (MS HPC client  MSHPC-AllNodes @DC2, @\\\\fdygitrunner\\ValidationTests)\tBottiPietroStokes2D-J36864_p5_pMultigrid: FinishedSuccessful (MS HPC client  MSHPC-AllNodes @DC2, @\\\\fdygitrunner\\ValidationTests)\r\n"
      ]
     },
     "execution_count": 28,
     "metadata": {},
     "output_type": "execute_result"
    }
   ],
   "source": [
    "wmg.AllJobs"
   ]
  },
  {
   "cell_type": "code",
   "execution_count": 39,
   "metadata": {},
   "outputs": [
    {
     "data": {
      "text/plain": [
       "#0: LinslvPerfSer\tXdgStokes-J512_p3_pMultigrid\t04/07/2022 14:46:37\tc31712d8...\r\n",
       "#1: LinslvPerfSer\tXdgStokes-J13824_p5_pMultigrid*\t04/07/2022 15:00:32\t9955f3f6...\r\n",
       "#2: LinslvPerfSer\tXdgStokes-J4096_p5_pMultigrid*\t04/07/2022 14:58:10\t3064dc8c...\r\n",
       "#3: LinslvPerfSer\tXdgStokes-J4096_p2_pMultigrid\t04/07/2022 14:39:25\t9a0cfcf5...\r\n",
       "#4: LinslvPerfSer\tXdgStokes-J512_p5_pMultigrid*\t04/07/2022 14:55:50\tc69cdf60...\r\n",
       "#5: LinslvPerfSer\tXdgStokes-J32768_p3_pMultigrid*\t04/07/2022 14:53:32\tdcd8b0c3...\r\n",
       "#6: LinslvPerfSer\tXdgStokes-J13824_p3_pMultigrid*\t04/07/2022 14:51:15\tcea6bbb7...\r\n",
       "#7: LinslvPerfSer\tXdgStokes-J4096_p3_pMultigrid*\t04/07/2022 14:48:55\tf9cfbc55...\r\n",
       "#8: LinslvPerfSer\tXdgStokes-J13824_p2_exp_Kcycle_schwarz\t04/07/2022 14:13:55\t485762d6...\r\n",
       "#9: LinslvPerfSer\tXdgStokes-J13824_p2_direct_pardiso\t04/07/2022 13:29:52\t2802c099...\r\n",
       "#10: LinslvPerfSer\tXdgStokes-J32768_p2_pMultigrid*\t04/07/2022 14:44:19\taa190bac...\r\n",
       "#11: LinslvPerfSer\tXdgStokes-J13824_p2_pMultigrid*\t04/07/2022 14:41:53\t811ae86f...\r\n",
       "#12: LinslvPerfSer\tXdgStokes-J512_p5_exp_Kcycle_schwarz\t04/07/2022 14:29:14\tf501b45f...\r\n",
       "#13: LinslvPerfSer\tXdgStokes-J4096_p3_exp_Kcycle_schwarz\t04/07/2022 14:21:40\t77699108...\r\n",
       "#14: LinslvPerfSer\tXdgStokes-J512_p2_pMultigrid\t04/07/2022 14:36:55\t12a6cdbb...\r\n",
       "#15: LinslvPerfSer\tXdgStokes-J13824_p5_exp_Kcycle_schwarz*\t04/07/2022 14:34:20\t463dc242...\r\n",
       "#16: LinslvPerfSer\tXdgStokes-J4096_p5_exp_Kcycle_schwarz*\t04/07/2022 14:31:47\tca7482f8...\r\n",
       "#17: LinslvPerfSer\tXdgStokes-J32768_p3_exp_Kcycle_schwarz*\t04/07/2022 14:26:43\tca428d13...\r\n",
       "#18: LinslvPerfSer\tXdgStokes-J13824_p3_exp_Kcycle_schwarz*\t04/07/2022 14:24:09\t97d3b6af...\r\n",
       "#19: LinslvPerfSer\tXdgStokes-J512_p3_exp_Kcycle_schwarz\t04/07/2022 14:19:03\t5d7f5a95...\r\n",
       "#20: LinslvPerfSer\tXdgStokes-J32768_p2_exp_Kcycle_schwarz*\t04/07/2022 14:16:29\t57f56151...\r\n",
       "#21: LinslvPerfSer\tXdgStokes-J4096_p2_exp_Kcycle_schwarz\t04/07/2022 14:11:21\te7430312...\r\n",
       "#22: LinslvPerfSer\tXdgStokes-J512_p2_exp_Kcycle_schwarz\t04/07/2022 14:08:43\t92fef234...\r\n",
       "#23: LinslvPerfSer\tXdgStokes-J13824_p5_exp_gmres_levelpmg*\t04/07/2022 14:06:16\t2b1dec46...\r\n",
       "#24: LinslvPerfSer\tXdgStokes-J4096_p5_exp_gmres_levelpmg*\t04/07/2022 14:03:52\t52b8edaa...\r\n",
       "#25: LinslvPerfSer\tXdgStokes-J512_p5_exp_gmres_levelpmg*\t04/07/2022 14:01:25\td05623fd...\r\n",
       "#26: LinslvPerfSer\tXdgStokes-J4096_p3_direct_pardiso\t04/07/2022 13:33:56\t10c6ea52...\r\n",
       "#27: LinslvPerfSer\tXdgStokes-J32768_p3_exp_gmres_levelpmg*\t04/07/2022 13:58:59\ta4e48732...\r\n",
       "#28: LinslvPerfSer\tXdgPoisson-J32768_k3_pMultigrid\t04/07/2022 13:21:36\t62a30350...\r\n",
       "#29: LinslvPerfSer\tXdgStokes-J512_p5_direct_pardiso\t04/07/2022 13:37:54\te03f5dac...\r\n",
       "#30: LinslvPerfSer\tXdgPoisson-J4096_k5_pMultigrid\t04/07/2022 13:23:11\t96c59d40...\r\n",
       "#31: LinslvPerfSer\tXdgStokes-J13824_p3_exp_gmres_levelpmg*\t04/07/2022 13:56:20\t6e530aae...\r\n",
       "#32: LinslvPerfSer\tXdgStokes-J4096_p3_exp_gmres_levelpmg*\t04/07/2022 13:53:56\ta8c33246...\r\n",
       "#33: LinslvPerfSer\tXdgStokes-J512_p3_exp_gmres_levelpmg*\t04/07/2022 13:51:34\teb1b57fe...\r\n",
       "#34: LinslvPerfSer\tXdgStokes-J32768_p2_exp_gmres_levelpmg*\t04/07/2022 13:49:08\tb2808c9f...\r\n",
       "#35: LinslvPerfSer\tXdgStokes-J13824_p2_exp_gmres_levelpmg*\t04/07/2022 13:46:49\te6c9766e...\r\n",
       "#36: LinslvPerfSer\tXdgStokes-J4096_p2_exp_gmres_levelpmg*\t04/07/2022 13:44:24\td17f7fb0...\r\n",
       "#37: LinslvPerfSer\tXdgStokes-J512_p2_exp_gmres_levelpmg*\t04/07/2022 13:42:05\t6a12eb07...\r\n",
       "#38: LinslvPerfSer\tXdgStokes-J4096_p5_direct_pardiso*\t04/07/2022 13:40:01\t5b68ef22...\r\n",
       "#39: LinslvPerfSer\tXdgStokes-J13824_p3_direct_pardiso*\t04/07/2022 13:35:55\t1302ec82...\r\n",
       "#40: LinslvPerfSer\tXdgStokes-J4096_p2_direct_pardiso\t04/07/2022 13:27:47\t09497c8c...\r\n",
       "#41: LinslvPerfSer\tXdgStokes-J512_p3_direct_pardiso\t04/07/2022 13:31:56\tc3600fdc...\r\n",
       "#42: LinslvPerfSer\tXdgPoisson-J32768_k2_pMultigrid\t04/07/2022 13:19:33\t160caf83...\r\n",
       "#43: LinslvPerfSer\tXdgStokes-J512_p2_direct_pardiso\t04/07/2022 13:25:47\t7ee4d68c...\r\n",
       "#44: LinslvPerfSer\tXdgPoisson-J512_k5_pMultigrid\t04/07/2022 13:22:46\t072d5b07...\r\n",
       "#45: LinslvPerfSer\tXdgPoisson-J262144_k2_pMultigrid*\t04/07/2022 13:19:53\tbc52197e...\r\n",
       "#46: LinslvPerfSer\tXdgPoisson-J32768_k5_pMultigrid*\t04/07/2022 13:23:35\td19bcb47...\r\n",
       "#47: LinslvPerfSer\tXdgPoisson-J4096_k3_pMultigrid\t04/07/2022 13:21:10\t2bdba5bb...\r\n",
       "#48: LinslvPerfSer\tXdgPoisson-J64_k5_pMultigrid\t04/07/2022 13:22:24\t879748d1...\r\n",
       "#49: LinslvPerfSer\tXdgPoisson-J8_k5_pMultigrid\t04/07/2022 13:22:01\ta39377dc...\r\n",
       "#50: LinslvPerfSer\tXdgPoisson-J512_k3_pMultigrid\t04/07/2022 13:20:49\t258a74ab...\r\n",
       "#51: LinslvPerfSer\tXdgPoisson-J64_k3_pMultigrid\t04/07/2022 13:20:29\ta748c9b9...\r\n",
       "#52: LinslvPerfSer\tXdgPoisson-J4096_k2_pMultigrid\t04/07/2022 13:19:12\tbec6a5ae...\r\n",
       "#53: LinslvPerfSer\tXdgPoisson-J8_k3_pMultigrid\t04/07/2022 13:20:10\t27431386...\r\n",
       "#54: LinslvPerfSer\tXdgPoisson-J512_k2_pMultigrid\t04/07/2022 13:18:54\tba2612d9...\r\n",
       "#55: LinslvPerfSer\tXdgPoisson-J64_k2_pMultigrid\t04/07/2022 13:18:36\t176aef3f...\r\n",
       "#56: LinslvPerfSer\tXdgPoisson-J8_k2_pMultigrid\t04/07/2022 13:18:17\t2b0f667c...\r\n",
       "#57: LinslvPerfSer\tXdgPoisson-J32768_k3_direct_pardiso\t04/07/2022 07:55:03\t454651eb...\r\n",
       "#58: LinslvPerfSer\tXdgPoisson-J4096_k5_direct_pardiso\t04/07/2022 07:56:27\t8a894391...\r\n",
       "#59: LinslvPerfSer\tXdgPoisson-J32768_k2_direct_pardiso\t04/07/2022 07:53:23\t996663e4...\r\n",
       "#60: LinslvPerfSer\tXdgPoisson-J512_k5_direct_pardiso\t04/07/2022 07:56:07\tb3452f02...\r\n",
       "#61: LinslvPerfSer\tXdgPoisson-J4096_k3_direct_pardiso\t04/07/2022 07:54:41\td89c99c5...\r\n",
       "#62: LinslvPerfSer\tXdgPoisson-J64_k5_direct_pardiso\t04/07/2022 07:55:47\tee4916a7...\r\n",
       "#63: LinslvPerfSer\tXdgPoisson-J8_k5_direct_pardiso\t04/07/2022 07:55:25\ta41c869d...\r\n",
       "#64: LinslvPerfSer\tXdgPoisson-J512_k3_direct_pardiso\t04/07/2022 07:54:23\t9885faaa...\r\n",
       "#65: LinslvPerfSer\tXdgPoisson-J64_k3_direct_pardiso\t04/07/2022 07:54:04\tdcd7eeff...\r\n",
       "#66: LinslvPerfSer\tXdgPoisson-J4096_k2_direct_pardiso\t04/07/2022 07:53:05\tff208f14...\r\n",
       "#67: LinslvPerfSer\tXdgPoisson-J8_k3_direct_pardiso\t04/07/2022 07:53:43\tf89c8d81...\r\n",
       "#68: LinslvPerfSer\tXdgPoisson-J512_k2_direct_pardiso\t04/07/2022 07:52:44\t23289c1c...\r\n",
       "#69: LinslvPerfSer\tXdgPoisson-J64_k2_direct_pardiso\t04/07/2022 07:52:21\t691a7560...\r\n",
       "#70: LinslvPerfSer\tXdgPoisson-J8_k2_direct_pardiso\t04/07/2022 07:52:03\t20f07ff7...\r\n",
       "#71: LinslvPerfSer\tXdgPoisson-J262144_k2_exp_gmres_levelpmg\t03/24/2022 22:10:09\t9ac2a486...\r\n",
       "#72: LinslvPerfSer\tXdgPoisson-J32768_k5_exp_Kcycle_schwarz\t03/24/2022 22:08:21\tfab001d3...\r\n",
       "#73: LinslvPerfSer\tXdgPoisson-J32768_k5_exp_gmres_levelpmg\t03/24/2022 22:13:33\t95405dc8...\r\n",
       "#74: LinslvPerfSer\tXdgPoisson-J262144_k2_exp_Kcycle_schwarz\t03/24/2022 21:58:21\ted5b54f4...\r\n",
       "#75: LinslvPerfSer\tXdgPoisson-J4096_k5_exp_gmres_levelpmg\t03/24/2022 22:13:14\t56d18a24...\r\n",
       "#76: LinslvPerfSer\tXdgPoisson-J32768_k3_exp_gmres_levelpmg\t03/24/2022 22:10:54\t2ce61e7d...\r\n",
       "#77: LinslvPerfSer\tXdgPoisson-J4096_k5_exp_Kcycle_schwarz\t03/24/2022 22:07:43\td86a35bc...\r\n",
       "#78: LinslvPerfSer\tXdgPoisson-J32768_k2_exp_gmres_levelpmg\t03/24/2022 22:09:57\tf3c57e74...\r\n",
       "#79: LinslvPerfSer\tXdgPoisson-J32768_k3_exp_Kcycle_schwarz\t03/24/2022 22:03:41\t134cfd96...\r\n",
       "#80: LinslvPerfSer\tXdgPoisson-J512_k5_exp_gmres_levelpmg\t03/24/2022 22:12:47\t03a10124...\r\n",
       "#81: LinslvPerfSer\tXdgPoisson-J64_k5_exp_gmres_levelpmg\t03/24/2022 22:11:53\te8e53cee...\r\n",
       "#82: LinslvPerfSer\tXdgPoisson-J4096_k3_exp_gmres_levelpmg\t03/24/2022 22:10:42\tf557cc7f...\r\n",
       "#83: LinslvPerfSer\tXdgPoisson-J8_k5_exp_gmres_levelpmg\t03/24/2022 22:11:25\t730faa7e...\r\n",
       "#84: LinslvPerfSer\tXdgPoisson-J512_k3_exp_gmres_levelpmg\t03/24/2022 22:10:39\tdcbb39c0...\r\n",
       "#85: LinslvPerfSer\tXdgPoisson-J64_k3_exp_gmres_levelpmg\t03/24/2022 22:10:34\t2d761339...\r\n",
       "#86: LinslvPerfSer\tXdgPoisson-J8_k3_exp_gmres_levelpmg\t03/24/2022 22:10:21\t2f6c955b...\r\n",
       "#87: LinslvPerfSer\tXdgPoisson-J4096_k2_exp_gmres_levelpmg\t03/24/2022 22:09:32\tf853429f...\r\n",
       "#88: LinslvPerfSer\tXdgPoisson-J512_k5_exp_Kcycle_schwarz\t03/24/2022 22:07:42\t2f10a551...\r\n",
       "#89: LinslvPerfSer\tXdgPoisson-J512_k2_exp_gmres_levelpmg\t03/24/2022 22:09:04\tff1fbb72...\r\n",
       "#90: LinslvPerfSer\tXdgPoisson-J64_k2_exp_gmres_levelpmg\t03/24/2022 22:08:53\t7f0c2568...\r\n",
       "#91: LinslvPerfSer\tXdgPoisson-J8_k2_exp_gmres_levelpmg\t03/24/2022 22:08:38\t5608801b...\r\n",
       "#92: LinslvPerfSer\tXdgPoisson-J64_k5_exp_Kcycle_schwarz\t03/24/2022 22:06:04\tec7516c0...\r\n",
       "#93: LinslvPerfSer\tXdgPoisson-J8_k5_exp_Kcycle_schwarz\t03/24/2022 22:04:57\t82cc11a5...\r\n",
       "#94: LinslvPerfSer\tXdgPoisson-J32768_k2_exp_Kcycle_schwarz\t03/24/2022 21:58:05\t97f30058...\r\n",
       "#95: LinslvPerfSer\tXdgPoisson-J4096_k3_exp_Kcycle_schwarz\t03/24/2022 21:59:33\tbc3fc09d...\r\n",
       "#96: LinslvPerfSer\tXdgPoisson-J512_k3_exp_Kcycle_schwarz\t03/24/2022 21:59:15\ta0381615...\r\n",
       "#97: LinslvPerfSer\tXdgPoisson-J64_k3_exp_Kcycle_schwarz\t03/24/2022 21:58:58\te074f54c...\r\n",
       "#98: LinslvPerfSer\tXdgPoisson-J8_k3_exp_Kcycle_schwarz\t03/24/2022 21:58:39\t343e2ce2...\r\n",
       "#99: LinslvPerfSer\tXdgPoisson-J4096_k2_exp_Kcycle_schwarz\t03/24/2022 21:57:45\ta8cbd59f...\r\n",
       "#100: LinslvPerfSer\tXdgPoisson-J512_k2_exp_Kcycle_schwarz\t03/24/2022 21:57:26\t474b92bc...\r\n",
       "#101: LinslvPerfSer\tXdgPoisson-J64_k2_exp_Kcycle_schwarz\t03/24/2022 21:57:07\tc7b45fa9...\r\n",
       "#102: LinslvPerfSer\tXdgPoisson-J8_k2_exp_Kcycle_schwarz\t03/24/2022 21:56:50\t777aeb08...\r\n",
       "#103: LinslvPerfSer\tBottiPietroStokes2D-J147456_p2_exp_Kcycle_schwarz\t03/22/2022 09:50:29\t3ceef9bd...\r\n",
       "#104: LinslvPerfSer\tBottiPietroStokes2D-J65536_p3_pMultigrid\t03/22/2022 10:33:32\t2f2b4f9d...\r\n",
       "#105: LinslvPerfSer\tBottiPietroStokes2D-J36864_p5_pMultigrid\t03/22/2022 10:44:32\tc77f417c...\r\n",
       "#106: LinslvPerfSer\tBottiPietroStokes2D-J36864_p3_pMultigrid\t03/22/2022 10:32:10\t5d24034d...\r\n",
       "#107: LinslvPerfSer\tBottiPietroStokes2D-J16384_p5_pMultigrid\t03/22/2022 10:43:08\t4ff4e50b...\r\n",
       "#108: LinslvPerfSer\tBottiPietroStokes2D-J65536_p2_exp_Kcycle_schwarz\t03/22/2022 09:49:24\t2225a68d...\r\n",
       "#109: LinslvPerfSer\tBottiPietroStokes2D-J36864_p5_exp_Kcycle_schwarz\t03/22/2022 10:09:19\t30be2b57...\r\n",
       "#110: LinslvPerfSer\tBottiPietroStokes2D-J36864_p3_exp_Kcycle_schwarz\t03/22/2022 09:59:02\t0a438ab2...\r\n",
       "#111: LinslvPerfSer\tBottiPietroStokes2D-J16384_p3_pMultigrid\t03/22/2022 10:30:51\td8b36c33...\r\n",
       "#112: LinslvPerfSer\tBottiPietroStokes2D-J65536_p3_exp_Kcycle_schwarz\t03/22/2022 10:00:08\t70c75b90...\r\n",
       "#113: LinslvPerfSer\tBottiPietroStokes2D-J4096_p3_pMultigrid\t03/22/2022 10:29:32\teac11755...\r\n",
       "#114: LinslvPerfSer\tBottiPietroStokes2D-J4096_p5_pMultigrid\t03/22/2022 10:41:45\t56787bd9...\r\n",
       "#115: LinslvPerfSer\tBottiPietroStokes2D-J36864_p2_exp_Kcycle_schwarz\t03/22/2022 09:48:22\t668ba7b9...\r\n",
       "#116: LinslvPerfSer\tBottiPietroStokes2D-J2304_p5_pMultigrid\t03/22/2022 10:40:24\t3220485a...\r\n",
       "#117: LinslvPerfSer\tBottiPietroStokes2D-J1024_p5_pMultigrid\t03/22/2022 10:39:01\t2a366a93...\r\n",
       "#118: LinslvPerfSer\tBottiPietroStokes2D-J2304_p3_pMultigrid\t03/22/2022 10:28:11\t4f804b8d...\r\n",
       "#119: LinslvPerfSer\tBottiPietroStokes2D-J576_p5_pMultigrid\t03/22/2022 10:37:38\t7e0fd87a...\r\n",
       "#120: LinslvPerfSer\tBottiPietroStokes2D-J256_p5_pMultigrid\t03/22/2022 10:36:14\t7bcaaa66...\r\n",
       "#121: LinslvPerfSer\tBottiPietroStokes2D-J16384_p3_exp_Kcycle_schwarz\t03/22/2022 09:57:54\tc54ac101...\r\n",
       "#122: LinslvPerfSer\tBottiPietroStokes2D-J64_p5_pMultigrid\t03/22/2022 10:34:55\t78954d2d...\r\n",
       "#123: LinslvPerfSer\tBottiPietroStokes2D-J1024_p3_pMultigrid\t03/22/2022 10:26:53\t21a4be20...\r\n",
       "#124: LinslvPerfSer\tBottiPietroStokes2D-J576_p3_pMultigrid\t03/22/2022 10:25:35\tf3deb8ce...\r\n",
       "#125: LinslvPerfSer\tBottiPietroStokes2D-J147456_p2_pMultigrid*\t03/22/2022 10:21:49\t4386d138...\r\n",
       "#126: LinslvPerfSer\tBottiPietroStokes2D-J256_p3_pMultigrid\t03/22/2022 10:24:20\t38164d12...\r\n",
       "#127: LinslvPerfSer\tBottiPietroStokes2D-J65536_p2_pMultigrid*\t03/22/2022 10:20:25\t01b67a24...\r\n",
       "#128: LinslvPerfSer\tBottiPietroStokes2D-J64_p3_pMultigrid\t03/22/2022 10:23:04\t1e578ec9...\r\n",
       "#129: LinslvPerfSer\tBottiPietroStokes2D-J36864_p2_pMultigrid*\t03/22/2022 10:19:12\t58135ee1...\r\n",
       "#130: LinslvPerfSer\tBottiPietroStokes2D-J4096_p2_pMultigrid\t03/22/2022 10:16:43\t49df4134...\r\n",
       "#131: LinslvPerfSer\tBottiPietroStokes2D-J16384_p2_pMultigrid*\t03/22/2022 10:17:58\t30f8b6d7...\r\n",
       "#132: LinslvPerfSer\tBottiPietroStokes2D-J16384_p5_exp_Kcycle_schwarz\t03/22/2022 10:08:10\tc661e5f7...\r\n",
       "#133: LinslvPerfSer\tBottiPietroStokes2D-J65536_p3_exp_gmres_levelpmg\t03/22/2022 09:32:57\t9f58b0f6...\r\n",
       "#134: LinslvPerfSer\tBottiPietroStokes2D-J2304_p2_pMultigrid*\t03/22/2022 10:15:28\te103c5af...\r\n",
       "#135: LinslvPerfSer\tBottiPietroStokes2D-J1024_p2_pMultigrid\t03/22/2022 10:14:14\t28445011...\r\n",
       "#136: LinslvPerfSer\tBottiPietroStokes2D-J576_p2_pMultigrid\t03/22/2022 10:13:04\tb6666d2f...\r\n",
       "#137: LinslvPerfSer\tBottiPietroStokes2D-J256_p2_pMultigrid\t03/22/2022 10:11:48\t7798d5db...\r\n",
       "#138: LinslvPerfSer\tBottiPietroStokes2D-J64_p2_pMultigrid\t03/22/2022 10:10:36\tf4b095f9...\r\n",
       "#139: LinslvPerfSer\tBottiPietroStokes2D-J4096_p5_exp_Kcycle_schwarz\t03/22/2022 10:06:55\t8717907c...\r\n",
       "#140: LinslvPerfSer\tBottiPietroStokes2D-J2304_p5_exp_Kcycle_schwarz\t03/22/2022 10:05:49\t9ae0a79d...\r\n",
       "#141: LinslvPerfSer\tBottiPietroStokes2D-J1024_p5_exp_Kcycle_schwarz\t03/22/2022 10:04:43\t6f2eb8fe...\r\n",
       "#142: LinslvPerfSer\tBottiPietroStokes2D-J576_p5_exp_Kcycle_schwarz\t03/22/2022 10:03:33\tf6077e2b...\r\n",
       "#143: LinslvPerfSer\tBottiPietroStokes2D-J256_p5_exp_Kcycle_schwarz\t03/22/2022 10:02:26\t879568f7...\r\n",
       "#144: LinslvPerfSer\tBottiPietroStokes2D-J64_p5_exp_Kcycle_schwarz\t03/22/2022 10:01:14\t29387f82...\r\n",
       "#145: LinslvPerfSer\tBottiPietroStokes2D-J16384_p2_exp_Kcycle_schwarz\t03/22/2022 09:47:19\tbd241e71...\r\n",
       "#146: LinslvPerfSer\tBottiPietroStokes2D-J4096_p3_exp_Kcycle_schwarz\t03/22/2022 09:56:47\t79608a58...\r\n",
       "#147: LinslvPerfSer\tBottiPietroStokes2D-J36864_p3_exp_gmres_levelpmg\t03/22/2022 09:32:07\t2412d18d...\r\n",
       "#148: LinslvPerfSer\tBottiPietroStokes2D-J2304_p3_exp_Kcycle_schwarz\t03/22/2022 09:55:42\t5da56232...\r\n",
       "#149: LinslvPerfSer\tBottiPietroStokes2D-J1024_p3_exp_Kcycle_schwarz\t03/22/2022 09:54:41\td72f6588...\r\n",
       "#150: LinslvPerfSer\tBottiPietroStokes2D-J576_p3_exp_Kcycle_schwarz\t03/22/2022 09:53:38\t302ffcbd...\r\n",
       "#151: LinslvPerfSer\tBottiPietroStokes2D-J256_p3_exp_Kcycle_schwarz\t03/22/2022 09:52:35\t3408df26...\r\n",
       "#152: LinslvPerfSer\tBottiPietroStokes2D-J64_p3_exp_Kcycle_schwarz\t03/22/2022 09:51:33\t093722e4...\r\n",
       "#153: LinslvPerfSer\tBottiPietroStokes2D-J4096_p2_exp_Kcycle_schwarz\t03/22/2022 09:46:16\tff50001f...\r\n",
       "#154: LinslvPerfSer\tBottiPietroStokes2D-J2304_p2_exp_Kcycle_schwarz\t03/22/2022 09:45:12\t7be180f9...\r\n",
       "#155: LinslvPerfSer\tBottiPietroStokes2D-J1024_p2_exp_Kcycle_schwarz\t03/22/2022 09:44:08\t938cb0cc...\r\n",
       "#156: LinslvPerfSer\tBottiPietroStokes2D-J576_p2_exp_Kcycle_schwarz\t03/22/2022 09:43:07\taa9232d2...\r\n",
       "#157: LinslvPerfSer\tBottiPietroStokes2D-J36864_p5_exp_gmres_levelpmg*\t03/22/2022 09:40:11\t774bb1d0...\r\n",
       "#158: LinslvPerfSer\tBottiPietroStokes2D-J256_p2_exp_Kcycle_schwarz\t03/22/2022 09:42:06\t7ad37d59...\r\n",
       "#159: LinslvPerfSer\tBottiPietroStokes2D-J147456_p2_exp_gmres_levelpmg\t03/22/2022 09:25:25\tb633bd65...\r\n",
       "#160: LinslvPerfSer\tBottiPietroStokes2D-J64_p2_exp_Kcycle_schwarz\t03/22/2022 09:41:08\t9ccf6d09...\r\n",
       "#161: LinslvPerfSer\tBottiPietroStokes2D-J16384_p3_exp_gmres_levelpmg\t03/22/2022 09:31:11\t102aa368...\r\n",
       "#162: LinslvPerfSer\tBottiPietroStokes2D-J16384_p5_exp_gmres_levelpmg*\t03/22/2022 09:39:13\t61a7c9bd...\r\n",
       "#163: LinslvPerfSer\tBottiPietroStokes2D-J4096_p5_exp_gmres_levelpmg*\t03/22/2022 09:38:18\t1d3e42d7...\r\n",
       "#164: LinslvPerfSer\tBottiPietroStokes2D-J2304_p5_exp_gmres_levelpmg*\t03/22/2022 09:37:21\te4c2227f...\r\n",
       "#165: LinslvPerfSer\tBottiPietroStokes2D-J1024_p5_exp_gmres_levelpmg*\t03/22/2022 09:36:28\tb8eeb77d...\r\n",
       "#166: LinslvPerfSer\tBottiPietroStokes2D-J576_p5_exp_gmres_levelpmg*\t03/22/2022 09:35:33\td754fa7e...\r\n",
       "#167: LinslvPerfSer\tBottiPietroStokes2D-J256_p5_exp_gmres_levelpmg*\t03/22/2022 09:34:43\t6676c09a...\r\n",
       "#168: LinslvPerfSer\tBottiPietroStokes2D-J64_p5_exp_gmres_levelpmg*\t03/22/2022 09:33:48\tc40b9fde...\r\n",
       "#169: LinslvPerfSer\tBottiPietroStokes2D-J4096_p3_exp_gmres_levelpmg\t03/22/2022 09:30:22\tfb692dc9...\r\n",
       "#170: LinslvPerfSer\tBottiPietroStokes2D-J65536_p2_exp_gmres_levelpmg\t03/22/2022 09:24:36\t7da1f155...\r\n",
       "#171: LinslvPerfSer\tBottiPietroStokes2D-J2304_p3_exp_gmres_levelpmg\t03/22/2022 09:29:31\tb7d97687...\r\n",
       "#172: LinslvPerfSer\tBottiPietroStokes2D-J1024_p3_exp_gmres_levelpmg\t03/22/2022 09:28:41\t9af23e11...\r\n",
       "#173: LinslvPerfSer\tBottiPietroStokes2D-J36864_p2_exp_gmres_levelpmg\t03/22/2022 09:23:48\t7119112f...\r\n",
       "#174: LinslvPerfSer\tBottiPietroStokes2D-J16384_p5_classic_pardiso\t03/22/2022 09:17:43\taccdf092...\r\n",
       "#175: LinslvPerfSer\tBottiPietroStokes2D-J576_p3_exp_gmres_levelpmg\t03/22/2022 09:27:50\te2000e35...\r\n",
       "#176: LinslvPerfSer\tBottiPietroStokes2D-J256_p3_exp_gmres_levelpmg\t03/22/2022 09:27:01\ta5e63760...\r\n",
       "#177: LinslvPerfSer\tBottiPietroStokes2D-J64_p3_exp_gmres_levelpmg\t03/22/2022 09:26:13\te0220e05...\r\n",
       "#178: LinslvPerfSer\tBottiPietroStokes2D-J16384_p2_exp_gmres_levelpmg\t03/22/2022 09:22:59\tee54b27a...\r\n",
       "#179: LinslvPerfSer\tBottiPietroStokes2D-J4096_p2_exp_gmres_levelpmg\t03/22/2022 09:22:12\td959a9ac...\r\n",
       "#180: LinslvPerfSer\tBottiPietroStokes2D-J2304_p2_exp_gmres_levelpmg\t03/22/2022 09:21:27\tb07d3bf8...\r\n",
       "#181: LinslvPerfSer\tBottiPietroStokes2D-J1024_p2_exp_gmres_levelpmg\t03/22/2022 09:20:42\t35453cff...\r\n",
       "#182: LinslvPerfSer\tBottiPietroStokes2D-J36864_p3_classic_pardiso\t03/22/2022 09:12:54\t950670b4...\r\n",
       "#183: LinslvPerfSer\tBottiPietroStokes2D-J576_p2_exp_gmres_levelpmg\t03/22/2022 09:19:58\t2d01ab34...\r\n",
       "#184: LinslvPerfSer\tBottiPietroStokes2D-J256_p2_exp_gmres_levelpmg\t03/22/2022 09:19:11\tfc383984...\r\n",
       "#185: LinslvPerfSer\tBottiPietroStokes2D-J4096_p5_classic_pardiso\t03/22/2022 09:17:01\t7a3d346a...\r\n",
       "#186: LinslvPerfSer\tBottiPietroStokes2D-J64_p2_exp_gmres_levelpmg\t03/22/2022 09:18:28\t39c70f44...\r\n",
       "#187: LinslvPerfSer\tBottiPietroStokes2D-J2304_p5_classic_pardiso\t03/22/2022 09:16:17\tc6eacae3...\r\n",
       "#188: LinslvPerfSer\tBottiPietroStokes2D-J65536_p2_classic_pardiso\t03/22/2022 09:07:54\t42c975c4...\r\n",
       "#189: LinslvPerfSer\tBottiPietroStokes2D-J1024_p5_classic_pardiso\t03/22/2022 09:15:35\t37714c2b...\r\n",
       "#190: LinslvPerfSer\tBottiPietroStokes2D-J576_p5_classic_pardiso\t03/22/2022 09:14:55\t966e1e27...\r\n",
       "#191: LinslvPerfSer\tBottiPietroStokes2D-J16384_p3_classic_pardiso\t03/22/2022 09:12:15\tf4df5732...\r\n",
       "#192: LinslvPerfSer\tBottiPietroStokes2D-J256_p5_classic_pardiso\t03/22/2022 09:14:12\tc93b5fec...\r\n",
       "#193: LinslvPerfSer\tBottiPietroStokes2D-J64_p5_classic_pardiso\t03/22/2022 09:13:32\t20f93aba...\r\n",
       "#194: LinslvPerfSer\tBottiPietroStokes2D-J4096_p3_classic_pardiso\t03/22/2022 09:11:37\t6a600f81...\r\n",
       "#195: LinslvPerfSer\tBottiPietroStokes2D-J36864_p2_classic_pardiso\t03/22/2022 09:07:19\t9fd66283...\r\n",
       "#196: LinslvPerfSer\tBottiPietroStokes2D-J2304_p3_classic_pardiso\t03/22/2022 09:10:59\t09548b5d...\r\n",
       "#197: LinslvPerfSer\tBottiPietroStokes2D-J1024_p3_classic_pardiso\t03/22/2022 09:10:21\t20d10759...\r\n",
       "#198: LinslvPerfSer\tBottiPietroStokes2D-J576_p3_classic_pardiso\t03/22/2022 09:09:44\t596d2980...\r\n",
       "#199: LinslvPerfSer\tBottiPietroStokes2D-J256_p3_classic_pardiso\t03/22/2022 09:09:09\te31bbf21...\r\n",
       "#200: LinslvPerfSer\tBottiPietroStokes2D-J64_p3_classic_pardiso\t03/22/2022 09:08:33\t037c41fc...\r\n",
       "#201: LinslvPerfSer\tBottiPietroStokes2D-J16384_p2_classic_pardiso\t03/22/2022 09:06:40\t94516bfe...\r\n",
       "#202: LinslvPerfSer\tBottiPietroStokes2D-J4096_p2_classic_pardiso\t03/22/2022 09:06:07\tb8be07a9...\r\n",
       "#203: LinslvPerfSer\tBottiPietroStokes2D-J2304_p2_classic_pardiso\t03/22/2022 09:05:31\t2d41dcf3...\r\n",
       "#204: LinslvPerfSer\tBottiPietroStokes2D-J1024_p2_classic_pardiso\t03/22/2022 09:04:57\tfd48cc38...\r\n",
       "#205: LinslvPerfSer\tBottiPietroStokes2D-J576_p2_classic_pardiso\t03/22/2022 09:04:24\t44cc0894...\r\n",
       "#206: LinslvPerfSer\tBottiPietroStokes2D-J256_p2_classic_pardiso\t03/22/2022 09:03:50\ta0b775a7...\r\n",
       "#207: LinslvPerfSer\tBottiPietroStokes2D-J64_p2_classic_pardiso\t03/22/2022 09:03:17\t5f8717de...\r\n",
       "#208: LinslvPerfSer\tXdgPoisson-J32768_k3_classic_pardiso\t03/21/2022 17:07:16\t0829458f...\r\n",
       "#209: LinslvPerfSer\tXdgPoisson-J4096_k5_classic_pardiso\t03/21/2022 17:08:04\t61e83e6d...\r\n",
       "#210: LinslvPerfSer\tXdgPoisson-J32768_k2_classic_pardiso\t03/21/2022 17:06:19\tb4aeece3...\r\n",
       "#211: LinslvPerfSer\tXdgPoisson-J512_k5_classic_pardiso\t03/21/2022 17:07:52\tad1e5d9c...\r\n",
       "#212: LinslvPerfSer\tXdgPoisson-J4096_k3_classic_pardiso\t03/21/2022 17:07:06\t8aeb4fe8...\r\n",
       "#213: LinslvPerfSer\tXdgPoisson-J64_k5_classic_pardiso\t03/21/2022 17:07:40\t90f67624...\r\n",
       "#214: LinslvPerfSer\tXdgPoisson-J8_k5_classic_pardiso\t03/21/2022 17:07:29\t2605a084...\r\n",
       "#215: LinslvPerfSer\tXdgPoisson-J512_k3_classic_pardiso\t03/21/2022 17:06:54\t8071ed66...\r\n",
       "#216: LinslvPerfSer\tXdgPoisson-J4096_k2_classic_pardiso\t03/21/2022 17:06:07\t6c6f12e3...\r\n",
       "#217: LinslvPerfSer\tXdgPoisson-J64_k3_classic_pardiso\t03/21/2022 17:06:40\t00907926...\r\n",
       "#218: LinslvPerfSer\tXdgPoisson-J8_k3_classic_pardiso\t03/21/2022 17:06:30\td4e671e0...\r\n",
       "#219: LinslvPerfSer\tXdgPoisson-J512_k2_classic_pardiso\t03/21/2022 17:05:56\t34bc470a...\r\n",
       "#220: LinslvPerfSer\tXdgPoisson-J64_k2_classic_pardiso\t03/21/2022 17:05:44\t9bc4c102...\r\n",
       "#221: LinslvPerfSer\tXdgPoisson-J8_k2_classic_pardiso\t03/21/2022 17:05:33\taa5cc41e...\r\n",
       "#222: LinslvPerfSer\tSIP_Poisson_J163840_k2_pMultigrid\t03/21/2022 08:08:19\t944dc204...\r\n",
       "#223: LinslvPerfSer\tSIP_Poisson_J69120_k2_pMultigrid\t03/21/2022 08:08:09\t87606def...\r\n",
       "#224: LinslvPerfSer\tSIP_Poisson_J20480_k5_pMultigrid\t03/21/2022 08:09:39\t768a01c3...\r\n",
       "#225: LinslvPerfSer\tSIP_Poisson_J20480_k2_pMultigrid\t03/21/2022 08:07:57\t9ea8e719...\r\n",
       "#226: LinslvPerfSer\tSIP_Poisson_J20480_k5_exp_Kcycle_schwarz\t03/21/2022 08:07:19\tbc5682c8...\r\n",
       "#227: LinslvPerfSer\tSIP_Poisson_J20480_k5_exp_gmres_levelpmg\t03/21/2022 08:05:07\t6d5f71b2...\r\n",
       "#228: LinslvPerfSer\tSIP_Poisson_J69120_k3_pMultigrid\t03/21/2022 08:09:08\t6b95c745...\r\n",
       "#229: LinslvPerfSer\tSIP_Poisson_J163840_k2_exp_Kcycle_schwarz\t03/21/2022 08:05:59\t6e204b55...\r\n",
       "#230: LinslvPerfSer\tSIP_Poisson_J69120_k3_exp_gmres_levelpmg\t03/21/2022 08:04:36\td3e777f8...\r\n",
       "#231: LinslvPerfSer\tSIP_Poisson_J163840_k2_exp_gmres_levelpmg\t03/21/2022 08:03:55\tae39c301...\r\n",
       "#232: LinslvPerfSer\tSIP_Poisson_J69120_k3_exp_Kcycle_schwarz\t03/21/2022 08:06:45\tfcb0e1ec...\r\n",
       "#233: LinslvPerfSer\tSIP_Poisson_J69120_k2_classic_pardiso\t03/21/2022 08:02:18\td53b9185...\r\n",
       "#234: LinslvPerfSer\tSIP_Poisson_J2560_k5_pMultigrid\t03/21/2022 08:09:27\tcdd58b3d...\r\n",
       "#235: LinslvPerfSer\tSIP_Poisson_J20480_k3_pMultigrid\t03/21/2022 08:08:56\tacd89433...\r\n",
       "#236: LinslvPerfSer\tSIP_Poisson_J69120_k2_exp_Kcycle_schwarz\t03/21/2022 08:05:48\tff9e82b2...\r\n",
       "#237: LinslvPerfSer\tSIP_Poisson_J20480_k3_classic_pardiso\t03/21/2022 08:02:47\td43b3ffc...\r\n",
       "#238: LinslvPerfSer\tSIP_Poisson_J320_k5_pMultigrid\t03/21/2022 08:09:16\t20f24b0e...\r\n",
       "#239: LinslvPerfSer\tSIP_Poisson_J20480_k3_exp_Kcycle_schwarz\t03/21/2022 08:06:36\ta641e669...\r\n",
       "#240: LinslvPerfSer\tSIP_Poisson_J2560_k5_exp_Kcycle_schwarz\t03/21/2022 08:07:08\t7355b56b...\r\n",
       "#241: LinslvPerfSer\tSIP_Poisson_J2560_k3_pMultigrid\t03/21/2022 08:08:41\t164a8bf5...\r\n",
       "#242: LinslvPerfSer\tSIP_Poisson_J320_k3_pMultigrid\t03/21/2022 08:08:31\t717c908d...\r\n",
       "#243: LinslvPerfSer\tSIP_Poisson_J2560_k2_pMultigrid\t03/21/2022 08:07:43\t714e8d0f...\r\n",
       "#244: LinslvPerfSer\tSIP_Poisson_J69120_k2_exp_gmres_levelpmg\t03/21/2022 08:03:46\t45bab8dd...\r\n",
       "#245: LinslvPerfSer\tSIP_Poisson_J320_k2_pMultigrid\t03/21/2022 08:07:33\tb2366e73...\r\n",
       "#246: LinslvPerfSer\tSIP_Poisson_J320_k5_exp_Kcycle_schwarz\t03/21/2022 08:06:57\t743101b2...\r\n",
       "#247: LinslvPerfSer\tSIP_Poisson_J20480_k2_exp_Kcycle_schwarz\t03/21/2022 08:05:38\t125e17a1...\r\n",
       "#248: LinslvPerfSer\tSIP_Poisson_J2560_k3_exp_Kcycle_schwarz\t03/21/2022 08:06:22\t3ddbbad2...\r\n",
       "#249: LinslvPerfSer\tSIP_Poisson_J20480_k3_exp_gmres_levelpmg\t03/21/2022 08:04:26\t970f2073...\r\n",
       "#250: LinslvPerfSer\tSIP_Poisson_J2560_k5_exp_gmres_levelpmg\t03/21/2022 08:04:57\td23dbd6a...\r\n",
       "#251: LinslvPerfSer\tSIP_Poisson_J320_k3_exp_Kcycle_schwarz\t03/21/2022 08:06:10\t75074532...\r\n",
       "#252: LinslvPerfSer\tSIP_Poisson_J2560_k5_classic_pardiso\t03/21/2022 08:03:06\tf627eddb...\r\n",
       "#253: LinslvPerfSer\tSIP_Poisson_J2560_k2_exp_Kcycle_schwarz\t03/21/2022 08:05:27\t4efc2e94...\r\n",
       "#254: LinslvPerfSer\tSIP_Poisson_J320_k2_exp_Kcycle_schwarz\t03/21/2022 08:05:16\tffcd27e3...\r\n",
       "#255: LinslvPerfSer\tSIP_Poisson_J320_k5_exp_gmres_levelpmg\t03/21/2022 08:04:46\t7cb6c881...\r\n",
       "#256: LinslvPerfSer\tSIP_Poisson_J20480_k2_exp_gmres_levelpmg\t03/21/2022 08:03:36\te87b3e36...\r\n",
       "#257: LinslvPerfSer\tSIP_Poisson_J2560_k3_exp_gmres_levelpmg\t03/21/2022 08:04:17\t67f284ed...\r\n",
       "#258: LinslvPerfSer\tSIP_Poisson_J320_k3_exp_gmres_levelpmg\t03/21/2022 08:04:06\t595cc3d9...\r\n",
       "#259: LinslvPerfSer\tSIP_Poisson_J20480_k2_classic_pardiso\t03/21/2022 08:02:08\t827ce0e1...\r\n",
       "#260: LinslvPerfSer\tSIP_Poisson_J2560_k2_exp_gmres_levelpmg\t03/21/2022 08:03:26\td77d40ee...\r\n",
       "#261: LinslvPerfSer\tSIP_Poisson_J320_k2_exp_gmres_levelpmg\t03/21/2022 08:03:16\t9e099c3c...\r\n",
       "#262: LinslvPerfSer\tSIP_Poisson_J320_k5_classic_pardiso\t03/21/2022 08:02:57\t8d6704cb...\r\n",
       "#263: LinslvPerfSer\tSIP_Poisson_J2560_k3_classic_pardiso\t03/21/2022 08:02:37\t56279d0f...\r\n",
       "#264: LinslvPerfSer\tSIP_Poisson_J320_k3_classic_pardiso\t03/21/2022 08:02:27\ta063067c...\r\n",
       "#265: LinslvPerfSer\tSIP_Poisson_J2560_k2_classic_pardiso\t03/21/2022 08:01:58\tb9182a7c...\r\n",
       "#266: LinslvPerfSer\tSIP_Poisson_J320_k2_classic_pardiso\t03/21/2022 08:01:48\ta47c6a79...\r\n"
      ]
     },
     "execution_count": 39,
     "metadata": {},
     "output_type": "execute_result"
    }
   ],
   "source": [
    "wmg.Sessions"
   ]
  },
  {
   "cell_type": "code",
   "execution_count": 43,
   "metadata": {},
   "outputs": [],
   "source": [
    "//wmg.Sessions[118]"
   ]
  },
  {
   "cell_type": "code",
   "execution_count": 31,
   "metadata": {},
   "outputs": [
    {
     "data": {
      "text/plain": [
       "#0: BottiPietroStokes2D-J64_p5_exp_gmres_levelpmg: FailedOrCanceled (MS HPC client  MSHPC-AllNodes @DC2, @\\\\fdygitrunner\\ValidationTests)\r\n",
       "#1: BottiPietroStokes2D-J256_p5_exp_gmres_levelpmg: FailedOrCanceled (MS HPC client  MSHPC-AllNodes @DC2, @\\\\fdygitrunner\\ValidationTests)\r\n",
       "#2: BottiPietroStokes2D-J576_p5_exp_gmres_levelpmg: FailedOrCanceled (MS HPC client  MSHPC-AllNodes @DC2, @\\\\fdygitrunner\\ValidationTests)\r\n",
       "#3: BottiPietroStokes2D-J1024_p5_exp_gmres_levelpmg: FailedOrCanceled (MS HPC client  MSHPC-AllNodes @DC2, @\\\\fdygitrunner\\ValidationTests)\r\n",
       "#4: BottiPietroStokes2D-J2304_p5_exp_gmres_levelpmg: FailedOrCanceled (MS HPC client  MSHPC-AllNodes @DC2, @\\\\fdygitrunner\\ValidationTests)\r\n",
       "#5: BottiPietroStokes2D-J4096_p5_exp_gmres_levelpmg: FailedOrCanceled (MS HPC client  MSHPC-AllNodes @DC2, @\\\\fdygitrunner\\ValidationTests)\r\n",
       "#6: BottiPietroStokes2D-J16384_p5_exp_gmres_levelpmg: FailedOrCanceled (MS HPC client  MSHPC-AllNodes @DC2, @\\\\fdygitrunner\\ValidationTests)\r\n",
       "#7: BottiPietroStokes2D-J36864_p5_exp_gmres_levelpmg: FailedOrCanceled (MS HPC client  MSHPC-AllNodes @DC2, @\\\\fdygitrunner\\ValidationTests)\r\n",
       "#8: BottiPietroStokes2D-J2304_p2_pMultigrid: FailedOrCanceled (MS HPC client  MSHPC-AllNodes @DC2, @\\\\fdygitrunner\\ValidationTests)\r\n",
       "#9: BottiPietroStokes2D-J16384_p2_pMultigrid: FailedOrCanceled (MS HPC client  MSHPC-AllNodes @DC2, @\\\\fdygitrunner\\ValidationTests)\r\n",
       "#10: BottiPietroStokes2D-J36864_p2_pMultigrid: FailedOrCanceled (MS HPC client  MSHPC-AllNodes @DC2, @\\\\fdygitrunner\\ValidationTests)\r\n",
       "#11: BottiPietroStokes2D-J65536_p2_pMultigrid: FailedOrCanceled (MS HPC client  MSHPC-AllNodes @DC2, @\\\\fdygitrunner\\ValidationTests)\r\n",
       "#12: BottiPietroStokes2D-J147456_p2_pMultigrid: FailedOrCanceled (MS HPC client  MSHPC-AllNodes @DC2, @\\\\fdygitrunner\\ValidationTests)\r\n"
      ]
     },
     "execution_count": 31,
     "metadata": {},
     "output_type": "execute_result"
    }
   ],
   "source": [
    "var NoSuccess = controls.Select(ctrl => ctrl.GetJob()).Where(job => job.Status != JobStatus.FinishedSuccessful).ToArray();\n",
    "NoSuccess"
   ]
  },
  {
   "cell_type": "code",
   "execution_count": 32,
   "metadata": {},
   "outputs": [
    {
     "name": "stdout",
     "output_type": "stream",
     "text": [
      "BottiPietroStokes2D-J64_p5_exp_gmres_levelpmg: FailedOrCanceled (MS HPC client  MSHPC-AllNodes @DC2, @\\\\fdygitrunner\\ValidationTests):  @\\\\fdygitrunner\\ValidationTests\\LinslvPerfSer-XNSE_Solver2022Mar22_093324\n",
      "BottiPietroStokes2D-J256_p5_exp_gmres_levelpmg: FailedOrCanceled (MS HPC client  MSHPC-AllNodes @DC2, @\\\\fdygitrunner\\ValidationTests):  @\\\\fdygitrunner\\ValidationTests\\LinslvPerfSer-XNSE_Solver2022Mar22_093417\n",
      "BottiPietroStokes2D-J576_p5_exp_gmres_levelpmg: FailedOrCanceled (MS HPC client  MSHPC-AllNodes @DC2, @\\\\fdygitrunner\\ValidationTests):  @\\\\fdygitrunner\\ValidationTests\\LinslvPerfSer-XNSE_Solver2022Mar22_093509\n",
      "BottiPietroStokes2D-J1024_p5_exp_gmres_levelpmg: FailedOrCanceled (MS HPC client  MSHPC-AllNodes @DC2, @\\\\fdygitrunner\\ValidationTests):  @\\\\fdygitrunner\\ValidationTests\\LinslvPerfSer-XNSE_Solver2022Mar22_093603\n",
      "BottiPietroStokes2D-J2304_p5_exp_gmres_levelpmg: FailedOrCanceled (MS HPC client  MSHPC-AllNodes @DC2, @\\\\fdygitrunner\\ValidationTests):  @\\\\fdygitrunner\\ValidationTests\\LinslvPerfSer-XNSE_Solver2022Mar22_093657\n",
      "BottiPietroStokes2D-J4096_p5_exp_gmres_levelpmg: FailedOrCanceled (MS HPC client  MSHPC-AllNodes @DC2, @\\\\fdygitrunner\\ValidationTests):  @\\\\fdygitrunner\\ValidationTests\\LinslvPerfSer-XNSE_Solver2022Mar22_093751\n",
      "BottiPietroStokes2D-J16384_p5_exp_gmres_levelpmg: FailedOrCanceled (MS HPC client  MSHPC-AllNodes @DC2, @\\\\fdygitrunner\\ValidationTests):  @\\\\fdygitrunner\\ValidationTests\\LinslvPerfSer-XNSE_Solver2022Mar22_093847\n",
      "BottiPietroStokes2D-J36864_p5_exp_gmres_levelpmg: FailedOrCanceled (MS HPC client  MSHPC-AllNodes @DC2, @\\\\fdygitrunner\\ValidationTests):  @\\\\fdygitrunner\\ValidationTests\\LinslvPerfSer-XNSE_Solver2022Mar22_093945\n",
      "BottiPietroStokes2D-J2304_p2_pMultigrid: FailedOrCanceled (MS HPC client  MSHPC-AllNodes @DC2, @\\\\fdygitrunner\\ValidationTests):  @\\\\fdygitrunner\\ValidationTests\\LinslvPerfSer-XNSE_Solver2022Mar22_101459\n",
      "BottiPietroStokes2D-J16384_p2_pMultigrid: FailedOrCanceled (MS HPC client  MSHPC-AllNodes @DC2, @\\\\fdygitrunner\\ValidationTests):  @\\\\fdygitrunner\\ValidationTests\\LinslvPerfSer-XNSE_Solver2022Mar22_101727\n",
      "BottiPietroStokes2D-J36864_p2_pMultigrid: FailedOrCanceled (MS HPC client  MSHPC-AllNodes @DC2, @\\\\fdygitrunner\\ValidationTests):  @\\\\fdygitrunner\\ValidationTests\\LinslvPerfSer-XNSE_Solver2022Mar22_101844\n",
      "BottiPietroStokes2D-J65536_p2_pMultigrid: FailedOrCanceled (MS HPC client  MSHPC-AllNodes @DC2, @\\\\fdygitrunner\\ValidationTests):  @\\\\fdygitrunner\\ValidationTests\\LinslvPerfSer-XNSE_Solver2022Mar22_102000\n",
      "BottiPietroStokes2D-J147456_p2_pMultigrid: FailedOrCanceled (MS HPC client  MSHPC-AllNodes @DC2, @\\\\fdygitrunner\\ValidationTests):  @\\\\fdygitrunner\\ValidationTests\\LinslvPerfSer-XNSE_Solver2022Mar22_102118\n"
     ]
    }
   ],
   "source": [
    "// In the case of some failed job, print the directory name for further inspection:\n",
    "foreach(var fail in NoSuccess)\n",
    "    Console.WriteLine(fail + \":  @\" + fail.LatestDeployment.DeploymentDirectory.FullName);\n",
    "    //Console.WriteLine(fail.LatestDeployment);"
   ]
  },
  {
   "cell_type": "code",
   "execution_count": 33,
   "metadata": {},
   "outputs": [
    {
     "data": {
      "text/plain": [
       "#0: LinslvPerfSer\tBottiPietroStokes2D-J147456_p2_pMultigrid*\t03/22/2022 10:21:49\t4386d138...\r\n",
       "#1: LinslvPerfSer\tBottiPietroStokes2D-J65536_p2_pMultigrid*\t03/22/2022 10:20:25\t01b67a24...\r\n",
       "#2: LinslvPerfSer\tBottiPietroStokes2D-J36864_p2_pMultigrid*\t03/22/2022 10:19:12\t58135ee1...\r\n",
       "#3: LinslvPerfSer\tBottiPietroStokes2D-J16384_p2_pMultigrid*\t03/22/2022 10:17:58\t30f8b6d7...\r\n",
       "#4: LinslvPerfSer\tBottiPietroStokes2D-J2304_p2_pMultigrid*\t03/22/2022 10:15:28\te103c5af...\r\n",
       "#5: LinslvPerfSer\tBottiPietroStokes2D-J36864_p5_exp_gmres_levelpmg*\t03/22/2022 09:40:11\t774bb1d0...\r\n",
       "#6: LinslvPerfSer\tBottiPietroStokes2D-J16384_p5_exp_gmres_levelpmg*\t03/22/2022 09:39:13\t61a7c9bd...\r\n",
       "#7: LinslvPerfSer\tBottiPietroStokes2D-J4096_p5_exp_gmres_levelpmg*\t03/22/2022 09:38:18\t1d3e42d7...\r\n",
       "#8: LinslvPerfSer\tBottiPietroStokes2D-J2304_p5_exp_gmres_levelpmg*\t03/22/2022 09:37:21\te4c2227f...\r\n",
       "#9: LinslvPerfSer\tBottiPietroStokes2D-J1024_p5_exp_gmres_levelpmg*\t03/22/2022 09:36:28\tb8eeb77d...\r\n",
       "#10: LinslvPerfSer\tBottiPietroStokes2D-J576_p5_exp_gmres_levelpmg*\t03/22/2022 09:35:33\td754fa7e...\r\n",
       "#11: LinslvPerfSer\tBottiPietroStokes2D-J256_p5_exp_gmres_levelpmg*\t03/22/2022 09:34:43\t6676c09a...\r\n",
       "#12: LinslvPerfSer\tBottiPietroStokes2D-J64_p5_exp_gmres_levelpmg*\t03/22/2022 09:33:48\tc40b9fde...\r\n"
      ]
     },
     "execution_count": 33,
     "metadata": {},
     "output_type": "execute_result"
    }
   ],
   "source": [
    "var FailedSessions = wmg.Sessions.Where(Si => Si.Name.Contains(\"BottiPietroStokes2D\") && Si.SuccessfulTermination == false);\n",
    "FailedSessions"
   ]
  },
  {
   "cell_type": "code",
   "execution_count": 34,
   "metadata": {},
   "outputs": [
    {
     "data": {
      "text/html": [
       "<table><thead><tr><th><i>index</i></th><th>Item1</th><th>Item2</th><th>Item3</th></tr></thead><tbody><tr><td>0</td><td>LinslvPerfSer\tBottiPietroStokes2D-J147456_p2_pMultigrid*\t03/22/2022 10:21:49\t4386d138...</td><td>\\\\fdygitrunner\\ValidationTests\\LinslvPerfSer\\sessions\\4386d138-7ff9-4fc3-848c-8cdb40d883f4</td><td>\\\\fdygitrunner\\ValidationTests\\LinslvPerfSer-XNSE_Solver2022Mar22_102118</td></tr><tr><td>1</td><td>LinslvPerfSer\tBottiPietroStokes2D-J65536_p2_pMultigrid*\t03/22/2022 10:20:25\t01b67a24...</td><td>\\\\fdygitrunner\\ValidationTests\\LinslvPerfSer\\sessions\\01b67a24-e72c-4990-b1a5-2a044befb20b</td><td>\\\\fdygitrunner\\ValidationTests\\LinslvPerfSer-XNSE_Solver2022Mar22_102000</td></tr><tr><td>2</td><td>LinslvPerfSer\tBottiPietroStokes2D-J36864_p2_pMultigrid*\t03/22/2022 10:19:12\t58135ee1...</td><td>\\\\fdygitrunner\\ValidationTests\\LinslvPerfSer\\sessions\\58135ee1-e39e-4255-8187-64b7858a4332</td><td>\\\\fdygitrunner\\ValidationTests\\LinslvPerfSer-XNSE_Solver2022Mar22_101844</td></tr><tr><td>3</td><td>LinslvPerfSer\tBottiPietroStokes2D-J16384_p2_pMultigrid*\t03/22/2022 10:17:58\t30f8b6d7...</td><td>\\\\fdygitrunner\\ValidationTests\\LinslvPerfSer\\sessions\\30f8b6d7-57e2-426e-b8c4-e172575201e6</td><td>\\\\fdygitrunner\\ValidationTests\\LinslvPerfSer-XNSE_Solver2022Mar22_101727</td></tr><tr><td>4</td><td>LinslvPerfSer\tBottiPietroStokes2D-J2304_p2_pMultigrid*\t03/22/2022 10:15:28\te103c5af...</td><td>\\\\fdygitrunner\\ValidationTests\\LinslvPerfSer\\sessions\\e103c5af-467e-4109-b75e-3220d76b419e</td><td>\\\\fdygitrunner\\ValidationTests\\LinslvPerfSer-XNSE_Solver2022Mar22_101459</td></tr><tr><td>5</td><td>LinslvPerfSer\tBottiPietroStokes2D-J36864_p5_exp_gmres_levelpmg*\t03/22/2022 09:40:11\t774bb1d0...</td><td>\\\\fdygitrunner\\ValidationTests\\LinslvPerfSer\\sessions\\774bb1d0-8506-447f-96d9-beb91412e57e</td><td>\\\\fdygitrunner\\ValidationTests\\LinslvPerfSer-XNSE_Solver2022Mar22_093945</td></tr><tr><td>6</td><td>LinslvPerfSer\tBottiPietroStokes2D-J16384_p5_exp_gmres_levelpmg*\t03/22/2022 09:39:13\t61a7c9bd...</td><td>\\\\fdygitrunner\\ValidationTests\\LinslvPerfSer\\sessions\\61a7c9bd-0951-4c92-a53d-74a3bcbffa67</td><td>\\\\fdygitrunner\\ValidationTests\\LinslvPerfSer-XNSE_Solver2022Mar22_093847</td></tr><tr><td>7</td><td>LinslvPerfSer\tBottiPietroStokes2D-J4096_p5_exp_gmres_levelpmg*\t03/22/2022 09:38:18\t1d3e42d7...</td><td>\\\\fdygitrunner\\ValidationTests\\LinslvPerfSer\\sessions\\1d3e42d7-c807-4bc3-884d-651404605531</td><td>\\\\fdygitrunner\\ValidationTests\\LinslvPerfSer-XNSE_Solver2022Mar22_093751</td></tr><tr><td>8</td><td>LinslvPerfSer\tBottiPietroStokes2D-J2304_p5_exp_gmres_levelpmg*\t03/22/2022 09:37:21\te4c2227f...</td><td>\\\\fdygitrunner\\ValidationTests\\LinslvPerfSer\\sessions\\e4c2227f-6d18-49c4-a3ed-83c668a68830</td><td>\\\\fdygitrunner\\ValidationTests\\LinslvPerfSer-XNSE_Solver2022Mar22_093657</td></tr><tr><td>9</td><td>LinslvPerfSer\tBottiPietroStokes2D-J1024_p5_exp_gmres_levelpmg*\t03/22/2022 09:36:28\tb8eeb77d...</td><td>\\\\fdygitrunner\\ValidationTests\\LinslvPerfSer\\sessions\\b8eeb77d-0889-4b7f-ad78-971456c14ca6</td><td>\\\\fdygitrunner\\ValidationTests\\LinslvPerfSer-XNSE_Solver2022Mar22_093603</td></tr><tr><td>10</td><td>LinslvPerfSer\tBottiPietroStokes2D-J576_p5_exp_gmres_levelpmg*\t03/22/2022 09:35:33\td754fa7e...</td><td>\\\\fdygitrunner\\ValidationTests\\LinslvPerfSer\\sessions\\d754fa7e-163d-40bd-ae55-a4b5fa2bf641</td><td>\\\\fdygitrunner\\ValidationTests\\LinslvPerfSer-XNSE_Solver2022Mar22_093509</td></tr><tr><td>11</td><td>LinslvPerfSer\tBottiPietroStokes2D-J256_p5_exp_gmres_levelpmg*\t03/22/2022 09:34:43\t6676c09a...</td><td>\\\\fdygitrunner\\ValidationTests\\LinslvPerfSer\\sessions\\6676c09a-cf00-48d3-8a1f-dfb707aaf0f9</td><td>\\\\fdygitrunner\\ValidationTests\\LinslvPerfSer-XNSE_Solver2022Mar22_093417</td></tr><tr><td>12</td><td>LinslvPerfSer\tBottiPietroStokes2D-J64_p5_exp_gmres_levelpmg*\t03/22/2022 09:33:48\tc40b9fde...</td><td>\\\\fdygitrunner\\ValidationTests\\LinslvPerfSer\\sessions\\c40b9fde-64bb-47ac-9d0b-8edbdc14e044</td><td>\\\\fdygitrunner\\ValidationTests\\LinslvPerfSer-XNSE_Solver2022Mar22_093324</td></tr></tbody></table>"
      ]
     },
     "execution_count": 34,
     "metadata": {},
     "output_type": "execute_result"
    }
   ],
   "source": [
    "FailedSessions.Select(si => (si, si.GetSessionDirectory(), si.DeployPath))"
   ]
  },
  {
   "cell_type": "code",
   "execution_count": 35,
   "metadata": {},
   "outputs": [],
   "source": [
    "//foreach(var si in FailedSessions)\n",
    "//   si.Delete(true);"
   ]
  },
  {
   "cell_type": "code",
   "execution_count": 36,
   "metadata": {},
   "outputs": [
    {
     "ename": "Unhandled exception",
     "evalue": "NUnit.Framework.AssertionException:   Some Jobs Failed\r\n  Expected: 0\r\n  But was:  13\r\n\r\n   at NUnit.Framework.Assert.ReportFailure(String message) in /_/src/NUnitFramework/framework/Assert.cs:line 395\r\n   at NUnit.Framework.Assert.ReportFailure(ConstraintResult result, String message, Object[] args) in /_/src/NUnitFramework/framework/Assert.cs:line 383\r\n   at NUnit.Framework.Assert.That[TActual](TActual actual, IResolveConstraint expression, String message, Object[] args) in /_/src/NUnitFramework/framework/Assert.That.cs:line 229\r\n   at NUnit.Framework.Assert.Zero(Int32 actual, String message, Object[] args) in /_/src/NUnitFramework/framework/Assert.Conditions.cs:line 484\r\n   at Submission#38.<<Initialize>>d__0.MoveNext()\r\n--- End of stack trace from previous location ---\r\n   at Microsoft.CodeAnalysis.Scripting.ScriptExecutionState.RunSubmissionsAsync[TResult](ImmutableArray`1 precedingExecutors, Func`2 currentExecutor, StrongBox`1 exceptionHolderOpt, Func`2 catchExceptionOpt, CancellationToken cancellationToken)",
     "output_type": "error",
     "traceback": [
      "NUnit.Framework.AssertionException:   Some Jobs Failed\r\n  Expected: 0\r\n  But was:  13\r\n\r\n   at NUnit.Framework.Assert.ReportFailure(String message) in /_/src/NUnitFramework/framework/Assert.cs:line 395\r\n   at NUnit.Framework.Assert.ReportFailure(ConstraintResult result, String message, Object[] args) in /_/src/NUnitFramework/framework/Assert.cs:line 383\r\n   at NUnit.Framework.Assert.That[TActual](TActual actual, IResolveConstraint expression, String message, Object[] args) in /_/src/NUnitFramework/framework/Assert.That.cs:line 229\r\n   at NUnit.Framework.Assert.Zero(Int32 actual, String message, Object[] args) in /_/src/NUnitFramework/framework/Assert.Conditions.cs:line 484\r\n   at Submission#38.<<Initialize>>d__0.MoveNext()\r\n--- End of stack trace from previous location ---\r\n   at Microsoft.CodeAnalysis.Scripting.ScriptExecutionState.RunSubmissionsAsync[TResult](ImmutableArray`1 precedingExecutors, Func`2 currentExecutor, StrongBox`1 exceptionHolderOpt, Func`2 catchExceptionOpt, CancellationToken cancellationToken)",
      "   at NUnit.Framework.Assert.ReportFailure(String message) in /_/src/NUnitFramework/framework/Assert.cs:line 395",
      "   at NUnit.Framework.Assert.ReportFailure(ConstraintResult result, String message, Object[] args) in /_/src/NUnitFramework/framework/Assert.cs:line 383",
      "   at NUnit.Framework.Assert.That[TActual](TActual actual, IResolveConstraint expression, String message, Object[] args) in /_/src/NUnitFramework/framework/Assert.That.cs:line 229",
      "   at NUnit.Framework.Assert.Zero(Int32 actual, String message, Object[] args) in /_/src/NUnitFramework/framework/Assert.Conditions.cs:line 484",
      "   at Submission#38.<<Initialize>>d__0.MoveNext()",
      "--- End of stack trace from previous location ---",
      "   at Microsoft.CodeAnalysis.Scripting.ScriptExecutionState.RunSubmissionsAsync[TResult](ImmutableArray`1 precedingExecutors, Func`2 currentExecutor, StrongBox`1 exceptionHolderOpt, Func`2 catchExceptionOpt, CancellationToken cancellationToken)"
     ]
    }
   ],
   "source": [
    "NUnit.Framework.Assert.Zero(NoSuccess.Count(), \"Some Jobs Failed\");"
   ]
  },
  {
   "cell_type": "code",
   "execution_count": 37,
   "metadata": {},
   "outputs": [
    {
     "ename": "Unhandled exception",
     "evalue": "NUnit.Framework.AssertionException:   Some Sessions did not terminate successfully.\r\n  Expected: 0\r\n  But was:  13\r\n\r\n   at NUnit.Framework.Assert.ReportFailure(String message) in /_/src/NUnitFramework/framework/Assert.cs:line 395\r\n   at NUnit.Framework.Assert.ReportFailure(ConstraintResult result, String message, Object[] args) in /_/src/NUnitFramework/framework/Assert.cs:line 383\r\n   at NUnit.Framework.Assert.That[TActual](TActual actual, IResolveConstraint expression, String message, Object[] args) in /_/src/NUnitFramework/framework/Assert.That.cs:line 229\r\n   at NUnit.Framework.Assert.Zero(Int32 actual, String message, Object[] args) in /_/src/NUnitFramework/framework/Assert.Conditions.cs:line 484\r\n   at Submission#39.<<Initialize>>d__0.MoveNext()\r\n--- End of stack trace from previous location ---\r\n   at Microsoft.CodeAnalysis.Scripting.ScriptExecutionState.RunSubmissionsAsync[TResult](ImmutableArray`1 precedingExecutors, Func`2 currentExecutor, StrongBox`1 exceptionHolderOpt, Func`2 catchExceptionOpt, CancellationToken cancellationToken)",
     "output_type": "error",
     "traceback": [
      "NUnit.Framework.AssertionException:   Some Sessions did not terminate successfully.\r\n  Expected: 0\r\n  But was:  13\r\n\r\n   at NUnit.Framework.Assert.ReportFailure(String message) in /_/src/NUnitFramework/framework/Assert.cs:line 395\r\n   at NUnit.Framework.Assert.ReportFailure(ConstraintResult result, String message, Object[] args) in /_/src/NUnitFramework/framework/Assert.cs:line 383\r\n   at NUnit.Framework.Assert.That[TActual](TActual actual, IResolveConstraint expression, String message, Object[] args) in /_/src/NUnitFramework/framework/Assert.That.cs:line 229\r\n   at NUnit.Framework.Assert.Zero(Int32 actual, String message, Object[] args) in /_/src/NUnitFramework/framework/Assert.Conditions.cs:line 484\r\n   at Submission#39.<<Initialize>>d__0.MoveNext()\r\n--- End of stack trace from previous location ---\r\n   at Microsoft.CodeAnalysis.Scripting.ScriptExecutionState.RunSubmissionsAsync[TResult](ImmutableArray`1 precedingExecutors, Func`2 currentExecutor, StrongBox`1 exceptionHolderOpt, Func`2 catchExceptionOpt, CancellationToken cancellationToken)",
      "   at NUnit.Framework.Assert.ReportFailure(String message) in /_/src/NUnitFramework/framework/Assert.cs:line 395",
      "   at NUnit.Framework.Assert.ReportFailure(ConstraintResult result, String message, Object[] args) in /_/src/NUnitFramework/framework/Assert.cs:line 383",
      "   at NUnit.Framework.Assert.That[TActual](TActual actual, IResolveConstraint expression, String message, Object[] args) in /_/src/NUnitFramework/framework/Assert.That.cs:line 229",
      "   at NUnit.Framework.Assert.Zero(Int32 actual, String message, Object[] args) in /_/src/NUnitFramework/framework/Assert.Conditions.cs:line 484",
      "   at Submission#39.<<Initialize>>d__0.MoveNext()",
      "--- End of stack trace from previous location ---",
      "   at Microsoft.CodeAnalysis.Scripting.ScriptExecutionState.RunSubmissionsAsync[TResult](ImmutableArray`1 precedingExecutors, Func`2 currentExecutor, StrongBox`1 exceptionHolderOpt, Func`2 catchExceptionOpt, CancellationToken cancellationToken)"
     ]
    }
   ],
   "source": [
    "NUnit.Framework.Assert.Zero(FailedSessions.Count(), \"Some Sessions did not terminate successfully.\");"
   ]
  }
 ],
 "metadata": {
  "kernelspec": {
   "display_name": ".NET (C#)",
   "language": "C#",
   "name": ".net-csharp"
  },
  "language_info": {
   "file_extension": ".cs",
   "mimetype": "text/x-csharp",
   "name": "C#",
   "pygments_lexer": "csharp",
   "version": "9.0"
  }
 },
 "nbformat": 4,
 "nbformat_minor": 4
}
