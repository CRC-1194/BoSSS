{
 "cells": [
  {
   "cell_type": "markdown",
   "metadata": {},
   "source": [
    "# Linear Solver Performance: Constant Coefficient Poisson, Single Core\n",
    "\n",
    "### Part 2, Evaluation"
   ]
  },
  {
   "cell_type": "code",
   "execution_count": 1,
   "metadata": {
    "dotnet_interactive": {
     "language": "csharp"
    }
   },
   "outputs": [
    {
     "data": {
      "text/html": [
       "\r\n",
       "<div>\r\n",
       "    <div id='dotnet-interactive-this-cell-25236.Microsoft.DotNet.Interactive.Http.HttpPort' style='display: none'>\r\n",
       "        The below script needs to be able to find the current output cell; this is an easy method to get it.\r\n",
       "    </div>\r\n",
       "    <script type='text/javascript'>\r\n",
       "async function probeAddresses(probingAddresses) {\r\n",
       "    function timeout(ms, promise) {\r\n",
       "        return new Promise(function (resolve, reject) {\r\n",
       "            setTimeout(function () {\r\n",
       "                reject(new Error('timeout'))\r\n",
       "            }, ms)\r\n",
       "            promise.then(resolve, reject)\r\n",
       "        })\r\n",
       "    }\r\n",
       "\r\n",
       "    if (Array.isArray(probingAddresses)) {\r\n",
       "        for (let i = 0; i < probingAddresses.length; i++) {\r\n",
       "\r\n",
       "            let rootUrl = probingAddresses[i];\r\n",
       "\r\n",
       "            if (!rootUrl.endsWith('/')) {\r\n",
       "                rootUrl = `${rootUrl}/`;\r\n",
       "            }\r\n",
       "\r\n",
       "            try {\r\n",
       "                let response = await timeout(1000, fetch(`${rootUrl}discovery`, {\r\n",
       "                    method: 'POST',\r\n",
       "                    cache: 'no-cache',\r\n",
       "                    mode: 'cors',\r\n",
       "                    timeout: 1000,\r\n",
       "                    headers: {\r\n",
       "                        'Content-Type': 'text/plain'\r\n",
       "                    },\r\n",
       "                    body: probingAddresses[i]\r\n",
       "                }));\r\n",
       "\r\n",
       "                if (response.status == 200) {\r\n",
       "                    return rootUrl;\r\n",
       "                }\r\n",
       "            }\r\n",
       "            catch (e) { }\r\n",
       "        }\r\n",
       "    }\r\n",
       "}\r\n",
       "\r\n",
       "function loadDotnetInteractiveApi() {\r\n",
       "    probeAddresses([\"http://130.83.248.207:1000/\", \"http://127.0.0.1:1000/\"])\r\n",
       "        .then((root) => {\r\n",
       "        // use probing to find host url and api resources\r\n",
       "        // load interactive helpers and language services\r\n",
       "        let dotnetInteractiveRequire = require.config({\r\n",
       "        context: '25236.Microsoft.DotNet.Interactive.Http.HttpPort',\r\n",
       "                paths:\r\n",
       "            {\r\n",
       "                'dotnet-interactive': `${root}resources`\r\n",
       "                }\r\n",
       "        }) || require;\r\n",
       "\r\n",
       "            window.dotnetInteractiveRequire = dotnetInteractiveRequire;\r\n",
       "\r\n",
       "            window.configureRequireFromExtension = function(extensionName, extensionCacheBuster) {\r\n",
       "                let paths = {};\r\n",
       "                paths[extensionName] = `${root}extensions/${extensionName}/resources/`;\r\n",
       "                \r\n",
       "                let internalRequire = require.config({\r\n",
       "                    context: extensionCacheBuster,\r\n",
       "                    paths: paths,\r\n",
       "                    urlArgs: `cacheBuster=${extensionCacheBuster}`\r\n",
       "                    }) || require;\r\n",
       "\r\n",
       "                return internalRequire\r\n",
       "            };\r\n",
       "        \r\n",
       "            dotnetInteractiveRequire([\r\n",
       "                    'dotnet-interactive/dotnet-interactive'\r\n",
       "                ],\r\n",
       "                function (dotnet) {\r\n",
       "                    dotnet.init(window);\r\n",
       "                },\r\n",
       "                function (error) {\r\n",
       "                    console.log(error);\r\n",
       "                }\r\n",
       "            );\r\n",
       "        })\r\n",
       "        .catch(error => {console.log(error);});\r\n",
       "    }\r\n",
       "\r\n",
       "// ensure `require` is available globally\r\n",
       "if ((typeof(require) !==  typeof(Function)) || (typeof(require.config) !== typeof(Function))) {\r\n",
       "    let require_script = document.createElement('script');\r\n",
       "    require_script.setAttribute('src', 'https://cdnjs.cloudflare.com/ajax/libs/require.js/2.3.6/require.min.js');\r\n",
       "    require_script.setAttribute('type', 'text/javascript');\r\n",
       "    \r\n",
       "    \r\n",
       "    require_script.onload = function() {\r\n",
       "        loadDotnetInteractiveApi();\r\n",
       "    };\r\n",
       "\r\n",
       "    document.getElementsByTagName('head')[0].appendChild(require_script);\r\n",
       "}\r\n",
       "else {\r\n",
       "    loadDotnetInteractiveApi();\r\n",
       "}\r\n",
       "\r\n",
       "    </script>\r\n",
       "</div>"
      ]
     },
     "metadata": {},
     "output_type": "display_data"
    }
   ],
   "source": [
    "#r \"BoSSSpad.dll\"\n",
    "using System;\n",
    "using System.Collections.Generic;\n",
    "using System.Linq;\n",
    "using ilPSP;\n",
    "using ilPSP.Utils;\n",
    "using BoSSS.Platform;\n",
    "using BoSSS.Platform.LinAlg;\n",
    "using BoSSS.Foundation;\n",
    "using BoSSS.Foundation.XDG;\n",
    "using BoSSS.Foundation.Grid;\n",
    "using BoSSS.Foundation.Grid.Classic;\n",
    "using BoSSS.Foundation.Grid.RefElements;\n",
    "using BoSSS.Foundation.IO;\n",
    "using BoSSS.Solution;\n",
    "using BoSSS.Solution.Control;\n",
    "using BoSSS.Solution.GridImport;\n",
    "using BoSSS.Solution.Statistic;\n",
    "using BoSSS.Solution.Utils;\n",
    "using BoSSS.Solution.AdvancedSolvers;\n",
    "using BoSSS.Solution.Gnuplot;\n",
    "using BoSSS.Application.BoSSSpad;\n",
    "using BoSSS.Application.XNSE_Solver;\n",
    "using static BoSSS.Application.BoSSSpad.BoSSSshell;\n",
    "Init();"
   ]
  },
  {
   "cell_type": "code",
   "execution_count": 2,
   "metadata": {
    "dotnet_interactive": {
     "language": "csharp"
    }
   },
   "outputs": [
    {
     "name": "stdout",
     "output_type": "stream",
     "text": [
      "Project name is set to 'LinslvPerfSer'.\n",
      "Opening existing database '\\\\fdygitrunner\\ValidationTests\\LinslvPerfSer'.\n"
     ]
    }
   ],
   "source": [
    "wmg.Init(\"LinslvPerfSer\");\n",
    "wmg.SetNameBasedSessionJobControlCorrelation();"
   ]
  },
  {
   "cell_type": "code",
   "execution_count": 3,
   "metadata": {
    "dotnet_interactive": {
     "language": "csharp"
    }
   },
   "outputs": [],
   "source": [
    "// Manually add database (e.g. when accessing the database of user `JenkinsCI` as some other, regular guy)\n",
    "//var tempDb = OpenOrCreateDatabase(@\"\\\\fdygitrunner\\ValidationTests\\LinslvPerf_ConstPoissonMpi1\");"
   ]
  },
  {
   "cell_type": "code",
   "execution_count": 4,
   "metadata": {
    "dotnet_interactive": {
     "language": "csharp"
    }
   },
   "outputs": [
    {
     "data": {
      "text/plain": [
       "#0: { Session Count = 79; Grid Count = 30; Path = \\\\fdygitrunner\\ValidationTests\\LinslvPerfSer }\r\n"
      ]
     },
     "execution_count": 4,
     "metadata": {},
     "output_type": "execute_result"
    }
   ],
   "source": [
    "databases"
   ]
  },
  {
   "cell_type": "code",
   "execution_count": 5,
   "metadata": {
    "dotnet_interactive": {
     "language": "csharp"
    }
   },
   "outputs": [
    {
     "data": {
      "text/plain": [
       "#0: LinslvPerfSer\tXdgStokes-J4096_p5_classic_pardiso\t03/15/2022 20:33:08\t4a1f70fb...\r\n",
       "#1: LinslvPerfSer\tXdgStokes-J13824_p3_classic_pardiso\t03/15/2022 20:31:47\t8a5c0f7d...\r\n",
       "#2: LinslvPerfSer\tXdgStokes-J13824_p2_classic_pardiso\t03/15/2022 20:29:44\tbdad41bd...\r\n",
       "#3: LinslvPerfSer\tXdgStokes-J4096_p3_classic_pardiso\t03/15/2022 20:31:06\t48fd5d03...\r\n",
       "#4: LinslvPerfSer\tXdgStokes-J512_p5_classic_pardiso\t03/15/2022 20:32:30\t598d496f...\r\n",
       "#5: LinslvPerfSer\tXdgStokes-J4096_p2_classic_pardiso\t03/15/2022 20:29:08\t989f8cae...\r\n",
       "#6: LinslvPerfSer\tXdgStokes-J512_p3_classic_pardiso\t03/15/2022 20:30:24\t16d8e8f5...\r\n",
       "#7: LinslvPerfSer\tXdgStokes-J512_p2_classic_pardiso\t03/15/2022 20:28:32\t5ad7e2fc...\r\n",
       "#8: LinslvPerfSer\tBottiPietroStokes2D-J16384_p5_classic_pardiso\t03/15/2022 20:17:52\ta74031a4...\r\n",
       "#9: LinslvPerfSer\tBottiPietroStokes2D-J4096_p5_classic_pardiso\t03/15/2022 20:17:14\teb570035...\r\n",
       "#10: LinslvPerfSer\tBottiPietroStokes2D-J36864_p3_classic_pardiso\t03/15/2022 20:13:38\t2141939f...\r\n",
       "#11: LinslvPerfSer\tBottiPietroStokes2D-J2304_p5_classic_pardiso\t03/15/2022 20:16:37\t59467fbb...\r\n",
       "#12: LinslvPerfSer\tBottiPietroStokes2D-J1024_p5_classic_pardiso\t03/15/2022 20:16:01\te488ecfc...\r\n",
       "#13: LinslvPerfSer\tBottiPietroStokes2D-J576_p5_classic_pardiso\t03/15/2022 20:15:23\t031b9e36...\r\n",
       "#14: LinslvPerfSer\tBottiPietroStokes2D-J256_p5_classic_pardiso\t03/15/2022 20:14:48\tf01f5604...\r\n",
       "#15: LinslvPerfSer\tBottiPietroStokes2D-J16384_p3_classic_pardiso\t03/15/2022 20:13:03\t38a5a3fd...\r\n",
       "#16: LinslvPerfSer\tBottiPietroStokes2D-J64_p5_classic_pardiso\t03/15/2022 20:14:13\t4a9e41ae...\r\n",
       "#17: LinslvPerfSer\tBottiPietroStokes2D-J65536_p2_classic_pardiso\t03/15/2022 20:09:16\t476c4738...\r\n",
       "#18: LinslvPerfSer\tBottiPietroStokes2D-J4096_p3_classic_pardiso\t03/15/2022 20:12:29\tc83f9522...\r\n",
       "#19: LinslvPerfSer\tBottiPietroStokes2D-J2304_p3_classic_pardiso\t03/15/2022 20:11:55\td92931db...\r\n",
       "#20: LinslvPerfSer\tBottiPietroStokes2D-J1024_p3_classic_pardiso\t03/15/2022 20:11:23\td76f3b69...\r\n",
       "#21: LinslvPerfSer\tBottiPietroStokes2D-J576_p3_classic_pardiso\t03/15/2022 20:10:52\td300e0de...\r\n",
       "#22: LinslvPerfSer\tBottiPietroStokes2D-J36864_p2_classic_pardiso\t03/15/2022 20:08:46\t312c22b1...\r\n",
       "#23: LinslvPerfSer\tBottiPietroStokes2D-J256_p3_classic_pardiso\t03/15/2022 20:10:20\t7d029a08...\r\n",
       "#24: LinslvPerfSer\tBottiPietroStokes2D-J64_p3_classic_pardiso\t03/15/2022 20:09:48\tc24a08fa...\r\n",
       "#25: LinslvPerfSer\tBottiPietroStokes2D-J16384_p2_classic_pardiso\t03/15/2022 20:08:16\tf6f51a3c...\r\n",
       "#26: LinslvPerfSer\tBottiPietroStokes2D-J4096_p2_classic_pardiso\t03/15/2022 20:07:45\t372c38eb...\r\n",
       "#27: LinslvPerfSer\tBottiPietroStokes2D-J2304_p2_classic_pardiso\t03/15/2022 20:07:15\t254f60dd...\r\n",
       "#28: LinslvPerfSer\tBottiPietroStokes2D-J1024_p2_classic_pardiso\t03/15/2022 20:06:48\t9814ca78...\r\n",
       "#29: LinslvPerfSer\tBottiPietroStokes2D-J576_p2_classic_pardiso\t03/15/2022 20:06:21\tf7b2a4da...\r\n",
       "#30: LinslvPerfSer\tBottiPietroStokes2D-J256_p2_classic_pardiso\t03/15/2022 20:05:54\t9cf3f2eb...\r\n",
       "#31: LinslvPerfSer\tBottiPietroStokes2D-J64_p2_classic_pardiso\t03/15/2022 20:05:27\t25440437...\r\n",
       "#32: LinslvPerfSer\tXdgPoisson-J32768_k3_classic_pardiso\t03/15/2022 19:22:27\t6c67c431...\r\n",
       "#33: LinslvPerfSer\tXdgPoisson-J4096_k5_classic_pardiso\t03/15/2022 19:23:09\t0e965fd4...\r\n",
       "#34: LinslvPerfSer\tXdgPoisson-J32768_k2_classic_pardiso\t03/15/2022 19:21:35\t9bf42df7...\r\n",
       "#35: LinslvPerfSer\tXdgPoisson-J512_k5_classic_pardiso\t03/15/2022 19:22:57\t2ea9493c...\r\n",
       "#36: LinslvPerfSer\tXdgPoisson-J4096_k3_classic_pardiso\t03/15/2022 19:22:17\t061543d4...\r\n",
       "#37: LinslvPerfSer\tXdgPoisson-J64_k5_classic_pardiso\t03/15/2022 19:22:50\tb30479b3...\r\n",
       "#38: LinslvPerfSer\tXdgPoisson-J8_k5_classic_pardiso\t03/15/2022 19:22:37\t0dbdf24a...\r\n",
       "#39: LinslvPerfSer\tXdgPoisson-J512_k3_classic_pardiso\t03/15/2022 19:22:06\tbc16f5b1...\r\n",
       "#40: LinslvPerfSer\tXdgPoisson-J64_k3_classic_pardiso\t03/15/2022 19:21:56\t84ce6232...\r\n",
       "#41: LinslvPerfSer\tXdgPoisson-J4096_k2_classic_pardiso\t03/15/2022 19:21:25\tfcd279c8...\r\n",
       "#42: LinslvPerfSer\tXdgPoisson-J8_k3_classic_pardiso\t03/15/2022 19:21:45\t6709d7fe...\r\n",
       "#43: LinslvPerfSer\tXdgPoisson-J512_k2_classic_pardiso\t03/15/2022 19:21:16\t618751d5...\r\n",
       "#44: LinslvPerfSer\tXdgPoisson-J64_k2_classic_pardiso\t03/15/2022 19:21:05\t83383ec1...\r\n",
       "#45: LinslvPerfSer\tXdgPoisson-J8_k2_classic_pardiso\t03/15/2022 19:20:55\ta05c86b9...\r\n",
       "#46: LinslvPerfSer\tSIP_Poisson_J20480_k5_exp_Kcycle_schwarz\t03/15/2022 18:58:13\t95bbdcc2...\r\n",
       "#47: LinslvPerfSer\tSIP_Poisson_J163840_k2_exp_gmres_levelpmg\t03/15/2022 18:59:03\t27c6ffc8...\r\n",
       "#48: LinslvPerfSer\tSIP_Poisson_J20480_k5_exp_gmres_levelpmg\t03/15/2022 19:00:13\t1f5f0474...\r\n",
       "#49: LinslvPerfSer\tSIP_Poisson_J163840_k2_exp_Kcycle_schwarz\t03/15/2022 18:57:08\te4423b48...\r\n",
       "#50: LinslvPerfSer\tSIP_Poisson_J69120_k3_exp_gmres_levelpmg\t03/15/2022 18:59:45\t5e05bed7...\r\n",
       "#51: LinslvPerfSer\tSIP_Poisson_J69120_k3_exp_Kcycle_schwarz\t03/15/2022 18:57:46\te3660e36...\r\n",
       "#52: LinslvPerfSer\tSIP_Poisson_J69120_k2_classic_pardiso\t03/15/2022 18:55:36\tce5242b8...\r\n",
       "#53: LinslvPerfSer\tSIP_Poisson_J20480_k3_classic_pardiso\t03/15/2022 18:56:03\t566f050c...\r\n",
       "#54: LinslvPerfSer\tSIP_Poisson_J69120_k2_exp_gmres_levelpmg\t03/15/2022 18:58:52\t3b8b71fc...\r\n",
       "#55: LinslvPerfSer\tSIP_Poisson_J20480_k3_exp_gmres_levelpmg\t03/15/2022 18:59:33\taa76a626...\r\n",
       "#56: LinslvPerfSer\tSIP_Poisson_J69120_k2_exp_Kcycle_schwarz\t03/15/2022 18:56:58\t8fddd8e5...\r\n",
       "#57: LinslvPerfSer\tSIP_Poisson_J2560_k5_exp_gmres_levelpmg\t03/15/2022 19:00:04\t51b70ebc...\r\n",
       "#58: LinslvPerfSer\tSIP_Poisson_J20480_k3_exp_Kcycle_schwarz\t03/15/2022 18:57:35\tb1765a63...\r\n",
       "#59: LinslvPerfSer\tSIP_Poisson_J20480_k2_exp_gmres_levelpmg\t03/15/2022 18:58:41\t44b634f3...\r\n",
       "#60: LinslvPerfSer\tSIP_Poisson_J320_k5_exp_gmres_levelpmg\t03/15/2022 18:59:55\te3dee1b8...\r\n",
       "#61: LinslvPerfSer\tSIP_Poisson_J2560_k5_exp_Kcycle_schwarz\t03/15/2022 18:58:04\t764bf728...\r\n",
       "#62: LinslvPerfSer\tSIP_Poisson_J2560_k3_exp_gmres_levelpmg\t03/15/2022 18:59:24\t738a54a7...\r\n",
       "#63: LinslvPerfSer\tSIP_Poisson_J320_k3_exp_gmres_levelpmg\t03/15/2022 18:59:14\t5817a53a...\r\n",
       "#64: LinslvPerfSer\tSIP_Poisson_J2560_k5_classic_pardiso\t03/15/2022 18:56:21\t0d8816f1...\r\n",
       "#65: LinslvPerfSer\tSIP_Poisson_J2560_k2_exp_gmres_levelpmg\t03/15/2022 18:58:33\tfb71c0d1...\r\n",
       "#66: LinslvPerfSer\tSIP_Poisson_J320_k2_exp_gmres_levelpmg\t03/15/2022 18:58:23\tae421e85...\r\n",
       "#67: LinslvPerfSer\tSIP_Poisson_J20480_k2_exp_Kcycle_schwarz\t03/15/2022 18:56:49\t71539204...\r\n",
       "#68: LinslvPerfSer\tSIP_Poisson_J320_k5_exp_Kcycle_schwarz\t03/15/2022 18:57:55\t4306614a...\r\n",
       "#69: LinslvPerfSer\tSIP_Poisson_J2560_k3_exp_Kcycle_schwarz\t03/15/2022 18:57:27\t08a92cf8...\r\n",
       "#70: LinslvPerfSer\tSIP_Poisson_J320_k3_exp_Kcycle_schwarz\t03/15/2022 18:57:17\t0bfa5007...\r\n",
       "#71: LinslvPerfSer\tSIP_Poisson_J20480_k2_classic_pardiso\t03/15/2022 18:55:27\t55adaa51...\r\n",
       "#72: LinslvPerfSer\tSIP_Poisson_J2560_k2_exp_Kcycle_schwarz\t03/15/2022 18:56:40\t08816aec...\r\n",
       "#73: LinslvPerfSer\tSIP_Poisson_J320_k2_exp_Kcycle_schwarz\t03/15/2022 18:56:31\t662d713e...\r\n",
       "#74: LinslvPerfSer\tSIP_Poisson_J320_k5_classic_pardiso\t03/15/2022 18:56:13\t752dc2da...\r\n",
       "#75: LinslvPerfSer\tSIP_Poisson_J2560_k3_classic_pardiso\t03/15/2022 18:55:55\t590c9ae9...\r\n",
       "#76: LinslvPerfSer\tSIP_Poisson_J320_k3_classic_pardiso\t03/15/2022 18:55:45\ta1ad8959...\r\n",
       "#77: LinslvPerfSer\tSIP_Poisson_J2560_k2_classic_pardiso\t03/15/2022 18:55:19\tf0688c49...\r\n",
       "#78: LinslvPerfSer\tSIP_Poisson_J320_k2_classic_pardiso\t03/15/2022 18:55:10\tfa428ba9...\r\n"
      ]
     },
     "execution_count": 5,
     "metadata": {},
     "output_type": "execute_result"
    }
   ],
   "source": [
    "wmg.Sessions"
   ]
  },
  {
   "cell_type": "code",
   "execution_count": 6,
   "metadata": {},
   "outputs": [],
   "source": [
    "//var s = wmg.Sessions.Single(s => s.Name.Contains(\"J20480_k3_exp_Kcycle_schwarz\"));\n",
    "//s.DeployPath"
   ]
  },
  {
   "cell_type": "code",
   "execution_count": 7,
   "metadata": {
    "dotnet_interactive": {
     "language": "csharp"
    }
   },
   "outputs": [],
   "source": [
    "using System.IO;\n",
    "using BoSSS.Application.SipPoisson;"
   ]
  },
  {
   "cell_type": "code",
   "execution_count": 16,
   "metadata": {},
   "outputs": [],
   "source": [
    "var SIstokes = wmg.Sessions[0];\n",
    "var SIpisson = wmg.Sessions[69];"
   ]
  },
  {
   "cell_type": "code",
   "execution_count": 39,
   "metadata": {},
   "outputs": [
    {
     "data": {
      "text/plain": [
       "XNSE`1"
      ]
     },
     "execution_count": 39,
     "metadata": {},
     "output_type": "execute_result"
    }
   ],
   "source": [
    "SIstokes.GetControl().GetSolverType().Name"
   ]
  },
  {
   "cell_type": "code",
   "execution_count": 80,
   "metadata": {},
   "outputs": [
    {
     "data": {
      "text/plain": [
       "\\\\fdygitrunner\\ValidationTests\\LinslvPerfSer-XNSE_Solver2022Mar15_203243"
      ]
     },
     "execution_count": 80,
     "metadata": {},
     "output_type": "execute_result"
    }
   ],
   "source": [
    "var SI = SIstokes;\n",
    "SI.DeployPath"
   ]
  },
  {
   "cell_type": "code",
   "execution_count": 35,
   "metadata": {},
   "outputs": [],
   "source": [
    "//foreach(var kv in SIstokes.KeysAndQueries) {\n",
    "//Console.WriteLine($\"{kv.Key}    {kv.Value}\");\n",
    "//}"
   ]
  },
  {
   "cell_type": "code",
   "execution_count": 57,
   "metadata": {},
   "outputs": [
    {
     "data": {
      "text/html": [
       "<table><thead><tr><th><i>index</i></th><th>value</th></tr></thead><tbody><tr><td>0</td><td>DGdegree:Velocity*</td></tr></tbody></table>"
      ]
     },
     "execution_count": 57,
     "metadata": {},
     "output_type": "execute_result"
    }
   ],
   "source": []
  },
  {
   "cell_type": "code",
   "execution_count": 28,
   "metadata": {},
   "outputs": [
    {
     "data": {
      "text/plain": [
       "\\\\fdygitrunner\\ValidationTests\\LinslvPerfSer\\sessions\\4a1f70fb-d612-4d9b-9ae8-8af3e4b6d6f1"
      ]
     },
     "execution_count": 28,
     "metadata": {},
     "output_type": "execute_result"
    }
   ],
   "source": [
    "SIstokes.GetSessionDirectory()"
   ]
  },
  {
   "cell_type": "markdown",
   "metadata": {},
   "source": [
    "## Create Table for Post-Processing"
   ]
  },
  {
   "cell_type": "markdown",
   "metadata": {},
   "source": [
    "The timeing information that is requires for this study is not pesent in the default session table.\n",
    "Instead, it must be extracted from the *session profiling*.\n",
    "\n",
    "To obtain timing-measurements, the instrumentation generated by certain `BlockTrace`-blocks within the `UniSolver` class is extracted and added to the data table:"
   ]
  },
  {
   "cell_type": "code",
   "execution_count": 70,
   "metadata": {
    "dotnet_interactive": {
     "language": "csharp"
    }
   },
   "outputs": [],
   "source": [
    "// evaluators to add additional columns to the session table\n",
    "static class AddCols {\n",
    "    static bool IsStokes(ISessionInfo SI) {\n",
    "        return (SI.GetControl().GetSolverType().Name.Contains(\"XNSE\"));\n",
    "    }\n",
    "    \n",
    "    \n",
    "    static public object XdgMatrixAssembly_time(ISessionInfo SI) {\n",
    "        var mcr = SI.GetProfiling()[0];\n",
    "        ilPSP.Tracing.MethodCallRecord nd;\n",
    "        if(IsStokes(SI))\n",
    "            nd = mcr.FindChildren(\"*.XdgTimestepping.ComputeOperatorMatrix\").Single();\n",
    "        else \n",
    "            nd  = mcr.FindChildren(\"MatrixAssembly\").Single();\n",
    "        //var nd  = ndS.ElementAt(0);\n",
    "        return nd.TimeSpentInMethod.TotalSeconds  / nd.CallCount;\n",
    "    }\n",
    "    static public object Aggregation_basis_init_time(ISessionInfo SI) {\n",
    "        var mcr = SI.GetProfiling()[0];\n",
    "        var nd  = mcr.FindChildren(\"Aggregation_basis_init\").Single();\n",
    "        //var nd  = ndS.ElementAt(0);\n",
    "        return nd.TimeSpentInMethod.TotalSeconds  / nd.CallCount;\n",
    "    }\n",
    "    static public object Solver_Init_time(ISessionInfo SI) {\n",
    "        var mcr = SI.GetProfiling()[0];\n",
    "        var nd  = mcr.FindChildren(\"Solver_Init\").Single();\n",
    "        //var nd  = ndS.ElementAt(0);\n",
    "        //Console.WriteLine(\"Number of nodes: \" + ndS.Count() + \" cc \" + nd.CallCount );\n",
    "        return nd.TimeSpentInMethod.TotalSeconds / nd.CallCount;\n",
    "    }\n",
    "    static public object Solver_Run_time(ISessionInfo SI) {\n",
    "        var mcr = SI.GetProfiling()[0];\n",
    "        var nd  = mcr.FindChildren(\"Solver_Run\").Single();\n",
    "        //var nd  = ndS.ElementAt(0);\n",
    "        return nd.TimeSpentInMethod.TotalSeconds  / nd.CallCount;\n",
    "    }\n",
    "    static public object Solver_InitAndRun_time(ISessionInfo SI) {\n",
    "        double agitime = (double) Aggregation_basis_init_time(SI);\n",
    "        double initime = (double) Solver_Init_time(SI);\n",
    "        double runtime = (double) Solver_Run_time(SI);\n",
    "        \n",
    "        return agitime + initime + runtime;\n",
    "    }\n",
    "    static public object Solver_TimePerIter(ISessionInfo SI) {\n",
    "        double runtime = (double) Solver_Run_time(SI);\n",
    "        double NoOfItr = Convert.ToDouble(SI.KeysAndQueries[\"NoIter\"]);\n",
    "        return runtime/NoOfItr;\n",
    "    }\n",
    "    static public object NoOfCores(ISessionInfo SI){\n",
    "        return SI.GetProfiling().Length;\n",
    "    }\n",
    "    static public object ComputeNodeName(ISessionInfo SI) {\n",
    "        return SI.ComputeNodeNames.First();\n",
    "    }\n",
    "    \n",
    "    static public object DGdegree(ISessionInfo SI) {\n",
    "        if(IsStokes(SI)) {\n",
    "            return SI.KeysAndQueries.Single(kv => kv.Key.Contains(\"DGdegree:Velocity\")).Value;\n",
    "        } else {\n",
    "            return SI.KeysAndQueries.Single(kv => kv.Key == \"DGdegree:T\").Value;\n",
    "        }\n",
    "    }\n",
    "}"
   ]
  },
  {
   "cell_type": "code",
   "execution_count": 73,
   "metadata": {
    "dotnet_interactive": {
     "language": "csharp"
    }
   },
   "outputs": [],
   "source": [
    "wmg.AdditionalSessionTableColums.Clear();\n",
    "wmg.AdditionalSessionTableColums.Add(\"MatrixAssembly\", AddCols.XdgMatrixAssembly_time);\n",
    "wmg.AdditionalSessionTableColums.Add(\"Aggregation_basis_init_time\", AddCols.Aggregation_basis_init_time);\n",
    "wmg.AdditionalSessionTableColums.Add(\"Solver_Init_time\", AddCols.Solver_Init_time);\n",
    "wmg.AdditionalSessionTableColums.Add(\"Solver_Run_time\", AddCols.Solver_Run_time);\n",
    "wmg.AdditionalSessionTableColums.Add(\"Solver_InitAndRun_time\", AddCols.Solver_InitAndRun_time);\n",
    "wmg.AdditionalSessionTableColums.Add(\"Solver_TimePerIter\", AddCols.Solver_TimePerIter);\n",
    "wmg.AdditionalSessionTableColums.Add(\"NoOfCores\", AddCols.NoOfCores);\n",
    "wmg.AdditionalSessionTableColums.Add(\"ComputeNodeName\", AddCols.ComputeNodeName);\n",
    "wmg.AdditionalSessionTableColums.Add(\"DGdegree\", AddCols.DGdegree);"
   ]
  },
  {
   "cell_type": "code",
   "execution_count": 74,
   "metadata": {
    "dotnet_interactive": {
     "language": "csharp"
    }
   },
   "outputs": [],
   "source": [
    "var SessTab = wmg.SessionTable;\n",
    "\n",
    "//// The Session column can't be serialized,\n",
    "//// we have to remove it\n",
    "//List<string> AllCols = FullSessTab.GetColumnNames().ToList();\n",
    "//AllCols.Remove(\"Session\");\n",
    "//FullSessTab = FullSessTab.ExtractColumns(AllCols.ToArray());"
   ]
  },
  {
   "cell_type": "code",
   "execution_count": 75,
   "metadata": {},
   "outputs": [],
   "source": [
    "//wmg.Sessions[0].KeysAndQueries[\"NoIter\"].GetType()"
   ]
  },
  {
   "cell_type": "code",
   "execution_count": 76,
   "metadata": {},
   "outputs": [],
   "source": [
    "//wmg.Sessions[0].Name"
   ]
  },
  {
   "cell_type": "code",
   "execution_count": 77,
   "metadata": {},
   "outputs": [],
   "source": [
    "//SessTab.GetColumn(\"LinearSolver.Name\")"
   ]
  },
  {
   "cell_type": "markdown",
   "metadata": {},
   "source": [
    "Select those columns which are of interest:"
   ]
  },
  {
   "cell_type": "code",
   "execution_count": 78,
   "metadata": {
    "dotnet_interactive": {
     "language": "csharp"
    }
   },
   "outputs": [],
   "source": [
    "var SubTab = SessTab.ExtractColumns(\n",
    "    \"SessionName\",\"DGdegree\", \"Grid:NoOfCells\", \"LinearSolver.Name\", \"LinearSolver.Shortname\", \"DOFs\", \"MatrixAssembly\",\n",
    "    \"Aggregation_basis_init_time\", \"Solver_Init_time\", \"Solver_Run_time\", \"Solver_InitAndRun_time\", \"NoIter\", \n",
    "    \"Solver_TimePerIter\", \"ComputeNodeName\");"
   ]
  },
  {
   "cell_type": "code",
   "execution_count": 52,
   "metadata": {
    "dotnet_interactive": {
     "language": "csharp"
    }
   },
   "outputs": [],
   "source": [
    "// Filename\n",
    "var now         = DateTime.Now;\n",
    "string docName  = wmg.CurrentProject + \"_\" + now.Year + \"-\" + now.Month + \"-\" + now.Day;\n",
    "SubTab.SaveToFile(docName + \".json\");\n",
    "SubTab.ToCSVFile(docName + \".csv\");"
   ]
  },
  {
   "cell_type": "code",
   "execution_count": null,
   "metadata": {
    "dotnet_interactive": {
     "language": "csharp"
    }
   },
   "outputs": [],
   "source": [
    "//SubTab.Print();"
   ]
  },
  {
   "cell_type": "markdown",
   "metadata": {
    "dotnet_interactive": {
     "language": "csharp"
    }
   },
   "source": [
    "## Vizualisation of Results"
   ]
  },
  {
   "cell_type": "markdown",
   "metadata": {},
   "source": [
    "The following data is available:"
   ]
  },
  {
   "cell_type": "code",
   "execution_count": null,
   "metadata": {
    "dotnet_interactive": {
     "language": "csharp"
    }
   },
   "outputs": [],
   "source": [
    "SubTab.GetColumnNames()"
   ]
  },
  {
   "cell_type": "markdown",
   "metadata": {},
   "source": [
    "Available DG degrees:"
   ]
  },
  {
   "cell_type": "code",
   "execution_count": null,
   "metadata": {
    "dotnet_interactive": {
     "language": "csharp"
    }
   },
   "outputs": [],
   "source": [
    "var DGdegrees = SubTab.GetColumn<int>(\"DGdegree:T\").ToSet().OrderBy(s => s).ToArray();\n",
    "DGdegrees"
   ]
  },
  {
   "cell_type": "markdown",
   "metadata": {},
   "source": [
    "All used solvers:"
   ]
  },
  {
   "cell_type": "code",
   "execution_count": null,
   "metadata": {
    "dotnet_interactive": {
     "language": "csharp"
    }
   },
   "outputs": [],
   "source": [
    "SubTab.GetColumn<string>(\"LinearSolver.Shortname\").ToSet()"
   ]
  },
  {
   "cell_type": "code",
   "execution_count": null,
   "metadata": {
    "dotnet_interactive": {
     "language": "csharp"
    }
   },
   "outputs": [],
   "source": [
    "//RuntimePlot.PlotNow();"
   ]
  },
  {
   "cell_type": "code",
   "execution_count": null,
   "metadata": {
    "dotnet_interactive": {
     "language": "csharp"
    }
   },
   "outputs": [],
   "source": [
    "//using SolverCodes = BoSSS.Solution.Control.LinearSolverConfig.Code;"
   ]
  },
  {
   "cell_type": "markdown",
   "metadata": {},
   "source": [
    "### Macro Routine for Multiplot\n",
    "\n",
    "The following routine combines the plotting code which is common for all sub-plot in this evaluation;\n",
    "only the y-axis needs to be specified. "
   ]
  },
  {
   "cell_type": "code",
   "execution_count": null,
   "metadata": {},
   "outputs": [],
   "source": [
    "PlotFormat SlvCode2Pltfmt(string solver_name) { \n",
    "    var Fmt = new PlotFormat();\n",
    "    switch(solver_name) {\n",
    "        case \"PARDISO\": \n",
    "            Fmt.PointType = PointTypes.OpenCircle;\n",
    "            Fmt.DashType  = DashTypes.Dotted;\n",
    "            break;\n",
    "        case \"GMRES w p2G\": \n",
    "            Fmt.PointType = PointTypes.Box;\n",
    "            break;\n",
    "        case \"OrthoMG w Add Swz\": \n",
    "            Fmt.PointType = PointTypes.LowerTriangle;\n",
    "            break;\n",
    "        case \"OrthoMG w ILU\":\n",
    "            Fmt.PointType = PointTypes.Diamond;\n",
    "            break;\n",
    "        default:\n",
    "            Console.WriteLine(\"unknown: \" + solver_name); \n",
    "            break;\n",
    "    } \n",
    "    //Console.WriteLine(\"name is: \" + solver_name); \n",
    "    Fmt.PointSize = 0.5;\n",
    "    Fmt.Style     = Styles.LinesPoints;\n",
    "    Fmt.LineColor = LineColors.Black;\n",
    "    Fmt.LineWidth = 3;\n",
    "    return Fmt;\n",
    "}"
   ]
  },
  {
   "cell_type": "code",
   "execution_count": null,
   "metadata": {
    "dotnet_interactive": {
     "language": "csharp"
    }
   },
   "outputs": [],
   "source": [
    "Plot2Ddata[,] PlotSolverBehave(string Yname, bool LogY, double yMin, double yMax) {\n",
    "\n",
    "int rows    = DGdegrees.Length;\n",
    "int columns = 1;\n",
    "string[] ignore_solvers = {};\n",
    "Plot2Ddata[,] multiplots = new Plot2Ddata[rows,columns];\n",
    "int pDegree = 0;\n",
    "for(int iRow = 0; iRow < rows; iRow++) {\n",
    "for(int iCol = 0; iCol < columns; iCol++) {\n",
    "    \n",
    "    if(pDegree > rows*columns-1)\n",
    "        continue;\n",
    "    int tmpDG = -1;\n",
    "    if(pDegree < DGdegrees.Length)\n",
    "        tmpDG = DGdegrees[pDegree];\n",
    "    \n",
    "    //Create Graphs\n",
    "    multiplots[iRow,iCol] = SubTab.ToPlot(\"DOFs\", Yname, // column for x- and y\n",
    "       delegate (int iTabRow, \n",
    "                 IDictionary<string, object> Row, \n",
    "                 out string Nmn, \n",
    "                 out PlotFormat Fmt) { \n",
    "           // - - - - - - - - - - - - - - - - - - - - - - - - \n",
    "           // PlotRowSelector:\n",
    "           // selects, which table row goes to which graph,\n",
    "           // and the respective color  \n",
    "           // - - - - - - - - - - - - - - - - - - - - - - - - \n",
    "           int k = Convert.ToInt32(Row[\"DGdegree:T\"]);\n",
    "           if(k != tmpDG) {\n",
    "                // degree does not match -> not in this plot\n",
    "                Nmn = null;\n",
    "                Fmt = null;\n",
    "                return;\n",
    "           }\n",
    " \n",
    "           string solver_name = (string) (Row[\"LinearSolver.Shortname\"]);\n",
    "           //ignore the solvers specified in ingore_solvers\n",
    "           foreach(string sc in ignore_solvers){\n",
    "               if(solver_name == sc){\n",
    "                   System.Console.WriteLine(\"skipped\");\n",
    "                   Nmn = null;\n",
    "                   Fmt = null;\n",
    "               return;\n",
    "               }\n",
    "           }\n",
    "           \n",
    "           \n",
    "           //process the other solvers\n",
    "           Fmt = SlvCode2Pltfmt(solver_name);\n",
    "           Nmn = solver_name;\n",
    "       });\n",
    "    \n",
    "       double[] dof = new[]{1e3,1e6};\n",
    "       double[] linT = dof.Select(x => x*0.001).ToArray();\n",
    "       var linP = new Plot2Ddata.XYvalues(\"linear\", dof, linT);\n",
    "       linP.Format.FromString(\"- black\");\n",
    "       ArrayTools.AddToArray(linP, ref multiplots[iRow,iCol].dataGroups);\n",
    " \n",
    "       //all about axis\n",
    "       string Title = string.Format(\"$k = {0}$\", tmpDG);\n",
    "       multiplots[iRow,iCol].Ylabel = Title;\n",
    "       multiplots[iRow,iCol].LogX = true;\n",
    "       multiplots[iRow,iCol].LogY = LogY;\n",
    "    \n",
    "       //specify range of axis\n",
    "       multiplots[iRow,iCol].YrangeMin = yMin;\n",
    "       multiplots[iRow,iCol].YrangeMax = yMax;\n",
    "       multiplots[iRow,iCol].XrangeMin = 1e2;\n",
    "       multiplots[iRow,iCol].XrangeMax = 1e7;\n",
    "    \n",
    "       //multiplots[iRow,iCol].Y2rangeMin = 1e-3;\n",
    "       //multiplots[iRow,iCol].Y2rangeMax = 1e+4;\n",
    "       //multiplots[iRow,iCol].X2rangeMin = 1e2;\n",
    "       //multiplots[iRow,iCol].X2rangeMax = 1e7;\n",
    "    \n",
    "       //spacing around plots\n",
    "       multiplots[iRow,iCol].ShowLegend = false;\n",
    "       multiplots[iRow,iCol].tmargin = 0;\n",
    "       multiplots[iRow,iCol].bmargin = 2;\n",
    "       multiplots[iRow,iCol].lmargin = 5;\n",
    "       multiplots[iRow,iCol].rmargin = 5;\n",
    "       multiplots[iRow,iCol].ShowXtics = false;\n",
    "\n",
    "       //I am legend ...\n",
    "       if(iRow == 0) {\n",
    "          multiplots[iRow,iCol].ShowLegend = true;\n",
    "          multiplots[iRow,iCol].LegendAlignment = new string[]{\"i\",\"t\",\"l\"};\n",
    "          //multiplots[iRow,iCol].LegendSwap  = true;\n",
    "       }\n",
    "       //and i am special ...\n",
    "       if(iRow == rows - 1)\n",
    "           multiplots[iRow,iCol].ShowXtics = true;\n",
    "    pDegree++;\n",
    "}                        \n",
    "}\n",
    "//multiplots.PlotCairolatex().WriteMinimalCompileableExample(\"latex/solvers.tex\");\n",
    "//multiplots.AddDummyPlotsForLegend(3,0);\n",
    "return multiplots;\n",
    "}"
   ]
  },
  {
   "cell_type": "markdown",
   "metadata": {},
   "source": [
    "### Total Runtime\n",
    "\n",
    "One would expect **linear scaling** with grid resolution; it may scale nonlinear with DG polynomial order."
   ]
  },
  {
   "cell_type": "code",
   "execution_count": null,
   "metadata": {},
   "outputs": [],
   "source": [
    "var multiplots = PlotSolverBehave(\"Solver_InitAndRun_time\", true, 1e-2, 1e+4);\n",
    "//multiplots.PlotCairolatex().PlotNow()\n",
    "//multiplots.AddDummyPlotsForLegend(3,0);\n",
    "multiplots.PlotNow()"
   ]
  },
  {
   "cell_type": "code",
   "execution_count": null,
   "metadata": {
    "dotnet_interactive": {
     "language": "csharp"
    }
   },
   "outputs": [],
   "source": [
    "multiplots[0,0].Regression()"
   ]
  },
  {
   "cell_type": "code",
   "execution_count": null,
   "metadata": {},
   "outputs": [],
   "source": [
    "NUnit.Framework.Assert.LessOrEqual(\n",
    "   multiplots[0,0].Regression().Single(tt =>  tt.Key == \"GMRES w p2G\").Value,\n",
    "   1.1,\n",
    "   \"2-plevel GMRES scaling out of linear for p = 2\");"
   ]
  },
  {
   "cell_type": "code",
   "execution_count": null,
   "metadata": {
    "dotnet_interactive": {
     "language": "csharp"
    }
   },
   "outputs": [],
   "source": [
    "multiplots[1,0].Regression()"
   ]
  },
  {
   "cell_type": "code",
   "execution_count": null,
   "metadata": {},
   "outputs": [],
   "source": [
    "NUnit.Framework.Assert.LessOrEqual(\n",
    "   multiplots[1,0].Regression().Single(tt =>  tt.Key == \"GMRES w p2G\").Value,\n",
    "   1.1,\n",
    "   \"2-plevel GMRES scaling out of linear for p = 3\");"
   ]
  },
  {
   "cell_type": "code",
   "execution_count": null,
   "metadata": {},
   "outputs": [],
   "source": [
    "multiplots[2,0].Regression()"
   ]
  },
  {
   "cell_type": "code",
   "execution_count": null,
   "metadata": {},
   "outputs": [],
   "source": [
    "NUnit.Framework.Assert.LessOrEqual(\n",
    "   multiplots[2,0].Regression().Single(tt =>  tt.Key == \"GMRES w p2G\").Value,\n",
    "   1.1,\n",
    "   \"2-plevel GMRES scaling out of linear for p = 5\");"
   ]
  },
  {
   "cell_type": "markdown",
   "metadata": {},
   "source": [
    "Experimental: Latex Preview:"
   ]
  },
  {
   "cell_type": "code",
   "execution_count": null,
   "metadata": {},
   "outputs": [],
   "source": [
    "var multiplots = PlotSolverBehave(\"Solver_InitAndRun_time\", true, 1e-2, 1e+4);\n",
    "multiplots.PlotCairolatex().PlotNow()"
   ]
  },
  {
   "cell_type": "markdown",
   "metadata": {},
   "source": [
    "### Number of Iterations\n",
    "\n",
    "For the iterative solvers, obe would expect **almost constant number of solver iterations**, \n",
    "independent of grid resolution. It may, however depend in nonlinar fashion on the DG polynomial order."
   ]
  },
  {
   "cell_type": "code",
   "execution_count": null,
   "metadata": {},
   "outputs": [],
   "source": [
    "var multiplots = PlotSolverBehave(\"NoIter\", false, 0, 140);\n",
    "//multiplots.PlotCairolatex().WriteMinimalCompileableExample(\"latex/solvers.tex\");\n",
    "//multiplots.AddDummyPlotsForLegend(3,0);\n",
    "multiplots.PlotNow()"
   ]
  },
  {
   "cell_type": "code",
   "execution_count": null,
   "metadata": {},
   "outputs": [],
   "source": [
    "multiplots[0,0].dataGroups"
   ]
  },
  {
   "cell_type": "code",
   "execution_count": null,
   "metadata": {},
   "outputs": [],
   "source": [
    "multiplots[1,0].dataGroups"
   ]
  },
  {
   "cell_type": "code",
   "execution_count": null,
   "metadata": {},
   "outputs": [],
   "source": [
    "multiplots[2,0].dataGroups"
   ]
  },
  {
   "cell_type": "markdown",
   "metadata": {},
   "source": [
    "### Runtime per Iteration\n",
    "\n",
    "One would expect **linear scaling** with grid resolution; it may scale nonlinear with DG polynomial order."
   ]
  },
  {
   "cell_type": "code",
   "execution_count": null,
   "metadata": {},
   "outputs": [],
   "source": [
    "var multiplots = PlotSolverBehave(\"Solver_TimePerIter\", true, 1e-2, 1e+3);\n",
    "//multiplots.PlotCairolatex().WriteMinimalCompileableExample(\"latex/solvers.tex\");\n",
    "//multiplots.AddDummyPlotsForLegend(3,0);\n",
    "multiplots.PlotNow()"
   ]
  },
  {
   "cell_type": "code",
   "execution_count": null,
   "metadata": {},
   "outputs": [],
   "source": [
    "multiplots[0,0].Regression()"
   ]
  },
  {
   "cell_type": "code",
   "execution_count": null,
   "metadata": {},
   "outputs": [],
   "source": [
    "NUnit.Framework.Assert.LessOrEqual(\n",
    "   multiplots[0,0].Regression().Single(tt =>  tt.Key == \"GMRES w p2G\").Value,\n",
    "   1.1,\n",
    "   \"2-plevel GMRES scaling out of linear for p = 2\");\n",
    "NUnit.Framework.Assert.LessOrEqual(\n",
    "   multiplots[0,0].Regression().Single(tt =>  tt.Key == \"OrthoMG w Add Swz\").Value,\n",
    "   1.1,\n",
    "   \"Ortho MG scaling out of linear for p = 2\");"
   ]
  },
  {
   "cell_type": "code",
   "execution_count": null,
   "metadata": {},
   "outputs": [],
   "source": [
    "multiplots[1,0].Regression()"
   ]
  },
  {
   "cell_type": "code",
   "execution_count": null,
   "metadata": {},
   "outputs": [],
   "source": [
    "NUnit.Framework.Assert.LessOrEqual(\n",
    "   multiplots[1,0].Regression().Single(tt =>  tt.Key == \"GMRES w p2G\").Value,\n",
    "   1.1,\n",
    "   \"2-plevel GMRES scaling out of linear for p = 3\");\n",
    "NUnit.Framework.Assert.LessOrEqual(\n",
    "   multiplots[1,0].Regression().Single(tt =>  tt.Key == \"OrthoMG w Add Swz\").Value,\n",
    "   1.1,\n",
    "   \"Ortho MG scaling out of linear for p = 3\");"
   ]
  },
  {
   "cell_type": "code",
   "execution_count": null,
   "metadata": {},
   "outputs": [],
   "source": [
    "multiplots[2,0].Regression()"
   ]
  },
  {
   "cell_type": "code",
   "execution_count": null,
   "metadata": {},
   "outputs": [],
   "source": [
    "NUnit.Framework.Assert.LessOrEqual(\n",
    "   multiplots[2,0].Regression().Single(tt =>  tt.Key == \"GMRES w p2G\").Value,\n",
    "   1.1,\n",
    "   \"2-plevel GMRES scaling out of linear for p = 5\");\n",
    "NUnit.Framework.Assert.LessOrEqual(\n",
    "   multiplots[2,0].Regression().Single(tt =>  tt.Key == \"OrthoMG w Add Swz\").Value,\n",
    "   1.2,\n",
    "   \"Ortho MG scaling out of linear for p = 5\");"
   ]
  },
  {
   "cell_type": "markdown",
   "metadata": {},
   "source": [
    "## Appendix: Table Form of Extracted Data"
   ]
  },
  {
   "cell_type": "code",
   "execution_count": null,
   "metadata": {},
   "outputs": [],
   "source": [
    "SubTab.Print()"
   ]
  },
  {
   "cell_type": "code",
   "execution_count": null,
   "metadata": {},
   "outputs": [],
   "source": []
  }
 ],
 "metadata": {
  "kernelspec": {
   "display_name": ".NET (C#)",
   "language": "C#",
   "name": ".net-csharp"
  },
  "language_info": {
   "file_extension": ".cs",
   "mimetype": "text/x-csharp",
   "name": "C#",
   "pygments_lexer": "csharp",
   "version": "9.0"
  }
 },
 "nbformat": 4,
 "nbformat_minor": 4
}
