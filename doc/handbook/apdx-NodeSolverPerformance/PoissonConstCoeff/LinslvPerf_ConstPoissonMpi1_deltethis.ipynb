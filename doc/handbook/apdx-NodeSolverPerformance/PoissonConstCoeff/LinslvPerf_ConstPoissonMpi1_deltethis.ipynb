{
 "cells": [
  {
   "cell_type": "markdown",
   "metadata": {},
   "source": [
    "# Linear Solver Performance: Constant Coefficient Poisson, Single Core\n",
    "\n",
    "### Part 1, Benchmark Setup and Execution"
   ]
  },
  {
   "cell_type": "code",
   "execution_count": null,
   "metadata": {
    "dotnet_interactive": {
     "language": "csharp"
    }
   },
   "outputs": [
    {
     "name": "stdout",
     "output_type": "stream",
     "text": [
      "Execution Date/time is 27.01.2022 15:46:30\r\n"
     ]
    }
   ],
   "source": [
    "Console.WriteLine(\"Execution Date/time is \" + DateTime.Now);"
   ]
  },
  {
   "cell_type": "code",
   "execution_count": null,
   "metadata": {
    "dotnet_interactive": {
     "language": "csharp"
    }
   },
   "outputs": [],
   "source": [
    "//#r \"BoSSSpad.dll\"\n",
    "#r \"B:\\BoSSS-smuda\\public\\src\\L4-application\\BoSSSpad\\bin\\Release\\net5.0\\BoSSSpad.dll\"\n",
    "//#r \"../../../../src/L4-application/BoSSSpad/bin/Debug/net5.0/BoSSSpad.dll\"\n",
    "using System;\n",
    "using System.Collections.Generic;\n",
    "using System.Linq;\n",
    "using ilPSP;\n",
    "using ilPSP.Utils;\n",
    "using BoSSS.Platform;\n",
    "using BoSSS.Platform.LinAlg;\n",
    "using BoSSS.Foundation;\n",
    "using BoSSS.Foundation.XDG;\n",
    "using BoSSS.Foundation.Grid;\n",
    "using BoSSS.Foundation.Grid.Classic;\n",
    "using BoSSS.Foundation.Grid.RefElements;\n",
    "using BoSSS.Foundation.IO;\n",
    "using BoSSS.Solution;\n",
    "using BoSSS.Solution.Control;\n",
    "using BoSSS.Solution.GridImport;\n",
    "using BoSSS.Solution.Statistic;\n",
    "using BoSSS.Solution.Utils;\n",
    "using BoSSS.Solution.AdvancedSolvers;\n",
    "using BoSSS.Solution.Gnuplot;\n",
    "using BoSSS.Application.BoSSSpad;\n",
    "using BoSSS.Application.XNSE_Solver;\n",
    "using static BoSSS.Application.BoSSSpad.BoSSSshell;\n",
    "Init();"
   ]
  },
  {
   "cell_type": "code",
   "execution_count": null,
   "metadata": {
    "dotnet_interactive": {
     "language": "csharp"
    }
   },
   "outputs": [],
   "source": [
    "using BoSSS.Application.SipPoisson;"
   ]
  },
  {
   "cell_type": "code",
   "execution_count": null,
   "metadata": {
    "dotnet_interactive": {
     "language": "csharp"
    }
   },
   "outputs": [
    {
     "data": {
      "text/html": [
       "<table><thead><tr><th><i>index</i></th><th><i>type</i></th><th>Username</th><th>Password</th><th>ServerName</th><th>PrivateKeyFilePath</th><th>AdditionalBatchCommands</th><th>DeploymentBaseDirectoryAtRemote</th><th>SlurmAccount</th><th>Email</th><th>DeploymentBaseDirectory</th><th>DeployRuntime</th><th>Name</th><th>DotnetRuntime</th><th>MonoDebug</th><th>AllowedDatabasesPaths</th><th>BatchInstructionDir</th><th>ComputeNodes</th><th>DefaultJobPriority</th><th>SingleNode</th></tr></thead><tbody><tr><td>0</td><td>BoSSS.Application.BoSSSpad.SlurmClient</td><td>jw52xeqa</td><td><div class=\"dni-plaintext\">&lt;null&gt;</div></td><td>lcluster14.hrz.tu-darmstadt.de</td><td>C:\\Users\\weber\\.ssh\\id_rsa</td><td>[ #SBATCH -C avx512, #SBATCH --mem-per-cpu=2000 ]</td><td>/home/jw52xeqa/Deployerie</td><td>special00006</td><td><div class=\"dni-plaintext\">&lt;null&gt;</div></td><td>X:\\Deployerie</td><td>True</td><td>HHLR</td><td>dotnet</td><td>False</td><td>[ W:\\work\\scratch\\jw52xeqa == /work/scratch/jw52xeqa ]</td><td></td><td></td><td></td><td></td></tr><tr><td>1</td><td>BoSSS.Application.BoSSSpad.MiniBatchProcessorClient</td><td></td><td></td><td></td><td></td><td></td><td></td><td></td><td></td><td>C:\\Users\\weber\\AppData\\Local\\BoSSS-LocalJobs</td><td>False</td><td>LocalPC</td><td>dotnet</td><td></td><td>[ D:\\trash_db ==  ]</td><td><div class=\"dni-plaintext\">&lt;null&gt;</div></td><td></td><td></td><td></td></tr><tr><td>2</td><td>BoSSS.Application.BoSSSpad.MsHPC2012Client</td><td>FDY\\weber</td><td></td><td>DC2</td><td></td><td></td><td></td><td></td><td></td><td>\\\\hpccluster\\hpccluster-scratch\\weber\\dply</td><td>True</td><td>FDY-cluster</td><td>dotnet</td><td></td><td>[ \\\\hpccluster\\hpccluster-scratch\\weber\\trash_DB ==  ]</td><td></td><td>[ HPCCLUSTER2 ]</td><td>Normal</td><td>True</td></tr><tr><td>3</td><td>BoSSS.Application.BoSSSpad.SlurmClient</td><td>jw52xeqa</td><td><div class=\"dni-plaintext\">&lt;null&gt;</div></td><td>lcluster5.hrz.tu-darmstadt.de</td><td>C:\\Users\\weber\\.ssh\\id_rsa</td><td><div class=\"dni-plaintext\">&lt;null&gt;</div></td><td>/home/jw52xeqa/Deployerie</td><td>project01217</td><td><div class=\"dni-plaintext\">&lt;null&gt;</div></td><td>X:\\Deployerie</td><td>True</td><td><div class=\"dni-plaintext\">&lt;null&gt;</div></td><td>dotnet</td><td>False</td><td></td><td></td><td></td><td></td><td></td></tr></tbody></table>"
      ]
     },
     "metadata": {},
     "output_type": "display_data"
    }
   ],
   "source": [
    "ExecutionQueues"
   ]
  },
  {
   "cell_type": "code",
   "execution_count": null,
   "metadata": {
    "dotnet_interactive": {
     "language": "csharp"
    }
   },
   "outputs": [
    {
     "data": {
      "text/html": [
       "<table><thead><tr><th>DeploymentBaseDirectory</th><th>DeployRuntime</th><th>Name</th><th>DotnetRuntime</th><th>Username</th><th>ServerName</th><th>ComputeNodes</th><th>DefaultJobPriority</th><th>SingleNode</th><th>AllowedDatabasesPaths</th></tr></thead><tbody><tr><td><div class=\"dni-plaintext\">\\\\hpccluster\\hpccluster-scratch\\weber\\dply</div></td><td><div class=\"dni-plaintext\">True</div></td><td><div class=\"dni-plaintext\">FDY-cluster</div></td><td><div class=\"dni-plaintext\">dotnet</div></td><td><div class=\"dni-plaintext\">FDY\\weber</div></td><td><div class=\"dni-plaintext\">DC2</div></td><td><div class=\"dni-plaintext\">[ HPCCLUSTER2 ]</div></td><td><div class=\"dni-plaintext\">Normal</div></td><td><div class=\"dni-plaintext\">True</div></td><td><div class=\"dni-plaintext\">[ \\\\hpccluster\\hpccluster-scratch\\weber\\trash_DB ==  ]</div></td></tr></tbody></table>"
      ]
     },
     "metadata": {},
     "output_type": "display_data"
    }
   ],
   "source": [
    "var myBatch = ExecutionQueues[2];\n",
    "myBatch"
   ]
  },
  {
   "cell_type": "code",
   "execution_count": null,
   "metadata": {
    "dotnet_interactive": {
     "language": "csharp"
    }
   },
   "outputs": [],
   "source": [
    "wmg.Init(\"CCPoisson_conditionNo\");\n",
    "wmg.SetNameBasedSessionJobControlCorrelation();\n",
    "wmg.DefaultDatabase = OpenOrCreateDatabase(ExecutionQueues[2].AllowedDatabasesPaths.Pick(0).LocalMountPath);"
   ]
  },
  {
   "cell_type": "markdown",
   "metadata": {
    "dotnet_interactive": {
     "language": "csharp"
    }
   },
   "source": [
    "## Utility definitions"
   ]
  },
  {
   "cell_type": "code",
   "execution_count": null,
   "metadata": {
    "dotnet_interactive": {
     "language": "csharp"
    }
   },
   "outputs": [],
   "source": [
    "static class Utils {\n",
    "    // DOF per cell in 3D\n",
    "    public static int Np(int p) {\n",
    "        return (p*p*p + 6*p*p + 11*p + 6)/6;\n",
    "    }    \n",
    "    \n",
    "    //Non-equidistant nodes\n",
    "    public static double[] SinLinSpacing(double l, double r, double a, int n) {\n",
    "        double[] linnodes = GenericBlas.Linspace(-Math.PI * 0.5, Math.PI * 0.5, n);\n",
    "        double[] linnodes2 = GenericBlas.Linspace(-1, 1, n);\n",
    "        double[] nodes = new double[n];\n",
    "\n",
    "        for (int i = 0; i < n; i++)\n",
    "            //nodes[i] = linnodes2[i] * (1 - a) + (1.0 - Math.Sin(linnodes[i])) * a;\n",
    "            nodes[i] = linnodes2[i] * (1 - a) + Math.Sin(linnodes[i])*a;\n",
    "\n",
    "        for (int i = 0; i < n; i++)\n",
    "            nodes[i] = nodes[i] * (r - l)*0.5 + l;\n",
    "        return nodes;\n",
    "    }\n",
    "}"
   ]
  },
  {
   "cell_type": "markdown",
   "metadata": {
    "dotnet_interactive": {
     "language": "csharp"
    }
   },
   "source": [
    "## Init grids and save to database"
   ]
  },
  {
   "cell_type": "code",
   "execution_count": null,
   "metadata": {
    "dotnet_interactive": {
     "language": "csharp"
    }
   },
   "outputs": [
    {
     "data": {
      "text/plain": [
       "#0: { Guid = 47fa58f5-ab4d-4236-9207-1313c8fbea12; Name = LinslvPerf_ConstPoissonMpi1_J1310720; Cell Count = 1310720; Dim = 3 }\r\n",
       "#1: { Guid = 766260bb-b87a-4de8-9716-7cc5cd3b59a3; Name = LinslvPerf_ConstPoissonMpi1_J552960; Cell Count = 552960; Dim = 3 }\r\n",
       "#2: { Guid = 8e1e5757-aab8-45c7-8ca8-83261f901f04; Name = LinslvPerf_ConstPoissonMpi1_J163840; Cell Count = 163840; Dim = 3 }\r\n",
       "#3: { Guid = 74db1319-7ecf-47df-91e1-c86f9f47e2a3; Name = LinslvPerf_ConstPoissonMpi1_J69120; Cell Count = 69120; Dim = 3 }\r\n",
       "#4: { Guid = bc406965-9bcc-4ca5-bacc-81b044a3f272; Name = LinslvPerf_ConstPoissonMpi1_J20480; Cell Count = 20480; Dim = 3 }\r\n",
       "#5: { Guid = c950736e-7cd6-42db-992a-e0b5517b52f2; Name = LinslvPerf_ConstPoissonMpi1_J2560; Cell Count = 2560; Dim = 3 }\r\n",
       "#6: { Guid = 88fe21a5-09a9-4d8d-8ada-435d6247b5d0; Name = LinslvPerf_ConstPoissonMpi1_J320; Cell Count = 320; Dim = 3 }\r\n",
       "#7: { Guid = ec1d8aaf-3737-45cd-8065-283b1a0cdf77; Name = RotBenchmarkGrid; Cell Count = 8232; Dim = 3 }\r\n",
       "#8: { Guid = cdd10f9f-afc9-4022-9a0c-66b82302825d; Name = RotBenchmarkGrid; Cell Count = 3993; Dim = 3 }\r\n",
       "#9: { Guid = 02e22bc2-bc70-4600-b48a-cd897d8316f9; Name = RotBenchmarkGrid; Cell Count = 2187; Dim = 3 }\r\n"
      ]
     },
     "metadata": {},
     "output_type": "display_data"
    }
   ],
   "source": [
    "wmg.Grids"
   ]
  },
  {
   "cell_type": "markdown",
   "metadata": {},
   "source": [
    "Create meshes in various resolutions:\n",
    "- domain $\\Omega = (0,10) \\times (-1,1) \\times (-1,1)$; \n",
    "- a Dirichlet boundary is set for $x = 0$, everywhere else Neumann boundaries are assumed; \n",
    "  these are typically more challenging for a linear solver than Dirichlet boundaries.\n",
    "- in order to make the problem a bit challenging, a non-equidistant spacing for $y$ and $z$ coordinate are used\n",
    "- the domain shape is reminiscent of a typical grid for the simulation of channel flows, with exception of the boundary conditions"
   ]
  },
  {
   "cell_type": "code",
   "execution_count": null,
   "metadata": {
    "dotnet_interactive": {
     "language": "csharp"
    }
   },
   "outputs": [],
   "source": [
    "int[] Resolutions_3D = new int[] { 4, 8, 16, 24, 32, 48, 64 };\n",
    "IGridInfo[] grids = new IGridInfo[Resolutions_3D.Length];\n",
    "for(int cnt = 0; cnt < Resolutions_3D.Length; cnt++) {\n",
    "    int Res = Resolutions_3D[cnt];    \n",
    "    \n",
    "    double[] xNodes = GenericBlas.Linspace(0, 10, Res*5 + 1);\n",
    "    double[] yNodes = Utils.SinLinSpacing(-1, +1, 0.6, Res + 1);\n",
    "    double[] zNodes = Utils.SinLinSpacing(-1, +1, 0.6, Res + 1);\n",
    "    int J = (xNodes.Length - 1)*(yNodes.Length - 1)*(zNodes.Length - 1);\n",
    "    \n",
    "    string GridName = string.Format(wmg.CurrentProject + \"_J\" + J);\n",
    "    \n",
    "    //grids[cnt] = null;\n",
    "    //foreach(IGridInfo grd in wmg.Grids) { \n",
    "    //    bool check = grd.Name.Contains(string.Format(\"_J\"+ J));\n",
    "    //    if(check) {\n",
    "    //      grids[cnt] = grd;\n",
    "    //    }\n",
    "    //}\n",
    "    \n",
    "    grids[cnt] = wmg.Grids.SingleOrDefault(grd => grd.Name.Contains(string.Format(\"_J\"+ J))); // check if an appropriate grid is already present in the database\n",
    "    if(grids[cnt] == null) { // \n",
    "        Console.WriteLine($\"Creating grid with {J} = {Res*5}x{Res}x{Res} cells.\");\n",
    "        \n",
    "        GridCommons g;\n",
    "        g      = Grid3D.Cartesian3DGrid(xNodes, yNodes, zNodes);\n",
    "        g.Name = GridName;\n",
    "    \n",
    "        g.DefineEdgeTags(delegate (double[] X) {\n",
    "            if(Math.Abs(X[0] - 0.0) <= 1.0e-6)\n",
    "                return BoundaryType.Dirichlet.ToString();\n",
    "            else\n",
    "                return BoundaryType.Neumann.ToString();\n",
    "        });\n",
    "      \n",
    "        g = wmg.SaveGrid(g);  \n",
    "        grids[cnt] = g;\n",
    "    } else {\n",
    "        Console.WriteLine(\"Found Grid: \" + grids[cnt]);\n",
    "        if(grids[cnt].NumberOfCells != J)\n",
    "            throw new Exception(\"J mismatch\");\n",
    "        \n",
    "        if(grids[cnt].SpatialDimension != 3)\n",
    "            throw new Exception(\"D mismatch\");\n",
    "    }\n",
    "}"
   ]
  },
  {
   "cell_type": "code",
   "execution_count": null,
   "metadata": {
    "dotnet_interactive": {
     "language": "csharp"
    }
   },
   "outputs": [
    {
     "data": {
      "text/plain": [
       "#0: { Guid = 88fe21a5-09a9-4d8d-8ada-435d6247b5d0; Name = LinslvPerf_ConstPoissonMpi1_J320; Cell Count = 320; Dim = 3 }\r\n",
       "#1: { Guid = c950736e-7cd6-42db-992a-e0b5517b52f2; Name = LinslvPerf_ConstPoissonMpi1_J2560; Cell Count = 2560; Dim = 3 }\r\n",
       "#2: { Guid = bc406965-9bcc-4ca5-bacc-81b044a3f272; Name = LinslvPerf_ConstPoissonMpi1_J20480; Cell Count = 20480; Dim = 3 }\r\n",
       "#3: { Guid = 74db1319-7ecf-47df-91e1-c86f9f47e2a3; Name = LinslvPerf_ConstPoissonMpi1_J69120; Cell Count = 69120; Dim = 3 }\r\n",
       "#4: { Guid = 8e1e5757-aab8-45c7-8ca8-83261f901f04; Name = LinslvPerf_ConstPoissonMpi1_J163840; Cell Count = 163840; Dim = 3 }\r\n",
       "#5: { Guid = 766260bb-b87a-4de8-9716-7cc5cd3b59a3; Name = LinslvPerf_ConstPoissonMpi1_J552960; Cell Count = 552960; Dim = 3 }\r\n",
       "#6: { Guid = 47fa58f5-ab4d-4236-9207-1313c8fbea12; Name = LinslvPerf_ConstPoissonMpi1_J1310720; Cell Count = 1310720; Dim = 3 }\r\n"
      ]
     },
     "metadata": {},
     "output_type": "display_data"
    }
   ],
   "source": [
    "grids"
   ]
  },
  {
   "cell_type": "markdown",
   "metadata": {
    "dotnet_interactive": {
     "language": "csharp"
    }
   },
   "source": [
    "## Setup Control Object for a Solver Run"
   ]
  },
  {
   "cell_type": "markdown",
   "metadata": {
    "dotnet_interactive": {
     "language": "csharp"
    }
   },
   "source": [
    "### Values/Formulas for the Values of RHS and Boundary Conditions"
   ]
  },
  {
   "cell_type": "code",
   "execution_count": null,
   "metadata": {
    "dotnet_interactive": {
     "language": "csharp"
    }
   },
   "outputs": [],
   "source": [
    "string nl = System.Environment.NewLine;\n",
    "string math_expressions_code = \n",
    "\"static class InitialValues { \" +\n",
    "\"    public static double RHS(double[] X) { \" + nl +\n",
    "\"        return -Math.Sin(X[0]); \" + nl +\n",
    "\"    } \" + nl +\n",
    "\"     \" + nl +\n",
    "\"    public static double DirichletBC(double[] X) { \" + nl +\n",
    "\"        return 0.0; \" + nl +\n",
    "\"    } \" + nl +\n",
    "\"     \" + nl +\n",
    "\"    public static double NeumannBC(double[] X) { \" + nl +\n",
    "\"       if(Math.Abs(X[1] - 1.0) < 1.0e-8 || Math.Abs(X[1] + 1.0) < 1.0e-8) \" + nl +\n",
    "\"           return 0; \" + nl +\n",
    "\"       if(X.Length > 2 && (Math.Abs(X[2] - 1.0) < 1.0e-8 || Math.Abs(X[2] + 1.0) < 1.0e-8)) \" + nl +\n",
    "\"           return 0; \" + nl +\n",
    "\"     \" + nl +\n",
    "\"       return Math.Cos(10.0); \" + nl +\n",
    "\"   } \" + nl +\n",
    "\"} \" + nl;"
   ]
  },
  {
   "cell_type": "code",
   "execution_count": null,
   "metadata": {
    "dotnet_interactive": {
     "language": "csharp"
    }
   },
   "outputs": [],
   "source": [
    "var RHS_value = new Formula(\"InitialValues.RHS\", false, math_expressions_code);\n",
    "var NeumannBC_value = new Formula(\"InitialValues.NeumannBC\", false, math_expressions_code);\n",
    "var DirichletBC_value = new ConstantValue(0.0);"
   ]
  },
  {
   "cell_type": "markdown",
   "metadata": {},
   "source": [
    "Brief test of the boundary values:"
   ]
  },
  {
   "cell_type": "code",
   "execution_count": null,
   "metadata": {
    "dotnet_interactive": {
     "language": "csharp"
    }
   },
   "outputs": [
    {
     "data": {
      "text/html": [
       "<div class=\"dni-plaintext\">-0.19866933079506122</div>"
      ]
     },
     "metadata": {},
     "output_type": "display_data"
    }
   ],
   "source": [
    "RHS_value.Evaluate(new Vector(0.2, 0.1), 0)"
   ]
  },
  {
   "cell_type": "code",
   "execution_count": null,
   "metadata": {
    "dotnet_interactive": {
     "language": "csharp"
    }
   },
   "outputs": [
    {
     "data": {
      "text/html": [
       "<div class=\"dni-plaintext\">-0.8390715290764524</div>"
      ]
     },
     "metadata": {},
     "output_type": "display_data"
    }
   ],
   "source": [
    "NeumannBC_value.Evaluate(new Vector(0.2, 0.1), 0)"
   ]
  },
  {
   "cell_type": "markdown",
   "metadata": {
    "dotnet_interactive": {
     "language": "csharp"
    }
   },
   "source": [
    "### Setup of Parameter Study"
   ]
  },
  {
   "cell_type": "markdown",
   "metadata": {
    "dotnet_interactive": {
     "language": "csharp"
    }
   },
   "source": [
    "Polynomial degrees to test:"
   ]
  },
  {
   "cell_type": "code",
   "execution_count": null,
   "metadata": {
    "dotnet_interactive": {
     "language": "csharp"
    }
   },
   "outputs": [],
   "source": [
    "//int[] PolyDegS = new int[] {2, 3, 4, 5, 6};\n",
    "int[] PolyDegS = new int[] {2, 3, 5}; // reduced options for dev."
   ]
  },
  {
   "cell_type": "markdown",
   "metadata": {},
   "source": [
    "Solvers which we want to instrument:"
   ]
  },
  {
   "cell_type": "code",
   "execution_count": null,
   "metadata": {
    "dotnet_interactive": {
     "language": "csharp"
    }
   },
   "outputs": [],
   "source": [
    "using BoSSS.Solution.AdvancedSolvers;"
   ]
  },
  {
   "cell_type": "code",
   "execution_count": null,
   "metadata": {
    "dotnet_interactive": {
     "language": "csharp"
    }
   },
   "outputs": [],
   "source": [
    "LinearSolverCode[] solver_nameS = new LinearSolverCode[] {\n",
    "    LinearSolverCode.classic_pardiso, \n",
    "    //LinearSolverCode.classic_mumps, \n",
    "    //LinearSolverCode.exp_Kcycle_schwarz,\n",
    "    //LinearSolverCode.exp_gmres_levelpmg,\n",
    "}; "
   ]
  },
  {
   "cell_type": "markdown",
   "metadata": {},
   "source": [
    "Maximum Dof for one calculation (we skip fine grids for higher polynomial orders):"
   ]
  },
  {
   "cell_type": "code",
   "execution_count": null,
   "metadata": {
    "dotnet_interactive": {
     "language": "csharp"
    }
   },
   "outputs": [],
   "source": [
    "int GetMaxAllowedDOF(LinearSolverCode code) {\n",
    "    switch(code) {\n",
    "        case LinearSolverCode.classic_pardiso:\n",
    "        case LinearSolverCode.classic_mumps:\n",
    "        return 5000000; // 1.1 Million for iterative solvers at maximum\n",
    "    \n",
    "        default: \n",
    "        return 5000000; // Up to 5 Million for iterative solvers\n",
    "    }\n",
    "}"
   ]
  },
  {
   "cell_type": "markdown",
   "metadata": {},
   "source": [
    "Loop over all combinations of parameters and define a control object for each combo:"
   ]
  },
  {
   "cell_type": "code",
   "execution_count": null,
   "metadata": {
    "dotnet_interactive": {
     "language": "csharp"
    }
   },
   "outputs": [
    {
     "name": "stdout",
     "output_type": "stream",
     "text": [
      "setting up: J320_k2_classic_pardiso\r\n",
      "setting up: J2560_k2_classic_pardiso\r\n",
      "setting up: J20480_k2_classic_pardiso\r\n",
      "setting up: J69120_k2_classic_pardiso\r\n",
      "setting up: J163840_k2_classic_pardiso\r\n",
      "setting up: J320_k3_classic_pardiso\r\n",
      "setting up: J2560_k3_classic_pardiso\r\n",
      "setting up: J20480_k3_classic_pardiso\r\n",
      "setting up: J69120_k3_classic_pardiso\r\n",
      "setting up: J163840_k3_classic_pardiso\r\n",
      "setting up: J320_k5_classic_pardiso\r\n",
      "setting up: J2560_k5_classic_pardiso\r\n",
      "setting up: J20480_k5_classic_pardiso\r\n",
      "setting up: J69120_k5_classic_pardiso\r\n"
     ]
    }
   ],
   "source": [
    "List<SipControl> controls = new List<SipControl>();\n",
    "foreach(LinearSolverCode solver_name in solver_nameS) {\n",
    "foreach(int k in PolyDegS) {   \n",
    "foreach(IGridInfo grd in grids) {\n",
    "    int Np = Utils.Np(k);\n",
    "    int J  = grd.NumberOfCells;\n",
    "    if(J*Np > GetMaxAllowedDOF(solver_name)) {\n",
    "        continue;\n",
    "    } \n",
    "    var ctrl = new SipControl();\n",
    "    controls.Add(ctrl);\n",
    "       \n",
    "    \n",
    "    string caseName = string.Format(\"J{0}_k{1}_{2}\", J, k, solver_name);\n",
    "    Console.WriteLine(\"setting up: \" + caseName);\n",
    "    ctrl.SessionName = \"SIP_\" + caseName;\n",
    "\n",
    "    ctrl.SetGrid(grd);\n",
    "    ctrl.SetDatabase(wmg.DefaultDatabase);\n",
    "    ctrl.savetodb = true;\n",
    "    ctrl.SetDGdegree(k);\n",
    "\n",
    "    ctrl.LinearSolver.SolverCode           = solver_name;\n",
    "    ctrl.LinearSolver.NoOfMultigridLevels  = int.MaxValue;\n",
    "    ctrl.LinearSolver.TargetBlockSize      = Math.Min(J*Np-1,10000);\n",
    "    ctrl.LinearSolver.ConvergenceCriterion = 1e-8;\n",
    "    \n",
    "    ctrl.InitialValues.Add(\"RHS\", RHS_value);\n",
    "    ctrl.AddBoundaryValue(BoundaryType.Dirichlet.ToString(), \"T\", DirichletBC_value);\n",
    "    ctrl.AddBoundaryValue(BoundaryType.Neumann.ToString(), \"T\", NeumannBC_value);\n",
    "    \n",
    "    ctrl.PostprocessingModules.Add(new CondLogger());\n",
    "    \n",
    "    ctrl.GridPartType = BoSSS.Foundation.Grid.GridPartType.METIS;\n",
    "    //ctrl.GridPartType = BoSSS.Foundation.Grid.GridPartType.directHilbert;\n",
    "}\n",
    "}\n",
    "}"
   ]
  },
  {
   "cell_type": "markdown",
   "metadata": {},
   "source": [
    "## Launch Jobs"
   ]
  },
  {
   "cell_type": "code",
   "execution_count": null,
   "metadata": {
    "dotnet_interactive": {
     "language": "csharp"
    }
   },
   "outputs": [
    {
     "name": "stdout",
     "output_type": "stream",
     "text": [
      " Submitting: SIP_J320_k2_classic_pardiso\r\n",
      "Deploying job SIP_J320_k2_classic_pardiso ... \r\n",
      "Deploying executables and additional files ...\r\n",
      "Deployment directory: \\\\hpccluster\\hpccluster-scratch\\weber\\dply\\CCPoisson_conditionNo-ipPoisson2022Jan27_154641\r\n",
      "copied 42 files.\r\n",
      "   written file: control.obj\r\n",
      "   copied 'amd64' runtime.\r\n",
      "deployment finished.\r\n",
      "\r\n",
      " Submitting: SIP_J2560_k2_classic_pardiso\r\n",
      "Deploying job SIP_J2560_k2_classic_pardiso ... \r\n",
      "Deploying executables and additional files ...\r\n",
      "Deployment directory: \\\\hpccluster\\hpccluster-scratch\\weber\\dply\\CCPoisson_conditionNo-ipPoisson2022Jan27_154646\r\n",
      "copied 42 files.\r\n",
      "   written file: control.obj\r\n",
      "   copied 'amd64' runtime.\r\n",
      "deployment finished.\r\n",
      "Loading session 433e6436-0c5e-4ce9-bc50-4c43ed3133cd failed with message 'Could not find file '\\\\hpccluster\\hpccluster-scratch\\weber\\trash_DB\\sessions\\433e6436-0c5e-4ce9-bc50-4c43ed3133cd\\Session.info'.'\r\n",
      "\r\n",
      " Submitting: SIP_J20480_k2_classic_pardiso\r\n",
      "Loading session 433e6436-0c5e-4ce9-bc50-4c43ed3133cd failed with message 'Could not find file '\\\\hpccluster\\hpccluster-scratch\\weber\\trash_DB\\sessions\\433e6436-0c5e-4ce9-bc50-4c43ed3133cd\\Session.info'.'\r\n",
      "Loading session 433e6436-0c5e-4ce9-bc50-4c43ed3133cd failed with message 'Could not find file '\\\\hpccluster\\hpccluster-scratch\\weber\\trash_DB\\sessions\\433e6436-0c5e-4ce9-bc50-4c43ed3133cd\\Session.info'.'\r\n",
      "Loading session 433e6436-0c5e-4ce9-bc50-4c43ed3133cd failed with message 'Could not find file '\\\\hpccluster\\hpccluster-scratch\\weber\\trash_DB\\sessions\\433e6436-0c5e-4ce9-bc50-4c43ed3133cd\\Session.info'.'\r\n",
      "Loading session 433e6436-0c5e-4ce9-bc50-4c43ed3133cd failed with message 'Could not find file '\\\\hpccluster\\hpccluster-scratch\\weber\\trash_DB\\sessions\\433e6436-0c5e-4ce9-bc50-4c43ed3133cd\\Session.info'.'\r\n",
      "Deploying job SIP_J20480_k2_classic_pardiso ... \r\n",
      "Deploying executables and additional files ...\r\n",
      "Deployment directory: \\\\hpccluster\\hpccluster-scratch\\weber\\dply\\CCPoisson_conditionNo-ipPoisson2022Jan27_154649\r\n",
      "copied 42 files.\r\n",
      "   written file: control.obj\r\n",
      "   copied 'amd64' runtime.\r\n",
      "deployment finished.\r\n",
      "Loading session 433e6436-0c5e-4ce9-bc50-4c43ed3133cd failed with message 'Could not find file '\\\\hpccluster\\hpccluster-scratch\\weber\\trash_DB\\sessions\\433e6436-0c5e-4ce9-bc50-4c43ed3133cd\\Session.info'.'\r\n",
      "\r\n",
      " Submitting: SIP_J69120_k2_classic_pardiso\r\n",
      "Deploying job SIP_J69120_k2_classic_pardiso ... \r\n",
      "Deploying executables and additional files ...\r\n",
      "Deployment directory: \\\\hpccluster\\hpccluster-scratch\\weber\\dply\\CCPoisson_conditionNo-ipPoisson2022Jan27_154655\r\n",
      "copied 42 files.\r\n",
      "   written file: control.obj\r\n",
      "   copied 'amd64' runtime.\r\n",
      "deployment finished.\r\n",
      "Loading session 88cec084-d080-4861-ac7b-92e49166eb5c failed with message 'Could not find file '\\\\hpccluster\\hpccluster-scratch\\weber\\trash_DB\\sessions\\88cec084-d080-4861-ac7b-92e49166eb5c\\Session.info'.'\r\n",
      "\r\n",
      " Submitting: SIP_J163840_k2_classic_pardiso\r\n",
      "Deploying job SIP_J163840_k2_classic_pardiso ... \r\n",
      "Deploying executables and additional files ...\r\n",
      "Deployment directory: \\\\hpccluster\\hpccluster-scratch\\weber\\dply\\CCPoisson_conditionNo-ipPoisson2022Jan27_154701\r\n",
      "copied 42 files.\r\n",
      "   written file: control.obj\r\n",
      "   copied 'amd64' runtime.\r\n",
      "deployment finished.\r\n",
      "\r\n",
      " Submitting: SIP_J320_k3_classic_pardiso\r\n",
      "Deploying job SIP_J320_k3_classic_pardiso ... \r\n",
      "Deploying executables and additional files ...\r\n",
      "Deployment directory: \\\\hpccluster\\hpccluster-scratch\\weber\\dply\\CCPoisson_conditionNo-ipPoisson2022Jan27_154707\r\n",
      "copied 42 files.\r\n",
      "   written file: control.obj\r\n",
      "   copied 'amd64' runtime.\r\n",
      "deployment finished.\r\n",
      "Loading session 779e10ed-04f8-4e6f-bfb8-1f40233ad0c2 failed with message 'Could not find file '\\\\hpccluster\\hpccluster-scratch\\weber\\trash_DB\\sessions\\779e10ed-04f8-4e6f-bfb8-1f40233ad0c2\\Session.info'.'\r\n",
      "Loading session 779e10ed-04f8-4e6f-bfb8-1f40233ad0c2 failed with message 'Could not find file '\\\\hpccluster\\hpccluster-scratch\\weber\\trash_DB\\sessions\\779e10ed-04f8-4e6f-bfb8-1f40233ad0c2\\Session.info'.'\r\n",
      "\r\n",
      " Submitting: SIP_J2560_k3_classic_pardiso\r\n",
      "Loading session 779e10ed-04f8-4e6f-bfb8-1f40233ad0c2 failed with message 'Could not find file '\\\\hpccluster\\hpccluster-scratch\\weber\\trash_DB\\sessions\\779e10ed-04f8-4e6f-bfb8-1f40233ad0c2\\Session.info'.'\r\n",
      "Loading session 779e10ed-04f8-4e6f-bfb8-1f40233ad0c2 failed with message 'Could not find file '\\\\hpccluster\\hpccluster-scratch\\weber\\trash_DB\\sessions\\779e10ed-04f8-4e6f-bfb8-1f40233ad0c2\\Session.info'.'\r\n",
      "Loading session 779e10ed-04f8-4e6f-bfb8-1f40233ad0c2 failed with message 'Could not find file '\\\\hpccluster\\hpccluster-scratch\\weber\\trash_DB\\sessions\\779e10ed-04f8-4e6f-bfb8-1f40233ad0c2\\Session.info'.'\r\n",
      "Loading session 779e10ed-04f8-4e6f-bfb8-1f40233ad0c2 failed with message 'Could not find file '\\\\hpccluster\\hpccluster-scratch\\weber\\trash_DB\\sessions\\779e10ed-04f8-4e6f-bfb8-1f40233ad0c2\\Session.info'.'\r\n",
      "Deploying job SIP_J2560_k3_classic_pardiso ... \r\n",
      "Deploying executables and additional files ...\r\n",
      "Deployment directory: \\\\hpccluster\\hpccluster-scratch\\weber\\dply\\CCPoisson_conditionNo-ipPoisson2022Jan27_154713\r\n",
      "copied 42 files.\r\n",
      "   written file: control.obj\r\n",
      "   copied 'amd64' runtime.\r\n",
      "deployment finished.\r\n",
      "\r\n",
      " Submitting: SIP_J20480_k3_classic_pardiso\r\n",
      "Deploying job SIP_J20480_k3_classic_pardiso ... \r\n",
      "Deploying executables and additional files ...\r\n",
      "Deployment directory: \\\\hpccluster\\hpccluster-scratch\\weber\\dply\\CCPoisson_conditionNo-ipPoisson2022Jan27_154722\r\n",
      "copied 42 files.\r\n",
      "   written file: control.obj\r\n",
      "   copied 'amd64' runtime.\r\n",
      "deployment finished.\r\n",
      "Loading session 3afa2678-d6e6-46ce-84fe-7a06ceebf343 failed with message 'Could not find file '\\\\hpccluster\\hpccluster-scratch\\weber\\trash_DB\\sessions\\3afa2678-d6e6-46ce-84fe-7a06ceebf343\\Session.info'.'\r\n",
      "Loading session 3afa2678-d6e6-46ce-84fe-7a06ceebf343 failed with message 'Could not find file '\\\\hpccluster\\hpccluster-scratch\\weber\\trash_DB\\sessions\\3afa2678-d6e6-46ce-84fe-7a06ceebf343\\Session.info'.'\r\n",
      "\r\n",
      " Submitting: SIP_J69120_k3_classic_pardiso\r\n",
      "Loading session 3afa2678-d6e6-46ce-84fe-7a06ceebf343 failed with message 'Could not find file '\\\\hpccluster\\hpccluster-scratch\\weber\\trash_DB\\sessions\\3afa2678-d6e6-46ce-84fe-7a06ceebf343\\Session.info'.'\r\n",
      "Loading session 3afa2678-d6e6-46ce-84fe-7a06ceebf343 failed with message 'Could not find file '\\\\hpccluster\\hpccluster-scratch\\weber\\trash_DB\\sessions\\3afa2678-d6e6-46ce-84fe-7a06ceebf343\\Session.info'.'\r\n",
      "Loading session 3afa2678-d6e6-46ce-84fe-7a06ceebf343 failed with message 'Could not find file '\\\\hpccluster\\hpccluster-scratch\\weber\\trash_DB\\sessions\\3afa2678-d6e6-46ce-84fe-7a06ceebf343\\Session.info'.'\r\n",
      "Loading session 3afa2678-d6e6-46ce-84fe-7a06ceebf343 failed with message 'Could not find file '\\\\hpccluster\\hpccluster-scratch\\weber\\trash_DB\\sessions\\3afa2678-d6e6-46ce-84fe-7a06ceebf343\\Session.info'.'\r\n",
      "Deploying job SIP_J69120_k3_classic_pardiso ... \r\n",
      "Deploying executables and additional files ...\r\n",
      "Deployment directory: \\\\hpccluster\\hpccluster-scratch\\weber\\dply\\CCPoisson_conditionNo-ipPoisson2022Jan27_154728\r\n",
      "copied 42 files.\r\n",
      "   written file: control.obj\r\n",
      "   copied 'amd64' runtime.\r\n",
      "deployment finished.\r\n",
      "Loading session 36aa5220-4743-4207-b0d3-9af1951cbec0 failed with message 'Could not find file '\\\\hpccluster\\hpccluster-scratch\\weber\\trash_DB\\sessions\\36aa5220-4743-4207-b0d3-9af1951cbec0\\Session.info'.'\r\n",
      "Loading session 36aa5220-4743-4207-b0d3-9af1951cbec0 failed with message 'Could not find file '\\\\hpccluster\\hpccluster-scratch\\weber\\trash_DB\\sessions\\36aa5220-4743-4207-b0d3-9af1951cbec0\\Session.info'.'\r\n",
      "\r\n",
      " Submitting: SIP_J163840_k3_classic_pardiso\r\n",
      "Loading session 36aa5220-4743-4207-b0d3-9af1951cbec0 failed with message 'Could not find file '\\\\hpccluster\\hpccluster-scratch\\weber\\trash_DB\\sessions\\36aa5220-4743-4207-b0d3-9af1951cbec0\\Session.info'.'\r\n",
      "Loading session 36aa5220-4743-4207-b0d3-9af1951cbec0 failed with message 'Could not find file '\\\\hpccluster\\hpccluster-scratch\\weber\\trash_DB\\sessions\\36aa5220-4743-4207-b0d3-9af1951cbec0\\Session.info'.'\r\n",
      "Loading session 36aa5220-4743-4207-b0d3-9af1951cbec0 failed with message 'Could not find file '\\\\hpccluster\\hpccluster-scratch\\weber\\trash_DB\\sessions\\36aa5220-4743-4207-b0d3-9af1951cbec0\\Session.info'.'\r\n",
      "Loading session 36aa5220-4743-4207-b0d3-9af1951cbec0 failed with message 'Could not find file '\\\\hpccluster\\hpccluster-scratch\\weber\\trash_DB\\sessions\\36aa5220-4743-4207-b0d3-9af1951cbec0\\Session.info'.'\r\n",
      "Deploying job SIP_J163840_k3_classic_pardiso ... \r\n",
      "Deploying executables and additional files ...\r\n",
      "Deployment directory: \\\\hpccluster\\hpccluster-scratch\\weber\\dply\\CCPoisson_conditionNo-ipPoisson2022Jan27_154735\r\n",
      "copied 42 files.\r\n",
      "   written file: control.obj\r\n",
      "   copied 'amd64' runtime.\r\n",
      "deployment finished.\r\n",
      "Loading session 40d8b13a-c716-47ef-baee-bb8c9ea63fde failed with message 'Could not find file '\\\\hpccluster\\hpccluster-scratch\\weber\\trash_DB\\sessions\\40d8b13a-c716-47ef-baee-bb8c9ea63fde\\Session.info'.'\r\n",
      "Loading session 40d8b13a-c716-47ef-baee-bb8c9ea63fde failed with message 'Could not find file '\\\\hpccluster\\hpccluster-scratch\\weber\\trash_DB\\sessions\\40d8b13a-c716-47ef-baee-bb8c9ea63fde\\Session.info'.'\r\n",
      "\r\n",
      " Submitting: SIP_J320_k5_classic_pardiso\r\n",
      "Loading session 40d8b13a-c716-47ef-baee-bb8c9ea63fde failed with message 'Could not find file '\\\\hpccluster\\hpccluster-scratch\\weber\\trash_DB\\sessions\\40d8b13a-c716-47ef-baee-bb8c9ea63fde\\Session.info'.'\r\n",
      "Loading session 40d8b13a-c716-47ef-baee-bb8c9ea63fde failed with message 'Could not find file '\\\\hpccluster\\hpccluster-scratch\\weber\\trash_DB\\sessions\\40d8b13a-c716-47ef-baee-bb8c9ea63fde\\Session.info'.'\r\n",
      "Loading session 40d8b13a-c716-47ef-baee-bb8c9ea63fde failed with message 'Could not find file '\\\\hpccluster\\hpccluster-scratch\\weber\\trash_DB\\sessions\\40d8b13a-c716-47ef-baee-bb8c9ea63fde\\Session.info'.'\r\n",
      "Loading session 40d8b13a-c716-47ef-baee-bb8c9ea63fde failed with message 'Could not find file '\\\\hpccluster\\hpccluster-scratch\\weber\\trash_DB\\sessions\\40d8b13a-c716-47ef-baee-bb8c9ea63fde\\Session.info'.'\r\n",
      "Deploying job SIP_J320_k5_classic_pardiso ... \r\n",
      "Deploying executables and additional files ...\r\n",
      "Deployment directory: \\\\hpccluster\\hpccluster-scratch\\weber\\dply\\CCPoisson_conditionNo-ipPoisson2022Jan27_154742\r\n",
      "copied 42 files.\r\n",
      "   written file: control.obj\r\n",
      "   copied 'amd64' runtime.\r\n",
      "deployment finished.\r\n",
      "\r\n",
      " Submitting: SIP_J2560_k5_classic_pardiso\r\n",
      "Deploying job SIP_J2560_k5_classic_pardiso ... \r\n",
      "Deploying executables and additional files ...\r\n",
      "Deployment directory: \\\\hpccluster\\hpccluster-scratch\\weber\\dply\\CCPoisson_conditionNo-ipPoisson2022Jan27_154749\r\n",
      "copied 42 files.\r\n",
      "   written file: control.obj\r\n",
      "   copied 'amd64' runtime.\r\n",
      "deployment finished.\r\n",
      "\r\n",
      " Submitting: SIP_J20480_k5_classic_pardiso\r\n",
      "Deploying job SIP_J20480_k5_classic_pardiso ... \r\n",
      "Deploying executables and additional files ...\r\n",
      "Deployment directory: \\\\hpccluster\\hpccluster-scratch\\weber\\dply\\CCPoisson_conditionNo-ipPoisson2022Jan27_154802\r\n",
      "copied 42 files.\r\n",
      "   written file: control.obj\r\n",
      "   copied 'amd64' runtime.\r\n",
      "deployment finished.\r\n",
      "Loading session abc07ac7-3700-4f5f-a68b-dc405fd6decc failed with message 'Could not find file '\\\\hpccluster\\hpccluster-scratch\\weber\\trash_DB\\sessions\\abc07ac7-3700-4f5f-a68b-dc405fd6decc\\Session.info'.'\r\n",
      "\r\n",
      " Submitting: SIP_J69120_k5_classic_pardiso\r\n",
      "Loading session abc07ac7-3700-4f5f-a68b-dc405fd6decc failed with message 'Could not find file '\\\\hpccluster\\hpccluster-scratch\\weber\\trash_DB\\sessions\\abc07ac7-3700-4f5f-a68b-dc405fd6decc\\Session.info'.'\r\n",
      "Loading session abc07ac7-3700-4f5f-a68b-dc405fd6decc failed with message 'Could not find file '\\\\hpccluster\\hpccluster-scratch\\weber\\trash_DB\\sessions\\abc07ac7-3700-4f5f-a68b-dc405fd6decc\\Session.info'.'\r\n",
      "Loading session abc07ac7-3700-4f5f-a68b-dc405fd6decc failed with message 'Could not find file '\\\\hpccluster\\hpccluster-scratch\\weber\\trash_DB\\sessions\\abc07ac7-3700-4f5f-a68b-dc405fd6decc\\Session.info'.'\r\n",
      "Loading session abc07ac7-3700-4f5f-a68b-dc405fd6decc failed with message 'Could not find file '\\\\hpccluster\\hpccluster-scratch\\weber\\trash_DB\\sessions\\abc07ac7-3700-4f5f-a68b-dc405fd6decc\\Session.info'.'\r\n",
      "Deploying job SIP_J69120_k5_classic_pardiso ... \r\n",
      "Deploying executables and additional files ...\r\n",
      "Deployment directory: \\\\hpccluster\\hpccluster-scratch\\weber\\dply\\CCPoisson_conditionNo-ipPoisson2022Jan27_154807\r\n",
      "copied 42 files.\r\n",
      "   written file: control.obj\r\n",
      "   copied 'amd64' runtime.\r\n",
      "deployment finished.\r\n",
      "Loading session 2c61418e-b054-405b-ad04-3329e4c9ed80 failed with message 'Could not find file '\\\\hpccluster\\hpccluster-scratch\\weber\\trash_DB\\sessions\\2c61418e-b054-405b-ad04-3329e4c9ed80\\Session.info'.'\r\n",
      "\r\n"
     ]
    }
   ],
   "source": [
    "foreach(var ctrl in controls) {\n",
    "    ctrl.SessionName += \"\";\n",
    "    Console.WriteLine(\" Submitting: \" + ctrl.SessionName);\n",
    "    ctrl.RunBatch(myBatch); \n",
    "}"
   ]
  },
  {
   "cell_type": "code",
   "execution_count": null,
   "metadata": {
    "dotnet_interactive": {
     "language": "csharp"
    }
   },
   "outputs": [],
   "source": [
    "//foreach(var ctrl in controls) {\n",
    "//    Console.WriteLine(\" Submitting: \" + ctrl.SessionName); \n",
    "//    var aJob = new Job(ctrl.SessionName, typeof(SipPoissonMain));\n",
    "//    aJob.SetControlObject(ctrl);\n",
    "//    ((SlurmClient)myBatch).SlurmAccount = \"project01217\";  // Jens \n",
    "//    aJob.NumberOfMPIProcs = 1;\n",
    "//    aJob.ExecutionTime    = \"02:00:00\";\n",
    "//    //aJob.HHLR_project             = \"project01217\";\n",
    "//    aJob.MemPerCPU                = \"50000\";\n",
    "//    aJob.UseComputeNodesExclusive = true;\n",
    "//    aJob.Activate(myBatch);\n",
    "//}"
   ]
  },
  {
   "cell_type": "code",
   "execution_count": null,
   "metadata": {
    "dotnet_interactive": {
     "language": "csharp"
    }
   },
   "outputs": [],
   "source": [
    "//foreach(var j in wmg.AllJobs.Values)\n",
    "//    j.DeleteOldDeploymentsAndSessions();"
   ]
  },
  {
   "cell_type": "markdown",
   "metadata": {},
   "source": [
    "### Wait for Completion and Check Job Status"
   ]
  },
  {
   "cell_type": "code",
   "execution_count": null,
   "metadata": {
    "dotnet_interactive": {
     "language": "csharp"
    }
   },
   "outputs": [],
   "source": [
    "wmg.BlockUntilAllJobsTerminate(3600*24*2); // wait at maximum two days for the jobs to finish"
   ]
  },
  {
   "cell_type": "code",
   "execution_count": null,
   "metadata": {
    "dotnet_interactive": {
     "language": "csharp"
    }
   },
   "outputs": [],
   "source": [
    "wmg.AllJobs"
   ]
  },
  {
   "cell_type": "code",
   "execution_count": null,
   "metadata": {
    "dotnet_interactive": {
     "language": "csharp"
    }
   },
   "outputs": [],
   "source": [
    "wmg.Sessions"
   ]
  },
  {
   "cell_type": "code",
   "execution_count": null,
   "metadata": {
    "dotnet_interactive": {
     "language": "csharp"
    }
   },
   "outputs": [],
   "source": [
    "var NoSuccess = wmg.AllJobs.Values.Where(job => job.Status != JobStatus.FinishedSuccessful);\n",
    "NoSuccess"
   ]
  },
  {
   "cell_type": "code",
   "execution_count": null,
   "metadata": {
    "dotnet_interactive": {
     "language": "csharp"
    }
   },
   "outputs": [],
   "source": [
    "NUnit.Framework.Assert.Zero(NoSuccess.Count(), \"Some Jobs Failed\");"
   ]
  },
  {
   "cell_type": "code",
   "execution_count": null,
   "metadata": {
    "dotnet_interactive": {
     "language": "csharp"
    }
   },
   "outputs": [],
   "source": [
    "//foreach(Job jF in wmg.AllJobs.Values)\n",
    "//   jF.DeleteOldDeploymentsAndSessions();"
   ]
  },
  {
   "cell_type": "code",
   "execution_count": null,
   "metadata": {
    "dotnet_interactive": {
     "language": "csharp"
    }
   },
   "outputs": [],
   "source": [
    "var FailedSessions = wmg.Sessions.Where(Si => (Si.SuccessfulTermination == false)\n",
    "                                        || (Convert.ToInt32(Si.KeysAndQueries[\"Conv\"]) == 0));\n",
    "FailedSessions"
   ]
  },
  {
   "cell_type": "code",
   "execution_count": null,
   "metadata": {
    "dotnet_interactive": {
     "language": "csharp"
    }
   },
   "outputs": [],
   "source": [
    "NUnit.Framework.Assert.Zero(FailedSessions.Count(), \"Some Sessions did not derminate successfully.\");"
   ]
  },
  {
   "cell_type": "markdown",
   "metadata": {},
   "source": [
    "List Output of some job (arbitrarily the first one):"
   ]
  },
  {
   "cell_type": "code",
   "execution_count": null,
   "metadata": {
    "dotnet_interactive": {
     "language": "csharp"
    }
   },
   "outputs": [],
   "source": [
    "wmg.AllJobs.First().Value.Stdout"
   ]
  },
  {
   "cell_type": "code",
   "execution_count": null,
   "metadata": {
    "dotnet_interactive": {
     "language": "csharp"
    }
   },
   "outputs": [],
   "source": [
    "foreach(var fail in NoSuccess)\n",
    "    Console.WriteLine(fail.LatestDeployment.DeploymentDirectory.Name);"
   ]
  },
  {
   "cell_type": "markdown",
   "metadata": {
    "dotnet_interactive": {
     "language": "csharp"
    }
   },
   "source": [
    "## Create Table for Post-Processing\n",
    "\n",
    "(moved to post-processing worksheet)"
   ]
  },
  {
   "cell_type": "code",
   "execution_count": null,
   "metadata": {
    "dotnet_interactive": {
     "language": "csharp"
    }
   },
   "outputs": [],
   "source": [
    "/*\n",
    "// evaluators to add additional columns to the session table\n",
    "static class AddCols {\n",
    "    static public object XdgMatrixAssembly_time(ISessionInfo SI) {\n",
    "        var mcr = SI.GetProfiling()[0];\n",
    "        var ndS = mcr.FindChildren(\"MatrixAssembly\");\n",
    "        var nd  = ndS.ElementAt(0);\n",
    "        return nd.TimeSpentInMethod.TotalSeconds  / nd.CallCount;\n",
    "    }\n",
    "    static public object Aggregation_basis_init_time(ISessionInfo SI) {\n",
    "        var mcr = SI.GetProfiling()[0];\n",
    "        var ndS = mcr.FindChildren(\"Aggregation_basis_init\");\n",
    "        var nd  = ndS.ElementAt(0);\n",
    "        return nd.TimeSpentInMethod.TotalSeconds  / nd.CallCount;\n",
    "    }\n",
    "    static public object Solver_Init_time(ISessionInfo SI) {\n",
    "        var mcr = SI.GetProfiling()[0];\n",
    "        var ndS = mcr.FindChildren(\"Solver_Init\");\n",
    "        var nd  = ndS.ElementAt(0);\n",
    "        //Console.WriteLine(\"Number of nodes: \" + ndS.Count() + \" cc \" + nd.CallCount );\n",
    "        return nd.TimeSpentInMethod.TotalSeconds / nd.CallCount;\n",
    "    }\n",
    "    static public object Solver_Run_time(ISessionInfo SI) {\n",
    "        var mcr = SI.GetProfiling()[0];\n",
    "        var ndS = mcr.FindChildren(\"Solver_Run\");\n",
    "        var nd  = ndS.ElementAt(0);\n",
    "        return nd.TimeSpentInMethod.TotalSeconds  / nd.CallCount;\n",
    "    }\n",
    "    static public object NoOfCores(ISessionInfo SI){\n",
    "        return SI.GetProfiling().Length;\n",
    "        }\n",
    "}\n",
    "*/"
   ]
  },
  {
   "cell_type": "code",
   "execution_count": null,
   "metadata": {
    "dotnet_interactive": {
     "language": "csharp"
    }
   },
   "outputs": [],
   "source": [
    "/*\n",
    "wmg.AdditionalSessionTableColums.Clear();\n",
    "wmg.AdditionalSessionTableColums.Add(\"MatrixAssembly\", AddCols.XdgMatrixAssembly_time);\n",
    "wmg.AdditionalSessionTableColums.Add(\"Aggregation_basis_init_time\", AddCols.Aggregation_basis_init_time);\n",
    "wmg.AdditionalSessionTableColums.Add(\"Solver_Init_time\", AddCols.Solver_Init_time);\n",
    "wmg.AdditionalSessionTableColums.Add(\"Solver_Run_time\", AddCols.Solver_Run_time);\n",
    "wmg.AdditionalSessionTableColums.Add(\"NoOfCores\", AddCols.NoOfCores);\n",
    "*/"
   ]
  },
  {
   "cell_type": "code",
   "execution_count": null,
   "metadata": {
    "dotnet_interactive": {
     "language": "csharp"
    }
   },
   "outputs": [],
   "source": [
    "/*\n",
    "var FullSessTab = wmg.SessionTable;\n",
    "\n",
    "// The Session column can't be serialized,\n",
    "// we have to remove it\n",
    "List<string> AllCols = FullSessTab.GetColumnNames().ToList();\n",
    "AllCols.Remove(\"Session\");\n",
    "FullSessTab = FullSessTab.ExtractColumns(AllCols.ToArray());\n",
    "*/"
   ]
  },
  {
   "cell_type": "code",
   "execution_count": null,
   "metadata": {
    "dotnet_interactive": {
     "language": "csharp"
    }
   },
   "outputs": [],
   "source": [
    "//foreach(var s in AllCols) Console.WriteLine(s);"
   ]
  },
  {
   "cell_type": "code",
   "execution_count": null,
   "metadata": {
    "dotnet_interactive": {
     "language": "csharp"
    }
   },
   "outputs": [],
   "source": [
    "//foreach(var s in wmg.Sessions[0].KeysAndQueries.Keys) Console.WriteLine(s + \" \\t = \" + wmg.Sessions[0].KeysAndQueries[s]);"
   ]
  },
  {
   "cell_type": "code",
   "execution_count": null,
   "metadata": {
    "dotnet_interactive": {
     "language": "csharp"
    }
   },
   "outputs": [],
   "source": [
    "/*var SubTab = FullSessTab.ExtractColumns(\n",
    "    \"SessionName\",\"DGdegree:T\", \"Grid:NoOfCells\", \"LinearSolver.SolverCode\", \"DOFs\", \"MatrixAssembly\",\n",
    "    \"Aggregation_basis_init_time\", \"Solver_Init_time\", \"Solver_Run_time\", \"NoIter\");\n",
    "*/"
   ]
  },
  {
   "cell_type": "code",
   "execution_count": null,
   "metadata": {
    "dotnet_interactive": {
     "language": "csharp"
    }
   },
   "outputs": [],
   "source": [
    "//SubTab.Print();"
   ]
  },
  {
   "cell_type": "code",
   "execution_count": null,
   "metadata": {
    "dotnet_interactive": {
     "language": "csharp"
    }
   },
   "outputs": [],
   "source": [
    "/*\n",
    "// Filename\n",
    "var now               = DateTime.Now;\n",
    "FullSessTab.TableName = wmg.CurrentProject + \"_\" + now.Year + \"-\" + now.Month + \"-\" + now.Day;\n",
    "string docpath        = FullSessTab.TableName + \".json\";\n",
    "SubTab.SaveToFile(wmg.CurrentProject + \".json\");\n",
    "SubTab.ToCSVFile(wmg.CurrentProject + \".csv\");\n",
    "*/"
   ]
  },
  {
   "cell_type": "code",
   "execution_count": null,
   "metadata": {
    "dotnet_interactive": {
     "language": "csharp"
    }
   },
   "outputs": [],
   "source": []
  }
 ],
 "metadata": {
  "kernelspec": {
   "display_name": ".NET (C#)",
   "language": "C#",
   "name": ".net-csharp"
  },
  "language_info": {
   "file_extension": ".cs",
   "mimetype": "text/x-csharp",
   "name": "C#",
   "pygments_lexer": "csharp",
   "version": "8.0"
  }
 },
 "nbformat": 4,
 "nbformat_minor": 4
}
