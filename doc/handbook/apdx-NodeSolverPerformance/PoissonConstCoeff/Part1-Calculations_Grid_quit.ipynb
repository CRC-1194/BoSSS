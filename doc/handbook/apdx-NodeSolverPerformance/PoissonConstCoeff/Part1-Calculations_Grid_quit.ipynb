{
  "cells": [
    {
      "cell_type": "code",
      "execution_count": 1,
      "metadata": {
        "dotnet_interactive": {
          "language": "csharp"
        }
      },
      "source": [
        "#r \"C:\\experimental\\public\\src\\L4-application\\BoSSSpad\\bin\\Release\\net5.0\\BoSSSpad.dll\"\n",
        "using System;\n",
        "using System.Collections.Generic;\n",
        "using System.Linq;\n",
        "using ilPSP;\n",
        "using ilPSP.Utils;\n",
        "using BoSSS.Platform;\n",
        "using BoSSS.Platform.LinAlg;\n",
        "using BoSSS.Foundation;\n",
        "using BoSSS.Foundation.XDG;\n",
        "using BoSSS.Foundation.Grid;\n",
        "using BoSSS.Foundation.Grid.Classic;\n",
        "using BoSSS.Foundation.Grid.RefElements;\n",
        "using BoSSS.Foundation.IO;\n",
        "using BoSSS.Solution;\n",
        "using BoSSS.Solution.Control;\n",
        "using BoSSS.Solution.GridImport;\n",
        "using BoSSS.Solution.Statistic;\n",
        "using BoSSS.Solution.Utils;\n",
        "using BoSSS.Solution.AdvancedSolvers;\n",
        "using BoSSS.Solution.Gnuplot;\n",
        "using BoSSS.Application.BoSSSpad;\n",
        "using BoSSS.Application.XNSE_Solver;\n",
        "using static BoSSS.Application.BoSSSpad.BoSSSshell;\n",
        "Init();\n",
        ""
      ],
      "outputs": []
    },
    {
      "cell_type": "code",
      "execution_count": 1,
      "metadata": {
        "dotnet_interactive": {
          "language": "csharp"
        }
      },
      "source": [
        "using BoSSS.Application.SipPoisson;"
      ],
      "outputs": []
    },
    {
      "cell_type": "code",
      "execution_count": 1,
      "metadata": {
        "dotnet_interactive": {
          "language": "csharp"
        }
      },
      "source": [
        "ExecutionQueues;"
      ],
      "outputs": []
    },
    {
      "cell_type": "code",
      "execution_count": 1,
      "metadata": {
        "dotnet_interactive": {
          "language": "csharp"
        }
      },
      "source": [
        "var myBatch = (SlurmClient)ExecutionQueues[2];"
      ],
      "outputs": []
    },
    {
      "cell_type": "code",
      "execution_count": 1,
      "metadata": {
        "dotnet_interactive": {
          "language": "csharp"
        }
      },
      "source": [
        "string WFlowName = \"GridCacheError\";\n",
        "WorkflowMgm.Init(WFlowName);\n",
        "WorkflowMgm.AllJobs;"
      ],
      "outputs": []
    },
    {
      "cell_type": "code",
      "execution_count": 1,
      "metadata": {
        "dotnet_interactive": {
          "language": "csharp"
        }
      },
      "source": [
        "//string dirname = \"DB_SIP\";\n",
        "//string winpath = @\"W:\\work\\scratch\\jw52xeqa\\\"+dirname;\n",
        "//string linpath = @\"/work/scratch/jw52xeqa/\"+dirname;"
      ],
      "outputs": []
    },
    {
      "cell_type": "code",
      "execution_count": 1,
      "metadata": {
        "dotnet_interactive": {
          "language": "csharp"
        }
      },
      "source": [
        "//var tempDB = OpenOrCreateDatabase(winpath);\n",
        "var tempDB = OpenOrCreateDatabase(@\"D:\\trash_db\");"
      ],
      "outputs": []
    },
    {
      "cell_type": "code",
      "execution_count": 1,
      "metadata": {
        "dotnet_interactive": {
          "language": "csharp"
        }
      },
      "source": [
        ""
      ],
      "outputs": []
    },
    {
      "cell_type": "code",
      "execution_count": 1,
      "metadata": {
        "dotnet_interactive": {
          "language": "csharp"
        }
      },
      "source": [
        "//MiniBatchProcessor.Server.StartIfNotRunning();"
      ],
      "outputs": []
    },
    {
      "cell_type": "code",
      "execution_count": 1,
      "metadata": {
        "dotnet_interactive": {
          "language": "csharp"
        }
      },
      "source": [
        "// ===================\n",
        "// Utility definitions\n",
        "// ==================="
      ],
      "outputs": []
    },
    {
      "cell_type": "code",
      "execution_count": 1,
      "metadata": {
        "dotnet_interactive": {
          "language": "csharp"
        }
      },
      "source": [
        "static class Utils {\n",
        "    // DOF per cell in 3D\n",
        "    public static int Np(int p) {\n",
        "        return (p*p*p + 6*p*p + 11*p + 6)/6;\n",
        "    }    \n",
        "    \n",
        "    //Non-equidistant nodes\n",
        "    public static double[] SinLinSpacing(double l, double r, double a, int n) {\n",
        "        double[] linnodes = GenericBlas.Linspace(-Math.PI * 0.5, Math.PI * 0.5, n);\n",
        "        double[] linnodes2 = GenericBlas.Linspace(-1, 1, n);\n",
        "        double[] nodes = new double[n];\n",
        "\n",
        "        for (int i = 0; i < n; i++)\n",
        "            //nodes[i] = linnodes2[i] * (1 - a) + (1.0 - Math.Sin(linnodes[i])) * a;\n",
        "            nodes[i] = linnodes2[i] * (1 - a) + Math.Sin(linnodes[i])*a;\n",
        "\n",
        "        for (int i = 0; i < n; i++)\n",
        "            nodes[i] = nodes[i] * (r - l)*0.5 + l;\n",
        "        return nodes;\n",
        "    }\n",
        "}"
      ],
      "outputs": []
    },
    {
      "cell_type": "code",
      "execution_count": 1,
      "metadata": {
        "dotnet_interactive": {
          "language": "csharp"
        }
      },
      "source": [
        "// ===============================\n",
        "// Init grids and save to database\n",
        "// ==============================="
      ],
      "outputs": []
    },
    {
      "cell_type": "code",
      "execution_count": 1,
      "metadata": {
        "dotnet_interactive": {
          "language": "csharp"
        }
      },
      "source": [
        "tempDB.Grids;"
      ],
      "outputs": []
    },
    {
      "cell_type": "code",
      "execution_count": 1,
      "metadata": {
        "dotnet_interactive": {
          "language": "csharp"
        }
      },
      "source": [
        "double Res = Math.Pow(1000000/Utils.Np(2)*64/5,0.333333333);\n",
        "Res"
      ],
      "outputs": []
    },
    {
      "cell_type": "code",
      "execution_count": 1,
      "metadata": {
        "dotnet_interactive": {
          "language": "csharp"
        }
      },
      "source": [
        "Math.Pow(109,3)*5"
      ],
      "outputs": []
    },
    {
      "cell_type": "code",
      "execution_count": 1,
      "metadata": {
        "dotnet_interactive": {
          "language": "csharp"
        }
      },
      "source": [
        "int[] Resolutions_3D = new int[] { 109 };\n",
        "IGridInfo[] grids = new IGridInfo[Resolutions_3D.Length];\n",
        "for(int cnt = 0; cnt < Resolutions_3D.Length; cnt++) {\n",
        "    int Res = Resolutions_3D[cnt];    \n",
        "    \n",
        "    double[] xNodes = GenericBlas.Linspace(0, 10, Res*5 + 1);\n",
        "    double[] yNodes = Utils.SinLinSpacing(-1, +1, 0.6, Res + 1);\n",
        "    double[] zNodes = Utils.SinLinSpacing(-1, +1, 0.6, Res + 1);\n",
        "    int J = (xNodes.Length - 1)*(yNodes.Length - 1)*(zNodes.Length - 1);\n",
        "    \n",
        "    string GridName = string.Format(WorkflowMgm.CurrentProject + \"_J\" + J);\n",
        "    \n",
        "    grids[cnt]=null;\n",
        "    foreach(IGridInfo grd in tempDB.Grids){\n",
        "        bool check = grd.Name.Contains(string.Format(\"_J\"+ J));\n",
        "        if(check){\n",
        "          grids[cnt]=grd;\n",
        "        }\n",
        "    }\n",
        "    Console.WriteLine(grids.Length);\n",
        "  \n",
        "    //grids[cnt] = tempDB.Grids.SingleOrDefault(grd => grd.Name.Contains(string.Format(\"_J\"+ J));\n",
        "    if(grids[cnt]==null){\n",
        "        Console.WriteLine(\"Creating grid with \" + J + \" cells.\");\n",
        "        \n",
        "        GridCommons g;\n",
        "        g      = Grid3D.Cartesian3DGrid(xNodes, yNodes, zNodes);\n",
        "        g.Name = GridName;\n",
        "        \n",
        "        g.EdgeTagNames.Add(1, \"Dirichlet\");\n",
        "        g.EdgeTagNames.Add(2, \"Neumann\");\n",
        "    \n",
        "        g.DefineEdgeTags(delegate (double[] X) {\n",
        "           byte ret;\n",
        "             if(Math.Abs(X[0] - 0.0) <= 1.0e-6)\n",
        "               ret = 1;\n",
        "           else\n",
        "                ret = 2;\n",
        "            return ret;\n",
        "        });\n",
        "      \n",
        "        tempDB.SaveGrid(ref g);  \n",
        "        grids[cnt] = g;\n",
        "    } else {\n",
        "        Console.WriteLine(\"Found Grid: \" + grids[cnt]);\n",
        "        if(grids[cnt].NumberOfCells != J)\n",
        "            throw new Exception(\"J mismatch\");\n",
        "        \n",
        "        if(grids[cnt].SpatialDimension != 3)\n",
        "            throw new Exception(\"D mismatch\");\n",
        "    }\n",
        "    \n",
        "}"
      ],
      "outputs": []
    },
    {
      "cell_type": "code",
      "execution_count": 1,
      "metadata": {
        "dotnet_interactive": {
          "language": "csharp"
        }
      },
      "source": [
        "LastError"
      ],
      "outputs": []
    },
    {
      "cell_type": "code",
      "execution_count": 1,
      "metadata": {
        "dotnet_interactive": {
          "language": "csharp"
        }
      },
      "source": [
        "grids;"
      ],
      "outputs": []
    },
    {
      "cell_type": "code",
      "execution_count": 1,
      "metadata": {
        "dotnet_interactive": {
          "language": "csharp"
        }
      },
      "source": [
        "// Overwrite Selection\n",
        "//var ListOfgrids = new List<IGridInfo>();\n",
        "//ListOfgrids.AddRange(tempDB.Grids.Pick(6));\n",
        "//IGridInfo[] grids = ListOfgrids.ToArray();\n",
        "//grids;"
      ],
      "outputs": []
    },
    {
      "cell_type": "code",
      "execution_count": 1,
      "metadata": {
        "dotnet_interactive": {
          "language": "csharp"
        }
      },
      "source": [
        "// =====================================\n",
        "// setup control object for a solver run\n",
        "// ====================================="
      ],
      "outputs": []
    },
    {
      "cell_type": "code",
      "execution_count": 1,
      "metadata": {
        "dotnet_interactive": {
          "language": "csharp"
        }
      },
      "source": [
        ""
      ],
      "outputs": []
    },
    {
      "cell_type": "code",
      "execution_count": 1,
      "metadata": {
        "dotnet_interactive": {
          "language": "csharp"
        }
      },
      "source": [
        "// - - - - - - - - - - - - - - - - - - -\n",
        "// Initial Values & Boundary conditions\n",
        "// - - - - - - - - - - - - - - - - - - -"
      ],
      "outputs": []
    },
    {
      "cell_type": "code",
      "execution_count": 1,
      "metadata": {
        "dotnet_interactive": {
          "language": "csharp"
        }
      },
      "source": [
        "static class InitialValues {\n",
        "    public static double RHS(double[] X) {\n",
        "        return -Math.Sin(X[0]);\n",
        "    }\n",
        "    \n",
        "    public static double DirichletBC(double[] X) {\n",
        "        return 0.0;\n",
        "    }\n",
        "    \n",
        "    public static double NeumannBC(double[] X) {\n",
        "       if(Math.Abs(X[1] - 1.0) < 1.0e-8 || Math.Abs(X[1] + 1.0) < 1.0e-8)\n",
        "           return 0;\n",
        "       if(X.Length > 2 && (Math.Abs(X[2] - 1.0) < 1.0e-8 || Math.Abs(X[2] + 1.0) < 1.0e-8))\n",
        "           return 0;\n",
        "\n",
        "       return Math.Cos(10.0);\n",
        "   }\n",
        "}"
      ],
      "outputs": []
    },
    {
      "cell_type": "code",
      "execution_count": 1,
      "metadata": {
        "dotnet_interactive": {
          "language": "csharp"
        }
      },
      "source": [
        "InitialValues.RHS(new double[]{ 0, 0 });"
      ],
      "outputs": []
    },
    {
      "cell_type": "code",
      "execution_count": 1,
      "metadata": {
        "dotnet_interactive": {
          "language": "csharp"
        }
      },
      "source": [
        ""
      ],
      "outputs": []
    },
    {
      "cell_type": "code",
      "execution_count": 1,
      "metadata": {
        "dotnet_interactive": {
          "language": "csharp"
        }
      },
      "source": [
        "//myCtrl.NoOfMultigridLevels = 3;"
      ],
      "outputs": []
    },
    {
      "cell_type": "code",
      "execution_count": 1,
      "metadata": {
        "dotnet_interactive": {
          "language": "csharp"
        }
      },
      "source": [
        "//myCtrl.Run();"
      ],
      "outputs": []
    },
    {
      "cell_type": "code",
      "execution_count": 1,
      "metadata": {
        "dotnet_interactive": {
          "language": "csharp"
        }
      },
      "source": [
        "// - - - - - - - - - - - - -\n",
        "// setup of parameter study\n",
        "// - - - - - - - - - - - - -"
      ],
      "outputs": []
    },
    {
      "cell_type": "code",
      "execution_count": 1,
      "metadata": {
        "dotnet_interactive": {
          "language": "csharp"
        }
      },
      "source": [
        "List<SipControl> controls = new List<SipControl>();"
      ],
      "outputs": []
    },
    {
      "cell_type": "code",
      "execution_count": 1,
      "metadata": {
        "dotnet_interactive": {
          "language": "csharp"
        }
      },
      "source": [
        "// polynomial degrees to test\n",
        "//int[] PolyDegS = new int[] {2, 3, 4, 5, 6};\n",
        "int[] PolyDegS = new int[] {2,3,5}; // reduced options for dev."
      ],
      "outputs": []
    },
    {
      "cell_type": "code",
      "execution_count": 1,
      "metadata": {
        "dotnet_interactive": {
          "language": "csharp"
        }
      },
      "source": [
        "using BoSSS.Solution.AdvancedSolvers;"
      ],
      "outputs": []
    },
    {
      "cell_type": "code",
      "execution_count": 1,
      "metadata": {
        "dotnet_interactive": {
          "language": "csharp"
        }
      },
      "source": [
        "// Solvers which we want to instrument:\n",
        "LinearSolverCode[] solver_nameS = new LinearSolverCode[] {\n",
        "    LinearSolverCode.classic_pardiso, \n",
        "    //LinearSolverCode.classic_mumps, \n",
        "    LinearSolverCode.exp_Kcycle_schwarz,\n",
        "    LinearSolverCode.exp_gmres_levelpmg,\n",
        "}; "
      ],
      "outputs": []
    },
    {
      "cell_type": "code",
      "execution_count": 1,
      "metadata": {
        "dotnet_interactive": {
          "language": "csharp"
        }
      },
      "source": [
        "// MaxDof for one claculation (we skip fine grids for higher polynomial orders)\n",
        "int MaxDof = 5000000;"
      ],
      "outputs": []
    },
    {
      "cell_type": "code",
      "execution_count": 1,
      "metadata": {
        "dotnet_interactive": {
          "language": "csharp"
        }
      },
      "source": [
        "controls.Clear();\n",
        "foreach(LinearSolverCode solver_name in solver_nameS) {\n",
        "foreach(int k in PolyDegS) {   \n",
        "foreach(IGridInfo grd in grids) {\n",
        "    var ctrl = new SipControl();\n",
        "    controls.Add(ctrl);\n",
        "    \n",
        "    int Np = Utils.Np(k);\n",
        "    int J  = grd.NumberOfCells;\n",
        "    if(J*Np > MaxDof)\n",
        "        continue;\n",
        "    \n",
        "    string caseName = string.Format(\"J{0}_k{1}_{2}\", J, k, solver_name);\n",
        "    Console.WriteLine(\"setting up: \" + caseName);\n",
        "\n",
        "    ctrl.AlternateDbPaths = new[]{\n",
        "        new ValueTuple<string,string>(linpath, \"\"),\n",
        "        new ValueTuple<string,string>(winpath, \"pcmit32\")\n",
        "    };\n",
        "    \n",
        "    ctrl.savetodb = true; //for debug's sake\n",
        "    ctrl.GridGuid = grd.ID;\n",
        "    ctrl.FieldOptions.Add(\"T\", new FieldOpts() { Degree = k, SaveToDB = FieldOpts.SaveToDBOpt.TRUE });\n",
        "    ctrl.FieldOptions.Add(\"MPIrank\", new FieldOpts() { Degree = 0, SaveToDB = FieldOpts.SaveToDBOpt.TRUE });\n",
        "    ctrl.FieldOptions.Add(\"Tex\", new FieldOpts() { Degree = 0, SaveToDB = FieldOpts.SaveToDBOpt.unspecified});\n",
        "    ctrl.LinearSolver.SolverCode           = solver_name;\n",
        "    ctrl.LinearSolver.NoOfMultigridLevels  = int.MaxValue;\n",
        "    ctrl.LinearSolver.TargetBlockSize      = Math.Min(J*Np-1,10000);\n",
        "    ctrl.LinearSolver.ConvergenceCriterion = 1e-8;\n",
        "    \n",
        "    ctrl.InitialValues.Add(\"RHS\", GetFormulaObject(InitialValues.RHS));\n",
        "    ctrl.AddBoundaryValue(BoundaryType.Dirichlet.ToString(), \"T\",\n",
        "        GetFormulaObject(InitialValues.DirichletBC));\n",
        "    ctrl.AddBoundaryValue(BoundaryType.Neumann.ToString(), \"T\",\n",
        "        GetFormulaObject(InitialValues.NeumannBC));\n",
        "    ctrl.SessionName = \"SIP_\"+caseName;\n",
        "    \n",
        "    ctrl.GridPartType = BoSSS.Foundation.Grid.GridPartType.METIS;\n",
        "    //ctrl.GridPartType = BoSSS.Foundation.Grid.GridPartType.directHilbert;\n",
        "}\n",
        "}\n",
        "}"
      ],
      "outputs": []
    },
    {
      "cell_type": "code",
      "execution_count": 1,
      "metadata": {
        "dotnet_interactive": {
          "language": "csharp"
        }
      },
      "source": [
        "// ==========\n",
        "// Launch Job\n",
        "// =========="
      ],
      "outputs": []
    },
    {
      "cell_type": "code",
      "execution_count": 1,
      "metadata": {
        "dotnet_interactive": {
          "language": "csharp"
        }
      },
      "source": [
        "// ===old version===\n",
        "//foreach(var ctrl in controls) {\n",
        "//    Console.WriteLine(\" Submitting: \" + ctrl.SessionName);\n",
        "//    ctrl.RunBatch(myBatch); \n",
        "//}"
      ],
      "outputs": []
    },
    {
      "cell_type": "code",
      "execution_count": 1,
      "metadata": {
        "dotnet_interactive": {
          "language": "csharp"
        }
      },
      "source": [
        "foreach(var ctrl in controls) {\n",
        "    Console.WriteLine(\" Submitting: \" + ctrl.SessionName); \n",
        "    var aJob = new Job(ctrl.SessionName, typeof(SipPoissonMain));\n",
        "    aJob.SetControlObject(ctrl);\n",
        "    ((SlurmClient)myBatch).SlurmAccount = \"project01217\";  // Jens \n",
        "    aJob.NumberOfMPIProcs = 1;\n",
        "    aJob.ExecutionTime    = \"02:00:00\";\n",
        "    //aJob.HHLR_project             = \"project01217\";\n",
        "    aJob.MemPerCPU                = \"50000\";\n",
        "    aJob.UseComputeNodesExclusive = true;\n",
        "    aJob.Activate(myBatch);\n",
        "}"
      ],
      "outputs": []
    },
    {
      "cell_type": "code",
      "execution_count": 1,
      "metadata": {
        "dotnet_interactive": {
          "language": "csharp"
        }
      },
      "source": [
        ""
      ],
      "outputs": []
    },
    {
      "cell_type": "code",
      "execution_count": 1,
      "metadata": {
        "dotnet_interactive": {
          "language": "csharp"
        }
      },
      "source": [
        ""
      ],
      "outputs": []
    },
    {
      "cell_type": "code",
      "execution_count": 1,
      "metadata": {
        "dotnet_interactive": {
          "language": "csharp"
        }
      },
      "source": [
        ""
      ],
      "outputs": []
    },
    {
      "cell_type": "code",
      "execution_count": 1,
      "metadata": {
        "dotnet_interactive": {
          "language": "csharp"
        }
      },
      "source": [
        ""
      ],
      "outputs": []
    },
    {
      "cell_type": "code",
      "execution_count": 1,
      "metadata": {
        "dotnet_interactive": {
          "language": "csharp"
        }
      },
      "source": [
        ""
      ],
      "outputs": []
    },
    {
      "cell_type": "code",
      "execution_count": 1,
      "metadata": {
        "dotnet_interactive": {
          "language": "csharp"
        }
      },
      "source": [
        "int cnt   = 0;\n",
        "int iCore = -1;\n",
        "foreach(var ctrl in controls) {\n",
        "\n",
        "    if(cnt % JobsWithSameCore == 0)\n",
        "        iCore++;\n",
        "         \n",
        "    Console.WriteLine(\" Submitting: \" + ctrl.SessionName); \n",
        "    var aJob = new Job(ctrl.SessionName, typeof(SipPoissonMain));\n",
        "    aJob.SetControlObject(ctrl);\n",
        "    ((SlurmClient)ExecutionQueues[1]).SlurmAccount = \"project01217\";  // Jens \n",
        "    aJob.NumberOfMPIProcs         = core_sweep[iCore];\n",
        "    aJob.ExecutionTime            = \"02:00:00\";\n",
        "    //aJob.HHLR_project             = \"project01217\";\n",
        "    aJob.MemPerCPU                = \"2500\";\n",
        "    aJob.UseComputeNodesExclusive = true;\n",
        "    aJob.Activate(myBatch);\n",
        "    cnt++;\n",
        "}"
      ],
      "outputs": []
    },
    {
      "cell_type": "code",
      "execution_count": 1,
      "metadata": {
        "dotnet_interactive": {
          "language": "csharp"
        }
      },
      "source": [
        "LastError"
      ],
      "outputs": []
    },
    {
      "cell_type": "code",
      "execution_count": 1,
      "metadata": {
        "dotnet_interactive": {
          "language": "csharp"
        }
      },
      "source": [
        "WorkflowMgm.AllJobs.Select(kv => kv.Key + \": \\t\" + kv.Value.Status);"
      ],
      "outputs": []
    },
    {
      "cell_type": "code",
      "execution_count": 1,
      "metadata": {
        "dotnet_interactive": {
          "language": "csharp"
        }
      },
      "source": [
        ""
      ],
      "outputs": []
    },
    {
      "cell_type": "code",
      "execution_count": 1,
      "metadata": {
        "dotnet_interactive": {
          "language": "csharp"
        }
      },
      "source": [
        ""
      ],
      "outputs": []
    },
    {
      "cell_type": "code",
      "execution_count": 1,
      "metadata": {
        "dotnet_interactive": {
          "language": "csharp"
        }
      },
      "source": [
        ""
      ],
      "outputs": []
    },
    {
      "cell_type": "code",
      "execution_count": 1,
      "metadata": {
        "dotnet_interactive": {
          "language": "csharp"
        }
      },
      "source": [
        ""
      ],
      "outputs": []
    },
    {
      "cell_type": "code",
      "execution_count": 1,
      "metadata": {
        "dotnet_interactive": {
          "language": "csharp"
        }
      },
      "source": [
        ""
      ],
      "outputs": []
    }
  ],
  "metadata": {
    "kernelspec": {
      "display_name": ".NET (C#)",
      "language": "C#",
      "name": ".net-csharp"
    },
    "language_info": {
      "file_extension": ".cs",
      "mimetype": "text/x-csharp",
      "name": "C#",
      "pygments_lexer": "csharp",
      "version": "8.0"
    }
  },
  "nbformat": 4,
  "nbformat_minor": 4
}