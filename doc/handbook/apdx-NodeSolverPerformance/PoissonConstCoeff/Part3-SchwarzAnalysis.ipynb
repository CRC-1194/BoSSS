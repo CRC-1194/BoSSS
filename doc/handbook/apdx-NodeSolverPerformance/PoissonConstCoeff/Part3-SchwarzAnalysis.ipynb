{
  "cells": [
    {
      "cell_type": "code",
      "execution_count": 1,
      "metadata": {
        "dotnet_interactive": {
          "language": "csharp"
        }
      },
      "source": [
        "#r \"C:\\experimental\\public\\src\\L4-application\\BoSSSpad\\bin\\Release\\net5.0\\BoSSSpad.dll\"\n",
        "using System;\n",
        "using System.Collections.Generic;\n",
        "using System.Linq;\n",
        "using ilPSP;\n",
        "using ilPSP.Utils;\n",
        "using BoSSS.Platform;\n",
        "using BoSSS.Platform.LinAlg;\n",
        "using BoSSS.Foundation;\n",
        "using BoSSS.Foundation.XDG;\n",
        "using BoSSS.Foundation.Grid;\n",
        "using BoSSS.Foundation.Grid.Classic;\n",
        "using BoSSS.Foundation.Grid.RefElements;\n",
        "using BoSSS.Foundation.IO;\n",
        "using BoSSS.Solution;\n",
        "using BoSSS.Solution.Control;\n",
        "using BoSSS.Solution.GridImport;\n",
        "using BoSSS.Solution.Statistic;\n",
        "using BoSSS.Solution.Utils;\n",
        "using BoSSS.Solution.AdvancedSolvers;\n",
        "using BoSSS.Solution.Gnuplot;\n",
        "using BoSSS.Application.BoSSSpad;\n",
        "using BoSSS.Application.XNSE_Solver;\n",
        "using static BoSSS.Application.BoSSSpad.BoSSSshell;\n",
        "Init();\n",
        ""
      ],
      "outputs": []
    },
    {
      "cell_type": "code",
      "execution_count": 1,
      "metadata": {
        "dotnet_interactive": {
          "language": "csharp"
        }
      },
      "source": [
        "WorkflowMgm.Init(\"SIP_SingleNodePerformance_0\");"
      ],
      "outputs": []
    },
    {
      "cell_type": "code",
      "execution_count": 1,
      "metadata": {
        "dotnet_interactive": {
          "language": "csharp"
        }
      },
      "source": [
        "using System.IO;\n",
        "using BoSSS.Application.SipPoisson;"
      ],
      "outputs": []
    },
    {
      "cell_type": "code",
      "execution_count": 1,
      "metadata": {
        "dotnet_interactive": {
          "language": "csharp"
        }
      },
      "source": [
        "string dateString = \"2020-10-23\";\n",
        "string File       = \"SolverRuns--\" + dateString + \".json\";\n",
        "string FilePath   = Path.Combine(CurrentDocDir, File);\n",
        "var SessTab       = TableExtensions.LoadFromFile(FilePath);"
      ],
      "outputs": []
    },
    {
      "cell_type": "code",
      "execution_count": 1,
      "metadata": {
        "dotnet_interactive": {
          "language": "csharp"
        }
      },
      "source": [
        "//SessTab.Print();"
      ],
      "outputs": []
    },
    {
      "cell_type": "code",
      "execution_count": 1,
      "metadata": {
        "dotnet_interactive": {
          "language": "csharp"
        }
      },
      "source": [
        ""
      ],
      "outputs": []
    },
    {
      "cell_type": "code",
      "execution_count": 1,
      "metadata": {
        "dotnet_interactive": {
          "language": "csharp"
        }
      },
      "source": [
        ""
      ],
      "outputs": []
    },
    {
      "cell_type": "code",
      "execution_count": 1,
      "metadata": {
        "dotnet_interactive": {
          "language": "csharp"
        }
      },
      "source": [
        "LinearSolverCode[] Solvers = new LinearSolverCode[] {\n",
        "LinearSolverCode.exp_Kcycle_schwarz,\n",
        "LinearSolverCode.exp_gmres_levelpmg\n",
        "};"
      ],
      "outputs": []
    },
    {
      "cell_type": "code",
      "execution_count": 1,
      "metadata": {
        "dotnet_interactive": {
          "language": "csharp"
        }
      },
      "source": [
        "// ====================\n",
        "// Evaluation, plotting\n",
        "// ===================="
      ],
      "outputs": []
    },
    {
      "cell_type": "code",
      "execution_count": 1,
      "metadata": {
        "dotnet_interactive": {
          "language": "csharp"
        }
      },
      "source": [
        "SessTab.GetColumnNames();"
      ],
      "outputs": []
    },
    {
      "cell_type": "code",
      "execution_count": 1,
      "metadata": {
        "dotnet_interactive": {
          "language": "csharp"
        }
      },
      "source": [
        "Func<IDictionary<string,object>,bool> solverselection = delegate(IDictionary<string,object> row){\n",
        "bool selectsolver = false;\n",
        "foreach(var solver in Solvers)\n",
        "    selectsolver |= (Convert.ToInt32(row[\"LinearSolver.SolverCode\"]) == (int)solver);\n",
        "return selectsolver;\n",
        "}"
      ],
      "outputs": []
    },
    {
      "cell_type": "code",
      "execution_count": 1,
      "metadata": {
        "dotnet_interactive": {
          "language": "csharp"
        }
      },
      "source": [
        "var SubTab_1 = SessTab.ExtractRows(delegate(int i, IDictionary<string,object> row) {\n",
        "    return (  solverselection(row) && (Convert.ToInt32(row[\"Conv\"]) != 0));\n",
        "    });"
      ],
      "outputs": []
    },
    {
      "cell_type": "code",
      "execution_count": 1,
      "metadata": {
        "dotnet_interactive": {
          "language": "csharp"
        }
      },
      "source": [
        "var SubTab = SubTab_1.ExtractColumns(\"DGdegree:T\", \"Grid:NoOfCells\", \"LinearSolver.SolverCode\", \"DOFs\", \n",
        "              \"minSolRunT\", \"maxSolRunT\", \"UsedMGDepth\",\n",
        "              \"MatrixAssembly\", \"Aggregation_basis_init_time\", \"Solver_Init_time\", \"Solver_Run_time\");"
      ],
      "outputs": []
    },
    {
      "cell_type": "code",
      "execution_count": 1,
      "metadata": {
        "dotnet_interactive": {
          "language": "csharp"
        }
      },
      "source": [
        "SubTab.Print();"
      ],
      "outputs": []
    },
    {
      "cell_type": "code",
      "execution_count": 1,
      "metadata": {
        "dotnet_interactive": {
          "language": "csharp"
        }
      },
      "source": [
        ""
      ],
      "outputs": []
    },
    {
      "cell_type": "code",
      "execution_count": 1,
      "metadata": {
        "dotnet_interactive": {
          "language": "csharp"
        }
      },
      "source": [
        "//extract all Degrees and put them into array\n",
        "int rowcount       = SubTab.Rows.Count;\n",
        "int selectedcolumn = 0;\n",
        "int[] tmp= new int[20];\n",
        "\n",
        "int count = 0;\n",
        "for(int r=0;r<rowcount;r++){\n",
        "System.Data.DataRow row = (System.Data.DataRow)SubTab.Rows[r];\n",
        "int bla                 = Convert.ToInt32(row[selectedcolumn]);\n",
        "if (tmp[bla]==0){\n",
        "  tmp[bla]=1;\n",
        "  count++;\n",
        "}\n",
        "}\n",
        "int[] DGdegrees = new int[count];\n",
        "int count2 = 0;\n",
        "for(int i=0;i<tmp.Length;i++){\n",
        "   if(tmp[i]==1){\n",
        "      DGdegrees[count2]=i;\n",
        "      count2++; \n",
        "   }\n",
        "}\n",
        "DGdegrees;"
      ],
      "outputs": []
    },
    {
      "cell_type": "code",
      "execution_count": 1,
      "metadata": {
        "dotnet_interactive": {
          "language": "csharp"
        }
      },
      "source": [
        ""
      ],
      "outputs": []
    },
    {
      "cell_type": "code",
      "execution_count": 1,
      "metadata": {
        "dotnet_interactive": {
          "language": "csharp"
        }
      },
      "source": [
        ""
      ],
      "outputs": []
    },
    {
      "cell_type": "code",
      "execution_count": 1,
      "metadata": {
        "dotnet_interactive": {
          "language": "csharp"
        }
      },
      "source": [
        "//cl.WriteMinimalCompileableExample(\"C:\\\\tmp\\\\mini.tex\");"
      ],
      "outputs": []
    },
    {
      "cell_type": "code",
      "execution_count": 1,
      "metadata": {
        "dotnet_interactive": {
          "language": "csharp"
        }
      },
      "source": [
        ""
      ],
      "outputs": []
    },
    {
      "cell_type": "code",
      "execution_count": 1,
      "metadata": {
        "dotnet_interactive": {
          "language": "csharp"
        }
      },
      "source": [
        "int rows = 3;\n",
        "int columns = 1;\n",
        "\n",
        "Plot2Ddata[][,] AllMultiplots = new Plot2Ddata[2][,];\n",
        "for(int iPlot = 0; iPlot < AllMultiplots.Length; iPlot++) {\n",
        "Plot2Ddata[,] multiplots = new Plot2Ddata[rows,columns];\n",
        "AllMultiplots[iPlot] = multiplots;\n",
        "int pDegree = 0;\n",
        "\n",
        "for(int iRow = 0; iRow < rows; iRow++) {\n",
        "int iCol = 0; \n",
        "    multiplots[iRow,0] = SubTab.ToPlot(\n",
        "       delegate (int iSweep, int iTabRow, \n",
        "                 IDictionary<string, object> Row, \n",
        "                 out string Nmn, \n",
        "                 out PlotFormat Fmt,\n",
        "                 out double xValue, out double yValue) { \n",
        "           // - - - - - - - - - - - - - - - - - - - - - - - - \n",
        "           // PlotRowSelector:\n",
        "           // selects, which table row goes to which graph,\n",
        "           // and the respective color  \n",
        "           // - - - - - - - - - - - - - - - - - - - - - - - - \n",
        "           int k                        = Convert.ToInt32(Row[\"DGdegree:T\"]);\n",
        "           LinearSolverCode solver_name = (LinearSolverCode) Convert.ToInt32(Row[\"LinearSolver.SolverCode\"]);\n",
        "          \n",
        "           \n",
        "           if(    k != DGdegrees[pDegree] \n",
        "               || solver_name != Solvers[iPlot]) {\n",
        "                // degree does not match -> not in this plot\n",
        "                Nmn    = null;\n",
        "                Fmt    = null;\n",
        "                xValue = 0;\n",
        "                yValue = 0;\n",
        "                return;\n",
        "           }\n",
        "           \n",
        "           double mtxAssi  = Convert.ToDouble(Row[\"MatrixAssembly\"]);\n",
        "           double aggBinit = Convert.ToDouble(Row[\"Aggregation_basis_init_time\"]);\n",
        "           double slvInit  = Convert.ToDouble(Row[\"Solver_Init_time\"]);\n",
        "           double slvRun   = Convert.ToDouble(Row[\"Solver_Run_time\"]);\n",
        "           double dofs     = Convert.ToDouble(Row[\"DOFs\"]);\n",
        "           \n",
        "           if(aggBinit > 700)\n",
        "           Console.Write(\"aggBinit/slvRun = \" + aggBinit + \"/\" + slvRun);\n",
        "           \n",
        "           Fmt           = new PlotFormat();\n",
        "           Fmt.PointSize = 0.5;\n",
        "           Fmt.Style     = Styles.LinesPoints;\n",
        "           Fmt.LineColor = LineColors.Black;\n",
        "           Fmt.LineWidth = 3;\n",
        "           \n",
        "           xValue = dofs;\n",
        "           \n",
        "           switch(iSweep) {\n",
        "               case 0:\n",
        "               yValue       = slvRun;\n",
        "               Nmn          = \"Slv Iter\";\n",
        "               Fmt.DashType = DashTypes.Dotted;\n",
        "               Fmt.PointType = PointTypes.OpenCircle;\n",
        "               break;\n",
        "               \n",
        "               case 1:\n",
        "               yValue        = slvInit;\n",
        "               Nmn           = \"Slv Init\";\n",
        "               Fmt.DashType  = DashTypes.Dashed;\n",
        "               Fmt.PointType = PointTypes.OpenBox;\n",
        "               break;\n",
        "               \n",
        "               case 2:\n",
        "               yValue        = aggBinit;\n",
        "               Nmn           = \"Agg Init\";\n",
        "               Fmt.DashType  = DashTypes.DotDashed;\n",
        "               Fmt.PointType = PointTypes.OpenDiamond;\n",
        "               break;\n",
        "               \n",
        "               case 3:\n",
        "               yValue        = mtxAssi;\n",
        "               Nmn           = \"Mtx ass\";\n",
        "               Fmt.DashType  = DashTypes.DotDotDashed;\n",
        "               Fmt.PointType = PointTypes.OpenUpperTriangle;\n",
        "               break;\n",
        "               \n",
        "               default:\n",
        "               throw new NotImplementedException();\n",
        "           }\n",
        "           \n",
        "           if(aggBinit > 700)\n",
        "           Console.WriteLine(\"\\t + case: {0} + yValue = {1}\", iSweep, yValue);\n",
        "       },\n",
        "       4 // 4 sweeps over table\n",
        "       );\n",
        " \n",
        "    string Title = string.Format(\"$k = {0}$\", DGdegrees[pDegree]);\n",
        "    multiplots[iRow,0].Ylabel = Title;\n",
        "    multiplots[iRow,0].LogX = true;\n",
        "    multiplots[iRow,0].LogY = true;\n",
        " \n",
        "    multiplots[iRow,0].YrangeMin = 1e-2;\n",
        "    multiplots[iRow,0].YrangeMax = 1e+4;\n",
        "    \n",
        "    double[] dof = new[]{1e3,1e6};\n",
        "    double[] linT = dof.Select(x => x*0.001).ToArray();\n",
        "    var linP = new Plot2Ddata.XYvalues(\"linear\", dof, linT);\n",
        "    linP.Format.FromString(\"- black\");\n",
        "    ArrayTools.AddToArray(linP, ref multiplots[iRow,0].dataGroups);\n",
        "    multiplots[iRow,iCol].XrangeMin = 1e1;\n",
        "    multiplots[iRow,iCol].XrangeMax = 1e7;\n",
        "    //multiplots[iRow,iCol].Y2rangeMin = 1e-3;\n",
        "    //multiplots[iRow,iCol].Y2rangeMax = 1e+4;\n",
        "    //multiplots[iRow,iCol].X2rangeMin = 1e2;\n",
        "    //multiplots[iRow,iCol].X2rangeMax = 1e7;\n",
        " \n",
        "    //spacing around plots\n",
        "    multiplots[iRow,iCol].ShowLegend = false;\n",
        "    multiplots[iRow,iCol].tmargin = 0;\n",
        "    multiplots[iRow,iCol].bmargin = 1;\n",
        "    multiplots[iRow,iCol].lmargin = 10;\n",
        "    multiplots[iRow,iCol].rmargin = 5;\n",
        "    multiplots[iRow,iCol].ShowXtics=false;\n",
        "\n",
        "    //I am legend ...\n",
        "    if(iRow == 0){\n",
        "    multiplots[iRow,iCol].ShowLegend = true;\n",
        "    multiplots[iRow,iCol].LegendAlignment=new string[]{\"i\",\"t\",\"l\"};\n",
        "    multiplots[iRow,iCol].LegendSwap=true;\n",
        "    }\n",
        "\n",
        "    //and i am special ...\n",
        "    if(iRow == rows-1)\n",
        "        multiplots[iRow,iCol].ShowXtics=true;\n",
        "    \n",
        "    pDegree++;                       \n",
        "}\n",
        "}\n",
        ";"
      ],
      "outputs": []
    },
    {
      "cell_type": "code",
      "execution_count": 1,
      "metadata": {
        "dotnet_interactive": {
          "language": "csharp"
        }
      },
      "source": [
        "// check plots\n",
        "AllMultiplots[0].PlotNow();"
      ],
      "outputs": []
    },
    {
      "cell_type": "code",
      "execution_count": 1,
      "metadata": {
        "dotnet_interactive": {
          "language": "csharp"
        }
      },
      "source": [
        "// =========\n",
        "// manually\n",
        "// =========\n",
        "//var CL = AllMultiplots[0].ToGnuplot().PlotCairolatex(xSize:14, ySize:12);\n",
        "//CL.PlotNow();"
      ],
      "outputs": []
    },
    {
      "cell_type": "code",
      "execution_count": 1,
      "metadata": {
        "dotnet_interactive": {
          "language": "csharp"
        }
      },
      "source": [
        "//CL.WriteMinimalCompileableExample(\n",
        "//    Path.Combine(CurrentDocDir, \"plots\", \"MainConstCoeffPoisson_Schwarz.tex\"),\n",
        "//    \"ConstCoeffPoisson_Schwarz.tex\");"
      ],
      "outputs": []
    },
    {
      "cell_type": "code",
      "execution_count": 1,
      "metadata": {
        "dotnet_interactive": {
          "language": "csharp"
        }
      },
      "source": [
        "// ================\n",
        "// Loop it\n",
        "// ==============\n",
        "for(int i =0; i< Solvers.Length;i++){\n",
        "string problem = \"ConstCoeffPoisson\";\n",
        "string name    = problem + Solvers[i];\n",
        "var CL         = AllMultiplots[i].ToGnuplot().PlotCairolatex(xSize:14, ySize:12);\n",
        "CL.WriteMinimalCompileableExample(\n",
        "    Path.Combine(CurrentDocDir, \"plots\", \"Main\"+name+\".tex\"),\n",
        "    name+\".tex\");\n",
        "}"
      ],
      "outputs": []
    },
    {
      "cell_type": "code",
      "execution_count": 1,
      "metadata": {
        "dotnet_interactive": {
          "language": "csharp"
        }
      },
      "source": [
        ""
      ],
      "outputs": []
    },
    {
      "cell_type": "code",
      "execution_count": 1,
      "metadata": {
        "dotnet_interactive": {
          "language": "csharp"
        }
      },
      "source": [
        ""
      ],
      "outputs": []
    },
    {
      "cell_type": "code",
      "execution_count": 1,
      "metadata": {
        "dotnet_interactive": {
          "language": "csharp"
        }
      },
      "source": [
        ""
      ],
      "outputs": []
    },
    {
      "cell_type": "code",
      "execution_count": 1,
      "metadata": {
        "dotnet_interactive": {
          "language": "csharp"
        }
      },
      "source": [
        ""
      ],
      "outputs": []
    },
    {
      "cell_type": "code",
      "execution_count": 1,
      "metadata": {
        "dotnet_interactive": {
          "language": "csharp"
        }
      },
      "source": [
        ""
      ],
      "outputs": []
    },
    {
      "cell_type": "code",
      "execution_count": 1,
      "metadata": {
        "dotnet_interactive": {
          "language": "csharp"
        }
      },
      "source": [
        ""
      ],
      "outputs": []
    },
    {
      "cell_type": "code",
      "execution_count": 1,
      "metadata": {
        "dotnet_interactive": {
          "language": "csharp"
        }
      },
      "source": [
        ""
      ],
      "outputs": []
    },
    {
      "cell_type": "code",
      "execution_count": 1,
      "metadata": {
        "dotnet_interactive": {
          "language": "csharp"
        }
      },
      "source": [
        ""
      ],
      "outputs": []
    },
    {
      "cell_type": "code",
      "execution_count": 1,
      "metadata": {
        "dotnet_interactive": {
          "language": "csharp"
        }
      },
      "source": [
        ""
      ],
      "outputs": []
    },
    {
      "cell_type": "code",
      "execution_count": 1,
      "metadata": {
        "dotnet_interactive": {
          "language": "csharp"
        }
      },
      "source": [
        ""
      ],
      "outputs": []
    },
    {
      "cell_type": "code",
      "execution_count": 1,
      "metadata": {
        "dotnet_interactive": {
          "language": "csharp"
        }
      },
      "source": [
        ""
      ],
      "outputs": []
    },
    {
      "cell_type": "code",
      "execution_count": 1,
      "metadata": {
        "dotnet_interactive": {
          "language": "csharp"
        }
      },
      "source": [
        ""
      ],
      "outputs": []
    },
    {
      "cell_type": "code",
      "execution_count": 1,
      "metadata": {
        "dotnet_interactive": {
          "language": "csharp"
        }
      },
      "source": [
        ""
      ],
      "outputs": []
    },
    {
      "cell_type": "code",
      "execution_count": 1,
      "metadata": {
        "dotnet_interactive": {
          "language": "csharp"
        }
      },
      "source": [
        ""
      ],
      "outputs": []
    }
  ],
  "metadata": {
    "kernelspec": {
      "display_name": ".NET (C#)",
      "language": "C#",
      "name": ".net-csharp"
    },
    "language_info": {
      "file_extension": ".cs",
      "mimetype": "text/x-csharp",
      "name": "C#",
      "pygments_lexer": "csharp",
      "version": "8.0"
    }
  },
  "nbformat": 4,
  "nbformat_minor": 4
}