{
 "cells": [
  {
   "cell_type": "markdown",
   "metadata": {},
   "source": [
    "# Linear Solver Performance: Constant Coefficient Poisson, Single Core\n",
    "\n",
    "### Part 2, Evaluation"
   ]
  },
  {
   "cell_type": "code",
   "execution_count": 1,
   "metadata": {
    "dotnet_interactive": {
     "language": "csharp"
    }
   },
   "outputs": [
    {
     "data": {
      "text/html": [
       "\r\n",
       "<div>\r\n",
       "    <div id='dotnet-interactive-this-cell-29788.Microsoft.DotNet.Interactive.Http.HttpPort' style='display: none'>\r\n",
       "        The below script needs to be able to find the current output cell; this is an easy method to get it.\r\n",
       "    </div>\r\n",
       "    <script type='text/javascript'>\r\n",
       "async function probeAddresses(probingAddresses) {\r\n",
       "    function timeout(ms, promise) {\r\n",
       "        return new Promise(function (resolve, reject) {\r\n",
       "            setTimeout(function () {\r\n",
       "                reject(new Error('timeout'))\r\n",
       "            }, ms)\r\n",
       "            promise.then(resolve, reject)\r\n",
       "        })\r\n",
       "    }\r\n",
       "\r\n",
       "    if (Array.isArray(probingAddresses)) {\r\n",
       "        for (let i = 0; i < probingAddresses.length; i++) {\r\n",
       "\r\n",
       "            let rootUrl = probingAddresses[i];\r\n",
       "\r\n",
       "            if (!rootUrl.endsWith('/')) {\r\n",
       "                rootUrl = `${rootUrl}/`;\r\n",
       "            }\r\n",
       "\r\n",
       "            try {\r\n",
       "                let response = await timeout(1000, fetch(`${rootUrl}discovery`, {\r\n",
       "                    method: 'POST',\r\n",
       "                    cache: 'no-cache',\r\n",
       "                    mode: 'cors',\r\n",
       "                    timeout: 1000,\r\n",
       "                    headers: {\r\n",
       "                        'Content-Type': 'text/plain'\r\n",
       "                    },\r\n",
       "                    body: probingAddresses[i]\r\n",
       "                }));\r\n",
       "\r\n",
       "                if (response.status == 200) {\r\n",
       "                    return rootUrl;\r\n",
       "                }\r\n",
       "            }\r\n",
       "            catch (e) { }\r\n",
       "        }\r\n",
       "    }\r\n",
       "}\r\n",
       "\r\n",
       "function loadDotnetInteractiveApi() {\r\n",
       "    probeAddresses([\"http://130.83.248.207:1002/\", \"http://127.0.0.1:1002/\"])\r\n",
       "        .then((root) => {\r\n",
       "        // use probing to find host url and api resources\r\n",
       "        // load interactive helpers and language services\r\n",
       "        let dotnetInteractiveRequire = require.config({\r\n",
       "        context: '29788.Microsoft.DotNet.Interactive.Http.HttpPort',\r\n",
       "                paths:\r\n",
       "            {\r\n",
       "                'dotnet-interactive': `${root}resources`\r\n",
       "                }\r\n",
       "        }) || require;\r\n",
       "\r\n",
       "            window.dotnetInteractiveRequire = dotnetInteractiveRequire;\r\n",
       "\r\n",
       "            window.configureRequireFromExtension = function(extensionName, extensionCacheBuster) {\r\n",
       "                let paths = {};\r\n",
       "                paths[extensionName] = `${root}extensions/${extensionName}/resources/`;\r\n",
       "                \r\n",
       "                let internalRequire = require.config({\r\n",
       "                    context: extensionCacheBuster,\r\n",
       "                    paths: paths,\r\n",
       "                    urlArgs: `cacheBuster=${extensionCacheBuster}`\r\n",
       "                    }) || require;\r\n",
       "\r\n",
       "                return internalRequire\r\n",
       "            };\r\n",
       "        \r\n",
       "            dotnetInteractiveRequire([\r\n",
       "                    'dotnet-interactive/dotnet-interactive'\r\n",
       "                ],\r\n",
       "                function (dotnet) {\r\n",
       "                    dotnet.init(window);\r\n",
       "                },\r\n",
       "                function (error) {\r\n",
       "                    console.log(error);\r\n",
       "                }\r\n",
       "            );\r\n",
       "        })\r\n",
       "        .catch(error => {console.log(error);});\r\n",
       "    }\r\n",
       "\r\n",
       "// ensure `require` is available globally\r\n",
       "if ((typeof(require) !==  typeof(Function)) || (typeof(require.config) !== typeof(Function))) {\r\n",
       "    let require_script = document.createElement('script');\r\n",
       "    require_script.setAttribute('src', 'https://cdnjs.cloudflare.com/ajax/libs/require.js/2.3.6/require.min.js');\r\n",
       "    require_script.setAttribute('type', 'text/javascript');\r\n",
       "    \r\n",
       "    \r\n",
       "    require_script.onload = function() {\r\n",
       "        loadDotnetInteractiveApi();\r\n",
       "    };\r\n",
       "\r\n",
       "    document.getElementsByTagName('head')[0].appendChild(require_script);\r\n",
       "}\r\n",
       "else {\r\n",
       "    loadDotnetInteractiveApi();\r\n",
       "}\r\n",
       "\r\n",
       "    </script>\r\n",
       "</div>"
      ]
     },
     "metadata": {},
     "output_type": "display_data"
    }
   ],
   "source": [
    "#r \"BoSSSpad.dll\"\n",
    "using System;\n",
    "using System.Collections.Generic;\n",
    "using System.Linq;\n",
    "using ilPSP;\n",
    "using ilPSP.Utils;\n",
    "using BoSSS.Platform;\n",
    "using BoSSS.Platform.LinAlg;\n",
    "using BoSSS.Foundation;\n",
    "using BoSSS.Foundation.XDG;\n",
    "using BoSSS.Foundation.Grid;\n",
    "using BoSSS.Foundation.Grid.Classic;\n",
    "using BoSSS.Foundation.Grid.RefElements;\n",
    "using BoSSS.Foundation.IO;\n",
    "using BoSSS.Solution;\n",
    "using BoSSS.Solution.Control;\n",
    "using BoSSS.Solution.GridImport;\n",
    "using BoSSS.Solution.Statistic;\n",
    "using BoSSS.Solution.Utils;\n",
    "using BoSSS.Solution.AdvancedSolvers;\n",
    "using BoSSS.Solution.Gnuplot;\n",
    "using BoSSS.Application.BoSSSpad;\n",
    "using BoSSS.Application.XNSE_Solver;\n",
    "using static BoSSS.Application.BoSSSpad.BoSSSshell;\n",
    "Init();"
   ]
  },
  {
   "cell_type": "code",
   "execution_count": 2,
   "metadata": {
    "dotnet_interactive": {
     "language": "csharp"
    }
   },
   "outputs": [],
   "source": [
    "//var TT = typeof(Microsoft.DotNet.Interactive.Formatting.Formatter);\n",
    "//foreach(var s in TT.GetMethods().Select(mi => mi.Name).ToArray())\n",
    "//    Console.Write(s + \"   \");"
   ]
  },
  {
   "cell_type": "code",
   "execution_count": 3,
   "metadata": {
    "dotnet_interactive": {
     "language": "csharp"
    }
   },
   "outputs": [
    {
     "name": "stdout",
     "output_type": "stream",
     "text": [
      "Project name is set to 'LinslvPerf_ConstPoissonMpi1'.\n",
      "Opening existing database '\\\\fdygitrunner\\ValidationTests\\LinslvPerf_ConstPoissonMpi1'.\n"
     ]
    }
   ],
   "source": [
    "wmg.Init(\"LinslvPerf_ConstPoissonMpi1\");\n",
    "wmg.SetNameBasedSessionJobControlCorrelation();"
   ]
  },
  {
   "cell_type": "code",
   "execution_count": 4,
   "metadata": {
    "dotnet_interactive": {
     "language": "csharp"
    }
   },
   "outputs": [
    {
     "data": {
      "text/plain": [
       "#0: LinslvPerf_ConstPoissonMpi1\tSIP_J69120_k3_exp_Kcycle_schwarz\t11/04/2021 18:06:45\t8666816b...\r\n",
       "#1: LinslvPerf_ConstPoissonMpi1\tSIP_J163840_k2_exp_Kcycle_schwarz\t11/04/2021 18:06:01\tf68b6d88...\r\n",
       "#2: LinslvPerf_ConstPoissonMpi1\tSIP_J163840_k2_exp_gmres_levelpmg\t11/04/2021 18:08:08\tb976d734...\r\n",
       "#3: LinslvPerf_ConstPoissonMpi1\tSIP_J20480_k5_exp_gmres_levelpmg\t11/04/2021 18:09:39\t493fc562...\r\n",
       "#4: LinslvPerf_ConstPoissonMpi1\tSIP_J20480_k3_classic_pardiso\t11/04/2021 18:04:55\t7963f80d...\r\n",
       "#5: LinslvPerf_ConstPoissonMpi1\tSIP_J69120_k2_classic_pardiso\t11/04/2021 18:04:27\ta4a94934...\r\n",
       "#6: LinslvPerf_ConstPoissonMpi1\tSIP_J69120_k2_exp_Kcycle_schwarz\t11/04/2021 18:05:50\te3f9e9a3...\r\n",
       "#7: LinslvPerf_ConstPoissonMpi1\tSIP_J69120_k3_exp_gmres_levelpmg\t11/04/2021 18:08:57\t372e3ccb...\r\n",
       "#8: LinslvPerf_ConstPoissonMpi1\tSIP_J69120_k2_exp_gmres_levelpmg\t11/04/2021 18:07:55\t36bd8a75...\r\n",
       "#9: LinslvPerf_ConstPoissonMpi1\tSIP_J20480_k3_exp_Kcycle_schwarz\t11/04/2021 18:06:32\t69239995...\r\n",
       "#10: LinslvPerf_ConstPoissonMpi1\tSIP_J20480_k3_exp_gmres_levelpmg\t11/04/2021 18:08:45\t6a50b2ff...\r\n",
       "#11: LinslvPerf_ConstPoissonMpi1\tSIP_J2560_k5_exp_Kcycle_schwarz\t11/04/2021 18:07:06\t5bf1fa24...\r\n",
       "#12: LinslvPerf_ConstPoissonMpi1\tSIP_J2560_k5_exp_gmres_levelpmg\t11/04/2021 18:09:26\t5b7dbade...\r\n",
       "#13: LinslvPerf_ConstPoissonMpi1\tSIP_J20480_k2_exp_Kcycle_schwarz\t11/04/2021 18:05:39\tc55d09d6...\r\n",
       "#14: LinslvPerf_ConstPoissonMpi1\tSIP_J20480_k2_exp_gmres_levelpmg\t11/04/2021 18:07:44\t161597aa...\r\n",
       "#15: LinslvPerf_ConstPoissonMpi1\tSIP_J320_k5_exp_gmres_levelpmg\t11/04/2021 18:09:14\t8e4754a4...\r\n",
       "#16: LinslvPerf_ConstPoissonMpi1\tSIP_J2560_k3_exp_gmres_levelpmg\t11/04/2021 18:08:32\td50c224e...\r\n",
       "#17: LinslvPerf_ConstPoissonMpi1\tSIP_J2560_k5_classic_pardiso\t11/04/2021 18:05:11\t666900ca...\r\n",
       "#18: LinslvPerf_ConstPoissonMpi1\tSIP_J20480_k2_classic_pardiso\t11/04/2021 18:04:16\te814f336...\r\n",
       "#19: LinslvPerf_ConstPoissonMpi1\tSIP_J320_k3_exp_gmres_levelpmg\t11/04/2021 18:08:21\t7e9efb62...\r\n",
       "#20: LinslvPerf_ConstPoissonMpi1\tSIP_J2560_k2_exp_gmres_levelpmg\t11/04/2021 18:07:32\ta968c0f5...\r\n",
       "#21: LinslvPerf_ConstPoissonMpi1\tSIP_J320_k2_exp_gmres_levelpmg\t11/04/2021 18:07:23\t6ff0bbcd...\r\n",
       "#22: LinslvPerf_ConstPoissonMpi1\tSIP_J320_k5_exp_Kcycle_schwarz\t11/04/2021 18:06:58\t97a513e9...\r\n",
       "#23: LinslvPerf_ConstPoissonMpi1\tSIP_J2560_k3_exp_Kcycle_schwarz\t11/04/2021 18:06:20\tdade6778...\r\n",
       "#24: LinslvPerf_ConstPoissonMpi1\tSIP_J320_k3_exp_Kcycle_schwarz\t11/04/2021 18:06:11\t74ac4605...\r\n",
       "#25: LinslvPerf_ConstPoissonMpi1\tSIP_J2560_k2_exp_Kcycle_schwarz\t11/04/2021 18:05:30\tb508b05c...\r\n",
       "#26: LinslvPerf_ConstPoissonMpi1\tSIP_J2560_k3_classic_pardiso\t11/04/2021 18:04:44\t1c816ecd...\r\n",
       "#27: LinslvPerf_ConstPoissonMpi1\tSIP_J320_k2_exp_Kcycle_schwarz\t11/04/2021 18:05:21\t7f483e46...\r\n",
       "#28: LinslvPerf_ConstPoissonMpi1\tSIP_J320_k5_classic_pardiso\t11/04/2021 18:05:03\t6c946202...\r\n",
       "#29: LinslvPerf_ConstPoissonMpi1\tSIP_J320_k3_classic_pardiso\t11/04/2021 18:04:36\t2a61dd08...\r\n",
       "#30: LinslvPerf_ConstPoissonMpi1\tSIP_J2560_k2_classic_pardiso\t11/04/2021 18:04:08\t5ce0bf18...\r\n",
       "#31: LinslvPerf_ConstPoissonMpi1\tSIP_J320_k2_classic_pardiso\t11/04/2021 18:04:00\t1f6cb5be...\r\n"
      ]
     },
     "execution_count": 4,
     "metadata": {},
     "output_type": "execute_result"
    }
   ],
   "source": [
    "wmg.Sessions"
   ]
  },
  {
   "cell_type": "code",
   "execution_count": 8,
   "metadata": {
    "dotnet_interactive": {
     "language": "csharp"
    }
   },
   "outputs": [],
   "source": [
    "// Manually add database (e.g. when accessing the database of user \"JenkinsCI\" as some other, regular guy)\n",
    "//var tempDb = OpenOrCreateDatabase(@\"\\\\fdygitrunner\\ValidationTests\\LinslvPerf_ConstPoissonMpi1\");"
   ]
  },
  {
   "cell_type": "code",
   "execution_count": 6,
   "metadata": {
    "dotnet_interactive": {
     "language": "csharp"
    }
   },
   "outputs": [
    {
     "data": {
      "text/plain": [
       "#0: { Session Count = 32; Grid Count = 7; Path = \\\\fdygitrunner\\ValidationTests\\LinslvPerf_ConstPoissonMpi1 }\r\n"
      ]
     },
     "execution_count": 6,
     "metadata": {},
     "output_type": "execute_result"
    }
   ],
   "source": [
    "databases"
   ]
  },
  {
   "cell_type": "code",
   "execution_count": 7,
   "metadata": {},
   "outputs": [
    {
     "data": {
      "text/plain": [
       "#0: LinslvPerf_ConstPoissonMpi1\tSIP_J69120_k3_exp_Kcycle_schwarz\t11/04/2021 18:06:45\t8666816b...\r\n",
       "#1: LinslvPerf_ConstPoissonMpi1\tSIP_J163840_k2_exp_Kcycle_schwarz\t11/04/2021 18:06:01\tf68b6d88...\r\n",
       "#2: LinslvPerf_ConstPoissonMpi1\tSIP_J163840_k2_exp_gmres_levelpmg\t11/04/2021 18:08:08\tb976d734...\r\n",
       "#3: LinslvPerf_ConstPoissonMpi1\tSIP_J20480_k5_exp_gmres_levelpmg\t11/04/2021 18:09:39\t493fc562...\r\n",
       "#4: LinslvPerf_ConstPoissonMpi1\tSIP_J20480_k3_classic_pardiso\t11/04/2021 18:04:55\t7963f80d...\r\n",
       "#5: LinslvPerf_ConstPoissonMpi1\tSIP_J69120_k2_classic_pardiso\t11/04/2021 18:04:27\ta4a94934...\r\n",
       "#6: LinslvPerf_ConstPoissonMpi1\tSIP_J69120_k2_exp_Kcycle_schwarz\t11/04/2021 18:05:50\te3f9e9a3...\r\n",
       "#7: LinslvPerf_ConstPoissonMpi1\tSIP_J69120_k3_exp_gmres_levelpmg\t11/04/2021 18:08:57\t372e3ccb...\r\n",
       "#8: LinslvPerf_ConstPoissonMpi1\tSIP_J69120_k2_exp_gmres_levelpmg\t11/04/2021 18:07:55\t36bd8a75...\r\n",
       "#9: LinslvPerf_ConstPoissonMpi1\tSIP_J20480_k3_exp_Kcycle_schwarz\t11/04/2021 18:06:32\t69239995...\r\n",
       "#10: LinslvPerf_ConstPoissonMpi1\tSIP_J20480_k3_exp_gmres_levelpmg\t11/04/2021 18:08:45\t6a50b2ff...\r\n",
       "#11: LinslvPerf_ConstPoissonMpi1\tSIP_J2560_k5_exp_Kcycle_schwarz\t11/04/2021 18:07:06\t5bf1fa24...\r\n",
       "#12: LinslvPerf_ConstPoissonMpi1\tSIP_J2560_k5_exp_gmres_levelpmg\t11/04/2021 18:09:26\t5b7dbade...\r\n",
       "#13: LinslvPerf_ConstPoissonMpi1\tSIP_J20480_k2_exp_Kcycle_schwarz\t11/04/2021 18:05:39\tc55d09d6...\r\n",
       "#14: LinslvPerf_ConstPoissonMpi1\tSIP_J20480_k2_exp_gmres_levelpmg\t11/04/2021 18:07:44\t161597aa...\r\n",
       "#15: LinslvPerf_ConstPoissonMpi1\tSIP_J320_k5_exp_gmres_levelpmg\t11/04/2021 18:09:14\t8e4754a4...\r\n",
       "#16: LinslvPerf_ConstPoissonMpi1\tSIP_J2560_k3_exp_gmres_levelpmg\t11/04/2021 18:08:32\td50c224e...\r\n",
       "#17: LinslvPerf_ConstPoissonMpi1\tSIP_J2560_k5_classic_pardiso\t11/04/2021 18:05:11\t666900ca...\r\n",
       "#18: LinslvPerf_ConstPoissonMpi1\tSIP_J20480_k2_classic_pardiso\t11/04/2021 18:04:16\te814f336...\r\n",
       "#19: LinslvPerf_ConstPoissonMpi1\tSIP_J320_k3_exp_gmres_levelpmg\t11/04/2021 18:08:21\t7e9efb62...\r\n",
       "#20: LinslvPerf_ConstPoissonMpi1\tSIP_J2560_k2_exp_gmres_levelpmg\t11/04/2021 18:07:32\ta968c0f5...\r\n",
       "#21: LinslvPerf_ConstPoissonMpi1\tSIP_J320_k2_exp_gmres_levelpmg\t11/04/2021 18:07:23\t6ff0bbcd...\r\n",
       "#22: LinslvPerf_ConstPoissonMpi1\tSIP_J320_k5_exp_Kcycle_schwarz\t11/04/2021 18:06:58\t97a513e9...\r\n",
       "#23: LinslvPerf_ConstPoissonMpi1\tSIP_J2560_k3_exp_Kcycle_schwarz\t11/04/2021 18:06:20\tdade6778...\r\n",
       "#24: LinslvPerf_ConstPoissonMpi1\tSIP_J320_k3_exp_Kcycle_schwarz\t11/04/2021 18:06:11\t74ac4605...\r\n",
       "#25: LinslvPerf_ConstPoissonMpi1\tSIP_J2560_k2_exp_Kcycle_schwarz\t11/04/2021 18:05:30\tb508b05c...\r\n",
       "#26: LinslvPerf_ConstPoissonMpi1\tSIP_J2560_k3_classic_pardiso\t11/04/2021 18:04:44\t1c816ecd...\r\n",
       "#27: LinslvPerf_ConstPoissonMpi1\tSIP_J320_k2_exp_Kcycle_schwarz\t11/04/2021 18:05:21\t7f483e46...\r\n",
       "#28: LinslvPerf_ConstPoissonMpi1\tSIP_J320_k5_classic_pardiso\t11/04/2021 18:05:03\t6c946202...\r\n",
       "#29: LinslvPerf_ConstPoissonMpi1\tSIP_J320_k3_classic_pardiso\t11/04/2021 18:04:36\t2a61dd08...\r\n",
       "#30: LinslvPerf_ConstPoissonMpi1\tSIP_J2560_k2_classic_pardiso\t11/04/2021 18:04:08\t5ce0bf18...\r\n",
       "#31: LinslvPerf_ConstPoissonMpi1\tSIP_J320_k2_classic_pardiso\t11/04/2021 18:04:00\t1f6cb5be...\r\n"
      ]
     },
     "execution_count": 7,
     "metadata": {},
     "output_type": "execute_result"
    }
   ],
   "source": [
    "wmg.Sessions"
   ]
  },
  {
   "cell_type": "code",
   "execution_count": 9,
   "metadata": {
    "dotnet_interactive": {
     "language": "csharp"
    }
   },
   "outputs": [],
   "source": [
    "using System.IO;\n",
    "using BoSSS.Application.SipPoisson;"
   ]
  },
  {
   "cell_type": "code",
   "execution_count": 10,
   "metadata": {
    "dotnet_interactive": {
     "language": "csharp"
    }
   },
   "outputs": [
    {
     "name": "stderr",
     "output_type": "stream",
     "text": [
      "\r\n",
      "(3,34): error CS0103: The name 'CurrentDocDir' does not exist in the current context\r\n",
      "\r\n"
     ]
    },
    {
     "ename": "Cell not executed",
     "evalue": "compilation error",
     "output_type": "error",
     "traceback": []
    }
   ],
   "source": [
    "string dateString = \"2020-10-23\";\n",
    "string File       = \"SolverRuns--\" + dateString + \".json\";\n",
    "string FilePath   = Path.Combine(CurrentDocDir, File);\n",
    "var SessTab       = TableExtensions.LoadFromFile(FilePath);"
   ]
  },
  {
   "cell_type": "code",
   "execution_count": null,
   "metadata": {
    "dotnet_interactive": {
     "language": "csharp"
    }
   },
   "outputs": [],
   "source": [
    "//SessTab.Print();"
   ]
  },
  {
   "cell_type": "code",
   "execution_count": null,
   "metadata": {
    "dotnet_interactive": {
     "language": "csharp"
    }
   },
   "outputs": [],
   "source": [
    "// ====================\n",
    "// Evaluation, plotting\n",
    "// ===================="
   ]
  },
  {
   "cell_type": "code",
   "execution_count": null,
   "metadata": {
    "dotnet_interactive": {
     "language": "csharp"
    }
   },
   "outputs": [],
   "source": [
    "SessTab.GetColumnNames();"
   ]
  },
  {
   "cell_type": "code",
   "execution_count": null,
   "metadata": {
    "dotnet_interactive": {
     "language": "csharp"
    }
   },
   "outputs": [],
   "source": [
    "var SubTab_1 = SessTab.ExtractColumns(\"SessionName\",\"DGdegree:T\", \"Grid:NoOfCells\", \"LinearSolver.SolverCode\", \"DOFs\", \"minSolRunT\", \"maxSolRunT\", \"NoIter\", \"RegularTerminated\", \"Conv\",\"MatrixAssembly\",\"Aggregation_basis_init_time\",\"Solver_Init_time\",\"Solver_Run_time\",\"BlockSize\");"
   ]
  },
  {
   "cell_type": "code",
   "execution_count": null,
   "metadata": {
    "dotnet_interactive": {
     "language": "csharp"
    }
   },
   "outputs": [],
   "source": [
    "var SubTab_2 = SubTab_1.ExtractRows(delegate(int i, IDictionary<string,object> row) {\n",
    "    return (Convert.ToBoolean(row[\"RegularTerminated\"]) == true)\n",
    "          && (Convert.ToInt32(row[\"Conv\"]) != 0);\n",
    "    });"
   ]
  },
  {
   "cell_type": "code",
   "execution_count": null,
   "metadata": {
    "dotnet_interactive": {
     "language": "csharp"
    }
   },
   "outputs": [],
   "source": [
    "var SubTab = SubTab_2.ExtractColumns(\"SessionName\",\"DGdegree:T\", \"Grid:NoOfCells\", \"LinearSolver.SolverCode\", \"DOFs\", \"minSolRunT\", \"maxSolRunT\", \"NoIter\");"
   ]
  },
  {
   "cell_type": "code",
   "execution_count": null,
   "metadata": {
    "dotnet_interactive": {
     "language": "csharp"
    }
   },
   "outputs": [],
   "source": [
    "SubTab.Print();"
   ]
  },
  {
   "cell_type": "code",
   "execution_count": null,
   "metadata": {
    "dotnet_interactive": {
     "language": "csharp"
    }
   },
   "outputs": [],
   "source": [
    "//Extract to excel-File\n",
    "SubTab_2.Print();\n",
    "//SubTab_2.ToCSVFile(WFlowName);"
   ]
  },
  {
   "cell_type": "code",
   "execution_count": null,
   "metadata": {
    "dotnet_interactive": {
     "language": "csharp"
    }
   },
   "outputs": [],
   "source": []
  },
  {
   "cell_type": "code",
   "execution_count": null,
   "metadata": {
    "dotnet_interactive": {
     "language": "csharp"
    }
   },
   "outputs": [],
   "source": []
  },
  {
   "cell_type": "code",
   "execution_count": null,
   "metadata": {
    "dotnet_interactive": {
     "language": "csharp"
    }
   },
   "outputs": [],
   "source": []
  },
  {
   "cell_type": "code",
   "execution_count": null,
   "metadata": {
    "dotnet_interactive": {
     "language": "csharp"
    }
   },
   "outputs": [],
   "source": []
  },
  {
   "cell_type": "code",
   "execution_count": null,
   "metadata": {
    "dotnet_interactive": {
     "language": "csharp"
    }
   },
   "outputs": [],
   "source": [
    "//extract all Degrees and put them into array\n",
    "int rowcount          = SubTab.Rows.Count;\n",
    "string selectedcolumn = \"DGdegree:T\";\n",
    "int[] tmp= new int[20];\n",
    "\n",
    "int count = 0;\n",
    "for(int r=0;r<rowcount;r++){\n",
    "System.Data.DataRow row = (System.Data.DataRow)SubTab.Rows[r];\n",
    "int bla                 = Convert.ToInt32(row[selectedcolumn]);\n",
    "if (tmp[bla]==0){\n",
    "  tmp[bla]=1;\n",
    "  count++;\n",
    "}\n",
    "}\n",
    "int[] DGdegrees = new int[count];\n",
    "int count2 = 0;\n",
    "for(int i=0;i<tmp.Length;i++){\n",
    "   if(tmp[i]==1){\n",
    "      DGdegrees[count2]=i;\n",
    "      count2++; \n",
    "   }\n",
    "}\n",
    "DGdegrees;"
   ]
  },
  {
   "cell_type": "code",
   "execution_count": null,
   "metadata": {
    "dotnet_interactive": {
     "language": "csharp"
    }
   },
   "outputs": [],
   "source": []
  },
  {
   "cell_type": "code",
   "execution_count": null,
   "metadata": {
    "dotnet_interactive": {
     "language": "csharp"
    }
   },
   "outputs": [],
   "source": []
  },
  {
   "cell_type": "code",
   "execution_count": null,
   "metadata": {
    "dotnet_interactive": {
     "language": "csharp"
    }
   },
   "outputs": [],
   "source": [
    "//RuntimePlot.PlotNow();"
   ]
  },
  {
   "cell_type": "code",
   "execution_count": null,
   "metadata": {
    "dotnet_interactive": {
     "language": "csharp"
    }
   },
   "outputs": [],
   "source": [
    "//var cl = RuntimePlot.ToGnuplot().PlotCairolatex();\n",
    "//cl.Preview(trimPage:true);"
   ]
  },
  {
   "cell_type": "code",
   "execution_count": null,
   "metadata": {
    "dotnet_interactive": {
     "language": "csharp"
    }
   },
   "outputs": [],
   "source": [
    "//cl.WriteMinimalCompileableExample(\"C:\\\\tmp\\\\mini.tex\");"
   ]
  },
  {
   "cell_type": "code",
   "execution_count": null,
   "metadata": {
    "dotnet_interactive": {
     "language": "csharp"
    }
   },
   "outputs": [],
   "source": [
    "//using SolverCodes = BoSSS.Solution.Control.LinearSolverConfig.Code;"
   ]
  },
  {
   "cell_type": "code",
   "execution_count": null,
   "metadata": {
    "dotnet_interactive": {
     "language": "csharp"
    }
   },
   "outputs": [],
   "source": [
    "int rows    = 3;\n",
    "int columns = 1;\n",
    "//LinearSolverCode[] ignore_solvers = {LinearSolverCode.classic_pardiso, LinearSolverCode.classic_cg, LinearSolverCode.exp_softpcg_schwarz, LinearSolverConfig.Code.exp_direct_lapack};\n",
    "LinearSolverCode[] ignore_solvers ={};\n",
    "Plot2Ddata[,] multiplots = new Plot2Ddata[rows,columns];\n",
    "int pDegree = 0;\n",
    "for(int iRow = 0; iRow < rows; iRow++) {\n",
    "for(int iCol = 0; iCol < columns; iCol++) {\n",
    "    \n",
    "    if(pDegree > rows*columns-1)\n",
    "        continue;\n",
    "    int tmpDG = -1;\n",
    "    if(pDegree < DGdegrees.Length)\n",
    "        tmpDG = DGdegrees[pDegree];\n",
    "    \n",
    "    //Create Graphs\n",
    "    multiplots[iRow,iCol] = SubTab.ToPlot(\"DOFs\", \"minSolRunT\", // column for x- and y\n",
    "       delegate (int iTabRow, \n",
    "                 IDictionary<string, object> Row, \n",
    "                 out string Nmn, \n",
    "                 out PlotFormat Fmt) { \n",
    "           // - - - - - - - - - - - - - - - - - - - - - - - - \n",
    "           // PlotRowSelector:\n",
    "           // selects, which table row goes to which graph,\n",
    "           // and the respective color  \n",
    "           // - - - - - - - - - - - - - - - - - - - - - - - - \n",
    "           int k = Convert.ToInt32(Row[\"DGdegree:T\"]);\n",
    "           if(k != tmpDG) {\n",
    "                // degree does not match -> not in this plot\n",
    "                Nmn = null;\n",
    "                Fmt = null;\n",
    "                return;\n",
    "           }\n",
    " \n",
    "           LinearSolverCode solver_name = (LinearSolverCode)Convert.ToInt32(Row[\"LinearSolver.SolverCode\"]);\n",
    "           //ignore the solvers specified in ingore_solvers\n",
    "           foreach(LinearSolverCode sc in ignore_solvers){\n",
    "               if(solver_name==sc){\n",
    "                   System.Console.WriteLine(\"skipped\");\n",
    "                   Nmn = null;\n",
    "                   Fmt = null;\n",
    "               return;\n",
    "               }\n",
    "           }\n",
    "           \n",
    "           // ===!!!=== CAUTION ===!!!===\n",
    "           // Solverframework (SolverEnum numbers) have changed! Please check LinearSolver and NonLinearSolver for details\n",
    "           \n",
    "           //process the other solvers\n",
    "           Fmt = new PlotFormat();\n",
    "           switch(solver_name) {\n",
    "           case LinearSolverCode.classic_pardiso: \n",
    "               Nmn           = \"Pardiso\"; \n",
    "               Fmt.PointType = PointTypes.OpenCircle;\n",
    "               Fmt.DashType  = DashTypes.Dotted;\n",
    "               break;\n",
    "           case LinearSolverCode.exp_gmres_levelpmg: \n",
    "               Nmn           = \"GMRES w. pTG\"; \n",
    "               Fmt.PointType = PointTypes.Box;\n",
    "               break;\n",
    "           case LinearSolverCode.exp_Kcycle_schwarz: \n",
    "               Nmn           = \"Kcycle w. add.-Schwarz\"; \n",
    "               Fmt.PointType = PointTypes.LowerTriangle;\n",
    "               break;\n",
    "           default:\n",
    "               Console.WriteLine(\"unknown: \" + solver_name); \n",
    "               Nmn = \"unknown\";\n",
    "               break;\n",
    "           } \n",
    "           Console.WriteLine(\"name is: \" + solver_name); \n",
    "           Fmt.PointSize = 0.5;\n",
    "           Fmt.Style     = Styles.LinesPoints;\n",
    "           Fmt.LineColor = LineColors.Black;\n",
    "           Fmt.LineWidth = 3;\n",
    "       });\n",
    "    double[] dof = new[]{1e3,1e6};\n",
    "    double[] linT = dof.Select(x => x*0.001).ToArray();\n",
    "    var linP = new Plot2Ddata.XYvalues(\"linear\", dof, linT);\n",
    "    linP.Format.FromString(\"- black\");\n",
    "    ArrayTools.AddToArray(linP, ref multiplots[iRow,iCol].dataGroups);\n",
    " \n",
    "    //all about axis\n",
    "    string Title = string.Format(\"$k = {0}$\", tmpDG);\n",
    "    multiplots[iRow,iCol].Ylabel = Title;\n",
    "    multiplots[iRow,iCol].LogX = true;\n",
    "    multiplots[iRow,iCol].LogY = true;\n",
    "    //specify range of axis\n",
    "    multiplots[iRow,iCol].YrangeMin = 1e-2;\n",
    "    multiplots[iRow,iCol].YrangeMax = 1e+4;\n",
    "    multiplots[iRow,iCol].XrangeMin = 1e1;\n",
    "    multiplots[iRow,iCol].XrangeMax = 1e7;\n",
    "    //multiplots[iRow,iCol].Y2rangeMin = 1e-3;\n",
    "    //multiplots[iRow,iCol].Y2rangeMax = 1e+4;\n",
    "    //multiplots[iRow,iCol].X2rangeMin = 1e2;\n",
    "    //multiplots[iRow,iCol].X2rangeMax = 1e7;\n",
    "    \n",
    "    //spacing around plots\n",
    "    multiplots[iRow,iCol].ShowLegend = false;\n",
    "    multiplots[iRow,iCol].tmargin = 0;\n",
    "    multiplots[iRow,iCol].bmargin = 1;\n",
    "    multiplots[iRow,iCol].lmargin = 10;\n",
    "    multiplots[iRow,iCol].rmargin = 5;\n",
    "    multiplots[iRow,iCol].ShowXtics=false;\n",
    "\n",
    "    //I am legend ...\n",
    "    if(iRow == 0){\n",
    "    multiplots[iRow,iCol].ShowLegend = true;\n",
    "    multiplots[iRow,iCol].LegendAlignment=new string[]{\"i\",\"t\",\"l\"};\n",
    "    multiplots[iRow,iCol].LegendSwap=true;\n",
    "    }\n",
    "\n",
    "    //and i am special ...\n",
    "    if(iRow == rows-1)\n",
    "        multiplots[iRow,iCol].ShowXtics=true;\n",
    "    pDegree++;\n",
    "}                        \n",
    "}\n",
    "\n",
    "//multiplots.AddDummyPlotsForLegend(3,0);\n",
    "multiplots.PlotNow()"
   ]
  },
  {
   "cell_type": "code",
   "execution_count": null,
   "metadata": {
    "dotnet_interactive": {
     "language": "csharp"
    }
   },
   "outputs": [],
   "source": [
    "LastError;"
   ]
  },
  {
   "cell_type": "code",
   "execution_count": null,
   "metadata": {
    "dotnet_interactive": {
     "language": "csharp"
    }
   },
   "outputs": [],
   "source": []
  },
  {
   "cell_type": "code",
   "execution_count": null,
   "metadata": {
    "dotnet_interactive": {
     "language": "csharp"
    }
   },
   "outputs": [],
   "source": []
  },
  {
   "cell_type": "code",
   "execution_count": null,
   "metadata": {
    "dotnet_interactive": {
     "language": "csharp"
    }
   },
   "outputs": [],
   "source": [
    "var CL = multiplots.ToGnuplot().PlotCairolatex(xSize:14,ySize:12);"
   ]
  },
  {
   "cell_type": "code",
   "execution_count": null,
   "metadata": {
    "dotnet_interactive": {
     "language": "csharp"
    }
   },
   "outputs": [],
   "source": [
    "//CL.SaveTo(Path.Combine(CurrentDocDir, \"ConstCoeffPoissonScaling.tex\"));"
   ]
  },
  {
   "cell_type": "code",
   "execution_count": null,
   "metadata": {
    "dotnet_interactive": {
     "language": "csharp"
    }
   },
   "outputs": [],
   "source": []
  },
  {
   "cell_type": "code",
   "execution_count": null,
   "metadata": {
    "dotnet_interactive": {
     "language": "csharp"
    }
   },
   "outputs": [],
   "source": [
    "LastError"
   ]
  },
  {
   "cell_type": "code",
   "execution_count": null,
   "metadata": {
    "dotnet_interactive": {
     "language": "csharp"
    }
   },
   "outputs": [],
   "source": [
    "CL.WriteMinimalCompileableExample(\n",
    "   Path.Combine(CurrentDocDir, \"plots\", \"MainConstCoeffPoissonScaling.tex\"),\n",
    "   \"ConstCoeffPoissonScaling.tex\");"
   ]
  },
  {
   "cell_type": "code",
   "execution_count": null,
   "metadata": {
    "dotnet_interactive": {
     "language": "csharp"
    }
   },
   "outputs": [],
   "source": []
  },
  {
   "cell_type": "code",
   "execution_count": null,
   "metadata": {
    "dotnet_interactive": {
     "language": "csharp"
    }
   },
   "outputs": [],
   "source": []
  },
  {
   "cell_type": "code",
   "execution_count": null,
   "metadata": {
    "dotnet_interactive": {
     "language": "csharp"
    }
   },
   "outputs": [],
   "source": []
  },
  {
   "cell_type": "code",
   "execution_count": null,
   "metadata": {
    "dotnet_interactive": {
     "language": "csharp"
    }
   },
   "outputs": [],
   "source": []
  },
  {
   "cell_type": "code",
   "execution_count": null,
   "metadata": {
    "dotnet_interactive": {
     "language": "csharp"
    }
   },
   "outputs": [],
   "source": []
  },
  {
   "cell_type": "code",
   "execution_count": null,
   "metadata": {
    "dotnet_interactive": {
     "language": "csharp"
    }
   },
   "outputs": [],
   "source": []
  },
  {
   "cell_type": "code",
   "execution_count": null,
   "metadata": {
    "dotnet_interactive": {
     "language": "csharp"
    }
   },
   "outputs": [],
   "source": []
  },
  {
   "cell_type": "code",
   "execution_count": null,
   "metadata": {
    "dotnet_interactive": {
     "language": "csharp"
    }
   },
   "outputs": [],
   "source": []
  },
  {
   "cell_type": "code",
   "execution_count": null,
   "metadata": {
    "dotnet_interactive": {
     "language": "csharp"
    }
   },
   "outputs": [],
   "source": []
  },
  {
   "cell_type": "code",
   "execution_count": null,
   "metadata": {
    "dotnet_interactive": {
     "language": "csharp"
    }
   },
   "outputs": [],
   "source": []
  },
  {
   "cell_type": "code",
   "execution_count": null,
   "metadata": {
    "dotnet_interactive": {
     "language": "csharp"
    }
   },
   "outputs": [],
   "source": []
  },
  {
   "cell_type": "code",
   "execution_count": null,
   "metadata": {
    "dotnet_interactive": {
     "language": "csharp"
    }
   },
   "outputs": [],
   "source": []
  },
  {
   "cell_type": "code",
   "execution_count": null,
   "metadata": {
    "dotnet_interactive": {
     "language": "csharp"
    }
   },
   "outputs": [],
   "source": []
  },
  {
   "cell_type": "code",
   "execution_count": null,
   "metadata": {
    "dotnet_interactive": {
     "language": "csharp"
    }
   },
   "outputs": [],
   "source": []
  },
  {
   "cell_type": "code",
   "execution_count": null,
   "metadata": {
    "dotnet_interactive": {
     "language": "csharp"
    }
   },
   "outputs": [],
   "source": []
  },
  {
   "cell_type": "code",
   "execution_count": null,
   "metadata": {
    "dotnet_interactive": {
     "language": "csharp"
    }
   },
   "outputs": [],
   "source": []
  },
  {
   "cell_type": "code",
   "execution_count": null,
   "metadata": {
    "dotnet_interactive": {
     "language": "csharp"
    }
   },
   "outputs": [],
   "source": []
  },
  {
   "cell_type": "code",
   "execution_count": null,
   "metadata": {
    "dotnet_interactive": {
     "language": "csharp"
    }
   },
   "outputs": [],
   "source": []
  },
  {
   "cell_type": "code",
   "execution_count": null,
   "metadata": {
    "dotnet_interactive": {
     "language": "csharp"
    }
   },
   "outputs": [],
   "source": []
  },
  {
   "cell_type": "code",
   "execution_count": null,
   "metadata": {
    "dotnet_interactive": {
     "language": "csharp"
    }
   },
   "outputs": [],
   "source": []
  },
  {
   "cell_type": "code",
   "execution_count": null,
   "metadata": {
    "dotnet_interactive": {
     "language": "csharp"
    }
   },
   "outputs": [],
   "source": []
  },
  {
   "cell_type": "code",
   "execution_count": null,
   "metadata": {
    "dotnet_interactive": {
     "language": "csharp"
    }
   },
   "outputs": [],
   "source": []
  },
  {
   "cell_type": "code",
   "execution_count": null,
   "metadata": {
    "dotnet_interactive": {
     "language": "csharp"
    }
   },
   "outputs": [],
   "source": []
  },
  {
   "cell_type": "code",
   "execution_count": null,
   "metadata": {
    "dotnet_interactive": {
     "language": "csharp"
    }
   },
   "outputs": [],
   "source": []
  },
  {
   "cell_type": "code",
   "execution_count": null,
   "metadata": {
    "dotnet_interactive": {
     "language": "csharp"
    }
   },
   "outputs": [],
   "source": []
  },
  {
   "cell_type": "code",
   "execution_count": null,
   "metadata": {
    "dotnet_interactive": {
     "language": "csharp"
    }
   },
   "outputs": [],
   "source": []
  },
  {
   "cell_type": "code",
   "execution_count": null,
   "metadata": {
    "dotnet_interactive": {
     "language": "csharp"
    }
   },
   "outputs": [],
   "source": []
  },
  {
   "cell_type": "code",
   "execution_count": null,
   "metadata": {
    "dotnet_interactive": {
     "language": "csharp"
    }
   },
   "outputs": [],
   "source": []
  },
  {
   "cell_type": "code",
   "execution_count": null,
   "metadata": {
    "dotnet_interactive": {
     "language": "csharp"
    }
   },
   "outputs": [],
   "source": []
  },
  {
   "cell_type": "code",
   "execution_count": null,
   "metadata": {
    "dotnet_interactive": {
     "language": "csharp"
    }
   },
   "outputs": [],
   "source": []
  },
  {
   "cell_type": "code",
   "execution_count": null,
   "metadata": {
    "dotnet_interactive": {
     "language": "csharp"
    }
   },
   "outputs": [],
   "source": []
  },
  {
   "cell_type": "code",
   "execution_count": null,
   "metadata": {
    "dotnet_interactive": {
     "language": "csharp"
    }
   },
   "outputs": [],
   "source": []
  },
  {
   "cell_type": "code",
   "execution_count": null,
   "metadata": {
    "dotnet_interactive": {
     "language": "csharp"
    }
   },
   "outputs": [],
   "source": []
  },
  {
   "cell_type": "code",
   "execution_count": null,
   "metadata": {
    "dotnet_interactive": {
     "language": "csharp"
    }
   },
   "outputs": [],
   "source": []
  },
  {
   "cell_type": "code",
   "execution_count": null,
   "metadata": {
    "dotnet_interactive": {
     "language": "csharp"
    }
   },
   "outputs": [],
   "source": []
  },
  {
   "cell_type": "code",
   "execution_count": null,
   "metadata": {
    "dotnet_interactive": {
     "language": "csharp"
    }
   },
   "outputs": [],
   "source": []
  },
  {
   "cell_type": "code",
   "execution_count": null,
   "metadata": {
    "dotnet_interactive": {
     "language": "csharp"
    }
   },
   "outputs": [],
   "source": []
  }
 ],
 "metadata": {
  "kernelspec": {
   "display_name": ".NET (C#)",
   "language": "C#",
   "name": ".net-csharp"
  },
  "language_info": {
   "file_extension": ".cs",
   "mimetype": "text/x-csharp",
   "name": "C#",
   "pygments_lexer": "csharp",
   "version": "9.0"
  }
 },
 "nbformat": 4,
 "nbformat_minor": 4
}
