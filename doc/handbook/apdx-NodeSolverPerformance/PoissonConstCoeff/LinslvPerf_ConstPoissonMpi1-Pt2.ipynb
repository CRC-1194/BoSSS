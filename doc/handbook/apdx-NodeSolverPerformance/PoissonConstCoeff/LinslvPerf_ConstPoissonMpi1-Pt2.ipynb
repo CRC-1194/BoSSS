{
 "cells": [
  {
   "cell_type": "markdown",
   "metadata": {},
   "source": [
    "# Linear Solver Performance: Constant Coefficient Poisson, Single Core\n",
    "\n",
    "### Part 2, Evaluation"
   ]
  },
  {
   "cell_type": "code",
   "execution_count": null,
   "metadata": {
    "dotnet_interactive": {
     "language": "csharp"
    }
   },
   "outputs": [],
   "source": [
    "#r \"BoSSSpad.dll\"\n",
    "using System;\n",
    "using System.Collections.Generic;\n",
    "using System.Linq;\n",
    "using ilPSP;\n",
    "using ilPSP.Utils;\n",
    "using BoSSS.Platform;\n",
    "using BoSSS.Platform.LinAlg;\n",
    "using BoSSS.Foundation;\n",
    "using BoSSS.Foundation.XDG;\n",
    "using BoSSS.Foundation.Grid;\n",
    "using BoSSS.Foundation.Grid.Classic;\n",
    "using BoSSS.Foundation.Grid.RefElements;\n",
    "using BoSSS.Foundation.IO;\n",
    "using BoSSS.Solution;\n",
    "using BoSSS.Solution.Control;\n",
    "using BoSSS.Solution.GridImport;\n",
    "using BoSSS.Solution.Statistic;\n",
    "using BoSSS.Solution.Utils;\n",
    "using BoSSS.Solution.AdvancedSolvers;\n",
    "using BoSSS.Solution.Gnuplot;\n",
    "using BoSSS.Application.BoSSSpad;\n",
    "using BoSSS.Application.XNSE_Solver;\n",
    "using static BoSSS.Application.BoSSSpad.BoSSSshell;\n",
    "Init();"
   ]
  },
  {
   "cell_type": "code",
   "execution_count": null,
   "metadata": {
    "dotnet_interactive": {
     "language": "csharp"
    }
   },
   "outputs": [],
   "source": [
    "//var TT = typeof(Microsoft.DotNet.Interactive.Formatting.Formatter);\n",
    "//foreach(var s in TT.GetMethods().Select(mi => mi.Name).ToArray())\n",
    "//    Console.Write(s + \"   \");"
   ]
  },
  {
   "cell_type": "code",
   "execution_count": null,
   "metadata": {
    "dotnet_interactive": {
     "language": "csharp"
    }
   },
   "outputs": [],
   "source": [
    "wmg.Init(\"LinslvPerf_ConstPoissonMpi1\");\n",
    "wmg.SetNameBasedSessionJobControlCorrelation();"
   ]
  },
  {
   "cell_type": "code",
   "execution_count": null,
   "metadata": {
    "dotnet_interactive": {
     "language": "csharp"
    }
   },
   "outputs": [],
   "source": [
    "// Manually add database (e.g. when accessing the database of user `JenkinsCI` as some other, regular guy)\n",
    "//var tempDb = OpenOrCreateDatabase(@\"\\\\fdygitrunner\\ValidationTests\\LinslvPerf_ConstPoissonMpi1\");"
   ]
  },
  {
   "cell_type": "code",
   "execution_count": null,
   "metadata": {
    "dotnet_interactive": {
     "language": "csharp"
    }
   },
   "outputs": [],
   "source": [
    "databases"
   ]
  },
  {
   "cell_type": "code",
   "execution_count": null,
   "metadata": {},
   "outputs": [],
   "source": [
    "wmg.Sessions"
   ]
  },
  {
   "cell_type": "code",
   "execution_count": null,
   "metadata": {
    "dotnet_interactive": {
     "language": "csharp"
    }
   },
   "outputs": [],
   "source": [
    "using System.IO;\n",
    "using BoSSS.Application.SipPoisson;"
   ]
  },
  {
   "cell_type": "markdown",
   "metadata": {},
   "source": [
    "## Create Table for Post-Processing"
   ]
  },
  {
   "cell_type": "code",
   "execution_count": null,
   "metadata": {},
   "outputs": [],
   "source": [
    "// evaluators to add additional columns to the session table\n",
    "static class AddCols {\n",
    "    static public object XdgMatrixAssembly_time(ISessionInfo SI) {\n",
    "        var mcr = SI.GetProfiling()[0];\n",
    "        var ndS = mcr.FindChildren(\"MatrixAssembly\");\n",
    "        var nd  = ndS.ElementAt(0);\n",
    "        return nd.TimeSpentInMethod.TotalSeconds  / nd.CallCount;\n",
    "    }\n",
    "    static public object Aggregation_basis_init_time(ISessionInfo SI) {\n",
    "        var mcr = SI.GetProfiling()[0];\n",
    "        var ndS = mcr.FindChildren(\"Aggregation_basis_init\");\n",
    "        var nd  = ndS.ElementAt(0);\n",
    "        return nd.TimeSpentInMethod.TotalSeconds  / nd.CallCount;\n",
    "    }\n",
    "    static public object Solver_Init_time(ISessionInfo SI) {\n",
    "        var mcr = SI.GetProfiling()[0];\n",
    "        var ndS = mcr.FindChildren(\"Solver_Init\");\n",
    "        var nd  = ndS.ElementAt(0);\n",
    "        //Console.WriteLine(\"Number of nodes: \" + ndS.Count() + \" cc \" + nd.CallCount );\n",
    "        return nd.TimeSpentInMethod.TotalSeconds / nd.CallCount;\n",
    "    }\n",
    "    static public object Solver_Run_time(ISessionInfo SI) {\n",
    "        var mcr = SI.GetProfiling()[0];\n",
    "        var ndS = mcr.FindChildren(\"Solver_Run\");\n",
    "        var nd  = ndS.ElementAt(0);\n",
    "        return nd.TimeSpentInMethod.TotalSeconds  / nd.CallCount;\n",
    "    }\n",
    "    static public object NoOfCores(ISessionInfo SI){\n",
    "        return SI.GetProfiling().Length;\n",
    "        }\n",
    "}"
   ]
  },
  {
   "cell_type": "code",
   "execution_count": null,
   "metadata": {},
   "outputs": [],
   "source": [
    "wmg.AdditionalSessionTableColums.Clear();\n",
    "wmg.AdditionalSessionTableColums.Add(\"MatrixAssembly\", AddCols.XdgMatrixAssembly_time);\n",
    "wmg.AdditionalSessionTableColums.Add(\"Aggregation_basis_init_time\", AddCols.Aggregation_basis_init_time);\n",
    "wmg.AdditionalSessionTableColums.Add(\"Solver_Init_time\", AddCols.Solver_Init_time);\n",
    "wmg.AdditionalSessionTableColums.Add(\"Solver_Run_time\", AddCols.Solver_Run_time);\n",
    "wmg.AdditionalSessionTableColums.Add(\"NoOfCores\", AddCols.NoOfCores);"
   ]
  },
  {
   "cell_type": "code",
   "execution_count": null,
   "metadata": {},
   "outputs": [],
   "source": [
    "var SessTab = wmg.SessionTable;\n",
    "\n",
    "//// The Session column can't be serialized,\n",
    "//// we have to remove it\n",
    "//List<string> AllCols = FullSessTab.GetColumnNames().ToList();\n",
    "//AllCols.Remove(\"Session\");\n",
    "//FullSessTab = FullSessTab.ExtractColumns(AllCols.ToArray());"
   ]
  },
  {
   "cell_type": "markdown",
   "metadata": {},
   "source": [
    "Select those columns which are of interest:"
   ]
  },
  {
   "cell_type": "code",
   "execution_count": null,
   "metadata": {},
   "outputs": [],
   "source": [
    "var SubTab = SessTab.ExtractColumns(\n",
    "    \"SessionName\",\"DGdegree:T\", \"Grid:NoOfCells\", \"LinearSolver.SolverCode\", \"DOFs\", \"MatrixAssembly\",\n",
    "    \"Aggregation_basis_init_time\", \"Solver_Init_time\", \"Solver_Run_time\", \"NoIter\");"
   ]
  },
  {
   "cell_type": "code",
   "execution_count": null,
   "metadata": {
    "dotnet_interactive": {
     "language": "csharp"
    }
   },
   "outputs": [],
   "source": [
    "// Filename\n",
    "var now         = DateTime.Now;\n",
    "string docName  = wmg.CurrentProject + \"_\" + now.Year + \"-\" + now.Month + \"-\" + now.Day;\n",
    "SubTab.SaveToFile(docName + \".json\");\n",
    "SubTab.ToCSVFile(docName + \".csv\");"
   ]
  },
  {
   "cell_type": "code",
   "execution_count": null,
   "metadata": {
    "dotnet_interactive": {
     "language": "csharp"
    }
   },
   "outputs": [],
   "source": [
    "//SessTab.Print();"
   ]
  },
  {
   "cell_type": "markdown",
   "metadata": {
    "dotnet_interactive": {
     "language": "csharp"
    }
   },
   "source": [
    "## Vizualisation of Results"
   ]
  },
  {
   "cell_type": "code",
   "execution_count": null,
   "metadata": {
    "dotnet_interactive": {
     "language": "csharp"
    }
   },
   "outputs": [],
   "source": [
    "//SessTab.GetColumnNames()"
   ]
  },
  {
   "cell_type": "code",
   "execution_count": null,
   "metadata": {
    "dotnet_interactive": {
     "language": "csharp"
    }
   },
   "outputs": [],
   "source": [
    "//var SubTab = SubTab_2.ExtractColumns(\"SessionName\",\"DGdegree:T\", \"Grid:NoOfCells\", \"LinearSolver.SolverCode\", \"DOFs\", \"minSolRunT\", \"maxSolRunT\", \"NoIter\");"
   ]
  },
  {
   "cell_type": "markdown",
   "metadata": {},
   "source": [
    "The following data is available:"
   ]
  },
  {
   "cell_type": "code",
   "execution_count": null,
   "metadata": {
    "dotnet_interactive": {
     "language": "csharp"
    }
   },
   "outputs": [],
   "source": [
    "SubTab"
   ]
  },
  {
   "cell_type": "markdown",
   "metadata": {},
   "source": [
    "Available DG degrees:"
   ]
  },
  {
   "cell_type": "code",
   "execution_count": null,
   "metadata": {
    "dotnet_interactive": {
     "language": "csharp"
    }
   },
   "outputs": [],
   "source": [
    "var DGdegrees = SubTab.GetColumn<int>(\"DGdegree:T\").ToSet().OrderBy(s => s).ToArray();\n",
    "DGdegrees"
   ]
  },
  {
   "cell_type": "markdown",
   "metadata": {},
   "source": [
    "All used solvers:"
   ]
  },
  {
   "cell_type": "code",
   "execution_count": null,
   "metadata": {},
   "outputs": [],
   "source": [
    "SubTab.GetColumn<int>(\"LinearSolver.SolverCode\").ToSet().Select(i => (LinearSolverCode)i).ToArray()"
   ]
  },
  {
   "cell_type": "code",
   "execution_count": null,
   "metadata": {
    "dotnet_interactive": {
     "language": "csharp"
    }
   },
   "outputs": [],
   "source": [
    "//RuntimePlot.PlotNow();"
   ]
  },
  {
   "cell_type": "code",
   "execution_count": null,
   "metadata": {
    "dotnet_interactive": {
     "language": "csharp"
    }
   },
   "outputs": [],
   "source": [
    "//var cl = RuntimePlot.ToGnuplot().PlotCairolatex();\n",
    "//cl.Preview(trimPage:true);"
   ]
  },
  {
   "cell_type": "code",
   "execution_count": null,
   "metadata": {
    "dotnet_interactive": {
     "language": "csharp"
    }
   },
   "outputs": [],
   "source": [
    "//cl.WriteMinimalCompileableExample(\"C:\\\\tmp\\\\mini.tex\");"
   ]
  },
  {
   "cell_type": "code",
   "execution_count": null,
   "metadata": {
    "dotnet_interactive": {
     "language": "csharp"
    }
   },
   "outputs": [],
   "source": [
    "//using SolverCodes = BoSSS.Solution.Control.LinearSolverConfig.Code;"
   ]
  },
  {
   "cell_type": "code",
   "execution_count": null,
   "metadata": {
    "dotnet_interactive": {
     "language": "csharp"
    }
   },
   "outputs": [],
   "source": [
    "int rows    = DGdegrees.Length;\n",
    "int columns = 1;\n",
    "//LinearSolverCode[] ignore_solvers = {LinearSolverCode.classic_pardiso, LinearSolverCode.classic_cg, LinearSolverCode.exp_softpcg_schwarz, LinearSolverConfig.Code.exp_direct_lapack};\n",
    "LinearSolverCode[] ignore_solvers = {};\n",
    "Plot2Ddata[,] multiplots = new Plot2Ddata[rows,columns];\n",
    "int pDegree = 0;\n",
    "for(int iRow = 0; iRow < rows; iRow++) {\n",
    "for(int iCol = 0; iCol < columns; iCol++) {\n",
    "    \n",
    "    if(pDegree > rows*columns-1)\n",
    "        continue;\n",
    "    int tmpDG = -1;\n",
    "    if(pDegree < DGdegrees.Length)\n",
    "        tmpDG = DGdegrees[pDegree];\n",
    "    \n",
    "    //Create Graphs\n",
    "    multiplots[iRow,iCol] = SubTab.ToPlot(\"DOFs\", \"Solver_Run_time\", // column for x- and y\n",
    "       delegate (int iTabRow, \n",
    "                 IDictionary<string, object> Row, \n",
    "                 out string Nmn, \n",
    "                 out PlotFormat Fmt) { \n",
    "           // - - - - - - - - - - - - - - - - - - - - - - - - \n",
    "           // PlotRowSelector:\n",
    "           // selects, which table row goes to which graph,\n",
    "           // and the respective color  \n",
    "           // - - - - - - - - - - - - - - - - - - - - - - - - \n",
    "           int k = Convert.ToInt32(Row[\"DGdegree:T\"]);\n",
    "           if(k != tmpDG) {\n",
    "                // degree does not match -> not in this plot\n",
    "                Nmn = null;\n",
    "                Fmt = null;\n",
    "                return;\n",
    "           }\n",
    " \n",
    "           LinearSolverCode solver_name = (LinearSolverCode)Convert.ToInt32(Row[\"LinearSolver.SolverCode\"]);\n",
    "           //ignore the solvers specified in ingore_solvers\n",
    "           foreach(LinearSolverCode sc in ignore_solvers){\n",
    "               if(solver_name==sc){\n",
    "                   System.Console.WriteLine(\"skipped\");\n",
    "                   Nmn = null;\n",
    "                   Fmt = null;\n",
    "               return;\n",
    "               }\n",
    "           }\n",
    "           \n",
    "           // ===!!!=== CAUTION ===!!!===\n",
    "           // Solverframework (SolverEnum numbers) have changed! Please check LinearSolver and NonLinearSolver for details\n",
    "           \n",
    "           //process the other solvers\n",
    "           Fmt = new PlotFormat();\n",
    "           switch(solver_name) {\n",
    "           case LinearSolverCode.classic_pardiso: \n",
    "               Nmn           = \"Pardiso\"; \n",
    "               Fmt.PointType = PointTypes.OpenCircle;\n",
    "               Fmt.DashType  = DashTypes.Dotted;\n",
    "               break;\n",
    "           case LinearSolverCode.exp_gmres_levelpmg: \n",
    "               Nmn           = \"GMRES w. pTG\"; \n",
    "               Fmt.PointType = PointTypes.Box;\n",
    "               break;\n",
    "           case LinearSolverCode.exp_Kcycle_schwarz: \n",
    "               Nmn           = \"Kcycle w. add.-Schwarz\"; \n",
    "               Fmt.PointType = PointTypes.LowerTriangle;\n",
    "               break;\n",
    "           default:\n",
    "               Console.WriteLine(\"unknown: \" + solver_name); \n",
    "               Nmn = \"unknown\";\n",
    "               break;\n",
    "           } \n",
    "           //Console.WriteLine(\"name is: \" + solver_name); \n",
    "           Fmt.PointSize = 0.5;\n",
    "           Fmt.Style     = Styles.LinesPoints;\n",
    "           Fmt.LineColor = LineColors.Black;\n",
    "           Fmt.LineWidth = 3;\n",
    "       });\n",
    "    \n",
    "       double[] dof = new[]{1e3,1e6};\n",
    "       double[] linT = dof.Select(x => x*0.001).ToArray();\n",
    "       var linP = new Plot2Ddata.XYvalues(\"linear\", dof, linT);\n",
    "       linP.Format.FromString(\"- black\");\n",
    "       ArrayTools.AddToArray(linP, ref multiplots[iRow,iCol].dataGroups);\n",
    " \n",
    "       //all about axis\n",
    "       string Title = string.Format(\"$k = {0}$\", tmpDG);\n",
    "       multiplots[iRow,iCol].Ylabel = Title;\n",
    "       multiplots[iRow,iCol].LogX = true;\n",
    "       multiplots[iRow,iCol].LogY = true;\n",
    "    \n",
    "       //specify range of axis\n",
    "       multiplots[iRow,iCol].YrangeMin = 1e-2;\n",
    "       multiplots[iRow,iCol].YrangeMax = 1e+4;\n",
    "       multiplots[iRow,iCol].XrangeMin = 1e2;\n",
    "       multiplots[iRow,iCol].XrangeMax = 1e7;\n",
    "    \n",
    "       //multiplots[iRow,iCol].Y2rangeMin = 1e-3;\n",
    "       //multiplots[iRow,iCol].Y2rangeMax = 1e+4;\n",
    "       //multiplots[iRow,iCol].X2rangeMin = 1e2;\n",
    "       //multiplots[iRow,iCol].X2rangeMax = 1e7;\n",
    "    \n",
    "       //spacing around plots\n",
    "       multiplots[iRow,iCol].ShowLegend = false;\n",
    "       multiplots[iRow,iCol].tmargin = 0;\n",
    "       multiplots[iRow,iCol].bmargin = 2;\n",
    "       multiplots[iRow,iCol].lmargin = 20;\n",
    "       //multiplots[iRow,iCol].rmargin = 5;\n",
    "       multiplots[iRow,iCol].ShowXtics = false;\n",
    "\n",
    "       //I am legend ...\n",
    "       if(iRow == 0) {\n",
    "          multiplots[iRow,iCol].ShowLegend = true;\n",
    "          multiplots[iRow,iCol].LegendAlignment = new string[]{\"i\",\"t\",\"l\"};\n",
    "          //multiplots[iRow,iCol].LegendSwap  = true;\n",
    "       }\n",
    "       //and i am special ...\n",
    "       if(iRow == rows - 1)\n",
    "           multiplots[iRow,iCol].ShowXtics = true;\n",
    "    pDegree++;\n",
    "}                        \n",
    "}\n",
    "multiplots.PlotCairolatex().WriteMinimalCompileableExample(\"latex/solvers.tex\");\n",
    "//multiplots.AddDummyPlotsForLegend(3,0);\n",
    "multiplots.PlotNow()"
   ]
  },
  {
   "cell_type": "code",
   "execution_count": null,
   "metadata": {
    "dotnet_interactive": {
     "language": "csharp"
    }
   },
   "outputs": [],
   "source": []
  },
  {
   "cell_type": "code",
   "execution_count": null,
   "metadata": {},
   "outputs": [],
   "source": []
  }
 ],
 "metadata": {
  "kernelspec": {
   "display_name": ".NET (C#)",
   "language": "C#",
   "name": ".net-csharp"
  },
  "language_info": {
   "file_extension": ".cs",
   "mimetype": "text/x-csharp",
   "name": "C#",
   "pygments_lexer": "csharp",
   "version": "9.0"
  }
 },
 "nbformat": 4,
 "nbformat_minor": 4
}
