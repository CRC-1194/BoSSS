{
  "cells": [
    {
      "cell_type": "code",
      "execution_count": null,
      "metadata": {
        "dotnet_interactive": {
          "language": "csharp"
        }
      },
      "outputs": [],
      "source": [
        "#r \"BoSSSpad.dll\"\n",
        "using System;\n",
        "using System.Collections.Generic;\n",
        "using System.Linq;\n",
        "using ilPSP;\n",
        "using ilPSP.Utils;\n",
        "using BoSSS.Platform;\n",
        "using BoSSS.Platform.LinAlg;\n",
        "using BoSSS.Foundation;\n",
        "using BoSSS.Foundation.XDG;\n",
        "using BoSSS.Foundation.Grid;\n",
        "using BoSSS.Foundation.Grid.Classic;\n",
        "using BoSSS.Foundation.Grid.RefElements;\n",
        "using BoSSS.Foundation.IO;\n",
        "using BoSSS.Solution;\n",
        "using BoSSS.Solution.Control;\n",
        "using BoSSS.Solution.GridImport;\n",
        "using BoSSS.Solution.Statistic;\n",
        "using BoSSS.Solution.Utils;\n",
        "using BoSSS.Solution.AdvancedSolvers;\n",
        "using BoSSS.Solution.Gnuplot;\n",
        "using BoSSS.Application.BoSSSpad;\n",
        "using BoSSS.Application.XNSE_Solver;\n",
        "using static BoSSS.Application.BoSSSpad.BoSSSshell;\n",
        "Init();\n"
      ]
    },
    {
      "cell_type": "code",
      "execution_count": null,
      "metadata": {
        "dotnet_interactive": {
          "language": "csharp"
        }
      },
      "outputs": [],
      "source": [
        "var tmpDB = OpenOrCreateDatabase(@\"\\\\fdygitrunner\\ValidationTests\\LinslvPerf_ConstPoissonMpi1\");"
      ]
    },
    {
      "cell_type": "code",
      "execution_count": null,
      "metadata": {
        "dotnet_interactive": {
          "language": "csharp"
        }
      },
      "outputs": [],
      "source": [
        "tmpDB.Sessions"
      ]
    },
    {
      "cell_type": "code",
      "execution_count": null,
      "metadata": {
        "dotnet_interactive": {
          "language": "csharp"
        }
      },
      "outputs": [],
      "source": [
        "var Fails = tmpDB.Sessions.Where((ISessionInfo si) => !si.SuccessfulTermination).ToArray();\n",
        "Fails"
      ]
    },
    {
      "cell_type": "code",
      "execution_count": null,
      "metadata": {
        "dotnet_interactive": {
          "language": "csharp"
        }
      },
      "outputs": [],
      "source": [
        "Fails[0].GetSessionDirectory()"
      ]
    },
    {
      "cell_type": "code",
      "execution_count": null,
      "metadata": {},
      "outputs": [],
      "source": [
        "Fails[0].DeployPath"
      ]
    },
    {
      "cell_type": "code",
      "execution_count": null,
      "metadata": {
        "dotnet_interactive": {
          "language": "csharp"
        }
      },
      "outputs": [],
      "source": [
        "tmpDB.Sessions.Pick(0).Actions()"
      ]
    },
    {
      "cell_type": "code",
      "execution_count": null,
      "metadata": {
        "dotnet_interactive": {
          "language": "csharp"
        }
      },
      "outputs": [],
      "source": [
        "//tmpDB.Sessions.Where(s=>!s.SuccessfulTermination).ForEach(s=>s.ProjectName=\"SIM_Multicore_HHLR_overtime\")"
      ]
    },
    {
      "cell_type": "code",
      "execution_count": null,
      "metadata": {
        "dotnet_interactive": {
          "language": "csharp"
        }
      },
      "outputs": [],
      "source": []
    },
    {
      "cell_type": "code",
      "execution_count": null,
      "metadata": {
        "dotnet_interactive": {
          "language": "csharp"
        }
      },
      "outputs": [],
      "source": [
        "string WFlowName = \"run0\";\n",
        "WorkflowMgm.Init(WFlowName);\n",
        "WorkflowMgm.AllJobs;"
      ]
    },
    {
      "cell_type": "code",
      "execution_count": null,
      "metadata": {
        "dotnet_interactive": {
          "language": "csharp"
        }
      },
      "outputs": [],
      "source": [
        "WorkflowMgm.Sessions"
      ]
    },
    {
      "cell_type": "code",
      "execution_count": null,
      "metadata": {
        "dotnet_interactive": {
          "language": "csharp"
        }
      },
      "outputs": [],
      "source": [
        "WorkflowMgm.SessionTable.Rows.Count;"
      ]
    },
    {
      "cell_type": "code",
      "execution_count": null,
      "metadata": {
        "dotnet_interactive": {
          "language": "csharp"
        }
      },
      "outputs": [],
      "source": [
        "using System.IO;"
      ]
    },
    {
      "cell_type": "code",
      "execution_count": null,
      "metadata": {
        "dotnet_interactive": {
          "language": "csharp"
        }
      },
      "outputs": [],
      "source": [
        "DirectoryInfo dir = Directory.CreateDirectory(CurrentDocDir+@\"\\\"+WFlowName);\n",
        "string dirpath    = dir.FullName;"
      ]
    },
    {
      "cell_type": "code",
      "execution_count": null,
      "metadata": {
        "dotnet_interactive": {
          "language": "csharp"
        }
      },
      "outputs": [],
      "source": [
        "static class AddCols {\n",
        "    static public object XdgMatrixAssembly_time(ISessionInfo SI) {\n",
        "        var mcr = SI.GetProfiling()[0];\n",
        "        var ndS = mcr.FindChildren(\"SipMatrixAssembly\");\n",
        "        var nd  = ndS.ElementAt(0);\n",
        "        return nd.TimeSpentInMethod.TotalSeconds  / nd.CallCount;\n",
        "    }\n",
        "    static public object Aggregation_basis_init_time(ISessionInfo SI) {\n",
        "        var mcr = SI.GetProfiling()[0];\n",
        "        var ndS = mcr.FindChildren(\"Aggregation_basis_init\");\n",
        "        var nd  = ndS.ElementAt(0);\n",
        "        return nd.TimeSpentInMethod.TotalSeconds  / nd.CallCount;\n",
        "    }\n",
        "    static public object Solver_Init_time(ISessionInfo SI) {\n",
        "        var mcr = SI.GetProfiling()[0];\n",
        "        var ndS = mcr.FindChildren(\"Solver_Init\");\n",
        "        var nd  = ndS.ElementAt(0);\n",
        "        //Console.WriteLine(\"Number of nodes: \" + ndS.Count() + \" cc \" + nd.CallCount );\n",
        "        return nd.TimeSpentInMethod.TotalSeconds / nd.CallCount;\n",
        "    }\n",
        "    static public object Solver_Run_time(ISessionInfo SI) {\n",
        "        var mcr = SI.GetProfiling()[0];\n",
        "        var ndS = mcr.FindChildren(\"Solver_Run\");\n",
        "        var nd  = ndS.ElementAt(0);\n",
        "        return nd.TimeSpentInMethod.TotalSeconds  / nd.CallCount;\n",
        "    }\n",
        "    static public object NoOfCores(ISessionInfo SI){\n",
        "        return SI.GetProfiling().Length;\n",
        "        }\n",
        "}"
      ]
    },
    {
      "cell_type": "code",
      "execution_count": null,
      "metadata": {
        "dotnet_interactive": {
          "language": "csharp"
        }
      },
      "outputs": [],
      "source": [
        "WorkflowMgm.AdditionalSessionTableColums.Clear();\n",
        "WorkflowMgm.AdditionalSessionTableColums.Add(\n",
        "    \"MatrixAssembly\", AddCols.XdgMatrixAssembly_time);\n",
        "WorkflowMgm.AdditionalSessionTableColums.Add(\n",
        "    \"Aggregation_basis_init_time\", AddCols.Aggregation_basis_init_time);\n",
        "WorkflowMgm.AdditionalSessionTableColums.Add(\n",
        "    \"Solver_Init_time\", AddCols.Solver_Init_time);\n",
        "WorkflowMgm.AdditionalSessionTableColums.Add(\n",
        "    \"Solver_Run_time\", AddCols.Solver_Run_time);\n",
        "WorkflowMgm.AdditionalSessionTableColums.Add(\n",
        "    \"NoOfCores\", AddCols.NoOfCores);"
      ]
    },
    {
      "cell_type": "code",
      "execution_count": null,
      "metadata": {
        "dotnet_interactive": {
          "language": "csharp"
        }
      },
      "outputs": [],
      "source": [
        "var SessTab = WorkflowMgm.SessionTable;"
      ]
    },
    {
      "cell_type": "code",
      "execution_count": null,
      "metadata": {
        "dotnet_interactive": {
          "language": "csharp"
        }
      },
      "outputs": [],
      "source": [
        "SessTab.GetColumnNames().OrderBy(s=>s);"
      ]
    },
    {
      "cell_type": "code",
      "execution_count": null,
      "metadata": {
        "dotnet_interactive": {
          "language": "csharp"
        }
      },
      "outputs": [],
      "source": []
    },
    {
      "cell_type": "code",
      "execution_count": null,
      "metadata": {
        "dotnet_interactive": {
          "language": "csharp"
        }
      },
      "outputs": [],
      "source": [
        "// The Session column can't be serialized,\n",
        "// we have to remove it\n",
        "List<string> AllCols = SessTab.GetColumnNames().ToList();\n",
        "AllCols.Remove(\"Session\");"
      ]
    },
    {
      "cell_type": "code",
      "execution_count": null,
      "metadata": {
        "dotnet_interactive": {
          "language": "csharp"
        }
      },
      "outputs": [],
      "source": [
        "SessTab = SessTab.ExtractColumns(AllCols.ToArray());"
      ]
    },
    {
      "cell_type": "code",
      "execution_count": null,
      "metadata": {
        "dotnet_interactive": {
          "language": "csharp"
        }
      },
      "outputs": [],
      "source": []
    },
    {
      "cell_type": "code",
      "execution_count": null,
      "metadata": {
        "dotnet_interactive": {
          "language": "csharp"
        }
      },
      "outputs": [],
      "source": [
        "// Filename\n",
        "var now           = DateTime.Now;\n",
        "SessTab.TableName = WFlowName + \"_\" + now.Year + \"-\" + now.Month + \"-\" + now.Day;\n",
        "string docpath    = Path.Combine(dirpath, SessTab.TableName + \".json\");"
      ]
    },
    {
      "cell_type": "code",
      "execution_count": null,
      "metadata": {
        "dotnet_interactive": {
          "language": "csharp"
        }
      },
      "outputs": [],
      "source": [
        "SessTab.SaveToFile(docpath);"
      ]
    },
    {
      "cell_type": "code",
      "execution_count": null,
      "metadata": {
        "dotnet_interactive": {
          "language": "csharp"
        }
      },
      "outputs": [],
      "source": [
        "docpath"
      ]
    },
    {
      "cell_type": "code",
      "execution_count": null,
      "metadata": {
        "dotnet_interactive": {
          "language": "csharp"
        }
      },
      "outputs": [],
      "source": [
        "var CleanTab = SessTab.ExtractRows(delegate(int i, IDictionary<string,object> row) {\n",
        "    return (Convert.ToBoolean(row[\"RegularTerminated\"]) == true)\n",
        "          && (Convert.ToInt32(row[\"Conv\"]) != 0);\n",
        "    });"
      ]
    },
    {
      "cell_type": "code",
      "execution_count": null,
      "metadata": {
        "dotnet_interactive": {
          "language": "csharp"
        }
      },
      "outputs": [],
      "source": [
        "var SubTab = CleanTab.ExtractColumns(\"SessionName\",\"DGdegree:T\", \"Grid:NoOfCells\", \"LinearSolver.SolverCode\", \"DOFs\", \"MatrixAssembly\",\n",
        "\"Aggregation_basis_init_time\",\n",
        "\"Solver_Init_time\",\n",
        "\"Solver_Run_time\", \"NoIter\");"
      ]
    },
    {
      "cell_type": "code",
      "execution_count": null,
      "metadata": {
        "dotnet_interactive": {
          "language": "csharp"
        }
      },
      "outputs": [],
      "source": [
        "SubTab.Print();"
      ]
    },
    {
      "cell_type": "code",
      "execution_count": null,
      "metadata": {
        "dotnet_interactive": {
          "language": "csharp"
        }
      },
      "outputs": [],
      "source": [
        "SubTab.ToCSVFile(dirpath+@\"\\\"+WFlowName+\"_scaling.txt\");"
      ]
    },
    {
      "cell_type": "code",
      "execution_count": null,
      "metadata": {
        "dotnet_interactive": {
          "language": "csharp"
        }
      },
      "outputs": [],
      "source": [
        "var SubTab2 = CleanTab.ExtractColumns(\"DGdegree:u\", \"Grid:NoOfCells\", \"LinearSolver.SolverCode\", \"DOFs\", \n",
        "              \"minSolRunT\",\"UsedNoOfMultigridLevels\",\n",
        "              \"SipMatrixAssembly\", \"Aggregation_basis_init_time\", \"Solver_Init_time\", \"Solver_Run_time\");"
      ]
    },
    {
      "cell_type": "code",
      "execution_count": null,
      "metadata": {
        "dotnet_interactive": {
          "language": "csharp"
        }
      },
      "outputs": [],
      "source": [
        "//var SubTab2 = CleanTab.ExtractColumns(\"DGdegree:T\", \"Grid:NoOfCells\", \"LinearSolver.SolverCode\", \"DOFs\",\"minSolRunT\",\"SipMatrixAssembly\", \"Aggregation_basis_init_time\", \"Solver_Init_time\", \"Solver_Run_time\");"
      ]
    },
    {
      "cell_type": "code",
      "execution_count": null,
      "metadata": {
        "dotnet_interactive": {
          "language": "csharp"
        }
      },
      "outputs": [],
      "source": [
        "SubTab2.Print();"
      ]
    },
    {
      "cell_type": "code",
      "execution_count": null,
      "metadata": {
        "dotnet_interactive": {
          "language": "csharp"
        }
      },
      "outputs": [],
      "source": [
        "SubTab2.ToCSVFile(dirpath+@\"\\\"+WFlowName+\"_profiling.txt\");"
      ]
    }
  ],
  "metadata": {
    "kernelspec": {
      "display_name": ".NET (C#)",
      "language": "C#",
      "name": ".net-csharp"
    },
    "language_info": {
      "file_extension": ".cs",
      "mimetype": "text/x-csharp",
      "name": "C#",
      "pygments_lexer": "csharp",
      "version": "8.0"
    }
  },
  "nbformat": 4,
  "nbformat_minor": 4
}
