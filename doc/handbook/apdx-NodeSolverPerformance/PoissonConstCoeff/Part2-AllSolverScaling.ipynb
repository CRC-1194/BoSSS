{
  "cells": [
    {
      "cell_type": "markdown",
      "metadata": {},
      "source": [
        "# Linear Solver Performance: Constant Coefficient Poisson, Single Core\n",
        "\n",
        "### Part 2, Evaluation"
      ]
    },
    {
      "cell_type": "code",
      "execution_count": null,
      "metadata": {
        "dotnet_interactive": {
          "language": "csharp"
        }
      },
      "outputs": [
        {
          "name": "stdout",
          "output_type": "stream",
          "text": [
            "Using gnuplot: C:\\Program Files (x86)\\FDY\\BoSSS\\bin\\native\\win\\gnuplot-gp510-20160418-win32-mingw\\gnuplot\\bin\\gnuplot.exe\r\n",
            "Databases loaded: \r\n",
            "Capacity: 4\r\n",
            "Count: 1\r\n",
            "\r\n"
          ]
        },
        {
          "ename": "Error",
          "evalue": "System.ApplicationException: Already called.\r\n   at BoSSS.Application.BoSSSpad.BoSSSshell.InitTraceFile() in C:\\Users\\flori\\Documents\\BoSSS-NET5\\public\\src\\L4-application\\BoSSSpad\\BoSSSshell.cs:line 157\r\n   at BoSSS.Application.BoSSSpad.BoSSSshell.Init() in C:\\Users\\flori\\Documents\\BoSSS-NET5\\public\\src\\L4-application\\BoSSSpad\\BoSSSshell.cs:line 97\r\n   at Submission#6.<<Initialize>>d__0.MoveNext()\r\n--- End of stack trace from previous location ---\r\n   at Microsoft.CodeAnalysis.Scripting.ScriptExecutionState.RunSubmissionsAsync[TResult](ImmutableArray`1 precedingExecutors, Func`2 currentExecutor, StrongBox`1 exceptionHolderOpt, Func`2 catchExceptionOpt, CancellationToken cancellationToken)",
          "output_type": "error",
          "traceback": [
            "System.ApplicationException: Already called.\r\n",
            "   at BoSSS.Application.BoSSSpad.BoSSSshell.InitTraceFile() in C:\\Users\\flori\\Documents\\BoSSS-NET5\\public\\src\\L4-application\\BoSSSpad\\BoSSSshell.cs:line 157\r\n",
            "   at BoSSS.Application.BoSSSpad.BoSSSshell.Init() in C:\\Users\\flori\\Documents\\BoSSS-NET5\\public\\src\\L4-application\\BoSSSpad\\BoSSSshell.cs:line 97\r\n",
            "   at Submission#6.<<Initialize>>d__0.MoveNext()\r\n",
            "--- End of stack trace from previous location ---\r\n",
            "   at Microsoft.CodeAnalysis.Scripting.ScriptExecutionState.RunSubmissionsAsync[TResult](ImmutableArray`1 precedingExecutors, Func`2 currentExecutor, StrongBox`1 exceptionHolderOpt, Func`2 catchExceptionOpt, CancellationToken cancellationToken)"
          ]
        }
      ],
      "source": [
        "#r \"BoSSSpad.dll\"\n",
        "using System;\n",
        "using System.Collections.Generic;\n",
        "using System.Linq;\n",
        "using ilPSP;\n",
        "using ilPSP.Utils;\n",
        "using BoSSS.Platform;\n",
        "using BoSSS.Platform.LinAlg;\n",
        "using BoSSS.Foundation;\n",
        "using BoSSS.Foundation.XDG;\n",
        "using BoSSS.Foundation.Grid;\n",
        "using BoSSS.Foundation.Grid.Classic;\n",
        "using BoSSS.Foundation.Grid.RefElements;\n",
        "using BoSSS.Foundation.IO;\n",
        "using BoSSS.Solution;\n",
        "using BoSSS.Solution.Control;\n",
        "using BoSSS.Solution.GridImport;\n",
        "using BoSSS.Solution.Statistic;\n",
        "using BoSSS.Solution.Utils;\n",
        "using BoSSS.Solution.AdvancedSolvers;\n",
        "using BoSSS.Solution.Gnuplot;\n",
        "using BoSSS.Application.BoSSSpad;\n",
        "using BoSSS.Application.XNSE_Solver;\n",
        "using static BoSSS.Application.BoSSSpad.BoSSSshell;\n",
        "Init();\n"
      ]
    },
    {
      "cell_type": "code",
      "execution_count": null,
      "metadata": {
        "dotnet_interactive": {
          "language": "csharp"
        }
      },
      "outputs": [
        {
          "name": "stdout",
          "output_type": "stream",
          "text": [
            "Project name is set to 'LinslvPerf_ConstPoissonMpi1'.\r\n",
            "Opening existing database 'C:\\BoSSS-Databases\\LinslvPerf_ConstPoissonMpi1'.\r\n"
          ]
        }
      ],
      "source": [
        "wmg.Init(\"LinslvPerf_ConstPoissonMpi1\");\n",
        "wmg.SetNameBasedSessionJobControlCorrelation();"
      ]
    },
    {
      "cell_type": "code",
      "execution_count": null,
      "metadata": {
        "dotnet_interactive": {
          "language": "csharp"
        }
      },
      "outputs": [
        {
          "data": {
            "text/plain": [
              "#0: LinslvPerf_ConstPoissonMpi1\tSIP_J163840_k2_exp_Kcycle_schwarz*\t11/04/2021 13:20:57\tfe6c522a...\r\n",
              "#1: LinslvPerf_ConstPoissonMpi1\tSIP_J20480_k3_exp_Kcycle_schwarz*\t11/04/2021 13:23:57\t9760247c...\r\n",
              "#2: LinslvPerf_ConstPoissonMpi1\tSIP_J69120_k2_exp_Kcycle_schwarz*\t11/04/2021 13:20:57\td9b46a23...\r\n",
              "#3: LinslvPerf_ConstPoissonMpi1\tSIP_J2560_k3_exp_Kcycle_schwarz\t11/04/2021 13:23:12\t8097a856...\r\n",
              "#4: LinslvPerf_ConstPoissonMpi1\tSIP_J320_k3_exp_Kcycle_schwarz\t11/04/2021 13:22:42\t19f8405e...\r\n",
              "#5: LinslvPerf_ConstPoissonMpi1\tSIP_J20480_k2_exp_Kcycle_schwarz\t11/04/2021 13:20:12\tba129b77...\r\n",
              "#6: LinslvPerf_ConstPoissonMpi1\tSIP_J2560_k2_exp_Kcycle_schwarz\t11/04/2021 13:20:12\t99ed65f4...\r\n",
              "#7: LinslvPerf_ConstPoissonMpi1\tSIP_J69120_k5_classic_pardiso*\t11/04/2021 13:16:28\t7747872b...\r\n",
              "#8: LinslvPerf_ConstPoissonMpi1\tSIP_J320_k2_exp_Kcycle_schwarz\t11/04/2021 13:19:42\t728846d2...\r\n",
              "#9: LinslvPerf_ConstPoissonMpi1\tSIP_J69120_k2_classic_pardiso\t11/04/2021 13:06:34\tbc397a65...\r\n",
              "#10: LinslvPerf_ConstPoissonMpi1\tSIP_J163840_k3_classic_pardiso*\t11/04/2021 13:07:34\t98e44b22...\r\n",
              "#11: LinslvPerf_ConstPoissonMpi1\tSIP_J20480_k5_classic_pardiso*\t11/04/2021 13:15:30\t19b28f39...\r\n",
              "#12: LinslvPerf_ConstPoissonMpi1\tSIP_J20480_k3_classic_pardiso\t11/04/2021 13:07:04\t1f7603b0...\r\n",
              "#13: LinslvPerf_ConstPoissonMpi1\tSIP_J163840_k2_classic_pardiso*\t11/04/2021 13:06:34\t4758fc3a...\r\n",
              "#14: LinslvPerf_ConstPoissonMpi1\tSIP_J2560_k5_classic_pardiso\t11/04/2021 13:09:19\t599ce7b0...\r\n",
              "#15: LinslvPerf_ConstPoissonMpi1\tSIP_J69120_k3_classic_pardiso*\t11/04/2021 13:07:04\t72823ef4...\r\n",
              "#16: LinslvPerf_ConstPoissonMpi1\tSIP_J320_k5_classic_pardiso\t11/04/2021 13:08:34\t91f6a113...\r\n",
              "#17: LinslvPerf_ConstPoissonMpi1\tSIP_J20480_k2_classic_pardiso\t11/04/2021 13:06:34\t97c8a5de...\r\n",
              "#18: LinslvPerf_ConstPoissonMpi1\tSIP_J2560_k3_classic_pardiso\t11/04/2021 13:06:49\t4916f8a7...\r\n",
              "#19: LinslvPerf_ConstPoissonMpi1\tSIP_J2560_k2_classic_pardiso\t11/04/2021 13:06:34\tbbbba13f...\r\n",
              "#20: LinslvPerf_ConstPoissonMpi1\tSIP_J320_k3_classic_pardiso\t11/04/2021 13:06:34\t03280d19...\r\n",
              "#21: LinslvPerf_ConstPoissonMpi1\tSIP_J320_k2_classic_pardiso\t11/04/2021 13:06:24\t31378dba...\r\n"
            ]
          },
          "metadata": {},
          "output_type": "display_data"
        }
      ],
      "source": [
        "wmg.Sessions"
      ]
    },
    {
      "cell_type": "code",
      "execution_count": null,
      "metadata": {
        "dotnet_interactive": {
          "language": "csharp"
        }
      },
      "outputs": [],
      "source": [
        "using System.IO;\n",
        "using BoSSS.Application.SipPoisson;"
      ]
    },
    {
      "cell_type": "code",
      "execution_count": 1,
      "metadata": {
        "dotnet_interactive": {
          "language": "csharp"
        }
      },
      "outputs": [],
      "source": [
        "string dateString = \"2020-10-23\";\n",
        "string File       = \"SolverRuns--\" + dateString + \".json\";\n",
        "string FilePath   = Path.Combine(CurrentDocDir, File);\n",
        "var SessTab       = TableExtensions.LoadFromFile(FilePath);"
      ]
    },
    {
      "cell_type": "code",
      "execution_count": 1,
      "metadata": {
        "dotnet_interactive": {
          "language": "csharp"
        }
      },
      "outputs": [],
      "source": [
        "//SessTab.Print();"
      ]
    },
    {
      "cell_type": "code",
      "execution_count": 1,
      "metadata": {
        "dotnet_interactive": {
          "language": "csharp"
        }
      },
      "outputs": [],
      "source": [
        "// ====================\n",
        "// Evaluation, plotting\n",
        "// ===================="
      ]
    },
    {
      "cell_type": "code",
      "execution_count": 1,
      "metadata": {
        "dotnet_interactive": {
          "language": "csharp"
        }
      },
      "outputs": [],
      "source": [
        "SessTab.GetColumnNames();"
      ]
    },
    {
      "cell_type": "code",
      "execution_count": 1,
      "metadata": {
        "dotnet_interactive": {
          "language": "csharp"
        }
      },
      "outputs": [],
      "source": [
        "var SubTab_1 = SessTab.ExtractColumns(\"SessionName\",\"DGdegree:T\", \"Grid:NoOfCells\", \"LinearSolver.SolverCode\", \"DOFs\", \"minSolRunT\", \"maxSolRunT\", \"NoIter\", \"RegularTerminated\", \"Conv\",\"MatrixAssembly\",\"Aggregation_basis_init_time\",\"Solver_Init_time\",\"Solver_Run_time\",\"BlockSize\");"
      ]
    },
    {
      "cell_type": "code",
      "execution_count": 1,
      "metadata": {
        "dotnet_interactive": {
          "language": "csharp"
        }
      },
      "outputs": [],
      "source": [
        "var SubTab_2 = SubTab_1.ExtractRows(delegate(int i, IDictionary<string,object> row) {\n",
        "    return (Convert.ToBoolean(row[\"RegularTerminated\"]) == true)\n",
        "          && (Convert.ToInt32(row[\"Conv\"]) != 0);\n",
        "    });"
      ]
    },
    {
      "cell_type": "code",
      "execution_count": 1,
      "metadata": {
        "dotnet_interactive": {
          "language": "csharp"
        }
      },
      "outputs": [],
      "source": [
        "var SubTab = SubTab_2.ExtractColumns(\"SessionName\",\"DGdegree:T\", \"Grid:NoOfCells\", \"LinearSolver.SolverCode\", \"DOFs\", \"minSolRunT\", \"maxSolRunT\", \"NoIter\");"
      ]
    },
    {
      "cell_type": "code",
      "execution_count": 1,
      "metadata": {
        "dotnet_interactive": {
          "language": "csharp"
        }
      },
      "outputs": [],
      "source": [
        "SubTab.Print();"
      ]
    },
    {
      "cell_type": "code",
      "execution_count": 1,
      "metadata": {
        "dotnet_interactive": {
          "language": "csharp"
        }
      },
      "outputs": [],
      "source": [
        "//Extract to excel-File\n",
        "SubTab_2.Print();\n",
        "//SubTab_2.ToCSVFile(WFlowName);"
      ]
    },
    {
      "cell_type": "code",
      "execution_count": 1,
      "metadata": {
        "dotnet_interactive": {
          "language": "csharp"
        }
      },
      "outputs": [],
      "source": []
    },
    {
      "cell_type": "code",
      "execution_count": 1,
      "metadata": {
        "dotnet_interactive": {
          "language": "csharp"
        }
      },
      "outputs": [],
      "source": []
    },
    {
      "cell_type": "code",
      "execution_count": 1,
      "metadata": {
        "dotnet_interactive": {
          "language": "csharp"
        }
      },
      "outputs": [],
      "source": []
    },
    {
      "cell_type": "code",
      "execution_count": 1,
      "metadata": {
        "dotnet_interactive": {
          "language": "csharp"
        }
      },
      "outputs": [],
      "source": []
    },
    {
      "cell_type": "code",
      "execution_count": 1,
      "metadata": {
        "dotnet_interactive": {
          "language": "csharp"
        }
      },
      "outputs": [],
      "source": [
        "//extract all Degrees and put them into array\n",
        "int rowcount          = SubTab.Rows.Count;\n",
        "string selectedcolumn = \"DGdegree:T\";\n",
        "int[] tmp= new int[20];\n",
        "\n",
        "int count = 0;\n",
        "for(int r=0;r<rowcount;r++){\n",
        "System.Data.DataRow row = (System.Data.DataRow)SubTab.Rows[r];\n",
        "int bla                 = Convert.ToInt32(row[selectedcolumn]);\n",
        "if (tmp[bla]==0){\n",
        "  tmp[bla]=1;\n",
        "  count++;\n",
        "}\n",
        "}\n",
        "int[] DGdegrees = new int[count];\n",
        "int count2 = 0;\n",
        "for(int i=0;i<tmp.Length;i++){\n",
        "   if(tmp[i]==1){\n",
        "      DGdegrees[count2]=i;\n",
        "      count2++; \n",
        "   }\n",
        "}\n",
        "DGdegrees;"
      ]
    },
    {
      "cell_type": "code",
      "execution_count": 1,
      "metadata": {
        "dotnet_interactive": {
          "language": "csharp"
        }
      },
      "outputs": [],
      "source": []
    },
    {
      "cell_type": "code",
      "execution_count": 1,
      "metadata": {
        "dotnet_interactive": {
          "language": "csharp"
        }
      },
      "outputs": [],
      "source": []
    },
    {
      "cell_type": "code",
      "execution_count": 1,
      "metadata": {
        "dotnet_interactive": {
          "language": "csharp"
        }
      },
      "outputs": [],
      "source": [
        "//RuntimePlot.PlotNow();"
      ]
    },
    {
      "cell_type": "code",
      "execution_count": 1,
      "metadata": {
        "dotnet_interactive": {
          "language": "csharp"
        }
      },
      "outputs": [],
      "source": [
        "//var cl = RuntimePlot.ToGnuplot().PlotCairolatex();\n",
        "//cl.Preview(trimPage:true);"
      ]
    },
    {
      "cell_type": "code",
      "execution_count": 1,
      "metadata": {
        "dotnet_interactive": {
          "language": "csharp"
        }
      },
      "outputs": [],
      "source": [
        "//cl.WriteMinimalCompileableExample(\"C:\\\\tmp\\\\mini.tex\");"
      ]
    },
    {
      "cell_type": "code",
      "execution_count": 1,
      "metadata": {
        "dotnet_interactive": {
          "language": "csharp"
        }
      },
      "outputs": [],
      "source": [
        "//using SolverCodes = BoSSS.Solution.Control.LinearSolverConfig.Code;"
      ]
    },
    {
      "cell_type": "code",
      "execution_count": 1,
      "metadata": {
        "dotnet_interactive": {
          "language": "csharp"
        }
      },
      "outputs": [],
      "source": [
        "int rows    = 3;\n",
        "int columns = 1;\n",
        "//LinearSolverCode[] ignore_solvers = {LinearSolverCode.classic_pardiso, LinearSolverCode.classic_cg, LinearSolverCode.exp_softpcg_schwarz, LinearSolverConfig.Code.exp_direct_lapack};\n",
        "LinearSolverCode[] ignore_solvers ={};\n",
        "Plot2Ddata[,] multiplots = new Plot2Ddata[rows,columns];\n",
        "int pDegree = 0;\n",
        "for(int iRow = 0; iRow < rows; iRow++) {\n",
        "for(int iCol = 0; iCol < columns; iCol++) {\n",
        "    \n",
        "    if(pDegree > rows*columns-1)\n",
        "        continue;\n",
        "    int tmpDG = -1;\n",
        "    if(pDegree < DGdegrees.Length)\n",
        "        tmpDG = DGdegrees[pDegree];\n",
        "    \n",
        "    //Create Graphs\n",
        "    multiplots[iRow,iCol] = SubTab.ToPlot(\"DOFs\", \"minSolRunT\", // column for x- and y\n",
        "       delegate (int iTabRow, \n",
        "                 IDictionary<string, object> Row, \n",
        "                 out string Nmn, \n",
        "                 out PlotFormat Fmt) { \n",
        "           // - - - - - - - - - - - - - - - - - - - - - - - - \n",
        "           // PlotRowSelector:\n",
        "           // selects, which table row goes to which graph,\n",
        "           // and the respective color  \n",
        "           // - - - - - - - - - - - - - - - - - - - - - - - - \n",
        "           int k = Convert.ToInt32(Row[\"DGdegree:T\"]);\n",
        "           if(k != tmpDG) {\n",
        "                // degree does not match -> not in this plot\n",
        "                Nmn = null;\n",
        "                Fmt = null;\n",
        "                return;\n",
        "           }\n",
        " \n",
        "           LinearSolverCode solver_name = (LinearSolverCode)Convert.ToInt32(Row[\"LinearSolver.SolverCode\"]);\n",
        "           //ignore the solvers specified in ingore_solvers\n",
        "           foreach(LinearSolverCode sc in ignore_solvers){\n",
        "               if(solver_name==sc){\n",
        "                   System.Console.WriteLine(\"skipped\");\n",
        "                   Nmn = null;\n",
        "                   Fmt = null;\n",
        "               return;\n",
        "               }\n",
        "           }\n",
        "           \n",
        "           // ===!!!=== CAUTION ===!!!===\n",
        "           // Solverframework (SolverEnum numbers) have changed! Please check LinearSolver and NonLinearSolver for details\n",
        "           \n",
        "           //process the other solvers\n",
        "           Fmt = new PlotFormat();\n",
        "           switch(solver_name) {\n",
        "           case LinearSolverCode.classic_pardiso: \n",
        "               Nmn           = \"Pardiso\"; \n",
        "               Fmt.PointType = PointTypes.OpenCircle;\n",
        "               Fmt.DashType  = DashTypes.Dotted;\n",
        "               break;\n",
        "           case LinearSolverCode.exp_gmres_levelpmg: \n",
        "               Nmn           = \"GMRES w. pTG\"; \n",
        "               Fmt.PointType = PointTypes.Box;\n",
        "               break;\n",
        "           case LinearSolverCode.exp_Kcycle_schwarz: \n",
        "               Nmn           = \"Kcycle w. add.-Schwarz\"; \n",
        "               Fmt.PointType = PointTypes.LowerTriangle;\n",
        "               break;\n",
        "           default:\n",
        "               Console.WriteLine(\"unknown: \" + solver_name); \n",
        "               Nmn = \"unknown\";\n",
        "               break;\n",
        "           } \n",
        "           Console.WriteLine(\"name is: \" + solver_name); \n",
        "           Fmt.PointSize = 0.5;\n",
        "           Fmt.Style     = Styles.LinesPoints;\n",
        "           Fmt.LineColor = LineColors.Black;\n",
        "           Fmt.LineWidth = 3;\n",
        "       });\n",
        "    double[] dof = new[]{1e3,1e6};\n",
        "    double[] linT = dof.Select(x => x*0.001).ToArray();\n",
        "    var linP = new Plot2Ddata.XYvalues(\"linear\", dof, linT);\n",
        "    linP.Format.FromString(\"- black\");\n",
        "    ArrayTools.AddToArray(linP, ref multiplots[iRow,iCol].dataGroups);\n",
        " \n",
        "    //all about axis\n",
        "    string Title = string.Format(\"$k = {0}$\", tmpDG);\n",
        "    multiplots[iRow,iCol].Ylabel = Title;\n",
        "    multiplots[iRow,iCol].LogX = true;\n",
        "    multiplots[iRow,iCol].LogY = true;\n",
        "    //specify range of axis\n",
        "    multiplots[iRow,iCol].YrangeMin = 1e-2;\n",
        "    multiplots[iRow,iCol].YrangeMax = 1e+4;\n",
        "    multiplots[iRow,iCol].XrangeMin = 1e1;\n",
        "    multiplots[iRow,iCol].XrangeMax = 1e7;\n",
        "    //multiplots[iRow,iCol].Y2rangeMin = 1e-3;\n",
        "    //multiplots[iRow,iCol].Y2rangeMax = 1e+4;\n",
        "    //multiplots[iRow,iCol].X2rangeMin = 1e2;\n",
        "    //multiplots[iRow,iCol].X2rangeMax = 1e7;\n",
        "    \n",
        "    //spacing around plots\n",
        "    multiplots[iRow,iCol].ShowLegend = false;\n",
        "    multiplots[iRow,iCol].tmargin = 0;\n",
        "    multiplots[iRow,iCol].bmargin = 1;\n",
        "    multiplots[iRow,iCol].lmargin = 10;\n",
        "    multiplots[iRow,iCol].rmargin = 5;\n",
        "    multiplots[iRow,iCol].ShowXtics=false;\n",
        "\n",
        "    //I am legend ...\n",
        "    if(iRow == 0){\n",
        "    multiplots[iRow,iCol].ShowLegend = true;\n",
        "    multiplots[iRow,iCol].LegendAlignment=new string[]{\"i\",\"t\",\"l\"};\n",
        "    multiplots[iRow,iCol].LegendSwap=true;\n",
        "    }\n",
        "\n",
        "    //and i am special ...\n",
        "    if(iRow == rows-1)\n",
        "        multiplots[iRow,iCol].ShowXtics=true;\n",
        "    pDegree++;\n",
        "}                        \n",
        "}\n",
        "\n",
        "//multiplots.AddDummyPlotsForLegend(3,0);\n",
        "multiplots.PlotNow()"
      ]
    },
    {
      "cell_type": "code",
      "execution_count": 1,
      "metadata": {
        "dotnet_interactive": {
          "language": "csharp"
        }
      },
      "outputs": [],
      "source": [
        "LastError;"
      ]
    },
    {
      "cell_type": "code",
      "execution_count": 1,
      "metadata": {
        "dotnet_interactive": {
          "language": "csharp"
        }
      },
      "outputs": [],
      "source": []
    },
    {
      "cell_type": "code",
      "execution_count": 1,
      "metadata": {
        "dotnet_interactive": {
          "language": "csharp"
        }
      },
      "outputs": [],
      "source": []
    },
    {
      "cell_type": "code",
      "execution_count": 1,
      "metadata": {
        "dotnet_interactive": {
          "language": "csharp"
        }
      },
      "outputs": [],
      "source": [
        "var CL = multiplots.ToGnuplot().PlotCairolatex(xSize:14,ySize:12);"
      ]
    },
    {
      "cell_type": "code",
      "execution_count": 1,
      "metadata": {
        "dotnet_interactive": {
          "language": "csharp"
        }
      },
      "outputs": [],
      "source": [
        "//CL.SaveTo(Path.Combine(CurrentDocDir, \"ConstCoeffPoissonScaling.tex\"));"
      ]
    },
    {
      "cell_type": "code",
      "execution_count": 1,
      "metadata": {
        "dotnet_interactive": {
          "language": "csharp"
        }
      },
      "outputs": [],
      "source": []
    },
    {
      "cell_type": "code",
      "execution_count": 1,
      "metadata": {
        "dotnet_interactive": {
          "language": "csharp"
        }
      },
      "outputs": [],
      "source": [
        "LastError"
      ]
    },
    {
      "cell_type": "code",
      "execution_count": 1,
      "metadata": {
        "dotnet_interactive": {
          "language": "csharp"
        }
      },
      "outputs": [],
      "source": [
        "CL.WriteMinimalCompileableExample(\n",
        "   Path.Combine(CurrentDocDir, \"plots\", \"MainConstCoeffPoissonScaling.tex\"),\n",
        "   \"ConstCoeffPoissonScaling.tex\");"
      ]
    },
    {
      "cell_type": "code",
      "execution_count": 1,
      "metadata": {
        "dotnet_interactive": {
          "language": "csharp"
        }
      },
      "outputs": [],
      "source": []
    },
    {
      "cell_type": "code",
      "execution_count": 1,
      "metadata": {
        "dotnet_interactive": {
          "language": "csharp"
        }
      },
      "outputs": [],
      "source": []
    },
    {
      "cell_type": "code",
      "execution_count": 1,
      "metadata": {
        "dotnet_interactive": {
          "language": "csharp"
        }
      },
      "outputs": [],
      "source": []
    },
    {
      "cell_type": "code",
      "execution_count": 1,
      "metadata": {
        "dotnet_interactive": {
          "language": "csharp"
        }
      },
      "outputs": [],
      "source": []
    },
    {
      "cell_type": "code",
      "execution_count": 1,
      "metadata": {
        "dotnet_interactive": {
          "language": "csharp"
        }
      },
      "outputs": [],
      "source": []
    },
    {
      "cell_type": "code",
      "execution_count": 1,
      "metadata": {
        "dotnet_interactive": {
          "language": "csharp"
        }
      },
      "outputs": [],
      "source": []
    },
    {
      "cell_type": "code",
      "execution_count": 1,
      "metadata": {
        "dotnet_interactive": {
          "language": "csharp"
        }
      },
      "outputs": [],
      "source": []
    },
    {
      "cell_type": "code",
      "execution_count": 1,
      "metadata": {
        "dotnet_interactive": {
          "language": "csharp"
        }
      },
      "outputs": [],
      "source": []
    },
    {
      "cell_type": "code",
      "execution_count": 1,
      "metadata": {
        "dotnet_interactive": {
          "language": "csharp"
        }
      },
      "outputs": [],
      "source": []
    },
    {
      "cell_type": "code",
      "execution_count": 1,
      "metadata": {
        "dotnet_interactive": {
          "language": "csharp"
        }
      },
      "outputs": [],
      "source": []
    },
    {
      "cell_type": "code",
      "execution_count": 1,
      "metadata": {
        "dotnet_interactive": {
          "language": "csharp"
        }
      },
      "outputs": [],
      "source": []
    },
    {
      "cell_type": "code",
      "execution_count": 1,
      "metadata": {
        "dotnet_interactive": {
          "language": "csharp"
        }
      },
      "outputs": [],
      "source": []
    },
    {
      "cell_type": "code",
      "execution_count": 1,
      "metadata": {
        "dotnet_interactive": {
          "language": "csharp"
        }
      },
      "outputs": [],
      "source": []
    },
    {
      "cell_type": "code",
      "execution_count": 1,
      "metadata": {
        "dotnet_interactive": {
          "language": "csharp"
        }
      },
      "outputs": [],
      "source": []
    },
    {
      "cell_type": "code",
      "execution_count": 1,
      "metadata": {
        "dotnet_interactive": {
          "language": "csharp"
        }
      },
      "outputs": [],
      "source": []
    },
    {
      "cell_type": "code",
      "execution_count": 1,
      "metadata": {
        "dotnet_interactive": {
          "language": "csharp"
        }
      },
      "outputs": [],
      "source": []
    },
    {
      "cell_type": "code",
      "execution_count": 1,
      "metadata": {
        "dotnet_interactive": {
          "language": "csharp"
        }
      },
      "outputs": [],
      "source": []
    },
    {
      "cell_type": "code",
      "execution_count": 1,
      "metadata": {
        "dotnet_interactive": {
          "language": "csharp"
        }
      },
      "outputs": [],
      "source": []
    },
    {
      "cell_type": "code",
      "execution_count": 1,
      "metadata": {
        "dotnet_interactive": {
          "language": "csharp"
        }
      },
      "outputs": [],
      "source": []
    },
    {
      "cell_type": "code",
      "execution_count": 1,
      "metadata": {
        "dotnet_interactive": {
          "language": "csharp"
        }
      },
      "outputs": [],
      "source": []
    },
    {
      "cell_type": "code",
      "execution_count": 1,
      "metadata": {
        "dotnet_interactive": {
          "language": "csharp"
        }
      },
      "outputs": [],
      "source": []
    },
    {
      "cell_type": "code",
      "execution_count": 1,
      "metadata": {
        "dotnet_interactive": {
          "language": "csharp"
        }
      },
      "outputs": [],
      "source": []
    },
    {
      "cell_type": "code",
      "execution_count": 1,
      "metadata": {
        "dotnet_interactive": {
          "language": "csharp"
        }
      },
      "outputs": [],
      "source": []
    },
    {
      "cell_type": "code",
      "execution_count": 1,
      "metadata": {
        "dotnet_interactive": {
          "language": "csharp"
        }
      },
      "outputs": [],
      "source": []
    },
    {
      "cell_type": "code",
      "execution_count": 1,
      "metadata": {
        "dotnet_interactive": {
          "language": "csharp"
        }
      },
      "outputs": [],
      "source": []
    },
    {
      "cell_type": "code",
      "execution_count": 1,
      "metadata": {
        "dotnet_interactive": {
          "language": "csharp"
        }
      },
      "outputs": [],
      "source": []
    },
    {
      "cell_type": "code",
      "execution_count": 1,
      "metadata": {
        "dotnet_interactive": {
          "language": "csharp"
        }
      },
      "outputs": [],
      "source": []
    },
    {
      "cell_type": "code",
      "execution_count": 1,
      "metadata": {
        "dotnet_interactive": {
          "language": "csharp"
        }
      },
      "outputs": [],
      "source": []
    },
    {
      "cell_type": "code",
      "execution_count": 1,
      "metadata": {
        "dotnet_interactive": {
          "language": "csharp"
        }
      },
      "outputs": [],
      "source": []
    },
    {
      "cell_type": "code",
      "execution_count": 1,
      "metadata": {
        "dotnet_interactive": {
          "language": "csharp"
        }
      },
      "outputs": [],
      "source": []
    },
    {
      "cell_type": "code",
      "execution_count": 1,
      "metadata": {
        "dotnet_interactive": {
          "language": "csharp"
        }
      },
      "outputs": [],
      "source": []
    },
    {
      "cell_type": "code",
      "execution_count": 1,
      "metadata": {
        "dotnet_interactive": {
          "language": "csharp"
        }
      },
      "outputs": [],
      "source": []
    },
    {
      "cell_type": "code",
      "execution_count": 1,
      "metadata": {
        "dotnet_interactive": {
          "language": "csharp"
        }
      },
      "outputs": [],
      "source": []
    },
    {
      "cell_type": "code",
      "execution_count": 1,
      "metadata": {
        "dotnet_interactive": {
          "language": "csharp"
        }
      },
      "outputs": [],
      "source": []
    },
    {
      "cell_type": "code",
      "execution_count": 1,
      "metadata": {
        "dotnet_interactive": {
          "language": "csharp"
        }
      },
      "outputs": [],
      "source": []
    },
    {
      "cell_type": "code",
      "execution_count": 1,
      "metadata": {
        "dotnet_interactive": {
          "language": "csharp"
        }
      },
      "outputs": [],
      "source": []
    },
    {
      "cell_type": "code",
      "execution_count": 1,
      "metadata": {
        "dotnet_interactive": {
          "language": "csharp"
        }
      },
      "outputs": [],
      "source": []
    }
  ],
  "metadata": {
    "kernelspec": {
      "display_name": ".NET (C#)",
      "language": "C#",
      "name": ".net-csharp"
    },
    "language_info": {
      "file_extension": ".cs",
      "mimetype": "text/x-csharp",
      "name": "C#",
      "pygments_lexer": "csharp",
      "version": "8.0"
    }
  },
  "nbformat": 4,
  "nbformat_minor": 4
}
