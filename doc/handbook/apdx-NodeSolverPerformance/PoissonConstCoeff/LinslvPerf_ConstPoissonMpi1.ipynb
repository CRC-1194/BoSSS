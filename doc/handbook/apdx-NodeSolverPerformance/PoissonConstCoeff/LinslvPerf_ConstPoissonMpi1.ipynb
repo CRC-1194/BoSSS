{
 "cells": [
  {
   "cell_type": "markdown",
   "metadata": {},
   "source": [
    "# Linear Solver Performance: Constant Coefficient Poisson, Single Core\n",
    "\n",
    "### Part 1, Benchmark Setup and Execution"
   ]
  },
  {
   "cell_type": "code",
   "execution_count": 1,
   "metadata": {},
   "outputs": [
    {
     "data": {
      "text/html": [
       "\r\n",
       "<div>\r\n",
       "    <div id='dotnet-interactive-this-cell-106592.Microsoft.DotNet.Interactive.Http.HttpPort' style='display: none'>\r\n",
       "        The below script needs to be able to find the current output cell; this is an easy method to get it.\r\n",
       "    </div>\r\n",
       "    <script type='text/javascript'>\r\n",
       "async function probeAddresses(probingAddresses) {\r\n",
       "    function timeout(ms, promise) {\r\n",
       "        return new Promise(function (resolve, reject) {\r\n",
       "            setTimeout(function () {\r\n",
       "                reject(new Error('timeout'))\r\n",
       "            }, ms)\r\n",
       "            promise.then(resolve, reject)\r\n",
       "        })\r\n",
       "    }\r\n",
       "\r\n",
       "    if (Array.isArray(probingAddresses)) {\r\n",
       "        for (let i = 0; i < probingAddresses.length; i++) {\r\n",
       "\r\n",
       "            let rootUrl = probingAddresses[i];\r\n",
       "\r\n",
       "            if (!rootUrl.endsWith('/')) {\r\n",
       "                rootUrl = `${rootUrl}/`;\r\n",
       "            }\r\n",
       "\r\n",
       "            try {\r\n",
       "                let response = await timeout(1000, fetch(`${rootUrl}discovery`, {\r\n",
       "                    method: 'POST',\r\n",
       "                    cache: 'no-cache',\r\n",
       "                    mode: 'cors',\r\n",
       "                    timeout: 1000,\r\n",
       "                    headers: {\r\n",
       "                        'Content-Type': 'text/plain'\r\n",
       "                    },\r\n",
       "                    body: probingAddresses[i]\r\n",
       "                }));\r\n",
       "\r\n",
       "                if (response.status == 200) {\r\n",
       "                    return rootUrl;\r\n",
       "                }\r\n",
       "            }\r\n",
       "            catch (e) { }\r\n",
       "        }\r\n",
       "    }\r\n",
       "}\r\n",
       "\r\n",
       "function loadDotnetInteractiveApi() {\r\n",
       "    probeAddresses([\"http://130.83.248.207:1001/\", \"http://127.0.0.1:1001/\"])\r\n",
       "        .then((root) => {\r\n",
       "        // use probing to find host url and api resources\r\n",
       "        // load interactive helpers and language services\r\n",
       "        let dotnetInteractiveRequire = require.config({\r\n",
       "        context: '106592.Microsoft.DotNet.Interactive.Http.HttpPort',\r\n",
       "                paths:\r\n",
       "            {\r\n",
       "                'dotnet-interactive': `${root}resources`\r\n",
       "                }\r\n",
       "        }) || require;\r\n",
       "\r\n",
       "            window.dotnetInteractiveRequire = dotnetInteractiveRequire;\r\n",
       "\r\n",
       "            window.configureRequireFromExtension = function(extensionName, extensionCacheBuster) {\r\n",
       "                let paths = {};\r\n",
       "                paths[extensionName] = `${root}extensions/${extensionName}/resources/`;\r\n",
       "                \r\n",
       "                let internalRequire = require.config({\r\n",
       "                    context: extensionCacheBuster,\r\n",
       "                    paths: paths,\r\n",
       "                    urlArgs: `cacheBuster=${extensionCacheBuster}`\r\n",
       "                    }) || require;\r\n",
       "\r\n",
       "                return internalRequire\r\n",
       "            };\r\n",
       "        \r\n",
       "            dotnetInteractiveRequire([\r\n",
       "                    'dotnet-interactive/dotnet-interactive'\r\n",
       "                ],\r\n",
       "                function (dotnet) {\r\n",
       "                    dotnet.init(window);\r\n",
       "                },\r\n",
       "                function (error) {\r\n",
       "                    console.log(error);\r\n",
       "                }\r\n",
       "            );\r\n",
       "        })\r\n",
       "        .catch(error => {console.log(error);});\r\n",
       "    }\r\n",
       "\r\n",
       "// ensure `require` is available globally\r\n",
       "if ((typeof(require) !==  typeof(Function)) || (typeof(require.config) !== typeof(Function))) {\r\n",
       "    let require_script = document.createElement('script');\r\n",
       "    require_script.setAttribute('src', 'https://cdnjs.cloudflare.com/ajax/libs/require.js/2.3.6/require.min.js');\r\n",
       "    require_script.setAttribute('type', 'text/javascript');\r\n",
       "    \r\n",
       "    \r\n",
       "    require_script.onload = function() {\r\n",
       "        loadDotnetInteractiveApi();\r\n",
       "    };\r\n",
       "\r\n",
       "    document.getElementsByTagName('head')[0].appendChild(require_script);\r\n",
       "}\r\n",
       "else {\r\n",
       "    loadDotnetInteractiveApi();\r\n",
       "}\r\n",
       "\r\n",
       "    </script>\r\n",
       "</div>"
      ]
     },
     "metadata": {},
     "output_type": "display_data"
    },
    {
     "name": "stdout",
     "output_type": "stream",
     "text": [
      "Execution Date/time is 11/5/2021 6:08:59 AM\r\n"
     ]
    }
   ],
   "source": [
    "Console.WriteLine(\"Execution Date/time is \" + DateTime.Now);"
   ]
  },
  {
   "cell_type": "code",
   "execution_count": 2,
   "metadata": {
    "dotnet_interactive": {
     "language": "csharp"
    }
   },
   "outputs": [],
   "source": [
    "#r \"BoSSSpad.dll\"\n",
    "//#r \"../../../../src/L4-application/BoSSSpad/bin/Debug/net5.0/BoSSSpad.dll\"\n",
    "using System;\n",
    "using System.Collections.Generic;\n",
    "using System.Linq;\n",
    "using ilPSP;\n",
    "using ilPSP.Utils;\n",
    "using BoSSS.Platform;\n",
    "using BoSSS.Platform.LinAlg;\n",
    "using BoSSS.Foundation;\n",
    "using BoSSS.Foundation.XDG;\n",
    "using BoSSS.Foundation.Grid;\n",
    "using BoSSS.Foundation.Grid.Classic;\n",
    "using BoSSS.Foundation.Grid.RefElements;\n",
    "using BoSSS.Foundation.IO;\n",
    "using BoSSS.Solution;\n",
    "using BoSSS.Solution.Control;\n",
    "using BoSSS.Solution.GridImport;\n",
    "using BoSSS.Solution.Statistic;\n",
    "using BoSSS.Solution.Utils;\n",
    "using BoSSS.Solution.AdvancedSolvers;\n",
    "using BoSSS.Solution.Gnuplot;\n",
    "using BoSSS.Application.BoSSSpad;\n",
    "using BoSSS.Application.XNSE_Solver;\n",
    "using static BoSSS.Application.BoSSSpad.BoSSSshell;\n",
    "Init();"
   ]
  },
  {
   "cell_type": "code",
   "execution_count": 3,
   "metadata": {
    "dotnet_interactive": {
     "language": "csharp"
    }
   },
   "outputs": [],
   "source": [
    "using BoSSS.Application.SipPoisson;"
   ]
  },
  {
   "cell_type": "code",
   "execution_count": 4,
   "metadata": {
    "dotnet_interactive": {
     "language": "csharp"
    }
   },
   "outputs": [
    {
     "data": {
      "text/html": [
       "<table><thead><tr><th><i>index</i></th><th>DeploymentBaseDirectory</th><th>DeployRuntime</th><th>Name</th><th>DotnetRuntime</th><th>Username</th><th>ServerName</th><th>ComputeNodes</th><th>DefaultJobPriority</th><th>SingleNode</th><th>AllowedDatabasesPaths</th></tr></thead><tbody><tr><td>0</td><td>C:\\BoSSStests</td><td><div class=\"dni-plaintext\">False</div></td><td>MSHPC-Gitrunner-HighPrio</td><td>dotnet</td><td>FDY\\jenkinsci</td><td>DC2</td><td><div class=\"dni-plaintext\">[ fdygitrunner ]</div></td><td><span>Highest</span></td><td><div class=\"dni-plaintext\">True</div></td><td><div class=\"dni-plaintext\">[ { C:\\BoSSStests == : LocalMountPath: C:\\BoSSStests, PathAtRemote:  }, { C:\\Users\\jenkinsci\\ == : LocalMountPath: C:\\Users\\jenkinsci\\, PathAtRemote:  } ]</div></td></tr><tr><td>1</td><td>C:\\BoSSStests</td><td><div class=\"dni-plaintext\">False</div></td><td>MSHPC-Gitrunner-DefaultTest</td><td>dotnet</td><td>FDY\\jenkinsci</td><td>DC2</td><td><div class=\"dni-plaintext\">[ fdygitrunner ]</div></td><td><span>Normal</span></td><td><div class=\"dni-plaintext\">True</div></td><td><div class=\"dni-plaintext\">[ { C:\\BoSSStests == : LocalMountPath: C:\\BoSSStests, PathAtRemote:  } ]</div></td></tr><tr><td>2</td><td>\\\\fdygitrunner\\ValidationTests</td><td><div class=\"dni-plaintext\">False</div></td><td>MSHPC-AllNodes</td><td>dotnet</td><td>FDY\\jenkinsci</td><td>DC2</td><td><div class=\"dni-plaintext\">[ hpccluster, hpccluster2 ]</div></td><td><span>Normal</span></td><td><div class=\"dni-plaintext\">True</div></td><td><div class=\"dni-plaintext\">[ { \\\\fdygitrunner\\ValidationTests == : LocalMountPath: \\\\fdygitrunner\\ValidationTests, PathAtRemote:  } ]</div></td></tr></tbody></table>"
      ]
     },
     "execution_count": 4,
     "metadata": {},
     "output_type": "execute_result"
    }
   ],
   "source": [
    "ExecutionQueues"
   ]
  },
  {
   "cell_type": "code",
   "execution_count": 5,
   "metadata": {
    "dotnet_interactive": {
     "language": "csharp"
    }
   },
   "outputs": [
    {
     "data": {
      "text/html": [
       "<table><thead><tr><th>DeploymentBaseDirectory</th><th>DeployRuntime</th><th>Name</th><th>DotnetRuntime</th><th>Username</th><th>ServerName</th><th>ComputeNodes</th><th>DefaultJobPriority</th><th>SingleNode</th><th>AllowedDatabasesPaths</th></tr></thead><tbody><tr><td><div class=\"dni-plaintext\">\\\\fdygitrunner\\ValidationTests</div></td><td><div class=\"dni-plaintext\">False</div></td><td><div class=\"dni-plaintext\">MSHPC-AllNodes</div></td><td><div class=\"dni-plaintext\">dotnet</div></td><td><div class=\"dni-plaintext\">FDY\\jenkinsci</div></td><td><div class=\"dni-plaintext\">DC2</div></td><td><div class=\"dni-plaintext\">[ hpccluster, hpccluster2 ]</div></td><td><div class=\"dni-plaintext\">Normal</div></td><td><div class=\"dni-plaintext\">True</div></td><td><div class=\"dni-plaintext\">[ { \\\\fdygitrunner\\ValidationTests == : LocalMountPath: \\\\fdygitrunner\\ValidationTests, PathAtRemote:  } ]</div></td></tr></tbody></table>"
      ]
     },
     "execution_count": 5,
     "metadata": {},
     "output_type": "execute_result"
    }
   ],
   "source": [
    "var myBatch = GetDefaultQueue();\n",
    "myBatch"
   ]
  },
  {
   "cell_type": "code",
   "execution_count": 6,
   "metadata": {
    "dotnet_interactive": {
     "language": "csharp"
    }
   },
   "outputs": [
    {
     "name": "stdout",
     "output_type": "stream",
     "text": [
      "Project name is set to 'LinslvPerf_ConstPoissonMpi1'.\n",
      "Opening existing database '\\\\fdygitrunner\\ValidationTests\\LinslvPerf_ConstPoissonMpi1'.\n"
     ]
    },
    {
     "data": {
      "text/plain": []
     },
     "execution_count": 6,
     "metadata": {},
     "output_type": "execute_result"
    }
   ],
   "source": [
    "wmg.Init(\"LinslvPerf_ConstPoissonMpi1\");\n",
    "wmg.SetNameBasedSessionJobControlCorrelation();\n",
    "wmg.AllJobs"
   ]
  },
  {
   "cell_type": "markdown",
   "metadata": {
    "dotnet_interactive": {
     "language": "csharp"
    }
   },
   "source": [
    "## Utility definitions"
   ]
  },
  {
   "cell_type": "code",
   "execution_count": 7,
   "metadata": {
    "dotnet_interactive": {
     "language": "csharp"
    }
   },
   "outputs": [],
   "source": [
    "static class Utils {\n",
    "    // DOF per cell in 3D\n",
    "    public static int Np(int p) {\n",
    "        return (p*p*p + 6*p*p + 11*p + 6)/6;\n",
    "    }    \n",
    "    \n",
    "    //Non-equidistant nodes\n",
    "    public static double[] SinLinSpacing(double l, double r, double a, int n) {\n",
    "        double[] linnodes = GenericBlas.Linspace(-Math.PI * 0.5, Math.PI * 0.5, n);\n",
    "        double[] linnodes2 = GenericBlas.Linspace(-1, 1, n);\n",
    "        double[] nodes = new double[n];\n",
    "\n",
    "        for (int i = 0; i < n; i++)\n",
    "            //nodes[i] = linnodes2[i] * (1 - a) + (1.0 - Math.Sin(linnodes[i])) * a;\n",
    "            nodes[i] = linnodes2[i] * (1 - a) + Math.Sin(linnodes[i])*a;\n",
    "\n",
    "        for (int i = 0; i < n; i++)\n",
    "            nodes[i] = nodes[i] * (r - l)*0.5 + l;\n",
    "        return nodes;\n",
    "    }\n",
    "}"
   ]
  },
  {
   "cell_type": "markdown",
   "metadata": {
    "dotnet_interactive": {
     "language": "csharp"
    }
   },
   "source": [
    "## Init grids and save to database"
   ]
  },
  {
   "cell_type": "code",
   "execution_count": 8,
   "metadata": {
    "dotnet_interactive": {
     "language": "csharp"
    }
   },
   "outputs": [
    {
     "name": "stdout",
     "output_type": "stream",
     "text": [
      "Opening existing database 'C:\\BoSSStests\\LinslvPerf_ConstPoissonMpi1'.\r\n"
     ]
    },
    {
     "data": {
      "text/plain": [
       "#0: { Guid = a3bb3217-dcf0-4168-8e12-aabc3d069b0d; Name = LinslvPerf_ConstPoissonMpi1_J1310720; Cell Count = 1310720; Dim = 3 }\r\n",
       "#1: { Guid = d5162e70-5b0e-45ed-9c45-7fad0ad49838; Name = LinslvPerf_ConstPoissonMpi1_J552960; Cell Count = 552960; Dim = 3 }\r\n",
       "#2: { Guid = 85efeb60-e205-4709-b935-fa97e806dd83; Name = LinslvPerf_ConstPoissonMpi1_J163840; Cell Count = 163840; Dim = 3 }\r\n",
       "#3: { Guid = 665339ec-13c0-4113-8aec-62ab05ba8df2; Name = LinslvPerf_ConstPoissonMpi1_J69120; Cell Count = 69120; Dim = 3 }\r\n",
       "#4: { Guid = f3105a5d-29a0-410f-a614-cf347596514c; Name = LinslvPerf_ConstPoissonMpi1_J20480; Cell Count = 20480; Dim = 3 }\r\n",
       "#5: { Guid = f6a0f14b-8c23-40af-b1c7-e765fb15acbe; Name = LinslvPerf_ConstPoissonMpi1_J2560; Cell Count = 2560; Dim = 3 }\r\n",
       "#6: { Guid = 1e87dd13-d0ec-47a7-ae43-009dbd3e9781; Name = LinslvPerf_ConstPoissonMpi1_J320; Cell Count = 320; Dim = 3 }\r\n"
      ]
     },
     "execution_count": 8,
     "metadata": {},
     "output_type": "execute_result"
    }
   ],
   "source": [
    "wmg.Grids"
   ]
  },
  {
   "cell_type": "markdown",
   "metadata": {},
   "source": [
    "Create meshes in various resolutions:\n",
    "- domain $\\Omega = (0,10) \\times (-1,1) \\times (-1,1)$; \n",
    "- a Dirichlet boundary is set for $x = 0$, everywhere else Neumann boundaries are assumed; \n",
    "  these are typically more challenging for a linear solver than Dirichlet boundaries.\n",
    "- in order to make the problem a bit challenging, a non-equidistant spacing for $y$ and $z$ coordinate are used\n",
    "- the domain shape is reminiscent of a typical grid for the simulation of channel flows, with exception of the boundary conditions"
   ]
  },
  {
   "cell_type": "code",
   "execution_count": 9,
   "metadata": {
    "dotnet_interactive": {
     "language": "csharp"
    }
   },
   "outputs": [
    {
     "name": "stdout",
     "output_type": "stream",
     "text": [
      "Found Grid: { Guid = 1e87dd13-d0ec-47a7-ae43-009dbd3e9781; Name = LinslvPerf_ConstPoissonMpi1_J320; Cell Count = 320; Dim = 3 }\n",
      "Found Grid: { Guid = f6a0f14b-8c23-40af-b1c7-e765fb15acbe; Name = LinslvPerf_ConstPoissonMpi1_J2560; Cell Count = 2560; Dim = 3 }\n",
      "Found Grid: { Guid = f3105a5d-29a0-410f-a614-cf347596514c; Name = LinslvPerf_ConstPoissonMpi1_J20480; Cell Count = 20480; Dim = 3 }\n",
      "Found Grid: { Guid = 665339ec-13c0-4113-8aec-62ab05ba8df2; Name = LinslvPerf_ConstPoissonMpi1_J69120; Cell Count = 69120; Dim = 3 }\n",
      "Found Grid: { Guid = 85efeb60-e205-4709-b935-fa97e806dd83; Name = LinslvPerf_ConstPoissonMpi1_J163840; Cell Count = 163840; Dim = 3 }\n",
      "Found Grid: { Guid = d5162e70-5b0e-45ed-9c45-7fad0ad49838; Name = LinslvPerf_ConstPoissonMpi1_J552960; Cell Count = 552960; Dim = 3 }\n",
      "Found Grid: { Guid = a3bb3217-dcf0-4168-8e12-aabc3d069b0d; Name = LinslvPerf_ConstPoissonMpi1_J1310720; Cell Count = 1310720; Dim = 3 }\n"
     ]
    }
   ],
   "source": [
    "int[] Resolutions_3D = new int[] { 4, 8, 16, 24, 32, 48, 64 };\n",
    "IGridInfo[] grids = new IGridInfo[Resolutions_3D.Length];\n",
    "for(int cnt = 0; cnt < Resolutions_3D.Length; cnt++) {\n",
    "    int Res = Resolutions_3D[cnt];    \n",
    "    \n",
    "    double[] xNodes = GenericBlas.Linspace(0, 10, Res*5 + 1);\n",
    "    double[] yNodes = Utils.SinLinSpacing(-1, +1, 0.6, Res + 1);\n",
    "    double[] zNodes = Utils.SinLinSpacing(-1, +1, 0.6, Res + 1);\n",
    "    int J = (xNodes.Length - 1)*(yNodes.Length - 1)*(zNodes.Length - 1);\n",
    "    \n",
    "    string GridName = string.Format(wmg.CurrentProject + \"_J\" + J);\n",
    "    \n",
    "    //grids[cnt] = null;\n",
    "    //foreach(IGridInfo grd in wmg.Grids) { \n",
    "    //    bool check = grd.Name.Contains(string.Format(\"_J\"+ J));\n",
    "    //    if(check) {\n",
    "    //      grids[cnt] = grd;\n",
    "    //    }\n",
    "    //}\n",
    "    \n",
    "    grids[cnt] = wmg.Grids.SingleOrDefault(grd => grd.Name.Contains(string.Format(\"_J\"+ J))); // check if an appropriate grid is already present in the database\n",
    "    if(grids[cnt] == null) { // \n",
    "        Console.WriteLine($\"Creating grid with {J} = {Res*5}x{Res}x{Res} cells.\");\n",
    "        \n",
    "        GridCommons g;\n",
    "        g      = Grid3D.Cartesian3DGrid(xNodes, yNodes, zNodes);\n",
    "        g.Name = GridName;\n",
    "    \n",
    "        g.DefineEdgeTags(delegate (double[] X) {\n",
    "            if(Math.Abs(X[0] - 0.0) <= 1.0e-6)\n",
    "                return BoundaryType.Dirichlet.ToString();\n",
    "            else\n",
    "                return BoundaryType.Neumann.ToString();\n",
    "        });\n",
    "      \n",
    "        g = wmg.SaveGrid(g);  \n",
    "        grids[cnt] = g;\n",
    "    } else {\n",
    "        Console.WriteLine(\"Found Grid: \" + grids[cnt]);\n",
    "        if(grids[cnt].NumberOfCells != J)\n",
    "            throw new Exception(\"J mismatch\");\n",
    "        \n",
    "        if(grids[cnt].SpatialDimension != 3)\n",
    "            throw new Exception(\"D mismatch\");\n",
    "    }\n",
    "}"
   ]
  },
  {
   "cell_type": "code",
   "execution_count": 10,
   "metadata": {
    "dotnet_interactive": {
     "language": "csharp"
    }
   },
   "outputs": [
    {
     "data": {
      "text/plain": [
       "#0: { Guid = 1e87dd13-d0ec-47a7-ae43-009dbd3e9781; Name = LinslvPerf_ConstPoissonMpi1_J320; Cell Count = 320; Dim = 3 }\r\n",
       "#1: { Guid = f6a0f14b-8c23-40af-b1c7-e765fb15acbe; Name = LinslvPerf_ConstPoissonMpi1_J2560; Cell Count = 2560; Dim = 3 }\r\n",
       "#2: { Guid = f3105a5d-29a0-410f-a614-cf347596514c; Name = LinslvPerf_ConstPoissonMpi1_J20480; Cell Count = 20480; Dim = 3 }\r\n",
       "#3: { Guid = 665339ec-13c0-4113-8aec-62ab05ba8df2; Name = LinslvPerf_ConstPoissonMpi1_J69120; Cell Count = 69120; Dim = 3 }\r\n",
       "#4: { Guid = 85efeb60-e205-4709-b935-fa97e806dd83; Name = LinslvPerf_ConstPoissonMpi1_J163840; Cell Count = 163840; Dim = 3 }\r\n",
       "#5: { Guid = d5162e70-5b0e-45ed-9c45-7fad0ad49838; Name = LinslvPerf_ConstPoissonMpi1_J552960; Cell Count = 552960; Dim = 3 }\r\n",
       "#6: { Guid = a3bb3217-dcf0-4168-8e12-aabc3d069b0d; Name = LinslvPerf_ConstPoissonMpi1_J1310720; Cell Count = 1310720; Dim = 3 }\r\n"
      ]
     },
     "execution_count": 10,
     "metadata": {},
     "output_type": "execute_result"
    }
   ],
   "source": [
    "grids"
   ]
  },
  {
   "cell_type": "markdown",
   "metadata": {
    "dotnet_interactive": {
     "language": "csharp"
    }
   },
   "source": [
    "## Setup Control Object for a Solver Run"
   ]
  },
  {
   "cell_type": "markdown",
   "metadata": {
    "dotnet_interactive": {
     "language": "csharp"
    }
   },
   "source": [
    "### Values/Formulas for the Values of RHS and Boundary Conditions"
   ]
  },
  {
   "cell_type": "code",
   "execution_count": 11,
   "metadata": {
    "dotnet_interactive": {
     "language": "csharp"
    }
   },
   "outputs": [],
   "source": [
    "string nl = System.Environment.NewLine;\n",
    "string math_expressions_code = \n",
    "\"static class InitialValues { \" +\n",
    "\"    public static double RHS(double[] X) { \" + nl +\n",
    "\"        return -Math.Sin(X[0]); \" + nl +\n",
    "\"    } \" + nl +\n",
    "\"     \" + nl +\n",
    "\"    public static double DirichletBC(double[] X) { \" + nl +\n",
    "\"        return 0.0; \" + nl +\n",
    "\"    } \" + nl +\n",
    "\"     \" + nl +\n",
    "\"    public static double NeumannBC(double[] X) { \" + nl +\n",
    "\"       if(Math.Abs(X[1] - 1.0) < 1.0e-8 || Math.Abs(X[1] + 1.0) < 1.0e-8) \" + nl +\n",
    "\"           return 0; \" + nl +\n",
    "\"       if(X.Length > 2 && (Math.Abs(X[2] - 1.0) < 1.0e-8 || Math.Abs(X[2] + 1.0) < 1.0e-8)) \" + nl +\n",
    "\"           return 0; \" + nl +\n",
    "\"     \" + nl +\n",
    "\"       return Math.Cos(10.0); \" + nl +\n",
    "\"   } \" + nl +\n",
    "\"} \" + nl;"
   ]
  },
  {
   "cell_type": "code",
   "execution_count": 12,
   "metadata": {
    "dotnet_interactive": {
     "language": "csharp"
    }
   },
   "outputs": [],
   "source": [
    "var RHS_value = new Formula(\"InitialValues.RHS\", false, math_expressions_code);\n",
    "var NeumannBC_value = new Formula(\"InitialValues.NeumannBC\", false, math_expressions_code);\n",
    "var DirichletBC_value = new ConstantValue(0.0);"
   ]
  },
  {
   "cell_type": "markdown",
   "metadata": {},
   "source": [
    "Brief test of the boundary values:"
   ]
  },
  {
   "cell_type": "code",
   "execution_count": 13,
   "metadata": {
    "dotnet_interactive": {
     "language": "csharp"
    }
   },
   "outputs": [
    {
     "data": {
      "text/html": [
       "<div class=\"dni-plaintext\">-0.19866933079506122</div>"
      ]
     },
     "execution_count": 13,
     "metadata": {},
     "output_type": "execute_result"
    }
   ],
   "source": [
    "RHS_value.Evaluate(new Vector(0.2, 0.1), 0)"
   ]
  },
  {
   "cell_type": "code",
   "execution_count": 14,
   "metadata": {
    "dotnet_interactive": {
     "language": "csharp"
    }
   },
   "outputs": [
    {
     "data": {
      "text/html": [
       "<div class=\"dni-plaintext\">-0.8390715290764524</div>"
      ]
     },
     "execution_count": 14,
     "metadata": {},
     "output_type": "execute_result"
    }
   ],
   "source": [
    "NeumannBC_value.Evaluate(new Vector(0.2, 0.1), 0)"
   ]
  },
  {
   "cell_type": "markdown",
   "metadata": {
    "dotnet_interactive": {
     "language": "csharp"
    }
   },
   "source": [
    "### Setup of Parameter Study"
   ]
  },
  {
   "cell_type": "markdown",
   "metadata": {
    "dotnet_interactive": {
     "language": "csharp"
    }
   },
   "source": [
    "Polynomial degrees to test:"
   ]
  },
  {
   "cell_type": "code",
   "execution_count": 15,
   "metadata": {
    "dotnet_interactive": {
     "language": "csharp"
    }
   },
   "outputs": [],
   "source": [
    "//int[] PolyDegS = new int[] {2, 3, 4, 5, 6};\n",
    "int[] PolyDegS = new int[] {2, 3, 5}; // reduced options for dev."
   ]
  },
  {
   "cell_type": "markdown",
   "metadata": {},
   "source": [
    "Solvers which we want to instrument:"
   ]
  },
  {
   "cell_type": "code",
   "execution_count": 16,
   "metadata": {
    "dotnet_interactive": {
     "language": "csharp"
    }
   },
   "outputs": [],
   "source": [
    "using BoSSS.Solution.AdvancedSolvers;"
   ]
  },
  {
   "cell_type": "code",
   "execution_count": 17,
   "metadata": {
    "dotnet_interactive": {
     "language": "csharp"
    }
   },
   "outputs": [],
   "source": [
    "LinearSolverCode[] solver_nameS = new LinearSolverCode[] {\n",
    "    LinearSolverCode.classic_pardiso, \n",
    "    //LinearSolverCode.classic_mumps, \n",
    "    LinearSolverCode.exp_Kcycle_schwarz,\n",
    "    LinearSolverCode.exp_gmres_levelpmg,\n",
    "}; "
   ]
  },
  {
   "cell_type": "markdown",
   "metadata": {},
   "source": [
    "Maximum Dof for one calculation (we skip fine grids for higher polynomial orders):"
   ]
  },
  {
   "cell_type": "code",
   "execution_count": 18,
   "metadata": {
    "dotnet_interactive": {
     "language": "csharp"
    }
   },
   "outputs": [],
   "source": [
    "int GetMaxAllowedDOF(LinearSolverCode code) {\n",
    "    switch(code) {\n",
    "        case LinearSolverCode.classic_pardiso:\n",
    "        case LinearSolverCode.classic_mumps:\n",
    "        return 1100000; // 1.1 Million for iterative solvers at maximum\n",
    "    \n",
    "        default: \n",
    "        return 5000000; // Up to 5 Million for iterative solvers\n",
    "    }\n",
    "}"
   ]
  },
  {
   "cell_type": "markdown",
   "metadata": {},
   "source": [
    "Loop over all combinations of parameters and define a control object for each combo:"
   ]
  },
  {
   "cell_type": "code",
   "execution_count": 19,
   "metadata": {
    "dotnet_interactive": {
     "language": "csharp"
    }
   },
   "outputs": [
    {
     "name": "stdout",
     "output_type": "stream",
     "text": [
      "setting up: J320_k2_classic_pardiso\n",
      "setting up: J2560_k2_classic_pardiso\n",
      "setting up: J20480_k2_classic_pardiso\n",
      "setting up: J69120_k2_classic_pardiso\n",
      "setting up: J320_k3_classic_pardiso\n",
      "setting up: J2560_k3_classic_pardiso\n",
      "setting up: J20480_k3_classic_pardiso\n",
      "setting up: J320_k5_classic_pardiso\n",
      "setting up: J2560_k5_classic_pardiso\n",
      "setting up: J320_k2_exp_Kcycle_schwarz\n",
      "setting up: J2560_k2_exp_Kcycle_schwarz\n",
      "setting up: J20480_k2_exp_Kcycle_schwarz\n",
      "setting up: J69120_k2_exp_Kcycle_schwarz\n",
      "setting up: J163840_k2_exp_Kcycle_schwarz\n",
      "setting up: J320_k3_exp_Kcycle_schwarz\n",
      "setting up: J2560_k3_exp_Kcycle_schwarz\n",
      "setting up: J20480_k3_exp_Kcycle_schwarz\n",
      "setting up: J69120_k3_exp_Kcycle_schwarz\n",
      "setting up: J163840_k3_exp_Kcycle_schwarz\n",
      "setting up: J320_k5_exp_Kcycle_schwarz\n",
      "setting up: J2560_k5_exp_Kcycle_schwarz\n",
      "setting up: J20480_k5_exp_Kcycle_schwarz\n",
      "setting up: J69120_k5_exp_Kcycle_schwarz\n",
      "setting up: J320_k2_exp_gmres_levelpmg\n",
      "setting up: J2560_k2_exp_gmres_levelpmg\n",
      "setting up: J20480_k2_exp_gmres_levelpmg\n",
      "setting up: J69120_k2_exp_gmres_levelpmg\n",
      "setting up: J163840_k2_exp_gmres_levelpmg\n",
      "setting up: J320_k3_exp_gmres_levelpmg\n",
      "setting up: J2560_k3_exp_gmres_levelpmg\n",
      "setting up: J20480_k3_exp_gmres_levelpmg\n",
      "setting up: J69120_k3_exp_gmres_levelpmg\n",
      "setting up: J163840_k3_exp_gmres_levelpmg\n",
      "setting up: J320_k5_exp_gmres_levelpmg\n",
      "setting up: J2560_k5_exp_gmres_levelpmg\n",
      "setting up: J20480_k5_exp_gmres_levelpmg\n",
      "setting up: J69120_k5_exp_gmres_levelpmg\n"
     ]
    }
   ],
   "source": [
    "List<SipControl> controls = new List<SipControl>();\n",
    "foreach(LinearSolverCode solver_name in solver_nameS) {\n",
    "foreach(int k in PolyDegS) {   \n",
    "foreach(IGridInfo grd in grids) {\n",
    "    int Np = Utils.Np(k);\n",
    "    int J  = grd.NumberOfCells;\n",
    "    if(J*Np > GetMaxAllowedDOF(solver_name))\n",
    "        continue;\n",
    "    \n",
    "    var ctrl = new SipControl();\n",
    "    controls.Add(ctrl);\n",
    "       \n",
    "    \n",
    "    string caseName = string.Format(\"J{0}_k{1}_{2}\", J, k, solver_name);\n",
    "    Console.WriteLine(\"setting up: \" + caseName);\n",
    "\n",
    "    ctrl.SetGrid(grd);\n",
    "    ctrl.savetodb = true;\n",
    "    ctrl.SetDGdegree(k);\n",
    "\n",
    "    ctrl.LinearSolver.SolverCode           = solver_name;\n",
    "    ctrl.LinearSolver.NoOfMultigridLevels  = int.MaxValue;\n",
    "    ctrl.LinearSolver.TargetBlockSize      = Math.Min(J*Np-1,10000);\n",
    "    ctrl.LinearSolver.ConvergenceCriterion = 1e-8;\n",
    "    \n",
    "    ctrl.InitialValues.Add(\"RHS\", RHS_value);\n",
    "    ctrl.AddBoundaryValue(BoundaryType.Dirichlet.ToString(), \"T\", DirichletBC_value);\n",
    "    ctrl.AddBoundaryValue(BoundaryType.Neumann.ToString(), \"T\", NeumannBC_value);\n",
    "    \n",
    "    ctrl.SessionName = \"SIP_\" + caseName;\n",
    "    \n",
    "    ctrl.GridPartType = BoSSS.Foundation.Grid.GridPartType.METIS;\n",
    "    //ctrl.GridPartType = BoSSS.Foundation.Grid.GridPartType.directHilbert;\n",
    "}\n",
    "}\n",
    "}"
   ]
  },
  {
   "cell_type": "markdown",
   "metadata": {},
   "source": [
    "## Launch Jobs"
   ]
  },
  {
   "cell_type": "code",
   "execution_count": 20,
   "metadata": {
    "dotnet_interactive": {
     "language": "csharp"
    }
   },
   "outputs": [
    {
     "name": "stdout",
     "output_type": "stream",
     "text": [
      " Submitting: SIP_J320_k2_classic_pardiso\n",
      "Info: Found successful session \"LinslvPerf_ConstPoissonMpi1\tSIP_J320_k2_classic_pardiso\t11/04/2021 18:04:00\t1f6cb5be...\" -- job is marked as successful, no further action.\n",
      "No submission, because job status is: FinishedSuccessful\n",
      " Submitting: SIP_J2560_k2_classic_pardiso\n",
      "Info: Found successful session \"LinslvPerf_ConstPoissonMpi1\tSIP_J2560_k2_classic_pardiso\t11/04/2021 18:04:08\t5ce0bf18...\" -- job is marked as successful, no further action.\n",
      "No submission, because job status is: FinishedSuccessful\n",
      " Submitting: SIP_J20480_k2_classic_pardiso\n",
      "Info: Found successful session \"LinslvPerf_ConstPoissonMpi1\tSIP_J20480_k2_classic_pardiso\t11/04/2021 18:04:16\te814f336...\" -- job is marked as successful, no further action.\n",
      "No submission, because job status is: FinishedSuccessful\n",
      " Submitting: SIP_J69120_k2_classic_pardiso\n",
      "Info: Found successful session \"LinslvPerf_ConstPoissonMpi1\tSIP_J69120_k2_classic_pardiso\t11/04/2021 18:04:27\ta4a94934...\" -- job is marked as successful, no further action.\n",
      "No submission, because job status is: FinishedSuccessful\n",
      " Submitting: SIP_J320_k3_classic_pardiso\n",
      "Info: Found successful session \"LinslvPerf_ConstPoissonMpi1\tSIP_J320_k3_classic_pardiso\t11/04/2021 18:04:36\t2a61dd08...\" -- job is marked as successful, no further action.\n",
      "No submission, because job status is: FinishedSuccessful\n",
      " Submitting: SIP_J2560_k3_classic_pardiso\n",
      "Info: Found successful session \"LinslvPerf_ConstPoissonMpi1\tSIP_J2560_k3_classic_pardiso\t11/04/2021 18:04:44\t1c816ecd...\" -- job is marked as successful, no further action.\n",
      "No submission, because job status is: FinishedSuccessful\n",
      " Submitting: SIP_J20480_k3_classic_pardiso\n",
      "Info: Found successful session \"LinslvPerf_ConstPoissonMpi1\tSIP_J20480_k3_classic_pardiso\t11/04/2021 18:04:55\t7963f80d...\" -- job is marked as successful, no further action.\n",
      "No submission, because job status is: FinishedSuccessful\n",
      " Submitting: SIP_J320_k5_classic_pardiso\n",
      "Info: Found successful session \"LinslvPerf_ConstPoissonMpi1\tSIP_J320_k5_classic_pardiso\t11/04/2021 18:05:03\t6c946202...\" -- job is marked as successful, no further action.\n",
      "No submission, because job status is: FinishedSuccessful\n",
      " Submitting: SIP_J2560_k5_classic_pardiso\n",
      "Info: Found successful session \"LinslvPerf_ConstPoissonMpi1\tSIP_J2560_k5_classic_pardiso\t11/04/2021 18:05:11\t666900ca...\" -- job is marked as successful, no further action.\n",
      "No submission, because job status is: FinishedSuccessful\n",
      " Submitting: SIP_J320_k2_exp_Kcycle_schwarz\n",
      "Info: Found successful session \"LinslvPerf_ConstPoissonMpi1\tSIP_J320_k2_exp_Kcycle_schwarz\t11/04/2021 18:05:21\t7f483e46...\" -- job is marked as successful, no further action.\n",
      "No submission, because job status is: FinishedSuccessful\n",
      " Submitting: SIP_J2560_k2_exp_Kcycle_schwarz\n",
      "Info: Found successful session \"LinslvPerf_ConstPoissonMpi1\tSIP_J2560_k2_exp_Kcycle_schwarz\t11/04/2021 18:05:30\tb508b05c...\" -- job is marked as successful, no further action.\n",
      "No submission, because job status is: FinishedSuccessful\n",
      " Submitting: SIP_J20480_k2_exp_Kcycle_schwarz\n",
      "Info: Found successful session \"LinslvPerf_ConstPoissonMpi1\tSIP_J20480_k2_exp_Kcycle_schwarz\t11/04/2021 18:05:39\tc55d09d6...\" -- job is marked as successful, no further action.\n",
      "No submission, because job status is: FinishedSuccessful\n",
      " Submitting: SIP_J69120_k2_exp_Kcycle_schwarz\n",
      "Info: Found successful session \"LinslvPerf_ConstPoissonMpi1\tSIP_J69120_k2_exp_Kcycle_schwarz\t11/04/2021 18:05:50\te3f9e9a3...\" -- job is marked as successful, no further action.\n",
      "No submission, because job status is: FinishedSuccessful\n",
      " Submitting: SIP_J163840_k2_exp_Kcycle_schwarz\n",
      "Info: Found successful session \"LinslvPerf_ConstPoissonMpi1\tSIP_J163840_k2_exp_Kcycle_schwarz\t11/04/2021 18:06:01\tf68b6d88...\" -- job is marked as successful, no further action.\n",
      "No submission, because job status is: FinishedSuccessful\n",
      " Submitting: SIP_J320_k3_exp_Kcycle_schwarz\n",
      "Info: Found successful session \"LinslvPerf_ConstPoissonMpi1\tSIP_J320_k3_exp_Kcycle_schwarz\t11/04/2021 18:06:11\t74ac4605...\" -- job is marked as successful, no further action.\n",
      "No submission, because job status is: FinishedSuccessful\n",
      " Submitting: SIP_J2560_k3_exp_Kcycle_schwarz\n",
      "Info: Found successful session \"LinslvPerf_ConstPoissonMpi1\tSIP_J2560_k3_exp_Kcycle_schwarz\t11/04/2021 18:06:20\tdade6778...\" -- job is marked as successful, no further action.\n",
      "No submission, because job status is: FinishedSuccessful\n",
      " Submitting: SIP_J20480_k3_exp_Kcycle_schwarz\n",
      "Info: Found successful session \"LinslvPerf_ConstPoissonMpi1\tSIP_J20480_k3_exp_Kcycle_schwarz\t11/04/2021 18:06:32\t69239995...\" -- job is marked as successful, no further action.\n",
      "No submission, because job status is: FinishedSuccessful\n",
      " Submitting: SIP_J69120_k3_exp_Kcycle_schwarz\n",
      "Info: Found successful session \"LinslvPerf_ConstPoissonMpi1\tSIP_J69120_k3_exp_Kcycle_schwarz\t11/04/2021 18:06:45\t8666816b...\" -- job is marked as successful, no further action.\n",
      "No submission, because job status is: FinishedSuccessful\n",
      " Submitting: SIP_J163840_k3_exp_Kcycle_schwarz\n",
      "Note: Job was deployed (1) number of times, all failed.\n",
      "Hint: want to re-activate the job.\n",
      "No submission, because job status is: FailedOrCanceled\n",
      " Submitting: SIP_J320_k5_exp_Kcycle_schwarz\n",
      "Info: Found successful session \"LinslvPerf_ConstPoissonMpi1\tSIP_J320_k5_exp_Kcycle_schwarz\t11/04/2021 18:06:58\t97a513e9...\" -- job is marked as successful, no further action.\n",
      "No submission, because job status is: FinishedSuccessful\n",
      " Submitting: SIP_J2560_k5_exp_Kcycle_schwarz\n",
      "Info: Found successful session \"LinslvPerf_ConstPoissonMpi1\tSIP_J2560_k5_exp_Kcycle_schwarz\t11/04/2021 18:07:06\t5bf1fa24...\" -- job is marked as successful, no further action.\n",
      "No submission, because job status is: FinishedSuccessful\n",
      " Submitting: SIP_J20480_k5_exp_Kcycle_schwarz\n",
      "Note: Job was deployed (1) number of times, all failed.\n",
      "Hint: want to re-activate the job.\n",
      "No submission, because job status is: FailedOrCanceled\n",
      " Submitting: SIP_J69120_k5_exp_Kcycle_schwarz\n",
      "Note: Job was deployed (1) number of times, all failed.\n",
      "Hint: want to re-activate the job.\n",
      "No submission, because job status is: FailedOrCanceled\n",
      " Submitting: SIP_J320_k2_exp_gmres_levelpmg\n",
      "Info: Found successful session \"LinslvPerf_ConstPoissonMpi1\tSIP_J320_k2_exp_gmres_levelpmg\t11/04/2021 18:07:23\t6ff0bbcd...\" -- job is marked as successful, no further action.\n",
      "No submission, because job status is: FinishedSuccessful\n",
      " Submitting: SIP_J2560_k2_exp_gmres_levelpmg\n",
      "Info: Found successful session \"LinslvPerf_ConstPoissonMpi1\tSIP_J2560_k2_exp_gmres_levelpmg\t11/04/2021 18:07:32\ta968c0f5...\" -- job is marked as successful, no further action.\n",
      "No submission, because job status is: FinishedSuccessful\n",
      " Submitting: SIP_J20480_k2_exp_gmres_levelpmg\n",
      "Info: Found successful session \"LinslvPerf_ConstPoissonMpi1\tSIP_J20480_k2_exp_gmres_levelpmg\t11/04/2021 18:07:44\t161597aa...\" -- job is marked as successful, no further action.\n",
      "No submission, because job status is: FinishedSuccessful\n",
      " Submitting: SIP_J69120_k2_exp_gmres_levelpmg\n",
      "Info: Found successful session \"LinslvPerf_ConstPoissonMpi1\tSIP_J69120_k2_exp_gmres_levelpmg\t11/04/2021 18:07:55\t36bd8a75...\" -- job is marked as successful, no further action.\n",
      "No submission, because job status is: FinishedSuccessful\n",
      " Submitting: SIP_J163840_k2_exp_gmres_levelpmg\n",
      "Info: Found successful session \"LinslvPerf_ConstPoissonMpi1\tSIP_J163840_k2_exp_gmres_levelpmg\t11/04/2021 18:08:08\tb976d734...\" -- job is marked as successful, no further action.\n",
      "No submission, because job status is: FinishedSuccessful\n",
      " Submitting: SIP_J320_k3_exp_gmres_levelpmg\n",
      "Info: Found successful session \"LinslvPerf_ConstPoissonMpi1\tSIP_J320_k3_exp_gmres_levelpmg\t11/04/2021 18:08:21\t7e9efb62...\" -- job is marked as successful, no further action.\n",
      "No submission, because job status is: FinishedSuccessful\n",
      " Submitting: SIP_J2560_k3_exp_gmres_levelpmg\n",
      "Info: Found successful session \"LinslvPerf_ConstPoissonMpi1\tSIP_J2560_k3_exp_gmres_levelpmg\t11/04/2021 18:08:32\td50c224e...\" -- job is marked as successful, no further action.\n",
      "No submission, because job status is: FinishedSuccessful\n",
      " Submitting: SIP_J20480_k3_exp_gmres_levelpmg\n",
      "Info: Found successful session \"LinslvPerf_ConstPoissonMpi1\tSIP_J20480_k3_exp_gmres_levelpmg\t11/04/2021 18:08:45\t6a50b2ff...\" -- job is marked as successful, no further action.\n"
     ]
    },
    {
     "name": "stdout",
     "output_type": "stream",
     "text": [
      "No submission, because job status is: FinishedSuccessful\n",
      " Submitting: SIP_J69120_k3_exp_gmres_levelpmg\n",
      "Info: Found successful session \"LinslvPerf_ConstPoissonMpi1\tSIP_J69120_k3_exp_gmres_levelpmg\t11/04/2021 18:08:57\t372e3ccb...\" -- job is marked as successful, no further action.\n",
      "No submission, because job status is: FinishedSuccessful\n",
      " Submitting: SIP_J163840_k3_exp_gmres_levelpmg\n",
      "Note: Job was deployed (1) number of times, all failed.\n",
      "Hint: want to re-activate the job.\n",
      "No submission, because job status is: FailedOrCanceled\n",
      " Submitting: SIP_J320_k5_exp_gmres_levelpmg\n",
      "Info: Found successful session \"LinslvPerf_ConstPoissonMpi1\tSIP_J320_k5_exp_gmres_levelpmg\t11/04/2021 18:09:14\t8e4754a4...\" -- job is marked as successful, no further action.\n",
      "No submission, because job status is: FinishedSuccessful\n",
      " Submitting: SIP_J2560_k5_exp_gmres_levelpmg\n",
      "Info: Found successful session \"LinslvPerf_ConstPoissonMpi1\tSIP_J2560_k5_exp_gmres_levelpmg\t11/04/2021 18:09:26\t5b7dbade...\" -- job is marked as successful, no further action.\n",
      "No submission, because job status is: FinishedSuccessful\n",
      " Submitting: SIP_J20480_k5_exp_gmres_levelpmg\n",
      "Info: Found successful session \"LinslvPerf_ConstPoissonMpi1\tSIP_J20480_k5_exp_gmres_levelpmg\t11/04/2021 18:09:39\t493fc562...\" -- job is marked as successful, no further action.\n",
      "No submission, because job status is: FinishedSuccessful\n",
      " Submitting: SIP_J69120_k5_exp_gmres_levelpmg\n",
      "Note: Job was deployed (1) number of times, all failed.\n",
      "Hint: want to re-activate the job.\n",
      "No submission, because job status is: FailedOrCanceled\n"
     ]
    }
   ],
   "source": [
    "foreach(var ctrl in controls) {\n",
    "    Console.WriteLine(\" Submitting: \" + ctrl.SessionName);\n",
    "    ctrl.RunBatch(myBatch); \n",
    "}"
   ]
  },
  {
   "cell_type": "code",
   "execution_count": 21,
   "metadata": {
    "dotnet_interactive": {
     "language": "csharp"
    }
   },
   "outputs": [],
   "source": [
    "//foreach(var ctrl in controls) {\n",
    "//    Console.WriteLine(\" Submitting: \" + ctrl.SessionName); \n",
    "//    var aJob = new Job(ctrl.SessionName, typeof(SipPoissonMain));\n",
    "//    aJob.SetControlObject(ctrl);\n",
    "//    ((SlurmClient)myBatch).SlurmAccount = \"project01217\";  // Jens \n",
    "//    aJob.NumberOfMPIProcs = 1;\n",
    "//    aJob.ExecutionTime    = \"02:00:00\";\n",
    "//    //aJob.HHLR_project             = \"project01217\";\n",
    "//    aJob.MemPerCPU                = \"50000\";\n",
    "//    aJob.UseComputeNodesExclusive = true;\n",
    "//    aJob.Activate(myBatch);\n",
    "//}"
   ]
  },
  {
   "cell_type": "code",
   "execution_count": 22,
   "metadata": {
    "dotnet_interactive": {
     "language": "csharp"
    }
   },
   "outputs": [],
   "source": [
    "/*\n",
    "int cnt   = 0;\n",
    "int iCore = -1;\n",
    "foreach(var ctrl in controls) {\n",
    "\n",
    "    if(cnt % JobsWithSameCore == 0)\n",
    "        iCore++;\n",
    "         \n",
    "    Console.WriteLine(\" Submitting: \" + ctrl.SessionName); \n",
    "    var aJob = new Job(ctrl.SessionName, typeof(SipPoissonMain));\n",
    "    aJob.SetControlObject(ctrl);\n",
    "    ((SlurmClient)ExecutionQueues[1]).SlurmAccount = \"project01217\";  // Jens \n",
    "    aJob.NumberOfMPIProcs         = core_sweep[iCore];\n",
    "    aJob.ExecutionTime            = \"02:00:00\";\n",
    "    //aJob.HHLR_project             = \"project01217\";\n",
    "    aJob.MemPerCPU                = \"2500\";\n",
    "    aJob.UseComputeNodesExclusive = true;\n",
    "    aJob.Activate(myBatch);\n",
    "    cnt++;\n",
    "}\n",
    "*/"
   ]
  },
  {
   "cell_type": "code",
   "execution_count": 23,
   "metadata": {
    "dotnet_interactive": {
     "language": "csharp"
    }
   },
   "outputs": [],
   "source": [
    "//foreach(var j in wmg.AllJobs.Values)\n",
    "//    j.DeleteOldDeploymentsAndSessions();"
   ]
  },
  {
   "cell_type": "markdown",
   "metadata": {},
   "source": [
    "### Wait for Completion and Check Job Status"
   ]
  },
  {
   "cell_type": "code",
   "execution_count": 24,
   "metadata": {
    "dotnet_interactive": {
     "language": "csharp"
    }
   },
   "outputs": [
    {
     "name": "stdout",
     "output_type": "stream",
     "text": [
      "All jobs finished.\r\n"
     ]
    }
   ],
   "source": [
    "wmg.BlockUntilAllJobsTerminate(3600*24*2); // wait at maximum two days for the jobs to finish"
   ]
  },
  {
   "cell_type": "code",
   "execution_count": 25,
   "metadata": {
    "dotnet_interactive": {
     "language": "csharp"
    }
   },
   "outputs": [
    {
     "data": {
      "text/plain": [
       "#0: SIP_J320_k2_classic_pardiso: FinishedSuccessful (MS HPC client  MSHPC-AllNodes @DC2, @\\\\fdygitrunner\\ValidationTests)\tSIP_J320_k2_classic_pardiso: FinishedSuccessful (MS HPC client  MSHPC-AllNodes @DC2, @\\\\fdygitrunner\\ValidationTests)\r\n",
       "#1: SIP_J2560_k2_classic_pardiso: FinishedSuccessful (MS HPC client  MSHPC-AllNodes @DC2, @\\\\fdygitrunner\\ValidationTests)\tSIP_J2560_k2_classic_pardiso: FinishedSuccessful (MS HPC client  MSHPC-AllNodes @DC2, @\\\\fdygitrunner\\ValidationTests)\r\n",
       "#2: SIP_J20480_k2_classic_pardiso: FinishedSuccessful (MS HPC client  MSHPC-AllNodes @DC2, @\\\\fdygitrunner\\ValidationTests)\tSIP_J20480_k2_classic_pardiso: FinishedSuccessful (MS HPC client  MSHPC-AllNodes @DC2, @\\\\fdygitrunner\\ValidationTests)\r\n",
       "#3: SIP_J69120_k2_classic_pardiso: FinishedSuccessful (MS HPC client  MSHPC-AllNodes @DC2, @\\\\fdygitrunner\\ValidationTests)\tSIP_J69120_k2_classic_pardiso: FinishedSuccessful (MS HPC client  MSHPC-AllNodes @DC2, @\\\\fdygitrunner\\ValidationTests)\r\n",
       "#4: SIP_J320_k3_classic_pardiso: FinishedSuccessful (MS HPC client  MSHPC-AllNodes @DC2, @\\\\fdygitrunner\\ValidationTests)\tSIP_J320_k3_classic_pardiso: FinishedSuccessful (MS HPC client  MSHPC-AllNodes @DC2, @\\\\fdygitrunner\\ValidationTests)\r\n",
       "#5: SIP_J2560_k3_classic_pardiso: FinishedSuccessful (MS HPC client  MSHPC-AllNodes @DC2, @\\\\fdygitrunner\\ValidationTests)\tSIP_J2560_k3_classic_pardiso: FinishedSuccessful (MS HPC client  MSHPC-AllNodes @DC2, @\\\\fdygitrunner\\ValidationTests)\r\n",
       "#6: SIP_J20480_k3_classic_pardiso: FinishedSuccessful (MS HPC client  MSHPC-AllNodes @DC2, @\\\\fdygitrunner\\ValidationTests)\tSIP_J20480_k3_classic_pardiso: FinishedSuccessful (MS HPC client  MSHPC-AllNodes @DC2, @\\\\fdygitrunner\\ValidationTests)\r\n",
       "#7: SIP_J320_k5_classic_pardiso: FinishedSuccessful (MS HPC client  MSHPC-AllNodes @DC2, @\\\\fdygitrunner\\ValidationTests)\tSIP_J320_k5_classic_pardiso: FinishedSuccessful (MS HPC client  MSHPC-AllNodes @DC2, @\\\\fdygitrunner\\ValidationTests)\r\n",
       "#8: SIP_J2560_k5_classic_pardiso: FinishedSuccessful (MS HPC client  MSHPC-AllNodes @DC2, @\\\\fdygitrunner\\ValidationTests)\tSIP_J2560_k5_classic_pardiso: FinishedSuccessful (MS HPC client  MSHPC-AllNodes @DC2, @\\\\fdygitrunner\\ValidationTests)\r\n",
       "#9: SIP_J320_k2_exp_Kcycle_schwarz: FinishedSuccessful (MS HPC client  MSHPC-AllNodes @DC2, @\\\\fdygitrunner\\ValidationTests)\tSIP_J320_k2_exp_Kcycle_schwarz: FinishedSuccessful (MS HPC client  MSHPC-AllNodes @DC2, @\\\\fdygitrunner\\ValidationTests)\r\n",
       "#10: SIP_J2560_k2_exp_Kcycle_schwarz: FinishedSuccessful (MS HPC client  MSHPC-AllNodes @DC2, @\\\\fdygitrunner\\ValidationTests)\tSIP_J2560_k2_exp_Kcycle_schwarz: FinishedSuccessful (MS HPC client  MSHPC-AllNodes @DC2, @\\\\fdygitrunner\\ValidationTests)\r\n",
       "#11: SIP_J20480_k2_exp_Kcycle_schwarz: FinishedSuccessful (MS HPC client  MSHPC-AllNodes @DC2, @\\\\fdygitrunner\\ValidationTests)\tSIP_J20480_k2_exp_Kcycle_schwarz: FinishedSuccessful (MS HPC client  MSHPC-AllNodes @DC2, @\\\\fdygitrunner\\ValidationTests)\r\n",
       "#12: SIP_J69120_k2_exp_Kcycle_schwarz: FinishedSuccessful (MS HPC client  MSHPC-AllNodes @DC2, @\\\\fdygitrunner\\ValidationTests)\tSIP_J69120_k2_exp_Kcycle_schwarz: FinishedSuccessful (MS HPC client  MSHPC-AllNodes @DC2, @\\\\fdygitrunner\\ValidationTests)\r\n",
       "#13: SIP_J163840_k2_exp_Kcycle_schwarz: FinishedSuccessful (MS HPC client  MSHPC-AllNodes @DC2, @\\\\fdygitrunner\\ValidationTests)\tSIP_J163840_k2_exp_Kcycle_schwarz: FinishedSuccessful (MS HPC client  MSHPC-AllNodes @DC2, @\\\\fdygitrunner\\ValidationTests)\r\n",
       "#14: SIP_J320_k3_exp_Kcycle_schwarz: FinishedSuccessful (MS HPC client  MSHPC-AllNodes @DC2, @\\\\fdygitrunner\\ValidationTests)\tSIP_J320_k3_exp_Kcycle_schwarz: FinishedSuccessful (MS HPC client  MSHPC-AllNodes @DC2, @\\\\fdygitrunner\\ValidationTests)\r\n",
       "#15: SIP_J2560_k3_exp_Kcycle_schwarz: FinishedSuccessful (MS HPC client  MSHPC-AllNodes @DC2, @\\\\fdygitrunner\\ValidationTests)\tSIP_J2560_k3_exp_Kcycle_schwarz: FinishedSuccessful (MS HPC client  MSHPC-AllNodes @DC2, @\\\\fdygitrunner\\ValidationTests)\r\n",
       "#16: SIP_J20480_k3_exp_Kcycle_schwarz: FinishedSuccessful (MS HPC client  MSHPC-AllNodes @DC2, @\\\\fdygitrunner\\ValidationTests)\tSIP_J20480_k3_exp_Kcycle_schwarz: FinishedSuccessful (MS HPC client  MSHPC-AllNodes @DC2, @\\\\fdygitrunner\\ValidationTests)\r\n",
       "#17: SIP_J69120_k3_exp_Kcycle_schwarz: FinishedSuccessful (MS HPC client  MSHPC-AllNodes @DC2, @\\\\fdygitrunner\\ValidationTests)\tSIP_J69120_k3_exp_Kcycle_schwarz: FinishedSuccessful (MS HPC client  MSHPC-AllNodes @DC2, @\\\\fdygitrunner\\ValidationTests)\r\n",
       "#18: SIP_J163840_k3_exp_Kcycle_schwarz: FailedOrCanceled (MS HPC client  MSHPC-AllNodes @DC2, @\\\\fdygitrunner\\ValidationTests)\tSIP_J163840_k3_exp_Kcycle_schwarz: FailedOrCanceled (MS HPC client  MSHPC-AllNodes @DC2, @\\\\fdygitrunner\\ValidationTests)\r\n",
       "#19: SIP_J320_k5_exp_Kcycle_schwarz: FinishedSuccessful (MS HPC client  MSHPC-AllNodes @DC2, @\\\\fdygitrunner\\ValidationTests)\tSIP_J320_k5_exp_Kcycle_schwarz: FinishedSuccessful (MS HPC client  MSHPC-AllNodes @DC2, @\\\\fdygitrunner\\ValidationTests)\r\n",
       "#20: SIP_J2560_k5_exp_Kcycle_schwarz: FinishedSuccessful (MS HPC client  MSHPC-AllNodes @DC2, @\\\\fdygitrunner\\ValidationTests)\tSIP_J2560_k5_exp_Kcycle_schwarz: FinishedSuccessful (MS HPC client  MSHPC-AllNodes @DC2, @\\\\fdygitrunner\\ValidationTests)\r\n",
       "#21: SIP_J20480_k5_exp_Kcycle_schwarz: FailedOrCanceled (MS HPC client  MSHPC-AllNodes @DC2, @\\\\fdygitrunner\\ValidationTests)\tSIP_J20480_k5_exp_Kcycle_schwarz: FailedOrCanceled (MS HPC client  MSHPC-AllNodes @DC2, @\\\\fdygitrunner\\ValidationTests)\r\n",
       "#22: SIP_J69120_k5_exp_Kcycle_schwarz: FailedOrCanceled (MS HPC client  MSHPC-AllNodes @DC2, @\\\\fdygitrunner\\ValidationTests)\tSIP_J69120_k5_exp_Kcycle_schwarz: FailedOrCanceled (MS HPC client  MSHPC-AllNodes @DC2, @\\\\fdygitrunner\\ValidationTests)\r\n",
       "#23: SIP_J320_k2_exp_gmres_levelpmg: FinishedSuccessful (MS HPC client  MSHPC-AllNodes @DC2, @\\\\fdygitrunner\\ValidationTests)\tSIP_J320_k2_exp_gmres_levelpmg: FinishedSuccessful (MS HPC client  MSHPC-AllNodes @DC2, @\\\\fdygitrunner\\ValidationTests)\r\n",
       "#24: SIP_J2560_k2_exp_gmres_levelpmg: FinishedSuccessful (MS HPC client  MSHPC-AllNodes @DC2, @\\\\fdygitrunner\\ValidationTests)\tSIP_J2560_k2_exp_gmres_levelpmg: FinishedSuccessful (MS HPC client  MSHPC-AllNodes @DC2, @\\\\fdygitrunner\\ValidationTests)\r\n",
       "#25: SIP_J20480_k2_exp_gmres_levelpmg: FinishedSuccessful (MS HPC client  MSHPC-AllNodes @DC2, @\\\\fdygitrunner\\ValidationTests)\tSIP_J20480_k2_exp_gmres_levelpmg: FinishedSuccessful (MS HPC client  MSHPC-AllNodes @DC2, @\\\\fdygitrunner\\ValidationTests)\r\n",
       "#26: SIP_J69120_k2_exp_gmres_levelpmg: FinishedSuccessful (MS HPC client  MSHPC-AllNodes @DC2, @\\\\fdygitrunner\\ValidationTests)\tSIP_J69120_k2_exp_gmres_levelpmg: FinishedSuccessful (MS HPC client  MSHPC-AllNodes @DC2, @\\\\fdygitrunner\\ValidationTests)\r\n",
       "#27: SIP_J163840_k2_exp_gmres_levelpmg: FinishedSuccessful (MS HPC client  MSHPC-AllNodes @DC2, @\\\\fdygitrunner\\ValidationTests)\tSIP_J163840_k2_exp_gmres_levelpmg: FinishedSuccessful (MS HPC client  MSHPC-AllNodes @DC2, @\\\\fdygitrunner\\ValidationTests)\r\n",
       "#28: SIP_J320_k3_exp_gmres_levelpmg: FinishedSuccessful (MS HPC client  MSHPC-AllNodes @DC2, @\\\\fdygitrunner\\ValidationTests)\tSIP_J320_k3_exp_gmres_levelpmg: FinishedSuccessful (MS HPC client  MSHPC-AllNodes @DC2, @\\\\fdygitrunner\\ValidationTests)\r\n",
       "#29: SIP_J2560_k3_exp_gmres_levelpmg: FinishedSuccessful (MS HPC client  MSHPC-AllNodes @DC2, @\\\\fdygitrunner\\ValidationTests)\tSIP_J2560_k3_exp_gmres_levelpmg: FinishedSuccessful (MS HPC client  MSHPC-AllNodes @DC2, @\\\\fdygitrunner\\ValidationTests)\r\n",
       "#30: SIP_J20480_k3_exp_gmres_levelpmg: FinishedSuccessful (MS HPC client  MSHPC-AllNodes @DC2, @\\\\fdygitrunner\\ValidationTests)\tSIP_J20480_k3_exp_gmres_levelpmg: FinishedSuccessful (MS HPC client  MSHPC-AllNodes @DC2, @\\\\fdygitrunner\\ValidationTests)\r\n",
       "#31: SIP_J69120_k3_exp_gmres_levelpmg: FinishedSuccessful (MS HPC client  MSHPC-AllNodes @DC2, @\\\\fdygitrunner\\ValidationTests)\tSIP_J69120_k3_exp_gmres_levelpmg: FinishedSuccessful (MS HPC client  MSHPC-AllNodes @DC2, @\\\\fdygitrunner\\ValidationTests)\r\n",
       "#32: SIP_J163840_k3_exp_gmres_levelpmg: FailedOrCanceled (MS HPC client  MSHPC-AllNodes @DC2, @\\\\fdygitrunner\\ValidationTests)\tSIP_J163840_k3_exp_gmres_levelpmg: FailedOrCanceled (MS HPC client  MSHPC-AllNodes @DC2, @\\\\fdygitrunner\\ValidationTests)\r\n",
       "#33: SIP_J320_k5_exp_gmres_levelpmg: FinishedSuccessful (MS HPC client  MSHPC-AllNodes @DC2, @\\\\fdygitrunner\\ValidationTests)\tSIP_J320_k5_exp_gmres_levelpmg: FinishedSuccessful (MS HPC client  MSHPC-AllNodes @DC2, @\\\\fdygitrunner\\ValidationTests)\r\n",
       "#34: SIP_J2560_k5_exp_gmres_levelpmg: FinishedSuccessful (MS HPC client  MSHPC-AllNodes @DC2, @\\\\fdygitrunner\\ValidationTests)\tSIP_J2560_k5_exp_gmres_levelpmg: FinishedSuccessful (MS HPC client  MSHPC-AllNodes @DC2, @\\\\fdygitrunner\\ValidationTests)\r\n",
       "#35: SIP_J20480_k5_exp_gmres_levelpmg: FinishedSuccessful (MS HPC client  MSHPC-AllNodes @DC2, @\\\\fdygitrunner\\ValidationTests)\tSIP_J20480_k5_exp_gmres_levelpmg: FinishedSuccessful (MS HPC client  MSHPC-AllNodes @DC2, @\\\\fdygitrunner\\ValidationTests)\r\n",
       "#36: SIP_J69120_k5_exp_gmres_levelpmg: FailedOrCanceled (MS HPC client  MSHPC-AllNodes @DC2, @\\\\fdygitrunner\\ValidationTests)\tSIP_J69120_k5_exp_gmres_levelpmg: FailedOrCanceled (MS HPC client  MSHPC-AllNodes @DC2, @\\\\fdygitrunner\\ValidationTests)\r\n"
      ]
     },
     "execution_count": 25,
     "metadata": {},
     "output_type": "execute_result"
    }
   ],
   "source": [
    "wmg.AllJobs"
   ]
  },
  {
   "cell_type": "code",
   "execution_count": 26,
   "metadata": {
    "dotnet_interactive": {
     "language": "csharp"
    }
   },
   "outputs": [
    {
     "data": {
      "text/plain": [
       "#0: LinslvPerf_ConstPoissonMpi1\tSIP_J69120_k3_exp_Kcycle_schwarz\t11/04/2021 18:06:45\t8666816b...\r\n",
       "#1: LinslvPerf_ConstPoissonMpi1\tSIP_J163840_k2_exp_Kcycle_schwarz\t11/04/2021 18:06:01\tf68b6d88...\r\n",
       "#2: LinslvPerf_ConstPoissonMpi1\tSIP_J163840_k2_exp_gmres_levelpmg\t11/04/2021 18:08:08\tb976d734...\r\n",
       "#3: LinslvPerf_ConstPoissonMpi1\tSIP_J20480_k5_exp_gmres_levelpmg\t11/04/2021 18:09:39\t493fc562...\r\n",
       "#4: LinslvPerf_ConstPoissonMpi1\tSIP_J20480_k3_classic_pardiso\t11/04/2021 18:04:55\t7963f80d...\r\n",
       "#5: LinslvPerf_ConstPoissonMpi1\tSIP_J69120_k2_classic_pardiso\t11/04/2021 18:04:27\ta4a94934...\r\n",
       "#6: LinslvPerf_ConstPoissonMpi1\tSIP_J69120_k2_exp_Kcycle_schwarz\t11/04/2021 18:05:50\te3f9e9a3...\r\n",
       "#7: LinslvPerf_ConstPoissonMpi1\tSIP_J69120_k3_exp_gmres_levelpmg\t11/04/2021 18:08:57\t372e3ccb...\r\n",
       "#8: LinslvPerf_ConstPoissonMpi1\tSIP_J69120_k2_exp_gmres_levelpmg\t11/04/2021 18:07:55\t36bd8a75...\r\n",
       "#9: LinslvPerf_ConstPoissonMpi1\tSIP_J20480_k3_exp_Kcycle_schwarz\t11/04/2021 18:06:32\t69239995...\r\n",
       "#10: LinslvPerf_ConstPoissonMpi1\tSIP_J20480_k3_exp_gmres_levelpmg\t11/04/2021 18:08:45\t6a50b2ff...\r\n",
       "#11: LinslvPerf_ConstPoissonMpi1\tSIP_J2560_k5_exp_Kcycle_schwarz\t11/04/2021 18:07:06\t5bf1fa24...\r\n",
       "#12: LinslvPerf_ConstPoissonMpi1\tSIP_J2560_k5_exp_gmres_levelpmg\t11/04/2021 18:09:26\t5b7dbade...\r\n",
       "#13: LinslvPerf_ConstPoissonMpi1\tSIP_J20480_k2_exp_Kcycle_schwarz\t11/04/2021 18:05:39\tc55d09d6...\r\n",
       "#14: LinslvPerf_ConstPoissonMpi1\tSIP_J20480_k2_exp_gmres_levelpmg\t11/04/2021 18:07:44\t161597aa...\r\n",
       "#15: LinslvPerf_ConstPoissonMpi1\tSIP_J320_k5_exp_gmres_levelpmg\t11/04/2021 18:09:14\t8e4754a4...\r\n",
       "#16: LinslvPerf_ConstPoissonMpi1\tSIP_J2560_k3_exp_gmres_levelpmg\t11/04/2021 18:08:32\td50c224e...\r\n",
       "#17: LinslvPerf_ConstPoissonMpi1\tSIP_J2560_k5_classic_pardiso\t11/04/2021 18:05:11\t666900ca...\r\n",
       "#18: LinslvPerf_ConstPoissonMpi1\tSIP_J20480_k2_classic_pardiso\t11/04/2021 18:04:16\te814f336...\r\n",
       "#19: LinslvPerf_ConstPoissonMpi1\tSIP_J320_k3_exp_gmres_levelpmg\t11/04/2021 18:08:21\t7e9efb62...\r\n",
       "#20: LinslvPerf_ConstPoissonMpi1\tSIP_J2560_k2_exp_gmres_levelpmg\t11/04/2021 18:07:32\ta968c0f5...\r\n",
       "#21: LinslvPerf_ConstPoissonMpi1\tSIP_J320_k2_exp_gmres_levelpmg\t11/04/2021 18:07:23\t6ff0bbcd...\r\n",
       "#22: LinslvPerf_ConstPoissonMpi1\tSIP_J320_k5_exp_Kcycle_schwarz\t11/04/2021 18:06:58\t97a513e9...\r\n",
       "#23: LinslvPerf_ConstPoissonMpi1\tSIP_J2560_k3_exp_Kcycle_schwarz\t11/04/2021 18:06:20\tdade6778...\r\n",
       "#24: LinslvPerf_ConstPoissonMpi1\tSIP_J320_k3_exp_Kcycle_schwarz\t11/04/2021 18:06:11\t74ac4605...\r\n",
       "#25: LinslvPerf_ConstPoissonMpi1\tSIP_J2560_k2_exp_Kcycle_schwarz\t11/04/2021 18:05:30\tb508b05c...\r\n",
       "#26: LinslvPerf_ConstPoissonMpi1\tSIP_J2560_k3_classic_pardiso\t11/04/2021 18:04:44\t1c816ecd...\r\n",
       "#27: LinslvPerf_ConstPoissonMpi1\tSIP_J320_k2_exp_Kcycle_schwarz\t11/04/2021 18:05:21\t7f483e46...\r\n",
       "#28: LinslvPerf_ConstPoissonMpi1\tSIP_J320_k5_classic_pardiso\t11/04/2021 18:05:03\t6c946202...\r\n",
       "#29: LinslvPerf_ConstPoissonMpi1\tSIP_J320_k3_classic_pardiso\t11/04/2021 18:04:36\t2a61dd08...\r\n",
       "#30: LinslvPerf_ConstPoissonMpi1\tSIP_J2560_k2_classic_pardiso\t11/04/2021 18:04:08\t5ce0bf18...\r\n",
       "#31: LinslvPerf_ConstPoissonMpi1\tSIP_J320_k2_classic_pardiso\t11/04/2021 18:04:00\t1f6cb5be...\r\n"
      ]
     },
     "execution_count": 26,
     "metadata": {},
     "output_type": "execute_result"
    }
   ],
   "source": [
    "wmg.Sessions"
   ]
  },
  {
   "cell_type": "code",
   "execution_count": 27,
   "metadata": {
    "dotnet_interactive": {
     "language": "csharp"
    }
   },
   "outputs": [
    {
     "data": {
      "text/plain": [
       "#0: SIP_J163840_k3_exp_Kcycle_schwarz: FailedOrCanceled (MS HPC client  MSHPC-AllNodes @DC2, @\\\\fdygitrunner\\ValidationTests)\r\n",
       "#1: SIP_J20480_k5_exp_Kcycle_schwarz: FailedOrCanceled (MS HPC client  MSHPC-AllNodes @DC2, @\\\\fdygitrunner\\ValidationTests)\r\n",
       "#2: SIP_J69120_k5_exp_Kcycle_schwarz: FailedOrCanceled (MS HPC client  MSHPC-AllNodes @DC2, @\\\\fdygitrunner\\ValidationTests)\r\n",
       "#3: SIP_J163840_k3_exp_gmres_levelpmg: FailedOrCanceled (MS HPC client  MSHPC-AllNodes @DC2, @\\\\fdygitrunner\\ValidationTests)\r\n",
       "#4: SIP_J69120_k5_exp_gmres_levelpmg: FailedOrCanceled (MS HPC client  MSHPC-AllNodes @DC2, @\\\\fdygitrunner\\ValidationTests)\r\n"
      ]
     },
     "execution_count": 27,
     "metadata": {},
     "output_type": "execute_result"
    }
   ],
   "source": [
    "var NoSuccess = wmg.AllJobs.Values.Where(job => job.Status != JobStatus.FinishedSuccessful);\n",
    "NoSuccess"
   ]
  },
  {
   "cell_type": "code",
   "execution_count": null,
   "metadata": {
    "dotnet_interactive": {
     "language": "csharp"
    }
   },
   "outputs": [],
   "source": [
    "NUnit.Framework.Assert.Zero(NoSuccess.Count(), \"Some Jobs Failed\");"
   ]
  },
  {
   "cell_type": "code",
   "execution_count": 35,
   "metadata": {
    "dotnet_interactive": {
     "language": "csharp"
    }
   },
   "outputs": [],
   "source": [
    "//foreach(Job jF in NoSuccess)\n",
    "//   jF.DeleteOldDeploymentsAndSessions();"
   ]
  },
  {
   "cell_type": "code",
   "execution_count": 28,
   "metadata": {
    "dotnet_interactive": {
     "language": "csharp"
    }
   },
   "outputs": [
    {
     "data": {
      "text/plain": []
     },
     "execution_count": 28,
     "metadata": {},
     "output_type": "execute_result"
    }
   ],
   "source": [
    "var FailedSessions = wmg.Sessions.Where(Si => Si.SuccessfulTermination == false);\n",
    "FailedSessions"
   ]
  },
  {
   "cell_type": "code",
   "execution_count": null,
   "metadata": {
    "dotnet_interactive": {
     "language": "csharp"
    }
   },
   "outputs": [],
   "source": [
    "NUnit.Framework.Assert.Zero(FailedSessions.Count(), \"Some Sessions did not derminate successfully.\");"
   ]
  },
  {
   "cell_type": "markdown",
   "metadata": {},
   "source": [
    "List Output of some job:"
   ]
  },
  {
   "cell_type": "code",
   "execution_count": null,
   "metadata": {
    "dotnet_interactive": {
     "language": "csharp"
    }
   },
   "outputs": [],
   "source": [
    "wmg.AllJobs.First().Value.Stdout"
   ]
  },
  {
   "cell_type": "code",
   "execution_count": 39,
   "metadata": {
    "dotnet_interactive": {
     "language": "csharp"
    }
   },
   "outputs": [
    {
     "data": {
      "text/plain": [
       "LinslvPerf_ConstPoissonMpi1-ipPoisson2021Nov04_122801"
      ]
     },
     "execution_count": 39,
     "metadata": {},
     "output_type": "execute_result"
    }
   ],
   "source": [
    "NoSuccess.Last().LatestDeployment.DeploymentDirectory.Name"
   ]
  },
  {
   "cell_type": "markdown",
   "metadata": {
    "dotnet_interactive": {
     "language": "csharp"
    }
   },
   "source": [
    "## Create Table for Post-Processing"
   ]
  },
  {
   "cell_type": "code",
   "execution_count": null,
   "metadata": {
    "dotnet_interactive": {
     "language": "csharp"
    }
   },
   "outputs": [],
   "source": [
    "// evaluators to add additional columns to the session table\n",
    "static class AddCols {\n",
    "    static public object XdgMatrixAssembly_time(ISessionInfo SI) {\n",
    "        var mcr = SI.GetProfiling()[0];\n",
    "        var ndS = mcr.FindChildren(\"MatrixAssembly\");\n",
    "        var nd  = ndS.ElementAt(0);\n",
    "        return nd.TimeSpentInMethod.TotalSeconds  / nd.CallCount;\n",
    "    }\n",
    "    static public object Aggregation_basis_init_time(ISessionInfo SI) {\n",
    "        var mcr = SI.GetProfiling()[0];\n",
    "        var ndS = mcr.FindChildren(\"Aggregation_basis_init\");\n",
    "        var nd  = ndS.ElementAt(0);\n",
    "        return nd.TimeSpentInMethod.TotalSeconds  / nd.CallCount;\n",
    "    }\n",
    "    static public object Solver_Init_time(ISessionInfo SI) {\n",
    "        var mcr = SI.GetProfiling()[0];\n",
    "        var ndS = mcr.FindChildren(\"Solver_Init\");\n",
    "        var nd  = ndS.ElementAt(0);\n",
    "        //Console.WriteLine(\"Number of nodes: \" + ndS.Count() + \" cc \" + nd.CallCount );\n",
    "        return nd.TimeSpentInMethod.TotalSeconds / nd.CallCount;\n",
    "    }\n",
    "    static public object Solver_Run_time(ISessionInfo SI) {\n",
    "        var mcr = SI.GetProfiling()[0];\n",
    "        var ndS = mcr.FindChildren(\"Solver_Run\");\n",
    "        var nd  = ndS.ElementAt(0);\n",
    "        return nd.TimeSpentInMethod.TotalSeconds  / nd.CallCount;\n",
    "    }\n",
    "    static public object NoOfCores(ISessionInfo SI){\n",
    "        return SI.GetProfiling().Length;\n",
    "        }\n",
    "}"
   ]
  },
  {
   "cell_type": "code",
   "execution_count": null,
   "metadata": {
    "dotnet_interactive": {
     "language": "csharp"
    }
   },
   "outputs": [],
   "source": [
    "wmg.AdditionalSessionTableColums.Clear();\n",
    "wmg.AdditionalSessionTableColums.Add(\"MatrixAssembly\", AddCols.XdgMatrixAssembly_time);\n",
    "wmg.AdditionalSessionTableColums.Add(\"Aggregation_basis_init_time\", AddCols.Aggregation_basis_init_time);\n",
    "wmg.AdditionalSessionTableColums.Add(\"Solver_Init_time\", AddCols.Solver_Init_time);\n",
    "wmg.AdditionalSessionTableColums.Add(\"Solver_Run_time\", AddCols.Solver_Run_time);\n",
    "wmg.AdditionalSessionTableColums.Add(\"NoOfCores\", AddCols.NoOfCores);"
   ]
  },
  {
   "cell_type": "code",
   "execution_count": null,
   "metadata": {
    "dotnet_interactive": {
     "language": "csharp"
    }
   },
   "outputs": [],
   "source": [
    "var FullSessTab = wmg.SessionTable;\n",
    "\n",
    "// The Session column can't be serialized,\n",
    "// we have to remove it\n",
    "List<string> AllCols = FullSessTab.GetColumnNames().ToList();\n",
    "AllCols.Remove(\"Session\");\n",
    "FullSessTab = FullSessTab.ExtractColumns(AllCols.ToArray());"
   ]
  },
  {
   "cell_type": "code",
   "execution_count": null,
   "metadata": {
    "dotnet_interactive": {
     "language": "csharp"
    }
   },
   "outputs": [],
   "source": [
    "//foreach(var s in AllCols) Console.WriteLine(s);"
   ]
  },
  {
   "cell_type": "code",
   "execution_count": null,
   "metadata": {
    "dotnet_interactive": {
     "language": "csharp"
    }
   },
   "outputs": [],
   "source": [
    "//foreach(var s in wmg.Sessions[0].KeysAndQueries.Keys) Console.WriteLine(s + \" \\t = \" + wmg.Sessions[0].KeysAndQueries[s]);"
   ]
  },
  {
   "cell_type": "code",
   "execution_count": null,
   "metadata": {
    "dotnet_interactive": {
     "language": "csharp"
    }
   },
   "outputs": [],
   "source": [
    "var SubTab = FullSessTab.ExtractColumns(\n",
    "    \"SessionName\",\"DGdegree:T\", \"Grid:NoOfCells\", \"LinearSolver.SolverCode\", \"DOFs\", \"MatrixAssembly\",\n",
    "    \"Aggregation_basis_init_time\", \"Solver_Init_time\", \"Solver_Run_time\", \"NoIter\");"
   ]
  },
  {
   "cell_type": "code",
   "execution_count": null,
   "metadata": {
    "dotnet_interactive": {
     "language": "csharp"
    }
   },
   "outputs": [],
   "source": [
    "SubTab.Print();"
   ]
  },
  {
   "cell_type": "code",
   "execution_count": null,
   "metadata": {
    "dotnet_interactive": {
     "language": "csharp"
    }
   },
   "outputs": [],
   "source": [
    "// Filename\n",
    "var now               = DateTime.Now;\n",
    "FullSessTab.TableName = wmg.CurrentProject + \"_\" + now.Year + \"-\" + now.Month + \"-\" + now.Day;\n",
    "string docpath        = FullSessTab.TableName + \".json\";\n",
    "SubTab.SaveToFile(wmg.CurrentProject + \".json\");\n",
    "SubTab.ToCSVFile(wmg.CurrentProject + \".csv\");"
   ]
  },
  {
   "cell_type": "code",
   "execution_count": null,
   "metadata": {
    "dotnet_interactive": {
     "language": "csharp"
    }
   },
   "outputs": [],
   "source": []
  }
 ],
 "metadata": {
  "kernelspec": {
   "display_name": ".NET (C#)",
   "language": "C#",
   "name": ".net-csharp"
  },
  "language_info": {
   "file_extension": ".cs",
   "mimetype": "text/x-csharp",
   "name": "C#",
   "pygments_lexer": "csharp",
   "version": "9.0"
  }
 },
 "nbformat": 4,
 "nbformat_minor": 4
}
