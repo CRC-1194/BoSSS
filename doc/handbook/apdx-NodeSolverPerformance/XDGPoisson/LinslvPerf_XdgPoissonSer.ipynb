{
 "cells": [
  {
   "cell_type": "markdown",
   "metadata": {},
   "source": [
    "# Linear Solver Performance: XDG Poisson, Single Core\n",
    "\n",
    "### Part 1, Benchmark Setup and Execution"
   ]
  },
  {
   "cell_type": "code",
   "execution_count": null,
   "metadata": {
    "dotnet_interactive": {
     "language": "csharp"
    }
   },
   "outputs": [
    {
     "name": "stdout",
     "output_type": "stream",
     "text": [
      "Execution Date/time is 11/08/2021 11:47:30\r\n"
     ]
    }
   ],
   "source": [
    "Console.WriteLine(\"Execution Date/time is \" + DateTime.Now);"
   ]
  },
  {
   "cell_type": "code",
   "execution_count": null,
   "metadata": {
    "dotnet_interactive": {
     "language": "csharp"
    }
   },
   "outputs": [
    {
     "name": "stdout",
     "output_type": "stream",
     "text": [
      "Using gnuplot: C:\\Program Files (x86)\\FDY\\BoSSS\\bin\\native\\win\\gnuplot-gp510-20160418-win32-mingw\\gnuplot\\bin\\gnuplot.exe\r\n",
      "Databases loaded: \r\n",
      "Capacity: 4\r\n",
      "Count: 1\r\n",
      "\r\n"
     ]
    },
    {
     "ename": "Error",
     "evalue": "System.ApplicationException: Already called.\r\n   at BoSSS.Application.BoSSSpad.BoSSSshell.InitTraceFile() in C:\\Users\\flori\\Documents\\BoSSS-NET5\\public\\src\\L4-application\\BoSSSpad\\BoSSSshell.cs:line 162\r\n   at BoSSS.Application.BoSSSpad.BoSSSshell.Init() in C:\\Users\\flori\\Documents\\BoSSS-NET5\\public\\src\\L4-application\\BoSSSpad\\BoSSSshell.cs:line 97\r\n   at Submission#22.<<Initialize>>d__0.MoveNext()\r\n--- End of stack trace from previous location ---\r\n   at Microsoft.CodeAnalysis.Scripting.ScriptExecutionState.RunSubmissionsAsync[TResult](ImmutableArray`1 precedingExecutors, Func`2 currentExecutor, StrongBox`1 exceptionHolderOpt, Func`2 catchExceptionOpt, CancellationToken cancellationToken)",
     "output_type": "error",
     "traceback": [
      "System.ApplicationException: Already called.\r\n",
      "   at BoSSS.Application.BoSSSpad.BoSSSshell.InitTraceFile() in C:\\Users\\flori\\Documents\\BoSSS-NET5\\public\\src\\L4-application\\BoSSSpad\\BoSSSshell.cs:line 162\r\n",
      "   at BoSSS.Application.BoSSSpad.BoSSSshell.Init() in C:\\Users\\flori\\Documents\\BoSSS-NET5\\public\\src\\L4-application\\BoSSSpad\\BoSSSshell.cs:line 97\r\n",
      "   at Submission#22.<<Initialize>>d__0.MoveNext()\r\n",
      "--- End of stack trace from previous location ---\r\n",
      "   at Microsoft.CodeAnalysis.Scripting.ScriptExecutionState.RunSubmissionsAsync[TResult](ImmutableArray`1 precedingExecutors, Func`2 currentExecutor, StrongBox`1 exceptionHolderOpt, Func`2 catchExceptionOpt, CancellationToken cancellationToken)"
     ]
    }
   ],
   "source": [
    "#r \"BoSSSpad.dll\"\n",
    "using System;\n",
    "using System.Collections.Generic;\n",
    "using System.Linq;\n",
    "using ilPSP;\n",
    "using ilPSP.Utils;\n",
    "using BoSSS.Platform;\n",
    "using BoSSS.Platform.LinAlg;\n",
    "using BoSSS.Foundation;\n",
    "using BoSSS.Foundation.XDG;\n",
    "using BoSSS.Foundation.Grid;\n",
    "using BoSSS.Foundation.Grid.Classic;\n",
    "using BoSSS.Foundation.Grid.RefElements;\n",
    "using BoSSS.Foundation.IO;\n",
    "using BoSSS.Solution;\n",
    "using BoSSS.Solution.Control;\n",
    "using BoSSS.Solution.GridImport;\n",
    "using BoSSS.Solution.Statistic;\n",
    "using BoSSS.Solution.Utils;\n",
    "using BoSSS.Solution.AdvancedSolvers;\n",
    "using BoSSS.Solution.Gnuplot;\n",
    "using BoSSS.Application.BoSSSpad;\n",
    "using BoSSS.Application.XNSE_Solver;\n",
    "using BoSSS.Application.XNSFE_Solver;\n",
    "using static BoSSS.Application.BoSSSpad.BoSSSshell;\n",
    "Init();"
   ]
  },
  {
   "cell_type": "code",
   "execution_count": null,
   "metadata": {
    "dotnet_interactive": {
     "language": "csharp"
    }
   },
   "outputs": [],
   "source": [
    "using BoSSS.Application.XdgPoisson3;"
   ]
  },
  {
   "cell_type": "code",
   "execution_count": null,
   "metadata": {
    "dotnet_interactive": {
     "language": "csharp"
    }
   },
   "outputs": [
    {
     "data": {
      "text/html": [
       "<table><thead><tr><th><i>index</i></th><th><i>type</i></th><th>DeploymentBaseDirectory</th><th>DeployRuntime</th><th>Name</th><th>DotnetRuntime</th><th>BatchInstructionDir</th><th>AllowedDatabasesPaths</th><th>Username</th><th>ServerName</th><th>ComputeNodes</th><th>DefaultJobPriority</th><th>SingleNode</th><th>Password</th><th>PrivateKeyFilePath</th><th>AdditionalBatchCommands</th><th>DeploymentBaseDirectoryAtRemote</th><th>SlurmAccount</th><th>Email</th><th>MonoDebug</th></tr></thead><tbody><tr><td>0</td><td>BoSSS.Application.BoSSSpad.MiniBatchProcessorClient</td><td>C:\\Users\\flori\\AppData\\Local\\BoSSS-LocalJobs</td><td>False</td><td>LocalPC</td><td>dotnet</td><td><div class=\"dni-plaintext\">&lt;null&gt;</div></td><td>[ C:\\BoSSS-Databases == , C:\\Users\\flori ==  ]</td><td></td><td></td><td></td><td></td><td></td><td></td><td></td><td></td><td></td><td></td><td></td><td></td></tr><tr><td>1</td><td>BoSSS.Application.BoSSSpad.MsHPC2012Client</td><td>\\\\dc1\\userspace\\kummer\\cluster</td><td>False</td><td>FDY-WindowsHPC</td><td>dotnet</td><td></td><td>[ \\\\dc1\\userspace\\kummer ==  ]</td><td>FDY\\kummer</td><td>DC2</td><td><div class=\"dni-plaintext\">&lt;null&gt;</div></td><td>Normal</td><td>True</td><td></td><td></td><td></td><td></td><td></td><td></td><td></td></tr><tr><td>2</td><td>BoSSS.Application.BoSSSpad.SlurmClient</td><td>W:\\bosss_deploy</td><td>False</td><td>LbI</td><td>dotnet</td><td></td><td></td><td>fk69umer</td><td>lcluster8.hrz.tu-darmstadt.de</td><td></td><td></td><td></td><td><div class=\"dni-plaintext\">&lt;null&gt;</div></td><td>C:\\Users\\flori\\.ssh\\id_rsa</td><td><div class=\"dni-plaintext\">&lt;null&gt;</div></td><td>/home/fk69umer/bosss_deploy</td><td>project01287</td><td><div class=\"dni-plaintext\">&lt;null&gt;</div></td><td>False</td></tr><tr><td>3</td><td>BoSSS.Application.BoSSSpad.SlurmClient</td><td>X:\\bosss_deploy</td><td>False</td><td>Lb2-specialPrj</td><td>dotnet</td><td></td><td>[ X: == /work/scratch/fk69umer ]</td><td>fk69umer</td><td>lcluster16.hrz.tu-darmstadt.de</td><td></td><td></td><td></td><td><div class=\"dni-plaintext\">&lt;null&gt;</div></td><td>C:\\Users\\flori\\.ssh\\id_rsa</td><td>[ #SBATCH -p test24, #SBATCH -C avx512, #SBATCH --mem-per-cpu=8000 ]</td><td>/work/scratch/fk69umer/bosss_deploy</td><td>special00006</td><td><div class=\"dni-plaintext\">&lt;null&gt;</div></td><td>False</td></tr></tbody></table>"
      ]
     },
     "metadata": {},
     "output_type": "display_data"
    }
   ],
   "source": [
    "ExecutionQueues"
   ]
  },
  {
   "cell_type": "code",
   "execution_count": null,
   "metadata": {
    "dotnet_interactive": {
     "language": "csharp"
    }
   },
   "outputs": [
    {
     "data": {
      "text/html": [
       "<table><thead><tr><th>DeploymentBaseDirectory</th><th>DeployRuntime</th><th>Name</th><th>DotnetRuntime</th><th>BatchInstructionDir</th><th>AllowedDatabasesPaths</th></tr></thead><tbody><tr><td><div class=\"dni-plaintext\">C:\\Users\\flori\\AppData\\Local\\BoSSS-LocalJobs</div></td><td><div class=\"dni-plaintext\">False</div></td><td><div class=\"dni-plaintext\">LocalPC</div></td><td><div class=\"dni-plaintext\">dotnet</div></td><td><div class=\"dni-plaintext\">&lt;null&gt;</div></td><td><div class=\"dni-plaintext\">[ C:\\BoSSS-Databases == , C:\\Users\\flori ==  ]</div></td></tr></tbody></table>"
      ]
     },
     "metadata": {},
     "output_type": "display_data"
    }
   ],
   "source": [
    "var myBatch = GetDefaultQueue();\n",
    "myBatch"
   ]
  },
  {
   "cell_type": "code",
   "execution_count": null,
   "metadata": {
    "dotnet_interactive": {
     "language": "csharp"
    }
   },
   "outputs": [
    {
     "name": "stdout",
     "output_type": "stream",
     "text": [
      "Project name is set to 'LinslvPerf_XdgPoissonSer'.\r\n",
      "Opening existing database 'C:\\BoSSS-Databases\\LinslvPerf_XdgPoissonSer'.\r\n"
     ]
    },
    {
     "data": {
      "text/plain": []
     },
     "metadata": {},
     "output_type": "display_data"
    }
   ],
   "source": [
    "wmg.Init(\"LinslvPerf_XdgPoissonSer\");\n",
    "wmg.AllJobs"
   ]
  },
  {
   "cell_type": "markdown",
   "metadata": {
    "dotnet_interactive": {
     "language": "csharp"
    }
   },
   "source": [
    "## Utility definitions"
   ]
  },
  {
   "cell_type": "code",
   "execution_count": null,
   "metadata": {
    "dotnet_interactive": {
     "language": "csharp"
    }
   },
   "outputs": [],
   "source": [
    "static class Utils {\n",
    "    // DOF per cell in 3D\n",
    "    public static int Np(int p) {\n",
    "        return (p*p*p + 6*p*p + 11*p + 6)/6;\n",
    "    }    \n",
    "    \n",
    "    /*\n",
    "    //Non-equidistant nodes\n",
    "    public static double[] SinLinSpacing(double l, double r, double a, int n) {\n",
    "        double[] linnodes = GenericBlas.Linspace(-Math.PI * 0.5, Math.PI * 0.5, n);\n",
    "        double[] linnodes2 = GenericBlas.Linspace(-1, 1, n);\n",
    "        double[] nodes = new double[n];\n",
    "\n",
    "        for (int i = 0; i < n; i++)\n",
    "            //nodes[i] = linnodes2[i] * (1 - a) + (1.0 - Math.Sin(linnodes[i])) * a;\n",
    "            nodes[i] = linnodes2[i] * (1 - a) + Math.Sin(linnodes[i])*a;\n",
    "\n",
    "        for (int i = 0; i < n; i++)\n",
    "            nodes[i] = nodes[i] * (r - l)*0.5 + l;\n",
    "        return nodes;\n",
    "    }*/\n",
    "}"
   ]
  },
  {
   "cell_type": "markdown",
   "metadata": {
    "dotnet_interactive": {
     "language": "csharp"
    }
   },
   "source": [
    "## Init grids and save to database"
   ]
  },
  {
   "cell_type": "code",
   "execution_count": null,
   "metadata": {
    "dotnet_interactive": {
     "language": "csharp"
    }
   },
   "outputs": [
    {
     "name": "stdout",
     "output_type": "stream",
     "text": [
      "Opening existing database '\\\\dc1\\userspace\\kummer\\LinslvPerf_XdgPoissonSer'.\r\n",
      "DirectoryNotFoundException caught during creation/opening of database: Could not find a part of the path 'X:\\LinslvPerf_XdgPoissonSer'..\r\n"
     ]
    },
    {
     "data": {
      "text/plain": [
       "#0: { Guid = e526799b-bc50-40f5-9e07-393469db64e5; Name = LinslvPerf_XdgPoissonSer_J262144; Cell Count = 262144; Dim = 3 }\r\n",
       "#1: { Guid = 9574aa7b-797e-4e97-896e-745b18dba0cb; Name = LinslvPerf_XdgPoissonSer_J32768; Cell Count = 32768; Dim = 3 }\r\n",
       "#2: { Guid = 56dfb2c4-8fe4-40a4-bba4-4496f760b623; Name = LinslvPerf_XdgPoissonSer_J4096; Cell Count = 4096; Dim = 3 }\r\n",
       "#3: { Guid = 04bbd46f-eb85-45c8-bfa6-218818e2bf2e; Name = LinslvPerf_XdgPoissonSer_J512; Cell Count = 512; Dim = 3 }\r\n",
       "#4: { Guid = 24e5a297-1907-4f13-b7be-efb1407f8632; Name = LinslvPerf_XdgPoissonSer_J64; Cell Count = 64; Dim = 3 }\r\n",
       "#5: { Guid = d3faf6e4-b4e0-4a52-bdda-606cecaee32a; Name = LinslvPerf_XdgPoissonSer_J8; Cell Count = 8; Dim = 3 }\r\n"
      ]
     },
     "metadata": {},
     "output_type": "display_data"
    }
   ],
   "source": [
    "wmg.Grids"
   ]
  },
  {
   "cell_type": "markdown",
   "metadata": {},
   "source": [
    "Create meshes in various resolutions:\n",
    "- domain $\\Omega = (-1,1)^3$; \n",
    "- a Dirichlet boundary is set everywhere; the challenge of this benchmark,\n",
    "  from a numerical point, is the 1:1000 ratio in the diffusion coefficient"
   ]
  },
  {
   "cell_type": "code",
   "execution_count": null,
   "metadata": {
    "dotnet_interactive": {
     "language": "csharp"
    }
   },
   "outputs": [
    {
     "name": "stdout",
     "output_type": "stream",
     "text": [
      "Found Grid: { Guid = d3faf6e4-b4e0-4a52-bdda-606cecaee32a; Name = LinslvPerf_XdgPoissonSer_J8; Cell Count = 8; Dim = 3 }\r\n",
      "Found Grid: { Guid = 24e5a297-1907-4f13-b7be-efb1407f8632; Name = LinslvPerf_XdgPoissonSer_J64; Cell Count = 64; Dim = 3 }\r\n",
      "Found Grid: { Guid = 04bbd46f-eb85-45c8-bfa6-218818e2bf2e; Name = LinslvPerf_XdgPoissonSer_J512; Cell Count = 512; Dim = 3 }\r\n",
      "Found Grid: { Guid = 56dfb2c4-8fe4-40a4-bba4-4496f760b623; Name = LinslvPerf_XdgPoissonSer_J4096; Cell Count = 4096; Dim = 3 }\r\n",
      "Found Grid: { Guid = 9574aa7b-797e-4e97-896e-745b18dba0cb; Name = LinslvPerf_XdgPoissonSer_J32768; Cell Count = 32768; Dim = 3 }\r\n",
      "Found Grid: { Guid = e526799b-bc50-40f5-9e07-393469db64e5; Name = LinslvPerf_XdgPoissonSer_J262144; Cell Count = 262144; Dim = 3 }\r\n"
     ]
    }
   ],
   "source": [
    "int[] Resolutions_3D = new int[] { 2, 4, 8, 16, 32, 64 };\n",
    "//int[] Resolutions_3D = new int[] { 2 };\n",
    "IGridInfo[] grids = new IGridInfo[Resolutions_3D.Length];\n",
    "for(int cnt = 0; cnt < Resolutions_3D.Length; cnt++) {\n",
    "    int Res = Resolutions_3D[cnt];    \n",
    "    \n",
    "    double[] xNodes = GenericBlas.Linspace(-1, +1, Res + 1);\n",
    "    double[] yNodes = GenericBlas.Linspace(-1, +1, Res + 1);\n",
    "    double[] zNodes = GenericBlas.Linspace(-1, +1, Res + 1);\n",
    "    int J = (xNodes.Length - 1)*(yNodes.Length - 1)*(zNodes.Length - 1);\n",
    "    \n",
    "    string GridName = string.Format(wmg.CurrentProject + \"_J\" + J);\n",
    "    \n",
    "    grids[cnt] = wmg.Grids.SingleOrDefault(grd => grd.Name.Contains(string.Format(\"_J\"+ J))); // check if an appropriate grid is already present in the database\n",
    "    if(grids[cnt] == null){\n",
    "        Console.WriteLine(\"Creating grid with \" + J + \" cells.\");\n",
    "        \n",
    "        GridCommons g;\n",
    "        g      = Grid3D.Cartesian3DGrid(xNodes, yNodes, zNodes);\n",
    "        g.Name = GridName;\n",
    "        \n",
    "        g.DefineEdgeTags(delegate (double[] X) {\n",
    "            return \"Dirichlet\";\n",
    "        });\n",
    "      \n",
    "        g = wmg.SaveGrid(g);  \n",
    "        grids[cnt] = g;\n",
    "    } else {\n",
    "        Console.WriteLine(\"Found Grid: \" + grids[cnt]);\n",
    "        if(grids[cnt].NumberOfCells != J)\n",
    "            throw new Exception(\"J mismatch\");\n",
    "        \n",
    "        if(grids[cnt].SpatialDimension != 3)\n",
    "            throw new Exception(\"D mismatch\");\n",
    "    }\n",
    "}"
   ]
  },
  {
   "cell_type": "code",
   "execution_count": null,
   "metadata": {
    "dotnet_interactive": {
     "language": "csharp"
    }
   },
   "outputs": [
    {
     "data": {
      "text/plain": [
       "#0: { Guid = d3faf6e4-b4e0-4a52-bdda-606cecaee32a; Name = LinslvPerf_XdgPoissonSer_J8; Cell Count = 8; Dim = 3 }\r\n",
       "#1: { Guid = 24e5a297-1907-4f13-b7be-efb1407f8632; Name = LinslvPerf_XdgPoissonSer_J64; Cell Count = 64; Dim = 3 }\r\n",
       "#2: { Guid = 04bbd46f-eb85-45c8-bfa6-218818e2bf2e; Name = LinslvPerf_XdgPoissonSer_J512; Cell Count = 512; Dim = 3 }\r\n",
       "#3: { Guid = 56dfb2c4-8fe4-40a4-bba4-4496f760b623; Name = LinslvPerf_XdgPoissonSer_J4096; Cell Count = 4096; Dim = 3 }\r\n",
       "#4: { Guid = 9574aa7b-797e-4e97-896e-745b18dba0cb; Name = LinslvPerf_XdgPoissonSer_J32768; Cell Count = 32768; Dim = 3 }\r\n",
       "#5: { Guid = e526799b-bc50-40f5-9e07-393469db64e5; Name = LinslvPerf_XdgPoissonSer_J262144; Cell Count = 262144; Dim = 3 }\r\n"
      ]
     },
     "metadata": {},
     "output_type": "display_data"
    }
   ],
   "source": [
    "grids"
   ]
  },
  {
   "cell_type": "markdown",
   "metadata": {
    "dotnet_interactive": {
     "language": "csharp"
    }
   },
   "source": [
    "## Setup Control Object for a Solver Run"
   ]
  },
  {
   "cell_type": "markdown",
   "metadata": {
    "dotnet_interactive": {
     "language": "csharp"
    }
   },
   "source": [
    "### Values/Formulas for the Values of RHS and Boundary Conditions"
   ]
  },
  {
   "cell_type": "code",
   "execution_count": null,
   "metadata": {
    "dotnet_interactive": {
     "language": "csharp"
    }
   },
   "outputs": [],
   "source": [
    "/*static class InitialValues {\n",
    "    public static double RHS(double[] X) {\n",
    "        return -Math.Sin(X[0]);\n",
    "    }\n",
    "    \n",
    "    public static double DirichletBC(double[] X) {\n",
    "        return 0.0;\n",
    "    }\n",
    "    \n",
    "    public static double NeumannBC(double[] X) {\n",
    "       if(Math.Abs(X[1] - 1.0) < 1.0e-8 || Math.Abs(X[1] + 1.0) < 1.0e-8)\n",
    "           return 0;\n",
    "       if(X.Length > 2 && (Math.Abs(X[2] - 1.0) < 1.0e-8 || Math.Abs(X[2] + 1.0) < 1.0e-8))\n",
    "           return 0;\n",
    "\n",
    "       return Math.Cos(10.0);\n",
    "   }\n",
    "}*/"
   ]
  },
  {
   "cell_type": "markdown",
   "metadata": {
    "dotnet_interactive": {
     "language": "csharp"
    }
   },
   "source": [
    "### Setup of Parameter Study"
   ]
  },
  {
   "cell_type": "code",
   "execution_count": null,
   "metadata": {
    "dotnet_interactive": {
     "language": "csharp"
    }
   },
   "outputs": [],
   "source": [
    "List<XdgPoisson3Control> controls = new List<XdgPoisson3Control>();"
   ]
  },
  {
   "cell_type": "markdown",
   "metadata": {},
   "source": [
    "Polynomial degrees to test:"
   ]
  },
  {
   "cell_type": "code",
   "execution_count": null,
   "metadata": {
    "dotnet_interactive": {
     "language": "csharp"
    }
   },
   "outputs": [],
   "source": [
    "// polynomial degrees to test\n",
    "//int[] PolyDegS = new int[] {2, 3, 4, 5, 6};\n",
    "int[] PolyDegS = new int[] {2, 3, 5};"
   ]
  },
  {
   "cell_type": "markdown",
   "metadata": {},
   "source": [
    "Solvers which we want to instrument:"
   ]
  },
  {
   "cell_type": "code",
   "execution_count": null,
   "metadata": {
    "dotnet_interactive": {
     "language": "csharp"
    }
   },
   "outputs": [],
   "source": [
    "using BoSSS.Solution.AdvancedSolvers;"
   ]
  },
  {
   "cell_type": "code",
   "execution_count": null,
   "metadata": {
    "dotnet_interactive": {
     "language": "csharp"
    }
   },
   "outputs": [],
   "source": [
    "// Solvers which we want to instrument:\n",
    "LinearSolverCode[] solver_nameS = new LinearSolverCode[] {\n",
    "    LinearSolverCode.classic_pardiso, \n",
    "    LinearSolverCode.exp_Kcycle_schwarz,\n",
    "    LinearSolverCode.exp_gmres_levelpmg,\n",
    "}; "
   ]
  },
  {
   "cell_type": "markdown",
   "metadata": {},
   "source": [
    "Maximum Dof for one calculation (we skip fine grids for higher polynomial orders):"
   ]
  },
  {
   "cell_type": "code",
   "execution_count": null,
   "metadata": {
    "dotnet_interactive": {
     "language": "csharp"
    }
   },
   "outputs": [],
   "source": [
    "int GetMaxAllowedDOF(LinearSolverCode code) {\n",
    "    switch(code) {\n",
    "        case LinearSolverCode.classic_pardiso:\n",
    "        case LinearSolverCode.classic_mumps:\n",
    "        return 1100000; // 1.1 Million for iterative solvers at maximum\n",
    "    \n",
    "        default: \n",
    "        return 5000000; // Up to 5 Million for iterative solvers\n",
    "    }\n",
    "}"
   ]
  },
  {
   "cell_type": "markdown",
   "metadata": {},
   "source": [
    "Loop over all combinations of parameters and define a control object for each combo:"
   ]
  },
  {
   "cell_type": "code",
   "execution_count": null,
   "metadata": {
    "dotnet_interactive": {
     "language": "csharp"
    }
   },
   "outputs": [],
   "source": [
    "using BoSSS.Solution.XNSECommon;\n",
    "using BoSSS.Foundation.XDG;"
   ]
  },
  {
   "cell_type": "code",
   "execution_count": null,
   "metadata": {
    "dotnet_interactive": {
     "language": "csharp"
    }
   },
   "outputs": [
    {
     "name": "stdout",
     "output_type": "stream",
     "text": [
      "setting up: XdgPoisson-J8_k2_classic_pardiso\r\n",
      "setting up: XdgPoisson-J64_k2_classic_pardiso\r\n",
      "setting up: XdgPoisson-J512_k2_classic_pardiso\r\n",
      "setting up: XdgPoisson-J4096_k2_classic_pardiso\r\n",
      "setting up: XdgPoisson-J32768_k2_classic_pardiso\r\n",
      "setting up: XdgPoisson-J8_k3_classic_pardiso\r\n",
      "setting up: XdgPoisson-J64_k3_classic_pardiso\r\n",
      "setting up: XdgPoisson-J512_k3_classic_pardiso\r\n",
      "setting up: XdgPoisson-J4096_k3_classic_pardiso\r\n",
      "setting up: XdgPoisson-J32768_k3_classic_pardiso\r\n",
      "setting up: XdgPoisson-J8_k5_classic_pardiso\r\n",
      "setting up: XdgPoisson-J64_k5_classic_pardiso\r\n",
      "setting up: XdgPoisson-J512_k5_classic_pardiso\r\n",
      "setting up: XdgPoisson-J4096_k5_classic_pardiso\r\n",
      "setting up: XdgPoisson-J8_k2_exp_Kcycle_schwarz\r\n",
      "setting up: XdgPoisson-J64_k2_exp_Kcycle_schwarz\r\n",
      "setting up: XdgPoisson-J512_k2_exp_Kcycle_schwarz\r\n",
      "setting up: XdgPoisson-J4096_k2_exp_Kcycle_schwarz\r\n",
      "setting up: XdgPoisson-J32768_k2_exp_Kcycle_schwarz\r\n",
      "setting up: XdgPoisson-J262144_k2_exp_Kcycle_schwarz\r\n",
      "setting up: XdgPoisson-J8_k3_exp_Kcycle_schwarz\r\n",
      "setting up: XdgPoisson-J64_k3_exp_Kcycle_schwarz\r\n",
      "setting up: XdgPoisson-J512_k3_exp_Kcycle_schwarz\r\n",
      "setting up: XdgPoisson-J4096_k3_exp_Kcycle_schwarz\r\n",
      "setting up: XdgPoisson-J32768_k3_exp_Kcycle_schwarz\r\n",
      "setting up: XdgPoisson-J8_k5_exp_Kcycle_schwarz\r\n",
      "setting up: XdgPoisson-J64_k5_exp_Kcycle_schwarz\r\n",
      "setting up: XdgPoisson-J512_k5_exp_Kcycle_schwarz\r\n",
      "setting up: XdgPoisson-J4096_k5_exp_Kcycle_schwarz\r\n",
      "setting up: XdgPoisson-J32768_k5_exp_Kcycle_schwarz\r\n",
      "setting up: XdgPoisson-J8_k2_exp_gmres_levelpmg\r\n",
      "setting up: XdgPoisson-J64_k2_exp_gmres_levelpmg\r\n",
      "setting up: XdgPoisson-J512_k2_exp_gmres_levelpmg\r\n",
      "setting up: XdgPoisson-J4096_k2_exp_gmres_levelpmg\r\n",
      "setting up: XdgPoisson-J32768_k2_exp_gmres_levelpmg\r\n",
      "setting up: XdgPoisson-J262144_k2_exp_gmres_levelpmg\r\n",
      "setting up: XdgPoisson-J8_k3_exp_gmres_levelpmg\r\n",
      "setting up: XdgPoisson-J64_k3_exp_gmres_levelpmg\r\n",
      "setting up: XdgPoisson-J512_k3_exp_gmres_levelpmg\r\n",
      "setting up: XdgPoisson-J4096_k3_exp_gmres_levelpmg\r\n",
      "setting up: XdgPoisson-J32768_k3_exp_gmres_levelpmg\r\n",
      "setting up: XdgPoisson-J8_k5_exp_gmres_levelpmg\r\n",
      "setting up: XdgPoisson-J64_k5_exp_gmres_levelpmg\r\n",
      "setting up: XdgPoisson-J512_k5_exp_gmres_levelpmg\r\n",
      "setting up: XdgPoisson-J4096_k5_exp_gmres_levelpmg\r\n",
      "setting up: XdgPoisson-J32768_k5_exp_gmres_levelpmg\r\n"
     ]
    }
   ],
   "source": [
    "List<XdgPoisson3Control> controls = new List<XdgPoisson3Control>();\n",
    "controls.Clear();\n",
    "foreach(LinearSolverCode solver_name in solver_nameS) {\n",
    "foreach(int k in PolyDegS) {\n",
    "foreach(IGridInfo grd in grids) {\n",
    "    int Np = Utils.Np(k);\n",
    "    int J  = grd.NumberOfCells;\n",
    "    if(J*Np > GetMaxAllowedDOF(solver_name))\n",
    "        continue;\n",
    "    \n",
    "    var ctrl = new XdgPoisson3Control();\n",
    "    controls.Add(ctrl);\n",
    "\n",
    "    string caseName = string.Format(\"XdgPoisson-J{0}_k{1}_{2}\", J, k, solver_name);\n",
    "    Console.WriteLine(\"setting up: \" + caseName);\n",
    "    ctrl.SessionName = caseName;\n",
    "    \n",
    "    ctrl.SetGrid(grd);\n",
    "    ctrl.savetodb = true; //for debug's sake\n",
    "    ctrl.SetDGdegree(k);\n",
    "    \n",
    "    ctrl.LinearSolver.SolverCode           = solver_name;\n",
    "    ctrl.LinearSolver.NoOfMultigridLevels  = int.MaxValue;\n",
    "    ctrl.LinearSolver.ConvergenceCriterion = 1e-8;\n",
    "    \n",
    "    double radius           = 0.7;\n",
    "    ctrl.ExcactSolSupported = false;\n",
    "    ctrl.InitialValues.Add(\"Phi\", new Formula(\"X => X[0].Pow2()+X[1].Pow2()+X[2].Pow2()-\"+radius+\".Pow2()\"));\n",
    "    ctrl.MU_A = -1;\n",
    "    ctrl.MU_B = -1000;\n",
    "    ctrl.InitialValues.Add(\"rhs#A\", new Formula(\"X => 1\"));\n",
    "    ctrl.InitialValues.Add(\"rhs#B\", new Formula(\"X => 1\"));\n",
    "\n",
    "    //ctrl.CutCellQuadratureType = XQuadFactoryHelper.MomentFittingVariants.Classic;\n",
    "    //ctrl.SetDefaultDiriBndCnd  = true;\n",
    "    //ctrl.ViscosityMode         = XLaplace_Interface.Mode.SIP;\n",
    "        \n",
    "    ctrl.AgglomerationThreshold = 0.1;\n",
    "    \n",
    "    controls.Add(ctrl);\n",
    "}\n",
    "}\n",
    "}"
   ]
  },
  {
   "cell_type": "markdown",
   "metadata": {
    "dotnet_interactive": {
     "language": "csharp"
    }
   },
   "source": [
    "## Launch Jobs"
   ]
  },
  {
   "cell_type": "code",
   "execution_count": null,
   "metadata": {
    "dotnet_interactive": {
     "language": "csharp"
    }
   },
   "outputs": [
    {
     "name": "stdout",
     "output_type": "stream",
     "text": [
      " Submitting: XdgPoisson-J8_k2_classic_pardiso\r\n",
      "Deploying job XdgPoisson-J8_k2_classic_pardiso ... \r\n",
      "Deploying executables and additional files ...\r\n",
      "Deployment directory: C:\\Users\\flori\\AppData\\Local\\BoSSS-LocalJobs\\LinslvPerf_XdgPoissonSer-XdgPoisson32021Nov08_114744\r\n",
      "copied 46 files.\r\n",
      "   written file: control.obj\r\n",
      "deployment finished.\r\n",
      "Starting mini batch processor in external process...\r\n",
      "Started mini batch processor on local machine, process id is 32084.\r\n",
      "started.\r\n",
      "Warning: MiniBatchProcessor server was not running, started by job activation; it might be beneficial to start `MiniBatchProcessor.dll` externally, for the future.\r\n",
      "\r\n",
      " Submitting: XdgPoisson-J8_k2_classic_pardiso\r\n"
     ]
    },
    {
     "ename": "Error",
     "evalue": "System.ArgumentException: Job with name 'XdgPoisson-J8_k2_classic_pardiso' is already defined in the workflow management.\r\n   at BoSSS.Application.BoSSSpad.Job..ctor(String name, Type solver) in C:\\Users\\flori\\Documents\\BoSSS-NET5\\public\\src\\L4-application\\BoSSSpad\\Job.cs:line 63\r\n   at BoSSS.Application.BoSSSpad.AppControlExtensions.RunBatch(AppControl ctrl, BatchProcessorClient BatchSys) in C:\\Users\\flori\\Documents\\BoSSS-NET5\\public\\src\\L4-application\\BoSSSpad\\AppControlExtensions.cs:line 60\r\n   at Submission#39.<<Initialize>>d__0.MoveNext()\r\n--- End of stack trace from previous location ---\r\n   at Microsoft.CodeAnalysis.Scripting.ScriptExecutionState.RunSubmissionsAsync[TResult](ImmutableArray`1 precedingExecutors, Func`2 currentExecutor, StrongBox`1 exceptionHolderOpt, Func`2 catchExceptionOpt, CancellationToken cancellationToken)",
     "output_type": "error",
     "traceback": [
      "System.ArgumentException: Job with name 'XdgPoisson-J8_k2_classic_pardiso' is already defined in the workflow management.\r\n",
      "   at BoSSS.Application.BoSSSpad.Job..ctor(String name, Type solver) in C:\\Users\\flori\\Documents\\BoSSS-NET5\\public\\src\\L4-application\\BoSSSpad\\Job.cs:line 63\r\n",
      "   at BoSSS.Application.BoSSSpad.AppControlExtensions.RunBatch(AppControl ctrl, BatchProcessorClient BatchSys) in C:\\Users\\flori\\Documents\\BoSSS-NET5\\public\\src\\L4-application\\BoSSSpad\\AppControlExtensions.cs:line 60\r\n",
      "   at Submission#39.<<Initialize>>d__0.MoveNext()\r\n",
      "--- End of stack trace from previous location ---\r\n",
      "   at Microsoft.CodeAnalysis.Scripting.ScriptExecutionState.RunSubmissionsAsync[TResult](ImmutableArray`1 precedingExecutors, Func`2 currentExecutor, StrongBox`1 exceptionHolderOpt, Func`2 catchExceptionOpt, CancellationToken cancellationToken)"
     ]
    }
   ],
   "source": [
    "foreach(var ctrl in controls) {\n",
    "    Console.WriteLine(\" Submitting: \" + ctrl.SessionName); \n",
    "    ctrl.RunBatch(myBatch);\n",
    "}"
   ]
  },
  {
   "cell_type": "markdown",
   "metadata": {
    "dotnet_interactive": {
     "language": "csharp"
    }
   },
   "source": [
    "### Wait for Completion and Check Job Status"
   ]
  },
  {
   "cell_type": "code",
   "execution_count": null,
   "metadata": {
    "dotnet_interactive": {
     "language": "csharp"
    }
   },
   "outputs": [
    {
     "name": "stdout",
     "output_type": "stream",
     "text": [
      "All jobs finished.\r\n"
     ]
    }
   ],
   "source": [
    "wmg.BlockUntilAllJobsTerminate(3600*24*2); // wait at maximum two days for the jobs to finish"
   ]
  },
  {
   "cell_type": "code",
   "execution_count": null,
   "metadata": {
    "dotnet_interactive": {
     "language": "csharp"
    }
   },
   "outputs": [
    {
     "data": {
      "text/plain": [
       "#0: XdgPoisson-J8_k2_classic_pardiso: FailedOrCanceled (MiniBatchProcessor client  LocalPC @C:\\Users\\flori\\AppData\\Local\\BoSSS-LocalJobs)\tXdgPoisson-J8_k2_classic_pardiso: FailedOrCanceled (MiniBatchProcessor client  LocalPC @C:\\Users\\flori\\AppData\\Local\\BoSSS-LocalJobs)\r\n"
      ]
     },
     "metadata": {},
     "output_type": "display_data"
    }
   ],
   "source": [
    "wmg.AllJobs"
   ]
  },
  {
   "cell_type": "code",
   "execution_count": null,
   "metadata": {
    "dotnet_interactive": {
     "language": "csharp"
    }
   },
   "outputs": [
    {
     "data": {
      "text/plain": []
     },
     "metadata": {},
     "output_type": "display_data"
    }
   ],
   "source": [
    "wmg.Sessions"
   ]
  },
  {
   "cell_type": "code",
   "execution_count": null,
   "metadata": {
    "dotnet_interactive": {
     "language": "csharp"
    }
   },
   "outputs": [
    {
     "data": {
      "text/plain": [
       "#0: XdgPoisson-J8_k2_classic_pardiso: FailedOrCanceled (MiniBatchProcessor client  LocalPC @C:\\Users\\flori\\AppData\\Local\\BoSSS-LocalJobs)\r\n"
      ]
     },
     "metadata": {},
     "output_type": "display_data"
    }
   ],
   "source": [
    "var NoSuccess = wmg.AllJobs.Values.Where(job => job.Status != JobStatus.FinishedSuccessful);\n",
    "NoSuccess"
   ]
  },
  {
   "cell_type": "code",
   "execution_count": null,
   "metadata": {
    "dotnet_interactive": {
     "language": "csharp"
    }
   },
   "outputs": [
    {
     "ename": "Error",
     "evalue": "NUnit.Framework.AssertionException:   Some Jobs Failed\r\n  Expected: 0\r\n  But was:  1\r\n\r\n   at NUnit.Framework.Assert.ReportFailure(String message) in /_/src/NUnitFramework/framework/Assert.cs:line 395\r\n   at NUnit.Framework.Assert.ReportFailure(ConstraintResult result, String message, Object[] args) in /_/src/NUnitFramework/framework/Assert.cs:line 383\r\n   at NUnit.Framework.Assert.That[TActual](TActual actual, IResolveConstraint expression, String message, Object[] args) in /_/src/NUnitFramework/framework/Assert.That.cs:line 229\r\n   at NUnit.Framework.Assert.Zero(Int32 actual, String message, Object[] args) in /_/src/NUnitFramework/framework/Assert.Conditions.cs:line 484\r\n   at Submission#44.<<Initialize>>d__0.MoveNext()\r\n--- End of stack trace from previous location ---\r\n   at Microsoft.CodeAnalysis.Scripting.ScriptExecutionState.RunSubmissionsAsync[TResult](ImmutableArray`1 precedingExecutors, Func`2 currentExecutor, StrongBox`1 exceptionHolderOpt, Func`2 catchExceptionOpt, CancellationToken cancellationToken)",
     "output_type": "error",
     "traceback": [
      "NUnit.Framework.AssertionException:   Some Jobs Failed\r\n",
      "  Expected: 0\r\n",
      "  But was:  1\r\n",
      "\r\n",
      "   at NUnit.Framework.Assert.ReportFailure(String message) in /_/src/NUnitFramework/framework/Assert.cs:line 395\r\n",
      "   at NUnit.Framework.Assert.ReportFailure(ConstraintResult result, String message, Object[] args) in /_/src/NUnitFramework/framework/Assert.cs:line 383\r\n",
      "   at NUnit.Framework.Assert.That[TActual](TActual actual, IResolveConstraint expression, String message, Object[] args) in /_/src/NUnitFramework/framework/Assert.That.cs:line 229\r\n",
      "   at NUnit.Framework.Assert.Zero(Int32 actual, String message, Object[] args) in /_/src/NUnitFramework/framework/Assert.Conditions.cs:line 484\r\n",
      "   at Submission#44.<<Initialize>>d__0.MoveNext()\r\n",
      "--- End of stack trace from previous location ---\r\n",
      "   at Microsoft.CodeAnalysis.Scripting.ScriptExecutionState.RunSubmissionsAsync[TResult](ImmutableArray`1 precedingExecutors, Func`2 currentExecutor, StrongBox`1 exceptionHolderOpt, Func`2 catchExceptionOpt, CancellationToken cancellationToken)"
     ]
    }
   ],
   "source": [
    "NUnit.Framework.Assert.Zero(NoSuccess.Count(), \"Some Jobs Failed\");"
   ]
  },
  {
   "cell_type": "code",
   "execution_count": null,
   "metadata": {
    "dotnet_interactive": {
     "language": "csharp"
    }
   },
   "outputs": [
    {
     "data": {
      "text/plain": []
     },
     "metadata": {},
     "output_type": "display_data"
    }
   ],
   "source": [
    "var FailedSessions = wmg.Sessions.Where(Si => (Si.SuccessfulTermination == false)\n",
    "                                        || (Convert.ToInt32(Si.KeysAndQueries[\"Conv\"]) == 0));\n",
    "FailedSessions"
   ]
  },
  {
   "cell_type": "code",
   "execution_count": null,
   "metadata": {
    "dotnet_interactive": {
     "language": "csharp"
    }
   },
   "outputs": [],
   "source": [
    "NUnit.Framework.Assert.Zero(FailedSessions.Count(), \"Some Sessions did not derminate successfully.\");"
   ]
  },
  {
   "cell_type": "markdown",
   "metadata": {},
   "source": [
    "List Output of some job (arbitrarily the first one):"
   ]
  },
  {
   "cell_type": "code",
   "execution_count": null,
   "metadata": {
    "dotnet_interactive": {
     "language": "csharp"
    }
   },
   "outputs": [
    {
     "data": {
      "text/plain": [
       "      ___           ___           ___           ___           ___     \r\n",
       "     /\\  \\         /\\  \\         /\\  \\         /\\  \\         /\\  \\    \r\n",
       "    /::\\  \\       /::\\  \\       /::\\  \\       /::\\  \\       /::\\  \\   \r\n",
       "   /:/\\:\\  \\     /:/\\:\\  \\     /:/\\ \\  \\     /:/\\ \\  \\     /:/\\ \\  \\  \r\n",
       "  /::\\~\\:\\__\\   /:/  \\:\\  \\   _\\:\\~\\ \\  \\   _\\:\\~\\ \\  \\   _\\:\\~\\ \\  \\ \r\n",
       " /:/\\:\\ \\:|__| /:/__/ \\:\\__\\ /\\ \\:\\ \\ \\__\\ /\\ \\:\\ \\ \\__\\ /\\ \\:\\ \\ \\__\\\r\n",
       " \\:\\~\\:\\/:/  / \\:\\  \\ /:/  / \\:\\ \\:\\ \\/__/ \\:\\ \\:\\ \\/__/ \\:\\ \\:\\ \\/__/\r\n",
       "  \\:\\ \\::/  /   \\:\\  /:/  /   \\:\\ \\:\\__\\    \\:\\ \\:\\__\\    \\:\\ \\:\\__\\  \r\n",
       "   \\:\\/:/  /     \\:\\/:/  /     \\:\\/:/  /     \\:\\/:/  /     \\:\\/:/  /  \r\n",
       "    \\::/__/       \\::/  /       \\::/  /       \\::/  /       \\::/  /   \r\n",
       "     ~~            \\/__/         \\/__/         \\/__/         \\/__/    \r\n",
       "                                                                      \r\n",
       "Running with 1 MPI process (single core)\r\n",
       "User: flori\r\n",
       "Node: stormbreaker (rank 0)\r\n",
       "arg #0 override from environment variable 'BOSSS_ARG_0': --control\r\n",
       "arg #1 override from environment variable 'BOSSS_ARG_1': control.obj\r\n",
       "arg #2 override from environment variable 'BOSSS_ARG_2': --prjnmn\r\n",
       "arg #3 override from environment variable 'BOSSS_ARG_3': LinslvPerf_XdgPoissonSer\r\n",
       "arg #4 override from environment variable 'BOSSS_ARG_4': --sesnmn\r\n",
       "arg #5 override from environment variable 'BOSSS_ARG_5': XdgPoisson-J8_k2_classic_pardiso\r\n",
       "   at System.Reflection.RuntimeAssembly.GetExportedTypes()\r\n",
       "   at BoSSS.Solution.Control.AppControl.KnownTypesBinder..ctor(Type entry)\r\n",
       "   at BoSSS.Solution.Control.AppControl.Deserialize(String Str, SerializationBinder binder)\r\n",
       "   at BoSSS.Solution.Control.AppControl.Deserialize(String Str)\r\n",
       "   at BoSSS.Solution.Application`1.LoadControlFile(String ControlFilePath, T& ctrlV2, T[]& ctrlV2_ParameterStudy)\r\n",
       "   at BoSSS.Solution.Application`1._Main(String[] args, Boolean noControlFile, Func`1 ApplicationFactory)\r\n",
       "\r\n",
       "\r\n",
       "========================================\r\n",
       "========================================\r\n",
       "MPI rank 0: FileNotFoundException :\r\n",
       "Could not load file or assembly 'Microsoft.CodeAnalysis, Version=3.9.0.0, Culture=neutral, PublicKeyToken=31bf3856ad364e35'. The system cannot find the file specified.\r\n",
       "========================================\r\n",
       "========================================\r\n",
       "\r\n",
       "\r\n",
       "job aborted:\r\n",
       "[ranks] message\r\n",
       "\r\n",
       "[0] process exited without calling finalize\r\n",
       "\r\n",
       "---- error analysis -----\r\n",
       "\r\n",
       "[0] on STORMBREAKER\r\n",
       "dotnet ended prematurely and may have crashed. exit code 0\r\n",
       "\r\n",
       "---- error analysis -----\r\n",
       "\r\n",
       "\r\n"
      ]
     },
     "metadata": {},
     "output_type": "display_data"
    }
   ],
   "source": [
    "wmg.AllJobs.First().Value.Stdout"
   ]
  },
  {
   "cell_type": "code",
   "execution_count": null,
   "metadata": {
    "dotnet_interactive": {
     "language": "csharp"
    }
   },
   "outputs": [
    {
     "name": "stdout",
     "output_type": "stream",
     "text": [
      "LinslvPerf_XdgPoissonSer-XdgPoisson32021Nov08_114744\r\n"
     ]
    }
   ],
   "source": [
    "foreach(var fail in NoSuccess)\n",
    "    Console.WriteLine(fail.LatestDeployment.DeploymentDirectory.Name);"
   ]
  },
  {
   "cell_type": "code",
   "execution_count": null,
   "metadata": {
    "dotnet_interactive": {
     "language": "csharp"
    }
   },
   "outputs": [],
   "source": [
    "// -------------------------------\n",
    "// Additional/user-defined columns\n",
    "// -------------------------------\n"
   ]
  },
  {
   "cell_type": "code",
   "execution_count": null,
   "metadata": {
    "dotnet_interactive": {
     "language": "csharp"
    }
   },
   "outputs": [],
   "source": [
    "/*\n",
    "static class AddCols {\n",
    "    static public object SipMatrixAssembly_time(ISessionInfo SI) {\n",
    "        var mcr = SI.GetProfiling()[0];\n",
    "        var ndS = mcr.FindChildren(\"SipMatrixAssembly\");\n",
    "        var nd  = ndS.ElementAt(0);\n",
    "        return nd.TimeSpentInMethod.TotalSeconds  / nd.CallCount;\n",
    "    }\n",
    "    static public object Aggregation_basis_init_time(ISessionInfo SI) {\n",
    "        var mcr = SI.GetProfiling()[0];\n",
    "        var ndS = mcr.FindChildren(\"Aggregation_basis_init\");\n",
    "        var nd  = ndS.ElementAt(0);\n",
    "        return nd.TimeSpentInMethod.TotalSeconds  / nd.CallCount;\n",
    "    }\n",
    "    static public object Solver_Init_time(ISessionInfo SI) {\n",
    "        var mcr = SI.GetProfiling()[0];\n",
    "        var ndS = mcr.FindChildren(\"Solver_Init\");\n",
    "        var nd  = ndS.ElementAt(0);\n",
    "        //Console.WriteLine(\"Number of nodes: \" + ndS.Count() + \" cc \" + nd.CallCount );\n",
    "        return nd.TimeSpentInMethod.TotalSeconds / nd.CallCount;\n",
    "    }\n",
    "    static public object Solver_Run_time(ISessionInfo SI) {\n",
    "        var mcr = SI.GetProfiling()[0];\n",
    "        var ndS = mcr.FindChildren(\"Solver_Run\");\n",
    "        var nd  = ndS.ElementAt(0);\n",
    "        return nd.TimeSpentInMethod.TotalSeconds  / nd.CallCount;\n",
    "    }\n",
    "}*/"
   ]
  },
  {
   "cell_type": "code",
   "execution_count": null,
   "metadata": {
    "dotnet_interactive": {
     "language": "csharp"
    }
   },
   "outputs": [],
   "source": [
    "/*WorkflowMgm.AdditionalSessionTableColums.Clear();\n",
    "WorkflowMgm.AdditionalSessionTableColums.Add(\n",
    "    \"SipMatrixAssembly_time\", AddCols.SipMatrixAssembly_time);\n",
    "WorkflowMgm.AdditionalSessionTableColums.Add(\n",
    "    \"Aggregation_basis_init_time\", AddCols.Aggregation_basis_init_time);\n",
    "WorkflowMgm.AdditionalSessionTableColums.Add(\n",
    "    \"Solver_Init_time\", AddCols.Solver_Init_time);\n",
    "WorkflowMgm.AdditionalSessionTableColums.Add(\n",
    "    \"Solver_Run_time\", AddCols.Solver_Run_time);\n",
    "*/"
   ]
  }
 ],
 "metadata": {
  "kernelspec": {
   "display_name": ".NET (C#)",
   "language": "C#",
   "name": ".net-csharp"
  },
  "language_info": {
   "file_extension": ".cs",
   "mimetype": "text/x-csharp",
   "name": "C#",
   "pygments_lexer": "csharp",
   "version": "9.0"
  }
 },
 "nbformat": 4,
 "nbformat_minor": 4
}
