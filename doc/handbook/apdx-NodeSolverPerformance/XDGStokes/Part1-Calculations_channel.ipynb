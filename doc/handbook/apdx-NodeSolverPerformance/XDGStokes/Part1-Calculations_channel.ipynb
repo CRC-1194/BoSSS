{
 "cells": [
  {
   "cell_type": "code",
   "execution_count": null,
   "metadata": {
    "dotnet_interactive": {
     "language": "csharp"
    }
   },
   "outputs": [],
   "source": [
    "#r \"B:\\BoSSS-smuda\\public\\src\\L4-application\\BoSSSpad\\bin\\Release\\net5.0\\BoSSSpad.dll\"\n",
    "//#r \"BoSSSpad.dll\"\n",
    "using System;\n",
    "using ilPSP;\n",
    "using ilPSP.Utils;\n",
    "using BoSSS.Platform;\n",
    "using BoSSS.Foundation;\n",
    "using BoSSS.Foundation.XDG;\n",
    "using BoSSS.Foundation.Grid;\n",
    "using BoSSS.Solution;\n",
    "using BoSSS.Application.XNSE_Solver;\n",
    "using BoSSS.Application.BoSSSpad;\n",
    "using BoSSS.Foundation.Grid.Classic;\n",
    "using BoSSS.Foundation.IO;\n",
    "using BoSSS.Solution.AdvancedSolvers;\n",
    "using BoSSS.Solution.Control;\n",
    "using BoSSS.Solution.XNSECommon;\n",
    "using BoSSS.Solution.NSECommon;\n",
    "using BoSSS.Application.XNSE_Solver.LoadBalancing;\n",
    "using BoSSS.Solution.LevelSetTools;\n",
    "using BoSSS.Solution.XdgTimestepping;\n",
    "\n",
    "using static BoSSS.Application.BoSSSpad.BoSSSshell;\n",
    "Init();"
   ]
  },
  {
   "cell_type": "code",
   "execution_count": null,
   "metadata": {
    "dotnet_interactive": {
     "language": "csharp"
    }
   },
   "outputs": [],
   "source": [
    "/*\n",
    "// Is used at Jenkins to generate individual names (for output .json)\n",
    "string dbname = System.Environment.GetEnvironmentVariable(\"DATABASE_NAME\");\n",
    "string buildname = System.Environment.GetEnvironmentVariable(\"JOB_NAME\");\n",
    "//defaults\n",
    "buildname = String.IsNullOrEmpty(buildname)? \"Benchmark\" : buildname;\n",
    "//string thedate = $\"{System.DateTime.Today.Day}-{System.DateTime.Today.Month}-{System.DateTime.Today.Year}\";\n",
    "dbname = String.IsNullOrEmpty(dbname)? \"dbname\" : dbname;\n",
    "string table_name = String.Concat(buildname, \"_\", dbname);\n",
    "*/"
   ]
  },
  {
   "cell_type": "code",
   "execution_count": null,
   "metadata": {
    "dotnet_interactive": {
     "language": "csharp"
    }
   },
   "outputs": [],
   "source": [
    "string table_name = \"Stokes_Channel_pTG_studyHPC\";"
   ]
  },
  {
   "cell_type": "code",
   "execution_count": null,
   "metadata": {
    "dotnet_interactive": {
     "language": "csharp"
    }
   },
   "outputs": [],
   "source": [
    "ExecutionQueues"
   ]
  },
  {
   "cell_type": "code",
   "execution_count": null,
   "metadata": {
    "dotnet_interactive": {
     "language": "csharp"
    }
   },
   "outputs": [],
   "source": [
    "var myBatch = (MsHPC2012Client)ExecutionQueues[2];\n",
    "/*\n",
    "var AddSbatchCmds = new List<string>();\n",
    "AddSbatchCmds.AddRange(new string[]{\"#SBATCH -C avx512\", \"#SBATCH --mem-per-cpu=\"+2000});\n",
    "myBatch.AdditionalBatchCommands = AddSbatchCmds.ToArray();\n",
    "myBatch.AdditionalBatchCommands\n",
    "*/"
   ]
  },
  {
   "cell_type": "code",
   "execution_count": null,
   "metadata": {
    "dotnet_interactive": {
     "language": "csharp"
    }
   },
   "outputs": [],
   "source": [
    "string WFlowName = table_name;\n",
    "BoSSS.Application.BoSSSpad.BoSSSshell.WorkflowMgm.Init(WFlowName);\n",
    "BoSSS.Application.BoSSSpad.BoSSSshell.WorkflowMgm.SetNameBasedSessionJobControlCorrelation();\n",
    "var myDB = BoSSS.Application.BoSSSpad.BoSSSshell.WorkflowMgm.AllDatabases.Pick(2); myDB"
   ]
  },
  {
   "cell_type": "code",
   "execution_count": null,
   "metadata": {
    "dotnet_interactive": {
     "language": "csharp"
    }
   },
   "outputs": [],
   "source": [
    "static class Utils {\n",
    "    // DOF per cell in 3D\n",
    "    public static int Np(int p) {\n",
    "        return (p*p*p + 6*p*p + 11*p + 6)/6;\n",
    "    }    \n",
    "    \n",
    "    //Non-equidistant nodes\n",
    "    public static double[] SinLinSpacing(double l, double r, double a, int n) {\n",
    "        double[] linnodes = GenericBlas.Linspace(-Math.PI * 0.5, Math.PI * 0.5, n);\n",
    "        double[] linnodes2 = GenericBlas.Linspace(-1, 1, n);\n",
    "        double[] nodes = new double[n];\n",
    "\n",
    "        for (int i = 0; i < n; i++)\n",
    "            //nodes[i] = linnodes2[i] * (1 - a) + (1.0 - Math.Sin(linnodes[i])) * a;\n",
    "            nodes[i] = linnodes2[i] * (1 - a) + Math.Sin(linnodes[i])*a;\n",
    "\n",
    "        for (int i = 0; i < n; i++)\n",
    "            nodes[i] = nodes[i] * (r - l)*0.5 + l;\n",
    "        return nodes;\n",
    "    }\n",
    "}"
   ]
  },
  {
   "cell_type": "code",
   "execution_count": null,
   "metadata": {
    "dotnet_interactive": {
     "language": "csharp"
    }
   },
   "outputs": [],
   "source": [
    "\n",
    "int[] Resolutions_3D = new int[] { 4 };\n",
    "//int[] Resolutions_3D = new int[] { 2 };\n",
    "IGridInfo[] grids = new IGridInfo[Resolutions_3D.Length];\n",
    "for(int cnt = 0; cnt < Resolutions_3D.Length; cnt++) {\n",
    "    int Res = Resolutions_3D[cnt];    \n",
    "    \n",
    "    double[] xNodes = GenericBlas.Linspace(0, 10, Res + 1);\n",
    "    double[] yNodes = GenericBlas.Linspace(-1, +1, Res + 1);\n",
    "    double[] zNodes = GenericBlas.Linspace(-1, +1, Res + 1);\n",
    "    int J = (xNodes.Length - 1)*(yNodes.Length - 1)*(zNodes.Length - 1);\n",
    "    string prjname = BoSSS.Application.BoSSSpad.BoSSSshell.WorkflowMgm.CurrentProject;\n",
    "    string GridName = string.Format(prjname + \"_J\" + J);\n",
    "    \n",
    "    try{\n",
    "        grids[cnt]=null;\n",
    "        foreach(IGridInfo grd in myDB.Grids){\n",
    "            bool check = grd.Name.Contains(string.Format(\"_J\"+ J));\n",
    "            if(check){\n",
    "            grids[cnt]=grd;\n",
    "            }\n",
    "        }\n",
    "    } catch (Exception ex){\n",
    "        //Console.WriteLine(ex.Message);\n",
    "    }\n",
    "    \n",
    "    \n",
    "    //grids[cnt] = tempDB.Grids.SingleOrDefault(grd => grd.Name == GridName);\n",
    "    \n",
    "    if(grids[cnt] == null){\n",
    "        Console.WriteLine(\"Creating grid with \" + J + \" cells.\");\n",
    "        \n",
    "        GridCommons g;\n",
    "        g      = Grid3D.Cartesian3DGrid(xNodes, yNodes, zNodes);\n",
    "        g.Name = GridName;\n",
    "        \n",
    "        g.EdgeTagNames.Add(1, \"Velocity_inlet\");\n",
    "        g.EdgeTagNames.Add(2, \"Wall\");\n",
    "        g.EdgeTagNames.Add(3, \"Pressure_Outlet\");\n",
    "\n",
    "        g.DefineEdgeTags(delegate (double[] _X) {\n",
    "            var X = _X;\n",
    "            double x, y, z;\n",
    "            x = X[0];\n",
    "            y = X[1];\n",
    "            z = X[2];\n",
    "            if (Math.Abs(x - 0) < 1E-8)\n",
    "                return 1;\n",
    "            if (Math.Abs(x - 10) < 1E-8)\n",
    "                return 3;\n",
    "            return 2;\n",
    "        });\n",
    "      \n",
    "        myDB.SaveGrid(ref g);  \n",
    "        grids[cnt] = g;\n",
    "    } else {\n",
    "        Console.WriteLine(\"Found Grid: \" + grids[cnt]);\n",
    "        if(grids[cnt].NumberOfCells != J)\n",
    "            throw new Exception(\"J mismatch\");\n",
    "        \n",
    "        if(grids[cnt].SpatialDimension != 3)\n",
    "            throw new Exception(\"D mismatch\");\n",
    "    }\n",
    "}"
   ]
  },
  {
   "cell_type": "code",
   "execution_count": null,
   "metadata": {
    "dotnet_interactive": {
     "language": "csharp"
    }
   },
   "outputs": [],
   "source": [
    "using BoSSS.Application.XNSE_Solver;\n",
    "using BoSSS.Solution.LevelSetTools;\n",
    "using BoSSS.Solution.AdvancedSolvers;\n",
    "using BoSSS.Solution.XNSECommon;\n",
    "using BoSSS.Solution.Timestepping;\n",
    "using BoSSS.Solution.XdgTimestepping ;"
   ]
  },
  {
   "cell_type": "code",
   "execution_count": null,
   "metadata": {
    "dotnet_interactive": {
     "language": "csharp"
    }
   },
   "outputs": [],
   "source": [
    "Func<LinearSolverCode, int,int, IGridInfo, int ,XNSE_Control> GenerateChannel = delegate (LinearSolverCode solver, int p, int pLow, IGridInfo grid, int DOF){\n",
    "    \n",
    "    // ProjectName\n",
    "    // ============\n",
    "    int J         = grid.NumberOfCells;\n",
    "    \n",
    "    string caseName = string.Format($\"J{J}_p{p}_{solver}_{pLow}\");\n",
    "    Console.WriteLine(\"setting up: \" + caseName);\n",
    "    \n",
    "    XNSE_Control C       = new XNSE_Control();\n",
    "    C.SetDatabase(myDB);\n",
    "    C.savetodb           = true;\n",
    "    C.ProjectName        = WFlowName;\n",
    "    C.ProjectDescription = \"static droplet\";\n",
    "    C.SessionName        = caseName;\n",
    "    C.GridGuid           = grid.ID;\n",
    "    \n",
    "    // DG degrees\n",
    "    // ============\n",
    "    \n",
    "    C.FieldOptions.Add(\"Velocity*\", new FieldOpts() {\n",
    "        Degree = p,\n",
    "        SaveToDB = FieldOpts.SaveToDBOpt.TRUE\n",
    "    });\n",
    "    C.FieldOptions.Add(\"Pressure\", new FieldOpts() {\n",
    "        Degree = p - 1,\n",
    "        SaveToDB = FieldOpts.SaveToDBOpt.TRUE\n",
    "    });\n",
    "    C.FieldOptions.Add(\"PhiDG\", new FieldOpts() {\n",
    "        SaveToDB = FieldOpts.SaveToDBOpt.TRUE\n",
    "    });\n",
    "    C.FieldOptions.Add(\"Phi\", new FieldOpts() {\n",
    "        Degree = 2,\n",
    "        SaveToDB = FieldOpts.SaveToDBOpt.TRUE\n",
    "    });\n",
    "    C.FieldOptions.Add(\"Curvature\", new FieldOpts() {\n",
    "        Degree = Math.Max(4, 2*p + 2),\n",
    "        SaveToDB = FieldOpts.SaveToDBOpt.TRUE\n",
    "    });\n",
    "    \n",
    "    // Phys. Parameters\n",
    "    // ============\n",
    "    \n",
    "    C.PhysicalParameters.rho_A             = 1e-3; //     kg / cm³\n",
    "    C.PhysicalParameters.rho_B             = 1.2e-6; //   kg / cm³\n",
    "    C.PhysicalParameters.mu_A              = 1e-5; //      kg / cm / sec\n",
    "    C.PhysicalParameters.mu_B              = 17.1e-8; //   kg / cm / sec\n",
    "    C.PhysicalParameters.IncludeConvection = false;\n",
    "    C.PhysicalParameters.Material          = true;\n",
    "    \n",
    "    C.LSContiProjectionMethod = ContinuityProjectionOption.None;\n",
    "    C.CutCellQuadratureType   = BoSSS.Foundation.XDG.XQuadFactoryHelper.MomentFittingVariants.Saye;\n",
    "    \n",
    "    // Solver Stuff\n",
    "    // ============\n",
    "    \n",
    "    C.UseSchurBlockPrec                = true;\n",
    "    C.LinearSolver.NoOfMultigridLevels = 5;\n",
    "    C.LinearSolver.MaxSolverIterations = 10;\n",
    "    C.LinearSolver.pMaxOfCoarseSolver  = pLow;\n",
    "    \n",
    "    C.LinearSolver.TargetBlockSize = Math.Min(J*DOF/2,10000); //Make at least two blocks with Schwarz plz...\n",
    "    //C.LinearSolver.TargetBlockSize = (int)(J*DOF/(NoSblocks-1));\n",
    "\n",
    "    C.LinearSolver.ConvergenceCriterion = 1e-12;\n",
    "    C.LinearSolver.SolverCode           = solver;\n",
    "    C.LinearSolver.verbose              = true;\n",
    "    C.NonLinearSolver.verbose           = true;\n",
    "\n",
    "    C.Option_LevelSetEvolution                          = LevelSetEvolution.None;\n",
    "    C.AdvancedDiscretizationOptions.ViscosityMode       = ViscosityMode.FullySymmetric;\n",
    "\n",
    "    double VelocityIn = 1.0;\n",
    "    C.AddInitialValue(VariableNames.LevelSetCGidx(0), new Formula(\"X => -1\"));\n",
    "    C.AddBoundaryValue(\"Velocity_inlet\", \"VelocityX\", new Formula($\"(X) => {VelocityIn}\"));\n",
    "    C.AddInitialValue(\"VelocityX\", new Formula($\"(X) => {VelocityIn}\"));\n",
    "    C.AddInitialValue(\"Pressure\", new Formula(@\"X => 0\"));\n",
    "    C.AddBoundaryValue(\"Pressure_Outlet\");\n",
    "\n",
    "    // Timestepping\n",
    "    // ============\n",
    "\n",
    "    C.TimeSteppingScheme           = TimeSteppingScheme.ImplicitEuler;\n",
    "    C.Timestepper_LevelSetHandling = LevelSetHandling.None;\n",
    "    C.TimesteppingMode             = AppControl._TimesteppingMode.Steady;\n",
    "    C.dtFixed                      = double.MaxValue;\n",
    "            \n",
    "    return C;\n",
    "    };"
   ]
  },
  {
   "cell_type": "code",
   "execution_count": null,
   "metadata": {
    "dotnet_interactive": {
     "language": "csharp"
    }
   },
   "outputs": [],
   "source": [
    "int[] PolyDegS = new int[] {4};\n",
    "//int[] PolyDegS = new int[] {2};"
   ]
  },
  {
   "cell_type": "code",
   "execution_count": null,
   "metadata": {
    "dotnet_interactive": {
     "language": "csharp"
    }
   },
   "outputs": [],
   "source": [
    "// Solvers which we want to instrument:\n",
    "LinearSolverCode[] solver_nameS = new LinearSolverCode[] {\n",
    "    LinearSolverCode.exp_pTG\n",
    "}; "
   ]
  },
  {
   "cell_type": "code",
   "execution_count": null,
   "metadata": {
    "dotnet_interactive": {
     "language": "csharp"
    }
   },
   "outputs": [],
   "source": [
    "//List<IGridInfo> t_grids=new List<IGridInfo>();\n",
    "//grids.Pick(1,2,3,4,5,6,7).ForEach(g => t_grids.Add(g));\n",
    "//t_grids.ToArray();\n",
    "IGridInfo[] t_grids = grids;\n",
    "t_grids"
   ]
  },
  {
   "cell_type": "code",
   "execution_count": null,
   "metadata": {
    "dotnet_interactive": {
     "language": "csharp"
    }
   },
   "outputs": [],
   "source": [
    "// MaxDof for one claculation (we skip fine grids for higher polynomial orders)\n",
    "int MaxDof = 5000000;"
   ]
  },
  {
   "cell_type": "code",
   "execution_count": null,
   "metadata": {
    "dotnet_interactive": {
     "language": "csharp"
    }
   },
   "outputs": [],
   "source": [
    "using BoSSS.Solution.XNSECommon;\n",
    "using BoSSS.Foundation.XDG;"
   ]
  },
  {
   "cell_type": "code",
   "execution_count": null,
   "metadata": {
    "dotnet_interactive": {
     "language": "csharp"
    }
   },
   "outputs": [],
   "source": [
    "List<XNSE_Control> controls = new List<XNSE_Control>();\n",
    "controls.Clear();\n",
    "foreach(LinearSolverCode solver_name in solver_nameS) {\n",
    "foreach(int k in PolyDegS) {\n",
    "for(int pLow=k;pLow>=0;pLow--)\n",
    "foreach(IGridInfo grd in t_grids) {\n",
    "\n",
    "    int Np_V = Utils.Np(k);\n",
    "    int Np_p = Utils.Np(k-1);\n",
    "    int J    = grd.NumberOfCells;\n",
    "    int DOF  = Np_V*3+Np_p;\n",
    "    if(J*DOF > MaxDof)\n",
    "        continue;\n",
    "    \n",
    "    var Ctrl = GenerateChannel(solver_name,k,pLow,grd,DOF);\n",
    "    \n",
    "    controls.Add(Ctrl);\n",
    "}\n",
    "}\n",
    "}"
   ]
  },
  {
   "cell_type": "code",
   "execution_count": null,
   "metadata": {
    "dotnet_interactive": {
     "language": "csharp"
    }
   },
   "outputs": [],
   "source": [
    "BoSSS.Application.BoSSSpad.BoSSSshell.WorkflowMgm.ResetSessionsCache();"
   ]
  },
  {
   "cell_type": "code",
   "execution_count": null,
   "metadata": {
    "dotnet_interactive": {
     "language": "csharp"
    }
   },
   "outputs": [],
   "source": [
    "var nodes = new List<string>();\n",
    "nodes.Add(\"HPCCLUSTER\");\n",
    "nodes.Add(\"HPCLUSTER3\");\n",
    "myBatch.ComputeNodes = nodes.ToArray();"
   ]
  },
  {
   "cell_type": "code",
   "execution_count": null,
   "metadata": {
    "dotnet_interactive": {
     "language": "csharp"
    }
   },
   "outputs": [],
   "source": [
    "foreach(var ctrl in controls) {\n",
    "    Console.WriteLine(\" Submitting: \" + ctrl.SessionName); \n",
    "    var aJob = new Job(ctrl.SessionName, typeof(XNSE));\n",
    "    aJob.SetControlObject(ctrl);\n",
    "    aJob.NumberOfMPIProcs         = 1;\n",
    "    aJob.ExecutionTime            = \"1:00:00\";\n",
    "    aJob.UseComputeNodesExclusive = true;\n",
    "    aJob.Activate(myBatch);\n",
    "}"
   ]
  },
  {
   "cell_type": "code",
   "execution_count": null,
   "metadata": {
    "dotnet_interactive": {
     "language": "csharp"
    }
   },
   "outputs": [],
   "source": []
  }
 ],
 "metadata": {
  "kernelspec": {
   "display_name": ".NET (C#)",
   "language": "C#",
   "name": ".net-csharp"
  },
  "language_info": {
   "file_extension": ".cs",
   "mimetype": "text/x-csharp",
   "name": "C#",
   "pygments_lexer": "csharp",
   "version": "8.0"
  }
 },
 "nbformat": 4,
 "nbformat_minor": 2
}
