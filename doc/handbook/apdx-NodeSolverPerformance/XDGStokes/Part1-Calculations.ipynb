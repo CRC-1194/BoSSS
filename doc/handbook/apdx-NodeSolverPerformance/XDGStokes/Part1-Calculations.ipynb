{
 "cells": [
  {
   "cell_type": "code",
   "execution_count": null,
   "metadata": {
    "dotnet_interactive": {
     "language": "csharp"
    }
   },
   "outputs": [],
   "source": [
    "#r \"B:\\BoSSS-smuda\\public\\src\\L4-application\\BoSSSpad\\bin\\Release\\net5.0\\BoSSSpad.dll\"\n",
    "//#r \"BoSSSpad.dll\"\n",
    "using System;\n",
    "using ilPSP;\n",
    "using ilPSP.Utils;\n",
    "using BoSSS.Platform;\n",
    "using BoSSS.Foundation;\n",
    "using BoSSS.Foundation.XDG;\n",
    "using BoSSS.Foundation.Grid;\n",
    "using BoSSS.Solution;\n",
    "using BoSSS.Application.XNSE_Solver;\n",
    "using BoSSS.Application.BoSSSpad;\n",
    "using BoSSS.Foundation.Grid.Classic;\n",
    "using BoSSS.Foundation.IO;\n",
    "using BoSSS.Solution.AdvancedSolvers;\n",
    "using BoSSS.Solution.Control;\n",
    "using BoSSS.Solution.XNSECommon;\n",
    "using BoSSS.Solution.NSECommon;\n",
    "using BoSSS.Application.XNSE_Solver.LoadBalancing;\n",
    "using BoSSS.Solution.LevelSetTools;\n",
    "using BoSSS.Solution.XdgTimestepping;\n",
    "\n",
    "using static BoSSS.Application.BoSSSpad.BoSSSshell;\n",
    "Init();"
   ]
  },
  {
   "cell_type": "code",
   "execution_count": null,
   "metadata": {
    "dotnet_interactive": {
     "language": "csharp"
    }
   },
   "outputs": [],
   "source": [
    "// Is used at Jenkins to generate individual names (for output .json)\n",
    "string dbname = System.Environment.GetEnvironmentVariable(\"DATABASE_NAME\");\n",
    "string buildname = System.Environment.GetEnvironmentVariable(\"JOB_NAME\");\n",
    "//defaults\n",
    "buildname = String.IsNullOrEmpty(buildname)? \"Benchmark\" : buildname;\n",
    "//string thedate = $\"{System.DateTime.Today.Day}-{System.DateTime.Today.Month}-{System.DateTime.Today.Year}\";\n",
    "dbname = String.IsNullOrEmpty(dbname)? \"dbname\" : dbname;\n",
    "string table_name = String.Concat(buildname, \"_\", dbname);"
   ]
  },
  {
   "cell_type": "code",
   "execution_count": null,
   "metadata": {
    "dotnet_interactive": {
     "language": "csharp"
    }
   },
   "outputs": [
    {
     "data": {
      "text/html": [
       "<table><thead><tr><th><i>index</i></th><th>value</th></tr></thead><tbody><tr><td>0</td><td>#SBATCH -C avx512</td></tr><tr><td>1</td><td>#SBATCH --mem-per-cpu=2000</td></tr></tbody></table>"
      ]
     },
     "metadata": {},
     "output_type": "display_data"
    }
   ],
   "source": [
    "var myBatch = (SlurmClient)GetDefaultQueue();\n",
    "var AddSbatchCmds = new List<string>();\n",
    "AddSbatchCmds.AddRange(new string[]{\"#SBATCH -C avx512\", \"#SBATCH --mem-per-cpu=\"+2000});\n",
    "myBatch.AdditionalBatchCommands = AddSbatchCmds.ToArray();\n",
    "myBatch.AdditionalBatchCommands"
   ]
  },
  {
   "cell_type": "code",
   "execution_count": null,
   "metadata": {
    "dotnet_interactive": {
     "language": "csharp"
    }
   },
   "outputs": [
    {
     "name": "stdout",
     "output_type": "stream",
     "text": [
      "Project name is set to 'Benchmark_dbname'.\r\n",
      "Opening existing database 'W:\\work\\scratch\\jw52xeqa\\Benchmark_dbname'.\r\n"
     ]
    },
    {
     "data": {
      "text/plain": [
       "{ Session Count = 18; Grid Count = 11; Path = W:\\work\\scratch\\jw52xeqa\\Benchmark_dbname }"
      ]
     },
     "metadata": {},
     "output_type": "display_data"
    }
   ],
   "source": [
    "string WFlowName = table_name;\n",
    "BoSSS.Application.BoSSSpad.BoSSSshell.WorkflowMgm.Init(WFlowName);\n",
    "BoSSS.Application.BoSSSpad.BoSSSshell.WorkflowMgm.SetNameBasedSessionJobControlCorrelation();\n",
    "var myDB = BoSSS.Application.BoSSSpad.BoSSSshell.WorkflowMgm.DefaultDatabase; myDB"
   ]
  },
  {
   "cell_type": "code",
   "execution_count": null,
   "metadata": {
    "dotnet_interactive": {
     "language": "csharp"
    }
   },
   "outputs": [],
   "source": [
    "static class Utils {\n",
    "    // DOF per cell in 3D\n",
    "    public static int Np(int p) {\n",
    "        return (p*p*p + 6*p*p + 11*p + 6)/6;\n",
    "    }    \n",
    "    \n",
    "    //Non-equidistant nodes\n",
    "    public static double[] SinLinSpacing(double l, double r, double a, int n) {\n",
    "        double[] linnodes = GenericBlas.Linspace(-Math.PI * 0.5, Math.PI * 0.5, n);\n",
    "        double[] linnodes2 = GenericBlas.Linspace(-1, 1, n);\n",
    "        double[] nodes = new double[n];\n",
    "\n",
    "        for (int i = 0; i < n; i++)\n",
    "            //nodes[i] = linnodes2[i] * (1 - a) + (1.0 - Math.Sin(linnodes[i])) * a;\n",
    "            nodes[i] = linnodes2[i] * (1 - a) + Math.Sin(linnodes[i])*a;\n",
    "\n",
    "        for (int i = 0; i < n; i++)\n",
    "            nodes[i] = nodes[i] * (r - l)*0.5 + l;\n",
    "        return nodes;\n",
    "    }\n",
    "}"
   ]
  },
  {
   "cell_type": "code",
   "execution_count": null,
   "metadata": {
    "dotnet_interactive": {
     "language": "csharp"
    }
   },
   "outputs": [
    {
     "name": "stdout",
     "output_type": "stream",
     "text": [
      "Object reference not set to an instance of an object.\r\n",
      "Found Grid: { Guid = f5c62319-0ca0-4544-8ac3-a0c1be2a012e; Name = Benchmark_dbname_J64; Cell Count = 64; Dim = 3 }\r\n"
     ]
    }
   ],
   "source": [
    "\n",
    "int[] Resolutions_3D = new int[] { 4 };\n",
    "//int[] Resolutions_3D = new int[] { 2 };\n",
    "IGridInfo[] grids = new IGridInfo[Resolutions_3D.Length];\n",
    "for(int cnt = 0; cnt < Resolutions_3D.Length; cnt++) {\n",
    "    int Res = Resolutions_3D[cnt];    \n",
    "    \n",
    "    //double[] xNodes = GenericBlas.Linspace(0, 10, Res*5 + 1);\n",
    "    //double[] yNodes = Utils.SinLinSpacing(-1, +1, 0.6, Res + 1);\n",
    "    //double[] zNodes = Utils.SinLinSpacing(-1, +1, 0.6, Res + 1);\n",
    "    double[] xNodes = GenericBlas.Linspace(-1, +1, Res + 1);\n",
    "    double[] yNodes = GenericBlas.Linspace(-1, +1, Res + 1);\n",
    "    double[] zNodes = GenericBlas.Linspace(-1, +1, Res + 1);\n",
    "    int J = (xNodes.Length - 1)*(yNodes.Length - 1)*(zNodes.Length - 1);\n",
    "    string prjname = BoSSS.Application.BoSSSpad.BoSSSshell.WorkflowMgm.CurrentProject;\n",
    "    string GridName = string.Format(prjname + \"_J\" + J);\n",
    "    \n",
    "    try{\n",
    "        grids[cnt]=null;\n",
    "        foreach(IGridInfo grd in myDB.Grids){\n",
    "            bool check = grd.Name.Contains(string.Format(\"_J\"+ J));\n",
    "            if(check){\n",
    "            grids[cnt]=grd;\n",
    "            }\n",
    "        }\n",
    "    } catch (Exception ex){\n",
    "        //Console.WriteLine(ex.Message);\n",
    "    }\n",
    "    \n",
    "    //grids[cnt] = tempDB.Grids.SingleOrDefault(grd => grd.Name == GridName);\n",
    "    \n",
    "    if(grids[cnt] == null){\n",
    "        Console.WriteLine(\"Creating grid with \" + J + \" cells.\");\n",
    "        \n",
    "        GridCommons g;\n",
    "        g      = Grid3D.Cartesian3DGrid(xNodes, yNodes, zNodes);\n",
    "        g.Name = GridName;\n",
    "        \n",
    "        g.DefineEdgeTags(delegate (double[] X) {\n",
    "            if (Math.Abs(X[0] - (-1)) <= 1.0e-8)\n",
    "                return \"wall_left\";\n",
    "            if (Math.Abs(X[0] - (+1)) <= 1.0e-8)\n",
    "                return \"wall_right\";\n",
    "            if (Math.Abs(X[1] - (-1)) <= 1.0e-8)\n",
    "                return \"wall_front\";\n",
    "            if (Math.Abs(X[1] - (+1)) <= 1.0e-8)\n",
    "                return \"wall_back\";\n",
    "            if (Math.Abs(X[2] - (-1)) <= 1.0e-8)\n",
    "                return \"wall_top\";\n",
    "            if (Math.Abs(X[2] - (+1)) <= 1.0e-8)\n",
    "                return \"wall_bottom\";\n",
    "            throw new ArgumentException(\"unknown wall\");\n",
    "        });\n",
    "      \n",
    "        myDB.SaveGrid(ref g);  \n",
    "        grids[cnt] = g;\n",
    "    } else {\n",
    "        Console.WriteLine(\"Found Grid: \" + grids[cnt]);\n",
    "        if(grids[cnt].NumberOfCells != J)\n",
    "            throw new Exception(\"J mismatch\");\n",
    "        \n",
    "        if(grids[cnt].SpatialDimension != 3)\n",
    "            throw new Exception(\"D mismatch\");\n",
    "    }\n",
    "}"
   ]
  },
  {
   "cell_type": "code",
   "execution_count": null,
   "metadata": {
    "dotnet_interactive": {
     "language": "csharp"
    }
   },
   "outputs": [],
   "source": [
    "using BoSSS.Application.XNSE_Solver;\n",
    "using BoSSS.Solution.LevelSetTools;\n",
    "using BoSSS.Solution.AdvancedSolvers;\n",
    "using BoSSS.Solution.XNSECommon;\n",
    "using BoSSS.Solution.Timestepping;\n",
    "using BoSSS.Solution.XdgTimestepping ;"
   ]
  },
  {
   "cell_type": "code",
   "execution_count": null,
   "metadata": {
    "dotnet_interactive": {
     "language": "csharp"
    }
   },
   "outputs": [],
   "source": [
    "Func<LinearSolverCode, int, IGridInfo, int ,XNSE_Control> GenerateCObj = delegate (LinearSolverCode solver, int p, IGridInfo grid, int DOF){\n",
    "    \n",
    "    // ProjectName\n",
    "    // ============\n",
    "    int NoSblocks = 4;\n",
    "    int J         = grid.NumberOfCells;\n",
    "    \n",
    "    string caseName = string.Format(\"J{0}_p{1}_{2}\", J, p, solver);\n",
    "    Console.WriteLine(\"setting up: \" + caseName);\n",
    "    \n",
    "    XNSE_Control C       = new XNSE_Control();\n",
    "    C.SetDatabase(myDB);\n",
    "    C.savetodb           = true;\n",
    "    C.ProjectName        = WFlowName;\n",
    "    C.ProjectDescription = \"static droplet\";\n",
    "    C.SessionName        = caseName;\n",
    "    C.GridGuid           = grid.ID;\n",
    "    \n",
    "    // DG degrees\n",
    "    // ============\n",
    "    \n",
    "    C.FieldOptions.Add(\"Velocity*\", new FieldOpts() {\n",
    "        Degree = p,\n",
    "        SaveToDB = FieldOpts.SaveToDBOpt.TRUE\n",
    "    });\n",
    "    C.FieldOptions.Add(\"Pressure\", new FieldOpts() {\n",
    "        Degree = p - 1,\n",
    "        SaveToDB = FieldOpts.SaveToDBOpt.TRUE\n",
    "    });    \n",
    "    C.FieldOptions.Add(\"GravityY\", new FieldOpts() {\n",
    "        SaveToDB = FieldOpts.SaveToDBOpt.TRUE\n",
    "    });\n",
    "    C.FieldOptions.Add(\"PhiDG\", new FieldOpts() {\n",
    "        SaveToDB = FieldOpts.SaveToDBOpt.TRUE\n",
    "    });\n",
    "    C.FieldOptions.Add(\"Phi\", new FieldOpts() {\n",
    "        Degree = 2,\n",
    "        SaveToDB = FieldOpts.SaveToDBOpt.TRUE\n",
    "    });\n",
    "    C.FieldOptions.Add(\"Curvature\", new FieldOpts() {\n",
    "        Degree = Math.Max(4, 2*p + 2),\n",
    "        SaveToDB = FieldOpts.SaveToDBOpt.TRUE\n",
    "    });\n",
    "    \n",
    "    // Phys. Parameters\n",
    "    // ============\n",
    "    \n",
    "    C.PhysicalParameters.rho_A             = 1e-3; //     kg / cm³\n",
    "    C.PhysicalParameters.rho_B             = 1.2e-6; //   kg / cm³\n",
    "    C.PhysicalParameters.mu_A              = 1e-5; //      kg / cm / sec\n",
    "    C.PhysicalParameters.mu_B              = 17.1e-8; //   kg / cm / sec\n",
    "    C.PhysicalParameters.Sigma             = 72.75e-3; // kg / sec²   \n",
    "    C.PhysicalParameters.IncludeConvection = false;\n",
    "    C.PhysicalParameters.Material          = true;\n",
    "    C.TracingNamespaces                    = \"*\";\n",
    "    \n",
    "    // Dont know\n",
    "    // ============\n",
    "    \n",
    "    double r     = 0.49;\n",
    "    double nonsp = 0.5;\n",
    "\n",
    "    C.AddInitialValue(\"Phi\", new Formula($\"X => (X[0]/{r*nonsp}).Pow2() + (X[1]/{r}).Pow2() + (X[2]/{r}).Pow2()-1\", false));\n",
    "    \n",
    "    C.LSContiProjectionMethod = ContinuityProjectionOption.None;\n",
    "    C.CutCellQuadratureType   = BoSSS.Foundation.XDG.XQuadFactoryHelper.MomentFittingVariants.Saye;\n",
    "    C.ComputeEnergyProperties = false;\n",
    "\n",
    "    //C.AdvancedDiscretizationOptions.CellAgglomerationThreshold = 0.2;\n",
    "    //C.AdvancedDiscretizationOptions.PenaltySafety = 40;\n",
    "    //C.AdvancedDiscretizationOptions.UseGhostPenalties = true;\n",
    "    //C.ContiField = XNSE_Control.ContinuityProjection.ContinuousDG;\n",
    "    \n",
    "    // Solver Stuff\n",
    "    // ============\n",
    "    \n",
    "    //C.VelocityBlockPrecondMode         = MultigridOperator.Mode.IdMass_DropIndefinite;\n",
    "    //C.PressureBlockPrecondMode         = MultigridOperator.Mode.IdMass_DropIndefinite;\n",
    "    C.UseSchurBlockPrec                = true;\n",
    "    C.LinearSolver.NoOfMultigridLevels = 5;\n",
    "    C.LinearSolver.MaxSolverIterations = 5000;\n",
    "    C.LinearSolver.pMaxOfCoarseSolver  = p;\n",
    "    \n",
    "    C.LinearSolver.TargetBlockSize = Math.Min(J*DOF/2,10000); //Make at least two blocks with Schwarz plz...\n",
    "    //C.LinearSolver.TargetBlockSize = (int)(J*DOF/(NoSblocks-1));\n",
    "\n",
    "    C.LinearSolver.ConvergenceCriterion = 1e-8;\n",
    "    C.LevelSet_ConvergenceCriterion     = 1e-6;\n",
    "    C.LinearSolver.SolverCode           = solver;\n",
    "    C.LinearSolver.verbose              = true;\n",
    "    C.NonLinearSolver.verbose           = true;\n",
    "\n",
    "    C.Option_LevelSetEvolution                          = LevelSetEvolution.None;\n",
    "    C.AdvancedDiscretizationOptions.SST_isotropicMode   = SurfaceStressTensor_IsotropicMode.LaplaceBeltrami_ContactLine;\n",
    "    C.AdvancedDiscretizationOptions.ViscosityMode       = ViscosityMode.FullySymmetric;\n",
    "    C.AdvancedDiscretizationOptions.FilterConfiguration = CurvatureAlgorithms.FilterConfiguration.NoFilter;\n",
    "\n",
    "    // Timestepping\n",
    "    // ============\n",
    "\n",
    "    C.TimeSteppingScheme           = TimeSteppingScheme.ImplicitEuler;\n",
    "    C.Timestepper_BDFinit          = TimeStepperInit.SingleInit;\n",
    "    C.Timestepper_LevelSetHandling = LevelSetHandling.None;\n",
    "    C.TimesteppingMode             = AppControl._TimesteppingMode.Steady;\n",
    "    //C.TimesteppingMode             = AppControl._TimesteppingMode.Transient;\n",
    "    //C.dtFixed                      = 1E-4;\n",
    "            \n",
    "    C.SessionName += \"_pLow\"+C.LinearSolver.pMaxOfCoarseSolver ;\n",
    "    return C;\n",
    "    };"
   ]
  },
  {
   "cell_type": "code",
   "execution_count": null,
   "metadata": {
    "dotnet_interactive": {
     "language": "csharp"
    }
   },
   "outputs": [],
   "source": [
    "Func<LinearSolverCode, int, IGridInfo, int ,XNSE_Control> GenerateChannel = delegate (LinearSolverCode solver, int p, IGridInfo grid, int DOF){\n",
    "    \n",
    "    // ProjectName\n",
    "    // ============\n",
    "    int J         = grid.NumberOfCells;\n",
    "    \n",
    "    string caseName = string.Format(\"J{0}_p{1}_{2}\", J, p, solver);\n",
    "    Console.WriteLine(\"setting up: \" + caseName);\n",
    "    \n",
    "    XNSE_Control C       = new XNSE_Control();\n",
    "    C.SetDatabase(myDB);\n",
    "    C.savetodb           = true;\n",
    "    C.ProjectName        = WFlowName;\n",
    "    C.ProjectDescription = \"static droplet\";\n",
    "    C.SessionName        = caseName;\n",
    "    C.GridGuid           = grid.ID;\n",
    "    \n",
    "    // DG degrees\n",
    "    // ============\n",
    "    \n",
    "    C.FieldOptions.Add(\"Velocity*\", new FieldOpts() {\n",
    "        Degree = p,\n",
    "        SaveToDB = FieldOpts.SaveToDBOpt.TRUE\n",
    "    });\n",
    "    C.FieldOptions.Add(\"Pressure\", new FieldOpts() {\n",
    "        Degree = p - 1,\n",
    "        SaveToDB = FieldOpts.SaveToDBOpt.TRUE\n",
    "    });    \n",
    "    C.FieldOptions.Add(\"GravityY\", new FieldOpts() {\n",
    "        SaveToDB = FieldOpts.SaveToDBOpt.TRUE\n",
    "    });\n",
    "    /*\n",
    "    C.FieldOptions.Add(\"PhiDG\", new FieldOpts() {\n",
    "        SaveToDB = FieldOpts.SaveToDBOpt.TRUE\n",
    "    });\n",
    "    C.FieldOptions.Add(\"Phi\", new FieldOpts() {\n",
    "        Degree = 2,\n",
    "        SaveToDB = FieldOpts.SaveToDBOpt.TRUE\n",
    "    });\n",
    "    C.FieldOptions.Add(\"Curvature\", new FieldOpts() {\n",
    "        Degree = Math.Max(4, 2*p + 2),\n",
    "        SaveToDB = FieldOpts.SaveToDBOpt.TRUE\n",
    "    });\n",
    "    */\n",
    "    \n",
    "    // Phys. Parameters\n",
    "    // ============\n",
    "    \n",
    "    C.PhysicalParameters.rho_A             = 1e-3; //     kg / cm³\n",
    "    C.PhysicalParameters.rho_B             = 1.2e-6; //   kg / cm³\n",
    "    C.PhysicalParameters.mu_A              = 1e-5; //      kg / cm / sec\n",
    "    C.PhysicalParameters.mu_B              = 17.1e-8; //   kg / cm / sec\n",
    "    C.PhysicalParameters.Sigma             = 72.75e-3; // kg / sec²   \n",
    "    C.PhysicalParameters.IncludeConvection = false;\n",
    "    C.PhysicalParameters.Material          = true;\n",
    "    C.TracingNamespaces                    = \"*\";\n",
    "    \n",
    "    C.LSContiProjectionMethod = ContinuityProjectionOption.None;\n",
    "    C.CutCellQuadratureType   = BoSSS.Foundation.XDG.XQuadFactoryHelper.MomentFittingVariants.Saye;\n",
    "    C.ComputeEnergyProperties = false;\n",
    "    \n",
    "    // Solver Stuff\n",
    "    // ============\n",
    "    \n",
    "    C.UseSchurBlockPrec                = true;\n",
    "    C.LinearSolver.NoOfMultigridLevels = 5;\n",
    "    C.LinearSolver.MaxSolverIterations = 5000;\n",
    "    C.LinearSolver.pMaxOfCoarseSolver  = p;\n",
    "    \n",
    "    C.LinearSolver.TargetBlockSize = Math.Min(J*DOF/2,10000); //Make at least two blocks with Schwarz plz...\n",
    "    //C.LinearSolver.TargetBlockSize = (int)(J*DOF/(NoSblocks-1));\n",
    "\n",
    "    C.LinearSolver.ConvergenceCriterion = 1e-8;\n",
    "    C.LinearSolver.SolverCode           = solver;\n",
    "    C.LinearSolver.verbose              = true;\n",
    "    C.NonLinearSolver.verbose           = true;\n",
    "\n",
    "    C.Option_LevelSetEvolution                          = LevelSetEvolution.None;\n",
    "    C.AdvancedDiscretizationOptions.ViscosityMode       = ViscosityMode.FullySymmetric;\n",
    "    C.AdvancedDiscretizationOptions.FilterConfiguration = CurvatureAlgorithms.FilterConfiguration.NoFilter;\n",
    "\n",
    "    double VelocityIn = 1.0;\n",
    "    C.AddBoundaryValue(\"Velocity_inlet\", \"VelocityX\", new Formula($\"(X,t) => {VelocityIn}\", false));\n",
    "    C.AddInitialValue(\"VelocityX\", new Formula($\"(X) => {VelocityIn}\"));\n",
    "\n",
    "    // Timestepping\n",
    "    // ============\n",
    "\n",
    "    C.TimeSteppingScheme           = TimeSteppingScheme.ImplicitEuler;\n",
    "    C.Timestepper_BDFinit          = TimeStepperInit.SingleInit;\n",
    "    C.Timestepper_LevelSetHandling = LevelSetHandling.None;\n",
    "    C.TimesteppingMode             = AppControl._TimesteppingMode.Steady;\n",
    "    //C.TimesteppingMode             = AppControl._TimesteppingMode.Transient;\n",
    "    C.dtFixed                      = double.MaxValue;\n",
    "            \n",
    "    C.SessionName += \"_pLow\"+C.LinearSolver.pMaxOfCoarseSolver ;\n",
    "    return C;\n",
    "    };"
   ]
  },
  {
   "cell_type": "code",
   "execution_count": null,
   "metadata": {
    "dotnet_interactive": {
     "language": "csharp"
    }
   },
   "outputs": [],
   "source": [
    "int[] PolyDegS = new int[] {3};\n",
    "//int[] PolyDegS = new int[] {2};"
   ]
  },
  {
   "cell_type": "code",
   "execution_count": null,
   "metadata": {
    "dotnet_interactive": {
     "language": "csharp"
    }
   },
   "outputs": [],
   "source": [
    "// Solvers which we want to instrument:\n",
    "LinearSolverCode[] solver_nameS = new LinearSolverCode[] {\n",
    "    //LinearSolverCode.classic_pardiso,\n",
    "    //LinearSolverCode.exp_OrthoS_pMG,\n",
    "    //LinearSolverCode.exp_gmres_levelpmg,\n",
    "    //LinearSolverCode.exp_softgmres_schwarz_directcoarse_overlap,\n",
    "    LinearSolverCode.exp_Kcycle_schwarz,\n",
    "    //LinearSolverConfig.Code.classic_mumps, \n",
    "    //LinearSolverConfig.Code.classic_cg,\n",
    "    //LinearSolverConfig.Code.exp_softpcg_schwarz_directcoarse,\n",
    "    //LinearSolverConfig.Code.exp_softpcg_mg\n",
    "}; "
   ]
  },
  {
   "cell_type": "code",
   "execution_count": null,
   "metadata": {
    "dotnet_interactive": {
     "language": "csharp"
    }
   },
   "outputs": [
    {
     "data": {
      "text/plain": [
       "#0: { Guid = f5c62319-0ca0-4544-8ac3-a0c1be2a012e; Name = Benchmark_dbname_J64; Cell Count = 64; Dim = 3 }\r\n"
      ]
     },
     "metadata": {},
     "output_type": "display_data"
    }
   ],
   "source": [
    "//List<IGridInfo> t_grids=new List<IGridInfo>();\n",
    "//grids.Pick(1,2,3,4,5,6,7).ForEach(g => t_grids.Add(g));\n",
    "//t_grids.ToArray();\n",
    "IGridInfo[] t_grids = grids;\n",
    "t_grids"
   ]
  },
  {
   "cell_type": "code",
   "execution_count": null,
   "metadata": {
    "dotnet_interactive": {
     "language": "csharp"
    }
   },
   "outputs": [],
   "source": [
    "// MaxDof for one claculation (we skip fine grids for higher polynomial orders)\n",
    "int MaxDof = 5000000;"
   ]
  },
  {
   "cell_type": "code",
   "execution_count": null,
   "metadata": {
    "dotnet_interactive": {
     "language": "csharp"
    }
   },
   "outputs": [],
   "source": [
    "using BoSSS.Solution.XNSECommon;\n",
    "using BoSSS.Foundation.XDG;"
   ]
  },
  {
   "cell_type": "code",
   "execution_count": null,
   "metadata": {
    "dotnet_interactive": {
     "language": "csharp"
    }
   },
   "outputs": [
    {
     "name": "stdout",
     "output_type": "stream",
     "text": [
      "setting up: J64_p3_exp_Kcycle_schwarz\r\n"
     ]
    }
   ],
   "source": [
    "List<XNSE_Control> controls = new List<XNSE_Control>();\n",
    "controls.Clear();\n",
    "foreach(LinearSolverCode solver_name in solver_nameS) {\n",
    "foreach(int k in PolyDegS) {\n",
    "foreach(IGridInfo grd in t_grids) {\n",
    "\n",
    "    int Np_V = Utils.Np(k);\n",
    "    int Np_p = Utils.Np(k-1);\n",
    "    int J    = grd.NumberOfCells;\n",
    "    int DOF  = Np_V*3+Np_p;\n",
    "    if(J*DOF > MaxDof)\n",
    "        continue;\n",
    "    \n",
    "    var Ctrl = GenerateCObj(solver_name,k,grd,DOF);\n",
    "    \n",
    "    controls.Add(Ctrl);\n",
    "}\n",
    "}\n",
    "}"
   ]
  },
  {
   "cell_type": "code",
   "execution_count": null,
   "metadata": {
    "dotnet_interactive": {
     "language": "csharp"
    }
   },
   "outputs": [
    {
     "name": "stdout",
     "output_type": "stream",
     "text": [
      " Submitting: J64_p3_exp_Kcycle_schwarz_pLow3\r\n",
      "Deploying job J64_p3_exp_Kcycle_schwarz_pLow3 ... \r\n",
      "Deploying executables and additional files ...\r\n",
      "Deployment directory: X:\\Deployerie\\Benchmark_dbname-XNSE_Solver2022Feb03_152752\r\n",
      "copied 49 files.\r\n",
      "   written file: control.obj\r\n",
      "   copied 'amd64' runtime.\r\n",
      "deployment finished.\r\n",
      "stderr received: rm: cannot remove 'core.*': No such file or directory\r\n",
      "rm: cannot remove 'mono_crash.*': No such file or directory\r\n",
      "rm: cannot remove 'mono_crash.mem.*': No such file or directory\r\n",
      "Lmod: loading git 2.31.0 \r\n",
      "Lmod: loading gcc 9.2.0 \r\n",
      "Lmod: loading cmake 3.19.3 \r\n",
      "Lmod: loading mono 6.0.0 \r\n",
      "Lmod: loading openblas 0.2.20 \r\n",
      "Lmod: loading openucx 1.11.2 \r\n",
      "Lmod: loading openmpi 4.0.5 \r\n",
      "Lmod: loading matlab R2021b \r\n",
      "----- (end of stderr)\r\n",
      "stderr received: rm: cannot remove 'core.*': No such file or directory\r\n",
      "rm: cannot remove 'mono_crash.*': No such file or directory\r\n",
      "rm: cannot remove 'mono_crash.mem.*': No such file or directory\r\n",
      "Lmod: loading git 2.31.0 \r\n",
      "Lmod: loading gcc 9.2.0 \r\n",
      "Lmod: loading cmake 3.19.3 \r\n",
      "Lmod: loading mono 6.0.0 \r\n",
      "Lmod: loading openblas 0.2.20 \r\n",
      "Lmod: loading openucx 1.11.2 \r\n",
      "Lmod: loading openmpi 4.0.5 \r\n",
      "Lmod: loading matlab R2021b \r\n",
      "----- (end of stderr)\r\n",
      "\r\n"
     ]
    }
   ],
   "source": [
    "foreach(var ctrl in controls) {\n",
    "    Console.WriteLine(\" Submitting: \" + ctrl.SessionName); \n",
    "    var aJob = new Job(ctrl.SessionName, typeof(XNSE));\n",
    "    aJob.SetControlObject(ctrl);\n",
    "    aJob.NumberOfMPIProcs         = 1;\n",
    "    aJob.ExecutionTime            = \"1:00:00\";\n",
    "    aJob.UseComputeNodesExclusive = true;\n",
    "    aJob.Activate(myBatch);\n",
    "}"
   ]
  },
  {
   "cell_type": "code",
   "execution_count": null,
   "metadata": {
    "dotnet_interactive": {
     "language": "csharp"
    }
   },
   "outputs": [],
   "source": []
  }
 ],
 "metadata": {
  "kernelspec": {
   "display_name": ".NET (C#)",
   "language": "C#",
   "name": ".net-csharp"
  },
  "language_info": {
   "file_extension": ".cs",
   "mimetype": "text/x-csharp",
   "name": "C#",
   "pygments_lexer": "csharp",
   "version": "8.0"
  }
 },
 "nbformat": 4,
 "nbformat_minor": 2
}
