{
 "cells": [
  {
   "cell_type": "markdown",
   "metadata": {},
   "source": [
    "# Linear Solver Performance: XDG Stokes, Single Core\n",
    "### Part 1, Benchmark Setup and Execution"
   ]
  },
  {
   "cell_type": "code",
   "execution_count": 1,
   "metadata": {
    "dotnet_interactive": {
     "language": "csharp"
    }
   },
   "outputs": [
    {
     "data": {
      "text/html": [
       "\r\n",
       "<div>\r\n",
       "    <div id='dotnet-interactive-this-cell-17072.Microsoft.DotNet.Interactive.Http.HttpPort' style='display: none'>\r\n",
       "        The below script needs to be able to find the current output cell; this is an easy method to get it.\r\n",
       "    </div>\r\n",
       "    <script type='text/javascript'>\r\n",
       "async function probeAddresses(probingAddresses) {\r\n",
       "    function timeout(ms, promise) {\r\n",
       "        return new Promise(function (resolve, reject) {\r\n",
       "            setTimeout(function () {\r\n",
       "                reject(new Error('timeout'))\r\n",
       "            }, ms)\r\n",
       "            promise.then(resolve, reject)\r\n",
       "        })\r\n",
       "    }\r\n",
       "\r\n",
       "    if (Array.isArray(probingAddresses)) {\r\n",
       "        for (let i = 0; i < probingAddresses.length; i++) {\r\n",
       "\r\n",
       "            let rootUrl = probingAddresses[i];\r\n",
       "\r\n",
       "            if (!rootUrl.endsWith('/')) {\r\n",
       "                rootUrl = `${rootUrl}/`;\r\n",
       "            }\r\n",
       "\r\n",
       "            try {\r\n",
       "                let response = await timeout(1000, fetch(`${rootUrl}discovery`, {\r\n",
       "                    method: 'POST',\r\n",
       "                    cache: 'no-cache',\r\n",
       "                    mode: 'cors',\r\n",
       "                    timeout: 1000,\r\n",
       "                    headers: {\r\n",
       "                        'Content-Type': 'text/plain'\r\n",
       "                    },\r\n",
       "                    body: probingAddresses[i]\r\n",
       "                }));\r\n",
       "\r\n",
       "                if (response.status == 200) {\r\n",
       "                    return rootUrl;\r\n",
       "                }\r\n",
       "            }\r\n",
       "            catch (e) { }\r\n",
       "        }\r\n",
       "    }\r\n",
       "}\r\n",
       "\r\n",
       "function loadDotnetInteractiveApi() {\r\n",
       "    probeAddresses([\"http://130.83.248.207:1000/\", \"http://127.0.0.1:1000/\"])\r\n",
       "        .then((root) => {\r\n",
       "        // use probing to find host url and api resources\r\n",
       "        // load interactive helpers and language services\r\n",
       "        let dotnetInteractiveRequire = require.config({\r\n",
       "        context: '17072.Microsoft.DotNet.Interactive.Http.HttpPort',\r\n",
       "                paths:\r\n",
       "            {\r\n",
       "                'dotnet-interactive': `${root}resources`\r\n",
       "                }\r\n",
       "        }) || require;\r\n",
       "\r\n",
       "            window.dotnetInteractiveRequire = dotnetInteractiveRequire;\r\n",
       "\r\n",
       "            window.configureRequireFromExtension = function(extensionName, extensionCacheBuster) {\r\n",
       "                let paths = {};\r\n",
       "                paths[extensionName] = `${root}extensions/${extensionName}/resources/`;\r\n",
       "                \r\n",
       "                let internalRequire = require.config({\r\n",
       "                    context: extensionCacheBuster,\r\n",
       "                    paths: paths,\r\n",
       "                    urlArgs: `cacheBuster=${extensionCacheBuster}`\r\n",
       "                    }) || require;\r\n",
       "\r\n",
       "                return internalRequire\r\n",
       "            };\r\n",
       "        \r\n",
       "            dotnetInteractiveRequire([\r\n",
       "                    'dotnet-interactive/dotnet-interactive'\r\n",
       "                ],\r\n",
       "                function (dotnet) {\r\n",
       "                    dotnet.init(window);\r\n",
       "                },\r\n",
       "                function (error) {\r\n",
       "                    console.log(error);\r\n",
       "                }\r\n",
       "            );\r\n",
       "        })\r\n",
       "        .catch(error => {console.log(error);});\r\n",
       "    }\r\n",
       "\r\n",
       "// ensure `require` is available globally\r\n",
       "if ((typeof(require) !==  typeof(Function)) || (typeof(require.config) !== typeof(Function))) {\r\n",
       "    let require_script = document.createElement('script');\r\n",
       "    require_script.setAttribute('src', 'https://cdnjs.cloudflare.com/ajax/libs/require.js/2.3.6/require.min.js');\r\n",
       "    require_script.setAttribute('type', 'text/javascript');\r\n",
       "    \r\n",
       "    \r\n",
       "    require_script.onload = function() {\r\n",
       "        loadDotnetInteractiveApi();\r\n",
       "    };\r\n",
       "\r\n",
       "    document.getElementsByTagName('head')[0].appendChild(require_script);\r\n",
       "}\r\n",
       "else {\r\n",
       "    loadDotnetInteractiveApi();\r\n",
       "}\r\n",
       "\r\n",
       "    </script>\r\n",
       "</div>"
      ]
     },
     "metadata": {},
     "output_type": "display_data"
    },
    {
     "name": "stdout",
     "output_type": "stream",
     "text": [
      "Execution Date/time is 11/12/2021 5:24:25 AM\r\n"
     ]
    }
   ],
   "source": [
    "Console.WriteLine(\"Execution Date/time is \" + DateTime.Now);"
   ]
  },
  {
   "cell_type": "code",
   "execution_count": 2,
   "metadata": {
    "dotnet_interactive": {
     "language": "csharp"
    }
   },
   "outputs": [],
   "source": [
    "#r \"BoSSSpad.dll\"\n",
    "using System;\n",
    "using System.Collections.Generic;\n",
    "using System.Linq;\n",
    "using ilPSP;\n",
    "using ilPSP.Utils;\n",
    "using BoSSS.Platform;\n",
    "using BoSSS.Platform.LinAlg;\n",
    "using BoSSS.Foundation;\n",
    "using BoSSS.Foundation.XDG;\n",
    "using BoSSS.Foundation.Grid;\n",
    "using BoSSS.Foundation.Grid.Classic;\n",
    "using BoSSS.Foundation.Grid.RefElements;\n",
    "using BoSSS.Foundation.IO;\n",
    "using BoSSS.Solution;\n",
    "using BoSSS.Solution.Control;\n",
    "using BoSSS.Solution.GridImport;\n",
    "using BoSSS.Solution.Statistic;\n",
    "using BoSSS.Solution.Utils;\n",
    "using BoSSS.Solution.AdvancedSolvers;\n",
    "using BoSSS.Solution.Gnuplot;\n",
    "using BoSSS.Application.BoSSSpad;\n",
    "using BoSSS.Application.XNSE_Solver;\n",
    "using BoSSS.Application.XNSFE_Solver;\n",
    "using static BoSSS.Application.BoSSSpad.BoSSSshell;\n",
    "Init();"
   ]
  },
  {
   "cell_type": "code",
   "execution_count": 3,
   "metadata": {
    "dotnet_interactive": {
     "language": "csharp"
    }
   },
   "outputs": [
    {
     "data": {
      "text/html": [
       "<table><thead><tr><th>DeploymentBaseDirectory</th><th>DeployRuntime</th><th>Name</th><th>DotnetRuntime</th><th>Username</th><th>ServerName</th><th>ComputeNodes</th><th>DefaultJobPriority</th><th>SingleNode</th><th>AllowedDatabasesPaths</th></tr></thead><tbody><tr><td><div class=\"dni-plaintext\">\\\\fdygitrunner\\ValidationTests</div></td><td><div class=\"dni-plaintext\">True</div></td><td><div class=\"dni-plaintext\">MSHPC-AllNodes</div></td><td><div class=\"dni-plaintext\">dotnet</div></td><td><div class=\"dni-plaintext\">FDY\\jenkinsci</div></td><td><div class=\"dni-plaintext\">DC2</div></td><td><div class=\"dni-plaintext\">[ hpccluster, hpccluster2, fdygitrunner ]</div></td><td><div class=\"dni-plaintext\">Normal</div></td><td><div class=\"dni-plaintext\">True</div></td><td><div class=\"dni-plaintext\">[ \\\\fdygitrunner\\ValidationTests ==  ]</div></td></tr></tbody></table>"
      ]
     },
     "execution_count": 3,
     "metadata": {},
     "output_type": "execute_result"
    }
   ],
   "source": [
    "var myBatch = GetDefaultQueue();\n",
    "myBatch"
   ]
  },
  {
   "cell_type": "code",
   "execution_count": 4,
   "metadata": {
    "dotnet_interactive": {
     "language": "csharp"
    }
   },
   "outputs": [
    {
     "name": "stdout",
     "output_type": "stream",
     "text": [
      "Project name is set to 'LinslvPerf_XdgStokes'.\n",
      "Opening existing database '\\\\fdygitrunner\\ValidationTests\\LinslvPerf_XdgStokes'.\n"
     ]
    },
    {
     "data": {
      "text/plain": []
     },
     "execution_count": 4,
     "metadata": {},
     "output_type": "execute_result"
    }
   ],
   "source": [
    "wmg.Init(\"LinslvPerf_XdgStokes\");\n",
    "wmg.AllJobs"
   ]
  },
  {
   "cell_type": "markdown",
   "metadata": {
    "dotnet_interactive": {
     "language": "csharp"
    }
   },
   "source": [
    "## Utility definitions"
   ]
  },
  {
   "cell_type": "code",
   "execution_count": 5,
   "metadata": {
    "dotnet_interactive": {
     "language": "csharp"
    }
   },
   "outputs": [],
   "source": [
    "static class Utils {\n",
    "    // DOF per cell in 3D for one variable\n",
    "    public static int Np(int p) {\n",
    "        return (p*p*p + 6*p*p + 11*p + 6)/6;\n",
    "    }    \n",
    "    \n",
    "    /*\n",
    "    //Non-equidistant nodes\n",
    "    public static double[] SinLinSpacing(double l, double r, double a, int n) {\n",
    "        double[] linnodes = GenericBlas.Linspace(-Math.PI * 0.5, Math.PI * 0.5, n);\n",
    "        double[] linnodes2 = GenericBlas.Linspace(-1, 1, n);\n",
    "        double[] nodes = new double[n];\n",
    "\n",
    "        for (int i = 0; i < n; i++)\n",
    "            //nodes[i] = linnodes2[i] * (1 - a) + (1.0 - Math.Sin(linnodes[i])) * a;\n",
    "            nodes[i] = linnodes2[i] * (1 - a) + Math.Sin(linnodes[i])*a;\n",
    "\n",
    "        for (int i = 0; i < n; i++)\n",
    "            nodes[i] = nodes[i] * (r - l)*0.5 + l;\n",
    "        return nodes;\n",
    "    }\n",
    "    */\n",
    "}"
   ]
  },
  {
   "cell_type": "markdown",
   "metadata": {
    "dotnet_interactive": {
     "language": "csharp"
    }
   },
   "source": [
    "## Init grids and save to database"
   ]
  },
  {
   "cell_type": "markdown",
   "metadata": {
    "dotnet_interactive": {
     "language": "csharp"
    }
   },
   "source": [
    "Note: The dimension of the domain $(-1,1)^3$ are assumed to be **centimeters**!\n",
    "In this benchmark, realistic physical values are used, i.e. densities and viscosities of \n",
    "- water for Phase A (inside the droplet)\n",
    "- air for Phase B (surounding)\n",
    "The droplet is assumed to be in the millimeter range; therefore, all lenght-, area-, and volume-related properties \n",
    "must also be set in centimeters, e.g. the density of water is $10^{-3} \\text{kg}/\\text{cm}^3$."
   ]
  },
  {
   "cell_type": "code",
   "execution_count": 6,
   "metadata": {
    "dotnet_interactive": {
     "language": "csharp"
    }
   },
   "outputs": [
    {
     "name": "stdout",
     "output_type": "stream",
     "text": [
      "Opening existing database 'C:\\BoSSStests\\LinslvPerf_XdgStokes'.\n",
      "Found Grid: { Guid = f2bd9c43-98d0-46d3-9a5f-26e0f749835e; Name = LinslvPerf_XdgStokes_J512; Cell Count = 512; Dim = 3 }\n",
      "Found Grid: { Guid = fe686703-5eeb-48e4-a56d-cceffa806d9f; Name = LinslvPerf_XdgStokes_J4096; Cell Count = 4096; Dim = 3 }\n",
      "Found Grid: { Guid = dfcd0a72-8e64-4edc-ba3d-ab7ab0181457; Name = LinslvPerf_XdgStokes_J13824; Cell Count = 13824; Dim = 3 }\n",
      "Found Grid: { Guid = 68bcb2a5-770d-4fb8-9cfe-d43be11a8ed5; Name = LinslvPerf_XdgStokes_J32768; Cell Count = 32768; Dim = 3 }\n",
      "Found Grid: { Guid = 1ea792c9-0abd-4137-b360-496388212de5; Name = LinslvPerf_XdgStokes_J110592; Cell Count = 110592; Dim = 3 }\n",
      "Found Grid: { Guid = 70d7ea35-3f7e-44e4-affc-80f3e7d583bd; Name = LinslvPerf_XdgStokes_J262144; Cell Count = 262144; Dim = 3 }\n"
     ]
    }
   ],
   "source": [
    "int[] Resolutions_3D = new int[] { 8, 16, 24, 32, 48, 64 };\n",
    "//int[] Resolutions_3D = new int[] { 2 };\n",
    "IGridInfo[] grids = new IGridInfo[Resolutions_3D.Length];\n",
    "for(int cnt = 0; cnt < Resolutions_3D.Length; cnt++) {\n",
    "    int Res = Resolutions_3D[cnt];    \n",
    "    \n",
    "    double[] xNodes = GenericBlas.Linspace(-1, +1, Res + 1);\n",
    "    double[] yNodes = GenericBlas.Linspace(-1, +1, Res + 1);\n",
    "    double[] zNodes = GenericBlas.Linspace(-1, +1, Res + 1);\n",
    "    int J = (xNodes.Length - 1)*(yNodes.Length - 1)*(zNodes.Length - 1);\n",
    "    \n",
    "    string GridName = string.Format(wmg.CurrentProject + \"_J\" + J);\n",
    "    \n",
    "    grids[cnt] = wmg.Grids.SingleOrDefault(grd => grd.Name.Contains(string.Format(\"_J\"+ J))); // check if an appropriate grid is already present in the database\n",
    "    if(grids[cnt] == null){\n",
    "        Console.WriteLine(\"Creating grid with \" + J + \" cells.\");\n",
    "        \n",
    "        GridCommons g;\n",
    "        g      = Grid3D.Cartesian3DGrid(xNodes, yNodes, zNodes);\n",
    "        g.Name = GridName;\n",
    "        \n",
    "        g.DefineEdgeTags(delegate (double[] X) {\n",
    "            if (Math.Abs(X[0] - (-1)) <= 1.0e-8)\n",
    "                return \"wall_left\";\n",
    "            if (Math.Abs(X[0] - (+1)) <= 1.0e-8)\n",
    "                return \"wall_right\";\n",
    "            if (Math.Abs(X[1] - (-1)) <= 1.0e-8)\n",
    "                return \"wall_front\";\n",
    "            if (Math.Abs(X[1] - (+1)) <= 1.0e-8)\n",
    "                return \"wall_back\";\n",
    "            if (Math.Abs(X[2] - (-1)) <= 1.0e-8)\n",
    "                return \"wall_top\";\n",
    "            if (Math.Abs(X[2] - (+1)) <= 1.0e-8)\n",
    "                return \"wall_bottom\";\n",
    "            throw new ArgumentException(\"unknown wall\");\n",
    "        });\n",
    "      \n",
    "        g = wmg.SaveGrid(g);  \n",
    "        grids[cnt] = g;\n",
    "    } else {\n",
    "        Console.WriteLine(\"Found Grid: \" + grids[cnt]);\n",
    "        if(grids[cnt].NumberOfCells != J)\n",
    "            throw new Exception(\"J mismatch\");\n",
    "        \n",
    "        if(grids[cnt].SpatialDimension != 3)\n",
    "            throw new Exception(\"D mismatch\");\n",
    "    }\n",
    "}"
   ]
  },
  {
   "cell_type": "code",
   "execution_count": 7,
   "metadata": {
    "dotnet_interactive": {
     "language": "csharp"
    }
   },
   "outputs": [
    {
     "data": {
      "text/plain": [
       "#0: { Guid = f2bd9c43-98d0-46d3-9a5f-26e0f749835e; Name = LinslvPerf_XdgStokes_J512; Cell Count = 512; Dim = 3 }\r\n",
       "#1: { Guid = fe686703-5eeb-48e4-a56d-cceffa806d9f; Name = LinslvPerf_XdgStokes_J4096; Cell Count = 4096; Dim = 3 }\r\n",
       "#2: { Guid = dfcd0a72-8e64-4edc-ba3d-ab7ab0181457; Name = LinslvPerf_XdgStokes_J13824; Cell Count = 13824; Dim = 3 }\r\n",
       "#3: { Guid = 68bcb2a5-770d-4fb8-9cfe-d43be11a8ed5; Name = LinslvPerf_XdgStokes_J32768; Cell Count = 32768; Dim = 3 }\r\n",
       "#4: { Guid = 1ea792c9-0abd-4137-b360-496388212de5; Name = LinslvPerf_XdgStokes_J110592; Cell Count = 110592; Dim = 3 }\r\n",
       "#5: { Guid = 70d7ea35-3f7e-44e4-affc-80f3e7d583bd; Name = LinslvPerf_XdgStokes_J262144; Cell Count = 262144; Dim = 3 }\r\n"
      ]
     },
     "execution_count": 7,
     "metadata": {},
     "output_type": "execute_result"
    }
   ],
   "source": [
    "grids"
   ]
  },
  {
   "cell_type": "markdown",
   "metadata": {
    "dotnet_interactive": {
     "language": "csharp"
    }
   },
   "source": [
    "## Setup Control Object for a Solver Run"
   ]
  },
  {
   "cell_type": "code",
   "execution_count": 8,
   "metadata": {
    "dotnet_interactive": {
     "language": "csharp"
    }
   },
   "outputs": [],
   "source": [
    "// - - - - - - - - - - - - - - - - - - -\n",
    "// Initial Values & Boundary conditions\n",
    "// - - - - - - - - - - - - - - - - - - -"
   ]
  },
  {
   "cell_type": "code",
   "execution_count": 9,
   "metadata": {
    "dotnet_interactive": {
     "language": "csharp"
    }
   },
   "outputs": [],
   "source": [
    "using BoSSS.Application.XNSE_Solver;\n",
    "using BoSSS.Solution.LevelSetTools;\n",
    "using BoSSS.Solution.AdvancedSolvers;\n",
    "using BoSSS.Solution.XNSECommon;\n",
    "using BoSSS.Solution.Timestepping;\n",
    "using BoSSS.Solution.XdgTimestepping ;"
   ]
  },
  {
   "cell_type": "markdown",
   "metadata": {
    "dotnet_interactive": {
     "language": "csharp"
    }
   },
   "source": [
    "### Setup of Parameter Study"
   ]
  },
  {
   "cell_type": "markdown",
   "metadata": {},
   "source": [
    "Polynomial degrees to test:"
   ]
  },
  {
   "cell_type": "code",
   "execution_count": 10,
   "metadata": {
    "dotnet_interactive": {
     "language": "csharp"
    }
   },
   "outputs": [],
   "source": [
    "int[] PolyDegS = new int[] {2, 3 ,5};"
   ]
  },
  {
   "cell_type": "markdown",
   "metadata": {},
   "source": [
    "Solvers which we want to instrument:"
   ]
  },
  {
   "cell_type": "code",
   "execution_count": 11,
   "metadata": {
    "dotnet_interactive": {
     "language": "csharp"
    }
   },
   "outputs": [],
   "source": [
    "// Solvers which we want to instrument:\n",
    "LinearSolverCode[] solver_nameS = new LinearSolverCode[] {\n",
    "    LinearSolverCode.classic_pardiso,\n",
    "    LinearSolverCode.exp_gmres_levelpmg,\n",
    "    LinearSolverCode.exp_Kcycle_schwarz,\n",
    "}; "
   ]
  },
  {
   "cell_type": "markdown",
   "metadata": {},
   "source": [
    "Maximum Dof for one calculation (we skip fine grids for higher polynomial orders):"
   ]
  },
  {
   "cell_type": "code",
   "execution_count": 12,
   "metadata": {
    "dotnet_interactive": {
     "language": "csharp"
    }
   },
   "outputs": [],
   "source": [
    "int GetMaxAllowedDOF(LinearSolverCode code) {\n",
    "    switch(code) {\n",
    "        case LinearSolverCode.classic_pardiso:\n",
    "        case LinearSolverCode.classic_mumps:\n",
    "        return 1100000; // 1.1 Million for iterative solvers at maximum\n",
    "    \n",
    "        default: \n",
    "        return 5000000; // Up to 5 Million for iterative solvers\n",
    "    }\n",
    "}"
   ]
  },
  {
   "cell_type": "markdown",
   "metadata": {},
   "source": [
    "Loop over all combinations of parameters and define a control object for each combo:"
   ]
  },
  {
   "cell_type": "code",
   "execution_count": 13,
   "metadata": {
    "dotnet_interactive": {
     "language": "csharp"
    }
   },
   "outputs": [],
   "source": [
    "using BoSSS.Solution.XNSECommon;\n",
    "using BoSSS.Foundation.XDG;"
   ]
  },
  {
   "cell_type": "code",
   "execution_count": 14,
   "metadata": {
    "dotnet_interactive": {
     "language": "csharp"
    }
   },
   "outputs": [
    {
     "name": "stdout",
     "output_type": "stream",
     "text": [
      "setting up: XdgStokes-J512_p2_classic_pardiso\n",
      "setting up: XdgStokes-J4096_p2_classic_pardiso\n",
      "setting up: XdgStokes-J13824_p2_classic_pardiso\n",
      "setting up: XdgStokes-J512_p3_classic_pardiso\n",
      "setting up: XdgStokes-J4096_p3_classic_pardiso\n",
      "setting up: XdgStokes-J13824_p3_classic_pardiso\n",
      "setting up: XdgStokes-J512_p5_classic_pardiso\n",
      "setting up: XdgStokes-J4096_p5_classic_pardiso\n",
      "setting up: XdgStokes-J512_p2_exp_gmres_levelpmg\n",
      "setting up: XdgStokes-J4096_p2_exp_gmres_levelpmg\n",
      "setting up: XdgStokes-J13824_p2_exp_gmres_levelpmg\n",
      "setting up: XdgStokes-J32768_p2_exp_gmres_levelpmg\n",
      "setting up: XdgStokes-J110592_p2_exp_gmres_levelpmg\n",
      "setting up: XdgStokes-J512_p3_exp_gmres_levelpmg\n",
      "setting up: XdgStokes-J4096_p3_exp_gmres_levelpmg\n",
      "setting up: XdgStokes-J13824_p3_exp_gmres_levelpmg\n",
      "setting up: XdgStokes-J32768_p3_exp_gmres_levelpmg\n",
      "setting up: XdgStokes-J512_p5_exp_gmres_levelpmg\n",
      "setting up: XdgStokes-J4096_p5_exp_gmres_levelpmg\n",
      "setting up: XdgStokes-J13824_p5_exp_gmres_levelpmg\n",
      "setting up: XdgStokes-J512_p2_exp_Kcycle_schwarz\n",
      "setting up: XdgStokes-J4096_p2_exp_Kcycle_schwarz\n",
      "setting up: XdgStokes-J13824_p2_exp_Kcycle_schwarz\n",
      "setting up: XdgStokes-J32768_p2_exp_Kcycle_schwarz\n",
      "setting up: XdgStokes-J110592_p2_exp_Kcycle_schwarz\n",
      "setting up: XdgStokes-J512_p3_exp_Kcycle_schwarz\n",
      "setting up: XdgStokes-J4096_p3_exp_Kcycle_schwarz\n",
      "setting up: XdgStokes-J13824_p3_exp_Kcycle_schwarz\n",
      "setting up: XdgStokes-J32768_p3_exp_Kcycle_schwarz\n",
      "setting up: XdgStokes-J512_p5_exp_Kcycle_schwarz\n",
      "setting up: XdgStokes-J4096_p5_exp_Kcycle_schwarz\n",
      "setting up: XdgStokes-J13824_p5_exp_Kcycle_schwarz\n"
     ]
    }
   ],
   "source": [
    "List<XNSE_Control> controls = new List<XNSE_Control>();\n",
    "controls.Clear();\n",
    "foreach(LinearSolverCode solver in solver_nameS) {\n",
    "foreach(int k in PolyDegS) {\n",
    "foreach(IGridInfo grd in grids) {\n",
    "\n",
    "    int Np_V = Utils.Np(k);\n",
    "    int Np_p = Utils.Np(k-1);\n",
    "    int J    = grd.NumberOfCells;\n",
    "    int DOF  = Np_V*3 + Np_p;\n",
    "    if(J*DOF >  GetMaxAllowedDOF(solver))\n",
    "        continue;\n",
    "    \n",
    "    // Control Instance, grid, DG degree, etc.\n",
    "    // =======================================\n",
    "    \n",
    "    XNSE_Control C = new XNSE_Control();\n",
    "    controls.Add(C);\n",
    "       \n",
    "    string caseName = string.Format(\"XdgStokes-J{0}_p{1}_{2}\", J, k, solver);\n",
    "    Console.WriteLine(\"setting up: \" + caseName);\n",
    "    C.SessionName        = caseName;\n",
    "    \n",
    "    C.SetGrid(grd);\n",
    "    C.savetodb = true;\n",
    "    C.SetDGdegree(k);\n",
    "    \n",
    "    // Phys. Parameters\n",
    "    // ================\n",
    "    \n",
    "    // Species A: Water; Species B: Air\n",
    "    C.PhysicalParameters.rho_A             = 1e-3; //     kg / cm³\n",
    "    C.PhysicalParameters.rho_B             = 1.2e-6; //   kg / cm³\n",
    "    C.PhysicalParameters.mu_A              = 1e-5; //      kg / cm / sec\n",
    "    C.PhysicalParameters.mu_B              = 17.1e-8; //   kg / cm / sec\n",
    "    C.PhysicalParameters.Sigma             = 72.75e-3; // kg / sec²   \n",
    "    C.PhysicalParameters.IncludeConvection = false;\n",
    "    C.PhysicalParameters.Material          = true;\n",
    "    \n",
    "    // Dont know\n",
    "    // ============\n",
    "    \n",
    "    double r     = 0.5;\n",
    "    double nonsp = 0.5;\n",
    "\n",
    "    C.AddInitialValue(\"Phi\", new Formula($\"X => (X[0]/{r*nonsp}).Pow2() + (X[1]/{r}).Pow2() + (X[2]/{r}).Pow2() - 1\", false));\n",
    "    \n",
    "    C.LSContiProjectionMethod = BoSSS.Solution.LevelSetTools.ContinuityProjectionOption.None;\n",
    "    //C.CutCellQuadratureType   = BoSSS.Foundation.XDG.XQuadFactoryHelper.MomentFittingVariants.Saye;\n",
    "    C.ComputeEnergyProperties = false;\n",
    "\n",
    "    \n",
    "    // Solver Stuff\n",
    "    // ============\n",
    "    \n",
    "    C.VelocityBlockPrecondMode         = MultigridOperator.Mode.SymPart_DiagBlockEquilib;\n",
    "    \n",
    "    C.LinearSolver.SolverCode           = solver;\n",
    "    C.LinearSolver.ConvergenceCriterion = 1e-8;\n",
    "    C.LevelSet_ConvergenceCriterion     = 1e-6;\n",
    "\n",
    "    //C.Option_LevelSetEvolution                          = LevelSetEvolution.FastMarching;\n",
    "    C.AdvancedDiscretizationOptions.SST_isotropicMode   = SurfaceStressTensor_IsotropicMode.Curvature_Projected;\n",
    "    //C.AdvancedDiscretizationOptions.ViscosityMode       = ViscosityMode.Standard;\n",
    "    C.AdvancedDiscretizationOptions.FilterConfiguration = CurvatureAlgorithms.FilterConfiguration.NoFilter;\n",
    "\n",
    "    // Timestepping / Instationary\n",
    "    // ===========================\n",
    "\n",
    "    C.TimesteppingMode             = AppControl._TimesteppingMode.Steady;\n",
    "}\n",
    "}\n",
    "}"
   ]
  },
  {
   "cell_type": "markdown",
   "metadata": {},
   "source": [
    "Total number of simulations:"
   ]
  },
  {
   "cell_type": "code",
   "execution_count": 15,
   "metadata": {},
   "outputs": [
    {
     "data": {
      "text/html": [
       "<div class=\"dni-plaintext\">32</div>"
      ]
     },
     "execution_count": 15,
     "metadata": {},
     "output_type": "execute_result"
    }
   ],
   "source": [
    "controls.Count"
   ]
  },
  {
   "cell_type": "code",
   "execution_count": 44,
   "metadata": {},
   "outputs": [
    {
     "data": {
      "text/html": [
       "<table><thead><tr><th>verbose</th><th>SolverCode</th><th>MaxKrylovDim</th><th>MaxSolverIterations</th><th>MinSolverIterations</th><th>ConvergenceCriterion</th><th>NoOfMultigridLevels</th><th>SolverMode</th><th>exp_localPrec_muA</th><th>exp_localPrec_Min_dt</th><th>TargetBlockSize</th><th>pMaxOfCoarseSolver</th><th>UsePMGonly</th></tr></thead><tbody><tr><td><div class=\"dni-plaintext\">False</div></td><td><div class=\"dni-plaintext\">classic_mumps</div></td><td><div class=\"dni-plaintext\">100</div></td><td><div class=\"dni-plaintext\">2000</div></td><td><div class=\"dni-plaintext\">4</div></td><td><div class=\"dni-plaintext\">1E-10</div></td><td><div class=\"dni-plaintext\">1</div></td><td><div class=\"dni-plaintext\">Solve</div></td><td><div class=\"dni-plaintext\">1</div></td><td><div class=\"dni-plaintext\">0</div></td><td><div class=\"dni-plaintext\">10000</div></td><td><div class=\"dni-plaintext\">1</div></td><td><div class=\"dni-plaintext\">False</div></td></tr></tbody></table>"
      ]
     },
     "execution_count": 44,
     "metadata": {},
     "output_type": "execute_result"
    }
   ],
   "source": [
    "(new XNSE_Control()).LinearSolver"
   ]
  },
  {
   "cell_type": "code",
   "execution_count": 16,
   "metadata": {},
   "outputs": [],
   "source": [
    "// Assert that the location of the fluid phases is as desired:\n",
    "NUnit.Framework.Assert.Negative(controls[0].InitialValues[\"Phi\"].Evaluate(new double[]{0,0.0,0}, 0.0), \"phase A (negative) must be inside\");\n",
    "NUnit.Framework.Assert.Positive(controls[0].InitialValues[\"Phi\"].Evaluate(new double[]{0,4.0,0}, 0.0), \"phase B (positive) must be inside\");"
   ]
  },
  {
   "cell_type": "code",
   "execution_count": null,
   "metadata": {},
   "outputs": [],
   "source": []
  },
  {
   "cell_type": "markdown",
   "metadata": {
    "dotnet_interactive": {
     "language": "csharp"
    }
   },
   "source": [
    "## Launch Jobs"
   ]
  },
  {
   "cell_type": "code",
   "execution_count": 17,
   "metadata": {
    "dotnet_interactive": {
     "language": "csharp"
    }
   },
   "outputs": [
    {
     "name": "stdout",
     "output_type": "stream",
     "text": [
      " Submitting: XdgStokes-J512_p2_classic_pardiso\n",
      "Info: Found successful session \"LinslvPerf_XdgStokes\tXdgStokes-J512_p2_classic_pardiso\t11/11/2021 10:17:18\t590d8589...\" -- job is marked as successful, no further action.\n",
      "No submission, because job status is: FinishedSuccessful\n",
      " Submitting: XdgStokes-J4096_p2_classic_pardiso\n",
      "Info: Found successful session \"LinslvPerf_XdgStokes\tXdgStokes-J4096_p2_classic_pardiso\t11/11/2021 10:17:31\t1daae1c4...\" -- job is marked as successful, no further action.\n",
      "No submission, because job status is: FinishedSuccessful\n",
      " Submitting: XdgStokes-J13824_p2_classic_pardiso\n",
      "Info: Found successful session \"LinslvPerf_XdgStokes\tXdgStokes-J13824_p2_classic_pardiso\t11/11/2021 10:17:45\tfd18b34a...\" -- job is marked as successful, no further action.\n",
      "No submission, because job status is: FinishedSuccessful\n",
      " Submitting: XdgStokes-J512_p3_classic_pardiso\n",
      "Info: Found successful session \"LinslvPerf_XdgStokes\tXdgStokes-J512_p3_classic_pardiso\t11/11/2021 10:17:56\t0500cbb1...\" -- job is marked as successful, no further action.\n",
      "No submission, because job status is: FinishedSuccessful\n",
      " Submitting: XdgStokes-J4096_p3_classic_pardiso\n",
      "Info: Found successful session \"LinslvPerf_XdgStokes\tXdgStokes-J4096_p3_classic_pardiso\t11/11/2021 10:18:09\t2b23e82c...\" -- job is marked as successful, no further action.\n",
      "No submission, because job status is: FinishedSuccessful\n",
      " Submitting: XdgStokes-J13824_p3_classic_pardiso\n",
      "Note: Job was deployed (1) number of times, all failed.\n",
      "Hint: want to re-activate the job.\n",
      "No submission, because job status is: FailedOrCanceled\n",
      " Submitting: XdgStokes-J512_p5_classic_pardiso\n",
      "Info: Found successful session \"LinslvPerf_XdgStokes\tXdgStokes-J512_p5_classic_pardiso\t11/11/2021 10:18:34\tc294cdf2...\" -- job is marked as successful, no further action.\n",
      "No submission, because job status is: FinishedSuccessful\n",
      " Submitting: XdgStokes-J4096_p5_classic_pardiso\n",
      "Note: Job was deployed (1) number of times, all failed.\n",
      "Hint: want to re-activate the job.\n",
      "No submission, because job status is: FailedOrCanceled\n",
      " Submitting: XdgStokes-J512_p2_exp_gmres_levelpmg\n",
      "Info: Found successful session \"LinslvPerf_XdgStokes\tXdgStokes-J512_p2_exp_gmres_levelpmg\t11/11/2021 10:19:01\tff07824b...\" -- job is marked as successful, no further action.\n",
      "No submission, because job status is: FinishedSuccessful\n",
      " Submitting: XdgStokes-J4096_p2_exp_gmres_levelpmg\n",
      "Info: Found successful session \"LinslvPerf_XdgStokes\tXdgStokes-J4096_p2_exp_gmres_levelpmg\t11/11/2021 10:19:15\t10573c3d...\" -- job is marked as successful, no further action.\n",
      "No submission, because job status is: FinishedSuccessful\n",
      " Submitting: XdgStokes-J13824_p2_exp_gmres_levelpmg\n",
      "Note: Job was deployed (1) number of times, all failed.\n",
      "Hint: want to re-activate the job.\n",
      "No submission, because job status is: FailedOrCanceled\n",
      " Submitting: XdgStokes-J32768_p2_exp_gmres_levelpmg\n",
      "Info: Found successful session \"LinslvPerf_XdgStokes\tXdgStokes-J32768_p2_exp_gmres_levelpmg\t11/11/2021 10:19:44\tde764dde...\" -- job is marked as successful, no further action.\n",
      "No submission, because job status is: FinishedSuccessful\n",
      " Submitting: XdgStokes-J110592_p2_exp_gmres_levelpmg\n",
      "Info: Found successful session \"LinslvPerf_XdgStokes\tXdgStokes-J110592_p2_exp_gmres_levelpmg\t11/11/2021 18:12:42\t9f289d1e...\" -- job is marked as successful, no further action.\n",
      "No submission, because job status is: FinishedSuccessful\n",
      " Submitting: XdgStokes-J512_p3_exp_gmres_levelpmg\n",
      "Info: Found successful session \"LinslvPerf_XdgStokes\tXdgStokes-J512_p3_exp_gmres_levelpmg\t11/11/2021 10:20:10\t33ed1fe6...\" -- job is marked as successful, no further action.\n",
      "No submission, because job status is: FinishedSuccessful\n",
      " Submitting: XdgStokes-J4096_p3_exp_gmres_levelpmg\n",
      "Info: Found successful session \"LinslvPerf_XdgStokes\tXdgStokes-J4096_p3_exp_gmres_levelpmg\t11/11/2021 10:20:21\t23b996fb...\" -- job is marked as successful, no further action.\n",
      "No submission, because job status is: FinishedSuccessful\n",
      " Submitting: XdgStokes-J13824_p3_exp_gmres_levelpmg\n",
      "Info: Found successful session \"LinslvPerf_XdgStokes\tXdgStokes-J13824_p3_exp_gmres_levelpmg\t11/11/2021 10:20:38\t630aead5...\" -- job is marked as successful, no further action.\n",
      "No submission, because job status is: FinishedSuccessful\n",
      " Submitting: XdgStokes-J32768_p3_exp_gmres_levelpmg\n",
      "Info: Found successful session \"LinslvPerf_XdgStokes\tXdgStokes-J32768_p3_exp_gmres_levelpmg\t11/11/2021 10:20:52\t4714a39b...\" -- job is marked as successful, no further action.\n",
      "No submission, because job status is: FinishedSuccessful\n",
      " Submitting: XdgStokes-J512_p5_exp_gmres_levelpmg\n",
      "Info: Found successful session \"LinslvPerf_XdgStokes\tXdgStokes-J512_p5_exp_gmres_levelpmg\t11/11/2021 10:21:08\tfdc4ee6c...\" -- job is marked as successful, no further action.\n",
      "No submission, because job status is: FinishedSuccessful\n",
      " Submitting: XdgStokes-J4096_p5_exp_gmres_levelpmg\n",
      "Info: Found successful session \"LinslvPerf_XdgStokes\tXdgStokes-J4096_p5_exp_gmres_levelpmg\t11/11/2021 10:21:24\t81c82c15...\" -- job is marked as successful, no further action.\n",
      "No submission, because job status is: FinishedSuccessful\n",
      " Submitting: XdgStokes-J13824_p5_exp_gmres_levelpmg\n",
      " ------------ MSHPC FailedOrCanceled; original Failed\n",
      "Note: Job was deployed (1) number of times, all failed.\n",
      "Hint: want to re-activate the job.\n",
      "No submission, because job status is: FailedOrCanceled\n",
      " Submitting: XdgStokes-J512_p2_exp_Kcycle_schwarz\n",
      "Info: Found successful session \"LinslvPerf_XdgStokes\tXdgStokes-J512_p2_exp_Kcycle_schwarz\t11/11/2021 10:21:52\tcaec4155...\" -- job is marked as successful, no further action.\n",
      "No submission, because job status is: FinishedSuccessful\n",
      " Submitting: XdgStokes-J4096_p2_exp_Kcycle_schwarz\n",
      "Info: Found successful session \"LinslvPerf_XdgStokes\tXdgStokes-J4096_p2_exp_Kcycle_schwarz\t11/11/2021 10:22:10\t221f5f64...\" -- job is marked as successful, no further action.\n",
      "No submission, because job status is: FinishedSuccessful\n",
      " Submitting: XdgStokes-J13824_p2_exp_Kcycle_schwarz\n",
      "Info: Found successful session \"LinslvPerf_XdgStokes\tXdgStokes-J13824_p2_exp_Kcycle_schwarz\t11/11/2021 10:22:27\t54d85875...\" -- job is marked as successful, no further action.\n",
      "No submission, because job status is: FinishedSuccessful\n",
      " Submitting: XdgStokes-J32768_p2_exp_Kcycle_schwarz\n",
      "Info: Found successful session \"LinslvPerf_XdgStokes\tXdgStokes-J32768_p2_exp_Kcycle_schwarz\t11/11/2021 10:22:45\t0e5f41a4...\" -- job is marked as successful, no further action.\n",
      "No submission, because job status is: FinishedSuccessful\n",
      " Submitting: XdgStokes-J110592_p2_exp_Kcycle_schwarz\n",
      " ------------ MSHPC FailedOrCanceled; original Failed\n",
      "Note: Job was deployed (1) number of times, all failed.\n",
      "Hint: want to re-activate the job.\n",
      "No submission, because job status is: FailedOrCanceled\n",
      " Submitting: XdgStokes-J512_p3_exp_Kcycle_schwarz\n",
      "Info: Found successful session \"LinslvPerf_XdgStokes\tXdgStokes-J512_p3_exp_Kcycle_schwarz\t11/11/2021 10:23:19\tce3623dc...\" -- job is marked as successful, no further action.\n",
      "No submission, because job status is: FinishedSuccessful\n",
      " Submitting: XdgStokes-J4096_p3_exp_Kcycle_schwarz\n",
      "Info: Found successful session \"LinslvPerf_XdgStokes\tXdgStokes-J4096_p3_exp_Kcycle_schwarz\t11/11/2021 10:23:38\t13191495...\" -- job is marked as successful, no further action.\n",
      "No submission, because job status is: FinishedSuccessful\n",
      " Submitting: XdgStokes-J13824_p3_exp_Kcycle_schwarz\n",
      " ------------ MSHPC FailedOrCanceled; original Failed\n",
      "Note: Job was deployed (1) number of times, all failed.\n",
      "Hint: want to re-activate the job.\n",
      "No submission, because job status is: FailedOrCanceled\n",
      " Submitting: XdgStokes-J32768_p3_exp_Kcycle_schwarz\n",
      " ------------ MSHPC FailedOrCanceled; original Failed\n",
      "Note: Job was deployed (1) number of times, all failed.\n",
      "Hint: want to re-activate the job.\n",
      "No submission, because job status is: FailedOrCanceled\n",
      " Submitting: XdgStokes-J512_p5_exp_Kcycle_schwarz\n",
      "Info: Found successful session \"LinslvPerf_XdgStokes\tXdgStokes-J512_p5_exp_Kcycle_schwarz\t11/11/2021 10:24:32\td175a4ca...\" -- job is marked as successful, no further action.\n",
      "No submission, because job status is: FinishedSuccessful\n",
      " Submitting: XdgStokes-J4096_p5_exp_Kcycle_schwarz\n",
      " ------------ MSHPC FailedOrCanceled; original Failed\n",
      "Note: Job was deployed (1) number of times, all failed.\n"
     ]
    },
    {
     "name": "stdout",
     "output_type": "stream",
     "text": [
      "Hint: want to re-activate the job.\n",
      "No submission, because job status is: FailedOrCanceled\n",
      " Submitting: XdgStokes-J13824_p5_exp_Kcycle_schwarz\n",
      " ------------ MSHPC FailedOrCanceled; original Failed\n",
      "Note: Job was deployed (1) number of times, all failed.\n",
      "Hint: want to re-activate the job.\n",
      "No submission, because job status is: FailedOrCanceled\n"
     ]
    }
   ],
   "source": [
    "foreach(var ctrl in controls) {\n",
    "    Console.WriteLine(\" Submitting: \" + ctrl.SessionName); \n",
    "    ctrl.RunBatch(myBatch);\n",
    "}"
   ]
  },
  {
   "cell_type": "markdown",
   "metadata": {},
   "source": [
    "### Wait for Completion and Check Job Status"
   ]
  },
  {
   "cell_type": "code",
   "execution_count": 18,
   "metadata": {},
   "outputs": [
    {
     "name": "stdout",
     "output_type": "stream",
     "text": [
      "All jobs finished.\r\n"
     ]
    }
   ],
   "source": [
    "wmg.BlockUntilAllJobsTerminate(3600*24*2); // wait at maximum two days for the jobs to finish"
   ]
  },
  {
   "cell_type": "code",
   "execution_count": 19,
   "metadata": {},
   "outputs": [
    {
     "data": {
      "text/plain": [
       "#0: XdgStokes-J512_p2_classic_pardiso: FinishedSuccessful (MS HPC client  MSHPC-AllNodes @DC2, @\\\\fdygitrunner\\ValidationTests)\tXdgStokes-J512_p2_classic_pardiso: FinishedSuccessful (MS HPC client  MSHPC-AllNodes @DC2, @\\\\fdygitrunner\\ValidationTests)\r\n",
       "#1: XdgStokes-J4096_p2_classic_pardiso: FinishedSuccessful (MS HPC client  MSHPC-AllNodes @DC2, @\\\\fdygitrunner\\ValidationTests)\tXdgStokes-J4096_p2_classic_pardiso: FinishedSuccessful (MS HPC client  MSHPC-AllNodes @DC2, @\\\\fdygitrunner\\ValidationTests)\r\n",
       "#2: XdgStokes-J13824_p2_classic_pardiso: FinishedSuccessful (MS HPC client  MSHPC-AllNodes @DC2, @\\\\fdygitrunner\\ValidationTests)\tXdgStokes-J13824_p2_classic_pardiso: FinishedSuccessful (MS HPC client  MSHPC-AllNodes @DC2, @\\\\fdygitrunner\\ValidationTests)\r\n",
       "#3: XdgStokes-J512_p3_classic_pardiso: FinishedSuccessful (MS HPC client  MSHPC-AllNodes @DC2, @\\\\fdygitrunner\\ValidationTests)\tXdgStokes-J512_p3_classic_pardiso: FinishedSuccessful (MS HPC client  MSHPC-AllNodes @DC2, @\\\\fdygitrunner\\ValidationTests)\r\n",
       "#4: XdgStokes-J4096_p3_classic_pardiso: FinishedSuccessful (MS HPC client  MSHPC-AllNodes @DC2, @\\\\fdygitrunner\\ValidationTests)\tXdgStokes-J4096_p3_classic_pardiso: FinishedSuccessful (MS HPC client  MSHPC-AllNodes @DC2, @\\\\fdygitrunner\\ValidationTests)\r\n",
       "#5: XdgStokes-J13824_p3_classic_pardiso: FailedOrCanceled (MS HPC client  MSHPC-AllNodes @DC2, @\\\\fdygitrunner\\ValidationTests)\tXdgStokes-J13824_p3_classic_pardiso: FailedOrCanceled (MS HPC client  MSHPC-AllNodes @DC2, @\\\\fdygitrunner\\ValidationTests)\r\n",
       "#6: XdgStokes-J512_p5_classic_pardiso: FinishedSuccessful (MS HPC client  MSHPC-AllNodes @DC2, @\\\\fdygitrunner\\ValidationTests)\tXdgStokes-J512_p5_classic_pardiso: FinishedSuccessful (MS HPC client  MSHPC-AllNodes @DC2, @\\\\fdygitrunner\\ValidationTests)\r\n",
       "#7: XdgStokes-J4096_p5_classic_pardiso: FailedOrCanceled (MS HPC client  MSHPC-AllNodes @DC2, @\\\\fdygitrunner\\ValidationTests)\tXdgStokes-J4096_p5_classic_pardiso: FailedOrCanceled (MS HPC client  MSHPC-AllNodes @DC2, @\\\\fdygitrunner\\ValidationTests)\r\n",
       "#8: XdgStokes-J512_p2_exp_gmres_levelpmg: FinishedSuccessful (MS HPC client  MSHPC-AllNodes @DC2, @\\\\fdygitrunner\\ValidationTests)\tXdgStokes-J512_p2_exp_gmres_levelpmg: FinishedSuccessful (MS HPC client  MSHPC-AllNodes @DC2, @\\\\fdygitrunner\\ValidationTests)\r\n",
       "#9: XdgStokes-J4096_p2_exp_gmres_levelpmg: FinishedSuccessful (MS HPC client  MSHPC-AllNodes @DC2, @\\\\fdygitrunner\\ValidationTests)\tXdgStokes-J4096_p2_exp_gmres_levelpmg: FinishedSuccessful (MS HPC client  MSHPC-AllNodes @DC2, @\\\\fdygitrunner\\ValidationTests)\r\n",
       "#10: XdgStokes-J13824_p2_exp_gmres_levelpmg: FailedOrCanceled (MS HPC client  MSHPC-AllNodes @DC2, @\\\\fdygitrunner\\ValidationTests)\tXdgStokes-J13824_p2_exp_gmres_levelpmg: FailedOrCanceled (MS HPC client  MSHPC-AllNodes @DC2, @\\\\fdygitrunner\\ValidationTests)\r\n",
       "#11: XdgStokes-J32768_p2_exp_gmres_levelpmg: FinishedSuccessful (MS HPC client  MSHPC-AllNodes @DC2, @\\\\fdygitrunner\\ValidationTests)\tXdgStokes-J32768_p2_exp_gmres_levelpmg: FinishedSuccessful (MS HPC client  MSHPC-AllNodes @DC2, @\\\\fdygitrunner\\ValidationTests)\r\n",
       "#12: XdgStokes-J110592_p2_exp_gmres_levelpmg: FinishedSuccessful (MS HPC client  MSHPC-AllNodes @DC2, @\\\\fdygitrunner\\ValidationTests)\tXdgStokes-J110592_p2_exp_gmres_levelpmg: FinishedSuccessful (MS HPC client  MSHPC-AllNodes @DC2, @\\\\fdygitrunner\\ValidationTests)\r\n",
       "#13: XdgStokes-J512_p3_exp_gmres_levelpmg: FinishedSuccessful (MS HPC client  MSHPC-AllNodes @DC2, @\\\\fdygitrunner\\ValidationTests)\tXdgStokes-J512_p3_exp_gmres_levelpmg: FinishedSuccessful (MS HPC client  MSHPC-AllNodes @DC2, @\\\\fdygitrunner\\ValidationTests)\r\n",
       "#14: XdgStokes-J4096_p3_exp_gmres_levelpmg: FinishedSuccessful (MS HPC client  MSHPC-AllNodes @DC2, @\\\\fdygitrunner\\ValidationTests)\tXdgStokes-J4096_p3_exp_gmres_levelpmg: FinishedSuccessful (MS HPC client  MSHPC-AllNodes @DC2, @\\\\fdygitrunner\\ValidationTests)\r\n",
       "#15: XdgStokes-J13824_p3_exp_gmres_levelpmg: FinishedSuccessful (MS HPC client  MSHPC-AllNodes @DC2, @\\\\fdygitrunner\\ValidationTests)\tXdgStokes-J13824_p3_exp_gmres_levelpmg: FinishedSuccessful (MS HPC client  MSHPC-AllNodes @DC2, @\\\\fdygitrunner\\ValidationTests)\r\n",
       "#16: XdgStokes-J32768_p3_exp_gmres_levelpmg: FinishedSuccessful (MS HPC client  MSHPC-AllNodes @DC2, @\\\\fdygitrunner\\ValidationTests)\tXdgStokes-J32768_p3_exp_gmres_levelpmg: FinishedSuccessful (MS HPC client  MSHPC-AllNodes @DC2, @\\\\fdygitrunner\\ValidationTests)\r\n",
       "#17: XdgStokes-J512_p5_exp_gmres_levelpmg: FinishedSuccessful (MS HPC client  MSHPC-AllNodes @DC2, @\\\\fdygitrunner\\ValidationTests)\tXdgStokes-J512_p5_exp_gmres_levelpmg: FinishedSuccessful (MS HPC client  MSHPC-AllNodes @DC2, @\\\\fdygitrunner\\ValidationTests)\r\n",
       "#18: XdgStokes-J4096_p5_exp_gmres_levelpmg: FinishedSuccessful (MS HPC client  MSHPC-AllNodes @DC2, @\\\\fdygitrunner\\ValidationTests)\tXdgStokes-J4096_p5_exp_gmres_levelpmg: FinishedSuccessful (MS HPC client  MSHPC-AllNodes @DC2, @\\\\fdygitrunner\\ValidationTests)\r\n",
       "#19: XdgStokes-J13824_p5_exp_gmres_levelpmg: FailedOrCanceled (MS HPC client  MSHPC-AllNodes @DC2, @\\\\fdygitrunner\\ValidationTests)\tXdgStokes-J13824_p5_exp_gmres_levelpmg: FailedOrCanceled (MS HPC client  MSHPC-AllNodes @DC2, @\\\\fdygitrunner\\ValidationTests)\r\n",
       "#20: XdgStokes-J512_p2_exp_Kcycle_schwarz: FinishedSuccessful (MS HPC client  MSHPC-AllNodes @DC2, @\\\\fdygitrunner\\ValidationTests)\tXdgStokes-J512_p2_exp_Kcycle_schwarz: FinishedSuccessful (MS HPC client  MSHPC-AllNodes @DC2, @\\\\fdygitrunner\\ValidationTests)\r\n",
       "#21: XdgStokes-J4096_p2_exp_Kcycle_schwarz: FinishedSuccessful (MS HPC client  MSHPC-AllNodes @DC2, @\\\\fdygitrunner\\ValidationTests)\tXdgStokes-J4096_p2_exp_Kcycle_schwarz: FinishedSuccessful (MS HPC client  MSHPC-AllNodes @DC2, @\\\\fdygitrunner\\ValidationTests)\r\n",
       "#22: XdgStokes-J13824_p2_exp_Kcycle_schwarz: FinishedSuccessful (MS HPC client  MSHPC-AllNodes @DC2, @\\\\fdygitrunner\\ValidationTests)\tXdgStokes-J13824_p2_exp_Kcycle_schwarz: FinishedSuccessful (MS HPC client  MSHPC-AllNodes @DC2, @\\\\fdygitrunner\\ValidationTests)\r\n",
       "#23: XdgStokes-J32768_p2_exp_Kcycle_schwarz: FinishedSuccessful (MS HPC client  MSHPC-AllNodes @DC2, @\\\\fdygitrunner\\ValidationTests)\tXdgStokes-J32768_p2_exp_Kcycle_schwarz: FinishedSuccessful (MS HPC client  MSHPC-AllNodes @DC2, @\\\\fdygitrunner\\ValidationTests)\r\n",
       "#24: XdgStokes-J110592_p2_exp_Kcycle_schwarz: FailedOrCanceled (MS HPC client  MSHPC-AllNodes @DC2, @\\\\fdygitrunner\\ValidationTests)\tXdgStokes-J110592_p2_exp_Kcycle_schwarz: FailedOrCanceled (MS HPC client  MSHPC-AllNodes @DC2, @\\\\fdygitrunner\\ValidationTests)\r\n",
       "#25: XdgStokes-J512_p3_exp_Kcycle_schwarz: FinishedSuccessful (MS HPC client  MSHPC-AllNodes @DC2, @\\\\fdygitrunner\\ValidationTests)\tXdgStokes-J512_p3_exp_Kcycle_schwarz: FinishedSuccessful (MS HPC client  MSHPC-AllNodes @DC2, @\\\\fdygitrunner\\ValidationTests)\r\n",
       "#26: XdgStokes-J4096_p3_exp_Kcycle_schwarz: FinishedSuccessful (MS HPC client  MSHPC-AllNodes @DC2, @\\\\fdygitrunner\\ValidationTests)\tXdgStokes-J4096_p3_exp_Kcycle_schwarz: FinishedSuccessful (MS HPC client  MSHPC-AllNodes @DC2, @\\\\fdygitrunner\\ValidationTests)\r\n",
       "#27: XdgStokes-J13824_p3_exp_Kcycle_schwarz: FailedOrCanceled (MS HPC client  MSHPC-AllNodes @DC2, @\\\\fdygitrunner\\ValidationTests)\tXdgStokes-J13824_p3_exp_Kcycle_schwarz: FailedOrCanceled (MS HPC client  MSHPC-AllNodes @DC2, @\\\\fdygitrunner\\ValidationTests)\r\n",
       "#28: XdgStokes-J32768_p3_exp_Kcycle_schwarz: FailedOrCanceled (MS HPC client  MSHPC-AllNodes @DC2, @\\\\fdygitrunner\\ValidationTests)\tXdgStokes-J32768_p3_exp_Kcycle_schwarz: FailedOrCanceled (MS HPC client  MSHPC-AllNodes @DC2, @\\\\fdygitrunner\\ValidationTests)\r\n",
       "#29: XdgStokes-J512_p5_exp_Kcycle_schwarz: FinishedSuccessful (MS HPC client  MSHPC-AllNodes @DC2, @\\\\fdygitrunner\\ValidationTests)\tXdgStokes-J512_p5_exp_Kcycle_schwarz: FinishedSuccessful (MS HPC client  MSHPC-AllNodes @DC2, @\\\\fdygitrunner\\ValidationTests)\r\n",
       "#30: XdgStokes-J4096_p5_exp_Kcycle_schwarz: FailedOrCanceled (MS HPC client  MSHPC-AllNodes @DC2, @\\\\fdygitrunner\\ValidationTests)\tXdgStokes-J4096_p5_exp_Kcycle_schwarz: FailedOrCanceled (MS HPC client  MSHPC-AllNodes @DC2, @\\\\fdygitrunner\\ValidationTests)\r\n",
       "#31: XdgStokes-J13824_p5_exp_Kcycle_schwarz: FailedOrCanceled (MS HPC client  MSHPC-AllNodes @DC2, @\\\\fdygitrunner\\ValidationTests)\tXdgStokes-J13824_p5_exp_Kcycle_schwarz: FailedOrCanceled (MS HPC client  MSHPC-AllNodes @DC2, @\\\\fdygitrunner\\ValidationTests)\r\n"
      ]
     },
     "execution_count": 19,
     "metadata": {},
     "output_type": "execute_result"
    }
   ],
   "source": [
    "wmg.AllJobs"
   ]
  },
  {
   "cell_type": "code",
   "execution_count": 36,
   "metadata": {},
   "outputs": [
    {
     "data": {
      "text/plain": [
       "#0: LinslvPerf_XdgStokes\tXdgStokes-J4096_p5_classic_pardiso*\t11/12/2021 05:39:35\t4319da29...\r\n",
       "#1: LinslvPerf_XdgStokes\tXdgStokes-J110592_p2_exp_gmres_levelpmg\t11/11/2021 18:12:42\t9f289d1e...\r\n",
       "#2: LinslvPerf_XdgStokes\tXdgStokes-J32768_p2_exp_Kcycle_schwarz\t11/11/2021 10:22:45\t0e5f41a4...\r\n",
       "#3: LinslvPerf_XdgStokes\tXdgStokes-J32768_p3_exp_gmres_levelpmg\t11/11/2021 10:20:52\t4714a39b...\r\n",
       "#4: LinslvPerf_XdgStokes\tXdgStokes-J4096_p5_exp_gmres_levelpmg\t11/11/2021 10:21:24\t81c82c15...\r\n",
       "#5: LinslvPerf_XdgStokes\tXdgStokes-J13824_p3_exp_gmres_levelpmg\t11/11/2021 10:20:38\t630aead5...\r\n",
       "#6: LinslvPerf_XdgStokes\tXdgStokes-J32768_p2_exp_gmres_levelpmg\t11/11/2021 10:19:44\tde764dde...\r\n",
       "#7: LinslvPerf_XdgStokes\tXdgStokes-J13824_p2_classic_pardiso\t11/11/2021 10:17:45\tfd18b34a...\r\n",
       "#8: LinslvPerf_XdgStokes\tXdgStokes-J4096_p3_exp_Kcycle_schwarz\t11/11/2021 10:23:38\t13191495...\r\n",
       "#9: LinslvPerf_XdgStokes\tXdgStokes-J13824_p2_exp_Kcycle_schwarz\t11/11/2021 10:22:27\t54d85875...\r\n",
       "#10: LinslvPerf_XdgStokes\tXdgStokes-J4096_p3_exp_gmres_levelpmg\t11/11/2021 10:20:21\t23b996fb...\r\n",
       "#11: LinslvPerf_XdgStokes\tXdgStokes-J512_p5_exp_gmres_levelpmg\t11/11/2021 10:21:08\tfdc4ee6c...\r\n",
       "#12: LinslvPerf_XdgStokes\tXdgStokes-J4096_p3_classic_pardiso\t11/11/2021 10:18:09\t2b23e82c...\r\n",
       "#13: LinslvPerf_XdgStokes\tXdgStokes-J512_p5_exp_Kcycle_schwarz\t11/11/2021 10:24:32\td175a4ca...\r\n",
       "#14: LinslvPerf_XdgStokes\tXdgStokes-J512_p5_classic_pardiso\t11/11/2021 10:18:34\tc294cdf2...\r\n",
       "#15: LinslvPerf_XdgStokes\tXdgStokes-J4096_p2_exp_gmres_levelpmg\t11/11/2021 10:19:15\t10573c3d...\r\n",
       "#16: LinslvPerf_XdgStokes\tXdgStokes-J4096_p2_exp_Kcycle_schwarz\t11/11/2021 10:22:10\t221f5f64...\r\n",
       "#17: LinslvPerf_XdgStokes\tXdgStokes-J110592_p2_exp_Kcycle_schwarz*\t11/11/2021 10:23:00\t7519691b...\r\n",
       "#18: LinslvPerf_XdgStokes\tXdgStokes-J512_p3_exp_gmres_levelpmg\t11/11/2021 10:20:10\t33ed1fe6...\r\n",
       "#19: LinslvPerf_XdgStokes\tXdgStokes-J32768_p3_exp_Kcycle_schwarz*\t11/11/2021 10:24:14\t314c737a...\r\n",
       "#20: LinslvPerf_XdgStokes\tXdgStokes-J13824_p5_exp_Kcycle_schwarz*\t11/11/2021 10:25:06\taad97ce0...\r\n",
       "#21: LinslvPerf_XdgStokes\tXdgStokes-J4096_p2_classic_pardiso\t11/11/2021 10:17:31\t1daae1c4...\r\n",
       "#22: LinslvPerf_XdgStokes\tXdgStokes-J512_p3_exp_Kcycle_schwarz\t11/11/2021 10:23:19\tce3623dc...\r\n",
       "#23: LinslvPerf_XdgStokes\tXdgStokes-J4096_p5_exp_Kcycle_schwarz*\t11/11/2021 10:24:47\t7593ffc2...\r\n",
       "#24: LinslvPerf_XdgStokes\tXdgStokes-J13824_p3_exp_Kcycle_schwarz*\t11/11/2021 10:23:58\te0cbff63...\r\n",
       "#25: LinslvPerf_XdgStokes\tXdgStokes-J110592_p2_exp_gmres_levelpmg*\t11/11/2021 10:19:57\taaa45e54...\r\n",
       "#26: LinslvPerf_XdgStokes\tXdgStokes-J13824_p5_exp_gmres_levelpmg*\t11/11/2021 10:21:38\t0c5867d5...\r\n",
       "#27: LinslvPerf_XdgStokes\tXdgStokes-J512_p2_exp_Kcycle_schwarz\t11/11/2021 10:21:52\tcaec4155...\r\n",
       "#28: LinslvPerf_XdgStokes\tXdgStokes-J512_p2_exp_gmres_levelpmg\t11/11/2021 10:19:01\tff07824b...\r\n",
       "#29: LinslvPerf_XdgStokes\tXdgStokes-J13824_p2_exp_gmres_levelpmg*\t11/11/2021 10:19:32\t464e8d24...\r\n",
       "#30: LinslvPerf_XdgStokes\tXdgStokes-J512_p3_classic_pardiso\t11/11/2021 10:17:56\t0500cbb1...\r\n",
       "#31: LinslvPerf_XdgStokes\tXdgStokes-J13824_p3_classic_pardiso*\t11/11/2021 10:18:23\t8d4759a7...\r\n",
       "#32: LinslvPerf_XdgStokes\tXdgStokes-J4096_p5_classic_pardiso*\t11/11/2021 10:18:44\td025fc40...\r\n",
       "#33: LinslvPerf_XdgStokes\tXdgStokes-J512_p2_classic_pardiso\t11/11/2021 10:17:18\t590d8589...\r\n"
      ]
     },
     "execution_count": 36,
     "metadata": {},
     "output_type": "execute_result"
    }
   ],
   "source": [
    "wmg.Sessions"
   ]
  },
  {
   "cell_type": "code",
   "execution_count": 46,
   "metadata": {},
   "outputs": [],
   "source": [
    "//wmg.Sessions[3].Export().WithSupersampling(2).Do()"
   ]
  },
  {
   "cell_type": "code",
   "execution_count": 21,
   "metadata": {},
   "outputs": [
    {
     "data": {
      "text/plain": [
       "#0: XdgStokes-J13824_p3_classic_pardiso: FailedOrCanceled (MS HPC client  MSHPC-AllNodes @DC2, @\\\\fdygitrunner\\ValidationTests)\r\n",
       "#1: XdgStokes-J4096_p5_classic_pardiso: FailedOrCanceled (MS HPC client  MSHPC-AllNodes @DC2, @\\\\fdygitrunner\\ValidationTests)\r\n",
       "#2: XdgStokes-J13824_p2_exp_gmres_levelpmg: FailedOrCanceled (MS HPC client  MSHPC-AllNodes @DC2, @\\\\fdygitrunner\\ValidationTests)\r\n",
       "#3: XdgStokes-J13824_p5_exp_gmres_levelpmg: FailedOrCanceled (MS HPC client  MSHPC-AllNodes @DC2, @\\\\fdygitrunner\\ValidationTests)\r\n",
       "#4: XdgStokes-J110592_p2_exp_Kcycle_schwarz: FailedOrCanceled (MS HPC client  MSHPC-AllNodes @DC2, @\\\\fdygitrunner\\ValidationTests)\r\n",
       "#5: XdgStokes-J13824_p3_exp_Kcycle_schwarz: FailedOrCanceled (MS HPC client  MSHPC-AllNodes @DC2, @\\\\fdygitrunner\\ValidationTests)\r\n",
       "#6: XdgStokes-J32768_p3_exp_Kcycle_schwarz: FailedOrCanceled (MS HPC client  MSHPC-AllNodes @DC2, @\\\\fdygitrunner\\ValidationTests)\r\n",
       "#7: XdgStokes-J4096_p5_exp_Kcycle_schwarz: FailedOrCanceled (MS HPC client  MSHPC-AllNodes @DC2, @\\\\fdygitrunner\\ValidationTests)\r\n",
       "#8: XdgStokes-J13824_p5_exp_Kcycle_schwarz: FailedOrCanceled (MS HPC client  MSHPC-AllNodes @DC2, @\\\\fdygitrunner\\ValidationTests)\r\n"
      ]
     },
     "execution_count": 21,
     "metadata": {},
     "output_type": "execute_result"
    }
   ],
   "source": [
    "var NoSuccess = wmg.AllJobs.Values.Where(job => job.Status != JobStatus.FinishedSuccessful);\n",
    "NoSuccess"
   ]
  },
  {
   "cell_type": "code",
   "execution_count": 27,
   "metadata": {},
   "outputs": [
    {
     "name": "stdout",
     "output_type": "stream",
     "text": [
      "XdgStokes-J13824_p3_classic_pardiso: FailedOrCanceled (MS HPC client  MSHPC-AllNodes @DC2, @\\\\fdygitrunner\\ValidationTests):  @\\\\fdygitrunner\\ValidationTests\\LinslvPerf_XdgStokes-XNSE_Solver2021Nov11_101805\n",
      "XdgStokes-J4096_p5_classic_pardiso: FailedOrCanceled (MS HPC client  MSHPC-AllNodes @DC2, @\\\\fdygitrunner\\ValidationTests):  @\\\\fdygitrunner\\ValidationTests\\LinslvPerf_XdgStokes-XNSE_Solver2021Nov11_101828\n",
      "XdgStokes-J13824_p2_exp_gmres_levelpmg: FailedOrCanceled (MS HPC client  MSHPC-AllNodes @DC2, @\\\\fdygitrunner\\ValidationTests):  @\\\\fdygitrunner\\ValidationTests\\LinslvPerf_XdgStokes-XNSE_Solver2021Nov11_101911\n",
      "XdgStokes-J13824_p5_exp_gmres_levelpmg: FailedOrCanceled (MS HPC client  MSHPC-AllNodes @DC2, @\\\\fdygitrunner\\ValidationTests):  @\\\\fdygitrunner\\ValidationTests\\LinslvPerf_XdgStokes-XNSE_Solver2021Nov11_102122\n",
      "XdgStokes-J110592_p2_exp_Kcycle_schwarz: FailedOrCanceled (MS HPC client  MSHPC-AllNodes @DC2, @\\\\fdygitrunner\\ValidationTests):  @\\\\fdygitrunner\\ValidationTests\\LinslvPerf_XdgStokes-XNSE_Solver2021Nov11_102244\n",
      "XdgStokes-J13824_p3_exp_Kcycle_schwarz: FailedOrCanceled (MS HPC client  MSHPC-AllNodes @DC2, @\\\\fdygitrunner\\ValidationTests):  @\\\\fdygitrunner\\ValidationTests\\LinslvPerf_XdgStokes-XNSE_Solver2021Nov11_102339\n",
      "XdgStokes-J32768_p3_exp_Kcycle_schwarz: FailedOrCanceled (MS HPC client  MSHPC-AllNodes @DC2, @\\\\fdygitrunner\\ValidationTests):  @\\\\fdygitrunner\\ValidationTests\\LinslvPerf_XdgStokes-XNSE_Solver2021Nov11_102358\n",
      "XdgStokes-J4096_p5_exp_Kcycle_schwarz: FailedOrCanceled (MS HPC client  MSHPC-AllNodes @DC2, @\\\\fdygitrunner\\ValidationTests):  @\\\\fdygitrunner\\ValidationTests\\LinslvPerf_XdgStokes-XNSE_Solver2021Nov11_102432\n",
      "XdgStokes-J13824_p5_exp_Kcycle_schwarz: FailedOrCanceled (MS HPC client  MSHPC-AllNodes @DC2, @\\\\fdygitrunner\\ValidationTests):  @\\\\fdygitrunner\\ValidationTests\\LinslvPerf_XdgStokes-XNSE_Solver2021Nov11_102447\n"
     ]
    }
   ],
   "source": [
    "// In the case of some failed job, print the directory name for further inspection:\n",
    "foreach(var fail in NoSuccess)\n",
    "    Console.WriteLine(fail + \":  @\" + fail.LatestDeployment.DeploymentDirectory.FullName);\n",
    "    //Console.WriteLine(fail.LatestDeployment);"
   ]
  },
  {
   "cell_type": "code",
   "execution_count": 23,
   "metadata": {},
   "outputs": [
    {
     "data": {
      "text/plain": [
       "#0: LinslvPerf_XdgStokes\tXdgStokes-J110592_p2_exp_Kcycle_schwarz*\t11/11/2021 10:23:00\t7519691b...\r\n",
       "#1: LinslvPerf_XdgStokes\tXdgStokes-J32768_p3_exp_Kcycle_schwarz*\t11/11/2021 10:24:14\t314c737a...\r\n",
       "#2: LinslvPerf_XdgStokes\tXdgStokes-J13824_p5_exp_Kcycle_schwarz*\t11/11/2021 10:25:06\taad97ce0...\r\n",
       "#3: LinslvPerf_XdgStokes\tXdgStokes-J4096_p5_exp_Kcycle_schwarz*\t11/11/2021 10:24:47\t7593ffc2...\r\n",
       "#4: LinslvPerf_XdgStokes\tXdgStokes-J13824_p3_exp_Kcycle_schwarz*\t11/11/2021 10:23:58\te0cbff63...\r\n",
       "#5: LinslvPerf_XdgStokes\tXdgStokes-J110592_p2_exp_gmres_levelpmg*\t11/11/2021 10:19:57\taaa45e54...\r\n",
       "#6: LinslvPerf_XdgStokes\tXdgStokes-J13824_p5_exp_gmres_levelpmg*\t11/11/2021 10:21:38\t0c5867d5...\r\n",
       "#7: LinslvPerf_XdgStokes\tXdgStokes-J13824_p2_exp_gmres_levelpmg*\t11/11/2021 10:19:32\t464e8d24...\r\n",
       "#8: LinslvPerf_XdgStokes\tXdgStokes-J13824_p3_classic_pardiso*\t11/11/2021 10:18:23\t8d4759a7...\r\n",
       "#9: LinslvPerf_XdgStokes\tXdgStokes-J4096_p5_classic_pardiso*\t11/11/2021 10:18:44\td025fc40...\r\n"
      ]
     },
     "execution_count": 23,
     "metadata": {},
     "output_type": "execute_result"
    }
   ],
   "source": [
    "var FailedSessions = wmg.Sessions.Where(Si => (Si.SuccessfulTermination == false));\n",
    "FailedSessions"
   ]
  },
  {
   "cell_type": "code",
   "execution_count": 24,
   "metadata": {},
   "outputs": [],
   "source": [
    "//foreach(var si in FailedSessions)\n",
    "//   si.Delete(true);"
   ]
  },
  {
   "cell_type": "code",
   "execution_count": 25,
   "metadata": {},
   "outputs": [
    {
     "ename": "Unhandled exception",
     "evalue": "NUnit.Framework.AssertionException:   Some Jobs Failed\r\n  Expected: 0\r\n  But was:  9\r\n\r\n   at NUnit.Framework.Assert.ReportFailure(String message) in /_/src/NUnitFramework/framework/Assert.cs:line 395\r\n   at NUnit.Framework.Assert.ReportFailure(ConstraintResult result, String message, Object[] args) in /_/src/NUnitFramework/framework/Assert.cs:line 383\r\n   at NUnit.Framework.Assert.That[TActual](TActual actual, IResolveConstraint expression, String message, Object[] args) in /_/src/NUnitFramework/framework/Assert.That.cs:line 229\r\n   at NUnit.Framework.Assert.Zero(Int32 actual, String message, Object[] args) in /_/src/NUnitFramework/framework/Assert.Conditions.cs:line 484\r\n   at Submission#27.<<Initialize>>d__0.MoveNext()\r\n--- End of stack trace from previous location ---\r\n   at Microsoft.CodeAnalysis.Scripting.ScriptExecutionState.RunSubmissionsAsync[TResult](ImmutableArray`1 precedingExecutors, Func`2 currentExecutor, StrongBox`1 exceptionHolderOpt, Func`2 catchExceptionOpt, CancellationToken cancellationToken)",
     "output_type": "error",
     "traceback": [
      "NUnit.Framework.AssertionException:   Some Jobs Failed\r\n  Expected: 0\r\n  But was:  9\r\n\r\n   at NUnit.Framework.Assert.ReportFailure(String message) in /_/src/NUnitFramework/framework/Assert.cs:line 395\r\n   at NUnit.Framework.Assert.ReportFailure(ConstraintResult result, String message, Object[] args) in /_/src/NUnitFramework/framework/Assert.cs:line 383\r\n   at NUnit.Framework.Assert.That[TActual](TActual actual, IResolveConstraint expression, String message, Object[] args) in /_/src/NUnitFramework/framework/Assert.That.cs:line 229\r\n   at NUnit.Framework.Assert.Zero(Int32 actual, String message, Object[] args) in /_/src/NUnitFramework/framework/Assert.Conditions.cs:line 484\r\n   at Submission#27.<<Initialize>>d__0.MoveNext()\r\n--- End of stack trace from previous location ---\r\n   at Microsoft.CodeAnalysis.Scripting.ScriptExecutionState.RunSubmissionsAsync[TResult](ImmutableArray`1 precedingExecutors, Func`2 currentExecutor, StrongBox`1 exceptionHolderOpt, Func`2 catchExceptionOpt, CancellationToken cancellationToken)",
      "   at NUnit.Framework.Assert.ReportFailure(String message) in /_/src/NUnitFramework/framework/Assert.cs:line 395",
      "   at NUnit.Framework.Assert.ReportFailure(ConstraintResult result, String message, Object[] args) in /_/src/NUnitFramework/framework/Assert.cs:line 383",
      "   at NUnit.Framework.Assert.That[TActual](TActual actual, IResolveConstraint expression, String message, Object[] args) in /_/src/NUnitFramework/framework/Assert.That.cs:line 229",
      "   at NUnit.Framework.Assert.Zero(Int32 actual, String message, Object[] args) in /_/src/NUnitFramework/framework/Assert.Conditions.cs:line 484",
      "   at Submission#27.<<Initialize>>d__0.MoveNext()",
      "--- End of stack trace from previous location ---",
      "   at Microsoft.CodeAnalysis.Scripting.ScriptExecutionState.RunSubmissionsAsync[TResult](ImmutableArray`1 precedingExecutors, Func`2 currentExecutor, StrongBox`1 exceptionHolderOpt, Func`2 catchExceptionOpt, CancellationToken cancellationToken)"
     ]
    }
   ],
   "source": [
    "NUnit.Framework.Assert.Zero(NoSuccess.Count(), \"Some Jobs Failed\");"
   ]
  },
  {
   "cell_type": "code",
   "execution_count": 26,
   "metadata": {},
   "outputs": [
    {
     "ename": "Unhandled exception",
     "evalue": "NUnit.Framework.AssertionException:   Some Sessions did not terminate successfully.\r\n  Expected: 0\r\n  But was:  10\r\n\r\n   at NUnit.Framework.Assert.ReportFailure(String message) in /_/src/NUnitFramework/framework/Assert.cs:line 395\r\n   at NUnit.Framework.Assert.ReportFailure(ConstraintResult result, String message, Object[] args) in /_/src/NUnitFramework/framework/Assert.cs:line 383\r\n   at NUnit.Framework.Assert.That[TActual](TActual actual, IResolveConstraint expression, String message, Object[] args) in /_/src/NUnitFramework/framework/Assert.That.cs:line 229\r\n   at NUnit.Framework.Assert.Zero(Int32 actual, String message, Object[] args) in /_/src/NUnitFramework/framework/Assert.Conditions.cs:line 484\r\n   at Submission#28.<<Initialize>>d__0.MoveNext()\r\n--- End of stack trace from previous location ---\r\n   at Microsoft.CodeAnalysis.Scripting.ScriptExecutionState.RunSubmissionsAsync[TResult](ImmutableArray`1 precedingExecutors, Func`2 currentExecutor, StrongBox`1 exceptionHolderOpt, Func`2 catchExceptionOpt, CancellationToken cancellationToken)",
     "output_type": "error",
     "traceback": [
      "NUnit.Framework.AssertionException:   Some Sessions did not terminate successfully.\r\n  Expected: 0\r\n  But was:  10\r\n\r\n   at NUnit.Framework.Assert.ReportFailure(String message) in /_/src/NUnitFramework/framework/Assert.cs:line 395\r\n   at NUnit.Framework.Assert.ReportFailure(ConstraintResult result, String message, Object[] args) in /_/src/NUnitFramework/framework/Assert.cs:line 383\r\n   at NUnit.Framework.Assert.That[TActual](TActual actual, IResolveConstraint expression, String message, Object[] args) in /_/src/NUnitFramework/framework/Assert.That.cs:line 229\r\n   at NUnit.Framework.Assert.Zero(Int32 actual, String message, Object[] args) in /_/src/NUnitFramework/framework/Assert.Conditions.cs:line 484\r\n   at Submission#28.<<Initialize>>d__0.MoveNext()\r\n--- End of stack trace from previous location ---\r\n   at Microsoft.CodeAnalysis.Scripting.ScriptExecutionState.RunSubmissionsAsync[TResult](ImmutableArray`1 precedingExecutors, Func`2 currentExecutor, StrongBox`1 exceptionHolderOpt, Func`2 catchExceptionOpt, CancellationToken cancellationToken)",
      "   at NUnit.Framework.Assert.ReportFailure(String message) in /_/src/NUnitFramework/framework/Assert.cs:line 395",
      "   at NUnit.Framework.Assert.ReportFailure(ConstraintResult result, String message, Object[] args) in /_/src/NUnitFramework/framework/Assert.cs:line 383",
      "   at NUnit.Framework.Assert.That[TActual](TActual actual, IResolveConstraint expression, String message, Object[] args) in /_/src/NUnitFramework/framework/Assert.That.cs:line 229",
      "   at NUnit.Framework.Assert.Zero(Int32 actual, String message, Object[] args) in /_/src/NUnitFramework/framework/Assert.Conditions.cs:line 484",
      "   at Submission#28.<<Initialize>>d__0.MoveNext()",
      "--- End of stack trace from previous location ---",
      "   at Microsoft.CodeAnalysis.Scripting.ScriptExecutionState.RunSubmissionsAsync[TResult](ImmutableArray`1 precedingExecutors, Func`2 currentExecutor, StrongBox`1 exceptionHolderOpt, Func`2 catchExceptionOpt, CancellationToken cancellationToken)"
     ]
    }
   ],
   "source": [
    "NUnit.Framework.Assert.Zero(FailedSessions.Count(), \"Some Sessions did not terminate successfully.\");"
   ]
  }
 ],
 "metadata": {
  "kernelspec": {
   "display_name": ".NET (C#)",
   "language": "C#",
   "name": ".net-csharp"
  },
  "language_info": {
   "file_extension": ".cs",
   "mimetype": "text/x-csharp",
   "name": "C#",
   "pygments_lexer": "csharp",
   "version": "9.0"
  }
 },
 "nbformat": 4,
 "nbformat_minor": 4
}
