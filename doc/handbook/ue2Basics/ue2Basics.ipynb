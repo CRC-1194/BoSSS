{
  "cells": [
    {
      "cell_type": "markdown",
      "source": [],
      "metadata": {}
    },
    {
      "cell_type": "markdown",
      "source": [
        "# **1 What's new**\r\n",
        "\r\n",
        "- Creating numerical grids\r\n",
        "- Projecting functions onto the DG space and further evaluation\r\n",
        "- Performing a hp-convergence study\r\n"
      ],
      "metadata": {}
    },
    {
      "cell_type": "markdown",
      "source": [
        "# **2 Prerequisites**\r\n",
        "\r\n",
        "No **BoSSS** specific prerequisites are needed to complete this tutorial.\r\n"
      ],
      "metadata": {}
    },
    {
      "cell_type": "markdown",
      "source": [
        "\r\n",
        "# **3 Problem statement**\r\n",
        ">First, we define two functions:\r\n",
        "> $g_1$ is continuous, $g_2$ has a discontinuity at $x = \\pi$ in the first derivative\r\n",
        "\r\n",
        ">$$ g_1(x) := sin(x), $$\r\n",
        ">$$g_2(x) := \\vert sin(x) \\vert ,$$\r\n",
        "\r\n",
        "The function argument is a vector $x \\in R^n$, consisting only of one entry \r\n",
        "since we are working in a one dimensional space. \r\n",
        "\r\n",
        "**BoSSS** however supports 1D, 2D and 3D, so the spatial coordinate \r\n",
        "is a general vector.\r\n"
      ],
      "metadata": {}
    },
    {
      "cell_type": "markdown",
      "source": [
        "\r\n",
        "# **4 Solution within the BoSSS framework**"
      ],
      "metadata": {}
    },
    {
      "cell_type": "code",
      "execution_count": null,
      "source": [
        "#r \"BoSSSpad.dll\"\r\n",
        "using System;\r\n",
        "using System.Collections.Generic;\r\n",
        "using System.Linq;\r\n",
        "using ilPSP;\r\n",
        "using ilPSP.Utils;\r\n",
        "using BoSSS.Platform;\r\n",
        "using BoSSS.Platform.LinAlg;\r\n",
        "using BoSSS.Foundation;\r\n",
        "using BoSSS.Foundation.XDG;\r\n",
        "using BoSSS.Foundation.Grid;\r\n",
        "using BoSSS.Foundation.Grid.Classic;\r\n",
        "using BoSSS.Foundation.Grid.RefElements;\r\n",
        "using BoSSS.Foundation.IO;\r\n",
        "using BoSSS.Solution;\r\n",
        "using BoSSS.Solution.Control;\r\n",
        "using BoSSS.Solution.GridImport;\r\n",
        "using BoSSS.Solution.Statistic;\r\n",
        "using BoSSS.Solution.Utils;\r\n",
        "using BoSSS.Solution.AdvancedSolvers;\r\n",
        "using BoSSS.Solution.Gnuplot;\r\n",
        "using BoSSS.Application.BoSSSpad;\r\n",
        "using BoSSS.Application.XNSE_Solver;\r\n",
        "using static BoSSS.Application.BoSSSpad.BoSSSshell;\r\n",
        "Init();\r\n"
      ],
      "outputs": [],
      "metadata": {
        "dotnet_interactive": {
          "language": "csharp"
        }
      }
    },
    {
      "cell_type": "code",
      "execution_count": null,
      "source": [
        "using NUnit.Framework;"
      ],
      "outputs": [],
      "metadata": {
        "dotnet_interactive": {
          "language": "csharp"
        }
      }
    },
    {
      "cell_type": "markdown",
      "source": [
        "# 4.1 Plotting the functions\r\n",
        "\r\n",
        " First, we plot the functions that are defined above over the interval $(0 ,2 \\pi)$ with \r\n",
        "1000 sampling points using a Gnuplot-object."
      ],
      "metadata": {}
    },
    {
      "cell_type": "code",
      "execution_count": null,
      "source": [
        "Func<double[],double> g1 = (X => Math.Sin(X[0]));          \r\n",
        "// continuous, smooth         \r\n",
        "Func<double[],double> g2 = (X => Math.Abs(Math.Sin(X[0])));          \r\n",
        "// continuous, non-smooth"
      ],
      "outputs": [],
      "metadata": {
        "dotnet_interactive": {
          "language": "csharp"
        }
      }
    },
    {
      "cell_type": "markdown",
      "source": [
        "We define equidistant sampling points..."
      ],
      "metadata": {}
    },
    {
      "cell_type": "code",
      "execution_count": null,
      "source": [
        "\r\n",
        "double[] x = GenericBlas.Linspace(0, 2.0*Math.PI, 1000);"
      ],
      "outputs": [],
      "metadata": {
        "dotnet_interactive": {
          "language": "csharp"
        }
      }
    },
    {
      "cell_type": "markdown",
      "source": [
        "...and compute the function values. In the loop, we have to convert the scalar **x[i]** into an array\r\n",
        "with one element, since $g_1$ has to be feed with arrays."
      ],
      "metadata": {}
    },
    {
      "cell_type": "code",
      "execution_count": null,
      "source": [
        "\r\n",
        "double[] g1_values = new double[x.Length];\r\n",
        "for(int i = 0; i < x.Length; i++) {\r\n",
        "    g1_values[i] = g1(new[] { x[i]} );\r\n",
        "}"
      ],
      "outputs": [],
      "metadata": {
        "dotnet_interactive": {
          "language": "csharp"
        }
      }
    },
    {
      "cell_type": "code",
      "execution_count": null,
      "source": [
        "/// Instead of loops, we can also use Linq-functions:\r\n",
        "double[] g2_values = x.Select(x => g2(new []{ x })).ToArray();"
      ],
      "outputs": [],
      "metadata": {
        "dotnet_interactive": {
          "language": "csharp"
        }
      }
    },
    {
      "cell_type": "markdown",
      "source": [
        "For now, we are using the simple plotting interface, which supports\r\n",
        "Matlab-Style format specifiers and color names. \r\n",
        "\r\n",
        "(More advanced plots can be produced with **Plot2Ddata** and/or **Gnuplot** classes)\r\n",
        "\r\n",
        ">## Note\r\n",
        ">In order to obtain an output for the plot, remove the **;** at the end of the plot command. "
      ],
      "metadata": {}
    },
    {
      "cell_type": "code",
      "execution_count": null,
      "source": [
        "\r\n",
        "Plot(X1:x, Y1:g1_values, Name1:\"function g1\", Format1:\"--red\",\r\n",
        "     X2:x, Y2:g2_values, Name2:\"function g2\", Format2:\"-.blue\");"
      ],
      "outputs": [],
      "metadata": {
        "dotnet_interactive": {
          "language": "csharp"
        }
      }
    },
    {
      "cell_type": "markdown",
      "source": [
        "Next, we create a grid which has a cell boundary exactly at the position of\r\n",
        "the discontinuity of $g_2$."
      ],
      "metadata": {}
    },
    {
      "cell_type": "code",
      "execution_count": null,
      "source": [
        "var Nodes1 = new double[] {0, 2, Math.PI, 4.5, 2*Math.PI };         \r\n",
        "var Grid1 = Grid1D.LineGrid(Nodes1);"
      ],
      "outputs": [],
      "metadata": {
        "dotnet_interactive": {
          "language": "csharp"
        }
      }
    },
    {
      "cell_type": "markdown",
      "source": [
        "We can get the total number of cells by using the following command:"
      ],
      "metadata": {}
    },
    {
      "cell_type": "code",
      "execution_count": null,
      "source": [
        "Grid1.NumberOfCells"
      ],
      "outputs": [],
      "metadata": {
        "dotnet_interactive": {
          "language": "csharp"
        }
      }
    },
    {
      "cell_type": "markdown",
      "source": [
        "The recently created grid-object is not directly usable because it contains only the nodes of the grid. \r\n",
        "\r\n",
        "We have to create a **GridData**-object which provides all necessary transformation metrics, etc. .\r\n"
      ],
      "metadata": {}
    },
    {
      "cell_type": "code",
      "execution_count": null,
      "source": [
        "var gdata1 = new GridData(Grid1);"
      ],
      "outputs": [],
      "metadata": {
        "dotnet_interactive": {
          "language": "csharp"
        }
      }
    },
    {
      "cell_type": "markdown",
      "source": [
        "# 4.2 Projection onto the DG space\r\n",
        "At this point, we are able to create the so-called ***DG fields*** to approximate ***$g_1$***\r\n",
        "on ***grid1***. \r\n",
        "\r\n",
        "Therefore, we project ***$g_1$*** onto ***grid1*** using polynomial orders\r\n",
        "of $p=2$ and $p=8$.\r\n"
      ],
      "metadata": {}
    },
    {
      "cell_type": "code",
      "execution_count": null,
      "source": [
        "var g1_grid1_p2 = new SinglePhaseField(new Basis(gdata1, 2), \"g1 with p2 at Grid 1\");      \r\n",
        "g1_grid1_p2.ProjectField(g1);"
      ],
      "outputs": [],
      "metadata": {
        "dotnet_interactive": {
          "language": "csharp"
        }
      }
    },
    {
      "cell_type": "code",
      "execution_count": null,
      "source": [
        "var g1_grid1_p8 = new SinglePhaseField(new Basis(gdata1, 8), \"g1 with p8 at Grid 1\");         \r\n",
        "g1_grid1_p8.ProjectField(g1);"
      ],
      "outputs": [],
      "metadata": {
        "dotnet_interactive": {
          "language": "csharp"
        }
      }
    },
    {
      "cell_type": "markdown",
      "source": [
        "Now, let us plot the projected solution for $p=2$. \r\n",
        "\r\n",
        "By using the upsampling parameter, we can determine \r\n",
        "the amount of sampling points per cell.\r\n"
      ],
      "metadata": {}
    },
    {
      "cell_type": "code",
      "execution_count": null,
      "source": [
        "var upsampling = 20;"
      ],
      "outputs": [],
      "metadata": {
        "dotnet_interactive": {
          "language": "csharp"
        }
      }
    },
    {
      "cell_type": "code",
      "execution_count": null,
      "source": [
        "var gp1 = new Gnuplot();"
      ],
      "outputs": [],
      "metadata": {
        "dotnet_interactive": {
          "language": "csharp"
        }
      }
    },
    {
      "cell_type": "code",
      "execution_count": null,
      "source": [
        "gp1.PlotField(g1_grid1_p2,          \r\n",
        "    new PlotFormat(lineColor: (LineColors)(1)),\r\n",
        "    upsampling);"
      ],
      "outputs": [],
      "metadata": {
        "dotnet_interactive": {
          "language": "csharp"
        }
      }
    },
    {
      "cell_type": "code",
      "execution_count": null,
      "source": [
        "gp1.PlotNow(); // shows the plot"
      ],
      "outputs": [],
      "metadata": {
        "dotnet_interactive": {
          "language": "csharp"
        }
      }
    },
    {
      "cell_type": "markdown",
      "source": [
        "# 4.3 Computing the $L^2$-error\r\n",
        " Next, we learn how to compute the $L^2$-error for both approximations of $g_1$ with different polynomial degrees:\r\n"
      ],
      "metadata": {}
    },
    {
      "cell_type": "code",
      "execution_count": null,
      "source": [
        "g1_grid1_p2.L2Error(g1);"
      ],
      "outputs": [],
      "metadata": {
        "dotnet_interactive": {
          "language": "csharp"
        }
      }
    },
    {
      "cell_type": "code",
      "execution_count": null,
      "source": [
        "g1_grid1_p8.L2Error(g1);"
      ],
      "outputs": [],
      "metadata": {
        "dotnet_interactive": {
          "language": "csharp"
        }
      }
    },
    {
      "cell_type": "markdown",
      "source": [
        "# 4.4 Plotting the point-wise error\r\n",
        "\r\n",
        "Now, we plot the point-wise error for the approximation of $g_1$ \r\n",
        "on **grid1** with a polynomial degree of 8."
      ],
      "metadata": {}
    },
    {
      "cell_type": "code",
      "execution_count": null,
      "source": [
        "int K = 20; // number of points per cell         \r\n",
        "var gp2 = new Gnuplot();         \r\n",
        "gp2.PlotLogError(g1_grid1_p8, g1, \"g1 with p8 at Grid 1\", 20,          \r\n",
        "    new PlotFormat(lineColor: (LineColors)(1)));         \r\n",
        "gp2.PlotNow();"
      ],
      "outputs": [],
      "metadata": {
        "dotnet_interactive": {
          "language": "csharp"
        }
      }
    },
    {
      "cell_type": "markdown",
      "source": [
        "# 4.5 Decay behavior of the DG modes for smooth and non-smooth functions\r\n",
        "We investigate the decay behavior of the DG modes for smooth and non-smooth \r\n",
        "functions. \r\n",
        "\r\n",
        "For this purpose, we create a second grid which has the\r\n",
        "discontinuity of $g_2$ within a cell and project $g_2$ onto this grid\r\n",
        "like mentioned above.\r\n"
      ],
      "metadata": {}
    },
    {
      "cell_type": "code",
      "execution_count": null,
      "source": [
        "var Nodes2      = new double[] {0, 2, 4.5, 2*Math.PI };         \r\n",
        "var Grid2       = Grid1D.LineGrid(Nodes2);         \r\n",
        "var gdata2      = new GridData(Grid2);         \r\n",
        "var g2_grid2_p8 = new SinglePhaseField(new Basis(gdata2, 8), \"g2_p8 at Grid2\");         \r\n",
        "g2_grid2_p8.ProjectField(g2);"
      ],
      "outputs": [],
      "metadata": {
        "dotnet_interactive": {
          "language": "csharp"
        }
      }
    },
    {
      "cell_type": "markdown",
      "source": [
        "The cell coordinates can be extracted by using the **Coordinates** parameter."
      ],
      "metadata": {}
    },
    {
      "cell_type": "code",
      "execution_count": null,
      "source": [
        "double[] cell1 = g2_grid2_p8.Coordinates.GetRow(1);          \r\n",
        "    // coord. in cell 1 (with kink)"
      ],
      "outputs": [],
      "metadata": {
        "dotnet_interactive": {
          "language": "csharp"
        }
      }
    },
    {
      "cell_type": "code",
      "execution_count": null,
      "source": [
        "double[] cell0 = g2_grid2_p8.Coordinates.GetRow(0);          \r\n",
        "    // coord. in cell 0 (smooth)"
      ],
      "outputs": [],
      "metadata": {
        "dotnet_interactive": {
          "language": "csharp"
        }
      }
    },
    {
      "cell_type": "code",
      "execution_count": null,
      "source": [
        "double[] cell2 = g2_grid2_p8.Coordinates.GetRow(2);          \r\n",
        "    // coord. in cell 2 (smooth)"
      ],
      "outputs": [],
      "metadata": {
        "dotnet_interactive": {
          "language": "csharp"
        }
      }
    },
    {
      "cell_type": "markdown",
      "source": [
        "Only the absolute value shall be plotted. We use a for-loop to replace the data in \r\n",
        "**cell0**, **cell1** and **cell2** by their absolute values.\r\n"
      ],
      "metadata": {}
    },
    {
      "cell_type": "code",
      "execution_count": null,
      "source": [
        "for(int i = 0; i < cell0.Length; i++) {         \r\n",
        "    cell0[i] = Math.Abs(cell0[i]);         \r\n",
        "    cell1[i] = Math.Abs(cell1[i]);         \r\n",
        "    cell2[i] = Math.Abs(cell2[i]);         \r\n",
        " }"
      ],
      "outputs": [],
      "metadata": {
        "dotnet_interactive": {
          "language": "csharp"
        }
      }
    },
    {
      "cell_type": "code",
      "execution_count": null,
      "source": [
        "Plot(X1:null, Y1:cell1, Name1:\"disc. cell\", Format1:\"*-magenta\",\r\n",
        "     X2:null, Y2:cell0, Name2:\"cell0\",      Format2:\"o-blue\",\r\n",
        "     X3:null, Y3:cell2, Name3:\"cell2\",      Format3:\"o-red\");"
      ],
      "outputs": [],
      "metadata": {
        "dotnet_interactive": {
          "language": "csharp"
        }
      }
    },
    {
      "cell_type": "markdown",
      "source": [
        "# Note:\r\n",
        "\r\n",
        "Using a shortcut for the for-loop above, the absolute values in **cell0**\r\n",
        "can also be stored using the following command:"
      ],
      "metadata": {}
    },
    {
      "cell_type": "code",
      "execution_count": null,
      "source": [
        "double[] cell0 = g2_grid2_p8.Coordinates.GetRow(0)         \r\n",
        "    .Select(d => Math.Abs(d)).ToArray();"
      ],
      "outputs": [],
      "metadata": {
        "dotnet_interactive": {
          "language": "csharp"
        }
      }
    },
    {
      "cell_type": "markdown",
      "source": [
        "Now, we would like to plot the logarithm (use **Math.Log10(...)**) of the absolute\r\n",
        "values of the DG coordinates."
      ],
      "metadata": {}
    },
    {
      "cell_type": "code",
      "execution_count": null,
      "source": [
        "Plot(X1:null, Y1:cell1, Name1:\"disc. cell\", Format1:\"*-magenta\",\r\n",
        "     X2:null, Y2:cell0, Name2:\"cell0\",      Format2:\"o-blue\",\r\n",
        "     X3:null, Y3:cell2, Name3:\"cell2\",      Format3:\"o-red\",\r\n",
        "     logY:true);"
      ],
      "outputs": [],
      "metadata": {
        "dotnet_interactive": {
          "language": "csharp"
        }
      }
    },
    {
      "cell_type": "markdown",
      "source": [
        "# 4.6 Convergence study\r\n",
        "In this section, we learn how to perform a convergence study for $g_2$\r\n",
        "for two different sequences of grid resolutions and different polynomial\r\n",
        "orders. \r\n",
        "\r\n",
        "Therefore, we define two different sequences of grid resolutions:\r\n"
      ],
      "metadata": {}
    },
    {
      "cell_type": "code",
      "execution_count": null,
      "source": [
        "int[][] ResSeq = new int[2][];"
      ],
      "outputs": [],
      "metadata": {
        "dotnet_interactive": {
          "language": "csharp"
        }
      }
    },
    {
      "cell_type": "markdown",
      "source": [
        "Grid resolutions so that the kink in **g2** is located at a cell boundary:"
      ],
      "metadata": {}
    },
    {
      "cell_type": "code",
      "execution_count": null,
      "source": [
        "ResSeq[0] = new int[] { 4, 8, 16, 32, 64, 128, 256, 512, 1024, 2048 };"
      ],
      "outputs": [],
      "metadata": {
        "dotnet_interactive": {
          "language": "csharp"
        }
      }
    },
    {
      "cell_type": "markdown",
      "source": [
        "Grid resolutions so that the kink in **g2** is located within a cell:"
      ],
      "metadata": {}
    },
    {
      "cell_type": "code",
      "execution_count": null,
      "source": [
        "\r\n",
        "ResSeq[1] = new int[] { 3, 7, 15, 31, 63, 127, 255, 511, 1023, 2047 };"
      ],
      "outputs": [],
      "metadata": {
        "dotnet_interactive": {
          "language": "csharp"
        }
      }
    },
    {
      "cell_type": "markdown",
      "source": [
        "We save our errors into a multidimensional array by looping over \r\n",
        "\r\n",
        "- the resolution sequence\r\n",
        "- the polynomial order\r\n",
        "- the resolution"
      ],
      "metadata": {}
    },
    {
      "cell_type": "code",
      "execution_count": null,
      "source": [
        "var Errors = MultidimensionalArray.Create(2, 5, ResSeq[0].Length);"
      ],
      "outputs": [],
      "metadata": {
        "dotnet_interactive": {
          "language": "csharp"
        }
      }
    },
    {
      "cell_type": "code",
      "execution_count": null,
      "source": [
        "for(int i = 0; i < 2; i++) { // loop over the resolution sequence         \r\n",
        "    for(int p = 0; p <= 4; p++) { // loop over polynomial orders         \r\n",
        "        for(int k = 0; k < ResSeq[i].Length; k++) { // loop over different resolutions        \r\n",
        " \r\n",
        "            Console.Write(\"polynomial order {1}\"+         \r\n",
        "            \",\\tResolution {0}... \", ResSeq[i][k], p);         \r\n",
        " \r\n",
        "            var grid  = Grid1D.LineGrid(GenericBlas.Linspace(0,         \r\n",
        "            2.0*Math.PI, ResSeq[i][k] + 1));           \r\n",
        "                 // number of nodes == number of cells + 1         \r\n",
        " \r\n",
        "            var gData = new GridData(grid);         \r\n",
        " \r\n",
        "            var g2_h  = new SinglePhaseField(new Basis(gData, p));         \r\n",
        " \r\n",
        "            g2_h.ProjectField(g2);         \r\n",
        " \r\n",
        "            Errors[i,p,k] = g2_h.L2Error(g2);         \r\n",
        " \r\n",
        "            Console.WriteLine(\"\\tdone: L2 error is {0:0.###e-00}.\", Errors[i,p,k]);         \r\n",
        "        }         \r\n",
        "    }         \r\n",
        " }"
      ],
      "outputs": [],
      "metadata": {
        "dotnet_interactive": {
          "language": "csharp"
        }
      }
    },
    {
      "cell_type": "code",
      "execution_count": null,
      "source": [
        "/// NUnit test (few random tests) BoSSScmdSilent\r\n",
        "Assert.LessOrEqual(Errors[1,4,9],8E-06);       \r\n",
        "Assert.LessOrEqual(Errors[1,3,9],7.5E-06);       \r\n",
        "Assert.LessOrEqual(Errors[1,2,9],2E-05);       \r\n",
        "Assert.LessOrEqual(Errors[1,1,9],2E-05);       \r\n",
        "Assert.LessOrEqual(Errors[0,3,9],1E-12);       \r\n",
        "Assert.LessOrEqual(Errors[0,3,9],1E-12);       \r\n",
        "Assert.LessOrEqual(Errors[1,4,0],0.25);       \r\n",
        "Assert.LessOrEqual(Errors[0,0,0],0.2);       \r\n",
        "Assert.LessOrEqual(Errors[0,3,0],1E-03);"
      ],
      "outputs": [],
      "metadata": {
        "dotnet_interactive": {
          "language": "csharp"
        }
      }
    },
    {
      "cell_type": "markdown",
      "source": [
        "We plot the error for the grids which have the kink at the cell boundary,\r\n",
        "there we reach spectral convergence:"
      ],
      "metadata": {}
    },
    {
      "cell_type": "code",
      "execution_count": null,
      "source": [
        "var hValues = ResSeq[0].Select(J => Math.PI*2.0/J);\r\n",
        "Plot(X1:hValues, Y1:Errors.ExtractSubArrayShallow(0,0,-1).To1DArray(),\r\n",
        "     Name1:\"grid1,p0\", Format1:\"o-red\",\r\n",
        "     X2:hValues, Y2:Errors.ExtractSubArrayShallow(0,1,-1).To1DArray(),\r\n",
        "     Name2:\"grid1,p1\", Format2:\"o-blue\",\r\n",
        "     X3:hValues, Y3:Errors.ExtractSubArrayShallow(0,2,-1).To1DArray(),\r\n",
        "     Name3:\"grid1,p2\", Format3:\"o-green\",\r\n",
        "     X4:hValues, Y4:Errors.ExtractSubArrayShallow(0,3,-1).To1DArray(),\r\n",
        "     Name4:\"grid1,p3\", Format4:\"o-magenta\",\r\n",
        "     X5:hValues, Y5:Errors.ExtractSubArrayShallow(0,4,-1).To1DArray(),\r\n",
        "     Name5:\"grid1,p4\", Format5:\"o-orange\",\r\n",
        "     logX:true, logY:true);"
      ],
      "outputs": [],
      "metadata": {
        "dotnet_interactive": {
          "language": "csharp"
        }
      }
    },
    {
      "cell_type": "markdown",
      "source": [
        "Now we plot the error for the grids which have the kink within a cell;\r\n",
        "due to the low regularity, the convergence of the DG method\r\n",
        "degenerates:"
      ],
      "metadata": {}
    },
    {
      "cell_type": "code",
      "execution_count": null,
      "source": [
        "var hValues = ResSeq[0].Select(J => Math.PI*2.0/J);\r\n",
        "Plot(X1:hValues, Y1:Errors.ExtractSubArrayShallow(1,0,-1).To1DArray(),\r\n",
        "     Name1:\"grid1,p0\", Format1:\"o-red\",\r\n",
        "     X2:hValues, Y2:Errors.ExtractSubArrayShallow(1,1,-1).To1DArray(),\r\n",
        "     Name2:\"grid1,p1\", Format2:\"o-blue\",\r\n",
        "     X3:hValues, Y3:Errors.ExtractSubArrayShallow(1,2,-1).To1DArray(),\r\n",
        "     Name3:\"grid1,p2\", Format3:\"o-green\",\r\n",
        "     X4:hValues, Y4:Errors.ExtractSubArrayShallow(1,3,-1).To1DArray(),\r\n",
        "     Name4:\"grid1,p3\", Format4:\"o-magenta\",\r\n",
        "     X5:hValues, Y5:Errors.ExtractSubArrayShallow(1,4,-1).To1DArray(),\r\n",
        "     Name5:\"grid1,p4\", Format5:\"o-orange\",\r\n",
        "     logX:true, logY:true);"
      ],
      "outputs": [],
      "metadata": {
        "dotnet_interactive": {
          "language": "csharp"
        }
      }
    },
    {
      "cell_type": "markdown",
      "source": [
        "# 5 Advanced topics\r\n",
        "\r\n",
        "This tutorial addressed the very basics of setting up a **BoSSS~application**, namely grid instantiation, the $L^2$-projection of functions onto the DG space and performing a spatial convergence study. Where do you go from here? We recommend that you continue with other relevant basics as provided in the tutorials dealing with the creation of a spatial operator, explicit time integration and the implementation of numerical fluxes."
      ],
      "metadata": {}
    }
  ],
  "metadata": {
    "kernelspec": {
      "display_name": ".NET (C#)",
      "language": "C#",
      "name": ".net-csharp"
    },
    "language_info": {
      "file_extension": ".cs",
      "mimetype": "text/x-csharp",
      "name": "C#",
      "pygments_lexer": "csharp",
      "version": "8.0"
    }
  },
  "nbformat": 4,
  "nbformat_minor": 4
}