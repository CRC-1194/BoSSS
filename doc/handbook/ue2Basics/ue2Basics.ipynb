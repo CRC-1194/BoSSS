{
  "cells": [
    {
      "cell_type": "code",
      "execution_count": 1,
      "metadata": {
        "dotnet_interactive": {
          "language": "csharp"
        }
      },
      "source": [
        "/// \\section*{What's new}\n",
        "///\n",
        "/// \\begin{itemize}\n",
        "/// \\item Creating numerical grids\n",
        "/// \\item Projecting functions onto the DG space and further evaluation\n",
        "/// \\item Performing a hp-convergence study\n",
        "/// \\end{itemize}\n",
        "///\n",
        "/// \\section*{Prerequisites}\n",
        "/// No \\BoSSS{} specific prerequisites are needed to complete this tutorial.\n",
        "///\n",
        "/// \\section{Problem statement}\n",
        "/// First, we define two functions: $g_1$ is continuous, $g_2$ has a \n",
        "/// discontinuity at $\\vec{X} = \\pi$ in the first derivative\n",
        "/// \\begin{align*}\n",
        "/// g_1 =& \\sin(\\vec{X}), \\\\\n",
        "/// g_2 =& \\vert(\\sin(\\vec{X})\\vert\\, .\n",
        "/// \\end{align*}\n",
        "/// The function argument is a vector $\\vec{X}$, consisting only of one entry \n",
        "/// since we are working in a one dimensional space. \n",
        "/// \\BoSSS{} however supports 1D, 2D and 3D, so the spatial coordinate \n",
        "/// is a general vector.\n",
        "///\n",
        "/// \\section{Solution within the BoSSS framework}\n",
        "///\n",
        "/// To initialize, we have to call \\code{restart}:\\textsl{}"
      ],
      "outputs": []
    },
    {
      "cell_type": "code",
      "execution_count": 1,
      "metadata": {
        "dotnet_interactive": {
          "language": "csharp"
        }
      },
      "source": [
        "#r \"C:\\experimental\\public\\src\\L4-application\\BoSSSpad\\bin\\Release\\net5.0\\BoSSSpad.dll\"\n",
        "using System;\n",
        "using System.Collections.Generic;\n",
        "using System.Linq;\n",
        "using ilPSP;\n",
        "using ilPSP.Utils;\n",
        "using BoSSS.Platform;\n",
        "using BoSSS.Platform.LinAlg;\n",
        "using BoSSS.Foundation;\n",
        "using BoSSS.Foundation.XDG;\n",
        "using BoSSS.Foundation.Grid;\n",
        "using BoSSS.Foundation.Grid.Classic;\n",
        "using BoSSS.Foundation.Grid.RefElements;\n",
        "using BoSSS.Foundation.IO;\n",
        "using BoSSS.Solution;\n",
        "using BoSSS.Solution.Control;\n",
        "using BoSSS.Solution.GridImport;\n",
        "using BoSSS.Solution.Statistic;\n",
        "using BoSSS.Solution.Utils;\n",
        "using BoSSS.Solution.AdvancedSolvers;\n",
        "using BoSSS.Solution.Gnuplot;\n",
        "using BoSSS.Application.BoSSSpad;\n",
        "using BoSSS.Application.XNSE_Solver;\n",
        "using static BoSSS.Application.BoSSSpad.BoSSSshell;\n",
        "Init();\n",
        ""
      ],
      "outputs": []
    },
    {
      "cell_type": "code",
      "execution_count": 1,
      "metadata": {
        "dotnet_interactive": {
          "language": "csharp"
        }
      },
      "source": [
        "using NUnit.Framework;"
      ],
      "outputs": []
    },
    {
      "cell_type": "code",
      "execution_count": 1,
      "metadata": {
        "dotnet_interactive": {
          "language": "csharp"
        }
      },
      "source": [
        "/// \\subsection{Plotting the functions} First, we plot the functions that are defined above over the interval $(0 ,2 \\pi)$ with \n",
        "/// 1000 sampling points using a Gnuplot-object.\n",
        "/// %======================================================================================="
      ],
      "outputs": []
    },
    {
      "cell_type": "code",
      "execution_count": 1,
      "metadata": {
        "dotnet_interactive": {
          "language": "csharp"
        }
      },
      "source": [
        "Func<double[],double> g1 = (X => Math.Sin(X[0]));          \n",
        "// continuous, smooth         \n",
        "Func<double[],double> g2 = (X => Math.Abs(Math.Sin(X[0])));          \n",
        "// continuous, non-smooth"
      ],
      "outputs": []
    },
    {
      "cell_type": "code",
      "execution_count": 1,
      "metadata": {
        "dotnet_interactive": {
          "language": "csharp"
        }
      },
      "source": [
        "/// We define equidistant sampling points...\n",
        "double[] x = GenericBlas.Linspace(0, 2.0*Math.PI, 1000);"
      ],
      "outputs": []
    },
    {
      "cell_type": "code",
      "execution_count": 1,
      "metadata": {
        "dotnet_interactive": {
          "language": "csharp"
        }
      },
      "source": [
        "/// ...and compute the function values. In the loop, we have to convert the scalar \\code{x[i]} into an array\n",
        "/// with one element, since \\code{g1} has to be feed with arrays.\n",
        "double[] g1_values = new double[x.Length];\n",
        "for(int i = 0; i < x.Length; i++) {\n",
        "    g1_values[i] = g1(new[] { x[i]} );\n",
        "}"
      ],
      "outputs": []
    },
    {
      "cell_type": "code",
      "execution_count": 1,
      "metadata": {
        "dotnet_interactive": {
          "language": "csharp"
        }
      },
      "source": [
        "/// Instead of loops, we can also use Linq-functions:\n",
        "double[] g2_values = x.Select(x => g2(new []{ x })).ToArray();"
      ],
      "outputs": []
    },
    {
      "cell_type": "code",
      "execution_count": 1,
      "metadata": {
        "dotnet_interactive": {
          "language": "csharp"
        }
      },
      "source": [
        "/// For now, we are using the simple plotting interface, which supports\n",
        "/// Matlab-Style format specifiers and color names. (More advanced plots\n",
        "/// can be produced with \\code{Plot2Ddata} and/or \\code{Gnuplot} classes)\n",
        "Plot(X1:x, Y1:g1_values, Name1:\"function g1\", Format1:\"--red\",\n",
        "     X2:x, Y2:g2_values, Name2:\"function g2\", Format2:\"-.blue\");"
      ],
      "outputs": []
    },
    {
      "cell_type": "code",
      "execution_count": 1,
      "metadata": {
        "dotnet_interactive": {
          "language": "csharp"
        }
      },
      "source": [
        "/// Next, we create a grid which has a cell boundary exactly at the position of\n",
        "/// the discontinuity of \\code{g2}.\n",
        "/// %========================================================================================="
      ],
      "outputs": []
    },
    {
      "cell_type": "code",
      "execution_count": 1,
      "metadata": {
        "dotnet_interactive": {
          "language": "csharp"
        }
      },
      "source": [
        "var Nodes1 = new double[] {0, 2, Math.PI, 4.5, 2*Math.PI };         \n",
        "var Grid1 = Grid1D.LineGrid(Nodes1);"
      ],
      "outputs": []
    },
    {
      "cell_type": "code",
      "execution_count": 1,
      "metadata": {
        "dotnet_interactive": {
          "language": "csharp"
        }
      },
      "source": [
        "/// We can get the total number of cells by using the following command:"
      ],
      "outputs": []
    },
    {
      "cell_type": "code",
      "execution_count": 1,
      "metadata": {
        "dotnet_interactive": {
          "language": "csharp"
        }
      },
      "source": [
        "Grid1.NumberOfCells"
      ],
      "outputs": []
    },
    {
      "cell_type": "code",
      "execution_count": 1,
      "metadata": {
        "dotnet_interactive": {
          "language": "csharp"
        }
      },
      "source": [
        "/// The recently created grid-object is not directly usable because it contains only the nodes of the grid. \n",
        "/// We have to create a \\code{GridData}-object which provides all necessary transformation metrics, etc. .\n",
        "/// %======================================================================================="
      ],
      "outputs": []
    },
    {
      "cell_type": "code",
      "execution_count": 1,
      "metadata": {
        "dotnet_interactive": {
          "language": "csharp"
        }
      },
      "source": [
        "var gdata1 = new GridData(Grid1);"
      ],
      "outputs": []
    },
    {
      "cell_type": "code",
      "execution_count": 1,
      "metadata": {
        "dotnet_interactive": {
          "language": "csharp"
        }
      },
      "source": [
        "/// \\subsection{Projection onto the DG space}\n",
        "/// At this point, we are able to create the so-called \\emph{DG fields} to approximate \\code{g1}\n",
        "/// on \\code{grid1}. Therefore, we project \\code{g1} onto \\code{grid1} using polynomial orders\n",
        "/// of $p=2$ and $p=8$.\n",
        "/// % ======================================================================================="
      ],
      "outputs": []
    },
    {
      "cell_type": "code",
      "execution_count": 1,
      "metadata": {
        "dotnet_interactive": {
          "language": "csharp"
        }
      },
      "source": [
        "var g1_grid1_p2 = new SinglePhaseField(new Basis(gdata1, 2), \"g1 with p2 at Grid 1\");      \n",
        "g1_grid1_p2.ProjectField(g1);"
      ],
      "outputs": []
    },
    {
      "cell_type": "code",
      "execution_count": 1,
      "metadata": {
        "dotnet_interactive": {
          "language": "csharp"
        }
      },
      "source": [
        "var g1_grid1_p8 = new SinglePhaseField(new Basis(gdata1, 8), \"g1 with p8 at Grid 1\");         \n",
        "g1_grid1_p8.ProjectField(g1);"
      ],
      "outputs": []
    },
    {
      "cell_type": "code",
      "execution_count": 1,
      "metadata": {
        "dotnet_interactive": {
          "language": "csharp"
        }
      },
      "source": [
        "/// Now, let us plot the projected solution for $p=2$. \n",
        "/// By using the upsampling parameter, we can determine \n",
        "/// the amount of sampling points per cell.\n",
        "/// %======================================================================================="
      ],
      "outputs": []
    },
    {
      "cell_type": "code",
      "execution_count": 1,
      "metadata": {
        "dotnet_interactive": {
          "language": "csharp"
        }
      },
      "source": [
        "var upsampling = 20;"
      ],
      "outputs": []
    },
    {
      "cell_type": "code",
      "execution_count": 1,
      "metadata": {
        "dotnet_interactive": {
          "language": "csharp"
        }
      },
      "source": [
        "var gp1 = new Gnuplot();"
      ],
      "outputs": []
    },
    {
      "cell_type": "code",
      "execution_count": 1,
      "metadata": {
        "dotnet_interactive": {
          "language": "csharp"
        }
      },
      "source": [
        "gp1.PlotField(g1_grid1_p2,          \n",
        "    new PlotFormat(lineColor: (LineColors)(1)),\n",
        "    upsampling);"
      ],
      "outputs": []
    },
    {
      "cell_type": "code",
      "execution_count": 1,
      "metadata": {
        "dotnet_interactive": {
          "language": "csharp"
        }
      },
      "source": [
        "gp1.PlotNow(); // shows the plot"
      ],
      "outputs": []
    },
    {
      "cell_type": "code",
      "execution_count": 1,
      "metadata": {
        "dotnet_interactive": {
          "language": "csharp"
        }
      },
      "source": [
        "/// \\subsection{Computing the $L^2$-error}\n",
        "/// Next, we learn how to compute the $L^2$-error for both \n",
        "/// approximations of \\code{g1} with different polynomial degrees:\n",
        "/// %======================================================================================="
      ],
      "outputs": []
    },
    {
      "cell_type": "code",
      "execution_count": 1,
      "metadata": {
        "dotnet_interactive": {
          "language": "csharp"
        }
      },
      "source": [
        "g1_grid1_p2.L2Error(g1);"
      ],
      "outputs": []
    },
    {
      "cell_type": "code",
      "execution_count": 1,
      "metadata": {
        "dotnet_interactive": {
          "language": "csharp"
        }
      },
      "source": [
        "g1_grid1_p8.L2Error(g1);"
      ],
      "outputs": []
    },
    {
      "cell_type": "code",
      "execution_count": 1,
      "metadata": {
        "dotnet_interactive": {
          "language": "csharp"
        }
      },
      "source": [
        "/// \\subsection{Plotting the point-wise error}\n",
        "/// Now, we plot the point-wise error for the approximation of \\code{g1}\n",
        "/// on \\code{grid1} with a polynomial degree of 8.\n",
        "/// %======================================================================================="
      ],
      "outputs": []
    },
    {
      "cell_type": "code",
      "execution_count": 1,
      "metadata": {
        "dotnet_interactive": {
          "language": "csharp"
        }
      },
      "source": [
        "int K = 20; // number of points per cell         \n",
        "var gp2 = new Gnuplot();         \n",
        "gp2.PlotLogError(g1_grid1_p8, g1, \"g1 with p8 at Grid 1\", 20,          \n",
        "    new PlotFormat(lineColor: (LineColors)(1)));         \n",
        "gp2.PlotNow();"
      ],
      "outputs": []
    },
    {
      "cell_type": "code",
      "execution_count": 1,
      "metadata": {
        "dotnet_interactive": {
          "language": "csharp"
        }
      },
      "source": [
        "/// \\subsection{Decay behavior of the DG modes for smooth and non-smooth functions}\n",
        "/// We investigate the decay behavior of the DG modes for smooth and non-smooth \n",
        "/// functions. For this purpose, we create a second grid which has the\n",
        "/// discontinuity of \\code{g2} within a cell and project \\code{g2} onto this grid\n",
        "/// like mentioned above.\n",
        "/// %======================================================================================="
      ],
      "outputs": []
    },
    {
      "cell_type": "code",
      "execution_count": 1,
      "metadata": {
        "dotnet_interactive": {
          "language": "csharp"
        }
      },
      "source": [
        "var Nodes2      = new double[] {0, 2, 4.5, 2*Math.PI };         \n",
        "var Grid2       = Grid1D.LineGrid(Nodes2);         \n",
        "var gdata2      = new GridData(Grid2);         \n",
        "var g2_grid2_p8 = new SinglePhaseField(new Basis(gdata2, 8), \"g2_p8 at Grid2\");         \n",
        "g2_grid2_p8.ProjectField(g2);"
      ],
      "outputs": []
    },
    {
      "cell_type": "code",
      "execution_count": 1,
      "metadata": {
        "dotnet_interactive": {
          "language": "csharp"
        }
      },
      "source": [
        "/// The cell coordinates can be extracted by using the \\code{Coordinates} parameter."
      ],
      "outputs": []
    },
    {
      "cell_type": "code",
      "execution_count": 1,
      "metadata": {
        "dotnet_interactive": {
          "language": "csharp"
        }
      },
      "source": [
        "double[] cell1 = g2_grid2_p8.Coordinates.GetRow(1);          \n",
        "    // coord. in cell 1 (with kink)"
      ],
      "outputs": []
    },
    {
      "cell_type": "code",
      "execution_count": 1,
      "metadata": {
        "dotnet_interactive": {
          "language": "csharp"
        }
      },
      "source": [
        "double[] cell0 = g2_grid2_p8.Coordinates.GetRow(0);          \n",
        "    // coord. in cell 0 (smooth)"
      ],
      "outputs": []
    },
    {
      "cell_type": "code",
      "execution_count": 1,
      "metadata": {
        "dotnet_interactive": {
          "language": "csharp"
        }
      },
      "source": [
        "double[] cell2 = g2_grid2_p8.Coordinates.GetRow(2);          \n",
        "    // coord. in cell 2 (smooth)"
      ],
      "outputs": []
    },
    {
      "cell_type": "code",
      "execution_count": 1,
      "metadata": {
        "dotnet_interactive": {
          "language": "csharp"
        }
      },
      "source": [
        "/// Only the absolute value shall be plotted. We use a for-loop to replace the data in \n",
        "/// \\code{cell0}, \\code{cell1} and \\code{cell2} by their absolute values.\n",
        "/// %======================================================================================="
      ],
      "outputs": []
    },
    {
      "cell_type": "code",
      "execution_count": 1,
      "metadata": {
        "dotnet_interactive": {
          "language": "csharp"
        }
      },
      "source": [
        "for(int i = 0; i < cell0.Length; i++) {         \n",
        "    cell0[i] = Math.Abs(cell0[i]);         \n",
        "    cell1[i] = Math.Abs(cell1[i]);         \n",
        "    cell2[i] = Math.Abs(cell2[i]);         \n",
        " }"
      ],
      "outputs": []
    },
    {
      "cell_type": "code",
      "execution_count": 1,
      "metadata": {
        "dotnet_interactive": {
          "language": "csharp"
        }
      },
      "source": [
        "Plot(X1:null, Y1:cell1, Name1:\"disc. cell\", Format1:\"*-magenta\",\n",
        "     X2:null, Y2:cell0, Name2:\"cell0\",      Format2:\"o-blue\",\n",
        "     X3:null, Y3:cell2, Name3:\"cell2\",      Format3:\"o-red\");"
      ],
      "outputs": []
    },
    {
      "cell_type": "code",
      "execution_count": 1,
      "metadata": {
        "dotnet_interactive": {
          "language": "csharp"
        }
      },
      "source": [
        "/// Note: Using a shortcut for the for-loop above, the absolute values in cell 0\n",
        "/// can also be stored using the following command:"
      ],
      "outputs": []
    },
    {
      "cell_type": "code",
      "execution_count": 1,
      "metadata": {
        "dotnet_interactive": {
          "language": "csharp"
        }
      },
      "source": [
        "double[] cell0 = g2_grid2_p8.Coordinates.GetRow(0)         \n",
        "    .Select(d => Math.Abs(d)).ToArray();"
      ],
      "outputs": []
    },
    {
      "cell_type": "code",
      "execution_count": 1,
      "metadata": {
        "dotnet_interactive": {
          "language": "csharp"
        }
      },
      "source": [
        "/// Now, we would like to plot the logarithm (use \\code{Math.Log10(...)}) of the absolute\n",
        "/// values of the DG coordinates."
      ],
      "outputs": []
    },
    {
      "cell_type": "code",
      "execution_count": 1,
      "metadata": {
        "dotnet_interactive": {
          "language": "csharp"
        }
      },
      "source": [
        "Plot(X1:null, Y1:cell1, Name1:\"disc. cell\", Format1:\"*-magenta\",\n",
        "     X2:null, Y2:cell0, Name2:\"cell0\",      Format2:\"o-blue\",\n",
        "     X3:null, Y3:cell2, Name3:\"cell2\",      Format3:\"o-red\",\n",
        "     logY:true);"
      ],
      "outputs": []
    },
    {
      "cell_type": "code",
      "execution_count": 1,
      "metadata": {
        "dotnet_interactive": {
          "language": "csharp"
        }
      },
      "source": [
        "///\\subsection{Convergence study}"
      ],
      "outputs": []
    },
    {
      "cell_type": "code",
      "execution_count": 1,
      "metadata": {
        "dotnet_interactive": {
          "language": "csharp"
        }
      },
      "source": [
        "/// In this section, we learn how to perform a convergence study for \\code{g2} \n",
        "/// for two different sequences of grid resolutions and different polynomial\n",
        "/// orders. Therefore, we define two different sequences of grid resolutions:\n",
        "/// %======================================================================================="
      ],
      "outputs": []
    },
    {
      "cell_type": "code",
      "execution_count": 1,
      "metadata": {
        "dotnet_interactive": {
          "language": "csharp"
        }
      },
      "source": [
        "int[][] ResSeq = new int[2][];"
      ],
      "outputs": []
    },
    {
      "cell_type": "code",
      "execution_count": 1,
      "metadata": {
        "dotnet_interactive": {
          "language": "csharp"
        }
      },
      "source": [
        "/// Grid resolutions so that the kink in \\code{g2} is located at a cell boundary:\n",
        "ResSeq[0] = new int[] { 4, 8, 16, 32, 64, 128, 256, 512, 1024, 2048 };"
      ],
      "outputs": []
    },
    {
      "cell_type": "code",
      "execution_count": 1,
      "metadata": {
        "dotnet_interactive": {
          "language": "csharp"
        }
      },
      "source": [
        "/// Grid resolutions so that the kink in \\code{g2} is located within a cell:\n",
        "ResSeq[1] = new int[] { 3, 7, 15, 31, 63, 127, 255, 511, 1023, 2047 };"
      ],
      "outputs": []
    },
    {
      "cell_type": "code",
      "execution_count": 1,
      "metadata": {
        "dotnet_interactive": {
          "language": "csharp"
        }
      },
      "source": [
        "/// We save our errors into a multidimensional array by looping over \n",
        "/// \\begin{enumerate}\n",
        "/// \\item the resolution sequence\n",
        "/// \\item the polynomial order\n",
        "/// \\item the resolution\n",
        "/// \\end{enumerate}\n",
        "var Errors = MultidimensionalArray.Create(2, 5, ResSeq[0].Length);"
      ],
      "outputs": []
    },
    {
      "cell_type": "code",
      "execution_count": 1,
      "metadata": {
        "dotnet_interactive": {
          "language": "csharp"
        }
      },
      "source": [
        "for(int i = 0; i < 2; i++) { // loop over the resolution sequence         \n",
        "    for(int p = 0; p <= 4; p++) { // loop over polynomial orders         \n",
        "        for(int k = 0; k < ResSeq[i].Length; k++) { // loop over different resolutions        \n",
        " \n",
        "            Console.Write(\"polynomial order {1}\"+         \n",
        "            \",\\tResolution {0}... \", ResSeq[i][k], p);         \n",
        " \n",
        "            var grid  = Grid1D.LineGrid(GenericBlas.Linspace(0,         \n",
        "            2.0*Math.PI, ResSeq[i][k] + 1));           \n",
        "                 // number of nodes == number of cells + 1         \n",
        " \n",
        "            var gData = new GridData(grid);         \n",
        " \n",
        "            var g2_h  = new SinglePhaseField(new Basis(gData, p));         \n",
        " \n",
        "            g2_h.ProjectField(g2);         \n",
        " \n",
        "            Errors[i,p,k] = g2_h.L2Error(g2);         \n",
        " \n",
        "            Console.WriteLine(\"\\tdone: L2 error is {0:0.###e-00}.\", Errors[i,p,k]);         \n",
        "        }         \n",
        "    }         \n",
        " }"
      ],
      "outputs": []
    },
    {
      "cell_type": "code",
      "execution_count": 1,
      "metadata": {
        "dotnet_interactive": {
          "language": "csharp"
        }
      },
      "source": [
        "/// NUnit test (few random tests) BoSSScmdSilent\n",
        "Assert.LessOrEqual(Errors[1,4,9],8E-06);       \n",
        "Assert.LessOrEqual(Errors[1,3,9],7.5E-06);       \n",
        "Assert.LessOrEqual(Errors[1,2,9],2E-05);       \n",
        "Assert.LessOrEqual(Errors[1,1,9],2E-05);       \n",
        "Assert.LessOrEqual(Errors[0,3,9],1E-12);       \n",
        "Assert.LessOrEqual(Errors[0,3,9],1E-12);       \n",
        "Assert.LessOrEqual(Errors[1,4,0],0.25);       \n",
        "Assert.LessOrEqual(Errors[0,0,0],0.2);       \n",
        "Assert.LessOrEqual(Errors[0,3,0],1E-03);"
      ],
      "outputs": []
    },
    {
      "cell_type": "code",
      "execution_count": 1,
      "metadata": {
        "dotnet_interactive": {
          "language": "csharp"
        }
      },
      "source": [
        "/// We plot the error for the grids which have the kink at the cell boundary,\n",
        "/// there we reach spectral convergence:"
      ],
      "outputs": []
    },
    {
      "cell_type": "code",
      "execution_count": 1,
      "metadata": {
        "dotnet_interactive": {
          "language": "csharp"
        }
      },
      "source": [
        "var hValues = ResSeq[0].Select(J => Math.PI*2.0/J);\n",
        "Plot(X1:hValues, Y1:Errors.ExtractSubArrayShallow(0,0,-1).To1DArray(),\n",
        "     Name1:\"grid1,p0\", Format1:\"o-red\",\n",
        "     X2:hValues, Y2:Errors.ExtractSubArrayShallow(0,1,-1).To1DArray(),\n",
        "     Name2:\"grid1,p1\", Format2:\"o-blue\",\n",
        "     X3:hValues, Y3:Errors.ExtractSubArrayShallow(0,2,-1).To1DArray(),\n",
        "     Name3:\"grid1,p2\", Format3:\"o-green\",\n",
        "     X4:hValues, Y4:Errors.ExtractSubArrayShallow(0,3,-1).To1DArray(),\n",
        "     Name4:\"grid1,p3\", Format4:\"o-magenta\",\n",
        "     X5:hValues, Y5:Errors.ExtractSubArrayShallow(0,4,-1).To1DArray(),\n",
        "     Name5:\"grid1,p4\", Format5:\"o-orange\",\n",
        "     logX:true, logY:true);"
      ],
      "outputs": []
    },
    {
      "cell_type": "code",
      "execution_count": 1,
      "metadata": {
        "dotnet_interactive": {
          "language": "csharp"
        }
      },
      "source": [
        "/// Now we plot the error for the grids which have the kink within a cell;\n",
        "/// due to the low regularity, the convergence of the DG method\n",
        "/// degenerates:"
      ],
      "outputs": []
    },
    {
      "cell_type": "code",
      "execution_count": 1,
      "metadata": {
        "dotnet_interactive": {
          "language": "csharp"
        }
      },
      "source": [
        "var hValues = ResSeq[0].Select(J => Math.PI*2.0/J);\n",
        "Plot(X1:hValues, Y1:Errors.ExtractSubArrayShallow(1,0,-1).To1DArray(),\n",
        "     Name1:\"grid1,p0\", Format1:\"o-red\",\n",
        "     X2:hValues, Y2:Errors.ExtractSubArrayShallow(1,1,-1).To1DArray(),\n",
        "     Name2:\"grid1,p1\", Format2:\"o-blue\",\n",
        "     X3:hValues, Y3:Errors.ExtractSubArrayShallow(1,2,-1).To1DArray(),\n",
        "     Name3:\"grid1,p2\", Format3:\"o-green\",\n",
        "     X4:hValues, Y4:Errors.ExtractSubArrayShallow(1,3,-1).To1DArray(),\n",
        "     Name4:\"grid1,p3\", Format4:\"o-magenta\",\n",
        "     X5:hValues, Y5:Errors.ExtractSubArrayShallow(1,4,-1).To1DArray(),\n",
        "     Name5:\"grid1,p4\", Format5:\"o-orange\",\n",
        "     logX:true, logY:true);"
      ],
      "outputs": []
    },
    {
      "cell_type": "code",
      "execution_count": 1,
      "metadata": {
        "dotnet_interactive": {
          "language": "csharp"
        }
      },
      "source": [
        "/// \\section{Advanced topics} This tutorial addressed the very basics of setting up a \\BoSSS{}~application, namely grid instantiation, the $L^2$-projection of functions onto the DG space and performing a spatial convergence study. Where do you go from here? We recommend that you continue with other relevant basics as provided in the tutorials dealing with the creation of a spatial operator, explicit time integration and the implementation of numerical fluxes."
      ],
      "outputs": []
    }
  ],
  "metadata": {
    "kernelspec": {
      "display_name": ".NET (C#)",
      "language": "C#",
      "name": ".net-csharp"
    },
    "language_info": {
      "file_extension": ".cs",
      "mimetype": "text/x-csharp",
      "name": "C#",
      "pygments_lexer": "csharp",
      "version": "8.0"
    }
  },
  "nbformat": 4,
  "nbformat_minor": 4
}