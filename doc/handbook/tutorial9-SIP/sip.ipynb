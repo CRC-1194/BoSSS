{
 "cells": [
  {
   "cell_type": "markdown",
   "metadata": {
    "dotnet_interactive": {
     "language": "csharp"
    }
   },
   "source": [
    "# Symmetric Interior Penalty for the Poisson Equation\n",
    "\n",
    "## What's new\n",
    "\n",
    "- Symmetric Interior Penalty method (SIP)\n",
    "- investigating matrix properties\n",
    "\n",
    "## Prerequisites\n",
    "\n",
    "- basics SIP method\n",
    "- spatial operator, chapter corresponding to the SpatialOperator\n",
    "- implementing numerical fluxes and convergence study, chapter corresponding to the NumericalFluxex\n",
    "\n",
    "## Problem statement\n",
    "We consider the 2D Poisson problem:\n",
    "$$ \\Delta u = f(x,y) $$\n",
    "\n",
    "with $f(x,y)\\neq 0$ is an arbitrary function of $x$ and/or $y$ or constant.\n",
    "Within this exercise, we are going to investigate the Symmetric Interior Penalty discretization method (SIP) for the Laplace operator\n",
    "\n",
    "$$a_{\\text{sip}}(u,v)\n",
    "= \\int_{\\Omega} \\underbrace{\\nabla u \\cdot \\nabla v}_{\\text{Volume\\ term}}dV\n",
    "  - \\oint_{\\Gamma \\setminus \\Gamma_{N }} \\underbrace{\n",
    "        M(\\nabla u) \\cdot n_{\\Gamma}J(v)\n",
    "     }_{\\text{consistency term}} + \\underbrace{\n",
    "        M(\\nabla v) \\cdot \\vec{n}_{\\Gamma} J(u)\n",
    "     }_{\\text{symmetry term}} dA\n",
    "  + \\oint_{\\Gamma \\setminus \\Gamma_{N}} \\underbrace{\n",
    "       \\eta J(u)J(v)\n",
    "    }_{\\text{penalty term}} dA$$\n",
    "\n",
    "Where $M$ shall denote the Mean and $J$ the Jump operator. The use of these fluxes including a penalty term stabilizes the DG-discretization for the Laplace operator."
   ]
  },
  {
   "cell_type": "markdown",
   "metadata": {},
   "source": [
    "## Solution within the **BoSSS** framework\n",
    "\n",
    "First, we initialize the new worksheet;\n",
    "Note: \n",
    "1. This tutorial can be found in the source code repository as as `sip.ipynb`. \n",
    "   One can directly load this into Jupyter to interactively work with the following code examples.\n",
    "2. **In the following line, the reference to `BoSSSpad.dll` is required**. \n",
    "   You must either set `#r \"BoSSSpad.dll\"` to something which is appropirate for your computer\n",
    "   (e.g. `C:\\Program Files (x86)\\FDY\\BoSSS\\bin\\Release\\net5.0\\BoSSSpad.dll` if you installed the binary distribution),\n",
    "   or, if you are working with the source code, you must compile `BoSSSpad` and put it side-by-side to this worksheet file\n",
    "   (from the original location in the repository, you can use the scripts `getbossspad.sh`, resp. `getbossspad.bat`)."
   ]
  },
  {
   "cell_type": "code",
   "execution_count": 1,
   "metadata": {
    "dotnet_interactive": {
     "language": "csharp"
    }
   },
   "outputs": [
    {
     "data": {
      "text/html": [
       "\r\n",
       "<div>\r\n",
       "    <div id='dotnet-interactive-this-cell-39432.Microsoft.DotNet.Interactive.Http.HttpPort' style='display: none'>\r\n",
       "        The below script needs to be able to find the current output cell; this is an easy method to get it.\r\n",
       "    </div>\r\n",
       "    <script type='text/javascript'>\r\n",
       "async function probeAddresses(probingAddresses) {\r\n",
       "    function timeout(ms, promise) {\r\n",
       "        return new Promise(function (resolve, reject) {\r\n",
       "            setTimeout(function () {\r\n",
       "                reject(new Error('timeout'))\r\n",
       "            }, ms)\r\n",
       "            promise.then(resolve, reject)\r\n",
       "        })\r\n",
       "    }\r\n",
       "\r\n",
       "    if (Array.isArray(probingAddresses)) {\r\n",
       "        for (let i = 0; i < probingAddresses.length; i++) {\r\n",
       "\r\n",
       "            let rootUrl = probingAddresses[i];\r\n",
       "\r\n",
       "            if (!rootUrl.endsWith('/')) {\r\n",
       "                rootUrl = `${rootUrl}/`;\r\n",
       "            }\r\n",
       "\r\n",
       "            try {\r\n",
       "                let response = await timeout(1000, fetch(`${rootUrl}discovery`, {\r\n",
       "                    method: 'POST',\r\n",
       "                    cache: 'no-cache',\r\n",
       "                    mode: 'cors',\r\n",
       "                    timeout: 1000,\r\n",
       "                    headers: {\r\n",
       "                        'Content-Type': 'text/plain'\r\n",
       "                    },\r\n",
       "                    body: probingAddresses[i]\r\n",
       "                }));\r\n",
       "\r\n",
       "                if (response.status == 200) {\r\n",
       "                    return rootUrl;\r\n",
       "                }\r\n",
       "            }\r\n",
       "            catch (e) { }\r\n",
       "        }\r\n",
       "    }\r\n",
       "}\r\n",
       "\r\n",
       "function loadDotnetInteractiveApi() {\r\n",
       "    probeAddresses([\"http://192.168.56.1:1001/\", \"http://169.254.113.120:1001/\", \"http://192.168.178.23:1001/\", \"http://172.17.100.49:1001/\", \"http://127.0.0.1:1001/\"])\r\n",
       "        .then((root) => {\r\n",
       "        // use probing to find host url and api resources\r\n",
       "        // load interactive helpers and language services\r\n",
       "        let dotnetInteractiveRequire = require.config({\r\n",
       "        context: '39432.Microsoft.DotNet.Interactive.Http.HttpPort',\r\n",
       "                paths:\r\n",
       "            {\r\n",
       "                'dotnet-interactive': `${root}resources`\r\n",
       "                }\r\n",
       "        }) || require;\r\n",
       "\r\n",
       "            window.dotnetInteractiveRequire = dotnetInteractiveRequire;\r\n",
       "\r\n",
       "            window.configureRequireFromExtension = function(extensionName, extensionCacheBuster) {\r\n",
       "                let paths = {};\r\n",
       "                paths[extensionName] = `${root}extensions/${extensionName}/resources/`;\r\n",
       "                \r\n",
       "                let internalRequire = require.config({\r\n",
       "                    context: extensionCacheBuster,\r\n",
       "                    paths: paths,\r\n",
       "                    urlArgs: `cacheBuster=${extensionCacheBuster}`\r\n",
       "                    }) || require;\r\n",
       "\r\n",
       "                return internalRequire\r\n",
       "            };\r\n",
       "        \r\n",
       "            dotnetInteractiveRequire([\r\n",
       "                    'dotnet-interactive/dotnet-interactive'\r\n",
       "                ],\r\n",
       "                function (dotnet) {\r\n",
       "                    dotnet.init(window);\r\n",
       "                },\r\n",
       "                function (error) {\r\n",
       "                    console.log(error);\r\n",
       "                }\r\n",
       "            );\r\n",
       "        })\r\n",
       "        .catch(error => {console.log(error);});\r\n",
       "    }\r\n",
       "\r\n",
       "// ensure `require` is available globally\r\n",
       "if ((typeof(require) !==  typeof(Function)) || (typeof(require.config) !== typeof(Function))) {\r\n",
       "    let require_script = document.createElement('script');\r\n",
       "    require_script.setAttribute('src', 'https://cdnjs.cloudflare.com/ajax/libs/require.js/2.3.6/require.min.js');\r\n",
       "    require_script.setAttribute('type', 'text/javascript');\r\n",
       "    \r\n",
       "    \r\n",
       "    require_script.onload = function() {\r\n",
       "        loadDotnetInteractiveApi();\r\n",
       "    };\r\n",
       "\r\n",
       "    document.getElementsByTagName('head')[0].appendChild(require_script);\r\n",
       "}\r\n",
       "else {\r\n",
       "    loadDotnetInteractiveApi();\r\n",
       "}\r\n",
       "\r\n",
       "    </script>\r\n",
       "</div>"
      ]
     },
     "metadata": {},
     "output_type": "display_data"
    }
   ],
   "source": [
    "#r \"BoSSSpad.dll\"\n",
    "using System;\n",
    "using System.Collections.Generic;\n",
    "using System.Linq;\n",
    "using ilPSP;\n",
    "using ilPSP.Utils;\n",
    "using BoSSS.Platform;\n",
    "using BoSSS.Foundation;\n",
    "using BoSSS.Foundation.Grid;\n",
    "using BoSSS.Foundation.Grid.Classic;\n",
    "using BoSSS.Foundation.IO;\n",
    "using BoSSS.Solution;\n",
    "using BoSSS.Solution.Control;\n",
    "using BoSSS.Solution.GridImport;\n",
    "using BoSSS.Solution.Statistic;\n",
    "using BoSSS.Solution.Utils;\n",
    "using BoSSS.Solution.Gnuplot;\n",
    "using BoSSS.Application.BoSSSpad;\n",
    "using BoSSS.Application.XNSE_Solver;\n",
    "using static BoSSS.Application.BoSSSpad.BoSSSshell;\n",
    "Init();\n"
   ]
  },
  {
   "cell_type": "markdown",
   "metadata": {},
   "source": [
    "We need the following packages:"
   ]
  },
  {
   "cell_type": "code",
   "execution_count": 2,
   "metadata": {
    "dotnet_interactive": {
     "language": "csharp"
    }
   },
   "outputs": [],
   "source": [
    "using ilPSP.LinSolvers;\n",
    "using ilPSP.Connectors.Matlab;"
   ]
  },
  {
   "cell_type": "markdown",
   "metadata": {},
   "source": [
    "BoSSScmdSilent BoSSSexeSilent"
   ]
  },
  {
   "cell_type": "code",
   "execution_count": 3,
   "metadata": {
    "dotnet_interactive": {
     "language": "csharp"
    }
   },
   "outputs": [],
   "source": [
    "using NUnit.Framework;"
   ]
  },
  {
   "cell_type": "markdown",
   "metadata": {},
   "source": [
    "## Implementation of the SIP fluxes\n",
    "We are going to implement the SIP-form\n",
    "$$\n",
    "a_{\\text{sip}}(u,v)\n",
    "= \\int_{\\Omega} \\underbrace{\\nabla u \\cdot \\nabla v}_{\\text{volume\\ term}}dV\n",
    "  - \\oint_{\\Gamma \\setminus \\Gamma_{N }} \\underbrace{\n",
    "        M {\\nabla u} \\cdot n_{\\Gamma}J(v)\n",
    "     }_{\\text{consistency term}} + \\underbrace{\n",
    "        M{\\nabla v} \\cdot \\vec{n}_{\\Gamma} J(u)\n",
    "     }_{\\text{symmetry term}} dA\n",
    "  + \\oint_{\\Gamma \\setminus \\Gamma_{N}} \\underbrace{\n",
    "       \\eta J(u)J(v)\n",
    "    }_{\\text{penalty term}} dA\n",
    "$$\n",
    "First, we need a class in which the integrands are defined.\n",
    "This also includes some technical aspects like the *TermActivationFlags*."
   ]
  },
  {
   "cell_type": "code",
   "execution_count": 4,
   "metadata": {
    "dotnet_interactive": {
     "language": "csharp"
    }
   },
   "outputs": [],
   "source": [
    "public class SipLaplace :\n",
    "        BoSSS.Foundation.IEdgeForm,   // edge integrals\n",
    "        BoSSS.Foundation.IVolumeForm, // volume integrals\n",
    "        IEquationComponentCoefficient // update of coefficients (e.g. length scales) required for penalty parameters \n",
    "{\n",
    "    /// We do not use parameters (e.g. variable viscosity, ...)\n",
    "    /// at this point: so this can be null\n",
    "    public IList<string> ParameterOrdering { \n",
    "        get { return new string[0]; } \n",
    "    } \n",
    "    /// but we have one argument variable, $u$ (our trial function)\n",
    "    public IList<String> ArgumentOrdering { \n",
    "        get { return new string[] { \"u\" }; } \n",
    "    }\n",
    "    /// The \\code{TermActivationFlags} tell \\BoSSS which kind of terms, \n",
    "    /// i.e. products of u, v, \\nabla u, and \\nabla v\n",
    "    /// the VolumeForm(...) actually contains.\n",
    "    /// This additional information helps to improve the performance.\n",
    "    public TermActivationFlags VolTerms {\n",
    "        get {\n",
    "            return TermActivationFlags.GradUxGradV;\n",
    "        }\n",
    "    }\n",
    "    /// activation flags for the 'InnerEdgeForm(...)'\n",
    "    public TermActivationFlags InnerEdgeTerms {\n",
    "        get {\n",
    "            return (TermActivationFlags.AllOn);\n",
    "            // if we do not care about performance, we can activate all terms.\n",
    "        }\n",
    "    }\n",
    "    public TermActivationFlags BoundaryEdgeTerms {\n",
    "       get {\n",
    "           return TermActivationFlags.AllOn;\n",
    "        }\n",
    "    }\n",
    "    /// For the computation of the penalty factor $\\eta$,\n",
    "    /// we require\n",
    "    /// some length scale for each cell and \n",
    "    /// the polynomial degree of the DG approximation.\n",
    "    MultidimensionalArray cj;\n",
    "    double penalty_base; // base factor, depends on element shape and polynomial degree  \n",
    "    /// The aforementioned properties can be obtained through \n",
    "    /// impmenting the \\code{IEquationComponentCoefficient} interface:\n",
    "    public void CoefficientUpdate(CoefficientSet cs, int[] DomainDGdeg, int TestDGdeg) {\n",
    "        int D = cs.GrdDat.SpatialDimension;\n",
    "        double _D = D;\n",
    "        double _p = DomainDGdeg.Max();\n",
    "\n",
    "        double penalty_deg_tri = (_p + 1) * (_p + _D) / _D; // formula for triangles/tetras\n",
    "        double penalty_deg_sqr = (_p + 1.0) * (_p + 1.0); // formula for squares/cubes\n",
    "\n",
    "        penalty_base = Math.Max(penalty_deg_tri, penalty_deg_sqr); // the conservative choice\n",
    "        //Console.WriteLine(\"Setting penalty base factor for deg \" + _p + \" to \" + penalty_base);\n",
    "\n",
    "        cj = ((GridData)(cs.GrdDat)).Cells.cj;\n",
    "    }     \n",
    "    \n",
    "            \n",
    "    /// The safety factor for the penalty factor should be in the order of 1.\n",
    "    /// A very large penalty factor increases the condition number of the \n",
    "    /// system, but without affecting stability.\n",
    "    /// A very small penalty factor yields to an unstable discretization.\n",
    "    public double PenaltySafety = 2.2; \n",
    "    /// The actual computation of the penalty factor, which should be \n",
    "    /// used in the \\code{InnerEdgeForm} and \\code{BoundaryEdgeForm} functions.\n",
    "    /// Hint: for the parameters \\code{jCellIn}, \\code{jCellOut} and \\code{g},\n",
    "    /// take a look at\n",
    "    /// \\code{CommonParams} and \\code{CommonParamsBnd}.\n",
    "    double PenaltyFactor(int jCellIn, int jCellOut) {\n",
    "        double cj_in         = cj[jCellIn];\n",
    "        double eta           = penalty_base * cj_in * PenaltySafety;\n",
    "        if(jCellOut >= 0) {\n",
    "            double cj_out = cj[jCellOut];\n",
    "            eta           = Math.Max(eta, penalty_base * cj_out * PenaltySafety);\n",
    "        }\n",
    "\n",
    "        return eta;\n",
    "    }\n",
    "    \n",
    "    /// The following functions cover the actual math.\n",
    "    /// For any discretization of the Laplace operator, we have to specify:\n",
    "    /// \n",
    "    /// - a volume integrand,\n",
    "    /// - an edge integrand for inner edges, i.e. on $\\Gamma_i$,\n",
    "    /// - an edge integrand for boundary edges, i.e. on $\\partial \\Omega$.\n",
    "    /// \n",
    "    /// The integrand for the volume integral:\n",
    "    public double VolumeForm(ref CommonParamsVol cpv, \n",
    "           double[] U, double[,] GradU, // the trial-function u \n",
    "           //            (i.e. the function we search for) and its gradient\n",
    "           double V, double[] GradV     // the test function; \n",
    "           ) {\n",
    " \n",
    "        double acc = 0;\n",
    "        for(int d = 0; d < cpv.D; d++)\n",
    "            acc += GradU[0, d] * GradV[d];\n",
    "        return acc;\n",
    "    }\n",
    "    /// The integrand for the integral on the inner edges,\n",
    "    /// \n",
    "    ///   -( M{\\nabla u} J{v}) \\cdot \\vec{n}_{\\Gamma} \n",
    "    ///   -( M{\\nabla v} J{u}) \\cdot \\vec{n}_{\\Gamma} \n",
    "    ///   + \\eta J{u}  J{v} :\n",
    "    /// \n",
    "    public double InnerEdgeForm(ref CommonParams inp, \n",
    "        double[] U_IN, double[] U_OT, double[,] GradU_IN, double[,] GradU_OT, \n",
    "        double V_IN, double V_OT, double[] GradV_IN, double[] GradV_OT) {\n",
    " \n",
    "        double eta = PenaltyFactor(inp.jCellIn, inp.jCellOut);\n",
    " \n",
    "        double Acc = 0.0;\n",
    "        for(int d = 0; d < inp.D; d++) { // loop over vector components \n",
    "            // consistency term: -({{ \\/u }} [[ v ]])*Normal\n",
    "            // index d: spatial direction\n",
    "            Acc -= 0.5 * (GradU_IN[0, d] + GradU_OT[0, d])*(V_IN - V_OT)\n",
    "                       * inp.Normal[d];\n",
    " \n",
    "            // symmetry term: -({{ \\/v }} [[ u ]])*Normal\n",
    "            Acc -= 0.5 * (GradV_IN[d] + GradV_OT[d])*(U_IN[0] - U_OT[0])\n",
    "                       * inp.Normal[d];\n",
    "        }\n",
    " \n",
    "        // penalty term: eta*[[u]]*[[v]]\n",
    "        Acc += eta*(U_IN[0] - U_OT[0])*(V_IN - V_OT);\n",
    "        return Acc;\n",
    "    } \n",
    "    /// The integrand on boundary edges, i.e. on $\\partial \\Omega$, is\n",
    "    ///  \n",
    "    ///   -( M{\\nabla u} J{v}) \\cdot \\vec{n}_{\\Gamma} \n",
    "    ///   -( M{\\nabla v} J{u}) \\cdot \\vec{n}_{\\Gamma} \n",
    "    ///   +  \\eta J{u}  J{v} .\n",
    "    /// \n",
    "    /// For the boundary we have to consider the special definition for \n",
    "    /// the mean-value operator $M{-}$ and the jump operator \n",
    "    /// $J{-}$ on the boundary.\n",
    "    public double BoundaryEdgeForm(ref CommonParamsBnd inp, \n",
    "        double[] U_IN, double[,] GradU_IN, double V_IN, double[] GradV_IN) {\n",
    " \n",
    "        double eta = PenaltyFactor(inp.jCellIn, -1);\n",
    "        double Acc = 0.0;\n",
    "        for(int d = 0; d < inp.D; d++) { // loop over vector components \n",
    "            // consistency term: -({{ \\/u }} [[ v ]])*Normale\n",
    "            // index d: spatial direction\n",
    "            Acc -= (GradU_IN[0, d])*(V_IN) * inp.Normal[d];\n",
    " \n",
    "            // symmetry term: -({{ \\/v }} [[ u ]])*Normale\n",
    "            Acc -= (GradV_IN[d])*(U_IN[0]) * inp.Normal[d];\n",
    "        }\n",
    " \n",
    "        // penalty term: eta*[[u]]*[[v]]\n",
    "        Acc += eta*(U_IN[0])*(V_IN);\n",
    " \n",
    " \n",
    "        return Acc;\n",
    "    }\n",
    "}"
   ]
  },
  {
   "cell_type": "markdown",
   "metadata": {},
   "source": [
    "## Evaluation of the Poisson operator in 1D\n",
    "We consider the following problem:\n",
    "$$\n",
    "\\Delta u = 2,\\quad -1<x<1,\\quad u(-1)=u(1)=0.\n",
    "$$\n",
    "The solution is $u_{ex}(x) = 1 - x^2$. Since this is quadratic, we can represent it \\emph{exactly} in a DG space of order 2.\n",
    "As usual, we have to set up a grid, a basis and a right-hand-side.:"
   ]
  },
  {
   "cell_type": "code",
   "execution_count": 5,
   "metadata": {
    "dotnet_interactive": {
     "language": "csharp"
    }
   },
   "outputs": [],
   "source": [
    "var grd1D                     = Grid1D.LineGrid(GenericBlas.Linspace(-1,1,10));\n",
    "var DGBasisOn1D               = new Basis(grd1D, 2);\n",
    "var RHS                       = new SinglePhaseField(DGBasisOn1D, \"RHS\");\n",
    "RHS.ProjectField((double x) => 2);"
   ]
  },
  {
   "cell_type": "code",
   "execution_count": 6,
   "metadata": {
    "dotnet_interactive": {
     "language": "csharp"
    }
   },
   "outputs": [],
   "source": [
    "var i_SipLaplace              = new SipLaplace();\n",
    "var Operator_SipLaplace       = i_SipLaplace.Operator();"
   ]
  },
  {
   "cell_type": "markdown",
   "metadata": {},
   "source": [
    "We now want to calculate the residual after inserting the exact solution as well as a wrong solution. \n",
    "The implementation of the exact solution:"
   ]
  },
  {
   "cell_type": "code",
   "execution_count": 7,
   "metadata": {
    "dotnet_interactive": {
     "language": "csharp"
    }
   },
   "outputs": [],
   "source": [
    "var u_ex         = new SinglePhaseField(DGBasisOn1D, \"$u_{ex}$\");\n",
    "u_ex.ProjectField((double x) => 1.0 - x*x);"
   ]
  },
  {
   "cell_type": "markdown",
   "metadata": {},
   "source": [
    "The implementation of a spurious, i.e. a wrong solution; we take the exact solution and add random values in each cell:"
   ]
  },
  {
   "cell_type": "code",
   "execution_count": 8,
   "metadata": {
    "dotnet_interactive": {
     "language": "csharp"
    }
   },
   "outputs": [],
   "source": [
    "var u_wrong      = new SinglePhaseField(DGBasisOn1D, \"$u_{wrong}$\");\n",
    "u_wrong.ProjectField((double x) => 1.0 - x*x);\n",
    "Random R         = new Random();\n",
    "for(int j = 0; j < grd1D.GridData.Cells.NoOfLocalUpdatedCells; j++){\n",
    "    double ujMean = u_wrong.GetMeanValue(j);\n",
    "    ujMean += R.NextDouble();\n",
    "    u_wrong.SetMeanValue(j, ujMean);\n",
    "}"
   ]
  },
  {
   "cell_type": "markdown",
   "metadata": {},
   "source": [
    "Evaluating the Laplace operator using the different solutions:"
   ]
  },
  {
   "cell_type": "code",
   "execution_count": 9,
   "metadata": {
    "dotnet_interactive": {
     "language": "csharp"
    }
   },
   "outputs": [
    {
     "name": "stdout",
     "output_type": "stream",
     "text": [
      "Residual for $u_{ex}$ = 1.3694083221572641E-12\n",
      "Residual for $u_{wrong}$ = 1442.631751685904\n"
     ]
    }
   ],
   "source": [
    "var Residual     = new SinglePhaseField(DGBasisOn1D,\"Resi1\");\n",
    "var ResidualNorm = new List<double>();\n",
    "foreach(var u in new DGField[] {u_ex, u_wrong}) {\n",
    "    Residual.Clear();\n",
    "    Operator_SipLaplace.Evaluate(u, Residual);  // evaluate\n",
    "    Residual.Acc(-1.0, RHS);    \n",
    "    double ResiNorm = Residual.L2Norm();\n",
    "    ResidualNorm.Add(ResiNorm);\n",
    "    Console.WriteLine(\"Residual for \" + u.Identification + \" = \" + ResiNorm);  \n",
    "}"
   ]
  },
  {
   "cell_type": "code",
   "execution_count": 10,
   "metadata": {
    "dotnet_interactive": {
     "language": "csharp"
    }
   },
   "outputs": [],
   "source": [
    "/// tests BoSSScmdSilent\n",
    "Assert.LessOrEqual(ResidualNorm[0], 1e-10);\n",
    "Assert.GreaterOrEqual(ResidualNorm[1], 1e-1);"
   ]
  },
  {
   "cell_type": "markdown",
   "metadata": {},
   "source": [
    "## The matrix of the Poisson Operator\n",
    "If we do not know the exact solution, we have to solve a linear system.\n",
    "Therefore, we not only need to evaluate the operator,\n",
    "but we need its matrix.\n",
    "The *Mapping* controls which degree-of-freedom of the DG approximation\n",
    "is mapped to which row, resp. column of the matrix."
   ]
  },
  {
   "cell_type": "code",
   "execution_count": 11,
   "metadata": {
    "dotnet_interactive": {
     "language": "csharp"
    }
   },
   "outputs": [],
   "source": [
    "\n",
    "var Mapping           = new UnsetteledCoordinateMapping(DGBasisOn1D);\n",
    "var Matrix_SipLaplace = Operator_SipLaplace.ComputeMatrix(Mapping,null,Mapping);"
   ]
  },
  {
   "cell_type": "code",
   "execution_count": 12,
   "metadata": {
    "dotnet_interactive": {
     "language": "csharp"
    }
   },
   "outputs": [
    {
     "data": {
      "text/html": [
       "<div class=\"dni-plaintext\">27</div>"
      ]
     },
     "execution_count": 12,
     "metadata": {},
     "output_type": "execute_result"
    }
   ],
   "source": [
    "Matrix_SipLaplace.NoOfCols"
   ]
  },
  {
   "cell_type": "code",
   "execution_count": 13,
   "metadata": {
    "dotnet_interactive": {
     "language": "csharp"
    }
   },
   "outputs": [
    {
     "data": {
      "text/html": [
       "<div class=\"dni-plaintext\">27</div>"
      ]
     },
     "execution_count": 13,
     "metadata": {},
     "output_type": "execute_result"
    }
   ],
   "source": [
    "Matrix_SipLaplace.NoOfRows"
   ]
  },
  {
   "cell_type": "markdown",
   "metadata": {
    "dotnet_interactive": {
     "language": "csharp"
    }
   },
   "source": [
    "We see that the matrix has 27 rows and columns.\n",
    "\n",
    "### Matrix rank and determinant of the matrix \n",
    "\n",
    "**Matrix\\_SipLaplace**:\n",
    "Use the functions *rank* and *det* to analyze the matrix (warning: this can get costly \n",
    "for larger matrices!).\n",
    "Interpret the results:\n",
    "\n",
    "- What does it mean, when a matrix has full rank?\n",
    "- How many solutions can a linear system have?\n"
   ]
  },
  {
   "cell_type": "code",
   "execution_count": 14,
   "metadata": {
    "dotnet_interactive": {
     "language": "csharp"
    }
   },
   "outputs": [
    {
     "name": "stdout",
     "output_type": "stream",
     "text": [
      "Matrix rank = 27\n",
      "Determinante = 1.405008381452841E+75\n"
     ]
    }
   ],
   "source": [
    "\n",
    "double rank = Matrix_SipLaplace.rank(); \n",
    "Console.WriteLine(\"Matrix rank = \" + rank);\n",
    " \n",
    "double det = Matrix_SipLaplace.det();   \n",
    "Console.WriteLine(\"Determinante = \" + det);"
   ]
  },
  {
   "cell_type": "markdown",
   "metadata": {
    "dotnet_interactive": {
     "language": "csharp"
    }
   },
   "source": [
    "So the matrix of the SIP discretization has a unique solution."
   ]
  },
  {
   "cell_type": "code",
   "execution_count": 15,
   "metadata": {
    "dotnet_interactive": {
     "language": "csharp"
    }
   },
   "outputs": [],
   "source": [
    "/// tests BoSSScmdSilent\n",
    "Assert.AreEqual(rank, Matrix_SipLaplace.NoOfCols);\n",
    "Assert.Greater(det, 1.0);"
   ]
  },
  {
   "cell_type": "markdown",
   "metadata": {
    "dotnet_interactive": {
     "language": "csharp"
    }
   },
   "source": [
    "## Advanced topics"
   ]
  },
  {
   "cell_type": "markdown",
   "metadata": {
    "dotnet_interactive": {
     "language": "csharp"
    }
   },
   "source": [
    "### The penalty parameter of the SIP and stability in 2D\n",
    "\n",
    "We define a two-dimensional grid:"
   ]
  },
  {
   "cell_type": "code",
   "execution_count": 16,
   "metadata": {
    "dotnet_interactive": {
     "language": "csharp"
    }
   },
   "outputs": [],
   "source": [
    "var grd2D       = Grid2D.Cartesian2DGrid(GenericBlas.Linspace(-1,1,21), \n",
    "                                         GenericBlas.Linspace(-1,1,16));\n",
    "var DGBasisOn2D = new Basis(grd2D, 5);\n",
    "var Mapping2D   = new UnsetteledCoordinateMapping(DGBasisOn2D);"
   ]
  },
  {
   "cell_type": "markdown",
   "metadata": {},
   "source": [
    "We are going to choose the **PenaltySafety** for the **SipLaplace**\n",
    "from the following list"
   ]
  },
  {
   "cell_type": "code",
   "execution_count": 17,
   "metadata": {
    "dotnet_interactive": {
     "language": "csharp"
    }
   },
   "outputs": [],
   "source": [
    "double[] SFs = new double[] \n",
    "      {0.001, 0.002, 0.01, 0.02, 0.1, 0.2, 1, 2, 10, 20, 100};"
   ]
  },
  {
   "cell_type": "markdown",
   "metadata": {},
   "source": [
    "and compute the condition number as well as the determinate.\n",
    "We consider the example \n",
    "$$\n",
    "    -\\Delta u = \\pi^2 (a_x^2 + a_y^2)/4 \\cos(a_x \\pi x/2) \\cos(a_y \\pi y/2) \n",
    "      \\text{ with } \n",
    "      (x,y) \\in (-1,1)^2\n",
    "$$\n",
    "and $u = 0$ on the boundary.\n",
    "The exact solution is $u_{Ex}(x,y) = \\cos(a_x \\pi  x/2) \\cos(a_x \\pi y/2)$, where $a_x$ and $a_y$ must be odd numbers\n",
    "to comply with homogeneous bounary condition."
   ]
  },
  {
   "cell_type": "code",
   "execution_count": 33,
   "metadata": {
    "dotnet_interactive": {
     "language": "csharp"
    }
   },
   "outputs": [],
   "source": [
    "double ax = 5.0; // must be an odd number to comply with homogeneous bounary condition\n",
    "double ay = 3.0; // must be an odd number to comply with homogeneous bounary condition\n",
    "Func<double[], double> exSol = \n",
    "        (X => Math.Cos(X[0]*ax*Math.PI*0.5)*Math.Cos(X[1]*ay*Math.PI*0.5));\n",
    "Func<double[], double> exRhs = \n",
    "        (X => ((ax.Pow2() + ay.Pow2())/4.0)*Math.PI.Pow2()\n",
    "             *Math.Cos( X[0]*ax*Math.PI*0.5 )*Math.Cos( X[1]*ay*Math.PI*0.5 )); // == - /\\ exSol\n",
    "\n",
    "SinglePhaseField RHS = new SinglePhaseField(DGBasisOn2D, \"RHS\");\n",
    "RHS.ProjectField(exRhs);\n",
    "double[] RHSvec = RHS.CoordinateVector.ToArray();"
   ]
  },
  {
   "cell_type": "markdown",
   "metadata": {},
   "source": [
    "We check our discretization once more in 2D; the residual should be low,\n",
    "but not exactly (resp. up to $10^{-12}$) since the solution is not \n",
    "polynomial and cannot be fulfilled exactly."
   ]
  },
  {
   "cell_type": "code",
   "execution_count": 21,
   "metadata": {
    "dotnet_interactive": {
     "language": "csharp"
    }
   },
   "outputs": [
    {
     "name": "stdout",
     "output_type": "stream",
     "text": [
      "Residual L2 norm: 0.596757347773793\r\n"
     ]
    }
   ],
   "source": [
    "SinglePhaseField u = new SinglePhaseField(DGBasisOn2D,\"u\");\n",
    "u.ProjectField(exSol);\n",
    "var Matrix_SIP_sf     = Operator_SipLaplace.ComputeMatrix(Mapping2D,\n",
    "                                                          null,\n",
    "                                                          Mapping2D);\n",
    "SinglePhaseField Residual = new SinglePhaseField(DGBasisOn2D,\"Residual\");\n",
    "Residual.Acc(1.0, RHS);\n",
    "Matrix_SIP_sf.SpMV(-1.0, u.CoordinateVector, 1.0, Residual.CoordinateVector);\n",
    "Console.WriteLine(\"Residual L2 norm: \" + Residual.L2Norm());"
   ]
  },
  {
   "cell_type": "markdown",
   "metadata": {},
   "source": [
    "We also check that the matrix is symmetric:"
   ]
  },
  {
   "cell_type": "code",
   "execution_count": 22,
   "metadata": {
    "dotnet_interactive": {
     "language": "csharp"
    }
   },
   "outputs": [
    {
     "data": {
      "text/html": [
       "<div class=\"dni-plaintext\">5.837641481321043E-10</div>"
      ]
     },
     "execution_count": 22,
     "metadata": {},
     "output_type": "execute_result"
    }
   ],
   "source": [
    "var checkMatrix = Matrix_SIP_sf - Matrix_SIP_sf.Transpose();\n",
    "checkMatrix.InfNorm()"
   ]
  },
  {
   "cell_type": "code",
   "execution_count": 23,
   "metadata": {
    "dotnet_interactive": {
     "language": "csharp"
    }
   },
   "outputs": [],
   "source": [
    "/// tests BoSSScmdSilent\n",
    "Assert.LessOrEqual(checkMatrix.InfNorm(), 1e-8);"
   ]
  },
  {
   "cell_type": "markdown",
   "metadata": {},
   "source": [
    "### Matrix properties for different penalty factors\n",
    "Now, we assemble the matrix of the SIP for different \n",
    "**PenaltySafety**-factors. We also try to solve the linear system\n",
    "using an iterative method.\n",
    "\n",
    " As Matlab is called multiple times during this \n",
    "command, it can take some minutes until it is done."
   ]
  },
  {
   "cell_type": "code",
   "execution_count": 24,
   "metadata": {
    "dotnet_interactive": {
     "language": "csharp"
    }
   },
   "outputs": [
    {
     "name": "stdout",
     "output_type": "stream",
     "text": [
      "0.001\t8.1E04\t13205\t3E-06\tFalse\r\n"
     ]
    }
   ],
   "source": [
    "int cnt     = 0;\n",
    "var Results = new List<(double safetyFactor, double condNumber, int NoOfIterations, double L2errror, bool isDefinite)>();\n",
    "foreach(double sf in SFs) {\n",
    "    cnt++;\n",
    "    i_SipLaplace.PenaltySafety    = sf;\n",
    "    var Matrix_SIP_sf             = Operator_SipLaplace.ComputeMatrix(\n",
    "                                    Mapping2D, null, Mapping2D);\n",
    "    double condNo1                = Matrix_SIP_sf.condest();  \n",
    "    bool definite                 = Matrix_SIP_sf.IsDefinite();\n",
    " \n",
    "    /// We solve the system \n",
    "    /// \n",
    "    ///     Matrix\\_SIP\\_sf \\cdot u =  RHS\n",
    "    /// \n",
    "    /// using a an iterative solver, the so-called \n",
    "    /// conjugate gradient (CG) method.\n",
    "    /// CG requires a positive definite matrix. \n",
    "    /// The function \\code{Solve\\_CG} returns the number of iterations.\n",
    "    SinglePhaseField u = new SinglePhaseField(DGBasisOn2D,\"u\");\n",
    "    u.InitRandom();\n",
    "    int NoOfIter = Matrix_SIP_sf.Solve_CG(u.CoordinateVector, RHSvec);\n",
    " \n",
    "    SinglePhaseField Error = new SinglePhaseField(DGBasisOn2D,\"Error\");\n",
    "    Error.ProjectField(exSol);\n",
    "    Error.Acc(-1.0, u);\n",
    " \n",
    "    double L2err = u.L2Error(exSol);\n",
    " \n",
    "    Console.WriteLine(sf + \"\\t\" + condNo1.ToString(\"0.#E-00\") \n",
    "                         + \"\\t\" + NoOfIter \n",
    "                         + \"\\t\" + L2err.ToString(\"0.#E-00\") \n",
    "                         + \"\\t\" + definite);\n",
    "    Results.Add((sf, condNo1, NoOfIter, L2err, definite));\n",
    "}"
   ]
  },
  {
   "cell_type": "code",
   "execution_count": 25,
   "metadata": {
    "dotnet_interactive": {
     "language": "csharp"
    }
   },
   "outputs": [],
   "source": [
    "/// tests BoSSScmdSilent\n",
    "foreach(var r in Results) {\n",
    "    if(r.safetyFactor >= 1 && r.safetyFactor <= 20) {\n",
    "        Assert.LessOrEqual(r.condNumber, 1e7); // cond No.\n",
    "        Assert.LessOrEqual(r.NoOfIterations, 7000); // iter\n",
    "        Assert.LessOrEqual(r.L2errror, 1e-4); // L2 err\n",
    "        Assert.IsTrue(r.isDefinite); // definite   \n",
    "    }\n",
    "    if(r.Item1 <= 0.1) {\n",
    "        Assert.IsFalse(r.isDefinite); // indefinite   \n",
    "    }\n",
    "}"
   ]
  },
  {
   "cell_type": "markdown",
   "metadata": {},
   "source": [
    "### Plotting\n",
    "Plot the number of conjugate gradient iterations versus the \n",
    "**PenaltySafety**."
   ]
  },
  {
   "cell_type": "code",
   "execution_count": 26,
   "metadata": {
    "dotnet_interactive": {
     "language": "csharp"
    }
   },
   "outputs": [
    {
     "name": "stdout",
     "output_type": "stream",
     "text": [
      "Using gnuplot: C:\\Program Files (x86)\\FDY\\BoSSS\\bin\\native\\win\\gnuplot-gp510-20160418-win32-mingw\\gnuplot\\bin\\gnuplot.exe\n",
      "set key font \",16\"Left reverse \n"
     ]
    },
    {
     "name": "stderr",
     "output_type": "stream",
     "text": [
      "Gnuplot Error: Warning: empty x range [0.001:0.001], adjusting to [0.00099:0.00101]\r\n",
      "Warning: empty y range [13205:13205], adjusting to [13073:13337]\r\n",
      "\r\n"
     ]
    },
    {
     "data": {
      "text/html": [
       "<?xml version=\"1.0\" encoding=\"utf-8\"  standalone=\"no\"?>\n",
       "<!DOCTYPE svg PUBLIC \"-//W3C//DTD SVG 1.1//EN\"\n",
       " \"http://www.w3.org/Graphics/SVG/1.1/DTD/svg11.dtd\">\n",
       "<svg \n",
       " width=\"1024\" height=\"768\"\n",
       " viewBox=\"0 0 1024 768\"\n",
       " xmlns=\"http://www.w3.org/2000/svg\"\n",
       " xmlns:xlink=\"http://www.w3.org/1999/xlink\"\n",
       ">\n",
       "\n",
       "<title>Gnuplot</title>\n",
       "<desc>Produced by GNUPLOT 5.1 patchlevel 0 </desc>\n",
       "\n",
       "<g id=\"gnuplot_canvas\">\n",
       "\n",
       "<rect x=\"0\" y=\"0\" width=\"1024\" height=\"768\" fill=\"#ffffff\"/>\n",
       "<defs>\n",
       "\n",
       "\t<circle id='gpDot' r='0.5' stroke-width='0.5'/>\n",
       "\t<path id='gpPt0' stroke-width='0.222' stroke='currentColor' d='M-1,0 h2 M0,-1 v2'/>\n",
       "\t<path id='gpPt1' stroke-width='0.222' stroke='currentColor' d='M-1,-1 L1,1 M1,-1 L-1,1'/>\n",
       "\t<path id='gpPt2' stroke-width='0.222' stroke='currentColor' d='M-1,0 L1,0 M0,-1 L0,1 M-1,-1 L1,1 M-1,1 L1,-1'/>\n",
       "\t<rect id='gpPt3' stroke-width='0.222' stroke='currentColor' x='-1' y='-1' width='2' height='2'/>\n",
       "\t<rect id='gpPt4' stroke-width='0.222' stroke='currentColor' fill='currentColor' x='-1' y='-1' width='2' height='2'/>\n",
       "\t<circle id='gpPt5' stroke-width='0.222' stroke='currentColor' cx='0' cy='0' r='1'/>\n",
       "\t<use xlink:href='#gpPt5' id='gpPt6' fill='currentColor' stroke='none'/>\n",
       "\t<path id='gpPt7' stroke-width='0.222' stroke='currentColor' d='M0,-1.33 L-1.33,0.67 L1.33,0.67 z'/>\n",
       "\t<use xlink:href='#gpPt7' id='gpPt8' fill='currentColor' stroke='none'/>\n",
       "\t<use xlink:href='#gpPt7' id='gpPt9' stroke='currentColor' transform='rotate(180)'/>\n",
       "\t<use xlink:href='#gpPt9' id='gpPt10' fill='currentColor' stroke='none'/>\n",
       "\t<use xlink:href='#gpPt3' id='gpPt11' stroke='currentColor' transform='rotate(45)'/>\n",
       "\t<use xlink:href='#gpPt11' id='gpPt12' fill='currentColor' stroke='none'/>\n",
       "\t<path id='gpPt13' stroke-width='0.222' stroke='currentColor' d='M0,1.330 L1.265,0.411 L0.782,-1.067 L-0.782,-1.076 L-1.265,0.411 z'/>\n",
       "\t<use xlink:href='#gpPt13' id='gpPt14' fill='currentColor' stroke='none'/>\n",
       "\t<filter id='textbox' filterUnits='objectBoundingBox' x='0' y='0' height='1' width='1'>\n",
       "\t  <feFlood flood-color='#FFFFFF' flood-opacity='1' result='bgnd'/>\n",
       "\t  <feComposite in='SourceGraphic' in2='bgnd' operator='atop'/>\n",
       "\t</filter>\n",
       "\t<filter id='greybox' filterUnits='objectBoundingBox' x='0' y='0' height='1' width='1'>\n",
       "\t  <feFlood flood-color='lightgrey' flood-opacity='1' result='grey'/>\n",
       "\t  <feComposite in='SourceGraphic' in2='grey' operator='atop'/>\n",
       "\t</filter>\n",
       "</defs>\n",
       "<g fill=\"none\" color=\"#FFFFFF\" stroke=\"currentColor\" stroke-width=\"1.00\" stroke-linecap=\"butt\" stroke-linejoin=\"miter\">\n",
       "</g>\n",
       "<g fill=\"none\" color=\"black\" stroke=\"currentColor\" stroke-width=\"1.00\" stroke-linecap=\"butt\" stroke-linejoin=\"miter\">\n",
       "\t<path stroke='black'  d='M70.5,732.0 L79.5,732.0 M974.1,732.0 L965.1,732.0  '/>\t<g transform=\"translate(62.2,736.5)\" stroke=\"none\" fill=\"black\" font-family=\"Arial\" font-size=\"12.00\"  text-anchor=\"end\">\n",
       "\t\t<text><tspan font-family=\"Arial\" > 13050</tspan></text>\n",
       "\t</g>\n",
       "</g>\n",
       "<g fill=\"none\" color=\"black\" stroke=\"currentColor\" stroke-width=\"1.00\" stroke-linecap=\"butt\" stroke-linejoin=\"miter\">\n",
       "\t<path stroke='black'  d='M70.5,616.0 L79.5,616.0 M974.1,616.0 L965.1,616.0  '/>\t<g transform=\"translate(62.2,620.5)\" stroke=\"none\" fill=\"black\" font-family=\"Arial\" font-size=\"12.00\"  text-anchor=\"end\">\n",
       "\t\t<text><tspan font-family=\"Arial\" > 13100</tspan></text>\n",
       "\t</g>\n",
       "</g>\n",
       "<g fill=\"none\" color=\"black\" stroke=\"currentColor\" stroke-width=\"1.00\" stroke-linecap=\"butt\" stroke-linejoin=\"miter\">\n",
       "\t<path stroke='black'  d='M70.5,500.0 L79.5,500.0 M974.1,500.0 L965.1,500.0  '/>\t<g transform=\"translate(62.2,504.5)\" stroke=\"none\" fill=\"black\" font-family=\"Arial\" font-size=\"12.00\"  text-anchor=\"end\">\n",
       "\t\t<text><tspan font-family=\"Arial\" > 13150</tspan></text>\n",
       "\t</g>\n",
       "</g>\n",
       "<g fill=\"none\" color=\"black\" stroke=\"currentColor\" stroke-width=\"1.00\" stroke-linecap=\"butt\" stroke-linejoin=\"miter\">\n",
       "\t<path stroke='black'  d='M70.5,384.1 L79.5,384.1 M974.1,384.1 L965.1,384.1  '/>\t<g transform=\"translate(62.2,388.6)\" stroke=\"none\" fill=\"black\" font-family=\"Arial\" font-size=\"12.00\"  text-anchor=\"end\">\n",
       "\t\t<text><tspan font-family=\"Arial\" > 13200</tspan></text>\n",
       "\t</g>\n",
       "</g>\n",
       "<g fill=\"none\" color=\"black\" stroke=\"currentColor\" stroke-width=\"1.00\" stroke-linecap=\"butt\" stroke-linejoin=\"miter\">\n",
       "\t<path stroke='black'  d='M70.5,268.1 L79.5,268.1 M974.1,268.1 L965.1,268.1  '/>\t<g transform=\"translate(62.2,272.6)\" stroke=\"none\" fill=\"black\" font-family=\"Arial\" font-size=\"12.00\"  text-anchor=\"end\">\n",
       "\t\t<text><tspan font-family=\"Arial\" > 13250</tspan></text>\n",
       "\t</g>\n",
       "</g>\n",
       "<g fill=\"none\" color=\"black\" stroke=\"currentColor\" stroke-width=\"1.00\" stroke-linecap=\"butt\" stroke-linejoin=\"miter\">\n",
       "\t<path stroke='black'  d='M70.5,152.1 L79.5,152.1 M974.1,152.1 L965.1,152.1  '/>\t<g transform=\"translate(62.2,156.6)\" stroke=\"none\" fill=\"black\" font-family=\"Arial\" font-size=\"12.00\"  text-anchor=\"end\">\n",
       "\t\t<text><tspan font-family=\"Arial\" > 13300</tspan></text>\n",
       "\t</g>\n",
       "</g>\n",
       "<g fill=\"none\" color=\"black\" stroke=\"currentColor\" stroke-width=\"1.00\" stroke-linecap=\"butt\" stroke-linejoin=\"miter\">\n",
       "\t<path stroke='black'  d='M70.5,36.1 L79.5,36.1 M974.1,36.1 L965.1,36.1  '/>\t<g transform=\"translate(62.2,40.6)\" stroke=\"none\" fill=\"black\" font-family=\"Arial\" font-size=\"12.00\"  text-anchor=\"end\">\n",
       "\t\t<text><tspan font-family=\"Arial\" > 13350</tspan></text>\n",
       "\t</g>\n",
       "</g>\n",
       "<g fill=\"none\" color=\"black\" stroke=\"currentColor\" stroke-width=\"1.00\" stroke-linecap=\"butt\" stroke-linejoin=\"miter\">\n",
       "\t<path stroke='black'  d='M70.5,732.0 L70.5,723.0 M70.5,36.1 L70.5,45.1  '/>\t<g transform=\"translate(70.5,763.2)\" stroke=\"none\" fill=\"black\" font-family=\"sans\" font-size=\"16.00\"  text-anchor=\"middle\">\n",
       "\t\t<text><tspan font-family=\"sans\" >$10</tspan><tspan font-family=\"sans\"  font-size=\"12.8\" dy=\"-8.00px\">-4</tspan><tspan font-family=\"sans\"  font-size=\"16.0\" dy=\"8.00px\">$</tspan></text>\n",
       "\t</g>\n",
       "</g>\n",
       "<g fill=\"none\" color=\"black\" stroke=\"currentColor\" stroke-width=\"1.00\" stroke-linecap=\"butt\" stroke-linejoin=\"miter\">\n",
       "\t<path stroke='black'  d='M206.5,732.0 L206.5,727.5 M206.5,36.1 L206.5,40.6 M286.1,732.0 L286.1,727.5 M286.1,36.1 L286.1,40.6\n",
       "\t\tM342.5,732.0 L342.5,727.5 M342.5,36.1 L342.5,40.6 M386.3,732.0 L386.3,727.5 M386.3,36.1 L386.3,40.6\n",
       "\t\tM422.1,732.0 L422.1,727.5 M422.1,36.1 L422.1,40.6 M452.3,732.0 L452.3,727.5 M452.3,36.1 L452.3,40.6\n",
       "\t\tM478.5,732.0 L478.5,727.5 M478.5,36.1 L478.5,40.6 M501.6,732.0 L501.6,727.5 M501.6,36.1 L501.6,40.6\n",
       "\t\tM522.3,732.0 L522.3,723.0 M522.3,36.1 L522.3,45.1  '/>\t<g transform=\"translate(522.3,763.2)\" stroke=\"none\" fill=\"black\" font-family=\"sans\" font-size=\"16.00\"  text-anchor=\"middle\">\n",
       "\t\t<text><tspan font-family=\"sans\" >$10</tspan><tspan font-family=\"sans\"  font-size=\"12.8\" dy=\"-8.00px\">-3</tspan><tspan font-family=\"sans\"  font-size=\"16.0\" dy=\"8.00px\">$</tspan></text>\n",
       "\t</g>\n",
       "</g>\n",
       "<g fill=\"none\" color=\"black\" stroke=\"currentColor\" stroke-width=\"1.00\" stroke-linecap=\"butt\" stroke-linejoin=\"miter\">\n",
       "\t<path stroke='black'  d='M658.3,732.0 L658.3,727.5 M658.3,36.1 L658.3,40.6 M737.9,732.0 L737.9,727.5 M737.9,36.1 L737.9,40.6\n",
       "\t\tM794.3,732.0 L794.3,727.5 M794.3,36.1 L794.3,40.6 M838.1,732.0 L838.1,727.5 M838.1,36.1 L838.1,40.6\n",
       "\t\tM873.9,732.0 L873.9,727.5 M873.9,36.1 L873.9,40.6 M904.1,732.0 L904.1,727.5 M904.1,36.1 L904.1,40.6\n",
       "\t\tM930.3,732.0 L930.3,727.5 M930.3,36.1 L930.3,40.6 M953.4,732.0 L953.4,727.5 M953.4,36.1 L953.4,40.6\n",
       "\t\tM974.1,732.0 L974.1,723.0 M974.1,36.1 L974.1,45.1  '/>\t<g transform=\"translate(974.1,763.2)\" stroke=\"none\" fill=\"black\" font-family=\"sans\" font-size=\"16.00\"  text-anchor=\"middle\">\n",
       "\t\t<text><tspan font-family=\"sans\" >$10</tspan><tspan font-family=\"sans\"  font-size=\"12.8\" dy=\"-8.00px\">-2</tspan><tspan font-family=\"sans\"  font-size=\"16.0\" dy=\"8.00px\">$</tspan></text>\n",
       "\t</g>\n",
       "</g>\n",
       "<g fill=\"none\" color=\"black\" stroke=\"currentColor\" stroke-width=\"1.00\" stroke-linecap=\"butt\" stroke-linejoin=\"miter\">\n",
       "\t<path stroke='black'  d='M974.1,732.0 L965.1,732.0  '/>\t<g transform=\"translate(982.4,736.5)\" stroke=\"none\" fill=\"black\" font-family=\"Arial\" font-size=\"12.00\"  text-anchor=\"start\">\n",
       "\t\t<text><tspan font-family=\"Arial\" > </tspan></text>\n",
       "\t</g>\n",
       "</g>\n",
       "<g fill=\"none\" color=\"black\" stroke=\"currentColor\" stroke-width=\"1.00\" stroke-linecap=\"butt\" stroke-linejoin=\"miter\">\n",
       "\t<path stroke='black'  d='M974.1,616.0 L965.1,616.0  '/>\t<g transform=\"translate(982.4,620.5)\" stroke=\"none\" fill=\"black\" font-family=\"Arial\" font-size=\"12.00\"  text-anchor=\"start\">\n",
       "\t\t<text><tspan font-family=\"Arial\" > </tspan></text>\n",
       "\t</g>\n",
       "</g>\n",
       "<g fill=\"none\" color=\"black\" stroke=\"currentColor\" stroke-width=\"1.00\" stroke-linecap=\"butt\" stroke-linejoin=\"miter\">\n",
       "\t<path stroke='black'  d='M974.1,500.0 L965.1,500.0  '/>\t<g transform=\"translate(982.4,504.5)\" stroke=\"none\" fill=\"black\" font-family=\"Arial\" font-size=\"12.00\"  text-anchor=\"start\">\n",
       "\t\t<text><tspan font-family=\"Arial\" > </tspan></text>\n",
       "\t</g>\n",
       "</g>\n",
       "<g fill=\"none\" color=\"black\" stroke=\"currentColor\" stroke-width=\"1.00\" stroke-linecap=\"butt\" stroke-linejoin=\"miter\">\n",
       "\t<path stroke='black'  d='M974.1,384.1 L965.1,384.1  '/>\t<g transform=\"translate(982.4,388.6)\" stroke=\"none\" fill=\"black\" font-family=\"Arial\" font-size=\"12.00\"  text-anchor=\"start\">\n",
       "\t\t<text><tspan font-family=\"Arial\" > </tspan></text>\n",
       "\t</g>\n",
       "</g>\n",
       "<g fill=\"none\" color=\"black\" stroke=\"currentColor\" stroke-width=\"1.00\" stroke-linecap=\"butt\" stroke-linejoin=\"miter\">\n",
       "\t<path stroke='black'  d='M974.1,268.1 L965.1,268.1  '/>\t<g transform=\"translate(982.4,272.6)\" stroke=\"none\" fill=\"black\" font-family=\"Arial\" font-size=\"12.00\"  text-anchor=\"start\">\n",
       "\t\t<text><tspan font-family=\"Arial\" > </tspan></text>\n",
       "\t</g>\n",
       "</g>\n",
       "<g fill=\"none\" color=\"black\" stroke=\"currentColor\" stroke-width=\"1.00\" stroke-linecap=\"butt\" stroke-linejoin=\"miter\">\n",
       "\t<path stroke='black'  d='M974.1,152.1 L965.1,152.1  '/>\t<g transform=\"translate(982.4,156.6)\" stroke=\"none\" fill=\"black\" font-family=\"Arial\" font-size=\"12.00\"  text-anchor=\"start\">\n",
       "\t\t<text><tspan font-family=\"Arial\" > </tspan></text>\n",
       "\t</g>\n",
       "</g>\n",
       "<g fill=\"none\" color=\"black\" stroke=\"currentColor\" stroke-width=\"1.00\" stroke-linecap=\"butt\" stroke-linejoin=\"miter\">\n",
       "\t<path stroke='black'  d='M974.1,36.1 L965.1,36.1  '/>\t<g transform=\"translate(982.4,40.6)\" stroke=\"none\" fill=\"black\" font-family=\"Arial\" font-size=\"12.00\"  text-anchor=\"start\">\n",
       "\t\t<text><tspan font-family=\"Arial\" > </tspan></text>\n",
       "\t</g>\n",
       "</g>\n",
       "<g fill=\"none\" color=\"black\" stroke=\"currentColor\" stroke-width=\"1.00\" stroke-linecap=\"butt\" stroke-linejoin=\"miter\">\n",
       "\t<path stroke='black'  d='M70.5,36.1 L70.5,45.1  '/>\t<g transform=\"translate(70.5,22.6)\" stroke=\"none\" fill=\"black\" font-family=\"Arial\" font-size=\"12.00\"  text-anchor=\"middle\">\n",
       "\t\t<text><tspan font-family=\"Arial\" > </tspan></text>\n",
       "\t</g>\n",
       "</g>\n",
       "<g fill=\"none\" color=\"black\" stroke=\"currentColor\" stroke-width=\"1.00\" stroke-linecap=\"butt\" stroke-linejoin=\"miter\">\n",
       "\t<path stroke='black'  d='M160.9,36.1 L160.9,45.1  '/>\t<g transform=\"translate(160.9,22.6)\" stroke=\"none\" fill=\"black\" font-family=\"Arial\" font-size=\"12.00\"  text-anchor=\"middle\">\n",
       "\t\t<text><tspan font-family=\"Arial\" > </tspan></text>\n",
       "\t</g>\n",
       "</g>\n",
       "<g fill=\"none\" color=\"black\" stroke=\"currentColor\" stroke-width=\"1.00\" stroke-linecap=\"butt\" stroke-linejoin=\"miter\">\n",
       "\t<path stroke='black'  d='M251.2,36.1 L251.2,45.1  '/>\t<g transform=\"translate(251.2,22.6)\" stroke=\"none\" fill=\"black\" font-family=\"Arial\" font-size=\"12.00\"  text-anchor=\"middle\">\n",
       "\t\t<text><tspan font-family=\"Arial\" > </tspan></text>\n",
       "\t</g>\n",
       "</g>\n",
       "<g fill=\"none\" color=\"black\" stroke=\"currentColor\" stroke-width=\"1.00\" stroke-linecap=\"butt\" stroke-linejoin=\"miter\">\n",
       "\t<path stroke='black'  d='M341.6,36.1 L341.6,45.1  '/>\t<g transform=\"translate(341.6,22.6)\" stroke=\"none\" fill=\"black\" font-family=\"Arial\" font-size=\"12.00\"  text-anchor=\"middle\">\n",
       "\t\t<text><tspan font-family=\"Arial\" > </tspan></text>\n",
       "\t</g>\n",
       "</g>\n",
       "<g fill=\"none\" color=\"black\" stroke=\"currentColor\" stroke-width=\"1.00\" stroke-linecap=\"butt\" stroke-linejoin=\"miter\">\n",
       "\t<path stroke='black'  d='M431.9,36.1 L431.9,45.1  '/>\t<g transform=\"translate(431.9,22.6)\" stroke=\"none\" fill=\"black\" font-family=\"Arial\" font-size=\"12.00\"  text-anchor=\"middle\">\n",
       "\t\t<text><tspan font-family=\"Arial\" > </tspan></text>\n",
       "\t</g>\n",
       "</g>\n",
       "<g fill=\"none\" color=\"black\" stroke=\"currentColor\" stroke-width=\"1.00\" stroke-linecap=\"butt\" stroke-linejoin=\"miter\">\n",
       "\t<path stroke='black'  d='M522.3,36.1 L522.3,45.1  '/>\t<g transform=\"translate(522.3,22.6)\" stroke=\"none\" fill=\"black\" font-family=\"Arial\" font-size=\"12.00\"  text-anchor=\"middle\">\n",
       "\t\t<text><tspan font-family=\"Arial\" > </tspan></text>\n",
       "\t</g>\n",
       "</g>\n",
       "<g fill=\"none\" color=\"black\" stroke=\"currentColor\" stroke-width=\"1.00\" stroke-linecap=\"butt\" stroke-linejoin=\"miter\">\n",
       "\t<path stroke='black'  d='M612.7,36.1 L612.7,45.1  '/>\t<g transform=\"translate(612.7,22.6)\" stroke=\"none\" fill=\"black\" font-family=\"Arial\" font-size=\"12.00\"  text-anchor=\"middle\">\n",
       "\t\t<text><tspan font-family=\"Arial\" > </tspan></text>\n",
       "\t</g>\n",
       "</g>\n",
       "<g fill=\"none\" color=\"black\" stroke=\"currentColor\" stroke-width=\"1.00\" stroke-linecap=\"butt\" stroke-linejoin=\"miter\">\n",
       "\t<path stroke='black'  d='M703.0,36.1 L703.0,45.1  '/>\t<g transform=\"translate(703.0,22.6)\" stroke=\"none\" fill=\"black\" font-family=\"Arial\" font-size=\"12.00\"  text-anchor=\"middle\">\n",
       "\t\t<text><tspan font-family=\"Arial\" > </tspan></text>\n",
       "\t</g>\n",
       "</g>\n",
       "<g fill=\"none\" color=\"black\" stroke=\"currentColor\" stroke-width=\"1.00\" stroke-linecap=\"butt\" stroke-linejoin=\"miter\">\n",
       "\t<path stroke='black'  d='M793.4,36.1 L793.4,45.1  '/>\t<g transform=\"translate(793.4,22.6)\" stroke=\"none\" fill=\"black\" font-family=\"Arial\" font-size=\"12.00\"  text-anchor=\"middle\">\n",
       "\t\t<text><tspan font-family=\"Arial\" > </tspan></text>\n",
       "\t</g>\n",
       "</g>\n",
       "<g fill=\"none\" color=\"black\" stroke=\"currentColor\" stroke-width=\"1.00\" stroke-linecap=\"butt\" stroke-linejoin=\"miter\">\n",
       "\t<path stroke='black'  d='M883.7,36.1 L883.7,45.1  '/>\t<g transform=\"translate(883.7,22.6)\" stroke=\"none\" fill=\"black\" font-family=\"Arial\" font-size=\"12.00\"  text-anchor=\"middle\">\n",
       "\t\t<text><tspan font-family=\"Arial\" > </tspan></text>\n",
       "\t</g>\n",
       "</g>\n",
       "<g fill=\"none\" color=\"black\" stroke=\"currentColor\" stroke-width=\"1.00\" stroke-linecap=\"butt\" stroke-linejoin=\"miter\">\n",
       "\t<path stroke='black'  d='M974.1,36.1 L974.1,45.1  '/>\t<g transform=\"translate(974.1,22.6)\" stroke=\"none\" fill=\"black\" font-family=\"Arial\" font-size=\"12.00\"  text-anchor=\"middle\">\n",
       "\t\t<text><tspan font-family=\"Arial\" > </tspan></text>\n",
       "\t</g>\n",
       "</g>\n",
       "<g fill=\"none\" color=\"black\" stroke=\"currentColor\" stroke-width=\"1.00\" stroke-linecap=\"butt\" stroke-linejoin=\"miter\">\n",
       "</g>\n",
       "<g fill=\"none\" color=\"black\" stroke=\"currentColor\" stroke-width=\"1.00\" stroke-linecap=\"butt\" stroke-linejoin=\"miter\">\n",
       "\t<path stroke='black'  d='M70.5,36.1 L70.5,732.0 L974.1,732.0 L974.1,36.1 L70.5,36.1 Z  '/></g>\n",
       "<g fill=\"none\" color=\"black\" stroke=\"currentColor\" stroke-width=\"1.00\" stroke-linecap=\"butt\" stroke-linejoin=\"miter\">\n",
       "</g>\n",
       "\t<g id=\"gnuplot_plot_1\" ><title>gnuplot_plot_1</title>\n",
       "<g fill=\"none\" color=\"black\" stroke=\"currentColor\" stroke-width=\"1.00\" stroke-linecap=\"butt\" stroke-linejoin=\"miter\">\n",
       "\t<path stroke='rgb(  0,   0, 255)' stroke-dasharray='4.0,2.0,1.0,2.0'  d='M522.3,372.5  '/>\t<use xlink:href='#gpPt5' transform='translate(522.3,372.5) scale(9.00)' color='rgb(  0,   0, 255)'/>\n",
       "</g>\n",
       "\t</g>\n",
       "<g fill=\"none\" color=\"#FFFFFF\" stroke=\"rgb(  0,   0, 255)\" stroke-width=\"2.00\" stroke-linecap=\"butt\" stroke-linejoin=\"miter\">\n",
       "</g>\n",
       "<g fill=\"none\" color=\"black\" stroke=\"currentColor\" stroke-width=\"2.00\" stroke-linecap=\"butt\" stroke-linejoin=\"miter\">\n",
       "</g>\n",
       "<g fill=\"none\" color=\"black\" stroke=\"black\" stroke-width=\"1.00\" stroke-linecap=\"butt\" stroke-linejoin=\"miter\">\n",
       "</g>\n",
       "<g fill=\"none\" color=\"black\" stroke=\"currentColor\" stroke-width=\"1.00\" stroke-linecap=\"butt\" stroke-linejoin=\"miter\">\n",
       "\t<path stroke='black'  d='M70.5,36.1 L70.5,732.0 L974.1,732.0 L974.1,36.1 L70.5,36.1 Z  '/></g>\n",
       "<g fill=\"none\" color=\"black\" stroke=\"currentColor\" stroke-width=\"1.00\" stroke-linecap=\"butt\" stroke-linejoin=\"miter\">\n",
       "</g>\n",
       "</g>\n",
       "</svg>\n",
       "\n"
      ]
     },
     "execution_count": 26,
     "metadata": {},
     "output_type": "execute_result"
    }
   ],
   "source": [
    "var xValues = Results.Select(r => r.safetyFactor).ToArray();\n",
    "var yValues = Results.Select(r => ((double)(r.NoOfIterations))).ToArray();\n",
    "\n",
    "var plt = new Plot2Ddata();\n",
    "plt.AddDataGroup(xValues, yValues);\n",
    "\n",
    "/// A logarithmic scale is used for the horizontal axis.\n",
    "plt.LogX = true;\n",
    "\n",
    "/// Set Format\n",
    "plt.dataGroups[0].Format =  new PlotFormat(lineColor: LineColors.Blue, \n",
    "                                           pointSize: 2, \n",
    "                                           dashType: DashTypes.DotDashed, \n",
    "                                           Style: Styles.LinesPoints, \n",
    "                                           pointType:PointTypes.OpenCircle);\n",
    "// Show!\n",
    "plt.PlotNow()"
   ]
  },
  {
   "cell_type": "markdown",
   "metadata": {},
   "source": [
    "### Convergence study, indefinite vs. definite.\n",
    "We are going to solve the SIP-system for different grid resolutions,\n",
    "comparing an insufficient penalty to a penalty which is large enough."
   ]
  },
  {
   "cell_type": "code",
   "execution_count": 27,
   "metadata": {
    "dotnet_interactive": {
     "language": "csharp"
    }
   },
   "outputs": [
    {
     "name": "stdout",
     "output_type": "stream",
     "text": [
      "9.9E-01\t1.7E-01\n",
      "2.3E-02\t1.8E-02\n",
      "3.7E-03\t1.6E-03\n",
      "5.2E-04\t1.6E-04\n"
     ]
    }
   ],
   "source": [
    "double[] Resolution = new double[] { 8, 16, 32, 64 };\n",
    "List<double> L2Error_indef  = new List<double>();\n",
    "List<double> L2Error_posdef = new List<double>();\n",
    "foreach(int Res in Resolution) {\n",
    "    //var grd2D = Grid2D.UnstructuredTriangleGrid(GenericBlas.Linspace(-1,1,(int)Res + 1), \n",
    "    //                                            GenericBlas.Linspace(-1,1,(int)Res + 1));\n",
    "    var grd2D = Grid2D.Cartesian2DGrid(GenericBlas.Linspace(-1,1,(int)Res + 1), \n",
    "                                      GenericBlas.Linspace(-1,1,(int)Res + 1));\n",
    "    var gdata2D = new GridData(grd2D);\n",
    "    var DGBasisOn2D = new Basis(gdata2D, 2);\n",
    "    var Mapping2D  = new UnsetteledCoordinateMapping(DGBasisOn2D);\n",
    " \n",
    "    SinglePhaseField RHS = new SinglePhaseField(DGBasisOn2D, \"RHS\");\n",
    "    RHS.ProjectField(exRhs);\n",
    "    SinglePhaseField uEx = new SinglePhaseField(\n",
    "           new Basis(gdata2D, DGBasisOn2D.Degree*2),\n",
    "           \"Error\");\n",
    "    uEx.ProjectField(exSol);\n",
    " \n",
    " \n",
    "    i_SipLaplace.PenaltySafety    = 0.01;\n",
    "    var Matrix_SIP_indef          = Operator_SipLaplace.ComputeMatrix(\n",
    "                                    Mapping2D,null,Mapping2D);\n",
    " \n",
    "    SinglePhaseField u_indef = new SinglePhaseField(DGBasisOn2D,\"u\");\n",
    "    Matrix_SIP_indef.Solve_Direct(u_indef.CoordinateVector, \n",
    "                                  RHS.CoordinateVector);\n",
    "    var Error_indef = uEx.CloneAs();\n",
    "    Error_indef.AccLaidBack(-1.0, u_indef);\n",
    "    L2Error_indef.Add(Error_indef.L2Norm());\n",
    " \n",
    "    /// In order to have a positive definite system, we are\n",
    "    /// using  PenaltySafety = 2!\n",
    "    i_SipLaplace.PenaltySafety    = 2.0;\n",
    "    var Matrix_SIP_posdef         = Operator_SipLaplace.ComputeMatrix(\n",
    "                                    Mapping2D,null,Mapping2D);\n",
    " \n",
    "    SinglePhaseField u_posdef = new SinglePhaseField(DGBasisOn2D,\"u\");\n",
    "    Matrix_SIP_posdef.Solve_Direct(u_posdef.CoordinateVector, \n",
    "                                   RHS.CoordinateVector);\n",
    "    var Error_posdef = uEx.CloneAs();\n",
    "    Error_posdef.AccLaidBack(-1.0, u_posdef);\n",
    "    L2Error_posdef.Add(Error_posdef.L2Norm());\n",
    " \n",
    "    Console.WriteLine(L2Error_indef.Last().ToString(\"0.#E-00\") \n",
    "                      + \"\\t\" + L2Error_posdef.Last().ToString(\"0.#E-00\"));\n",
    "}"
   ]
  },
  {
   "cell_type": "markdown",
   "metadata": {},
   "source": [
    "### Convergence plot\n",
    "The convergence plot should unveil that there is something wrong if the\n",
    "penalty factor is set too low.\n",
    "Unfortunately, it does not.\n",
    "\n",
    "~~While the solution of the indefinite system may look right at the first\n",
    "glance, we see that we do not obtain grid convergence for \n",
    "*Error\\_indef*.~~\n",
    "\n",
    "The error of the positive definite system, *Error\\_posdef*, where the \n",
    "penalty is chosen sufficiently large converges with the expected \n",
    "rate."
   ]
  },
  {
   "cell_type": "code",
   "execution_count": 34,
   "metadata": {
    "dotnet_interactive": {
     "language": "csharp"
    }
   },
   "outputs": [
    {
     "name": "stdout",
     "output_type": "stream",
     "text": [
      "Using gnuplot: C:\\Program Files (x86)\\FDY\\BoSSS\\bin\\native\\win\\gnuplot-gp510-20160418-win32-mingw\\gnuplot\\bin\\gnuplot.exe\n",
      "set key font \",16\"Left reverse \n"
     ]
    },
    {
     "data": {
      "text/html": [
       "<?xml version=\"1.0\" encoding=\"utf-8\"  standalone=\"no\"?>\n",
       "<!DOCTYPE svg PUBLIC \"-//W3C//DTD SVG 1.1//EN\"\n",
       " \"http://www.w3.org/Graphics/SVG/1.1/DTD/svg11.dtd\">\n",
       "<svg \n",
       " width=\"1024\" height=\"768\"\n",
       " viewBox=\"0 0 1024 768\"\n",
       " xmlns=\"http://www.w3.org/2000/svg\"\n",
       " xmlns:xlink=\"http://www.w3.org/1999/xlink\"\n",
       ">\n",
       "\n",
       "<title>Gnuplot</title>\n",
       "<desc>Produced by GNUPLOT 5.1 patchlevel 0 </desc>\n",
       "\n",
       "<g id=\"gnuplot_canvas\">\n",
       "\n",
       "<rect x=\"0\" y=\"0\" width=\"1024\" height=\"768\" fill=\"#ffffff\"/>\n",
       "<defs>\n",
       "\n",
       "\t<circle id='gpDot' r='0.5' stroke-width='0.5'/>\n",
       "\t<path id='gpPt0' stroke-width='0.222' stroke='currentColor' d='M-1,0 h2 M0,-1 v2'/>\n",
       "\t<path id='gpPt1' stroke-width='0.222' stroke='currentColor' d='M-1,-1 L1,1 M1,-1 L-1,1'/>\n",
       "\t<path id='gpPt2' stroke-width='0.222' stroke='currentColor' d='M-1,0 L1,0 M0,-1 L0,1 M-1,-1 L1,1 M-1,1 L1,-1'/>\n",
       "\t<rect id='gpPt3' stroke-width='0.222' stroke='currentColor' x='-1' y='-1' width='2' height='2'/>\n",
       "\t<rect id='gpPt4' stroke-width='0.222' stroke='currentColor' fill='currentColor' x='-1' y='-1' width='2' height='2'/>\n",
       "\t<circle id='gpPt5' stroke-width='0.222' stroke='currentColor' cx='0' cy='0' r='1'/>\n",
       "\t<use xlink:href='#gpPt5' id='gpPt6' fill='currentColor' stroke='none'/>\n",
       "\t<path id='gpPt7' stroke-width='0.222' stroke='currentColor' d='M0,-1.33 L-1.33,0.67 L1.33,0.67 z'/>\n",
       "\t<use xlink:href='#gpPt7' id='gpPt8' fill='currentColor' stroke='none'/>\n",
       "\t<use xlink:href='#gpPt7' id='gpPt9' stroke='currentColor' transform='rotate(180)'/>\n",
       "\t<use xlink:href='#gpPt9' id='gpPt10' fill='currentColor' stroke='none'/>\n",
       "\t<use xlink:href='#gpPt3' id='gpPt11' stroke='currentColor' transform='rotate(45)'/>\n",
       "\t<use xlink:href='#gpPt11' id='gpPt12' fill='currentColor' stroke='none'/>\n",
       "\t<path id='gpPt13' stroke-width='0.222' stroke='currentColor' d='M0,1.330 L1.265,0.411 L0.782,-1.067 L-0.782,-1.076 L-1.265,0.411 z'/>\n",
       "\t<use xlink:href='#gpPt13' id='gpPt14' fill='currentColor' stroke='none'/>\n",
       "\t<filter id='textbox' filterUnits='objectBoundingBox' x='0' y='0' height='1' width='1'>\n",
       "\t  <feFlood flood-color='#FFFFFF' flood-opacity='1' result='bgnd'/>\n",
       "\t  <feComposite in='SourceGraphic' in2='bgnd' operator='atop'/>\n",
       "\t</filter>\n",
       "\t<filter id='greybox' filterUnits='objectBoundingBox' x='0' y='0' height='1' width='1'>\n",
       "\t  <feFlood flood-color='lightgrey' flood-opacity='1' result='grey'/>\n",
       "\t  <feComposite in='SourceGraphic' in2='grey' operator='atop'/>\n",
       "\t</filter>\n",
       "</defs>\n",
       "<g fill=\"none\" color=\"#FFFFFF\" stroke=\"currentColor\" stroke-width=\"1.00\" stroke-linecap=\"butt\" stroke-linejoin=\"miter\">\n",
       "</g>\n",
       "<g fill=\"none\" color=\"black\" stroke=\"currentColor\" stroke-width=\"1.00\" stroke-linecap=\"butt\" stroke-linejoin=\"miter\">\n",
       "\t<path stroke='black'  d='M62.2,732.0 L71.2,732.0 M974.1,732.0 L965.1,732.0  '/>\t<g transform=\"translate(53.9,738.0)\" stroke=\"none\" fill=\"black\" font-family=\"sans\" font-size=\"16.00\"  text-anchor=\"end\">\n",
       "\t\t<text><tspan font-family=\"sans\" >$10</tspan><tspan font-family=\"sans\"  font-size=\"12.8\" dy=\"-8.00px\">-4</tspan><tspan font-family=\"sans\"  font-size=\"16.0\" dy=\"8.00px\">$</tspan></text>\n",
       "\t</g>\n",
       "</g>\n",
       "<g fill=\"none\" color=\"black\" stroke=\"currentColor\" stroke-width=\"1.00\" stroke-linecap=\"butt\" stroke-linejoin=\"miter\">\n",
       "\t<path stroke='black'  d='M62.2,679.6 L66.7,679.6 M974.1,679.6 L969.6,679.6 M62.2,649.0 L66.7,649.0 M974.1,649.0 L969.6,649.0\n",
       "\t\tM62.2,627.3 L66.7,627.3 M974.1,627.3 L969.6,627.3 M62.2,610.4 L66.7,610.4 M974.1,610.4 L969.6,610.4\n",
       "\t\tM62.2,596.6 L66.7,596.6 M974.1,596.6 L969.6,596.6 M62.2,585.0 L66.7,585.0 M974.1,585.0 L969.6,585.0\n",
       "\t\tM62.2,574.9 L66.7,574.9 M974.1,574.9 L969.6,574.9 M62.2,566.0 L66.7,566.0 M974.1,566.0 L969.6,566.0\n",
       "\t\tM62.2,558.0 L71.2,558.0 M974.1,558.0 L965.1,558.0  '/>\t<g transform=\"translate(53.9,564.0)\" stroke=\"none\" fill=\"black\" font-family=\"sans\" font-size=\"16.00\"  text-anchor=\"end\">\n",
       "\t\t<text><tspan font-family=\"sans\" >$10</tspan><tspan font-family=\"sans\"  font-size=\"12.8\" dy=\"-8.00px\">-3</tspan><tspan font-family=\"sans\"  font-size=\"16.0\" dy=\"8.00px\">$</tspan></text>\n",
       "\t</g>\n",
       "</g>\n",
       "<g fill=\"none\" color=\"black\" stroke=\"currentColor\" stroke-width=\"1.00\" stroke-linecap=\"butt\" stroke-linejoin=\"miter\">\n",
       "\t<path stroke='black'  d='M62.2,505.7 L66.7,505.7 M974.1,505.7 L969.6,505.7 M62.2,475.0 L66.7,475.0 M974.1,475.0 L969.6,475.0\n",
       "\t\tM62.2,453.3 L66.7,453.3 M974.1,453.3 L969.6,453.3 M62.2,436.4 L66.7,436.4 M974.1,436.4 L969.6,436.4\n",
       "\t\tM62.2,422.6 L66.7,422.6 M974.1,422.6 L969.6,422.6 M62.2,411.0 L66.7,411.0 M974.1,411.0 L969.6,411.0\n",
       "\t\tM62.2,400.9 L66.7,400.9 M974.1,400.9 L969.6,400.9 M62.2,392.0 L66.7,392.0 M974.1,392.0 L969.6,392.0\n",
       "\t\tM62.2,384.0 L71.2,384.0 M974.1,384.0 L965.1,384.0  '/>\t<g transform=\"translate(53.9,390.0)\" stroke=\"none\" fill=\"black\" font-family=\"sans\" font-size=\"16.00\"  text-anchor=\"end\">\n",
       "\t\t<text><tspan font-family=\"sans\" >$10</tspan><tspan font-family=\"sans\"  font-size=\"12.8\" dy=\"-8.00px\">-2</tspan><tspan font-family=\"sans\"  font-size=\"16.0\" dy=\"8.00px\">$</tspan></text>\n",
       "\t</g>\n",
       "</g>\n",
       "<g fill=\"none\" color=\"black\" stroke=\"currentColor\" stroke-width=\"1.00\" stroke-linecap=\"butt\" stroke-linejoin=\"miter\">\n",
       "\t<path stroke='black'  d='M62.2,331.7 L66.7,331.7 M974.1,331.7 L969.6,331.7 M62.2,301.0 L66.7,301.0 M974.1,301.0 L969.6,301.0\n",
       "\t\tM62.2,279.3 L66.7,279.3 M974.1,279.3 L969.6,279.3 M62.2,262.4 L66.7,262.4 M974.1,262.4 L969.6,262.4\n",
       "\t\tM62.2,248.7 L66.7,248.7 M974.1,248.7 L969.6,248.7 M62.2,237.0 L66.7,237.0 M974.1,237.0 L969.6,237.0\n",
       "\t\tM62.2,226.9 L66.7,226.9 M974.1,226.9 L969.6,226.9 M62.2,218.0 L66.7,218.0 M974.1,218.0 L969.6,218.0\n",
       "\t\tM62.2,210.1 L71.2,210.1 M974.1,210.1 L965.1,210.1  '/>\t<g transform=\"translate(53.9,216.1)\" stroke=\"none\" fill=\"black\" font-family=\"sans\" font-size=\"16.00\"  text-anchor=\"end\">\n",
       "\t\t<text><tspan font-family=\"sans\" >$10</tspan><tspan font-family=\"sans\"  font-size=\"12.8\" dy=\"-8.00px\">-1</tspan><tspan font-family=\"sans\"  font-size=\"16.0\" dy=\"8.00px\">$</tspan></text>\n",
       "\t</g>\n",
       "</g>\n",
       "<g fill=\"none\" color=\"black\" stroke=\"currentColor\" stroke-width=\"1.00\" stroke-linecap=\"butt\" stroke-linejoin=\"miter\">\n",
       "\t<path stroke='black'  d='M62.2,157.7 L66.7,157.7 M974.1,157.7 L969.6,157.7 M62.2,127.1 L66.7,127.1 M974.1,127.1 L969.6,127.1\n",
       "\t\tM62.2,105.3 L66.7,105.3 M974.1,105.3 L969.6,105.3 M62.2,88.5 L66.7,88.5 M974.1,88.5 L969.6,88.5\n",
       "\t\tM62.2,74.7 L66.7,74.7 M974.1,74.7 L969.6,74.7 M62.2,63.0 L66.7,63.0 M974.1,63.0 L969.6,63.0\n",
       "\t\tM62.2,53.0 L66.7,53.0 M974.1,53.0 L969.6,53.0 M62.2,44.1 L66.7,44.1 M974.1,44.1 L969.6,44.1\n",
       "\t\tM62.2,36.1 L71.2,36.1 M974.1,36.1 L965.1,36.1  '/>\t<g transform=\"translate(53.9,42.1)\" stroke=\"none\" fill=\"black\" font-family=\"sans\" font-size=\"16.00\"  text-anchor=\"end\">\n",
       "\t\t<text><tspan font-family=\"sans\" >$10</tspan><tspan font-family=\"sans\"  font-size=\"12.8\" dy=\"-8.00px\">0</tspan><tspan font-family=\"sans\"  font-size=\"16.0\" dy=\"8.00px\">$</tspan></text>\n",
       "\t</g>\n",
       "</g>\n",
       "<g fill=\"none\" color=\"black\" stroke=\"currentColor\" stroke-width=\"1.00\" stroke-linecap=\"butt\" stroke-linejoin=\"miter\">\n",
       "\t<path stroke='black'  d='M62.2,732.0 L62.2,723.0 M62.2,36.1 L62.2,45.1  '/>\t<g transform=\"translate(62.2,763.2)\" stroke=\"none\" fill=\"black\" font-family=\"sans\" font-size=\"16.00\"  text-anchor=\"middle\">\n",
       "\t\t<text><tspan font-family=\"sans\" >$10</tspan><tspan font-family=\"sans\"  font-size=\"12.8\" dy=\"-8.00px\">0</tspan><tspan font-family=\"sans\"  font-size=\"16.0\" dy=\"8.00px\">$</tspan></text>\n",
       "\t</g>\n",
       "</g>\n",
       "<g fill=\"none\" color=\"black\" stroke=\"currentColor\" stroke-width=\"1.00\" stroke-linecap=\"butt\" stroke-linejoin=\"miter\">\n",
       "\t<path stroke='black'  d='M199.5,732.0 L199.5,727.5 M199.5,36.1 L199.5,40.6 M279.7,732.0 L279.7,727.5 M279.7,36.1 L279.7,40.6\n",
       "\t\tM336.7,732.0 L336.7,727.5 M336.7,36.1 L336.7,40.6 M380.9,732.0 L380.9,727.5 M380.9,36.1 L380.9,40.6\n",
       "\t\tM417.0,732.0 L417.0,727.5 M417.0,36.1 L417.0,40.6 M447.5,732.0 L447.5,727.5 M447.5,36.1 L447.5,40.6\n",
       "\t\tM474.0,732.0 L474.0,727.5 M474.0,36.1 L474.0,40.6 M497.3,732.0 L497.3,727.5 M497.3,36.1 L497.3,40.6\n",
       "\t\tM518.2,732.0 L518.2,723.0 M518.2,36.1 L518.2,45.1  '/>\t<g transform=\"translate(518.2,763.2)\" stroke=\"none\" fill=\"black\" font-family=\"sans\" font-size=\"16.00\"  text-anchor=\"middle\">\n",
       "\t\t<text><tspan font-family=\"sans\" >$10</tspan><tspan font-family=\"sans\"  font-size=\"12.8\" dy=\"-8.00px\">1</tspan><tspan font-family=\"sans\"  font-size=\"16.0\" dy=\"8.00px\">$</tspan></text>\n",
       "\t</g>\n",
       "</g>\n",
       "<g fill=\"none\" color=\"black\" stroke=\"currentColor\" stroke-width=\"1.00\" stroke-linecap=\"butt\" stroke-linejoin=\"miter\">\n",
       "\t<path stroke='black'  d='M655.4,732.0 L655.4,727.5 M655.4,36.1 L655.4,40.6 M735.7,732.0 L735.7,727.5 M735.7,36.1 L735.7,40.6\n",
       "\t\tM792.7,732.0 L792.7,727.5 M792.7,36.1 L792.7,40.6 M836.8,732.0 L836.8,727.5 M836.8,36.1 L836.8,40.6\n",
       "\t\tM872.9,732.0 L872.9,727.5 M872.9,36.1 L872.9,40.6 M903.5,732.0 L903.5,727.5 M903.5,36.1 L903.5,40.6\n",
       "\t\tM929.9,732.0 L929.9,727.5 M929.9,36.1 L929.9,40.6 M953.2,732.0 L953.2,727.5 M953.2,36.1 L953.2,40.6\n",
       "\t\tM974.1,732.0 L974.1,723.0 M974.1,36.1 L974.1,45.1  '/>\t<g transform=\"translate(974.1,763.2)\" stroke=\"none\" fill=\"black\" font-family=\"sans\" font-size=\"16.00\"  text-anchor=\"middle\">\n",
       "\t\t<text><tspan font-family=\"sans\" >$10</tspan><tspan font-family=\"sans\"  font-size=\"12.8\" dy=\"-8.00px\">2</tspan><tspan font-family=\"sans\"  font-size=\"16.0\" dy=\"8.00px\">$</tspan></text>\n",
       "\t</g>\n",
       "</g>\n",
       "<g fill=\"none\" color=\"black\" stroke=\"currentColor\" stroke-width=\"1.00\" stroke-linecap=\"butt\" stroke-linejoin=\"miter\">\n",
       "\t<path stroke='black'  d='M974.1,732.0 L965.1,732.0  '/>\t<g transform=\"translate(982.4,736.5)\" stroke=\"none\" fill=\"black\" font-family=\"Arial\" font-size=\"12.00\"  text-anchor=\"start\">\n",
       "\t\t<text><tspan font-family=\"Arial\" > </tspan></text>\n",
       "\t</g>\n",
       "</g>\n",
       "<g fill=\"none\" color=\"black\" stroke=\"currentColor\" stroke-width=\"1.00\" stroke-linecap=\"butt\" stroke-linejoin=\"miter\">\n",
       "\t<path stroke='black'  d='M974.1,645.0 L965.1,645.0  '/>\t<g transform=\"translate(982.4,649.5)\" stroke=\"none\" fill=\"black\" font-family=\"Arial\" font-size=\"12.00\"  text-anchor=\"start\">\n",
       "\t\t<text><tspan font-family=\"Arial\" > </tspan></text>\n",
       "\t</g>\n",
       "</g>\n",
       "<g fill=\"none\" color=\"black\" stroke=\"currentColor\" stroke-width=\"1.00\" stroke-linecap=\"butt\" stroke-linejoin=\"miter\">\n",
       "\t<path stroke='black'  d='M974.1,558.0 L965.1,558.0  '/>\t<g transform=\"translate(982.4,562.5)\" stroke=\"none\" fill=\"black\" font-family=\"Arial\" font-size=\"12.00\"  text-anchor=\"start\">\n",
       "\t\t<text><tspan font-family=\"Arial\" > </tspan></text>\n",
       "\t</g>\n",
       "</g>\n",
       "<g fill=\"none\" color=\"black\" stroke=\"currentColor\" stroke-width=\"1.00\" stroke-linecap=\"butt\" stroke-linejoin=\"miter\">\n",
       "\t<path stroke='black'  d='M974.1,471.0 L965.1,471.0  '/>\t<g transform=\"translate(982.4,475.5)\" stroke=\"none\" fill=\"black\" font-family=\"Arial\" font-size=\"12.00\"  text-anchor=\"start\">\n",
       "\t\t<text><tspan font-family=\"Arial\" > </tspan></text>\n",
       "\t</g>\n",
       "</g>\n",
       "<g fill=\"none\" color=\"black\" stroke=\"currentColor\" stroke-width=\"1.00\" stroke-linecap=\"butt\" stroke-linejoin=\"miter\">\n",
       "\t<path stroke='black'  d='M974.1,384.0 L965.1,384.0  '/>\t<g transform=\"translate(982.4,388.5)\" stroke=\"none\" fill=\"black\" font-family=\"Arial\" font-size=\"12.00\"  text-anchor=\"start\">\n",
       "\t\t<text><tspan font-family=\"Arial\" > </tspan></text>\n",
       "\t</g>\n",
       "</g>\n",
       "<g fill=\"none\" color=\"black\" stroke=\"currentColor\" stroke-width=\"1.00\" stroke-linecap=\"butt\" stroke-linejoin=\"miter\">\n",
       "\t<path stroke='black'  d='M974.1,297.1 L965.1,297.1  '/>\t<g transform=\"translate(982.4,301.6)\" stroke=\"none\" fill=\"black\" font-family=\"Arial\" font-size=\"12.00\"  text-anchor=\"start\">\n",
       "\t\t<text><tspan font-family=\"Arial\" > </tspan></text>\n",
       "\t</g>\n",
       "</g>\n",
       "<g fill=\"none\" color=\"black\" stroke=\"currentColor\" stroke-width=\"1.00\" stroke-linecap=\"butt\" stroke-linejoin=\"miter\">\n",
       "\t<path stroke='black'  d='M974.1,210.1 L965.1,210.1  '/>\t<g transform=\"translate(982.4,214.6)\" stroke=\"none\" fill=\"black\" font-family=\"Arial\" font-size=\"12.00\"  text-anchor=\"start\">\n",
       "\t\t<text><tspan font-family=\"Arial\" > </tspan></text>\n",
       "\t</g>\n",
       "</g>\n",
       "<g fill=\"none\" color=\"black\" stroke=\"currentColor\" stroke-width=\"1.00\" stroke-linecap=\"butt\" stroke-linejoin=\"miter\">\n",
       "\t<path stroke='black'  d='M974.1,123.1 L965.1,123.1  '/>\t<g transform=\"translate(982.4,127.6)\" stroke=\"none\" fill=\"black\" font-family=\"Arial\" font-size=\"12.00\"  text-anchor=\"start\">\n",
       "\t\t<text><tspan font-family=\"Arial\" > </tspan></text>\n",
       "\t</g>\n",
       "</g>\n",
       "<g fill=\"none\" color=\"black\" stroke=\"currentColor\" stroke-width=\"1.00\" stroke-linecap=\"butt\" stroke-linejoin=\"miter\">\n",
       "\t<path stroke='black'  d='M974.1,36.1 L965.1,36.1  '/>\t<g transform=\"translate(982.4,40.6)\" stroke=\"none\" fill=\"black\" font-family=\"Arial\" font-size=\"12.00\"  text-anchor=\"start\">\n",
       "\t\t<text><tspan font-family=\"Arial\" > </tspan></text>\n",
       "\t</g>\n",
       "</g>\n",
       "<g fill=\"none\" color=\"black\" stroke=\"currentColor\" stroke-width=\"1.00\" stroke-linecap=\"butt\" stroke-linejoin=\"miter\">\n",
       "\t<path stroke='black'  d='M62.2,36.1 L62.2,45.1  '/>\t<g transform=\"translate(62.2,22.6)\" stroke=\"none\" fill=\"black\" font-family=\"Arial\" font-size=\"12.00\"  text-anchor=\"middle\">\n",
       "\t\t<text><tspan font-family=\"Arial\" > </tspan></text>\n",
       "\t</g>\n",
       "</g>\n",
       "<g fill=\"none\" color=\"black\" stroke=\"currentColor\" stroke-width=\"1.00\" stroke-linecap=\"butt\" stroke-linejoin=\"miter\">\n",
       "\t<path stroke='black'  d='M153.4,36.1 L153.4,45.1  '/>\t<g transform=\"translate(153.4,22.6)\" stroke=\"none\" fill=\"black\" font-family=\"Arial\" font-size=\"12.00\"  text-anchor=\"middle\">\n",
       "\t\t<text><tspan font-family=\"Arial\" > </tspan></text>\n",
       "\t</g>\n",
       "</g>\n",
       "<g fill=\"none\" color=\"black\" stroke=\"currentColor\" stroke-width=\"1.00\" stroke-linecap=\"butt\" stroke-linejoin=\"miter\">\n",
       "\t<path stroke='black'  d='M244.6,36.1 L244.6,45.1  '/>\t<g transform=\"translate(244.6,22.6)\" stroke=\"none\" fill=\"black\" font-family=\"Arial\" font-size=\"12.00\"  text-anchor=\"middle\">\n",
       "\t\t<text><tspan font-family=\"Arial\" > </tspan></text>\n",
       "\t</g>\n",
       "</g>\n",
       "<g fill=\"none\" color=\"black\" stroke=\"currentColor\" stroke-width=\"1.00\" stroke-linecap=\"butt\" stroke-linejoin=\"miter\">\n",
       "\t<path stroke='black'  d='M335.8,36.1 L335.8,45.1  '/>\t<g transform=\"translate(335.8,22.6)\" stroke=\"none\" fill=\"black\" font-family=\"Arial\" font-size=\"12.00\"  text-anchor=\"middle\">\n",
       "\t\t<text><tspan font-family=\"Arial\" > </tspan></text>\n",
       "\t</g>\n",
       "</g>\n",
       "<g fill=\"none\" color=\"black\" stroke=\"currentColor\" stroke-width=\"1.00\" stroke-linecap=\"butt\" stroke-linejoin=\"miter\">\n",
       "\t<path stroke='black'  d='M427.0,36.1 L427.0,45.1  '/>\t<g transform=\"translate(427.0,22.6)\" stroke=\"none\" fill=\"black\" font-family=\"Arial\" font-size=\"12.00\"  text-anchor=\"middle\">\n",
       "\t\t<text><tspan font-family=\"Arial\" > </tspan></text>\n",
       "\t</g>\n",
       "</g>\n",
       "<g fill=\"none\" color=\"black\" stroke=\"currentColor\" stroke-width=\"1.00\" stroke-linecap=\"butt\" stroke-linejoin=\"miter\">\n",
       "\t<path stroke='black'  d='M518.2,36.1 L518.2,45.1  '/>\t<g transform=\"translate(518.2,22.6)\" stroke=\"none\" fill=\"black\" font-family=\"Arial\" font-size=\"12.00\"  text-anchor=\"middle\">\n",
       "\t\t<text><tspan font-family=\"Arial\" > </tspan></text>\n",
       "\t</g>\n",
       "</g>\n",
       "<g fill=\"none\" color=\"black\" stroke=\"currentColor\" stroke-width=\"1.00\" stroke-linecap=\"butt\" stroke-linejoin=\"miter\">\n",
       "\t<path stroke='black'  d='M609.3,36.1 L609.3,45.1  '/>\t<g transform=\"translate(609.3,22.6)\" stroke=\"none\" fill=\"black\" font-family=\"Arial\" font-size=\"12.00\"  text-anchor=\"middle\">\n",
       "\t\t<text><tspan font-family=\"Arial\" > </tspan></text>\n",
       "\t</g>\n",
       "</g>\n",
       "<g fill=\"none\" color=\"black\" stroke=\"currentColor\" stroke-width=\"1.00\" stroke-linecap=\"butt\" stroke-linejoin=\"miter\">\n",
       "\t<path stroke='black'  d='M700.5,36.1 L700.5,45.1  '/>\t<g transform=\"translate(700.5,22.6)\" stroke=\"none\" fill=\"black\" font-family=\"Arial\" font-size=\"12.00\"  text-anchor=\"middle\">\n",
       "\t\t<text><tspan font-family=\"Arial\" > </tspan></text>\n",
       "\t</g>\n",
       "</g>\n",
       "<g fill=\"none\" color=\"black\" stroke=\"currentColor\" stroke-width=\"1.00\" stroke-linecap=\"butt\" stroke-linejoin=\"miter\">\n",
       "\t<path stroke='black'  d='M791.7,36.1 L791.7,45.1  '/>\t<g transform=\"translate(791.7,22.6)\" stroke=\"none\" fill=\"black\" font-family=\"Arial\" font-size=\"12.00\"  text-anchor=\"middle\">\n",
       "\t\t<text><tspan font-family=\"Arial\" > </tspan></text>\n",
       "\t</g>\n",
       "</g>\n",
       "<g fill=\"none\" color=\"black\" stroke=\"currentColor\" stroke-width=\"1.00\" stroke-linecap=\"butt\" stroke-linejoin=\"miter\">\n",
       "\t<path stroke='black'  d='M882.9,36.1 L882.9,45.1  '/>\t<g transform=\"translate(882.9,22.6)\" stroke=\"none\" fill=\"black\" font-family=\"Arial\" font-size=\"12.00\"  text-anchor=\"middle\">\n",
       "\t\t<text><tspan font-family=\"Arial\" > </tspan></text>\n",
       "\t</g>\n",
       "</g>\n",
       "<g fill=\"none\" color=\"black\" stroke=\"currentColor\" stroke-width=\"1.00\" stroke-linecap=\"butt\" stroke-linejoin=\"miter\">\n",
       "\t<path stroke='black'  d='M974.1,36.1 L974.1,45.1  '/>\t<g transform=\"translate(974.1,22.6)\" stroke=\"none\" fill=\"black\" font-family=\"Arial\" font-size=\"12.00\"  text-anchor=\"middle\">\n",
       "\t\t<text><tspan font-family=\"Arial\" > </tspan></text>\n",
       "\t</g>\n",
       "</g>\n",
       "<g fill=\"none\" color=\"black\" stroke=\"currentColor\" stroke-width=\"1.00\" stroke-linecap=\"butt\" stroke-linejoin=\"miter\">\n",
       "</g>\n",
       "<g fill=\"none\" color=\"black\" stroke=\"currentColor\" stroke-width=\"1.00\" stroke-linecap=\"butt\" stroke-linejoin=\"miter\">\n",
       "\t<path stroke='black'  d='M62.2,36.1 L62.2,732.0 L974.1,732.0 L974.1,36.1 L62.2,36.1 Z  '/></g>\n",
       "<g fill=\"none\" color=\"black\" stroke=\"currentColor\" stroke-width=\"1.00\" stroke-linecap=\"butt\" stroke-linejoin=\"miter\">\n",
       "</g>\n",
       "\t<g id=\"gnuplot_plot_1\" ><title>indef mtx</title>\n",
       "<g fill=\"none\" color=\"black\" stroke=\"currentColor\" stroke-width=\"1.00\" stroke-linecap=\"butt\" stroke-linejoin=\"miter\">\n",
       "\t<g transform=\"translate(843.7,63.1)\" stroke=\"none\" fill=\"black\" font-family=\"Arial\" font-size=\"16.00\"  text-anchor=\"start\">\n",
       "\t\t<text><tspan font-family=\"Arial\" >indef mtx</tspan></text>\n",
       "\t</g>\n",
       "</g>\n",
       "<g fill=\"none\" color=\"black\" stroke=\"currentColor\" stroke-width=\"1.00\" stroke-linecap=\"butt\" stroke-linejoin=\"miter\">\n",
       "\t<path stroke='rgb(255,   0,   0)' stroke-dasharray='4.0,2.0,1.0,2.0'  d='M779.2,57.1 L832.6,57.1 M474.0,37.1 L611.2,320.0 L748.5,458.8 L885.7,607.7  '/>\t<use xlink:href='#gpPt5' transform='translate(474.0,37.1) scale(9.00)' color='rgb(255,   0,   0)'/>\n",
       "\t<use xlink:href='#gpPt5' transform='translate(611.2,320.0) scale(9.00)' color='rgb(255,   0,   0)'/>\n",
       "\t<use xlink:href='#gpPt5' transform='translate(748.5,458.8) scale(9.00)' color='rgb(255,   0,   0)'/>\n",
       "\t<use xlink:href='#gpPt5' transform='translate(885.7,607.7) scale(9.00)' color='rgb(255,   0,   0)'/>\n",
       "\t<use xlink:href='#gpPt5' transform='translate(805.9,57.1) scale(9.00)' color='rgb(255,   0,   0)'/>\n",
       "</g>\n",
       "\t</g>\n",
       "\t<g id=\"gnuplot_plot_2\" ><title>pos def mtx</title>\n",
       "<g fill=\"none\" color=\"black\" stroke=\"currentColor\" stroke-width=\"1.00\" stroke-linecap=\"butt\" stroke-linejoin=\"miter\">\n",
       "\t<g transform=\"translate(843.7,87.1)\" stroke=\"none\" fill=\"black\" font-family=\"Arial\" font-size=\"16.00\"  text-anchor=\"start\">\n",
       "\t\t<text><tspan font-family=\"Arial\" >pos def mtx</tspan></text>\n",
       "\t</g>\n",
       "</g>\n",
       "<g fill=\"none\" color=\"black\" stroke=\"currentColor\" stroke-width=\"1.00\" stroke-linecap=\"butt\" stroke-linejoin=\"miter\">\n",
       "\t<path stroke='rgb(  0,   0, 255)' stroke-dasharray='4.0,2.0,1.0,2.0'  d='M779.2,81.1 L832.6,81.1 M474.0,170.2 L611.2,338.4 L748.5,520.9 L885.7,697.1  '/>\t<use xlink:href='#gpPt5' transform='translate(474.0,170.2) scale(9.00)' color='rgb(  0,   0, 255)'/>\n",
       "\t<use xlink:href='#gpPt5' transform='translate(611.2,338.4) scale(9.00)' color='rgb(  0,   0, 255)'/>\n",
       "\t<use xlink:href='#gpPt5' transform='translate(748.5,520.9) scale(9.00)' color='rgb(  0,   0, 255)'/>\n",
       "\t<use xlink:href='#gpPt5' transform='translate(885.7,697.1) scale(9.00)' color='rgb(  0,   0, 255)'/>\n",
       "\t<use xlink:href='#gpPt5' transform='translate(805.9,81.1) scale(9.00)' color='rgb(  0,   0, 255)'/>\n",
       "</g>\n",
       "\t</g>\n",
       "<g fill=\"none\" color=\"#FFFFFF\" stroke=\"rgb(  0,   0, 255)\" stroke-width=\"2.00\" stroke-linecap=\"butt\" stroke-linejoin=\"miter\">\n",
       "</g>\n",
       "<g fill=\"none\" color=\"black\" stroke=\"currentColor\" stroke-width=\"2.00\" stroke-linecap=\"butt\" stroke-linejoin=\"miter\">\n",
       "</g>\n",
       "<g fill=\"none\" color=\"black\" stroke=\"black\" stroke-width=\"1.00\" stroke-linecap=\"butt\" stroke-linejoin=\"miter\">\n",
       "</g>\n",
       "<g fill=\"none\" color=\"black\" stroke=\"currentColor\" stroke-width=\"1.00\" stroke-linecap=\"butt\" stroke-linejoin=\"miter\">\n",
       "\t<path stroke='black'  d='M62.2,36.1 L62.2,732.0 L974.1,732.0 L974.1,36.1 L62.2,36.1 Z  '/></g>\n",
       "<g fill=\"none\" color=\"black\" stroke=\"currentColor\" stroke-width=\"1.00\" stroke-linecap=\"butt\" stroke-linejoin=\"miter\">\n",
       "</g>\n",
       "</g>\n",
       "</svg>\n",
       "\n"
      ]
     },
     "execution_count": 34,
     "metadata": {},
     "output_type": "execute_result"
    }
   ],
   "source": [
    "var plt = new Plot2Ddata();\n",
    "plt.AddDataGroup(\"indef mtx\", Resolution, L2Error_indef);\n",
    "plt.AddDataGroup(\"pos def mtx\", Resolution, L2Error_posdef);\n",
    "\n",
    "/// A double-logarithmic scale is used:\n",
    "plt.LogX = true;\n",
    "plt.LogY = true;\n",
    "\n",
    "/// Set Format\n",
    "plt.dataGroups[0].Format =  new PlotFormat(lineColor: LineColors.Red, \n",
    "                                           pointSize: 2, \n",
    "                                           dashType: DashTypes.DotDashed, \n",
    "                                           Style: Styles.LinesPoints, \n",
    "                                           pointType:PointTypes.OpenCircle);\n",
    "plt.dataGroups[1].Format =  new PlotFormat(\"Blue-.o\"); // altenatively, using MATLAB-like format strings\n",
    "plt.dataGroups[1].Format.PointSize = 2;\n",
    "// Show!\n",
    "plt.PlotNow()"
   ]
  },
  {
   "cell_type": "markdown",
   "metadata": {
    "dotnet_interactive": {
     "language": "csharp"
    }
   },
   "source": [
    "Finally, we are going to compute the convergence rate of the SIP\n",
    "discretization.\n",
    "\n",
    "we take the logarithm of the resolution and the error:"
   ]
  },
  {
   "cell_type": "code",
   "execution_count": 29,
   "metadata": {
    "dotnet_interactive": {
     "language": "csharp"
    }
   },
   "outputs": [],
   "source": [
    "var log_h   = Resolution.Select(h => Math.Log10(h)).ToArray();\n",
    "var log_Err = L2Error_posdef.Select(h => Math.Log10(h)).ToArray();"
   ]
  },
  {
   "cell_type": "markdown",
   "metadata": {},
   "source": [
    "And compute a Least-Squares fit:"
   ]
  },
  {
   "cell_type": "code",
   "execution_count": 30,
   "metadata": {
    "dotnet_interactive": {
     "language": "csharp"
    }
   },
   "outputs": [],
   "source": [
    "var LeastSquaresSys = MultidimensionalArray.Create(log_h.Length,2);\n",
    "LeastSquaresSys.SetColumn(0, log_h.Length.ForLoop(i => 1.0));\n",
    "LeastSquaresSys.SetColumn(1, log_h);\n",
    "double[] dk = new double[2]; // intercept and slope of best-fit line\n",
    "LeastSquaresSys.LeastSquareSolve(dk, log_Err);"
   ]
  },
  {
   "cell_type": "code",
   "execution_count": 31,
   "metadata": {
    "dotnet_interactive": {
     "language": "csharp"
    }
   },
   "outputs": [
    {
     "data": {
      "text/html": [
       "<table><thead><tr><th><i>index</i></th><th>value</th></tr></thead><tbody><tr><td>0</td><td><div class=\"dni-plaintext\">2.287136566401999</div></td></tr><tr><td>1</td><td><div class=\"dni-plaintext\">-3.3668040023381023</div></td></tr></tbody></table>"
      ]
     },
     "execution_count": 31,
     "metadata": {},
     "output_type": "execute_result"
    }
   ],
   "source": [
    "dk"
   ]
  },
  {
   "cell_type": "code",
   "execution_count": 32,
   "metadata": {
    "dotnet_interactive": {
     "language": "csharp"
    }
   },
   "outputs": [],
   "source": [
    "/// tests BoSSScmdSilent\n",
    "Assert.LessOrEqual(dk[1], -2.9);"
   ]
  },
  {
   "cell_type": "markdown",
   "metadata": {
    "dotnet_interactive": {
     "language": "csharp"
    }
   },
   "source": [
    "## Further reading\n",
    "\n",
    "- DiPietroErn2011\n",
    "- Arnold_1982\n"
   ]
  }
 ],
 "metadata": {
  "kernelspec": {
   "display_name": ".NET (C#)",
   "language": "C#",
   "name": ".net-csharp"
  },
  "language_info": {
   "file_extension": ".cs",
   "mimetype": "text/x-csharp",
   "name": "C#",
   "pygments_lexer": "csharp",
   "version": "8.0"
  }
 },
 "nbformat": 4,
 "nbformat_minor": 4
}
