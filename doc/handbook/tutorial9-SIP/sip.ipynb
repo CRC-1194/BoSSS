{
 "cells": [
  {
   "cell_type": "markdown",
   "source": [
    "# What's new\r\n",
    "\r\n",
    "- Symmetric Interior Penalty method (SIP)\r\n",
    "- investigating matrix properties\r\n",
    "\r\n",
    "# Prerequisites\r\n",
    "\r\n",
    "- basics SIP method\r\n",
    "- spatial operator, chapter corresponding to the SpatialOperator\r\n",
    "- implementing numerical fluxes and convergence study, chapter corresponding to the NumericalFluxex\r\n",
    "\r\n",
    "# Problem statement\r\n",
    "We consider the 2D Poisson problem:\r\n",
    "$$ \\Delta u = f(x,y) $$\r\n",
    "\r\n",
    "with $f(x,y)\\neq 0$ is an arbitrary function of $x$ and/or $y$ or constant.\r\n",
    "Within this exercise, we are going to investigate the Symmetric Interior Penalty discretization method (SIP) for the Laplace operator\r\n",
    "\r\n",
    "$$a_{\\text{sip}}(u,v)\r\n",
    "= \\int_{\\Omega} \\underbrace{\\nabla u \\cdot \\nabla v}_{\\text{Volume\\ term}}dV\r\n",
    "  - \\oint_{\\Gamma \\setminus \\Gamma_{N }} \\underbrace{\r\n",
    "        M(\\nabla u) \\cdot n_{\\Gamma}J(v)\r\n",
    "     }_{\\text{consistency\\ term}} + \\underbrace{\r\n",
    "        M(\\nabla v) \\cdot \\vec{n}_{\\Gamma} J(u)\r\n",
    "     }_{\\text{symmetry\\ term}} dA\r\n",
    "  + \\oint_{\\Gamma \\setminus \\Gamma_{N}} \\underbrace{\r\n",
    "       \\eta J(u)J(v)\r\n",
    "    }_{\\text{penalty\\ term}} dA$$\r\n",
    "\r\n",
    "Where $M$ shall denote the Mean and $J$ the Jump operator. The use of these fluxes including a penalty term stabilizes the DG-discretization for the Laplace operator.\r\n",
    "\r\n",
    "# Solution within the **BoSSS** framework\r\n",
    "\r\n",
    "First, we initialize the new worksheet:"
   ],
   "metadata": {
    "dotnet_interactive": {
     "language": "csharp"
    }
   }
  },
  {
   "cell_type": "code",
   "execution_count": null,
   "source": [
    "#r \"BoSSSpad.dll\"\r\n",
    "using System;\r\n",
    "using System.Collections.Generic;\r\n",
    "using System.Linq;\r\n",
    "using ilPSP;\r\n",
    "using ilPSP.Utils;\r\n",
    "using BoSSS.Platform;\r\n",
    "using BoSSS.Foundation;\r\n",
    "using BoSSS.Foundation.Grid;\r\n",
    "using BoSSS.Foundation.Grid.Classic;\r\n",
    "using BoSSS.Foundation.IO;\r\n",
    "using BoSSS.Solution;\r\n",
    "using BoSSS.Solution.Control;\r\n",
    "using BoSSS.Solution.GridImport;\r\n",
    "using BoSSS.Solution.Statistic;\r\n",
    "using BoSSS.Solution.Utils;\r\n",
    "using BoSSS.Solution.Gnuplot;\r\n",
    "using BoSSS.Application.BoSSSpad;\r\n",
    "using BoSSS.Application.XNSE_Solver;\r\n",
    "using static BoSSS.Application.BoSSSpad.BoSSSshell;\r\n",
    "Init();\r\n"
   ],
   "outputs": [],
   "metadata": {
    "dotnet_interactive": {
     "language": "csharp"
    }
   }
  },
  {
   "cell_type": "markdown",
   "source": [
    "We need the following packages:"
   ],
   "metadata": {}
  },
  {
   "cell_type": "code",
   "execution_count": null,
   "source": [
    "using ilPSP.LinSolvers;\r\n",
    "using ilPSP.Connectors.Matlab;"
   ],
   "outputs": [],
   "metadata": {
    "dotnet_interactive": {
     "language": "csharp"
    }
   }
  },
  {
   "cell_type": "markdown",
   "source": [
    "BoSSScmdSilent BoSSSexeSilent"
   ],
   "metadata": {}
  },
  {
   "cell_type": "code",
   "execution_count": null,
   "source": [
    "using NUnit.Framework;"
   ],
   "outputs": [],
   "metadata": {
    "dotnet_interactive": {
     "language": "csharp"
    }
   }
  },
  {
   "cell_type": "markdown",
   "source": [
    "# 1 Implementation of the SIP fluxes\r\n",
    "We are going to implement the SIP-form\r\n",
    "$$\r\n",
    "a_{\\text{sip}}(u,v)\r\n",
    "= \\int_{\\Omega} \\underbrace{\\nabla u \\cdot \\nabla v}_{\\text{volume\\ term}}dV\r\n",
    "  - \\oint_{\\Gamma \\setminus \\Gamma_{N }} \\underbrace{\r\n",
    "        M {\\nabla u} \\cdot n_{\\Gamma}J(v)\r\n",
    "     }_{\\text{consistency\\ term}} + \\underbrace{\r\n",
    "        M{\\nabla v} \\cdot \\vec{n}_{\\Gamma} J(u)\r\n",
    "     }_{\\text{symmetry\\ term}} dA\r\n",
    "  + \\oint_{\\Gamma \\setminus \\Gamma_{N}} \\underbrace{\r\n",
    "       \\eta J(u)J(v)\r\n",
    "    }_{\\text{penalty\\ term}} dA\r\n",
    "$$\r\n",
    "First, we need a class in which the integrands are defined.\r\n",
    "This also includes some technical aspects like the *TermActivationFlags*."
   ],
   "metadata": {}
  },
  {
   "cell_type": "code",
   "execution_count": null,
   "source": [
    "\r\n",
    "public class SipLaplace :\r\n",
    "        BoSSS.Foundation.IEdgeForm,   // edge integrals\r\n",
    "        BoSSS.Foundation.IVolumeForm, // volume integrals\r\n",
    "        IEquationComponentCoefficient // update of coefficients (e.g. length scales) required for penalty parameters \r\n",
    "{\r\n",
    "    /// We do not use parameters (e.g. variable viscosity, ...)\r\n",
    "    /// at this point: so this can be null\r\n",
    "    public IList<string> ParameterOrdering { \r\n",
    "        get { return new string[0]; } \r\n",
    "    } \r\n",
    "    /// but we have one argument variable, $u$ (our trial function)\r\n",
    "    public IList<String> ArgumentOrdering { \r\n",
    "        get { return new string[] { \"u\" }; } \r\n",
    "    }\r\n",
    "    /// The \\code{TermActivationFlags} tell \\BoSSS which kind of terms, \r\n",
    "    /// i.e. products of u, v, \\nabla u, and \\nabla v\r\n",
    "    /// the VolumeForm(...) actually contains.\r\n",
    "    /// This additional information helps to improve the performance.\r\n",
    "    public TermActivationFlags VolTerms {\r\n",
    "        get {\r\n",
    "            return TermActivationFlags.GradUxGradV;\r\n",
    "        }\r\n",
    "    }\r\n",
    "    /// activation flags for the 'InnerEdgeForm(...)'\r\n",
    "    public TermActivationFlags InnerEdgeTerms {\r\n",
    "        get {\r\n",
    "            return (TermActivationFlags.AllOn);\r\n",
    "            // if we do not care about performance, we can activate all terms.\r\n",
    "        }\r\n",
    "    }\r\n",
    "    public TermActivationFlags BoundaryEdgeTerms {\r\n",
    "       get {\r\n",
    "           return TermActivationFlags.AllOn;\r\n",
    "        }\r\n",
    "    }\r\n",
    "    /// For the computation of the penalty factor $\\eta$,\r\n",
    "    /// we require\r\n",
    "    /// some length scale for each cell and \r\n",
    "    /// the polynomial degree of the DG approximation.\r\n",
    "    MultidimensionalArray cj;\r\n",
    "    double penalty_base; // base factor, depends on element shape and polynomial degree  \r\n",
    "    /// The aforementioned properties can be obtained through \r\n",
    "    /// impmenting the \\code{IEquationComponentCoefficient} interface:\r\n",
    "    public void CoefficientUpdate(CoefficientSet cs, int[] DomainDGdeg, int TestDGdeg) {\r\n",
    "        int D = cs.GrdDat.SpatialDimension;\r\n",
    "        double _D = D;\r\n",
    "        double _p = DomainDGdeg.Max();\r\n",
    "\r\n",
    "        double penalty_deg_tri = (_p + 1) * (_p + _D) / _D; // formula for triangles/tetras\r\n",
    "        double penalty_deg_sqr = (_p + 1.0) * (_p + 1.0); // formula for squares/cubes\r\n",
    "\r\n",
    "        penalty_base = Math.Max(penalty_deg_tri, penalty_deg_sqr); // the conservative choice\r\n",
    "        //Console.WriteLine(\"Setting penalty base factor for deg \" + _p + \" to \" + penalty_base);\r\n",
    "\r\n",
    "        cj = ((GridData)(cs.GrdDat)).Cells.cj;\r\n",
    "    }     \r\n",
    "    \r\n",
    "            \r\n",
    "    /// The safety factor for the penalty factor should be in the order of 1.\r\n",
    "    /// A very large penalty factor increases the condition number of the \r\n",
    "    /// system, but without affecting stability.\r\n",
    "    /// A very small penalty factor yields to an unstable discretization.\r\n",
    "    public double PenaltySafety = 2.2; \r\n",
    "    /// The actual computation of the penalty factor, which should be \r\n",
    "    /// used in the \\code{InnerEdgeForm} and \\code{BoundaryEdgeForm} functions.\r\n",
    "    /// Hint: for the parameters \\code{jCellIn}, \\code{jCellOut} and \\code{g},\r\n",
    "    /// take a look at\r\n",
    "    /// \\code{CommonParams} and \\code{CommonParamsBnd}.\r\n",
    "    double PenaltyFactor(int jCellIn, int jCellOut) {\r\n",
    "        double cj_in         = cj[jCellIn];\r\n",
    "        double eta           = penalty_base * cj_in * PenaltySafety;\r\n",
    "        if(jCellOut >= 0) {\r\n",
    "            double cj_out = cj[jCellOut];\r\n",
    "            eta           = Math.Max(eta, penalty_base * cj_out * PenaltySafety);\r\n",
    "        }\r\n",
    "\r\n",
    "        return eta;\r\n",
    "    }\r\n",
    "    \r\n",
    "    /// The following functions cover the actual math.\r\n",
    "    /// For any discretization of the Laplace operator, we have to specify:\r\n",
    "    /// \r\n",
    "    /// - a volume integrand,\r\n",
    "    /// - an edge integrand for inner edges, i.e. on $\\Gamma_i$,\r\n",
    "    /// - an edge integrand for boundary edges, i.e. on $\\partial \\Omega$.\r\n",
    "    /// \r\n",
    "    /// The integrand for the volume integral:\r\n",
    "    public double VolumeForm(ref CommonParamsVol cpv, \r\n",
    "           double[] U, double[,] GradU, // the trial-function u \r\n",
    "           //            (i.e. the function we search for) and its gradient\r\n",
    "           double V, double[] GradV     // the test function; \r\n",
    "           ) {\r\n",
    " \r\n",
    "        double acc = 0;\r\n",
    "        for(int d = 0; d < cpv.D; d++)\r\n",
    "            acc += GradU[0, d] * GradV[d];\r\n",
    "        return acc;\r\n",
    "    }\r\n",
    "    /// The integrand for the integral on the inner edges,\r\n",
    "    /// \r\n",
    "    ///   -( M{\\nabla u} J{v}) \\cdot \\vec{n}_{\\Gamma} \r\n",
    "    ///   -( M{\\nabla v} J{u}) \\cdot \\vec{n}_{\\Gamma} \r\n",
    "    ///   + \\eta J{u}  J{v} :\r\n",
    "    /// \r\n",
    "    public double InnerEdgeForm(ref CommonParams inp, \r\n",
    "        double[] U_IN, double[] U_OT, double[,] GradU_IN, double[,] GradU_OT, \r\n",
    "        double V_IN, double V_OT, double[] GradV_IN, double[] GradV_OT) {\r\n",
    " \r\n",
    "        double eta = PenaltyFactor(inp.jCellIn, inp.jCellOut);\r\n",
    " \r\n",
    "        double Acc = 0.0;\r\n",
    "        for(int d = 0; d < inp.D; d++) { // loop over vector components \r\n",
    "            // consistency term: -({{ \\/u }} [[ v ]])*Normal\r\n",
    "            // index d: spatial direction\r\n",
    "            Acc -= 0.5 * (GradU_IN[0, d] + GradU_OT[0, d])*(V_IN - V_OT)\r\n",
    "                       * inp.Normal[d];\r\n",
    " \r\n",
    "            // symmetry term: -({{ \\/v }} [[ u ]])*Normal\r\n",
    "            Acc -= 0.5 * (GradV_IN[d] + GradV_OT[d])*(U_IN[0] - U_OT[0])\r\n",
    "                       * inp.Normal[d];\r\n",
    "        }\r\n",
    " \r\n",
    "        // penalty term: eta*[[u]]*[[v]]\r\n",
    "        Acc += eta*(U_IN[0] - U_OT[0])*(V_IN - V_OT);\r\n",
    "        return Acc;\r\n",
    "    } \r\n",
    "    /// The integrand on boundary edges, i.e. on $\\partial \\Omega$, is\r\n",
    "    ///  \r\n",
    "    ///   -( M{\\nabla u} J{v}) \\cdot \\vec{n}_{\\Gamma} \r\n",
    "    ///   -( M{\\nabla v} J{u}) \\cdot \\vec{n}_{\\Gamma} \r\n",
    "    ///   +  \\eta J{u}  J{v} .\r\n",
    "    /// \r\n",
    "    /// For the boundary we have to consider the special definition for \r\n",
    "    /// the mean-value operator $M{-}$ and the jump operator \r\n",
    "    /// $J{-}$ on the boundary.\r\n",
    "    public double BoundaryEdgeForm(ref CommonParamsBnd inp, \r\n",
    "        double[] U_IN, double[,] GradU_IN, double V_IN, double[] GradV_IN) {\r\n",
    " \r\n",
    "        double eta = PenaltyFactor(inp.jCellIn, -1);\r\n",
    "        double Acc = 0.0;\r\n",
    "        for(int d = 0; d < inp.D; d++) { // loop over vector components \r\n",
    "            // consistency term: -({{ \\/u }} [[ v ]])*Normale\r\n",
    "            // index d: spatial direction\r\n",
    "            Acc -= (GradU_IN[0, d])*(V_IN) * inp.Normal[d];\r\n",
    " \r\n",
    "            // symmetry term: -({{ \\/v }} [[ u ]])*Normale\r\n",
    "            Acc -= (GradV_IN[d])*(U_IN[0]) * inp.Normal[d];\r\n",
    "        }\r\n",
    " \r\n",
    "        // penalty term: eta*[[u]]*[[v]]\r\n",
    "        Acc += eta*(U_IN[0])*(V_IN);\r\n",
    " \r\n",
    " \r\n",
    "        return Acc;\r\n",
    "    }\r\n",
    "}"
   ],
   "outputs": [],
   "metadata": {
    "dotnet_interactive": {
     "language": "csharp"
    }
   }
  },
  {
   "cell_type": "markdown",
   "source": [
    "# 2 Evaluation of the Poisson operator in 1D\r\n",
    "We consider the following problem:\r\n",
    "$$\r\n",
    "\\Delta u = 2,\\quad -1<x<1,\\quad u(-1)=u(1)=0.\r\n",
    "$$\r\n",
    "The solution is $u_{ex}(x) = 1 - x^2$. Since this is quadratic, we can represent it \\emph{exactly} in a DG space of order 2.\r\n",
    "As usual, we have to set up a grid, a basis and a right-hand-side.:"
   ],
   "metadata": {}
  },
  {
   "cell_type": "code",
   "execution_count": null,
   "source": [
    "\r\n",
    "var grd1D                     = Grid1D.LineGrid(GenericBlas.Linspace(-1,1,10));\r\n",
    "var DGBasisOn1D               = new Basis(grd1D, 2);\r\n",
    "var RHS                       = new SinglePhaseField(DGBasisOn1D, \"RHS\");\r\n",
    "RHS.ProjectField((double x) => 2);"
   ],
   "outputs": [
    {
     "output_type": "stream",
     "name": "stdout",
     "text": [
      "Residual for $u_{ex}$ = 1.3694083221572641E-12\n",
      "Residual for $u_{wrong}$ = 1089.2299583441218\n"
     ]
    }
   ],
   "metadata": {
    "dotnet_interactive": {
     "language": "csharp"
    }
   }
  },
  {
   "cell_type": "markdown",
   "source": [
    "\r\n",
    "We have to ensure to set the **PolynomialDegree** in the *SipLaplace*-object."
   ],
   "metadata": {}
  },
  {
   "cell_type": "code",
   "execution_count": null,
   "source": [
    "var i_SipLaplace              = new SipLaplace();\r\n",
    "var Operator_SipLaplace       = i_SipLaplace.Operator();\r\n"
   ],
   "outputs": [],
   "metadata": {
    "dotnet_interactive": {
     "language": "csharp"
    }
   }
  },
  {
   "cell_type": "markdown",
   "source": [
    "We now want to calculate the residual after inserting the exact solution as well as a wrong solution. \r\n",
    "The implementation of the exact solution:"
   ],
   "metadata": {}
  },
  {
   "cell_type": "code",
   "execution_count": null,
   "source": [
    "var u_ex         = new SinglePhaseField(DGBasisOn1D, \"$u_{ex}$\");\r\n",
    "u_ex.ProjectField((double x) => 1.0 - x*x);"
   ],
   "outputs": [],
   "metadata": {
    "dotnet_interactive": {
     "language": "csharp"
    }
   }
  },
  {
   "cell_type": "markdown",
   "source": [
    "The implementation of a spurious, i.e. a wrong solution; we take the exact solution and add random values in each cell:"
   ],
   "metadata": {}
  },
  {
   "cell_type": "code",
   "execution_count": null,
   "source": [
    "\r\n",
    "var u_wrong      = new SinglePhaseField(DGBasisOn1D, \"$u_{wrong}$\");\r\n",
    "u_wrong.ProjectField((double x) => 1.0 - x*x);\r\n",
    "Random R         = new Random();\r\n",
    "for(int j = 0; j < grd1D.GridData.Cells.NoOfLocalUpdatedCells; j++){\r\n",
    "    double ujMean = u_wrong.GetMeanValue(j);\r\n",
    "    ujMean += R.NextDouble();\r\n",
    "    u_wrong.SetMeanValue(j, ujMean);\r\n",
    "    }\r\n"
   ],
   "outputs": [],
   "metadata": {
    "dotnet_interactive": {
     "language": "csharp"
    }
   }
  },
  {
   "cell_type": "markdown",
   "source": [
    "Evaluating the Laplace operator using the different solutions:"
   ],
   "metadata": {}
  },
  {
   "cell_type": "code",
   "execution_count": null,
   "source": [
    "var Residual     = new SinglePhaseField(DGBasisOn1D,\"Resi1\");\r\n",
    "var ResidualNorm = new List<double>();\r\n",
    "foreach(var u in new DGField[] {u_ex, u_wrong}) {\r\n",
    "    Residual.Clear();\r\n",
    "    Operator_SipLaplace.Evaluate(u, Residual);  // evaluate\r\n",
    "    Residual.Acc(-1.0, RHS);    \r\n",
    "    double ResiNorm = Residual.L2Norm();\r\n",
    "    ResidualNorm.Add(ResiNorm);\r\n",
    "    Console.WriteLine(\"Residual for \" + u.Identification + \" = \" + ResiNorm);  \r\n",
    "}"
   ],
   "outputs": [],
   "metadata": {
    "dotnet_interactive": {
     "language": "csharp"
    }
   }
  },
  {
   "cell_type": "code",
   "execution_count": null,
   "source": [
    "/// tests BoSSScmdSilent\r\n",
    "Assert.LessOrEqual(ResidualNorm[0], 1e-10);\r\n",
    "Assert.GreaterOrEqual(ResidualNorm[1], 1e-1);"
   ],
   "outputs": [],
   "metadata": {
    "dotnet_interactive": {
     "language": "csharp"
    }
   }
  },
  {
   "cell_type": "markdown",
   "source": [
    "# 3 The matrix of the Poisson Operator\r\n",
    "If we do not know the exact solution, we have to solve a linear system.\r\n",
    "Therefore, we not only need to evaluate the operator,\r\n",
    "but we need its matrix.\r\n",
    "The *Mapping* controls which degree-of-freedom of the DG approximation\r\n",
    "is mapped to which row, resp. column of the matrix."
   ],
   "metadata": {}
  },
  {
   "cell_type": "code",
   "execution_count": null,
   "source": [
    "\r\n",
    "var Mapping           = new UnsetteledCoordinateMapping(DGBasisOn1D);\r\n",
    "var Matrix_SipLaplace = Operator_SipLaplace.ComputeMatrix(Mapping,null,Mapping);"
   ],
   "outputs": [],
   "metadata": {
    "dotnet_interactive": {
     "language": "csharp"
    }
   }
  },
  {
   "cell_type": "code",
   "execution_count": null,
   "source": [
    "Matrix_SipLaplace.NoOfCols"
   ],
   "outputs": [
    {
     "output_type": "execute_result",
     "data": {
      "text/html": [
       "<div class=\"dni-plaintext\">27</div>"
      ]
     },
     "metadata": {},
     "execution_count": 9
    }
   ],
   "metadata": {
    "dotnet_interactive": {
     "language": "csharp"
    }
   }
  },
  {
   "cell_type": "code",
   "execution_count": null,
   "source": [
    "Matrix_SipLaplace.NoOfRows"
   ],
   "outputs": [
    {
     "output_type": "execute_result",
     "data": {
      "text/html": [
       "<div class=\"dni-plaintext\">27</div>"
      ]
     },
     "metadata": {},
     "execution_count": 10
    }
   ],
   "metadata": {
    "dotnet_interactive": {
     "language": "csharp"
    }
   }
  },
  {
   "cell_type": "markdown",
   "source": [
    "We see that the matrix has 27 rows and columns.\r\n",
    "\r\n",
    "## Matrix rank and determinant of the matrix \r\n",
    "\r\n",
    "**Matrix\\_SipLaplace**:\r\n",
    "Use the functions *rank* and *det* to analyze the matrix (warning: this can get costly \r\n",
    "for larger matrices!).\r\n",
    "Interpret the results:\r\n",
    "\r\n",
    "- What does it mean, when a matrix has full rank?\r\n",
    "- How many solutions can a linear system have?\r\n"
   ],
   "metadata": {
    "dotnet_interactive": {
     "language": "csharp"
    }
   }
  },
  {
   "cell_type": "code",
   "execution_count": null,
   "source": [
    "\r\n",
    "double rank = Matrix_SipLaplace.rank(); \r\n",
    "Console.WriteLine(\"Matrix rank = \" + rank);\r\n",
    " \r\n",
    "double det = Matrix_SipLaplace.det();   \r\n",
    "Console.WriteLine(\"Determinante = \" + det);"
   ],
   "outputs": [
    {
     "output_type": "stream",
     "name": "stdout",
     "text": [
      "Matrix rank = 27\n",
      "Determinante = 1.405008381452841E+75\n"
     ]
    }
   ],
   "metadata": {
    "dotnet_interactive": {
     "language": "csharp"
    }
   }
  },
  {
   "cell_type": "markdown",
   "source": [
    "So the matrix of the SIP discretization has a unique solution."
   ],
   "metadata": {
    "dotnet_interactive": {
     "language": "csharp"
    }
   }
  },
  {
   "cell_type": "code",
   "execution_count": null,
   "source": [
    "/// tests BoSSScmdSilent\r\n",
    "Assert.AreEqual(rank, Matrix_SipLaplace.NoOfCols);\r\n",
    "Assert.Greater(det, 1.0);"
   ],
   "outputs": [],
   "metadata": {
    "dotnet_interactive": {
     "language": "csharp"
    }
   }
  },
  {
   "cell_type": "markdown",
   "source": [
    "# 4 Advanced topics"
   ],
   "metadata": {
    "dotnet_interactive": {
     "language": "csharp"
    }
   }
  },
  {
   "cell_type": "markdown",
   "source": [
    "## 4.1 The penalty parameter of the SIP and stability in 2D\r\n",
    "\r\n",
    "We define a two-dimensional grid:"
   ],
   "metadata": {
    "dotnet_interactive": {
     "language": "csharp"
    }
   }
  },
  {
   "cell_type": "code",
   "execution_count": null,
   "source": [
    "var grd2D       = Grid2D.Cartesian2DGrid(GenericBlas.Linspace(-1,1,21), \r\n",
    "                                         GenericBlas.Linspace(-1,1,16));\r\n",
    "var DGBasisOn2D = new Basis(grd2D, 5);\r\n",
    "var Mapping2D   = new UnsetteledCoordinateMapping(DGBasisOn2D);"
   ],
   "outputs": [],
   "metadata": {
    "dotnet_interactive": {
     "language": "csharp"
    }
   }
  },
  {
   "cell_type": "markdown",
   "source": [
    "We are going to choose the **PenaltySafety** for the **SipLaplace**\r\n",
    "from the following list"
   ],
   "metadata": {}
  },
  {
   "cell_type": "code",
   "execution_count": null,
   "source": [
    "\r\n",
    "double[] SFs = new double[] \r\n",
    "      {0.001, 0.002, 0.01, 0.02, 0.1, 0.2, 1, 2, 10, 20, 100};"
   ],
   "outputs": [],
   "metadata": {
    "dotnet_interactive": {
     "language": "csharp"
    }
   }
  },
  {
   "cell_type": "markdown",
   "source": [
    "and compute the condition number as well as the determinate.\r\n",
    "We consider the example \r\n",
    "$$\r\n",
    "    -\\Delta u = \\pi^2 0.5 \\cos(x/2) \\cos(y/2) \r\n",
    "      \\text{ with } \r\n",
    "      (x,y) \\in (-1,1)^2\r\n",
    "$$\r\n",
    "and $u = 0$ on the boundary.\r\n",
    "The exact solution is $u_{Ex}(x,y) = \\cos(x/2) \\cos(y/2)$."
   ],
   "metadata": {}
  },
  {
   "cell_type": "code",
   "execution_count": null,
   "source": [
    "\r\n",
    "Func<double[], double> exSol = \r\n",
    "        (X => Math.Cos(X[0]*Math.PI*0.5)*Math.Cos(X[1]*Math.PI*0.5));\r\n",
    "Func<double[], double> exRhs = \r\n",
    "        (X => (Math.PI*Math.PI*0.5*Math.Cos(X[0]*Math.PI*0.5)\r\n",
    "                      *Math.Cos(X[1]*Math.PI*0.5))); // == - /\\ exSol\r\n",
    "SinglePhaseField RHS = new SinglePhaseField(DGBasisOn2D, \"RHS\");\r\n",
    "RHS.ProjectField(exRhs);\r\n",
    "double[] RHSvec = RHS.CoordinateVector.ToArray();"
   ],
   "outputs": [],
   "metadata": {
    "dotnet_interactive": {
     "language": "csharp"
    }
   }
  },
  {
   "cell_type": "markdown",
   "source": [
    "We check our discretization once more in 2D; the residual should be low,\r\n",
    "but not exactly (resp. up to $10^{-12}$) since the solution is not \r\n",
    "polynomial and cannot be fulfilled exactly."
   ],
   "metadata": {}
  },
  {
   "cell_type": "code",
   "execution_count": null,
   "source": [
    "\r\n",
    "SinglePhaseField u = new SinglePhaseField(DGBasisOn2D,\"u\");\r\n",
    "u.ProjectField(exSol);\r\n",
    "var Matrix_SIP_sf     = Operator_SipLaplace.ComputeMatrix(Mapping2D,\r\n",
    "                                                          null,\r\n",
    "                                                          Mapping2D);\r\n",
    "SinglePhaseField Residual = new SinglePhaseField(DGBasisOn2D,\"Residual\");\r\n",
    "Residual.Acc(1.0, RHS);\r\n",
    "Matrix_SIP_sf.SpMV(-1.0, u.CoordinateVector, 1.0, Residual.CoordinateVector);\r\n",
    "Console.WriteLine(\"Residual L2 norm: \" + Residual.L2Norm());"
   ],
   "outputs": [
    {
     "output_type": "stream",
     "name": "stdout",
     "text": [
      "Residual L2 norm: 0.0001953788343916428\r\n"
     ]
    }
   ],
   "metadata": {
    "dotnet_interactive": {
     "language": "csharp"
    }
   }
  },
  {
   "cell_type": "markdown",
   "source": [
    "We also check that the matrix is symmetric:"
   ],
   "metadata": {}
  },
  {
   "cell_type": "code",
   "execution_count": null,
   "source": [
    "var checkMatrix = Matrix_SIP_sf - Matrix_SIP_sf.Transpose();\r\n",
    "checkMatrix.InfNorm()"
   ],
   "outputs": [
    {
     "output_type": "execute_result",
     "data": {
      "text/html": [
       "<div class=\"dni-plaintext\">5.837641481321043E-10</div>"
      ]
     },
     "metadata": {},
     "execution_count": 20
    }
   ],
   "metadata": {
    "dotnet_interactive": {
     "language": "csharp"
    }
   }
  },
  {
   "cell_type": "code",
   "execution_count": null,
   "source": [
    "/// tests BoSSScmdSilent\r\n",
    "Assert.LessOrEqual(checkMatrix.InfNorm(), 1e-8);"
   ],
   "outputs": [],
   "metadata": {
    "dotnet_interactive": {
     "language": "csharp"
    }
   }
  },
  {
   "cell_type": "markdown",
   "source": [
    "# 4.2 Matrix properties for different penalty factors\r\n",
    "Now, we assemble the matrix of the SIP for different \r\n",
    "**PenaltySafety**-factors. We also try to solve the linear system\r\n",
    "using an iterative method.\r\n",
    "\r\n",
    " As Matlab is called multiple times during this \r\n",
    "command, it can take some minutes until it is done."
   ],
   "metadata": {}
  },
  {
   "cell_type": "code",
   "execution_count": null,
   "source": [
    "\r\n",
    "int cnt     = 0;\r\n",
    "var Results = new List<Tuple<double,double,int,double,bool>>();\r\n",
    "foreach(double sf in SFs) {\r\n",
    "    cnt++;\r\n",
    "    i_SipLaplace.PenaltySafety    = sf;\r\n",
    "    var Matrix_SIP_sf             = Operator_SipLaplace.ComputeMatrix(\r\n",
    "                                    Mapping2D, null, Mapping2D);\r\n",
    "    double condNo1                = Matrix_SIP_sf.condest();  \r\n",
    "    bool definite                 = Matrix_SIP_sf.IsDefinite();\r\n",
    " \r\n",
    "    /// We solve the system \r\n",
    "    /// \r\n",
    "    ///     Matrix\\_SIP\\_sf \\cdot u =  RHS\r\n",
    "    /// \r\n",
    "    /// using a an iterative solver, the so-called \r\n",
    "    /// conjugate gradient (CG) method.\r\n",
    "    /// CG requires a positive definite matrix. \r\n",
    "    /// The function \\code{Solve\\_CG} returns the number of iterations.\r\n",
    "    SinglePhaseField u = new SinglePhaseField(DGBasisOn2D,\"u\");\r\n",
    "    u.InitRandom();\r\n",
    "    int NoOfIter = Matrix_SIP_sf.Solve_CG(u.CoordinateVector, RHSvec);\r\n",
    " \r\n",
    "    SinglePhaseField Error = new SinglePhaseField(DGBasisOn2D,\"Error\");\r\n",
    "    Error.ProjectField(exSol);\r\n",
    "    Error.Acc(-1.0, u);\r\n",
    " \r\n",
    "    double L2err = u.L2Error(exSol);\r\n",
    " \r\n",
    "    Console.WriteLine(sf + \"\\t\" + condNo1.ToString(\"0.#E-00\") \r\n",
    "                         + \"\\t\" + NoOfIter \r\n",
    "                         + \"\\t\" + L2err.ToString(\"0.#E-00\") \r\n",
    "                         + \"\\t\" + definite);\r\n",
    "    Results.Add(new Tuple<double,double,int,double,bool>(sf, condNo1, NoOfIter,\r\n",
    "                                 L2err, definite));\r\n",
    "}"
   ],
   "outputs": [
    {
     "output_type": "stream",
     "name": "stdout",
     "text": [
      "0.001\t8.1E04\t14419\t2.1E-07\tFalse\n",
      "0.002\t8.1E04\t14797\t2.7E-07\tFalse\n",
      "0.01\t7.9E04\t20102\t4.5E-07\tFalse\n",
      "0.02\t7.9E04\t26812\t5.2E-07\tFalse\n",
      "0.1\t8.5E05\t23539\t7.4E-07\tFalse\n",
      "0.2\t4.5E04\t5095\t2E-07\tFalse\n",
      "1\t3.5E05\t1440\t2E-06\tTrue\n",
      "2\t7.9E05\t2060\t3.5E-06\tTrue\n",
      "10\t4.3E06\t4470\t1.3E-05\tTrue\n",
      "20\t8.6E06\t6120\t2.7E-05\tTrue\n",
      "100\t4.3E07\t11691\t1.6E-04\tTrue\n"
     ]
    }
   ],
   "metadata": {
    "dotnet_interactive": {
     "language": "csharp"
    }
   }
  },
  {
   "cell_type": "code",
   "execution_count": null,
   "source": [
    "/// tests BoSSScmdSilent\r\n",
    "foreach(var r in Results) {\r\n",
    "    if(r.Item1 >= 1 && r.Item1 <= 20) {\r\n",
    "        Assert.LessOrEqual(r.Item2, 1e7); // cond No.\r\n",
    "        Assert.LessOrEqual(r.Item3, 7000); // iter\r\n",
    "        Assert.LessOrEqual(r.Item4, 1e-4); // L2 err\r\n",
    "        Assert.IsTrue(r.Item5); // definite   \r\n",
    "    }\r\n",
    "    if(r.Item1 <= 0.1) {\r\n",
    "        Assert.IsFalse(r.Item5); // indefinite   \r\n",
    "    }\r\n",
    "}"
   ],
   "outputs": [
    {
     "output_type": "error",
     "ename": "Unhandled exception",
     "evalue": "NUnit.Framework.AssertionException:   Expected: less than or equal to 6000\r\n  But was:  6120\r\n\r\n   at NUnit.Framework.Assert.ReportFailure(String message) in /_/src/NUnitFramework/framework/Assert.cs:line 395\r\n   at NUnit.Framework.Assert.ReportFailure(ConstraintResult result, String message, Object[] args) in /_/src/NUnitFramework/framework/Assert.cs:line 383\r\n   at NUnit.Framework.Assert.That[TActual](TActual actual, IResolveConstraint expression, String message, Object[] args) in /_/src/NUnitFramework/framework/Assert.That.cs:line 229\r\n   at NUnit.Framework.Assert.LessOrEqual(Int32 arg1, Int32 arg2) in /_/src/NUnitFramework/framework/Assert.Comparisons.cs:line 801\r\n   at Submission#25.<<Initialize>>d__0.MoveNext()\r\n--- End of stack trace from previous location ---\r\n   at Microsoft.CodeAnalysis.Scripting.ScriptExecutionState.RunSubmissionsAsync[TResult](ImmutableArray`1 precedingExecutors, Func`2 currentExecutor, StrongBox`1 exceptionHolderOpt, Func`2 catchExceptionOpt, CancellationToken cancellationToken)",
     "traceback": [
      "NUnit.Framework.AssertionException:   Expected: less than or equal to 6000\r\n  But was:  6120\r\n\r\n   at NUnit.Framework.Assert.ReportFailure(String message) in /_/src/NUnitFramework/framework/Assert.cs:line 395\r\n   at NUnit.Framework.Assert.ReportFailure(ConstraintResult result, String message, Object[] args) in /_/src/NUnitFramework/framework/Assert.cs:line 383\r\n   at NUnit.Framework.Assert.That[TActual](TActual actual, IResolveConstraint expression, String message, Object[] args) in /_/src/NUnitFramework/framework/Assert.That.cs:line 229\r\n   at NUnit.Framework.Assert.LessOrEqual(Int32 arg1, Int32 arg2) in /_/src/NUnitFramework/framework/Assert.Comparisons.cs:line 801\r\n   at Submission#25.<<Initialize>>d__0.MoveNext()\r\n--- End of stack trace from previous location ---\r\n   at Microsoft.CodeAnalysis.Scripting.ScriptExecutionState.RunSubmissionsAsync[TResult](ImmutableArray`1 precedingExecutors, Func`2 currentExecutor, StrongBox`1 exceptionHolderOpt, Func`2 catchExceptionOpt, CancellationToken cancellationToken)",
      "   at NUnit.Framework.Assert.ReportFailure(String message) in /_/src/NUnitFramework/framework/Assert.cs:line 395",
      "   at NUnit.Framework.Assert.ReportFailure(ConstraintResult result, String message, Object[] args) in /_/src/NUnitFramework/framework/Assert.cs:line 383",
      "   at NUnit.Framework.Assert.That[TActual](TActual actual, IResolveConstraint expression, String message, Object[] args) in /_/src/NUnitFramework/framework/Assert.That.cs:line 229",
      "   at NUnit.Framework.Assert.LessOrEqual(Int32 arg1, Int32 arg2) in /_/src/NUnitFramework/framework/Assert.Comparisons.cs:line 801",
      "   at Submission#25.<<Initialize>>d__0.MoveNext()",
      "--- End of stack trace from previous location ---",
      "   at Microsoft.CodeAnalysis.Scripting.ScriptExecutionState.RunSubmissionsAsync[TResult](ImmutableArray`1 precedingExecutors, Func`2 currentExecutor, StrongBox`1 exceptionHolderOpt, Func`2 catchExceptionOpt, CancellationToken cancellationToken)"
     ]
    }
   ],
   "metadata": {
    "dotnet_interactive": {
     "language": "csharp"
    }
   }
  },
  {
   "cell_type": "markdown",
   "source": [
    "# 4.3 Plotting\r\n",
    "Plot the number of conjugate gradient iterations versus the \r\n",
    "**PenaltySafety**."
   ],
   "metadata": {}
  },
  {
   "cell_type": "code",
   "execution_count": null,
   "source": [
    "\r\n",
    "var xValues = Results.Select(r => r.Item1).ToArray();\r\n",
    "var yValues = Results.Select(r => ((double)(r.Item3))).ToArray();\r\n",
    "\r\n",
    "var plt = new Plot2Ddata();\r\n",
    "plt.AddDataGroup(xValues, yValues);\r\n",
    "\r\n",
    "/// A logarithmic scale is used for the horizontal axis.\r\n",
    "plt.LogX = true;\r\n",
    "\r\n",
    "/// Set Format\r\n",
    "plt.dataGroups[0].Format =  new PlotFormat(lineColor: LineColors.Blue, \r\n",
    "                                           pointSize: 2, \r\n",
    "                                           dashType: DashTypes.DotDashed, \r\n",
    "                                           Style: Styles.LinesPoints, \r\n",
    "                                           pointType:PointTypes.OpenCircle);\r\n",
    "// Show!\r\n",
    "plt.PlotNow()"
   ],
   "outputs": [
    {
     "output_type": "stream",
     "name": "stdout",
     "text": [
      "Using gnuplot: C:\\Program Files (x86)\\FDY\\BoSSS\\bin\\native\\win\\gnuplot-gp510-20160418-win32-mingw\\gnuplot\\bin\\gnuplot.exe\n",
      "set key font \",16\"Left reverse \n"
     ]
    },
    {
     "output_type": "execute_result",
     "data": {
      "text/html": [
       "<?xml version=\"1.0\" encoding=\"utf-8\"  standalone=\"no\"?>\n",
       "<!DOCTYPE svg PUBLIC \"-//W3C//DTD SVG 1.1//EN\"\n",
       " \"http://www.w3.org/Graphics/SVG/1.1/DTD/svg11.dtd\">\n",
       "<svg \n",
       " width=\"1024\" height=\"768\"\n",
       " viewBox=\"0 0 1024 768\"\n",
       " xmlns=\"http://www.w3.org/2000/svg\"\n",
       " xmlns:xlink=\"http://www.w3.org/1999/xlink\"\n",
       ">\n",
       "\n",
       "<title>Gnuplot</title>\n",
       "<desc>Produced by GNUPLOT 5.1 patchlevel 0 </desc>\n",
       "\n",
       "<g id=\"gnuplot_canvas\">\n",
       "\n",
       "<rect x=\"0\" y=\"0\" width=\"1024\" height=\"768\" fill=\"#ffffff\"/>\n",
       "<defs>\n",
       "\n",
       "\t<circle id='gpDot' r='0.5' stroke-width='0.5'/>\n",
       "\t<path id='gpPt0' stroke-width='0.222' stroke='currentColor' d='M-1,0 h2 M0,-1 v2'/>\n",
       "\t<path id='gpPt1' stroke-width='0.222' stroke='currentColor' d='M-1,-1 L1,1 M1,-1 L-1,1'/>\n",
       "\t<path id='gpPt2' stroke-width='0.222' stroke='currentColor' d='M-1,0 L1,0 M0,-1 L0,1 M-1,-1 L1,1 M-1,1 L1,-1'/>\n",
       "\t<rect id='gpPt3' stroke-width='0.222' stroke='currentColor' x='-1' y='-1' width='2' height='2'/>\n",
       "\t<rect id='gpPt4' stroke-width='0.222' stroke='currentColor' fill='currentColor' x='-1' y='-1' width='2' height='2'/>\n",
       "\t<circle id='gpPt5' stroke-width='0.222' stroke='currentColor' cx='0' cy='0' r='1'/>\n",
       "\t<use xlink:href='#gpPt5' id='gpPt6' fill='currentColor' stroke='none'/>\n",
       "\t<path id='gpPt7' stroke-width='0.222' stroke='currentColor' d='M0,-1.33 L-1.33,0.67 L1.33,0.67 z'/>\n",
       "\t<use xlink:href='#gpPt7' id='gpPt8' fill='currentColor' stroke='none'/>\n",
       "\t<use xlink:href='#gpPt7' id='gpPt9' stroke='currentColor' transform='rotate(180)'/>\n",
       "\t<use xlink:href='#gpPt9' id='gpPt10' fill='currentColor' stroke='none'/>\n",
       "\t<use xlink:href='#gpPt3' id='gpPt11' stroke='currentColor' transform='rotate(45)'/>\n",
       "\t<use xlink:href='#gpPt11' id='gpPt12' fill='currentColor' stroke='none'/>\n",
       "\t<path id='gpPt13' stroke-width='0.222' stroke='currentColor' d='M0,1.330 L1.265,0.411 L0.782,-1.067 L-0.782,-1.076 L-1.265,0.411 z'/>\n",
       "\t<use xlink:href='#gpPt13' id='gpPt14' fill='currentColor' stroke='none'/>\n",
       "\t<filter id='textbox' filterUnits='objectBoundingBox' x='0' y='0' height='1' width='1'>\n",
       "\t  <feFlood flood-color='#FFFFFF' flood-opacity='1' result='bgnd'/>\n",
       "\t  <feComposite in='SourceGraphic' in2='bgnd' operator='atop'/>\n",
       "\t</filter>\n",
       "\t<filter id='greybox' filterUnits='objectBoundingBox' x='0' y='0' height='1' width='1'>\n",
       "\t  <feFlood flood-color='lightgrey' flood-opacity='1' result='grey'/>\n",
       "\t  <feComposite in='SourceGraphic' in2='grey' operator='atop'/>\n",
       "\t</filter>\n",
       "</defs>\n",
       "<g fill=\"none\" color=\"#FFFFFF\" stroke=\"currentColor\" stroke-width=\"1.00\" stroke-linecap=\"butt\" stroke-linejoin=\"miter\">\n",
       "</g>\n",
       "<g fill=\"none\" color=\"black\" stroke=\"currentColor\" stroke-width=\"1.00\" stroke-linecap=\"butt\" stroke-linejoin=\"miter\">\n",
       "\t<path stroke='black'  d='M70.5,732.0 L79.5,732.0 M974.1,732.0 L965.1,732.0  '/>\t<g transform=\"translate(62.2,736.5)\" stroke=\"none\" fill=\"black\" font-family=\"Arial\" font-size=\"12.00\"  text-anchor=\"end\">\n",
       "\t\t<text><tspan font-family=\"Arial\" > 0</tspan></text>\n",
       "\t</g>\n",
       "</g>\n",
       "<g fill=\"none\" color=\"black\" stroke=\"currentColor\" stroke-width=\"1.00\" stroke-linecap=\"butt\" stroke-linejoin=\"miter\">\n",
       "\t<path stroke='black'  d='M70.5,616.0 L79.5,616.0 M974.1,616.0 L965.1,616.0  '/>\t<g transform=\"translate(62.2,620.5)\" stroke=\"none\" fill=\"black\" font-family=\"Arial\" font-size=\"12.00\"  text-anchor=\"end\">\n",
       "\t\t<text><tspan font-family=\"Arial\" > 5000</tspan></text>\n",
       "\t</g>\n",
       "</g>\n",
       "<g fill=\"none\" color=\"black\" stroke=\"currentColor\" stroke-width=\"1.00\" stroke-linecap=\"butt\" stroke-linejoin=\"miter\">\n",
       "\t<path stroke='black'  d='M70.5,500.0 L79.5,500.0 M974.1,500.0 L965.1,500.0  '/>\t<g transform=\"translate(62.2,504.5)\" stroke=\"none\" fill=\"black\" font-family=\"Arial\" font-size=\"12.00\"  text-anchor=\"end\">\n",
       "\t\t<text><tspan font-family=\"Arial\" > 10000</tspan></text>\n",
       "\t</g>\n",
       "</g>\n",
       "<g fill=\"none\" color=\"black\" stroke=\"currentColor\" stroke-width=\"1.00\" stroke-linecap=\"butt\" stroke-linejoin=\"miter\">\n",
       "\t<path stroke='black'  d='M70.5,384.1 L79.5,384.1 M974.1,384.1 L965.1,384.1  '/>\t<g transform=\"translate(62.2,388.6)\" stroke=\"none\" fill=\"black\" font-family=\"Arial\" font-size=\"12.00\"  text-anchor=\"end\">\n",
       "\t\t<text><tspan font-family=\"Arial\" > 15000</tspan></text>\n",
       "\t</g>\n",
       "</g>\n",
       "<g fill=\"none\" color=\"black\" stroke=\"currentColor\" stroke-width=\"1.00\" stroke-linecap=\"butt\" stroke-linejoin=\"miter\">\n",
       "\t<path stroke='black'  d='M70.5,268.1 L79.5,268.1 M974.1,268.1 L965.1,268.1  '/>\t<g transform=\"translate(62.2,272.6)\" stroke=\"none\" fill=\"black\" font-family=\"Arial\" font-size=\"12.00\"  text-anchor=\"end\">\n",
       "\t\t<text><tspan font-family=\"Arial\" > 20000</tspan></text>\n",
       "\t</g>\n",
       "</g>\n",
       "<g fill=\"none\" color=\"black\" stroke=\"currentColor\" stroke-width=\"1.00\" stroke-linecap=\"butt\" stroke-linejoin=\"miter\">\n",
       "\t<path stroke='black'  d='M70.5,152.1 L79.5,152.1 M974.1,152.1 L965.1,152.1  '/>\t<g transform=\"translate(62.2,156.6)\" stroke=\"none\" fill=\"black\" font-family=\"Arial\" font-size=\"12.00\"  text-anchor=\"end\">\n",
       "\t\t<text><tspan font-family=\"Arial\" > 25000</tspan></text>\n",
       "\t</g>\n",
       "</g>\n",
       "<g fill=\"none\" color=\"black\" stroke=\"currentColor\" stroke-width=\"1.00\" stroke-linecap=\"butt\" stroke-linejoin=\"miter\">\n",
       "\t<path stroke='black'  d='M70.5,36.1 L79.5,36.1 M974.1,36.1 L965.1,36.1  '/>\t<g transform=\"translate(62.2,40.6)\" stroke=\"none\" fill=\"black\" font-family=\"Arial\" font-size=\"12.00\"  text-anchor=\"end\">\n",
       "\t\t<text><tspan font-family=\"Arial\" > 30000</tspan></text>\n",
       "\t</g>\n",
       "</g>\n",
       "<g fill=\"none\" color=\"black\" stroke=\"currentColor\" stroke-width=\"1.00\" stroke-linecap=\"butt\" stroke-linejoin=\"miter\">\n",
       "\t<path stroke='black'  d='M70.5,732.0 L70.5,723.0 M70.5,36.1 L70.5,45.1  '/>\t<g transform=\"translate(70.5,763.2)\" stroke=\"none\" fill=\"black\" font-family=\"sans\" font-size=\"16.00\"  text-anchor=\"middle\">\n",
       "\t\t<text><tspan font-family=\"sans\" >$10</tspan><tspan font-family=\"sans\"  font-size=\"12.8\" dy=\"-8.00px\">-3</tspan><tspan font-family=\"sans\"  font-size=\"16.0\" dy=\"8.00px\">$</tspan></text>\n",
       "\t</g>\n",
       "</g>\n",
       "<g fill=\"none\" color=\"black\" stroke=\"currentColor\" stroke-width=\"1.00\" stroke-linecap=\"butt\" stroke-linejoin=\"miter\">\n",
       "\t<path stroke='black'  d='M124.9,732.0 L124.9,727.5 M124.9,36.1 L124.9,40.6 M196.8,732.0 L196.8,727.5 M196.8,36.1 L196.8,40.6\n",
       "\t\tM233.7,732.0 L233.7,727.5 M233.7,36.1 L233.7,40.6 M251.2,732.0 L251.2,723.0 M251.2,36.1 L251.2,45.1\n",
       "\t\t '/>\t<g transform=\"translate(251.2,763.2)\" stroke=\"none\" fill=\"black\" font-family=\"sans\" font-size=\"16.00\"  text-anchor=\"middle\">\n",
       "\t\t<text><tspan font-family=\"sans\" >$10</tspan><tspan font-family=\"sans\"  font-size=\"12.8\" dy=\"-8.00px\">-2</tspan><tspan font-family=\"sans\"  font-size=\"16.0\" dy=\"8.00px\">$</tspan></text>\n",
       "\t</g>\n",
       "</g>\n",
       "<g fill=\"none\" color=\"black\" stroke=\"currentColor\" stroke-width=\"1.00\" stroke-linecap=\"butt\" stroke-linejoin=\"miter\">\n",
       "\t<path stroke='black'  d='M305.6,732.0 L305.6,727.5 M305.6,36.1 L305.6,40.6 M377.5,732.0 L377.5,727.5 M377.5,36.1 L377.5,40.6\n",
       "\t\tM414.4,732.0 L414.4,727.5 M414.4,36.1 L414.4,40.6 M431.9,732.0 L431.9,723.0 M431.9,36.1 L431.9,45.1\n",
       "\t\t '/>\t<g transform=\"translate(431.9,763.2)\" stroke=\"none\" fill=\"black\" font-family=\"sans\" font-size=\"16.00\"  text-anchor=\"middle\">\n",
       "\t\t<text><tspan font-family=\"sans\" >$10</tspan><tspan font-family=\"sans\"  font-size=\"12.8\" dy=\"-8.00px\">-1</tspan><tspan font-family=\"sans\"  font-size=\"16.0\" dy=\"8.00px\">$</tspan></text>\n",
       "\t</g>\n",
       "</g>\n",
       "<g fill=\"none\" color=\"black\" stroke=\"currentColor\" stroke-width=\"1.00\" stroke-linecap=\"butt\" stroke-linejoin=\"miter\">\n",
       "\t<path stroke='black'  d='M486.3,732.0 L486.3,727.5 M486.3,36.1 L486.3,40.6 M558.3,732.0 L558.3,727.5 M558.3,36.1 L558.3,40.6\n",
       "\t\tM595.1,732.0 L595.1,727.5 M595.1,36.1 L595.1,40.6 M612.7,732.0 L612.7,723.0 M612.7,36.1 L612.7,45.1\n",
       "\t\t '/>\t<g transform=\"translate(612.7,763.2)\" stroke=\"none\" fill=\"black\" font-family=\"sans\" font-size=\"16.00\"  text-anchor=\"middle\">\n",
       "\t\t<text><tspan font-family=\"sans\" >$10</tspan><tspan font-family=\"sans\"  font-size=\"12.8\" dy=\"-8.00px\">0</tspan><tspan font-family=\"sans\"  font-size=\"16.0\" dy=\"8.00px\">$</tspan></text>\n",
       "\t</g>\n",
       "</g>\n",
       "<g fill=\"none\" color=\"black\" stroke=\"currentColor\" stroke-width=\"1.00\" stroke-linecap=\"butt\" stroke-linejoin=\"miter\">\n",
       "\t<path stroke='black'  d='M667.1,732.0 L667.1,727.5 M667.1,36.1 L667.1,40.6 M739.0,732.0 L739.0,727.5 M739.0,36.1 L739.0,40.6\n",
       "\t\tM775.9,732.0 L775.9,727.5 M775.9,36.1 L775.9,40.6 M793.4,732.0 L793.4,723.0 M793.4,36.1 L793.4,45.1\n",
       "\t\t '/>\t<g transform=\"translate(793.4,763.2)\" stroke=\"none\" fill=\"black\" font-family=\"sans\" font-size=\"16.00\"  text-anchor=\"middle\">\n",
       "\t\t<text><tspan font-family=\"sans\" >$10</tspan><tspan font-family=\"sans\"  font-size=\"12.8\" dy=\"-8.00px\">1</tspan><tspan font-family=\"sans\"  font-size=\"16.0\" dy=\"8.00px\">$</tspan></text>\n",
       "\t</g>\n",
       "</g>\n",
       "<g fill=\"none\" color=\"black\" stroke=\"currentColor\" stroke-width=\"1.00\" stroke-linecap=\"butt\" stroke-linejoin=\"miter\">\n",
       "\t<path stroke='black'  d='M847.8,732.0 L847.8,727.5 M847.8,36.1 L847.8,40.6 M919.7,732.0 L919.7,727.5 M919.7,36.1 L919.7,40.6\n",
       "\t\tM956.6,732.0 L956.6,727.5 M956.6,36.1 L956.6,40.6 M974.1,732.0 L974.1,723.0 M974.1,36.1 L974.1,45.1\n",
       "\t\t '/>\t<g transform=\"translate(974.1,763.2)\" stroke=\"none\" fill=\"black\" font-family=\"sans\" font-size=\"16.00\"  text-anchor=\"middle\">\n",
       "\t\t<text><tspan font-family=\"sans\" >$10</tspan><tspan font-family=\"sans\"  font-size=\"12.8\" dy=\"-8.00px\">2</tspan><tspan font-family=\"sans\"  font-size=\"16.0\" dy=\"8.00px\">$</tspan></text>\n",
       "\t</g>\n",
       "</g>\n",
       "<g fill=\"none\" color=\"black\" stroke=\"currentColor\" stroke-width=\"1.00\" stroke-linecap=\"butt\" stroke-linejoin=\"miter\">\n",
       "\t<path stroke='black'  d='M974.1,732.0 L965.1,732.0  '/>\t<g transform=\"translate(982.4,736.5)\" stroke=\"none\" fill=\"black\" font-family=\"Arial\" font-size=\"12.00\"  text-anchor=\"start\">\n",
       "\t\t<text><tspan font-family=\"Arial\" > </tspan></text>\n",
       "\t</g>\n",
       "</g>\n",
       "<g fill=\"none\" color=\"black\" stroke=\"currentColor\" stroke-width=\"1.00\" stroke-linecap=\"butt\" stroke-linejoin=\"miter\">\n",
       "\t<path stroke='black'  d='M974.1,616.0 L965.1,616.0  '/>\t<g transform=\"translate(982.4,620.5)\" stroke=\"none\" fill=\"black\" font-family=\"Arial\" font-size=\"12.00\"  text-anchor=\"start\">\n",
       "\t\t<text><tspan font-family=\"Arial\" > </tspan></text>\n",
       "\t</g>\n",
       "</g>\n",
       "<g fill=\"none\" color=\"black\" stroke=\"currentColor\" stroke-width=\"1.00\" stroke-linecap=\"butt\" stroke-linejoin=\"miter\">\n",
       "\t<path stroke='black'  d='M974.1,500.0 L965.1,500.0  '/>\t<g transform=\"translate(982.4,504.5)\" stroke=\"none\" fill=\"black\" font-family=\"Arial\" font-size=\"12.00\"  text-anchor=\"start\">\n",
       "\t\t<text><tspan font-family=\"Arial\" > </tspan></text>\n",
       "\t</g>\n",
       "</g>\n",
       "<g fill=\"none\" color=\"black\" stroke=\"currentColor\" stroke-width=\"1.00\" stroke-linecap=\"butt\" stroke-linejoin=\"miter\">\n",
       "\t<path stroke='black'  d='M974.1,384.1 L965.1,384.1  '/>\t<g transform=\"translate(982.4,388.6)\" stroke=\"none\" fill=\"black\" font-family=\"Arial\" font-size=\"12.00\"  text-anchor=\"start\">\n",
       "\t\t<text><tspan font-family=\"Arial\" > </tspan></text>\n",
       "\t</g>\n",
       "</g>\n",
       "<g fill=\"none\" color=\"black\" stroke=\"currentColor\" stroke-width=\"1.00\" stroke-linecap=\"butt\" stroke-linejoin=\"miter\">\n",
       "\t<path stroke='black'  d='M974.1,268.1 L965.1,268.1  '/>\t<g transform=\"translate(982.4,272.6)\" stroke=\"none\" fill=\"black\" font-family=\"Arial\" font-size=\"12.00\"  text-anchor=\"start\">\n",
       "\t\t<text><tspan font-family=\"Arial\" > </tspan></text>\n",
       "\t</g>\n",
       "</g>\n",
       "<g fill=\"none\" color=\"black\" stroke=\"currentColor\" stroke-width=\"1.00\" stroke-linecap=\"butt\" stroke-linejoin=\"miter\">\n",
       "\t<path stroke='black'  d='M974.1,152.1 L965.1,152.1  '/>\t<g transform=\"translate(982.4,156.6)\" stroke=\"none\" fill=\"black\" font-family=\"Arial\" font-size=\"12.00\"  text-anchor=\"start\">\n",
       "\t\t<text><tspan font-family=\"Arial\" > </tspan></text>\n",
       "\t</g>\n",
       "</g>\n",
       "<g fill=\"none\" color=\"black\" stroke=\"currentColor\" stroke-width=\"1.00\" stroke-linecap=\"butt\" stroke-linejoin=\"miter\">\n",
       "\t<path stroke='black'  d='M974.1,36.1 L965.1,36.1  '/>\t<g transform=\"translate(982.4,40.6)\" stroke=\"none\" fill=\"black\" font-family=\"Arial\" font-size=\"12.00\"  text-anchor=\"start\">\n",
       "\t\t<text><tspan font-family=\"Arial\" > </tspan></text>\n",
       "\t</g>\n",
       "</g>\n",
       "<g fill=\"none\" color=\"black\" stroke=\"currentColor\" stroke-width=\"1.00\" stroke-linecap=\"butt\" stroke-linejoin=\"miter\">\n",
       "\t<path stroke='black'  d='M70.5,36.1 L70.5,45.1  '/>\t<g transform=\"translate(70.5,22.6)\" stroke=\"none\" fill=\"black\" font-family=\"Arial\" font-size=\"12.00\"  text-anchor=\"middle\">\n",
       "\t\t<text><tspan font-family=\"Arial\" > </tspan></text>\n",
       "\t</g>\n",
       "</g>\n",
       "<g fill=\"none\" color=\"black\" stroke=\"currentColor\" stroke-width=\"1.00\" stroke-linecap=\"butt\" stroke-linejoin=\"miter\">\n",
       "\t<path stroke='black'  d='M251.2,36.1 L251.2,45.1  '/>\t<g transform=\"translate(251.2,22.6)\" stroke=\"none\" fill=\"black\" font-family=\"Arial\" font-size=\"12.00\"  text-anchor=\"middle\">\n",
       "\t\t<text><tspan font-family=\"Arial\" > </tspan></text>\n",
       "\t</g>\n",
       "</g>\n",
       "<g fill=\"none\" color=\"black\" stroke=\"currentColor\" stroke-width=\"1.00\" stroke-linecap=\"butt\" stroke-linejoin=\"miter\">\n",
       "\t<path stroke='black'  d='M431.9,36.1 L431.9,45.1  '/>\t<g transform=\"translate(431.9,22.6)\" stroke=\"none\" fill=\"black\" font-family=\"Arial\" font-size=\"12.00\"  text-anchor=\"middle\">\n",
       "\t\t<text><tspan font-family=\"Arial\" > </tspan></text>\n",
       "\t</g>\n",
       "</g>\n",
       "<g fill=\"none\" color=\"black\" stroke=\"currentColor\" stroke-width=\"1.00\" stroke-linecap=\"butt\" stroke-linejoin=\"miter\">\n",
       "\t<path stroke='black'  d='M612.7,36.1 L612.7,45.1  '/>\t<g transform=\"translate(612.7,22.6)\" stroke=\"none\" fill=\"black\" font-family=\"Arial\" font-size=\"12.00\"  text-anchor=\"middle\">\n",
       "\t\t<text><tspan font-family=\"Arial\" > </tspan></text>\n",
       "\t</g>\n",
       "</g>\n",
       "<g fill=\"none\" color=\"black\" stroke=\"currentColor\" stroke-width=\"1.00\" stroke-linecap=\"butt\" stroke-linejoin=\"miter\">\n",
       "\t<path stroke='black'  d='M793.4,36.1 L793.4,45.1  '/>\t<g transform=\"translate(793.4,22.6)\" stroke=\"none\" fill=\"black\" font-family=\"Arial\" font-size=\"12.00\"  text-anchor=\"middle\">\n",
       "\t\t<text><tspan font-family=\"Arial\" > </tspan></text>\n",
       "\t</g>\n",
       "</g>\n",
       "<g fill=\"none\" color=\"black\" stroke=\"currentColor\" stroke-width=\"1.00\" stroke-linecap=\"butt\" stroke-linejoin=\"miter\">\n",
       "\t<path stroke='black'  d='M974.1,36.1 L974.1,45.1  '/>\t<g transform=\"translate(974.1,22.6)\" stroke=\"none\" fill=\"black\" font-family=\"Arial\" font-size=\"12.00\"  text-anchor=\"middle\">\n",
       "\t\t<text><tspan font-family=\"Arial\" > </tspan></text>\n",
       "\t</g>\n",
       "</g>\n",
       "<g fill=\"none\" color=\"black\" stroke=\"currentColor\" stroke-width=\"1.00\" stroke-linecap=\"butt\" stroke-linejoin=\"miter\">\n",
       "</g>\n",
       "<g fill=\"none\" color=\"black\" stroke=\"currentColor\" stroke-width=\"1.00\" stroke-linecap=\"butt\" stroke-linejoin=\"miter\">\n",
       "\t<path stroke='black'  d='M70.5,36.1 L70.5,732.0 L974.1,732.0 L974.1,36.1 L70.5,36.1 Z  '/></g>\n",
       "<g fill=\"none\" color=\"black\" stroke=\"currentColor\" stroke-width=\"1.00\" stroke-linecap=\"butt\" stroke-linejoin=\"miter\">\n",
       "</g>\n",
       "\t<g id=\"gnuplot_plot_1\" ><title>gnuplot_plot_1</title>\n",
       "<g fill=\"none\" color=\"black\" stroke=\"currentColor\" stroke-width=\"1.00\" stroke-linecap=\"butt\" stroke-linejoin=\"miter\">\n",
       "\t<path stroke='rgb(  0,   0, 255)' stroke-dasharray='4.0,2.0,1.0,2.0'  d='M70.5,397.5 L124.9,388.8 L251.2,265.7 L305.6,110.1 L431.9,186.0 L486.3,613.8 L612.7,698.6 L667.1,684.2\n",
       "\t\tL793.4,628.3 L847.8,590.0 L974.1,460.8  '/>\t<use xlink:href='#gpPt5' transform='translate(70.5,397.5) scale(9.00)' color='rgb(  0,   0, 255)'/>\n",
       "\t<use xlink:href='#gpPt5' transform='translate(124.9,388.8) scale(9.00)' color='rgb(  0,   0, 255)'/>\n",
       "\t<use xlink:href='#gpPt5' transform='translate(251.2,265.7) scale(9.00)' color='rgb(  0,   0, 255)'/>\n",
       "\t<use xlink:href='#gpPt5' transform='translate(305.6,110.1) scale(9.00)' color='rgb(  0,   0, 255)'/>\n",
       "\t<use xlink:href='#gpPt5' transform='translate(431.9,186.0) scale(9.00)' color='rgb(  0,   0, 255)'/>\n",
       "\t<use xlink:href='#gpPt5' transform='translate(486.3,613.8) scale(9.00)' color='rgb(  0,   0, 255)'/>\n",
       "\t<use xlink:href='#gpPt5' transform='translate(612.7,698.6) scale(9.00)' color='rgb(  0,   0, 255)'/>\n",
       "\t<use xlink:href='#gpPt5' transform='translate(667.1,684.2) scale(9.00)' color='rgb(  0,   0, 255)'/>\n",
       "\t<use xlink:href='#gpPt5' transform='translate(793.4,628.3) scale(9.00)' color='rgb(  0,   0, 255)'/>\n",
       "\t<use xlink:href='#gpPt5' transform='translate(847.8,590.0) scale(9.00)' color='rgb(  0,   0, 255)'/>\n",
       "\t<use xlink:href='#gpPt5' transform='translate(974.1,460.8) scale(9.00)' color='rgb(  0,   0, 255)'/>\n",
       "</g>\n",
       "\t</g>\n",
       "<g fill=\"none\" color=\"#FFFFFF\" stroke=\"rgb(  0,   0, 255)\" stroke-width=\"2.00\" stroke-linecap=\"butt\" stroke-linejoin=\"miter\">\n",
       "</g>\n",
       "<g fill=\"none\" color=\"black\" stroke=\"currentColor\" stroke-width=\"2.00\" stroke-linecap=\"butt\" stroke-linejoin=\"miter\">\n",
       "</g>\n",
       "<g fill=\"none\" color=\"black\" stroke=\"black\" stroke-width=\"1.00\" stroke-linecap=\"butt\" stroke-linejoin=\"miter\">\n",
       "</g>\n",
       "<g fill=\"none\" color=\"black\" stroke=\"currentColor\" stroke-width=\"1.00\" stroke-linecap=\"butt\" stroke-linejoin=\"miter\">\n",
       "\t<path stroke='black'  d='M70.5,36.1 L70.5,732.0 L974.1,732.0 L974.1,36.1 L70.5,36.1 Z  '/></g>\n",
       "<g fill=\"none\" color=\"black\" stroke=\"currentColor\" stroke-width=\"1.00\" stroke-linecap=\"butt\" stroke-linejoin=\"miter\">\n",
       "</g>\n",
       "</g>\n",
       "</svg>\n",
       "\n"
      ]
     },
     "metadata": {},
     "execution_count": 24
    }
   ],
   "metadata": {
    "dotnet_interactive": {
     "language": "csharp"
    }
   }
  },
  {
   "cell_type": "markdown",
   "source": [
    "# 4.4 Convergence study, indefinite vs. definite.\r\n",
    "We are going to solve the SIP-system for different grid resolutions,\r\n",
    "comparing an insufficient penalty to a penalty which is large enough."
   ],
   "metadata": {}
  },
  {
   "cell_type": "code",
   "execution_count": null,
   "source": [
    "\r\n",
    "double[] Resolution = new double[] { 8, 16, 32, 64, 128, 256 };\r\n",
    "List<double> L2Error_indef  = new List<double>();\r\n",
    "List<double> L2Error_posdef = new List<double>();\r\n",
    "foreach(int Res in Resolution) {\r\n",
    "    var grd2D = Grid2D.Cartesian2DGrid(GenericBlas.Linspace(-1,1,(int)Res + 1), \r\n",
    "                                       GenericBlas.Linspace(-1,1,(int)Res + 1));\r\n",
    "    var gdata2D = new GridData(grd2D);\r\n",
    "    var DGBasisOn2D = new Basis(gdata2D, 2);\r\n",
    "    var Mapping2D  = new UnsetteledCoordinateMapping(DGBasisOn2D);\r\n",
    " \r\n",
    "    SinglePhaseField RHS = new SinglePhaseField(DGBasisOn2D, \"RHS\");\r\n",
    "    RHS.ProjectField(exRhs);\r\n",
    "    SinglePhaseField uEx = new SinglePhaseField(\r\n",
    "           new Basis(gdata2D, DGBasisOn2D.Degree*2),\r\n",
    "           \"Error\");\r\n",
    "    uEx.ProjectField(exSol);\r\n",
    " \r\n",
    " \r\n",
    "    i_SipLaplace.PenaltySafety    = 0.01;\r\n",
    "    var Matrix_SIP_indef          = Operator_SipLaplace.ComputeMatrix(\r\n",
    "                                    Mapping2D,null,Mapping2D);\r\n",
    " \r\n",
    "    SinglePhaseField u_indef = new SinglePhaseField(DGBasisOn2D,\"u\");\r\n",
    "    Matrix_SIP_indef.Solve_Direct(u_indef.CoordinateVector, \r\n",
    "                                  RHS.CoordinateVector);\r\n",
    "    var Error_indef = uEx.CloneAs();\r\n",
    "    Error_indef.AccLaidBack(-1.0, u_indef);\r\n",
    "    L2Error_indef.Add(Error_indef.L2Norm());\r\n",
    " \r\n",
    "    /// In order to have a positive definite system, we are\r\n",
    "    /// using $\\text{\\tt PenaltySafety} = 2$!\r\n",
    "    i_SipLaplace.PenaltySafety = 2.0;\r\n",
    "    var Matrix_SIP_posdef         = Operator_SipLaplace.ComputeMatrix(\r\n",
    "                                    Mapping2D,null,Mapping2D);\r\n",
    " \r\n",
    "    SinglePhaseField u_posdef = new SinglePhaseField(DGBasisOn2D,\"u\");\r\n",
    "    Matrix_SIP_posdef.Solve_Direct(u_posdef.CoordinateVector, \r\n",
    "                                   RHS.CoordinateVector);\r\n",
    "    var Error_posdef = uEx.CloneAs();\r\n",
    "    Error_posdef.AccLaidBack(-1.0, u_posdef);\r\n",
    "    L2Error_posdef.Add(Error_posdef.L2Norm());\r\n",
    " \r\n",
    "    Console.WriteLine(L2Error_indef.Last().ToString(\"0.#E-00\") \r\n",
    "                      + \"\\t\" + L2Error_posdef.Last().ToString(\"0.#E-00\"));\r\n",
    "}"
   ],
   "outputs": [
    {
     "output_type": "stream",
     "name": "stdout",
     "text": [
      "2.8E-03\t1.7E-03\n",
      "3.8E-04\t1.6E-04\n",
      "4.8E-05\t1.7E-05\n",
      "2.6E05\t2E-06\n",
      "1.3E-04\t2.5E-07\n",
      "8.3E-01\t3.1E-08\n"
     ]
    }
   ],
   "metadata": {
    "dotnet_interactive": {
     "language": "csharp"
    }
   }
  },
  {
   "cell_type": "markdown",
   "source": [
    "# 4.5 Convergence plot\r\n",
    "The convergence plot unveils that there is something wrong if the\r\n",
    "penalty factor is set too low.\r\n",
    "\r\n",
    "While the solution of the indefinite system may look right at the first\r\n",
    "glance, we see that we do not obtain grid convergence for \r\n",
    "*Error\\_indef*.\r\n",
    "\r\n",
    "The error of the positive definite system, *Error\\_posdef*, where the \r\n",
    "penalty is chosen sufficiently large converges with the expected \r\n",
    "rate."
   ],
   "metadata": {}
  },
  {
   "cell_type": "code",
   "execution_count": null,
   "source": [
    "\r\n",
    "\r\n",
    "var plt = new Plot2Ddata();\r\n",
    "plt.AddDataGroup(\"indef mtx\", Resolution, L2Error_indef);\r\n",
    "plt.AddDataGroup(\"pos def mtx\", Resolution, L2Error_posdef);\r\n",
    "\r\n",
    "/// A double-logarithmic scale is used:\r\n",
    "plt.LogX = true;\r\n",
    "plt.LogY = true;\r\n",
    "\r\n",
    "/// Set Format\r\n",
    "plt.dataGroups[0].Format =  new PlotFormat(lineColor: LineColors.Red, \r\n",
    "                                           pointSize: 2, \r\n",
    "                                           dashType: DashTypes.DotDashed, \r\n",
    "                                           Style: Styles.LinesPoints, \r\n",
    "                                           pointType:PointTypes.OpenCircle);\r\n",
    "plt.dataGroups[1].Format =  new PlotFormat(lineColor: LineColors.Blue, \r\n",
    "                                           pointSize: 2, \r\n",
    "                                           dashType: DashTypes.DotDashed, \r\n",
    "                                           Style: Styles.LinesPoints, \r\n",
    "                                           pointType:PointTypes.Circle);\r\n",
    "// Show!\r\n",
    "plt.PlotNow()"
   ],
   "outputs": [
    {
     "output_type": "stream",
     "name": "stderr",
     "text": [
      "\r\n",
      "(12,5): error CS0121: The call is ambiguous between the following methods or properties: 'Plot2Ddata.AddDataGroup(string, IEnumerable<double>, IEnumerable<double>, string)' and 'Plot2Ddata.AddDataGroup(string, IEnumerable<double>, IEnumerable<double>, PlotFormat)'\r\n",
      "\r\n",
      "(13,5): error CS0121: The call is ambiguous between the following methods or properties: 'Plot2Ddata.AddDataGroup(string, IEnumerable<double>, IEnumerable<double>, string)' and 'Plot2Ddata.AddDataGroup(string, IEnumerable<double>, IEnumerable<double>, PlotFormat)'\r\n",
      "\r\n"
     ]
    },
    {
     "output_type": "error",
     "ename": "Cell not executed",
     "evalue": "compilation error",
     "traceback": []
    }
   ],
   "metadata": {
    "dotnet_interactive": {
     "language": "csharp"
    }
   }
  },
  {
   "cell_type": "markdown",
   "source": [
    "Finally, we are going to compute the convergence rate of the SIP\r\n",
    "discretization: \r\n",
    "\r\n",
    "we take the logarithm of the resolution and the error:"
   ],
   "metadata": {
    "dotnet_interactive": {
     "language": "csharp"
    }
   }
  },
  {
   "cell_type": "code",
   "execution_count": null,
   "source": [
    "var log_h   = Resolution.Select(h => Math.Log10(h)).ToArray();\r\n",
    "var log_Err = L2Error_posdef.Select(h => Math.Log10(h)).ToArray();"
   ],
   "outputs": [],
   "metadata": {
    "dotnet_interactive": {
     "language": "csharp"
    }
   }
  },
  {
   "cell_type": "code",
   "execution_count": null,
   "source": [
    "var LeastSquaresSys = MultidimensionalArray.Create(log_h.Length,2);\r\n",
    "LeastSquaresSys.SetColumn(0, log_h.Length.ForLoop(i => 1.0));\r\n",
    "LeastSquaresSys.SetColumn(1, log_h);\r\n",
    "double[] dk = new double[2]; // intercept and slope of best-fit line\r\n",
    "LeastSquaresSys.LeastSquareSolve(dk, log_Err);"
   ],
   "outputs": [],
   "metadata": {
    "dotnet_interactive": {
     "language": "csharp"
    }
   }
  },
  {
   "cell_type": "code",
   "execution_count": null,
   "source": [
    "dk"
   ],
   "outputs": [
    {
     "output_type": "execute_result",
     "data": {
      "text/html": [
       "<table><thead><tr><th><i>index</i></th><th>value</th></tr></thead><tbody><tr><td>0</td><td><div class=\"dni-plaintext\">-0.0031703467647336905</div></td></tr><tr><td>1</td><td><div class=\"dni-plaintext\">-3.1315819401711686</div></td></tr></tbody></table>"
      ]
     },
     "metadata": {},
     "execution_count": 30
    }
   ],
   "metadata": {
    "dotnet_interactive": {
     "language": "csharp"
    }
   }
  },
  {
   "cell_type": "code",
   "execution_count": null,
   "source": [
    "/// tests BoSSScmdSilent\r\n",
    "Assert.LessOrEqual(dk[1], -2.9);"
   ],
   "outputs": [],
   "metadata": {
    "dotnet_interactive": {
     "language": "csharp"
    }
   }
  },
  {
   "cell_type": "markdown",
   "source": [
    "# 5 Further reading\r\n",
    "\r\n",
    "- DiPietroErn2011\r\n",
    "- Arnold_1982\r\n"
   ],
   "metadata": {
    "dotnet_interactive": {
     "language": "csharp"
    }
   }
  }
 ],
 "metadata": {
  "kernelspec": {
   "display_name": ".NET (C#)",
   "language": "C#",
   "name": ".net-csharp"
  },
  "language_info": {
   "file_extension": ".cs",
   "mimetype": "text/x-csharp",
   "name": "C#",
   "pygments_lexer": "csharp",
   "version": "9.0"
  }
 },
 "nbformat": 4,
 "nbformat_minor": 4
}