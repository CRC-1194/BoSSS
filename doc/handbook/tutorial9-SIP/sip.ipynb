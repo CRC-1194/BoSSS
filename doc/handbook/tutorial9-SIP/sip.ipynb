{
 "cells": [
  {
   "cell_type": "markdown",
   "source": [
    "# Symmetric Interior Penalty for the Poisson Equation\r\n",
    "\r\n",
    "## What's new\r\n",
    "\r\n",
    "- Symmetric Interior Penalty method (SIP)\r\n",
    "- investigating matrix properties\r\n",
    "\r\n",
    "## Prerequisites\r\n",
    "\r\n",
    "- basics SIP method\r\n",
    "- spatial operator, chapter corresponding to the SpatialOperator\r\n",
    "- implementing numerical fluxes and convergence study, chapter corresponding to the NumericalFluxex\r\n",
    "\r\n",
    "## Problem statement\r\n",
    "We consider the 2D Poisson problem:\r\n",
    "$$ \\Delta u = f(x,y) $$\r\n",
    "\r\n",
    "where $f(x,y) \\neq 0$ is an arbitrary function of $x$ and/or $y$.\r\n",
    "Within this exercise, we are going to investigate the Symmetric Interior Penalty discretization method (SIP) for the Laplace operator\r\n",
    "\r\n",
    "$$a_{\\text{sip}}(u,v)\r\n",
    "= \\int_{\\Omega} \\underbrace{\\nabla u \\cdot \\nabla v}_{\\text{Volume\\ term}}dV\r\n",
    "  - \\oint_{\\Gamma \\setminus \\Gamma_{N }} \\underbrace{\r\n",
    "        M(\\nabla u) \\cdot n_{\\Gamma}J(v)\r\n",
    "     }_{\\text{consistency term}} + \\underbrace{\r\n",
    "        M(\\nabla v) \\cdot \\vec{n}_{\\Gamma} J(u)\r\n",
    "     }_{\\text{symmetry term}} dA\r\n",
    "  + \\oint_{\\Gamma \\setminus \\Gamma_{N}} \\underbrace{\r\n",
    "       \\eta J(u)J(v)\r\n",
    "    }_{\\text{penalty term}} dA$$\r\n",
    "\r\n",
    "Where $M$ shall denote the Mean and $J$ the Jump operator. The use of these fluxes including a penalty term stabilizes the DG-discretization for the Laplace operator."
   ],
   "metadata": {
    "dotnet_interactive": {
     "language": "csharp"
    }
   }
  },
  {
   "cell_type": "markdown",
   "source": [
    "## Solution within the **BoSSS** framework\n",
    "\n",
    "First, we initialize the new worksheet;\n",
    "Note: \n",
    "1. This tutorial can be found in the source code repository as as `sip.ipynb`. \n",
    "   One can directly load this into Jupyter to interactively work with the following code examples.\n",
    "2. **In the following line, the reference to `BoSSSpad.dll` is required**. \n",
    "   You must either set `#r \"BoSSSpad.dll\"` to something which is appropirate for your computer\n",
    "   (e.g. `C:\\Program Files (x86)\\FDY\\BoSSS\\bin\\Release\\net5.0\\BoSSSpad.dll` if you installed the binary distribution),\n",
    "   or, if you are working with the source code, you must compile `BoSSSpad` and put it side-by-side to this worksheet file\n",
    "   (from the original location in the repository, you can use the scripts `getbossspad.sh`, resp. `getbossspad.bat`)."
   ],
   "metadata": {}
  },
  {
   "cell_type": "code",
   "execution_count": null,
   "source": [
    "#r \"BoSSSpad.dll\"\r\n",
    "using System;\r\n",
    "using System.Collections.Generic;\r\n",
    "using System.Linq;\r\n",
    "using ilPSP;\r\n",
    "using ilPSP.Utils;\r\n",
    "using BoSSS.Platform;\r\n",
    "using BoSSS.Foundation;\r\n",
    "using BoSSS.Foundation.Grid;\r\n",
    "using BoSSS.Foundation.Grid.Classic;\r\n",
    "using BoSSS.Foundation.IO;\r\n",
    "using BoSSS.Solution;\r\n",
    "using BoSSS.Solution.Control;\r\n",
    "using BoSSS.Solution.GridImport;\r\n",
    "using BoSSS.Solution.Statistic;\r\n",
    "using BoSSS.Solution.Utils;\r\n",
    "using BoSSS.Solution.Gnuplot;\r\n",
    "using BoSSS.Application.BoSSSpad;\r\n",
    "using BoSSS.Application.XNSE_Solver;\r\n",
    "using static BoSSS.Application.BoSSSpad.BoSSSshell;\r\n",
    "Init();\r\n"
   ],
   "outputs": [
    {
     "output_type": "display_data",
     "data": {
      "text/html": [
       "\r\n",
       "<div>\r\n",
       "    <div id='dotnet-interactive-this-cell-20244.Microsoft.DotNet.Interactive.Http.HttpPort' style='display: none'>\r\n",
       "        The below script needs to be able to find the current output cell; this is an easy method to get it.\r\n",
       "    </div>\r\n",
       "    <script type='text/javascript'>\r\n",
       "async function probeAddresses(probingAddresses) {\r\n",
       "    function timeout(ms, promise) {\r\n",
       "        return new Promise(function (resolve, reject) {\r\n",
       "            setTimeout(function () {\r\n",
       "                reject(new Error('timeout'))\r\n",
       "            }, ms)\r\n",
       "            promise.then(resolve, reject)\r\n",
       "        })\r\n",
       "    }\r\n",
       "\r\n",
       "    if (Array.isArray(probingAddresses)) {\r\n",
       "        for (let i = 0; i < probingAddresses.length; i++) {\r\n",
       "\r\n",
       "            let rootUrl = probingAddresses[i];\r\n",
       "\r\n",
       "            if (!rootUrl.endsWith('/')) {\r\n",
       "                rootUrl = `${rootUrl}/`;\r\n",
       "            }\r\n",
       "\r\n",
       "            try {\r\n",
       "                let response = await timeout(1000, fetch(`${rootUrl}discovery`, {\r\n",
       "                    method: 'POST',\r\n",
       "                    cache: 'no-cache',\r\n",
       "                    mode: 'cors',\r\n",
       "                    timeout: 1000,\r\n",
       "                    headers: {\r\n",
       "                        'Content-Type': 'text/plain'\r\n",
       "                    },\r\n",
       "                    body: probingAddresses[i]\r\n",
       "                }));\r\n",
       "\r\n",
       "                if (response.status == 200) {\r\n",
       "                    return rootUrl;\r\n",
       "                }\r\n",
       "            }\r\n",
       "            catch (e) { }\r\n",
       "        }\r\n",
       "    }\r\n",
       "}\r\n",
       "\r\n",
       "function loadDotnetInteractiveApi() {\r\n",
       "    probeAddresses([\"http://192.168.56.1:1000/\", \"http://130.83.248.204:1000/\", \"http://169.254.113.120:1000/\", \"http://192.168.137.1:1000/\", \"http://172.17.100.49:1000/\", \"http://127.0.0.1:1000/\"])\r\n",
       "        .then((root) => {\r\n",
       "        // use probing to find host url and api resources\r\n",
       "        // load interactive helpers and language services\r\n",
       "        let dotnetInteractiveRequire = require.config({\r\n",
       "        context: '20244.Microsoft.DotNet.Interactive.Http.HttpPort',\r\n",
       "                paths:\r\n",
       "            {\r\n",
       "                'dotnet-interactive': `${root}resources`\r\n",
       "                }\r\n",
       "        }) || require;\r\n",
       "\r\n",
       "            window.dotnetInteractiveRequire = dotnetInteractiveRequire;\r\n",
       "\r\n",
       "            window.configureRequireFromExtension = function(extensionName, extensionCacheBuster) {\r\n",
       "                let paths = {};\r\n",
       "                paths[extensionName] = `${root}extensions/${extensionName}/resources/`;\r\n",
       "                \r\n",
       "                let internalRequire = require.config({\r\n",
       "                    context: extensionCacheBuster,\r\n",
       "                    paths: paths,\r\n",
       "                    urlArgs: `cacheBuster=${extensionCacheBuster}`\r\n",
       "                    }) || require;\r\n",
       "\r\n",
       "                return internalRequire\r\n",
       "            };\r\n",
       "        \r\n",
       "            dotnetInteractiveRequire([\r\n",
       "                    'dotnet-interactive/dotnet-interactive'\r\n",
       "                ],\r\n",
       "                function (dotnet) {\r\n",
       "                    dotnet.init(window);\r\n",
       "                },\r\n",
       "                function (error) {\r\n",
       "                    console.log(error);\r\n",
       "                }\r\n",
       "            );\r\n",
       "        })\r\n",
       "        .catch(error => {console.log(error);});\r\n",
       "    }\r\n",
       "\r\n",
       "// ensure `require` is available globally\r\n",
       "if ((typeof(require) !==  typeof(Function)) || (typeof(require.config) !== typeof(Function))) {\r\n",
       "    let require_script = document.createElement('script');\r\n",
       "    require_script.setAttribute('src', 'https://cdnjs.cloudflare.com/ajax/libs/require.js/2.3.6/require.min.js');\r\n",
       "    require_script.setAttribute('type', 'text/javascript');\r\n",
       "    \r\n",
       "    \r\n",
       "    require_script.onload = function() {\r\n",
       "        loadDotnetInteractiveApi();\r\n",
       "    };\r\n",
       "\r\n",
       "    document.getElementsByTagName('head')[0].appendChild(require_script);\r\n",
       "}\r\n",
       "else {\r\n",
       "    loadDotnetInteractiveApi();\r\n",
       "}\r\n",
       "\r\n",
       "    </script>\r\n",
       "</div>"
      ]
     },
     "metadata": {}
    }
   ],
   "metadata": {
    "dotnet_interactive": {
     "language": "csharp"
    }
   }
  },
  {
   "cell_type": "markdown",
   "source": [
    "We need the following packages:"
   ],
   "metadata": {}
  },
  {
   "cell_type": "code",
   "execution_count": null,
   "source": [
    "using ilPSP.LinSolvers;\r\n",
    "using ilPSP.Connectors.Matlab;"
   ],
   "outputs": [],
   "metadata": {
    "dotnet_interactive": {
     "language": "csharp"
    }
   }
  },
  {
   "cell_type": "markdown",
   "source": [
    "BoSSScmdSilent BoSSSexeSilent"
   ],
   "metadata": {}
  },
  {
   "cell_type": "code",
   "execution_count": null,
   "source": [
    "using NUnit.Framework;"
   ],
   "outputs": [],
   "metadata": {
    "dotnet_interactive": {
     "language": "csharp"
    }
   }
  },
  {
   "cell_type": "markdown",
   "source": [
    "## Implementation of the SIP fluxes\n",
    "We are going to implement the SIP-form\n",
    "$$\n",
    "a_{\\text{sip}}(u,v)\n",
    "= \\int_{\\Omega} \\underbrace{\\nabla u \\cdot \\nabla v}_{\\text{volume\\ term}}dV\n",
    "  - \\oint_{\\Gamma \\setminus \\Gamma_{N }} \\underbrace{\n",
    "        M {\\nabla u} \\cdot n_{\\Gamma}J(v)\n",
    "     }_{\\text{consistency term}} + \\underbrace{\n",
    "        M{\\nabla v} \\cdot \\vec{n}_{\\Gamma} J(u)\n",
    "     }_{\\text{symmetry term}} dA\n",
    "  + \\oint_{\\Gamma \\setminus \\Gamma_{N}} \\underbrace{\n",
    "       \\eta J(u)J(v)\n",
    "    }_{\\text{penalty term}} dA\n",
    "$$\n",
    "First, we need a class in which the integrands are defined.\n",
    "This also includes some technical aspects like the *TermActivationFlags*."
   ],
   "metadata": {}
  },
  {
   "cell_type": "code",
   "execution_count": null,
   "source": [
    "public class SipLaplace :\r\n",
    "        BoSSS.Foundation.IEdgeForm,   // edge integrals\r\n",
    "        BoSSS.Foundation.IVolumeForm, // volume integrals\r\n",
    "        IEquationComponentCoefficient // update of coefficients (e.g. length scales) required for penalty parameters \r\n",
    "{\r\n",
    "    /// We do not use parameters (e.g. variable viscosity, ...)\r\n",
    "    /// at this point: so this can be null\r\n",
    "    public IList<string> ParameterOrdering { \r\n",
    "        get { return new string[0]; } \r\n",
    "    } \r\n",
    "    /// but we have one argument variable, $u$ (our trial function)\r\n",
    "    public IList<String> ArgumentOrdering { \r\n",
    "        get { return new string[] { \"u\" }; } \r\n",
    "    }\r\n",
    "    /// The \\code{TermActivationFlags} tell \\BoSSS which kind of terms, \r\n",
    "    /// i.e. products of u, v, \\nabla u, and \\nabla v\r\n",
    "    /// the VolumeForm(...) actually contains.\r\n",
    "    /// This additional information helps to improve the performance.\r\n",
    "    public TermActivationFlags VolTerms {\r\n",
    "        get {\r\n",
    "            return TermActivationFlags.GradUxGradV;\r\n",
    "        }\r\n",
    "    }\r\n",
    "    /// activation flags for the 'InnerEdgeForm(...)'\r\n",
    "    public TermActivationFlags InnerEdgeTerms {\r\n",
    "        get {\r\n",
    "            return (TermActivationFlags.AllOn);\r\n",
    "            // if we do not care about performance, we can activate all terms.\r\n",
    "        }\r\n",
    "    }\r\n",
    "    public TermActivationFlags BoundaryEdgeTerms {\r\n",
    "       get {\r\n",
    "           return TermActivationFlags.AllOn;\r\n",
    "        }\r\n",
    "    }\r\n",
    "    /// For the computation of the penalty factor $\\eta$,\r\n",
    "    /// we require\r\n",
    "    /// some length scale for each cell and \r\n",
    "    /// the polynomial degree of the DG approximation.\r\n",
    "    MultidimensionalArray cj;\r\n",
    "    double penalty_base; // base factor must be scaled by polynomial degree  \r\n",
    "    /// The additional scaling of the penalty by polynomial degree \r\n",
    "    /// and in depencence of geometry can be obtained through \r\n",
    "    /// impmenting the \\code{IEquationComponentCoefficient} interface:\r\n",
    "    public void CoefficientUpdate(CoefficientSet cs, int[] DomainDGdeg, int TestDGdeg) {\r\n",
    "        int D = cs.GrdDat.SpatialDimension;\r\n",
    "        double _D = D;\r\n",
    "        double _p = DomainDGdeg.Max();\r\n",
    "\r\n",
    "        double penalty_deg_tri = (_p + 1) * (_p + _D) / _D; // formula for triangles/tetras\r\n",
    "        double penalty_deg_sqr = (_p + 1.0) * (_p + 1.0); // formula for squares/cubes\r\n",
    "\r\n",
    "        penalty_base = Math.Max(penalty_deg_tri, penalty_deg_sqr); // the conservative choice\r\n",
    "        //Console.WriteLine(\"Setting penalty base factor for deg \" + _p + \" to \" + penalty_base);\r\n",
    "\r\n",
    "        cj = ((GridData)(cs.GrdDat)).Cells.cj;\r\n",
    "    }     \r\n",
    "    \r\n",
    "            \r\n",
    "    /// The safety factor for the penalty factor should be in the order of 1.\r\n",
    "    /// A very large penalty factor increases the condition number of the \r\n",
    "    /// system, but without affecting stability.\r\n",
    "    /// A very small penalty factor yields to an unstable discretization.\r\n",
    "    public double PenaltySafety = 2.2; \r\n",
    "    /// The actual computation of the penalty factor, which should be \r\n",
    "    /// used in the \\code{InnerEdgeForm} and \\code{BoundaryEdgeForm} functions.\r\n",
    "    /// Hint: for the parameters \\code{jCellIn}, \\code{jCellOut} and \\code{g},\r\n",
    "    /// take a look at\r\n",
    "    /// \\code{CommonParams} and \\code{CommonParamsBnd}.\r\n",
    "    double PenaltyFactor(int jCellIn, int jCellOut) {\r\n",
    "        double cj_in         = cj[jCellIn];\r\n",
    "        double eta           = penalty_base * cj_in * PenaltySafety;\r\n",
    "        if(jCellOut >= 0) {\r\n",
    "            double cj_out = cj[jCellOut];\r\n",
    "            eta           = Math.Max(eta, penalty_base * cj_out * PenaltySafety);\r\n",
    "        }\r\n",
    "        \r\n",
    "        return eta;\r\n",
    "    }\r\n",
    "    \r\n",
    "    /// The following functions cover the actual math.\r\n",
    "    /// For any discretization of the Laplace operator, we have to specify:\r\n",
    "    /// \r\n",
    "    /// - a volume integrand,\r\n",
    "    /// - an edge integrand for inner edges, i.e. on $\\Gamma_i$,\r\n",
    "    /// - an edge integrand for boundary edges, i.e. on $\\partial \\Omega$.\r\n",
    "    /// \r\n",
    "    /// The integrand for the volume integral:\r\n",
    "    public double VolumeForm(ref CommonParamsVol cpv, \r\n",
    "           double[] U, double[,] GradU, // the trial-function u \r\n",
    "           //            (i.e. the function we search for) and its gradient\r\n",
    "           double V, double[] GradV     // the test function; \r\n",
    "           ) {\r\n",
    " \r\n",
    "        double acc = 0;\r\n",
    "        for(int d = 0; d < cpv.D; d++)\r\n",
    "            acc += GradU[0, d] * GradV[d];\r\n",
    "        return acc;\r\n",
    "    }\r\n",
    "    /// The integrand for the integral on the inner edges,\r\n",
    "    /// \r\n",
    "    ///   -( M{\\nabla u} J{v}) \\cdot \\vec{n}_{\\Gamma} \r\n",
    "    ///   -( M{\\nabla v} J{u}) \\cdot \\vec{n}_{\\Gamma} \r\n",
    "    ///   + \\eta J{u}  J{v} :\r\n",
    "    /// \r\n",
    "    public double InnerEdgeForm(ref CommonParams inp, \r\n",
    "        double[] U_IN, double[] U_OT, double[,] GradU_IN, double[,] GradU_OT, \r\n",
    "        double V_IN, double V_OT, double[] GradV_IN, double[] GradV_OT) {\r\n",
    " \r\n",
    "        double eta = PenaltyFactor(inp.jCellIn, inp.jCellOut);\r\n",
    " \r\n",
    "        double Acc = 0.0;\r\n",
    "        for(int d = 0; d < inp.D; d++) { // loop over vector components \r\n",
    "            // consistency term: -({{ \\/u }} [[ v ]])*Normal\r\n",
    "            // index d: spatial direction\r\n",
    "            Acc -= 0.5 * (GradU_IN[0, d] + GradU_OT[0, d])*(V_IN - V_OT)\r\n",
    "                       * inp.Normal[d];\r\n",
    " \r\n",
    "            // symmetry term: -({{ \\/v }} [[ u ]])*Normal\r\n",
    "            Acc -= 0.5 * (GradV_IN[d] + GradV_OT[d])*(U_IN[0] - U_OT[0])\r\n",
    "                       * inp.Normal[d];\r\n",
    "        }\r\n",
    " \r\n",
    "        // penalty term: eta*[[u]]*[[v]]\r\n",
    "        Acc += eta*(U_IN[0] - U_OT[0])*(V_IN - V_OT);\r\n",
    "        return Acc;\r\n",
    "    } \r\n",
    "    /// The integrand on boundary edges, i.e. on $\\partial \\Omega$, is\r\n",
    "    ///  \r\n",
    "    ///   -( M{\\nabla u} J{v}) \\cdot \\vec{n}_{\\Gamma} \r\n",
    "    ///   -( M{\\nabla v} J{u}) \\cdot \\vec{n}_{\\Gamma} \r\n",
    "    ///   +  \\eta J{u}  J{v} .\r\n",
    "    /// \r\n",
    "    /// For the boundary we have to consider the special definition for \r\n",
    "    /// the mean-value operator $M{-}$ and the jump operator \r\n",
    "    /// $J{-}$ on the boundary.\r\n",
    "    public double BoundaryEdgeForm(ref CommonParamsBnd inp, \r\n",
    "        double[] U_IN, double[,] GradU_IN, double V_IN, double[] GradV_IN) {\r\n",
    " \r\n",
    "        double eta = PenaltyFactor(inp.jCellIn, -1);\r\n",
    "        double Acc = 0.0;\r\n",
    "        for(int d = 0; d < inp.D; d++) { // loop over vector components \r\n",
    "            // consistency term: -({{ \\/u }} [[ v ]])*Normale\r\n",
    "            // index d: spatial direction\r\n",
    "            Acc -= (GradU_IN[0, d])*(V_IN) * inp.Normal[d];\r\n",
    " \r\n",
    "            // symmetry term: -({{ \\/v }} [[ u ]])*Normale\r\n",
    "            Acc -= (GradV_IN[d])*(U_IN[0]) * inp.Normal[d];\r\n",
    "        }\r\n",
    " \r\n",
    "        // penalty term: eta*[[u]]*[[v]]\r\n",
    "        Acc += eta*(U_IN[0])*(V_IN);\r\n",
    " \r\n",
    " \r\n",
    "        return Acc;\r\n",
    "    }\r\n",
    "}"
   ],
   "outputs": [],
   "metadata": {
    "dotnet_interactive": {
     "language": "csharp"
    }
   }
  },
  {
   "cell_type": "code",
   "execution_count": null,
   "source": [
    "/*\r\n",
    "// An alternative implementation which derives from the build-in, pre-defined SIP implementation:\r\n",
    "public class SipLaplace : BoSSS.Solution.NSECommon.SIPLaplace {\r\n",
    "\r\n",
    "    public SipLaplace() : base(2.2, \"u\") { }\r\n",
    "\r\n",
    "    public double PenaltySafety  {\r\n",
    "        get { return base.m_penalty_base; }\r\n",
    "        set { base.m_penalty_base = value; }\r\n",
    "    }\r\n",
    "    \r\n",
    "    protected override bool IsDirichlet(ref CommonParamsBnd inp) {\r\n",
    "        if(Math.Abs(Math.Abs(inp.X.y) - 1.0) < 1.0e-8)\r\n",
    "            return false; // Neumann b.c.   @ y == +1,-1\r\n",
    "        else\r\n",
    "            return true; //  Dirichlet b.c. @ x = +1,-1\r\n",
    "    }\r\n",
    "    \r\n",
    "    override public double Nu(double[] x, double[] p, int jCell) {\r\n",
    "            return -1.0;\r\n",
    "    }\r\n",
    "}*/"
   ],
   "outputs": [],
   "metadata": {
    "dotnet_interactive": {
     "language": "csharp"
    }
   }
  },
  {
   "cell_type": "markdown",
   "source": [
    "## Evaluation of the Poisson operator in 1D\r\n",
    "We consider the following problem:\r\n",
    "$$\r\n",
    "\\Delta u = 2,\\quad -1<x<1,\\quad u(-1)=u(1)=0.\r\n",
    "$$\r\n",
    "The solution is $u_{ex}(x) = 1 - x^2$. Since this is quadratic, we can represent it **exactly** in a DG space of order 2.\r\n",
    "As usual, we have to set up a grid, a basis and a right-hand-side.:"
   ],
   "metadata": {}
  },
  {
   "cell_type": "code",
   "execution_count": null,
   "source": [
    "var grd1D                     = Grid1D.LineGrid(GenericBlas.Linspace(-1,1,10));\r\n",
    "var DGBasisOn1D               = new Basis(grd1D, 2);\r\n",
    "var RHS                       = new SinglePhaseField(DGBasisOn1D, \"RHS\");\r\n",
    "RHS.ProjectField((double x) => 2);"
   ],
   "outputs": [],
   "metadata": {
    "dotnet_interactive": {
     "language": "csharp"
    }
   }
  },
  {
   "cell_type": "code",
   "execution_count": null,
   "source": [
    "var i_SipLaplace              = new SipLaplace();\r\n",
    "var Operator_SipLaplace       = i_SipLaplace.Operator();"
   ],
   "outputs": [],
   "metadata": {
    "dotnet_interactive": {
     "language": "csharp"
    }
   }
  },
  {
   "cell_type": "markdown",
   "source": [
    "We now want to calculate the residual after inserting the exact solution as well as a wrong solution. \n",
    "The implementation of the exact solution:"
   ],
   "metadata": {}
  },
  {
   "cell_type": "code",
   "execution_count": null,
   "source": [
    "var u_ex         = new SinglePhaseField(DGBasisOn1D, \"$u_{ex}$\");\r\n",
    "u_ex.ProjectField((double x) => 1.0 - x*x);"
   ],
   "outputs": [],
   "metadata": {
    "dotnet_interactive": {
     "language": "csharp"
    }
   }
  },
  {
   "cell_type": "markdown",
   "source": [
    "The implementation of a spurious, i.e. a wrong solution; we take the exact solution and add random values in each cell:"
   ],
   "metadata": {}
  },
  {
   "cell_type": "code",
   "execution_count": null,
   "source": [
    "var u_wrong      = new SinglePhaseField(DGBasisOn1D, \"$u_{wrong}$\");\r\n",
    "u_wrong.ProjectField((double x) => 1.0 - x*x);\r\n",
    "Random R         = new Random();\r\n",
    "for(int j = 0; j < grd1D.GridData.Cells.NoOfLocalUpdatedCells; j++){\r\n",
    "    double ujMean = u_wrong.GetMeanValue(j);\r\n",
    "    ujMean += R.NextDouble();\r\n",
    "    u_wrong.SetMeanValue(j, ujMean);\r\n",
    "}"
   ],
   "outputs": [],
   "metadata": {
    "dotnet_interactive": {
     "language": "csharp"
    }
   }
  },
  {
   "cell_type": "markdown",
   "source": [
    "Evaluating the Laplace operator using the different solutions:"
   ],
   "metadata": {}
  },
  {
   "cell_type": "code",
   "execution_count": null,
   "source": [
    "var Residual     = new SinglePhaseField(DGBasisOn1D,\"Resi1\");\r\n",
    "var ResidualNorm = new List<double>();\r\n",
    "foreach(var u in new DGField[] {u_ex, u_wrong}) {\r\n",
    "    Residual.Clear();\r\n",
    "    Operator_SipLaplace.Evaluate(u, Residual);  // evaluate\r\n",
    "    Residual.Acc(-1.0, RHS);    \r\n",
    "    double ResiNorm = Residual.L2Norm();\r\n",
    "    ResidualNorm.Add(ResiNorm);\r\n",
    "    Console.WriteLine(\"Residual for \" + u.Identification + \" = \" + ResiNorm);  \r\n",
    "}"
   ],
   "outputs": [
    {
     "output_type": "stream",
     "name": "stdout",
     "text": [
      "Residual for $u_{ex}$ = 1.3694083221572641E-12\n",
      "Residual for $u_{wrong}$ = 947.5694853708395\n"
     ]
    }
   ],
   "metadata": {
    "dotnet_interactive": {
     "language": "csharp"
    }
   }
  },
  {
   "cell_type": "code",
   "execution_count": null,
   "source": [
    "/// tests BoSSScmdSilent\r\n",
    "Assert.LessOrEqual(ResidualNorm[0], 1e-10);\r\n",
    "Assert.GreaterOrEqual(ResidualNorm[1], 1e-1);"
   ],
   "outputs": [],
   "metadata": {
    "dotnet_interactive": {
     "language": "csharp"
    }
   }
  },
  {
   "cell_type": "markdown",
   "source": [
    "## The matrix of the Poisson Operator\n",
    "If we do not know the exact solution, we have to solve a linear system.\n",
    "Therefore, we not only need to evaluate the operator,\n",
    "but we need its matrix.\n",
    "The *Mapping* controls which degree-of-freedom of the DG approximation\n",
    "is mapped to which row, resp. column of the matrix."
   ],
   "metadata": {}
  },
  {
   "cell_type": "code",
   "execution_count": null,
   "source": [
    "\r\n",
    "var Mapping           = new UnsetteledCoordinateMapping(DGBasisOn1D);\r\n",
    "var Matrix_SipLaplace = Operator_SipLaplace.ComputeMatrix(Mapping,null,Mapping);"
   ],
   "outputs": [],
   "metadata": {
    "dotnet_interactive": {
     "language": "csharp"
    }
   }
  },
  {
   "cell_type": "code",
   "execution_count": null,
   "source": [
    "Matrix_SipLaplace.NoOfCols"
   ],
   "outputs": [
    {
     "output_type": "execute_result",
     "data": {
      "text/html": [
       "<div class=\"dni-plaintext\">27</div>"
      ]
     },
     "metadata": {},
     "execution_count": 13
    }
   ],
   "metadata": {
    "dotnet_interactive": {
     "language": "csharp"
    }
   }
  },
  {
   "cell_type": "code",
   "execution_count": null,
   "source": [
    "Matrix_SipLaplace.NoOfRows"
   ],
   "outputs": [
    {
     "output_type": "execute_result",
     "data": {
      "text/html": [
       "<div class=\"dni-plaintext\">27</div>"
      ]
     },
     "metadata": {},
     "execution_count": 14
    }
   ],
   "metadata": {
    "dotnet_interactive": {
     "language": "csharp"
    }
   }
  },
  {
   "cell_type": "markdown",
   "source": [
    "We see that the matrix has 27 rows and columns.\n",
    "\n",
    "### Matrix rank and determinant of the matrix \n",
    "\n",
    "**Matrix\\_SipLaplace**:\n",
    "Use the functions *rank* and *det* to analyze the matrix (warning: this can get costly \n",
    "for larger matrices!).\n",
    "Interpret the results:\n",
    "\n",
    "- What does it mean, when a matrix has full rank?\n",
    "- How many solutions can a linear system have?\n"
   ],
   "metadata": {
    "dotnet_interactive": {
     "language": "csharp"
    }
   }
  },
  {
   "cell_type": "code",
   "execution_count": null,
   "source": [
    "\r\n",
    "double rank = Matrix_SipLaplace.rank(); \r\n",
    "Console.WriteLine(\"Matrix rank = \" + rank);\r\n",
    " \r\n",
    "double det = Matrix_SipLaplace.det();   \r\n",
    "Console.WriteLine(\"Determinante = \" + det);"
   ],
   "outputs": [
    {
     "output_type": "stream",
     "name": "stdout",
     "text": [
      "Matrix rank = 27\n",
      "Determinante = 1.405008381452841E+75\n"
     ]
    }
   ],
   "metadata": {
    "dotnet_interactive": {
     "language": "csharp"
    }
   }
  },
  {
   "cell_type": "markdown",
   "source": [
    "So the matrix of the SIP discretization has a unique solution."
   ],
   "metadata": {
    "dotnet_interactive": {
     "language": "csharp"
    }
   }
  },
  {
   "cell_type": "code",
   "execution_count": null,
   "source": [
    "/// tests BoSSScmdSilent\r\n",
    "Assert.AreEqual(rank, Matrix_SipLaplace.NoOfCols);\r\n",
    "Assert.Greater(det, 1.0);"
   ],
   "outputs": [],
   "metadata": {
    "dotnet_interactive": {
     "language": "csharp"
    }
   }
  },
  {
   "cell_type": "markdown",
   "source": [
    "## Advanced topics"
   ],
   "metadata": {
    "dotnet_interactive": {
     "language": "csharp"
    }
   }
  },
  {
   "cell_type": "markdown",
   "source": [
    "### The penalty parameter of the SIP and stability in 2D\n",
    "\n",
    "We define a two-dimensional grid:"
   ],
   "metadata": {
    "dotnet_interactive": {
     "language": "csharp"
    }
   }
  },
  {
   "cell_type": "code",
   "execution_count": null,
   "source": [
    "var grd2D       = Grid2D.Cartesian2DGrid(GenericBlas.Linspace(-1,1,21), \r\n",
    "                                         GenericBlas.Linspace(-1,1,16));\r\n",
    "var DGBasisOn2D = new Basis(grd2D, 5);\r\n",
    "var Mapping2D   = new UnsetteledCoordinateMapping(DGBasisOn2D);"
   ],
   "outputs": [],
   "metadata": {
    "dotnet_interactive": {
     "language": "csharp"
    }
   }
  },
  {
   "cell_type": "markdown",
   "source": [
    "We are going to choose the **PenaltySafety** for the **SipLaplace**\n",
    "from the following list"
   ],
   "metadata": {}
  },
  {
   "cell_type": "code",
   "execution_count": null,
   "source": [
    "double[] SFs = new double[] \r\n",
    "      {0.001, 0.002, 0.01, 0.02, 0.1, 0.2, 1, 2, 10, 20, 100};"
   ],
   "outputs": [],
   "metadata": {
    "dotnet_interactive": {
     "language": "csharp"
    }
   }
  },
  {
   "cell_type": "markdown",
   "source": [
    "and compute the condition number as well as the determinate.\n",
    "We consider the example \n",
    "$$\n",
    "    -\\Delta u = \\pi^2 (a_x^2 + a_y^2)/4 \\cos(a_x \\pi x/2) \\cos(a_y \\pi y/2) \n",
    "      \\text{ with } \n",
    "      (x,y) \\in (-1,1)^2\n",
    "$$\n",
    "and $u = 0$ on the boundary.\n",
    "The exact solution is $u_{Ex}(x,y) = \\cos(a_x \\pi  x/2) \\cos(a_x \\pi y/2)$, where $a_x$ and $a_y$ must be odd numbers\n",
    "to comply with homogeneous bounary condition."
   ],
   "metadata": {}
  },
  {
   "cell_type": "code",
   "execution_count": null,
   "source": [
    "double ax = 1.0; // must be an even number to comply with homogeneous Dirichlet boundary condition\r\n",
    "double ay = 3.0; // must be an odd number to comply with homogeneous Dirichlet boundary condition\r\n",
    "Func<double[], double> exSol = \r\n",
    "        (X => Math.Cos(X[0]*ax*Math.PI*0.5)*Math.Cos(X[1]*ay*Math.PI*0.5));\r\n",
    "Func<double[], double> exRhs = \r\n",
    "        (X => ((ax.Pow2() + ay.Pow2())/4.0)*Math.PI.Pow2()\r\n",
    "             *Math.Cos( X[0]*ax*Math.PI*0.5 )*Math.Cos( X[1]*ay*Math.PI*0.5 )); // == - /\\ exSol\r\n",
    "\r\n",
    "SinglePhaseField RHS = new SinglePhaseField(DGBasisOn2D, \"RHS\");\r\n",
    "RHS.ProjectField(exRhs);\r\n",
    "double[] RHSvec = RHS.CoordinateVector.ToArray();"
   ],
   "outputs": [],
   "metadata": {
    "dotnet_interactive": {
     "language": "csharp"
    }
   }
  },
  {
   "cell_type": "markdown",
   "source": [
    "We check our discretization once more in 2D; the residual should be low,\n",
    "but not exactly (resp. up to $10^{-12}$) since the solution is not \n",
    "polynomial and cannot be fulfilled exactly."
   ],
   "metadata": {}
  },
  {
   "cell_type": "code",
   "execution_count": null,
   "source": [
    "SinglePhaseField u = new SinglePhaseField(DGBasisOn2D,\"u\");\r\n",
    "u.ProjectField(exSol);\r\n",
    "var Matrix_SIP_sf     = Operator_SipLaplace.ComputeMatrix(Mapping2D,\r\n",
    "                                                          null,\r\n",
    "                                                          Mapping2D);\r\n",
    "SinglePhaseField Residual = new SinglePhaseField(DGBasisOn2D,\"Residual\");\r\n",
    "Residual.Acc(1.0, RHS);\r\n",
    "Matrix_SIP_sf.SpMV(-1.0, u.CoordinateVector, 1.0, Residual.CoordinateVector);\r\n",
    "Console.WriteLine(\"Residual L2 norm: \" + Residual.L2Norm());"
   ],
   "outputs": [
    {
     "output_type": "stream",
     "name": "stdout",
     "text": [
      "Residual L2 norm: 0.02104929706815022\r\n"
     ]
    }
   ],
   "metadata": {
    "dotnet_interactive": {
     "language": "csharp"
    }
   }
  },
  {
   "cell_type": "markdown",
   "source": [
    "We also check that the matrix is symmetric:"
   ],
   "metadata": {}
  },
  {
   "cell_type": "code",
   "execution_count": null,
   "source": [
    "var checkMatrix = Matrix_SIP_sf - Matrix_SIP_sf.Transpose();\r\n",
    "checkMatrix.InfNorm()"
   ],
   "outputs": [
    {
     "output_type": "execute_result",
     "data": {
      "text/html": [
       "<div class=\"dni-plaintext\">5.837641481321043E-10</div>"
      ]
     },
     "metadata": {},
     "execution_count": 21
    }
   ],
   "metadata": {
    "dotnet_interactive": {
     "language": "csharp"
    }
   }
  },
  {
   "cell_type": "code",
   "execution_count": null,
   "source": [
    "/// tests BoSSScmdSilent\r\n",
    "Assert.LessOrEqual(checkMatrix.InfNorm(), 1e-8);"
   ],
   "outputs": [],
   "metadata": {
    "dotnet_interactive": {
     "language": "csharp"
    }
   }
  },
  {
   "cell_type": "markdown",
   "source": [
    "### Matrix properties for different penalty factors\n",
    "Now, we assemble the matrix of the SIP for different \n",
    "**PenaltySafety**-factors. We also try to solve the linear system\n",
    "using an iterative method.\n",
    "\n",
    " As Matlab is called multiple times during this \n",
    "command, it can take some minutes until it is done."
   ],
   "metadata": {}
  },
  {
   "cell_type": "code",
   "execution_count": null,
   "source": [
    "int cnt     = 0;\r\n",
    "var Results = new List<(double safetyFactor, double condNumber, int NoOfIterations, double L2errror, bool isDefinite)>();\r\n",
    "foreach(double sf in SFs) {\r\n",
    "\r\n",
    "    cnt++;\r\n",
    "    i_SipLaplace.PenaltySafety    = sf;\r\n",
    "    var Matrix_SIP_sf             = Operator_SipLaplace.ComputeMatrix(\r\n",
    "                                    Mapping2D, null, Mapping2D);\r\n",
    "    double condNo1                = Matrix_SIP_sf.condest();  \r\n",
    "    bool definite                 = Matrix_SIP_sf.IsDefinite();\r\n",
    " \r\n",
    "    /// We solve the system \r\n",
    "    /// \r\n",
    "    ///     Matrix\\_SIP\\_sf \\cdot u =  RHS\r\n",
    "    /// \r\n",
    "    /// using a an iterative solver, the so-called \r\n",
    "    /// conjugate gradient (CG) method.\r\n",
    "    /// CG requires a positive definite matrix. \r\n",
    "    /// The function \\code{Solve\\_CG} returns the number of iterations.\r\n",
    "    SinglePhaseField u = new SinglePhaseField(DGBasisOn2D,\"u\");\r\n",
    "    u.InitRandom();\r\n",
    "    int NoOfIter = Matrix_SIP_sf.Solve_CG(u.CoordinateVector, RHSvec);\r\n",
    " \r\n",
    "    SinglePhaseField Error = new SinglePhaseField(DGBasisOn2D,\"Error\");\r\n",
    "    Error.ProjectField(exSol);\r\n",
    "    Error.Acc(-1.0, u);\r\n",
    " \r\n",
    "    double L2err = u.L2Error(exSol);\r\n",
    " \r\n",
    "    Console.WriteLine(sf + \"\\t\" + condNo1.ToString(\"0.#E-00\") \r\n",
    "                         + \"\\t\" + NoOfIter \r\n",
    "                         + \"\\t\" + L2err.ToString(\"0.#E-00\") \r\n",
    "                         + \"\\t\" + definite);\r\n",
    "    Results.Add((sf, condNo1, NoOfIter, L2err, definite));\r\n",
    "}"
   ],
   "outputs": [
    {
     "output_type": "stream",
     "name": "stdout",
     "text": [
      "0.001\t8.1E04\t13110\t1.6E-06\tFalse\n",
      "0.002\t8.1E04\t14757\t4.3E-07\tFalse\n",
      "0.01\t7.9E04\t21242\t9.1E-07\tFalse\n",
      "0.02\t7.9E04\t25370\t8.2E-07\tFalse\n",
      "0.1\t8.5E05\t24044\t3.8E-06\tFalse\n",
      "0.2\t4.5E04\t4650\t2.6E-07\tFalse\n",
      "1\t3.5E05\t1464\t1.7E-06\tTrue\n",
      "2\t7.9E05\t2074\t3.5E-06\tTrue\n",
      "10\t4.3E06\t4517\t1.3E-05\tTrue\n",
      "20\t8.6E06\t6139\t2.5E-05\tTrue\n",
      "100\t4.3E07\t12218\t1.5E-04\tTrue\n"
     ]
    }
   ],
   "metadata": {
    "dotnet_interactive": {
     "language": "csharp"
    }
   }
  },
  {
   "cell_type": "code",
   "execution_count": null,
   "source": [
    "/// tests BoSSScmdSilent\n",
    "foreach(var r in Results) {\n",
    "    if(r.safetyFactor >= 1 && r.safetyFactor <= 20) {\n",
    "        Assert.LessOrEqual(r.condNumber, 1e7); // cond No.\n",
    "        Assert.LessOrEqual(r.NoOfIterations, 7000); // iter\n",
    "        Assert.LessOrEqual(r.L2errror, 1e-4); // L2 err\n",
    "        Assert.IsTrue(r.isDefinite); // definite   \n",
    "    }\n",
    "    if(r.Item1 <= 0.1) {\n",
    "        Assert.IsFalse(r.isDefinite); // indefinite   \n",
    "    }\n",
    "}"
   ],
   "outputs": [],
   "metadata": {
    "dotnet_interactive": {
     "language": "csharp"
    }
   }
  },
  {
   "cell_type": "markdown",
   "source": [
    "### Plotting\n",
    "Plot the number of conjugate gradient iterations versus the \n",
    "**PenaltySafety**."
   ],
   "metadata": {}
  },
  {
   "cell_type": "code",
   "execution_count": null,
   "source": [
    "var xValues = Results.Select(r => r.safetyFactor).ToArray();\r\n",
    "var yValues = Results.Select(r => ((double)(r.NoOfIterations))).ToArray();\r\n",
    "\r\n",
    "var plt = new Plot2Ddata();\r\n",
    "plt.AddDataGroup(xValues, yValues);\r\n",
    "\r\n",
    "/// A logarithmic scale is used for the horizontal axis.\r\n",
    "plt.LogX = true;\r\n",
    "\r\n",
    "/// Set Format\r\n",
    "plt.dataGroups[0].Format =  new PlotFormat(lineColor: LineColors.Blue, \r\n",
    "                                           pointSize: 2, \r\n",
    "                                           dashType: DashTypes.DotDashed, \r\n",
    "                                           Style: Styles.LinesPoints, \r\n",
    "                                           pointType:PointTypes.OpenCircle);\r\n",
    "// Show!\r\n",
    "plt.PlotNow()"
   ],
   "outputs": [
    {
     "output_type": "stream",
     "name": "stdout",
     "text": [
      "Using gnuplot: C:\\Program Files (x86)\\FDY\\BoSSS\\bin\\native\\win\\gnuplot-gp510-20160418-win32-mingw\\gnuplot\\bin\\gnuplot.exe\n",
      "set key font \",16\"Left reverse \n"
     ]
    },
    {
     "output_type": "execute_result",
     "data": {
      "text/html": [
       "<?xml version=\"1.0\" encoding=\"utf-8\"  standalone=\"no\"?>\n",
       "<!DOCTYPE svg PUBLIC \"-//W3C//DTD SVG 1.1//EN\"\n",
       " \"http://www.w3.org/Graphics/SVG/1.1/DTD/svg11.dtd\">\n",
       "<svg \n",
       " width=\"800\" height=\"600\"\n",
       " viewBox=\"0 0 800 600\"\n",
       " xmlns=\"http://www.w3.org/2000/svg\"\n",
       " xmlns:xlink=\"http://www.w3.org/1999/xlink\"\n",
       ">\n",
       "\n",
       "<title>Gnuplot</title>\n",
       "<desc>Produced by GNUPLOT 5.1 patchlevel 0 </desc>\n",
       "\n",
       "<g id=\"gnuplot_canvas\">\n",
       "\n",
       "<rect x=\"0\" y=\"0\" width=\"800\" height=\"600\" fill=\"#ffffff\"/>\n",
       "<defs>\n",
       "\n",
       "\t<circle id='gpDot' r='0.5' stroke-width='0.5'/>\n",
       "\t<path id='gpPt0' stroke-width='0.222' stroke='currentColor' d='M-1,0 h2 M0,-1 v2'/>\n",
       "\t<path id='gpPt1' stroke-width='0.222' stroke='currentColor' d='M-1,-1 L1,1 M1,-1 L-1,1'/>\n",
       "\t<path id='gpPt2' stroke-width='0.222' stroke='currentColor' d='M-1,0 L1,0 M0,-1 L0,1 M-1,-1 L1,1 M-1,1 L1,-1'/>\n",
       "\t<rect id='gpPt3' stroke-width='0.222' stroke='currentColor' x='-1' y='-1' width='2' height='2'/>\n",
       "\t<rect id='gpPt4' stroke-width='0.222' stroke='currentColor' fill='currentColor' x='-1' y='-1' width='2' height='2'/>\n",
       "\t<circle id='gpPt5' stroke-width='0.222' stroke='currentColor' cx='0' cy='0' r='1'/>\n",
       "\t<use xlink:href='#gpPt5' id='gpPt6' fill='currentColor' stroke='none'/>\n",
       "\t<path id='gpPt7' stroke-width='0.222' stroke='currentColor' d='M0,-1.33 L-1.33,0.67 L1.33,0.67 z'/>\n",
       "\t<use xlink:href='#gpPt7' id='gpPt8' fill='currentColor' stroke='none'/>\n",
       "\t<use xlink:href='#gpPt7' id='gpPt9' stroke='currentColor' transform='rotate(180)'/>\n",
       "\t<use xlink:href='#gpPt9' id='gpPt10' fill='currentColor' stroke='none'/>\n",
       "\t<use xlink:href='#gpPt3' id='gpPt11' stroke='currentColor' transform='rotate(45)'/>\n",
       "\t<use xlink:href='#gpPt11' id='gpPt12' fill='currentColor' stroke='none'/>\n",
       "\t<path id='gpPt13' stroke-width='0.222' stroke='currentColor' d='M0,1.330 L1.265,0.411 L0.782,-1.067 L-0.782,-1.076 L-1.265,0.411 z'/>\n",
       "\t<use xlink:href='#gpPt13' id='gpPt14' fill='currentColor' stroke='none'/>\n",
       "\t<filter id='textbox' filterUnits='objectBoundingBox' x='0' y='0' height='1' width='1'>\n",
       "\t  <feFlood flood-color='#FFFFFF' flood-opacity='1' result='bgnd'/>\n",
       "\t  <feComposite in='SourceGraphic' in2='bgnd' operator='atop'/>\n",
       "\t</filter>\n",
       "\t<filter id='greybox' filterUnits='objectBoundingBox' x='0' y='0' height='1' width='1'>\n",
       "\t  <feFlood flood-color='lightgrey' flood-opacity='1' result='grey'/>\n",
       "\t  <feComposite in='SourceGraphic' in2='grey' operator='atop'/>\n",
       "\t</filter>\n",
       "</defs>\n",
       "<g fill=\"none\" color=\"#FFFFFF\" stroke=\"currentColor\" stroke-width=\"1.00\" stroke-linecap=\"butt\" stroke-linejoin=\"miter\">\n",
       "</g>\n",
       "<g fill=\"none\" color=\"black\" stroke=\"currentColor\" stroke-width=\"1.00\" stroke-linecap=\"butt\" stroke-linejoin=\"miter\">\n",
       "\t<path stroke='black'  d='M70.5,564.0 L79.5,564.0 M750.1,564.0 L741.1,564.0  '/>\t<g transform=\"translate(62.2,568.5)\" stroke=\"none\" fill=\"black\" font-family=\"Arial\" font-size=\"12.00\"  text-anchor=\"end\">\n",
       "\t\t<text><tspan font-family=\"Arial\" > 0</tspan></text>\n",
       "\t</g>\n",
       "</g>\n",
       "<g fill=\"none\" color=\"black\" stroke=\"currentColor\" stroke-width=\"1.00\" stroke-linecap=\"butt\" stroke-linejoin=\"miter\">\n",
       "\t<path stroke='black'  d='M70.5,476.0 L79.5,476.0 M750.1,476.0 L741.1,476.0  '/>\t<g transform=\"translate(62.2,480.5)\" stroke=\"none\" fill=\"black\" font-family=\"Arial\" font-size=\"12.00\"  text-anchor=\"end\">\n",
       "\t\t<text><tspan font-family=\"Arial\" > 5000</tspan></text>\n",
       "\t</g>\n",
       "</g>\n",
       "<g fill=\"none\" color=\"black\" stroke=\"currentColor\" stroke-width=\"1.00\" stroke-linecap=\"butt\" stroke-linejoin=\"miter\">\n",
       "\t<path stroke='black'  d='M70.5,388.0 L79.5,388.0 M750.1,388.0 L741.1,388.0  '/>\t<g transform=\"translate(62.2,392.5)\" stroke=\"none\" fill=\"black\" font-family=\"Arial\" font-size=\"12.00\"  text-anchor=\"end\">\n",
       "\t\t<text><tspan font-family=\"Arial\" > 10000</tspan></text>\n",
       "\t</g>\n",
       "</g>\n",
       "<g fill=\"none\" color=\"black\" stroke=\"currentColor\" stroke-width=\"1.00\" stroke-linecap=\"butt\" stroke-linejoin=\"miter\">\n",
       "\t<path stroke='black'  d='M70.5,300.1 L79.5,300.1 M750.1,300.1 L741.1,300.1  '/>\t<g transform=\"translate(62.2,304.6)\" stroke=\"none\" fill=\"black\" font-family=\"Arial\" font-size=\"12.00\"  text-anchor=\"end\">\n",
       "\t\t<text><tspan font-family=\"Arial\" > 15000</tspan></text>\n",
       "\t</g>\n",
       "</g>\n",
       "<g fill=\"none\" color=\"black\" stroke=\"currentColor\" stroke-width=\"1.00\" stroke-linecap=\"butt\" stroke-linejoin=\"miter\">\n",
       "\t<path stroke='black'  d='M70.5,212.1 L79.5,212.1 M750.1,212.1 L741.1,212.1  '/>\t<g transform=\"translate(62.2,216.6)\" stroke=\"none\" fill=\"black\" font-family=\"Arial\" font-size=\"12.00\"  text-anchor=\"end\">\n",
       "\t\t<text><tspan font-family=\"Arial\" > 20000</tspan></text>\n",
       "\t</g>\n",
       "</g>\n",
       "<g fill=\"none\" color=\"black\" stroke=\"currentColor\" stroke-width=\"1.00\" stroke-linecap=\"butt\" stroke-linejoin=\"miter\">\n",
       "\t<path stroke='black'  d='M70.5,124.1 L79.5,124.1 M750.1,124.1 L741.1,124.1  '/>\t<g transform=\"translate(62.2,128.6)\" stroke=\"none\" fill=\"black\" font-family=\"Arial\" font-size=\"12.00\"  text-anchor=\"end\">\n",
       "\t\t<text><tspan font-family=\"Arial\" > 25000</tspan></text>\n",
       "\t</g>\n",
       "</g>\n",
       "<g fill=\"none\" color=\"black\" stroke=\"currentColor\" stroke-width=\"1.00\" stroke-linecap=\"butt\" stroke-linejoin=\"miter\">\n",
       "\t<path stroke='black'  d='M70.5,36.1 L79.5,36.1 M750.1,36.1 L741.1,36.1  '/>\t<g transform=\"translate(62.2,40.6)\" stroke=\"none\" fill=\"black\" font-family=\"Arial\" font-size=\"12.00\"  text-anchor=\"end\">\n",
       "\t\t<text><tspan font-family=\"Arial\" > 30000</tspan></text>\n",
       "\t</g>\n",
       "</g>\n",
       "<g fill=\"none\" color=\"black\" stroke=\"currentColor\" stroke-width=\"1.00\" stroke-linecap=\"butt\" stroke-linejoin=\"miter\">\n",
       "\t<path stroke='black'  d='M70.5,564.0 L70.5,555.0 M70.5,36.1 L70.5,45.1  '/>\t<g transform=\"translate(70.5,595.2)\" stroke=\"none\" fill=\"black\" font-family=\"sans\" font-size=\"16.00\"  text-anchor=\"middle\">\n",
       "\t\t<text><tspan font-family=\"sans\" >$10</tspan><tspan font-family=\"sans\"  font-size=\"12.8\" dy=\"-8.00px\">-3</tspan><tspan font-family=\"sans\"  font-size=\"16.0\" dy=\"8.00px\">$</tspan></text>\n",
       "\t</g>\n",
       "</g>\n",
       "<g fill=\"none\" color=\"black\" stroke=\"currentColor\" stroke-width=\"1.00\" stroke-linecap=\"butt\" stroke-linejoin=\"miter\">\n",
       "\t<path stroke='black'  d='M111.4,564.0 L111.4,559.5 M111.4,36.1 L111.4,40.6 M165.5,564.0 L165.5,559.5 M165.5,36.1 L165.5,40.6\n",
       "\t\tM193.2,564.0 L193.2,559.5 M193.2,36.1 L193.2,40.6 M206.4,564.0 L206.4,555.0 M206.4,36.1 L206.4,45.1\n",
       "\t\t '/>\t<g transform=\"translate(206.4,595.2)\" stroke=\"none\" fill=\"black\" font-family=\"sans\" font-size=\"16.00\"  text-anchor=\"middle\">\n",
       "\t\t<text><tspan font-family=\"sans\" >$10</tspan><tspan font-family=\"sans\"  font-size=\"12.8\" dy=\"-8.00px\">-2</tspan><tspan font-family=\"sans\"  font-size=\"16.0\" dy=\"8.00px\">$</tspan></text>\n",
       "\t</g>\n",
       "</g>\n",
       "<g fill=\"none\" color=\"black\" stroke=\"currentColor\" stroke-width=\"1.00\" stroke-linecap=\"butt\" stroke-linejoin=\"miter\">\n",
       "\t<path stroke='black'  d='M247.3,564.0 L247.3,559.5 M247.3,36.1 L247.3,40.6 M301.4,564.0 L301.4,559.5 M301.4,36.1 L301.4,40.6\n",
       "\t\tM329.2,564.0 L329.2,559.5 M329.2,36.1 L329.2,40.6 M342.3,564.0 L342.3,555.0 M342.3,36.1 L342.3,45.1\n",
       "\t\t '/>\t<g transform=\"translate(342.3,595.2)\" stroke=\"none\" fill=\"black\" font-family=\"sans\" font-size=\"16.00\"  text-anchor=\"middle\">\n",
       "\t\t<text><tspan font-family=\"sans\" >$10</tspan><tspan font-family=\"sans\"  font-size=\"12.8\" dy=\"-8.00px\">-1</tspan><tspan font-family=\"sans\"  font-size=\"16.0\" dy=\"8.00px\">$</tspan></text>\n",
       "\t</g>\n",
       "</g>\n",
       "<g fill=\"none\" color=\"black\" stroke=\"currentColor\" stroke-width=\"1.00\" stroke-linecap=\"butt\" stroke-linejoin=\"miter\">\n",
       "\t<path stroke='black'  d='M383.3,564.0 L383.3,559.5 M383.3,36.1 L383.3,40.6 M437.3,564.0 L437.3,559.5 M437.3,36.1 L437.3,40.6\n",
       "\t\tM465.1,564.0 L465.1,559.5 M465.1,36.1 L465.1,40.6 M478.3,564.0 L478.3,555.0 M478.3,36.1 L478.3,45.1\n",
       "\t\t '/>\t<g transform=\"translate(478.3,595.2)\" stroke=\"none\" fill=\"black\" font-family=\"sans\" font-size=\"16.00\"  text-anchor=\"middle\">\n",
       "\t\t<text><tspan font-family=\"sans\" >$10</tspan><tspan font-family=\"sans\"  font-size=\"12.8\" dy=\"-8.00px\">0</tspan><tspan font-family=\"sans\"  font-size=\"16.0\" dy=\"8.00px\">$</tspan></text>\n",
       "\t</g>\n",
       "</g>\n",
       "<g fill=\"none\" color=\"black\" stroke=\"currentColor\" stroke-width=\"1.00\" stroke-linecap=\"butt\" stroke-linejoin=\"miter\">\n",
       "\t<path stroke='black'  d='M519.2,564.0 L519.2,559.5 M519.2,36.1 L519.2,40.6 M573.3,564.0 L573.3,559.5 M573.3,36.1 L573.3,40.6\n",
       "\t\tM601.0,564.0 L601.0,559.5 M601.0,36.1 L601.0,40.6 M614.2,564.0 L614.2,555.0 M614.2,36.1 L614.2,45.1\n",
       "\t\t '/>\t<g transform=\"translate(614.2,595.2)\" stroke=\"none\" fill=\"black\" font-family=\"sans\" font-size=\"16.00\"  text-anchor=\"middle\">\n",
       "\t\t<text><tspan font-family=\"sans\" >$10</tspan><tspan font-family=\"sans\"  font-size=\"12.8\" dy=\"-8.00px\">1</tspan><tspan font-family=\"sans\"  font-size=\"16.0\" dy=\"8.00px\">$</tspan></text>\n",
       "\t</g>\n",
       "</g>\n",
       "<g fill=\"none\" color=\"black\" stroke=\"currentColor\" stroke-width=\"1.00\" stroke-linecap=\"butt\" stroke-linejoin=\"miter\">\n",
       "\t<path stroke='black'  d='M655.1,564.0 L655.1,559.5 M655.1,36.1 L655.1,40.6 M709.2,564.0 L709.2,559.5 M709.2,36.1 L709.2,40.6\n",
       "\t\tM736.9,564.0 L736.9,559.5 M736.9,36.1 L736.9,40.6 M750.1,564.0 L750.1,555.0 M750.1,36.1 L750.1,45.1\n",
       "\t\t '/>\t<g transform=\"translate(750.1,595.2)\" stroke=\"none\" fill=\"black\" font-family=\"sans\" font-size=\"16.00\"  text-anchor=\"middle\">\n",
       "\t\t<text><tspan font-family=\"sans\" >$10</tspan><tspan font-family=\"sans\"  font-size=\"12.8\" dy=\"-8.00px\">2</tspan><tspan font-family=\"sans\"  font-size=\"16.0\" dy=\"8.00px\">$</tspan></text>\n",
       "\t</g>\n",
       "</g>\n",
       "<g fill=\"none\" color=\"black\" stroke=\"currentColor\" stroke-width=\"1.00\" stroke-linecap=\"butt\" stroke-linejoin=\"miter\">\n",
       "\t<path stroke='black'  d='M750.1,564.0 L741.1,564.0  '/>\t<g transform=\"translate(758.4,568.5)\" stroke=\"none\" fill=\"black\" font-family=\"Arial\" font-size=\"12.00\"  text-anchor=\"start\">\n",
       "\t\t<text><tspan font-family=\"Arial\" > </tspan></text>\n",
       "\t</g>\n",
       "</g>\n",
       "<g fill=\"none\" color=\"black\" stroke=\"currentColor\" stroke-width=\"1.00\" stroke-linecap=\"butt\" stroke-linejoin=\"miter\">\n",
       "\t<path stroke='black'  d='M750.1,476.0 L741.1,476.0  '/>\t<g transform=\"translate(758.4,480.5)\" stroke=\"none\" fill=\"black\" font-family=\"Arial\" font-size=\"12.00\"  text-anchor=\"start\">\n",
       "\t\t<text><tspan font-family=\"Arial\" > </tspan></text>\n",
       "\t</g>\n",
       "</g>\n",
       "<g fill=\"none\" color=\"black\" stroke=\"currentColor\" stroke-width=\"1.00\" stroke-linecap=\"butt\" stroke-linejoin=\"miter\">\n",
       "\t<path stroke='black'  d='M750.1,388.0 L741.1,388.0  '/>\t<g transform=\"translate(758.4,392.5)\" stroke=\"none\" fill=\"black\" font-family=\"Arial\" font-size=\"12.00\"  text-anchor=\"start\">\n",
       "\t\t<text><tspan font-family=\"Arial\" > </tspan></text>\n",
       "\t</g>\n",
       "</g>\n",
       "<g fill=\"none\" color=\"black\" stroke=\"currentColor\" stroke-width=\"1.00\" stroke-linecap=\"butt\" stroke-linejoin=\"miter\">\n",
       "\t<path stroke='black'  d='M750.1,300.1 L741.1,300.1  '/>\t<g transform=\"translate(758.4,304.6)\" stroke=\"none\" fill=\"black\" font-family=\"Arial\" font-size=\"12.00\"  text-anchor=\"start\">\n",
       "\t\t<text><tspan font-family=\"Arial\" > </tspan></text>\n",
       "\t</g>\n",
       "</g>\n",
       "<g fill=\"none\" color=\"black\" stroke=\"currentColor\" stroke-width=\"1.00\" stroke-linecap=\"butt\" stroke-linejoin=\"miter\">\n",
       "\t<path stroke='black'  d='M750.1,212.1 L741.1,212.1  '/>\t<g transform=\"translate(758.4,216.6)\" stroke=\"none\" fill=\"black\" font-family=\"Arial\" font-size=\"12.00\"  text-anchor=\"start\">\n",
       "\t\t<text><tspan font-family=\"Arial\" > </tspan></text>\n",
       "\t</g>\n",
       "</g>\n",
       "<g fill=\"none\" color=\"black\" stroke=\"currentColor\" stroke-width=\"1.00\" stroke-linecap=\"butt\" stroke-linejoin=\"miter\">\n",
       "\t<path stroke='black'  d='M750.1,124.1 L741.1,124.1  '/>\t<g transform=\"translate(758.4,128.6)\" stroke=\"none\" fill=\"black\" font-family=\"Arial\" font-size=\"12.00\"  text-anchor=\"start\">\n",
       "\t\t<text><tspan font-family=\"Arial\" > </tspan></text>\n",
       "\t</g>\n",
       "</g>\n",
       "<g fill=\"none\" color=\"black\" stroke=\"currentColor\" stroke-width=\"1.00\" stroke-linecap=\"butt\" stroke-linejoin=\"miter\">\n",
       "\t<path stroke='black'  d='M750.1,36.1 L741.1,36.1  '/>\t<g transform=\"translate(758.4,40.6)\" stroke=\"none\" fill=\"black\" font-family=\"Arial\" font-size=\"12.00\"  text-anchor=\"start\">\n",
       "\t\t<text><tspan font-family=\"Arial\" > </tspan></text>\n",
       "\t</g>\n",
       "</g>\n",
       "<g fill=\"none\" color=\"black\" stroke=\"currentColor\" stroke-width=\"1.00\" stroke-linecap=\"butt\" stroke-linejoin=\"miter\">\n",
       "\t<path stroke='black'  d='M70.5,36.1 L70.5,45.1  '/>\t<g transform=\"translate(70.5,22.6)\" stroke=\"none\" fill=\"black\" font-family=\"Arial\" font-size=\"12.00\"  text-anchor=\"middle\">\n",
       "\t\t<text><tspan font-family=\"Arial\" > </tspan></text>\n",
       "\t</g>\n",
       "</g>\n",
       "<g fill=\"none\" color=\"black\" stroke=\"currentColor\" stroke-width=\"1.00\" stroke-linecap=\"butt\" stroke-linejoin=\"miter\">\n",
       "\t<path stroke='black'  d='M206.4,36.1 L206.4,45.1  '/>\t<g transform=\"translate(206.4,22.6)\" stroke=\"none\" fill=\"black\" font-family=\"Arial\" font-size=\"12.00\"  text-anchor=\"middle\">\n",
       "\t\t<text><tspan font-family=\"Arial\" > </tspan></text>\n",
       "\t</g>\n",
       "</g>\n",
       "<g fill=\"none\" color=\"black\" stroke=\"currentColor\" stroke-width=\"1.00\" stroke-linecap=\"butt\" stroke-linejoin=\"miter\">\n",
       "\t<path stroke='black'  d='M342.3,36.1 L342.3,45.1  '/>\t<g transform=\"translate(342.3,22.6)\" stroke=\"none\" fill=\"black\" font-family=\"Arial\" font-size=\"12.00\"  text-anchor=\"middle\">\n",
       "\t\t<text><tspan font-family=\"Arial\" > </tspan></text>\n",
       "\t</g>\n",
       "</g>\n",
       "<g fill=\"none\" color=\"black\" stroke=\"currentColor\" stroke-width=\"1.00\" stroke-linecap=\"butt\" stroke-linejoin=\"miter\">\n",
       "\t<path stroke='black'  d='M478.3,36.1 L478.3,45.1  '/>\t<g transform=\"translate(478.3,22.6)\" stroke=\"none\" fill=\"black\" font-family=\"Arial\" font-size=\"12.00\"  text-anchor=\"middle\">\n",
       "\t\t<text><tspan font-family=\"Arial\" > </tspan></text>\n",
       "\t</g>\n",
       "</g>\n",
       "<g fill=\"none\" color=\"black\" stroke=\"currentColor\" stroke-width=\"1.00\" stroke-linecap=\"butt\" stroke-linejoin=\"miter\">\n",
       "\t<path stroke='black'  d='M614.2,36.1 L614.2,45.1  '/>\t<g transform=\"translate(614.2,22.6)\" stroke=\"none\" fill=\"black\" font-family=\"Arial\" font-size=\"12.00\"  text-anchor=\"middle\">\n",
       "\t\t<text><tspan font-family=\"Arial\" > </tspan></text>\n",
       "\t</g>\n",
       "</g>\n",
       "<g fill=\"none\" color=\"black\" stroke=\"currentColor\" stroke-width=\"1.00\" stroke-linecap=\"butt\" stroke-linejoin=\"miter\">\n",
       "\t<path stroke='black'  d='M750.1,36.1 L750.1,45.1  '/>\t<g transform=\"translate(750.1,22.6)\" stroke=\"none\" fill=\"black\" font-family=\"Arial\" font-size=\"12.00\"  text-anchor=\"middle\">\n",
       "\t\t<text><tspan font-family=\"Arial\" > </tspan></text>\n",
       "\t</g>\n",
       "</g>\n",
       "<g fill=\"none\" color=\"black\" stroke=\"currentColor\" stroke-width=\"1.00\" stroke-linecap=\"butt\" stroke-linejoin=\"miter\">\n",
       "</g>\n",
       "<g fill=\"none\" color=\"black\" stroke=\"currentColor\" stroke-width=\"1.00\" stroke-linecap=\"butt\" stroke-linejoin=\"miter\">\n",
       "\t<path stroke='black'  d='M70.5,36.1 L70.5,564.0 L750.1,564.0 L750.1,36.1 L70.5,36.1 Z  '/></g>\n",
       "<g fill=\"none\" color=\"black\" stroke=\"currentColor\" stroke-width=\"1.00\" stroke-linecap=\"butt\" stroke-linejoin=\"miter\">\n",
       "</g>\n",
       "\t<g id=\"gnuplot_plot_1\" ><title>gnuplot_plot_1</title>\n",
       "<g fill=\"none\" color=\"black\" stroke=\"currentColor\" stroke-width=\"1.00\" stroke-linecap=\"butt\" stroke-linejoin=\"miter\">\n",
       "\t<path stroke='rgb(  0,   0, 255)' stroke-dasharray='4.0,2.0,1.0,2.0'  d='M70.5,333.3 L111.4,304.3 L206.4,190.2 L247.3,117.6 L342.3,140.9 L383.3,482.2 L478.3,538.2 L519.2,527.5\n",
       "\t\tL614.2,484.5 L655.1,456.0 L750.1,349.0  '/>\t<use xlink:href='#gpPt5' transform='translate(70.5,333.3) scale(9.00)' color='rgb(  0,   0, 255)'/>\n",
       "\t<use xlink:href='#gpPt5' transform='translate(111.4,304.3) scale(9.00)' color='rgb(  0,   0, 255)'/>\n",
       "\t<use xlink:href='#gpPt5' transform='translate(206.4,190.2) scale(9.00)' color='rgb(  0,   0, 255)'/>\n",
       "\t<use xlink:href='#gpPt5' transform='translate(247.3,117.6) scale(9.00)' color='rgb(  0,   0, 255)'/>\n",
       "\t<use xlink:href='#gpPt5' transform='translate(342.3,140.9) scale(9.00)' color='rgb(  0,   0, 255)'/>\n",
       "\t<use xlink:href='#gpPt5' transform='translate(383.3,482.2) scale(9.00)' color='rgb(  0,   0, 255)'/>\n",
       "\t<use xlink:href='#gpPt5' transform='translate(478.3,538.2) scale(9.00)' color='rgb(  0,   0, 255)'/>\n",
       "\t<use xlink:href='#gpPt5' transform='translate(519.2,527.5) scale(9.00)' color='rgb(  0,   0, 255)'/>\n",
       "\t<use xlink:href='#gpPt5' transform='translate(614.2,484.5) scale(9.00)' color='rgb(  0,   0, 255)'/>\n",
       "\t<use xlink:href='#gpPt5' transform='translate(655.1,456.0) scale(9.00)' color='rgb(  0,   0, 255)'/>\n",
       "\t<use xlink:href='#gpPt5' transform='translate(750.1,349.0) scale(9.00)' color='rgb(  0,   0, 255)'/>\n",
       "</g>\n",
       "\t</g>\n",
       "<g fill=\"none\" color=\"#FFFFFF\" stroke=\"rgb(  0,   0, 255)\" stroke-width=\"2.00\" stroke-linecap=\"butt\" stroke-linejoin=\"miter\">\n",
       "</g>\n",
       "<g fill=\"none\" color=\"black\" stroke=\"currentColor\" stroke-width=\"2.00\" stroke-linecap=\"butt\" stroke-linejoin=\"miter\">\n",
       "</g>\n",
       "<g fill=\"none\" color=\"black\" stroke=\"black\" stroke-width=\"1.00\" stroke-linecap=\"butt\" stroke-linejoin=\"miter\">\n",
       "</g>\n",
       "<g fill=\"none\" color=\"black\" stroke=\"currentColor\" stroke-width=\"1.00\" stroke-linecap=\"butt\" stroke-linejoin=\"miter\">\n",
       "\t<path stroke='black'  d='M70.5,36.1 L70.5,564.0 L750.1,564.0 L750.1,36.1 L70.5,36.1 Z  '/></g>\n",
       "<g fill=\"none\" color=\"black\" stroke=\"currentColor\" stroke-width=\"1.00\" stroke-linecap=\"butt\" stroke-linejoin=\"miter\">\n",
       "</g>\n",
       "</g>\n",
       "</svg>\n",
       "\n"
      ]
     },
     "metadata": {},
     "execution_count": 25
    }
   ],
   "metadata": {
    "dotnet_interactive": {
     "language": "csharp"
    }
   }
  },
  {
   "cell_type": "markdown",
   "source": [
    "### Convergence study, indefinite vs. definite.\n",
    "We are going to solve the SIP-system for different grid resolutions,\n",
    "comparing an insufficient penalty to a penalty which is large enough."
   ],
   "metadata": {}
  },
  {
   "cell_type": "code",
   "execution_count": null,
   "source": [
    "double[] Resolution = new double[] { 2, 4, 8, 16, 32, 64 };\r\n",
    "List<double> L2Error_indef  = new List<double>();\r\n",
    "List<double> L2Error_posdef = new List<double>();\r\n",
    "int cnt = 0;\r\n",
    "foreach(int Res in Resolution) {\r\n",
    "    cnt++;\r\n",
    "    //var grd2D = Grid2D.UnstructuredTriangleGrid(GenericBlas.Linspace(-1,1,(int)Res + 1), \r\n",
    "    //                                            GenericBlas.Linspace(-1,1,(int)Res + 1));\r\n",
    "    var grd2D = Grid2D.Cartesian2DGrid(GenericBlas.Linspace(-1,1,(int)Res + 1), \r\n",
    "                                      GenericBlas.Linspace(-1,1,(int)Res + 1));\r\n",
    "    var gdata2D = new GridData(grd2D);\r\n",
    "    var DGBasisOn2D = new Basis(gdata2D, 2);\r\n",
    "    var Mapping2D  = new UnsetteledCoordinateMapping(DGBasisOn2D);\r\n",
    " \r\n",
    "    SinglePhaseField RHS = new SinglePhaseField(DGBasisOn2D, \"RHS\");\r\n",
    "    RHS.ProjectField(exRhs);\r\n",
    "    SinglePhaseField uEx = new SinglePhaseField(\r\n",
    "           new Basis(gdata2D, DGBasisOn2D.Degree*2),\r\n",
    "           \"Error\");\r\n",
    "    uEx.ProjectField(exSol);\r\n",
    " \r\n",
    " \r\n",
    "    i_SipLaplace.PenaltySafety    = 0.01;\r\n",
    "    var Matrix_SIP_indef          = Operator_SipLaplace.ComputeMatrix(\r\n",
    "                                    Mapping2D,null,Mapping2D);\r\n",
    " \r\n",
    "    SinglePhaseField u_indef = new SinglePhaseField(DGBasisOn2D,\"u_indef\");\r\n",
    "    Matrix_SIP_indef.Solve_Direct(u_indef.CoordinateVector, \r\n",
    "                                  RHS.CoordinateVector);\r\n",
    "    var Error_indef = uEx.CloneAs();\r\n",
    "    Error_indef.AccLaidBack(-1.0, u_indef);\r\n",
    "    L2Error_indef.Add(Error_indef.L2Norm());\r\n",
    " \r\n",
    "    /// In order to have a positive definite system, we are\r\n",
    "    /// using  PenaltySafety = 2!\r\n",
    "    i_SipLaplace.PenaltySafety    = 2.0;\r\n",
    "    var Matrix_SIP_posdef         = Operator_SipLaplace.ComputeMatrix(\r\n",
    "                                    Mapping2D, null, Mapping2D);\r\n",
    " \r\n",
    "    SinglePhaseField u_posdef = new SinglePhaseField(DGBasisOn2D,\"u_posdef\");\r\n",
    "    Matrix_SIP_posdef.Solve_Direct(u_posdef.CoordinateVector, \r\n",
    "                                   RHS.CoordinateVector);\r\n",
    "    var Error_posdef = uEx.CloneAs();\r\n",
    "    Error_posdef.AccLaidBack(-1.0, u_posdef);\r\n",
    "    L2Error_posdef.Add(Error_posdef.L2Norm());\r\n",
    "    \r\n",
    "    //Tecplot(\"ConvStudy-\" + cnt, uEx, u_posdef, u_indef); // activate this line for plotting!\r\n",
    "    \r\n",
    "    Console.WriteLine(L2Error_indef.Last().ToString(\"0.#E-00\") \r\n",
    "                      + \"\\t\" + L2Error_posdef.Last().ToString(\"0.#E-00\"));\r\n",
    "}"
   ],
   "outputs": [
    {
     "output_type": "stream",
     "name": "stdout",
     "text": [
      "1.5E01\t7.2E-01\n",
      "4.1E-01\t1.9E-01\n",
      "3.1E-02\t1.7E-02\n",
      "5.8E-03\t1.6E-03\n",
      "8.4E-04\t1.7E-04\n",
      "1.1E-04\t2.1E-05\n"
     ]
    }
   ],
   "metadata": {
    "dotnet_interactive": {
     "language": "csharp"
    }
   }
  },
  {
   "cell_type": "markdown",
   "source": [
    "### Convergence Plot and Conclusions\n",
    "The convergence plot should unveil that there is something wrong if the\n",
    "penalty factor is set too low.\n",
    "Unfortunately, **it does not**, so this is some kind of **anti-example**;\n",
    "It is in this tutorial anyway **to illustrate the difficulties of numerical testing**.\n",
    "Interested readers migth check out the source code and \n",
    "try to modify the test `BoSSS.Application.SipPoisson.Tests.TestProgram.TestOperatorConvergence3D(2)`\n",
    "so that it fails.\n",
    "\n",
    "The reason why the indefinite matrix still gives a solution convergence \n",
    "is very likely that the solver which is used in BoSSS is also (sometimes) capable\n",
    "of solving singular or close-to-singular systems, i.e. systems without a unique solution.\n",
    "In those cases, it selects a solution with a minimal solution norm. \n",
    "Since BoSSS uses an orthonormal basis the $L^2$ norm of the DG-Field is identical to the $l_2$ norm of the \n",
    "coordinate vector (Parseval's identity).\n",
    "Therefore, the solver by chance adds additional stability which is not part of the (instable) discretization.\n",
    "\n",
    "~~While the solution of the indefinite system may look right at the first\n",
    "glance, we see that we do not obtain grid convergence for \n",
    "*Error\\_indef*.~~\n",
    "\n",
    "The error of the positive definite system, *Error\\_posdef*, where the \n",
    "penalty is chosen sufficiently large converges with the expected \n",
    "rate."
   ],
   "metadata": {}
  },
  {
   "cell_type": "code",
   "execution_count": null,
   "source": [
    "var plt = new Plot2Ddata();\r\n",
    "plt.AddDataGroup(\"indef mtx\", Resolution, L2Error_indef);\r\n",
    "plt.AddDataGroup(\"pos def mtx\", Resolution, L2Error_posdef);\r\n",
    "\r\n",
    "/// A double-logarithmic scale is used:\r\n",
    "plt.LogX = true;\r\n",
    "plt.LogY = true;\r\n",
    "\r\n",
    "/// Set Format\r\n",
    "plt.dataGroups[0].Format =  new PlotFormat(lineColor: LineColors.Red, \r\n",
    "                                           pointSize: 2, \r\n",
    "                                           dashType: DashTypes.DotDashed, \r\n",
    "                                           Style: Styles.LinesPoints, \r\n",
    "                                           pointType:PointTypes.OpenCircle);\r\n",
    "plt.dataGroups[1].Format =  new PlotFormat(\"Blue-.o\"); // altenatively, using MATLAB-like format strings\r\n",
    "plt.dataGroups[1].Format.PointSize = 2;\r\n",
    "// Show!\r\n",
    "plt.PlotNow()"
   ],
   "outputs": [
    {
     "output_type": "stream",
     "name": "stdout",
     "text": [
      "Using gnuplot: C:\\Program Files (x86)\\FDY\\BoSSS\\bin\\native\\win\\gnuplot-gp510-20160418-win32-mingw\\gnuplot\\bin\\gnuplot.exe\n",
      "set key font \",16\"Left reverse \n"
     ]
    },
    {
     "output_type": "execute_result",
     "data": {
      "text/html": [
       "<?xml version=\"1.0\" encoding=\"utf-8\"  standalone=\"no\"?>\n",
       "<!DOCTYPE svg PUBLIC \"-//W3C//DTD SVG 1.1//EN\"\n",
       " \"http://www.w3.org/Graphics/SVG/1.1/DTD/svg11.dtd\">\n",
       "<svg \n",
       " width=\"800\" height=\"600\"\n",
       " viewBox=\"0 0 800 600\"\n",
       " xmlns=\"http://www.w3.org/2000/svg\"\n",
       " xmlns:xlink=\"http://www.w3.org/1999/xlink\"\n",
       ">\n",
       "\n",
       "<title>Gnuplot</title>\n",
       "<desc>Produced by GNUPLOT 5.1 patchlevel 0 </desc>\n",
       "\n",
       "<g id=\"gnuplot_canvas\">\n",
       "\n",
       "<rect x=\"0\" y=\"0\" width=\"800\" height=\"600\" fill=\"#ffffff\"/>\n",
       "<defs>\n",
       "\n",
       "\t<circle id='gpDot' r='0.5' stroke-width='0.5'/>\n",
       "\t<path id='gpPt0' stroke-width='0.222' stroke='currentColor' d='M-1,0 h2 M0,-1 v2'/>\n",
       "\t<path id='gpPt1' stroke-width='0.222' stroke='currentColor' d='M-1,-1 L1,1 M1,-1 L-1,1'/>\n",
       "\t<path id='gpPt2' stroke-width='0.222' stroke='currentColor' d='M-1,0 L1,0 M0,-1 L0,1 M-1,-1 L1,1 M-1,1 L1,-1'/>\n",
       "\t<rect id='gpPt3' stroke-width='0.222' stroke='currentColor' x='-1' y='-1' width='2' height='2'/>\n",
       "\t<rect id='gpPt4' stroke-width='0.222' stroke='currentColor' fill='currentColor' x='-1' y='-1' width='2' height='2'/>\n",
       "\t<circle id='gpPt5' stroke-width='0.222' stroke='currentColor' cx='0' cy='0' r='1'/>\n",
       "\t<use xlink:href='#gpPt5' id='gpPt6' fill='currentColor' stroke='none'/>\n",
       "\t<path id='gpPt7' stroke-width='0.222' stroke='currentColor' d='M0,-1.33 L-1.33,0.67 L1.33,0.67 z'/>\n",
       "\t<use xlink:href='#gpPt7' id='gpPt8' fill='currentColor' stroke='none'/>\n",
       "\t<use xlink:href='#gpPt7' id='gpPt9' stroke='currentColor' transform='rotate(180)'/>\n",
       "\t<use xlink:href='#gpPt9' id='gpPt10' fill='currentColor' stroke='none'/>\n",
       "\t<use xlink:href='#gpPt3' id='gpPt11' stroke='currentColor' transform='rotate(45)'/>\n",
       "\t<use xlink:href='#gpPt11' id='gpPt12' fill='currentColor' stroke='none'/>\n",
       "\t<path id='gpPt13' stroke-width='0.222' stroke='currentColor' d='M0,1.330 L1.265,0.411 L0.782,-1.067 L-0.782,-1.076 L-1.265,0.411 z'/>\n",
       "\t<use xlink:href='#gpPt13' id='gpPt14' fill='currentColor' stroke='none'/>\n",
       "\t<filter id='textbox' filterUnits='objectBoundingBox' x='0' y='0' height='1' width='1'>\n",
       "\t  <feFlood flood-color='#FFFFFF' flood-opacity='1' result='bgnd'/>\n",
       "\t  <feComposite in='SourceGraphic' in2='bgnd' operator='atop'/>\n",
       "\t</filter>\n",
       "\t<filter id='greybox' filterUnits='objectBoundingBox' x='0' y='0' height='1' width='1'>\n",
       "\t  <feFlood flood-color='lightgrey' flood-opacity='1' result='grey'/>\n",
       "\t  <feComposite in='SourceGraphic' in2='grey' operator='atop'/>\n",
       "\t</filter>\n",
       "</defs>\n",
       "<g fill=\"none\" color=\"#FFFFFF\" stroke=\"currentColor\" stroke-width=\"1.00\" stroke-linecap=\"butt\" stroke-linejoin=\"miter\">\n",
       "</g>\n",
       "<g fill=\"none\" color=\"black\" stroke=\"currentColor\" stroke-width=\"1.00\" stroke-linecap=\"butt\" stroke-linejoin=\"miter\">\n",
       "\t<path stroke='black'  d='M62.2,564.0 L71.2,564.0 M750.1,564.0 L741.1,564.0  '/>\t<g transform=\"translate(53.9,570.0)\" stroke=\"none\" fill=\"black\" font-family=\"sans\" font-size=\"16.00\"  text-anchor=\"end\">\n",
       "\t\t<text><tspan font-family=\"sans\" >$10</tspan><tspan font-family=\"sans\"  font-size=\"12.8\" dy=\"-8.00px\">-5</tspan><tspan font-family=\"sans\"  font-size=\"16.0\" dy=\"8.00px\">$</tspan></text>\n",
       "\t</g>\n",
       "</g>\n",
       "<g fill=\"none\" color=\"black\" stroke=\"currentColor\" stroke-width=\"1.00\" stroke-linecap=\"butt\" stroke-linejoin=\"miter\">\n",
       "\t<path stroke='black'  d='M62.2,541.3 L66.7,541.3 M750.1,541.3 L745.6,541.3 M62.2,511.3 L66.7,511.3 M750.1,511.3 L745.6,511.3\n",
       "\t\tM62.2,495.9 L66.7,495.9 M750.1,495.9 L745.6,495.9 M62.2,488.6 L71.2,488.6 M750.1,488.6 L741.1,488.6\n",
       "\t\t '/>\t<g transform=\"translate(53.9,494.6)\" stroke=\"none\" fill=\"black\" font-family=\"sans\" font-size=\"16.00\"  text-anchor=\"end\">\n",
       "\t\t<text><tspan font-family=\"sans\" >$10</tspan><tspan font-family=\"sans\"  font-size=\"12.8\" dy=\"-8.00px\">-4</tspan><tspan font-family=\"sans\"  font-size=\"16.0\" dy=\"8.00px\">$</tspan></text>\n",
       "\t</g>\n",
       "</g>\n",
       "<g fill=\"none\" color=\"black\" stroke=\"currentColor\" stroke-width=\"1.00\" stroke-linecap=\"butt\" stroke-linejoin=\"miter\">\n",
       "\t<path stroke='black'  d='M62.2,465.9 L66.7,465.9 M750.1,465.9 L745.6,465.9 M62.2,435.9 L66.7,435.9 M750.1,435.9 L745.6,435.9\n",
       "\t\tM62.2,420.5 L66.7,420.5 M750.1,420.5 L745.6,420.5 M62.2,413.2 L71.2,413.2 M750.1,413.2 L741.1,413.2\n",
       "\t\t '/>\t<g transform=\"translate(53.9,419.2)\" stroke=\"none\" fill=\"black\" font-family=\"sans\" font-size=\"16.00\"  text-anchor=\"end\">\n",
       "\t\t<text><tspan font-family=\"sans\" >$10</tspan><tspan font-family=\"sans\"  font-size=\"12.8\" dy=\"-8.00px\">-3</tspan><tspan font-family=\"sans\"  font-size=\"16.0\" dy=\"8.00px\">$</tspan></text>\n",
       "\t</g>\n",
       "</g>\n",
       "<g fill=\"none\" color=\"black\" stroke=\"currentColor\" stroke-width=\"1.00\" stroke-linecap=\"butt\" stroke-linejoin=\"miter\">\n",
       "\t<path stroke='black'  d='M62.2,390.5 L66.7,390.5 M750.1,390.5 L745.6,390.5 M62.2,360.5 L66.7,360.5 M750.1,360.5 L745.6,360.5\n",
       "\t\tM62.2,345.1 L66.7,345.1 M750.1,345.1 L745.6,345.1 M62.2,337.8 L71.2,337.8 M750.1,337.8 L741.1,337.8\n",
       "\t\t '/>\t<g transform=\"translate(53.9,343.8)\" stroke=\"none\" fill=\"black\" font-family=\"sans\" font-size=\"16.00\"  text-anchor=\"end\">\n",
       "\t\t<text><tspan font-family=\"sans\" >$10</tspan><tspan font-family=\"sans\"  font-size=\"12.8\" dy=\"-8.00px\">-2</tspan><tspan font-family=\"sans\"  font-size=\"16.0\" dy=\"8.00px\">$</tspan></text>\n",
       "\t</g>\n",
       "</g>\n",
       "<g fill=\"none\" color=\"black\" stroke=\"currentColor\" stroke-width=\"1.00\" stroke-linecap=\"butt\" stroke-linejoin=\"miter\">\n",
       "\t<path stroke='black'  d='M62.2,315.1 L66.7,315.1 M750.1,315.1 L745.6,315.1 M62.2,285.0 L66.7,285.0 M750.1,285.0 L745.6,285.0\n",
       "\t\tM62.2,269.7 L66.7,269.7 M750.1,269.7 L745.6,269.7 M62.2,262.3 L71.2,262.3 M750.1,262.3 L741.1,262.3\n",
       "\t\t '/>\t<g transform=\"translate(53.9,268.3)\" stroke=\"none\" fill=\"black\" font-family=\"sans\" font-size=\"16.00\"  text-anchor=\"end\">\n",
       "\t\t<text><tspan font-family=\"sans\" >$10</tspan><tspan font-family=\"sans\"  font-size=\"12.8\" dy=\"-8.00px\">-1</tspan><tspan font-family=\"sans\"  font-size=\"16.0\" dy=\"8.00px\">$</tspan></text>\n",
       "\t</g>\n",
       "</g>\n",
       "<g fill=\"none\" color=\"black\" stroke=\"currentColor\" stroke-width=\"1.00\" stroke-linecap=\"butt\" stroke-linejoin=\"miter\">\n",
       "\t<path stroke='black'  d='M62.2,239.6 L66.7,239.6 M750.1,239.6 L745.6,239.6 M62.2,209.6 L66.7,209.6 M750.1,209.6 L745.6,209.6\n",
       "\t\tM62.2,194.2 L66.7,194.2 M750.1,194.2 L745.6,194.2 M62.2,186.9 L71.2,186.9 M750.1,186.9 L741.1,186.9\n",
       "\t\t '/>\t<g transform=\"translate(53.9,192.9)\" stroke=\"none\" fill=\"black\" font-family=\"sans\" font-size=\"16.00\"  text-anchor=\"end\">\n",
       "\t\t<text><tspan font-family=\"sans\" >$10</tspan><tspan font-family=\"sans\"  font-size=\"12.8\" dy=\"-8.00px\">0</tspan><tspan font-family=\"sans\"  font-size=\"16.0\" dy=\"8.00px\">$</tspan></text>\n",
       "\t</g>\n",
       "</g>\n",
       "<g fill=\"none\" color=\"black\" stroke=\"currentColor\" stroke-width=\"1.00\" stroke-linecap=\"butt\" stroke-linejoin=\"miter\">\n",
       "\t<path stroke='black'  d='M62.2,164.2 L66.7,164.2 M750.1,164.2 L745.6,164.2 M62.2,134.2 L66.7,134.2 M750.1,134.2 L745.6,134.2\n",
       "\t\tM62.2,118.8 L66.7,118.8 M750.1,118.8 L745.6,118.8 M62.2,111.5 L71.2,111.5 M750.1,111.5 L741.1,111.5\n",
       "\t\t '/>\t<g transform=\"translate(53.9,117.5)\" stroke=\"none\" fill=\"black\" font-family=\"sans\" font-size=\"16.00\"  text-anchor=\"end\">\n",
       "\t\t<text><tspan font-family=\"sans\" >$10</tspan><tspan font-family=\"sans\"  font-size=\"12.8\" dy=\"-8.00px\">1</tspan><tspan font-family=\"sans\"  font-size=\"16.0\" dy=\"8.00px\">$</tspan></text>\n",
       "\t</g>\n",
       "</g>\n",
       "<g fill=\"none\" color=\"black\" stroke=\"currentColor\" stroke-width=\"1.00\" stroke-linecap=\"butt\" stroke-linejoin=\"miter\">\n",
       "\t<path stroke='black'  d='M62.2,88.8 L66.7,88.8 M750.1,88.8 L745.6,88.8 M62.2,58.8 L66.7,58.8 M750.1,58.8 L745.6,58.8\n",
       "\t\tM62.2,43.4 L66.7,43.4 M750.1,43.4 L745.6,43.4 M62.2,36.1 L71.2,36.1 M750.1,36.1 L741.1,36.1\n",
       "\t\t '/>\t<g transform=\"translate(53.9,42.1)\" stroke=\"none\" fill=\"black\" font-family=\"sans\" font-size=\"16.00\"  text-anchor=\"end\">\n",
       "\t\t<text><tspan font-family=\"sans\" >$10</tspan><tspan font-family=\"sans\"  font-size=\"12.8\" dy=\"-8.00px\">2</tspan><tspan font-family=\"sans\"  font-size=\"16.0\" dy=\"8.00px\">$</tspan></text>\n",
       "\t</g>\n",
       "</g>\n",
       "<g fill=\"none\" color=\"black\" stroke=\"currentColor\" stroke-width=\"1.00\" stroke-linecap=\"butt\" stroke-linejoin=\"miter\">\n",
       "\t<path stroke='black'  d='M62.2,564.0 L62.2,555.0 M62.2,36.1 L62.2,45.1  '/>\t<g transform=\"translate(62.2,595.2)\" stroke=\"none\" fill=\"black\" font-family=\"sans\" font-size=\"16.00\"  text-anchor=\"middle\">\n",
       "\t\t<text><tspan font-family=\"sans\" >$10</tspan><tspan font-family=\"sans\"  font-size=\"12.8\" dy=\"-8.00px\">0</tspan><tspan font-family=\"sans\"  font-size=\"16.0\" dy=\"8.00px\">$</tspan></text>\n",
       "\t</g>\n",
       "</g>\n",
       "<g fill=\"none\" color=\"black\" stroke=\"currentColor\" stroke-width=\"1.00\" stroke-linecap=\"butt\" stroke-linejoin=\"miter\">\n",
       "\t<path stroke='black'  d='M165.7,564.0 L165.7,559.5 M165.7,36.1 L165.7,40.6 M226.3,564.0 L226.3,559.5 M226.3,36.1 L226.3,40.6\n",
       "\t\tM269.3,564.0 L269.3,559.5 M269.3,36.1 L269.3,40.6 M302.6,564.0 L302.6,559.5 M302.6,36.1 L302.6,40.6\n",
       "\t\tM329.8,564.0 L329.8,559.5 M329.8,36.1 L329.8,40.6 M352.9,564.0 L352.9,559.5 M352.9,36.1 L352.9,40.6\n",
       "\t\tM372.8,564.0 L372.8,559.5 M372.8,36.1 L372.8,40.6 M390.4,564.0 L390.4,559.5 M390.4,36.1 L390.4,40.6\n",
       "\t\tM406.2,564.0 L406.2,555.0 M406.2,36.1 L406.2,45.1  '/>\t<g transform=\"translate(406.2,595.2)\" stroke=\"none\" fill=\"black\" font-family=\"sans\" font-size=\"16.00\"  text-anchor=\"middle\">\n",
       "\t\t<text><tspan font-family=\"sans\" >$10</tspan><tspan font-family=\"sans\"  font-size=\"12.8\" dy=\"-8.00px\">1</tspan><tspan font-family=\"sans\"  font-size=\"16.0\" dy=\"8.00px\">$</tspan></text>\n",
       "\t</g>\n",
       "</g>\n",
       "<g fill=\"none\" color=\"black\" stroke=\"currentColor\" stroke-width=\"1.00\" stroke-linecap=\"butt\" stroke-linejoin=\"miter\">\n",
       "\t<path stroke='black'  d='M509.7,564.0 L509.7,559.5 M509.7,36.1 L509.7,40.6 M570.3,564.0 L570.3,559.5 M570.3,36.1 L570.3,40.6\n",
       "\t\tM613.2,564.0 L613.2,559.5 M613.2,36.1 L613.2,40.6 M646.6,564.0 L646.6,559.5 M646.6,36.1 L646.6,40.6\n",
       "\t\tM673.8,564.0 L673.8,559.5 M673.8,36.1 L673.8,40.6 M696.8,564.0 L696.8,559.5 M696.8,36.1 L696.8,40.6\n",
       "\t\tM716.8,564.0 L716.8,559.5 M716.8,36.1 L716.8,40.6 M734.4,564.0 L734.4,559.5 M734.4,36.1 L734.4,40.6\n",
       "\t\tM750.1,564.0 L750.1,555.0 M750.1,36.1 L750.1,45.1  '/>\t<g transform=\"translate(750.1,595.2)\" stroke=\"none\" fill=\"black\" font-family=\"sans\" font-size=\"16.00\"  text-anchor=\"middle\">\n",
       "\t\t<text><tspan font-family=\"sans\" >$10</tspan><tspan font-family=\"sans\"  font-size=\"12.8\" dy=\"-8.00px\">2</tspan><tspan font-family=\"sans\"  font-size=\"16.0\" dy=\"8.00px\">$</tspan></text>\n",
       "\t</g>\n",
       "</g>\n",
       "<g fill=\"none\" color=\"black\" stroke=\"currentColor\" stroke-width=\"1.00\" stroke-linecap=\"butt\" stroke-linejoin=\"miter\">\n",
       "\t<path stroke='black'  d='M750.1,564.0 L741.1,564.0  '/>\t<g transform=\"translate(758.4,568.5)\" stroke=\"none\" fill=\"black\" font-family=\"Arial\" font-size=\"12.00\"  text-anchor=\"start\">\n",
       "\t\t<text><tspan font-family=\"Arial\" > </tspan></text>\n",
       "\t</g>\n",
       "</g>\n",
       "<g fill=\"none\" color=\"black\" stroke=\"currentColor\" stroke-width=\"1.00\" stroke-linecap=\"butt\" stroke-linejoin=\"miter\">\n",
       "\t<path stroke='black'  d='M750.1,488.6 L741.1,488.6  '/>\t<g transform=\"translate(758.4,493.1)\" stroke=\"none\" fill=\"black\" font-family=\"Arial\" font-size=\"12.00\"  text-anchor=\"start\">\n",
       "\t\t<text><tspan font-family=\"Arial\" > </tspan></text>\n",
       "\t</g>\n",
       "</g>\n",
       "<g fill=\"none\" color=\"black\" stroke=\"currentColor\" stroke-width=\"1.00\" stroke-linecap=\"butt\" stroke-linejoin=\"miter\">\n",
       "\t<path stroke='black'  d='M750.1,413.2 L741.1,413.2  '/>\t<g transform=\"translate(758.4,417.7)\" stroke=\"none\" fill=\"black\" font-family=\"Arial\" font-size=\"12.00\"  text-anchor=\"start\">\n",
       "\t\t<text><tspan font-family=\"Arial\" > </tspan></text>\n",
       "\t</g>\n",
       "</g>\n",
       "<g fill=\"none\" color=\"black\" stroke=\"currentColor\" stroke-width=\"1.00\" stroke-linecap=\"butt\" stroke-linejoin=\"miter\">\n",
       "\t<path stroke='black'  d='M750.1,337.8 L741.1,337.8  '/>\t<g transform=\"translate(758.4,342.3)\" stroke=\"none\" fill=\"black\" font-family=\"Arial\" font-size=\"12.00\"  text-anchor=\"start\">\n",
       "\t\t<text><tspan font-family=\"Arial\" > </tspan></text>\n",
       "\t</g>\n",
       "</g>\n",
       "<g fill=\"none\" color=\"black\" stroke=\"currentColor\" stroke-width=\"1.00\" stroke-linecap=\"butt\" stroke-linejoin=\"miter\">\n",
       "\t<path stroke='black'  d='M750.1,262.3 L741.1,262.3  '/>\t<g transform=\"translate(758.4,266.8)\" stroke=\"none\" fill=\"black\" font-family=\"Arial\" font-size=\"12.00\"  text-anchor=\"start\">\n",
       "\t\t<text><tspan font-family=\"Arial\" > </tspan></text>\n",
       "\t</g>\n",
       "</g>\n",
       "<g fill=\"none\" color=\"black\" stroke=\"currentColor\" stroke-width=\"1.00\" stroke-linecap=\"butt\" stroke-linejoin=\"miter\">\n",
       "\t<path stroke='black'  d='M750.1,186.9 L741.1,186.9  '/>\t<g transform=\"translate(758.4,191.4)\" stroke=\"none\" fill=\"black\" font-family=\"Arial\" font-size=\"12.00\"  text-anchor=\"start\">\n",
       "\t\t<text><tspan font-family=\"Arial\" > </tspan></text>\n",
       "\t</g>\n",
       "</g>\n",
       "<g fill=\"none\" color=\"black\" stroke=\"currentColor\" stroke-width=\"1.00\" stroke-linecap=\"butt\" stroke-linejoin=\"miter\">\n",
       "\t<path stroke='black'  d='M750.1,111.5 L741.1,111.5  '/>\t<g transform=\"translate(758.4,116.0)\" stroke=\"none\" fill=\"black\" font-family=\"Arial\" font-size=\"12.00\"  text-anchor=\"start\">\n",
       "\t\t<text><tspan font-family=\"Arial\" > </tspan></text>\n",
       "\t</g>\n",
       "</g>\n",
       "<g fill=\"none\" color=\"black\" stroke=\"currentColor\" stroke-width=\"1.00\" stroke-linecap=\"butt\" stroke-linejoin=\"miter\">\n",
       "\t<path stroke='black'  d='M750.1,36.1 L741.1,36.1  '/>\t<g transform=\"translate(758.4,40.6)\" stroke=\"none\" fill=\"black\" font-family=\"Arial\" font-size=\"12.00\"  text-anchor=\"start\">\n",
       "\t\t<text><tspan font-family=\"Arial\" > </tspan></text>\n",
       "\t</g>\n",
       "</g>\n",
       "<g fill=\"none\" color=\"black\" stroke=\"currentColor\" stroke-width=\"1.00\" stroke-linecap=\"butt\" stroke-linejoin=\"miter\">\n",
       "\t<path stroke='black'  d='M62.2,36.1 L62.2,45.1  '/>\t<g transform=\"translate(62.2,22.6)\" stroke=\"none\" fill=\"black\" font-family=\"Arial\" font-size=\"12.00\"  text-anchor=\"middle\">\n",
       "\t\t<text><tspan font-family=\"Arial\" > </tspan></text>\n",
       "\t</g>\n",
       "</g>\n",
       "<g fill=\"none\" color=\"black\" stroke=\"currentColor\" stroke-width=\"1.00\" stroke-linecap=\"butt\" stroke-linejoin=\"miter\">\n",
       "\t<path stroke='black'  d='M138.6,36.1 L138.6,45.1  '/>\t<g transform=\"translate(138.6,22.6)\" stroke=\"none\" fill=\"black\" font-family=\"Arial\" font-size=\"12.00\"  text-anchor=\"middle\">\n",
       "\t\t<text><tspan font-family=\"Arial\" > </tspan></text>\n",
       "\t</g>\n",
       "</g>\n",
       "<g fill=\"none\" color=\"black\" stroke=\"currentColor\" stroke-width=\"1.00\" stroke-linecap=\"butt\" stroke-linejoin=\"miter\">\n",
       "\t<path stroke='black'  d='M215.1,36.1 L215.1,45.1  '/>\t<g transform=\"translate(215.1,22.6)\" stroke=\"none\" fill=\"black\" font-family=\"Arial\" font-size=\"12.00\"  text-anchor=\"middle\">\n",
       "\t\t<text><tspan font-family=\"Arial\" > </tspan></text>\n",
       "\t</g>\n",
       "</g>\n",
       "<g fill=\"none\" color=\"black\" stroke=\"currentColor\" stroke-width=\"1.00\" stroke-linecap=\"butt\" stroke-linejoin=\"miter\">\n",
       "\t<path stroke='black'  d='M291.5,36.1 L291.5,45.1  '/>\t<g transform=\"translate(291.5,22.6)\" stroke=\"none\" fill=\"black\" font-family=\"Arial\" font-size=\"12.00\"  text-anchor=\"middle\">\n",
       "\t\t<text><tspan font-family=\"Arial\" > </tspan></text>\n",
       "\t</g>\n",
       "</g>\n",
       "<g fill=\"none\" color=\"black\" stroke=\"currentColor\" stroke-width=\"1.00\" stroke-linecap=\"butt\" stroke-linejoin=\"miter\">\n",
       "\t<path stroke='black'  d='M367.9,36.1 L367.9,45.1  '/>\t<g transform=\"translate(367.9,22.6)\" stroke=\"none\" fill=\"black\" font-family=\"Arial\" font-size=\"12.00\"  text-anchor=\"middle\">\n",
       "\t\t<text><tspan font-family=\"Arial\" > </tspan></text>\n",
       "\t</g>\n",
       "</g>\n",
       "<g fill=\"none\" color=\"black\" stroke=\"currentColor\" stroke-width=\"1.00\" stroke-linecap=\"butt\" stroke-linejoin=\"miter\">\n",
       "\t<path stroke='black'  d='M444.4,36.1 L444.4,45.1  '/>\t<g transform=\"translate(444.4,22.6)\" stroke=\"none\" fill=\"black\" font-family=\"Arial\" font-size=\"12.00\"  text-anchor=\"middle\">\n",
       "\t\t<text><tspan font-family=\"Arial\" > </tspan></text>\n",
       "\t</g>\n",
       "</g>\n",
       "<g fill=\"none\" color=\"black\" stroke=\"currentColor\" stroke-width=\"1.00\" stroke-linecap=\"butt\" stroke-linejoin=\"miter\">\n",
       "\t<path stroke='black'  d='M520.8,36.1 L520.8,45.1  '/>\t<g transform=\"translate(520.8,22.6)\" stroke=\"none\" fill=\"black\" font-family=\"Arial\" font-size=\"12.00\"  text-anchor=\"middle\">\n",
       "\t\t<text><tspan font-family=\"Arial\" > </tspan></text>\n",
       "\t</g>\n",
       "</g>\n",
       "<g fill=\"none\" color=\"black\" stroke=\"currentColor\" stroke-width=\"1.00\" stroke-linecap=\"butt\" stroke-linejoin=\"miter\">\n",
       "\t<path stroke='black'  d='M597.2,36.1 L597.2,45.1  '/>\t<g transform=\"translate(597.2,22.6)\" stroke=\"none\" fill=\"black\" font-family=\"Arial\" font-size=\"12.00\"  text-anchor=\"middle\">\n",
       "\t\t<text><tspan font-family=\"Arial\" > </tspan></text>\n",
       "\t</g>\n",
       "</g>\n",
       "<g fill=\"none\" color=\"black\" stroke=\"currentColor\" stroke-width=\"1.00\" stroke-linecap=\"butt\" stroke-linejoin=\"miter\">\n",
       "\t<path stroke='black'  d='M673.7,36.1 L673.7,45.1  '/>\t<g transform=\"translate(673.7,22.6)\" stroke=\"none\" fill=\"black\" font-family=\"Arial\" font-size=\"12.00\"  text-anchor=\"middle\">\n",
       "\t\t<text><tspan font-family=\"Arial\" > </tspan></text>\n",
       "\t</g>\n",
       "</g>\n",
       "<g fill=\"none\" color=\"black\" stroke=\"currentColor\" stroke-width=\"1.00\" stroke-linecap=\"butt\" stroke-linejoin=\"miter\">\n",
       "\t<path stroke='black'  d='M750.1,36.1 L750.1,45.1  '/>\t<g transform=\"translate(750.1,22.6)\" stroke=\"none\" fill=\"black\" font-family=\"Arial\" font-size=\"12.00\"  text-anchor=\"middle\">\n",
       "\t\t<text><tspan font-family=\"Arial\" > </tspan></text>\n",
       "\t</g>\n",
       "</g>\n",
       "<g fill=\"none\" color=\"black\" stroke=\"currentColor\" stroke-width=\"1.00\" stroke-linecap=\"butt\" stroke-linejoin=\"miter\">\n",
       "</g>\n",
       "<g fill=\"none\" color=\"black\" stroke=\"currentColor\" stroke-width=\"1.00\" stroke-linecap=\"butt\" stroke-linejoin=\"miter\">\n",
       "\t<path stroke='black'  d='M62.2,36.1 L62.2,564.0 L750.1,564.0 L750.1,36.1 L62.2,36.1 Z  '/></g>\n",
       "<g fill=\"none\" color=\"black\" stroke=\"currentColor\" stroke-width=\"1.00\" stroke-linecap=\"butt\" stroke-linejoin=\"miter\">\n",
       "</g>\n",
       "\t<g id=\"gnuplot_plot_1\" ><title>indef mtx</title>\n",
       "<g fill=\"none\" color=\"black\" stroke=\"currentColor\" stroke-width=\"1.00\" stroke-linecap=\"butt\" stroke-linejoin=\"miter\">\n",
       "\t<g transform=\"translate(619.7,63.1)\" stroke=\"none\" fill=\"black\" font-family=\"Arial\" font-size=\"16.00\"  text-anchor=\"start\">\n",
       "\t\t<text><tspan font-family=\"Arial\" >indef mtx</tspan></text>\n",
       "\t</g>\n",
       "</g>\n",
       "<g fill=\"none\" color=\"black\" stroke=\"currentColor\" stroke-width=\"1.00\" stroke-linecap=\"butt\" stroke-linejoin=\"miter\">\n",
       "\t<path stroke='rgb(255,   0,   0)' stroke-dasharray='4.0,2.0,1.0,2.0'  d='M555.2,57.1 L608.6,57.1 M165.7,97.2 L269.3,215.8 L372.8,300.4 L476.4,355.7 L579.9,419.0 L683.4,485.8\n",
       "\t\t '/>\t<use xlink:href='#gpPt5' transform='translate(165.7,97.2) scale(9.00)' color='rgb(255,   0,   0)'/>\n",
       "\t<use xlink:href='#gpPt5' transform='translate(269.3,215.8) scale(9.00)' color='rgb(255,   0,   0)'/>\n",
       "\t<use xlink:href='#gpPt5' transform='translate(372.8,300.4) scale(9.00)' color='rgb(255,   0,   0)'/>\n",
       "\t<use xlink:href='#gpPt5' transform='translate(476.4,355.7) scale(9.00)' color='rgb(255,   0,   0)'/>\n",
       "\t<use xlink:href='#gpPt5' transform='translate(579.9,419.0) scale(9.00)' color='rgb(255,   0,   0)'/>\n",
       "\t<use xlink:href='#gpPt5' transform='translate(683.4,485.8) scale(9.00)' color='rgb(255,   0,   0)'/>\n",
       "\t<use xlink:href='#gpPt5' transform='translate(581.9,57.1) scale(9.00)' color='rgb(255,   0,   0)'/>\n",
       "</g>\n",
       "\t</g>\n",
       "\t<g id=\"gnuplot_plot_2\" ><title>pos def mtx</title>\n",
       "<g fill=\"none\" color=\"black\" stroke=\"currentColor\" stroke-width=\"1.00\" stroke-linecap=\"butt\" stroke-linejoin=\"miter\">\n",
       "\t<g transform=\"translate(619.7,87.1)\" stroke=\"none\" fill=\"black\" font-family=\"Arial\" font-size=\"16.00\"  text-anchor=\"start\">\n",
       "\t\t<text><tspan font-family=\"Arial\" >pos def mtx</tspan></text>\n",
       "\t</g>\n",
       "</g>\n",
       "<g fill=\"none\" color=\"black\" stroke=\"currentColor\" stroke-width=\"1.00\" stroke-linecap=\"butt\" stroke-linejoin=\"miter\">\n",
       "\t<path stroke='rgb(  0,   0, 255)' stroke-dasharray='4.0,2.0,1.0,2.0'  d='M555.2,81.1 L608.6,81.1 M165.7,197.7 L269.3,241.6 L372.8,321.1 L476.4,398.7 L579.9,470.6 L683.4,540.0\n",
       "\t\t '/>\t<use xlink:href='#gpPt5' transform='translate(165.7,197.7) scale(9.00)' color='rgb(  0,   0, 255)'/>\n",
       "\t<use xlink:href='#gpPt5' transform='translate(269.3,241.6) scale(9.00)' color='rgb(  0,   0, 255)'/>\n",
       "\t<use xlink:href='#gpPt5' transform='translate(372.8,321.1) scale(9.00)' color='rgb(  0,   0, 255)'/>\n",
       "\t<use xlink:href='#gpPt5' transform='translate(476.4,398.7) scale(9.00)' color='rgb(  0,   0, 255)'/>\n",
       "\t<use xlink:href='#gpPt5' transform='translate(579.9,470.6) scale(9.00)' color='rgb(  0,   0, 255)'/>\n",
       "\t<use xlink:href='#gpPt5' transform='translate(683.4,540.0) scale(9.00)' color='rgb(  0,   0, 255)'/>\n",
       "\t<use xlink:href='#gpPt5' transform='translate(581.9,81.1) scale(9.00)' color='rgb(  0,   0, 255)'/>\n",
       "</g>\n",
       "\t</g>\n",
       "<g fill=\"none\" color=\"#FFFFFF\" stroke=\"rgb(  0,   0, 255)\" stroke-width=\"2.00\" stroke-linecap=\"butt\" stroke-linejoin=\"miter\">\n",
       "</g>\n",
       "<g fill=\"none\" color=\"black\" stroke=\"currentColor\" stroke-width=\"2.00\" stroke-linecap=\"butt\" stroke-linejoin=\"miter\">\n",
       "</g>\n",
       "<g fill=\"none\" color=\"black\" stroke=\"black\" stroke-width=\"1.00\" stroke-linecap=\"butt\" stroke-linejoin=\"miter\">\n",
       "</g>\n",
       "<g fill=\"none\" color=\"black\" stroke=\"currentColor\" stroke-width=\"1.00\" stroke-linecap=\"butt\" stroke-linejoin=\"miter\">\n",
       "\t<path stroke='black'  d='M62.2,36.1 L62.2,564.0 L750.1,564.0 L750.1,36.1 L62.2,36.1 Z  '/></g>\n",
       "<g fill=\"none\" color=\"black\" stroke=\"currentColor\" stroke-width=\"1.00\" stroke-linecap=\"butt\" stroke-linejoin=\"miter\">\n",
       "</g>\n",
       "</g>\n",
       "</svg>\n",
       "\n"
      ]
     },
     "metadata": {},
     "execution_count": 27
    }
   ],
   "metadata": {
    "dotnet_interactive": {
     "language": "csharp"
    }
   }
  },
  {
   "cell_type": "markdown",
   "source": [
    "Finally, we are going to compute the convergence rate of the SIP\n",
    "discretization.\n",
    "\n",
    "We compute the slope of the log-log plot:"
   ],
   "metadata": {
    "dotnet_interactive": {
     "language": "csharp"
    }
   }
  },
  {
   "cell_type": "code",
   "execution_count": null,
   "source": [
    "double dk = Resolution.LogLogRegression(L2Error_posdef);"
   ],
   "outputs": [],
   "metadata": {
    "dotnet_interactive": {
     "language": "csharp"
    }
   }
  },
  {
   "cell_type": "code",
   "execution_count": null,
   "source": [
    "dk"
   ],
   "outputs": [
    {
     "output_type": "execute_result",
     "data": {
      "text/html": [
       "<div class=\"dni-plaintext\">-3.1159715513653157</div>"
      ]
     },
     "metadata": {},
     "execution_count": 29
    }
   ],
   "metadata": {
    "dotnet_interactive": {
     "language": "csharp"
    }
   }
  },
  {
   "cell_type": "code",
   "execution_count": null,
   "source": [
    "/// tests BoSSScmdSilent\n",
    "Assert.LessOrEqual(dk, -2.9);"
   ],
   "outputs": [],
   "metadata": {
    "dotnet_interactive": {
     "language": "csharp"
    }
   }
  },
  {
   "cell_type": "markdown",
   "source": [
    "## Further reading\n",
    "\n",
    "- DiPietroErn2011\n",
    "- Arnold_1982\n"
   ],
   "metadata": {
    "dotnet_interactive": {
     "language": "csharp"
    }
   }
  }
 ],
 "metadata": {
  "kernelspec": {
   "display_name": ".NET (C#)",
   "language": "C#",
   "name": ".net-csharp"
  },
  "language_info": {
   "file_extension": ".cs",
   "mimetype": "text/x-csharp",
   "name": "C#",
   "pygments_lexer": "csharp",
   "version": "8.0"
  }
 },
 "nbformat": 4,
 "nbformat_minor": 4
}