{
  "cells": [
    {
      "cell_type": "markdown",
      "source": [
        "In this short tutorial we want to use common Matlab commands within the *BoSSS* framework.\r\n",
        "\r\n",
        "# 1 Problem statement\r\n",
        "For our matrix analysis we use the following random matrix:\r\n",
        "$$\r\n",
        "A = \\begin{bmatrix}\r\n",
        "     1 & 2 & 3\\\\\r\n",
        "     4 & 5 & 6\\\\\r\n",
        "     7 & 8 & 9\r\n",
        "    \\end{bmatrix}\r\n",
        "$$\r\n",
        "and the symmetric matrix:\r\n",
        "$$\r\n",
        "S = \\begin{bmatrix}\r\n",
        "     1 & 2 & 3\\\\\r\n",
        "     2 & 3 & 2\\\\\r\n",
        "     3 & 2 & 1\r\n",
        "     \\end{bmatrix}\r\n",
        "$$\r\n",
        "We are going to evaluate some exemplary properties of the matrices and check if the matrices are symmetric, both in the *BoSSS* framework and in Matlab.\r\n",
        "\r\n",
        "# 2 Solution within the *BoSSS* framework\r\n",
        "First, we have to initialize the new project:"
      ],
      "metadata": {
        "dotnet_interactive": {
          "language": "csharp"
        }
      }
    },
    {
      "cell_type": "code",
      "execution_count": null,
      "source": [
        "#r \"C:\\experimental\\public\\src\\L4-application\\BoSSSpad\\bin\\Release\\net5.0\\BoSSSpad.dll\"\r\n",
        "using System;\r\n",
        "using System.Collections.Generic;\r\n",
        "using System.Linq;\r\n",
        "using ilPSP;\r\n",
        "using ilPSP.Utils;\r\n",
        "using BoSSS.Platform;\r\n",
        "using BoSSS.Platform.LinAlg;\r\n",
        "using BoSSS.Foundation;\r\n",
        "using BoSSS.Foundation.XDG;\r\n",
        "using BoSSS.Foundation.Grid;\r\n",
        "using BoSSS.Foundation.Grid.Classic;\r\n",
        "using BoSSS.Foundation.Grid.RefElements;\r\n",
        "using BoSSS.Foundation.IO;\r\n",
        "using BoSSS.Solution;\r\n",
        "using BoSSS.Solution.Control;\r\n",
        "using BoSSS.Solution.GridImport;\r\n",
        "using BoSSS.Solution.Statistic;\r\n",
        "using BoSSS.Solution.Utils;\r\n",
        "using BoSSS.Solution.AdvancedSolvers;\r\n",
        "using BoSSS.Solution.Gnuplot;\r\n",
        "using BoSSS.Application.BoSSSpad;\r\n",
        "using BoSSS.Application.XNSE_Solver;\r\n",
        "using static BoSSS.Application.BoSSSpad.BoSSSshell;\r\n",
        "Init();\r\n"
      ],
      "outputs": [],
      "metadata": {
        "dotnet_interactive": {
          "language": "csharp"
        }
      }
    },
    {
      "cell_type": "code",
      "execution_count": null,
      "source": [
        "using ilPSP.LinSolvers;\r\n",
        "using ilPSP.Connectors.Matlab;"
      ],
      "outputs": [],
      "metadata": {
        "dotnet_interactive": {
          "language": "csharp"
        }
      }
    },
    {
      "cell_type": "markdown",
      "source": [
        "We want to implement the two 3x3 matrices in *BoSSSpad*"
      ],
      "metadata": {}
    },
    {
      "cell_type": "code",
      "execution_count": null,
      "source": [
        "\r\n",
        "int Dim     = 3;\r\n",
        "MsrMatrix A = new MsrMatrix(Dim,Dim);\r\n",
        "MsrMatrix S = new MsrMatrix(Dim,Dim);\r\n",
        "double[] A_firstRow = new double[]{1,2,3};\r\n",
        "double[] A_secondRow = new double[]{4,5,6};\r\n",
        "double[] A_thirdRow = new double[]{7,8,9};\r\n",
        " \r\n",
        "double[] S_firstRow = new double[]{1,2,3};\r\n",
        "double[] S_secondRow = new double[]{2,3,2};\r\n",
        "double[] S_thirdRow = new double[]{3,2,1};\r\n",
        " \r\n",
        "for(int i=0; i<Dim; i++){\r\n",
        "    A[0, i] = A_firstRow[i];\r\n",
        "    S[0, i] = S_firstRow[i];\r\n",
        "}\r\n",
        " \r\n",
        "for(int i=0; i<Dim; i++){\r\n",
        "    A[1, i] = A_secondRow[i];\r\n",
        "    S[1, i] = S_secondRow[i];\r\n",
        "}\r\n",
        " \r\n",
        "for(int i=0; i<Dim; i++){\r\n",
        "    A[2, i] = A_thirdRow[i];\r\n",
        "    S[2, i] = S_thirdRow[i];\r\n",
        "}"
      ],
      "outputs": [],
      "metadata": {
        "dotnet_interactive": {
          "language": "csharp"
        }
      }
    },
    {
      "cell_type": "markdown",
      "source": [
        "## Test for symmetry in *BoSSS*\r\n",
        "\r\n",
        "To analyze if the matrices are symmetric, we need to compare the original matrix with the transpose:\r\n"
      ],
      "metadata": {}
    },
    {
      "cell_type": "code",
      "execution_count": null,
      "source": [
        "MsrMatrix AT    = A.Transpose();\r\n",
        "MsrMatrix ST    = S.Transpose();\r\n",
        "bool SymmTest_A;\r\n",
        "bool SymmTest_S;\r\n",
        "for(int i = 0; i<Dim; i++){\r\n",
        "    for(int j = 0; j<Dim; j++){\r\n",
        "        if(A[i,j] == AT[i,j]){\r\n",
        "            SymmTest_A = true;\r\n",
        "            }\r\n",
        "        else{\r\n",
        "            SymmTest_A = false;\r\n",
        "            break;\r\n",
        "            }\r\n",
        "        }\r\n",
        "    }\r\n",
        "for(int i = 0; i<Dim; i++){\r\n",
        "    for(int j = 0; j<Dim; j++){\r\n",
        "        if(S[i,j] == ST[i,j]){\r\n",
        "            SymmTest_S = true;\r\n",
        "            }\r\n",
        "        else{\r\n",
        "            SymmTest_S = false;\r\n",
        "            break;\r\n",
        "            }\r\n",
        "        }\r\n",
        "    }\r\n",
        "if(SymmTest_A == true){\r\n",
        "Console.WriteLine(\"Matrix A seems to be symmetric.\");\r\n",
        "}\r\n",
        "else{\r\n",
        "Console.WriteLine(\"Matrix A seems NOT to be symmetric.\");\r\n",
        "}\r\n",
        "if(SymmTest_S == true){\r\n",
        "Console.WriteLine(\"Matrix S seems to be symmetric.\");\r\n",
        "}\r\n",
        "else{\r\n",
        "Console.WriteLine(\"Matrix S seems NOT to be symmetric.\");\r\n",
        "}"
      ],
      "outputs": [],
      "metadata": {
        "dotnet_interactive": {
          "language": "csharp"
        }
      }
    },
    {
      "cell_type": "markdown",
      "source": [
        "## The interface to Matlab\r\n",
        "\r\n",
        "The **BatchmodeConnector** initializes an interface to Matlab:\r\n",
        "\r\n",
        ">## Troubleshoot\r\n",
        ">In case that BoSSS cant find the path to matlab you will need to modify (if Matlab is installed) a file called **MatlabConnectorConfig.json** which you can find in your BoSSS binary under the following path:\r\n",
        ">\r\n",
        ">```cs\r\n",
        ">...\\.BoSSS\\etc\\MatlabConnectorConfig.json\r\n",
        ">```\r\n",
        ">\r\n",
        ">Inside the file add a path to your **matlab.exe** (e.g.):\r\n",
        ">```py\r\n",
        ">{\r\n",
        ">  \"MatlabExecuteable\": \"C:\\\\ProgramFiles\\\\MATLAB\\\\R2021a\\\\bin\\\\win64\\\\MATLAB.exe\",\r\n",
        ">  \"Flav\": \"Matlab\"\r\n",
        ">}"
      ],
      "metadata": {}
    },
    {
      "cell_type": "code",
      "execution_count": null,
      "source": [
        "\r\n",
        "Console.WriteLine(\"Calling MATLAB/Octave...\");\r\n",
        "BatchmodeConnector bmc = new BatchmodeConnector();"
      ],
      "outputs": [],
      "metadata": {
        "dotnet_interactive": {
          "language": "csharp"
        }
      }
    },
    {
      "cell_type": "markdown",
      "source": [
        "We have to transfer out matrices to Matlab:"
      ],
      "metadata": {}
    },
    {
      "cell_type": "code",
      "execution_count": null,
      "source": [
        "bmc.PutSparseMatrix(A, \"Matrix_A\");\r\n",
        "bmc.PutSparseMatrix(S, \"Matrix_S\");\r\n",
        "/// Now we can do calculations in Matlab within the \\BoSSSpad{} using the \\code{Cmd} command. It commits the Matlab commands as a string. We can calculate e.g. the rank of the matrix or the eigenvalues:\r\n",
        "bmc.Cmd(\"Full_A = full(Matrix_A)\");\r\n",
        "bmc.Cmd(\"Full_S = full(Matrix_S)\");\r\n",
        "bmc.Cmd(\"Rank_A = rank(Full_A)\");\r\n",
        "bmc.Cmd(\"Rank_S = rank(Full_S)\");\r\n",
        "bmc.Cmd(\"EV_A = eig(Full_A)\");\r\n",
        "bmc.Cmd(\"EV_S = eig(Full_S)\");\r\n",
        "bmc.Cmd(\"Det_A = det(Full_A)\");\r\n",
        "bmc.Cmd(\"Det_S = det(Full_S)\");\r\n",
        "bmc.Cmd(\"Trace_A = trace(Full_A)\");\r\n",
        "bmc.Cmd(\"Trace_S = trace(Full_S)\");\r\n",
        "/// We can transfer matrices or arrays from Matlab to \\BoSSSpad{} as well, here we want to have the results:\r\n",
        "MultidimensionalArray Results = MultidimensionalArray.Create(2, 3);\r\n",
        "bmc.Cmd(\"Results = [Rank_A, Det_A, Trace_A; Rank_S,  Det_S,  Trace_S]\");\r\n",
        "bmc.GetMatrix(Results, \"Results\");\r\n",
        "/// and the eigenvalues:\r\n",
        "MultidimensionalArray EV_A = MultidimensionalArray.Create(3, 1);\r\n",
        "bmc.GetMatrix(EV_A, \"EV_A\");\r\n",
        "MultidimensionalArray EV_S = MultidimensionalArray.Create(3, 1);\r\n",
        "bmc.GetMatrix(EV_S, \"EV_S\");\r\n",
        "/// After finishing using Matlab we need to close the interface to Matlab:\r\n",
        "bmc.Execute(false);\r\n",
        "Console.WriteLine(\"MATLAB/Octave closed, return to BoSSSPad\");"
      ],
      "outputs": [],
      "metadata": {
        "dotnet_interactive": {
          "language": "csharp"
        }
      }
    },
    {
      "cell_type": "markdown",
      "source": [
        "And here are our results back in the *BoSSSpad*:"
      ],
      "metadata": {}
    },
    {
      "cell_type": "code",
      "execution_count": null,
      "source": [
        "double Rank_A  = Results[0,0];\r\n",
        "double Rank_S  = Results[1,0];\r\n",
        "double Det_A   = Results[0,1];\r\n",
        "double Det_S   = Results[1,1];\r\n",
        "double Trace_A = Results[0,2];\r\n",
        "double Trace_S = Results[1,2];\r\n",
        "Console.WriteLine(\"The results of matrix A are: rank: \" + Rank_A + \", trace: \" + Trace_A + \", dterminant: \" + Det_A);\r\n",
        "Console.WriteLine(\"The results of matrix S are: rank: \" + Rank_S + \", trace: \" + Trace_S + \", determinant: \" + Det_S);\r\n",
        "Console.WriteLine();\r\n",
        "Console.WriteLine(\"The eigenvalues of matrix A are: \" + EV_A[0,0] + \", \" + EV_A[1,0] + \" and \" + EV_A[2,0]);\r\n",
        "Console.WriteLine(\"The eigenvalues of matrix S are: \" + EV_S[0,0] + \", \" + EV_S[1,0] + \" and \" + EV_S[2,0]);"
      ],
      "outputs": [],
      "metadata": {
        "dotnet_interactive": {
          "language": "csharp"
        }
      }
    },
    {
      "cell_type": "markdown",
      "source": [
        "## Test for symmetry within Matlab using the BatchmodeConnector\r\n",
        "\r\n",
        "We do the same test for symmetry for both matrices. In Matlab we can use the convenient command **isequal**:\r\n"
      ],
      "metadata": {}
    },
    {
      "cell_type": "code",
      "execution_count": null,
      "source": [
        "Console.WriteLine(\"Calling MATLAB/Octave...\");\r\n",
        "BatchmodeConnector bmc = new BatchmodeConnector();\r\n",
        "bmc.PutSparseMatrix(A, \"Matrix_A\");\r\n",
        "bmc.PutSparseMatrix(S, \"Matrix_S\");\r\n",
        "bmc.Cmd(\"Full_A = full(Matrix_A)\");\r\n",
        "bmc.Cmd(\"Full_S = full(Matrix_S)\");\r\n",
        "bmc.Cmd(\"A_Transpose = transpose(Full_A)\");\r\n",
        "bmc.Cmd(\"S_Transpose = transpose(Full_S)\");\r\n",
        "bmc.Cmd(\"SymmTest_A = isequal(Full_A, A_Transpose)\");\r\n",
        "bmc.Cmd(\"SymmTest_S = isequal(Full_S, S_Transpose)\");\r\n",
        " \r\n",
        "MultidimensionalArray SymmTest_A = MultidimensionalArray.Create(1, 1);\r\n",
        "bmc.GetMatrix(SymmTest_A, \"SymmTest_A\");\r\n",
        "MultidimensionalArray SymmTest_S = MultidimensionalArray.Create(1, 1);\r\n",
        "bmc.GetMatrix(SymmTest_S, \"SymmTest_S\");\r\n",
        "bmc.Execute(false);\r\n",
        "Console.WriteLine(\"MATLAB/Octave closed, return to BoSSSPad\");"
      ],
      "outputs": [],
      "metadata": {
        "dotnet_interactive": {
          "language": "csharp"
        }
      }
    },
    {
      "cell_type": "code",
      "execution_count": null,
      "source": [
        "if(SymmTest_A[0,0] == 1){\r\n",
        "Console.WriteLine(\"Matrix A seems to be symmetric.\");\r\n",
        "}\r\n",
        "else{\r\n",
        "Console.WriteLine(\"Matrix A seems NOT to be symmetric.\");\r\n",
        "}    \r\n",
        "if(SymmTest_S[0,0] == 1){\r\n",
        "Console.WriteLine(\"Matrix S seems to be symmetric.\");\r\n",
        "}\r\n",
        "else{\r\n",
        "Console.WriteLine(\"Matrix S seems NOT to be symmetric.\");\r\n",
        "}"
      ],
      "outputs": [],
      "metadata": {
        "dotnet_interactive": {
          "language": "csharp"
        }
      }
    }
  ],
  "metadata": {
    "kernelspec": {
      "display_name": ".NET (C#)",
      "language": "C#",
      "name": ".net-csharp"
    },
    "language_info": {
      "file_extension": ".cs",
      "mimetype": "text/x-csharp",
      "name": "C#",
      "pygments_lexer": "csharp",
      "version": "8.0"
    }
  },
  "nbformat": 4,
  "nbformat_minor": 4
}