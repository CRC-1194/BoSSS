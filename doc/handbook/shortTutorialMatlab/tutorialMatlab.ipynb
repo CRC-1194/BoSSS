{
  "cells": [
    {
      "cell_type": "code",
      "execution_count": 1,
      "metadata": {
        "dotnet_interactive": {
          "language": "csharp"
        }
      },
      "source": [
        "/// In this short tutorial we want to use common Matlab commands within the \\BoSSS{} framework.\n",
        "/// \\section{Problem statement}\n",
        "/// For our matrix analysis we use the following random matrix:\n",
        "/// \\begin{equation*}\n",
        "/// A = \\begin{bmatrix}\n",
        "///      1 & 2 & 3\\\\\n",
        "///      4 & 5 & 6\\\\\n",
        "///      7 & 8 & 9\n",
        "///     \\end{bmatrix}\n",
        "/// \\end{equation*}\n",
        "/// and the symmetric matrix:\n",
        "/// \\begin{equation*}\n",
        "/// S = \\begin{bmatrix}\n",
        "///      1 & 2 & 3\\\\\n",
        "///      2 & 3 & 2\\\\\n",
        "///      3 & 2 & 1\n",
        "///      \\end{bmatrix}\n",
        "/// \\end{equation*}\n",
        "/// We are going to evaluate some exemplary properties of the matrices and check if the matrices are symmetric, both in the \\BoSSS{} framework and in Matlab.\n",
        "/// \\section{Solution within the \\BoSSS{} framework}\n",
        "/// First, we have to initialize the new project:"
      ],
      "outputs": []
    },
    {
      "cell_type": "code",
      "execution_count": 1,
      "metadata": {
        "dotnet_interactive": {
          "language": "csharp"
        }
      },
      "source": [
        "#r \"C:\\experimental\\public\\src\\L4-application\\BoSSSpad\\bin\\Release\\net5.0\\BoSSSpad.dll\"\n",
        "using System;\n",
        "using System.Collections.Generic;\n",
        "using System.Linq;\n",
        "using ilPSP;\n",
        "using ilPSP.Utils;\n",
        "using BoSSS.Platform;\n",
        "using BoSSS.Platform.LinAlg;\n",
        "using BoSSS.Foundation;\n",
        "using BoSSS.Foundation.XDG;\n",
        "using BoSSS.Foundation.Grid;\n",
        "using BoSSS.Foundation.Grid.Classic;\n",
        "using BoSSS.Foundation.Grid.RefElements;\n",
        "using BoSSS.Foundation.IO;\n",
        "using BoSSS.Solution;\n",
        "using BoSSS.Solution.Control;\n",
        "using BoSSS.Solution.GridImport;\n",
        "using BoSSS.Solution.Statistic;\n",
        "using BoSSS.Solution.Utils;\n",
        "using BoSSS.Solution.AdvancedSolvers;\n",
        "using BoSSS.Solution.Gnuplot;\n",
        "using BoSSS.Application.BoSSSpad;\n",
        "using BoSSS.Application.XNSE_Solver;\n",
        "using static BoSSS.Application.BoSSSpad.BoSSSshell;\n",
        "Init();\n",
        ""
      ],
      "outputs": []
    },
    {
      "cell_type": "code",
      "execution_count": 1,
      "metadata": {
        "dotnet_interactive": {
          "language": "csharp"
        }
      },
      "source": [
        "using ilPSP.LinSolvers;\n",
        "using ilPSP.Connectors.Matlab;"
      ],
      "outputs": []
    },
    {
      "cell_type": "code",
      "execution_count": 1,
      "metadata": {
        "dotnet_interactive": {
          "language": "csharp"
        }
      },
      "source": [
        "/// We want to implement the two 3x3 matrices in \\BoSSSpad{}:\n",
        "int Dim     = 3;\n",
        "MsrMatrix A = new MsrMatrix(Dim,Dim);\n",
        "MsrMatrix S = new MsrMatrix(Dim,Dim);\n",
        "double[] A_firstRow = new double[]{1,2,3};\n",
        "double[] A_secondRow = new double[]{4,5,6};\n",
        "double[] A_thirdRow = new double[]{7,8,9};\n",
        " \n",
        "double[] S_firstRow = new double[]{1,2,3};\n",
        "double[] S_secondRow = new double[]{2,3,2};\n",
        "double[] S_thirdRow = new double[]{3,2,1};\n",
        " \n",
        "for(int i=0; i<Dim; i++){\n",
        "    A[0, i] = A_firstRow[i];\n",
        "    S[0, i] = S_firstRow[i];\n",
        "}\n",
        " \n",
        "for(int i=0; i<Dim; i++){\n",
        "    A[1, i] = A_secondRow[i];\n",
        "    S[1, i] = S_secondRow[i];\n",
        "}\n",
        " \n",
        "for(int i=0; i<Dim; i++){\n",
        "    A[2, i] = A_thirdRow[i];\n",
        "    S[2, i] = S_thirdRow[i];\n",
        "}"
      ],
      "outputs": []
    },
    {
      "cell_type": "code",
      "execution_count": 1,
      "metadata": {
        "dotnet_interactive": {
          "language": "csharp"
        }
      },
      "source": [
        "/// \\paragraph{Test for symmetry in \\BoSSS{}:}$~~$\\\\\n",
        "/// To analyze if the matrices are symmetric, we need to compare the original matrix with the transpose:\n",
        "MsrMatrix AT    = A.Transpose();\n",
        "MsrMatrix ST    = S.Transpose();\n",
        "bool SymmTest_A;\n",
        "bool SymmTest_S;\n",
        "for(int i = 0; i<Dim; i++){\n",
        "    for(int j = 0; j<Dim; j++){\n",
        "        if(A[i,j] == AT[i,j]){\n",
        "            SymmTest_A = true;\n",
        "            }\n",
        "        else{\n",
        "            SymmTest_A = false;\n",
        "            break;\n",
        "            }\n",
        "        }\n",
        "    }\n",
        "for(int i = 0; i<Dim; i++){\n",
        "    for(int j = 0; j<Dim; j++){\n",
        "        if(S[i,j] == ST[i,j]){\n",
        "            SymmTest_S = true;\n",
        "            }\n",
        "        else{\n",
        "            SymmTest_S = false;\n",
        "            break;\n",
        "            }\n",
        "        }\n",
        "    }\n",
        "if(SymmTest_A == true){\n",
        "Console.WriteLine(\"Matrix A seems to be symmetric.\");\n",
        "}\n",
        "else{\n",
        "Console.WriteLine(\"Matrix A seems NOT to be symmetric.\");\n",
        "}\n",
        "if(SymmTest_S == true){\n",
        "Console.WriteLine(\"Matrix S seems to be symmetric.\");\n",
        "}\n",
        "else{\n",
        "Console.WriteLine(\"Matrix S seems NOT to be symmetric.\");\n",
        "}"
      ],
      "outputs": []
    },
    {
      "cell_type": "code",
      "execution_count": 1,
      "metadata": {
        "dotnet_interactive": {
          "language": "csharp"
        }
      },
      "source": [
        "/// \\paragraph{The interface to Matlab:}$~~$\\\\\n",
        "/// The \\code{BatchmodeConnector} initializes an interface to Matlab:\n",
        "Console.WriteLine(\"Calling MATLAB/Octave...\");\n",
        "BatchmodeConnector bmc = new BatchmodeConnector();\n",
        "/// We have to transfer out matrices to Matlab:\n",
        "bmc.PutSparseMatrix(A, \"Matrix_A\");\n",
        "bmc.PutSparseMatrix(S, \"Matrix_S\");\n",
        "/// Now we can do calculations in Matlab within the \\BoSSSpad{} using the \\code{Cmd} command. It commits the Matlab commands as a string. We can calculate e.g. the rank of the matrix or the eigenvalues:\n",
        "bmc.Cmd(\"Full_A = full(Matrix_A)\");\n",
        "bmc.Cmd(\"Full_S = full(Matrix_S)\");\n",
        "bmc.Cmd(\"Rank_A = rank(Full_A)\");\n",
        "bmc.Cmd(\"Rank_S = rank(Full_S)\");\n",
        "bmc.Cmd(\"EV_A = eig(Full_A)\");\n",
        "bmc.Cmd(\"EV_S = eig(Full_S)\");\n",
        "bmc.Cmd(\"Det_A = det(Full_A)\");\n",
        "bmc.Cmd(\"Det_S = det(Full_S)\");\n",
        "bmc.Cmd(\"Trace_A = trace(Full_A)\");\n",
        "bmc.Cmd(\"Trace_S = trace(Full_S)\");\n",
        "/// We can transfer matrices or arrays from Matlab to \\BoSSSpad{} as well, here we want to have the results:\n",
        "MultidimensionalArray Results = MultidimensionalArray.Create(2, 3);\n",
        "bmc.Cmd(\"Results = [Rank_A, Det_A, Trace_A; Rank_S,  Det_S,  Trace_S]\");\n",
        "bmc.GetMatrix(Results, \"Results\");\n",
        "/// and the eigenvalues:\n",
        "MultidimensionalArray EV_A = MultidimensionalArray.Create(3, 1);\n",
        "bmc.GetMatrix(EV_A, \"EV_A\");\n",
        "MultidimensionalArray EV_S = MultidimensionalArray.Create(3, 1);\n",
        "bmc.GetMatrix(EV_S, \"EV_S\");\n",
        "/// After finishing using Matlab we need to close the interface to Matlab:\n",
        "bmc.Execute(false);\n",
        "Console.WriteLine(\"MATLAB/Octave closed, return to BoSSSPad\");"
      ],
      "outputs": []
    },
    {
      "cell_type": "code",
      "execution_count": 1,
      "metadata": {
        "dotnet_interactive": {
          "language": "csharp"
        }
      },
      "source": [
        "/// And here are our results back in the \\BoSSSpad{}:\n",
        "double Rank_A  = Results[0,0];\n",
        "double Rank_S  = Results[1,0];\n",
        "double Det_A   = Results[0,1];\n",
        "double Det_S   = Results[1,1];\n",
        "double Trace_A = Results[0,2];\n",
        "double Trace_S = Results[1,2];\n",
        "Console.WriteLine(\"The results of matrix A are: rank: \" + Rank_A + \", trace: \" + Trace_A + \", dterminant: \" + Det_A);\n",
        "Console.WriteLine(\"The results of matrix S are: rank: \" + Rank_S + \", trace: \" + Trace_S + \", determinant: \" + Det_S);\n",
        "Console.WriteLine();\n",
        "Console.WriteLine(\"The eigenvalues of matrix A are: \" + EV_A[0,0] + \", \" + EV_A[1,0] + \" and \" + EV_A[2,0]);\n",
        "Console.WriteLine(\"The eigenvalues of matrix S are: \" + EV_S[0,0] + \", \" + EV_S[1,0] + \" and \" + EV_S[2,0]);"
      ],
      "outputs": []
    },
    {
      "cell_type": "code",
      "execution_count": 1,
      "metadata": {
        "dotnet_interactive": {
          "language": "csharp"
        }
      },
      "source": [
        "/// \\paragraph{Test for symmetry within Matlab using the \\code{BatchmodeConnector}:}$~~$\\\\\n",
        "/// We do the same test for symmetry for both matrices. In Matlab we can use the convenient command \\code{isequal}:\n",
        "Console.WriteLine(\"Calling MATLAB/Octave...\");\n",
        "BatchmodeConnector bmc = new BatchmodeConnector();\n",
        "bmc.PutSparseMatrix(A, \"Matrix_A\");\n",
        "bmc.PutSparseMatrix(S, \"Matrix_S\");\n",
        "bmc.Cmd(\"Full_A = full(Matrix_A)\");\n",
        "bmc.Cmd(\"Full_S = full(Matrix_S)\");\n",
        "bmc.Cmd(\"A_Transpose = transpose(Full_A)\");\n",
        "bmc.Cmd(\"S_Transpose = transpose(Full_S)\");\n",
        "bmc.Cmd(\"SymmTest_A = isequal(Full_A, A_Transpose)\");\n",
        "bmc.Cmd(\"SymmTest_S = isequal(Full_S, S_Transpose)\");\n",
        " \n",
        "MultidimensionalArray SymmTest_A = MultidimensionalArray.Create(1, 1);\n",
        "bmc.GetMatrix(SymmTest_A, \"SymmTest_A\");\n",
        "MultidimensionalArray SymmTest_S = MultidimensionalArray.Create(1, 1);\n",
        "bmc.GetMatrix(SymmTest_S, \"SymmTest_S\");\n",
        "bmc.Execute(false);\n",
        "Console.WriteLine(\"MATLAB/Octave closed, return to BoSSSPad\");"
      ],
      "outputs": []
    },
    {
      "cell_type": "code",
      "execution_count": 1,
      "metadata": {
        "dotnet_interactive": {
          "language": "csharp"
        }
      },
      "source": [
        "if(SymmTest_A[0,0] == 1){\n",
        "Console.WriteLine(\"Matrix A seems to be symmetric.\");\n",
        "}\n",
        "else{\n",
        "Console.WriteLine(\"Matrix A seems NOT to be symmetric.\");\n",
        "}    \n",
        "if(SymmTest_S[0,0] == 1){\n",
        "Console.WriteLine(\"Matrix S seems to be symmetric.\");\n",
        "}\n",
        "else{\n",
        "Console.WriteLine(\"Matrix S seems NOT to be symmetric.\");\n",
        "}"
      ],
      "outputs": []
    }
  ],
  "metadata": {
    "kernelspec": {
      "display_name": ".NET (C#)",
      "language": "C#",
      "name": ".net-csharp"
    },
    "language_info": {
      "file_extension": ".cs",
      "mimetype": "text/x-csharp",
      "name": "C#",
      "pygments_lexer": "csharp",
      "version": "8.0"
    }
  },
  "nbformat": 4,
  "nbformat_minor": 4
}