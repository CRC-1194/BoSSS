{
 "cells": [
  {
   "cell_type": "markdown",
   "source": [
    "# C# and Jupyter/BoSSSpad introduction"
   ],
   "metadata": {}
  },
  {
   "cell_type": "markdown",
   "source": [
    "## Whats new?\n",
    "\n",
    "Jupyter Notebook is a scripting environment which, among other languages,\n",
    "also supports C#.\n",
    "BoSSSpad is a C#-library which can be used to access BoSSS through Jupyter.\n",
    "While it is not necessary to be a master-class programmer for the tutorials \n",
    "which come up, it is required to have some basic knowledge about the C#\n",
    "syntax.\n",
    "\n",
    "Here, the following topics are covered:\n",
    "- Declaration of primitive variables\n",
    "- Classes\n",
    "- Control Flow\n",
    "- Functions, Methods and Delegates\n",
    "- Inheritance\n",
    "- The execution model of Jupyter Notebook"
   ],
   "metadata": {}
  },
  {
   "cell_type": "markdown",
   "source": [
    "## Declaration of primitive variables"
   ],
   "metadata": {}
  },
  {
   "cell_type": "markdown",
   "source": [
    "Normally, a program/application written in C\\# consists of one or more \r\n",
    "text files (source code, ending with **.cs**) which are read by a \r\n",
    "compiler and converted into an executable (ending with **.exe**).\r\n",
    "\r\n",
    "In **BoSSSpad**, instead, one can enter single statements or snippets of \r\n",
    "C\\# code and execute them on the fly. (These snippets are not complete \r\n",
    "programs on their own, and they would not compile in the traditional way.)\r\n",
    "\r\n",
    "Before we can execute any statement, we must restart (aka. reset) \r\n",
    "the C\\# interpreter:"
   ],
   "metadata": {
    "dotnet_interactive": {
     "language": "csharp"
    }
   }
  },
  {
   "cell_type": "code",
   "execution_count": null,
   "source": [
    "#r \"BoSSSpad.dll\"\r\n",
    "\r\n",
    "using System;\r\n",
    "using System.Collections.Generic;\r\n",
    "using System.Linq;\r\n",
    "using ilPSP;\r\n",
    "using ilPSP.Utils;\r\n",
    "using BoSSS.Platform;\r\n",
    "using BoSSS.Foundation;\r\n",
    "using BoSSS.Foundation.Grid;\r\n",
    "using BoSSS.Foundation.Grid.Classic;\r\n",
    "using BoSSS.Foundation.IO;\r\n",
    "using BoSSS.Solution;\r\n",
    "using BoSSS.Solution.Control;\r\n",
    "using BoSSS.Solution.GridImport;\r\n",
    "using BoSSS.Solution.Statistic;\r\n",
    "using BoSSS.Solution.Utils;\r\n",
    "using BoSSS.Solution.Gnuplot;\r\n",
    "using BoSSS.Application.BoSSSpad;\r\n",
    "using BoSSS.Application.XNSE_Solver;\r\n",
    "using static BoSSS.Application.BoSSSpad.BoSSSshell;\r\n",
    "Init();\r\n"
   ],
   "outputs": [
    {
     "data": {
      "text/plain": [
       "Using gnuplot: C:\\Program Files (x86)\\FDY\\BoSSS\\bin\\native\\win\\gnuplot-gp510-20160418-win32-mingw\\gnuplot\\bin\\gnuplot.exe\r\n"
      ]
     },
     "metadata": {},
     "output_type": "display_data"
    },
    {
     "data": {
      "text/plain": [
       "Databases loaded: \r\n"
      ]
     },
     "metadata": {},
     "output_type": "display_data"
    },
    {
     "data": {
      "text/plain": [
       "Capacity: 0\r\n",
       "Count: 0\r\n",
       "\r\n"
      ]
     },
     "metadata": {},
     "output_type": "display_data"
    }
   ],
   "metadata": {
    "dotnet_interactive": {
     "language": "csharp"
    }
   }
  },
  {
   "cell_type": "markdown",
   "source": [
    "Any data like single numbers, vectors, strings or composite data objects\r\n",
    "(like the numerical grid) is stored resp. referenced via a \\emph{variable}.\r\n",
    "A variable declaration consists of a type and a name, and reads e.g. as:"
   ],
   "metadata": {
    "dotnet_interactive": {
     "language": "csharp"
    }
   }
  },
  {
   "cell_type": "code",
   "execution_count": null,
   "source": [
    "int i;"
   ],
   "outputs": [],
   "metadata": {
    "dotnet_interactive": {
     "language": "csharp"
    }
   }
  },
  {
   "cell_type": "markdown",
   "source": [
    "The above statement created a variable named **i** of type \r\n",
    "**int** (for integer numbers). The most commonly used number types in \r\n",
    "*BoSSS* are **int** for integers and **double** for real numbers.\r\n",
    "\r\n",
    "A full list of C\\#-build-in variable types for numbers can be found \r\n",
    "online (see [integral-types-table](https://docs.microsoft.com/en-us/dotnet/csharp/language-reference/keywords/integral-types-table)\r\n",
    "and\r\n",
    "[floating-point-types-table](https://docs.microsoft.com/en-us/dotnet/csharp/language-reference/keywords/floating-point-types-table))"
   ],
   "metadata": {
    "dotnet_interactive": {
     "language": "csharp"
    }
   }
  },
  {
   "cell_type": "markdown",
   "source": [
    "Next, we assign a value to the new variable:"
   ],
   "metadata": {
    "dotnet_interactive": {
     "language": "csharp"
    }
   }
  },
  {
   "cell_type": "code",
   "execution_count": null,
   "source": [
    "i = 9;"
   ],
   "outputs": [],
   "metadata": {
    "dotnet_interactive": {
     "language": "csharp"
    }
   }
  },
  {
   "cell_type": "markdown",
   "source": [
    "If we just enter the variable name without semicolon, **BoSSSpad**, resp. Jupyter prompts the variable in \r\n",
    "the result window (if the variable can anyhow be presented as text):"
   ],
   "metadata": {
    "dotnet_interactive": {
     "language": "csharp"
    }
   }
  },
  {
   "cell_type": "code",
   "execution_count": null,
   "source": [
    "i"
   ],
   "outputs": [
    {
     "data": {
      "text/html": [
       "<div class=\"dni-plaintext\">9</div>"
      ]
     },
     "metadata": {},
     "output_type": "display_data"
    }
   ],
   "metadata": {
    "dotnet_interactive": {
     "language": "csharp"
    }
   }
  },
  {
   "cell_type": "markdown",
   "source": [
    "Declaration and assignment can also be put into a single line:"
   ],
   "metadata": {
    "dotnet_interactive": {
     "language": "csharp"
    }
   }
  },
  {
   "cell_type": "code",
   "execution_count": null,
   "source": [
    "int j    = 9;\r\n",
    "double x = 4.6;"
   ],
   "outputs": [],
   "metadata": {
    "dotnet_interactive": {
     "language": "csharp"
    }
   }
  },
  {
   "cell_type": "markdown",
   "source": [
    "Next, we test assign a new value to the already-defined variable \\code{i}:"
   ],
   "metadata": {
    "dotnet_interactive": {
     "language": "csharp"
    }
   }
  },
  {
   "cell_type": "code",
   "execution_count": null,
   "source": [
    "i = j + (int)x; // cast x to int; add to j; store result in i\r\n",
    "i"
   ],
   "outputs": [
    {
     "data": {
      "text/html": [
       "<div class=\"dni-plaintext\">13</div>"
      ]
     },
     "metadata": {},
     "output_type": "display_data"
    }
   ],
   "metadata": {
    "dotnet_interactive": {
     "language": "csharp"
    }
   }
  },
  {
   "cell_type": "markdown",
   "source": [
    "Note on the snippet above:\r\n",
    "\r\n",
    "- **x** and **i**, **j** are of different type; therefore, \r\n",
    "      **x** is **cast** to **int**, which truncates the decimal digits,\r\n",
    "      before it can be added and stored as integer.\r\n",
    "- The second line would be an incomplete statement, according to the \r\n",
    "      original, non-interpreted C\\# language -- this would produce a \r\n",
    "      compile error. The C\\# interpreter, instead, produces a text from \r\n",
    "      the last \r\n",
    "      incomplete statement in a snippet.\r\n",
    "- a double-slash **//** starts a comment, i.e. the rest of \r\n",
    "      the line is not interpreted and can contain any text.\r\n"
   ],
   "metadata": {
    "dotnet_interactive": {
     "language": "csharp"
    }
   }
  },
  {
   "cell_type": "markdown",
   "source": [
    "While assigning **double** to **int** requires a cast operation, \r\n",
    "the other way works automatically (this is called an **implicit cast**),\r\n",
    "since very **int** can be represented as **double** (but not \r\n",
    "vice-versa):"
   ],
   "metadata": {
    "dotnet_interactive": {
     "language": "csharp"
    }
   }
  },
  {
   "cell_type": "code",
   "execution_count": null,
   "source": [
    "double y = j + x;\r\n",
    "y"
   ],
   "outputs": [
    {
     "data": {
      "text/html": [
       "<div class=\"dni-plaintext\">13.6</div>"
      ]
     },
     "metadata": {},
     "output_type": "display_data"
    }
   ],
   "metadata": {
    "dotnet_interactive": {
     "language": "csharp"
    }
   }
  },
  {
   "cell_type": "markdown",
   "source": [
    "C\\# defines the standard operations on numbers found in most programming\r\n",
    "languages:\r\n",
    "- Increasing a variables value by one:"
   ],
   "metadata": {
    "dotnet_interactive": {
     "language": "csharp"
    }
   }
  },
  {
   "cell_type": "code",
   "execution_count": null,
   "source": [
    "y = y + 1;\r\n",
    "y"
   ],
   "outputs": [
    {
     "data": {
      "text/html": [
       "<div class=\"dni-plaintext\">14.6</div>"
      ]
     },
     "metadata": {},
     "output_type": "display_data"
    }
   ],
   "metadata": {
    "dotnet_interactive": {
     "language": "csharp"
    }
   }
  },
  {
   "cell_type": "markdown",
   "source": [
    "- Or the += notation:"
   ],
   "metadata": {}
  },
  {
   "cell_type": "code",
   "execution_count": null,
   "source": [
    "y += 1;\r\n",
    "y"
   ],
   "outputs": [
    {
     "data": {
      "text/html": [
       "<div class=\"dni-plaintext\">15.6</div>"
      ]
     },
     "metadata": {},
     "output_type": "display_data"
    }
   ],
   "metadata": {
    "dotnet_interactive": {
     "language": "csharp"
    }
   }
  },
  {
   "cell_type": "markdown",
   "source": [
    "- Even shorter by the ++ operator:"
   ],
   "metadata": {
    "dotnet_interactive": {
     "language": "csharp"
    }
   }
  },
  {
   "cell_type": "code",
   "execution_count": null,
   "source": [
    "\r\n",
    "y++;\r\n",
    "y"
   ],
   "outputs": [
    {
     "data": {
      "text/html": [
       "<div class=\"dni-plaintext\">16.6</div>"
      ]
     },
     "metadata": {},
     "output_type": "display_data"
    }
   ],
   "metadata": {
    "dotnet_interactive": {
     "language": "csharp"
    }
   }
  },
  {
   "cell_type": "markdown",
   "source": [
    "- Another build-in type is \\code{string}, for representing text:"
   ],
   "metadata": {}
  },
  {
   "cell_type": "code",
   "execution_count": null,
   "source": [
    "string s = \"some Text\";"
   ],
   "outputs": [],
   "metadata": {
    "dotnet_interactive": {
     "language": "csharp"
    }
   }
  },
  {
   "cell_type": "code",
   "execution_count": null,
   "source": [
    "s"
   ],
   "outputs": [
    {
     "data": {
      "text/plain": [
       "some Text"
      ]
     },
     "metadata": {},
     "output_type": "display_data"
    }
   ],
   "metadata": {
    "dotnet_interactive": {
     "language": "csharp"
    }
   }
  },
  {
   "cell_type": "markdown",
   "source": [
    "Which also supports some (but not all) operators:"
   ],
   "metadata": {
    "dotnet_interactive": {
     "language": "csharp"
    }
   }
  },
  {
   "cell_type": "code",
   "execution_count": null,
   "source": [
    "string t = \" and more string\";"
   ],
   "outputs": [],
   "metadata": {
    "dotnet_interactive": {
     "language": "csharp"
    }
   }
  },
  {
   "cell_type": "code",
   "execution_count": null,
   "source": [
    "s + t"
   ],
   "outputs": [
    {
     "data": {
      "text/plain": [
       "some Text and more string"
      ]
     },
     "metadata": {},
     "output_type": "display_data"
    }
   ],
   "metadata": {
    "dotnet_interactive": {
     "language": "csharp"
    }
   }
  },
  {
   "cell_type": "code",
   "execution_count": null,
   "source": [
    "s + t + \": \" + j"
   ],
   "outputs": [
    {
     "data": {
      "text/plain": [
       "some Text and more string: 9"
      ]
     },
     "metadata": {},
     "output_type": "display_data"
    }
   ],
   "metadata": {
    "dotnet_interactive": {
     "language": "csharp"
    }
   }
  },
  {
   "cell_type": "markdown",
   "source": [
    "\r\n",
    "# Arrays\r\n",
    "For every type, one can define arrays; e.g. an array of integers is \r\n",
    "defined and initialized as"
   ],
   "metadata": {
    "dotnet_interactive": {
     "language": "csharp"
    }
   }
  },
  {
   "cell_type": "code",
   "execution_count": null,
   "source": [
    "int[] A = new int[5];"
   ],
   "outputs": [],
   "metadata": {
    "dotnet_interactive": {
     "language": "csharp"
    }
   }
  },
  {
   "cell_type": "markdown",
   "source": [
    " The line above creates an array with 5 entries. Initially, all\r\n",
    "entries are set to the default value 0:"
   ],
   "metadata": {
    "dotnet_interactive": {
     "language": "csharp"
    }
   }
  },
  {
   "cell_type": "code",
   "execution_count": null,
   "source": [
    "A"
   ],
   "outputs": [
    {
     "data": {
      "text/html": [
       "<table><thead><tr><th><i>index</i></th><th>value</th></tr></thead><tbody><tr><td>0</td><td><div class=\"dni-plaintext\">0</div></td></tr><tr><td>1</td><td><div class=\"dni-plaintext\">0</div></td></tr><tr><td>2</td><td><div class=\"dni-plaintext\">0</div></td></tr><tr><td>3</td><td><div class=\"dni-plaintext\">0</div></td></tr><tr><td>4</td><td><div class=\"dni-plaintext\">0</div></td></tr></tbody></table>"
      ]
     },
     "metadata": {},
     "output_type": "display_data"
    }
   ],
   "metadata": {
    "dotnet_interactive": {
     "language": "csharp"
    }
   }
  },
  {
   "cell_type": "markdown",
   "source": [
    "One can access and manipulate individual entires by index-brackets; \r\n",
    "Note that C\\# indices (usually) start at zero:"
   ],
   "metadata": {
    "dotnet_interactive": {
     "language": "csharp"
    }
   }
  },
  {
   "cell_type": "code",
   "execution_count": null,
   "source": [
    "A[2] = 7;"
   ],
   "outputs": [],
   "metadata": {
    "dotnet_interactive": {
     "language": "csharp"
    }
   }
  },
  {
   "cell_type": "code",
   "execution_count": null,
   "source": [
    "A"
   ],
   "outputs": [
    {
     "data": {
      "text/html": [
       "<table><thead><tr><th><i>index</i></th><th>value</th></tr></thead><tbody><tr><td>0</td><td><div class=\"dni-plaintext\">0</div></td></tr><tr><td>1</td><td><div class=\"dni-plaintext\">0</div></td></tr><tr><td>2</td><td><div class=\"dni-plaintext\">7</div></td></tr><tr><td>3</td><td><div class=\"dni-plaintext\">0</div></td></tr><tr><td>4</td><td><div class=\"dni-plaintext\">0</div></td></tr></tbody></table>"
      ]
     },
     "metadata": {},
     "output_type": "display_data"
    }
   ],
   "metadata": {
    "dotnet_interactive": {
     "language": "csharp"
    }
   }
  },
  {
   "cell_type": "markdown",
   "source": [
    "It is also possible to initialize an array with non-default values:"
   ],
   "metadata": {
    "dotnet_interactive": {
     "language": "csharp"
    }
   }
  },
  {
   "cell_type": "code",
   "execution_count": null,
   "source": [
    "string[] B = new string[] { \"Zero\", \"One\", \"Two\" };"
   ],
   "outputs": [],
   "metadata": {
    "dotnet_interactive": {
     "language": "csharp"
    }
   }
  },
  {
   "cell_type": "code",
   "execution_count": null,
   "source": [
    "B"
   ],
   "outputs": [
    {
     "data": {
      "text/html": [
       "<table><thead><tr><th><i>index</i></th><th>value</th></tr></thead><tbody><tr><td>0</td><td>Zero</td></tr><tr><td>1</td><td>One</td></tr><tr><td>2</td><td>Two</td></tr></tbody></table>"
      ]
     },
     "metadata": {},
     "output_type": "display_data"
    }
   ],
   "metadata": {
    "dotnet_interactive": {
     "language": "csharp"
    }
   }
  },
  {
   "cell_type": "markdown",
   "source": [
    "\r\n",
    "## Multi-dimensional arrays\r\n",
    "\r\n",
    "C\\# also defines arrays with more than one index, e.g.:\r\n"
   ],
   "metadata": {
    "dotnet_interactive": {
     "language": "csharp"
    }
   }
  },
  {
   "cell_type": "code",
   "execution_count": null,
   "source": [
    "int[,] M = new int[3,4];\r\n",
    "M[2,1] = 3;"
   ],
   "outputs": [],
   "metadata": {
    "dotnet_interactive": {
     "language": "csharp"
    }
   }
  },
  {
   "cell_type": "markdown",
   "source": [
    "In **BoSSS**, there is a separate type for multidimensional arrays of \r\n",
    "real numbers. \r\n",
    "\r\n",
    "In contrast to the multidimensional arrays build into C\\#,\r\n",
    "their **BoSSS** counterparts offer more operations, e.g.\r\n",
    "reshaping the array or tensor multiplications.\r\n",
    "\r\n",
    "An array with three dimensions can be initialized as:"
   ],
   "metadata": {
    "dotnet_interactive": {
     "language": "csharp"
    }
   }
  },
  {
   "cell_type": "code",
   "execution_count": null,
   "source": [
    "MultidimensionalArray Q = MultidimensionalArray.Create(5,3,4);"
   ],
   "outputs": [],
   "metadata": {
    "dotnet_interactive": {
     "language": "csharp"
    }
   }
  },
  {
   "cell_type": "code",
   "execution_count": null,
   "source": [],
   "outputs": [],
   "metadata": {
    "dotnet_interactive": {
     "language": "csharp"
    }
   }
  },
  {
   "cell_type": "markdown",
   "source": [
    "However, a comprehensive introduction of the \r\n",
    "**MultidimensionalArray** type is beyond the scope of this section.\r\n",
    "We may refer the reader to the API reference\r\n",
    "\r\n",
    "# Classes\r\n",
    "\r\n",
    "So far, we used only primitive (build-in) datatypes. The core idea of \r\n",
    "object orientation is to define composite data structures (called \r\n",
    "classes) upon the primitive types and other classes.\r\n",
    "\r\n",
    "Furthermore, classes provide the concept of encapsulation: any member \r\n",
    "variable that should be manipulated from code outside of the class \r\n",
    "must be decorated with the **public** keyword. Otherwise, the member \r\n",
    "is **private** and can only be manipulated form inside the class.\r\n",
    "(This is demonstrated in below)"
   ],
   "metadata": {
    "dotnet_interactive": {
     "language": "csharp"
    }
   }
  },
  {
   "cell_type": "code",
   "execution_count": null,
   "source": [
    "class MyVector {\r\n",
    "    // public variables. \r\n",
    "    public double x;\r\n",
    "    public double y;\r\n",
    "    public string Name;\r\n",
    "}"
   ],
   "outputs": [],
   "metadata": {
    "dotnet_interactive": {
     "language": "csharp"
    }
   }
  },
  {
   "cell_type": "markdown",
   "source": [
    "One may think of classes as blueprints, which are used to create \r\n",
    "objects. Whenever the **new** operator is applied to a class, a new \r\n",
    "object is created in computer memory. This is called **instantiation**.\r\n",
    "\r\n",
    "Objects are accessed via variables, just in the same way as arrays.\r\n",
    "\r\n",
    "We declare a variable of type **MyVector** and intialize it with an \r\n",
    "instance of this class:"
   ],
   "metadata": {
    "dotnet_interactive": {
     "language": "csharp"
    }
   }
  },
  {
   "cell_type": "code",
   "execution_count": null,
   "source": [
    "MyVector vec = new MyVector();"
   ],
   "outputs": [],
   "metadata": {
    "dotnet_interactive": {
     "language": "csharp"
    }
   }
  },
  {
   "cell_type": "markdown",
   "source": [
    "Then, we can manipulate its variables (also called **members**):"
   ],
   "metadata": {
    "dotnet_interactive": {
     "language": "csharp"
    }
   }
  },
  {
   "cell_type": "code",
   "execution_count": null,
   "source": [
    "vec.x    = 1.2;\r\n",
    "vec.y    = 4.1;\r\n",
    "vec.Name = \"BoSSS\";"
   ],
   "outputs": [],
   "metadata": {
    "dotnet_interactive": {
     "language": "csharp"
    }
   }
  },
  {
   "cell_type": "markdown",
   "source": [
    "Each object owns its own space in memory; so when we instantiate a second \r\n",
    "object of this type, the members of **vec** stay the same:"
   ],
   "metadata": {
    "dotnet_interactive": {
     "language": "csharp"
    }
   }
  },
  {
   "cell_type": "code",
   "execution_count": null,
   "source": [
    "MyVector vec2 = new MyVector();"
   ],
   "outputs": [],
   "metadata": {
    "dotnet_interactive": {
     "language": "csharp"
    }
   }
  },
  {
   "cell_type": "code",
   "execution_count": null,
   "source": [
    "vec2.x    = -3.1;\r\n",
    "vec2.y    = 22.4;\r\n",
    "vec2.Name = \"Another BoSSS\";"
   ],
   "outputs": [],
   "metadata": {
    "dotnet_interactive": {
     "language": "csharp"
    }
   }
  },
  {
   "cell_type": "markdown",
   "source": [
    "We see, both objects have their independent variables:"
   ],
   "metadata": {
    "dotnet_interactive": {
     "language": "csharp"
    }
   }
  },
  {
   "cell_type": "code",
   "execution_count": null,
   "source": [
    "vec.Name"
   ],
   "outputs": [
    {
     "data": {
      "text/plain": [
       "BoSSS"
      ]
     },
     "metadata": {},
     "output_type": "display_data"
    }
   ],
   "metadata": {
    "dotnet_interactive": {
     "language": "csharp"
    }
   }
  },
  {
   "cell_type": "code",
   "execution_count": null,
   "source": [
    "vec2.Name"
   ],
   "outputs": [
    {
     "data": {
      "text/plain": [
       "Another BoSSS"
      ]
     },
     "metadata": {},
     "output_type": "display_data"
    }
   ],
   "metadata": {
    "dotnet_interactive": {
     "language": "csharp"
    }
   }
  },
  {
   "cell_type": "markdown",
   "source": [
    "\r\n",
    "# Member Functions (Methods)\r\n"
   ],
   "metadata": {
    "dotnet_interactive": {
     "language": "csharp"
    }
   }
  },
  {
   "cell_type": "markdown",
   "source": [
    "The next important idea of object orientation is to bundle data structures\r\n",
    "with the code which manipulates this data. In imperative\r\n",
    "programming languages (e.g. C, FORTRAN, Matlab) these code is organized\r\n",
    "in so-called **functions**, aka. **subroutines**. \r\n",
    "\r\n",
    "In C\\# such functions are put into the class and they can access all\r\n",
    "variables in the class, including **private** ones.\r\n",
    "These functions are often called **methods** or **member functions**.\r\n",
    "\r\n",
    "A function consists of the following parts:\r\n",
    "\r\n",
    "- An optional access modifier, e.g. **public** or **private**; if no \r\n",
    "access modifier is given, the method is private.\r\n",
    "\r\n",
    "- The type of the value returned by the method; this can be either a \r\n",
    "build-in type like **double** or some class. If the method should \r\n",
    "not return a value, its return type is **void**.\r\n",
    "\r\n",
    "- A function name\r\n",
    "- A list of function arguments, i.e. variables which are used as inputs\r\n",
    "to the function\r\n",
    "- The function body which contains the actual code\r\n"
   ],
   "metadata": {
    "dotnet_interactive": {
     "language": "csharp"
    }
   }
  },
  {
   "cell_type": "code",
   "execution_count": null,
   "source": [
    "class MyAdvancedVector {\r\n",
    "    // two private variables, which cannot be accessed from outside:\r\n",
    "    double x;    \r\n",
    "    double y;\r\n",
    " \r\n",
    "    // a function which only manipulates internal data, but has neither \r\n",
    "    // a return value nor an input argument:\r\n",
    "    public void Rotate90Deg() {\r\n",
    "        double temp = x; // back-up x in a local variable\r\n",
    "        x           = y; // overwrite x\r\n",
    "        y           = -temp; // set y\r\n",
    "    }\r\n",
    " \r\n",
    "    // a function with an input argument:\r\n",
    "    public void Scale(double factor) {\r\n",
    "        x *= factor; \r\n",
    "        y *= factor;   \r\n",
    "    }\r\n",
    " \r\n",
    "    // a function which only returns a value:\r\n",
    "    public double LengthSquared() {\r\n",
    "        double sqSum = 0;;\r\n",
    "        sqSum += x*x; \r\n",
    "        sqSum += y*y; \r\n",
    "        return sqSum; // returning the result of the function   \r\n",
    "    }\r\n",
    " \r\n",
    "    // a function with multiple input arguments, and a return value;\r\n",
    "    // to avoid confusion, it is better to chose names for the input arguments\r\n",
    "    // that do not conflict with member variables:\r\n",
    "    public double Set_xy(double new_x, double new_y) {\r\n",
    "        x = new_x;\r\n",
    "        y = new_y;\r\n",
    "        return LengthSquared();\r\n",
    "    }\r\n",
    "}"
   ],
   "outputs": [],
   "metadata": {
    "dotnet_interactive": {
     "language": "csharp"
    }
   }
  },
  {
   "cell_type": "code",
   "execution_count": null,
   "source": [
    "MyAdvancedVector vecX = new MyAdvancedVector();"
   ],
   "outputs": [],
   "metadata": {
    "dotnet_interactive": {
     "language": "csharp"
    }
   }
  },
  {
   "cell_type": "markdown",
   "source": [
    "Next, we demonstrate how to execute member functions of our new class:"
   ],
   "metadata": {
    "dotnet_interactive": {
     "language": "csharp"
    }
   }
  },
  {
   "cell_type": "code",
   "execution_count": null,
   "source": [
    "vecX.LengthSquared()"
   ],
   "outputs": [
    {
     "data": {
      "text/html": [
       "<div class=\"dni-plaintext\">0</div>"
      ]
     },
     "metadata": {},
     "output_type": "display_data"
    }
   ],
   "metadata": {
    "dotnet_interactive": {
     "language": "csharp"
    }
   }
  },
  {
   "cell_type": "code",
   "execution_count": null,
   "source": [
    "vecX.Set_xy(2,3)"
   ],
   "outputs": [
    {
     "data": {
      "text/html": [
       "<div class=\"dni-plaintext\">13</div>"
      ]
     },
     "metadata": {},
     "output_type": "display_data"
    }
   ],
   "metadata": {
    "dotnet_interactive": {
     "language": "csharp"
    }
   }
  },
  {
   "cell_type": "code",
   "execution_count": null,
   "source": [
    "vecX.Rotate90Deg()"
   ],
   "outputs": [],
   "metadata": {
    "dotnet_interactive": {
     "language": "csharp"
    }
   }
  },
  {
   "cell_type": "code",
   "execution_count": null,
   "source": [
    "vecX.LengthSquared()"
   ],
   "outputs": [
    {
     "data": {
      "text/html": [
       "<div class=\"dni-plaintext\">13</div>"
      ]
     },
     "metadata": {},
     "output_type": "display_data"
    }
   ],
   "metadata": {
    "dotnet_interactive": {
     "language": "csharp"
    }
   }
  },
  {
   "cell_type": "markdown",
   "source": [
    "\r\n",
    "# Properties\r\n"
   ],
   "metadata": {
    "dotnet_interactive": {
     "language": "csharp"
    }
   }
  },
  {
   "cell_type": "markdown",
   "source": [
    "Properties are special methods, which look like functions. \r\n",
    "Most of the time, they are used to execute additional code before setting \r\n",
    "a variable."
   ],
   "metadata": {
    "dotnet_interactive": {
     "language": "csharp"
    }
   }
  },
  {
   "cell_type": "code",
   "execution_count": null,
   "source": [
    "class PropertiesDemo {\r\n",
    "    // a private variable:\r\n",
    "    int i1;\r\n",
    " \r\n",
    "    // reading/setting the value through methods:\r\n",
    "    // (old-fashioned)\r\n",
    "    public int Get_i1() {\r\n",
    "        return i1;    \r\n",
    "    }\r\n",
    "    public void Set_i1(int new_i1) {\r\n",
    "        // here, one can put code to perform additional operations,\r\n",
    "        // e.g. check that the passed argument is positive, (if this is desired)    \r\n",
    "        i1 = new_i1;\r\n",
    "    }\r\n",
    " \r\n",
    "    // reading/setting the value i1 through a property\r\n",
    "    public int I1 {\r\n",
    "        get {\r\n",
    "            // the get-part: like a function, \r\n",
    "            //    * no arguments\r\n",
    "            //    * returns int\r\n",
    "            return i1;\r\n",
    "        }    \r\n",
    "        set {\r\n",
    "            // the set-part: like a function, \r\n",
    "            //    * one argument of type int, vamed value\r\n",
    "            //    * no return value/void return value\r\n",
    "            i1 = value;\r\n",
    "        }\r\n",
    "    }\r\n",
    "}"
   ],
   "outputs": [],
   "metadata": {
    "dotnet_interactive": {
     "language": "csharp"
    }
   }
  },
  {
   "cell_type": "markdown",
   "source": [
    "Again, we instantiate the class:"
   ],
   "metadata": {
    "dotnet_interactive": {
     "language": "csharp"
    }
   }
  },
  {
   "cell_type": "code",
   "execution_count": null,
   "source": [
    "PropertiesDemo p = new PropertiesDemo();"
   ],
   "outputs": [],
   "metadata": {
    "dotnet_interactive": {
     "language": "csharp"
    }
   }
  },
  {
   "cell_type": "markdown",
   "source": [
    "Access to the member variable through methods would work as"
   ],
   "metadata": {
    "dotnet_interactive": {
     "language": "csharp"
    }
   }
  },
  {
   "cell_type": "code",
   "execution_count": null,
   "source": [
    "p.Set_i1(49);"
   ],
   "outputs": [],
   "metadata": {
    "dotnet_interactive": {
     "language": "csharp"
    }
   }
  },
  {
   "cell_type": "code",
   "execution_count": null,
   "source": [
    "p.Get_i1()"
   ],
   "outputs": [
    {
     "data": {
      "text/html": [
       "<div class=\"dni-plaintext\">49</div>"
      ]
     },
     "metadata": {},
     "output_type": "display_data"
    }
   ],
   "metadata": {
    "dotnet_interactive": {
     "language": "csharp"
    }
   }
  },
  {
   "cell_type": "markdown",
   "source": [
    "while the property-notation is more compact, but has the same functionality\r\n",
    "(syntactic sugar):"
   ],
   "metadata": {
    "dotnet_interactive": {
     "language": "csharp"
    }
   }
  },
  {
   "cell_type": "code",
   "execution_count": null,
   "source": [
    "p.I1"
   ],
   "outputs": [
    {
     "data": {
      "text/html": [
       "<div class=\"dni-plaintext\">49</div>"
      ]
     },
     "metadata": {},
     "output_type": "display_data"
    }
   ],
   "metadata": {
    "dotnet_interactive": {
     "language": "csharp"
    }
   }
  },
  {
   "cell_type": "code",
   "execution_count": null,
   "source": [
    "p.I1 = 33;"
   ],
   "outputs": [],
   "metadata": {
    "dotnet_interactive": {
     "language": "csharp"
    }
   }
  },
  {
   "cell_type": "code",
   "execution_count": null,
   "source": [
    "p.I1"
   ],
   "outputs": [
    {
     "data": {
      "text/html": [
       "<div class=\"dni-plaintext\">33</div>"
      ]
     },
     "metadata": {},
     "output_type": "display_data"
    }
   ],
   "metadata": {
    "dotnet_interactive": {
     "language": "csharp"
    }
   }
  },
  {
   "cell_type": "markdown",
   "source": [
    "\r\n",
    "# Static functions\r\n"
   ],
   "metadata": {
    "dotnet_interactive": {
     "language": "csharp"
    }
   }
  },
  {
   "cell_type": "markdown",
   "source": [
    "So far, always had to instantiate a class to execute its methods.\r\n",
    "Now think e.g. about mathematical functions, like the sinus. In \r\n",
    "languages like C or FORTRAN, one would just evaluate them as \r\n",
    "**sin(x)**. \r\n",
    "\r\n",
    "The designers of C\\# could have allowed functions like in \r\n",
    "C, but decided against it because it would compromise the object-oriented\r\n",
    "syntax. On the other hand, creating an object before one is able to \r\n",
    "evaluate a sinus function also seems over-complicated. \r\n",
    "The compromise \r\n",
    "are **static** functions:"
   ],
   "metadata": {
    "dotnet_interactive": {
     "language": "csharp"
    }
   }
  },
  {
   "cell_type": "code",
   "execution_count": null,
   "source": [
    "class StaticDemo {\r\n",
    "    // in addition to normal functions, static functions are decorated\r\n",
    "    // with the keyword static:\r\n",
    "    static public int Summation(int a, int b) {\r\n",
    "        return a + b;\r\n",
    "    }    \r\n",
    "}"
   ],
   "outputs": [],
   "metadata": {
    "dotnet_interactive": {
     "language": "csharp"
    }
   }
  },
  {
   "cell_type": "markdown",
   "source": [
    "Then, static functions can be involved without instantiating an object:"
   ],
   "metadata": {
    "dotnet_interactive": {
     "language": "csharp"
    }
   }
  },
  {
   "cell_type": "code",
   "execution_count": null,
   "source": [
    "StaticDemo.Summation(1, 2)"
   ],
   "outputs": [
    {
     "data": {
      "text/html": [
       "<div class=\"dni-plaintext\">3</div>"
      ]
     },
     "metadata": {},
     "output_type": "display_data"
    }
   ],
   "metadata": {
    "dotnet_interactive": {
     "language": "csharp"
    }
   }
  },
  {
   "cell_type": "markdown",
   "source": [
    "\r\n",
    "# Class libraries and Namespaces\r\n"
   ],
   "metadata": {
    "dotnet_interactive": {
     "language": "csharp"
    }
   }
  },
  {
   "cell_type": "markdown",
   "source": [
    "Like most programming languages, C\\# also ships with an extensive \r\n",
    "programming library (class libraries), \r\n",
    "e.g. to read and save files, mathematical functions,\r\n",
    "graphical output; \r\n",
    "\r\n",
    "The full list of standard libraries can be found at [here](https://msdn.microsoft.com/en-us/library/gg145045(v=vs.110).aspx).\r\n",
    "\r\n",
    "These libraries are collections of classes; they are organized in \r\n",
    "**namespaces**."
   ],
   "metadata": {
    "dotnet_interactive": {
     "language": "csharp"
    }
   }
  },
  {
   "cell_type": "markdown",
   "source": [
    "Any class within a loaded namespace can be accessed directly; e.g. the \r\n",
    "classes **Console** and **Math**, which are part of the \r\n",
    "**System** namespace:"
   ],
   "metadata": {
    "dotnet_interactive": {
     "language": "csharp"
    }
   }
  },
  {
   "cell_type": "code",
   "execution_count": null,
   "source": [
    "Console.WriteLine(\"Hello World!\");"
   ],
   "outputs": [
    {
     "data": {
      "text/plain": [
       "Hello World!\r\n"
      ]
     },
     "metadata": {},
     "output_type": "display_data"
    }
   ],
   "metadata": {
    "dotnet_interactive": {
     "language": "csharp"
    }
   }
  },
  {
   "cell_type": "markdown",
   "source": [
    "(By the way: the **Console** class, resp. the \r\n",
    "**Console.WriteLine** method is the preffered way to write \r\n",
    "text output (for non-windowed apps without graphical user interface).\r\n",
    "\r\n",
    "In **BoSSSpad**, it is very handy if one wants to write more information\r\n",
    "than just the last object in a snippet.)"
   ],
   "metadata": {
    "dotnet_interactive": {
     "language": "csharp"
    }
   }
  },
  {
   "cell_type": "code",
   "execution_count": null,
   "source": [
    "Math.Sin(2.0);"
   ],
   "outputs": [],
   "metadata": {
    "dotnet_interactive": {
     "language": "csharp"
    }
   }
  },
  {
   "cell_type": "markdown",
   "source": [
    "This is the same as calling the methods by their full \r\n",
    "**namespace path**:"
   ],
   "metadata": {
    "dotnet_interactive": {
     "language": "csharp"
    }
   }
  },
  {
   "cell_type": "code",
   "execution_count": null,
   "source": [
    "System.Console.WriteLine(\"Hello World!\");"
   ],
   "outputs": [
    {
     "data": {
      "text/plain": [
       "Hello World!\r\n"
      ]
     },
     "metadata": {},
     "output_type": "display_data"
    }
   ],
   "metadata": {
    "dotnet_interactive": {
     "language": "csharp"
    }
   }
  },
  {
   "cell_type": "code",
   "execution_count": null,
   "source": [
    "System.Math.Sin(2.0);"
   ],
   "outputs": [],
   "metadata": {
    "dotnet_interactive": {
     "language": "csharp"
    }
   }
  },
  {
   "cell_type": "markdown",
   "source": [
    "If a namespace is not loaded, its classes must be accessed via their \r\n",
    "full path, e.g."
   ],
   "metadata": {
    "dotnet_interactive": {
     "language": "csharp"
    }
   }
  },
  {
   "cell_type": "code",
   "execution_count": null,
   "source": [
    "System.Collections.BitArray ba = new System.Collections.BitArray(3);"
   ],
   "outputs": [],
   "metadata": {
    "dotnet_interactive": {
     "language": "csharp"
    }
   }
  },
  {
   "cell_type": "markdown",
   "source": [
    "If we load the namespace by the **using** keyword, we can access the **BitArray** class directly:"
   ],
   "metadata": {
    "dotnet_interactive": {
     "language": "csharp"
    }
   }
  },
  {
   "cell_type": "code",
   "execution_count": null,
   "source": [
    "using System.Collections;"
   ],
   "outputs": [],
   "metadata": {
    "dotnet_interactive": {
     "language": "csharp"
    }
   }
  },
  {
   "cell_type": "code",
   "execution_count": null,
   "source": [
    "BitArray ba = new BitArray(3);"
   ],
   "outputs": [],
   "metadata": {
    "dotnet_interactive": {
     "language": "csharp"
    }
   }
  },
  {
   "cell_type": "markdown",
   "source": [
    "Note that, in order to work with a class library, \r\n",
    "it may not be enough to just add a using directive.\r\n",
    "All libraries are contained in **dll** files, e.g. \r\n",
    "**System.dll** (standard C\\# library) or **BoSSS.foundation.dll**\r\n",
    "(part of **BoSSS**).\r\n",
    "\r\n",
    "These files must be loaded before any class from the library can be used.\r\n",
    "(Namespaces are only for the internal organization of the library.)\r\n",
    "Initially, **BoSSSpad** load a set of libraries which are useful for working\r\n",
    "with **BoSSS**. \r\n",
    "\r\n",
    "For most use-cases, this set may be sufficient; however,\r\n",
    "not that by the **Mono.\\allowbreak CSharp.\\allowbreak InteractiveBase.\\allowbreak LoadAssembly(string)** method, \r\n",
    "it is possible to load further assemblies."
   ],
   "metadata": {
    "dotnet_interactive": {
     "language": "csharp"
    }
   }
  },
  {
   "cell_type": "markdown",
   "source": [
    "\r\n",
    "# Control Flow\r\n"
   ],
   "metadata": {
    "dotnet_interactive": {
     "language": "csharp"
    }
   }
  },
  {
   "cell_type": "markdown",
   "source": [
    "Regarding the standard syntax of the language for implementing \r\n",
    "a function, C\\# designers tried to stay close to popular\r\n",
    "existing languages like C, C++ and Java.\r\n",
    "\r\n",
    "In this tutorial, we briefly discuss two control structures, branches\r\n",
    "and loops. At first, the **if**-branch;\r\n",
    "\r\n",
    "We use a random number generator create random input data for our \r\n",
    "example. Therefore, the following snippet runs differently each time\r\n",
    "it is executed:"
   ],
   "metadata": {
    "dotnet_interactive": {
     "language": "csharp"
    }
   }
  },
  {
   "cell_type": "code",
   "execution_count": null,
   "source": [
    "Random rnd       = new Random(); // Generate new random number generator object\r\n",
    "double randomVal = rnd.NextDouble();\r\n",
    "Console.WriteLine(\"Random number is \" + randomVal);\r\n",
    " \r\n",
    "// here, the if-clause\r\n",
    "if(randomVal > 0.5) { // some condition, which is ether true or false\r\n",
    "    // Code that will be executed when the condition is true\r\n",
    "    Console.WriteLine(\"greater than 1/2\");    \r\n",
    "} else {\r\n",
    "    // Code that will be executed when the condition is false\r\n",
    "    Console.WriteLine(\"smaller or equal to 1/2\");  \r\n",
    "}"
   ],
   "outputs": [
    {
     "data": {
      "text/plain": [
       "Random number is 0.338382812840111\r\n"
      ]
     },
     "metadata": {},
     "output_type": "display_data"
    },
    {
     "data": {
      "text/plain": [
       "smaller or equal to 1/2\r\n"
      ]
     },
     "metadata": {},
     "output_type": "display_data"
    }
   ],
   "metadata": {
    "dotnet_interactive": {
     "language": "csharp"
    }
   }
  },
  {
   "cell_type": "markdown",
   "source": [
    "Next, the **for**-loop. It has three `Arguments':\r\n",
    "\r\n",
    "- An initialization code (**int j = 0**): executed **before** the \r\n",
    "loop starts.\r\n",
    "\r\n",
    "- A runtime condition (**j < J**): this is checked **before** each \r\n",
    "iteration of the loop; if it is false, the loop terminates.\r\n",
    "\r\n",
    "- An increment statement (**j++**): this is executed **after** each\r\n",
    "iteration of the loop and usually used to increase or decrease some \r\n",
    "variables value.\r\n"
   ],
   "metadata": {
    "dotnet_interactive": {
     "language": "csharp"
    }
   }
  },
  {
   "cell_type": "code",
   "execution_count": null,
   "source": [
    "int J = 7;\r\n",
    "for(int j = 0; j < J; j++) {\r\n",
    "    // code which is executed repeadedly \r\n",
    "    double s = Math.Sin(j);\r\n",
    "    Console.WriteLine(\"The sinus of \" + j + \" is \" + s);\r\n",
    "}"
   ],
   "outputs": [
    {
     "data": {
      "text/plain": [
       "The sinus of 0 is 0\r\n"
      ]
     },
     "metadata": {},
     "output_type": "display_data"
    },
    {
     "data": {
      "text/plain": [
       "The sinus of 1 is 0.8414709848078965\r\n"
      ]
     },
     "metadata": {},
     "output_type": "display_data"
    },
    {
     "data": {
      "text/plain": [
       "The sinus of 2 is 0.9092974268256817\r\n"
      ]
     },
     "metadata": {},
     "output_type": "display_data"
    },
    {
     "data": {
      "text/plain": [
       "The sinus of 3 is 0.1411200080598672\r\n"
      ]
     },
     "metadata": {},
     "output_type": "display_data"
    },
    {
     "data": {
      "text/plain": [
       "The sinus of 4 is -0.7568024953079282\r\n"
      ]
     },
     "metadata": {},
     "output_type": "display_data"
    },
    {
     "data": {
      "text/plain": [
       "The sinus of 5 is -0.9589242746631385\r\n"
      ]
     },
     "metadata": {},
     "output_type": "display_data"
    },
    {
     "data": {
      "text/plain": [
       "The sinus of 6 is -0.27941549819892586\r\n"
      ]
     },
     "metadata": {},
     "output_type": "display_data"
    }
   ],
   "metadata": {
    "dotnet_interactive": {
     "language": "csharp"
    }
   }
  },
  {
   "cell_type": "markdown",
   "source": [
    "Another kind of loops is the **foreach** statement. It executes\r\n",
    "the loop body for each element of a list or array:"
   ],
   "metadata": {
    "dotnet_interactive": {
     "language": "csharp"
    }
   }
  },
  {
   "cell_type": "code",
   "execution_count": null,
   "source": [
    "double[] SomeValues = new double[] { 1.2, -3.4, 7.3, 3.1, 3.14 };\r\n",
    "foreach(double x in SomeValues) {\r\n",
    "    double s = Math.Sin(x);\r\n",
    "    Console.WriteLine(\"The sinus of \" + x + \" is \" + s);\r\n",
    "}"
   ],
   "outputs": [
    {
     "data": {
      "text/plain": [
       "The sinus of 1.2 is 0.9320390859672263\r\n"
      ]
     },
     "metadata": {},
     "output_type": "display_data"
    },
    {
     "data": {
      "text/plain": [
       "The sinus of -3.4 is 0.2555411020268312\r\n"
      ]
     },
     "metadata": {},
     "output_type": "display_data"
    },
    {
     "data": {
      "text/plain": [
       "The sinus of 7.3 is 0.8504366206285644\r\n"
      ]
     },
     "metadata": {},
     "output_type": "display_data"
    },
    {
     "data": {
      "text/plain": [
       "The sinus of 3.1 is 0.04158066243329049\r\n"
      ]
     },
     "metadata": {},
     "output_type": "display_data"
    },
    {
     "data": {
      "text/plain": [
       "The sinus of 3.14 is 0.0015926529164868282\r\n"
      ]
     },
     "metadata": {},
     "output_type": "display_data"
    }
   ],
   "metadata": {
    "dotnet_interactive": {
     "language": "csharp"
    }
   }
  },
  {
   "cell_type": "markdown",
   "source": [
    "\r\n",
    "# Functions, Methods and Delegates\r\n",
    "\r\n",
    "In its heart, C\\# is an object-oriented programming language, and \r\n",
    "methods are implemented in a imperative style. However, the designers\r\n",
    "also included concepts from the functional programming model.\r\n",
    "\r\n",
    "A key idea of functional programming is that functions/methods can be \r\n",
    "treated as variables; such variables are called **delegates**.\r\n",
    "\r\n",
    "In order to demonstrate the use of delegates, we create a class with \r\n",
    "some static methods:\r\n"
   ],
   "metadata": {
    "dotnet_interactive": {
     "language": "csharp"
    }
   }
  },
  {
   "cell_type": "code",
   "execution_count": null,
   "source": [
    "class DelDemo {\r\n",
    "    public static double Pow2(int x, float z) {\r\n",
    "        return x*x*z;\r\n",
    "    }\r\n",
    "    public static void Print(int x, double y) {\r\n",
    "        Console.Write(\"Got the numbers \" + x + \" and \" + y + \".\");\r\n",
    "    }    \r\n",
    "}"
   ],
   "outputs": [],
   "metadata": {
    "dotnet_interactive": {
     "language": "csharp"
    }
   }
  },
  {
   "cell_type": "markdown",
   "source": [
    " Now, we want to create variables/delegates which \\emph{point} to the \r\n",
    " functions/methods defined above. As for any variable declaration, we \r\n",
    " need to specify type and name.\r\n",
    " For functions which have a return type, it works like this:\r\n",
    "Note: the last type in the '< >' - List:\r\n",
    "* first, all arguments of the function\r\n",
    "* finally, the return type "
   ],
   "metadata": {
    "dotnet_interactive": {
     "language": "csharp"
    }
   }
  },
  {
   "cell_type": "code",
   "execution_count": null,
   "source": [],
   "outputs": [],
   "metadata": {
    "dotnet_interactive": {
     "language": "csharp"
    }
   }
  },
  {
   "cell_type": "code",
   "execution_count": null,
   "source": [
    "\r\n",
    "Func<int,float,double> delPow2 = DelDemo.Pow2;"
   ],
   "outputs": [],
   "metadata": {
    "dotnet_interactive": {
     "language": "csharp"
    }
   }
  },
  {
   "cell_type": "markdown",
   "source": [
    "Then, the method can be called via the delegate:\r\n",
    "Note: the 'f'-suffix is for single precision types; this also shows round-of\r\n",
    "errors of floating point arithmetics "
   ],
   "metadata": {
    "dotnet_interactive": {
     "language": "csharp"
    }
   }
  },
  {
   "cell_type": "code",
   "execution_count": null,
   "source": [
    "\r\n",
    "delPow2(2, 1.1f)"
   ],
   "outputs": [
    {
     "data": {
      "text/html": [
       "<div class=\"dni-plaintext\">4.400000095367432</div>"
      ]
     },
     "metadata": {},
     "output_type": "display_data"
    }
   ],
   "metadata": {
    "dotnet_interactive": {
     "language": "csharp"
    }
   }
  },
  {
   "cell_type": "markdown",
   "source": [
    "Functions without a return type (void) are also called **actions**:"
   ],
   "metadata": {
    "dotnet_interactive": {
     "language": "csharp"
    }
   }
  },
  {
   "cell_type": "code",
   "execution_count": null,
   "source": [
    "Action<int,double> a = DelDemo.Print;"
   ],
   "outputs": [],
   "metadata": {
    "dotnet_interactive": {
     "language": "csharp"
    }
   }
  },
  {
   "cell_type": "code",
   "execution_count": null,
   "source": [
    "a(1,1.2)"
   ],
   "outputs": [
    {
     "data": {
      "text/plain": [
       "Got the numbers 1 and 1.2."
      ]
     },
     "metadata": {},
     "output_type": "display_data"
    }
   ],
   "metadata": {
    "dotnet_interactive": {
     "language": "csharp"
    }
   }
  },
  {
   "cell_type": "markdown",
   "source": [
    "By the keyword **delagate**, C\\# designers finally (in the C\\# version \r\n",
    "3.0) reversed their original decision that functions are only allowed \r\n",
    "within classes by the introduction of anonymous functions:"
   ],
   "metadata": {
    "dotnet_interactive": {
     "language": "csharp"
    }
   }
  },
  {
   "cell_type": "code",
   "execution_count": null,
   "source": [
    "delPow2 = delegate(int x, float z) {\r\n",
    "    double retval;\r\n",
    "    retval = x*x*z*2.0;\r\n",
    "    return retval;\r\n",
    "};"
   ],
   "outputs": [],
   "metadata": {
    "dotnet_interactive": {
     "language": "csharp"
    }
   }
  },
  {
   "cell_type": "markdown",
   "source": [
    "Now, the variable **delPow2** does not anymore points to the method \r\n",
    "**DelDemo.Pow2**, but to the newly defined, anonymous function:"
   ],
   "metadata": {
    "dotnet_interactive": {
     "language": "csharp"
    }
   }
  },
  {
   "cell_type": "code",
   "execution_count": null,
   "source": [
    "delPow2(2, 1.1f);"
   ],
   "outputs": [],
   "metadata": {
    "dotnet_interactive": {
     "language": "csharp"
    }
   }
  },
  {
   "cell_type": "markdown",
   "source": [
    "To make notation more compact, a function-like syntax was introduced:"
   ],
   "metadata": {
    "dotnet_interactive": {
     "language": "csharp"
    }
   }
  },
  {
   "cell_type": "code",
   "execution_count": null,
   "source": [
    "delPow2 = (x, z) => x*x*z*4.0;"
   ],
   "outputs": [],
   "metadata": {
    "dotnet_interactive": {
     "language": "csharp"
    }
   }
  },
  {
   "cell_type": "code",
   "execution_count": null,
   "source": [
    "delPow2(2, 1.1f)"
   ],
   "outputs": [
    {
     "data": {
      "text/html": [
       "<div class=\"dni-plaintext\">17.600000381469727</div>"
      ]
     },
     "metadata": {},
     "output_type": "display_data"
    }
   ],
   "metadata": {
    "dotnet_interactive": {
     "language": "csharp"
    }
   }
  },
  {
   "cell_type": "markdown",
   "source": [
    "Since delegates can be treated as normal variables, the can also be used\r\n",
    "as arguments to other functions; here is a more advanced example,\r\n",
    "an action (no return value) which takes as inputs \r\n",
    "another action, a function and an integer value:"
   ],
   "metadata": {
    "dotnet_interactive": {
     "language": "csharp"
    }
   }
  },
  {
   "cell_type": "code",
   "execution_count": null,
   "source": [
    "Action<Action<int,double>,Func<int,float,double>,int> apply = \r\n",
    "    delegate(Action<int,double> act, Func<int,float,double> fun, int i) {\r\n",
    "        float f = 1.0f;\r\n",
    " \r\n",
    "        double y = fun(i, f); // apply function 'fun' to argument 'i'\r\n",
    "        act(i, y);            // hand both numbers to action 'act'\r\n",
    " \r\n",
    "        return; \r\n",
    "    };"
   ],
   "outputs": [],
   "metadata": {
    "dotnet_interactive": {
     "language": "csharp"
    }
   }
  },
  {
   "cell_type": "code",
   "execution_count": null,
   "source": [
    "apply(a,delPow2,2);"
   ],
   "outputs": [
    {
     "data": {
      "text/plain": [
       "Got the numbers 2 and 16."
      ]
     },
     "metadata": {},
     "output_type": "display_data"
    }
   ],
   "metadata": {
    "dotnet_interactive": {
     "language": "csharp"
    }
   }
  },
  {
   "cell_type": "markdown",
   "source": [
    "\r\n",
    "# Inheritance\r\n"
   ],
   "metadata": {
    "dotnet_interactive": {
     "language": "csharp"
    }
   }
  },
  {
   "cell_type": "markdown",
   "source": [
    "As already discussed, classes are blueprints for objects: once a class\r\n",
    "is implemented, it can be used to create an infinite number of \r\n",
    "objects. Of course, only until the computers memory is full.\r\n",
    "\r\n",
    "The model of a single blueprint is, however, sometimes a bit inflexible.\r\n",
    "engineers know this for a long time: in a group of products, you \r\n",
    "may have two products that have a lot in common, but also significant\r\n",
    "differences regarding some functionality.\r\n",
    "\r\n",
    "Object oriented programming languages provide the concept of inheritance:\r\n",
    "Common functionality is implemented in a common base class."
   ],
   "metadata": {
    "dotnet_interactive": {
     "language": "csharp"
    }
   }
  },
  {
   "cell_type": "markdown",
   "source": [
    "First we define some class; functions or properties which are decorated\r\n",
    "as **virtual**, can be"
   ],
   "metadata": {
    "dotnet_interactive": {
     "language": "csharp"
    }
   }
  },
  {
   "cell_type": "code",
   "execution_count": null,
   "source": [
    "class BaseClass {\r\n",
    "    public int num;     \r\n",
    " \r\n",
    "    // this is a normal method, which will be accessible form \r\n",
    "    // any derived class\r\n",
    "    public void Method1() {\r\n",
    "        Console.WriteLine(\"BaseClass: Hello from Method1, num is \" + num);    \r\n",
    "    }\r\n",
    " \r\n",
    "    // this is a virtual method, its functionality can be overriden in derived\r\n",
    "    // classes\r\n",
    "    public virtual void VirtMeth(int i) {\r\n",
    "        Console.WriteLine(\"BaseClass: VirtMethod, i is \" + i);\r\n",
    "    }\r\n",
    "}"
   ],
   "outputs": [],
   "metadata": {
    "dotnet_interactive": {
     "language": "csharp"
    }
   }
  },
  {
   "cell_type": "markdown",
   "source": [
    "Now, we derive two classes from \\code{BaseClass}:"
   ],
   "metadata": {
    "dotnet_interactive": {
     "language": "csharp"
    }
   }
  },
  {
   "cell_type": "code",
   "execution_count": null,
   "source": [
    "class DerivA : BaseClass { // indicates that thes class is derived \r\n",
    "                           // from 'BaseClass'\r\n",
    " \r\n",
    "    // We can add new members:\r\n",
    "    public double SomeVal;\r\n",
    " \r\n",
    "    // a private member:\r\n",
    "    Random rnd = new Random();\r\n",
    " \r\n",
    "    // And override functionality from the base class\r\n",
    "    public override void VirtMeth(int i) {\r\n",
    "        SomeVal = rnd.NextDouble() + i;\r\n",
    "        Console.WriteLine(\"DerivA: VirtMethod, random value is \" + SomeVal);     \r\n",
    "    }\r\n",
    "}"
   ],
   "outputs": [],
   "metadata": {
    "dotnet_interactive": {
     "language": "csharp"
    }
   }
  },
  {
   "cell_type": "code",
   "execution_count": null,
   "source": [
    "class DerivB : BaseClass {\r\n",
    " \r\n",
    "    // Again, some override:\r\n",
    "    public override void VirtMeth(int i) {\r\n",
    "        num += i; // we can modify members of the base class\r\n",
    "        Console.WriteLine(\"DerivB: VirtMethod, num is \" + num);     \r\n",
    "    }\r\n",
    "}"
   ],
   "outputs": [],
   "metadata": {
    "dotnet_interactive": {
     "language": "csharp"
    }
   }
  },
  {
   "cell_type": "markdown",
   "source": [
    "As usual, we can instantiate and use \\code{BaseClass}:"
   ],
   "metadata": {
    "dotnet_interactive": {
     "language": "csharp"
    }
   }
  },
  {
   "cell_type": "code",
   "execution_count": null,
   "source": [
    "BaseClass b = new BaseClass();\r\n",
    "b.Method1();\r\n",
    "b.VirtMeth(1); // calls base implementation"
   ],
   "outputs": [
    {
     "data": {
      "text/plain": [
       "BaseClass: Hello from Method1, num is 0\r\n"
      ]
     },
     "metadata": {},
     "output_type": "display_data"
    },
    {
     "data": {
      "text/plain": [
       "BaseClass: VirtMethod, i is 1\r\n"
      ]
     },
     "metadata": {},
     "output_type": "display_data"
    }
   ],
   "metadata": {
    "dotnet_interactive": {
     "language": "csharp"
    }
   }
  },
  {
   "cell_type": "markdown",
   "source": [
    "Of course, we can do the same with **DerivA**; since it is derived from\r\n",
    "**BaseClass**, an object of type **DerivA** can be stored in\r\n",
    "(resp. referenced from) a variable of type **BaseClass**. \r\n",
    "\r\n",
    "In short, any **DerivA**-object is autamtically also \r\n",
    "a **BaseClass**-object, due to inhertance (but not the other way)."
   ],
   "metadata": {
    "dotnet_interactive": {
     "language": "csharp"
    }
   }
  },
  {
   "cell_type": "code",
   "execution_count": null,
   "source": [
    "BaseClass b = new DerivA(); // we instantiate an object of type 'DerivA'\r\n",
    "                            // but the variable is of type 'BaseClass'.\r\n",
    "b.Method1();   // non-overridden functionality: from base implementation\r\n",
    "b.VirtMeth(1); // calls override implementation"
   ],
   "outputs": [
    {
     "data": {
      "text/plain": [
       "BaseClass: Hello from Method1, num is 0\r\n"
      ]
     },
     "metadata": {},
     "output_type": "display_data"
    },
    {
     "data": {
      "text/plain": [
       "DerivA: VirtMethod, random value is 1.7424149190738867\r\n"
      ]
     },
     "metadata": {},
     "output_type": "display_data"
    }
   ],
   "metadata": {
    "dotnet_interactive": {
     "language": "csharp"
    }
   }
  },
  {
   "cell_type": "markdown",
   "source": [
    "We can also store **DerivB**-objects in variable **b**:"
   ],
   "metadata": {
    "dotnet_interactive": {
     "language": "csharp"
    }
   }
  },
  {
   "cell_type": "code",
   "execution_count": null,
   "source": [
    "b = new DerivB();\r\n",
    "b.Method1();\r\n",
    "b.VirtMeth(1); // 'DerivB.VirtMeth' modifies the internal state of the object,\r\n",
    "b.VirtMeth(1); // so the result is different for each call"
   ],
   "outputs": [
    {
     "data": {
      "text/plain": [
       "BaseClass: Hello from Method1, num is 0\r\n"
      ]
     },
     "metadata": {},
     "output_type": "display_data"
    },
    {
     "data": {
      "text/plain": [
       "DerivB: VirtMethod, num is 1\r\n"
      ]
     },
     "metadata": {},
     "output_type": "display_data"
    },
    {
     "data": {
      "text/plain": [
       "DerivB: VirtMethod, num is 2\r\n"
      ]
     },
     "metadata": {},
     "output_type": "display_data"
    }
   ],
   "metadata": {
    "dotnet_interactive": {
     "language": "csharp"
    }
   }
  },
  {
   "cell_type": "markdown",
   "source": [
    "Note: implicitly, all classes in C\\# are derived vom the class \r\n",
    "**ystem.Object**, and has all the methods of this class."
   ],
   "metadata": {
    "dotnet_interactive": {
     "language": "csharp"
    }
   }
  },
  {
   "cell_type": "code",
   "execution_count": null,
   "source": [
    "object o; // The 'object' keyword is a build-in alias for 'System.Object'\r\n",
    "o = new BaseClass();\r\n",
    "o.ToString()  // 'ToString' is a virtual method of 'System.Object', which,\r\n",
    "              // if not overriden only retunrs the name of the class"
   ],
   "outputs": [
    {
     "data": {
      "text/plain": [
       "Submission#100+BaseClass"
      ]
     },
     "metadata": {},
     "output_type": "display_data"
    }
   ],
   "metadata": {
    "dotnet_interactive": {
     "language": "csharp"
    }
   }
  },
  {
   "cell_type": "markdown",
   "source": [
    "# Abstract Classes\r\n"
   ],
   "metadata": {
    "dotnet_interactive": {
     "language": "csharp"
    }
   }
  },
  {
   "cell_type": "markdown",
   "source": [
    "In lots of situations, there is no reasonable base-implementation for\r\n",
    "a method."
   ],
   "metadata": {
    "dotnet_interactive": {
     "language": "csharp"
    }
   }
  },
  {
   "cell_type": "code",
   "execution_count": null,
   "source": [
    "abstract class AbstractBase { // if the class conatains any abstract member,\r\n",
    "                              // it must be declared as abstract.\r\n",
    " \r\n",
    "    public int num;     \r\n",
    " \r\n",
    "    // like above, a normal method:\r\n",
    "    public void Method1() {\r\n",
    "        Console.WriteLine(\"AbstractBase: Hello from Method1, num is \" + num);    \r\n",
    "    }\r\n",
    " \r\n",
    "    // this is an abstract method, for which only the \r\n",
    "    // signature (return value, arguments, etc.) is specified, but no \r\n",
    "    // implementation is given:\r\n",
    "    public abstract void VirtMeth(int i);\r\n",
    "}"
   ],
   "outputs": [],
   "metadata": {
    "dotnet_interactive": {
     "language": "csharp"
    }
   }
  },
  {
   "cell_type": "markdown",
   "source": [
    "Note:\r\n",
    "- Virtual methods can be overridden, i.e. the override is optional\r\n",
    "\r\n",
    "- Abstract methods \\emph{must} be overridden\r\n",
    "\r\n",
    "- Abstract classes cannot be instantiated, since functionality is missing\r\n",
    "\r\n",
    "- Abstract classes can be used as a variable type\r\n"
   ],
   "metadata": {
    "dotnet_interactive": {
     "language": "csharp"
    }
   }
  },
  {
   "cell_type": "code",
   "execution_count": null,
   "source": [
    "class DerivC : AbstractBase {\r\n",
    "    // we are enforced to override the base method\r\n",
    "    public override void VirtMeth(int i) {\r\n",
    "        Console.WriteLine(\"DerivC: VirtMeth, i is \" + i);    \r\n",
    "    }\r\n",
    "}"
   ],
   "outputs": [],
   "metadata": {
    "dotnet_interactive": {
     "language": "csharp"
    }
   }
  },
  {
   "cell_type": "code",
   "execution_count": null,
   "source": [
    "AbstractBase a;   // use 'AbstractBase' as a variable type\r\n",
    "a = new DerivC(); // instantiate a 'DerivC' object, store it in 'a'\r\n",
    "a.VirtMeth(2);    // call the objects methods"
   ],
   "outputs": [
    {
     "data": {
      "text/plain": [
       "DerivC: VirtMeth, i is 2\r\n"
      ]
     },
     "metadata": {},
     "output_type": "display_data"
    }
   ],
   "metadata": {
    "dotnet_interactive": {
     "language": "csharp"
    }
   }
  },
  {
   "cell_type": "markdown",
   "source": [
    "\r\n",
    "# Interfaces\r\n"
   ],
   "metadata": {
    "dotnet_interactive": {
     "language": "csharp"
    }
   }
  },
  {
   "cell_type": "markdown",
   "source": [
    "When we finish the concept of abstract classes, we come to classes that \r\n",
    "**only** have abstract members. These are called **interfaces**\r\n",
    "and C\\# has a special keyword for them:"
   ],
   "metadata": {
    "dotnet_interactive": {
     "language": "csharp"
    }
   }
  },
  {
   "cell_type": "code",
   "execution_count": null,
   "source": [
    "interface IMethodsInterface {\r\n",
    "    void MethodA(); // methods in an interface are always public and need   \r\n",
    "    void MethodB(); // no modifier.\r\n",
    "}"
   ],
   "outputs": [],
   "metadata": {
    "dotnet_interactive": {
     "language": "csharp"
    }
   }
  },
  {
   "cell_type": "code",
   "execution_count": null,
   "source": [
    "interface IPropertyInterface {\r\n",
    "    int Property { get; set; }    \r\n",
    "}"
   ],
   "outputs": [],
   "metadata": {
    "dotnet_interactive": {
     "language": "csharp"
    }
   }
  },
  {
   "cell_type": "markdown",
   "source": [
    "## Note:\r\n",
    "there is a widly used convention to start interface names with \r\n",
    "capital letter `I'. This is only a convention, not a rule.\r\n",
    "\r\n",
    "An important difference between classes and interfaces is, that\r\n",
    "any class can have **only one base-class**, but it can implement\r\n",
    "an **unlimited number of interfaces**:"
   ],
   "metadata": {
    "dotnet_interactive": {
     "language": "csharp"
    }
   }
  },
  {
   "cell_type": "code",
   "execution_count": null,
   "source": [
    "class DerivD : AbstractBase, IMethodsInterface, IPropertyInterface {\r\n",
    "    // form 'AbstractBase'\r\n",
    "    public override void VirtMeth(int i) {\r\n",
    "        Console.WriteLine(\"DerivD: VirtMeth, i is \" + i);    \r\n",
    "    }\r\n",
    " \r\n",
    "    // from 'IMethodsInterface'\r\n",
    "    public void MethodA() {\r\n",
    "        Console.WriteLine(\"DerivD: MethodA\");\r\n",
    "    }\r\n",
    "    public void MethodB() {\r\n",
    "        Console.WriteLine(\"DerivD: MethodB\");\r\n",
    "    }\r\n",
    " \r\n",
    "    // form 'IPropertyInterface'\r\n",
    "    public int Property { \r\n",
    "        get { \r\n",
    "            Console.WriteLine(\"This is the get property.\");\r\n",
    "            return num;  \r\n",
    "        } \r\n",
    "        set { num = value; }\r\n",
    "    }\r\n",
    "}"
   ],
   "outputs": [],
   "metadata": {
    "dotnet_interactive": {
     "language": "csharp"
    }
   }
  },
  {
   "cell_type": "markdown",
   "source": [
    "Of course, we can instantiate **DerivD** and call any method or \r\n",
    "property:"
   ],
   "metadata": {
    "dotnet_interactive": {
     "language": "csharp"
    }
   }
  },
  {
   "cell_type": "code",
   "execution_count": null,
   "source": [
    "DerivD d = new DerivD();\r\n",
    "d.VirtMeth(1);\r\n",
    "d.MethodB();"
   ],
   "outputs": [
    {
     "data": {
      "text/plain": [
       "DerivD: VirtMeth, i is 1\r\n"
      ]
     },
     "metadata": {},
     "output_type": "display_data"
    },
    {
     "data": {
      "text/plain": [
       "DerivD: MethodB\r\n"
      ]
     },
     "metadata": {},
     "output_type": "display_data"
    }
   ],
   "metadata": {
    "dotnet_interactive": {
     "language": "csharp"
    }
   }
  },
  {
   "cell_type": "markdown",
   "source": [
    "But we can also store the object in references with the interface type:"
   ],
   "metadata": {
    "dotnet_interactive": {
     "language": "csharp"
    }
   }
  },
  {
   "cell_type": "code",
   "execution_count": null,
   "source": [
    "IMethodsInterface imd = new DerivD();\r\n",
    "imd.MethodA();\r\n",
    "imd.MethodB();"
   ],
   "outputs": [
    {
     "data": {
      "text/plain": [
       "DerivD: MethodA\r\n"
      ]
     },
     "metadata": {},
     "output_type": "display_data"
    },
    {
     "data": {
      "text/plain": [
       "DerivD: MethodB\r\n"
      ]
     },
     "metadata": {},
     "output_type": "display_data"
    }
   ],
   "metadata": {
    "dotnet_interactive": {
     "language": "csharp"
    }
   }
  },
  {
   "cell_type": "code",
   "execution_count": null,
   "source": [
    "IPropertyInterface ipd = new DerivD();\r\n",
    "ipd.Property           = 44;\r\n",
    "ipd.Property"
   ],
   "outputs": [
    {
     "data": {
      "text/plain": [
       "This is the get property.\r\n"
      ]
     },
     "metadata": {},
     "output_type": "display_data"
    },
    {
     "data": {
      "text/html": [
       "<div class=\"dni-plaintext\">44</div>"
      ]
     },
     "metadata": {},
     "output_type": "display_data"
    }
   ],
   "metadata": {
    "dotnet_interactive": {
     "language": "csharp"
    }
   }
  },
  {
   "cell_type": "markdown",
   "source": [
    "The execution model of **BoSSSpad**"
   ],
   "metadata": {
    "dotnet_interactive": {
     "language": "csharp"
    }
   }
  },
  {
   "cell_type": "markdown",
   "source": [
    "The term which describes the execution model of **BoSSSpad** best is \r\n",
    "called **read-eval-print-loop (REPL)**:\r\n",
    "commands are read from the input window, evaluated by the interpreter,\r\n",
    "the result is printed to the screen and this is repeated in an infinite \r\n",
    "loop (until the app is terminated).\r\n",
    "\r\n",
    "Each time a command is executed, the internal state of the interpreter\r\n",
    "is changed. E.g. new variables or classes are defined. If a variable or  \r\n",
    "class name is already used, it will be overwritten. The special command\r\n",
    "**restart** resets the interpreter to an initial state.\r\n",
    "\r\n",
    "On top of that, **BoSSSpad** puts a document model:\r\n",
    "the user can navigate backward and re-execute any command; this may or \r\n",
    "may not change the behavior of the entire script. A simple example is:"
   ],
   "metadata": {
    "dotnet_interactive": {
     "language": "csharp"
    }
   }
  },
  {
   "cell_type": "markdown",
   "source": [
    "We are defining an **int** variable:"
   ],
   "metadata": {
    "dotnet_interactive": {
     "language": "csharp"
    }
   }
  },
  {
   "cell_type": "code",
   "execution_count": null,
   "source": [
    "int i = 9;           // int-definition"
   ],
   "outputs": [],
   "metadata": {
    "dotnet_interactive": {
     "language": "csharp"
    }
   }
  },
  {
   "cell_type": "markdown",
   "source": [
    "Next, we overwrite the name **i** with an new variable"
   ],
   "metadata": {
    "dotnet_interactive": {
     "language": "csharp"
    }
   }
  },
  {
   "cell_type": "code",
   "execution_count": null,
   "source": [
    "double i = 1.1;      // double-definition"
   ],
   "outputs": [],
   "metadata": {
    "dotnet_interactive": {
     "language": "csharp"
    }
   }
  },
  {
   "cell_type": "markdown",
   "source": [
    "And execute some code which depends on **i**, e.g.:"
   ],
   "metadata": {
    "dotnet_interactive": {
     "language": "csharp"
    }
   }
  },
  {
   "cell_type": "markdown",
   "source": [
    "Obviously, if we would navigate back to the \r\n",
    "**int-definition**-statement, re-execute it, but skip the execution\r\n",
    "of the **double-definition** statement, the following statement \r\n",
    "will behave differently:"
   ],
   "metadata": {
    "dotnet_interactive": {
     "language": "csharp"
    }
   }
  },
  {
   "cell_type": "code",
   "execution_count": null,
   "source": [
    "Math.Cos(i)         // depends on last 'i'"
   ],
   "outputs": [
    {
     "data": {
      "text/html": [
       "<div class=\"dni-plaintext\">0.4535961214255773</div>"
      ]
     },
     "metadata": {},
     "output_type": "display_data"
    }
   ],
   "metadata": {
    "dotnet_interactive": {
     "language": "csharp"
    }
   }
  },
  {
   "cell_type": "markdown",
   "source": [
    "As we see,...\r\n",
    "\r\n",
    "- the result of a snippet depends on the sequence of previously \r\n",
    "**executed** snippets\r\n",
    "- navigation within the worksheet \\emph{alters the sequence} in which \r\n",
    "snippets are executed -- this may have side-effects.\r\n",
    "\r\n",
    "This behavior might seem confusing (and very often, it is). However, \r\n",
    "it is desired because it speeds up the workflow, because it allows to \r\n",
    "alter or correct a script, without (time-consuming) re-evaluation\r\n",
    "of the entire script.\r\n",
    "As a rule of thumb, take this:\r\n",
    "\r\n",
    "- If we want to alter a snippet above, we only need to re-execute everything\r\n",
    "which depends on this snippet. The dependent snippets must be identified \r\n",
    "by the user, which is a good coding exercise.\r\n",
    "- A simple solution is to re-evaluate everything downward of the altered \r\n",
    "snippet.\r\n",
    "- As an ultima ratio, one should re-execute the entire worksheet.\r\n"
   ],
   "metadata": {
    "dotnet_interactive": {
     "language": "csharp"
    }
   }
  },
  {
   "cell_type": "markdown",
   "source": [
    "# Further reading\r\n"
   ],
   "metadata": {
    "dotnet_interactive": {
     "language": "csharp"
    }
   }
  },
  {
   "cell_type": "markdown",
   "source": [
    "Obviously, this minimal tutorial does not cover the entire C\\# language.\r\n",
    "It should, however, demonstrate everything which is needed to understand\r\n",
    "about 90\\% of the tutorials in the **BoSSS** handbook.\r\n",
    "\r\n",
    "Finally: there are lots of tutorials on C\\# online. Some of them are \r\n",
    "excellent, some are not so good. \r\n",
    "And: Google is your friend (at least in this respect)..."
   ],
   "metadata": {
    "dotnet_interactive": {
     "language": "csharp"
    }
   }
  }
 ],
 "metadata": {
  "kernelspec": {
   "display_name": ".NET (C#)",
   "language": "C#",
   "name": ".net-csharp"
  },
  "language_info": {
   "file_extension": ".cs",
   "mimetype": "text/x-csharp",
   "name": "C#",
   "pygments_lexer": "csharp",
   "version": "8.0"
  }
 },
 "nbformat": 4,
 "nbformat_minor": 4
}