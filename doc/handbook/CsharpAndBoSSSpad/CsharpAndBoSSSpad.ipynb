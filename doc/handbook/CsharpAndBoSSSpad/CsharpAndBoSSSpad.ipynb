{
 "cells": [
  {
   "cell_type": "markdown",
   "metadata": {},
   "source": [
    "# Whats new?\r\n",
    "\r\n",
    "BoSSSpad is a scripting environment, based on the C\\# language.\r\n",
    "While it is not necessary to be a master-class programmer for the tutorials \r\n",
    "which come up, it is required to have some basic knowledge about the C\\#\r\n",
    "syntax.\r\n",
    "\r\n",
    "Here, the following topics are covered:\r\n",
    "- Declaration of primitive variables\r\n",
    "- Classes\r\n",
    "- Control Flow\r\n",
    "- Functions, Methods and Delegates\r\n",
    "- Inheritance\r\n",
    "- The execution model of \\BoSSSpad\r\n"
   ]
  },
  {
   "cell_type": "code",
   "execution_count": null,
   "metadata": {
    "dotnet_interactive": {
     "language": "csharp"
    }
   },
   "outputs": [],
   "source": [
    "/// % ============================================\n",
    "/// \\section{Declaration of primitive variables}\n",
    "/// % ============================================"
   ]
  },
  {
   "cell_type": "code",
   "execution_count": null,
   "metadata": {
    "dotnet_interactive": {
     "language": "csharp"
    }
   },
   "outputs": [],
   "source": [
    "/// Normally, a program/application written in C\\# consists of one or more \n",
    "/// text files (source code, ending with \\texttt{.cs}) which are read by a \n",
    "/// compiler and converted into an executable (ending with \\text{.exe}).\n",
    "///\n",
    "/// In \\BoSSSpad{}, instead, one can enter single statements or snippets of \n",
    "/// C\\# code and execute them on the fly. (These snippets are not complete \n",
    "/// programs on their own, and they would not compile in the traditional way.)\n",
    "///\n",
    "/// Before we can execute any statement, we must restart (aka. reset) \n",
    "/// the C\\# interpreter:"
   ]
  },
  {
   "cell_type": "code",
   "execution_count": null,
   "metadata": {
    "dotnet_interactive": {
     "language": "csharp"
    }
   },
   "outputs": [
    {
     "data": {
      "application/vnd.code.notebook.error": {
       "message": "(1,1): error CS0006: Metadata file 'BoSSSpad.dll' could not be found\r\n(5,7): error CS0246: The type or namespace name 'ilPSP' could not be found (are you missing a using directive or an assembly reference?)\r\n(6,7): error CS0246: The type or namespace name 'ilPSP' could not be found (are you missing a using directive or an assembly reference?)\r\n(7,7): error CS0246: The type or namespace name 'BoSSS' could not be found (are you missing a using directive or an assembly reference?)\r\n(8,7): error CS0246: The type or namespace name 'BoSSS' could not be found (are you missing a using directive or an assembly reference?)\r\n(9,7): error CS0246: The type or namespace name 'BoSSS' could not be found (are you missing a using directive or an assembly reference?)\r\n(10,7): error CS0246: The type or namespace name 'BoSSS' could not be found (are you missing a using directive or an assembly reference?)\r\n(11,7): error CS0246: The type or namespace name 'BoSSS' could not be found (are you missing a using directive or an assembly reference?)\r\n(12,7): error CS0246: The type or namespace name 'BoSSS' could not be found (are you missing a using directive or an assembly reference?)\r\n(13,7): error CS0246: The type or namespace name 'BoSSS' could not be found (are you missing a using directive or an assembly reference?)\r\n(14,7): error CS0246: The type or namespace name 'BoSSS' could not be found (are you missing a using directive or an assembly reference?)\r\n(15,7): error CS0246: The type or namespace name 'BoSSS' could not be found (are you missing a using directive or an assembly reference?)\r\n(16,7): error CS0246: The type or namespace name 'BoSSS' could not be found (are you missing a using directive or an assembly reference?)\r\n(17,7): error CS0246: The type or namespace name 'BoSSS' could not be found (are you missing a using directive or an assembly reference?)\r\n(18,7): error CS0246: The type or namespace name 'BoSSS' could not be found (are you missing a using directive or an assembly reference?)\r\n(19,7): error CS0246: The type or namespace name 'BoSSS' could not be found (are you missing a using directive or an assembly reference?)\r\n(20,14): error CS0246: The type or namespace name 'BoSSS' could not be found (are you missing a using directive or an assembly reference?)\r\n(21,1): error CS0103: The name 'Init' does not exist in the current context",
       "name": "Error"
      }
     },
     "output_type": "unknown"
    }
   ],
   "source": [
    "#r \"BoSSSpad.dll\"\n",
    "using System;\n",
    "using System.Collections.Generic;\n",
    "using System.Linq;\n",
    "using ilPSP;\n",
    "using ilPSP.Utils;\n",
    "using BoSSS.Platform;\n",
    "using BoSSS.Foundation;\n",
    "using BoSSS.Foundation.Grid;\n",
    "using BoSSS.Foundation.Grid.Classic;\n",
    "using BoSSS.Foundation.IO;\n",
    "using BoSSS.Solution;\n",
    "using BoSSS.Solution.Control;\n",
    "using BoSSS.Solution.GridImport;\n",
    "using BoSSS.Solution.Statistic;\n",
    "using BoSSS.Solution.Utils;\n",
    "using BoSSS.Solution.Gnuplot;\n",
    "using BoSSS.Application.BoSSSpad;\n",
    "using BoSSS.Application.XNSE_Solver;\n",
    "using static BoSSS.Application.BoSSSpad.BoSSSshell;\n",
    "Init();\n"
   ]
  },
  {
   "cell_type": "code",
   "execution_count": null,
   "metadata": {
    "dotnet_interactive": {
     "language": "csharp"
    }
   },
   "outputs": [],
   "source": [
    "/// Any data like single numbers, vectors, strings or composite data objects\n",
    "/// (like the numerical grid) is stored resp. referenced via a \\emph{variable}.\n",
    "/// A variable declaration consists of a type and a name, and reads e.g. as:"
   ]
  },
  {
   "cell_type": "code",
   "execution_count": null,
   "metadata": {
    "dotnet_interactive": {
     "language": "csharp"
    }
   },
   "outputs": [],
   "source": [
    "int i;"
   ]
  },
  {
   "cell_type": "code",
   "execution_count": null,
   "metadata": {
    "dotnet_interactive": {
     "language": "csharp"
    }
   },
   "outputs": [],
   "source": [
    "/// The above statement created a variable named `\\code{i}' of type \n",
    "/// `\\code{int}' (for integer numbers). The most commonly used number types in \n",
    "/// \\BoSSS{} are \\code{int} for integers and \\code{double} for real numbers.\n",
    "/// A full list of C\\#-build-in variable types for numbers can be found \n",
    "/// online (see \n",
    "/// \\url{https://docs.microsoft.com/en-us/dotnet/csharp/language-reference/keywords/integral-types-table}\n",
    "/// and\n",
    "/// \\url{https://docs.microsoft.com/en-us/dotnet/csharp/language-reference/keywords/floating-point-types-table}.)"
   ]
  },
  {
   "cell_type": "code",
   "execution_count": null,
   "metadata": {
    "dotnet_interactive": {
     "language": "csharp"
    }
   },
   "outputs": [],
   "source": [
    "/// Next, we assign a value to the new variable:"
   ]
  },
  {
   "cell_type": "code",
   "execution_count": null,
   "metadata": {
    "dotnet_interactive": {
     "language": "csharp"
    }
   },
   "outputs": [],
   "source": [
    "i = 9;"
   ]
  },
  {
   "cell_type": "code",
   "execution_count": null,
   "metadata": {
    "dotnet_interactive": {
     "language": "csharp"
    }
   },
   "outputs": [],
   "source": [
    "/// If we just enter the variable name without semicolon, \\BoSSSpad{}, resp. Jupyter prompts the variable in \n",
    "/// the result window (if the variable can anyhow be presented as text):"
   ]
  },
  {
   "cell_type": "code",
   "execution_count": null,
   "metadata": {
    "dotnet_interactive": {
     "language": "csharp"
    }
   },
   "outputs": [
    {
     "data": {
      "text/html": [
       "<div class=\"dni-plaintext\">9</div>"
      ]
     },
     "execution_count": 11,
     "metadata": {},
     "output_type": "execute_result"
    }
   ],
   "source": [
    "i"
   ]
  },
  {
   "cell_type": "code",
   "execution_count": null,
   "metadata": {
    "dotnet_interactive": {
     "language": "csharp"
    }
   },
   "outputs": [],
   "source": [
    "/// Declaration and assignment can also be put into a single line:"
   ]
  },
  {
   "cell_type": "code",
   "execution_count": null,
   "metadata": {
    "dotnet_interactive": {
     "language": "csharp"
    }
   },
   "outputs": [],
   "source": [
    "int j    = 9;\n",
    "double x = 4.6;"
   ]
  },
  {
   "cell_type": "code",
   "execution_count": null,
   "metadata": {
    "dotnet_interactive": {
     "language": "csharp"
    }
   },
   "outputs": [],
   "source": [
    "/// Next, we test assign a new value to the already-defined variable \\code{i}:"
   ]
  },
  {
   "cell_type": "code",
   "execution_count": null,
   "metadata": {
    "dotnet_interactive": {
     "language": "csharp"
    }
   },
   "outputs": [
    {
     "data": {
      "text/html": [
       "<div class=\"dni-plaintext\">13</div>"
      ]
     },
     "execution_count": 15,
     "metadata": {},
     "output_type": "execute_result"
    }
   ],
   "source": [
    "i = j + (int)x; // cast x to int; add to j; store result in i\n",
    "i"
   ]
  },
  {
   "cell_type": "code",
   "execution_count": null,
   "metadata": {
    "dotnet_interactive": {
     "language": "csharp"
    }
   },
   "outputs": [],
   "source": [
    "/// Note on the snippet above:\n",
    "/// \\begin{itemize}\n",
    "/// \\item \\code{x} and \\code{i}, \\code{j} are of different type; therefore, \n",
    "///       \\code{x} is \\emph{cast} to int, which truncates the decimal digits,\n",
    "///       before it can be added and stored as integer.\n",
    "/// \\item The second line would be an incomplete statement, according to the \n",
    "///       original, non-interpreted C\\# language -- this would produce a \n",
    "///       compile error. The C\\# interpreter, instead, produces a text from \n",
    "///       the last \n",
    "///       incomplete statement in a snippet.\n",
    "/// \\item a double-slash `\\texttt{//}' starts a comment, i.e. the rest of \n",
    "///       the line is not interpreted and can contain any text.\n",
    "/// \\end{itemize}"
   ]
  },
  {
   "cell_type": "code",
   "execution_count": null,
   "metadata": {
    "dotnet_interactive": {
     "language": "csharp"
    }
   },
   "outputs": [],
   "source": [
    "/// While assigning \\code{double} to \\code{int} requires a cast operation, \n",
    "/// the other way works automatically (this is called an \\emph{implicit cast}),\n",
    "/// since very \\code{int} can be represented as \\code{double} (but not \n",
    "/// vice-versa):"
   ]
  },
  {
   "cell_type": "code",
   "execution_count": null,
   "metadata": {
    "dotnet_interactive": {
     "language": "csharp"
    }
   },
   "outputs": [
    {
     "data": {
      "text/html": [
       "<div class=\"dni-plaintext\">13.6</div>"
      ]
     },
     "execution_count": 18,
     "metadata": {},
     "output_type": "execute_result"
    }
   ],
   "source": [
    "double y = j + x;\n",
    "y"
   ]
  },
  {
   "cell_type": "code",
   "execution_count": null,
   "metadata": {
    "dotnet_interactive": {
     "language": "csharp"
    }
   },
   "outputs": [],
   "source": [
    "/// C\\# defines the standard operations on numbers found in most programming\n",
    "/// languages:"
   ]
  },
  {
   "cell_type": "code",
   "execution_count": null,
   "metadata": {
    "dotnet_interactive": {
     "language": "csharp"
    }
   },
   "outputs": [
    {
     "data": {
      "text/html": [
       "<div class=\"dni-plaintext\">14.6</div>"
      ]
     },
     "execution_count": 20,
     "metadata": {},
     "output_type": "execute_result"
    }
   ],
   "source": [
    "// Increasing a variables value by one:\n",
    "y = y + 1;\n",
    "y"
   ]
  },
  {
   "cell_type": "code",
   "execution_count": null,
   "metadata": {
    "dotnet_interactive": {
     "language": "csharp"
    }
   },
   "outputs": [
    {
     "data": {
      "text/html": [
       "<div class=\"dni-plaintext\">15.6</div>"
      ]
     },
     "execution_count": 21,
     "metadata": {},
     "output_type": "execute_result"
    }
   ],
   "source": [
    "// Or the += notation:\n",
    "y += 1;\n",
    "y"
   ]
  },
  {
   "cell_type": "code",
   "execution_count": null,
   "metadata": {
    "dotnet_interactive": {
     "language": "csharp"
    }
   },
   "outputs": [
    {
     "data": {
      "text/html": [
       "<div class=\"dni-plaintext\">16.6</div>"
      ]
     },
     "execution_count": 22,
     "metadata": {},
     "output_type": "execute_result"
    }
   ],
   "source": [
    "// Even shorter by the ++ operator:\n",
    "y++;\n",
    "y"
   ]
  },
  {
   "cell_type": "code",
   "execution_count": null,
   "metadata": {
    "dotnet_interactive": {
     "language": "csharp"
    }
   },
   "outputs": [],
   "source": [
    "/// Another build-in type is \\code{string}, for representing text:"
   ]
  },
  {
   "cell_type": "code",
   "execution_count": null,
   "metadata": {
    "dotnet_interactive": {
     "language": "csharp"
    }
   },
   "outputs": [],
   "source": [
    "string s = \"some Text\";"
   ]
  },
  {
   "cell_type": "code",
   "execution_count": null,
   "metadata": {
    "dotnet_interactive": {
     "language": "csharp"
    }
   },
   "outputs": [
    {
     "data": {
      "text/plain": [
       "some Text"
      ]
     },
     "execution_count": 25,
     "metadata": {},
     "output_type": "execute_result"
    }
   ],
   "source": [
    "s"
   ]
  },
  {
   "cell_type": "code",
   "execution_count": null,
   "metadata": {
    "dotnet_interactive": {
     "language": "csharp"
    }
   },
   "outputs": [],
   "source": [
    "/// Which also supports some (but not all) operators:"
   ]
  },
  {
   "cell_type": "code",
   "execution_count": null,
   "metadata": {
    "dotnet_interactive": {
     "language": "csharp"
    }
   },
   "outputs": [],
   "source": [
    "string t = \" and more string\";"
   ]
  },
  {
   "cell_type": "code",
   "execution_count": null,
   "metadata": {
    "dotnet_interactive": {
     "language": "csharp"
    }
   },
   "outputs": [
    {
     "data": {
      "text/plain": [
       "some Text and more string"
      ]
     },
     "execution_count": 28,
     "metadata": {},
     "output_type": "execute_result"
    }
   ],
   "source": [
    "s + t"
   ]
  },
  {
   "cell_type": "code",
   "execution_count": null,
   "metadata": {
    "dotnet_interactive": {
     "language": "csharp"
    }
   },
   "outputs": [
    {
     "data": {
      "text/plain": [
       "some Text and more string: 9"
      ]
     },
     "execution_count": 29,
     "metadata": {},
     "output_type": "execute_result"
    }
   ],
   "source": [
    "s + t + \": \" + j"
   ]
  },
  {
   "cell_type": "code",
   "execution_count": null,
   "metadata": {
    "dotnet_interactive": {
     "language": "csharp"
    }
   },
   "outputs": [],
   "source": [
    "/// % ============================================\n",
    "/// \\subsection{Arrays}\n",
    "/// % ============================================"
   ]
  },
  {
   "cell_type": "code",
   "execution_count": null,
   "metadata": {
    "dotnet_interactive": {
     "language": "csharp"
    }
   },
   "outputs": [],
   "source": [
    "/// For every type, one can define arrays; e.g. an array of integers is \n",
    "/// defined and initialized as"
   ]
  },
  {
   "cell_type": "code",
   "execution_count": null,
   "metadata": {
    "dotnet_interactive": {
     "language": "csharp"
    }
   },
   "outputs": [],
   "source": [
    "int[] A = new int[5];"
   ]
  },
  {
   "cell_type": "code",
   "execution_count": null,
   "metadata": {
    "dotnet_interactive": {
     "language": "csharp"
    }
   },
   "outputs": [],
   "source": [
    "/// The line above creates an array with 5 entries. Initially, all\n",
    "/// entries are set to the default value 0:"
   ]
  },
  {
   "cell_type": "code",
   "execution_count": null,
   "metadata": {
    "dotnet_interactive": {
     "language": "csharp"
    }
   },
   "outputs": [
    {
     "data": {
      "text/html": [
       "<table><thead><tr><th><i>index</i></th><th>value</th></tr></thead><tbody><tr><td>0</td><td><div class=\"dni-plaintext\">0</div></td></tr><tr><td>1</td><td><div class=\"dni-plaintext\">0</div></td></tr><tr><td>2</td><td><div class=\"dni-plaintext\">0</div></td></tr><tr><td>3</td><td><div class=\"dni-plaintext\">0</div></td></tr><tr><td>4</td><td><div class=\"dni-plaintext\">0</div></td></tr></tbody></table>"
      ]
     },
     "execution_count": 34,
     "metadata": {},
     "output_type": "execute_result"
    }
   ],
   "source": [
    "A"
   ]
  },
  {
   "cell_type": "code",
   "execution_count": null,
   "metadata": {
    "dotnet_interactive": {
     "language": "csharp"
    }
   },
   "outputs": [],
   "source": [
    "/// One can access and manipulate individual entires by index-brackets; \n",
    "/// Note that C\\# indices (usually) start at zero:"
   ]
  },
  {
   "cell_type": "code",
   "execution_count": null,
   "metadata": {
    "dotnet_interactive": {
     "language": "csharp"
    }
   },
   "outputs": [],
   "source": [
    "A[2] = 7;"
   ]
  },
  {
   "cell_type": "code",
   "execution_count": null,
   "metadata": {
    "dotnet_interactive": {
     "language": "csharp"
    }
   },
   "outputs": [
    {
     "data": {
      "text/html": [
       "<table><thead><tr><th><i>index</i></th><th>value</th></tr></thead><tbody><tr><td>0</td><td><div class=\"dni-plaintext\">0</div></td></tr><tr><td>1</td><td><div class=\"dni-plaintext\">0</div></td></tr><tr><td>2</td><td><div class=\"dni-plaintext\">7</div></td></tr><tr><td>3</td><td><div class=\"dni-plaintext\">0</div></td></tr><tr><td>4</td><td><div class=\"dni-plaintext\">0</div></td></tr></tbody></table>"
      ]
     },
     "execution_count": 37,
     "metadata": {},
     "output_type": "execute_result"
    }
   ],
   "source": [
    "A"
   ]
  },
  {
   "cell_type": "code",
   "execution_count": null,
   "metadata": {
    "dotnet_interactive": {
     "language": "csharp"
    }
   },
   "outputs": [],
   "source": [
    "/// It is also possible to initialize an array with non-default values:"
   ]
  },
  {
   "cell_type": "code",
   "execution_count": null,
   "metadata": {
    "dotnet_interactive": {
     "language": "csharp"
    }
   },
   "outputs": [],
   "source": [
    "string[] B = new string[] { \"Zero\", \"One\", \"Two\" };"
   ]
  },
  {
   "cell_type": "code",
   "execution_count": null,
   "metadata": {
    "dotnet_interactive": {
     "language": "csharp"
    }
   },
   "outputs": [
    {
     "data": {
      "text/html": [
       "<table><thead><tr><th><i>index</i></th><th>value</th></tr></thead><tbody><tr><td>0</td><td><div class=\"dni-plaintext\">Zero</div></td></tr><tr><td>1</td><td><div class=\"dni-plaintext\">One</div></td></tr><tr><td>2</td><td><div class=\"dni-plaintext\">Two</div></td></tr></tbody></table>"
      ]
     },
     "execution_count": 40,
     "metadata": {},
     "output_type": "execute_result"
    }
   ],
   "source": [
    "B"
   ]
  },
  {
   "cell_type": "code",
   "execution_count": null,
   "metadata": {
    "dotnet_interactive": {
     "language": "csharp"
    }
   },
   "outputs": [],
   "source": [
    "/// % ============================================\n",
    "/// \\subsection{Multi-dimensional arrays}\n",
    "/// % ============================================"
   ]
  },
  {
   "cell_type": "code",
   "execution_count": null,
   "metadata": {
    "dotnet_interactive": {
     "language": "csharp"
    }
   },
   "outputs": [],
   "source": [
    "/// C\\# also defines arrays with more than one index, e.g.:"
   ]
  },
  {
   "cell_type": "code",
   "execution_count": null,
   "metadata": {
    "dotnet_interactive": {
     "language": "csharp"
    }
   },
   "outputs": [],
   "source": [
    "int[,] M = new int[3,4];\n",
    "M[2,1] = 3;"
   ]
  },
  {
   "cell_type": "code",
   "execution_count": null,
   "metadata": {
    "dotnet_interactive": {
     "language": "csharp"
    }
   },
   "outputs": [],
   "source": [
    "/// In \\BoSSS, there is a separate type for multidimensional arrays of \n",
    "/// real numbers. In contrast to the multidimensional arrays build into C\\#,\n",
    "/// their \\BoSSS{} counterparts offer more operations, e.g.\n",
    "/// reshaping the array or tensor multiplications.\n",
    "/// An array with three dimensions can be initialized as:"
   ]
  },
  {
   "cell_type": "code",
   "execution_count": null,
   "metadata": {
    "dotnet_interactive": {
     "language": "csharp"
    }
   },
   "outputs": [],
   "source": [
    "MultidimensionalArray Q = MultidimensionalArray.Create(5,3,4);"
   ]
  },
  {
   "cell_type": "code",
   "execution_count": null,
   "metadata": {
    "dotnet_interactive": {
     "language": "csharp"
    }
   },
   "outputs": [],
   "source": [
    "/// However, a comprehensive introduction of the \n",
    "/// \\code{MultidimensionalArray} type is beyond the scope of this section.\n",
    "/// We may refer the reader to the API reference."
   ]
  },
  {
   "cell_type": "code",
   "execution_count": null,
   "metadata": {
    "dotnet_interactive": {
     "language": "csharp"
    }
   },
   "outputs": [],
   "source": [
    "/// % ============================================\n",
    "/// \\section{Classes}\n",
    "/// % ============================================"
   ]
  },
  {
   "cell_type": "code",
   "execution_count": null,
   "metadata": {
    "dotnet_interactive": {
     "language": "csharp"
    }
   },
   "outputs": [],
   "source": [
    "/// So far, we used only primitive (build-in) datatypes. The core idea of \n",
    "/// object orientation is to define composite data structures (called \n",
    "/// classes) upon the primitive types and other classes.\n",
    "/// \n",
    "/// Furthermore, classes provide the concept of encapsulation: any member \n",
    "/// variable that should be manipulated from code outside of the class \n",
    "/// must be decorated with the \\code{public} keyword. Otherwise, the member \n",
    "/// is \\code{private} and can only be manipulated form inside the class.\n",
    "/// (This is demonstrated in below)"
   ]
  },
  {
   "cell_type": "code",
   "execution_count": null,
   "metadata": {
    "dotnet_interactive": {
     "language": "csharp"
    }
   },
   "outputs": [
    {
     "name": "stderr",
     "output_type": "stream",
     "text": [
      "\r\n",
      "(5,19): warning CS0649: Field 'MyVector.Name' is never assigned to, and will always have its default value null\r\n",
      "\r\n",
      "(4,19): warning CS0649: Field 'MyVector.y' is never assigned to, and will always have its default value 0\r\n",
      "\r\n",
      "(3,19): warning CS0649: Field 'MyVector.x' is never assigned to, and will always have its default value 0\r\n",
      "\r\n"
     ]
    }
   ],
   "source": [
    "class MyVector {\n",
    "    // public variables. \n",
    "    public double x;\n",
    "    public double y;\n",
    "    public string Name;\n",
    "}"
   ]
  },
  {
   "cell_type": "code",
   "execution_count": null,
   "metadata": {
    "dotnet_interactive": {
     "language": "csharp"
    }
   },
   "outputs": [],
   "source": [
    "/// One may think of classes as blueprints, which are used to create \n",
    "/// objects. Whenever the \\code{new} operator is applied to a class, a new \n",
    "/// object is created in computer memory. This is called \\emph{instantiation}.\n",
    "/// Objects are accessed via variables, just in the same way as arrays.\n",
    "///\n",
    "/// We declare a variable of type \\code{MyVector} and intialize it with an \n",
    "/// instance of this class:"
   ]
  },
  {
   "cell_type": "code",
   "execution_count": null,
   "metadata": {
    "dotnet_interactive": {
     "language": "csharp"
    }
   },
   "outputs": [],
   "source": [
    "MyVector vec = new MyVector();"
   ]
  },
  {
   "cell_type": "code",
   "execution_count": null,
   "metadata": {
    "dotnet_interactive": {
     "language": "csharp"
    }
   },
   "outputs": [],
   "source": [
    "/// Then, we can manipulate its variables (also called \\emph{members}):"
   ]
  },
  {
   "cell_type": "code",
   "execution_count": null,
   "metadata": {
    "dotnet_interactive": {
     "language": "csharp"
    }
   },
   "outputs": [],
   "source": [
    "vec.x    = 1.2;\n",
    "vec.y    = 4.1;\n",
    "vec.Name = \"BoSSS\";"
   ]
  },
  {
   "cell_type": "code",
   "execution_count": null,
   "metadata": {
    "dotnet_interactive": {
     "language": "csharp"
    }
   },
   "outputs": [],
   "source": [
    "/// Each object owns its own space in memory; so when we instantiate a second \n",
    "/// object of this type, the members of \\code{vec} stay the same:"
   ]
  },
  {
   "cell_type": "code",
   "execution_count": null,
   "metadata": {
    "dotnet_interactive": {
     "language": "csharp"
    }
   },
   "outputs": [],
   "source": [
    "MyVector vec2 = new MyVector();"
   ]
  },
  {
   "cell_type": "code",
   "execution_count": null,
   "metadata": {
    "dotnet_interactive": {
     "language": "csharp"
    }
   },
   "outputs": [],
   "source": [
    "vec2.x    = -3.1;\n",
    "vec2.y    = 22.4;\n",
    "vec2.Name = \"Another BoSSS\";"
   ]
  },
  {
   "cell_type": "code",
   "execution_count": null,
   "metadata": {
    "dotnet_interactive": {
     "language": "csharp"
    }
   },
   "outputs": [],
   "source": [
    "/// We see, both objects have their independent variables:"
   ]
  },
  {
   "cell_type": "code",
   "execution_count": null,
   "metadata": {
    "dotnet_interactive": {
     "language": "csharp"
    }
   },
   "outputs": [
    {
     "data": {
      "text/plain": [
       "BoSSS"
      ]
     },
     "execution_count": 58,
     "metadata": {},
     "output_type": "execute_result"
    }
   ],
   "source": [
    "vec.Name"
   ]
  },
  {
   "cell_type": "code",
   "execution_count": null,
   "metadata": {
    "dotnet_interactive": {
     "language": "csharp"
    }
   },
   "outputs": [
    {
     "data": {
      "text/plain": [
       "Another BoSSS"
      ]
     },
     "execution_count": 59,
     "metadata": {},
     "output_type": "execute_result"
    }
   ],
   "source": [
    "vec2.Name"
   ]
  },
  {
   "cell_type": "code",
   "execution_count": null,
   "metadata": {
    "dotnet_interactive": {
     "language": "csharp"
    }
   },
   "outputs": [],
   "source": [
    "/// % ============================================\n",
    "/// \\subsection{Member Functions (Methods)}\n",
    "/// % ============================================"
   ]
  },
  {
   "cell_type": "code",
   "execution_count": null,
   "metadata": {
    "dotnet_interactive": {
     "language": "csharp"
    }
   },
   "outputs": [],
   "source": [
    "/// The next important idea of object orientation is to bundle data structures\n",
    "/// with the code which manipulates this data. In imperative\n",
    "/// programming languages (e.g. C, FORTRAN, Matlab) these code is organized\n",
    "/// in so-called \\emph{functions}, aka. \\emph{subroutines}. \n",
    "/// In C\\# such functions are put into the class and they can access all\n",
    "/// variables in the class, including \\code{private} ones.\n",
    "/// These functions are often called \\emph{methods} or \\emph{member functions}.\n",
    "///\n",
    "/// A function consists of the following parts:\n",
    "/// \\begin{itemize}\n",
    "/// \\item\n",
    "/// An optional access modifier, e.g. \\code{public} or \\code{private}; if no \n",
    "/// access modifier is given, the method is private.\n",
    "///\n",
    "/// \\item\n",
    "/// The type of the value returned by the method; this can be either a \n",
    "/// build-in type like \\code{double} or some class. If the method should \n",
    "/// not return a value, its return type is \\code{void}.\n",
    "///\n",
    "/// \\item\n",
    "/// A function name\n",
    "///\n",
    "/// \\item\n",
    "/// A list of function arguments, i.e. variables which are used as inputs\n",
    "/// to the function\n",
    "///\n",
    "/// \\item\n",
    "/// The function body which contains the actual code\n",
    "/// \\end{itemize}"
   ]
  },
  {
   "cell_type": "code",
   "execution_count": null,
   "metadata": {
    "dotnet_interactive": {
     "language": "csharp"
    }
   },
   "outputs": [],
   "source": [
    "class MyAdvancedVector {\n",
    "    // two private variables, which cannot be accessed from outside:\n",
    "    double x;    \n",
    "    double y;\n",
    " \n",
    "    // a function which only manipulates internal data, but has neither \n",
    "    // a return value nor an input argument:\n",
    "    public void Rotate90Deg() {\n",
    "        double temp = x; // back-up x in a local variable\n",
    "        x           = y; // overwrite x\n",
    "        y           = -temp; // set y\n",
    "    }\n",
    " \n",
    "    // a function with an input argument:\n",
    "    public void Scale(double factor) {\n",
    "        x *= factor; \n",
    "        y *= factor;   \n",
    "    }\n",
    " \n",
    "    // a function which only returns a value:\n",
    "    public double LengthSquared() {\n",
    "        double sqSum = 0;;\n",
    "        sqSum += x*x; \n",
    "        sqSum += y*y; \n",
    "        return sqSum; // returning the result of the function   \n",
    "    }\n",
    " \n",
    "    // a function with multiple input arguments, and a return value;\n",
    "    // to avoid confusion, it is better to chose names for the input arguments\n",
    "    // that do not conflict with member variables:\n",
    "    public double Set_xy(double new_x, double new_y) {\n",
    "        x = new_x;\n",
    "        y = new_y;\n",
    "        return LengthSquared();\n",
    "    }\n",
    "}"
   ]
  },
  {
   "cell_type": "code",
   "execution_count": null,
   "metadata": {
    "dotnet_interactive": {
     "language": "csharp"
    }
   },
   "outputs": [],
   "source": [
    "MyAdvancedVector vecX = new MyAdvancedVector();"
   ]
  },
  {
   "cell_type": "code",
   "execution_count": null,
   "metadata": {
    "dotnet_interactive": {
     "language": "csharp"
    }
   },
   "outputs": [],
   "source": [
    "/// Next, we demonstrate how to execute member functions of our new class:"
   ]
  },
  {
   "cell_type": "code",
   "execution_count": null,
   "metadata": {
    "dotnet_interactive": {
     "language": "csharp"
    }
   },
   "outputs": [
    {
     "data": {
      "text/html": [
       "<div class=\"dni-plaintext\">0</div>"
      ]
     },
     "execution_count": 65,
     "metadata": {},
     "output_type": "execute_result"
    }
   ],
   "source": [
    "vecX.LengthSquared()"
   ]
  },
  {
   "cell_type": "code",
   "execution_count": null,
   "metadata": {
    "dotnet_interactive": {
     "language": "csharp"
    }
   },
   "outputs": [
    {
     "data": {
      "text/html": [
       "<div class=\"dni-plaintext\">13</div>"
      ]
     },
     "execution_count": 66,
     "metadata": {},
     "output_type": "execute_result"
    }
   ],
   "source": [
    "vecX.Set_xy(2,3)"
   ]
  },
  {
   "cell_type": "code",
   "execution_count": null,
   "metadata": {
    "dotnet_interactive": {
     "language": "csharp"
    }
   },
   "outputs": [],
   "source": [
    "vecX.Rotate90Deg()"
   ]
  },
  {
   "cell_type": "code",
   "execution_count": null,
   "metadata": {
    "dotnet_interactive": {
     "language": "csharp"
    }
   },
   "outputs": [
    {
     "data": {
      "text/html": [
       "<div class=\"dni-plaintext\">13</div>"
      ]
     },
     "execution_count": 68,
     "metadata": {},
     "output_type": "execute_result"
    }
   ],
   "source": [
    "vecX.LengthSquared()"
   ]
  },
  {
   "cell_type": "code",
   "execution_count": null,
   "metadata": {
    "dotnet_interactive": {
     "language": "csharp"
    }
   },
   "outputs": [],
   "source": [
    "/// % =======================\n",
    "/// \\subsection{Properties}\n",
    "/// % ======================="
   ]
  },
  {
   "cell_type": "code",
   "execution_count": null,
   "metadata": {
    "dotnet_interactive": {
     "language": "csharp"
    }
   },
   "outputs": [],
   "source": [
    "/// Properties are special methods, which look like functions. \n",
    "/// Most of the time, they are used to execute additional code before setting \n",
    "/// a variable."
   ]
  },
  {
   "cell_type": "code",
   "execution_count": null,
   "metadata": {
    "dotnet_interactive": {
     "language": "csharp"
    }
   },
   "outputs": [],
   "source": [
    "class PropertiesDemo {\n",
    "    // a private variable:\n",
    "    int i1;\n",
    " \n",
    "    // reading/setting the value through methods:\n",
    "    // (old-fashioned)\n",
    "    public int Get_i1() {\n",
    "        return i1;    \n",
    "    }\n",
    "    public void Set_i1(int new_i1) {\n",
    "        // here, one can put code to perform additional operations,\n",
    "        // e.g. check that the passed argument is positive, (if this is desired)    \n",
    "        i1 = new_i1;\n",
    "    }\n",
    " \n",
    "    // reading/setting the value i1 through a property\n",
    "    public int I1 {\n",
    "        get {\n",
    "            // the get-part: like a function, \n",
    "            //    * no arguments\n",
    "            //    * returns int\n",
    "            return i1;\n",
    "        }    \n",
    "        set {\n",
    "            // the set-part: like a function, \n",
    "            //    * one argument of type int, vamed value\n",
    "            //    * no return value/void return value\n",
    "            i1 = value;\n",
    "        }\n",
    "    }\n",
    "}"
   ]
  },
  {
   "cell_type": "code",
   "execution_count": null,
   "metadata": {
    "dotnet_interactive": {
     "language": "csharp"
    }
   },
   "outputs": [],
   "source": [
    "/// Again, we instantiate the class:"
   ]
  },
  {
   "cell_type": "code",
   "execution_count": null,
   "metadata": {
    "dotnet_interactive": {
     "language": "csharp"
    }
   },
   "outputs": [],
   "source": [
    "PropertiesDemo p = new PropertiesDemo();"
   ]
  },
  {
   "cell_type": "code",
   "execution_count": null,
   "metadata": {
    "dotnet_interactive": {
     "language": "csharp"
    }
   },
   "outputs": [],
   "source": [
    "/// Access to the member variable through methods would work as"
   ]
  },
  {
   "cell_type": "code",
   "execution_count": null,
   "metadata": {
    "dotnet_interactive": {
     "language": "csharp"
    }
   },
   "outputs": [],
   "source": [
    "p.Set_i1(49);"
   ]
  },
  {
   "cell_type": "code",
   "execution_count": null,
   "metadata": {
    "dotnet_interactive": {
     "language": "csharp"
    }
   },
   "outputs": [
    {
     "data": {
      "text/html": [
       "<div class=\"dni-plaintext\">49</div>"
      ]
     },
     "execution_count": 76,
     "metadata": {},
     "output_type": "execute_result"
    }
   ],
   "source": [
    "p.Get_i1()"
   ]
  },
  {
   "cell_type": "code",
   "execution_count": null,
   "metadata": {
    "dotnet_interactive": {
     "language": "csharp"
    }
   },
   "outputs": [],
   "source": [
    "/// while the property-notation is more compact, but has the same functionality\n",
    "/// (syntactic sugar):"
   ]
  },
  {
   "cell_type": "code",
   "execution_count": null,
   "metadata": {
    "dotnet_interactive": {
     "language": "csharp"
    }
   },
   "outputs": [
    {
     "data": {
      "text/html": [
       "<div class=\"dni-plaintext\">49</div>"
      ]
     },
     "execution_count": 78,
     "metadata": {},
     "output_type": "execute_result"
    }
   ],
   "source": [
    "p.I1"
   ]
  },
  {
   "cell_type": "code",
   "execution_count": null,
   "metadata": {
    "dotnet_interactive": {
     "language": "csharp"
    }
   },
   "outputs": [],
   "source": [
    "p.I1 = 33;"
   ]
  },
  {
   "cell_type": "code",
   "execution_count": null,
   "metadata": {
    "dotnet_interactive": {
     "language": "csharp"
    }
   },
   "outputs": [
    {
     "data": {
      "text/html": [
       "<div class=\"dni-plaintext\">33</div>"
      ]
     },
     "execution_count": 80,
     "metadata": {},
     "output_type": "execute_result"
    }
   ],
   "source": [
    "p.I1"
   ]
  },
  {
   "cell_type": "code",
   "execution_count": null,
   "metadata": {
    "dotnet_interactive": {
     "language": "csharp"
    }
   },
   "outputs": [],
   "source": [
    "/// % ============================================\n",
    "/// \\subsection{Static functions}\n",
    "/// % ============================================"
   ]
  },
  {
   "cell_type": "code",
   "execution_count": null,
   "metadata": {
    "dotnet_interactive": {
     "language": "csharp"
    }
   },
   "outputs": [],
   "source": [
    "/// So far, always had to instantiate a class to execute its methods.\n",
    "/// Now think e.g. about mathematical functions, like the sinus. In \n",
    "/// languages like C or FORTRAN, one would just evaluate them as \n",
    "/// \\code{sin(x)}. The designers of C\\# could have allowed functions like in \n",
    "/// C, but decided against it because it would compromise the object-oriented\n",
    "/// syntax. On the other hand, creating an object before one is able to \n",
    "/// evaluate a sinus function also seems over-complicated. The compromise \n",
    "/// are \\emph{static} functions:"
   ]
  },
  {
   "cell_type": "code",
   "execution_count": null,
   "metadata": {
    "dotnet_interactive": {
     "language": "csharp"
    }
   },
   "outputs": [],
   "source": [
    "class StaticDemo {\n",
    "    // in addition to normal functions, static functions are decorated\n",
    "    // with the keyword static:\n",
    "    static public int Summation(int a, int b) {\n",
    "        return a + b;\n",
    "    }    \n",
    "}"
   ]
  },
  {
   "cell_type": "code",
   "execution_count": null,
   "metadata": {
    "dotnet_interactive": {
     "language": "csharp"
    }
   },
   "outputs": [],
   "source": [
    "/// Then, static functions can be involved without instantiating an object:"
   ]
  },
  {
   "cell_type": "code",
   "execution_count": null,
   "metadata": {
    "dotnet_interactive": {
     "language": "csharp"
    }
   },
   "outputs": [
    {
     "data": {
      "text/html": [
       "<div class=\"dni-plaintext\">3</div>"
      ]
     },
     "execution_count": 85,
     "metadata": {},
     "output_type": "execute_result"
    }
   ],
   "source": [
    "StaticDemo.Summation(1, 2)"
   ]
  },
  {
   "cell_type": "code",
   "execution_count": null,
   "metadata": {
    "dotnet_interactive": {
     "language": "csharp"
    }
   },
   "outputs": [],
   "source": [
    "/// % ============================================\n",
    "/// \\section{Class libraries and Namespaces}\n",
    "/// % ============================================"
   ]
  },
  {
   "cell_type": "code",
   "execution_count": null,
   "metadata": {
    "dotnet_interactive": {
     "language": "csharp"
    }
   },
   "outputs": [],
   "source": [
    "/// Like most programming languages, C\\# also ships with an extensive \n",
    "/// programming library (class libraries), \n",
    "/// e.g. to read and save files, mathematical functions,\n",
    "/// graphical output; The full list of standard libraries can be found at  \n",
    "/// \\url{https://msdn.microsoft.com/en-us/library/gg145045(v=vs.110).aspx}.\n",
    "///\n",
    "/// These libraries are collections of classes; they are organized in \n",
    "/// \\emph{namespaces}."
   ]
  },
  {
   "cell_type": "code",
   "execution_count": null,
   "metadata": {
    "dotnet_interactive": {
     "language": "csharp"
    }
   },
   "outputs": [],
   "source": [
    "/// Any class within a loaded namespace can be accessed directly; e.g. the \n",
    "/// classes \\code{Console} and \\code{Math}, which are part of the \n",
    "/// \\code{System} namespace:"
   ]
  },
  {
   "cell_type": "code",
   "execution_count": null,
   "metadata": {
    "dotnet_interactive": {
     "language": "csharp"
    }
   },
   "outputs": [
    {
     "name": "stdout",
     "output_type": "stream",
     "text": [
      "Hello World!\r\n"
     ]
    }
   ],
   "source": [
    "Console.WriteLine(\"Hello World!\");"
   ]
  },
  {
   "cell_type": "code",
   "execution_count": null,
   "metadata": {
    "dotnet_interactive": {
     "language": "csharp"
    }
   },
   "outputs": [],
   "source": [
    "/// (By the way: the \\code{Console} class, resp. the \n",
    "/// \\code{Console.WriteLine} method is the preffered way to write \n",
    "/// text output (for non-windowed apps without graphical user interface).\n",
    "/// In \\BoSSSpad{}, it is very handy if one wants to write more information\n",
    "/// than just the last object in a snippet.)"
   ]
  },
  {
   "cell_type": "code",
   "execution_count": null,
   "metadata": {
    "dotnet_interactive": {
     "language": "csharp"
    }
   },
   "outputs": [],
   "source": [
    "Math.Sin(2.0);"
   ]
  },
  {
   "cell_type": "code",
   "execution_count": null,
   "metadata": {
    "dotnet_interactive": {
     "language": "csharp"
    }
   },
   "outputs": [],
   "source": [
    "/// This is the same as calling the methods by their full \n",
    "/// \\emph{namespace path}:"
   ]
  },
  {
   "cell_type": "code",
   "execution_count": null,
   "metadata": {
    "dotnet_interactive": {
     "language": "csharp"
    }
   },
   "outputs": [
    {
     "name": "stdout",
     "output_type": "stream",
     "text": [
      "Hello World!\r\n"
     ]
    }
   ],
   "source": [
    "System.Console.WriteLine(\"Hello World!\");"
   ]
  },
  {
   "cell_type": "code",
   "execution_count": null,
   "metadata": {
    "dotnet_interactive": {
     "language": "csharp"
    }
   },
   "outputs": [],
   "source": [
    "System.Math.Sin(2.0);"
   ]
  },
  {
   "cell_type": "code",
   "execution_count": null,
   "metadata": {
    "dotnet_interactive": {
     "language": "csharp"
    }
   },
   "outputs": [],
   "source": [
    "/// If a namespace is not loaded, its classes must be accessed via their \n",
    "/// full path, e.g."
   ]
  },
  {
   "cell_type": "code",
   "execution_count": null,
   "metadata": {
    "dotnet_interactive": {
     "language": "csharp"
    }
   },
   "outputs": [],
   "source": [
    "System.Collections.BitArray ba = new System.Collections.BitArray(3);"
   ]
  },
  {
   "cell_type": "code",
   "execution_count": null,
   "metadata": {
    "dotnet_interactive": {
     "language": "csharp"
    }
   },
   "outputs": [],
   "source": [
    "/// If we load the namespace by the \\code{using} keyword, we can \n",
    "/// access the \\code{BitArray} class directly:"
   ]
  },
  {
   "cell_type": "code",
   "execution_count": null,
   "metadata": {
    "dotnet_interactive": {
     "language": "csharp"
    }
   },
   "outputs": [],
   "source": [
    "using System.Collections;"
   ]
  },
  {
   "cell_type": "code",
   "execution_count": null,
   "metadata": {
    "dotnet_interactive": {
     "language": "csharp"
    }
   },
   "outputs": [],
   "source": [
    "BitArray ba = new BitArray(3);"
   ]
  },
  {
   "cell_type": "code",
   "execution_count": null,
   "metadata": {
    "dotnet_interactive": {
     "language": "csharp"
    }
   },
   "outputs": [],
   "source": [
    "/// Note that, in order to work with a class library, \n",
    "/// it may not be enough to just add a using directive.\n",
    "/// All libraries are contained in \\texttt{dll} files, e.g. \n",
    "/// \\texttt{System.dll} (standard C\\# library) or \\texttt{BoSSS.foundation.dll}\n",
    "/// (part of \\BoSSS).\n",
    "///\n",
    "/// These files must be loaded before any class from the library can be used.\n",
    "/// (Namespaces are only for the internal organization of the library.)\n",
    "/// Initially, \\BoSSSpad{} load a set of libraries which are useful for working\n",
    "/// with \\BoSSS. For most use-cases, this set may be sufficient; however,\n",
    "/// not that by the \n",
    "/// \\code{Mono.\\allowbreak CSharp.\\allowbreak InteractiveBase.\\allowbreak LoadAssembly(string)} method, \n",
    "/// it is possible to load further assemblies."
   ]
  },
  {
   "cell_type": "code",
   "execution_count": null,
   "metadata": {
    "dotnet_interactive": {
     "language": "csharp"
    }
   },
   "outputs": [],
   "source": [
    "/// % ============================================\n",
    "/// \\section{Control Flow}\n",
    "/// % ============================================"
   ]
  },
  {
   "cell_type": "code",
   "execution_count": null,
   "metadata": {
    "dotnet_interactive": {
     "language": "csharp"
    }
   },
   "outputs": [],
   "source": [
    "/// Regarding the standard syntax of the language for implementing \n",
    "/// a function, C\\# designers tried to stay close to popular\n",
    "/// existing languages like C, C++ and Java.\n",
    "/// In this tutorial, we briefly discuss two control structures, branches\n",
    "/// and loops."
   ]
  },
  {
   "cell_type": "code",
   "execution_count": null,
   "metadata": {
    "dotnet_interactive": {
     "language": "csharp"
    }
   },
   "outputs": [],
   "source": [
    "/// At first, the \\code{if}-branch;\n",
    "/// We use a random number generator create random input data for our \n",
    "/// example. Therefore, the following snippet runs differently each time\n",
    "/// it is executed:"
   ]
  },
  {
   "cell_type": "code",
   "execution_count": null,
   "metadata": {
    "dotnet_interactive": {
     "language": "csharp"
    }
   },
   "outputs": [
    {
     "name": "stdout",
     "output_type": "stream",
     "text": [
      "Random number is 0,54257151183792\n",
      "greater than 1/2\n"
     ]
    }
   ],
   "source": [
    "Random rnd       = new Random(); // Generate new random number generator object\n",
    "double randomVal = rnd.NextDouble();\n",
    "Console.WriteLine(\"Random number is \" + randomVal);\n",
    " \n",
    "// here, the if-clause\n",
    "if(randomVal > 0.5) { // some condition, which is ether true or false\n",
    "    // Code that will be executed when the condition is true\n",
    "    Console.WriteLine(\"greater than 1/2\");    \n",
    "} else {\n",
    "    // Code that will be executed when the condition is false\n",
    "    Console.WriteLine(\"smaller or equal to 1/2\");  \n",
    "}"
   ]
  },
  {
   "cell_type": "code",
   "execution_count": null,
   "metadata": {
    "dotnet_interactive": {
     "language": "csharp"
    }
   },
   "outputs": [],
   "source": [
    "/// Next, the \\code{for}-loop. It has three `Arguments':\n",
    "/// \\begin{itemize} \n",
    "/// \\item\n",
    "/// An initialization code (\\code{int j = 0}): executed \\emph{before} the \n",
    "/// loop starts.\n",
    "///\n",
    "/// \\item\n",
    "/// A runtime condition (\\code{j < J}): this is checked \\emph{before} each \n",
    "/// iteration of the loop; if it is false, the loop terminates.\n",
    "///\n",
    "/// \\item\n",
    "/// An increment statement (\\code{j++}): this is executed \\emph{after} each\n",
    "/// iteration of the loop and usually used to increase or decrease some \n",
    "/// variables value.\n",
    "/// \\end{itemize}"
   ]
  },
  {
   "cell_type": "code",
   "execution_count": null,
   "metadata": {
    "dotnet_interactive": {
     "language": "csharp"
    }
   },
   "outputs": [
    {
     "name": "stdout",
     "output_type": "stream",
     "text": [
      "The sinus of 0 is 0\n",
      "The sinus of 1 is 0,8414709848078965\n",
      "The sinus of 2 is 0,9092974268256817\n",
      "The sinus of 3 is 0,1411200080598672\n",
      "The sinus of 4 is -0,7568024953079282\n",
      "The sinus of 5 is -0,9589242746631385\n",
      "The sinus of 6 is -0,27941549819892586\n"
     ]
    }
   ],
   "source": [
    "int J = 7;\n",
    "for(int j = 0; j < J; j++) {\n",
    "    // code which is executed repeadedly \n",
    "    double s = Math.Sin(j);\n",
    "    Console.WriteLine(\"The sinus of \" + j + \" is \" + s);\n",
    "}"
   ]
  },
  {
   "cell_type": "code",
   "execution_count": null,
   "metadata": {
    "dotnet_interactive": {
     "language": "csharp"
    }
   },
   "outputs": [],
   "source": [
    "/// Another kind of loops is the \\code{foreach} statement. It executes\n",
    "/// the loop body for each element of a list or array:"
   ]
  },
  {
   "cell_type": "code",
   "execution_count": null,
   "metadata": {
    "dotnet_interactive": {
     "language": "csharp"
    }
   },
   "outputs": [
    {
     "name": "stdout",
     "output_type": "stream",
     "text": [
      "The sinus of 1,2 is 0,9320390859672263\n",
      "The sinus of -3,4 is 0,2555411020268312\n",
      "The sinus of 7,3 is 0,8504366206285644\n",
      "The sinus of 3,1 is 0,04158066243329049\n",
      "The sinus of 3,14 is 0,0015926529164868282\n"
     ]
    }
   ],
   "source": [
    "double[] SomeValues = new double[] { 1.2, -3.4, 7.3, 3.1, 3.14 };\n",
    "foreach(double x in SomeValues) {\n",
    "    double s = Math.Sin(x);\n",
    "    Console.WriteLine(\"The sinus of \" + x + \" is \" + s);\n",
    "}"
   ]
  },
  {
   "cell_type": "code",
   "execution_count": null,
   "metadata": {
    "dotnet_interactive": {
     "language": "csharp"
    }
   },
   "outputs": [],
   "source": [
    "/// % ============================================\n",
    "/// \\section{Functions, Methods and Delegates}\n",
    "/// % ============================================"
   ]
  },
  {
   "cell_type": "code",
   "execution_count": null,
   "metadata": {
    "dotnet_interactive": {
     "language": "csharp"
    }
   },
   "outputs": [],
   "source": [
    "/// In its heart, C\\# is an object-oriented programming language, and \n",
    "/// methods are implemented in a imperative style. However, the designers\n",
    "/// also included concepts from the functional programming model.\n",
    "/// A key idea of functional programming is that functions/methods can be \n",
    "/// treated as variables; such variables are called \\emph{delegates}.\n",
    "///\n",
    "/// In order to demonstrate the use of delegates, we create a class with \n",
    "/// some static methods:"
   ]
  },
  {
   "cell_type": "code",
   "execution_count": null,
   "metadata": {
    "dotnet_interactive": {
     "language": "csharp"
    }
   },
   "outputs": [],
   "source": [
    "class DelDemo {\n",
    "    public static double Pow2(int x, float z) {\n",
    "        return x*x*z;\n",
    "    }\n",
    "    public static void Print(int x, double y) {\n",
    "        Console.Write(\"Got the numbers \" + x + \" and \" + y + \".\");\n",
    "    }    \n",
    "}"
   ]
  },
  {
   "cell_type": "code",
   "execution_count": null,
   "metadata": {
    "dotnet_interactive": {
     "language": "csharp"
    }
   },
   "outputs": [],
   "source": [
    "/// Now, we want to create variables/delegates which \\emph{point} to the \n",
    "/// functions/methods defined above. As for any variable declaration, we \n",
    "/// need to specify type and name."
   ]
  },
  {
   "cell_type": "code",
   "execution_count": null,
   "metadata": {
    "dotnet_interactive": {
     "language": "csharp"
    }
   },
   "outputs": [],
   "source": [
    "/// For functions which have a return type, it works like this:"
   ]
  },
  {
   "cell_type": "code",
   "execution_count": null,
   "metadata": {
    "dotnet_interactive": {
     "language": "csharp"
    }
   },
   "outputs": [],
   "source": [
    "// Note: the last type in the '< >' - List:\n",
    "// * first, all arguments of the function\n",
    "// * finally, the return type \n",
    "Func<int,float,double> delPow2 = DelDemo.Pow2;"
   ]
  },
  {
   "cell_type": "code",
   "execution_count": null,
   "metadata": {
    "dotnet_interactive": {
     "language": "csharp"
    }
   },
   "outputs": [],
   "source": [
    "/// Then, the method can be called via the delegate:"
   ]
  },
  {
   "cell_type": "code",
   "execution_count": null,
   "metadata": {
    "dotnet_interactive": {
     "language": "csharp"
    }
   },
   "outputs": [
    {
     "data": {
      "text/html": [
       "<div class=\"dni-plaintext\">4.400000095367432</div>"
      ]
     },
     "execution_count": 117,
     "metadata": {},
     "output_type": "execute_result"
    }
   ],
   "source": [
    "// Note: the 'f'-suffix is for single precision types; this also shows round-of\n",
    "// errors of floating point arithmetics \n",
    "delPow2(2, 1.1f)"
   ]
  },
  {
   "cell_type": "code",
   "execution_count": null,
   "metadata": {
    "dotnet_interactive": {
     "language": "csharp"
    }
   },
   "outputs": [],
   "source": [
    "/// Functions without a return type (void) are also called \\emph{actions}:"
   ]
  },
  {
   "cell_type": "code",
   "execution_count": null,
   "metadata": {
    "dotnet_interactive": {
     "language": "csharp"
    }
   },
   "outputs": [],
   "source": [
    "Action<int,double> a = DelDemo.Print;"
   ]
  },
  {
   "cell_type": "code",
   "execution_count": null,
   "metadata": {
    "dotnet_interactive": {
     "language": "csharp"
    }
   },
   "outputs": [
    {
     "name": "stdout",
     "output_type": "stream",
     "text": [
      "Got the numbers 1 and 1,2."
     ]
    }
   ],
   "source": [
    "a(1,1.2)"
   ]
  },
  {
   "cell_type": "code",
   "execution_count": null,
   "metadata": {
    "dotnet_interactive": {
     "language": "csharp"
    }
   },
   "outputs": [],
   "source": [
    "/// By the keyword \\code{delagate}, C\\# designers finally (in the C\\# version \n",
    "/// 3.0) reversed their original decision that functions are only allowed \n",
    "/// within classes by the introduction of anonymous functions:"
   ]
  },
  {
   "cell_type": "code",
   "execution_count": null,
   "metadata": {
    "dotnet_interactive": {
     "language": "csharp"
    }
   },
   "outputs": [],
   "source": [
    "delPow2 = delegate(int x, float z) {\n",
    "    double retval;\n",
    "    retval = x*x*z*2.0;\n",
    "    return retval;\n",
    "};"
   ]
  },
  {
   "cell_type": "code",
   "execution_count": null,
   "metadata": {
    "dotnet_interactive": {
     "language": "csharp"
    }
   },
   "outputs": [],
   "source": [
    "/// Now, the variable \\code{delPow2} does not anymore points to the method \n",
    "/// \\code{DelDemo.Pow2}, but to the newly defined, anonymous function:"
   ]
  },
  {
   "cell_type": "code",
   "execution_count": null,
   "metadata": {
    "dotnet_interactive": {
     "language": "csharp"
    }
   },
   "outputs": [],
   "source": [
    "delPow2(2, 1.1f);"
   ]
  },
  {
   "cell_type": "code",
   "execution_count": null,
   "metadata": {
    "dotnet_interactive": {
     "language": "csharp"
    }
   },
   "outputs": [],
   "source": [
    "/// To make notation more compact, a function-like syntax was introduced:"
   ]
  },
  {
   "cell_type": "code",
   "execution_count": null,
   "metadata": {
    "dotnet_interactive": {
     "language": "csharp"
    }
   },
   "outputs": [],
   "source": [
    "delPow2 = (x, z) => x*x*z*4.0;"
   ]
  },
  {
   "cell_type": "code",
   "execution_count": null,
   "metadata": {
    "dotnet_interactive": {
     "language": "csharp"
    }
   },
   "outputs": [
    {
     "data": {
      "text/html": [
       "<div class=\"dni-plaintext\">17.600000381469727</div>"
      ]
     },
     "execution_count": 127,
     "metadata": {},
     "output_type": "execute_result"
    }
   ],
   "source": [
    "delPow2(2, 1.1f)"
   ]
  },
  {
   "cell_type": "code",
   "execution_count": null,
   "metadata": {
    "dotnet_interactive": {
     "language": "csharp"
    }
   },
   "outputs": [],
   "source": [
    "/// Since delegates can be treated as normal variables, the can also be used\n",
    "/// as arguments to other functions; here is a more advanced example,\n",
    "/// an action (no return value) which takes as inputs \n",
    "/// another action, a function and an integer value:"
   ]
  },
  {
   "cell_type": "code",
   "execution_count": null,
   "metadata": {
    "dotnet_interactive": {
     "language": "csharp"
    }
   },
   "outputs": [],
   "source": [
    "Action<Action<int,double>,Func<int,float,double>,int> apply = \n",
    "    delegate(Action<int,double> act, Func<int,float,double> fun, int i) {\n",
    "        float f = 1.0f;\n",
    " \n",
    "        double y = fun(i, f); // apply function 'fun' to argument 'i'\n",
    "        act(i, y);            // hand both numbers to action 'act'\n",
    " \n",
    "        return; \n",
    "    };"
   ]
  },
  {
   "cell_type": "code",
   "execution_count": null,
   "metadata": {
    "dotnet_interactive": {
     "language": "csharp"
    }
   },
   "outputs": [
    {
     "name": "stdout",
     "output_type": "stream",
     "text": [
      "Got the numbers 2 and 16."
     ]
    }
   ],
   "source": [
    "apply(a,delPow2,2);"
   ]
  },
  {
   "cell_type": "code",
   "execution_count": null,
   "metadata": {
    "dotnet_interactive": {
     "language": "csharp"
    }
   },
   "outputs": [],
   "source": [
    "/// % ============================================\n",
    "/// \\section{Inheritance}\n",
    "/// % ============================================"
   ]
  },
  {
   "cell_type": "code",
   "execution_count": null,
   "metadata": {
    "dotnet_interactive": {
     "language": "csharp"
    }
   },
   "outputs": [],
   "source": [
    "/// As already discussed, classes are blueprints for objects: once a class\n",
    "/// is implemented, it can be used to create an infinite number of \n",
    "/// objects. Of course, only until the computers memory is full.\n",
    "///\n",
    "/// The model of a single blueprint is, however, sometimes a bit inflexible.\n",
    "/// engineers know this for a long time: in a group of products, you \n",
    "/// may have two products that have a lot in common, but also significant\n",
    "/// differences regarding some functionality.\n",
    "///\n",
    "/// Object oriented programming languages provide the concept of inheritance:\n",
    "/// Common functionality is implemented in a common base class."
   ]
  },
  {
   "cell_type": "code",
   "execution_count": null,
   "metadata": {
    "dotnet_interactive": {
     "language": "csharp"
    }
   },
   "outputs": [],
   "source": [
    "/// First we define some class; functions or properties which are decorated\n",
    "/// as \\code{virtual}, can be"
   ]
  },
  {
   "cell_type": "code",
   "execution_count": null,
   "metadata": {
    "dotnet_interactive": {
     "language": "csharp"
    }
   },
   "outputs": [
    {
     "name": "stderr",
     "output_type": "stream",
     "text": [
      "\r\n",
      "(2,16): warning CS0649: Field 'BaseClass.num' is never assigned to, and will always have its default value 0\r\n",
      "\r\n"
     ]
    }
   ],
   "source": [
    "class BaseClass {\n",
    "    public int num;     \n",
    " \n",
    "    // this is a normal method, which will be accessible form \n",
    "    // any derived class\n",
    "    public void Method1() {\n",
    "        Console.WriteLine(\"BaseClass: Hello from Method1, num is \" + num);    \n",
    "    }\n",
    " \n",
    "    // this is a virtual method, its functionality can be overriden in derived\n",
    "    // classes\n",
    "    public virtual void VirtMeth(int i) {\n",
    "        Console.WriteLine(\"BaseClass: VirtMethod, i is \" + i);\n",
    "    }\n",
    "}"
   ]
  },
  {
   "cell_type": "code",
   "execution_count": null,
   "metadata": {
    "dotnet_interactive": {
     "language": "csharp"
    }
   },
   "outputs": [],
   "source": [
    "/// Now, we derive two classes from \\code{BaseClass}:"
   ]
  },
  {
   "cell_type": "code",
   "execution_count": null,
   "metadata": {
    "dotnet_interactive": {
     "language": "csharp"
    }
   },
   "outputs": [],
   "source": [
    "class DerivA : BaseClass { // indicates that thes class is derived \n",
    "                           // from 'BaseClass'\n",
    " \n",
    "    // We can add new members:\n",
    "    public double SomeVal;\n",
    " \n",
    "    // a private member:\n",
    "    Random rnd = new Random();\n",
    " \n",
    "    // And override functionality from the base class\n",
    "    public override void VirtMeth(int i) {\n",
    "        SomeVal = rnd.NextDouble() + i;\n",
    "        Console.WriteLine(\"DerivA: VirtMethod, random value is \" + SomeVal);     \n",
    "    }\n",
    "}"
   ]
  },
  {
   "cell_type": "code",
   "execution_count": null,
   "metadata": {
    "dotnet_interactive": {
     "language": "csharp"
    }
   },
   "outputs": [],
   "source": [
    "class DerivB : BaseClass {\n",
    " \n",
    "    // Again, some override:\n",
    "    public override void VirtMeth(int i) {\n",
    "        num += i; // we can modify members of the base class\n",
    "        Console.WriteLine(\"DerivB: VirtMethod, num is \" + num);     \n",
    "    }\n",
    "}"
   ]
  },
  {
   "cell_type": "code",
   "execution_count": null,
   "metadata": {
    "dotnet_interactive": {
     "language": "csharp"
    }
   },
   "outputs": [],
   "source": [
    "/// As usual, we can instantiate and use \\code{BaseClass}:"
   ]
  },
  {
   "cell_type": "code",
   "execution_count": null,
   "metadata": {
    "dotnet_interactive": {
     "language": "csharp"
    }
   },
   "outputs": [
    {
     "name": "stdout",
     "output_type": "stream",
     "text": [
      "BaseClass: Hello from Method1, num is 0\n",
      "BaseClass: VirtMethod, i is 1\n"
     ]
    }
   ],
   "source": [
    "BaseClass b = new BaseClass();\n",
    "b.Method1();\n",
    "b.VirtMeth(1); // calls base implementation"
   ]
  },
  {
   "cell_type": "code",
   "execution_count": null,
   "metadata": {
    "dotnet_interactive": {
     "language": "csharp"
    }
   },
   "outputs": [],
   "source": [
    "/// Of course, we can do the same with \\code{DerivA}; since it is derived from\n",
    "/// \\code{BaseClass}, an object of type \\code{DerivA} can be stored in\n",
    "/// (resp. referenced from) a variable of type \\code{BaseClass}. \n",
    "/// In short, any \\code{DerivA}-object is autamtically also \n",
    "/// a \\code{BaseClass}-object, due to inhertance (but not the other way)."
   ]
  },
  {
   "cell_type": "code",
   "execution_count": null,
   "metadata": {
    "dotnet_interactive": {
     "language": "csharp"
    }
   },
   "outputs": [
    {
     "name": "stdout",
     "output_type": "stream",
     "text": [
      "BaseClass: Hello from Method1, num is 0\n",
      "DerivA: VirtMethod, random value is 1,406775454714324\n"
     ]
    }
   ],
   "source": [
    "BaseClass b = new DerivA(); // we instantiate an object of type 'DerivA'\n",
    "                            // but the variable is of type 'BaseClass'.\n",
    "b.Method1();   // non-overridden functionality: from base implementation\n",
    "b.VirtMeth(1); // calls override implementation"
   ]
  },
  {
   "cell_type": "code",
   "execution_count": null,
   "metadata": {
    "dotnet_interactive": {
     "language": "csharp"
    }
   },
   "outputs": [],
   "source": [
    "/// We can also store \\code{DerivB}-objects in variable \\code{b}:"
   ]
  },
  {
   "cell_type": "code",
   "execution_count": null,
   "metadata": {
    "dotnet_interactive": {
     "language": "csharp"
    }
   },
   "outputs": [
    {
     "name": "stdout",
     "output_type": "stream",
     "text": [
      "BaseClass: Hello from Method1, num is 0\n",
      "DerivB: VirtMethod, num is 1\n",
      "DerivB: VirtMethod, num is 2\n"
     ]
    }
   ],
   "source": [
    "b = new DerivB();\n",
    "b.Method1();\n",
    "b.VirtMeth(1); // 'DerivB.VirtMeth' modifies the internal state of the object,\n",
    "b.VirtMeth(1); // so the result is different for each call"
   ]
  },
  {
   "cell_type": "code",
   "execution_count": null,
   "metadata": {
    "dotnet_interactive": {
     "language": "csharp"
    }
   },
   "outputs": [],
   "source": [
    "/// Note: implicitly, all classes in C\\# are derived vom the class \n",
    "/// \\code{System.Object}, and has all the methods of this class."
   ]
  },
  {
   "cell_type": "code",
   "execution_count": null,
   "metadata": {
    "dotnet_interactive": {
     "language": "csharp"
    }
   },
   "outputs": [
    {
     "data": {
      "text/plain": [
       "Submission#137+BaseClass"
      ]
     },
     "execution_count": 145,
     "metadata": {},
     "output_type": "execute_result"
    }
   ],
   "source": [
    "object o; // The 'object' keyword is a build-in alias for 'System.Object'\n",
    "o = new BaseClass();\n",
    "o.ToString()  // 'ToString' is a virtual method of 'System.Object', which,\n",
    "              // if not overriden only retunrs the name of the class"
   ]
  },
  {
   "cell_type": "code",
   "execution_count": null,
   "metadata": {
    "dotnet_interactive": {
     "language": "csharp"
    }
   },
   "outputs": [],
   "source": [
    "/// % ============================================\n",
    "/// \\subsection{Abstract Classes}\n",
    "/// % ============================================"
   ]
  },
  {
   "cell_type": "code",
   "execution_count": null,
   "metadata": {
    "dotnet_interactive": {
     "language": "csharp"
    }
   },
   "outputs": [],
   "source": [
    "/// In lots of situations, there is no reasonable base-implementation for\n",
    "/// a method."
   ]
  },
  {
   "cell_type": "code",
   "execution_count": null,
   "metadata": {
    "dotnet_interactive": {
     "language": "csharp"
    }
   },
   "outputs": [
    {
     "name": "stderr",
     "output_type": "stream",
     "text": [
      "\r\n",
      "(4,16): warning CS0649: Field 'AbstractBase.num' is never assigned to, and will always have its default value 0\r\n",
      "\r\n"
     ]
    }
   ],
   "source": [
    "abstract class AbstractBase { // if the class conatains any abstract member,\n",
    "                              // it must be declared as abstract.\n",
    " \n",
    "    public int num;     \n",
    " \n",
    "    // like above, a normal method:\n",
    "    public void Method1() {\n",
    "        Console.WriteLine(\"AbstractBase: Hello from Method1, num is \" + num);    \n",
    "    }\n",
    " \n",
    "    // this is an abstract method, for which only the \n",
    "    // signature (return value, arguments, etc.) is specified, but no \n",
    "    // implementation is given:\n",
    "    public abstract void VirtMeth(int i);\n",
    "}"
   ]
  },
  {
   "cell_type": "code",
   "execution_count": null,
   "metadata": {
    "dotnet_interactive": {
     "language": "csharp"
    }
   },
   "outputs": [],
   "source": [
    "/// Note:\n",
    "/// \\begin{itemize}\n",
    "/// \\item\n",
    "/// Virtual methods can be overridden, i.e. the override is optional\n",
    "///\n",
    "/// \\item\n",
    "/// Abstract methods \\emph{must} be overridden\n",
    "///\n",
    "/// \\item\n",
    "/// Abstract classes cannot be instantiated, since functionality is missing\n",
    "///\n",
    "/// \\item\n",
    "/// Abstract classes can be used as a variable type\n",
    "/// \\end{itemize}"
   ]
  },
  {
   "cell_type": "code",
   "execution_count": null,
   "metadata": {
    "dotnet_interactive": {
     "language": "csharp"
    }
   },
   "outputs": [],
   "source": [
    "class DerivC : AbstractBase {\n",
    "    // we are enforced to override the base method\n",
    "    public override void VirtMeth(int i) {\n",
    "        Console.WriteLine(\"DerivC: VirtMeth, i is \" + i);    \n",
    "    }\n",
    "}"
   ]
  },
  {
   "cell_type": "code",
   "execution_count": null,
   "metadata": {
    "dotnet_interactive": {
     "language": "csharp"
    }
   },
   "outputs": [
    {
     "name": "stdout",
     "output_type": "stream",
     "text": [
      "DerivC: VirtMeth, i is 2\r\n"
     ]
    }
   ],
   "source": [
    "AbstractBase a;   // use 'AbstractBase' as a variable type\n",
    "a = new DerivC(); // instantiate a 'DerivC' object, store it in 'a'\n",
    "a.VirtMeth(2);    // call the objects methods"
   ]
  },
  {
   "cell_type": "code",
   "execution_count": null,
   "metadata": {
    "dotnet_interactive": {
     "language": "csharp"
    }
   },
   "outputs": [],
   "source": [
    "/// % ============================================\n",
    "/// \\subsection{Interfaces}\n",
    "/// % ============================================"
   ]
  },
  {
   "cell_type": "code",
   "execution_count": null,
   "metadata": {
    "dotnet_interactive": {
     "language": "csharp"
    }
   },
   "outputs": [],
   "source": [
    "/// When we finish the concept of abstract classes, we come to classes that \n",
    "/// \\emph{only} have abstract members. These are called \\emph{interfaces} \n",
    "/// and C\\# has a special keyword for them:"
   ]
  },
  {
   "cell_type": "code",
   "execution_count": null,
   "metadata": {
    "dotnet_interactive": {
     "language": "csharp"
    }
   },
   "outputs": [],
   "source": [
    "interface IMethodsInterface {\n",
    "    void MethodA(); // methods in an interface are always public and need   \n",
    "    void MethodB(); // no modifier.\n",
    "}"
   ]
  },
  {
   "cell_type": "code",
   "execution_count": null,
   "metadata": {
    "dotnet_interactive": {
     "language": "csharp"
    }
   },
   "outputs": [],
   "source": [
    "interface IPropertyInterface {\n",
    "    int Property { get; set; }    \n",
    "}"
   ]
  },
  {
   "cell_type": "code",
   "execution_count": null,
   "metadata": {
    "dotnet_interactive": {
     "language": "csharp"
    }
   },
   "outputs": [],
   "source": [
    "/// Note: there is a widly used convention to start interface names with \n",
    "/// capital letter `I'. This is only a convention, not a rule."
   ]
  },
  {
   "cell_type": "code",
   "execution_count": null,
   "metadata": {
    "dotnet_interactive": {
     "language": "csharp"
    }
   },
   "outputs": [],
   "source": [
    "/// An important difference between classes and interfaces is, that\n",
    "/// any class can have \\emph{only one base-class}, but it can implement\n",
    "/// an \\emph{unlimited number of interfaces}:"
   ]
  },
  {
   "cell_type": "code",
   "execution_count": null,
   "metadata": {
    "dotnet_interactive": {
     "language": "csharp"
    }
   },
   "outputs": [],
   "source": [
    "class DerivD : AbstractBase, IMethodsInterface, IPropertyInterface {\n",
    "    // form 'AbstractBase'\n",
    "    public override void VirtMeth(int i) {\n",
    "        Console.WriteLine(\"DerivD: VirtMeth, i is \" + i);    \n",
    "    }\n",
    " \n",
    "    // from 'IMethodsInterface'\n",
    "    public void MethodA() {\n",
    "        Console.WriteLine(\"DerivD: MethodA\");\n",
    "    }\n",
    "    public void MethodB() {\n",
    "        Console.WriteLine(\"DerivD: MethodB\");\n",
    "    }\n",
    " \n",
    "    // form 'IPropertyInterface'\n",
    "    public int Property { \n",
    "        get { \n",
    "            Console.WriteLine(\"This is the get property.\");\n",
    "            return num;  \n",
    "        } \n",
    "        set { num = value; }\n",
    "    }\n",
    "}"
   ]
  },
  {
   "cell_type": "code",
   "execution_count": null,
   "metadata": {
    "dotnet_interactive": {
     "language": "csharp"
    }
   },
   "outputs": [],
   "source": [
    "/// Of course, we can instantiate \\code{DerivD} and call any method or \n",
    "/// property:"
   ]
  },
  {
   "cell_type": "code",
   "execution_count": null,
   "metadata": {
    "dotnet_interactive": {
     "language": "csharp"
    }
   },
   "outputs": [
    {
     "name": "stdout",
     "output_type": "stream",
     "text": [
      "DerivD: VirtMeth, i is 1\n",
      "DerivD: MethodB\n"
     ]
    }
   ],
   "source": [
    "DerivD d = new DerivD();\n",
    "d.VirtMeth(1);\n",
    "d.MethodB();"
   ]
  },
  {
   "cell_type": "code",
   "execution_count": null,
   "metadata": {
    "dotnet_interactive": {
     "language": "csharp"
    }
   },
   "outputs": [],
   "source": [
    "/// But we can also store the object in references with the interface type:"
   ]
  },
  {
   "cell_type": "code",
   "execution_count": null,
   "metadata": {
    "dotnet_interactive": {
     "language": "csharp"
    }
   },
   "outputs": [
    {
     "name": "stdout",
     "output_type": "stream",
     "text": [
      "DerivD: MethodA\n",
      "DerivD: MethodB\n"
     ]
    }
   ],
   "source": [
    "IMethodsInterface imd = new DerivD();\n",
    "imd.MethodA();\n",
    "imd.MethodB();"
   ]
  },
  {
   "cell_type": "code",
   "execution_count": null,
   "metadata": {
    "dotnet_interactive": {
     "language": "csharp"
    }
   },
   "outputs": [
    {
     "name": "stdout",
     "output_type": "stream",
     "text": [
      "This is the get property.\r\n"
     ]
    },
    {
     "data": {
      "text/html": [
       "<div class=\"dni-plaintext\">44</div>"
      ]
     },
     "execution_count": 163,
     "metadata": {},
     "output_type": "execute_result"
    }
   ],
   "source": [
    "IPropertyInterface ipd = new DerivD();\n",
    "ipd.Property           = 44;\n",
    "ipd.Property"
   ]
  },
  {
   "cell_type": "code",
   "execution_count": null,
   "metadata": {
    "dotnet_interactive": {
     "language": "csharp"
    }
   },
   "outputs": [],
   "source": [
    "/// % ============================================\n",
    "/// \\section{The execution model of \\BoSSSpad}\n",
    "/// % ============================================"
   ]
  },
  {
   "cell_type": "code",
   "execution_count": null,
   "metadata": {
    "dotnet_interactive": {
     "language": "csharp"
    }
   },
   "outputs": [],
   "source": [
    "/// The term which describes the execution model of \\BoSSSpad{} best is \n",
    "/// called \\emph{read-eval-print-loop (REPL)}:\n",
    "/// commands are read from the input window, evaluated by the interpreter,\n",
    "/// the result is printed to the screen and this is repeated in an infinite \n",
    "/// loop (until the app is terminated).\n",
    "///\n",
    "/// Each time a command is executed, the internal state of the interpreter\n",
    "/// is changed. E.g. new variables or classes are defined. If a variable or  \n",
    "/// class name is already used, it will be overwritten. The special command\n",
    "/// \\code{restart} resets the interpreter to an initial state.\n",
    "///\n",
    "/// On top of that, \\BoSSSpad{} puts a document model:\n",
    "/// the user can navigate backward and re-execute any command; this may or \n",
    "/// may not change the behavior of the entire script. A simple example is:"
   ]
  },
  {
   "cell_type": "code",
   "execution_count": null,
   "metadata": {
    "dotnet_interactive": {
     "language": "csharp"
    }
   },
   "outputs": [],
   "source": [
    "/// We are defining an \\code{int} variable:"
   ]
  },
  {
   "cell_type": "code",
   "execution_count": null,
   "metadata": {
    "dotnet_interactive": {
     "language": "csharp"
    }
   },
   "outputs": [],
   "source": [
    "int i = 9;           // int-definition"
   ]
  },
  {
   "cell_type": "code",
   "execution_count": null,
   "metadata": {
    "dotnet_interactive": {
     "language": "csharp"
    }
   },
   "outputs": [],
   "source": [
    "/// Next, we overwrite the name \\code{i} with an new variable"
   ]
  },
  {
   "cell_type": "code",
   "execution_count": null,
   "metadata": {
    "dotnet_interactive": {
     "language": "csharp"
    }
   },
   "outputs": [],
   "source": [
    "double i = 1.1;      // double-definition"
   ]
  },
  {
   "cell_type": "code",
   "execution_count": null,
   "metadata": {
    "dotnet_interactive": {
     "language": "csharp"
    }
   },
   "outputs": [],
   "source": [
    "/// And execute some code which depends on \\code{i}, e.g.:"
   ]
  },
  {
   "cell_type": "code",
   "execution_count": null,
   "metadata": {
    "dotnet_interactive": {
     "language": "csharp"
    }
   },
   "outputs": [],
   "source": [
    "/// Obviously, if we would navigate back to the \n",
    "/// \\texttt{int-definition}-statement, re-execute it, but skip the execution\n",
    "/// of the \\texttt{double-definition} statement, the following statement \n",
    "/// will behave differently:"
   ]
  },
  {
   "cell_type": "code",
   "execution_count": null,
   "metadata": {
    "dotnet_interactive": {
     "language": "csharp"
    }
   },
   "outputs": [
    {
     "data": {
      "text/html": [
       "<div class=\"dni-plaintext\">0.4535961214255773</div>"
      ]
     },
     "execution_count": 172,
     "metadata": {},
     "output_type": "execute_result"
    }
   ],
   "source": [
    "Math.Cos(i)         // depends on last 'i'"
   ]
  },
  {
   "cell_type": "code",
   "execution_count": null,
   "metadata": {
    "dotnet_interactive": {
     "language": "csharp"
    }
   },
   "outputs": [],
   "source": [
    "/// As we see,...\n",
    "/// \\begin{itemize}\n",
    "/// \\item\n",
    "/// the result of a snippet depends on the sequence of previously \n",
    "/// \\emph{executed} snippets\n",
    "///\n",
    "/// \\item\n",
    "/// navigation within the worksheet \\emph{alters the sequence} in which \n",
    "/// snippets are executed -- this may have side-effects.\n",
    "/// \\end{itemize}\n",
    "/// This behavior might seem confusing (and very often, it is). However, \n",
    "/// it is desired because it speeds up the workflow, because it allows to \n",
    "/// alter or correct a script, without (time-consuming) re-evaluation\n",
    "/// of the entire script.\n",
    "///\n",
    "/// As a rule of thumb, take this:\n",
    "/// \\begin{itemize}\n",
    "/// \\item\n",
    "/// If we want to alter a snippet above, we only need to re-execute everything\n",
    "/// which depends on this snippet. The dependent snippets must be identified \n",
    "/// by the user, which is a good coding exercise.\n",
    "///\n",
    "/// \\item\n",
    "/// A simple solution is to re-evaluate everything downward of the altered \n",
    "/// snippet.\n",
    "///\n",
    "/// \\item\n",
    "/// As an ultima ratio, one should re-execute the entire worksheet.\n",
    "/// \\end{itemize}"
   ]
  },
  {
   "cell_type": "code",
   "execution_count": null,
   "metadata": {
    "dotnet_interactive": {
     "language": "csharp"
    }
   },
   "outputs": [],
   "source": [
    "/// % ============================================\n",
    "/// \\section{Further reading}\n",
    "/// % ============================================"
   ]
  },
  {
   "cell_type": "code",
   "execution_count": null,
   "metadata": {
    "dotnet_interactive": {
     "language": "csharp"
    }
   },
   "outputs": [],
   "source": [
    "/// Obviously, this minimal tutorial does not cover the entire C\\# language.\n",
    "/// It should, however, demonstrate everything which is needed to understand\n",
    "/// about 90\\% of the tutorials in the \\BoSSS{} handbook.\n",
    "///\n",
    "/// Finally: there are lots of tutorials on C\\# online. Some of them are \n",
    "/// excellent, some are not so good. \n",
    "/// And: Google is your friend (at least in this respect)..."
   ]
  }
 ],
 "metadata": {
  "kernelspec": {
   "display_name": ".NET (C#)",
   "language": "C#",
   "name": ".net-csharp"
  },
  "language_info": {
   "name": "C#",
   "version": ""
  }
 },
 "nbformat": 4,
 "nbformat_minor": 4
}