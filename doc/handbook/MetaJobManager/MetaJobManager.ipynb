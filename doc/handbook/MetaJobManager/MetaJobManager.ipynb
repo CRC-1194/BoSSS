{
 "cells": [
  {
   "cell_type": "markdown",
   "metadata": {},
   "source": [
    "# **Worklfow Management and meta job scheduler**\n",
    "\n",
    "This tutorial illustrates how computations can be executed on large \n",
    "(or small) compute servers, aka.\n",
    "high-performance-computers (HPC), aka. compute clusters, aka. supercomputers, etc.\n",
    "\n",
    "This means, the computation is not executed on the local workstation \n",
    "(or laptop) but on some other computer.\n",
    "This approach is particulary handy for large computations, which run\n",
    "for multiple hours or days, since a user can \n",
    "e.g. shutdown or restart his personal computer without killing the compute job. \n",
    "\n",
    "*BoSSS* features a set of classes and routines \n",
    "(an API, application programing interface) for communication with \n",
    "compute clusters. This is especially handy for **scripting**,\n",
    "e.g. for parameter studies, where dozens of computations \n",
    "have to be started and monitored."
   ]
  },
  {
   "cell_type": "markdown",
   "metadata": {},
   "source": [
    "First, we initialize the new worksheet;\n",
    "Note: \n",
    "1. This tutorial can be found in the source code repository as as `MetaJobManager.ipynb`. \n",
    "   One can directly load this into Jupyter to interactively work with the following code examples.\n",
    "2. **In the following line, the reference to `BoSSSpad.dll` is required**. \n",
    "   You must either set `#r \"BoSSSpad.dll\"` to something which is appropirate for your computer\n",
    "   (e.g. `C:\\Program Files (x86)\\FDY\\BoSSS\\bin\\Release\\net5.0\\BoSSSpad.dll` if you installed the binary distribution),\n",
    "   or, if you are working with the source code, you must compile `BoSSSpad` and put it side-by-side to this worksheet file\n",
    "   (from the original location in the repository, you can use the scripts `getbossspad.sh`, resp. `getbossspad.bat`)."
   ]
  },
  {
   "cell_type": "code",
   "execution_count": 1,
   "metadata": {
    "dotnet_interactive": {
     "language": "csharp"
    }
   },
   "outputs": [
    {
     "data": {
      "text/html": [
       "\r\n",
       "<div>\r\n",
       "    <div id='dotnet-interactive-this-cell-67028.Microsoft.DotNet.Interactive.Http.HttpPort' style='display: none'>\r\n",
       "        The below script needs to be able to find the current output cell; this is an easy method to get it.\r\n",
       "    </div>\r\n",
       "    <script type='text/javascript'>\r\n",
       "async function probeAddresses(probingAddresses) {\r\n",
       "    function timeout(ms, promise) {\r\n",
       "        return new Promise(function (resolve, reject) {\r\n",
       "            setTimeout(function () {\r\n",
       "                reject(new Error('timeout'))\r\n",
       "            }, ms)\r\n",
       "            promise.then(resolve, reject)\r\n",
       "        })\r\n",
       "    }\r\n",
       "\r\n",
       "    if (Array.isArray(probingAddresses)) {\r\n",
       "        for (let i = 0; i < probingAddresses.length; i++) {\r\n",
       "\r\n",
       "            let rootUrl = probingAddresses[i];\r\n",
       "\r\n",
       "            if (!rootUrl.endsWith('/')) {\r\n",
       "                rootUrl = `${rootUrl}/`;\r\n",
       "            }\r\n",
       "\r\n",
       "            try {\r\n",
       "                let response = await timeout(1000, fetch(`${rootUrl}discovery`, {\r\n",
       "                    method: 'POST',\r\n",
       "                    cache: 'no-cache',\r\n",
       "                    mode: 'cors',\r\n",
       "                    timeout: 1000,\r\n",
       "                    headers: {\r\n",
       "                        'Content-Type': 'text/plain'\r\n",
       "                    },\r\n",
       "                    body: probingAddresses[i]\r\n",
       "                }));\r\n",
       "\r\n",
       "                if (response.status == 200) {\r\n",
       "                    return rootUrl;\r\n",
       "                }\r\n",
       "            }\r\n",
       "            catch (e) { }\r\n",
       "        }\r\n",
       "    }\r\n",
       "}\r\n",
       "\r\n",
       "function loadDotnetInteractiveApi() {\r\n",
       "    probeAddresses([\"http://130.83.248.207:1000/\", \"http://127.0.0.1:1000/\"])\r\n",
       "        .then((root) => {\r\n",
       "        // use probing to find host url and api resources\r\n",
       "        // load interactive helpers and language services\r\n",
       "        let dotnetInteractiveRequire = require.config({\r\n",
       "        context: '67028.Microsoft.DotNet.Interactive.Http.HttpPort',\r\n",
       "                paths:\r\n",
       "            {\r\n",
       "                'dotnet-interactive': `${root}resources`\r\n",
       "                }\r\n",
       "        }) || require;\r\n",
       "\r\n",
       "            window.dotnetInteractiveRequire = dotnetInteractiveRequire;\r\n",
       "\r\n",
       "            window.configureRequireFromExtension = function(extensionName, extensionCacheBuster) {\r\n",
       "                let paths = {};\r\n",
       "                paths[extensionName] = `${root}extensions/${extensionName}/resources/`;\r\n",
       "                \r\n",
       "                let internalRequire = require.config({\r\n",
       "                    context: extensionCacheBuster,\r\n",
       "                    paths: paths,\r\n",
       "                    urlArgs: `cacheBuster=${extensionCacheBuster}`\r\n",
       "                    }) || require;\r\n",
       "\r\n",
       "                return internalRequire\r\n",
       "            };\r\n",
       "        \r\n",
       "            dotnetInteractiveRequire([\r\n",
       "                    'dotnet-interactive/dotnet-interactive'\r\n",
       "                ],\r\n",
       "                function (dotnet) {\r\n",
       "                    dotnet.init(window);\r\n",
       "                },\r\n",
       "                function (error) {\r\n",
       "                    console.log(error);\r\n",
       "                }\r\n",
       "            );\r\n",
       "        })\r\n",
       "        .catch(error => {console.log(error);});\r\n",
       "    }\r\n",
       "\r\n",
       "// ensure `require` is available globally\r\n",
       "if ((typeof(require) !==  typeof(Function)) || (typeof(require.config) !== typeof(Function))) {\r\n",
       "    let require_script = document.createElement('script');\r\n",
       "    require_script.setAttribute('src', 'https://cdnjs.cloudflare.com/ajax/libs/require.js/2.3.6/require.min.js');\r\n",
       "    require_script.setAttribute('type', 'text/javascript');\r\n",
       "    \r\n",
       "    \r\n",
       "    require_script.onload = function() {\r\n",
       "        loadDotnetInteractiveApi();\r\n",
       "    };\r\n",
       "\r\n",
       "    document.getElementsByTagName('head')[0].appendChild(require_script);\r\n",
       "}\r\n",
       "else {\r\n",
       "    loadDotnetInteractiveApi();\r\n",
       "}\r\n",
       "\r\n",
       "    </script>\r\n",
       "</div>"
      ]
     },
     "metadata": {},
     "output_type": "display_data"
    }
   ],
   "source": [
    "#r \"BoSSSpad.dll\"\n",
    "using System;\n",
    "using System.Collections.Generic;\n",
    "using System.Linq;\n",
    "using ilPSP;\n",
    "using ilPSP.Utils;\n",
    "using BoSSS.Platform;\n",
    "using BoSSS.Foundation;\n",
    "using BoSSS.Foundation.Grid;\n",
    "using BoSSS.Foundation.Grid.Classic;\n",
    "using BoSSS.Foundation.IO;\n",
    "using BoSSS.Solution;\n",
    "using BoSSS.Solution.Control;\n",
    "using BoSSS.Solution.GridImport;\n",
    "using BoSSS.Solution.Statistic;\n",
    "using BoSSS.Solution.Utils;\n",
    "using BoSSS.Solution.Gnuplot;\n",
    "using BoSSS.Application.BoSSSpad;\n",
    "using BoSSS.Application.XNSE_Solver;\n",
    "using static BoSSS.Application.BoSSSpad.BoSSSshell;\n",
    "Init();"
   ]
  },
  {
   "cell_type": "markdown",
   "metadata": {},
   "source": [
    "\n",
    "## Batch Processing\n",
    "\n",
    "First, we have to select a *batch system* (aka.*execution queue*, aka. *queue*) that we want to use.\n",
    "Batch systems are a common approach to organize workloads (aka. compute jobs)\n",
    "on compute clusters.\n",
    "On such systems, a user typically does **not** starts a simulation manually/interactively.\n",
    "Instead, he specifies a so-called *compute job*. The *scheduler* \n",
    "(i.e. the batch system) collects \n",
    "compute jobs from all users on the compute cluster, sorts them according to \n",
    "some priority and puts the jobs into some queue, also called *batch*.\n",
    "The jobs in the batch are then executed in order, depending on the \n",
    "available hardware and the scheduling policies of the system.\n",
    "\n",
    "The *BoSSS* API provides front-ends (clients) for the following \n",
    "batch system software:\n",
    "\n",
    "- `BoSSS.Application.BoSSSpad.SlurmClient` for the \n",
    "Slurm Workload Manager (very prominent on Linux HPC systems)\n",
    "- `BoSSS.Application.BoSSSpad.MsHPC2012Client`\n",
    "for the Microsoft HPC Pack 2012 and higher\n",
    "- `BoSSS.Application.BoSSSpad.MiniBatchProcessorClient` for the \n",
    "mini batch processor, a minimalistic, *BoSSS*-internal batch system which mimiks \n",
    "a supercomputer batch system on the local machine.\n"
   ]
  },
  {
   "cell_type": "markdown",
   "metadata": {},
   "source": [
    "A list of clients for various batch systems, which are loaded at the \n",
    "**restart** command can be configured through the  \n",
    "*\\tt $\\sim$/.BoSSS/etc/BatchProcessorConfig.json*-file.\n",
    "If this file is missing, a default setting, containing a \n",
    "mini batch processor, is initialized. \n",
    "\n",
    "The list of all execution queues can be accessed through:\n",
    "\n",
    "\n"
   ]
  },
  {
   "cell_type": "code",
   "execution_count": 2,
   "metadata": {
    "dotnet_interactive": {
     "language": "csharp"
    }
   },
   "outputs": [
    {
     "data": {
      "text/html": [
       "<table><thead><tr><th><i>index</i></th><th>DeploymentBaseDirectory</th><th>DeployRuntime</th><th>Name</th><th>DotnetRuntime</th><th>Username</th><th>ServerName</th><th>ComputeNodes</th><th>DefaultJobPriority</th><th>SingleNode</th><th>AllowedDatabasesPaths</th></tr></thead><tbody><tr><td>0</td><td>C:\\BoSSStests</td><td><div class=\"dni-plaintext\">False</div></td><td>MSHPC-Gitrunner-HighPrio</td><td>dotnet</td><td>FDY\\jenkinsci</td><td>DC2</td><td><div class=\"dni-plaintext\">[ fdygitrunner ]</div></td><td><span>Highest</span></td><td><div class=\"dni-plaintext\">True</div></td><td><div class=\"dni-plaintext\">[ { C:\\BoSSStests == : LocalMountPath: C:\\BoSSStests, PathAtRemote:  }, { C:\\Users\\jenkinsci\\ == : LocalMountPath: C:\\Users\\jenkinsci\\, PathAtRemote:  } ]</div></td></tr><tr><td>1</td><td>C:\\BoSSStests</td><td><div class=\"dni-plaintext\">False</div></td><td>MSHPC-Gitrunner-DefaultTest</td><td>dotnet</td><td>FDY\\jenkinsci</td><td>DC2</td><td><div class=\"dni-plaintext\">[ fdygitrunner ]</div></td><td><span>Normal</span></td><td><div class=\"dni-plaintext\">True</div></td><td><div class=\"dni-plaintext\">[ { C:\\BoSSStests == : LocalMountPath: C:\\BoSSStests, PathAtRemote:  } ]</div></td></tr><tr><td>2</td><td>\\\\fdygitrunner\\ValidationTests</td><td><div class=\"dni-plaintext\">False</div></td><td>MSHPC-AllNodes</td><td>dotnet</td><td>FDY\\jenkinsci</td><td>DC2</td><td><div class=\"dni-plaintext\">[ hpccluster, hpccluster2 ]</div></td><td><span>Normal</span></td><td><div class=\"dni-plaintext\">True</div></td><td><div class=\"dni-plaintext\">[ { \\\\fdygitrunner\\ValidationTests == : LocalMountPath: \\\\fdygitrunner\\ValidationTests, PathAtRemote:  } ]</div></td></tr></tbody></table>"
      ]
     },
     "execution_count": 2,
     "metadata": {},
     "output_type": "execute_result"
    }
   ],
   "source": [
    "ExecutionQueues"
   ]
  },
  {
   "cell_type": "markdown",
   "metadata": {},
   "source": [
    "For the sake of simplicuity, we pick the first one:"
   ]
  },
  {
   "cell_type": "code",
   "execution_count": 3,
   "metadata": {
    "dotnet_interactive": {
     "language": "csharp"
    }
   },
   "outputs": [],
   "source": [
    "var myBatch = ExecutionQueues[0];"
   ]
  },
  {
   "cell_type": "markdown",
   "metadata": {},
   "source": [
    "### Note on the Mini Batch Processor:\n",
    "The batch processor for local jobs can be started separately (by launching\n",
    "`MiniBatchProcessor.exe` or `dotnet MiniBatchProcessor.dll`), or from the worksheet;\n",
    "In the latter case, it depends on the operating system, whether the \n",
    "`MiniBatchProcessor.exe` is terminated with the notebook kernel, or not.\n",
    "If no mini-batch-processor is running, it is started \n",
    "at the initialization of the workflow management.\n",
    "\n",
    "```csharp\n",
    "MiniBatchProcessor.Server.StartIfNotRunning(false);\n",
    "```"
   ]
  },
  {
   "cell_type": "markdown",
   "metadata": {},
   "source": [
    "\n",
    "## Initializing the workflow management\n",
    "\n",
    "In order to use the workflow management, \n",
    "the very first thing we have to do is to initialize it by defineing \n",
    "a project name. \n",
    "This is used to generate names for the compute jobs and to \n",
    "identify sessions in the database:"
   ]
  },
  {
   "cell_type": "code",
   "execution_count": 4,
   "metadata": {
    "dotnet_interactive": {
     "language": "csharp"
    }
   },
   "outputs": [
    {
     "name": "stdout",
     "output_type": "stream",
     "text": [
      "Project name is set to 'MetaJobManager_Tutorial'.\r\n"
     ]
    }
   ],
   "source": [
    "BoSSSshell.WorkflowMgm.Init(\"MetaJobManager_Tutorial\");"
   ]
  },
  {
   "cell_type": "markdown",
   "metadata": {},
   "source": [
    "We verify that we have no jobs defined so far ..."
   ]
  },
  {
   "cell_type": "code",
   "execution_count": 5,
   "metadata": {
    "dotnet_interactive": {
     "language": "csharp"
    }
   },
   "outputs": [
    {
     "data": {
      "text/plain": []
     },
     "execution_count": 5,
     "metadata": {},
     "output_type": "execute_result"
    }
   ],
   "source": [
    "BoSSSshell.WorkflowMgm.AllJobs"
   ]
  },
  {
   "cell_type": "code",
   "execution_count": 6,
   "metadata": {
    "dotnet_interactive": {
     "language": "csharp"
    }
   },
   "outputs": [],
   "source": [
    "// the folloowing line is part of the trest system and not neccesary in User worksheets:\n",
    "NUnit.Framework.Assert.IsTrue(BoSSSshell.WorkflowMgm.AllJobs.Count == 0, \"MetaJobManager tutorial: expecting 0 jobs on entry.\");"
   ]
  },
  {
   "cell_type": "markdown",
   "metadata": {},
   "source": [
    "... and create, resp. open a *BoSSS database*.\n",
    "In the following, we employ only a temporary database,\n",
    "i.e. on every execution of this notebook, a new database will be created. Therefore, all Jobs will be re-executed every time the notebok is re-executed. \n",
    "\n",
    "### Notes on databases:\n",
    "* For expensive simulations, which run for days or longer, this is not desired.\n",
    "  Hence, one wants the compute jobs to persist, i.e. if the worksheet is re-executed (maybe on another day), \n",
    "  but the computation \n",
    "  has been successful somewhen in the past, this result is recovered from the database.\n",
    "  In such a scenario, one cannot use a temporary database, but `CreateOrOpenCompatibleDatabase(...)` should be used instead.\n",
    "* Using the methods `BatchProcessorClient.CreateTempDatabase()`, \n",
    "  resp. `BatchProcessorClinet.CreateOrOpenCompatibleDatabase(...)`.\n",
    "  (as demonstrated below) ensures that the database is in a directory which can be accessed by the batch system.\n",
    "  (Alternative functions, i.e. `BoSSSshell.CreateTempDatabase()` or `BoSSSshell.OpenOrCreateDatabase(...)` \n",
    "  do not guarantee this and the user has to ensure an appropriate location.\n",
    "  \n",
    "Creation of the Database:"
   ]
  },
  {
   "cell_type": "code",
   "execution_count": 7,
   "metadata": {
    "dotnet_interactive": {
     "language": "csharp"
    }
   },
   "outputs": [
    {
     "name": "stdout",
     "output_type": "stream",
     "text": [
      "Creating database 'C:\\BoSSStests\\1395297746'.\r\n"
     ]
    }
   ],
   "source": [
    "var myLocalDb = myBatch.CreateTempDatabase();"
   ]
  },
  {
   "cell_type": "markdown",
   "metadata": {},
   "source": [
    "To specify the exact directory of the database, you might use\n",
    "**OpenOrCreateDatabase**.\n",
    "\n",
    "BoSSScmdSilent BoSSSexeSilent"
   ]
  },
  {
   "cell_type": "code",
   "execution_count": 8,
   "metadata": {
    "dotnet_interactive": {
     "language": "csharp"
    }
   },
   "outputs": [
    {
     "data": {
      "text/plain": [
       "#0: { Session Count = 0; Grid Count = 0; Path = C:\\BoSSStests\\1395297746 }\r\n"
      ]
     },
     "execution_count": 8,
     "metadata": {},
     "output_type": "execute_result"
    }
   ],
   "source": [
    "databases"
   ]
  },
  {
   "cell_type": "markdown",
   "metadata": {},
   "source": [
    "## Loading a BoSSS-Solver and Setting up a Simulation\n",
    "\n",
    "As an example, we use the workflow management tools to simulate \n",
    "incompressible channel flow, therefore we have to import the namespace,\n",
    "and repeat the steps from the IBM example (Tutorial 2) in order to setup the\n",
    "control object:"
   ]
  },
  {
   "cell_type": "code",
   "execution_count": 9,
   "metadata": {
    "dotnet_interactive": {
     "language": "csharp"
    }
   },
   "outputs": [],
   "source": [
    "using BoSSS.Application.XNSE_Solver;"
   ]
  },
  {
   "cell_type": "markdown",
   "metadata": {},
   "source": [
    "We create a grid with boundary conditions:"
   ]
  },
  {
   "cell_type": "code",
   "execution_count": 10,
   "metadata": {
    "dotnet_interactive": {
     "language": "csharp"
    }
   },
   "outputs": [
    {
     "name": "stdout",
     "output_type": "stream",
     "text": [
      "Grid Edge Tags changed.\r\n"
     ]
    }
   ],
   "source": [
    "var xNodes       = GenericBlas.Linspace(0, 10 , 41); \n",
    "var yNodes       = GenericBlas.Linspace(-1, 1, 9); \n",
    "GridCommons grid = Grid2D.Cartesian2DGrid(xNodes, yNodes);\n",
    "grid.DefineEdgeTags(delegate (double[] X) { \n",
    "    double x = X[0];\n",
    "    double y = X[1]; \n",
    "    if (Math.Abs(y - (-1)) <= 1.0e-8) \n",
    "        return \"wall\"; // lower wall\n",
    "    if (Math.Abs(y - (+1)) <= 1.0e-8) \n",
    "        return \"wall\"; // upper wall\n",
    "    if (Math.Abs(x - (0.0)) <= 1.0e-8) \n",
    "        return \"Velocity_Inlet\"; // inlet\n",
    "    if (Math.Abs(x - (+10.0)) <= 1.0e-8) \n",
    "        return \"Pressure_Outlet\"; // outlet\n",
    "    throw new ArgumentOutOfRangeException(\"unknown domain\"); \n",
    "});"
   ]
  },
  {
   "cell_type": "markdown",
   "metadata": {},
   "source": [
    "And save it to the database:"
   ]
  },
  {
   "cell_type": "code",
   "execution_count": 11,
   "metadata": {
    "dotnet_interactive": {
     "language": "csharp"
    }
   },
   "outputs": [],
   "source": [
    "myLocalDb.SaveGrid(ref grid);"
   ]
  },
  {
   "cell_type": "markdown",
   "metadata": {},
   "source": [
    "Next, we create the control object for the incompressible simulation:\n",
    "\n",
    "control object instantiation"
   ]
  },
  {
   "cell_type": "code",
   "execution_count": 12,
   "metadata": {
    "dotnet_interactive": {
     "language": "csharp"
    }
   },
   "outputs": [],
   "source": [
    "var c = new XNSE_Control();\n",
    "// general description:\n",
    "int k                = 1;\n",
    "string desc          = \"Steady state, channel, k\" + k; \n",
    "c.SessionName        = \"SteadyStateChannel\"; \n",
    "c.ProjectDescription = desc;\n",
    "c.Tags.Add(\"k\"+k);\n",
    "// setting the grid:\n",
    "c.SetGrid(grid);\n",
    "// DG polynomial degree\n",
    "c.SetDGdegree(k);\n",
    "// Physical parameters:\n",
    "double reynolds            = 20; \n",
    "c.PhysicalParameters.rho_A = 1; \n",
    "c.PhysicalParameters.mu_A  = 1.0/reynolds;\n",
    "// Timestepping properties:\n",
    "c.TimesteppingMode = AppControl._TimesteppingMode.Steady;"
   ]
  },
  {
   "cell_type": "markdown",
   "metadata": {},
   "source": [
    "The specification of boundary conditions and initial values\n",
    "is a bit more complicated if the job manager is used:\n",
    "\n",
    "Since the solver is executed in an external program, the control object \n",
    "has to be saved in a file. For lots of complicated objects,\n",
    "especially for delegates, C\\# does not support serialization \n",
    "(converting the object into a form that can be saved on disk, or \n",
    "transmitted over a network), so a workaround is needed.\n",
    "This is achieved e.g. by the **Formula** object, where a C\\#-formula\n",
    "is saved as a string."
   ]
  },
  {
   "cell_type": "code",
   "execution_count": 13,
   "metadata": {
    "dotnet_interactive": {
     "language": "csharp"
    }
   },
   "outputs": [],
   "source": [
    "var WallVelocity = new Formula(\"X => 0.0\", false); // 2nd Argument=false says that its a time-indep. formula."
   ]
  },
  {
   "cell_type": "markdown",
   "metadata": {},
   "source": [
    "Testing the formula:"
   ]
  },
  {
   "cell_type": "code",
   "execution_count": 14,
   "metadata": {
    "dotnet_interactive": {
     "language": "csharp"
    }
   },
   "outputs": [
    {
     "data": {
      "text/html": [
       "<div class=\"dni-plaintext\">0</div>"
      ]
     },
     "execution_count": 14,
     "metadata": {},
     "output_type": "execute_result"
    }
   ],
   "source": [
    "WallVelocity.Evaluate(new[]{0.0, 0.0}, 0.0) // evaluationg at (0,0), at time 0"
   ]
  },
  {
   "cell_type": "code",
   "execution_count": 15,
   "metadata": {
    "dotnet_interactive": {
     "language": "csharp"
    }
   },
   "outputs": [],
   "source": [
    "// [Deprecated]\n",
    "/// A disadvantage of string-formulas is that they look a bit ``alien''\n",
    "/// within the worksheet; therefore, there is also a little hack which allows \n",
    "/// the conversion of a static memeber function of a static class into a \n",
    "/// \\code{Formula} object:"
   ]
  },
  {
   "cell_type": "code",
   "execution_count": 16,
   "metadata": {
    "dotnet_interactive": {
     "language": "csharp"
    }
   },
   "outputs": [],
   "source": [
    "// Deprecated, this option is no longer supported in .NET5\n",
    "static class StaticFormulas {\n",
    "    public static double VelX_Inlet(double[] X) {\n",
    "        //double x  = X[0];\n",
    "        double y  = X[0];\n",
    "        double UX = 1.0 - y*y;\n",
    "        return UX;\n",
    "    }  \n",
    " \n",
    "    public static double VelY_Inlet(double[] X) {\n",
    "        return 0.0;\n",
    "    }      \n",
    "}"
   ]
  },
  {
   "cell_type": "code",
   "execution_count": 17,
   "metadata": {
    "dotnet_interactive": {
     "language": "csharp"
    }
   },
   "outputs": [],
   "source": [
    "// InletVelocityX = GetFormulaObject(StaticFormulas.VelX_Inlet);\n",
    "//var InletVelocityY = GetFormulaObject(StaticFormulas.VelY_Inlet);"
   ]
  },
  {
   "cell_type": "code",
   "execution_count": 18,
   "metadata": {
    "dotnet_interactive": {
     "language": "csharp"
    }
   },
   "outputs": [],
   "source": [
    "var InletVelocityX = new Formula(\"X => 1 - X[0]*X[0]\", false);\n",
    "var InletVelocityY = new Formula(\"X => 0.0\", false);"
   ]
  },
  {
   "cell_type": "markdown",
   "metadata": {},
   "source": [
    "Finally, we set boundary values for our simulation. The initial values\n",
    "are set to zero per default; for the steady-state simulation initial\n",
    "values are irrelevant anyway:\n",
    "\n",
    "Initial Values are set to 0"
   ]
  },
  {
   "cell_type": "code",
   "execution_count": 19,
   "metadata": {
    "dotnet_interactive": {
     "language": "csharp"
    }
   },
   "outputs": [],
   "source": [
    "c.BoundaryValues.Clear(); \n",
    "c.AddBoundaryValue(\"wall\", \"VelocityX\", WallVelocity); \n",
    "c.AddBoundaryValue(\"Velocity_Inlet\", \"VelocityX\", InletVelocityX);  \n",
    "c.AddBoundaryValue(\"Velocity_Inlet\", \"VelocityY\", InletVelocityY); \n",
    "c.AddBoundaryValue(\"Pressure_Outlet\");"
   ]
  },
  {
   "cell_type": "markdown",
   "metadata": {},
   "source": [
    "## Activation and Monitoring of the the Job\n",
    "\n",
    "Finally, we are ready to deploy the job at the batch processor;\n",
    "In a usual work flow scenario, we **do not** want to (re-) submit the \n",
    "job every time we run the worksheet -- usually, one wants to run a job once.\n",
    "\n",
    "The concept to overcome this problem is job activation. If a job is \n",
    "activated, the meta job manager first checks the databases and the batch \n",
    "system, if a job with the respective name and project name is already \n",
    "submitted. Only if there is no information that the job was ever submitted\n",
    "or started anywhere, the job is submitted to the respective batch system.\n",
    "\n",
    "First, a `Job* -object is created from the control object:"
   ]
  },
  {
   "cell_type": "code",
   "execution_count": 20,
   "metadata": {
    "dotnet_interactive": {
     "language": "csharp"
    }
   },
   "outputs": [],
   "source": [
    "var JobLocal = c.CreateJob();"
   ]
  },
  {
   "cell_type": "markdown",
   "metadata": {},
   "source": [
    "This job is not activated yet, it can still be configured:"
   ]
  },
  {
   "cell_type": "code",
   "execution_count": 21,
   "metadata": {
    "dotnet_interactive": {
     "language": "csharp"
    }
   },
   "outputs": [
    {
     "data": {
      "text/html": [
       "<span>PreActivation</span>"
      ]
     },
     "execution_count": 21,
     "metadata": {},
     "output_type": "execute_result"
    }
   ],
   "source": [
    "JobLocal.Status"
   ]
  },
  {
   "cell_type": "code",
   "execution_count": 22,
   "metadata": {
    "dotnet_interactive": {
     "language": "csharp"
    }
   },
   "outputs": [],
   "source": [
    "// Test:\n",
    "NUnit.Framework.Assert.IsTrue(JobLocal.Status == JobStatus.PreActivation);"
   ]
  },
  {
   "cell_type": "markdown",
   "metadata": {},
   "source": [
    "### Starting the compute Job"
   ]
  },
  {
   "cell_type": "markdown",
   "metadata": {},
   "source": [
    "One can change e.g. the number of MPI processes:"
   ]
  },
  {
   "cell_type": "code",
   "execution_count": 23,
   "metadata": {
    "dotnet_interactive": {
     "language": "csharp"
    }
   },
   "outputs": [],
   "source": [
    "JobLocal.NumberOfMPIProcs = 1;"
   ]
  },
  {
   "cell_type": "markdown",
   "metadata": {},
   "source": [
    "Note that these jobs are desigend to be **persistent**:\n",
    "This means the computation is only started \n",
    "**once for a given control object**, no matter how often the worksheet\n",
    "is executed. \n",
    "\n",
    "Such a behaviour is useful for expensive simulations, which run on HPC\n",
    "servers over days or even weeks. The user (you) can close the worksheet\n",
    "and maybe open and execute it a few days later, and he can access\n",
    "the original job which he submitted a few days ago (maybe it is finished\n",
    "now).\n",
    "\n",
    "Then, the job is activated, resp. submitted, resp. deployed \n",
    "to one batch system.\n",
    "If job persistency is not wanted, traces of the job can be removed \n",
    "on request during activation, causing a fresh job deployment at the\n",
    "batch system:"
   ]
  },
  {
   "cell_type": "code",
   "execution_count": 24,
   "metadata": {
    "dotnet_interactive": {
     "language": "csharp"
    }
   },
   "outputs": [
    {
     "name": "stdout",
     "output_type": "stream",
     "text": [
      "Deploying job SteadyStateChannel ... \n",
      "Deploying executables and additional files ...\n",
      "Deployment directory: C:\\BoSSStests\\MetaJobManager_Tutorial-XNSE_Solver2021Oct20_135241\n",
      "copied 49 files.\n",
      "   written file: control.obj\n",
      "deployment finished.\n",
      "\n"
     ]
    }
   ],
   "source": [
    "bool DeleteOldDeploymentsAndSessions = true; // use with care! Normally, you \n",
    "                                             // dont want this!!!\n",
    "JobLocal.Activate(myBatch,  // execute the job in 'myBatch'\n",
    "                  DeleteOldDeploymentsAndSessions); // causes fresh deployment"
   ]
  },
  {
   "cell_type": "markdown",
   "metadata": {},
   "source": [
    "All jobs can be listed using the workflow management:"
   ]
  },
  {
   "cell_type": "code",
   "execution_count": 25,
   "metadata": {
    "dotnet_interactive": {
     "language": "csharp"
    }
   },
   "outputs": [
    {
     "name": "stdout",
     "output_type": "stream",
     "text": [
      "Loading session b80b621f-c690-4b2b-87a3-df99ab1d943e failed with message 'Could not find file 'C:\\BoSSStests\\1395297746\\sessions\\b80b621f-c690-4b2b-87a3-df99ab1d943e\\Session.info'.'\n",
      "Loading session b80b621f-c690-4b2b-87a3-df99ab1d943e failed with message 'Could not find file 'C:\\BoSSStests\\1395297746\\sessions\\b80b621f-c690-4b2b-87a3-df99ab1d943e\\Session.info'.'\n"
     ]
    },
    {
     "data": {
      "text/plain": [
       "#0: SteadyStateChannel: InProgress (MS HPC client  MSHPC-Gitrunner-HighPrio @DC2, @C:\\BoSSStests)\tSteadyStateChannel: InProgress (MS HPC client  MSHPC-Gitrunner-HighPrio @DC2, @C:\\BoSSStests)\r\n"
      ]
     },
     "execution_count": 25,
     "metadata": {},
     "output_type": "execute_result"
    }
   ],
   "source": [
    "BoSSSshell.WorkflowMgm.AllJobs"
   ]
  },
  {
   "cell_type": "markdown",
   "metadata": {},
   "source": [
    "Check the present job status:"
   ]
  },
  {
   "cell_type": "code",
   "execution_count": 26,
   "metadata": {
    "dotnet_interactive": {
     "language": "csharp"
    }
   },
   "outputs": [
    {
     "data": {
      "text/html": [
       "<span>FinishedSuccessful</span>"
      ]
     },
     "execution_count": 26,
     "metadata": {},
     "output_type": "execute_result"
    }
   ],
   "source": [
    "JobLocal.Status"
   ]
  },
  {
   "cell_type": "code",
   "execution_count": 27,
   "metadata": {
    "dotnet_interactive": {
     "language": "csharp"
    }
   },
   "outputs": [],
   "source": [
    "/// BoSSScmdSilent BoSSSexeSilent\n",
    "NUnit.Framework.Assert.IsTrue(\n",
    "   JobLocal.Status == JobStatus.PendingInExecutionQueue\n",
    "   || JobLocal.Status == JobStatus.InProgress\n",
    "   || JobLocal.Status == JobStatus.FinishedSuccessful);"
   ]
  },
  {
   "cell_type": "markdown",
   "metadata": {},
   "source": [
    "### Evaluation of Job"
   ]
  },
  {
   "cell_type": "markdown",
   "metadata": {},
   "source": [
    "Here, we block until both of our jobs have finished:"
   ]
  },
  {
   "cell_type": "code",
   "execution_count": 28,
   "metadata": {
    "dotnet_interactive": {
     "language": "csharp"
    }
   },
   "outputs": [
    {
     "name": "stdout",
     "output_type": "stream",
     "text": [
      "All jobs finished.\r\n"
     ]
    }
   ],
   "source": [
    "BoSSSshell.WorkflowMgm.BlockUntilAllJobsTerminate(1000);"
   ]
  },
  {
   "cell_type": "markdown",
   "metadata": {},
   "source": [
    "We examine the output and error stream of the job:\n",
    "This directly accesses the *\\tt stdout*-redirection of the respective job\n",
    "manager, which may contain a bit more information than the \n",
    "`Stdout`-copy in the session directory."
   ]
  },
  {
   "cell_type": "code",
   "execution_count": 29,
   "metadata": {
    "dotnet_interactive": {
     "language": "csharp"
    }
   },
   "outputs": [
    {
     "data": {
      "text/plain": [
       "Session ID: b80b621f-c690-4b2b-87a3-df99ab1d943e, DB path: 'C:\\BoSSStests\\1395297746'.\r\n",
       "Level-Set field Phi is **exactly** zero: setting entire field to -1.\r\n",
       "Starting time step 1, dt = 1.7976931348623158E+304 ...\r\n",
       "Done with time step 1.\r\n",
       "\r\n",
       "Removing tag: NotTerminated\r\n",
       "\r\n"
      ]
     },
     "execution_count": 29,
     "metadata": {},
     "output_type": "execute_result"
    }
   ],
   "source": [
    "JobLocal.Stdout"
   ]
  },
  {
   "cell_type": "markdown",
   "metadata": {},
   "source": [
    "Additionally we display the error stream and hope that it is empty:"
   ]
  },
  {
   "cell_type": "code",
   "execution_count": 30,
   "metadata": {
    "dotnet_interactive": {
     "language": "csharp"
    }
   },
   "outputs": [
    {
     "data": {
      "text/plain": []
     },
     "execution_count": 30,
     "metadata": {},
     "output_type": "execute_result"
    }
   ],
   "source": [
    "JobLocal.Stderr"
   ]
  },
  {
   "cell_type": "markdown",
   "metadata": {},
   "source": [
    "We can also obtain the session \n",
    "which was stored during the execution of the job:"
   ]
  },
  {
   "cell_type": "code",
   "execution_count": 31,
   "metadata": {
    "dotnet_interactive": {
     "language": "csharp"
    }
   },
   "outputs": [
    {
     "data": {
      "text/plain": [
       "MetaJobManager_Tutorial\tSteadyStateChannel\t10/20/2021 13:52:54\tb80b621f..."
      ]
     },
     "execution_count": 31,
     "metadata": {},
     "output_type": "execute_result"
    }
   ],
   "source": [
    "var Sloc = JobLocal.LatestSession;\n",
    "Sloc"
   ]
  },
  {
   "cell_type": "markdown",
   "metadata": {},
   "source": [
    " We can also list all attempts to run the job at the assigend processor:"
   ]
  },
  {
   "cell_type": "code",
   "execution_count": 32,
   "metadata": {
    "dotnet_interactive": {
     "language": "csharp"
    }
   },
   "outputs": [
    {
     "data": {
      "text/html": [
       "<table><thead><tr><th><i>index</i></th><th>DeploymentDirectory</th><th>CreationDate</th><th>BatchProcessorIdentifierToken</th><th>RelativeDeploymentDirectory</th><th>Status</th><th>ExitCode</th><th>Session</th></tr></thead><tbody><tr><td>0</td><td><table><thead><tr><th>Parent</th><th>Root</th><th>FullName</th><th>Extension</th><th>Name</th><th>Exists</th><th>CreationTime</th><th>CreationTimeUtc</th><th>LastAccessTime</th><th>LastAccessTimeUtc</th><th>LastWriteTime</th><th>LastWriteTimeUtc</th><th>Attributes</th></tr></thead><tbody><tr><td><div class=\"dni-plaintext\">{ C:\\BoSSStests: Parent: { C:\\: Parent: &lt;null&gt;, Root: { C:\\: Parent: &lt;null&gt;, Root: { C:\\: Parent: &lt;null&gt;, Root: { C:\\: Parent: &lt;null&gt;, Root: { C:\\: Parent: &lt;null&gt;, Root: C:\\, FullName: C:\\, Extension: , Name: C:\\, Exists: True, CreationTime: 09/15/2018 08:09:26, CreationTimeUtc: 09/15/2018 06:09:26, LastAccessTime: 10/15/2021 20:53:20, LastAccessTimeUtc: 10/15/2021 18:53:20, LastWriteTime: 10/15/2021 20:53:20, LastWriteTimeUtc: 10/15/2021 18:53:20, Attributes: Hidden, System, Directory }, FullName: C:\\, Extension: , Name: C:\\, Exists: True, CreationTime: 2018-09-15 08:09:26Z, CreationTimeUtc: 2018-09-15 06:09:26Z, LastAccessTime: 2021-10-15 20:53:20Z, LastAccessTimeUtc: 2021-10-15 18:53:20Z, LastWriteTime: 2021-10-15 20:53:20Z, LastWriteTimeUtc: 2021-10-15 18:53:20Z, Attributes: Hidden, System, Directory }, FullName: C:\\, Extension: , Name: C:\\, Exists: True, CreationTime: 2018-09-15 08:09:26Z, CreationTimeUtc: 2018-09-15 06:09:26Z, LastAccessTime: 2021-10-15 20:53:20Z, LastAccessTimeUtc: 2021-10-15 18:53:20Z, LastWriteTime: 2021-10-15 20:53:20Z, LastWriteTimeUtc: 2021-10-15 18:53:20Z, Attributes: Hidden, System, Directory }, FullName: C:\\, Extension: , Name: C:\\, Exists: True, CreationTime: 2018-09-15 08:09:26Z, CreationTimeUtc: 2018-09-15 06:09:26Z, LastAccessTime: 2021-10-15 20:53:20Z, LastAccessTimeUtc: 2021-10-15 18:53:20Z, LastWriteTime: 2021-10-15 20:53:20Z, LastWriteTimeUtc: 2021-10-15 18:53:20Z, Attributes: Hidden, System, Directory }, FullName: C:\\, Extension: , Name: C:\\, Exists: True, CreationTime: 2018-09-15 08:09:26Z, CreationTimeUtc: 2018-09-15 06:09:26Z, LastAccessTime: 2021-10-15 20:53:20Z, LastAccessTimeUtc: 2021-10-15 18:53:20Z, LastWriteTime: 2021-10-15 20:53:20Z, LastWriteTimeUtc: 2021-10-15 18:53:20Z, Attributes: Hidden, System, Directory }, Root: { C:\\: Parent: &lt;null&gt;, Root: { C:\\: Parent: &lt;null&gt;, Root: { C:\\: Parent: &lt;null&gt;, Root: { C:\\: Parent: &lt;null&gt;, Root: { C:\\: Parent: &lt;null&gt;, Root: C:\\, FullName: C:\\, Extension: , Name: C:\\, Exists: True, CreationTime: 09/15/2018 08:09:26, CreationTimeUtc: 09/15/2018 06:09:26, LastAccessTime: 10/15/2021 20:53:20, LastAccessTimeUtc: 10/15/2021 18:53:20, LastWriteTime: 10/15/2021 20:53:20, LastWriteTimeUtc: 10/15/2021 18:53:20, Attributes: Hidden, System, Directory }, FullName: C:\\, Extension: , Name: C:\\, Exists: True, CreationTime: 2018-09-15 08:09:26Z, CreationTimeUtc: 2018-09-15 06:09:26Z, LastAccessTime: 2021-10-15 20:53:20Z, LastAccessTimeUtc: 2021-10-15 18:53:20Z, LastWriteTime: 2021-10-15 20:53:20Z, LastWriteTimeUtc: 2021-10-15 18:53:20Z, Attributes: Hidden, System, Directory }, FullName: C:\\, Extension: , Name: C:\\, Exists: True, CreationTime: 2018-09-15 08:09:26Z, CreationTimeUtc: 2018-09-15 06:09:26Z, LastAccessTime: 2021-10-15 20:53:20Z, LastAccessTimeUtc: 2021-10-15 18:53:20Z, LastWriteTime: 2021-10-15 20:53:20Z, LastWriteTimeUtc: 2021-10-15 18:53:20Z, Attributes: Hidden, System, Directory }, FullName: C:\\, Extension: , Name: C:\\, Exists: True, CreationTime: 2018-09-15 08:09:26Z, CreationTimeUtc: 2018-09-15 06:09:26Z, LastAccessTime: 2021-10-15 20:53:20Z, LastAccessTimeUtc: 2021-10-15 18:53:20Z, LastWriteTime: 2021-10-15 20:53:20Z, LastWriteTimeUtc: 2021-10-15 18:53:20Z, Attributes: Hidden, System, Directory }, FullName: C:\\, Extension: , Name: C:\\, Exists: True, CreationTime: 2018-09-15 08:09:26Z, CreationTimeUtc: 2018-09-15 06:09:26Z, LastAccessTime: 2021-10-15 20:53:20Z, LastAccessTimeUtc: 2021-10-15 18:53:20Z, LastWriteTime: 2021-10-15 20:53:20Z, LastWriteTimeUtc: 2021-10-15 18:53:20Z, Attributes: Hidden, System, Directory }, FullName: C:\\BoSSStests, Extension: , Name: BoSSStests, Exists: True, CreationTime: 2021-02-06 04:30:26Z, CreationTimeUtc: 2021-02-06 03:30:26Z, LastAccessTime: 2021-10-20 13:52:45Z, LastAccessTimeUtc: 2021-10-20 11:52:45Z, LastWriteTime: 2021-10-20 13:52:41Z, LastWriteTimeUtc: 2021-10-20 11:52:41Z, Attributes: Directory }</div></td><td><div class=\"dni-plaintext\">{ C:\\: Parent: &lt;null&gt;, Root: { C:\\: Parent: &lt;null&gt;, Root: { C:\\: Parent: &lt;null&gt;, Root: { C:\\: Parent: &lt;null&gt;, Root: { C:\\: Parent: &lt;null&gt;, Root: { C:\\: Parent: &lt;null&gt;, Root: C:\\, FullName: C:\\, Extension: , Name: C:\\, Exists: True, CreationTime: 09/15/2018 08:09:26, CreationTimeUtc: 09/15/2018 06:09:26, LastAccessTime: 10/15/2021 20:53:20, LastAccessTimeUtc: 10/15/2021 18:53:20, LastWriteTime: 10/15/2021 20:53:20, LastWriteTimeUtc: 10/15/2021 18:53:20, Attributes: Hidden, System, Directory }, FullName: C:\\, Extension: , Name: C:\\, Exists: True, CreationTime: 2018-09-15 08:09:26Z, CreationTimeUtc: 2018-09-15 06:09:26Z, LastAccessTime: 2021-10-15 20:53:20Z, LastAccessTimeUtc: 2021-10-15 18:53:20Z, LastWriteTime: 2021-10-15 20:53:20Z, LastWriteTimeUtc: 2021-10-15 18:53:20Z, Attributes: Hidden, System, Directory }, FullName: C:\\, Extension: , Name: C:\\, Exists: True, CreationTime: 2018-09-15 08:09:26Z, CreationTimeUtc: 2018-09-15 06:09:26Z, LastAccessTime: 2021-10-15 20:53:20Z, LastAccessTimeUtc: 2021-10-15 18:53:20Z, LastWriteTime: 2021-10-15 20:53:20Z, LastWriteTimeUtc: 2021-10-15 18:53:20Z, Attributes: Hidden, System, Directory }, FullName: C:\\, Extension: , Name: C:\\, Exists: True, CreationTime: 2018-09-15 08:09:26Z, CreationTimeUtc: 2018-09-15 06:09:26Z, LastAccessTime: 2021-10-15 20:53:20Z, LastAccessTimeUtc: 2021-10-15 18:53:20Z, LastWriteTime: 2021-10-15 20:53:20Z, LastWriteTimeUtc: 2021-10-15 18:53:20Z, Attributes: Hidden, System, Directory }, FullName: C:\\, Extension: , Name: C:\\, Exists: True, CreationTime: 2018-09-15 08:09:26Z, CreationTimeUtc: 2018-09-15 06:09:26Z, LastAccessTime: 2021-10-15 20:53:20Z, LastAccessTimeUtc: 2021-10-15 18:53:20Z, LastWriteTime: 2021-10-15 20:53:20Z, LastWriteTimeUtc: 2021-10-15 18:53:20Z, Attributes: Hidden, System, Directory }, FullName: C:\\, Extension: , Name: C:\\, Exists: True, CreationTime: 2018-09-15 08:09:26Z, CreationTimeUtc: 2018-09-15 06:09:26Z, LastAccessTime: 2021-10-15 20:53:20Z, LastAccessTimeUtc: 2021-10-15 18:53:20Z, LastWriteTime: 2021-10-15 20:53:20Z, LastWriteTimeUtc: 2021-10-15 18:53:20Z, Attributes: Hidden, System, Directory }</div></td><td><div class=\"dni-plaintext\">C:\\BoSSStests\\MetaJobManager_Tutorial-XNSE_Solver2021Oct20_135241</div></td><td><div class=\"dni-plaintext\"></div></td><td><div class=\"dni-plaintext\">MetaJobManager_Tutorial-XNSE_Solver2021Oct20_135241</div></td><td><div class=\"dni-plaintext\">True</div></td><td><div class=\"dni-plaintext\">2021-10-20 13:52:41Z</div></td><td><div class=\"dni-plaintext\">2021-10-20 11:52:41Z</div></td><td><div class=\"dni-plaintext\">2021-10-20 13:52:45Z</div></td><td><div class=\"dni-plaintext\">2021-10-20 11:52:45Z</div></td><td><div class=\"dni-plaintext\">2021-10-20 13:52:45Z</div></td><td><div class=\"dni-plaintext\">2021-10-20 11:52:45Z</div></td><td><div class=\"dni-plaintext\">Directory</div></td></tr></tbody></table></td><td><span>2021-10-20 13:52:41Z</span></td><td>307084</td><td>MetaJobManager_Tutorial-XNSE_Solver2021Oct20_135241</td><td><span>FinishedSuccessful</span></td><td><div class=\"dni-plaintext\">0</div></td><td><table><thead><tr><th>RealSessionInfo</th><th>SuccessfulTermination</th><th>Description</th><th>ProjectName</th><th>Timesteps</th><th>RestartedFrom</th><th>MasterGitCommit</th><th>Tags</th><th>ComputeNodeNames</th><th>DeployPath</th><th>ID</th><th>CreationTime</th><th>WriteTime</th><th>Name</th><th>Database</th><th>KeysAndQueries</th></tr></thead><tbody><tr><td><div class=\"dni-plaintext\">MetaJobManager_Tutorial\tSteadyStateChannel\t10/20/2021 13:52:54\tb80b621f...</div></td><td><div class=\"dni-plaintext\">True</div></td><td><div class=\"dni-plaintext\">Steady state, channel, k1</div></td><td><div class=\"dni-plaintext\">MetaJobManager_Tutorial</div></td><td><div class=\"dni-plaintext\">#0:  { Time-step: 0; Physical time: 0s; Fields: Phi, PhiDG, VelocityX, VelocityY, Pressure, VelocityX@Phi, VelocityY@Phi, Velocity0X_Mean, Velocity0Y_Mean; Name:  }\r\n",
       "#1:  { Time-step: 1; Physical time: 1.7976931348623158E+304s; Fields: Phi, PhiDG, VelocityX, VelocityY, Pressure, VelocityX@Phi, VelocityY@Phi, Velocity0X_Mean, Velocity0Y_Mean; Name:  }\r\n",
       "</div></td><td><div class=\"dni-plaintext\">00000000-0000-0000-0000-000000000000</div></td><td><div class=\"dni-plaintext\">1.0.0</div></td><td><div class=\"dni-plaintext\">[ k1 ]</div></td><td><div class=\"dni-plaintext\">[ fdygitrunner.fdy.maschinenbau.tu-darmstadt.de ]</div></td><td><div class=\"dni-plaintext\">C:\\BoSSStests\\MetaJobManager_Tutorial-XNSE_Solver2021Oct20_135241</div></td><td><div class=\"dni-plaintext\">b80b621f-c690-4b2b-87a3-df99ab1d943e</div></td><td><div class=\"dni-plaintext\">2021-10-20 13:52:54Z</div></td><td><div class=\"dni-plaintext\">2021-10-20 13:53:00Z</div></td><td><div class=\"dni-plaintext\">SteadyStateChannel</div></td><td><div class=\"dni-plaintext\">{ Session Count = 1; Grid Count = 1; Path = C:\\BoSSStests\\1395297746 }</div></td><td><div class=\"dni-plaintext\">[ ProjectName: MetaJobManager_Tutorial, SessionName: SteadyStateChannel, DGdegree:Velocity*: 1, DGdegree:FilteredVelocity*: -1, DGdegree:SurfaceForceDiagnostic*: -1, DGdegree:Pressure: 0, DGdegree:PhiDG: -1, DGdegree:Phi: 2, DGdegree:Phi2DG: -1, DGdegree:Phi2: 2, DGdegree:Curvature: 4, Bndtype:wall: auto:wall, Bndtype:Velocity_Inlet: auto:Velocity_Inlet, Bndtype:Pressure_Outlet: auto:Pressure_Outlet, UseImmersedBoundary: False, TimesteppingMode: 1, Timestepper_LevelSetHandling: 1, NoOfMultigridLevels: 1, GeneratedFromCode: False, ControlFileText_Index: 0 ... (176 more) ]</div></td></tr></tbody></table></td></tr></tbody></table>"
      ]
     },
     "execution_count": 32,
     "metadata": {},
     "output_type": "execute_result"
    }
   ],
   "source": [
    "JobLocal.AllDeployments"
   ]
  },
  {
   "cell_type": "code",
   "execution_count": 33,
   "metadata": {
    "dotnet_interactive": {
     "language": "csharp"
    }
   },
   "outputs": [],
   "source": [
    "NUnit.Framework.Assert.IsTrue(JobLocal.AllDeployments.Count == 1, \"MetaJobManager tutorial: Found more than one deployment.\");"
   ]
  },
  {
   "cell_type": "markdown",
   "metadata": {},
   "source": [
    "Finally, we check the status of our jobs:"
   ]
  },
  {
   "cell_type": "code",
   "execution_count": 34,
   "metadata": {
    "dotnet_interactive": {
     "language": "csharp"
    }
   },
   "outputs": [
    {
     "data": {
      "text/html": [
       "<span>FinishedSuccessful</span>"
      ]
     },
     "execution_count": 34,
     "metadata": {},
     "output_type": "execute_result"
    }
   ],
   "source": [
    "JobLocal.Status"
   ]
  },
  {
   "cell_type": "markdown",
   "metadata": {},
   "source": [
    " If anything failed, hints on the reason why are provides by the `GetStatus` method:"
   ]
  },
  {
   "cell_type": "code",
   "execution_count": 35,
   "metadata": {
    "dotnet_interactive": {
     "language": "csharp"
    }
   },
   "outputs": [
    {
     "name": "stdout",
     "output_type": "stream",
     "text": [
      "Info: Found successful session \"MetaJobManager_Tutorial\tSteadyStateChannel\t10/20/2021 13:52:54\tb80b621f...\" -- job is marked as successful, no further action.\r\n"
     ]
    },
    {
     "data": {
      "text/html": [
       "<span>FinishedSuccessful</span>"
      ]
     },
     "execution_count": 35,
     "metadata": {},
     "output_type": "execute_result"
    }
   ],
   "source": [
    "JobLocal.GetStatus(WriteHints:true)"
   ]
  },
  {
   "cell_type": "code",
   "execution_count": 36,
   "metadata": {
    "dotnet_interactive": {
     "language": "csharp"
    }
   },
   "outputs": [],
   "source": [
    "NUnit.Framework.Assert.IsTrue(JobLocal.Status == JobStatus.FinishedSuccessful, \"MetaJobManager tutorial: Job was not successful.\");"
   ]
  }
 ],
 "metadata": {
  "kernelspec": {
   "display_name": ".NET (C#)",
   "language": "C#",
   "name": ".net-csharp"
  },
  "language_info": {
   "file_extension": ".cs",
   "mimetype": "text/x-csharp",
   "name": "C#",
   "pygments_lexer": "csharp",
   "version": "9.0"
  }
 },
 "nbformat": 4,
 "nbformat_minor": 4
}
