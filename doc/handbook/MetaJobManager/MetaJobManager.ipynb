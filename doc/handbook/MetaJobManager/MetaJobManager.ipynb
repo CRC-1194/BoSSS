{
 "cells": [
  {
   "cell_type": "code",
   "execution_count": null,
   "source": [
    "#r \"BoSSSpad.dll\"\r\n",
    "using System;\r\n",
    "using System.Collections.Generic;\r\n",
    "using System.Linq;\r\n",
    "using ilPSP;\r\n",
    "using ilPSP.Utils;\r\n",
    "using BoSSS.Platform;\r\n",
    "using BoSSS.Foundation;\r\n",
    "using BoSSS.Foundation.Grid;\r\n",
    "using BoSSS.Foundation.Grid.Classic;\r\n",
    "using BoSSS.Foundation.IO;\r\n",
    "using BoSSS.Solution;\r\n",
    "using BoSSS.Solution.Control;\r\n",
    "using BoSSS.Solution.GridImport;\r\n",
    "using BoSSS.Solution.Statistic;\r\n",
    "using BoSSS.Solution.Utils;\r\n",
    "using BoSSS.Solution.Gnuplot;\r\n",
    "using BoSSS.Application.BoSSSpad;\r\n",
    "using BoSSS.Application.XNSE_Solver;\r\n",
    "using static BoSSS.Application.BoSSSpad.BoSSSshell;\r\n",
    "Init();\r\n"
   ],
   "outputs": [],
   "metadata": {
    "dotnet_interactive": {
     "language": "csharp"
    }
   }
  },
  {
   "cell_type": "markdown",
   "source": [
    "# **Worklfow Management and meta job scheduler**\r\n",
    "\r\n",
    "This tutorial illustrates how computations can be executed on large \r\n",
    "(or small) compute servers, aka.\r\n",
    "high-performance-computers (HPC), aka. compute clusters, aka. supercomputers, etc.\r\n",
    "\r\n",
    "This means, the computation is not executed on the local workstation \r\n",
    "(or laptop) but on some other computer.\r\n",
    "This approach is particulary handy for large computations, which run\r\n",
    "for multiple hours or days, since a user can \r\n",
    "e.g. shutdown or restart his personal computer without killing the compute job. \r\n",
    "\r\n",
    "*BoSSS* features a set of classes and routines \r\n",
    "(an API, application programing interface) for communication with \r\n",
    "compute clusters. This is especially handy for **scripting**,\r\n",
    "e.g. for parameter studies, where dozens of computations \r\n",
    "have to be started and monitored."
   ],
   "metadata": {}
  },
  {
   "cell_type": "markdown",
   "source": [
    "\r\n",
    "# 1 Batch Processing\r\n",
    "\r\n",
    "First, we have to select a *batch system* that we want to use.\r\n",
    "Batch systems are a common approach to organize workloads (aka. compute jobs)\r\n",
    "on compute clusters.\r\n",
    "On such systems, a user typically does *not* starts a simulation manually.\r\n",
    "Instead, he specifies a so-called *compute job*. The *scheduler* \r\n",
    "(aka. *batch system*) collects \r\n",
    "compute jobs from all users on the compute cluster, sorts them according to \r\n",
    "some priority and puts the jobs into some queue, also called *batch*.\r\n",
    "The jobs in the batch are then executed in order, depending on the \r\n",
    "available hardware and the scheduling policies of the system.\r\n",
    "\r\n",
    "The *BoSSS* API provides front-ends (clients) for the following \r\n",
    "batch system software:\r\n",
    "\r\n",
    "- **BoSSS.Application.BoSSSpad.SlurmClient** for the \r\n",
    "Slurm Workload Manager (very prominent on Linux HPC systems)\r\n",
    "- **BoSSS.Application.BoSSSpad.MsHPC2012Client**\r\n",
    "for the Microsoft HPC Pack 2012 and higher\r\n",
    "- **BoSSS.Application.BoSSSpad.MiniBatchProcessorClient** for the \r\n",
    "mini batch processor, a minimalistic, *BoSSS*-internal batch system which mimiks \r\n",
    "a supercomputer batch system on the local machine.\r\n"
   ],
   "metadata": {}
  },
  {
   "cell_type": "markdown",
   "source": [
    "A list of clients for various batch systems, which are loaded at the \r\n",
    "**restart** command can be configured through the  \r\n",
    "*\\tt $\\sim$/.BoSSS/etc/BatchProcessorConfig.json*-file.\r\n",
    "If this file is missing, a default setting, containing a \r\n",
    "mini batch processor, is initialized. \r\n",
    "The list of all execution queues can be accessed through:\r\n",
    "ExecutionQueues\r\n",
    "\r\n",
    "For the sake of simplicuity, we pick the first one:"
   ],
   "metadata": {}
  },
  {
   "cell_type": "code",
   "execution_count": null,
   "source": [
    "\r\n",
    "var myBatch = ExecutionQueues[0];"
   ],
   "outputs": [],
   "metadata": {
    "dotnet_interactive": {
     "language": "csharp"
    }
   }
  },
  {
   "cell_type": "markdown",
   "source": [
    "Note on the Mini Batch Processor:\r\n",
    "The batch processor for local jobs can be started separately (by launching\r\n",
    "**\\tt MiniBatchProcessor.exe**), or from the worksheet;\r\n",
    "In the latter case, it depends on the operating system, whether the \r\n",
    "\\newline **\\tt MiniBatchProcessor.exe** is terminated with the worksheet, \r\n",
    "or not.\r\n",
    "If no mini-batch-processor is running, it is started \r\n",
    "at the initialization of the workflow management.\r\n",
    "\r\n",
    "```csharp\r\n",
    "MiniBatchProcessor.Server.StartIfNotRunning(false);\r\n",
    "```"
   ],
   "metadata": {}
  },
  {
   "cell_type": "code",
   "execution_count": null,
   "source": [],
   "outputs": [],
   "metadata": {
    "dotnet_interactive": {
     "language": "csharp"
    }
   }
  },
  {
   "cell_type": "markdown",
   "source": [
    "\r\n",
    "# 2 Initializing the workflow management\r\n",
    "\r\n",
    "In order to use the workflow management, \r\n",
    "the very first thing we have to do is to initialize it by defineing \r\n",
    "a project name. \r\n",
    "This is used to generate names for the compute jobs and to \r\n",
    "identify sessions in the database:"
   ],
   "metadata": {}
  },
  {
   "cell_type": "code",
   "execution_count": null,
   "source": [
    "\r\n",
    "BoSSSshell.WorkflowMgm.Init(\"MetaJobManager_Tutorial\");"
   ],
   "outputs": [],
   "metadata": {
    "dotnet_interactive": {
     "language": "csharp"
    }
   }
  },
  {
   "cell_type": "markdown",
   "source": [
    "We verify that we have no jobs defined so far ..."
   ],
   "metadata": {}
  },
  {
   "cell_type": "code",
   "execution_count": null,
   "source": [
    "BoSSSshell.WorkflowMgm.AllJobs"
   ],
   "outputs": [],
   "metadata": {
    "dotnet_interactive": {
     "language": "csharp"
    }
   }
  },
  {
   "cell_type": "markdown",
   "source": [
    "BoSSScmdSilent BoSSSexeSilent"
   ],
   "metadata": {}
  },
  {
   "cell_type": "code",
   "execution_count": null,
   "source": [
    "NUnit.Framework.Assert.IsTrue(BoSSSshell.WorkflowMgm.AllJobs.Count == 0, \"MetaJobManager tutorial: expecting 0 jobs on entry.\");"
   ],
   "outputs": [],
   "metadata": {
    "dotnet_interactive": {
     "language": "csharp"
    }
   }
  },
  {
   "cell_type": "markdown",
   "source": [
    "and create, resp. open a *BoSSS* database on a local drive:"
   ],
   "metadata": {}
  },
  {
   "cell_type": "code",
   "execution_count": null,
   "source": [
    "var myLocalDb = CreateTempDatabase();\r\n",
    "/// "
   ],
   "outputs": [],
   "metadata": {
    "dotnet_interactive": {
     "language": "csharp"
    }
   }
  },
  {
   "cell_type": "markdown",
   "source": [
    "To specify the exact directory of the database, you might use\r\n",
    "**OpenOrCreateDatabase**.\r\n",
    "\r\n",
    "BoSSScmdSilent BoSSSexeSilent"
   ],
   "metadata": {}
  },
  {
   "cell_type": "code",
   "execution_count": null,
   "source": [
    "databases"
   ],
   "outputs": [],
   "metadata": {
    "dotnet_interactive": {
     "language": "csharp"
    }
   }
  },
  {
   "cell_type": "markdown",
   "source": [
    "# Loading a BoSSS-Solver and Setting up a Simulation\r\n",
    "\r\n",
    "As an example, we use the workflow management tools to simulate \r\n",
    "incompressible channel flow, therefore we have to import the namespace,\r\n",
    "and repeat the steps from the IBM example (Tutorial 2) in order to setup the\r\n",
    "control object:"
   ],
   "metadata": {}
  },
  {
   "cell_type": "code",
   "execution_count": null,
   "source": [
    "\r\n",
    "using BoSSS.Application.XNSE_Solver;"
   ],
   "outputs": [],
   "metadata": {
    "dotnet_interactive": {
     "language": "csharp"
    }
   }
  },
  {
   "cell_type": "markdown",
   "source": [
    "We create a grid with boundary conditions:"
   ],
   "metadata": {}
  },
  {
   "cell_type": "code",
   "execution_count": null,
   "source": [
    "var xNodes       = GenericBlas.Linspace(0, 10 , 41); \r\n",
    "var yNodes       = GenericBlas.Linspace(-1, 1, 9); \r\n",
    "GridCommons grid = Grid2D.Cartesian2DGrid(xNodes, yNodes);\r\n",
    "grid.DefineEdgeTags(delegate (double[] X) { \r\n",
    "    double x = X[0];\r\n",
    "    double y = X[1]; \r\n",
    "    if (Math.Abs(y - (-1)) <= 1.0e-8) \r\n",
    "        return \"wall\"; // lower wall\r\n",
    "    if (Math.Abs(y - (+1)) <= 1.0e-8) \r\n",
    "        return \"wall\"; // upper wall\r\n",
    "    if (Math.Abs(x - (0.0)) <= 1.0e-8) \r\n",
    "        return \"Velocity_Inlet\"; // inlet\r\n",
    "    if (Math.Abs(x - (+10.0)) <= 1.0e-8) \r\n",
    "        return \"Pressure_Outlet\"; // outlet\r\n",
    "    throw new ArgumentOutOfRangeException(\"unknown domain\"); \r\n",
    "});"
   ],
   "outputs": [],
   "metadata": {
    "dotnet_interactive": {
     "language": "csharp"
    }
   }
  },
  {
   "cell_type": "markdown",
   "source": [
    "And save it to the database:"
   ],
   "metadata": {}
  },
  {
   "cell_type": "code",
   "execution_count": null,
   "source": [
    "myLocalDb.SaveGrid(ref grid);"
   ],
   "outputs": [],
   "metadata": {
    "dotnet_interactive": {
     "language": "csharp"
    }
   }
  },
  {
   "cell_type": "markdown",
   "source": [
    "Next, we create the control object for the incompressible simulation:\r\n",
    "\r\n",
    "control object instantiation"
   ],
   "metadata": {}
  },
  {
   "cell_type": "code",
   "execution_count": null,
   "source": [
    "var c = new XNSE_Control();\r\n",
    "// general description:\r\n",
    "int k                = 1;\r\n",
    "string desc          = \"Steady state, channel, k\" + k; \r\n",
    "c.SessionName        = \"SteadyStateChannel\"; \r\n",
    "c.ProjectDescription = desc;\r\n",
    "c.Tags.Add(\"k\"+k);\r\n",
    "// setting the grid:\r\n",
    "c.SetGrid(grid);\r\n",
    "// DG polynomial degree\r\n",
    "c.SetDGdegree(k);\r\n",
    "// Physical parameters:\r\n",
    "double reynolds            = 20; \r\n",
    "c.PhysicalParameters.rho_A = 1; \r\n",
    "c.PhysicalParameters.mu_A  = 1.0/reynolds;\r\n",
    "// Timestepping properties:\r\n",
    "c.TimesteppingMode = AppControl._TimesteppingMode.Steady;"
   ],
   "outputs": [],
   "metadata": {
    "dotnet_interactive": {
     "language": "csharp"
    }
   }
  },
  {
   "cell_type": "markdown",
   "source": [
    "The specification of boundary conditions and initial values\r\n",
    "is a bit more complicated if the job manager is used:\r\n",
    "\r\n",
    "Since the solver is executed in an external program, the control object \r\n",
    "has to be saved in a file. For lots of complicated objects,\r\n",
    "especially for delegates, C\\# does not support serialization \r\n",
    "(converting the object into a form that can be saved on disk, or \r\n",
    "transmitted over a network), so a workaround is needed.\r\n",
    "This is achieved e.g. by the **Formula** object, where a C\\#-formula\r\n",
    "is saved as a string."
   ],
   "metadata": {}
  },
  {
   "cell_type": "code",
   "execution_count": null,
   "source": [
    "var WallVelocity = new Formula(\"X => 0.0\", false); // a time-indep. formula"
   ],
   "outputs": [],
   "metadata": {
    "dotnet_interactive": {
     "language": "csharp"
    }
   }
  },
  {
   "cell_type": "markdown",
   "source": [
    "Testing the formula:"
   ],
   "metadata": {}
  },
  {
   "cell_type": "code",
   "execution_count": null,
   "source": [
    "WallVelocity.Evaluate(new[]{0.0, 0.0}, 0.0); // evaluationg at (0,0), at time 0"
   ],
   "outputs": [],
   "metadata": {
    "dotnet_interactive": {
     "language": "csharp"
    }
   }
  },
  {
   "cell_type": "code",
   "execution_count": null,
   "source": [
    "// [Deprecated]\r\n",
    "/// A disadvantage of string-formulas is that they look a bit ``alien''\r\n",
    "/// within the worksheet; therefore, there is also a little hack which allows \r\n",
    "/// the conversion of a static memeber function of a static class into a \r\n",
    "/// \\code{Formula} object:"
   ],
   "outputs": [],
   "metadata": {
    "dotnet_interactive": {
     "language": "csharp"
    }
   }
  },
  {
   "cell_type": "code",
   "execution_count": null,
   "source": [
    "// Deprecated, this option is no longer supported in .NET5\r\n",
    "static class StaticFormulas {\r\n",
    "    public static double VelX_Inlet(double[] X) {\r\n",
    "        //double x  = X[0];\r\n",
    "        double y  = X[0];\r\n",
    "        double UX = 1.0 - y*y;\r\n",
    "        return UX;\r\n",
    "    }  \r\n",
    " \r\n",
    "    public static double VelY_Inlet(double[] X) {\r\n",
    "        return 0.0;\r\n",
    "    }      \r\n",
    "}"
   ],
   "outputs": [],
   "metadata": {
    "dotnet_interactive": {
     "language": "csharp"
    }
   }
  },
  {
   "cell_type": "code",
   "execution_count": null,
   "source": [
    "// InletVelocityX = GetFormulaObject(StaticFormulas.VelX_Inlet);\r\n",
    "//var InletVelocityY = GetFormulaObject(StaticFormulas.VelY_Inlet);"
   ],
   "outputs": [],
   "metadata": {
    "dotnet_interactive": {
     "language": "csharp"
    }
   }
  },
  {
   "cell_type": "code",
   "execution_count": null,
   "source": [
    "var InletVelocityX = new Formula(\"X => 1 - X[0]*X[0]\", false);\r\n",
    "var InletVelocityY = new Formula(\"X => 0.0\", false);"
   ],
   "outputs": [],
   "metadata": {
    "dotnet_interactive": {
     "language": "csharp"
    }
   }
  },
  {
   "cell_type": "markdown",
   "source": [
    "Finally, we set boundary values for our simulation. The initial values\r\n",
    "are set to zero per default; for the steady-state simulation initial\r\n",
    "values are irrelevan anyway:\r\n",
    "Initial Values are set to 0"
   ],
   "metadata": {}
  },
  {
   "cell_type": "code",
   "execution_count": null,
   "source": [
    "c.BoundaryValues.Clear(); \r\n",
    "c.AddBoundaryValue(\"wall\", \"VelocityX\", WallVelocity); \r\n",
    "c.AddBoundaryValue(\"Velocity_Inlet\", \"VelocityX\", InletVelocityX);  \r\n",
    "c.AddBoundaryValue(\"Velocity_Inlet\", \"VelocityY\", InletVelocityY); \r\n",
    "c.AddBoundaryValue(\"Pressure_Outlet\");"
   ],
   "outputs": [],
   "metadata": {
    "dotnet_interactive": {
     "language": "csharp"
    }
   }
  },
  {
   "cell_type": "markdown",
   "source": [
    "# 4 Activation and Monitoring of the the Job\r\n",
    "\r\n",
    "Finally, we are ready to deploy the job at the batch processor;\r\n",
    "In a usual work flow scenario, we **do not** want to (re-) submit the \r\n",
    "job every time we run the worksheet -- usually, one wants to run a job once.\r\n",
    "\r\n",
    "The concept to overcome this problem is job activation. If a job is \r\n",
    "activated, the meta job manager first checks the databases and the batch \r\n",
    "system, if a job with the respective name and project name is already \r\n",
    "submitted. Only if there is no information that the job was ever submitted\r\n",
    "or started anywhere, the job is submitted to the respective batch system.\r\n",
    "\r\n",
    "First, a **Job**-object is created from the control object:"
   ],
   "metadata": {}
  },
  {
   "cell_type": "code",
   "execution_count": null,
   "source": [
    "var JobLocal = c.CreateJob();"
   ],
   "outputs": [],
   "metadata": {
    "dotnet_interactive": {
     "language": "csharp"
    }
   }
  },
  {
   "cell_type": "markdown",
   "source": [
    "This job is not activated yet, it can still be configured:"
   ],
   "metadata": {}
  },
  {
   "cell_type": "code",
   "execution_count": null,
   "source": [
    "JobLocal.Status"
   ],
   "outputs": [],
   "metadata": {
    "dotnet_interactive": {
     "language": "csharp"
    }
   }
  },
  {
   "cell_type": "code",
   "execution_count": null,
   "source": [
    "///BoSSScmdsilent\r\n",
    "NUnit.Framework.Assert.IsTrue(JobLocal.Status == JobStatus.PreActivation);"
   ],
   "outputs": [],
   "metadata": {
    "dotnet_interactive": {
     "language": "csharp"
    }
   }
  },
  {
   "cell_type": "markdown",
   "source": [
    "One can change e.g. the number of MPI processes:"
   ],
   "metadata": {}
  },
  {
   "cell_type": "code",
   "execution_count": null,
   "source": [
    "JobLocal.NumberOfMPIProcs = 1;"
   ],
   "outputs": [],
   "metadata": {
    "dotnet_interactive": {
     "language": "csharp"
    }
   }
  },
  {
   "cell_type": "markdown",
   "source": [
    "Note that these jobs are desigend to be **persistent**:\r\n",
    "This means the computation is only started \r\n",
    "**once for a given control object**, no matter how often the worksheet\r\n",
    "is executed. \r\n",
    "\r\n",
    "Such a behaviour is useful for expensive simulations, which run on HPC\r\n",
    "servers over days or even weeks. The user (you) can close the worksheet\r\n",
    "and maybe open and execute it a few days later, and he can access\r\n",
    "the original job which he submitted a few days ago (maybe it is finished\r\n",
    "now).\r\n",
    "\r\n",
    "Then, the job is activated, resp. submitted, resp. deployed \r\n",
    "to one batch system.\r\n",
    "If job persistency is not wanted, traces of the job can be removed \r\n",
    "on request dureing activation, causing a fresh job deployment at the\r\n",
    "batch system:"
   ],
   "metadata": {}
  },
  {
   "cell_type": "code",
   "execution_count": null,
   "source": [
    "bool DeleteOldDeploymentsAndSessions = true; // use with care! Normally, you \r\n",
    "                                             // dont want this!!!\r\n",
    "JobLocal.Activate(myBatch,  // execute the job in 'myBatch'\r\n",
    "                  DeleteOldDeploymentsAndSessions); // causes fresh deployment"
   ],
   "outputs": [],
   "metadata": {
    "dotnet_interactive": {
     "language": "csharp"
    }
   }
  },
  {
   "cell_type": "markdown",
   "source": [
    "All jobs can be listed using the workflow management:"
   ],
   "metadata": {}
  },
  {
   "cell_type": "code",
   "execution_count": null,
   "source": [
    "BoSSSshell.WorkflowMgm.AllJobs"
   ],
   "outputs": [],
   "metadata": {
    "dotnet_interactive": {
     "language": "csharp"
    }
   }
  },
  {
   "cell_type": "markdown",
   "source": [
    "Check the present job status:"
   ],
   "metadata": {}
  },
  {
   "cell_type": "code",
   "execution_count": null,
   "source": [
    "JobLocal.Status"
   ],
   "outputs": [],
   "metadata": {
    "dotnet_interactive": {
     "language": "csharp"
    }
   }
  },
  {
   "cell_type": "code",
   "execution_count": null,
   "source": [
    "/// BoSSScmdSilent BoSSSexeSilent\r\n",
    "NUnit.Framework.Assert.IsTrue(\r\n",
    "   JobLocal.Status == JobStatus.PendingInExecutionQueue\r\n",
    "   || JobLocal.Status == JobStatus.InProgress\r\n",
    "   || JobLocal.Status == JobStatus.FinishedSuccessful);"
   ],
   "outputs": [],
   "metadata": {
    "dotnet_interactive": {
     "language": "csharp"
    }
   }
  },
  {
   "cell_type": "markdown",
   "source": [
    "Here, we block until both of our jobs have finished:"
   ],
   "metadata": {}
  },
  {
   "cell_type": "code",
   "execution_count": null,
   "source": [
    "BoSSSshell.WorkflowMgm.BlockUntilAllJobsTerminate(10);"
   ],
   "outputs": [],
   "metadata": {
    "dotnet_interactive": {
     "language": "csharp"
    }
   }
  },
  {
   "cell_type": "markdown",
   "source": [
    "We examine the output and error stream of the job:\r\n",
    "This directly accesses the *\\tt stdout*-redirection of the respective job\r\n",
    "manager, which may contain a bit more information than the \r\n",
    "*\\tt stdout*-copy in the session directory."
   ],
   "metadata": {}
  },
  {
   "cell_type": "code",
   "execution_count": null,
   "source": [
    "JobLocal.Stdout"
   ],
   "outputs": [],
   "metadata": {
    "dotnet_interactive": {
     "language": "csharp"
    }
   }
  },
  {
   "cell_type": "markdown",
   "source": [
    "Additionally we display the error stream and hope that it is empty:"
   ],
   "metadata": {}
  },
  {
   "cell_type": "code",
   "execution_count": null,
   "source": [
    "\r\n",
    "JobLocal.Stderr"
   ],
   "outputs": [],
   "metadata": {
    "dotnet_interactive": {
     "language": "csharp"
    }
   }
  },
  {
   "cell_type": "markdown",
   "source": [
    "We can also obtain the session \r\n",
    "which was stored during the execution of the job:"
   ],
   "metadata": {}
  },
  {
   "cell_type": "code",
   "execution_count": null,
   "source": [
    "var Sloc = JobLocal.LatestSession;\r\n",
    "Sloc"
   ],
   "outputs": [],
   "metadata": {
    "dotnet_interactive": {
     "language": "csharp"
    }
   }
  },
  {
   "cell_type": "markdown",
   "source": [
    " We can also list all attempts to run the job at the assigend processor:"
   ],
   "metadata": {}
  },
  {
   "cell_type": "code",
   "execution_count": null,
   "source": [
    "JobLocal.AllDeployments"
   ],
   "outputs": [],
   "metadata": {
    "dotnet_interactive": {
     "language": "csharp"
    }
   }
  },
  {
   "cell_type": "code",
   "execution_count": null,
   "source": [
    "/// BoSSScmdSilent BoSSSexeSilent\r\n",
    "NUnit.Framework.Assert.IsTrue(JobLocal.AllDeployments.Count == 1, \"MetaJobManager tutorial: Found more than one deployment.\");"
   ],
   "outputs": [],
   "metadata": {
    "dotnet_interactive": {
     "language": "csharp"
    }
   }
  },
  {
   "cell_type": "markdown",
   "source": [
    "Finally, we check the status of our jobs:"
   ],
   "metadata": {}
  },
  {
   "cell_type": "code",
   "execution_count": null,
   "source": [
    "JobLocal.Status"
   ],
   "outputs": [],
   "metadata": {
    "dotnet_interactive": {
     "language": "csharp"
    }
   }
  },
  {
   "cell_type": "markdown",
   "source": [
    " If anything failed, hints on the reason why are provides by the \r\n",
    "**GetStatus** method:"
   ],
   "metadata": {}
  },
  {
   "cell_type": "code",
   "execution_count": null,
   "source": [
    "JobLocal.GetStatus(WriteHints:true)"
   ],
   "outputs": [],
   "metadata": {
    "dotnet_interactive": {
     "language": "csharp"
    }
   }
  },
  {
   "cell_type": "code",
   "execution_count": null,
   "source": [
    "/// BoSSScmdSilent BoSSSexeSilent\r\n",
    "NUnit.Framework.Assert.IsTrue(JobLocal.Status == JobStatus.FinishedSuccessful, \"MetaJobManager tutorial: Job was not successful.\");"
   ],
   "outputs": [],
   "metadata": {
    "dotnet_interactive": {
     "language": "csharp"
    }
   }
  }
 ],
 "metadata": {
  "kernelspec": {
   "display_name": ".NET (C#)",
   "language": "C#",
   "name": ".net-csharp"
  },
  "language_info": {
   "file_extension": ".cs",
   "mimetype": "text/x-csharp",
   "name": "C#",
   "pygments_lexer": "csharp",
   "version": "8.0"
  }
 },
 "nbformat": 4,
 "nbformat_minor": 4
}