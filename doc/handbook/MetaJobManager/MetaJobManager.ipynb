{
 "cells": [
  {
   "cell_type": "code",
   "execution_count": null,
   "metadata": {
    "dotnet_interactive": {
     "language": "csharp"
    }
   },
   "outputs": [],
   "source": [
    "#r \"BoSSSpad.dll\"\n",
    "using System;\n",
    "using System.Collections.Generic;\n",
    "using System.Linq;\n",
    "using ilPSP;\n",
    "using ilPSP.Utils;\n",
    "using BoSSS.Platform;\n",
    "using BoSSS.Foundation;\n",
    "using BoSSS.Foundation.Grid;\n",
    "using BoSSS.Foundation.Grid.Classic;\n",
    "using BoSSS.Foundation.IO;\n",
    "using BoSSS.Solution;\n",
    "using BoSSS.Solution.Control;\n",
    "using BoSSS.Solution.GridImport;\n",
    "using BoSSS.Solution.Statistic;\n",
    "using BoSSS.Solution.Utils;\n",
    "using BoSSS.Solution.Gnuplot;\n",
    "using BoSSS.Application.BoSSSpad;\n",
    "using BoSSS.Application.XNSE_Solver;\n",
    "using static BoSSS.Application.BoSSSpad.BoSSSshell;\n",
    "Init();\n"
   ]
  },
  {
   "cell_type": "markdown",
   "metadata": {},
   "source": [
    "# **Worklfow Management and meta job scheduler**\n",
    "\n",
    "This tutorial illustrates how computations can be executed on large \n",
    "(or small) compute servers, aka.\n",
    "high-performance-computers (HPC), aka. compute clusters, aka. supercomputers, etc.\n",
    "\n",
    "This means, the computation is not executed on the local workstation \n",
    "(or laptop) but on some other computer.\n",
    "This approach is particulary handy for large computations, which run\n",
    "for multiple hours or days, since a user can \n",
    "e.g. shutdown or restart his personal computer without killing the compute job. \n",
    "\n",
    "*BoSSS* features a set of classes and routines \n",
    "(an API, application programing interface) for communication with \n",
    "compute clusters. This is especially handy for **scripting**,\n",
    "e.g. for parameter studies, where dozens of computations \n",
    "have to be started and monitored."
   ]
  },
  {
   "cell_type": "markdown",
   "metadata": {},
   "source": [
    "\n",
    "# 1 Batch Processing\n",
    "\n",
    "First, we have to select a *batch system* that we want to use.\n",
    "Batch systems are a common approach to organize workloads (aka. compute jobs)\n",
    "on compute clusters.\n",
    "On such systems, a user typically does *not* starts a simulation manually.\n",
    "Instead, he specifies a so-called *compute job*. The *scheduler* \n",
    "(aka. *batch system*) collects \n",
    "compute jobs from all users on the compute cluster, sorts them according to \n",
    "some priority and puts the jobs into some queue, also called *batch*.\n",
    "The jobs in the batch are then executed in order, depending on the \n",
    "available hardware and the scheduling policies of the system.\n",
    "\n",
    "The *BoSSS* API provides front-ends (clients) for the following \n",
    "batch system software:\n",
    "\n",
    "- **BoSSS.Application.BoSSSpad.SlurmClient** for the \n",
    "Slurm Workload Manager (very prominent on Linux HPC systems)\n",
    "- **BoSSS.Application.BoSSSpad.MsHPC2012Client**\n",
    "for the Microsoft HPC Pack 2012 and higher\n",
    "- **BoSSS.Application.BoSSSpad.MiniBatchProcessorClient** for the \n",
    "mini batch processor, a minimalistic, *BoSSS*-internal batch system which mimiks \n",
    "a supercomputer batch system on the local machine.\n"
   ]
  },
  {
   "cell_type": "markdown",
   "metadata": {},
   "source": [
    "A list of clients for various batch systems, which are loaded at the \n",
    "**restart** command can be configured through the  \n",
    "*\\tt $\\sim$/.BoSSS/etc/BatchProcessorConfig.json*-file.\n",
    "If this file is missing, a default setting, containing a \n",
    "mini batch processor, is initialized. \n",
    "\n",
    "The list of all execution queues can be accessed through:\n",
    "\n",
    "\n"
   ]
  },
  {
   "cell_type": "code",
   "execution_count": null,
   "metadata": {
    "dotnet_interactive": {
     "language": "csharp"
    }
   },
   "outputs": [],
   "source": [
    "ExecutionQueues"
   ]
  },
  {
   "cell_type": "markdown",
   "metadata": {},
   "source": [
    "For the sake of simplicuity, we pick the first one:"
   ]
  },
  {
   "cell_type": "code",
   "execution_count": null,
   "metadata": {
    "dotnet_interactive": {
     "language": "csharp"
    }
   },
   "outputs": [],
   "source": [
    "\n",
    "var myBatch = ExecutionQueues[0];"
   ]
  },
  {
   "cell_type": "markdown",
   "metadata": {},
   "source": [
    "Note on the Mini Batch Processor:\n",
    "The batch processor for local jobs can be started separately (by launching\n",
    "**\\tt MiniBatchProcessor.exe**), or from the worksheet;\n",
    "In the latter case, it depends on the operating system, whether the \n",
    "\\newline **\\tt MiniBatchProcessor.exe** is terminated with the worksheet, \n",
    "or not.\n",
    "If no mini-batch-processor is running, it is started \n",
    "at the initialization of the workflow management.\n",
    "\n",
    "```csharp\n",
    "MiniBatchProcessor.Server.StartIfNotRunning(false);\n",
    "```"
   ]
  },
  {
   "cell_type": "markdown",
   "metadata": {},
   "source": [
    "\n",
    "# 2 Initializing the workflow management\n",
    "\n",
    "In order to use the workflow management, \n",
    "the very first thing we have to do is to initialize it by defineing \n",
    "a project name. \n",
    "This is used to generate names for the compute jobs and to \n",
    "identify sessions in the database:"
   ]
  },
  {
   "cell_type": "code",
   "execution_count": null,
   "metadata": {
    "dotnet_interactive": {
     "language": "csharp"
    }
   },
   "outputs": [],
   "source": [
    "BoSSSshell.WorkflowMgm.Init(\"MetaJobManager_Tutorial\");"
   ]
  },
  {
   "cell_type": "markdown",
   "metadata": {},
   "source": [
    "We verify that we have no jobs defined so far ..."
   ]
  },
  {
   "cell_type": "code",
   "execution_count": null,
   "metadata": {
    "dotnet_interactive": {
     "language": "csharp"
    }
   },
   "outputs": [],
   "source": [
    "BoSSSshell.WorkflowMgm.AllJobs"
   ]
  },
  {
   "cell_type": "markdown",
   "metadata": {},
   "source": [
    "BoSSScmdSilent BoSSSexeSilent"
   ]
  },
  {
   "cell_type": "code",
   "execution_count": null,
   "metadata": {
    "dotnet_interactive": {
     "language": "csharp"
    }
   },
   "outputs": [],
   "source": [
    "NUnit.Framework.Assert.IsTrue(BoSSSshell.WorkflowMgm.AllJobs.Count == 0, \"MetaJobManager tutorial: expecting 0 jobs on entry.\");"
   ]
  },
  {
   "cell_type": "markdown",
   "metadata": {},
   "source": [
    "and create, resp. open a *BoSSS* database on a local drive:"
   ]
  },
  {
   "cell_type": "code",
   "execution_count": null,
   "metadata": {
    "dotnet_interactive": {
     "language": "csharp"
    }
   },
   "outputs": [],
   "source": [
    "var myLocalDb = CreateTempDatabase();"
   ]
  },
  {
   "cell_type": "markdown",
   "metadata": {},
   "source": [
    "To specify the exact directory of the database, you might use\n",
    "**OpenOrCreateDatabase**.\n",
    "\n",
    "BoSSScmdSilent BoSSSexeSilent"
   ]
  },
  {
   "cell_type": "code",
   "execution_count": null,
   "metadata": {
    "dotnet_interactive": {
     "language": "csharp"
    }
   },
   "outputs": [],
   "source": [
    "databases"
   ]
  },
  {
   "cell_type": "markdown",
   "metadata": {},
   "source": [
    "# Loading a BoSSS-Solver and Setting up a Simulation\n",
    "\n",
    "As an example, we use the workflow management tools to simulate \n",
    "incompressible channel flow, therefore we have to import the namespace,\n",
    "and repeat the steps from the IBM example (Tutorial 2) in order to setup the\n",
    "control object:"
   ]
  },
  {
   "cell_type": "code",
   "execution_count": null,
   "metadata": {
    "dotnet_interactive": {
     "language": "csharp"
    }
   },
   "outputs": [],
   "source": [
    "using BoSSS.Application.XNSE_Solver;"
   ]
  },
  {
   "cell_type": "markdown",
   "metadata": {},
   "source": [
    "We create a grid with boundary conditions:"
   ]
  },
  {
   "cell_type": "code",
   "execution_count": null,
   "metadata": {
    "dotnet_interactive": {
     "language": "csharp"
    }
   },
   "outputs": [],
   "source": [
    "var xNodes       = GenericBlas.Linspace(0, 10 , 41); \n",
    "var yNodes       = GenericBlas.Linspace(-1, 1, 9); \n",
    "GridCommons grid = Grid2D.Cartesian2DGrid(xNodes, yNodes);\n",
    "grid.DefineEdgeTags(delegate (double[] X) { \n",
    "    double x = X[0];\n",
    "    double y = X[1]; \n",
    "    if (Math.Abs(y - (-1)) <= 1.0e-8) \n",
    "        return \"wall\"; // lower wall\n",
    "    if (Math.Abs(y - (+1)) <= 1.0e-8) \n",
    "        return \"wall\"; // upper wall\n",
    "    if (Math.Abs(x - (0.0)) <= 1.0e-8) \n",
    "        return \"Velocity_Inlet\"; // inlet\n",
    "    if (Math.Abs(x - (+10.0)) <= 1.0e-8) \n",
    "        return \"Pressure_Outlet\"; // outlet\n",
    "    throw new ArgumentOutOfRangeException(\"unknown domain\"); \n",
    "});"
   ]
  },
  {
   "cell_type": "markdown",
   "metadata": {},
   "source": [
    "And save it to the database:"
   ]
  },
  {
   "cell_type": "code",
   "execution_count": null,
   "metadata": {
    "dotnet_interactive": {
     "language": "csharp"
    }
   },
   "outputs": [],
   "source": [
    "myLocalDb.SaveGrid(ref grid);"
   ]
  },
  {
   "cell_type": "markdown",
   "metadata": {},
   "source": [
    "Next, we create the control object for the incompressible simulation:\n",
    "\n",
    "control object instantiation"
   ]
  },
  {
   "cell_type": "code",
   "execution_count": null,
   "metadata": {
    "dotnet_interactive": {
     "language": "csharp"
    }
   },
   "outputs": [],
   "source": [
    "var c = new XNSE_Control();\n",
    "// general description:\n",
    "int k                = 1;\n",
    "string desc          = \"Steady state, channel, k\" + k; \n",
    "c.SessionName        = \"SteadyStateChannel\"; \n",
    "c.ProjectDescription = desc;\n",
    "c.Tags.Add(\"k\"+k);\n",
    "// setting the grid:\n",
    "c.SetGrid(grid);\n",
    "// DG polynomial degree\n",
    "c.SetDGdegree(k);\n",
    "// Physical parameters:\n",
    "double reynolds            = 20; \n",
    "c.PhysicalParameters.rho_A = 1; \n",
    "c.PhysicalParameters.mu_A  = 1.0/reynolds;\n",
    "// Timestepping properties:\n",
    "c.TimesteppingMode = AppControl._TimesteppingMode.Steady;"
   ]
  },
  {
   "cell_type": "markdown",
   "metadata": {},
   "source": [
    "The specification of boundary conditions and initial values\n",
    "is a bit more complicated if the job manager is used:\n",
    "\n",
    "Since the solver is executed in an external program, the control object \n",
    "has to be saved in a file. For lots of complicated objects,\n",
    "especially for delegates, C\\# does not support serialization \n",
    "(converting the object into a form that can be saved on disk, or \n",
    "transmitted over a network), so a workaround is needed.\n",
    "This is achieved e.g. by the **Formula** object, where a C\\#-formula\n",
    "is saved as a string."
   ]
  },
  {
   "cell_type": "code",
   "execution_count": null,
   "metadata": {
    "dotnet_interactive": {
     "language": "csharp"
    }
   },
   "outputs": [],
   "source": [
    "var WallVelocity = new Formula(\"X => 0.0\", false); // 2nd Argument=false says that its a time-indep. formula."
   ]
  },
  {
   "cell_type": "markdown",
   "metadata": {},
   "source": [
    "Testing the formula:"
   ]
  },
  {
   "cell_type": "code",
   "execution_count": null,
   "metadata": {
    "dotnet_interactive": {
     "language": "csharp"
    }
   },
   "outputs": [],
   "source": [
    "WallVelocity.Evaluate(new[]{0.0, 0.0}, 0.0) // evaluationg at (0,0), at time 0"
   ]
  },
  {
   "cell_type": "code",
   "execution_count": null,
   "metadata": {
    "dotnet_interactive": {
     "language": "csharp"
    }
   },
   "outputs": [],
   "source": [
    "// [Deprecated]\n",
    "/// A disadvantage of string-formulas is that they look a bit ``alien''\n",
    "/// within the worksheet; therefore, there is also a little hack which allows \n",
    "/// the conversion of a static memeber function of a static class into a \n",
    "/// \\code{Formula} object:"
   ]
  },
  {
   "cell_type": "code",
   "execution_count": null,
   "metadata": {
    "dotnet_interactive": {
     "language": "csharp"
    }
   },
   "outputs": [],
   "source": [
    "// Deprecated, this option is no longer supported in .NET5\n",
    "static class StaticFormulas {\n",
    "    public static double VelX_Inlet(double[] X) {\n",
    "        //double x  = X[0];\n",
    "        double y  = X[0];\n",
    "        double UX = 1.0 - y*y;\n",
    "        return UX;\n",
    "    }  \n",
    " \n",
    "    public static double VelY_Inlet(double[] X) {\n",
    "        return 0.0;\n",
    "    }      \n",
    "}"
   ]
  },
  {
   "cell_type": "code",
   "execution_count": null,
   "metadata": {
    "dotnet_interactive": {
     "language": "csharp"
    }
   },
   "outputs": [],
   "source": [
    "// InletVelocityX = GetFormulaObject(StaticFormulas.VelX_Inlet);\n",
    "//var InletVelocityY = GetFormulaObject(StaticFormulas.VelY_Inlet);"
   ]
  },
  {
   "cell_type": "code",
   "execution_count": null,
   "metadata": {
    "dotnet_interactive": {
     "language": "csharp"
    }
   },
   "outputs": [],
   "source": [
    "var InletVelocityX = new Formula(\"X => 1 - X[0]*X[0]\", false);\n",
    "var InletVelocityY = new Formula(\"X => 0.0\", false);"
   ]
  },
  {
   "cell_type": "markdown",
   "metadata": {},
   "source": [
    "Finally, we set boundary values for our simulation. The initial values\n",
    "are set to zero per default; for the steady-state simulation initial\n",
    "values are irrelevant anyway:\n",
    "\n",
    "Initial Values are set to 0"
   ]
  },
  {
   "cell_type": "code",
   "execution_count": null,
   "metadata": {
    "dotnet_interactive": {
     "language": "csharp"
    }
   },
   "outputs": [],
   "source": [
    "c.BoundaryValues.Clear(); \n",
    "c.AddBoundaryValue(\"wall\", \"VelocityX\", WallVelocity); \n",
    "c.AddBoundaryValue(\"Velocity_Inlet\", \"VelocityX\", InletVelocityX);  \n",
    "c.AddBoundaryValue(\"Velocity_Inlet\", \"VelocityY\", InletVelocityY); \n",
    "c.AddBoundaryValue(\"Pressure_Outlet\");"
   ]
  },
  {
   "cell_type": "markdown",
   "metadata": {},
   "source": [
    "# 4 Activation and Monitoring of the the Job\n",
    "\n",
    "Finally, we are ready to deploy the job at the batch processor;\n",
    "In a usual work flow scenario, we **do not** want to (re-) submit the \n",
    "job every time we run the worksheet -- usually, one wants to run a job once.\n",
    "\n",
    "The concept to overcome this problem is job activation. If a job is \n",
    "activated, the meta job manager first checks the databases and the batch \n",
    "system, if a job with the respective name and project name is already \n",
    "submitted. Only if there is no information that the job was ever submitted\n",
    "or started anywhere, the job is submitted to the respective batch system.\n",
    "\n",
    "First, a **Job**-object is created from the control object:"
   ]
  },
  {
   "cell_type": "code",
   "execution_count": null,
   "metadata": {
    "dotnet_interactive": {
     "language": "csharp"
    }
   },
   "outputs": [],
   "source": [
    "var JobLocal = c.CreateJob();"
   ]
  },
  {
   "cell_type": "markdown",
   "metadata": {},
   "source": [
    "This job is not activated yet, it can still be configured:"
   ]
  },
  {
   "cell_type": "code",
   "execution_count": null,
   "metadata": {
    "dotnet_interactive": {
     "language": "csharp"
    }
   },
   "outputs": [],
   "source": [
    "JobLocal.Status"
   ]
  },
  {
   "cell_type": "code",
   "execution_count": null,
   "metadata": {
    "dotnet_interactive": {
     "language": "csharp"
    }
   },
   "outputs": [],
   "source": [
    "\n",
    "NUnit.Framework.Assert.IsTrue(JobLocal.Status == JobStatus.PreActivation);"
   ]
  },
  {
   "cell_type": "markdown",
   "metadata": {},
   "source": [
    "One can change e.g. the number of MPI processes:"
   ]
  },
  {
   "cell_type": "code",
   "execution_count": null,
   "metadata": {
    "dotnet_interactive": {
     "language": "csharp"
    }
   },
   "outputs": [],
   "source": [
    "JobLocal.NumberOfMPIProcs = 1;"
   ]
  },
  {
   "cell_type": "markdown",
   "metadata": {},
   "source": [
    "Note that these jobs are desigend to be **persistent**:\n",
    "This means the computation is only started \n",
    "**once for a given control object**, no matter how often the worksheet\n",
    "is executed. \n",
    "\n",
    "Such a behaviour is useful for expensive simulations, which run on HPC\n",
    "servers over days or even weeks. The user (you) can close the worksheet\n",
    "and maybe open and execute it a few days later, and he can access\n",
    "the original job which he submitted a few days ago (maybe it is finished\n",
    "now).\n",
    "\n",
    "Then, the job is activated, resp. submitted, resp. deployed \n",
    "to one batch system.\n",
    "If job persistency is not wanted, traces of the job can be removed \n",
    "on request during activation, causing a fresh job deployment at the\n",
    "batch system:"
   ]
  },
  {
   "cell_type": "code",
   "execution_count": null,
   "metadata": {
    "dotnet_interactive": {
     "language": "csharp"
    }
   },
   "outputs": [],
   "source": [
    "bool DeleteOldDeploymentsAndSessions = true; // use with care! Normally, you \n",
    "                                             // dont want this!!!\n",
    "JobLocal.Activate(myBatch,  // execute the job in 'myBatch'\n",
    "                  DeleteOldDeploymentsAndSessions); // causes fresh deployment"
   ]
  },
  {
   "cell_type": "markdown",
   "metadata": {},
   "source": [
    "All jobs can be listed using the workflow management:"
   ]
  },
  {
   "cell_type": "code",
   "execution_count": null,
   "metadata": {
    "dotnet_interactive": {
     "language": "csharp"
    }
   },
   "outputs": [],
   "source": [
    "BoSSSshell.WorkflowMgm.AllJobs"
   ]
  },
  {
   "cell_type": "markdown",
   "metadata": {},
   "source": [
    "Check the present job status:"
   ]
  },
  {
   "cell_type": "code",
   "execution_count": null,
   "metadata": {
    "dotnet_interactive": {
     "language": "csharp"
    }
   },
   "outputs": [],
   "source": [
    "JobLocal.Status"
   ]
  },
  {
   "cell_type": "code",
   "execution_count": null,
   "metadata": {
    "dotnet_interactive": {
     "language": "csharp"
    }
   },
   "outputs": [],
   "source": [
    "/// BoSSScmdSilent BoSSSexeSilent\n",
    "NUnit.Framework.Assert.IsTrue(\n",
    "   JobLocal.Status == JobStatus.PendingInExecutionQueue\n",
    "   || JobLocal.Status == JobStatus.InProgress\n",
    "   || JobLocal.Status == JobStatus.FinishedSuccessful);"
   ]
  },
  {
   "cell_type": "markdown",
   "metadata": {},
   "source": [
    "Here, we block until both of our jobs have finished:"
   ]
  },
  {
   "cell_type": "code",
   "execution_count": null,
   "metadata": {
    "dotnet_interactive": {
     "language": "csharp"
    }
   },
   "outputs": [],
   "source": [
    "BoSSSshell.WorkflowMgm.BlockUntilAllJobsTerminate(1000);"
   ]
  },
  {
   "cell_type": "markdown",
   "metadata": {},
   "source": [
    "We examine the output and error stream of the job:\n",
    "This directly accesses the *\\tt stdout*-redirection of the respective job\n",
    "manager, which may contain a bit more information than the \n",
    "`Stdout`-copy in the session directory."
   ]
  },
  {
   "cell_type": "code",
   "execution_count": null,
   "metadata": {
    "dotnet_interactive": {
     "language": "csharp"
    }
   },
   "outputs": [],
   "source": [
    "JobLocal.Stdout"
   ]
  },
  {
   "cell_type": "markdown",
   "metadata": {},
   "source": [
    "Additionally we display the error stream and hope that it is empty:"
   ]
  },
  {
   "cell_type": "code",
   "execution_count": null,
   "metadata": {
    "dotnet_interactive": {
     "language": "csharp"
    }
   },
   "outputs": [],
   "source": [
    "JobLocal.Stderr"
   ]
  },
  {
   "cell_type": "markdown",
   "metadata": {},
   "source": [
    "We can also obtain the session \n",
    "which was stored during the execution of the job:"
   ]
  },
  {
   "cell_type": "code",
   "execution_count": null,
   "metadata": {
    "dotnet_interactive": {
     "language": "csharp"
    }
   },
   "outputs": [],
   "source": [
    "var Sloc = JobLocal.LatestSession;\n",
    "Sloc"
   ]
  },
  {
   "cell_type": "markdown",
   "metadata": {},
   "source": [
    " We can also list all attempts to run the job at the assigend processor:"
   ]
  },
  {
   "cell_type": "code",
   "execution_count": null,
   "metadata": {
    "dotnet_interactive": {
     "language": "csharp"
    }
   },
   "outputs": [],
   "source": [
    "JobLocal.AllDeployments"
   ]
  },
  {
   "cell_type": "code",
   "execution_count": null,
   "metadata": {
    "dotnet_interactive": {
     "language": "csharp"
    }
   },
   "outputs": [],
   "source": [
    "NUnit.Framework.Assert.IsTrue(JobLocal.AllDeployments.Count == 1, \"MetaJobManager tutorial: Found more than one deployment.\");"
   ]
  },
  {
   "cell_type": "markdown",
   "metadata": {},
   "source": [
    "Finally, we check the status of our jobs:"
   ]
  },
  {
   "cell_type": "code",
   "execution_count": null,
   "metadata": {
    "dotnet_interactive": {
     "language": "csharp"
    }
   },
   "outputs": [],
   "source": [
    "JobLocal.Status"
   ]
  },
  {
   "cell_type": "markdown",
   "metadata": {},
   "source": [
    " If anything failed, hints on the reason why are provides by the \n",
    "**GetStatus** method:"
   ]
  },
  {
   "cell_type": "code",
   "execution_count": null,
   "metadata": {
    "dotnet_interactive": {
     "language": "csharp"
    }
   },
   "outputs": [],
   "source": [
    "JobLocal.GetStatus(WriteHints:true)"
   ]
  },
  {
   "cell_type": "code",
   "execution_count": null,
   "metadata": {
    "dotnet_interactive": {
     "language": "csharp"
    }
   },
   "outputs": [],
   "source": [
    "NUnit.Framework.Assert.IsTrue(JobLocal.Status == JobStatus.FinishedSuccessful, \"MetaJobManager tutorial: Job was not successful.\");"
   ]
  }
 ],
 "metadata": {
  "kernelspec": {
   "display_name": ".NET (C#)",
   "language": "C#",
   "name": ".net-csharp"
  },
  "language_info": {
   "file_extension": ".cs",
   "mimetype": "text/x-csharp",
   "name": "C#",
   "pygments_lexer": "csharp",
   "version": "8.0"
  }
 },
 "nbformat": 4,
 "nbformat_minor": 4
}
