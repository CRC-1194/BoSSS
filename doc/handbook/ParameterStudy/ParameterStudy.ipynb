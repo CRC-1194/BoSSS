{
  "cells": [
    {
      "cell_type": "code",
      "execution_count": null,
      "source": [
        "#r \"BoSSSpad.dll\"\r\n",
        "using System;\r\n",
        "using System.Collections.Generic;\r\n",
        "using System.Linq;\r\n",
        "using ilPSP;\r\n",
        "using ilPSP.Utils;\r\n",
        "using BoSSS.Platform;\r\n",
        "using BoSSS.Platform.LinAlg;\r\n",
        "using BoSSS.Foundation;\r\n",
        "using BoSSS.Foundation.XDG;\r\n",
        "using BoSSS.Foundation.Grid;\r\n",
        "using BoSSS.Foundation.Grid.Classic;\r\n",
        "using BoSSS.Foundation.Grid.RefElements;\r\n",
        "using BoSSS.Foundation.IO;\r\n",
        "using BoSSS.Solution;\r\n",
        "using BoSSS.Solution.Control;\r\n",
        "using BoSSS.Solution.GridImport;\r\n",
        "using BoSSS.Solution.Statistic;\r\n",
        "using BoSSS.Solution.Utils;\r\n",
        "using BoSSS.Solution.AdvancedSolvers;\r\n",
        "using BoSSS.Solution.Gnuplot;\r\n",
        "using BoSSS.Application.BoSSSpad;\r\n",
        "using BoSSS.Application.XNSE_Solver;\r\n",
        "using static BoSSS.Application.BoSSSpad.BoSSSshell;\r\n",
        "Init();\r\n"
      ],
      "outputs": [],
      "metadata": {
        "dotnet_interactive": {
          "language": "csharp"
        }
      }
    },
    {
      "cell_type": "markdown",
      "source": [
        "This guide will give you an example of how to conduct a parameter study with\r\n",
        "all the necessary steps.  \r\n",
        "\r\n",
        "# 1 Initialization of solver, processor and workflow\r\n",
        "We start with initializing of the workflow"
      ],
      "metadata": {
        "dotnet_interactive": {
          "language": "csharp"
        }
      }
    },
    {
      "cell_type": "code",
      "execution_count": null,
      "source": [
        "BoSSSshell.WorkflowMgm.Init(\"Name of Workflow\");"
      ],
      "outputs": [],
      "metadata": {
        "dotnet_interactive": {
          "language": "csharp"
        }
      }
    },
    {
      "cell_type": "markdown",
      "source": [
        "This line helps us manage the sessions later on while evaluating the results. \r\n",
        "Next, we connect to the database."
      ],
      "metadata": {
        "dotnet_interactive": {
          "language": "csharp"
        }
      }
    },
    {
      "cell_type": "code",
      "execution_count": null,
      "source": [
        "var myDb = CreateTempDatabase();"
      ],
      "outputs": [],
      "metadata": {
        "dotnet_interactive": {
          "language": "csharp"
        }
      }
    },
    {
      "cell_type": "markdown",
      "source": [
        "To check all the sessions in the current workflow, use the line:"
      ],
      "metadata": {
        "dotnet_interactive": {
          "language": "csharp"
        }
      }
    },
    {
      "cell_type": "code",
      "execution_count": null,
      "source": [
        "BoSSSshell.WorkflowMgm.Sessions"
      ],
      "outputs": [],
      "metadata": {
        "dotnet_interactive": {
          "language": "csharp"
        }
      }
    },
    {
      "cell_type": "markdown",
      "source": [
        "Now, all the necessary libraries need to be loaded"
      ],
      "metadata": {
        "dotnet_interactive": {
          "language": "csharp"
        }
      }
    },
    {
      "cell_type": "code",
      "execution_count": null,
      "source": [
        "using System.Diagnostics;\r\n",
        "using BoSSS.Foundation.Grid.RefElements;\r\n",
        "using BoSSS.Application.XNSE_Solver;\r\n",
        "using BoSSS.Platform.LinAlg;\r\n",
        "using BoSSS.Solution.XdgTimestepping;"
      ],
      "outputs": [],
      "metadata": {
        "dotnet_interactive": {
          "language": "csharp"
        }
      }
    },
    {
      "cell_type": "markdown",
      "source": [
        "As an execution queue, we select the first queue defined in \r\n",
        "the **$\\sim$/.BoSSS/etc/BatchProcessorConfig.json**-file:"
      ],
      "metadata": {
        "dotnet_interactive": {
          "language": "csharp"
        }
      }
    },
    {
      "cell_type": "code",
      "execution_count": null,
      "source": [
        "var myBatch = ExecutionQueues[0];"
      ],
      "outputs": [],
      "metadata": {
        "dotnet_interactive": {
          "language": "csharp"
        }
      }
    },
    {
      "cell_type": "markdown",
      "source": [
        "# 2 Grid Generation\r\n",
        "Firstly, we need to determine the boundaries of our grid/control volume. \r\n",
        "\r\n",
        "Is it important to know that the number of nodes (in our case $k$) needed are equal to the number of cells $+1$. For instance, for $10$ cells we need $11$ nodes.\r\n",
        "\r\n",
        "In this example we will use the Cartesian $2D$ grid from the database\r\n",
        "which requires $x$- and $y$-Nodes. The J term in the code is for doing\r\n",
        "a check if the desired resolution of the volume is correctly typed."
      ],
      "metadata": {
        "dotnet_interactive": {
          "language": "csharp"
        }
      }
    },
    {
      "cell_type": "code",
      "execution_count": null,
      "source": [
        "int k = 10;\r\n",
        "double[] xNodes = GenericBlas.Linspace(0, 1, k + 1);\r\n",
        "double[] yNodes = GenericBlas.Linspace(0, 1, k + 1);\r\n",
        "int J           = (xNodes.Length - 1)*(yNodes.Length - 1);\r\n",
        "string GridName = string.Format(BoSSSshell.WorkflowMgm.CurrentProject + \"_J\" +J);\r\n",
        " \r\n",
        "Console.WriteLine(\"Creating grid with \" + J + \" cells. \");\r\n",
        " \r\n",
        "GridCommons g;\r\n",
        "g      = Grid2D.Cartesian2DGrid(xNodes, yNodes);\r\n",
        "g.Name = GridName;"
      ],
      "outputs": [],
      "metadata": {
        "dotnet_interactive": {
          "language": "csharp"
        }
      }
    },
    {
      "cell_type": "markdown",
      "source": [
        "# 3 Define geometrical boundaries\r\n",
        "\r\n",
        "After loading the grid and giving the dimensions, we need to adjust\r\n",
        "the edges and their names. \r\n",
        "\r\n",
        "With the following code we assign every edge with\r\n",
        "a number and name. Keep in mind that the name corresponds to the boundary condition (in this case \"Pressure Dirichlet\").\r\n",
        "\r\n",
        "In this particular case we will use inflow profile represented\r\n",
        "via tan-function and the angle of inflow will be $30$ degrees."
      ],
      "metadata": {
        "dotnet_interactive": {
          "language": "csharp"
        }
      }
    },
    {
      "cell_type": "code",
      "execution_count": null,
      "source": [
        "GridCommons g;\r\n",
        "g      = Grid2D.Cartesian2DGrid(xNodes, yNodes);\r\n",
        "g.Name = GridName;\r\n",
        " \r\n",
        "g.EdgeTagNames.Add(1, \"wall\");\r\n",
        "g.EdgeTagNames.Add(2, \"Velocity_Inlet\");\r\n",
        "g.EdgeTagNames.Add(3, \"Pressure_Dirichlet_back\");\r\n",
        "g.EdgeTagNames.Add(4, \"Pressure_Dirichlet_top\");\r\n",
        " \r\n",
        "g.DefineEdgeTags(delegate (double[] X) {\r\n",
        "    byte ret = 0;\r\n",
        "    if (Math.Abs(X[1]-(0.0))<= 1.0e-8)\r\n",
        "        ret = 1;\r\n",
        "    if (Math.Abs(X[0]-(0.0))<= 1.0e-8)\r\n",
        "        ret = 2;\r\n",
        "    if (Math.Abs(X[1]-(1.0))<= 1.0e-8)\r\n",
        "        ret = 3;\r\n",
        "    if (Math.Abs(X[0]-(1.0))<= 1.0e-8)\r\n",
        "        ret = 4;\r\n",
        "    return ret;\r\n",
        " \r\n",
        " });\r\n",
        " myDb.SaveGrid(ref g);"
      ],
      "outputs": [],
      "metadata": {
        "dotnet_interactive": {
          "language": "csharp"
        }
      }
    },
    {
      "cell_type": "markdown",
      "source": [
        "# 4 Angle/Velocity Profile\r\n",
        "In this particular case we will use inflow profile represented via tan-function and the angle of inflow will be $30$ degrees."
      ],
      "metadata": {
        "dotnet_interactive": {
          "language": "csharp"
        }
      }
    },
    {
      "cell_type": "code",
      "execution_count": null,
      "source": [
        "string caseName = string.Format(\"k{0}_{1}\", k, g);\r\n",
        " \r\n",
        "Console.WriteLine(\"setting up: \" + caseName);\r\n",
        " \r\n",
        "double beta    = 30;\r\n",
        "string CosBeta = Math.Cos(beta*Math.PI/180.0).ToString();\r\n",
        "string SinBeta = Math.Sin(beta*Math.PI/180.0).ToString();"
      ],
      "outputs": [],
      "metadata": {
        "dotnet_interactive": {
          "language": "csharp"
        }
      }
    },
    {
      "cell_type": "markdown",
      "source": [
        "These code lines set up the case name and introduce the sine and cosine \r\n",
        "functions to our simulation. \r\n",
        "\r\n",
        "Next, we define the velocities in \r\n",
        "$x$- and $y$-direction via a tan-function. These velocities and angles are only for this particular example and would not be suited for your simulation."
      ],
      "metadata": {
        "dotnet_interactive": {
          "language": "csharp"
        }
      }
    },
    {
      "cell_type": "code",
      "execution_count": null,
      "source": [
        "var UX = new Formula\r\n",
        "    (string.Format(\"X=> {0}*Math.Atan(X[1]*5)*2.0/Math.PI\",CosBeta),false);\r\n",
        "var UY = new Formula \r\n",
        "    (string.Format(\"X=> {0}*Math.Atan(X[1]*5)*2.0/Math.PI\",SinBeta),false);"
      ],
      "outputs": [],
      "metadata": {
        "dotnet_interactive": {
          "language": "csharp"
        }
      }
    },
    {
      "cell_type": "markdown",
      "source": [
        "We need to determine the simulation parameters needed to proceed. \r\n",
        "\r\n",
        "The variable *ctrl* is used to store the **XNSE_Control**-object from which the XNSE Solver will run.\r\n",
        " All other parameters are selfexplanatory."
      ],
      "metadata": {
        "dotnet_interactive": {
          "language": "csharp"
        }
      }
    },
    {
      "cell_type": "code",
      "execution_count": null,
      "source": [
        "var ctrl = new XNSE_Control();\r\n",
        "//controls.Add(ctrl);\r\n",
        " \r\n",
        "ctrl.SessionName = caseName;\r\n",
        "ctrl.SetDatabase(myDb);\r\n",
        "ctrl.SetGrid(g);\r\n",
        "ctrl.SetDGdegree(k);\r\n",
        "ctrl.NoOfMultigridLevels = 5;"
      ],
      "outputs": [],
      "metadata": {
        "dotnet_interactive": {
          "language": "csharp"
        }
      }
    },
    {
      "cell_type": "markdown",
      "source": [
        "Here the velocities and boundary conditions are set. "
      ],
      "metadata": {}
    },
    {
      "cell_type": "code",
      "execution_count": null,
      "source": [
        "ctrl.AddBoundaryValue(\"wall\");\r\n",
        "ctrl.AddBoundaryValue(\"Velocity_Inlet\");\r\n",
        "ctrl.AddBoundaryValue(\"Pressure_Dirichlet_back\");\r\n",
        "ctrl.AddBoundaryValue(\"Pressure_Dirichlet_top\");\r\n",
        "ctrl.AddBoundaryValue(\"Velocity_Inlet\",\"VelocityX\",UX);\r\n",
        "ctrl.AddBoundaryValue(\"Velocity_Inlet\",\"VelocityY\",UY);"
      ],
      "outputs": [],
      "metadata": {
        "dotnet_interactive": {
          "language": "csharp"
        }
      }
    },
    {
      "cell_type": "markdown",
      "source": [
        "aswell as the initial values"
      ],
      "metadata": {
        "dotnet_interactive": {
          "language": "csharp"
        }
      }
    },
    {
      "cell_type": "code",
      "execution_count": null,
      "source": [
        "ctrl.InitialValues.Add(\"VelocityX\", new Formula (\"X=> 0.0\", false));\r\n",
        "ctrl.InitialValues.Add(\"VelocityY\", new Formula (\"X=> 0.0\", false));\r\n",
        "ctrl.InitialValues.Add(\"Pressure\", new Formula (\"X=> 0.0\", false));\r\n",
        "ctrl.InitialValues.Add(\"Phi\", new Formula (\"X=> -1.0\", false));"
      ],
      "outputs": [],
      "metadata": {
        "dotnet_interactive": {
          "language": "csharp"
        }
      }
    },
    {
      "cell_type": "markdown",
      "source": [
        "# 5 Fluid properties\r\n",
        "Here we set up the density and the Reynolds number,\r\n",
        "keep in mind that the calculations are dimensionless, \r\n",
        "so leave the values as seen above ($100$ is an example value)"
      ],
      "metadata": {
        "dotnet_interactive": {
          "language": "csharp"
        }
      }
    },
    {
      "cell_type": "code",
      "execution_count": null,
      "source": [
        "double reynolds               = 100;\r\n",
        "ctrl.PhysicalParameters.rho_A = 1;\r\n",
        "ctrl.PhysicalParameters.mu_A  = 1.0/reynolds;"
      ],
      "outputs": [],
      "metadata": {
        "dotnet_interactive": {
          "language": "csharp"
        }
      }
    },
    {
      "cell_type": "markdown",
      "source": [
        "# 6 Simulation options\r\n",
        "We set the simulation parameters, such as time-step size,\r\n",
        "end time and number of time-steps."
      ],
      "metadata": {
        "dotnet_interactive": {
          "language": "csharp"
        }
      }
    },
    {
      "cell_type": "code",
      "execution_count": null,
      "source": [
        "ctrl.TimeSteppingScheme = TimeSteppingScheme.ImplicitEuler;\r\n",
        "double dt               = 7e-2;\r\n",
        "ctrl.dtMax              = dt;\r\n",
        "ctrl.dtMin              = dt;\r\n",
        "ctrl.Endtime            = 1e16;\r\n",
        "ctrl.NoOfTimesteps      = 100;"
      ],
      "outputs": [],
      "metadata": {
        "dotnet_interactive": {
          "language": "csharp"
        }
      }
    },
    {
      "cell_type": "markdown",
      "source": [
        "for the time-stepping scheme, you can choose either BDF2 or ImplicitEuler."
      ],
      "metadata": {}
    },
    {
      "cell_type": "markdown",
      "source": [
        "# 7 Starting of simulation\r\n",
        "You have two possible ways to start a simulation\r\n",
        "- locally on the PC via **myBatch** \r\n",
        "- or on the network cluster **myHPC** (commented) "
      ],
      "metadata": {
        "dotnet_interactive": {
          "language": "csharp"
        }
      }
    },
    {
      "cell_type": "code",
      "execution_count": null,
      "source": [
        "//MiniBatchProcessor.Server.StartIfNotRunning(false)"
      ],
      "outputs": [],
      "metadata": {
        "dotnet_interactive": {
          "language": "csharp"
        }
      }
    },
    {
      "cell_type": "code",
      "execution_count": null,
      "source": [
        " \r\n",
        "//Console.WriteLine(\" Submitting to Cluster: \" + ctrl.SessionName);\r\n",
        "//ctrl.RunBatch(myHPC);\r\n",
        "\r\n",
        "Console.WriteLine(\" Submitting \" + ctrl.SessionName);\r\n",
        "ctrl.RunBatch(myBatch);"
      ],
      "outputs": [],
      "metadata": {
        "dotnet_interactive": {
          "language": "csharp"
        }
      }
    },
    {
      "cell_type": "markdown",
      "source": [
        "# 8 Evaluation and Error Calculation\r\n",
        "\r\n",
        "After all of the desired simulation are finished,\r\n",
        "you need to evaluate the different parameters and their effect on \r\n",
        "the whole system. Typing the following command gives you a list of all \r\n",
        "simulations with their status (FinishedSuccessful or with certain errors)"
      ],
      "metadata": {
        "dotnet_interactive": {
          "language": "csharp"
        }
      }
    },
    {
      "cell_type": "code",
      "execution_count": null,
      "source": [
        "BoSSSshell.WorkflowMgm.AllJobs.Select(kv => kv.Key + \": \\t\" + kv.Value.Status);"
      ],
      "outputs": [],
      "metadata": {
        "dotnet_interactive": {
          "language": "csharp"
        }
      }
    },
    {
      "cell_type": "markdown",
      "source": [
        "With the next command line you are able to select a certain session(simulation) and see the different time-steps for control purposes."
      ],
      "metadata": {
        "dotnet_interactive": {
          "language": "csharp"
        }
      }
    },
    {
      "cell_type": "code",
      "execution_count": null,
      "source": [
        "BoSSSshell.WorkflowMgm.AllJobs.ElementAt(1).Value.Stdout;"
      ],
      "outputs": [],
      "metadata": {
        "dotnet_interactive": {
          "language": "csharp"
        }
      }
    },
    {
      "cell_type": "markdown",
      "source": [
        "# 9 Evaluation of the $L^2$-Error\r\n",
        "This section introduces the calculation of the $L^2$-Error."
      ],
      "metadata": {
        "dotnet_interactive": {
          "language": "csharp"
        }
      }
    },
    {
      "cell_type": "code",
      "execution_count": null,
      "source": [
        " ITimestepInfo[] AllSolutionS = BoSSSshell.WorkflowMgm.AllJobs.Select(kv => kv.Value.LatestSession.Timesteps.Last()).ToArray();"
      ],
      "outputs": [],
      "metadata": {
        "dotnet_interactive": {
          "language": "csharp"
        }
      }
    },
    {
      "cell_type": "code",
      "execution_count": null,
      "source": [
        "ITimestepInfo[] k1_SolutionS = AllSolutionS.Where(\r\n",
        "     ts = > ts.Fields.Single(\r\n",
        "           f = > f.Identification == \"Pressure\").Basis.Degree == 0).ToArray();\r\n",
        "ITimestepInfo[] k2_SolutionS = AllSolutionS.Where(\r\n",
        "     ts = > ts.Fields.Single(\r\n",
        "           f = > f.Identification == \"Pressure\").Basis.Degree == 1).ToArray();\r\n",
        "ITimestepInfo[] k3_SolutionS = AllSolutionS.Where(\r\n",
        "     ts = > ts.Fields.Single(\r\n",
        "           f = > f.Identification == \"Pressure\").Basis.Degree == 2).ToArray();"
      ],
      "outputs": [],
      "metadata": {
        "dotnet_interactive": {
          "language": "csharp"
        }
      }
    },
    {
      "cell_type": "code",
      "execution_count": null,
      "source": [
        "k1_SolutionS.Select(\r\n",
        "     ts => ts.Fields.Single(\r\n",
        "           f = > f.Identification == \"Pressure\").Basis.Degree);"
      ],
      "outputs": [],
      "metadata": {
        "dotnet_interactive": {
          "language": "csharp"
        }
      }
    },
    {
      "cell_type": "code",
      "execution_count": null,
      "source": [
        "double[] GridRes;\r\n",
        "Dictionary<string, double[]> L2Errors;\r\n",
        "DGFieldComparison.ComputeErrors(\r\n",
        "     new[]{\"VelocityX\",\"VelocityY\"}, k1_SolutionS, out GridRes, out L2Errors);"
      ],
      "outputs": [],
      "metadata": {
        "dotnet_interactive": {
          "language": "csharp"
        }
      }
    },
    {
      "cell_type": "markdown",
      "source": [
        "To check the particular errors, type"
      ],
      "metadata": {}
    },
    {
      "cell_type": "code",
      "execution_count": null,
      "source": [
        "GridRes;"
      ],
      "outputs": [],
      "metadata": {
        "dotnet_interactive": {
          "language": "csharp"
        }
      }
    },
    {
      "cell_type": "code",
      "execution_count": null,
      "source": [
        "L2Errors[\"VelocityX\"];"
      ],
      "outputs": [],
      "metadata": {
        "dotnet_interactive": {
          "language": "csharp"
        }
      }
    },
    {
      "cell_type": "code",
      "execution_count": null,
      "source": [
        "L2Errors[\"VelocityY\"];"
      ],
      "outputs": [],
      "metadata": {
        "dotnet_interactive": {
          "language": "csharp"
        }
      }
    },
    {
      "cell_type": "markdown",
      "source": [
        "# 10 Plotting of errors\r\n",
        "\r\n",
        "This section gives a brief example of how to plot the erros \r\n",
        "and all the data from the previous simulations."
      ],
      "metadata": {}
    },
    {
      "cell_type": "code",
      "execution_count": null,
      "source": [
        "Plot(GridRes,L2Errors[\"VelocityX\"],\"VelXErr\",\"-oy\",\r\n",
        "     GridRes,L2Errors[\"VelocityY\"],\"VelXErr\",\"-xb\",logX:true,logY:true);"
      ],
      "outputs": [],
      "metadata": {
        "dotnet_interactive": {
          "language": "csharp"
        }
      }
    },
    {
      "cell_type": "markdown",
      "source": [
        "for a plot with more specifics and more possible adjustments"
      ],
      "metadata": {}
    },
    {
      "cell_type": "code",
      "execution_count": null,
      "source": [
        "var FancyPlot = new Plot2Ddata();"
      ],
      "outputs": [],
      "metadata": {
        "dotnet_interactive": {
          "language": "csharp"
        }
      }
    },
    {
      "cell_type": "code",
      "execution_count": null,
      "source": [
        "FancyPlot.LogX = true;\r\n",
        "FancyPlot.LogY = true;"
      ],
      "outputs": [],
      "metadata": {
        "dotnet_interactive": {
          "language": "csharp"
        }
      }
    },
    {
      "cell_type": "code",
      "execution_count": null,
      "source": [
        "var k1plot = new Plot2Ddata.XYvalues(\r\n",
        "    \"VelXErr-k1\",GridRes,L2Errors[\"VelocityY\"]);"
      ],
      "outputs": [],
      "metadata": {
        "dotnet_interactive": {
          "language": "csharp"
        }
      }
    },
    {
      "cell_type": "code",
      "execution_count": null,
      "source": [
        "ArrayTools.AddToArray(k1plot, ref FancyPlot.dataGroups);"
      ],
      "outputs": [],
      "metadata": {
        "dotnet_interactive": {
          "language": "csharp"
        }
      }
    },
    {
      "cell_type": "code",
      "execution_count": null,
      "source": [
        "var CL = FancyPlot.ToGnuplot().PlotCairolatex();"
      ],
      "outputs": [],
      "metadata": {
        "dotnet_interactive": {
          "language": "csharp"
        }
      }
    },
    {
      "cell_type": "code",
      "execution_count": null,
      "source": [
        "CL.PlotNow();"
      ],
      "outputs": [],
      "metadata": {
        "dotnet_interactive": {
          "language": "csharp"
        }
      }
    },
    {
      "cell_type": "markdown",
      "source": [
        "# 11 Exporting the session table"
      ],
      "metadata": {
        "dotnet_interactive": {
          "language": "csharp"
        }
      }
    },
    {
      "cell_type": "code",
      "execution_count": null,
      "source": [
        "static class AddCols {\r\n",
        "    static public object SipMatrixAssembly_time(ISessionInfo SI) {\r\n",
        "        var mcr = SI.GetProfiling()[0];\r\n",
        "        var ndS = mcr.FindChildren(\"SipMatrixAssembly\");\r\n",
        "        var nd  = ndS.ElementAt(0);\r\n",
        "        return nd.TimeSpentInMethod.TotalSeconds  / nd.CallCount;\r\n",
        "    }\r\n",
        "    static public object Aggregation_basis_init_time(ISessionInfo SI) {\r\n",
        "        var mcr = SI.GetProfiling()[0];\r\n",
        "        var ndS = mcr.FindChildren(\"Aggregation_basis_init\");\r\n",
        "        var nd  = ndS.ElementAt(0);\r\n",
        "        return nd.TimeSpentInMethod.TotalSeconds  / nd.CallCount;\r\n",
        "    }\r\n",
        "    static public object Solver_Init_time(ISessionInfo SI) {\r\n",
        "        var mcr = SI.GetProfiling()[0];\r\n",
        "        var ndS = mcr.FindChildren(\"Solver_Init\");\r\n",
        "        var nd  = ndS.ElementAt(0);\r\n",
        "        //Console.WriteLine(\"Number of nodes: \" + ndS.Count() + \" cc \" + nd.CallCount );\r\n",
        "        return nd.TimeSpentInMethod.TotalSeconds / nd.CallCount;\r\n",
        "    }\r\n",
        "    static public object Solver_Run_time(ISessionInfo SI) {\r\n",
        "        var mcr = SI.GetProfiling()[0];\r\n",
        "        var ndS = mcr.FindChildren(\"Solver_Run\");\r\n",
        "        var nd  = ndS.ElementAt(0);\r\n",
        "        return nd.TimeSpentInMethod.TotalSeconds  / nd.CallCount;\r\n",
        "    }\r\n",
        "}"
      ],
      "outputs": [],
      "metadata": {
        "dotnet_interactive": {
          "language": "csharp"
        }
      }
    },
    {
      "cell_type": "markdown",
      "source": [
        "this code adds additional/user-defined colums. Now, we want to export he \r\n",
        "saved session table in a file."
      ],
      "metadata": {
        "dotnet_interactive": {
          "language": "csharp"
        }
      }
    },
    {
      "cell_type": "code",
      "execution_count": null,
      "source": [
        "var SessTab = BoSSSshell.WorkflowMgm.SessionTable;"
      ],
      "outputs": [],
      "metadata": {
        "dotnet_interactive": {
          "language": "csharp"
        }
      }
    },
    {
      "cell_type": "code",
      "execution_count": null,
      "source": [
        "SessTab = SessTab.ExtractColumns(AllCols.ToArray());"
      ],
      "outputs": [],
      "metadata": {
        "dotnet_interactive": {
          "language": "csharp"
        }
      }
    },
    {
      "cell_type": "code",
      "execution_count": null,
      "source": [
        "using System.IO;"
      ],
      "outputs": [],
      "metadata": {
        "dotnet_interactive": {
          "language": "csharp"
        }
      }
    },
    {
      "cell_type": "markdown",
      "source": [
        "Here, we define the filename"
      ],
      "metadata": {
        "dotnet_interactive": {
          "language": "csharp"
        }
      }
    },
    {
      "cell_type": "code",
      "execution_count": null,
      "source": [
        "var now           = DateTime.Now;\r\n",
        "SessTab.TableName = \"SolverRuns--\" + now.Year + \"-\" + now.Month + \"-\" + now.Day;\r\n",
        "string docpath    = Path.Combine(CurrentDocDir, SessTab.TableName + \".json\");"
      ],
      "outputs": [],
      "metadata": {
        "dotnet_interactive": {
          "language": "csharp"
        }
      }
    },
    {
      "cell_type": "markdown",
      "source": [
        "saving the session table as a file could also be done in our git reposatory"
      ],
      "metadata": {
        "dotnet_interactive": {
          "language": "csharp"
        }
      }
    },
    {
      "cell_type": "code",
      "execution_count": null,
      "source": [
        "SessTab.SaveToFile(docpath);"
      ],
      "outputs": [],
      "metadata": {
        "dotnet_interactive": {
          "language": "csharp"
        }
      }
    }
  ],
  "metadata": {
    "kernelspec": {
      "display_name": ".NET (C#)",
      "language": "C#",
      "name": ".net-csharp"
    },
    "language_info": {
      "file_extension": ".cs",
      "mimetype": "text/x-csharp",
      "name": "C#",
      "pygments_lexer": "csharp",
      "version": "8.0"
    }
  },
  "nbformat": 4,
  "nbformat_minor": 4
}