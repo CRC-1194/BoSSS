{
  "cells": [
    {
      "cell_type": "code",
      "execution_count": 1,
      "metadata": {
        "dotnet_interactive": {
          "language": "csharp"
        }
      },
      "source": [
        "#r \"C:\\experimental\\public\\src\\L4-application\\BoSSSpad\\bin\\Release\\net5.0\\BoSSSpad.dll\"\n",
        "using System;\n",
        "using System.Collections.Generic;\n",
        "using System.Linq;\n",
        "using ilPSP;\n",
        "using ilPSP.Utils;\n",
        "using BoSSS.Platform;\n",
        "using BoSSS.Platform.LinAlg;\n",
        "using BoSSS.Foundation;\n",
        "using BoSSS.Foundation.XDG;\n",
        "using BoSSS.Foundation.Grid;\n",
        "using BoSSS.Foundation.Grid.Classic;\n",
        "using BoSSS.Foundation.Grid.RefElements;\n",
        "using BoSSS.Foundation.IO;\n",
        "using BoSSS.Solution;\n",
        "using BoSSS.Solution.Control;\n",
        "using BoSSS.Solution.GridImport;\n",
        "using BoSSS.Solution.Statistic;\n",
        "using BoSSS.Solution.Utils;\n",
        "using BoSSS.Solution.AdvancedSolvers;\n",
        "using BoSSS.Solution.Gnuplot;\n",
        "using BoSSS.Application.BoSSSpad;\n",
        "using BoSSS.Application.XNSE_Solver;\n",
        "using static BoSSS.Application.BoSSSpad.BoSSSshell;\n",
        "Init();\n",
        ""
      ],
      "outputs": []
    },
    {
      "cell_type": "code",
      "execution_count": 1,
      "metadata": {
        "dotnet_interactive": {
          "language": "csharp"
        }
      },
      "source": [
        "/// This guide will give you an example of how to conduct a parameter study with\n",
        "/// all the necessary steps.  \n",
        "/// \\section{Initialization of solver, processor and workflow}\n",
        "/// We start with initializing of the workflow"
      ],
      "outputs": []
    },
    {
      "cell_type": "code",
      "execution_count": 1,
      "metadata": {
        "dotnet_interactive": {
          "language": "csharp"
        }
      },
      "source": [
        "/// \\section{Initialization of solver, processor and workflow}\n",
        "/// We start with initializing of the workflow."
      ],
      "outputs": []
    },
    {
      "cell_type": "code",
      "execution_count": 1,
      "metadata": {
        "dotnet_interactive": {
          "language": "csharp"
        }
      },
      "source": [
        "BoSSSshell.WorkflowMgm.Init(\"Name of Workflow\");"
      ],
      "outputs": []
    },
    {
      "cell_type": "code",
      "execution_count": 1,
      "metadata": {
        "dotnet_interactive": {
          "language": "csharp"
        }
      },
      "source": [
        "/// This line helps us manage the sessions later on while evaluating the results. \n",
        "/// Next, we connect to the database."
      ],
      "outputs": []
    },
    {
      "cell_type": "code",
      "execution_count": 1,
      "metadata": {
        "dotnet_interactive": {
          "language": "csharp"
        }
      },
      "source": [
        "var myDb = CreateTempDatabase();"
      ],
      "outputs": []
    },
    {
      "cell_type": "code",
      "execution_count": 1,
      "metadata": {
        "dotnet_interactive": {
          "language": "csharp"
        }
      },
      "source": [
        "/// To check all the sessions in the current workflow, use the line:"
      ],
      "outputs": []
    },
    {
      "cell_type": "code",
      "execution_count": 1,
      "metadata": {
        "dotnet_interactive": {
          "language": "csharp"
        }
      },
      "source": [
        "BoSSSshell.WorkflowMgm.Sessions;"
      ],
      "outputs": []
    },
    {
      "cell_type": "code",
      "execution_count": 1,
      "metadata": {
        "dotnet_interactive": {
          "language": "csharp"
        }
      },
      "source": [
        "/// Now, all the necessary libraries need to be loaded"
      ],
      "outputs": []
    },
    {
      "cell_type": "code",
      "execution_count": 1,
      "metadata": {
        "dotnet_interactive": {
          "language": "csharp"
        }
      },
      "source": [
        "using System.Diagnostics;\n",
        "using BoSSS.Foundation.Grid.RefElements;\n",
        "using BoSSS.Application.XNSE_Solver;\n",
        "using BoSSS.Platform.LinAlg;\n",
        "using BoSSS.Solution.XdgTimestepping;"
      ],
      "outputs": []
    },
    {
      "cell_type": "code",
      "execution_count": 1,
      "metadata": {
        "dotnet_interactive": {
          "language": "csharp"
        }
      },
      "source": [
        "/// As an execution queue, we select the first queue defined in \n",
        "/// the {\\tt $\\sim$/.BoSSS/etc/BatchProcessorConfig.json}-file:"
      ],
      "outputs": []
    },
    {
      "cell_type": "code",
      "execution_count": 1,
      "metadata": {
        "dotnet_interactive": {
          "language": "csharp"
        }
      },
      "source": [
        "var myBatch = ExecutionQueues[0];"
      ],
      "outputs": []
    },
    {
      "cell_type": "code",
      "execution_count": 1,
      "metadata": {
        "dotnet_interactive": {
          "language": "csharp"
        }
      },
      "source": [
        "/// \\section{Grid Generation}\n",
        "///Firstly, we need to determine the boundaries of our grid/control volume. \n",
        "///Is it important to know that the number of nodes (in our case $/code{k}$)\n",
        "///needed are equal\n",
        "/// to the number of cells $+1$. For instance, for $10$ cells we need $11$ nodes.\n",
        "/// In this example we will use the Cartesian $2D$ grid from the database\n",
        "/// which requires $x$- and $y$-Nodes. The J term in the code is for doing\n",
        "/// a check if the desired resolution of the volume is correctly typed."
      ],
      "outputs": []
    },
    {
      "cell_type": "code",
      "execution_count": 1,
      "metadata": {
        "dotnet_interactive": {
          "language": "csharp"
        }
      },
      "source": [
        "int k = 10;\n",
        "double[] xNodes = GenericBlas.Linspace(0, 1, k + 1);\n",
        "double[] yNodes = GenericBlas.Linspace(0, 1, k + 1);\n",
        "int J           = (xNodes.Length - 1)*(yNodes.Length - 1);\n",
        "string GridName = string.Format(BoSSSshell.WorkflowMgm.CurrentProject + \"_J\" +J);\n",
        " \n",
        "Console.WriteLine(\"Creating grid with \" + J + \" cells. \");\n",
        " \n",
        "GridCommons g;\n",
        "g      = Grid2D.Cartesian2DGrid(xNodes, yNodes);\n",
        "g.Name = GridName;"
      ],
      "outputs": []
    },
    {
      "cell_type": "code",
      "execution_count": 1,
      "metadata": {
        "dotnet_interactive": {
          "language": "csharp"
        }
      },
      "source": [
        "/// \\section{Define geometrical boundaries}\n",
        "/// After loading the grid and giving the dimensions, we need to adjust\n",
        "/// the edges and their names. With the following code we assign every edge with\n",
        "/// a number and name. Keep in mind that the name corresponds to the boundary \n",
        "///condition (in this case \"Pressure Dirichlet\").\n",
        "/// In this particular case we will use inflow profile represented\n",
        "/// via tan-function and the angle of inflow will be $30$ degrees."
      ],
      "outputs": []
    },
    {
      "cell_type": "code",
      "execution_count": 1,
      "metadata": {
        "dotnet_interactive": {
          "language": "csharp"
        }
      },
      "source": [
        "GridCommons g;\n",
        "g      = Grid2D.Cartesian2DGrid(xNodes, yNodes);\n",
        "g.Name = GridName;\n",
        " \n",
        "g.EdgeTagNames.Add(1, \"wall\");\n",
        "g.EdgeTagNames.Add(2, \"Velocity_Inlet\");\n",
        "g.EdgeTagNames.Add(3, \"Pressure_Dirichlet_back\");\n",
        "g.EdgeTagNames.Add(4, \"Pressure_Dirichlet_top\");\n",
        " \n",
        "g.DefineEdgeTags(delegate (double[] X) {\n",
        "    byte ret = 0;\n",
        "    if (Math.Abs(X[1]-(0.0))<= 1.0e-8)\n",
        "        ret = 1;\n",
        "    if (Math.Abs(X[0]-(0.0))<= 1.0e-8)\n",
        "        ret = 2;\n",
        "    if (Math.Abs(X[1]-(1.0))<= 1.0e-8)\n",
        "        ret = 3;\n",
        "    if (Math.Abs(X[0]-(1.0))<= 1.0e-8)\n",
        "        ret = 4;\n",
        "    return ret;\n",
        " \n",
        " });"
      ],
      "outputs": []
    },
    {
      "cell_type": "code",
      "execution_count": 1,
      "metadata": {
        "dotnet_interactive": {
          "language": "csharp"
        }
      },
      "source": [
        "/// \\section{Angle/Velocity Profile}\n",
        "/// In this particular case we will use inflow profile represented via tan-function and the angle of inflow will be $30$ degrees."
      ],
      "outputs": []
    },
    {
      "cell_type": "code",
      "execution_count": 1,
      "metadata": {
        "dotnet_interactive": {
          "language": "csharp"
        }
      },
      "source": [
        "string caseName = string.Format(\"k{0}_{1}\", k, g);\n",
        " \n",
        "Console.WriteLine(\"setting up: \" + caseName);\n",
        " \n",
        "double beta    = 30;\n",
        "string CosBeta = Math.Cos(beta*Math.PI/180.0).ToString();\n",
        "string SinBeta = Math.Sin(beta*Math.PI/180.0).ToString();"
      ],
      "outputs": []
    },
    {
      "cell_type": "code",
      "execution_count": 1,
      "metadata": {
        "dotnet_interactive": {
          "language": "csharp"
        }
      },
      "source": [
        "/// These code lines set up the case name and introduce the sine and cosine \n",
        "/// functions to our simulation. Next, we define the velocities in \n",
        "/// $x$- and $y$-direction via a tan-function. These velocities and angles are only for this particular example and would not be suited for your simulation."
      ],
      "outputs": []
    },
    {
      "cell_type": "code",
      "execution_count": 1,
      "metadata": {
        "dotnet_interactive": {
          "language": "csharp"
        }
      },
      "source": [
        "var UX = new Formula\n",
        "    (string.Format(\"X=> {0}*Math.Atan(X[1]*5)*2.0/Math.PI\",CosBeta),false);\n",
        "var UY = new Formula \n",
        "    (string.Format(\"X=> {0}*Math.Atan(X[1]*5)*2.0/Math.PI\",SinBeta),false);"
      ],
      "outputs": []
    },
    {
      "cell_type": "code",
      "execution_count": 1,
      "metadata": {
        "dotnet_interactive": {
          "language": "csharp"
        }
      },
      "source": [
        "///After the velocities and boundary conditions are set. \n",
        "///We need to determine all other simulation parameters needed to proceed. \n",
        "//The variable $\\code{ctrl}$ is used to store the $\\code{IBM_Control}$-object.\n",
        "/// All other parameters are selfexplanatory."
      ],
      "outputs": []
    },
    {
      "cell_type": "code",
      "execution_count": 1,
      "metadata": {
        "dotnet_interactive": {
          "language": "csharp"
        }
      },
      "source": [
        "var ctrl = new XNSE_Control();\n",
        "//controls.Add(ctrl);\n",
        " \n",
        "ctrl.SessionName = caseName;\n",
        "ctrl.SetDatabase(myDb);\n",
        "ctrl.SetGrid(g);\n",
        "ctrl.SetDGdegree(k);\n",
        "ctrl.NoOfMultigridLevels = int.MaxValue;"
      ],
      "outputs": []
    },
    {
      "cell_type": "code",
      "execution_count": 1,
      "metadata": {
        "dotnet_interactive": {
          "language": "csharp"
        }
      },
      "source": [
        "/// \\section{Boundary conditions/Initial values}\n",
        "/// We move on to the part where we define\n",
        "/// the boundary conditions and initial values."
      ],
      "outputs": []
    },
    {
      "cell_type": "code",
      "execution_count": 1,
      "metadata": {
        "dotnet_interactive": {
          "language": "csharp"
        }
      },
      "source": [
        "ctrl.AddBoundaryValue(\"wall\");\n",
        "ctrl.AddBoundaryValue(\"Velocity_Inlet\");\n",
        "ctrl.AddBoundaryValue(\"Pressure_Dirichlet_back\");\n",
        "ctrl.AddBoundaryValue(\"Pressure_Dirichlet_top\");\n",
        "ctrl.AddBoundaryValue(\"Velocity_Inlet\",\"VelocityX\",UX);\n",
        "ctrl.AddBoundaryValue(\"Velocity_Inlet\",\"VelocityY\",UY);"
      ],
      "outputs": []
    },
    {
      "cell_type": "code",
      "execution_count": 1,
      "metadata": {
        "dotnet_interactive": {
          "language": "csharp"
        }
      },
      "source": [
        "/// and for the initial values"
      ],
      "outputs": []
    },
    {
      "cell_type": "code",
      "execution_count": 1,
      "metadata": {
        "dotnet_interactive": {
          "language": "csharp"
        }
      },
      "source": [
        "ctrl.InitialValues.Add(\"VelocityX\", new Formula (\"X=> 0.0\", false));\n",
        "ctrl.InitialValues.Add(\"VelocityY\", new Formula (\"X=> 0.0\", false));\n",
        "ctrl.InitialValues.Add(\"Pressure\", new Formula (\"X=> 0.0\", false));\n",
        "ctrl.InitialValues.Add(\"Phi\", new Formula (\"X=> -1.0\", false));"
      ],
      "outputs": []
    },
    {
      "cell_type": "code",
      "execution_count": 1,
      "metadata": {
        "dotnet_interactive": {
          "language": "csharp"
        }
      },
      "source": [
        "/// \\section{Fluid properties}\n",
        "/// Here we set up the density and the Reynolds number,\n",
        "/// keep in mind that the calculations are dimensionles, \n",
        "/// so leave the values as seen above ($100$ is an example value)"
      ],
      "outputs": []
    },
    {
      "cell_type": "code",
      "execution_count": 1,
      "metadata": {
        "dotnet_interactive": {
          "language": "csharp"
        }
      },
      "source": [
        "double reynolds               = 100;\n",
        "ctrl.PhysicalParameters.rho_A = 1;\n",
        "ctrl.PhysicalParameters.mu_A  = 1.0/reynolds;"
      ],
      "outputs": []
    },
    {
      "cell_type": "code",
      "execution_count": 1,
      "metadata": {
        "dotnet_interactive": {
          "language": "csharp"
        }
      },
      "source": [
        "/// \\section{Simulation options}\n",
        "/// We set the simulation parameters, such as time-step size,\n",
        "/// end time and number of time-steps."
      ],
      "outputs": []
    },
    {
      "cell_type": "code",
      "execution_count": 1,
      "metadata": {
        "dotnet_interactive": {
          "language": "csharp"
        }
      },
      "source": [
        "ctrl.TimeSteppingScheme = TimeSteppingScheme.ImplicitEuler;\n",
        "double dt               = 7e-2;\n",
        "ctrl.dtMax              = dt;\n",
        "ctrl.dtMin              = dt;\n",
        "ctrl.Endtime            = 1e16;\n",
        "ctrl.NoOfTimesteps      = 100;"
      ],
      "outputs": []
    },
    {
      "cell_type": "code",
      "execution_count": 1,
      "metadata": {
        "dotnet_interactive": {
          "language": "csharp"
        }
      },
      "source": [
        "/// for the time-stepping scheme, you can choose either BDF2 or ImplicitEuler.\n",
        "/// \\section{Starting of simulation}\n",
        "/// You have two possible ways to start a simulation\n",
        "/// - locally on the PC via $\\code{myBatch}$\n",
        "/// or on the network cluster $\\code{myHPC}$."
      ],
      "outputs": []
    },
    {
      "cell_type": "code",
      "execution_count": 1,
      "metadata": {
        "dotnet_interactive": {
          "language": "csharp"
        }
      },
      "source": [
        " \n",
        "//Console.WriteLine(\" Submitting to Cluster: \" + ctrl.SessionName);\n",
        "//ctrl.RunBatch(myHPC);\n",
        " \n",
        "Console.WriteLine(\" Submitting \" + ctrl.SessionName);\n",
        "ctrl.RunBatch(myBatch);"
      ],
      "outputs": []
    },
    {
      "cell_type": "code",
      "execution_count": 1,
      "metadata": {
        "dotnet_interactive": {
          "language": "csharp"
        }
      },
      "source": [
        "/// \\section{Evaluation and Error Calculation}\n",
        "/// After all of the desired simulation are finished,\n",
        "/// you need to evaluate the different parameters and their effect on \n",
        "///the whole system. Typing the following command gives you a list of all \n",
        "///simulations with their status (FinishedSuccessful or with certain errors)"
      ],
      "outputs": []
    },
    {
      "cell_type": "code",
      "execution_count": 1,
      "metadata": {
        "dotnet_interactive": {
          "language": "csharp"
        }
      },
      "source": [
        "BoSSSshell.WorkflowMgm.AllJobs.Select(kv => kv.Key + \": \\t\" + kv.Value.Status);"
      ],
      "outputs": []
    },
    {
      "cell_type": "code",
      "execution_count": 1,
      "metadata": {
        "dotnet_interactive": {
          "language": "csharp"
        }
      },
      "source": [
        "/// With the next command line you are able to select a certain \n",
        "///session(simulation) and see the different time-steps for control purposes."
      ],
      "outputs": []
    },
    {
      "cell_type": "code",
      "execution_count": 1,
      "metadata": {
        "dotnet_interactive": {
          "language": "csharp"
        }
      },
      "source": [
        "BoSSSshell.WorkflowMgm.AllJobs.ElementAt(1).Value.Stdout;"
      ],
      "outputs": []
    },
    {
      "cell_type": "code",
      "execution_count": 1,
      "metadata": {
        "dotnet_interactive": {
          "language": "csharp"
        }
      },
      "source": [
        "/// \\subsection{$L^2$-Error}\n",
        "/// This section introduces the calculation of the $L^2$-Error."
      ],
      "outputs": []
    },
    {
      "cell_type": "code",
      "execution_count": 1,
      "metadata": {
        "dotnet_interactive": {
          "language": "csharp"
        }
      },
      "source": [
        " ITimestepInfo[] AllSolutionS = BoSSSshell.WorkflowMgm.AllJobs.Select(kv => kv.Value.LatestSession.Timesteps.Last()).ToArray();"
      ],
      "outputs": []
    },
    {
      "cell_type": "code",
      "execution_count": 1,
      "metadata": {
        "dotnet_interactive": {
          "language": "csharp"
        }
      },
      "source": [
        "ITimestepInfo[] k1_SolutionS = AllSolutionS.Where(\n",
        "     ts = > ts.Fields.Single(\n",
        "           f = > f.Identification == \"Pressure\").Basis.Degree == 0).ToArray();\n",
        "ITimestepInfo[] k2_SolutionS = AllSolutionS.Where(\n",
        "     ts = > ts.Fields.Single(\n",
        "           f = > f.Identification == \"Pressure\").Basis.Degree == 1).ToArray();\n",
        "ITimestepInfo[] k3_SolutionS = AllSolutionS.Where(\n",
        "     ts = > ts.Fields.Single(\n",
        "           f = > f.Identification == \"Pressure\").Basis.Degree == 2).ToArray();"
      ],
      "outputs": []
    },
    {
      "cell_type": "code",
      "execution_count": 1,
      "metadata": {
        "dotnet_interactive": {
          "language": "csharp"
        }
      },
      "source": [
        "k1_SolutionS.Select(\n",
        "     ts => ts.Fields.Single(\n",
        "           f = > f.Identification == \"Pressure\").Basis.Degree);"
      ],
      "outputs": []
    },
    {
      "cell_type": "code",
      "execution_count": 1,
      "metadata": {
        "dotnet_interactive": {
          "language": "csharp"
        }
      },
      "source": [
        "double[] GridRes;\n",
        "Dictionary<string, double[]> L2Errors;\n",
        "DGFieldComparison.ComputeErrors(\n",
        "     new[]{\"VelocityX\",\"VelocityY\"}, k1_SolutionS, out GridRes, out L2Errors);"
      ],
      "outputs": []
    },
    {
      "cell_type": "code",
      "execution_count": 1,
      "metadata": {
        "dotnet_interactive": {
          "language": "csharp"
        }
      },
      "source": [
        "/// To check the particular errors, type"
      ],
      "outputs": []
    },
    {
      "cell_type": "code",
      "execution_count": 1,
      "metadata": {
        "dotnet_interactive": {
          "language": "csharp"
        }
      },
      "source": [
        "GridRes;"
      ],
      "outputs": []
    },
    {
      "cell_type": "code",
      "execution_count": 1,
      "metadata": {
        "dotnet_interactive": {
          "language": "csharp"
        }
      },
      "source": [
        "L2Errors[\"VelocityX\"];"
      ],
      "outputs": []
    },
    {
      "cell_type": "code",
      "execution_count": 1,
      "metadata": {
        "dotnet_interactive": {
          "language": "csharp"
        }
      },
      "source": [
        "L2Errors[\"VelocityY\"];"
      ],
      "outputs": []
    },
    {
      "cell_type": "code",
      "execution_count": 1,
      "metadata": {
        "dotnet_interactive": {
          "language": "csharp"
        }
      },
      "source": [
        "/// \\section{Plotting of errors}\n",
        "/// This section gives a brief example of how to plot the erros \n",
        "/// and all the data from the previous simulations."
      ],
      "outputs": []
    },
    {
      "cell_type": "code",
      "execution_count": 1,
      "metadata": {
        "dotnet_interactive": {
          "language": "csharp"
        }
      },
      "source": [
        "Plot(GridRes,L2Errors[\"VelocityX\"],\"VelXErr\",\"-oy\",\n",
        "     GridRes,L2Errors[\"VelocityY\"],\"VelXErr\",\"-xb\",logX:true,logY:true);"
      ],
      "outputs": []
    },
    {
      "cell_type": "code",
      "execution_count": 1,
      "metadata": {
        "dotnet_interactive": {
          "language": "csharp"
        }
      },
      "source": [
        "/// for a plot with more specifics and more possible adjustments"
      ],
      "outputs": []
    },
    {
      "cell_type": "code",
      "execution_count": 1,
      "metadata": {
        "dotnet_interactive": {
          "language": "csharp"
        }
      },
      "source": [
        "var FancyPlot = new Plot2Ddata();"
      ],
      "outputs": []
    },
    {
      "cell_type": "code",
      "execution_count": 1,
      "metadata": {
        "dotnet_interactive": {
          "language": "csharp"
        }
      },
      "source": [
        "FancyPlot.LogX = true;\n",
        "FancyPlot.LogY = true;"
      ],
      "outputs": []
    },
    {
      "cell_type": "code",
      "execution_count": 1,
      "metadata": {
        "dotnet_interactive": {
          "language": "csharp"
        }
      },
      "source": [
        "var k1plot = new Plot2Ddata.XYvalues(\n",
        "    \"VelXErr-k1\",GridRes,L2Errors[\"VelocityY\"]);"
      ],
      "outputs": []
    },
    {
      "cell_type": "code",
      "execution_count": 1,
      "metadata": {
        "dotnet_interactive": {
          "language": "csharp"
        }
      },
      "source": [
        "ArrayTools.AddToArray(k1plot, ref FancyPlot.dataGroups);"
      ],
      "outputs": []
    },
    {
      "cell_type": "code",
      "execution_count": 1,
      "metadata": {
        "dotnet_interactive": {
          "language": "csharp"
        }
      },
      "source": [
        "var CL = FancyPlot.ToGnuplot().PlotCairolatex();"
      ],
      "outputs": []
    },
    {
      "cell_type": "code",
      "execution_count": 1,
      "metadata": {
        "dotnet_interactive": {
          "language": "csharp"
        }
      },
      "source": [
        "CL.PlotNow();"
      ],
      "outputs": []
    },
    {
      "cell_type": "code",
      "execution_count": 1,
      "metadata": {
        "dotnet_interactive": {
          "language": "csharp"
        }
      },
      "source": [
        "/// \\section{Exporting the session table}"
      ],
      "outputs": []
    },
    {
      "cell_type": "code",
      "execution_count": 1,
      "metadata": {
        "dotnet_interactive": {
          "language": "csharp"
        }
      },
      "source": [
        "static class AddCols {\n",
        "    static public object SipMatrixAssembly_time(ISessionInfo SI) {\n",
        "        var mcr = SI.GetProfiling()[0];\n",
        "        var ndS = mcr.FindChildren(\"SipMatrixAssembly\");\n",
        "        var nd  = ndS.ElementAt(0);\n",
        "        return nd.TimeSpentInMethod.TotalSeconds  / nd.CallCount;\n",
        "    }\n",
        "    static public object Aggregation_basis_init_time(ISessionInfo SI) {\n",
        "        var mcr = SI.GetProfiling()[0];\n",
        "        var ndS = mcr.FindChildren(\"Aggregation_basis_init\");\n",
        "        var nd  = ndS.ElementAt(0);\n",
        "        return nd.TimeSpentInMethod.TotalSeconds  / nd.CallCount;\n",
        "    }\n",
        "    static public object Solver_Init_time(ISessionInfo SI) {\n",
        "        var mcr = SI.GetProfiling()[0];\n",
        "        var ndS = mcr.FindChildren(\"Solver_Init\");\n",
        "        var nd  = ndS.ElementAt(0);\n",
        "        //Console.WriteLine(\"Number of nodes: \" + ndS.Count() + \" cc \" + nd.CallCount );\n",
        "        return nd.TimeSpentInMethod.TotalSeconds / nd.CallCount;\n",
        "    }\n",
        "    static public object Solver_Run_time(ISessionInfo SI) {\n",
        "        var mcr = SI.GetProfiling()[0];\n",
        "        var ndS = mcr.FindChildren(\"Solver_Run\");\n",
        "        var nd  = ndS.ElementAt(0);\n",
        "        return nd.TimeSpentInMethod.TotalSeconds  / nd.CallCount;\n",
        "    }\n",
        "}"
      ],
      "outputs": []
    },
    {
      "cell_type": "code",
      "execution_count": 1,
      "metadata": {
        "dotnet_interactive": {
          "language": "csharp"
        }
      },
      "source": [
        "/// this code adds additional/user-defined colums. Now, we want to export he \n",
        "/// saved session table in a file."
      ],
      "outputs": []
    },
    {
      "cell_type": "code",
      "execution_count": 1,
      "metadata": {
        "dotnet_interactive": {
          "language": "csharp"
        }
      },
      "source": [
        "var SessTab = BoSSSshell.WorkflowMgm.SessionTable;"
      ],
      "outputs": []
    },
    {
      "cell_type": "code",
      "execution_count": 1,
      "metadata": {
        "dotnet_interactive": {
          "language": "csharp"
        }
      },
      "source": [
        "SessTab = SessTab.ExtractColumns(AllCols.ToArray());"
      ],
      "outputs": []
    },
    {
      "cell_type": "code",
      "execution_count": 1,
      "metadata": {
        "dotnet_interactive": {
          "language": "csharp"
        }
      },
      "source": [
        "using System.IO;"
      ],
      "outputs": []
    },
    {
      "cell_type": "code",
      "execution_count": 1,
      "metadata": {
        "dotnet_interactive": {
          "language": "csharp"
        }
      },
      "source": [
        "/// Here, we define the filename"
      ],
      "outputs": []
    },
    {
      "cell_type": "code",
      "execution_count": 1,
      "metadata": {
        "dotnet_interactive": {
          "language": "csharp"
        }
      },
      "source": [
        "var now           = DateTime.Now;\n",
        "SessTab.TableName = \"SolverRuns--\" + now.Year + \"-\" + now.Month + \"-\" + now.Day;\n",
        "string docpath    = Path.Combine(CurrentDocDir, SessTab.TableName + \".json\");"
      ],
      "outputs": []
    },
    {
      "cell_type": "code",
      "execution_count": 1,
      "metadata": {
        "dotnet_interactive": {
          "language": "csharp"
        }
      },
      "source": [
        "/// saving the session table as a file could also be done in our git reposatory"
      ],
      "outputs": []
    },
    {
      "cell_type": "code",
      "execution_count": 1,
      "metadata": {
        "dotnet_interactive": {
          "language": "csharp"
        }
      },
      "source": [
        "SessTab.SaveToFile(docpath);"
      ],
      "outputs": []
    },
    {
      "cell_type": "code",
      "execution_count": 1,
      "metadata": {
        "dotnet_interactive": {
          "language": "csharp"
        }
      },
      "source": [
        "///"
      ],
      "outputs": []
    }
  ],
  "metadata": {
    "kernelspec": {
      "display_name": ".NET (C#)",
      "language": "C#",
      "name": ".net-csharp"
    },
    "language_info": {
      "file_extension": ".cs",
      "mimetype": "text/x-csharp",
      "name": "C#",
      "pygments_lexer": "csharp",
      "version": "8.0"
    }
  },
  "nbformat": 4,
  "nbformat_minor": 4
}