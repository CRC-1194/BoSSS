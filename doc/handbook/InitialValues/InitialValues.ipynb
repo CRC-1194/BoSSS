{
  "cells": [
    {
      "cell_type": "code",
      "execution_count": 1,
      "metadata": {
        "dotnet_interactive": {
          "language": "csharp"
        }
      },
      "source": [
        "/// % ====================\n",
        "/// \\section{Introduction}\n",
        "/// % ===================="
      ],
      "outputs": []
    },
    {
      "cell_type": "code",
      "execution_count": 1,
      "metadata": {
        "dotnet_interactive": {
          "language": "csharp"
        }
      },
      "source": [
        "#r \"BoSSSpad.dll\"\n",
        "using System;\n",
        "using System.Collections.Generic;\n",
        "using System.Linq;\n",
        "using ilPSP;\n",
        "using ilPSP.Utils;\n",
        "using BoSSS.Platform;\n",
        "using BoSSS.Platform.LinAlg;\n",
        "using BoSSS.Foundation;\n",
        "using BoSSS.Foundation.XDG;\n",
        "using BoSSS.Foundation.Grid;\n",
        "using BoSSS.Foundation.Grid.Classic;\n",
        "using BoSSS.Foundation.Grid.RefElements;\n",
        "using BoSSS.Foundation.IO;\n",
        "using BoSSS.Solution;\n",
        "using BoSSS.Solution.Control;\n",
        "using BoSSS.Solution.GridImport;\n",
        "using BoSSS.Solution.Statistic;\n",
        "using BoSSS.Solution.Utils;\n",
        "using BoSSS.Solution.AdvancedSolvers;\n",
        "using BoSSS.Solution.Gnuplot;\n",
        "using BoSSS.Application.BoSSSpad;\n",
        "using BoSSS.Application.XNSE_Solver;\n",
        "using static BoSSS.Application.BoSSSpad.BoSSSshell;\n",
        "Init();\n",
        ""
      ],
      "outputs": []
    },
    {
      "cell_type": "code",
      "execution_count": 1,
      "metadata": {
        "dotnet_interactive": {
          "language": "csharp"
        }
      },
      "source": [
        "/// Note: (1) Setting Boundary values and initial values is similar; \n",
        "/// (2) For most solvers, inital and boundary values are set the same way;\n",
        "/// (3) We will use the incompressible solver as an example:"
      ],
      "outputs": []
    },
    {
      "cell_type": "code",
      "execution_count": 1,
      "metadata": {
        "dotnet_interactive": {
          "language": "csharp"
        }
      },
      "source": [
        "using BoSSS.Application.XNSE_Solver;"
      ],
      "outputs": []
    },
    {
      "cell_type": "code",
      "execution_count": 1,
      "metadata": {
        "dotnet_interactive": {
          "language": "csharp"
        }
      },
      "source": [
        "/// Create a control object:"
      ],
      "outputs": []
    },
    {
      "cell_type": "code",
      "execution_count": 1,
      "metadata": {
        "dotnet_interactive": {
          "language": "csharp"
        }
      },
      "source": [
        "var C = new XNSE_Control();"
      ],
      "outputs": []
    },
    {
      "cell_type": "code",
      "execution_count": 1,
      "metadata": {
        "dotnet_interactive": {
          "language": "csharp"
        }
      },
      "source": [
        "/// % =======================\n",
        "/// \\section{From Formulas}\n",
        "/// % ======================="
      ],
      "outputs": []
    },
    {
      "cell_type": "code",
      "execution_count": 1,
      "metadata": {
        "dotnet_interactive": {
          "language": "csharp"
        }
      },
      "source": [
        "/// If the Formula is simple enough to be represented by C\\# code,\n",
        "/// it can be embedded in the control file."
      ],
      "outputs": []
    },
    {
      "cell_type": "code",
      "execution_count": 1,
      "metadata": {
        "dotnet_interactive": {
          "language": "csharp"
        }
      },
      "source": [
        "/// However, the code bust be put into a string, since it is not \n",
        "/// possible to serialize classes/objects from the notebook\n",
        "/// into a control object:"
      ],
      "outputs": []
    },
    {
      "cell_type": "code",
      "execution_count": 1,
      "metadata": {
        "dotnet_interactive": {
          "language": "csharp"
        }
      },
      "source": [
        "string code =  \n",
        " \"static class MyInitialValue {\" // class must be static!\n",
        " \n",
        "    // Warning: static constants are allowed,\n",
        "    // but any changes outside of the current text box in BoSSSpad\n",
        "    // will not be recorded for the code that is passed to the solver.\n",
        "+ \" public static double alpha = 0.7;\"\n",
        " \n",
        "    // a method, which should be used for an initial value,\n",
        "    // must be static!\n",
        "+ \" public static double VelocityX(double[] X, double t) {\"\n",
        "+ \"    double x = X[0];\"\n",
        "+ \"    double y = X[1];\"\n",
        "+ \"   return Math.Sin(x*y*alpha);\"\n",
        "+ \" }\"  \n",
        "+ \"}\";"
      ],
      "outputs": []
    },
    {
      "cell_type": "code",
      "execution_count": 1,
      "metadata": {
        "dotnet_interactive": {
          "language": "csharp"
        }
      },
      "source": [
        "var fo = new BoSSS.Solution.Control.Formula(\"MyInitialValue.VelocityX\", \n",
        "                                             true, code);"
      ],
      "outputs": []
    },
    {
      "cell_type": "code",
      "execution_count": 1,
      "metadata": {
        "dotnet_interactive": {
          "language": "csharp"
        }
      },
      "source": [
        "/// Use the BoSSSpad-intrinsic \\code{GetFormulaObject} to set tie inital value:\n",
        "C.AddInitialValue(\"VelocityX\", fo);"
      ],
      "outputs": []
    },
    {
      "cell_type": "code",
      "execution_count": 1,
      "metadata": {
        "dotnet_interactive": {
          "language": "csharp"
        }
      },
      "source": [
        "/// Deprecated:\n",
        "/// Note: such a declaration is very restrictive;\n",
        "/// \\code{GetFormulaObject} works only for \n",
        "/// \\begin{itemize}\n",
        "/// \\item a static class\n",
        "/// \\item no dependence on any external parameters\n",
        "/// \\end{itemize}\n",
        "/// E.g. the following code would only change the behavior in BoSSSpad,\n",
        "/// but not the code that is passed to the solver:"
      ],
      "outputs": []
    },
    {
      "cell_type": "code",
      "execution_count": 1,
      "metadata": {
        "dotnet_interactive": {
          "language": "csharp"
        }
      },
      "source": [
        "//Deprecated:\n",
        "//MyInitialValue.alpha = 0.5;\n",
        "//MyInitialValue.VelocityX(new double[]{ 0.5, 0.5 }, 0.0);"
      ],
      "outputs": []
    },
    {
      "cell_type": "code",
      "execution_count": 1,
      "metadata": {
        "dotnet_interactive": {
          "language": "csharp"
        }
      },
      "source": [
        "C.InitialValues[\"VelocityX\"].Evaluate(new double[]{ 0.5, 0.5 }, 0.0)"
      ],
      "outputs": []
    },
    {
      "cell_type": "code",
      "execution_count": 1,
      "metadata": {
        "dotnet_interactive": {
          "language": "csharp"
        }
      },
      "source": [
        "/// \\subsection{Advanced functions}\n",
        "/// % ============================="
      ],
      "outputs": []
    },
    {
      "cell_type": "code",
      "execution_count": 1,
      "metadata": {
        "dotnet_interactive": {
          "language": "csharp"
        }
      },
      "source": [
        "/// Some more advanced mathematical funstions, e.g.\n",
        "/// Jacobian elliptic functions $\\text{sn}(u|m)$, $\\text{cn}(u|m)$ and $\\text{dn}(u|m)$\n",
        "/// are available throug the GNU Scientific Library, for which BoSSS provides\n",
        "/// bindings, see e.g.\n",
        "/// \\code{BoSSS.Platform.GSL.gsl\\_sf\\_elljac\\_e}."
      ],
      "outputs": []
    },
    {
      "cell_type": "code",
      "execution_count": 1,
      "metadata": {
        "dotnet_interactive": {
          "language": "csharp"
        }
      },
      "source": [
        "/// % ========================\n",
        "/// \\section{From MATLAB code}\n",
        "/// % ========================"
      ],
      "outputs": []
    },
    {
      "cell_type": "code",
      "execution_count": 1,
      "metadata": {
        "dotnet_interactive": {
          "language": "csharp"
        }
      },
      "source": [
        "/// % ========================\n",
        "/// \\subsection{Conecting with MATLAB}\n",
        "/// % ========================"
      ],
      "outputs": []
    },
    {
      "cell_type": "code",
      "execution_count": 1,
      "metadata": {
        "dotnet_interactive": {
          "language": "csharp"
        }
      },
      "source": [
        "/// Asssume e.g. the following MATLAB code; obviously, this could  \n",
        "/// also be implemented in C\\#, we yust use something smple for demonstration:"
      ],
      "outputs": []
    },
    {
      "cell_type": "code",
      "execution_count": 1,
      "metadata": {
        "dotnet_interactive": {
          "language": "csharp"
        }
      },
      "source": [
        "string[] MatlabCode = new string[] {\n",
        "@\"[n,d2] =  size(X_values);\",\n",
        "@\"u=zeros(2,n);\",\n",
        "@\"for k=1:n\",\n",
        "@\"X=[X_values(k,1),X_values(k,2)];\",\n",
        "@\"\",\n",
        "@\"u_x_main     = -(-sqrt(X(1).^ 2 + X(2).^ 2) / 0.3e1 + 0.4e1 / 0.3e1 * (X(1).^ 2 + X(2).^ 2) ^ (-0.1e1 / 0.2e1)) * sin(atan2(X(2), X(1)));\",\n",
        "@\"u_y_main     = (-sqrt(X(1).^ 2 + X(2).^ 2) / 0.3e1 + 0.4e1 / 0.3e1 * (X(1).^ 2 + X(2).^ 2) ^ (-0.1e1 / 0.2e1)) * cos(atan2(X(2), X(1)));\",\n",
        "@\"\",   \n",
        "@\"u(1,k)=u_x_main;\",\n",
        "@\"u(2,k)=u_y_main;\",\n",
        "@\"end\" };"
      ],
      "outputs": []
    },
    {
      "cell_type": "code",
      "execution_count": 1,
      "metadata": {
        "dotnet_interactive": {
          "language": "csharp"
        }
      },
      "source": [
        "/// We can evaluate this code in \\BoSSS{} using the MATLAB connector;\n",
        "/// We encapsulate it in a \\code{ScalarFunction} which allows \n",
        "/// \\emph{vectorized} evaluation \n",
        "/// (multiple evaluatiuons in one function call) e\n",
        "/// of some function.\n",
        "/// This is much more efficient, since there will be significant overhead\n",
        "/// for calling MATLAB (starting MATLAB, checking the license, \n",
        "/// transfering data, etc.)."
      ],
      "outputs": []
    },
    {
      "cell_type": "code",
      "execution_count": 1,
      "metadata": {
        "dotnet_interactive": {
          "language": "csharp"
        }
      },
      "source": [
        "using ilPSP.Connectors.Matlab;"
      ],
      "outputs": []
    },
    {
      "cell_type": "code",
      "execution_count": 1,
      "metadata": {
        "dotnet_interactive": {
          "language": "csharp"
        }
      },
      "source": [
        "ScalarFunction VelocityXInitial = \n",
        "delegate(MultidimensionalArray input, MultidimensionalArray output) {\n",
        "    int N          = input.GetLength(0); // number of points which we evaluate \n",
        "    //                                      at once.\n",
        "    var output_vec = MultidimensionalArray.Create(2, N); // the MATLAB code\n",
        "    //                        returns an entire vector.\n",
        "    using(var bmc = new BatchmodeConnector()) {\n",
        "       bmc.PutMatrix(input,\"X_values\");\n",
        " \n",
        "       foreach(var line in MatlabCode) {\n",
        "           bmc.Cmd(line);   \n",
        "       }\n",
        " \n",
        "       bmc.GetMatrix(output_vec, \"u\");\n",
        " \n",
        "       bmc.Execute(); // Note: 'Execute' has to be *after* 'GetMatrix'\n",
        "   }\n",
        "   output.Set(output_vec.ExtractSubArrayShallow(0,-1)); // extract row 0 from \n",
        "   //                       'output_vec' and store it in 'output'\n",
        "};"
      ],
      "outputs": []
    },
    {
      "cell_type": "code",
      "execution_count": 1,
      "metadata": {
        "dotnet_interactive": {
          "language": "csharp"
        }
      },
      "source": [
        "/// We test our implementation:"
      ],
      "outputs": []
    },
    {
      "cell_type": "code",
      "execution_count": 1,
      "metadata": {
        "dotnet_interactive": {
          "language": "csharp"
        }
      },
      "source": [
        "var inputTest = MultidimensionalArray.Create(3,2); // set some test values for input\n",
        "inputTest.SetColumn(0, GenericBlas.Linspace(1,2,3));\n",
        "inputTest.SetColumn(1, GenericBlas.Linspace(2,3,3));\n",
        " \n",
        "var outputTest = MultidimensionalArray.Create(3); // allocate memory for output"
      ],
      "outputs": []
    },
    {
      "cell_type": "code",
      "execution_count": 1,
      "metadata": {
        "dotnet_interactive": {
          "language": "csharp"
        }
      },
      "source": [
        "VelocityXInitial(inputTest, outputTest);"
      ],
      "outputs": []
    },
    {
      "cell_type": "code",
      "execution_count": 1,
      "metadata": {
        "dotnet_interactive": {
          "language": "csharp"
        }
      },
      "source": [
        "/// We recive the following velocity values for our input coordinates:\n",
        "outputTest.To1DArray()"
      ],
      "outputs": []
    },
    {
      "cell_type": "code",
      "execution_count": 1,
      "metadata": {
        "dotnet_interactive": {
          "language": "csharp"
        }
      },
      "source": [
        "/// % =======================================================\n",
        "/// \\subsection{Projecting the MATLAB function to a DG field}\n",
        "/// % ======================================================="
      ],
      "outputs": []
    },
    {
      "cell_type": "code",
      "execution_count": 1,
      "metadata": {
        "dotnet_interactive": {
          "language": "csharp"
        }
      },
      "source": [
        "/// As for a standard calculation, we create a mesh, save it to some database\n",
        "/// and set the mesh in the control object."
      ],
      "outputs": []
    },
    {
      "cell_type": "code",
      "execution_count": 1,
      "metadata": {
        "dotnet_interactive": {
          "language": "csharp"
        }
      },
      "source": [
        "var nodes        = GenericBlas.Linspace(1,2,11);\n",
        "GridCommons grid = Grid2D.Cartesian2DGrid(nodes,nodes);"
      ],
      "outputs": []
    },
    {
      "cell_type": "code",
      "execution_count": 1,
      "metadata": {
        "dotnet_interactive": {
          "language": "csharp"
        }
      },
      "source": [
        "var db = CreateTempDatabase();"
      ],
      "outputs": []
    },
    {
      "cell_type": "code",
      "execution_count": 1,
      "metadata": {
        "dotnet_interactive": {
          "language": "csharp"
        }
      },
      "source": [
        "db.SaveGrid(ref grid);"
      ],
      "outputs": []
    },
    {
      "cell_type": "code",
      "execution_count": 1,
      "metadata": {
        "dotnet_interactive": {
          "language": "csharp"
        }
      },
      "source": [
        "C.SetGrid(grid);"
      ],
      "outputs": []
    },
    {
      "cell_type": "code",
      "execution_count": 1,
      "metadata": {
        "dotnet_interactive": {
          "language": "csharp"
        }
      },
      "source": [
        "/// We create a DG field for the $x$-velocity on our grid:"
      ],
      "outputs": []
    },
    {
      "cell_type": "code",
      "execution_count": 1,
      "metadata": {
        "dotnet_interactive": {
          "language": "csharp"
        }
      },
      "source": [
        "var gdata = new GridData(grid);"
      ],
      "outputs": []
    },
    {
      "cell_type": "code",
      "execution_count": 1,
      "metadata": {
        "dotnet_interactive": {
          "language": "csharp"
        }
      },
      "source": [
        "var b = new Basis(gdata, 3); // use DG degree 2"
      ],
      "outputs": []
    },
    {
      "cell_type": "code",
      "execution_count": 1,
      "metadata": {
        "dotnet_interactive": {
          "language": "csharp"
        }
      },
      "source": [
        "var VelX = new SinglePhaseField(b,\"VelocityX\"); // important: name the DG field\n",
        "//                                 equal to initial value name"
      ],
      "outputs": []
    },
    {
      "cell_type": "code",
      "execution_count": 1,
      "metadata": {
        "dotnet_interactive": {
          "language": "csharp"
        }
      },
      "source": [
        "/// Finally, we are able to project the MATLAB function onto the DG field:"
      ],
      "outputs": []
    },
    {
      "cell_type": "code",
      "execution_count": 1,
      "metadata": {
        "dotnet_interactive": {
          "language": "csharp"
        }
      },
      "source": [
        "//VelX.ProjectField(VelocityXInitial);"
      ],
      "outputs": []
    },
    {
      "cell_type": "code",
      "execution_count": 1,
      "metadata": {
        "dotnet_interactive": {
          "language": "csharp"
        }
      },
      "source": [
        "/// One might want to check the data visually, so it can be exported\n",
        "/// in the usual fashion"
      ],
      "outputs": []
    },
    {
      "cell_type": "code",
      "execution_count": 1,
      "metadata": {
        "dotnet_interactive": {
          "language": "csharp"
        }
      },
      "source": [
        "//Tecplot(\"initial\",0.0,2,VelX);"
      ],
      "outputs": []
    },
    {
      "cell_type": "code",
      "execution_count": 1,
      "metadata": {
        "dotnet_interactive": {
          "language": "csharp"
        }
      },
      "source": [
        ""
      ],
      "outputs": []
    },
    {
      "cell_type": "code",
      "execution_count": 1,
      "metadata": {
        "dotnet_interactive": {
          "language": "csharp"
        }
      },
      "source": [
        "/// % ================================================================\n",
        "/// \\subsection{Storing the initial value in the database and linking\n",
        "///    it in the control object}\n",
        "/// % ================================================================"
      ],
      "outputs": []
    },
    {
      "cell_type": "code",
      "execution_count": 1,
      "metadata": {
        "dotnet_interactive": {
          "language": "csharp"
        }
      },
      "source": [
        "/// The DG field with the initial value can be stored in the database.\n",
        "/// this will create a dummy session."
      ],
      "outputs": []
    },
    {
      "cell_type": "code",
      "execution_count": 1,
      "metadata": {
        "dotnet_interactive": {
          "language": "csharp"
        }
      },
      "source": [
        "BoSSSshell.WorkflowMgm.Init(\"TestProject\");"
      ],
      "outputs": []
    },
    {
      "cell_type": "code",
      "execution_count": 1,
      "metadata": {
        "dotnet_interactive": {
          "language": "csharp"
        }
      },
      "source": [
        "var InitalValueTS = db.SaveTimestep(VelX); // further fields an be \n",
        "//                                                  appended"
      ],
      "outputs": []
    },
    {
      "cell_type": "code",
      "execution_count": 1,
      "metadata": {
        "dotnet_interactive": {
          "language": "csharp"
        }
      },
      "source": [
        "BoSSSshell.WorkflowMgm.Sessions"
      ],
      "outputs": []
    },
    {
      "cell_type": "code",
      "execution_count": 1,
      "metadata": {
        "dotnet_interactive": {
          "language": "csharp"
        }
      },
      "source": [
        "/// Now, we can use this timestep as a restart-value for the simulation:"
      ],
      "outputs": []
    },
    {
      "cell_type": "code",
      "execution_count": 1,
      "metadata": {
        "dotnet_interactive": {
          "language": "csharp"
        }
      },
      "source": [
        "C.SetRestart(InitalValueTS);"
      ],
      "outputs": []
    }
  ],
  "metadata": {
    "kernelspec": {
      "display_name": ".NET (C#)",
      "language": "C#",
      "name": ".net-csharp"
    },
    "language_info": {
      "file_extension": ".cs",
      "mimetype": "text/x-csharp",
      "name": "C#",
      "pygments_lexer": "csharp",
      "version": "8.0"
    }
  },
  "nbformat": 4,
  "nbformat_minor": 4
}