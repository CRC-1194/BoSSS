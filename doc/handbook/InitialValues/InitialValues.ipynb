{
  "cells": [
    {
      "cell_type": "markdown",
      "source": [
        "\r\n",
        "# Introduction\r\n"
      ],
      "metadata": {
        "dotnet_interactive": {
          "language": "csharp"
        }
      }
    },
    {
      "cell_type": "code",
      "execution_count": null,
      "source": [
        "#r \"BoSSSpad.dll\"\r\n",
        "using System;\r\n",
        "using System.Collections.Generic;\r\n",
        "using System.Linq;\r\n",
        "using ilPSP;\r\n",
        "using ilPSP.Utils;\r\n",
        "using BoSSS.Platform;\r\n",
        "using BoSSS.Platform.LinAlg;\r\n",
        "using BoSSS.Foundation;\r\n",
        "using BoSSS.Foundation.XDG;\r\n",
        "using BoSSS.Foundation.Grid;\r\n",
        "using BoSSS.Foundation.Grid.Classic;\r\n",
        "using BoSSS.Foundation.Grid.RefElements;\r\n",
        "using BoSSS.Foundation.IO;\r\n",
        "using BoSSS.Solution;\r\n",
        "using BoSSS.Solution.Control;\r\n",
        "using BoSSS.Solution.GridImport;\r\n",
        "using BoSSS.Solution.Statistic;\r\n",
        "using BoSSS.Solution.Utils;\r\n",
        "using BoSSS.Solution.AdvancedSolvers;\r\n",
        "using BoSSS.Solution.Gnuplot;\r\n",
        "using BoSSS.Application.BoSSSpad;\r\n",
        "using BoSSS.Application.XNSE_Solver;\r\n",
        "using static BoSSS.Application.BoSSSpad.BoSSSshell;\r\n",
        "Init();\r\n"
      ],
      "outputs": [],
      "metadata": {
        "dotnet_interactive": {
          "language": "csharp"
        }
      }
    },
    {
      "cell_type": "markdown",
      "source": [
        "# Note: \r\n",
        "- Setting Boundary values and initial values is similar; \r\n",
        "- For most solvers, inital and boundary values are set the same way;\r\n",
        "- We will use the incompressible solver as an example:"
      ],
      "metadata": {
        "dotnet_interactive": {
          "language": "csharp"
        }
      }
    },
    {
      "cell_type": "code",
      "execution_count": null,
      "source": [
        "using BoSSS.Application.XNSE_Solver;"
      ],
      "outputs": [],
      "metadata": {
        "dotnet_interactive": {
          "language": "csharp"
        }
      }
    },
    {
      "cell_type": "markdown",
      "source": [
        "Create a control object:"
      ],
      "metadata": {
        "dotnet_interactive": {
          "language": "csharp"
        }
      }
    },
    {
      "cell_type": "code",
      "execution_count": null,
      "source": [
        "var C = new XNSE_Control();"
      ],
      "outputs": [],
      "metadata": {
        "dotnet_interactive": {
          "language": "csharp"
        }
      }
    },
    {
      "cell_type": "markdown",
      "source": [
        "\r\n",
        "# 1 From Formulas\r\n",
        "If the Formula is simple enough to be represented by C\\# code,\r\n",
        "it can be embedded in the control file.\r\n",
        "\r\n",
        "However, the code bust be put into a string, since it is not \r\n",
        "possible to serialize classes/objects from the notebook\r\n",
        "into a control object:"
      ],
      "metadata": {
        "dotnet_interactive": {
          "language": "csharp"
        }
      }
    },
    {
      "cell_type": "code",
      "execution_count": null,
      "source": [
        "string code =  \r\n",
        " \"static class MyInitialValue {\" // class must be static!\r\n",
        " \r\n",
        "    // Warning: static constants are allowed,\r\n",
        "    // but any changes outside of the current text box in BoSSSpad\r\n",
        "    // will not be recorded for the code that is passed to the solver.\r\n",
        "+ \" public static double alpha = 0.7;\"\r\n",
        " \r\n",
        "    // a method, which should be used for an initial value,\r\n",
        "    // must be static!\r\n",
        "+ \" public static double VelocityX(double[] X, double t) {\"\r\n",
        "+ \"    double x = X[0];\"\r\n",
        "+ \"    double y = X[1];\"\r\n",
        "+ \"   return Math.Sin(x*y*alpha);\"\r\n",
        "+ \" }\"  \r\n",
        "+ \"}\";"
      ],
      "outputs": [],
      "metadata": {
        "dotnet_interactive": {
          "language": "csharp"
        }
      }
    },
    {
      "cell_type": "code",
      "execution_count": null,
      "source": [
        "var fo = new BoSSS.Solution.Control.Formula(\"MyInitialValue.VelocityX\", \r\n",
        "                                             true, code);"
      ],
      "outputs": [],
      "metadata": {
        "dotnet_interactive": {
          "language": "csharp"
        }
      }
    },
    {
      "cell_type": "markdown",
      "source": [
        "Use the BoSSSpad-intrinsic **GetFormulaObject** to set tie inital value:"
      ],
      "metadata": {}
    },
    {
      "cell_type": "code",
      "execution_count": null,
      "source": [
        "C.AddInitialValue(\"VelocityX\", fo);"
      ],
      "outputs": [],
      "metadata": {
        "dotnet_interactive": {
          "language": "csharp"
        }
      }
    },
    {
      "cell_type": "code",
      "execution_count": null,
      "source": [
        "/// Deprecated:\r\n",
        "/// Note: such a declaration is very restrictive;\r\n",
        "/// \\code{GetFormulaObject} works only for \r\n",
        "/// \\begin{itemize}\r\n",
        "/// \\item a static class\r\n",
        "/// \\item no dependence on any external parameters\r\n",
        "/// \\end{itemize}\r\n",
        "/// E.g. the following code would only change the behavior in BoSSSpad,\r\n",
        "/// but not the code that is passed to the solver:"
      ],
      "outputs": [],
      "metadata": {
        "dotnet_interactive": {
          "language": "csharp"
        }
      }
    },
    {
      "cell_type": "code",
      "execution_count": null,
      "source": [
        "//Deprecated:\r\n",
        "//MyInitialValue.alpha = 0.5;\r\n",
        "//MyInitialValue.VelocityX(new double[]{ 0.5, 0.5 }, 0.0);"
      ],
      "outputs": [],
      "metadata": {
        "dotnet_interactive": {
          "language": "csharp"
        }
      }
    },
    {
      "cell_type": "code",
      "execution_count": null,
      "source": [
        "C.InitialValues[\"VelocityX\"].Evaluate(new double[]{ 0.5, 0.5 }, 0.0)"
      ],
      "outputs": [],
      "metadata": {
        "dotnet_interactive": {
          "language": "csharp"
        }
      }
    },
    {
      "cell_type": "markdown",
      "source": [
        "# 2 Advanced functions\r\n",
        "\r\n",
        "Some more advanced mathematical functions, e.g.\r\n",
        "Jacobian elliptic functions $\\text{sn}(u|m)$, $\\text{cn}(u|m)$ and $\\text{dn}(u|m)$\r\n",
        "are available throug the GNU Scientific Library, for which BoSSS provides\r\n",
        "bindings, see e.g.\r\n",
        "**BoSSS.Platform.GSL.gsl\\_sf\\_elljac\\_e**"
      ],
      "metadata": {
        "dotnet_interactive": {
          "language": "csharp"
        }
      }
    },
    {
      "cell_type": "markdown",
      "source": [
        "\r\n",
        "## 2.1 From MATLAB code\r\n",
        "Asssume e.g. the following MATLAB code; obviously, this could  \r\n",
        "also be implemented in C\\#, we yust use something smple for demonstration:"
      ],
      "metadata": {
        "dotnet_interactive": {
          "language": "csharp"
        }
      }
    },
    {
      "cell_type": "code",
      "execution_count": null,
      "source": [
        "string[] MatlabCode = new string[] {\r\n",
        "@\"[n,d2] =  size(X_values);\",\r\n",
        "@\"u=zeros(2,n);\",\r\n",
        "@\"for k=1:n\",\r\n",
        "@\"X=[X_values(k,1),X_values(k,2)];\",\r\n",
        "@\"\",\r\n",
        "@\"u_x_main     = -(-sqrt(X(1).^ 2 + X(2).^ 2) / 0.3e1 + 0.4e1 / 0.3e1 * (X(1).^ 2 + X(2).^ 2) ^ (-0.1e1 / 0.2e1)) * sin(atan2(X(2), X(1)));\",\r\n",
        "@\"u_y_main     = (-sqrt(X(1).^ 2 + X(2).^ 2) / 0.3e1 + 0.4e1 / 0.3e1 * (X(1).^ 2 + X(2).^ 2) ^ (-0.1e1 / 0.2e1)) * cos(atan2(X(2), X(1)));\",\r\n",
        "@\"\",   \r\n",
        "@\"u(1,k)=u_x_main;\",\r\n",
        "@\"u(2,k)=u_y_main;\",\r\n",
        "@\"end\" };"
      ],
      "outputs": [],
      "metadata": {
        "dotnet_interactive": {
          "language": "csharp"
        }
      }
    },
    {
      "cell_type": "markdown",
      "source": [
        "We can evaluate this code in **BoSSS** using the MATLAB connector;\r\n",
        "We encapsulate it in a **ScalarFunction** which allows \r\n",
        "**vectorized** evaluation \r\n",
        "(multiple evaluatiuons in one function call) e\r\n",
        "of some function.\r\n",
        "\r\n",
        "This is much more efficient, since there will be significant overhead\r\n",
        "for calling MATLAB (starting MATLAB, checking the license, \r\n",
        "transfering data, etc.)."
      ],
      "metadata": {
        "dotnet_interactive": {
          "language": "csharp"
        }
      }
    },
    {
      "cell_type": "code",
      "execution_count": null,
      "source": [
        "using ilPSP.Connectors.Matlab;"
      ],
      "outputs": [],
      "metadata": {
        "dotnet_interactive": {
          "language": "csharp"
        }
      }
    },
    {
      "cell_type": "code",
      "execution_count": null,
      "source": [
        "ScalarFunction VelocityXInitial = \r\n",
        "delegate(MultidimensionalArray input, MultidimensionalArray output) {\r\n",
        "    int N          = input.GetLength(0); // number of points which we evaluate \r\n",
        "    //                                      at once.\r\n",
        "    var output_vec = MultidimensionalArray.Create(2, N); // the MATLAB code\r\n",
        "    //                        returns an entire vector.\r\n",
        "    using(var bmc = new BatchmodeConnector()) {\r\n",
        "       bmc.PutMatrix(input,\"X_values\");\r\n",
        " \r\n",
        "       foreach(var line in MatlabCode) {\r\n",
        "           bmc.Cmd(line);   \r\n",
        "       }\r\n",
        " \r\n",
        "       bmc.GetMatrix(output_vec, \"u\");\r\n",
        " \r\n",
        "       bmc.Execute(); // Note: 'Execute' has to be *after* 'GetMatrix'\r\n",
        "   }\r\n",
        "   output.Set(output_vec.ExtractSubArrayShallow(0,-1)); // extract row 0 from \r\n",
        "   //                       'output_vec' and store it in 'output'\r\n",
        "};"
      ],
      "outputs": [],
      "metadata": {
        "dotnet_interactive": {
          "language": "csharp"
        }
      }
    },
    {
      "cell_type": "markdown",
      "source": [
        "We test our implementation:"
      ],
      "metadata": {
        "dotnet_interactive": {
          "language": "csharp"
        }
      }
    },
    {
      "cell_type": "code",
      "execution_count": null,
      "source": [
        "var inputTest = MultidimensionalArray.Create(3,2); // set some test values for input\r\n",
        "inputTest.SetColumn(0, GenericBlas.Linspace(1,2,3));\r\n",
        "inputTest.SetColumn(1, GenericBlas.Linspace(2,3,3));\r\n",
        " \r\n",
        "var outputTest = MultidimensionalArray.Create(3); // allocate memory for output"
      ],
      "outputs": [],
      "metadata": {
        "dotnet_interactive": {
          "language": "csharp"
        }
      }
    },
    {
      "cell_type": "code",
      "execution_count": null,
      "source": [
        "VelocityXInitial(inputTest, outputTest);"
      ],
      "outputs": [],
      "metadata": {
        "dotnet_interactive": {
          "language": "csharp"
        }
      }
    },
    {
      "cell_type": "markdown",
      "source": [
        "We recive the following velocity values for our input coordinates:"
      ],
      "metadata": {
        "dotnet_interactive": {
          "language": "csharp"
        }
      }
    },
    {
      "cell_type": "code",
      "execution_count": null,
      "source": [
        "\r\n",
        "outputTest.To1DArray()"
      ],
      "outputs": [],
      "metadata": {
        "dotnet_interactive": {
          "language": "csharp"
        }
      }
    },
    {
      "cell_type": "markdown",
      "source": [
        "\r\n",
        "# Projecting the MATLAB function to a DG field\r\n",
        "\r\n",
        "As for a standard calculation, we create a mesh, save it to some database\r\n",
        "and set the mesh in the control object."
      ],
      "metadata": {
        "dotnet_interactive": {
          "language": "csharp"
        }
      }
    },
    {
      "cell_type": "code",
      "execution_count": null,
      "source": [
        "var nodes        = GenericBlas.Linspace(1,2,11);\r\n",
        "GridCommons grid = Grid2D.Cartesian2DGrid(nodes,nodes);"
      ],
      "outputs": [],
      "metadata": {
        "dotnet_interactive": {
          "language": "csharp"
        }
      }
    },
    {
      "cell_type": "code",
      "execution_count": null,
      "source": [
        "var db = CreateTempDatabase();"
      ],
      "outputs": [],
      "metadata": {
        "dotnet_interactive": {
          "language": "csharp"
        }
      }
    },
    {
      "cell_type": "code",
      "execution_count": null,
      "source": [
        "db.SaveGrid(ref grid);"
      ],
      "outputs": [],
      "metadata": {
        "dotnet_interactive": {
          "language": "csharp"
        }
      }
    },
    {
      "cell_type": "code",
      "execution_count": null,
      "source": [
        "C.SetGrid(grid);"
      ],
      "outputs": [],
      "metadata": {
        "dotnet_interactive": {
          "language": "csharp"
        }
      }
    },
    {
      "cell_type": "markdown",
      "source": [
        "We create a DG field for the $x$-velocity on our grid:"
      ],
      "metadata": {
        "dotnet_interactive": {
          "language": "csharp"
        }
      }
    },
    {
      "cell_type": "code",
      "execution_count": null,
      "source": [
        "var gdata = new GridData(grid);"
      ],
      "outputs": [],
      "metadata": {
        "dotnet_interactive": {
          "language": "csharp"
        }
      }
    },
    {
      "cell_type": "code",
      "execution_count": null,
      "source": [
        "var b = new Basis(gdata, 3); // use DG degree 2"
      ],
      "outputs": [],
      "metadata": {
        "dotnet_interactive": {
          "language": "csharp"
        }
      }
    },
    {
      "cell_type": "code",
      "execution_count": null,
      "source": [
        "var VelX = new SinglePhaseField(b,\"VelocityX\"); // important: name the DG field\r\n",
        "//                                 equal to initial value name"
      ],
      "outputs": [],
      "metadata": {
        "dotnet_interactive": {
          "language": "csharp"
        }
      }
    },
    {
      "cell_type": "markdown",
      "source": [
        "Finally, we are able to project the MATLAB function onto the DG field:"
      ],
      "metadata": {
        "dotnet_interactive": {
          "language": "csharp"
        }
      }
    },
    {
      "cell_type": "code",
      "execution_count": null,
      "source": [
        "//VelX.ProjectField(VelocityXInitial);"
      ],
      "outputs": [],
      "metadata": {
        "dotnet_interactive": {
          "language": "csharp"
        }
      }
    },
    {
      "cell_type": "markdown",
      "source": [
        "One might want to check the data visually, so it can be exported\r\n",
        "in the usual fashion"
      ],
      "metadata": {
        "dotnet_interactive": {
          "language": "csharp"
        }
      }
    },
    {
      "cell_type": "code",
      "execution_count": null,
      "source": [
        "//Tecplot(\"initial\",0.0,2,VelX);"
      ],
      "outputs": [],
      "metadata": {
        "dotnet_interactive": {
          "language": "csharp"
        }
      }
    },
    {
      "cell_type": "code",
      "execution_count": null,
      "source": [],
      "outputs": [],
      "metadata": {
        "dotnet_interactive": {
          "language": "csharp"
        }
      }
    },
    {
      "cell_type": "markdown",
      "source": [
        "\r\n",
        "# Storing the initial value in the database and linking it in the control object\r\n"
      ],
      "metadata": {
        "dotnet_interactive": {
          "language": "csharp"
        }
      }
    },
    {
      "cell_type": "markdown",
      "source": [
        "The DG field with the initial value can be stored in the database.\r\n",
        "this will create a dummy session."
      ],
      "metadata": {
        "dotnet_interactive": {
          "language": "csharp"
        }
      }
    },
    {
      "cell_type": "code",
      "execution_count": null,
      "source": [
        "BoSSSshell.WorkflowMgm.Init(\"TestProject\");"
      ],
      "outputs": [],
      "metadata": {
        "dotnet_interactive": {
          "language": "csharp"
        }
      }
    },
    {
      "cell_type": "code",
      "execution_count": null,
      "source": [
        "var InitalValueTS = db.SaveTimestep(VelX); // further fields an be \r\n",
        "//                                                  appended"
      ],
      "outputs": [],
      "metadata": {
        "dotnet_interactive": {
          "language": "csharp"
        }
      }
    },
    {
      "cell_type": "code",
      "execution_count": null,
      "source": [
        "BoSSSshell.WorkflowMgm.Sessions"
      ],
      "outputs": [],
      "metadata": {
        "dotnet_interactive": {
          "language": "csharp"
        }
      }
    },
    {
      "cell_type": "code",
      "execution_count": null,
      "source": [
        "/// Now, we can use this timestep as a restart-value for the simulation:"
      ],
      "outputs": [],
      "metadata": {
        "dotnet_interactive": {
          "language": "csharp"
        }
      }
    },
    {
      "cell_type": "code",
      "execution_count": null,
      "source": [
        "C.SetRestart(InitalValueTS);"
      ],
      "outputs": [],
      "metadata": {
        "dotnet_interactive": {
          "language": "csharp"
        }
      }
    }
  ],
  "metadata": {
    "kernelspec": {
      "display_name": ".NET (C#)",
      "language": "C#",
      "name": ".net-csharp"
    },
    "language_info": {
      "file_extension": ".cs",
      "mimetype": "text/x-csharp",
      "name": "C#",
      "pygments_lexer": "csharp",
      "version": "8.0"
    }
  },
  "nbformat": 4,
  "nbformat_minor": 4
}