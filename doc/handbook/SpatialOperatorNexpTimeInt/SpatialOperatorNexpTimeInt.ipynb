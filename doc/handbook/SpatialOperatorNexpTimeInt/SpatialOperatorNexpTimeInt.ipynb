{
 "cells": [
  {
   "cell_type": "code",
   "execution_count": 1,
   "metadata": {
    "dotnet_interactive": {
     "language": "csharp"
    }
   },
   "outputs": [
    {
     "data": {
      "text/html": [
       "\r\n",
       "<div>\r\n",
       "    <div id='dotnet-interactive-this-cell-17292.Microsoft.DotNet.Interactive.Http.HttpPort' style='display: none'>\r\n",
       "        The below script needs to be able to find the current output cell; this is an easy method to get it.\r\n",
       "    </div>\r\n",
       "    <script type='text/javascript'>\r\n",
       "async function probeAddresses(probingAddresses) {\r\n",
       "    function timeout(ms, promise) {\r\n",
       "        return new Promise(function (resolve, reject) {\r\n",
       "            setTimeout(function () {\r\n",
       "                reject(new Error('timeout'))\r\n",
       "            }, ms)\r\n",
       "            promise.then(resolve, reject)\r\n",
       "        })\r\n",
       "    }\r\n",
       "\r\n",
       "    if (Array.isArray(probingAddresses)) {\r\n",
       "        for (let i = 0; i < probingAddresses.length; i++) {\r\n",
       "\r\n",
       "            let rootUrl = probingAddresses[i];\r\n",
       "\r\n",
       "            if (!rootUrl.endsWith('/')) {\r\n",
       "                rootUrl = `${rootUrl}/`;\r\n",
       "            }\r\n",
       "\r\n",
       "            try {\r\n",
       "                let response = await timeout(1000, fetch(`${rootUrl}discovery`, {\r\n",
       "                    method: 'POST',\r\n",
       "                    cache: 'no-cache',\r\n",
       "                    mode: 'cors',\r\n",
       "                    timeout: 1000,\r\n",
       "                    headers: {\r\n",
       "                        'Content-Type': 'text/plain'\r\n",
       "                    },\r\n",
       "                    body: probingAddresses[i]\r\n",
       "                }));\r\n",
       "\r\n",
       "                if (response.status == 200) {\r\n",
       "                    return rootUrl;\r\n",
       "                }\r\n",
       "            }\r\n",
       "            catch (e) { }\r\n",
       "        }\r\n",
       "    }\r\n",
       "}\r\n",
       "\r\n",
       "function loadDotnetInteractiveApi() {\r\n",
       "    probeAddresses([\"http://192.168.56.1:1000/\", \"http://169.254.241.121:1000/\", \"http://192.168.178.23:1000/\", \"http://172.18.114.81:1000/\", \"http://127.0.0.1:1000/\"])\r\n",
       "        .then((root) => {\r\n",
       "        // use probing to find host url and api resources\r\n",
       "        // load interactive helpers and language services\r\n",
       "        let dotnetInteractiveRequire = require.config({\r\n",
       "        context: '17292.Microsoft.DotNet.Interactive.Http.HttpPort',\r\n",
       "                paths:\r\n",
       "            {\r\n",
       "                'dotnet-interactive': `${root}resources`\r\n",
       "                }\r\n",
       "        }) || require;\r\n",
       "\r\n",
       "            window.dotnetInteractiveRequire = dotnetInteractiveRequire;\r\n",
       "\r\n",
       "            window.configureRequireFromExtension = function(extensionName, extensionCacheBuster) {\r\n",
       "                let paths = {};\r\n",
       "                paths[extensionName] = `${root}extensions/${extensionName}/resources/`;\r\n",
       "                \r\n",
       "                let internalRequire = require.config({\r\n",
       "                    context: extensionCacheBuster,\r\n",
       "                    paths: paths,\r\n",
       "                    urlArgs: `cacheBuster=${extensionCacheBuster}`\r\n",
       "                    }) || require;\r\n",
       "\r\n",
       "                return internalRequire\r\n",
       "            };\r\n",
       "        \r\n",
       "            dotnetInteractiveRequire([\r\n",
       "                    'dotnet-interactive/dotnet-interactive'\r\n",
       "                ],\r\n",
       "                function (dotnet) {\r\n",
       "                    dotnet.init(window);\r\n",
       "                },\r\n",
       "                function (error) {\r\n",
       "                    console.log(error);\r\n",
       "                }\r\n",
       "            );\r\n",
       "        })\r\n",
       "        .catch(error => {console.log(error);});\r\n",
       "    }\r\n",
       "\r\n",
       "// ensure `require` is available globally\r\n",
       "if ((typeof(require) !==  typeof(Function)) || (typeof(require.config) !== typeof(Function))) {\r\n",
       "    let require_script = document.createElement('script');\r\n",
       "    require_script.setAttribute('src', 'https://cdnjs.cloudflare.com/ajax/libs/require.js/2.3.6/require.min.js');\r\n",
       "    require_script.setAttribute('type', 'text/javascript');\r\n",
       "    \r\n",
       "    \r\n",
       "    require_script.onload = function() {\r\n",
       "        loadDotnetInteractiveApi();\r\n",
       "    };\r\n",
       "\r\n",
       "    document.getElementsByTagName('head')[0].appendChild(require_script);\r\n",
       "}\r\n",
       "else {\r\n",
       "    loadDotnetInteractiveApi();\r\n",
       "}\r\n",
       "\r\n",
       "    </script>\r\n",
       "</div>"
      ]
     },
     "metadata": {},
     "output_type": "display_data"
    }
   ],
   "source": [
    "///\\section*{What's new:} \n",
    "///\\begin{itemize}\n",
    "///    \\item{generating .plt-files for visualization}\n",
    "///    \\item{implementing a numerical flux}\n",
    "///    \\item{definition and evaluation of the spatial operator}\n",
    "///    \\item{explicit time integration}\n",
    "///\\end{itemize}\n",
    "///\\section*{Prerequisites:} \n",
    "///\\begin{itemize}\n",
    "///    \\item{projection onto a DG-field}\n",
    "///\\end{itemize} \n",
    "///Within this tutorial, we are going to implement the scalar transport equation via the definition of a spatial operator and an explicit time integrator. The implementation of the numerical flux is described on the basis of a upwinding scheme. For the visualization of the results, we are generating .plt-files, which can be opened by a viewer of your choice\n",
    "///\\section{Problem statement}\n",
    "///We are considering the following definition of the scalar transport equation with\n",
    "///\\begin{equation}\n",
    "///   \\label{eq:divergenceTerm}\n",
    "///   \\frac{\\partial c}{\\partial t} + \\nabla \\cdot (\\vec{u} c) = 0,\n",
    "///\\end{equation}\n",
    "///where $c = c(x,y,t) \\in \\mathbb{R}$ is the unknown concentration and\n",
    "///\\begin{equation*}\n",
    "///     \\vec{u} = \\begin{pmatrix}\n",
    "///         y\\\\-x\n",
    "///     \\end{pmatrix}\n",
    "///\\end{equation*}\n",
    "///is a given velocity field in $\\domain = [-1, 1] \\times [-1, 1]$. Furthermore, the exact solution is given by\n",
    "///\\begin{equation*}\n",
    "///    c_\\text{Exact}(x,y,t) = \\cos(\\cos(t) x - \\sin(t) y) \\quad \\text{ for } (x,y) \\in \\domain\n",
    "///\\end{equation*}\n",
    "///In this tutorial we will simulate the evolution of the concentration $c(x,y,t)$.\n",
    "///\\section{Solution within the \\BoSSS{} framework}\n",
    "///We start a new project"
   ]
  },
  {
   "cell_type": "code",
   "execution_count": 2,
   "metadata": {
    "dotnet_interactive": {
     "language": "csharp"
    }
   },
   "outputs": [],
   "source": [
    "#r \"BoSSSpad.dll\"\n",
    "using System;\n",
    "using System.Collections.Generic;\n",
    "using System.Linq;\n",
    "using ilPSP;\n",
    "using ilPSP.Utils;\n",
    "using BoSSS.Platform;\n",
    "using BoSSS.Foundation;\n",
    "using BoSSS.Foundation.Grid;\n",
    "using BoSSS.Foundation.Grid.Classic;\n",
    "using BoSSS.Foundation.IO;\n",
    "using BoSSS.Solution;\n",
    "using BoSSS.Solution.Control;\n",
    "using BoSSS.Solution.GridImport;\n",
    "using BoSSS.Solution.Statistic;\n",
    "using BoSSS.Solution.Utils;\n",
    "using BoSSS.Solution.Gnuplot;\n",
    "using BoSSS.Application.BoSSSpad;\n",
    "using BoSSS.Application.XNSE_Solver;\n",
    "using static BoSSS.Application.BoSSSpad.BoSSSshell;\n",
    "Init();\n"
   ]
  },
  {
   "cell_type": "code",
   "execution_count": 3,
   "metadata": {
    "dotnet_interactive": {
     "language": "csharp"
    }
   },
   "outputs": [],
   "source": [
    "using System.IO;"
   ]
  },
  {
   "cell_type": "code",
   "execution_count": 4,
   "metadata": {
    "dotnet_interactive": {
     "language": "csharp"
    }
   },
   "outputs": [],
   "source": [
    "/// Delete old plots in the current directory if any\n",
    "Directory.GetFiles(\".\", \"*.plt\").ForEach(file => File.Delete(file));"
   ]
  },
  {
   "cell_type": "code",
   "execution_count": 5,
   "metadata": {
    "dotnet_interactive": {
     "language": "csharp"
    }
   },
   "outputs": [],
   "source": [
    "/// \\subsection{Projection and visualization}\n",
    "/// In this first section we get to know the plotting tool \\code{Tecplot}, \n",
    "/// which generates .plt-files of our \\code{DGFields}. \n",
    "/// Previously, we define the exact solution $c_{Exact}(x,y,t)$ and \n",
    "/// the scalar components of the velocity field $\\vec{u}$ as functions:"
   ]
  },
  {
   "cell_type": "code",
   "execution_count": 6,
   "metadata": {},
   "outputs": [],
   "source": [
    "public static class ExactSol {\n",
    "    public static double c(double[] X, double t) => Math.Cos(Math.Cos(t)*X[0] - Math.Sin(t)*X[1]);\n",
    "}"
   ]
  },
  {
   "cell_type": "code",
   "execution_count": 7,
   "metadata": {},
   "outputs": [],
   "source": [
    "public static class VelField {\n",
    "    public static double u(double[] X) => X[1];\n",
    "    public static double v(double[] X) => -X[0];\n",
    "}"
   ]
  },
  {
   "cell_type": "code",
   "execution_count": 8,
   "metadata": {
    "dotnet_interactive": {
     "language": "csharp"
    }
   },
   "outputs": [],
   "source": [
    "/// Next, we need to construct the computational domain, i.e a unit square with one cell.\n",
    "double[] nodes = GenericBlas.Linspace(-1.0, 1.0, 2); \n",
    "GridCommons grid = Grid2D.Cartesian2DGrid(nodes, nodes); "
   ]
  },
  {
   "cell_type": "code",
   "execution_count": 9,
   "metadata": {
    "dotnet_interactive": {
     "language": "csharp"
    }
   },
   "outputs": [],
   "source": [
    "/// We instantiate the \\code{SinglePhaseField} \\emph{ch} with a \\code{Basis} of DG-degreee of 2. Then we can project the initial value $c(x,y,0.0)$ onto \\emph{ch}.\n",
    "int dgDegree = 2;  \n",
    "Basis basis = new Basis(grid, dgDegree);  \n",
    "SinglePhaseField ch = new SinglePhaseField(basis, \"ch\");  \n",
    "ch.ProjectField(X => ExactSol.c(X, 0.0));"
   ]
  },
  {
   "cell_type": "code",
   "execution_count": 10,
   "metadata": {
    "dotnet_interactive": {
     "language": "csharp"
    }
   },
   "outputs": [],
   "source": [
    "/// Now, we can export the initial projection in our \\code{Tecplot} format.\n",
    "using BoSSS.Solution.Tecplot;"
   ]
  },
  {
   "cell_type": "code",
   "execution_count": 11,
   "metadata": {
    "dotnet_interactive": {
     "language": "csharp"
    }
   },
   "outputs": [],
   "source": [
    "/// One important parameter for visualization is \\textit{superSampling}. It is essential for higher order methods since almost all\n",
    "/// plotting tools work with piecewise linear interpolations of the data in the vertices. For our\n",
    "/// case, the plot with \\code{superSampling=0} would just show a constant value! By increasing the\n",
    "/// rate of the \\emph{superSampling}, we provide more sampling points for the plot tool.\n",
    "/// \\begin{itemize}\n",
    "/// \\item This has nothing to do with the computation! Only required for visualization!\n",
    "/// \\item The number of sampling points grows exponentially with the value of\n",
    "///  \\code{superSampling}. Never use a value above 5 or 6!\n",
    "/// \\end{itemize}"
   ]
  },
  {
   "cell_type": "code",
   "execution_count": 12,
   "metadata": {
    "dotnet_interactive": {
     "language": "csharp"
    }
   },
   "outputs": [],
   "source": [
    "uint superSampling = 0;  \n",
    "Tecplot tecplot    = new Tecplot(grid.GridData, superSampling);\n",
    "//tecplot.PlotFields( \n",
    "//    \"plot_tutorial4_superSampling0\", \n",
    "//    0.0, \n",
    "//    ch);"
   ]
  },
  {
   "cell_type": "code",
   "execution_count": 13,
   "metadata": {
    "dotnet_interactive": {
     "language": "csharp"
    }
   },
   "outputs": [],
   "source": [
    "superSampling = 3;  \n",
    "tecplot    = new Tecplot(grid.GridData, superSampling); \n",
    "//tecplot.PlotFields( \n",
    "//    \"plot_tutorial4_superSampling3\", \n",
    "//    0.0, \n",
    "//    ch);"
   ]
  },
  {
   "cell_type": "code",
   "execution_count": 14,
   "metadata": {
    "dotnet_interactive": {
     "language": "csharp"
    }
   },
   "outputs": [],
   "source": [
    "/// There should now be two plot-files in your current directory. Those can be opened by any standard viewer for .plt-files."
   ]
  },
  {
   "cell_type": "code",
   "execution_count": 15,
   "metadata": {
    "dotnet_interactive": {
     "language": "csharp"
    }
   },
   "outputs": [],
   "source": [
    "/// \\subsection{Implementation of the (numerical) flux}\n",
    "/// Before we can define the spatial operator for the scalar transport equation, we need to implement \n",
    "/// the flux for the given problem, i.e. the flux of the divergence operator. A flux defines the volume term \n",
    "/// (the \\emph{flux}) as well as the boundary terms (via the \\emph{numerical flux}).\n",
    "/// We derive such a flux from the class \\code{NonlinearFlux} which simplifies the implementation of fluxes in\n",
    "/// flux-based formulations. \n",
    "using BoSSS.Platform.LinAlg;  \n",
    "class ScalarTransportFlux : NonlinearFlux {  \n",
    " \n",
    "    /// \\leftskip=1cm \\code{ArgumentOrdering} defines on which arguments this flux depends, and in which order. \n",
    "    /// Here, we have just one argument (the concentration $c$). The name is arbitrary at this point, but has to be \n",
    "    /// referenced when defining the spatial operator (see next section). Since this flux only depends on one\n",
    "    /// argument, the parameters \\code{U}, \\code{Uin} and \\code{Uout} will have a length of 1 and will contain the\n",
    "    /// local values of $c$ in the first entry, i.e. \\code{U[0]} in the method \\code{Flux(...)}\n",
    "    public override IList<string> ArgumentOrdering {  \n",
    "        get { return new string[] { \"c\" }; }  \n",
    "    }  \n",
    " \n",
    "    /// \\code{Flux(...)} defines the volume term. The array \\code{output} (whose length is determined by the\n",
    "    /// spatial dimension of the problem) has to contain the evaluated \\emph{flux} on exit.\n",
    "    protected override void Flux(double time, double[] x, double[] U, double[] output) {  \n",
    "        output[0] = VelField.u(x) * U[0];  \n",
    "        output[1] = VelField.v(x) * U[0];  \n",
    "    }  \n",
    " \n",
    "    /// \\code{InnerEdgeFlux(...)} defines the \\emph{numerical flux} between inner edges. The parameters \n",
    "    /// \\code{Uin} and \\code{Uout} contain the value from the \\emph{in} and \\emph{out} side, respectively, \n",
    "    /// where the normal vector \\code{normal} points from \\emph{in} to \\emph{out}\n",
    "    protected override double InnerEdgeFlux(double time, double[] x, double[] normal, \n",
    "    double[] Uin, double[] Uout, int jEdge) {  \n",
    "        Vector n              = new Vector(normal);  \n",
    "        Vector velocityVector = new Vector( VelField.u(x),  VelField.v(x));  \n",
    " \n",
    "        if (velocityVector * n > 0) {  \n",
    "            return (velocityVector * Uin[0]) * n;  \n",
    "        } else {  \n",
    "            return (velocityVector * Uout[0]) * n;  \n",
    "        }  \n",
    "    }  \n",
    " \n",
    "    /// \\code{BorderEdgeFlux(...)} defines the \\emph{numerical flux} at boundary edges, where only inner values \n",
    "    /// (\\code{Uin}) are given. Here, we reuse \\code{InnerEdgeFlux(...)} and the exact solution \\code{cExact} \n",
    "    /// to define a suitable boundary condition.\n",
    "    protected override double BorderEdgeFlux(double time, double[] x, double[] normal, \n",
    "                                             byte EdgeTag, double[] Uin, int jEdge) {  \n",
    "        double[] Uout = new double[] { ExactSol.c(x, time) };  \n",
    "        return InnerEdgeFlux(time, x, normal, Uin, Uout, jEdge);  \n",
    "    }  \n",
    "} \n",
    "/// \\leftskip=0cm"
   ]
  },
  {
   "cell_type": "code",
   "execution_count": 16,
   "metadata": {
    "dotnet_interactive": {
     "language": "csharp"
    }
   },
   "outputs": [],
   "source": [
    "/// \\subsection{Definition of a spatial operator}\n",
    "/// The next step is the definition of the spatial operator.\n",
    "var spatialTerm = new SpatialOperator( \n",
    "    new string[] { \"c\" },        // Domain variable \n",
    "    new string[] { \"div\" },      // Co-domain variable\n",
    "    QuadOrderFunc.NonLinear(2)); // Order of integration\n",
    "/// The name of the \\emph{domain variable} must be the same used in \\code{ArgumentOrdering}\n",
    "/// in the definition of the flux, i.e \\code{ScalarTransportFlux}.\n",
    "/// The name of the \\emph{co-domain variable} is arbitrary and is used when the \n",
    "/// fluxes are added. In our case, we only have one type of flux.\n",
    "/// \\code{QuadOrderFunc.NonLinear(int x)} computes the required integration order \n",
    "/// for a non-linear flux. Here, the flux is given by $\\vec{u} c$, where $\\vec{u}$ is linear. \n",
    "/// So, we have second order terms (flux times the ansatz functions), i.e the required\n",
    "/// order is \\code{2*dgDegree+1} \\newline"
   ]
  },
  {
   "cell_type": "code",
   "execution_count": 17,
   "metadata": {
    "dotnet_interactive": {
     "language": "csharp"
    }
   },
   "outputs": [],
   "source": [
    "/// We add the flux of the divergence operator to the corresponding equation component, identified by the \n",
    "/// \\emph{co-domain variable},\n",
    "spatialTerm.EquationComponents[\"div\"].Add(new ScalarTransportFlux());"
   ]
  },
  {
   "cell_type": "code",
   "execution_count": 18,
   "metadata": {
    "dotnet_interactive": {
     "language": "csharp"
    }
   },
   "outputs": [],
   "source": [
    "/// and finalize the definition of the operator\n",
    "spatialTerm.Commit();"
   ]
  },
  {
   "cell_type": "code",
   "execution_count": 19,
   "metadata": {
    "dotnet_interactive": {
     "language": "csharp"
    }
   },
   "outputs": [],
   "source": [
    "/// \\subsection{Time integration}\n",
    "/// Finally, we have to specify a time stepping scheme to solve the time dependent\n",
    "/// scalar transport equation \\eqref{eq:divergenceTerm}. For simplification, we use \n",
    "/// the \\code{ExplicitEuler} scheme, which just needs the \\code{SpatialOperator} and \n",
    "/// the \\code{DGField} as arguments.\n",
    "using BoSSS.Solution.Timestepping;"
   ]
  },
  {
   "cell_type": "code",
   "execution_count": 20,
   "metadata": {
    "dotnet_interactive": {
     "language": "csharp"
    }
   },
   "outputs": [],
   "source": [
    "ExplicitEuler timeStepper = new ExplicitEuler(spatialTerm, ch);"
   ]
  },
  {
   "cell_type": "code",
   "execution_count": 21,
   "metadata": {
    "dotnet_interactive": {
     "language": "csharp"
    }
   },
   "outputs": [],
   "source": [
    "/// We want to perform a full revolution ($t \\in [0, 2\\pi]$) with 24 timesteps."
   ]
  },
  {
   "cell_type": "code",
   "execution_count": 22,
   "metadata": {
    "dotnet_interactive": {
     "language": "csharp"
    }
   },
   "outputs": [],
   "source": [
    "double endTime = 2.0 * Math.PI; \n",
    "int numberOfTimesteps = 24;"
   ]
  },
  {
   "cell_type": "code",
   "execution_count": 23,
   "metadata": {
    "dotnet_interactive": {
     "language": "csharp"
    }
   },
   "outputs": [],
   "source": [
    "/// Plot the initial data\n",
    "tecplot.PlotFields( \n",
    "    \"plot_tutorial4_0\", \n",
    "    0.0, \n",
    "    ch); \n",
    "/// Now, we can start the simulation, where the \\code{timestepper} performs in each iteration one\n",
    "/// explicit euler timestep with the timestep size \\code{dt}\n",
    "double dt = endTime / numberOfTimesteps; \n",
    "for (int i = 1; i <= numberOfTimesteps; i++) { \n",
    "    timeStepper.Perform(dt); \n",
    "    tecplot.PlotFields(          // plot each timestep\n",
    "        \"plot_tutorial4_\" + i, \n",
    "        timeStepper.Time, \n",
    "        ch); \n",
    "}"
   ]
  },
  {
   "cell_type": "code",
   "execution_count": 24,
   "metadata": {
    "dotnet_interactive": {
     "language": "csharp"
    }
   },
   "outputs": [
    {
     "data": {
      "text/html": [
       "<div class=\"dni-plaintext\">0.10126945730309017</div>"
      ]
     },
     "execution_count": 24,
     "metadata": {},
     "output_type": "execute_result"
    }
   ],
   "source": [
    "/// Furthermore, we can postprocess our simulation data in various ways: For example, \n",
    "/// we can compute the L2-Error at the end of the simulation\n",
    "double error = ch.L2Error(X => ExactSol.c(X, timeStepper.Time)); \n",
    "error"
   ]
  },
  {
   "cell_type": "code",
   "execution_count": 25,
   "metadata": {
    "dotnet_interactive": {
     "language": "csharp"
    }
   },
   "outputs": [],
   "source": [
    "/// \\section{Advanced topics}\n",
    "/// So far we used the \\code{timestepper} to evaluate the \\code{SpatialOperator} in order to get \n",
    "/// the current change rate for the explicit Euler scheme. In the next section we will evaluate the operator \n",
    "/// in each iteration manually. But first we set the \\code{DGField} back to the initial values and plot\n",
    "ch.ProjectField(X => ExactSol.c(X, 0.0));\n",
    "tecplot.PlotFields( \n",
    "    \"plot_tutorial4_advanced_0\", \n",
    "    0.0, \n",
    "    ch);"
   ]
  },
  {
   "cell_type": "code",
   "execution_count": 26,
   "metadata": {
    "dotnet_interactive": {
     "language": "csharp"
    }
   },
   "outputs": [],
   "source": [
    "/// \\subsection{Evaluation of the spatial operator}\n",
    "/// To evaluate the \\code{SpatialOperator}, we have to provide a mapping of the DG-coordinates of \\emph{ch}.\n",
    "/// This describes a bijective mapping between \\emph{local unique indices} and \\emph{global unique indices}\n",
    "var mapping = new CoordinateMapping(ch);"
   ]
  },
  {
   "cell_type": "code",
   "execution_count": 27,
   "metadata": {
    "dotnet_interactive": {
     "language": "csharp"
    }
   },
   "outputs": [],
   "source": [
    "/// In other words, it maps the DG-coordinates into one long, one-dimensional \\code{CoordinateVector}\n",
    "var DGCoordinates = new CoordinateVector(mapping);"
   ]
  },
  {
   "cell_type": "code",
   "execution_count": 28,
   "metadata": {
    "dotnet_interactive": {
     "language": "csharp"
    }
   },
   "outputs": [],
   "source": [
    "/// Now, we can create an evaluator of the \\code{SpatialOperator} for the \\code{DGField} \\emph{ch} \n",
    "var evaluator = spatialTerm.GetEvaluatorEx(mapping.Fields, null, mapping);"
   ]
  },
  {
   "cell_type": "code",
   "execution_count": 29,
   "metadata": {
    "dotnet_interactive": {
     "language": "csharp"
    }
   },
   "outputs": [],
   "source": [
    "/// In our case this evaluator computes the fluxes of the divergence operator evaluated for the \\code{DGField} \\emph{ch}\n",
    "double[] flux = new double[ch.CoordinateVector.Count]; \n",
    "evaluator.time = 0.0;\n",
    "evaluator.Evaluate(1.0, 0.0, flux);\n",
    "/// After the evaluation the output \\code{flux} is $\\code{flux} = 0.0 \\cdot \\code{flux} + 1.0 \\cdot \\code{spatialTerm(time: 0.0)}$"
   ]
  },
  {
   "cell_type": "code",
   "execution_count": 30,
   "metadata": {
    "dotnet_interactive": {
     "language": "csharp"
    }
   },
   "outputs": [],
   "source": [
    "/// Finally, we can use this kind of \\code{spatial operator} evaluation to implement the explicit Euler scheme manually.   \n",
    "double physTime = 0.0;\n",
    "for (int i = 1; i <= numberOfTimesteps; i++) { \n",
    "    evaluator.time = physTime;\n",
    "    evaluator.Evaluate(1.0, 0.0, flux);\n",
    "    DGCoordinates.axpy<double[]>(flux, -dt);\n",
    "    physTime += dt;\n",
    "    tecplot.PlotFields(        \n",
    "        \"plot_tutorial4_advanced\" + i, \n",
    "        physTime, \n",
    "        ch); \n",
    "}"
   ]
  },
  {
   "cell_type": "code",
   "execution_count": 31,
   "metadata": {
    "dotnet_interactive": {
     "language": "csharp"
    }
   },
   "outputs": [
    {
     "data": {
      "text/html": [
       "<div class=\"dni-plaintext\">0.10126945730309017</div>"
      ]
     },
     "execution_count": 31,
     "metadata": {},
     "output_type": "execute_result"
    }
   ],
   "source": [
    "double error = ch.L2Error(X => ExactSol.c(X, physTime)); \n",
    "error"
   ]
  },
  {
   "cell_type": "code",
   "execution_count": null,
   "metadata": {},
   "outputs": [],
   "source": []
  }
 ],
 "metadata": {
  "kernelspec": {
   "display_name": ".NET (C#)",
   "language": "C#",
   "name": ".net-csharp"
  },
  "language_info": {
   "file_extension": ".cs",
   "mimetype": "text/x-csharp",
   "name": "C#",
   "pygments_lexer": "csharp",
   "version": "8.0"
  }
 },
 "nbformat": 4,
 "nbformat_minor": 4
}
