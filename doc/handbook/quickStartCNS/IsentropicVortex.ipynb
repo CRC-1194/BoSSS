{
  "cells": [
    {
      "cell_type": "code",
      "execution_count": 1,
      "metadata": {
        "dotnet_interactive": {
          "language": "csharp"
        }
      },
      "source": [
        "///\\section*{What's new}\n",
        "///\\begin{itemize}\n",
        "/// \\item running a simple simulation with the CNS solver\n",
        "/// \\item the important input data to solve the Euler equations\n",
        "/// \\item generating a simple mesh by using the \\BoSSS{} internal mesher\n",
        "/// \\item the post-processing of the data, i.e. visualization in Paraview or VisIt\n",
        "///\\end{itemize}\n",
        "///\n",
        "///\\subsection*{Prerequisites}\n",
        "///\\begin{itemize}\n",
        "/// \\item the \\BoSSS{} framework\n",
        "/// \\item a visualization tool, e.g Paraview or VisIt\n",
        "/// \\item the knowledge of how to setup a database for \\BoSSS{}\n",
        "///\\end{itemize}\n",
        "///\n",
        "///\\section*{Problem statement}\n",
        "///We only briefly describe the non dimensional Euler equations in 2D\n",
        "/// \\begin{equation*}\n",
        "///\\del{\\vec{U}}{t}+\\del{\\vec{F}^c_j(\\vec{U})}{x_j}= 0,\n",
        "///\\label{eq:euler_sys}\n",
        "///\\end{equation*}\n",
        "///where $\\vec{U}$ are the conserved flow variables and $\\vec{F}^c_x$  are the convective fluxes, i.e.\n",
        "///\\begin{align*}\n",
        "///\\vec{U} = \\begin{pmatrix}\n",
        "///  \\density{}\\\\\n",
        "///  \\momentum_i\\\\\n",
        "///  \\energy{}\n",
        "///\\end{pmatrix}, \\quad \\textrm{and} \\quad\n",
        "///\\vec{F}^c_i = \\begin{pmatrix}\n",
        "///  \\momentum_i\\\\\n",
        "///  \\momentum_i \\velocity_j + \\frac{1}{\\heatCapacityRatio \\reference{\\Mach}^2}\\pressure \\delta_{ij}\\\\\n",
        "///  \\velocity_j \\left(\\energy{}+\\pressure{}\\right)\n",
        "///\\end{pmatrix}.\n",
        "///\\end{align*}\n",
        "///Note: In our non dimensional equations, we introduce $\\reference{\\Mach}$. \n",
        "///\n",
        "///These Quick Start tutorials are aimed to show some of the main features of the compressible flow \n",
        "///solver (Compressible Navier-Stokes (CNS)) in the \\BoSSS{} framework. As already mentioned \n",
        "///in the introduction, \\BoSSS{} uses a C\\# code based input data and interprets these in \n",
        "///the \\emph{REPL} fashion. This gives us more flexibility in the way how we can start a \n",
        "///simulation. We can have the traditional way of defining an input file, where we define all \n",
        "///important parameters in C\\# code, or we can also use some predefined functions in the framework \n",
        "///to generate our input data and manipulate them interactively in the \\BoSSSpad{}.\\\\ \n",
        "///\n",
        "///As an example, we will simulate the well known isentropic vortex for the Euler equations. \n",
        "///\\section{Isentropic vortex}"
      ],
      "outputs": []
    },
    {
      "cell_type": "code",
      "execution_count": 1,
      "metadata": {
        "dotnet_interactive": {
          "language": "csharp"
        }
      },
      "source": [
        "#r \"BoSSSpad.dll\"\n",
        "using System;\n",
        "using System.Collections.Generic;\n",
        "using System.Linq;\n",
        "using ilPSP;\n",
        "using ilPSP.Utils;\n",
        "using BoSSS.Platform;\n",
        "using BoSSS.Foundation;\n",
        "using BoSSS.Foundation.Grid;\n",
        "using BoSSS.Foundation.Grid.Classic;\n",
        "using BoSSS.Foundation.IO;\n",
        "using BoSSS.Solution;\n",
        "using BoSSS.Solution.Control;\n",
        "using BoSSS.Solution.GridImport;\n",
        "using BoSSS.Solution.Statistic;\n",
        "using BoSSS.Solution.Utils;\n",
        "using BoSSS.Solution.Gnuplot;\n",
        "using BoSSS.Application.BoSSSpad;\n",
        "using BoSSS.Application.XNSE_Solver;\n",
        "using static BoSSS.Application.BoSSSpad.BoSSSshell;\n",
        "Init();\n",
        ""
      ],
      "outputs": []
    },
    {
      "cell_type": "code",
      "execution_count": 1,
      "metadata": {
        "dotnet_interactive": {
          "language": "csharp"
        }
      },
      "source": [
        "/// \\subsection{Interactive mode}\n",
        "/// We start with the interactive mode and load the namespace."
      ],
      "outputs": []
    },
    {
      "cell_type": "code",
      "execution_count": 1,
      "metadata": {
        "dotnet_interactive": {
          "language": "csharp"
        }
      },
      "source": [
        "/// We create, resp. open a \\BoSSS database:\n",
        "var myDatabase = CreateTempDatabase();"
      ],
      "outputs": []
    },
    {
      "cell_type": "code",
      "execution_count": 1,
      "metadata": {
        "dotnet_interactive": {
          "language": "csharp"
        }
      },
      "source": [
        "using CNS;"
      ],
      "outputs": []
    },
    {
      "cell_type": "code",
      "execution_count": 1,
      "metadata": {
        "dotnet_interactive": {
          "language": "csharp"
        }
      },
      "source": [
        "typeof(CNS.Program).Assembly.Location"
      ],
      "outputs": []
    },
    {
      "cell_type": "code",
      "execution_count": 1,
      "metadata": {
        "dotnet_interactive": {
          "language": "csharp"
        }
      },
      "source": [
        "/// We load the input data from some function within the Framework. \n",
        "/// The class \\verb|ControlExamples| provides some predefined control sets for \n",
        "/// different typical test cases, i.a. the isentropic vortex.\n",
        "/// For the isentropic vortex, you have to specify \n",
        "/// \\begin{itemize}\n",
        "/// \\item path to a database (here: EMPTY path)\n",
        "/// \\item number of cells in each direction (here: 20)\n",
        "/// \\item DG order (here: 2)\n",
        "/// \\item advection velocity of the vortex (here: 1.0)\n",
        "/// \\end{itemize}\n",
        "int noOfCellsPerDirection = 20;       \n",
        "var c = ControlExamples_Subsonic.IsentropicVortex(myDatabase.Path,      \n",
        "                                         noOfCellsPerDirection,2,1.0);\n",
        "c.savetodb = true;       \n",
        "/// Now, we have a set of input data stored in our variable \\verb|c| and we \n",
        "/// can have a look at different parameters directly via \\code{BoSSSpad}."
      ],
      "outputs": []
    },
    {
      "cell_type": "code",
      "execution_count": 1,
      "metadata": {
        "dotnet_interactive": {
          "language": "csharp"
        }
      },
      "source": [
        "/// \\subsection{How to define/change input data}\n",
        "/// In this section we will walk you through the most important parameters for \n",
        "/// running the test case. We start with the grid and use the ability of \\BoSSS\\\n",
        "/// to generate simple grids with its own mesh generator. Once we start the simulation,\n",
        "/// the control object \\verb|c| is parsed and the grid defined by the \\verb|GridFunc|\n",
        "/// is generated on the fly and stored in the database. Here, we defined a \n",
        "/// \\verb|delegate| function which returns a uniform cartesian grid. First, we have to\n",
        "/// define a 1-D array, which spans from -10 to 10 and is divided into the number \n",
        "/// of cells, which we previously set to \\verb|int noOfCellsPerDirection = 20|. \n",
        "/// The function \\verb|Grid2D.Cartesian2DGrid| generates a\n",
        "/// uniform 2-D grid out of this array by using it for x and y direction\n",
        "/// Additionally we specify periodic boundary conditions in x and y direction\n",
        "/// by setting \\verb|periodicX: true| and \\verb|periodicY: true|. \\\\\n",
        "c.GridFunc = delegate {       \n",
        "   double[] nodes = GenericBlas.Linspace(-10, 10, noOfCellsPerDirection + 1);       \n",
        "   var grid = Grid2D.Cartesian2DGrid(nodes, nodes,       \n",
        "                                     periodicX: true, periodicY: true);       \n",
        "   return grid;       \n",
        "};"
      ],
      "outputs": []
    },
    {
      "cell_type": "code",
      "execution_count": 1,
      "metadata": {
        "dotnet_interactive": {
          "language": "csharp"
        }
      },
      "source": [
        "/// The \\code{CNS} solver is able to solve the Euler and the compressible Navier-Stokes equations. By setting\n",
        "c.ActiveOperators"
      ],
      "outputs": []
    },
    {
      "cell_type": "code",
      "execution_count": 1,
      "metadata": {
        "dotnet_interactive": {
          "language": "csharp"
        }
      },
      "source": [
        "/// we only use the convective fluxes, i.e the Euler equations, and set it to\n",
        "c.ConvectiveFluxType"
      ],
      "outputs": []
    },
    {
      "cell_type": "code",
      "execution_count": 1,
      "metadata": {
        "dotnet_interactive": {
          "language": "csharp"
        }
      },
      "source": [
        "/// Note: Optimized means in this case, that this is the classical HLLC flux, but implemented in an optimized version. \\\\\n",
        "/// As initial conditions, we choose the analytical solution, which can be found in various publications, e.g. Hu (2006).\n",
        "/// The Mach number is set in the following:\n",
        "c.MachNumber"
      ],
      "outputs": []
    },
    {
      "cell_type": "code",
      "execution_count": 1,
      "metadata": {
        "dotnet_interactive": {
          "language": "csharp"
        }
      },
      "source": [
        "/// Further, we have to define a simulation time, i.e\n",
        "c.Endtime"
      ],
      "outputs": []
    },
    {
      "cell_type": "code",
      "execution_count": 1,
      "metadata": {
        "dotnet_interactive": {
          "language": "csharp"
        }
      },
      "source": [
        "/// Finally, we need a time stepping scheme\n",
        "c.ExplicitScheme"
      ],
      "outputs": []
    },
    {
      "cell_type": "code",
      "execution_count": 1,
      "metadata": {
        "dotnet_interactive": {
          "language": "csharp"
        }
      },
      "source": [
        "/// of order\n",
        "c.ExplicitOrder\n",
        "/// to run the simulation."
      ],
      "outputs": []
    },
    {
      "cell_type": "code",
      "execution_count": 1,
      "metadata": {
        "dotnet_interactive": {
          "language": "csharp"
        }
      },
      "source": [
        "/// These are all predefined input values, which were set by calling \\verb|ControlExamples_Subsonic.IsentropicVortex(...)|.\n",
        "/// Since we are in the interactiv mode, we can change them directly in the \\code{BoSSSPad}.\n",
        "/// For example, we can reduce the order of our timestepping scheme to 3, \n",
        "/// because we only use DG order 2:\n",
        "c.ExplicitOrder = 3;      \n",
        "c.ExplicitOrder"
      ],
      "outputs": []
    },
    {
      "cell_type": "code",
      "execution_count": 1,
      "metadata": {
        "dotnet_interactive": {
          "language": "csharp"
        }
      },
      "source": [
        "/// Or we can change the Mach number to\n",
        "c.MachNumber = 0.7;    \n",
        "c.MachNumber"
      ],
      "outputs": []
    },
    {
      "cell_type": "code",
      "execution_count": 1,
      "metadata": {
        "dotnet_interactive": {
          "language": "csharp"
        }
      },
      "source": [
        "/// \\subsection{Run a simulation}\n",
        "/// We adjusted our input values and now we can run a simulation.\n",
        "/// In the interactive mode, we can simply execute \\code{Run()} on the control\n",
        "/// object, which will execute the solver:\n",
        "c.PrintInterval = 5;\n",
        "var SI          = c.Run();"
      ],
      "outputs": []
    },
    {
      "cell_type": "code",
      "execution_count": 1,
      "metadata": {
        "dotnet_interactive": {
          "language": "csharp"
        }
      },
      "source": [
        "/// The \\code{Run()} command finally returns a session info, which carries some\n",
        "/// basic information on the solver run (mainly where ist was stored).\n",
        "SI"
      ],
      "outputs": []
    },
    {
      "cell_type": "code",
      "execution_count": 1,
      "metadata": {
        "dotnet_interactive": {
          "language": "csharp"
        }
      },
      "source": [
        "/// \\subsection{Console mode}\n",
        "/// We can also run this simulation in the ``traditional'' way, which most\n",
        "/// of you are familiar with from other academical codes. We define an input file,\n",
        "/// which is nothing else than the above C\\# code. We can run it by calling\n",
        "/// \\verb|CNS.exe -c IsentropicVortex.cs|. You can find the input file in \n",
        "/// ControlExamples folder in the doc directory."
      ],
      "outputs": []
    },
    {
      "cell_type": "code",
      "execution_count": 1,
      "metadata": {
        "dotnet_interactive": {
          "language": "csharp"
        }
      },
      "source": [
        "/// \\subsection{Postprocessing}\n",
        "/// We saved our data in the database and lastly we want to postprocess it, \n",
        "/// i.e visualize the individual fields like density, momentum or pressure.\n",
        "/// Note: If you have run the simulation in the console mode, you now have to start \n",
        "/// the \\BoSSSpad{}.\n",
        "/// In our example, we find the corresponding session in our first database as first session\n",
        "//myDatabase.Sessions.First();"
      ],
      "outputs": []
    },
    {
      "cell_type": "code",
      "execution_count": 1,
      "metadata": {
        "dotnet_interactive": {
          "language": "csharp"
        }
      },
      "source": [
        "/// To convert data to the Tecplot format, we just need to export it:\n",
        "//databases.First().Sessions.First().Export().Do()"
      ],
      "outputs": []
    },
    {
      "cell_type": "code",
      "execution_count": 1,
      "metadata": {
        "dotnet_interactive": {
          "language": "csharp"
        }
      },
      "source": [
        "/// We can open the folder directly by using\n",
        "//databases.First().Sessions.First().OpenExportDirectory()"
      ],
      "outputs": []
    },
    {
      "cell_type": "code",
      "execution_count": 1,
      "metadata": {
        "dotnet_interactive": {
          "language": "csharp"
        }
      },
      "source": [
        "/// and here we find \\verb|*plt| files with our data.\n",
        "/// For more information about our databases and useful commands for postprocessing,\n",
        "/// we refer to our tutorials about the database and the database command overview."
      ],
      "outputs": []
    }
  ],
  "metadata": {
    "kernelspec": {
      "display_name": ".NET (C#)",
      "language": "C#",
      "name": ".net-csharp"
    },
    "language_info": {
      "file_extension": ".cs",
      "mimetype": "text/x-csharp",
      "name": "C#",
      "pygments_lexer": "csharp",
      "version": "8.0"
    }
  },
  "nbformat": 4,
  "nbformat_minor": 4
}