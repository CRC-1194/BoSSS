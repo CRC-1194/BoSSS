{
  "cells": [
    {
      "cell_type": "markdown",
      "source": [
        "# 1 **What's new**\r\n",
        "\r\n",
        "- running a simple simulation with the CNS solver\r\n",
        "- the important input data to solve the Euler equations\r\n",
        "- generating a simple mesh by using the \\BoSSS{} internal mesher\r\n",
        "- the post-processing of the data, i.e. visualization in Paraview or VisIt\r\n",
        "\r\n",
        "# 1.1 Prerequisites\r\n",
        "\r\n",
        "- the ***BoSSS** framework\r\n",
        "- a visualization tool, e.g ***Paraview*** or ***VisIt***\r\n",
        "- the knowledge of how to setup a database for ***BoSSS***\r\n",
        "\r\n"
      ],
      "metadata": {}
    },
    {
      "cell_type": "markdown",
      "source": [
        "\r\n",
        "# 2 Problem statement\r\n",
        "We only briefly describe the non dimensional Euler equations in 2D\r\n",
        ">$$\\frac{\\partial}{\\partial t}\\vec{U}+\\frac{\\partial}{\\partial x_j}\\vec{F}^c_j(U)= 0,$$\r\n",
        "where $\\vec{U}$ are the conserved flow variables and $\\vec{F}^c_x$  are the convective fluxes, i.e.\r\n",
        ">$$\\vec{U} = \r\n",
        "\\begin{pmatrix}  \r\n",
        "  \\rho \\\\\r\n",
        "  \\rho u_i \\\\\r\n",
        "  \\rho E\r\n",
        "\\end{pmatrix} , \\quad \\textrm{and} \\quad \\vec{F}^c_i = \\begin{pmatrix}\r\n",
        "  \\rho u_i\\\\\r\n",
        "  \\rho u_i u_j + \\frac{1}{\\gamma \\textit{Mach}^2}p \\delta_{ij}\\\\\r\n",
        "  u_j (\\rho E+p)\r\n",
        "\\end{pmatrix}.$$\r\n"
      ],
      "metadata": {}
    },
    {
      "cell_type": "markdown",
      "source": [
        "\r\n",
        "# Note:\r\n",
        "\r\n",
        "In our non dimensional equations, we introduce $\\textit{Mach}$. \r\n",
        "\r\n",
        "These Quick Start tutorials are aimed to show some of the main features of the compressible flow \r\n",
        "solver (**Compressible Navier-Stokes (CNS)**) in the **BoSSS** framework.\r\n",
        "\r\n",
        "Note, that **BoSSS** uses a C\\# code based input data and interprets these in \r\n",
        "the ***REPL*** fashion. \r\n",
        "\r\n",
        "This gives us more flexibility in the way how we can start a \r\n",
        "simulation. \r\n",
        "\r\n",
        "We can have the traditional way of defining an input file, where we define all \r\n",
        "important parameters in C\\# code, or we can also use some predefined functions in the framework \r\n",
        "to generate our input data and manipulate them interactively in the **BoSSSpad**.\r\n",
        "\r\n",
        "As an example, we will simulate the well known isentropic vortex for the Euler equations. \r\n"
      ],
      "metadata": {}
    },
    {
      "cell_type": "markdown",
      "source": [
        "\r\n",
        "# 3 Isentropic vortex\r\n",
        "\r\n",
        "ATTENTION: Before you start you need to modify the first line to point to your local **BoSSSPad.dll** :file_folder:\r\n",
        "\r\n",
        "```csharp\r\n",
        "#r \"BoSSSpad.dll\"\r\n",
        "```\r\n",
        "such that the BoSSSpad.dll can be found (e.g it should look like the following)\r\n",
        "\r\n",
        "```csharp\r\n",
        "#r \"..\\experimental\\public\\src\\L4-application\\BoSSSpad\\bin\\Release\\net5.0\\BoSSSpad.dll\"\r\n",
        "```"
      ],
      "metadata": {}
    },
    {
      "cell_type": "code",
      "execution_count": null,
      "source": [
        "#r \"BoSSSpad.dll\"\r\n",
        "using System;\r\n",
        "using System.Collections.Generic;\r\n",
        "using System.Linq;\r\n",
        "using ilPSP;\r\n",
        "using ilPSP.Utils;\r\n",
        "using BoSSS.Platform;\r\n",
        "using BoSSS.Foundation;\r\n",
        "using BoSSS.Foundation.Grid;\r\n",
        "using BoSSS.Foundation.Grid.Classic;\r\n",
        "using BoSSS.Foundation.IO;\r\n",
        "using BoSSS.Solution;\r\n",
        "using BoSSS.Solution.Control;\r\n",
        "using BoSSS.Solution.GridImport;\r\n",
        "using BoSSS.Solution.Statistic;\r\n",
        "using BoSSS.Solution.Utils;\r\n",
        "using BoSSS.Solution.Gnuplot;\r\n",
        "using BoSSS.Application.BoSSSpad;\r\n",
        "using BoSSS.Application.XNSE_Solver;\r\n",
        "using static BoSSS.Application.BoSSSpad.BoSSSshell;\r\n",
        "Init();\r\n"
      ],
      "outputs": [],
      "metadata": {
        "dotnet_interactive": {
          "language": "csharp"
        }
      }
    },
    {
      "cell_type": "markdown",
      "source": [
        "We start with creating a database and loading the namespace."
      ],
      "metadata": {}
    },
    {
      "cell_type": "code",
      "execution_count": null,
      "source": [
        "/// We create, resp. open a \\BoSSS database:\r\n",
        "var myDatabase = CreateTempDatabase();"
      ],
      "outputs": [],
      "metadata": {
        "dotnet_interactive": {
          "language": "csharp"
        }
      }
    },
    {
      "cell_type": "code",
      "execution_count": null,
      "source": [
        "using CNS;"
      ],
      "outputs": [],
      "metadata": {
        "dotnet_interactive": {
          "language": "csharp"
        }
      }
    },
    {
      "cell_type": "code",
      "execution_count": null,
      "source": [
        "typeof(CNS.Program).Assembly.Location"
      ],
      "outputs": [],
      "metadata": {
        "dotnet_interactive": {
          "language": "csharp"
        }
      }
    },
    {
      "cell_type": "markdown",
      "source": [
        "We load the input data from some function within the Framework. \r\n",
        "  \r\n",
        "The class **ControlExamples** provides some predefined control sets for \r\n",
        "different typical test cases, i.a. the isentropic vortex. \r\n",
        "\r\n",
        "For the isentropic vortex, you have to specify \r\n",
        "\r\n",
        "- path to a database (here: EMPTY path)\r\n",
        "- number of cells in each direction (here: 20)\r\n",
        "- DG order (here: 2)\r\n",
        "- advection velocity of the vortex (here: 1.0)\r\n"
      ],
      "metadata": {}
    },
    {
      "cell_type": "code",
      "execution_count": null,
      "source": [
        "\r\n",
        "int noOfCellsPerDirection = 20;       \r\n",
        "var c = ControlExamples_Subsonic.IsentropicVortex(myDatabase.Path,      \r\n",
        "                                         noOfCellsPerDirection,2,1.0);\r\n",
        "c.savetodb = true;       \r\n"
      ],
      "outputs": [],
      "metadata": {
        "dotnet_interactive": {
          "language": "csharp"
        }
      }
    },
    {
      "cell_type": "markdown",
      "source": [
        "Now, we have a set of input data stored in our variable **c** and we \r\n",
        "can have a look at different parameters directly via \\code{BoSSSpad}.\r\n",
        "\r\n",
        "# 3.1 How to define/change input data\r\n",
        "\r\n",
        "In this section we will walk you through the most important parameters for \r\n",
        "running the test case.\r\n",
        "\r\n",
        "We start with the grid and use the ability of **BoSSS**\r\n",
        "to generate simple grids with its own mesh generator. \r\n",
        "\r\n",
        "Once we start the simulation, the control object **c** is parsed and the grid defined by the **GridFunc**\r\n",
        "is generated on the fly and stored in the database. Here, we defined a \r\n",
        "**delegate** function which returns a uniform cartesian grid.\r\n",
        "\r\n",
        "First, we have to define a 1-D array, which spans from -10 to 10 and is divided into the number \r\n",
        "of cells, which we previously set to **int noOfCellsPerDirection = 20**. \r\n",
        "\r\n",
        "The function **Grid2D.Cartesian2DGrid** generates a\r\n",
        "uniform 2-D grid out of this array by using it for x and y direction\r\n",
        "Additionally we specify periodic boundary conditions in x and y direction\r\n",
        "by setting \r\n",
        ">**periodicX: true** and **periodicY: true**. "
      ],
      "metadata": {}
    },
    {
      "cell_type": "code",
      "execution_count": null,
      "source": [
        "\r\n",
        "c.GridFunc = delegate {       \r\n",
        "   double[] nodes = GenericBlas.Linspace(-10, 10, noOfCellsPerDirection + 1);       \r\n",
        "   var grid = Grid2D.Cartesian2DGrid(nodes, nodes,       \r\n",
        "                                     periodicX: true, periodicY: true);       \r\n",
        "   return grid;       \r\n",
        "};"
      ],
      "outputs": [
        {
          "output_type": "error",
          "ename": "Error",
          "evalue": "(1,1): error CS0103: Der Name \"c\" ist im aktuellen Kontext nicht vorhanden.",
          "traceback": [
            "(1,1): error CS0103: Der Name \"c\" ist im aktuellen Kontext nicht vorhanden."
          ]
        }
      ],
      "metadata": {
        "dotnet_interactive": {
          "language": "csharp"
        }
      }
    },
    {
      "cell_type": "markdown",
      "source": [
        "The **CNS solver** is able to solve the Euler and the compressible Navier-Stokes equations. By setting"
      ],
      "metadata": {}
    },
    {
      "cell_type": "code",
      "execution_count": null,
      "source": [
        "c.ActiveOperators"
      ],
      "outputs": [],
      "metadata": {
        "dotnet_interactive": {
          "language": "csharp"
        }
      }
    },
    {
      "cell_type": "markdown",
      "source": [
        "we only use the convective fluxes, i.e the Euler equations, and set it to"
      ],
      "metadata": {}
    },
    {
      "cell_type": "code",
      "execution_count": null,
      "source": [
        "c.ConvectiveFluxType"
      ],
      "outputs": [],
      "metadata": {
        "dotnet_interactive": {
          "language": "csharp"
        }
      }
    },
    {
      "cell_type": "markdown",
      "source": [
        "# Note: \r\n",
        "\r\n",
        "Optimized means in this case, that this is the classical HLLC flux, but implemented in an optimized version.\r\n",
        "\r\n",
        "As initial conditions, we choose the analytical solution, which can be found in various publications, e.g. Hu (2006).\r\n",
        "\r\n",
        "The Mach number is set in the following:"
      ],
      "metadata": {}
    },
    {
      "cell_type": "code",
      "execution_count": null,
      "source": [
        "c.MachNumber"
      ],
      "outputs": [],
      "metadata": {
        "dotnet_interactive": {
          "language": "csharp"
        }
      }
    },
    {
      "cell_type": "markdown",
      "source": [
        "Further, we have to define a **simulation time**, i.e"
      ],
      "metadata": {}
    },
    {
      "cell_type": "code",
      "execution_count": null,
      "source": [
        "c.Endtime"
      ],
      "outputs": [],
      "metadata": {
        "dotnet_interactive": {
          "language": "csharp"
        }
      }
    },
    {
      "cell_type": "markdown",
      "source": [
        "Finally, we need a **time stepping scheme**"
      ],
      "metadata": {}
    },
    {
      "cell_type": "code",
      "execution_count": null,
      "source": [
        "c.ExplicitScheme"
      ],
      "outputs": [],
      "metadata": {
        "dotnet_interactive": {
          "language": "csharp"
        }
      }
    },
    {
      "cell_type": "markdown",
      "source": [
        "...of **order**..."
      ],
      "metadata": {}
    },
    {
      "cell_type": "code",
      "execution_count": null,
      "source": [
        "c.ExplicitOrder"
      ],
      "outputs": [],
      "metadata": {
        "dotnet_interactive": {
          "language": "csharp"
        }
      }
    },
    {
      "cell_type": "markdown",
      "source": [
        "...to run the simulation."
      ],
      "metadata": {}
    },
    {
      "cell_type": "markdown",
      "source": [
        "These are all predefined input values, which were set by calling **ControlExamples_Subsonic.IsentropicVortex(...)**.\r\n",
        "\r\n",
        "Since we are in the interactive mode, we can change them directly.\r\n",
        "\r\n",
        "For example, we can reduce the order of our **timestepping scheme** to 3, \r\n",
        "\r\n",
        "because we only use DG order 2:"
      ],
      "metadata": {}
    },
    {
      "cell_type": "code",
      "execution_count": null,
      "source": [
        "\r\n",
        "c.ExplicitOrder = 3;      \r\n",
        "c.ExplicitOrder"
      ],
      "outputs": [],
      "metadata": {
        "dotnet_interactive": {
          "language": "csharp"
        }
      }
    },
    {
      "cell_type": "markdown",
      "source": [
        "Or we can change the **Mach number** to"
      ],
      "metadata": {}
    },
    {
      "cell_type": "code",
      "execution_count": null,
      "source": [
        "c.MachNumber = 0.7;    \r\n",
        "c.MachNumber"
      ],
      "outputs": [],
      "metadata": {
        "dotnet_interactive": {
          "language": "csharp"
        }
      }
    },
    {
      "cell_type": "markdown",
      "source": [
        "# 3.2 Run a simulation\r\n",
        "We adjusted our input values and now we can run a simulation.\r\n",
        "\r\n",
        "In the interactive mode, we can simply execute **\\Run()** on the control\r\n",
        "object, which will execute the solver:"
      ],
      "metadata": {}
    },
    {
      "cell_type": "code",
      "execution_count": null,
      "source": [
        "\r\n",
        "c.PrintInterval = 5;\r\n",
        "var SI          = c.Run();"
      ],
      "outputs": [],
      "metadata": {
        "dotnet_interactive": {
          "language": "csharp"
        }
      }
    },
    {
      "cell_type": "markdown",
      "source": [
        "The **Run()** command finally returns a session info, which carries some\r\n",
        "basic information on the solver run (mainly where ist was stored)."
      ],
      "metadata": {}
    },
    {
      "cell_type": "code",
      "execution_count": null,
      "source": [
        "SI"
      ],
      "outputs": [],
      "metadata": {
        "dotnet_interactive": {
          "language": "csharp"
        }
      }
    },
    {
      "cell_type": "markdown",
      "source": [
        "# 3.3 Console mode\r\n",
        "We can also run this simulation in the *traditional* way, which most\r\n",
        "of you are familiar with from other academical codes. \r\n",
        "\r\n",
        "We define an input file, which is nothing else than the above C\\# code. \r\n",
        "\r\n",
        "We can run it by calling\r\n",
        ">**CNS.exe -c IsentropicVortex.cs**. \r\n",
        "\r\n",
        "You can find the input file in \r\n",
        "*ControlExamples folder* in the doc directory."
      ],
      "metadata": {}
    },
    {
      "cell_type": "markdown",
      "source": [
        "# 3.4 Postprocessing\r\n",
        "\r\n",
        "We saved our data in the database and lastly we want to postprocess it, \r\n",
        "i.e visualize the individual fields like density, momentum or pressure.\r\n",
        "\r\n",
        "# Note: \r\n",
        "\r\n",
        "If you have run the simulation in the console mode, you now have to start \r\n",
        "the **BoSSSpad**.\r\n",
        "\r\n",
        "In our example, we find the corresponding session in our first database as first session"
      ],
      "metadata": {}
    },
    {
      "cell_type": "code",
      "execution_count": null,
      "source": [
        "//myDatabase.Sessions.First();"
      ],
      "outputs": [],
      "metadata": {
        "dotnet_interactive": {
          "language": "csharp"
        }
      }
    },
    {
      "cell_type": "markdown",
      "source": [
        "To convert data to the Tecplot format, we just need to export it (in order to run the command delete the comment)"
      ],
      "metadata": {}
    },
    {
      "cell_type": "code",
      "execution_count": null,
      "source": [
        "\r\n",
        "//myDatabase.Sessions.First().Export().Do()"
      ],
      "outputs": [],
      "metadata": {
        "dotnet_interactive": {
          "language": "csharp"
        }
      }
    },
    {
      "cell_type": "markdown",
      "source": [
        "We can open the folder directly by using (works only in **BoSSSPad**)"
      ],
      "metadata": {}
    },
    {
      "cell_type": "code",
      "execution_count": null,
      "source": [
        "//myDatabase.Sessions.First().Export().Do()"
      ],
      "outputs": [],
      "metadata": {
        "dotnet_interactive": {
          "language": "csharp"
        }
      }
    },
    {
      "cell_type": "markdown",
      "source": [
        "... where we find the files with our data.\r\n",
        "\r\n",
        "For more information about our databases and useful commands for postprocessing,\r\n",
        "we refer to our tutorials about the database and the database command overview."
      ],
      "metadata": {}
    }
  ],
  "metadata": {
    "kernelspec": {
      "display_name": ".NET (C#)",
      "language": "C#",
      "name": ".net-csharp"
    },
    "language_info": {
      "file_extension": ".cs",
      "mimetype": "text/x-csharp",
      "name": "C#",
      "pygments_lexer": "csharp",
      "version": "8.0"
    }
  },
  "nbformat": 4,
  "nbformat_minor": 4
}