{
  "cells": [
    {
      "cell_type": "code",
      "execution_count": null,
      "source": [
        "#r \"C:\\experimental\\public\\src\\L4-application\\BoSSSpad\\bin\\Release\\net5.0\\BoSSSpad.dll\"\r\n",
        "using System;\r\n",
        "using System.Collections.Generic;\r\n",
        "using System.Linq;\r\n",
        "using ilPSP;\r\n",
        "using ilPSP.Utils;\r\n",
        "using BoSSS.Platform;\r\n",
        "using BoSSS.Platform.LinAlg;\r\n",
        "using BoSSS.Foundation;\r\n",
        "using BoSSS.Foundation.XDG;\r\n",
        "using BoSSS.Foundation.Grid;\r\n",
        "using BoSSS.Foundation.Grid.Classic;\r\n",
        "using BoSSS.Foundation.Grid.RefElements;\r\n",
        "using BoSSS.Foundation.IO;\r\n",
        "using BoSSS.Solution;\r\n",
        "using BoSSS.Solution.Control;\r\n",
        "using BoSSS.Solution.GridImport;\r\n",
        "using BoSSS.Solution.Statistic;\r\n",
        "using BoSSS.Solution.Utils;\r\n",
        "using BoSSS.Solution.AdvancedSolvers;\r\n",
        "using BoSSS.Solution.Gnuplot;\r\n",
        "using BoSSS.Application.BoSSSpad;\r\n",
        "using BoSSS.Application.XNSE_Solver;\r\n",
        "using static BoSSS.Application.BoSSSpad.BoSSSshell;\r\n",
        "Init();\r\n"
      ],
      "outputs": [],
      "metadata": {
        "dotnet_interactive": {
          "language": "csharp"
        }
      }
    },
    {
      "cell_type": "markdown",
      "source": [
        "This tutorial demostrates the creation, resp. the import of grids/meshes  \r\n",
        "into *BoSSS*."
      ],
      "metadata": {
        "dotnet_interactive": {
          "language": "csharp"
        }
      }
    },
    {
      "cell_type": "markdown",
      "source": [
        "# Cartesian 2D grids\r\n",
        "A 2D Cartesian mesh can be created form an array of $x$- and $y$-nodes\r\n",
        "via the method **Grid2D.Cartesian2DGrid**. \r\n",
        "\r\n",
        "Note that the number of nodes needes to be equal to the \r\n",
        "number of cells $+1$. For instance, for $10$ cells we need $11$ nodes."
      ],
      "metadata": {
        "dotnet_interactive": {
          "language": "csharp"
        }
      }
    },
    {
      "cell_type": "code",
      "execution_count": null,
      "source": [
        "int Res = 10;\r\n",
        "double[] xNodes = GenericBlas.Linspace(0, 1, Res + 1);\r\n",
        "double[] yNodes = GenericBlas.Linspace(0, 1, Res + 1);\r\n",
        "int J           = (xNodes.Length - 1)*(yNodes.Length - 1);\r\n",
        "string GridName = string.Format(BoSSSshell.WorkflowMgm.CurrentProject + \"_J\" +J);\r\n",
        " \r\n",
        "Console.WriteLine(\"Creating grid with \" + J + \" cells. \");\r\n",
        " \r\n",
        "GridCommons g;\r\n",
        "g      = Grid2D.Cartesian2DGrid(xNodes, yNodes);\r\n",
        "g.Name = GridName;"
      ],
      "outputs": [],
      "metadata": {
        "dotnet_interactive": {
          "language": "csharp"
        }
      }
    }
  ],
  "metadata": {
    "kernelspec": {
      "display_name": ".NET (C#)",
      "language": "C#",
      "name": ".net-csharp"
    },
    "language_info": {
      "file_extension": ".cs",
      "mimetype": "text/x-csharp",
      "name": "C#",
      "pygments_lexer": "csharp",
      "version": "8.0"
    }
  },
  "nbformat": 4,
  "nbformat_minor": 4
}