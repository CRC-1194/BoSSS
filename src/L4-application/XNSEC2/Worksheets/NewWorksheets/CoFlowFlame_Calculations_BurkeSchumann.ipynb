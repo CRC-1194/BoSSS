{
  "cells": [
    {
      "cell_type": "code",
      "execution_count": null,
      "metadata": {
        "dotnet_interactive": {
          "language": "csharp"
        }
      },
      "outputs": [],
      "source": [
        "#r \"C:\\BoSSS2\\experimental\\public\\src\\L4-application\\BoSSSpad\\bin\\Release\\net5.0\\bossspad.dll\"\n",
        "//#r \"BoSSSpad.dll\"\n",
        "using System;\n",
        "using System.Collections.Generic;\n",
        "using System.Linq;\n",
        "using System.IO;\n",
        "using System.Data;\n",
        "using System.Globalization;\n",
        "using System.Threading;\n",
        "using ilPSP;\n",
        "using ilPSP.Utils;\n",
        "using BoSSS.Platform;\n",
        "using BoSSS.Foundation;\n",
        "using BoSSS.Foundation.Grid;\n",
        "using BoSSS.Foundation.Grid.Classic;\n",
        "using BoSSS.Foundation.IO;\n",
        "using BoSSS.Solution;\n",
        "using BoSSS.Solution.Control;\n",
        "using BoSSS.Solution.GridImport;\n",
        "using BoSSS.Solution.Statistic;\n",
        "using BoSSS.Solution.Utils;\n",
        "using BoSSS.Solution.Gnuplot;\n",
        "using BoSSS.Application.BoSSSpad;\n",
        "using BoSSS.Application.XNSE_Solver;\n",
        "using static BoSSS.Application.BoSSSpad.BoSSSshell;\n",
        "using BoSSS.Foundation.Grid.RefElements;\n",
        "using BoSSS.Platform.LinAlg;\n",
        "using BoSSS.Solution.NSECommon;\n",
        "using BoSSS.Application.XNSEC;\n",
        "Init();"
      ]
    },
    {
      "cell_type": "markdown",
      "metadata": {
        "dotnet_interactive": {
          "language": "csharp"
        }
      },
      "source": [
        "## Open Database"
      ]
    },
    {
      "cell_type": "code",
      "execution_count": null,
      "metadata": {
        "dotnet_interactive": {
          "language": "csharp"
        }
      },
      "outputs": [
        {
          "name": "stdout",
          "output_type": "stream",
          "text": [
            "Project name is set to 'CoFlowFlame_Burkkk'.\r\n",
            "NotSupportedException caught during creation/opening of default database: `AllowedDatabasesPaths` not specified, unable to create Database (should be specified in ~/.BoSSS/etc/BatchProcessorConfig.json)..\r\n"
          ]
        }
      ],
      "source": [
        "BoSSSshell.WorkflowMgm.Init(\"CoFlowFlame_Burkkk\");"
      ]
    },
    {
      "cell_type": "code",
      "execution_count": null,
      "metadata": {
        "dotnet_interactive": {
          "language": "csharp"
        }
      },
      "outputs": [
        {
          "ename": "Error",
          "evalue": "(5,62): error CS1003: Syntax error, ',' expected\r\n(5,74): error CS1003: Syntax error, ',' expected\r\n(5,74): error CS1010: Newline in constant\r\n(5,77): error CS1003: Syntax error, ',' expected\r\n(6,46): error CS1026: ) expected",
          "output_type": "error",
          "traceback": [
            "(5,62): error CS1003: Syntax error, ',' expected\r\n",
            "(5,74): error CS1003: Syntax error, ',' expected\r\n",
            "(5,74): error CS1010: Newline in constant\r\n",
            "(5,77): error CS1003: Syntax error, ',' expected\r\n",
            "(6,46): error CS1026: ) expected"
          ]
        }
      ],
      "source": [
        "static var myBatch = BoSSSshell.ExecutionQueues[2];\n",
        "// static var myBatch = GetDefaultQueue();\n",
        "// static var myDb = OpenOrCreateDatabase(@\"C:\\Databases\\BoSSSAAA\");\n",
        "static var myDb = OpenOrCreateDatabase(@\"\\\\hpccluster\\hpccluster-scratch\\gutierrez\\CoFlowFlame_Bur1k\");\n",
        "// static var myDb = myBatch.CreateOrOpenCompatibleDatabase(\"CoFlowFlame5\");\n",
        "BoSSSshell.WorkflowMgm.DefaultDatabase = myDb;"
      ]
    },
    {
      "cell_type": "code",
      "execution_count": null,
      "metadata": {
        "dotnet_interactive": {
          "language": "csharp"
        }
      },
      "outputs": [],
      "source": [
        "BoSSSshell.WorkflowMgm.SetNameBasedSessionJobControlCorrelation()"
      ]
    },
    {
      "cell_type": "code",
      "execution_count": null,
      "metadata": {
        "dotnet_interactive": {
          "language": "csharp"
        }
      },
      "outputs": [],
      "source": []
    },
    {
      "cell_type": "markdown",
      "metadata": {},
      "source": [
        "## Case configuration"
      ]
    },
    {
      "cell_type": "code",
      "execution_count": null,
      "metadata": {
        "dotnet_interactive": {
          "language": "csharp"
        }
      },
      "outputs": [],
      "source": [
        "int nCells = 10;\n",
        "// int[] multiplierS = new int[]{2,5,11}; // multiplying factor of inlet velocities\n",
        "int[] multiplierS = new int[]{1}; // multiplying factor of inlet velocities\n",
        "int dgMF = 3; // Mass fraction DG degree\n",
        "int[] DGDegrees = new int[] {3};\n",
        "\n",
        "int[] nCellsArray = new int[] {8};\n",
        "\n",
        "double[] xCellsMultiplier = new double[] {3};\n",
        "\n",
        "double InitialMassFuelIn = 0.002400; //kg/m2s \n",
        "double InitialMassAirIn = 0.002400 *3*2; //kg/m2s \n",
        "bool parabolicVelocityProfile = false;\n",
        "bool chemicalReactionActive = true; \n",
        "bool useFullGeometry = false;\n",
        "bool wallBounded = true;//\n",
        "bool calculateOnlyMixtureFraction = true;\n",
        "double In_to_m = 2.54/100;"
      ]
    },
    {
      "cell_type": "markdown",
      "metadata": {},
      "source": [
        "## Create grid"
      ]
    },
    {
      "cell_type": "code",
      "execution_count": null,
      "metadata": {
        "dotnet_interactive": {
          "language": "csharp"
        }
      },
      "outputs": [
        {
          "ename": "Error",
          "evalue": "(96,9): error CS0103: The name 'myDb' does not exist in the current context",
          "output_type": "error",
          "traceback": [
            "(96,9): error CS0103: The name 'myDb' does not exist in the current context"
          ]
        }
      ],
      "source": [
        "public static class GridFactory {\n",
        "\n",
        "    public static Grid2D GenerateGrid(int nCells) {\n",
        "        // Geometry\n",
        "        // All lenghts are non.dimensionalized with Lref = fuel inlet radius (0.2 cm)\n",
        "        double factor = 1.0;\n",
        "        double In_to_m = 2.54/100;\n",
        "\n",
        "        double r = (1.0/6.0)*In_to_m; // Radius inner cylinder, m\n",
        "        double R = 1*In_to_m; // Radius outter cylinder, m\n",
        "        double LRef =1.0;// r;\n",
        "\n",
        "        double zlength = 20.0 / 100 * 1;// meters\n",
        "        double xmin = -R / LRef;\n",
        "        double xmax = +R / LRef;\n",
        "        double ymin = 0;\n",
        "        double ymax = zlength / LRef;\n",
        "        double rAd = r / LRef;\n",
        "\n",
        "        double leftmidpoint = (xmin - rAd) / 2;\n",
        "        double rightmidpoint = (xmax + rAd) / 2;\n",
        "\n",
        "        var troubledPoints = new double[][] {\n",
        "        new double[]{ rAd, 0.0 },\n",
        "        new double[]{-rAd, 0.0 }\n",
        "        };\n",
        "        double stretchfactorY = 0.98 * 1;\n",
        "\n",
        "        double sf1 = 0.97 * 1 * 0;\n",
        "        double sf2 = 0.95 * 1 * 0;\n",
        "        double sf3 = 0.97 * 1 * 0;\n",
        "        int n1 = (int)2.5 * nCells;\n",
        "        int n2 = (int)1.0 * nCells;\n",
        "        int n3 = (int)2.5 * nCells;\n",
        "        //var xNodes1 = GenericBlas.SinLinSpacing(xmin, -rAd, sf1, n1 + 1);\n",
        "        //var xNodes2 = GenericBlas.SinLinSpacing(-rAd, rAd, sf2, n2 + 1);\n",
        "        //var xNodes3 = GenericBlas.SinLinSpacing(rAd, xmax, sf3, n3 + 1);\n",
        "\n",
        "        List<double> xNodes2 = (GenericBlas.SinLinSpacing(-rAd, rAd, sf2, n2 + 1)).ToList(); // nodes corresponding to the fuel inlet\n",
        "        List<double> xNodes3 = (GenericBlas.SinLinSpacing(rAd, (xmax - rAd) * 2 + rAd, sf3, n1 * 2 + 1).ToList()); // Nodes corresponding to the oxidizer inlet, right part\n",
        "        var myXnodes3 = xNodes3.GetSubVector(0, xNodes3.Count / 2 + 1); // Take only \"left side\" of node array\n",
        "        var myxNodes1 = myXnodes3.CloneAs();\n",
        "        myxNodes1.ScaleV(-1.0);\n",
        "        Array.Reverse(myxNodes1);\n",
        "\n",
        "        List<double> list2 = new List<double>();\n",
        "        list2.AddRange(myxNodes1.Take(n1 + 0).ToList());\n",
        "        list2.AddRange(xNodes2.Take(n2 + 0).ToList());\n",
        "        list2.AddRange(myXnodes3.Take(n3 + 1).ToList());\n",
        "        double[] _xNodes = list2.ToArray();\n",
        "        //Debug.Assert(_xNodes.Contains(xmin));\n",
        "        //Debug.Assert(_xNodes.Contains(-rAd));\n",
        "        //Debug.Assert(_xNodes.Contains(rAd));\n",
        "        //Debug.Assert(_xNodes.Contains(xmax));\n",
        "        var _yNodes = GenericBlas.SinLinSpacing(ymin, ymax * 2, stretchfactorY, (2 * nCells) * 4 + 1);\n",
        "        var myYnodes = _yNodes.GetSubVector(0, _yNodes.Length / 2 + 1); // I just want a fine mesh in the bottom part of the grid.\n",
        "                                                                        //var _xNodes = GenericBlas.Linspace(xmin, xmax, 2 * meshScaling + 1);\n",
        "                                                                        //var myYnodes = GenericBlas.Linspace(ymin, ymax, 2 * meshScaling + 1);\n",
        "        var grd = Grid2D.Cartesian2DGrid(_xNodes, myYnodes, periodicX: false);\n",
        "        grd.EdgeTagNames.Add(1, \"Velocity_Inlet_O2\");\n",
        "        grd.EdgeTagNames.Add(2, \"Velocity_Inlet_CH4\");\n",
        "        grd.EdgeTagNames.Add(3, \"Pressure_Outlet\");\n",
        "        //grd.EdgeTagNames.Add(4, \"wall\");\n",
        "        grd.EdgeTagNames.Add(4, \"NoSlipNeumann\");\n",
        "        // grd.EdgeTagNames.Add(4, \"Velocity_Inlet_outer\"); // We want a constant velocity field.\n",
        "\n",
        "        grd.DefineEdgeTags(delegate (double[] X) {\n",
        "            double x = X[0];\n",
        "            double y = X[1];\n",
        "\n",
        "            //Edge tags\n",
        "            //1: Velocity inlet O_2\n",
        "            //2: Velocity inlet CH_4\n",
        "            //3: Pressure outlet\n",
        "\n",
        "            //Inlet fuel\n",
        "            if(Math.Abs(y - ymin) < 1e-8 && Math.Abs(x - 0.0) < rAd + 1e-8)\n",
        "                return 2;\n",
        "            //Inlet oxidizer\n",
        "            if((Math.Abs(y - ymin) < 1e-8 && ((Math.Abs(x - rightmidpoint) < ((xmax - rAd) * 0.5 + rAd) + 1e-8) || Math.Abs(x - leftmidpoint) < Math.Abs((xmin - rAd) * 0.5 + rAd) + 1e-8)))\n",
        "                return 1;\n",
        "\n",
        "            // Pressure outlet\n",
        "\n",
        "            if((Math.Abs(y - ymax) < 1e-8))\n",
        "                return 3;\n",
        "\n",
        "            // Pressure outlet\n",
        "\n",
        "            if((Math.Abs(x - xmin) < 1e-8) || (Math.Abs(x - xmax) < 1e-8))\n",
        "                return 4;\n",
        "            else throw new ArgumentOutOfRangeException();\n",
        "        \n",
        "        }\n",
        "        );\n",
        "        myDb.SaveGrid(ref grd);\n",
        "\n",
        "        return grd;\n",
        "    }\n",
        "}"
      ]
    },
    {
      "cell_type": "code",
      "execution_count": null,
      "metadata": {
        "dotnet_interactive": {
          "language": "csharp"
        }
      },
      "outputs": [],
      "source": [
        "public static class BoundaryValueFactory { \n",
        "\n",
        "    public static string GetPrefixCode(double ConstVal, double inletRadius, double uInFuel, double uInAir, double sigma) {\n",
        "        using(var stw = new System.IO.StringWriter()) {\n",
        "\n",
        "            stw.WriteLine(\"static class BoundaryValues {\");\n",
        "\n",
        "            stw.WriteLine(\"  static public double ConstantValue(double[] X) {\");\n",
        "            stw.WriteLine(\"    return \"+ ConstVal +\";\");\n",
        "            stw.WriteLine(\"  }\");\n",
        "\n",
        "            stw.WriteLine(\"  static public double ParabolaVelocityFuel(double[] X) {\");\n",
        "            stw.WriteLine(\"    return  (1.0 - Math.Pow(X[1] / \"+inletRadius+\", 2)) * \"+uInFuel+\" ;\");\n",
        "            stw.WriteLine(\"  }\");\n",
        "\n",
        "            stw.WriteLine(\"  static public double ParabolaVelocityAir(double[] X) {\");\n",
        "            stw.WriteLine(\"    return  -(1.0 - Math.Pow(X[1] / \"+inletRadius+\", 2)) * \"+uInAir+\";\");\n",
        "            stw.WriteLine(\"  }\");\n",
        "\n",
        "            stw.WriteLine(\"  static public double RegularizedPlugFlowFuel(double[] X) {\");    \n",
        "            stw.WriteLine(\" double res = 0;\");  \n",
        "            stw.WriteLine(\"         if(X[1] > 0) { \");\n",
        "            stw.WriteLine(\"     double H = 0.5 * (1.0 + Math.Tanh(\"+sigma+\" * (X[1] - \"+inletRadius+\"))); \");\n",
        "            stw.WriteLine(\"           res = \"+uInFuel+\" * (1 - 2*H); \");\n",
        "            stw.WriteLine(\"      }   \");\n",
        "            stw.WriteLine(\"  else { \");\n",
        "            stw.WriteLine(\"      double H = 0.5 * (1.0 + Math.Tanh(\"+sigma+\" * (X[1] + (\"+inletRadius+\")))); \");\n",
        "            stw.WriteLine(\"           res = \"+uInFuel+\" * ( 2*H-1); \");\n",
        "            stw.WriteLine(\"  } \");\n",
        "            stw.WriteLine(\"return res;\"); \n",
        "            stw.WriteLine(\"  }\");\n",
        "\n",
        "\n",
        "            stw.WriteLine(\"  static public double RegularizedPlugFlowAir(double[] X) {\");         \n",
        "            stw.WriteLine(\" double res = 0;\");\n",
        "            stw.WriteLine(\"         if(X[1] > 0) { \");\n",
        "            stw.WriteLine(\"     double H = 0.5 * (1.0 + Math.Tanh(\"+sigma+\" * (X[1] - \"+inletRadius+\"))); \");\n",
        "            stw.WriteLine(\"           res = \"+uInAir+\" * (1 - 2*H)*(-1); \");\n",
        "            stw.WriteLine(\"      }   \");\n",
        "            stw.WriteLine(\"  else { \");\n",
        "            stw.WriteLine(\"      double H = 0.5 * (1.0 + Math.Tanh(\"+sigma+\" * (X[1] + (\"+inletRadius+\")))); \");\n",
        "            stw.WriteLine(\"           res = \"+uInAir+\" * ( 2*H-1)*(-1); \");\n",
        "            stw.WriteLine(\"  } \");\n",
        "            stw.WriteLine(\"return res;\"); \n",
        "            stw.WriteLine(\"  }\");\n",
        "\n",
        "\n",
        "            stw.WriteLine(\"}\"); \n",
        "            return stw.ToString();\n",
        "        }\n",
        "    }\n",
        "\n",
        "    static public Formula Get_ConstantValue(double ConstVal, double inletRadius, double uInFuel, double uInAir, double sigma){\n",
        "        return new Formula(\"BoundaryValues.ConstantValue\", AdditionalPrefixCode:GetPrefixCode(ConstVal, inletRadius, uInFuel, uInAir,sigma));\n",
        "    }\n",
        "\n",
        "    static public Formula Get_ParabolaVelocityFuel(double ConstVal, double inletRadius, double uInFuel, double uInAir, double sigma){\n",
        "        return new Formula(\"BoundaryValues.ParabolaVelocityFuel\", AdditionalPrefixCode:GetPrefixCode(ConstVal, inletRadius, uInFuel, uInAir,sigma));\n",
        "    }\n",
        "    static public Formula Get_ParabolaVelocityAir(double ConstVal, double inletRadius, double uInFuel, double uInAir, double sigma){\n",
        "        return new Formula(\"BoundaryValues.ParabolaVelocityAir\", AdditionalPrefixCode:GetPrefixCode(ConstVal, inletRadius, uInFuel, uInAir,sigma));\n",
        "    }\n",
        "\n",
        "    static public Formula Get_RegularizedPlugFlowFuel(double ConstVal, double inletRadius, double uInFuel, double uInAir, double sigma){\n",
        "        return new Formula(\"BoundaryValues.RegularizedPlugFlowFuel\", AdditionalPrefixCode:GetPrefixCode(ConstVal, inletRadius, uInFuel, uInAir,sigma));\n",
        "    }\n",
        "\n",
        "    static public Formula Get_RegularizedPlugFlowAir(double ConstVal, double inletRadius, double uInFuel, double uInAir, double sigma){\n",
        "        return new Formula(\"BoundaryValues.RegularizedPlugFlowAir\", AdditionalPrefixCode:GetPrefixCode(ConstVal, inletRadius, uInFuel, uInAir,sigma));\n",
        "    }\n",
        "\n",
        "}"
      ]
    },
    {
      "cell_type": "markdown",
      "metadata": {},
      "source": [
        "## Create base control file\n",
        "In this ControlFile basic configuration of the CounterDiffusionFlame is defined."
      ]
    },
    {
      "cell_type": "code",
      "execution_count": null,
      "metadata": {
        "dotnet_interactive": {
          "language": "csharp"
        }
      },
      "outputs": [
        {
          "ename": "Error",
          "evalue": "(8,15): error CS0103: The name 'GridFactory' does not exist in the current context",
          "output_type": "error",
          "traceback": [
            "(8,15): error CS0103: The name 'GridFactory' does not exist in the current context"
          ]
        }
      ],
      "source": [
        "static XNSEC_Control GiveMeTheCtrlFile(int dg, int nCells, bool isMF, double massFuelIn, double massAirIn, bool parabolicVelocityProfile, bool UsefullGeometry, bool wallBounded, double xNodesMultiplier) {\n",
        "    var CC = new ChemicalConstants();\n",
        "\n",
        "    var C = isMF ? new XNSEC_MF_Control() : new XNSEC_Control();\n",
        "\n",
        "    C.NumberOfChemicalSpecies = 4; \n",
        "    C.SetDGdegree(dg); //\n",
        "    C.SetGrid(GridFactory.GenerateGrid(nCells));  //\n",
        "\n",
        "    C.MatParamsMode = MaterialParamsMode.Constant;  //\n",
        "    // Problem Definition\n",
        "    //===================\n",
        "    double TemperatureInOxidizer = 300; //\n",
        "    double AtmPressure = 101325; // Pa\n",
        "    // double[] FuelInletConcentrations = new double[] { 0.2, 0.0, 0.0, 0.0, 0.8 };\n",
        "    double[] FuelInletConcentrations = new double[] { 1.0, 0.0, 0.0, 0.0, 0.0 };\n",
        "\n",
        "    // double[] OxidizerInletConcentrations = new double[] { 0.0, 0.23, 0.0, 0.0, 0.77 }; //\n",
        "    // double[] OxidizerInletConcentrations = new double[] { 0.0, 0.5, 0.0, 0.0, 0.5 }; //\n",
        "    double[] OxidizerInletConcentrations = new double[] { 0.0, 1.0, 0.0, 0.0, 0.0 }; //\n",
        "\n",
        "    double[] MWs = new double[] { CC.MW_CH4, CC.MW_O2, CC.MW_CO2, CC.MW_H2O, CC.MW_N2 };\n",
        "\n",
        "\n",
        "\n",
        "\n",
        "\n",
        "    // Reference values\n",
        "    //===================\n",
        "    // Basic units to be used: Kg, m, s, mol, pa,\n",
        "    double In_to_m = 2.54/100;\n",
        "    double TRef = TemperatureInOxidizer;// Reference temperature  is the inlet temperature, (K)\n",
        "    double pRef = AtmPressure; // Pa\n",
        "    double uIn = 1.33 * In_to_m ;\n",
        "    double uRef =1.0;//uIn ;\n",
        "\n",
        "    double r = (1.0/6.0)*In_to_m; // Radius inner cylinder, m\n",
        "    double R = 1*In_to_m; // Radius outter cylinder, m\n",
        "    double LRef = 1.0;//r;\n",
        "\n",
        "    C.GravityDirection = new double[] { 0.0, 0.0, 0.0 }; //No gravity.\n",
        "\n",
        "    // Solver configuration\n",
        "    // =======================\n",
        "    C.rhoOne = true;//!!!!\n",
        "\n",
        "    C.smoothingFactor = 80;\n",
        "    // C.NonLinearSolver.ConvergenceCriterion = 1e-8;\n",
        "    // C.LinearSolver.ConvergenceCriterion = 1e-10;\n",
        "    C.NonLinearSolver.verbose = true;\n",
        "    C.NonLinearSolver.SolverCode = NonLinearSolverCode.Newton;\n",
        "    C.NonLinearSolver.MaxSolverIterations = 10;\n",
        "    C.LinearSolver.SolverCode = LinearSolverCode.classic_pardiso;\n",
        "    C.LinearSolver.verbose = false;\n",
        "    C.TimesteppingMode = AppControl._TimesteppingMode.Steady;\n",
        "    C.saveperiod = 1;\n",
        "    C.PenaltyViscMomentum = 1.0; \n",
        "    C.PenaltyHeatConduction = 1.0;\n",
        "    C.YFuelInlet = FuelInletConcentrations[0];\n",
        "    C.YOxInlet = OxidizerInletConcentrations[1];\n",
        "    C.FuelInletConcentrations = FuelInletConcentrations;\n",
        "    C.OxidizerInletConcentrations = OxidizerInletConcentrations;\n",
        "    C.TFuelInlet = 1.0;\n",
        "    C.TOxInlet = 1.0;\n",
        "    C.PhysicalParameters.IncludeConvection = true;\n",
        "    // Chemical related parameters\n",
        "    double s = (CC.nu_O2 * CC.MW_O2) / (CC.nu_CH4 * CC.MW_CH4);\n",
        "    C.phi = s * C.YFuelInlet / C.YOxInlet;\n",
        "    C.zSt = 1.0 / (1.0 + C.phi);\n",
        "    Console.WriteLine(\"zSt is: \"+C.zSt);\n",
        "    var ThermoProperties = new ThermodynamicalProperties();\n",
        "\n",
        "    //==========================\n",
        "    //Derived reference values\n",
        "    //==========================\n",
        "    C.uRef = 1.0;//uRef; // Reference velocity\n",
        "    C.LRef = 1.0;//LRef; // reference length\n",
        "    C.pRef = AtmPressure; // reference pressure\n",
        "    C.TRef = 300;// reference temperature\n",
        "    C.MWRef =1.0;\n",
        "    C.rhoRef = C.pRef * C.MWRef / (8.314 * C.TRef * 1000); // Kg/m3. ok ;\n",
        "    C.cpRef = -10000;// not important\n",
        "    C.muRef = 4.9226e-05; // mu = rho D = k/cp because Pr = Le = 1.0\n",
        "    C.MolarMasses = new double[] { C.CC.MW_CH4, C.CC.MW_O2, C.CC.MW_CO2, C.CC.MW_H2O, C.CC.MW_N2 };\n",
        "    C.MolarMasses.ScaleV(1.0 / C.MWRef); //NonDimensionalized Molar masses\n",
        "    C.T_ref_Sutherland = 300;\n",
        "    double heatRelease_Ref = (C.TRef * C.cpRef);\n",
        "    C.HeatRelease = C.CC.HeatReleaseMass / heatRelease_Ref;\n",
        "    C.B = CC.PreExponentialFactor;\n",
        "\n",
        "    C.StoichiometricCoefficients = new double[] { -1, -2, 1, 2, 0 };\n",
        "\n",
        "    C.Damk = C.rhoRef * C.LRef * C.B / (C.uRef * C.MWRef);\n",
        "    C.Reynolds =  C.uRef * C.LRef / C.muRef;\n",
        "    C.Prandtl = 1.0;\n",
        "    C.Schmidt = C.Prandtl; // Because Lewis number  is assumed as 1.0  (Le = Pr/Sc)\n",
        "    C.Lewis = new double[] { 1.0, 1.0, 1.0, 1.0, 1.0 };\n",
        "\n",
        "    double g = 9.8; // m/s2\n",
        "    C.Froude = Math.Sqrt(uRef * uRef / (C.LRef * g)); // Not used\n",
        "    C.T_ref_Sutherland = 300; //////// Check this\n",
        "    C.ReactionRateConstants = new double[] { C.Damk, CC.Ta / TRef, 1.0, 1.0 }; \n",
        "    //==========================\n",
        "    // Initial conditions\n",
        "    //==========================\n",
        "    double dummy = 0;\n",
        "    double Radius = 0.5;\n",
        "    C.AddInitialValue(VariableNames.VelocityX, BoundaryValueFactory.Get_ConstantValue(0.0, Radius, uIn / C.uRef, uIn / C.uRef,dummy));\n",
        "    C.AddInitialValue(VariableNames.VelocityY, BoundaryValueFactory.Get_ConstantValue(0.0, Radius, uIn / C.uRef, uIn / C.uRef,dummy));\n",
        "    C.AddInitialValue(VariableNames.Pressure, BoundaryValueFactory.Get_ConstantValue(0.0, Radius, uIn / C.uRef, uIn / C.uRef,dummy));\n",
        "\n",
        "    //==========================\n",
        "    // Boundary conditions\n",
        "    //==========================\n",
        "    C.AddBoundaryValue(\"Velocity_Inlet_CH4\", VariableNames.Velocity_d(0), BoundaryValueFactory.Get_ConstantValue(0.0, dummy, dummy, dummy, dummy));\n",
        "    C.AddBoundaryValue(\"Velocity_Inlet_CH4\", VariableNames.Velocity_d(1), BoundaryValueFactory.Get_ConstantValue( uIn / uRef, dummy, dummy, dummy, dummy));\n",
        "\n",
        "\n",
        "\n",
        "    C.AddBoundaryValue(\"Velocity_Inlet_O2\", VariableNames.Velocity_d(0), BoundaryValueFactory.Get_ConstantValue(0.0, dummy, dummy, dummy, dummy));\n",
        "    C.AddBoundaryValue(\"Velocity_Inlet_O2\", VariableNames.Velocity_d(1), BoundaryValueFactory.Get_ConstantValue( uIn / uRef, dummy, dummy,dummy, dummy));\n",
        "\n",
        "    // C.AddBoundaryValue(\"Velocity_Inlet_outer\", VariableNames.Velocity_d(0), BoundaryValueFactory.Get_ConstantValue(0.0, dummy, dummy,dummy, dummy));\n",
        "    // C.AddBoundaryValue(\"Velocity_Inlet_outer\", VariableNames.Velocity_d(1), BoundaryValueFactory.Get_ConstantValue( uIn / uRef, dummy, dummy,dummy, dummy));\n",
        "\n",
        "    C.AddBoundaryValue(\"Pressure_outlet\");\n",
        "    return C;\n",
        "}"
      ]
    },
    {
      "cell_type": "markdown",
      "metadata": {},
      "source": [
        "## Starting the MixtureFraction simulation\n",
        "Configuration  for the simulation using the mixture fraction approach, where an infinite reaction rate is assumed. Used to find adequate starting solution for the full problem."
      ]
    },
    {
      "cell_type": "code",
      "execution_count": null,
      "metadata": {
        "dotnet_interactive": {
          "language": "csharp"
        }
      },
      "outputs": [
        {
          "ename": "Error",
          "evalue": "(2,29): error CS0103: The name 'GiveMeTheCtrlFile' does not exist in the current context",
          "output_type": "error",
          "traceback": [
            "(2,29): error CS0103: The name 'GiveMeTheCtrlFile' does not exist in the current context"
          ]
        }
      ],
      "source": [
        "static XNSEC_Control GiveMeTheMixtureFractionCtrlFile(int dg, int nCells, double massFuelIn, double massAirIn, bool parabolicVelocityProfile, int multiplier, bool useFullGeometry, bool wallBounded, double xNodesMultiplier){\n",
        "    var C_MixtureFraction = GiveMeTheCtrlFile(dg, nCells, true,massFuelIn, massAirIn, parabolicVelocityProfile, useFullGeometry,  wallBounded , xNodesMultiplier);\n",
        "    C_MixtureFraction.physicsMode = PhysicsMode.MixtureFraction;\n",
        "    C_MixtureFraction.ProjectName = \"CoFlowFlame\";\n",
        "    string name = C_MixtureFraction.ProjectName + \"P\" + dg + \"K\" + nCells + \"Multiplier\" +multiplier + \"xNodesMultiplier\"+xNodesMultiplier;\n",
        "    C_MixtureFraction.SessionName = \"FS_\" + name;\n",
        "\n",
        "    C_MixtureFraction.UseSelfMadeTemporalOperator = false;\n",
        "    C_MixtureFraction.ChemicalReactionActive = false;\n",
        "    C_MixtureFraction.physicsMode = PhysicsMode.MixtureFraction;\n",
        "    C_MixtureFraction.NonLinearSolver.MaxSolverIterations = 50; \n",
        "    C_MixtureFraction.dummycounter = multiplier;\n",
        "    \n",
        "    // Boundary and initial conditions\n",
        "    double dummy = -11111111;\n",
        "    C_MixtureFraction.AddInitialValue(VariableNames.MixtureFraction,BoundaryValueFactory.Get_ConstantValue(1.0,dummy,dummy , dummy, dummy));\n",
        "    C_MixtureFraction.AddBoundaryValue(\"Velocity_Inlet_CH4\", VariableNames.MixtureFraction, BoundaryValueFactory.Get_ConstantValue(1.0,dummy,dummy , dummy, dummy));\n",
        "    C_MixtureFraction.AddBoundaryValue(\"Velocity_Inlet_O2\", VariableNames.MixtureFraction, BoundaryValueFactory.Get_ConstantValue(0.0,dummy,dummy , dummy, dummy));\n",
        "    // C_MixtureFraction.AddBoundaryValue(\"Velocity_Inlet_outer\", VariableNames.MixtureFraction, BoundaryValueFactory.Get_ConstantValue(0.0,dummy,dummy , dummy, dummy));\n",
        "\n",
        "    C_MixtureFraction.Tags.Add(multiplier.ToString()); // Tag used for restart of the full problem\n",
        "    double radius_inlet = 1;\n",
        "    var troubledPoints = new List<double[]>();\n",
        " \n",
        "        troubledPoints.Add(new double[]{1, 0});\n",
        "        troubledPoints.Add(new double[]{-1, 0});\n",
        "        \n",
        "\n",
        "    C_MixtureFraction.AdaptiveMeshRefinement = false;\n",
        "    C_MixtureFraction.TimesteppingMode = BoSSS.Solution.Control.AppControl._TimesteppingMode.Steady; \n",
        "\n",
        "    // C_MixtureFraction.activeAMRlevelIndicators.Add( new BoSSS.Application.XNSEC.AMR_onProblematicPoints(troubledPoints,C_MixtureFraction.AMR_startUpSweeps) );  \n",
        "    // C_MixtureFraction.activeAMRlevelIndicators.Add(new BoSSS.Application.XNSEC.AMR_RefineAroundProblematicPoints(troubledPoints, 1, 0.01));\n",
        "    // C_MixtureFraction.activeAMRlevelIndicators.Add( new BoSSS.Application.XNSEC.AMR_onFlameSheet(C_MixtureFraction.zSt,3) );\n",
        "    return C_MixtureFraction;\n",
        "}"
      ]
    },
    {
      "cell_type": "markdown",
      "metadata": {},
      "source": [
        "## Send and run jobs"
      ]
    },
    {
      "cell_type": "code",
      "execution_count": null,
      "metadata": {
        "dotnet_interactive": {
          "language": "csharp"
        }
      },
      "outputs": [
        {
          "ename": "Error",
          "evalue": "(9,27): error CS0103: The name 'GiveMeTheMixtureFractionCtrlFile' does not exist in the current context\r\n(17,19): error CS0103: The name 'myBatch' does not exist in the current context",
          "output_type": "error",
          "traceback": [
            "(9,27): error CS0103: The name 'GiveMeTheMixtureFractionCtrlFile' does not exist in the current context\r\n",
            "(17,19): error CS0103: The name 'myBatch' does not exist in the current context"
          ]
        }
      ],
      "source": [
        "foreach(double xDensityMult in  xCellsMultiplier)\n",
        "foreach(int nCells in nCellsArray){\n",
        "\n",
        "foreach(int i in multiplierS){\n",
        "  double massFuelIn = InitialMassFuelIn*i;\n",
        "  double massAirIn = InitialMassAirIn*i;\n",
        "\n",
        "  Type solver_MF = typeof(BoSSS.Application.XNSEC.XNSEC_MixtureFraction);\n",
        "  var C_MixtureFraction = GiveMeTheMixtureFractionCtrlFile(dgMF, nCells, massFuelIn, massAirIn,  parabolicVelocityProfile, i, useFullGeometry, wallBounded, xDensityMult);\n",
        "  Console.WriteLine(\"C_MixtureFraction.zSt\" + C_MixtureFraction.zSt);\n",
        "  Console.WriteLine(\"Reynolds\" + C_MixtureFraction.Reynolds);\n",
        "  string jobName       = C_MixtureFraction.SessionName;\n",
        "  Console.WriteLine(jobName);\n",
        "  var oneJob           = new Job(jobName, solver_MF);\n",
        "  oneJob.NumberOfMPIProcs =  8;\n",
        "  oneJob.SetControlObject(C_MixtureFraction);\n",
        "  oneJob.Activate(myBatch); \n",
        "}\n",
        "}"
      ]
    },
    {
      "cell_type": "code",
      "execution_count": null,
      "metadata": {
        "dotnet_interactive": {
          "language": "csharp"
        }
      },
      "outputs": [
        {
          "name": "stdout",
          "output_type": "stream",
          "text": [
            "All jobs finished.\r\n"
          ]
        }
      ],
      "source": [
        "BoSSSshell.WorkflowMgm.BlockUntilAllJobsTerminate();"
      ]
    },
    {
      "cell_type": "code",
      "execution_count": null,
      "metadata": {
        "dotnet_interactive": {
          "language": "csharp"
        }
      },
      "outputs": [],
      "source": []
    },
    {
      "cell_type": "markdown",
      "metadata": {},
      "source": [
        "## Starting the finite-rate chemistry simulation\n",
        "\n",
        "Now that the simulation for an \"infinite\" reaction rate is done, we use it for initializing the system with finite reaction rate. The goal is to obtain solutions of the counter difussion flame for increasing strain values. We start with a low strain (bigger Dahmkoehler number), which is increased until extintion is (hopefully) found"
      ]
    },
    {
      "cell_type": "code",
      "execution_count": null,
      "metadata": {
        "dotnet_interactive": {
          "language": "csharp"
        }
      },
      "outputs": [
        {
          "ename": "Error",
          "evalue": "(2,21): error CS0103: The name 'GiveMeTheCtrlFile' does not exist in the current context",
          "output_type": "error",
          "traceback": [
            "(2,21): error CS0103: The name 'GiveMeTheCtrlFile' does not exist in the current context"
          ]
        }
      ],
      "source": [
        "static XNSEC_Control GiveMeTheFullCtrlFile(int dg, int nCells, double massFuelIn, double massAirIn, ISessionInfo SessionToRestart, bool parabolicVelocityProfile, bool chemReactionActive, bool useFullGeometry, bool wallBounded, int mult, int counter, double xNodesMultiplier) {\n",
        "    var C_OneStep = GiveMeTheCtrlFile(dg, nCells, false, massFuelIn, massAirIn, parabolicVelocityProfile, useFullGeometry, wallBounded, xNodesMultiplier);\n",
        "    C_OneStep.physicsMode = PhysicsMode.Combustion;\n",
        "    C_OneStep.ProjectName = \"CoFlowFlame\";\n",
        "    string name = C_OneStep.ProjectName + \"P\" + dg + \"K\" + nCells + \"mult\" + mult+\"_c\"+counter ;\n",
        "    C_OneStep.SessionName = \"Full_\" + name;\n",
        "    C_OneStep.VariableOneStepParameters = false;\n",
        "\n",
        "    // C_OneStep.Tags.Add(\"VelocityMultiplier\" + mult);\n",
        "    C_OneStep.Tags.Add( mult.ToString());\n",
        "    C_OneStep.dummycounter = counter;\n",
        "    C_OneStep.UseSelfMadeTemporalOperator = false;\n",
        "    C_OneStep.myThermalWallType = SIPDiffusionTemperature.ThermalWallType.Adiabatic;\n",
        "    C_OneStep.Timestepper_LevelSetHandling = BoSSS.Solution.XdgTimestepping.LevelSetHandling.None;\n",
        "    C_OneStep.UseMixtureFractionsForCombustionInitialization = true;\n",
        "\n",
        "    C_OneStep.LinearSolver.SolverCode = LinearSolverCode.exp_Kcycle_schwarz;\n",
        "    C_OneStep.LinearSolver.NoOfMultigridLevels = 5;\n",
        "    C_OneStep.ChemicalReactionActive = chemReactionActive;\n",
        "    C_OneStep.AdaptiveMeshRefinement = true;\n",
        "    \n",
        "    C_OneStep.HeatCapacityMode = MaterialLaw_MultipleSpecies.CpCalculationMode.mixture;\n",
        "\n",
        "    bool AMRinEachNewtonStep = false;\n",
        "\n",
        "    if( AMRinEachNewtonStep) {\n",
        "        C_OneStep.NoOfTimesteps = 4;\n",
        "        C_OneStep.NonLinearSolver.MaxSolverIterations = 8; // Do only one newton iteration before refining\n",
        "        C_OneStep.NonLinearSolver.MinSolverIterations = 8; // Do only one newton iteration before refining\n",
        "    } else{\n",
        "        // C_OneStep.NoOfTimesteps = 1; // The steady solution will be calculated again and do AMR\n",
        "        C_OneStep.NonLinearSolver.MaxSolverIterations = 30;\n",
        "    }\n",
        "\n",
        "    C_OneStep.AMR_startUpSweeps = 0;\n",
        "    if(C_OneStep.ChemicalReactionActive){\n",
        "        C_OneStep.activeAMRlevelIndicators.Add(new AMR_onReactiveZones(C_OneStep.MolarMasses, 2, 0.2));\n",
        "        C_OneStep.activeAMRlevelIndicators.Add(new AMR_BasedOnVariableLimits(\"Temperature\", new double[] { -100, 4 },3)); // Refine all cells with T > 5 (and T < -100)\n",
        "        // C_OneStep.activeAMRlevelIndicators.Add(new AMR_BasedOnFieldGradient(2, 0.9, VariableNames.Temperature));\n",
        "        // C_OneStep.activeAMRlevelIndicators.Add(new AMR_BasedOnPerssonSensor(VariableNames.Temperature, 2));\n",
        "    }\n",
        "    // C_OneStep.activeAMRlevelIndicators.Add(new AMR_BasedOnPerssonSensor(VariableNames.Temperature, 3));\n",
        "    // C_OneStep.NonLinearSolver.MaxSolverIterations = 10;\n",
        "\n",
        "    // limiting of variable values\n",
        "    Dictionary<string, Tuple<double, double>> Bounds = new Dictionary<string, Tuple<double, double>>();\n",
        "    double eps = 1e-2;\n",
        "    Bounds.Add(VariableNames.Temperature, new Tuple<double, double>(1.0 - eps, 10)); // Min temp should be the inlet temperature.\n",
        "    Bounds.Add(VariableNames.MassFraction0, new Tuple<double, double>(0.0 - 1e-4, 1.0 + 1e-4)); // Between 0 and 1 per definition\n",
        "    Bounds.Add(VariableNames.MassFraction1, new Tuple<double, double>(0.0 - 1e-4, 1.0 + 1e-4));\n",
        "    Bounds.Add(VariableNames.MassFraction2, new Tuple<double, double>(0.0 - 1e-4, 1.0 + 1e-4));\n",
        "    Bounds.Add(VariableNames.MassFraction3, new Tuple<double, double>(0.0 - 1e-4, 1.0 + 1e-4));\n",
        "    C_OneStep.VariableBounds = Bounds;\n",
        "    // Boundary conditions\n",
        "\n",
        "    double dummy = 0;\n",
        "    if(SessionToRestart != null) {\n",
        "        C_OneStep.SetRestart(SessionToRestart);\n",
        "    } else {\n",
        "        C_OneStep.AddInitialValue(VariableNames.Temperature, BoundaryValueFactory.Get_ConstantValue(1.0, dummy, dummy, dummy, dummy));\n",
        "        C_OneStep.AddInitialValue(VariableNames.MassFraction0, BoundaryValueFactory.Get_ConstantValue(0.0, dummy, dummy, dummy, dummy));\n",
        "        C_OneStep.AddInitialValue(VariableNames.MassFraction1, BoundaryValueFactory.Get_ConstantValue(0.23, dummy, dummy, dummy, dummy));\n",
        "        C_OneStep.AddInitialValue(VariableNames.MassFraction2, BoundaryValueFactory.Get_ConstantValue(0.0, dummy, dummy, dummy, dummy));\n",
        "        C_OneStep.AddInitialValue(VariableNames.MassFraction3, BoundaryValueFactory.Get_ConstantValue(0.0, dummy, dummy, dummy, dummy));\n",
        "    }\n",
        "    C_OneStep.AddBoundaryValue(\"Velocity_Inlet_CH4\", VariableNames.Temperature, BoundaryValueFactory.Get_ConstantValue(1.0, dummy, dummy, dummy, dummy));\n",
        "    C_OneStep.AddBoundaryValue(\"Velocity_Inlet_CH4\", VariableNames.MassFraction0, BoundaryValueFactory.Get_ConstantValue(C_OneStep.FuelInletConcentrations[0], dummy, dummy,dummy, dummy));\n",
        "    C_OneStep.AddBoundaryValue(\"Velocity_Inlet_CH4\", VariableNames.MassFraction1, BoundaryValueFactory.Get_ConstantValue(C_OneStep.FuelInletConcentrations[1], dummy, dummy,dummy, dummy));\n",
        "    C_OneStep.AddBoundaryValue(\"Velocity_Inlet_CH4\", VariableNames.MassFraction2, BoundaryValueFactory.Get_ConstantValue(C_OneStep.FuelInletConcentrations[2], dummy, dummy,dummy, dummy));\n",
        "    C_OneStep.AddBoundaryValue(\"Velocity_Inlet_CH4\", VariableNames.MassFraction3, BoundaryValueFactory.Get_ConstantValue(C_OneStep.FuelInletConcentrations[3], dummy, dummy,dummy, dummy));\n",
        "\n",
        "    C_OneStep.AddBoundaryValue(\"Velocity_Inlet_O2\", VariableNames.Temperature, BoundaryValueFactory.Get_ConstantValue(1.0, dummy, dummy, dummy, dummy));\n",
        "    C_OneStep.AddBoundaryValue(\"Velocity_Inlet_O2\", VariableNames.MassFraction0, BoundaryValueFactory.Get_ConstantValue(C_OneStep.OxidizerInletConcentrations[0], dummy, dummy,dummy, dummy));\n",
        "    C_OneStep.AddBoundaryValue(\"Velocity_Inlet_O2\", VariableNames.MassFraction1, BoundaryValueFactory.Get_ConstantValue(C_OneStep.OxidizerInletConcentrations[1], dummy, dummy,dummy, dummy));\n",
        "    C_OneStep.AddBoundaryValue(\"Velocity_Inlet_O2\", VariableNames.MassFraction2, BoundaryValueFactory.Get_ConstantValue(C_OneStep.OxidizerInletConcentrations[2], dummy, dummy, dummy, dummy));\n",
        "    C_OneStep.AddBoundaryValue(\"Velocity_Inlet_O2\", VariableNames.MassFraction3, BoundaryValueFactory.Get_ConstantValue(C_OneStep.OxidizerInletConcentrations[3], dummy, dummy,dummy, dummy));\n",
        "\n",
        "    C_OneStep.AddBoundaryValue(\"Velocity_Inlet_outer\", VariableNames.Temperature, BoundaryValueFactory.Get_ConstantValue(1.0, dummy, dummy,dummy, dummy));\n",
        "    C_OneStep.AddBoundaryValue(\"Velocity_Inlet_outer\", VariableNames.MassFraction0, BoundaryValueFactory.Get_ConstantValue(C_OneStep.OxidizerInletConcentrations[0], dummy, dummy,dummy, dummy));\n",
        "    C_OneStep.AddBoundaryValue(\"Velocity_Inlet_outer\", VariableNames.MassFraction1, BoundaryValueFactory.Get_ConstantValue(C_OneStep.OxidizerInletConcentrations[1], dummy, dummy,dummy, dummy));\n",
        "    C_OneStep.AddBoundaryValue(\"Velocity_Inlet_outer\", VariableNames.MassFraction2, BoundaryValueFactory.Get_ConstantValue(C_OneStep.OxidizerInletConcentrations[2], dummy, dummy,dummy, dummy));\n",
        "    C_OneStep.AddBoundaryValue(\"Velocity_Inlet_outer\", VariableNames.MassFraction3, BoundaryValueFactory.Get_ConstantValue(C_OneStep.OxidizerInletConcentrations[3], dummy, dummy, dummy, dummy));\n",
        "    return C_OneStep;\n",
        "}"
      ]
    },
    {
      "cell_type": "code",
      "execution_count": null,
      "metadata": {
        "dotnet_interactive": {
          "language": "csharp"
        }
      },
      "outputs": [],
      "source": [
        "Type solver = typeof(BoSSS.Application.XNSEC.XNSEC);"
      ]
    },
    {
      "cell_type": "markdown",
      "metadata": {},
      "source": [
        "Calculate the full solution for the initial value"
      ]
    },
    {
      "cell_type": "code",
      "execution_count": null,
      "metadata": {
        "dotnet_interactive": {
          "language": "csharp"
        }
      },
      "outputs": [
        {
          "ename": "Error",
          "evalue": "(7,29): error CS0103: The name 'myDb' does not exist in the current context\r\n(13,25): error CS0103: The name 'GiveMeTheFullCtrlFile' does not exist in the current context\r\n(19,33): error CS0103: The name 'myBatch' does not exist in the current context",
          "output_type": "error",
          "traceback": [
            "(7,29): error CS0103: The name 'myDb' does not exist in the current context\r\n",
            "(13,25): error CS0103: The name 'GiveMeTheFullCtrlFile' does not exist in the current context\r\n",
            "(19,33): error CS0103: The name 'myBatch' does not exist in the current context"
          ]
        }
      ],
      "source": [
        "int counter = 0;\n",
        "if(!calculateOnlyMixtureFraction){\n",
        "foreach (double xDensityNodes in xCellsMultiplier){\n",
        "    foreach (int nCells in nCellsArray) {\n",
        "        foreach (int dg in DGDegrees) {\n",
        "            foreach (int i in multiplierS) {\n",
        "                var sess = (myDb.Sessions.Where(s => s.Name == \"FS_CoFlowFlameP\" + dgMF + \"K\" + nCells + \"Multiplier\" + i + \"xNodesMultiplier\" + xDensityNodes)).FirstOrDefault();\n",
        "                if(sess != null){\n",
        "                    Console.WriteLine(\"Restarting from session with name \" + sess.Name); \n",
        "                } else{\n",
        "                    Console.WriteLine(\"No session found for restart. Starting simulation without combustion\");\n",
        "                }\n",
        "                var C = GiveMeTheFullCtrlFile(dg, nCells, InitialMassFuelIn * i, InitialMassAirIn * i, sess, parabolicVelocityProfile, chemicalReactionActive, useFullGeometry, wallBounded, i, counter, xDensityNodes);\n",
        "                string jobName = C.SessionName;\n",
        "                Console.WriteLine(jobName);\n",
        "                var oneJob = new Job(jobName, solver);\n",
        "                oneJob.NumberOfMPIProcs = 12;\n",
        "                oneJob.SetControlObject(C);\n",
        "                oneJob.Activate(myBatch);\n",
        "                counter++;\n",
        "            }\n",
        "        }\n",
        "    }\n",
        "}\n",
        "}"
      ]
    },
    {
      "cell_type": "code",
      "execution_count": null,
      "metadata": {
        "dotnet_interactive": {
          "language": "csharp"
        }
      },
      "outputs": [],
      "source": []
    },
    {
      "cell_type": "code",
      "execution_count": null,
      "metadata": {
        "dotnet_interactive": {
          "language": "csharp"
        }
      },
      "outputs": [
        {
          "name": "stdout",
          "output_type": "stream",
          "text": [
            "All jobs finished.\r\n"
          ]
        }
      ],
      "source": [
        "// wait for all jobs to finish (up to 2 days, check every 10 minutes)\n",
        "BoSSSshell.WorkflowMgm.BlockUntilAllJobsTerminate(TimeOutSeconds:(3600*24*2), PollingIntervallSeconds:(60*10));"
      ]
    },
    {
      "cell_type": "code",
      "execution_count": null,
      "metadata": {
        "dotnet_interactive": {
          "language": "csharp"
        }
      },
      "outputs": [
        {
          "data": {
            "text/plain": []
          },
          "metadata": {},
          "output_type": "display_data"
        }
      ],
      "source": [
        "// detect failed Jobs in the job management\n",
        "var suspects = BoSSSshell.WorkflowMgm.AllJobs.Select(kv => kv.Value)\n",
        "    .Where(job => job.LatestSession.Tags.Contains(SessionInfo.NOT_TERMINATED_TAG)\n",
        "                  || job.LatestSession.Tags.Contains(SessionInfo.SOLVER_ERROR)).ToArray();\n",
        "suspects"
      ]
    },
    {
      "cell_type": "code",
      "execution_count": null,
      "metadata": {
        "dotnet_interactive": {
          "language": "csharp"
        }
      },
      "outputs": [],
      "source": [
        "NUnit.Framework.Assert.IsTrue(suspects.Count() <= 0, $\"{suspects.Count()} Failed Jobs of {BoSSSshell.WorkflowMgm.AllJobs.Count()} in total.\");"
      ]
    },
    {
      "cell_type": "code",
      "execution_count": null,
      "metadata": {
        "dotnet_interactive": {
          "language": "csharp"
        }
      },
      "outputs": [],
      "source": [
        "// // Delete all MF calculations\n",
        "// Console.WriteLine(\"Deleting mass fraction calculations\");\n",
        "// myDb.Sessions.Where(sess => sess.Name.Contains(\"FS\")).ForEach(sess=> sess.Delete(true))"
      ]
    },
    {
      "cell_type": "code",
      "execution_count": null,
      "metadata": {
        "dotnet_interactive": {
          "language": "csharp"
        }
      },
      "outputs": [],
      "source": []
    },
    {
      "cell_type": "code",
      "execution_count": null,
      "metadata": {
        "dotnet_interactive": {
          "language": "csharp"
        }
      },
      "outputs": [
        {
          "ename": "Error",
          "evalue": "(1,1): error CS0103: The name 'myDb' does not exist in the current context",
          "output_type": "error",
          "traceback": [
            "(1,1): error CS0103: The name 'myDb' does not exist in the current context"
          ]
        }
      ],
      "source": [
        "myDb.Sessions[0].Export().Do()"
      ]
    },
    {
      "cell_type": "code",
      "execution_count": null,
      "metadata": {
        "dotnet_interactive": {
          "language": "csharp"
        }
      },
      "outputs": [],
      "source": []
    }
  ],
  "metadata": {
    "interpreter": {
      "hash": "57baa5815c940fdaff4d14510622de9616cae602444507ba5d0b6727c008cbd6"
    },
    "kernelspec": {
      "display_name": ".NET (C#)",
      "language": "C#",
      "name": ".net-csharp"
    },
    "language_info": {
      "file_extension": ".cs",
      "mimetype": "text/x-csharp",
      "name": "C#",
      "pygments_lexer": "csharp",
      "version": "9.0"
    }
  },
  "nbformat": 4,
  "nbformat_minor": 4
}
