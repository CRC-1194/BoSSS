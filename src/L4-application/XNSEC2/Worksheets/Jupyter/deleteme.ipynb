{
  "cells": [
    {
      "cell_type": "code",
      "execution_count": null,
      "source": [
        "\r\n",
        "#r \"C:\\BoSSS\\experimental\\public\\src\\L4-application\\BoSSSpad\\bin\\Release\\net5.0\\bossspad.dll\"\r\n",
        "#r \"C:\\BoSSS\\experimental\\public\\src\\L4-application\\BoSSSpad\\bin\\Release\\net5.0\\XNSEC.dll\"\r\n",
        "using System;\r\n",
        "using System.Collections.Generic;\r\n",
        "using System.Linq;\r\n",
        "using System.IO;\r\n",
        "using System.Data;\r\n",
        "using System.Globalization;\r\n",
        "using System.Threading;\r\n",
        "using ilPSP;\r\n",
        "using ilPSP.Utils;\r\n",
        "using BoSSS.Platform;\r\n",
        "using BoSSS.Foundation;\r\n",
        "using BoSSS.Foundation.Grid;\r\n",
        "using BoSSS.Foundation.Grid.Classic;\r\n",
        "using BoSSS.Foundation.IO;\r\n",
        "using BoSSS.Solution;\r\n",
        "using BoSSS.Solution.Control;\r\n",
        "using BoSSS.Solution.GridImport;\r\n",
        "using BoSSS.Solution.Statistic;\r\n",
        "using BoSSS.Solution.Utils;\r\n",
        "using BoSSS.Solution.Gnuplot;\r\n",
        "using BoSSS.Application.BoSSSpad;\r\n",
        "using BoSSS.Application.XNSE_Solver;\r\n",
        "using static BoSSS.Application.BoSSSpad.BoSSSshell;\r\n",
        "using BoSSS.Foundation.Grid.RefElements;\r\n",
        "using BoSSS.Platform.LinAlg;\r\n",
        "using BoSSS.Solution.NSECommon;\r\n",
        "using BoSSS.Application.XNSEC;\r\n",
        "Init();"
      ],
      "outputs": [],
      "metadata": {
        "dotnet_interactive": {
          "language": "csharp"
        }
      }
    },
    {
      "cell_type": "markdown",
      "source": [
        "## Case configuration"
      ],
      "metadata": {}
    },
    {
      "cell_type": "code",
      "execution_count": null,
      "source": [
        "int nCells = 8;\r\n",
        "int dg = 2;\r\n",
        "double[] multiplierS = new double[] {1.0,2.0,3.0,4.0,5.0,6.0,7.0,8.0,9.0,10.0};\r\n",
        "double InitialMassFuelIn = 0.02400; //kg/m2s \r\n",
        "double InitialMassAirIn = 0.02400 *3; //kg/m2s \r\n",
        "bool parabolicVelocityProfile = false;\r\n",
        "bool chemicalReactionActive = true; \r\n",
        "int numberOfMpiCores = 8;\r\n",
        "bool useFullGeometry = false;\r\n",
        "bool wallBounded = false;"
      ],
      "outputs": [],
      "metadata": {
        "dotnet_interactive": {
          "language": "csharp"
        }
      }
    },
    {
      "cell_type": "markdown",
      "source": [
        "## Open Database"
      ],
      "metadata": {
        "dotnet_interactive": {
          "language": "csharp"
        }
      }
    },
    {
      "cell_type": "code",
      "execution_count": null,
      "source": [
        "// static var myDb = OpenOrCreateDatabase(@\"\\\\hpccluster\\hpccluster-scratch\\gutierrez\\CDF_ManualStrainSweep_limitedbounds_coarse\");\r\n",
        "//  static var myDb = OpenOrCreateDatabase(@\"C:\\Databases\\BoSSS_DB\");\r\n",
        "static var myDb = OpenOrCreateDatabase(@\"C:\\Users\\gutierrez\\default_bosss_db_comb_homotopyTest\");\r\n",
        "\r\n",
        "// myDb.Summary()"
      ],
      "outputs": [],
      "metadata": {
        "dotnet_interactive": {
          "language": "csharp"
        }
      }
    },
    {
      "cell_type": "code",
      "execution_count": null,
      "source": [
        "myDb.Sessions"
      ],
      "outputs": [
        {
          "output_type": "display_data",
          "data": {
            "text/plain": [
              "#0: CounterDifFlame\tFull_CounterDifFlameP1K6\t08/10/2021 18:01:40\t0b5458bf...\r\n",
              "#1: CounterDifFlame\tFull_CounterDifFlameP1K6\t08/10/2021 17:59:47\t8b6d5e1a...\r\n",
              "#2: CounterDifFlame\tFull_CounterDifFlameP1K6\t08/10/2021 16:52:17\t32221660...\r\n",
              "#3: CounterDifFlame\tFull_CounterDifFlameP1K6\t08/10/2021 16:50:34\td2cb5774...\r\n",
              "#4: CounterDifFlame\tFull_CounterDifFlameP1K6*\t08/10/2021 16:46:19\t65d436d0...\r\n",
              "#5: CounterDifFlame\tFull_CounterDifFlameP1K6*\t08/10/2021 16:43:11\t00bf3657...\r\n",
              "#6: CounterDifFlame\tFull_CounterDifFlameP1K6\t08/10/2021 15:40:51\tb60cbfcc...\r\n",
              "#7: CounterDifFlame\tFull_CounterDifFlameP1K6\t08/10/2021 15:39:08\td182aaed...\r\n"
            ]
          },
          "metadata": {}
        }
      ],
      "metadata": {
        "dotnet_interactive": {
          "language": "csharp"
        }
      }
    },
    {
      "cell_type": "code",
      "execution_count": null,
      "source": [
        "myDb.Sessions.Pick(0).Export().Do()"
      ],
      "outputs": [
        {
          "output_type": "display_data",
          "data": {
            "text/plain": [
              "Starting export process... "
            ]
          },
          "metadata": {}
        },
        {
          "output_type": "display_data",
          "data": {
            "text/plain": [
              "Data will be written to the following directory:\r\n"
            ]
          },
          "metadata": {}
        },
        {
          "output_type": "display_data",
          "data": {
            "text/plain": [
              "C:\\Users\\gutierrez\\AppData\\Local\\BoSSS\\plots\\sessions\\CounterDifFlame__Full_CounterDifFlameP1K6__0b5458bf-9d2f-4280-b76a-7677feb96b38"
            ]
          },
          "metadata": {}
        }
      ],
      "metadata": {
        "dotnet_interactive": {
          "language": "csharp"
        }
      }
    },
    {
      "cell_type": "code",
      "execution_count": null,
      "source": [
        "var FieldWithHomotopy = myDb.Sessions.Pick(0).Timesteps.Last().Fields.Where(f=>f.Identification == \"VelocityX\").LastOrDefault();"
      ],
      "outputs": [],
      "metadata": {
        "dotnet_interactive": {
          "language": "csharp"
        }
      }
    },
    {
      "cell_type": "code",
      "execution_count": null,
      "source": [
        "var FieldWithoutHomotopy = myDb.Sessions.Pick(1).Timesteps.Last().Fields.Where(f=>f.Identification == \"VelocityX\").LastOrDefault();"
      ],
      "outputs": [],
      "metadata": {
        "dotnet_interactive": {
          "language": "csharp"
        }
      }
    },
    {
      "cell_type": "code",
      "execution_count": null,
      "source": [
        "FieldWithHomotopy.L2Norm()-FieldWithoutHomotopy.L2Norm()"
      ],
      "outputs": [
        {
          "output_type": "display_data",
          "data": {
            "text/html": [
              "<div class=\"dni-plaintext\">-2.8580915412135255E-11</div>"
            ]
          },
          "metadata": {}
        }
      ],
      "metadata": {
        "dotnet_interactive": {
          "language": "csharp"
        }
      }
    },
    {
      "cell_type": "code",
      "execution_count": null,
      "source": [],
      "outputs": [],
      "metadata": {
        "dotnet_interactive": {
          "language": "csharp"
        }
      }
    },
    {
      "cell_type": "code",
      "execution_count": null,
      "source": [
        "myDb.Sessions.Pick(1).Export().Do()"
      ],
      "outputs": [
        {
          "output_type": "display_data",
          "data": {
            "text/plain": [
              "Starting export process... "
            ]
          },
          "metadata": {}
        },
        {
          "output_type": "display_data",
          "data": {
            "text/plain": [
              "Data will be written to the following directory:\r\n"
            ]
          },
          "metadata": {}
        },
        {
          "output_type": "display_data",
          "data": {
            "text/plain": [
              "C:\\Users\\gutierrez\\AppData\\Local\\BoSSS\\plots\\sessions\\CounterDifFlame__Full_CounterDifFlameP1K6__8b6d5e1a-a670-473d-8b1d-25f65c21cd88"
            ]
          },
          "metadata": {}
        }
      ],
      "metadata": {
        "dotnet_interactive": {
          "language": "csharp"
        }
      }
    },
    {
      "cell_type": "code",
      "execution_count": null,
      "source": [
        "BoSSSshell.WorkflowMgm.Init(\"CounterFlowFlame2\");\r\n",
        "BoSSSshell.WorkflowMgm.SetNameBasedSessionJobControlCorrelation();\r\n",
        "BoSSSshell.WorkflowMgm.Sessions\r\n"
      ],
      "outputs": [
        {
          "output_type": "display_data",
          "data": {
            "text/plain": [
              "Project name is set to 'CounterFlowFlame2'.\r\n"
            ]
          },
          "metadata": {}
        },
        {
          "output_type": "display_data",
          "data": {
            "text/plain": []
          },
          "metadata": {}
        }
      ],
      "metadata": {
        "dotnet_interactive": {
          "language": "csharp"
        }
      }
    },
    {
      "cell_type": "code",
      "execution_count": null,
      "source": [
        "myDb.Sessions[4].Export().Do()"
      ],
      "outputs": [
        {
          "output_type": "display_data",
          "data": {
            "text/plain": [
              "Starting export process... "
            ]
          },
          "metadata": {}
        },
        {
          "output_type": "display_data",
          "data": {
            "text/plain": [
              "Data will be written to the following directory:\r\n"
            ]
          },
          "metadata": {}
        },
        {
          "output_type": "display_data",
          "data": {
            "text/plain": [
              "C:\\Users\\gutierrez\\AppData\\Local\\BoSSS\\plots\\sessions\\CounterFlowFlame2__Full_CounterDifFlameP2K8mult1_c0__5ada160e-59d4-4953-aeee-76addc302e34"
            ]
          },
          "metadata": {}
        }
      ],
      "metadata": {
        "dotnet_interactive": {
          "language": "csharp"
        }
      }
    },
    {
      "cell_type": "code",
      "execution_count": null,
      "source": [
        "myDb.Sessions"
      ],
      "outputs": [
        {
          "output_type": "display_data",
          "data": {
            "text/plain": [
              "#0: CounterFlowFlame2\tFull_CounterDifFlameP2K8mult10_c4*\t08/02/2021 08:43:34\tae3cb2cb...\r\n",
              "#1: CounterFlowFlame2\tFull_CounterDifFlameP2K8mult8_c3*\t08/02/2021 08:43:16\t15ffc99d...\r\n",
              "#2: CounterFlowFlame2\tFull_CounterDifFlameP2K8mult6_c2*\t08/02/2021 08:42:57\t3d5f3cd8...\r\n",
              "#3: CounterFlowFlame2\tFull_CounterDifFlameP2K8mult4_c1*\t08/02/2021 08:42:37\t284f11dc...\r\n",
              "#4: CounterFlowFlame2\tFull_CounterDifFlameP2K8mult1_c0*\t08/02/2021 08:42:18\t5ada160e...\r\n",
              "#5: CounterFlowFlame\tFull_CounterDifFlameP2K8mult10_c4*\t08/02/2021 08:24:36\t9a81d1c4...\r\n",
              "#6: CounterFlowFlame\tFull_CounterDifFlameP2K8mult8_c3*\t08/02/2021 08:24:13\t4005eb18...\r\n",
              "#7: CounterFlowFlame\tFull_CounterDifFlameP2K8mult6_c2*\t08/02/2021 08:23:53\t25f5e95c...\r\n",
              "#8: CounterFlowFlame\tFull_CounterDifFlameP2K8mult4_c1*\t08/02/2021 08:23:33\t12118bb6...\r\n",
              "#9: CounterFlowFlame\tFull_CounterDifFlameP2K8mult1_c0*\t08/02/2021 08:23:11\t657f1da5...\r\n",
              "#10: CounterFlowFlame\tFS_CounterDifFlameP2K8Multiplier10\t08/01/2021 23:43:17\td106b358...\r\n",
              "#11: CounterFlowFlame\tFS_CounterDifFlameP2K8Multiplier6\t08/01/2021 23:42:40\tf3dd60ba...\r\n",
              "#12: CounterFlowFlame\tFS_CounterDifFlameP2K8Multiplier4\t08/01/2021 23:42:22\t9e191919...\r\n",
              "#13: CounterFlowFlame\tFS_CounterDifFlameP2K8Multiplier8\t08/01/2021 23:42:58\ta6d1f159...\r\n",
              "#14: CounterFlowFlame\tFS_CounterDifFlameP2K8Multiplier1\t08/01/2021 23:42:04\tfe84d6c6...\r\n"
            ]
          },
          "metadata": {}
        }
      ],
      "metadata": {
        "dotnet_interactive": {
          "language": "csharp"
        }
      }
    },
    {
      "cell_type": "code",
      "execution_count": null,
      "source": [
        "var myBatch = BoSSSshell.ExecutionQueues[3];\r\n",
        "// MiniBatchProcessor.Server.StartIfNotRunning(true);\r\n",
        "myBatch.AllowedDatabasesPaths.Add(new AllowedDatabasesPair(myDb.Path,\"\"));"
      ],
      "outputs": [
        {
          "output_type": "display_data",
          "data": {
            "text/plain": [
              "Opening existing database '\\\\hpccluster\\hpccluster-scratch\\gutierrez\\CDF_ManualStrainSweep_limitedbounds_coarse'.\r\n"
            ]
          },
          "metadata": {}
        }
      ],
      "metadata": {
        "dotnet_interactive": {
          "language": "csharp"
        }
      }
    },
    {
      "cell_type": "code",
      "execution_count": null,
      "source": [
        "myDb.Sessions"
      ],
      "outputs": [
        {
          "output_type": "display_data",
          "data": {
            "text/plain": [
              "#0: CounterFlowFlame2\tFull_CounterDifFlameP2K8mult1_c0*\t07/30/2021 13:50:35\td4f33b60...\r\n",
              "#1: CounterFlowFlame2\tFS_CounterDifFlameP2K8Multiplier4\t07/30/2021 13:30:44\tbff14c4b...\r\n",
              "#2: CounterFlowFlame2\tFS_CounterDifFlameP2K8Multiplier10*\t07/30/2021 13:35:19\t101d4330...\r\n",
              "#3: CounterFlowFlame2\tFS_CounterDifFlameP2K8Multiplier9*\t07/30/2021 13:35:08\t6cbbdfe1...\r\n",
              "#4: CounterFlowFlame2\tFS_CounterDifFlameP2K8Multiplier1\t07/30/2021 13:29:02\t6bd66f30...\r\n",
              "#5: CounterFlowFlame2\tFS_CounterDifFlameP2K8Multiplier8*\t07/30/2021 13:33:32\tf4204cf3...\r\n",
              "#6: CounterFlowFlame2\tFS_CounterDifFlameP2K8Multiplier7*\t07/30/2021 13:33:24\tf6bdf17a...\r\n",
              "#7: CounterFlowFlame2\tFS_CounterDifFlameP2K8Multiplier3\t07/30/2021 13:29:39\t67266886...\r\n",
              "#8: CounterFlowFlame2\tFS_CounterDifFlameP2K8Multiplier2\t07/30/2021 13:29:20\t769d3e43...\r\n",
              "#9: CounterFlowFlame2\tFS_CounterDifFlameP2K8Multiplier6*\t07/30/2021 13:31:28\t5b89fc94...\r\n",
              "#10: CounterFlowFlame2\tFS_CounterDifFlameP2K8Multiplier5*\t07/30/2021 13:30:46\tb596b032...\r\n"
            ]
          },
          "metadata": {}
        }
      ],
      "metadata": {
        "dotnet_interactive": {
          "language": "csharp"
        }
      }
    },
    {
      "cell_type": "markdown",
      "source": [
        "## Create grid"
      ],
      "metadata": {}
    },
    {
      "cell_type": "code",
      "execution_count": null,
      "source": [
        "public static class GridFactory {\r\n",
        "\r\n",
        "    public static Grid2D GenerateGrid(int nCells, bool wallBounded) {\r\n",
        "        double L = 0.02;\r\n",
        "        double LRef = L;\r\n",
        "        double R_dim = L / 2;\r\n",
        "        double separation = 1.0; // nondimensional\r\n",
        "        double xleft = 0;\r\n",
        "        double xright = separation;\r\n",
        "        double radius_inlet = R_dim / LRef;\r\n",
        "        double ybot = -separation * 3; \r\n",
        "        double ytop = separation * 3; \r\n",
        "\r\n",
        "        // Define Grid\r\n",
        "        double[] _xNodes;\r\n",
        "        double[] _yNodes;\r\n",
        "\r\n",
        "        // X-NODES\r\n",
        "        double xNodesDensity = 2.5; \r\n",
        "        _xNodes = GenericBlas.Linspace(xleft, xright, (int)(nCells * xNodesDensity + 1));\r\n",
        "        // Y-NODES\r\n",
        "        double sf3 = 0.80;\r\n",
        "        var _yNodes2 = GenericBlas.Linspace(-radius_inlet, radius_inlet, nCells + 1).ToList(); // center\r\n",
        "        Console.WriteLine(_yNodes2);\r\n",
        "        List<double> yNodesTop = (GenericBlas.SinLinSpacing(radius_inlet, (ytop - radius_inlet) * 2 + radius_inlet, sf3, nCells * 2 + 1).ToList()); // Nodes corresponding to the oxidizer inlet, right part\r\n",
        "        var myYnodesTop = yNodesTop.GetSubVector(0, yNodesTop.Count / 2 + 1); // Take only \"bottom side\" of node array\r\n",
        "        var myYNodesBot = myYnodesTop.CloneAs();\r\n",
        "        myYNodesBot.ScaleV(-1.0);\r\n",
        "        Array.Reverse(myYNodesBot);\r\n",
        "        List<double> list2 = new List<double>();\r\n",
        "        list2.AddRange(myYNodesBot.Take(myYNodesBot.Length - 1).ToList());\r\n",
        "        list2.AddRange(_yNodes2.Take(_yNodes2.Count() - 1).ToList());\r\n",
        "        list2.AddRange(myYnodesTop.ToList());\r\n",
        "        _yNodes = list2.ToArray();\r\n",
        "\r\n",
        "        var grd = Grid2D.Cartesian2DGrid(_xNodes, _yNodes);\r\n",
        "\r\n",
        "        // Define Edge tags\r\n",
        "        grd.EdgeTagNames.Add(1, \"Velocity_Inlet_CH4\");\r\n",
        "        grd.EdgeTagNames.Add(2, \"Velocity_Inlet_O2\");\r\n",
        "        grd.EdgeTagNames.Add(3, \"Pressure_Outlet\");\r\n",
        "\r\n",
        "        if(wallBounded){\r\n",
        "            grd.EdgeTagNames.Add(4, \"Wall\");\r\n",
        "        }\r\n",
        "        grd.DefineEdgeTags(delegate (double[] X) {\r\n",
        "            double x = X[0];\r\n",
        "            double y = X[1];\r\n",
        "            //Edge tags\r\n",
        "            //1: Velocity inlet O_2\r\n",
        "            //2: Velocity inlet CH_4\r\n",
        "            //3: Pressure outlet\r\n",
        "            if(Math.Abs(x - xleft) < 1e-8) { // Left boundary\r\n",
        "                if(Math.Abs(y) - radius_inlet < 1e-8) { // Fuel Inlet\r\n",
        "                    return 1;\r\n",
        "                } else {\r\n",
        "                    if(wallBounded){\r\n",
        "                    return 4;\r\n",
        "                } else{\r\n",
        "                    return 3;\r\n",
        "                }\r\n",
        "                }\r\n",
        "            }\r\n",
        "            if(Math.Abs(x - xright) < 1e-8) { // right boundary\r\n",
        "                if(Math.Abs(y) - radius_inlet < 1e-8) { // oxy Inlet\r\n",
        "                    return 2;//2\r\n",
        "                } else {\r\n",
        "                    if(wallBounded){\r\n",
        "                        return 4;\r\n",
        "                    } else{\r\n",
        "                        return 3;\r\n",
        "                    }\r\n",
        "                }\r\n",
        "            } else {\r\n",
        "                return 3; //3 Pressure outlet\r\n",
        "            }\r\n",
        "        });\r\n",
        "        myDb.SaveGrid(ref grd, true);\r\n",
        "\r\n",
        "        return grd;\r\n",
        "    }\r\n",
        "\r\n",
        "    public static Grid2D GenerateGrid_FullGeometry(int nCells) {\r\n",
        "        double L = 0.02;\r\n",
        "        double LRef = L;\r\n",
        "        double R_dim = L / 2;\r\n",
        "        double separation = 1.0; // nondimensional\r\n",
        "        double xleft = 0;\r\n",
        "        double xright = separation;\r\n",
        "        double radius_inlet = R_dim / LRef;\r\n",
        "        double ybot = -separation * 3; //\r\n",
        "        double ytop = separation * 3;//\r\n",
        "\r\n",
        "        // Define Grid\r\n",
        "        double[] _xNodes;\r\n",
        "        double[] _yNodes;\r\n",
        "\r\n",
        "         // X-NODES\r\n",
        "        double[] XNODES1 = GenericBlas.Linspace(0, separation, (int)(nCells / 2 + 1));\r\n",
        "        double[] XNODES2 = GenericBlas.Linspace(separation * 1, separation * 2, (int)(nCells + 1));\r\n",
        "        double[] XNODES3 = GenericBlas.Linspace(separation * 2, separation * 3, (int)(nCells / 2 + 1));\r\n",
        "        List<double> xNodesList = new List<double>();\r\n",
        "        xNodesList.AddRange(XNODES1.Take(XNODES1.Length - 1));\r\n",
        "        xNodesList.AddRange(XNODES2.Take(XNODES2.Length - 1));\r\n",
        "        xNodesList.AddRange(XNODES3);\r\n",
        "        _xNodes = xNodesList.ToArray();\r\n",
        "\r\n",
        "        // Y-NODES\r\n",
        "        double sf3 = 0.80;\r\n",
        "        var _yNodes2 = GenericBlas.Linspace(-radius_inlet, radius_inlet, nCells + 1).ToList(); // center\r\n",
        "        List<double> yNodesTop = (GenericBlas.SinLinSpacing(radius_inlet, (ytop - radius_inlet) * 2 + radius_inlet, sf3, nCells * 2 + 1).ToList()); // Nodes corresponding to the oxidizer inlet, right part\r\n",
        "        var myYnodesTop = yNodesTop.GetSubVector(0, yNodesTop.Count / 2 + 1); // Take only \"bottom side\" of node array\r\n",
        "        var myYNodesBot = myYnodesTop.CloneAs();\r\n",
        "        myYNodesBot.ScaleV(-1.0);\r\n",
        "        Array.Reverse(myYNodesBot);\r\n",
        "        List<double> list2 = new List<double>();\r\n",
        "        list2.AddRange(myYNodesBot.Take(myYNodesBot.Length - 1).ToList());\r\n",
        "        list2.AddRange(_yNodes2.Take(_yNodes2.Count() - 1).ToList());\r\n",
        "        list2.AddRange(myYnodesTop.ToList());\r\n",
        "        _yNodes = list2.ToArray();\r\n",
        "\r\n",
        "        double[] CutOut1Point1 = new double[2] { separation, separation / 2 };\r\n",
        "        double[] CutOut1Point2 = new double[2] { 0, -separation / 2 };\r\n",
        "\r\n",
        "        double[] CutOut2Point1 = new double[2] { 2 * separation, -separation / 2 };\r\n",
        "        double[] CutOut2Point2 = new double[2] { 3 * separation, separation / 2 };\r\n",
        "\r\n",
        "        var CutOut1 = new BoSSS.Platform.Utils.Geom.BoundingBox(2);\r\n",
        "        CutOut1.AddPoint(CutOut1Point1);\r\n",
        "        CutOut1.AddPoint(CutOut1Point2);\r\n",
        "\r\n",
        "        var CutOut2 = new BoSSS.Platform.Utils.Geom.BoundingBox(2);\r\n",
        "        CutOut2.AddPoint(CutOut2Point1);\r\n",
        "        CutOut2.AddPoint(CutOut2Point2);\r\n",
        "        var CutOuts = new BoSSS.Platform.Utils.Geom.BoundingBox[] { CutOut1, CutOut2 };\r\n",
        "        var grd = Grid2D.Cartesian2DGrid(_xNodes, _yNodes, CutOuts: CutOuts);\r\n",
        "\r\n",
        "        grd.EdgeTagNames.Add(1, \"Velocity_Inlet_CH4\");\r\n",
        "        grd.EdgeTagNames.Add(2, \"Velocity_Inlet_O2\");\r\n",
        "        grd.EdgeTagNames.Add(3, \"Pressure_Outlet\");\r\n",
        "        grd.EdgeTagNames.Add(4, \"Wall\");\r\n",
        "\r\n",
        "        grd.DefineEdgeTags(delegate (double[] X) {\r\n",
        "            double x = X[0];\r\n",
        "            double y = X[1];\r\n",
        "            //Edge tags\r\n",
        "            //1: Velocity inlet O_2\r\n",
        "            //2: Velocity inlet CH_4\r\n",
        "            //3: Pressure outlet\r\n",
        "            if(Math.Abs(x - separation) < 1e-8 && Math.Abs(y) - radius_inlet < 1e-8) {\r\n",
        "                return 1;\r\n",
        "            }\r\n",
        "            if(Math.Abs(x - 2 * separation) < 1e-8 && Math.Abs(y) - radius_inlet < 1e-8) {\r\n",
        "                return 2;\r\n",
        "            }\r\n",
        "            if(Math.Abs(y - radius_inlet) < 1e-8 && x > 0 && x < separation) {\r\n",
        "                return 4;\r\n",
        "            }\r\n",
        "            if(Math.Abs(y - radius_inlet) < 1e-8 && x > 2 * separation && x < 3 * separation) {\r\n",
        "                return 4;\r\n",
        "            }\r\n",
        "            if(Math.Abs(y + radius_inlet) < 1e-8 && x > 0 && x < separation) {\r\n",
        "                return 4;\r\n",
        "            }\r\n",
        "            if(Math.Abs(y + radius_inlet) < 1e-8 && x > 2 * separation && x < 3 * separation) {\r\n",
        "                return 4;\r\n",
        "            }\r\n",
        "            return 3;\r\n",
        "        }\r\n",
        "        );\r\n",
        "        myDb.SaveGrid(ref grd, true);\r\n",
        "\r\n",
        "        return grd;\r\n",
        "    }\r\n",
        "}"
      ],
      "outputs": [],
      "metadata": {
        "dotnet_interactive": {
          "language": "csharp"
        }
      }
    },
    {
      "cell_type": "code",
      "execution_count": null,
      "source": [
        "public static class BoundaryValueFactory { \r\n",
        "\r\n",
        "    public static string GetPrefixCode(double ConstVal, double inletRadius, double uInFuel, double uInAir) {\r\n",
        "        using(var stw = new System.IO.StringWriter()) {\r\n",
        "           \r\n",
        "           stw.WriteLine(\"static class BoundaryValues {\");\r\n",
        "\r\n",
        "           stw.WriteLine(\"  static public double ConstantValue(double[] X) {\");\r\n",
        "           stw.WriteLine(\"    return \"+ ConstVal +\";\");\r\n",
        "           stw.WriteLine(\"  }\");\r\n",
        "\r\n",
        "           stw.WriteLine(\"  static public double ParabolaVelocityFuel(double[] X) {\");\r\n",
        "           stw.WriteLine(\"    return  (1.0 - Math.Pow(X[1] / \"+inletRadius+\", 2)) * \"+uInFuel+\" ;\");\r\n",
        "           stw.WriteLine(\"  }\");\r\n",
        "           \r\n",
        "           stw.WriteLine(\"  static public double ParabolaVelocityAir(double[] X) {\");\r\n",
        "           stw.WriteLine(\"    return  -(1.0 - Math.Pow(X[1] / \"+inletRadius+\", 2)) * \"+uInAir+\";\");\r\n",
        "           stw.WriteLine(\"  }\");\r\n",
        "           \r\n",
        "       \r\n",
        "            stw.WriteLine(\"}\"); \r\n",
        "           return stw.ToString();\r\n",
        "        }\r\n",
        "    }\r\n",
        "\r\n",
        "    static public Formula Get_ConstantValue(double ConstVal, double inletRadius, double uInFuel, double uInAir){\r\n",
        "        return new Formula(\"BoundaryValues.ConstantValue\", AdditionalPrefixCode:GetPrefixCode(ConstVal, inletRadius, uInFuel, uInAir));\r\n",
        "    }\r\n",
        "\r\n",
        "    static public Formula Get_ParabolaVelocityFuel(double ConstVal, double inletRadius, double uInFuel, double uInAir){\r\n",
        "        return new Formula(\"BoundaryValues.ParabolaVelocityFuel\", AdditionalPrefixCode:GetPrefixCode(ConstVal, inletRadius, uInFuel, uInAir));\r\n",
        "    }\r\n",
        "    static public Formula Get_ParabolaVelocityAir(double ConstVal, double inletRadius, double uInFuel, double uInAir){\r\n",
        "        return new Formula(\"BoundaryValues.ParabolaVelocityAir\", AdditionalPrefixCode:GetPrefixCode(ConstVal, inletRadius, uInFuel, uInAir));\r\n",
        "    }\r\n",
        "}"
      ],
      "outputs": [],
      "metadata": {
        "dotnet_interactive": {
          "language": "csharp"
        }
      }
    },
    {
      "cell_type": "markdown",
      "source": [
        "A base control file, where basic configuration of the CounterDiffusionFlame is defined."
      ],
      "metadata": {}
    },
    {
      "cell_type": "code",
      "execution_count": null,
      "source": [
        "static XNSEC_Control GiveMeTheCtrlFile(int dg, int nCells, bool isMF, double massFuelIn, double massAirIn, bool parabolicVelocityProfile, bool UsefullGeometry, bool wallBounded) {\r\n",
        "    var CC = new ChemicalConstants();\r\n",
        "\r\n",
        "    var C = isMF ? new XNSEC_MF_Control() : new XNSEC_Control();\r\n",
        "\r\n",
        "    C.NumberOfChemicalSpecies = 4; \r\n",
        "    C.SetDGdegree(dg); //\r\n",
        "    if(UsefullGeometry) {\r\n",
        "        C.SetGrid(GridFactory.GenerateGrid_FullGeometry(nCells));  //\r\n",
        "    } else {\r\n",
        "        C.SetGrid(GridFactory.GenerateGrid(nCells, wallBounded));  //\r\n",
        "    }\r\n",
        "\r\n",
        "    C.MatParamsMode = MaterialParamsMode.Sutherland;  //\r\n",
        "    // Problem Definition\r\n",
        "    //===================\r\n",
        "    double L = 0.02; // separation between the two inlets, meters\r\n",
        "    double TemperatureInFuel = 300;  //\r\n",
        "    double TemperatureInOxidizer = 300; //\r\n",
        "    double AtmPressure = 101325; // Pa\r\n",
        "    double[] FuelInletConcentrations = new double[] { 0.2, 0.0, 0.0, 0.0, 0.8 };\r\n",
        "    double[] OxidizerInletConcentrations = new double[] { 0.0, 0.23, 0.0, 0.0, 0.77 }; //\r\n",
        "    double[] MWs = new double[] { CC.MW_CH4, CC.MW_O2, CC.MW_CO2, CC.MW_H2O, CC.MW_N2 };\r\n",
        "\r\n",
        "    double mwFuel = CC.getAvgMW(MWs, FuelInletConcentrations);\r\n",
        "    double mwAir = CC.getAvgMW(MWs, OxidizerInletConcentrations);\r\n",
        "    double densityAirIn = AtmPressure * mwAir / (CC.R_gas * TemperatureInOxidizer * 1000); // kg / m3\r\n",
        "    double densityFuelIn = AtmPressure * mwFuel / (CC.R_gas * TemperatureInFuel * 1000); // kg / m3.\r\n",
        "    double uInFuel = massFuelIn / densityFuelIn; //\r\n",
        "    double uInAir = massAirIn / densityAirIn; //\r\n",
        "\r\n",
        "    Console.WriteLine(\"VelocityFuel\" + uInFuel);\r\n",
        "    Console.WriteLine(\"VelocityAir\" + uInAir);\r\n",
        "\r\n",
        "    // Reference values\r\n",
        "    //===================\r\n",
        "    // Basic units to be used: Kg, m, s, mol, pa,\r\n",
        "    double TRef = TemperatureInOxidizer;// Reference temperature  is the inlet temperature, (K)\r\n",
        "    double pRef = AtmPressure; // Pa\r\n",
        "    double uRef = Math.Max(uInFuel, uInAir); // m/s\r\n",
        "    double LRef = L;\r\n",
        "    C.GravityDirection = new double[] { 0.0, 0.0, 0.0 }; //No gravity.\r\n",
        "\r\n",
        "    // Solver configuration\r\n",
        "    // =======================\r\n",
        "\r\n",
        "    C.NonLinearSolver.ConvergenceCriterion = 1e-8;\r\n",
        "    C.LinearSolver.ConvergenceCriterion = 1e-10;\r\n",
        "\r\n",
        "    C.NonLinearSolver.verbose = true;\r\n",
        "    C.NonLinearSolver.SolverCode = NonLinearSolverCode.Newton;\r\n",
        "    C.NonLinearSolver.MaxSolverIterations = 10;\r\n",
        "    C.LinearSolver.SolverCode = LinearSolverCode.classic_pardiso;\r\n",
        "\r\n",
        "    C.TimesteppingMode = AppControl._TimesteppingMode.Steady;\r\n",
        "    C.saveperiod = 1;\r\n",
        "    C.PenaltyViscMomentum = 1.0;\r\n",
        "    C.PenaltyHeatConduction = 1.0;\r\n",
        "    C.YFuelInlet = FuelInletConcentrations[0];\r\n",
        "    C.YOxInlet = OxidizerInletConcentrations[1];\r\n",
        "    C.FuelInletConcentrations = FuelInletConcentrations;\r\n",
        "    C.OxidizerInletConcentrations = OxidizerInletConcentrations;\r\n",
        "    C.TFuelInlet = 1.0;\r\n",
        "    C.TOxInlet = 1.0;\r\n",
        "    C.PhysicalParameters.IncludeConvection = true;\r\n",
        "    // Chemical related parameters\r\n",
        "    double s = (CC.nu_O2 * CC.MW_O2) / (CC.nu_CH4 * CC.MW_CH4);\r\n",
        "    C.phi = s * C.YFuelInlet / C.YOxInlet;\r\n",
        "    C.zSt = 1.0 / (1.0 + C.phi);\r\n",
        "    var MLC = new MaterialLawCombustion(300, new double[] { }, C.MatParamsMode, C.rhoOne, true, 1.0, 1, 1, C.YOxInlet, C.YFuelInlet, C.zSt, CC, 0.75);\r\n",
        "    var ThermoProperties = new ThermodynamicalProperties();\r\n",
        "\r\n",
        "\r\n",
        "\r\n",
        "    bool easymode = false;\r\n",
        "\r\n",
        "    if (easymode){\r\n",
        "    C.rhoOne = true;\r\n",
        "    C.cpOne = true;\r\n",
        "    C.MatParamsMode = MaterialParamsMode.Constant; \r\n",
        "\r\n",
        "    } \r\n",
        "\r\n",
        "\r\n",
        "\r\n",
        "\r\n",
        "\r\n",
        "\r\n",
        "    //==========================\r\n",
        "    //Derived reference values\r\n",
        "    //==========================\r\n",
        "    C.uRef = uRef; // Reference velocity\r\n",
        "    C.LRef = LRef; // reference length\r\n",
        "    C.pRef = AtmPressure; // reference pressure\r\n",
        "    C.TRef = TemperatureInFuel;// reference temperature\r\n",
        "    C.MWRef = MLC.getAvgMW(MWs, C.OxidizerInletConcentrations); // Air mean molecular weight\r\n",
        "    C.rhoRef = C.pRef * C.MWRef / (8.314 * C.TRef * 1000); // Kg/m3. ok ;\r\n",
        "    C.cpRef = ThermoProperties.Calculate_Cp_Mixture(new double[] { 0.23, 0.77 }, new string[] { \"O2\", \"N2\" }, 300); // 1.219185317353029;// Representative value, KJ/Kg K ========> 1.31 for the one-step kinetic model\r\n",
        "    C.muRef = MLC.getViscosityDim(300);\r\n",
        "    C.MolarMasses = new double[] { C.CC.MW_CH4, C.CC.MW_O2, C.CC.MW_CO2, C.CC.MW_H2O, C.CC.MW_N2 };\r\n",
        "    C.MolarMasses.ScaleV(1.0 / C.MWRef); //NonDimensionalized Molar masses\r\n",
        "\r\n",
        "    double heatRelease_Ref = (C.TRef * C.cpRef);\r\n",
        "    C.HeatRelease = C.CC.HeatReleaseMass / heatRelease_Ref;\r\n",
        "    C.B = CC.PreExponentialFactor;\r\n",
        "\r\n",
        "    C.StoichiometricCoefficients = new double[] { -1, -2, 1, 2, 0 };\r\n",
        "\r\n",
        "    C.Damk = C.rhoRef * C.LRef * C.B / (C.uRef * C.MWRef);\r\n",
        "    C.Reynolds = C.rhoRef * C.uRef * C.LRef / C.muRef;\r\n",
        "    C.Prandtl = 1.0;//0.75;////////////////////0.75;\r\n",
        "    C.Schmidt = C.Prandtl; // Because Lewis number  is assumed as 1.0  (Le = Pr/Sc)\r\n",
        "    // C.Lewis = new double[] { 0.97, 1.11, 1.39, 0.83, 1.0 };\r\n",
        "    C.Lewis = new double[] { 1.0, 1.0, 1.0, 1.0, 1.0 };\r\n",
        "\r\n",
        "    double g = 9.8; // m/s2\r\n",
        "    C.Froude = Math.Sqrt(uRef * uRef / (C.LRef * g)); // Not used\r\n",
        "    C.T_ref_Sutherland = 300; //////// Check this\r\n",
        "    C.ReactionRateConstants = new double[] { C.Damk, CC.Ta / TRef, 1.0, 1.0 }; // NOTE! activation temperature is also nondimensional\r\n",
        "    //==========================\r\n",
        "    // Initial conditions\r\n",
        "    //==========================\r\n",
        "    double Radius = 0.5;\r\n",
        "    C.AddInitialValue(VariableNames.VelocityX, BoundaryValueFactory.Get_ConstantValue(0.0, Radius, uInFuel / C.uRef, uInAir / C.uRef));\r\n",
        "    C.AddInitialValue(VariableNames.VelocityY, BoundaryValueFactory.Get_ConstantValue(0.0, Radius, uInFuel / C.uRef, uInAir / C.uRef));\r\n",
        "    C.AddInitialValue(VariableNames.Pressure, BoundaryValueFactory.Get_ConstantValue(0.0, Radius, uInFuel / C.uRef, uInAir / C.uRef));\r\n",
        "    //==========================\r\n",
        "    // Boundary conditions\r\n",
        "    //==========================\r\n",
        "    double dummy = 0;\r\n",
        "    if(parabolicVelocityProfile) {\r\n",
        "        C.AddBoundaryValue(\"Velocity_Inlet_CH4\", VariableNames.Velocity_d(0), BoundaryValueFactory.Get_ParabolaVelocityFuel(dummy, Radius, uInFuel / C.uRef, dummy));\r\n",
        "        C.AddBoundaryValue(\"Velocity_Inlet_O2\", VariableNames.Velocity_d(0), BoundaryValueFactory.Get_ParabolaVelocityAir(dummy, Radius, dummy, uInAir / C.uRef));\r\n",
        "    } else { // Plug Flow\r\n",
        "        C.AddBoundaryValue(\"Velocity_Inlet_CH4\", VariableNames.Velocity_d(0), BoundaryValueFactory.Get_ConstantValue(uInFuel / C.uRef, dummy, dummy, dummy));\r\n",
        "        C.AddBoundaryValue(\"Velocity_Inlet_O2\", VariableNames.Velocity_d(0), BoundaryValueFactory.Get_ConstantValue((-1) * uInAir / C.uRef, dummy, dummy, dummy));\r\n",
        "    }\r\n",
        "\r\n",
        "    C.AddBoundaryValue(\"Velocity_Inlet_CH4\", VariableNames.Velocity_d(1), BoundaryValueFactory.Get_ConstantValue(0.0, dummy, dummy, dummy));\r\n",
        "    C.AddBoundaryValue(\"Velocity_Inlet_O2\", VariableNames.Velocity_d(1), BoundaryValueFactory.Get_ConstantValue(0.0, dummy, dummy, dummy));\r\n",
        "    if(wallBounded){\r\n",
        "        C.AddBoundaryValue(\"Wall\", VariableNames.VelocityX, BoundaryValueFactory.Get_ConstantValue(0.0, dummy, dummy, dummy));\r\n",
        "        C.AddBoundaryValue(\"Wall\", VariableNames.VelocityY, BoundaryValueFactory.Get_ConstantValue(0.0, dummy, dummy, dummy));\r\n",
        "    }\r\n",
        "    return C;\r\n",
        "}"
      ],
      "outputs": [],
      "metadata": {
        "dotnet_interactive": {
          "language": "csharp"
        }
      }
    },
    {
      "cell_type": "markdown",
      "source": [
        "## Starting the MixtureFraction simulation\r\n",
        "Configuration  for the simulation using the mixture fraction approach, where an infinite reaction rate is assumed. Used to find adequate starting solution for the full problem."
      ],
      "metadata": {}
    },
    {
      "cell_type": "code",
      "execution_count": null,
      "source": [
        "static XNSEC_Control GiveMeTheMixtureFractionCtrlFile(int dg, int nCells, double massFuelIn, double massAirIn, bool parabolicVelocityProfile, int multiplier, bool useFullGeometry, bool wallBounded){\r\n",
        "    var C_MixtureFraction = GiveMeTheCtrlFile(dg, nCells, true,massFuelIn, massAirIn, parabolicVelocityProfile, useFullGeometry,  wallBounded );\r\n",
        "    C_MixtureFraction.physicsMode = PhysicsMode.MixtureFraction;\r\n",
        "    C_MixtureFraction.ProjectName = \"CounterDifFlame\";\r\n",
        "    string name = C_MixtureFraction.ProjectName + \"P\" + dg + \"K\" + nCells + \"Multiplier\" +multiplier;\r\n",
        "    C_MixtureFraction.SessionName = \"FS_\" + name;\r\n",
        "\r\n",
        "    C_MixtureFraction.UseSelfMadeTemporalOperator = false;\r\n",
        "    C_MixtureFraction.ChemicalReactionActive = false;\r\n",
        "    C_MixtureFraction.physicsMode = PhysicsMode.MixtureFraction;\r\n",
        "    C_MixtureFraction.NonLinearSolver.MaxSolverIterations = 50; \r\n",
        "\r\n",
        "    // Boundary and initial conditions\r\n",
        "    double dummy = -11111111;\r\n",
        "    C_MixtureFraction.AddInitialValue(VariableNames.MixtureFraction,BoundaryValueFactory.Get_ConstantValue(1.0,dummy,dummy , dummy));\r\n",
        "    C_MixtureFraction.AddBoundaryValue(\"Velocity_Inlet_CH4\", VariableNames.MixtureFraction, BoundaryValueFactory.Get_ConstantValue(1.0,dummy,dummy , dummy));\r\n",
        "    C_MixtureFraction.AddBoundaryValue(\"Velocity_Inlet_O2\", VariableNames.MixtureFraction, BoundaryValueFactory.Get_ConstantValue(0.0,dummy,dummy , dummy));\r\n",
        "\r\n",
        "\r\n",
        "    double radius_inlet = 0.5; // radius is 1/2 from length separation\r\n",
        "    var troubledPoints = new List<double[]>();\r\n",
        "    if(useFullGeometry){\r\n",
        "        troubledPoints.Add(new double[]{2, +radius_inlet });\r\n",
        "        troubledPoints.Add(new double[]{2, -radius_inlet });\r\n",
        "        troubledPoints.Add(new double[]{1, +radius_inlet });\r\n",
        "        troubledPoints.Add(new double[]{1, -radius_inlet });\r\n",
        "    } else {\r\n",
        "        troubledPoints.Add(new double[]{0, +radius_inlet });\r\n",
        "        troubledPoints.Add(new double[]{0, -radius_inlet });\r\n",
        "        troubledPoints.Add(new double[]{1, +radius_inlet });\r\n",
        "        troubledPoints.Add(new double[]{1, -radius_inlet });\r\n",
        "    }\r\n",
        "    \r\n",
        "    C_MixtureFraction.AdaptiveMeshRefinement = true;\r\n",
        "    C_MixtureFraction.AMR_startUpSweeps = 2;\r\n",
        "    int NoOfPseudoTimesteps = 3;\r\n",
        "    C_MixtureFraction.TimesteppingMode = BoSSS.Solution.Control.AppControl._TimesteppingMode.Steady; \r\n",
        "    C_MixtureFraction.NoOfTimesteps = NoOfPseudoTimesteps ;\r\n",
        "\r\n",
        "    C_MixtureFraction.activeAMRlevelIndicators.Add( new BoSSS.Application.XNSEC.AMR_onProblematicPoints(troubledPoints,C_MixtureFraction.AMR_startUpSweeps) );  \r\n",
        "    C_MixtureFraction.activeAMRlevelIndicators.Add( new BoSSS.Application.XNSEC.AMR_onFlameSheet(C_MixtureFraction.zSt,NoOfPseudoTimesteps) );\r\n",
        "    return C_MixtureFraction;\r\n",
        "}"
      ],
      "outputs": [],
      "metadata": {
        "dotnet_interactive": {
          "language": "csharp"
        }
      }
    },
    {
      "cell_type": "markdown",
      "source": [
        "## Send and run jobs"
      ],
      "metadata": {}
    },
    {
      "cell_type": "code",
      "execution_count": null,
      "source": [
        "foreach(int i in multiplierS){\r\n",
        "    double massFuelIn = InitialMassFuelIn*i;\r\n",
        "    double massAirIn = InitialMassAirIn*i;\r\n",
        "\r\n",
        "    Type solver_MF = typeof(BoSSS.Application.XNSEC.XNSEC_MixtureFraction);\r\n",
        "    var C_MixtureFraction = GiveMeTheMixtureFractionCtrlFile(dg, nCells, massFuelIn, massAirIn,  parabolicVelocityProfile,i,useFullGeometry, wallBounded);\r\n",
        "    string jobName       = C_MixtureFraction.SessionName;\r\n",
        "    Console.WriteLine(jobName);\r\n",
        "    var oneJob           = new Job(jobName, solver_MF);\r\n",
        "    oneJob.NumberOfMPIProcs = 8;\r\n",
        "    oneJob.SetControlObject(C_MixtureFraction);\r\n",
        "    oneJob.Activate(myBatch); \r\n",
        "}"
      ],
      "outputs": [
        {
          "output_type": "display_data",
          "data": {
            "text/plain": [
              "System.Collections.Generic.List`1[System.Double]\r\n"
            ]
          },
          "metadata": {}
        },
        {
          "output_type": "display_data",
          "data": {
            "text/plain": [
              "Grid Edge Tags changed.\r\n"
            ]
          },
          "metadata": {}
        },
        {
          "output_type": "display_data",
          "data": {
            "text/plain": [
              "VelocityFuel0.02426418525959607\r\n"
            ]
          },
          "metadata": {}
        },
        {
          "output_type": "display_data",
          "data": {
            "text/plain": [
              "VelocityAir0.06147806069578092\r\n"
            ]
          },
          "metadata": {}
        },
        {
          "output_type": "display_data",
          "data": {
            "text/plain": [
              "FS_CounterDifFlameP2K8Multiplier1\r\n"
            ]
          },
          "metadata": {}
        },
        {
          "output_type": "display_data",
          "data": {
            "text/plain": [
              "Deploying job FS_CounterDifFlameP2K8Multiplier1 ... \r\n"
            ]
          },
          "metadata": {}
        },
        {
          "output_type": "display_data",
          "data": {
            "text/plain": [
              "Deploying executables and additional files ...\r\n"
            ]
          },
          "metadata": {}
        },
        {
          "output_type": "display_data",
          "data": {
            "text/plain": [
              "Deployment directory: \\\\hpccluster\\hpccluster-scratch\\gutierrez\\binaries\\CounterFlowFlame2-XNSEC2021Jul30_132843\r\n"
            ]
          },
          "metadata": {}
        },
        {
          "output_type": "display_data",
          "data": {
            "text/plain": [
              "copied 52 files.\r\n"
            ]
          },
          "metadata": {}
        },
        {
          "output_type": "display_data",
          "data": {
            "text/plain": [
              "   written file: control.obj\r\n"
            ]
          },
          "metadata": {}
        },
        {
          "output_type": "display_data",
          "data": {
            "text/plain": [
              "   copied 'amd64' runtime.\r\n"
            ]
          },
          "metadata": {}
        },
        {
          "output_type": "display_data",
          "data": {
            "text/plain": [
              "deployment finished.\r\n"
            ]
          },
          "metadata": {}
        },
        {
          "output_type": "display_data",
          "data": {
            "text/plain": [
              "\r\n"
            ]
          },
          "metadata": {}
        },
        {
          "output_type": "display_data",
          "data": {
            "text/plain": [
              "System.Collections.Generic.List`1[System.Double]\r\n"
            ]
          },
          "metadata": {}
        },
        {
          "output_type": "display_data",
          "data": {
            "text/plain": [
              "Grid Edge Tags changed.\r\n"
            ]
          },
          "metadata": {}
        },
        {
          "output_type": "display_data",
          "data": {
            "text/plain": [
              "VelocityFuel0.04852837051919214\r\n"
            ]
          },
          "metadata": {}
        },
        {
          "output_type": "display_data",
          "data": {
            "text/plain": [
              "VelocityAir0.12295612139156184\r\n"
            ]
          },
          "metadata": {}
        },
        {
          "output_type": "display_data",
          "data": {
            "text/plain": [
              "FS_CounterDifFlameP2K8Multiplier2\r\n"
            ]
          },
          "metadata": {}
        },
        {
          "output_type": "display_data",
          "data": {
            "text/plain": [
              "Deploying job FS_CounterDifFlameP2K8Multiplier2 ... \r\n"
            ]
          },
          "metadata": {}
        },
        {
          "output_type": "display_data",
          "data": {
            "text/plain": [
              "Deploying executables and additional files ...\r\n"
            ]
          },
          "metadata": {}
        },
        {
          "output_type": "display_data",
          "data": {
            "text/plain": [
              "Deployment directory: \\\\hpccluster\\hpccluster-scratch\\gutierrez\\binaries\\CounterFlowFlame2-XNSEC2021Jul30_132900\r\n"
            ]
          },
          "metadata": {}
        },
        {
          "output_type": "display_data",
          "data": {
            "text/plain": [
              "copied 52 files.\r\n"
            ]
          },
          "metadata": {}
        },
        {
          "output_type": "display_data",
          "data": {
            "text/plain": [
              "   written file: control.obj\r\n"
            ]
          },
          "metadata": {}
        },
        {
          "output_type": "display_data",
          "data": {
            "text/plain": [
              "   copied 'amd64' runtime.\r\n"
            ]
          },
          "metadata": {}
        },
        {
          "output_type": "display_data",
          "data": {
            "text/plain": [
              "deployment finished.\r\n"
            ]
          },
          "metadata": {}
        },
        {
          "output_type": "display_data",
          "data": {
            "text/plain": [
              "\r\n"
            ]
          },
          "metadata": {}
        },
        {
          "output_type": "display_data",
          "data": {
            "text/plain": [
              "System.Collections.Generic.List`1[System.Double]\r\n"
            ]
          },
          "metadata": {}
        },
        {
          "output_type": "display_data",
          "data": {
            "text/plain": [
              "Grid Edge Tags changed.\r\n"
            ]
          },
          "metadata": {}
        },
        {
          "output_type": "display_data",
          "data": {
            "text/plain": [
              "VelocityFuel0.07279255577878822\r\n"
            ]
          },
          "metadata": {}
        },
        {
          "output_type": "display_data",
          "data": {
            "text/plain": [
              "VelocityAir0.18443418208734277\r\n"
            ]
          },
          "metadata": {}
        },
        {
          "output_type": "display_data",
          "data": {
            "text/plain": [
              "FS_CounterDifFlameP2K8Multiplier3\r\n"
            ]
          },
          "metadata": {}
        },
        {
          "output_type": "display_data",
          "data": {
            "text/plain": [
              "Deploying job FS_CounterDifFlameP2K8Multiplier3 ... \r\n"
            ]
          },
          "metadata": {}
        },
        {
          "output_type": "display_data",
          "data": {
            "text/plain": [
              "Deploying executables and additional files ...\r\n"
            ]
          },
          "metadata": {}
        },
        {
          "output_type": "display_data",
          "data": {
            "text/plain": [
              "Deployment directory: \\\\hpccluster\\hpccluster-scratch\\gutierrez\\binaries\\CounterFlowFlame2-XNSEC2021Jul30_132918\r\n"
            ]
          },
          "metadata": {}
        },
        {
          "output_type": "display_data",
          "data": {
            "text/plain": [
              "copied 52 files.\r\n"
            ]
          },
          "metadata": {}
        },
        {
          "output_type": "display_data",
          "data": {
            "text/plain": [
              "   written file: control.obj\r\n"
            ]
          },
          "metadata": {}
        },
        {
          "output_type": "display_data",
          "data": {
            "text/plain": [
              "   copied 'amd64' runtime.\r\n"
            ]
          },
          "metadata": {}
        },
        {
          "output_type": "display_data",
          "data": {
            "text/plain": [
              "deployment finished.\r\n"
            ]
          },
          "metadata": {}
        },
        {
          "output_type": "display_data",
          "data": {
            "text/plain": [
              "Warning: Object reference not set to an instance of an object. reading session 769d3e43-382b-4640-8e53-2f7a3b1a8f6c.\r\n"
            ]
          },
          "metadata": {}
        },
        {
          "output_type": "display_data",
          "data": {
            "text/plain": [
              "\r\n"
            ]
          },
          "metadata": {}
        },
        {
          "output_type": "display_data",
          "data": {
            "text/plain": [
              "System.Collections.Generic.List`1[System.Double]\r\n"
            ]
          },
          "metadata": {}
        },
        {
          "output_type": "display_data",
          "data": {
            "text/plain": [
              "Grid Edge Tags changed.\r\n"
            ]
          },
          "metadata": {}
        },
        {
          "output_type": "display_data",
          "data": {
            "text/plain": [
              "VelocityFuel0.09705674103838428\r\n"
            ]
          },
          "metadata": {}
        },
        {
          "output_type": "display_data",
          "data": {
            "text/plain": [
              "VelocityAir0.24591224278312368\r\n"
            ]
          },
          "metadata": {}
        },
        {
          "output_type": "display_data",
          "data": {
            "text/plain": [
              "FS_CounterDifFlameP2K8Multiplier4\r\n"
            ]
          },
          "metadata": {}
        },
        {
          "output_type": "display_data",
          "data": {
            "text/plain": [
              "Deploying job FS_CounterDifFlameP2K8Multiplier4 ... \r\n"
            ]
          },
          "metadata": {}
        },
        {
          "output_type": "display_data",
          "data": {
            "text/plain": [
              "Deploying executables and additional files ...\r\n"
            ]
          },
          "metadata": {}
        },
        {
          "output_type": "display_data",
          "data": {
            "text/plain": [
              "Deployment directory: \\\\hpccluster\\hpccluster-scratch\\gutierrez\\binaries\\CounterFlowFlame2-XNSEC2021Jul30_132935\r\n"
            ]
          },
          "metadata": {}
        },
        {
          "output_type": "display_data",
          "data": {
            "text/plain": [
              "copied 52 files.\r\n"
            ]
          },
          "metadata": {}
        },
        {
          "output_type": "display_data",
          "data": {
            "text/plain": [
              "   written file: control.obj\r\n"
            ]
          },
          "metadata": {}
        },
        {
          "output_type": "display_data",
          "data": {
            "text/plain": [
              "   copied 'amd64' runtime.\r\n"
            ]
          },
          "metadata": {}
        },
        {
          "output_type": "display_data",
          "data": {
            "text/plain": [
              "deployment finished.\r\n"
            ]
          },
          "metadata": {}
        },
        {
          "output_type": "display_data",
          "data": {
            "text/plain": [
              "\r\n"
            ]
          },
          "metadata": {}
        },
        {
          "output_type": "display_data",
          "data": {
            "text/plain": [
              "System.Collections.Generic.List`1[System.Double]\r\n"
            ]
          },
          "metadata": {}
        },
        {
          "output_type": "display_data",
          "data": {
            "text/plain": [
              "Grid Edge Tags changed.\r\n"
            ]
          },
          "metadata": {}
        },
        {
          "output_type": "display_data",
          "data": {
            "text/plain": [
              "VelocityFuel0.12132092629798034\r\n"
            ]
          },
          "metadata": {}
        },
        {
          "output_type": "display_data",
          "data": {
            "text/plain": [
              "VelocityAir0.3073903034789046\r\n"
            ]
          },
          "metadata": {}
        },
        {
          "output_type": "display_data",
          "data": {
            "text/plain": [
              "FS_CounterDifFlameP2K8Multiplier5\r\n"
            ]
          },
          "metadata": {}
        },
        {
          "output_type": "display_data",
          "data": {
            "text/plain": [
              "Deploying job FS_CounterDifFlameP2K8Multiplier5 ... \r\n"
            ]
          },
          "metadata": {}
        },
        {
          "output_type": "display_data",
          "data": {
            "text/plain": [
              "Deploying executables and additional files ...\r\n"
            ]
          },
          "metadata": {}
        },
        {
          "output_type": "display_data",
          "data": {
            "text/plain": [
              "Deployment directory: \\\\hpccluster\\hpccluster-scratch\\gutierrez\\binaries\\CounterFlowFlame2-XNSEC2021Jul30_132957\r\n"
            ]
          },
          "metadata": {}
        },
        {
          "output_type": "display_data",
          "data": {
            "text/plain": [
              "copied 52 files.\r\n"
            ]
          },
          "metadata": {}
        },
        {
          "output_type": "display_data",
          "data": {
            "text/plain": [
              "   written file: control.obj\r\n"
            ]
          },
          "metadata": {}
        },
        {
          "output_type": "display_data",
          "data": {
            "text/plain": [
              "   copied 'amd64' runtime.\r\n"
            ]
          },
          "metadata": {}
        },
        {
          "output_type": "display_data",
          "data": {
            "text/plain": [
              "deployment finished.\r\n"
            ]
          },
          "metadata": {}
        },
        {
          "output_type": "display_data",
          "data": {
            "text/plain": [
              "\r\n"
            ]
          },
          "metadata": {}
        },
        {
          "output_type": "display_data",
          "data": {
            "text/plain": [
              "System.Collections.Generic.List`1[System.Double]\r\n"
            ]
          },
          "metadata": {}
        },
        {
          "output_type": "display_data",
          "data": {
            "text/plain": [
              "Grid Edge Tags changed.\r\n"
            ]
          },
          "metadata": {}
        },
        {
          "output_type": "display_data",
          "data": {
            "text/plain": [
              "VelocityFuel0.14558511155757645\r\n"
            ]
          },
          "metadata": {}
        },
        {
          "output_type": "display_data",
          "data": {
            "text/plain": [
              "VelocityAir0.36886836417468555\r\n"
            ]
          },
          "metadata": {}
        },
        {
          "output_type": "display_data",
          "data": {
            "text/plain": [
              "FS_CounterDifFlameP2K8Multiplier6\r\n"
            ]
          },
          "metadata": {}
        },
        {
          "output_type": "display_data",
          "data": {
            "text/plain": [
              "Deploying job FS_CounterDifFlameP2K8Multiplier6 ... \r\n"
            ]
          },
          "metadata": {}
        },
        {
          "output_type": "display_data",
          "data": {
            "text/plain": [
              "Deploying executables and additional files ...\r\n"
            ]
          },
          "metadata": {}
        },
        {
          "output_type": "display_data",
          "data": {
            "text/plain": [
              "Deployment directory: \\\\hpccluster\\hpccluster-scratch\\gutierrez\\binaries\\CounterFlowFlame2-XNSEC2021Jul30_133014\r\n"
            ]
          },
          "metadata": {}
        },
        {
          "output_type": "display_data",
          "data": {
            "text/plain": [
              "copied 52 files.\r\n"
            ]
          },
          "metadata": {}
        },
        {
          "output_type": "display_data",
          "data": {
            "text/plain": [
              "   written file: control.obj\r\n"
            ]
          },
          "metadata": {}
        },
        {
          "output_type": "display_data",
          "data": {
            "text/plain": [
              "   copied 'amd64' runtime.\r\n"
            ]
          },
          "metadata": {}
        },
        {
          "output_type": "display_data",
          "data": {
            "text/plain": [
              "deployment finished.\r\n"
            ]
          },
          "metadata": {}
        },
        {
          "output_type": "display_data",
          "data": {
            "text/plain": [
              "\r\n"
            ]
          },
          "metadata": {}
        },
        {
          "output_type": "display_data",
          "data": {
            "text/plain": [
              "System.Collections.Generic.List`1[System.Double]\r\n"
            ]
          },
          "metadata": {}
        },
        {
          "output_type": "display_data",
          "data": {
            "text/plain": [
              "Grid Edge Tags changed.\r\n"
            ]
          },
          "metadata": {}
        },
        {
          "output_type": "display_data",
          "data": {
            "text/plain": [
              "VelocityFuel0.1698492968171725\r\n"
            ]
          },
          "metadata": {}
        },
        {
          "output_type": "display_data",
          "data": {
            "text/plain": [
              "VelocityAir0.4303464248704664\r\n"
            ]
          },
          "metadata": {}
        },
        {
          "output_type": "display_data",
          "data": {
            "text/plain": [
              "FS_CounterDifFlameP2K8Multiplier7\r\n"
            ]
          },
          "metadata": {}
        },
        {
          "output_type": "display_data",
          "data": {
            "text/plain": [
              "Deploying job FS_CounterDifFlameP2K8Multiplier7 ... \r\n"
            ]
          },
          "metadata": {}
        },
        {
          "output_type": "display_data",
          "data": {
            "text/plain": [
              "Deploying executables and additional files ...\r\n"
            ]
          },
          "metadata": {}
        },
        {
          "output_type": "display_data",
          "data": {
            "text/plain": [
              "Deployment directory: \\\\hpccluster\\hpccluster-scratch\\gutierrez\\binaries\\CounterFlowFlame2-XNSEC2021Jul30_133030\r\n"
            ]
          },
          "metadata": {}
        },
        {
          "output_type": "display_data",
          "data": {
            "text/plain": [
              "copied 52 files.\r\n"
            ]
          },
          "metadata": {}
        },
        {
          "output_type": "display_data",
          "data": {
            "text/plain": [
              "   written file: control.obj\r\n"
            ]
          },
          "metadata": {}
        },
        {
          "output_type": "display_data",
          "data": {
            "text/plain": [
              "   copied 'amd64' runtime.\r\n"
            ]
          },
          "metadata": {}
        },
        {
          "output_type": "display_data",
          "data": {
            "text/plain": [
              "deployment finished.\r\n"
            ]
          },
          "metadata": {}
        },
        {
          "output_type": "display_data",
          "data": {
            "text/plain": [
              "Loading session b596b032-e9d6-48db-adca-e8cfd61750c2 failed with message 'Could not find file '\\\\hpccluster\\hpccluster-scratch\\gutierrez\\CDF_ManualStrainSweep_limitedbounds_coarse\\sessions\\b596b032-e9d6-48db-adca-e8cfd61750c2\\Session.info'.'\r\n"
            ]
          },
          "metadata": {}
        },
        {
          "output_type": "display_data",
          "data": {
            "text/plain": [
              "\r\n"
            ]
          },
          "metadata": {}
        },
        {
          "output_type": "display_data",
          "data": {
            "text/plain": [
              "System.Collections.Generic.List`1[System.Double]\r\n"
            ]
          },
          "metadata": {}
        },
        {
          "output_type": "display_data",
          "data": {
            "text/plain": [
              "Grid Edge Tags changed.\r\n"
            ]
          },
          "metadata": {}
        },
        {
          "output_type": "display_data",
          "data": {
            "text/plain": [
              "VelocityFuel0.19411348207676857\r\n"
            ]
          },
          "metadata": {}
        },
        {
          "output_type": "display_data",
          "data": {
            "text/plain": [
              "VelocityAir0.49182448556624736\r\n"
            ]
          },
          "metadata": {}
        },
        {
          "output_type": "display_data",
          "data": {
            "text/plain": [
              "FS_CounterDifFlameP2K8Multiplier8\r\n"
            ]
          },
          "metadata": {}
        },
        {
          "output_type": "display_data",
          "data": {
            "text/plain": [
              "Loading session b596b032-e9d6-48db-adca-e8cfd61750c2 failed with message 'Could not find file '\\\\hpccluster\\hpccluster-scratch\\gutierrez\\CDF_ManualStrainSweep_limitedbounds_coarse\\sessions\\b596b032-e9d6-48db-adca-e8cfd61750c2\\Session.info'.'\r\n"
            ]
          },
          "metadata": {}
        },
        {
          "output_type": "display_data",
          "data": {
            "text/plain": [
              "Loading session b596b032-e9d6-48db-adca-e8cfd61750c2 failed with message 'Could not find file '\\\\hpccluster\\hpccluster-scratch\\gutierrez\\CDF_ManualStrainSweep_limitedbounds_coarse\\sessions\\b596b032-e9d6-48db-adca-e8cfd61750c2\\Session.info'.'\r\n"
            ]
          },
          "metadata": {}
        },
        {
          "output_type": "display_data",
          "data": {
            "text/plain": [
              "Loading session b596b032-e9d6-48db-adca-e8cfd61750c2 failed with message 'Could not find file '\\\\hpccluster\\hpccluster-scratch\\gutierrez\\CDF_ManualStrainSweep_limitedbounds_coarse\\sessions\\b596b032-e9d6-48db-adca-e8cfd61750c2\\Session.info'.'\r\n"
            ]
          },
          "metadata": {}
        },
        {
          "output_type": "display_data",
          "data": {
            "text/plain": [
              "Loading session b596b032-e9d6-48db-adca-e8cfd61750c2 failed with message 'Could not find file '\\\\hpccluster\\hpccluster-scratch\\gutierrez\\CDF_ManualStrainSweep_limitedbounds_coarse\\sessions\\b596b032-e9d6-48db-adca-e8cfd61750c2\\Session.info'.'\r\n"
            ]
          },
          "metadata": {}
        },
        {
          "output_type": "display_data",
          "data": {
            "text/plain": [
              "Deploying job FS_CounterDifFlameP2K8Multiplier8 ... \r\n"
            ]
          },
          "metadata": {}
        },
        {
          "output_type": "display_data",
          "data": {
            "text/plain": [
              "Deploying executables and additional files ...\r\n"
            ]
          },
          "metadata": {}
        },
        {
          "output_type": "display_data",
          "data": {
            "text/plain": [
              "Deployment directory: \\\\hpccluster\\hpccluster-scratch\\gutierrez\\binaries\\CounterFlowFlame2-XNSEC2021Jul30_133047\r\n"
            ]
          },
          "metadata": {}
        },
        {
          "output_type": "display_data",
          "data": {
            "text/plain": [
              "copied 52 files.\r\n"
            ]
          },
          "metadata": {}
        },
        {
          "output_type": "display_data",
          "data": {
            "text/plain": [
              "   written file: control.obj\r\n"
            ]
          },
          "metadata": {}
        },
        {
          "output_type": "display_data",
          "data": {
            "text/plain": [
              "   copied 'amd64' runtime.\r\n"
            ]
          },
          "metadata": {}
        },
        {
          "output_type": "display_data",
          "data": {
            "text/plain": [
              "deployment finished.\r\n"
            ]
          },
          "metadata": {}
        },
        {
          "output_type": "display_data",
          "data": {
            "text/plain": [
              "\r\n"
            ]
          },
          "metadata": {}
        },
        {
          "output_type": "display_data",
          "data": {
            "text/plain": [
              "System.Collections.Generic.List`1[System.Double]\r\n"
            ]
          },
          "metadata": {}
        },
        {
          "output_type": "display_data",
          "data": {
            "text/plain": [
              "Grid Edge Tags changed.\r\n"
            ]
          },
          "metadata": {}
        },
        {
          "output_type": "display_data",
          "data": {
            "text/plain": [
              "VelocityFuel0.21837766733636463\r\n"
            ]
          },
          "metadata": {}
        },
        {
          "output_type": "display_data",
          "data": {
            "text/plain": [
              "VelocityAir0.5533025462620283\r\n"
            ]
          },
          "metadata": {}
        },
        {
          "output_type": "display_data",
          "data": {
            "text/plain": [
              "FS_CounterDifFlameP2K8Multiplier9\r\n"
            ]
          },
          "metadata": {}
        },
        {
          "output_type": "display_data",
          "data": {
            "text/plain": [
              "Deploying job FS_CounterDifFlameP2K8Multiplier9 ... \r\n"
            ]
          },
          "metadata": {}
        },
        {
          "output_type": "display_data",
          "data": {
            "text/plain": [
              "Deploying executables and additional files ...\r\n"
            ]
          },
          "metadata": {}
        },
        {
          "output_type": "display_data",
          "data": {
            "text/plain": [
              "Deployment directory: \\\\hpccluster\\hpccluster-scratch\\gutierrez\\binaries\\CounterFlowFlame2-XNSEC2021Jul30_133105\r\n"
            ]
          },
          "metadata": {}
        },
        {
          "output_type": "display_data",
          "data": {
            "text/plain": [
              "copied 52 files.\r\n"
            ]
          },
          "metadata": {}
        },
        {
          "output_type": "display_data",
          "data": {
            "text/plain": [
              "   written file: control.obj\r\n"
            ]
          },
          "metadata": {}
        },
        {
          "output_type": "display_data",
          "data": {
            "text/plain": [
              "   copied 'amd64' runtime.\r\n"
            ]
          },
          "metadata": {}
        },
        {
          "output_type": "display_data",
          "data": {
            "text/plain": [
              "deployment finished.\r\n"
            ]
          },
          "metadata": {}
        },
        {
          "output_type": "display_data",
          "data": {
            "text/plain": [
              "\r\n"
            ]
          },
          "metadata": {}
        },
        {
          "output_type": "display_data",
          "data": {
            "text/plain": [
              "System.Collections.Generic.List`1[System.Double]\r\n"
            ]
          },
          "metadata": {}
        },
        {
          "output_type": "display_data",
          "data": {
            "text/plain": [
              "Grid Edge Tags changed.\r\n"
            ]
          },
          "metadata": {}
        },
        {
          "output_type": "display_data",
          "data": {
            "text/plain": [
              "VelocityFuel0.2426418525959607\r\n"
            ]
          },
          "metadata": {}
        },
        {
          "output_type": "display_data",
          "data": {
            "text/plain": [
              "VelocityAir0.6147806069578092\r\n"
            ]
          },
          "metadata": {}
        },
        {
          "output_type": "display_data",
          "data": {
            "text/plain": [
              "FS_CounterDifFlameP2K8Multiplier10\r\n"
            ]
          },
          "metadata": {}
        },
        {
          "output_type": "display_data",
          "data": {
            "text/plain": [
              "Deploying job FS_CounterDifFlameP2K8Multiplier10 ... \r\n"
            ]
          },
          "metadata": {}
        },
        {
          "output_type": "display_data",
          "data": {
            "text/plain": [
              "Deploying executables and additional files ...\r\n"
            ]
          },
          "metadata": {}
        },
        {
          "output_type": "display_data",
          "data": {
            "text/plain": [
              "Deployment directory: \\\\hpccluster\\hpccluster-scratch\\gutierrez\\binaries\\CounterFlowFlame2-XNSEC2021Jul30_133122\r\n"
            ]
          },
          "metadata": {}
        },
        {
          "output_type": "display_data",
          "data": {
            "text/plain": [
              "copied 52 files.\r\n"
            ]
          },
          "metadata": {}
        },
        {
          "output_type": "display_data",
          "data": {
            "text/plain": [
              "   written file: control.obj\r\n"
            ]
          },
          "metadata": {}
        },
        {
          "output_type": "display_data",
          "data": {
            "text/plain": [
              "   copied 'amd64' runtime.\r\n"
            ]
          },
          "metadata": {}
        },
        {
          "output_type": "display_data",
          "data": {
            "text/plain": [
              "deployment finished.\r\n"
            ]
          },
          "metadata": {}
        },
        {
          "output_type": "display_data",
          "data": {
            "text/plain": [
              "\r\n"
            ]
          },
          "metadata": {}
        }
      ],
      "metadata": {
        "dotnet_interactive": {
          "language": "csharp"
        }
      }
    },
    {
      "cell_type": "code",
      "execution_count": null,
      "source": [
        "BoSSSshell.WorkflowMgm.BlockUntilAllJobsTerminate();"
      ],
      "outputs": [
        {
          "output_type": "display_data",
          "data": {
            "text/plain": [
              " ------------ MSHPC FailedOrCanceled; original Failed\r\n"
            ]
          },
          "metadata": {}
        },
        {
          "output_type": "display_data",
          "data": {
            "text/plain": [
              " ------------ MSHPC FailedOrCanceled; original Failed\r\n"
            ]
          },
          "metadata": {}
        },
        {
          "output_type": "display_data",
          "data": {
            "text/plain": [
              " ------------ MSHPC FailedOrCanceled; original Failed\r\n"
            ]
          },
          "metadata": {}
        },
        {
          "output_type": "display_data",
          "data": {
            "text/plain": [
              " ------------ MSHPC FailedOrCanceled; original Failed\r\n"
            ]
          },
          "metadata": {}
        },
        {
          "output_type": "display_data",
          "data": {
            "text/plain": [
              " ------------ MSHPC FailedOrCanceled; original Failed\r\n"
            ]
          },
          "metadata": {}
        },
        {
          "output_type": "display_data",
          "data": {
            "text/plain": [
              " ------------ MSHPC FailedOrCanceled; original Failed\r\n"
            ]
          },
          "metadata": {}
        },
        {
          "output_type": "display_data",
          "data": {
            "text/plain": [
              "All jobs finished.\r\n"
            ]
          },
          "metadata": {}
        }
      ],
      "metadata": {
        "dotnet_interactive": {
          "language": "csharp"
        }
      }
    },
    {
      "cell_type": "markdown",
      "source": [
        "## Starting the finite-rate chemistry simulation\r\n",
        "\r\n",
        "Now that the simulation for an \"infinite\" reaction rate is done, we use it for initializing the system with finite reaction rate. The goal is to obtain solutions of the counter difussion flame for increasing strain values. We start with a low strain (bigger Dahmkoehler number), which is increased until extintion is (hopefully) found"
      ],
      "metadata": {}
    },
    {
      "cell_type": "code",
      "execution_count": null,
      "source": [
        "static XNSEC_Control GiveMeTheFullCtrlFile(int dg, int nCells, double massFuelIn, double massAirIn, ISessionInfo SessionToRestart, bool parabolicVelocityProfile, bool chemReactionActive, bool useFullGeometry, bool wallBounded, double mult, int counter) {\r\n",
        "    var C_OneStep = GiveMeTheCtrlFile(dg, nCells, false, massFuelIn, massAirIn, parabolicVelocityProfile, useFullGeometry, wallBounded);\r\n",
        "    C_OneStep.physicsMode = PhysicsMode.Combustion;\r\n",
        "    C_OneStep.ProjectName = \"CounterDifFlame\";\r\n",
        "    string name = C_OneStep.ProjectName + \"P\" + dg + \"K\" + nCells + \"mult\" + mult+\"_c\"+counter ;\r\n",
        "    C_OneStep.SessionName = \"Full_\" + name;\r\n",
        "    C_OneStep.VariableOneStepParameters = false;\r\n",
        "\r\n",
        "    // C_OneStep.Tags.Add(\"VelocityMultiplier\" + mult);\r\n",
        "    C_OneStep.Tags.Add( mult.ToString());\r\n",
        "    C_OneStep.cpOne = true;\r\n",
        "    C_OneStep.dummycounter = counter;\r\n",
        "    C_OneStep.UseSelfMadeTemporalOperator = false;\r\n",
        "    C_OneStep.myThermalWallType = SIPDiffusionTemperature.ThermalWallType.Adiabatic;\r\n",
        "    C_OneStep.Timestepper_LevelSetHandling = BoSSS.Solution.XdgTimestepping.LevelSetHandling.None;\r\n",
        "    C_OneStep.UseMixtureFractionsForCombustionInitialization = true;\r\n",
        "\r\n",
        "    C_OneStep.LinearSolver.SolverCode = LinearSolverCode.exp_Kcycle_schwarz;\r\n",
        "    C_OneStep.LinearSolver.NoOfMultigridLevels = 5;\r\n",
        "    C_OneStep.ChemicalReactionActive = chemReactionActive;\r\n",
        "    C_OneStep.AdaptiveMeshRefinement = true;\r\n",
        "    C_OneStep.NoOfTimesteps = 1; // The steady solution will be calculated again and do AMR\r\n",
        "    C_OneStep.AMR_startUpSweeps = 1;\r\n",
        "    if(C_OneStep.ChemicalReactionActive){\r\n",
        "        C_OneStep.activeAMRlevelIndicators.Add(new AMR_onReactiveZones(C_OneStep.MolarMasses, 3, 0.7));\r\n",
        "        C_OneStep.activeAMRlevelIndicators.Add(new AMR_BasedOnFieldGradient(3, 0.75, VariableNames.Temperature));\r\n",
        "    }\r\n",
        "    // C_OneStep.activeAMRlevelIndicators.Add(new AMR_BasedOnPerssonSensor(VariableNames.Temperature, 3));\r\n",
        "    // C_OneStep.NonLinearSolver.MaxSolverIterations = 10;\r\n",
        "\r\n",
        "    // Boundary conditions\r\n",
        "\r\n",
        "    double dummy = 0;\r\n",
        "    if(SessionToRestart != null) {\r\n",
        "        C_OneStep.SetRestart(SessionToRestart);\r\n",
        "    } else {\r\n",
        "        C_OneStep.AddInitialValue(VariableNames.Temperature, BoundaryValueFactory.Get_ConstantValue(1.0, dummy, dummy, dummy));\r\n",
        "        C_OneStep.AddInitialValue(VariableNames.MassFraction0, BoundaryValueFactory.Get_ConstantValue(0.0, dummy, dummy, dummy));\r\n",
        "        C_OneStep.AddInitialValue(VariableNames.MassFraction1, BoundaryValueFactory.Get_ConstantValue(0.23, dummy, dummy, dummy));\r\n",
        "        C_OneStep.AddInitialValue(VariableNames.MassFraction2, BoundaryValueFactory.Get_ConstantValue(0.0, dummy, dummy, dummy));\r\n",
        "        C_OneStep.AddInitialValue(VariableNames.MassFraction3, BoundaryValueFactory.Get_ConstantValue(0.0, dummy, dummy, dummy));\r\n",
        "    }\r\n",
        "    if(wallBounded){\r\n",
        "        C_OneStep.AddBoundaryValue(\"Wall\", VariableNames.Temperature, BoundaryValueFactory.Get_ConstantValue(1.0, dummy, dummy, dummy));\r\n",
        "    }\r\n",
        "    C_OneStep.AddBoundaryValue(\"Velocity_Inlet_CH4\", VariableNames.Temperature, BoundaryValueFactory.Get_ConstantValue(1.0, dummy, dummy, dummy));\r\n",
        "    C_OneStep.AddBoundaryValue(\"Velocity_Inlet_CH4\", VariableNames.MassFraction0, BoundaryValueFactory.Get_ConstantValue(C_OneStep.FuelInletConcentrations[0], dummy, dummy, dummy));\r\n",
        "    C_OneStep.AddBoundaryValue(\"Velocity_Inlet_CH4\", VariableNames.MassFraction1, BoundaryValueFactory.Get_ConstantValue(C_OneStep.FuelInletConcentrations[1], dummy, dummy, dummy));\r\n",
        "    C_OneStep.AddBoundaryValue(\"Velocity_Inlet_CH4\", VariableNames.MassFraction2, BoundaryValueFactory.Get_ConstantValue(C_OneStep.FuelInletConcentrations[2], dummy, dummy, dummy));\r\n",
        "    C_OneStep.AddBoundaryValue(\"Velocity_Inlet_CH4\", VariableNames.MassFraction3, BoundaryValueFactory.Get_ConstantValue(C_OneStep.FuelInletConcentrations[3], dummy, dummy, dummy));\r\n",
        "\r\n",
        "    C_OneStep.AddBoundaryValue(\"Velocity_Inlet_O2\", VariableNames.Temperature, BoundaryValueFactory.Get_ConstantValue(1.0, dummy, dummy, dummy));\r\n",
        "    C_OneStep.AddBoundaryValue(\"Velocity_Inlet_O2\", VariableNames.MassFraction0, BoundaryValueFactory.Get_ConstantValue(C_OneStep.OxidizerInletConcentrations[0], dummy, dummy, dummy));\r\n",
        "    C_OneStep.AddBoundaryValue(\"Velocity_Inlet_O2\", VariableNames.MassFraction1, BoundaryValueFactory.Get_ConstantValue(C_OneStep.OxidizerInletConcentrations[1], dummy, dummy, dummy));\r\n",
        "    C_OneStep.AddBoundaryValue(\"Velocity_Inlet_O2\", VariableNames.MassFraction2, BoundaryValueFactory.Get_ConstantValue(C_OneStep.OxidizerInletConcentrations[2], dummy, dummy, dummy));\r\n",
        "    C_OneStep.AddBoundaryValue(\"Velocity_Inlet_O2\", VariableNames.MassFraction3, BoundaryValueFactory.Get_ConstantValue(C_OneStep.OxidizerInletConcentrations[3], dummy, dummy, dummy));\r\n",
        "    return C_OneStep;\r\n",
        "}"
      ],
      "outputs": [],
      "metadata": {
        "dotnet_interactive": {
          "language": "csharp"
        }
      }
    },
    {
      "cell_type": "code",
      "execution_count": null,
      "source": [
        "Type solver = typeof(BoSSS.Application.XNSEC.XNSEC);"
      ],
      "outputs": [],
      "metadata": {
        "dotnet_interactive": {
          "language": "csharp"
        }
      }
    },
    {
      "cell_type": "code",
      "execution_count": null,
      "source": [],
      "outputs": [
        {
          "output_type": "display_data",
          "data": {
            "text/plain": [
              "System.Collections.Generic.List`1[System.Double]\r\n"
            ]
          },
          "metadata": {}
        },
        {
          "output_type": "display_data",
          "data": {
            "text/plain": [
              "Grid Edge Tags changed.\r\n"
            ]
          },
          "metadata": {}
        },
        {
          "output_type": "display_data",
          "data": {
            "text/plain": [
              "VelocityFuel0.02426418525959607\r\n"
            ]
          },
          "metadata": {}
        },
        {
          "output_type": "display_data",
          "data": {
            "text/plain": [
              "VelocityAir0.06147806069578092\r\n"
            ]
          },
          "metadata": {}
        },
        {
          "output_type": "error",
          "ename": "Error",
          "evalue": "System.ArgumentException: Job with name 'FS_CounterDifFlameP2K8Multiplier1' is already defined in the workflow management.\r\n   at BoSSS.Application.BoSSSpad.Job..ctor(String name, Type solver) in C:\\BoSSS\\experimental\\public\\src\\L4-application\\BoSSSpad\\Job.cs:line 63\r\n   at Submission#17.<<Initialize>>d__0.MoveNext()\r\n--- End of stack trace from previous location ---\r\n   at Microsoft.CodeAnalysis.Scripting.ScriptExecutionState.RunSubmissionsAsync[TResult](ImmutableArray`1 precedingExecutors, Func`2 currentExecutor, StrongBox`1 exceptionHolderOpt, Func`2 catchExceptionOpt, CancellationToken cancellationToken)",
          "traceback": [
            "System.ArgumentException: Job with name 'FS_CounterDifFlameP2K8Multiplier1' is already defined in the workflow management.\r\n",
            "   at BoSSS.Application.BoSSSpad.Job..ctor(String name, Type solver) in C:\\BoSSS\\experimental\\public\\src\\L4-application\\BoSSSpad\\Job.cs:line 63\r\n",
            "   at Submission#17.<<Initialize>>d__0.MoveNext()\r\n",
            "--- End of stack trace from previous location ---\r\n",
            "   at Microsoft.CodeAnalysis.Scripting.ScriptExecutionState.RunSubmissionsAsync[TResult](ImmutableArray`1 precedingExecutors, Func`2 currentExecutor, StrongBox`1 exceptionHolderOpt, Func`2 catchExceptionOpt, CancellationToken cancellationToken)"
          ]
        }
      ],
      "metadata": {
        "dotnet_interactive": {
          "language": "csharp"
        }
      }
    },
    {
      "cell_type": "markdown",
      "source": [
        "Calculate the full solution for the initial value"
      ],
      "metadata": {}
    },
    {
      "cell_type": "code",
      "execution_count": null,
      "source": [
        "var sess = myDb.Sessions[0]; // pick last session\r\n",
        "var C = GiveMeTheFullCtrlFile(dg,nCells,InitialMassFuelIn,InitialMassAirIn, sess , parabolicVelocityProfile, chemicalReactionActive,useFullGeometry, wallBounded, 1.0, 0 );\r\n",
        "string jobName       = C.SessionName ;\r\n",
        "Console.WriteLine(jobName);\r\n",
        "var oneJob           = new Job(jobName, solver);\r\n",
        "oneJob.NumberOfMPIProcs = numberOfMpiCores;    \r\n",
        "oneJob.SetControlObject(C);\r\n",
        "oneJob.Activate(myBatch); \r\n",
        "BoSSSshell.WorkflowMgm.BlockUntilAllJobsTerminate();\r\n",
        "\r\n"
      ],
      "outputs": [
        {
          "output_type": "display_data",
          "data": {
            "text/plain": [
              "System.Collections.Generic.List`1[System.Double]\r\n"
            ]
          },
          "metadata": {}
        },
        {
          "output_type": "display_data",
          "data": {
            "text/plain": [
              "Grid Edge Tags changed.\r\n"
            ]
          },
          "metadata": {}
        },
        {
          "output_type": "display_data",
          "data": {
            "text/plain": [
              "VelocityFuel0.02426418525959607\r\n"
            ]
          },
          "metadata": {}
        },
        {
          "output_type": "display_data",
          "data": {
            "text/plain": [
              "VelocityAir0.06147806069578092\r\n"
            ]
          },
          "metadata": {}
        },
        {
          "output_type": "display_data",
          "data": {
            "text/plain": [
              "Full_CounterDifFlameP2K8mult1_c0\r\n"
            ]
          },
          "metadata": {}
        },
        {
          "output_type": "display_data",
          "data": {
            "text/plain": [
              "Deploying job Full_CounterDifFlameP2K8mult1_c0 ... \r\n"
            ]
          },
          "metadata": {}
        },
        {
          "output_type": "display_data",
          "data": {
            "text/plain": [
              "Deploying executables and additional files ...\r\n"
            ]
          },
          "metadata": {}
        },
        {
          "output_type": "display_data",
          "data": {
            "text/plain": [
              "Deployment directory: \\\\hpccluster\\hpccluster-scratch\\gutierrez\\binaries\\CounterFlowFlame2-XNSEC2021Jul30_135015\r\n"
            ]
          },
          "metadata": {}
        },
        {
          "output_type": "display_data",
          "data": {
            "text/plain": [
              "copied 52 files.\r\n"
            ]
          },
          "metadata": {}
        },
        {
          "output_type": "display_data",
          "data": {
            "text/plain": [
              "   written file: control.obj\r\n"
            ]
          },
          "metadata": {}
        },
        {
          "output_type": "display_data",
          "data": {
            "text/plain": [
              "   copied 'amd64' runtime.\r\n"
            ]
          },
          "metadata": {}
        },
        {
          "output_type": "display_data",
          "data": {
            "text/plain": [
              "deployment finished.\r\n"
            ]
          },
          "metadata": {}
        },
        {
          "output_type": "display_data",
          "data": {
            "text/plain": [
              "\r\n"
            ]
          },
          "metadata": {}
        }
      ],
      "metadata": {
        "dotnet_interactive": {
          "language": "csharp"
        }
      }
    },
    {
      "cell_type": "code",
      "execution_count": null,
      "source": [
        "myDb.Sessions[1].Delete(true); // delete mixture fraction calculation"
      ],
      "outputs": [],
      "metadata": {
        "dotnet_interactive": {
          "language": "csharp"
        }
      }
    },
    {
      "cell_type": "code",
      "execution_count": null,
      "source": [
        "// myDb.Sessions.Where(s=>s.)"
      ],
      "outputs": [],
      "metadata": {
        "dotnet_interactive": {
          "language": "csharp"
        }
      }
    },
    {
      "cell_type": "markdown",
      "source": [
        "Gradually increase  inlet velocity"
      ],
      "metadata": {}
    },
    {
      "cell_type": "code",
      "execution_count": null,
      "source": [
        "double finalMultiplier = 4;\r\n",
        "double lastSuccesfulMultiplier = 1.0;\r\n",
        "double initialMultiplier = 1.0;\r\n",
        "double mult = finalMultiplier; // Start with the objective multiplier\r\n",
        "int counter = 1;\r\n",
        "\r\n",
        "while(mult <= finalMultiplier) {\r\n",
        "    double massfuelIn = InitialMassFuelIn * mult;\r\n",
        "    double massAirIn = InitialMassAirIn * mult; \r\n",
        "    var sess = myDb.Sessions.Where( s => Convert.ToDouble(s.Tags.ToArray()[0]) == lastSuccesfulMultiplier).FirstOrDefault() ;      // pick last sucessful session for restart\r\n",
        "    var C = GiveMeTheFullCtrlFile(dg,nCells,massfuelIn,massAirIn, sess, parabolicVelocityProfile, chemicalReactionActive, useFullGeometry, wallBounded, mult, counter );\r\n",
        "    string jobName       = C.SessionName;\r\n",
        "    Console.WriteLine(jobName);\r\n",
        "    var oneJob           = new Job(jobName, solver);\r\n",
        "    oneJob.NumberOfMPIProcs = numberOfMpiCores;    \r\n",
        "    oneJob.SetControlObject(C);\r\n",
        "    oneJob.Activate(myBatch); \r\n",
        "    BoSSSshell.WorkflowMgm.BlockUntilAllJobsTerminate();\r\n",
        "    var status = oneJob.GetStatus();\r\n",
        "    \r\n",
        "    if(status == JobStatus.FinishedSuccessful){\r\n",
        "        mult = mult * 2 ;\r\n",
        "        lastSuccesfulMultiplier = mult;\r\n",
        "    }\r\n",
        "    else if ( status  == JobStatus.FailedOrCanceled){\r\n",
        "        mult = (mult-1) / 2 + 1 ;\r\n",
        "    } \r\n",
        "    counter++;\r\n",
        "}"
      ],
      "outputs": [],
      "metadata": {
        "dotnet_interactive": {
          "language": "csharp"
        }
      }
    },
    {
      "cell_type": "code",
      "execution_count": null,
      "source": [
        "myDb"
      ],
      "outputs": [],
      "metadata": {
        "dotnet_interactive": {
          "language": "csharp"
        }
      }
    },
    {
      "cell_type": "code",
      "execution_count": null,
      "source": [
        "BoSSSshell.WorkflowMgm.AllJobs"
      ],
      "outputs": [],
      "metadata": {
        "dotnet_interactive": {
          "language": "csharp"
        }
      }
    },
    {
      "cell_type": "code",
      "execution_count": null,
      "source": [
        "myDb.Sessions[0].Export().Do()"
      ],
      "outputs": [],
      "metadata": {
        "dotnet_interactive": {
          "language": "csharp"
        }
      }
    },
    {
      "cell_type": "markdown",
      "source": [
        "## Postprocessing"
      ],
      "metadata": {}
    },
    {
      "cell_type": "code",
      "execution_count": null,
      "source": [
        " var sess = myDb.Sessions[1];\r\n",
        " var timestep_FullChem = sess.Timesteps.Last();\r\n",
        "\r\n",
        "double eps = 1e-4; \r\n",
        "double xleft  = 0+eps; \r\n",
        "double xright = 1.0-eps;\r\n",
        "int nCells = 181*10;\r\n",
        "double[]  _xNodes = GenericBlas.Linspace(xleft, xright, nCells + 1);\r\n",
        "string[] varnames = new string[]{\"VelocityX\",\"VelocityY\",\"Temperature\", \"Pressure\", \"MassFraction0\",\"MassFraction1\",\"MassFraction2\",\"MassFraction3\"}; \r\n"
      ],
      "outputs": [],
      "metadata": {
        "dotnet_interactive": {
          "language": "csharp"
        }
      }
    },
    {
      "cell_type": "code",
      "execution_count": null,
      "source": [
        "Dictionary<string, double[]> Results_FullComb = new Dictionary<string, double[]>();\r\n",
        "Dictionary<string, double> ReferenceValuesDict = new Dictionary<string, double>();// Re-dimenzionalise variables\r\n",
        "\r\n",
        "ReferenceValuesDict.Add(\"VelocityX\", Convert.ToDouble(sess.KeysAndQueries[\"uRef\"]));\r\n",
        "ReferenceValuesDict.Add(\"VelocityY\", Convert.ToDouble(sess.KeysAndQueries[\"uRef\"]));\r\n",
        "ReferenceValuesDict.Add(\"Temperature\", Convert.ToDouble(sess.KeysAndQueries[\"TRef\"]));\r\n",
        "ReferenceValuesDict.Add(\"Pressure\", Convert.ToDouble(sess.KeysAndQueries[\"pRef\"]));\r\n",
        "ReferenceValuesDict.Add(\"MassFraction0\", 1.0);\r\n",
        "ReferenceValuesDict.Add(\"MassFraction1\", 1.0);\r\n",
        "ReferenceValuesDict.Add(\"MassFraction2\", 1.0);\r\n",
        "ReferenceValuesDict.Add(\"MassFraction3\", 1.0);\r\n",
        "ReferenceValuesDict.Add(\"MassFraction4\", 1.0);\r\n",
        "ReferenceValuesDict.Add(\"Length\", Convert.ToDouble(sess.KeysAndQueries[\"LRef\"]));"
      ],
      "outputs": [],
      "metadata": {
        "dotnet_interactive": {
          "language": "csharp"
        }
      }
    },
    {
      "cell_type": "code",
      "execution_count": null,
      "source": [
        "//Save results from the Full problem simulation\r\n",
        "foreach(var varname in varnames){\r\n",
        "    double[] Yvalues = new double[nCells+1];\r\n",
        "    var field = timestep_FullChem.Fields.Where( Fi => (Fi.Identification == varname)).Last();\r\n",
        "    for(int n = 0 ; n < _xNodes.Length; n++){\r\n",
        "        double pickedVal = field.ProbeAt(new double[]{ _xNodes[n], 0.00000001});    // Pick value along the central axis        \r\n",
        "        Yvalues[n] = pickedVal* ReferenceValuesDict[varname];             // Re.dimenzionalise varliables and store it in array\r\n",
        "    }\r\n",
        "    Results_FullComb.Add(varname,Yvalues);\r\n",
        "}"
      ],
      "outputs": [],
      "metadata": {
        "dotnet_interactive": {
          "language": "csharp"
        }
      }
    },
    {
      "cell_type": "code",
      "execution_count": null,
      "source": [
        "// Redimensionalise the x coordinate\r\n",
        "double[] _xNodesDim = new double[_xNodes.Length];\r\n",
        " for(int n = 0 ; n < _xNodes.Length; n++){\r\n",
        "     _xNodesDim[n] = _xNodes[n]*ReferenceValuesDict[\"Length\"];\r\n",
        "}\r\n"
      ],
      "outputs": [],
      "metadata": {
        "dotnet_interactive": {
          "language": "csharp"
        }
      }
    },
    {
      "cell_type": "code",
      "execution_count": null,
      "source": [
        " string path = System.IO.Path.ChangeExtension(@\"C:\\BoSSS\\experimental\\internal\\src\\private-gutz\\L4-application\\XNSEC2\\Worksheets\\Jupyter\\CounterFlowFlameMatlabCode\\BoSSS_data\\\", null);\r\n",
        "string newPathName = path +\"Full\" + \"XCoord\" + \".txt\";\r\n",
        "using (StreamWriter s = new StreamWriter(newPathName)) {\r\n",
        "    for (int i = 0; i < _xNodes.Length; i++) {\r\n",
        "        s.Write(_xNodesDim[i].ToString(\"E16\", System.Globalization.NumberFormatInfo.InvariantInfo) + \" \");\r\n",
        "    }\r\n",
        "}\r\n",
        "\r\n",
        "foreach (var varname in varnames) {\r\n",
        "    string newPathName = path +\"Full\" + varname + \".txt\";\r\n",
        "    using (StreamWriter s = new StreamWriter(newPathName)) {\r\n",
        "        double[] _yNodes = Results_FullComb[varname];\r\n",
        "        for (int i = 0; i < _xNodes.Length; i++) { \r\n",
        "            s.Write(_yNodes[i].ToString(\"E16\", System.Globalization.NumberFormatInfo.InvariantInfo) + \" \"); \r\n",
        "        }\r\n",
        "    }\r\n",
        "}"
      ],
      "outputs": [],
      "metadata": {
        "dotnet_interactive": {
          "language": "csharp"
        }
      }
    }
  ],
  "metadata": {
    "kernelspec": {
      "display_name": ".NET (C#)",
      "language": "C#",
      "name": ".net-csharp"
    },
    "language_info": {
      "file_extension": ".cs",
      "mimetype": "text/x-csharp",
      "name": "C#",
      "pygments_lexer": "csharp",
      "version": "8.0"
    }
  },
  "nbformat": 4,
  "nbformat_minor": 4
}