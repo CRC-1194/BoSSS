{
 "cells": [
  {
   "cell_type": "markdown",
   "metadata": {},
   "source": [
    "# Rheological Flow around Confined Cylinder\n",
    "\n",
    "Results published:\n",
    "[Kikker, Kummer, Oberlack: A fully coupled high-order discontinuous Galerkin solver for viscoelastic fluid flow](https://onlinelibrary.wiley.com/doi/10.1002/fld.4950), \n",
    "see also at [tubiblio](http://tubiblio.ulb.tu-darmstadt.de/125045/)."
   ]
  },
  {
   "cell_type": "markdown",
   "metadata": {},
   "source": [
    "### Preliminaries\n",
    "\n",
    "This example can be found in the source code repository as as `ConfinedCylinder_ConvergenceStudy.ipynb`. \n",
    "One can directly load this into Jupyter to interactively work with the following code examples.\n",
    "\n",
    "Note: First, BoSSS has to be loaded into the Jupyter kernel. Note:\n",
    "In the following line, the reference to `BoSSSpad.dll` is required. \n",
    "One must either set `#r \"BoSSSpad.dll\"` to something which is appropirate for the current computer\n",
    "(e.g. `C:\\Program Files (x86)\\FDY\\BoSSS\\bin\\Release\\net5.0\\BoSSSpad.dll` if working with the binary distribution), \n",
    "or, if one is working with the source code, one must compile `BoSSSpad`\n",
    "and put it side-by-side to this worksheet file \n",
    "(from the original location in the repository, one can use the scripts `getbossspad.sh`, resp. `getbossspad.bat`).\n"
   ]
  },
  {
   "cell_type": "code",
   "execution_count": 1,
   "metadata": {
    "dotnet_interactive": {
     "language": "csharp"
    }
   },
   "outputs": [
    {
     "data": {
      "text/html": [
       "\r\n",
       "<div>\r\n",
       "    <div id='dotnet-interactive-this-cell-99968.Microsoft.DotNet.Interactive.Http.HttpPort' style='display: none'>\r\n",
       "        The below script needs to be able to find the current output cell; this is an easy method to get it.\r\n",
       "    </div>\r\n",
       "    <script type='text/javascript'>\r\n",
       "async function probeAddresses(probingAddresses) {\r\n",
       "    function timeout(ms, promise) {\r\n",
       "        return new Promise(function (resolve, reject) {\r\n",
       "            setTimeout(function () {\r\n",
       "                reject(new Error('timeout'))\r\n",
       "            }, ms)\r\n",
       "            promise.then(resolve, reject)\r\n",
       "        })\r\n",
       "    }\r\n",
       "\r\n",
       "    if (Array.isArray(probingAddresses)) {\r\n",
       "        for (let i = 0; i < probingAddresses.length; i++) {\r\n",
       "\r\n",
       "            let rootUrl = probingAddresses[i];\r\n",
       "\r\n",
       "            if (!rootUrl.endsWith('/')) {\r\n",
       "                rootUrl = `${rootUrl}/`;\r\n",
       "            }\r\n",
       "\r\n",
       "            try {\r\n",
       "                let response = await timeout(1000, fetch(`${rootUrl}discovery`, {\r\n",
       "                    method: 'POST',\r\n",
       "                    cache: 'no-cache',\r\n",
       "                    mode: 'cors',\r\n",
       "                    timeout: 1000,\r\n",
       "                    headers: {\r\n",
       "                        'Content-Type': 'text/plain'\r\n",
       "                    },\r\n",
       "                    body: probingAddresses[i]\r\n",
       "                }));\r\n",
       "\r\n",
       "                if (response.status == 200) {\r\n",
       "                    return rootUrl;\r\n",
       "                }\r\n",
       "            }\r\n",
       "            catch (e) { }\r\n",
       "        }\r\n",
       "    }\r\n",
       "}\r\n",
       "\r\n",
       "function loadDotnetInteractiveApi() {\r\n",
       "    probeAddresses([\"http://130.83.248.207:1000/\", \"http://127.0.0.1:1000/\"])\r\n",
       "        .then((root) => {\r\n",
       "        // use probing to find host url and api resources\r\n",
       "        // load interactive helpers and language services\r\n",
       "        let dotnetInteractiveRequire = require.config({\r\n",
       "        context: '99968.Microsoft.DotNet.Interactive.Http.HttpPort',\r\n",
       "                paths:\r\n",
       "            {\r\n",
       "                'dotnet-interactive': `${root}resources`\r\n",
       "                }\r\n",
       "        }) || require;\r\n",
       "\r\n",
       "            window.dotnetInteractiveRequire = dotnetInteractiveRequire;\r\n",
       "\r\n",
       "            window.configureRequireFromExtension = function(extensionName, extensionCacheBuster) {\r\n",
       "                let paths = {};\r\n",
       "                paths[extensionName] = `${root}extensions/${extensionName}/resources/`;\r\n",
       "                \r\n",
       "                let internalRequire = require.config({\r\n",
       "                    context: extensionCacheBuster,\r\n",
       "                    paths: paths,\r\n",
       "                    urlArgs: `cacheBuster=${extensionCacheBuster}`\r\n",
       "                    }) || require;\r\n",
       "\r\n",
       "                return internalRequire\r\n",
       "            };\r\n",
       "        \r\n",
       "            dotnetInteractiveRequire([\r\n",
       "                    'dotnet-interactive/dotnet-interactive'\r\n",
       "                ],\r\n",
       "                function (dotnet) {\r\n",
       "                    dotnet.init(window);\r\n",
       "                },\r\n",
       "                function (error) {\r\n",
       "                    console.log(error);\r\n",
       "                }\r\n",
       "            );\r\n",
       "        })\r\n",
       "        .catch(error => {console.log(error);});\r\n",
       "    }\r\n",
       "\r\n",
       "// ensure `require` is available globally\r\n",
       "if ((typeof(require) !==  typeof(Function)) || (typeof(require.config) !== typeof(Function))) {\r\n",
       "    let require_script = document.createElement('script');\r\n",
       "    require_script.setAttribute('src', 'https://cdnjs.cloudflare.com/ajax/libs/require.js/2.3.6/require.min.js');\r\n",
       "    require_script.setAttribute('type', 'text/javascript');\r\n",
       "    \r\n",
       "    \r\n",
       "    require_script.onload = function() {\r\n",
       "        loadDotnetInteractiveApi();\r\n",
       "    };\r\n",
       "\r\n",
       "    document.getElementsByTagName('head')[0].appendChild(require_script);\r\n",
       "}\r\n",
       "else {\r\n",
       "    loadDotnetInteractiveApi();\r\n",
       "}\r\n",
       "\r\n",
       "    </script>\r\n",
       "</div>"
      ]
     },
     "metadata": {},
     "output_type": "display_data"
    }
   ],
   "source": [
    "//#r \"../../src/L4-application/BoSSSpad/bin/Release/net5.0/BoSSSpad.dll\"\n",
    "#r \"../../src/L4-application/BoSSSpad/bin/Debug/net5.0/BoSSSpad.dll\"\n",
    "//#r \"BoSSSpad.dll\"\n",
    "using System;\n",
    "using System.Collections.Generic;\n",
    "using System.Linq;\n",
    "using ilPSP;\n",
    "using ilPSP.Utils;\n",
    "using BoSSS.Platform;\n",
    "using BoSSS.Foundation;\n",
    "using BoSSS.Foundation.XDG;\n",
    "using BoSSS.Foundation.Grid;\n",
    "using BoSSS.Foundation.Grid.Classic;\n",
    "using BoSSS.Foundation.IO;\n",
    "using BoSSS.Solution;\n",
    "using BoSSS.Solution.Control;\n",
    "using BoSSS.Solution.GridImport;\n",
    "using BoSSS.Solution.Statistic;\n",
    "using BoSSS.Solution.Utils;\n",
    "using BoSSS.Solution.AdvancedSolvers;\n",
    "using BoSSS.Solution.Gnuplot;\n",
    "using BoSSS.Application.BoSSSpad;\n",
    "using BoSSS.Application.XNSE_Solver;\n",
    "using static BoSSS.Application.BoSSSpad.BoSSSshell;\n",
    "Init();"
   ]
  },
  {
   "cell_type": "markdown",
   "metadata": {},
   "source": [
    "## Initialization tasks"
   ]
  },
  {
   "cell_type": "markdown",
   "metadata": {},
   "source": [
    "Loading the `Rheology` namespace:"
   ]
  },
  {
   "cell_type": "code",
   "execution_count": 2,
   "metadata": {
    "dotnet_interactive": {
     "language": "csharp"
    }
   },
   "outputs": [],
   "source": [
    "using BoSSS.Application.Rheology;"
   ]
  },
  {
   "cell_type": "markdown",
   "metadata": {},
   "source": [
    "Initialization of the Workflow management; there `ConfinedCylinder_ConvergenceStudy` is the project name which is used for all comutations (aka. sessions):"
   ]
  },
  {
   "cell_type": "code",
   "execution_count": 3,
   "metadata": {
    "dotnet_interactive": {
     "language": "csharp"
    }
   },
   "outputs": [
    {
     "name": "stdout",
     "output_type": "stream",
     "text": [
      "Project name is set to 'ConfinedCylinder_ConvergenceStudy'.\r\n"
     ]
    }
   ],
   "source": [
    "BoSSSshell.WorkflowMgm.Init(\"ConfinedCylinder_ConvergenceStudy\");"
   ]
  },
  {
   "cell_type": "markdown",
   "metadata": {},
   "source": [
    "Overview on the available *Execution Queues* (aka. *Batch Processors*, aka. *Batch System*); these e.g. Linux HPC clusters on which compute jobs can be executed."
   ]
  },
  {
   "cell_type": "code",
   "execution_count": 4,
   "metadata": {
    "dotnet_interactive": {
     "language": "csharp"
    }
   },
   "outputs": [
    {
     "data": {
      "text/html": [
       "<table><thead><tr><th><i>index</i></th><th>DeploymentBaseDirectory</th><th>DeployRuntime</th><th>Name</th><th>DotnetRuntime</th><th>Username</th><th>ServerName</th><th>ComputeNodes</th><th>DefaultJobPriority</th><th>SingleNode</th><th>AllowedDatabasesPaths</th></tr></thead><tbody><tr><td>0</td><td>C:\\BoSSStests</td><td><div class=\"dni-plaintext\">False</div></td><td>MSHPC-Gitrunner-HighPrio</td><td>dotnet</td><td>FDY\\jenkinsci</td><td>DC2</td><td><div class=\"dni-plaintext\">[ fdygitrunner ]</div></td><td><span>Highest</span></td><td><div class=\"dni-plaintext\">True</div></td><td><div class=\"dni-plaintext\">[ { C:\\BoSSStests == : LocalMountPath: C:\\BoSSStests, PathAtRemote:  }, { C:\\Users\\jenkinsci\\ == : LocalMountPath: C:\\Users\\jenkinsci\\, PathAtRemote:  } ]</div></td></tr><tr><td>1</td><td>C:\\BoSSStests</td><td><div class=\"dni-plaintext\">False</div></td><td>MSHPC-Gitrunner-DefaultTest</td><td>dotnet</td><td>FDY\\jenkinsci</td><td>DC2</td><td><div class=\"dni-plaintext\">[ fdygitrunner ]</div></td><td><span>Normal</span></td><td><div class=\"dni-plaintext\">True</div></td><td><div class=\"dni-plaintext\">[ { C:\\BoSSStests == : LocalMountPath: C:\\BoSSStests, PathAtRemote:  } ]</div></td></tr><tr><td>2</td><td>\\\\fdygitrunner\\ValidationTests</td><td><div class=\"dni-plaintext\">False</div></td><td>MSHPC-AllNodes</td><td>dotnet</td><td>FDY\\jenkinsci</td><td>DC2</td><td><div class=\"dni-plaintext\">[ hpccluster, hpccluster2 ]</div></td><td><span>Normal</span></td><td><div class=\"dni-plaintext\">True</div></td><td><div class=\"dni-plaintext\">[ { \\\\fdygitrunner\\ValidationTests == : LocalMountPath: \\\\fdygitrunner\\ValidationTests, PathAtRemote:  } ]</div></td></tr></tbody></table>"
      ]
     },
     "execution_count": 4,
     "metadata": {},
     "output_type": "execute_result"
    }
   ],
   "source": [
    "ExecutionQueues"
   ]
  },
  {
   "cell_type": "markdown",
   "metadata": {},
   "source": [
    "For this example (which is part of the BoSSS validation tests), a *default queue* is selected to run all jobs in the convergence study:"
   ]
  },
  {
   "cell_type": "code",
   "execution_count": 5,
   "metadata": {
    "dotnet_interactive": {
     "language": "csharp"
    }
   },
   "outputs": [],
   "source": [
    "var myBatch = GetDefaultQueue();"
   ]
  },
  {
   "cell_type": "markdown",
   "metadata": {},
   "source": [
    "Create a database (in a location that is accessible by the selected batch system):"
   ]
  },
  {
   "cell_type": "code",
   "execution_count": 6,
   "metadata": {
    "dotnet_interactive": {
     "language": "csharp"
    }
   },
   "outputs": [
    {
     "name": "stdout",
     "output_type": "stream",
     "text": [
      "Opening existing database '\\\\fdygitrunner\\ValidationTests\\Rheology_ConfinedCylinder'.\r\n"
     ]
    }
   ],
   "source": [
    "var myDb = myBatch.CreateOrOpenCompatibleDatabase(\"Rheology_ConfinedCylinder\");"
   ]
  },
  {
   "cell_type": "code",
   "execution_count": 7,
   "metadata": {
    "dotnet_interactive": {
     "language": "csharp"
    }
   },
   "outputs": [],
   "source": [
    "BoSSSshell.WorkflowMgm.DefaultDatabase = myDb;"
   ]
  },
  {
   "cell_type": "markdown",
   "metadata": {
    "dotnet_interactive": {
     "language": "csharp"
    }
   },
   "source": [
    "## Parameter set for Convergence Study"
   ]
  },
  {
   "cell_type": "code",
   "execution_count": 8,
   "metadata": {
    "dotnet_interactive": {
     "language": "csharp"
    }
   },
   "outputs": [],
   "source": [
    "int[] pOrder = new int[] {1, 2, 3, 4};\n",
    "int numberGrids = 4;"
   ]
  },
  {
   "cell_type": "code",
   "execution_count": 9,
   "metadata": {
    "dotnet_interactive": {
     "language": "csharp"
    }
   },
   "outputs": [],
   "source": [
    "double[] WeissenbergS = new double[] { 0.0, 0.2 };"
   ]
  },
  {
   "cell_type": "markdown",
   "metadata": {
    "dotnet_interactive": {
     "language": "csharp"
    }
   },
   "source": [
    "## Init grids and save to database"
   ]
  },
  {
   "cell_type": "code",
   "execution_count": 10,
   "metadata": {
    "dotnet_interactive": {
     "language": "csharp"
    }
   },
   "outputs": [
    {
     "name": "stdout",
     "output_type": "stream",
     "text": [
      "\n",
      "Grid Edge Tags changed.\n",
      "An equivalent grid (ccb54ca3-d2c5-477d-b6d9-78cf77aca353) is already present in the database -- the grid will not be saved.\n",
      "\n",
      "Grid Edge Tags changed.\n",
      "An equivalent grid (7f65df88-0f1b-4fea-92db-339d001f444e) is already present in the database -- the grid will not be saved.\n",
      "\n",
      "Grid Edge Tags changed.\n",
      "An equivalent grid (8af57f3e-403f-4f20-8788-8f601012d208) is already present in the database -- the grid will not be saved.\n",
      "\n",
      "Grid Edge Tags changed.\n",
      "An equivalent grid (5b651e23-15aa-492a-b24a-9932043ff901) is already present in the database -- the grid will not be saved.\n"
     ]
    }
   ],
   "source": [
    "IGridInfo[] grids = new IGridInfo[numberGrids];\n",
    "//GridCommons grid;\n",
    "\n",
    "// Function to specify the boundary condition in dependence of the position X:\n",
    "Func<double[], string> edgeTagFunc = delegate (double[] X) {\n",
    "    double x = X[0];\n",
    "    double y = X[1];\n",
    "    //  if (!C.FixedStreamwisePeriodicBC)\n",
    "    //  {\n",
    "        if (Math.Abs(x - (-15)) < 1.0e-10)\n",
    "            return \"Velocity_inlet\";\n",
    "        if (Math.Abs(x - (15)) < 1.0e-10)\n",
    "            return \"Pressure_Outlet\";\n",
    "    //  }\n",
    "    //  if (Math.Abs(y - (-2)) < 1.0e-10)\n",
    "    //      return \"Freeslip\";\n",
    "                        \n",
    "        if (Math.Abs(y - (0)) < 1.0e-10)\n",
    "            return \"Freeslip\";\n",
    "                        \n",
    "        if (Math.Abs(y - (+2)) < 1.0e-10)\n",
    "            return \"Wall_top\";\n",
    "                        \n",
    "    //  if (-1.0 < y && y < 1.0 && -1.0 < x  && x < 1.0)\n",
    "    //    return \"Wall_cylinder\";\n",
    "                        \n",
    "        if (0.0 < y && y < 1.0 && -1.0 < x  && x < 1.0)\n",
    "            return \"Wall_cylinder\";\n",
    "                        \n",
    "        throw new ArgumentOutOfRangeException(\"at x = \" + x + \"and y = \" +y);\n",
    "    };\n",
    "\n",
    "for (int k = 0; k < numberGrids; k++) { // loop over mesh resolutions...\n",
    "    // import grid from Gmsh file:\n",
    "    grids[k] = BoSSSshell.WorkflowMgm.ImportGrid(@\"mesh_karman_OriginalBox_MEDIUM_\" + k + \"_half.msh\", \n",
    "                                                 EdgeTagFunc:edgeTagFunc);\n",
    "}"
   ]
  },
  {
   "cell_type": "code",
   "execution_count": 11,
   "metadata": {
    "dotnet_interactive": {
     "language": "csharp"
    }
   },
   "outputs": [
    {
     "data": {
      "text/plain": [
       "#0: { Guid = ccb54ca3-d2c5-477d-b6d9-78cf77aca353; Name = ; Cell Count = 320; Dim = 2 }\r\n",
       "#1: { Guid = 7f65df88-0f1b-4fea-92db-339d001f444e; Name = ; Cell Count = 1208; Dim = 2 }\r\n",
       "#2: { Guid = 8af57f3e-403f-4f20-8788-8f601012d208; Name = ; Cell Count = 4252; Dim = 2 }\r\n",
       "#3: { Guid = 5b651e23-15aa-492a-b24a-9932043ff901; Name = ; Cell Count = 14712; Dim = 2 }\r\n"
      ]
     },
     "execution_count": 11,
     "metadata": {},
     "output_type": "execute_result"
    }
   ],
   "source": [
    "grids"
   ]
  },
  {
   "cell_type": "markdown",
   "metadata": {
    "dotnet_interactive": {
     "language": "csharp"
    }
   },
   "source": [
    "## Setup of control objects for a solver runs"
   ]
  },
  {
   "cell_type": "code",
   "execution_count": 12,
   "metadata": {
    "dotnet_interactive": {
     "language": "csharp"
    }
   },
   "outputs": [],
   "source": [
    "using BoSSS.Solution.AdvancedSolvers;"
   ]
  },
  {
   "cell_type": "code",
   "execution_count": 13,
   "metadata": {
    "dotnet_interactive": {
     "language": "csharp"
    }
   },
   "outputs": [],
   "source": [
    "// Code for Initial conditions\n",
    "class MyInitCode {\n",
    "\n",
    "static string nl = System.Environment.NewLine;\n",
    "public static string InitCode(double Reynolds, double Weissenberg, double beta) => \n",
    "\"static class InitialValues { \" + nl +\n",
    "\" \" + nl +\n",
    "\"    static double u0                   = 1.5; // 0.375;// 0.66;// 3 / 2;   \" + nl +\n",
    "\"    static double h                    = 4; \" + nl +\n",
    "$\"    public static double beta          = {beta}; \" + nl +\n",
    "$\"    static double Reynolds             = {Reynolds}; \" + nl +\n",
    "$\"    static double Weissenberg          = {Weissenberg};  \" + nl +\n",
    "\"    \" + nl +\n",
    "\"    public static double VelocityXfunction(double[] X) { \" + nl +\n",
    "\"        return u0 * (1  - (X[1] *  X[1])/h); \" + nl +\n",
    "\"    } \" + nl +\n",
    "\"    \" + nl +\n",
    "\"    public static double VelocityYfunction(double[] X) { \" + nl +\n",
    "\"        return 0.0; \" + nl +\n",
    "\"    } \" + nl +\n",
    "\"    \" + nl +\n",
    "\"    public static double Pressurefunction(double[] X) { \" + nl +\n",
    "\"        return u0 * 0.5 * Reynolds * (35 - X[0]); \" + nl +\n",
    "\"    } \" + nl +\n",
    "\"    \" + nl +\n",
    "\"    public static double StressXXfunction_wi02(double[] X) { \" + nl +\n",
    "\"        const double Weissenberg = 0.2; \" + nl +\n",
    "\"        return 2 * Weissenberg * (1 - beta) * u0 * (-2 / h) * X[1] * u0 * (-2 / h) * X[1]; \" + nl +\n",
    "\"    } \" + nl +\n",
    "\"    \" + nl +\n",
    "\"    public static double StressXXfunction_wi00(double[] X) { \" + nl +\n",
    "\"        const double Weissenberg = 0.0; \" + nl +\n",
    "\"        return 2 * Weissenberg * (1 - beta) * u0 * (-2 / h) * X[1] * u0 * (-2 / h) * X[1]; \" + nl +\n",
    "\"    } \" + nl +\n",
    "\"    \" + nl +\n",
    "\"    public static double StressXYfunction(double[] X) { \" + nl +\n",
    "\"        return (1 - beta) * u0 * (-2 / h) * X[1]; \" + nl +\n",
    "\"    } \" + nl +\n",
    "\"    \" + nl +\n",
    "\"    public static double StressYYfunction(double[] X) { \" + nl +\n",
    "\"        return 0.0; \" + nl +\n",
    "\"    } \" + nl +\n",
    "\"}  \" + nl;\n",
    "\n",
    "}"
   ]
  },
  {
   "cell_type": "code",
   "execution_count": 14,
   "metadata": {
    "dotnet_interactive": {
     "language": "csharp"
    }
   },
   "outputs": [],
   "source": [
    "//MyInitCode.InitCode(1,2)"
   ]
  },
  {
   "cell_type": "code",
   "execution_count": 15,
   "metadata": {
    "dotnet_interactive": {
     "language": "csharp"
    }
   },
   "outputs": [],
   "source": [
    "List<RheologyControl> Controls = new List<RheologyControl>();"
   ]
  },
  {
   "cell_type": "code",
   "execution_count": 16,
   "metadata": {
    "dotnet_interactive": {
     "language": "csharp"
    }
   },
   "outputs": [
    {
     "name": "stdout",
     "output_type": "stream",
     "text": [
      "Created control: ConfinedCylinder_ConvergenceStudy_p1_meshNo0_Wi0_half\n",
      "Created control: ConfinedCylinder_ConvergenceStudy_p1_meshNo1_Wi0_half\n",
      "Created control: ConfinedCylinder_ConvergenceStudy_p1_meshNo2_Wi0_half\n",
      "Created control: ConfinedCylinder_ConvergenceStudy_p1_meshNo3_Wi0_half\n",
      "Created control: ConfinedCylinder_ConvergenceStudy_p2_meshNo0_Wi0_half\n",
      "Created control: ConfinedCylinder_ConvergenceStudy_p2_meshNo1_Wi0_half\n",
      "Created control: ConfinedCylinder_ConvergenceStudy_p2_meshNo2_Wi0_half\n",
      "Created control: ConfinedCylinder_ConvergenceStudy_p2_meshNo3_Wi0_half\n",
      "Created control: ConfinedCylinder_ConvergenceStudy_p3_meshNo0_Wi0_half\n",
      "Created control: ConfinedCylinder_ConvergenceStudy_p3_meshNo1_Wi0_half\n",
      "Created control: ConfinedCylinder_ConvergenceStudy_p3_meshNo2_Wi0_half\n",
      "Created control: ConfinedCylinder_ConvergenceStudy_p3_meshNo3_Wi0_half\n",
      "Created control: ConfinedCylinder_ConvergenceStudy_p4_meshNo0_Wi0_half\n",
      "Created control: ConfinedCylinder_ConvergenceStudy_p4_meshNo1_Wi0_half\n",
      "Created control: ConfinedCylinder_ConvergenceStudy_p4_meshNo2_Wi0_half\n",
      "Created control: ConfinedCylinder_ConvergenceStudy_p4_meshNo3_Wi0_half\n",
      "Created control: ConfinedCylinder_ConvergenceStudy_p1_meshNo0_Wi0.2_half\n",
      "Created control: ConfinedCylinder_ConvergenceStudy_p1_meshNo1_Wi0.2_half\n",
      "Created control: ConfinedCylinder_ConvergenceStudy_p1_meshNo2_Wi0.2_half\n",
      "Created control: ConfinedCylinder_ConvergenceStudy_p1_meshNo3_Wi0.2_half\n",
      "Created control: ConfinedCylinder_ConvergenceStudy_p2_meshNo0_Wi0.2_half\n",
      "Created control: ConfinedCylinder_ConvergenceStudy_p2_meshNo1_Wi0.2_half\n",
      "Created control: ConfinedCylinder_ConvergenceStudy_p2_meshNo2_Wi0.2_half\n",
      "Created control: ConfinedCylinder_ConvergenceStudy_p2_meshNo3_Wi0.2_half\n",
      "Created control: ConfinedCylinder_ConvergenceStudy_p3_meshNo0_Wi0.2_half\n",
      "Created control: ConfinedCylinder_ConvergenceStudy_p3_meshNo1_Wi0.2_half\n",
      "Created control: ConfinedCylinder_ConvergenceStudy_p3_meshNo2_Wi0.2_half\n",
      "Created control: ConfinedCylinder_ConvergenceStudy_p3_meshNo3_Wi0.2_half\n",
      "Created control: ConfinedCylinder_ConvergenceStudy_p4_meshNo0_Wi0.2_half\n",
      "Created control: ConfinedCylinder_ConvergenceStudy_p4_meshNo1_Wi0.2_half\n",
      "Created control: ConfinedCylinder_ConvergenceStudy_p4_meshNo2_Wi0.2_half\n",
      "Created control: ConfinedCylinder_ConvergenceStudy_p4_meshNo3_Wi0.2_half\n"
     ]
    }
   ],
   "source": [
    "Controls.Clear();\n",
    "double _beta = 0.59;\n",
    "double _Reynolds = 1.0;\n",
    "foreach(double Weissenberg in WeissenbergS) { // loop over different Weissenberg numbers...\n",
    "foreach(int degree in pOrder) { //               loop over polynomial orders...\n",
    "int elemInd = 0;\n",
    "foreach(var grd in grids) { //                   loop over grid resolutions...\n",
    "\n",
    "    //Database\n",
    "    RheologyControl C = new RheologyControl();\n",
    "    C.savetodb        = true;\n",
    "    C.DbPath          = myDb.Path;\n",
    "    C.SetGrid(grd);\n",
    "    C.TracingNamespaces = \"BoSSS,ilPSP\";\n",
    "\n",
    "    //SolverChooser\n",
    "    C.NonLinearSolver.MaxSolverIterations  = 100;\n",
    "    C.NonLinearSolver.MinSolverIterations  = 3;\n",
    "    C.NonLinearSolver.ConvergenceCriterion = 0.0; // as accurate as possible, until no further reduction can be achieved.\n",
    "    C.NonLinearSolver.SolverCode           = NonLinearSolverCode.Newton;\n",
    "    C.LinearSolver.SolverCode = LinearSolverCode.classic_pardiso;\n",
    "\n",
    "    //Timestepping\n",
    "    C.TimesteppingMode   = AppControl._TimesteppingMode.Steady;\n",
    "    C.Timestepper_Scheme = RheologyControl.TimesteppingScheme.ImplicitEuler;\n",
    "    C.ObjectiveParam     = 1.0;\n",
    "\n",
    "    //Configuration Shock capturing and body forces\n",
    "    //C.UsePerssonSensor       = false;\n",
    "    //C.SensorLimit            = 1e-4;\n",
    "    C.AdaptiveMeshRefinement = false;\n",
    "    C.RefinementLevel        = 10;\n",
    "    //C.UseArtificialDiffusion = false;\n",
    "    C.Bodyforces             = true;\n",
    "\n",
    "    //Physical parameters\n",
    "    C.beta                 = _beta;\n",
    "    C.Reynolds             = _Reynolds;\n",
    "    C.Weissenberg          = Weissenberg; //aim Weissenberg number!\n",
    "    C.RaiseWeissenberg     = Weissenberg > 0.0;\n",
    "\n",
    "    //Penalties\n",
    "    C.ViscousPenaltyScaling = 1;\n",
    "    C.Penalty2              = 1;\n",
    "    C.Penalty1[0]           = 0.0;\n",
    "    C.Penalty1[1]           = 0.0;\n",
    "    C.PresPenalty2          = 1;  \n",
    "    C.PresPenalty1[0]       = 0.0;\n",
    "    C.PresPenalty1[1]       = 0.0;\n",
    "    C.alpha                 = 1;  \n",
    "    C.StressPenalty         = 1.0;\n",
    "\n",
    "    //Create Fields\n",
    "    C.SetDGdegree(degree);\n",
    "\n",
    "    //Set initial values\n",
    "    C.InitialValues.Add(\"VelocityX\", new Formula(\"InitialValues.VelocityXfunction\", false, MyInitCode.InitCode(1, Weissenberg, _beta)));\n",
    "    C.InitialValues.Add(\"VelocityY\", new Formula(\"InitialValues.VelocityYfunction\", false, MyInitCode.InitCode(1, Weissenberg, _beta)));\n",
    "    if(Weissenberg == 0.0)\n",
    "        C.InitialValues.Add(\"StressXX\", new Formula(\"InitialValues.StressXXfunction_wi00\", false, MyInitCode.InitCode(1, Weissenberg, _beta)));\n",
    "    else if(Weissenberg == 0.2)\n",
    "        C.InitialValues.Add(\"StressXX\", new Formula(\"InitialValues.StressXXfunction_wi02\", false, MyInitCode.InitCode(1, Weissenberg, _beta)));\n",
    "    else\n",
    "        throw new NotImplementedException(\"Missing Weissenberg = \" + Weissenberg);    \n",
    "    C.InitialValues.Add(\"StressXY\", new Formula(\"InitialValues.StressXYfunction\", false, MyInitCode.InitCode(1, Weissenberg, _beta)));\n",
    "    C.InitialValues.Add(\"StressYY\", new Formula(\"InitialValues.StressYYfunction\", false, MyInitCode.InitCode(1, Weissenberg, _beta)));\n",
    "\n",
    "    //Set Boundary Conditions\n",
    "    //C.AddBoundaryValue(\"Wall_top\", \"VelocityX\", Wall);\n",
    "    //C.AddBoundaryValue(\"Wall_top\", \"VelocityY\", Wall);\n",
    "    //C.AddBoundaryValue(\"Wall_cylinder\", \"VelocityX\", Wall);\n",
    "    //C.AddBoundaryValue(\"Wall_cylinder\", \"VelocityY\", Wall);\n",
    "\n",
    "    C.AddBoundaryValue(\"Velocity_inlet\", \"VelocityX\", new Formula(\"InitialValues.VelocityXfunction\", false, MyInitCode.InitCode(1, Weissenberg, _beta)));\n",
    "    C.AddBoundaryValue(\"Velocity_inlet\", \"VelocityY\", new Formula(\"InitialValues.VelocityYfunction\", false, MyInitCode.InitCode(1, Weissenberg, _beta)));\n",
    "    if(Weissenberg == 0.0)\n",
    "        C.AddBoundaryValue(\"Velocity_inlet\", \"StressXX\", new Formula(\"InitialValues.StressXXfunction_wi00\", false, MyInitCode.InitCode(1, Weissenberg, _beta)));\n",
    "    else if(Weissenberg == 0.2)\n",
    "        C.AddBoundaryValue(\"Velocity_inlet\", \"StressXX\", new Formula(\"InitialValues.StressXXfunction_wi02\", false, MyInitCode.InitCode(1, Weissenberg, _beta)));\n",
    "    else\n",
    "        throw new NotImplementedException(\"Missing Weissenberg = \" + Weissenberg);\n",
    "    C.AddBoundaryValue(\"Velocity_inlet\", \"StressXY\", new Formula(\"InitialValues.StressXYfunction\", false, MyInitCode.InitCode(1, Weissenberg, _beta)));\n",
    "    C.AddBoundaryValue(\"Velocity_inlet\", \"StressYY\", new Formula(\"InitialValues.StressYYfunction\", false, MyInitCode.InitCode(1, Weissenberg, _beta))); \n",
    "            \n",
    "    //Save Session and next...\n",
    "    C.SessionName = $\"ConfinedCylinder_ConvergenceStudy_p{degree}_meshNo{elemInd}_Wi{Weissenberg}_half\";\n",
    "    Controls.Add(C);\n",
    "    Console.WriteLine(\"Created control: \" + C.SessionName);\n",
    "    elemInd++;\n",
    "}\n",
    "}\n",
    "}"
   ]
  },
  {
   "cell_type": "markdown",
   "metadata": {
    "dotnet_interactive": {
     "language": "csharp"
    }
   },
   "source": [
    "## Launch Jobs"
   ]
  },
  {
   "cell_type": "code",
   "execution_count": 17,
   "metadata": {
    "dotnet_interactive": {
     "language": "csharp"
    }
   },
   "outputs": [
    {
     "data": {
      "text/html": [
       "<div class=\"dni-plaintext\">32</div>"
      ]
     },
     "execution_count": 17,
     "metadata": {},
     "output_type": "execute_result"
    }
   ],
   "source": [
    "Controls.Count"
   ]
  },
  {
   "cell_type": "code",
   "execution_count": 18,
   "metadata": {
    "dotnet_interactive": {
     "language": "csharp"
    }
   },
   "outputs": [
    {
     "name": "stdout",
     "output_type": "stream",
     "text": [
      "Info: Found successful session \"ConfinedCylinder_ConvergenceStudy\tConfinedCylinder_ConvergenceStudy_p1_meshNo0_Wi0_half\t10/22/2021 07:39:38\td78ed834...\" -- job is marked as successful, no further action.\n",
      "No submission, because job status is: FinishedSuccessful\n",
      "Info: Found successful session \"ConfinedCylinder_ConvergenceStudy\tConfinedCylinder_ConvergenceStudy_p1_meshNo1_Wi0_half\t10/22/2021 07:39:45\t70d1ae1c...\" -- job is marked as successful, no further action.\n",
      "No submission, because job status is: FinishedSuccessful\n",
      "Info: Found successful session \"ConfinedCylinder_ConvergenceStudy\tConfinedCylinder_ConvergenceStudy_p1_meshNo2_Wi0_half\t10/22/2021 07:39:54\ta538c206...\" -- job is marked as successful, no further action.\n",
      "No submission, because job status is: FinishedSuccessful\n",
      "Info: Found successful session \"ConfinedCylinder_ConvergenceStudy\tConfinedCylinder_ConvergenceStudy_p1_meshNo3_Wi0_half\t10/22/2021 07:40:04\teba91046...\" -- job is marked as successful, no further action.\n",
      "No submission, because job status is: FinishedSuccessful\n",
      "Info: Found successful session \"ConfinedCylinder_ConvergenceStudy\tConfinedCylinder_ConvergenceStudy_p2_meshNo0_Wi0_half\t10/22/2021 07:40:13\t2eb232ea...\" -- job is marked as successful, no further action.\n",
      "No submission, because job status is: FinishedSuccessful\n",
      "Info: Found successful session \"ConfinedCylinder_ConvergenceStudy\tConfinedCylinder_ConvergenceStudy_p2_meshNo1_Wi0_half\t10/22/2021 07:40:22\teabb0b1f...\" -- job is marked as successful, no further action.\n",
      "No submission, because job status is: FinishedSuccessful\n",
      "Info: Found successful session \"ConfinedCylinder_ConvergenceStudy\tConfinedCylinder_ConvergenceStudy_p2_meshNo2_Wi0_half\t10/22/2021 07:40:32\t4a9ac3a8...\" -- job is marked as successful, no further action.\n",
      "No submission, because job status is: FinishedSuccessful\n",
      "Info: Found successful session \"ConfinedCylinder_ConvergenceStudy\tConfinedCylinder_ConvergenceStudy_p2_meshNo3_Wi0_half\t10/22/2021 07:40:44\t4ca8c193...\" -- job is marked as successful, no further action.\n",
      "No submission, because job status is: FinishedSuccessful\n",
      "Info: Found successful session \"ConfinedCylinder_ConvergenceStudy\tConfinedCylinder_ConvergenceStudy_p3_meshNo0_Wi0_half\t10/22/2021 07:40:55\t372b1df4...\" -- job is marked as successful, no further action.\n",
      "No submission, because job status is: FinishedSuccessful\n",
      "Info: Found successful session \"ConfinedCylinder_ConvergenceStudy\tConfinedCylinder_ConvergenceStudy_p3_meshNo1_Wi0_half\t10/22/2021 07:41:06\t824e8a2c...\" -- job is marked as successful, no further action.\n",
      "No submission, because job status is: FinishedSuccessful\n",
      "Info: Found successful session \"ConfinedCylinder_ConvergenceStudy\tConfinedCylinder_ConvergenceStudy_p3_meshNo2_Wi0_half\t10/22/2021 07:41:18\t2c16577a...\" -- job is marked as successful, no further action.\n",
      "No submission, because job status is: FinishedSuccessful\n",
      "Info: Found successful session \"ConfinedCylinder_ConvergenceStudy\tConfinedCylinder_ConvergenceStudy_p3_meshNo3_Wi0_half\t10/22/2021 07:41:31\t81728be8...\" -- job is marked as successful, no further action.\n",
      "No submission, because job status is: FinishedSuccessful\n",
      "Info: Found successful session \"ConfinedCylinder_ConvergenceStudy\tConfinedCylinder_ConvergenceStudy_p4_meshNo0_Wi0_half\t10/22/2021 07:41:44\t6f66079c...\" -- job is marked as successful, no further action.\n",
      "No submission, because job status is: FinishedSuccessful\n",
      "Info: Found successful session \"ConfinedCylinder_ConvergenceStudy\tConfinedCylinder_ConvergenceStudy_p4_meshNo1_Wi0_half\t10/22/2021 07:41:58\t82310e2b...\" -- job is marked as successful, no further action.\n",
      "No submission, because job status is: FinishedSuccessful\n",
      "Info: Found successful session \"ConfinedCylinder_ConvergenceStudy\tConfinedCylinder_ConvergenceStudy_p4_meshNo2_Wi0_half\t10/22/2021 07:42:11\t088459d5...\" -- job is marked as successful, no further action.\n",
      "No submission, because job status is: FinishedSuccessful\n",
      "Info: Found successful session \"ConfinedCylinder_ConvergenceStudy\tConfinedCylinder_ConvergenceStudy_p4_meshNo3_Wi0_half\t10/22/2021 07:42:27\t775aa23b...\" -- job is marked as successful, no further action.\n",
      "No submission, because job status is: FinishedSuccessful\n"
     ]
    },
    {
     "name": "stderr",
     "output_type": "stream",
     "text": [
      "NullReferenceException during job status evaluation: Object reference not set to an instance of an object.\n",
      "NullReferenceException during job status evaluation: Object reference not set to an instance of an object.\n"
     ]
    },
    {
     "ename": "Unhandled exception",
     "evalue": "System.NullReferenceException: Object reference not set to an instance of an object.\r\n   at BoSSS.Application.BoSSSpad.Job.<GetAllUnkonwnExistingDeployDirectories>g__DirMatch|38_0(DirectoryInfo dir1, DirectoryInfo dir2) in C:\\Users\\jenkinsci\\Documents\\BoSSS-NET5\\public\\src\\L4-application\\BoSSSpad\\Job.cs:line 759\r\n   at BoSSS.Application.BoSSSpad.Job.<GetAllUnkonwnExistingDeployDirectories>g__DirIsKnown|38_1(DirectoryInfo dir) in C:\\Users\\jenkinsci\\Documents\\BoSSS-NET5\\public\\src\\L4-application\\BoSSSpad\\Job.cs:line 766\r\n   at BoSSS.Application.BoSSSpad.Job.GetAllUnkonwnExistingDeployDirectories() in C:\\Users\\jenkinsci\\Documents\\BoSSS-NET5\\public\\src\\L4-application\\BoSSSpad\\Job.cs:line 789\r\n   at BoSSS.Application.BoSSSpad.Job.UpdateDeployments() in C:\\Users\\jenkinsci\\Documents\\BoSSS-NET5\\public\\src\\L4-application\\BoSSSpad\\Job.cs:line 883\r\n   at BoSSS.Application.BoSSSpad.Job.get_AllDeployments() in C:\\Users\\jenkinsci\\Documents\\BoSSS-NET5\\public\\src\\L4-application\\BoSSSpad\\Job.cs:line 920\r\n   at BoSSS.Application.BoSSSpad.Job.get_AllSessions() in C:\\Users\\jenkinsci\\Documents\\BoSSS-NET5\\public\\src\\L4-application\\BoSSSpad\\Job.cs:line 991\r\n   at BoSSS.Application.BoSSSpad.Job.GetStatus(Boolean WriteHints) in C:\\Users\\jenkinsci\\Documents\\BoSSS-NET5\\public\\src\\L4-application\\BoSSSpad\\Job.cs:line 1319\r\n   at BoSSS.Application.BoSSSpad.Job.Activate(BatchProcessorClient bpc, Boolean DeleteOldDeploymentsAndSessions) in C:\\Users\\jenkinsci\\Documents\\BoSSS-NET5\\public\\src\\L4-application\\BoSSSpad\\Job.cs:line 1250\r\n   at Submission#20.<<Initialize>>d__0.MoveNext()\r\n--- End of stack trace from previous location ---\r\n   at Microsoft.CodeAnalysis.Scripting.ScriptExecutionState.RunSubmissionsAsync[TResult](ImmutableArray`1 precedingExecutors, Func`2 currentExecutor, StrongBox`1 exceptionHolderOpt, Func`2 catchExceptionOpt, CancellationToken cancellationToken)",
     "output_type": "error",
     "traceback": [
      "System.NullReferenceException: Object reference not set to an instance of an object.\r\n   at BoSSS.Application.BoSSSpad.Job.<GetAllUnkonwnExistingDeployDirectories>g__DirMatch|38_0(DirectoryInfo dir1, DirectoryInfo dir2) in C:\\Users\\jenkinsci\\Documents\\BoSSS-NET5\\public\\src\\L4-application\\BoSSSpad\\Job.cs:line 759\r\n   at BoSSS.Application.BoSSSpad.Job.<GetAllUnkonwnExistingDeployDirectories>g__DirIsKnown|38_1(DirectoryInfo dir) in C:\\Users\\jenkinsci\\Documents\\BoSSS-NET5\\public\\src\\L4-application\\BoSSSpad\\Job.cs:line 766\r\n   at BoSSS.Application.BoSSSpad.Job.GetAllUnkonwnExistingDeployDirectories() in C:\\Users\\jenkinsci\\Documents\\BoSSS-NET5\\public\\src\\L4-application\\BoSSSpad\\Job.cs:line 789\r\n   at BoSSS.Application.BoSSSpad.Job.UpdateDeployments() in C:\\Users\\jenkinsci\\Documents\\BoSSS-NET5\\public\\src\\L4-application\\BoSSSpad\\Job.cs:line 883\r\n   at BoSSS.Application.BoSSSpad.Job.get_AllDeployments() in C:\\Users\\jenkinsci\\Documents\\BoSSS-NET5\\public\\src\\L4-application\\BoSSSpad\\Job.cs:line 920\r\n   at BoSSS.Application.BoSSSpad.Job.get_AllSessions() in C:\\Users\\jenkinsci\\Documents\\BoSSS-NET5\\public\\src\\L4-application\\BoSSSpad\\Job.cs:line 991\r\n   at BoSSS.Application.BoSSSpad.Job.GetStatus(Boolean WriteHints) in C:\\Users\\jenkinsci\\Documents\\BoSSS-NET5\\public\\src\\L4-application\\BoSSSpad\\Job.cs:line 1319\r\n   at BoSSS.Application.BoSSSpad.Job.Activate(BatchProcessorClient bpc, Boolean DeleteOldDeploymentsAndSessions) in C:\\Users\\jenkinsci\\Documents\\BoSSS-NET5\\public\\src\\L4-application\\BoSSSpad\\Job.cs:line 1250\r\n   at Submission#20.<<Initialize>>d__0.MoveNext()\r\n--- End of stack trace from previous location ---\r\n   at Microsoft.CodeAnalysis.Scripting.ScriptExecutionState.RunSubmissionsAsync[TResult](ImmutableArray`1 precedingExecutors, Func`2 currentExecutor, StrongBox`1 exceptionHolderOpt, Func`2 catchExceptionOpt, CancellationToken cancellationToken)",
      "   at BoSSS.Application.BoSSSpad.Job.<GetAllUnkonwnExistingDeployDirectories>g__DirMatch|38_0(DirectoryInfo dir1, DirectoryInfo dir2) in C:\\Users\\jenkinsci\\Documents\\BoSSS-NET5\\public\\src\\L4-application\\BoSSSpad\\Job.cs:line 759",
      "   at BoSSS.Application.BoSSSpad.Job.<GetAllUnkonwnExistingDeployDirectories>g__DirIsKnown|38_1(DirectoryInfo dir) in C:\\Users\\jenkinsci\\Documents\\BoSSS-NET5\\public\\src\\L4-application\\BoSSSpad\\Job.cs:line 766",
      "   at BoSSS.Application.BoSSSpad.Job.GetAllUnkonwnExistingDeployDirectories() in C:\\Users\\jenkinsci\\Documents\\BoSSS-NET5\\public\\src\\L4-application\\BoSSSpad\\Job.cs:line 789",
      "   at BoSSS.Application.BoSSSpad.Job.UpdateDeployments() in C:\\Users\\jenkinsci\\Documents\\BoSSS-NET5\\public\\src\\L4-application\\BoSSSpad\\Job.cs:line 883",
      "   at BoSSS.Application.BoSSSpad.Job.get_AllDeployments() in C:\\Users\\jenkinsci\\Documents\\BoSSS-NET5\\public\\src\\L4-application\\BoSSSpad\\Job.cs:line 920",
      "   at BoSSS.Application.BoSSSpad.Job.get_AllSessions() in C:\\Users\\jenkinsci\\Documents\\BoSSS-NET5\\public\\src\\L4-application\\BoSSSpad\\Job.cs:line 991",
      "   at BoSSS.Application.BoSSSpad.Job.GetStatus(Boolean WriteHints) in C:\\Users\\jenkinsci\\Documents\\BoSSS-NET5\\public\\src\\L4-application\\BoSSSpad\\Job.cs:line 1319",
      "   at BoSSS.Application.BoSSSpad.Job.Activate(BatchProcessorClient bpc, Boolean DeleteOldDeploymentsAndSessions) in C:\\Users\\jenkinsci\\Documents\\BoSSS-NET5\\public\\src\\L4-application\\BoSSSpad\\Job.cs:line 1250",
      "   at Submission#20.<<Initialize>>d__0.MoveNext()",
      "--- End of stack trace from previous location ---",
      "   at Microsoft.CodeAnalysis.Scripting.ScriptExecutionState.RunSubmissionsAsync[TResult](ImmutableArray`1 precedingExecutors, Func`2 currentExecutor, StrongBox`1 exceptionHolderOpt, Func`2 catchExceptionOpt, CancellationToken cancellationToken)"
     ]
    }
   ],
   "source": [
    "foreach(var ctrl in Controls) {\n",
    "    var oneJob              = ctrl.CreateJob();\n",
    "    oneJob.NumberOfMPIProcs = 1;\n",
    "    oneJob.Activate(myBatch); \n",
    "}"
   ]
  },
  {
   "cell_type": "code",
   "execution_count": null,
   "metadata": {
    "dotnet_interactive": {
     "language": "csharp"
    }
   },
   "outputs": [],
   "source": []
  },
  {
   "cell_type": "code",
   "execution_count": 19,
   "metadata": {
    "dotnet_interactive": {
     "language": "csharp"
    }
   },
   "outputs": [
    {
     "ename": "Unhandled exception",
     "evalue": "System.NullReferenceException: Object reference not set to an instance of an object.\r\n   at BoSSS.Application.BoSSSpad.Job.<GetAllUnkonwnExistingDeployDirectories>g__DirMatch|38_0(DirectoryInfo dir1, DirectoryInfo dir2) in C:\\Users\\jenkinsci\\Documents\\BoSSS-NET5\\public\\src\\L4-application\\BoSSSpad\\Job.cs:line 759\r\n   at BoSSS.Application.BoSSSpad.Job.<GetAllUnkonwnExistingDeployDirectories>g__DirIsKnown|38_1(DirectoryInfo dir) in C:\\Users\\jenkinsci\\Documents\\BoSSS-NET5\\public\\src\\L4-application\\BoSSSpad\\Job.cs:line 766\r\n   at BoSSS.Application.BoSSSpad.Job.GetAllUnkonwnExistingDeployDirectories() in C:\\Users\\jenkinsci\\Documents\\BoSSS-NET5\\public\\src\\L4-application\\BoSSSpad\\Job.cs:line 789\r\n   at BoSSS.Application.BoSSSpad.Job.UpdateDeployments() in C:\\Users\\jenkinsci\\Documents\\BoSSS-NET5\\public\\src\\L4-application\\BoSSSpad\\Job.cs:line 883\r\n   at BoSSS.Application.BoSSSpad.Job.get_AllDeployments() in C:\\Users\\jenkinsci\\Documents\\BoSSS-NET5\\public\\src\\L4-application\\BoSSSpad\\Job.cs:line 920\r\n   at BoSSS.Application.BoSSSpad.Job.GetStatus(Boolean WriteHints) in C:\\Users\\jenkinsci\\Documents\\BoSSS-NET5\\public\\src\\L4-application\\BoSSSpad\\Job.cs:line 1314\r\n   at BoSSS.Application.BoSSSpad.Job.get_Status() in C:\\Users\\jenkinsci\\Documents\\BoSSS-NET5\\public\\src\\L4-application\\BoSSSpad\\Job.cs:line 1165\r\n   at BoSSS.Application.BoSSSpad.WorkflowMgm.BlockUntilAllJobsTerminate(Double TimeOutSeconds, Double PollingIntervallSeconds) in C:\\Users\\jenkinsci\\Documents\\BoSSS-NET5\\public\\src\\L4-application\\BoSSSpad\\WorkflowMgm.cs:line 510\r\n   at Submission#21.<<Initialize>>d__0.MoveNext()\r\n--- End of stack trace from previous location ---\r\n   at Microsoft.CodeAnalysis.Scripting.ScriptExecutionState.RunSubmissionsAsync[TResult](ImmutableArray`1 precedingExecutors, Func`2 currentExecutor, StrongBox`1 exceptionHolderOpt, Func`2 catchExceptionOpt, CancellationToken cancellationToken)",
     "output_type": "error",
     "traceback": [
      "System.NullReferenceException: Object reference not set to an instance of an object.\r\n   at BoSSS.Application.BoSSSpad.Job.<GetAllUnkonwnExistingDeployDirectories>g__DirMatch|38_0(DirectoryInfo dir1, DirectoryInfo dir2) in C:\\Users\\jenkinsci\\Documents\\BoSSS-NET5\\public\\src\\L4-application\\BoSSSpad\\Job.cs:line 759\r\n   at BoSSS.Application.BoSSSpad.Job.<GetAllUnkonwnExistingDeployDirectories>g__DirIsKnown|38_1(DirectoryInfo dir) in C:\\Users\\jenkinsci\\Documents\\BoSSS-NET5\\public\\src\\L4-application\\BoSSSpad\\Job.cs:line 766\r\n   at BoSSS.Application.BoSSSpad.Job.GetAllUnkonwnExistingDeployDirectories() in C:\\Users\\jenkinsci\\Documents\\BoSSS-NET5\\public\\src\\L4-application\\BoSSSpad\\Job.cs:line 789\r\n   at BoSSS.Application.BoSSSpad.Job.UpdateDeployments() in C:\\Users\\jenkinsci\\Documents\\BoSSS-NET5\\public\\src\\L4-application\\BoSSSpad\\Job.cs:line 883\r\n   at BoSSS.Application.BoSSSpad.Job.get_AllDeployments() in C:\\Users\\jenkinsci\\Documents\\BoSSS-NET5\\public\\src\\L4-application\\BoSSSpad\\Job.cs:line 920\r\n   at BoSSS.Application.BoSSSpad.Job.GetStatus(Boolean WriteHints) in C:\\Users\\jenkinsci\\Documents\\BoSSS-NET5\\public\\src\\L4-application\\BoSSSpad\\Job.cs:line 1314\r\n   at BoSSS.Application.BoSSSpad.Job.get_Status() in C:\\Users\\jenkinsci\\Documents\\BoSSS-NET5\\public\\src\\L4-application\\BoSSSpad\\Job.cs:line 1165\r\n   at BoSSS.Application.BoSSSpad.WorkflowMgm.BlockUntilAllJobsTerminate(Double TimeOutSeconds, Double PollingIntervallSeconds) in C:\\Users\\jenkinsci\\Documents\\BoSSS-NET5\\public\\src\\L4-application\\BoSSSpad\\WorkflowMgm.cs:line 510\r\n   at Submission#21.<<Initialize>>d__0.MoveNext()\r\n--- End of stack trace from previous location ---\r\n   at Microsoft.CodeAnalysis.Scripting.ScriptExecutionState.RunSubmissionsAsync[TResult](ImmutableArray`1 precedingExecutors, Func`2 currentExecutor, StrongBox`1 exceptionHolderOpt, Func`2 catchExceptionOpt, CancellationToken cancellationToken)",
      "   at BoSSS.Application.BoSSSpad.Job.<GetAllUnkonwnExistingDeployDirectories>g__DirMatch|38_0(DirectoryInfo dir1, DirectoryInfo dir2) in C:\\Users\\jenkinsci\\Documents\\BoSSS-NET5\\public\\src\\L4-application\\BoSSSpad\\Job.cs:line 759",
      "   at BoSSS.Application.BoSSSpad.Job.<GetAllUnkonwnExistingDeployDirectories>g__DirIsKnown|38_1(DirectoryInfo dir) in C:\\Users\\jenkinsci\\Documents\\BoSSS-NET5\\public\\src\\L4-application\\BoSSSpad\\Job.cs:line 766",
      "   at BoSSS.Application.BoSSSpad.Job.GetAllUnkonwnExistingDeployDirectories() in C:\\Users\\jenkinsci\\Documents\\BoSSS-NET5\\public\\src\\L4-application\\BoSSSpad\\Job.cs:line 789",
      "   at BoSSS.Application.BoSSSpad.Job.UpdateDeployments() in C:\\Users\\jenkinsci\\Documents\\BoSSS-NET5\\public\\src\\L4-application\\BoSSSpad\\Job.cs:line 883",
      "   at BoSSS.Application.BoSSSpad.Job.get_AllDeployments() in C:\\Users\\jenkinsci\\Documents\\BoSSS-NET5\\public\\src\\L4-application\\BoSSSpad\\Job.cs:line 920",
      "   at BoSSS.Application.BoSSSpad.Job.GetStatus(Boolean WriteHints) in C:\\Users\\jenkinsci\\Documents\\BoSSS-NET5\\public\\src\\L4-application\\BoSSSpad\\Job.cs:line 1314",
      "   at BoSSS.Application.BoSSSpad.Job.get_Status() in C:\\Users\\jenkinsci\\Documents\\BoSSS-NET5\\public\\src\\L4-application\\BoSSSpad\\Job.cs:line 1165",
      "   at BoSSS.Application.BoSSSpad.WorkflowMgm.BlockUntilAllJobsTerminate(Double TimeOutSeconds, Double PollingIntervallSeconds) in C:\\Users\\jenkinsci\\Documents\\BoSSS-NET5\\public\\src\\L4-application\\BoSSSpad\\WorkflowMgm.cs:line 510",
      "   at Submission#21.<<Initialize>>d__0.MoveNext()",
      "--- End of stack trace from previous location ---",
      "   at Microsoft.CodeAnalysis.Scripting.ScriptExecutionState.RunSubmissionsAsync[TResult](ImmutableArray`1 precedingExecutors, Func`2 currentExecutor, StrongBox`1 exceptionHolderOpt, Func`2 catchExceptionOpt, CancellationToken cancellationToken)"
     ]
    }
   ],
   "source": [
    "// wait for all jobs to finish (up to 5 days, check every 5 minutes)\n",
    "BoSSSshell.WorkflowMgm.BlockUntilAllJobsTerminate(TimeOutSeconds:(3600*24*5), PollingIntervallSeconds:(60*5));"
   ]
  },
  {
   "cell_type": "code",
   "execution_count": 20,
   "metadata": {
    "dotnet_interactive": {
     "language": "csharp"
    }
   },
   "outputs": [
    {
     "ename": "Unhandled exception",
     "evalue": "System.NullReferenceException: Object reference not set to an instance of an object.\r\n   at BoSSS.Application.BoSSSpad.Job.<GetAllUnkonwnExistingDeployDirectories>g__DirMatch|38_0(DirectoryInfo dir1, DirectoryInfo dir2) in C:\\Users\\jenkinsci\\Documents\\BoSSS-NET5\\public\\src\\L4-application\\BoSSSpad\\Job.cs:line 759\r\n   at BoSSS.Application.BoSSSpad.Job.<GetAllUnkonwnExistingDeployDirectories>g__DirIsKnown|38_1(DirectoryInfo dir) in C:\\Users\\jenkinsci\\Documents\\BoSSS-NET5\\public\\src\\L4-application\\BoSSSpad\\Job.cs:line 766\r\n   at BoSSS.Application.BoSSSpad.Job.GetAllUnkonwnExistingDeployDirectories() in C:\\Users\\jenkinsci\\Documents\\BoSSS-NET5\\public\\src\\L4-application\\BoSSSpad\\Job.cs:line 789\r\n   at BoSSS.Application.BoSSSpad.Job.UpdateDeployments() in C:\\Users\\jenkinsci\\Documents\\BoSSS-NET5\\public\\src\\L4-application\\BoSSSpad\\Job.cs:line 883\r\n   at BoSSS.Application.BoSSSpad.Job.get_AllDeployments() in C:\\Users\\jenkinsci\\Documents\\BoSSS-NET5\\public\\src\\L4-application\\BoSSSpad\\Job.cs:line 920\r\n   at BoSSS.Application.BoSSSpad.Job.get_AllSessions() in C:\\Users\\jenkinsci\\Documents\\BoSSS-NET5\\public\\src\\L4-application\\BoSSSpad\\Job.cs:line 991\r\n   at BoSSS.Application.BoSSSpad.Job.get_LatestSession() in C:\\Users\\jenkinsci\\Documents\\BoSSS-NET5\\public\\src\\L4-application\\BoSSSpad\\Job.cs:line 1007\r\n   at Submission#22.<>c.<<Initialize>>b__0_1(Job job)\r\n   at System.Linq.Enumerable.WhereEnumerableIterator`1.ToArray()\r\n   at Submission#22.<<Initialize>>d__0.MoveNext()\r\n--- End of stack trace from previous location ---\r\n   at Microsoft.CodeAnalysis.Scripting.ScriptExecutionState.RunSubmissionsAsync[TResult](ImmutableArray`1 precedingExecutors, Func`2 currentExecutor, StrongBox`1 exceptionHolderOpt, Func`2 catchExceptionOpt, CancellationToken cancellationToken)",
     "output_type": "error",
     "traceback": [
      "System.NullReferenceException: Object reference not set to an instance of an object.\r\n   at BoSSS.Application.BoSSSpad.Job.<GetAllUnkonwnExistingDeployDirectories>g__DirMatch|38_0(DirectoryInfo dir1, DirectoryInfo dir2) in C:\\Users\\jenkinsci\\Documents\\BoSSS-NET5\\public\\src\\L4-application\\BoSSSpad\\Job.cs:line 759\r\n   at BoSSS.Application.BoSSSpad.Job.<GetAllUnkonwnExistingDeployDirectories>g__DirIsKnown|38_1(DirectoryInfo dir) in C:\\Users\\jenkinsci\\Documents\\BoSSS-NET5\\public\\src\\L4-application\\BoSSSpad\\Job.cs:line 766\r\n   at BoSSS.Application.BoSSSpad.Job.GetAllUnkonwnExistingDeployDirectories() in C:\\Users\\jenkinsci\\Documents\\BoSSS-NET5\\public\\src\\L4-application\\BoSSSpad\\Job.cs:line 789\r\n   at BoSSS.Application.BoSSSpad.Job.UpdateDeployments() in C:\\Users\\jenkinsci\\Documents\\BoSSS-NET5\\public\\src\\L4-application\\BoSSSpad\\Job.cs:line 883\r\n   at BoSSS.Application.BoSSSpad.Job.get_AllDeployments() in C:\\Users\\jenkinsci\\Documents\\BoSSS-NET5\\public\\src\\L4-application\\BoSSSpad\\Job.cs:line 920\r\n   at BoSSS.Application.BoSSSpad.Job.get_AllSessions() in C:\\Users\\jenkinsci\\Documents\\BoSSS-NET5\\public\\src\\L4-application\\BoSSSpad\\Job.cs:line 991\r\n   at BoSSS.Application.BoSSSpad.Job.get_LatestSession() in C:\\Users\\jenkinsci\\Documents\\BoSSS-NET5\\public\\src\\L4-application\\BoSSSpad\\Job.cs:line 1007\r\n   at Submission#22.<>c.<<Initialize>>b__0_1(Job job)\r\n   at System.Linq.Enumerable.WhereEnumerableIterator`1.ToArray()\r\n   at Submission#22.<<Initialize>>d__0.MoveNext()\r\n--- End of stack trace from previous location ---\r\n   at Microsoft.CodeAnalysis.Scripting.ScriptExecutionState.RunSubmissionsAsync[TResult](ImmutableArray`1 precedingExecutors, Func`2 currentExecutor, StrongBox`1 exceptionHolderOpt, Func`2 catchExceptionOpt, CancellationToken cancellationToken)",
      "   at BoSSS.Application.BoSSSpad.Job.<GetAllUnkonwnExistingDeployDirectories>g__DirMatch|38_0(DirectoryInfo dir1, DirectoryInfo dir2) in C:\\Users\\jenkinsci\\Documents\\BoSSS-NET5\\public\\src\\L4-application\\BoSSSpad\\Job.cs:line 759",
      "   at BoSSS.Application.BoSSSpad.Job.<GetAllUnkonwnExistingDeployDirectories>g__DirIsKnown|38_1(DirectoryInfo dir) in C:\\Users\\jenkinsci\\Documents\\BoSSS-NET5\\public\\src\\L4-application\\BoSSSpad\\Job.cs:line 766",
      "   at BoSSS.Application.BoSSSpad.Job.GetAllUnkonwnExistingDeployDirectories() in C:\\Users\\jenkinsci\\Documents\\BoSSS-NET5\\public\\src\\L4-application\\BoSSSpad\\Job.cs:line 789",
      "   at BoSSS.Application.BoSSSpad.Job.UpdateDeployments() in C:\\Users\\jenkinsci\\Documents\\BoSSS-NET5\\public\\src\\L4-application\\BoSSSpad\\Job.cs:line 883",
      "   at BoSSS.Application.BoSSSpad.Job.get_AllDeployments() in C:\\Users\\jenkinsci\\Documents\\BoSSS-NET5\\public\\src\\L4-application\\BoSSSpad\\Job.cs:line 920",
      "   at BoSSS.Application.BoSSSpad.Job.get_AllSessions() in C:\\Users\\jenkinsci\\Documents\\BoSSS-NET5\\public\\src\\L4-application\\BoSSSpad\\Job.cs:line 991",
      "   at BoSSS.Application.BoSSSpad.Job.get_LatestSession() in C:\\Users\\jenkinsci\\Documents\\BoSSS-NET5\\public\\src\\L4-application\\BoSSSpad\\Job.cs:line 1007",
      "   at Submission#22.<>c.<<Initialize>>b__0_1(Job job)",
      "   at System.Linq.Enumerable.WhereEnumerableIterator`1.ToArray()",
      "   at Submission#22.<<Initialize>>d__0.MoveNext()",
      "--- End of stack trace from previous location ---",
      "   at Microsoft.CodeAnalysis.Scripting.ScriptExecutionState.RunSubmissionsAsync[TResult](ImmutableArray`1 precedingExecutors, Func`2 currentExecutor, StrongBox`1 exceptionHolderOpt, Func`2 catchExceptionOpt, CancellationToken cancellationToken)"
     ]
    }
   ],
   "source": [
    "// detect failed Jobs in the job management\n",
    "var suspects = BoSSSshell.WorkflowMgm.AllJobs.Select(kv => kv.Value)\n",
    "    .Where(job => job.LatestSession.Tags.Contains(SessionInfo.NOT_TERMINATED_TAG)\n",
    "                  || job.LatestSession.Tags.Contains(SessionInfo.SOLVER_ERROR)).ToArray();\n",
    "suspects"
   ]
  },
  {
   "cell_type": "code",
   "execution_count": 21,
   "metadata": {},
   "outputs": [
    {
     "ename": "Unhandled exception",
     "evalue": "System.ArgumentNullException: Value cannot be null. (Parameter 'source')\r\n   at System.Linq.ThrowHelper.ThrowArgumentNullException(ExceptionArgument argument)\r\n   at System.Linq.Enumerable.Count[TSource](IEnumerable`1 source)\r\n   at Submission#23.<<Initialize>>d__0.MoveNext()\r\n--- End of stack trace from previous location ---\r\n   at Microsoft.CodeAnalysis.Scripting.ScriptExecutionState.RunSubmissionsAsync[TResult](ImmutableArray`1 precedingExecutors, Func`2 currentExecutor, StrongBox`1 exceptionHolderOpt, Func`2 catchExceptionOpt, CancellationToken cancellationToken)",
     "output_type": "error",
     "traceback": [
      "System.ArgumentNullException: Value cannot be null. (Parameter 'source')\r\n   at System.Linq.ThrowHelper.ThrowArgumentNullException(ExceptionArgument argument)\r\n   at System.Linq.Enumerable.Count[TSource](IEnumerable`1 source)\r\n   at Submission#23.<<Initialize>>d__0.MoveNext()\r\n--- End of stack trace from previous location ---\r\n   at Microsoft.CodeAnalysis.Scripting.ScriptExecutionState.RunSubmissionsAsync[TResult](ImmutableArray`1 precedingExecutors, Func`2 currentExecutor, StrongBox`1 exceptionHolderOpt, Func`2 catchExceptionOpt, CancellationToken cancellationToken)",
      "   at System.Linq.ThrowHelper.ThrowArgumentNullException(ExceptionArgument argument)",
      "   at System.Linq.Enumerable.Count[TSource](IEnumerable`1 source)",
      "   at Submission#23.<<Initialize>>d__0.MoveNext()",
      "--- End of stack trace from previous location ---",
      "   at Microsoft.CodeAnalysis.Scripting.ScriptExecutionState.RunSubmissionsAsync[TResult](ImmutableArray`1 precedingExecutors, Func`2 currentExecutor, StrongBox`1 exceptionHolderOpt, Func`2 catchExceptionOpt, CancellationToken cancellationToken)"
     ]
    }
   ],
   "source": [
    "NUnit.Framework.Assert.IsTrue(suspects.Count() <= 0, $\"{suspects.Count()} Failed Jobs of {BoSSSshell.WorkflowMgm.AllJobs.Count()} in total.\");"
   ]
  },
  {
   "cell_type": "markdown",
   "metadata": {},
   "source": [
    "### Inspect the output of some arbitrary job:"
   ]
  },
  {
   "cell_type": "code",
   "execution_count": 22,
   "metadata": {},
   "outputs": [
    {
     "data": {
      "text/plain": [
       "Session ID: d78ed834-571a-4140-ad49-5cdd6cbca02a, DB path: '\\\\fdygitrunner\\ValidationTests\\Rheology_ConfinedCylinder'.\r\n",
       "configuring Weissenberg number: 0e+00\r\n",
       "setting Weissenberg Number to 0\r\n",
       "Total number of cells:    320\r\n",
       "Total number of DOFs:     5120\r\n",
       "Instationary solve, timestep #1.0, dt = 1.7976931348623158E+304 ...\r\n",
       " #Line, #Time, #Iter\tL2Norm momX         L2Norm momY         L2Norm div          L2Norm constitutiveXXL2Norm constitutiveXYL2Norm constitutiveYYL2Norm Total        \r\n",
       "     1,     1,     1\t8.004800E+002       1.716621E-002       4.332954E+000       3.619002E+000       1.597659E+000       0.000000E+000       8.005015E+002       \r\n",
       "     2,     1,     2\t1.248636E+001       2.612047E+000       9.891723E-015       1.069542E-014       1.225540E-014       3.888714E-015       1.275665E+001       \r\n",
       "     3,     1,     3\t2.810957E-003       2.169423E-003       2.488120E-015       1.049136E-014       1.230991E-014       3.981671E-015       3.550757E-003       \r\n",
       "     4,     1,     4\t7.131471E-010       3.837047E-010       2.557659E-015       1.085165E-014       1.352977E-014       4.163575E-015       8.098198E-010       \r\n",
       "     5,     1,     5\t7.777968E-013       7.766034E-013       2.282894E-015       1.015124E-014       1.161613E-014       3.430676E-015       1.099243E-012       \r\n",
       "     6,     1,     6\t7.968741E-013       6.996597E-013       2.454443E-015       1.006809E-014       1.143921E-014       3.594723E-015       1.060558E-012       \r\n",
       "     7,     1,     7\t6.905945E-013       7.523092E-013       2.306741E-015       9.456480E-015       1.137026E-014       3.508430E-015       1.021335E-012       \r\n",
       "Duration of this timestep: 00:00:10.4510497\r\n",
       "\r\n",
       "Removing tag: NotTerminated\r\n",
       "\r\n"
      ]
     },
     "execution_count": 22,
     "metadata": {},
     "output_type": "execute_result"
    }
   ],
   "source": [
    "BoSSSshell.WorkflowMgm.AllJobs.First().Value.Stdout"
   ]
  },
  {
   "cell_type": "code",
   "execution_count": null,
   "metadata": {},
   "outputs": [],
   "source": []
  }
 ],
 "metadata": {
  "kernelspec": {
   "display_name": ".NET (C#)",
   "language": "C#",
   "name": ".net-csharp"
  },
  "language_info": {
   "file_extension": ".cs",
   "mimetype": "text/x-csharp",
   "name": "C#",
   "pygments_lexer": "csharp",
   "version": "9.0"
  }
 },
 "nbformat": 4,
 "nbformat_minor": 4
}
