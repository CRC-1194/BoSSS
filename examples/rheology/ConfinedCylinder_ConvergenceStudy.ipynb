{
 "cells": [
  {
   "cell_type": "markdown",
   "metadata": {},
   "source": [
    "# Rheological Flow around Confined Cylinder\n",
    "\n",
    "Results published:\n",
    "[Kikker, Kummer, Oberlack: A fully coupled high-order discontinuous Galerkin solver for viscoelastic fluid flow](https://onlinelibrary.wiley.com/doi/10.1002/fld.4950), \n",
    "see also at [tubiblio](http://tubiblio.ulb.tu-darmstadt.de/125045/)."
   ]
  },
  {
   "cell_type": "code",
   "execution_count": 36,
   "metadata": {
    "dotnet_interactive": {
     "language": "csharp"
    }
   },
   "outputs": [
    {
     "name": "stdout",
     "output_type": "stream",
     "text": [
      "Databases loaded: \n",
      "Capacity: 4\n",
      "Count: 1\n",
      "\n"
     ]
    }
   ],
   "source": [
    "#r \"../../src/L4-application/BoSSSpad/bin/Release/net5.0/BoSSSpad.dll\"\n",
    "using System;\n",
    "using System.Collections.Generic;\n",
    "using System.Linq;\n",
    "using ilPSP;\n",
    "using ilPSP.Utils;\n",
    "using BoSSS.Platform;\n",
    "using BoSSS.Foundation;\n",
    "using BoSSS.Foundation.XDG;\n",
    "using BoSSS.Foundation.Grid;\n",
    "using BoSSS.Foundation.Grid.Classic;\n",
    "using BoSSS.Foundation.IO;\n",
    "using BoSSS.Solution;\n",
    "using BoSSS.Solution.Control;\n",
    "using BoSSS.Solution.GridImport;\n",
    "using BoSSS.Solution.Statistic;\n",
    "using BoSSS.Solution.Utils;\n",
    "using BoSSS.Solution.AdvancedSolvers;\n",
    "using BoSSS.Solution.Gnuplot;\n",
    "using BoSSS.Application.BoSSSpad;\n",
    "using BoSSS.Application.XNSE_Solver;\n",
    "using static BoSSS.Application.BoSSSpad.BoSSSshell;\n",
    "Init();\n"
   ]
  },
  {
   "cell_type": "code",
   "execution_count": 37,
   "metadata": {
    "dotnet_interactive": {
     "language": "csharp"
    }
   },
   "outputs": [],
   "source": [
    "using BoSSS.Application.Rheology;"
   ]
  },
  {
   "cell_type": "code",
   "execution_count": 38,
   "metadata": {
    "dotnet_interactive": {
     "language": "csharp"
    }
   },
   "outputs": [
    {
     "name": "stdout",
     "output_type": "stream",
     "text": [
      "Project name is set to 'ConfinedCylinder_ConvergenceStudy'.\r\n"
     ]
    }
   ],
   "source": [
    "BoSSSshell.WorkflowMgm.Init(\"ConfinedCylinder_ConvergenceStudy\");"
   ]
  },
  {
   "cell_type": "code",
   "execution_count": 39,
   "metadata": {
    "dotnet_interactive": {
     "language": "csharp"
    }
   },
   "outputs": [
    {
     "data": {
      "text/html": [
       "<table><thead><tr><th><i>index</i></th><th><i>type</i></th><th>DeploymentBaseDirectory</th><th>DeployRuntime</th><th>Name</th><th>DotnetRuntime</th><th>BatchInstructionDir</th><th>AllowedDatabasesPaths</th><th>Username</th><th>Password</th><th>ServerName</th><th>ComputeNodes</th><th>DefaultJobPriority</th><th>SingleNode</th><th>PrivateKeyFilePath</th><th>AdditionalBatchCommands</th><th>DeploymentBaseDirectoryAtRemote</th><th>SlurmAccount</th><th>Email</th><th>MonoDebug</th></tr></thead><tbody><tr><td>0</td><td>BoSSS.Application.BoSSSpad.MiniBatchProcessorClient</td><td><div class=\"dni-plaintext\">C:\\Users\\flori\\AppData\\Local\\BoSSS-LocalJobs</div></td><td><div class=\"dni-plaintext\">False</div></td><td><div class=\"dni-plaintext\">LocalPC</div></td><td><div class=\"dni-plaintext\">dotnet</div></td><td><div class=\"dni-plaintext\">&lt;null&gt;</div></td><td><div class=\"dni-plaintext\">[ C:\\ == , D:\\ ==  ]</div></td><td></td><td></td><td></td><td></td><td></td><td></td><td></td><td></td><td></td><td></td><td></td><td></td></tr><tr><td>1</td><td>BoSSS.Application.BoSSSpad.MsHPC2012Client</td><td><div class=\"dni-plaintext\">\\\\dc1\\userspace\\kummer\\cluster</div></td><td><div class=\"dni-plaintext\">False</div></td><td><div class=\"dni-plaintext\">FDY-WindowsHPC</div></td><td><div class=\"dni-plaintext\">dotnet</div></td><td></td><td><div class=\"dni-plaintext\">[ \\\\dc1\\userspace\\kummer ==  ]</div></td><td><div class=\"dni-plaintext\">FDY\\kummer</div></td><td></td><td><div class=\"dni-plaintext\">DC2</div></td><td><div class=\"dni-plaintext\">&lt;null&gt;</div></td><td><span>Normal</span></td><td><div class=\"dni-plaintext\">True</div></td><td></td><td></td><td></td><td></td><td></td><td></td></tr><tr><td>2</td><td>BoSSS.Application.BoSSSpad.SlurmClient</td><td><div class=\"dni-plaintext\">W:\\bosss_deploy</div></td><td><div class=\"dni-plaintext\">False</div></td><td><div class=\"dni-plaintext\">LbI</div></td><td><div class=\"dni-plaintext\">dotnet</div></td><td></td><td><div class=\"dni-plaintext\">[  ]</div></td><td><div class=\"dni-plaintext\">fk69umer</div></td><td><div class=\"dni-plaintext\">&lt;null&gt;</div></td><td><div class=\"dni-plaintext\">lcluster8.hrz.tu-darmstadt.de</div></td><td></td><td></td><td></td><td><div class=\"dni-plaintext\">C:\\Users\\flori\\.ssh\\id_rsa</div></td><td><div class=\"dni-plaintext\">&lt;null&gt;</div></td><td><div class=\"dni-plaintext\">/home/fk69umer/bosss_deploy</div></td><td><div class=\"dni-plaintext\">project01287</div></td><td><div class=\"dni-plaintext\">&lt;null&gt;</div></td><td><div class=\"dni-plaintext\">False</div></td></tr><tr><td>3</td><td>BoSSS.Application.BoSSSpad.SlurmClient</td><td><div class=\"dni-plaintext\">X:\\fk69umer\\bosss_deploy</div></td><td><div class=\"dni-plaintext\">False</div></td><td><div class=\"dni-plaintext\">Lb2-specialPrj</div></td><td><div class=\"dni-plaintext\">dotnet</div></td><td></td><td><div class=\"dni-plaintext\">[ X:\\fk69umer == /work/scratch/fk69umer ]</div></td><td><div class=\"dni-plaintext\">fk69umer</div></td><td><div class=\"dni-plaintext\">&lt;null&gt;</div></td><td><div class=\"dni-plaintext\">lcluster16.hrz.tu-darmstadt.de</div></td><td></td><td></td><td></td><td><div class=\"dni-plaintext\">C:\\Users\\flori\\.ssh\\id_rsa</div></td><td><div class=\"dni-plaintext\">[ #SLURM -p test24, #SLURM -C avx512 ]</div></td><td><div class=\"dni-plaintext\">/work/scratch/fk69umer/bosss_deploy</div></td><td><div class=\"dni-plaintext\">special00006</div></td><td><div class=\"dni-plaintext\">&lt;null&gt;</div></td><td><div class=\"dni-plaintext\">False</div></td></tr></tbody></table>"
      ]
     },
     "execution_count": 39,
     "metadata": {},
     "output_type": "execute_result"
    }
   ],
   "source": [
    "ExecutionQueues"
   ]
  },
  {
   "cell_type": "code",
   "execution_count": 5,
   "metadata": {
    "dotnet_interactive": {
     "language": "csharp"
    }
   },
   "outputs": [],
   "source": [
    "var myBatch = ExecutionQueues[3];"
   ]
  },
  {
   "cell_type": "code",
   "execution_count": 6,
   "metadata": {
    "dotnet_interactive": {
     "language": "csharp"
    }
   },
   "outputs": [
    {
     "name": "stdout",
     "output_type": "stream",
     "text": [
      "Opening existing database 'X:\\fk69umer\\Rheology_ConfinedCylinder'.\r\n"
     ]
    }
   ],
   "source": [
    "var myDb = myBatch.CreateOrOpenCompatibleDatabase(\"Rheology_ConfinedCylinder\");"
   ]
  },
  {
   "cell_type": "code",
   "execution_count": 7,
   "metadata": {
    "dotnet_interactive": {
     "language": "csharp"
    }
   },
   "outputs": [],
   "source": [
    "BoSSSshell.WorkflowMgm.DefaultDatabase = myDb;"
   ]
  },
  {
   "cell_type": "markdown",
   "metadata": {
    "dotnet_interactive": {
     "language": "csharp"
    }
   },
   "source": [
    "## Parameter set for Convergence Study"
   ]
  },
  {
   "cell_type": "code",
   "execution_count": 8,
   "metadata": {
    "dotnet_interactive": {
     "language": "csharp"
    }
   },
   "outputs": [],
   "source": [
    "int[] pOrder = new int[] {1, 2, 3, 4};\n",
    "int numberGrids = 4;"
   ]
  },
  {
   "cell_type": "code",
   "execution_count": 9,
   "metadata": {
    "dotnet_interactive": {
     "language": "csharp"
    }
   },
   "outputs": [],
   "source": [
    "double[] WeissenbergS = new double[] { 0.0, 0.2 };"
   ]
  },
  {
   "cell_type": "markdown",
   "metadata": {
    "dotnet_interactive": {
     "language": "csharp"
    }
   },
   "source": [
    "## Init grids and save to database"
   ]
  },
  {
   "cell_type": "code",
   "execution_count": 10,
   "metadata": {
    "dotnet_interactive": {
     "language": "csharp"
    }
   },
   "outputs": [
    {
     "name": "stdout",
     "output_type": "stream",
     "text": [
      "\n",
      "Grid Edge Tags changed.\n",
      "An equivalent grid (4ce4b9bc-cce4-4c8e-a749-ed79d65caca2) is already present in the database -- the grid will not be saved.\n",
      "\n",
      "Grid Edge Tags changed.\n",
      "An equivalent grid (557173ad-f0c7-42ce-8bff-acdda333a95d) is already present in the database -- the grid will not be saved.\n",
      "\n",
      "Grid Edge Tags changed.\n",
      "An equivalent grid (e245a313-0f98-4039-9a52-1581e12a76ec) is already present in the database -- the grid will not be saved.\n",
      "\n",
      "Grid Edge Tags changed.\n",
      "An equivalent grid (1a36165d-47ac-4248-aad4-8a2cfa8c80c4) is already present in the database -- the grid will not be saved.\n"
     ]
    }
   ],
   "source": [
    "IGridInfo[] grids = new IGridInfo[numberGrids];\n",
    "//GridCommons grid;\n",
    "for (int k = 0; k < numberGrids; k++) {\n",
    "\n",
    "//bosssGrid.Name        = \"confined_cylinder\";\n",
    "\n",
    "Func<double[], string> edgeTagFunc = delegate (double[] X) {\n",
    "    double x = X[0];\n",
    "    double y = X[1];\n",
    "    //  if (!C.FixedStreamwisePeriodicBC)\n",
    "    //  {\n",
    "        if (Math.Abs(x - (-15)) < 1.0e-10)\n",
    "            return \"Velocity_inlet\";\n",
    "        if (Math.Abs(x - (15)) < 1.0e-10)\n",
    "            return \"Pressure_Outlet\";\n",
    "    //  }\n",
    "    //  if (Math.Abs(y - (-2)) < 1.0e-10)\n",
    "    //      return \"Freeslip\";\n",
    "                        \n",
    "        if (Math.Abs(y - (0)) < 1.0e-10)\n",
    "            return \"Freeslip\";\n",
    "                        \n",
    "        if (Math.Abs(y - (+2)) < 1.0e-10)\n",
    "            return \"Wall_top\";\n",
    "                        \n",
    "    //  if (-1.0 < y && y < 1.0 && -1.0 < x  && x < 1.0)\n",
    "    //    return \"Wall_cylinder\";\n",
    "                        \n",
    "        if (0.0 < y && y < 1.0 && -1.0 < x  && x < 1.0)\n",
    "            return \"Wall_cylinder\";\n",
    "                        \n",
    "        throw new ArgumentOutOfRangeException(\"at x = \" + x + \"and y = \" +y);\n",
    "    };\n",
    "\n",
    "    \n",
    "    grids[k] = BoSSSshell.WorkflowMgm.ImportGrid(@\"Cylinder_GRIDS\\mesh_karman_OriginalBox_MEDIUM_\"+k+\"_half.msh\", EdgeTagFunc:edgeTagFunc);\n",
    "}"
   ]
  },
  {
   "cell_type": "code",
   "execution_count": 11,
   "metadata": {
    "dotnet_interactive": {
     "language": "csharp"
    }
   },
   "outputs": [
    {
     "data": {
      "text/plain": [
       "#0: { Guid = 4ce4b9bc-cce4-4c8e-a749-ed79d65caca2; Name = ; Cell Count = 320; Dim = 2 }\r\n",
       "#1: { Guid = 557173ad-f0c7-42ce-8bff-acdda333a95d; Name = ; Cell Count = 1208; Dim = 2 }\r\n",
       "#2: { Guid = e245a313-0f98-4039-9a52-1581e12a76ec; Name = ; Cell Count = 4252; Dim = 2 }\r\n",
       "#3: { Guid = 1a36165d-47ac-4248-aad4-8a2cfa8c80c4; Name = ; Cell Count = 14712; Dim = 2 }\r\n"
      ]
     },
     "execution_count": 11,
     "metadata": {},
     "output_type": "execute_result"
    }
   ],
   "source": [
    "grids"
   ]
  },
  {
   "cell_type": "markdown",
   "metadata": {
    "dotnet_interactive": {
     "language": "csharp"
    }
   },
   "source": [
    "## Setup of control objects for a solver runs"
   ]
  },
  {
   "cell_type": "code",
   "execution_count": 12,
   "metadata": {
    "dotnet_interactive": {
     "language": "csharp"
    }
   },
   "outputs": [],
   "source": [
    "using BoSSS.Solution.AdvancedSolvers;"
   ]
  },
  {
   "cell_type": "code",
   "execution_count": 13,
   "metadata": {
    "dotnet_interactive": {
     "language": "csharp"
    }
   },
   "outputs": [],
   "source": [
    "// Code for Initial conditions\n",
    "class MyInitCode {\n",
    "\n",
    "static string nl = System.Environment.NewLine;\n",
    "public static string InitCode(double Reynolds, double Weissenberg, double beta) => \n",
    "\"static class InitialValues { \" + nl +\n",
    "\" \" + nl +\n",
    "\"    static double u0                   = 1.5; // 0.375;// 0.66;// 3 / 2;   \" + nl +\n",
    "\"    static double h                    = 4; \" + nl +\n",
    "$\"    public static double beta          = {beta}; \" + nl +\n",
    "$\"    static double Reynolds             = {Reynolds}; \" + nl +\n",
    "$\"    static double Weissenberg          = {Weissenberg};  \" + nl +\n",
    "\"    \" + nl +\n",
    "\"    public static double VelocityXfunction(double[] X) { \" + nl +\n",
    "\"        return u0 * (1  - (X[1] *  X[1])/h); \" + nl +\n",
    "\"    } \" + nl +\n",
    "\"    \" + nl +\n",
    "\"    public static double VelocityYfunction(double[] X) { \" + nl +\n",
    "\"        return 0.0; \" + nl +\n",
    "\"    } \" + nl +\n",
    "\"    \" + nl +\n",
    "\"    public static double Pressurefunction(double[] X) { \" + nl +\n",
    "\"        return u0 * 0.5 * Reynolds * (35 - X[0]); \" + nl +\n",
    "\"    } \" + nl +\n",
    "\"    \" + nl +\n",
    "\"    public static double StressXXfunction_wi02(double[] X) { \" + nl +\n",
    "\"        const double Weissenberg = 0.2; \" + nl +\n",
    "\"        return 2 * Weissenberg * (1 - beta) * u0 * (-2 / h) * X[1] * u0 * (-2 / h) * X[1]; \" + nl +\n",
    "\"    } \" + nl +\n",
    "\"    \" + nl +\n",
    "\"    public static double StressXXfunction_wi00(double[] X) { \" + nl +\n",
    "\"        const double Weissenberg = 0.0; \" + nl +\n",
    "\"        return 2 * Weissenberg * (1 - beta) * u0 * (-2 / h) * X[1] * u0 * (-2 / h) * X[1]; \" + nl +\n",
    "\"    } \" + nl +\n",
    "\"    \" + nl +\n",
    "\"    public static double StressXYfunction(double[] X) { \" + nl +\n",
    "\"        return (1 - beta) * u0 * (-2 / h) * X[1]; \" + nl +\n",
    "\"    } \" + nl +\n",
    "\"    \" + nl +\n",
    "\"    public static double StressYYfunction(double[] X) { \" + nl +\n",
    "\"        return 0.0; \" + nl +\n",
    "\"    } \" + nl +\n",
    "\"}  \" + nl;\n",
    "\n",
    "}"
   ]
  },
  {
   "cell_type": "code",
   "execution_count": 14,
   "metadata": {
    "dotnet_interactive": {
     "language": "csharp"
    }
   },
   "outputs": [],
   "source": [
    "//MyInitCode.InitCode(1,2)"
   ]
  },
  {
   "cell_type": "code",
   "execution_count": 15,
   "metadata": {
    "dotnet_interactive": {
     "language": "csharp"
    }
   },
   "outputs": [],
   "source": [
    "List<RheologyControl> Controls = new List<RheologyControl>();"
   ]
  },
  {
   "cell_type": "code",
   "execution_count": 32,
   "metadata": {
    "dotnet_interactive": {
     "language": "csharp"
    }
   },
   "outputs": [
    {
     "name": "stdout",
     "output_type": "stream",
     "text": [
      "Created control: ConfinedCylinder_ConvergenceStudy_p1_meshNo0_Wi0_half\n",
      "Created control: ConfinedCylinder_ConvergenceStudy_p1_meshNo1_Wi0_half\n",
      "Created control: ConfinedCylinder_ConvergenceStudy_p1_meshNo2_Wi0_half\n",
      "Created control: ConfinedCylinder_ConvergenceStudy_p1_meshNo3_Wi0_half\n",
      "Created control: ConfinedCylinder_ConvergenceStudy_p2_meshNo0_Wi0_half\n",
      "Created control: ConfinedCylinder_ConvergenceStudy_p2_meshNo1_Wi0_half\n",
      "Created control: ConfinedCylinder_ConvergenceStudy_p2_meshNo2_Wi0_half\n",
      "Created control: ConfinedCylinder_ConvergenceStudy_p2_meshNo3_Wi0_half\n",
      "Created control: ConfinedCylinder_ConvergenceStudy_p3_meshNo0_Wi0_half\n",
      "Created control: ConfinedCylinder_ConvergenceStudy_p3_meshNo1_Wi0_half\n",
      "Created control: ConfinedCylinder_ConvergenceStudy_p3_meshNo2_Wi0_half\n",
      "Created control: ConfinedCylinder_ConvergenceStudy_p3_meshNo3_Wi0_half\n",
      "Created control: ConfinedCylinder_ConvergenceStudy_p4_meshNo0_Wi0_half\n",
      "Created control: ConfinedCylinder_ConvergenceStudy_p4_meshNo1_Wi0_half\n",
      "Created control: ConfinedCylinder_ConvergenceStudy_p4_meshNo2_Wi0_half\n",
      "Created control: ConfinedCylinder_ConvergenceStudy_p4_meshNo3_Wi0_half\n",
      "Created control: ConfinedCylinder_ConvergenceStudy_p1_meshNo0_Wi0.2_half\n",
      "Created control: ConfinedCylinder_ConvergenceStudy_p1_meshNo1_Wi0.2_half\n",
      "Created control: ConfinedCylinder_ConvergenceStudy_p1_meshNo2_Wi0.2_half\n",
      "Created control: ConfinedCylinder_ConvergenceStudy_p1_meshNo3_Wi0.2_half\n",
      "Created control: ConfinedCylinder_ConvergenceStudy_p2_meshNo0_Wi0.2_half\n",
      "Created control: ConfinedCylinder_ConvergenceStudy_p2_meshNo1_Wi0.2_half\n",
      "Created control: ConfinedCylinder_ConvergenceStudy_p2_meshNo2_Wi0.2_half\n",
      "Created control: ConfinedCylinder_ConvergenceStudy_p2_meshNo3_Wi0.2_half\n",
      "Created control: ConfinedCylinder_ConvergenceStudy_p3_meshNo0_Wi0.2_half\n",
      "Created control: ConfinedCylinder_ConvergenceStudy_p3_meshNo1_Wi0.2_half\n",
      "Created control: ConfinedCylinder_ConvergenceStudy_p3_meshNo2_Wi0.2_half\n",
      "Created control: ConfinedCylinder_ConvergenceStudy_p3_meshNo3_Wi0.2_half\n",
      "Created control: ConfinedCylinder_ConvergenceStudy_p4_meshNo0_Wi0.2_half\n",
      "Created control: ConfinedCylinder_ConvergenceStudy_p4_meshNo1_Wi0.2_half\n",
      "Created control: ConfinedCylinder_ConvergenceStudy_p4_meshNo2_Wi0.2_half\n",
      "Created control: ConfinedCylinder_ConvergenceStudy_p4_meshNo3_Wi0.2_half\n"
     ]
    }
   ],
   "source": [
    "Controls.Clear();\n",
    "double _beta = 0.59;\n",
    "double _Reynolds = 1.0;\n",
    "foreach(double Weissenberg in WeissenbergS) {\n",
    "foreach(int degree in pOrder) {\n",
    "int elemInd = 0;\n",
    "foreach(var grd in grids) {\n",
    "\n",
    "    //Database\n",
    "    RheologyControl C = new RheologyControl();\n",
    "    C.savetodb        = true;\n",
    "    C.DbPath          = myDb.Path;\n",
    "    C.ProjectName     = \"Cylinder\";\n",
    "    C.SetGrid(grd);\n",
    "    C.TracingNamespaces = \"BoSSS,ilPSP\";\n",
    "\n",
    "    //SolverChooser\n",
    "    C.NonLinearSolver.MaxSolverIterations  = 100;\n",
    "    C.NonLinearSolver.MinSolverIterations  = 3;\n",
    "    C.NonLinearSolver.ConvergenceCriterion = 1E-6;\n",
    "    C.NonLinearSolver.SolverCode           = NonLinearSolverCode.Newton;\n",
    "    C.LinearSolver.SolverCode = LinearSolverCode.classic_pardiso;\n",
    "\n",
    "    //Timestepping\n",
    "    C.TimesteppingMode   = AppControl._TimesteppingMode.Steady;\n",
    "    C.Timestepper_Scheme = RheologyControl.TimesteppingScheme.ImplicitEuler;\n",
    "    C.ObjectiveParam     = 1.0;\n",
    "\n",
    "    //Configuration Shock capturing and body forces\n",
    "    //C.UsePerssonSensor       = false;\n",
    "    //C.SensorLimit            = 1e-4;\n",
    "    C.AdaptiveMeshRefinement = false;\n",
    "    C.RefinementLevel        = 10;\n",
    "    //C.UseArtificialDiffusion = false;\n",
    "    C.Bodyforces             = true;\n",
    "\n",
    "    //Physical parameters\n",
    "    C.beta                 = _beta;\n",
    "    C.Reynolds             = _Reynolds;\n",
    "    C.Weissenberg          = Weissenberg; //aim Weissenberg number!\n",
    "    //C.RaiseWeissenberg     = false;\n",
    "    //C.WeissenbergIncrement = 0.0;\n",
    "\n",
    "    //Penalties\n",
    "    C.ViscousPenaltyScaling = 1;\n",
    "    C.Penalty2              = 1;\n",
    "    C.Penalty1[0]           = 0.0;\n",
    "    C.Penalty1[1]           = 0.0;\n",
    "    C.PresPenalty2          = 1;  \n",
    "    C.PresPenalty1[0]       = 0.0;\n",
    "    C.PresPenalty1[1]       = 0.0;\n",
    "    C.alpha                 = 1;  \n",
    "    C.StressPenalty         = 1.0;\n",
    "\n",
    "    //Create Fields\n",
    "    C.SetDGdegree(degree);\n",
    "\n",
    "    //Set initial values\n",
    "    C.InitialValues.Add(\"VelocityX\", new Formula(\"InitialValues.VelocityXfunction\", false, MyInitCode.InitCode(1, Weissenberg, _beta)));\n",
    "    C.InitialValues.Add(\"VelocityY\", new Formula(\"InitialValues.VelocityYfunction\", false, MyInitCode.InitCode(1, Weissenberg, _beta)));\n",
    "    if(Weissenberg == 0.0)\n",
    "        C.InitialValues.Add(\"StressXX\", new Formula(\"InitialValues.StressXXfunction_wi00\", false, MyInitCode.InitCode(1, Weissenberg, _beta)));\n",
    "    else if(Weissenberg == 0.2)\n",
    "        C.InitialValues.Add(\"StressXX\", new Formula(\"InitialValues.StressXXfunction_wi02\", false, MyInitCode.InitCode(1, Weissenberg, _beta)));\n",
    "    else\n",
    "        throw new NotImplementedException(\"Missing Weissenberg = \" + Weissenberg);    \n",
    "    C.InitialValues.Add(\"StressXY\", new Formula(\"InitialValues.StressXYfunction\", false, MyInitCode.InitCode(1, Weissenberg, _beta)));\n",
    "    C.InitialValues.Add(\"StressYY\", new Formula(\"InitialValues.StressYYfunction\", false, MyInitCode.InitCode(1, Weissenberg, _beta)));\n",
    "\n",
    "    //Set Boundary Conditions\n",
    "    //C.AddBoundaryValue(\"Wall_top\", \"VelocityX\", Wall);\n",
    "    //C.AddBoundaryValue(\"Wall_top\", \"VelocityY\", Wall);\n",
    "    //C.AddBoundaryValue(\"Wall_cylinder\", \"VelocityX\", Wall);\n",
    "    //C.AddBoundaryValue(\"Wall_cylinder\", \"VelocityY\", Wall);\n",
    "\n",
    "    C.AddBoundaryValue(\"Velocity_inlet\", \"VelocityX\", new Formula(\"InitialValues.VelocityXfunction\", false, MyInitCode.InitCode(1, Weissenberg, _beta)));\n",
    "    C.AddBoundaryValue(\"Velocity_inlet\", \"VelocityY\", new Formula(\"InitialValues.VelocityYfunction\", false, MyInitCode.InitCode(1, Weissenberg, _beta)));\n",
    "    if(Weissenberg == 0.0)\n",
    "        C.AddBoundaryValue(\"Velocity_inlet\", \"StressXX\", new Formula(\"InitialValues.StressXXfunction_wi00\", false, MyInitCode.InitCode(1, Weissenberg, _beta)));\n",
    "    else if(Weissenberg == 0.2)\n",
    "        C.AddBoundaryValue(\"Velocity_inlet\", \"StressXX\", new Formula(\"InitialValues.StressXXfunction_wi02\", false, MyInitCode.InitCode(1, Weissenberg, _beta)));\n",
    "    else\n",
    "        throw new NotImplementedException(\"Missing Weissenberg = \" + Weissenberg);\n",
    "    C.AddBoundaryValue(\"Velocity_inlet\", \"StressXY\", new Formula(\"InitialValues.StressXYfunction\", false, MyInitCode.InitCode(1, Weissenberg, _beta)));\n",
    "    C.AddBoundaryValue(\"Velocity_inlet\", \"StressYY\", new Formula(\"InitialValues.StressYYfunction\", false, MyInitCode.InitCode(1, Weissenberg, _beta))); \n",
    "            \n",
    "    //Save Session and next...\n",
    "    C.SessionName = $\"ConfinedCylinder_ConvergenceStudy_p{degree}_meshNo{elemInd}_Wi{Weissenberg}_half\";\n",
    "    Controls.Add(C);\n",
    "    Console.WriteLine(\"Created control: \" + C.SessionName);\n",
    "    elemInd++;\n",
    "}\n",
    "}\n",
    "}"
   ]
  },
  {
   "cell_type": "markdown",
   "metadata": {
    "dotnet_interactive": {
     "language": "csharp"
    }
   },
   "source": [
    "## Launch Jobs"
   ]
  },
  {
   "cell_type": "code",
   "execution_count": 33,
   "metadata": {
    "dotnet_interactive": {
     "language": "csharp"
    }
   },
   "outputs": [
    {
     "data": {
      "text/html": [
       "<div class=\"dni-plaintext\">32</div>"
      ]
     },
     "execution_count": 33,
     "metadata": {},
     "output_type": "execute_result"
    }
   ],
   "source": [
    "Controls.Count"
   ]
  },
  {
   "cell_type": "code",
   "execution_count": 34,
   "metadata": {
    "dotnet_interactive": {
     "language": "csharp"
    }
   },
   "outputs": [
    {
     "name": "stdout",
     "output_type": "stream",
     "text": [
      "Deploying job ConfinedCylinder_ConvergenceStudy_p1_meshNo0_Wi0_half ... \n",
      "Deploying executables and additional files ...\n",
      "Deployment directory: W:\\bosss_deploy\\ConfinedCylinder_ConvergenceStudy-RheologySolver2021Jun22_185746\n"
     ]
    },
    {
     "name": "stderr",
     "output_type": "stream",
     "text": [
      "IOException  copy of file 'C:\\Users\\flori\\Documents\\BoSSS-kummer\\public\\src\\L4-application\\BoSSSpad\\bin\\Release\\net5.0\\ilPSP.dll' --> 'W:\\bosss_deploy\\ConfinedCylinder_ConvergenceStudy-RheologySolver2021Jun22_185746\\ilPSP.dll' : The request could not be performed because of an I/O device error. : 'W:\\bosss_deploy\\ConfinedCylinder_ConvergenceStudy-RheologySolver2021Jun22_185746\\ilPSP.dll'\r\n"
     ]
    },
    {
     "name": "stdout",
     "output_type": "stream",
     "text": [
      "Retrying 1 of 10 (waiting for some time before) ...\r\n"
     ]
    },
    {
     "name": "stderr",
     "output_type": "stream",
     "text": [
      "IOException  copy of file 'C:\\Users\\flori\\Documents\\BoSSS-kummer\\public\\src\\L4-application\\BoSSSpad\\bin\\Release\\net5.0\\ilPSP.dll' --> 'W:\\bosss_deploy\\ConfinedCylinder_ConvergenceStudy-RheologySolver2021Jun22_185746\\ilPSP.dll' : The request could not be performed because of an I/O device error. : 'W:\\bosss_deploy\\ConfinedCylinder_ConvergenceStudy-RheologySolver2021Jun22_185746\\ilPSP.dll'\r\n"
     ]
    },
    {
     "name": "stdout",
     "output_type": "stream",
     "text": [
      "Retrying 2 of 10 (waiting for some time before) ...\r\n"
     ]
    },
    {
     "name": "stderr",
     "output_type": "stream",
     "text": [
      "IOException  copy of file 'C:\\Users\\flori\\Documents\\BoSSS-kummer\\public\\src\\L4-application\\BoSSSpad\\bin\\Release\\net5.0\\ilPSP.dll' --> 'W:\\bosss_deploy\\ConfinedCylinder_ConvergenceStudy-RheologySolver2021Jun22_185746\\ilPSP.dll' : The request could not be performed because of an I/O device error. : 'W:\\bosss_deploy\\ConfinedCylinder_ConvergenceStudy-RheologySolver2021Jun22_185746\\ilPSP.dll'\r\n"
     ]
    },
    {
     "name": "stdout",
     "output_type": "stream",
     "text": [
      "Retrying 3 of 10 (waiting for some time before) ...\n",
      "success.\n",
      "copied 47 files.\n",
      "   written file: control.obj\n",
      "deployment finished.\n",
      "18727080\n",
      "\n",
      "Deploying job ConfinedCylinder_ConvergenceStudy_p1_meshNo1_Wi0_half ... \n",
      "Deploying executables and additional files ...\n",
      "Deployment directory: W:\\bosss_deploy\\ConfinedCylinder_ConvergenceStudy-RheologySolver2021Jun22_190045\n",
      "copied 47 files.\n",
      "   written file: control.obj\n",
      "deployment finished.\n",
      "18727104\n",
      "\n",
      "Deploying job ConfinedCylinder_ConvergenceStudy_p1_meshNo2_Wi0_half ... \n",
      "Deploying executables and additional files ...\n",
      "Deployment directory: W:\\bosss_deploy\\ConfinedCylinder_ConvergenceStudy-RheologySolver2021Jun22_190126\n",
      "copied 47 files.\n",
      "   written file: control.obj\n",
      "deployment finished.\n",
      "18727141\n",
      "\n",
      "Deploying job ConfinedCylinder_ConvergenceStudy_p1_meshNo3_Wi0_half ... \n",
      "Deploying executables and additional files ...\n",
      "Deployment directory: W:\\bosss_deploy\\ConfinedCylinder_ConvergenceStudy-RheologySolver2021Jun22_190211\n",
      "copied 47 files.\n",
      "   written file: control.obj\n",
      "deployment finished.\n",
      "18727175\n",
      "\n",
      "Deploying job ConfinedCylinder_ConvergenceStudy_p2_meshNo0_Wi0_half ... \n",
      "Deploying executables and additional files ...\n",
      "Deployment directory: W:\\bosss_deploy\\ConfinedCylinder_ConvergenceStudy-RheologySolver2021Jun22_190253\n",
      "copied 47 files.\n",
      "   written file: control.obj\n",
      "deployment finished.\n",
      "18727209\n",
      "\n",
      "Deploying job ConfinedCylinder_ConvergenceStudy_p2_meshNo1_Wi0_half ... \n",
      "Deploying executables and additional files ...\n",
      "Deployment directory: W:\\bosss_deploy\\ConfinedCylinder_ConvergenceStudy-RheologySolver2021Jun22_190347\n",
      "copied 47 files.\n",
      "   written file: control.obj\n",
      "deployment finished.\n",
      "18727249\n",
      "\n",
      "Deploying job ConfinedCylinder_ConvergenceStudy_p2_meshNo2_Wi0_half ... \n",
      "Deploying executables and additional files ...\n",
      "Deployment directory: W:\\bosss_deploy\\ConfinedCylinder_ConvergenceStudy-RheologySolver2021Jun22_190443\n",
      "copied 47 files.\n",
      "   written file: control.obj\n",
      "deployment finished.\n",
      "18727287\n",
      "\n",
      "Deploying job ConfinedCylinder_ConvergenceStudy_p2_meshNo3_Wi0_half ... \n",
      "Deploying executables and additional files ...\n",
      "Deployment directory: W:\\bosss_deploy\\ConfinedCylinder_ConvergenceStudy-RheologySolver2021Jun22_190545\n",
      "copied 47 files.\n",
      "   written file: control.obj\n",
      "deployment finished.\n",
      "18727328\n",
      "\n",
      "Deploying job ConfinedCylinder_ConvergenceStudy_p3_meshNo0_Wi0_half ... \n",
      "Deploying executables and additional files ...\n",
      "Deployment directory: W:\\bosss_deploy\\ConfinedCylinder_ConvergenceStudy-RheologySolver2021Jun22_190645\n",
      "copied 47 files.\n",
      "   written file: control.obj\n",
      "deployment finished.\n",
      "18727366\n",
      "\n",
      "Deploying job ConfinedCylinder_ConvergenceStudy_p3_meshNo1_Wi0_half ... \n",
      "Deploying executables and additional files ...\n",
      "Deployment directory: W:\\bosss_deploy\\ConfinedCylinder_ConvergenceStudy-RheologySolver2021Jun22_190733\n"
     ]
    },
    {
     "name": "stderr",
     "output_type": "stream",
     "text": [
      "IOException  copy of file 'C:\\Users\\flori\\Documents\\BoSSS-kummer\\public\\src\\L4-application\\BoSSSpad\\bin\\Release\\net5.0\\BoSSS.Solution.AdvancedSolvers.dll' --> 'W:\\bosss_deploy\\ConfinedCylinder_ConvergenceStudy-RheologySolver2021Jun22_190733\\BoSSS.Solution.AdvancedSolvers.dll' : The request could not be performed because of an I/O device error. : 'W:\\bosss_deploy\\ConfinedCylinder_ConvergenceStudy-RheologySolver2021Jun22_190733\\BoSSS.Solution.AdvancedSolvers.dll'\r\n"
     ]
    },
    {
     "name": "stdout",
     "output_type": "stream",
     "text": [
      "Retrying 1 of 10 (waiting for some time before) ...\n",
      "success.\n",
      "copied 47 files.\n",
      "   written file: control.obj\n",
      "deployment finished.\n",
      "18727436\n",
      "\n",
      "Deploying job ConfinedCylinder_ConvergenceStudy_p3_meshNo2_Wi0_half ... \n",
      "Deploying executables and additional files ...\n",
      "Deployment directory: W:\\bosss_deploy\\ConfinedCylinder_ConvergenceStudy-RheologySolver2021Jun22_190900\n"
     ]
    },
    {
     "name": "stderr",
     "output_type": "stream",
     "text": [
      "IOException  copy of file 'C:\\Users\\flori\\Documents\\BoSSS-kummer\\public\\src\\L4-application\\BoSSSpad\\bin\\Release\\net5.0\\System.Configuration.ConfigurationManager.dll' --> 'W:\\bosss_deploy\\ConfinedCylinder_ConvergenceStudy-RheologySolver2021Jun22_190900\\System.Configuration.ConfigurationManager.dll' : The request could not be performed because of an I/O device error. : 'W:\\bosss_deploy\\ConfinedCylinder_ConvergenceStudy-RheologySolver2021Jun22_190900\\System.Configuration.ConfigurationManager.dll'\r\n"
     ]
    },
    {
     "name": "stdout",
     "output_type": "stream",
     "text": [
      "Retrying 1 of 10 (waiting for some time before) ...\r\n"
     ]
    },
    {
     "name": "stderr",
     "output_type": "stream",
     "text": [
      "IOException  copy of file 'C:\\Users\\flori\\Documents\\BoSSS-kummer\\public\\src\\L4-application\\BoSSSpad\\bin\\Release\\net5.0\\System.Configuration.ConfigurationManager.dll' --> 'W:\\bosss_deploy\\ConfinedCylinder_ConvergenceStudy-RheologySolver2021Jun22_190900\\System.Configuration.ConfigurationManager.dll' : The request could not be performed because of an I/O device error. : 'W:\\bosss_deploy\\ConfinedCylinder_ConvergenceStudy-RheologySolver2021Jun22_190900\\System.Configuration.ConfigurationManager.dll'\r\n"
     ]
    },
    {
     "name": "stdout",
     "output_type": "stream",
     "text": [
      "Retrying 2 of 10 (waiting for some time before) ...\r\n"
     ]
    },
    {
     "name": "stderr",
     "output_type": "stream",
     "text": [
      "IOException  copy of file 'C:\\Users\\flori\\Documents\\BoSSS-kummer\\public\\src\\L4-application\\BoSSSpad\\bin\\Release\\net5.0\\System.Configuration.ConfigurationManager.dll' --> 'W:\\bosss_deploy\\ConfinedCylinder_ConvergenceStudy-RheologySolver2021Jun22_190900\\System.Configuration.ConfigurationManager.dll' : The request could not be performed because of an I/O device error. : 'W:\\bosss_deploy\\ConfinedCylinder_ConvergenceStudy-RheologySolver2021Jun22_190900\\System.Configuration.ConfigurationManager.dll'\r\n"
     ]
    },
    {
     "name": "stdout",
     "output_type": "stream",
     "text": [
      "Retrying 3 of 10 (waiting for some time before) ...\r\n"
     ]
    },
    {
     "name": "stderr",
     "output_type": "stream",
     "text": [
      "IOException  copy of file 'C:\\Users\\flori\\Documents\\BoSSS-kummer\\public\\src\\L4-application\\BoSSSpad\\bin\\Release\\net5.0\\System.Configuration.ConfigurationManager.dll' --> 'W:\\bosss_deploy\\ConfinedCylinder_ConvergenceStudy-RheologySolver2021Jun22_190900\\System.Configuration.ConfigurationManager.dll' : The request could not be performed because of an I/O device error. : 'W:\\bosss_deploy\\ConfinedCylinder_ConvergenceStudy-RheologySolver2021Jun22_190900\\System.Configuration.ConfigurationManager.dll'\r\n"
     ]
    },
    {
     "name": "stdout",
     "output_type": "stream",
     "text": [
      "Retrying 4 of 10 (waiting for some time before) ...\r\n"
     ]
    },
    {
     "name": "stderr",
     "output_type": "stream",
     "text": [
      "IOException  copy of file 'C:\\Users\\flori\\Documents\\BoSSS-kummer\\public\\src\\L4-application\\BoSSSpad\\bin\\Release\\net5.0\\System.Configuration.ConfigurationManager.dll' --> 'W:\\bosss_deploy\\ConfinedCylinder_ConvergenceStudy-RheologySolver2021Jun22_190900\\System.Configuration.ConfigurationManager.dll' : The request could not be performed because of an I/O device error. : 'W:\\bosss_deploy\\ConfinedCylinder_ConvergenceStudy-RheologySolver2021Jun22_190900\\System.Configuration.ConfigurationManager.dll'\r\n"
     ]
    },
    {
     "name": "stdout",
     "output_type": "stream",
     "text": [
      "Retrying 5 of 10 (waiting for some time before) ...\r\n"
     ]
    },
    {
     "name": "stderr",
     "output_type": "stream",
     "text": [
      "IOException  copy of file 'C:\\Users\\flori\\Documents\\BoSSS-kummer\\public\\src\\L4-application\\BoSSSpad\\bin\\Release\\net5.0\\System.Configuration.ConfigurationManager.dll' --> 'W:\\bosss_deploy\\ConfinedCylinder_ConvergenceStudy-RheologySolver2021Jun22_190900\\System.Configuration.ConfigurationManager.dll' : The request could not be performed because of an I/O device error. : 'W:\\bosss_deploy\\ConfinedCylinder_ConvergenceStudy-RheologySolver2021Jun22_190900\\System.Configuration.ConfigurationManager.dll'\r\n"
     ]
    },
    {
     "name": "stdout",
     "output_type": "stream",
     "text": [
      "Retrying 6 of 10 (waiting for some time before) ...\r\n"
     ]
    },
    {
     "name": "stderr",
     "output_type": "stream",
     "text": [
      "IOException  copy of file 'C:\\Users\\flori\\Documents\\BoSSS-kummer\\public\\src\\L4-application\\BoSSSpad\\bin\\Release\\net5.0\\System.Configuration.ConfigurationManager.dll' --> 'W:\\bosss_deploy\\ConfinedCylinder_ConvergenceStudy-RheologySolver2021Jun22_190900\\System.Configuration.ConfigurationManager.dll' : The request could not be performed because of an I/O device error. : 'W:\\bosss_deploy\\ConfinedCylinder_ConvergenceStudy-RheologySolver2021Jun22_190900\\System.Configuration.ConfigurationManager.dll'\r\n"
     ]
    },
    {
     "name": "stdout",
     "output_type": "stream",
     "text": [
      "Retrying 7 of 10 (waiting for some time before) ...\r\n"
     ]
    },
    {
     "name": "stderr",
     "output_type": "stream",
     "text": [
      "IOException  copy of file 'C:\\Users\\flori\\Documents\\BoSSS-kummer\\public\\src\\L4-application\\BoSSSpad\\bin\\Release\\net5.0\\System.Configuration.ConfigurationManager.dll' --> 'W:\\bosss_deploy\\ConfinedCylinder_ConvergenceStudy-RheologySolver2021Jun22_190900\\System.Configuration.ConfigurationManager.dll' : The request could not be performed because of an I/O device error. : 'W:\\bosss_deploy\\ConfinedCylinder_ConvergenceStudy-RheologySolver2021Jun22_190900\\System.Configuration.ConfigurationManager.dll'\r\n"
     ]
    },
    {
     "name": "stdout",
     "output_type": "stream",
     "text": [
      "Retrying 8 of 10 (waiting for some time before) ...\r\n"
     ]
    },
    {
     "name": "stderr",
     "output_type": "stream",
     "text": [
      "IOException  copy of file 'C:\\Users\\flori\\Documents\\BoSSS-kummer\\public\\src\\L4-application\\BoSSSpad\\bin\\Release\\net5.0\\System.Configuration.ConfigurationManager.dll' --> 'W:\\bosss_deploy\\ConfinedCylinder_ConvergenceStudy-RheologySolver2021Jun22_190900\\System.Configuration.ConfigurationManager.dll' : The request could not be performed because of an I/O device error. : 'W:\\bosss_deploy\\ConfinedCylinder_ConvergenceStudy-RheologySolver2021Jun22_190900\\System.Configuration.ConfigurationManager.dll'\r\n"
     ]
    },
    {
     "name": "stdout",
     "output_type": "stream",
     "text": [
      "Retrying 9 of 10 (waiting for some time before) ...\r\n"
     ]
    },
    {
     "name": "stderr",
     "output_type": "stream",
     "text": [
      "IOException  copy of file 'C:\\Users\\flori\\Documents\\BoSSS-kummer\\public\\src\\L4-application\\BoSSSpad\\bin\\Release\\net5.0\\System.Configuration.ConfigurationManager.dll' --> 'W:\\bosss_deploy\\ConfinedCylinder_ConvergenceStudy-RheologySolver2021Jun22_190900\\System.Configuration.ConfigurationManager.dll' : The request could not be performed because of an I/O device error. : 'W:\\bosss_deploy\\ConfinedCylinder_ConvergenceStudy-RheologySolver2021Jun22_190900\\System.Configuration.ConfigurationManager.dll'\r\n"
     ]
    },
    {
     "name": "stdout",
     "output_type": "stream",
     "text": [
      "Retrying 10 of 10 (waiting for some time before) ...\r\n"
     ]
    },
    {
     "ename": "Unhandled exception",
     "evalue": "System.IO.IOException: The request could not be performed because of an I/O device error. : 'W:\\bosss_deploy\\ConfinedCylinder_ConvergenceStudy-RheologySolver2021Jun22_190900\\System.Configuration.ConfigurationManager.dll'\r\n   at BoSSS.Application.BoSSSpad.MetaJobMgrIO.RetryIOop(Func`2 op, String Message, Boolean SurpressException) in C:\\Users\\flori\\Documents\\BoSSS-kummer\\public\\src\\L4-application\\BoSSSpad\\BatchProcessorClient.cs:line 394\r\n   at BoSSS.Application.BoSSSpad.Job.DeployExecuteables() in C:\\Users\\flori\\Documents\\BoSSS-kummer\\public\\src\\L4-application\\BoSSSpad\\Job.cs:line 1519\r\n   at BoSSS.Application.BoSSSpad.Job.Activate(BatchProcessorClient bpc, Boolean DeleteOldDeploymentsAndSessions) in C:\\Users\\flori\\Documents\\BoSSS-kummer\\public\\src\\L4-application\\BoSSSpad\\Job.cs:line 1212\r\n   at Submission#37.<<Initialize>>d__0.MoveNext()\r\n--- End of stack trace from previous location ---\r\n   at Microsoft.CodeAnalysis.Scripting.ScriptExecutionState.RunSubmissionsAsync[TResult](ImmutableArray`1 precedingExecutors, Func`2 currentExecutor, StrongBox`1 exceptionHolderOpt, Func`2 catchExceptionOpt, CancellationToken cancellationToken)",
     "output_type": "error",
     "traceback": [
      "System.IO.IOException: The request could not be performed because of an I/O device error. : 'W:\\bosss_deploy\\ConfinedCylinder_ConvergenceStudy-RheologySolver2021Jun22_190900\\System.Configuration.ConfigurationManager.dll'\r\n   at BoSSS.Application.BoSSSpad.MetaJobMgrIO.RetryIOop(Func`2 op, String Message, Boolean SurpressException) in C:\\Users\\flori\\Documents\\BoSSS-kummer\\public\\src\\L4-application\\BoSSSpad\\BatchProcessorClient.cs:line 394\r\n   at BoSSS.Application.BoSSSpad.Job.DeployExecuteables() in C:\\Users\\flori\\Documents\\BoSSS-kummer\\public\\src\\L4-application\\BoSSSpad\\Job.cs:line 1519\r\n   at BoSSS.Application.BoSSSpad.Job.Activate(BatchProcessorClient bpc, Boolean DeleteOldDeploymentsAndSessions) in C:\\Users\\flori\\Documents\\BoSSS-kummer\\public\\src\\L4-application\\BoSSSpad\\Job.cs:line 1212\r\n   at Submission#37.<<Initialize>>d__0.MoveNext()\r\n--- End of stack trace from previous location ---\r\n   at Microsoft.CodeAnalysis.Scripting.ScriptExecutionState.RunSubmissionsAsync[TResult](ImmutableArray`1 precedingExecutors, Func`2 currentExecutor, StrongBox`1 exceptionHolderOpt, Func`2 catchExceptionOpt, CancellationToken cancellationToken)",
      "   at BoSSS.Application.BoSSSpad.MetaJobMgrIO.RetryIOop(Func`2 op, String Message, Boolean SurpressException) in C:\\Users\\flori\\Documents\\BoSSS-kummer\\public\\src\\L4-application\\BoSSSpad\\BatchProcessorClient.cs:line 394",
      "   at BoSSS.Application.BoSSSpad.Job.DeployExecuteables() in C:\\Users\\flori\\Documents\\BoSSS-kummer\\public\\src\\L4-application\\BoSSSpad\\Job.cs:line 1519",
      "   at BoSSS.Application.BoSSSpad.Job.Activate(BatchProcessorClient bpc, Boolean DeleteOldDeploymentsAndSessions) in C:\\Users\\flori\\Documents\\BoSSS-kummer\\public\\src\\L4-application\\BoSSSpad\\Job.cs:line 1212",
      "   at Submission#37.<<Initialize>>d__0.MoveNext()",
      "--- End of stack trace from previous location ---",
      "   at Microsoft.CodeAnalysis.Scripting.ScriptExecutionState.RunSubmissionsAsync[TResult](ImmutableArray`1 precedingExecutors, Func`2 currentExecutor, StrongBox`1 exceptionHolderOpt, Func`2 catchExceptionOpt, CancellationToken cancellationToken)"
     ]
    }
   ],
   "source": [
    "foreach(var ctrl in Controls) {\n",
    "    var oneJob              = ctrl.CreateJob();\n",
    "    oneJob.NumberOfMPIProcs = 1;\n",
    "    //oneJob.ExecutionTime    = \"24:00:00\";\n",
    "    oneJob.Activate(myBatch);\n",
    "}"
   ]
  },
  {
   "cell_type": "code",
   "execution_count": 35,
   "metadata": {
    "dotnet_interactive": {
     "language": "csharp"
    }
   },
   "outputs": [
    {
     "data": {
      "text/plain": [
       "#0: ConfinedCylinder_ConvergenceStudy_p1_meshNo0_Wi0_half: FailedOrCanceled (SlurmClient Lb2-specialPrj : fk69umer@lcluster16.hrz.tu-darmstadt.de, Slurm account: special00006)\tConfinedCylinder_ConvergenceStudy_p1_meshNo0_Wi0_half: FailedOrCanceled (SlurmClient Lb2-specialPrj : fk69umer@lcluster16.hrz.tu-darmstadt.de, Slurm account: special00006)\r\n",
       "#1: ConfinedCylinder_ConvergenceStudy_p1_meshNo1_Wi0_half: FailedOrCanceled (SlurmClient Lb2-specialPrj : fk69umer@lcluster16.hrz.tu-darmstadt.de, Slurm account: special00006)\tConfinedCylinder_ConvergenceStudy_p1_meshNo1_Wi0_half: FailedOrCanceled (SlurmClient Lb2-specialPrj : fk69umer@lcluster16.hrz.tu-darmstadt.de, Slurm account: special00006)\r\n",
       "#2: ConfinedCylinder_ConvergenceStudy_p1_meshNo2_Wi0_half: FailedOrCanceled (SlurmClient Lb2-specialPrj : fk69umer@lcluster16.hrz.tu-darmstadt.de, Slurm account: special00006)\tConfinedCylinder_ConvergenceStudy_p1_meshNo2_Wi0_half: FailedOrCanceled (SlurmClient Lb2-specialPrj : fk69umer@lcluster16.hrz.tu-darmstadt.de, Slurm account: special00006)\r\n",
       "#3: ConfinedCylinder_ConvergenceStudy_p1_meshNo3_Wi0_half: FailedOrCanceled (SlurmClient Lb2-specialPrj : fk69umer@lcluster16.hrz.tu-darmstadt.de, Slurm account: special00006)\tConfinedCylinder_ConvergenceStudy_p1_meshNo3_Wi0_half: FailedOrCanceled (SlurmClient Lb2-specialPrj : fk69umer@lcluster16.hrz.tu-darmstadt.de, Slurm account: special00006)\r\n",
       "#4: ConfinedCylinder_ConvergenceStudy_p2_meshNo0_Wi0_half: FailedOrCanceled (SlurmClient Lb2-specialPrj : fk69umer@lcluster16.hrz.tu-darmstadt.de, Slurm account: special00006)\tConfinedCylinder_ConvergenceStudy_p2_meshNo0_Wi0_half: FailedOrCanceled (SlurmClient Lb2-specialPrj : fk69umer@lcluster16.hrz.tu-darmstadt.de, Slurm account: special00006)\r\n",
       "#5: ConfinedCylinder_ConvergenceStudy_p2_meshNo1_Wi0_half: FailedOrCanceled (SlurmClient Lb2-specialPrj : fk69umer@lcluster16.hrz.tu-darmstadt.de, Slurm account: special00006)\tConfinedCylinder_ConvergenceStudy_p2_meshNo1_Wi0_half: FailedOrCanceled (SlurmClient Lb2-specialPrj : fk69umer@lcluster16.hrz.tu-darmstadt.de, Slurm account: special00006)\r\n",
       "#6: ConfinedCylinder_ConvergenceStudy_p2_meshNo2_Wi0_half: FailedOrCanceled (SlurmClient Lb2-specialPrj : fk69umer@lcluster16.hrz.tu-darmstadt.de, Slurm account: special00006)\tConfinedCylinder_ConvergenceStudy_p2_meshNo2_Wi0_half: FailedOrCanceled (SlurmClient Lb2-specialPrj : fk69umer@lcluster16.hrz.tu-darmstadt.de, Slurm account: special00006)\r\n",
       "#7: ConfinedCylinder_ConvergenceStudy_p2_meshNo3_Wi0_half: FailedOrCanceled (SlurmClient Lb2-specialPrj : fk69umer@lcluster16.hrz.tu-darmstadt.de, Slurm account: special00006)\tConfinedCylinder_ConvergenceStudy_p2_meshNo3_Wi0_half: FailedOrCanceled (SlurmClient Lb2-specialPrj : fk69umer@lcluster16.hrz.tu-darmstadt.de, Slurm account: special00006)\r\n",
       "#8: ConfinedCylinder_ConvergenceStudy_p3_meshNo0_Wi0_half: FailedOrCanceled (SlurmClient Lb2-specialPrj : fk69umer@lcluster16.hrz.tu-darmstadt.de, Slurm account: special00006)\tConfinedCylinder_ConvergenceStudy_p3_meshNo0_Wi0_half: FailedOrCanceled (SlurmClient Lb2-specialPrj : fk69umer@lcluster16.hrz.tu-darmstadt.de, Slurm account: special00006)\r\n",
       "#9: ConfinedCylinder_ConvergenceStudy_p3_meshNo1_Wi0_half: FailedOrCanceled (SlurmClient Lb2-specialPrj : fk69umer@lcluster16.hrz.tu-darmstadt.de, Slurm account: special00006)\tConfinedCylinder_ConvergenceStudy_p3_meshNo1_Wi0_half: FailedOrCanceled (SlurmClient Lb2-specialPrj : fk69umer@lcluster16.hrz.tu-darmstadt.de, Slurm account: special00006)\r\n",
       "#10: ConfinedCylinder_ConvergenceStudy_p3_meshNo2_Wi0_half: Unknown (SlurmClient Lb2-specialPrj : fk69umer@lcluster16.hrz.tu-darmstadt.de, Slurm account: special00006)\tConfinedCylinder_ConvergenceStudy_p3_meshNo2_Wi0_half: Unknown (SlurmClient Lb2-specialPrj : fk69umer@lcluster16.hrz.tu-darmstadt.de, Slurm account: special00006)\r\n"
      ]
     },
     "execution_count": 35,
     "metadata": {},
     "output_type": "execute_result"
    }
   ],
   "source": [
    "BoSSSshell.WorkflowMgm.AllJobs"
   ]
  },
  {
   "cell_type": "code",
   "execution_count": null,
   "metadata": {
    "dotnet_interactive": {
     "language": "csharp"
    }
   },
   "outputs": [],
   "source": []
  },
  {
   "cell_type": "code",
   "execution_count": 20,
   "metadata": {
    "dotnet_interactive": {
     "language": "csharp"
    }
   },
   "outputs": [],
   "source": [
    "var suspects = BoSSSshell.WorkflowMgm.AllJobs.Select(kv => kv.Value).Where(job => job.Status == JobStatus.FailedOrCanceled).ToArray();"
   ]
  },
  {
   "cell_type": "code",
   "execution_count": 21,
   "metadata": {
    "dotnet_interactive": {
     "language": "csharp"
    }
   },
   "outputs": [
    {
     "data": {
      "text/html": [
       "<i>(empty)</i>"
      ]
     },
     "execution_count": 21,
     "metadata": {},
     "output_type": "execute_result"
    }
   ],
   "source": [
    "suspects"
   ]
  },
  {
   "cell_type": "code",
   "execution_count": null,
   "metadata": {
    "dotnet_interactive": {
     "language": "csharp"
    }
   },
   "outputs": [],
   "source": [
    "// wait for all jobs to finish (up to 5 days, check every 5 minutes)\n",
    "BoSSSshell.WorkflowMgm.BlockUntilAllJobsTerminate(TimeOutSeconds:(3600*24*5), PollingIntervallSeconds:(60*5));"
   ]
  },
  {
   "cell_type": "code",
   "execution_count": null,
   "metadata": {
    "dotnet_interactive": {
     "language": "csharp"
    }
   },
   "outputs": [],
   "source": []
  },
  {
   "cell_type": "code",
   "execution_count": 23,
   "metadata": {
    "dotnet_interactive": {
     "language": "csharp"
    }
   },
   "outputs": [
    {
     "data": {
      "text/html": [
       "<i>(empty)</i>"
      ]
     },
     "execution_count": 23,
     "metadata": {},
     "output_type": "execute_result"
    }
   ],
   "source": [
    "var suspects = BoSSSshell.WorkflowMgm.AllJobs.Select(kv => kv.Value)\n",
    "    .Where(job => job.LatestSession.Tags.Contains(SessionInfo.NOT_TERMINATED_TAG)\n",
    "                  || job.LatestSession.Tags.Contains(SessionInfo.SOLVER_ERROR)).ToArray();\n",
    "suspects"
   ]
  },
  {
   "cell_type": "code",
   "execution_count": null,
   "metadata": {
    "dotnet_interactive": {
     "language": "csharp"
    }
   },
   "outputs": [],
   "source": []
  },
  {
   "cell_type": "code",
   "execution_count": 24,
   "metadata": {
    "dotnet_interactive": {
     "language": "csharp"
    }
   },
   "outputs": [],
   "source": [
    "//foreach(Job j in suspects) {\n",
    "//    j.DeleteOldDeploymentsAndSessions(); \n",
    "//}"
   ]
  },
  {
   "cell_type": "code",
   "execution_count": null,
   "metadata": {
    "dotnet_interactive": {
     "language": "csharp"
    }
   },
   "outputs": [],
   "source": []
  },
  {
   "cell_type": "code",
   "execution_count": 25,
   "metadata": {
    "dotnet_interactive": {
     "language": "csharp"
    }
   },
   "outputs": [],
   "source": [
    "var active = BoSSSshell.WorkflowMgm.AllJobs.Select(kv => kv.Value).Where(job => job.Status == JobStatus.InProgress).ToArray();"
   ]
  },
  {
   "cell_type": "code",
   "execution_count": 26,
   "metadata": {
    "dotnet_interactive": {
     "language": "csharp"
    }
   },
   "outputs": [],
   "source": [
    "//active"
   ]
  },
  {
   "cell_type": "code",
   "execution_count": 27,
   "metadata": {
    "dotnet_interactive": {
     "language": "csharp"
    }
   },
   "outputs": [],
   "source": [
    "//active[0].LatestDeployment.DeploymentDirectory;"
   ]
  },
  {
   "cell_type": "code",
   "execution_count": 28,
   "metadata": {
    "dotnet_interactive": {
     "language": "csharp"
    }
   },
   "outputs": [],
   "source": [
    "//active[0].Stdout;"
   ]
  },
  {
   "cell_type": "code",
   "execution_count": null,
   "metadata": {
    "dotnet_interactive": {
     "language": "csharp"
    }
   },
   "outputs": [],
   "source": []
  },
  {
   "cell_type": "code",
   "execution_count": null,
   "metadata": {
    "dotnet_interactive": {
     "language": "csharp"
    }
   },
   "outputs": [],
   "source": []
  }
 ],
 "metadata": {
  "kernelspec": {
   "display_name": ".NET (C#)",
   "language": "C#",
   "name": ".net-csharp"
  },
  "language_info": {
   "file_extension": ".cs",
   "mimetype": "text/x-csharp",
   "name": "C#",
   "pygments_lexer": "csharp",
   "version": "8.0"
  }
 },
 "nbformat": 4,
 "nbformat_minor": 4
}
