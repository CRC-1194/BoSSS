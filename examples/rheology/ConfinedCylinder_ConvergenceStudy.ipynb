{
 "cells": [
  {
   "cell_type": "markdown",
   "metadata": {},
   "source": [
    "# Rheological Flow around Confined Cylinder\n",
    "\n",
    "Results published:\n",
    "[Kikker, Kummer, Oberlack: A fully coupled high-order discontinuous Galerkin solver for viscoelastic fluid flow](https://onlinelibrary.wiley.com/doi/10.1002/fld.4950), \n",
    "see also at [tubiblio](http://tubiblio.ulb.tu-darmstadt.de/125045/)."
   ]
  },
  {
   "cell_type": "code",
   "execution_count": 1,
   "metadata": {
    "dotnet_interactive": {
     "language": "csharp"
    }
   },
   "outputs": [
    {
     "data": {
      "text/html": [
       "\r\n",
       "<div>\r\n",
       "    <div id='dotnet-interactive-this-cell-18616.Microsoft.DotNet.Interactive.Http.HttpPort' style='display: none'>\r\n",
       "        The below script needs to be able to find the current output cell; this is an easy method to get it.\r\n",
       "    </div>\r\n",
       "    <script type='text/javascript'>\r\n",
       "async function probeAddresses(probingAddresses) {\r\n",
       "    function timeout(ms, promise) {\r\n",
       "        return new Promise(function (resolve, reject) {\r\n",
       "            setTimeout(function () {\r\n",
       "                reject(new Error('timeout'))\r\n",
       "            }, ms)\r\n",
       "            promise.then(resolve, reject)\r\n",
       "        })\r\n",
       "    }\r\n",
       "\r\n",
       "    if (Array.isArray(probingAddresses)) {\r\n",
       "        for (let i = 0; i < probingAddresses.length; i++) {\r\n",
       "\r\n",
       "            let rootUrl = probingAddresses[i];\r\n",
       "\r\n",
       "            if (!rootUrl.endsWith('/')) {\r\n",
       "                rootUrl = `${rootUrl}/`;\r\n",
       "            }\r\n",
       "\r\n",
       "            try {\r\n",
       "                let response = await timeout(1000, fetch(`${rootUrl}discovery`, {\r\n",
       "                    method: 'POST',\r\n",
       "                    cache: 'no-cache',\r\n",
       "                    mode: 'cors',\r\n",
       "                    timeout: 1000,\r\n",
       "                    headers: {\r\n",
       "                        'Content-Type': 'text/plain'\r\n",
       "                    },\r\n",
       "                    body: probingAddresses[i]\r\n",
       "                }));\r\n",
       "\r\n",
       "                if (response.status == 200) {\r\n",
       "                    return rootUrl;\r\n",
       "                }\r\n",
       "            }\r\n",
       "            catch (e) { }\r\n",
       "        }\r\n",
       "    }\r\n",
       "}\r\n",
       "\r\n",
       "function loadDotnetInteractiveApi() {\r\n",
       "    probeAddresses([\"http://192.168.56.1:1000/\", \"http://169.254.113.120:1000/\", \"http://192.168.178.23:1000/\", \"http://192.168.174.1:1000/\", \"http://127.0.0.1:1000/\"])\r\n",
       "        .then((root) => {\r\n",
       "        // use probing to find host url and api resources\r\n",
       "        // load interactive helpers and language services\r\n",
       "        let dotnetInteractiveRequire = require.config({\r\n",
       "        context: '18616.Microsoft.DotNet.Interactive.Http.HttpPort',\r\n",
       "                paths:\r\n",
       "            {\r\n",
       "                'dotnet-interactive': `${root}resources`\r\n",
       "                }\r\n",
       "        }) || require;\r\n",
       "\r\n",
       "            window.dotnetInteractiveRequire = dotnetInteractiveRequire;\r\n",
       "\r\n",
       "            window.configureRequireFromExtension = function(extensionName, extensionCacheBuster) {\r\n",
       "                let paths = {};\r\n",
       "                paths[extensionName] = `${root}extensions/${extensionName}/resources/`;\r\n",
       "                \r\n",
       "                let internalRequire = require.config({\r\n",
       "                    context: extensionCacheBuster,\r\n",
       "                    paths: paths,\r\n",
       "                    urlArgs: `cacheBuster=${extensionCacheBuster}`\r\n",
       "                    }) || require;\r\n",
       "\r\n",
       "                return internalRequire\r\n",
       "            };\r\n",
       "        \r\n",
       "            dotnetInteractiveRequire([\r\n",
       "                    'dotnet-interactive/dotnet-interactive'\r\n",
       "                ],\r\n",
       "                function (dotnet) {\r\n",
       "                    dotnet.init(window);\r\n",
       "                },\r\n",
       "                function (error) {\r\n",
       "                    console.log(error);\r\n",
       "                }\r\n",
       "            );\r\n",
       "        })\r\n",
       "        .catch(error => {console.log(error);});\r\n",
       "    }\r\n",
       "\r\n",
       "// ensure `require` is available globally\r\n",
       "if ((typeof(require) !==  typeof(Function)) || (typeof(require.config) !== typeof(Function))) {\r\n",
       "    let require_script = document.createElement('script');\r\n",
       "    require_script.setAttribute('src', 'https://cdnjs.cloudflare.com/ajax/libs/require.js/2.3.6/require.min.js');\r\n",
       "    require_script.setAttribute('type', 'text/javascript');\r\n",
       "    \r\n",
       "    \r\n",
       "    require_script.onload = function() {\r\n",
       "        loadDotnetInteractiveApi();\r\n",
       "    };\r\n",
       "\r\n",
       "    document.getElementsByTagName('head')[0].appendChild(require_script);\r\n",
       "}\r\n",
       "else {\r\n",
       "    loadDotnetInteractiveApi();\r\n",
       "}\r\n",
       "\r\n",
       "    </script>\r\n",
       "</div>"
      ]
     },
     "metadata": {},
     "output_type": "display_data"
    }
   ],
   "source": [
    "//#r \"../../src/L4-application/BoSSSpad/bin/Release/net5.0/BoSSSpad.dll\"\n",
    "//#r \"../../src/L4-application/BoSSSpad/bin/Debug/net5.0/BoSSSpad.dll\"\n",
    "#r \"BoSSSpad.dll\"\n",
    "using System;\n",
    "using System.Collections.Generic;\n",
    "using System.Linq;\n",
    "using ilPSP;\n",
    "using ilPSP.Utils;\n",
    "using BoSSS.Platform;\n",
    "using BoSSS.Foundation;\n",
    "using BoSSS.Foundation.XDG;\n",
    "using BoSSS.Foundation.Grid;\n",
    "using BoSSS.Foundation.Grid.Classic;\n",
    "using BoSSS.Foundation.IO;\n",
    "using BoSSS.Solution;\n",
    "using BoSSS.Solution.Control;\n",
    "using BoSSS.Solution.GridImport;\n",
    "using BoSSS.Solution.Statistic;\n",
    "using BoSSS.Solution.Utils;\n",
    "using BoSSS.Solution.AdvancedSolvers;\n",
    "using BoSSS.Solution.Gnuplot;\n",
    "using BoSSS.Application.BoSSSpad;\n",
    "using BoSSS.Application.XNSE_Solver;\n",
    "using static BoSSS.Application.BoSSSpad.BoSSSshell;\n",
    "Init();"
   ]
  },
  {
   "cell_type": "code",
   "execution_count": 2,
   "metadata": {
    "dotnet_interactive": {
     "language": "csharp"
    }
   },
   "outputs": [],
   "source": [
    "using BoSSS.Application.Rheology;"
   ]
  },
  {
   "cell_type": "code",
   "execution_count": 3,
   "metadata": {
    "dotnet_interactive": {
     "language": "csharp"
    }
   },
   "outputs": [
    {
     "name": "stdout",
     "output_type": "stream",
     "text": [
      "Project name is set to 'ConfinedCylinder_ConvergenceStudy'.\r\n"
     ]
    }
   ],
   "source": [
    "BoSSSshell.WorkflowMgm.Init(\"ConfinedCylinder_ConvergenceStudy\");"
   ]
  },
  {
   "cell_type": "code",
   "execution_count": 4,
   "metadata": {
    "dotnet_interactive": {
     "language": "csharp"
    }
   },
   "outputs": [
    {
     "data": {
      "text/html": [
       "<table><thead><tr><th><i>index</i></th><th><i>type</i></th><th>DeploymentBaseDirectory</th><th>DeployRuntime</th><th>Name</th><th>DotnetRuntime</th><th>BatchInstructionDir</th><th>AllowedDatabasesPaths</th><th>Username</th><th>ServerName</th><th>ComputeNodes</th><th>DefaultJobPriority</th><th>SingleNode</th><th>Password</th><th>PrivateKeyFilePath</th><th>AdditionalBatchCommands</th><th>DeploymentBaseDirectoryAtRemote</th><th>SlurmAccount</th><th>Email</th><th>MonoDebug</th></tr></thead><tbody><tr><td>0</td><td>BoSSS.Application.BoSSSpad.MiniBatchProcessorClient</td><td><div class=\"dni-plaintext\">C:\\Users\\flori\\AppData\\Local\\BoSSS-LocalJobs</div></td><td><div class=\"dni-plaintext\">False</div></td><td><div class=\"dni-plaintext\">LocalPC</div></td><td><div class=\"dni-plaintext\">dotnet</div></td><td><div class=\"dni-plaintext\">&lt;null&gt;</div></td><td><div class=\"dni-plaintext\">[ C:\\ == , D:\\ ==  ]</div></td><td></td><td></td><td></td><td></td><td></td><td></td><td></td><td></td><td></td><td></td><td></td><td></td></tr><tr><td>1</td><td>BoSSS.Application.BoSSSpad.MsHPC2012Client</td><td><div class=\"dni-plaintext\">\\\\dc1\\userspace\\kummer\\cluster</div></td><td><div class=\"dni-plaintext\">False</div></td><td><div class=\"dni-plaintext\">FDY-WindowsHPC</div></td><td><div class=\"dni-plaintext\">dotnet</div></td><td></td><td><div class=\"dni-plaintext\">[ \\\\dc1\\userspace\\kummer ==  ]</div></td><td><div class=\"dni-plaintext\">FDY\\kummer</div></td><td><div class=\"dni-plaintext\">DC2</div></td><td><div class=\"dni-plaintext\">&lt;null&gt;</div></td><td><span>Normal</span></td><td><div class=\"dni-plaintext\">True</div></td><td></td><td></td><td></td><td></td><td></td><td></td><td></td></tr><tr><td>2</td><td>BoSSS.Application.BoSSSpad.SlurmClient</td><td><div class=\"dni-plaintext\">W:\\bosss_deploy</div></td><td><div class=\"dni-plaintext\">False</div></td><td><div class=\"dni-plaintext\">LbI</div></td><td><div class=\"dni-plaintext\">dotnet</div></td><td></td><td><div class=\"dni-plaintext\">[  ]</div></td><td><div class=\"dni-plaintext\">fk69umer</div></td><td><div class=\"dni-plaintext\">lcluster8.hrz.tu-darmstadt.de</div></td><td></td><td></td><td></td><td><div class=\"dni-plaintext\">&lt;null&gt;</div></td><td><div class=\"dni-plaintext\">C:\\Users\\flori\\.ssh\\id_rsa</div></td><td><div class=\"dni-plaintext\">&lt;null&gt;</div></td><td><div class=\"dni-plaintext\">/home/fk69umer/bosss_deploy</div></td><td><div class=\"dni-plaintext\">project01287</div></td><td><div class=\"dni-plaintext\">&lt;null&gt;</div></td><td><div class=\"dni-plaintext\">False</div></td></tr><tr><td>3</td><td>BoSSS.Application.BoSSSpad.SlurmClient</td><td><div class=\"dni-plaintext\">X:\\bosss_deploy</div></td><td><div class=\"dni-plaintext\">False</div></td><td><div class=\"dni-plaintext\">Lb2-specialPrj</div></td><td><div class=\"dni-plaintext\">dotnet</div></td><td></td><td><div class=\"dni-plaintext\">[ X: == /work/scratch/fk69umer ]</div></td><td><div class=\"dni-plaintext\">fk69umer</div></td><td><div class=\"dni-plaintext\">lcluster16.hrz.tu-darmstadt.de</div></td><td></td><td></td><td></td><td><div class=\"dni-plaintext\">&lt;null&gt;</div></td><td><div class=\"dni-plaintext\">C:\\Users\\flori\\.ssh\\id_rsa</div></td><td><div class=\"dni-plaintext\">[ #SBATCH -p test24, #SBATCH -C avx512, #SBATCH --mem-per-cpu=8000 ]</div></td><td><div class=\"dni-plaintext\">/work/scratch/fk69umer/bosss_deploy</div></td><td><div class=\"dni-plaintext\">special00006</div></td><td><div class=\"dni-plaintext\">&lt;null&gt;</div></td><td><div class=\"dni-plaintext\">False</div></td></tr></tbody></table>"
      ]
     },
     "execution_count": 4,
     "metadata": {},
     "output_type": "execute_result"
    }
   ],
   "source": [
    "ExecutionQueues"
   ]
  },
  {
   "cell_type": "code",
   "execution_count": 5,
   "metadata": {
    "dotnet_interactive": {
     "language": "csharp"
    }
   },
   "outputs": [],
   "source": [
    "var myBatch = GetDefaultQueue();"
   ]
  },
  {
   "cell_type": "code",
   "execution_count": 6,
   "metadata": {
    "dotnet_interactive": {
     "language": "csharp"
    }
   },
   "outputs": [
    {
     "name": "stdout",
     "output_type": "stream",
     "text": [
      "Creating database 'C:\\Rheology_ConfinedCylinder'.\r\n"
     ]
    }
   ],
   "source": [
    "var myDb = myBatch.CreateOrOpenCompatibleDatabase(\"Rheology_ConfinedCylinder\");"
   ]
  },
  {
   "cell_type": "code",
   "execution_count": 7,
   "metadata": {
    "dotnet_interactive": {
     "language": "csharp"
    }
   },
   "outputs": [],
   "source": [
    "BoSSSshell.WorkflowMgm.DefaultDatabase = myDb;"
   ]
  },
  {
   "cell_type": "markdown",
   "metadata": {
    "dotnet_interactive": {
     "language": "csharp"
    }
   },
   "source": [
    "## Parameter set for Convergence Study"
   ]
  },
  {
   "cell_type": "code",
   "execution_count": 8,
   "metadata": {
    "dotnet_interactive": {
     "language": "csharp"
    }
   },
   "outputs": [],
   "source": [
    "int[] pOrder = new int[] {1, 2, 3, 4};\n",
    "int numberGrids = 4;"
   ]
  },
  {
   "cell_type": "code",
   "execution_count": 9,
   "metadata": {
    "dotnet_interactive": {
     "language": "csharp"
    }
   },
   "outputs": [],
   "source": [
    "double[] WeissenbergS = new double[] { 0.0, 0.2 };"
   ]
  },
  {
   "cell_type": "markdown",
   "metadata": {
    "dotnet_interactive": {
     "language": "csharp"
    }
   },
   "source": [
    "## Init grids and save to database"
   ]
  },
  {
   "cell_type": "code",
   "execution_count": 10,
   "metadata": {
    "dotnet_interactive": {
     "language": "csharp"
    }
   },
   "outputs": [
    {
     "name": "stdout",
     "output_type": "stream",
     "text": [
      "\n",
      "Grid Edge Tags changed.\n",
      "\n",
      "Grid Edge Tags changed.\n",
      "\n",
      "Grid Edge Tags changed.\n",
      "\n",
      "Grid Edge Tags changed.\n"
     ]
    }
   ],
   "source": [
    "IGridInfo[] grids = new IGridInfo[numberGrids];\n",
    "//GridCommons grid;\n",
    "\n",
    "// Function to specify the boundary condition in dependence of the position X:\n",
    "Func<double[], string> edgeTagFunc = delegate (double[] X) {\n",
    "    double x = X[0];\n",
    "    double y = X[1];\n",
    "    //  if (!C.FixedStreamwisePeriodicBC)\n",
    "    //  {\n",
    "        if (Math.Abs(x - (-15)) < 1.0e-10)\n",
    "            return \"Velocity_inlet\";\n",
    "        if (Math.Abs(x - (15)) < 1.0e-10)\n",
    "            return \"Pressure_Outlet\";\n",
    "    //  }\n",
    "    //  if (Math.Abs(y - (-2)) < 1.0e-10)\n",
    "    //      return \"Freeslip\";\n",
    "                        \n",
    "        if (Math.Abs(y - (0)) < 1.0e-10)\n",
    "            return \"Freeslip\";\n",
    "                        \n",
    "        if (Math.Abs(y - (+2)) < 1.0e-10)\n",
    "            return \"Wall_top\";\n",
    "                        \n",
    "    //  if (-1.0 < y && y < 1.0 && -1.0 < x  && x < 1.0)\n",
    "    //    return \"Wall_cylinder\";\n",
    "                        \n",
    "        if (0.0 < y && y < 1.0 && -1.0 < x  && x < 1.0)\n",
    "            return \"Wall_cylinder\";\n",
    "                        \n",
    "        throw new ArgumentOutOfRangeException(\"at x = \" + x + \"and y = \" +y);\n",
    "    };\n",
    "\n",
    "for (int k = 0; k < numberGrids; k++) { // loop over mesh resolutions...\n",
    "    // import grid from Gmsh file:\n",
    "    grids[k] = BoSSSshell.WorkflowMgm.ImportGrid(@\"mesh_karman_OriginalBox_MEDIUM_\" + k + \"_half.msh\", \n",
    "                                                 EdgeTagFunc:edgeTagFunc);\n",
    "}"
   ]
  },
  {
   "cell_type": "code",
   "execution_count": 11,
   "metadata": {
    "dotnet_interactive": {
     "language": "csharp"
    }
   },
   "outputs": [
    {
     "data": {
      "text/plain": [
       "#0: { Guid = 02dc0e6e-cd72-4417-9916-777d2d5654bb; Name = ; Cell Count = 320; Dim = 2 }\r\n",
       "#1: { Guid = 3424d0af-8687-445a-af2f-96cbf2af9cb5; Name = ; Cell Count = 1208; Dim = 2 }\r\n",
       "#2: { Guid = 16cedf79-1806-49c7-be3d-ff1eff2e88b9; Name = ; Cell Count = 4252; Dim = 2 }\r\n",
       "#3: { Guid = 2cb99672-b602-4e0f-8ce9-fd408cb2231a; Name = ; Cell Count = 14712; Dim = 2 }\r\n"
      ]
     },
     "execution_count": 11,
     "metadata": {},
     "output_type": "execute_result"
    }
   ],
   "source": [
    "grids"
   ]
  },
  {
   "cell_type": "markdown",
   "metadata": {
    "dotnet_interactive": {
     "language": "csharp"
    }
   },
   "source": [
    "## Setup of control objects for a solver runs"
   ]
  },
  {
   "cell_type": "code",
   "execution_count": 12,
   "metadata": {
    "dotnet_interactive": {
     "language": "csharp"
    }
   },
   "outputs": [],
   "source": [
    "using BoSSS.Solution.AdvancedSolvers;"
   ]
  },
  {
   "cell_type": "code",
   "execution_count": 13,
   "metadata": {
    "dotnet_interactive": {
     "language": "csharp"
    }
   },
   "outputs": [],
   "source": [
    "// Code for Initial conditions\n",
    "class MyInitCode {\n",
    "\n",
    "static string nl = System.Environment.NewLine;\n",
    "public static string InitCode(double Reynolds, double Weissenberg, double beta) => \n",
    "\"static class InitialValues { \" + nl +\n",
    "\" \" + nl +\n",
    "\"    static double u0                   = 1.5; // 0.375;// 0.66;// 3 / 2;   \" + nl +\n",
    "\"    static double h                    = 4; \" + nl +\n",
    "$\"    public static double beta          = {beta}; \" + nl +\n",
    "$\"    static double Reynolds             = {Reynolds}; \" + nl +\n",
    "$\"    static double Weissenberg          = {Weissenberg};  \" + nl +\n",
    "\"    \" + nl +\n",
    "\"    public static double VelocityXfunction(double[] X) { \" + nl +\n",
    "\"        return u0 * (1  - (X[1] *  X[1])/h); \" + nl +\n",
    "\"    } \" + nl +\n",
    "\"    \" + nl +\n",
    "\"    public static double VelocityYfunction(double[] X) { \" + nl +\n",
    "\"        return 0.0; \" + nl +\n",
    "\"    } \" + nl +\n",
    "\"    \" + nl +\n",
    "\"    public static double Pressurefunction(double[] X) { \" + nl +\n",
    "\"        return u0 * 0.5 * Reynolds * (35 - X[0]); \" + nl +\n",
    "\"    } \" + nl +\n",
    "\"    \" + nl +\n",
    "\"    public static double StressXXfunction_wi02(double[] X) { \" + nl +\n",
    "\"        const double Weissenberg = 0.2; \" + nl +\n",
    "\"        return 2 * Weissenberg * (1 - beta) * u0 * (-2 / h) * X[1] * u0 * (-2 / h) * X[1]; \" + nl +\n",
    "\"    } \" + nl +\n",
    "\"    \" + nl +\n",
    "\"    public static double StressXXfunction_wi00(double[] X) { \" + nl +\n",
    "\"        const double Weissenberg = 0.0; \" + nl +\n",
    "\"        return 2 * Weissenberg * (1 - beta) * u0 * (-2 / h) * X[1] * u0 * (-2 / h) * X[1]; \" + nl +\n",
    "\"    } \" + nl +\n",
    "\"    \" + nl +\n",
    "\"    public static double StressXYfunction(double[] X) { \" + nl +\n",
    "\"        return (1 - beta) * u0 * (-2 / h) * X[1]; \" + nl +\n",
    "\"    } \" + nl +\n",
    "\"    \" + nl +\n",
    "\"    public static double StressYYfunction(double[] X) { \" + nl +\n",
    "\"        return 0.0; \" + nl +\n",
    "\"    } \" + nl +\n",
    "\"}  \" + nl;\n",
    "\n",
    "}"
   ]
  },
  {
   "cell_type": "code",
   "execution_count": 14,
   "metadata": {
    "dotnet_interactive": {
     "language": "csharp"
    }
   },
   "outputs": [],
   "source": [
    "//MyInitCode.InitCode(1,2)"
   ]
  },
  {
   "cell_type": "code",
   "execution_count": 15,
   "metadata": {
    "dotnet_interactive": {
     "language": "csharp"
    }
   },
   "outputs": [],
   "source": [
    "List<RheologyControl> Controls = new List<RheologyControl>();"
   ]
  },
  {
   "cell_type": "code",
   "execution_count": 16,
   "metadata": {
    "dotnet_interactive": {
     "language": "csharp"
    }
   },
   "outputs": [
    {
     "name": "stdout",
     "output_type": "stream",
     "text": [
      "Created control: ConfinedCylinder_ConvergenceStudy_p1_meshNo0_Wi0_half\n",
      "Created control: ConfinedCylinder_ConvergenceStudy_p1_meshNo1_Wi0_half\n",
      "Created control: ConfinedCylinder_ConvergenceStudy_p1_meshNo2_Wi0_half\n",
      "Created control: ConfinedCylinder_ConvergenceStudy_p1_meshNo3_Wi0_half\n",
      "Created control: ConfinedCylinder_ConvergenceStudy_p2_meshNo0_Wi0_half\n",
      "Created control: ConfinedCylinder_ConvergenceStudy_p2_meshNo1_Wi0_half\n",
      "Created control: ConfinedCylinder_ConvergenceStudy_p2_meshNo2_Wi0_half\n",
      "Created control: ConfinedCylinder_ConvergenceStudy_p2_meshNo3_Wi0_half\n",
      "Created control: ConfinedCylinder_ConvergenceStudy_p3_meshNo0_Wi0_half\n",
      "Created control: ConfinedCylinder_ConvergenceStudy_p3_meshNo1_Wi0_half\n",
      "Created control: ConfinedCylinder_ConvergenceStudy_p3_meshNo2_Wi0_half\n",
      "Created control: ConfinedCylinder_ConvergenceStudy_p3_meshNo3_Wi0_half\n",
      "Created control: ConfinedCylinder_ConvergenceStudy_p4_meshNo0_Wi0_half\n",
      "Created control: ConfinedCylinder_ConvergenceStudy_p4_meshNo1_Wi0_half\n",
      "Created control: ConfinedCylinder_ConvergenceStudy_p4_meshNo2_Wi0_half\n",
      "Created control: ConfinedCylinder_ConvergenceStudy_p4_meshNo3_Wi0_half\n",
      "Created control: ConfinedCylinder_ConvergenceStudy_p1_meshNo0_Wi0.2_half\n",
      "Created control: ConfinedCylinder_ConvergenceStudy_p1_meshNo1_Wi0.2_half\n",
      "Created control: ConfinedCylinder_ConvergenceStudy_p1_meshNo2_Wi0.2_half\n",
      "Created control: ConfinedCylinder_ConvergenceStudy_p1_meshNo3_Wi0.2_half\n",
      "Created control: ConfinedCylinder_ConvergenceStudy_p2_meshNo0_Wi0.2_half\n",
      "Created control: ConfinedCylinder_ConvergenceStudy_p2_meshNo1_Wi0.2_half\n",
      "Created control: ConfinedCylinder_ConvergenceStudy_p2_meshNo2_Wi0.2_half\n",
      "Created control: ConfinedCylinder_ConvergenceStudy_p2_meshNo3_Wi0.2_half\n",
      "Created control: ConfinedCylinder_ConvergenceStudy_p3_meshNo0_Wi0.2_half\n",
      "Created control: ConfinedCylinder_ConvergenceStudy_p3_meshNo1_Wi0.2_half\n",
      "Created control: ConfinedCylinder_ConvergenceStudy_p3_meshNo2_Wi0.2_half\n",
      "Created control: ConfinedCylinder_ConvergenceStudy_p3_meshNo3_Wi0.2_half\n",
      "Created control: ConfinedCylinder_ConvergenceStudy_p4_meshNo0_Wi0.2_half\n",
      "Created control: ConfinedCylinder_ConvergenceStudy_p4_meshNo1_Wi0.2_half\n",
      "Created control: ConfinedCylinder_ConvergenceStudy_p4_meshNo2_Wi0.2_half\n",
      "Created control: ConfinedCylinder_ConvergenceStudy_p4_meshNo3_Wi0.2_half\n"
     ]
    }
   ],
   "source": [
    "Controls.Clear();\n",
    "double _beta = 0.59;\n",
    "double _Reynolds = 1.0;\n",
    "foreach(double Weissenberg in WeissenbergS) { // loop over different Weissenberg numbers...\n",
    "foreach(int degree in pOrder) { //               loop over polynomial orders...\n",
    "int elemInd = 0;\n",
    "foreach(var grd in grids) { //                   loop over grid resolutions...\n",
    "\n",
    "    //Database\n",
    "    RheologyControl C = new RheologyControl();\n",
    "    C.savetodb        = true;\n",
    "    C.DbPath          = myDb.Path;\n",
    "    C.ProjectName     = \"Cylinder\";\n",
    "    C.SetGrid(grd);\n",
    "    C.TracingNamespaces = \"BoSSS,ilPSP\";\n",
    "\n",
    "    //SolverChooser\n",
    "    C.NonLinearSolver.MaxSolverIterations  = 100;\n",
    "    C.NonLinearSolver.MinSolverIterations  = 3;\n",
    "    C.NonLinearSolver.ConvergenceCriterion = 0.0; // as accurate as possible, until no further reduction can be achieved.\n",
    "    C.NonLinearSolver.SolverCode           = NonLinearSolverCode.Newton;\n",
    "    C.LinearSolver.SolverCode = LinearSolverCode.classic_pardiso;\n",
    "\n",
    "    //Timestepping\n",
    "    C.TimesteppingMode   = AppControl._TimesteppingMode.Steady;\n",
    "    C.Timestepper_Scheme = RheologyControl.TimesteppingScheme.ImplicitEuler;\n",
    "    C.ObjectiveParam     = 1.0;\n",
    "\n",
    "    //Configuration Shock capturing and body forces\n",
    "    //C.UsePerssonSensor       = false;\n",
    "    //C.SensorLimit            = 1e-4;\n",
    "    C.AdaptiveMeshRefinement = false;\n",
    "    C.RefinementLevel        = 10;\n",
    "    //C.UseArtificialDiffusion = false;\n",
    "    C.Bodyforces             = true;\n",
    "\n",
    "    //Physical parameters\n",
    "    C.beta                 = _beta;\n",
    "    C.Reynolds             = _Reynolds;\n",
    "    C.Weissenberg          = Weissenberg; //aim Weissenberg number!\n",
    "    C.RaiseWeissenberg     = Weissenberg > 0.0;\n",
    "\n",
    "    //Penalties\n",
    "    C.ViscousPenaltyScaling = 1;\n",
    "    C.Penalty2              = 1;\n",
    "    C.Penalty1[0]           = 0.0;\n",
    "    C.Penalty1[1]           = 0.0;\n",
    "    C.PresPenalty2          = 1;  \n",
    "    C.PresPenalty1[0]       = 0.0;\n",
    "    C.PresPenalty1[1]       = 0.0;\n",
    "    C.alpha                 = 1;  \n",
    "    C.StressPenalty         = 1.0;\n",
    "\n",
    "    //Create Fields\n",
    "    C.SetDGdegree(degree);\n",
    "\n",
    "    //Set initial values\n",
    "    C.InitialValues.Add(\"VelocityX\", new Formula(\"InitialValues.VelocityXfunction\", false, MyInitCode.InitCode(1, Weissenberg, _beta)));\n",
    "    C.InitialValues.Add(\"VelocityY\", new Formula(\"InitialValues.VelocityYfunction\", false, MyInitCode.InitCode(1, Weissenberg, _beta)));\n",
    "    if(Weissenberg == 0.0)\n",
    "        C.InitialValues.Add(\"StressXX\", new Formula(\"InitialValues.StressXXfunction_wi00\", false, MyInitCode.InitCode(1, Weissenberg, _beta)));\n",
    "    else if(Weissenberg == 0.2)\n",
    "        C.InitialValues.Add(\"StressXX\", new Formula(\"InitialValues.StressXXfunction_wi02\", false, MyInitCode.InitCode(1, Weissenberg, _beta)));\n",
    "    else\n",
    "        throw new NotImplementedException(\"Missing Weissenberg = \" + Weissenberg);    \n",
    "    C.InitialValues.Add(\"StressXY\", new Formula(\"InitialValues.StressXYfunction\", false, MyInitCode.InitCode(1, Weissenberg, _beta)));\n",
    "    C.InitialValues.Add(\"StressYY\", new Formula(\"InitialValues.StressYYfunction\", false, MyInitCode.InitCode(1, Weissenberg, _beta)));\n",
    "\n",
    "    //Set Boundary Conditions\n",
    "    //C.AddBoundaryValue(\"Wall_top\", \"VelocityX\", Wall);\n",
    "    //C.AddBoundaryValue(\"Wall_top\", \"VelocityY\", Wall);\n",
    "    //C.AddBoundaryValue(\"Wall_cylinder\", \"VelocityX\", Wall);\n",
    "    //C.AddBoundaryValue(\"Wall_cylinder\", \"VelocityY\", Wall);\n",
    "\n",
    "    C.AddBoundaryValue(\"Velocity_inlet\", \"VelocityX\", new Formula(\"InitialValues.VelocityXfunction\", false, MyInitCode.InitCode(1, Weissenberg, _beta)));\n",
    "    C.AddBoundaryValue(\"Velocity_inlet\", \"VelocityY\", new Formula(\"InitialValues.VelocityYfunction\", false, MyInitCode.InitCode(1, Weissenberg, _beta)));\n",
    "    if(Weissenberg == 0.0)\n",
    "        C.AddBoundaryValue(\"Velocity_inlet\", \"StressXX\", new Formula(\"InitialValues.StressXXfunction_wi00\", false, MyInitCode.InitCode(1, Weissenberg, _beta)));\n",
    "    else if(Weissenberg == 0.2)\n",
    "        C.AddBoundaryValue(\"Velocity_inlet\", \"StressXX\", new Formula(\"InitialValues.StressXXfunction_wi02\", false, MyInitCode.InitCode(1, Weissenberg, _beta)));\n",
    "    else\n",
    "        throw new NotImplementedException(\"Missing Weissenberg = \" + Weissenberg);\n",
    "    C.AddBoundaryValue(\"Velocity_inlet\", \"StressXY\", new Formula(\"InitialValues.StressXYfunction\", false, MyInitCode.InitCode(1, Weissenberg, _beta)));\n",
    "    C.AddBoundaryValue(\"Velocity_inlet\", \"StressYY\", new Formula(\"InitialValues.StressYYfunction\", false, MyInitCode.InitCode(1, Weissenberg, _beta))); \n",
    "            \n",
    "    //Save Session and next...\n",
    "    C.SessionName = $\"ConfinedCylinder_ConvergenceStudy_p{degree}_meshNo{elemInd}_Wi{Weissenberg}_half\";\n",
    "    Controls.Add(C);\n",
    "    Console.WriteLine(\"Created control: \" + C.SessionName);\n",
    "    elemInd++;\n",
    "}\n",
    "}\n",
    "}"
   ]
  },
  {
   "cell_type": "markdown",
   "metadata": {
    "dotnet_interactive": {
     "language": "csharp"
    }
   },
   "source": [
    "## Launch Jobs"
   ]
  },
  {
   "cell_type": "code",
   "execution_count": 17,
   "metadata": {
    "dotnet_interactive": {
     "language": "csharp"
    }
   },
   "outputs": [
    {
     "data": {
      "text/html": [
       "<div class=\"dni-plaintext\">32</div>"
      ]
     },
     "execution_count": 17,
     "metadata": {},
     "output_type": "execute_result"
    }
   ],
   "source": [
    "Controls.Count"
   ]
  },
  {
   "cell_type": "code",
   "execution_count": 18,
   "metadata": {
    "dotnet_interactive": {
     "language": "csharp"
    }
   },
   "outputs": [
    {
     "name": "stdout",
     "output_type": "stream",
     "text": [
      "Deploying job ConfinedCylinder_ConvergenceStudy_p1_meshNo0_Wi0_half ... \n",
      "Deploying executables and additional files ...\n",
      "Deployment directory: X:\\fk69umer\\bosss_deploy\\ConfinedCylinder_ConvergenceStudy-RheologySolver2021Jun23_170625\n",
      "copied 48 files.\n",
      "   written file: control.obj\n",
      "deployment finished.\n",
      "18769655\n",
      "\n",
      "Deploying job ConfinedCylinder_ConvergenceStudy_p1_meshNo1_Wi0_half ... \n",
      "Deploying executables and additional files ...\n",
      "Deployment directory: X:\\fk69umer\\bosss_deploy\\ConfinedCylinder_ConvergenceStudy-RheologySolver2021Jun23_170637\n",
      "copied 48 files.\n",
      "   written file: control.obj\n",
      "deployment finished.\n",
      "18769668\n",
      "\n",
      "Deploying job ConfinedCylinder_ConvergenceStudy_p1_meshNo2_Wi0_half ... \n",
      "Deploying executables and additional files ...\n",
      "Deployment directory: X:\\fk69umer\\bosss_deploy\\ConfinedCylinder_ConvergenceStudy-RheologySolver2021Jun23_170649\n",
      "copied 48 files.\n",
      "   written file: control.obj\n",
      "deployment finished.\n",
      "18769673\n",
      "\n",
      "Deploying job ConfinedCylinder_ConvergenceStudy_p1_meshNo3_Wi0_half ... \n",
      "Deploying executables and additional files ...\n",
      "Deployment directory: X:\\fk69umer\\bosss_deploy\\ConfinedCylinder_ConvergenceStudy-RheologySolver2021Jun23_170701\n",
      "copied 48 files.\n",
      "   written file: control.obj\n",
      "deployment finished.\n",
      "18769680\n",
      "\n",
      "Deploying job ConfinedCylinder_ConvergenceStudy_p2_meshNo0_Wi0_half ... \n",
      "Deploying executables and additional files ...\n",
      "Deployment directory: X:\\fk69umer\\bosss_deploy\\ConfinedCylinder_ConvergenceStudy-RheologySolver2021Jun23_170714\n",
      "copied 48 files.\n",
      "   written file: control.obj\n",
      "deployment finished.\n",
      "18769689\n",
      "\n",
      "Deploying job ConfinedCylinder_ConvergenceStudy_p2_meshNo1_Wi0_half ... \n",
      "Deploying executables and additional files ...\n",
      "Deployment directory: X:\\fk69umer\\bosss_deploy\\ConfinedCylinder_ConvergenceStudy-RheologySolver2021Jun23_170726\n",
      "copied 48 files.\n",
      "   written file: control.obj\n",
      "deployment finished.\n",
      "18769694\n",
      "\n",
      "Deploying job ConfinedCylinder_ConvergenceStudy_p2_meshNo2_Wi0_half ... \n",
      "Deploying executables and additional files ...\n",
      "Deployment directory: X:\\fk69umer\\bosss_deploy\\ConfinedCylinder_ConvergenceStudy-RheologySolver2021Jun23_170741\n",
      "copied 48 files.\n",
      "   written file: control.obj\n",
      "deployment finished.\n",
      "18769706\n",
      "\n",
      "Deploying job ConfinedCylinder_ConvergenceStudy_p2_meshNo3_Wi0_half ... \n",
      "Deploying executables and additional files ...\n",
      "Deployment directory: X:\\fk69umer\\bosss_deploy\\ConfinedCylinder_ConvergenceStudy-RheologySolver2021Jun23_170755\n",
      "copied 48 files.\n",
      "   written file: control.obj\n",
      "deployment finished.\n",
      "18769712\n",
      "Loading session a6ae9810-765c-4763-9cac-1324c0b6794f failed with message 'Could not find file 'X:\\fk69umer\\Rheology_ConfinedCylinder\\sessions\\a6ae9810-765c-4763-9cac-1324c0b6794f\\Session.info'.'\n",
      "\n",
      "Loading session a6ae9810-765c-4763-9cac-1324c0b6794f failed with message 'Could not find file 'X:\\fk69umer\\Rheology_ConfinedCylinder\\sessions\\a6ae9810-765c-4763-9cac-1324c0b6794f\\Session.info'.'\n",
      "Deploying job ConfinedCylinder_ConvergenceStudy_p3_meshNo0_Wi0_half ... \n",
      "Deploying executables and additional files ...\n",
      "Deployment directory: X:\\fk69umer\\bosss_deploy\\ConfinedCylinder_ConvergenceStudy-RheologySolver2021Jun23_170809\n",
      "copied 48 files.\n",
      "   written file: control.obj\n",
      "deployment finished.\n",
      "18769718\n",
      "\n",
      "Deploying job ConfinedCylinder_ConvergenceStudy_p3_meshNo1_Wi0_half ... \n",
      "Deploying executables and additional files ...\n",
      "Deployment directory: X:\\fk69umer\\bosss_deploy\\ConfinedCylinder_ConvergenceStudy-RheologySolver2021Jun23_170826\n",
      "copied 48 files.\n",
      "   written file: control.obj\n",
      "deployment finished.\n",
      "18769722\n",
      "\n",
      "Deploying job ConfinedCylinder_ConvergenceStudy_p3_meshNo2_Wi0_half ... \n",
      "Deploying executables and additional files ...\n",
      "Deployment directory: X:\\fk69umer\\bosss_deploy\\ConfinedCylinder_ConvergenceStudy-RheologySolver2021Jun23_170843\n",
      "copied 48 files.\n",
      "   written file: control.obj\n",
      "deployment finished.\n",
      "18769731\n",
      "\n",
      "Deploying job ConfinedCylinder_ConvergenceStudy_p3_meshNo3_Wi0_half ... \n",
      "Deploying executables and additional files ...\n",
      "Deployment directory: X:\\fk69umer\\bosss_deploy\\ConfinedCylinder_ConvergenceStudy-RheologySolver2021Jun23_170857\n",
      "copied 48 files.\n",
      "   written file: control.obj\n",
      "deployment finished.\n",
      "18769743\n",
      "\n",
      "Deploying job ConfinedCylinder_ConvergenceStudy_p4_meshNo0_Wi0_half ... \n",
      "Deploying executables and additional files ...\n",
      "Deployment directory: X:\\fk69umer\\bosss_deploy\\ConfinedCylinder_ConvergenceStudy-RheologySolver2021Jun23_170916\n",
      "copied 48 files.\n",
      "   written file: control.obj\n",
      "deployment finished.\n",
      "18769749\n",
      "\n",
      "Deploying job ConfinedCylinder_ConvergenceStudy_p4_meshNo1_Wi0_half ... \n",
      "Deploying executables and additional files ...\n",
      "Deployment directory: X:\\fk69umer\\bosss_deploy\\ConfinedCylinder_ConvergenceStudy-RheologySolver2021Jun23_170932\n",
      "copied 48 files.\n",
      "   written file: control.obj\n",
      "deployment finished.\n",
      "18769761\n",
      "\n",
      "Deploying job ConfinedCylinder_ConvergenceStudy_p4_meshNo2_Wi0_half ... \n",
      "Deploying executables and additional files ...\n",
      "Deployment directory: X:\\fk69umer\\bosss_deploy\\ConfinedCylinder_ConvergenceStudy-RheologySolver2021Jun23_170952\n",
      "copied 48 files.\n",
      "   written file: control.obj\n",
      "deployment finished.\n",
      "18769771\n",
      "\n",
      "Deploying job ConfinedCylinder_ConvergenceStudy_p4_meshNo3_Wi0_half ... \n",
      "Deploying executables and additional files ...\n",
      "Deployment directory: X:\\fk69umer\\bosss_deploy\\ConfinedCylinder_ConvergenceStudy-RheologySolver2021Jun23_171011\n",
      "copied 48 files.\n",
      "   written file: control.obj\n",
      "deployment finished.\n",
      "18769777\n",
      "\n",
      "Deploying job ConfinedCylinder_ConvergenceStudy_p1_meshNo0_Wi0.2_half ... \n",
      "Deploying executables and additional files ...\n",
      "Deployment directory: X:\\fk69umer\\bosss_deploy\\ConfinedCylinder_ConvergenceStudy-RheologySolver2021Jun23_171032\n",
      "copied 48 files.\n",
      "   written file: control.obj\n",
      "deployment finished.\n",
      "18769789\n",
      "\n",
      "Deploying job ConfinedCylinder_ConvergenceStudy_p1_meshNo1_Wi0.2_half ... \n",
      "Deploying executables and additional files ...\n",
      "Deployment directory: X:\\fk69umer\\bosss_deploy\\ConfinedCylinder_ConvergenceStudy-RheologySolver2021Jun23_171053\n",
      "copied 48 files.\n",
      "   written file: control.obj\n",
      "deployment finished.\n",
      "18769799\n",
      "\n",
      "Deploying job ConfinedCylinder_ConvergenceStudy_p1_meshNo2_Wi0.2_half ... \n",
      "Deploying executables and additional files ...\n",
      "Deployment directory: X:\\fk69umer\\bosss_deploy\\ConfinedCylinder_ConvergenceStudy-RheologySolver2021Jun23_171114\n",
      "copied 48 files.\n",
      "   written file: control.obj\n",
      "deployment finished.\n",
      "18769811\n",
      "\n",
      "Deploying job ConfinedCylinder_ConvergenceStudy_p1_meshNo3_Wi0.2_half ... \n",
      "Deploying executables and additional files ...\n",
      "Deployment directory: X:\\fk69umer\\bosss_deploy\\ConfinedCylinder_ConvergenceStudy-RheologySolver2021Jun23_171137\n",
      "copied 48 files.\n",
      "   written file: control.obj\n",
      "deployment finished.\n",
      "18769820\n",
      "\n",
      "Deploying job ConfinedCylinder_ConvergenceStudy_p2_meshNo0_Wi0.2_half ... \n",
      "Deploying executables and additional files ...\n",
      "Deployment directory: X:\\fk69umer\\bosss_deploy\\ConfinedCylinder_ConvergenceStudy-RheologySolver2021Jun23_171159\n",
      "copied 48 files.\n",
      "   written file: control.obj\n",
      "deployment finished.\n",
      "18769930\n",
      "\n",
      "Deploying job ConfinedCylinder_ConvergenceStudy_p2_meshNo1_Wi0.2_half ... \n",
      "Deploying executables and additional files ...\n",
      "Deployment directory: X:\\fk69umer\\bosss_deploy\\ConfinedCylinder_ConvergenceStudy-RheologySolver2021Jun23_171226\n",
      "copied 48 files.\n",
      "   written file: control.obj\n",
      "deployment finished.\n",
      "18770042\n",
      "\n",
      "Deploying job ConfinedCylinder_ConvergenceStudy_p2_meshNo2_Wi0.2_half ... \n",
      "Deploying executables and additional files ...\n",
      "Deployment directory: X:\\fk69umer\\bosss_deploy\\ConfinedCylinder_ConvergenceStudy-RheologySolver2021Jun23_171253\n",
      "copied 48 files.\n",
      "   written file: control.obj\n",
      "deployment finished.\n",
      "18770054\n",
      "\n",
      "Deploying job ConfinedCylinder_ConvergenceStudy_p2_meshNo3_Wi0.2_half ... \n",
      "Deploying executables and additional files ...\n",
      "Deployment directory: X:\\fk69umer\\bosss_deploy\\ConfinedCylinder_ConvergenceStudy-RheologySolver2021Jun23_171318\n",
      "copied 48 files.\n",
      "   written file: control.obj\n",
      "deployment finished.\n",
      "18770067\n",
      "\n",
      "Deploying job ConfinedCylinder_ConvergenceStudy_p3_meshNo0_Wi0.2_half ... \n",
      "Deploying executables and additional files ...\n",
      "Deployment directory: X:\\fk69umer\\bosss_deploy\\ConfinedCylinder_ConvergenceStudy-RheologySolver2021Jun23_171341\n",
      "copied 48 files.\n",
      "   written file: control.obj\n",
      "deployment finished.\n",
      "18770080\n",
      "\n",
      "Deploying job ConfinedCylinder_ConvergenceStudy_p3_meshNo1_Wi0.2_half ... \n"
     ]
    },
    {
     "name": "stdout",
     "output_type": "stream",
     "text": [
      "Deploying executables and additional files ...\n",
      "Deployment directory: X:\\fk69umer\\bosss_deploy\\ConfinedCylinder_ConvergenceStudy-RheologySolver2021Jun23_171404\n",
      "copied 48 files.\n",
      "   written file: control.obj\n",
      "deployment finished.\n",
      "18770096\n",
      "\n",
      "Deploying job ConfinedCylinder_ConvergenceStudy_p3_meshNo2_Wi0.2_half ... \n",
      "Deploying executables and additional files ...\n",
      "Deployment directory: X:\\fk69umer\\bosss_deploy\\ConfinedCylinder_ConvergenceStudy-RheologySolver2021Jun23_171429\n",
      "copied 48 files.\n",
      "   written file: control.obj\n",
      "deployment finished.\n",
      "18770112\n",
      "\n",
      "Deploying job ConfinedCylinder_ConvergenceStudy_p3_meshNo3_Wi0.2_half ... \n",
      "Deploying executables and additional files ...\n",
      "Deployment directory: X:\\fk69umer\\bosss_deploy\\ConfinedCylinder_ConvergenceStudy-RheologySolver2021Jun23_171453\n",
      "copied 48 files.\n",
      "   written file: control.obj\n",
      "deployment finished.\n",
      "18770194\n",
      "\n",
      "Deploying job ConfinedCylinder_ConvergenceStudy_p4_meshNo0_Wi0.2_half ... \n",
      "Deploying executables and additional files ...\n",
      "Deployment directory: X:\\fk69umer\\bosss_deploy\\ConfinedCylinder_ConvergenceStudy-RheologySolver2021Jun23_171517\n",
      "copied 48 files.\n",
      "   written file: control.obj\n",
      "deployment finished.\n",
      "18770208\n",
      "\n",
      "Deploying job ConfinedCylinder_ConvergenceStudy_p4_meshNo1_Wi0.2_half ... \n",
      "Deploying executables and additional files ...\n",
      "Deployment directory: X:\\fk69umer\\bosss_deploy\\ConfinedCylinder_ConvergenceStudy-RheologySolver2021Jun23_171547\n",
      "copied 48 files.\n",
      "   written file: control.obj\n",
      "deployment finished.\n",
      "18770223\n",
      "\n",
      "Deploying job ConfinedCylinder_ConvergenceStudy_p4_meshNo2_Wi0.2_half ... \n",
      "Deploying executables and additional files ...\n",
      "Deployment directory: X:\\fk69umer\\bosss_deploy\\ConfinedCylinder_ConvergenceStudy-RheologySolver2021Jun23_171615\n",
      "copied 48 files.\n",
      "   written file: control.obj\n",
      "deployment finished.\n",
      "18770240\n",
      "\n",
      "Deploying job ConfinedCylinder_ConvergenceStudy_p4_meshNo3_Wi0.2_half ... \n",
      "Deploying executables and additional files ...\n",
      "Deployment directory: X:\\fk69umer\\bosss_deploy\\ConfinedCylinder_ConvergenceStudy-RheologySolver2021Jun23_171645\n",
      "copied 48 files.\n",
      "   written file: control.obj\n",
      "deployment finished.\n",
      "18770252\n",
      "\n"
     ]
    }
   ],
   "source": [
    "foreach(var ctrl in Controls) {\n",
    "    var oneJob              = ctrl.CreateJob();\n",
    "    oneJob.NumberOfMPIProcs = 1;\n",
    "    oneJob.Activate(myBatch); \n",
    "}"
   ]
  },
  {
   "cell_type": "code",
   "execution_count": 49,
   "metadata": {
    "dotnet_interactive": {
     "language": "csharp"
    }
   },
   "outputs": [],
   "source": []
  },
  {
   "cell_type": "code",
   "execution_count": null,
   "metadata": {
    "dotnet_interactive": {
     "language": "csharp"
    }
   },
   "outputs": [],
   "source": [
    "// wait for all jobs to finish (up to 5 days, check every 5 minutes)\n",
    "BoSSSshell.WorkflowMgm.BlockUntilAllJobsTerminate(TimeOutSeconds:(3600*24*5), PollingIntervallSeconds:(60*5));"
   ]
  },
  {
   "cell_type": "code",
   "execution_count": 23,
   "metadata": {
    "dotnet_interactive": {
     "language": "csharp"
    }
   },
   "outputs": [
    {
     "data": {
      "text/plain": [
       "#0: ConfinedCylinder_ConvergenceStudy_p1_meshNo3_Wi0_half: FailedOrCanceled (SlurmClient Lb2-specialPrj : fk69umer@lcluster16.hrz.tu-darmstadt.de, Slurm account: special00006)\r\n",
       "#1: ConfinedCylinder_ConvergenceStudy_p2_meshNo3_Wi0_half: FailedOrCanceled (SlurmClient Lb2-specialPrj : fk69umer@lcluster16.hrz.tu-darmstadt.de, Slurm account: special00006)\r\n",
       "#2: ConfinedCylinder_ConvergenceStudy_p3_meshNo2_Wi0_half: FailedOrCanceled (SlurmClient Lb2-specialPrj : fk69umer@lcluster16.hrz.tu-darmstadt.de, Slurm account: special00006)\r\n",
       "#3: ConfinedCylinder_ConvergenceStudy_p3_meshNo3_Wi0_half: FailedOrCanceled (SlurmClient Lb2-specialPrj : fk69umer@lcluster16.hrz.tu-darmstadt.de, Slurm account: special00006)\r\n",
       "#4: ConfinedCylinder_ConvergenceStudy_p4_meshNo1_Wi0_half: FailedOrCanceled (SlurmClient Lb2-specialPrj : fk69umer@lcluster16.hrz.tu-darmstadt.de, Slurm account: special00006)\r\n",
       "#5: ConfinedCylinder_ConvergenceStudy_p4_meshNo2_Wi0_half: FailedOrCanceled (SlurmClient Lb2-specialPrj : fk69umer@lcluster16.hrz.tu-darmstadt.de, Slurm account: special00006)\r\n",
       "#6: ConfinedCylinder_ConvergenceStudy_p4_meshNo3_Wi0_half: FailedOrCanceled (SlurmClient Lb2-specialPrj : fk69umer@lcluster16.hrz.tu-darmstadt.de, Slurm account: special00006)\r\n",
       "#7: ConfinedCylinder_ConvergenceStudy_p1_meshNo3_Wi0.2_half: FailedOrCanceled (SlurmClient Lb2-specialPrj : fk69umer@lcluster16.hrz.tu-darmstadt.de, Slurm account: special00006)\r\n",
       "#8: ConfinedCylinder_ConvergenceStudy_p2_meshNo2_Wi0.2_half: FailedOrCanceled (SlurmClient Lb2-specialPrj : fk69umer@lcluster16.hrz.tu-darmstadt.de, Slurm account: special00006)\r\n",
       "#9: ConfinedCylinder_ConvergenceStudy_p2_meshNo3_Wi0.2_half: FailedOrCanceled (SlurmClient Lb2-specialPrj : fk69umer@lcluster16.hrz.tu-darmstadt.de, Slurm account: special00006)\r\n",
       "#10: ConfinedCylinder_ConvergenceStudy_p3_meshNo0_Wi0.2_half: FailedOrCanceled (SlurmClient Lb2-specialPrj : fk69umer@lcluster16.hrz.tu-darmstadt.de, Slurm account: special00006)\r\n",
       "#11: ConfinedCylinder_ConvergenceStudy_p3_meshNo1_Wi0.2_half: FailedOrCanceled (SlurmClient Lb2-specialPrj : fk69umer@lcluster16.hrz.tu-darmstadt.de, Slurm account: special00006)\r\n",
       "#12: ConfinedCylinder_ConvergenceStudy_p3_meshNo2_Wi0.2_half: FailedOrCanceled (SlurmClient Lb2-specialPrj : fk69umer@lcluster16.hrz.tu-darmstadt.de, Slurm account: special00006)\r\n",
       "#13: ConfinedCylinder_ConvergenceStudy_p3_meshNo3_Wi0.2_half: FailedOrCanceled (SlurmClient Lb2-specialPrj : fk69umer@lcluster16.hrz.tu-darmstadt.de, Slurm account: special00006)\r\n",
       "#14: ConfinedCylinder_ConvergenceStudy_p4_meshNo0_Wi0.2_half: FailedOrCanceled (SlurmClient Lb2-specialPrj : fk69umer@lcluster16.hrz.tu-darmstadt.de, Slurm account: special00006)\r\n",
       "#15: ConfinedCylinder_ConvergenceStudy_p4_meshNo1_Wi0.2_half: FailedOrCanceled (SlurmClient Lb2-specialPrj : fk69umer@lcluster16.hrz.tu-darmstadt.de, Slurm account: special00006)\r\n",
       "#16: ConfinedCylinder_ConvergenceStudy_p4_meshNo2_Wi0.2_half: FailedOrCanceled (SlurmClient Lb2-specialPrj : fk69umer@lcluster16.hrz.tu-darmstadt.de, Slurm account: special00006)\r\n",
       "#17: ConfinedCylinder_ConvergenceStudy_p4_meshNo3_Wi0.2_half: FailedOrCanceled (SlurmClient Lb2-specialPrj : fk69umer@lcluster16.hrz.tu-darmstadt.de, Slurm account: special00006)\r\n"
      ]
     },
     "execution_count": 23,
     "metadata": {},
     "output_type": "execute_result"
    }
   ],
   "source": [
    "// detect failed Jobs in the job management\n",
    "var suspects = BoSSSshell.WorkflowMgm.AllJobs.Select(kv => kv.Value)\n",
    "    .Where(job => job.LatestSession.Tags.Contains(SessionInfo.NOT_TERMINATED_TAG)\n",
    "                  || job.LatestSession.Tags.Contains(SessionInfo.SOLVER_ERROR)).ToArray();\n",
    "suspects"
   ]
  },
  {
   "cell_type": "code",
   "execution_count": 7,
   "metadata": {},
   "outputs": [
    {
     "name": "stderr",
     "output_type": "stream",
     "text": [
      "\r\n",
      "(1,31): error CS0103: The name 'suspects' does not exist in the current context\r\n",
      "\r\n",
      "(1,57): error CS0103: The name 'suspects' does not exist in the current context\r\n",
      "\r\n"
     ]
    },
    {
     "ename": "Cell not executed",
     "evalue": "compilation error",
     "output_type": "error",
     "traceback": []
    }
   ],
   "source": [
    "NUnit.Framework.Assert.IsTrue(suspects.Count() <= 0, $\"{suspects.Count()} Failed Jobs of {BoSSSshell.WorkflowMgm.AllJobs.Count()} in total.\");"
   ]
  },
  {
   "cell_type": "markdown",
   "metadata": {},
   "source": [
    "### Inspect the output of some arbitrary job:"
   ]
  },
  {
   "cell_type": "code",
   "execution_count": 8,
   "metadata": {},
   "outputs": [
    {
     "ename": "Unhandled exception",
     "evalue": "System.InvalidOperationException: Sequence contains no elements\r\n   at System.Linq.ThrowHelper.ThrowNoElementsException()\r\n   at System.Linq.Enumerable.First[TSource](IEnumerable`1 source)\r\n   at Submission#11.<<Initialize>>d__0.MoveNext()\r\n--- End of stack trace from previous location ---\r\n   at Microsoft.CodeAnalysis.Scripting.ScriptExecutionState.RunSubmissionsAsync[TResult](ImmutableArray`1 precedingExecutors, Func`2 currentExecutor, StrongBox`1 exceptionHolderOpt, Func`2 catchExceptionOpt, CancellationToken cancellationToken)",
     "output_type": "error",
     "traceback": [
      "System.InvalidOperationException: Sequence contains no elements\r\n   at System.Linq.ThrowHelper.ThrowNoElementsException()\r\n   at System.Linq.Enumerable.First[TSource](IEnumerable`1 source)\r\n   at Submission#11.<<Initialize>>d__0.MoveNext()\r\n--- End of stack trace from previous location ---\r\n   at Microsoft.CodeAnalysis.Scripting.ScriptExecutionState.RunSubmissionsAsync[TResult](ImmutableArray`1 precedingExecutors, Func`2 currentExecutor, StrongBox`1 exceptionHolderOpt, Func`2 catchExceptionOpt, CancellationToken cancellationToken)",
      "   at System.Linq.ThrowHelper.ThrowNoElementsException()",
      "   at System.Linq.Enumerable.First[TSource](IEnumerable`1 source)",
      "   at Submission#11.<<Initialize>>d__0.MoveNext()",
      "--- End of stack trace from previous location ---",
      "   at Microsoft.CodeAnalysis.Scripting.ScriptExecutionState.RunSubmissionsAsync[TResult](ImmutableArray`1 precedingExecutors, Func`2 currentExecutor, StrongBox`1 exceptionHolderOpt, Func`2 catchExceptionOpt, CancellationToken cancellationToken)"
     ]
    }
   ],
   "source": [
    "BoSSSshell.WorkflowMgm.AllJobs.First().Value.Stdout"
   ]
  },
  {
   "cell_type": "code",
   "execution_count": null,
   "metadata": {},
   "outputs": [],
   "source": []
  }
 ],
 "metadata": {
  "kernelspec": {
   "display_name": ".NET (C#)",
   "language": "C#",
   "name": ".net-csharp"
  },
  "language_info": {
   "file_extension": ".cs",
   "mimetype": "text/x-csharp",
   "name": "C#",
   "pygments_lexer": "csharp",
   "version": "8.0"
  }
 },
 "nbformat": 4,
 "nbformat_minor": 4
}
