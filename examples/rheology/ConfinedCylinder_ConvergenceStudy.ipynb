{
 "cells": [
  {
   "cell_type": "markdown",
   "metadata": {},
   "source": [
    "# Rheological Flow around Confined Cylinder\n",
    "\n",
    "Results published:\n",
    "[Kikker, Kummer, Oberlack: A fully coupled high-order discontinuous Galerkin solver for viscoelastic fluid flow](https://onlinelibrary.wiley.com/doi/10.1002/fld.4950), \n",
    "see also at [tubiblio](http://tubiblio.ulb.tu-darmstadt.de/125045/)."
   ]
  },
  {
   "cell_type": "code",
   "execution_count": 1,
   "metadata": {
    "dotnet_interactive": {
     "language": "csharp"
    }
   },
   "outputs": [
    {
     "data": {
      "text/html": [
       "\r\n",
       "<div>\r\n",
       "    <div id='dotnet-interactive-this-cell-35960.Microsoft.DotNet.Interactive.Http.HttpPort' style='display: none'>\r\n",
       "        The below script needs to be able to find the current output cell; this is an easy method to get it.\r\n",
       "    </div>\r\n",
       "    <script type='text/javascript'>\r\n",
       "async function probeAddresses(probingAddresses) {\r\n",
       "    function timeout(ms, promise) {\r\n",
       "        return new Promise(function (resolve, reject) {\r\n",
       "            setTimeout(function () {\r\n",
       "                reject(new Error('timeout'))\r\n",
       "            }, ms)\r\n",
       "            promise.then(resolve, reject)\r\n",
       "        })\r\n",
       "    }\r\n",
       "\r\n",
       "    if (Array.isArray(probingAddresses)) {\r\n",
       "        for (let i = 0; i < probingAddresses.length; i++) {\r\n",
       "\r\n",
       "            let rootUrl = probingAddresses[i];\r\n",
       "\r\n",
       "            if (!rootUrl.endsWith('/')) {\r\n",
       "                rootUrl = `${rootUrl}/`;\r\n",
       "            }\r\n",
       "\r\n",
       "            try {\r\n",
       "                let response = await timeout(1000, fetch(`${rootUrl}discovery`, {\r\n",
       "                    method: 'POST',\r\n",
       "                    cache: 'no-cache',\r\n",
       "                    mode: 'cors',\r\n",
       "                    timeout: 1000,\r\n",
       "                    headers: {\r\n",
       "                        'Content-Type': 'text/plain'\r\n",
       "                    },\r\n",
       "                    body: probingAddresses[i]\r\n",
       "                }));\r\n",
       "\r\n",
       "                if (response.status == 200) {\r\n",
       "                    return rootUrl;\r\n",
       "                }\r\n",
       "            }\r\n",
       "            catch (e) { }\r\n",
       "        }\r\n",
       "    }\r\n",
       "}\r\n",
       "\r\n",
       "function loadDotnetInteractiveApi() {\r\n",
       "    probeAddresses([\"http://192.168.56.1:1000/\", \"http://130.83.248.204:1000/\", \"http://169.254.241.121:1000/\", \"http://172.18.114.81:1000/\", \"http://127.0.0.1:1000/\"])\r\n",
       "        .then((root) => {\r\n",
       "        // use probing to find host url and api resources\r\n",
       "        // load interactive helpers and language services\r\n",
       "        let dotnetInteractiveRequire = require.config({\r\n",
       "        context: '35960.Microsoft.DotNet.Interactive.Http.HttpPort',\r\n",
       "                paths:\r\n",
       "            {\r\n",
       "                'dotnet-interactive': `${root}resources`\r\n",
       "                }\r\n",
       "        }) || require;\r\n",
       "\r\n",
       "            window.dotnetInteractiveRequire = dotnetInteractiveRequire;\r\n",
       "\r\n",
       "            window.configureRequireFromExtension = function(extensionName, extensionCacheBuster) {\r\n",
       "                let paths = {};\r\n",
       "                paths[extensionName] = `${root}extensions/${extensionName}/resources/`;\r\n",
       "                \r\n",
       "                let internalRequire = require.config({\r\n",
       "                    context: extensionCacheBuster,\r\n",
       "                    paths: paths,\r\n",
       "                    urlArgs: `cacheBuster=${extensionCacheBuster}`\r\n",
       "                    }) || require;\r\n",
       "\r\n",
       "                return internalRequire\r\n",
       "            };\r\n",
       "        \r\n",
       "            dotnetInteractiveRequire([\r\n",
       "                    'dotnet-interactive/dotnet-interactive'\r\n",
       "                ],\r\n",
       "                function (dotnet) {\r\n",
       "                    dotnet.init(window);\r\n",
       "                },\r\n",
       "                function (error) {\r\n",
       "                    console.log(error);\r\n",
       "                }\r\n",
       "            );\r\n",
       "        })\r\n",
       "        .catch(error => {console.log(error);});\r\n",
       "    }\r\n",
       "\r\n",
       "// ensure `require` is available globally\r\n",
       "if ((typeof(require) !==  typeof(Function)) || (typeof(require.config) !== typeof(Function))) {\r\n",
       "    let require_script = document.createElement('script');\r\n",
       "    require_script.setAttribute('src', 'https://cdnjs.cloudflare.com/ajax/libs/require.js/2.3.6/require.min.js');\r\n",
       "    require_script.setAttribute('type', 'text/javascript');\r\n",
       "    \r\n",
       "    \r\n",
       "    require_script.onload = function() {\r\n",
       "        loadDotnetInteractiveApi();\r\n",
       "    };\r\n",
       "\r\n",
       "    document.getElementsByTagName('head')[0].appendChild(require_script);\r\n",
       "}\r\n",
       "else {\r\n",
       "    loadDotnetInteractiveApi();\r\n",
       "}\r\n",
       "\r\n",
       "    </script>\r\n",
       "</div>"
      ]
     },
     "metadata": {},
     "output_type": "display_data"
    }
   ],
   "source": [
    "//#r \"../../src/L4-application/BoSSSpad/bin/Release/net5.0/BoSSSpad.dll\"\n",
    "//#r \"../../src/L4-application/BoSSSpad/bin/Debug/net5.0/BoSSSpad.dll\"\n",
    "#r \"./binaries/BoSSSpad.dll\"\n",
    "using System;\n",
    "using System.Collections.Generic;\n",
    "using System.Linq;\n",
    "using ilPSP;\n",
    "using ilPSP.Utils;\n",
    "using BoSSS.Platform;\n",
    "using BoSSS.Foundation;\n",
    "using BoSSS.Foundation.XDG;\n",
    "using BoSSS.Foundation.Grid;\n",
    "using BoSSS.Foundation.Grid.Classic;\n",
    "using BoSSS.Foundation.IO;\n",
    "using BoSSS.Solution;\n",
    "using BoSSS.Solution.Control;\n",
    "using BoSSS.Solution.GridImport;\n",
    "using BoSSS.Solution.Statistic;\n",
    "using BoSSS.Solution.Utils;\n",
    "using BoSSS.Solution.AdvancedSolvers;\n",
    "using BoSSS.Solution.Gnuplot;\n",
    "using BoSSS.Application.BoSSSpad;\n",
    "using BoSSS.Application.XNSE_Solver;\n",
    "using static BoSSS.Application.BoSSSpad.BoSSSshell;\n",
    "Init();\n"
   ]
  },
  {
   "cell_type": "code",
   "execution_count": 2,
   "metadata": {
    "dotnet_interactive": {
     "language": "csharp"
    }
   },
   "outputs": [],
   "source": [
    "using BoSSS.Application.Rheology;"
   ]
  },
  {
   "cell_type": "code",
   "execution_count": 3,
   "metadata": {
    "dotnet_interactive": {
     "language": "csharp"
    }
   },
   "outputs": [
    {
     "name": "stdout",
     "output_type": "stream",
     "text": [
      "Project name is set to 'ConfinedCylinder_ConvergenceStudy'.\r\n"
     ]
    }
   ],
   "source": [
    "BoSSSshell.WorkflowMgm.Init(\"ConfinedCylinder_ConvergenceStudy\");"
   ]
  },
  {
   "cell_type": "code",
   "execution_count": 4,
   "metadata": {
    "dotnet_interactive": {
     "language": "csharp"
    }
   },
   "outputs": [
    {
     "data": {
      "text/html": [
       "<table><thead><tr><th><i>index</i></th><th><i>type</i></th><th>DeploymentBaseDirectory</th><th>DeployRuntime</th><th>Name</th><th>DotnetRuntime</th><th>BatchInstructionDir</th><th>AllowedDatabasesPaths</th><th>Username</th><th>Password</th><th>ServerName</th><th>ComputeNodes</th><th>DefaultJobPriority</th><th>SingleNode</th><th>PrivateKeyFilePath</th><th>AdditionalBatchCommands</th><th>DeploymentBaseDirectoryAtRemote</th><th>SlurmAccount</th><th>Email</th><th>MonoDebug</th></tr></thead><tbody><tr><td>0</td><td>BoSSS.Application.BoSSSpad.MiniBatchProcessorClient</td><td><div class=\"dni-plaintext\">C:\\Users\\flori\\AppData\\Local\\BoSSS-LocalJobs</div></td><td><div class=\"dni-plaintext\">False</div></td><td><div class=\"dni-plaintext\">LocalPC</div></td><td><div class=\"dni-plaintext\">dotnet</div></td><td><div class=\"dni-plaintext\">&lt;null&gt;</div></td><td><div class=\"dni-plaintext\">[ C:\\ == , D:\\ ==  ]</div></td><td></td><td></td><td></td><td></td><td></td><td></td><td></td><td></td><td></td><td></td><td></td><td></td></tr><tr><td>1</td><td>BoSSS.Application.BoSSSpad.MsHPC2012Client</td><td><div class=\"dni-plaintext\">\\\\dc1\\userspace\\kummer\\cluster</div></td><td><div class=\"dni-plaintext\">False</div></td><td><div class=\"dni-plaintext\">FDY-WindowsHPC</div></td><td><div class=\"dni-plaintext\">dotnet</div></td><td></td><td><div class=\"dni-plaintext\">[ \\\\dc1\\userspace\\kummer ==  ]</div></td><td><div class=\"dni-plaintext\">FDY\\kummer</div></td><td></td><td><div class=\"dni-plaintext\">DC2</div></td><td><div class=\"dni-plaintext\">&lt;null&gt;</div></td><td><span>Normal</span></td><td><div class=\"dni-plaintext\">True</div></td><td></td><td></td><td></td><td></td><td></td><td></td></tr><tr><td>2</td><td>BoSSS.Application.BoSSSpad.SlurmClient</td><td><div class=\"dni-plaintext\">W:\\bosss_deploy</div></td><td><div class=\"dni-plaintext\">False</div></td><td><div class=\"dni-plaintext\">LbI</div></td><td><div class=\"dni-plaintext\">dotnet</div></td><td></td><td><div class=\"dni-plaintext\">[  ]</div></td><td><div class=\"dni-plaintext\">fk69umer</div></td><td><div class=\"dni-plaintext\">&lt;null&gt;</div></td><td><div class=\"dni-plaintext\">lcluster8.hrz.tu-darmstadt.de</div></td><td></td><td></td><td></td><td><div class=\"dni-plaintext\">C:\\Users\\flori\\.ssh\\id_rsa</div></td><td><div class=\"dni-plaintext\">&lt;null&gt;</div></td><td><div class=\"dni-plaintext\">/home/fk69umer/bosss_deploy</div></td><td><div class=\"dni-plaintext\">project01287</div></td><td><div class=\"dni-plaintext\">&lt;null&gt;</div></td><td><div class=\"dni-plaintext\">False</div></td></tr><tr><td>3</td><td>BoSSS.Application.BoSSSpad.SlurmClient</td><td><div class=\"dni-plaintext\">X:\\fk69umer\\bosss_deploy</div></td><td><div class=\"dni-plaintext\">False</div></td><td><div class=\"dni-plaintext\">Lb2-specialPrj</div></td><td><div class=\"dni-plaintext\">dotnet</div></td><td></td><td><div class=\"dni-plaintext\">[ X:\\fk69umer == /work/scratch/fk69umer ]</div></td><td><div class=\"dni-plaintext\">fk69umer</div></td><td><div class=\"dni-plaintext\">&lt;null&gt;</div></td><td><div class=\"dni-plaintext\">lcluster16.hrz.tu-darmstadt.de</div></td><td></td><td></td><td></td><td><div class=\"dni-plaintext\">C:\\Users\\flori\\.ssh\\id_rsa</div></td><td><div class=\"dni-plaintext\">[ #SLURM -p test24, #SLURM -C avx512 ]</div></td><td><div class=\"dni-plaintext\">/work/scratch/fk69umer/bosss_deploy</div></td><td><div class=\"dni-plaintext\">special00006</div></td><td><div class=\"dni-plaintext\">&lt;null&gt;</div></td><td><div class=\"dni-plaintext\">False</div></td></tr></tbody></table>"
      ]
     },
     "execution_count": 4,
     "metadata": {},
     "output_type": "execute_result"
    }
   ],
   "source": [
    "ExecutionQueues"
   ]
  },
  {
   "cell_type": "code",
   "execution_count": 5,
   "metadata": {
    "dotnet_interactive": {
     "language": "csharp"
    }
   },
   "outputs": [],
   "source": [
    "var myBatch = ExecutionQueues[3];"
   ]
  },
  {
   "cell_type": "code",
   "execution_count": 6,
   "metadata": {
    "dotnet_interactive": {
     "language": "csharp"
    }
   },
   "outputs": [
    {
     "name": "stdout",
     "output_type": "stream",
     "text": [
      "Opening existing database 'X:\\fk69umer\\Rheology_ConfinedCylinder'.\r\n"
     ]
    }
   ],
   "source": [
    "var myDb = myBatch.CreateOrOpenCompatibleDatabase(\"Rheology_ConfinedCylinder\");"
   ]
  },
  {
   "cell_type": "code",
   "execution_count": 7,
   "metadata": {
    "dotnet_interactive": {
     "language": "csharp"
    }
   },
   "outputs": [],
   "source": [
    "BoSSSshell.WorkflowMgm.DefaultDatabase = myDb;"
   ]
  },
  {
   "cell_type": "markdown",
   "metadata": {
    "dotnet_interactive": {
     "language": "csharp"
    }
   },
   "source": [
    "## Parameter set for Convergence Study"
   ]
  },
  {
   "cell_type": "code",
   "execution_count": 8,
   "metadata": {
    "dotnet_interactive": {
     "language": "csharp"
    }
   },
   "outputs": [],
   "source": [
    "int[] pOrder = new int[] {1, 2, 3, 4};\n",
    "int numberGrids = 4;"
   ]
  },
  {
   "cell_type": "code",
   "execution_count": 9,
   "metadata": {
    "dotnet_interactive": {
     "language": "csharp"
    }
   },
   "outputs": [],
   "source": [
    "double[] WeissenbergS = new double[] { 0.0, 0.2 };"
   ]
  },
  {
   "cell_type": "markdown",
   "metadata": {
    "dotnet_interactive": {
     "language": "csharp"
    }
   },
   "source": [
    "## Init grids and save to database"
   ]
  },
  {
   "cell_type": "code",
   "execution_count": 10,
   "metadata": {
    "dotnet_interactive": {
     "language": "csharp"
    }
   },
   "outputs": [
    {
     "name": "stdout",
     "output_type": "stream",
     "text": [
      "\n",
      "Grid Edge Tags changed.\n",
      "An equivalent grid (4ce4b9bc-cce4-4c8e-a749-ed79d65caca2) is already present in the database -- the grid will not be saved.\n",
      "\n",
      "Grid Edge Tags changed.\n",
      "An equivalent grid (557173ad-f0c7-42ce-8bff-acdda333a95d) is already present in the database -- the grid will not be saved.\n",
      "\n",
      "Grid Edge Tags changed.\n",
      "An equivalent grid (e245a313-0f98-4039-9a52-1581e12a76ec) is already present in the database -- the grid will not be saved.\n",
      "\n",
      "Grid Edge Tags changed.\n",
      "An equivalent grid (1a36165d-47ac-4248-aad4-8a2cfa8c80c4) is already present in the database -- the grid will not be saved.\n"
     ]
    }
   ],
   "source": [
    "IGridInfo[] grids = new IGridInfo[numberGrids];\n",
    "//GridCommons grid;\n",
    "for (int k = 0; k < numberGrids; k++) {\n",
    "\n",
    "//bosssGrid.Name        = \"confined_cylinder\";\n",
    "\n",
    "Func<double[], string> edgeTagFunc = delegate (double[] X) {\n",
    "    double x = X[0];\n",
    "    double y = X[1];\n",
    "    //  if (!C.FixedStreamwisePeriodicBC)\n",
    "    //  {\n",
    "        if (Math.Abs(x - (-15)) < 1.0e-10)\n",
    "            return \"Velocity_inlet\";\n",
    "        if (Math.Abs(x - (15)) < 1.0e-10)\n",
    "            return \"Pressure_Outlet\";\n",
    "    //  }\n",
    "    //  if (Math.Abs(y - (-2)) < 1.0e-10)\n",
    "    //      return \"Freeslip\";\n",
    "                        \n",
    "        if (Math.Abs(y - (0)) < 1.0e-10)\n",
    "            return \"Freeslip\";\n",
    "                        \n",
    "        if (Math.Abs(y - (+2)) < 1.0e-10)\n",
    "            return \"Wall_top\";\n",
    "                        \n",
    "    //  if (-1.0 < y && y < 1.0 && -1.0 < x  && x < 1.0)\n",
    "    //    return \"Wall_cylinder\";\n",
    "                        \n",
    "        if (0.0 < y && y < 1.0 && -1.0 < x  && x < 1.0)\n",
    "            return \"Wall_cylinder\";\n",
    "                        \n",
    "        throw new ArgumentOutOfRangeException(\"at x = \" + x + \"and y = \" +y);\n",
    "    };\n",
    "\n",
    "    \n",
    "    grids[k] = BoSSSshell.WorkflowMgm.ImportGrid(@\"Cylinder_GRIDS\\mesh_karman_OriginalBox_MEDIUM_\"+k+\"_half.msh\", EdgeTagFunc:edgeTagFunc);\n",
    "}"
   ]
  },
  {
   "cell_type": "code",
   "execution_count": 11,
   "metadata": {
    "dotnet_interactive": {
     "language": "csharp"
    }
   },
   "outputs": [
    {
     "data": {
      "text/plain": [
       "#0: { Guid = 4ce4b9bc-cce4-4c8e-a749-ed79d65caca2; Name = ; Cell Count = 320; Dim = 2 }\r\n",
       "#1: { Guid = 557173ad-f0c7-42ce-8bff-acdda333a95d; Name = ; Cell Count = 1208; Dim = 2 }\r\n",
       "#2: { Guid = e245a313-0f98-4039-9a52-1581e12a76ec; Name = ; Cell Count = 4252; Dim = 2 }\r\n",
       "#3: { Guid = 1a36165d-47ac-4248-aad4-8a2cfa8c80c4; Name = ; Cell Count = 14712; Dim = 2 }\r\n"
      ]
     },
     "execution_count": 11,
     "metadata": {},
     "output_type": "execute_result"
    }
   ],
   "source": [
    "grids"
   ]
  },
  {
   "cell_type": "markdown",
   "metadata": {
    "dotnet_interactive": {
     "language": "csharp"
    }
   },
   "source": [
    "## Setup of control objects for a solver runs"
   ]
  },
  {
   "cell_type": "code",
   "execution_count": 12,
   "metadata": {
    "dotnet_interactive": {
     "language": "csharp"
    }
   },
   "outputs": [],
   "source": [
    "using BoSSS.Solution.AdvancedSolvers;"
   ]
  },
  {
   "cell_type": "code",
   "execution_count": 13,
   "metadata": {
    "dotnet_interactive": {
     "language": "csharp"
    }
   },
   "outputs": [],
   "source": [
    "// Code for Initial conditions\n",
    "class MyInitCode {\n",
    "\n",
    "static string nl = System.Environment.NewLine;\n",
    "public static string InitCode(double Reynolds, double Weissenberg, double beta) => \n",
    "\"static class InitialValues { \" + nl +\n",
    "\" \" + nl +\n",
    "\"    static double u0                   = 1.5; // 0.375;// 0.66;// 3 / 2;   \" + nl +\n",
    "\"    static double h                    = 4; \" + nl +\n",
    "$\"    public static double beta          = {beta}; \" + nl +\n",
    "$\"    static double Reynolds             = {Reynolds}; \" + nl +\n",
    "$\"    static double Weissenberg          = {Weissenberg};  \" + nl +\n",
    "\"    \" + nl +\n",
    "\"    public static double VelocityXfunction(double[] X) { \" + nl +\n",
    "\"        return u0 * (1  - (X[1] *  X[1])/h); \" + nl +\n",
    "\"    } \" + nl +\n",
    "\"    \" + nl +\n",
    "\"    public static double VelocityYfunction(double[] X) { \" + nl +\n",
    "\"        return 0.0; \" + nl +\n",
    "\"    } \" + nl +\n",
    "\"    \" + nl +\n",
    "\"    public static double Pressurefunction(double[] X) { \" + nl +\n",
    "\"        return u0 * 0.5 * Reynolds * (35 - X[0]); \" + nl +\n",
    "\"    } \" + nl +\n",
    "\"    \" + nl +\n",
    "\"    public static double StressXXfunction_wi02(double[] X) { \" + nl +\n",
    "\"        const double Weissenberg = 0.2; \" + nl +\n",
    "\"        return 2 * Weissenberg * (1 - beta) * u0 * (-2 / h) * X[1] * u0 * (-2 / h) * X[1]; \" + nl +\n",
    "\"    } \" + nl +\n",
    "\"    \" + nl +\n",
    "\"    public static double StressXXfunction_wi00(double[] X) { \" + nl +\n",
    "\"        const double Weissenberg = 0.0; \" + nl +\n",
    "\"        return 2 * Weissenberg * (1 - beta) * u0 * (-2 / h) * X[1] * u0 * (-2 / h) * X[1]; \" + nl +\n",
    "\"    } \" + nl +\n",
    "\"    \" + nl +\n",
    "\"    public static double StressXYfunction(double[] X) { \" + nl +\n",
    "\"        return (1 - beta) * u0 * (-2 / h) * X[1]; \" + nl +\n",
    "\"    } \" + nl +\n",
    "\"    \" + nl +\n",
    "\"    public static double StressYYfunction(double[] X) { \" + nl +\n",
    "\"        return 0.0; \" + nl +\n",
    "\"    } \" + nl +\n",
    "\"}  \" + nl;\n",
    "\n",
    "}"
   ]
  },
  {
   "cell_type": "code",
   "execution_count": 14,
   "metadata": {
    "dotnet_interactive": {
     "language": "csharp"
    }
   },
   "outputs": [],
   "source": [
    "//MyInitCode.InitCode(1,2)"
   ]
  },
  {
   "cell_type": "code",
   "execution_count": 15,
   "metadata": {
    "dotnet_interactive": {
     "language": "csharp"
    }
   },
   "outputs": [],
   "source": [
    "List<RheologyControl> Controls = new List<RheologyControl>();"
   ]
  },
  {
   "cell_type": "code",
   "execution_count": 16,
   "metadata": {
    "dotnet_interactive": {
     "language": "csharp"
    }
   },
   "outputs": [
    {
     "name": "stdout",
     "output_type": "stream",
     "text": [
      "Created control: ConfinedCylinder_ConvergenceStudy_p1_meshNo0_Wi0_half\n",
      "Created control: ConfinedCylinder_ConvergenceStudy_p1_meshNo1_Wi0_half\n",
      "Created control: ConfinedCylinder_ConvergenceStudy_p1_meshNo2_Wi0_half\n",
      "Created control: ConfinedCylinder_ConvergenceStudy_p1_meshNo3_Wi0_half\n",
      "Created control: ConfinedCylinder_ConvergenceStudy_p2_meshNo0_Wi0_half\n",
      "Created control: ConfinedCylinder_ConvergenceStudy_p2_meshNo1_Wi0_half\n",
      "Created control: ConfinedCylinder_ConvergenceStudy_p2_meshNo2_Wi0_half\n",
      "Created control: ConfinedCylinder_ConvergenceStudy_p2_meshNo3_Wi0_half\n",
      "Created control: ConfinedCylinder_ConvergenceStudy_p3_meshNo0_Wi0_half\n",
      "Created control: ConfinedCylinder_ConvergenceStudy_p3_meshNo1_Wi0_half\n",
      "Created control: ConfinedCylinder_ConvergenceStudy_p3_meshNo2_Wi0_half\n",
      "Created control: ConfinedCylinder_ConvergenceStudy_p3_meshNo3_Wi0_half\n",
      "Created control: ConfinedCylinder_ConvergenceStudy_p4_meshNo0_Wi0_half\n",
      "Created control: ConfinedCylinder_ConvergenceStudy_p4_meshNo1_Wi0_half\n",
      "Created control: ConfinedCylinder_ConvergenceStudy_p4_meshNo2_Wi0_half\n",
      "Created control: ConfinedCylinder_ConvergenceStudy_p4_meshNo3_Wi0_half\n",
      "Created control: ConfinedCylinder_ConvergenceStudy_p1_meshNo0_Wi0.2_half\n",
      "Created control: ConfinedCylinder_ConvergenceStudy_p1_meshNo1_Wi0.2_half\n",
      "Created control: ConfinedCylinder_ConvergenceStudy_p1_meshNo2_Wi0.2_half\n",
      "Created control: ConfinedCylinder_ConvergenceStudy_p1_meshNo3_Wi0.2_half\n",
      "Created control: ConfinedCylinder_ConvergenceStudy_p2_meshNo0_Wi0.2_half\n",
      "Created control: ConfinedCylinder_ConvergenceStudy_p2_meshNo1_Wi0.2_half\n",
      "Created control: ConfinedCylinder_ConvergenceStudy_p2_meshNo2_Wi0.2_half\n",
      "Created control: ConfinedCylinder_ConvergenceStudy_p2_meshNo3_Wi0.2_half\n",
      "Created control: ConfinedCylinder_ConvergenceStudy_p3_meshNo0_Wi0.2_half\n",
      "Created control: ConfinedCylinder_ConvergenceStudy_p3_meshNo1_Wi0.2_half\n",
      "Created control: ConfinedCylinder_ConvergenceStudy_p3_meshNo2_Wi0.2_half\n",
      "Created control: ConfinedCylinder_ConvergenceStudy_p3_meshNo3_Wi0.2_half\n",
      "Created control: ConfinedCylinder_ConvergenceStudy_p4_meshNo0_Wi0.2_half\n",
      "Created control: ConfinedCylinder_ConvergenceStudy_p4_meshNo1_Wi0.2_half\n",
      "Created control: ConfinedCylinder_ConvergenceStudy_p4_meshNo2_Wi0.2_half\n",
      "Created control: ConfinedCylinder_ConvergenceStudy_p4_meshNo3_Wi0.2_half\n"
     ]
    }
   ],
   "source": [
    "Controls.Clear();\n",
    "double _beta = 0.59;\n",
    "double _Reynolds = 1.0;\n",
    "foreach(double Weissenberg in WeissenbergS) {\n",
    "foreach(int degree in pOrder) {\n",
    "int elemInd = 0;\n",
    "foreach(var grd in grids) {\n",
    "\n",
    "    //Database\n",
    "    RheologyControl C = new RheologyControl();\n",
    "    C.savetodb        = true;\n",
    "    C.DbPath          = myDb.Path;\n",
    "    C.ProjectName     = \"Cylinder\";\n",
    "    C.SetGrid(grd);\n",
    "    C.TracingNamespaces = \"BoSSS,ilPSP\";\n",
    "\n",
    "    //SolverChooser\n",
    "    C.NonLinearSolver.MaxSolverIterations  = 100;\n",
    "    C.NonLinearSolver.MinSolverIterations  = 3;\n",
    "    C.NonLinearSolver.ConvergenceCriterion = 1E-6;\n",
    "    C.NonLinearSolver.SolverCode           = NonLinearSolverCode.Newton;\n",
    "    C.LinearSolver.SolverCode = LinearSolverCode.classic_pardiso;\n",
    "\n",
    "    //Timestepping\n",
    "    C.TimesteppingMode   = AppControl._TimesteppingMode.Steady;\n",
    "    C.Timestepper_Scheme = RheologyControl.TimesteppingScheme.ImplicitEuler;\n",
    "    C.ObjectiveParam     = 1.0;\n",
    "\n",
    "    //Configuration Shock capturing and body forces\n",
    "    //C.UsePerssonSensor       = false;\n",
    "    //C.SensorLimit            = 1e-4;\n",
    "    C.AdaptiveMeshRefinement = false;\n",
    "    C.RefinementLevel        = 10;\n",
    "    //C.UseArtificialDiffusion = false;\n",
    "    C.Bodyforces             = true;\n",
    "\n",
    "    //Physical parameters\n",
    "    C.beta                 = _beta;\n",
    "    C.Reynolds             = _Reynolds;\n",
    "    C.Weissenberg          = Weissenberg; //aim Weissenberg number!\n",
    "    //C.RaiseWeissenberg     = false;\n",
    "    //C.WeissenbergIncrement = 0.0;\n",
    "\n",
    "    //Penalties\n",
    "    C.ViscousPenaltyScaling = 1;\n",
    "    C.Penalty2              = 1;\n",
    "    C.Penalty1[0]           = 0.0;\n",
    "    C.Penalty1[1]           = 0.0;\n",
    "    C.PresPenalty2          = 1;  \n",
    "    C.PresPenalty1[0]       = 0.0;\n",
    "    C.PresPenalty1[1]       = 0.0;\n",
    "    C.alpha                 = 1;  \n",
    "    C.StressPenalty         = 1.0;\n",
    "\n",
    "    //Create Fields\n",
    "    C.SetDGdegree(degree);\n",
    "\n",
    "    //Set initial values\n",
    "    C.InitialValues.Add(\"VelocityX\", new Formula(\"InitialValues.VelocityXfunction\", false, MyInitCode.InitCode(1, Weissenberg, _beta)));\n",
    "    C.InitialValues.Add(\"VelocityY\", new Formula(\"InitialValues.VelocityYfunction\", false, MyInitCode.InitCode(1, Weissenberg, _beta)));\n",
    "    if(Weissenberg == 0.0)\n",
    "        C.InitialValues.Add(\"StressXX\", new Formula(\"InitialValues.StressXXfunction_wi00\", false, MyInitCode.InitCode(1, Weissenberg, _beta)));\n",
    "    else if(Weissenberg == 0.2)\n",
    "        C.InitialValues.Add(\"StressXX\", new Formula(\"InitialValues.StressXXfunction_wi02\", false, MyInitCode.InitCode(1, Weissenberg, _beta)));\n",
    "    else\n",
    "        throw new NotImplementedException(\"Missing Weissenberg = \" + Weissenberg);    \n",
    "    C.InitialValues.Add(\"StressXY\", new Formula(\"InitialValues.StressXYfunction\", false, MyInitCode.InitCode(1, Weissenberg, _beta)));\n",
    "    C.InitialValues.Add(\"StressYY\", new Formula(\"InitialValues.StressYYfunction\", false, MyInitCode.InitCode(1, Weissenberg, _beta)));\n",
    "\n",
    "    //Set Boundary Conditions\n",
    "    //C.AddBoundaryValue(\"Wall_top\", \"VelocityX\", Wall);\n",
    "    //C.AddBoundaryValue(\"Wall_top\", \"VelocityY\", Wall);\n",
    "    //C.AddBoundaryValue(\"Wall_cylinder\", \"VelocityX\", Wall);\n",
    "    //C.AddBoundaryValue(\"Wall_cylinder\", \"VelocityY\", Wall);\n",
    "\n",
    "    C.AddBoundaryValue(\"Velocity_inlet\", \"VelocityX\", new Formula(\"InitialValues.VelocityXfunction\", false, MyInitCode.InitCode(1, Weissenberg, _beta)));\n",
    "    C.AddBoundaryValue(\"Velocity_inlet\", \"VelocityY\", new Formula(\"InitialValues.VelocityYfunction\", false, MyInitCode.InitCode(1, Weissenberg, _beta)));\n",
    "    if(Weissenberg == 0.0)\n",
    "        C.AddBoundaryValue(\"Velocity_inlet\", \"StressXX\", new Formula(\"InitialValues.StressXXfunction_wi00\", false, MyInitCode.InitCode(1, Weissenberg, _beta)));\n",
    "    else if(Weissenberg == 0.2)\n",
    "        C.AddBoundaryValue(\"Velocity_inlet\", \"StressXX\", new Formula(\"InitialValues.StressXXfunction_wi02\", false, MyInitCode.InitCode(1, Weissenberg, _beta)));\n",
    "    else\n",
    "        throw new NotImplementedException(\"Missing Weissenberg = \" + Weissenberg);\n",
    "    C.AddBoundaryValue(\"Velocity_inlet\", \"StressXY\", new Formula(\"InitialValues.StressXYfunction\", false, MyInitCode.InitCode(1, Weissenberg, _beta)));\n",
    "    C.AddBoundaryValue(\"Velocity_inlet\", \"StressYY\", new Formula(\"InitialValues.StressYYfunction\", false, MyInitCode.InitCode(1, Weissenberg, _beta))); \n",
    "            \n",
    "    //Save Session and next...\n",
    "    C.SessionName = $\"ConfinedCylinder_ConvergenceStudy_p{degree}_meshNo{elemInd}_Wi{Weissenberg}_half\";\n",
    "    Controls.Add(C);\n",
    "    Console.WriteLine(\"Created control: \" + C.SessionName);\n",
    "    elemInd++;\n",
    "}\n",
    "}\n",
    "}"
   ]
  },
  {
   "cell_type": "markdown",
   "metadata": {
    "dotnet_interactive": {
     "language": "csharp"
    }
   },
   "source": [
    "## Launch Jobs"
   ]
  },
  {
   "cell_type": "code",
   "execution_count": 17,
   "metadata": {
    "dotnet_interactive": {
     "language": "csharp"
    }
   },
   "outputs": [
    {
     "data": {
      "text/html": [
       "<div class=\"dni-plaintext\">32</div>"
      ]
     },
     "execution_count": 17,
     "metadata": {},
     "output_type": "execute_result"
    }
   ],
   "source": [
    "Controls.Count"
   ]
  },
  {
   "cell_type": "code",
   "execution_count": 18,
   "metadata": {
    "dotnet_interactive": {
     "language": "csharp"
    }
   },
   "outputs": [
    {
     "name": "stdout",
     "output_type": "stream",
     "text": [
      "Deploying job ConfinedCylinder_ConvergenceStudy_p1_meshNo0_Wi0_half ... \n",
      "Deploying executables and additional files ...\n",
      "Deployment directory: X:\\fk69umer\\bosss_deploy\\ConfinedCylinder_ConvergenceStudy-RheologySolver2021Jun23_170625\n",
      "copied 48 files.\n",
      "   written file: control.obj\n",
      "deployment finished.\n",
      "18769655\n",
      "\n",
      "Deploying job ConfinedCylinder_ConvergenceStudy_p1_meshNo1_Wi0_half ... \n",
      "Deploying executables and additional files ...\n",
      "Deployment directory: X:\\fk69umer\\bosss_deploy\\ConfinedCylinder_ConvergenceStudy-RheologySolver2021Jun23_170637\n",
      "copied 48 files.\n",
      "   written file: control.obj\n",
      "deployment finished.\n",
      "18769668\n",
      "\n",
      "Deploying job ConfinedCylinder_ConvergenceStudy_p1_meshNo2_Wi0_half ... \n",
      "Deploying executables and additional files ...\n",
      "Deployment directory: X:\\fk69umer\\bosss_deploy\\ConfinedCylinder_ConvergenceStudy-RheologySolver2021Jun23_170649\n",
      "copied 48 files.\n",
      "   written file: control.obj\n",
      "deployment finished.\n",
      "18769673\n",
      "\n",
      "Deploying job ConfinedCylinder_ConvergenceStudy_p1_meshNo3_Wi0_half ... \n",
      "Deploying executables and additional files ...\n",
      "Deployment directory: X:\\fk69umer\\bosss_deploy\\ConfinedCylinder_ConvergenceStudy-RheologySolver2021Jun23_170701\n",
      "copied 48 files.\n",
      "   written file: control.obj\n",
      "deployment finished.\n",
      "18769680\n",
      "\n",
      "Deploying job ConfinedCylinder_ConvergenceStudy_p2_meshNo0_Wi0_half ... \n",
      "Deploying executables and additional files ...\n",
      "Deployment directory: X:\\fk69umer\\bosss_deploy\\ConfinedCylinder_ConvergenceStudy-RheologySolver2021Jun23_170714\n",
      "copied 48 files.\n",
      "   written file: control.obj\n",
      "deployment finished.\n",
      "18769689\n",
      "\n",
      "Deploying job ConfinedCylinder_ConvergenceStudy_p2_meshNo1_Wi0_half ... \n",
      "Deploying executables and additional files ...\n",
      "Deployment directory: X:\\fk69umer\\bosss_deploy\\ConfinedCylinder_ConvergenceStudy-RheologySolver2021Jun23_170726\n",
      "copied 48 files.\n",
      "   written file: control.obj\n",
      "deployment finished.\n",
      "18769694\n",
      "\n",
      "Deploying job ConfinedCylinder_ConvergenceStudy_p2_meshNo2_Wi0_half ... \n",
      "Deploying executables and additional files ...\n",
      "Deployment directory: X:\\fk69umer\\bosss_deploy\\ConfinedCylinder_ConvergenceStudy-RheologySolver2021Jun23_170741\n",
      "copied 48 files.\n",
      "   written file: control.obj\n",
      "deployment finished.\n",
      "18769706\n",
      "\n",
      "Deploying job ConfinedCylinder_ConvergenceStudy_p2_meshNo3_Wi0_half ... \n",
      "Deploying executables and additional files ...\n",
      "Deployment directory: X:\\fk69umer\\bosss_deploy\\ConfinedCylinder_ConvergenceStudy-RheologySolver2021Jun23_170755\n",
      "copied 48 files.\n",
      "   written file: control.obj\n",
      "deployment finished.\n",
      "18769712\n",
      "Loading session a6ae9810-765c-4763-9cac-1324c0b6794f failed with message 'Could not find file 'X:\\fk69umer\\Rheology_ConfinedCylinder\\sessions\\a6ae9810-765c-4763-9cac-1324c0b6794f\\Session.info'.'\n",
      "\n",
      "Loading session a6ae9810-765c-4763-9cac-1324c0b6794f failed with message 'Could not find file 'X:\\fk69umer\\Rheology_ConfinedCylinder\\sessions\\a6ae9810-765c-4763-9cac-1324c0b6794f\\Session.info'.'\n",
      "Deploying job ConfinedCylinder_ConvergenceStudy_p3_meshNo0_Wi0_half ... \n",
      "Deploying executables and additional files ...\n",
      "Deployment directory: X:\\fk69umer\\bosss_deploy\\ConfinedCylinder_ConvergenceStudy-RheologySolver2021Jun23_170809\n",
      "copied 48 files.\n",
      "   written file: control.obj\n",
      "deployment finished.\n",
      "18769718\n",
      "\n",
      "Deploying job ConfinedCylinder_ConvergenceStudy_p3_meshNo1_Wi0_half ... \n",
      "Deploying executables and additional files ...\n",
      "Deployment directory: X:\\fk69umer\\bosss_deploy\\ConfinedCylinder_ConvergenceStudy-RheologySolver2021Jun23_170826\n",
      "copied 48 files.\n",
      "   written file: control.obj\n",
      "deployment finished.\n",
      "18769722\n",
      "\n",
      "Deploying job ConfinedCylinder_ConvergenceStudy_p3_meshNo2_Wi0_half ... \n",
      "Deploying executables and additional files ...\n",
      "Deployment directory: X:\\fk69umer\\bosss_deploy\\ConfinedCylinder_ConvergenceStudy-RheologySolver2021Jun23_170843\n",
      "copied 48 files.\n",
      "   written file: control.obj\n",
      "deployment finished.\n",
      "18769731\n",
      "\n",
      "Deploying job ConfinedCylinder_ConvergenceStudy_p3_meshNo3_Wi0_half ... \n",
      "Deploying executables and additional files ...\n",
      "Deployment directory: X:\\fk69umer\\bosss_deploy\\ConfinedCylinder_ConvergenceStudy-RheologySolver2021Jun23_170857\n",
      "copied 48 files.\n",
      "   written file: control.obj\n",
      "deployment finished.\n",
      "18769743\n",
      "\n",
      "Deploying job ConfinedCylinder_ConvergenceStudy_p4_meshNo0_Wi0_half ... \n",
      "Deploying executables and additional files ...\n",
      "Deployment directory: X:\\fk69umer\\bosss_deploy\\ConfinedCylinder_ConvergenceStudy-RheologySolver2021Jun23_170916\n",
      "copied 48 files.\n",
      "   written file: control.obj\n",
      "deployment finished.\n",
      "18769749\n",
      "\n",
      "Deploying job ConfinedCylinder_ConvergenceStudy_p4_meshNo1_Wi0_half ... \n",
      "Deploying executables and additional files ...\n",
      "Deployment directory: X:\\fk69umer\\bosss_deploy\\ConfinedCylinder_ConvergenceStudy-RheologySolver2021Jun23_170932\n",
      "copied 48 files.\n",
      "   written file: control.obj\n",
      "deployment finished.\n",
      "18769761\n",
      "\n",
      "Deploying job ConfinedCylinder_ConvergenceStudy_p4_meshNo2_Wi0_half ... \n",
      "Deploying executables and additional files ...\n",
      "Deployment directory: X:\\fk69umer\\bosss_deploy\\ConfinedCylinder_ConvergenceStudy-RheologySolver2021Jun23_170952\n",
      "copied 48 files.\n",
      "   written file: control.obj\n",
      "deployment finished.\n",
      "18769771\n",
      "\n",
      "Deploying job ConfinedCylinder_ConvergenceStudy_p4_meshNo3_Wi0_half ... \n",
      "Deploying executables and additional files ...\n",
      "Deployment directory: X:\\fk69umer\\bosss_deploy\\ConfinedCylinder_ConvergenceStudy-RheologySolver2021Jun23_171011\n",
      "copied 48 files.\n",
      "   written file: control.obj\n",
      "deployment finished.\n",
      "18769777\n",
      "\n",
      "Deploying job ConfinedCylinder_ConvergenceStudy_p1_meshNo0_Wi0.2_half ... \n",
      "Deploying executables and additional files ...\n",
      "Deployment directory: X:\\fk69umer\\bosss_deploy\\ConfinedCylinder_ConvergenceStudy-RheologySolver2021Jun23_171032\n",
      "copied 48 files.\n",
      "   written file: control.obj\n",
      "deployment finished.\n",
      "18769789\n",
      "\n",
      "Deploying job ConfinedCylinder_ConvergenceStudy_p1_meshNo1_Wi0.2_half ... \n",
      "Deploying executables and additional files ...\n",
      "Deployment directory: X:\\fk69umer\\bosss_deploy\\ConfinedCylinder_ConvergenceStudy-RheologySolver2021Jun23_171053\n",
      "copied 48 files.\n",
      "   written file: control.obj\n",
      "deployment finished.\n",
      "18769799\n",
      "\n",
      "Deploying job ConfinedCylinder_ConvergenceStudy_p1_meshNo2_Wi0.2_half ... \n",
      "Deploying executables and additional files ...\n",
      "Deployment directory: X:\\fk69umer\\bosss_deploy\\ConfinedCylinder_ConvergenceStudy-RheologySolver2021Jun23_171114\n",
      "copied 48 files.\n",
      "   written file: control.obj\n",
      "deployment finished.\n",
      "18769811\n",
      "\n",
      "Deploying job ConfinedCylinder_ConvergenceStudy_p1_meshNo3_Wi0.2_half ... \n",
      "Deploying executables and additional files ...\n",
      "Deployment directory: X:\\fk69umer\\bosss_deploy\\ConfinedCylinder_ConvergenceStudy-RheologySolver2021Jun23_171137\n",
      "copied 48 files.\n",
      "   written file: control.obj\n",
      "deployment finished.\n",
      "18769820\n",
      "\n",
      "Deploying job ConfinedCylinder_ConvergenceStudy_p2_meshNo0_Wi0.2_half ... \n",
      "Deploying executables and additional files ...\n",
      "Deployment directory: X:\\fk69umer\\bosss_deploy\\ConfinedCylinder_ConvergenceStudy-RheologySolver2021Jun23_171159\n",
      "copied 48 files.\n",
      "   written file: control.obj\n",
      "deployment finished.\n",
      "18769930\n",
      "\n",
      "Deploying job ConfinedCylinder_ConvergenceStudy_p2_meshNo1_Wi0.2_half ... \n",
      "Deploying executables and additional files ...\n",
      "Deployment directory: X:\\fk69umer\\bosss_deploy\\ConfinedCylinder_ConvergenceStudy-RheologySolver2021Jun23_171226\n",
      "copied 48 files.\n",
      "   written file: control.obj\n",
      "deployment finished.\n",
      "18770042\n",
      "\n",
      "Deploying job ConfinedCylinder_ConvergenceStudy_p2_meshNo2_Wi0.2_half ... \n",
      "Deploying executables and additional files ...\n",
      "Deployment directory: X:\\fk69umer\\bosss_deploy\\ConfinedCylinder_ConvergenceStudy-RheologySolver2021Jun23_171253\n",
      "copied 48 files.\n",
      "   written file: control.obj\n",
      "deployment finished.\n",
      "18770054\n",
      "\n",
      "Deploying job ConfinedCylinder_ConvergenceStudy_p2_meshNo3_Wi0.2_half ... \n",
      "Deploying executables and additional files ...\n",
      "Deployment directory: X:\\fk69umer\\bosss_deploy\\ConfinedCylinder_ConvergenceStudy-RheologySolver2021Jun23_171318\n",
      "copied 48 files.\n",
      "   written file: control.obj\n",
      "deployment finished.\n",
      "18770067\n",
      "\n",
      "Deploying job ConfinedCylinder_ConvergenceStudy_p3_meshNo0_Wi0.2_half ... \n",
      "Deploying executables and additional files ...\n",
      "Deployment directory: X:\\fk69umer\\bosss_deploy\\ConfinedCylinder_ConvergenceStudy-RheologySolver2021Jun23_171341\n",
      "copied 48 files.\n",
      "   written file: control.obj\n",
      "deployment finished.\n",
      "18770080\n",
      "\n",
      "Deploying job ConfinedCylinder_ConvergenceStudy_p3_meshNo1_Wi0.2_half ... \n"
     ]
    },
    {
     "name": "stdout",
     "output_type": "stream",
     "text": [
      "Deploying executables and additional files ...\n",
      "Deployment directory: X:\\fk69umer\\bosss_deploy\\ConfinedCylinder_ConvergenceStudy-RheologySolver2021Jun23_171404\n",
      "copied 48 files.\n",
      "   written file: control.obj\n",
      "deployment finished.\n",
      "18770096\n",
      "\n",
      "Deploying job ConfinedCylinder_ConvergenceStudy_p3_meshNo2_Wi0.2_half ... \n",
      "Deploying executables and additional files ...\n",
      "Deployment directory: X:\\fk69umer\\bosss_deploy\\ConfinedCylinder_ConvergenceStudy-RheologySolver2021Jun23_171429\n",
      "copied 48 files.\n",
      "   written file: control.obj\n",
      "deployment finished.\n",
      "18770112\n",
      "\n",
      "Deploying job ConfinedCylinder_ConvergenceStudy_p3_meshNo3_Wi0.2_half ... \n",
      "Deploying executables and additional files ...\n",
      "Deployment directory: X:\\fk69umer\\bosss_deploy\\ConfinedCylinder_ConvergenceStudy-RheologySolver2021Jun23_171453\n",
      "copied 48 files.\n",
      "   written file: control.obj\n",
      "deployment finished.\n",
      "18770194\n",
      "\n",
      "Deploying job ConfinedCylinder_ConvergenceStudy_p4_meshNo0_Wi0.2_half ... \n",
      "Deploying executables and additional files ...\n",
      "Deployment directory: X:\\fk69umer\\bosss_deploy\\ConfinedCylinder_ConvergenceStudy-RheologySolver2021Jun23_171517\n",
      "copied 48 files.\n",
      "   written file: control.obj\n",
      "deployment finished.\n",
      "18770208\n",
      "\n",
      "Deploying job ConfinedCylinder_ConvergenceStudy_p4_meshNo1_Wi0.2_half ... \n",
      "Deploying executables and additional files ...\n",
      "Deployment directory: X:\\fk69umer\\bosss_deploy\\ConfinedCylinder_ConvergenceStudy-RheologySolver2021Jun23_171547\n",
      "copied 48 files.\n",
      "   written file: control.obj\n",
      "deployment finished.\n",
      "18770223\n",
      "\n",
      "Deploying job ConfinedCylinder_ConvergenceStudy_p4_meshNo2_Wi0.2_half ... \n",
      "Deploying executables and additional files ...\n",
      "Deployment directory: X:\\fk69umer\\bosss_deploy\\ConfinedCylinder_ConvergenceStudy-RheologySolver2021Jun23_171615\n",
      "copied 48 files.\n",
      "   written file: control.obj\n",
      "deployment finished.\n",
      "18770240\n",
      "\n",
      "Deploying job ConfinedCylinder_ConvergenceStudy_p4_meshNo3_Wi0.2_half ... \n",
      "Deploying executables and additional files ...\n",
      "Deployment directory: X:\\fk69umer\\bosss_deploy\\ConfinedCylinder_ConvergenceStudy-RheologySolver2021Jun23_171645\n",
      "copied 48 files.\n",
      "   written file: control.obj\n",
      "deployment finished.\n",
      "18770252\n",
      "\n"
     ]
    }
   ],
   "source": [
    "foreach(var ctrl in Controls) {\n",
    "    var oneJob              = ctrl.CreateJob();\n",
    "    oneJob.NumberOfMPIProcs = 1;\n",
    "    //oneJob.ExecutionTime    = \"24:00:00\";\n",
    "    oneJob.Activate(myBatch);\n",
    "}"
   ]
  },
  {
   "cell_type": "code",
   "execution_count": 49,
   "metadata": {
    "dotnet_interactive": {
     "language": "csharp"
    }
   },
   "outputs": [],
   "source": [
    "//BoSSSshell.WorkflowMgm.AllJobs.Select(kv => kv.Value.Status.ToString()).ToArray()"
   ]
  },
  {
   "cell_type": "code",
   "execution_count": null,
   "metadata": {
    "dotnet_interactive": {
     "language": "csharp"
    }
   },
   "outputs": [],
   "source": []
  },
  {
   "cell_type": "code",
   "execution_count": 20,
   "metadata": {
    "dotnet_interactive": {
     "language": "csharp"
    }
   },
   "outputs": [],
   "source": [
    "var suspects = BoSSSshell.WorkflowMgm.AllJobs.Select(kv => kv.Value).Where(job => job.Status == JobStatus.FailedOrCanceled).ToArray();"
   ]
  },
  {
   "cell_type": "code",
   "execution_count": 21,
   "metadata": {
    "dotnet_interactive": {
     "language": "csharp"
    }
   },
   "outputs": [
    {
     "data": {
      "text/plain": [
       "#0: ConfinedCylinder_ConvergenceStudy_p1_meshNo3_Wi0_half: FailedOrCanceled (SlurmClient Lb2-specialPrj : fk69umer@lcluster16.hrz.tu-darmstadt.de, Slurm account: special00006)\r\n",
       "#1: ConfinedCylinder_ConvergenceStudy_p2_meshNo3_Wi0_half: FailedOrCanceled (SlurmClient Lb2-specialPrj : fk69umer@lcluster16.hrz.tu-darmstadt.de, Slurm account: special00006)\r\n",
       "#2: ConfinedCylinder_ConvergenceStudy_p3_meshNo2_Wi0_half: FailedOrCanceled (SlurmClient Lb2-specialPrj : fk69umer@lcluster16.hrz.tu-darmstadt.de, Slurm account: special00006)\r\n",
       "#3: ConfinedCylinder_ConvergenceStudy_p3_meshNo3_Wi0_half: FailedOrCanceled (SlurmClient Lb2-specialPrj : fk69umer@lcluster16.hrz.tu-darmstadt.de, Slurm account: special00006)\r\n",
       "#4: ConfinedCylinder_ConvergenceStudy_p4_meshNo1_Wi0_half: FailedOrCanceled (SlurmClient Lb2-specialPrj : fk69umer@lcluster16.hrz.tu-darmstadt.de, Slurm account: special00006)\r\n",
       "#5: ConfinedCylinder_ConvergenceStudy_p4_meshNo2_Wi0_half: FailedOrCanceled (SlurmClient Lb2-specialPrj : fk69umer@lcluster16.hrz.tu-darmstadt.de, Slurm account: special00006)\r\n",
       "#6: ConfinedCylinder_ConvergenceStudy_p4_meshNo3_Wi0_half: FailedOrCanceled (SlurmClient Lb2-specialPrj : fk69umer@lcluster16.hrz.tu-darmstadt.de, Slurm account: special00006)\r\n",
       "#7: ConfinedCylinder_ConvergenceStudy_p1_meshNo3_Wi0.2_half: FailedOrCanceled (SlurmClient Lb2-specialPrj : fk69umer@lcluster16.hrz.tu-darmstadt.de, Slurm account: special00006)\r\n",
       "#8: ConfinedCylinder_ConvergenceStudy_p2_meshNo2_Wi0.2_half: FailedOrCanceled (SlurmClient Lb2-specialPrj : fk69umer@lcluster16.hrz.tu-darmstadt.de, Slurm account: special00006)\r\n",
       "#9: ConfinedCylinder_ConvergenceStudy_p2_meshNo3_Wi0.2_half: FailedOrCanceled (SlurmClient Lb2-specialPrj : fk69umer@lcluster16.hrz.tu-darmstadt.de, Slurm account: special00006)\r\n",
       "#10: ConfinedCylinder_ConvergenceStudy_p3_meshNo0_Wi0.2_half: FailedOrCanceled (SlurmClient Lb2-specialPrj : fk69umer@lcluster16.hrz.tu-darmstadt.de, Slurm account: special00006)\r\n",
       "#11: ConfinedCylinder_ConvergenceStudy_p3_meshNo1_Wi0.2_half: FailedOrCanceled (SlurmClient Lb2-specialPrj : fk69umer@lcluster16.hrz.tu-darmstadt.de, Slurm account: special00006)\r\n",
       "#12: ConfinedCylinder_ConvergenceStudy_p3_meshNo2_Wi0.2_half: FailedOrCanceled (SlurmClient Lb2-specialPrj : fk69umer@lcluster16.hrz.tu-darmstadt.de, Slurm account: special00006)\r\n",
       "#13: ConfinedCylinder_ConvergenceStudy_p3_meshNo3_Wi0.2_half: FailedOrCanceled (SlurmClient Lb2-specialPrj : fk69umer@lcluster16.hrz.tu-darmstadt.de, Slurm account: special00006)\r\n",
       "#14: ConfinedCylinder_ConvergenceStudy_p4_meshNo0_Wi0.2_half: FailedOrCanceled (SlurmClient Lb2-specialPrj : fk69umer@lcluster16.hrz.tu-darmstadt.de, Slurm account: special00006)\r\n",
       "#15: ConfinedCylinder_ConvergenceStudy_p4_meshNo1_Wi0.2_half: FailedOrCanceled (SlurmClient Lb2-specialPrj : fk69umer@lcluster16.hrz.tu-darmstadt.de, Slurm account: special00006)\r\n",
       "#16: ConfinedCylinder_ConvergenceStudy_p4_meshNo2_Wi0.2_half: FailedOrCanceled (SlurmClient Lb2-specialPrj : fk69umer@lcluster16.hrz.tu-darmstadt.de, Slurm account: special00006)\r\n",
       "#17: ConfinedCylinder_ConvergenceStudy_p4_meshNo3_Wi0.2_half: FailedOrCanceled (SlurmClient Lb2-specialPrj : fk69umer@lcluster16.hrz.tu-darmstadt.de, Slurm account: special00006)\r\n"
      ]
     },
     "execution_count": 21,
     "metadata": {},
     "output_type": "execute_result"
    }
   ],
   "source": [
    "suspects"
   ]
  },
  {
   "cell_type": "code",
   "execution_count": 22,
   "metadata": {
    "dotnet_interactive": {
     "language": "csharp"
    }
   },
   "outputs": [
    {
     "name": "stdout",
     "output_type": "stream",
     "text": [
      "All jobs finished.\r\n"
     ]
    }
   ],
   "source": [
    "// wait for all jobs to finish (up to 5 days, check every 5 minutes)\n",
    "BoSSSshell.WorkflowMgm.BlockUntilAllJobsTerminate(TimeOutSeconds:(3600*24*5), PollingIntervallSeconds:(60*5));"
   ]
  },
  {
   "cell_type": "code",
   "execution_count": null,
   "metadata": {
    "dotnet_interactive": {
     "language": "csharp"
    }
   },
   "outputs": [],
   "source": []
  },
  {
   "cell_type": "code",
   "execution_count": 23,
   "metadata": {
    "dotnet_interactive": {
     "language": "csharp"
    }
   },
   "outputs": [
    {
     "data": {
      "text/plain": [
       "#0: ConfinedCylinder_ConvergenceStudy_p1_meshNo3_Wi0_half: FailedOrCanceled (SlurmClient Lb2-specialPrj : fk69umer@lcluster16.hrz.tu-darmstadt.de, Slurm account: special00006)\r\n",
       "#1: ConfinedCylinder_ConvergenceStudy_p2_meshNo3_Wi0_half: FailedOrCanceled (SlurmClient Lb2-specialPrj : fk69umer@lcluster16.hrz.tu-darmstadt.de, Slurm account: special00006)\r\n",
       "#2: ConfinedCylinder_ConvergenceStudy_p3_meshNo2_Wi0_half: FailedOrCanceled (SlurmClient Lb2-specialPrj : fk69umer@lcluster16.hrz.tu-darmstadt.de, Slurm account: special00006)\r\n",
       "#3: ConfinedCylinder_ConvergenceStudy_p3_meshNo3_Wi0_half: FailedOrCanceled (SlurmClient Lb2-specialPrj : fk69umer@lcluster16.hrz.tu-darmstadt.de, Slurm account: special00006)\r\n",
       "#4: ConfinedCylinder_ConvergenceStudy_p4_meshNo1_Wi0_half: FailedOrCanceled (SlurmClient Lb2-specialPrj : fk69umer@lcluster16.hrz.tu-darmstadt.de, Slurm account: special00006)\r\n",
       "#5: ConfinedCylinder_ConvergenceStudy_p4_meshNo2_Wi0_half: FailedOrCanceled (SlurmClient Lb2-specialPrj : fk69umer@lcluster16.hrz.tu-darmstadt.de, Slurm account: special00006)\r\n",
       "#6: ConfinedCylinder_ConvergenceStudy_p4_meshNo3_Wi0_half: FailedOrCanceled (SlurmClient Lb2-specialPrj : fk69umer@lcluster16.hrz.tu-darmstadt.de, Slurm account: special00006)\r\n",
       "#7: ConfinedCylinder_ConvergenceStudy_p1_meshNo3_Wi0.2_half: FailedOrCanceled (SlurmClient Lb2-specialPrj : fk69umer@lcluster16.hrz.tu-darmstadt.de, Slurm account: special00006)\r\n",
       "#8: ConfinedCylinder_ConvergenceStudy_p2_meshNo2_Wi0.2_half: FailedOrCanceled (SlurmClient Lb2-specialPrj : fk69umer@lcluster16.hrz.tu-darmstadt.de, Slurm account: special00006)\r\n",
       "#9: ConfinedCylinder_ConvergenceStudy_p2_meshNo3_Wi0.2_half: FailedOrCanceled (SlurmClient Lb2-specialPrj : fk69umer@lcluster16.hrz.tu-darmstadt.de, Slurm account: special00006)\r\n",
       "#10: ConfinedCylinder_ConvergenceStudy_p3_meshNo0_Wi0.2_half: FailedOrCanceled (SlurmClient Lb2-specialPrj : fk69umer@lcluster16.hrz.tu-darmstadt.de, Slurm account: special00006)\r\n",
       "#11: ConfinedCylinder_ConvergenceStudy_p3_meshNo1_Wi0.2_half: FailedOrCanceled (SlurmClient Lb2-specialPrj : fk69umer@lcluster16.hrz.tu-darmstadt.de, Slurm account: special00006)\r\n",
       "#12: ConfinedCylinder_ConvergenceStudy_p3_meshNo2_Wi0.2_half: FailedOrCanceled (SlurmClient Lb2-specialPrj : fk69umer@lcluster16.hrz.tu-darmstadt.de, Slurm account: special00006)\r\n",
       "#13: ConfinedCylinder_ConvergenceStudy_p3_meshNo3_Wi0.2_half: FailedOrCanceled (SlurmClient Lb2-specialPrj : fk69umer@lcluster16.hrz.tu-darmstadt.de, Slurm account: special00006)\r\n",
       "#14: ConfinedCylinder_ConvergenceStudy_p4_meshNo0_Wi0.2_half: FailedOrCanceled (SlurmClient Lb2-specialPrj : fk69umer@lcluster16.hrz.tu-darmstadt.de, Slurm account: special00006)\r\n",
       "#15: ConfinedCylinder_ConvergenceStudy_p4_meshNo1_Wi0.2_half: FailedOrCanceled (SlurmClient Lb2-specialPrj : fk69umer@lcluster16.hrz.tu-darmstadt.de, Slurm account: special00006)\r\n",
       "#16: ConfinedCylinder_ConvergenceStudy_p4_meshNo2_Wi0.2_half: FailedOrCanceled (SlurmClient Lb2-specialPrj : fk69umer@lcluster16.hrz.tu-darmstadt.de, Slurm account: special00006)\r\n",
       "#17: ConfinedCylinder_ConvergenceStudy_p4_meshNo3_Wi0.2_half: FailedOrCanceled (SlurmClient Lb2-specialPrj : fk69umer@lcluster16.hrz.tu-darmstadt.de, Slurm account: special00006)\r\n"
      ]
     },
     "execution_count": 23,
     "metadata": {},
     "output_type": "execute_result"
    }
   ],
   "source": [
    "var suspects = BoSSSshell.WorkflowMgm.AllJobs.Select(kv => kv.Value)\n",
    "    .Where(job => job.LatestSession.Tags.Contains(SessionInfo.NOT_TERMINATED_TAG)\n",
    "                  || job.LatestSession.Tags.Contains(SessionInfo.SOLVER_ERROR)).ToArray();\n",
    "suspects"
   ]
  },
  {
   "cell_type": "code",
   "execution_count": null,
   "metadata": {
    "dotnet_interactive": {
     "language": "csharp"
    }
   },
   "outputs": [],
   "source": []
  },
  {
   "cell_type": "code",
   "execution_count": 24,
   "metadata": {
    "dotnet_interactive": {
     "language": "csharp"
    }
   },
   "outputs": [],
   "source": [
    "//foreach(Job j in suspects) {\n",
    "//    j.DeleteOldDeploymentsAndSessions(); \n",
    "//}"
   ]
  },
  {
   "cell_type": "code",
   "execution_count": null,
   "metadata": {
    "dotnet_interactive": {
     "language": "csharp"
    }
   },
   "outputs": [],
   "source": []
  },
  {
   "cell_type": "code",
   "execution_count": 25,
   "metadata": {
    "dotnet_interactive": {
     "language": "csharp"
    }
   },
   "outputs": [],
   "source": [
    "var active = BoSSSshell.WorkflowMgm.AllJobs.Select(kv => kv.Value).Where(job => job.Status == JobStatus.InProgress).ToArray();"
   ]
  },
  {
   "cell_type": "code",
   "execution_count": 26,
   "metadata": {
    "dotnet_interactive": {
     "language": "csharp"
    }
   },
   "outputs": [],
   "source": [
    "//active"
   ]
  },
  {
   "cell_type": "code",
   "execution_count": 27,
   "metadata": {
    "dotnet_interactive": {
     "language": "csharp"
    }
   },
   "outputs": [],
   "source": [
    "//active[0].LatestDeployment.DeploymentDirectory;"
   ]
  },
  {
   "cell_type": "code",
   "execution_count": 28,
   "metadata": {
    "dotnet_interactive": {
     "language": "csharp"
    }
   },
   "outputs": [],
   "source": [
    "//active[0].Stdout;"
   ]
  },
  {
   "cell_type": "code",
   "execution_count": 29,
   "metadata": {
    "dotnet_interactive": {
     "language": "csharp"
    }
   },
   "outputs": [],
   "source": [
    "var Job00 = BoSSSshell.WorkflowMgm.AllJobs.First().Value;"
   ]
  },
  {
   "cell_type": "code",
   "execution_count": 30,
   "metadata": {
    "dotnet_interactive": {
     "language": "csharp"
    }
   },
   "outputs": [
    {
     "data": {
      "text/plain": [
       "ConfinedCylinder_ConvergenceStudy_p1_meshNo0_Wi0_half: FinishedSuccessful (SlurmClient Lb2-specialPrj : fk69umer@lcluster16.hrz.tu-darmstadt.de, Slurm account: special00006)"
      ]
     },
     "execution_count": 30,
     "metadata": {},
     "output_type": "execute_result"
    }
   ],
   "source": [
    "Job00.ToString()"
   ]
  },
  {
   "cell_type": "code",
   "execution_count": 31,
   "metadata": {},
   "outputs": [
    {
     "data": {
      "text/plain": [
       "Session ID: 638037a8-df08-4498-bbc0-066ce5edf6a4, DB path: '/work/scratch/fk69umer/Rheology_ConfinedCylinder'.\n",
       "configuring Weissenberg number: 0e+00\n",
       "setting Weissenberg Number to 0\n",
       "Total number of cells:    320\n",
       "Total number of DOFs:     5120\n",
       "Instationary solve, timestep #1.0, dt = 1.7976931348623158E+304 ...\n",
       "#Line,#Time,#Iter\t L2Norm momX\t L2Norm momY\t L2Norm div\t L2Norm constitutiveXX\t L2Norm constitutiveXY\t L2Norm constitutiveYY\t L2Norm Total\n",
       "1,1,1\t 8.004800E+002\t 1.716621E-002\t 4.332954E+000\t 3.619002E+000\t 1.597659E+000\t 0.000000E+000\t 8.005015E+002\n",
       "2,1,2\t 1.248636E+001\t 2.612047E+000\t 1.662884E-014\t 1.133151E-014\t 1.198442E-014\t 3.840706E-015\t 1.275665E+001\n",
       "3,1,3\t 2.810959E-003\t 2.169423E-003\t 2.466437E-015\t 1.070290E-014\t 1.285539E-014\t 3.531676E-015\t 3.550759E-003\n",
       "4,1,4\t 7.133080E-010\t 3.835782E-010\t 2.618523E-015\t 1.125703E-014\t 1.307452E-014\t 3.968900E-015\t 8.099015E-010\n",
       "5,1,5\t 7.541371E-013\t 7.874553E-013\t 2.164240E-015\t 1.052847E-014\t 1.132726E-014\t 3.953371E-015\t 1.090444E-012\n",
       "6,1,6\t 7.910844E-013\t 8.397945E-013\t 2.424349E-015\t 9.854335E-015\t 1.161147E-014\t 3.816638E-015\t 1.153829E-012\n",
       "7,1,7\t 7.835718E-013\t 8.408692E-013\t 2.153291E-015\t 9.758782E-015\t 1.113372E-014\t 3.246580E-015\t 1.149470E-012\n",
       "Duration of this timestep: 00:00:07.8523351\n",
       "Removing tag: NotTerminated\n"
      ]
     },
     "execution_count": 31,
     "metadata": {},
     "output_type": "execute_result"
    }
   ],
   "source": [
    "Job00.Stdout"
   ]
  },
  {
   "cell_type": "code",
   "execution_count": 32,
   "metadata": {},
   "outputs": [
    {
     "data": {
      "text/plain": []
     },
     "execution_count": 32,
     "metadata": {},
     "output_type": "execute_result"
    }
   ],
   "source": [
    "Job00.Stderr"
   ]
  },
  {
   "cell_type": "code",
   "execution_count": 33,
   "metadata": {},
   "outputs": [],
   "source": [
    "//Job00.AdditionalDeploymentFiles.Select(tt => tt.Item2).ToArray()"
   ]
  },
  {
   "cell_type": "code",
   "execution_count": 34,
   "metadata": {},
   "outputs": [],
   "source": [
    "//Job00.AllDependentAssemblies.Select(a => System.IO.Path.GetFileName(a.Location))"
   ]
  },
  {
   "cell_type": "code",
   "execution_count": 35,
   "metadata": {},
   "outputs": [],
   "source": [
    "//Job00.EntryAssembly.Location"
   ]
  },
  {
   "cell_type": "code",
   "execution_count": 36,
   "metadata": {},
   "outputs": [],
   "source": [
    "//string MainAssemblyDir = System.IO.Path.GetDirectoryName(Job00.EntryAssembly.Location);\n",
    "//MainAssemblyDir"
   ]
  },
  {
   "cell_type": "code",
   "execution_count": 37,
   "metadata": {},
   "outputs": [],
   "source": [
    "//var A0 = Job00.AllDependentAssemblies.Where(a => a.FullName.Contains(\"RheologySolver\")).First();\n",
    "//A0"
   ]
  },
  {
   "cell_type": "code",
   "execution_count": 38,
   "metadata": {},
   "outputs": [],
   "source": [
    "using System.IO;"
   ]
  },
  {
   "cell_type": "code",
   "execution_count": 39,
   "metadata": {},
   "outputs": [],
   "source": [
    "//string DelpoyAss = Path.Combine(MainAssemblyDir,  Path.GetFileName(A0.Location));\n",
    "//DelpoyAss"
   ]
  },
  {
   "cell_type": "code",
   "execution_count": 40,
   "metadata": {},
   "outputs": [],
   "source": [
    "//Path.GetFileNameWithoutExtension(DelpoyAss) + \".runtimeconfig.json\""
   ]
  },
  {
   "cell_type": "code",
   "execution_count": 41,
   "metadata": {},
   "outputs": [],
   "source": [
    "//File.Exists(Path.Combine(MainAssemblyDir, Path.GetFileNameWithoutExtension(DelpoyAss) + \".runtimeconfig.json\"))"
   ]
  },
  {
   "cell_type": "code",
   "execution_count": 42,
   "metadata": {},
   "outputs": [],
   "source": [
    "//myBatch"
   ]
  },
  {
   "cell_type": "code",
   "execution_count": 43,
   "metadata": {},
   "outputs": [],
   "source": [
    "//myBatch.AllowedDatabasesPaths"
   ]
  },
  {
   "cell_type": "code",
   "execution_count": 44,
   "metadata": {},
   "outputs": [],
   "source": [
    "//Job00.Control"
   ]
  },
  {
   "cell_type": "code",
   "execution_count": 45,
   "metadata": {},
   "outputs": [],
   "source": [
    "//Controls[0].DbPath"
   ]
  },
  {
   "cell_type": "code",
   "execution_count": 46,
   "metadata": {},
   "outputs": [],
   "source": [
    "//myDb.AlternateDbPaths"
   ]
  },
  {
   "cell_type": "code",
   "execution_count": null,
   "metadata": {},
   "outputs": [],
   "source": []
  }
 ],
 "metadata": {
  "kernelspec": {
   "display_name": ".NET (C#)",
   "language": "C#",
   "name": ".net-csharp"
  },
  "language_info": {
   "file_extension": ".cs",
   "mimetype": "text/x-csharp",
   "name": "C#",
   "pygments_lexer": "csharp",
   "version": "8.0"
  }
 },
 "nbformat": 4,
 "nbformat_minor": 4
}
