{
 "cells": [
  {
   "cell_type": "code",
   "execution_count": null,
   "metadata": {
    "dotnet_interactive": {
     "language": "csharp"
    }
   },
   "outputs": [],
   "source": [
    "#r \"D:\\BoSSS2\\experimental\\public\\src\\L4-application\\BoSSSpad\\bin\\Release\\net5.0\\bossspad.dll\"\n",
    "using System;\n",
    "using System.Collections.Generic;\n",
    "using System.Linq;\n",
    "using System.IO;\n",
    "using System.Data;\n",
    "using System.Globalization;\n",
    "using System.Threading;\n",
    "using ilPSP;\n",
    "using ilPSP.Utils;\n",
    "using BoSSS.Platform;\n",
    "using BoSSS.Foundation;\n",
    "using BoSSS.Foundation.Grid;\n",
    "using BoSSS.Foundation.Grid.Classic;\n",
    "using BoSSS.Foundation.IO;\n",
    "using BoSSS.Solution;\n",
    "using BoSSS.Solution.Control;\n",
    "using BoSSS.Solution.GridImport;\n",
    "using BoSSS.Solution.Statistic;\n",
    "using BoSSS.Solution.Utils;\n",
    "using BoSSS.Solution.Gnuplot;\n",
    "using BoSSS.Application.BoSSSpad;\n",
    "using BoSSS.Application.XNSE_Solver;\n",
    "using static BoSSS.Application.BoSSSpad.BoSSSshell;\n",
    "using BoSSS.Foundation.Grid.RefElements;\n",
    "using BoSSS.Platform.LinAlg;\n",
    "using BoSSS.Solution.NSECommon;\n",
    "using BoSSS.Application.XNSEC;\n",
    "using NSE_SIMPLE;\n",
    "using NSE_SIMPLE.LowMach;\n",
    "using ilPSP.LinSolvers.PARDISO;\n",
    "\n",
    "Init();"
   ]
  },
  {
   "cell_type": "code",
   "execution_count": null,
   "metadata": {
    "dotnet_interactive": {
     "language": "csharp"
    }
   },
   "outputs": [],
   "source": [
    "using BoSSS.Solution.Queries;"
   ]
  },
  {
   "cell_type": "code",
   "execution_count": null,
   "metadata": {
    "dotnet_interactive": {
     "language": "csharp"
    }
   },
   "outputs": [],
   "source": [
    "static string name = \"CTD_SIMPLE_XNSEC_Comparison___final4\";"
   ]
  },
  {
   "cell_type": "code",
   "execution_count": null,
   "metadata": {
    "dotnet_interactive": {
     "language": "csharp"
    }
   },
   "outputs": [],
   "source": [
    "BoSSSshell.WorkflowMgm.Init(name);"
   ]
  },
  {
   "cell_type": "code",
   "execution_count": null,
   "metadata": {
    "dotnet_interactive": {
     "language": "csharp"
    }
   },
   "outputs": [],
   "source": []
  },
  {
   "cell_type": "code",
   "execution_count": null,
   "metadata": {
    "dotnet_interactive": {
     "language": "csharp"
    }
   },
   "outputs": [],
   "source": [
    "static var myBatch = ExecutionQueues[2];\n",
    "static var myDb = myBatch.CreateOrOpenCompatibleDatabase(name);\n",
    "// static var myDb =  BoSSS.Application.BoSSSpad.BoSSSshell.WorkflowMgm.DefaultDatabase;\n"
   ]
  },
  {
   "cell_type": "code",
   "execution_count": null,
   "metadata": {
    "dotnet_interactive": {
     "language": "csharp"
    }
   },
   "outputs": [
    {
     "name": "stdout",
     "output_type": "stream",
     "text": [
      "Opening existing database '\\\\hpccluster\\hpccluster-scratch\\gutierrez\\CTD_SIMPLE_XNSEC_Comparison___final4'.\r\n"
     ]
    }
   ],
   "source": [
    "BoSSSshell.WorkflowMgm.DefaultDatabase = myDb;"
   ]
  },
  {
   "cell_type": "markdown",
   "metadata": {},
   "source": [
    "## Simple Controlfile"
   ]
  },
  {
   "cell_type": "code",
   "execution_count": null,
   "metadata": {
    "dotnet_interactive": {
     "language": "csharp"
    }
   },
   "outputs": [],
   "source": [
    "myBatch.AllowedDatabasesPaths.Add(new AllowedDatabasesPair(myDb.Path,\"\"));"
   ]
  },
  {
   "cell_type": "code",
   "execution_count": null,
   "metadata": {
    "dotnet_interactive": {
     "language": "csharp"
    }
   },
   "outputs": [],
   "source": [
    "// int[] dgDegree = new int[]{2,3};\n",
    "// int[] res = new int[]{3};\n",
    "int[] dgDegree = new int[]{1,2,3,4};\n",
    "int[] res = new int[]{3,4};\n",
    "\n",
    "Type solverSimple = typeof(NSE_SIMPLE.NSE_SIMPLEMain);\n",
    "Type solverXNSEC = typeof(BoSSS.Application.XNSEC.XNSEC);\n",
    "\n"
   ]
  },
  {
   "cell_type": "code",
   "execution_count": null,
   "metadata": {
    "dotnet_interactive": {
     "language": "csharp"
    }
   },
   "outputs": [],
   "source": [
    "// for (int dg = 0; dg < dgDegree.Length; dg++) {\n",
    "//     for (int r = 0; r < res.Length; r++) {\n",
    "//         string ending        = \"P\" + dgDegree[dg] + \"K\" + res[r];\n",
    "//         string jobName       = string.Format(\"SIMPLE_HEATEDCOUETTE\"+ ending);\n",
    "//         string StartupString = string.Format(\"cs:NSE_SIMPLE.LowMach.ControlExamples.SteadyCouetteFlowWithTemperatureGradient({0}, {1},@\\\"{2}\\\")\",  dgDegree[dg] ,  res[r],myDb.Path);\n",
    "//         var oneJob           = new Job(jobName, solverSimple);\n",
    "//         oneJob.SetControlStatement(StartupString);\n",
    "//         oneJob.Activate(myBatch);\n",
    "//     }\n",
    "// }\n",
    "\n",
    "// for (int dg = 0; dg < dgDegree.Length; dg++) {\n",
    "//     for (int r = 0; r < res.Length; r++) {\n",
    "//         string ending        = \"P\" + dgDegree[dg] + \"K\" + res[r];\n",
    "//         string jobName       = string.Format(\"XNSEC_HEATEDCOUETTE\"+ ending);\n",
    "//         string StartupString = string.Format(\"cs:BoSSS.Application.XNSEC.FullNSEControlExamples.SteadyCouetteFlowWithTemperatureGradient({0}, {1},@\\\"{2}\\\")\",  dgDegree[dg] ,  res[r],myDb.Path);\n",
    "//         var oneJob           = new Job(jobName, solverXNSEC);\n",
    "//         oneJob.SetControlStatement(StartupString);\n",
    "//         oneJob.Activate(myBatch);\n",
    "//     }\n",
    "// }\n",
    "\n",
    "\n"
   ]
  },
  {
   "cell_type": "code",
   "execution_count": null,
   "metadata": {
    "dotnet_interactive": {
     "language": "csharp"
    }
   },
   "outputs": [
    {
     "name": "stdout",
     "output_type": "stream",
     "text": [
      "All jobs finished.\r\n"
     ]
    }
   ],
   "source": [
    "BoSSSshell.WorkflowMgm.BlockUntilAllJobsTerminate(PollingIntervallSeconds:5);"
   ]
  },
  {
   "cell_type": "code",
   "execution_count": null,
   "metadata": {
    "dotnet_interactive": {
     "language": "csharp"
    }
   },
   "outputs": [],
   "source": [
    "class MappedValue\n",
    "{\n",
    "    public double dg { get; set; }\n",
    "    public double ncells { get; set; }\n",
    "\n",
    "    public double XNSEC_TIME { get; set; }\n",
    "    public double SIMPLE_TIME { get; set; }\n",
    "    public double TIME_PROPORTION { get; set; }\n",
    "\n",
    "    public int DOFs { get; set; }\n",
    "    \n",
    "    \n",
    "}"
   ]
  },
  {
   "cell_type": "code",
   "execution_count": null,
   "metadata": {
    "dotnet_interactive": {
     "language": "csharp"
    }
   },
   "outputs": [],
   "source": [
    "Dictionary<(int,int),double> SIMPLE_TIMES = new Dictionary<(int,int),double>();\n",
    "Dictionary<(int,int),double> XNSEC_TIMES = new Dictionary<(int,int),double>();\n",
    "Dictionary<(int,int),double> SIMPLE_DOFS = new Dictionary<(int,int),double>();\n",
    "Dictionary<(int,int),double> XNSEC_DOFS = new Dictionary<(int,int),double>();\n",
    "\n",
    "Dictionary<(int,int),double> PROPORTION_TIMES = new Dictionary<(int,int),double>();\n",
    "Dictionary<(int,int),(double,double)> DOFS_TIME = new Dictionary<(int,int),(double,double)>();\n",
    "\n",
    "\n",
    "\n",
    "// Dictionary<(int,int),MappedValue> DATA = new Dictionary<(int,int),MappedValue>();\n",
    "List<MappedValue> dataa = new List<MappedValue>();\n",
    "\n",
    "for (int dg = 0; dg < dgDegree.Length; dg++) {\n",
    "    for (int r = 0; r < res.Length; r++) {\n",
    "        string ending        = \"P\" + dgDegree[dg] + \"K\" + res[r];\n",
    "        var SIMPLESessionS = myDb.Sessions.Where(s=>s.Name.Contains(\"SIMPLE\")).Where(s=> s.Name.Contains(ending)).SingleOrDefault();\n",
    "        var XNSECSessionS = myDb.Sessions.Where(s=>s.Name.Contains(\"XNSEC\")).Where(s=> s.Name.Contains(ending)).SingleOrDefault();\n",
    "\n",
    "\n",
    "        var time_seconds_simple  =  SIMPLESessionS.GetApproximateRunTime().TotalSeconds;\n",
    "        var time_seconds_XNSEC  = XNSECSessionS.GetApproximateRunTime().TotalSeconds;\n",
    "\n",
    "        SIMPLE_TIMES.Add((dg,r),time_seconds_simple);\n",
    "        XNSEC_TIMES.Add((dg,r),time_seconds_XNSEC);\n",
    "\n",
    "        PROPORTION_TIMES.Add((dg,r),time_seconds_simple/time_seconds_XNSEC);\n",
    "\n",
    "        int dofs = SIMPLESessionS.GetDOF(VariableNames.Temperature) * 3 + SIMPLESessionS.GetDOF(VariableNames.Pressure);\n",
    "        DOFS_TIME.Add((dg,r),(dofs,time_seconds_simple/time_seconds_XNSEC));\n",
    "\n",
    "\n",
    "        var myvals = new MappedValue();\n",
    "        myvals.XNSEC_TIME = time_seconds_XNSEC;\n",
    "        myvals.SIMPLE_TIME = time_seconds_simple;\n",
    "        myvals.TIME_PROPORTION =  time_seconds_simple/time_seconds_XNSEC;\n",
    "        myvals.dg =dg;\n",
    "        myvals.ncells = (XNSECSessionS.GetGrids()).Pick(0).NumberOfCells\n",
    "        myvals.DOFs = dofs;\n",
    "       \n",
    "        dataa.Add(myvals);\n",
    "    }\n",
    "}\n",
    "    "
   ]
  },
  {
   "cell_type": "code",
   "execution_count": null,
   "metadata": {
    "dotnet_interactive": {
     "language": "csharp"
    }
   },
   "outputs": [],
   "source": [
    "var asd = dataa.OrderBy(a=>a.DOFs);"
   ]
  },
  {
   "cell_type": "code",
   "execution_count": null,
   "metadata": {
    "dotnet_interactive": {
     "language": "csharp"
    }
   },
   "outputs": [
    {
     "data": {
      "text/html": [
       "<table><thead><tr><th><i>index</i></th><th>dg</th><th>ncells</th><th>XNSEC_TIME</th><th>SIMPLE_TIME</th><th>TIME_PROPORTION</th><th>DOFs</th></tr></thead><tbody><tr><td>0</td><td>0</td><td>0</td><td>2.257</td><td>1.768</td><td>0.7833407177669472</td><td>160</td></tr><tr><td>1</td><td>1</td><td>0</td><td>3.349</td><td>3.522</td><td>1.0516572111077933</td><td>336</td></tr><tr><td>2</td><td>2</td><td>0</td><td>4.592</td><td>8.01</td><td>1.7443379790940767</td><td>576</td></tr><tr><td>3</td><td>0</td><td>1</td><td>5.173</td><td>6.468</td><td>1.250338294993234</td><td>640</td></tr><tr><td>4</td><td>3</td><td>0</td><td>7.573</td><td>21.419</td><td>2.828337514855407</td><td>880</td></tr><tr><td>5</td><td>1</td><td>1</td><td>8.211</td><td>23.662</td><td>2.881744001948605</td><td>1344</td></tr><tr><td>6</td><td>2</td><td>1</td><td>13.057</td><td>81.224</td><td>6.22072451558551</td><td>2304</td></tr><tr><td>7</td><td>3</td><td>1</td><td>15.095</td><td>257.524</td><td>17.060218615435573</td><td>3520</td></tr></tbody></table>"
      ]
     },
     "metadata": {},
     "output_type": "display_data"
    }
   ],
   "source": [
    "asd"
   ]
  },
  {
   "cell_type": "code",
   "execution_count": null,
   "metadata": {
    "dotnet_interactive": {
     "language": "csharp"
    }
   },
   "outputs": [],
   "source": []
  },
  {
   "cell_type": "code",
   "execution_count": null,
   "metadata": {
    "dotnet_interactive": {
     "language": "csharp"
    }
   },
   "outputs": [],
   "source": []
  },
  {
   "cell_type": "code",
   "execution_count": null,
   "metadata": {
    "dotnet_interactive": {
     "language": "csharp"
    }
   },
   "outputs": [],
   "source": []
  },
  {
   "cell_type": "code",
   "execution_count": null,
   "metadata": {
    "dotnet_interactive": {
     "language": "csharp"
    }
   },
   "outputs": [
    {
     "data": {
      "text/html": [
       "<div class=\"dni-plaintext\">64</div>"
      ]
     },
     "metadata": {},
     "output_type": "display_data"
    }
   ],
   "source": [
    "(myDb.Sessions[0].GetGrids()).Pick(0).NumberOfCells"
   ]
  },
  {
   "cell_type": "code",
   "execution_count": null,
   "metadata": {
    "dotnet_interactive": {
     "language": "csharp"
    }
   },
   "outputs": [
    {
     "data": {
      "text/html": [
       "<div class=\"dni-plaintext\">257.524</div>"
      ]
     },
     "metadata": {},
     "output_type": "display_data"
    }
   ],
   "source": []
  },
  {
   "cell_type": "code",
   "execution_count": null,
   "metadata": {
    "dotnet_interactive": {
     "language": "csharp"
    }
   },
   "outputs": [],
   "source": []
  }
 ],
 "metadata": {
  "interpreter": {
   "hash": "57baa5815c940fdaff4d14510622de9616cae602444507ba5d0b6727c008cbd6"
  },
  "kernelspec": {
   "display_name": ".NET (C#)",
   "language": "C#",
   "name": ".net-csharp"
  },
  "language_info": {
   "file_extension": ".cs",
   "mimetype": "text/x-csharp",
   "name": "C#",
   "pygments_lexer": "csharp",
   "version": "9.0"
  }
 },
 "nbformat": 4,
 "nbformat_minor": 4
}
