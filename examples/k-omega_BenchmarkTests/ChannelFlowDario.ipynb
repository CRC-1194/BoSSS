{
 "cells": [
  {
   "cell_type": "markdown",
   "metadata": {},
   "source": [
    "# Channel Flow - private kli\n",
    "\n",
    "Results published: preliminary study \n"
   ]
  },
  {
   "cell_type": "markdown",
   "metadata": {},
   "source": [
    "### Preliminaries\n",
    "\n",
    "Note: First, BoSSS has to be loaded into the Jupyter kernel. Note:\n",
    "In the following line, the reference to `BoSSSpad.dll` is required. \n",
    "One must either set `#r \"BoSSSpad.dll\"` to something which is appropirate for the current computer\n",
    "(e.g. `C:\\Program Files (x86)\\FDY\\BoSSS\\bin\\Release\\net5.0\\BoSSSpad.dll` if working with the binary distribution), \n",
    "or, if one is working with the source code, one must compile `BoSSSpad`\n",
    "and put it side-by-side to this worksheet file \n",
    "(from the original location in the repository, one can use the scripts `getbossspad.sh`, resp. `getbossspad.bat`).\n"
   ]
  },
  {
   "cell_type": "code",
   "execution_count": null,
   "metadata": {
    "dotnet_interactive": {
     "language": "csharp"
    }
   },
   "outputs": [],
   "source": [
    "#r \"../../src/L4-application/BoSSSpad/bin/Release/net5.0/BoSSSpad.dll\"\n",
    "//#r \"../../src/L4-application/BoSSSpad/bin/Debug/net5.0/BoSSSpad.dll\"\n",
    "//#r \"BoSSSpad.dll\"\n",
    "using System;\n",
    "using System.Collections.Generic;\n",
    "using System.Linq;\n",
    "using ilPSP;\n",
    "using ilPSP.Utils;\n",
    "using BoSSS.Platform;\n",
    "using BoSSS.Foundation;\n",
    "using BoSSS.Foundation.XDG;\n",
    "using BoSSS.Foundation.Grid;\n",
    "using BoSSS.Foundation.Grid.Classic;\n",
    "using BoSSS.Foundation.Grid.RefElements;\n",
    "using BoSSS.Foundation.IO;\n",
    "using BoSSS.Solution;\n",
    "using BoSSS.Solution.Control;\n",
    "using BoSSS.Solution.GridImport;\n",
    "using BoSSS.Solution.Statistic;\n",
    "using BoSSS.Solution.Utils;\n",
    "using BoSSS.Solution.AdvancedSolvers;\n",
    "using BoSSS.Solution.Gnuplot;\n",
    "using BoSSS.Application.BoSSSpad;\n",
    "using BoSSS.Application.XNSE_Solver;\n",
    "using static BoSSS.Application.BoSSSpad.BoSSSshell;\n",
    "Init();"
   ]
  },
  {
   "cell_type": "markdown",
   "metadata": {},
   "source": [
    "## Initialization tasks"
   ]
  },
  {
   "cell_type": "markdown",
   "metadata": {},
   "source": [
    "Loading the `KOmegaSolver` and additional namespaces:"
   ]
  },
  {
   "cell_type": "code",
   "execution_count": null,
   "metadata": {
    "dotnet_interactive": {
     "language": "csharp"
    }
   },
   "outputs": [],
   "source": [
    "using BoSSS.Application.KOmega;\n",
    "using BoSSS.Application.RANSCommon;\n",
    "using BoSSS.Solution.NSECommon;\n",
    "using NUnit.Framework;"
   ]
  },
  {
   "cell_type": "markdown",
   "metadata": {},
   "source": [
    "Initialization of the Workflow management; there is the project name `ChannelFlowKOmega` which is used name all computations (aka. sessions):"
   ]
  },
  {
   "cell_type": "code",
   "execution_count": null,
   "metadata": {
    "dotnet_interactive": {
     "language": "csharp"
    }
   },
   "outputs": [],
   "source": [
    "BoSSSshell.WorkflowMgm.Init(\"ChannelFlowKOmega\");"
   ]
  },
  {
   "cell_type": "markdown",
   "metadata": {},
   "source": [
    "Overview on the available *Execution Queues* (aka. *Batch Processors*, aka. *Batch System*); these e.g. Linux HPC clusters on which compute jobs can be executed."
   ]
  },
  {
   "cell_type": "code",
   "execution_count": null,
   "metadata": {
    "dotnet_interactive": {
     "language": "csharp"
    }
   },
   "outputs": [
    {
     "data": {
      "text/html": [
       "<table><thead><tr><th><i>index</i></th><th><i>type</i></th><th>DeploymentBaseDirectory</th><th>DeployRuntime</th><th>Name</th><th>DotnetRuntime</th><th>BatchInstructionDir</th><th>AllowedDatabasesPaths</th><th>Username</th><th>ServerName</th><th>ComputeNodes</th><th>DefaultJobPriority</th><th>SingleNode</th></tr></thead><tbody><tr><td>0</td><td>BoSSS.Application.BoSSSpad.MiniBatchProcessorClient</td><td>D:\\local\\binaries</td><td>False</td><td>LocalPC</td><td>dotnet</td><td><div class=\"dni-plaintext\">&lt;null&gt;</div></td><td>[ D:\\local\\ ==  ]</td><td></td><td></td><td></td><td></td><td></td></tr><tr><td>1</td><td>BoSSS.Application.BoSSSpad.MsHPC2012Client</td><td>\\\\hpccluster\\hpccluster-scratch\\smuda\\binaries</td><td>False</td><td>FDY-WindowsHPC</td><td>dotnet</td><td></td><td>[ \\\\hpccluster\\hpccluster-scratch\\smuda\\ ==  ]</td><td>FDY\\smuda</td><td>DC2</td><td><div class=\"dni-plaintext\">&lt;null&gt;</div></td><td>Normal</td><td>True</td></tr></tbody></table>"
      ]
     },
     "metadata": {},
     "output_type": "display_data"
    }
   ],
   "source": [
    "ExecutionQueues"
   ]
  },
  {
   "cell_type": "code",
   "execution_count": null,
   "metadata": {
    "dotnet_interactive": {
     "language": "csharp"
    }
   },
   "outputs": [
    {
     "data": {
      "text/html": [
       "<table><thead><tr><th>DeploymentBaseDirectory</th><th>DeployRuntime</th><th>Name</th><th>DotnetRuntime</th><th>BatchInstructionDir</th><th>AllowedDatabasesPaths</th></tr></thead><tbody><tr><td><div class=\"dni-plaintext\">D:\\local\\binaries</div></td><td><div class=\"dni-plaintext\">False</div></td><td><div class=\"dni-plaintext\">LocalPC</div></td><td><div class=\"dni-plaintext\">dotnet</div></td><td><div class=\"dni-plaintext\">&lt;null&gt;</div></td><td><div class=\"dni-plaintext\">[ D:\\local\\ ==  ]</div></td></tr></tbody></table>"
      ]
     },
     "metadata": {},
     "output_type": "display_data"
    }
   ],
   "source": [
    "//var myBatch = ExecutionQueues[0];\n",
    "var myBatch = GetDefaultQueue();\n",
    "myBatch"
   ]
  },
  {
   "cell_type": "markdown",
   "metadata": {},
   "source": [
    "## Grid Creation - Channel"
   ]
  },
  {
   "cell_type": "code",
   "execution_count": null,
   "metadata": {
    "dotnet_interactive": {
     "language": "csharp"
    }
   },
   "outputs": [],
   "source": [
    "// channel length\n",
    "double l = 0.1;\n",
    "// channel half-width\n",
    "double h = 1;\n",
    "\n",
    "(int cellsx, int cellsy)[] Resolutions = new [] { (20, 40) };\n",
    "IGridInfo[] Grids = new IGridInfo[Resolutions.Length];\n",
    "\n",
    "bool periodicBC = true;"
   ]
  },
  {
   "cell_type": "code",
   "execution_count": null,
   "metadata": {
    "dotnet_interactive": {
     "language": "csharp"
    }
   },
   "outputs": [
    {
     "name": "stdout",
     "output_type": "stream",
     "text": [
      "Opening existing database '\\\\hpccluster\\hpccluster-scratch\\smuda\\ChannelFlowKOmega'.\r\n",
      "Grid already found in database - identifid by name ChannelFlowKOmega_20x40\r\n"
     ]
    }
   ],
   "source": [
    "for(int i = 0; i < Resolutions.Length; i++) {\n",
    "    var Res = Resolutions[i];\n",
    "    string GridName = $\"ChannelFlowKOmega_{Res.cellsx}x{Res.cellsy}\";\n",
    "\n",
    "    IGridInfo cachedGrid = wmg.Grids.FirstOrDefault(grid => grid.Name == GridName);\n",
    "    //cachedGrid = null;\n",
    "    if(cachedGrid == null) {\n",
    "        \n",
    "        // must create new Grid\n",
    "        var _xNodes = GenericBlas.Linspace(-l, l, Res.cellsx);\n",
    "        var _yNodes = GenericBlas.Linspace(-h, h, Res.cellsy);\n",
    "\n",
    "        var grd = Grid2D.Cartesian2DGrid(_xNodes,\n",
    "                                         _yNodes,\n",
    "                                         CellType.Square_Linear,\n",
    "                                         periodicX: periodicBC\n",
    "                                         );\n",
    "        grd.Name = GridName;\n",
    "\n",
    "        grd.DefineEdgeTags(delegate(Vector X) {\n",
    "            string ret = null;\n",
    "\n",
    "            if (Math.Abs(X.y - (-h)) < 1.0e-8)\n",
    "                // bottom\n",
    "                ret = IncompressibleBcType.Wall.ToString() + \"_\" + TurbulenceModelBcType.Dirichlet.ToString();\n",
    "\n",
    "            if (Math.Abs(X.y - (h)) < 1.0e-8)\n",
    "                // top\n",
    "                ret = IncompressibleBcType.Wall.ToString() + \"_\" + TurbulenceModelBcType.Dirichlet.ToString();\n",
    "\n",
    "            if (!periodicBC) {\n",
    "                if (Math.Abs(X.x - (-l)) < 1.0e-8)\n",
    "                    // left\n",
    "                    ret = IncompressibleBcType.Velocity_Inlet.ToString() + \"_\" + TurbulenceModelBcType.Dirichlet.ToString();\n",
    "\n",
    "                if (Math.Abs(X.x - (l)) < 1.0e-8)\n",
    "                    // right\n",
    "                    ret = IncompressibleBcType.Pressure_Outlet.ToString() + \"_\" + TurbulenceModelBcType.Neumann.ToString();\n",
    "            }\n",
    "\n",
    "            return ret;\n",
    "        });     \n",
    "        \n",
    "        Grids[i] = wmg.SaveGrid(grd);\n",
    "        \n",
    "    } else {\n",
    "        //Console.WriteLine($\"type: {cachedGrid.GetType()}, is IGridInfo? {cachedGrid is IGridInfo}\");\n",
    "        Console.WriteLine(\"Grid already found in database - identifid by name \" + GridName);\n",
    "        Grids[i] = cachedGrid;\n",
    "    }\n",
    "    \n",
    "}"
   ]
  },
  {
   "cell_type": "markdown",
   "metadata": {},
   "source": [
    "## Initial Values"
   ]
  },
  {
   "cell_type": "code",
   "execution_count": null,
   "metadata": {
    "dotnet_interactive": {
     "language": "csharp"
    }
   },
   "outputs": [],
   "source": [
    "var VelXInit = new Formula(\n",
    "    \"VelX\",\n",
    "    false,\n",
    "    \"using ilPSP.Utils; \" + \n",
    "    \"double VelX(double[] X) { \" + \n",
    "    \"    double vmax = 21.262;\" + \n",
    "    \"    double posWall = 0.0;\" + \n",
    "    \"    double height = 1.0;\" + \n",
    "    \"    return ((vmax - posWall) * (1 - (X[1] / height) * (X[1] / height))) + posWall; \" + \n",
    "    \"}\");"
   ]
  },
  {
   "cell_type": "code",
   "execution_count": null,
   "metadata": {
    "dotnet_interactive": {
     "language": "csharp"
    }
   },
   "outputs": [],
   "source": [
    "var VelYInit = new Formula(\n",
    "    \"VelY\",\n",
    "    false,\n",
    "    \"using ilPSP.Utils; \" + \n",
    "    \"double VelY(double[] X) { \" + \n",
    "    \"    double vmax = 21.262;\" + \n",
    "    \"    double posWall = 0.0;\" + \n",
    "    \"    double height = 1.0;\" + \n",
    "    \"    return 0.0; \" + \n",
    "    \"}\");"
   ]
  },
  {
   "cell_type": "code",
   "execution_count": null,
   "metadata": {
    "dotnet_interactive": {
     "language": "csharp"
    }
   },
   "outputs": [],
   "source": [
    "var PressureInit = new Formula(\n",
    "    \"Pressure\",\n",
    "    false,\n",
    "    \"using ilPSP.Utils; \" + \n",
    "    \"double Pressure(double[] X) { \" + \n",
    "    \"    double viscosity= 7.540114783971117e-05;\" + \n",
    "    \"    double kWall = 6e-1;\" + \n",
    "    \"    double omegaTildeWall = Math.Log(6e2);\" + \n",
    "    \"    return (viscosity + kWall / omegaTildeWall) * (2.5 - X[0]); \" + \n",
    "    \"}\");"
   ]
  },
  {
   "cell_type": "code",
   "execution_count": null,
   "metadata": {
    "dotnet_interactive": {
     "language": "csharp"
    }
   },
   "outputs": [],
   "source": [
    "var kPolyInit = new Formula(\n",
    "    \"kPoly\",\n",
    "    false,\n",
    "    \"using ilPSP.Utils; \" + \n",
    "    \"double kPoly(double[] X) { \" + \n",
    "    \"    double turbulentIntensity = 0.8;\" + \n",
    "    \"    double Umean= 1.0;\" + \n",
    "    \"    double kIn = 3 / 2.0 * Math.Pow(Umean * turbulentIntensity, 2);\" + \n",
    "    \"    double kWall = 6e-1;\" + \n",
    "    \"    double height = 1.0;\" + \n",
    "    \"    return ((kIn - kWall) * (1 - (X[1] / height) * (X[1] / height))) + kWall; \" + \n",
    "    \"}\");"
   ]
  },
  {
   "cell_type": "code",
   "execution_count": null,
   "metadata": {
    "dotnet_interactive": {
     "language": "csharp"
    }
   },
   "outputs": [],
   "source": [
    "var omegaTildeInit = new Formula(\n",
    "    \"omegaTilde\",\n",
    "    false,\n",
    "    \"using ilPSP.Utils; \" + \n",
    "    \"double omegaTilde(double[] X) { \" + \n",
    "    \"    double turbulentIntensity = 0.8;\" + \n",
    "    \"    double Umean= 1.0;\" + \n",
    "    \"    double kIn = 3 / 2.0 * Math.Pow(Umean * turbulentIntensity, 2);\" + \n",
    "    \"    double L = 0.4;\" +\n",
    "    \"    double omegaTildeIn = Math.Log(Math.Sqrt(kIn) / L);\" + \n",
    "    \"    double omegaTildeWall = Math.Log(6e2);\" + \n",
    "    \"    double height = 1.0;\" + \n",
    "    \"    return ((omegaTildeIn - omegaTildeWall) * (1 - (X[1] / height) * (X[1] / height))) + omegaTildeWall; \" + \n",
    "    \"}\");"
   ]
  },
  {
   "cell_type": "markdown",
   "metadata": {
    "dotnet_interactive": {
     "language": "csharp"
    }
   },
   "source": [
    "## Setup of control objects for all solver runs"
   ]
  },
  {
   "cell_type": "code",
   "execution_count": null,
   "metadata": {
    "dotnet_interactive": {
     "language": "csharp"
    }
   },
   "outputs": [
    {
     "name": "stdout",
     "output_type": "stream",
     "text": [
      "Case: CFKO_J741k1\r\n"
     ]
    }
   ],
   "source": [
    "List<KOmegaControl> Controls = new List<KOmegaControl>();\n",
    "Controls.Clear();\n",
    "\n",
    "int[] DegreeS = new int[] { 1 };\n",
    "\n",
    "foreach(int k in DegreeS) {\n",
    "foreach(var grd in Grids.Take(1)) {\n",
    "\n",
    "    long J = grd.NumberOfCells;\n",
    "    string JobName = $\"CFKO_J{J}k{k}\";\n",
    "    Console.WriteLine(\"Case: \" + JobName);\n",
    "\n",
    "    var C = new KOmegaControl();\n",
    "    \n",
    "    C.SetGrid(grd);\n",
    "    C.SetDGdegree(k);\n",
    "    C.SessionName = JobName;\n",
    "    \n",
    "\n",
    "    C.NonLinearSolver.MaxSolverIterations = 100;\n",
    "    C.NonLinearSolver.MinSolverIterations = 3;\n",
    "    C.NonLinearSolver.ConvergenceCriterion = 1E-10;\n",
    "    C.LinearSolver.MaxSolverIterations = 10;\n",
    "    C.LinearSolver.MinSolverIterations = 3;\n",
    "    C.LinearSolver.ConvergenceCriterion = 1E-10;\n",
    "    C.dt = 1e20; // pseudo-timestep\n",
    "    // C.dt = 100;\n",
    "    C.dtMax = C.dt;\n",
    "    C.dtMin = C.dt;\n",
    "    // C.dtMax = 0.001;\n",
    "    // C.dtMin = 100.0;\n",
    "    C.Timestepper_Scheme = KOmegaControl.TimesteppingScheme.ImplicitEuler;\n",
    "    C.NonLinearSolver.SolverCode = NonLinearSolverCode.Newton;\n",
    "    // C.LinearSolver.SolverCode = LinearSolverCode.classic_mumps;\n",
    "    // C.LinearSolver.SolverCode = LinearSolverCode.exp_gmres_levelpmg;\n",
    "    // C.LinearSolver.SolverCode = LinearSolverCode.exp_direct_lapack;\n",
    "    C.LinearSolver.SolverCode = LinearSolverCode.classic_pardiso;\n",
    "    // C.LinearSolver.SolverCode = LinearSolverCode.exp_softgmres;\n",
    "\n",
    "    C.AdaptiveMeshRefinement = false;\n",
    "    C.RefinementLevel = 10;\n",
    "\n",
    "    C.UseArtificialDiffusion = false;\n",
    "\n",
    "    C.Bodyforces = false;\n",
    "    //C.WhichWall = \"Wall_Cylinder\";\n",
    "\n",
    "    //Debugging and Solver Analysis\n",
    "    C.OperatorMatrixAnalysis = false;\n",
    "    C.AnalysisLevel = 2;\n",
    "    C.SetInitialConditions = true;\n",
    "    C.SetInitialPressure = true;\n",
    "    C.SetParamsAnalyticalSol = false;\n",
    "    C.ComputeL2Error = false;\n",
    "    C.GravitySource = false;\n",
    "    C.GravityX = (X, t) => 0;\n",
    "    C.GravityY = (X, t) => 0;\n",
    "\n",
    "    //Physical Params\n",
    "    C.Stokes = false;\n",
    "    C.FixedStreamwisePeriodicBC = periodicBC;\n",
    "    C.Viscosity = 7.540114783971117e-05;\n",
    "\n",
    "    C.useJacobianForOperatorMatrix = true;\n",
    "\n",
    "    //Penalties\n",
    "    C.ViscousPenaltyScaling = 1;\n",
    "    C.Penalty2 = 1;\n",
    "    C.Penalty1[0] = 0.0;\n",
    "    C.Penalty1[1] = 0.0;\n",
    "    C.PresPenalty2 = 1;\n",
    "    C.PresPenalty1[0] = 0.0;\n",
    "    C.PresPenalty1[1] = 0.0;\n",
    "\n",
    "    // Set Initial Conditions\n",
    "    C.InitialValues.Add(VariableNames.Velocity_d(0), VelXInit);\n",
    "    C.InitialValues.Add(VariableNames.Velocity_d(1), new Formula(\"(X) => 0.0\", false));\n",
    "\n",
    "    C.InitialValues.Add(\"k\", kPolyInit);\n",
    "    C.InitialValues.Add(\"omega_tilde\", omegaTildeInit);\n",
    "\n",
    "    // Set Boundary Conditions\n",
    "    C.AddBoundaryValue(IncompressibleBcType.Wall.ToString() + \"_\" + TurbulenceModelBcType.Dirichlet.ToString(), \"VelocityX\", new Formula(\"(X) => 0.0\", false));\n",
    "    C.AddBoundaryValue(IncompressibleBcType.Wall.ToString() + \"_\" + TurbulenceModelBcType.Dirichlet.ToString(), \"VelocityY\", new Formula(\"(X) => 0.0\", false));\n",
    "    C.AddBoundaryValue(IncompressibleBcType.Wall.ToString() + \"_\" + TurbulenceModelBcType.Dirichlet.ToString(), \"k\", kPolyInit); // kWall\n",
    "    C.AddBoundaryValue(IncompressibleBcType.Wall.ToString() + \"_\" + TurbulenceModelBcType.Dirichlet.ToString(), \"omega_tilde\", omegaTildeInit); // omegaWall\n",
    "\n",
    "    if (!C.FixedStreamwisePeriodicBC) {\n",
    "        C.AddBoundaryValue(IncompressibleBcType.Velocity_Inlet.ToString() + \"_\" + TurbulenceModelBcType.Dirichlet.ToString(), VariableNames.Velocity_d(0), VelXInit);\n",
    "        C.AddBoundaryValue(IncompressibleBcType.Velocity_Inlet.ToString() + \"_\" + TurbulenceModelBcType.Dirichlet.ToString(), VariableNames.Velocity_d(1), new Formula(\"(X) => 0.0\", false));\n",
    "        C.AddBoundaryValue(IncompressibleBcType.Velocity_Inlet.ToString() + \"_\" + TurbulenceModelBcType.Dirichlet.ToString(), \"k\", kPolyInit); // kIn // kWall\n",
    "                         \n",
    "        C.AddBoundaryValue(IncompressibleBcType.Velocity_Inlet.ToString() + \"_\" + TurbulenceModelBcType.Dirichlet.ToString(), \"omega_tilde\",  omegaTildeInit); // omegaIn // omegaWall\n",
    "                          \n",
    "        // //C.AddBoundaryCondition(\"Velocity_inlet\",VariableNames.Pressure, Pressurefunction);\n",
    "        // C.AddBoundaryValue(\"Pressure_Outlet_neumann\");\n",
    "        C.AddBoundaryValue(IncompressibleBcType.Velocity_Inlet.ToString() + \"_\" + TurbulenceModelBcType.Dirichlet.ToString(), VariableNames.Pressure, new Formula(\"(X) => 1.0\", false));\n",
    "        C.AddBoundaryValue(IncompressibleBcType.Pressure_Outlet.ToString() + \"_\" + TurbulenceModelBcType.Neumann.ToString(), VariableNames.Pressure, new Formula(\"(X) => 0.0\", false));\n",
    "        // C.AddBoundaryValue(\"Pressure_Outlet_neumann\", \"k\", X =>\n",
    "        //                    kPolynomial (X,0)\n",
    "        //                    // kIn\n",
    "        //                    // kWall\n",
    "        //                    );\n",
    "        // C.AddBoundaryValue(\"Pressure_Outlet_neumann\", \"omega\", X =>\n",
    "        //                    omegaPolynomial (X,0)\n",
    "        //                    // omegaIn\n",
    "        //                    // omegaWall\n",
    "        //                    );\n",
    "        C.AddBoundaryValue(IncompressibleBcType.Pressure_Outlet.ToString() + \"_\" + TurbulenceModelBcType.Neumann.ToString());\n",
    "\n",
    "        // C.AddBoundaryValue(\"Wall_top\");\n",
    "        // C.AddBoundaryValue(\"Wall_bottom\");\n",
    "        // C.AddBoundaryValue(\"Velocity_inlet\");\n",
    "        // C.AddBoundaryValue(\"Pressure_Outlet_neumann\");\n",
    "    }\n",
    "    \n",
    "    \n",
    "    C.TracingNamespaces = \"*\";\n",
    "    \n",
    "    Controls.Add(C);\n",
    "    \n",
    "}\n",
    "}"
   ]
  },
  {
   "cell_type": "code",
   "execution_count": null,
   "metadata": {
    "dotnet_interactive": {
     "language": "csharp"
    }
   },
   "outputs": [],
   "source": [
    "int NC = Controls.Count;\n",
    "for(int i = 0; i < NC; i++) {\n",
    "    for(int j = 0; j < NC; j++) {\n",
    "        if(i == j)\n",
    "            Assert.IsTrue(Controls[i].Equals(Controls[j]), \"Control is not self-equal\");\n",
    "        else\n",
    "            Assert.IsFalse(Controls[i].Equals(Controls[j]), \"Different Control are wrongly equal\");\n",
    "    }\n",
    "}"
   ]
  },
  {
   "cell_type": "markdown",
   "metadata": {
    "dotnet_interactive": {
     "language": "csharp"
    }
   },
   "source": [
    "## Launch Jobs"
   ]
  },
  {
   "cell_type": "code",
   "execution_count": null,
   "metadata": {
    "dotnet_interactive": {
     "language": "csharp"
    }
   },
   "outputs": [
    {
     "data": {
      "text/html": [
       "<div class=\"dni-plaintext\">1</div>"
      ]
     },
     "metadata": {},
     "output_type": "display_data"
    }
   ],
   "source": [
    "Controls.Count"
   ]
  },
  {
   "cell_type": "code",
   "execution_count": null,
   "metadata": {
    "dotnet_interactive": {
     "language": "csharp"
    }
   },
   "outputs": [
    {
     "name": "stdout",
     "output_type": "stream",
     "text": [
      "Deploying job CFKO_J741k1 ... \r\n",
      "Deploying executables and additional files ...\r\n",
      "Deployment directory: D:\\local\\binaries\\ChannelFlowKOmega-KOmegaSolver2022Feb25_140836\r\n",
      "copied 45 files.\r\n",
      "   written file: control.obj\r\n",
      "deployment finished.\r\n",
      "Starting mini batch processor in external process...\r\n",
      "Started mini batch processor on local machine, process id is 25196.\r\n",
      "started.\r\n",
      "Warning: MiniBatchProcessor server was not running, started by job activation; it might be beneficial to start `MiniBatchProcessor.dll` externally, for the future.\r\n",
      "\r\n"
     ]
    }
   ],
   "source": [
    "foreach(var ctrl in Controls) {\n",
    "    var oneJob              = ctrl.CreateJob();\n",
    "    oneJob.NumberOfMPIProcs = 1;\n",
    "    oneJob.Activate(myBatch); \n",
    "}"
   ]
  },
  {
   "cell_type": "code",
   "execution_count": null,
   "metadata": {
    "dotnet_interactive": {
     "language": "csharp"
    }
   },
   "outputs": [
    {
     "data": {
      "text/plain": [
       "#0: CFKO_J741k1: PendingInExecutionQueue (MiniBatchProcessor client  LocalPC @D:\\local\\binaries)\tCFKO_J741k1: InProgress (MiniBatchProcessor client  LocalPC @D:\\local\\binaries)\r\n"
      ]
     },
     "metadata": {},
     "output_type": "display_data"
    }
   ],
   "source": [
    "wmg.AllJobs"
   ]
  },
  {
   "cell_type": "code",
   "execution_count": null,
   "metadata": {
    "dotnet_interactive": {
     "language": "csharp"
    }
   },
   "outputs": [
    {
     "ename": "Error",
     "evalue": "System.OperationCanceledException: Command :SubmitCode: // wait for all jobs to finish (up to 5 days, chec ... cancelled.",
     "output_type": "error",
     "traceback": [
      "System.OperationCanceledException: Command :SubmitCode: // wait for all jobs to finish (up to 5 days, chec ... cancelled."
     ]
    }
   ],
   "source": [
    "// wait for all jobs to finish (up to 5 days, check every 30 minutes)\n",
    "BoSSSshell.WorkflowMgm.BlockUntilAllJobsTerminate(TimeOutSeconds:(3600), PollingIntervallSeconds:(60*30));"
   ]
  },
  {
   "cell_type": "code",
   "execution_count": null,
   "metadata": {
    "dotnet_interactive": {
     "language": "csharp"
    }
   },
   "outputs": [],
   "source": [
    "// detect failed Jobs in the job management\n",
    "/*\n",
    "var suspects = BoSSSshell.WorkflowMgm.AllJobs.Select(kv => kv.Value)\n",
    "    .Where(job => job.LatestSession.Tags.Contains(SessionInfo.NOT_TERMINATED_TAG)\n",
    "                  || job.LatestSession.Tags.Contains(SessionInfo.SOLVER_ERROR)).ToArray();\n",
    "suspects\n",
    "*/"
   ]
  },
  {
   "cell_type": "code",
   "execution_count": null,
   "metadata": {
    "dotnet_interactive": {
     "language": "csharp"
    }
   },
   "outputs": [],
   "source": [
    "//suspects.Count()"
   ]
  },
  {
   "cell_type": "code",
   "execution_count": null,
   "metadata": {
    "dotnet_interactive": {
     "language": "csharp"
    }
   },
   "outputs": [],
   "source": [
    "//NUnit.Framework.Assert.IsTrue(suspects.Count() <= 0, $\"{suspects.Count()} Failed Jobs of {BoSSSshell.WorkflowMgm.AllJobs.Count()} in total.\");"
   ]
  },
  {
   "cell_type": "markdown",
   "metadata": {},
   "source": [
    "### Inspect the output of some arbitrary job:"
   ]
  },
  {
   "cell_type": "code",
   "execution_count": null,
   "metadata": {
    "dotnet_interactive": {
     "language": "csharp"
    }
   },
   "outputs": [
    {
     "name": "stdout",
     "output_type": "stream",
     "text": [
      "Starting external console ...\r\n",
      "(You may close the new window at any time, the job will continue.)\r\n"
     ]
    }
   ],
   "source": [
    "BoSSSshell.WorkflowMgm.AllJobs.First().Value.ShowOutput();"
   ]
  },
  {
   "cell_type": "code",
   "execution_count": null,
   "metadata": {
    "dotnet_interactive": {
     "language": "csharp"
    }
   },
   "outputs": [],
   "source": [
    "//wmg.Sessions[0].Export().WithSupersampling(2).Do()"
   ]
  },
  {
   "cell_type": "code",
   "execution_count": null,
   "metadata": {
    "dotnet_interactive": {
     "language": "csharp"
    }
   },
   "outputs": [],
   "source": [
    "//wmg.Sessions.Pick(0).Timesteps"
   ]
  },
  {
   "cell_type": "code",
   "execution_count": null,
   "metadata": {
    "dotnet_interactive": {
     "language": "csharp"
    }
   },
   "outputs": [],
   "source": []
  }
 ],
 "metadata": {
  "kernelspec": {
   "display_name": ".NET (C#)",
   "language": "C#",
   "name": ".net-csharp"
  },
  "language_info": {
   "file_extension": ".cs",
   "mimetype": "text/x-csharp",
   "name": "C#",
   "pygments_lexer": "csharp",
   "version": "9.0"
  }
 },
 "nbformat": 4,
 "nbformat_minor": 4
}
