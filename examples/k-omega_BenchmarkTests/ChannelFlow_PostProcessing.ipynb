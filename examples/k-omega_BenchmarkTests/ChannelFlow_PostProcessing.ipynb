{
 "cells": [
  {
   "cell_type": "markdown",
   "metadata": {},
   "source": [
    "# Channel Flow - Post processing"
   ]
  },
  {
   "cell_type": "code",
   "execution_count": null,
   "metadata": {
    "dotnet_interactive": {
     "language": "csharp"
    }
   },
   "outputs": [],
   "source": [
    "#r \"../../src/L4-application/BoSSSpad/bin/Release/net5.0/BoSSSpad.dll\"\n",
    "//#r \"../../src/L4-application/BoSSSpad/bin/Debug/net5.0/BoSSSpad.dll\"\n",
    "//#r \"BoSSSpad.dll\"\n",
    "using System;\n",
    "using System.Collections.Generic;\n",
    "using System.Linq;\n",
    "using ilPSP;\n",
    "using ilPSP.Utils;\n",
    "using BoSSS.Platform;\n",
    "using BoSSS.Foundation;\n",
    "using BoSSS.Foundation.XDG;\n",
    "using BoSSS.Foundation.Grid;\n",
    "using BoSSS.Foundation.Grid.Classic;\n",
    "using BoSSS.Foundation.Grid.RefElements;\n",
    "using BoSSS.Foundation.IO;\n",
    "using BoSSS.Solution;\n",
    "\n",
    "using BoSSS.Solution.Control;\n",
    "using BoSSS.Solution.GridImport;\n",
    "using BoSSS.Solution.Statistic;\n",
    "using BoSSS.Solution.Utils;\n",
    "using BoSSS.Solution.AdvancedSolvers;\n",
    "using BoSSS.Solution.Gnuplot;\n",
    "using BoSSS.Application.BoSSSpad;\n",
    "using BoSSS.Application.XNSE_Solver;\n",
    "using static BoSSS.Application.BoSSSpad.BoSSSshell;\n",
    "Init();"
   ]
  },
  {
   "cell_type": "code",
   "execution_count": null,
   "metadata": {
    "dotnet_interactive": {
     "language": "csharp"
    }
   },
   "outputs": [],
   "source": [
    "using BoSSS.Application.KOmega;\n",
    "using BoSSS.Application.RANSCommon;\n",
    "using BoSSS.Solution.NSECommon;\n",
    "using NUnit.Framework;"
   ]
  },
  {
   "cell_type": "code",
   "execution_count": null,
   "metadata": {
    "dotnet_interactive": {
     "language": "csharp"
    }
   },
   "outputs": [
    {
     "name": "stdout",
     "output_type": "stream",
     "text": [
      "Project name is set to 'ChannelFlowKOmega'.\r\n",
      "Opening existing database 'D:\\local\\ChannelFlowKOmega'.\r\n"
     ]
    }
   ],
   "source": [
    "BoSSSshell.WorkflowMgm.Init(\"ChannelFlowKOmega\");"
   ]
  },
  {
   "cell_type": "code",
   "execution_count": null,
   "metadata": {
    "dotnet_interactive": {
     "language": "csharp"
    }
   },
   "outputs": [
    {
     "name": "stdout",
     "output_type": "stream",
     "text": [
      "Opening existing database '\\\\hpccluster\\hpccluster-scratch\\smuda\\ChannelFlowKOmega'.\r\n"
     ]
    }
   ],
   "source": [
    "OpenOrCreateDatabase(@\"\\\\hpccluster\\hpccluster-scratch\\smuda\\ChannelFlowKOmega\");"
   ]
  },
  {
   "cell_type": "code",
   "execution_count": null,
   "metadata": {
    "dotnet_interactive": {
     "language": "csharp"
    }
   },
   "outputs": [
    {
     "data": {
      "text/plain": [
       "#0: ChannelFlowKOmega\tCFKO_J162k1\t04/06/2022 10:40:48\tb28c5363...\r\n",
       "#1: ChannelFlowKOmega\tCFKO_J722k1\t03/30/2022 13:44:32\td8522cc2...\r\n",
       "#2: ChannelFlowKOmega\tCFKO_J741k1\t02/25/2022 14:08:43\t908240ab...\r\n",
       "#3: ChannelFlowKOmega\tCFKO_J162k3_p3_HomotopyApproach2*\t05/17/2022 18:39:59\t0c6ae1bb...\r\n",
       "#4: ChannelFlowKOmega\tCFKO_J162k3_p3_HomotopyApproach1\t05/17/2022 17:06:18\tdc9452ba...\r\n",
       "#5: ChannelFlowKOmega\tCFKO_J162k3_p3*\t05/17/2022 16:02:51\t8098acec...\r\n"
      ]
     },
     "metadata": {},
     "output_type": "display_data"
    }
   ],
   "source": [
    "wmg.Sessions"
   ]
  },
  {
   "cell_type": "code",
   "execution_count": null,
   "metadata": {
    "dotnet_interactive": {
     "language": "csharp"
    }
   },
   "outputs": [
    {
     "name": "stdout",
     "output_type": "stream",
     "text": [
      "Session 70120569-9c33-4775-848a-12648d1a9917 deleted.\r\n"
     ]
    }
   ],
   "source": [
    "//wmg.Sessions.Pick(3).Delete(true)"
   ]
  },
  {
   "cell_type": "code",
   "execution_count": null,
   "metadata": {
    "dotnet_interactive": {
     "language": "csharp"
    }
   },
   "outputs": [
    {
     "data": {
      "text/plain": [
       "\\\\hpccluster\\hpccluster-scratch\\smuda\\ChannelFlowKOmega\\sessions\\8098acec-8489-4b2f-aed5-2a0edea68ad0"
      ]
     },
     "metadata": {},
     "output_type": "display_data"
    }
   ],
   "source": [
    "wmg.Sessions.Pick(5).GetSessionDirectory()"
   ]
  },
  {
   "cell_type": "code",
   "execution_count": null,
   "metadata": {
    "dotnet_interactive": {
     "language": "csharp"
    }
   },
   "outputs": [
    {
     "name": "stdout",
     "output_type": "stream",
     "text": [
      "Starting export process... Data will be written to the directory: C:\\Users\\smuda\\AppData\\Local\\BoSSS\\plots\\sessions\\ChannelFlowKOmega__CFKO_J162k3_p3_HomotopyApproach1__dc9452ba-5285-4c2f-bdbb-0d7b881196e1\r\n"
     ]
    }
   ],
   "source": [
    "wmg.Sessions.Pick(4).Export().WithSupersampling(3).Do();"
   ]
  },
  {
   "cell_type": "code",
   "execution_count": null,
   "metadata": {
    "dotnet_interactive": {
     "language": "csharp"
    }
   },
   "outputs": [
    {
     "data": {
      "text/plain": [
       "#0:  { Time-step: 0; Physical time: 0s; Fields: VelocityX, VelocityY, Pressure, k, omega_tilde; Name:  }\r\n"
      ]
     },
     "metadata": {},
     "output_type": "display_data"
    }
   ],
   "source": [
    "wmg.Sessions.Pick(5).Timesteps"
   ]
  }
 ],
 "metadata": {
  "kernelspec": {
   "display_name": ".NET (C#)",
   "language": "C#",
   "name": ".net-csharp"
  },
  "language_info": {
   "file_extension": ".cs",
   "mimetype": "text/x-csharp",
   "name": "C#",
   "pygments_lexer": "csharp",
   "version": "9.0"
  },
  "orig_nbformat": 4
 },
 "nbformat": 4,
 "nbformat_minor": 2
}
