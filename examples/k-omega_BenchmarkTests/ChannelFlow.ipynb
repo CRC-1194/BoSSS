{
 "cells": [
  {
   "cell_type": "markdown",
   "metadata": {},
   "source": [
    "# Channel Flow - Benchmark Setting ReTau = 395 \n",
    "\n",
    "Results published: preliminary study \n"
   ]
  },
  {
   "cell_type": "markdown",
   "metadata": {},
   "source": [
    "### Preliminaries\n",
    "\n",
    "Note: First, BoSSS has to be loaded into the Jupyter kernel. Note:\n",
    "In the following line, the reference to `BoSSSpad.dll` is required. \n",
    "One must either set `#r \"BoSSSpad.dll\"` to something which is appropirate for the current computer\n",
    "(e.g. `C:\\Program Files (x86)\\FDY\\BoSSS\\bin\\Release\\net5.0\\BoSSSpad.dll` if working with the binary distribution), \n",
    "or, if one is working with the source code, one must compile `BoSSSpad`\n",
    "and put it side-by-side to this worksheet file \n",
    "(from the original location in the repository, one can use the scripts `getbossspad.sh`, resp. `getbossspad.bat`).\n"
   ]
  },
  {
   "cell_type": "code",
   "execution_count": null,
   "metadata": {
    "dotnet_interactive": {
     "language": "csharp"
    }
   },
   "outputs": [
    {
     "name": "stdout",
     "output_type": "stream",
     "text": [
      "Using gnuplot: C:\\Users\\smuda\\AppData\\Local\\FDY\\BoSSS\\bin\\native\\win\\gnuplot-gp510-20160418-win32-mingw\\gnuplot\\bin\\gnuplot.exe\r\n",
      "Databases loaded: \r\n",
      "Capacity: 4\r\n",
      "Count: 1\r\n",
      "\r\n"
     ]
    },
    {
     "ename": "Error",
     "evalue": "System.ApplicationException: Already called.\r\n   at BoSSS.Application.BoSSSpad.BoSSSshell.InitTraceFile() in D:\\BoSSS-experimental\\public\\src\\L4-application\\BoSSSpad\\BoSSSshell.cs:line 170\r\n   at BoSSS.Application.BoSSSpad.BoSSSshell.Init() in D:\\BoSSS-experimental\\public\\src\\L4-application\\BoSSSpad\\BoSSSshell.cs:line 97\r\n   at Submission#67.<<Initialize>>d__0.MoveNext()\r\n--- End of stack trace from previous location ---\r\n   at Microsoft.CodeAnalysis.Scripting.ScriptExecutionState.RunSubmissionsAsync[TResult](ImmutableArray`1 precedingExecutors, Func`2 currentExecutor, StrongBox`1 exceptionHolderOpt, Func`2 catchExceptionOpt, CancellationToken cancellationToken)",
     "output_type": "error",
     "traceback": [
      "System.ApplicationException: Already called.\r\n",
      "   at BoSSS.Application.BoSSSpad.BoSSSshell.InitTraceFile() in D:\\BoSSS-experimental\\public\\src\\L4-application\\BoSSSpad\\BoSSSshell.cs:line 170\r\n",
      "   at BoSSS.Application.BoSSSpad.BoSSSshell.Init() in D:\\BoSSS-experimental\\public\\src\\L4-application\\BoSSSpad\\BoSSSshell.cs:line 97\r\n",
      "   at Submission#67.<<Initialize>>d__0.MoveNext()\r\n",
      "--- End of stack trace from previous location ---\r\n",
      "   at Microsoft.CodeAnalysis.Scripting.ScriptExecutionState.RunSubmissionsAsync[TResult](ImmutableArray`1 precedingExecutors, Func`2 currentExecutor, StrongBox`1 exceptionHolderOpt, Func`2 catchExceptionOpt, CancellationToken cancellationToken)"
     ]
    }
   ],
   "source": [
    "//#r \"../../src/L4-application/BoSSSpad/bin/Release/net5.0/BoSSSpad.dll\"\n",
    "//#r \"../../src/L4-application/BoSSSpad/bin/Debug/net5.0/BoSSSpad.dll\"\n",
    "#r \"BoSSSpad.dll\"\n",
    "using System;\n",
    "using System.Collections.Generic;\n",
    "using System.Linq;\n",
    "using ilPSP;\n",
    "using ilPSP.Utils;\n",
    "using BoSSS.Platform;\n",
    "using BoSSS.Foundation;\n",
    "using BoSSS.Foundation.XDG;\n",
    "using BoSSS.Foundation.Grid;\n",
    "using BoSSS.Foundation.Grid.Classic;\n",
    "using BoSSS.Foundation.Grid.RefElements;\n",
    "using BoSSS.Foundation.IO;\n",
    "using BoSSS.Solution;\n",
    "using BoSSS.Solution.Control;\n",
    "using BoSSS.Solution.GridImport;\n",
    "using BoSSS.Solution.Statistic;\n",
    "using BoSSS.Solution.Utils;\n",
    "using BoSSS.Solution.AdvancedSolvers;\n",
    "using BoSSS.Solution.Gnuplot;\n",
    "using BoSSS.Application.BoSSSpad;\n",
    "using BoSSS.Application.XNSE_Solver;\n",
    "using static BoSSS.Application.BoSSSpad.BoSSSshell;\n",
    "Init();"
   ]
  },
  {
   "cell_type": "markdown",
   "metadata": {},
   "source": [
    "## Initialization tasks"
   ]
  },
  {
   "cell_type": "markdown",
   "metadata": {},
   "source": [
    "Loading the `KOmegaSolver` and additional namespaces:"
   ]
  },
  {
   "cell_type": "code",
   "execution_count": null,
   "metadata": {
    "dotnet_interactive": {
     "language": "csharp"
    }
   },
   "outputs": [],
   "source": [
    "using BoSSS.Application.KOmega;\n",
    "using BoSSS.Application.RANSCommon;\n",
    "using BoSSS.Solution.NSECommon;\n",
    "using NUnit.Framework;"
   ]
  },
  {
   "cell_type": "markdown",
   "metadata": {},
   "source": [
    "Initialization of the Workflow management; there is the project name `ChannelFlowKOmega` which is used name all computations (aka. sessions):"
   ]
  },
  {
   "cell_type": "code",
   "execution_count": null,
   "metadata": {
    "dotnet_interactive": {
     "language": "csharp"
    }
   },
   "outputs": [
    {
     "name": "stdout",
     "output_type": "stream",
     "text": [
      "Project name is set to 'ChannelFlowKOmega'.\r\n",
      "Opening existing database 'D:\\local\\ChannelFlowKOmega'.\r\n"
     ]
    }
   ],
   "source": [
    "BoSSSshell.WorkflowMgm.Init(\"ChannelFlowKOmega\");"
   ]
  },
  {
   "cell_type": "code",
   "execution_count": null,
   "metadata": {
    "dotnet_interactive": {
     "language": "csharp"
    }
   },
   "outputs": [
    {
     "name": "stdout",
     "output_type": "stream",
     "text": [
      "Opening existing database '\\\\hpccluster\\hpccluster-scratch\\smuda\\ChannelFlowKOmega'.\r\n"
     ]
    }
   ],
   "source": [
    "OpenOrCreateDatabase(@\"\\\\hpccluster\\hpccluster-scratch\\smuda\\ChannelFlowKOmega\");"
   ]
  },
  {
   "cell_type": "code",
   "execution_count": null,
   "metadata": {
    "dotnet_interactive": {
     "language": "csharp"
    }
   },
   "outputs": [
    {
     "data": {
      "text/plain": [
       "#0: { Session Count = 42; Grid Count = 83; Path = \\\\hpccluster\\hpccluster-scratch\\smuda\\OscillatingDroplet3D }\r\n",
       "#1: { Session Count = 3; Grid Count = 4; Path = D:\\local\\ChannelFlowKOmega }\r\n",
       "#2: { Session Count = 3; Grid Count = 1; Path = \\\\hpccluster\\hpccluster-scratch\\smuda\\ChannelFlowKOmega }\r\n"
      ]
     },
     "metadata": {},
     "output_type": "display_data"
    }
   ],
   "source": [
    "databases"
   ]
  },
  {
   "cell_type": "markdown",
   "metadata": {},
   "source": [
    "Overview on the available *Execution Queues* (aka. *Batch Processors*, aka. *Batch System*); these e.g. Linux HPC clusters on which compute jobs can be executed."
   ]
  },
  {
   "cell_type": "code",
   "execution_count": null,
   "metadata": {
    "dotnet_interactive": {
     "language": "csharp"
    }
   },
   "outputs": [
    {
     "data": {
      "text/html": [
       "<table><thead><tr><th><i>index</i></th><th><i>type</i></th><th>DeploymentBaseDirectory</th><th>DeployRuntime</th><th>Name</th><th>DotnetRuntime</th><th>BatchInstructionDir</th><th>AllowedDatabasesPaths</th><th>Username</th><th>ServerName</th><th>ComputeNodes</th><th>DefaultJobPriority</th><th>SingleNode</th></tr></thead><tbody><tr><td>0</td><td>BoSSS.Application.BoSSSpad.MiniBatchProcessorClient</td><td>D:\\local\\binaries</td><td>False</td><td>LocalPC</td><td>dotnet</td><td><div class=\"dni-plaintext\">&lt;null&gt;</div></td><td>[ D:\\local\\ ==  ]</td><td></td><td></td><td></td><td></td><td></td></tr><tr><td>1</td><td>BoSSS.Application.BoSSSpad.MsHPC2012Client</td><td>\\\\hpccluster\\hpccluster-scratch\\smuda\\binaries</td><td>False</td><td>FDY-WindowsHPC</td><td>dotnet</td><td></td><td>[ \\\\hpccluster\\hpccluster-scratch\\smuda\\ ==  ]</td><td>FDY\\smuda</td><td>DC2</td><td><div class=\"dni-plaintext\">&lt;null&gt;</div></td><td>Normal</td><td>True</td></tr></tbody></table>"
      ]
     },
     "metadata": {},
     "output_type": "display_data"
    }
   ],
   "source": [
    "ExecutionQueues"
   ]
  },
  {
   "cell_type": "code",
   "execution_count": null,
   "metadata": {
    "dotnet_interactive": {
     "language": "csharp"
    }
   },
   "outputs": [
    {
     "data": {
      "text/html": [
       "<table><thead><tr><th>DeploymentBaseDirectory</th><th>DeployRuntime</th><th>Name</th><th>DotnetRuntime</th><th>Username</th><th>ServerName</th><th>ComputeNodes</th><th>DefaultJobPriority</th><th>SingleNode</th><th>AllowedDatabasesPaths</th></tr></thead><tbody><tr><td><div class=\"dni-plaintext\">\\\\hpccluster\\hpccluster-scratch\\smuda\\binaries</div></td><td><div class=\"dni-plaintext\">False</div></td><td><div class=\"dni-plaintext\">FDY-WindowsHPC</div></td><td><div class=\"dni-plaintext\">dotnet</div></td><td><div class=\"dni-plaintext\">FDY\\smuda</div></td><td><div class=\"dni-plaintext\">DC2</div></td><td><div class=\"dni-plaintext\">&lt;null&gt;</div></td><td><div class=\"dni-plaintext\">Normal</div></td><td><div class=\"dni-plaintext\">True</div></td><td><div class=\"dni-plaintext\">[ \\\\hpccluster\\hpccluster-scratch\\smuda\\ ==  ]</div></td></tr></tbody></table>"
      ]
     },
     "metadata": {},
     "output_type": "display_data"
    }
   ],
   "source": [
    "var myBatch = ExecutionQueues[1];\n",
    "//var myBatch = GetDefaultQueue();\n",
    "myBatch"
   ]
  },
  {
   "cell_type": "code",
   "execution_count": null,
   "metadata": {
    "dotnet_interactive": {
     "language": "csharp"
    }
   },
   "outputs": [
    {
     "data": {
      "text/plain": [
       "#0: ChannelFlowKOmega\tCFKO_J162k1\t04/06/2022 10:40:48\tb28c5363...\r\n",
       "#1: ChannelFlowKOmega\tCFKO_J722k1\t03/30/2022 13:44:32\td8522cc2...\r\n",
       "#2: ChannelFlowKOmega\tCFKO_J741k1\t02/25/2022 14:08:43\t908240ab...\r\n",
       "#3: ChannelFlowKOmega\tCFKO_J162k3_p3_HomotopyApproach2*\t05/17/2022 18:39:59\t0c6ae1bb...\r\n",
       "#4: ChannelFlowKOmega\tCFKO_J162k3_p3_HomotopyApproach1\t05/17/2022 17:06:18\tdc9452ba...\r\n",
       "#5: ChannelFlowKOmega\tCFKO_J162k3_p3*\t05/17/2022 16:02:51\t8098acec...\r\n"
      ]
     },
     "metadata": {},
     "output_type": "display_data"
    }
   ],
   "source": [
    "wmg.Sessions"
   ]
  },
  {
   "cell_type": "markdown",
   "metadata": {},
   "source": [
    "## Grid Creation - Channel"
   ]
  },
  {
   "cell_type": "code",
   "execution_count": null,
   "metadata": {
    "dotnet_interactive": {
     "language": "csharp"
    }
   },
   "outputs": [],
   "source": [
    "// channel length\n",
    "double l = 0.2;\n",
    "// channel half-width\n",
    "double delta = 1;\n",
    "\n",
    "(int cellsx, int cellsy)[] Resolutions = new [] { (10, 10) };\n",
    "IGridInfo[] Grids = new IGridInfo[Resolutions.Length];\n",
    "\n",
    "bool periodicBC = true;"
   ]
  },
  {
   "cell_type": "code",
   "execution_count": null,
   "metadata": {
    "dotnet_interactive": {
     "language": "csharp"
    }
   },
   "outputs": [
    {
     "name": "stdout",
     "output_type": "stream",
     "text": [
      "Grid Edge Tags changed.\r\n",
      "An equivalent grid (2274c87d-c23b-485f-a1ce-2308d1024693) is already present in the database -- the grid will not be saved.\r\n"
     ]
    }
   ],
   "source": [
    "double[] _xNodes;\n",
    "double[] _yNodes;\n",
    "for(int i = 0; i < Resolutions.Length; i++) {\n",
    "    var Res = Resolutions[i];\n",
    "    string GridName = $\"ChannelFlowKOmega_{Res.cellsx}x{2*Res.cellsy}_TanhSpacing\";\n",
    "\n",
    "    // grid metrics\n",
    "    _xNodes = GenericBlas.Linspace(0, l, Res.cellsx);\n",
    "    var _yNodesTop = Grid1D.TanhSpacing(delta, 2.0*delta, Res.cellsy, 1.8, false);\n",
    "    _yNodesTop = _yNodesTop.GetSubVector(1, (_yNodesTop.Length - 1));\n",
    "    var _yNodesBottom = Grid1D.TanhSpacing(0, delta, Res.cellsy, 1.8, true);  \n",
    "    _yNodes = ArrayTools.Cat(_yNodesBottom, _yNodesTop);\n",
    "\n",
    "\n",
    "    IGridInfo cachedGrid = wmg.Grids.FirstOrDefault(grid => grid.Name == GridName);\n",
    "    cachedGrid = null;\n",
    "    if(cachedGrid == null) {\n",
    "        \n",
    "        // must create new Grid\n",
    "        var grd = Grid2D.Cartesian2DGrid(_xNodes,\n",
    "                                         _yNodes,\n",
    "                                         CellType.Square_Linear,\n",
    "                                         periodicX: periodicBC\n",
    "                                         );\n",
    "        grd.Name = GridName;\n",
    "\n",
    "        grd.DefineEdgeTags(delegate(Vector X) {\n",
    "            string ret = null;\n",
    "\n",
    "            if (Math.Abs(X.y - (0)) < 1.0e-8)\n",
    "                // bottom\n",
    "                ret = IncompressibleBcType.Wall.ToString() + \"_\" + TurbulenceModelBcType.Dirichlet.ToString();\n",
    "\n",
    "            if (Math.Abs(X.y - (2.0*delta)) < 1.0e-8)\n",
    "                // top\n",
    "                ret = IncompressibleBcType.Wall.ToString() + \"_\" + TurbulenceModelBcType.Dirichlet.ToString();\n",
    "\n",
    "            if (!periodicBC) {\n",
    "                if (Math.Abs(X.x - (0)) < 1.0e-8)\n",
    "                    // left\n",
    "                    ret = IncompressibleBcType.Velocity_Inlet.ToString() + \"_\" + TurbulenceModelBcType.Dirichlet.ToString();\n",
    "\n",
    "                if (Math.Abs(X.x - (l)) < 1.0e-8)\n",
    "                    // right\n",
    "                    ret = IncompressibleBcType.Pressure_Outlet.ToString() + \"_\" + TurbulenceModelBcType.Neumann.ToString();\n",
    "            }\n",
    "\n",
    "            return ret;\n",
    "        });     \n",
    "        \n",
    "        Grids[i] = wmg.SaveGrid(grd);\n",
    "        \n",
    "    } else {\n",
    "        //Console.WriteLine($\"type: {cachedGrid.GetType()}, is IGridInfo? {cachedGrid is IGridInfo}\");\n",
    "        Console.WriteLine(\"Grid already found in database - identifid by name \" + GridName);\n",
    "        Grids[i] = cachedGrid;\n",
    "    }\n",
    "    \n",
    "}"
   ]
  },
  {
   "cell_type": "code",
   "execution_count": null,
   "metadata": {
    "dotnet_interactive": {
     "language": "csharp"
    }
   },
   "outputs": [],
   "source": [
    "//databases.Pick(2).Grids"
   ]
  },
  {
   "cell_type": "code",
   "execution_count": null,
   "metadata": {
    "dotnet_interactive": {
     "language": "csharp"
    }
   },
   "outputs": [
    {
     "data": {
      "text/html": [
       "<div class=\"dni-plaintext\">1.1947385361340517</div>"
      ]
     },
     "metadata": {},
     "output_type": "display_data"
    }
   ],
   "source": [
    "double cellRatio = _yNodes[1] / _xNodes[1];\n",
    "cellRatio"
   ]
  },
  {
   "cell_type": "markdown",
   "metadata": {},
   "source": [
    "## Initial Values"
   ]
  },
  {
   "cell_type": "code",
   "execution_count": null,
   "metadata": {
    "dotnet_interactive": {
     "language": "csharp"
    }
   },
   "outputs": [],
   "source": [
    "var VelXInit = new Formula(\n",
    "    \"VelX\",\n",
    "    false,\n",
    "    \"using ilPSP.Utils; \" + \n",
    "    \"double VelX(double[] X) { \" + \n",
    "    \"    double U0 = 197.5;\" + \n",
    "    \"    double delta = 1.0;\" + \n",
    "    \"    return U0 * (X[1]/delta) * (2 - (X[1]/delta)); \" + \n",
    "    \"}\");"
   ]
  },
  {
   "cell_type": "code",
   "execution_count": null,
   "metadata": {
    "dotnet_interactive": {
     "language": "csharp"
    }
   },
   "outputs": [],
   "source": [
    "var kPolyInit = new Formula(\n",
    "    \"kPoly\",\n",
    "    false,\n",
    "    \"using ilPSP.Utils; \" + \n",
    "    \"double kPoly(double[] X) { \" + \n",
    "    \"    double U0 = 197.5;\" + \n",
    "    \"    double k0 = 0.5 * U0 * U0;\" + \n",
    "    \"    double delta = 1.0;\" + \n",
    "    \"    return k0 * (X[1]/delta) * (2 - (X[1]/delta)); \" + \n",
    "    \"}\");"
   ]
  },
  {
   "cell_type": "code",
   "execution_count": null,
   "metadata": {
    "dotnet_interactive": {
     "language": "csharp"
    }
   },
   "outputs": [],
   "source": [
    "var omegaTildeInit = new Formula(\n",
    "    \"omegaTilde\",\n",
    "    false,\n",
    "    \"using ilPSP.Utils; \" + \n",
    "    \"double omegaTilde(double[] X) { \" + \n",
    "    \"    double turbulentIntensity = 0.8;\" + \n",
    "    \"    double Umean= 1.0;\" + \n",
    "    \"    double kIn = 3 / 2.0 * Math.Pow(Umean * turbulentIntensity, 2);\" + \n",
    "    \"    double L = 0.4;\" +\n",
    "    \"    double omegaTildeIn = Math.Log(Math.Sqrt(kIn) / L);\" + \n",
    "    \"    double omegaTildeWall = Math.Log(6e2);\" + \n",
    "    \"    double height = 1.0;\" + \n",
    "    \"    return ((omegaTildeIn - omegaTildeWall) * (1 - (X[1] / height) * (X[1] / height))) + omegaTildeWall; \" + \n",
    "    \"}\");"
   ]
  },
  {
   "cell_type": "markdown",
   "metadata": {
    "dotnet_interactive": {
     "language": "csharp"
    }
   },
   "source": [
    "## Setup of control objects for all solver runs"
   ]
  },
  {
   "cell_type": "code",
   "execution_count": null,
   "metadata": {
    "dotnet_interactive": {
     "language": "csharp"
    }
   },
   "outputs": [
    {
     "data": {
      "text/html": [
       "<div class=\"dni-plaintext\">10.487149372733281</div>"
      ]
     },
     "metadata": {},
     "output_type": "display_data"
    }
   ],
   "source": [
    "double dyWall = _yNodes[1];\n",
    "double u_tau = 1.0;\n",
    "double viscosity = 0.002531645569620;\n",
    "double dyWallPlus = u_tau * dyWall / viscosity;\n",
    "dyWallPlus"
   ]
  },
  {
   "cell_type": "code",
   "execution_count": null,
   "metadata": {
    "dotnet_interactive": {
     "language": "csharp"
    }
   },
   "outputs": [
    {
     "data": {
      "text/html": [
       "<div class=\"dni-plaintext\">2.6217873431833203</div>"
      ]
     },
     "metadata": {},
     "output_type": "display_data"
    }
   ],
   "source": [
    "int pOrder = 3;\n",
    "double dyWallPlusDG = dyWallPlus / ((double)pOrder + 1.0); \n",
    "dyWallPlusDG"
   ]
  },
  {
   "cell_type": "code",
   "execution_count": null,
   "metadata": {
    "dotnet_interactive": {
     "language": "csharp"
    }
   },
   "outputs": [
    {
     "data": {
      "text/html": [
       "<div class=\"dni-plaintext\">16.267270939597523</div>"
      ]
     },
     "metadata": {},
     "output_type": "display_data"
    }
   ],
   "source": [
    "double tau_w = 1.0;\n",
    "double beta = 3.0/40.0;\n",
    "double density = 1.0;\n",
    "double[] alpha_pS = new double[] {0.37, 8.21e-2, 3.57e-2, 1.99e-2, 1.27e-2}; // for orders p = {0, 1, 2, 3, 4}\n",
    "double alpha_p = alpha_pS[pOrder];\n",
    "double omegaT_w = Math.Log(6*tau_w/(beta*density*viscosity)) + (2.0*Math.Log(1.0/alpha_p)) + (2*Math.Log(1.0/dyWallPlusDG));\n",
    "omegaT_w"
   ]
  },
  {
   "cell_type": "code",
   "execution_count": null,
   "metadata": {
    "dotnet_interactive": {
     "language": "csharp"
    }
   },
   "outputs": [
    {
     "name": "stdout",
     "output_type": "stream",
     "text": [
      "Case: CFKO_J162k3_p3_decoupled\r\n"
     ]
    }
   ],
   "source": [
    "List<KOmegaControl> Controls = new List<KOmegaControl>();\n",
    "Controls.Clear();\n",
    "\n",
    "int[] DegreeS = new int[] { pOrder };\n",
    "\n",
    "foreach(int k in DegreeS) {\n",
    "foreach(var grd in Grids.Take(1)) {\n",
    "\n",
    "    long J = grd.NumberOfCells;\n",
    "    string JobName = $\"CFKO_J{J}k{k}_p{pOrder}_decoupled\";\n",
    "    Console.WriteLine(\"Case: \" + JobName);\n",
    "\n",
    "    var C = new KOmegaControl();\n",
    "    \n",
    "    C.SetGrid(grd);\n",
    "    C.SetDGdegree(k);\n",
    "    C.SessionName = JobName;\n",
    "    \n",
    "\n",
    "    C.NonLinearSolver.MaxSolverIterations = 100;\n",
    "    C.NonLinearSolver.MinSolverIterations = 3;\n",
    "    C.NonLinearSolver.ConvergenceCriterion = 1E-8;\n",
    "    // C.LinearSolver.MaxSolverIterations = 10;\n",
    "    // C.LinearSolver.MinSolverIterations = 3;\n",
    "    // C.LinearSolver.ConvergenceCriterion = 1E-10;\n",
    "    C.dt = 1e20; // pseudo-timestep\n",
    "    // C.dt = 100;\n",
    "    C.dtMax = C.dt;\n",
    "    C.dtMin = C.dt;\n",
    "    // C.dtMax = 0.001;\n",
    "    // C.dtMin = 100.0;\n",
    "    C.Timestepper_Scheme = KOmegaControl.TimesteppingScheme.ImplicitEuler;\n",
    "    C.NonLinearSolver.SolverCode = NonLinearSolverCode.Newton;\n",
    "    // C.LinearSolver.SolverCode = LinearSolverCode.classic_mumps;\n",
    "    // C.LinearSolver.SolverCode = LinearSolverCode.exp_gmres_levelpmg;\n",
    "    // C.LinearSolver.SolverCode = LinearSolverCode.exp_direct_lapack;\n",
    "    C.LinearSolver = LinearSolverCode.classic_mumps.GetConfig();\n",
    "    // C.LinearSolver.SolverCode = LinearSolverCode.exp_softgmres;\n",
    "\n",
    "    //C.NoOfTimesteps = 100;\n",
    "\n",
    "    C.AdaptiveMeshRefinement = false;\n",
    "    C.RefinementLevel = 10;\n",
    "\n",
    "    C.UseArtificialDiffusion = false;\n",
    "\n",
    "    C.Bodyforces = false;\n",
    "    //C.WhichWall = \"Wall_Cylinder\";\n",
    "\n",
    "    //Debugging and Solver Analysis\n",
    "    C.OperatorMatrixAnalysis = false;\n",
    "    C.AnalysisLevel = 2;\n",
    "    C.SetInitialConditions = true;\n",
    "    C.SetInitialPressure = false;\n",
    "    C.SetParamsAnalyticalSol = false;\n",
    "    C.ComputeL2Error = false;\n",
    "    C.GravitySource = false;\n",
    "    C.GravityX = (X, t) => 0;\n",
    "    C.GravityY = (X, t) => 0;\n",
    "\n",
    "    //Physical Params\n",
    "    C.Stokes = false;\n",
    "    C.FixedStreamwisePeriodicBC = periodicBC;\n",
    "    C.Viscosity = viscosity;\n",
    "\n",
    "    C.homotopy_komega_fadein = 0.0;\n",
    "    //C.HomotopyApproach = KOmegaControl.HomotopyType.Manual;\n",
    "\n",
    "    if (C.HomotopyApproach == KOmegaControl.HomotopyType.Manual){\n",
    "        C.AlphaStarHomotopyValues    = new double[] { 0,0.001,             0.1,             1.0             };\n",
    "        C.AlphaHomotopyValues        = new double[] { 0,0.001 * C.alpha,    0.1 * C.alpha,    1.0 * C.alpha    };\n",
    "        C.BetaStarHomotopyValues     = new double[] { 0,0.001 * C.beta_star,0.1 * C.beta_star,1.0 * C.beta_star};\n",
    "        C.BetaHomotopyValues         = new double[] { 0,0.001 * C.beta,     0.1 * C.beta,     1.0 * C.beta     };\n",
    "        C.SigmaStarHomotopyValues    = new double[] { 0,1 * C.sigma_star,   1 * C.sigma_star, 1 * C.sigma_star };\n",
    "        C.SigmaHomotopyValues        = new double[] { 0,1 * C.sigma,        1 * C.sigma,      1 * C.sigma      };\n",
    "        C.KOmegaFadeinHomotopyValues = new double[] { 0,1,                 1,               1               };\n",
    "    }\n",
    "\n",
    "    C.useJacobianForOperatorMatrix = true;\n",
    "\n",
    "    //Penalties\n",
    "    C.ViscousPenaltyScaling = 1;\n",
    "    C.Penalty2 = 1;\n",
    "    C.Penalty1[0] = 0.0;\n",
    "    C.Penalty1[1] = 0.0;\n",
    "    C.PresPenalty2 = 1;\n",
    "    C.PresPenalty1[0] = 0.0;\n",
    "    C.PresPenalty1[1] = 0.0;\n",
    "\n",
    "    // Set Initial Conditions\n",
    "    C.InitialValues.Add(VariableNames.Velocity_d(0), VelXInit);\n",
    "    C.InitialValues.Add(VariableNames.Velocity_d(1), new Formula(\"(X) => 0.0\", false));\n",
    "\n",
    "    C.InitialValues.Add(\"k\", kPolyInit);\n",
    "    C.InitialValues.Add(\"omega_tilde\", new Formula(\"(X) => 16.267270939597523\", false));\n",
    "\n",
    "    // Set Boundary Conditions\n",
    "    C.AddBoundaryValue(IncompressibleBcType.Wall.ToString() + \"_\" + TurbulenceModelBcType.Dirichlet.ToString(), \"VelocityX\", new Formula(\"(X) => 0.0\", false));\n",
    "    C.AddBoundaryValue(IncompressibleBcType.Wall.ToString() + \"_\" + TurbulenceModelBcType.Dirichlet.ToString(), \"VelocityY\", new Formula(\"(X) => 0.0\", false));\n",
    "    C.AddBoundaryValue(IncompressibleBcType.Wall.ToString() + \"_\" + TurbulenceModelBcType.Dirichlet.ToString(), \"k\", new Formula(\"(X) => 0.0\", false)); // kWall\n",
    "    C.AddBoundaryValue(IncompressibleBcType.Wall.ToString() + \"_\" + TurbulenceModelBcType.Dirichlet.ToString(), \"omega_tilde\", new Formula(\"(X) => 16.267270939597523\", false)); // omegaWall\n",
    "\n",
    "    if (!C.FixedStreamwisePeriodicBC) {\n",
    "        C.AddBoundaryValue(IncompressibleBcType.Velocity_Inlet.ToString() + \"_\" + TurbulenceModelBcType.Dirichlet.ToString(), VariableNames.Velocity_d(0), VelXInit);\n",
    "        C.AddBoundaryValue(IncompressibleBcType.Velocity_Inlet.ToString() + \"_\" + TurbulenceModelBcType.Dirichlet.ToString(), VariableNames.Velocity_d(1), new Formula(\"(X) => 0.0\", false));\n",
    "        C.AddBoundaryValue(IncompressibleBcType.Velocity_Inlet.ToString() + \"_\" + TurbulenceModelBcType.Dirichlet.ToString(), \"k\", kPolyInit); // kIn // kWall\n",
    "                         \n",
    "        C.AddBoundaryValue(IncompressibleBcType.Velocity_Inlet.ToString() + \"_\" + TurbulenceModelBcType.Dirichlet.ToString(), \"omega_tilde\",  omegaTildeInit); // omegaIn // omegaWall\n",
    "                          \n",
    "        // //C.AddBoundaryCondition(\"Velocity_inlet\",VariableNames.Pressure, Pressurefunction);\n",
    "        // C.AddBoundaryValue(\"Pressure_Outlet_neumann\");\n",
    "        C.AddBoundaryValue(IncompressibleBcType.Velocity_Inlet.ToString() + \"_\" + TurbulenceModelBcType.Dirichlet.ToString(), VariableNames.Pressure, new Formula(\"(X) => 1.0\", false));\n",
    "        C.AddBoundaryValue(IncompressibleBcType.Pressure_Outlet.ToString() + \"_\" + TurbulenceModelBcType.Neumann.ToString(), VariableNames.Pressure, new Formula(\"(X) => 0.0\", false));\n",
    "        // C.AddBoundaryValue(\"Pressure_Outlet_neumann\", \"k\", X =>\n",
    "        //                    kPolynomial (X,0)\n",
    "        //                    // kIn\n",
    "        //                    // kWall\n",
    "        //                    );\n",
    "        // C.AddBoundaryValue(\"Pressure_Outlet_neumann\", \"omega\", X =>\n",
    "        //                    omegaPolynomial (X,0)\n",
    "        //                    // omegaIn\n",
    "        //                    // omegaWall\n",
    "        //                    );\n",
    "        C.AddBoundaryValue(IncompressibleBcType.Pressure_Outlet.ToString() + \"_\" + TurbulenceModelBcType.Neumann.ToString());\n",
    "\n",
    "        // C.AddBoundaryValue(\"Wall_top\");\n",
    "        // C.AddBoundaryValue(\"Wall_bottom\");\n",
    "        // C.AddBoundaryValue(\"Velocity_inlet\");\n",
    "        // C.AddBoundaryValue(\"Pressure_Outlet_neumann\");\n",
    "    }\n",
    "    \n",
    "    \n",
    "    C.TracingNamespaces = \"*\";\n",
    "    \n",
    "    Controls.Add(C);\n",
    "    \n",
    "}\n",
    "}"
   ]
  },
  {
   "cell_type": "code",
   "execution_count": null,
   "metadata": {
    "dotnet_interactive": {
     "language": "csharp"
    }
   },
   "outputs": [],
   "source": [
    "int NC = Controls.Count;\n",
    "for(int i = 0; i < NC; i++) {\n",
    "    for(int j = 0; j < NC; j++) {\n",
    "        if(i == j)\n",
    "            Assert.IsTrue(Controls[i].Equals(Controls[j]), \"Control is not self-equal\");\n",
    "        else\n",
    "            Assert.IsFalse(Controls[i].Equals(Controls[j]), \"Different Control are wrongly equal\");\n",
    "    }\n",
    "}"
   ]
  },
  {
   "cell_type": "markdown",
   "metadata": {
    "dotnet_interactive": {
     "language": "csharp"
    }
   },
   "source": [
    "## Launch Jobs"
   ]
  },
  {
   "cell_type": "code",
   "execution_count": null,
   "metadata": {
    "dotnet_interactive": {
     "language": "csharp"
    }
   },
   "outputs": [],
   "source": [
    "Controls.ElementAt(0).SetDatabase(databases.Pick(2));"
   ]
  },
  {
   "cell_type": "code",
   "execution_count": null,
   "metadata": {
    "dotnet_interactive": {
     "language": "csharp"
    }
   },
   "outputs": [
    {
     "data": {
      "text/plain": [
       "{ Session Count = 3; Grid Count = 1; Path = \\\\hpccluster\\hpccluster-scratch\\smuda\\ChannelFlowKOmega }"
      ]
     },
     "metadata": {},
     "output_type": "display_data"
    }
   ],
   "source": [
    "Controls.ElementAt(0).GetDatabase()"
   ]
  },
  {
   "cell_type": "code",
   "execution_count": null,
   "metadata": {
    "dotnet_interactive": {
     "language": "csharp"
    }
   },
   "outputs": [
    {
     "name": "stdout",
     "output_type": "stream",
     "text": [
      "Deploying job CFKO_J162k3_p3_decoupled ... \r\n",
      "Deploying executables and additional files ...\r\n",
      "Deployment directory: \\\\hpccluster\\hpccluster-scratch\\smuda\\binaries\\ChannelFlowKOmega-KOmegaSolver2022May18_134854\r\n",
      "copied 46 files.\r\n",
      "   written file: control.obj\r\n",
      "deployment finished.\r\n",
      "\r\n"
     ]
    }
   ],
   "source": [
    "foreach(var ctrl in Controls) {\n",
    "    var oneJob              = ctrl.CreateJob();\n",
    "    oneJob.NumberOfMPIProcs = 1;\n",
    "    oneJob.Activate(myBatch); \n",
    "}"
   ]
  },
  {
   "cell_type": "code",
   "execution_count": null,
   "metadata": {
    "dotnet_interactive": {
     "language": "csharp"
    }
   },
   "outputs": [
    {
     "name": "stdout",
     "output_type": "stream",
     "text": [
      "Loading session 4c57ccf5-bbef-4526-bcf5-82c8996993f6 failed with message 'Could not find file '\\\\hpccluster\\hpccluster-scratch\\smuda\\ChannelFlowKOmega\\sessions\\4c57ccf5-bbef-4526-bcf5-82c8996993f6\\Session.info'.'\r\n",
      "Loading session 4c57ccf5-bbef-4526-bcf5-82c8996993f6 failed with message 'Could not find file '\\\\hpccluster\\hpccluster-scratch\\smuda\\ChannelFlowKOmega\\sessions\\4c57ccf5-bbef-4526-bcf5-82c8996993f6\\Session.info'.'\r\n"
     ]
    },
    {
     "data": {
      "text/plain": [
       "#0: CFKO_J162k3_p3_HomotopyApproach1: FinishedSuccessful (MS HPC client  FDY-WindowsHPC @DC2, @\\\\hpccluster\\hpccluster-scratch\\smuda\\binaries)\tCFKO_J162k3_p3_HomotopyApproach1: FinishedSuccessful (MS HPC client  FDY-WindowsHPC @DC2, @\\\\hpccluster\\hpccluster-scratch\\smuda\\binaries)\r\n",
       "#1: CFKO_J162k3_p3_HomotopyApproach2: InProgress (MS HPC client  FDY-WindowsHPC @DC2, @\\\\hpccluster\\hpccluster-scratch\\smuda\\binaries)\tCFKO_J162k3_p3_HomotopyApproach2: InProgress (MS HPC client  FDY-WindowsHPC @DC2, @\\\\hpccluster\\hpccluster-scratch\\smuda\\binaries)\r\n",
       "#2: CFKO_J162k3_p3_decoupled: InProgress (MS HPC client  FDY-WindowsHPC @DC2, @\\\\hpccluster\\hpccluster-scratch\\smuda\\binaries)\tCFKO_J162k3_p3_decoupled: InProgress (MS HPC client  FDY-WindowsHPC @DC2, @\\\\hpccluster\\hpccluster-scratch\\smuda\\binaries)\r\n"
      ]
     },
     "metadata": {},
     "output_type": "display_data"
    }
   ],
   "source": [
    "wmg.AllJobs"
   ]
  },
  {
   "cell_type": "code",
   "execution_count": null,
   "metadata": {
    "dotnet_interactive": {
     "language": "csharp"
    }
   },
   "outputs": [],
   "source": [
    "// wait for all jobs to finish (up to 5 days, check every 30 minutes)\n",
    "//BoSSSshell.WorkflowMgm.BlockUntilAllJobsTerminate(TimeOutSeconds:(3600), PollingIntervallSeconds:(60*30));"
   ]
  },
  {
   "cell_type": "code",
   "execution_count": null,
   "metadata": {
    "dotnet_interactive": {
     "language": "csharp"
    }
   },
   "outputs": [],
   "source": [
    "// detect failed Jobs in the job management\n",
    "/*\n",
    "var suspects = BoSSSshell.WorkflowMgm.AllJobs.Select(kv => kv.Value)\n",
    "    .Where(job => job.LatestSession.Tags.Contains(SessionInfo.NOT_TERMINATED_TAG)\n",
    "                  || job.LatestSession.Tags.Contains(SessionInfo.SOLVER_ERROR)).ToArray();\n",
    "suspects\n",
    "*/"
   ]
  },
  {
   "cell_type": "code",
   "execution_count": null,
   "metadata": {
    "dotnet_interactive": {
     "language": "csharp"
    }
   },
   "outputs": [],
   "source": [
    "//suspects.Count()"
   ]
  },
  {
   "cell_type": "code",
   "execution_count": null,
   "metadata": {
    "dotnet_interactive": {
     "language": "csharp"
    }
   },
   "outputs": [],
   "source": [
    "//NUnit.Framework.Assert.IsTrue(suspects.Count() <= 0, $\"{suspects.Count()} Failed Jobs of {BoSSSshell.WorkflowMgm.AllJobs.Count()} in total.\");"
   ]
  },
  {
   "cell_type": "markdown",
   "metadata": {},
   "source": [
    "### Inspect the output of some arbitrary job:"
   ]
  },
  {
   "cell_type": "code",
   "execution_count": null,
   "metadata": {
    "dotnet_interactive": {
     "language": "csharp"
    }
   },
   "outputs": [],
   "source": [
    "//BoSSSshell.WorkflowMgm.AllJobs.First().Value.ShowOutput();"
   ]
  },
  {
   "cell_type": "code",
   "execution_count": null,
   "metadata": {
    "dotnet_interactive": {
     "language": "csharp"
    }
   },
   "outputs": [],
   "source": [
    "//wmg.Sessions[0].Export().WithSupersampling(2).Do()"
   ]
  },
  {
   "cell_type": "code",
   "execution_count": null,
   "metadata": {
    "dotnet_interactive": {
     "language": "csharp"
    }
   },
   "outputs": [],
   "source": [
    "//wmg.Sessions.Pick(0).Timesteps"
   ]
  },
  {
   "cell_type": "code",
   "execution_count": null,
   "metadata": {
    "dotnet_interactive": {
     "language": "csharp"
    }
   },
   "outputs": [],
   "source": []
  }
 ],
 "metadata": {
  "kernelspec": {
   "display_name": ".NET (C#)",
   "language": "C#",
   "name": ".net-csharp"
  },
  "language_info": {
   "file_extension": ".cs",
   "mimetype": "text/x-csharp",
   "name": "C#",
   "pygments_lexer": "csharp",
   "version": "9.0"
  }
 },
 "nbformat": 4,
 "nbformat_minor": 4
}
