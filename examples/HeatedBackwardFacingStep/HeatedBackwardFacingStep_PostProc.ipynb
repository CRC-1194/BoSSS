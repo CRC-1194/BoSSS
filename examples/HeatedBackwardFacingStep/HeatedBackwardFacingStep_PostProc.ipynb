{
  "cells": [
    {
      "cell_type": "code",
      "execution_count": null,
      "metadata": {
        "dotnet_interactive": {
          "language": "csharp"
        }
      },
      "outputs": [],
      "source": [
        "#r \"D:\\BoSSS2\\experimental\\public\\src\\L4-application\\BoSSSpad\\bin\\Release\\net5.0\\bossspad.dll\"\n",
        "// #r \"BoSSSpad.dll\"\n",
        "using System;\n",
        "using System.Collections.Generic;\n",
        "using System.Linq;\n",
        "using System.IO;\n",
        "using System.Data;\n",
        "using System.Globalization;\n",
        "using System.Threading;\n",
        "using ilPSP;\n",
        "using ilPSP.Utils;\n",
        "using BoSSS.Platform;\n",
        "using BoSSS.Foundation;\n",
        "using BoSSS.Foundation.Grid;\n",
        "using BoSSS.Foundation.Grid.Classic;\n",
        "using BoSSS.Foundation.IO;\n",
        "using BoSSS.Solution;\n",
        "using BoSSS.Solution.Control;\n",
        "using BoSSS.Solution.GridImport;\n",
        "using BoSSS.Solution.Statistic;\n",
        "using BoSSS.Solution.Utils;\n",
        "using BoSSS.Solution.Gnuplot;\n",
        "using BoSSS.Application.BoSSSpad;\n",
        "using BoSSS.Application.XNSE_Solver;\n",
        "using static BoSSS.Application.BoSSSpad.BoSSSshell;\n",
        "using BoSSS.Foundation.Grid.RefElements;\n",
        "using BoSSS.Platform.LinAlg;\n",
        "using BoSSS.Solution.NSECommon;\n",
        "using BoSSS.Application.XNSEC;\n",
        "Init();"
      ]
    },
    {
      "cell_type": "code",
      "execution_count": null,
      "metadata": {
        "dotnet_interactive": {
          "language": "csharp"
        }
      },
      "outputs": [],
      "source": [
        "using BoSSS.Foundation.Quadrature;\n",
        "using BoSSS.Foundation.XDG;\n",
        "using MathNet.Numerics;\n",
        "using MathNet.Numerics.Interpolation;\n",
        "using MathNet.Numerics.RootFinding;"
      ]
    },
    {
      "cell_type": "code",
      "execution_count": null,
      "metadata": {
        "dotnet_interactive": {
          "language": "csharp"
        }
      },
      "outputs": [],
      "source": [
        "// var myDb = OpenOrCreateDatabase(@\"C:\\Databases\\HeatedCavity_RayleighSweepStudy\");\n",
        "var myDb = OpenOrCreateDatabase(@\"C:\\Databases\\HeatedBackwardFacingStep_longCalc2\");"
      ]
    },
    {
      "cell_type": "code",
      "execution_count": null,
      "metadata": {
        "dotnet_interactive": {
          "language": "csharp"
        }
      },
      "outputs": [],
      "source": [
        "myDb.Sessions[0].Timesteps[0].Fields.ForEach(F=>Console.WriteLine(F.Identification))"
      ]
    },
    {
      "cell_type": "code",
      "execution_count": null,
      "metadata": {
        "dotnet_interactive": {
          "language": "csharp"
        }
      },
      "outputs": [
        {
          "data": {
            "text/plain": [
              "Temperature"
            ]
          },
          "metadata": {},
          "output_type": "display_data"
        }
      ],
      "source": [
        "myDb.Sessions[0].Timesteps[0].Fields.Where(F=>F.Identification == \"Temperature\").SingleOrDefault()"
      ]
    },
    {
      "cell_type": "code",
      "execution_count": null,
      "metadata": {
        "dotnet_interactive": {
          "language": "csharp"
        }
      },
      "outputs": [],
      "source": [
        "static public CubicSpline SplineOnEdge(EdgeMask em, DGField field, out double lower_Bound, out double upper_Bound, double offset = 0.0, int d = 0){\n",
        "\n",
        "    var grd = field.GridDat;\n",
        "\n",
        "    List<double> nodes = new List<double>();\n",
        "    List<double> values = new List<double>();\n",
        "\n",
        "    EdgeQuadrature.GetQuadrature(new int[] { 1 }, grd,\n",
        "        (new EdgeQuadratureScheme(true, em)).Compile(grd, field.Basis.Degree * 2),\n",
        "        delegate (int i0, int Length, QuadRule QR, MultidimensionalArray EvalResult) {        \n",
        "\n",
        "            MultidimensionalArray DummyIN = MultidimensionalArray.Create(Length, QR.NoOfNodes);\n",
        "            MultidimensionalArray DummyOT = MultidimensionalArray.Create(Length, QR.NoOfNodes);        \n",
        "\n",
        "            MultidimensionalArray GlobalNodes = MultidimensionalArray.Create(Length, QR.NoOfNodes, 2);        \n",
        "            \n",
        "            if(field is XDGField xField){\n",
        "                xField.GetSpeciesShadowField(\"A\").EvaluateEdge(i0, Length, QR.Nodes, DummyIN, DummyOT, null, null, null, null, 0, 0.0); \n",
        "            } else{\n",
        "                field.EvaluateEdge(i0, Length, QR.Nodes, DummyIN, DummyOT, null, null, null, null, 0, 0.0); \n",
        "            }  \n",
        "\n",
        "            for(int i = 0; i < Length; i++){  \n",
        "                int iTrafo = ((GridData)grd).Edges.Edge2CellTrafoIndex[i0+i, 0];\n",
        "                NodeSet volNodeSet = QR.Nodes.GetVolumeNodeSet(grd, iTrafo);\n",
        "                int jCell = ((GridData)grd).Edges.CellIndices[i0+i, 0];\n",
        "                grd.TransformLocal2Global(volNodeSet, jCell, 1, GlobalNodes, i);          \n",
        "                int K = QR.NoOfNodes;\n",
        "                for(int k = 0; k < K; k++){\n",
        "                    nodes.Add(GlobalNodes[i, k, d]);\n",
        "                    values.Add(DummyIN[i, k] - offset);\n",
        "                }\n",
        "            }\n",
        "\n",
        "        },delegate (int i0, int Length, MultidimensionalArray ResultsOfIntegration) {\n",
        "        }).Execute(); \n",
        "\n",
        "    lower_Bound = nodes.Min();\n",
        "    upper_Bound = nodes.Max();\n",
        "\n",
        "    return CubicSpline.InterpolateAkima(nodes.ToArray(), values.ToArray());\n",
        "}"
      ]
    },
    {
      "cell_type": "code",
      "execution_count": null,
      "metadata": {
        "dotnet_interactive": {
          "language": "csharp"
        }
      },
      "outputs": [],
      "source": [
        "// Finds the position where the specified field assumes the given value\n",
        "static public double PosOfValueOnEdge(double value, EdgeMask em, DGField field, int d = 0){    \n",
        "    \n",
        "    var Spline = SplineOnEdge(em, field, out double lB, out double uB, value, d);\n",
        "    double root = Bisection.FindRoot(t => Spline.Interpolate(t), lB, uB);    \n",
        "    \n",
        "    return root;\n",
        "}\n",
        "\n",
        "// Finds the position where the specified field assumes an extremum, in the given direction\n",
        "static public double PosOfExtremumOnEdge(EdgeMask em, DGField field, int d){    \n",
        "\n",
        "    var dField = field.CloneAs();\n",
        "    dField.Clear();\n",
        "    dField.Derivative(1.0, field, d);\n",
        "    \n",
        "    double root = PosOfValueOnEdge(0.0, em, dField, d);\n",
        "    \n",
        "    return root;\n",
        "}"
      ]
    },
    {
      "cell_type": "code",
      "execution_count": null,
      "metadata": {
        "dotnet_interactive": {
          "language": "csharp"
        }
      },
      "outputs": [],
      "source": []
    },
    {
      "cell_type": "markdown",
      "metadata": {},
      "source": [
        "Calculation of Local Nusselt Number $\\text{Nu} := \\frac{S}{T0-T1}\\vec{n}\\cdot \\nabla T$\n"
      ]
    },
    {
      "cell_type": "code",
      "execution_count": null,
      "metadata": {
        "dotnet_interactive": {
          "language": "csharp"
        }
      },
      "outputs": [],
      "source": [
        "\n",
        "static public double[] LocalNusseltNumber(ISessionInfo si, double[] coordinates, double deltaT, int dirGradient, int dirSpline ) {\n",
        "    DGField Temperature       = si.Timesteps.Last().Fields.Where(f => f.Identification == \"Temperature\").SingleOrDefault();\n",
        "    var grd = (GridData)Temperature.GridDat;\n",
        "    Console.WriteLine(\"1\");\n",
        "    var GradT_d = (DGField)Temperature.Clone();\n",
        "    GradT_d.Clear();\n",
        "    GradT_d.Derivative(1.0, Temperature, dirGradient);\n",
        "\n",
        "    if(dirGradient == dirSpline){\n",
        "    throw new Exception();\n",
        "}\n",
        "    EdgeMask em = new EdgeMask(grd, X => X[1] + 0.0 < 1e-12); //\n",
        "    Console.WriteLine(\"2\");\n",
        "    var spline = SplineOnEdge(em, GradT_d, out double _a, out double  _b, d:dirSpline);\n",
        "    Console.WriteLine(\"3\");\n",
        "    \n",
        "    double[] Nusselt = new double[coordinates.Length];\n",
        "    for(int i = 0; i < coordinates.Length; i++){\n",
        "        double GradT = spline.Interpolate(coordinates[i]);    \n",
        "        Nusselt[i] = GradT/deltaT;\n",
        "    }   \n",
        "    Console.WriteLine(\"4\");\n",
        "    return Nusselt;\n",
        "}"
      ]
    },
    {
      "cell_type": "code",
      "execution_count": null,
      "metadata": {
        "dotnet_interactive": {
          "language": "csharp"
        }
      },
      "outputs": [
        {
          "name": "stdout",
          "output_type": "stream",
          "text": [
            "1\r\n",
            "2\r\n",
            "3\r\n",
            "4\r\n"
          ]
        }
      ],
      "source": [
        "var sess = myDb.Sessions[0];\n",
        "double[] x = GenericBlas.Linspace(0,50, 500);\n",
        "var res = LocalNusseltNumber(sess, x, 1.2, 1, 0 );\n",
        "\n"
      ]
    },
    {
      "cell_type": "code",
      "execution_count": null,
      "metadata": {
        "dotnet_interactive": {
          "language": "csharp"
        }
      },
      "outputs": [],
      "source": [
        "for(int i = 0;i < res.Length;i++){\n",
        "// res[i] = res[i]*-1;\n",
        "res[i] = res[i]*-1;\n",
        "\n",
        "}"
      ]
    },
    {
      "cell_type": "code",
      "execution_count": null,
      "metadata": {
        "dotnet_interactive": {
          "language": "csharp"
        }
      },
      "outputs": [],
      "source": [
        "LineColors[]  allColors = Enum.GetValues(typeof(LineColors)).Cast<LineColors>().ToArray();\n",
        "PointTypes[] myPointTypes = new PointTypes[]{ PointTypes.Diamond, PointTypes.Box,  PointTypes.LowerTriangle,PointTypes.OpenLowerTriangle, };\n",
        "var plot = new Plot2Ddata();\n",
        "var fmt = new PlotFormat();\n",
        "fmt.Style = Styles.Lines;\n",
        "fmt.PointType =  PointTypes.Diamond;\n",
        "fmt.LineColor = LineColors.Blue;\n",
        "plot.AddDataGroup( \"Nu_h\",x, res, fmt);"
      ]
    },
    {
      "cell_type": "code",
      "execution_count": null,
      "metadata": {
        "dotnet_interactive": {
          "language": "csharp"
        }
      },
      "outputs": [
        {
          "name": "stdout",
          "output_type": "stream",
          "text": [
            "Using gnuplot: C:\\Program Files (x86)\\FDY\\BoSSS\\bin\\native\\win\\gnuplot-gp510-20160418-win32-mingw\\gnuplot\\bin\\gnuplot.exe\r\n",
            "set key font \",16\" Left reverse \r\n"
          ]
        },
        {
          "data": {
            "text/html": [
              "<?xml version=\"1.0\" encoding=\"utf-8\"  standalone=\"no\"?>\n",
              "<!DOCTYPE svg PUBLIC \"-//W3C//DTD SVG 1.1//EN\"\n",
              " \"http://www.w3.org/Graphics/SVG/1.1/DTD/svg11.dtd\">\n",
              "<svg \n",
              " width=\"800\" height=\"500\"\n",
              " viewBox=\"0 0 800 500\"\n",
              " xmlns=\"http://www.w3.org/2000/svg\"\n",
              " xmlns:xlink=\"http://www.w3.org/1999/xlink\"\n",
              ">\n",
              "\n",
              "<title>Gnuplot</title>\n",
              "<desc>Produced by GNUPLOT 5.1 patchlevel 0 </desc>\n",
              "\n",
              "<g id=\"gnuplot_canvas\">\n",
              "\n",
              "<rect x=\"0\" y=\"0\" width=\"800\" height=\"500\" fill=\"#ffffff\"/>\n",
              "<defs>\n",
              "\n",
              "\t<circle id='gpDot' r='0.5' stroke-width='0.5'/>\n",
              "\t<path id='gpPt0' stroke-width='0.222' stroke='currentColor' d='M-1,0 h2 M0,-1 v2'/>\n",
              "\t<path id='gpPt1' stroke-width='0.222' stroke='currentColor' d='M-1,-1 L1,1 M1,-1 L-1,1'/>\n",
              "\t<path id='gpPt2' stroke-width='0.222' stroke='currentColor' d='M-1,0 L1,0 M0,-1 L0,1 M-1,-1 L1,1 M-1,1 L1,-1'/>\n",
              "\t<rect id='gpPt3' stroke-width='0.222' stroke='currentColor' x='-1' y='-1' width='2' height='2'/>\n",
              "\t<rect id='gpPt4' stroke-width='0.222' stroke='currentColor' fill='currentColor' x='-1' y='-1' width='2' height='2'/>\n",
              "\t<circle id='gpPt5' stroke-width='0.222' stroke='currentColor' cx='0' cy='0' r='1'/>\n",
              "\t<use xlink:href='#gpPt5' id='gpPt6' fill='currentColor' stroke='none'/>\n",
              "\t<path id='gpPt7' stroke-width='0.222' stroke='currentColor' d='M0,-1.33 L-1.33,0.67 L1.33,0.67 z'/>\n",
              "\t<use xlink:href='#gpPt7' id='gpPt8' fill='currentColor' stroke='none'/>\n",
              "\t<use xlink:href='#gpPt7' id='gpPt9' stroke='currentColor' transform='rotate(180)'/>\n",
              "\t<use xlink:href='#gpPt9' id='gpPt10' fill='currentColor' stroke='none'/>\n",
              "\t<use xlink:href='#gpPt3' id='gpPt11' stroke='currentColor' transform='rotate(45)'/>\n",
              "\t<use xlink:href='#gpPt11' id='gpPt12' fill='currentColor' stroke='none'/>\n",
              "\t<path id='gpPt13' stroke-width='0.222' stroke='currentColor' d='M0,1.330 L1.265,0.411 L0.782,-1.067 L-0.782,-1.076 L-1.265,0.411 z'/>\n",
              "\t<use xlink:href='#gpPt13' id='gpPt14' fill='currentColor' stroke='none'/>\n",
              "\t<filter id='textbox' filterUnits='objectBoundingBox' x='0' y='0' height='1' width='1'>\n",
              "\t  <feFlood flood-color='#FFFFFF' flood-opacity='1' result='bgnd'/>\n",
              "\t  <feComposite in='SourceGraphic' in2='bgnd' operator='atop'/>\n",
              "\t</filter>\n",
              "\t<filter id='greybox' filterUnits='objectBoundingBox' x='0' y='0' height='1' width='1'>\n",
              "\t  <feFlood flood-color='lightgrey' flood-opacity='1' result='grey'/>\n",
              "\t  <feComposite in='SourceGraphic' in2='grey' operator='atop'/>\n",
              "\t</filter>\n",
              "</defs>\n",
              "<g fill=\"none\" color=\"#FFFFFF\" stroke=\"currentColor\" stroke-width=\"1.00\" stroke-linecap=\"butt\" stroke-linejoin=\"miter\">\n",
              "</g>\n",
              "<g fill=\"none\" color=\"black\" stroke=\"currentColor\" stroke-width=\"1.00\" stroke-linecap=\"butt\" stroke-linejoin=\"miter\">\n",
              "\t<path stroke='black'  d='M53.9,464.0 L62.9,464.0 M750.1,464.0 L741.1,464.0  '/>\t<g transform=\"translate(45.6,468.5)\" stroke=\"none\" fill=\"black\" font-family=\"Arial\" font-size=\"12.00\"  text-anchor=\"end\">\n",
              "\t\t<text><tspan font-family=\"Arial\" > 0.2</tspan></text>\n",
              "\t</g>\n",
              "</g>\n",
              "<g fill=\"none\" color=\"black\" stroke=\"currentColor\" stroke-width=\"1.00\" stroke-linecap=\"butt\" stroke-linejoin=\"miter\">\n",
              "\t<path stroke='black'  d='M53.9,416.5 L62.9,416.5 M750.1,416.5 L741.1,416.5  '/>\t<g transform=\"translate(45.6,421.0)\" stroke=\"none\" fill=\"black\" font-family=\"Arial\" font-size=\"12.00\"  text-anchor=\"end\">\n",
              "\t\t<text><tspan font-family=\"Arial\" > 0.4</tspan></text>\n",
              "\t</g>\n",
              "</g>\n",
              "<g fill=\"none\" color=\"black\" stroke=\"currentColor\" stroke-width=\"1.00\" stroke-linecap=\"butt\" stroke-linejoin=\"miter\">\n",
              "\t<path stroke='black'  d='M53.9,368.9 L62.9,368.9 M750.1,368.9 L741.1,368.9  '/>\t<g transform=\"translate(45.6,373.4)\" stroke=\"none\" fill=\"black\" font-family=\"Arial\" font-size=\"12.00\"  text-anchor=\"end\">\n",
              "\t\t<text><tspan font-family=\"Arial\" > 0.6</tspan></text>\n",
              "\t</g>\n",
              "</g>\n",
              "<g fill=\"none\" color=\"black\" stroke=\"currentColor\" stroke-width=\"1.00\" stroke-linecap=\"butt\" stroke-linejoin=\"miter\">\n",
              "\t<path stroke='black'  d='M53.9,321.4 L62.9,321.4 M750.1,321.4 L741.1,321.4  '/>\t<g transform=\"translate(45.6,325.9)\" stroke=\"none\" fill=\"black\" font-family=\"Arial\" font-size=\"12.00\"  text-anchor=\"end\">\n",
              "\t\t<text><tspan font-family=\"Arial\" > 0.8</tspan></text>\n",
              "\t</g>\n",
              "</g>\n",
              "<g fill=\"none\" color=\"black\" stroke=\"currentColor\" stroke-width=\"1.00\" stroke-linecap=\"butt\" stroke-linejoin=\"miter\">\n",
              "\t<path stroke='black'  d='M53.9,273.8 L62.9,273.8 M750.1,273.8 L741.1,273.8  '/>\t<g transform=\"translate(45.6,278.3)\" stroke=\"none\" fill=\"black\" font-family=\"Arial\" font-size=\"12.00\"  text-anchor=\"end\">\n",
              "\t\t<text><tspan font-family=\"Arial\" > 1</tspan></text>\n",
              "\t</g>\n",
              "</g>\n",
              "<g fill=\"none\" color=\"black\" stroke=\"currentColor\" stroke-width=\"1.00\" stroke-linecap=\"butt\" stroke-linejoin=\"miter\">\n",
              "\t<path stroke='black'  d='M53.9,226.3 L62.9,226.3 M750.1,226.3 L741.1,226.3  '/>\t<g transform=\"translate(45.6,230.8)\" stroke=\"none\" fill=\"black\" font-family=\"Arial\" font-size=\"12.00\"  text-anchor=\"end\">\n",
              "\t\t<text><tspan font-family=\"Arial\" > 1.2</tspan></text>\n",
              "\t</g>\n",
              "</g>\n",
              "<g fill=\"none\" color=\"black\" stroke=\"currentColor\" stroke-width=\"1.00\" stroke-linecap=\"butt\" stroke-linejoin=\"miter\">\n",
              "\t<path stroke='black'  d='M53.9,178.7 L62.9,178.7 M750.1,178.7 L741.1,178.7  '/>\t<g transform=\"translate(45.6,183.2)\" stroke=\"none\" fill=\"black\" font-family=\"Arial\" font-size=\"12.00\"  text-anchor=\"end\">\n",
              "\t\t<text><tspan font-family=\"Arial\" > 1.4</tspan></text>\n",
              "\t</g>\n",
              "</g>\n",
              "<g fill=\"none\" color=\"black\" stroke=\"currentColor\" stroke-width=\"1.00\" stroke-linecap=\"butt\" stroke-linejoin=\"miter\">\n",
              "\t<path stroke='black'  d='M53.9,131.2 L62.9,131.2 M750.1,131.2 L741.1,131.2  '/>\t<g transform=\"translate(45.6,135.7)\" stroke=\"none\" fill=\"black\" font-family=\"Arial\" font-size=\"12.00\"  text-anchor=\"end\">\n",
              "\t\t<text><tspan font-family=\"Arial\" > 1.6</tspan></text>\n",
              "\t</g>\n",
              "</g>\n",
              "<g fill=\"none\" color=\"black\" stroke=\"currentColor\" stroke-width=\"1.00\" stroke-linecap=\"butt\" stroke-linejoin=\"miter\">\n",
              "\t<path stroke='black'  d='M53.9,83.6 L62.9,83.6 M750.1,83.6 L741.1,83.6  '/>\t<g transform=\"translate(45.6,88.1)\" stroke=\"none\" fill=\"black\" font-family=\"Arial\" font-size=\"12.00\"  text-anchor=\"end\">\n",
              "\t\t<text><tspan font-family=\"Arial\" > 1.8</tspan></text>\n",
              "\t</g>\n",
              "</g>\n",
              "<g fill=\"none\" color=\"black\" stroke=\"currentColor\" stroke-width=\"1.00\" stroke-linecap=\"butt\" stroke-linejoin=\"miter\">\n",
              "\t<path stroke='black'  d='M53.9,36.1 L62.9,36.1 M750.1,36.1 L741.1,36.1  '/>\t<g transform=\"translate(45.6,40.6)\" stroke=\"none\" fill=\"black\" font-family=\"Arial\" font-size=\"12.00\"  text-anchor=\"end\">\n",
              "\t\t<text><tspan font-family=\"Arial\" > 2</tspan></text>\n",
              "\t</g>\n",
              "</g>\n",
              "<g fill=\"none\" color=\"black\" stroke=\"currentColor\" stroke-width=\"1.00\" stroke-linecap=\"butt\" stroke-linejoin=\"miter\">\n",
              "\t<path stroke='black'  d='M53.9,464.0 L53.9,455.0 M53.9,36.1 L53.9,45.1  '/>\t<g transform=\"translate(53.9,486.5)\" stroke=\"none\" fill=\"black\" font-family=\"Arial\" font-size=\"12.00\"  text-anchor=\"middle\">\n",
              "\t\t<text><tspan font-family=\"Arial\" > 0</tspan></text>\n",
              "\t</g>\n",
              "</g>\n",
              "<g fill=\"none\" color=\"black\" stroke=\"currentColor\" stroke-width=\"1.00\" stroke-linecap=\"butt\" stroke-linejoin=\"miter\">\n",
              "\t<path stroke='black'  d='M193.1,464.0 L193.1,455.0 M193.1,36.1 L193.1,45.1  '/>\t<g transform=\"translate(193.1,486.5)\" stroke=\"none\" fill=\"black\" font-family=\"Arial\" font-size=\"12.00\"  text-anchor=\"middle\">\n",
              "\t\t<text><tspan font-family=\"Arial\" > 10</tspan></text>\n",
              "\t</g>\n",
              "</g>\n",
              "<g fill=\"none\" color=\"black\" stroke=\"currentColor\" stroke-width=\"1.00\" stroke-linecap=\"butt\" stroke-linejoin=\"miter\">\n",
              "\t<path stroke='black'  d='M332.4,464.0 L332.4,455.0 M332.4,36.1 L332.4,45.1  '/>\t<g transform=\"translate(332.4,486.5)\" stroke=\"none\" fill=\"black\" font-family=\"Arial\" font-size=\"12.00\"  text-anchor=\"middle\">\n",
              "\t\t<text><tspan font-family=\"Arial\" > 20</tspan></text>\n",
              "\t</g>\n",
              "</g>\n",
              "<g fill=\"none\" color=\"black\" stroke=\"currentColor\" stroke-width=\"1.00\" stroke-linecap=\"butt\" stroke-linejoin=\"miter\">\n",
              "\t<path stroke='black'  d='M471.6,464.0 L471.6,455.0 M471.6,36.1 L471.6,45.1  '/>\t<g transform=\"translate(471.6,486.5)\" stroke=\"none\" fill=\"black\" font-family=\"Arial\" font-size=\"12.00\"  text-anchor=\"middle\">\n",
              "\t\t<text><tspan font-family=\"Arial\" > 30</tspan></text>\n",
              "\t</g>\n",
              "</g>\n",
              "<g fill=\"none\" color=\"black\" stroke=\"currentColor\" stroke-width=\"1.00\" stroke-linecap=\"butt\" stroke-linejoin=\"miter\">\n",
              "\t<path stroke='black'  d='M610.9,464.0 L610.9,455.0 M610.9,36.1 L610.9,45.1  '/>\t<g transform=\"translate(610.9,486.5)\" stroke=\"none\" fill=\"black\" font-family=\"Arial\" font-size=\"12.00\"  text-anchor=\"middle\">\n",
              "\t\t<text><tspan font-family=\"Arial\" > 40</tspan></text>\n",
              "\t</g>\n",
              "</g>\n",
              "<g fill=\"none\" color=\"black\" stroke=\"currentColor\" stroke-width=\"1.00\" stroke-linecap=\"butt\" stroke-linejoin=\"miter\">\n",
              "\t<path stroke='black'  d='M750.1,464.0 L750.1,455.0 M750.1,36.1 L750.1,45.1  '/>\t<g transform=\"translate(750.1,486.5)\" stroke=\"none\" fill=\"black\" font-family=\"Arial\" font-size=\"12.00\"  text-anchor=\"middle\">\n",
              "\t\t<text><tspan font-family=\"Arial\" > 50</tspan></text>\n",
              "\t</g>\n",
              "</g>\n",
              "<g fill=\"none\" color=\"black\" stroke=\"currentColor\" stroke-width=\"1.00\" stroke-linecap=\"butt\" stroke-linejoin=\"miter\">\n",
              "\t<path stroke='black'  d='M750.1,464.0 L741.1,464.0  '/>\t<g transform=\"translate(758.4,468.5)\" stroke=\"none\" fill=\"black\" font-family=\"Arial\" font-size=\"12.00\"  text-anchor=\"start\">\n",
              "\t\t<text><tspan font-family=\"Arial\" > </tspan></text>\n",
              "\t</g>\n",
              "</g>\n",
              "<g fill=\"none\" color=\"black\" stroke=\"currentColor\" stroke-width=\"1.00\" stroke-linecap=\"butt\" stroke-linejoin=\"miter\">\n",
              "\t<path stroke='black'  d='M750.1,416.5 L741.1,416.5  '/>\t<g transform=\"translate(758.4,421.0)\" stroke=\"none\" fill=\"black\" font-family=\"Arial\" font-size=\"12.00\"  text-anchor=\"start\">\n",
              "\t\t<text><tspan font-family=\"Arial\" > </tspan></text>\n",
              "\t</g>\n",
              "</g>\n",
              "<g fill=\"none\" color=\"black\" stroke=\"currentColor\" stroke-width=\"1.00\" stroke-linecap=\"butt\" stroke-linejoin=\"miter\">\n",
              "\t<path stroke='black'  d='M750.1,368.9 L741.1,368.9  '/>\t<g transform=\"translate(758.4,373.4)\" stroke=\"none\" fill=\"black\" font-family=\"Arial\" font-size=\"12.00\"  text-anchor=\"start\">\n",
              "\t\t<text><tspan font-family=\"Arial\" > </tspan></text>\n",
              "\t</g>\n",
              "</g>\n",
              "<g fill=\"none\" color=\"black\" stroke=\"currentColor\" stroke-width=\"1.00\" stroke-linecap=\"butt\" stroke-linejoin=\"miter\">\n",
              "\t<path stroke='black'  d='M750.1,321.4 L741.1,321.4  '/>\t<g transform=\"translate(758.4,325.9)\" stroke=\"none\" fill=\"black\" font-family=\"Arial\" font-size=\"12.00\"  text-anchor=\"start\">\n",
              "\t\t<text><tspan font-family=\"Arial\" > </tspan></text>\n",
              "\t</g>\n",
              "</g>\n",
              "<g fill=\"none\" color=\"black\" stroke=\"currentColor\" stroke-width=\"1.00\" stroke-linecap=\"butt\" stroke-linejoin=\"miter\">\n",
              "\t<path stroke='black'  d='M750.1,273.8 L741.1,273.8  '/>\t<g transform=\"translate(758.4,278.3)\" stroke=\"none\" fill=\"black\" font-family=\"Arial\" font-size=\"12.00\"  text-anchor=\"start\">\n",
              "\t\t<text><tspan font-family=\"Arial\" > </tspan></text>\n",
              "\t</g>\n",
              "</g>\n",
              "<g fill=\"none\" color=\"black\" stroke=\"currentColor\" stroke-width=\"1.00\" stroke-linecap=\"butt\" stroke-linejoin=\"miter\">\n",
              "\t<path stroke='black'  d='M750.1,226.3 L741.1,226.3  '/>\t<g transform=\"translate(758.4,230.8)\" stroke=\"none\" fill=\"black\" font-family=\"Arial\" font-size=\"12.00\"  text-anchor=\"start\">\n",
              "\t\t<text><tspan font-family=\"Arial\" > </tspan></text>\n",
              "\t</g>\n",
              "</g>\n",
              "<g fill=\"none\" color=\"black\" stroke=\"currentColor\" stroke-width=\"1.00\" stroke-linecap=\"butt\" stroke-linejoin=\"miter\">\n",
              "\t<path stroke='black'  d='M750.1,178.7 L741.1,178.7  '/>\t<g transform=\"translate(758.4,183.2)\" stroke=\"none\" fill=\"black\" font-family=\"Arial\" font-size=\"12.00\"  text-anchor=\"start\">\n",
              "\t\t<text><tspan font-family=\"Arial\" > </tspan></text>\n",
              "\t</g>\n",
              "</g>\n",
              "<g fill=\"none\" color=\"black\" stroke=\"currentColor\" stroke-width=\"1.00\" stroke-linecap=\"butt\" stroke-linejoin=\"miter\">\n",
              "\t<path stroke='black'  d='M750.1,131.2 L741.1,131.2  '/>\t<g transform=\"translate(758.4,135.7)\" stroke=\"none\" fill=\"black\" font-family=\"Arial\" font-size=\"12.00\"  text-anchor=\"start\">\n",
              "\t\t<text><tspan font-family=\"Arial\" > </tspan></text>\n",
              "\t</g>\n",
              "</g>\n",
              "<g fill=\"none\" color=\"black\" stroke=\"currentColor\" stroke-width=\"1.00\" stroke-linecap=\"butt\" stroke-linejoin=\"miter\">\n",
              "\t<path stroke='black'  d='M750.1,83.6 L741.1,83.6  '/>\t<g transform=\"translate(758.4,88.1)\" stroke=\"none\" fill=\"black\" font-family=\"Arial\" font-size=\"12.00\"  text-anchor=\"start\">\n",
              "\t\t<text><tspan font-family=\"Arial\" > </tspan></text>\n",
              "\t</g>\n",
              "</g>\n",
              "<g fill=\"none\" color=\"black\" stroke=\"currentColor\" stroke-width=\"1.00\" stroke-linecap=\"butt\" stroke-linejoin=\"miter\">\n",
              "\t<path stroke='black'  d='M750.1,36.1 L741.1,36.1  '/>\t<g transform=\"translate(758.4,40.6)\" stroke=\"none\" fill=\"black\" font-family=\"Arial\" font-size=\"12.00\"  text-anchor=\"start\">\n",
              "\t\t<text><tspan font-family=\"Arial\" > </tspan></text>\n",
              "\t</g>\n",
              "</g>\n",
              "<g fill=\"none\" color=\"black\" stroke=\"currentColor\" stroke-width=\"1.00\" stroke-linecap=\"butt\" stroke-linejoin=\"miter\">\n",
              "\t<path stroke='black'  d='M53.9,36.1 L53.9,45.1  '/>\t<g transform=\"translate(53.9,22.6)\" stroke=\"none\" fill=\"black\" font-family=\"Arial\" font-size=\"12.00\"  text-anchor=\"middle\">\n",
              "\t\t<text><tspan font-family=\"Arial\" > </tspan></text>\n",
              "\t</g>\n",
              "</g>\n",
              "<g fill=\"none\" color=\"black\" stroke=\"currentColor\" stroke-width=\"1.00\" stroke-linecap=\"butt\" stroke-linejoin=\"miter\">\n",
              "\t<path stroke='black'  d='M193.1,36.1 L193.1,45.1  '/>\t<g transform=\"translate(193.1,22.6)\" stroke=\"none\" fill=\"black\" font-family=\"Arial\" font-size=\"12.00\"  text-anchor=\"middle\">\n",
              "\t\t<text><tspan font-family=\"Arial\" > </tspan></text>\n",
              "\t</g>\n",
              "</g>\n",
              "<g fill=\"none\" color=\"black\" stroke=\"currentColor\" stroke-width=\"1.00\" stroke-linecap=\"butt\" stroke-linejoin=\"miter\">\n",
              "\t<path stroke='black'  d='M332.4,36.1 L332.4,45.1  '/>\t<g transform=\"translate(332.4,22.6)\" stroke=\"none\" fill=\"black\" font-family=\"Arial\" font-size=\"12.00\"  text-anchor=\"middle\">\n",
              "\t\t<text><tspan font-family=\"Arial\" > </tspan></text>\n",
              "\t</g>\n",
              "</g>\n",
              "<g fill=\"none\" color=\"black\" stroke=\"currentColor\" stroke-width=\"1.00\" stroke-linecap=\"butt\" stroke-linejoin=\"miter\">\n",
              "\t<path stroke='black'  d='M471.6,36.1 L471.6,45.1  '/>\t<g transform=\"translate(471.6,22.6)\" stroke=\"none\" fill=\"black\" font-family=\"Arial\" font-size=\"12.00\"  text-anchor=\"middle\">\n",
              "\t\t<text><tspan font-family=\"Arial\" > </tspan></text>\n",
              "\t</g>\n",
              "</g>\n",
              "<g fill=\"none\" color=\"black\" stroke=\"currentColor\" stroke-width=\"1.00\" stroke-linecap=\"butt\" stroke-linejoin=\"miter\">\n",
              "\t<path stroke='black'  d='M610.9,36.1 L610.9,45.1  '/>\t<g transform=\"translate(610.9,22.6)\" stroke=\"none\" fill=\"black\" font-family=\"Arial\" font-size=\"12.00\"  text-anchor=\"middle\">\n",
              "\t\t<text><tspan font-family=\"Arial\" > </tspan></text>\n",
              "\t</g>\n",
              "</g>\n",
              "<g fill=\"none\" color=\"black\" stroke=\"currentColor\" stroke-width=\"1.00\" stroke-linecap=\"butt\" stroke-linejoin=\"miter\">\n",
              "\t<path stroke='black'  d='M750.1,36.1 L750.1,45.1  '/>\t<g transform=\"translate(750.1,22.6)\" stroke=\"none\" fill=\"black\" font-family=\"Arial\" font-size=\"12.00\"  text-anchor=\"middle\">\n",
              "\t\t<text><tspan font-family=\"Arial\" > </tspan></text>\n",
              "\t</g>\n",
              "</g>\n",
              "<g fill=\"none\" color=\"black\" stroke=\"currentColor\" stroke-width=\"1.00\" stroke-linecap=\"butt\" stroke-linejoin=\"miter\">\n",
              "</g>\n",
              "<g fill=\"none\" color=\"black\" stroke=\"currentColor\" stroke-width=\"1.00\" stroke-linecap=\"butt\" stroke-linejoin=\"miter\">\n",
              "\t<path stroke='black'  d='M53.9,36.1 L53.9,464.0 L750.1,464.0 L750.1,36.1 L53.9,36.1 Z  '/></g>\n",
              "<g fill=\"none\" color=\"black\" stroke=\"currentColor\" stroke-width=\"1.00\" stroke-linecap=\"butt\" stroke-linejoin=\"miter\">\n",
              "</g>\n",
              "\t<g id=\"gnuplot_plot_1\" ><title>Nuh</title>\n",
              "<g fill=\"none\" color=\"black\" stroke=\"currentColor\" stroke-width=\"1.00\" stroke-linecap=\"butt\" stroke-linejoin=\"miter\">\n",
              "\t<g transform=\"translate(719.6,63.1)\" stroke=\"none\" fill=\"black\" font-family=\"Arial\" font-size=\"16.00\"  text-anchor=\"start\">\n",
              "\t\t<text><tspan font-family=\"Arial\" >Nu</tspan><tspan font-family=\"Arial\"  font-size=\"12.8\" dy=\"4.80px\">h</tspan><tspan font-size=\"16.0\" dy=\"-4.80\"></tspan></text>\n",
              "\t</g>\n",
              "</g>\n",
              "<g fill=\"none\" color=\"black\" stroke=\"currentColor\" stroke-width=\"1.00\" stroke-linecap=\"butt\" stroke-linejoin=\"miter\">\n",
              "\t<path stroke='rgb(  0,   0, 255)'  d='M655.1,57.1 L708.5,57.1 M53.9,386.3 L55.3,416.0 L56.7,421.7 L58.1,422.5 L59.5,421.8 L60.9,421.4\n",
              "\t\tL62.3,422.1 L63.7,424.6 L65.1,425.2 L66.5,423.9 L67.9,423.9 L69.2,426.4 L70.6,431.3 L72.0,436.2\n",
              "\t\tL73.4,438.5 L74.8,437.1 L76.2,433.9 L77.6,430.1 L79.0,426.1 L80.4,423.0 L81.8,421.9 L83.2,422.0\n",
              "\t\tL84.6,420.4 L86.0,418.4 L87.4,417.3 L88.8,416.7 L90.2,416.0 L91.6,414.0 L93.0,411.3 L94.4,409.2\n",
              "\t\tL95.8,407.2 L97.2,405.3 L98.5,403.2 L99.9,398.7 L101.3,396.2 L102.7,410.1 L104.1,410.4 L105.5,409.7\n",
              "\t\tL106.9,408.9 L108.3,407.9 L109.7,406.7 L111.1,405.5 L112.5,404.5 L113.9,403.8 L115.3,403.3 L116.7,403.1\n",
              "\t\tL118.1,402.6 L119.5,401.6 L120.9,400.6 L122.3,400.1 L123.7,399.7 L125.1,399.4 L126.4,398.8 L127.8,398.0\n",
              "\t\tL129.2,397.0 L130.6,395.7 L132.0,394.6 L133.4,394.2 L134.8,394.3 L136.2,393.8 L137.6,392.6 L139.0,391.5\n",
              "\t\tL140.4,390.8 L141.8,390.2 L143.2,389.6 L144.6,388.8 L146.0,387.9 L147.4,386.9 L148.8,385.7 L150.2,384.7\n",
              "\t\tL151.6,383.8 L153.0,382.9 L154.4,382.2 L155.7,382.0 L157.1,381.8 L158.5,381.3 L159.9,380.5 L161.3,379.3\n",
              "\t\tL162.7,378.0 L164.1,376.2 L165.5,374.3 L166.9,372.4 L168.3,370.7 L169.7,369.2 L171.1,368.2 L172.5,367.4\n",
              "\t\tL173.9,366.7 L175.3,365.9 L176.7,365.2 L178.1,364.5 L179.5,363.8 L180.9,363.4 L182.3,362.6 L183.7,361.9\n",
              "\t\tL185.0,360.8 L186.4,359.8 L187.8,358.8 L189.2,358.0 L190.6,357.2 L192.0,356.5 L193.4,355.8 L194.8,355.1\n",
              "\t\tL196.2,354.3 L197.6,353.4 L199.0,352.6 L200.4,351.9 L201.8,351.3 L203.2,350.5 L204.6,349.7 L206.0,348.9\n",
              "\t\tL207.4,348.1 L208.8,347.3 L210.2,346.6 L211.6,345.8 L213.0,345.1 L214.3,344.2 L215.7,343.3 L217.1,342.3\n",
              "\t\tL218.5,341.9 L219.9,341.2 L221.3,340.4 L222.7,339.5 L224.1,338.6 L225.5,337.8 L226.9,336.9 L228.3,336.1\n",
              "\t\tL229.7,335.3 L231.1,334.4 L232.5,333.6 L233.9,332.7 L235.3,331.7 L236.7,330.8 L238.1,329.9 L239.5,329.0\n",
              "\t\tL240.9,328.1 L242.3,327.2 L243.6,326.3 L245.0,325.5 L246.4,324.6 L247.8,323.9 L249.2,323.1 L250.6,322.4\n",
              "\t\tL252.0,321.7 L253.4,321.0 L254.8,320.3 L256.2,319.7 L257.6,319.1 L259.0,318.1 L260.4,316.8 L261.8,315.9\n",
              "\t\tL263.2,315.0 L264.6,314.1 L266.0,313.0 L267.4,311.9 L268.8,310.8 L270.2,309.8 L271.5,308.9 L272.9,307.9\n",
              "\t\tL274.3,306.9 L275.7,305.8 L277.1,304.8 L278.5,304.0 L279.9,303.2 L281.3,302.4 L282.7,301.7 L284.1,300.9\n",
              "\t\tL285.5,300.0 L286.9,298.9 L288.3,297.7 L289.7,296.3 L291.1,295.3 L292.5,294.6 L293.9,293.8 L295.3,292.7\n",
              "\t\tL296.7,291.8 L298.1,290.9 L299.5,289.9 L300.8,289.1 L302.2,288.6 L303.6,288.2 L305.0,287.1 L306.4,286.0\n",
              "\t\tL307.8,285.3 L309.2,285.3 L310.6,287.9 L312.0,284.8 L313.4,280.4 L314.8,279.2 L316.2,278.2 L317.6,277.4\n",
              "\t\tL319.0,276.8 L320.4,275.9 L321.8,275.0 L323.2,274.2 L324.6,273.8 L326.0,273.0 L327.4,269.9 L328.8,269.9\n",
              "\t\tL330.1,270.0 L331.5,269.3 L332.9,268.5 L334.3,267.3 L335.7,266.3 L337.1,265.7 L338.5,265.0 L339.9,264.1\n",
              "\t\tL341.3,262.8 L342.7,261.4 L344.1,260.1 L345.5,258.8 L346.9,257.3 L348.3,256.1 L349.7,254.9 L351.1,253.6\n",
              "\t\tL352.5,252.3 L353.9,251.0 L355.3,249.6 L356.7,248.5 L358.1,247.5 L359.4,246.6 L360.8,245.5 L362.2,244.8\n",
              "\t\tL363.6,244.1 L365.0,243.3 L366.4,241.3 L367.8,240.0 L369.2,238.8 L370.6,237.5 L372.0,236.1 L373.4,234.5\n",
              "\t\tL374.8,232.9 L376.2,231.4 L377.6,230.1 L379.0,228.8 L380.4,227.6 L381.8,226.4 L383.2,225.2 L384.6,223.9\n",
              "\t\tL386.0,222.5 L387.4,221.1 L388.7,219.5 L390.1,218.0 L391.5,216.4 L392.9,214.8 L394.3,213.3 L395.7,211.7\n",
              "\t\tL397.1,210.1 L398.5,208.7 L399.9,207.3 L401.3,205.9 L402.7,204.6 L404.1,203.4 L405.5,202.2 L406.9,200.9\n",
              "\t\tL408.3,199.6 L409.7,198.6 L411.1,198.1 L412.5,197.9 L413.9,197.2 L415.3,195.7 L416.6,192.5 L418.0,190.1\n",
              "\t\tL419.4,187.5 L420.8,185.0 L422.2,182.7 L423.6,180.8 L425.0,179.3 L426.4,178.2 L427.8,177.2 L429.2,175.9\n",
              "\t\tL430.6,174.3 L432.0,172.4 L433.4,170.3 L434.8,168.3 L436.2,166.6 L437.6,165.0 L439.0,163.5 L440.4,162.0\n",
              "\t\tL441.8,160.4 L443.2,158.5 L444.6,156.7 L445.9,155.1 L447.3,153.5 L448.7,151.8 L450.1,150.1 L451.5,148.4\n",
              "\t\tL452.9,146.8 L454.3,145.2 L455.7,143.8 L457.1,142.6 L458.5,141.7 L459.9,140.9 L461.3,139.0 L462.7,137.0\n",
              "\t\tL464.1,134.7 L465.5,132.4 L466.9,130.3 L468.3,128.2 L469.7,126.2 L471.1,124.3 L472.5,122.5 L473.9,120.7\n",
              "\t\tL475.2,118.9 L476.6,117.0 L478.0,115.0 L479.4,113.2 L480.8,111.4 L482.2,110.2 L483.6,109.5 L485.0,109.3\n",
              "\t\tL486.4,109.6 L487.8,108.1 L489.2,107.0 L490.6,104.7 L492.0,102.5 L493.4,100.4 L494.8,98.6 L496.2,97.2\n",
              "\t\tL497.6,96.0 L499.0,94.8 L500.4,93.7 L501.8,92.5 L503.2,91.3 L504.5,90.0 L505.9,88.6 L507.3,87.1\n",
              "\t\tL508.7,85.5 L510.1,83.7 L511.5,82.0 L512.9,80.2 L514.3,78.7 L515.7,77.4 L517.1,76.4 L518.5,75.8\n",
              "\t\tL519.9,74.9 L521.3,74.5 L522.7,74.3 L524.1,74.5 L525.5,74.8 L526.9,75.2 L528.3,75.4 L529.7,75.4\n",
              "\t\tL531.1,75.3 L532.5,75.2 L533.8,75.1 L535.2,75.1 L536.6,74.9 L538.0,74.6 L539.4,74.3 L540.8,73.8\n",
              "\t\tL542.2,73.2 L543.6,72.3 L545.0,71.6 L546.4,71.3 L547.8,71.2 L549.2,71.3 L550.6,72.0 L552.0,73.4\n",
              "\t\tL553.4,75.4 L554.8,77.6 L556.2,80.2 L557.6,82.7 L559.0,84.6 L560.4,86.2 L561.7,87.2 L563.1,87.6\n",
              "\t\tL564.5,86.5 L565.9,84.1 L567.3,82.2 L568.7,80.5 L570.1,79.2 L571.5,79.1 L572.9,79.1 L574.3,79.6\n",
              "\t\tL575.7,80.5 L577.1,81.4 L578.5,83.2 L579.9,85.7 L581.3,87.6 L582.7,86.6 L584.1,84.7 L585.5,83.0\n",
              "\t\tL586.9,81.0 L588.3,79.4 L589.7,80.8 L591.0,83.8 L592.4,85.4 L593.8,86.2 L595.2,86.8 L596.6,86.5\n",
              "\t\tL598.0,85.9 L599.4,85.7 L600.8,85.6 L602.2,85.3 L603.6,84.7 L605.0,84.4 L606.4,85.1 L607.8,87.6\n",
              "\t\tL609.2,91.2 L610.6,92.9 L612.0,92.3 L613.4,90.1 L614.8,88.5 L616.2,87.1 L617.6,83.9 L619.0,80.5\n",
              "\t\tL620.3,77.8 L621.7,75.9 L623.1,74.2 L624.5,72.6 L625.9,71.2 L627.3,70.2 L628.7,69.5 L630.1,69.4\n",
              "\t\tL631.5,69.6 L632.9,70.1 L634.3,70.7 L635.7,71.3 L637.1,71.6 L638.5,71.8 L639.9,72.1 L641.3,72.9\n",
              "\t\tL642.7,74.6 L644.1,76.4 L645.5,76.1 L646.9,72.0 L648.3,65.7 L649.6,82.6 L651.0,196.5 L652.4,121.4\n",
              "\t\tL653.8,89.4 L655.2,77.9 L656.6,73.1 L658.0,70.2 L659.4,67.7 L660.8,66.1 L662.2,66.3 L663.6,67.7\n",
              "\t\tL665.0,68.0 L666.4,67.6 L667.8,67.1 L669.2,66.4 L670.6,65.3 L672.0,64.0 L673.4,63.0 L674.8,63.4\n",
              "\t\tL676.2,64.7 L677.6,64.9 L678.9,64.5 L680.3,64.1 L681.7,63.9 L683.1,63.5 L684.5,62.8 L685.9,61.6\n",
              "\t\tL687.3,59.7 L688.7,55.5 L690.1,48.3 L691.5,45.6 L692.9,50.0 L694.3,57.6 L695.7,62.2 L697.1,64.8\n",
              "\t\tL698.5,66.0 L699.9,66.4 L701.3,66.4 L702.7,66.1 L704.1,65.4 L705.5,65.3 L706.8,65.7 L708.2,66.5\n",
              "\t\tL709.6,67.0 L711.0,67.4 L712.4,67.5 L713.8,67.6 L715.2,67.5 L716.6,67.3 L718.0,67.2 L719.4,66.9\n",
              "\t\tL720.8,66.4 L722.2,65.8 L723.6,64.4 L725.0,63.6 L726.4,64.3 L727.8,65.8 L729.2,67.1 L730.6,68.0\n",
              "\t\tL732.0,68.7 L733.4,69.4 L734.8,70.1 L736.1,70.6 L737.5,71.1 L738.9,71.5 L740.3,71.9 L741.7,72.2\n",
              "\t\tL743.1,72.6 L744.5,73.0 L745.9,73.4 L747.3,73.8 L748.7,73.9 L750.1,73.7  '/></g>\n",
              "\t</g>\n",
              "<g fill=\"none\" color=\"#FFFFFF\" stroke=\"rgb(  0,   0, 255)\" stroke-width=\"2.00\" stroke-linecap=\"butt\" stroke-linejoin=\"miter\">\n",
              "</g>\n",
              "<g fill=\"none\" color=\"black\" stroke=\"currentColor\" stroke-width=\"2.00\" stroke-linecap=\"butt\" stroke-linejoin=\"miter\">\n",
              "</g>\n",
              "<g fill=\"none\" color=\"black\" stroke=\"black\" stroke-width=\"1.00\" stroke-linecap=\"butt\" stroke-linejoin=\"miter\">\n",
              "</g>\n",
              "<g fill=\"none\" color=\"black\" stroke=\"currentColor\" stroke-width=\"1.00\" stroke-linecap=\"butt\" stroke-linejoin=\"miter\">\n",
              "\t<path stroke='black'  d='M53.9,36.1 L53.9,464.0 L750.1,464.0 L750.1,36.1 L53.9,36.1 Z  '/></g>\n",
              "<g fill=\"none\" color=\"black\" stroke=\"currentColor\" stroke-width=\"1.00\" stroke-linecap=\"butt\" stroke-linejoin=\"miter\">\n",
              "</g>\n",
              "</g>\n",
              "</svg>\n",
              "\n"
            ]
          },
          "metadata": {},
          "output_type": "display_data"
        }
      ],
      "source": [
        "var gp = plot.ToGnuplot();\n",
        "gp.PlotSVG(xRes:800,yRes:500)"
      ]
    },
    {
      "cell_type": "code",
      "execution_count": null,
      "metadata": {
        "dotnet_interactive": {
          "language": "csharp"
        }
      },
      "outputs": [],
      "source": [
        "var sess = myDb.Sessions[0];\n"
      ]
    },
    {
      "cell_type": "code",
      "execution_count": null,
      "metadata": {
        "dotnet_interactive": {
          "language": "csharp"
        }
      },
      "outputs": [
        {
          "name": "stdout",
          "output_type": "stream",
          "text": [
            "Starting export process... Data will be written to the directory: C:\\Users\\gutierrez\\AppData\\Local\\BoSSS\\plots\\sessions\\HeatedBackwardFacingStep_longCalc2__Heated_BackwardFacingStep_Lichtenberg_2ER25lLev_96Cores_16Nodesdg2k16Re1000EnergyOK1__aa3857a6-6eae-4880-a951-0008cd19043e\r\n"
          ]
        },
        {
          "data": {
            "text/plain": [
              "C:\\Users\\gutierrez\\AppData\\Local\\BoSSS\\plots\\sessions\\HeatedBackwardFacingStep_longCalc2__Heated_BackwardFacingStep_Lichtenberg_2ER25lLev_96Cores_16Nodesdg2k16Re1000EnergyOK1__aa3857a6-6eae-4880-a951-0008cd19043e"
            ]
          },
          "metadata": {},
          "output_type": "display_data"
        }
      ],
      "source": [
        "myDb.Sessions[0].Export().Do()"
      ]
    },
    {
      "cell_type": "code",
      "execution_count": null,
      "metadata": {
        "dotnet_interactive": {
          "language": "csharp"
        }
      },
      "outputs": [
        {
          "ename": "Error",
          "evalue": "System.OperationCanceledException: Command :SubmitCode: DGField Temperature       = sess.Timesteps.Last(). ... cancelled.",
          "output_type": "error",
          "traceback": [
            "System.OperationCanceledException: Command :SubmitCode: DGField Temperature       = sess.Timesteps.Last(). ... cancelled."
          ]
        }
      ],
      "source": [
        "DGField Temperature       = sess.Timesteps.Last().Fields.Single(f => f.Identification == \"Temperature\");\n",
        "// var grd = (GridData)Temperature.GridDat;"
      ]
    },
    {
      "cell_type": "code",
      "execution_count": null,
      "metadata": {
        "dotnet_interactive": {
          "language": "csharp"
        }
      },
      "outputs": [],
      "source": [
        "double tin = 10 +273;\n",
        "double thot = 40+273;\n",
        "double tref = tin;\n",
        "\n",
        "double TIN = tin/tref;\n",
        "double THOT = thot/tref;"
      ]
    },
    {
      "cell_type": "code",
      "execution_count": null,
      "metadata": {
        "dotnet_interactive": {
          "language": "csharp"
        }
      },
      "outputs": [],
      "source": [
        "for(int i = 0; i< res.Length; i++){\n",
        "    res[i] = res[i]*1.2/(30.0/273);\n",
        "}"
      ]
    },
    {
      "cell_type": "code",
      "execution_count": null,
      "metadata": {
        "dotnet_interactive": {
          "language": "csharp"
        }
      },
      "outputs": [
        {
          "data": {
            "text/html": [
              "<div class=\"dni-plaintext\">0.10989010989010989</div>"
            ]
          },
          "metadata": {},
          "output_type": "display_data"
        }
      ],
      "source": []
    },
    {
      "cell_type": "code",
      "execution_count": null,
      "metadata": {
        "dotnet_interactive": {
          "language": "csharp"
        }
      },
      "outputs": [],
      "source": []
    }
  ],
  "metadata": {
    "interpreter": {
      "hash": "5a4c2b90e762e735d09b118f9f9cec0074c9c9a762110f7a987def15c668bc0d"
    },
    "kernelspec": {
      "display_name": ".NET (C#)",
      "language": "C#",
      "name": ".net-csharp"
    },
    "language_info": {
      "file_extension": ".cs",
      "mimetype": "text/x-csharp",
      "name": "C#",
      "pygments_lexer": "csharp",
      "version": "9.0"
    }
  },
  "nbformat": 4,
  "nbformat_minor": 4
}
