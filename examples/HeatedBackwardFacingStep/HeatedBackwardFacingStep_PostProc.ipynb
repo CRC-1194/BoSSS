{
  "cells": [
    {
      "cell_type": "code",
      "execution_count": null,
      "metadata": {
        "dotnet_interactive": {
          "language": "csharp"
        },
        "vscode": {
          "languageId": "dotnet-interactive.csharp"
        }
      },
      "outputs": [],
      "source": [
        "// #r \"D:\\BoSSS2\\experimental\\public\\src\\L4-application\\BoSSSpad\\bin\\Release\\net5.0\\bossspad.dll\"\n",
        "#r \"BoSSSpad.dll\"\n",
        "using System;\n",
        "using System.Collections.Generic;\n",
        "using System.Linq;\n",
        "using System.IO;\n",
        "using System.Data;\n",
        "using System.Globalization;\n",
        "using System.Threading;\n",
        "using ilPSP;\n",
        "using ilPSP.Utils;\n",
        "using BoSSS.Platform;\n",
        "using BoSSS.Foundation;\n",
        "using BoSSS.Foundation.Grid;\n",
        "using BoSSS.Foundation.Grid.Classic;\n",
        "using BoSSS.Foundation.IO;\n",
        "using BoSSS.Solution;\n",
        "using BoSSS.Solution.Control;\n",
        "using BoSSS.Solution.GridImport;\n",
        "using BoSSS.Solution.Statistic;\n",
        "using BoSSS.Solution.Utils;\n",
        "using BoSSS.Solution.Gnuplot;\n",
        "using BoSSS.Application.BoSSSpad;\n",
        "using BoSSS.Application.XNSE_Solver;\n",
        "using static BoSSS.Application.BoSSSpad.BoSSSshell;\n",
        "using BoSSS.Foundation.Grid.RefElements;\n",
        "using BoSSS.Platform.LinAlg;\n",
        "using BoSSS.Solution.NSECommon;\n",
        "using BoSSS.Application.XNSEC;\n",
        "Init();"
      ]
    },
    {
      "cell_type": "code",
      "execution_count": null,
      "metadata": {
        "dotnet_interactive": {
          "language": "csharp"
        },
        "vscode": {
          "languageId": "dotnet-interactive.csharp"
        }
      },
      "outputs": [],
      "source": [
        "using BoSSS.Foundation.Quadrature;\n",
        "using BoSSS.Foundation.XDG;\n",
        "using MathNet.Numerics;\n",
        "using MathNet.Numerics.Interpolation;\n",
        "using MathNet.Numerics.RootFinding;"
      ]
    },
    {
      "cell_type": "code",
      "execution_count": null,
      "metadata": {
        "dotnet_interactive": {
          "language": "csharp"
        },
        "vscode": {
          "languageId": "dotnet-interactive.csharp"
        }
      },
      "outputs": [],
      "source": [
        "BoSSSshell.WorkflowMgm.Init(\"HeatedBackwardFacingStep\");"
      ]
    },
    {
      "cell_type": "code",
      "execution_count": null,
      "metadata": {
        "dotnet_interactive": {
          "language": "csharp"
        },
        "vscode": {
          "languageId": "dotnet-interactive.csharp"
        }
      },
      "outputs": [],
      "source": [
        "var myDb = BoSSS.Application.BoSSSpad.BoSSSshell.WorkflowMgm.DefaultDatabase;\n"
      ]
    },
    {
      "cell_type": "markdown",
      "metadata": {},
      "source": [
        "Creation of a spline along desired edge. Used later for interpolation of variables."
      ]
    },
    {
      "cell_type": "code",
      "execution_count": null,
      "metadata": {
        "dotnet_interactive": {
          "language": "csharp"
        },
        "vscode": {
          "languageId": "dotnet-interactive.csharp"
        }
      },
      "outputs": [],
      "source": [
        "// Creates a Spline on direction \"d\" at a given edge \"em\" of the field \"field\"\n",
        "static public CubicSpline SplineOnEdge(EdgeMask em, DGField field, out double lower_Bound, out double upper_Bound, double offset = 0.0, int d = 0){\n",
        "\n",
        "    var grd = field.GridDat;\n",
        "\n",
        "    List<double> nodes = new List<double>();\n",
        "    List<double> values = new List<double>();\n",
        "\n",
        "    EdgeQuadrature.GetQuadrature(new int[] { 1 }, grd,\n",
        "        // (new EdgeQuadratureScheme(true, em)).Compile(grd, 0),\n",
        "        (new EdgeQuadratureScheme(true, em)).Compile(grd, field.Basis.Degree * 2),\n",
        "        delegate (int i0, int Length, QuadRule QR, MultidimensionalArray EvalResult) {        \n",
        "\n",
        "            MultidimensionalArray DummyIN = MultidimensionalArray.Create(Length, QR.NoOfNodes);\n",
        "            MultidimensionalArray DummyOT = MultidimensionalArray.Create(Length, QR.NoOfNodes);        \n",
        "\n",
        "            MultidimensionalArray GlobalNodes = MultidimensionalArray.Create(Length, QR.NoOfNodes, 2);        \n",
        "            \n",
        "            if(field is XDGField xField){\n",
        "                xField.GetSpeciesShadowField(\"A\").EvaluateEdge(i0, Length, QR.Nodes, DummyIN, DummyOT, null, null, null, null, 0, 0.0); \n",
        "            } else{\n",
        "                field.EvaluateEdge(i0, Length, QR.Nodes, DummyIN, DummyOT, null, null, null, null, 0, 0.0); \n",
        "            }  \n",
        "\n",
        "            for(int i = 0; i < Length; i++){  \n",
        "                int iTrafo = ((GridData)grd).Edges.Edge2CellTrafoIndex[i0+i, 0];\n",
        "                NodeSet volNodeSet = QR.Nodes.GetVolumeNodeSet(grd, iTrafo);\n",
        "                int jCell = ((GridData)grd).Edges.CellIndices[i0+i, 0];\n",
        "                grd.TransformLocal2Global(volNodeSet, jCell, 1, GlobalNodes, i);          \n",
        "                int K = QR.NoOfNodes;\n",
        "                for(int k = 0; k < K; k++){\n",
        "                    nodes.Add(GlobalNodes[i, k, d]);\n",
        "                    values.Add(DummyIN[i, k] - offset);\n",
        "                }\n",
        "            }\n",
        "\n",
        "        },delegate (int i0, int Length, MultidimensionalArray ResultsOfIntegration) {\n",
        "        }).Execute(); \n",
        "\n",
        "    lower_Bound = nodes.Min();\n",
        "    upper_Bound = nodes.Max();\n",
        "\n",
        "    return CubicSpline.InterpolateAkima(nodes.ToArray(), values.ToArray());\n",
        "}\n",
        "\n"
      ]
    },
    {
      "cell_type": "code",
      "execution_count": null,
      "metadata": {
        "dotnet_interactive": {
          "language": "csharp"
        },
        "vscode": {
          "languageId": "dotnet-interactive.csharp"
        }
      },
      "outputs": [],
      "source": [
        "// Finds the position where the specified field assumes the given value\n",
        "static public double[] PosOfValueOnEdge(double value, EdgeMask em, DGField field, int d = 0) {\n",
        "    var Spline = SplineOnEdge(em, field, out double lB, out double uB, value, d);\n",
        "    int numberofintervals = 30;\n",
        "    double[] intervalnodes = GenericBlas.Linspace(lB, uB, numberofintervals);\n",
        "    List<double> roots = new List<double>();\n",
        "    for (int i = 0; i < numberofintervals - 1; i++) {\n",
        "        double root = -1111;\n",
        "        bool found = Bisection.TryFindRoot(t => Spline.Interpolate(t), intervalnodes[i], intervalnodes[i + 1], 1e-12, 1000, out root);\n",
        "        if (found)\n",
        "            roots.Add(root);\n",
        "    }\n",
        "    return roots.ToArray();\n",
        "}"
      ]
    },
    {
      "cell_type": "markdown",
      "metadata": {},
      "source": [
        " Calculation of Local Nusselt Number $\\text{Nu} := \\frac{S}{T0-T1}\\vec{n}\\cdot \\nabla T$\n"
      ]
    },
    {
      "cell_type": "code",
      "execution_count": null,
      "metadata": {
        "dotnet_interactive": {
          "language": "csharp"
        },
        "vscode": {
          "languageId": "dotnet-interactive.csharp"
        }
      },
      "outputs": [],
      "source": [
        "static public double[] LocalNusseltNumber(ITimestepInfo ts, double[] coordinates, double deltaT, int dirGradient, int dirSpline) {\n",
        "    DGField Temperature       = ts.Fields.Where(f => f.Identification == \"Temperature\").SingleOrDefault();\n",
        "    var grd = (GridData)Temperature.GridDat;\n",
        "    var GradT_d = (DGField)Temperature.Clone();\n",
        "    GradT_d.Clear();\n",
        "    GradT_d.Derivative(1.0, Temperature, dirGradient);\n",
        "\n",
        "    if(dirGradient == dirSpline){\n",
        "    throw new Exception();\n",
        "}\n",
        "    EdgeMask em = new EdgeMask(grd, X => X[1] + 0.0 < 1e-12); // edge hardcoded\n",
        "    var spline = SplineOnEdge(em, GradT_d, out double _a, out double  _b, d:dirSpline);\n",
        "    \n",
        "    double[] Nusselt = new double[coordinates.Length];\n",
        "    for(int i = 0; i < coordinates.Length; i++){\n",
        "        double GradT = spline.Interpolate(coordinates[i]);    \n",
        "        Nusselt[i] = -1.0*GradT/deltaT;\n",
        "    }   \n",
        "    return Nusselt;\n",
        "}"
      ]
    },
    {
      "cell_type": "markdown",
      "metadata": {},
      "source": [
        "Calculation of Local Darcy frictionfactor $\\text{f}_D := -\\frac{8\\nu}{(\\hat{u}/2)^2}\\vec{n}\\cdot \\nabla u_1$\n"
      ]
    },
    {
      "cell_type": "code",
      "execution_count": null,
      "metadata": {
        "dotnet_interactive": {
          "language": "csharp"
        },
        "vscode": {
          "languageId": "dotnet-interactive.csharp"
        }
      },
      "outputs": [],
      "source": [
        "static public double[] LocalDarcyFactor(ITimestepInfo ts, double[] coordinates, int dirGradient, int dirSpline, double Re, double factor2 ) {\n",
        "    DGField VelocityX       = ts.Fields.Where(f => f.Identification == \"VelocityX\").SingleOrDefault();\n",
        "\n",
        "        \n",
        "    double nu = 15.52e-6;// Kinematic viscosity of air at 25°c, m2/s\n",
        "    double S = 15.0/1000; // Reference length according to the paper of XIA, meters\n",
        "    double vel = Re*nu/S; // mean velocity, m/s\n",
        "    // Console.WriteLine(\"Re:\" + Re);\n",
        "    // Console.WriteLine(\"vel:\" + vel);\n",
        "    //  double ReDimFactor =vel/S*0+1;\n",
        "\n",
        "    // Console.WriteLine(\"ReDimFactor:\" + ReDimFactor);\n",
        "    var grd = (GridData)VelocityX.GridDat;\n",
        "    var GradVelX_d = (DGField)VelocityX.Clone();\n",
        "    GradVelX_d.Clear();\n",
        "\n",
        " \n",
        "    GradVelX_d.Derivative(1.0 , VelocityX, dirGradient);\n",
        "\n",
        "    if(dirGradient == dirSpline){\n",
        "    throw new Exception();\n",
        "}\n",
        "    EdgeMask em = new EdgeMask(grd, X => X[1] + 0.0 < 1e-12); // \n",
        "    var spline = SplineOnEdge(em, GradVelX_d, out double _a, out double  _b, d:dirSpline);\n",
        "\n",
        "    double factor = 4*nu/(vel*vel/4.0);\n",
        "\n",
        "    double[] fd = new double[coordinates.Length];\n",
        "    for(int i = 0; i < coordinates.Length; i++){\n",
        "        double GradVelX_dVal = spline.Interpolate(coordinates[i]);    \n",
        "        fd[i] = factor*GradVelX_dVal*factor2 ;\n",
        "    }   \n",
        "    return fd;\n",
        "}\n"
      ]
    },
    {
      "cell_type": "markdown",
      "metadata": {},
      "source": [
        "The position(s) of deatachment occurs exactly at the point(s) where the friction factor is equal to zero $f_d(\\vec{x})=0$"
      ]
    },
    {
      "cell_type": "code",
      "execution_count": null,
      "metadata": {
        "dotnet_interactive": {
          "language": "csharp"
        },
        "vscode": {
          "languageId": "dotnet-interactive.csharp"
        }
      },
      "outputs": [],
      "source": [
        "static public double[] GetPositionOfReattachment(ITimestepInfo ts, int dirGradient, int dirSpline, double ER, bool top ) {\n",
        "    DGField VelocityX       = ts.Fields.Where(f => f.Identification == \"VelocityX\").SingleOrDefault();\n",
        "    var grd = (GridData)VelocityX.GridDat;\n",
        "    var GradVelX_d = (DGField)VelocityX.Clone();\n",
        "    GradVelX_d.Clear();\n",
        "    GradVelX_d.Derivative(1.0, VelocityX, dirGradient);\n",
        "\n",
        "    double S = 1.0;\n",
        "    double H = S+S/(ER-1.0);\n",
        "    double ywall = top == true? H : 0.0;\n",
        "    EdgeMask em = new EdgeMask(grd, X => Math.Abs(X[1] - ywall) < 1e-12); \n",
        "    double[] x =   PosOfValueOnEdge(0.0, em, GradVelX_d, d:0); // \n",
        "\n",
        "    \n",
        "    return x ;\n",
        "}"
      ]
    },
    {
      "cell_type": "markdown",
      "metadata": {},
      "source": [
        "Now we calculate for each Session where Re = {400,700,100} for each ER = {1.5,2.0,2.5} the friction coefficient and Nusselt number"
      ]
    },
    {
      "cell_type": "code",
      "execution_count": null,
      "metadata": {
        "dotnet_interactive": {
          "language": "csharp"
        },
        "vscode": {
          "languageId": "dotnet-interactive.csharp"
        }
      },
      "outputs": [],
      "source": [
        "// double[] Reynolds = new double[]{700};\n",
        "// double[] ER = new double[]{1.5,2.0};\n",
        "\n",
        "// double[] Reynolds = new double[]{400,700,1000};\n",
        "//  double[] Reynolds = new double[]{100,150,200,250,300,350,400};\n",
        "// double[] Reynolds = new double[]{200,250,300,350,400};\n",
        "\n",
        "var Reynolds = ((XNSEC_Control)myDb.Sessions[0].GetControl()).SelfDefinedHomotopyArray;\n",
        "\n",
        "\n",
        "// double[] Reynolds = new double[]{400};\n",
        "double[] ER = new double[]{2.0};\n",
        "\n",
        "// double[] ER = new double[]{1.9423};\n",
        "// double[] ER = new double[]{1.5,2.0,2.5};\n"
      ]
    },
    {
      "cell_type": "code",
      "execution_count": null,
      "metadata": {
        "dotnet_interactive": {
          "language": "csharp"
        },
        "vscode": {
          "languageId": "dotnet-interactive.csharp"
        }
      },
      "outputs": [],
      "source": [
        "Reynolds"
      ]
    },
    {
      "cell_type": "code",
      "execution_count": null,
      "metadata": {
        "dotnet_interactive": {
          "language": "csharp"
        },
        "vscode": {
          "languageId": "dotnet-interactive.csharp"
        }
      },
      "outputs": [],
      "source": [
        "double[] xCoordinates  = GenericBlas.Linspace(0,50, 1000);\n",
        "\n",
        "Dictionary<(double,double), double[]> cfs = new Dictionary<(double,double), double[]>();\n",
        "Dictionary<(double,double), double[]> Nusselts = new Dictionary<(double,double), double[]>();\n",
        "Dictionary<(double,double), double[]> ReattachmentPositions = new Dictionary<(double,double),  double[]>();\n",
        "Dictionary<(double,double), double[]> ReattachmentPositionsTOP = new Dictionary<(double,double), double[]>();\n",
        "\n",
        "\n",
        "foreach(double er in ER){\n",
        "    var sess = myDb.Sessions.Where(s => s.Tags.Pick(0) == er.ToString()).SingleOrDefault();\n",
        "\n",
        "    var control =  (XNSEC_Control)sess.GetControl();\n",
        "    var ReynoldsArray = control.SelfDefinedHomotopyArray;\n",
        "    Dictionary<int, double> ReynoldsDictionary = new Dictionary<int, double>();\n",
        "    for(int i = 0; i <ReynoldsArray.Length;i++ ){\n",
        "        ReynoldsDictionary.Add(i, ReynoldsArray[i]);\n",
        "    }\n",
        "\n",
        "\n",
        "    foreach(double Re in Reynolds){        \n",
        "        int indexOfReynolds = ReynoldsDictionary.FirstOrDefault(x => x.Value == Re).Key;\n",
        "        var timestep = sess.Timesteps[indexOfReynolds+1];\n",
        "\n",
        "        // Calculation of the local Nusselt number          \n",
        "        double tin = 10 +273;\n",
        "        double thot = 40+273;\n",
        "        double tref = tin;\n",
        "        double TIN = tin/tref;\n",
        "        double THOT = thot/tref;\n",
        "        var nuss = LocalNusseltNumber(timestep,xCoordinates, -(TIN-THOT)*1+1*0, 1, 0 );//////////////////////////////////////////////////////////////////////////////////////////////////////////\n",
        "        Nusselts.Add((er,Re),nuss);\n",
        "\n",
        "        //Calculation of the darcy friction factor\n",
        "        double[] cf = LocalDarcyFactor(timestep, xCoordinates, 1,0,Re,100.0);\n",
        "        cfs.Add((er,Re),cf);\n",
        "\n",
        "        // // Reattachment positions \n",
        "        double[] X = GetPositionOfReattachment(timestep,1,0,er,top:false); \n",
        "        ReattachmentPositions.Add((er,Re),X);\n",
        "\n",
        "        double[] XTop = GetPositionOfReattachment(timestep,1,0,er, top:true);\n",
        "        ReattachmentPositionsTOP.Add((er,Re),XTop);\n",
        "\n",
        "    }   \n",
        "}\n"
      ]
    },
    {
      "cell_type": "code",
      "execution_count": null,
      "metadata": {
        "dotnet_interactive": {
          "language": "csharp"
        },
        "vscode": {
          "languageId": "dotnet-interactive.csharp"
        }
      },
      "outputs": [],
      "source": [
        "LineColors[] allColors = Enum.GetValues(typeof(LineColors)).Cast<LineColors>().ToArray();\n",
        "PointTypes[] myPointTypes = new PointTypes[] { PointTypes.Diamond, PointTypes.Box, PointTypes.LowerTriangle, PointTypes.OpenLowerTriangle, };\n",
        "LineColors[] myCollors = new LineColors[] { LineColors.Red, LineColors.Orange, LineColors.Blue };"
      ]
    },
    {
      "cell_type": "markdown",
      "metadata": {},
      "source": [
        "Plot for cf"
      ]
    },
    {
      "cell_type": "code",
      "execution_count": null,
      "metadata": {
        "dotnet_interactive": {
          "language": "csharp"
        },
        "vscode": {
          "languageId": "dotnet-interactive.csharp"
        }
      },
      "outputs": [],
      "source": [
        "Plot2Ddata[,] PlotTableCfs = new Plot2Ddata[1, 3];\n",
        "Plot2Ddata[,] PlotTableNusselts = new Plot2Ddata[1, 3];\n",
        "int counter = 0;\n",
        "// double[] ReynoldsFromPaper = new double[]{400,700,1000};\n",
        "double[] ReynoldsFromPaper = new double[]{700};\n",
        "foreach (double Re in ReynoldsFromPaper) {\n",
        "    var plotcf = new Plot2Ddata();\n",
        "    var plotnuss = new Plot2Ddata();\n",
        "\n",
        "    // BoSSS Data\n",
        "    int cnt = 0;\n",
        "    foreach (double er in ER) {\n",
        "        var fmt = new PlotFormat();\n",
        "        fmt.Style = Styles.Lines;\n",
        "\n",
        "        fmt.LineColor = myCollors[cnt];\n",
        "        plotcf.AddDataGroup(\"ER=\" + er, xCoordinates, cfs[(er, Re)], fmt);\n",
        "        plotnuss.AddDataGroup(\"ER=\" + er, xCoordinates, Nusselts[(er, Re)], fmt);\n",
        "       \n",
        "        // Add reference data\n",
        "        // Data avaliable for Re 400 700 1000 and ER 1.5 2.0 2.5\n",
        "        // if(er == 1.5 || er == 2.0 || er == 2.5){\n",
        "        MultidimensionalArray[] ReferenceDatacf = new MultidimensionalArray[1];\n",
        "        MultidimensionalArray[] ReferenceDataNu = new MultidimensionalArray[1];\n",
        "        string CurrentDocDir = Directory.GetCurrentDirectory();\n",
        "        string erstr = ((int)(er * 10)).ToString();\n",
        "\n",
        "        // string path1 = Path.Combine(CurrentDocDir, @\"CF_RE\" + Re + \"_ER\" + erstr + \".txt\"); // CF_RE400_ER15 Data avaliable for Re 400 700 1000 and ER 1.5 2.0 2.5\n",
        "        // string path2 = Path.Combine(CurrentDocDir, @\"NU_RE\" + Re + \"_ER\" + erstr + \".txt\"); // CF_RE400_ER15\n",
        "        string path1 = Path.Combine(CurrentDocDir, @\"fd700.txt\"); // CF_RE400_ER15 Data avaliable for Re 400 700 1000 and ER 1.5 2.0 2.5\n",
        "        string path2 = Path.Combine(CurrentDocDir, @\"NU__.txt\"); // CF_RE400_ER15\n",
        "\n",
        "        ReferenceDatacf[0] = IMatrixExtensions.LoadFromTextFile(path1);\n",
        "        ReferenceDataNu[0] = IMatrixExtensions.LoadFromTextFile(path2);\n",
        "        var fmt4 = new PlotFormat();\n",
        "        fmt4.Style = Styles.Points;\n",
        "        // fmt.Style = Styles.Lines;\n",
        "\n",
        "        fmt4.PointType = myPointTypes[cnt];// PointTypes.Diamond;\n",
        "        fmt4.PointSize = 0.5;\n",
        "        \n",
        "\n",
        "        var xArr_cf = ReferenceDatacf[0].ExtractSubArrayShallow(-1, 0).To1DArray();\n",
        "        var yArr_cf = ReferenceDatacf[0].ExtractSubArrayShallow(-1, 1).To1DArray();\n",
        "        var xArr_nu = ReferenceDataNu[0].ExtractSubArrayShallow(-1, 0).To1DArray();\n",
        "        var yArr_nu = ReferenceDataNu[0].ExtractSubArrayShallow(-1, 1).To1DArray();\n",
        "       \n",
        "\n",
        "\n",
        "        plotcf.AddDataGroup(xArr_cf,yArr_cf,fmt4);\n",
        "        plotcf.XrangeMin=xCoordinates.Min();\n",
        "        plotcf.XrangeMax=xCoordinates.Max();\n",
        "\n",
        "    \n",
        "        plotnuss.AddDataGroup( xArr_nu,yArr_nu, fmt4);\n",
        "        plotnuss.XrangeMin=xCoordinates.Min();\n",
        "        plotnuss.XrangeMax=xCoordinates.Max();\n",
        "    // }\n",
        "\n",
        "        cnt++; \n",
        "    }\n",
        "    PlotTableCfs[0, counter] = plotcf;\n",
        "    PlotTableNusselts[0, counter] = plotnuss;\n",
        "    counter++;\n",
        "}\n",
        "var gp = PlotTableCfs.ToGnuplot();\n",
        "gp.PlotSVG(xRes:2000,yRes:400)\n"
      ]
    },
    {
      "cell_type": "code",
      "execution_count": null,
      "metadata": {
        "dotnet_interactive": {
          "language": "csharp"
        },
        "vscode": {
          "languageId": "dotnet-interactive.csharp"
        }
      },
      "outputs": [],
      "source": [
        "var gp = PlotTableNusselts.ToGnuplot();\n",
        "gp.PlotSVG(xRes:2000,yRes:400)"
      ]
    },
    {
      "cell_type": "markdown",
      "metadata": {},
      "source": [
        "Points of separation are obtained by finding the positions where the value of the gradient of velocityX normal to the wall changes its sign. "
      ]
    },
    {
      "cell_type": "code",
      "execution_count": null,
      "metadata": {
        "dotnet_interactive": {
          "language": "csharp"
        },
        "vscode": {
          "languageId": "dotnet-interactive.csharp"
        }
      },
      "outputs": [],
      "source": [
        "List<double> Rey = new List<double>();\n",
        "List<double> Lenghths = new List<double>();\n",
        "\n",
        "List<double> ReyTop = new List<double>();\n",
        "List<double> Lenghths_left = new List<double>();\n",
        "List<double> Lenghths_right = new List<double>();\n",
        "\n",
        "foreach(var a in ReattachmentPositionsTOP){\n",
        "    try{\n",
        "        ReyTop.Add(a.Key.Item2);\n",
        "        Lenghths_left.Add(a.Value[0]);\n",
        "        Lenghths_right.Add(a.Value[1]);\n",
        "\n",
        "        }catch(Exception e){\n",
        "            Lenghths_left.Add(0);\n",
        "            Lenghths_right.Add(0);\n",
        "        continue;\n",
        "        }\n",
        "}\n",
        "foreach(var a in ReattachmentPositions){\n",
        "        double Reynolds = a.Key.Item2;\n",
        "        double[] allLengths = a.Value;\n",
        "        try{\n",
        "            double primLength = allLengths[0];\n",
        "            if(primLength < 0.3) //Try to filter values in order to obtain the length of reattachment after the aparition of the primary vortex  \n",
        "                primLength = allLengths[1];\n",
        "                \n",
        "            Rey.Add(Reynolds);\n",
        "            Lenghths.Add(primLength);\n",
        "        }catch(Exception e){\n",
        "        continue;\n",
        "        }\n",
        "}\n"
      ]
    },
    {
      "cell_type": "code",
      "execution_count": null,
      "metadata": {
        "dotnet_interactive": {
          "language": "csharp"
        },
        "vscode": {
          "languageId": "dotnet-interactive.csharp"
        }
      },
      "outputs": [],
      "source": [
        "double nu = 15.52e-6;// Kinematic viscosity of air at 25°c, m2/s\n",
        "double S = 15.0/1000; // Reference length according to the paper of XIA, meters\n",
        "double vel = 700*nu/S; // mean velocity, m/s\n",
        "// Console.WriteLine(\"Re:\" + Re);\n",
        "// Console.WriteLine(\"vel:\" + vel);\n",
        "//  double ReDimFactor =vel/S*0+1;\n",
        "double factor = 4*nu/(vel*vel/4.0);"
      ]
    },
    {
      "cell_type": "code",
      "execution_count": null,
      "metadata": {
        "dotnet_interactive": {
          "language": "csharp"
        },
        "vscode": {
          "languageId": "dotnet-interactive.csharp"
        }
      },
      "outputs": [],
      "source": [
        "Lenghths"
      ]
    },
    {
      "cell_type": "markdown",
      "metadata": {},
      "source": [
        "Comparison of reattachment lengths for the primary vortex for ER =1.9423 "
      ]
    },
    {
      "cell_type": "code",
      "execution_count": null,
      "metadata": {
        "dotnet_interactive": {
          "language": "csharp"
        },
        "vscode": {
          "languageId": "dotnet-interactive.csharp"
        }
      },
      "outputs": [],
      "source": [
        "var plot = new Plot2Ddata();\n",
        "var fmt = new PlotFormat();\n",
        "fmt.Style = Styles.Lines;\n",
        "\n",
        "fmt.LineColor = myCollors[0];\n",
        "plot.AddDataGroup(\"BoSSS\", Rey.ToArray(), Lenghths.ToArray(), fmt);\n",
        "\n",
        "// Reference data\n",
        "MultidimensionalArray[] ReferenceDataNu = new MultidimensionalArray[1];\n",
        "\n",
        "string path2 = Path.Combine(Directory.GetCurrentDirectory(), @\"reatlengths_bot.txt\"); // CF_RE400_ER1data for ER 1.94...\n",
        "ReferenceDataNu[0] = IMatrixExtensions.LoadFromTextFile(path2);\n",
        "var fmt4 = new PlotFormat();\n",
        "fmt4.Style = Styles.Points;\n",
        "\n",
        "fmt4.PointType = myPointTypes[0];// PointTypes.Diamond;\n",
        "fmt4.PointSize = 0.5;\n",
        "var xArr_nu = ReferenceDataNu[0].ExtractSubArrayShallow(-1, 0).To1DArray();\n",
        "for(int i = 0; i < xArr_nu.Length; i++){\n",
        "    xArr_nu[i]*=0.5; // REescale Reynolds for comparison with paper \n",
        "}\n",
        "\n",
        "var yArr_nu = ReferenceDataNu[0].ExtractSubArrayShallow(-1, 1).To1DArray();\n",
        "plot.AddDataGroup(\"reference\",xArr_nu,yArr_nu,fmt4);\n",
        "plot . PlotNow ()\n"
      ]
    },
    {
      "cell_type": "code",
      "execution_count": null,
      "metadata": {
        "dotnet_interactive": {
          "language": "csharp"
        },
        "vscode": {
          "languageId": "dotnet-interactive.csharp"
        }
      },
      "outputs": [],
      "source": [
        "var plot = new Plot2Ddata();\n",
        "var fmt = new PlotFormat();\n",
        "fmt.Style = Styles.Lines;\n",
        "\n",
        "fmt.LineColor = myCollors[0];\n",
        "plot.AddDataGroup(\"BoSSS_Deatach\",ReyTop.ToArray(),Lenghths_left.ToArray(), fmt);\n",
        "plot.AddDataGroup(\"BoSSS_ReAtach\",ReyTop.ToArray(),Lenghths_right.ToArray(), fmt);\n",
        "\n",
        "// Reference data\n",
        "MultidimensionalArray[] ReferenceDataLeft = new MultidimensionalArray[1];\n",
        "string path2 = Path.Combine(Directory.GetCurrentDirectory(), @\"reatlengths_top_left.txt\"); // CF_RE400_ER1data for ER 1.94...\n",
        "ReferenceDataLeft[0] = IMatrixExtensions.LoadFromTextFile(path2);\n",
        "\n",
        "MultidimensionalArray[] ReferenceDataRight = new MultidimensionalArray[1];\n",
        "string path = Path.Combine(Directory.GetCurrentDirectory(), @\"reatlengths_top_right.txt\"); // CF_RE400_ER1data for ER 1.94...\n",
        "ReferenceDataRight[0] = IMatrixExtensions.LoadFromTextFile(path);\n",
        "\n",
        "\n",
        "var fmt4 = new PlotFormat();\n",
        "fmt4.Style = Styles.Points;\n",
        "fmt4.PointType = myPointTypes[0];// PointTypes.Diamond;\n",
        "fmt4.PointSize = 0.5;\n",
        "\n",
        "\n",
        "var xArr_left = ReferenceDataLeft[0].ExtractSubArrayShallow(-1, 0).To1DArray();\n",
        "var yArr_left = ReferenceDataLeft[0].ExtractSubArrayShallow(-1, 1).To1DArray();\n",
        "for(int i = 0; i < xArr_left.Length; i++){\n",
        "    xArr_left[i]*=0.5; // REescale Reynolds for comparison with paper \n",
        "}\n",
        "\n",
        "\n",
        "var xArr_right = ReferenceDataRight[0].ExtractSubArrayShallow(-1, 0).To1DArray();\n",
        "var yArr_right = ReferenceDataRight[0].ExtractSubArrayShallow(-1, 1).To1DArray();\n",
        "for(int i = 0; i < xArr_right.Length; i++){\n",
        "    xArr_right[i]*=0.5; // REescale Reynolds for comparison with paper \n",
        "}\n",
        "\n",
        "\n",
        "\n",
        "plot.AddDataGroup(\"reference\",xArr_left,yArr_left,fmt4);\n",
        "plot.AddDataGroup(\"reference\",xArr_right,yArr_right,fmt4);\n",
        "plot.PlotNow ()\n"
      ]
    },
    {
      "cell_type": "code",
      "execution_count": null,
      "metadata": {
        "dotnet_interactive": {
          "language": "csharp"
        },
        "vscode": {
          "languageId": "dotnet-interactive.csharp"
        }
      },
      "outputs": [],
      "source": []
    },
    {
      "cell_type": "code",
      "execution_count": null,
      "metadata": {
        "dotnet_interactive": {
          "language": "csharp"
        },
        "vscode": {
          "languageId": "dotnet-interactive.csharp"
        }
      },
      "outputs": [],
      "source": [
        "string basepath = @\"C:\\tmp\\NU_FD\\\";\n",
        "\n",
        "private static void ToTxtFile(string fileName, double[] x, double[] y) {\n",
        "    if(x.Length != y.Length)\n",
        "        throw new Exception();\n",
        "        using (var file = new StreamWriter(fileName)) {\n",
        "        for(int i = 0; i< x.Length; i++){\n",
        "            file.Write(x[i] + \"\\t\" + y[i]);\n",
        "            file.WriteLine();\n",
        "        }\n",
        "    }    \n",
        "}"
      ]
    },
    {
      "cell_type": "code",
      "execution_count": null,
      "metadata": {
        "dotnet_interactive": {
          "language": "csharp"
        },
        "vscode": {
          "languageId": "dotnet-interactive.csharp"
        }
      },
      "outputs": [],
      "source": [
        "bool exportToTxt  = true;\n",
        "if(exportToTxt){\n",
        "    ToTxtFile(basepath + \"BottomReatLength.txt\", Rey.ToArray(), Lenghths.ToArray());\n",
        "    ToTxtFile(basepath + \"TopSepLength.txt\",ReyTop.ToArray(),Lenghths_left.ToArray());\n",
        "    ToTxtFile(basepath + \"TopReatLength.txt\", ReyTop.ToArray(),Lenghths_right.ToArray());\n",
        "\n",
        "    ToTxtFile(basepath + \"REF_BottomReatLength.txt\",xArr_nu, yArr_nu);\n",
        "    ToTxtFile(basepath + \"REF_TopSepLength.txt\",xArr_left, yArr_left);\n",
        "    ToTxtFile(basepath + \"REF_TopReatLength.txt\",xArr_right, yArr_right);\n",
        "\n",
        "\n",
        "}"
      ]
    },
    {
      "cell_type": "code",
      "execution_count": null,
      "metadata": {
        "dotnet_interactive": {
          "language": "csharp"
        },
        "vscode": {
          "languageId": "dotnet-interactive.csharp"
        }
      },
      "outputs": [],
      "source": [
        "double er = 2.0;\n",
        "var sess = myDb.Sessions.Where(s => s.Tags.Pick(0) == er.ToString()).SingleOrDefault();\n",
        "\n",
        "var control =  (XNSEC_Control)sess.GetControl();\n",
        "var ReynoldsArray = control.SelfDefinedHomotopyArray;\n",
        "Dictionary<int, double> ReynoldsDictionary = new Dictionary<int, double>();\n",
        "for(int i = 0; i <ReynoldsArray.Length;i++ ){\n",
        "    ReynoldsDictionary.Add(i, ReynoldsArray[i]);\n",
        "}\n",
        "\n",
        "\n",
        "double Re = 400;\n",
        "int indexOfReynolds = ReynoldsDictionary.FirstOrDefault(x => x.Value == Re).Key;\n",
        "var timestep = sess.Timesteps[indexOfReynolds+1];\n",
        "var VelocityX = timestep.Fields.Where(f=> f.Identification == VariableNames.VelocityX).SingleOrDefault();\n",
        "var VelocityY = timestep.Fields.Where(f=> f.Identification == VariableNames.VelocityY).SingleOrDefault();\n"
      ]
    },
    {
      "cell_type": "code",
      "execution_count": null,
      "metadata": {
        "dotnet_interactive": {
          "language": "csharp"
        },
        "vscode": {
          "languageId": "dotnet-interactive.csharp"
        }
      },
      "outputs": [],
      "source": [
        "double[] ys = GenericBlas.Linspace(0.0001,1.999,41);\n",
        "double[] ys_real = GenericBlas.Linspace(0.0001,1.999,41);\n",
        "double[] VelXArr7 = new double[ys.Length];\n",
        "double[] VelYArr7 = new double[ys.Length];\n",
        "\n",
        "double[] VelXArr15 = new double[ys.Length];\n",
        "double[] VelYArr15 = new double[ys.Length];\n",
        "\n",
        "\n",
        "for(int i = 0; i< ys.Length; i++){\n",
        "    VelXArr7[i] = VelocityX.ProbeAt(new double[] {7.02*2,ys[i]})*0.5;\n",
        "    VelXArr15[i] = VelocityX.ProbeAt(new double[] {15.0*2,ys[i]})*0.5;\n",
        "    \n",
        "    // VelYArr7[i] = VelocityY.ProbeAt(new double[] {7*2,ys[i]})*0.5;\n",
        "    // VelYArr15[i] = VelocityY.ProbeAt(new double[] {15.0*2,ys[i]})*0.5;\n",
        "\n",
        "    ys_real[i] = ys[i]/2.0 - 0.5;\n",
        "}\n"
      ]
    },
    {
      "cell_type": "code",
      "execution_count": null,
      "metadata": {
        "dotnet_interactive": {
          "language": "csharp"
        },
        "vscode": {
          "languageId": "dotnet-interactive.csharp"
        }
      },
      "outputs": [],
      "source": [
        "var plot = new Plot2Ddata();\n",
        "var fmt = new PlotFormat();\n",
        "fmt.Style = Styles.Lines;\n",
        "\n",
        "fmt.LineColor = myCollors[0];\n",
        "plot.AddDataGroup(\"BoSSS\",VelXArr7, ys_real,  fmt);\n",
        "plot.AddDataGroup(\"BoSSS\",VelXArr15, ys_real,  fmt);\n",
        "\n",
        "// Reference data\n",
        "MultidimensionalArray[] ReferenceData1 = new MultidimensionalArray[1];\n",
        "MultidimensionalArray[] ReferenceData2 = new MultidimensionalArray[1];\n",
        "\n",
        "string path1 = Path.Combine(Directory.GetCurrentDirectory(), @\"Re400_u_x7_.txt\"); // CF_RE400_ER1data for ER 1.94...\n",
        "string path2 = Path.Combine(Directory.GetCurrentDirectory(), @\"Re400_u_x15_.txt\"); // CF_RE400_ER1data for ER 1.94...\n",
        "ReferenceData1[0] = IMatrixExtensions.LoadFromTextFile(path1);\n",
        "ReferenceData2[0] = IMatrixExtensions.LoadFromTextFile(path2);\n",
        "var fmt4 = new PlotFormat();\n",
        "fmt4.Style = Styles.Points;\n",
        "\n",
        "fmt4.PointType = myPointTypes[0];// PointTypes.Diamond;\n",
        "fmt4.PointSize = 0.5;\n",
        "var xArr_1 = ReferenceData1[0].ExtractSubArrayShallow(-1, 0).To1DArray();\n",
        "var xArr_2 = ReferenceData2[0].ExtractSubArrayShallow(-1, 0).To1DArray();\n",
        "for(int i = 0; i < xArr_1.Length; i++){\n",
        "    xArr_1[i]*=0.5; // REescale for comparison with paper  \n",
        "}\n",
        "for(int i = 0; i < xArr_2.Length; i++){\n",
        "    xArr_2[i]*=0.5; // REescale for comparison with paper  \n",
        "}\n",
        "\n",
        "var yArr_1 = ReferenceData1[0].ExtractSubArrayShallow(-1, 1).To1DArray();\n",
        "var yArr_2 = ReferenceData2[0].ExtractSubArrayShallow(-1, 1).To1DArray();\n",
        "plot.AddDataGroup(\"reference\",xArr_1,yArr_1,fmt4);\n",
        "plot.AddDataGroup(\"reference\",xArr_2,yArr_2,fmt4);\n",
        "plot.PlotNow ()\n"
      ]
    },
    {
      "cell_type": "code",
      "execution_count": null,
      "metadata": {
        "dotnet_interactive": {
          "language": "csharp"
        },
        "vscode": {
          "languageId": "dotnet-interactive.csharp"
        }
      },
      "outputs": [],
      "source": []
    },
    {
      "cell_type": "code",
      "execution_count": null,
      "metadata": {
        "dotnet_interactive": {
          "language": "csharp"
        },
        "vscode": {
          "languageId": "dotnet-interactive.csharp"
        }
      },
      "outputs": [],
      "source": [
        "var plot = new Plot2Ddata();\n",
        "var fmt = new PlotFormat();\n",
        "fmt.Style = Styles.Lines;\n",
        "\n",
        "fmt.LineColor = myCollors[0];\n",
        "plot.AddDataGroup(\"BoSSS\",VelYArr7, ys_real,  fmt);\n",
        "// plot.AddDataGroup(\"BoSSS\",VelYArr15, ys_real,  fmt);\n",
        "\n",
        "// Reference data\n",
        "MultidimensionalArray[] ReferenceData1 = new MultidimensionalArray[1];\n",
        "MultidimensionalArray[] ReferenceData2 = new MultidimensionalArray[1];\n",
        "\n",
        "string path1 = Path.Combine(Directory.GetCurrentDirectory(), @\"Re400_v_x7_.txt\"); \n",
        "string path2 = Path.Combine(Directory.GetCurrentDirectory(), @\"Re400_v_x15_.txt\");\n",
        "ReferenceData1[0] = IMatrixExtensions.LoadFromTextFile(path1);\n",
        "ReferenceData2[0] = IMatrixExtensions.LoadFromTextFile(path2);\n",
        "var fmt4 = new PlotFormat();\n",
        "fmt4.Style = Styles.Points;\n",
        "\n",
        "fmt4.PointType = myPointTypes[0];// PointTypes.Diamond;\n",
        "fmt4.PointSize = 0.5;\n",
        "var xArr_1 = ReferenceData1[0].ExtractSubArrayShallow(-1, 0).To1DArray();\n",
        "var xArr_2 = ReferenceData2[0].ExtractSubArrayShallow(-1, 0).To1DArray();\n",
        "for(int i = 0; i < xArr_1.Length; i++){\n",
        "    xArr_1[i]*=0.5; // REescale for comparison with paper  \n",
        "}\n",
        "for(int i = 0; i < xArr_2.Length; i++){\n",
        "    xArr_2[i]*=0.5; // REescale for comparison with paper  \n",
        "}\n",
        "var yArr_1 = ReferenceData1[0].ExtractSubArrayShallow(-1, 1).To1DArray();\n",
        "var yArr_2 = ReferenceData2[0].ExtractSubArrayShallow(-1, 1).To1DArray();\n",
        "// plot.AddDataGroup(\"reference\",xArr_1,yArr_1,fmt4);\n",
        "plot.AddDataGroup(\"reference\",xArr_2,yArr_2,fmt4);\n",
        "plot.PlotNow ()\n"
      ]
    },
    {
      "cell_type": "code",
      "execution_count": null,
      "metadata": {
        "dotnet_interactive": {
          "language": "csharp"
        },
        "vscode": {
          "languageId": "dotnet-interactive.csharp"
        }
      },
      "outputs": [],
      "source": [
        "ToTxtFile(basepath + \"VelXArr7.txt\" ,VelXArr7, ys_real);\n",
        "ToTxtFile(basepath + \"VelXArr15.txt\" ,VelXArr15, ys_real);\n",
        "ToTxtFile(basepath + \"VelXArr7_REF.txt\" ,xArr_1, yArr_1);\n",
        "ToTxtFile(basepath + \"VelXArr15_REF.txt\" ,xArr_2, yArr_2);\n",
        "\n"
      ]
    },
    {
      "cell_type": "code",
      "execution_count": null,
      "metadata": {
        "dotnet_interactive": {
          "language": "csharp"
        },
        "vscode": {
          "languageId": "dotnet-interactive.csharp"
        }
      },
      "outputs": [],
      "source": []
    },
    {
      "cell_type": "code",
      "execution_count": null,
      "metadata": {
        "dotnet_interactive": {
          "language": "csharp"
        },
        "vscode": {
          "languageId": "dotnet-interactive.csharp"
        }
      },
      "outputs": [],
      "source": []
    },
    {
      "cell_type": "code",
      "execution_count": null,
      "metadata": {
        "dotnet_interactive": {
          "language": "csharp"
        },
        "vscode": {
          "languageId": "dotnet-interactive.csharp"
        }
      },
      "outputs": [],
      "source": []
    }
  ],
  "metadata": {
    "interpreter": {
      "hash": "5a4c2b90e762e735d09b118f9f9cec0074c9c9a762110f7a987def15c668bc0d"
    },
    "kernelspec": {
      "display_name": ".NET (C#)",
      "language": "C#",
      "name": ".net-csharp"
    },
    "language_info": {
      "file_extension": ".cs",
      "mimetype": "text/x-csharp",
      "name": "C#",
      "pygments_lexer": "csharp",
      "version": "9.0"
    }
  },
  "nbformat": 4,
  "nbformat_minor": 4
}
