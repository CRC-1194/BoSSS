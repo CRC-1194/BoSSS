{
  "cells": [
    {
      "cell_type": "code",
      "execution_count": null,
      "metadata": {
        "dotnet_interactive": {
          "language": "csharp"
        }
      },
      "outputs": [
        {
          "name": "stdout",
          "output_type": "stream",
          "text": [
            "Using gnuplot: C:\\Program Files (x86)\\FDY\\BoSSS\\bin\\native\\win\\gnuplot-gp510-20160418-win32-mingw\\gnuplot\\bin\\gnuplot.exe\r\n",
            "Unable to open database: \r\n",
            "primary path: d:\\bosss_db_Natconv\r\n",
            "No alternative paths specified.\r\n",
            "IOException caught while opening database #0 at 'd:\\bosss_db_Natconv': Unable to open database - all given paths either don't exist or are ruled out by the machine filter on this machine with name pcmit30 .\r\n",
            "Unable to open database: \r\n",
            "primary path: \\\\hpccluster\\hpccluster-scratch\\gutierrez\\NatConvStudyTEST\r\n",
            "No alternative paths specified.\r\n",
            "IOException caught while opening database #1 at '\\\\hpccluster\\hpccluster-scratch\\gutierrez\\NatConvStudyTEST': Unable to open database - all given paths either don't exist or are ruled out by the machine filter on this machine with name pcmit30 .\r\n",
            "Unable to open database: \r\n",
            "primary path: \\\\hpccluster\\hpccluster-scratch\\gutierrez\\bosss_db_Natconv\r\n",
            "No alternative paths specified.\r\n",
            "IOException caught while opening database #2 at '\\\\hpccluster\\hpccluster-scratch\\gutierrez\\bosss_db_Natconv': Unable to open database - all given paths either don't exist or are ruled out by the machine filter on this machine with name pcmit30 .\r\n",
            "Unable to open database: \r\n",
            "primary path: \\\\hpccluster\\hpccluster-scratch\\gutierrez\\bosss_db_Combustion\r\n",
            "No alternative paths specified.\r\n",
            "IOException caught while opening database #3 at '\\\\hpccluster\\hpccluster-scratch\\gutierrez\\bosss_db_Combustion': Unable to open database - all given paths either don't exist or are ruled out by the machine filter on this machine with name pcmit30 .\r\n",
            "Unable to open database: \r\n",
            "primary path: D:\\bosss_db_flamesheet\r\n",
            "No alternative paths specified.\r\n",
            "IOException caught while opening database #5 at 'D:\\bosss_db_flamesheet': Unable to open database - all given paths either don't exist or are ruled out by the machine filter on this machine with name pcmit30 .\r\n",
            "Unable to open database: \r\n",
            "primary path: D:\\bosssDB_CounterDiffFlame\r\n",
            "No alternative paths specified.\r\n",
            "IOException caught while opening database #6 at 'D:\\bosssDB_CounterDiffFlame': Unable to open database - all given paths either don't exist or are ruled out by the machine filter on this machine with name pcmit30 .\r\n",
            "Databases loaded: \r\n",
            "Capacity: 4\r\n",
            "Count: 1\r\n",
            "\r\n"
          ]
        },
        {
          "ename": "Error",
          "evalue": "System.ApplicationException: Already called.\r\n   at BoSSS.Application.BoSSSpad.BoSSSshell.InitTraceFile() in C:\\BoSSS2\\experimental\\public\\src\\L4-application\\BoSSSpad\\BoSSSshell.cs:line 170\r\n   at BoSSS.Application.BoSSSpad.BoSSSshell.Init() in C:\\BoSSS2\\experimental\\public\\src\\L4-application\\BoSSSpad\\BoSSSshell.cs:line 97\r\n   at Submission#26.<<Initialize>>d__0.MoveNext()\r\n--- End of stack trace from previous location ---\r\n   at Microsoft.CodeAnalysis.Scripting.ScriptExecutionState.RunSubmissionsAsync[TResult](ImmutableArray`1 precedingExecutors, Func`2 currentExecutor, StrongBox`1 exceptionHolderOpt, Func`2 catchExceptionOpt, CancellationToken cancellationToken)",
          "output_type": "error",
          "traceback": [
            "System.ApplicationException: Already called.\r\n",
            "   at BoSSS.Application.BoSSSpad.BoSSSshell.InitTraceFile() in C:\\BoSSS2\\experimental\\public\\src\\L4-application\\BoSSSpad\\BoSSSshell.cs:line 170\r\n",
            "   at BoSSS.Application.BoSSSpad.BoSSSshell.Init() in C:\\BoSSS2\\experimental\\public\\src\\L4-application\\BoSSSpad\\BoSSSshell.cs:line 97\r\n",
            "   at Submission#26.<<Initialize>>d__0.MoveNext()\r\n",
            "--- End of stack trace from previous location ---\r\n",
            "   at Microsoft.CodeAnalysis.Scripting.ScriptExecutionState.RunSubmissionsAsync[TResult](ImmutableArray`1 precedingExecutors, Func`2 currentExecutor, StrongBox`1 exceptionHolderOpt, Func`2 catchExceptionOpt, CancellationToken cancellationToken)"
          ]
        }
      ],
      "source": [
        "#r \"C:\\BoSSS2\\experimental\\public\\src\\L4-application\\BoSSSpad\\bin\\Release\\net5.0\\bossspad.dll\"\n",
        "// #r \"BoSSSpad.dll\"\n",
        "using System;\n",
        "using System.Collections.Generic;\n",
        "using System.Linq;\n",
        "using System.IO;\n",
        "using System.Data;\n",
        "using System.Globalization;\n",
        "using System.Threading;\n",
        "using ilPSP;\n",
        "using ilPSP.Utils;\n",
        "using BoSSS.Platform;\n",
        "using BoSSS.Foundation;\n",
        "using BoSSS.Foundation.Grid;\n",
        "using BoSSS.Foundation.Grid.Classic;\n",
        "using BoSSS.Foundation.IO;\n",
        "using BoSSS.Solution;\n",
        "using BoSSS.Solution.Control;\n",
        "using BoSSS.Solution.GridImport;\n",
        "using BoSSS.Solution.Statistic;\n",
        "using BoSSS.Solution.Utils;\n",
        "using BoSSS.Solution.Gnuplot;\n",
        "using BoSSS.Application.BoSSSpad;\n",
        "using BoSSS.Application.XNSE_Solver;\n",
        "using static BoSSS.Application.BoSSSpad.BoSSSshell;\n",
        "using BoSSS.Foundation.Grid.RefElements;\n",
        "using BoSSS.Platform.LinAlg;\n",
        "using BoSSS.Solution.NSECommon;\n",
        "using BoSSS.Application.XNSEC;\n",
        "Init();"
      ]
    },
    {
      "cell_type": "code",
      "execution_count": null,
      "metadata": {
        "dotnet_interactive": {
          "language": "csharp"
        }
      },
      "outputs": [
        {
          "name": "stdout",
          "output_type": "stream",
          "text": [
            "Project name is set to 'HeatedBackwardFacingStep'.\r\n",
            "Opening existing database 'S:\\work\\scratch\\jg11bano\\HeatedBackwardFacingStep'.\r\n"
          ]
        }
      ],
      "source": [
        "BoSSSshell.WorkflowMgm.Init(\"HeatedBackwardFacingStep\");"
      ]
    },
    {
      "cell_type": "code",
      "execution_count": null,
      "metadata": {
        "dotnet_interactive": {
          "language": "csharp"
        }
      },
      "outputs": [
        {
          "data": {
            "text/html": [
              "<table><thead><tr><th><i>index</i></th><th>value</th></tr></thead><tbody><tr><td>0</td><td>#SBATCH -C avx512</td></tr><tr><td>1</td><td>#SBATCH --mem-per-cpu=2000</td></tr></tbody></table>"
            ]
          },
          "metadata": {},
          "output_type": "display_data"
        }
      ],
      "source": [
        "var myBatch = (SlurmClient)GetDefaultQueue();\n",
        "var AddSbatchCmds = new List<string>();\n",
        "AddSbatchCmds.AddRange(new string[]{\"#SBATCH -C avx512\", \"#SBATCH --mem-per-cpu=\"+2000});\n",
        "myBatch.AdditionalBatchCommands = AddSbatchCmds.ToArray();\n",
        "myBatch.AdditionalBatchCommands"
      ]
    },
    {
      "cell_type": "code",
      "execution_count": null,
      "metadata": {
        "dotnet_interactive": {
          "language": "csharp"
        }
      },
      "outputs": [],
      "source": [
        "static var myDb = BoSSS.Application.BoSSSpad.BoSSSshell.WorkflowMgm.DefaultDatabase;\n",
        "BoSSS.Application.BoSSSpad.BoSSSshell.WorkflowMgm.SetNameBasedSessionJobControlCorrelation();\n"
      ]
    },
    {
      "cell_type": "code",
      "execution_count": null,
      "metadata": {
        "dotnet_interactive": {
          "language": "csharp"
        }
      },
      "outputs": [
        {
          "data": {
            "text/plain": [
              "{ Session Count = 0; Grid Count = 0; Path = S:\\work\\scratch\\jg11bano\\HeatedBackwardFacingStep }"
            ]
          },
          "metadata": {},
          "output_type": "display_data"
        }
      ],
      "source": [
        "myDb"
      ]
    },
    {
      "cell_type": "code",
      "execution_count": null,
      "metadata": {
        "dotnet_interactive": {
          "language": "csharp"
        }
      },
      "outputs": [],
      "source": [
        "// static var myDb = myBatch.CreateOrOpenCompatibleDatabase(\"HeatedBackwardFacingStep\");\n",
        "\n",
        "// static var myBatch = (SlurmClient)BoSSSshell.ExecutionQueues[1];\n",
        "// static var myDb = BoSSS.Application.BoSSSpad.BoSSSshell.OpenOrCreateDatabase(@\"S:\\work\\scratch\\jg11bano\\Heated_BFS\"); \n",
        "\n",
        "\n"
      ]
    },
    {
      "cell_type": "markdown",
      "metadata": {},
      "source": []
    },
    {
      "cell_type": "code",
      "execution_count": null,
      "metadata": {
        "dotnet_interactive": {
          "language": "csharp"
        }
      },
      "outputs": [],
      "source": [
        "int Resolution =16;\n",
        "int dg = 2;\n",
        "// double[] ReynoldsS = new double[]{100, 400,700,1000};\n",
        "// double[] ExpansionRatioS = new double[]{1.5,2.0,2.5};  // Defines the length of the inlet(h). ER = 1+S/h;\n",
        "double[] ReynoldsS = new double[]{700};\n",
        "double[] ExpansionRatioS = new double[]{2.0};\n",
        "int MPI_PROCS = 16;"
      ]
    },
    {
      "cell_type": "markdown",
      "metadata": {},
      "source": [
        "## Create grid"
      ]
    },
    {
      "cell_type": "code",
      "execution_count": null,
      "metadata": {
        "dotnet_interactive": {
          "language": "csharp"
        }
      },
      "outputs": [],
      "source": [
        "public static class GridFactory {\n",
        "\n",
        "    public static Grid2D GenerateGrid(int Res, double S, double h, double H, double L0,double L) {\n",
        "        // Grid2D grd;\n",
        "\n",
        "        double[] CutOut1Point1 = new double[2] { 0.0, 0.0 };\n",
        "        double[] CutOut1Point2 = new double[2] { -L0, S };\n",
        "\n",
        "        var CutOut1 = new BoSSS.Platform.Utils.Geom.BoundingBox(2);\n",
        "        CutOut1.AddPoint(CutOut1Point1);\n",
        "        CutOut1.AddPoint(CutOut1Point2);\n",
        "\n",
        "        \n",
        "        // left part\n",
        "        var _leftNodes = GenericBlas.SinLinSpacing(-2 * L0, 0, 0.98, (2 * Res) + 1);\n",
        "        var leftNodes = _leftNodes.GetSubVector(_leftNodes.Length / 2, _leftNodes.Length / 2 + 1);\n",
        "        //right part\n",
        "        int xNodesMultiplier  = 110;\n",
        "        var _rightNodes = GenericBlas.SinLinSpacing(0, 2 * L, 0.9, (xNodesMultiplier * Res) + 1);\n",
        "        var rightNodes = _rightNodes.GetSubVector(0, _rightNodes.Length / 2 + 1);\n",
        "\n",
        "        List<double> listX = new List<double>();\n",
        "        listX.AddRange(leftNodes.Take(leftNodes.Count() - 1).ToList());\n",
        "        listX.AddRange(rightNodes.Take(rightNodes.Count() + 1).ToList());\n",
        "        var xNodes = listX.ToArray();\n",
        "\n",
        "\n",
        "        //Bottom part\n",
        "        var _bottomNodes = GenericBlas.SinLinSpacing(0, S, 0.8, 2*(2 * Res) + 1);\n",
        "        //upper part\n",
        "        var _upperNodes = GenericBlas.SinLinSpacing(S, S+h, 0.8, 2*(2 * Res) + 1);\n",
        "        // var upperNodes = _upperNodes.GetSubVector(0, _upperNodes.Length / 2 + 1);        \n",
        "        // for(int i = 0; i < upperNodes.Count(); i++){\n",
        "        //     upperNodes[i] = upperNodes[i] + S;\n",
        "        // }\n",
        "        \n",
        "        List<double> listY = new List<double>();\n",
        "        listY.AddRange(_bottomNodes.Take(_bottomNodes.Count() - 1).ToList());\n",
        "        listY.AddRange(_upperNodes.Take(_upperNodes.Count() + 1).ToList());\n",
        "        var yNodes = listY.ToArray();\n",
        "        var grd = Grid2D.Cartesian2DGrid(xNodes, yNodes, CutOuts: CutOut1);\n",
        "\n",
        "        Console.WriteLine(\"Number of nodes in X direction:\" +listX.Count() );\n",
        "        Console.WriteLine(\"Number of nodes in Y direction:\" +yNodes.Count() );\n",
        "        grd.EdgeTagNames.Add(1, \"Velocity_Inlet\");\n",
        "        grd.EdgeTagNames.Add(3, \"Pressure_Outlet\");\n",
        "        grd.EdgeTagNames.Add(2, \"NoSlipNeumann\");\n",
        "        grd.EdgeTagNames.Add(4, \"Wall\");\n",
        "\n",
        "        grd.DefineEdgeTags(delegate (double[] X) {\n",
        "            double x = X[0];\n",
        "            double y = X[1];\n",
        "\n",
        "            //Inlet oxidizer\n",
        "            if (Math.Abs(x + L0) < 1e-8)\n",
        "                return 1;\n",
        "\n",
        "            //Outlet\n",
        "            if (Math.Abs(x - L) < 1e-8)\n",
        "                return 3;\n",
        "\n",
        "            //Bottom Wall\n",
        "            if (Math.Abs(y - 0) < 1e-8 && x > 1e-8)\n",
        "                return 4;\n",
        "\n",
        "            return 2; \n",
        "        });\n",
        "\n",
        "        myDb.SaveGrid(ref grd);\n",
        "\n",
        "        return grd;\n",
        "    }\n",
        "}"
      ]
    },
    {
      "cell_type": "code",
      "execution_count": null,
      "metadata": {
        "dotnet_interactive": {
          "language": "csharp"
        }
      },
      "outputs": [],
      "source": [
        "public static class BoundaryValueFactory { \n",
        "\n",
        "    public static string GetPrefixCode(double const_val, double S, double h, double umean ) {\n",
        "        using(var stw = new System.IO.StringWriter()) {\n",
        "           \n",
        "           stw.WriteLine(\"static class BoundaryValues {\");\n",
        "\n",
        "\n",
        "           stw.WriteLine(\"  static public double ConstantVal(double[] X) {\");\n",
        "           stw.WriteLine(\"    return \" + const_val+\";\");\n",
        "           stw.WriteLine(\"  }\");\n",
        "\n",
        "           double H = S+h;           \n",
        "           stw.WriteLine(\"  static public double ParabolaVelocity(double[] X) {\");\n",
        "           stw.WriteLine(\"    return  -6 * \"+umean+\" * (X[1] -\"+ S+\") * (X[1] - 1 * \"+H+\") / (\"+h * h+\") ;\");\n",
        "           stw.WriteLine(\"  }\");\n",
        "\n",
        "\n",
        "           stw.WriteLine(\"}\"); \n",
        "           return stw.ToString();\n",
        "        }\n",
        "    }\n",
        "    static public Formula Get_ConstantVal(double const_val, double S, double h,double umean){\n",
        "        return new Formula(\"BoundaryValues.ConstantVal\", AdditionalPrefixCode:GetPrefixCode(const_val,S,h,umean));\n",
        "    }\n",
        "\n",
        "    static public Formula Get_ParabolaVelocity(double const_val, double S, double h, double umean){\n",
        "        return new Formula(\"BoundaryValues.ParabolaVelocity\", AdditionalPrefixCode:GetPrefixCode(const_val,S,h,umean));\n",
        "    }\n",
        "\n",
        "}"
      ]
    },
    {
      "cell_type": "markdown",
      "metadata": {},
      "source": [
        "## Send and run jobs"
      ]
    },
    {
      "cell_type": "code",
      "execution_count": null,
      "metadata": {
        "dotnet_interactive": {
          "language": "csharp"
        }
      },
      "outputs": [],
      "source": [
        "var controls = new List<XNSEC_Control>();"
      ]
    },
    {
      "cell_type": "code",
      "execution_count": null,
      "metadata": {
        "dotnet_interactive": {
          "language": "csharp"
        }
      },
      "outputs": [],
      "source": [
        "static XNSEC_Control GiveMeTheCtrlFile(int dg, int Resolution, double _Reynolds, bool HeatOn, double expansionRatio) {\n",
        "    XNSEC_Control C = new XNSEC_Control();\n",
        "    Console.WriteLine(\"////////////////////////////////////////////////////////////////////////////////////\");\n",
        "    Console.WriteLine(\"BackwardFacingStep2\");\n",
        "    Console.WriteLine(\"////////////////////////////////////////////////////////////////////////////////////\");\n",
        "\n",
        "    // Solver configuration\n",
        "    // ==============\n",
        "\n",
        "    C.TimesteppingMode = AppControl._TimesteppingMode.Steady;\n",
        "\n",
        "    C.ImmediatePlotPeriod = 1;\n",
        "    C.NonLinearSolver.SolverCode = NonLinearSolverCode.Newton;\n",
        "    C.NonLinearSolver.verbose = true;\n",
        "    C.ProjectName = \"Heated_BackwardFacingStep_Lichtenberg_2\";\n",
        "    int enOK = HeatOn == true ? 1 : 0;\n",
        "    C.SessionName = C.ProjectName + \"dg\" + dg + \"k\" + Resolution + \"Re\" + _Reynolds + \"EnergyOK\" + enOK;\n",
        "    //C.physicsMode = PhysicsMode.LowMach;\n",
        "    C.physicsMode = PhysicsMode.Combustion;\n",
        "    C.EnableMassFractions = false;\n",
        "    C.EnableTemperature = false;\n",
        "    C.MatParamsMode = MaterialParamsMode.Constant;\n",
        "\n",
        "    C.rhoOne = true;\n",
        "    if (HeatOn) {\n",
        "        C.MatParamsMode = MaterialParamsMode.Sutherland;\n",
        "        C.rhoOne = false;\n",
        "        C.EnableTemperature = true;\n",
        "    }\n",
        "    C.AnalyticsolutionSwitch = false;\n",
        "\n",
        "    C.PhysicalParameters.IncludeConvection = true;\n",
        "\n",
        "    C.NumberOfChemicalSpecies = 1;\n",
        "    C.ChemicalReactionActive = false;\n",
        "    C.SetDGdegree(dg);\n",
        "    C.GravityDirection = new double[] { 0.0, 0.0, 0.0 };\n",
        "\n",
        "    C.HeatRelease = 0.0;\n",
        "    // Parameters\n",
        "    // ==============\n",
        "\n",
        "    C.Reynolds = _Reynolds;\n",
        "    C.Prandtl = 0.7132;\n",
        "    C.Schmidt = 1.0;\n",
        "    C.PenaltyViscMomentum = 1.0;\n",
        "    C.PenaltyHeatConduction = 1.0;\n",
        "\n",
        "    C.NonLinearSolver.verbose = true;\n",
        "    // C.LinearSolver.verbose = true;\n",
        "    C.NonLinearSolver.MaxSolverIterations = 10;\n",
        "    C.LinearSolver.SolverCode = LinearSolverCode.exp_Kcycle_schwarz;\n",
        "    C.LinearSolver.NoOfMultigridLevels = 3;\n",
        "    C.NonLinearSolver.ConvergenceCriterion = 1e-5;\n",
        "    // C.TimesteppingMode = AppControl._TimesteppingMode.Transient;\n",
        "    // C.NoOfTimesteps = 10000;\n",
        "    // C.dtFixed = 0.5;\n",
        "    \n",
        "    // C.HomotopyApproach = XNSEC_Control.HomotopyType.Automatic;\n",
        "    // C.HomotopyVariable = XNSEC_Control.HomotopyVariableEnum.Reynolds;\n",
        "    // C.homotopieAimedValue = Math.Sqrt(C.Reynolds);\n",
        "    // C.StartingHomotopyValue = 10; // Suficiently easy to find solution\n",
        "    // C.NonLinearSolver.HomotopyStepLongFail = 20;\n",
        "\n",
        "    //C.ImmediatePlotPeriod = 1;\n",
        "    // Grid declaration\n",
        "    // ===============\n",
        "\n",
        "     double Sdim = 15;  //mm, dim step height\n",
        "     double hdim = Sdim/(expansionRatio-1.0);\n",
        "     double Hdim = hdim+Sdim; // mm channel height\n",
        "\n",
        "\n",
        "     double LREF = Sdim;// step height, paper from XIE\n",
        "\n",
        "    // static double LREF = 2*hdim; // Hydraulic referemce, paper from Armaly\n",
        "     double H = Hdim / LREF;// nondim channel height\n",
        "     double S = Sdim / LREF;  //nondim step height\n",
        "     double h = hdim/LREF;\n",
        "     double L0 = S; // nondim upstream wall\n",
        "    // static double L = 30 * S; // downstream wall\n",
        "     double L = 50 * S; // downstream wall\n",
        "\n",
        "    \n",
        "\n",
        "    C.SetGrid(GridFactory.GenerateGrid(Resolution, S,h,H,L0,L));  //\n",
        "\n",
        "    double TRef = 273 + 10;\n",
        "    double Tin = (273 + 10) / TRef;\n",
        "    double Twall = (273 + 40) / TRef;\n",
        "\n",
        "    // initial values\n",
        "    // ==============\n",
        "\n",
        "    double dummy = 0;\n",
        "    C.AddInitialValue(VariableNames.VelocityX, BoundaryValueFactory.Get_ConstantVal(0.5, dummy, dummy, dummy));\n",
        "    C.AddInitialValue(VariableNames.VelocityY, BoundaryValueFactory.Get_ConstantVal(0.0, dummy, dummy, dummy));\n",
        "    C.AddInitialValue(VariableNames.Pressure, BoundaryValueFactory.Get_ConstantVal(0.0, dummy, dummy, dummy));\n",
        "    C.AddInitialValue(VariableNames.Temperature, BoundaryValueFactory.Get_ConstantVal(Tin, dummy, dummy, dummy));\n",
        "    C.AddInitialValue(VariableNames.MassFraction0, BoundaryValueFactory.Get_ConstantVal(1.0, dummy, dummy, dummy));\n",
        "\n",
        "    // boundary conditions\n",
        "    // ===================\n",
        "\n",
        "    C.AddBoundaryValue(\"Wall\", VariableNames.Temperature + \"#A\", BoundaryValueFactory.Get_ConstantVal(Twall, dummy, dummy, dummy));\n",
        "    C.AddBoundaryValue(\"Wall\", VariableNames.MassFraction0 + \"#A\", BoundaryValueFactory.Get_ConstantVal(1.0, dummy, dummy, dummy));\n",
        "\n",
        "\n",
        "\n",
        "    double velMean= 1.0;\n",
        "    C.AddBoundaryValue(\"Velocity_Inlet\", VariableNames.Velocity_d(0) + \"#A\", BoundaryValueFactory.Get_ParabolaVelocity(-11111.0, S,h, velMean));\n",
        "    C.AddBoundaryValue(\"Velocity_Inlet\", VariableNames.Velocity_d(1) + \"#A\", BoundaryValueFactory.Get_ConstantVal(0.0, dummy, dummy, dummy));\n",
        "    C.AddBoundaryValue(\"Velocity_Inlet\", VariableNames.Temperature + \"#A\", BoundaryValueFactory.Get_ConstantVal(Tin, dummy, dummy, dummy));\n",
        "    C.AddBoundaryValue(\"Velocity_Inlet\", VariableNames.MassFraction0 + \"#A\", BoundaryValueFactory.Get_ConstantVal(1.0, dummy, dummy, dummy));\n",
        "\n",
        "    C.AddBoundaryValue(\"Pressure_Outlet\");\n",
        "    return C;\n",
        "}"
      ]
    },
    {
      "cell_type": "markdown",
      "metadata": {},
      "source": [
        "## Run Simulations"
      ]
    },
    {
      "cell_type": "code",
      "execution_count": null,
      "metadata": {
        "dotnet_interactive": {
          "language": "csharp"
        }
      },
      "outputs": [],
      "source": []
    },
    {
      "cell_type": "code",
      "execution_count": null,
      "metadata": {
        "dotnet_interactive": {
          "language": "csharp"
        }
      },
      "outputs": [
        {
          "name": "stdout",
          "output_type": "stream",
          "text": [
            "////////////////////////////////////////////////////////////////////////////////////\r\n",
            "BackwardFacingStep2\r\n",
            "////////////////////////////////////////////////////////////////////////////////////\r\n",
            "\r\n",
            "Number of nodes in X direction:897\r\n",
            "Number of nodes in Y direction:129\r\n",
            "Grid Edge Tags changed.\r\n",
            "Heated_BackwardFacingStep_Lichtenbergdg2k16Re400EnergyOK1\r\n",
            "Deploying job Heated_BackwardFacingStep_Lichtenbergdg2k16Re400EnergyOK1 ... \r\n",
            "Deploying executables and additional files ...\r\n",
            "Deployment directory: T:\\BoSSS\\HeatedBackwardFacingStep-XNSEC2022Feb18_165224\r\n",
            "copied 56 files.\r\n",
            "   written file: control.obj\r\n",
            "   copied 'amd64' runtime.\r\n",
            "deployment finished.\r\n"
          ]
        }
      ],
      "source": [
        "foreach(int Re in ReynoldsS){\n",
        "    foreach(int ER in ExpansionRatioS){\n",
        "        Type solver = typeof(BoSSS.Application.XNSEC.XNSEC);\n",
        "        var C = GiveMeTheCtrlFile(dg, Resolution, Re, true, ER); \n",
        "        string jobName       = C.SessionName;\n",
        "        Console.WriteLine(jobName);\n",
        "        var oneJob           = new Job(jobName, solver);\n",
        "        oneJob.SetControlObject(C);\n",
        "        myBatch.ExecutionTime            = \"0:59:00\";\n",
        "        oneJob.NumberOfMPIProcs = MPI_PROCS;\n",
        "        List<string> Cmdtmp = (myBatch as SlurmClient).AdditionalBatchCommands.ToList();\n",
        "        Cmdtmp.Add($\"#SBATCH -N 1\");\n",
        "        (myBatch as SlurmClient).AdditionalBatchCommands = Cmdtmp.ToArray();\n",
        "        oneJob.Activate(myBatch); \n",
        "    }\n",
        "}"
      ]
    },
    {
      "cell_type": "markdown",
      "metadata": {},
      "source": []
    },
    {
      "cell_type": "code",
      "execution_count": null,
      "metadata": {
        "dotnet_interactive": {
          "language": "csharp"
        }
      },
      "outputs": [],
      "source": []
    },
    {
      "cell_type": "code",
      "execution_count": null,
      "metadata": {
        "dotnet_interactive": {
          "language": "csharp"
        }
      },
      "outputs": [],
      "source": []
    },
    {
      "cell_type": "code",
      "execution_count": null,
      "metadata": {
        "dotnet_interactive": {
          "language": "csharp"
        }
      },
      "outputs": [],
      "source": [
        "BoSSSshell.WorkflowMgm.BlockUntilAllJobsTerminate();"
      ]
    },
    {
      "cell_type": "code",
      "execution_count": null,
      "metadata": {
        "dotnet_interactive": {
          "language": "csharp"
        }
      },
      "outputs": [],
      "source": []
    },
    {
      "cell_type": "code",
      "execution_count": null,
      "metadata": {
        "dotnet_interactive": {
          "language": "csharp"
        }
      },
      "outputs": [],
      "source": [
        "// // // wait for all jobs to finish (up to 1 day, check every 1 minutes)\n",
        "// BoSSSshell.WorkflowMgm.BlockUntilAllJobsTerminate(TimeOutSeconds:(3600*24*1), PollingIntervallSeconds:(60*1));"
      ]
    },
    {
      "cell_type": "markdown",
      "metadata": {
        "dotnet_interactive": {
          "language": "csharp"
        }
      },
      "source": []
    },
    {
      "cell_type": "code",
      "execution_count": null,
      "metadata": {
        "dotnet_interactive": {
          "language": "csharp"
        }
      },
      "outputs": [],
      "source": [
        "// // detect failed Jobs in the job management\n",
        "// var suspects = BoSSSshell.WorkflowMgm.AllJobs.Select(kv => kv.Value)\n",
        "//     .Where(job => job.LatestSession.Tags.Contains(SessionInfo.NOT_TERMINATED_TAG)\n",
        "//                   || job.LatestSession.Tags.Contains(SessionInfo.SOLVER_ERROR)).ToArray();\n",
        "// suspects"
      ]
    },
    {
      "cell_type": "code",
      "execution_count": null,
      "metadata": {
        "dotnet_interactive": {
          "language": "csharp"
        }
      },
      "outputs": [],
      "source": [
        "// NUnit.Framework.Assert.IsTrue(suspects.Count() <= 0, $\"{suspects.Count()} Failed Jobs of {BoSSSshell.WorkflowMgm.AllJobs.Count()} in total.\");"
      ]
    },
    {
      "cell_type": "code",
      "execution_count": null,
      "metadata": {
        "dotnet_interactive": {
          "language": "csharp"
        }
      },
      "outputs": [],
      "source": [
        "// "
      ]
    },
    {
      "cell_type": "code",
      "execution_count": null,
      "metadata": {
        "dotnet_interactive": {
          "language": "csharp"
        }
      },
      "outputs": [],
      "source": []
    }
  ],
  "metadata": {
    "interpreter": {
      "hash": "5a4c2b90e762e735d09b118f9f9cec0074c9c9a762110f7a987def15c668bc0d"
    },
    "kernelspec": {
      "display_name": ".NET (C#)",
      "language": "C#",
      "name": ".net-csharp"
    },
    "language_info": {
      "file_extension": ".cs",
      "mimetype": "text/x-csharp",
      "name": "C#",
      "pygments_lexer": "csharp",
      "version": "9.0"
    }
  },
  "nbformat": 4,
  "nbformat_minor": 4
}
