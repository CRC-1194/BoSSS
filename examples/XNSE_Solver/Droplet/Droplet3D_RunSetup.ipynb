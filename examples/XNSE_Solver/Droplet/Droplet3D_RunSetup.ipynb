{
 "cells": [
  {
   "cell_type": "code",
   "execution_count": null,
   "metadata": {
    "dotnet_interactive": {
     "language": "csharp"
    }
   },
   "outputs": [
    {
     "data": {
      "text/plain": [
       "#0: { Session Count = 16; Grid Count = 24; Path = D:\\local\\local_test_db2 }\r\n",
       "#1: { Session Count = 77; Grid Count = 108; Path = \\\\hpccluster\\hpccluster-scratch\\smuda\\XNSE_testDB }\r\n",
       "#2: { Session Count = 819; Grid Count = 23491; Path = \\\\HPCCLUSTER\\hpccluster-scratch\\smuda\\XNSE_studyDB }\r\n"
      ]
     },
     "output_type": "unknown"
    }
   ],
   "source": [
    "#r \"D:\\BoSSS-experimental\\public\\src\\L4-application\\BoSSSpad\\bin\\Release\\net5.0\\BoSSSpad.dll\"\r\n",
    "using System;\r\n",
    "using ilPSP;\r\n",
    "using ilPSP.Utils;\r\n",
    "using BoSSS.Platform;\r\n",
    "using BoSSS.Foundation;\r\n",
    "using BoSSS.Foundation.Grid;\r\n",
    "using BoSSS.Foundation.Grid.Classic;\r\n",
    "using BoSSS.Foundation.IO;\r\n",
    "using BoSSS.Foundation.XDG;\r\n",
    "using BoSSS.Solution;\r\n",
    "using BoSSS.Application.BoSSSpad;\r\n",
    "using BoSSS.Application.XNSE_Solver;\r\n",
    "\r\n",
    "using static BoSSS.Application.BoSSSpad.BoSSSshell;\r\n",
    "Init();\r\n",
    "\r\n",
    "databases\r\n"
   ]
  },
  {
   "cell_type": "code",
   "execution_count": null,
   "metadata": {
    "dotnet_interactive": {
     "language": "csharp"
    }
   },
   "outputs": [
    {
     "data": {
      "text/html": [
       "<table><thead><tr><th><i>index</i></th><th><i>type</i></th><th>DeploymentBaseDirectory</th><th>DeployRuntime</th><th>Name</th><th>DotnetRuntime</th><th>BatchInstructionDir</th><th>AllowedDatabasesPaths</th><th>Username</th><th>Password</th><th>ServerName</th><th>ComputeNodes</th><th>DefaultJobPriority</th><th>SingleNode</th></tr></thead><tbody><tr><td>0</td><td>BoSSS.Application.BoSSSpad.MiniBatchProcessorClient</td><td>D:\\local\\binaries</td><td><div class=\"dni-plaintext\">False</div></td><td>LocalPC</td><td>dotnet</td><td><div class=\"dni-plaintext\">&lt;null&gt;</div></td><td><div class=\"dni-plaintext\">[ { D:\\local\\ == : LocalMountPath: D:\\local\\, PathAtRemote:  } ]</div></td><td></td><td></td><td></td><td></td><td></td><td></td></tr><tr><td>1</td><td>BoSSS.Application.BoSSSpad.MsHPC2012Client</td><td>\\\\hpccluster\\hpccluster-scratch\\smuda\\binaries</td><td><div class=\"dni-plaintext\">False</div></td><td>FDY-WindowsHPC</td><td>dotnet</td><td></td><td><div class=\"dni-plaintext\">[ { \\\\hpccluster\\hpccluster-scratch\\smuda\\ == : LocalMountPath: \\\\hpccluster\\hpccluster-scratch\\smuda\\, PathAtRemote:  } ]</div></td><td>FDY\\smuda</td><td><div class=\"dni-plaintext\">&lt;null&gt;</div></td><td>DC2</td><td><div class=\"dni-plaintext\">&lt;null&gt;</div></td><td><span>Normal</span></td><td><div class=\"dni-plaintext\">True</div></td></tr></tbody></table>"
      ]
     },
     "output_type": "unknown"
    }
   ],
   "source": [
    "ExecutionQueues"
   ]
  },
  {
   "cell_type": "code",
   "execution_count": null,
   "metadata": {
    "dotnet_interactive": {
     "language": "csharp"
    }
   },
   "outputs": [
    {
     "data": {
      "text/html": [
       "<table><thead><tr><th>DeploymentBaseDirectory</th><th>DeployRuntime</th><th>Name</th><th>DotnetRuntime</th><th>Username</th><th>Password</th><th>ServerName</th><th>ComputeNodes</th><th>DefaultJobPriority</th><th>SingleNode</th><th>AllowedDatabasesPaths</th></tr></thead><tbody><tr><td><div class=\"dni-plaintext\">\\\\hpccluster\\hpccluster-scratch\\smuda\\binaries</div></td><td><div class=\"dni-plaintext\">False</div></td><td><div class=\"dni-plaintext\">FDY-WindowsHPC</div></td><td><div class=\"dni-plaintext\">dotnet</div></td><td><div class=\"dni-plaintext\">FDY\\smuda</div></td><td><div class=\"dni-plaintext\">&lt;null&gt;</div></td><td><div class=\"dni-plaintext\">DC2</div></td><td><div class=\"dni-plaintext\">&lt;null&gt;</div></td><td><div class=\"dni-plaintext\">Normal</div></td><td><div class=\"dni-plaintext\">True</div></td><td><div class=\"dni-plaintext\">[ { \\\\hpccluster\\hpccluster-scratch\\smuda\\ == : LocalMountPath: \\\\hpccluster\\hpccluster-scratch\\smuda\\, PathAtRemote:  } ]</div></td></tr></tbody></table>"
      ]
     },
     "output_type": "unknown"
    }
   ],
   "source": [
    "var myBatch = ExecutionQueues[1];\r\n",
    "myBatch"
   ]
  },
  {
   "cell_type": "code",
   "execution_count": null,
   "metadata": {
    "dotnet_interactive": {
     "language": "csharp"
    }
   },
   "outputs": [
    {
     "data": {
      "text/plain": [
       "{ Session Count = 77; Grid Count = 108; Path = \\\\hpccluster\\hpccluster-scratch\\smuda\\XNSE_testDB }"
      ]
     },
     "output_type": "unknown"
    }
   ],
   "source": [
    "IDatabaseInfo myDb = myBatch.CreateOrOpenCompatibleDatabase(\"XNSE_testDB\");\r\n",
    "myDb"
   ]
  },
  {
   "cell_type": "code",
   "execution_count": null,
   "metadata": {
    "dotnet_interactive": {
     "language": "csharp"
    }
   },
   "outputs": [],
   "source": [
    "BoSSSshell.WorkflowMgm.Init(\"Droplet3D_LegendreSetup\"); "
   ]
  },
  {
   "cell_type": "code",
   "execution_count": null,
   "metadata": {
    "dotnet_interactive": {
     "language": "csharp"
    }
   },
   "outputs": [],
   "source": [
    "// ===============\r\n",
    "// Test case setup\r\n",
    "// ===============\r\n",
    "double R0 = 0.001;\r\n",
    "double L  = 3.0 * R0;\r\n",
    "\r\n",
    "int m = 2;    // Legendre polynom\r\n",
    "//double[] T = new double[] {5e-3, 2.5e-3, 1.7e-3};    // period length corresponding to mode m  \r\n",
    "double[] aP = new double[] {0.5, 0.7, 0.9};    //  amplitude of the initial deformation\r\n",
    "int aP_Index = 0;"
   ]
  },
  {
   "cell_type": "code",
   "execution_count": null,
   "metadata": {
    "dotnet_interactive": {
     "language": "csharp"
    }
   },
   "outputs": [],
   "source": [
    "// ================\r\n",
    "// physical setting\r\n",
    "// ================\r\n",
    "double ratio = 0.001;\r\n",
    "int setup    = 1;\r\n",
    "\r\n",
    "string setupTag;\r\n",
    "string OhTag;\r\n",
    "double rhoA = 1260;\r\n",
    "double rhoB = rhoA * ratio;\r\n",
    "double muA;\r\n",
    "double muB;\r\n",
    "double sigma = 0.007;\r\n",
    "\r\n",
    "switch (setup) {\r\n",
    "case 1: {\r\n",
    "setupTag = \"Ohnesorge Zahl = 0.76\";    // critical Oh for m = 2\r\n",
    "OhTag    = \"076\";\r\n",
    "muA      = 0.714;\r\n",
    "muB      = muA* ratio;\r\n",
    "break;\r\n",
    "}\r\n",
    "case 2: {\r\n",
    "setupTag = \"Ohnesorge Zahl = 0.55\";    // critical Oh for m = 4\r\n",
    "OhTag    = \"055\";\r\n",
    "muA      = 0.517;\r\n",
    "muB      = muA* ratio;\r\n",
    "break;\r\n",
    "}\r\n",
    "case 3: {\r\n",
    "setupTag = \"Ohnesorge Zahl = 0.1\";\r\n",
    "OhTag    = \"01\";\r\n",
    "muA      = 0.094;\r\n",
    "muB      = muA* ratio;\r\n",
    "break;\r\n",
    "}\r\n",
    "default:\r\n",
    "break;\r\n",
    "}"
   ]
  },
  {
   "cell_type": "code",
   "execution_count": null,
   "metadata": {
    "dotnet_interactive": {
     "language": "csharp"
    }
   },
   "outputs": [],
   "source": [
    "// ===========================\r\n",
    "// Grids for Convergence Study\r\n",
    "// ===========================\r\n",
    "var GridSeq = new IGridInfo[1];\r\n",
    "int[] kelemSeq = new int[]{9};\r\n",
    "bool quarterDomain = true;"
   ]
  },
  {
   "cell_type": "code",
   "execution_count": null,
   "metadata": {
    "dotnet_interactive": {
     "language": "csharp"
    }
   },
   "outputs": [],
   "source": [
    "for(int iGrid = 0; iGrid < GridSeq.Length; iGrid++) {\r\n",
    "    \r\n",
    "    int kelem = kelemSeq[iGrid];\r\n",
    "    \r\n",
    "    GridCommons grd;\r\n",
    "    \r\n",
    "if (!quarterDomain) {\r\n",
    "    \r\n",
    "    double[] xNodes = GenericBlas.Linspace(-L, L, kelem + 1);\r\n",
    "    double[] yNodes = GenericBlas.Linspace(-L, L, kelem + 1);  \r\n",
    "    double[] zNodes = GenericBlas.Linspace(-L, L, kelem + 1);    \r\n",
    "    grd = Grid3D.Cartesian3DGrid(xNodes, yNodes, zNodes);\r\n",
    "\r\n",
    "    grd.EdgeTagNames.Add(1, \"wall\");\r\n",
    " \r\n",
    "    grd.DefineEdgeTags(delegate (double[] X) {\r\n",
    "        byte et = 0;\r\n",
    "            if (Math.Abs(X[1] + L) <= 1.0e-8)\r\n",
    "                et = 1;\r\n",
    "            if (Math.Abs(X[1] - L) <= 1.0e-8)\r\n",
    "                et = 1;\r\n",
    "            if (Math.Abs(X[0] + L) <= 1.0e-8)\r\n",
    "                et = 1;\r\n",
    "            if (Math.Abs(X[0] - L) <= 1.0e-8)\r\n",
    "                et = 1;\r\n",
    "            if (Math.Abs(X[2] + L) <= 1.0e-8)\r\n",
    "                et = 1;\r\n",
    "            if (Math.Abs(X[2] - L) <= 1.0e-8)\r\n",
    "                et = 1;\r\n",
    "            return et;\r\n",
    "    });\r\n",
    "            \r\n",
    "    grd.Name = \"Droplet3D_test\"; \r\n",
    "    \r\n",
    "} else {\r\n",
    "\r\n",
    "    double[] xNodes = GenericBlas.Linspace(0, L, kelem + 1);\r\n",
    "    double[] yNodes = GenericBlas.Linspace(0, L, kelem + 1);  \r\n",
    "    double[] zNodes = GenericBlas.Linspace(-L, L, (2*kelem) + 1);    \r\n",
    "    grd = Grid3D.Cartesian3DGrid(xNodes, yNodes, zNodes);\r\n",
    "\r\n",
    "    grd.EdgeTagNames.Add(1, \"wall\");\r\n",
    "    grd.EdgeTagNames.Add(2, \"slipsymmetry\");\r\n",
    " \r\n",
    "    grd.DefineEdgeTags(delegate (double[] X) {\r\n",
    "        byte et = 0;\r\n",
    "            if (Math.Abs(X[1] + 0) <= 1.0e-8)\r\n",
    "                et = 2;\r\n",
    "            if (Math.Abs(X[1] - L) <= 1.0e-8)\r\n",
    "                et = 1;\r\n",
    "            if (Math.Abs(X[0] + 0) <= 1.0e-8)\r\n",
    "                et = 2;\r\n",
    "            if (Math.Abs(X[0] - L) <= 1.0e-8)\r\n",
    "                et = 1;\r\n",
    "            if (Math.Abs(X[2] + L) <= 1.0e-8)\r\n",
    "                et = 1;\r\n",
    "            if (Math.Abs(X[2] - L) <= 1.0e-8)\r\n",
    "                et = 1;\r\n",
    "            return et;\r\n",
    "    });\r\n",
    "            \r\n",
    "    grd.Name = \"Droplet3D_quarterDomain\"; \r\n",
    "    \r\n",
    "}   \r\n",
    "\r\n",
    "    //myDb.SaveGrid(ref grd);\r\n",
    "    var igrd = IDatabaseInfoExtensions.SaveGrid(myDb, grd);\r\n",
    "    \r\n",
    "    GridSeq[iGrid] = igrd;\r\n",
    "}"
   ]
  },
  {
   "cell_type": "code",
   "execution_count": null,
   "metadata": {
    "dotnet_interactive": {
     "language": "csharp"
    }
   },
   "outputs": [],
   "source": [
    "// ======================\r\n",
    "// Create Control objects\r\n",
    "// ======================\r\n",
    "\r\n",
    "int[] degS = new int[] { 3 };\r\n",
    "//int NoProc = 4;\r\n",
    "\r\n",
    "List<XNSE_Control> controls = new List<XNSE_Control>();\r\n",
    "//List<int> procPerCntrl = new List<int>();"
   ]
  },
  {
   "cell_type": "code",
   "execution_count": null,
   "metadata": {
    "dotnet_interactive": {
     "language": "csharp"
    }
   },
   "outputs": [],
   "source": [
    "for(int iDeg = 0; iDeg < degS.Length; iDeg++) {\r\n",
    "    for(int iGrd = 0; iGrd < GridSeq.Length; iGrd++) {\r\n",
    "        \r\n",
    "        XNSE_Control C = BoSSS.Application.XNSE_Solver.PhysicalBasedTestcases.Droplet.OscillatingDroplet3D_LegendrePolynomials(R0, m, aP_Index);\r\n",
    "        \r\n",
    "        C.CutCellQuadratureType = XQuadFactoryHelper.MomentFittingVariants.Saye;\r\n",
    "        \r\n",
    "        C.savetodb          = true;\r\n",
    "        C.SetDatabase(myDb);\r\n",
    "        C.ContinueOnIoError = false;\r\n",
    "    \r\n",
    "        int pDeg = degS[iDeg];   \r\n",
    "        var grd  = GridSeq[iGrd];\r\n",
    "    \r\n",
    "        C.SetDGdegree(pDeg);\r\n",
    "        \r\n",
    "        C.SetGrid(grd);\r\n",
    "        C.AddBoundaryValue(\"wall\");\r\n",
    "        C.AddBoundaryValue(\"slipsymmetry\");\r\n",
    "    \r\n",
    "        C.Tags.Add(setupTag);\r\n",
    "        C.PhysicalParameters.rho_A = rhoA;\r\n",
    "        C.PhysicalParameters.rho_B = rhoB;\r\n",
    "        C.PhysicalParameters.mu_A  = muA;\r\n",
    "        C.PhysicalParameters.mu_B  = muB;\r\n",
    "        C.PhysicalParameters.Sigma = sigma;\r\n",
    "        \r\n",
    "        C.PhysicalParameters.IncludeConvection = true;\r\n",
    "    \r\n",
    "        \r\n",
    "        C.dtMin         = 1e-3;\r\n",
    "        C.dtMax         = 1e-3;\r\n",
    "        C.Endtime       = 1.0; //4.0 * T[0];\r\n",
    "        C.NoOfTimesteps = 1000; //(int)((4.0 * T[0]) / 1e-3);\r\n",
    "        \r\n",
    "        C.AdaptiveMeshRefinement = false;\r\n",
    "        C.activeAMRlevelIndicators.Add(new BoSSS.Solution.LevelSetTools.SolverWithLevelSetUpdater.AMRonNarrowband() { maxRefinementLevel = 1 });\r\n",
    "        C.AMR_startUpSweeps = 1;\r\n",
    "        \r\n",
    "        //C.Option_LevelSetEvolution = BoSSS.Solution.LevelSetTools.LevelSetEvolution.FastMarching;\r\n",
    "        //C.FastMarchingPenaltyTerms = BoSSS.Solution.LevelSetTools.Smoothing.JumpPenalization.jumpPenalizationTerms.Jump;\r\n",
    "        //C.Option_LevelSetEvolution = BoSSS.Solution.LevelSetTools.LevelSetEvolution.StokesExtension;  \r\n",
    "        \r\n",
    "        C.saveperiod = 2;\r\n",
    "        \r\n",
    "        C.SessionName = \"Droplet3D_k\" + pDeg + \"_mesh9_LPm\" + m + \"_Oh\" + OhTag + \"_providedByJupyterNb3\";\r\n",
    "        \r\n",
    "        C.LinearSolver.SolverCode = BoSSS.Solution.Control.LinearSolverCode.classic_pardiso;\r\n",
    "        //C.LinearSolver.SolverCode          = LinearSolverCode.exp_Kcycle_schwarz;\r\n",
    "        //C.LinearSolver.NoOfMultigridLevels = 3;\r\n",
    "        C.LinearSolver.ConvergenceCriterion   = 10e-8;\r\n",
    "        C.NonLinearSolver.MinSolverIterations = 3;\r\n",
    "        \r\n",
    "        //controls[iDeg,iGrd] = C;\r\n",
    "        controls.Add(C);\r\n",
    "        //C.CreateJob(); // job will be permanently linked to control object\r\n",
    "    \r\n",
    "    }\r\n",
    "    }"
   ]
  },
  {
   "cell_type": "code",
   "execution_count": null,
   "metadata": {
    "dotnet_interactive": {
     "language": "csharp"
    }
   },
   "outputs": [
    {
     "data": {
      "text/html": [
       "<div class=\"dni-plaintext\">1</div>"
      ]
     },
     "output_type": "unknown"
    }
   ],
   "source": [
    "controls.Count"
   ]
  },
  {
   "cell_type": "code",
   "execution_count": null,
   "metadata": {
    "dotnet_interactive": {
     "language": "csharp"
    }
   },
   "outputs": [
    {
     "data": {
      "text/plain": [
       "Droplet3D_k3_mesh9_LPm2_Oh076_providedByJupyterNb3"
      ]
     },
     "output_type": "unknown"
    }
   ],
   "source": [
    "controls.ElementAt(0).SessionName"
   ]
  },
  {
   "cell_type": "code",
   "execution_count": null,
   "metadata": {
    "dotnet_interactive": {
     "language": "csharp"
    }
   },
   "outputs": [],
   "source": [
    "foreach(var cntrl in controls) {\r\n",
    "    var job = new Job(cntrl.SessionName, typeof(XNSE));\r\n",
    "    job.SetControlObject(cntrl);\r\n",
    "    //job.NumberOfMPIProcs = NoProc;\r\n",
    "    Console.WriteLine(\"Submitting Session: {0}\", cntrl.SessionName);\r\n",
    "    job.Activate(myBatch, false);\r\n",
    "}"
   ]
  },
  {
   "cell_type": "code",
   "execution_count": null,
   "metadata": {
    "dotnet_interactive": {
     "language": "csharp"
    }
   },
   "outputs": [
    {
     "data": {
      "text/plain": []
     },
     "output_type": "unknown"
    }
   ],
   "source": [
    "BoSSSshell.WorkflowMgm.Sessions"
   ]
  }
 ],
 "metadata": {
  "kernelspec": {
   "display_name": ".NET (C#)",
   "language": "C#",
   "name": ".net-csharp"
  },
  "language_info": {
   "file_extension": ".cs",
   "mimetype": "text/x-csharp",
   "name": "C#",
   "pygments_lexer": "csharp",
   "version": "9.0"
  },
  "orig_nbformat": 4
 },
 "nbformat": 4,
 "nbformat_minor": 2
}