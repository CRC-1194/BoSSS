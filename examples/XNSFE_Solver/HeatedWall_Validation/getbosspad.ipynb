{
 "cells": [
  {
   "cell_type": "code",
   "execution_count": null,
   "metadata": {
    "dotnet_interactive": {
     "language": "pwsh"
    }
   },
   "outputs": [
    {
     "name": "stdout",
     "output_type": "stream",
     "text": [
      "Microsoft (R)-Build-Engine, Version 16.10.1+2fd48ab73 für .NET\r\n",
      "Copyright (C) Microsoft Corporation. Alle Rechte vorbehalten.\r\n",
      "\r\n",
      "D:\\rieckmann\\BoSSS-Repos\\BoSSS-XNSFE\\public\\src\\ilPSP\\layer_1.2-ilPSP\\ilPSP.LinSolvers.PARDISO\\Matrix.cs(27,18): warning CS1591: Der XML-Kommentar für den öffentlich sichtbaren Typ oder Member \"Matrix\" fehlt. [D:\\rieckmann\\BoSSS-Repos\\BoSSS-XNSFE\\public\\src\\ilPSP\\layer_1.2-ilPSP\\ilPSP.LinSolvers.PARDISO\\ilPSP.LinSolvers.PARDISO.csproj]\r\n",
      "D:\\rieckmann\\BoSSS-Repos\\BoSSS-XNSFE\\public\\src\\ilPSP\\layer_1.2-ilPSP\\ilPSP.LinSolvers.HYPRE\\_IJMatrix.cs(318,25): warning CS1570: Der XML-Kommentar enthält ungültigen XML-Code: \"Das Gleichheitszeichen zwischen Attribut und Attributwert fehlt.\" [D:\\rieckmann\\BoSSS-Repos\\BoSSS-XNSFE\\public\\src\\ilPSP\\layer_1.2-ilPSP\\ilPSP.LinSolvers.HYPRE\\ilPSP.LinSolvers.HYPRE.csproj]\r\n",
      "D:\\rieckmann\\BoSSS-Repos\\BoSSS-XNSFE\\public\\src\\ilPSP\\layer_1.2-ilPSP\\ilPSP.LinSolvers.monkey\\MatrixBase.cs(989,25): warning CS1570: Der XML-Kommentar enthält ungültigen XML-Code: \"Das Gleichheitszeichen zwischen Attribut und Attributwert fehlt.\" [D:\\rieckmann\\BoSSS-Repos\\BoSSS-XNSFE\\public\\src\\ilPSP\\layer_1.2-ilPSP\\ilPSP.LinSolvers.monkey\\ilPSP.LinSolvers.monkey.csproj]\r\n",
      "D:\\rieckmann\\BoSSS-Repos\\BoSSS-XNSFE\\public\\src\\ilPSP\\layer_1.2-ilPSP\\ilPSP.LinSolvers.monkey\\clDriverInterface.cs(1135,16): warning CS1591: Der XML-Kommentar für den öffentlich sichtbaren Typ oder Member \"cl.cl()\" fehlt. [D:\\rieckmann\\BoSSS-Repos\\BoSSS-XNSFE\\public\\src\\ilPSP\\layer_1.2-ilPSP\\ilPSP.LinSolvers.monkey\\ilPSP.LinSolvers.monkey.csproj]\r\n",
      "D:\\rieckmann\\BoSSS-Repos\\BoSSS-XNSFE\\public\\src\\ilPSP\\layer_1.2-ilPSP\\ilPSP.LinSolvers.monkey\\CudaDriverInterface.cs(364,16): warning CS1591: Der XML-Kommentar für den öffentlich sichtbaren Typ oder Member \"cu.cu()\" fehlt. [D:\\rieckmann\\BoSSS-Repos\\BoSSS-XNSFE\\public\\src\\ilPSP\\layer_1.2-ilPSP\\ilPSP.LinSolvers.monkey\\ilPSP.LinSolvers.monkey.csproj]\r\n",
      "D:\\rieckmann\\BoSSS-Repos\\BoSSS-XNSFE\\public\\src\\ilPSP\\layer_1.2-ilPSP\\ilPSP.LinSolvers.monkey\\Precond.cs(79,29): warning CS1591: Der XML-Kommentar für den öffentlich sichtbaren Typ oder Member \"Precond.Dispose()\" fehlt. [D:\\rieckmann\\BoSSS-Repos\\BoSSS-XNSFE\\public\\src\\ilPSP\\layer_1.2-ilPSP\\ilPSP.LinSolvers.monkey\\ilPSP.LinSolvers.monkey.csproj]\r\n",
      "D:\\rieckmann\\BoSSS-Repos\\BoSSS-XNSFE\\public\\src\\L1-platform\\BoSSS.Platform\\BlockDiagonalMatrix.cs(308,25): warning CS1570: Der XML-Kommentar enthält ungültigen XML-Code: \"Das Gleichheitszeichen zwischen Attribut und Attributwert fehlt.\" [D:\\rieckmann\\BoSSS-Repos\\BoSSS-XNSFE\\public\\src\\L1-platform\\BoSSS.Platform\\BoSSS.Platform.csproj]\r\n",
      "D:\\rieckmann\\BoSSS-Repos\\BoSSS-XNSFE\\public\\src\\L1-platform\\BoSSS.Platform\\BlockMsrMatrix.cs(5662,94): warning CS1584: Der XML-Kommentar enthält ein cref-Attribut \"IBlockPartitioning.GetSubblk_i0(int)(int)\" mit falscher Syntax. [D:\\rieckmann\\BoSSS-Repos\\BoSSS-XNSFE\\public\\src\\L1-platform\\BoSSS.Platform\\BoSSS.Platform.csproj]\r\n",
      "D:\\rieckmann\\BoSSS-Repos\\BoSSS-XNSFE\\public\\src\\L1-platform\\BoSSS.Platform\\BlockMsrMatrix.cs(5662,154): warning CS1584: Der XML-Kommentar enthält ein cref-Attribut \"IBlockPartitioning.GetSubblkLen(int)(int)\" mit falscher Syntax. [D:\\rieckmann\\BoSSS-Repos\\BoSSS-XNSFE\\public\\src\\L1-platform\\BoSSS.Platform\\BoSSS.Platform.csproj]\r\n",
      "D:\\rieckmann\\BoSSS-Repos\\BoSSS-XNSFE\\public\\src\\L1-platform\\BoSSS.Platform\\BlockDiagonalMatrix.cs(35,34): warning CS1574: Der XML-Kommentar enthält ein cref-Attribut \"BlockSize\", das nicht aufgelöst werden konnte: [D:\\rieckmann\\BoSSS-Repos\\BoSSS-XNSFE\\public\\src\\L1-platform\\BoSSS.Platform\\BoSSS.Platform.csproj]\r\n",
      "D:\\rieckmann\\BoSSS-Repos\\BoSSS-XNSFE\\public\\src\\L1-platform\\BoSSS.Platform\\BlockDiagonalMatrix.cs(135,55): warning CS1573: Der RowBlkSz-Parameter hat (im Gegensatz zu anderen Parametern) kein entsprechendes param-Tag im XML-Kommentar für \"BlockDiagonalMatrix.BlockDiagonalMatrix(MsrMatrix, int, int)\". [D:\\rieckmann\\BoSSS-Repos\\BoSSS-XNSFE\\public\\src\\L1-platform\\BoSSS.Platform\\BoSSS.Platform.csproj]\r\n",
      "D:\\rieckmann\\BoSSS-Repos\\BoSSS-XNSFE\\public\\src\\L1-platform\\BoSSS.Platform\\BlockDiagonalMatrix.cs(135,69): warning CS1573: Der ColBlkSz-Parameter hat (im Gegensatz zu anderen Parametern) kein entsprechendes param-Tag im XML-Kommentar für \"BlockDiagonalMatrix.BlockDiagonalMatrix(MsrMatrix, int, int)\". [D:\\rieckmann\\BoSSS-Repos\\BoSSS-XNSFE\\public\\src\\L1-platform\\BoSSS.Platform\\BoSSS.Platform.csproj]\r\n",
      "D:\\rieckmann\\BoSSS-Repos\\BoSSS-XNSFE\\public\\src\\L1-platform\\BoSSS.Platform\\MeshTools.cs(199,80): warning CS1573: Der zeroAccuracy-Parameter hat (im Gegensatz zu anderen Parametern) kein entsprechendes param-Tag im XML-Kommentar für \"FloatingPointArithmetic.IsEqual(double, double, double, double)\". [D:\\rieckmann\\BoSSS-Repos\\BoSSS-XNSFE\\public\\src\\L1-platform\\BoSSS.Platform\\BoSSS.Platform.csproj]\r\n",
      "D:\\rieckmann\\BoSSS-Repos\\BoSSS-XNSFE\\public\\src\\L1-platform\\BoSSS.Platform\\BlockMsrMatrix.cs(61,99): warning CS1573: Der rowmap-Parameter hat (im Gegensatz zu anderen Parametern) kein entsprechendes param-Tag im XML-Kommentar für \"BMext.ToBlockMsrMatrix(IMutableMatrixEx, IBlockPartitioning, IBlockPartitioning)\". [D:\\rieckmann\\BoSSS-Repos\\BoSSS-XNSFE\\public\\src\\L1-platform\\BoSSS.Platform\\BoSSS.Platform.csproj]\r\n",
      "D:\\rieckmann\\BoSSS-Repos\\BoSSS-XNSFE\\public\\src\\L1-platform\\BoSSS.Platform\\BlockMsrMatrix.cs(61,126): warning CS1573: Der colmap-Parameter hat (im Gegensatz zu anderen Parametern) kein entsprechendes param-Tag im XML-Kommentar für \"BMext.ToBlockMsrMatrix(IMutableMatrixEx, IBlockPartitioning, IBlockPartitioning)\". [D:\\rieckmann\\BoSSS-Repos\\BoSSS-XNSFE\\public\\src\\L1-platform\\BoSSS.Platform\\BoSSS.Platform.csproj]\r\n",
      "D:\\rieckmann\\BoSSS-Repos\\BoSSS-XNSFE\\public\\src\\L1-platform\\BoSSS.Platform\\BlockMsrMatrix.cs(1689,59): warning CS1574: Der XML-Kommentar enthält ein cref-Attribut \"GetBlockType(int)\", das nicht aufgelöst werden konnte: [D:\\rieckmann\\BoSSS-Repos\\BoSSS-XNSFE\\public\\src\\L1-platform\\BoSSS.Platform\\BoSSS.Platform.csproj]\r\n",
      "D:\\rieckmann\\BoSSS-Repos\\BoSSS-XNSFE\\public\\src\\L1-platform\\BoSSS.Platform\\BlockMsrMatrix.cs(1689,116): warning CS1574: Der XML-Kommentar enthält ein cref-Attribut \"Subblk_i0\", das nicht aufgelöst werden konnte: [D:\\rieckmann\\BoSSS-Repos\\BoSSS-XNSFE\\public\\src\\L1-platform\\BoSSS.Platform\\BoSSS.Platform.csproj]\r\n",
      "D:\\rieckmann\\BoSSS-Repos\\BoSSS-XNSFE\\public\\src\\L1-platform\\BoSSS.Platform\\BlockMsrMatrix.cs(1689,159): warning CS1574: Der XML-Kommentar enthält ein cref-Attribut \"SubblkLen\", das nicht aufgelöst werden konnte: [D:\\rieckmann\\BoSSS-Repos\\BoSSS-XNSFE\\public\\src\\L1-platform\\BoSSS.Platform\\BoSSS.Platform.csproj]\r\n",
      "D:\\rieckmann\\BoSSS-Repos\\BoSSS-XNSFE\\public\\src\\L1-platform\\BoSSS.Platform\\BlockMsrMatrix.cs(1996,50): warning CS1574: Der XML-Kommentar enthält ein cref-Attribut \"GetRow(int, ref int[], ref double[])\", das nicht aufgelöst werden konnte: [D:\\rieckmann\\BoSSS-Repos\\BoSSS-XNSFE\\public\\src\\L1-platform\\BoSSS.Platform\\BoSSS.Platform.csproj]\r\n",
      "D:\\rieckmann\\BoSSS-Repos\\BoSSS-XNSFE\\public\\src\\L1-platform\\BoSSS.Platform\\BlockMsrMatrix.cs(1996,105): warning CS1574: Der XML-Kommentar enthält ein cref-Attribut \"GetOccupiedColumnIndices(int, ref int[])\", das nicht aufgelöst werden konnte: [D:\\rieckmann\\BoSSS-Repos\\BoSSS-XNSFE\\public\\src\\L1-platform\\BoSSS.Platform\\BoSSS.Platform.csproj]\r\n",
      "D:\\rieckmann\\BoSSS-Repos\\BoSSS-XNSFE\\public\\src\\L1-platform\\BoSSS.Platform\\BlockMsrMatrix.cs(3015,105): warning CS1574: Der XML-Kommentar enthält ein cref-Attribut \"IsInLocalRange(int)\", das nicht aufgelöst werden konnte: [D:\\rieckmann\\BoSSS-Repos\\BoSSS-XNSFE\\public\\src\\L1-platform\\BoSSS.Platform\\BoSSS.Platform.csproj]\r\n",
      "D:\\rieckmann\\BoSSS-Repos\\BoSSS-XNSFE\\public\\src\\L1-platform\\BoSSS.Platform\\BlockMsrMatrix.cs(3021,77): warning CS1574: Der XML-Kommentar enthält ein cref-Attribut \"IsInLocalRange(int)\", das nicht aufgelöst werden konnte: [D:\\rieckmann\\BoSSS-Repos\\BoSSS-XNSFE\\public\\src\\L1-platform\\BoSSS.Platform\\BoSSS.Platform.csproj]\r\n",
      "D:\\rieckmann\\BoSSS-Repos\\BoSSS-XNSFE\\public\\src\\L1-platform\\BoSSS.Platform\\BlockMsrMatrix.cs(3036,96): warning CS1574: Der XML-Kommentar enthält ein cref-Attribut \"IsInLocalRange(int)\", das nicht aufgelöst werden konnte: [D:\\rieckmann\\BoSSS-Repos\\BoSSS-XNSFE\\public\\src\\L1-platform\\BoSSS.Platform\\BoSSS.Platform.csproj]\r\n",
      "D:\\rieckmann\\BoSSS-Repos\\BoSSS-XNSFE\\public\\src\\L1-platform\\BoSSS.Platform\\BlockMsrMatrix.cs(4579,56): warning CS1734: Der XML-Kommentar für \"BlockMsrMatrix.TempBlockRow.Merge(BlockMsrMatrix.TempBlockRow, BlockMsrMatrix.TempBlockRow, BlockMsrMatrix.TempBlockRow, double*, int, int)\" weist ein paramref-Tag für \"AscaleM_left\" auf, es gibt aber keinen Parameter mit dem Namen. [D:\\rieckmann\\BoSSS-Repos\\BoSSS-XNSFE\\public\\src\\L1-platform\\BoSSS.Platform\\BoSSS.Platform.csproj]\r\n",
      "D:\\rieckmann\\BoSSS-Repos\\BoSSS-XNSFE\\public\\src\\L1-platform\\BoSSS.Platform\\BlockMsrMatrix.cs(5660,75): warning CS1574: Der XML-Kommentar enthält ein cref-Attribut \"GetBlockI0(int)\", das nicht aufgelöst werden konnte: [D:\\rieckmann\\BoSSS-Repos\\BoSSS-XNSFE\\public\\src\\L1-platform\\BoSSS.Platform\\BoSSS.Platform.csproj]\r\n",
      "D:\\rieckmann\\BoSSS-Repos\\BoSSS-XNSFE\\public\\src\\L1-platform\\BoSSS.Platform\\BlockMsrMatrix.cs(5660,128): warning CS1574: Der XML-Kommentar enthält ein cref-Attribut \"GetBlockLen(int)\", das nicht aufgelöst werden konnte: [D:\\rieckmann\\BoSSS-Repos\\BoSSS-XNSFE\\public\\src\\L1-platform\\BoSSS.Platform\\BoSSS.Platform.csproj]\r\n",
      "D:\\rieckmann\\BoSSS-Repos\\BoSSS-XNSFE\\public\\src\\L1-platform\\BoSSS.Platform\\BlockMsrMatrix.cs(5662,42): warning CS1574: Der XML-Kommentar enthält ein cref-Attribut \"GetBlockType(int)\", das nicht aufgelöst werden konnte: [D:\\rieckmann\\BoSSS-Repos\\BoSSS-XNSFE\\public\\src\\L1-platform\\BoSSS.Platform\\BoSSS.Platform.csproj]\r\n"
     ]
    }
   ],
   "source": [
    "dotnet publish ../../../src/L4-application/BoSSSpad/BoSSSpad.csproj -c Release -v q -o ."
   ]
  }
 ],
 "metadata": {
  "kernelspec": {
   "display_name": ".NET (C#)",
   "language": "C#",
   "name": ".net-csharp"
  },
  "language_info": {
   "file_extension": ".cs",
   "mimetype": "text/x-csharp",
   "name": "C#",
   "pygments_lexer": "csharp",
   "version": "9.0"
  },
  "orig_nbformat": 4
 },
 "nbformat": 4,
 "nbformat_minor": 2
}
