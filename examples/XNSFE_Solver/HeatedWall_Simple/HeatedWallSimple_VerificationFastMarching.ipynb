{
 "cells": [
  {
   "cell_type": "markdown",
   "metadata": {
    "dotnet_interactive": {
     "language": "csharp"
    }
   },
   "source": [
    "# Heated Wall in Simple configuration - Verification sheet\n",
    "\n",
    "Verification Test for the XNSFE_Solver\n",
    "\n",
    "Setup:\n",
    "  * Interface at 90°.  \n",
    "  * Equal fluid densities => simplified setting  \n",
    "  * Also no Heat capacity => infinitely fast heat conduction  \n",
    "  * Reference Simulation done with FastMarching"
   ]
  },
  {
   "cell_type": "markdown",
   "metadata": {},
   "source": [
    "## Load BoSSS"
   ]
  },
  {
   "cell_type": "code",
   "execution_count": null,
   "metadata": {
    "dotnet_interactive": {
     "language": "csharp"
    }
   },
   "outputs": [],
   "source": [
    "#r \"../../../src/L4-application/BoSSSpad/bin/Release/net5.0/BoSSSpad.dll\"\n",
    "using System;\n",
    "using System.Collections.Generic;\n",
    "using System.Linq;\n",
    "using ilPSP;\n",
    "using ilPSP.Utils;\n",
    "using BoSSS.Platform;\n",
    "using BoSSS.Foundation;\n",
    "using BoSSS.Foundation.XDG;\n",
    "using BoSSS.Foundation.Grid;\n",
    "using BoSSS.Foundation.Grid.Classic;\n",
    "using BoSSS.Foundation.IO;\n",
    "using BoSSS.Solution;\n",
    "using BoSSS.Solution.Control;\n",
    "using BoSSS.Solution.GridImport;\n",
    "using BoSSS.Solution.Statistic;\n",
    "using BoSSS.Solution.Utils;\n",
    "using BoSSS.Solution.AdvancedSolvers;\n",
    "using BoSSS.Solution.Gnuplot;\n",
    "using BoSSS.Application.BoSSSpad;\n",
    "using BoSSS.Application.XNSE_Solver;\n",
    "using static BoSSS.Application.BoSSSpad.BoSSSshell;\n",
    "Init();"
   ]
  },
  {
   "cell_type": "markdown",
   "metadata": {},
   "source": [
    "## Setup Workflowmanagement, Batchprocessor and Database"
   ]
  },
  {
   "cell_type": "code",
   "execution_count": null,
   "metadata": {
    "dotnet_interactive": {
     "language": "csharp"
    }
   },
   "outputs": [],
   "source": [
    "ExecutionQueues"
   ]
  },
  {
   "cell_type": "code",
   "execution_count": null,
   "metadata": {
    "dotnet_interactive": {
     "language": "csharp"
    }
   },
   "outputs": [],
   "source": [
    "static var myBatch = BoSSSshell.GetDefaultQueue();"
   ]
  },
  {
   "cell_type": "code",
   "execution_count": null,
   "metadata": {
    "dotnet_interactive": {
     "language": "csharp"
    }
   },
   "outputs": [],
   "source": [
    "static var myDb = myBatch.CreateOrOpenCompatibleDatabase(\"XNSFE_HeatedWall\");"
   ]
  },
  {
   "cell_type": "code",
   "execution_count": null,
   "metadata": {
    "dotnet_interactive": {
     "language": "csharp"
    }
   },
   "outputs": [],
   "source": [
    "myDb.Path"
   ]
  },
  {
   "cell_type": "code",
   "execution_count": null,
   "metadata": {
    "dotnet_interactive": {
     "language": "csharp"
    }
   },
   "outputs": [],
   "source": [
    "var date = System.DateTime.Today;\n",
    "string ProjectName = $\"HeatedWallSimple_VerificationFastMarching_{date.Year}{date.Month}{date.Day}\";"
   ]
  },
  {
   "cell_type": "code",
   "execution_count": null,
   "metadata": {
    "dotnet_interactive": {
     "language": "csharp"
    }
   },
   "outputs": [],
   "source": [
    "BoSSSshell.WorkflowMgm.Init(ProjectName);"
   ]
  },
  {
   "cell_type": "markdown",
   "metadata": {},
   "source": [
    "## Setup Simulationcontrols"
   ]
  },
  {
   "cell_type": "code",
   "execution_count": null,
   "metadata": {
    "dotnet_interactive": {
     "language": "csharp"
    }
   },
   "outputs": [],
   "source": [
    "using BoSSS.Application.XNSFE_Solver;"
   ]
  },
  {
   "cell_type": "code",
   "execution_count": null,
   "metadata": {
    "dotnet_interactive": {
     "language": "csharp"
    }
   },
   "outputs": [],
   "source": [
    "int[] hRes = {4};//{1, 2, 3, 4};\n",
    "int[] pDeg = {2};//{ 1, 2, 3, 4};\n",
    "double[] Q = {0.0, 0.05, 0.1, 0.2};"
   ]
  },
  {
   "cell_type": "code",
   "execution_count": null,
   "metadata": {
    "dotnet_interactive": {
     "language": "csharp"
    }
   },
   "outputs": [],
   "source": [
    "List<XNSFE_Control> Controls = new List<XNSFE_Control>();\n",
    "foreach(int h in hRes){\n",
    "    foreach(int p in pDeg){\n",
    "        foreach(double q in Q){\n",
    "\n",
    "        var ctrl = new XNSFE_Control();\n",
    "        ctrl.Paramstudy_CaseIdentification.Add(new Tuple<string, object>(\"HeatFlux\", q));\n",
    "\n",
    "        ctrl.DbPath      = null;\n",
    "        ctrl.SessionName = $\"HeatedWall_Simple_res:{h}_p:{p}_Q:{q}\";\n",
    "        ctrl.ProjectName = $\"ProjectName\";\n",
    "        ctrl.SetDatabase(myDb);\n",
    "        ctrl.savetodb = true;        \n",
    "\n",
    "        ctrl.SetDGdegree(p);\n",
    "\n",
    "        // For Gravity the above routine does not contain standard values, add the options manually\n",
    "        ctrl.FieldOptions.Add(\"GravityX#A\", new FieldOpts() {\n",
    "            SaveToDB = FieldOpts.SaveToDBOpt.TRUE\n",
    "        });\n",
    "        ctrl.FieldOptions.Add(\"GravityY#A\", new FieldOpts() {\n",
    "            SaveToDB = FieldOpts.SaveToDBOpt.TRUE\n",
    "        });\n",
    "        ctrl.FieldOptions.Add(\"GravityX#B\", new FieldOpts() {\n",
    "            SaveToDB = FieldOpts.SaveToDBOpt.TRUE\n",
    "        });\n",
    "        ctrl.FieldOptions.Add(\"GravityY#B\", new FieldOpts() {\n",
    "            SaveToDB = FieldOpts.SaveToDBOpt.TRUE\n",
    "        });        \n",
    "\n",
    "        #region grid\n",
    "        double L = 5.0;\n",
    "        int kelemR = h;\n",
    "        string[] Bndy = new string[] {  \"Inner\",\n",
    "                                        \"NavierSlip_linear_ConstantHeatFlux_right\",\n",
    "                                        \"pressure_outlet_ZeroGradient_top\",\n",
    "                                        \"freeslip_ZeroGradient_left\",\n",
    "                                        \"pressure_outlet_ZeroGradient_bottom\"};\n",
    "\n",
    "        ctrl.GridFunc = delegate () {\n",
    "            double[] Xnodes = GenericBlas.Linspace(-L, 0, kelemR + 1);\n",
    "            double[] Ynodes = GenericBlas.Linspace(0, 3 * L, 3 * kelemR + 1);\n",
    "            var grd = Grid2D.Cartesian2DGrid(Xnodes, Ynodes);\n",
    "\n",
    "            for(byte i= 1; i < Bndy.Count(); i++) {\n",
    "                grd.EdgeTagNames.Add(i, Bndy[i]);\n",
    "            }\n",
    "\n",
    "            grd.DefineEdgeTags(delegate (double[] X) {\n",
    "                byte et = 0;\n",
    "                if(Math.Abs(X[0] - Xnodes.Last()) < 1e-8)\n",
    "                    return 1;\n",
    "                if(Math.Abs(X[0] - Xnodes.First()) < 1e-8)\n",
    "                    return 3;\n",
    "                if(Math.Abs(X[1] - Ynodes.Last()) < 1e-8)\n",
    "                    return 2;\n",
    "                if(Math.Abs(X[1] - Ynodes.First()) < 1e-8)\n",
    "                    return 4;\n",
    "                return et;\n",
    "            });\n",
    "\n",
    "            return grd;\n",
    "        };\n",
    "        #endregion\n",
    "\n",
    "        #region material\n",
    "        ctrl.PhysicalParameters = new BoSSS.Solution.XNSECommon.PhysicalParameters() {\n",
    "            rho_A = 1.0, // 958.0\n",
    "            rho_B = 1.0, // 0.59,\n",
    "\n",
    "            mu_A = 1, //2.82 * 1e-4,\n",
    "            mu_B = 0.001, //1.23 * 1e-6,\n",
    "\n",
    "            Sigma = 1.0,\n",
    "            betaS_A = 1000, // sliplength is mu/beta\n",
    "            betaS_B = 1000,\n",
    "        };\n",
    "\n",
    "        ctrl.ThermalParameters = new BoSSS.Solution.XheatCommon.ThermalParameters() {\n",
    "            rho_A = 1.0, // 958.0\n",
    "            rho_B = 1.0, //0.59,\n",
    "\n",
    "            k_A = 1.0, // 0.6\n",
    "            k_B = 1.0, // 0.026,\n",
    "\n",
    "            c_A = 0.0,\n",
    "            c_B = 0.0,\n",
    "\n",
    "            hVap = 1,//2.257 * 1e6,\n",
    "            T_sat = 0.0 // 373.0\n",
    "        };\n",
    "\n",
    "        ctrl.PhysicalParameters.IncludeConvection = true;\n",
    "        ctrl.ThermalParameters.IncludeConvection = true;\n",
    "        ctrl.PhysicalParameters.Material = false;\n",
    "        #endregion\n",
    "\n",
    "        #region Initial Condition - Exact Solution\n",
    "\n",
    "        // solution for massflux and velocity at level set\n",
    "        double y0 = 0.2 * L;\n",
    "\n",
    "        // inital values\n",
    "        double g = 4;\n",
    "        ctrl.AddInitialValue(\"Phi\", $\"(X, t) => -{y0} + X[1]\", true);\n",
    "        ctrl.AddInitialValue(\"Temperature#A\", $\"(X, t) => {ctrl.ThermalParameters.T_sat}\", true);\n",
    "        ctrl.AddInitialValue(\"Temperature#B\", $\"(X, t) => {ctrl.ThermalParameters.T_sat}\", true);\n",
    "        ctrl.AddInitialValue(\"GravityY#A\", $\"(X, t) => -{g}\", true);\n",
    "\n",
    "        #endregion\n",
    "\n",
    "        #region Boundary Conditions\n",
    "\n",
    "        double v = 1.0;\n",
    "        ctrl.AddBoundaryValue(Bndy[1], \"HeatFluxX#A\", $\"(X, t) => {q}\", true);\n",
    "        ctrl.AddBoundaryValue(Bndy[1], \"VelocityY#A\", $\"(X, t) => {v}\", true);\n",
    "        ctrl.AddBoundaryValue(Bndy[1], \"VelocityY#B\", $\"(X, t) => {v}\", true);\n",
    "\n",
    "\n",
    "        ctrl.AddBoundaryValue(Bndy[3]);\n",
    "        ctrl.AddBoundaryValue(Bndy[2]);\n",
    "        ctrl.AddBoundaryValue(Bndy[4], \"Pressure#A\", $\"(X, t) => {y0} * {ctrl.PhysicalParameters.rho_A} * {g}\", true);\n",
    "\n",
    "        #endregion\n",
    "\n",
    "        #region AMR\n",
    "\n",
    "        int level = 3;\n",
    "        ctrl.AdaptiveMeshRefinement = level > 0;\n",
    "        ctrl.activeAMRlevelIndicators.Add(new BoSSS.Solution.LevelSetTools.SolverWithLevelSetUpdater.AMRonNarrowband() { maxRefinementLevel = level });\n",
    "        ctrl.AMR_startUpSweeps = level;\n",
    "\n",
    "        #endregion\n",
    "\n",
    "        #region Timestepping\n",
    "\n",
    "        ctrl.AdvancedDiscretizationOptions.SST_isotropicMode = BoSSS.Solution.XNSECommon.SurfaceStressTensor_IsotropicMode.LaplaceBeltrami_ContactLine;\n",
    "        ctrl.Option_LevelSetEvolution = BoSSS.Solution.LevelSetTools.LevelSetEvolution.FastMarching;\n",
    "        ctrl.Timestepper_LevelSetHandling =  BoSSS.Solution.XdgTimestepping.LevelSetHandling.LieSplitting;\n",
    "\n",
    "        ctrl.NonLinearSolver.SolverCode = NonLinearSolverCode.Newton;\n",
    "        ctrl.NonLinearSolver.Globalization = BoSSS.Solution.AdvancedSolvers.Newton.GlobalizationOption.Dogleg;\n",
    "        ctrl.NonLinearSolver.ConvergenceCriterion = 1e-8;\n",
    "        ctrl.NonLinearSolver.MaxSolverIterations = 10;\n",
    "\n",
    "        ctrl.SkipSolveAndEvaluateResidual = false;\n",
    "\n",
    "        ctrl.TimeSteppingScheme = BoSSS.Solution.XdgTimestepping.TimeSteppingScheme.ImplicitEuler;\n",
    "        ctrl.TimesteppingMode = BoSSS.Solution.Control.AppControl._TimesteppingMode.Transient;\n",
    "        ctrl.dtFixed = 0.01;\n",
    "        ctrl.Endtime = 15.0;\n",
    "        ctrl.NoOfTimesteps = (int)(ctrl.Endtime / ctrl.dtFixed);\n",
    "\n",
    "        #endregion\n",
    "        ctrl.PostprocessingModules.Add(new BoSSS.Application.XNSFE_Solver.PhysicalBasedTestcases.MassfluxLogging() { LogPeriod = 1 });\n",
    "        ctrl.PostprocessingModules.Add(new BoSSS.Application.XNSFE_Solver.PhysicalBasedTestcases.MovingContactLineLogging() { LogPeriod = 1 });\n",
    "\n",
    "        Controls.Add(ctrl);\n",
    "        }\n",
    "    }\n",
    "}"
   ]
  },
  {
   "cell_type": "code",
   "execution_count": null,
   "metadata": {
    "dotnet_interactive": {
     "language": "csharp"
    }
   },
   "outputs": [],
   "source": [
    "Controls.Count"
   ]
  },
  {
   "cell_type": "markdown",
   "metadata": {
    "dotnet_interactive": {
     "language": "csharp"
    }
   },
   "source": [
    "## Start simulations on Batch processor"
   ]
  },
  {
   "cell_type": "code",
   "execution_count": null,
   "metadata": {
    "dotnet_interactive": {
     "language": "csharp"
    }
   },
   "outputs": [],
   "source": [
    "foreach(var C in Controls) {\n",
    "    Type solver = typeof(BoSSS.Application.XNSFE_Solver.XNSFE<XNSFE_Control>);\n",
    "\n",
    "    string jobName       = C.SessionName;\n",
    "    var oneJob           = new Job(jobName, solver);\n",
    "    oneJob.NumberOfMPIProcs = 1;    \n",
    "    oneJob.SetControlObject(C);\n",
    "    oneJob.Activate(myBatch, true);\n",
    "}"
   ]
  },
  {
   "cell_type": "markdown",
   "metadata": {},
   "source": [
    "### Wait until jobs complete"
   ]
  },
  {
   "cell_type": "code",
   "execution_count": null,
   "metadata": {
    "dotnet_interactive": {
     "language": "csharp"
    }
   },
   "outputs": [],
   "source": [
    "BoSSSshell.WorkflowMgm.BlockUntilAllJobsTerminate(86400 , 60); // wait for one day, or until all jobs finish"
   ]
  },
  {
   "cell_type": "markdown",
   "metadata": {},
   "source": [
    "## Postprocessing"
   ]
  },
  {
   "cell_type": "markdown",
   "metadata": {},
   "source": [
    "Track the amount of errors occuring"
   ]
  },
  {
   "cell_type": "code",
   "execution_count": null,
   "metadata": {
    "dotnet_interactive": {
     "language": "csharp"
    }
   },
   "outputs": [],
   "source": [
    "int Errors = 0;"
   ]
  },
  {
   "cell_type": "markdown",
   "metadata": {},
   "source": [
    "### Load sessions"
   ]
  },
  {
   "cell_type": "code",
   "execution_count": null,
   "metadata": {
    "dotnet_interactive": {
     "language": "csharp"
    }
   },
   "outputs": [],
   "source": [
    "var sessions = BoSSSshell.WorkflowMgm.Sessions.Where(s => s.SuccessfulTermination == true).ToList();"
   ]
  },
  {
   "cell_type": "code",
   "execution_count": null,
   "metadata": {
    "dotnet_interactive": {
     "language": "csharp"
    }
   },
   "outputs": [],
   "source": [
    "sessions"
   ]
  },
  {
   "cell_type": "code",
   "execution_count": null,
   "metadata": {
    "dotnet_interactive": {
     "language": "csharp"
    }
   },
   "outputs": [],
   "source": [
    "if(sessions.Count < 4){\n",
    "    Console.WriteLine(\"\\x1b[31mError: expected 4 successful sessions!\\x1b[0m\");\n",
    "    Errors += 4 - sessions.Count;\n",
    "}"
   ]
  },
  {
   "cell_type": "markdown",
   "metadata": {},
   "source": [
    "#### Load data"
   ]
  },
  {
   "cell_type": "code",
   "execution_count": null,
   "metadata": {
    "dotnet_interactive": {
     "language": "csharp"
    }
   },
   "outputs": [],
   "source": [
    "List<Plot2Ddata> dataCL, dataEvap;\n",
    "\n",
    "try{\n",
    "    dataCL = sessions.ReadLogDataForMovingContactLine()[1];\n",
    "    dataEvap = sessions.ReadLogDataForXNSE(\"Massflux\");\n",
    "} catch {\n",
    "    Console.WriteLine(\"\\x1b[31mError: loading data!\\x1b[0m\");\n",
    "    Errors++;\n",
    "}"
   ]
  },
  {
   "cell_type": "markdown",
   "metadata": {},
   "source": [
    "### Process data"
   ]
  },
  {
   "cell_type": "code",
   "execution_count": null,
   "metadata": {
    "dotnet_interactive": {
     "language": "csharp"
    }
   },
   "outputs": [],
   "source": [
    "try{\n",
    "    dataCL.Pick(4).dataGroups.ForEach(s => s.Values = s.Values.Select(v => 180 - v ).ToArray());\n",
    "\n",
    "    Plot2Ddata evapFluxes = new Plot2Ddata();\n",
    "    evapFluxes.dataGroups = new Plot2Ddata.XYvalues[dataEvap.Pick(3).dataGroups.Length]; // same as total evaporative heatflux * dt, as rho = hvap = 1\n",
    "    Plot2Ddata bndFluxes = new Plot2Ddata();\n",
    "    bndFluxes.dataGroups = new Plot2Ddata.XYvalues[dataCL.Pick(1).dataGroups.Length]; \n",
    "    Plot2Ddata.XYvalues[] Vals = new Plot2Ddata.XYvalues[dataCL.Pick(4).dataGroups.Length];\n",
    "    Plot2Ddata clVeloY = new Plot2Ddata();\n",
    "    clVeloY.dataGroups = new Plot2Ddata.XYvalues[dataCL.Pick(3).dataGroups.Length]; \n",
    "    int dashType = 0;\n",
    "    for(int i = 0; i<sessions.Count;i++){\n",
    "        sessions[i].KeysAndQueries.TryGetValue(\"id:PressureRatio\", out object color);\n",
    "        color = color == null ? 7 : Convert.ToInt32(color);\n",
    "        dataCL.ForEach(p => p.dataGroups[i].Name = \"q:\" + Convert.ToString(sessions[i].KeysAndQueries[\"id:HeatFlux\"]));\n",
    "        dataEvap.ForEach(p => p.dataGroups[i].Name = \"q:\" + Convert.ToString(sessions[i].KeysAndQueries[\"id:HeatFlux\"]));\n",
    "        PlotFormat PF = new PlotFormat(lineColor: (LineColors)color, dashType: ((DashTypes)(++dashType)));\n",
    "        PF.LineWidth = 3.0;\n",
    "        dataCL.ForEach(p => p.dataGroups[i].Format = PF.CloneAs());\n",
    "        dataEvap.ForEach(p => p.dataGroups[i].Format = PF.CloneAs());\n",
    "        \n",
    "        double alpha = 180/Math.PI * 0.5*Math.Asin(2*Convert.ToDouble(sessions[i].KeysAndQueries[\"id:HeatFlux\"]));\n",
    "        Vals[i] = new Plot2Ddata.XYvalues(\"q:\" + Convert.ToString(sessions[i].KeysAndQueries[\"id:HeatFlux\"]), new double[] {0.0, 15}, new double[] {alpha, alpha});\n",
    "        Vals[i].Format = new PlotFormat(\"b-\");\n",
    "\n",
    "        double dt = Convert.ToDouble(sessions[i].KeysAndQueries[\"dtFixed\"]);\n",
    "        PF.LineWidth = 3.0;\n",
    "        PF.LineColor = (LineColors)7;\n",
    "        PF.DashType = (DashTypes)1;\n",
    "        evapFluxes.dataGroups[i] = new Plot2Ddata.XYvalues(\"\");\n",
    "        evapFluxes.dataGroups[i].Values = dataEvap.Pick(3).dataGroups[i].Values.Select(x => x).ToArray();\n",
    "        evapFluxes.dataGroups[i].Abscissas = dataEvap.Pick(3).dataGroups[i].Abscissas.Select(x => x).ToArray();\n",
    "        evapFluxes.dataGroups[i].Name = \"Q-Evap:\" + Convert.ToString(sessions[i].KeysAndQueries[\"id:HeatFlux\"]);\n",
    "        evapFluxes.dataGroups[i].Format = PF.CloneAs();\n",
    "        evapFluxes.dataGroups[i].Values = evapFluxes.dataGroups[i].Values.Select(v => v / dt).ToArray();\n",
    "\n",
    "        PF.LineWidth = 3.0;\n",
    "        PF.LineColor = (LineColors)2;\n",
    "        PF.DashType = (DashTypes)2;\n",
    "        bndFluxes.dataGroups[i] = new Plot2Ddata.XYvalues(\"\");\n",
    "        bndFluxes.dataGroups[i].Values = dataCL.Pick(1).dataGroups[i].Values.Select(x => x).ToArray();\n",
    "        bndFluxes.dataGroups[i].Abscissas = dataCL.Pick(1).dataGroups[i].Abscissas.Select(x => x).ToArray();\n",
    "        bndFluxes.dataGroups[i].Name = \"Q-Bnd:\" + Convert.ToString(sessions[i].KeysAndQueries[\"id:HeatFlux\"]);\n",
    "        bndFluxes.dataGroups[i].Format = PF.CloneAs();\n",
    "        bndFluxes.dataGroups[i].Values = bndFluxes.dataGroups[i].Values.Select(v => v * Convert.ToDouble(sessions[i].KeysAndQueries[\"id:HeatFlux\"])).ToArray();\n",
    "\n",
    "        PF.LineColor = (LineColors)color;\n",
    "        PF.DashType = (DashTypes)dashType;\n",
    "        clVeloY.dataGroups[i] = new Plot2Ddata.XYvalues(\"\");\n",
    "        clVeloY.dataGroups[i].Values = new double[dataCL.Pick(3).dataGroups[i].Values.Length];\n",
    "        for(int j = 0; j<dataCL.Pick(3).dataGroups[i].Values.Length; j++){\n",
    "            clVeloY.dataGroups[i].Values[j] = dataCL.Pick(3).dataGroups[i].Values[j] - dataCL.Pick(2).dataGroups[i].Values[j] / Math.Tan(Math.PI / 180.0 * dataCL.Pick(4).dataGroups[i].Values[j]);\n",
    "        } \n",
    "        clVeloY.dataGroups[i].Abscissas = dataCL.Pick(1).dataGroups[i].Abscissas.Select(x => x).ToArray();\n",
    "        clVeloY.dataGroups[i].Name = \"q:\" + Convert.ToString(sessions[i].KeysAndQueries[\"id:HeatFlux\"]);\n",
    "        clVeloY.dataGroups[i].Format = PF.CloneAs();\n",
    "    }\n",
    "    dataCL.Pick(4).dataGroups = dataCL.Pick(4).dataGroups.ToList().Cat(Vals).ToArray();    \n",
    "    evapFluxes = evapFluxes.Merge(bndFluxes);\n",
    "    dataEvap[3] = evapFluxes; // reassign...\n",
    "    dataCL[3] = clVeloY;\n",
    "} catch {\n",
    "    Console.WriteLine(\"\\x1b[31mError: processing data!\\x1b[0m\");\n",
    "    Errors++;\n",
    "}"
   ]
  },
  {
   "cell_type": "markdown",
   "metadata": {},
   "source": [
    "### Comparison to reference data"
   ]
  },
  {
   "cell_type": "markdown",
   "metadata": {},
   "source": [
    "#### (De)Serialization of reference values"
   ]
  },
  {
   "cell_type": "code",
   "execution_count": null,
   "metadata": {
    "dotnet_interactive": {
     "language": "csharp"
    }
   },
   "outputs": [],
   "source": [
    "using System.IO;\n",
    "using Newtonsoft.Json;"
   ]
  },
  {
   "cell_type": "code",
   "execution_count": null,
   "metadata": {
    "dotnet_interactive": {
     "language": "csharp"
    }
   },
   "outputs": [],
   "source": [
    "JsonSerializer formatter = new JsonSerializer() {\n",
    "    NullValueHandling = NullValueHandling.Ignore,\n",
    "    TypeNameHandling = TypeNameHandling.Auto,\n",
    "    ConstructorHandling = ConstructorHandling.AllowNonPublicDefaultConstructor,\n",
    "    ReferenceLoopHandling = ReferenceLoopHandling.Error,\n",
    "    Formatting = Formatting.Indented\n",
    "};            \n",
    "\n",
    "//originally called to write out reference data\n",
    "// using(var tw = new StringWriter()) {\n",
    "//     using(JsonWriter writer = new JsonTextWriter(tw)) {\n",
    "//         formatter.Serialize(writer, dataCL);\n",
    "//         string Ret = tw.ToString(); \n",
    "//         File.WriteAllText(\".\\\\ReferenceData\\\\dataCL_Reference.json\", Ret); \n",
    "//     }\n",
    "// }  \n",
    "// using(var tw = new StringWriter()) {\n",
    "//     using(JsonWriter writer = new JsonTextWriter(tw)) {          \n",
    "//         formatter.Serialize(writer, dataEvap);\n",
    "//         string Ret = tw.ToString(); \n",
    "//         File.WriteAllText(\".\\\\ReferenceData\\\\dataEvap_Reference.json\", Ret);   \n",
    "//     }    \n",
    "// }"
   ]
  },
  {
   "cell_type": "code",
   "execution_count": null,
   "metadata": {
    "dotnet_interactive": {
     "language": "csharp"
    }
   },
   "outputs": [],
   "source": [
    "List<Plot2Ddata> dataCL_Ref, dataEvap_Ref;\n",
    "\n",
    "using(var tr = new StringReader(File.ReadAllText(\".\\\\ReferenceData\\\\dataCL_Reference.json\"))) {        \n",
    "    using(JsonReader reader = new JsonTextReader(tr)) {\n",
    "            var obj = formatter.Deserialize(reader, typeof(List<Plot2Ddata>));\n",
    "            dataCL_Ref = (List<Plot2Ddata>)obj;\n",
    "        }         \n",
    "}\n",
    "using(var tr = new StringReader(File.ReadAllText(\".\\\\ReferenceData\\\\dataEvap_Reference.json\"))) {        \n",
    "    using(JsonReader reader = new JsonTextReader(tr)) {\n",
    "            var obj = formatter.Deserialize(reader, typeof(List<Plot2Ddata>));\n",
    "            dataEvap_Ref = (List<Plot2Ddata>)obj;\n",
    "        }         \n",
    "}"
   ]
  },
  {
   "cell_type": "markdown",
   "metadata": {},
   "source": [
    "#### Setup Plot comparison\n",
    "\n",
    "Left - current data  \n",
    "Right - reference data"
   ]
  },
  {
   "cell_type": "code",
   "execution_count": null,
   "metadata": {
    "dotnet_interactive": {
     "language": "csharp"
    }
   },
   "outputs": [],
   "source": [
    "var gp = new Gnuplot();\n",
    "gp.SetMultiplot(4, 2);\n",
    "Plot2Ddata data;"
   ]
  },
  {
   "cell_type": "code",
   "execution_count": null,
   "metadata": {
    "dotnet_interactive": {
     "language": "csharp"
    }
   },
   "outputs": [],
   "source": [
    "try{\n",
    "    gp.SetSubPlot(0, 0);\n",
    "\n",
    "    data = dataCL.Pick(4);\n",
    "    data.Xlabel = \"time [s]\";\n",
    "    data.Ylabel = \"angle [°]\";\n",
    "    data.XrangeMin = 0;\n",
    "    data.XrangeMax = 12;\n",
    "    data.LabelTitleFont = 16;\n",
    "    data.TitleFont = 24;\n",
    "    data.Title = \"Contact Angle\";\n",
    "\n",
    "    data.ToGnuplot(gp);\n",
    "\n",
    "    gp.SetSubPlot(0, 1);\n",
    "\n",
    "    data = dataCL_Ref.Pick(4);\n",
    "    for(int i=0; i<data.dataGroups.Count(); i++) { data.dataGroups[i].Format = dataCL.Pick(4).dataGroups[i].Format; }\n",
    "    data.Xlabel = \"time [s]\";\n",
    "    data.Ylabel = \"angle [°]\";\n",
    "    data.XrangeMin = 0;\n",
    "    data.XrangeMax = 12;\n",
    "    data.LabelTitleFont = 16;\n",
    "    data.TitleFont = 24;\n",
    "    data.Title = \"Contact Angle Reference\";\n",
    "\n",
    "    data.ToGnuplot(gp);\n",
    "} catch {\n",
    "    Console.WriteLine(\"\\x1b[31mError: plotting data!\\x1b[0m\");\n",
    "    Errors++;\n",
    "}"
   ]
  },
  {
   "cell_type": "code",
   "execution_count": null,
   "metadata": {
    "dotnet_interactive": {
     "language": "csharp"
    }
   },
   "outputs": [],
   "source": [
    "try{\n",
    "    gp.SetSubPlot(1, 0);\n",
    "\n",
    "    data = dataEvap.Pick(3);\n",
    "    data.Xlabel = \"time [s]\";\n",
    "    data.Ylabel = \"Total Heat Flux [W]\";\n",
    "    data.XrangeMin = 0;\n",
    "    data.XrangeMax = 12;\n",
    "    data.LabelTitleFont = 16;\n",
    "    data.TitleFont = 24;\n",
    "    data.Title = \"Heatflux\";\n",
    "    data.ShowLegend = false;\n",
    "\n",
    "    data.ToGnuplot(gp);\n",
    "\n",
    "    gp.SetSubPlot(1, 1);\n",
    "\n",
    "    data = dataEvap_Ref.Pick(3);\n",
    "    for(int i=0; i<data.dataGroups.Count(); i++) { data.dataGroups[i].Format = dataEvap.Pick(3).dataGroups[i].Format; }\n",
    "    data.Xlabel = \"time [s]\";\n",
    "    data.Ylabel = \"Total Heat Flux [W]\";\n",
    "    data.XrangeMin = 0;\n",
    "    data.XrangeMax = 12;\n",
    "    data.LabelTitleFont = 16;\n",
    "    data.TitleFont = 24;\n",
    "    data.Title = \"Heatflux Reference\";\n",
    "    data.ShowLegend = false;\n",
    "\n",
    "    data.ToGnuplot(gp);\n",
    "} catch {\n",
    "    Console.WriteLine(\"\\x1b[31mError: plotting data!\\x1b[0m\");\n",
    "    Errors++;\n",
    "}"
   ]
  },
  {
   "cell_type": "code",
   "execution_count": null,
   "metadata": {
    "dotnet_interactive": {
     "language": "csharp"
    }
   },
   "outputs": [],
   "source": [
    "try{\n",
    "    gp.SetSubPlot(2, 0);\n",
    "\n",
    "    data = dataCL.Pick(1);\n",
    "    data.Xlabel = \"time [s]\";\n",
    "    data.Ylabel = \"Pos Y [m]\";\n",
    "    data.XrangeMin = 0;\n",
    "    data.XrangeMax = 12;\n",
    "    data.LabelTitleFont = 16;\n",
    "    data.TitleFont = 24;\n",
    "    data.Title = \"Contact-line Position\";\n",
    "    data.LegendAlignment = new string[] {\"i\",\"l\",\"t\"};\n",
    "\n",
    "    data.ToGnuplot(gp);\n",
    "\n",
    "    gp.SetSubPlot(2, 1);\n",
    "\n",
    "    data = dataCL_Ref.Pick(1);\n",
    "    for(int i=0; i<data.dataGroups.Count(); i++) { data.dataGroups[i].Format = dataCL.Pick(1).dataGroups[i].Format; }\n",
    "    data.Xlabel = \"time [s]\";\n",
    "    data.Ylabel = \"Pos Y [m]\";\n",
    "    data.XrangeMin = 0;\n",
    "    data.XrangeMax = 12;\n",
    "    data.LabelTitleFont = 16;\n",
    "    data.TitleFont = 24;\n",
    "    data.Title = \"Contact-line Position Reference\";\n",
    "    data.LegendAlignment = new string[] {\"i\",\"l\",\"t\"};\n",
    "\n",
    "    data.ToGnuplot(gp);\n",
    "} catch {\n",
    "    Console.WriteLine(\"\\x1b[31mError: plotting data!\\x1b[0m\");\n",
    "    Errors++;\n",
    "}"
   ]
  },
  {
   "cell_type": "code",
   "execution_count": null,
   "metadata": {
    "dotnet_interactive": {
     "language": "csharp"
    }
   },
   "outputs": [],
   "source": [
    "try{\n",
    "    gp.SetSubPlot(3, 0);\n",
    "\n",
    "    data = new Plot2Ddata();\n",
    "    // Filter the velocity for a smoother representation\n",
    "    foreach(var group in dataCL.Pick(3).dataGroups){\n",
    "        Plot2Ddata.XYvalues val = new Plot2Ddata.XYvalues(group.Name, group.Abscissas, group.Values);\n",
    "        double n, m;\n",
    "        for(int i = 1; i< val.Values.Count()-1; i++){\n",
    "            m = val.Values[i + 1];\n",
    "            n = val.Values[i - 1];\n",
    "            double mid = 0.5 * (n+m);        \n",
    "            if(Math.Abs(val.Values[i] - n) > Math.Abs(m - n) )\n",
    "                val.Values[i] = mid;\n",
    "        }\n",
    "        val.Format = group.Format;\n",
    "        data.dataGroups = data.dataGroups.Cat(val);\n",
    "    }\n",
    "    data.Xlabel = \"time [s]\";\n",
    "    data.Ylabel = \"V_y [m/s]\";\n",
    "    data.XrangeMin = 0;\n",
    "    data.XrangeMax = 12;\n",
    "    data.LabelTitleFont = 16;\n",
    "    data.TitleFont = 24;\n",
    "    data.Title = \"Contact-line Velocity\";\n",
    "    data.LegendAlignment = new string[] {\"i\",\"l\",\"b\"};\n",
    "\n",
    "    data.ToGnuplot(gp);\n",
    "\n",
    "    gp.SetSubPlot(3, 1);\n",
    "\n",
    "    data = new Plot2Ddata();\n",
    "    // Filter the velocity for a smoother representation\n",
    "    foreach(var group in dataCL_Ref.Pick(3).dataGroups){\n",
    "        Plot2Ddata.XYvalues val = new Plot2Ddata.XYvalues(group.Name, group.Abscissas, group.Values);\n",
    "        double n, m;\n",
    "        for(int i = 1; i< val.Values.Count()-1; i++){\n",
    "            m = val.Values[i + 1];\n",
    "            n = val.Values[i - 1];\n",
    "            double mid = 0.5 * (n+m);        \n",
    "            if(Math.Abs(val.Values[i] - n) > Math.Abs(m - n) )\n",
    "                val.Values[i] = mid;\n",
    "        }\n",
    "        val.Format = group.Format;\n",
    "        data.dataGroups = data.dataGroups.Cat(val);\n",
    "    }\n",
    "    for(int i=0; i<data.dataGroups.Count(); i++) { data.dataGroups[i].Format = dataCL.Pick(3).dataGroups[i].Format; }\n",
    "    data.Xlabel = \"time [s]\";\n",
    "    data.Ylabel = \"V_y [m/s]\";\n",
    "    data.XrangeMin = 0;\n",
    "    data.XrangeMax = 12;\n",
    "    data.LabelTitleFont = 16;\n",
    "    data.TitleFont = 24;\n",
    "    data.Title = \"Contact-line Velocity Reference\";\n",
    "    data.LegendAlignment = new string[] {\"i\",\"l\",\"b\"};\n",
    "\n",
    "    data.ToGnuplot(gp);\n",
    "} catch {\n",
    "    Console.WriteLine(\"\\x1b[31mError: plotting data!\\x1b[0m\");\n",
    "    Errors++;\n",
    "}"
   ]
  },
  {
   "cell_type": "markdown",
   "metadata": {},
   "source": [
    "#### Plot comparison"
   ]
  },
  {
   "cell_type": "code",
   "execution_count": null,
   "metadata": {
    "dotnet_interactive": {
     "language": "csharp"
    }
   },
   "outputs": [],
   "source": [
    "gp.PlotSVG(1600, 4 * 600)"
   ]
  },
  {
   "cell_type": "markdown",
   "metadata": {},
   "source": [
    "### Quantitative comparison"
   ]
  },
  {
   "cell_type": "markdown",
   "metadata": {},
   "source": [
    "#### Assert that the deviance is within limits"
   ]
  },
  {
   "cell_type": "markdown",
   "metadata": {},
   "source": [
    "First, create some error plots, as the simulations should use the same fixed timestep this is possible."
   ]
  },
  {
   "cell_type": "code",
   "execution_count": null,
   "metadata": {
    "dotnet_interactive": {
     "language": "csharp"
    }
   },
   "outputs": [],
   "source": [
    "List<Plot2Ddata> dataCL_Err = new List<Plot2Ddata>();\n",
    "List<Plot2Ddata> dataEvap_Err = new List<Plot2Ddata>();\n",
    "\n",
    "for(int i = 0; i < dataCL.Count(); i++){\n",
    "    Plot2Ddata errData = new Plot2Ddata();\n",
    "    for(int j = 0; j < dataCL[i].dataGroups.Count() & j < 4; j++){\n",
    "        var group = dataCL[i].dataGroups[j];\n",
    "        var group_ref = dataCL_Ref[i].dataGroups[j];\n",
    "        Plot2Ddata.XYvalues val = new Plot2Ddata.XYvalues(group.Name, group.Abscissas, group.Values);\n",
    "        for(int k = 0; k< val.Values.Count(); k++){\n",
    "            val.Values[k] = group_ref.Values[k] - group.Values[k];\n",
    "        }\n",
    "        val.Format = group.Format;\n",
    "        errData.dataGroups = errData.dataGroups.Cat(val);\n",
    "    }\n",
    "    dataCL_Err.Add(errData);\n",
    "}\n",
    "\n",
    "for(int i = 0; i < dataEvap.Count(); i++){\n",
    "    Plot2Ddata errData = new Plot2Ddata();\n",
    "    for(int j = 0; j < dataEvap[i].dataGroups.Count() & j < 4; j++){\n",
    "        var group = dataEvap[i].dataGroups[j];\n",
    "        var group_ref = dataEvap_Ref[i].dataGroups[j];\n",
    "        Plot2Ddata.XYvalues val = new Plot2Ddata.XYvalues(group.Name, group.Abscissas, group.Values);\n",
    "        for(int k = 0; k< val.Values.Count(); k++){\n",
    "            val.Values[k] = group_ref.Values[k] - group.Values[k];\n",
    "        }\n",
    "        val.Format = group.Format;\n",
    "        errData.dataGroups = errData.dataGroups.Cat(val);\n",
    "    }\n",
    "    dataEvap_Err.Add(errData);\n",
    "}\n",
    "\n",
    "if(dataEvap[0].dataGroups[0].Abscissas.Count() != dataEvap_Ref[0].dataGroups[0].Abscissas.Count() | dataCL[0].dataGroups[0].Abscissas.Count() != dataCL_Ref[0].dataGroups[0].Abscissas.Count()){\n",
    "    Console.WriteLine(\"\\x1b[31mError: datasets of different lengths!\\x1b[0m\");\n",
    "    Errors++;\n",
    "}"
   ]
  },
  {
   "cell_type": "code",
   "execution_count": null,
   "metadata": {
    "dotnet_interactive": {
     "language": "csharp"
    }
   },
   "outputs": [],
   "source": [
    "var gp = new Gnuplot();\n",
    "gp.SetMultiplot(2,2);"
   ]
  },
  {
   "cell_type": "code",
   "execution_count": null,
   "metadata": {
    "dotnet_interactive": {
     "language": "csharp"
    }
   },
   "outputs": [],
   "source": [
    "try{\n",
    "    gp.SetSubPlot(0, 0);\n",
    "\n",
    "    data = dataCL_Err.Pick(4);\n",
    "    data.Xlabel = \"time [s]\";\n",
    "    data.Ylabel = \"angle [°]\";\n",
    "    data.XrangeMin = 0;\n",
    "    data.XrangeMax = 12;\n",
    "    data.LabelTitleFont = 16;\n",
    "    data.TitleFont = 24;\n",
    "    data.Title = \"Contact Angle\";\n",
    "    data.LegendAlignment = new string[] {\"i\",\"l\",\"t\"};\n",
    "\n",
    "    data.ToGnuplot(gp);\n",
    "\n",
    "    gp.SetSubPlot(0, 1);\n",
    "\n",
    "    data = dataEvap_Err.Pick(3);\n",
    "    data.Xlabel = \"time [s]\";\n",
    "    data.Ylabel = \"Total Heat Flux [W]\";\n",
    "    data.XrangeMin = 0;\n",
    "    data.XrangeMax = 12;\n",
    "    data.LabelTitleFont = 16;\n",
    "    data.TitleFont = 24;\n",
    "    data.Title = \"Heatflux\";\n",
    "    data.ShowLegend = true;\n",
    "    data.LegendAlignment = new string[] {\"i\",\"l\",\"t\"};\n",
    "\n",
    "    data.ToGnuplot(gp);\n",
    "\n",
    "    gp.SetSubPlot(1, 0);\n",
    "\n",
    "    data = dataCL_Err.Pick(1);\n",
    "    data.Xlabel = \"time [s]\";\n",
    "    data.Ylabel = \"Pos Y [m]\";\n",
    "    data.XrangeMin = 0;\n",
    "    data.XrangeMax = 12;\n",
    "    data.LabelTitleFont = 16;\n",
    "    data.TitleFont = 24;\n",
    "    data.Title = \"Contact-line Position\";\n",
    "    data.LegendAlignment = new string[] {\"i\",\"l\",\"t\"};\n",
    "\n",
    "    data.ToGnuplot(gp);\n",
    "\n",
    "    gp.SetSubPlot(1, 1);\n",
    "\n",
    "    data = dataCL_Err.Pick(3);\n",
    "    data.Xlabel = \"time [s]\";\n",
    "    data.Ylabel = \"V_y [m/s]\";\n",
    "    data.XrangeMin = 0;\n",
    "    data.XrangeMax = 12;\n",
    "    data.LabelTitleFont = 16;\n",
    "    data.TitleFont = 24;\n",
    "    data.Title = \"Contact-line Velocity Reference\";\n",
    "    data.LegendAlignment = new string[] {\"i\",\"l\",\"t\"};\n",
    "\n",
    "    data.ToGnuplot(gp);\n",
    "} catch {\n",
    "    Console.WriteLine(\"\\x1b[31mError: plotting data!\\x1b[0m\");\n",
    "    Errors++;\n",
    "}"
   ]
  },
  {
   "cell_type": "code",
   "execution_count": null,
   "metadata": {
    "dotnet_interactive": {
     "language": "csharp"
    }
   },
   "outputs": [],
   "source": [
    "gp.PlotSVG(1600, 1200)"
   ]
  },
  {
   "cell_type": "markdown",
   "metadata": {},
   "source": [
    "#### Calculate relative Error Norm\n",
    "$ \\varepsilon_{abs} = ||u - u_{ref}|| = (\\sum (u_i - u_{i,ref})^2)^{\\frac{1}{2}} $  \n",
    "\n",
    "$ ||u_{ref}|| = (\\sum (u_{i,ref})^2)^{\\frac{1}{2}} $  \n",
    "\n",
    "$ \\varepsilon_{rel} = \\frac{||u - u_{ref}||}{||u_{ref}||} $  "
   ]
  },
  {
   "cell_type": "code",
   "execution_count": null,
   "metadata": {
    "dotnet_interactive": {
     "language": "csharp"
    }
   },
   "outputs": [],
   "source": [
    "int N_end = 1200; // endtime 12 a dt 0.01\n",
    "Dictionary<string, List<double>> errCL_abs      = new Dictionary<string, List<double>>();\n",
    "Dictionary<string, List<double>> errEvap_abs    = new Dictionary<string, List<double>>();\n",
    "Dictionary<string, List<double>> normCL_ref     = new Dictionary<string, List<double>>();\n",
    "Dictionary<string, List<double>> normEvap_ref   = new Dictionary<string, List<double>>();\n",
    "Dictionary<string, List<double>> errCL_rel      = new Dictionary<string, List<double>>();\n",
    "Dictionary<string, List<double>> errEvap_rel    = new Dictionary<string, List<double>>();"
   ]
  },
  {
   "cell_type": "code",
   "execution_count": null,
   "metadata": {
    "dotnet_interactive": {
     "language": "csharp"
    }
   },
   "outputs": [],
   "source": [
    "for(int i = 0; i < dataCL_Ref.Count(); i++){\n",
    "    for(int j = 0; j < dataCL_Ref[i].dataGroups.Count() & j < 4; j++){\n",
    "        string name = dataCL_Ref[i].dataGroups[j].Name;\n",
    "        var vals_ref = dataCL_Ref[i].dataGroups[j].Values;\n",
    "        var vals = dataCL[i].dataGroups[j].Values;\n",
    "        double norm = 0.0, err = 0.0;\n",
    "        for(int k = 0; k< N_end; k++){\n",
    "            err += Math.Pow(vals_ref[k] - vals[k], 2.0);\n",
    "            norm += Math.Pow(vals_ref[k], 2.0);\n",
    "        }\n",
    "        err = Math.Sqrt(err);\n",
    "        norm = Math.Sqrt(norm);\n",
    "\n",
    "        if (!errCL_abs.ContainsKey(name)){\n",
    "            errCL_abs[name] = new List<double>();\n",
    "            normCL_ref[name] = new List<double>();\n",
    "            errCL_rel[name] = new List<double>();\n",
    "        }\n",
    "        errCL_abs[name].Add(err);\n",
    "        normCL_ref[name].Add(norm);\n",
    "        errCL_rel[name].Add(err/norm);\n",
    "    }\n",
    "}\n",
    "\n",
    "for(int i = 0; i < dataEvap_Ref.Count(); i++){\n",
    "    for(int j = 0; j < dataEvap_Ref[i].dataGroups.Count() & j < 4; j++){\n",
    "        string name = dataEvap_Ref[i].dataGroups[j].Name;\n",
    "        var vals_ref = dataEvap_Ref[i].dataGroups[j].Values;\n",
    "        var vals = dataEvap[i].dataGroups[j].Values;\n",
    "        double norm = 0.0, err = 0.0;\n",
    "        for(int k = 0; k< N_end; k++){\n",
    "            err += Math.Pow(vals_ref[k] - vals[k], 2.0);\n",
    "            norm += Math.Pow(vals_ref[k], 2.0);\n",
    "        }\n",
    "        err = Math.Sqrt(err);\n",
    "        norm = Math.Sqrt(norm);\n",
    "        \n",
    "        if (!errEvap_abs.ContainsKey(name)){\n",
    "            errEvap_abs[name] = new List<double>();\n",
    "            normEvap_ref[name] = new List<double>();\n",
    "            errEvap_rel[name] = new List<double>();\n",
    "        }\n",
    "        errEvap_abs[name].Add(err);\n",
    "        normEvap_ref[name].Add(norm);\n",
    "        errEvap_rel[name].Add(err/norm);\n",
    "    }\n",
    "}"
   ]
  },
  {
   "cell_type": "markdown",
   "metadata": {},
   "source": [
    "Set threshhold for relative errors and assert its been reached"
   ]
  },
  {
   "cell_type": "code",
   "execution_count": null,
   "metadata": {
    "dotnet_interactive": {
     "language": "csharp"
    }
   },
   "outputs": [],
   "source": [
    "double thrsh = 0.01;\n",
    "\n",
    "foreach(var rel_errs in errCL_rel){\n",
    "    foreach(var err in rel_errs.Value){\n",
    "        if(err > thrsh){\n",
    "            Console.WriteLine($\"\\x1b[31mAssertion failed in {rel_errs.Key}!\\x1b[0m\");\n",
    "            Errors++;\n",
    "        }\n",
    "    }\n",
    "}\n",
    "\n",
    "foreach(var rel_errs in errEvap_rel){\n",
    "    foreach(var err in rel_errs.Value){\n",
    "        if(err > thrsh){\n",
    "            Console.WriteLine($\"\\x1b[31mAssertion failed in {rel_errs.Key}!\\x1b[0m\");\n",
    "            Errors++;\n",
    "        }\n",
    "    }\n",
    "}"
   ]
  },
  {
   "cell_type": "markdown",
   "metadata": {},
   "source": [
    "#### Print out the result & and save to file\n",
    "\n",
    "This file can e.g. be used to determine the outcome of this sheets execution"
   ]
  },
  {
   "cell_type": "code",
   "execution_count": null,
   "metadata": {
    "dotnet_interactive": {
     "language": "csharp"
    }
   },
   "outputs": [],
   "source": [
    "if(Errors != 0){\n",
    "    Console.WriteLine($\"\\x1b[31mVerification failed with {Errors} errors!\\x1b[0m\");\n",
    "}else{\n",
    "    Console.WriteLine($\"\\x1b[32mVerification successfull!\\x1b[0m\");\n",
    "}"
   ]
  },
  {
   "cell_type": "code",
   "execution_count": null,
   "metadata": {
    "dotnet_interactive": {
     "language": "csharp"
    }
   },
   "outputs": [],
   "source": [
    "File.WriteAllText(\".\\\\HeatedWallSimple_VerificationResult.txt\", Errors.ToString());"
   ]
  }
 ],
 "metadata": {
  "kernelspec": {
   "display_name": ".NET (C#)",
   "language": "C#",
   "name": ".net-csharp"
  },
  "language_info": {
   "file_extension": ".cs",
   "mimetype": "text/x-csharp",
   "name": "C#",
   "pygments_lexer": "csharp",
   "version": "9.0"
  },
  "orig_nbformat": 4
 },
 "nbformat": 4,
 "nbformat_minor": 2
}
