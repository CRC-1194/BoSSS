{
 "cells": [
  {
   "cell_type": "markdown",
   "source": [
    "# K26 - Heated Wall\r\n",
    "\r\n",
    "Interface at 90°.  \r\n",
    "Variable fluid densities => but very small variations  \r\n",
    "Also no Heat capacity => infinitely fast heat conduction  \r\n",
    "Height of the domain is reduced  \r\n",
    "Implicit RK timestepping, to allow for an adaption of the maximum step size  \r\n",
    "Also only the \"start\" of the process is simulated, i.e. tE = 1"
   ],
   "metadata": {
    "dotnet_interactive": {
     "language": "csharp"
    }
   }
  },
  {
   "cell_type": "code",
   "execution_count": null,
   "source": [
    "#r \"..\\..\\..\\src\\L4-application\\BoSSSpad\\bin\\Release\\net5.0\\BoSSSpad.dll\"\r\n",
    "using System;\r\n",
    "using System.Collections.Generic;\r\n",
    "using System.Linq;\r\n",
    "using ilPSP;\r\n",
    "using ilPSP.Utils;\r\n",
    "using BoSSS.Platform;\r\n",
    "using BoSSS.Foundation;\r\n",
    "using BoSSS.Foundation.XDG;\r\n",
    "using BoSSS.Foundation.Grid;\r\n",
    "using BoSSS.Foundation.Grid.Classic;\r\n",
    "using BoSSS.Foundation.IO;\r\n",
    "using BoSSS.Solution;\r\n",
    "using BoSSS.Solution.Control;\r\n",
    "using BoSSS.Solution.GridImport;\r\n",
    "using BoSSS.Solution.Statistic;\r\n",
    "using BoSSS.Solution.Utils;\r\n",
    "using BoSSS.Solution.AdvancedSolvers;\r\n",
    "using BoSSS.Solution.Gnuplot;\r\n",
    "using BoSSS.Application.BoSSSpad;\r\n",
    "using BoSSS.Application.XNSE_Solver;\r\n",
    "using static BoSSS.Application.BoSSSpad.BoSSSshell;\r\n",
    "Init();"
   ],
   "outputs": [],
   "metadata": {
    "dotnet_interactive": {
     "language": "csharp"
    }
   }
  },
  {
   "cell_type": "markdown",
   "source": [
    "## Setup Workflowmanagement, Batchprocessor and Database"
   ],
   "metadata": {}
  },
  {
   "cell_type": "code",
   "execution_count": null,
   "source": [
    "ExecutionQueues"
   ],
   "outputs": [
    {
     "data": {
      "text/html": [
       "<table><thead><tr><th><i>index</i></th><th><i>type</i></th><th>DeploymentBaseDirectory</th><th>DeployRuntime</th><th>Name</th><th>DotnetRuntime</th><th>Username</th><th>ServerName</th><th>ComputeNodes</th><th>DefaultJobPriority</th><th>SingleNode</th><th>AllowedDatabasesPaths</th><th>BatchInstructionDir</th></tr></thead><tbody><tr><td>0</td><td>BoSSS.Application.BoSSSpad.MsHPC2012Client</td><td>\\\\hpccluster\\hpccluster-scratch\\rieckmann\\binaries</td><td><div class=\"dni-plaintext\">True</div></td><td><div class=\"dni-plaintext\">&lt;null&gt;</div></td><td>dotnet</td><td>FDY\\rieckmann</td><td>DC2</td><td><div class=\"dni-plaintext\">&lt;null&gt;</div></td><td><span>Normal</span></td><td><div class=\"dni-plaintext\">True</div></td><td><div class=\"dni-plaintext\">[ { \\\\hpccluster\\hpccluster-scratch\\rieckmann == : LocalMountPath: \\\\hpccluster\\hpccluster-scratch\\rieckmann, PathAtRemote:  } ]</div></td><td></td></tr><tr><td>1</td><td>BoSSS.Application.BoSSSpad.MsHPC2012Client</td><td>\\\\hpccluster\\hpccluster-scratch\\rieckmann\\binaries</td><td><div class=\"dni-plaintext\">True</div></td><td>HPCCLUSTER</td><td>dotnet</td><td>FDY\\rieckmann</td><td>DC2</td><td><div class=\"dni-plaintext\">[ hpccluster ]</div></td><td><span>Normal</span></td><td><div class=\"dni-plaintext\">True</div></td><td><div class=\"dni-plaintext\">[ { \\\\hpccluster\\hpccluster-scratch\\rieckmann\\BoSSS_DB == : LocalMountPath: \\\\hpccluster\\hpccluster-scratch\\rieckmann\\BoSSS_DB, PathAtRemote:  } ]</div></td><td></td></tr><tr><td>2</td><td>BoSSS.Application.BoSSSpad.MsHPC2012Client</td><td>\\\\hpccluster\\hpccluster-scratch\\rieckmann\\binaries</td><td><div class=\"dni-plaintext\">True</div></td><td>HPCCLUSTER2</td><td>dotnet</td><td>FDY\\rieckmann</td><td>DC2</td><td><div class=\"dni-plaintext\">[ hpccluster2 ]</div></td><td><span>Normal</span></td><td><div class=\"dni-plaintext\">True</div></td><td><div class=\"dni-plaintext\">[ { \\\\hpccluster\\hpccluster-scratch\\rieckmann\\BoSSS_DB == : LocalMountPath: \\\\hpccluster\\hpccluster-scratch\\rieckmann\\BoSSS_DB, PathAtRemote:  } ]</div></td><td></td></tr><tr><td>3</td><td>BoSSS.Application.BoSSSpad.MiniBatchProcessorClient</td><td>C:\\Users\\rieckmann\\AppData\\Local\\BoSSS-LocalJobs</td><td><div class=\"dni-plaintext\">False</div></td><td><div class=\"dni-plaintext\">&lt;null&gt;</div></td><td>dotnet</td><td></td><td></td><td></td><td></td><td></td><td></td><td><div class=\"dni-plaintext\">&lt;null&gt;</div></td></tr></tbody></table>"
      ]
     },
     "metadata": {},
     "output_type": "display_data"
    }
   ],
   "metadata": {
    "dotnet_interactive": {
     "language": "csharp"
    }
   }
  },
  {
   "cell_type": "code",
   "execution_count": null,
   "source": [
    "static var myBatch = BoSSSshell.GetDefaultQueue();"
   ],
   "outputs": [],
   "metadata": {
    "dotnet_interactive": {
     "language": "csharp"
    }
   }
  },
  {
   "cell_type": "code",
   "execution_count": null,
   "source": [
    "static var myDb = myBatch.CreateOrOpenCompatibleDatabase(\"XNSFE_HeatedWall\");"
   ],
   "outputs": [],
   "metadata": {
    "dotnet_interactive": {
     "language": "csharp"
    }
   }
  },
  {
   "cell_type": "code",
   "execution_count": null,
   "source": [
    "myDb.Path"
   ],
   "outputs": [
    {
     "output_type": "stream",
     "name": "stdout",
     "text": [
      "Opening existing database '\\\\hpccluster\\hpccluster-scratch\\rieckmann\\XNSFE_HeatedWall'.\r\n"
     ]
    },
    {
     "data": {
      "text/plain": [
       "\\\\hpccluster\\hpccluster-scratch\\rieckmann\\XNSFE_HeatedWall"
      ]
     },
     "metadata": {},
     "output_type": "display_data"
    }
   ],
   "metadata": {
    "dotnet_interactive": {
     "language": "csharp"
    }
   }
  },
  {
   "cell_type": "code",
   "execution_count": null,
   "source": [
    "BoSSSshell.WorkflowMgm.Init($\"HeatedWall_VariableDensity\");"
   ],
   "outputs": [
    {
     "output_type": "stream",
     "name": "stdout",
     "text": [
      "Project name is set to 'HeatedWall_VariableDensity'.\r\n"
     ]
    }
   ],
   "metadata": {
    "dotnet_interactive": {
     "language": "csharp"
    }
   }
  },
  {
   "cell_type": "markdown",
   "source": [
    "## Setup Simulationcontrols"
   ],
   "metadata": {}
  },
  {
   "cell_type": "code",
   "execution_count": null,
   "source": [
    "using BoSSS.Application.XNSFE_Solver;"
   ],
   "outputs": [],
   "metadata": {
    "dotnet_interactive": {
     "language": "csharp"
    }
   }
  },
  {
   "cell_type": "code",
   "execution_count": null,
   "source": [
    "int[] hRes = {16, 24, 32, 48};\r\n",
    "int[] pDeg = {2};\r\n",
    "double[] Q = {0.2};\r\n",
    "double[] dRho_B = {0.0, -1e-3, -5e-3, -1e-2, -5e-2, -1e-1};"
   ],
   "outputs": [],
   "metadata": {
    "dotnet_interactive": {
     "language": "csharp"
    }
   }
  },
  {
   "cell_type": "code",
   "execution_count": null,
   "source": [
    "List<XNSFE_Control> Controls = new List<XNSFE_Control>();\r\n",
    "foreach(int h in hRes){\r\n",
    "    foreach(int p in pDeg){\r\n",
    "        foreach(double q in Q){\r\n",
    "            foreach(double dR in dRho_B){\r\n",
    "\r\n",
    "                var ctrl = new XNSFE_Control();\r\n",
    "                ctrl.Paramstudy_CaseIdentification.Add(new Tuple<string, object>(\"HeatFlux\", q));\r\n",
    "\r\n",
    "                ctrl.DbPath      = null;\r\n",
    "                ctrl.SessionName = $\"HeatedWall_VariableDensity_res:{h}_p:{p}_dR:{dR}\";\r\n",
    "                ctrl.ProjectName = $\"HeatedWall_VariableDensity\";\r\n",
    "                ctrl.SetDatabase(myDb);\r\n",
    "                ctrl.savetodb = true;        \r\n",
    "\r\n",
    "                ctrl.FieldOptions.Add(\"VelocityX\", new FieldOpts() {\r\n",
    "                    Degree = p,\r\n",
    "                    SaveToDB = FieldOpts.SaveToDBOpt.TRUE\r\n",
    "                });\r\n",
    "                ctrl.FieldOptions.Add(\"VelocityY\", new FieldOpts() {\r\n",
    "                    Degree = p,\r\n",
    "                    SaveToDB = FieldOpts.SaveToDBOpt.TRUE\r\n",
    "                });\r\n",
    "                ctrl.FieldOptions.Add(\"GravityX#A\", new FieldOpts() {\r\n",
    "                    SaveToDB = FieldOpts.SaveToDBOpt.TRUE\r\n",
    "                });\r\n",
    "                ctrl.FieldOptions.Add(\"GravityY#A\", new FieldOpts() {\r\n",
    "                    SaveToDB = FieldOpts.SaveToDBOpt.TRUE\r\n",
    "                });\r\n",
    "                ctrl.FieldOptions.Add(\"GravityX#B\", new FieldOpts() {\r\n",
    "                    SaveToDB = FieldOpts.SaveToDBOpt.TRUE\r\n",
    "                });\r\n",
    "                ctrl.FieldOptions.Add(\"GravityY#B\", new FieldOpts() {\r\n",
    "                    SaveToDB = FieldOpts.SaveToDBOpt.TRUE\r\n",
    "                });\r\n",
    "                ctrl.FieldOptions.Add(\"Pressure\", new FieldOpts() {\r\n",
    "                    Degree = p - 1,\r\n",
    "                    SaveToDB = FieldOpts.SaveToDBOpt.TRUE\r\n",
    "                });\r\n",
    "                ctrl.FieldOptions.Add(\"PhiDG\", new FieldOpts() {\r\n",
    "                    SaveToDB = FieldOpts.SaveToDBOpt.TRUE\r\n",
    "                });\r\n",
    "                ctrl.FieldOptions.Add(\"Phi\", new FieldOpts() {\r\n",
    "                    Degree = Math.Max(p, 2),\r\n",
    "                    SaveToDB = FieldOpts.SaveToDBOpt.TRUE\r\n",
    "                });\r\n",
    "                ctrl.FieldOptions.Add(\"Temperature\", new FieldOpts() {\r\n",
    "                    Degree = p,\r\n",
    "                    SaveToDB = FieldOpts.SaveToDBOpt.TRUE\r\n",
    "                });\r\n",
    "\r\n",
    "                #region grid\r\n",
    "                double L = 5.0;\r\n",
    "                int kelemR = h;\r\n",
    "                string[] Bndy = new string[] {  \"Inner\",\r\n",
    "                                                \"NavierSlip_linear_ConstantHeatFlux_right\",\r\n",
    "                                                \"pressure_outlet_ZeroGradient_top\",\r\n",
    "                                                \"freeslip_ZeroGradient_left\",\r\n",
    "                                                \"pressure_outlet_ZeroGradient_bottom\"};\r\n",
    "\r\n",
    "                ctrl.GridFunc = delegate () {\r\n",
    "                    double[] Xnodes = GenericBlas.Linspace(-L, 0, kelemR + 1);\r\n",
    "                    double[] Ynodes = GenericBlas.Linspace(0, L, kelemR + 1);\r\n",
    "                    var grd = Grid2D.Cartesian2DGrid(Xnodes, Ynodes);\r\n",
    "\r\n",
    "                    for(byte i= 1; i < Bndy.Count(); i++) {\r\n",
    "                        grd.EdgeTagNames.Add(i, Bndy[i]);\r\n",
    "                    }\r\n",
    "\r\n",
    "                    grd.DefineEdgeTags(delegate (double[] X) {\r\n",
    "                        byte et = 0;\r\n",
    "                        if(Math.Abs(X[0] - Xnodes.Last()) < 1e-8)\r\n",
    "                            return 1;\r\n",
    "                        if(Math.Abs(X[0] - Xnodes.First()) < 1e-8)\r\n",
    "                            return 3;\r\n",
    "                        if(Math.Abs(X[1] - Ynodes.Last()) < 1e-8)\r\n",
    "                            return 2;\r\n",
    "                        if(Math.Abs(X[1] - Ynodes.First()) < 1e-8)\r\n",
    "                            return 4;\r\n",
    "                        return et;\r\n",
    "                    });\r\n",
    "\r\n",
    "                    return grd;\r\n",
    "                };\r\n",
    "                #endregion\r\n",
    "\r\n",
    "                #region material\r\n",
    "                ctrl.PhysicalParameters = new BoSSS.Solution.XNSECommon.PhysicalParameters() {\r\n",
    "                    rho_A = 1.0, // 958.0\r\n",
    "                    rho_B = 1.0 + dR, // 0.59,\r\n",
    "\r\n",
    "                    mu_A = 1, //2.82 * 1e-4,\r\n",
    "                    mu_B = 0.001, //1.23 * 1e-6,\r\n",
    "\r\n",
    "                    Sigma = 1.0,\r\n",
    "                    betaS_A = 1000, // sliplength is mu/beta\r\n",
    "                    betaS_B = 1000,\r\n",
    "                };\r\n",
    "\r\n",
    "                ctrl.ThermalParameters = new BoSSS.Solution.XheatCommon.ThermalParameters() {\r\n",
    "                    rho_A = 1.0, // 958.0\r\n",
    "                    rho_B = 1.0 + dR, //0.59,\r\n",
    "\r\n",
    "                    k_A = 1.0, // 0.6\r\n",
    "                    k_B = 1.0, // 0.026,\r\n",
    "\r\n",
    "                    c_A = 0.0,\r\n",
    "                    c_B = 0.0,\r\n",
    "\r\n",
    "                    hVap = 1,//2.257 * 1e6,\r\n",
    "                    T_sat = 0.0 // 373.0\r\n",
    "                };\r\n",
    "\r\n",
    "                ctrl.PhysicalParameters.IncludeConvection = true;\r\n",
    "                ctrl.ThermalParameters.IncludeConvection = true;\r\n",
    "                ctrl.PhysicalParameters.Material = false;\r\n",
    "                #endregion\r\n",
    "\r\n",
    "                #region Initial Condition - Exact Solution\r\n",
    "\r\n",
    "                // solution for massflux and velocity at level set\r\n",
    "                double y0 = 0.2 * L;\r\n",
    "\r\n",
    "                // inital values\r\n",
    "                double g = 4;\r\n",
    "                ctrl.AddInitialValue(\"Phi\", $\"(X, t) => -{y0} + X[1]\", true);\r\n",
    "                ctrl.AddInitialValue(\"Temperature#A\", $\"(X, t) => {ctrl.ThermalParameters.T_sat}\", true);\r\n",
    "                ctrl.AddInitialValue(\"Temperature#B\", $\"(X, t) => {ctrl.ThermalParameters.T_sat}\", true);\r\n",
    "                ctrl.AddInitialValue(\"GravityY#A\", $\"(X, t) => -{g}\", true);\r\n",
    "\r\n",
    "                #endregion\r\n",
    "\r\n",
    "                #region Boundary Conditions\r\n",
    "\r\n",
    "                double v = 1.0;\r\n",
    "                ctrl.AddBoundaryValue(Bndy[1], \"HeatFluxX#A\", $\"(X, t) => {q}\", true);\r\n",
    "                ctrl.AddBoundaryValue(Bndy[1], \"VelocityY#A\", $\"(X, t) => {v}\", true);\r\n",
    "                ctrl.AddBoundaryValue(Bndy[1], \"VelocityY#B\", $\"(X, t) => {v}\", true);\r\n",
    "\r\n",
    "\r\n",
    "                ctrl.AddBoundaryValue(Bndy[3]);\r\n",
    "                ctrl.AddBoundaryValue(Bndy[2]);\r\n",
    "                ctrl.AddBoundaryValue(Bndy[4], \"Pressure#A\", $\"(X, t) => {y0} * {ctrl.PhysicalParameters.rho_A} * {g}\", true);\r\n",
    "\r\n",
    "                #endregion\r\n",
    "\r\n",
    "                #region AMR\r\n",
    "\r\n",
    "                // No AMR\r\n",
    "                int level = 0;\r\n",
    "                ctrl.AdaptiveMeshRefinement = level > 0;\r\n",
    "                ctrl.activeAMRlevelIndicators.Add(new BoSSS.Solution.LevelSetTools.SolverWithLevelSetUpdater.AMRonNarrowband() { maxRefinementLevel = level });\r\n",
    "                ctrl.AMR_startUpSweeps = level;\r\n",
    "\r\n",
    "                #endregion\r\n",
    "\r\n",
    "                #region Timestepping\r\n",
    "\r\n",
    "                ctrl.AdvancedDiscretizationOptions.SST_isotropicMode = BoSSS.Solution.XNSECommon.SurfaceStressTensor_IsotropicMode.LaplaceBeltrami_ContactLine;\r\n",
    "                ctrl.Option_LevelSetEvolution = BoSSS.Solution.LevelSetTools.LevelSetEvolution.FastMarching;\r\n",
    "                ctrl.Timestepper_LevelSetHandling =  BoSSS.Solution.XdgTimestepping.LevelSetHandling.LieSplitting;\r\n",
    "\r\n",
    "                ctrl.NonLinearSolver.SolverCode = NonLinearSolverCode.Newton;\r\n",
    "                ctrl.NonLinearSolver.Globalization = BoSSS.Solution.AdvancedSolvers.Newton.GlobalizationOption.Dogleg;\r\n",
    "                ctrl.NonLinearSolver.ConvergenceCriterion = 1e-8;\r\n",
    "                ctrl.NonLinearSolver.MaxSolverIterations = 10;\r\n",
    "\r\n",
    "                ctrl.SkipSolveAndEvaluateResidual = false;\r\n",
    "\r\n",
    "                ctrl.TimeSteppingScheme = BoSSS.Solution.XdgTimestepping.TimeSteppingScheme.RK_ImplicitEuler;\r\n",
    "                ctrl.TimesteppingMode = BoSSS.Solution.Control.AppControl._TimesteppingMode.Transient;\r\n",
    "                ctrl.dtFixed = 0.01;\r\n",
    "                ctrl.Endtime = 1.0;\r\n",
    "                ctrl.NoOfTimesteps = int.MaxValue; // timesteps can be adapted, simulate until endtime is reached\r\n",
    "\r\n",
    "                #endregion\r\n",
    "                ctrl.PostprocessingModules.Add(new BoSSS.Application.XNSFE_Solver.PhysicalBasedTestcases.MassfluxLogging() { LogPeriod = 1 });\r\n",
    "                ctrl.PostprocessingModules.Add(new BoSSS.Application.XNSFE_Solver.PhysicalBasedTestcases.MovingContactLineLogging() { LogPeriod = 1 });\r\n",
    "\r\n",
    "                Controls.Add(ctrl);\r\n",
    "            }\r\n",
    "        }\r\n",
    "    }\r\n",
    "}"
   ],
   "outputs": [],
   "metadata": {
    "dotnet_interactive": {
     "language": "csharp"
    }
   }
  },
  {
   "cell_type": "code",
   "execution_count": null,
   "source": [
    "Controls.Count"
   ],
   "outputs": [
    {
     "data": {
      "text/html": [
       "<div class=\"dni-plaintext\">24</div>"
      ]
     },
     "metadata": {},
     "output_type": "display_data"
    }
   ],
   "metadata": {
    "dotnet_interactive": {
     "language": "csharp"
    }
   }
  },
  {
   "cell_type": "markdown",
   "source": [
    "## Start simulations on Batch processor"
   ],
   "metadata": {
    "dotnet_interactive": {
     "language": "csharp"
    }
   }
  },
  {
   "cell_type": "code",
   "execution_count": null,
   "source": [
    "foreach(var C in Controls) {\r\n",
    "    Type solver = typeof(BoSSS.Application.XNSFE_Solver.XNSFE<XNSFE_Control>);\r\n",
    "\r\n",
    "    string jobName       = C.SessionName;\r\n",
    "    var oneJob           = new Job(jobName, solver);\r\n",
    "    oneJob.NumberOfMPIProcs = 1;    \r\n",
    "    oneJob.SetControlObject(C);\r\n",
    "    oneJob.Activate(myBatch, true);\r\n",
    "}"
   ],
   "outputs": [],
   "metadata": {
    "dotnet_interactive": {
     "language": "csharp"
    }
   }
  }
 ],
 "metadata": {
  "orig_nbformat": 4,
  "language_info": {
   "file_extension": ".cs",
   "mimetype": "text/x-csharp",
   "name": "C#",
   "pygments_lexer": "csharp",
   "version": "9.0"
  },
  "kernelspec": {
   "display_name": ".NET (C#)",
   "language": "C#",
   "name": ".net-csharp"
  }
 },
 "nbformat": 4,
 "nbformat_minor": 2
}