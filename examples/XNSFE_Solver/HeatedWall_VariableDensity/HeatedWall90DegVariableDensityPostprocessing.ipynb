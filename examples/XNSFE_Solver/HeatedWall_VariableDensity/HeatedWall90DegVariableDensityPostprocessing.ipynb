{
 "cells": [
  {
   "cell_type": "markdown",
   "source": [
    "# K26 - Heated Wall\r\n",
    "\r\n",
    "Interface at 90°.  \r\n",
    "Equal fluid densities => simplified setting  \r\n",
    "Also no Heat capacity => infinitely fast heat conduction  "
   ],
   "metadata": {
    "dotnet_interactive": {
     "language": "csharp"
    }
   }
  },
  {
   "cell_type": "code",
   "execution_count": null,
   "source": [
    "#r \"..\\..\\..\\src\\L4-application\\BoSSSpad\\bin\\Release\\net5.0\\BoSSSpad.dll\"\r\n",
    "using System;\r\n",
    "using System.Collections.Generic;\r\n",
    "using System.Linq;\r\n",
    "using ilPSP;\r\n",
    "using ilPSP.Utils;\r\n",
    "using BoSSS.Platform;\r\n",
    "using BoSSS.Foundation;\r\n",
    "using BoSSS.Foundation.XDG;\r\n",
    "using BoSSS.Foundation.Grid;\r\n",
    "using BoSSS.Foundation.Grid.Classic;\r\n",
    "using BoSSS.Foundation.IO;\r\n",
    "using BoSSS.Solution;\r\n",
    "using BoSSS.Solution.Control;\r\n",
    "using BoSSS.Solution.GridImport;\r\n",
    "using BoSSS.Solution.Statistic;\r\n",
    "using BoSSS.Solution.Utils;\r\n",
    "using BoSSS.Solution.AdvancedSolvers;\r\n",
    "using BoSSS.Solution.Gnuplot;\r\n",
    "using BoSSS.Application.BoSSSpad;\r\n",
    "using BoSSS.Application.XNSE_Solver;\r\n",
    "using static BoSSS.Application.BoSSSpad.BoSSSshell;\r\n",
    "Init();"
   ],
   "outputs": [],
   "metadata": {
    "dotnet_interactive": {
     "language": "csharp"
    }
   }
  },
  {
   "cell_type": "markdown",
   "source": [
    "## Setup Workflowmanagement, Batchprocessor and Database"
   ],
   "metadata": {}
  },
  {
   "cell_type": "code",
   "execution_count": null,
   "source": [
    "ExecutionQueues"
   ],
   "outputs": [
    {
     "output_type": "display_data",
     "data": {
      "text/html": ""
     },
     "metadata": {}
    }
   ],
   "metadata": {
    "dotnet_interactive": {
     "language": "csharp"
    }
   }
  },
  {
   "cell_type": "code",
   "execution_count": null,
   "source": [
    "static var myBatch = BoSSSshell.GetDefaultQueue();"
   ],
   "outputs": [],
   "metadata": {
    "dotnet_interactive": {
     "language": "csharp"
    }
   }
  },
  {
   "cell_type": "code",
   "execution_count": null,
   "source": [
    "static var myDb = myBatch.CreateOrOpenCompatibleDatabase(\"XNSFE_HeatedWall\");"
   ],
   "outputs": [],
   "metadata": {
    "dotnet_interactive": {
     "language": "csharp"
    }
   }
  },
  {
   "cell_type": "code",
   "execution_count": null,
   "source": [
    "BoSSSshell.WorkflowMgm.Init($\"HeatedWall_Simple\");"
   ],
   "outputs": [],
   "metadata": {
    "dotnet_interactive": {
     "language": "csharp"
    }
   }
  },
  {
   "cell_type": "markdown",
   "source": [
    "## Postprocessing"
   ],
   "metadata": {
    "dotnet_interactive": {
     "language": "csharp"
    }
   }
  },
  {
   "cell_type": "code",
   "execution_count": null,
   "source": [
    "var sessions = BoSSSshell.WorkflowMgm.Sessions;"
   ],
   "outputs": [],
   "metadata": {
    "dotnet_interactive": {
     "language": "csharp"
    }
   }
  },
  {
   "cell_type": "code",
   "execution_count": null,
   "source": [
    "var dataCL = sessions.ReadLogDataForMovingContactLine()[1];\r\n",
    "var dataEvap = sessions.ReadLogDataForXNSE(\"Massflux\");\r\n",
    "dataCL.Pick(4).dataGroups.ForEach(s => s.Values = s.Values.Select(v => 180 - v ).ToArray());\r\n",
    "\r\n",
    "Plot2Ddata evapFluxes = new Plot2Ddata();\r\n",
    "evapFluxes.dataGroups = new Plot2Ddata.XYvalues[dataEvap.Pick(3).dataGroups.Length]; // same as total evaporative heatflux * dt, as rho = hvap = 1\r\n",
    "Plot2Ddata bndFluxes = new Plot2Ddata();\r\n",
    "bndFluxes.dataGroups = new Plot2Ddata.XYvalues[dataCL.Pick(1).dataGroups.Length]; \r\n",
    "Plot2Ddata.XYvalues[] Vals = new Plot2Ddata.XYvalues[dataCL.Pick(4).dataGroups.Length];\r\n",
    "Plot2Ddata clVeloY = new Plot2Ddata();\r\n",
    "clVeloY.dataGroups = new Plot2Ddata.XYvalues[dataCL.Pick(3).dataGroups.Length]; \r\n",
    "int dashType = 0;\r\n",
    "for(int i = 0; i<sessions.Count;i++){\r\n",
    "    sessions[i].KeysAndQueries.TryGetValue(\"id:PressureRatio\", out object color);\r\n",
    "    color = color == null ? 7 : Convert.ToInt32(color);\r\n",
    "    dataCL.ForEach(p => p.dataGroups[i].Name = \"q:\" + Convert.ToString(sessions[i].KeysAndQueries[\"id:HeatFlux\"]));\r\n",
    "    dataEvap.ForEach(p => p.dataGroups[i].Name = \"q:\" + Convert.ToString(sessions[i].KeysAndQueries[\"id:HeatFlux\"]));\r\n",
    "    PlotFormat PF = new PlotFormat(lineColor: (LineColors)color, dashType: ((DashTypes)(++dashType)));\r\n",
    "    dataCL.ForEach(p => p.dataGroups[i].Format = PF.CloneAs());\r\n",
    "    dataEvap.ForEach(p => p.dataGroups[i].Format = PF.CloneAs());\r\n",
    "    \r\n",
    "    double alpha = 180/Math.PI * 0.5*Math.Asin(2*Convert.ToDouble(sessions[i].KeysAndQueries[\"id:HeatFlux\"]));\r\n",
    "    Vals[i] = new Plot2Ddata.XYvalues(\"q:\" + Convert.ToString(sessions[i].KeysAndQueries[\"id:HeatFlux\"]), new double[] {0.0, 15}, new double[] {alpha, alpha});\r\n",
    "    Vals[i].Format = new PlotFormat(\"b-\");\r\n",
    "\r\n",
    "    double dt = Convert.ToDouble(sessions[i].KeysAndQueries[\"dtFixed\"]);\r\n",
    "    PF.LineWidth = 2.0;\r\n",
    "    PF.LineColor = (LineColors)1;\r\n",
    "    PF.DashType = (DashTypes)1;\r\n",
    "    evapFluxes.dataGroups[i] = new Plot2Ddata.XYvalues(\"\");\r\n",
    "    evapFluxes.dataGroups[i].Values = dataEvap.Pick(3).dataGroups[i].Values.Select(x => x).ToArray();\r\n",
    "    evapFluxes.dataGroups[i].Abscissas = dataEvap.Pick(3).dataGroups[i].Abscissas.Select(x => x).ToArray();\r\n",
    "    evapFluxes.dataGroups[i].Name = \"Q-Evap:\" + Convert.ToString(sessions[i].KeysAndQueries[\"id:HeatFlux\"]);\r\n",
    "    evapFluxes.dataGroups[i].Format = PF.CloneAs();\r\n",
    "    evapFluxes.dataGroups[i].Values = evapFluxes.dataGroups[i].Values.Select(v => v / dt).ToArray();\r\n",
    "\r\n",
    "    PF.LineColor = (LineColors)3;\r\n",
    "    PF.DashType = (DashTypes)3;\r\n",
    "    bndFluxes.dataGroups[i] = new Plot2Ddata.XYvalues(\"\");\r\n",
    "    bndFluxes.dataGroups[i].Values = dataCL.Pick(1).dataGroups[i].Values.Select(x => x).ToArray();\r\n",
    "    bndFluxes.dataGroups[i].Abscissas = dataCL.Pick(1).dataGroups[i].Abscissas.Select(x => x).ToArray();\r\n",
    "    bndFluxes.dataGroups[i].Name = \"Q-Bnd:\" + Convert.ToString(sessions[i].KeysAndQueries[\"id:HeatFlux\"]);\r\n",
    "    bndFluxes.dataGroups[i].Format = PF.CloneAs();\r\n",
    "    bndFluxes.dataGroups[i].Values = bndFluxes.dataGroups[i].Values.Select(v => v * Convert.ToDouble(sessions[i].KeysAndQueries[\"id:HeatFlux\"])).ToArray();\r\n",
    "\r\n",
    "    PF.LineColor = (LineColors)color;\r\n",
    "    PF.DashType = (DashTypes)dashType;\r\n",
    "    clVeloY.dataGroups[i] = new Plot2Ddata.XYvalues(\"\");\r\n",
    "    clVeloY.dataGroups[i].Values = new double[dataCL.Pick(3).dataGroups[i].Values.Length];\r\n",
    "    for(int j = 0; j<dataCL.Pick(3).dataGroups[i].Values.Length; j++){\r\n",
    "        clVeloY.dataGroups[i].Values[j] = dataCL.Pick(3).dataGroups[i].Values[j] - dataCL.Pick(2).dataGroups[i].Values[j] / Math.Tan(Math.PI / 180.0 * dataCL.Pick(4).dataGroups[i].Values[j]);\r\n",
    "    } \r\n",
    "    clVeloY.dataGroups[i].Abscissas = dataCL.Pick(1).dataGroups[i].Abscissas.Select(x => x).ToArray();\r\n",
    "    clVeloY.dataGroups[i].Name = \"Q:\" + Convert.ToString(sessions[i].KeysAndQueries[\"id:HeatFlux\"]);\r\n",
    "    clVeloY.dataGroups[i].Format = PF.CloneAs();\r\n",
    "}\r\n",
    "dataCL.Pick(4).dataGroups = dataCL.Pick(4).dataGroups.ToList().Cat(Vals).ToArray();    \r\n",
    "evapFluxes = evapFluxes.Merge(bndFluxes);"
   ],
   "outputs": [],
   "metadata": {
    "dotnet_interactive": {
     "language": "csharp"
    }
   }
  },
  {
   "cell_type": "code",
   "execution_count": null,
   "source": [
    "var gp = new Gnuplot();\r\n",
    "var data = dataCL.Pick(4);\r\n",
    "data.Xlabel = \"time [s]\";\r\n",
    "data.Ylabel = \"angle [°]\";\r\n",
    "data.ToGnuplot(gp);\r\n",
    "gp.PlotNow()"
   ],
   "outputs": [],
   "metadata": {
    "dotnet_interactive": {
     "language": "csharp"
    }
   }
  },
  {
   "cell_type": "code",
   "execution_count": null,
   "source": [
    "var gp = new Gnuplot();\r\n",
    "var data = evapFluxes;\r\n",
    "data.Xlabel = \"time [s]\";\r\n",
    "data.Ylabel = \"Total Heat Flux [W]\";\r\n",
    "data.ToGnuplot(gp);\r\n",
    "gp.PlotNow()"
   ],
   "outputs": [],
   "metadata": {
    "dotnet_interactive": {
     "language": "csharp"
    }
   }
  },
  {
   "cell_type": "code",
   "execution_count": null,
   "source": [
    "var gp = new Gnuplot();\r\n",
    "var data = dataCL.Pick(1);\r\n",
    "data.Xlabel = \"time [s]\";\r\n",
    "data.Ylabel = \"Pos Y [m]\";\r\n",
    "data.ToGnuplot(gp);\r\n",
    "gp.PlotNow()"
   ],
   "outputs": [],
   "metadata": {
    "dotnet_interactive": {
     "language": "csharp"
    }
   }
  },
  {
   "cell_type": "code",
   "execution_count": null,
   "source": [
    "var gp = new Gnuplot();\r\n",
    "var data = clVeloY;\r\n",
    "data.Xlabel = \"time [s]\";\r\n",
    "data.Ylabel = \"V_y [m/s]\";\r\n",
    "data.ToGnuplot(gp);\r\n",
    "gp.PlotNow()"
   ],
   "outputs": [],
   "metadata": {
    "dotnet_interactive": {
     "language": "csharp"
    }
   }
  }
 ],
 "metadata": {
  "orig_nbformat": 4,
  "language_info": {
   "file_extension": ".cs",
   "mimetype": "text/x-csharp",
   "name": "C#",
   "pygments_lexer": "csharp",
   "version": "9.0"
  },
  "kernelspec": {
   "display_name": ".NET (C#)",
   "language": "C#",
   "name": ".net-csharp"
  }
 },
 "nbformat": 4,
 "nbformat_minor": 2
}