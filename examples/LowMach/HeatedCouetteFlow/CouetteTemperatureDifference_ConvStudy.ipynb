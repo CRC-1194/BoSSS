{
 "cells": [
  {
   "cell_type": "code",
   "execution_count": 1,
   "metadata": {
    "dotnet_interactive": {
     "language": "csharp"
    },
    "vscode": {
     "languageId": "dotnet-interactive.csharp"
    }
   },
   "outputs": [
    {
     "data": {
      "text/html": [
       "\r\n",
       "<div>\r\n",
       "    <div id='dotnet-interactive-this-cell-33300.Microsoft.DotNet.Interactive.Http.HttpPort' style='display: none'>\r\n",
       "        The below script needs to be able to find the current output cell; this is an easy method to get it.\r\n",
       "    </div>\r\n",
       "    <script type='text/javascript'>\r\n",
       "async function probeAddresses(probingAddresses) {\r\n",
       "    function timeout(ms, promise) {\r\n",
       "        return new Promise(function (resolve, reject) {\r\n",
       "            setTimeout(function () {\r\n",
       "                reject(new Error('timeout'))\r\n",
       "            }, ms)\r\n",
       "            promise.then(resolve, reject)\r\n",
       "        })\r\n",
       "    }\r\n",
       "\r\n",
       "    if (Array.isArray(probingAddresses)) {\r\n",
       "        for (let i = 0; i < probingAddresses.length; i++) {\r\n",
       "\r\n",
       "            let rootUrl = probingAddresses[i];\r\n",
       "\r\n",
       "            if (!rootUrl.endsWith('/')) {\r\n",
       "                rootUrl = `${rootUrl}/`;\r\n",
       "            }\r\n",
       "\r\n",
       "            try {\r\n",
       "                let response = await timeout(1000, fetch(`${rootUrl}discovery`, {\r\n",
       "                    method: 'POST',\r\n",
       "                    cache: 'no-cache',\r\n",
       "                    mode: 'cors',\r\n",
       "                    timeout: 1000,\r\n",
       "                    headers: {\r\n",
       "                        'Content-Type': 'text/plain'\r\n",
       "                    },\r\n",
       "                    body: probingAddresses[i]\r\n",
       "                }));\r\n",
       "\r\n",
       "                if (response.status == 200) {\r\n",
       "                    return rootUrl;\r\n",
       "                }\r\n",
       "            }\r\n",
       "            catch (e) { }\r\n",
       "        }\r\n",
       "    }\r\n",
       "}\r\n",
       "\r\n",
       "function loadDotnetInteractiveApi() {\r\n",
       "    probeAddresses([\"http://130.83.248.207:1002/\", \"http://127.0.0.1:1002/\"])\r\n",
       "        .then((root) => {\r\n",
       "        // use probing to find host url and api resources\r\n",
       "        // load interactive helpers and language services\r\n",
       "        let dotnetInteractiveRequire = require.config({\r\n",
       "        context: '33300.Microsoft.DotNet.Interactive.Http.HttpPort',\r\n",
       "                paths:\r\n",
       "            {\r\n",
       "                'dotnet-interactive': `${root}resources`\r\n",
       "                }\r\n",
       "        }) || require;\r\n",
       "\r\n",
       "            window.dotnetInteractiveRequire = dotnetInteractiveRequire;\r\n",
       "\r\n",
       "            window.configureRequireFromExtension = function(extensionName, extensionCacheBuster) {\r\n",
       "                let paths = {};\r\n",
       "                paths[extensionName] = `${root}extensions/${extensionName}/resources/`;\r\n",
       "                \r\n",
       "                let internalRequire = require.config({\r\n",
       "                    context: extensionCacheBuster,\r\n",
       "                    paths: paths,\r\n",
       "                    urlArgs: `cacheBuster=${extensionCacheBuster}`\r\n",
       "                    }) || require;\r\n",
       "\r\n",
       "                return internalRequire\r\n",
       "            };\r\n",
       "        \r\n",
       "            dotnetInteractiveRequire([\r\n",
       "                    'dotnet-interactive/dotnet-interactive'\r\n",
       "                ],\r\n",
       "                function (dotnet) {\r\n",
       "                    dotnet.init(window);\r\n",
       "                },\r\n",
       "                function (error) {\r\n",
       "                    console.log(error);\r\n",
       "                }\r\n",
       "            );\r\n",
       "        })\r\n",
       "        .catch(error => {console.log(error);});\r\n",
       "    }\r\n",
       "\r\n",
       "// ensure `require` is available globally\r\n",
       "if ((typeof(require) !==  typeof(Function)) || (typeof(require.config) !== typeof(Function))) {\r\n",
       "    let require_script = document.createElement('script');\r\n",
       "    require_script.setAttribute('src', 'https://cdnjs.cloudflare.com/ajax/libs/require.js/2.3.6/require.min.js');\r\n",
       "    require_script.setAttribute('type', 'text/javascript');\r\n",
       "    \r\n",
       "    \r\n",
       "    require_script.onload = function() {\r\n",
       "        loadDotnetInteractiveApi();\r\n",
       "    };\r\n",
       "\r\n",
       "    document.getElementsByTagName('head')[0].appendChild(require_script);\r\n",
       "}\r\n",
       "else {\r\n",
       "    loadDotnetInteractiveApi();\r\n",
       "}\r\n",
       "\r\n",
       "    </script>\r\n",
       "</div>"
      ]
     },
     "metadata": {},
     "output_type": "display_data"
    },
    {
     "name": "stderr",
     "output_type": "stream",
     "text": [
      "\r\n",
      "(2,1): error CS0006: Metadata file 'BoSSSpad.dll' could not be found\r\n",
      "\r\n",
      "(10,7): error CS0246: The type or namespace name 'ilPSP' could not be found (are you missing a using directive or an assembly reference?)\r\n",
      "\r\n",
      "(11,7): error CS0246: The type or namespace name 'ilPSP' could not be found (are you missing a using directive or an assembly reference?)\r\n",
      "\r\n",
      "(12,7): error CS0246: The type or namespace name 'BoSSS' could not be found (are you missing a using directive or an assembly reference?)\r\n",
      "\r\n",
      "(13,7): error CS0246: The type or namespace name 'BoSSS' could not be found (are you missing a using directive or an assembly reference?)\r\n",
      "\r\n",
      "(14,7): error CS0246: The type or namespace name 'BoSSS' could not be found (are you missing a using directive or an assembly reference?)\r\n",
      "\r\n",
      "(15,7): error CS0246: The type or namespace name 'BoSSS' could not be found (are you missing a using directive or an assembly reference?)\r\n",
      "\r\n",
      "(16,7): error CS0246: The type or namespace name 'BoSSS' could not be found (are you missing a using directive or an assembly reference?)\r\n",
      "\r\n",
      "(17,7): error CS0246: The type or namespace name 'BoSSS' could not be found (are you missing a using directive or an assembly reference?)\r\n",
      "\r\n",
      "(18,7): error CS0246: The type or namespace name 'BoSSS' could not be found (are you missing a using directive or an assembly reference?)\r\n",
      "\r\n",
      "(19,7): error CS0246: The type or namespace name 'BoSSS' could not be found (are you missing a using directive or an assembly reference?)\r\n",
      "\r\n",
      "(20,7): error CS0246: The type or namespace name 'BoSSS' could not be found (are you missing a using directive or an assembly reference?)\r\n",
      "\r\n",
      "(21,7): error CS0246: The type or namespace name 'BoSSS' could not be found (are you missing a using directive or an assembly reference?)\r\n",
      "\r\n",
      "(22,7): error CS0246: The type or namespace name 'BoSSS' could not be found (are you missing a using directive or an assembly reference?)\r\n",
      "\r\n",
      "(23,7): error CS0246: The type or namespace name 'BoSSS' could not be found (are you missing a using directive or an assembly reference?)\r\n",
      "\r\n",
      "(24,7): error CS0246: The type or namespace name 'BoSSS' could not be found (are you missing a using directive or an assembly reference?)\r\n",
      "\r\n",
      "(25,14): error CS0246: The type or namespace name 'BoSSS' could not be found (are you missing a using directive or an assembly reference?)\r\n",
      "\r\n",
      "(26,7): error CS0246: The type or namespace name 'BoSSS' could not be found (are you missing a using directive or an assembly reference?)\r\n",
      "\r\n",
      "(27,7): error CS0246: The type or namespace name 'BoSSS' could not be found (are you missing a using directive or an assembly reference?)\r\n",
      "\r\n",
      "(28,7): error CS0246: The type or namespace name 'BoSSS' could not be found (are you missing a using directive or an assembly reference?)\r\n",
      "\r\n",
      "(29,7): error CS0246: The type or namespace name 'BoSSS' could not be found (are you missing a using directive or an assembly reference?)\r\n",
      "\r\n",
      "(30,7): error CS0246: The type or namespace name 'NSE_SIMPLE' could not be found (are you missing a using directive or an assembly reference?)\r\n",
      "\r\n",
      "(31,7): error CS0246: The type or namespace name 'NSE_SIMPLE' could not be found (are you missing a using directive or an assembly reference?)\r\n",
      "\r\n",
      "(32,7): error CS0246: The type or namespace name 'ilPSP' could not be found (are you missing a using directive or an assembly reference?)\r\n",
      "\r\n",
      "(33,7): error CS0246: The type or namespace name 'BoSSS' could not be found (are you missing a using directive or an assembly reference?)\r\n",
      "\r\n",
      "(34,1): error CS0103: The name 'Init' does not exist in the current context\r\n",
      "\r\n"
     ]
    },
    {
     "ename": "Cell not executed",
     "evalue": "compilation error",
     "output_type": "error",
     "traceback": []
    }
   ],
   "source": [
    "// #r \"D:\\BoSSS2\\experimental\\public\\src\\L4-application\\BoSSSpad\\bin\\Release\\net5.0\\bossspad.dll\"\n",
    "#r \"BoSSSpad.dll\"\n",
    "using System;\n",
    "using System.Collections.Generic;\n",
    "using System.Linq;\n",
    "using System.IO;\n",
    "using System.Data;\n",
    "using System.Globalization;\n",
    "using System.Threading;\n",
    "using ilPSP;\n",
    "using ilPSP.Utils;\n",
    "using BoSSS.Platform;\n",
    "using BoSSS.Foundation;\n",
    "using BoSSS.Foundation.Grid;\n",
    "using BoSSS.Foundation.Grid.Classic;\n",
    "using BoSSS.Foundation.IO;\n",
    "using BoSSS.Solution;\n",
    "using BoSSS.Solution.Control;\n",
    "using BoSSS.Solution.GridImport;\n",
    "using BoSSS.Solution.Statistic;\n",
    "using BoSSS.Solution.Utils;\n",
    "using BoSSS.Solution.Gnuplot;\n",
    "using BoSSS.Application.BoSSSpad;\n",
    "using BoSSS.Application.XNSE_Solver;\n",
    "using static BoSSS.Application.BoSSSpad.BoSSSshell;\n",
    "using BoSSS.Foundation.Grid.RefElements;\n",
    "using BoSSS.Platform.LinAlg;\n",
    "using BoSSS.Solution.NSECommon;\n",
    "using BoSSS.Application.XNSEC;\n",
    "using NSE_SIMPLE;\n",
    "using NSE_SIMPLE.LowMach;\n",
    "using ilPSP.LinSolvers.PARDISO;\n",
    "using BoSSS.Solution.Queries;\n",
    "Init();"
   ]
  },
  {
   "cell_type": "code",
   "execution_count": 2,
   "metadata": {
    "dotnet_interactive": {
     "language": "csharp"
    },
    "vscode": {
     "languageId": "dotnet-interactive.csharp"
    }
   },
   "outputs": [],
   "source": [
    "static string name = \"CTD_CONV_STUDY_PowerLaw\";"
   ]
  },
  {
   "cell_type": "code",
   "execution_count": 3,
   "metadata": {
    "dotnet_interactive": {
     "language": "csharp"
    },
    "vscode": {
     "languageId": "dotnet-interactive.csharp"
    }
   },
   "outputs": [
    {
     "name": "stderr",
     "output_type": "stream",
     "text": [
      "\r\n",
      "(1,1): error CS0103: The name 'BoSSSshell' does not exist in the current context\r\n",
      "\r\n"
     ]
    },
    {
     "ename": "Cell not executed",
     "evalue": "compilation error",
     "output_type": "error",
     "traceback": []
    }
   ],
   "source": [
    "BoSSSshell.WorkflowMgm.Init(name);"
   ]
  },
  {
   "cell_type": "code",
   "execution_count": null,
   "metadata": {
    "dotnet_interactive": {
     "language": "csharp"
    },
    "vscode": {
     "languageId": "dotnet-interactive.csharp"
    }
   },
   "outputs": [],
   "source": [
    "static var myBatch = GetDefaultQueue();\n",
    "static var myDb = myBatch.CreateOrOpenCompatibleDatabase(name);"
   ]
  },
  {
   "cell_type": "code",
   "execution_count": null,
   "metadata": {
    "dotnet_interactive": {
     "language": "csharp"
    },
    "vscode": {
     "languageId": "dotnet-interactive.csharp"
    }
   },
   "outputs": [],
   "source": [
    "// myBatch.AllowedDatabasesPaths.Add(new AllowedDatabasesPair(myDb.Path,\"\"));"
   ]
  },
  {
   "cell_type": "code",
   "execution_count": null,
   "metadata": {
    "dotnet_interactive": {
     "language": "csharp"
    },
    "vscode": {
     "languageId": "dotnet-interactive.csharp"
    }
   },
   "outputs": [],
   "source": [
    "int[] dgDegree = new int[]{1,2,3,4};\n",
    "int[] res = new int[]{4,5,6,7};"
   ]
  },
  {
   "cell_type": "code",
   "execution_count": null,
   "metadata": {
    "dotnet_interactive": {
     "language": "csharp"
    },
    "vscode": {
     "languageId": "dotnet-interactive.csharp"
    }
   },
   "outputs": [],
   "source": [
    "Type solverXNSEC = typeof(BoSSS.Application.XNSEC.XNSEC);\n",
    "\n",
    "for (int dg = 0; dg < dgDegree.Length; dg++) {\n",
    "    for (int r = 0; r < res.Length; r++) {\n",
    "        string ending        = \"P\" + dgDegree[dg] + \"K\" + res[r];\n",
    "        string jobName       = string.Format(\"XNSEC_HEATEDCOUETTE\"+ ending);\n",
    "        string StartupString = string.Format(\"cs:BoSSS.Application.XNSEC.FullNSEControlExamples.SteadyCouetteFlowWithTemperatureGradient({0}, {1},@\\\"{2}\\\")\",  dgDegree[dg] ,  res[r], myDb.Path);\n",
    "        var oneJob           = new Job(jobName, solverXNSEC);\n",
    "        oneJob.SetControlStatement(StartupString);\n",
    "        oneJob.NumberOfMPIProcs =  r > 2? 8:4;\n",
    "        oneJob.Activate(myBatch);\n",
    "    }\n",
    "}"
   ]
  },
  {
   "cell_type": "code",
   "execution_count": null,
   "metadata": {
    "dotnet_interactive": {
     "language": "csharp"
    },
    "vscode": {
     "languageId": "dotnet-interactive.csharp"
    }
   },
   "outputs": [],
   "source": [
    "BoSSSshell.WorkflowMgm.BlockUntilAllJobsTerminate(PollingIntervallSeconds:5);"
   ]
  },
  {
   "cell_type": "code",
   "execution_count": null,
   "metadata": {
    "dotnet_interactive": {
     "language": "csharp"
    },
    "vscode": {
     "languageId": "dotnet-interactive.csharp"
    }
   },
   "outputs": [],
   "source": [
    "var Tab = BoSSSshell.WorkflowMgm.SessionTable;"
   ]
  },
  {
   "cell_type": "code",
   "execution_count": null,
   "metadata": {
    "dotnet_interactive": {
     "language": "csharp"
    },
    "vscode": {
     "languageId": "dotnet-interactive.csharp"
    }
   },
   "outputs": [],
   "source": [
    "Tab = Tab.ExtractColumns(\"DGdegree:Velocity*\",\"DGdegree:Temperature\", \"DGdegree:Pressure\",\"Grid:hMin\",\"SolL2err_u\",\"SolL2err_v\",\"SolL2err_T\",\"SolL2err_p\");\n",
    "var ErrorPlot_u = Tab. ToPlot (\"Grid:hMin\", \"SolL2err_u\",\"DGdegree:Velocity*\"); // column for grou\n",
    "var ErrorPlot_v = Tab. ToPlot (\"Grid:hMin\", \"SolL2err_v\",\"DGdegree:Velocity*\"); // column for grou\n",
    "var ErrorPlot_T = Tab. ToPlot (\"Grid:hMin\", \"SolL2err_T\",\"DGdegree:Temperature\"); // column for grou\n",
    "var ErrorPlot_p = Tab. ToPlot (\"Grid:hMin\", \"SolL2err_p\",\"DGdegree:Pressure\"); // column for grou\n",
    "ErrorPlot_u.LogX = true ;\n",
    "ErrorPlot_u.LogY = true ;\n",
    "ErrorPlot_v.LogX = true ;\n",
    "ErrorPlot_v.LogY = true ;\n",
    "ErrorPlot_T.LogX = true ;\n",
    "ErrorPlot_T.LogY = true ;\n",
    "ErrorPlot_p.LogX = true ;\n",
    "ErrorPlot_p.LogY = true ;\n",
    "\n",
    "ConvergencePlots[0,0] = ErrorPlot_u;\n",
    "ConvergencePlots[0,1] = ErrorPlot_v;\n",
    "ConvergencePlots[1,0] = ErrorPlot_T;\n",
    "ConvergencePlots[1,1] = ErrorPlot_p; //   pDegPlot.SaveTextFileToPublish(folderpath+\"\\\\\"+  varname + \"DG\" + pDeg, false);\n",
    "\n",
    "var gp = ConvergencePlots.ToGnuplot();\n",
    "gp.PlotSVG(xRes:1000,yRes:800)\n",
    "\n"
   ]
  },
  {
   "cell_type": "code",
   "execution_count": null,
   "metadata": {
    "dotnet_interactive": {
     "language": "csharp"
    },
    "vscode": {
     "languageId": "dotnet-interactive.csharp"
    }
   },
   "outputs": [],
   "source": [
    "bool savetoTxtFile = false;"
   ]
  },
  {
   "cell_type": "code",
   "execution_count": null,
   "metadata": {
    "dotnet_interactive": {
     "language": "csharp"
    },
    "vscode": {
     "languageId": "dotnet-interactive.csharp"
    }
   },
   "outputs": [],
   "source": [
    "// private static void ToTxtFile(string fileName, double[] x, double[] y) {\n",
    "//     if(x.Length != y.Length)\n",
    "//         throw new Exception();\n",
    "//         using (var file = new StreamWriter(fileName)) {\n",
    "//             file.Write(\"x\" + \"\\t\"+ \"y\");\n",
    "//             file.WriteLine();\n",
    "//         for(int i = 0; i< x.Length; i++){\n",
    "//             file.Write(x[i] + \"\\t\" + y[i]);\n",
    "//             file.WriteLine();\n",
    "//         }\n",
    "//     }    \n",
    "// }"
   ]
  },
  {
   "cell_type": "code",
   "execution_count": null,
   "metadata": {
    "dotnet_interactive": {
     "language": "csharp"
    },
    "vscode": {
     "languageId": "dotnet-interactive.csharp"
    }
   },
   "outputs": [],
   "source": []
  },
  {
   "cell_type": "code",
   "execution_count": null,
   "metadata": {
    "dotnet_interactive": {
     "language": "csharp"
    },
    "vscode": {
     "languageId": "dotnet-interactive.csharp"
    }
   },
   "outputs": [],
   "source": [
    "private static void ToTxtFile(string fileName, double[] x, double[] y) {\n",
    "    if(x.Length != y.Length)\n",
    "        throw new Exception();\n",
    "\n",
    "        var dummy = x.ToList();\n",
    "        dummy.Reverse();\n",
    "        var xinv2 = dummy.ToArray();\n",
    "\n",
    "        var dummy2 = y.ToList();\n",
    "        dummy2.Reverse();\n",
    "        var yinv2 = dummy2.ToArray();\n",
    "\n",
    "\n",
    "        using (var file = new StreamWriter(fileName)) {\n",
    "            file.Write(\"x\" + \"\\t\"+ \"y\");\n",
    "            file.WriteLine();\n",
    "        for(int i = 0; i< xinv2.Length; i++){\n",
    "            file.Write(xinv2[i] + \"\\t\" + yinv2[i]);\n",
    "            file.WriteLine();\n",
    "        }\n",
    "    }    \n",
    "}"
   ]
  },
  {
   "cell_type": "code",
   "execution_count": null,
   "metadata": {
    "dotnet_interactive": {
     "language": "csharp"
    },
    "vscode": {
     "languageId": "dotnet-interactive.csharp"
    }
   },
   "outputs": [],
   "source": [
    "Tab = Tab.ExtractColumns(\"DGdegree:Velocity*\",\"DGdegree:Temperature\", \"DGdegree:Pressure\",\"Grid:hMin\",\"SolL2err_u\",\"SolL2err_v\",\"SolL2err_T\",\"SolL2err_p\");\n",
    "string[] varnames = new string[]{\"VelocityX\",\"VelocityY\",\"Temperature\", \"Pressure\" };\n",
    "Plot2Ddata[,] ConvergencePlots = new Plot2Ddata[2, 2];\n",
    "\n",
    "foreach (var varname in varnames) {\n",
    "    string SolL2Err = \"\";\n",
    "    string DgDegreeStr = \"\";\n",
    "    int x = 0;\n",
    "    int y = 0;\n",
    "    switch(varname){\n",
    "        case \"VelocityX\":\n",
    "        SolL2Err = \"SolL2err_u\";\n",
    "        DgDegreeStr = \"DGdegree:Velocity*\";\n",
    "        x = 0; y = 0;\n",
    "        break;\n",
    "        case \"VelocityY\":\n",
    "        SolL2Err = \"SolL2err_v\";\n",
    "        DgDegreeStr = \"DGdegree:Velocity*\";\n",
    "        x = 1; y = 0;\n",
    "        break;\n",
    "        case \"Temperature\":\n",
    "        SolL2Err = \"SolL2err_T\";\n",
    "        DgDegreeStr = \"DGdegree:Temperature\";\n",
    "        x = 0; y = 1;\n",
    "        break;\n",
    "        case \"Pressure\":\n",
    "        SolL2Err = \"SolL2err_p\";\n",
    "        DgDegreeStr = \"DGdegree:Pressure\";\n",
    "        x = 1; y = 1;\n",
    "        break;\n",
    "    }\n",
    "\n",
    "    var ErrorPlot = Tab. ToPlot (\"Grid:hMin\",SolL2Err,DgDegreeStr); \n",
    "    ErrorPlot.LogX = true ;\n",
    "    ErrorPlot.LogY = true ;\n",
    "    ConvergencePlots[x,y] = ErrorPlot;\n",
    "    \n",
    "    // save text file for each polynomial degree.\n",
    "    foreach(var datagroup in ErrorPlot.dataGroups ){ \n",
    "        int dg =  datagroup.Name[datagroup.Name.Length-1] - '0'; \n",
    "            if(varname == \"Pressure\"){\n",
    "            dg =dg+1;\n",
    "        }\n",
    "        string filename = folderpath + @\"\\\" + varname + \"DG\" + dg + \"Data.txt\";\n",
    "        if(savetoTxtFile)\n",
    "            ToTxtFile(filename,datagroup.Abscissas,datagroup.Values);\n",
    "    }\n",
    "    \n",
    "}\n",
    "\n",
    "var gp = ConvergencePlots.ToGnuplot();\n",
    "gp.PlotSVG(xRes:1000,yRes:800)"
   ]
  },
  {
   "cell_type": "code",
   "execution_count": null,
   "metadata": {
    "dotnet_interactive": {
     "language": "csharp"
    },
    "vscode": {
     "languageId": "dotnet-interactive.csharp"
    }
   },
   "outputs": [],
   "source": []
  },
  {
   "cell_type": "code",
   "execution_count": null,
   "metadata": {
    "dotnet_interactive": {
     "language": "csharp"
    },
    "vscode": {
     "languageId": "dotnet-interactive.csharp"
    }
   },
   "outputs": [],
   "source": []
  },
  {
   "cell_type": "code",
   "execution_count": null,
   "metadata": {
    "dotnet_interactive": {
     "language": "csharp"
    },
    "vscode": {
     "languageId": "dotnet-interactive.csharp"
    }
   },
   "outputs": [],
   "source": [
    "var ErrorPlot_T = Tab. ToPlot (\"Grid:hMin\", \"SolL2err_T\",\"DGdegree:Temperature\"); // column for grou\n",
    "ErrorPlot_T.dataGroups[0].Abscissas"
   ]
  },
  {
   "cell_type": "code",
   "execution_count": null,
   "metadata": {
    "dotnet_interactive": {
     "language": "csharp"
    },
    "vscode": {
     "languageId": "dotnet-interactive.csharp"
    }
   },
   "outputs": [],
   "source": [
    "folderpath"
   ]
  },
  {
   "cell_type": "code",
   "execution_count": null,
   "metadata": {
    "dotnet_interactive": {
     "language": "csharp"
    },
    "vscode": {
     "languageId": "dotnet-interactive.csharp"
    }
   },
   "outputs": [],
   "source": []
  },
  {
   "cell_type": "code",
   "execution_count": null,
   "metadata": {
    "dotnet_interactive": {
     "language": "csharp"
    },
    "vscode": {
     "languageId": "dotnet-interactive.csharp"
    }
   },
   "outputs": [],
   "source": [
    "// string dataPathResultsBase = @\"C:\\Users\\Gutierrez\\Documents\\data\\convergenceProblemData\\\" ;\n",
    "string dataPathResultsBase = @\"D:\\ThesisDGCombustion\\dgcombustionthesis\\data\\ConvStudy_Couette_PowerLaw\";\n",
    "string folderpath          = dataPathResultsBase ;// + ending +\"LowTemp\"+ @\"\\\";\n",
    "System.IO.Directory.CreateDirectory(folderpath); // Create folder for storing data"
   ]
  },
  {
   "cell_type": "code",
   "execution_count": null,
   "metadata": {
    "dotnet_interactive": {
     "language": "csharp"
    },
    "vscode": {
     "languageId": "dotnet-interactive.csharp"
    }
   },
   "outputs": [],
   "source": []
  },
  {
   "cell_type": "code",
   "execution_count": null,
   "metadata": {
    "dotnet_interactive": {
     "language": "csharp"
    },
    "vscode": {
     "languageId": "dotnet-interactive.csharp"
    }
   },
   "outputs": [],
   "source": []
  }
 ],
 "metadata": {
  "interpreter": {
   "hash": "57baa5815c940fdaff4d14510622de9616cae602444507ba5d0b6727c008cbd6"
  },
  "kernelspec": {
   "display_name": ".NET (C#)",
   "language": "C#",
   "name": ".net-csharp"
  },
  "language_info": {
   "file_extension": ".cs",
   "mimetype": "text/x-csharp",
   "name": "C#",
   "pygments_lexer": "csharp",
   "version": "9.0"
  }
 },
 "nbformat": 4,
 "nbformat_minor": 4
}
