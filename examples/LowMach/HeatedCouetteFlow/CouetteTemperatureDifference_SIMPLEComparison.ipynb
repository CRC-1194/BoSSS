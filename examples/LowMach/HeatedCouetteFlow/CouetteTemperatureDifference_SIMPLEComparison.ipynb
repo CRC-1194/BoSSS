{
 "cells": [
  {
   "cell_type": "code",
   "execution_count": null,
   "metadata": {
    "dotnet_interactive": {
     "language": "csharp"
    },
    "vscode": {
     "languageId": "dotnet-interactive.csharp"
    }
   },
   "outputs": [],
   "source": [
    "#r \"D:\\BoSSS2\\experimental\\public\\src\\L4-application\\BoSSSpad\\bin\\Release\\net5.0\\bossspad.dll\"\n",
    "using System;\n",
    "using System.Collections.Generic;\n",
    "using System.Linq;\n",
    "using System.IO;\n",
    "using System.Data;\n",
    "using System.Globalization;\n",
    "using System.Threading;\n",
    "using ilPSP;\n",
    "using ilPSP.Utils;\n",
    "using BoSSS.Platform;\n",
    "using BoSSS.Foundation;\n",
    "using BoSSS.Foundation.Grid;\n",
    "using BoSSS.Foundation.Grid.Classic;\n",
    "using BoSSS.Foundation.IO;\n",
    "using BoSSS.Solution;\n",
    "using BoSSS.Solution.Control;\n",
    "using BoSSS.Solution.GridImport;\n",
    "using BoSSS.Solution.Statistic;\n",
    "using BoSSS.Solution.Utils;\n",
    "using BoSSS.Solution.Gnuplot;\n",
    "using BoSSS.Application.BoSSSpad;\n",
    "using BoSSS.Application.XNSE_Solver;\n",
    "using static BoSSS.Application.BoSSSpad.BoSSSshell;\n",
    "using BoSSS.Foundation.Grid.RefElements;\n",
    "using BoSSS.Platform.LinAlg;\n",
    "using BoSSS.Solution.NSECommon;\n",
    "using BoSSS.Application.XNSEC;\n",
    "using NSE_SIMPLE;\n",
    "using NSE_SIMPLE.LowMach;\n",
    "using ilPSP.LinSolvers.PARDISO;\n",
    "using BoSSS.Solution.Queries;\n",
    "\n",
    "Init();"
   ]
  },
  {
   "cell_type": "code",
   "execution_count": null,
   "metadata": {
    "dotnet_interactive": {
     "language": "csharp"
    },
    "vscode": {
     "languageId": "dotnet-interactive.csharp"
    }
   },
   "outputs": [],
   "source": []
  },
  {
   "cell_type": "code",
   "execution_count": null,
   "metadata": {
    "dotnet_interactive": {
     "language": "csharp"
    },
    "vscode": {
     "languageId": "dotnet-interactive.csharp"
    }
   },
   "outputs": [],
   "source": [
    "static string name = \"CTD_SIMPLE_XNSEC_Comparison\";"
   ]
  },
  {
   "cell_type": "code",
   "execution_count": null,
   "metadata": {
    "dotnet_interactive": {
     "language": "csharp"
    },
    "vscode": {
     "languageId": "dotnet-interactive.csharp"
    }
   },
   "outputs": [],
   "source": [
    "BoSSSshell.WorkflowMgm.Init(name);"
   ]
  },
  {
   "cell_type": "code",
   "execution_count": null,
   "metadata": {
    "dotnet_interactive": {
     "language": "csharp"
    },
    "vscode": {
     "languageId": "dotnet-interactive.csharp"
    }
   },
   "outputs": [],
   "source": [
    "// myBatch.AllowedDatabasesPaths.Add(new AllowedDatabasesPair(myDb.Path,\"\"));"
   ]
  },
  {
   "cell_type": "code",
   "execution_count": null,
   "metadata": {
    "dotnet_interactive": {
     "language": "csharp"
    },
    "vscode": {
     "languageId": "dotnet-interactive.csharp"
    }
   },
   "outputs": [],
   "source": [
    "\n",
    "int[] dgDegree = new int[]{1,2,3};\n",
    "int[] res = new int[]{4,8,12,16};\n",
    "\n",
    "Type solverSimple = typeof(NSE_SIMPLE.NSE_SIMPLEMain);\n",
    "Type solverXNSEC = typeof(BoSSS.Application.XNSEC.XNSEC);\n",
    "\n"
   ]
  },
  {
   "cell_type": "code",
   "execution_count": null,
   "metadata": {
    "dotnet_interactive": {
     "language": "csharp"
    },
    "vscode": {
     "languageId": "dotnet-interactive.csharp"
    }
   },
   "outputs": [],
   "source": [
    "for (int dg = 0; dg < dgDegree.Length; dg++) {\n",
    "    for (int r = 0; r < res.Length; r++) {\n",
    "        string ending        = \"P\" + dgDegree[dg] + \"K\" + res[r];\n",
    "        string jobName       = string.Format(\"SIMPLE_HEATEDCOUETTE\"+ ending);\n",
    "        string StartupString = string.Format(\"cs:NSE_SIMPLE.LowMach.ControlExamples.SteadyCouetteFlowWithTemperatureGradient({0}, {1},@\\\"{2}\\\")\",  dgDegree[dg] ,  res[r],myDb.Path);\n",
    "        var oneJob           = new Job(jobName, solverSimple);\n",
    "        oneJob.SetControlStatement(StartupString);\n",
    "        oneJob.NumberOfMPIProcs =  1;\n",
    "\n",
    "        oneJob.Activate(myBatch);\n",
    "    }\n",
    "}\n",
    "\n",
    "for (int dg = 0; dg < dgDegree.Length; dg++) {\n",
    "    for (int r = 0; r < res.Length; r++) {\n",
    "        string ending        = \"P\" + dgDegree[dg] + \"K\" + res[r];\n",
    "        string jobName       = string.Format(\"XNSEC_HEATEDCOUETTE\"+ ending);\n",
    "        string StartupString = string.Format(\"cs:BoSSS.Application.XNSEC.FullNSEControlExamples.SteadyCouetteFlowWithTemperatureGradient({0}, {1},@\\\"{2}\\\")\",  dgDegree[dg] ,  res[r],myDb.Path);\n",
    "        var oneJob           = new Job(jobName, solverXNSEC);\n",
    "        oneJob.SetControlStatement(StartupString);\n",
    "        oneJob.NumberOfMPIProcs =  1;\n",
    "\n",
    "        oneJob.Activate(myBatch);\n",
    "    }\n",
    "}\n",
    "\n",
    "\n"
   ]
  },
  {
   "cell_type": "code",
   "execution_count": null,
   "metadata": {
    "dotnet_interactive": {
     "language": "csharp"
    },
    "vscode": {
     "languageId": "dotnet-interactive.csharp"
    }
   },
   "outputs": [],
   "source": [
    " BoSSSshell.WorkflowMgm.BlockUntilAllJobsTerminate(PollingIntervallSeconds:5);"
   ]
  },
  {
   "cell_type": "code",
   "execution_count": null,
   "metadata": {
    "dotnet_interactive": {
     "language": "csharp"
    },
    "vscode": {
     "languageId": "dotnet-interactive.csharp"
    }
   },
   "outputs": [],
   "source": [
    "class MappedValue\n",
    "{\n",
    "    public double dg { get; set; }\n",
    "    public double ncells { get; set; }\n",
    "\n",
    "    public double XNSEC_TIME { get; set; }\n",
    "    public double SIMPLE_TIME { get; set; }\n",
    "    public double TIME_PROPORTION { get; set; }\n",
    "\n",
    "    public int DOFs { get; set; }\n",
    "    \n",
    "    \n",
    "}"
   ]
  },
  {
   "cell_type": "code",
   "execution_count": null,
   "metadata": {
    "dotnet_interactive": {
     "language": "csharp"
    },
    "vscode": {
     "languageId": "dotnet-interactive.csharp"
    }
   },
   "outputs": [],
   "source": [
    "Dictionary<(int,int),double> SIMPLE_TIMES = new Dictionary<(int,int),double>();\n",
    "Dictionary<(int,int),double> XNSEC_TIMES = new Dictionary<(int,int),double>();\n",
    "Dictionary<(int,int),double> SIMPLE_DOFS = new Dictionary<(int,int),double>();\n",
    "Dictionary<(int,int),double> XNSEC_DOFS = new Dictionary<(int,int),double>();\n",
    "\n",
    "Dictionary<(int,int),double> PROPORTION_TIMES = new Dictionary<(int,int),double>();\n",
    "Dictionary<(int,int),(double,double)> DOFS_TIME = new Dictionary<(int,int),(double,double)>();\n",
    "\n",
    "\n",
    "\n",
    "// Dictionary<(int,int),MappedValue> DATA = new Dictionary<(int,int),MappedValue>();\n",
    "List<MappedValue> dataa = new List<MappedValue>();\n",
    "\n",
    "for (int dg = 0; dg < dgDegree.Length; dg++) {\n",
    "    for (int r = 0; r < res.Length; r++) {\n",
    "        string ending        = \"P\" + dgDegree[dg] + \"K\" + res[r];\n",
    "        var SIMPLESessionS = myDb.Sessions.Where(s=>s.Name.Contains(\"SIMPLE\")).Where(s=> s.Name.Contains(ending)).SingleOrDefault();\n",
    "        var XNSECSessionS = myDb.Sessions.Where(s=>s.Name.Contains(\"XNSEC\")).Where(s=> s.Name.Contains(ending)).SingleOrDefault();\n",
    "\n",
    "\n",
    "        var time_seconds_simple  =  SIMPLESessionS.GetApproximateRunTime().TotalSeconds;\n",
    "        var time_seconds_XNSEC  = XNSECSessionS.GetApproximateRunTime().TotalSeconds;\n",
    "\n",
    "        SIMPLE_TIMES.Add((dg,r),time_seconds_simple);\n",
    "        XNSEC_TIMES.Add((dg,r),time_seconds_XNSEC);\n",
    "\n",
    "        PROPORTION_TIMES.Add((dg,r),time_seconds_simple/time_seconds_XNSEC);\n",
    "\n",
    "        int dofs = SIMPLESessionS.GetDOF(VariableNames.Temperature) * 3 + SIMPLESessionS.GetDOF(VariableNames.Pressure);\n",
    "        DOFS_TIME.Add((dg,r),(dofs,time_seconds_simple/time_seconds_XNSEC));\n",
    "\n",
    "\n",
    "        var myvals = new MappedValue();\n",
    "        myvals.XNSEC_TIME = time_seconds_XNSEC;\n",
    "        myvals.SIMPLE_TIME = time_seconds_simple;\n",
    "        myvals.TIME_PROPORTION =  time_seconds_simple/time_seconds_XNSEC;\n",
    "        myvals.dg =dgDegree[dg];\n",
    "        myvals.ncells = (XNSECSessionS.GetGrids()).Pick(0).NumberOfCells;\n",
    "        myvals.DOFs = dofs;\n",
    "       \n",
    "        dataa.Add(myvals);\n",
    "    }\n",
    "}\n",
    "    "
   ]
  },
  {
   "cell_type": "code",
   "execution_count": null,
   "metadata": {
    "dotnet_interactive": {
     "language": "csharp"
    },
    "vscode": {
     "languageId": "dotnet-interactive.csharp"
    }
   },
   "outputs": [],
   "source": [
    "dataa"
   ]
  },
  {
   "cell_type": "code",
   "execution_count": null,
   "metadata": {
    "dotnet_interactive": {
     "language": "csharp"
    },
    "vscode": {
     "languageId": "dotnet-interactive.csharp"
    }
   },
   "outputs": [],
   "source": []
  },
  {
   "cell_type": "code",
   "execution_count": null,
   "metadata": {
    "dotnet_interactive": {
     "language": "csharp"
    },
    "vscode": {
     "languageId": "dotnet-interactive.csharp"
    }
   },
   "outputs": [],
   "source": []
  }
 ],
 "metadata": {
  "interpreter": {
   "hash": "57baa5815c940fdaff4d14510622de9616cae602444507ba5d0b6727c008cbd6"
  },
  "kernelspec": {
   "display_name": ".NET (C#)",
   "language": "C#",
   "name": ".net-csharp"
  },
  "language_info": {
   "file_extension": ".cs",
   "mimetype": "text/x-csharp",
   "name": "C#",
   "pygments_lexer": "csharp",
   "version": "9.0"
  }
 },
 "nbformat": 4,
 "nbformat_minor": 4
}
