{
  "cells": [
    {
      "cell_type": "code",
      "execution_count": null,
      "metadata": {
        "dotnet_interactive": {
          "language": "csharp"
        }
      },
      "outputs": [],
      "source": [
        "#r \"BoSSSpad.dll\"\n",
        "// #r \".\\binaries\\XNSEC.dll\"\n",
        "// #r \"C:\\BoSSS\\experimental\\public\\src\\L4-application\\BoSSSpad\\bin\\Release\\net5.0\\bossspad.dll\"\n",
        "// #r \"C:\\BoSSS\\experimental\\public\\src\\L4-application\\BoSSSpad\\bin\\Release\\net5.0\\XNSEC.dll\"\n",
        "// #r \"C:\\BoSSS\\experimental\\public\\src\\L4-application\\BoSSSpad\\bin\\Release\\net5.0\\bossspad.dll\"\n",
        "// #r \"C:\\BoSSS\\experimental\\public\\src\\L4-application\\BoSSSpad\\bin\\Release\\net5.0\\XNSEC.dll\"\n",
        "// #r \"C:\\BoSSS\\experimental\\public\\src\\L4-application\\BoSSSpad\\bin\\Release\\net5.0\\bossspad.dll\"\n",
        "//#r \"C:\\BoSSS\\experimental\\public\\src\\L4-application\\BoSSSpad\\bin\\Release\\net5.0\\XNSEC.dll\"\n",
        "using System;\n",
        "using System.Collections.Generic;\n",
        "using System.Linq;\n",
        "using System.IO;\n",
        "using System.Data;\n",
        "using System.Globalization;\n",
        "using System.Threading;\n",
        "using ilPSP;\n",
        "using ilPSP.Utils;\n",
        "using BoSSS.Platform;\n",
        "using BoSSS.Foundation;\n",
        "using BoSSS.Foundation.Grid;\n",
        "using BoSSS.Foundation.Grid.Classic;\n",
        "using BoSSS.Foundation.IO;\n",
        "using BoSSS.Solution;\n",
        "using BoSSS.Solution.Control;\n",
        "using BoSSS.Solution.GridImport;\n",
        "using BoSSS.Solution.Statistic;\n",
        "using BoSSS.Solution.Utils;\n",
        "using BoSSS.Solution.Gnuplot;\n",
        "using BoSSS.Application.BoSSSpad;\n",
        "using BoSSS.Application.XNSE_Solver;\n",
        "using static BoSSS.Application.BoSSSpad.BoSSSshell;\n",
        "using BoSSS.Foundation.Grid.RefElements;\n",
        "using BoSSS.Platform.LinAlg;\n",
        "using BoSSS.Solution.NSECommon;\n",
        "Init();"
      ]
    },
    {
      "cell_type": "code",
      "execution_count": null,
      "metadata": {
        "dotnet_interactive": {
          "language": "csharp"
        }
      },
      "outputs": [],
      "source": [
        "using BoSSS.Application.XNSEC;"
      ]
    },
    {
      "cell_type": "code",
      "execution_count": null,
      "metadata": {
        "dotnet_interactive": {
          "language": "csharp"
        }
      },
      "outputs": [
        {
          "name": "stdout",
          "output_type": "stream",
          "text": [
            "Project name is set to 'HeatedCavity_ConvergenceStudy'.\r\n"
          ]
        }
      ],
      "source": [
        "BoSSSshell.WorkflowMgm.Init(\"HeatedCavity_ConvergenceStudy\");"
      ]
    },
    {
      "cell_type": "code",
      "execution_count": null,
      "metadata": {
        "dotnet_interactive": {
          "language": "csharp"
        }
      },
      "outputs": [],
      "source": [
        "int NCellsFinestMesh = (int) Math.Pow(Math.Pow(2,5+1),2); "
      ]
    },
    {
      "cell_type": "code",
      "execution_count": null,
      "metadata": {
        "dotnet_interactive": {
          "language": "csharp"
        }
      },
      "outputs": [],
      "source": [
        "static var myDb = OpenOrCreateDatabase(@\"C:\\Databases\\HeatedCavity_ConvergenceStudy3\");"
      ]
    },
    {
      "cell_type": "code",
      "execution_count": null,
      "metadata": {
        "dotnet_interactive": {
          "language": "csharp"
        }
      },
      "outputs": [
        {
          "name": "stdout",
          "output_type": "stream",
          "text": [
            "Opening existing database 'C:\\Databases\\HeatedCavity_ConvergenceStudy3'.\r\n"
          ]
        }
      ],
      "source": [
        "BoSSSshell.WorkflowMgm.DefaultDatabase = myDb;"
      ]
    },
    {
      "cell_type": "code",
      "execution_count": null,
      "metadata": {
        "dotnet_interactive": {
          "language": "csharp"
        }
      },
      "outputs": [],
      "source": [
        "var Tab = BoSSSshell.WorkflowMgm.SessionTable;\n",
        "BoSSSshell.WorkflowMgm.hConvergence.Update();"
      ]
    },
    {
      "cell_type": "code",
      "execution_count": null,
      "metadata": {
        "dotnet_interactive": {
          "language": "csharp"
        }
      },
      "outputs": [],
      "source": [
        "var Tab = BoSSSshell.WorkflowMgm.SessionTable; // The session table has to be created again in order to see the results from  hconvergence"
      ]
    },
    {
      "cell_type": "markdown",
      "metadata": {},
      "source": [
        "## Error convergence study for Temperature"
      ]
    },
    {
      "cell_type": "code",
      "execution_count": null,
      "metadata": {
        "dotnet_interactive": {
          "language": "csharp"
        }
      },
      "outputs": [],
      "source": [
        "var Tab = BoSSSshell.WorkflowMgm.SessionTable;\n",
        "var Tab2 = Tab.ExtractColumns(\"DGdegree:Temperature\",\"Grid:hMin\",\"Grid:NoOfCells\" ,\"L2Error_Temperature\");\n",
        "//Extract last point, the one against we are comparing our solutions with\n",
        "Tab2 = Tab2.ExtractRows((iRow,RowEntries)=> Convert.ToInt32(RowEntries[\"Grid:NoOfCells\"]) !=NCellsFinestMesh );"
      ]
    },
    {
      "cell_type": "code",
      "execution_count": null,
      "metadata": {
        "dotnet_interactive": {
          "language": "csharp"
        }
      },
      "outputs": [
        {
          "name": "stdout",
          "output_type": "stream",
          "text": [
            "Using gnuplot: C:\\Program Files (x86)\\FDY\\BoSSS\\bin\\native\\win\\gnuplot-gp510-20160418-win32-mingw\\gnuplot\\bin\\gnuplot.exe\r\n",
            "set key font \",16\"Left reverse \r\n"
          ]
        },
        {
          "data": {
            "text/html": [
              "<?xml version=\"1.0\" encoding=\"utf-8\"  standalone=\"no\"?>\n",
              "<!DOCTYPE svg PUBLIC \"-//W3C//DTD SVG 1.1//EN\"\n",
              " \"http://www.w3.org/Graphics/SVG/1.1/DTD/svg11.dtd\">\n",
              "<svg \n",
              " width=\"800\" height=\"600\"\n",
              " viewBox=\"0 0 800 600\"\n",
              " xmlns=\"http://www.w3.org/2000/svg\"\n",
              " xmlns:xlink=\"http://www.w3.org/1999/xlink\"\n",
              ">\n",
              "\n",
              "<title>Gnuplot</title>\n",
              "<desc>Produced by GNUPLOT 5.1 patchlevel 0 </desc>\n",
              "\n",
              "<g id=\"gnuplot_canvas\">\n",
              "\n",
              "<rect x=\"0\" y=\"0\" width=\"800\" height=\"600\" fill=\"#ffffff\"/>\n",
              "<defs>\n",
              "\n",
              "\t<circle id='gpDot' r='0.5' stroke-width='0.5'/>\n",
              "\t<path id='gpPt0' stroke-width='0.222' stroke='currentColor' d='M-1,0 h2 M0,-1 v2'/>\n",
              "\t<path id='gpPt1' stroke-width='0.222' stroke='currentColor' d='M-1,-1 L1,1 M1,-1 L-1,1'/>\n",
              "\t<path id='gpPt2' stroke-width='0.222' stroke='currentColor' d='M-1,0 L1,0 M0,-1 L0,1 M-1,-1 L1,1 M-1,1 L1,-1'/>\n",
              "\t<rect id='gpPt3' stroke-width='0.222' stroke='currentColor' x='-1' y='-1' width='2' height='2'/>\n",
              "\t<rect id='gpPt4' stroke-width='0.222' stroke='currentColor' fill='currentColor' x='-1' y='-1' width='2' height='2'/>\n",
              "\t<circle id='gpPt5' stroke-width='0.222' stroke='currentColor' cx='0' cy='0' r='1'/>\n",
              "\t<use xlink:href='#gpPt5' id='gpPt6' fill='currentColor' stroke='none'/>\n",
              "\t<path id='gpPt7' stroke-width='0.222' stroke='currentColor' d='M0,-1.33 L-1.33,0.67 L1.33,0.67 z'/>\n",
              "\t<use xlink:href='#gpPt7' id='gpPt8' fill='currentColor' stroke='none'/>\n",
              "\t<use xlink:href='#gpPt7' id='gpPt9' stroke='currentColor' transform='rotate(180)'/>\n",
              "\t<use xlink:href='#gpPt9' id='gpPt10' fill='currentColor' stroke='none'/>\n",
              "\t<use xlink:href='#gpPt3' id='gpPt11' stroke='currentColor' transform='rotate(45)'/>\n",
              "\t<use xlink:href='#gpPt11' id='gpPt12' fill='currentColor' stroke='none'/>\n",
              "\t<path id='gpPt13' stroke-width='0.222' stroke='currentColor' d='M0,1.330 L1.265,0.411 L0.782,-1.067 L-0.782,-1.076 L-1.265,0.411 z'/>\n",
              "\t<use xlink:href='#gpPt13' id='gpPt14' fill='currentColor' stroke='none'/>\n",
              "\t<filter id='textbox' filterUnits='objectBoundingBox' x='0' y='0' height='1' width='1'>\n",
              "\t  <feFlood flood-color='#FFFFFF' flood-opacity='1' result='bgnd'/>\n",
              "\t  <feComposite in='SourceGraphic' in2='bgnd' operator='atop'/>\n",
              "\t</filter>\n",
              "\t<filter id='greybox' filterUnits='objectBoundingBox' x='0' y='0' height='1' width='1'>\n",
              "\t  <feFlood flood-color='lightgrey' flood-opacity='1' result='grey'/>\n",
              "\t  <feComposite in='SourceGraphic' in2='grey' operator='atop'/>\n",
              "\t</filter>\n",
              "</defs>\n",
              "<g fill=\"none\" color=\"#FFFFFF\" stroke=\"currentColor\" stroke-width=\"1.00\" stroke-linecap=\"butt\" stroke-linejoin=\"miter\">\n",
              "</g>\n",
              "<g fill=\"none\" color=\"black\" stroke=\"currentColor\" stroke-width=\"1.00\" stroke-linecap=\"butt\" stroke-linejoin=\"miter\">\n",
              "\t<path stroke='black'  d='M62.2,564.0 L71.2,564.0 M750.1,564.0 L741.1,564.0  '/>\t<g transform=\"translate(53.9,570.0)\" stroke=\"none\" fill=\"black\" font-family=\"sans\" font-size=\"16.00\"  text-anchor=\"end\">\n",
              "\t\t<text><tspan font-family=\"sans\" >$10</tspan><tspan font-family=\"sans\"  font-size=\"12.8\" dy=\"-8.00px\">-3</tspan><tspan font-family=\"sans\"  font-size=\"16.0\" dy=\"8.00px\">$</tspan></text>\n",
              "\t</g>\n",
              "</g>\n",
              "<g fill=\"none\" color=\"black\" stroke=\"currentColor\" stroke-width=\"1.00\" stroke-linecap=\"butt\" stroke-linejoin=\"miter\">\n",
              "\t<path stroke='black'  d='M62.2,484.5 L66.7,484.5 M750.1,484.5 L745.6,484.5 M62.2,438.1 L66.7,438.1 M750.1,438.1 L745.6,438.1\n",
              "\t\tM62.2,405.1 L66.7,405.1 M750.1,405.1 L745.6,405.1 M62.2,379.5 L66.7,379.5 M750.1,379.5 L745.6,379.5\n",
              "\t\tM62.2,358.6 L66.7,358.6 M750.1,358.6 L745.6,358.6 M62.2,340.9 L66.7,340.9 M750.1,340.9 L745.6,340.9\n",
              "\t\tM62.2,325.6 L66.7,325.6 M750.1,325.6 L745.6,325.6 M62.2,312.1 L66.7,312.1 M750.1,312.1 L745.6,312.1\n",
              "\t\tM62.2,300.0 L71.2,300.0 M750.1,300.0 L741.1,300.0  '/>\t<g transform=\"translate(53.9,306.0)\" stroke=\"none\" fill=\"black\" font-family=\"sans\" font-size=\"16.00\"  text-anchor=\"end\">\n",
              "\t\t<text><tspan font-family=\"sans\" >$10</tspan><tspan font-family=\"sans\"  font-size=\"12.8\" dy=\"-8.00px\">-2</tspan><tspan font-family=\"sans\"  font-size=\"16.0\" dy=\"8.00px\">$</tspan></text>\n",
              "\t</g>\n",
              "</g>\n",
              "<g fill=\"none\" color=\"black\" stroke=\"currentColor\" stroke-width=\"1.00\" stroke-linecap=\"butt\" stroke-linejoin=\"miter\">\n",
              "\t<path stroke='black'  d='M62.2,220.6 L66.7,220.6 M750.1,220.6 L745.6,220.6 M62.2,174.1 L66.7,174.1 M750.1,174.1 L745.6,174.1\n",
              "\t\tM62.2,141.1 L66.7,141.1 M750.1,141.1 L745.6,141.1 M62.2,115.6 L66.7,115.6 M750.1,115.6 L745.6,115.6\n",
              "\t\tM62.2,94.7 L66.7,94.7 M750.1,94.7 L745.6,94.7 M62.2,77.0 L66.7,77.0 M750.1,77.0 L745.6,77.0\n",
              "\t\tM62.2,61.7 L66.7,61.7 M750.1,61.7 L745.6,61.7 M62.2,48.2 L66.7,48.2 M750.1,48.2 L745.6,48.2\n",
              "\t\tM62.2,36.1 L71.2,36.1 M750.1,36.1 L741.1,36.1  '/>\t<g transform=\"translate(53.9,42.1)\" stroke=\"none\" fill=\"black\" font-family=\"sans\" font-size=\"16.00\"  text-anchor=\"end\">\n",
              "\t\t<text><tspan font-family=\"sans\" >$10</tspan><tspan font-family=\"sans\"  font-size=\"12.8\" dy=\"-8.00px\">-1</tspan><tspan font-family=\"sans\"  font-size=\"16.0\" dy=\"8.00px\">$</tspan></text>\n",
              "\t</g>\n",
              "</g>\n",
              "<g fill=\"none\" color=\"black\" stroke=\"currentColor\" stroke-width=\"1.00\" stroke-linecap=\"butt\" stroke-linejoin=\"miter\">\n",
              "\t<path stroke='black'  d='M62.2,564.0 L62.2,555.0 M62.2,36.1 L62.2,45.1  '/>\t<g transform=\"translate(62.2,595.2)\" stroke=\"none\" fill=\"black\" font-family=\"sans\" font-size=\"16.00\"  text-anchor=\"middle\">\n",
              "\t\t<text><tspan font-family=\"sans\" >$10</tspan><tspan font-family=\"sans\"  font-size=\"12.8\" dy=\"-8.00px\">-2</tspan><tspan font-family=\"sans\"  font-size=\"16.0\" dy=\"8.00px\">$</tspan></text>\n",
              "\t</g>\n",
              "</g>\n",
              "<g fill=\"none\" color=\"black\" stroke=\"currentColor\" stroke-width=\"1.00\" stroke-linecap=\"butt\" stroke-linejoin=\"miter\">\n",
              "\t<path stroke='black'  d='M165.7,564.0 L165.7,559.5 M165.7,36.1 L165.7,40.6 M226.3,564.0 L226.3,559.5 M226.3,36.1 L226.3,40.6\n",
              "\t\tM269.3,564.0 L269.3,559.5 M269.3,36.1 L269.3,40.6 M302.6,564.0 L302.6,559.5 M302.6,36.1 L302.6,40.6\n",
              "\t\tM329.8,564.0 L329.8,559.5 M329.8,36.1 L329.8,40.6 M352.9,564.0 L352.9,559.5 M352.9,36.1 L352.9,40.6\n",
              "\t\tM372.8,564.0 L372.8,559.5 M372.8,36.1 L372.8,40.6 M390.4,564.0 L390.4,559.5 M390.4,36.1 L390.4,40.6\n",
              "\t\tM406.2,564.0 L406.2,555.0 M406.2,36.1 L406.2,45.1  '/>\t<g transform=\"translate(406.2,595.2)\" stroke=\"none\" fill=\"black\" font-family=\"sans\" font-size=\"16.00\"  text-anchor=\"middle\">\n",
              "\t\t<text><tspan font-family=\"sans\" >$10</tspan><tspan font-family=\"sans\"  font-size=\"12.8\" dy=\"-8.00px\">-1</tspan><tspan font-family=\"sans\"  font-size=\"16.0\" dy=\"8.00px\">$</tspan></text>\n",
              "\t</g>\n",
              "</g>\n",
              "<g fill=\"none\" color=\"black\" stroke=\"currentColor\" stroke-width=\"1.00\" stroke-linecap=\"butt\" stroke-linejoin=\"miter\">\n",
              "\t<path stroke='black'  d='M509.7,564.0 L509.7,559.5 M509.7,36.1 L509.7,40.6 M570.3,564.0 L570.3,559.5 M570.3,36.1 L570.3,40.6\n",
              "\t\tM613.2,564.0 L613.2,559.5 M613.2,36.1 L613.2,40.6 M646.6,564.0 L646.6,559.5 M646.6,36.1 L646.6,40.6\n",
              "\t\tM673.8,564.0 L673.8,559.5 M673.8,36.1 L673.8,40.6 M696.8,564.0 L696.8,559.5 M696.8,36.1 L696.8,40.6\n",
              "\t\tM716.8,564.0 L716.8,559.5 M716.8,36.1 L716.8,40.6 M734.4,564.0 L734.4,559.5 M734.4,36.1 L734.4,40.6\n",
              "\t\tM750.1,564.0 L750.1,555.0 M750.1,36.1 L750.1,45.1  '/>\t<g transform=\"translate(750.1,595.2)\" stroke=\"none\" fill=\"black\" font-family=\"sans\" font-size=\"16.00\"  text-anchor=\"middle\">\n",
              "\t\t<text><tspan font-family=\"sans\" >$10</tspan><tspan font-family=\"sans\"  font-size=\"12.8\" dy=\"-8.00px\">0</tspan><tspan font-family=\"sans\"  font-size=\"16.0\" dy=\"8.00px\">$</tspan></text>\n",
              "\t</g>\n",
              "</g>\n",
              "<g fill=\"none\" color=\"black\" stroke=\"currentColor\" stroke-width=\"1.00\" stroke-linecap=\"butt\" stroke-linejoin=\"miter\">\n",
              "\t<path stroke='black'  d='M750.1,564.0 L741.1,564.0  '/>\t<g transform=\"translate(758.4,568.5)\" stroke=\"none\" fill=\"black\" font-family=\"Arial\" font-size=\"12.00\"  text-anchor=\"start\">\n",
              "\t\t<text><tspan font-family=\"Arial\" > </tspan></text>\n",
              "\t</g>\n",
              "</g>\n",
              "<g fill=\"none\" color=\"black\" stroke=\"currentColor\" stroke-width=\"1.00\" stroke-linecap=\"butt\" stroke-linejoin=\"miter\">\n",
              "\t<path stroke='black'  d='M750.1,511.2 L741.1,511.2  '/>\t<g transform=\"translate(758.4,515.7)\" stroke=\"none\" fill=\"black\" font-family=\"Arial\" font-size=\"12.00\"  text-anchor=\"start\">\n",
              "\t\t<text><tspan font-family=\"Arial\" > </tspan></text>\n",
              "\t</g>\n",
              "</g>\n",
              "<g fill=\"none\" color=\"black\" stroke=\"currentColor\" stroke-width=\"1.00\" stroke-linecap=\"butt\" stroke-linejoin=\"miter\">\n",
              "\t<path stroke='black'  d='M750.1,458.4 L741.1,458.4  '/>\t<g transform=\"translate(758.4,462.9)\" stroke=\"none\" fill=\"black\" font-family=\"Arial\" font-size=\"12.00\"  text-anchor=\"start\">\n",
              "\t\t<text><tspan font-family=\"Arial\" > </tspan></text>\n",
              "\t</g>\n",
              "</g>\n",
              "<g fill=\"none\" color=\"black\" stroke=\"currentColor\" stroke-width=\"1.00\" stroke-linecap=\"butt\" stroke-linejoin=\"miter\">\n",
              "\t<path stroke='black'  d='M750.1,405.6 L741.1,405.6  '/>\t<g transform=\"translate(758.4,410.1)\" stroke=\"none\" fill=\"black\" font-family=\"Arial\" font-size=\"12.00\"  text-anchor=\"start\">\n",
              "\t\t<text><tspan font-family=\"Arial\" > </tspan></text>\n",
              "\t</g>\n",
              "</g>\n",
              "<g fill=\"none\" color=\"black\" stroke=\"currentColor\" stroke-width=\"1.00\" stroke-linecap=\"butt\" stroke-linejoin=\"miter\">\n",
              "\t<path stroke='black'  d='M750.1,352.8 L741.1,352.8  '/>\t<g transform=\"translate(758.4,357.3)\" stroke=\"none\" fill=\"black\" font-family=\"Arial\" font-size=\"12.00\"  text-anchor=\"start\">\n",
              "\t\t<text><tspan font-family=\"Arial\" > </tspan></text>\n",
              "\t</g>\n",
              "</g>\n",
              "<g fill=\"none\" color=\"black\" stroke=\"currentColor\" stroke-width=\"1.00\" stroke-linecap=\"butt\" stroke-linejoin=\"miter\">\n",
              "\t<path stroke='black'  d='M750.1,300.0 L741.1,300.0  '/>\t<g transform=\"translate(758.4,304.5)\" stroke=\"none\" fill=\"black\" font-family=\"Arial\" font-size=\"12.00\"  text-anchor=\"start\">\n",
              "\t\t<text><tspan font-family=\"Arial\" > </tspan></text>\n",
              "\t</g>\n",
              "</g>\n",
              "<g fill=\"none\" color=\"black\" stroke=\"currentColor\" stroke-width=\"1.00\" stroke-linecap=\"butt\" stroke-linejoin=\"miter\">\n",
              "\t<path stroke='black'  d='M750.1,247.3 L741.1,247.3  '/>\t<g transform=\"translate(758.4,251.8)\" stroke=\"none\" fill=\"black\" font-family=\"Arial\" font-size=\"12.00\"  text-anchor=\"start\">\n",
              "\t\t<text><tspan font-family=\"Arial\" > </tspan></text>\n",
              "\t</g>\n",
              "</g>\n",
              "<g fill=\"none\" color=\"black\" stroke=\"currentColor\" stroke-width=\"1.00\" stroke-linecap=\"butt\" stroke-linejoin=\"miter\">\n",
              "\t<path stroke='black'  d='M750.1,194.5 L741.1,194.5  '/>\t<g transform=\"translate(758.4,199.0)\" stroke=\"none\" fill=\"black\" font-family=\"Arial\" font-size=\"12.00\"  text-anchor=\"start\">\n",
              "\t\t<text><tspan font-family=\"Arial\" > </tspan></text>\n",
              "\t</g>\n",
              "</g>\n",
              "<g fill=\"none\" color=\"black\" stroke=\"currentColor\" stroke-width=\"1.00\" stroke-linecap=\"butt\" stroke-linejoin=\"miter\">\n",
              "\t<path stroke='black'  d='M750.1,141.7 L741.1,141.7  '/>\t<g transform=\"translate(758.4,146.2)\" stroke=\"none\" fill=\"black\" font-family=\"Arial\" font-size=\"12.00\"  text-anchor=\"start\">\n",
              "\t\t<text><tspan font-family=\"Arial\" > </tspan></text>\n",
              "\t</g>\n",
              "</g>\n",
              "<g fill=\"none\" color=\"black\" stroke=\"currentColor\" stroke-width=\"1.00\" stroke-linecap=\"butt\" stroke-linejoin=\"miter\">\n",
              "\t<path stroke='black'  d='M750.1,88.9 L741.1,88.9  '/>\t<g transform=\"translate(758.4,93.4)\" stroke=\"none\" fill=\"black\" font-family=\"Arial\" font-size=\"12.00\"  text-anchor=\"start\">\n",
              "\t\t<text><tspan font-family=\"Arial\" > </tspan></text>\n",
              "\t</g>\n",
              "</g>\n",
              "<g fill=\"none\" color=\"black\" stroke=\"currentColor\" stroke-width=\"1.00\" stroke-linecap=\"butt\" stroke-linejoin=\"miter\">\n",
              "\t<path stroke='black'  d='M750.1,36.1 L741.1,36.1  '/>\t<g transform=\"translate(758.4,40.6)\" stroke=\"none\" fill=\"black\" font-family=\"Arial\" font-size=\"12.00\"  text-anchor=\"start\">\n",
              "\t\t<text><tspan font-family=\"Arial\" > </tspan></text>\n",
              "\t</g>\n",
              "</g>\n",
              "<g fill=\"none\" color=\"black\" stroke=\"currentColor\" stroke-width=\"1.00\" stroke-linecap=\"butt\" stroke-linejoin=\"miter\">\n",
              "\t<path stroke='black'  d='M62.2,36.1 L62.2,45.1  '/>\t<g transform=\"translate(62.2,22.6)\" stroke=\"none\" fill=\"black\" font-family=\"Arial\" font-size=\"12.00\"  text-anchor=\"middle\">\n",
              "\t\t<text><tspan font-family=\"Arial\" > </tspan></text>\n",
              "\t</g>\n",
              "</g>\n",
              "<g fill=\"none\" color=\"black\" stroke=\"currentColor\" stroke-width=\"1.00\" stroke-linecap=\"butt\" stroke-linejoin=\"miter\">\n",
              "\t<path stroke='black'  d='M160.5,36.1 L160.5,45.1  '/>\t<g transform=\"translate(160.5,22.6)\" stroke=\"none\" fill=\"black\" font-family=\"Arial\" font-size=\"12.00\"  text-anchor=\"middle\">\n",
              "\t\t<text><tspan font-family=\"Arial\" > </tspan></text>\n",
              "\t</g>\n",
              "</g>\n",
              "<g fill=\"none\" color=\"black\" stroke=\"currentColor\" stroke-width=\"1.00\" stroke-linecap=\"butt\" stroke-linejoin=\"miter\">\n",
              "\t<path stroke='black'  d='M258.7,36.1 L258.7,45.1  '/>\t<g transform=\"translate(258.7,22.6)\" stroke=\"none\" fill=\"black\" font-family=\"Arial\" font-size=\"12.00\"  text-anchor=\"middle\">\n",
              "\t\t<text><tspan font-family=\"Arial\" > </tspan></text>\n",
              "\t</g>\n",
              "</g>\n",
              "<g fill=\"none\" color=\"black\" stroke=\"currentColor\" stroke-width=\"1.00\" stroke-linecap=\"butt\" stroke-linejoin=\"miter\">\n",
              "\t<path stroke='black'  d='M357.0,36.1 L357.0,45.1  '/>\t<g transform=\"translate(357.0,22.6)\" stroke=\"none\" fill=\"black\" font-family=\"Arial\" font-size=\"12.00\"  text-anchor=\"middle\">\n",
              "\t\t<text><tspan font-family=\"Arial\" > </tspan></text>\n",
              "\t</g>\n",
              "</g>\n",
              "<g fill=\"none\" color=\"black\" stroke=\"currentColor\" stroke-width=\"1.00\" stroke-linecap=\"butt\" stroke-linejoin=\"miter\">\n",
              "\t<path stroke='black'  d='M455.3,36.1 L455.3,45.1  '/>\t<g transform=\"translate(455.3,22.6)\" stroke=\"none\" fill=\"black\" font-family=\"Arial\" font-size=\"12.00\"  text-anchor=\"middle\">\n",
              "\t\t<text><tspan font-family=\"Arial\" > </tspan></text>\n",
              "\t</g>\n",
              "</g>\n",
              "<g fill=\"none\" color=\"black\" stroke=\"currentColor\" stroke-width=\"1.00\" stroke-linecap=\"butt\" stroke-linejoin=\"miter\">\n",
              "\t<path stroke='black'  d='M553.6,36.1 L553.6,45.1  '/>\t<g transform=\"translate(553.6,22.6)\" stroke=\"none\" fill=\"black\" font-family=\"Arial\" font-size=\"12.00\"  text-anchor=\"middle\">\n",
              "\t\t<text><tspan font-family=\"Arial\" > </tspan></text>\n",
              "\t</g>\n",
              "</g>\n",
              "<g fill=\"none\" color=\"black\" stroke=\"currentColor\" stroke-width=\"1.00\" stroke-linecap=\"butt\" stroke-linejoin=\"miter\">\n",
              "\t<path stroke='black'  d='M651.8,36.1 L651.8,45.1  '/>\t<g transform=\"translate(651.8,22.6)\" stroke=\"none\" fill=\"black\" font-family=\"Arial\" font-size=\"12.00\"  text-anchor=\"middle\">\n",
              "\t\t<text><tspan font-family=\"Arial\" > </tspan></text>\n",
              "\t</g>\n",
              "</g>\n",
              "<g fill=\"none\" color=\"black\" stroke=\"currentColor\" stroke-width=\"1.00\" stroke-linecap=\"butt\" stroke-linejoin=\"miter\">\n",
              "\t<path stroke='black'  d='M750.1,36.1 L750.1,45.1  '/>\t<g transform=\"translate(750.1,22.6)\" stroke=\"none\" fill=\"black\" font-family=\"Arial\" font-size=\"12.00\"  text-anchor=\"middle\">\n",
              "\t\t<text><tspan font-family=\"Arial\" > </tspan></text>\n",
              "\t</g>\n",
              "</g>\n",
              "<g fill=\"none\" color=\"black\" stroke=\"currentColor\" stroke-width=\"1.00\" stroke-linecap=\"butt\" stroke-linejoin=\"miter\">\n",
              "</g>\n",
              "<g fill=\"none\" color=\"black\" stroke=\"currentColor\" stroke-width=\"1.00\" stroke-linecap=\"butt\" stroke-linejoin=\"miter\">\n",
              "\t<path stroke='black'  d='M62.2,36.1 L62.2,564.0 L750.1,564.0 L750.1,36.1 L62.2,36.1 Z  '/></g>\n",
              "<g fill=\"none\" color=\"black\" stroke=\"currentColor\" stroke-width=\"1.00\" stroke-linecap=\"butt\" stroke-linejoin=\"miter\">\n",
              "</g>\n",
              "\t<g id=\"gnuplot_plot_1\" ><title>DGdegree:Temperature1</title>\n",
              "<g fill=\"none\" color=\"black\" stroke=\"currentColor\" stroke-width=\"1.00\" stroke-linecap=\"butt\" stroke-linejoin=\"miter\">\n",
              "\t<g transform=\"translate(508.7,63.1)\" stroke=\"none\" fill=\"black\" font-family=\"Arial\" font-size=\"16.00\"  text-anchor=\"start\">\n",
              "\t\t<text><tspan font-family=\"Arial\" >DGdegree:Temperature1</tspan></text>\n",
              "\t</g>\n",
              "</g>\n",
              "<g fill=\"none\" color=\"black\" stroke=\"currentColor\" stroke-width=\"1.00\" stroke-linecap=\"butt\" stroke-linejoin=\"miter\">\n",
              "\t<path stroke='rgb(  0,   0,   0)'  d='M444.2,57.1 L497.6,57.1 M232.4,301.5 L335.9,151.9 L439.5,76.0  '/>\t<use xlink:href='#gpPt6' transform='translate(232.4,301.5) scale(3.15)' color='rgb(  0,   0,   0)'/>\n",
              "\t<use xlink:href='#gpPt6' transform='translate(335.9,151.9) scale(3.15)' color='rgb(  0,   0,   0)'/>\n",
              "\t<use xlink:href='#gpPt6' transform='translate(439.5,76.0) scale(3.15)' color='rgb(  0,   0,   0)'/>\n",
              "\t<use xlink:href='#gpPt6' transform='translate(470.9,57.1) scale(3.15)' color='rgb(  0,   0,   0)'/>\n",
              "</g>\n",
              "\t</g>\n",
              "<g fill=\"none\" color=\"#FFFFFF\" stroke=\"rgb(  0,   0,   0)\" stroke-width=\"2.00\" stroke-linecap=\"butt\" stroke-linejoin=\"miter\">\n",
              "</g>\n",
              "<g fill=\"none\" color=\"black\" stroke=\"currentColor\" stroke-width=\"2.00\" stroke-linecap=\"butt\" stroke-linejoin=\"miter\">\n",
              "</g>\n",
              "<g fill=\"none\" color=\"black\" stroke=\"black\" stroke-width=\"1.00\" stroke-linecap=\"butt\" stroke-linejoin=\"miter\">\n",
              "</g>\n",
              "<g fill=\"none\" color=\"black\" stroke=\"currentColor\" stroke-width=\"1.00\" stroke-linecap=\"butt\" stroke-linejoin=\"miter\">\n",
              "\t<path stroke='black'  d='M62.2,36.1 L62.2,564.0 L750.1,564.0 L750.1,36.1 L62.2,36.1 Z  '/></g>\n",
              "<g fill=\"none\" color=\"black\" stroke=\"currentColor\" stroke-width=\"1.00\" stroke-linecap=\"butt\" stroke-linejoin=\"miter\">\n",
              "</g>\n",
              "</g>\n",
              "</svg>\n",
              "\n"
            ]
          },
          "metadata": {},
          "output_type": "display_data"
        }
      ],
      "source": [
        "var ErrorPlot = Tab2.ToPlot(\"Grid:hMin\",\"L2Error_Temperature\", \"DGdegree:Temperature\");\n",
        "ErrorPlot.LogX = true;\n",
        "ErrorPlot.LogY = true;\n",
        "ErrorPlot.PlotNow()     // No semicolon!!"
      ]
    },
    {
      "cell_type": "markdown",
      "metadata": {},
      "source": [
        "## Error convergence study for Velocity-X"
      ]
    },
    {
      "cell_type": "code",
      "execution_count": null,
      "metadata": {
        "dotnet_interactive": {
          "language": "csharp"
        }
      },
      "outputs": [
        {
          "name": "stdout",
          "output_type": "stream",
          "text": [
            "Using gnuplot: C:\\Program Files (x86)\\FDY\\BoSSS\\bin\\native\\win\\gnuplot-gp510-20160418-win32-mingw\\gnuplot\\bin\\gnuplot.exe\r\n",
            "set key font \",16\"Left reverse \r\n"
          ]
        },
        {
          "data": {
            "text/html": [
              "<?xml version=\"1.0\" encoding=\"utf-8\"  standalone=\"no\"?>\n",
              "<!DOCTYPE svg PUBLIC \"-//W3C//DTD SVG 1.1//EN\"\n",
              " \"http://www.w3.org/Graphics/SVG/1.1/DTD/svg11.dtd\">\n",
              "<svg \n",
              " width=\"800\" height=\"600\"\n",
              " viewBox=\"0 0 800 600\"\n",
              " xmlns=\"http://www.w3.org/2000/svg\"\n",
              " xmlns:xlink=\"http://www.w3.org/1999/xlink\"\n",
              ">\n",
              "\n",
              "<title>Gnuplot</title>\n",
              "<desc>Produced by GNUPLOT 5.1 patchlevel 0 </desc>\n",
              "\n",
              "<g id=\"gnuplot_canvas\">\n",
              "\n",
              "<rect x=\"0\" y=\"0\" width=\"800\" height=\"600\" fill=\"#ffffff\"/>\n",
              "<defs>\n",
              "\n",
              "\t<circle id='gpDot' r='0.5' stroke-width='0.5'/>\n",
              "\t<path id='gpPt0' stroke-width='0.222' stroke='currentColor' d='M-1,0 h2 M0,-1 v2'/>\n",
              "\t<path id='gpPt1' stroke-width='0.222' stroke='currentColor' d='M-1,-1 L1,1 M1,-1 L-1,1'/>\n",
              "\t<path id='gpPt2' stroke-width='0.222' stroke='currentColor' d='M-1,0 L1,0 M0,-1 L0,1 M-1,-1 L1,1 M-1,1 L1,-1'/>\n",
              "\t<rect id='gpPt3' stroke-width='0.222' stroke='currentColor' x='-1' y='-1' width='2' height='2'/>\n",
              "\t<rect id='gpPt4' stroke-width='0.222' stroke='currentColor' fill='currentColor' x='-1' y='-1' width='2' height='2'/>\n",
              "\t<circle id='gpPt5' stroke-width='0.222' stroke='currentColor' cx='0' cy='0' r='1'/>\n",
              "\t<use xlink:href='#gpPt5' id='gpPt6' fill='currentColor' stroke='none'/>\n",
              "\t<path id='gpPt7' stroke-width='0.222' stroke='currentColor' d='M0,-1.33 L-1.33,0.67 L1.33,0.67 z'/>\n",
              "\t<use xlink:href='#gpPt7' id='gpPt8' fill='currentColor' stroke='none'/>\n",
              "\t<use xlink:href='#gpPt7' id='gpPt9' stroke='currentColor' transform='rotate(180)'/>\n",
              "\t<use xlink:href='#gpPt9' id='gpPt10' fill='currentColor' stroke='none'/>\n",
              "\t<use xlink:href='#gpPt3' id='gpPt11' stroke='currentColor' transform='rotate(45)'/>\n",
              "\t<use xlink:href='#gpPt11' id='gpPt12' fill='currentColor' stroke='none'/>\n",
              "\t<path id='gpPt13' stroke-width='0.222' stroke='currentColor' d='M0,1.330 L1.265,0.411 L0.782,-1.067 L-0.782,-1.076 L-1.265,0.411 z'/>\n",
              "\t<use xlink:href='#gpPt13' id='gpPt14' fill='currentColor' stroke='none'/>\n",
              "\t<filter id='textbox' filterUnits='objectBoundingBox' x='0' y='0' height='1' width='1'>\n",
              "\t  <feFlood flood-color='#FFFFFF' flood-opacity='1' result='bgnd'/>\n",
              "\t  <feComposite in='SourceGraphic' in2='bgnd' operator='atop'/>\n",
              "\t</filter>\n",
              "\t<filter id='greybox' filterUnits='objectBoundingBox' x='0' y='0' height='1' width='1'>\n",
              "\t  <feFlood flood-color='lightgrey' flood-opacity='1' result='grey'/>\n",
              "\t  <feComposite in='SourceGraphic' in2='grey' operator='atop'/>\n",
              "\t</filter>\n",
              "</defs>\n",
              "<g fill=\"none\" color=\"#FFFFFF\" stroke=\"currentColor\" stroke-width=\"1.00\" stroke-linecap=\"butt\" stroke-linejoin=\"miter\">\n",
              "</g>\n",
              "<g fill=\"none\" color=\"black\" stroke=\"currentColor\" stroke-width=\"1.00\" stroke-linecap=\"butt\" stroke-linejoin=\"miter\">\n",
              "\t<path stroke='black'  d='M62.2,564.0 L71.2,564.0 M750.1,564.0 L741.1,564.0  '/>\t<g transform=\"translate(53.9,570.0)\" stroke=\"none\" fill=\"black\" font-family=\"sans\" font-size=\"16.00\"  text-anchor=\"end\">\n",
              "\t\t<text><tspan font-family=\"sans\" >$10</tspan><tspan font-family=\"sans\"  font-size=\"12.8\" dy=\"-8.00px\">-3</tspan><tspan font-family=\"sans\"  font-size=\"16.0\" dy=\"8.00px\">$</tspan></text>\n",
              "\t</g>\n",
              "</g>\n",
              "<g fill=\"none\" color=\"black\" stroke=\"currentColor\" stroke-width=\"1.00\" stroke-linecap=\"butt\" stroke-linejoin=\"miter\">\n",
              "\t<path stroke='black'  d='M62.2,484.5 L66.7,484.5 M750.1,484.5 L745.6,484.5 M62.2,438.1 L66.7,438.1 M750.1,438.1 L745.6,438.1\n",
              "\t\tM62.2,405.1 L66.7,405.1 M750.1,405.1 L745.6,405.1 M62.2,379.5 L66.7,379.5 M750.1,379.5 L745.6,379.5\n",
              "\t\tM62.2,358.6 L66.7,358.6 M750.1,358.6 L745.6,358.6 M62.2,340.9 L66.7,340.9 M750.1,340.9 L745.6,340.9\n",
              "\t\tM62.2,325.6 L66.7,325.6 M750.1,325.6 L745.6,325.6 M62.2,312.1 L66.7,312.1 M750.1,312.1 L745.6,312.1\n",
              "\t\tM62.2,300.0 L71.2,300.0 M750.1,300.0 L741.1,300.0  '/>\t<g transform=\"translate(53.9,306.0)\" stroke=\"none\" fill=\"black\" font-family=\"sans\" font-size=\"16.00\"  text-anchor=\"end\">\n",
              "\t\t<text><tspan font-family=\"sans\" >$10</tspan><tspan font-family=\"sans\"  font-size=\"12.8\" dy=\"-8.00px\">-2</tspan><tspan font-family=\"sans\"  font-size=\"16.0\" dy=\"8.00px\">$</tspan></text>\n",
              "\t</g>\n",
              "</g>\n",
              "<g fill=\"none\" color=\"black\" stroke=\"currentColor\" stroke-width=\"1.00\" stroke-linecap=\"butt\" stroke-linejoin=\"miter\">\n",
              "\t<path stroke='black'  d='M62.2,220.6 L66.7,220.6 M750.1,220.6 L745.6,220.6 M62.2,174.1 L66.7,174.1 M750.1,174.1 L745.6,174.1\n",
              "\t\tM62.2,141.1 L66.7,141.1 M750.1,141.1 L745.6,141.1 M62.2,115.6 L66.7,115.6 M750.1,115.6 L745.6,115.6\n",
              "\t\tM62.2,94.7 L66.7,94.7 M750.1,94.7 L745.6,94.7 M62.2,77.0 L66.7,77.0 M750.1,77.0 L745.6,77.0\n",
              "\t\tM62.2,61.7 L66.7,61.7 M750.1,61.7 L745.6,61.7 M62.2,48.2 L66.7,48.2 M750.1,48.2 L745.6,48.2\n",
              "\t\tM62.2,36.1 L71.2,36.1 M750.1,36.1 L741.1,36.1  '/>\t<g transform=\"translate(53.9,42.1)\" stroke=\"none\" fill=\"black\" font-family=\"sans\" font-size=\"16.00\"  text-anchor=\"end\">\n",
              "\t\t<text><tspan font-family=\"sans\" >$10</tspan><tspan font-family=\"sans\"  font-size=\"12.8\" dy=\"-8.00px\">-1</tspan><tspan font-family=\"sans\"  font-size=\"16.0\" dy=\"8.00px\">$</tspan></text>\n",
              "\t</g>\n",
              "</g>\n",
              "<g fill=\"none\" color=\"black\" stroke=\"currentColor\" stroke-width=\"1.00\" stroke-linecap=\"butt\" stroke-linejoin=\"miter\">\n",
              "\t<path stroke='black'  d='M62.2,564.0 L62.2,555.0 M62.2,36.1 L62.2,45.1  '/>\t<g transform=\"translate(62.2,595.2)\" stroke=\"none\" fill=\"black\" font-family=\"sans\" font-size=\"16.00\"  text-anchor=\"middle\">\n",
              "\t\t<text><tspan font-family=\"sans\" >$10</tspan><tspan font-family=\"sans\"  font-size=\"12.8\" dy=\"-8.00px\">-2</tspan><tspan font-family=\"sans\"  font-size=\"16.0\" dy=\"8.00px\">$</tspan></text>\n",
              "\t</g>\n",
              "</g>\n",
              "<g fill=\"none\" color=\"black\" stroke=\"currentColor\" stroke-width=\"1.00\" stroke-linecap=\"butt\" stroke-linejoin=\"miter\">\n",
              "\t<path stroke='black'  d='M165.7,564.0 L165.7,559.5 M165.7,36.1 L165.7,40.6 M226.3,564.0 L226.3,559.5 M226.3,36.1 L226.3,40.6\n",
              "\t\tM269.3,564.0 L269.3,559.5 M269.3,36.1 L269.3,40.6 M302.6,564.0 L302.6,559.5 M302.6,36.1 L302.6,40.6\n",
              "\t\tM329.8,564.0 L329.8,559.5 M329.8,36.1 L329.8,40.6 M352.9,564.0 L352.9,559.5 M352.9,36.1 L352.9,40.6\n",
              "\t\tM372.8,564.0 L372.8,559.5 M372.8,36.1 L372.8,40.6 M390.4,564.0 L390.4,559.5 M390.4,36.1 L390.4,40.6\n",
              "\t\tM406.2,564.0 L406.2,555.0 M406.2,36.1 L406.2,45.1  '/>\t<g transform=\"translate(406.2,595.2)\" stroke=\"none\" fill=\"black\" font-family=\"sans\" font-size=\"16.00\"  text-anchor=\"middle\">\n",
              "\t\t<text><tspan font-family=\"sans\" >$10</tspan><tspan font-family=\"sans\"  font-size=\"12.8\" dy=\"-8.00px\">-1</tspan><tspan font-family=\"sans\"  font-size=\"16.0\" dy=\"8.00px\">$</tspan></text>\n",
              "\t</g>\n",
              "</g>\n",
              "<g fill=\"none\" color=\"black\" stroke=\"currentColor\" stroke-width=\"1.00\" stroke-linecap=\"butt\" stroke-linejoin=\"miter\">\n",
              "\t<path stroke='black'  d='M509.7,564.0 L509.7,559.5 M509.7,36.1 L509.7,40.6 M570.3,564.0 L570.3,559.5 M570.3,36.1 L570.3,40.6\n",
              "\t\tM613.2,564.0 L613.2,559.5 M613.2,36.1 L613.2,40.6 M646.6,564.0 L646.6,559.5 M646.6,36.1 L646.6,40.6\n",
              "\t\tM673.8,564.0 L673.8,559.5 M673.8,36.1 L673.8,40.6 M696.8,564.0 L696.8,559.5 M696.8,36.1 L696.8,40.6\n",
              "\t\tM716.8,564.0 L716.8,559.5 M716.8,36.1 L716.8,40.6 M734.4,564.0 L734.4,559.5 M734.4,36.1 L734.4,40.6\n",
              "\t\tM750.1,564.0 L750.1,555.0 M750.1,36.1 L750.1,45.1  '/>\t<g transform=\"translate(750.1,595.2)\" stroke=\"none\" fill=\"black\" font-family=\"sans\" font-size=\"16.00\"  text-anchor=\"middle\">\n",
              "\t\t<text><tspan font-family=\"sans\" >$10</tspan><tspan font-family=\"sans\"  font-size=\"12.8\" dy=\"-8.00px\">0</tspan><tspan font-family=\"sans\"  font-size=\"16.0\" dy=\"8.00px\">$</tspan></text>\n",
              "\t</g>\n",
              "</g>\n",
              "<g fill=\"none\" color=\"black\" stroke=\"currentColor\" stroke-width=\"1.00\" stroke-linecap=\"butt\" stroke-linejoin=\"miter\">\n",
              "\t<path stroke='black'  d='M750.1,564.0 L741.1,564.0  '/>\t<g transform=\"translate(758.4,568.5)\" stroke=\"none\" fill=\"black\" font-family=\"Arial\" font-size=\"12.00\"  text-anchor=\"start\">\n",
              "\t\t<text><tspan font-family=\"Arial\" > </tspan></text>\n",
              "\t</g>\n",
              "</g>\n",
              "<g fill=\"none\" color=\"black\" stroke=\"currentColor\" stroke-width=\"1.00\" stroke-linecap=\"butt\" stroke-linejoin=\"miter\">\n",
              "\t<path stroke='black'  d='M750.1,511.2 L741.1,511.2  '/>\t<g transform=\"translate(758.4,515.7)\" stroke=\"none\" fill=\"black\" font-family=\"Arial\" font-size=\"12.00\"  text-anchor=\"start\">\n",
              "\t\t<text><tspan font-family=\"Arial\" > </tspan></text>\n",
              "\t</g>\n",
              "</g>\n",
              "<g fill=\"none\" color=\"black\" stroke=\"currentColor\" stroke-width=\"1.00\" stroke-linecap=\"butt\" stroke-linejoin=\"miter\">\n",
              "\t<path stroke='black'  d='M750.1,458.4 L741.1,458.4  '/>\t<g transform=\"translate(758.4,462.9)\" stroke=\"none\" fill=\"black\" font-family=\"Arial\" font-size=\"12.00\"  text-anchor=\"start\">\n",
              "\t\t<text><tspan font-family=\"Arial\" > </tspan></text>\n",
              "\t</g>\n",
              "</g>\n",
              "<g fill=\"none\" color=\"black\" stroke=\"currentColor\" stroke-width=\"1.00\" stroke-linecap=\"butt\" stroke-linejoin=\"miter\">\n",
              "\t<path stroke='black'  d='M750.1,405.6 L741.1,405.6  '/>\t<g transform=\"translate(758.4,410.1)\" stroke=\"none\" fill=\"black\" font-family=\"Arial\" font-size=\"12.00\"  text-anchor=\"start\">\n",
              "\t\t<text><tspan font-family=\"Arial\" > </tspan></text>\n",
              "\t</g>\n",
              "</g>\n",
              "<g fill=\"none\" color=\"black\" stroke=\"currentColor\" stroke-width=\"1.00\" stroke-linecap=\"butt\" stroke-linejoin=\"miter\">\n",
              "\t<path stroke='black'  d='M750.1,352.8 L741.1,352.8  '/>\t<g transform=\"translate(758.4,357.3)\" stroke=\"none\" fill=\"black\" font-family=\"Arial\" font-size=\"12.00\"  text-anchor=\"start\">\n",
              "\t\t<text><tspan font-family=\"Arial\" > </tspan></text>\n",
              "\t</g>\n",
              "</g>\n",
              "<g fill=\"none\" color=\"black\" stroke=\"currentColor\" stroke-width=\"1.00\" stroke-linecap=\"butt\" stroke-linejoin=\"miter\">\n",
              "\t<path stroke='black'  d='M750.1,300.0 L741.1,300.0  '/>\t<g transform=\"translate(758.4,304.5)\" stroke=\"none\" fill=\"black\" font-family=\"Arial\" font-size=\"12.00\"  text-anchor=\"start\">\n",
              "\t\t<text><tspan font-family=\"Arial\" > </tspan></text>\n",
              "\t</g>\n",
              "</g>\n",
              "<g fill=\"none\" color=\"black\" stroke=\"currentColor\" stroke-width=\"1.00\" stroke-linecap=\"butt\" stroke-linejoin=\"miter\">\n",
              "\t<path stroke='black'  d='M750.1,247.3 L741.1,247.3  '/>\t<g transform=\"translate(758.4,251.8)\" stroke=\"none\" fill=\"black\" font-family=\"Arial\" font-size=\"12.00\"  text-anchor=\"start\">\n",
              "\t\t<text><tspan font-family=\"Arial\" > </tspan></text>\n",
              "\t</g>\n",
              "</g>\n",
              "<g fill=\"none\" color=\"black\" stroke=\"currentColor\" stroke-width=\"1.00\" stroke-linecap=\"butt\" stroke-linejoin=\"miter\">\n",
              "\t<path stroke='black'  d='M750.1,194.5 L741.1,194.5  '/>\t<g transform=\"translate(758.4,199.0)\" stroke=\"none\" fill=\"black\" font-family=\"Arial\" font-size=\"12.00\"  text-anchor=\"start\">\n",
              "\t\t<text><tspan font-family=\"Arial\" > </tspan></text>\n",
              "\t</g>\n",
              "</g>\n",
              "<g fill=\"none\" color=\"black\" stroke=\"currentColor\" stroke-width=\"1.00\" stroke-linecap=\"butt\" stroke-linejoin=\"miter\">\n",
              "\t<path stroke='black'  d='M750.1,141.7 L741.1,141.7  '/>\t<g transform=\"translate(758.4,146.2)\" stroke=\"none\" fill=\"black\" font-family=\"Arial\" font-size=\"12.00\"  text-anchor=\"start\">\n",
              "\t\t<text><tspan font-family=\"Arial\" > </tspan></text>\n",
              "\t</g>\n",
              "</g>\n",
              "<g fill=\"none\" color=\"black\" stroke=\"currentColor\" stroke-width=\"1.00\" stroke-linecap=\"butt\" stroke-linejoin=\"miter\">\n",
              "\t<path stroke='black'  d='M750.1,88.9 L741.1,88.9  '/>\t<g transform=\"translate(758.4,93.4)\" stroke=\"none\" fill=\"black\" font-family=\"Arial\" font-size=\"12.00\"  text-anchor=\"start\">\n",
              "\t\t<text><tspan font-family=\"Arial\" > </tspan></text>\n",
              "\t</g>\n",
              "</g>\n",
              "<g fill=\"none\" color=\"black\" stroke=\"currentColor\" stroke-width=\"1.00\" stroke-linecap=\"butt\" stroke-linejoin=\"miter\">\n",
              "\t<path stroke='black'  d='M750.1,36.1 L741.1,36.1  '/>\t<g transform=\"translate(758.4,40.6)\" stroke=\"none\" fill=\"black\" font-family=\"Arial\" font-size=\"12.00\"  text-anchor=\"start\">\n",
              "\t\t<text><tspan font-family=\"Arial\" > </tspan></text>\n",
              "\t</g>\n",
              "</g>\n",
              "<g fill=\"none\" color=\"black\" stroke=\"currentColor\" stroke-width=\"1.00\" stroke-linecap=\"butt\" stroke-linejoin=\"miter\">\n",
              "\t<path stroke='black'  d='M62.2,36.1 L62.2,45.1  '/>\t<g transform=\"translate(62.2,22.6)\" stroke=\"none\" fill=\"black\" font-family=\"Arial\" font-size=\"12.00\"  text-anchor=\"middle\">\n",
              "\t\t<text><tspan font-family=\"Arial\" > </tspan></text>\n",
              "\t</g>\n",
              "</g>\n",
              "<g fill=\"none\" color=\"black\" stroke=\"currentColor\" stroke-width=\"1.00\" stroke-linecap=\"butt\" stroke-linejoin=\"miter\">\n",
              "\t<path stroke='black'  d='M160.5,36.1 L160.5,45.1  '/>\t<g transform=\"translate(160.5,22.6)\" stroke=\"none\" fill=\"black\" font-family=\"Arial\" font-size=\"12.00\"  text-anchor=\"middle\">\n",
              "\t\t<text><tspan font-family=\"Arial\" > </tspan></text>\n",
              "\t</g>\n",
              "</g>\n",
              "<g fill=\"none\" color=\"black\" stroke=\"currentColor\" stroke-width=\"1.00\" stroke-linecap=\"butt\" stroke-linejoin=\"miter\">\n",
              "\t<path stroke='black'  d='M258.7,36.1 L258.7,45.1  '/>\t<g transform=\"translate(258.7,22.6)\" stroke=\"none\" fill=\"black\" font-family=\"Arial\" font-size=\"12.00\"  text-anchor=\"middle\">\n",
              "\t\t<text><tspan font-family=\"Arial\" > </tspan></text>\n",
              "\t</g>\n",
              "</g>\n",
              "<g fill=\"none\" color=\"black\" stroke=\"currentColor\" stroke-width=\"1.00\" stroke-linecap=\"butt\" stroke-linejoin=\"miter\">\n",
              "\t<path stroke='black'  d='M357.0,36.1 L357.0,45.1  '/>\t<g transform=\"translate(357.0,22.6)\" stroke=\"none\" fill=\"black\" font-family=\"Arial\" font-size=\"12.00\"  text-anchor=\"middle\">\n",
              "\t\t<text><tspan font-family=\"Arial\" > </tspan></text>\n",
              "\t</g>\n",
              "</g>\n",
              "<g fill=\"none\" color=\"black\" stroke=\"currentColor\" stroke-width=\"1.00\" stroke-linecap=\"butt\" stroke-linejoin=\"miter\">\n",
              "\t<path stroke='black'  d='M455.3,36.1 L455.3,45.1  '/>\t<g transform=\"translate(455.3,22.6)\" stroke=\"none\" fill=\"black\" font-family=\"Arial\" font-size=\"12.00\"  text-anchor=\"middle\">\n",
              "\t\t<text><tspan font-family=\"Arial\" > </tspan></text>\n",
              "\t</g>\n",
              "</g>\n",
              "<g fill=\"none\" color=\"black\" stroke=\"currentColor\" stroke-width=\"1.00\" stroke-linecap=\"butt\" stroke-linejoin=\"miter\">\n",
              "\t<path stroke='black'  d='M553.6,36.1 L553.6,45.1  '/>\t<g transform=\"translate(553.6,22.6)\" stroke=\"none\" fill=\"black\" font-family=\"Arial\" font-size=\"12.00\"  text-anchor=\"middle\">\n",
              "\t\t<text><tspan font-family=\"Arial\" > </tspan></text>\n",
              "\t</g>\n",
              "</g>\n",
              "<g fill=\"none\" color=\"black\" stroke=\"currentColor\" stroke-width=\"1.00\" stroke-linecap=\"butt\" stroke-linejoin=\"miter\">\n",
              "\t<path stroke='black'  d='M651.8,36.1 L651.8,45.1  '/>\t<g transform=\"translate(651.8,22.6)\" stroke=\"none\" fill=\"black\" font-family=\"Arial\" font-size=\"12.00\"  text-anchor=\"middle\">\n",
              "\t\t<text><tspan font-family=\"Arial\" > </tspan></text>\n",
              "\t</g>\n",
              "</g>\n",
              "<g fill=\"none\" color=\"black\" stroke=\"currentColor\" stroke-width=\"1.00\" stroke-linecap=\"butt\" stroke-linejoin=\"miter\">\n",
              "\t<path stroke='black'  d='M750.1,36.1 L750.1,45.1  '/>\t<g transform=\"translate(750.1,22.6)\" stroke=\"none\" fill=\"black\" font-family=\"Arial\" font-size=\"12.00\"  text-anchor=\"middle\">\n",
              "\t\t<text><tspan font-family=\"Arial\" > </tspan></text>\n",
              "\t</g>\n",
              "</g>\n",
              "<g fill=\"none\" color=\"black\" stroke=\"currentColor\" stroke-width=\"1.00\" stroke-linecap=\"butt\" stroke-linejoin=\"miter\">\n",
              "</g>\n",
              "<g fill=\"none\" color=\"black\" stroke=\"currentColor\" stroke-width=\"1.00\" stroke-linecap=\"butt\" stroke-linejoin=\"miter\">\n",
              "\t<path stroke='black'  d='M62.2,36.1 L62.2,564.0 L750.1,564.0 L750.1,36.1 L62.2,36.1 Z  '/></g>\n",
              "<g fill=\"none\" color=\"black\" stroke=\"currentColor\" stroke-width=\"1.00\" stroke-linecap=\"butt\" stroke-linejoin=\"miter\">\n",
              "</g>\n",
              "\t<g id=\"gnuplot_plot_1\" ><title>DGdegree:Velocity*1</title>\n",
              "<g fill=\"none\" color=\"black\" stroke=\"currentColor\" stroke-width=\"1.00\" stroke-linecap=\"butt\" stroke-linejoin=\"miter\">\n",
              "\t<g transform=\"translate(530.9,63.1)\" stroke=\"none\" fill=\"black\" font-family=\"Arial\" font-size=\"16.00\"  text-anchor=\"start\">\n",
              "\t\t<text><tspan font-family=\"Arial\" >DGdegree:Velocity*1</tspan></text>\n",
              "\t</g>\n",
              "</g>\n",
              "<g fill=\"none\" color=\"black\" stroke=\"currentColor\" stroke-width=\"1.00\" stroke-linecap=\"butt\" stroke-linejoin=\"miter\">\n",
              "\t<path stroke='rgb(  0,   0,   0)'  d='M466.4,57.1 L519.8,57.1 M232.4,358.6 L335.9,204.8 L439.5,117.7  '/>\t<use xlink:href='#gpPt6' transform='translate(232.4,358.6) scale(3.15)' color='rgb(  0,   0,   0)'/>\n",
              "\t<use xlink:href='#gpPt6' transform='translate(335.9,204.8) scale(3.15)' color='rgb(  0,   0,   0)'/>\n",
              "\t<use xlink:href='#gpPt6' transform='translate(439.5,117.7) scale(3.15)' color='rgb(  0,   0,   0)'/>\n",
              "\t<use xlink:href='#gpPt6' transform='translate(493.1,57.1) scale(3.15)' color='rgb(  0,   0,   0)'/>\n",
              "</g>\n",
              "\t</g>\n",
              "<g fill=\"none\" color=\"#FFFFFF\" stroke=\"rgb(  0,   0,   0)\" stroke-width=\"2.00\" stroke-linecap=\"butt\" stroke-linejoin=\"miter\">\n",
              "</g>\n",
              "<g fill=\"none\" color=\"black\" stroke=\"currentColor\" stroke-width=\"2.00\" stroke-linecap=\"butt\" stroke-linejoin=\"miter\">\n",
              "</g>\n",
              "<g fill=\"none\" color=\"black\" stroke=\"black\" stroke-width=\"1.00\" stroke-linecap=\"butt\" stroke-linejoin=\"miter\">\n",
              "</g>\n",
              "<g fill=\"none\" color=\"black\" stroke=\"currentColor\" stroke-width=\"1.00\" stroke-linecap=\"butt\" stroke-linejoin=\"miter\">\n",
              "\t<path stroke='black'  d='M62.2,36.1 L62.2,564.0 L750.1,564.0 L750.1,36.1 L62.2,36.1 Z  '/></g>\n",
              "<g fill=\"none\" color=\"black\" stroke=\"currentColor\" stroke-width=\"1.00\" stroke-linecap=\"butt\" stroke-linejoin=\"miter\">\n",
              "</g>\n",
              "</g>\n",
              "</svg>\n",
              "\n"
            ]
          },
          "metadata": {},
          "output_type": "display_data"
        }
      ],
      "source": [
        "var Tab = BoSSSshell.WorkflowMgm.SessionTable;\n",
        "var Tab2 = Tab.ExtractColumns(\"DGdegree:Velocity*\",\"Grid:hMin\",\"Grid:NoOfCells\" ,\"L2Error_VelocityX\");\n",
        "//Extract last point, the one against we are comparing our solutions with\n",
        "Tab2 = Tab2.ExtractRows((iRow,RowEntries)=> Convert.ToInt32(RowEntries[\"Grid:NoOfCells\"]) !=NCellsFinestMesh );\n",
        "var ErrorPlot = Tab2.ToPlot(\"Grid:hMin\",\"L2Error_VelocityX\", \"DGdegree:Velocity*\");\n",
        "ErrorPlot.LogX = true;\n",
        "ErrorPlot.LogY = true;\n",
        "ErrorPlot.PlotNow()     // No semicolon!!"
      ]
    },
    {
      "cell_type": "markdown",
      "metadata": {},
      "source": [
        "## Error convergence study for Velocity-Y"
      ]
    },
    {
      "cell_type": "code",
      "execution_count": null,
      "metadata": {
        "dotnet_interactive": {
          "language": "csharp"
        }
      },
      "outputs": [],
      "source": []
    },
    {
      "cell_type": "code",
      "execution_count": null,
      "metadata": {
        "dotnet_interactive": {
          "language": "csharp"
        }
      },
      "outputs": [
        {
          "name": "stdout",
          "output_type": "stream",
          "text": [
            "Using gnuplot: C:\\Program Files (x86)\\FDY\\BoSSS\\bin\\native\\win\\gnuplot-gp510-20160418-win32-mingw\\gnuplot\\bin\\gnuplot.exe\r\n",
            "set key font \",16\"Left reverse \r\n"
          ]
        },
        {
          "data": {
            "text/html": [
              "<?xml version=\"1.0\" encoding=\"utf-8\"  standalone=\"no\"?>\n",
              "<!DOCTYPE svg PUBLIC \"-//W3C//DTD SVG 1.1//EN\"\n",
              " \"http://www.w3.org/Graphics/SVG/1.1/DTD/svg11.dtd\">\n",
              "<svg \n",
              " width=\"800\" height=\"600\"\n",
              " viewBox=\"0 0 800 600\"\n",
              " xmlns=\"http://www.w3.org/2000/svg\"\n",
              " xmlns:xlink=\"http://www.w3.org/1999/xlink\"\n",
              ">\n",
              "\n",
              "<title>Gnuplot</title>\n",
              "<desc>Produced by GNUPLOT 5.1 patchlevel 0 </desc>\n",
              "\n",
              "<g id=\"gnuplot_canvas\">\n",
              "\n",
              "<rect x=\"0\" y=\"0\" width=\"800\" height=\"600\" fill=\"#ffffff\"/>\n",
              "<defs>\n",
              "\n",
              "\t<circle id='gpDot' r='0.5' stroke-width='0.5'/>\n",
              "\t<path id='gpPt0' stroke-width='0.222' stroke='currentColor' d='M-1,0 h2 M0,-1 v2'/>\n",
              "\t<path id='gpPt1' stroke-width='0.222' stroke='currentColor' d='M-1,-1 L1,1 M1,-1 L-1,1'/>\n",
              "\t<path id='gpPt2' stroke-width='0.222' stroke='currentColor' d='M-1,0 L1,0 M0,-1 L0,1 M-1,-1 L1,1 M-1,1 L1,-1'/>\n",
              "\t<rect id='gpPt3' stroke-width='0.222' stroke='currentColor' x='-1' y='-1' width='2' height='2'/>\n",
              "\t<rect id='gpPt4' stroke-width='0.222' stroke='currentColor' fill='currentColor' x='-1' y='-1' width='2' height='2'/>\n",
              "\t<circle id='gpPt5' stroke-width='0.222' stroke='currentColor' cx='0' cy='0' r='1'/>\n",
              "\t<use xlink:href='#gpPt5' id='gpPt6' fill='currentColor' stroke='none'/>\n",
              "\t<path id='gpPt7' stroke-width='0.222' stroke='currentColor' d='M0,-1.33 L-1.33,0.67 L1.33,0.67 z'/>\n",
              "\t<use xlink:href='#gpPt7' id='gpPt8' fill='currentColor' stroke='none'/>\n",
              "\t<use xlink:href='#gpPt7' id='gpPt9' stroke='currentColor' transform='rotate(180)'/>\n",
              "\t<use xlink:href='#gpPt9' id='gpPt10' fill='currentColor' stroke='none'/>\n",
              "\t<use xlink:href='#gpPt3' id='gpPt11' stroke='currentColor' transform='rotate(45)'/>\n",
              "\t<use xlink:href='#gpPt11' id='gpPt12' fill='currentColor' stroke='none'/>\n",
              "\t<path id='gpPt13' stroke-width='0.222' stroke='currentColor' d='M0,1.330 L1.265,0.411 L0.782,-1.067 L-0.782,-1.076 L-1.265,0.411 z'/>\n",
              "\t<use xlink:href='#gpPt13' id='gpPt14' fill='currentColor' stroke='none'/>\n",
              "\t<filter id='textbox' filterUnits='objectBoundingBox' x='0' y='0' height='1' width='1'>\n",
              "\t  <feFlood flood-color='#FFFFFF' flood-opacity='1' result='bgnd'/>\n",
              "\t  <feComposite in='SourceGraphic' in2='bgnd' operator='atop'/>\n",
              "\t</filter>\n",
              "\t<filter id='greybox' filterUnits='objectBoundingBox' x='0' y='0' height='1' width='1'>\n",
              "\t  <feFlood flood-color='lightgrey' flood-opacity='1' result='grey'/>\n",
              "\t  <feComposite in='SourceGraphic' in2='grey' operator='atop'/>\n",
              "\t</filter>\n",
              "</defs>\n",
              "<g fill=\"none\" color=\"#FFFFFF\" stroke=\"currentColor\" stroke-width=\"1.00\" stroke-linecap=\"butt\" stroke-linejoin=\"miter\">\n",
              "</g>\n",
              "<g fill=\"none\" color=\"black\" stroke=\"currentColor\" stroke-width=\"1.00\" stroke-linecap=\"butt\" stroke-linejoin=\"miter\">\n",
              "\t<path stroke='black'  d='M62.2,564.0 L71.2,564.0 M750.1,564.0 L741.1,564.0  '/>\t<g transform=\"translate(53.9,570.0)\" stroke=\"none\" fill=\"black\" font-family=\"sans\" font-size=\"16.00\"  text-anchor=\"end\">\n",
              "\t\t<text><tspan font-family=\"sans\" >$10</tspan><tspan font-family=\"sans\"  font-size=\"12.8\" dy=\"-8.00px\">-3</tspan><tspan font-family=\"sans\"  font-size=\"16.0\" dy=\"8.00px\">$</tspan></text>\n",
              "\t</g>\n",
              "</g>\n",
              "<g fill=\"none\" color=\"black\" stroke=\"currentColor\" stroke-width=\"1.00\" stroke-linecap=\"butt\" stroke-linejoin=\"miter\">\n",
              "\t<path stroke='black'  d='M62.2,484.5 L66.7,484.5 M750.1,484.5 L745.6,484.5 M62.2,438.1 L66.7,438.1 M750.1,438.1 L745.6,438.1\n",
              "\t\tM62.2,405.1 L66.7,405.1 M750.1,405.1 L745.6,405.1 M62.2,379.5 L66.7,379.5 M750.1,379.5 L745.6,379.5\n",
              "\t\tM62.2,358.6 L66.7,358.6 M750.1,358.6 L745.6,358.6 M62.2,340.9 L66.7,340.9 M750.1,340.9 L745.6,340.9\n",
              "\t\tM62.2,325.6 L66.7,325.6 M750.1,325.6 L745.6,325.6 M62.2,312.1 L66.7,312.1 M750.1,312.1 L745.6,312.1\n",
              "\t\tM62.2,300.0 L71.2,300.0 M750.1,300.0 L741.1,300.0  '/>\t<g transform=\"translate(53.9,306.0)\" stroke=\"none\" fill=\"black\" font-family=\"sans\" font-size=\"16.00\"  text-anchor=\"end\">\n",
              "\t\t<text><tspan font-family=\"sans\" >$10</tspan><tspan font-family=\"sans\"  font-size=\"12.8\" dy=\"-8.00px\">-2</tspan><tspan font-family=\"sans\"  font-size=\"16.0\" dy=\"8.00px\">$</tspan></text>\n",
              "\t</g>\n",
              "</g>\n",
              "<g fill=\"none\" color=\"black\" stroke=\"currentColor\" stroke-width=\"1.00\" stroke-linecap=\"butt\" stroke-linejoin=\"miter\">\n",
              "\t<path stroke='black'  d='M62.2,220.6 L66.7,220.6 M750.1,220.6 L745.6,220.6 M62.2,174.1 L66.7,174.1 M750.1,174.1 L745.6,174.1\n",
              "\t\tM62.2,141.1 L66.7,141.1 M750.1,141.1 L745.6,141.1 M62.2,115.6 L66.7,115.6 M750.1,115.6 L745.6,115.6\n",
              "\t\tM62.2,94.7 L66.7,94.7 M750.1,94.7 L745.6,94.7 M62.2,77.0 L66.7,77.0 M750.1,77.0 L745.6,77.0\n",
              "\t\tM62.2,61.7 L66.7,61.7 M750.1,61.7 L745.6,61.7 M62.2,48.2 L66.7,48.2 M750.1,48.2 L745.6,48.2\n",
              "\t\tM62.2,36.1 L71.2,36.1 M750.1,36.1 L741.1,36.1  '/>\t<g transform=\"translate(53.9,42.1)\" stroke=\"none\" fill=\"black\" font-family=\"sans\" font-size=\"16.00\"  text-anchor=\"end\">\n",
              "\t\t<text><tspan font-family=\"sans\" >$10</tspan><tspan font-family=\"sans\"  font-size=\"12.8\" dy=\"-8.00px\">-1</tspan><tspan font-family=\"sans\"  font-size=\"16.0\" dy=\"8.00px\">$</tspan></text>\n",
              "\t</g>\n",
              "</g>\n",
              "<g fill=\"none\" color=\"black\" stroke=\"currentColor\" stroke-width=\"1.00\" stroke-linecap=\"butt\" stroke-linejoin=\"miter\">\n",
              "\t<path stroke='black'  d='M62.2,564.0 L62.2,555.0 M62.2,36.1 L62.2,45.1  '/>\t<g transform=\"translate(62.2,595.2)\" stroke=\"none\" fill=\"black\" font-family=\"sans\" font-size=\"16.00\"  text-anchor=\"middle\">\n",
              "\t\t<text><tspan font-family=\"sans\" >$10</tspan><tspan font-family=\"sans\"  font-size=\"12.8\" dy=\"-8.00px\">-2</tspan><tspan font-family=\"sans\"  font-size=\"16.0\" dy=\"8.00px\">$</tspan></text>\n",
              "\t</g>\n",
              "</g>\n",
              "<g fill=\"none\" color=\"black\" stroke=\"currentColor\" stroke-width=\"1.00\" stroke-linecap=\"butt\" stroke-linejoin=\"miter\">\n",
              "\t<path stroke='black'  d='M165.7,564.0 L165.7,559.5 M165.7,36.1 L165.7,40.6 M226.3,564.0 L226.3,559.5 M226.3,36.1 L226.3,40.6\n",
              "\t\tM269.3,564.0 L269.3,559.5 M269.3,36.1 L269.3,40.6 M302.6,564.0 L302.6,559.5 M302.6,36.1 L302.6,40.6\n",
              "\t\tM329.8,564.0 L329.8,559.5 M329.8,36.1 L329.8,40.6 M352.9,564.0 L352.9,559.5 M352.9,36.1 L352.9,40.6\n",
              "\t\tM372.8,564.0 L372.8,559.5 M372.8,36.1 L372.8,40.6 M390.4,564.0 L390.4,559.5 M390.4,36.1 L390.4,40.6\n",
              "\t\tM406.2,564.0 L406.2,555.0 M406.2,36.1 L406.2,45.1  '/>\t<g transform=\"translate(406.2,595.2)\" stroke=\"none\" fill=\"black\" font-family=\"sans\" font-size=\"16.00\"  text-anchor=\"middle\">\n",
              "\t\t<text><tspan font-family=\"sans\" >$10</tspan><tspan font-family=\"sans\"  font-size=\"12.8\" dy=\"-8.00px\">-1</tspan><tspan font-family=\"sans\"  font-size=\"16.0\" dy=\"8.00px\">$</tspan></text>\n",
              "\t</g>\n",
              "</g>\n",
              "<g fill=\"none\" color=\"black\" stroke=\"currentColor\" stroke-width=\"1.00\" stroke-linecap=\"butt\" stroke-linejoin=\"miter\">\n",
              "\t<path stroke='black'  d='M509.7,564.0 L509.7,559.5 M509.7,36.1 L509.7,40.6 M570.3,564.0 L570.3,559.5 M570.3,36.1 L570.3,40.6\n",
              "\t\tM613.2,564.0 L613.2,559.5 M613.2,36.1 L613.2,40.6 M646.6,564.0 L646.6,559.5 M646.6,36.1 L646.6,40.6\n",
              "\t\tM673.8,564.0 L673.8,559.5 M673.8,36.1 L673.8,40.6 M696.8,564.0 L696.8,559.5 M696.8,36.1 L696.8,40.6\n",
              "\t\tM716.8,564.0 L716.8,559.5 M716.8,36.1 L716.8,40.6 M734.4,564.0 L734.4,559.5 M734.4,36.1 L734.4,40.6\n",
              "\t\tM750.1,564.0 L750.1,555.0 M750.1,36.1 L750.1,45.1  '/>\t<g transform=\"translate(750.1,595.2)\" stroke=\"none\" fill=\"black\" font-family=\"sans\" font-size=\"16.00\"  text-anchor=\"middle\">\n",
              "\t\t<text><tspan font-family=\"sans\" >$10</tspan><tspan font-family=\"sans\"  font-size=\"12.8\" dy=\"-8.00px\">0</tspan><tspan font-family=\"sans\"  font-size=\"16.0\" dy=\"8.00px\">$</tspan></text>\n",
              "\t</g>\n",
              "</g>\n",
              "<g fill=\"none\" color=\"black\" stroke=\"currentColor\" stroke-width=\"1.00\" stroke-linecap=\"butt\" stroke-linejoin=\"miter\">\n",
              "\t<path stroke='black'  d='M750.1,564.0 L741.1,564.0  '/>\t<g transform=\"translate(758.4,568.5)\" stroke=\"none\" fill=\"black\" font-family=\"Arial\" font-size=\"12.00\"  text-anchor=\"start\">\n",
              "\t\t<text><tspan font-family=\"Arial\" > </tspan></text>\n",
              "\t</g>\n",
              "</g>\n",
              "<g fill=\"none\" color=\"black\" stroke=\"currentColor\" stroke-width=\"1.00\" stroke-linecap=\"butt\" stroke-linejoin=\"miter\">\n",
              "\t<path stroke='black'  d='M750.1,511.2 L741.1,511.2  '/>\t<g transform=\"translate(758.4,515.7)\" stroke=\"none\" fill=\"black\" font-family=\"Arial\" font-size=\"12.00\"  text-anchor=\"start\">\n",
              "\t\t<text><tspan font-family=\"Arial\" > </tspan></text>\n",
              "\t</g>\n",
              "</g>\n",
              "<g fill=\"none\" color=\"black\" stroke=\"currentColor\" stroke-width=\"1.00\" stroke-linecap=\"butt\" stroke-linejoin=\"miter\">\n",
              "\t<path stroke='black'  d='M750.1,458.4 L741.1,458.4  '/>\t<g transform=\"translate(758.4,462.9)\" stroke=\"none\" fill=\"black\" font-family=\"Arial\" font-size=\"12.00\"  text-anchor=\"start\">\n",
              "\t\t<text><tspan font-family=\"Arial\" > </tspan></text>\n",
              "\t</g>\n",
              "</g>\n",
              "<g fill=\"none\" color=\"black\" stroke=\"currentColor\" stroke-width=\"1.00\" stroke-linecap=\"butt\" stroke-linejoin=\"miter\">\n",
              "\t<path stroke='black'  d='M750.1,405.6 L741.1,405.6  '/>\t<g transform=\"translate(758.4,410.1)\" stroke=\"none\" fill=\"black\" font-family=\"Arial\" font-size=\"12.00\"  text-anchor=\"start\">\n",
              "\t\t<text><tspan font-family=\"Arial\" > </tspan></text>\n",
              "\t</g>\n",
              "</g>\n",
              "<g fill=\"none\" color=\"black\" stroke=\"currentColor\" stroke-width=\"1.00\" stroke-linecap=\"butt\" stroke-linejoin=\"miter\">\n",
              "\t<path stroke='black'  d='M750.1,352.8 L741.1,352.8  '/>\t<g transform=\"translate(758.4,357.3)\" stroke=\"none\" fill=\"black\" font-family=\"Arial\" font-size=\"12.00\"  text-anchor=\"start\">\n",
              "\t\t<text><tspan font-family=\"Arial\" > </tspan></text>\n",
              "\t</g>\n",
              "</g>\n",
              "<g fill=\"none\" color=\"black\" stroke=\"currentColor\" stroke-width=\"1.00\" stroke-linecap=\"butt\" stroke-linejoin=\"miter\">\n",
              "\t<path stroke='black'  d='M750.1,300.0 L741.1,300.0  '/>\t<g transform=\"translate(758.4,304.5)\" stroke=\"none\" fill=\"black\" font-family=\"Arial\" font-size=\"12.00\"  text-anchor=\"start\">\n",
              "\t\t<text><tspan font-family=\"Arial\" > </tspan></text>\n",
              "\t</g>\n",
              "</g>\n",
              "<g fill=\"none\" color=\"black\" stroke=\"currentColor\" stroke-width=\"1.00\" stroke-linecap=\"butt\" stroke-linejoin=\"miter\">\n",
              "\t<path stroke='black'  d='M750.1,247.3 L741.1,247.3  '/>\t<g transform=\"translate(758.4,251.8)\" stroke=\"none\" fill=\"black\" font-family=\"Arial\" font-size=\"12.00\"  text-anchor=\"start\">\n",
              "\t\t<text><tspan font-family=\"Arial\" > </tspan></text>\n",
              "\t</g>\n",
              "</g>\n",
              "<g fill=\"none\" color=\"black\" stroke=\"currentColor\" stroke-width=\"1.00\" stroke-linecap=\"butt\" stroke-linejoin=\"miter\">\n",
              "\t<path stroke='black'  d='M750.1,194.5 L741.1,194.5  '/>\t<g transform=\"translate(758.4,199.0)\" stroke=\"none\" fill=\"black\" font-family=\"Arial\" font-size=\"12.00\"  text-anchor=\"start\">\n",
              "\t\t<text><tspan font-family=\"Arial\" > </tspan></text>\n",
              "\t</g>\n",
              "</g>\n",
              "<g fill=\"none\" color=\"black\" stroke=\"currentColor\" stroke-width=\"1.00\" stroke-linecap=\"butt\" stroke-linejoin=\"miter\">\n",
              "\t<path stroke='black'  d='M750.1,141.7 L741.1,141.7  '/>\t<g transform=\"translate(758.4,146.2)\" stroke=\"none\" fill=\"black\" font-family=\"Arial\" font-size=\"12.00\"  text-anchor=\"start\">\n",
              "\t\t<text><tspan font-family=\"Arial\" > </tspan></text>\n",
              "\t</g>\n",
              "</g>\n",
              "<g fill=\"none\" color=\"black\" stroke=\"currentColor\" stroke-width=\"1.00\" stroke-linecap=\"butt\" stroke-linejoin=\"miter\">\n",
              "\t<path stroke='black'  d='M750.1,88.9 L741.1,88.9  '/>\t<g transform=\"translate(758.4,93.4)\" stroke=\"none\" fill=\"black\" font-family=\"Arial\" font-size=\"12.00\"  text-anchor=\"start\">\n",
              "\t\t<text><tspan font-family=\"Arial\" > </tspan></text>\n",
              "\t</g>\n",
              "</g>\n",
              "<g fill=\"none\" color=\"black\" stroke=\"currentColor\" stroke-width=\"1.00\" stroke-linecap=\"butt\" stroke-linejoin=\"miter\">\n",
              "\t<path stroke='black'  d='M750.1,36.1 L741.1,36.1  '/>\t<g transform=\"translate(758.4,40.6)\" stroke=\"none\" fill=\"black\" font-family=\"Arial\" font-size=\"12.00\"  text-anchor=\"start\">\n",
              "\t\t<text><tspan font-family=\"Arial\" > </tspan></text>\n",
              "\t</g>\n",
              "</g>\n",
              "<g fill=\"none\" color=\"black\" stroke=\"currentColor\" stroke-width=\"1.00\" stroke-linecap=\"butt\" stroke-linejoin=\"miter\">\n",
              "\t<path stroke='black'  d='M62.2,36.1 L62.2,45.1  '/>\t<g transform=\"translate(62.2,22.6)\" stroke=\"none\" fill=\"black\" font-family=\"Arial\" font-size=\"12.00\"  text-anchor=\"middle\">\n",
              "\t\t<text><tspan font-family=\"Arial\" > </tspan></text>\n",
              "\t</g>\n",
              "</g>\n",
              "<g fill=\"none\" color=\"black\" stroke=\"currentColor\" stroke-width=\"1.00\" stroke-linecap=\"butt\" stroke-linejoin=\"miter\">\n",
              "\t<path stroke='black'  d='M160.5,36.1 L160.5,45.1  '/>\t<g transform=\"translate(160.5,22.6)\" stroke=\"none\" fill=\"black\" font-family=\"Arial\" font-size=\"12.00\"  text-anchor=\"middle\">\n",
              "\t\t<text><tspan font-family=\"Arial\" > </tspan></text>\n",
              "\t</g>\n",
              "</g>\n",
              "<g fill=\"none\" color=\"black\" stroke=\"currentColor\" stroke-width=\"1.00\" stroke-linecap=\"butt\" stroke-linejoin=\"miter\">\n",
              "\t<path stroke='black'  d='M258.7,36.1 L258.7,45.1  '/>\t<g transform=\"translate(258.7,22.6)\" stroke=\"none\" fill=\"black\" font-family=\"Arial\" font-size=\"12.00\"  text-anchor=\"middle\">\n",
              "\t\t<text><tspan font-family=\"Arial\" > </tspan></text>\n",
              "\t</g>\n",
              "</g>\n",
              "<g fill=\"none\" color=\"black\" stroke=\"currentColor\" stroke-width=\"1.00\" stroke-linecap=\"butt\" stroke-linejoin=\"miter\">\n",
              "\t<path stroke='black'  d='M357.0,36.1 L357.0,45.1  '/>\t<g transform=\"translate(357.0,22.6)\" stroke=\"none\" fill=\"black\" font-family=\"Arial\" font-size=\"12.00\"  text-anchor=\"middle\">\n",
              "\t\t<text><tspan font-family=\"Arial\" > </tspan></text>\n",
              "\t</g>\n",
              "</g>\n",
              "<g fill=\"none\" color=\"black\" stroke=\"currentColor\" stroke-width=\"1.00\" stroke-linecap=\"butt\" stroke-linejoin=\"miter\">\n",
              "\t<path stroke='black'  d='M455.3,36.1 L455.3,45.1  '/>\t<g transform=\"translate(455.3,22.6)\" stroke=\"none\" fill=\"black\" font-family=\"Arial\" font-size=\"12.00\"  text-anchor=\"middle\">\n",
              "\t\t<text><tspan font-family=\"Arial\" > </tspan></text>\n",
              "\t</g>\n",
              "</g>\n",
              "<g fill=\"none\" color=\"black\" stroke=\"currentColor\" stroke-width=\"1.00\" stroke-linecap=\"butt\" stroke-linejoin=\"miter\">\n",
              "\t<path stroke='black'  d='M553.6,36.1 L553.6,45.1  '/>\t<g transform=\"translate(553.6,22.6)\" stroke=\"none\" fill=\"black\" font-family=\"Arial\" font-size=\"12.00\"  text-anchor=\"middle\">\n",
              "\t\t<text><tspan font-family=\"Arial\" > </tspan></text>\n",
              "\t</g>\n",
              "</g>\n",
              "<g fill=\"none\" color=\"black\" stroke=\"currentColor\" stroke-width=\"1.00\" stroke-linecap=\"butt\" stroke-linejoin=\"miter\">\n",
              "\t<path stroke='black'  d='M651.8,36.1 L651.8,45.1  '/>\t<g transform=\"translate(651.8,22.6)\" stroke=\"none\" fill=\"black\" font-family=\"Arial\" font-size=\"12.00\"  text-anchor=\"middle\">\n",
              "\t\t<text><tspan font-family=\"Arial\" > </tspan></text>\n",
              "\t</g>\n",
              "</g>\n",
              "<g fill=\"none\" color=\"black\" stroke=\"currentColor\" stroke-width=\"1.00\" stroke-linecap=\"butt\" stroke-linejoin=\"miter\">\n",
              "\t<path stroke='black'  d='M750.1,36.1 L750.1,45.1  '/>\t<g transform=\"translate(750.1,22.6)\" stroke=\"none\" fill=\"black\" font-family=\"Arial\" font-size=\"12.00\"  text-anchor=\"middle\">\n",
              "\t\t<text><tspan font-family=\"Arial\" > </tspan></text>\n",
              "\t</g>\n",
              "</g>\n",
              "<g fill=\"none\" color=\"black\" stroke=\"currentColor\" stroke-width=\"1.00\" stroke-linecap=\"butt\" stroke-linejoin=\"miter\">\n",
              "</g>\n",
              "<g fill=\"none\" color=\"black\" stroke=\"currentColor\" stroke-width=\"1.00\" stroke-linecap=\"butt\" stroke-linejoin=\"miter\">\n",
              "\t<path stroke='black'  d='M62.2,36.1 L62.2,564.0 L750.1,564.0 L750.1,36.1 L62.2,36.1 Z  '/></g>\n",
              "<g fill=\"none\" color=\"black\" stroke=\"currentColor\" stroke-width=\"1.00\" stroke-linecap=\"butt\" stroke-linejoin=\"miter\">\n",
              "</g>\n",
              "\t<g id=\"gnuplot_plot_1\" ><title>DGdegree:Velocity*1</title>\n",
              "<g fill=\"none\" color=\"black\" stroke=\"currentColor\" stroke-width=\"1.00\" stroke-linecap=\"butt\" stroke-linejoin=\"miter\">\n",
              "\t<g transform=\"translate(530.9,63.1)\" stroke=\"none\" fill=\"black\" font-family=\"Arial\" font-size=\"16.00\"  text-anchor=\"start\">\n",
              "\t\t<text><tspan font-family=\"Arial\" >DGdegree:Velocity*1</tspan></text>\n",
              "\t</g>\n",
              "</g>\n",
              "<g fill=\"none\" color=\"black\" stroke=\"currentColor\" stroke-width=\"1.00\" stroke-linecap=\"butt\" stroke-linejoin=\"miter\">\n",
              "\t<path stroke='rgb(  0,   0,   0)'  d='M466.4,57.1 L519.8,57.1 M232.4,356.0 L335.9,202.9 L439.5,115.9  '/>\t<use xlink:href='#gpPt6' transform='translate(232.4,356.0) scale(3.15)' color='rgb(  0,   0,   0)'/>\n",
              "\t<use xlink:href='#gpPt6' transform='translate(335.9,202.9) scale(3.15)' color='rgb(  0,   0,   0)'/>\n",
              "\t<use xlink:href='#gpPt6' transform='translate(439.5,115.9) scale(3.15)' color='rgb(  0,   0,   0)'/>\n",
              "\t<use xlink:href='#gpPt6' transform='translate(493.1,57.1) scale(3.15)' color='rgb(  0,   0,   0)'/>\n",
              "</g>\n",
              "\t</g>\n",
              "<g fill=\"none\" color=\"#FFFFFF\" stroke=\"rgb(  0,   0,   0)\" stroke-width=\"2.00\" stroke-linecap=\"butt\" stroke-linejoin=\"miter\">\n",
              "</g>\n",
              "<g fill=\"none\" color=\"black\" stroke=\"currentColor\" stroke-width=\"2.00\" stroke-linecap=\"butt\" stroke-linejoin=\"miter\">\n",
              "</g>\n",
              "<g fill=\"none\" color=\"black\" stroke=\"black\" stroke-width=\"1.00\" stroke-linecap=\"butt\" stroke-linejoin=\"miter\">\n",
              "</g>\n",
              "<g fill=\"none\" color=\"black\" stroke=\"currentColor\" stroke-width=\"1.00\" stroke-linecap=\"butt\" stroke-linejoin=\"miter\">\n",
              "\t<path stroke='black'  d='M62.2,36.1 L62.2,564.0 L750.1,564.0 L750.1,36.1 L62.2,36.1 Z  '/></g>\n",
              "<g fill=\"none\" color=\"black\" stroke=\"currentColor\" stroke-width=\"1.00\" stroke-linecap=\"butt\" stroke-linejoin=\"miter\">\n",
              "</g>\n",
              "</g>\n",
              "</svg>\n",
              "\n"
            ]
          },
          "metadata": {},
          "output_type": "display_data"
        }
      ],
      "source": [
        "var Tab = BoSSSshell.WorkflowMgm.SessionTable;\n",
        "var Tab2 = Tab.ExtractColumns(\"DGdegree:Velocity*\",\"Grid:hMin\",\"Grid:NoOfCells\" ,\"L2Error_VelocityY\");\n",
        "//Extract last point, the one against we are comparing our solutions with\n",
        "Tab2 = Tab2.ExtractRows((iRow,RowEntries)=> Convert.ToInt32(RowEntries[\"Grid:NoOfCells\"]) !=NCellsFinestMesh );\n",
        "var ErrorPlot = Tab2.ToPlot(\"Grid:hMin\",\"L2Error_VelocityY\", \"DGdegree:Velocity*\");\n",
        "ErrorPlot.LogX = true;\n",
        "ErrorPlot.LogY = true;\n",
        "ErrorPlot.PlotNow()     // No semicolon!!"
      ]
    },
    {
      "cell_type": "code",
      "execution_count": null,
      "metadata": {
        "dotnet_interactive": {
          "language": "csharp"
        }
      },
      "outputs": [
        {
          "data": {
            "text/html": [
              "<table><thead><tr><th><i>index</i></th><th>Key</th><th>Value</th></tr></thead><tbody><tr><td>0</td><td>DGdegree:Velocity*1</td><td><div class=\"dni-plaintext\">1.510552402809672</div></td></tr></tbody></table>"
            ]
          },
          "metadata": {},
          "output_type": "display_data"
        }
      ],
      "source": [
        "ErrorPlot.Regression()"
      ]
    },
    {
      "cell_type": "code",
      "execution_count": null,
      "metadata": {
        "dotnet_interactive": {
          "language": "csharp"
        }
      },
      "outputs": [
        {
          "name": "stdout",
          "output_type": "stream",
          "text": [
            "Using gnuplot: C:\\Program Files (x86)\\FDY\\BoSSS\\bin\\native\\win\\gnuplot-gp510-20160418-win32-mingw\\gnuplot\\bin\\gnuplot.exe\r\n",
            "set key font \",16\"Left reverse \r\n"
          ]
        }
      ],
      "source": [
        "var velX = ErrorPlot.ToGnuplot().PlotCairolatex(xSize:14,ySize:12);\n",
        "velX.SaveTo(@\"vel_Convergence.tex\");"
      ]
    },
    {
      "cell_type": "code",
      "execution_count": null,
      "metadata": {
        "dotnet_interactive": {
          "language": "csharp"
        }
      },
      "outputs": [],
      "source": []
    }
  ],
  "metadata": {
    "interpreter": {
      "hash": "5a4c2b90e762e735d09b118f9f9cec0074c9c9a762110f7a987def15c668bc0d"
    },
    "kernelspec": {
      "display_name": ".NET (C#)",
      "language": "C#",
      "name": ".net-csharp"
    },
    "language_info": {
      "file_extension": ".cs",
      "mimetype": "text/x-csharp",
      "name": "C#",
      "pygments_lexer": "csharp",
      "version": "9.0"
    }
  },
  "nbformat": 4,
  "nbformat_minor": 4
}
