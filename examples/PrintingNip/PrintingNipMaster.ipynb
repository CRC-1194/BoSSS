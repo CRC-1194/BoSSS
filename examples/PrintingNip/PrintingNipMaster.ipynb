{
 "cells": [
  {
   "cell_type": "markdown",
   "metadata": {},
   "source": [
    "# Printing Nip - K65 SFB1194"
   ]
  },
  {
   "cell_type": "markdown",
   "metadata": {},
   "source": [
    "This Notebook is used to reproduce the simulation results for the Kooperation K65 of SFB1194"
   ]
  },
  {
   "cell_type": "markdown",
   "metadata": {},
   "source": [
    "### Load necessary references"
   ]
  },
  {
   "cell_type": "code",
   "execution_count": null,
   "metadata": {
    "dotnet_interactive": {
     "language": "csharp"
    }
   },
   "outputs": [],
   "source": [
    "#r \"BoSSSpad.dll\""
   ]
  },
  {
   "cell_type": "code",
   "execution_count": null,
   "metadata": {
    "dotnet_interactive": {
     "language": "csharp"
    }
   },
   "outputs": [],
   "source": [
    "using System.IO;\n",
    "using BoSSS.Application.BoSSSpad;\n",
    "using BoSSS.Foundation.IO;"
   ]
  },
  {
   "cell_type": "markdown",
   "metadata": {},
   "source": [
    "#### Create necessary Folders, if not existent"
   ]
  },
  {
   "cell_type": "markdown",
   "metadata": {},
   "source": [
    "Additional directories containing output"
   ]
  },
  {
   "cell_type": "code",
   "execution_count": null,
   "metadata": {
    "dotnet_interactive": {
     "language": "csharp"
    }
   },
   "outputs": [],
   "source": [
    "string path = Path.GetFullPath(@\".\\PrintingNip\");\n",
    "if(!Directory.Exists(path)){\n",
    "    Directory.CreateDirectory(path);\n",
    "}"
   ]
  },
  {
   "cell_type": "code",
   "execution_count": null,
   "metadata": {
    "dotnet_interactive": {
     "language": "csharp"
    }
   },
   "outputs": [],
   "source": [
    "string path = Path.GetFullPath(@\".\\PrintingNip\\Figures\");\n",
    "if(!Directory.Exists(path)){\n",
    "    Directory.CreateDirectory(path);\n",
    "}\n",
    "for(int i = 1; i <= 3; i++){\n",
    "    string subpath = Path.Combine(path, \"Part\" + i.ToString());\n",
    "    if(!Directory.Exists(subpath)){\n",
    "        Directory.CreateDirectory(subpath);\n",
    "    }\n",
    "}"
   ]
  },
  {
   "cell_type": "code",
   "execution_count": null,
   "metadata": {
    "dotnet_interactive": {
     "language": "csharp"
    }
   },
   "outputs": [],
   "source": [
    "string path = Path.GetFullPath(@\".\\PrintingNip\\Files\");\n",
    "if(!Directory.Exists(path)){\n",
    "    Directory.CreateDirectory(path);\n",
    "}"
   ]
  },
  {
   "cell_type": "code",
   "execution_count": null,
   "metadata": {
    "dotnet_interactive": {
     "language": "csharp"
    }
   },
   "outputs": [],
   "source": [
    "string path = Path.GetFullPath(@\".\\PrintingNip\\Output\");\n",
    "if(!Directory.Exists(path)){\n",
    "    Directory.CreateDirectory(path);\n",
    "}"
   ]
  },
  {
   "cell_type": "markdown",
   "metadata": {},
   "source": [
    "#### Run and Export Notebooks as HTML"
   ]
  },
  {
   "cell_type": "markdown",
   "metadata": {},
   "source": [
    "##### Part 1 - General Correlations between Flow Properties and Nip Width, Printing Velocity and Imprinted Pressure Difference"
   ]
  },
  {
   "cell_type": "markdown",
   "metadata": {},
   "source": [
    "Here we basically validate some power laws, also observed when looking at the nip with lubrication theory"
   ]
  },
  {
   "cell_type": "code",
   "execution_count": null,
   "metadata": {
    "dotnet_interactive": {
     "language": "csharp"
    }
   },
   "outputs": [],
   "source": [
    "#!pwsh\n",
    "#papermill_description=Part1-Run\n",
    "jupyter.exe nbconvert --execute ./Part1_PrintingNip_Correlation_Run.ipynb --to html --output-dir ./PrintingNip/Output"
   ]
  },
  {
   "cell_type": "code",
   "execution_count": null,
   "metadata": {
    "dotnet_interactive": {
     "language": "csharp"
    }
   },
   "outputs": [],
   "source": [
    "#!pwsh\n",
    "#papermill_description=Part1-Evaluation\n",
    "jupyter.exe nbconvert --execute ./Part1_PrintingNip_Correlation_Evaluate.ipynb --to html --output-dir ./PrintingNip/Output"
   ]
  },
  {
   "cell_type": "markdown",
   "metadata": {},
   "source": [
    "# DEBUG"
   ]
  },
  {
   "cell_type": "code",
   "execution_count": null,
   "metadata": {
    "dotnet_interactive": {
     "language": "csharp"
    }
   },
   "outputs": [],
   "source": [
    "using static BoSSS.Application.BoSSSpad.BoSSSshell;\n",
    "Init();"
   ]
  },
  {
   "cell_type": "code",
   "execution_count": null,
   "metadata": {
    "dotnet_interactive": {
     "language": "csharp"
    }
   },
   "outputs": [],
   "source": [
    "string ProjectName4Correlation = \"SFB1194_K65_Part1\";"
   ]
  },
  {
   "cell_type": "code",
   "execution_count": null,
   "metadata": {
    "dotnet_interactive": {
     "language": "csharp"
    }
   },
   "outputs": [],
   "source": [
    "BoSSSshell.WorkflowMgm.Init(ProjectName4Correlation);\n",
    "static var myDb4Correlation = BoSSSshell.WorkflowMgm.DefaultDatabase;"
   ]
  },
  {
   "cell_type": "code",
   "execution_count": null,
   "metadata": {
    "dotnet_interactive": {
     "language": "csharp"
    }
   },
   "outputs": [],
   "source": [
    "var sessions = myDb4Correlation.Sessions.Where(s => s.ProjectName == \"SFB1194_K65_Part1\").ToArray();\n",
    "var sV = sessions.Single(s => Convert.ToDouble(s.KeysAndQueries[\"id:delta\"]).ApproxEqual(H0) &  Convert.ToDouble(s.KeysAndQueries[\"id:P_Diff\"]).ApproxEqual(0.0) & Convert.ToDouble(s.KeysAndQueries[\"id:V_Wall\"]).ApproxEqual(V0));\n",
    "var sP = sessions.Single(s => Convert.ToDouble(s.KeysAndQueries[\"id:delta\"]).ApproxEqual(H0) &  Convert.ToDouble(s.KeysAndQueries[\"id:P_Diff\"]).ApproxEqual(P0) & Convert.ToDouble(s.KeysAndQueries[\"id:V_Wall\"]).ApproxEqual(0.0));"
   ]
  },
  {
   "cell_type": "markdown",
   "metadata": {},
   "source": [
    "##### Part 2 - Imprinted Pressure Difference and Printing Velocity such that Position of Stagnation Point is not a function of Nip Width"
   ]
  },
  {
   "cell_type": "markdown",
   "metadata": {},
   "source": [
    "The important thing is, that the pressure gradient at the stagnation point is not a function of nip width, when the stagnation point remains at a constant position.  \n",
    "This allows us, to rebuild the experiments in our simulations with an arbitrary nip width."
   ]
  },
  {
   "cell_type": "code",
   "execution_count": null,
   "metadata": {
    "dotnet_interactive": {
     "language": "csharp"
    }
   },
   "outputs": [],
   "source": [
    "#!pwsh\n",
    "#papermill_description=Part2-Run\n",
    "jupyter.exe nbconvert --execute ./Part2_PrintingNip_ConstantStagnationPoint_Run.ipynb --to html --output-dir ./PrintingNip/Output"
   ]
  },
  {
   "cell_type": "code",
   "execution_count": null,
   "metadata": {
    "dotnet_interactive": {
     "language": "csharp"
    }
   },
   "outputs": [],
   "source": [
    "#!pwsh\n",
    "#papermill_description=Part2-Evaluation\n",
    "jupyter.exe nbconvert --execute ./Part2_PrintingNip_ConstantStagnationPoint_Evaluate.ipynb --to html --output-dir ./PrintingNip/Output"
   ]
  },
  {
   "cell_type": "markdown",
   "metadata": {},
   "source": [
    "##### Part 3 - Simulation of Experiments, Inputs are Printing Velocity and Position of Stagnation Point"
   ]
  },
  {
   "cell_type": "markdown",
   "metadata": {
    "dotnet_interactive": {
     "language": "pwsh"
    }
   },
   "source": [
    "As shown in Part 2, we can now choose any nip width, and then construct the appropriate imprinted pressure for a given stagnation point and printing velocity.  \n",
    "We then investigate the pressure gradients at the stagnation points and compare to the experiment."
   ]
  },
  {
   "cell_type": "code",
   "execution_count": null,
   "metadata": {
    "dotnet_interactive": {
     "language": "csharp"
    }
   },
   "outputs": [],
   "source": [
    "#!pwsh\n",
    "#papermill_description=Part3-Run\n",
    "jupyter.exe nbconvert --execute ./Part3_PrintingNip_SimulateExperiment_Run.ipynb --to html --output-dir ./PrintingNip/Output"
   ]
  },
  {
   "cell_type": "code",
   "execution_count": null,
   "metadata": {
    "dotnet_interactive": {
     "language": "csharp"
    }
   },
   "outputs": [],
   "source": [
    "#!pwsh\n",
    "#papermill_description=Part3-Evaluation\n",
    "jupyter.exe nbconvert --execute ./Part3_PrintingNip_SimulateExperiment_Evaluate.ipynb --to html --output-dir ./PrintingNip/Output"
   ]
  },
  {
   "cell_type": "markdown",
   "metadata": {},
   "source": [
    "### Create some output"
   ]
  },
  {
   "cell_type": "code",
   "execution_count": null,
   "metadata": {
    "dotnet_interactive": {
     "language": "csharp"
    }
   },
   "outputs": [],
   "source": [
    "#!pwsh\n",
    "bash ./PrintingNipInputs.sh"
   ]
  },
  {
   "cell_type": "code",
   "execution_count": null,
   "metadata": {
    "dotnet_interactive": {
     "language": "csharp"
    }
   },
   "outputs": [],
   "source": [
    "#!pwsh\n",
    "#papermill_description=CompilingOutput\n",
    "pdflatex  --max-print-line=10000 -synctex=1 -interaction=nonstopmode -file-line-error -recorder  \"./PrintingNip.tex\" -output-directory=\"./PrintingNip/Output\""
   ]
  },
  {
   "cell_type": "markdown",
   "metadata": {},
   "source": [
    "### Final Remarks"
   ]
  },
  {
   "cell_type": "markdown",
   "metadata": {},
   "source": [
    "This completes the simulation part for the Kooperation K65 in SFB1194.  \n",
    "In the Output folder you can find the executed Notebooks as html files.  \n",
    "Some Datatables generated from the simulation as html and csv files can be found in Files.  \n",
    "All generated plots can be found in the Figures Folder.  \n",
    "All simulation results are also available in the Database and accessible via the BoSSS framework.\n",
    "By running PrintingNipInputs.sh and compiling PrintingNip.tex you can generate a preview of the plotfiles"
   ]
  }
 ],
 "metadata": {
  "kernelspec": {
   "display_name": ".NET (C#)",
   "language": "C#",
   "name": ".net-csharp"
  },
  "language_info": {
   "file_extension": ".cs",
   "mimetype": "text/x-csharp",
   "name": "C#",
   "pygments_lexer": "csharp",
   "version": "8.0"
  },
  "orig_nbformat": 4
 },
 "nbformat": 4,
 "nbformat_minor": 2
}
