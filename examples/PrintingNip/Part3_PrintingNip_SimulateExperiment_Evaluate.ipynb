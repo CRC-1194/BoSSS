{
 "cells": [
  {
   "cell_type": "markdown",
   "metadata": {},
   "source": [
    "# Part 3 - Evaluate simulations with experimental analogue"
   ]
  },
  {
   "cell_type": "markdown",
   "metadata": {},
   "source": [
    "### First load some references"
   ]
  },
  {
   "cell_type": "code",
   "execution_count": null,
   "metadata": {
    "dotnet_interactive": {
     "language": "csharp"
    }
   },
   "outputs": [],
   "source": [
    "#r \"BoSSSpad.dll\"\n",
    "using System;\n",
    "using System.Collections.Generic;\n",
    "using System.Linq;\n",
    "using System.IO;\n",
    "using System.Data;\n",
    "using System.Globalization;\n",
    "using System.Threading;\n",
    "using ilPSP;\n",
    "using ilPSP.Utils;\n",
    "using BoSSS.Platform;\n",
    "using BoSSS.Foundation;\n",
    "using BoSSS.Foundation.Grid;\n",
    "using BoSSS.Foundation.Grid.Classic;\n",
    "using BoSSS.Foundation.IO;\n",
    "using BoSSS.Solution;\n",
    "using BoSSS.Solution.Control;\n",
    "using BoSSS.Solution.GridImport;\n",
    "using BoSSS.Solution.Statistic;\n",
    "using BoSSS.Solution.Utils;\n",
    "using BoSSS.Solution.Gnuplot;\n",
    "using BoSSS.Application.BoSSSpad;\n",
    "using BoSSS.Application.XNSE_Solver;\n",
    "using static BoSSS.Application.BoSSSpad.BoSSSshell;\n",
    "using BoSSS.Foundation.Grid.RefElements;\n",
    "using BoSSS.Platform.LinAlg;\n",
    "using BoSSS.Application.XNSE_Solver.PhysicalBasedTestcases.PrintingNip;\n",
    "Init();"
   ]
  },
  {
   "cell_type": "markdown",
   "metadata": {},
   "source": [
    "### Init Database etc."
   ]
  },
  {
   "cell_type": "code",
   "execution_count": null,
   "metadata": {
    "dotnet_interactive": {
     "language": "csharp"
    }
   },
   "outputs": [],
   "source": [
    "string ProjectName = \"SFB1194_K65_Part3\";"
   ]
  },
  {
   "cell_type": "code",
   "execution_count": null,
   "metadata": {
    "dotnet_interactive": {
     "language": "csharp"
    }
   },
   "outputs": [],
   "source": [
    "BoSSSshell.WorkflowMgm.Init(ProjectName);"
   ]
  },
  {
   "cell_type": "code",
   "execution_count": null,
   "metadata": {
    "dotnet_interactive": {
     "language": "csharp"
    }
   },
   "outputs": [],
   "source": [
    "static var myDb = BoSSSshell.WorkflowMgm.DefaultDatabase;"
   ]
  },
  {
   "cell_type": "markdown",
   "metadata": {},
   "source": [
    "### Load Simulations"
   ]
  },
  {
   "cell_type": "code",
   "execution_count": null,
   "metadata": {
    "dotnet_interactive": {
     "language": "csharp"
    }
   },
   "outputs": [],
   "source": [
    "var sessions = myDb.Sessions.Where(s => s.ProjectName == ProjectName).ToArray();"
   ]
  },
  {
   "cell_type": "code",
   "execution_count": null,
   "metadata": {
    "dotnet_interactive": {
     "language": "csharp"
    }
   },
   "outputs": [],
   "source": [
    "sessions.Count()"
   ]
  },
  {
   "cell_type": "markdown",
   "metadata": {},
   "source": [
    "### Setup Post-Processing"
   ]
  },
  {
   "cell_type": "code",
   "execution_count": null,
   "metadata": {
    "dotnet_interactive": {
     "language": "csharp"
    }
   },
   "outputs": [],
   "source": [
    "BoSSSshell.WorkflowMgm.AdditionalSessionTableColums.Clear();"
   ]
  },
  {
   "cell_type": "code",
   "execution_count": null,
   "metadata": {
    "dotnet_interactive": {
     "language": "csharp"
    }
   },
   "outputs": [],
   "source": [
    "BoSSSshell.WorkflowMgm.AdditionalSessionTableColums.Add(\"PressureRange\", Postprocessing.PressureRange);\n",
    "BoSSSshell.WorkflowMgm.AdditionalSessionTableColums.Add(\"VelocityXMax\", Postprocessing.VelocityXMax);\n",
    "BoSSSshell.WorkflowMgm.AdditionalSessionTableColums.Add(\"Massflux\", Postprocessing.Massflux);\n",
    "BoSSSshell.WorkflowMgm.AdditionalSessionTableColums.Add(\"NipShearRate\", Postprocessing.NipShearRate);\n",
    "BoSSSshell.WorkflowMgm.AdditionalSessionTableColums.Add(\"NipShearRateCylinder\", Postprocessing.NipShearRateCylinder);\n",
    "BoSSSshell.WorkflowMgm.AdditionalSessionTableColums.Add(\"ShearStressCylinder\", Postprocessing.ShearStressCylinder);\n",
    "BoSSSshell.WorkflowMgm.AdditionalSessionTableColums.Add(\"NipShearRateSubstrate\", Postprocessing.NipShearRateSubstrate);\n",
    "BoSSSshell.WorkflowMgm.AdditionalSessionTableColums.Add(\"ShearStressSubstrate\", Postprocessing.ShearStressSubstrate);\n",
    "BoSSSshell.WorkflowMgm.AdditionalSessionTableColums.Add(\"ViscousDissipation\", Postprocessing.ViscousDissipation); \n",
    "BoSSSshell.WorkflowMgm.AdditionalSessionTableColums.Add(\"PositionOfSynchronousFlow\", Postprocessing.PositionOfSynchronousFlow);\n",
    "BoSSSshell.WorkflowMgm.AdditionalSessionTableColums.Add(\"PositionOfStagnatingFlow\", Postprocessing.PositionOfStagnatingFlow);\n",
    "BoSSSshell.WorkflowMgm.AdditionalSessionTableColums.Add(\"dPdXatSynchronousPoint\", Postprocessing.dPdXatSynchronousPoint);\n",
    "BoSSSshell.WorkflowMgm.AdditionalSessionTableColums.Add(\"dPdXatStagnationPoint\", Postprocessing.dPdXatStagnationPoint);\n",
    "BoSSSshell.WorkflowMgm.AdditionalSessionTableColums.Add(\"dPdXatNip\", Postprocessing.dPdXatNip);\n",
    "BoSSSshell.WorkflowMgm.AdditionalSessionTableColums.Add(\"dPdXatConstantX\", Postprocessing.dPdXatConstantX);"
   ]
  },
  {
   "cell_type": "markdown",
   "metadata": {},
   "source": [
    "### Create Datatable"
   ]
  },
  {
   "cell_type": "code",
   "execution_count": null,
   "metadata": {
    "dotnet_interactive": {
     "language": "csharp"
    }
   },
   "outputs": [],
   "source": [
    "DataTable tab;\n",
    "if(!File.Exists(\"./PrintingNip/Files/PrintingNip-Part3Export.csv\")){\n",
    "    tab = sessions.GetSessionTable(BoSSSshell.WorkflowMgm.AdditionalSessionTableColums.Select(kv => new Tuple<string, Func<ISessionInfo, object>>(kv.Key, kv.Value)).ToArray());\n",
    "    tab.ToCSVFile(\"./PrintingNip/Files/PrintingNip-Part3Export.csv\", ColSep: '%');\n",
    "} else{\n",
    "    tab = TableExtensions.FromCSVFile(\"./PrintingNip/Files/PrintingNip-Part3Export.csv\", ColSep: '%');\n",
    "}"
   ]
  },
  {
   "cell_type": "markdown",
   "metadata": {
    "dotnet_interactive": {
     "language": "csharp"
    }
   },
   "source": [
    "### Export Datatable"
   ]
  },
  {
   "cell_type": "code",
   "execution_count": null,
   "metadata": {
    "dotnet_interactive": {
     "language": "csharp"
    }
   },
   "outputs": [],
   "source": [
    "string[] Columns = new string[] {\"PressureRange\", \"VelocityXMax\", \"Massflux\", \"NipShearRate\", \"NipShearRateCylinder\", \"ShearStressCylinder\", \"NipShearRateSubstrate\", \"ShearStressSubstrate\", \"ViscousDissipation\", \"PositionOfSynchronousFlow\",  \"PositionOfStagnatingFlow\", \"dPdXatSynchronousPoint\", \"dPdXatStagnationPoint\", \"dPdXatNip\", \"dPdXatConstantX\"};\n",
    "string[] Labels = new string[] {\"Pressure\", \"Velocity\", \"Massflux\", \"Shearrate (Nip)\", \"Shearrate (Cylinder)\", \"Shearforce (Cylinder)\", \"Shearrate (Substrate)\", \"Shearforce (Substrate)\", \"Dissipation\", \"$x_{sync}$\", \"$x_{stag}$\", @\"$\\\\\\frac{\\\\\\partial p}{\\\\\\partial x}_{sync}$\", @\"$\\\\\\frac{\\\\\\partial p}{\\\\\\partial x}_{stag}$\", @\"$\\\\\\frac{\\\\\\partial p}{\\\\\\partial x}_{nip}$\", @\"$\\\\\\frac{\\\\\\partial p}{\\\\\\partial x}$\"};\n",
    "string[] Units = new string[] {@\"$\\\\\\left[\\\\\\frac{N}{m^2}\\\\right]$\", @\"$\\\\\\left[\\\\\\frac{m}{s}\\\\right]$\", @\"$\\\\\\left[\\\\\\frac{kg}{s}\\\\right]$\", @\"$\\\\\\left[\\\\\\frac{1}{s}\\\\right]$\", @\"$\\\\\\left[\\\\\\frac{1}{s}\\\\right]$\", @\"$\\\\\\left[N\\\\right]$\", @\"$\\\\\\left[\\\\\\frac{1}{s}\\\\right]$\", @\"$\\\\\\left[N\\\\right]$\", @\"$\\\\\\left[W\\\\right]$\", @\"$\\\\\\left[m\\\\right]$\", @\"$\\\\\\left[m\\\\right]$\", @\"$\\\\\\left[\\\\\\frac{N}{m^3}\\\\right]$\", @\"$\\\\\\left[\\\\\\frac{N}{m^3}\\\\right]$\", @\"$\\\\\\left[\\\\\\frac{N}{m^3}\\\\right]$\", @\"$\\\\\\left[\\\\\\frac{N}{m^3}\\\\right]$\"}; // some escape character nonsense"
   ]
  },
  {
   "cell_type": "code",
   "execution_count": null,
   "metadata": {
    "dotnet_interactive": {
     "language": "csharp"
    }
   },
   "outputs": [],
   "source": [
    "var tab2export = tab.ExtractColumns(Columns.ToList().Prepend(\"id:V_Wall\").Prepend(\"id:P_Diff\").Prepend(\"id:Radius\").Prepend(\"id:delta\").Prepend(\"id:Raster\").Prepend(\"SessionName\").ToArray());\n",
    "tab2export.ToHTMLFile(\"PrintingNip-Part3.html\", Path.GetFullPath(\"./PrintingNip/Files\"));\n",
    "tab2export.ToCSVFile(\"./PrintingNip/Files/PrintingNip-Part3.csv\", ColSep: ';');"
   ]
  },
  {
   "cell_type": "markdown",
   "metadata": {},
   "source": [
    "### Plot Correlation - Constant Nip Width"
   ]
  },
  {
   "cell_type": "markdown",
   "metadata": {},
   "source": [
    "Plot all Properties, we looked at before as functions of nip width. Remember, this time around the pressure b.c. is such that the stagnation point should remain constant"
   ]
  },
  {
   "cell_type": "code",
   "execution_count": null,
   "metadata": {
    "dotnet_interactive": {
     "language": "csharp"
    }
   },
   "outputs": [],
   "source": [
    "var tab2plt = tab.ExtractRows((i,row) => Convert.ToDouble(row[\"id:P_Diff\"]) > 0.0 && Convert.ToDouble(row[\"id:delta\"]).ApproxEqual(1e-5)); // arbitrary nip width"
   ]
  },
  {
   "cell_type": "code",
   "execution_count": null,
   "metadata": {
    "dotnet_interactive": {
     "language": "csharp"
    }
   },
   "outputs": [],
   "source": [
    "List<Plot2Ddata> plts = new List<Plot2Ddata>();\n",
    "foreach(string col in Columns){\n",
    "    int k = Columns.IndexOf(col);\n",
    "    var plt = tab2plt.ToPlot(\"id:V_Wall\", col, ColName_GroupSelection: new string[] { \"id:Raster\" });    \n",
    "    plt.LogX   = true;\n",
    "    plt.LogY   = true;\n",
    "    plt.Xlabel = @\"Printing Velocity Width $\\\\\\left[\\\\\\frac{m}{s}\\\\right]$\";\n",
    "    plt.Ylabel = Labels[k] + \" \" + Units[k];\n",
    "    plt.LabelTitleFont = 32;\n",
    "    plt.LabelFont = 24;\n",
    "    plt.LegendFont = 18;\n",
    "    plt.lmargin = 12;\n",
    "    plt.bmargin = 4;\n",
    "    plt.ShowLegend = true;    \n",
    "    plt.LegendBox = true;\n",
    "    if(plt.Regression().Average(kv => kv.Value) > 0){\n",
    "        plt.LegendAlignment = new string[]{\"i\", \"l\", \"t\"};\n",
    "        plt.LegendSwap = true;    \n",
    "    } else{\n",
    "        plt.LegendAlignment = new string[]{\"i\", \"r\", \"t\"};\n",
    "        plt.LegendSwap = false;    \n",
    "    }\n",
    "    for(int n= 0; n < plt.dataGroups.Count(); n++){\n",
    "        plt.dataGroups[n].Format.LineWidth = 2;\n",
    "        plt.dataGroups[n].Format.PointSize = 1;\n",
    "        plt.dataGroups[n].Name = \"Raster $ = \" + Convert.ToDouble(plt.dataGroups[n].Name.Split(\"id:Raster\").Last()).ToString() + @\" \\\\\\frac{1}{cm}$\";\n",
    "    }\n",
    "    plt.ModFormat();\n",
    "    plts.Add(plt);\n",
    "}"
   ]
  },
  {
   "cell_type": "code",
   "execution_count": null,
   "metadata": {
    "dotnet_interactive": {
     "language": "csharp"
    }
   },
   "outputs": [],
   "source": [
    "using(StreamWriter stw = new StreamWriter(\"./PrintingNip/Output/SlopesOverRaster.txt\")){\n",
    "    foreach(var plt in plts){\n",
    "        var slopes = plt.Regression();\n",
    "        stw.WriteLine(\"<===================================================>\");\n",
    "        stw.WriteLine(plt.Ylabel + \":\");\n",
    "        slopes.ForEach(kvp => stw.WriteLine(\"\\t\" + kvp.Key + \" : \" + kvp.Value));\n",
    "        stw.WriteLine(\"<===================================================>\");\n",
    "    }\n",
    "}"
   ]
  },
  {
   "cell_type": "code",
   "execution_count": null,
   "metadata": {
    "dotnet_interactive": {
     "language": "csharp"
    }
   },
   "outputs": [],
   "source": [
    "int k = 0;\n",
    "foreach(var plt in plts){\n",
    "    var gp = new Gnuplot();\n",
    "    gp.PlotLogSlope(plt, format: new PlotFormat(lineColor: (LineColors)7));\n",
    "    gp.Cmd(\"set key box width -9\");\n",
    "    plt.ToGnuplot(gp);\n",
    "    gp.PlotCairolatex().SaveTo(\"./PrintingNip/Figures/Part3/H0_\"+Columns[k]+\".tex\");\n",
    "    k++;\n",
    "}"
   ]
  },
  {
   "cell_type": "markdown",
   "metadata": {},
   "source": [
    "### Plot Correlation - Constant Raster"
   ]
  },
  {
   "cell_type": "code",
   "execution_count": null,
   "metadata": {
    "dotnet_interactive": {
     "language": "csharp"
    }
   },
   "outputs": [],
   "source": [
    "var tab2plt = tab.ExtractRows((i,row) => Convert.ToDouble(row[\"id:P_Diff\"]) > 0.0 && Convert.ToDouble(row[\"id:Raster\"]).ApproxEqual(80)); // arbitrary nip width"
   ]
  },
  {
   "cell_type": "code",
   "execution_count": null,
   "metadata": {
    "dotnet_interactive": {
     "language": "csharp"
    }
   },
   "outputs": [],
   "source": [
    "List<Plot2Ddata> plts = new List<Plot2Ddata>();\n",
    "foreach(string col in Columns){\n",
    "    int k = Columns.IndexOf(col);\n",
    "    var plt = tab2plt.ToPlot(\"id:V_Wall\", col, ColName_GroupSelection: new string[] { \"id:delta\" });    \n",
    "    plt.LogX   = true;\n",
    "    plt.LogY   = true;\n",
    "    plt.Xlabel = @\"Printing Velocity $\\\\\\left[\\\\\\frac{m}{s}\\\\right]$\";\n",
    "    plt.Ylabel = Labels[k] + \" \" + Units[k];\n",
    "    plt.LabelTitleFont = 32;\n",
    "    plt.LabelFont = 24;\n",
    "    plt.LegendFont = 18;\n",
    "    plt.lmargin = 12;\n",
    "    plt.bmargin = 4;\n",
    "    plt.ShowLegend = true;    \n",
    "    plt.LegendBox = true;\n",
    "    if(plt.Regression().Average(kv => kv.Value) > 0){\n",
    "        plt.LegendAlignment = new string[]{\"i\", \"l\", \"t\"};\n",
    "        plt.LegendSwap = true;    \n",
    "    } else{\n",
    "        plt.LegendAlignment = new string[]{\"i\", \"r\", \"t\"};\n",
    "        plt.LegendSwap = false;    \n",
    "    }     \n",
    "    for(int n= 0; n < plt.dataGroups.Count(); n++){\n",
    "        plt.dataGroups[n].Format.LineWidth = 2;\n",
    "        plt.dataGroups[n].Format.PointSize = 1;\n",
    "        plt.dataGroups[n].Name = @\"$\\\\\\varepsilon = \" + Convert.ToDouble(plt.dataGroups[n].Name.Split(\"id:delta\").Last()).ToString(\"0e0\").Replace(\"e\",\"\\\\\\\\times 10^{\") + \"}\" + @\" m$\";\n",
    "    }\n",
    "    plt.ModFormat();\n",
    "    plts.Add(plt);\n",
    "}"
   ]
  },
  {
   "cell_type": "code",
   "execution_count": null,
   "metadata": {
    "dotnet_interactive": {
     "language": "csharp"
    }
   },
   "outputs": [],
   "source": [
    "using(StreamWriter stw = new StreamWriter(\"./PrintingNip/Output/SlopesOverNipWidth.txt\")){\n",
    "    foreach(var plt in plts){\n",
    "        var slopes = plt.Regression();\n",
    "        stw.WriteLine(\"<===================================================>\");\n",
    "        stw.WriteLine(plt.Ylabel + \":\");\n",
    "        slopes.ForEach(kvp => stw.WriteLine(\"\\t\" + kvp.Key + \" : \" + kvp.Value));\n",
    "        stw.WriteLine(\"<===================================================>\");\n",
    "    }\n",
    "}"
   ]
  },
  {
   "cell_type": "code",
   "execution_count": null,
   "metadata": {
    "dotnet_interactive": {
     "language": "csharp"
    }
   },
   "outputs": [],
   "source": [
    "int k = 0;\n",
    "foreach(var plt in plts){\n",
    "    var gp = new Gnuplot();\n",
    "    gp.PlotLogSlope(plt, format: new PlotFormat(lineColor: (LineColors)7));\n",
    "    gp.Cmd(\"set key box width -5\");\n",
    "    plt.ToGnuplot(gp);\n",
    "    gp.PlotCairolatex().SaveTo(\"./PrintingNip/Figures/Part3/R0_\"+Columns[k]+\".tex\");\n",
    "    k++;\n",
    "}"
   ]
  },
  {
   "cell_type": "markdown",
   "metadata": {},
   "source": [
    "### Test plotting"
   ]
  },
  {
   "cell_type": "code",
   "execution_count": null,
   "metadata": {
    "dotnet_interactive": {
     "language": "csharp"
    }
   },
   "outputs": [],
   "source": [
    "// Test code - see TestPDF.tex for output preview\n",
    "// int i = 1;\n",
    "// var gp = new Gnuplot();\n",
    "// gp.PlotLogSlope(plts.Pick(1), format: new PlotFormat(lineColor: (LineColors)7));\n",
    "// gp.Cmd(\"set key box width -5\");\n",
    "// plts.Pick(i).ToGnuplot(gp);\n",
    "// gp.PlotCairolatex().SaveTo(\"./Figures/Test/Part3.tex\");"
   ]
  }
 ],
 "metadata": {
  "kernelspec": {
   "display_name": ".NET (C#)",
   "language": "C#",
   "name": ".net-csharp"
  },
  "language_info": {
   "file_extension": ".cs",
   "mimetype": "text/x-csharp",
   "name": "C#",
   "pygments_lexer": "csharp",
   "version": "9.0"
  },
  "orig_nbformat": 4
 },
 "nbformat": 4,
 "nbformat_minor": 2
}
