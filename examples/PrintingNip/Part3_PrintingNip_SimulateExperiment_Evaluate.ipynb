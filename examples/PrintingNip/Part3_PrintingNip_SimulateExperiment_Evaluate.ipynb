{
 "cells": [
  {
   "cell_type": "markdown",
   "metadata": {},
   "source": [
    "# Part 3 - Evaluate simulations with experimental analogue"
   ]
  },
  {
   "cell_type": "markdown",
   "metadata": {},
   "source": [
    "### First load some references"
   ]
  },
  {
   "cell_type": "code",
   "execution_count": null,
   "metadata": {
    "dotnet_interactive": {
     "language": "csharp"
    },
    "vscode": {
     "languageId": "dotnet-interactive.csharp"
    }
   },
   "outputs": [],
   "source": [
    "#r \"BoSSSpad.dll\"\n",
    "using System;\n",
    "using System.Collections.Generic;\n",
    "using System.Linq;\n",
    "using System.IO;\n",
    "using System.Data;\n",
    "using System.Globalization;\n",
    "using System.Threading;\n",
    "using ilPSP;\n",
    "using ilPSP.Utils;\n",
    "using BoSSS.Platform;\n",
    "using BoSSS.Foundation;\n",
    "using BoSSS.Foundation.Grid;\n",
    "using BoSSS.Foundation.Grid.Classic;\n",
    "using BoSSS.Foundation.IO;\n",
    "using BoSSS.Solution;\n",
    "using BoSSS.Solution.Control;\n",
    "using BoSSS.Solution.GridImport;\n",
    "using BoSSS.Solution.Statistic;\n",
    "using BoSSS.Solution.Utils;\n",
    "using BoSSS.Solution.Gnuplot;\n",
    "using BoSSS.Application.BoSSSpad;\n",
    "using BoSSS.Application.XNSE_Solver;\n",
    "using static BoSSS.Application.BoSSSpad.BoSSSshell;\n",
    "using BoSSS.Foundation.Grid.RefElements;\n",
    "using BoSSS.Platform.LinAlg;\n",
    "using BoSSS.Application.XNSE_Solver.PhysicalBasedTestcases.PrintingNip;\n",
    "Init();"
   ]
  },
  {
   "cell_type": "markdown",
   "metadata": {},
   "source": [
    "### Init Database etc."
   ]
  },
  {
   "cell_type": "code",
   "execution_count": null,
   "metadata": {
    "dotnet_interactive": {
     "language": "csharp"
    },
    "vscode": {
     "languageId": "dotnet-interactive.csharp"
    }
   },
   "outputs": [],
   "source": [
    "string ProjectName = \"SFB1194_K65_Part3\";"
   ]
  },
  {
   "cell_type": "code",
   "execution_count": null,
   "metadata": {
    "dotnet_interactive": {
     "language": "csharp"
    },
    "vscode": {
     "languageId": "dotnet-interactive.csharp"
    }
   },
   "outputs": [],
   "source": [
    "BoSSSshell.WorkflowMgm.Init(ProjectName);"
   ]
  },
  {
   "cell_type": "code",
   "execution_count": null,
   "metadata": {
    "dotnet_interactive": {
     "language": "csharp"
    },
    "vscode": {
     "languageId": "dotnet-interactive.csharp"
    }
   },
   "outputs": [],
   "source": [
    "static var myDb = BoSSSshell.WorkflowMgm.DefaultDatabase;"
   ]
  },
  {
   "cell_type": "markdown",
   "metadata": {},
   "source": [
    "### Load Simulations"
   ]
  },
  {
   "cell_type": "code",
   "execution_count": null,
   "metadata": {
    "dotnet_interactive": {
     "language": "csharp"
    },
    "vscode": {
     "languageId": "dotnet-interactive.csharp"
    }
   },
   "outputs": [],
   "source": [
    "var sessions = myDb.Sessions.Where(s => s.ProjectName == ProjectName && s.SuccessfulTermination).ToArray();"
   ]
  },
  {
   "cell_type": "code",
   "execution_count": null,
   "metadata": {
    "dotnet_interactive": {
     "language": "csharp"
    },
    "vscode": {
     "languageId": "dotnet-interactive.csharp"
    }
   },
   "outputs": [
    {
     "data": {
      "text/html": [
       "<div class=\"dni-plaintext\">39</div>"
      ]
     },
     "metadata": {},
     "output_type": "display_data"
    }
   ],
   "source": [
    "sessions.Count()"
   ]
  },
  {
   "cell_type": "markdown",
   "metadata": {},
   "source": [
    "### Setup Post-Processing"
   ]
  },
  {
   "cell_type": "code",
   "execution_count": null,
   "metadata": {
    "dotnet_interactive": {
     "language": "csharp"
    },
    "vscode": {
     "languageId": "dotnet-interactive.csharp"
    }
   },
   "outputs": [],
   "source": [
    "BoSSSshell.WorkflowMgm.AdditionalSessionTableColums.Clear();"
   ]
  },
  {
   "cell_type": "code",
   "execution_count": null,
   "metadata": {
    "dotnet_interactive": {
     "language": "csharp"
    },
    "vscode": {
     "languageId": "dotnet-interactive.csharp"
    }
   },
   "outputs": [],
   "source": [
    "BoSSSshell.WorkflowMgm.AdditionalSessionTableColums.Add(\"PressureRange\", Postprocessing.PressureRange);\n",
    "BoSSSshell.WorkflowMgm.AdditionalSessionTableColums.Add(\"VelocityXMax\", Postprocessing.VelocityXMax);\n",
    "BoSSSshell.WorkflowMgm.AdditionalSessionTableColums.Add(\"Massflux\", Postprocessing.Massflux);\n",
    "BoSSSshell.WorkflowMgm.AdditionalSessionTableColums.Add(\"NipShearRate\", Postprocessing.NipShearRate);\n",
    "BoSSSshell.WorkflowMgm.AdditionalSessionTableColums.Add(\"NipShearRateCylinder\", Postprocessing.NipShearRateCylinder);\n",
    "BoSSSshell.WorkflowMgm.AdditionalSessionTableColums.Add(\"ShearStressCylinder\", Postprocessing.ShearStressCylinder);\n",
    "BoSSSshell.WorkflowMgm.AdditionalSessionTableColums.Add(\"NipShearRateSubstrate\", Postprocessing.NipShearRateSubstrate);\n",
    "BoSSSshell.WorkflowMgm.AdditionalSessionTableColums.Add(\"ShearStressSubstrate\", Postprocessing.ShearStressSubstrate);\n",
    "BoSSSshell.WorkflowMgm.AdditionalSessionTableColums.Add(\"ViscousDissipation\", Postprocessing.ViscousDissipation); \n",
    "BoSSSshell.WorkflowMgm.AdditionalSessionTableColums.Add(\"PositionOfSynchronousFlow\", Postprocessing.PositionOfSynchronousFlow);\n",
    "BoSSSshell.WorkflowMgm.AdditionalSessionTableColums.Add(\"PositionOfStagnatingFlow\", Postprocessing.PositionOfStagnatingFlow);\n",
    "BoSSSshell.WorkflowMgm.AdditionalSessionTableColums.Add(\"dPdXatSynchronousPoint\", Postprocessing.dPdXatSynchronousPoint);\n",
    "BoSSSshell.WorkflowMgm.AdditionalSessionTableColums.Add(\"dPdXatStagnationPoint\", Postprocessing.dPdXatStagnationPoint);\n",
    "BoSSSshell.WorkflowMgm.AdditionalSessionTableColums.Add(\"dPdXatNip\", Postprocessing.dPdXatNip);\n",
    "BoSSSshell.WorkflowMgm.AdditionalSessionTableColums.Add(\"dPdXatConstantX\", Postprocessing.dPdXatConstantX);"
   ]
  },
  {
   "cell_type": "markdown",
   "metadata": {},
   "source": [
    "### Create Datatable"
   ]
  },
  {
   "cell_type": "code",
   "execution_count": null,
   "metadata": {
    "dotnet_interactive": {
     "language": "csharp"
    },
    "vscode": {
     "languageId": "dotnet-interactive.csharp"
    }
   },
   "outputs": [
    {
     "name": "stdout",
     "output_type": "stream",
     "text": [
      "Loaded Fields for J2000_delta5E-06_V0.5_P123786368.07791619_RL80\r\n",
      "Loaded Fields for J2000_delta5E-06_V0.3333333_P83295576.979106_RL80\r\n",
      "Loaded Fields for J2000_delta5E-06_V0.1666667_P30325505.469962433_RL80\r\n",
      "Loaded Fields for J2000_delta5E-06_V1.25_P353508992.0225107_RL70\r\n",
      "Loaded Fields for J2000_delta5E-06_V1_P294276907.93397886_RL70\r\n",
      "Loaded Fields for J2000_delta5E-06_V0.75_P224819585.149796_RL70\r\n",
      "Loaded Fields for J2000_delta5E-06_V0.5_P136889940.30098218_RL70\r\n",
      "Loaded Fields for J2000_delta5E-06_V0.3333333_P85795754.15711097_RL70\r\n",
      "Loaded Fields for J2000_delta5E-06_V0.1666667_P34550367.2032792_RL70\r\n",
      "Loaded Fields for J2000_delta5E-06_V1.25_P752886611.1574143_RL60\r\n",
      "Loaded Fields for J2000_delta5E-06_V1_P365780347.99035305_RL60\r\n",
      "Loaded Fields for J2000_delta5E-06_V0.75_P256725976.1713459_RL60\r\n",
      "Loaded Fields for J2000_delta5E-06_V0.5_P145698000.4213284_RL60\r\n",
      "Loaded Fields for J2000_delta5E-06_V0.3333333_P92039672.33846389_RL60\r\n",
      "Loaded Fields for J2000_delta5E-06_V0.1666667_P37673947.69630459_RL60\r\n",
      "Loaded Fields for J2000_delta1E-05_V1.25_P48736877.33721605_RL100\r\n",
      "Loaded Fields for J2000_delta1E-05_V1_P35643717.593602054_RL100\r\n",
      "Loaded Fields for J2000_delta1E-05_V0.75_P23220671.21565372_RL100\r\n",
      "Loaded Fields for J2000_delta1E-05_V0.5_P15139591.19415549_RL100\r\n",
      "Loaded Fields for J2000_delta1E-05_V0.3333333_P10399378.955497911_RL100\r\n",
      "Loaded Fields for J2000_delta1E-05_V0.1666667_P4611707.373630112_RL100\r\n",
      "Loaded Fields for J2000_delta1E-05_V1.25_P59199005.29221434_RL80\r\n",
      "Loaded Fields for J2000_delta1E-05_V1_P46971833.16089195_RL80\r\n",
      "Loaded Fields for J2000_delta1E-05_V0.75_P34199304.713326685_RL80\r\n",
      "Loaded Fields for J2000_delta1E-05_V0.5_P21195498.574737966_RL80\r\n",
      "Loaded Fields for J2000_delta1E-05_V0.3333333_P14266819.82963719_RL80\r\n",
      "Loaded Fields for J2000_delta1E-05_V0.1666667_P5130191.611361154_RL80\r\n"
     ]
    }
   ],
   "source": [
    "DataTable tab;\n",
    "if(!File.Exists(\"./PrintingNip/Files/PrintingNip-Part3Export.csv\")){\n",
    "    tab = sessions.GetSessionTable(BoSSSshell.WorkflowMgm.AdditionalSessionTableColums.Select(kv => new Tuple<string, Func<ISessionInfo, object>>(kv.Key, kv.Value)).ToArray());\n",
    "    tab.ToCSVFile(\"./PrintingNip/Files/PrintingNip-Part3Export.csv\", ColSep: '%');\n",
    "} else{\n",
    "    tab = TableExtensions.FromCSVFile(\"./PrintingNip/Files/PrintingNip-Part3Export.csv\", ColSep: '%');\n",
    "}"
   ]
  },
  {
   "cell_type": "markdown",
   "metadata": {
    "dotnet_interactive": {
     "language": "csharp"
    }
   },
   "source": [
    "### Export Datatable"
   ]
  },
  {
   "cell_type": "code",
   "execution_count": null,
   "metadata": {
    "dotnet_interactive": {
     "language": "csharp"
    },
    "vscode": {
     "languageId": "dotnet-interactive.csharp"
    }
   },
   "outputs": [],
   "source": [
    "string[] Columns = new string[] {\"PressureRange\", \"VelocityXMax\", \"Massflux\", \"NipShearRate\", \"NipShearRateCylinder\", \"ShearStressCylinder\", \"NipShearRateSubstrate\", \"ShearStressSubstrate\", \"ViscousDissipation\", \"PositionOfSynchronousFlow\",  \"PositionOfStagnatingFlow\", \"dPdXatSynchronousPoint\", \"dPdXatStagnationPoint\", \"dPdXatNip\", \"dPdXatConstantX\"};\n",
    "string[] Labels = new string[] {\"Pressure\", \"Velocity\", \"Massflux\", \"Shearrate (Nip)\", \"Shearrate (Cylinder)\", \"Shearforce (Cylinder)\", \"Shearrate (Substrate)\", \"Shearforce (Substrate)\", \"Dissipation\", \"$x_{sync}$\", \"$x_{stag}$\", @\"$\\\\\\frac{\\\\\\partial p}{\\\\\\partial x}_{sync}$\", @\"$\\\\\\frac{\\\\\\partial p}{\\\\\\partial x}_{stag}$\", @\"$\\\\\\frac{\\\\\\partial p}{\\\\\\partial x}_{nip}$\", @\"$\\\\\\frac{\\\\\\partial p}{\\\\\\partial x}$\"};\n",
    "string[] Units = new string[] {@\"$\\\\\\left[\\\\\\frac{N}{m^2}\\\\right]$\", @\"$\\\\\\left[\\\\\\frac{m}{s}\\\\right]$\", @\"$\\\\\\left[\\\\\\frac{kg}{s}\\\\right]$\", @\"$\\\\\\left[\\\\\\frac{1}{s}\\\\right]$\", @\"$\\\\\\left[\\\\\\frac{1}{s}\\\\right]$\", @\"$\\\\\\left[N\\\\right]$\", @\"$\\\\\\left[\\\\\\frac{1}{s}\\\\right]$\", @\"$\\\\\\left[N\\\\right]$\", @\"$\\\\\\left[W\\\\right]$\", @\"$\\\\\\left[m\\\\right]$\", @\"$\\\\\\left[m\\\\right]$\", @\"$\\\\\\left[\\\\\\frac{N}{m^3}\\\\right]$\", @\"$\\\\\\left[\\\\\\frac{N}{m^3}\\\\right]$\", @\"$\\\\\\left[\\\\\\frac{N}{m^3}\\\\right]$\", @\"$\\\\\\left[\\\\\\frac{N}{m^3}\\\\right]$\"}; // some escape character nonsense"
   ]
  },
  {
   "cell_type": "code",
   "execution_count": null,
   "metadata": {
    "dotnet_interactive": {
     "language": "csharp"
    },
    "vscode": {
     "languageId": "dotnet-interactive.csharp"
    }
   },
   "outputs": [],
   "source": [
    "var tab2export = tab.ExtractColumns(Columns.ToList().Prepend(\"id:V_Wall\").Prepend(\"id:P_Diff\").Prepend(\"id:Radius\").Prepend(\"id:delta\").Prepend(\"id:Raster\").Prepend(\"SessionName\").ToArray());\n",
    "tab2export.ToHTMLFile(\"PrintingNip-Part3.html\", Path.GetFullPath(\"./PrintingNip/Files\"));\n",
    "tab2export.ToCSVFile(\"./PrintingNip/Files/PrintingNip-Part3.csv\", ColSep: ';');"
   ]
  },
  {
   "cell_type": "markdown",
   "metadata": {},
   "source": [
    "### Plot Correlation - Constant Nip Width"
   ]
  },
  {
   "cell_type": "markdown",
   "metadata": {},
   "source": [
    "Plot all Properties, we looked at before as functions of nip width. Remember, this time around the pressure b.c. is such that the stagnation point should remain constant"
   ]
  },
  {
   "cell_type": "code",
   "execution_count": null,
   "metadata": {
    "dotnet_interactive": {
     "language": "csharp"
    },
    "vscode": {
     "languageId": "dotnet-interactive.csharp"
    }
   },
   "outputs": [],
   "source": [
    "var tab2plt = tab.ExtractRows((i,row) => Convert.ToDouble(row[\"id:P_Diff\"]) > 0.0 && Convert.ToDouble(row[\"id:delta\"]).ApproxEqual(1e-5)); // arbitrary nip width"
   ]
  },
  {
   "cell_type": "code",
   "execution_count": null,
   "metadata": {
    "dotnet_interactive": {
     "language": "csharp"
    },
    "vscode": {
     "languageId": "dotnet-interactive.csharp"
    }
   },
   "outputs": [],
   "source": [
    "List<Plot2Ddata> plts = new List<Plot2Ddata>();\n",
    "foreach(string col in Columns){\n",
    "    int k = Columns.IndexOf(col);\n",
    "    var plt = tab2plt.ToPlot(\"id:V_Wall\", col, ColName_GroupSelection: new string[] { \"id:Raster\" });    \n",
    "    plt.LogX   = true;\n",
    "    plt.LogY   = true;\n",
    "    plt.Xlabel = @\"Printing Velocity Width $\\\\\\left[\\\\\\frac{m}{s}\\\\right]$\";\n",
    "    plt.Ylabel = Labels[k] + \" \" + Units[k];\n",
    "    plt.LabelTitleFont = 32;\n",
    "    plt.LabelFont = 24;\n",
    "    plt.LegendFont = 18;\n",
    "    plt.lmargin = 12;\n",
    "    plt.bmargin = 4;\n",
    "    plt.ShowLegend = true;    \n",
    "    plt.LegendBox = true;\n",
    "    if(plt.Regression().Average(kv => kv.Value) > 0){\n",
    "        plt.LegendAlignment = new string[]{\"i\", \"l\", \"t\"};\n",
    "        plt.LegendSwap = true;    \n",
    "    } else{\n",
    "        plt.LegendAlignment = new string[]{\"i\", \"r\", \"t\"};\n",
    "        plt.LegendSwap = false;    \n",
    "    }\n",
    "    for(int n= 0; n < plt.dataGroups.Count(); n++){\n",
    "        plt.dataGroups[n].Format.LineWidth = 2;\n",
    "        plt.dataGroups[n].Format.PointSize = 1;\n",
    "        plt.dataGroups[n].Name = \"Raster $ = \" + Convert.ToDouble(plt.dataGroups[n].Name.Split(\"id:Raster\").Last()).ToString() + @\" \\\\\\frac{1}{cm}$\";\n",
    "    }\n",
    "    plt.ModFormat();\n",
    "    plts.Add(plt);\n",
    "}"
   ]
  },
  {
   "cell_type": "code",
   "execution_count": null,
   "metadata": {
    "dotnet_interactive": {
     "language": "csharp"
    },
    "vscode": {
     "languageId": "dotnet-interactive.csharp"
    }
   },
   "outputs": [],
   "source": [
    "using(StreamWriter stw = new StreamWriter(\"./PrintingNip/Output/SlopesOverRaster.txt\")){\n",
    "    foreach(var plt in plts){\n",
    "        var slopes = plt.Regression();\n",
    "        stw.WriteLine(\"<===================================================>\");\n",
    "        stw.WriteLine(plt.Ylabel + \":\");\n",
    "        slopes.ForEach(kvp => stw.WriteLine(\"\\t\" + kvp.Key + \" : \" + kvp.Value));\n",
    "        stw.WriteLine(\"<===================================================>\");\n",
    "    }\n",
    "}"
   ]
  },
  {
   "cell_type": "code",
   "execution_count": null,
   "metadata": {
    "dotnet_interactive": {
     "language": "csharp"
    },
    "vscode": {
     "languageId": "dotnet-interactive.csharp"
    }
   },
   "outputs": [
    {
     "name": "stdout",
     "output_type": "stream",
     "text": [
      "Using gnuplot: C:\\Program Files (x86)\\FDY\\BoSSS\\BoSSS\\bin\\native\\win\\gnuplot-gp510-20160418-win32-mingw\\gnuplot\\bin\\gnuplot.exe\r\n",
      "set key font \",18\" inside left top Left reverse box opaque \r\n",
      "Using gnuplot: C:\\Program Files (x86)\\FDY\\BoSSS\\BoSSS\\bin\\native\\win\\gnuplot-gp510-20160418-win32-mingw\\gnuplot\\bin\\gnuplot.exe\r\n",
      "set key font \",18\" inside left top Left reverse box opaque \r\n",
      "Using gnuplot: C:\\Program Files (x86)\\FDY\\BoSSS\\BoSSS\\bin\\native\\win\\gnuplot-gp510-20160418-win32-mingw\\gnuplot\\bin\\gnuplot.exe\r\n",
      "set key font \",18\" inside left top Left reverse box opaque \r\n",
      "Using gnuplot: C:\\Program Files (x86)\\FDY\\BoSSS\\BoSSS\\bin\\native\\win\\gnuplot-gp510-20160418-win32-mingw\\gnuplot\\bin\\gnuplot.exe\r\n",
      "set key font \",18\" inside left top Left reverse box opaque \r\n",
      "Using gnuplot: C:\\Program Files (x86)\\FDY\\BoSSS\\BoSSS\\bin\\native\\win\\gnuplot-gp510-20160418-win32-mingw\\gnuplot\\bin\\gnuplot.exe\r\n",
      "set key font \",18\" inside left top Left reverse box opaque \r\n",
      "Using gnuplot: C:\\Program Files (x86)\\FDY\\BoSSS\\BoSSS\\bin\\native\\win\\gnuplot-gp510-20160418-win32-mingw\\gnuplot\\bin\\gnuplot.exe\r\n",
      "set key font \",18\" inside left top Left reverse box opaque \r\n",
      "Using gnuplot: C:\\Program Files (x86)\\FDY\\BoSSS\\BoSSS\\bin\\native\\win\\gnuplot-gp510-20160418-win32-mingw\\gnuplot\\bin\\gnuplot.exe\r\n",
      "set key font \",18\" inside left top Left reverse box opaque \r\n",
      "Using gnuplot: C:\\Program Files (x86)\\FDY\\BoSSS\\BoSSS\\bin\\native\\win\\gnuplot-gp510-20160418-win32-mingw\\gnuplot\\bin\\gnuplot.exe\r\n",
      "set key font \",18\" inside left top Left reverse box opaque \r\n",
      "Using gnuplot: C:\\Program Files (x86)\\FDY\\BoSSS\\BoSSS\\bin\\native\\win\\gnuplot-gp510-20160418-win32-mingw\\gnuplot\\bin\\gnuplot.exe\r\n",
      "set key font \",18\" inside left top Left reverse box opaque \r\n",
      "Using gnuplot: C:\\Program Files (x86)\\FDY\\BoSSS\\BoSSS\\bin\\native\\win\\gnuplot-gp510-20160418-win32-mingw\\gnuplot\\bin\\gnuplot.exe\r\n",
      "set key font \",18\" inside left top Left reverse box opaque \r\n",
      "Using gnuplot: C:\\Program Files (x86)\\FDY\\BoSSS\\BoSSS\\bin\\native\\win\\gnuplot-gp510-20160418-win32-mingw\\gnuplot\\bin\\gnuplot.exe\r\n",
      "set key font \",18\" inside left top Left reverse box opaque \r\n",
      "Using gnuplot: C:\\Program Files (x86)\\FDY\\BoSSS\\BoSSS\\bin\\native\\win\\gnuplot-gp510-20160418-win32-mingw\\gnuplot\\bin\\gnuplot.exe\r\n",
      "set key font \",18\" inside left top Left reverse box opaque \r\n",
      "Using gnuplot: C:\\Program Files (x86)\\FDY\\BoSSS\\BoSSS\\bin\\native\\win\\gnuplot-gp510-20160418-win32-mingw\\gnuplot\\bin\\gnuplot.exe\r\n",
      "set key font \",18\" inside left top Left reverse box opaque \r\n",
      "Using gnuplot: C:\\Program Files (x86)\\FDY\\BoSSS\\BoSSS\\bin\\native\\win\\gnuplot-gp510-20160418-win32-mingw\\gnuplot\\bin\\gnuplot.exe\r\n",
      "set key font \",18\" inside left top Left reverse box opaque \r\n",
      "Using gnuplot: C:\\Program Files (x86)\\FDY\\BoSSS\\BoSSS\\bin\\native\\win\\gnuplot-gp510-20160418-win32-mingw\\gnuplot\\bin\\gnuplot.exe\r\n",
      "set key font \",18\" inside left top Left reverse box opaque \r\n"
     ]
    }
   ],
   "source": [
    "int k = 0;\n",
    "foreach(var plt in plts){\n",
    "    var gp = new Gnuplot();\n",
    "    gp.PlotLogSlope(plt, format: new PlotFormat(lineColor: (LineColors)7));\n",
    "    gp.Cmd(\"set key box width -9\");\n",
    "    plt.ToGnuplot(gp);\n",
    "    gp.PlotCairolatex().SaveTo(\"./PrintingNip/Figures/Part3/H0_\"+Columns[k]+\".tex\");\n",
    "    k++;\n",
    "}"
   ]
  },
  {
   "cell_type": "markdown",
   "metadata": {},
   "source": [
    "### Plot Correlation - Constant Raster"
   ]
  },
  {
   "cell_type": "code",
   "execution_count": null,
   "metadata": {
    "dotnet_interactive": {
     "language": "csharp"
    },
    "vscode": {
     "languageId": "dotnet-interactive.csharp"
    }
   },
   "outputs": [],
   "source": [
    "var tab2plt = tab.ExtractRows((i,row) => Convert.ToDouble(row[\"id:P_Diff\"]) > 0.0 && Convert.ToDouble(row[\"id:Raster\"]).ApproxEqual(80)); // arbitrary nip width"
   ]
  },
  {
   "cell_type": "code",
   "execution_count": null,
   "metadata": {
    "dotnet_interactive": {
     "language": "csharp"
    },
    "vscode": {
     "languageId": "dotnet-interactive.csharp"
    }
   },
   "outputs": [],
   "source": [
    "List<Plot2Ddata> plts = new List<Plot2Ddata>();\n",
    "foreach(string col in Columns){\n",
    "    int k = Columns.IndexOf(col);\n",
    "    var plt = tab2plt.ToPlot(\"id:V_Wall\", col, ColName_GroupSelection: new string[] { \"id:delta\" });    \n",
    "    plt.LogX   = true;\n",
    "    plt.LogY   = true;\n",
    "    plt.Xlabel = @\"Printing Velocity $\\\\\\left[\\\\\\frac{m}{s}\\\\right]$\";\n",
    "    plt.Ylabel = Labels[k] + \" \" + Units[k];\n",
    "    plt.LabelTitleFont = 32;\n",
    "    plt.LabelFont = 24;\n",
    "    plt.LegendFont = 18;\n",
    "    plt.lmargin = 12;\n",
    "    plt.bmargin = 4;\n",
    "    plt.ShowLegend = true;    \n",
    "    plt.LegendBox = true;\n",
    "    if(plt.Regression().Average(kv => kv.Value) > 0){\n",
    "        plt.LegendAlignment = new string[]{\"i\", \"l\", \"t\"};\n",
    "        plt.LegendSwap = true;    \n",
    "    } else{\n",
    "        plt.LegendAlignment = new string[]{\"i\", \"r\", \"t\"};\n",
    "        plt.LegendSwap = false;    \n",
    "    }     \n",
    "    for(int n= 0; n < plt.dataGroups.Count(); n++){\n",
    "        plt.dataGroups[n].Format.LineWidth = 2;\n",
    "        plt.dataGroups[n].Format.PointSize = 1;\n",
    "        plt.dataGroups[n].Name = @\"$\\\\\\varepsilon = \" + Convert.ToDouble(plt.dataGroups[n].Name.Split(\"id:delta\").Last()).ToString(\"0e0\").Replace(\"e\",\"\\\\\\\\times 10^{\") + \"}\" + @\" m$\";\n",
    "    }\n",
    "    plt.ModFormat();\n",
    "    plts.Add(plt);\n",
    "}"
   ]
  },
  {
   "cell_type": "code",
   "execution_count": null,
   "metadata": {
    "dotnet_interactive": {
     "language": "csharp"
    },
    "vscode": {
     "languageId": "dotnet-interactive.csharp"
    }
   },
   "outputs": [],
   "source": [
    "using(StreamWriter stw = new StreamWriter(\"./PrintingNip/Output/SlopesOverNipWidth.txt\")){\n",
    "    foreach(var plt in plts){\n",
    "        var slopes = plt.Regression();\n",
    "        stw.WriteLine(\"<===================================================>\");\n",
    "        stw.WriteLine(plt.Ylabel + \":\");\n",
    "        slopes.ForEach(kvp => stw.WriteLine(\"\\t\" + kvp.Key + \" : \" + kvp.Value));\n",
    "        stw.WriteLine(\"<===================================================>\");\n",
    "    }\n",
    "}"
   ]
  },
  {
   "cell_type": "code",
   "execution_count": null,
   "metadata": {
    "dotnet_interactive": {
     "language": "csharp"
    },
    "vscode": {
     "languageId": "dotnet-interactive.csharp"
    }
   },
   "outputs": [
    {
     "name": "stdout",
     "output_type": "stream",
     "text": [
      "Using gnuplot: C:\\Program Files (x86)\\FDY\\BoSSS\\BoSSS\\bin\\native\\win\\gnuplot-gp510-20160418-win32-mingw\\gnuplot\\bin\\gnuplot.exe\r\n",
      "set key font \",18\" inside left top Left reverse box opaque \r\n",
      "Using gnuplot: C:\\Program Files (x86)\\FDY\\BoSSS\\BoSSS\\bin\\native\\win\\gnuplot-gp510-20160418-win32-mingw\\gnuplot\\bin\\gnuplot.exe\r\n",
      "set key font \",18\" inside left top Left reverse box opaque \r\n",
      "Using gnuplot: C:\\Program Files (x86)\\FDY\\BoSSS\\BoSSS\\bin\\native\\win\\gnuplot-gp510-20160418-win32-mingw\\gnuplot\\bin\\gnuplot.exe\r\n",
      "set key font \",18\" inside left top Left reverse box opaque \r\n",
      "Using gnuplot: C:\\Program Files (x86)\\FDY\\BoSSS\\BoSSS\\bin\\native\\win\\gnuplot-gp510-20160418-win32-mingw\\gnuplot\\bin\\gnuplot.exe\r\n",
      "set key font \",18\" inside left top Left reverse box opaque \r\n",
      "Using gnuplot: C:\\Program Files (x86)\\FDY\\BoSSS\\BoSSS\\bin\\native\\win\\gnuplot-gp510-20160418-win32-mingw\\gnuplot\\bin\\gnuplot.exe\r\n",
      "set key font \",18\" inside left top Left reverse box opaque \r\n",
      "Using gnuplot: C:\\Program Files (x86)\\FDY\\BoSSS\\BoSSS\\bin\\native\\win\\gnuplot-gp510-20160418-win32-mingw\\gnuplot\\bin\\gnuplot.exe\r\n",
      "set key font \",18\" inside left top Left reverse box opaque \r\n",
      "Using gnuplot: C:\\Program Files (x86)\\FDY\\BoSSS\\BoSSS\\bin\\native\\win\\gnuplot-gp510-20160418-win32-mingw\\gnuplot\\bin\\gnuplot.exe\r\n",
      "set key font \",18\" inside left top Left reverse box opaque \r\n",
      "Using gnuplot: C:\\Program Files (x86)\\FDY\\BoSSS\\BoSSS\\bin\\native\\win\\gnuplot-gp510-20160418-win32-mingw\\gnuplot\\bin\\gnuplot.exe\r\n",
      "set key font \",18\" inside left top Left reverse box opaque \r\n",
      "Using gnuplot: C:\\Program Files (x86)\\FDY\\BoSSS\\BoSSS\\bin\\native\\win\\gnuplot-gp510-20160418-win32-mingw\\gnuplot\\bin\\gnuplot.exe\r\n",
      "set key font \",18\" inside left top Left reverse box opaque \r\n",
      "Using gnuplot: C:\\Program Files (x86)\\FDY\\BoSSS\\BoSSS\\bin\\native\\win\\gnuplot-gp510-20160418-win32-mingw\\gnuplot\\bin\\gnuplot.exe\r\n",
      "set key font \",18\" inside left top Left reverse box opaque \r\n",
      "Using gnuplot: C:\\Program Files (x86)\\FDY\\BoSSS\\BoSSS\\bin\\native\\win\\gnuplot-gp510-20160418-win32-mingw\\gnuplot\\bin\\gnuplot.exe\r\n",
      "set key font \",18\" inside left top Left reverse box opaque \r\n",
      "Using gnuplot: C:\\Program Files (x86)\\FDY\\BoSSS\\BoSSS\\bin\\native\\win\\gnuplot-gp510-20160418-win32-mingw\\gnuplot\\bin\\gnuplot.exe\r\n",
      "set key font \",18\" inside left top Left reverse box opaque \r\n",
      "Using gnuplot: C:\\Program Files (x86)\\FDY\\BoSSS\\BoSSS\\bin\\native\\win\\gnuplot-gp510-20160418-win32-mingw\\gnuplot\\bin\\gnuplot.exe\r\n",
      "set key font \",18\" inside left top Left reverse box opaque \r\n",
      "Using gnuplot: C:\\Program Files (x86)\\FDY\\BoSSS\\BoSSS\\bin\\native\\win\\gnuplot-gp510-20160418-win32-mingw\\gnuplot\\bin\\gnuplot.exe\r\n",
      "set key font \",18\" inside left top Left reverse box opaque \r\n",
      "Using gnuplot: C:\\Program Files (x86)\\FDY\\BoSSS\\BoSSS\\bin\\native\\win\\gnuplot-gp510-20160418-win32-mingw\\gnuplot\\bin\\gnuplot.exe\r\n",
      "set key font \",18\" inside left top Left reverse box opaque \r\n"
     ]
    }
   ],
   "source": [
    "int k = 0;\n",
    "foreach(var plt in plts){\n",
    "    var gp = new Gnuplot();\n",
    "    gp.PlotLogSlope(plt, format: new PlotFormat(lineColor: (LineColors)7));\n",
    "    gp.Cmd(\"set key box width -5\");\n",
    "    plt.ToGnuplot(gp);\n",
    "    gp.PlotCairolatex().SaveTo(\"./PrintingNip/Figures/Part3/R0_\"+Columns[k]+\".tex\");\n",
    "    k++;\n",
    "}"
   ]
  },
  {
   "cell_type": "markdown",
   "metadata": {},
   "source": [
    "### Plot Correlation - Constant Raster, Nip-Width on abscissa"
   ]
  },
  {
   "cell_type": "code",
   "execution_count": null,
   "metadata": {
    "dotnet_interactive": {
     "language": "csharp"
    },
    "vscode": {
     "languageId": "dotnet-interactive.csharp"
    }
   },
   "outputs": [],
   "source": [
    "var tab2plt = tab.ExtractRows((i,row) => Convert.ToDouble(row[\"id:P_Diff\"]) > 0.0 && Convert.ToDouble(row[\"id:Raster\"]).ApproxEqual(80)); // arbitrary nip width"
   ]
  },
  {
   "cell_type": "code",
   "execution_count": null,
   "metadata": {
    "dotnet_interactive": {
     "language": "csharp"
    },
    "vscode": {
     "languageId": "dotnet-interactive.csharp"
    }
   },
   "outputs": [],
   "source": [
    "List<Plot2Ddata> plts = new List<Plot2Ddata>();\n",
    "foreach(string col in Columns){\n",
    "    int k = Columns.IndexOf(col);\n",
    "    var plt = tab2plt.ToPlot(\"id:delta\", col, ColName_GroupSelection: new string[] { \"id:V_Wall\" });    \n",
    "    plt.LogX   = true;\n",
    "    plt.LogY   = true;\n",
    "    plt.Xlabel = @\"Nip Width $\\\\\\left[m]$\";\n",
    "    plt.Ylabel = Labels[k] + \" \" + Units[k];\n",
    "    plt.LabelTitleFont = 32;\n",
    "    plt.LabelFont = 24;\n",
    "    plt.LegendFont = 18;\n",
    "    plt.lmargin = 12;\n",
    "    plt.bmargin = 4;\n",
    "    plt.ShowLegend = true;    \n",
    "    plt.LegendBox = true;\n",
    "    if(plt.Regression().Average(kv => kv.Value) > 0){\n",
    "        plt.LegendAlignment = new string[]{\"i\", \"l\", \"t\"};\n",
    "        plt.LegendSwap = true;    \n",
    "    } else{\n",
    "        plt.LegendAlignment = new string[]{\"i\", \"r\", \"t\"};\n",
    "        plt.LegendSwap = false;    \n",
    "    }     \n",
    "    for(int n= 0; n < plt.dataGroups.Count(); n++){\n",
    "        plt.dataGroups[n].Format.LineWidth = 2;\n",
    "        plt.dataGroups[n].Format.PointSize = 1;\n",
    "        plt.dataGroups[n].Name = @\"$V_Wall = \" + Convert.ToDouble(plt.dataGroups[n].Name.Split(\"id:V_Wall\").Last()) + \"}\" + @\" \\\\\\frac{m}{s}$\";\n",
    "    }\n",
    "    plt.ModFormat();\n",
    "    plts.Add(plt);\n",
    "}"
   ]
  },
  {
   "cell_type": "code",
   "execution_count": null,
   "metadata": {
    "dotnet_interactive": {
     "language": "csharp"
    },
    "vscode": {
     "languageId": "dotnet-interactive.csharp"
    }
   },
   "outputs": [
    {
     "name": "stdout",
     "output_type": "stream",
     "text": [
      "Using gnuplot: C:\\Program Files (x86)\\FDY\\BoSSS\\BoSSS\\bin\\native\\win\\gnuplot-gp510-20160418-win32-mingw\\gnuplot\\bin\\gnuplot.exe\r\n",
      "set key font \",18\" inside right top box opaque \r\n",
      "Using gnuplot: C:\\Program Files (x86)\\FDY\\BoSSS\\BoSSS\\bin\\native\\win\\gnuplot-gp510-20160418-win32-mingw\\gnuplot\\bin\\gnuplot.exe\r\n",
      "set key font \",18\" inside right top box opaque \r\n",
      "Using gnuplot: C:\\Program Files (x86)\\FDY\\BoSSS\\BoSSS\\bin\\native\\win\\gnuplot-gp510-20160418-win32-mingw\\gnuplot\\bin\\gnuplot.exe\r\n",
      "set key font \",18\" inside right top box opaque \r\n",
      "Using gnuplot: C:\\Program Files (x86)\\FDY\\BoSSS\\BoSSS\\bin\\native\\win\\gnuplot-gp510-20160418-win32-mingw\\gnuplot\\bin\\gnuplot.exe\r\n",
      "set key font \",18\" inside right top box opaque \r\n",
      "Using gnuplot: C:\\Program Files (x86)\\FDY\\BoSSS\\BoSSS\\bin\\native\\win\\gnuplot-gp510-20160418-win32-mingw\\gnuplot\\bin\\gnuplot.exe\r\n",
      "set key font \",18\" inside right top box opaque \r\n",
      "Using gnuplot: C:\\Program Files (x86)\\FDY\\BoSSS\\BoSSS\\bin\\native\\win\\gnuplot-gp510-20160418-win32-mingw\\gnuplot\\bin\\gnuplot.exe\r\n",
      "set key font \",18\" inside right top box opaque \r\n",
      "Using gnuplot: C:\\Program Files (x86)\\FDY\\BoSSS\\BoSSS\\bin\\native\\win\\gnuplot-gp510-20160418-win32-mingw\\gnuplot\\bin\\gnuplot.exe\r\n",
      "set key font \",18\" inside right top box opaque \r\n",
      "Using gnuplot: C:\\Program Files (x86)\\FDY\\BoSSS\\BoSSS\\bin\\native\\win\\gnuplot-gp510-20160418-win32-mingw\\gnuplot\\bin\\gnuplot.exe\r\n",
      "set key font \",18\" inside right top box opaque \r\n",
      "Using gnuplot: C:\\Program Files (x86)\\FDY\\BoSSS\\BoSSS\\bin\\native\\win\\gnuplot-gp510-20160418-win32-mingw\\gnuplot\\bin\\gnuplot.exe\r\n",
      "set key font \",18\" inside right top box opaque \r\n",
      "Using gnuplot: C:\\Program Files (x86)\\FDY\\BoSSS\\BoSSS\\bin\\native\\win\\gnuplot-gp510-20160418-win32-mingw\\gnuplot\\bin\\gnuplot.exe\r\n",
      "set key font \",18\" inside right top box opaque \r\n",
      "Using gnuplot: C:\\Program Files (x86)\\FDY\\BoSSS\\BoSSS\\bin\\native\\win\\gnuplot-gp510-20160418-win32-mingw\\gnuplot\\bin\\gnuplot.exe\r\n",
      "set key font \",18\" inside right top box opaque \r\n",
      "Using gnuplot: C:\\Program Files (x86)\\FDY\\BoSSS\\BoSSS\\bin\\native\\win\\gnuplot-gp510-20160418-win32-mingw\\gnuplot\\bin\\gnuplot.exe\r\n",
      "set key font \",18\" inside right top box opaque \r\n",
      "Using gnuplot: C:\\Program Files (x86)\\FDY\\BoSSS\\BoSSS\\bin\\native\\win\\gnuplot-gp510-20160418-win32-mingw\\gnuplot\\bin\\gnuplot.exe\r\n",
      "set key font \",18\" inside right top box opaque \r\n",
      "Using gnuplot: C:\\Program Files (x86)\\FDY\\BoSSS\\BoSSS\\bin\\native\\win\\gnuplot-gp510-20160418-win32-mingw\\gnuplot\\bin\\gnuplot.exe\r\n",
      "set key font \",18\" inside right top box opaque \r\n",
      "Using gnuplot: C:\\Program Files (x86)\\FDY\\BoSSS\\BoSSS\\bin\\native\\win\\gnuplot-gp510-20160418-win32-mingw\\gnuplot\\bin\\gnuplot.exe\r\n",
      "set key font \",18\" inside right top box opaque \r\n"
     ]
    }
   ],
   "source": [
    "int k = 0;\n",
    "foreach(var plt in plts){\n",
    "    var gp = new Gnuplot();\n",
    "    gp.PlotLogSlope(plt, format: new PlotFormat(lineColor: (LineColors)7));\n",
    "    gp.Cmd(\"set key box width -5\");\n",
    "    plt.ToGnuplot(gp);\n",
    "    gp.PlotCairolatex().SaveTo(\"./PrintingNip/Figures/Part3/R0_\"+Columns[k]+\"OverH.tex\");\n",
    "    k++;\n",
    "}"
   ]
  },
  {
   "cell_type": "markdown",
   "metadata": {},
   "source": [
    "### Comparison to experiment"
   ]
  },
  {
   "cell_type": "code",
   "execution_count": null,
   "metadata": {
    "dotnet_interactive": {
     "language": "csharp"
    },
    "vscode": {
     "languageId": "dotnet-interactive.csharp"
    }
   },
   "outputs": [],
   "source": [
    "string[] lines = File.ReadAllLines(\"./ExperimentalResults.txt\");\n",
    "List<Tuple<double, double, double, double>> ExpResult = new List<Tuple<double, double, double, double>>(); // <Raster,V,dpdx,dpdx(std)>\n",
    "\n",
    "double e = 0.0395; // viscosity\n",
    "double s = 0.027; // surface tension\n",
    "\n",
    "for(int i = 1; i < lines.Length; i++){\n",
    "    string line = lines[i];\n",
    "    string[] values = line.Split('\\t');\n",
    "    double raster = Convert.ToDouble(values[0]);\n",
    "    double velocity = Convert.ToDouble(values[1]);\n",
    "    double finger = Convert.ToDouble(values[2])*100; // convert to 1/m\n",
    "    double fingerStd = Convert.ToDouble(values[3])*100; // standard deviation, convert to 1/m\n",
    "\n",
    "    double dpdx = 16*s*finger*finger;\n",
    "    double dpdxStd = 32*s*finger*fingerStd;\n",
    "    \n",
    "    ExpResult.Add(Tuple.Create(raster, velocity, dpdx, dpdxStd));\n",
    "}"
   ]
  },
  {
   "cell_type": "code",
   "execution_count": null,
   "metadata": {
    "dotnet_interactive": {
     "language": "csharp"
    },
    "vscode": {
     "languageId": "dotnet-interactive.csharp"
    }
   },
   "outputs": [
    {
     "name": "stdout",
     "output_type": "stream",
     "text": [
      "Using gnuplot: C:\\Program Files (x86)\\FDY\\BoSSS\\BoSSS\\bin\\native\\win\\gnuplot-gp510-20160418-win32-mingw\\gnuplot\\bin\\gnuplot.exe\r\n",
      "Using gnuplot: C:\\Program Files (x86)\\FDY\\BoSSS\\BoSSS\\bin\\native\\win\\gnuplot-gp510-20160418-win32-mingw\\gnuplot\\bin\\gnuplot.exe\r\n"
     ]
    }
   ],
   "source": [
    "double[] raster = new double[]{60.0, 70.0/*, 80.0, 100.0*/};\n",
    "var Plots = new Gnuplot[raster.Length];\n",
    "for(int i = 0; i < raster.Length; i++){\n",
    "\n",
    "    // data for experiment\n",
    "    var Exp = ExpResult.Where(r => r.Item1 == raster[i]);\n",
    "    var xExp = Exp.Select(r => r.Item2);\n",
    "    var yExp = Exp.Select(r => r.Item3);\n",
    "    var yDevExp = Exp.Select(r => r.Item4);\n",
    "\n",
    "    // data for simulation\n",
    "    var tab2plt = tab.ExtractRows((j,row) => Convert.ToDouble(row[\"id:delta\"]) == 1e-5 && Convert.ToDouble(row[\"id:Raster\"]).ApproxEqual(raster[i])); // arbitrary nip width\n",
    "    var xSim = tab2plt.Select().Select(row => Convert.ToDouble(row[\"id:V_Wall\"])).ToArray();\n",
    "    var ySim = tab2plt.Select().Select(row => Convert.ToDouble(row[\"dPdXatStagnationPoint\"])).ToArray();\n",
    "\n",
    "    // Add Data to plot\n",
    "    var gp = new Gnuplot();\n",
    "    Plots[i] = gp;\n",
    "    gp.PlotXY(xExp, yExp, \"Experiment\", new PlotFormat(null, LineColors.Red, DashTypes.Solid, 2, Styles.LinesPoints, PointTypes.Circle), logX: true, logY: true, useY2: true);\n",
    "    gp.PlotXY(xExp, yExp.Select((x, j) => x + yDevExp.ElementAt(j)), null, new PlotFormat(null, LineColors.Red, DashTypes.Dashed, 1, Styles.LinesPoints, PointTypes.Plus), logX: true, logY: true, useY2: true);\n",
    "    gp.PlotXY(xExp, yExp.Select((x, j) => x - yDevExp.ElementAt(j)), null, new PlotFormat(null, LineColors.Red, DashTypes.Dashed, 1, Styles.LinesPoints, PointTypes.Plus), logX: true, logY: true, useY2: true);\n",
    "\n",
    "    gp.SetYRange(0.9 * ySim.Min(), 1.1 * ySim.Max());\n",
    "    gp.SetXRange(0.1, 1.5);\n",
    "    gp.SetY2Range(0.9 * yExp.Min(), 1.1 * yExp.Min() * ySim.Max() / ySim.Min());\n",
    "\n",
    "    Plot2Ddata dat = new Plot2Ddata(xSim.Select(x => Math.Log10(x)), ySim.Select(x => Math.Log10(x)));\n",
    "    double slope = Math.Round(dat.Regression().Average(kv => kv.Value) / 0.1) * 0.1;    \n",
    "    gp.PlotXY(new double[] {xSim.Min(), xSim.Max()}, new double[] {ySim.Average() * Math.Pow((xSim.Min()/xSim.Average()), slope), ySim.Average() * Math.Pow((xSim.Max()/xSim.Average()), slope) }, null, new PlotFormat(null, LineColors.Black, DashTypes.Solid, 1), logX: true, logY: true);\n",
    "\n",
    "    using (StringWriter stw = new StringWriter()) {\n",
    "        double[,] points = new double[4, 2];\n",
    "        points[0, 0] = xSim.Average();\n",
    "        points[1, 0] = 1.1 * xSim.Average();\n",
    "        points[2, 0] = 1.1 * xSim.Average();\n",
    "        points[3, 0] = xSim.Average();\n",
    "\n",
    "        points[0, 1] = ySim.Average();\n",
    "        points[1, 1] = ySim.Average();\n",
    "        points[2, 1] = ySim.Average() * Math.Pow(1.1, slope);\n",
    "        points[3, 1] = ySim.Average() * Math.Pow(1.1, slope);\n",
    "\n",
    "        stw.Write(\"set object poly from \");\n",
    "        \n",
    "        stw.Write(points[0, 0] + \",\" + points[0, 1]); stw.Write(\" to \");\n",
    "        stw.Write(points[2, 0] + \",\" + points[2, 1]); stw.Write(\" to \");\n",
    "        stw.Write(points[3, 0] + \",\" + points[3, 1]); stw.Write(\" to \");\n",
    "        stw.Write(points[0, 0] + \",\" + points[0, 1]);\n",
    "\n",
    "        string ColorString;\n",
    "        ColorString = \"\\\"black\\\"\";        \n",
    "        \n",
    "        stw.Write(\" fs empty border lc rgb \"+ColorString);\n",
    "        stw.WriteLine();\n",
    "\n",
    "        stw.Write(\"set label \"); stw.Write(\"\\\"1\\\" font \\\",14\\\"\"); stw.Write(\" at \");\n",
    "        stw.Write(0.5 * (points[0, 0] + points[1, 0]) + \",\" + points[2, 1]);\n",
    "        if (slope > 0) { stw.Write(\" offset character -0.5,0.5\"); } else { stw.Write(\" offset character -0.5,-0.75\"); };\n",
    "        stw.WriteLine();\n",
    "\n",
    "        stw.Write(\"set label \"); stw.Write(\"\\\"\" + slope.ToString(\"N1\") + \"\\\" font \\\",14\\\"\"); stw.Write(\" at \");\n",
    "        stw.Write(points[0, 0] + \",\" + 0.5 * (points[0, 1] + points[3, 1])); stw.Write(\" right offset character -0.25,-0.25\");\n",
    "\n",
    "        gp.Cmd(stw.ToString());\n",
    "    }\n",
    "\n",
    "    gp.PlotLogXLogY(xSim, ySim, \"Simulation\", new PlotFormat(null, LineColors.Black, DashTypes.Dashed, 2, Styles.LinesPoints, PointTypes.OpenCircle));\n",
    "\n",
    "    gp.Cmd($\"set title \\\"Raster : {raster[i]}\\\" font \\\", 32\\\"\");\n",
    "    gp.Cmd(\"set xtics font \\\", 16\\\"\");\n",
    "    gp.Cmd(\"set ytics font \\\", 16\\\"\");\n",
    "    gp.Cmd(\"set y2tics autofreq font \\\", 16\\\" textcolor \\\"red\\\"\");\n",
    "    gp.Cmd(\"set y2tics autofreq font \\\", 16\\\" textcolor \\\"red\\\"\");\n",
    "    gp.Cmd(\"set bmargin 4\");\n",
    "    gp.Cmd(\"set key font \\\",24\\\"\");\n",
    "    gp.Cmd(\"set ylabel \\\"Pressure Gradient\\\" font \\\",24\\\"\");\n",
    "    gp.Cmd(\"set xlabel \\\"Printing Velocity\\\" font \\\",24\\\"\");\n",
    "    gp.Cmd($\"set border 1+2+4 lt 8\");\n",
    "    gp.Cmd($\"set arrow 1 from 1.5, {0.9 * ySim.Min()} to 1.5, {1.1 * ySim.Max()} nohead lt 7\");\n",
    "}"
   ]
  },
  {
   "cell_type": "code",
   "execution_count": null,
   "metadata": {
    "dotnet_interactive": {
     "language": "csharp"
    },
    "vscode": {
     "languageId": "dotnet-interactive.csharp"
    }
   },
   "outputs": [
    {
     "data": {
      "text/html": [
       "<?xml version=\"1.0\" encoding=\"utf-8\"  standalone=\"no\"?>\n",
       "<!DOCTYPE svg PUBLIC \"-//W3C//DTD SVG 1.1//EN\"\n",
       " \"http://www.w3.org/Graphics/SVG/1.1/DTD/svg11.dtd\">\n",
       "<svg \n",
       " width=\"1200\" height=\"900\"\n",
       " viewBox=\"0 0 1200 900\"\n",
       " xmlns=\"http://www.w3.org/2000/svg\"\n",
       " xmlns:xlink=\"http://www.w3.org/1999/xlink\"\n",
       ">\n",
       "\n",
       "<title>Gnuplot</title>\n",
       "<desc>Produced by GNUPLOT 5.1 patchlevel 0 </desc>\n",
       "\n",
       "<g id=\"gnuplot_canvas\">\n",
       "\n",
       "<rect x=\"0\" y=\"0\" width=\"1200\" height=\"900\" fill=\"#ffffff\"/>\n",
       "<defs>\n",
       "\n",
       "\t<circle id='gpDot' r='0.5' stroke-width='0.5'/>\n",
       "\t<path id='gpPt0' stroke-width='0.222' stroke='currentColor' d='M-1,0 h2 M0,-1 v2'/>\n",
       "\t<path id='gpPt1' stroke-width='0.222' stroke='currentColor' d='M-1,-1 L1,1 M1,-1 L-1,1'/>\n",
       "\t<path id='gpPt2' stroke-width='0.222' stroke='currentColor' d='M-1,0 L1,0 M0,-1 L0,1 M-1,-1 L1,1 M-1,1 L1,-1'/>\n",
       "\t<rect id='gpPt3' stroke-width='0.222' stroke='currentColor' x='-1' y='-1' width='2' height='2'/>\n",
       "\t<rect id='gpPt4' stroke-width='0.222' stroke='currentColor' fill='currentColor' x='-1' y='-1' width='2' height='2'/>\n",
       "\t<circle id='gpPt5' stroke-width='0.222' stroke='currentColor' cx='0' cy='0' r='1'/>\n",
       "\t<use xlink:href='#gpPt5' id='gpPt6' fill='currentColor' stroke='none'/>\n",
       "\t<path id='gpPt7' stroke-width='0.222' stroke='currentColor' d='M0,-1.33 L-1.33,0.67 L1.33,0.67 z'/>\n",
       "\t<use xlink:href='#gpPt7' id='gpPt8' fill='currentColor' stroke='none'/>\n",
       "\t<use xlink:href='#gpPt7' id='gpPt9' stroke='currentColor' transform='rotate(180)'/>\n",
       "\t<use xlink:href='#gpPt9' id='gpPt10' fill='currentColor' stroke='none'/>\n",
       "\t<use xlink:href='#gpPt3' id='gpPt11' stroke='currentColor' transform='rotate(45)'/>\n",
       "\t<use xlink:href='#gpPt11' id='gpPt12' fill='currentColor' stroke='none'/>\n",
       "\t<path id='gpPt13' stroke-width='0.222' stroke='currentColor' d='M0,1.330 L1.265,0.411 L0.782,-1.067 L-0.782,-1.076 L-1.265,0.411 z'/>\n",
       "\t<use xlink:href='#gpPt13' id='gpPt14' fill='currentColor' stroke='none'/>\n",
       "\t<filter id='textbox' filterUnits='objectBoundingBox' x='0' y='0' height='1' width='1'>\n",
       "\t  <feFlood flood-color='#FFFFFF' flood-opacity='1' result='bgnd'/>\n",
       "\t  <feComposite in='SourceGraphic' in2='bgnd' operator='atop'/>\n",
       "\t</filter>\n",
       "\t<filter id='greybox' filterUnits='objectBoundingBox' x='0' y='0' height='1' width='1'>\n",
       "\t  <feFlood flood-color='lightgrey' flood-opacity='1' result='grey'/>\n",
       "\t  <feComposite in='SourceGraphic' in2='grey' operator='atop'/>\n",
       "\t</filter>\n",
       "</defs>\n",
       "<g fill=\"none\" color=\"#FFFFFF\" stroke=\"currentColor\" stroke-width=\"1.00\" stroke-linecap=\"butt\" stroke-linejoin=\"miter\">\n",
       "</g>\n",
       "<g fill=\"none\" color=\"black\" stroke=\"currentColor\" stroke-width=\"1.00\" stroke-linecap=\"butt\" stroke-linejoin=\"miter\">\n",
       "\t<path stroke='rgb(  0,   0,   0)'  d='M38.7,640.2 L43.2,640.2 M1116.9,640.2 L1112.4,640.2 M38.7,440.3 L43.2,440.3 M1116.9,440.3 L1112.4,440.3\n",
       "\t\tM38.7,285.3 L43.2,285.3 M1116.9,285.3 L1112.4,285.3 M38.7,158.6 L43.2,158.6 M1116.9,158.6 L1112.4,158.6\n",
       "\t\tM38.7,828.0 L38.7,819.0 M38.7,84.1 L38.7,93.1  '/>\t<g transform=\"translate(38.7,852.0)\" stroke=\"none\" fill=\"rgb(0,0,0)\" font-family=\"Arial\" font-size=\"16.00\"  text-anchor=\"middle\">\n",
       "\t\t<text><tspan font-family=\"Arial\" > 0.1</tspan></text>\n",
       "\t</g>\n",
       "</g>\n",
       "<g fill=\"none\" color=\"black\" stroke=\"currentColor\" stroke-width=\"1.00\" stroke-linecap=\"butt\" stroke-linejoin=\"miter\">\n",
       "\t<path stroke='rgb(  0,   0,   0)'  d='M314.7,828.0 L314.7,823.5 M314.7,84.1 L314.7,88.6 M476.1,828.0 L476.1,823.5 M476.1,84.1 L476.1,88.6\n",
       "\t\tM590.6,828.0 L590.6,823.5 M590.6,84.1 L590.6,88.6 M679.5,828.0 L679.5,823.5 M679.5,84.1 L679.5,88.6\n",
       "\t\tM752.1,828.0 L752.1,823.5 M752.1,84.1 L752.1,88.6 M813.5,828.0 L813.5,823.5 M813.5,84.1 L813.5,88.6\n",
       "\t\tM866.6,828.0 L866.6,823.5 M866.6,84.1 L866.6,88.6 M913.5,828.0 L913.5,823.5 M913.5,84.1 L913.5,88.6\n",
       "\t\tM955.5,828.0 L955.5,819.0 M955.5,84.1 L955.5,93.1  '/>\t<g transform=\"translate(955.5,852.0)\" stroke=\"none\" fill=\"rgb(0,0,0)\" font-family=\"Arial\" font-size=\"16.00\"  text-anchor=\"middle\">\n",
       "\t\t<text><tspan font-family=\"Arial\" > 1</tspan></text>\n",
       "\t</g>\n",
       "</g>\n",
       "<g fill=\"none\" color=\"black\" stroke=\"currentColor\" stroke-width=\"1.00\" stroke-linecap=\"butt\" stroke-linejoin=\"miter\">\n",
       "\t<path stroke='rgb(  0,   0,   0)'  d='M1116.9,798.6 L1112.4,798.6 M1116.9,671.9 L1112.4,671.9 M1116.9,564.8 L1112.4,564.8 M1116.9,472.0 L1112.4,472.0\n",
       "\t\tM1116.9,390.1 L1112.4,390.1 M1116.9,316.9 L1107.9,316.9  '/>\t<g transform=\"translate(1125.2,322.9)\" stroke=\"none\" fill=\"rgb(255,0,0)\" font-family=\"Arial\" font-size=\"16.00\"  text-anchor=\"start\">\n",
       "\t\t<text><tspan font-family=\"Arial\" > 1x10</tspan><tspan font-family=\"Arial\"  font-size=\"12.8\" dy=\"-8.00px\">6</tspan><tspan font-size=\"16.0\" dy=\"8.00\"></tspan></text>\n",
       "\t</g>\n",
       "</g>\n",
       "<g fill=\"none\" color=\"black\" stroke=\"currentColor\" stroke-width=\"1.00\" stroke-linecap=\"butt\" stroke-linejoin=\"miter\">\n",
       "</g>\n",
       "<g fill=\"none\" color=\"black\" stroke=\"currentColor\" stroke-width=\"1.00\" stroke-linecap=\"butt\" stroke-linejoin=\"miter\">\n",
       "\t<path stroke='rgb(  0,   0,   0)'  d='M38.7,84.1 L38.7,828.0 L1116.9,828.0 M1116.9,84.1 L38.7,84.1  '/></g>\n",
       "<g fill=\"none\" color=\"black\" stroke=\"currentColor\" stroke-width=\"1.00\" stroke-linecap=\"butt\" stroke-linejoin=\"miter\">\n",
       "\t<path stroke='black'  d='M794.0,416.4 L832.0,403.1 L794.0,403.1 L794.0,416.4 Z  '/>\t<path stroke='rgb(  0,   0,   0)'  d='M794.0,416.4 L832.0,403.1 L794.0,403.1 L794.0,416.4 Z  '/>\t<g transform=\"translate(809.4,399.3)\" stroke=\"none\" fill=\"black\" font-family=\"Arial\" font-size=\"14.00\"  text-anchor=\"start\">\n",
       "\t\t<text><tspan font-family=\"Arial\" >1</tspan></text>\n",
       "\t</g>\n",
       "\t<g transform=\"translate(792.0,419.4)\" stroke=\"none\" fill=\"black\" font-family=\"Arial\" font-size=\"14.00\"  text-anchor=\"end\">\n",
       "\t\t<text><tspan font-family=\"Arial\" >0.2</tspan></text>\n",
       "\t</g>\n",
       "</g>\n",
       "<g fill=\"none\" color=\"black\" stroke=\"currentColor\" stroke-width=\"1.00\" stroke-linecap=\"butt\" stroke-linejoin=\"miter\">\n",
       "\t<path stroke='rgb(229,  30,  16)'  d='M1116.9,828.0 L1116.9,84.1  '/></g>\n",
       "<g fill=\"none\" color=\"black\" stroke=\"currentColor\" stroke-width=\"1.00\" stroke-linecap=\"butt\" stroke-linejoin=\"miter\">\n",
       "\t<g transform=\"translate(22.1,456.1) rotate(270)\" stroke=\"none\" fill=\"black\" font-family=\"Arial\" font-size=\"24.00\"  text-anchor=\"middle\">\n",
       "\t\t<text><tspan font-family=\"Arial\" >Pressure Gradient</tspan></text>\n",
       "\t</g>\n",
       "</g>\n",
       "<g fill=\"none\" color=\"black\" stroke=\"currentColor\" stroke-width=\"1.00\" stroke-linecap=\"butt\" stroke-linejoin=\"miter\">\n",
       "\t<g transform=\"translate(577.8,882.0)\" stroke=\"none\" fill=\"black\" font-family=\"Arial\" font-size=\"24.00\"  text-anchor=\"middle\">\n",
       "\t\t<text><tspan font-family=\"Arial\" >Printing Velocity</tspan></text>\n",
       "\t</g>\n",
       "</g>\n",
       "<g fill=\"none\" color=\"black\" stroke=\"currentColor\" stroke-width=\"1.00\" stroke-linecap=\"butt\" stroke-linejoin=\"miter\">\n",
       "\t<g transform=\"translate(577.8,39.1)\" stroke=\"none\" fill=\"black\" font-family=\"Arial\" font-size=\"32.00\"  text-anchor=\"middle\">\n",
       "\t\t<text><tspan font-family=\"Arial\" >Raster : 60</tspan></text>\n",
       "\t</g>\n",
       "</g>\n",
       "\t<g id=\"gnuplot_plot_1\" ><title>Experiment</title>\n",
       "<g fill=\"none\" color=\"#FFFFFF\" stroke=\"black\" stroke-width=\"2.00\" stroke-linecap=\"butt\" stroke-linejoin=\"miter\">\n",
       "</g>\n",
       "<g fill=\"none\" color=\"black\" stroke=\"currentColor\" stroke-width=\"2.00\" stroke-linecap=\"butt\" stroke-linejoin=\"miter\">\n",
       "\t<g transform=\"translate(999.4,120.1)\" stroke=\"none\" fill=\"black\" font-family=\"Arial\" font-size=\"24.00\"  text-anchor=\"end\">\n",
       "\t\t<text><tspan font-family=\"Arial\" >Experiment</tspan></text>\n",
       "\t</g>\n",
       "</g>\n",
       "<g fill=\"none\" color=\"black\" stroke=\"currentColor\" stroke-width=\"2.00\" stroke-linecap=\"butt\" stroke-linejoin=\"miter\">\n",
       "\t<path stroke='rgb(255,   0,   0)'  d='M1016.1,111.1 L1091.9,111.1 M242.1,754.8 L518.1,543.0 L679.5,334.1 L840.9,270.9 L955.5,161.3 L1044.3,689.1\n",
       "\t\t '/>\t<use xlink:href='#gpPt6' transform='translate(242.1,754.8) scale(4.50)' color='rgb(255,   0,   0)'/>\n",
       "\t<use xlink:href='#gpPt6' transform='translate(518.1,543.0) scale(4.50)' color='rgb(255,   0,   0)'/>\n",
       "\t<use xlink:href='#gpPt6' transform='translate(679.5,334.1) scale(4.50)' color='rgb(255,   0,   0)'/>\n",
       "\t<use xlink:href='#gpPt6' transform='translate(840.9,270.9) scale(4.50)' color='rgb(255,   0,   0)'/>\n",
       "\t<use xlink:href='#gpPt6' transform='translate(955.5,161.3) scale(4.50)' color='rgb(255,   0,   0)'/>\n",
       "\t<use xlink:href='#gpPt6' transform='translate(1044.3,689.1) scale(4.50)' color='rgb(255,   0,   0)'/>\n",
       "\t<use xlink:href='#gpPt6' transform='translate(1054.0,111.1) scale(4.50)' color='rgb(255,   0,   0)'/>\n",
       "</g>\n",
       "\t</g>\n",
       "\t<g id=\"gnuplot_plot_2\" ><title>gnuplot_plot_2</title>\n",
       "<g fill=\"none\" color=\"#FFFFFF\" stroke=\"rgb(255,   0,   0)\" stroke-width=\"1.00\" stroke-linecap=\"butt\" stroke-linejoin=\"miter\">\n",
       "</g>\n",
       "<g fill=\"none\" color=\"black\" stroke=\"currentColor\" stroke-width=\"1.00\" stroke-linecap=\"butt\" stroke-linejoin=\"miter\">\n",
       "\t<path stroke='rgb(255,   0,   0)' stroke-dasharray='2.5,4.0'  d='M242.1,650.6 L518.1,458.9 L679.5,273.3 L840.9,186.7 L953.6,84.1 M956.0,84.1 L1044.3,384.9  '/>\t<use xlink:href='#gpPt0' transform='translate(242.1,650.6) scale(4.50)' color='rgb(255,   0,   0)'/>\n",
       "\t<use xlink:href='#gpPt0' transform='translate(518.1,458.9) scale(4.50)' color='rgb(255,   0,   0)'/>\n",
       "\t<use xlink:href='#gpPt0' transform='translate(679.5,273.3) scale(4.50)' color='rgb(255,   0,   0)'/>\n",
       "\t<use xlink:href='#gpPt0' transform='translate(840.9,186.7) scale(4.50)' color='rgb(255,   0,   0)'/>\n",
       "\t<use xlink:href='#gpPt0' transform='translate(1044.3,384.9) scale(4.50)' color='rgb(255,   0,   0)'/>\n",
       "</g>\n",
       "\t</g>\n",
       "\t<g id=\"gnuplot_plot_3\" ><title>gnuplot_plot_3</title>\n",
       "<g fill=\"none\" color=\"black\" stroke=\"currentColor\" stroke-width=\"1.00\" stroke-linecap=\"butt\" stroke-linejoin=\"miter\">\n",
       "\t<path stroke='rgb(255,   0,   0)' stroke-dasharray='2.5,4.0'  d='M299.1,828.0 L518.1,638.6 L679.5,400.8 L840.9,366.8 L955.5,250.4 L1007.2,828.0  '/>\t<use xlink:href='#gpPt0' transform='translate(518.1,638.6) scale(4.50)' color='rgb(255,   0,   0)'/>\n",
       "\t<use xlink:href='#gpPt0' transform='translate(679.5,400.8) scale(4.50)' color='rgb(255,   0,   0)'/>\n",
       "\t<use xlink:href='#gpPt0' transform='translate(840.9,366.8) scale(4.50)' color='rgb(255,   0,   0)'/>\n",
       "\t<use xlink:href='#gpPt0' transform='translate(955.5,250.4) scale(4.50)' color='rgb(255,   0,   0)'/>\n",
       "</g>\n",
       "\t</g>\n",
       "\t<g id=\"gnuplot_plot_4\" ><title>gnuplot_plot_4</title>\n",
       "<g fill=\"none\" color=\"black\" stroke=\"currentColor\" stroke-width=\"1.00\" stroke-linecap=\"butt\" stroke-linejoin=\"miter\">\n",
       "\t<path stroke='rgb(  0,   0,   0)'  d='M242.1,609.0 L1044.3,329.0  '/></g>\n",
       "\t</g>\n",
       "\t<g id=\"gnuplot_plot_5\" ><title>Simulation</title>\n",
       "<g fill=\"none\" color=\"#FFFFFF\" stroke=\"rgb(  0,   0,   0)\" stroke-width=\"2.00\" stroke-linecap=\"butt\" stroke-linejoin=\"miter\">\n",
       "</g>\n",
       "<g fill=\"none\" color=\"black\" stroke=\"currentColor\" stroke-width=\"2.00\" stroke-linecap=\"butt\" stroke-linejoin=\"miter\">\n",
       "\t<g transform=\"translate(999.4,156.1)\" stroke=\"none\" fill=\"black\" font-family=\"Arial\" font-size=\"24.00\"  text-anchor=\"end\">\n",
       "\t\t<text><tspan font-family=\"Arial\" >Simulation</tspan></text>\n",
       "\t</g>\n",
       "</g>\n",
       "<g fill=\"none\" color=\"black\" stroke=\"currentColor\" stroke-width=\"2.00\" stroke-linecap=\"butt\" stroke-linejoin=\"miter\">\n",
       "\t<path stroke='rgb(  0,   0,   0)' stroke-dasharray=' 5,8'  d='M1016.1,147.1 L1091.9,147.1 M1044.3,671.3 L955.5,150.3 L840.9,261.1 L679.5,327.6 L518.1,537.7 L242.1,754.8\n",
       "\t\t '/>\t<use xlink:href='#gpPt5' transform='translate(1044.3,671.3) scale(4.50)' color='rgb(  0,   0,   0)'/>\n",
       "\t<use xlink:href='#gpPt5' transform='translate(955.5,150.3) scale(4.50)' color='rgb(  0,   0,   0)'/>\n",
       "\t<use xlink:href='#gpPt5' transform='translate(840.9,261.1) scale(4.50)' color='rgb(  0,   0,   0)'/>\n",
       "\t<use xlink:href='#gpPt5' transform='translate(679.5,327.6) scale(4.50)' color='rgb(  0,   0,   0)'/>\n",
       "\t<use xlink:href='#gpPt5' transform='translate(518.1,537.7) scale(4.50)' color='rgb(  0,   0,   0)'/>\n",
       "\t<use xlink:href='#gpPt5' transform='translate(242.1,754.8) scale(4.50)' color='rgb(  0,   0,   0)'/>\n",
       "\t<use xlink:href='#gpPt5' transform='translate(1054.0,147.1) scale(4.50)' color='rgb(  0,   0,   0)'/>\n",
       "</g>\n",
       "\t</g>\n",
       "<g fill=\"none\" color=\"black\" stroke=\"currentColor\" stroke-width=\"2.00\" stroke-linecap=\"butt\" stroke-linejoin=\"miter\">\n",
       "</g>\n",
       "<g fill=\"none\" color=\"black\" stroke=\"black\" stroke-width=\"1.00\" stroke-linecap=\"butt\" stroke-linejoin=\"miter\">\n",
       "</g>\n",
       "<g fill=\"none\" color=\"black\" stroke=\"currentColor\" stroke-width=\"1.00\" stroke-linecap=\"butt\" stroke-linejoin=\"miter\">\n",
       "\t<path stroke='rgb(  0,   0,   0)'  d='M38.7,84.1 L38.7,828.0 L1116.9,828.0 M1116.9,84.1 L38.7,84.1  '/></g>\n",
       "<g fill=\"none\" color=\"black\" stroke=\"currentColor\" stroke-width=\"1.00\" stroke-linecap=\"butt\" stroke-linejoin=\"miter\">\n",
       "</g>\n",
       "</g>\n",
       "</svg>\n",
       "\n"
      ]
     },
     "metadata": {},
     "output_type": "display_data"
    },
    {
     "data": {
      "text/html": [
       "<?xml version=\"1.0\" encoding=\"utf-8\"  standalone=\"no\"?>\n",
       "<!DOCTYPE svg PUBLIC \"-//W3C//DTD SVG 1.1//EN\"\n",
       " \"http://www.w3.org/Graphics/SVG/1.1/DTD/svg11.dtd\">\n",
       "<svg \n",
       " width=\"1200\" height=\"900\"\n",
       " viewBox=\"0 0 1200 900\"\n",
       " xmlns=\"http://www.w3.org/2000/svg\"\n",
       " xmlns:xlink=\"http://www.w3.org/1999/xlink\"\n",
       ">\n",
       "\n",
       "<title>Gnuplot</title>\n",
       "<desc>Produced by GNUPLOT 5.1 patchlevel 0 </desc>\n",
       "\n",
       "<g id=\"gnuplot_canvas\">\n",
       "\n",
       "<rect x=\"0\" y=\"0\" width=\"1200\" height=\"900\" fill=\"#ffffff\"/>\n",
       "<defs>\n",
       "\n",
       "\t<circle id='gpDot' r='0.5' stroke-width='0.5'/>\n",
       "\t<path id='gpPt0' stroke-width='0.222' stroke='currentColor' d='M-1,0 h2 M0,-1 v2'/>\n",
       "\t<path id='gpPt1' stroke-width='0.222' stroke='currentColor' d='M-1,-1 L1,1 M1,-1 L-1,1'/>\n",
       "\t<path id='gpPt2' stroke-width='0.222' stroke='currentColor' d='M-1,0 L1,0 M0,-1 L0,1 M-1,-1 L1,1 M-1,1 L1,-1'/>\n",
       "\t<rect id='gpPt3' stroke-width='0.222' stroke='currentColor' x='-1' y='-1' width='2' height='2'/>\n",
       "\t<rect id='gpPt4' stroke-width='0.222' stroke='currentColor' fill='currentColor' x='-1' y='-1' width='2' height='2'/>\n",
       "\t<circle id='gpPt5' stroke-width='0.222' stroke='currentColor' cx='0' cy='0' r='1'/>\n",
       "\t<use xlink:href='#gpPt5' id='gpPt6' fill='currentColor' stroke='none'/>\n",
       "\t<path id='gpPt7' stroke-width='0.222' stroke='currentColor' d='M0,-1.33 L-1.33,0.67 L1.33,0.67 z'/>\n",
       "\t<use xlink:href='#gpPt7' id='gpPt8' fill='currentColor' stroke='none'/>\n",
       "\t<use xlink:href='#gpPt7' id='gpPt9' stroke='currentColor' transform='rotate(180)'/>\n",
       "\t<use xlink:href='#gpPt9' id='gpPt10' fill='currentColor' stroke='none'/>\n",
       "\t<use xlink:href='#gpPt3' id='gpPt11' stroke='currentColor' transform='rotate(45)'/>\n",
       "\t<use xlink:href='#gpPt11' id='gpPt12' fill='currentColor' stroke='none'/>\n",
       "\t<path id='gpPt13' stroke-width='0.222' stroke='currentColor' d='M0,1.330 L1.265,0.411 L0.782,-1.067 L-0.782,-1.076 L-1.265,0.411 z'/>\n",
       "\t<use xlink:href='#gpPt13' id='gpPt14' fill='currentColor' stroke='none'/>\n",
       "\t<filter id='textbox' filterUnits='objectBoundingBox' x='0' y='0' height='1' width='1'>\n",
       "\t  <feFlood flood-color='#FFFFFF' flood-opacity='1' result='bgnd'/>\n",
       "\t  <feComposite in='SourceGraphic' in2='bgnd' operator='atop'/>\n",
       "\t</filter>\n",
       "\t<filter id='greybox' filterUnits='objectBoundingBox' x='0' y='0' height='1' width='1'>\n",
       "\t  <feFlood flood-color='lightgrey' flood-opacity='1' result='grey'/>\n",
       "\t  <feComposite in='SourceGraphic' in2='grey' operator='atop'/>\n",
       "\t</filter>\n",
       "</defs>\n",
       "<g fill=\"none\" color=\"#FFFFFF\" stroke=\"currentColor\" stroke-width=\"1.00\" stroke-linecap=\"butt\" stroke-linejoin=\"miter\">\n",
       "</g>\n",
       "<g fill=\"none\" color=\"black\" stroke=\"currentColor\" stroke-width=\"1.00\" stroke-linecap=\"butt\" stroke-linejoin=\"miter\">\n",
       "\t<path stroke='rgb(  0,   0,   0)'  d='M80.2,779.1 L84.7,779.1 M1116.9,779.1 L1112.4,779.1 M80.2,647.5 L84.7,647.5 M1116.9,647.5 L1112.4,647.5\n",
       "\t\tM80.2,545.4 L84.7,545.4 M1116.9,545.4 L1112.4,545.4 M80.2,461.9 L84.7,461.9 M1116.9,461.9 L1112.4,461.9\n",
       "\t\tM80.2,391.4 L84.7,391.4 M1116.9,391.4 L1112.4,391.4 M80.2,330.3 L84.7,330.3 M1116.9,330.3 L1112.4,330.3\n",
       "\t\tM80.2,276.4 L84.7,276.4 M1116.9,276.4 L1112.4,276.4 M80.2,228.2 L89.2,228.2 M1116.9,228.2 L1107.9,228.2\n",
       "\t\t '/>\t<g transform=\"translate(71.9,234.2)\" stroke=\"none\" fill=\"rgb(0,0,0)\" font-family=\"Arial\" font-size=\"16.00\"  text-anchor=\"end\">\n",
       "\t\t<text><tspan font-family=\"Arial\" > 1x10</tspan><tspan font-family=\"Arial\"  font-size=\"12.8\" dy=\"-8.00px\">6</tspan><tspan font-size=\"16.0\" dy=\"8.00\"></tspan></text>\n",
       "\t</g>\n",
       "</g>\n",
       "<g fill=\"none\" color=\"black\" stroke=\"currentColor\" stroke-width=\"1.00\" stroke-linecap=\"butt\" stroke-linejoin=\"miter\">\n",
       "\t<path stroke='rgb(  0,   0,   0)'  d='M80.2,828.0 L80.2,819.0 M80.2,84.1 L80.2,93.1  '/>\t<g transform=\"translate(80.2,852.0)\" stroke=\"none\" fill=\"rgb(0,0,0)\" font-family=\"Arial\" font-size=\"16.00\"  text-anchor=\"middle\">\n",
       "\t\t<text><tspan font-family=\"Arial\" > 0.1</tspan></text>\n",
       "\t</g>\n",
       "</g>\n",
       "<g fill=\"none\" color=\"black\" stroke=\"currentColor\" stroke-width=\"1.00\" stroke-linecap=\"butt\" stroke-linejoin=\"miter\">\n",
       "\t<path stroke='rgb(  0,   0,   0)'  d='M345.6,828.0 L345.6,823.5 M345.6,84.1 L345.6,88.6 M500.8,828.0 L500.8,823.5 M500.8,84.1 L500.8,88.6\n",
       "\t\tM610.9,828.0 L610.9,823.5 M610.9,84.1 L610.9,88.6 M696.3,828.0 L696.3,823.5 M696.3,84.1 L696.3,88.6\n",
       "\t\tM766.1,828.0 L766.1,823.5 M766.1,84.1 L766.1,88.6 M825.1,828.0 L825.1,823.5 M825.1,84.1 L825.1,88.6\n",
       "\t\tM876.3,828.0 L876.3,823.5 M876.3,84.1 L876.3,88.6 M921.3,828.0 L921.3,823.5 M921.3,84.1 L921.3,88.6\n",
       "\t\tM961.7,828.0 L961.7,819.0 M961.7,84.1 L961.7,93.1  '/>\t<g transform=\"translate(961.7,852.0)\" stroke=\"none\" fill=\"rgb(0,0,0)\" font-family=\"Arial\" font-size=\"16.00\"  text-anchor=\"middle\">\n",
       "\t\t<text><tspan font-family=\"Arial\" > 1</tspan></text>\n",
       "\t</g>\n",
       "</g>\n",
       "<g fill=\"none\" color=\"black\" stroke=\"currentColor\" stroke-width=\"1.00\" stroke-linecap=\"butt\" stroke-linejoin=\"miter\">\n",
       "\t<path stroke='rgb(  0,   0,   0)'  d='M1116.9,801.7 L1112.4,801.7 M1116.9,731.1 L1112.4,731.1 M1116.9,670.0 L1112.4,670.0 M1116.9,616.1 L1112.4,616.1\n",
       "\t\tM1116.9,567.9 L1107.9,567.9  '/>\t<g transform=\"translate(1125.2,573.9)\" stroke=\"none\" fill=\"rgb(255,0,0)\" font-family=\"Arial\" font-size=\"16.00\"  text-anchor=\"start\">\n",
       "\t\t<text><tspan font-family=\"Arial\" > 1x10</tspan><tspan font-family=\"Arial\"  font-size=\"12.8\" dy=\"-8.00px\">6</tspan><tspan font-size=\"16.0\" dy=\"8.00\"></tspan></text>\n",
       "\t</g>\n",
       "</g>\n",
       "<g fill=\"none\" color=\"black\" stroke=\"currentColor\" stroke-width=\"1.00\" stroke-linecap=\"butt\" stroke-linejoin=\"miter\">\n",
       "\t<path stroke='rgb(  0,   0,   0)'  d='M1116.9,250.7 L1112.4,250.7  '/></g>\n",
       "<g fill=\"none\" color=\"black\" stroke=\"currentColor\" stroke-width=\"1.00\" stroke-linecap=\"butt\" stroke-linejoin=\"miter\">\n",
       "\t<path stroke='rgb(  0,   0,   0)'  d='M80.2,84.1 L80.2,828.0 L1116.9,828.0 M1116.9,84.1 L80.2,84.1  '/></g>\n",
       "<g fill=\"none\" color=\"black\" stroke=\"currentColor\" stroke-width=\"1.00\" stroke-linecap=\"butt\" stroke-linejoin=\"miter\">\n",
       "\t<path stroke='black'  d='M806.5,406.4 L842.9,375.9 L806.5,375.9 L806.5,406.4 Z  '/>\t<path stroke='rgb(  0,   0,   0)'  d='M806.5,406.4 L842.9,375.9 L806.5,375.9 L806.5,406.4 Z  '/>\t<g transform=\"translate(821.0,372.1)\" stroke=\"none\" fill=\"black\" font-family=\"Arial\" font-size=\"14.00\"  text-anchor=\"start\">\n",
       "\t\t<text><tspan font-family=\"Arial\" >1</tspan></text>\n",
       "\t</g>\n",
       "\t<g transform=\"translate(804.5,400.6)\" stroke=\"none\" fill=\"black\" font-family=\"Arial\" font-size=\"14.00\"  text-anchor=\"end\">\n",
       "\t\t<text><tspan font-family=\"Arial\" >0.7</tspan></text>\n",
       "\t</g>\n",
       "</g>\n",
       "<g fill=\"none\" color=\"black\" stroke=\"currentColor\" stroke-width=\"1.00\" stroke-linecap=\"butt\" stroke-linejoin=\"miter\">\n",
       "\t<path stroke='rgb(229,  30,  16)'  d='M1116.9,828.0 L1116.9,84.1  '/></g>\n",
       "<g fill=\"none\" color=\"black\" stroke=\"currentColor\" stroke-width=\"1.00\" stroke-linecap=\"butt\" stroke-linejoin=\"miter\">\n",
       "\t<g transform=\"translate(22.1,456.1) rotate(270)\" stroke=\"none\" fill=\"black\" font-family=\"Arial\" font-size=\"24.00\"  text-anchor=\"middle\">\n",
       "\t\t<text><tspan font-family=\"Arial\" >Pressure Gradient</tspan></text>\n",
       "\t</g>\n",
       "</g>\n",
       "<g fill=\"none\" color=\"black\" stroke=\"currentColor\" stroke-width=\"1.00\" stroke-linecap=\"butt\" stroke-linejoin=\"miter\">\n",
       "\t<g transform=\"translate(598.5,882.0)\" stroke=\"none\" fill=\"black\" font-family=\"Arial\" font-size=\"24.00\"  text-anchor=\"middle\">\n",
       "\t\t<text><tspan font-family=\"Arial\" >Printing Velocity</tspan></text>\n",
       "\t</g>\n",
       "</g>\n",
       "<g fill=\"none\" color=\"black\" stroke=\"currentColor\" stroke-width=\"1.00\" stroke-linecap=\"butt\" stroke-linejoin=\"miter\">\n",
       "\t<g transform=\"translate(598.5,39.1)\" stroke=\"none\" fill=\"black\" font-family=\"Arial\" font-size=\"32.00\"  text-anchor=\"middle\">\n",
       "\t\t<text><tspan font-family=\"Arial\" >Raster : 70</tspan></text>\n",
       "\t</g>\n",
       "</g>\n",
       "\t<g id=\"gnuplot_plot_1\" ><title>Experiment</title>\n",
       "<g fill=\"none\" color=\"#FFFFFF\" stroke=\"black\" stroke-width=\"2.00\" stroke-linecap=\"butt\" stroke-linejoin=\"miter\">\n",
       "</g>\n",
       "<g fill=\"none\" color=\"black\" stroke=\"currentColor\" stroke-width=\"2.00\" stroke-linecap=\"butt\" stroke-linejoin=\"miter\">\n",
       "\t<g transform=\"translate(999.4,120.1)\" stroke=\"none\" fill=\"black\" font-family=\"Arial\" font-size=\"24.00\"  text-anchor=\"end\">\n",
       "\t\t<text><tspan font-family=\"Arial\" >Experiment</tspan></text>\n",
       "\t</g>\n",
       "</g>\n",
       "<g fill=\"none\" color=\"black\" stroke=\"currentColor\" stroke-width=\"2.00\" stroke-linecap=\"butt\" stroke-linejoin=\"miter\">\n",
       "\t<path stroke='rgb(255,   0,   0)'  d='M1016.1,111.1 L1091.9,111.1 M275.8,779.8 L541.1,654.3 L696.3,523.7 L851.5,418.9 L961.7,270.8 L1047.1,133.2\n",
       "\t\t '/>\t<use xlink:href='#gpPt6' transform='translate(275.8,779.8) scale(4.50)' color='rgb(255,   0,   0)'/>\n",
       "\t<use xlink:href='#gpPt6' transform='translate(541.1,654.3) scale(4.50)' color='rgb(255,   0,   0)'/>\n",
       "\t<use xlink:href='#gpPt6' transform='translate(696.3,523.7) scale(4.50)' color='rgb(255,   0,   0)'/>\n",
       "\t<use xlink:href='#gpPt6' transform='translate(851.5,418.9) scale(4.50)' color='rgb(255,   0,   0)'/>\n",
       "\t<use xlink:href='#gpPt6' transform='translate(961.7,270.8) scale(4.50)' color='rgb(255,   0,   0)'/>\n",
       "\t<use xlink:href='#gpPt6' transform='translate(1047.1,133.2) scale(4.50)' color='rgb(255,   0,   0)'/>\n",
       "\t<use xlink:href='#gpPt6' transform='translate(1054.0,111.1) scale(4.50)' color='rgb(255,   0,   0)'/>\n",
       "</g>\n",
       "\t</g>\n",
       "\t<g id=\"gnuplot_plot_2\" ><title>gnuplot_plot_2</title>\n",
       "<g fill=\"none\" color=\"#FFFFFF\" stroke=\"rgb(255,   0,   0)\" stroke-width=\"1.00\" stroke-linecap=\"butt\" stroke-linejoin=\"miter\">\n",
       "</g>\n",
       "<g fill=\"none\" color=\"black\" stroke=\"currentColor\" stroke-width=\"1.00\" stroke-linecap=\"butt\" stroke-linejoin=\"miter\">\n",
       "\t<path stroke='rgb(255,   0,   0)' stroke-dasharray='2.5,4.0'  d='M275.8,755.5 L541.1,610.9 L696.3,468.6 L851.5,371.5 L961.7,216.4 L1047.1,86.4  '/>\t<use xlink:href='#gpPt0' transform='translate(275.8,755.5) scale(4.50)' color='rgb(255,   0,   0)'/>\n",
       "\t<use xlink:href='#gpPt0' transform='translate(541.1,610.9) scale(4.50)' color='rgb(255,   0,   0)'/>\n",
       "\t<use xlink:href='#gpPt0' transform='translate(696.3,468.6) scale(4.50)' color='rgb(255,   0,   0)'/>\n",
       "\t<use xlink:href='#gpPt0' transform='translate(851.5,371.5) scale(4.50)' color='rgb(255,   0,   0)'/>\n",
       "\t<use xlink:href='#gpPt0' transform='translate(961.7,216.4) scale(4.50)' color='rgb(255,   0,   0)'/>\n",
       "\t<use xlink:href='#gpPt0' transform='translate(1047.1,86.4) scale(4.50)' color='rgb(255,   0,   0)'/>\n",
       "</g>\n",
       "\t</g>\n",
       "\t<g id=\"gnuplot_plot_3\" ><title>gnuplot_plot_3</title>\n",
       "<g fill=\"none\" color=\"black\" stroke=\"currentColor\" stroke-width=\"1.00\" stroke-linecap=\"butt\" stroke-linejoin=\"miter\">\n",
       "\t<path stroke='rgb(255,   0,   0)' stroke-dasharray='2.5,4.0'  d='M275.8,805.5 L541.1,702.1 L696.3,586.2 L851.5,471.9 L961.7,332.6 L1047.1,185.4  '/>\t<use xlink:href='#gpPt0' transform='translate(275.8,805.5) scale(4.50)' color='rgb(255,   0,   0)'/>\n",
       "\t<use xlink:href='#gpPt0' transform='translate(541.1,702.1) scale(4.50)' color='rgb(255,   0,   0)'/>\n",
       "\t<use xlink:href='#gpPt0' transform='translate(696.3,586.2) scale(4.50)' color='rgb(255,   0,   0)'/>\n",
       "\t<use xlink:href='#gpPt0' transform='translate(851.5,471.9) scale(4.50)' color='rgb(255,   0,   0)'/>\n",
       "\t<use xlink:href='#gpPt0' transform='translate(961.7,332.6) scale(4.50)' color='rgb(255,   0,   0)'/>\n",
       "\t<use xlink:href='#gpPt0' transform='translate(1047.1,185.4) scale(4.50)' color='rgb(255,   0,   0)'/>\n",
       "</g>\n",
       "\t</g>\n",
       "\t<g id=\"gnuplot_plot_4\" ><title>gnuplot_plot_4</title>\n",
       "<g fill=\"none\" color=\"black\" stroke=\"currentColor\" stroke-width=\"1.00\" stroke-linecap=\"butt\" stroke-linejoin=\"miter\">\n",
       "\t<path stroke='rgb(  0,   0,   0)'  d='M302.6,828.0 L1047.1,205.0  '/></g>\n",
       "\t</g>\n",
       "\t<g id=\"gnuplot_plot_5\" ><title>Simulation</title>\n",
       "<g fill=\"none\" color=\"#FFFFFF\" stroke=\"rgb(  0,   0,   0)\" stroke-width=\"2.00\" stroke-linecap=\"butt\" stroke-linejoin=\"miter\">\n",
       "</g>\n",
       "<g fill=\"none\" color=\"black\" stroke=\"currentColor\" stroke-width=\"2.00\" stroke-linecap=\"butt\" stroke-linejoin=\"miter\">\n",
       "\t<g transform=\"translate(999.4,156.1)\" stroke=\"none\" fill=\"black\" font-family=\"Arial\" font-size=\"24.00\"  text-anchor=\"end\">\n",
       "\t\t<text><tspan font-family=\"Arial\" >Simulation</tspan></text>\n",
       "\t</g>\n",
       "</g>\n",
       "<g fill=\"none\" color=\"black\" stroke=\"currentColor\" stroke-width=\"2.00\" stroke-linecap=\"butt\" stroke-linejoin=\"miter\">\n",
       "\t<path stroke='rgb(  0,   0,   0)' stroke-dasharray=' 5,8'  d='M1016.1,147.1 L1091.9,147.1 M1047.1,127.7 L961.7,264.7 L851.5,412.5 L696.3,518.6 L541.1,650.2 L275.8,779.8\n",
       "\t\t '/>\t<use xlink:href='#gpPt5' transform='translate(1047.1,127.7) scale(4.50)' color='rgb(  0,   0,   0)'/>\n",
       "\t<use xlink:href='#gpPt5' transform='translate(961.7,264.7) scale(4.50)' color='rgb(  0,   0,   0)'/>\n",
       "\t<use xlink:href='#gpPt5' transform='translate(851.5,412.5) scale(4.50)' color='rgb(  0,   0,   0)'/>\n",
       "\t<use xlink:href='#gpPt5' transform='translate(696.3,518.6) scale(4.50)' color='rgb(  0,   0,   0)'/>\n",
       "\t<use xlink:href='#gpPt5' transform='translate(541.1,650.2) scale(4.50)' color='rgb(  0,   0,   0)'/>\n",
       "\t<use xlink:href='#gpPt5' transform='translate(275.8,779.8) scale(4.50)' color='rgb(  0,   0,   0)'/>\n",
       "\t<use xlink:href='#gpPt5' transform='translate(1054.0,147.1) scale(4.50)' color='rgb(  0,   0,   0)'/>\n",
       "</g>\n",
       "\t</g>\n",
       "<g fill=\"none\" color=\"black\" stroke=\"currentColor\" stroke-width=\"2.00\" stroke-linecap=\"butt\" stroke-linejoin=\"miter\">\n",
       "</g>\n",
       "<g fill=\"none\" color=\"black\" stroke=\"black\" stroke-width=\"1.00\" stroke-linecap=\"butt\" stroke-linejoin=\"miter\">\n",
       "</g>\n",
       "<g fill=\"none\" color=\"black\" stroke=\"currentColor\" stroke-width=\"1.00\" stroke-linecap=\"butt\" stroke-linejoin=\"miter\">\n",
       "\t<path stroke='rgb(  0,   0,   0)'  d='M80.2,84.1 L80.2,828.0 L1116.9,828.0 M1116.9,84.1 L80.2,84.1  '/></g>\n",
       "<g fill=\"none\" color=\"black\" stroke=\"currentColor\" stroke-width=\"1.00\" stroke-linecap=\"butt\" stroke-linejoin=\"miter\">\n",
       "</g>\n",
       "</g>\n",
       "</svg>\n",
       "\n"
      ]
     },
     "metadata": {},
     "output_type": "display_data"
    }
   ],
   "source": [
    "foreach(var plt in Plots){\n",
    "    display(plt.PlotSVG(1200, 900));\n",
    "}"
   ]
  },
  {
   "cell_type": "code",
   "execution_count": null,
   "metadata": {
    "dotnet_interactive": {
     "language": "csharp"
    },
    "vscode": {
     "languageId": "dotnet-interactive.csharp"
    }
   },
   "outputs": [],
   "source": [
    "var tab2plt = tab.ExtractRows((j,row) => Convert.ToDouble(row[\"id:delta\"]) == 1e-5 && Convert.ToDouble(row[\"id:Raster\"]).ApproxEqual(raster[i])); // arbitrary nip width\n",
    "var xSim = tab2plt.Select().Select(row => Convert.ToDouble(row[\"id:V_Wall\"])).ToArray();\n",
    "var ySim = tab2plt.Select().Select(row => Convert.ToDouble(row[\"dPdXatStagnationPoint\"])).ToArray();"
   ]
  },
  {
   "cell_type": "markdown",
   "metadata": {},
   "source": [
    "### Test plotting"
   ]
  },
  {
   "cell_type": "code",
   "execution_count": null,
   "metadata": {
    "dotnet_interactive": {
     "language": "csharp"
    },
    "vscode": {
     "languageId": "dotnet-interactive.csharp"
    }
   },
   "outputs": [],
   "source": [
    "// Test code - see TestPDF.tex for output preview\n",
    "// int i = 1;\n",
    "// var gp = new Gnuplot();\n",
    "// gp.PlotLogSlope(plts.Pick(1), format: new PlotFormat(lineColor: (LineColors)7));\n",
    "// gp.Cmd(\"set key box width -5\");\n",
    "// plts.Pick(i).ToGnuplot(gp);\n",
    "// gp.PlotCairolatex().SaveTo(\"./Figures/Test/Part3.tex\");"
   ]
  }
 ],
 "metadata": {
  "kernelspec": {
   "display_name": ".NET (C#)",
   "language": "C#",
   "name": ".net-csharp"
  },
  "language_info": {
   "file_extension": ".cs",
   "mimetype": "text/x-csharp",
   "name": "C#",
   "pygments_lexer": "csharp",
   "version": "9.0"
  },
  "orig_nbformat": 4
 },
 "nbformat": 4,
 "nbformat_minor": 2
}
