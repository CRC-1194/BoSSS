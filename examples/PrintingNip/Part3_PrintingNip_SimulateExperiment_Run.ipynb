{
 "cells": [
  {
   "cell_type": "markdown",
   "metadata": {},
   "source": [
    "# Part 3 - Run simulations with stagnation points / velocities from experiment"
   ]
  },
  {
   "cell_type": "markdown",
   "metadata": {},
   "source": [
    "### First load some references"
   ]
  },
  {
   "cell_type": "code",
   "execution_count": null,
   "metadata": {
    "dotnet_interactive": {
     "language": "csharp"
    },
    "vscode": {
     "languageId": "dotnet-interactive.csharp"
    }
   },
   "outputs": [],
   "source": [
    "#r \"BoSSSpad.dll\"\n",
    "using System;\n",
    "using System.Collections.Generic;\n",
    "using System.Linq;\n",
    "using System.IO;\n",
    "using System.Data;\n",
    "using System.Globalization;\n",
    "using System.Threading;\n",
    "using ilPSP;\n",
    "using ilPSP.Utils;\n",
    "using BoSSS.Platform;\n",
    "using BoSSS.Foundation;\n",
    "using BoSSS.Foundation.Grid;\n",
    "using BoSSS.Foundation.Grid.Classic;\n",
    "using BoSSS.Foundation.IO;\n",
    "using BoSSS.Solution;\n",
    "using BoSSS.Solution.Control;\n",
    "using BoSSS.Solution.GridImport;\n",
    "using BoSSS.Solution.Statistic;\n",
    "using BoSSS.Solution.Utils;\n",
    "using BoSSS.Solution.Gnuplot;\n",
    "using BoSSS.Application.BoSSSpad;\n",
    "using BoSSS.Application.XNSE_Solver;\n",
    "using static BoSSS.Application.BoSSSpad.BoSSSshell;\n",
    "using BoSSS.Foundation.Grid.RefElements;\n",
    "using BoSSS.Platform.LinAlg;\n",
    "using BoSSS.Application.XNSE_Solver.PhysicalBasedTestcases.PrintingNip;\n",
    "Init();"
   ]
  },
  {
   "cell_type": "markdown",
   "metadata": {},
   "source": [
    "### Init Database etc."
   ]
  },
  {
   "cell_type": "code",
   "execution_count": null,
   "metadata": {
    "dotnet_interactive": {
     "language": "csharp"
    },
    "vscode": {
     "languageId": "dotnet-interactive.csharp"
    }
   },
   "outputs": [],
   "source": [
    "string ProjectName4Correlation = \"SFB1194_K65_Part1\";\n",
    "string ProjectName = \"SFB1194_K65_Part3\";"
   ]
  },
  {
   "cell_type": "code",
   "execution_count": null,
   "metadata": {
    "dotnet_interactive": {
     "language": "csharp"
    },
    "vscode": {
     "languageId": "dotnet-interactive.csharp"
    }
   },
   "outputs": [],
   "source": [
    "static var myBatch = BoSSSshell.GetDefaultQueue();"
   ]
  },
  {
   "cell_type": "code",
   "execution_count": null,
   "metadata": {
    "dotnet_interactive": {
     "language": "csharp"
    },
    "vscode": {
     "languageId": "dotnet-interactive.csharp"
    }
   },
   "outputs": [
    {
     "name": "stdout",
     "output_type": "stream",
     "text": [
      "Project name is set to 'SFB1194_K65_Part1'.\r\n",
      "Opening existing database '\\\\hpccluster\\hpccluster-scratch\\rieckmann\\SFB1194_K65_Part1'.\r\n",
      "Initializing : \\\\hpccluster\\hpccluster-scratch\\rieckmann\\SFB1194_K65_Part1\r\n"
     ]
    }
   ],
   "source": [
    "BoSSSshell.WorkflowMgm.Init(ProjectName4Correlation);\n",
    "static var myDb4Correlation = BoSSSshell.OpenDatabase(BoSSSshell.WorkflowMgm.DefaultDatabase.Path);\n",
    "Console.WriteLine(\"Initializing : \" + myDb4Correlation.Path); // we need to init the static var! otherwise we end up with a reference to the wrong database!"
   ]
  },
  {
   "cell_type": "code",
   "execution_count": null,
   "metadata": {
    "dotnet_interactive": {
     "language": "csharp"
    },
    "vscode": {
     "languageId": "dotnet-interactive.csharp"
    }
   },
   "outputs": [
    {
     "name": "stdout",
     "output_type": "stream",
     "text": [
      "Project name is set to 'SFB1194_K65_Part3'.\r\n",
      "Opening existing database '\\\\hpccluster\\hpccluster-scratch\\rieckmann\\SFB1194_K65_Part3'.\r\n",
      "Initializing : \\\\hpccluster\\hpccluster-scratch\\rieckmann\\SFB1194_K65_Part3\r\n"
     ]
    }
   ],
   "source": [
    "BoSSSshell.WorkflowMgm.Init(ProjectName);\n",
    "static var myDb = BoSSSshell.OpenDatabase(BoSSSshell.WorkflowMgm.DefaultDatabase.Path);\n",
    "Console.WriteLine(\"Initializing : \" + myDb.Path);"
   ]
  },
  {
   "cell_type": "code",
   "execution_count": null,
   "metadata": {
    "dotnet_interactive": {
     "language": "csharp"
    },
    "vscode": {
     "languageId": "dotnet-interactive.csharp"
    }
   },
   "outputs": [],
   "source": [
    "BoSSSshell.WorkflowMgm.SetNameBasedSessionJobControlCorrelation();"
   ]
  },
  {
   "cell_type": "markdown",
   "metadata": {
    "dotnet_interactive": {
     "language": "csharp"
    }
   },
   "source": [
    "### Construct parameterized velocity splines"
   ]
  },
  {
   "cell_type": "code",
   "execution_count": null,
   "metadata": {
    "dotnet_interactive": {
     "language": "csharp"
    },
    "vscode": {
     "languageId": "dotnet-interactive.csharp"
    }
   },
   "outputs": [],
   "source": [
    "double H0 = 1e-5;\n",
    "double V0 = 1.0;\n",
    "double P0 = 1e6;"
   ]
  },
  {
   "cell_type": "code",
   "execution_count": null,
   "metadata": {
    "dotnet_interactive": {
     "language": "csharp"
    },
    "vscode": {
     "languageId": "dotnet-interactive.csharp"
    }
   },
   "outputs": [],
   "source": [
    "var sessions = myDb4Correlation.Sessions.Where(s => s.ProjectName == \"SFB1194_K65_Part1\").ToArray();\n",
    "var sV = sessions.Single(s => Convert.ToDouble(s.KeysAndQueries[\"id:delta\"]).ApproxEqual(H0) &  Convert.ToDouble(s.KeysAndQueries[\"id:P_Diff\"]).ApproxEqual(0.0) & Convert.ToDouble(s.KeysAndQueries[\"id:V_Wall\"]).ApproxEqual(V0));\n",
    "var sP = sessions.Single(s => Convert.ToDouble(s.KeysAndQueries[\"id:delta\"]).ApproxEqual(H0) &  Convert.ToDouble(s.KeysAndQueries[\"id:P_Diff\"]).ApproxEqual(P0) & Convert.ToDouble(s.KeysAndQueries[\"id:V_Wall\"]).ApproxEqual(0.0));"
   ]
  },
  {
   "cell_type": "markdown",
   "metadata": {},
   "source": [
    "Function to create the velocity profile along the symmetry axis"
   ]
  },
  {
   "cell_type": "code",
   "execution_count": null,
   "metadata": {
    "dotnet_interactive": {
     "language": "csharp"
    },
    "vscode": {
     "languageId": "dotnet-interactive.csharp"
    }
   },
   "outputs": [],
   "source": [
    "using MathNet.Numerics.Interpolation;"
   ]
  },
  {
   "cell_type": "code",
   "execution_count": null,
   "metadata": {
    "dotnet_interactive": {
     "language": "csharp"
    },
    "vscode": {
     "languageId": "dotnet-interactive.csharp"
    }
   },
   "outputs": [],
   "source": [
    "static public CubicSpline ConstructVelocitySpline(ISessionInfo si) {\n",
    "    DGField VelocityX = si.Timesteps.Last().Fields.Single(f => f.Identification == \"VelocityX\");\n",
    "    var grd = (GridData)VelocityX.GridDat;\n",
    "    EdgeMask em = new EdgeMask(grd, X => Math.Abs(X[1]) < 1e-12); // symmetry axis\n",
    "\n",
    "    var Spline = Postprocessing.SplineOnEdge(em, VelocityX, 0, out double lB, out double uB);\n",
    "    return Spline;\n",
    "}"
   ]
  },
  {
   "cell_type": "markdown",
   "metadata": {},
   "source": [
    "Evaluate the profile for both simulations and superpose"
   ]
  },
  {
   "cell_type": "code",
   "execution_count": null,
   "metadata": {
    "dotnet_interactive": {
     "language": "csharp"
    },
    "vscode": {
     "languageId": "dotnet-interactive.csharp"
    }
   },
   "outputs": [],
   "source": [
    "var SplineV = ConstructVelocitySpline(sV);\n",
    "var SplineP = ConstructVelocitySpline(sP);"
   ]
  },
  {
   "cell_type": "code",
   "execution_count": null,
   "metadata": {
    "dotnet_interactive": {
     "language": "csharp"
    },
    "vscode": {
     "languageId": "dotnet-interactive.csharp"
    }
   },
   "outputs": [],
   "source": [
    "Func<double, double, double, double, double> VelocityFunc = (x, h, v, p) => v/V0 * SplineV.Interpolate(x * Math.Sqrt(H0) / Math.Sqrt(h)) + (p * Math.Pow(h,1.5))/(P0 * Math.Pow(H0,1.5)) * SplineP.Interpolate(x * Math.Sqrt(H0) / Math.Sqrt(h));"
   ]
  },
  {
   "cell_type": "markdown",
   "metadata": {},
   "source": [
    "Set Velocity to be zero at a certain x_stag and calculate the necessary pressure difference"
   ]
  },
  {
   "cell_type": "code",
   "execution_count": null,
   "metadata": {
    "dotnet_interactive": {
     "language": "csharp"
    },
    "vscode": {
     "languageId": "dotnet-interactive.csharp"
    }
   },
   "outputs": [],
   "source": [
    "Func<double, double, double, double> PressureFunc = (x_stag, h, v) => -v/V0 * SplineV.Interpolate(x_stag * Math.Sqrt(H0) / Math.Sqrt(h)) * (P0 * Math.Pow(H0,1.5)) / (Math.Pow(h,1.5) * SplineP.Interpolate(x_stag * Math.Sqrt(H0) / Math.Sqrt(h)));"
   ]
  },
  {
   "cell_type": "markdown",
   "metadata": {},
   "source": [
    "### Setup Simulations"
   ]
  },
  {
   "cell_type": "markdown",
   "metadata": {},
   "source": [
    "Experimental Data - See PrintingNip_Experiment.pptx"
   ]
  },
  {
   "cell_type": "code",
   "execution_count": null,
   "metadata": {
    "dotnet_interactive": {
     "language": "csharp"
    },
    "vscode": {
     "languageId": "dotnet-interactive.csharp"
    }
   },
   "outputs": [],
   "source": [
    "// List<Tuple<double, double, double>> Setup = new List<Tuple<double, double, double>>(); // <Raster,V,x_stag>\n",
    "// Setup.Add(Tuple.Create(60.0, 10.0 / 60.0, 0.0092721));\n",
    "// Setup.Add(Tuple.Create(60.0, 20.0 / 60.0, 0.0103293));\n",
    "// Setup.Add(Tuple.Create(60.0, 30.0 / 60.0, 0.0106930));\n",
    "// Setup.Add(Tuple.Create(60.0, 45.0 / 60.0, 0.0116885));\n",
    "\n",
    "// Setup.Add(Tuple.Create(70.0, 10.0 / 60.0, 0.0090436));\n",
    "// Setup.Add(Tuple.Create(70.0, 20.0 / 60.0, 0.0099132));\n",
    "// Setup.Add(Tuple.Create(70.0, 30.0 / 60.0, 0.0105802));\n",
    "// Setup.Add(Tuple.Create(70.0, 45.0 / 60.0, 0.0108676));\n",
    "// Setup.Add(Tuple.Create(70.0, 60.0 / 60.0, 0.0105994));\n",
    "// Setup.Add(Tuple.Create(70.0, 75.0 / 60.0, 0.0106655));\n",
    "\n",
    "// Setup.Add(Tuple.Create(80.0, 10.0 / 60.0, 0.0085139));\n",
    "// Setup.Add(Tuple.Create(80.0, 20.0 / 60.0, 0.0098213));\n",
    "// Setup.Add(Tuple.Create(80.0, 30.0 / 60.0, 0.0098796));\n",
    "// Setup.Add(Tuple.Create(80.0, 45.0 / 60.0, 0.0102255));\n",
    "// Setup.Add(Tuple.Create(80.0, 60.0 / 60.0, 0.0105994));\n",
    "// Setup.Add(Tuple.Create(80.0, 75.0 / 60.0, 0.0104337));\n",
    "\n",
    "// Setup.Add(Tuple.Create(100.0, 10.0 / 60.0, 0.0081541));\n",
    "// Setup.Add(Tuple.Create(100.0, 20.0 / 60.0, 0.0085932));\n",
    "// Setup.Add(Tuple.Create(100.0, 30.0 / 60.0, 0.0086691));\n",
    "// Setup.Add(Tuple.Create(100.0, 45.0 / 60.0, 0.0085610)); // ??\n",
    "// Setup.Add(Tuple.Create(100.0, 60.0 / 60.0, 0.0092080));\n",
    "// Setup.Add(Tuple.Create(100.0, 75.0 / 60.0, 0.0097090));"
   ]
  },
  {
   "cell_type": "code",
   "execution_count": null,
   "metadata": {
    "dotnet_interactive": {
     "language": "csharp"
    },
    "vscode": {
     "languageId": "dotnet-interactive.csharp"
    }
   },
   "outputs": [],
   "source": [
    "double[] deltaS = new double[] {\n",
    "    //0.001, // millimeters\n",
    "    //0.0005, \n",
    "    //0.0001, \n",
    "    //0.00005, \n",
    "    0.00001, \n",
    "    0.000005, \n",
    "    0.000001 }; // micro-meter\n",
    "\n",
    "// always same\n",
    "int Res = 10;\n",
    "int DGdegree = 5;\n",
    "double R = 0.1;\n",
    "double x_stag = 0.01; // always at 10 mm\n",
    "\n",
    "// set grid to be saved in database\n",
    "GridFactory.myDb = myDb;"
   ]
  },
  {
   "cell_type": "code",
   "execution_count": null,
   "metadata": {
    "dotnet_interactive": {
     "language": "csharp"
    },
    "vscode": {
     "languageId": "dotnet-interactive.csharp"
    }
   },
   "outputs": [],
   "source": [
    "string[] lines = File.ReadAllLines(\"./ExperimentalResults.txt\");\n",
    "List<Tuple<double, double, double>> Setup = new List<Tuple<double, double, double>>(); // <Raster,V,x_stag>\n",
    "\n",
    "double e = 0.0395; // viscosity\n",
    "double s = 0.027; // surface tension\n",
    "\n",
    "for(int i = 1; i < lines.Length; i++){\n",
    "    string line = lines[i];\n",
    "    string[] values = line.Split('\\t');\n",
    "    double raster = Convert.ToDouble(values[0]);\n",
    "    double velocity = Convert.ToDouble(values[1]);\n",
    "    double finger = Convert.ToDouble(values[2])*100; // convert to 1/m\n",
    "\n",
    "    double Ca = e * velocity / s;\n",
    "    double h_m = Math.Sqrt(Ca / (finger * finger));\n",
    "    double x_m = Math.Sqrt(h_m*R); // cylinder/cylinder, for cylinder/plate sqrt(2*h*R)\n",
    "    double x_stag = x_m;\n",
    "    \n",
    "    Setup.Add(Tuple.Create(raster, velocity, x_stag));\n",
    "}"
   ]
  },
  {
   "cell_type": "code",
   "execution_count": null,
   "metadata": {
    "dotnet_interactive": {
     "language": "csharp"
    },
    "vscode": {
     "languageId": "dotnet-interactive.csharp"
    }
   },
   "outputs": [
    {
     "data": {
      "text/html": [
       "<table><thead><tr><th><i>index</i></th><th>Item1</th><th>Item2</th><th>Item3</th></tr></thead><tbody><tr><td>0</td><td>60</td><td>0.1666667</td><td>0.00666894324961969</td></tr><tr><td>1</td><td>60</td><td>0.3333333</td><td>0.007348809514636953</td></tr><tr><td>2</td><td>60</td><td>0.5</td><td>0.007544082935209117</td></tr><tr><td>3</td><td>60</td><td>0.75</td><td>0.008161259644642382</td></tr><tr><td>4</td><td>60</td><td>1</td><td>0.008430784373634197</td></tr><tr><td>5</td><td>60</td><td>1.25</td><td>0.010778377157023017</td></tr><tr><td>6</td><td>70</td><td>0.1666667</td><td>0.006396007895588078</td></tr><tr><td>7</td><td>70</td><td>0.3333333</td><td>0.0071020858851714545</td></tr><tr><td>8</td><td>70</td><td>0.5</td><td>0.007318451188571249</td></tr><tr><td>9</td><td>70</td><td>0.75</td><td>0.007648884957317737</td></tr><tr><td>10</td><td>70</td><td>1</td><td>0.007580345283811686</td></tr><tr><td>11</td><td>70</td><td>1.25</td><td>0.0074349271541907175</td></tr><tr><td>12</td><td>80</td><td>0.1666667</td><td>0.006007215518908753</td></tr><tr><td>13</td><td>80</td><td>0.3333333</td><td>0.007000864381573265</td></tr><tr><td>14</td><td>80</td><td>0.5</td><td>0.006969341563280081</td></tr><tr><td>15</td><td>80</td><td>0.75</td><td>0.007212640279073761</td></tr><tr><td>16</td><td>80</td><td>1</td><td>0.007314285057188198</td></tr><tr><td>17</td><td>80</td><td>1.25</td><td>0.0073427133195402465</td></tr><tr><td>18</td><td>100</td><td>0.1666667</td><td>0.005722037774154925</td></tr><tr><td>19</td><td>100</td><td>0.3333333</td><td>0.006044421154212449</td></tr><tr><td>20</td><td>100</td><td>0.5</td><td>0.005962121970599507</td></tr><tr><td>21</td><td>100</td><td>0.75</td><td>0.006023279732566701</td></tr><tr><td>22</td><td>100</td><td>1</td><td>0.006427705195149546</td></tr><tr><td>23</td><td>100</td><td>1.25</td><td>0.006701752599725252</td></tr></tbody></table>"
      ]
     },
     "metadata": {},
     "output_type": "display_data"
    }
   ],
   "source": [
    "Setup"
   ]
  },
  {
   "cell_type": "code",
   "execution_count": null,
   "metadata": {
    "dotnet_interactive": {
     "language": "csharp"
    },
    "vscode": {
     "languageId": "dotnet-interactive.csharp"
    }
   },
   "outputs": [
    {
     "name": "stdout",
     "output_type": "stream",
     "text": [
      "Grid Edge Tags changed.\r\n",
      "Grid Edge Tags changed.\r\n",
      "Grid Edge Tags changed.\r\n"
     ]
    }
   ],
   "source": [
    "var controls = new List<XNSE_Control>();\n",
    "\n",
    "foreach(double delta in deltaS) {\n",
    "   foreach(Tuple<double, double, double> R_V_X in Setup) {\n",
    "\n",
    "      double V_wall = R_V_X.Item2;\n",
    "      double p = PressureFunc(R_V_X.Item3, delta, V_wall);\n",
    "\n",
    "      var C = new XNSE_Control();\n",
    "      C.SetDGdegree(DGdegree);\n",
    "      C.SetGrid(GridFactory.GenerateGrid(Res,delta, R));\n",
    "      C.Paramstudy_CaseIdentification.Add(new Tuple<string, object>(\"Res\", Res));\n",
    "      C.Paramstudy_CaseIdentification.Add(new Tuple<string, object>(\"delta\", delta));\n",
    "      C.Paramstudy_CaseIdentification.Add(new Tuple<string, object>(\"Radius\", R));\n",
    "      C.Paramstudy_CaseIdentification.Add(new Tuple<string, object>(\"V_Wall\", V_wall));\n",
    "      C.Paramstudy_CaseIdentification.Add(new Tuple<string, object>(\"P_Diff\", p));\n",
    "      C.Paramstudy_CaseIdentification.Add(new Tuple<string, object>(\"Raster\", R_V_X.Item1));\n",
    "\n",
    "\n",
    "\n",
    "      C.AddBoundaryValue(\"wall_walze\", \"VelocityX\", BoundaryValueFactory.Get_VelX(delta, V_wall, R));\n",
    "      C.AddBoundaryValue(\"wall_walze\", \"VelocityY\", BoundaryValueFactory.Get_VelY(delta, V_wall, R));\n",
    "      C.AddBoundaryValue(\"wall_substrat\", \"VelocityX\", BoundaryValueFactory.Get_VelX(delta, V_wall, R));\n",
    "      C.AddBoundaryValue(\"wall_substrat\", \"VelocityY\", BoundaryValueFactory.Get_VelY(delta, V_wall, R));\n",
    "      C.AddBoundaryValue(\"pressure_outlet_in\", \"Pressure\", $\"X => {p}\", false);\n",
    "      C.AddBoundaryValue(\"pressure_outlet_out\", \"Pressure\", $\"X => {-p}\", false);\n",
    "\n",
    "\n",
    "      C.TimesteppingMode = AppControl._TimesteppingMode.Steady;\n",
    "\n",
    "      C.PhysicalParameters.rho_A             = 1026.4;\n",
    "      C.PhysicalParameters.mu_A              = 0.0395;\n",
    "      C.PhysicalParameters.IncludeConvection = false;\n",
    "      C.Timestepper_LevelSetHandling         = BoSSS.Solution.XdgTimestepping.LevelSetHandling.None;\n",
    "      \n",
    "      C.SessionName = \"J\" + (20*Res*Res) + \"_delta\" + delta + \"_V\" + V_wall + \"_P\" + p + \"_RL\" + R_V_X.Item1;     \n",
    "      controls.Add(C);\n",
    "   }\n",
    "}"
   ]
  },
  {
   "cell_type": "code",
   "execution_count": null,
   "metadata": {
    "dotnet_interactive": {
     "language": "csharp"
    },
    "vscode": {
     "languageId": "dotnet-interactive.csharp"
    }
   },
   "outputs": [
    {
     "name": "stdout",
     "output_type": "stream",
     "text": [
      "72\r\n"
     ]
    }
   ],
   "source": [
    "Console.WriteLine(controls.Count);"
   ]
  },
  {
   "cell_type": "markdown",
   "metadata": {},
   "source": [
    "### Run Simulations"
   ]
  },
  {
   "cell_type": "markdown",
   "metadata": {},
   "source": [
    "Workaround so we need to deploy the rather large executables only once!"
   ]
  },
  {
   "cell_type": "code",
   "execution_count": null,
   "metadata": {
    "dotnet_interactive": {
     "language": "csharp"
    },
    "vscode": {
     "languageId": "dotnet-interactive.csharp"
    }
   },
   "outputs": [],
   "source": [
    "string mngdir = \"SFB1194K65_Part3_\" + DateTime.Now.ToString(\"MMMdd_HHmmss\") + \"_managed\";\n",
    "DirectoryInfo ManagedOverride = new DirectoryInfo(Path.Combine(myBatch.DeploymentBaseDirectory, mngdir));\n",
    "ManagedOverride.Create();\n",
    "typeof(XNSE<XNSE_Control>).Assembly.DeployAt(ManagedOverride);\n",
    "string RelManagedPath = \"../\" + mngdir + \"/\" + Path.GetFileName(typeof(XNSE<XNSE_Control>).Assembly.Location);"
   ]
  },
  {
   "cell_type": "code",
   "execution_count": null,
   "metadata": {
    "dotnet_interactive": {
     "language": "csharp"
    },
    "vscode": {
     "languageId": "dotnet-interactive.csharp"
    }
   },
   "outputs": [],
   "source": [
    "string ntvdir = \"SFB1194K65_Part3_\" + DateTime.Now.ToString(\"MMMdd_HHmmss\") + \"_amd64\";\n",
    "DirectoryInfo NativeOverride = new DirectoryInfo(Path.Combine(myBatch.DeploymentBaseDirectory, ntvdir));\n",
    "NativeOverride.Create();\n",
    "MetaJobMgrIO.CopyDirectoryRec(ilPSP.Environment.NativeLibraryDir, NativeOverride.FullName, null);\n",
    "myBatch.DeployRuntime = false; // we did this manually!"
   ]
  },
  {
   "cell_type": "code",
   "execution_count": null,
   "metadata": {
    "dotnet_interactive": {
     "language": "csharp"
    },
    "vscode": {
     "languageId": "dotnet-interactive.csharp"
    }
   },
   "outputs": [
    {
     "name": "stdout",
     "output_type": "stream",
     "text": [
      "Deploying job J2000_delta1E-05_V0.1666667_P6430265.902163791_RL60 ... \r\n",
      "Deploying executables and additional files ...\r\n",
      "Skipping assembly file copy, since 'EntryAssemblyRedirection' = ../SFB1194K65_Part3_May04_100225_managed/XNSE_Solver.dll\r\n",
      "Deployment directory: \\\\hpccluster\\hpccluster-scratch\\rieckmann\\binaries\\SFB1194_K65_Part3-XNSE_Solver2022May04_100502\r\n",
      "copied 0 files.\r\n",
      "   written file: control.obj\r\n",
      "deployment finished.\r\n",
      "\r\n",
      "Deploying job J2000_delta1E-05_V0.3333333_P15814166.37990894_RL60 ... \r\n",
      "Deploying executables and additional files ...\r\n",
      "Skipping assembly file copy, since 'EntryAssemblyRedirection' = ../SFB1194K65_Part3_May04_100225_managed/XNSE_Solver.dll\r\n",
      "Deployment directory: \\\\hpccluster\\hpccluster-scratch\\rieckmann\\binaries\\SFB1194_K65_Part3-XNSE_Solver2022May04_100627\r\n",
      "copied 0 files.\r\n",
      "   written file: control.obj\r\n",
      "deployment finished.\r\n",
      "\r\n",
      "Deploying job J2000_delta1E-05_V0.5_P25073051.433433536_RL60 ... \r\n",
      "Deploying executables and additional files ...\r\n",
      "Skipping assembly file copy, since 'EntryAssemblyRedirection' = ../SFB1194K65_Part3_May04_100225_managed/XNSE_Solver.dll\r\n",
      "Deployment directory: \\\\hpccluster\\hpccluster-scratch\\rieckmann\\binaries\\SFB1194_K65_Part3-XNSE_Solver2022May04_100843\r\n",
      "copied 0 files.\r\n",
      "   written file: control.obj\r\n",
      "deployment finished.\r\n",
      "\r\n",
      "Deploying job J2000_delta1E-05_V0.75_P44367059.253445044_RL60 ... \r\n",
      "Deploying executables and additional files ...\r\n",
      "Skipping assembly file copy, since 'EntryAssemblyRedirection' = ../SFB1194K65_Part3_May04_100225_managed/XNSE_Solver.dll\r\n",
      "Deployment directory: \\\\hpccluster\\hpccluster-scratch\\rieckmann\\binaries\\SFB1194_K65_Part3-XNSE_Solver2022May04_101018\r\n",
      "copied 0 files.\r\n",
      "   written file: control.obj\r\n",
      "deployment finished.\r\n",
      "\r\n",
      "Deploying job J2000_delta1E-05_V1_P63312343.12967911_RL60 ... \r\n",
      "Deploying executables and additional files ...\r\n",
      "Skipping assembly file copy, since 'EntryAssemblyRedirection' = ../SFB1194K65_Part3_May04_100225_managed/XNSE_Solver.dll\r\n",
      "Deployment directory: \\\\hpccluster\\hpccluster-scratch\\rieckmann\\binaries\\SFB1194_K65_Part3-XNSE_Solver2022May04_101233\r\n",
      "copied 0 files.\r\n",
      "   written file: control.obj\r\n",
      "deployment finished.\r\n",
      "\r\n",
      "Deploying job J2000_delta1E-05_V1.25_P131504181.40124083_RL60 ... \r\n",
      "Deploying executables and additional files ...\r\n",
      "Skipping assembly file copy, since 'EntryAssemblyRedirection' = ../SFB1194K65_Part3_May04_100225_managed/XNSE_Solver.dll\r\n",
      "Deployment directory: \\\\hpccluster\\hpccluster-scratch\\rieckmann\\binaries\\SFB1194_K65_Part3-XNSE_Solver2022May04_101504\r\n",
      "copied 0 files.\r\n",
      "   written file: control.obj\r\n",
      "deployment finished.\r\n",
      "\r\n",
      "Deploying job J2000_delta1E-05_V0.1666667_P5877619.401570626_RL70 ... \r\n",
      "Deploying executables and additional files ...\r\n",
      "Skipping assembly file copy, since 'EntryAssemblyRedirection' = ../SFB1194K65_Part3_May04_100225_managed/XNSE_Solver.dll\r\n",
      "Deployment directory: \\\\hpccluster\\hpccluster-scratch\\rieckmann\\binaries\\SFB1194_K65_Part3-XNSE_Solver2022May04_101716\r\n",
      "copied 0 files.\r\n",
      "   written file: control.obj\r\n",
      "deployment finished.\r\n",
      "\r\n",
      "Deploying job J2000_delta1E-05_V0.3333333_P14709241.869348366_RL70 ... \r\n",
      "Deploying executables and additional files ...\r\n",
      "Skipping assembly file copy, since 'EntryAssemblyRedirection' = ../SFB1194K65_Part3_May04_100225_managed/XNSE_Solver.dll\r\n",
      "Deployment directory: \\\\hpccluster\\hpccluster-scratch\\rieckmann\\binaries\\SFB1194_K65_Part3-XNSE_Solver2022May04_101951\r\n",
      "copied 0 files.\r\n",
      "   written file: control.obj\r\n",
      "deployment finished.\r\n",
      "\r\n",
      "Deploying job J2000_delta1E-05_V0.5_P23514254.05222896_RL70 ... \r\n",
      "Deploying executables and additional files ...\r\n",
      "Skipping assembly file copy, since 'EntryAssemblyRedirection' = ../SFB1194K65_Part3_May04_100225_managed/XNSE_Solver.dll\r\n",
      "Deployment directory: \\\\hpccluster\\hpccluster-scratch\\rieckmann\\binaries\\SFB1194_K65_Part3-XNSE_Solver2022May04_102321\r\n",
      "copied 0 files.\r\n",
      "   written file: control.obj\r\n",
      "deployment finished.\r\n",
      "\r\n",
      "Deploying job J2000_delta1E-05_V0.75_P38719716.09710156_RL70 ... \r\n",
      "Deploying executables and additional files ...\r\n",
      "Skipping assembly file copy, since 'EntryAssemblyRedirection' = ../SFB1194K65_Part3_May04_100225_managed/XNSE_Solver.dll\r\n",
      "Deployment directory: \\\\hpccluster\\hpccluster-scratch\\rieckmann\\binaries\\SFB1194_K65_Part3-XNSE_Solver2022May04_102553\r\n",
      "copied 0 files.\r\n",
      "   written file: control.obj\r\n",
      "deployment finished.\r\n",
      "\r\n",
      "Deploying job J2000_delta1E-05_V1_P50655954.212629326_RL70 ... \r\n",
      "Deploying executables and additional files ...\r\n",
      "Skipping assembly file copy, since 'EntryAssemblyRedirection' = ../SFB1194K65_Part3_May04_100225_managed/XNSE_Solver.dll\r\n",
      "Deployment directory: \\\\hpccluster\\hpccluster-scratch\\rieckmann\\binaries\\SFB1194_K65_Part3-XNSE_Solver2022May04_102828\r\n",
      "copied 0 files.\r\n",
      "   written file: control.obj\r\n",
      "deployment finished.\r\n",
      "\r\n",
      "Deploying job J2000_delta1E-05_V1.25_P60782629.86051684_RL70 ... \r\n",
      "Deploying executables and additional files ...\r\n",
      "Skipping assembly file copy, since 'EntryAssemblyRedirection' = ../SFB1194K65_Part3_May04_100225_managed/XNSE_Solver.dll\r\n",
      "Deployment directory: \\\\hpccluster\\hpccluster-scratch\\rieckmann\\binaries\\SFB1194_K65_Part3-XNSE_Solver2022May04_103154\r\n",
      "copied 0 files.\r\n",
      "   written file: control.obj\r\n",
      "deployment finished.\r\n",
      "\r\n",
      "Deploying job J2000_delta1E-05_V0.1666667_P5130191.611361154_RL80 ... \r\n",
      "Deploying executables and additional files ...\r\n",
      "Skipping assembly file copy, since 'EntryAssemblyRedirection' = ../SFB1194K65_Part3_May04_100225_managed/XNSE_Solver.dll\r\n",
      "Deployment directory: \\\\hpccluster\\hpccluster-scratch\\rieckmann\\binaries\\SFB1194_K65_Part3-XNSE_Solver2022May04_103612\r\n",
      "copied 0 files.\r\n",
      "   written file: control.obj\r\n",
      "deployment finished.\r\n",
      "\r\n",
      "Deploying job J2000_delta1E-05_V0.3333333_P14266819.82963719_RL80 ... \r\n",
      "Deploying executables and additional files ...\r\n",
      "Skipping assembly file copy, since 'EntryAssemblyRedirection' = ../SFB1194K65_Part3_May04_100225_managed/XNSE_Solver.dll\r\n",
      "Deployment directory: \\\\hpccluster\\hpccluster-scratch\\rieckmann\\binaries\\SFB1194_K65_Part3-XNSE_Solver2022May04_103933\r\n",
      "copied 0 files.\r\n",
      "   written file: control.obj\r\n",
      "deployment finished.\r\n",
      "\r\n",
      "Deploying job J2000_delta1E-05_V0.5_P21195498.574737966_RL80 ... \r\n",
      "Deploying executables and additional files ...\r\n",
      "Skipping assembly file copy, since 'EntryAssemblyRedirection' = ../SFB1194K65_Part3_May04_100225_managed/XNSE_Solver.dll\r\n",
      "Deployment directory: \\\\hpccluster\\hpccluster-scratch\\rieckmann\\binaries\\SFB1194_K65_Part3-XNSE_Solver2022May04_104323\r\n",
      "copied 0 files.\r\n",
      "   written file: control.obj\r\n",
      "deployment finished.\r\n",
      "\r\n",
      "Deploying job J2000_delta1E-05_V0.75_P34199304.713326685_RL80 ... \r\n",
      "Deploying executables and additional files ...\r\n",
      "Skipping assembly file copy, since 'EntryAssemblyRedirection' = ../SFB1194K65_Part3_May04_100225_managed/XNSE_Solver.dll\r\n",
      "Deployment directory: \\\\hpccluster\\hpccluster-scratch\\rieckmann\\binaries\\SFB1194_K65_Part3-XNSE_Solver2022May04_104742\r\n",
      "copied 0 files.\r\n",
      "   written file: control.obj\r\n",
      "deployment finished.\r\n",
      "\r\n",
      "Deploying job J2000_delta1E-05_V1_P46971833.16089195_RL80 ... \r\n",
      "Deploying executables and additional files ...\r\n",
      "Skipping assembly file copy, since 'EntryAssemblyRedirection' = ../SFB1194K65_Part3_May04_100225_managed/XNSE_Solver.dll\r\n",
      "Deployment directory: \\\\hpccluster\\hpccluster-scratch\\rieckmann\\binaries\\SFB1194_K65_Part3-XNSE_Solver2022May04_105136\r\n",
      "copied 0 files.\r\n",
      "   written file: control.obj\r\n",
      "deployment finished.\r\n",
      "\r\n",
      "Deploying job J2000_delta1E-05_V1.25_P59199005.29221434_RL80 ... \r\n",
      "Deploying executables and additional files ...\r\n",
      "Skipping assembly file copy, since 'EntryAssemblyRedirection' = ../SFB1194K65_Part3_May04_100225_managed/XNSE_Solver.dll\r\n",
      "Deployment directory: \\\\hpccluster\\hpccluster-scratch\\rieckmann\\binaries\\SFB1194_K65_Part3-XNSE_Solver2022May04_105539\r\n",
      "copied 0 files.\r\n",
      "   written file: control.obj\r\n",
      "deployment finished.\r\n",
      "\r\n",
      "Deploying job J2000_delta1E-05_V0.1666667_P4611707.373630112_RL100 ... \r\n",
      "Deploying executables and additional files ...\r\n",
      "Skipping assembly file copy, since 'EntryAssemblyRedirection' = ../SFB1194K65_Part3_May04_100225_managed/XNSE_Solver.dll\r\n",
      "Deployment directory: \\\\hpccluster\\hpccluster-scratch\\rieckmann\\binaries\\SFB1194_K65_Part3-XNSE_Solver2022May04_110014\r\n",
      "copied 0 files.\r\n",
      "   written file: control.obj\r\n",
      "deployment finished.\r\n",
      "\r\n",
      "Deploying job J2000_delta1E-05_V0.3333333_P10399378.955497911_RL100 ... \r\n",
      "Deploying executables and additional files ...\r\n",
      "Skipping assembly file copy, since 'EntryAssemblyRedirection' = ../SFB1194K65_Part3_May04_100225_managed/XNSE_Solver.dll\r\n",
      "Deployment directory: \\\\hpccluster\\hpccluster-scratch\\rieckmann\\binaries\\SFB1194_K65_Part3-XNSE_Solver2022May04_110348\r\n",
      "copied 0 files.\r\n",
      "   written file: control.obj\r\n",
      "deployment finished.\r\n",
      "\r\n",
      "Deploying job J2000_delta1E-05_V0.5_P15139591.19415549_RL100 ... \r\n",
      "Deploying executables and additional files ...\r\n",
      "Skipping assembly file copy, since 'EntryAssemblyRedirection' = ../SFB1194K65_Part3_May04_100225_managed/XNSE_Solver.dll\r\n",
      "Deployment directory: \\\\hpccluster\\hpccluster-scratch\\rieckmann\\binaries\\SFB1194_K65_Part3-XNSE_Solver2022May04_110810\r\n",
      "copied 0 files.\r\n",
      "   written file: control.obj\r\n",
      "deployment finished.\r\n",
      "\r\n",
      "Deploying job J2000_delta1E-05_V0.75_P23220671.21565372_RL100 ... \r\n",
      "Deploying executables and additional files ...\r\n",
      "Skipping assembly file copy, since 'EntryAssemblyRedirection' = ../SFB1194K65_Part3_May04_100225_managed/XNSE_Solver.dll\r\n",
      "Deployment directory: \\\\hpccluster\\hpccluster-scratch\\rieckmann\\binaries\\SFB1194_K65_Part3-XNSE_Solver2022May04_111252\r\n",
      "copied 0 files.\r\n",
      "   written file: control.obj\r\n",
      "deployment finished.\r\n",
      "\r\n",
      "Deploying job J2000_delta1E-05_V1_P35643717.593602054_RL100 ... \r\n",
      "Deploying executables and additional files ...\r\n",
      "Skipping assembly file copy, since 'EntryAssemblyRedirection' = ../SFB1194K65_Part3_May04_100225_managed/XNSE_Solver.dll\r\n",
      "Deployment directory: \\\\hpccluster\\hpccluster-scratch\\rieckmann\\binaries\\SFB1194_K65_Part3-XNSE_Solver2022May04_111742\r\n",
      "copied 0 files.\r\n",
      "   written file: control.obj\r\n",
      "deployment finished.\r\n",
      "\r\n",
      "Deploying job J2000_delta1E-05_V1.25_P48736877.33721605_RL100 ... \r\n",
      "Deploying executables and additional files ...\r\n",
      "Skipping assembly file copy, since 'EntryAssemblyRedirection' = ../SFB1194K65_Part3_May04_100225_managed/XNSE_Solver.dll\r\n",
      "Deployment directory: \\\\hpccluster\\hpccluster-scratch\\rieckmann\\binaries\\SFB1194_K65_Part3-XNSE_Solver2022May04_112304\r\n",
      "copied 0 files.\r\n",
      "   written file: control.obj\r\n",
      "deployment finished.\r\n",
      "\r\n",
      "Deploying job J2000_delta5E-06_V0.1666667_P37673947.69630459_RL60 ... \r\n",
      "Deploying executables and additional files ...\r\n",
      "Skipping assembly file copy, since 'EntryAssemblyRedirection' = ../SFB1194K65_Part3_May04_100225_managed/XNSE_Solver.dll\r\n",
      "Deployment directory: \\\\hpccluster\\hpccluster-scratch\\rieckmann\\binaries\\SFB1194_K65_Part3-XNSE_Solver2022May04_112757\r\n",
      "copied 0 files.\r\n",
      "   written file: control.obj\r\n",
      "deployment finished.\r\n",
      "\r\n",
      "Deploying job J2000_delta5E-06_V0.3333333_P92039672.33846389_RL60 ... \r\n",
      "Deploying executables and additional files ...\r\n",
      "Skipping assembly file copy, since 'EntryAssemblyRedirection' = ../SFB1194K65_Part3_May04_100225_managed/XNSE_Solver.dll\r\n",
      "Deployment directory: \\\\hpccluster\\hpccluster-scratch\\rieckmann\\binaries\\SFB1194_K65_Part3-XNSE_Solver2022May04_113311\r\n",
      "copied 0 files.\r\n",
      "   written file: control.obj\r\n",
      "deployment finished.\r\n",
      "\r\n",
      "Deploying job J2000_delta5E-06_V0.5_P145698000.4213284_RL60 ... \r\n",
      "Deploying executables and additional files ...\r\n",
      "Skipping assembly file copy, since 'EntryAssemblyRedirection' = ../SFB1194K65_Part3_May04_100225_managed/XNSE_Solver.dll\r\n",
      "Deployment directory: \\\\hpccluster\\hpccluster-scratch\\rieckmann\\binaries\\SFB1194_K65_Part3-XNSE_Solver2022May04_113811\r\n",
      "copied 0 files.\r\n",
      "   written file: control.obj\r\n",
      "deployment finished.\r\n",
      "\r\n",
      "Deploying job J2000_delta5E-06_V0.75_P256725976.1713459_RL60 ... \r\n",
      "Deploying executables and additional files ...\r\n",
      "Skipping assembly file copy, since 'EntryAssemblyRedirection' = ../SFB1194K65_Part3_May04_100225_managed/XNSE_Solver.dll\r\n",
      "Deployment directory: \\\\hpccluster\\hpccluster-scratch\\rieckmann\\binaries\\SFB1194_K65_Part3-XNSE_Solver2022May04_114412\r\n",
      "copied 0 files.\r\n",
      "   written file: control.obj\r\n",
      "deployment finished.\r\n",
      "\r\n",
      "Deploying job J2000_delta5E-06_V1_P365780347.99035305_RL60 ... \r\n",
      "Deploying executables and additional files ...\r\n",
      "Skipping assembly file copy, since 'EntryAssemblyRedirection' = ../SFB1194K65_Part3_May04_100225_managed/XNSE_Solver.dll\r\n",
      "Deployment directory: \\\\hpccluster\\hpccluster-scratch\\rieckmann\\binaries\\SFB1194_K65_Part3-XNSE_Solver2022May04_114857\r\n",
      "copied 0 files.\r\n",
      "   written file: control.obj\r\n",
      "deployment finished.\r\n",
      "\r\n",
      "Deploying job J2000_delta5E-06_V1.25_P752886611.1574143_RL60 ... \r\n",
      "Deploying executables and additional files ...\r\n",
      "Skipping assembly file copy, since 'EntryAssemblyRedirection' = ../SFB1194K65_Part3_May04_100225_managed/XNSE_Solver.dll\r\n",
      "Deployment directory: \\\\hpccluster\\hpccluster-scratch\\rieckmann\\binaries\\SFB1194_K65_Part3-XNSE_Solver2022May04_115357\r\n",
      "copied 0 files.\r\n",
      "   written file: control.obj\r\n",
      "deployment finished.\r\n",
      "\r\n",
      "Deploying job J2000_delta5E-06_V0.1666667_P34550367.2032792_RL70 ... \r\n",
      "Deploying executables and additional files ...\r\n",
      "Skipping assembly file copy, since 'EntryAssemblyRedirection' = ../SFB1194K65_Part3_May04_100225_managed/XNSE_Solver.dll\r\n",
      "Deployment directory: \\\\hpccluster\\hpccluster-scratch\\rieckmann\\binaries\\SFB1194_K65_Part3-XNSE_Solver2022May04_115944\r\n",
      "copied 0 files.\r\n",
      "   written file: control.obj\r\n",
      "deployment finished.\r\n",
      "\r\n",
      "Deploying job J2000_delta5E-06_V0.3333333_P85795754.15711097_RL70 ... \r\n",
      "Deploying executables and additional files ...\r\n",
      "Skipping assembly file copy, since 'EntryAssemblyRedirection' = ../SFB1194K65_Part3_May04_100225_managed/XNSE_Solver.dll\r\n",
      "Deployment directory: \\\\hpccluster\\hpccluster-scratch\\rieckmann\\binaries\\SFB1194_K65_Part3-XNSE_Solver2022May04_120546\r\n",
      "copied 0 files.\r\n",
      "   written file: control.obj\r\n",
      "deployment finished.\r\n",
      "\r\n",
      "Deploying job J2000_delta5E-06_V0.5_P136889940.30098218_RL70 ... \r\n",
      "Deploying executables and additional files ...\r\n",
      "Skipping assembly file copy, since 'EntryAssemblyRedirection' = ../SFB1194K65_Part3_May04_100225_managed/XNSE_Solver.dll\r\n",
      "Deployment directory: \\\\hpccluster\\hpccluster-scratch\\rieckmann\\binaries\\SFB1194_K65_Part3-XNSE_Solver2022May04_121157\r\n",
      "copied 0 files.\r\n",
      "   written file: control.obj\r\n",
      "deployment finished.\r\n",
      "\r\n",
      "Deploying job J2000_delta5E-06_V0.75_P224819585.149796_RL70 ... \r\n",
      "Deploying executables and additional files ...\r\n",
      "Skipping assembly file copy, since 'EntryAssemblyRedirection' = ../SFB1194K65_Part3_May04_100225_managed/XNSE_Solver.dll\r\n",
      "Deployment directory: \\\\hpccluster\\hpccluster-scratch\\rieckmann\\binaries\\SFB1194_K65_Part3-XNSE_Solver2022May04_121704\r\n",
      "copied 0 files.\r\n",
      "   written file: control.obj\r\n",
      "deployment finished.\r\n",
      "\r\n",
      "Deploying job J2000_delta5E-06_V1_P294276907.93397886_RL70 ... \r\n",
      "Deploying executables and additional files ...\r\n",
      "Skipping assembly file copy, since 'EntryAssemblyRedirection' = ../SFB1194K65_Part3_May04_100225_managed/XNSE_Solver.dll\r\n",
      "Deployment directory: \\\\hpccluster\\hpccluster-scratch\\rieckmann\\binaries\\SFB1194_K65_Part3-XNSE_Solver2022May04_122307\r\n",
      "copied 0 files.\r\n",
      "   written file: control.obj\r\n",
      "deployment finished.\r\n",
      "\r\n",
      "Deploying job J2000_delta5E-06_V1.25_P353508992.0225107_RL70 ... \r\n",
      "Deploying executables and additional files ...\r\n",
      "Skipping assembly file copy, since 'EntryAssemblyRedirection' = ../SFB1194K65_Part3_May04_100225_managed/XNSE_Solver.dll\r\n",
      "Deployment directory: \\\\hpccluster\\hpccluster-scratch\\rieckmann\\binaries\\SFB1194_K65_Part3-XNSE_Solver2022May04_123049\r\n",
      "copied 0 files.\r\n",
      "   written file: control.obj\r\n",
      "deployment finished.\r\n",
      "\r\n",
      "Deploying job J2000_delta5E-06_V0.1666667_P30325505.469962433_RL80 ... \r\n",
      "Deploying executables and additional files ...\r\n",
      "Skipping assembly file copy, since 'EntryAssemblyRedirection' = ../SFB1194K65_Part3_May04_100225_managed/XNSE_Solver.dll\r\n",
      "Deployment directory: \\\\hpccluster\\hpccluster-scratch\\rieckmann\\binaries\\SFB1194_K65_Part3-XNSE_Solver2022May04_123636\r\n",
      "copied 0 files.\r\n",
      "   written file: control.obj\r\n",
      "deployment finished.\r\n",
      "\r\n",
      "Deploying job J2000_delta5E-06_V0.3333333_P83295576.979106_RL80 ... \r\n",
      "Deploying executables and additional files ...\r\n",
      "Skipping assembly file copy, since 'EntryAssemblyRedirection' = ../SFB1194K65_Part3_May04_100225_managed/XNSE_Solver.dll\r\n",
      "Deployment directory: \\\\hpccluster\\hpccluster-scratch\\rieckmann\\binaries\\SFB1194_K65_Part3-XNSE_Solver2022May04_124331\r\n",
      "copied 0 files.\r\n",
      "   written file: control.obj\r\n",
      "deployment finished.\r\n",
      "\r\n",
      "Deploying job J2000_delta5E-06_V0.5_P123786368.07791619_RL80 ... \r\n",
      "Deploying executables and additional files ...\r\n",
      "Skipping assembly file copy, since 'EntryAssemblyRedirection' = ../SFB1194K65_Part3_May04_100225_managed/XNSE_Solver.dll\r\n",
      "Deployment directory: \\\\hpccluster\\hpccluster-scratch\\rieckmann\\binaries\\SFB1194_K65_Part3-XNSE_Solver2022May04_125115\r\n",
      "copied 0 files.\r\n",
      "   written file: control.obj\r\n",
      "deployment finished.\r\n",
      "\r\n",
      "Deploying job J2000_delta5E-06_V0.75_P199276553.36314267_RL80 ... \r\n",
      "Deploying executables and additional files ...\r\n",
      "Skipping assembly file copy, since 'EntryAssemblyRedirection' = ../SFB1194K65_Part3_May04_100225_managed/XNSE_Solver.dll\r\n",
      "Deployment directory: \\\\hpccluster\\hpccluster-scratch\\rieckmann\\binaries\\SFB1194_K65_Part3-XNSE_Solver2022May04_125839\r\n",
      "copied 0 files.\r\n",
      "   written file: control.obj\r\n",
      "deployment finished.\r\n",
      "\r\n",
      "Deploying job J2000_delta5E-06_V1_P273459505.96164787_RL80 ... \r\n",
      "Deploying executables and additional files ...\r\n",
      "Skipping assembly file copy, since 'EntryAssemblyRedirection' = ../SFB1194K65_Part3_May04_100225_managed/XNSE_Solver.dll\r\n",
      "Deployment directory: \\\\hpccluster\\hpccluster-scratch\\rieckmann\\binaries\\SFB1194_K65_Part3-XNSE_Solver2022May04_130610\r\n",
      "copied 0 files.\r\n",
      "   written file: control.obj\r\n",
      "deployment finished.\r\n",
      "\r\n"
     ]
    }
   ],
   "source": [
    "foreach(var c in controls) {\n",
    "    Job j = c.CreateJob();\n",
    "    j.EnvironmentVars.Add(BoSSS.Foundation.IO.Utils.BOSSS_NATIVE_OVERRIDE, NativeOverride.FullName);\n",
    "    j.EntryAssemblyRedirection = RelManagedPath;\n",
    "    j.Activate(myBatch);\n",
    "}"
   ]
  },
  {
   "cell_type": "code",
   "execution_count": null,
   "metadata": {
    "dotnet_interactive": {
     "language": "csharp"
    },
    "vscode": {
     "languageId": "dotnet-interactive.csharp"
    }
   },
   "outputs": [],
   "source": [
    "BoSSSshell.WorkflowMgm.BlockUntilAllJobsTerminate(18000);"
   ]
  }
 ],
 "metadata": {
  "kernelspec": {
   "display_name": ".NET (C#)",
   "language": "C#",
   "name": ".net-csharp"
  },
  "language_info": {
   "file_extension": ".cs",
   "mimetype": "text/x-csharp",
   "name": "C#",
   "pygments_lexer": "csharp",
   "version": "9.0"
  },
  "orig_nbformat": 4
 },
 "nbformat": 4,
 "nbformat_minor": 2
}
