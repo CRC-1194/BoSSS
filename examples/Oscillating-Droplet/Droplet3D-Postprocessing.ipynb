{
 "cells": [
  {
   "cell_type": "markdown",
   "metadata": {
    "dotnet_interactive": {
     "language": "csharp"
    }
   },
   "source": [
    "# 3D Droplet Oscillation (Part 2, Postprocessing)\n",
    "\n",
    "Results published: hopefully at some point!\n",
    "\n",
    "This is part of the BoSSS-long-term validation test suite, which consists of several computationally expensive test-cases (runtime in the order of days), which are performed on a regular basis in order to validate the physical correctness of BoSSS simulations."
   ]
  },
  {
   "cell_type": "markdown",
   "metadata": {
    "dotnet_interactive": {
     "language": "csharp"
    }
   },
   "source": [
    "### Preliminaries\n",
    "\n",
    "This example can be found in the source code repository as as `Droplet3D-Postprocessing.ipynb`. \n",
    "One can directly load this into Jupyter to interactively work with the following code examples.\n",
    "\n",
    "Note: First, BoSSS has to be loaded into the Jupyter kernel. Note:\n",
    "In the following line, the reference to `BoSSSpad.dll` is required. \n",
    "One must either set `#r \"BoSSSpad.dll\"` to something which is appropirate for the current computer\n",
    "(e.g. `C:\\Program Files (x86)\\FDY\\BoSSS\\bin\\Release\\net5.0\\BoSSSpad.dll` if working with the binary distribution), \n",
    "or, if one is working with the source code, one must compile `BoSSSpad`\n",
    "and put it side-by-side to this worksheet file \n",
    "(from the original location in the repository, one can use the scripts `getbossspad.sh`, resp. `getbossspad.bat`).\n"
   ]
  },
  {
   "cell_type": "code",
   "execution_count": null,
   "metadata": {
    "dotnet_interactive": {
     "language": "csharp"
    }
   },
   "outputs": [],
   "source": [
    "//#r \"../../src/L4-application/BoSSSpad/bin/Release/net5.0/BoSSSpad.dll\"\n",
    "//#r \"../../src/L4-application/BoSSSpad/bin/Debug/net5.0/BoSSSpad.dll\"\n",
    "#r \"BoSSSpad.dll\"\n",
    "using System;\n",
    "using System.Collections.Generic;\n",
    "using System.Linq;\n",
    "using ilPSP;\n",
    "using ilPSP.Utils;\n",
    "using BoSSS.Platform;\n",
    "using BoSSS.Foundation;\n",
    "using BoSSS.Foundation.XDG;\n",
    "using BoSSS.Foundation.Grid;\n",
    "using BoSSS.Foundation.Grid.Classic;\n",
    "using BoSSS.Foundation.IO;\n",
    "using BoSSS.Solution;\n",
    "using BoSSS.Solution.Control;\n",
    "using BoSSS.Solution.GridImport;\n",
    "using BoSSS.Solution.Statistic;\n",
    "using BoSSS.Solution.Utils;\n",
    "using BoSSS.Solution.AdvancedSolvers;\n",
    "using BoSSS.Solution.Gnuplot;\n",
    "using BoSSS.Application.BoSSSpad;\n",
    "using BoSSS.Application.XNSE_Solver;\n",
    "using static BoSSS.Application.BoSSSpad.BoSSSshell;\n",
    "Init();"
   ]
  },
  {
   "cell_type": "markdown",
   "metadata": {
    "dotnet_interactive": {
     "language": "csharp"
    }
   },
   "source": [
    "## Initialization tasks"
   ]
  },
  {
   "cell_type": "markdown",
   "metadata": {},
   "source": [
    "Loading the `XNSE_Solver` and additional namespace:"
   ]
  },
  {
   "cell_type": "code",
   "execution_count": null,
   "metadata": {
    "dotnet_interactive": {
     "language": "csharp"
    }
   },
   "outputs": [],
   "source": [
    "using BoSSS.Application.XNSE_Solver;\n",
    "using BoSSS.Application.XNSE_Solver.PhysicalBasedTestcases;\n",
    "using BoSSS.Solution.NSECommon;\n",
    "using BoSSS.Solution.LevelSetTools.SolverWithLevelSetUpdater;\n",
    "using NUnit.Framework;\n",
    "using BoSSS.Application.XNSE_Solver.Logging;"
   ]
  },
  {
   "cell_type": "markdown",
   "metadata": {},
   "source": [
    "Initialization of the Workflow management; there `OscillatingDroplet3D` is the project name which is used name all computations (aka. sessions):"
   ]
  },
  {
   "cell_type": "code",
   "execution_count": null,
   "metadata": {
    "dotnet_interactive": {
     "language": "csharp"
    }
   },
   "outputs": [],
   "source": [
    "BoSSSshell.WorkflowMgm.Init(\"OscillatingDroplet3D\");"
   ]
  },
  {
   "cell_type": "code",
   "execution_count": null,
   "metadata": {
    "dotnet_interactive": {
     "language": "csharp"
    }
   },
   "outputs": [],
   "source": [
    "//add database manually:\n",
    "//OpenOrCreateDatabase(@\"\\\\fdygitrunner\\ValidationTests\\OscillatingDroplet3D\");"
   ]
  },
  {
   "cell_type": "markdown",
   "metadata": {},
   "source": [
    "## Observing sessions"
   ]
  },
  {
   "cell_type": "code",
   "execution_count": null,
   "metadata": {},
   "outputs": [],
   "source": [
    "wmg.Sessions"
   ]
  },
  {
   "cell_type": "code",
   "execution_count": null,
   "metadata": {},
   "outputs": [],
   "source": [
    "using System.IO;"
   ]
  },
  {
   "cell_type": "code",
   "execution_count": null,
   "metadata": {},
   "outputs": [],
   "source": [
    "/*\n",
    "// temporary fix for a bug in the output file \"SphericalHarmonics.txt\"\n",
    "// (missing separator/tab between fist ans second column)\n",
    "void FileSanitizer(string _TextFile) {\n",
    "Console.WriteLine(\"sanitizing: \" + _TextFile);\n",
    "var TextFile2 = Path.Combine(Path.GetDirectoryName(_TextFile), Path.GetFileNameWithoutExtension(_TextFile) + \"-Copy.txt\");\n",
    "File.Copy(_TextFile,TextFile2, true);\n",
    "var TextFile3 = Path.Combine(Path.GetDirectoryName(_TextFile), Path.GetFileNameWithoutExtension(_TextFile) + \"-Sanitized.txt\");\n",
    "using (StreamWriter wrt = new StreamWriter(TextFile3)) {\n",
    "using (StreamReader reader = new StreamReader(new FileStream(TextFile2, FileMode.Open, FileAccess.Read, FileShare.Read))) {\n",
    "  int cnt = 0;\n",
    "  for(string l = reader.ReadLine(); l != null; l = reader.ReadLine()) {\n",
    "     if(cnt >= 1) {\n",
    "       string[] parts = l.Split(\"\\t\");\n",
    "       //Console.WriteLine(parts[0] + \"    \" + parts.Length);\n",
    "       string P0 = parts[0];\n",
    "       int L = P0.Length;\n",
    "       \n",
    "       string pp1, pp2;\n",
    "       int exp = P0.IndexOf(\"E\", 0, 5);\n",
    "       //exp = -1;\n",
    "       if(exp >= 0) {\n",
    "          int ppl = P0[exp + 1] == '-' ? 4 : 3;\n",
    "          pp1 = P0.Substring(0,exp + ppl);\n",
    "          pp2 = P0.Substring(exp + ppl);\n",
    "          \n",
    "       } else {\n",
    "          int minus = P0.IndexOf(\"-\");\n",
    "          if(minus >= 0 && P0[minus - 1] == 'E')\n",
    "             minus = -1;\n",
    "          if(minus >= 0) {\n",
    "              pp1 = P0.Substring(0,minus);\n",
    "              pp2 = P0.Substring(minus);\n",
    "          } else {\n",
    "              int comma = P0.IndexOf('.', 2, L - 2);\n",
    "              pp1 = P0.Substring(0,comma - 1);\n",
    "              pp2 = P0.Substring(comma - 1);\n",
    "          }\n",
    "       }\n",
    "       try {\n",
    "          double.Parse(pp1);\n",
    "       } catch(Exception) {\n",
    "          Console.Error.WriteLine(\"line \" + (cnt + 1) + \" cannot parse 1: \" + pp1 + \"  from \" + P0);\n",
    "       }\n",
    "       try {\n",
    "            double.Parse(pp2);\n",
    "       } catch(Exception) {\n",
    "          Console.Error.WriteLine(\"line \" + (cnt + 1) + \" cannot parse 2: \" + pp2 + \"  from \" + P0);\n",
    "       }\n",
    "       wrt.Write(pp1 + \"\\t\" + pp2);\n",
    "\n",
    "       \n",
    "       for(int i = 1; i < parts.Length; i++) {\n",
    "            wrt.Write(\"\\t\");\n",
    "            wrt.Write(parts[i]);\n",
    "       }\n",
    "       wrt.WriteLine();\n",
    "       \n",
    "     } else {\n",
    "       wrt.WriteLine(l);\n",
    "     }\n",
    "     cnt++;\n",
    "  }\n",
    "}\n",
    "}\n",
    "\n",
    "}\n",
    "*/"
   ]
  },
  {
   "cell_type": "code",
   "execution_count": null,
   "metadata": {},
   "outputs": [],
   "source": [
    "/*\n",
    "foreach(var s in wmg.Sessions) {\n",
    "    string dir = DatabaseDriver.GetSessionDirectory(s);\n",
    "    string file = Path.Combine(dir, \"SphericalHarmonics.txt\");\n",
    "    FileSanitizer(file);\n",
    "}\n",
    "*/"
   ]
  },
  {
   "cell_type": "code",
   "execution_count": null,
   "metadata": {},
   "outputs": [],
   "source": [
    "/*var plot = new Plot2Ddata();\n",
    "var allColors = Enum.GetValues(typeof(LineColors)).Cast<LineColors>().ToArray();\n",
    "var time = tab[\"time\"];\n",
    "int cnt = -1;\n",
    "foreach(var column in tab) {\n",
    "   cnt++;\n",
    "   var fmt = new PlotFormat();\n",
    "   fmt.Style = Styles.Lines; \n",
    "   fmt.LineColor = allColors[cnt%allColors.Length];\n",
    "   if(column.Key == \"time\")\n",
    "      continue;\n",
    "   plot.AddDataGroup(column.Key, time, column.Value, fmt);\n",
    "   \n",
    "   plot.Title = S1.Name;\n",
    "}*/"
   ]
  },
  {
   "cell_type": "code",
   "execution_count": null,
   "metadata": {},
   "outputs": [],
   "source": [
    "//plot.PlotNow()"
   ]
  },
  {
   "cell_type": "code",
   "execution_count": null,
   "metadata": {},
   "outputs": [],
   "source": [
    "foreach(var s in wmg.Sessions) {\n",
    "    Console.WriteLine(s);\n",
    "    if(s.Timesteps.Count() > 0)\n",
    "        Console.WriteLine(s.Timesteps.Last());\n",
    "    else \n",
    "        Console.WriteLine(\"no timestep computed/saved\");\n",
    "    Console.WriteLine();\n",
    "}"
   ]
  },
  {
   "cell_type": "code",
   "execution_count": null,
   "metadata": {},
   "outputs": [],
   "source": [
    "//wmg.Sessions.Single(si => si.Name.Contains(\"case3\")).Export().WithSupersampling(2).Do()"
   ]
  },
  {
   "cell_type": "markdown",
   "metadata": {},
   "source": [
    "## Plotting of Spherical Harmonics"
   ]
  },
  {
   "cell_type": "code",
   "execution_count": null,
   "metadata": {},
   "outputs": [],
   "source": [
    "//string[] modes = new string[]{ \"mode2\", \"mode3\", \"mode4\"};\n",
    "//string[] aPis = new string[] { \"aP0\", \"aP1\", \"aP2\" };\n",
    "string[] amrS = new string[] { \"arm0\", \"arm1\" };\n",
    "string[] caseS = new string[] { \"case1\", \"case2\", \"case3\", \"case4\", \"case5\" };"
   ]
  },
  {
   "cell_type": "code",
   "execution_count": null,
   "metadata": {},
   "outputs": [],
   "source": [
    "Plot2Ddata[,] PlotTable = new Plot2Ddata[5,1];\n",
    "for(int iCol = 0; iCol < 1; iCol++) {\n",
    "for(int iRow = 0; iRow < 5; iRow++) { // loop over cases\n",
    "for(int iarm = 0; iarm < 2; iarm++) {\n",
    "    string _amr = amrS[iarm];\n",
    "    string _case = caseS[iRow];\n",
    "\n",
    "    //ISessionInfo SI = null;\n",
    "    ISessionInfo SI = wmg.Sessions.SingleOrDefault(sess => sess.Name.Contains(_case) \n",
    "                                                        && sess.Name.Contains(_amr));\n",
    "    if(SI == null)\n",
    "        continue;\n",
    "    Console.WriteLine(SI.Name);\n",
    "\n",
    "    IDictionary<string, IList<double>> tab = null;\n",
    "    try {\n",
    "        tab = SI.ReadTabulatedTextFileAsDoubles(\"SphericalHarmonics.txt\", '\\t');\n",
    "    } catch (Exception e) {\n",
    "        Console.Error.WriteLine(e.Message);\n",
    "        Console.WriteLine(\"Skipping \" + SI);\n",
    "        \n",
    "        var dummyPlot = new Plot2Ddata();\n",
    "        dummyPlot.AddDataGroup(\"empty\", new double[]{ 0, 1 }, new double[] { 0, 1 });\n",
    "        PlotTable[iRow,iCol] = dummyPlot;\n",
    "        continue;\n",
    "    }\n",
    "    \n",
    "    var plot = new Plot2Ddata();\n",
    "    var allColors = Enum.GetValues(typeof(LineColors)).Cast<LineColors>().ToArray();\n",
    "    var time = tab[\"time\"];\n",
    "    int cnt = -1;\n",
    "    foreach(var column in tab) {\n",
    "       cnt++;\n",
    "       var fmt = new PlotFormat();\n",
    "       fmt.Style = Styles.Lines; \n",
    "       fmt.LineColor = allColors[cnt%allColors.Length];\n",
    "       if(column.Key == \"time\")\n",
    "          continue;\n",
    "       if(iarm == 0)\n",
    "          fmt.DashType = DashTypes.Solid;\n",
    "       else \n",
    "          fmt.DashType = DashTypes.Dashed;\n",
    "       string name = column.Key;\n",
    "       if(iarm > 0)\n",
    "           name = name + \"-amr\";\n",
    "       plot.AddDataGroup(name, time, column.Value, fmt);\n",
    "   }\n",
    "   \n",
    "   plot.ShowLegend = iCol == 2 && iRow == 2;\n",
    "   \n",
    "   //plot.Title = SI.Name;\n",
    "   \n",
    "   if(iarm == 0) {\n",
    "       PlotTable[iRow,iCol] = plot;\n",
    "   } else {\n",
    "       PlotTable[iRow,iCol] = PlotTable[iRow,iCol].Merge(plot);\n",
    "   }\n",
    "   \n",
    "}\n",
    "\n",
    "if(PlotTable[iRow,iCol] != null) {\n",
    "    PlotTable[iRow,iCol].ShowLegend = iCol == 0 && iRow == 0;\n",
    "    //if(iRow == 0)\n",
    "    //   PlotTable[iRow,iCol].Title = aPis[iCol];\n",
    "    if(iCol == 0)\n",
    "       PlotTable[iRow,iCol].Ylabel = caseS[iRow];\n",
    "}\n",
    "}\n",
    "}\n"
   ]
  },
  {
   "cell_type": "code",
   "execution_count": null,
   "metadata": {},
   "outputs": [],
   "source": [
    "var gp = PlotTable.ToGnuplot();\n",
    "gp.PlotSVG(xRes:1800,yRes:1500)"
   ]
  },
  {
   "cell_type": "code",
   "execution_count": null,
   "metadata": {},
   "outputs": [],
   "source": [
    "var cl = gp.PlotCairolatex(xSize:32,ySize:18);\n",
    "cl.WriteMinimalCompileableExample(\"latex\\\\plot.tex\");"
   ]
  },
  {
   "cell_type": "code",
   "execution_count": null,
   "metadata": {},
   "outputs": [],
   "source": [
    "foreach(var S in wmg.Sessions) {\n",
    "    //var EI = S.Export().WithSupersampling(1).Do();\n",
    "}"
   ]
  },
  {
   "cell_type": "code",
   "execution_count": null,
   "metadata": {},
   "outputs": [],
   "source": []
  }
 ],
 "metadata": {
  "kernelspec": {
   "display_name": ".NET (C#)",
   "language": "C#",
   "name": ".net-csharp"
  },
  "language_info": {
   "file_extension": ".cs",
   "mimetype": "text/x-csharp",
   "name": "C#",
   "pygments_lexer": "csharp",
   "version": "9.0"
  }
 },
 "nbformat": 4,
 "nbformat_minor": 2
}
