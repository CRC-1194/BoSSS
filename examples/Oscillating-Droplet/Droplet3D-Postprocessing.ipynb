{
 "cells": [
  {
   "cell_type": "markdown",
   "metadata": {
    "dotnet_interactive": {
     "language": "csharp"
    }
   },
   "source": [
    "# 3D Droplet Oscillation (Part 2, Postprocessing)\n",
    "\n",
    "Results published: hopefully at some point!\n",
    "\n",
    "This is part of the BoSSS-long-term validation test suite, which consists of several computationally expensive test-cases (runtime in the order of days), which are performed on a regular basis in order to validate the physical correctness of BoSSS simulations."
   ]
  },
  {
   "cell_type": "markdown",
   "metadata": {
    "dotnet_interactive": {
     "language": "csharp"
    }
   },
   "source": [
    "### Preliminaries\n",
    "\n",
    "This example can be found in the source code repository as as `Droplet3D-Postprocessing.ipynb`. \n",
    "One can directly load this into Jupyter to interactively work with the following code examples.\n",
    "\n",
    "Note: First, BoSSS has to be loaded into the Jupyter kernel. Note:\n",
    "In the following line, the reference to `BoSSSpad.dll` is required. \n",
    "One must either set `#r \"BoSSSpad.dll\"` to something which is appropirate for the current computer\n",
    "(e.g. `C:\\Program Files (x86)\\FDY\\BoSSS\\bin\\Release\\net5.0\\BoSSSpad.dll` if working with the binary distribution), \n",
    "or, if one is working with the source code, one must compile `BoSSSpad`\n",
    "and put it side-by-side to this worksheet file \n",
    "(from the original location in the repository, one can use the scripts `getbossspad.sh`, resp. `getbossspad.bat`).\n"
   ]
  },
  {
   "cell_type": "code",
   "execution_count": 1,
   "metadata": {
    "dotnet_interactive": {
     "language": "csharp"
    }
   },
   "outputs": [
    {
     "data": {
      "text/html": [
       "\r\n",
       "<div>\r\n",
       "    <div id='dotnet-interactive-this-cell-61248.Microsoft.DotNet.Interactive.Http.HttpPort' style='display: none'>\r\n",
       "        The below script needs to be able to find the current output cell; this is an easy method to get it.\r\n",
       "    </div>\r\n",
       "    <script type='text/javascript'>\r\n",
       "async function probeAddresses(probingAddresses) {\r\n",
       "    function timeout(ms, promise) {\r\n",
       "        return new Promise(function (resolve, reject) {\r\n",
       "            setTimeout(function () {\r\n",
       "                reject(new Error('timeout'))\r\n",
       "            }, ms)\r\n",
       "            promise.then(resolve, reject)\r\n",
       "        })\r\n",
       "    }\r\n",
       "\r\n",
       "    if (Array.isArray(probingAddresses)) {\r\n",
       "        for (let i = 0; i < probingAddresses.length; i++) {\r\n",
       "\r\n",
       "            let rootUrl = probingAddresses[i];\r\n",
       "\r\n",
       "            if (!rootUrl.endsWith('/')) {\r\n",
       "                rootUrl = `${rootUrl}/`;\r\n",
       "            }\r\n",
       "\r\n",
       "            try {\r\n",
       "                let response = await timeout(1000, fetch(`${rootUrl}discovery`, {\r\n",
       "                    method: 'POST',\r\n",
       "                    cache: 'no-cache',\r\n",
       "                    mode: 'cors',\r\n",
       "                    timeout: 1000,\r\n",
       "                    headers: {\r\n",
       "                        'Content-Type': 'text/plain'\r\n",
       "                    },\r\n",
       "                    body: probingAddresses[i]\r\n",
       "                }));\r\n",
       "\r\n",
       "                if (response.status == 200) {\r\n",
       "                    return rootUrl;\r\n",
       "                }\r\n",
       "            }\r\n",
       "            catch (e) { }\r\n",
       "        }\r\n",
       "    }\r\n",
       "}\r\n",
       "\r\n",
       "function loadDotnetInteractiveApi() {\r\n",
       "    probeAddresses([\"http://130.83.248.207:1001/\", \"http://127.0.0.1:1001/\"])\r\n",
       "        .then((root) => {\r\n",
       "        // use probing to find host url and api resources\r\n",
       "        // load interactive helpers and language services\r\n",
       "        let dotnetInteractiveRequire = require.config({\r\n",
       "        context: '61248.Microsoft.DotNet.Interactive.Http.HttpPort',\r\n",
       "                paths:\r\n",
       "            {\r\n",
       "                'dotnet-interactive': `${root}resources`\r\n",
       "                }\r\n",
       "        }) || require;\r\n",
       "\r\n",
       "            window.dotnetInteractiveRequire = dotnetInteractiveRequire;\r\n",
       "\r\n",
       "            window.configureRequireFromExtension = function(extensionName, extensionCacheBuster) {\r\n",
       "                let paths = {};\r\n",
       "                paths[extensionName] = `${root}extensions/${extensionName}/resources/`;\r\n",
       "                \r\n",
       "                let internalRequire = require.config({\r\n",
       "                    context: extensionCacheBuster,\r\n",
       "                    paths: paths,\r\n",
       "                    urlArgs: `cacheBuster=${extensionCacheBuster}`\r\n",
       "                    }) || require;\r\n",
       "\r\n",
       "                return internalRequire\r\n",
       "            };\r\n",
       "        \r\n",
       "            dotnetInteractiveRequire([\r\n",
       "                    'dotnet-interactive/dotnet-interactive'\r\n",
       "                ],\r\n",
       "                function (dotnet) {\r\n",
       "                    dotnet.init(window);\r\n",
       "                },\r\n",
       "                function (error) {\r\n",
       "                    console.log(error);\r\n",
       "                }\r\n",
       "            );\r\n",
       "        })\r\n",
       "        .catch(error => {console.log(error);});\r\n",
       "    }\r\n",
       "\r\n",
       "// ensure `require` is available globally\r\n",
       "if ((typeof(require) !==  typeof(Function)) || (typeof(require.config) !== typeof(Function))) {\r\n",
       "    let require_script = document.createElement('script');\r\n",
       "    require_script.setAttribute('src', 'https://cdnjs.cloudflare.com/ajax/libs/require.js/2.3.6/require.min.js');\r\n",
       "    require_script.setAttribute('type', 'text/javascript');\r\n",
       "    \r\n",
       "    \r\n",
       "    require_script.onload = function() {\r\n",
       "        loadDotnetInteractiveApi();\r\n",
       "    };\r\n",
       "\r\n",
       "    document.getElementsByTagName('head')[0].appendChild(require_script);\r\n",
       "}\r\n",
       "else {\r\n",
       "    loadDotnetInteractiveApi();\r\n",
       "}\r\n",
       "\r\n",
       "    </script>\r\n",
       "</div>"
      ]
     },
     "metadata": {},
     "output_type": "display_data"
    }
   ],
   "source": [
    "//#r \"../../src/L4-application/BoSSSpad/bin/Release/net5.0/BoSSSpad.dll\"\n",
    "//#r \"../../src/L4-application/BoSSSpad/bin/Debug/net5.0/BoSSSpad.dll\"\n",
    "#r \"BoSSSpad.dll\"\n",
    "using System;\n",
    "using System.Collections.Generic;\n",
    "using System.Linq;\n",
    "using ilPSP;\n",
    "using ilPSP.Utils;\n",
    "using BoSSS.Platform;\n",
    "using BoSSS.Foundation;\n",
    "using BoSSS.Foundation.XDG;\n",
    "using BoSSS.Foundation.Grid;\n",
    "using BoSSS.Foundation.Grid.Classic;\n",
    "using BoSSS.Foundation.IO;\n",
    "using BoSSS.Solution;\n",
    "using BoSSS.Solution.Control;\n",
    "using BoSSS.Solution.GridImport;\n",
    "using BoSSS.Solution.Statistic;\n",
    "using BoSSS.Solution.Utils;\n",
    "using BoSSS.Solution.AdvancedSolvers;\n",
    "using BoSSS.Solution.Gnuplot;\n",
    "using BoSSS.Application.BoSSSpad;\n",
    "using BoSSS.Application.XNSE_Solver;\n",
    "using static BoSSS.Application.BoSSSpad.BoSSSshell;\n",
    "Init();"
   ]
  },
  {
   "cell_type": "markdown",
   "metadata": {
    "dotnet_interactive": {
     "language": "csharp"
    }
   },
   "source": [
    "## Initialization tasks"
   ]
  },
  {
   "cell_type": "markdown",
   "metadata": {},
   "source": [
    "Loading the `XNSE_Solver` and additional namespace:"
   ]
  },
  {
   "cell_type": "code",
   "execution_count": 2,
   "metadata": {
    "dotnet_interactive": {
     "language": "csharp"
    }
   },
   "outputs": [],
   "source": [
    "using BoSSS.Application.XNSE_Solver;\n",
    "using BoSSS.Application.XNSE_Solver.PhysicalBasedTestcases;\n",
    "using BoSSS.Solution.NSECommon;\n",
    "using BoSSS.Solution.LevelSetTools.SolverWithLevelSetUpdater;\n",
    "using NUnit.Framework;\n",
    "using BoSSS.Application.XNSE_Solver.Logging;"
   ]
  },
  {
   "cell_type": "markdown",
   "metadata": {},
   "source": [
    "Initialization of the Workflow management; there `OscillatingDroplet3D` is the project name which is used name all computations (aka. sessions):"
   ]
  },
  {
   "cell_type": "code",
   "execution_count": 3,
   "metadata": {
    "dotnet_interactive": {
     "language": "csharp"
    }
   },
   "outputs": [
    {
     "name": "stdout",
     "output_type": "stream",
     "text": [
      "Project name is set to 'OscillatingDroplet3D'.\n",
      "Opening existing database '\\\\fdygitrunner\\ValidationTests\\OscillatingDroplet3D'.\n"
     ]
    }
   ],
   "source": [
    "BoSSSshell.WorkflowMgm.Init(\"OscillatingDroplet3D\");"
   ]
  },
  {
   "cell_type": "code",
   "execution_count": 4,
   "metadata": {
    "dotnet_interactive": {
     "language": "csharp"
    }
   },
   "outputs": [],
   "source": [
    "//add database manually:\n",
    "//OpenOrCreateDatabase(@\"\\\\fdygitrunner\\ValidationTests\\OscillatingDroplet3D\");"
   ]
  },
  {
   "cell_type": "code",
   "execution_count": 5,
   "metadata": {},
   "outputs": [
    {
     "data": {
      "text/plain": [
       "#0: OscillatingDroplet3D\tJ432k3_arm0_case2_Oh0.1*\t12/10/2021 11:43:26\te6311bec...\r\n",
       "#1: OscillatingDroplet3D\tJ432k3_arm0_case2_Oh0.1*\t12/10/2021 10:18:08\t02e64152...\r\n",
       "#2: OscillatingDroplet3D\tJ432k3_arm0_case2_Oh0.1*\t12/10/2021 08:35:28\ta494d808...\r\n",
       "#3: OscillatingDroplet3D\tJ432k3_arm0_case2_Oh0.1*\t12/10/2021 08:19:12\td696607a...\r\n",
       "#4: OscillatingDroplet3D\tJ432k3_arm0_case2_Oh0.1*\t12/10/2021 06:57:44\t09ff19b0...\r\n",
       "#5: OscillatingDroplet3D\tJ432k3_arm0_case2_Oh0.1*\t12/10/2021 06:54:17\tcf8b45c4...\r\n",
       "#6: OscillatingDroplet3D\tJ432k3_arm0_case2_Oh0.1*\t12/10/2021 06:50:27\t27b1b041...\r\n",
       "#7: OscillatingDroplet3D\tJ432k3_arm0_case2_Oh0.1*\t12/10/2021 06:45:20\t02b1efa6...\r\n",
       "#8: OscillatingDroplet3D\tJ432k3_arm0_case2_Oh0.1*\t12/10/2021 06:26:46\t721751d8...\r\n",
       "#9: OscillatingDroplet3D\tJ432k3_arm0_case2_Oh0.1*\t12/10/2021 06:15:04\ta5ef48c3...\r\n",
       "#10: OscillatingDroplet3D\tJ432k3_arm0_case2_Oh0.1*\t12/10/2021 05:39:29\ta08da869...\r\n",
       "#11: OscillatingDroplet3D\tJ432k3_arm0_case2_Oh0.1*\t12/09/2021 16:33:28\t6a3699ae...\r\n",
       "#12: OscillatingDroplet3D\tJ432k3_arm0_case5_Oh0.56*\t12/09/2021 14:39:22\tc4de3ca0...\r\n",
       "#13: OscillatingDroplet3D\tJ432k3_arm0_case4_Oh0.1*\t12/09/2021 14:36:51\tbf1a01e9...\r\n",
       "#14: OscillatingDroplet3D\tJ432k3_arm0_case3_Oh0.1*\t12/09/2021 14:35:28\t2abc0052...\r\n",
       "#15: OscillatingDroplet3D\tJ432k3_arm0_case2_Oh0.1*\t12/09/2021 14:35:02\t1eeea659...\r\n",
       "#16: OscillatingDroplet3D\tJ432k3_arm0_case1_Oh0.1*\t12/09/2021 14:34:26\t8aee0253...\r\n"
      ]
     },
     "execution_count": 5,
     "metadata": {},
     "output_type": "execute_result"
    }
   ],
   "source": [
    "wmg.Sessions"
   ]
  },
  {
   "cell_type": "code",
   "execution_count": 6,
   "metadata": {},
   "outputs": [],
   "source": [
    "using System.IO;"
   ]
  },
  {
   "cell_type": "code",
   "execution_count": 7,
   "metadata": {},
   "outputs": [],
   "source": [
    "/*\n",
    "// temporary fix for a bug in the output file \"SphericalHarmonics.txt\"\n",
    "// (missing separator/tab between fist ans second column)\n",
    "void FileSanitizer(string _TextFile) {\n",
    "Console.WriteLine(\"sanitizing: \" + _TextFile);\n",
    "var TextFile2 = Path.Combine(Path.GetDirectoryName(_TextFile), Path.GetFileNameWithoutExtension(_TextFile) + \"-Copy.txt\");\n",
    "File.Copy(_TextFile,TextFile2, true);\n",
    "var TextFile3 = Path.Combine(Path.GetDirectoryName(_TextFile), Path.GetFileNameWithoutExtension(_TextFile) + \"-Sanitized.txt\");\n",
    "using (StreamWriter wrt = new StreamWriter(TextFile3)) {\n",
    "using (StreamReader reader = new StreamReader(new FileStream(TextFile2, FileMode.Open, FileAccess.Read, FileShare.Read))) {\n",
    "  int cnt = 0;\n",
    "  for(string l = reader.ReadLine(); l != null; l = reader.ReadLine()) {\n",
    "     if(cnt >= 1) {\n",
    "       string[] parts = l.Split(\"\\t\");\n",
    "       //Console.WriteLine(parts[0] + \"    \" + parts.Length);\n",
    "       string P0 = parts[0];\n",
    "       int L = P0.Length;\n",
    "       \n",
    "       string pp1, pp2;\n",
    "       int exp = P0.IndexOf(\"E\", 0, 5);\n",
    "       //exp = -1;\n",
    "       if(exp >= 0) {\n",
    "          int ppl = P0[exp + 1] == '-' ? 4 : 3;\n",
    "          pp1 = P0.Substring(0,exp + ppl);\n",
    "          pp2 = P0.Substring(exp + ppl);\n",
    "          \n",
    "       } else {\n",
    "          int minus = P0.IndexOf(\"-\");\n",
    "          if(minus >= 0 && P0[minus - 1] == 'E')\n",
    "             minus = -1;\n",
    "          if(minus >= 0) {\n",
    "              pp1 = P0.Substring(0,minus);\n",
    "              pp2 = P0.Substring(minus);\n",
    "          } else {\n",
    "              int comma = P0.IndexOf('.', 2, L - 2);\n",
    "              pp1 = P0.Substring(0,comma - 1);\n",
    "              pp2 = P0.Substring(comma - 1);\n",
    "          }\n",
    "       }\n",
    "       try {\n",
    "          double.Parse(pp1);\n",
    "       } catch(Exception) {\n",
    "          Console.Error.WriteLine(\"line \" + (cnt + 1) + \" cannot parse 1: \" + pp1 + \"  from \" + P0);\n",
    "       }\n",
    "       try {\n",
    "            double.Parse(pp2);\n",
    "       } catch(Exception) {\n",
    "          Console.Error.WriteLine(\"line \" + (cnt + 1) + \" cannot parse 2: \" + pp2 + \"  from \" + P0);\n",
    "       }\n",
    "       wrt.Write(pp1 + \"\\t\" + pp2);\n",
    "\n",
    "       \n",
    "       for(int i = 1; i < parts.Length; i++) {\n",
    "            wrt.Write(\"\\t\");\n",
    "            wrt.Write(parts[i]);\n",
    "       }\n",
    "       wrt.WriteLine();\n",
    "       \n",
    "     } else {\n",
    "       wrt.WriteLine(l);\n",
    "     }\n",
    "     cnt++;\n",
    "  }\n",
    "}\n",
    "}\n",
    "\n",
    "}\n",
    "*/"
   ]
  },
  {
   "cell_type": "code",
   "execution_count": 9,
   "metadata": {},
   "outputs": [],
   "source": [
    "/*\n",
    "foreach(var s in wmg.Sessions) {\n",
    "    string dir = DatabaseDriver.GetSessionDirectory(s);\n",
    "    string file = Path.Combine(dir, \"SphericalHarmonics.txt\");\n",
    "    FileSanitizer(file);\n",
    "}\n",
    "*/"
   ]
  },
  {
   "cell_type": "code",
   "execution_count": 10,
   "metadata": {},
   "outputs": [],
   "source": [
    "/*var plot = new Plot2Ddata();\n",
    "var allColors = Enum.GetValues(typeof(LineColors)).Cast<LineColors>().ToArray();\n",
    "var time = tab[\"time\"];\n",
    "int cnt = -1;\n",
    "foreach(var column in tab) {\n",
    "   cnt++;\n",
    "   var fmt = new PlotFormat();\n",
    "   fmt.Style = Styles.Lines; \n",
    "   fmt.LineColor = allColors[cnt%allColors.Length];\n",
    "   if(column.Key == \"time\")\n",
    "      continue;\n",
    "   plot.AddDataGroup(column.Key, time, column.Value, fmt);\n",
    "   \n",
    "   plot.Title = S1.Name;\n",
    "}*/"
   ]
  },
  {
   "cell_type": "code",
   "execution_count": 11,
   "metadata": {},
   "outputs": [],
   "source": [
    "//plot.PlotNow()"
   ]
  },
  {
   "cell_type": "code",
   "execution_count": 12,
   "metadata": {},
   "outputs": [
    {
     "data": {
      "text/plain": [
       "#0: OscillatingDroplet3D\tJ432k3_arm0_case2_Oh0.1*\t12/10/2021 11:43:26\te6311bec...\r\n",
       "#1: OscillatingDroplet3D\tJ432k3_arm0_case2_Oh0.1*\t12/10/2021 10:18:08\t02e64152...\r\n",
       "#2: OscillatingDroplet3D\tJ432k3_arm0_case2_Oh0.1*\t12/10/2021 08:35:28\ta494d808...\r\n",
       "#3: OscillatingDroplet3D\tJ432k3_arm0_case2_Oh0.1*\t12/10/2021 08:19:12\td696607a...\r\n",
       "#4: OscillatingDroplet3D\tJ432k3_arm0_case2_Oh0.1*\t12/10/2021 06:57:44\t09ff19b0...\r\n",
       "#5: OscillatingDroplet3D\tJ432k3_arm0_case2_Oh0.1*\t12/10/2021 06:54:17\tcf8b45c4...\r\n",
       "#6: OscillatingDroplet3D\tJ432k3_arm0_case2_Oh0.1*\t12/10/2021 06:50:27\t27b1b041...\r\n",
       "#7: OscillatingDroplet3D\tJ432k3_arm0_case2_Oh0.1*\t12/10/2021 06:45:20\t02b1efa6...\r\n",
       "#8: OscillatingDroplet3D\tJ432k3_arm0_case2_Oh0.1*\t12/10/2021 06:26:46\t721751d8...\r\n",
       "#9: OscillatingDroplet3D\tJ432k3_arm0_case2_Oh0.1*\t12/10/2021 06:15:04\ta5ef48c3...\r\n",
       "#10: OscillatingDroplet3D\tJ432k3_arm0_case2_Oh0.1*\t12/10/2021 05:39:29\ta08da869...\r\n",
       "#11: OscillatingDroplet3D\tJ432k3_arm0_case2_Oh0.1*\t12/09/2021 16:33:28\t6a3699ae...\r\n",
       "#12: OscillatingDroplet3D\tJ432k3_arm0_case5_Oh0.56*\t12/09/2021 14:39:22\tc4de3ca0...\r\n",
       "#13: OscillatingDroplet3D\tJ432k3_arm0_case4_Oh0.1*\t12/09/2021 14:36:51\tbf1a01e9...\r\n",
       "#14: OscillatingDroplet3D\tJ432k3_arm0_case3_Oh0.1*\t12/09/2021 14:35:28\t2abc0052...\r\n",
       "#15: OscillatingDroplet3D\tJ432k3_arm0_case2_Oh0.1*\t12/09/2021 14:35:02\t1eeea659...\r\n",
       "#16: OscillatingDroplet3D\tJ432k3_arm0_case1_Oh0.1*\t12/09/2021 14:34:26\t8aee0253...\r\n"
      ]
     },
     "execution_count": 12,
     "metadata": {},
     "output_type": "execute_result"
    }
   ],
   "source": [
    "wmg.Sessions"
   ]
  },
  {
   "cell_type": "code",
   "execution_count": 17,
   "metadata": {},
   "outputs": [],
   "source": [
    "//wmg.Sessions.Where(si => si.Name.Contains(\"case2\")).ForEach(si => si.Delete(true));"
   ]
  },
  {
   "cell_type": "code",
   "execution_count": 27,
   "metadata": {},
   "outputs": [
    {
     "name": "stdout",
     "output_type": "stream",
     "text": [
      "Starting export process... Data will be written to the directory: C:\\Users\\jenkinsci\\AppData\\Local\\BoSSS\\plots\\sessions\\OscillatingDroplet3D__J432k3_arm0_case3_Oh0.1__2abc0052-d91e-4564-b7e8-87c343eef063\n"
     ]
    },
    {
     "data": {
      "text/plain": [
       "C:\\Users\\jenkinsci\\AppData\\Local\\BoSSS\\plots\\sessions\\OscillatingDroplet3D__J432k3_arm0_case3_Oh0.1__2abc0052-d91e-4564-b7e8-87c343eef063"
      ]
     },
     "execution_count": 27,
     "metadata": {},
     "output_type": "execute_result"
    }
   ],
   "source": [
    "//wmg.Sessions.Single(si => si.Name.Contains(\"case3\")).Export().WithSupersampling(2).Do()"
   ]
  },
  {
   "cell_type": "code",
   "execution_count": 30,
   "metadata": {},
   "outputs": [],
   "source": [
    "//File.WriteAllText(\"case3-restart.obj\", wmg.Sessions.Single(si => si.Name.Contains(\"case3\")).CreateRestartControl().Serialize());"
   ]
  },
  {
   "cell_type": "code",
   "execution_count": 26,
   "metadata": {},
   "outputs": [
    {
     "name": "stdout",
     "output_type": "stream",
     "text": [
      "J432k3_arm0_case2_Oh0.1\n",
      "\\\\fdygitrunner\\ValidationTests\\OscillatingDroplet3D-XNSE_Solver2021Dec09_143415\n",
      "J432k3_arm0_case2_Oh0.1\n",
      "\\\\fdygitrunner\\ValidationTests\\OscillatingDroplet3D-XNSE_Solver2021Dec09_143415\n",
      "J432k3_arm0_case5_Oh0.56\n",
      "\\\\fdygitrunner\\ValidationTests\\OscillatingDroplet3D-XNSE_Solver2021Dec09_143549\n",
      "J432k3_arm0_case4_Oh0.1\n",
      "\\\\fdygitrunner\\ValidationTests\\OscillatingDroplet3D-XNSE_Solver2021Dec09_143524\n",
      "J432k3_arm0_case3_Oh0.1\n",
      "\\\\fdygitrunner\\ValidationTests\\OscillatingDroplet3D-XNSE_Solver2021Dec09_143444\n",
      "J432k3_arm0_case2_Oh0.1\n",
      "\\\\fdygitrunner\\ValidationTests\\OscillatingDroplet3D-XNSE_Solver2021Dec09_143415\n",
      "J432k3_arm0_case1_Oh0.1\n",
      "\\\\fdygitrunner\\ValidationTests\\OscillatingDroplet3D-XNSE_Solver2021Dec09_143358\n"
     ]
    }
   ],
   "source": [
    "foreach(var s in wmg.Sessions) {\n",
    "    Console.WriteLine(s.Name);\n",
    "    Console.WriteLine(s.DeployPath);\n",
    "}"
   ]
  },
  {
   "cell_type": "code",
   "execution_count": null,
   "metadata": {},
   "outputs": [],
   "source": [
    "string[] modes = new string[]{ \"mode2\", \"mode3\", \"mode4\"};\n",
    "string[] aPis = new string[] { \"aP0\", \"aP1\", \"aP2\" };\n",
    "string[] amrS = new string[] { \"arm0\", \"arm1\" };"
   ]
  },
  {
   "cell_type": "code",
   "execution_count": null,
   "metadata": {},
   "outputs": [],
   "source": [
    "Plot2Ddata[,] PlotTable = new Plot2Ddata[3,3];\n",
    "for(int iCol = 0; iCol < 3; iCol++) {\n",
    "for(int iRow = 0; iRow < 3; iRow++) {\n",
    "for(int iarm = 0; iarm < 2; iarm++) {\n",
    "    string _mode = modes[iRow];\n",
    "    string _aP = aPis[iCol];\n",
    "    string _amr = amrS[iarm];\n",
    "\n",
    "    ISessionInfo SI = wmg.Sessions.Single(sess => sess.Name.Contains(_mode) \n",
    "                                               && sess.Name.Contains(_aP) \n",
    "                                               && sess.Name.Contains(_amr));\n",
    "    Console.WriteLine(SI.Name);\n",
    "\n",
    "    var tab = SI.ReadTabulatedTextFileAsDoubles(\"SphericalHarmonics-Sanitized.txt\", '\\t');\n",
    "    \n",
    "    var plot = new Plot2Ddata();\n",
    "    var allColors = Enum.GetValues(typeof(LineColors)).Cast<LineColors>().ToArray();\n",
    "    var time = tab[\"time\"];\n",
    "    int cnt = -1;\n",
    "    foreach(var column in tab) {\n",
    "       cnt++;\n",
    "       var fmt = new PlotFormat();\n",
    "       fmt.Style = Styles.Lines; \n",
    "       fmt.LineColor = allColors[cnt%allColors.Length];\n",
    "       if(column.Key == \"time\")\n",
    "          continue;\n",
    "       if(iarm > 0)\n",
    "          fmt.DashType = DashTypes.Solid;\n",
    "       else \n",
    "          fmt.DashType = DashTypes.Dashed;\n",
    "       string name = column.Key;\n",
    "       if(iarm > 0)\n",
    "           name = name + \"-amr\";\n",
    "       plot.AddDataGroup(name, time, column.Value, fmt);\n",
    "   }\n",
    "   \n",
    "   plot.ShowLegend = iCol == 2 && iRow == 2;\n",
    "   \n",
    "   plot.Title = SI.Name;\n",
    "   \n",
    "   if(iarm == 0) {\n",
    "       PlotTable[iRow,iCol] = plot;\n",
    "   } else {\n",
    "       PlotTable[iRow,iCol] = PlotTable[iRow,iCol].Merge(plot);\n",
    "   }\n",
    "}\n",
    "PlotTable[iRow,iCol].ShowLegend = iCol == 2 && iRow == 2;\n",
    "if(iRow == 0)\n",
    "   PlotTable[iRow,iCol].Title = aPis[iCol];\n",
    "if(iCol == 0)\n",
    "   PlotTable[iRow,iCol].Ylabel = modes[iRow];\n",
    "}\n",
    "}\n"
   ]
  },
  {
   "cell_type": "code",
   "execution_count": null,
   "metadata": {},
   "outputs": [],
   "source": [
    "var gp = PlotTable.ToGnuplot();\n",
    "gp.PlotSVG(xRes:1800,yRes:1500)"
   ]
  },
  {
   "cell_type": "code",
   "execution_count": null,
   "metadata": {},
   "outputs": [],
   "source": [
    "var cl = gp.PlotCairolatex(xSize:32,ySize:18);\n",
    "cl.WriteMinimalCompileableExample(\"latex\\\\plot.tex\");"
   ]
  },
  {
   "cell_type": "code",
   "execution_count": null,
   "metadata": {},
   "outputs": [],
   "source": [
    "foreach(var S in wmg.Sessions) {\n",
    "    //var EI = S.Export().WithSupersampling(1).Do();\n",
    "}"
   ]
  },
  {
   "cell_type": "code",
   "execution_count": null,
   "metadata": {},
   "outputs": [],
   "source": []
  }
 ],
 "metadata": {
  "kernelspec": {
   "display_name": ".NET (C#)",
   "language": "C#",
   "name": ".net-csharp"
  },
  "language_info": {
   "file_extension": ".cs",
   "mimetype": "text/x-csharp",
   "name": "C#",
   "pygments_lexer": "csharp",
   "version": "9.0"
  }
 },
 "nbformat": 4,
 "nbformat_minor": 2
}
