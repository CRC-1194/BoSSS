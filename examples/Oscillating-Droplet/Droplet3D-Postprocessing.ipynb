{
 "cells": [
  {
   "cell_type": "markdown",
   "metadata": {
    "dotnet_interactive": {
     "language": "csharp"
    }
   },
   "source": [
    "# 3D Droplet Oscillation (Part 2, Postprocessing)\n",
    "\n",
    "Results published: hopefully at some point!\n"
   ]
  },
  {
   "cell_type": "markdown",
   "metadata": {
    "dotnet_interactive": {
     "language": "csharp"
    }
   },
   "source": [
    "### Preliminaries\n",
    "\n",
    "This example can be found in the source code repository as as `Droplet3D-Postprocessing.ipynb`. \n",
    "One can directly load this into Jupyter to interactively work with the following code examples.\n",
    "\n",
    "Note: First, BoSSS has to be loaded into the Jupyter kernel. Note:\n",
    "In the following line, the reference to `BoSSSpad.dll` is required. \n",
    "One must either set `#r \"BoSSSpad.dll\"` to something which is appropirate for the current computer\n",
    "(e.g. `C:\\Program Files (x86)\\FDY\\BoSSS\\bin\\Release\\net5.0\\BoSSSpad.dll` if working with the binary distribution), \n",
    "or, if one is working with the source code, one must compile `BoSSSpad`\n",
    "and put it side-by-side to this worksheet file \n",
    "(from the original location in the repository, one can use the scripts `getbossspad.sh`, resp. `getbossspad.bat`).\n"
   ]
  },
  {
   "cell_type": "code",
   "execution_count": 1,
   "metadata": {
    "dotnet_interactive": {
     "language": "csharp"
    }
   },
   "outputs": [
    {
     "data": {
      "text/html": [
       "\r\n",
       "<div>\r\n",
       "    <div id='dotnet-interactive-this-cell-68540.Microsoft.DotNet.Interactive.Http.HttpPort' style='display: none'>\r\n",
       "        The below script needs to be able to find the current output cell; this is an easy method to get it.\r\n",
       "    </div>\r\n",
       "    <script type='text/javascript'>\r\n",
       "async function probeAddresses(probingAddresses) {\r\n",
       "    function timeout(ms, promise) {\r\n",
       "        return new Promise(function (resolve, reject) {\r\n",
       "            setTimeout(function () {\r\n",
       "                reject(new Error('timeout'))\r\n",
       "            }, ms)\r\n",
       "            promise.then(resolve, reject)\r\n",
       "        })\r\n",
       "    }\r\n",
       "\r\n",
       "    if (Array.isArray(probingAddresses)) {\r\n",
       "        for (let i = 0; i < probingAddresses.length; i++) {\r\n",
       "\r\n",
       "            let rootUrl = probingAddresses[i];\r\n",
       "\r\n",
       "            if (!rootUrl.endsWith('/')) {\r\n",
       "                rootUrl = `${rootUrl}/`;\r\n",
       "            }\r\n",
       "\r\n",
       "            try {\r\n",
       "                let response = await timeout(1000, fetch(`${rootUrl}discovery`, {\r\n",
       "                    method: 'POST',\r\n",
       "                    cache: 'no-cache',\r\n",
       "                    mode: 'cors',\r\n",
       "                    timeout: 1000,\r\n",
       "                    headers: {\r\n",
       "                        'Content-Type': 'text/plain'\r\n",
       "                    },\r\n",
       "                    body: probingAddresses[i]\r\n",
       "                }));\r\n",
       "\r\n",
       "                if (response.status == 200) {\r\n",
       "                    return rootUrl;\r\n",
       "                }\r\n",
       "            }\r\n",
       "            catch (e) { }\r\n",
       "        }\r\n",
       "    }\r\n",
       "}\r\n",
       "\r\n",
       "function loadDotnetInteractiveApi() {\r\n",
       "    probeAddresses([\"http://130.83.248.243:1003/\", \"http://127.0.0.1:1003/\"])\r\n",
       "        .then((root) => {\r\n",
       "        // use probing to find host url and api resources\r\n",
       "        // load interactive helpers and language services\r\n",
       "        let dotnetInteractiveRequire = require.config({\r\n",
       "        context: '68540.Microsoft.DotNet.Interactive.Http.HttpPort',\r\n",
       "                paths:\r\n",
       "            {\r\n",
       "                'dotnet-interactive': `${root}resources`\r\n",
       "                }\r\n",
       "        }) || require;\r\n",
       "\r\n",
       "            window.dotnetInteractiveRequire = dotnetInteractiveRequire;\r\n",
       "\r\n",
       "            window.configureRequireFromExtension = function(extensionName, extensionCacheBuster) {\r\n",
       "                let paths = {};\r\n",
       "                paths[extensionName] = `${root}extensions/${extensionName}/resources/`;\r\n",
       "                \r\n",
       "                let internalRequire = require.config({\r\n",
       "                    context: extensionCacheBuster,\r\n",
       "                    paths: paths,\r\n",
       "                    urlArgs: `cacheBuster=${extensionCacheBuster}`\r\n",
       "                    }) || require;\r\n",
       "\r\n",
       "                return internalRequire\r\n",
       "            };\r\n",
       "        \r\n",
       "            dotnetInteractiveRequire([\r\n",
       "                    'dotnet-interactive/dotnet-interactive'\r\n",
       "                ],\r\n",
       "                function (dotnet) {\r\n",
       "                    dotnet.init(window);\r\n",
       "                },\r\n",
       "                function (error) {\r\n",
       "                    console.log(error);\r\n",
       "                }\r\n",
       "            );\r\n",
       "        })\r\n",
       "        .catch(error => {console.log(error);});\r\n",
       "    }\r\n",
       "\r\n",
       "// ensure `require` is available globally\r\n",
       "if ((typeof(require) !==  typeof(Function)) || (typeof(require.config) !== typeof(Function))) {\r\n",
       "    let require_script = document.createElement('script');\r\n",
       "    require_script.setAttribute('src', 'https://cdnjs.cloudflare.com/ajax/libs/require.js/2.3.6/require.min.js');\r\n",
       "    require_script.setAttribute('type', 'text/javascript');\r\n",
       "    \r\n",
       "    \r\n",
       "    require_script.onload = function() {\r\n",
       "        loadDotnetInteractiveApi();\r\n",
       "    };\r\n",
       "\r\n",
       "    document.getElementsByTagName('head')[0].appendChild(require_script);\r\n",
       "}\r\n",
       "else {\r\n",
       "    loadDotnetInteractiveApi();\r\n",
       "}\r\n",
       "\r\n",
       "    </script>\r\n",
       "</div>"
      ]
     },
     "metadata": {},
     "output_type": "display_data"
    }
   ],
   "source": [
    "//#r \"../../src/L4-application/BoSSSpad/bin/Release/net5.0/BoSSSpad.dll\"\n",
    "//#r \"../../src/L4-application/BoSSSpad/bin/Debug/net5.0/BoSSSpad.dll\"\n",
    "#r \"BoSSSpad.dll\"\n",
    "using System;\n",
    "using System.Collections.Generic;\n",
    "using System.Linq;\n",
    "using ilPSP;\n",
    "using ilPSP.Utils;\n",
    "using BoSSS.Platform;\n",
    "using BoSSS.Foundation;\n",
    "using BoSSS.Foundation.XDG;\n",
    "using BoSSS.Foundation.Grid;\n",
    "using BoSSS.Foundation.Grid.Classic;\n",
    "using BoSSS.Foundation.IO;\n",
    "using BoSSS.Solution;\n",
    "using BoSSS.Solution.Control;\n",
    "using BoSSS.Solution.GridImport;\n",
    "using BoSSS.Solution.Statistic;\n",
    "using BoSSS.Solution.Utils;\n",
    "using BoSSS.Solution.AdvancedSolvers;\n",
    "using BoSSS.Solution.Gnuplot;\n",
    "using BoSSS.Application.BoSSSpad;\n",
    "using BoSSS.Application.XNSE_Solver;\n",
    "using static BoSSS.Application.BoSSSpad.BoSSSshell;\n",
    "Init();"
   ]
  },
  {
   "cell_type": "markdown",
   "metadata": {
    "dotnet_interactive": {
     "language": "csharp"
    }
   },
   "source": [
    "## Initialization tasks"
   ]
  },
  {
   "cell_type": "markdown",
   "metadata": {},
   "source": [
    "Loading the `XNSE_Solver` and additional namespace:"
   ]
  },
  {
   "cell_type": "code",
   "execution_count": 2,
   "metadata": {
    "dotnet_interactive": {
     "language": "csharp"
    }
   },
   "outputs": [],
   "source": [
    "using BoSSS.Application.XNSE_Solver;\n",
    "using BoSSS.Application.XNSE_Solver.PhysicalBasedTestcases;\n",
    "using BoSSS.Solution.NSECommon;\n",
    "using BoSSS.Solution.LevelSetTools.SolverWithLevelSetUpdater;\n",
    "using NUnit.Framework;\n",
    "using BoSSS.Application.XNSE_Solver.Logging;"
   ]
  },
  {
   "cell_type": "markdown",
   "metadata": {},
   "source": [
    "Initialization of the Workflow management; there `OscillatingDroplet3D` is the project name which is used name all computations (aka. sessions):"
   ]
  },
  {
   "cell_type": "code",
   "execution_count": 3,
   "metadata": {
    "dotnet_interactive": {
     "language": "csharp"
    }
   },
   "outputs": [
    {
     "name": "stdout",
     "output_type": "stream",
     "text": [
      "Project name is set to 'OscillatingDroplet3D'.\n",
      "Opening existing database '\\\\dc1\\userspace\\kummer\\bosssdbs-minibatch\\OscillatingDroplet3D'.\n"
     ]
    }
   ],
   "source": [
    "BoSSSshell.WorkflowMgm.Init(\"OscillatingDroplet3D\");"
   ]
  },
  {
   "cell_type": "markdown",
   "metadata": {},
   "source": []
  },
  {
   "cell_type": "code",
   "execution_count": 4,
   "metadata": {
    "dotnet_interactive": {
     "language": "csharp"
    }
   },
   "outputs": [
    {
     "name": "stdout",
     "output_type": "stream",
     "text": [
      "Opening existing database '\\\\fdygitrunner\\ValidationTests\\OscillatingDroplet3D'.\r\n"
     ]
    }
   ],
   "source": [
    "OpenOrCreateDatabase(@\"\\\\fdygitrunner\\ValidationTests\\OscillatingDroplet3D\");"
   ]
  },
  {
   "cell_type": "code",
   "execution_count": 5,
   "metadata": {},
   "outputs": [
    {
     "data": {
      "text/plain": [
       "#0: OscillatingDroplet3D\tJ432k3_arm1_mode4_aP2*\t11/01/2021 20:00:02\tc025e47c...\r\n",
       "#1: OscillatingDroplet3D\tJ432k3_arm1_mode2_aP1*\t11/01/2021 19:36:06\tc5c88e22...\r\n",
       "#2: OscillatingDroplet3D\tJ432k3_arm1_mode2_aP0*\t11/01/2021 19:36:06\tece5c538...\r\n",
       "#3: OscillatingDroplet3D\tJ432k3_arm1_mode2_aP2*\t11/01/2021 19:36:06\tc2c08313...\r\n",
       "#4: OscillatingDroplet3D\tJ432k3_arm1_mode4_aP0*\t11/01/2021 19:36:07\tbc918d99...\r\n",
       "#5: OscillatingDroplet3D\tJ432k3_arm1_mode4_aP1*\t11/01/2021 19:36:06\t4e3d2799...\r\n",
       "#6: OscillatingDroplet3D\tJ432k3_arm1_mode3_aP2*\t11/01/2021 19:36:06\t925309b2...\r\n",
       "#7: OscillatingDroplet3D\tJ432k3_arm1_mode3_aP1*\t11/01/2021 19:36:06\te78dc9ef...\r\n",
       "#8: OscillatingDroplet3D\tJ432k3_arm1_mode3_aP0*\t11/01/2021 19:36:06\t370651e3...\r\n",
       "#9: OscillatingDroplet3D\tJ432k3_arm0_mode4_aP2*\t11/01/2021 19:30:57\t209fe1bd...\r\n",
       "#10: OscillatingDroplet3D\tJ432k3_arm0_mode4_aP1*\t11/01/2021 19:24:22\t6f496029...\r\n",
       "#11: OscillatingDroplet3D\tJ432k3_arm0_mode4_aP0*\t11/01/2021 19:24:04\t8525c74a...\r\n",
       "#12: OscillatingDroplet3D\tJ432k3_arm0_mode3_aP2*\t11/01/2021 19:23:52\t19a1a91b...\r\n",
       "#13: OscillatingDroplet3D\tJ432k3_arm0_mode3_aP1*\t11/01/2021 19:23:39\t1afb5a71...\r\n",
       "#14: OscillatingDroplet3D\tJ432k3_arm0_mode3_aP0*\t11/01/2021 19:23:28\t0af7e1c8...\r\n",
       "#15: OscillatingDroplet3D\tJ432k3_arm0_mode2_aP2*\t11/01/2021 19:23:15\t4be80e5b...\r\n",
       "#16: OscillatingDroplet3D\tJ432k3_arm0_mode2_aP1*\t11/01/2021 19:23:06\t90ef0727...\r\n",
       "#17: OscillatingDroplet3D\tJ432k3_arm0_mode2_aP0*\t11/01/2021 11:33:49\tdb57218b...\r\n"
      ]
     },
     "execution_count": 5,
     "metadata": {},
     "output_type": "execute_result"
    }
   ],
   "source": [
    "wmg.Sessions"
   ]
  },
  {
   "cell_type": "code",
   "execution_count": 6,
   "metadata": {},
   "outputs": [],
   "source": [
    "var S1 = wmg.Sessions[0];"
   ]
  },
  {
   "cell_type": "code",
   "execution_count": 7,
   "metadata": {},
   "outputs": [
    {
     "data": {
      "text/html": [
       "<table><thead><tr><th><i>index</i></th><th>value</th></tr></thead><tbody><tr><td>0</td><td><div class=\"dni-plaintext\">NotTerminated</div></td></tr></tbody></table>"
      ]
     },
     "execution_count": 7,
     "metadata": {},
     "output_type": "execute_result"
    }
   ],
   "source": [
    "S1.Tags "
   ]
  },
  {
   "cell_type": "code",
   "execution_count": 8,
   "metadata": {},
   "outputs": [],
   "source": [
    "//foreach(var kv in S1.KeysAndQueries)\n",
    "//   Console.WriteLine($\"{kv.Key} \\t\\t= {kv.Value}\");"
   ]
  },
  {
   "cell_type": "code",
   "execution_count": null,
   "metadata": {},
   "outputs": [],
   "source": []
  },
  {
   "cell_type": "code",
   "execution_count": null,
   "metadata": {},
   "outputs": [],
   "source": []
  },
  {
   "cell_type": "code",
   "execution_count": null,
   "metadata": {},
   "outputs": [],
   "source": []
  },
  {
   "cell_type": "code",
   "execution_count": null,
   "metadata": {},
   "outputs": [],
   "source": []
  },
  {
   "cell_type": "code",
   "execution_count": 9,
   "metadata": {},
   "outputs": [],
   "source": [
    "using System.IO;"
   ]
  },
  {
   "cell_type": "code",
   "execution_count": 10,
   "metadata": {},
   "outputs": [],
   "source": [
    "// temporary fix for a bug in the output file \"SphericalHarmonics.txt\"\n",
    "// (missing separator/tab between fist ans second column)\n",
    "void FileSanitizer(string TextFile) {\n",
    "\n",
    "var TextFile2 = Path.Combine(Path.GetDirectoryName(TextFile), Path.GetFileNameWithoutExtension(TextFile) + \"-Copy.txt\");\n",
    "File.Copy(TextFile,TextFile2, true);\n",
    "var TextFile3 = Path.Combine(Path.GetDirectoryName(TextFile), Path.GetFileNameWithoutExtension(TextFile) + \"-Sanitized.txt\");\n",
    "using (StreamWriter wrt = new StreamWriter(TextFile3)) {\n",
    "using (StreamReader reader = new StreamReader(new FileStream(TextFile2, FileMode.Open, FileAccess.Read, FileShare.Read))) {\n",
    "  int cnt = 0;\n",
    "  for(string l = reader.ReadLine(); l != null; l = reader.ReadLine()) {\n",
    "     if(cnt >= 1) {\n",
    "       string[] parts = l.Split(\"\\t\");\n",
    "       //Console.WriteLine(parts[0] + \"    \" + parts.Length);\n",
    "       string P0 = parts[0];\n",
    "       int L = P0.Length;\n",
    "       \n",
    "       string pp1, pp2;\n",
    "       int exp = P0.IndexOf(\"E\", 0, 5);\n",
    "       //exp = -1;\n",
    "       if(exp >= 0) {\n",
    "          int ppl = P0[exp + 1] == '-' ? 4 : 3;\n",
    "          pp1 = P0.Substring(0,exp + ppl);\n",
    "          pp2 = P0.Substring(exp + ppl);\n",
    "          \n",
    "          \n",
    "          \n",
    "       } else {\n",
    "          int minus = P0.IndexOf(\"-\");\n",
    "          \n",
    "          if(minus >= 0) {\n",
    "              pp1 = P0.Substring(0,minus);\n",
    "              pp2 = P0.Substring(minus);\n",
    "          } else {\n",
    "              int comma = P0.IndexOf('.', 2, L - 2);\n",
    "              pp1 = P0.Substring(0,comma - 1);\n",
    "              pp2 = P0.Substring(comma - 1);\n",
    "          }\n",
    "       }\n",
    "       try {\n",
    "          double.Parse(pp1);\n",
    "       } catch(Exception) {\n",
    "          Console.Error.WriteLine(\"cannot parse 1: \" + pp1 + \"  from \" + P0);\n",
    "       }\n",
    "       try {\n",
    "            double.Parse(pp2);\n",
    "       } catch(Exception) {\n",
    "          Console.Error.WriteLine(\"cannot parse 2: \" + pp2 + \"  from \" + P0);\n",
    "       }\n",
    "       wrt.Write(pp1 + \"\\t\" + pp2);\n",
    "\n",
    "       \n",
    "       for(int i = 1; i < parts.Length; i++) {\n",
    "            wrt.Write(\"\\t\");\n",
    "            wrt.Write(parts[i]);\n",
    "       }\n",
    "       wrt.WriteLine();\n",
    "       \n",
    "     } else {\n",
    "       wrt.WriteLine(l);\n",
    "     }\n",
    "     cnt++;\n",
    "  }\n",
    "}\n",
    "}\n",
    "\n",
    "}"
   ]
  },
  {
   "cell_type": "code",
   "execution_count": 11,
   "metadata": {},
   "outputs": [],
   "source": [
    "foreach(var s in wmg.Sessions) {\n",
    "    string dir = DatabaseDriver.GetSessionDirectory(S1);\n",
    "    string file = Path.Combine(dir, \"SphericalHarmonics.txt\");\n",
    "    //FileSanitizer(file);\n",
    "}"
   ]
  },
  {
   "cell_type": "code",
   "execution_count": 12,
   "metadata": {},
   "outputs": [
    {
     "name": "stdout",
     "output_type": "stream",
     "text": [
      "\\\\fdygitrunner\\ValidationTests\\OscillatingDroplet3D\\sessions\\c025e47c-8fcc-4964-a39c-65692d984d55\r\n"
     ]
    }
   ],
   "source": [
    "S1.PrintSessionDirectory();"
   ]
  },
  {
   "cell_type": "code",
   "execution_count": 13,
   "metadata": {},
   "outputs": [],
   "source": [
    "var tab = S1.ReadTabulatedTextFileAsDoubles(\"SphericalHarmonics-Sanitized.txt\", '\\t');"
   ]
  },
  {
   "cell_type": "code",
   "execution_count": 14,
   "metadata": {},
   "outputs": [
    {
     "data": {
      "text/html": [
       "<i>(empty)</i>"
      ]
     },
     "execution_count": 14,
     "metadata": {},
     "output_type": "execute_result"
    }
   ],
   "source": [
    "tab"
   ]
  },
  {
   "cell_type": "code",
   "execution_count": null,
   "metadata": {},
   "outputs": [],
   "source": []
  },
  {
   "cell_type": "code",
   "execution_count": null,
   "metadata": {},
   "outputs": [],
   "source": []
  },
  {
   "cell_type": "code",
   "execution_count": 15,
   "metadata": {},
   "outputs": [
    {
     "ename": "Unhandled exception",
     "evalue": "System.Collections.Generic.KeyNotFoundException: The given key 'time' was not present in the dictionary.\r\n   at System.Collections.Generic.Dictionary`2.get_Item(TKey key)\r\n   at Submission#17.<<Initialize>>d__0.MoveNext()\r\n--- End of stack trace from previous location ---\r\n   at Microsoft.CodeAnalysis.Scripting.ScriptExecutionState.RunSubmissionsAsync[TResult](ImmutableArray`1 precedingExecutors, Func`2 currentExecutor, StrongBox`1 exceptionHolderOpt, Func`2 catchExceptionOpt, CancellationToken cancellationToken)",
     "output_type": "error",
     "traceback": [
      "System.Collections.Generic.KeyNotFoundException: The given key 'time' was not present in the dictionary.\r\n   at System.Collections.Generic.Dictionary`2.get_Item(TKey key)\r\n   at Submission#17.<<Initialize>>d__0.MoveNext()\r\n--- End of stack trace from previous location ---\r\n   at Microsoft.CodeAnalysis.Scripting.ScriptExecutionState.RunSubmissionsAsync[TResult](ImmutableArray`1 precedingExecutors, Func`2 currentExecutor, StrongBox`1 exceptionHolderOpt, Func`2 catchExceptionOpt, CancellationToken cancellationToken)",
      "   at System.Collections.Generic.Dictionary`2.get_Item(TKey key)",
      "   at Submission#17.<<Initialize>>d__0.MoveNext()",
      "--- End of stack trace from previous location ---",
      "   at Microsoft.CodeAnalysis.Scripting.ScriptExecutionState.RunSubmissionsAsync[TResult](ImmutableArray`1 precedingExecutors, Func`2 currentExecutor, StrongBox`1 exceptionHolderOpt, Func`2 catchExceptionOpt, CancellationToken cancellationToken)"
     ]
    }
   ],
   "source": [
    "var plot = new Plot2Ddata();\n",
    "var time = tab[\"time\"];\n",
    "foreach(var column in tab) {\n",
    "   if(column.Key == \"time\")\n",
    "      continue;\n",
    "}"
   ]
  },
  {
   "cell_type": "code",
   "execution_count": null,
   "metadata": {},
   "outputs": [],
   "source": []
  }
 ],
 "metadata": {
  "kernelspec": {
   "display_name": ".NET (C#)",
   "language": "C#",
   "name": ".net-csharp"
  },
  "language_info": {
   "file_extension": ".cs",
   "mimetype": "text/x-csharp",
   "name": "C#",
   "pygments_lexer": "csharp",
   "version": "8.0"
  }
 },
 "nbformat": 4,
 "nbformat_minor": 2
}
