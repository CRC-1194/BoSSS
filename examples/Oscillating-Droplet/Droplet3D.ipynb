{
 "cells": [
  {
   "cell_type": "markdown",
   "metadata": {},
   "source": [
    "# 3D Droplet Oscillation\n",
    "\n",
    "Results published: hopefully at some point!\n"
   ]
  },
  {
   "cell_type": "markdown",
   "metadata": {},
   "source": [
    "### Preliminaries\n",
    "\n",
    "This example can be found in the source code repository as as `ConfinedCylinder_ConvergenceStudy.ipynb`. \n",
    "One can directly load this into Jupyter to interactively work with the following code examples.\n",
    "\n",
    "Note: First, BoSSS has to be loaded into the Jupyter kernel. Note:\n",
    "In the following line, the reference to `BoSSSpad.dll` is required. \n",
    "One must either set `#r \"BoSSSpad.dll\"` to something which is appropirate for the current computer\n",
    "(e.g. `C:\\Program Files (x86)\\FDY\\BoSSS\\bin\\Release\\net5.0\\BoSSSpad.dll` if working with the binary distribution), \n",
    "or, if one is working with the source code, one must compile `BoSSSpad`\n",
    "and put it side-by-side to this worksheet file \n",
    "(from the original location in the repository, one can use the scripts `getbossspad.sh`, resp. `getbossspad.bat`).\n"
   ]
  },
  {
   "cell_type": "code",
   "execution_count": 1,
   "metadata": {
    "dotnet_interactive": {
     "language": "csharp"
    }
   },
   "outputs": [
    {
     "data": {
      "text/html": [
       "\r\n",
       "<div>\r\n",
       "    <div id='dotnet-interactive-this-cell-6148.Microsoft.DotNet.Interactive.Http.HttpPort' style='display: none'>\r\n",
       "        The below script needs to be able to find the current output cell; this is an easy method to get it.\r\n",
       "    </div>\r\n",
       "    <script type='text/javascript'>\r\n",
       "async function probeAddresses(probingAddresses) {\r\n",
       "    function timeout(ms, promise) {\r\n",
       "        return new Promise(function (resolve, reject) {\r\n",
       "            setTimeout(function () {\r\n",
       "                reject(new Error('timeout'))\r\n",
       "            }, ms)\r\n",
       "            promise.then(resolve, reject)\r\n",
       "        })\r\n",
       "    }\r\n",
       "\r\n",
       "    if (Array.isArray(probingAddresses)) {\r\n",
       "        for (let i = 0; i < probingAddresses.length; i++) {\r\n",
       "\r\n",
       "            let rootUrl = probingAddresses[i];\r\n",
       "\r\n",
       "            if (!rootUrl.endsWith('/')) {\r\n",
       "                rootUrl = `${rootUrl}/`;\r\n",
       "            }\r\n",
       "\r\n",
       "            try {\r\n",
       "                let response = await timeout(1000, fetch(`${rootUrl}discovery`, {\r\n",
       "                    method: 'POST',\r\n",
       "                    cache: 'no-cache',\r\n",
       "                    mode: 'cors',\r\n",
       "                    timeout: 1000,\r\n",
       "                    headers: {\r\n",
       "                        'Content-Type': 'text/plain'\r\n",
       "                    },\r\n",
       "                    body: probingAddresses[i]\r\n",
       "                }));\r\n",
       "\r\n",
       "                if (response.status == 200) {\r\n",
       "                    return rootUrl;\r\n",
       "                }\r\n",
       "            }\r\n",
       "            catch (e) { }\r\n",
       "        }\r\n",
       "    }\r\n",
       "}\r\n",
       "\r\n",
       "function loadDotnetInteractiveApi() {\r\n",
       "    probeAddresses([\"http://192.168.56.1:1001/\", \"http://169.254.95.72:1001/\", \"http://192.168.178.23:1001/\", \"http://192.168.62.113:1001/\", \"http://127.0.0.1:1001/\"])\r\n",
       "        .then((root) => {\r\n",
       "        // use probing to find host url and api resources\r\n",
       "        // load interactive helpers and language services\r\n",
       "        let dotnetInteractiveRequire = require.config({\r\n",
       "        context: '6148.Microsoft.DotNet.Interactive.Http.HttpPort',\r\n",
       "                paths:\r\n",
       "            {\r\n",
       "                'dotnet-interactive': `${root}resources`\r\n",
       "                }\r\n",
       "        }) || require;\r\n",
       "\r\n",
       "            window.dotnetInteractiveRequire = dotnetInteractiveRequire;\r\n",
       "\r\n",
       "            window.configureRequireFromExtension = function(extensionName, extensionCacheBuster) {\r\n",
       "                let paths = {};\r\n",
       "                paths[extensionName] = `${root}extensions/${extensionName}/resources/`;\r\n",
       "                \r\n",
       "                let internalRequire = require.config({\r\n",
       "                    context: extensionCacheBuster,\r\n",
       "                    paths: paths,\r\n",
       "                    urlArgs: `cacheBuster=${extensionCacheBuster}`\r\n",
       "                    }) || require;\r\n",
       "\r\n",
       "                return internalRequire\r\n",
       "            };\r\n",
       "        \r\n",
       "            dotnetInteractiveRequire([\r\n",
       "                    'dotnet-interactive/dotnet-interactive'\r\n",
       "                ],\r\n",
       "                function (dotnet) {\r\n",
       "                    dotnet.init(window);\r\n",
       "                },\r\n",
       "                function (error) {\r\n",
       "                    console.log(error);\r\n",
       "                }\r\n",
       "            );\r\n",
       "        })\r\n",
       "        .catch(error => {console.log(error);});\r\n",
       "    }\r\n",
       "\r\n",
       "// ensure `require` is available globally\r\n",
       "if ((typeof(require) !==  typeof(Function)) || (typeof(require.config) !== typeof(Function))) {\r\n",
       "    let require_script = document.createElement('script');\r\n",
       "    require_script.setAttribute('src', 'https://cdnjs.cloudflare.com/ajax/libs/require.js/2.3.6/require.min.js');\r\n",
       "    require_script.setAttribute('type', 'text/javascript');\r\n",
       "    \r\n",
       "    \r\n",
       "    require_script.onload = function() {\r\n",
       "        loadDotnetInteractiveApi();\r\n",
       "    };\r\n",
       "\r\n",
       "    document.getElementsByTagName('head')[0].appendChild(require_script);\r\n",
       "}\r\n",
       "else {\r\n",
       "    loadDotnetInteractiveApi();\r\n",
       "}\r\n",
       "\r\n",
       "    </script>\r\n",
       "</div>"
      ]
     },
     "metadata": {},
     "output_type": "display_data"
    }
   ],
   "source": [
    "//#r \"../../src/L4-application/BoSSSpad/bin/Release/net5.0/BoSSSpad.dll\"\n",
    "//#r \"../../src/L4-application/BoSSSpad/bin/Debug/net5.0/BoSSSpad.dll\"\n",
    "#r \"BoSSSpad.dll\"\n",
    "using System;\n",
    "using System.Collections.Generic;\n",
    "using System.Linq;\n",
    "using ilPSP;\n",
    "using ilPSP.Utils;\n",
    "using BoSSS.Platform;\n",
    "using BoSSS.Foundation;\n",
    "using BoSSS.Foundation.XDG;\n",
    "using BoSSS.Foundation.Grid;\n",
    "using BoSSS.Foundation.Grid.Classic;\n",
    "using BoSSS.Foundation.IO;\n",
    "using BoSSS.Solution;\n",
    "using BoSSS.Solution.Control;\n",
    "using BoSSS.Solution.GridImport;\n",
    "using BoSSS.Solution.Statistic;\n",
    "using BoSSS.Solution.Utils;\n",
    "using BoSSS.Solution.AdvancedSolvers;\n",
    "using BoSSS.Solution.Gnuplot;\n",
    "using BoSSS.Application.BoSSSpad;\n",
    "using BoSSS.Application.XNSE_Solver;\n",
    "using static BoSSS.Application.BoSSSpad.BoSSSshell;\n",
    "Init();"
   ]
  },
  {
   "cell_type": "markdown",
   "metadata": {},
   "source": [
    "## Initialization tasks"
   ]
  },
  {
   "cell_type": "markdown",
   "metadata": {},
   "source": [
    "Loading the `XNSE_Solver` namespace:"
   ]
  },
  {
   "cell_type": "code",
   "execution_count": 34,
   "metadata": {
    "dotnet_interactive": {
     "language": "csharp"
    }
   },
   "outputs": [],
   "source": [
    "using BoSSS.Application.XNSE_Solver;\n",
    "using BoSSS.Application.XNSE_Solver.PhysicalBasedTestcases;\n",
    "using BoSSS.Solution.NSECommon;\n",
    "using BoSSS.Solution.LevelSetTools.SolverWithLevelSetUpdater;"
   ]
  },
  {
   "cell_type": "markdown",
   "metadata": {},
   "source": [
    "Initialization of the Workflow management; there `ConfinedCylinder_ConvergenceStudy` is the project name which is used for all comutations (aka. sessions):"
   ]
  },
  {
   "cell_type": "code",
   "execution_count": 3,
   "metadata": {
    "dotnet_interactive": {
     "language": "csharp"
    }
   },
   "outputs": [
    {
     "name": "stdout",
     "output_type": "stream",
     "text": [
      "Project name is set to 'OscillatingDroplet3D'.\n",
      "Opening existing database 'C:\\BoSSS-Databases\\OscillatingDroplet3D'.\n"
     ]
    }
   ],
   "source": [
    "BoSSSshell.WorkflowMgm.Init(\"OscillatingDroplet3D\");"
   ]
  },
  {
   "cell_type": "markdown",
   "metadata": {},
   "source": [
    "Overview on the available *Execution Queues* (aka. *Batch Processors*, aka. *Batch System*); these e.g. Linux HPC clusters on which compute jobs can be executed."
   ]
  },
  {
   "cell_type": "code",
   "execution_count": 4,
   "metadata": {
    "dotnet_interactive": {
     "language": "csharp"
    }
   },
   "outputs": [
    {
     "data": {
      "text/html": [
       "<table><thead><tr><th><i>index</i></th><th><i>type</i></th><th>DeploymentBaseDirectory</th><th>DeployRuntime</th><th>Name</th><th>DotnetRuntime</th><th>BatchInstructionDir</th><th>AllowedDatabasesPaths</th><th>Username</th><th>ServerName</th><th>ComputeNodes</th><th>DefaultJobPriority</th><th>SingleNode</th><th>Password</th><th>PrivateKeyFilePath</th><th>AdditionalBatchCommands</th><th>DeploymentBaseDirectoryAtRemote</th><th>SlurmAccount</th><th>Email</th><th>MonoDebug</th></tr></thead><tbody><tr><td>0</td><td>BoSSS.Application.BoSSSpad.MiniBatchProcessorClient</td><td><div class=\"dni-plaintext\">C:\\Users\\flori\\AppData\\Local\\BoSSS-LocalJobs</div></td><td><div class=\"dni-plaintext\">False</div></td><td><div class=\"dni-plaintext\">LocalPC</div></td><td><div class=\"dni-plaintext\">dotnet</div></td><td><div class=\"dni-plaintext\">&lt;null&gt;</div></td><td><div class=\"dni-plaintext\">[ C:\\BoSSS-Databases == , C:\\Users\\flori ==  ]</div></td><td></td><td></td><td></td><td></td><td></td><td></td><td></td><td></td><td></td><td></td><td></td><td></td></tr><tr><td>1</td><td>BoSSS.Application.BoSSSpad.MsHPC2012Client</td><td><div class=\"dni-plaintext\">\\\\dc1\\userspace\\kummer\\cluster</div></td><td><div class=\"dni-plaintext\">False</div></td><td><div class=\"dni-plaintext\">FDY-WindowsHPC</div></td><td><div class=\"dni-plaintext\">dotnet</div></td><td></td><td><div class=\"dni-plaintext\">[ \\\\dc1\\userspace\\kummer ==  ]</div></td><td><div class=\"dni-plaintext\">FDY\\kummer</div></td><td><div class=\"dni-plaintext\">DC2</div></td><td><div class=\"dni-plaintext\">&lt;null&gt;</div></td><td><span>Normal</span></td><td><div class=\"dni-plaintext\">True</div></td><td></td><td></td><td></td><td></td><td></td><td></td><td></td></tr><tr><td>2</td><td>BoSSS.Application.BoSSSpad.SlurmClient</td><td><div class=\"dni-plaintext\">W:\\bosss_deploy</div></td><td><div class=\"dni-plaintext\">False</div></td><td><div class=\"dni-plaintext\">LbI</div></td><td><div class=\"dni-plaintext\">dotnet</div></td><td></td><td><div class=\"dni-plaintext\">[  ]</div></td><td><div class=\"dni-plaintext\">fk69umer</div></td><td><div class=\"dni-plaintext\">lcluster8.hrz.tu-darmstadt.de</div></td><td></td><td></td><td></td><td><div class=\"dni-plaintext\">&lt;null&gt;</div></td><td><div class=\"dni-plaintext\">C:\\Users\\flori\\.ssh\\id_rsa</div></td><td><div class=\"dni-plaintext\">&lt;null&gt;</div></td><td><div class=\"dni-plaintext\">/home/fk69umer/bosss_deploy</div></td><td><div class=\"dni-plaintext\">project01287</div></td><td><div class=\"dni-plaintext\">&lt;null&gt;</div></td><td><div class=\"dni-plaintext\">False</div></td></tr><tr><td>3</td><td>BoSSS.Application.BoSSSpad.SlurmClient</td><td><div class=\"dni-plaintext\">X:\\bosss_deploy</div></td><td><div class=\"dni-plaintext\">False</div></td><td><div class=\"dni-plaintext\">Lb2-specialPrj</div></td><td><div class=\"dni-plaintext\">dotnet</div></td><td></td><td><div class=\"dni-plaintext\">[ X: == /work/scratch/fk69umer ]</div></td><td><div class=\"dni-plaintext\">fk69umer</div></td><td><div class=\"dni-plaintext\">lcluster16.hrz.tu-darmstadt.de</div></td><td></td><td></td><td></td><td><div class=\"dni-plaintext\">&lt;null&gt;</div></td><td><div class=\"dni-plaintext\">C:\\Users\\flori\\.ssh\\id_rsa</div></td><td><div class=\"dni-plaintext\">[ #SBATCH -p test24, #SBATCH -C avx512, #SBATCH --mem-per-cpu=8000 ]</div></td><td><div class=\"dni-plaintext\">/work/scratch/fk69umer/bosss_deploy</div></td><td><div class=\"dni-plaintext\">special00006</div></td><td><div class=\"dni-plaintext\">&lt;null&gt;</div></td><td><div class=\"dni-plaintext\">False</div></td></tr></tbody></table>"
      ]
     },
     "execution_count": 4,
     "metadata": {},
     "output_type": "execute_result"
    }
   ],
   "source": [
    "ExecutionQueues"
   ]
  },
  {
   "cell_type": "markdown",
   "metadata": {},
   "source": [
    "For this example (which is part of the BoSSS validation tests), a *default queue* is selected to run all jobs in the convergence study:"
   ]
  },
  {
   "cell_type": "code",
   "execution_count": 5,
   "metadata": {
    "dotnet_interactive": {
     "language": "csharp"
    }
   },
   "outputs": [
    {
     "data": {
      "text/html": [
       "<table><thead><tr><th>DeploymentBaseDirectory</th><th>DeployRuntime</th><th>Name</th><th>DotnetRuntime</th><th>BatchInstructionDir</th><th>AllowedDatabasesPaths</th></tr></thead><tbody><tr><td><div class=\"dni-plaintext\">C:\\Users\\flori\\AppData\\Local\\BoSSS-LocalJobs</div></td><td><div class=\"dni-plaintext\">False</div></td><td><div class=\"dni-plaintext\">LocalPC</div></td><td><div class=\"dni-plaintext\">dotnet</div></td><td><div class=\"dni-plaintext\">&lt;null&gt;</div></td><td><div class=\"dni-plaintext\">[ C:\\BoSSS-Databases == , C:\\Users\\flori ==  ]</div></td></tr></tbody></table>"
      ]
     },
     "execution_count": 5,
     "metadata": {},
     "output_type": "execute_result"
    }
   ],
   "source": [
    "var myBatch = GetDefaultQueue();\n",
    "myBatch"
   ]
  },
  {
   "cell_type": "markdown",
   "metadata": {},
   "source": [
    "## Grid Creation"
   ]
  },
  {
   "cell_type": "code",
   "execution_count": 6,
   "metadata": {},
   "outputs": [
    {
     "name": "stderr",
     "output_type": "stream",
     "text": [
      "IOException caught during creation/opening of database: The network path was not found. : '\\\\dc1\\userspace\\kummer\\OscillatingDroplet3D'.\n",
      "DirectoryNotFoundException caught during creation/opening of database: Could not find a part of the path 'X:\\OscillatingDroplet3D'..\n"
     ]
    },
    {
     "data": {
      "text/plain": [
       "#0: { Guid = 67c6fd9e-293a-4c7a-805b-9fed5b5a64a3; Name = OscillatingDroplet3D_12x12x24_quarterDomain; Cell Count = 3456; Dim = 3 }\r\n",
       "#1: { Guid = feee49dd-1f5a-4b67-9e04-364da4ac9872; Name = OscillatingDroplet3D_6x6x12_quarterDomain; Cell Count = 432; Dim = 3 }\r\n"
      ]
     },
     "execution_count": 6,
     "metadata": {},
     "output_type": "execute_result"
    }
   ],
   "source": [
    "BoSSSshell.WorkflowMgm.Grids"
   ]
  },
  {
   "cell_type": "markdown",
   "metadata": {},
   "source": [
    "### Quater-Domain grids\n",
    "(Symmetry planes at $x = 0$ and $y = 0$)"
   ]
  },
  {
   "cell_type": "code",
   "execution_count": 26,
   "metadata": {},
   "outputs": [
    {
     "name": "stdout",
     "output_type": "stream",
     "text": [
      "Grid already found in database - identifid by name OscillatingDroplet3D_6x6x12_quarterDomain\n",
      "Grid already found in database - identifid by name OscillatingDroplet3D_12x12x24_quarterDomain\n"
     ]
    }
   ],
   "source": [
    "int[] Resolutions = new int[] { 6, 12 };\n",
    "IGridInfo[] Grids = new IGridInfo[Resolutions.Length];\n",
    "for(int i = 0; i < Resolutions.Length; i++) {\n",
    "    int Res = Resolutions[i];\n",
    "    string GridName = $\"OscillatingDroplet3D_{Res}x{Res}x{2*Res}_quarterDomain\";\n",
    "\n",
    "    IGridInfo cachedGrid = wmg.Grids.FirstOrDefault(grid => grid.Name == GridName);\n",
    "    \n",
    "    if(cachedGrid == null) {\n",
    "        \n",
    "        // must create new Grid\n",
    "        double[] xNodes = GenericBlas.Linspace(0, 3, Res + 1);\n",
    "        double[] yNodes = xNodes;\n",
    "        double[] zNodes = GenericBlas.Linspace(-3, 3, Res*2 + 1);\n",
    "        \n",
    "        var grd = Grid3D.Cartesian3DGrid(xNodes, yNodes, zNodes);\n",
    "        grd.Name = GridName;\n",
    "        \n",
    "        grd.DefineEdgeTags(delegate(Vector X) {\n",
    "            string ret = null;\n",
    "            if(X.x.Abs() <= 1e-8 || X.y.Abs() <= 1.0e-8)\n",
    "                ret = IncompressibleBcType.SlipSymmetry.ToString();\n",
    "            else\n",
    "                ret = IncompressibleBcType.Wall.ToString();\n",
    "            return ret;\n",
    "        });        \n",
    "        \n",
    "        Grids[i] = wmg.SaveGrid(grd);\n",
    "        \n",
    "    } else {\n",
    "        //Console.WriteLine($\"type: {cachedGrid.GetType()}, is IGridInfo? {cachedGrid is IGridInfo}\");\n",
    "        Console.WriteLine(\"Grid already found in database - identifid by name \" + GridName);\n",
    "        Grids[i] = cachedGrid;\n",
    "    }\n",
    "    \n",
    "}"
   ]
  },
  {
   "cell_type": "code",
   "execution_count": 10,
   "metadata": {},
   "outputs": [
    {
     "data": {
      "text/plain": [
       "#0: { Guid = 67c6fd9e-293a-4c7a-805b-9fed5b5a64a3; Name = OscillatingDroplet3D_12x12x24_quarterDomain; Cell Count = 3456; Dim = 3 }\r\n",
       "#1: { Guid = feee49dd-1f5a-4b67-9e04-364da4ac9872; Name = OscillatingDroplet3D_6x6x12_quarterDomain; Cell Count = 432; Dim = 3 }\r\n"
      ]
     },
     "execution_count": 10,
     "metadata": {},
     "output_type": "execute_result"
    }
   ],
   "source": [
    "wmg.Grids"
   ]
  },
  {
   "cell_type": "markdown",
   "metadata": {
    "dotnet_interactive": {
     "language": "csharp"
    }
   },
   "source": [
    "## Setup of control objects for a solver runs"
   ]
  },
  {
   "cell_type": "code",
   "execution_count": 29,
   "metadata": {
    "dotnet_interactive": {
     "language": "csharp"
    }
   },
   "outputs": [],
   "source": [
    "List<XNSE_Control> Controls = new List<XNSE_Control>();"
   ]
  },
  {
   "cell_type": "code",
   "execution_count": 35,
   "metadata": {
    "dotnet_interactive": {
     "language": "csharp"
    }
   },
   "outputs": [],
   "source": [
    "Controls.Clear();\n",
    "int[] modeS = new int[] {2, 3, 4};\n",
    "int[] aP_indiceS = new int[] { 0, 1, 2 };\n",
    "bool[] useARM = new bool[] { false, true };\n",
    "\n",
    "foreach(bool bARM in useARM) {\n",
    "foreach(var grd in Grids) {\n",
    "foreach(int mode in modeS) {\n",
    "foreach(int k )\n",
    "foreach(int aP_index in aP_indiceS) {\n",
    "\n",
    "    double r0 = 0.001;\n",
    "    var C = Droplet.OscillatingDroplet3D_LegendrePolynomials(r0, mode, aP_index);\n",
    "    C.SetGrid(grd);\n",
    "    C.SetDGdegree(3);\n",
    "    \n",
    "    C.PhysicalParameters.IncludeConvection = true;\n",
    "    C.PhysicalParameters.rho_A = 1260.0;\n",
    "    C.PhysicalParameters.rho_B = 1.26;\n",
    "    C.PhysicalParameters.mu_A = 0.0094;\n",
    "    C.PhysicalParameters.mu_B = 9.4E-06;\n",
    "    C.PhysicalParameters.reynolds_B = 0.0;\n",
    "    C.PhysicalParameters.reynolds_A = 0.0;\n",
    "    C.PhysicalParameters.Sigma = 0.007;\n",
    "    C.PhysicalParameters.pFree = 0.0;\n",
    "    C.PhysicalParameters.mu_I = 0.0;\n",
    "    C.PhysicalParameters.lambda_I = 0.0;\n",
    "    C.PhysicalParameters.lambdaI_tilde = -1.0;\n",
    "    C.PhysicalParameters.betaS_A = 0.0;\n",
    "    C.PhysicalParameters.betaS_B = 0.0;\n",
    "    C.PhysicalParameters.betaL = 0.0;\n",
    "    C.PhysicalParameters.theta_e = 1.5707963267948966;\n",
    "    C.PhysicalParameters.sliplength = 0.0;\n",
    "    C.PhysicalParameters.Material = true;\n",
    "    C.PhysicalParameters.useArtificialSurfaceForce = false;\n",
    "    \n",
    "    C.dtFixed = 5E-05;\n",
    "    \n",
    "    if(bARM) {\n",
    "        C.activeAMRlevelIndicators.Add(\n",
    "            new AMRonNarrowband() { maxRefinementLevel = 1 }\n",
    "        );\n",
    "    }\n",
    "    \n",
    "    Controls.Add(C);\n",
    "}\n",
    "}\n",
    "}\n",
    "}"
   ]
  },
  {
   "cell_type": "code",
   "execution_count": 38,
   "metadata": {},
   "outputs": [],
   "source": [
    "//Controls[0].InitialValues[\"Phi\"]"
   ]
  },
  {
   "cell_type": "code",
   "execution_count": 48,
   "metadata": {},
   "outputs": [
    {
     "data": {
      "text/html": [
       "<div class=\"dni-plaintext\">7</div>"
      ]
     },
     "execution_count": 48,
     "metadata": {},
     "output_type": "execute_result"
    }
   ],
   "source": [
    "(int)(Controls[0].VelocityBlockPrecondMode)"
   ]
  },
  {
   "cell_type": "code",
   "execution_count": 47,
   "metadata": {},
   "outputs": [
    {
     "data": {
      "text/html": [
       "<div class=\"dni-plaintext\">1E-06</div>"
      ]
     },
     "execution_count": 47,
     "metadata": {},
     "output_type": "execute_result"
    }
   ],
   "source": [
    "Controls[0].LevelSet_ConvergenceCriterion"
   ]
  },
  {
   "cell_type": "code",
   "execution_count": null,
   "metadata": {},
   "outputs": [],
   "source": []
  },
  {
   "cell_type": "markdown",
   "metadata": {
    "dotnet_interactive": {
     "language": "csharp"
    }
   },
   "source": [
    "## Launch Jobs"
   ]
  },
  {
   "cell_type": "code",
   "execution_count": 10,
   "metadata": {
    "dotnet_interactive": {
     "language": "csharp"
    }
   },
   "outputs": [
    {
     "data": {
      "text/html": [
       "<div class=\"dni-plaintext\">9</div>"
      ]
     },
     "execution_count": 10,
     "metadata": {},
     "output_type": "execute_result"
    }
   ],
   "source": [
    "Controls.Count"
   ]
  },
  {
   "cell_type": "code",
   "execution_count": 11,
   "metadata": {
    "dotnet_interactive": {
     "language": "csharp"
    }
   },
   "outputs": [
    {
     "name": "stdout",
     "output_type": "stream",
     "text": [
      "Empty job name - picking new name 'EmptyJobName_1'\n",
      "Deploying job EmptyJobName_1 ... \n"
     ]
    },
    {
     "name": "stderr",
     "output_type": "stream",
     "text": [
      "Warning: no database is set for the job to submit; nothing may be saved.\r\n"
     ]
    },
    {
     "name": "stdout",
     "output_type": "stream",
     "text": [
      "Deploying executables and additional files ...\n",
      "Deployment directory: C:\\Users\\flori\\AppData\\Local\\BoSSS-LocalJobs\\OscillatingDroplet3D-XNSE_Solver2021Oct27_060944\n",
      "copied 49 files.\n",
      "   written file: control.obj\n",
      "deployment finished.\n",
      "Starting mini batch processor in external process...\n",
      "Started mini batch processor on local machine, process id is 20352.\n",
      "started.\n",
      "Warning: MiniBatchProcessor server was not running, started by job activation; it might be beneficial to start `MiniBatchProcessor.dll` externally, for the future.\n",
      "\n",
      "Empty job name - picking new name 'EmptyJobName_2'\n",
      "Deploying job EmptyJobName_2 ... \n"
     ]
    },
    {
     "name": "stderr",
     "output_type": "stream",
     "text": [
      "Warning: no database is set for the job to submit; nothing may be saved.\r\n"
     ]
    },
    {
     "name": "stdout",
     "output_type": "stream",
     "text": [
      "Deploying executables and additional files ...\n",
      "Deployment directory: C:\\Users\\flori\\AppData\\Local\\BoSSS-LocalJobs\\OscillatingDroplet3D-XNSE_Solver2021Oct27_060948\n",
      "copied 49 files.\n",
      "   written file: control.obj\n",
      "deployment finished.\n",
      "Mini batch processor is already running.\n",
      "\n",
      "Empty job name - picking new name 'EmptyJobName_3'\n",
      "Deploying job EmptyJobName_3 ... \n"
     ]
    },
    {
     "name": "stderr",
     "output_type": "stream",
     "text": [
      "Warning: no database is set for the job to submit; nothing may be saved.\r\n"
     ]
    },
    {
     "name": "stdout",
     "output_type": "stream",
     "text": [
      "Deploying executables and additional files ...\n",
      "Deployment directory: C:\\Users\\flori\\AppData\\Local\\BoSSS-LocalJobs\\OscillatingDroplet3D-XNSE_Solver2021Oct27_060948-1\n",
      "copied 49 files.\n",
      "   written file: control.obj\n",
      "deployment finished.\n",
      "Mini batch processor is already running.\n",
      "\n",
      "Empty job name - picking new name 'EmptyJobName_4'\n",
      "Deploying job EmptyJobName_4 ... \n"
     ]
    },
    {
     "name": "stderr",
     "output_type": "stream",
     "text": [
      "Warning: no database is set for the job to submit; nothing may be saved.\r\n"
     ]
    },
    {
     "name": "stdout",
     "output_type": "stream",
     "text": [
      "Deploying executables and additional files ...\n",
      "Deployment directory: C:\\Users\\flori\\AppData\\Local\\BoSSS-LocalJobs\\OscillatingDroplet3D-XNSE_Solver2021Oct27_060949\n",
      "copied 49 files.\n",
      "   written file: control.obj\n",
      "deployment finished.\n",
      "Mini batch processor is already running.\n",
      "\n",
      "Empty job name - picking new name 'EmptyJobName_5'\n",
      "Deploying job EmptyJobName_5 ... \n"
     ]
    },
    {
     "name": "stderr",
     "output_type": "stream",
     "text": [
      "Warning: no database is set for the job to submit; nothing may be saved.\r\n"
     ]
    },
    {
     "name": "stdout",
     "output_type": "stream",
     "text": [
      "Deploying executables and additional files ...\n",
      "Deployment directory: C:\\Users\\flori\\AppData\\Local\\BoSSS-LocalJobs\\OscillatingDroplet3D-XNSE_Solver2021Oct27_060949-1\n",
      "copied 49 files.\n",
      "   written file: control.obj\n",
      "deployment finished.\n",
      "Mini batch processor is already running.\n",
      "\n",
      "Empty job name - picking new name 'EmptyJobName_6'\n",
      "Deploying job EmptyJobName_6 ... \n"
     ]
    },
    {
     "name": "stderr",
     "output_type": "stream",
     "text": [
      "Warning: no database is set for the job to submit; nothing may be saved.\r\n"
     ]
    },
    {
     "name": "stdout",
     "output_type": "stream",
     "text": [
      "Deploying executables and additional files ...\n",
      "Deployment directory: C:\\Users\\flori\\AppData\\Local\\BoSSS-LocalJobs\\OscillatingDroplet3D-XNSE_Solver2021Oct27_060950\n",
      "copied 49 files.\n",
      "   written file: control.obj\n",
      "deployment finished.\n",
      "Mini batch processor is already running.\n",
      "\n",
      "Empty job name - picking new name 'EmptyJobName_7'\n",
      "Deploying job EmptyJobName_7 ... \n"
     ]
    },
    {
     "name": "stderr",
     "output_type": "stream",
     "text": [
      "Warning: no database is set for the job to submit; nothing may be saved.\r\n"
     ]
    },
    {
     "name": "stdout",
     "output_type": "stream",
     "text": [
      "Deploying executables and additional files ...\n",
      "Deployment directory: C:\\Users\\flori\\AppData\\Local\\BoSSS-LocalJobs\\OscillatingDroplet3D-XNSE_Solver2021Oct27_060951\n",
      "copied 49 files.\n",
      "   written file: control.obj\n",
      "deployment finished.\n",
      "Mini batch processor is already running.\n",
      "\n",
      "Empty job name - picking new name 'EmptyJobName_8'\n",
      "Deploying job EmptyJobName_8 ... \n"
     ]
    },
    {
     "name": "stderr",
     "output_type": "stream",
     "text": [
      "Warning: no database is set for the job to submit; nothing may be saved.\r\n"
     ]
    },
    {
     "name": "stdout",
     "output_type": "stream",
     "text": [
      "Deploying executables and additional files ...\n",
      "Deployment directory: C:\\Users\\flori\\AppData\\Local\\BoSSS-LocalJobs\\OscillatingDroplet3D-XNSE_Solver2021Oct27_060951-1\n",
      "copied 49 files.\n",
      "   written file: control.obj\n",
      "deployment finished.\n",
      "Mini batch processor is already running.\n",
      "\n",
      "Empty job name - picking new name 'EmptyJobName_9'\n",
      "Deploying job EmptyJobName_9 ... \n"
     ]
    },
    {
     "name": "stderr",
     "output_type": "stream",
     "text": [
      "Warning: no database is set for the job to submit; nothing may be saved.\r\n"
     ]
    },
    {
     "name": "stdout",
     "output_type": "stream",
     "text": [
      "Deploying executables and additional files ...\n",
      "Deployment directory: C:\\Users\\flori\\AppData\\Local\\BoSSS-LocalJobs\\OscillatingDroplet3D-XNSE_Solver2021Oct27_060952\n",
      "copied 49 files.\n",
      "   written file: control.obj\n",
      "deployment finished.\n",
      "Mini batch processor is already running.\n",
      "\n"
     ]
    }
   ],
   "source": [
    "foreach(var ctrl in Controls) {\n",
    "    //var oneJob              = ctrl.CreateJob();\n",
    "    //oneJob.NumberOfMPIProcs = 1;\n",
    "    //oneJob.Activate(myBatch); \n",
    "}"
   ]
  },
  {
   "cell_type": "code",
   "execution_count": null,
   "metadata": {
    "dotnet_interactive": {
     "language": "csharp"
    }
   },
   "outputs": [],
   "source": []
  },
  {
   "cell_type": "code",
   "execution_count": 12,
   "metadata": {
    "dotnet_interactive": {
     "language": "csharp"
    }
   },
   "outputs": [
    {
     "name": "stdout",
     "output_type": "stream",
     "text": [
      "All jobs finished.\r\n"
     ]
    }
   ],
   "source": [
    "// wait for all jobs to finish (up to 5 days, check every 5 minutes)\n",
    "BoSSSshell.WorkflowMgm.BlockUntilAllJobsTerminate(TimeOutSeconds:(3600*24*5), PollingIntervallSeconds:(60*5));"
   ]
  },
  {
   "cell_type": "code",
   "execution_count": 13,
   "metadata": {
    "dotnet_interactive": {
     "language": "csharp"
    }
   },
   "outputs": [
    {
     "ename": "Unhandled exception",
     "evalue": "System.NullReferenceException: Object reference not set to an instance of an object.\r\n   at Submission#16.<>c.<<Initialize>>b__0_1(Job job)\r\n   at System.Linq.Enumerable.WhereEnumerableIterator`1.ToArray()\r\n   at Submission#16.<<Initialize>>d__0.MoveNext()\r\n--- End of stack trace from previous location ---\r\n   at Microsoft.CodeAnalysis.Scripting.ScriptExecutionState.RunSubmissionsAsync[TResult](ImmutableArray`1 precedingExecutors, Func`2 currentExecutor, StrongBox`1 exceptionHolderOpt, Func`2 catchExceptionOpt, CancellationToken cancellationToken)",
     "output_type": "error",
     "traceback": [
      "System.NullReferenceException: Object reference not set to an instance of an object.\r\n   at Submission#16.<>c.<<Initialize>>b__0_1(Job job)\r\n   at System.Linq.Enumerable.WhereEnumerableIterator`1.ToArray()\r\n   at Submission#16.<<Initialize>>d__0.MoveNext()\r\n--- End of stack trace from previous location ---\r\n   at Microsoft.CodeAnalysis.Scripting.ScriptExecutionState.RunSubmissionsAsync[TResult](ImmutableArray`1 precedingExecutors, Func`2 currentExecutor, StrongBox`1 exceptionHolderOpt, Func`2 catchExceptionOpt, CancellationToken cancellationToken)",
      "   at Submission#16.<>c.<<Initialize>>b__0_1(Job job)",
      "   at System.Linq.Enumerable.WhereEnumerableIterator`1.ToArray()",
      "   at Submission#16.<<Initialize>>d__0.MoveNext()",
      "--- End of stack trace from previous location ---",
      "   at Microsoft.CodeAnalysis.Scripting.ScriptExecutionState.RunSubmissionsAsync[TResult](ImmutableArray`1 precedingExecutors, Func`2 currentExecutor, StrongBox`1 exceptionHolderOpt, Func`2 catchExceptionOpt, CancellationToken cancellationToken)"
     ]
    }
   ],
   "source": [
    "// detect failed Jobs in the job management\n",
    "var suspects = BoSSSshell.WorkflowMgm.AllJobs.Select(kv => kv.Value)\n",
    "    .Where(job => job.LatestSession.Tags.Contains(SessionInfo.NOT_TERMINATED_TAG)\n",
    "                  || job.LatestSession.Tags.Contains(SessionInfo.SOLVER_ERROR)).ToArray();\n",
    "suspects"
   ]
  },
  {
   "cell_type": "code",
   "execution_count": 14,
   "metadata": {},
   "outputs": [
    {
     "ename": "Unhandled exception",
     "evalue": "System.ArgumentNullException: Value cannot be null. (Parameter 'source')\r\n   at System.Linq.ThrowHelper.ThrowArgumentNullException(ExceptionArgument argument)\r\n   at System.Linq.Enumerable.Count[TSource](IEnumerable`1 source)\r\n   at Submission#17.<<Initialize>>d__0.MoveNext()\r\n--- End of stack trace from previous location ---\r\n   at Microsoft.CodeAnalysis.Scripting.ScriptExecutionState.RunSubmissionsAsync[TResult](ImmutableArray`1 precedingExecutors, Func`2 currentExecutor, StrongBox`1 exceptionHolderOpt, Func`2 catchExceptionOpt, CancellationToken cancellationToken)",
     "output_type": "error",
     "traceback": [
      "System.ArgumentNullException: Value cannot be null. (Parameter 'source')\r\n   at System.Linq.ThrowHelper.ThrowArgumentNullException(ExceptionArgument argument)\r\n   at System.Linq.Enumerable.Count[TSource](IEnumerable`1 source)\r\n   at Submission#17.<<Initialize>>d__0.MoveNext()\r\n--- End of stack trace from previous location ---\r\n   at Microsoft.CodeAnalysis.Scripting.ScriptExecutionState.RunSubmissionsAsync[TResult](ImmutableArray`1 precedingExecutors, Func`2 currentExecutor, StrongBox`1 exceptionHolderOpt, Func`2 catchExceptionOpt, CancellationToken cancellationToken)",
      "   at System.Linq.ThrowHelper.ThrowArgumentNullException(ExceptionArgument argument)",
      "   at System.Linq.Enumerable.Count[TSource](IEnumerable`1 source)",
      "   at Submission#17.<<Initialize>>d__0.MoveNext()",
      "--- End of stack trace from previous location ---",
      "   at Microsoft.CodeAnalysis.Scripting.ScriptExecutionState.RunSubmissionsAsync[TResult](ImmutableArray`1 precedingExecutors, Func`2 currentExecutor, StrongBox`1 exceptionHolderOpt, Func`2 catchExceptionOpt, CancellationToken cancellationToken)"
     ]
    }
   ],
   "source": [
    "NUnit.Framework.Assert.IsTrue(suspects.Count() <= 0, $\"{suspects.Count()} Failed Jobs of {BoSSSshell.WorkflowMgm.AllJobs.Count()} in total.\");"
   ]
  },
  {
   "cell_type": "markdown",
   "metadata": {},
   "source": [
    "### Inspect the output of some arbitrary job:"
   ]
  },
  {
   "cell_type": "code",
   "execution_count": 15,
   "metadata": {},
   "outputs": [
    {
     "data": {
      "text/plain": [
       "      ___           ___           ___           ___           ___     \r\n",
       "     /\\  \\         /\\  \\         /\\  \\         /\\  \\         /\\  \\    \r\n",
       "    /::\\  \\       /::\\  \\       /::\\  \\       /::\\  \\       /::\\  \\   \r\n",
       "   /:/\\:\\  \\     /:/\\:\\  \\     /:/\\ \\  \\     /:/\\ \\  \\     /:/\\ \\  \\  \r\n",
       "  /::\\~\\:\\__\\   /:/  \\:\\  \\   _\\:\\~\\ \\  \\   _\\:\\~\\ \\  \\   _\\:\\~\\ \\  \\ \r\n",
       " /:/\\:\\ \\:|__| /:/__/ \\:\\__\\ /\\ \\:\\ \\ \\__\\ /\\ \\:\\ \\ \\__\\ /\\ \\:\\ \\ \\__\\\r\n",
       " \\:\\~\\:\\/:/  / \\:\\  \\ /:/  / \\:\\ \\:\\ \\/__/ \\:\\ \\:\\ \\/__/ \\:\\ \\:\\ \\/__/\r\n",
       "  \\:\\ \\::/  /   \\:\\  /:/  /   \\:\\ \\:\\__\\    \\:\\ \\:\\__\\    \\:\\ \\:\\__\\  \r\n",
       "   \\:\\/:/  /     \\:\\/:/  /     \\:\\/:/  /     \\:\\/:/  /     \\:\\/:/  /  \r\n",
       "    \\::/__/       \\::/  /       \\::/  /       \\::/  /       \\::/  /   \r\n",
       "     ~~            \\/__/         \\/__/         \\/__/         \\/__/    \r\n",
       "                                                                      \r\n",
       "Running with 1 MPI process (single core)\r\n",
       "User: flori\r\n",
       "Node: stormbreaker (rank 0)\r\n",
       "arg #0 override from environment variable 'BOSSS_ARG_0': --control\r\n",
       "arg #1 override from environment variable 'BOSSS_ARG_1': control.obj\r\n",
       "arg #2 override from environment variable 'BOSSS_ARG_2': --prjnmn\r\n",
       "arg #3 override from environment variable 'BOSSS_ARG_3': OscillatingDroplet3D\r\n",
       "arg #4 override from environment variable 'BOSSS_ARG_4': --sesnmn\r\n",
       "arg #5 override from environment variable 'BOSSS_ARG_5': EmptyJobName_1\r\n",
       "\r\n",
       "   at BoSSS.Solution.Application`1.CreateOrLoadGrid()\r\n",
       "   at BoSSS.Solution.Application`1.SetUpEnvironment()\r\n",
       "   at BoSSS.Solution.XdgTimestepping.ApplicationWithSolver`1.SetUpEnvironment()\r\n",
       "   at BoSSS.Solution.Application`1.RunSolverMode()\r\n",
       "   at BoSSS.Solution.Application`1.AppEntry(Func`1 ApplicationFactory, CommandLineOptions opt, T ctrlV2, T[] ctrlV2_ParameterStudy)\r\n",
       "   at BoSSS.Solution.Application`1._Main(String[] args, Boolean noControlFile, Func`1 ApplicationFactory)\r\n",
       "\r\n",
       "\r\n",
       "========================================\r\n",
       "========================================\r\n",
       "MPI rank 0: ApplicationException :\r\n",
       "Control object error: No grid specified -- either 'AppControl.GridFunc' or 'AppControl.GridGuid' or 'AppControl.RestartInfo' must be specified.\r\n",
       "========================================\r\n",
       "========================================\r\n",
       "\r\n",
       "\r\n",
       "job aborted:\r\n",
       "[ranks] message\r\n",
       "\r\n",
       "[0] process exited without calling finalize\r\n",
       "\r\n",
       "---- error analysis -----\r\n",
       "\r\n",
       "[0] on STORMBREAKER\r\n",
       "dotnet ended prematurely and may have crashed. exit code 0\r\n",
       "\r\n",
       "---- error analysis -----\r\n",
       "\r\n",
       "\r\n"
      ]
     },
     "execution_count": 15,
     "metadata": {},
     "output_type": "execute_result"
    }
   ],
   "source": [
    "BoSSSshell.WorkflowMgm.AllJobs.First().Value.Stdout"
   ]
  },
  {
   "cell_type": "code",
   "execution_count": null,
   "metadata": {},
   "outputs": [],
   "source": []
  }
 ],
 "metadata": {
  "kernelspec": {
   "display_name": ".NET (C#)",
   "language": "C#",
   "name": ".net-csharp"
  },
  "language_info": {
   "file_extension": ".cs",
   "mimetype": "text/x-csharp",
   "name": "C#",
   "pygments_lexer": "csharp",
   "version": "8.0"
  }
 },
 "nbformat": 4,
 "nbformat_minor": 4
}
