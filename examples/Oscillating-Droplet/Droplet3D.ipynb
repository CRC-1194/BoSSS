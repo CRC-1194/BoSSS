{
 "cells": [
  {
   "cell_type": "markdown",
   "metadata": {},
   "source": [
    "# 3D Droplet Oscillation\n",
    "\n",
    "Results published: hopefully at some point!\n",
    "\n",
    "It is part of the BoSSS-long-term validation test suite, which consists of \n",
    "several computationally expensive test-cases (runtime in the order of days),\n",
    "which are performed on a regular basis in order to validate the \n",
    "physical correctness of BoSSS simulations.\n"
   ]
  },
  {
   "cell_type": "markdown",
   "metadata": {},
   "source": [
    "### Preliminaries\n",
    "\n",
    "This example can be found in the source code repository as as `Droplet3D.ipynb`. \n",
    "One can directly load this into Jupyter to interactively work with the following code examples.\n",
    "\n",
    "Note: First, BoSSS has to be loaded into the Jupyter kernel. Note:\n",
    "In the following line, the reference to `BoSSSpad.dll` is required. \n",
    "One must either set `#r \"BoSSSpad.dll\"` to something which is appropirate for the current computer\n",
    "(e.g. `C:\\Program Files (x86)\\FDY\\BoSSS\\bin\\Release\\net5.0\\BoSSSpad.dll` if working with the binary distribution), \n",
    "or, if one is working with the source code, one must compile `BoSSSpad`\n",
    "and put it side-by-side to this worksheet file \n",
    "(from the original location in the repository, one can use the scripts `getbossspad.sh`, resp. `getbossspad.bat`).\n"
   ]
  },
  {
   "cell_type": "code",
   "execution_count": null,
   "metadata": {
    "dotnet_interactive": {
     "language": "csharp"
    }
   },
   "outputs": [],
   "source": [
    "//#r \"../../src/L4-application/BoSSSpad/bin/Release/net5.0/BoSSSpad.dll\"\n",
    "//#r \"../../src/L4-application/BoSSSpad/bin/Debug/net5.0/BoSSSpad.dll\"\n",
    "#r \"BoSSSpad.dll\"\n",
    "using System;\n",
    "using System.Collections.Generic;\n",
    "using System.Linq;\n",
    "using ilPSP;\n",
    "using ilPSP.Utils;\n",
    "using BoSSS.Platform;\n",
    "using BoSSS.Foundation;\n",
    "using BoSSS.Foundation.XDG;\n",
    "using BoSSS.Foundation.Grid;\n",
    "using BoSSS.Foundation.Grid.Classic;\n",
    "using BoSSS.Foundation.IO;\n",
    "using BoSSS.Solution;\n",
    "using BoSSS.Solution.Control;\n",
    "using BoSSS.Solution.GridImport;\n",
    "using BoSSS.Solution.Statistic;\n",
    "using BoSSS.Solution.Utils;\n",
    "using BoSSS.Solution.AdvancedSolvers;\n",
    "using BoSSS.Solution.Gnuplot;\n",
    "using BoSSS.Application.BoSSSpad;\n",
    "using BoSSS.Application.XNSE_Solver;\n",
    "using static BoSSS.Application.BoSSSpad.BoSSSshell;\n",
    "Init();"
   ]
  },
  {
   "cell_type": "markdown",
   "metadata": {},
   "source": [
    "## Initialization tasks"
   ]
  },
  {
   "cell_type": "markdown",
   "metadata": {},
   "source": [
    "Loading the `XNSE_Solver` and additional namespace:"
   ]
  },
  {
   "cell_type": "code",
   "execution_count": null,
   "metadata": {
    "dotnet_interactive": {
     "language": "csharp"
    }
   },
   "outputs": [],
   "source": [
    "using BoSSS.Application.XNSE_Solver;\n",
    "using BoSSS.Application.XNSE_Solver.PhysicalBasedTestcases;\n",
    "using BoSSS.Solution.NSECommon;\n",
    "using BoSSS.Solution.XNSECommon;\n",
    "using BoSSS.Solution.LevelSetTools.SolverWithLevelSetUpdater;\n",
    "using NUnit.Framework;\n",
    "using BoSSS.Application.XNSE_Solver.Logging;\n",
    "using BoSSS.Solution.LevelSetTools;\n",
    "using BoSSS.Solution.XdgTimestepping;\n",
    "using BoSSS.Solution.Timestepping;"
   ]
  },
  {
   "cell_type": "markdown",
   "metadata": {},
   "source": [
    "Initialization of the Workflow management; there `OscillatingDroplet3D` is the project name which is used name all computations (aka. sessions):"
   ]
  },
  {
   "cell_type": "code",
   "execution_count": null,
   "metadata": {
    "dotnet_interactive": {
     "language": "csharp"
    }
   },
   "outputs": [
    {
     "name": "stdout",
     "output_type": "stream",
     "text": [
      "Project name is set to 'OscillatingDroplet3D'.\r\n",
      "Opening existing database 'D:\\local\\OscillatingDroplet3D'.\r\n"
     ]
    }
   ],
   "source": [
    "BoSSSshell.WorkflowMgm.Init(\"OscillatingDroplet3D\");"
   ]
  },
  {
   "cell_type": "markdown",
   "metadata": {},
   "source": [
    "Overview on the available *Execution Queues* (aka. *Batch Processors*, aka. *Batch System*); these e.g. Linux HPC clusters on which compute jobs can be executed."
   ]
  },
  {
   "cell_type": "code",
   "execution_count": null,
   "metadata": {
    "dotnet_interactive": {
     "language": "csharp"
    }
   },
   "outputs": [
    {
     "data": {
      "text/html": [
       "<table><thead><tr><th><i>index</i></th><th><i>type</i></th><th>DeploymentBaseDirectory</th><th>DeployRuntime</th><th>Name</th><th>DotnetRuntime</th><th>BatchInstructionDir</th><th>AllowedDatabasesPaths</th><th>Username</th><th>ServerName</th><th>ComputeNodes</th><th>DefaultJobPriority</th><th>SingleNode</th></tr></thead><tbody><tr><td>0</td><td>BoSSS.Application.BoSSSpad.MiniBatchProcessorClient</td><td>D:\\local\\binaries</td><td>False</td><td>LocalPC</td><td>dotnet</td><td><div class=\"dni-plaintext\">&lt;null&gt;</div></td><td>[ D:\\local\\ ==  ]</td><td></td><td></td><td></td><td></td><td></td></tr><tr><td>1</td><td>BoSSS.Application.BoSSSpad.MsHPC2012Client</td><td>\\\\hpccluster\\hpccluster-scratch\\smuda\\binaries</td><td>False</td><td>FDY-WindowsHPC</td><td>dotnet</td><td></td><td>[ \\\\hpccluster\\hpccluster-scratch\\smuda\\ ==  ]</td><td>FDY\\smuda</td><td>DC2</td><td><div class=\"dni-plaintext\">&lt;null&gt;</div></td><td>Normal</td><td>True</td></tr></tbody></table>"
      ]
     },
     "metadata": {},
     "output_type": "display_data"
    }
   ],
   "source": [
    "ExecutionQueues"
   ]
  },
  {
   "cell_type": "markdown",
   "metadata": {},
   "source": [
    "For this example (which is part of the BoSSS validation tests), a *default queue* is selected to run all jobs in the convergence study:"
   ]
  },
  {
   "cell_type": "code",
   "execution_count": null,
   "metadata": {
    "dotnet_interactive": {
     "language": "csharp"
    }
   },
   "outputs": [
    {
     "data": {
      "text/html": [
       "<table><thead><tr><th>DeploymentBaseDirectory</th><th>DeployRuntime</th><th>Name</th><th>DotnetRuntime</th><th>BatchInstructionDir</th><th>AllowedDatabasesPaths</th></tr></thead><tbody><tr><td><div class=\"dni-plaintext\">D:\\local\\binaries</div></td><td><div class=\"dni-plaintext\">False</div></td><td><div class=\"dni-plaintext\">LocalPC</div></td><td><div class=\"dni-plaintext\">dotnet</div></td><td><div class=\"dni-plaintext\">&lt;null&gt;</div></td><td><div class=\"dni-plaintext\">[ D:\\local\\ ==  ]</div></td></tr></tbody></table>"
      ]
     },
     "metadata": {},
     "output_type": "display_data"
    }
   ],
   "source": [
    "//var myBatch = ExecutionQueues[0];\n",
    "var myBatch = GetDefaultQueue();\n",
    "myBatch"
   ]
  },
  {
   "cell_type": "markdown",
   "metadata": {},
   "source": [
    "A switch for running the worksheet locally (since we have a folder structure for the data, which is not copied on Jenkins for testing)"
   ]
  },
  {
   "cell_type": "code",
   "execution_count": null,
   "metadata": {
    "dotnet_interactive": {
     "language": "csharp"
    }
   },
   "outputs": [],
   "source": [
    "bool NunitTest = true;"
   ]
  },
  {
   "cell_type": "code",
   "execution_count": null,
   "metadata": {
    "dotnet_interactive": {
     "language": "csharp"
    }
   },
   "outputs": [],
   "source": [
    "//foreach(var s in wmg.Sessions)\n",
    "//    s.Delete(true);"
   ]
  },
  {
   "cell_type": "markdown",
   "metadata": {},
   "source": [
    "## Verification of Initial Value data"
   ]
  },
  {
   "cell_type": "markdown",
   "metadata": {},
   "source": [
    "Initial values and parameters for the simulation (intial droplet shape, Ohnesorg number, initial velocity)\n",
    "were specified by project partner (TU Graz, Group Prof. Brenn).\n",
    "Details can be found in Document `setup.pdf`, to be found in the same directory as this worksheet.\n",
    "\n",
    "First, it is verified that the initial values chosen here actually match the specification."
   ]
  },
  {
   "cell_type": "code",
   "execution_count": null,
   "metadata": {
    "dotnet_interactive": {
     "language": "csharp"
    }
   },
   "outputs": [
    {
     "name": "stdout",
     "output_type": "stream",
     "text": [
      "case 1: m2_Oh01_eta04\r\n",
      "case 2: m2_Oh01_eta02\r\n",
      "case 3: m2_Oh01_eta01\r\n",
      "case 4: m3_Oh01_eta04\r\n",
      "case 5: m4_Oh01_eta04\r\n",
      "case 6: m4_Oh01_eta01\r\n",
      "case 7: m4_Oh056_eta005\r\n"
     ]
    },
    {
     "data": {
      "text/html": [
       "<div class=\"dni-plaintext\">7</div>"
      ]
     },
     "metadata": {},
     "output_type": "display_data"
    }
   ],
   "source": [
    "//MultidimensionalArray[] ReferenceData = new MultidimensionalArray[5];\n",
    "int[] modes = new int[] { 2, 3, 4 };\n",
    "List<string> cases = new List<string>();\n",
    "int nCase = 0;\n",
    "// add simulations for mode 2\n",
    "if(modes.Contains(2)) {\n",
    "    cases.Add(\"m2_Oh01_eta04\");\n",
    "    Console.WriteLine($\"case {nCase+1}: {cases[nCase]}\");\n",
    "    nCase++;\n",
    "    cases.Add(\"m2_Oh01_eta02\");\n",
    "    Console.WriteLine($\"case {nCase+1}: {cases[nCase]}\");\n",
    "    nCase++;\n",
    "    cases.Add(\"m2_Oh01_eta01\");\n",
    "    Console.WriteLine($\"case {nCase+1}: {cases[nCase]}\");\n",
    "    nCase++;\n",
    "}\n",
    "// add simulations for mode 3\n",
    "if(modes.Contains(3)) {\n",
    "    cases.Add(\"m3_Oh01_eta04\");\n",
    "    Console.WriteLine($\"case {nCase+1}: {cases[nCase]}\");\n",
    "    nCase++;\n",
    "    // cases.Add(\"m3_Oh01_eta015\");\n",
    "    // Console.WriteLine($\"case {nCase+1}: {cases[nCase]}\");\n",
    "    // nCase++;\n",
    "}\n",
    "// add simulations for mode 4\n",
    "if(modes.Contains(4)) {\n",
    "    cases.Add(\"m4_Oh01_eta04\");\n",
    "    Console.WriteLine($\"case {nCase+1}: {cases[nCase]}\");\n",
    "    nCase++;\n",
    "    cases.Add(\"m4_Oh01_eta01\");\n",
    "    Console.WriteLine($\"case {nCase+1}: {cases[nCase]}\");\n",
    "    nCase++;\n",
    "    cases.Add(\"m4_Oh056_eta005\");\n",
    "    Console.WriteLine($\"case {nCase+1}: {cases[nCase]}\");\n",
    "    nCase++;\n",
    "}\n",
    "int numCases = cases.Count;\n",
    "numCases"
   ]
  },
  {
   "cell_type": "markdown",
   "metadata": {},
   "source": [
    "Load reference data for all cases; These files contain two columns, i.e. the azimuth angle and the respective droplet radius."
   ]
  },
  {
   "cell_type": "code",
   "execution_count": null,
   "metadata": {
    "dotnet_interactive": {
     "language": "csharp"
    }
   },
   "outputs": [],
   "source": [
    "MultidimensionalArray[] ReferenceData = new MultidimensionalArray[numCases];\n",
    "for(int iCase = 0; iCase < numCases; iCase++) {\n",
    "    if(!NunitTest)  \n",
    "        ReferenceData[iCase] = IMatrixExtensions.LoadFromTextFile($\"data/InitialValues/{cases[iCase].Substring(0,2)}/surfaceDrop_{cases[iCase]}.txt\");\n",
    "    else\n",
    "        ReferenceData[iCase] = IMatrixExtensions.LoadFromTextFile($\"surfaceDrop_{cases[iCase]}.txt\");\n",
    "}"
   ]
  },
  {
   "cell_type": "markdown",
   "metadata": {},
   "source": [
    "Analytical expressions for the reference data (see `setup.pdf`); this is to verify that the definition of Legendre\n",
    "Functions resp. Polynomials in BoSSS actually matches the definition used by the TU Graz group."
   ]
  },
  {
   "cell_type": "code",
   "execution_count": null,
   "metadata": {
    "dotnet_interactive": {
     "language": "csharp"
    }
   },
   "outputs": [],
   "source": [
    "Dictionary<string, Func<double, double>> casesRadius = new Dictionary<string, Func<double, double>>();"
   ]
  },
  {
   "cell_type": "code",
   "execution_count": null,
   "metadata": {
    "dotnet_interactive": {
     "language": "csharp"
    }
   },
   "outputs": [],
   "source": [
    "double caseR_m2eta04(double angle) {\n",
    "   double radius = 0.966781 + 0.4*SphericalHarmonics.MyLegendre(2,0,Math.Cos(angle));\n",
    "   return radius; \n",
    "}\n",
    "casesRadius.Add(\"m2_Oh01_eta04\", caseR_m2eta04);"
   ]
  },
  {
   "cell_type": "code",
   "execution_count": null,
   "metadata": {
    "dotnet_interactive": {
     "language": "csharp"
    }
   },
   "outputs": [],
   "source": [
    "double caseR_m2eta02(double angle) {\n",
    "   double radius = 0.991848 + 0.2*SphericalHarmonics.MyLegendre(2,0,Math.Cos(angle));\n",
    "   return radius; \n",
    "}\n",
    "casesRadius.Add(\"m2_Oh01_eta02\", caseR_m2eta02);"
   ]
  },
  {
   "cell_type": "code",
   "execution_count": null,
   "metadata": {
    "dotnet_interactive": {
     "language": "csharp"
    }
   },
   "outputs": [],
   "source": [
    "double caseR_m2eta01(double angle) {\n",
    "   double radius = 0.997981 + 0.1*SphericalHarmonics.MyLegendre(2,0,Math.Cos(angle));\n",
    "   return radius; \n",
    "}\n",
    "casesRadius.Add(\"m2_Oh01_eta01\", caseR_m2eta01);"
   ]
  },
  {
   "cell_type": "code",
   "execution_count": null,
   "metadata": {
    "dotnet_interactive": {
     "language": "csharp"
    }
   },
   "outputs": [],
   "source": [
    "double caseR_m3eta04(double angle) {\n",
    "    double radius = 0.977143 + 0.4*SphericalHarmonics.MyLegendre(3,0,Math.Cos(angle));\n",
    "    return radius; \n",
    "}\n",
    "casesRadius.Add(\"m3_Oh01_eta04\", caseR_m3eta04);"
   ]
  },
  {
   "cell_type": "code",
   "execution_count": null,
   "metadata": {
    "dotnet_interactive": {
     "language": "csharp"
    }
   },
   "outputs": [],
   "source": [
    "double caseR_m3eta015(double angle) {\n",
    "    double radius = 0.996786 + 0.15*SphericalHarmonics.MyLegendre(3,0,Math.Cos(angle));\n",
    "    return radius; \n",
    "}\n",
    "casesRadius.Add(\"m3_Oh01_eta015\", caseR_m3eta015);"
   ]
  },
  {
   "cell_type": "code",
   "execution_count": null,
   "metadata": {
    "dotnet_interactive": {
     "language": "csharp"
    }
   },
   "outputs": [
    {
     "ename": "Error",
     "evalue": "System.ArgumentException: An item with the same key has already been added. Key: m4_Oh01_eta04\r\n   at System.Collections.Generic.Dictionary`2.TryInsert(TKey key, TValue value, InsertionBehavior behavior)\r\n   at System.Collections.Generic.Dictionary`2.Add(TKey key, TValue value)\r\n   at Submission#59.<<Initialize>>d__0.MoveNext()\r\n--- End of stack trace from previous location ---\r\n   at Microsoft.CodeAnalysis.Scripting.ScriptExecutionState.RunSubmissionsAsync[TResult](ImmutableArray`1 precedingExecutors, Func`2 currentExecutor, StrongBox`1 exceptionHolderOpt, Func`2 catchExceptionOpt, CancellationToken cancellationToken)",
     "output_type": "error",
     "traceback": [
      "System.ArgumentException: An item with the same key has already been added. Key: m4_Oh01_eta04\r\n",
      "   at System.Collections.Generic.Dictionary`2.TryInsert(TKey key, TValue value, InsertionBehavior behavior)\r\n",
      "   at System.Collections.Generic.Dictionary`2.Add(TKey key, TValue value)\r\n",
      "   at Submission#59.<<Initialize>>d__0.MoveNext()\r\n",
      "--- End of stack trace from previous location ---\r\n",
      "   at Microsoft.CodeAnalysis.Scripting.ScriptExecutionState.RunSubmissionsAsync[TResult](ImmutableArray`1 precedingExecutors, Func`2 currentExecutor, StrongBox`1 exceptionHolderOpt, Func`2 catchExceptionOpt, CancellationToken cancellationToken)"
     ]
    }
   ],
   "source": [
    "double caseR_m4eta04(double angle) {\n",
    "    double radius = 0.981839 + 0.4*SphericalHarmonics.MyLegendre(4,0,Math.Cos(angle));\n",
    "    return radius; \n",
    "}\n",
    "casesRadius.Add(\"m4_Oh01_eta04\", caseR_m4eta04);"
   ]
  },
  {
   "cell_type": "code",
   "execution_count": null,
   "metadata": {
    "dotnet_interactive": {
     "language": "csharp"
    }
   },
   "outputs": [],
   "source": [
    "double caseR_m4eta01(double angle) {\n",
    "    double radius = 0.998883 + 0.1*SphericalHarmonics.MyLegendre(4,0,Math.Cos(angle));\n",
    "    return radius; \n",
    "}\n",
    "casesRadius.Add(\"m4_Oh01_eta01\", caseR_m4eta01);"
   ]
  },
  {
   "cell_type": "code",
   "execution_count": null,
   "metadata": {
    "dotnet_interactive": {
     "language": "csharp"
    }
   },
   "outputs": [],
   "source": [
    "double caseR_m4eta005(double angle) {\n",
    "    double radius = 0.999721 + 0.05*SphericalHarmonics.MyLegendre(4,0,Math.Cos(angle));\n",
    "    return radius; \n",
    "}\n",
    "casesRadius.Add(\"m4_Oh056_eta005\", caseR_m4eta005);"
   ]
  },
  {
   "cell_type": "markdown",
   "metadata": {},
   "source": [
    "Conversion to cartesian coordinates in order to match the data and verification against analytical expression:"
   ]
  },
  {
   "cell_type": "code",
   "execution_count": null,
   "metadata": {
    "dotnet_interactive": {
     "language": "csharp"
    }
   },
   "outputs": [
    {
     "name": "stdout",
     "output_type": "stream",
     "text": [
      "Comparison error for radius in case 1: 8.451542560852182E-07\r\n",
      "Comparison error for radius in case 2: 6.761234036477466E-06\r\n",
      "Comparison error for radius in case 3: 8.464947065400347E-07\r\n",
      "Comparison error for radius in case 4: 2.5354627647025936E-06\r\n",
      "Comparison error for radius in case 5: 6.9956707656638065E-06\r\n",
      "Comparison error for radius in case 6: 1.8686025685177474E-06\r\n",
      "Comparison error for radius in case 7: 8.39441090790297E-06\r\n"
     ]
    }
   ],
   "source": [
    "double[][] refX = new double[numCases][];\n",
    "double[][] refZ = new double[numCases][];\n",
    "for(int iCase = 0; iCase < numCases; iCase++) {\n",
    "    double[] angle = ReferenceData[iCase].GetColumn(0);\n",
    "    double[] radius = ReferenceData[iCase].GetColumn(1);\n",
    "       \n",
    "    double RadiusErrorNorm = 0.0;\n",
    "    int I = angle.Length;\n",
    "    double[] x1 = new double[I], z1 = new double[I];\n",
    "    for(int i = 0; i < I; i++) {\n",
    "        x1[i] = Math.Sin(angle[i])*radius[i];\n",
    "        z1[i] = Math.Cos(angle[i])*radius[i];\n",
    "        \n",
    "        double radius_expr = casesRadius[cases[iCase]](angle[i]);\n",
    "        RadiusErrorNorm += (radius[i] - radius_expr).Pow2();\n",
    "    }\n",
    "    RadiusErrorNorm = RadiusErrorNorm.Sqrt();\n",
    "    Console.WriteLine($\"Comparison error for radius in case {iCase + 1}: {RadiusErrorNorm}\");\n",
    "    // Note: since the factors in `setup.pdf` are only provided up to 6 digits, an error threshold of 1e-5 seems reasonable.\n",
    "    Assert.LessOrEqual(RadiusErrorNorm, 1e-5, \"Error in comparing reference data against Legendre polynomials in BoSSS\");\n",
    "    \n",
    "    refX[iCase] = x1;\n",
    "    refZ[iCase] = z1;\n",
    "}"
   ]
  },
  {
   "cell_type": "markdown",
   "metadata": {},
   "source": [
    "### Plot of Reference Data"
   ]
  },
  {
   "cell_type": "code",
   "execution_count": null,
   "metadata": {
    "dotnet_interactive": {
     "language": "csharp"
    }
   },
   "outputs": [],
   "source": [
    "// Plot(refX[0], refZ[0], \"Ref-Case1\", \".x blue\", \n",
    "//      refX[1], refZ[1], \"Ref-Case2\", \".o red\",\n",
    "//      refX[2], refZ[2], \"Ref-Case3\", \".+ green\",\n",
    "//      refX[3], refZ[3], \"Ref-Case4\", \".* magenta\",\n",
    "//      refX[4], refZ[4], \"Ref-Case5\", \".^ grey\")"
   ]
  },
  {
   "cell_type": "markdown",
   "metadata": {},
   "source": [
    "### Matching of the Spherical Harmonics against the provided Data"
   ]
  },
  {
   "cell_type": "code",
   "execution_count": null,
   "metadata": {
    "dotnet_interactive": {
     "language": "csharp"
    }
   },
   "outputs": [],
   "source": [
    "Dictionary<string, Formula> casesPhi = new Dictionary<string, Formula>();"
   ]
  },
  {
   "cell_type": "code",
   "execution_count": null,
   "metadata": {
    "dotnet_interactive": {
     "language": "csharp"
    }
   },
   "outputs": [],
   "source": [
    "var Phi_m2eta04_Init = new Formula(\n",
    "\"Phi1\",\n",
    "false,\n",
    "\"using ilPSP.Utils; \" + \n",
    "\"double Phi1(double[] X) { \" + \n",
    "\"    (double theta, double phi) = SphericalHarmonics.GetAngular(X); \" + \n",
    "\"    double R =    0.966781*SphericalHarmonics.MyRealSpherical(0, 0, theta, phi) \" + \n",
    "\"                +      0.4*SphericalHarmonics.MyRealSpherical(2, 0, theta, phi); \" + \n",
    "\"    return X.L2Norm() - R; \" + \n",
    "\"}\");\n",
    "casesPhi.Add(\"m2_Oh01_eta04\", Phi_m2eta04_Init);"
   ]
  },
  {
   "cell_type": "code",
   "execution_count": null,
   "metadata": {
    "dotnet_interactive": {
     "language": "csharp"
    }
   },
   "outputs": [],
   "source": [
    "var Phi_m2eta02_Init = new Formula(\n",
    "\"Phi4\",\n",
    "false,\n",
    "\"using ilPSP.Utils; \" + \n",
    "\"double Phi4(double[] X) { \" + \n",
    "\"    (double theta, double phi) = SphericalHarmonics.GetAngular(X); \" + \n",
    "\"    double R =    0.991848*SphericalHarmonics.MyRealSpherical(0, 0, theta, phi) \" + \n",
    "\"                +      0.2*SphericalHarmonics.MyRealSpherical(2, 0, theta, phi); \" + \n",
    "\"    return X.L2Norm() - R; \" + \n",
    "\"} \");\n",
    "casesPhi.Add(\"m2_Oh01_eta02\", Phi_m2eta02_Init);"
   ]
  },
  {
   "cell_type": "code",
   "execution_count": null,
   "metadata": {
    "dotnet_interactive": {
     "language": "csharp"
    }
   },
   "outputs": [],
   "source": [
    "var Phi_m2eta01_Init = new Formula(\n",
    "\"Phi4\",\n",
    "false,\n",
    "\"using ilPSP.Utils; \" + \n",
    "\"double Phi4(double[] X) { \" + \n",
    "\"    (double theta, double phi) = SphericalHarmonics.GetAngular(X); \" + \n",
    "\"    double R =    0.997981*SphericalHarmonics.MyRealSpherical(0, 0, theta, phi) \" + \n",
    "\"                +      0.1*SphericalHarmonics.MyRealSpherical(2, 0, theta, phi); \" + \n",
    "\"    return X.L2Norm() - R; \" + \n",
    "\"} \");\n",
    "casesPhi.Add(\"m2_Oh01_eta01\", Phi_m2eta01_Init);"
   ]
  },
  {
   "cell_type": "code",
   "execution_count": null,
   "metadata": {
    "dotnet_interactive": {
     "language": "csharp"
    }
   },
   "outputs": [],
   "source": [
    "var Phi_m3eta04_Init = new Formula(\n",
    "\"Phi2\",\n",
    "false,\n",
    "\"using ilPSP.Utils; \" + \n",
    "\"double Phi2(double[] X) { \" + \n",
    "\"    (double theta, double phi) = SphericalHarmonics.GetAngular(X); \" + \n",
    "\"    double R =    0.977143*SphericalHarmonics.MyRealSpherical(0, 0, theta, phi) \" + \n",
    "\"                +      0.4*SphericalHarmonics.MyRealSpherical(3, 0, theta, phi); \" + \n",
    "\"    return X.L2Norm() - R; \" + \n",
    "\"} \");\n",
    "casesPhi.Add(\"m3_Oh01_eta04\", Phi_m3eta04_Init);"
   ]
  },
  {
   "cell_type": "code",
   "execution_count": null,
   "metadata": {
    "dotnet_interactive": {
     "language": "csharp"
    }
   },
   "outputs": [],
   "source": [
    "var Phi_m3eta015_Init = new Formula(\n",
    "\"Phi2\",\n",
    "false,\n",
    "\"using ilPSP.Utils; \" + \n",
    "\"double Phi2(double[] X) { \" + \n",
    "\"    (double theta, double phi) = SphericalHarmonics.GetAngular(X); \" + \n",
    "\"    double R =    0.996786*SphericalHarmonics.MyRealSpherical(0, 0, theta, phi) \" + \n",
    "\"                +      0.15*SphericalHarmonics.MyRealSpherical(3, 0, theta, phi); \" + \n",
    "\"    return X.L2Norm() - R; \" + \n",
    "\"} \");\n",
    "casesPhi.Add(\"m3_Oh01_eta015\", Phi_m3eta015_Init);"
   ]
  },
  {
   "cell_type": "code",
   "execution_count": null,
   "metadata": {
    "dotnet_interactive": {
     "language": "csharp"
    }
   },
   "outputs": [],
   "source": [
    "var Phi_m4eta04_Init = new Formula(\n",
    "\"Phi3\",\n",
    "false,\n",
    "\"using ilPSP.Utils; \" + \n",
    "\"double Phi3(double[] X) { \" +    \n",
    "\"    (double theta, double phi) = SphericalHarmonics.GetAngular(X); \" + \n",
    "\"    double R =    0.981839*SphericalHarmonics.MyRealSpherical(0, 0, theta, phi) \" + \n",
    "\"                +      0.4*SphericalHarmonics.MyRealSpherical(4, 0, theta, phi); \" + \n",
    "\"    return X.L2Norm() - R; \" + \n",
    "\"} \");\n",
    "casesPhi.Add(\"m4_Oh01_eta04\", Phi_m4eta04_Init);"
   ]
  },
  {
   "cell_type": "code",
   "execution_count": null,
   "metadata": {
    "dotnet_interactive": {
     "language": "csharp"
    }
   },
   "outputs": [],
   "source": [
    "var Phi_m4eta01_Init = new Formula(\n",
    "\"Phi3\",\n",
    "false,\n",
    "\"using ilPSP.Utils; \" + \n",
    "\"double Phi3(double[] X) { \" +    \n",
    "\"    (double theta, double phi) = SphericalHarmonics.GetAngular(X); \" + \n",
    "\"    double R =    0.998883*SphericalHarmonics.MyRealSpherical(0, 0, theta, phi) \" + \n",
    "\"                +      0.1*SphericalHarmonics.MyRealSpherical(4, 0, theta, phi); \" + \n",
    "\"    return X.L2Norm() - R; \" + \n",
    "\"} \");\n",
    "casesPhi.Add(\"m4_Oh01_eta01\", Phi_m4eta01_Init);"
   ]
  },
  {
   "cell_type": "code",
   "execution_count": null,
   "metadata": {
    "dotnet_interactive": {
     "language": "csharp"
    }
   },
   "outputs": [],
   "source": [
    "var Phi_m4eta005_Init = new Formula(\n",
    "\"Phi5\",\n",
    "false,\n",
    "\"using ilPSP.Utils; \" + \n",
    "\"double Phi5(double[] X) { \" + \n",
    "\"    (double theta, double phi) = SphericalHarmonics.GetAngular(X); \" + \n",
    "\"    double R =    0.999721*SphericalHarmonics.MyRealSpherical(0, 0, theta, phi) \" + \n",
    "\"                +      0.05*SphericalHarmonics.MyRealSpherical(4, 0, theta, phi); \" + \n",
    "\"    return X.L2Norm() - R; \" + \n",
    "\"} \");\n",
    "casesPhi.Add(\"m4_Oh056_eta005\", Phi_m4eta005_Init);"
   ]
  },
  {
   "cell_type": "code",
   "execution_count": null,
   "metadata": {
    "dotnet_interactive": {
     "language": "csharp"
    }
   },
   "outputs": [],
   "source": [
    "// IBoundaryAndInitialData[] Phi_iCase = new IBoundaryAndInitialData[]  { Phi1Init, Phi2Init, Phi3Init, Phi4Init, Phi5Init};"
   ]
  },
  {
   "cell_type": "code",
   "execution_count": null,
   "metadata": {
    "dotnet_interactive": {
     "language": "csharp"
    }
   },
   "outputs": [
    {
     "name": "stdout",
     "output_type": "stream",
     "text": [
      "Phi error for case 0: 2.0650148258027912E-14\r\n",
      "Phi error for case 1: 1.532107773982716E-14\r\n",
      "Phi error for case 2: 1.0880185641326534E-14\r\n",
      "Phi error for case 3: 2.2315482794965646E-14\r\n",
      "Phi error for case 4: 3.530509218307998E-14\r\n",
      "Phi error for case 5: 1.454392162258955E-14\r\n",
      "Phi error for case 6: 1.2545520178264269E-14\r\n"
     ]
    }
   ],
   "source": [
    "for(int iCase = 0; iCase < numCases; iCase++) {\n",
    "    double[] angle = ReferenceData[iCase].GetColumn(0);\n",
    "    //double[] xI = refX[iCase];   \n",
    "    //double[] zI = refZ[iCase];\n",
    "    int I = angle.Length;\n",
    "    \n",
    "    double PhiErr = 0;\n",
    "    for(int i = 0; i < I; i++) {\n",
    "        double radius_expr = casesRadius[cases[iCase]](angle[i]);    \n",
    "        double x1 = Math.Sin(angle[i])*radius_expr;\n",
    "        double z1 = Math.Cos(angle[i])*radius_expr;\n",
    "    \n",
    "        PhiErr += casesPhi[cases[iCase]].Evaluate(new Vector(x1, 0, z1), 0.0).Abs();\n",
    "    }\n",
    "    Console.WriteLine($\"Phi error for case {iCase}: {PhiErr}\");\n",
    "    Assert.LessOrEqual(PhiErr, 1e-10, \"Level-Set function is not zero at desired surface.\");\n",
    "    \n",
    "    Assert.IsTrue(casesPhi[cases[iCase]].Evaluate(new Vector(1e-5, 1e-5, 1e-5), 0.0) < 0, \"Inside must be phase A/negative\");\n",
    "    Assert.IsTrue(casesPhi[cases[iCase]].Evaluate(new Vector(1e+1, 1e+1, 1e+1), 0.0) > 0, \"Outside must be phase B/positive\");\n",
    "}"
   ]
  },
  {
   "cell_type": "markdown",
   "metadata": {},
   "source": [
    "### Initial Velocities"
   ]
  },
  {
   "cell_type": "code",
   "execution_count": null,
   "metadata": {
    "dotnet_interactive": {
     "language": "csharp"
    }
   },
   "outputs": [],
   "source": [
    "//var anaVel = new IBoundaryAndInitialData[numCases,3];\n",
    "Dictionary<string, (IBoundaryAndInitialData velX, IBoundaryAndInitialData velY, IBoundaryAndInitialData velZ)> analyticVel = new Dictionary<string, (IBoundaryAndInitialData velX, IBoundaryAndInitialData velY, IBoundaryAndInitialData velZ)>();\n",
    "\n",
    "for(int iCase = 0; iCase < numCases; iCase++) {\n",
    "    MultidimensionalArray polVel;\n",
    "    MultidimensionalArray radVel;\n",
    "    if (!NunitTest) {\n",
    "        polVel = IMatrixExtensions.LoadFromTextFile($\"data/InitialValues/{cases[iCase].Substring(0,2)}/polarVel_{cases[iCase]}.txt\");\n",
    "        radVel = IMatrixExtensions.LoadFromTextFile($\"data/InitialValues/{cases[iCase].Substring(0,2)}/radialVel_{cases[iCase]}.txt\");\n",
    "    } else {\n",
    "        polVel = IMatrixExtensions.LoadFromTextFile($\"polarVel_{cases[iCase]}.txt\");\n",
    "        radVel = IMatrixExtensions.LoadFromTextFile($\"radialVel_{cases[iCase]}.txt\");\n",
    "    }\n",
    "    Assert.IsTrue(ilPSP.Utils.ArrayTools.ListEquals(polVel.GetColumn(0), radVel.GetColumn(0)));\n",
    "    Assert.IsTrue(ilPSP.Utils.ArrayTools.ListEquals(polVel.GetColumn(1), radVel.GetColumn(1)));\n",
    "    \n",
    "    double[] radiusS = polVel.GetColumn(0);\n",
    "    double[] anglesS = polVel.GetColumn(1);\n",
    "    double[] polVelS = polVel.GetColumn(2);\n",
    "    double[] radVelS = radVel.GetColumn(2);\n",
    "    \n",
    "    var velX = new BoSSS.Application.XNSE_Solver.SpecificSolutions.PolarAxiallySymmetricInitialValues() { VelocityComponent = 0 };\n",
    "    velX.SetData(anglesS, radiusS, polVelS, radVelS);\n",
    "    var velY = new BoSSS.Application.XNSE_Solver.SpecificSolutions.PolarAxiallySymmetricInitialValues() { VelocityComponent = 1 };\n",
    "    velY.SetData(anglesS, radiusS, polVelS, radVelS);\n",
    "    var velZ = new BoSSS.Application.XNSE_Solver.SpecificSolutions.PolarAxiallySymmetricInitialValues() { VelocityComponent = 2 };\n",
    "    velZ.SetData(anglesS, radiusS, polVelS, radVelS);\n",
    "    \n",
    "    // anaVel[iCase, 0] = velX;\n",
    "    // anaVel[iCase, 1] = velY;\n",
    "    // anaVel[iCase, 2] = velZ;\n",
    "    analyticVel.Add(cases[iCase], (velX, velY, velZ));\n",
    "}"
   ]
  },
  {
   "cell_type": "code",
   "execution_count": null,
   "metadata": {
    "dotnet_interactive": {
     "language": "csharp"
    }
   },
   "outputs": [],
   "source": [
    "// var anaVel = new IBoundaryAndInitialData[3,3];\n",
    "\n",
    "// MultidimensionalArray polVel;\n",
    "// MultidimensionalArray radVel;\n",
    "// if (!NunitTest) {\n",
    "//     polVel = IMatrixExtensions.LoadFromTextFile($\"data/InitialValues/polarVelCase1.txt\");\n",
    "//     radVel = IMatrixExtensions.LoadFromTextFile($\"data/InitialValues/radialVelCase1.txt\");\n",
    "// } else {\n",
    "//     polVel = IMatrixExtensions.LoadFromTextFile($\"polarVelCase1.txt\");\n",
    "//     radVel = IMatrixExtensions.LoadFromTextFile($\"radialVelCase1.txt\");\n",
    "// }\n",
    "// Assert.IsTrue(ilPSP.Utils.ArrayTools.ListEquals(polVel.GetColumn(0), radVel.GetColumn(0)));\n",
    "// Assert.IsTrue(ilPSP.Utils.ArrayTools.ListEquals(polVel.GetColumn(1), radVel.GetColumn(1)));\n",
    "\n",
    "// double[] radiusS = polVel.GetColumn(0);\n",
    "// double[] anglesS = polVel.GetColumn(1);\n",
    "// double[] polVelS = polVel.GetColumn(2);\n",
    "// double[] radVelS = radVel.GetColumn(2);\n",
    "\n",
    "// polVelS.ScaleV(-1.0);\n",
    "// var velX = new BoSSS.Application.XNSE_Solver.SpecificSolutions.PolarAxiallySymmetricInitialValues() { VelocityComponent = 0 };\n",
    "// velX.SetData(anglesS, radiusS, polVelS, radVelS);\n",
    "// var velY = new BoSSS.Application.XNSE_Solver.SpecificSolutions.PolarAxiallySymmetricInitialValues() { VelocityComponent = 1 };\n",
    "// velY.SetData(anglesS, radiusS, polVelS, radVelS);\n",
    "// var velZ = new BoSSS.Application.XNSE_Solver.SpecificSolutions.PolarAxiallySymmetricInitialValues() { VelocityComponent = 2 };\n",
    "// velZ.SetData(anglesS, radiusS, polVelS, radVelS);\n",
    "\n",
    "// anaVel[0, 0] = velX;\n",
    "// anaVel[0, 1] = velY;\n",
    "// anaVel[0, 2] = velZ;\n",
    "// polVelS = polVel.GetColumn(2);\n",
    "\n",
    "// radVelS.ScaleV(-1.0);\n",
    "// velX = new BoSSS.Application.XNSE_Solver.SpecificSolutions.PolarAxiallySymmetricInitialValues() { VelocityComponent = 0 };\n",
    "// velX.SetData(anglesS, radiusS, polVelS, radVelS);\n",
    "// velY = new BoSSS.Application.XNSE_Solver.SpecificSolutions.PolarAxiallySymmetricInitialValues() { VelocityComponent = 1 };\n",
    "// velY.SetData(anglesS, radiusS, polVelS, radVelS);\n",
    "// velZ = new BoSSS.Application.XNSE_Solver.SpecificSolutions.PolarAxiallySymmetricInitialValues() { VelocityComponent = 2 };\n",
    "// velZ.SetData(anglesS, radiusS, polVelS, radVelS);\n",
    "\n",
    "// anaVel[1, 0] = velX;\n",
    "// anaVel[1, 1] = velY;\n",
    "// anaVel[1, 2] = velZ;\n",
    "\n",
    "// polVelS.ScaleV(-1.0);\n",
    "// velX = new BoSSS.Application.XNSE_Solver.SpecificSolutions.PolarAxiallySymmetricInitialValues() { VelocityComponent = 0 };\n",
    "// velX.SetData(anglesS, radiusS, polVelS, radVelS);\n",
    "// velY = new BoSSS.Application.XNSE_Solver.SpecificSolutions.PolarAxiallySymmetricInitialValues() { VelocityComponent = 1 };\n",
    "// velY.SetData(anglesS, radiusS, polVelS, radVelS);\n",
    "// velZ = new BoSSS.Application.XNSE_Solver.SpecificSolutions.PolarAxiallySymmetricInitialValues() { VelocityComponent = 2 };\n",
    "// velZ.SetData(anglesS, radiusS, polVelS, radVelS);\n",
    "\n",
    "// anaVel[2, 0] = velX;\n",
    "// anaVel[2, 1] = velY;\n",
    "// anaVel[2, 2] = velZ;\n"
   ]
  },
  {
   "cell_type": "markdown",
   "metadata": {},
   "source": [
    "## Grid Creation"
   ]
  },
  {
   "cell_type": "code",
   "execution_count": null,
   "metadata": {
    "dotnet_interactive": {
     "language": "csharp"
    }
   },
   "outputs": [],
   "source": [
    "//foreach(var g in BoSSSshell.WorkflowMgm.Grids)\n",
    "//   g.Delete(true);"
   ]
  },
  {
   "cell_type": "markdown",
   "metadata": {},
   "source": [
    "### Quater-Domain grids\n",
    "(Symmetry planes at $x = 0$ and $y = 0$)"
   ]
  },
  {
   "cell_type": "code",
   "execution_count": null,
   "metadata": {
    "dotnet_interactive": {
     "language": "csharp"
    }
   },
   "outputs": [],
   "source": [
    "Dictionary<string, IGridInfo[]> gridTypes = new Dictionary<string, IGridInfo[]>();"
   ]
  },
  {
   "cell_type": "code",
   "execution_count": null,
   "metadata": {
    "dotnet_interactive": {
     "language": "csharp"
    }
   },
   "outputs": [
    {
     "name": "stdout",
     "output_type": "stream",
     "text": [
      "Opening existing database '\\\\hpccluster\\hpccluster-scratch\\smuda\\OscillatingDroplet3D'.\r\n",
      "Grid Edge Tags changed.\r\n",
      "An equivalent grid (eb0268bd-e30e-4ffd-8b96-9f718b65012a) is already present in the database -- the grid will not be saved.\r\n"
     ]
    }
   ],
   "source": [
    "int[] Resolutions = new int[] { 6 };\n",
    "IGridInfo[] Grids = new IGridInfo[Resolutions.Length];\n",
    "double scale = 1.0;\n",
    "for(int i = 0; i < Resolutions.Length; i++) {\n",
    "    int Res = Resolutions[i];\n",
    "    string GridName = $\"OscillatingDroplet3D_{Res}x{Res}x{2*Res}_wallBC_quarterDomain\";\n",
    "\n",
    "    IGridInfo cachedGrid = wmg.Grids.FirstOrDefault(grid => grid.Name == GridName);\n",
    "    //cachedGrid = null;\n",
    "    if(cachedGrid == null) {\n",
    "        \n",
    "        // must create new Grid\n",
    "        double[] xNodes = GenericBlas.Linspace(0, 3*scale, Res + 1);\n",
    "        double[] yNodes = xNodes;\n",
    "        double[] zNodes = GenericBlas.Linspace(-3*scale, 3*scale, Res*2 + 1);\n",
    "        \n",
    "        var grd = Grid3D.Cartesian3DGrid(xNodes, yNodes, zNodes);\n",
    "        grd.Name = GridName;\n",
    "        \n",
    "        grd.DefineEdgeTags(delegate(Vector X) {\n",
    "            string ret = null;\n",
    "            if(X.x.Abs() <= 1e-8 || X.y.Abs() <= 1.0e-8)\n",
    "                ret = IncompressibleBcType.SlipSymmetry.ToString();\n",
    "            else\n",
    "                ret = IncompressibleBcType.Wall.ToString();\n",
    "            return ret;\n",
    "        });        \n",
    "        \n",
    "        Grids[i] = wmg.SaveGrid(grd);\n",
    "        \n",
    "    } else {\n",
    "        //Console.WriteLine($\"type: {cachedGrid.GetType()}, is IGridInfo? {cachedGrid is IGridInfo}\");\n",
    "        Console.WriteLine(\"Grid already found in database - identifid by name \" + GridName);\n",
    "        Grids[i] = cachedGrid;\n",
    "    }\n",
    "    \n",
    "}\n",
    "gridTypes.Add(\"wallBC\", Grids);"
   ]
  },
  {
   "cell_type": "code",
   "execution_count": null,
   "metadata": {
    "dotnet_interactive": {
     "language": "csharp"
    }
   },
   "outputs": [],
   "source": [
    "// Resolutions = new int[] { 6 };\n",
    "// Grids = new IGridInfo[Resolutions.Length];\n",
    "// scale = 1.0;\n",
    "// for(int i = 0; i < Resolutions.Length; i++) {\n",
    "//     int Res = Resolutions[i];\n",
    "//     string GridName = $\"OscillatingDroplet3D_{Res}x{Res}x{2*Res}_pressureOutletBC_quarterDomain\";\n",
    "\n",
    "//     IGridInfo cachedGrid = wmg.Grids.FirstOrDefault(grid => grid.Name == GridName);\n",
    "//     //cachedGrid = null;\n",
    "//     if(cachedGrid == null) {\n",
    "        \n",
    "//         // must create new Grid\n",
    "//         double[] xNodes = GenericBlas.Linspace(0, 3*scale, Res + 1);\n",
    "//         double[] yNodes = xNodes;\n",
    "//         double[] zNodes = GenericBlas.Linspace(-3*scale, 3*scale, Res*2 + 1);\n",
    "        \n",
    "//         var grd = Grid3D.Cartesian3DGrid(xNodes, yNodes, zNodes);\n",
    "//         grd.Name = GridName;\n",
    "        \n",
    "//         grd.DefineEdgeTags(delegate(Vector X) {\n",
    "//             string ret = null;\n",
    "//             if(X.x.Abs() <= 1e-8 || X.y.Abs() <= 1.0e-8)\n",
    "//                 ret = IncompressibleBcType.SlipSymmetry.ToString();\n",
    "//             else\n",
    "//                 ret = IncompressibleBcType.Pressure_Outlet.ToString();\n",
    "//             return ret;\n",
    "//         });        \n",
    "        \n",
    "//         Grids[i] = wmg.SaveGrid(grd);\n",
    "        \n",
    "//     } else {\n",
    "//         //Console.WriteLine($\"type: {cachedGrid.GetType()}, is IGridInfo? {cachedGrid is IGridInfo}\");\n",
    "//         Console.WriteLine(\"Grid already found in database - identifid by name \" + GridName);\n",
    "//         Grids[i] = cachedGrid;\n",
    "//     }\n",
    "    \n",
    "// }\n",
    "// gridTypes.Add(\"pressureOutletBC\", Grids);"
   ]
  },
  {
   "cell_type": "code",
   "execution_count": null,
   "metadata": {
    "dotnet_interactive": {
     "language": "csharp"
    }
   },
   "outputs": [
    {
     "name": "stdout",
     "output_type": "stream",
     "text": [
      "Grid already found in database - identifid by name OscillatingDroplet3D_8x8x16_pressureOutletBC_quarterDomain\r\n"
     ]
    }
   ],
   "source": [
    "// Resolutions = new int[] { 8 };\n",
    "// Grids = new IGridInfo[Resolutions.Length];\n",
    "// scale = 1.0;\n",
    "// for(int i = 0; i < Resolutions.Length; i++) {\n",
    "//     int Res = Resolutions[i];\n",
    "//     string GridName = $\"OscillatingDroplet3D_{Res}x{Res}x{2*Res}_pressureOutletBC_quarterDomain\";\n",
    "\n",
    "//     IGridInfo cachedGrid = wmg.Grids.FirstOrDefault(grid => grid.Name == GridName);\n",
    "//     //cachedGrid = null;\n",
    "//     if(cachedGrid == null) {\n",
    "        \n",
    "//         // must create new Grid\n",
    "//         double[] xNodes = GenericBlas.Linspace(0, 2*scale, Res + 1);\n",
    "//         double[] yNodes = xNodes;\n",
    "//         double[] zNodes = GenericBlas.Linspace(-2*scale, 2*scale, Res*2 + 1);\n",
    "        \n",
    "//         var grd = Grid3D.Cartesian3DGrid(xNodes, yNodes, zNodes);\n",
    "//         grd.Name = GridName;\n",
    "        \n",
    "//         grd.DefineEdgeTags(delegate(Vector X) {\n",
    "//             string ret = null;\n",
    "//             if(X.x.Abs() <= 1e-8 || X.y.Abs() <= 1.0e-8)\n",
    "//                 ret = IncompressibleBcType.SlipSymmetry.ToString();\n",
    "//             else\n",
    "//                 ret = IncompressibleBcType.Pressure_Outlet.ToString();\n",
    "//             return ret;\n",
    "//         });        \n",
    "        \n",
    "//         Grids[i] = wmg.SaveGrid(grd);\n",
    "        \n",
    "//     } else {\n",
    "//         //Console.WriteLine($\"type: {cachedGrid.GetType()}, is IGridInfo? {cachedGrid is IGridInfo}\");\n",
    "//         Console.WriteLine(\"Grid already found in database - identifid by name \" + GridName);\n",
    "//         Grids[i] = cachedGrid;\n",
    "//     }\n",
    "    \n",
    "// }\n",
    "// gridTypes.Add(\"refinedTest\", Grids);"
   ]
  },
  {
   "cell_type": "code",
   "execution_count": null,
   "metadata": {
    "dotnet_interactive": {
     "language": "csharp"
    }
   },
   "outputs": [
    {
     "data": {
      "text/html": [
       "<table><thead><tr><th><i>key</i></th><th>value</th></tr></thead><tbody><tr><td>wallBC</td><td>[ { Guid = eb0268bd-e30e-4ffd-8b96-9f718b65012a; Name = OscillatingDroplet3D_6x6x12_quarterDomain; Cell Count = 432; Dim = 3 } ]</td></tr></tbody></table>"
      ]
     },
     "metadata": {},
     "output_type": "display_data"
    }
   ],
   "source": [
    "gridTypes"
   ]
  },
  {
   "cell_type": "code",
   "execution_count": null,
   "metadata": {
    "dotnet_interactive": {
     "language": "csharp"
    }
   },
   "outputs": [],
   "source": [
    "//var g = (wmg.Grids[0] as GridProxy).RealGrid;"
   ]
  },
  {
   "cell_type": "code",
   "execution_count": null,
   "metadata": {
    "dotnet_interactive": {
     "language": "csharp"
    }
   },
   "outputs": [],
   "source": [
    "//(g.iGridData as GridData).GlobalBoundingBox"
   ]
  },
  {
   "cell_type": "code",
   "execution_count": null,
   "metadata": {
    "dotnet_interactive": {
     "language": "csharp"
    }
   },
   "outputs": [],
   "source": [
    "//wmg.Sessions[0].Delete(true);"
   ]
  },
  {
   "cell_type": "markdown",
   "metadata": {
    "dotnet_interactive": {
     "language": "csharp"
    }
   },
   "source": [
    "## Setup of control objects for all solver runs"
   ]
  },
  {
   "cell_type": "code",
   "execution_count": null,
   "metadata": {
    "dotnet_interactive": {
     "language": "csharp"
    }
   },
   "outputs": [
    {
     "data": {
      "text/html": [
       "<table><thead><tr><th><i>index</i></th><th>value</th></tr></thead><tbody><tr><td>0</td><td>m2_Oh01_eta04</td></tr><tr><td>1</td><td>m2_Oh01_eta02</td></tr><tr><td>2</td><td>m2_Oh01_eta01</td></tr><tr><td>3</td><td>m3_Oh01_eta04</td></tr><tr><td>4</td><td>m4_Oh01_eta04</td></tr><tr><td>5</td><td>m4_Oh01_eta01</td></tr><tr><td>6</td><td>m4_Oh056_eta005</td></tr></tbody></table>"
      ]
     },
     "metadata": {},
     "output_type": "display_data"
    }
   ],
   "source": [
    "cases"
   ]
  },
  {
   "cell_type": "code",
   "execution_count": null,
   "metadata": {
    "dotnet_interactive": {
     "language": "csharp"
    }
   },
   "outputs": [],
   "source": [
    "Dictionary<string, (double Ohnesorge, int AMRlevel, double dt, int timesteps)> casesSetUp = new Dictionary<string, (double Ohnesorge, int AMRlevel, double dt, int timesteps)>();"
   ]
  },
  {
   "cell_type": "code",
   "execution_count": null,
   "metadata": {
    "dotnet_interactive": {
     "language": "csharp"
    }
   },
   "outputs": [],
   "source": [
    "casesSetUp.Add(\"m2_Oh01_eta04\", (0.1, 1, 5e-3, 1400));\n",
    "casesSetUp.Add(\"m2_Oh01_eta02\", (0.1, 1, 5e-3, 1400));\n",
    "casesSetUp.Add(\"m2_Oh01_eta01\", (0.1, 1, 5e-3, 1400));\n",
    "casesSetUp.Add(\"m3_Oh01_eta04\", (0.1, 2, 2e-3, 3500));\n",
    "casesSetUp.Add(\"m3_Oh01_eta015\", (0.1, 2, 2e-3, 3500));\n",
    "casesSetUp.Add(\"m4_Oh01_eta04\", (0.1, 1, 5e-3, 1400));\n",
    "casesSetUp.Add(\"m4_Oh01_eta01\", (0.1, 1, 5e-3, 1400));\n",
    "casesSetUp.Add(\"m4_Oh056_eta005\", (0.56, 1, 5e-3, 800));"
   ]
  },
  {
   "cell_type": "code",
   "execution_count": null,
   "metadata": {
    "dotnet_interactive": {
     "language": "csharp"
    }
   },
   "outputs": [],
   "source": [
    "string[] gridTypeKeys = new string[] { \"wallBC\" }; ///{ \"wallBC\", \"pressureOutletBC\", \"refinedTest\" };"
   ]
  },
  {
   "cell_type": "code",
   "execution_count": null,
   "metadata": {
    "dotnet_interactive": {
     "language": "csharp"
    }
   },
   "outputs": [
    {
     "name": "stdout",
     "output_type": "stream",
     "text": [
      "Case 1: OD3D_J432k3_wallBC_amr1_m2_Oh01_eta04\r\n",
      "Case 2: OD3D_J432k3_wallBC_amr1_m2_Oh01_eta02\r\n",
      "Case 3: OD3D_J432k3_wallBC_amr1_m2_Oh01_eta01\r\n",
      "Case 4: OD3D_J432k3_wallBC_amr1_m3_Oh01_eta04\r\n",
      "Case 5: OD3D_J432k3_wallBC_amr1_m4_Oh01_eta04\r\n",
      "Case 6: OD3D_J432k3_wallBC_amr1_m4_Oh01_eta01\r\n",
      "Case 7: OD3D_J432k3_wallBC_amr1_m4_Oh056_eta005\r\n"
     ]
    }
   ],
   "source": [
    "List<XNSE_Control> Controls = new List<XNSE_Control>();\n",
    "Controls.Clear();\n",
    "int[] DegreeS = new int[] { 3 };\n",
    "bool[] useInitial = new bool[] { true, false };\n",
    "bool[] useNewton = new bool[] { false };\n",
    "\n",
    "// string grdKey = gridTypeKeys[1];\n",
    "// Grids = gridTypes[grdKey];\n",
    "\n",
    "foreach(bool bInitial in useInitial) {\n",
    "foreach(bool bNewton in useNewton) {\n",
    "foreach(int k in DegreeS) {\n",
    "foreach(string grdKey in gridTypeKeys) {\n",
    "foreach(var grd in gridTypes[grdKey]) {\n",
    "int iCase = 0;\n",
    "foreach(var myCase in cases) {\n",
    "    long J = grd.NumberOfCells;\n",
    "    int AMRlvl = casesSetUp[myCase].AMRlevel;\n",
    "    string JobName = $\"OD3D_J{J}k{k}_{grdKey}_amr{AMRlvl}_{myCase}\";\n",
    "    if(bInitial) {\n",
    "        JobName = JobName + \"_thirdOrderInit\";\n",
    "    }\n",
    "    if(bNewton) {\n",
    "        JobName = JobName + \"_Newton\";\n",
    "    }\n",
    "    Console.WriteLine($\"Case {iCase+1}: \" + JobName);\n",
    "    iCase++;\n",
    "\n",
    "    var C = new XNSE_Control();\n",
    "    \n",
    "    C.SetGrid(grd);\n",
    "    C.SetDGdegree(k);\n",
    "    C.SessionName = JobName;\n",
    "    \n",
    "    C.InitialValues.Add(\"Phi\", casesPhi[myCase]);\n",
    "    \n",
    "    C.PhysicalParameters.IncludeConvection = true;\n",
    "    C.PhysicalParameters.rho_A = 1;\n",
    "    C.PhysicalParameters.rho_B = 0.001;\n",
    "    C.PhysicalParameters.mu_A = casesSetUp[myCase].Ohnesorge;\n",
    "    C.PhysicalParameters.mu_B = casesSetUp[myCase].Ohnesorge/1000;\n",
    "    C.PhysicalParameters.reynolds_B = 0.0;\n",
    "    C.PhysicalParameters.reynolds_A = 0.0;\n",
    "    C.PhysicalParameters.Sigma = 1;\n",
    "    C.PhysicalParameters.pFree = 0.0;\n",
    "    C.PhysicalParameters.mu_I = 0.0;\n",
    "    C.PhysicalParameters.lambda_I = 0.0;\n",
    "    C.PhysicalParameters.lambdaI_tilde = -1.0;\n",
    "    C.PhysicalParameters.betaS_A = 0.0;\n",
    "    C.PhysicalParameters.betaS_B = 0.0;\n",
    "    C.PhysicalParameters.betaL = 0.0;\n",
    "    C.PhysicalParameters.theta_e = 1.5707963267948966;\n",
    "    C.PhysicalParameters.sliplength = 0.0;\n",
    "    C.PhysicalParameters.Material = true;\n",
    "    C.PhysicalParameters.useArtificialSurfaceForce = false;\n",
    "    \n",
    "    C.Option_LevelSetEvolution = BoSSS.Solution.LevelSetTools.LevelSetEvolution.StokesExtension;\n",
    "    C.AdvancedDiscretizationOptions.SST_isotropicMode = SurfaceStressTensor_IsotropicMode.LaplaceBeltrami_ContactLine;\n",
    "    C.LSContiProjectionMethod = ContinuityProjectionOption.ConstrainedDG;\n",
    "    \n",
    "    C.TimeSteppingScheme = TimeSteppingScheme.BDF3;\n",
    "    if(bNewton) {\n",
    "        C.NonLinearSolver.SolverCode = NonLinearSolverCode.Newton;\n",
    "    } else {\n",
    "        C.NonLinearSolver.SolverCode = NonLinearSolverCode.Picard;\n",
    "    }\n",
    "    C.NonLinearSolver.ConvergenceCriterion = 1e-9;\n",
    "    C.NonLinearSolver.MinSolverIterations = 3;\n",
    "    C.Timestepper_BDFinit = TimeStepperInit.SingleInit;\n",
    "    C.Timestepper_LevelSetHandling = LevelSetHandling.Coupled_Once;\n",
    "    C.TimesteppingMode = AppControl._TimesteppingMode.Transient;\n",
    "    C.dtFixed = casesSetUp[myCase].dt;\n",
    "    C.NoOfTimesteps = casesSetUp[myCase].timesteps;\n",
    "    \n",
    "    if(AMRlvl > 0) {\n",
    "        C.AdaptiveMeshRefinement = true;\n",
    "        C.activeAMRlevelIndicators.Add(\n",
    "            new AMRonNarrowband() { maxRefinementLevel = AMRlvl }\n",
    "        );\n",
    "    }\n",
    "    \n",
    "    if(bInitial) {\n",
    "        C.AddInitialValue(\"VelocityX#A\", analyticVel[myCase].velX);\n",
    "        //C.AddInitialValue(\"VelocityX#B\", anaVel[myCase.Case - 1, 0]);\n",
    "        C.AddInitialValue(\"VelocityY#A\", analyticVel[myCase].velY);\n",
    "        //C.AddInitialValue(\"VelocityY#B\", anaVel[myCase.Case - 1, 1]);\n",
    "        C.AddInitialValue(\"VelocityZ#A\", analyticVel[myCase].velZ);\n",
    "        //C.AddInitialValue(\"VelocityZ#B\", anaVel[myCase.Case - 1, 2]);\n",
    "    }\n",
    "    \n",
    "    C.PostprocessingModules.Add(new SphericalHarmonicsLogging() { MaxL = 8, RotSymmetric = true });\n",
    "    C.PostprocessingModules.Add(new DropletMetricsLogging() { AxisSymmetric = true });\n",
    "    C.PostprocessingModules.Add(new EnergyLogging());\n",
    "    \n",
    "    C.TracingNamespaces = \"*\";\n",
    "    \n",
    "    Controls.Add(C);\n",
    "    \n",
    "}\n",
    "}\n",
    "}\n",
    "}\n",
    "}\n",
    "}"
   ]
  },
  {
   "cell_type": "code",
   "execution_count": null,
   "metadata": {
    "dotnet_interactive": {
     "language": "csharp"
    }
   },
   "outputs": [],
   "source": [
    "int NC = Controls.Count;\n",
    "for(int i = 0; i < NC; i++) {\n",
    "    for(int j = 0; j < NC; j++) {\n",
    "        if(i == j)\n",
    "            Assert.IsTrue(Controls[i].Equals(Controls[j]), \"Control is not self-equal for \" + i);\n",
    "        else\n",
    "            Assert.IsFalse(Controls[i].Equals(Controls[j]), \"Different Control are wrongly equal for \" + i + \" and \" + j);\n",
    "    }\n",
    "}"
   ]
  },
  {
   "cell_type": "markdown",
   "metadata": {
    "dotnet_interactive": {
     "language": "csharp"
    }
   },
   "source": [
    "## Launch Jobs"
   ]
  },
  {
   "cell_type": "code",
   "execution_count": null,
   "metadata": {
    "dotnet_interactive": {
     "language": "csharp"
    }
   },
   "outputs": [
    {
     "data": {
      "text/html": [
       "<table><thead><tr><th><i>index</i></th><th>value</th></tr></thead><tbody><tr><td>0</td><td>OD3D_J1024k3_refinedTest_amr0_case2_Oh0.1_StartUp</td></tr></tbody></table>"
      ]
     },
     "metadata": {},
     "output_type": "display_data"
    }
   ],
   "source": [
    "Controls.Select(C => C.SessionName)"
   ]
  },
  {
   "cell_type": "code",
   "execution_count": null,
   "metadata": {
    "dotnet_interactive": {
     "language": "csharp"
    }
   },
   "outputs": [
    {
     "name": "stdout",
     "output_type": "stream",
     "text": [
      "Deploying job OD3D_J1024k3_refinedTest_amr0_case2_Oh0.1_StartUp ... \r\n",
      "Deploying executables and additional files ...\r\n",
      "Deployment directory: D:\\local\\binaries\\OscillatingDroplet3D-XNSE_Solver2022Mar25_083116\r\n",
      "copied 50 files.\r\n",
      "   written file: control.obj\r\n",
      "deployment finished.\r\n",
      "Mini batch processor is already running.\r\n",
      "\r\n"
     ]
    }
   ],
   "source": [
    "foreach(var ctrl in Controls) {\n",
    "    var oneJob              = ctrl.CreateJob();\n",
    "    oneJob.NumberOfMPIProcs = 1;\n",
    "    oneJob.Activate(myBatch); \n",
    "}"
   ]
  },
  {
   "cell_type": "code",
   "execution_count": null,
   "metadata": {
    "dotnet_interactive": {
     "language": "csharp"
    }
   },
   "outputs": [
    {
     "data": {
      "text/plain": [
       "#0: OD3D_J1024k3_refinedTest_amr0_case2_Oh0.1_StartUp: PendingInExecutionQueue (MiniBatchProcessor client  LocalPC @D:\\local\\binaries)\tOD3D_J1024k3_refinedTest_amr0_case2_Oh0.1_StartUp: InProgress (MiniBatchProcessor client  LocalPC @D:\\local\\binaries)\r\n"
      ]
     },
     "metadata": {},
     "output_type": "display_data"
    }
   ],
   "source": [
    "wmg.AllJobs"
   ]
  },
  {
   "cell_type": "code",
   "execution_count": null,
   "metadata": {
    "dotnet_interactive": {
     "language": "csharp"
    }
   },
   "outputs": [
    {
     "ename": "Error",
     "evalue": "System.OperationCanceledException: Command :SubmitCode: // wait for all jobs to finish (up to 5 days, chec ... cancelled.",
     "output_type": "error",
     "traceback": [
      "System.OperationCanceledException: Command :SubmitCode: // wait for all jobs to finish (up to 5 days, chec ... cancelled."
     ]
    }
   ],
   "source": [
    "// wait for all jobs to finish (up to 5 days, check every 30 minutes)\n",
    "BoSSSshell.WorkflowMgm.BlockUntilAllJobsTerminate(TimeOutSeconds:(3600), PollingIntervallSeconds:(60*30));"
   ]
  },
  {
   "cell_type": "code",
   "execution_count": null,
   "metadata": {
    "dotnet_interactive": {
     "language": "csharp"
    }
   },
   "outputs": [],
   "source": [
    "// detect failed Jobs in the job management\n",
    "/*\n",
    "var suspects = BoSSSshell.WorkflowMgm.AllJobs.Select(kv => kv.Value)\n",
    "    .Where(job => job.LatestSession.Tags.Contains(SessionInfo.NOT_TERMINATED_TAG)\n",
    "                  || job.LatestSession.Tags.Contains(SessionInfo.SOLVER_ERROR)).ToArray();\n",
    "suspects\n",
    "*/"
   ]
  },
  {
   "cell_type": "code",
   "execution_count": null,
   "metadata": {
    "dotnet_interactive": {
     "language": "csharp"
    }
   },
   "outputs": [],
   "source": [
    "//suspects.Count()"
   ]
  },
  {
   "cell_type": "code",
   "execution_count": null,
   "metadata": {
    "dotnet_interactive": {
     "language": "csharp"
    }
   },
   "outputs": [],
   "source": [
    "//NUnit.Framework.Assert.IsTrue(suspects.Count() <= 0, $\"{suspects.Count()} Failed Jobs of {BoSSSshell.WorkflowMgm.AllJobs.Count()} in total.\");"
   ]
  },
  {
   "cell_type": "markdown",
   "metadata": {},
   "source": [
    "### Inspect the output of some arbitrary job:"
   ]
  },
  {
   "cell_type": "code",
   "execution_count": null,
   "metadata": {
    "dotnet_interactive": {
     "language": "csharp"
    }
   },
   "outputs": [
    {
     "name": "stdout",
     "output_type": "stream",
     "text": [
      "Starting external console ...\r\n",
      "(You may close the new window at any time, the job will continue.)\r\n"
     ]
    }
   ],
   "source": [
    "BoSSSshell.WorkflowMgm.AllJobs.First().Value.ShowOutput();"
   ]
  },
  {
   "cell_type": "code",
   "execution_count": null,
   "metadata": {
    "dotnet_interactive": {
     "language": "csharp"
    }
   },
   "outputs": [],
   "source": [
    "//wmg.Sessions[0].Export().WithSupersampling(2).Do()"
   ]
  },
  {
   "cell_type": "code",
   "execution_count": null,
   "metadata": {
    "dotnet_interactive": {
     "language": "csharp"
    }
   },
   "outputs": [],
   "source": []
  }
 ],
 "metadata": {
  "kernelspec": {
   "display_name": ".NET (C#)",
   "language": "C#",
   "name": ".net-csharp"
  },
  "language_info": {
   "file_extension": ".cs",
   "mimetype": "text/x-csharp",
   "name": "C#",
   "pygments_lexer": "csharp",
   "version": "9.0"
  }
 },
 "nbformat": 4,
 "nbformat_minor": 4
}
