{
 "cells": [
  {
   "cell_type": "markdown",
   "metadata": {},
   "source": [
    "# 3D Droplet Oscillation\n",
    "\n",
    "Results published: hopefully at some point!\n",
    "\n",
    "It is part of the BoSSS-long-term validation test suite, which consists of \n",
    "several computationally expensive test-cases (runtime in the order of days),\n",
    "which are performed on a regular basis in order to validate the \n",
    "physical correctness of BoSSS simulations.\n"
   ]
  },
  {
   "cell_type": "markdown",
   "metadata": {},
   "source": [
    "### Preliminaries\n",
    "\n",
    "This example can be found in the source code repository as as `Droplet3D.ipynb`. \n",
    "One can directly load this into Jupyter to interactively work with the following code examples.\n",
    "\n",
    "Note: First, BoSSS has to be loaded into the Jupyter kernel. Note:\n",
    "In the following line, the reference to `BoSSSpad.dll` is required. \n",
    "One must either set `#r \"BoSSSpad.dll\"` to something which is appropirate for the current computer\n",
    "(e.g. `C:\\Program Files (x86)\\FDY\\BoSSS\\bin\\Release\\net5.0\\BoSSSpad.dll` if working with the binary distribution), \n",
    "or, if one is working with the source code, one must compile `BoSSSpad`\n",
    "and put it side-by-side to this worksheet file \n",
    "(from the original location in the repository, one can use the scripts `getbossspad.sh`, resp. `getbossspad.bat`).\n"
   ]
  },
  {
   "cell_type": "code",
   "execution_count": 1,
   "metadata": {
    "dotnet_interactive": {
     "language": "csharp"
    }
   },
   "outputs": [
    {
     "data": {
      "text/html": [
       "\r\n",
       "<div>\r\n",
       "    <div id='dotnet-interactive-this-cell-22104.Microsoft.DotNet.Interactive.Http.HttpPort' style='display: none'>\r\n",
       "        The below script needs to be able to find the current output cell; this is an easy method to get it.\r\n",
       "    </div>\r\n",
       "    <script type='text/javascript'>\r\n",
       "async function probeAddresses(probingAddresses) {\r\n",
       "    function timeout(ms, promise) {\r\n",
       "        return new Promise(function (resolve, reject) {\r\n",
       "            setTimeout(function () {\r\n",
       "                reject(new Error('timeout'))\r\n",
       "            }, ms)\r\n",
       "            promise.then(resolve, reject)\r\n",
       "        })\r\n",
       "    }\r\n",
       "\r\n",
       "    if (Array.isArray(probingAddresses)) {\r\n",
       "        for (let i = 0; i < probingAddresses.length; i++) {\r\n",
       "\r\n",
       "            let rootUrl = probingAddresses[i];\r\n",
       "\r\n",
       "            if (!rootUrl.endsWith('/')) {\r\n",
       "                rootUrl = `${rootUrl}/`;\r\n",
       "            }\r\n",
       "\r\n",
       "            try {\r\n",
       "                let response = await timeout(1000, fetch(`${rootUrl}discovery`, {\r\n",
       "                    method: 'POST',\r\n",
       "                    cache: 'no-cache',\r\n",
       "                    mode: 'cors',\r\n",
       "                    timeout: 1000,\r\n",
       "                    headers: {\r\n",
       "                        'Content-Type': 'text/plain'\r\n",
       "                    },\r\n",
       "                    body: probingAddresses[i]\r\n",
       "                }));\r\n",
       "\r\n",
       "                if (response.status == 200) {\r\n",
       "                    return rootUrl;\r\n",
       "                }\r\n",
       "            }\r\n",
       "            catch (e) { }\r\n",
       "        }\r\n",
       "    }\r\n",
       "}\r\n",
       "\r\n",
       "function loadDotnetInteractiveApi() {\r\n",
       "    probeAddresses([\"http://192.168.56.1:1001/\", \"http://130.83.248.221:1001/\", \"http://169.254.113.120:1001/\", \"http://192.168.61.225:1001/\", \"http://127.0.0.1:1001/\"])\r\n",
       "        .then((root) => {\r\n",
       "        // use probing to find host url and api resources\r\n",
       "        // load interactive helpers and language services\r\n",
       "        let dotnetInteractiveRequire = require.config({\r\n",
       "        context: '22104.Microsoft.DotNet.Interactive.Http.HttpPort',\r\n",
       "                paths:\r\n",
       "            {\r\n",
       "                'dotnet-interactive': `${root}resources`\r\n",
       "                }\r\n",
       "        }) || require;\r\n",
       "\r\n",
       "            window.dotnetInteractiveRequire = dotnetInteractiveRequire;\r\n",
       "\r\n",
       "            window.configureRequireFromExtension = function(extensionName, extensionCacheBuster) {\r\n",
       "                let paths = {};\r\n",
       "                paths[extensionName] = `${root}extensions/${extensionName}/resources/`;\r\n",
       "                \r\n",
       "                let internalRequire = require.config({\r\n",
       "                    context: extensionCacheBuster,\r\n",
       "                    paths: paths,\r\n",
       "                    urlArgs: `cacheBuster=${extensionCacheBuster}`\r\n",
       "                    }) || require;\r\n",
       "\r\n",
       "                return internalRequire\r\n",
       "            };\r\n",
       "        \r\n",
       "            dotnetInteractiveRequire([\r\n",
       "                    'dotnet-interactive/dotnet-interactive'\r\n",
       "                ],\r\n",
       "                function (dotnet) {\r\n",
       "                    dotnet.init(window);\r\n",
       "                },\r\n",
       "                function (error) {\r\n",
       "                    console.log(error);\r\n",
       "                }\r\n",
       "            );\r\n",
       "        })\r\n",
       "        .catch(error => {console.log(error);});\r\n",
       "    }\r\n",
       "\r\n",
       "// ensure `require` is available globally\r\n",
       "if ((typeof(require) !==  typeof(Function)) || (typeof(require.config) !== typeof(Function))) {\r\n",
       "    let require_script = document.createElement('script');\r\n",
       "    require_script.setAttribute('src', 'https://cdnjs.cloudflare.com/ajax/libs/require.js/2.3.6/require.min.js');\r\n",
       "    require_script.setAttribute('type', 'text/javascript');\r\n",
       "    \r\n",
       "    \r\n",
       "    require_script.onload = function() {\r\n",
       "        loadDotnetInteractiveApi();\r\n",
       "    };\r\n",
       "\r\n",
       "    document.getElementsByTagName('head')[0].appendChild(require_script);\r\n",
       "}\r\n",
       "else {\r\n",
       "    loadDotnetInteractiveApi();\r\n",
       "}\r\n",
       "\r\n",
       "    </script>\r\n",
       "</div>"
      ]
     },
     "metadata": {},
     "output_type": "display_data"
    }
   ],
   "source": [
    "//#r \"../../src/L4-application/BoSSSpad/bin/Release/net5.0/BoSSSpad.dll\"\n",
    "//#r \"../../src/L4-application/BoSSSpad/bin/Debug/net5.0/BoSSSpad.dll\"\n",
    "#r \"BoSSSpad.dll\"\n",
    "using System;\n",
    "using System.Collections.Generic;\n",
    "using System.Linq;\n",
    "using ilPSP;\n",
    "using ilPSP.Utils;\n",
    "using BoSSS.Platform;\n",
    "using BoSSS.Foundation;\n",
    "using BoSSS.Foundation.XDG;\n",
    "using BoSSS.Foundation.Grid;\n",
    "using BoSSS.Foundation.Grid.Classic;\n",
    "using BoSSS.Foundation.IO;\n",
    "using BoSSS.Solution;\n",
    "using BoSSS.Solution.Control;\n",
    "using BoSSS.Solution.GridImport;\n",
    "using BoSSS.Solution.Statistic;\n",
    "using BoSSS.Solution.Utils;\n",
    "using BoSSS.Solution.AdvancedSolvers;\n",
    "using BoSSS.Solution.Gnuplot;\n",
    "using BoSSS.Application.BoSSSpad;\n",
    "using BoSSS.Application.XNSE_Solver;\n",
    "using static BoSSS.Application.BoSSSpad.BoSSSshell;\n",
    "Init();"
   ]
  },
  {
   "cell_type": "markdown",
   "metadata": {},
   "source": [
    "## Initialization tasks"
   ]
  },
  {
   "cell_type": "markdown",
   "metadata": {},
   "source": [
    "Loading the `XNSE_Solver` and additional namespace:"
   ]
  },
  {
   "cell_type": "code",
   "execution_count": 2,
   "metadata": {
    "dotnet_interactive": {
     "language": "csharp"
    }
   },
   "outputs": [],
   "source": [
    "using BoSSS.Application.XNSE_Solver;\n",
    "using BoSSS.Application.XNSE_Solver.PhysicalBasedTestcases;\n",
    "using BoSSS.Solution.NSECommon;\n",
    "using BoSSS.Solution.LevelSetTools.SolverWithLevelSetUpdater;\n",
    "using NUnit.Framework;\n",
    "using BoSSS.Application.XNSE_Solver.Logging;"
   ]
  },
  {
   "cell_type": "markdown",
   "metadata": {},
   "source": [
    "Initialization of the Workflow management; there `OscillatingDroplet3D` is the project name which is used name all computations (aka. sessions):"
   ]
  },
  {
   "cell_type": "code",
   "execution_count": 3,
   "metadata": {
    "dotnet_interactive": {
     "language": "csharp"
    }
   },
   "outputs": [
    {
     "name": "stdout",
     "output_type": "stream",
     "text": [
      "Project name is set to 'OscillatingDroplet3D'.\n",
      "Opening existing database 'C:\\BoSSS-Databases\\OscillatingDroplet3D'.\n"
     ]
    }
   ],
   "source": [
    "BoSSSshell.WorkflowMgm.Init(\"OscillatingDroplet3D\");"
   ]
  },
  {
   "cell_type": "markdown",
   "metadata": {},
   "source": [
    "Overview on the available *Execution Queues* (aka. *Batch Processors*, aka. *Batch System*); these e.g. Linux HPC clusters on which compute jobs can be executed."
   ]
  },
  {
   "cell_type": "code",
   "execution_count": 4,
   "metadata": {
    "dotnet_interactive": {
     "language": "csharp"
    }
   },
   "outputs": [
    {
     "data": {
      "text/html": [
       "<table><thead><tr><th><i>index</i></th><th><i>type</i></th><th>DeploymentBaseDirectory</th><th>DeployRuntime</th><th>Name</th><th>DotnetRuntime</th><th>BatchInstructionDir</th><th>AllowedDatabasesPaths</th><th>Username</th><th>ServerName</th><th>ComputeNodes</th><th>DefaultJobPriority</th><th>SingleNode</th><th>Password</th><th>PrivateKeyFilePath</th><th>AdditionalBatchCommands</th><th>DeploymentBaseDirectoryAtRemote</th><th>SlurmAccount</th><th>Email</th><th>MonoDebug</th></tr></thead><tbody><tr><td>0</td><td>BoSSS.Application.BoSSSpad.MiniBatchProcessorClient</td><td>C:\\Users\\flori\\AppData\\Local\\BoSSS-LocalJobs</td><td>False</td><td>LocalPC</td><td>dotnet</td><td><div class=\"dni-plaintext\">&lt;null&gt;</div></td><td>[ C:\\BoSSS-Databases == , C:\\Users\\flori ==  ]</td><td></td><td></td><td></td><td></td><td></td><td></td><td></td><td></td><td></td><td></td><td></td><td></td></tr><tr><td>1</td><td>BoSSS.Application.BoSSSpad.MsHPC2012Client</td><td>\\\\dc1\\userspace\\kummer\\cluster</td><td>False</td><td>FDY-WindowsHPC</td><td>dotnet</td><td></td><td>[ \\\\dc1\\userspace\\kummer ==  ]</td><td>FDY\\kummer</td><td>DC2</td><td><div class=\"dni-plaintext\">&lt;null&gt;</div></td><td>Normal</td><td>True</td><td></td><td></td><td></td><td></td><td></td><td></td><td></td></tr><tr><td>2</td><td>BoSSS.Application.BoSSSpad.SlurmClient</td><td>W:\\bosss_deploy</td><td>False</td><td>LbI</td><td>dotnet</td><td></td><td></td><td>fk69umer</td><td>lcluster8.hrz.tu-darmstadt.de</td><td></td><td></td><td></td><td><div class=\"dni-plaintext\">&lt;null&gt;</div></td><td>C:\\Users\\flori\\.ssh\\id_rsa</td><td><div class=\"dni-plaintext\">&lt;null&gt;</div></td><td>/home/fk69umer/bosss_deploy</td><td>project01287</td><td><div class=\"dni-plaintext\">&lt;null&gt;</div></td><td>False</td></tr><tr><td>3</td><td>BoSSS.Application.BoSSSpad.SlurmClient</td><td>X:\\bosss_deploy</td><td>False</td><td>Lb2-specialPrj</td><td>dotnet</td><td></td><td>[ X: == /work/scratch/fk69umer ]</td><td>fk69umer</td><td>lcluster16.hrz.tu-darmstadt.de</td><td></td><td></td><td></td><td><div class=\"dni-plaintext\">&lt;null&gt;</div></td><td>C:\\Users\\flori\\.ssh\\id_rsa</td><td>[ #SBATCH -p test24, #SBATCH -C avx512, #SBATCH --mem-per-cpu=8000 ]</td><td>/work/scratch/fk69umer/bosss_deploy</td><td>special00006</td><td><div class=\"dni-plaintext\">&lt;null&gt;</div></td><td>False</td></tr><tr><td>4</td><td>BoSSS.Application.BoSSSpad.SlurmClient</td><td>X:\\jenkins\\deploy</td><td>False</td><td>Lb2-specialPrj-Jenkins</td><td>dotnet</td><td></td><td>[ X:\\jenkins\\databases == /work/scratch/fk69umer/jenkins/databases ]</td><td>fk69umer</td><td>lcluster16.hrz.tu-darmstadt.de</td><td></td><td></td><td></td><td><div class=\"dni-plaintext\">&lt;null&gt;</div></td><td>C:\\Users\\flori\\.ssh\\id_rsa</td><td>[ #SBATCH -p test24, #SBATCH -C avx512, #SBATCH --mem-per-cpu=8000 ]</td><td>/work/scratch/fk69umer/jenkins/deploy</td><td>special00006</td><td><div class=\"dni-plaintext\">&lt;null&gt;</div></td><td>False</td></tr></tbody></table>"
      ]
     },
     "execution_count": 4,
     "metadata": {},
     "output_type": "execute_result"
    }
   ],
   "source": [
    "ExecutionQueues"
   ]
  },
  {
   "cell_type": "markdown",
   "metadata": {},
   "source": [
    "For this example (which is part of the BoSSS validation tests), a *default queue* is selected to run all jobs in the convergence study:"
   ]
  },
  {
   "cell_type": "code",
   "execution_count": 5,
   "metadata": {
    "dotnet_interactive": {
     "language": "csharp"
    }
   },
   "outputs": [
    {
     "data": {
      "text/html": [
       "<table><thead><tr><th>DeploymentBaseDirectory</th><th>DeployRuntime</th><th>Name</th><th>DotnetRuntime</th><th>BatchInstructionDir</th><th>AllowedDatabasesPaths</th></tr></thead><tbody><tr><td><div class=\"dni-plaintext\">C:\\Users\\flori\\AppData\\Local\\BoSSS-LocalJobs</div></td><td><div class=\"dni-plaintext\">False</div></td><td><div class=\"dni-plaintext\">LocalPC</div></td><td><div class=\"dni-plaintext\">dotnet</div></td><td><div class=\"dni-plaintext\">&lt;null&gt;</div></td><td><div class=\"dni-plaintext\">[ C:\\BoSSS-Databases == , C:\\Users\\flori ==  ]</div></td></tr></tbody></table>"
      ]
     },
     "execution_count": 5,
     "metadata": {},
     "output_type": "execute_result"
    }
   ],
   "source": [
    "var myBatch = GetDefaultQueue();\n",
    "myBatch"
   ]
  },
  {
   "cell_type": "code",
   "execution_count": 6,
   "metadata": {
    "dotnet_interactive": {
     "language": "csharp"
    }
   },
   "outputs": [
    {
     "data": {
      "text/plain": [
       "#0: OscillatingDroplet3D\tJ432k3_arm0_mode2_aP0*\t10/30/2021 18:23:40\t60ef7933...\r\n",
       "#1: OscillatingDroplet3D\tJ432k3_arm0_mode2_aP0*\t10/30/2021 17:11:01\tba3ef7e3...\r\n",
       "#2: OscillatingDroplet3D\tJ432k3_arm0_mode2_aP0*\t10/30/2021 16:48:25\t7f1469ba...\r\n",
       "#3: OscillatingDroplet3D\tJ432k3_arm0_mode2_aP0*\t10/30/2021 16:35:00\tfb3e532c...\r\n",
       "#4: OscillatingDroplet3D\tJ432k3_arm0_mode2_aP0*\t10/30/2021 16:34:05\t1dedd133...\r\n",
       "#5: OscillatingDroplet3D\tJ432k3_arm0_mode2_aP0*\t10/30/2021 15:22:16\tfbef6e35...\r\n",
       "#6: OscillatingDroplet3D\tJ432k3_arm0_mode2_aP0*\t10/30/2021 12:53:57\td825d868...\r\n",
       "#7: OscillatingDroplet3D\tJ432k3_arm0_mode2_aP0*\t10/30/2021 11:38:49\tcdc1164e...\r\n",
       "#8: OscillatingDroplet3D\tJ432k3_arm0_mode2_aP0*\t10/30/2021 11:34:42\t0b3d9c62...\r\n",
       "#9: OscillatingDroplet3D\tJ432k3_arm0_mode2_aP0*\t10/30/2021 10:12:10\teae39f75...\r\n"
      ]
     },
     "execution_count": 6,
     "metadata": {},
     "output_type": "execute_result"
    }
   ],
   "source": [
    "wmg.Sessions"
   ]
  },
  {
   "cell_type": "markdown",
   "metadata": {},
   "source": [
    "## Spherical Harmonics"
   ]
  },
  {
   "cell_type": "code",
   "execution_count": 9,
   "metadata": {},
   "outputs": [],
   "source": [
    "var Case1 = IMatrixExtensions.LoadFromTextFile(\"surfaceDropCase1.txt\");"
   ]
  },
  {
   "cell_type": "code",
   "execution_count": 11,
   "metadata": {},
   "outputs": [],
   "source": [
    "double[] angle1 = Case1.GetColumn(0);\n",
    "double[] radius1 = Case1.GetColumn(1);\n",
    "int I = angle1.Length;\n",
    "double[] x1 = new double[I], y1 = new double[I];\n",
    "for( int i = 0; i < I; i++) {\n",
    "   x1[i] = Math.Sin(angle1[i])*radius1[i];\n",
    "   y1[i] = Math.Cos(angle1[i])*radius1[i];\n",
    "}"
   ]
  },
  {
   "cell_type": "code",
   "execution_count": 32,
   "metadata": {},
   "outputs": [],
   "source": [
    "double case1Func(double angle) {\n",
    "   double radius = 0.966781 + 0.4*SphericalHarmonicsLogging.MyLegendre(2,0,Math.Cos(angle));\n",
    "   return radius;\n",
    "}"
   ]
  },
  {
   "cell_type": "code",
   "execution_count": 33,
   "metadata": {},
   "outputs": [],
   "source": [
    "double[] x1r = new double[I], y1r = new double[I];\n",
    "for( int i = 0; i < I; i++) {\n",
    "   x1r[i] = Math.Sin(angle1[i])*case1Func(angle1[i]);\n",
    "   y1r[i] = Math.Cos(angle1[i])*case1Func(angle1[i]);\n",
    "}"
   ]
  },
  {
   "cell_type": "code",
   "execution_count": 34,
   "metadata": {},
   "outputs": [
    {
     "name": "stdout",
     "output_type": "stream",
     "text": [
      "Using gnuplot: C:\\Program Files (x86)\\FDY\\BoSSS\\bin\\native\\win\\gnuplot-gp510-20160418-win32-mingw\\gnuplot\\bin\\gnuplot.exe\r\n"
     ]
    },
    {
     "data": {
      "text/html": [
       "<?xml version=\"1.0\" encoding=\"utf-8\"  standalone=\"no\"?>\n",
       "<!DOCTYPE svg PUBLIC \"-//W3C//DTD SVG 1.1//EN\"\n",
       " \"http://www.w3.org/Graphics/SVG/1.1/DTD/svg11.dtd\">\n",
       "<svg \n",
       " width=\"800\" height=\"600\"\n",
       " viewBox=\"0 0 800 600\"\n",
       " xmlns=\"http://www.w3.org/2000/svg\"\n",
       " xmlns:xlink=\"http://www.w3.org/1999/xlink\"\n",
       ">\n",
       "\n",
       "<title>Gnuplot</title>\n",
       "<desc>Produced by GNUPLOT 5.1 patchlevel 0 </desc>\n",
       "\n",
       "<g id=\"gnuplot_canvas\">\n",
       "\n",
       "<rect x=\"0\" y=\"0\" width=\"800\" height=\"600\" fill=\"#ffffff\"/>\n",
       "<defs>\n",
       "\n",
       "\t<circle id='gpDot' r='0.5' stroke-width='0.5'/>\n",
       "\t<path id='gpPt0' stroke-width='0.222' stroke='currentColor' d='M-1,0 h2 M0,-1 v2'/>\n",
       "\t<path id='gpPt1' stroke-width='0.222' stroke='currentColor' d='M-1,-1 L1,1 M1,-1 L-1,1'/>\n",
       "\t<path id='gpPt2' stroke-width='0.222' stroke='currentColor' d='M-1,0 L1,0 M0,-1 L0,1 M-1,-1 L1,1 M-1,1 L1,-1'/>\n",
       "\t<rect id='gpPt3' stroke-width='0.222' stroke='currentColor' x='-1' y='-1' width='2' height='2'/>\n",
       "\t<rect id='gpPt4' stroke-width='0.222' stroke='currentColor' fill='currentColor' x='-1' y='-1' width='2' height='2'/>\n",
       "\t<circle id='gpPt5' stroke-width='0.222' stroke='currentColor' cx='0' cy='0' r='1'/>\n",
       "\t<use xlink:href='#gpPt5' id='gpPt6' fill='currentColor' stroke='none'/>\n",
       "\t<path id='gpPt7' stroke-width='0.222' stroke='currentColor' d='M0,-1.33 L-1.33,0.67 L1.33,0.67 z'/>\n",
       "\t<use xlink:href='#gpPt7' id='gpPt8' fill='currentColor' stroke='none'/>\n",
       "\t<use xlink:href='#gpPt7' id='gpPt9' stroke='currentColor' transform='rotate(180)'/>\n",
       "\t<use xlink:href='#gpPt9' id='gpPt10' fill='currentColor' stroke='none'/>\n",
       "\t<use xlink:href='#gpPt3' id='gpPt11' stroke='currentColor' transform='rotate(45)'/>\n",
       "\t<use xlink:href='#gpPt11' id='gpPt12' fill='currentColor' stroke='none'/>\n",
       "\t<path id='gpPt13' stroke-width='0.222' stroke='currentColor' d='M0,1.330 L1.265,0.411 L0.782,-1.067 L-0.782,-1.076 L-1.265,0.411 z'/>\n",
       "\t<use xlink:href='#gpPt13' id='gpPt14' fill='currentColor' stroke='none'/>\n",
       "\t<filter id='textbox' filterUnits='objectBoundingBox' x='0' y='0' height='1' width='1'>\n",
       "\t  <feFlood flood-color='#FFFFFF' flood-opacity='1' result='bgnd'/>\n",
       "\t  <feComposite in='SourceGraphic' in2='bgnd' operator='atop'/>\n",
       "\t</filter>\n",
       "\t<filter id='greybox' filterUnits='objectBoundingBox' x='0' y='0' height='1' width='1'>\n",
       "\t  <feFlood flood-color='lightgrey' flood-opacity='1' result='grey'/>\n",
       "\t  <feComposite in='SourceGraphic' in2='grey' operator='atop'/>\n",
       "\t</filter>\n",
       "</defs>\n",
       "<g fill=\"none\" color=\"#FFFFFF\" stroke=\"currentColor\" stroke-width=\"1.00\" stroke-linecap=\"butt\" stroke-linejoin=\"miter\">\n",
       "</g>\n",
       "<g fill=\"none\" color=\"black\" stroke=\"currentColor\" stroke-width=\"1.00\" stroke-linecap=\"butt\" stroke-linejoin=\"miter\">\n",
       "\t<path stroke='black'  d='M53.9,564.0 L62.9,564.0 M775.0,564.0 L766.0,564.0  '/>\t<g transform=\"translate(45.6,568.5)\" stroke=\"none\" fill=\"black\" font-family=\"Arial\" font-size=\"12.00\"  text-anchor=\"end\">\n",
       "\t\t<text><tspan font-family=\"Arial\" >-1.5</tspan></text>\n",
       "\t</g>\n",
       "</g>\n",
       "<g fill=\"none\" color=\"black\" stroke=\"currentColor\" stroke-width=\"1.00\" stroke-linecap=\"butt\" stroke-linejoin=\"miter\">\n",
       "\t<path stroke='black'  d='M53.9,472.8 L62.9,472.8 M775.0,472.8 L766.0,472.8  '/>\t<g transform=\"translate(45.6,477.3)\" stroke=\"none\" fill=\"black\" font-family=\"Arial\" font-size=\"12.00\"  text-anchor=\"end\">\n",
       "\t\t<text><tspan font-family=\"Arial\" >-1</tspan></text>\n",
       "\t</g>\n",
       "</g>\n",
       "<g fill=\"none\" color=\"black\" stroke=\"currentColor\" stroke-width=\"1.00\" stroke-linecap=\"butt\" stroke-linejoin=\"miter\">\n",
       "\t<path stroke='black'  d='M53.9,381.6 L62.9,381.6 M775.0,381.6 L766.0,381.6  '/>\t<g transform=\"translate(45.6,386.1)\" stroke=\"none\" fill=\"black\" font-family=\"Arial\" font-size=\"12.00\"  text-anchor=\"end\">\n",
       "\t\t<text><tspan font-family=\"Arial\" >-0.5</tspan></text>\n",
       "\t</g>\n",
       "</g>\n",
       "<g fill=\"none\" color=\"black\" stroke=\"currentColor\" stroke-width=\"1.00\" stroke-linecap=\"butt\" stroke-linejoin=\"miter\">\n",
       "\t<path stroke='black'  d='M53.9,290.4 L62.9,290.4 M775.0,290.4 L766.0,290.4  '/>\t<g transform=\"translate(45.6,294.9)\" stroke=\"none\" fill=\"black\" font-family=\"Arial\" font-size=\"12.00\"  text-anchor=\"end\">\n",
       "\t\t<text><tspan font-family=\"Arial\" > 0</tspan></text>\n",
       "\t</g>\n",
       "</g>\n",
       "<g fill=\"none\" color=\"black\" stroke=\"currentColor\" stroke-width=\"1.00\" stroke-linecap=\"butt\" stroke-linejoin=\"miter\">\n",
       "\t<path stroke='black'  d='M53.9,199.1 L62.9,199.1 M775.0,199.1 L766.0,199.1  '/>\t<g transform=\"translate(45.6,203.6)\" stroke=\"none\" fill=\"black\" font-family=\"Arial\" font-size=\"12.00\"  text-anchor=\"end\">\n",
       "\t\t<text><tspan font-family=\"Arial\" > 0.5</tspan></text>\n",
       "\t</g>\n",
       "</g>\n",
       "<g fill=\"none\" color=\"black\" stroke=\"currentColor\" stroke-width=\"1.00\" stroke-linecap=\"butt\" stroke-linejoin=\"miter\">\n",
       "\t<path stroke='black'  d='M53.9,107.9 L62.9,107.9 M775.0,107.9 L766.0,107.9  '/>\t<g transform=\"translate(45.6,112.4)\" stroke=\"none\" fill=\"black\" font-family=\"Arial\" font-size=\"12.00\"  text-anchor=\"end\">\n",
       "\t\t<text><tspan font-family=\"Arial\" > 1</tspan></text>\n",
       "\t</g>\n",
       "</g>\n",
       "<g fill=\"none\" color=\"black\" stroke=\"currentColor\" stroke-width=\"1.00\" stroke-linecap=\"butt\" stroke-linejoin=\"miter\">\n",
       "\t<path stroke='black'  d='M53.9,16.7 L62.9,16.7 M775.0,16.7 L766.0,16.7  '/>\t<g transform=\"translate(45.6,21.2)\" stroke=\"none\" fill=\"black\" font-family=\"Arial\" font-size=\"12.00\"  text-anchor=\"end\">\n",
       "\t\t<text><tspan font-family=\"Arial\" > 1.5</tspan></text>\n",
       "\t</g>\n",
       "</g>\n",
       "<g fill=\"none\" color=\"black\" stroke=\"currentColor\" stroke-width=\"1.00\" stroke-linecap=\"butt\" stroke-linejoin=\"miter\">\n",
       "\t<path stroke='black'  d='M53.9,564.0 L53.9,555.0 M53.9,16.7 L53.9,25.7  '/>\t<g transform=\"translate(53.9,586.5)\" stroke=\"none\" fill=\"black\" font-family=\"Arial\" font-size=\"12.00\"  text-anchor=\"middle\">\n",
       "\t\t<text><tspan font-family=\"Arial\" > 0</tspan></text>\n",
       "\t</g>\n",
       "</g>\n",
       "<g fill=\"none\" color=\"black\" stroke=\"currentColor\" stroke-width=\"1.00\" stroke-linecap=\"butt\" stroke-linejoin=\"miter\">\n",
       "\t<path stroke='black'  d='M144.0,564.0 L144.0,555.0 M144.0,16.7 L144.0,25.7  '/>\t<g transform=\"translate(144.0,586.5)\" stroke=\"none\" fill=\"black\" font-family=\"Arial\" font-size=\"12.00\"  text-anchor=\"middle\">\n",
       "\t\t<text><tspan font-family=\"Arial\" > 0.1</tspan></text>\n",
       "\t</g>\n",
       "</g>\n",
       "<g fill=\"none\" color=\"black\" stroke=\"currentColor\" stroke-width=\"1.00\" stroke-linecap=\"butt\" stroke-linejoin=\"miter\">\n",
       "\t<path stroke='black'  d='M234.2,564.0 L234.2,555.0 M234.2,16.7 L234.2,25.7  '/>\t<g transform=\"translate(234.2,586.5)\" stroke=\"none\" fill=\"black\" font-family=\"Arial\" font-size=\"12.00\"  text-anchor=\"middle\">\n",
       "\t\t<text><tspan font-family=\"Arial\" > 0.2</tspan></text>\n",
       "\t</g>\n",
       "</g>\n",
       "<g fill=\"none\" color=\"black\" stroke=\"currentColor\" stroke-width=\"1.00\" stroke-linecap=\"butt\" stroke-linejoin=\"miter\">\n",
       "\t<path stroke='black'  d='M324.3,564.0 L324.3,555.0 M324.3,16.7 L324.3,25.7  '/>\t<g transform=\"translate(324.3,586.5)\" stroke=\"none\" fill=\"black\" font-family=\"Arial\" font-size=\"12.00\"  text-anchor=\"middle\">\n",
       "\t\t<text><tspan font-family=\"Arial\" > 0.3</tspan></text>\n",
       "\t</g>\n",
       "</g>\n",
       "<g fill=\"none\" color=\"black\" stroke=\"currentColor\" stroke-width=\"1.00\" stroke-linecap=\"butt\" stroke-linejoin=\"miter\">\n",
       "\t<path stroke='black'  d='M414.5,564.0 L414.5,555.0 M414.5,16.7 L414.5,25.7  '/>\t<g transform=\"translate(414.5,586.5)\" stroke=\"none\" fill=\"black\" font-family=\"Arial\" font-size=\"12.00\"  text-anchor=\"middle\">\n",
       "\t\t<text><tspan font-family=\"Arial\" > 0.4</tspan></text>\n",
       "\t</g>\n",
       "</g>\n",
       "<g fill=\"none\" color=\"black\" stroke=\"currentColor\" stroke-width=\"1.00\" stroke-linecap=\"butt\" stroke-linejoin=\"miter\">\n",
       "\t<path stroke='black'  d='M504.6,564.0 L504.6,555.0 M504.6,16.7 L504.6,25.7  '/>\t<g transform=\"translate(504.6,586.5)\" stroke=\"none\" fill=\"black\" font-family=\"Arial\" font-size=\"12.00\"  text-anchor=\"middle\">\n",
       "\t\t<text><tspan font-family=\"Arial\" > 0.5</tspan></text>\n",
       "\t</g>\n",
       "</g>\n",
       "<g fill=\"none\" color=\"black\" stroke=\"currentColor\" stroke-width=\"1.00\" stroke-linecap=\"butt\" stroke-linejoin=\"miter\">\n",
       "\t<path stroke='black'  d='M594.7,564.0 L594.7,555.0 M594.7,16.7 L594.7,25.7  '/>\t<g transform=\"translate(594.7,586.5)\" stroke=\"none\" fill=\"black\" font-family=\"Arial\" font-size=\"12.00\"  text-anchor=\"middle\">\n",
       "\t\t<text><tspan font-family=\"Arial\" > 0.6</tspan></text>\n",
       "\t</g>\n",
       "</g>\n",
       "<g fill=\"none\" color=\"black\" stroke=\"currentColor\" stroke-width=\"1.00\" stroke-linecap=\"butt\" stroke-linejoin=\"miter\">\n",
       "\t<path stroke='black'  d='M684.9,564.0 L684.9,555.0 M684.9,16.7 L684.9,25.7  '/>\t<g transform=\"translate(684.9,586.5)\" stroke=\"none\" fill=\"black\" font-family=\"Arial\" font-size=\"12.00\"  text-anchor=\"middle\">\n",
       "\t\t<text><tspan font-family=\"Arial\" > 0.7</tspan></text>\n",
       "\t</g>\n",
       "</g>\n",
       "<g fill=\"none\" color=\"black\" stroke=\"currentColor\" stroke-width=\"1.00\" stroke-linecap=\"butt\" stroke-linejoin=\"miter\">\n",
       "\t<path stroke='black'  d='M775.0,564.0 L775.0,555.0 M775.0,16.7 L775.0,25.7  '/>\t<g transform=\"translate(775.0,586.5)\" stroke=\"none\" fill=\"black\" font-family=\"Arial\" font-size=\"12.00\"  text-anchor=\"middle\">\n",
       "\t\t<text><tspan font-family=\"Arial\" > 0.8</tspan></text>\n",
       "\t</g>\n",
       "</g>\n",
       "<g fill=\"none\" color=\"black\" stroke=\"currentColor\" stroke-width=\"1.00\" stroke-linecap=\"butt\" stroke-linejoin=\"miter\">\n",
       "</g>\n",
       "<g fill=\"none\" color=\"black\" stroke=\"currentColor\" stroke-width=\"1.00\" stroke-linecap=\"butt\" stroke-linejoin=\"miter\">\n",
       "\t<path stroke='black'  d='M53.9,16.7 L53.9,564.0 L775.0,564.0 L775.0,16.7 L53.9,16.7 Z  '/></g>\n",
       "<g fill=\"none\" color=\"black\" stroke=\"currentColor\" stroke-width=\"1.00\" stroke-linecap=\"butt\" stroke-linejoin=\"miter\">\n",
       "</g>\n",
       "\t<g id=\"gnuplot_plot_1\" ><title>zrnic</title>\n",
       "<g fill=\"none\" color=\"black\" stroke=\"currentColor\" stroke-width=\"1.00\" stroke-linecap=\"butt\" stroke-linejoin=\"miter\">\n",
       "\t<g transform=\"translate(707.9,39.2)\" stroke=\"none\" fill=\"black\" font-family=\"Arial\" font-size=\"12.00\"  text-anchor=\"end\">\n",
       "\t\t<text><tspan font-family=\"Arial\" >zrnic</tspan></text>\n",
       "\t</g>\n",
       "</g>\n",
       "<g fill=\"none\" color=\"black\" stroke=\"currentColor\" stroke-width=\"1.00\" stroke-linecap=\"butt\" stroke-linejoin=\"miter\">\n",
       "\t<use xlink:href='#gpPt1' transform='translate(53.9,41.0) scale(4.50)' color='rgb(  0,   0, 255)'/>\n",
       "\t<use xlink:href='#gpPt1' transform='translate(66.2,41.0) scale(4.50)' color='rgb(  0,   0, 255)'/>\n",
       "\t<use xlink:href='#gpPt1' transform='translate(78.5,41.1) scale(4.50)' color='rgb(  0,   0, 255)'/>\n",
       "\t<use xlink:href='#gpPt1' transform='translate(90.8,41.2) scale(4.50)' color='rgb(  0,   0, 255)'/>\n",
       "\t<use xlink:href='#gpPt1' transform='translate(103.1,41.4) scale(4.50)' color='rgb(  0,   0, 255)'/>\n",
       "\t<use xlink:href='#gpPt1' transform='translate(115.4,41.6) scale(4.50)' color='rgb(  0,   0, 255)'/>\n",
       "\t<use xlink:href='#gpPt1' transform='translate(127.7,41.8) scale(4.50)' color='rgb(  0,   0, 255)'/>\n",
       "\t<use xlink:href='#gpPt1' transform='translate(139.9,42.1) scale(4.50)' color='rgb(  0,   0, 255)'/>\n",
       "\t<use xlink:href='#gpPt1' transform='translate(152.1,42.5) scale(4.50)' color='rgb(  0,   0, 255)'/>\n",
       "\t<use xlink:href='#gpPt1' transform='translate(164.2,42.9) scale(4.50)' color='rgb(  0,   0, 255)'/>\n",
       "\t<use xlink:href='#gpPt1' transform='translate(176.4,43.3) scale(4.50)' color='rgb(  0,   0, 255)'/>\n",
       "\t<use xlink:href='#gpPt1' transform='translate(188.4,43.8) scale(4.50)' color='rgb(  0,   0, 255)'/>\n",
       "\t<use xlink:href='#gpPt1' transform='translate(200.5,44.4) scale(4.50)' color='rgb(  0,   0, 255)'/>\n",
       "\t<use xlink:href='#gpPt1' transform='translate(212.4,44.9) scale(4.50)' color='rgb(  0,   0, 255)'/>\n",
       "\t<use xlink:href='#gpPt1' transform='translate(224.3,45.6) scale(4.50)' color='rgb(  0,   0, 255)'/>\n",
       "\t<use xlink:href='#gpPt1' transform='translate(236.2,46.2) scale(4.50)' color='rgb(  0,   0, 255)'/>\n",
       "\t<use xlink:href='#gpPt1' transform='translate(248.0,46.9) scale(4.50)' color='rgb(  0,   0, 255)'/>\n",
       "\t<use xlink:href='#gpPt1' transform='translate(259.7,47.7) scale(4.50)' color='rgb(  0,   0, 255)'/>\n",
       "\t<use xlink:href='#gpPt1' transform='translate(271.4,48.5) scale(4.50)' color='rgb(  0,   0, 255)'/>\n",
       "\t<use xlink:href='#gpPt1' transform='translate(282.9,49.3) scale(4.50)' color='rgb(  0,   0, 255)'/>\n",
       "\t<use xlink:href='#gpPt1' transform='translate(294.4,50.2) scale(4.50)' color='rgb(  0,   0, 255)'/>\n",
       "\t<use xlink:href='#gpPt1' transform='translate(305.8,51.1) scale(4.50)' color='rgb(  0,   0, 255)'/>\n",
       "\t<use xlink:href='#gpPt1' transform='translate(317.1,52.1) scale(4.50)' color='rgb(  0,   0, 255)'/>\n",
       "\t<use xlink:href='#gpPt1' transform='translate(328.4,53.1) scale(4.50)' color='rgb(  0,   0, 255)'/>\n",
       "\t<use xlink:href='#gpPt1' transform='translate(339.5,54.2) scale(4.50)' color='rgb(  0,   0, 255)'/>\n",
       "\t<use xlink:href='#gpPt1' transform='translate(350.5,55.2) scale(4.50)' color='rgb(  0,   0, 255)'/>\n",
       "\t<use xlink:href='#gpPt1' transform='translate(361.4,56.4) scale(4.50)' color='rgb(  0,   0, 255)'/>\n",
       "\t<use xlink:href='#gpPt1' transform='translate(372.2,57.5) scale(4.50)' color='rgb(  0,   0, 255)'/>\n",
       "\t<use xlink:href='#gpPt1' transform='translate(383.0,58.7) scale(4.50)' color='rgb(  0,   0, 255)'/>\n",
       "\t<use xlink:href='#gpPt1' transform='translate(393.5,60.0) scale(4.50)' color='rgb(  0,   0, 255)'/>\n",
       "\t<use xlink:href='#gpPt1' transform='translate(404.0,61.3) scale(4.50)' color='rgb(  0,   0, 255)'/>\n",
       "\t<use xlink:href='#gpPt1' transform='translate(414.4,62.6) scale(4.50)' color='rgb(  0,   0, 255)'/>\n",
       "\t<use xlink:href='#gpPt1' transform='translate(424.6,63.9) scale(4.50)' color='rgb(  0,   0, 255)'/>\n",
       "\t<use xlink:href='#gpPt1' transform='translate(434.7,65.3) scale(4.50)' color='rgb(  0,   0, 255)'/>\n",
       "\t<use xlink:href='#gpPt1' transform='translate(444.7,66.8) scale(4.50)' color='rgb(  0,   0, 255)'/>\n",
       "\t<use xlink:href='#gpPt1' transform='translate(454.5,68.2) scale(4.50)' color='rgb(  0,   0, 255)'/>\n",
       "\t<use xlink:href='#gpPt1' transform='translate(464.3,69.7) scale(4.50)' color='rgb(  0,   0, 255)'/>\n",
       "\t<use xlink:href='#gpPt1' transform='translate(473.8,71.2) scale(4.50)' color='rgb(  0,   0, 255)'/>\n",
       "\t<use xlink:href='#gpPt1' transform='translate(483.3,72.8) scale(4.50)' color='rgb(  0,   0, 255)'/>\n",
       "\t<use xlink:href='#gpPt1' transform='translate(492.6,74.4) scale(4.50)' color='rgb(  0,   0, 255)'/>\n",
       "\t<use xlink:href='#gpPt1' transform='translate(501.7,76.0) scale(4.50)' color='rgb(  0,   0, 255)'/>\n",
       "\t<use xlink:href='#gpPt1' transform='translate(510.7,77.6) scale(4.50)' color='rgb(  0,   0, 255)'/>\n",
       "\t<use xlink:href='#gpPt1' transform='translate(519.6,79.3) scale(4.50)' color='rgb(  0,   0, 255)'/>\n",
       "\t<use xlink:href='#gpPt1' transform='translate(528.3,81.0) scale(4.50)' color='rgb(  0,   0, 255)'/>\n",
       "\t<use xlink:href='#gpPt1' transform='translate(536.9,82.7) scale(4.50)' color='rgb(  0,   0, 255)'/>\n",
       "\t<use xlink:href='#gpPt1' transform='translate(545.3,84.5) scale(4.50)' color='rgb(  0,   0, 255)'/>\n",
       "\t<use xlink:href='#gpPt1' transform='translate(553.5,86.3) scale(4.50)' color='rgb(  0,   0, 255)'/>\n",
       "\t<use xlink:href='#gpPt1' transform='translate(561.6,88.1) scale(4.50)' color='rgb(  0,   0, 255)'/>\n",
       "\t<use xlink:href='#gpPt1' transform='translate(569.5,89.9) scale(4.50)' color='rgb(  0,   0, 255)'/>\n",
       "\t<use xlink:href='#gpPt1' transform='translate(577.3,91.7) scale(4.50)' color='rgb(  0,   0, 255)'/>\n",
       "\t<use xlink:href='#gpPt1' transform='translate(584.9,93.6) scale(4.50)' color='rgb(  0,   0, 255)'/>\n",
       "\t<use xlink:href='#gpPt1' transform='translate(592.4,95.5) scale(4.50)' color='rgb(  0,   0, 255)'/>\n",
       "\t<use xlink:href='#gpPt1' transform='translate(599.7,97.4) scale(4.50)' color='rgb(  0,   0, 255)'/>\n",
       "\t<use xlink:href='#gpPt1' transform='translate(606.8,99.3) scale(4.50)' color='rgb(  0,   0, 255)'/>\n",
       "\t<use xlink:href='#gpPt1' transform='translate(613.8,101.3) scale(4.50)' color='rgb(  0,   0, 255)'/>\n",
       "\t<use xlink:href='#gpPt1' transform='translate(620.6,103.3) scale(4.50)' color='rgb(  0,   0, 255)'/>\n",
       "\t<use xlink:href='#gpPt1' transform='translate(627.3,105.3) scale(4.50)' color='rgb(  0,   0, 255)'/>\n",
       "\t<use xlink:href='#gpPt1' transform='translate(633.7,107.3) scale(4.50)' color='rgb(  0,   0, 255)'/>\n",
       "\t<use xlink:href='#gpPt1' transform='translate(640.0,109.3) scale(4.50)' color='rgb(  0,   0, 255)'/>\n",
       "\t<use xlink:href='#gpPt1' transform='translate(646.2,111.3) scale(4.50)' color='rgb(  0,   0, 255)'/>\n",
       "\t<use xlink:href='#gpPt1' transform='translate(652.2,113.4) scale(4.50)' color='rgb(  0,   0, 255)'/>\n",
       "\t<use xlink:href='#gpPt1' transform='translate(658.0,115.4) scale(4.50)' color='rgb(  0,   0, 255)'/>\n",
       "\t<use xlink:href='#gpPt1' transform='translate(663.6,117.5) scale(4.50)' color='rgb(  0,   0, 255)'/>\n",
       "\t<use xlink:href='#gpPt1' transform='translate(669.1,119.6) scale(4.50)' color='rgb(  0,   0, 255)'/>\n",
       "\t<use xlink:href='#gpPt1' transform='translate(674.4,121.7) scale(4.50)' color='rgb(  0,   0, 255)'/>\n",
       "\t<use xlink:href='#gpPt1' transform='translate(679.6,123.8) scale(4.50)' color='rgb(  0,   0, 255)'/>\n",
       "\t<use xlink:href='#gpPt1' transform='translate(684.6,125.9) scale(4.50)' color='rgb(  0,   0, 255)'/>\n",
       "\t<use xlink:href='#gpPt1' transform='translate(689.4,128.0) scale(4.50)' color='rgb(  0,   0, 255)'/>\n",
       "\t<use xlink:href='#gpPt1' transform='translate(694.1,130.1) scale(4.50)' color='rgb(  0,   0, 255)'/>\n",
       "\t<use xlink:href='#gpPt1' transform='translate(698.6,132.2) scale(4.50)' color='rgb(  0,   0, 255)'/>\n",
       "\t<use xlink:href='#gpPt1' transform='translate(703.0,134.4) scale(4.50)' color='rgb(  0,   0, 255)'/>\n",
       "\t<use xlink:href='#gpPt1' transform='translate(707.2,136.5) scale(4.50)' color='rgb(  0,   0, 255)'/>\n",
       "\t<use xlink:href='#gpPt1' transform='translate(711.2,138.7) scale(4.50)' color='rgb(  0,   0, 255)'/>\n",
       "\t<use xlink:href='#gpPt1' transform='translate(715.1,140.8) scale(4.50)' color='rgb(  0,   0, 255)'/>\n",
       "\t<use xlink:href='#gpPt1' transform='translate(718.8,143.0) scale(4.50)' color='rgb(  0,   0, 255)'/>\n",
       "\t<use xlink:href='#gpPt1' transform='translate(722.4,145.1) scale(4.50)' color='rgb(  0,   0, 255)'/>\n",
       "\t<use xlink:href='#gpPt1' transform='translate(725.8,147.3) scale(4.50)' color='rgb(  0,   0, 255)'/>\n",
       "\t<use xlink:href='#gpPt1' transform='translate(729.1,149.4) scale(4.50)' color='rgb(  0,   0, 255)'/>\n",
       "\t<use xlink:href='#gpPt1' transform='translate(732.2,151.6) scale(4.50)' color='rgb(  0,   0, 255)'/>\n",
       "\t<use xlink:href='#gpPt1' transform='translate(735.2,153.7) scale(4.50)' color='rgb(  0,   0, 255)'/>\n",
       "\t<use xlink:href='#gpPt1' transform='translate(738.0,155.9) scale(4.50)' color='rgb(  0,   0, 255)'/>\n",
       "\t<use xlink:href='#gpPt1' transform='translate(740.7,158.0) scale(4.50)' color='rgb(  0,   0, 255)'/>\n",
       "\t<use xlink:href='#gpPt1' transform='translate(743.3,160.2) scale(4.50)' color='rgb(  0,   0, 255)'/>\n",
       "\t<use xlink:href='#gpPt1' transform='translate(745.7,162.3) scale(4.50)' color='rgb(  0,   0, 255)'/>\n",
       "\t<use xlink:href='#gpPt1' transform='translate(748.0,164.4) scale(4.50)' color='rgb(  0,   0, 255)'/>\n",
       "\t<use xlink:href='#gpPt1' transform='translate(750.1,166.6) scale(4.50)' color='rgb(  0,   0, 255)'/>\n",
       "\t<use xlink:href='#gpPt1' transform='translate(752.2,168.7) scale(4.50)' color='rgb(  0,   0, 255)'/>\n",
       "\t<use xlink:href='#gpPt1' transform='translate(754.1,170.8) scale(4.50)' color='rgb(  0,   0, 255)'/>\n",
       "\t<use xlink:href='#gpPt1' transform='translate(755.8,172.9) scale(4.50)' color='rgb(  0,   0, 255)'/>\n",
       "\t<use xlink:href='#gpPt1' transform='translate(757.5,175.0) scale(4.50)' color='rgb(  0,   0, 255)'/>\n",
       "\t<use xlink:href='#gpPt1' transform='translate(759.0,177.1) scale(4.50)' color='rgb(  0,   0, 255)'/>\n",
       "\t<use xlink:href='#gpPt1' transform='translate(760.4,179.2) scale(4.50)' color='rgb(  0,   0, 255)'/>\n",
       "\t<use xlink:href='#gpPt1' transform='translate(761.7,181.3) scale(4.50)' color='rgb(  0,   0, 255)'/>\n",
       "\t<use xlink:href='#gpPt1' transform='translate(762.9,183.3) scale(4.50)' color='rgb(  0,   0, 255)'/>\n",
       "\t<use xlink:href='#gpPt1' transform='translate(764.0,185.4) scale(4.50)' color='rgb(  0,   0, 255)'/>\n",
       "\t<use xlink:href='#gpPt1' transform='translate(764.9,187.4) scale(4.50)' color='rgb(  0,   0, 255)'/>\n",
       "\t<use xlink:href='#gpPt1' transform='translate(765.8,189.5) scale(4.50)' color='rgb(  0,   0, 255)'/>\n",
       "\t<use xlink:href='#gpPt1' transform='translate(766.6,191.5) scale(4.50)' color='rgb(  0,   0, 255)'/>\n",
       "\t<use xlink:href='#gpPt1' transform='translate(767.3,193.5) scale(4.50)' color='rgb(  0,   0, 255)'/>\n",
       "\t<use xlink:href='#gpPt1' transform='translate(767.8,195.5) scale(4.50)' color='rgb(  0,   0, 255)'/>\n",
       "\t<use xlink:href='#gpPt1' transform='translate(768.3,197.5) scale(4.50)' color='rgb(  0,   0, 255)'/>\n",
       "\t<use xlink:href='#gpPt1' transform='translate(768.7,199.5) scale(4.50)' color='rgb(  0,   0, 255)'/>\n",
       "\t<use xlink:href='#gpPt1' transform='translate(769.1,201.4) scale(4.50)' color='rgb(  0,   0, 255)'/>\n",
       "\t<use xlink:href='#gpPt1' transform='translate(769.3,203.4) scale(4.50)' color='rgb(  0,   0, 255)'/>\n",
       "\t<use xlink:href='#gpPt1' transform='translate(769.5,205.3) scale(4.50)' color='rgb(  0,   0, 255)'/>\n",
       "\t<use xlink:href='#gpPt1' transform='translate(769.6,207.3) scale(4.50)' color='rgb(  0,   0, 255)'/>\n",
       "\t<use xlink:href='#gpPt1' transform='translate(769.6,209.2) scale(4.50)' color='rgb(  0,   0, 255)'/>\n",
       "\t<use xlink:href='#gpPt1' transform='translate(769.5,211.1) scale(4.50)' color='rgb(  0,   0, 255)'/>\n",
       "\t<use xlink:href='#gpPt1' transform='translate(769.4,213.0) scale(4.50)' color='rgb(  0,   0, 255)'/>\n",
       "\t<use xlink:href='#gpPt1' transform='translate(769.3,214.8) scale(4.50)' color='rgb(  0,   0, 255)'/>\n",
       "\t<use xlink:href='#gpPt1' transform='translate(769.0,216.7) scale(4.50)' color='rgb(  0,   0, 255)'/>\n",
       "\t<use xlink:href='#gpPt1' transform='translate(768.7,218.5) scale(4.50)' color='rgb(  0,   0, 255)'/>\n",
       "\t<use xlink:href='#gpPt1' transform='translate(768.4,220.4) scale(4.50)' color='rgb(  0,   0, 255)'/>\n",
       "\t<use xlink:href='#gpPt1' transform='translate(768.0,222.2) scale(4.50)' color='rgb(  0,   0, 255)'/>\n",
       "\t<use xlink:href='#gpPt1' transform='translate(767.6,224.0) scale(4.50)' color='rgb(  0,   0, 255)'/>\n",
       "\t<use xlink:href='#gpPt1' transform='translate(767.1,225.7) scale(4.50)' color='rgb(  0,   0, 255)'/>\n",
       "\t<use xlink:href='#gpPt1' transform='translate(766.6,227.5) scale(4.50)' color='rgb(  0,   0, 255)'/>\n",
       "\t<use xlink:href='#gpPt1' transform='translate(766.1,229.3) scale(4.50)' color='rgb(  0,   0, 255)'/>\n",
       "\t<use xlink:href='#gpPt1' transform='translate(765.5,231.0) scale(4.50)' color='rgb(  0,   0, 255)'/>\n",
       "\t<use xlink:href='#gpPt1' transform='translate(764.9,232.7) scale(4.50)' color='rgb(  0,   0, 255)'/>\n",
       "\t<use xlink:href='#gpPt1' transform='translate(764.3,234.5) scale(4.50)' color='rgb(  0,   0, 255)'/>\n",
       "\t<use xlink:href='#gpPt1' transform='translate(763.6,236.2) scale(4.50)' color='rgb(  0,   0, 255)'/>\n",
       "\t<use xlink:href='#gpPt1' transform='translate(762.9,237.8) scale(4.50)' color='rgb(  0,   0, 255)'/>\n",
       "\t<use xlink:href='#gpPt1' transform='translate(762.3,239.5) scale(4.50)' color='rgb(  0,   0, 255)'/>\n",
       "\t<use xlink:href='#gpPt1' transform='translate(761.5,241.2) scale(4.50)' color='rgb(  0,   0, 255)'/>\n",
       "\t<use xlink:href='#gpPt1' transform='translate(760.8,242.8) scale(4.50)' color='rgb(  0,   0, 255)'/>\n",
       "\t<use xlink:href='#gpPt1' transform='translate(760.1,244.4) scale(4.50)' color='rgb(  0,   0, 255)'/>\n",
       "\t<use xlink:href='#gpPt1' transform='translate(759.4,246.1) scale(4.50)' color='rgb(  0,   0, 255)'/>\n",
       "\t<use xlink:href='#gpPt1' transform='translate(758.6,247.7) scale(4.50)' color='rgb(  0,   0, 255)'/>\n",
       "\t<use xlink:href='#gpPt1' transform='translate(757.9,249.3) scale(4.50)' color='rgb(  0,   0, 255)'/>\n",
       "\t<use xlink:href='#gpPt1' transform='translate(757.2,250.8) scale(4.50)' color='rgb(  0,   0, 255)'/>\n",
       "\t<use xlink:href='#gpPt1' transform='translate(756.4,252.4) scale(4.50)' color='rgb(  0,   0, 255)'/>\n",
       "\t<use xlink:href='#gpPt1' transform='translate(755.7,254.0) scale(4.50)' color='rgb(  0,   0, 255)'/>\n",
       "\t<use xlink:href='#gpPt1' transform='translate(755.0,255.5) scale(4.50)' color='rgb(  0,   0, 255)'/>\n",
       "\t<use xlink:href='#gpPt1' transform='translate(754.3,257.0) scale(4.50)' color='rgb(  0,   0, 255)'/>\n",
       "\t<use xlink:href='#gpPt1' transform='translate(753.6,258.6) scale(4.50)' color='rgb(  0,   0, 255)'/>\n",
       "\t<use xlink:href='#gpPt1' transform='translate(752.9,260.1) scale(4.50)' color='rgb(  0,   0, 255)'/>\n",
       "\t<use xlink:href='#gpPt1' transform='translate(752.3,261.6) scale(4.50)' color='rgb(  0,   0, 255)'/>\n",
       "\t<use xlink:href='#gpPt1' transform='translate(751.6,263.1) scale(4.50)' color='rgb(  0,   0, 255)'/>\n",
       "\t<use xlink:href='#gpPt1' transform='translate(751.0,264.6) scale(4.50)' color='rgb(  0,   0, 255)'/>\n",
       "\t<use xlink:href='#gpPt1' transform='translate(750.4,266.0) scale(4.50)' color='rgb(  0,   0, 255)'/>\n",
       "\t<use xlink:href='#gpPt1' transform='translate(749.8,267.5) scale(4.50)' color='rgb(  0,   0, 255)'/>\n",
       "\t<use xlink:href='#gpPt1' transform='translate(749.3,269.0) scale(4.50)' color='rgb(  0,   0, 255)'/>\n",
       "\t<use xlink:href='#gpPt1' transform='translate(748.8,270.4) scale(4.50)' color='rgb(  0,   0, 255)'/>\n",
       "\t<use xlink:href='#gpPt1' transform='translate(748.3,271.9) scale(4.50)' color='rgb(  0,   0, 255)'/>\n",
       "\t<use xlink:href='#gpPt1' transform='translate(747.8,273.3) scale(4.50)' color='rgb(  0,   0, 255)'/>\n",
       "\t<use xlink:href='#gpPt1' transform='translate(747.4,274.7) scale(4.50)' color='rgb(  0,   0, 255)'/>\n",
       "\t<use xlink:href='#gpPt1' transform='translate(747.0,276.2) scale(4.50)' color='rgb(  0,   0, 255)'/>\n",
       "\t<use xlink:href='#gpPt1' transform='translate(746.6,277.6) scale(4.50)' color='rgb(  0,   0, 255)'/>\n",
       "\t<use xlink:href='#gpPt1' transform='translate(746.3,279.0) scale(4.50)' color='rgb(  0,   0, 255)'/>\n",
       "\t<use xlink:href='#gpPt1' transform='translate(746.0,280.4) scale(4.50)' color='rgb(  0,   0, 255)'/>\n",
       "\t<use xlink:href='#gpPt1' transform='translate(745.8,281.8) scale(4.50)' color='rgb(  0,   0, 255)'/>\n",
       "\t<use xlink:href='#gpPt1' transform='translate(745.6,283.2) scale(4.50)' color='rgb(  0,   0, 255)'/>\n",
       "\t<use xlink:href='#gpPt1' transform='translate(745.4,284.6) scale(4.50)' color='rgb(  0,   0, 255)'/>\n",
       "\t<use xlink:href='#gpPt1' transform='translate(745.2,286.0) scale(4.50)' color='rgb(  0,   0, 255)'/>\n",
       "\t<use xlink:href='#gpPt1' transform='translate(745.1,287.4) scale(4.50)' color='rgb(  0,   0, 255)'/>\n",
       "\t<use xlink:href='#gpPt1' transform='translate(745.1,288.8) scale(4.50)' color='rgb(  0,   0, 255)'/>\n",
       "\t<use xlink:href='#gpPt1' transform='translate(745.1,290.2) scale(4.50)' color='rgb(  0,   0, 255)'/>\n",
       "\t<use xlink:href='#gpPt1' transform='translate(745.1,291.6) scale(4.50)' color='rgb(  0,   0, 255)'/>\n",
       "\t<use xlink:href='#gpPt1' transform='translate(745.1,293.0) scale(4.50)' color='rgb(  0,   0, 255)'/>\n",
       "\t<use xlink:href='#gpPt1' transform='translate(745.2,294.4) scale(4.50)' color='rgb(  0,   0, 255)'/>\n",
       "\t<use xlink:href='#gpPt1' transform='translate(745.4,295.8) scale(4.50)' color='rgb(  0,   0, 255)'/>\n",
       "\t<use xlink:href='#gpPt1' transform='translate(745.5,297.2) scale(4.50)' color='rgb(  0,   0, 255)'/>\n",
       "\t<use xlink:href='#gpPt1' transform='translate(745.7,298.6) scale(4.50)' color='rgb(  0,   0, 255)'/>\n",
       "\t<use xlink:href='#gpPt1' transform='translate(746.0,300.1) scale(4.50)' color='rgb(  0,   0, 255)'/>\n",
       "\t<use xlink:href='#gpPt1' transform='translate(746.3,301.5) scale(4.50)' color='rgb(  0,   0, 255)'/>\n",
       "\t<use xlink:href='#gpPt1' transform='translate(746.6,302.9) scale(4.50)' color='rgb(  0,   0, 255)'/>\n",
       "\t<use xlink:href='#gpPt1' transform='translate(746.9,304.3) scale(4.50)' color='rgb(  0,   0, 255)'/>\n",
       "\t<use xlink:href='#gpPt1' transform='translate(747.3,305.7) scale(4.50)' color='rgb(  0,   0, 255)'/>\n",
       "\t<use xlink:href='#gpPt1' transform='translate(747.7,307.2) scale(4.50)' color='rgb(  0,   0, 255)'/>\n",
       "\t<use xlink:href='#gpPt1' transform='translate(748.2,308.6) scale(4.50)' color='rgb(  0,   0, 255)'/>\n",
       "\t<use xlink:href='#gpPt1' transform='translate(748.7,310.1) scale(4.50)' color='rgb(  0,   0, 255)'/>\n",
       "\t<use xlink:href='#gpPt1' transform='translate(749.2,311.5) scale(4.50)' color='rgb(  0,   0, 255)'/>\n",
       "\t<use xlink:href='#gpPt1' transform='translate(749.7,313.0) scale(4.50)' color='rgb(  0,   0, 255)'/>\n",
       "\t<use xlink:href='#gpPt1' transform='translate(750.3,314.4) scale(4.50)' color='rgb(  0,   0, 255)'/>\n",
       "\t<use xlink:href='#gpPt1' transform='translate(750.9,315.9) scale(4.50)' color='rgb(  0,   0, 255)'/>\n",
       "\t<use xlink:href='#gpPt1' transform='translate(751.5,317.4) scale(4.50)' color='rgb(  0,   0, 255)'/>\n",
       "\t<use xlink:href='#gpPt1' transform='translate(752.1,318.9) scale(4.50)' color='rgb(  0,   0, 255)'/>\n",
       "\t<use xlink:href='#gpPt1' transform='translate(752.8,320.4) scale(4.50)' color='rgb(  0,   0, 255)'/>\n",
       "\t<use xlink:href='#gpPt1' transform='translate(753.5,321.9) scale(4.50)' color='rgb(  0,   0, 255)'/>\n",
       "\t<use xlink:href='#gpPt1' transform='translate(754.2,323.4) scale(4.50)' color='rgb(  0,   0, 255)'/>\n",
       "\t<use xlink:href='#gpPt1' transform='translate(754.9,324.9) scale(4.50)' color='rgb(  0,   0, 255)'/>\n",
       "\t<use xlink:href='#gpPt1' transform='translate(755.6,326.5) scale(4.50)' color='rgb(  0,   0, 255)'/>\n",
       "\t<use xlink:href='#gpPt1' transform='translate(756.3,328.0) scale(4.50)' color='rgb(  0,   0, 255)'/>\n",
       "\t<use xlink:href='#gpPt1' transform='translate(757.0,329.6) scale(4.50)' color='rgb(  0,   0, 255)'/>\n",
       "\t<use xlink:href='#gpPt1' transform='translate(757.8,331.2) scale(4.50)' color='rgb(  0,   0, 255)'/>\n",
       "\t<use xlink:href='#gpPt1' transform='translate(758.5,332.8) scale(4.50)' color='rgb(  0,   0, 255)'/>\n",
       "\t<use xlink:href='#gpPt1' transform='translate(759.3,334.4) scale(4.50)' color='rgb(  0,   0, 255)'/>\n",
       "\t<use xlink:href='#gpPt1' transform='translate(760.0,336.0) scale(4.50)' color='rgb(  0,   0, 255)'/>\n",
       "\t<use xlink:href='#gpPt1' transform='translate(760.7,337.6) scale(4.50)' color='rgb(  0,   0, 255)'/>\n",
       "\t<use xlink:href='#gpPt1' transform='translate(761.4,339.3) scale(4.50)' color='rgb(  0,   0, 255)'/>\n",
       "\t<use xlink:href='#gpPt1' transform='translate(762.1,340.9) scale(4.50)' color='rgb(  0,   0, 255)'/>\n",
       "\t<use xlink:href='#gpPt1' transform='translate(762.8,342.6) scale(4.50)' color='rgb(  0,   0, 255)'/>\n",
       "\t<use xlink:href='#gpPt1' transform='translate(763.5,344.3) scale(4.50)' color='rgb(  0,   0, 255)'/>\n",
       "\t<use xlink:href='#gpPt1' transform='translate(764.2,346.0) scale(4.50)' color='rgb(  0,   0, 255)'/>\n",
       "\t<use xlink:href='#gpPt1' transform='translate(764.8,347.7) scale(4.50)' color='rgb(  0,   0, 255)'/>\n",
       "\t<use xlink:href='#gpPt1' transform='translate(765.4,349.4) scale(4.50)' color='rgb(  0,   0, 255)'/>\n",
       "\t<use xlink:href='#gpPt1' transform='translate(766.0,351.1) scale(4.50)' color='rgb(  0,   0, 255)'/>\n",
       "\t<use xlink:href='#gpPt1' transform='translate(766.5,352.9) scale(4.50)' color='rgb(  0,   0, 255)'/>\n",
       "\t<use xlink:href='#gpPt1' transform='translate(767.1,354.7) scale(4.50)' color='rgb(  0,   0, 255)'/>\n",
       "\t<use xlink:href='#gpPt1' transform='translate(767.5,356.5) scale(4.50)' color='rgb(  0,   0, 255)'/>\n",
       "\t<use xlink:href='#gpPt1' transform='translate(768.0,358.2) scale(4.50)' color='rgb(  0,   0, 255)'/>\n",
       "\t<use xlink:href='#gpPt1' transform='translate(768.4,360.1) scale(4.50)' color='rgb(  0,   0, 255)'/>\n",
       "\t<use xlink:href='#gpPt1' transform='translate(768.7,361.9) scale(4.50)' color='rgb(  0,   0, 255)'/>\n",
       "\t<use xlink:href='#gpPt1' transform='translate(769.0,363.7) scale(4.50)' color='rgb(  0,   0, 255)'/>\n",
       "\t<use xlink:href='#gpPt1' transform='translate(769.2,365.6) scale(4.50)' color='rgb(  0,   0, 255)'/>\n",
       "\t<use xlink:href='#gpPt1' transform='translate(769.4,367.4) scale(4.50)' color='rgb(  0,   0, 255)'/>\n",
       "\t<use xlink:href='#gpPt1' transform='translate(769.5,369.3) scale(4.50)' color='rgb(  0,   0, 255)'/>\n",
       "\t<use xlink:href='#gpPt1' transform='translate(769.6,371.2) scale(4.50)' color='rgb(  0,   0, 255)'/>\n",
       "\t<use xlink:href='#gpPt1' transform='translate(769.6,373.1) scale(4.50)' color='rgb(  0,   0, 255)'/>\n",
       "\t<use xlink:href='#gpPt1' transform='translate(769.5,375.1) scale(4.50)' color='rgb(  0,   0, 255)'/>\n",
       "\t<use xlink:href='#gpPt1' transform='translate(769.3,377.0) scale(4.50)' color='rgb(  0,   0, 255)'/>\n",
       "\t<use xlink:href='#gpPt1' transform='translate(769.1,378.9) scale(4.50)' color='rgb(  0,   0, 255)'/>\n",
       "\t<use xlink:href='#gpPt1' transform='translate(768.8,380.9) scale(4.50)' color='rgb(  0,   0, 255)'/>\n",
       "\t<use xlink:href='#gpPt1' transform='translate(768.4,382.9) scale(4.50)' color='rgb(  0,   0, 255)'/>\n",
       "\t<use xlink:href='#gpPt1' transform='translate(767.9,384.9) scale(4.50)' color='rgb(  0,   0, 255)'/>\n",
       "\t<use xlink:href='#gpPt1' transform='translate(767.4,386.9) scale(4.50)' color='rgb(  0,   0, 255)'/>\n",
       "\t<use xlink:href='#gpPt1' transform='translate(766.7,388.9) scale(4.50)' color='rgb(  0,   0, 255)'/>\n",
       "\t<use xlink:href='#gpPt1' transform='translate(765.9,390.9) scale(4.50)' color='rgb(  0,   0, 255)'/>\n",
       "\t<use xlink:href='#gpPt1' transform='translate(765.1,392.9) scale(4.50)' color='rgb(  0,   0, 255)'/>\n",
       "\t<use xlink:href='#gpPt1' transform='translate(764.1,395.0) scale(4.50)' color='rgb(  0,   0, 255)'/>\n",
       "\t<use xlink:href='#gpPt1' transform='translate(763.1,397.0) scale(4.50)' color='rgb(  0,   0, 255)'/>\n",
       "\t<use xlink:href='#gpPt1' transform='translate(761.9,399.1) scale(4.50)' color='rgb(  0,   0, 255)'/>\n",
       "\t<use xlink:href='#gpPt1' transform='translate(760.6,401.2) scale(4.50)' color='rgb(  0,   0, 255)'/>\n",
       "\t<use xlink:href='#gpPt1' transform='translate(759.2,403.3) scale(4.50)' color='rgb(  0,   0, 255)'/>\n",
       "\t<use xlink:href='#gpPt1' transform='translate(757.7,405.4) scale(4.50)' color='rgb(  0,   0, 255)'/>\n",
       "\t<use xlink:href='#gpPt1' transform='translate(756.1,407.5) scale(4.50)' color='rgb(  0,   0, 255)'/>\n",
       "\t<use xlink:href='#gpPt1' transform='translate(754.3,409.6) scale(4.50)' color='rgb(  0,   0, 255)'/>\n",
       "\t<use xlink:href='#gpPt1' transform='translate(752.5,411.7) scale(4.50)' color='rgb(  0,   0, 255)'/>\n",
       "\t<use xlink:href='#gpPt1' transform='translate(750.5,413.8) scale(4.50)' color='rgb(  0,   0, 255)'/>\n",
       "\t<use xlink:href='#gpPt1' transform='translate(748.3,415.9) scale(4.50)' color='rgb(  0,   0, 255)'/>\n",
       "\t<use xlink:href='#gpPt1' transform='translate(746.1,418.1) scale(4.50)' color='rgb(  0,   0, 255)'/>\n",
       "\t<use xlink:href='#gpPt1' transform='translate(743.7,420.2) scale(4.50)' color='rgb(  0,   0, 255)'/>\n",
       "\t<use xlink:href='#gpPt1' transform='translate(741.1,422.3) scale(4.50)' color='rgb(  0,   0, 255)'/>\n",
       "\t<use xlink:href='#gpPt1' transform='translate(738.5,424.5) scale(4.50)' color='rgb(  0,   0, 255)'/>\n",
       "\t<use xlink:href='#gpPt1' transform='translate(735.6,426.6) scale(4.50)' color='rgb(  0,   0, 255)'/>\n",
       "\t<use xlink:href='#gpPt1' transform='translate(732.7,428.8) scale(4.50)' color='rgb(  0,   0, 255)'/>\n",
       "\t<use xlink:href='#gpPt1' transform='translate(729.6,430.9) scale(4.50)' color='rgb(  0,   0, 255)'/>\n",
       "\t<use xlink:href='#gpPt1' transform='translate(726.3,433.1) scale(4.50)' color='rgb(  0,   0, 255)'/>\n",
       "\t<use xlink:href='#gpPt1' transform='translate(722.9,435.2) scale(4.50)' color='rgb(  0,   0, 255)'/>\n",
       "\t<use xlink:href='#gpPt1' transform='translate(719.4,437.4) scale(4.50)' color='rgb(  0,   0, 255)'/>\n",
       "\t<use xlink:href='#gpPt1' transform='translate(715.7,439.5) scale(4.50)' color='rgb(  0,   0, 255)'/>\n",
       "\t<use xlink:href='#gpPt1' transform='translate(711.8,441.7) scale(4.50)' color='rgb(  0,   0, 255)'/>\n",
       "\t<use xlink:href='#gpPt1' transform='translate(707.8,443.8) scale(4.50)' color='rgb(  0,   0, 255)'/>\n",
       "\t<use xlink:href='#gpPt1' transform='translate(703.6,446.0) scale(4.50)' color='rgb(  0,   0, 255)'/>\n",
       "\t<use xlink:href='#gpPt1' transform='translate(699.3,448.1) scale(4.50)' color='rgb(  0,   0, 255)'/>\n",
       "\t<use xlink:href='#gpPt1' transform='translate(694.8,450.2) scale(4.50)' color='rgb(  0,   0, 255)'/>\n",
       "\t<use xlink:href='#gpPt1' transform='translate(690.2,452.4) scale(4.50)' color='rgb(  0,   0, 255)'/>\n",
       "\t<use xlink:href='#gpPt1' transform='translate(685.4,454.5) scale(4.50)' color='rgb(  0,   0, 255)'/>\n",
       "\t<use xlink:href='#gpPt1' transform='translate(680.4,456.6) scale(4.50)' color='rgb(  0,   0, 255)'/>\n",
       "\t<use xlink:href='#gpPt1' transform='translate(675.3,458.7) scale(4.50)' color='rgb(  0,   0, 255)'/>\n",
       "\t<use xlink:href='#gpPt1' transform='translate(670.0,460.8) scale(4.50)' color='rgb(  0,   0, 255)'/>\n",
       "\t<use xlink:href='#gpPt1' transform='translate(664.5,462.9) scale(4.50)' color='rgb(  0,   0, 255)'/>\n",
       "\t<use xlink:href='#gpPt1' transform='translate(658.9,465.0) scale(4.50)' color='rgb(  0,   0, 255)'/>\n",
       "\t<use xlink:href='#gpPt1' transform='translate(653.1,467.0) scale(4.50)' color='rgb(  0,   0, 255)'/>\n",
       "\t<use xlink:href='#gpPt1' transform='translate(647.2,469.1) scale(4.50)' color='rgb(  0,   0, 255)'/>\n",
       "\t<use xlink:href='#gpPt1' transform='translate(641.0,471.1) scale(4.50)' color='rgb(  0,   0, 255)'/>\n",
       "\t<use xlink:href='#gpPt1' transform='translate(634.7,473.1) scale(4.50)' color='rgb(  0,   0, 255)'/>\n",
       "\t<use xlink:href='#gpPt1' transform='translate(628.3,475.1) scale(4.50)' color='rgb(  0,   0, 255)'/>\n",
       "\t<use xlink:href='#gpPt1' transform='translate(621.7,477.1) scale(4.50)' color='rgb(  0,   0, 255)'/>\n",
       "\t<use xlink:href='#gpPt1' transform='translate(614.9,479.1) scale(4.50)' color='rgb(  0,   0, 255)'/>\n",
       "\t<use xlink:href='#gpPt1' transform='translate(608.0,481.0) scale(4.50)' color='rgb(  0,   0, 255)'/>\n",
       "\t<use xlink:href='#gpPt1' transform='translate(600.8,483.0) scale(4.50)' color='rgb(  0,   0, 255)'/>\n",
       "\t<use xlink:href='#gpPt1' transform='translate(593.6,484.9) scale(4.50)' color='rgb(  0,   0, 255)'/>\n",
       "\t<use xlink:href='#gpPt1' transform='translate(586.1,486.8) scale(4.50)' color='rgb(  0,   0, 255)'/>\n",
       "\t<use xlink:href='#gpPt1' transform='translate(578.6,488.7) scale(4.50)' color='rgb(  0,   0, 255)'/>\n",
       "\t<use xlink:href='#gpPt1' transform='translate(570.8,490.5) scale(4.50)' color='rgb(  0,   0, 255)'/>\n",
       "\t<use xlink:href='#gpPt1' transform='translate(562.9,492.4) scale(4.50)' color='rgb(  0,   0, 255)'/>\n",
       "\t<use xlink:href='#gpPt1' transform='translate(554.8,494.2) scale(4.50)' color='rgb(  0,   0, 255)'/>\n",
       "\t<use xlink:href='#gpPt1' transform='translate(546.6,495.9) scale(4.50)' color='rgb(  0,   0, 255)'/>\n",
       "\t<use xlink:href='#gpPt1' transform='translate(538.2,497.7) scale(4.50)' color='rgb(  0,   0, 255)'/>\n",
       "\t<use xlink:href='#gpPt1' transform='translate(529.7,499.4) scale(4.50)' color='rgb(  0,   0, 255)'/>\n",
       "\t<use xlink:href='#gpPt1' transform='translate(521.0,501.1) scale(4.50)' color='rgb(  0,   0, 255)'/>\n",
       "\t<use xlink:href='#gpPt1' transform='translate(512.1,502.8) scale(4.50)' color='rgb(  0,   0, 255)'/>\n",
       "\t<use xlink:href='#gpPt1' transform='translate(503.2,504.5) scale(4.50)' color='rgb(  0,   0, 255)'/>\n",
       "\t<use xlink:href='#gpPt1' transform='translate(494.0,506.1) scale(4.50)' color='rgb(  0,   0, 255)'/>\n",
       "\t<use xlink:href='#gpPt1' transform='translate(484.8,507.7) scale(4.50)' color='rgb(  0,   0, 255)'/>\n",
       "\t<use xlink:href='#gpPt1' transform='translate(475.3,509.2) scale(4.50)' color='rgb(  0,   0, 255)'/>\n",
       "\t<use xlink:href='#gpPt1' transform='translate(465.8,510.8) scale(4.50)' color='rgb(  0,   0, 255)'/>\n",
       "\t<use xlink:href='#gpPt1' transform='translate(456.1,512.3) scale(4.50)' color='rgb(  0,   0, 255)'/>\n",
       "\t<use xlink:href='#gpPt1' transform='translate(446.3,513.7) scale(4.50)' color='rgb(  0,   0, 255)'/>\n",
       "\t<use xlink:href='#gpPt1' transform='translate(436.3,515.1) scale(4.50)' color='rgb(  0,   0, 255)'/>\n",
       "\t<use xlink:href='#gpPt1' transform='translate(426.2,516.5) scale(4.50)' color='rgb(  0,   0, 255)'/>\n",
       "\t<use xlink:href='#gpPt1' transform='translate(416.0,517.9) scale(4.50)' color='rgb(  0,   0, 255)'/>\n",
       "\t<use xlink:href='#gpPt1' transform='translate(405.7,519.2) scale(4.50)' color='rgb(  0,   0, 255)'/>\n",
       "\t<use xlink:href='#gpPt1' transform='translate(395.2,520.5) scale(4.50)' color='rgb(  0,   0, 255)'/>\n",
       "\t<use xlink:href='#gpPt1' transform='translate(384.6,521.8) scale(4.50)' color='rgb(  0,   0, 255)'/>\n",
       "\t<use xlink:href='#gpPt1' transform='translate(374.0,523.0) scale(4.50)' color='rgb(  0,   0, 255)'/>\n",
       "\t<use xlink:href='#gpPt1' transform='translate(363.2,524.1) scale(4.50)' color='rgb(  0,   0, 255)'/>\n",
       "\t<use xlink:href='#gpPt1' transform='translate(352.3,525.3) scale(4.50)' color='rgb(  0,   0, 255)'/>\n",
       "\t<use xlink:href='#gpPt1' transform='translate(341.2,526.4) scale(4.50)' color='rgb(  0,   0, 255)'/>\n",
       "\t<use xlink:href='#gpPt1' transform='translate(330.1,527.4) scale(4.50)' color='rgb(  0,   0, 255)'/>\n",
       "\t<use xlink:href='#gpPt1' transform='translate(318.9,528.4) scale(4.50)' color='rgb(  0,   0, 255)'/>\n",
       "\t<use xlink:href='#gpPt1' transform='translate(307.6,529.4) scale(4.50)' color='rgb(  0,   0, 255)'/>\n",
       "\t<use xlink:href='#gpPt1' transform='translate(296.2,530.3) scale(4.50)' color='rgb(  0,   0, 255)'/>\n",
       "\t<use xlink:href='#gpPt1' transform='translate(284.8,531.2) scale(4.50)' color='rgb(  0,   0, 255)'/>\n",
       "\t<use xlink:href='#gpPt1' transform='translate(273.2,532.1) scale(4.50)' color='rgb(  0,   0, 255)'/>\n",
       "\t<use xlink:href='#gpPt1' transform='translate(261.6,532.9) scale(4.50)' color='rgb(  0,   0, 255)'/>\n",
       "\t<use xlink:href='#gpPt1' transform='translate(249.9,533.7) scale(4.50)' color='rgb(  0,   0, 255)'/>\n",
       "\t<use xlink:href='#gpPt1' transform='translate(238.1,534.4) scale(4.50)' color='rgb(  0,   0, 255)'/>\n",
       "\t<use xlink:href='#gpPt1' transform='translate(226.2,535.0) scale(4.50)' color='rgb(  0,   0, 255)'/>\n",
       "\t<use xlink:href='#gpPt1' transform='translate(214.3,535.7) scale(4.50)' color='rgb(  0,   0, 255)'/>\n",
       "\t<use xlink:href='#gpPt1' transform='translate(202.4,536.3) scale(4.50)' color='rgb(  0,   0, 255)'/>\n",
       "\t<use xlink:href='#gpPt1' transform='translate(190.3,536.8) scale(4.50)' color='rgb(  0,   0, 255)'/>\n",
       "\t<use xlink:href='#gpPt1' transform='translate(178.3,537.3) scale(4.50)' color='rgb(  0,   0, 255)'/>\n",
       "\t<use xlink:href='#gpPt1' transform='translate(166.2,537.7) scale(4.50)' color='rgb(  0,   0, 255)'/>\n",
       "\t<use xlink:href='#gpPt1' transform='translate(154.0,538.1) scale(4.50)' color='rgb(  0,   0, 255)'/>\n",
       "\t<use xlink:href='#gpPt1' transform='translate(141.8,538.5) scale(4.50)' color='rgb(  0,   0, 255)'/>\n",
       "\t<use xlink:href='#gpPt1' transform='translate(129.6,538.8) scale(4.50)' color='rgb(  0,   0, 255)'/>\n",
       "\t<use xlink:href='#gpPt1' transform='translate(117.4,539.1) scale(4.50)' color='rgb(  0,   0, 255)'/>\n",
       "\t<use xlink:href='#gpPt1' transform='translate(105.1,539.3) scale(4.50)' color='rgb(  0,   0, 255)'/>\n",
       "\t<use xlink:href='#gpPt1' transform='translate(92.8,539.5) scale(4.50)' color='rgb(  0,   0, 255)'/>\n",
       "\t<use xlink:href='#gpPt1' transform='translate(80.5,539.6) scale(4.50)' color='rgb(  0,   0, 255)'/>\n",
       "\t<use xlink:href='#gpPt1' transform='translate(68.2,539.7) scale(4.50)' color='rgb(  0,   0, 255)'/>\n",
       "\t<use xlink:href='#gpPt1' transform='translate(53.9,539.7) scale(4.50)' color='rgb(  0,   0, 255)'/>\n",
       "\t<use xlink:href='#gpPt1' transform='translate(737.3,34.7) scale(4.50)' color='rgb(  0,   0, 255)'/>\n",
       "</g>\n",
       "\t</g>\n",
       "\t<g id=\"gnuplot_plot_2\" ><title>kmmr</title>\n",
       "<g fill=\"none\" color=\"black\" stroke=\"currentColor\" stroke-width=\"1.00\" stroke-linecap=\"butt\" stroke-linejoin=\"miter\">\n",
       "\t<g transform=\"translate(707.9,57.2)\" stroke=\"none\" fill=\"black\" font-family=\"Arial\" font-size=\"12.00\"  text-anchor=\"end\">\n",
       "\t\t<text><tspan font-family=\"Arial\" >kmmr</tspan></text>\n",
       "\t</g>\n",
       "</g>\n",
       "<g fill=\"none\" color=\"black\" stroke=\"currentColor\" stroke-width=\"1.00\" stroke-linecap=\"butt\" stroke-linejoin=\"miter\">\n",
       "\t<path stroke='rgb(255,   0,   0)'  d='M716.2,52.7 L758.4,52.7 M53.9,41.0 L66.2,41.0 L78.5,41.1 L90.8,41.2 L103.1,41.4 L115.4,41.6\n",
       "\t\tL127.7,41.8 L139.9,42.1 L152.1,42.5 L164.2,42.9 L176.4,43.3 L188.4,43.8 L200.5,44.4 L212.4,44.9\n",
       "\t\tL224.3,45.6 L236.2,46.2 L248.0,46.9 L259.7,47.7 L271.4,48.5 L282.9,49.3 L294.4,50.2 L305.8,51.1\n",
       "\t\tL317.1,52.1 L328.4,53.1 L339.5,54.2 L350.5,55.2 L361.4,56.4 L372.2,57.5 L383.0,58.7 L393.5,60.0\n",
       "\t\tL404.0,61.3 L414.4,62.6 L424.6,63.9 L434.7,65.3 L444.7,66.8 L454.5,68.2 L464.3,69.7 L473.8,71.2\n",
       "\t\tL483.3,72.8 L492.6,74.4 L501.7,76.0 L510.7,77.6 L519.6,79.3 L528.3,81.0 L536.9,82.7 L545.3,84.5\n",
       "\t\tL553.5,86.3 L561.6,88.1 L569.5,89.9 L577.3,91.7 L584.9,93.6 L592.4,95.5 L599.7,97.4 L606.8,99.3\n",
       "\t\tL613.8,101.3 L620.6,103.3 L627.3,105.3 L633.7,107.3 L640.0,109.3 L646.2,111.3 L652.2,113.4 L658.0,115.4\n",
       "\t\tL663.6,117.5 L669.1,119.6 L674.4,121.7 L679.6,123.8 L684.6,125.9 L689.4,128.0 L694.1,130.1 L698.6,132.2\n",
       "\t\tL703.0,134.4 L707.2,136.5 L711.2,138.7 L715.1,140.8 L718.8,143.0 L722.4,145.1 L725.8,147.3 L729.1,149.4\n",
       "\t\tL732.2,151.6 L735.2,153.7 L738.0,155.9 L740.7,158.0 L743.3,160.2 L745.7,162.3 L748.0,164.4 L750.1,166.6\n",
       "\t\tL752.2,168.7 L754.1,170.8 L755.8,172.9 L757.5,175.0 L759.0,177.1 L760.4,179.2 L761.7,181.3 L762.9,183.3\n",
       "\t\tL764.0,185.4 L764.9,187.4 L765.8,189.5 L766.6,191.5 L767.3,193.5 L767.8,195.5 L768.3,197.5 L768.7,199.5\n",
       "\t\tL769.1,201.4 L769.3,203.4 L769.5,205.3 L769.6,207.3 L769.6,209.2 L769.5,211.1 L769.4,213.0 L769.3,214.8\n",
       "\t\tL769.0,216.7 L768.7,218.5 L768.4,220.4 L768.0,222.2 L767.6,224.0 L767.1,225.7 L766.6,227.5 L766.1,229.3\n",
       "\t\tL765.5,231.0 L764.9,232.7 L764.3,234.5 L763.6,236.2 L762.9,237.8 L762.3,239.5 L761.5,241.2 L760.8,242.8\n",
       "\t\tL760.1,244.4 L759.4,246.1 L758.6,247.7 L757.9,249.3 L757.2,250.8 L756.4,252.4 L755.7,254.0 L755.0,255.5\n",
       "\t\tL754.3,257.0 L753.6,258.6 L752.9,260.1 L752.3,261.6 L751.6,263.1 L751.0,264.6 L750.4,266.0 L749.8,267.5\n",
       "\t\tL749.3,269.0 L748.8,270.4 L748.3,271.9 L747.8,273.3 L747.4,274.7 L747.0,276.2 L746.6,277.6 L746.3,279.0\n",
       "\t\tL746.0,280.4 L745.8,281.8 L745.6,283.2 L745.4,284.6 L745.2,286.0 L745.1,287.4 L745.1,288.8 L745.1,290.2\n",
       "\t\tL745.1,291.6 L745.1,293.0 L745.2,294.4 L745.4,295.8 L745.5,297.2 L745.7,298.6 L746.0,300.1 L746.3,301.5\n",
       "\t\tL746.6,302.9 L746.9,304.3 L747.3,305.7 L747.7,307.2 L748.2,308.6 L748.7,310.1 L749.2,311.5 L749.7,313.0\n",
       "\t\tL750.3,314.4 L750.9,315.9 L751.5,317.4 L752.1,318.9 L752.8,320.4 L753.5,321.9 L754.2,323.4 L754.9,324.9\n",
       "\t\tL755.6,326.5 L756.3,328.0 L757.0,329.6 L757.8,331.2 L758.5,332.8 L759.3,334.4 L760.0,336.0 L760.7,337.6\n",
       "\t\tL761.4,339.3 L762.1,340.9 L762.8,342.6 L763.5,344.3 L764.2,346.0 L764.8,347.7 L765.4,349.4 L766.0,351.1\n",
       "\t\tL766.5,352.9 L767.1,354.7 L767.5,356.5 L768.0,358.2 L768.4,360.1 L768.7,361.9 L769.0,363.7 L769.2,365.6\n",
       "\t\tL769.4,367.4 L769.5,369.3 L769.6,371.2 L769.6,373.1 L769.5,375.1 L769.3,377.0 L769.1,378.9 L768.8,380.9\n",
       "\t\tL768.4,382.9 L767.9,384.9 L767.4,386.9 L766.7,388.9 L765.9,390.9 L765.1,392.9 L764.1,395.0 L763.1,397.0\n",
       "\t\tL761.9,399.1 L760.6,401.2 L759.2,403.3 L757.7,405.4 L756.1,407.5 L754.3,409.6 L752.5,411.7 L750.5,413.8\n",
       "\t\tL748.3,415.9 L746.1,418.1 L743.7,420.2 L741.1,422.3 L738.5,424.5 L735.6,426.6 L732.7,428.8 L729.6,430.9\n",
       "\t\tL726.3,433.1 L722.9,435.2 L719.4,437.4 L715.7,439.5 L711.8,441.7 L707.8,443.8 L703.6,446.0 L699.3,448.1\n",
       "\t\tL694.8,450.2 L690.2,452.4 L685.4,454.5 L680.4,456.6 L675.3,458.7 L670.0,460.8 L664.5,462.9 L658.9,465.0\n",
       "\t\tL653.1,467.0 L647.2,469.1 L641.0,471.1 L634.7,473.1 L628.3,475.1 L621.7,477.1 L614.9,479.1 L608.0,481.0\n",
       "\t\tL600.8,483.0 L593.6,484.9 L586.1,486.8 L578.6,488.7 L570.8,490.5 L562.9,492.4 L554.8,494.2 L546.6,495.9\n",
       "\t\tL538.2,497.7 L529.7,499.4 L521.0,501.1 L512.1,502.8 L503.2,504.5 L494.0,506.1 L484.8,507.7 L475.3,509.2\n",
       "\t\tL465.8,510.8 L456.1,512.3 L446.3,513.7 L436.3,515.1 L426.2,516.5 L416.0,517.9 L405.7,519.2 L395.2,520.5\n",
       "\t\tL384.6,521.8 L374.0,523.0 L363.2,524.1 L352.3,525.3 L341.2,526.4 L330.1,527.4 L318.9,528.4 L307.6,529.4\n",
       "\t\tL296.2,530.3 L284.8,531.2 L273.2,532.1 L261.6,532.9 L249.9,533.7 L238.1,534.4 L226.2,535.0 L214.3,535.7\n",
       "\t\tL202.4,536.3 L190.3,536.8 L178.3,537.3 L166.2,537.7 L154.0,538.1 L141.8,538.5 L129.6,538.8 L117.4,539.1\n",
       "\t\tL105.1,539.3 L92.8,539.5 L80.5,539.6 L68.2,539.7 L53.9,539.7  '/></g>\n",
       "\t</g>\n",
       "<g fill=\"none\" color=\"#FFFFFF\" stroke=\"rgb(255,   0,   0)\" stroke-width=\"2.00\" stroke-linecap=\"butt\" stroke-linejoin=\"miter\">\n",
       "</g>\n",
       "<g fill=\"none\" color=\"black\" stroke=\"currentColor\" stroke-width=\"2.00\" stroke-linecap=\"butt\" stroke-linejoin=\"miter\">\n",
       "</g>\n",
       "<g fill=\"none\" color=\"black\" stroke=\"black\" stroke-width=\"1.00\" stroke-linecap=\"butt\" stroke-linejoin=\"miter\">\n",
       "</g>\n",
       "<g fill=\"none\" color=\"black\" stroke=\"currentColor\" stroke-width=\"1.00\" stroke-linecap=\"butt\" stroke-linejoin=\"miter\">\n",
       "\t<path stroke='black'  d='M53.9,16.7 L53.9,564.0 L775.0,564.0 L775.0,16.7 L53.9,16.7 Z  '/></g>\n",
       "<g fill=\"none\" color=\"black\" stroke=\"currentColor\" stroke-width=\"1.00\" stroke-linecap=\"butt\" stroke-linejoin=\"miter\">\n",
       "</g>\n",
       "</g>\n",
       "</svg>\n",
       "\n"
      ]
     },
     "execution_count": 34,
     "metadata": {},
     "output_type": "execute_result"
    }
   ],
   "source": [
    "Plot(x1, y1, \"zrnic\", \".xb\", x1r, y1r, \"kmmr\", \"- red\")"
   ]
  },
  {
   "cell_type": "code",
   "execution_count": null,
   "metadata": {},
   "outputs": [],
   "source": []
  },
  {
   "cell_type": "markdown",
   "metadata": {},
   "source": [
    "## Grid Creation"
   ]
  },
  {
   "cell_type": "code",
   "execution_count": 13,
   "metadata": {
    "dotnet_interactive": {
     "language": "csharp"
    }
   },
   "outputs": [
    {
     "name": "stderr",
     "output_type": "stream",
     "text": [
      "IOException caught during creation/opening of database: The network path was not found. : '\\\\dc1\\userspace\\kummer\\OscillatingDroplet3D'.\n",
      "DirectoryNotFoundException caught during creation/opening of database: Could not find a part of the path 'X:\\OscillatingDroplet3D'..\n",
      "DirectoryNotFoundException caught during creation/opening of database: Could not find a part of the path 'X:\\jenkins\\databases\\OscillatingDroplet3D'..\n"
     ]
    },
    {
     "data": {
      "text/plain": [
       "#0: { Guid = 2ec27b7b-3fa3-453d-b393-d6f6ad4f8eee; Name = OscillatingDroplet3D_12x12x24_quarterDomain; Cell Count = 3456; Dim = 3 }\r\n",
       "#1: { Guid = 5623231e-42a5-4842-8a77-90cfe61c382d; Name = OscillatingDroplet3D_6x6x12_quarterDomain; Cell Count = 432; Dim = 3 }\r\n"
      ]
     },
     "execution_count": 13,
     "metadata": {},
     "output_type": "execute_result"
    }
   ],
   "source": [
    "BoSSSshell.WorkflowMgm.Grids"
   ]
  },
  {
   "cell_type": "markdown",
   "metadata": {},
   "source": [
    "### Quater-Domain grids\n",
    "(Symmetry planes at $x = 0$ and $y = 0$)"
   ]
  },
  {
   "cell_type": "code",
   "execution_count": 14,
   "metadata": {
    "dotnet_interactive": {
     "language": "csharp"
    }
   },
   "outputs": [
    {
     "name": "stdout",
     "output_type": "stream",
     "text": [
      "Grid already found in database - identifid by name OscillatingDroplet3D_6x6x12_quarterDomain\n",
      "Grid already found in database - identifid by name OscillatingDroplet3D_12x12x24_quarterDomain\n"
     ]
    }
   ],
   "source": [
    "int[] Resolutions = new int[] { 6, 12 };\n",
    "IGridInfo[] Grids = new IGridInfo[Resolutions.Length];\n",
    "for(int i = 0; i < Resolutions.Length; i++) {\n",
    "    int Res = Resolutions[i];\n",
    "    string GridName = $\"OscillatingDroplet3D_{Res}x{Res}x{2*Res}_quarterDomain\";\n",
    "\n",
    "    IGridInfo cachedGrid = wmg.Grids.FirstOrDefault(grid => grid.Name == GridName);\n",
    "    //cachedGrid = null;\n",
    "    if(cachedGrid == null) {\n",
    "        \n",
    "        // must create new Grid\n",
    "        double[] xNodes = GenericBlas.Linspace(0, 0.003, Res + 1);\n",
    "        double[] yNodes = xNodes;\n",
    "        double[] zNodes = GenericBlas.Linspace(-0.003, 0.003, Res*2 + 1);\n",
    "        \n",
    "        var grd = Grid3D.Cartesian3DGrid(xNodes, yNodes, zNodes);\n",
    "        grd.Name = GridName;\n",
    "        \n",
    "        grd.DefineEdgeTags(delegate(Vector X) {\n",
    "            string ret = null;\n",
    "            if(X.x.Abs() <= 1e-8 || X.y.Abs() <= 1.0e-8)\n",
    "                ret = IncompressibleBcType.SlipSymmetry.ToString();\n",
    "            else\n",
    "                ret = IncompressibleBcType.Wall.ToString();\n",
    "            return ret;\n",
    "        });        \n",
    "        \n",
    "        Grids[i] = wmg.SaveGrid(grd);\n",
    "        \n",
    "    } else {\n",
    "        //Console.WriteLine($\"type: {cachedGrid.GetType()}, is IGridInfo? {cachedGrid is IGridInfo}\");\n",
    "        Console.WriteLine(\"Grid already found in database - identifid by name \" + GridName);\n",
    "        Grids[i] = cachedGrid;\n",
    "    }\n",
    "    \n",
    "}"
   ]
  },
  {
   "cell_type": "code",
   "execution_count": 15,
   "metadata": {
    "dotnet_interactive": {
     "language": "csharp"
    }
   },
   "outputs": [
    {
     "data": {
      "text/plain": [
       "#0: { Guid = 2ec27b7b-3fa3-453d-b393-d6f6ad4f8eee; Name = OscillatingDroplet3D_12x12x24_quarterDomain; Cell Count = 3456; Dim = 3 }\r\n",
       "#1: { Guid = 5623231e-42a5-4842-8a77-90cfe61c382d; Name = OscillatingDroplet3D_6x6x12_quarterDomain; Cell Count = 432; Dim = 3 }\r\n"
      ]
     },
     "execution_count": 15,
     "metadata": {},
     "output_type": "execute_result"
    }
   ],
   "source": [
    "wmg.Grids"
   ]
  },
  {
   "cell_type": "code",
   "execution_count": 16,
   "metadata": {
    "dotnet_interactive": {
     "language": "csharp"
    }
   },
   "outputs": [],
   "source": [
    "//wmg.Sessions[0].Delete(true);"
   ]
  },
  {
   "cell_type": "markdown",
   "metadata": {
    "dotnet_interactive": {
     "language": "csharp"
    }
   },
   "source": [
    "## Setup of control objects for a solver runs"
   ]
  },
  {
   "cell_type": "code",
   "execution_count": null,
   "metadata": {
    "dotnet_interactive": {
     "language": "csharp"
    }
   },
   "outputs": [],
   "source": [
    "List<XNSE_Control> Controls = new List<XNSE_Control>();"
   ]
  },
  {
   "cell_type": "code",
   "execution_count": null,
   "metadata": {
    "dotnet_interactive": {
     "language": "csharp"
    }
   },
   "outputs": [],
   "source": [
    "Controls.Clear();\n",
    "int[] DegreeS = new int[] { 3 };\n",
    "int[] modeS = new int[] {2, 3, 4};\n",
    "int[] aP_indiceS = new int[] { 0, 1, 2 };\n",
    "bool[] useARM = new bool[] { false, true };\n",
    "\n",
    "foreach(bool bARM in useARM) {\n",
    "foreach(int k in DegreeS) {\n",
    "foreach(var grd in Grids.Take(1)) {\n",
    "foreach(int mode in modeS) {\n",
    "foreach(int aP_index in aP_indiceS) {\n",
    "    long J = grd.NumberOfCells;\n",
    "    string JobName = $\"J{J}k{k}_arm{(bARM ? 1 : 0)}_mode{mode}_aP{aP_index}\";\n",
    "    Console.WriteLine(\"Case: \" + JobName);\n",
    "    double r0 = 0.001;\n",
    "    var C = Droplet.OscillatingDroplet3D_LegendrePolynomials(r0, mode, aP_index);\n",
    "    C.SetGrid(grd);\n",
    "    C.SetDGdegree(3);\n",
    "    C.SessionName = JobName;\n",
    "    \n",
    "    C.PhysicalParameters.IncludeConvection = true;\n",
    "    C.PhysicalParameters.rho_A = 1260.0;\n",
    "    C.PhysicalParameters.rho_B = 1.26;\n",
    "    C.PhysicalParameters.mu_A = 0.0094;\n",
    "    C.PhysicalParameters.mu_B = 9.4E-06;\n",
    "    C.PhysicalParameters.reynolds_B = 0.0;\n",
    "    C.PhysicalParameters.reynolds_A = 0.0;\n",
    "    C.PhysicalParameters.Sigma = 0.007;\n",
    "    C.PhysicalParameters.pFree = 0.0;\n",
    "    C.PhysicalParameters.mu_I = 0.0;\n",
    "    C.PhysicalParameters.lambda_I = 0.0;\n",
    "    C.PhysicalParameters.lambdaI_tilde = -1.0;\n",
    "    C.PhysicalParameters.betaS_A = 0.0;\n",
    "    C.PhysicalParameters.betaS_B = 0.0;\n",
    "    C.PhysicalParameters.betaL = 0.0;\n",
    "    C.PhysicalParameters.theta_e = 1.5707963267948966;\n",
    "    C.PhysicalParameters.sliplength = 0.0;\n",
    "    C.PhysicalParameters.Material = true;\n",
    "    C.PhysicalParameters.useArtificialSurfaceForce = false;\n",
    "    \n",
    "    C.dtFixed = 5E-05;\n",
    "    C.NoOfTimesteps = 1000;\n",
    "    \n",
    "    if(bARM) {\n",
    "        C.activeAMRlevelIndicators.Add(\n",
    "            new AMRonNarrowband() { maxRefinementLevel = 1 }\n",
    "        );\n",
    "    }\n",
    "    \n",
    "    C.PostprocessingModules.Add(new SphericalHarmonicsLogging());\n",
    "    \n",
    "    Controls.Add(C);\n",
    "    \n",
    "}\n",
    "}\n",
    "}\n",
    "}\n",
    "}"
   ]
  },
  {
   "cell_type": "code",
   "execution_count": null,
   "metadata": {
    "dotnet_interactive": {
     "language": "csharp"
    }
   },
   "outputs": [],
   "source": [
    "int NC = Controls.Count;\n",
    "for(int i = 0; i < NC; i++) {\n",
    "    for(int j = 0; j < NC; j++) {\n",
    "        if(i == j)\n",
    "            Assert.IsTrue(Controls[i].Equals(Controls[j]), \"Control is not self-equal\");\n",
    "        else\n",
    "            Assert.IsFalse(Controls[i].Equals(Controls[j]), \"Different Control are wrongly equal\");\n",
    "    }\n",
    "}"
   ]
  },
  {
   "cell_type": "markdown",
   "metadata": {
    "dotnet_interactive": {
     "language": "csharp"
    }
   },
   "source": [
    "## Launch Jobs"
   ]
  },
  {
   "cell_type": "code",
   "execution_count": null,
   "metadata": {
    "dotnet_interactive": {
     "language": "csharp"
    }
   },
   "outputs": [],
   "source": [
    "Controls.Count"
   ]
  },
  {
   "cell_type": "code",
   "execution_count": null,
   "metadata": {
    "dotnet_interactive": {
     "language": "csharp"
    }
   },
   "outputs": [],
   "source": [
    "foreach(var ctrl in Controls) {\n",
    "    var oneJob              = ctrl.CreateJob();\n",
    "    oneJob.NumberOfMPIProcs = 1;\n",
    "    oneJob.Activate(myBatch); \n",
    "}"
   ]
  },
  {
   "cell_type": "code",
   "execution_count": null,
   "metadata": {
    "dotnet_interactive": {
     "language": "csharp"
    }
   },
   "outputs": [],
   "source": [
    "wmg.AllJobs"
   ]
  },
  {
   "cell_type": "code",
   "execution_count": null,
   "metadata": {
    "dotnet_interactive": {
     "language": "csharp"
    }
   },
   "outputs": [],
   "source": [
    "// wait for all jobs to finish (up to 5 days, check every 30 minutes)\n",
    "BoSSSshell.WorkflowMgm.BlockUntilAllJobsTerminate(TimeOutSeconds:(3600*24*5), PollingIntervallSeconds:(60*30));"
   ]
  },
  {
   "cell_type": "code",
   "execution_count": null,
   "metadata": {
    "dotnet_interactive": {
     "language": "csharp"
    }
   },
   "outputs": [],
   "source": [
    "// detect failed Jobs in the job management\n",
    "/*\n",
    "var suspects = BoSSSshell.WorkflowMgm.AllJobs.Select(kv => kv.Value)\n",
    "    .Where(job => job.LatestSession.Tags.Contains(SessionInfo.NOT_TERMINATED_TAG)\n",
    "                  || job.LatestSession.Tags.Contains(SessionInfo.SOLVER_ERROR)).ToArray();\n",
    "suspects\n",
    "*/"
   ]
  },
  {
   "cell_type": "code",
   "execution_count": null,
   "metadata": {
    "dotnet_interactive": {
     "language": "csharp"
    }
   },
   "outputs": [],
   "source": [
    "//suspects.Count()"
   ]
  },
  {
   "cell_type": "code",
   "execution_count": null,
   "metadata": {
    "dotnet_interactive": {
     "language": "csharp"
    }
   },
   "outputs": [],
   "source": [
    "//NUnit.Framework.Assert.IsTrue(suspects.Count() <= 0, $\"{suspects.Count()} Failed Jobs of {BoSSSshell.WorkflowMgm.AllJobs.Count()} in total.\");"
   ]
  },
  {
   "cell_type": "markdown",
   "metadata": {},
   "source": [
    "### Inspect the output of some arbitrary job:"
   ]
  },
  {
   "cell_type": "code",
   "execution_count": null,
   "metadata": {
    "dotnet_interactive": {
     "language": "csharp"
    }
   },
   "outputs": [],
   "source": [
    "//BoSSSshell.WorkflowMgm.AllJobs.First().Value.ShowOutput();"
   ]
  },
  {
   "cell_type": "code",
   "execution_count": null,
   "metadata": {
    "dotnet_interactive": {
     "language": "csharp"
    }
   },
   "outputs": [],
   "source": [
    "//wmg.Sessions[0].Export().WithSupersampling(2).Do()"
   ]
  },
  {
   "cell_type": "code",
   "execution_count": null,
   "metadata": {
    "dotnet_interactive": {
     "language": "csharp"
    }
   },
   "outputs": [],
   "source": []
  }
 ],
 "metadata": {
  "kernelspec": {
   "display_name": ".NET (C#)",
   "language": "C#",
   "name": ".net-csharp"
  },
  "language_info": {
   "file_extension": ".cs",
   "mimetype": "text/x-csharp",
   "name": "C#",
   "pygments_lexer": "csharp",
   "version": "9.0"
  }
 },
 "nbformat": 4,
 "nbformat_minor": 4
}
