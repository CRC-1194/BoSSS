{
 "cells": [
  {
   "cell_type": "markdown",
   "metadata": {},
   "source": [
    "# 3D Droplet Oscillation\n",
    "\n",
    "Results published: hopefully at some point!\n",
    "\n",
    "It is part of the BoSSS-long-term validation test suite, which consists of \n",
    "several computationally expensive test-cases (runtime in the order of days),\n",
    "which are performed on a regular basis in order to validate the \n",
    "physical correctness of BoSSS simulations.\n"
   ]
  },
  {
   "cell_type": "markdown",
   "metadata": {},
   "source": [
    "### Preliminaries\n",
    "\n",
    "This example can be found in the source code repository as as `Droplet3D.ipynb`. \n",
    "One can directly load this into Jupyter to interactively work with the following code examples.\n",
    "\n",
    "Note: First, BoSSS has to be loaded into the Jupyter kernel. Note:\n",
    "In the following line, the reference to `BoSSSpad.dll` is required. \n",
    "One must either set `#r \"BoSSSpad.dll\"` to something which is appropirate for the current computer\n",
    "(e.g. `C:\\Program Files (x86)\\FDY\\BoSSS\\bin\\Release\\net5.0\\BoSSSpad.dll` if working with the binary distribution), \n",
    "or, if one is working with the source code, one must compile `BoSSSpad`\n",
    "and put it side-by-side to this worksheet file \n",
    "(from the original location in the repository, one can use the scripts `getbossspad.sh`, resp. `getbossspad.bat`).\n"
   ]
  },
  {
   "cell_type": "code",
   "execution_count": null,
   "metadata": {
    "dotnet_interactive": {
     "language": "csharp"
    }
   },
   "outputs": [],
   "source": [
    "//#r \"../../src/L4-application/BoSSSpad/bin/Release/net5.0/BoSSSpad.dll\"\n",
    "//#r \"../../src/L4-application/BoSSSpad/bin/Debug/net5.0/BoSSSpad.dll\"\n",
    "#r \"BoSSSpad.dll\"\n",
    "using System;\n",
    "using System.Collections.Generic;\n",
    "using System.Linq;\n",
    "using ilPSP;\n",
    "using ilPSP.Utils;\n",
    "using BoSSS.Platform;\n",
    "using BoSSS.Foundation;\n",
    "using BoSSS.Foundation.XDG;\n",
    "using BoSSS.Foundation.Grid;\n",
    "using BoSSS.Foundation.Grid.Classic;\n",
    "using BoSSS.Foundation.IO;\n",
    "using BoSSS.Solution;\n",
    "using BoSSS.Solution.Control;\n",
    "using BoSSS.Solution.GridImport;\n",
    "using BoSSS.Solution.Statistic;\n",
    "using BoSSS.Solution.Utils;\n",
    "using BoSSS.Solution.AdvancedSolvers;\n",
    "using BoSSS.Solution.Gnuplot;\n",
    "using BoSSS.Application.BoSSSpad;\n",
    "using BoSSS.Application.XNSE_Solver;\n",
    "using static BoSSS.Application.BoSSSpad.BoSSSshell;\n",
    "Init();"
   ]
  },
  {
   "cell_type": "markdown",
   "metadata": {},
   "source": [
    "## Initialization tasks"
   ]
  },
  {
   "cell_type": "markdown",
   "metadata": {},
   "source": [
    "Loading the `XNSE_Solver` and additional namespace:"
   ]
  },
  {
   "cell_type": "code",
   "execution_count": null,
   "metadata": {
    "dotnet_interactive": {
     "language": "csharp"
    }
   },
   "outputs": [],
   "source": [
    "using BoSSS.Application.XNSE_Solver;\n",
    "using BoSSS.Application.XNSE_Solver.PhysicalBasedTestcases;\n",
    "using BoSSS.Solution.NSECommon;\n",
    "using BoSSS.Solution.XNSECommon;\n",
    "using BoSSS.Solution.LevelSetTools.SolverWithLevelSetUpdater;\n",
    "using NUnit.Framework;\n",
    "using BoSSS.Application.XNSE_Solver.Logging;\n",
    "using BoSSS.Solution.LevelSetTools;\n",
    "using BoSSS.Solution.XdgTimestepping;\n",
    "using BoSSS.Solution.Timestepping;"
   ]
  },
  {
   "cell_type": "markdown",
   "metadata": {},
   "source": [
    "Initialization of the Workflow management; there `OscillatingDroplet3D` is the project name which is used name all computations (aka. sessions):"
   ]
  },
  {
   "cell_type": "code",
   "execution_count": null,
   "metadata": {
    "dotnet_interactive": {
     "language": "csharp"
    }
   },
   "outputs": [],
   "source": [
    "BoSSSshell.WorkflowMgm.Init(\"OscillatingDroplet3D\");"
   ]
  },
  {
   "cell_type": "markdown",
   "metadata": {},
   "source": [
    "Overview on the available *Execution Queues* (aka. *Batch Processors*, aka. *Batch System*); these e.g. Linux HPC clusters on which compute jobs can be executed."
   ]
  },
  {
   "cell_type": "code",
   "execution_count": null,
   "metadata": {
    "dotnet_interactive": {
     "language": "csharp"
    }
   },
   "outputs": [],
   "source": [
    "ExecutionQueues"
   ]
  },
  {
   "cell_type": "markdown",
   "metadata": {},
   "source": [
    "For this example (which is part of the BoSSS validation tests), a *default queue* is selected to run all jobs in the convergence study:"
   ]
  },
  {
   "cell_type": "code",
   "execution_count": null,
   "metadata": {
    "dotnet_interactive": {
     "language": "csharp"
    }
   },
   "outputs": [],
   "source": [
    "var myBatch = GetDefaultQueue();\n",
    "myBatch"
   ]
  },
  {
   "cell_type": "code",
   "execution_count": null,
   "metadata": {
    "dotnet_interactive": {
     "language": "csharp"
    }
   },
   "outputs": [],
   "source": [
    "//foreach(var s in wmg.Sessions)\n",
    "//    s.Delete(true);"
   ]
  },
  {
   "cell_type": "markdown",
   "metadata": {},
   "source": [
    "## Verification of Initial Value data"
   ]
  },
  {
   "cell_type": "markdown",
   "metadata": {},
   "source": [
    "Initial values and parameters for the simulation (intial droplet shape, Ohnesorg number, initial velocity)\n",
    "were specified by project partner (TU Graz, Group Prof. Brenn).\n",
    "Details can be found in Document `setup.pdf`, to be found in the same directory as this worksheet.\n",
    "\n",
    "First, it is verified that the initial values chosen here actually match the specification."
   ]
  },
  {
   "cell_type": "code",
   "execution_count": null,
   "metadata": {},
   "outputs": [],
   "source": [
    "MultidimensionalArray[] ReferenceData = new MultidimensionalArray[5];"
   ]
  },
  {
   "cell_type": "markdown",
   "metadata": {},
   "source": [
    "Load reference data for 5 different cases; These files contain two columns, i.e. the azimuth angle and the respective droplet radius."
   ]
  },
  {
   "cell_type": "code",
   "execution_count": null,
   "metadata": {},
   "outputs": [],
   "source": [
    "for(int iCase = 0; iCase < 5; iCase++) \n",
    "    ReferenceData[iCase] = IMatrixExtensions.LoadFromTextFile($\"surfaceDropCase{iCase + 1}.txt\");"
   ]
  },
  {
   "cell_type": "markdown",
   "metadata": {},
   "source": [
    "Analytical expressions for the reference data (see `setup.pdf`); this is to verify that the definition of Legendre\n",
    "Functions resp. Polynomials in BoSSS actually matches the definition used by the TU Graz group."
   ]
  },
  {
   "cell_type": "code",
   "execution_count": null,
   "metadata": {},
   "outputs": [],
   "source": [
    "double case1Radius(double angle) {\n",
    "   double radius = 0.966781 + 0.4*SphericalHarmonics.MyLegendre(2,0,Math.Cos(angle));\n",
    "   return radius;\n",
    "}"
   ]
  },
  {
   "cell_type": "code",
   "execution_count": null,
   "metadata": {},
   "outputs": [],
   "source": [
    "double case2Radius(double angle) {\n",
    "   double radius = 0.977143 + 0.4*SphericalHarmonics.MyLegendre(3,0,Math.Cos(angle));\n",
    "   return radius;\n",
    "}"
   ]
  },
  {
   "cell_type": "code",
   "execution_count": null,
   "metadata": {},
   "outputs": [],
   "source": [
    "double case3Radius(double angle) {\n",
    "   double radius = 0.981839 + 0.4*SphericalHarmonics.MyLegendre(4,0,Math.Cos(angle));\n",
    "   return radius;\n",
    "}"
   ]
  },
  {
   "cell_type": "code",
   "execution_count": null,
   "metadata": {},
   "outputs": [],
   "source": [
    "double case4Radius(double angle) {\n",
    "   double radius = 0.991848 + 0.2*SphericalHarmonics.MyLegendre(2,0,Math.Cos(angle));\n",
    "   return radius;\n",
    "}"
   ]
  },
  {
   "cell_type": "code",
   "execution_count": null,
   "metadata": {},
   "outputs": [],
   "source": [
    "double case5Radius(double angle) {\n",
    "   double radius = 0.999721 + 0.05*SphericalHarmonics.MyLegendre(4,0,Math.Cos(angle));\n",
    "   return radius;\n",
    "}"
   ]
  },
  {
   "cell_type": "code",
   "execution_count": null,
   "metadata": {},
   "outputs": [],
   "source": [
    "Func<double,double>[] Case_i_Radius = new Func<double,double>[] { \n",
    "    case1Radius, case2Radius, case3Radius, case4Radius, case5Radius \n",
    "}; "
   ]
  },
  {
   "cell_type": "markdown",
   "metadata": {},
   "source": [
    "Conversion to cartesian coordinates in order to match the data and verification against analytical expression:"
   ]
  },
  {
   "cell_type": "code",
   "execution_count": null,
   "metadata": {},
   "outputs": [],
   "source": [
    "double[][] refX = new double[5][];\n",
    "double[][] refZ = new double[5][];\n",
    "for(int iCase = 0; iCase < 5; iCase++) {\n",
    "    double[] angle = ReferenceData[iCase].GetColumn(0);\n",
    "    double[] radius = ReferenceData[iCase].GetColumn(1);\n",
    "       \n",
    "    double RadiusErrorNorm = 0.0;\n",
    "    int I = angle.Length;\n",
    "    double[] x1 = new double[I], z1 = new double[I];\n",
    "    for(int i = 0; i < I; i++) {\n",
    "        x1[i] = Math.Sin(angle[i])*radius[i];\n",
    "        z1[i] = Math.Cos(angle[i])*radius[i];\n",
    "        \n",
    "        double radius_expr = Case_i_Radius[iCase](angle[i]);\n",
    "        RadiusErrorNorm += (radius[i] - radius_expr).Pow2();\n",
    "    }\n",
    "    RadiusErrorNorm = RadiusErrorNorm.Sqrt();\n",
    "    Console.WriteLine($\"Comparison error for radius in case {iCase + 1}: {RadiusErrorNorm}\");\n",
    "    // Note: since the factors in `setup.pdf` are only provided up to 6 digits, an error threshold of 1e-5 seems reasonable.\n",
    "    Assert.LessOrEqual(RadiusErrorNorm, 1e-5, \"Error in comparing reference data against Legendre polynomials in BoSSS\");\n",
    "    \n",
    "    refX[iCase] = x1;\n",
    "    refZ[iCase] = z1;\n",
    "}"
   ]
  },
  {
   "cell_type": "markdown",
   "metadata": {},
   "source": [
    "### Plot of Reference Data"
   ]
  },
  {
   "cell_type": "code",
   "execution_count": null,
   "metadata": {},
   "outputs": [],
   "source": [
    "Plot(refX[0], refZ[0], \"Ref-Case1\", \".x blue\", \n",
    "     refX[1], refZ[1], \"Ref-Case2\", \".o red\",\n",
    "     refX[2], refZ[2], \"Ref-Case3\", \".+ green\",\n",
    "     refX[3], refZ[3], \"Ref-Case4\", \".* magenta\",\n",
    "     refX[4], refZ[4], \"Ref-Case5\", \".^ grey\")"
   ]
  },
  {
   "cell_type": "markdown",
   "metadata": {},
   "source": [
    "### Matching of the Spherical Harmonics against the provided Data"
   ]
  },
  {
   "cell_type": "code",
   "execution_count": null,
   "metadata": {},
   "outputs": [],
   "source": [
    "var Phi1Init = new Formula(\n",
    "\"Phi1\",\n",
    "false,\n",
    "\"using ilPSP.Utils; \" + \n",
    "\"double Phi1(double[] X) { \" + \n",
    "\"     \" + \n",
    "\"    (double theta, double phi) = SphericalHarmonics.GetAngular(X); \" + \n",
    "\"    double R =    0.966781*SphericalHarmonics.MyRealSpherical(0, 0, theta, phi) \" + \n",
    "\"                +      0.4*SphericalHarmonics.MyRealSpherical(2, 0, theta, phi); \" + \n",
    "\"    return X.L2Norm() - R; \" + \n",
    "\"}\");"
   ]
  },
  {
   "cell_type": "code",
   "execution_count": null,
   "metadata": {},
   "outputs": [],
   "source": [
    "var Phi2Init = new Formula(\n",
    "\"Phi2\",\n",
    "false,\n",
    "\"using ilPSP.Utils; \" + \n",
    "\"double Phi2(double[] X) { \" + \n",
    "\"    (double theta, double phi) = SphericalHarmonics.GetAngular(X); \" + \n",
    "\"    double R =    0.977143*SphericalHarmonics.MyRealSpherical(0, 0, theta, phi) \" + \n",
    "\"                +      0.4*SphericalHarmonics.MyRealSpherical(3, 0, theta, phi); \" + \n",
    "\"    return X.L2Norm() - R; \" + \n",
    "\"} \");"
   ]
  },
  {
   "cell_type": "code",
   "execution_count": null,
   "metadata": {},
   "outputs": [],
   "source": [
    "var Phi3Init = new Formula(\n",
    "\"Phi3\",\n",
    "false,\n",
    "\"using ilPSP.Utils; \" + \n",
    "\"double Phi3(double[] X) { \" +    \n",
    "\"    (double theta, double phi) = SphericalHarmonics.GetAngular(X); \" + \n",
    "\"    double R =    0.981839*SphericalHarmonics.MyRealSpherical(0, 0, theta, phi) \" + \n",
    "\"                +      0.4*SphericalHarmonics.MyRealSpherical(4, 0, theta, phi); \" + \n",
    "\"    return X.L2Norm() - R; \" + \n",
    "\"} \");"
   ]
  },
  {
   "cell_type": "code",
   "execution_count": null,
   "metadata": {},
   "outputs": [],
   "source": [
    "var Phi4Init = new Formula(\n",
    "\"Phi4\",\n",
    "false,\n",
    "\"using ilPSP.Utils; \" + \n",
    "\"double Phi4(double[] X) { \" + \n",
    "\"    (double theta, double phi) = SphericalHarmonics.GetAngular(X); \" + \n",
    "\"    double R =    0.991848*SphericalHarmonics.MyRealSpherical(0, 0, theta, phi) \" + \n",
    "\"                +      0.2*SphericalHarmonics.MyRealSpherical(2, 0, theta, phi); \" + \n",
    "\"    return X.L2Norm() - R; \" + \n",
    "\"} \");"
   ]
  },
  {
   "cell_type": "code",
   "execution_count": null,
   "metadata": {},
   "outputs": [],
   "source": [
    "var Phi5Init = new Formula(\n",
    "\"Phi5\",\n",
    "false,\n",
    "\"using ilPSP.Utils; \" + \n",
    "\"double Phi5(double[] X) { \" + \n",
    "\"    (double theta, double phi) = SphericalHarmonics.GetAngular(X); \" + \n",
    "\"    double R =    0.999721*SphericalHarmonics.MyRealSpherical(0, 0, theta, phi) \" + \n",
    "\"                +      0.05*SphericalHarmonics.MyRealSpherical(4, 0, theta, phi); \" + \n",
    "\"    return X.L2Norm() - R; \" + \n",
    "\"} \");"
   ]
  },
  {
   "cell_type": "code",
   "execution_count": null,
   "metadata": {},
   "outputs": [],
   "source": [
    "IBoundaryAndInitialData[] Phi_iCase = new IBoundaryAndInitialData[]  { Phi1Init, Phi2Init, Phi3Init, Phi4Init, Phi5Init};"
   ]
  },
  {
   "cell_type": "code",
   "execution_count": null,
   "metadata": {},
   "outputs": [],
   "source": [
    "double x0 = refX[0][3];\n",
    "double z0 = refZ[0][3];\n",
    "var X0 = new Vector(x0, 0, z0);"
   ]
  },
  {
   "cell_type": "code",
   "execution_count": null,
   "metadata": {},
   "outputs": [],
   "source": [
    "X0.ToString()"
   ]
  },
  {
   "cell_type": "code",
   "execution_count": null,
   "metadata": {},
   "outputs": [],
   "source": [
    "double rRef = ReferenceData[0][0,1];\n",
    "double theta = ReferenceData[0][0,0];\n",
    "double r = case1Radius(theta);\n",
    "(theta, r, rRef, r - rRef)"
   ]
  },
  {
   "cell_type": "code",
   "execution_count": null,
   "metadata": {},
   "outputs": [],
   "source": [
    "for(int iCase = 0; iCase < 5; iCase++) {\n",
    "    double[] angle = ReferenceData[iCase].GetColumn(0);\n",
    "    //double[] xI = refX[iCase];   \n",
    "    //double[] zI = refZ[iCase];\n",
    "    int I = angle.Length;\n",
    "    \n",
    "    double PhiErr = 0;\n",
    "    for(int i = 0; i < I; i++) {\n",
    "        double radius_expr = Case_i_Radius[iCase](angle[i]);    \n",
    "        double x1 = Math.Sin(angle[i])*radius_expr;\n",
    "        double z1 = Math.Cos(angle[i])*radius_expr;\n",
    "    \n",
    "        PhiErr += Phi_iCase[iCase].Evaluate(new Vector(x1, 0, z1), 0.0).Abs();\n",
    "    }\n",
    "    Console.WriteLine($\"Phi error for case {iCase}: {PhiErr}\");\n",
    "    Assert.LessOrEqual(PhiErr, 1e-10, \"Level-Set function is not zero at desires surface.\");\n",
    "    \n",
    "    Assert.IsTrue(Phi_iCase[iCase].Evaluate(new Vector(1e-5, 1e-5, 1e-5), 0.0) < 0, \"Inside must be phase A/negative\");\n",
    "    Assert.IsTrue(Phi_iCase[iCase].Evaluate(new Vector(1e+1, 1e+1, 1e+1), 0.0) > 0, \"Outside must be phase B/positive\");\n",
    "}"
   ]
  },
  {
   "cell_type": "markdown",
   "metadata": {},
   "source": [
    "### Initial Velocities"
   ]
  },
  {
   "cell_type": "code",
   "execution_count": null,
   "metadata": {},
   "outputs": [],
   "source": [
    "var polVel = IMatrixExtensions.LoadFromTextFile($\"polarVelCase1.txt\");\n",
    "var radVel = IMatrixExtensions.LoadFromTextFile($\"radialVelCase1.txt\");"
   ]
  },
  {
   "cell_type": "code",
   "execution_count": null,
   "metadata": {},
   "outputs": [],
   "source": [
    "double[] radiusS = polVel.GetColumn(0);\n",
    "double[] anglesS = polVel.GetColumn(1);\n",
    "int I = radiusS.Length;\n",
    "double[] xI = new double[I];\n",
    "double[] yI = new double[I];\n",
    "for(int i = 0; i < I; i++) {\n",
    "    xI[i] = radiusS[i]*Math.Cos(anglesS[i]);\n",
    "    yI[i] = radiusS[i]*Math.Sin(anglesS[i]);\n",
    "}"
   ]
  },
  {
   "cell_type": "code",
   "execution_count": null,
   "metadata": {},
   "outputs": [],
   "source": [
    "//Plot(radiusS, anglesS, \"polVel\", \".xr\")"
   ]
  },
  {
   "cell_type": "code",
   "execution_count": null,
   "metadata": {},
   "outputs": [],
   "source": [
    "//Plot(yI, xI, \"polVel\", \".xr\", refX[0], refZ[0], \"bndy\", \"-b\")"
   ]
  },
  {
   "cell_type": "code",
   "execution_count": null,
   "metadata": {},
   "outputs": [],
   "source": []
  },
  {
   "cell_type": "markdown",
   "metadata": {},
   "source": [
    "## Grid Creation"
   ]
  },
  {
   "cell_type": "code",
   "execution_count": null,
   "metadata": {
    "dotnet_interactive": {
     "language": "csharp"
    }
   },
   "outputs": [],
   "source": [
    "//foreach(var g in BoSSSshell.WorkflowMgm.Grids)\n",
    "//   g.Delete(true);"
   ]
  },
  {
   "cell_type": "markdown",
   "metadata": {},
   "source": [
    "### Quater-Domain grids\n",
    "(Symmetry planes at $x = 0$ and $y = 0$)"
   ]
  },
  {
   "cell_type": "code",
   "execution_count": null,
   "metadata": {
    "dotnet_interactive": {
     "language": "csharp"
    }
   },
   "outputs": [],
   "source": [
    "int[] Resolutions = new int[] { 6, 12 };\n",
    "IGridInfo[] Grids = new IGridInfo[Resolutions.Length];\n",
    "double scale = 1.0;\n",
    "for(int i = 0; i < Resolutions.Length; i++) {\n",
    "    int Res = Resolutions[i];\n",
    "    string GridName = $\"OscillatingDroplet3D_{Res}x{Res}x{2*Res}_quarterDomain\";\n",
    "\n",
    "    IGridInfo cachedGrid = wmg.Grids.FirstOrDefault(grid => grid.Name == GridName);\n",
    "    //cachedGrid = null;\n",
    "    if(cachedGrid == null) {\n",
    "        \n",
    "        // must create new Grid\n",
    "        double[] xNodes = GenericBlas.Linspace(0, 3*scale, Res + 1);\n",
    "        double[] yNodes = xNodes;\n",
    "        double[] zNodes = GenericBlas.Linspace(-3*scale, 3*scale, Res*2 + 1);\n",
    "        \n",
    "        var grd = Grid3D.Cartesian3DGrid(xNodes, yNodes, zNodes);\n",
    "        grd.Name = GridName;\n",
    "        \n",
    "        grd.DefineEdgeTags(delegate(Vector X) {\n",
    "            string ret = null;\n",
    "            if(X.x.Abs() <= 1e-8 || X.y.Abs() <= 1.0e-8)\n",
    "                ret = IncompressibleBcType.SlipSymmetry.ToString();\n",
    "            else\n",
    "                ret = IncompressibleBcType.Wall.ToString();\n",
    "            return ret;\n",
    "        });        \n",
    "        \n",
    "        Grids[i] = wmg.SaveGrid(grd);\n",
    "        \n",
    "    } else {\n",
    "        //Console.WriteLine($\"type: {cachedGrid.GetType()}, is IGridInfo? {cachedGrid is IGridInfo}\");\n",
    "        Console.WriteLine(\"Grid already found in database - identifid by name \" + GridName);\n",
    "        Grids[i] = cachedGrid;\n",
    "    }\n",
    "    \n",
    "}"
   ]
  },
  {
   "cell_type": "code",
   "execution_count": null,
   "metadata": {
    "dotnet_interactive": {
     "language": "csharp"
    }
   },
   "outputs": [],
   "source": [
    "//var g = (wmg.Grids[0] as GridProxy).RealGrid;"
   ]
  },
  {
   "cell_type": "code",
   "execution_count": null,
   "metadata": {},
   "outputs": [],
   "source": [
    "//(g.iGridData as GridData).GlobalBoundingBox"
   ]
  },
  {
   "cell_type": "code",
   "execution_count": null,
   "metadata": {
    "dotnet_interactive": {
     "language": "csharp"
    }
   },
   "outputs": [],
   "source": [
    "//wmg.Sessions[0].Delete(true);"
   ]
  },
  {
   "cell_type": "markdown",
   "metadata": {
    "dotnet_interactive": {
     "language": "csharp"
    }
   },
   "source": [
    "## Setup of control objects for a solver runs"
   ]
  },
  {
   "cell_type": "code",
   "execution_count": null,
   "metadata": {},
   "outputs": [],
   "source": [
    "(int Case, double Ohnesorg)[] Cases = new[] { (1, 0.1), (2, 0.1), (3, 0.1), (4, 0.1), (5, 0.56) };"
   ]
  },
  {
   "cell_type": "code",
   "execution_count": null,
   "metadata": {
    "dotnet_interactive": {
     "language": "csharp"
    }
   },
   "outputs": [],
   "source": [
    "List<XNSE_Control> Controls = new List<XNSE_Control>();\n",
    "Controls.Clear();\n",
    "int[] DegreeS = new int[] { 3 };\n",
    "bool[] useARM = new bool[] { false, true };\n",
    "\n",
    "foreach(bool bARM in useARM) {\n",
    "foreach(int k in DegreeS) {\n",
    "foreach(var grd in Grids.Take(1)) {\n",
    "foreach(var myCase in Cases) {\n",
    "    long J = grd.NumberOfCells;\n",
    "    string JobName = $\"J{J}k{k}_arm{(bARM ? 1 : 0)}_case{myCase.Case}_Oh{myCase.Ohnesorg}\";\n",
    "    Console.WriteLine(\"Case: \" + JobName);\n",
    "\n",
    "    var C = new XNSE_Control();\n",
    "    \n",
    "    C.SetGrid(grd);\n",
    "    C.SetDGdegree(3);\n",
    "    C.SessionName = JobName;\n",
    "    \n",
    "    C.InitialValues.Add(\"Phi\", Phi_iCase[myCase.Case -1]);\n",
    "    \n",
    "    C.PhysicalParameters.IncludeConvection = true;\n",
    "    C.PhysicalParameters.rho_A = 1;\n",
    "    C.PhysicalParameters.rho_B = 0.001;\n",
    "    C.PhysicalParameters.mu_A = myCase.Ohnesorg;\n",
    "    C.PhysicalParameters.mu_B = 0.001;\n",
    "    C.PhysicalParameters.reynolds_B = 0.0;\n",
    "    C.PhysicalParameters.reynolds_A = 0.0;\n",
    "    C.PhysicalParameters.Sigma = 1;\n",
    "    C.PhysicalParameters.pFree = 0.0;\n",
    "    C.PhysicalParameters.mu_I = 0.0;\n",
    "    C.PhysicalParameters.lambda_I = 0.0;\n",
    "    C.PhysicalParameters.lambdaI_tilde = -1.0;\n",
    "    C.PhysicalParameters.betaS_A = 0.0;\n",
    "    C.PhysicalParameters.betaS_B = 0.0;\n",
    "    C.PhysicalParameters.betaL = 0.0;\n",
    "    C.PhysicalParameters.theta_e = 1.5707963267948966;\n",
    "    C.PhysicalParameters.sliplength = 0.0;\n",
    "    C.PhysicalParameters.Material = true;\n",
    "    C.PhysicalParameters.useArtificialSurfaceForce = false;\n",
    "    \n",
    "    C.Option_LevelSetEvolution = BoSSS.Solution.LevelSetTools.LevelSetEvolution.StokesExtension;\n",
    "    C.AdvancedDiscretizationOptions.SST_isotropicMode = SurfaceStressTensor_IsotropicMode.LaplaceBeltrami_ContactLine;\n",
    "    C.LSContiProjectionMethod = ContinuityProjectionOption.ConstrainedDG;\n",
    "    \n",
    "    C.TimeSteppingScheme = TimeSteppingScheme.BDF3;\n",
    "    C.Timestepper_BDFinit = TimeStepperInit.SingleInit;\n",
    "    C.Timestepper_LevelSetHandling = LevelSetHandling.Coupled_Once;\n",
    "    C.TimesteppingMode = AppControl._TimesteppingMode.Transient;\n",
    "    C.dtFixed = 5e-3;\n",
    "    C.NoOfTimesteps = 1500;\n",
    "    \n",
    "    if(bARM) {\n",
    "        C.activeAMRlevelIndicators.Add(\n",
    "            new AMRonNarrowband() { maxRefinementLevel = 1 }\n",
    "        );\n",
    "    }\n",
    "    \n",
    "    C.PostprocessingModules.Add(new SphericalHarmonicsLogging());\n",
    "    \n",
    "    Controls.Add(C);\n",
    "    \n",
    "}\n",
    "}\n",
    "}\n",
    "}"
   ]
  },
  {
   "cell_type": "code",
   "execution_count": null,
   "metadata": {
    "dotnet_interactive": {
     "language": "csharp"
    }
   },
   "outputs": [],
   "source": [
    "int NC = Controls.Count;\n",
    "for(int i = 0; i < NC; i++) {\n",
    "    for(int j = 0; j < NC; j++) {\n",
    "        if(i == j)\n",
    "            Assert.IsTrue(Controls[i].Equals(Controls[j]), \"Control is not self-equal\");\n",
    "        else\n",
    "            Assert.IsFalse(Controls[i].Equals(Controls[j]), \"Different Control are wrongly equal\");\n",
    "    }\n",
    "}"
   ]
  },
  {
   "cell_type": "markdown",
   "metadata": {
    "dotnet_interactive": {
     "language": "csharp"
    }
   },
   "source": [
    "## Launch Jobs"
   ]
  },
  {
   "cell_type": "code",
   "execution_count": null,
   "metadata": {
    "dotnet_interactive": {
     "language": "csharp"
    }
   },
   "outputs": [],
   "source": [
    "Controls.Count"
   ]
  },
  {
   "cell_type": "code",
   "execution_count": null,
   "metadata": {
    "dotnet_interactive": {
     "language": "csharp"
    }
   },
   "outputs": [],
   "source": [
    "foreach(var ctrl in Controls) {\n",
    "    var oneJob              = ctrl.CreateJob();\n",
    "    oneJob.NumberOfMPIProcs = 1;\n",
    "    oneJob.Activate(myBatch); \n",
    "}"
   ]
  },
  {
   "cell_type": "code",
   "execution_count": null,
   "metadata": {
    "dotnet_interactive": {
     "language": "csharp"
    }
   },
   "outputs": [],
   "source": [
    "wmg.AllJobs"
   ]
  },
  {
   "cell_type": "code",
   "execution_count": null,
   "metadata": {
    "dotnet_interactive": {
     "language": "csharp"
    }
   },
   "outputs": [],
   "source": [
    "// wait for all jobs to finish (up to 5 days, check every 30 minutes)\n",
    "BoSSSshell.WorkflowMgm.BlockUntilAllJobsTerminate(TimeOutSeconds:(3600*24*5), PollingIntervallSeconds:(60*30));"
   ]
  },
  {
   "cell_type": "code",
   "execution_count": null,
   "metadata": {
    "dotnet_interactive": {
     "language": "csharp"
    }
   },
   "outputs": [],
   "source": [
    "// detect failed Jobs in the job management\n",
    "/*\n",
    "var suspects = BoSSSshell.WorkflowMgm.AllJobs.Select(kv => kv.Value)\n",
    "    .Where(job => job.LatestSession.Tags.Contains(SessionInfo.NOT_TERMINATED_TAG)\n",
    "                  || job.LatestSession.Tags.Contains(SessionInfo.SOLVER_ERROR)).ToArray();\n",
    "suspects\n",
    "*/"
   ]
  },
  {
   "cell_type": "code",
   "execution_count": null,
   "metadata": {
    "dotnet_interactive": {
     "language": "csharp"
    }
   },
   "outputs": [],
   "source": [
    "//suspects.Count()"
   ]
  },
  {
   "cell_type": "code",
   "execution_count": null,
   "metadata": {
    "dotnet_interactive": {
     "language": "csharp"
    }
   },
   "outputs": [],
   "source": [
    "//NUnit.Framework.Assert.IsTrue(suspects.Count() <= 0, $\"{suspects.Count()} Failed Jobs of {BoSSSshell.WorkflowMgm.AllJobs.Count()} in total.\");"
   ]
  },
  {
   "cell_type": "markdown",
   "metadata": {},
   "source": [
    "### Inspect the output of some arbitrary job:"
   ]
  },
  {
   "cell_type": "code",
   "execution_count": null,
   "metadata": {
    "dotnet_interactive": {
     "language": "csharp"
    }
   },
   "outputs": [],
   "source": [
    "BoSSSshell.WorkflowMgm.AllJobs.First().Value.ShowOutput();"
   ]
  },
  {
   "cell_type": "code",
   "execution_count": null,
   "metadata": {
    "dotnet_interactive": {
     "language": "csharp"
    }
   },
   "outputs": [],
   "source": [
    "//wmg.Sessions[0].Export().WithSupersampling(2).Do()"
   ]
  },
  {
   "cell_type": "code",
   "execution_count": null,
   "metadata": {
    "dotnet_interactive": {
     "language": "csharp"
    }
   },
   "outputs": [],
   "source": []
  }
 ],
 "metadata": {
  "kernelspec": {
   "display_name": ".NET (C#)",
   "language": "C#",
   "name": ".net-csharp"
  },
  "language_info": {
   "file_extension": ".cs",
   "mimetype": "text/x-csharp",
   "name": "C#",
   "pygments_lexer": "csharp",
   "version": "9.0"
  }
 },
 "nbformat": 4,
 "nbformat_minor": 4
}
