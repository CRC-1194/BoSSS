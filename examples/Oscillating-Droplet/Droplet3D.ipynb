{
 "cells": [
  {
   "cell_type": "markdown",
   "metadata": {},
   "source": [
    "# 3D Droplet Oscillation\n",
    "\n",
    "Results published: hopefully at some point!\n",
    "\n",
    "It is part of the BoSSS-long-term validation test suite, which consists of \n",
    "several computationally expensive test-cases (runtime in the order of days),\n",
    "which are performed on a regular basis in order to validate the \n",
    "physical correctness of BoSSS simulations.\n"
   ]
  },
  {
   "cell_type": "markdown",
   "metadata": {},
   "source": [
    "### Preliminaries\n",
    "\n",
    "This example can be found in the source code repository as as `Droplet3D.ipynb`. \n",
    "One can directly load this into Jupyter to interactively work with the following code examples.\n",
    "\n",
    "Note: First, BoSSS has to be loaded into the Jupyter kernel. Note:\n",
    "In the following line, the reference to `BoSSSpad.dll` is required. \n",
    "One must either set `#r \"BoSSSpad.dll\"` to something which is appropirate for the current computer\n",
    "(e.g. `C:\\Program Files (x86)\\FDY\\BoSSS\\bin\\Release\\net5.0\\BoSSSpad.dll` if working with the binary distribution), \n",
    "or, if one is working with the source code, one must compile `BoSSSpad`\n",
    "and put it side-by-side to this worksheet file \n",
    "(from the original location in the repository, one can use the scripts `getbossspad.sh`, resp. `getbossspad.bat`).\n"
   ]
  },
  {
   "cell_type": "code",
   "execution_count": null,
   "metadata": {
    "dotnet_interactive": {
     "language": "csharp"
    }
   },
   "outputs": [],
   "source": [
    "//#r \"../../src/L4-application/BoSSSpad/bin/Release/net5.0/BoSSSpad.dll\"\n",
    "//#r \"../../src/L4-application/BoSSSpad/bin/Debug/net5.0/BoSSSpad.dll\"\n",
    "#r \"BoSSSpad.dll\"\n",
    "using System;\n",
    "using System.Collections.Generic;\n",
    "using System.Linq;\n",
    "using ilPSP;\n",
    "using ilPSP.Utils;\n",
    "using BoSSS.Platform;\n",
    "using BoSSS.Foundation;\n",
    "using BoSSS.Foundation.XDG;\n",
    "using BoSSS.Foundation.Grid;\n",
    "using BoSSS.Foundation.Grid.Classic;\n",
    "using BoSSS.Foundation.IO;\n",
    "using BoSSS.Solution;\n",
    "using BoSSS.Solution.Control;\n",
    "using BoSSS.Solution.GridImport;\n",
    "using BoSSS.Solution.Statistic;\n",
    "using BoSSS.Solution.Utils;\n",
    "using BoSSS.Solution.AdvancedSolvers;\n",
    "using BoSSS.Solution.Gnuplot;\n",
    "using BoSSS.Application.BoSSSpad;\n",
    "using BoSSS.Application.XNSE_Solver;\n",
    "using static BoSSS.Application.BoSSSpad.BoSSSshell;\n",
    "Init();"
   ]
  },
  {
   "cell_type": "markdown",
   "metadata": {},
   "source": [
    "## Initialization tasks"
   ]
  },
  {
   "cell_type": "markdown",
   "metadata": {},
   "source": [
    "Loading the `XNSE_Solver` and additional namespace:"
   ]
  },
  {
   "cell_type": "code",
   "execution_count": null,
   "metadata": {
    "dotnet_interactive": {
     "language": "csharp"
    }
   },
   "outputs": [],
   "source": [
    "using BoSSS.Application.XNSE_Solver;\n",
    "using BoSSS.Application.XNSE_Solver.PhysicalBasedTestcases;\n",
    "using BoSSS.Solution.NSECommon;\n",
    "using BoSSS.Solution.XNSECommon;\n",
    "using BoSSS.Solution.LevelSetTools.SolverWithLevelSetUpdater;\n",
    "using NUnit.Framework;\n",
    "using BoSSS.Application.XNSE_Solver.Logging;\n",
    "using BoSSS.Solution.LevelSetTools;\n",
    "using BoSSS.Solution.XdgTimestepping;\n",
    "using BoSSS.Solution.Timestepping;"
   ]
  },
  {
   "cell_type": "markdown",
   "metadata": {},
   "source": [
    "Initialization of the Workflow management; there `OscillatingDroplet3D` is the project name which is used name all computations (aka. sessions):"
   ]
  },
  {
   "cell_type": "code",
   "execution_count": null,
   "metadata": {
    "dotnet_interactive": {
     "language": "csharp"
    }
   },
   "outputs": [
    {
     "name": "stdout",
     "output_type": "stream",
     "text": [
      "Project name is set to 'OscillatingDroplet3D'.\r\n",
      "Opening existing database 'D:\\local\\OscillatingDroplet3D'.\r\n"
     ]
    }
   ],
   "source": [
    "BoSSSshell.WorkflowMgm.Init(\"OscillatingDroplet3D\");"
   ]
  },
  {
   "cell_type": "markdown",
   "metadata": {},
   "source": [
    "Overview on the available *Execution Queues* (aka. *Batch Processors*, aka. *Batch System*); these e.g. Linux HPC clusters on which compute jobs can be executed."
   ]
  },
  {
   "cell_type": "code",
   "execution_count": null,
   "metadata": {
    "dotnet_interactive": {
     "language": "csharp"
    }
   },
   "outputs": [
    {
     "data": {
      "text/html": [
       "<table><thead><tr><th><i>index</i></th><th><i>type</i></th><th>DeploymentBaseDirectory</th><th>DeployRuntime</th><th>Name</th><th>DotnetRuntime</th><th>BatchInstructionDir</th><th>AllowedDatabasesPaths</th><th>Username</th><th>ServerName</th><th>ComputeNodes</th><th>DefaultJobPriority</th><th>SingleNode</th></tr></thead><tbody><tr><td>0</td><td>BoSSS.Application.BoSSSpad.MiniBatchProcessorClient</td><td>D:\\local\\binaries</td><td>False</td><td>LocalPC</td><td>dotnet</td><td><div class=\"dni-plaintext\">&lt;null&gt;</div></td><td>[ D:\\local\\ ==  ]</td><td></td><td></td><td></td><td></td><td></td></tr><tr><td>1</td><td>BoSSS.Application.BoSSSpad.MsHPC2012Client</td><td>\\\\hpccluster\\hpccluster-scratch\\smuda\\binaries</td><td>False</td><td>FDY-WindowsHPC</td><td>dotnet</td><td></td><td>[ \\\\hpccluster\\hpccluster-scratch\\smuda\\ ==  ]</td><td>FDY\\smuda</td><td>DC2</td><td><div class=\"dni-plaintext\">&lt;null&gt;</div></td><td>Normal</td><td>True</td></tr></tbody></table>"
      ]
     },
     "metadata": {},
     "output_type": "display_data"
    }
   ],
   "source": [
    "ExecutionQueues"
   ]
  },
  {
   "cell_type": "markdown",
   "metadata": {},
   "source": [
    "For this example (which is part of the BoSSS validation tests), a *default queue* is selected to run all jobs in the convergence study:"
   ]
  },
  {
   "cell_type": "code",
   "execution_count": null,
   "metadata": {
    "dotnet_interactive": {
     "language": "csharp"
    }
   },
   "outputs": [
    {
     "data": {
      "text/html": [
       "<table><thead><tr><th>DeploymentBaseDirectory</th><th>DeployRuntime</th><th>Name</th><th>DotnetRuntime</th><th>Username</th><th>ServerName</th><th>ComputeNodes</th><th>DefaultJobPriority</th><th>SingleNode</th><th>AllowedDatabasesPaths</th></tr></thead><tbody><tr><td><div class=\"dni-plaintext\">\\\\hpccluster\\hpccluster-scratch\\smuda\\binaries</div></td><td><div class=\"dni-plaintext\">False</div></td><td><div class=\"dni-plaintext\">FDY-WindowsHPC</div></td><td><div class=\"dni-plaintext\">dotnet</div></td><td><div class=\"dni-plaintext\">FDY\\smuda</div></td><td><div class=\"dni-plaintext\">DC2</div></td><td><div class=\"dni-plaintext\">&lt;null&gt;</div></td><td><div class=\"dni-plaintext\">Normal</div></td><td><div class=\"dni-plaintext\">True</div></td><td><div class=\"dni-plaintext\">[ \\\\hpccluster\\hpccluster-scratch\\smuda\\ ==  ]</div></td></tr></tbody></table>"
      ]
     },
     "metadata": {},
     "output_type": "display_data"
    }
   ],
   "source": [
    "//var myBatch = ExecutionQueues[1];\n",
    "var myBatch = GetDefaultQueue();\n",
    "myBatch"
   ]
  },
  {
   "cell_type": "markdown",
   "metadata": {},
   "source": [
    "A switch for running the worksheet locally (since we have a folder structure for the data, which is not copied on Jenkins for testing)"
   ]
  },
  {
   "cell_type": "code",
   "execution_count": null,
   "metadata": {
    "dotnet_interactive": {
     "language": "csharp"
    }
   },
   "outputs": [],
   "source": [
    "bool NunitTest = false;"
   ]
  },
  {
   "cell_type": "code",
   "execution_count": null,
   "metadata": {
    "dotnet_interactive": {
     "language": "csharp"
    }
   },
   "outputs": [],
   "source": [
    "//foreach(var s in wmg.Sessions)\n",
    "//    s.Delete(true);"
   ]
  },
  {
   "cell_type": "markdown",
   "metadata": {},
   "source": [
    "## Verification of Initial Value data"
   ]
  },
  {
   "cell_type": "markdown",
   "metadata": {},
   "source": [
    "Initial values and parameters for the simulation (intial droplet shape, Ohnesorg number, initial velocity)\n",
    "were specified by project partner (TU Graz, Group Prof. Brenn).\n",
    "Details can be found in Document `setup.pdf`, to be found in the same directory as this worksheet.\n",
    "\n",
    "First, it is verified that the initial values chosen here actually match the specification."
   ]
  },
  {
   "cell_type": "code",
   "execution_count": null,
   "metadata": {
    "dotnet_interactive": {
     "language": "csharp"
    }
   },
   "outputs": [
    {
     "name": "stdout",
     "output_type": "stream",
     "text": [
      "case 1: m3_Oh01_eta04_new\r\n",
      "case 2: m3_Oh01_eta015\r\n"
     ]
    },
    {
     "data": {
      "text/html": [
       "<div class=\"dni-plaintext\">2</div>"
      ]
     },
     "metadata": {},
     "output_type": "display_data"
    }
   ],
   "source": [
    "//MultidimensionalArray[] ReferenceData = new MultidimensionalArray[5];\n",
    "int[] modes = new int[] { 3 };\n",
    "List<string> cases = new List<string>();\n",
    "int nCase = 0;\n",
    "// add simulations for mode 2\n",
    "if(modes.Contains(2)) {\n",
    "    cases.Add(\"m2_Oh01_eta04\");\n",
    "    Console.WriteLine($\"case {nCase+1}: {cases[nCase]}\");\n",
    "    nCase++;\n",
    "    cases.Add(\"m2_Oh01_eta02\");\n",
    "    Console.WriteLine($\"case {nCase+1}: {cases[nCase]}\");\n",
    "    nCase++;\n",
    "    cases.Add(\"m2_Oh01_eta01\");\n",
    "    Console.WriteLine($\"case {nCase+1}: {cases[nCase]}\");\n",
    "    nCase++;\n",
    "}\n",
    "// add simulations for mode 3\n",
    "if(modes.Contains(3)) {\n",
    "    // cases.Add(\"m3_Oh01_eta04\");\n",
    "    // Console.WriteLine($\"case {nCase+1}: {cases[nCase]}\");\n",
    "    // nCase++;\n",
    "    cases.Add(\"m3_Oh01_eta04_new\");\n",
    "    Console.WriteLine($\"case {nCase+1}: {cases[nCase]}\");\n",
    "    nCase++;\n",
    "    cases.Add(\"m3_Oh01_eta015\");\n",
    "    Console.WriteLine($\"case {nCase+1}: {cases[nCase]}\");\n",
    "    nCase++;\n",
    "}\n",
    "// add simulations for mode 4\n",
    "if(modes.Contains(4)) {\n",
    "    cases.Add(\"m4_Oh01_eta04\");\n",
    "    Console.WriteLine($\"case {nCase+1}: {cases[nCase]}\");\n",
    "    nCase++;\n",
    "    cases.Add(\"m4_Oh01_eta01\");\n",
    "    Console.WriteLine($\"case {nCase+1}: {cases[nCase]}\");\n",
    "    nCase++;\n",
    "    cases.Add(\"m4_Oh056_eta005\");\n",
    "    Console.WriteLine($\"case {nCase+1}: {cases[nCase]}\");\n",
    "    nCase++;\n",
    "}\n",
    "int numCases = cases.Count;\n",
    "numCases"
   ]
  },
  {
   "cell_type": "markdown",
   "metadata": {},
   "source": [
    "Load reference data for all cases; These files contain two columns, i.e. the azimuth angle and the respective droplet radius."
   ]
  },
  {
   "cell_type": "code",
   "execution_count": null,
   "metadata": {
    "dotnet_interactive": {
     "language": "csharp"
    }
   },
   "outputs": [],
   "source": [
    "MultidimensionalArray[] ReferenceData = new MultidimensionalArray[numCases];\n",
    "for(int iCase = 0; iCase < numCases; iCase++) {\n",
    "    if(!NunitTest)  \n",
    "        ReferenceData[iCase] = IMatrixExtensions.LoadFromTextFile($\"data/InitialValues/{cases[iCase].Substring(0,2)}/surfaceDrop_{cases[iCase]}.txt\");\n",
    "    else\n",
    "        ReferenceData[iCase] = IMatrixExtensions.LoadFromTextFile($\"surfaceDrop_{cases[iCase]}.txt\");\n",
    "}"
   ]
  },
  {
   "cell_type": "markdown",
   "metadata": {},
   "source": [
    "Analytical expressions for the reference data (see `setup.pdf`); this is to verify that the definition of Legendre\n",
    "Functions resp. Polynomials in BoSSS actually matches the definition used by the TU Graz group."
   ]
  },
  {
   "cell_type": "code",
   "execution_count": null,
   "metadata": {
    "dotnet_interactive": {
     "language": "csharp"
    }
   },
   "outputs": [],
   "source": [
    "Dictionary<string, Func<double, double>> casesRadius = new Dictionary<string, Func<double, double>>();"
   ]
  },
  {
   "cell_type": "code",
   "execution_count": null,
   "metadata": {
    "dotnet_interactive": {
     "language": "csharp"
    }
   },
   "outputs": [],
   "source": [
    "double caseR_m2eta04(double angle) {\n",
    "   double radius = 0.966781 + 0.4*SphericalHarmonics.MyLegendre(2,0,Math.Cos(angle));\n",
    "   return radius; \n",
    "}\n",
    "casesRadius.Add(\"m2_Oh01_eta04\", caseR_m2eta04);"
   ]
  },
  {
   "cell_type": "code",
   "execution_count": null,
   "metadata": {
    "dotnet_interactive": {
     "language": "csharp"
    }
   },
   "outputs": [],
   "source": [
    "double caseR_m2eta02(double angle) {\n",
    "   double radius = 0.991848 + 0.2*SphericalHarmonics.MyLegendre(2,0,Math.Cos(angle));\n",
    "   return radius; \n",
    "}\n",
    "casesRadius.Add(\"m2_Oh01_eta02\", caseR_m2eta02);"
   ]
  },
  {
   "cell_type": "code",
   "execution_count": null,
   "metadata": {
    "dotnet_interactive": {
     "language": "csharp"
    }
   },
   "outputs": [],
   "source": [
    "double caseR_m2eta01(double angle) {\n",
    "   double radius = 0.997981 + 0.1*SphericalHarmonics.MyLegendre(2,0,Math.Cos(angle));\n",
    "   return radius; \n",
    "}\n",
    "casesRadius.Add(\"m2_Oh01_eta01\", caseR_m2eta01);"
   ]
  },
  {
   "cell_type": "code",
   "execution_count": null,
   "metadata": {
    "dotnet_interactive": {
     "language": "csharp"
    }
   },
   "outputs": [],
   "source": [
    "double caseR_m3eta04(double angle) {\n",
    "    double radius = 0.977143 + 0.4*SphericalHarmonics.MyLegendre(3,0,Math.Cos(angle));\n",
    "    return radius; \n",
    "}\n",
    "casesRadius.Add(\"m3_Oh01_eta04\", caseR_m3eta04);"
   ]
  },
  {
   "cell_type": "code",
   "execution_count": null,
   "metadata": {
    "dotnet_interactive": {
     "language": "csharp"
    }
   },
   "outputs": [],
   "source": [
    "double caseR_m3eta04new(double angle) {\n",
    "    double radius = 0.971158  + 0.4*SphericalHarmonics.MyLegendre(3,0,Math.Cos(angle));\n",
    "    return radius; \n",
    "}\n",
    "casesRadius.Add(\"m3_Oh01_eta04_new\", caseR_m3eta04new);"
   ]
  },
  {
   "cell_type": "code",
   "execution_count": null,
   "metadata": {
    "dotnet_interactive": {
     "language": "csharp"
    }
   },
   "outputs": [],
   "source": [
    "double caseR_m3eta015(double angle) {\n",
    "    double radius = 0.99647 + 0.15*SphericalHarmonics.MyLegendre(3,0,Math.Cos(angle));\n",
    "    return radius; \n",
    "}\n",
    "casesRadius.Add(\"m3_Oh01_eta015\", caseR_m3eta015);"
   ]
  },
  {
   "cell_type": "code",
   "execution_count": null,
   "metadata": {
    "dotnet_interactive": {
     "language": "csharp"
    }
   },
   "outputs": [],
   "source": [
    "double caseR_m4eta04(double angle) {\n",
    "    double radius = 0.981839 + 0.4*SphericalHarmonics.MyLegendre(4,0,Math.Cos(angle));\n",
    "    return radius; \n",
    "}\n",
    "casesRadius.Add(\"m4_Oh01_eta04\", caseR_m4eta04);"
   ]
  },
  {
   "cell_type": "code",
   "execution_count": null,
   "metadata": {
    "dotnet_interactive": {
     "language": "csharp"
    }
   },
   "outputs": [],
   "source": [
    "double caseR_m4eta01(double angle) {\n",
    "    double radius = 0.998883 + 0.1*SphericalHarmonics.MyLegendre(4,0,Math.Cos(angle));\n",
    "    return radius; \n",
    "}\n",
    "casesRadius.Add(\"m4_Oh01_eta01\", caseR_m4eta01);"
   ]
  },
  {
   "cell_type": "code",
   "execution_count": null,
   "metadata": {
    "dotnet_interactive": {
     "language": "csharp"
    }
   },
   "outputs": [],
   "source": [
    "double caseR_m4eta005(double angle) {\n",
    "    double radius = 0.999721 + 0.05*SphericalHarmonics.MyLegendre(4,0,Math.Cos(angle));\n",
    "    return radius; \n",
    "}\n",
    "casesRadius.Add(\"m4_Oh056_eta005\", caseR_m4eta005);"
   ]
  },
  {
   "cell_type": "markdown",
   "metadata": {},
   "source": [
    "Conversion to cartesian coordinates in order to match the data and verification against analytical expression:"
   ]
  },
  {
   "cell_type": "code",
   "execution_count": null,
   "metadata": {
    "dotnet_interactive": {
     "language": "csharp"
    }
   },
   "outputs": [
    {
     "name": "stdout",
     "output_type": "stream",
     "text": [
      "Comparison error for radius in case 1: 0.13065345687400637\r\n",
      "Comparison error for radius in case 2: 0.006891475401375111\r\n"
     ]
    }
   ],
   "source": [
    "double[][] refX = new double[numCases][];\n",
    "double[][] refZ = new double[numCases][];\n",
    "double[][] caseX = new double[numCases][];\n",
    "double[][] caseZ = new double[numCases][];\n",
    "for(int iCase = 0; iCase < numCases; iCase++) {\n",
    "// int testcase = 4;\n",
    "// for(int iCase = testcase; iCase < testcase+1; iCase++) {\n",
    "    double[] angle = ReferenceData[iCase].GetColumn(0);\n",
    "    double[] radius = ReferenceData[iCase].GetColumn(1);\n",
    "       \n",
    "    double RadiusErrorNorm = 0.0;\n",
    "    int I = angle.Length;\n",
    "    double[] x1 = new double[I], z1 = new double[I];\n",
    "    double[] cx1 = new double[I], cz1 = new double[I];\n",
    "    for(int i = 0; i < I; i++) {\n",
    "        x1[i] = Math.Sin(angle[i])*radius[i];\n",
    "        z1[i] = Math.Cos(angle[i])*radius[i];\n",
    "        \n",
    "        double radius_expr = casesRadius[cases[iCase]](angle[i]);\n",
    "        RadiusErrorNorm += (radius[i] - radius_expr).Pow2();     \n",
    "        \n",
    "        cx1[i] = Math.Sin(angle[i])*radius_expr;\n",
    "        cz1[i] = Math.Cos(angle[i])*radius_expr;\n",
    "    } \n",
    "    refX[iCase] = x1;\n",
    "    refZ[iCase] = z1;\n",
    "    caseX[iCase] = cx1;\n",
    "    caseZ[iCase] = cz1;\n",
    "\n",
    "    RadiusErrorNorm = RadiusErrorNorm.Sqrt();\n",
    "    Console.WriteLine($\"Comparison error for radius in case {iCase + 1}: {RadiusErrorNorm}\");\n",
    "    // Note: since the factors in `setup.pdf` are only provided up to 6 digits, an error threshold of 1e-5 seems reasonable.\n",
    "    //Assert.LessOrEqual(RadiusErrorNorm, 1e-5, \"Error in comparing reference data against Legendre polynomials in BoSSS\");\n",
    "}"
   ]
  },
  {
   "cell_type": "markdown",
   "metadata": {},
   "source": [
    "### Plot of Reference Data"
   ]
  },
  {
   "cell_type": "code",
   "execution_count": null,
   "metadata": {
    "dotnet_interactive": {
     "language": "csharp"
    }
   },
   "outputs": [
    {
     "name": "stdout",
     "output_type": "stream",
     "text": [
      "Using gnuplot: C:\\Users\\smuda\\AppData\\Local\\FDY\\BoSSS\\bin\\native\\win\\gnuplot-gp510-20160418-win32-mingw\\gnuplot\\bin\\gnuplot.exe\r\n"
     ]
    },
    {
     "data": {
      "text/html": [
       "<?xml version=\"1.0\" encoding=\"utf-8\"  standalone=\"no\"?>\n",
       "<!DOCTYPE svg PUBLIC \"-//W3C//DTD SVG 1.1//EN\"\n",
       " \"http://www.w3.org/Graphics/SVG/1.1/DTD/svg11.dtd\">\n",
       "<svg \n",
       " width=\"800\" height=\"600\"\n",
       " viewBox=\"0 0 800 600\"\n",
       " xmlns=\"http://www.w3.org/2000/svg\"\n",
       " xmlns:xlink=\"http://www.w3.org/1999/xlink\"\n",
       ">\n",
       "\n",
       "<title>Gnuplot</title>\n",
       "<desc>Produced by GNUPLOT 5.1 patchlevel 0 </desc>\n",
       "\n",
       "<g id=\"gnuplot_canvas\">\n",
       "\n",
       "<rect x=\"0\" y=\"0\" width=\"800\" height=\"600\" fill=\"#ffffff\"/>\n",
       "<defs>\n",
       "\n",
       "\t<circle id='gpDot' r='0.5' stroke-width='0.5'/>\n",
       "\t<path id='gpPt0' stroke-width='0.222' stroke='currentColor' d='M-1,0 h2 M0,-1 v2'/>\n",
       "\t<path id='gpPt1' stroke-width='0.222' stroke='currentColor' d='M-1,-1 L1,1 M1,-1 L-1,1'/>\n",
       "\t<path id='gpPt2' stroke-width='0.222' stroke='currentColor' d='M-1,0 L1,0 M0,-1 L0,1 M-1,-1 L1,1 M-1,1 L1,-1'/>\n",
       "\t<rect id='gpPt3' stroke-width='0.222' stroke='currentColor' x='-1' y='-1' width='2' height='2'/>\n",
       "\t<rect id='gpPt4' stroke-width='0.222' stroke='currentColor' fill='currentColor' x='-1' y='-1' width='2' height='2'/>\n",
       "\t<circle id='gpPt5' stroke-width='0.222' stroke='currentColor' cx='0' cy='0' r='1'/>\n",
       "\t<use xlink:href='#gpPt5' id='gpPt6' fill='currentColor' stroke='none'/>\n",
       "\t<path id='gpPt7' stroke-width='0.222' stroke='currentColor' d='M0,-1.33 L-1.33,0.67 L1.33,0.67 z'/>\n",
       "\t<use xlink:href='#gpPt7' id='gpPt8' fill='currentColor' stroke='none'/>\n",
       "\t<use xlink:href='#gpPt7' id='gpPt9' stroke='currentColor' transform='rotate(180)'/>\n",
       "\t<use xlink:href='#gpPt9' id='gpPt10' fill='currentColor' stroke='none'/>\n",
       "\t<use xlink:href='#gpPt3' id='gpPt11' stroke='currentColor' transform='rotate(45)'/>\n",
       "\t<use xlink:href='#gpPt11' id='gpPt12' fill='currentColor' stroke='none'/>\n",
       "\t<path id='gpPt13' stroke-width='0.222' stroke='currentColor' d='M0,1.330 L1.265,0.411 L0.782,-1.067 L-0.782,-1.076 L-1.265,0.411 z'/>\n",
       "\t<use xlink:href='#gpPt13' id='gpPt14' fill='currentColor' stroke='none'/>\n",
       "\t<filter id='textbox' filterUnits='objectBoundingBox' x='0' y='0' height='1' width='1'>\n",
       "\t  <feFlood flood-color='#FFFFFF' flood-opacity='1' result='bgnd'/>\n",
       "\t  <feComposite in='SourceGraphic' in2='bgnd' operator='atop'/>\n",
       "\t</filter>\n",
       "\t<filter id='greybox' filterUnits='objectBoundingBox' x='0' y='0' height='1' width='1'>\n",
       "\t  <feFlood flood-color='lightgrey' flood-opacity='1' result='grey'/>\n",
       "\t  <feComposite in='SourceGraphic' in2='grey' operator='atop'/>\n",
       "\t</filter>\n",
       "</defs>\n",
       "<g fill=\"none\" color=\"#FFFFFF\" stroke=\"currentColor\" stroke-width=\"1.00\" stroke-linecap=\"butt\" stroke-linejoin=\"miter\">\n",
       "</g>\n",
       "<g fill=\"none\" color=\"black\" stroke=\"currentColor\" stroke-width=\"1.00\" stroke-linecap=\"butt\" stroke-linejoin=\"miter\">\n",
       "\t<path stroke='black'  d='M53.9,564.0 L62.9,564.0 M775.0,564.0 L766.0,564.0  '/>\t<g transform=\"translate(45.6,568.5)\" stroke=\"none\" fill=\"black\" font-family=\"Arial\" font-size=\"12.00\"  text-anchor=\"end\">\n",
       "\t\t<text><tspan font-family=\"Arial\" >-1</tspan></text>\n",
       "\t</g>\n",
       "</g>\n",
       "<g fill=\"none\" color=\"black\" stroke=\"currentColor\" stroke-width=\"1.00\" stroke-linecap=\"butt\" stroke-linejoin=\"miter\">\n",
       "\t<path stroke='black'  d='M53.9,454.5 L62.9,454.5 M775.0,454.5 L766.0,454.5  '/>\t<g transform=\"translate(45.6,459.0)\" stroke=\"none\" fill=\"black\" font-family=\"Arial\" font-size=\"12.00\"  text-anchor=\"end\">\n",
       "\t\t<text><tspan font-family=\"Arial\" >-0.5</tspan></text>\n",
       "\t</g>\n",
       "</g>\n",
       "<g fill=\"none\" color=\"black\" stroke=\"currentColor\" stroke-width=\"1.00\" stroke-linecap=\"butt\" stroke-linejoin=\"miter\">\n",
       "\t<path stroke='black'  d='M53.9,345.1 L62.9,345.1 M775.0,345.1 L766.0,345.1  '/>\t<g transform=\"translate(45.6,349.6)\" stroke=\"none\" fill=\"black\" font-family=\"Arial\" font-size=\"12.00\"  text-anchor=\"end\">\n",
       "\t\t<text><tspan font-family=\"Arial\" > 0</tspan></text>\n",
       "\t</g>\n",
       "</g>\n",
       "<g fill=\"none\" color=\"black\" stroke=\"currentColor\" stroke-width=\"1.00\" stroke-linecap=\"butt\" stroke-linejoin=\"miter\">\n",
       "\t<path stroke='black'  d='M53.9,235.6 L62.9,235.6 M775.0,235.6 L766.0,235.6  '/>\t<g transform=\"translate(45.6,240.1)\" stroke=\"none\" fill=\"black\" font-family=\"Arial\" font-size=\"12.00\"  text-anchor=\"end\">\n",
       "\t\t<text><tspan font-family=\"Arial\" > 0.5</tspan></text>\n",
       "\t</g>\n",
       "</g>\n",
       "<g fill=\"none\" color=\"black\" stroke=\"currentColor\" stroke-width=\"1.00\" stroke-linecap=\"butt\" stroke-linejoin=\"miter\">\n",
       "\t<path stroke='black'  d='M53.9,126.2 L62.9,126.2 M775.0,126.2 L766.0,126.2  '/>\t<g transform=\"translate(45.6,130.7)\" stroke=\"none\" fill=\"black\" font-family=\"Arial\" font-size=\"12.00\"  text-anchor=\"end\">\n",
       "\t\t<text><tspan font-family=\"Arial\" > 1</tspan></text>\n",
       "\t</g>\n",
       "</g>\n",
       "<g fill=\"none\" color=\"black\" stroke=\"currentColor\" stroke-width=\"1.00\" stroke-linecap=\"butt\" stroke-linejoin=\"miter\">\n",
       "\t<path stroke='black'  d='M53.9,16.7 L62.9,16.7 M775.0,16.7 L766.0,16.7  '/>\t<g transform=\"translate(45.6,21.2)\" stroke=\"none\" fill=\"black\" font-family=\"Arial\" font-size=\"12.00\"  text-anchor=\"end\">\n",
       "\t\t<text><tspan font-family=\"Arial\" > 1.5</tspan></text>\n",
       "\t</g>\n",
       "</g>\n",
       "<g fill=\"none\" color=\"black\" stroke=\"currentColor\" stroke-width=\"1.00\" stroke-linecap=\"butt\" stroke-linejoin=\"miter\">\n",
       "\t<path stroke='black'  d='M53.9,564.0 L53.9,555.0 M53.9,16.7 L53.9,25.7  '/>\t<g transform=\"translate(53.9,586.5)\" stroke=\"none\" fill=\"black\" font-family=\"Arial\" font-size=\"12.00\"  text-anchor=\"middle\">\n",
       "\t\t<text><tspan font-family=\"Arial\" > 0</tspan></text>\n",
       "\t</g>\n",
       "</g>\n",
       "<g fill=\"none\" color=\"black\" stroke=\"currentColor\" stroke-width=\"1.00\" stroke-linecap=\"butt\" stroke-linejoin=\"miter\">\n",
       "\t<path stroke='black'  d='M174.1,564.0 L174.1,555.0 M174.1,16.7 L174.1,25.7  '/>\t<g transform=\"translate(174.1,586.5)\" stroke=\"none\" fill=\"black\" font-family=\"Arial\" font-size=\"12.00\"  text-anchor=\"middle\">\n",
       "\t\t<text><tspan font-family=\"Arial\" > 0.2</tspan></text>\n",
       "\t</g>\n",
       "</g>\n",
       "<g fill=\"none\" color=\"black\" stroke=\"currentColor\" stroke-width=\"1.00\" stroke-linecap=\"butt\" stroke-linejoin=\"miter\">\n",
       "\t<path stroke='black'  d='M294.3,564.0 L294.3,555.0 M294.3,16.7 L294.3,25.7  '/>\t<g transform=\"translate(294.3,586.5)\" stroke=\"none\" fill=\"black\" font-family=\"Arial\" font-size=\"12.00\"  text-anchor=\"middle\">\n",
       "\t\t<text><tspan font-family=\"Arial\" > 0.4</tspan></text>\n",
       "\t</g>\n",
       "</g>\n",
       "<g fill=\"none\" color=\"black\" stroke=\"currentColor\" stroke-width=\"1.00\" stroke-linecap=\"butt\" stroke-linejoin=\"miter\">\n",
       "\t<path stroke='black'  d='M414.5,564.0 L414.5,555.0 M414.5,16.7 L414.5,25.7  '/>\t<g transform=\"translate(414.5,586.5)\" stroke=\"none\" fill=\"black\" font-family=\"Arial\" font-size=\"12.00\"  text-anchor=\"middle\">\n",
       "\t\t<text><tspan font-family=\"Arial\" > 0.6</tspan></text>\n",
       "\t</g>\n",
       "</g>\n",
       "<g fill=\"none\" color=\"black\" stroke=\"currentColor\" stroke-width=\"1.00\" stroke-linecap=\"butt\" stroke-linejoin=\"miter\">\n",
       "\t<path stroke='black'  d='M534.6,564.0 L534.6,555.0 M534.6,16.7 L534.6,25.7  '/>\t<g transform=\"translate(534.6,586.5)\" stroke=\"none\" fill=\"black\" font-family=\"Arial\" font-size=\"12.00\"  text-anchor=\"middle\">\n",
       "\t\t<text><tspan font-family=\"Arial\" > 0.8</tspan></text>\n",
       "\t</g>\n",
       "</g>\n",
       "<g fill=\"none\" color=\"black\" stroke=\"currentColor\" stroke-width=\"1.00\" stroke-linecap=\"butt\" stroke-linejoin=\"miter\">\n",
       "\t<path stroke='black'  d='M654.8,564.0 L654.8,555.0 M654.8,16.7 L654.8,25.7  '/>\t<g transform=\"translate(654.8,586.5)\" stroke=\"none\" fill=\"black\" font-family=\"Arial\" font-size=\"12.00\"  text-anchor=\"middle\">\n",
       "\t\t<text><tspan font-family=\"Arial\" > 1</tspan></text>\n",
       "\t</g>\n",
       "</g>\n",
       "<g fill=\"none\" color=\"black\" stroke=\"currentColor\" stroke-width=\"1.00\" stroke-linecap=\"butt\" stroke-linejoin=\"miter\">\n",
       "\t<path stroke='black'  d='M775.0,564.0 L775.0,555.0 M775.0,16.7 L775.0,25.7  '/>\t<g transform=\"translate(775.0,586.5)\" stroke=\"none\" fill=\"black\" font-family=\"Arial\" font-size=\"12.00\"  text-anchor=\"middle\">\n",
       "\t\t<text><tspan font-family=\"Arial\" > 1.2</tspan></text>\n",
       "\t</g>\n",
       "</g>\n",
       "<g fill=\"none\" color=\"black\" stroke=\"currentColor\" stroke-width=\"1.00\" stroke-linecap=\"butt\" stroke-linejoin=\"miter\">\n",
       "</g>\n",
       "<g fill=\"none\" color=\"black\" stroke=\"currentColor\" stroke-width=\"1.00\" stroke-linecap=\"butt\" stroke-linejoin=\"miter\">\n",
       "\t<path stroke='black'  d='M53.9,16.7 L53.9,564.0 L775.0,564.0 L775.0,16.7 L53.9,16.7 Z  '/></g>\n",
       "<g fill=\"none\" color=\"black\" stroke=\"currentColor\" stroke-width=\"1.00\" stroke-linecap=\"butt\" stroke-linejoin=\"miter\">\n",
       "</g>\n",
       "\t<g id=\"gnuplot_plot_1\" ><title>Ref-Case</title>\n",
       "<g fill=\"none\" color=\"black\" stroke=\"currentColor\" stroke-width=\"1.00\" stroke-linecap=\"butt\" stroke-linejoin=\"miter\">\n",
       "\t<g transform=\"translate(707.9,39.2)\" stroke=\"none\" fill=\"black\" font-family=\"Arial\" font-size=\"12.00\"  text-anchor=\"end\">\n",
       "\t\t<text><tspan font-family=\"Arial\" >Ref-Case</tspan></text>\n",
       "\t</g>\n",
       "</g>\n",
       "<g fill=\"none\" color=\"black\" stroke=\"currentColor\" stroke-width=\"1.00\" stroke-linecap=\"butt\" stroke-linejoin=\"miter\">\n",
       "\t<path stroke='rgb(  0,   0,   0)'  d='M716.2,34.7 L758.4,34.7 M53.9,44.9 L62.1,44.9 L70.4,45.1 L78.6,45.3 L86.8,45.6 L95.0,45.9\n",
       "\t\tL103.2,46.4 L111.3,46.9 L119.4,47.5 L127.4,48.2 L135.4,49.0 L143.4,49.8 L151.3,50.8 L159.2,51.8\n",
       "\t\tL166.9,52.9 L174.6,54.0 L182.3,55.2 L189.9,56.5 L197.3,57.9 L204.7,59.4 L212.0,60.9 L219.3,62.5\n",
       "\t\tL226.4,64.1 L233.4,65.8 L240.3,67.6 L247.1,69.4 L253.8,71.3 L260.4,73.3 L266.9,75.3 L273.2,77.3\n",
       "\t\tL279.5,79.4 L285.6,81.6 L291.6,83.8 L297.4,86.1 L303.1,88.4 L308.8,90.7 L314.2,93.1 L319.6,95.5\n",
       "\t\tL324.8,98.0 L329.9,100.5 L334.8,103.0 L339.6,105.6 L344.3,108.2 L348.8,110.8 L353.2,113.4 L357.5,116.1\n",
       "\t\tL361.7,118.8 L365.7,121.5 L369.5,124.2 L373.3,126.9 L376.9,129.7 L380.4,132.4 L383.8,135.2 L387.0,137.9\n",
       "\t\tL390.2,140.7 L393.2,143.5 L396.1,146.3 L398.8,149.0 L401.5,151.8 L404.1,154.6 L406.5,157.3 L408.9,160.1\n",
       "\t\tL411.1,162.8 L413.3,165.5 L415.3,168.2 L417.3,170.9 L419.2,173.6 L421.0,176.3 L422.7,178.9 L424.4,181.6\n",
       "\t\tL426.0,184.2 L427.5,186.7 L428.9,189.3 L430.3,191.8 L431.7,194.4 L433.0,196.8 L434.2,199.3 L435.5,201.7\n",
       "\t\tL436.6,204.1 L437.8,206.5 L438.9,208.9 L440.0,211.2 L441.1,213.5 L442.2,215.7 L443.2,218.0 L444.3,220.1\n",
       "\t\tL445.3,222.3 L446.4,224.5 L447.4,226.6 L448.5,228.6 L449.6,230.7 L450.7,232.7 L451.8,234.7 L453.0,236.6\n",
       "\t\tL454.2,238.6 L455.4,240.5 L456.7,242.3 L458.0,244.2 L459.3,246.0 L460.7,247.8 L462.2,249.6 L463.7,251.3\n",
       "\t\tL465.3,253.0 L466.9,254.7 L468.5,256.4 L470.3,258.1 L472.1,259.7 L474.0,261.3 L475.9,262.9 L477.9,264.5\n",
       "\t\tL480.0,266.1 L482.1,267.6 L484.4,269.2 L486.6,270.7 L489.0,272.2 L491.5,273.7 L494.0,275.2 L496.6,276.7\n",
       "\t\tL499.3,278.2 L502.0,279.7 L504.8,281.2 L507.7,282.7 L510.7,284.2 L513.7,285.7 L516.9,287.2 L520.0,288.7\n",
       "\t\tL523.3,290.2 L526.6,291.7 L530.0,293.2 L533.4,294.7 L536.9,296.2 L540.5,297.8 L544.1,299.3 L547.7,300.9\n",
       "\t\tL551.4,302.5 L555.2,304.1 L559.0,305.7 L562.8,307.3 L566.6,309.0 L570.5,310.7 L574.5,312.4 L578.4,314.1\n",
       "\t\tL582.3,315.8 L586.3,317.6 L590.3,319.4 L594.3,321.2 L598.3,323.0 L602.3,324.9 L606.2,326.8 L610.2,328.7\n",
       "\t\tL614.1,330.6 L618.0,332.6 L621.9,334.6 L625.8,336.6 L629.6,338.6 L633.4,340.7 L637.1,342.8 L640.8,344.9\n",
       "\t\tL644.4,347.1 L648.0,349.2 L651.4,351.4 L654.9,353.7 L658.2,355.9 L661.4,358.2 L664.6,360.5 L667.7,362.8\n",
       "\t\tL670.6,365.2 L673.5,367.5 L676.3,369.9 L678.9,372.4 L681.4,374.8 L683.8,377.2 L686.1,379.7 L688.3,382.2\n",
       "\t\tL690.3,384.7 L692.2,387.2 L693.9,389.7 L695.5,392.3 L697.0,394.8 L698.3,397.4 L699.4,399.9 L700.4,402.5\n",
       "\t\tL701.2,405.1 L701.9,407.7 L702.4,410.3 L702.7,412.8 L702.9,415.4 L702.9,418.0 L702.7,420.6 L702.3,423.2\n",
       "\t\tL701.7,425.7 L701.0,428.3 L700.1,430.8 L699.0,433.3 L697.7,435.8 L696.3,438.3 L694.6,440.8 L692.8,443.3\n",
       "\t\tL690.8,445.7 L688.6,448.1 L686.2,450.5 L683.7,452.9 L680.9,455.2 L678.0,457.5 L674.9,459.8 L671.7,462.0\n",
       "\t\tL668.2,464.2 L664.6,466.4 L660.8,468.5 L656.8,470.6 L652.7,472.7 L648.4,474.7 L644.0,476.6 L639.3,478.6\n",
       "\t\tL634.6,480.4 L629.6,482.3 L624.6,484.0 L619.4,485.8 L614.0,487.5 L608.5,489.1 L602.9,490.7 L597.1,492.2\n",
       "\t\tL591.2,493.6 L585.2,495.1 L579.1,496.4 L572.9,497.7 L566.5,499.0 L560.1,500.1 L553.5,501.3 L546.9,502.3\n",
       "\t\tL540.1,503.4 L533.3,504.3 L526.5,505.2 L519.5,506.0 L512.5,506.8 L505.4,507.5 L498.2,508.2 L491.0,508.8\n",
       "\t\tL483.8,509.3 L476.5,509.8 L469.1,510.2 L461.8,510.6 L454.4,510.9 L447.0,511.2 L439.6,511.4 L432.1,511.5\n",
       "\t\tL424.7,511.6 L417.3,511.6 L409.8,511.6 L402.4,511.5 L395.0,511.4 L387.6,511.3 L380.2,511.0 L372.9,510.8\n",
       "\t\tL365.6,510.5 L358.3,510.1 L351.0,509.7 L343.8,509.3 L336.7,508.8 L329.6,508.3 L322.5,507.8 L315.6,507.2\n",
       "\t\tL308.6,506.6 L301.8,505.9 L295.0,505.2 L288.3,504.5 L281.6,503.8 L275.0,503.0 L268.5,502.3 L262.1,501.5\n",
       "\t\tL255.8,500.7 L249.5,499.8 L243.3,499.0 L237.3,498.1 L231.3,497.2 L225.4,496.4 L219.5,495.5 L213.8,494.6\n",
       "\t\tL208.2,493.7 L202.6,492.8 L197.2,491.9 L191.8,491.0 L186.5,490.1 L181.3,489.2 L176.2,488.3 L171.2,487.4\n",
       "\t\tL166.3,486.6 L161.4,485.7 L156.6,484.9 L152.0,484.1 L147.4,483.3 L142.9,482.5 L138.4,481.7 L134.0,481.0\n",
       "\t\tL129.7,480.3 L125.5,479.6 L121.4,478.9 L117.3,478.3 L113.2,477.7 L109.3,477.1 L105.4,476.6 L101.5,476.1\n",
       "\t\tL97.7,475.6 L93.9,475.2 L90.2,474.8 L86.5,474.4 L82.8,474.0 L79.2,473.7 L75.6,473.5 L72.1,473.3\n",
       "\t\tL68.5,473.1 L65.0,472.9 L61.5,472.8 L58.0,472.8 L54.5,472.7 L53.9,472.7  '/></g>\n",
       "\t</g>\n",
       "\t<g id=\"gnuplot_plot_2\" ><title>Case</title>\n",
       "<g fill=\"none\" color=\"black\" stroke=\"currentColor\" stroke-width=\"1.00\" stroke-linecap=\"butt\" stroke-linejoin=\"miter\">\n",
       "\t<g transform=\"translate(707.9,57.2)\" stroke=\"none\" fill=\"black\" font-family=\"Arial\" font-size=\"12.00\"  text-anchor=\"end\">\n",
       "\t\t<text><tspan font-family=\"Arial\" >Case</tspan></text>\n",
       "\t</g>\n",
       "</g>\n",
       "<g fill=\"none\" color=\"black\" stroke=\"currentColor\" stroke-width=\"1.00\" stroke-linecap=\"butt\" stroke-linejoin=\"miter\">\n",
       "\t<path stroke='rgb(  0,   0, 255)'  d='M716.2,52.7 L758.4,52.7 M53.9,44.9 L62.1,44.9 L70.4,45.1 L78.6,45.3 L86.8,45.6 L95.0,45.9\n",
       "\t\tL103.2,46.4 L111.3,46.9 L119.4,47.5 L127.4,48.2 L135.4,49.0 L143.4,49.9 L151.3,50.8 L159.2,51.8\n",
       "\t\tL166.9,52.9 L174.6,54.0 L182.3,55.3 L189.8,56.6 L197.3,57.9 L204.7,59.4 L212.0,60.9 L219.2,62.5\n",
       "\t\tL226.4,64.1 L233.4,65.8 L240.3,67.6 L247.1,69.5 L253.8,71.4 L260.4,73.3 L266.8,75.3 L273.2,77.4\n",
       "\t\tL279.4,79.5 L285.5,81.7 L291.5,83.9 L297.3,86.1 L303.1,88.5 L308.7,90.8 L314.1,93.2 L319.5,95.6\n",
       "\t\tL324.7,98.1 L329.8,100.6 L334.7,103.1 L339.5,105.7 L344.2,108.3 L348.7,110.9 L353.1,113.6 L357.4,116.2\n",
       "\t\tL361.5,118.9 L365.5,121.6 L369.4,124.3 L373.1,127.1 L376.7,129.8 L380.2,132.6 L383.5,135.3 L386.8,138.1\n",
       "\t\tL389.9,140.9 L392.9,143.7 L395.8,146.4 L398.5,149.2 L401.2,152.0 L403.7,154.7 L406.2,157.5 L408.5,160.3\n",
       "\t\tL410.7,163.0 L412.9,165.7 L414.9,168.4 L416.8,171.1 L418.7,173.8 L420.5,176.5 L422.2,179.2 L423.8,181.8\n",
       "\t\tL425.4,184.4 L426.9,187.0 L428.3,189.5 L429.7,192.1 L431.0,194.6 L432.3,197.1 L433.6,199.6 L434.7,202.0\n",
       "\t\tL435.9,204.4 L437.0,206.8 L438.1,209.1 L439.2,211.5 L440.2,213.7 L441.3,216.0 L442.3,218.2 L443.3,220.4\n",
       "\t\tL444.4,222.6 L445.4,224.8 L446.4,226.9 L447.5,228.9 L448.5,231.0 L449.6,233.0 L450.7,235.0 L451.9,237.0\n",
       "\t\tL453.0,238.9 L454.2,240.8 L455.4,242.7 L456.7,244.5 L458.0,246.3 L459.4,248.1 L460.8,249.9 L462.3,251.6\n",
       "\t\tL463.8,253.4 L465.4,255.1 L467.0,256.7 L468.7,258.4 L470.5,260.0 L472.3,261.6 L474.2,263.2 L476.2,264.8\n",
       "\t\tL478.2,266.4 L480.3,268.0 L482.5,269.5 L484.8,271.0 L487.1,272.5 L489.5,274.1 L492.0,275.6 L494.6,277.1\n",
       "\t\tL497.2,278.5 L499.9,280.0 L502.7,281.5 L505.6,283.0 L508.5,284.5 L511.5,286.0 L514.6,287.4 L517.7,288.9\n",
       "\t\tL520.9,290.4 L524.2,291.9 L527.5,293.4 L530.9,295.0 L534.4,296.5 L537.9,298.0 L541.4,299.6 L545.1,301.1\n",
       "\t\tL548.7,302.7 L552.4,304.3 L556.2,305.9 L560.0,307.6 L563.8,309.2 L567.6,310.9 L571.5,312.6 L575.4,314.3\n",
       "\t\tL579.3,316.0 L583.3,317.7 L587.2,319.5 L591.1,321.3 L595.1,323.1 L599.0,325.0 L603.0,326.9 L606.9,328.8\n",
       "\t\tL610.8,330.7 L614.7,332.6 L618.5,334.6 L622.3,336.6 L626.1,338.7 L629.9,340.7 L633.6,342.8 L637.2,344.9\n",
       "\t\tL640.8,347.0 L644.3,349.2 L647.7,351.4 L651.1,353.6 L654.4,355.9 L657.6,358.1 L660.8,360.4 L663.8,362.7\n",
       "\t\tL666.7,365.0 L669.6,367.4 L672.3,369.8 L674.9,372.2 L677.4,374.6 L679.8,377.0 L682.0,379.5 L684.2,381.9\n",
       "\t\tL686.2,384.4 L688.0,386.9 L689.7,389.4 L691.3,392.0 L692.7,394.5 L694.0,397.0 L695.1,399.6 L696.1,402.1\n",
       "\t\tL696.9,404.7 L697.5,407.3 L698.0,409.8 L698.3,412.4 L698.4,414.9 L698.4,417.5 L698.2,420.1 L697.8,422.6\n",
       "\t\tL697.2,425.2 L696.5,427.7 L695.6,430.2 L694.5,432.7 L693.2,435.2 L691.7,437.7 L690.0,440.1 L688.2,442.6\n",
       "\t\tL686.2,445.0 L684.0,447.4 L681.6,449.7 L679.0,452.1 L676.3,454.4 L673.4,456.7 L670.3,458.9 L667.0,461.1\n",
       "\t\tL663.5,463.3 L659.9,465.5 L656.1,467.6 L652.2,469.6 L648.0,471.7 L643.7,473.7 L639.3,475.6 L634.7,477.5\n",
       "\t\tL629.9,479.3 L625.0,481.2 L619.9,482.9 L614.7,484.6 L609.4,486.3 L603.9,487.9 L598.3,489.4 L592.5,490.9\n",
       "\t\tL586.6,492.4 L580.6,493.8 L574.5,495.1 L568.3,496.4 L562.0,497.6 L555.5,498.8 L549.0,499.9 L542.4,500.9\n",
       "\t\tL535.7,501.9 L528.9,502.8 L522.0,503.7 L515.1,504.5 L508.1,505.3 L501.0,506.0 L493.9,506.6 L486.7,507.2\n",
       "\t\tL479.5,507.7 L472.2,508.1 L464.9,508.6 L457.6,508.9 L450.2,509.2 L442.9,509.4 L435.5,509.6 L428.1,509.7\n",
       "\t\tL420.7,509.8 L413.3,509.8 L405.9,509.8 L398.5,509.7 L391.1,509.5 L383.8,509.3 L376.4,509.1 L369.1,508.8\n",
       "\t\tL361.8,508.5 L354.6,508.1 L347.4,507.7 L340.3,507.3 L333.1,506.8 L326.1,506.2 L319.1,505.7 L312.2,505.1\n",
       "\t\tL305.3,504.4 L298.5,503.8 L291.7,503.1 L285.1,502.4 L278.5,501.6 L271.9,500.8 L265.5,500.0 L259.1,499.2\n",
       "\t\tL252.8,498.4 L246.6,497.6 L240.5,496.7 L234.5,495.8 L228.6,494.9 L222.7,494.0 L217.0,493.1 L211.3,492.2\n",
       "\t\tL205.7,491.3 L200.2,490.4 L194.8,489.5 L189.5,488.6 L184.3,487.7 L179.2,486.8 L174.1,485.9 L169.2,485.0\n",
       "\t\tL164.3,484.1 L159.5,483.2 L154.8,482.4 L150.2,481.6 L145.7,480.8 L141.2,480.0 L136.8,479.2 L132.5,478.5\n",
       "\t\tL128.3,477.7 L124.2,477.1 L120.1,476.4 L116.1,475.7 L112.1,475.1 L108.2,474.6 L104.3,474.0 L100.6,473.5\n",
       "\t\tL96.8,473.0 L93.1,472.6 L89.5,472.2 L85.8,471.8 L82.3,471.4 L78.7,471.1 L75.2,470.9 L71.7,470.6\n",
       "\t\tL68.2,470.5 L64.8,470.3 L61.3,470.2 L57.9,470.1 L54.4,470.1 L53.9,470.1  '/></g>\n",
       "\t</g>\n",
       "<g fill=\"none\" color=\"#FFFFFF\" stroke=\"rgb(  0,   0, 255)\" stroke-width=\"2.00\" stroke-linecap=\"butt\" stroke-linejoin=\"miter\">\n",
       "</g>\n",
       "<g fill=\"none\" color=\"black\" stroke=\"currentColor\" stroke-width=\"2.00\" stroke-linecap=\"butt\" stroke-linejoin=\"miter\">\n",
       "</g>\n",
       "<g fill=\"none\" color=\"black\" stroke=\"black\" stroke-width=\"1.00\" stroke-linecap=\"butt\" stroke-linejoin=\"miter\">\n",
       "</g>\n",
       "<g fill=\"none\" color=\"black\" stroke=\"currentColor\" stroke-width=\"1.00\" stroke-linecap=\"butt\" stroke-linejoin=\"miter\">\n",
       "\t<path stroke='black'  d='M53.9,16.7 L53.9,564.0 L775.0,564.0 L775.0,16.7 L53.9,16.7 Z  '/></g>\n",
       "<g fill=\"none\" color=\"black\" stroke=\"currentColor\" stroke-width=\"1.00\" stroke-linecap=\"butt\" stroke-linejoin=\"miter\">\n",
       "</g>\n",
       "</g>\n",
       "</svg>\n",
       "\n"
      ]
     },
     "metadata": {},
     "output_type": "display_data"
    }
   ],
   "source": [
    "int refCase = 0;\n",
    "Plot(refX[refCase], refZ[refCase], \"Ref-Case\", \". black\",\n",
    "    caseX[refCase], caseZ[refCase], \"Case\", \". blue\")"
   ]
  },
  {
   "cell_type": "markdown",
   "metadata": {},
   "source": [
    "### Matching of the Spherical Harmonics against the provided Data"
   ]
  },
  {
   "cell_type": "code",
   "execution_count": null,
   "metadata": {
    "dotnet_interactive": {
     "language": "csharp"
    }
   },
   "outputs": [],
   "source": [
    "Dictionary<string, Formula> casesPhi = new Dictionary<string, Formula>();"
   ]
  },
  {
   "cell_type": "code",
   "execution_count": null,
   "metadata": {
    "dotnet_interactive": {
     "language": "csharp"
    }
   },
   "outputs": [],
   "source": [
    "var Phi_m2eta04_Init = new Formula(\n",
    "\"Phi1\",\n",
    "false,\n",
    "\"using ilPSP.Utils; \" + \n",
    "\"double Phi1(double[] X) { \" + \n",
    "\"    (double theta, double phi) = SphericalHarmonics.GetAngular(X); \" + \n",
    "\"    double R =    0.966781*SphericalHarmonics.MyRealSpherical(0, 0, theta, phi) \" + \n",
    "\"                +      0.4*SphericalHarmonics.MyRealSpherical(2, 0, theta, phi); \" + \n",
    "\"    return X.L2Norm() - R; \" + \n",
    "\"}\");\n",
    "casesPhi.Add(\"m2_Oh01_eta04\", Phi_m2eta04_Init);"
   ]
  },
  {
   "cell_type": "code",
   "execution_count": null,
   "metadata": {
    "dotnet_interactive": {
     "language": "csharp"
    }
   },
   "outputs": [],
   "source": [
    "var Phi_m2eta02_Init = new Formula(\n",
    "\"Phi4\",\n",
    "false,\n",
    "\"using ilPSP.Utils; \" + \n",
    "\"double Phi4(double[] X) { \" + \n",
    "\"    (double theta, double phi) = SphericalHarmonics.GetAngular(X); \" + \n",
    "\"    double R =    0.991848*SphericalHarmonics.MyRealSpherical(0, 0, theta, phi) \" + \n",
    "\"                +      0.2*SphericalHarmonics.MyRealSpherical(2, 0, theta, phi); \" + \n",
    "\"    return X.L2Norm() - R; \" + \n",
    "\"} \");\n",
    "casesPhi.Add(\"m2_Oh01_eta02\", Phi_m2eta02_Init);"
   ]
  },
  {
   "cell_type": "code",
   "execution_count": null,
   "metadata": {
    "dotnet_interactive": {
     "language": "csharp"
    }
   },
   "outputs": [],
   "source": [
    "var Phi_m2eta01_Init = new Formula(\n",
    "\"Phi4\",\n",
    "false,\n",
    "\"using ilPSP.Utils; \" + \n",
    "\"double Phi4(double[] X) { \" + \n",
    "\"    (double theta, double phi) = SphericalHarmonics.GetAngular(X); \" + \n",
    "\"    double R =    0.997981*SphericalHarmonics.MyRealSpherical(0, 0, theta, phi) \" + \n",
    "\"                +      0.1*SphericalHarmonics.MyRealSpherical(2, 0, theta, phi); \" + \n",
    "\"    return X.L2Norm() - R; \" + \n",
    "\"} \");\n",
    "casesPhi.Add(\"m2_Oh01_eta01\", Phi_m2eta01_Init);"
   ]
  },
  {
   "cell_type": "code",
   "execution_count": null,
   "metadata": {
    "dotnet_interactive": {
     "language": "csharp"
    }
   },
   "outputs": [],
   "source": [
    "var Phi_m3eta04_Init = new Formula(\n",
    "\"Phi2\",\n",
    "false,\n",
    "\"using ilPSP.Utils; \" + \n",
    "\"double Phi2(double[] X) { \" + \n",
    "\"    (double theta, double phi) = SphericalHarmonics.GetAngular(X); \" + \n",
    "\"    double R =    0.977143*SphericalHarmonics.MyRealSpherical(0, 0, theta, phi) \" + \n",
    "\"                +      0.4*SphericalHarmonics.MyRealSpherical(3, 0, theta, phi); \" + \n",
    "\"    return X.L2Norm() - R; \" + \n",
    "\"} \");\n",
    "casesPhi.Add(\"m3_Oh01_eta04\", Phi_m3eta04_Init);"
   ]
  },
  {
   "cell_type": "code",
   "execution_count": null,
   "metadata": {
    "dotnet_interactive": {
     "language": "csharp"
    }
   },
   "outputs": [],
   "source": [
    "var Phi_m3eta04new_Init = new Formula(\n",
    "\"Phi2\",\n",
    "false,\n",
    "\"using ilPSP.Utils; \" + \n",
    "\"double Phi2(double[] X) { \" + \n",
    "\"    (double theta, double phi) = SphericalHarmonics.GetAngular(X); \" + \n",
    "\"    double R =    0.971158 *SphericalHarmonics.MyRealSpherical(0, 0, theta, phi) \" + \n",
    "\"                +      0.4*SphericalHarmonics.MyRealSpherical(3, 0, theta, phi); \" + \n",
    "\"    return X.L2Norm() - R; \" + \n",
    "\"} \");\n",
    "casesPhi.Add(\"m3_Oh01_eta04_new\", Phi_m3eta04new_Init);"
   ]
  },
  {
   "cell_type": "code",
   "execution_count": null,
   "metadata": {
    "dotnet_interactive": {
     "language": "csharp"
    }
   },
   "outputs": [],
   "source": [
    "var Phi_m3eta015_Init = new Formula(\n",
    "\"Phi2\",\n",
    "false,\n",
    "\"using ilPSP.Utils; \" + \n",
    "\"double Phi2(double[] X) { \" + \n",
    "\"    (double theta, double phi) = SphericalHarmonics.GetAngular(X); \" + \n",
    "\"    double R =    0.99647*SphericalHarmonics.MyRealSpherical(0, 0, theta, phi) \" + \n",
    "\"                +      0.15*SphericalHarmonics.MyRealSpherical(3, 0, theta, phi); \" + \n",
    "\"    return X.L2Norm() - R; \" + \n",
    "\"} \");\n",
    "casesPhi.Add(\"m3_Oh01_eta015\", Phi_m3eta015_Init);"
   ]
  },
  {
   "cell_type": "code",
   "execution_count": null,
   "metadata": {
    "dotnet_interactive": {
     "language": "csharp"
    }
   },
   "outputs": [],
   "source": [
    "var Phi_m4eta04_Init = new Formula(\n",
    "\"Phi3\",\n",
    "false,\n",
    "\"using ilPSP.Utils; \" + \n",
    "\"double Phi3(double[] X) { \" +    \n",
    "\"    (double theta, double phi) = SphericalHarmonics.GetAngular(X); \" + \n",
    "\"    double R =    0.981839*SphericalHarmonics.MyRealSpherical(0, 0, theta, phi) \" + \n",
    "\"                +      0.4*SphericalHarmonics.MyRealSpherical(4, 0, theta, phi); \" + \n",
    "\"    return X.L2Norm() - R; \" + \n",
    "\"} \");\n",
    "casesPhi.Add(\"m4_Oh01_eta04\", Phi_m4eta04_Init);"
   ]
  },
  {
   "cell_type": "code",
   "execution_count": null,
   "metadata": {
    "dotnet_interactive": {
     "language": "csharp"
    }
   },
   "outputs": [],
   "source": [
    "var Phi_m4eta01_Init = new Formula(\n",
    "\"Phi3\",\n",
    "false,\n",
    "\"using ilPSP.Utils; \" + \n",
    "\"double Phi3(double[] X) { \" +    \n",
    "\"    (double theta, double phi) = SphericalHarmonics.GetAngular(X); \" + \n",
    "\"    double R =    0.998883*SphericalHarmonics.MyRealSpherical(0, 0, theta, phi) \" + \n",
    "\"                +      0.1*SphericalHarmonics.MyRealSpherical(4, 0, theta, phi); \" + \n",
    "\"    return X.L2Norm() - R; \" + \n",
    "\"} \");\n",
    "casesPhi.Add(\"m4_Oh01_eta01\", Phi_m4eta01_Init);"
   ]
  },
  {
   "cell_type": "code",
   "execution_count": null,
   "metadata": {
    "dotnet_interactive": {
     "language": "csharp"
    }
   },
   "outputs": [],
   "source": [
    "var Phi_m4eta005_Init = new Formula(\n",
    "\"Phi5\",\n",
    "false,\n",
    "\"using ilPSP.Utils; \" + \n",
    "\"double Phi5(double[] X) { \" + \n",
    "\"    (double theta, double phi) = SphericalHarmonics.GetAngular(X); \" + \n",
    "\"    double R =    0.999721*SphericalHarmonics.MyRealSpherical(0, 0, theta, phi) \" + \n",
    "\"                +      0.05*SphericalHarmonics.MyRealSpherical(4, 0, theta, phi); \" + \n",
    "\"    return X.L2Norm() - R; \" + \n",
    "\"} \");\n",
    "casesPhi.Add(\"m4_Oh056_eta005\", Phi_m4eta005_Init);"
   ]
  },
  {
   "cell_type": "code",
   "execution_count": null,
   "metadata": {
    "dotnet_interactive": {
     "language": "csharp"
    }
   },
   "outputs": [],
   "source": [
    "// IBoundaryAndInitialData[] Phi_iCase = new IBoundaryAndInitialData[]  { Phi1Init, Phi2Init, Phi3Init, Phi4Init, Phi5Init};"
   ]
  },
  {
   "cell_type": "code",
   "execution_count": null,
   "metadata": {
    "dotnet_interactive": {
     "language": "csharp"
    }
   },
   "outputs": [
    {
     "name": "stdout",
     "output_type": "stream",
     "text": [
      "Phi error for case 0: 2.2648549702353193E-14\r\n",
      "Phi error for case 1: 1.432187701766452E-14\r\n"
     ]
    }
   ],
   "source": [
    "for(int iCase = 0; iCase < numCases; iCase++) {\n",
    "    double[] angle = ReferenceData[iCase].GetColumn(0);\n",
    "    //double[] xI = refX[iCase];   \n",
    "    //double[] zI = refZ[iCase];\n",
    "    int I = angle.Length;\n",
    "    \n",
    "    double PhiErr = 0;\n",
    "    for(int i = 0; i < I; i++) {\n",
    "        double radius_expr = casesRadius[cases[iCase]](angle[i]);    \n",
    "        double x1 = Math.Sin(angle[i])*radius_expr;\n",
    "        double z1 = Math.Cos(angle[i])*radius_expr;\n",
    "    \n",
    "        PhiErr += casesPhi[cases[iCase]].Evaluate(new Vector(x1, 0, z1), 0.0).Abs();\n",
    "    }\n",
    "    Console.WriteLine($\"Phi error for case {iCase}: {PhiErr}\");\n",
    "    Assert.LessOrEqual(PhiErr, 1e-10, \"Level-Set function is not zero at desired surface.\");\n",
    "    \n",
    "    Assert.IsTrue(casesPhi[cases[iCase]].Evaluate(new Vector(1e-5, 1e-5, 1e-5), 0.0) < 0, \"Inside must be phase A/negative\");\n",
    "    Assert.IsTrue(casesPhi[cases[iCase]].Evaluate(new Vector(1e+1, 1e+1, 1e+1), 0.0) > 0, \"Outside must be phase B/positive\");\n",
    "}"
   ]
  },
  {
   "cell_type": "markdown",
   "metadata": {},
   "source": [
    "### Initial Velocities"
   ]
  },
  {
   "cell_type": "code",
   "execution_count": null,
   "metadata": {
    "dotnet_interactive": {
     "language": "csharp"
    }
   },
   "outputs": [],
   "source": [
    "//var anaVel = new IBoundaryAndInitialData[numCases,3];\n",
    "Dictionary<string, (IBoundaryAndInitialData velX, IBoundaryAndInitialData velY, IBoundaryAndInitialData velZ)> analyticVel = new Dictionary<string, (IBoundaryAndInitialData velX, IBoundaryAndInitialData velY, IBoundaryAndInitialData velZ)>();\n",
    "\n",
    "for(int iCase = 0; iCase < numCases; iCase++) {\n",
    "    MultidimensionalArray polVel;\n",
    "    MultidimensionalArray radVel;\n",
    "    if (!NunitTest) {\n",
    "        polVel = IMatrixExtensions.LoadFromTextFile($\"data/InitialValues/{cases[iCase].Substring(0,2)}/polarVel_{cases[iCase]}.txt\");\n",
    "        radVel = IMatrixExtensions.LoadFromTextFile($\"data/InitialValues/{cases[iCase].Substring(0,2)}/radialVel_{cases[iCase]}.txt\");\n",
    "    } else {\n",
    "        polVel = IMatrixExtensions.LoadFromTextFile($\"polarVel_{cases[iCase]}.txt\");\n",
    "        radVel = IMatrixExtensions.LoadFromTextFile($\"radialVel_{cases[iCase]}.txt\");\n",
    "    }\n",
    "    Assert.IsTrue(ilPSP.Utils.ArrayTools.ListEquals(polVel.GetColumn(0), radVel.GetColumn(0)));\n",
    "    Assert.IsTrue(ilPSP.Utils.ArrayTools.ListEquals(polVel.GetColumn(1), radVel.GetColumn(1)));\n",
    "    \n",
    "    double[] radiusS = polVel.GetColumn(0);\n",
    "    double[] anglesS = polVel.GetColumn(1);\n",
    "    double[] polVelS = polVel.GetColumn(2);\n",
    "    double[] radVelS = radVel.GetColumn(2);\n",
    "    \n",
    "    var velX = new BoSSS.Application.XNSE_Solver.SpecificSolutions.PolarAxiallySymmetricInitialValues() { VelocityComponent = 0 };\n",
    "    velX.SetData(anglesS, radiusS, polVelS, radVelS);\n",
    "    var velY = new BoSSS.Application.XNSE_Solver.SpecificSolutions.PolarAxiallySymmetricInitialValues() { VelocityComponent = 1 };\n",
    "    velY.SetData(anglesS, radiusS, polVelS, radVelS);\n",
    "    var velZ = new BoSSS.Application.XNSE_Solver.SpecificSolutions.PolarAxiallySymmetricInitialValues() { VelocityComponent = 2 };\n",
    "    velZ.SetData(anglesS, radiusS, polVelS, radVelS);\n",
    "    \n",
    "    // anaVel[iCase, 0] = velX;\n",
    "    // anaVel[iCase, 1] = velY;\n",
    "    // anaVel[iCase, 2] = velZ;\n",
    "    analyticVel.Add(cases[iCase], (velX, velY, velZ));\n",
    "}"
   ]
  },
  {
   "cell_type": "code",
   "execution_count": null,
   "metadata": {
    "dotnet_interactive": {
     "language": "csharp"
    }
   },
   "outputs": [],
   "source": [
    "// var anaVel = new IBoundaryAndInitialData[3,3];\n",
    "\n",
    "// MultidimensionalArray polVel;\n",
    "// MultidimensionalArray radVel;\n",
    "// if (!NunitTest) {\n",
    "//     polVel = IMatrixExtensions.LoadFromTextFile($\"data/InitialValues/polarVelCase1.txt\");\n",
    "//     radVel = IMatrixExtensions.LoadFromTextFile($\"data/InitialValues/radialVelCase1.txt\");\n",
    "// } else {\n",
    "//     polVel = IMatrixExtensions.LoadFromTextFile($\"polarVelCase1.txt\");\n",
    "//     radVel = IMatrixExtensions.LoadFromTextFile($\"radialVelCase1.txt\");\n",
    "// }\n",
    "// Assert.IsTrue(ilPSP.Utils.ArrayTools.ListEquals(polVel.GetColumn(0), radVel.GetColumn(0)));\n",
    "// Assert.IsTrue(ilPSP.Utils.ArrayTools.ListEquals(polVel.GetColumn(1), radVel.GetColumn(1)));\n",
    "\n",
    "// double[] radiusS = polVel.GetColumn(0);\n",
    "// double[] anglesS = polVel.GetColumn(1);\n",
    "// double[] polVelS = polVel.GetColumn(2);\n",
    "// double[] radVelS = radVel.GetColumn(2);\n",
    "\n",
    "// polVelS.ScaleV(-1.0);\n",
    "// var velX = new BoSSS.Application.XNSE_Solver.SpecificSolutions.PolarAxiallySymmetricInitialValues() { VelocityComponent = 0 };\n",
    "// velX.SetData(anglesS, radiusS, polVelS, radVelS);\n",
    "// var velY = new BoSSS.Application.XNSE_Solver.SpecificSolutions.PolarAxiallySymmetricInitialValues() { VelocityComponent = 1 };\n",
    "// velY.SetData(anglesS, radiusS, polVelS, radVelS);\n",
    "// var velZ = new BoSSS.Application.XNSE_Solver.SpecificSolutions.PolarAxiallySymmetricInitialValues() { VelocityComponent = 2 };\n",
    "// velZ.SetData(anglesS, radiusS, polVelS, radVelS);\n",
    "\n",
    "// anaVel[0, 0] = velX;\n",
    "// anaVel[0, 1] = velY;\n",
    "// anaVel[0, 2] = velZ;\n",
    "// polVelS = polVel.GetColumn(2);\n",
    "\n",
    "// radVelS.ScaleV(-1.0);\n",
    "// velX = new BoSSS.Application.XNSE_Solver.SpecificSolutions.PolarAxiallySymmetricInitialValues() { VelocityComponent = 0 };\n",
    "// velX.SetData(anglesS, radiusS, polVelS, radVelS);\n",
    "// velY = new BoSSS.Application.XNSE_Solver.SpecificSolutions.PolarAxiallySymmetricInitialValues() { VelocityComponent = 1 };\n",
    "// velY.SetData(anglesS, radiusS, polVelS, radVelS);\n",
    "// velZ = new BoSSS.Application.XNSE_Solver.SpecificSolutions.PolarAxiallySymmetricInitialValues() { VelocityComponent = 2 };\n",
    "// velZ.SetData(anglesS, radiusS, polVelS, radVelS);\n",
    "\n",
    "// anaVel[1, 0] = velX;\n",
    "// anaVel[1, 1] = velY;\n",
    "// anaVel[1, 2] = velZ;\n",
    "\n",
    "// polVelS.ScaleV(-1.0);\n",
    "// velX = new BoSSS.Application.XNSE_Solver.SpecificSolutions.PolarAxiallySymmetricInitialValues() { VelocityComponent = 0 };\n",
    "// velX.SetData(anglesS, radiusS, polVelS, radVelS);\n",
    "// velY = new BoSSS.Application.XNSE_Solver.SpecificSolutions.PolarAxiallySymmetricInitialValues() { VelocityComponent = 1 };\n",
    "// velY.SetData(anglesS, radiusS, polVelS, radVelS);\n",
    "// velZ = new BoSSS.Application.XNSE_Solver.SpecificSolutions.PolarAxiallySymmetricInitialValues() { VelocityComponent = 2 };\n",
    "// velZ.SetData(anglesS, radiusS, polVelS, radVelS);\n",
    "\n",
    "// anaVel[2, 0] = velX;\n",
    "// anaVel[2, 1] = velY;\n",
    "// anaVel[2, 2] = velZ;\n"
   ]
  },
  {
   "cell_type": "markdown",
   "metadata": {},
   "source": [
    "## Grid Creation"
   ]
  },
  {
   "cell_type": "code",
   "execution_count": null,
   "metadata": {
    "dotnet_interactive": {
     "language": "csharp"
    }
   },
   "outputs": [],
   "source": [
    "//foreach(var g in BoSSSshell.WorkflowMgm.Grids)\n",
    "//   g.Delete(true);"
   ]
  },
  {
   "cell_type": "markdown",
   "metadata": {},
   "source": [
    "### Quater-Domain grids\n",
    "(Symmetry planes at $x = 0$ and $y = 0$)"
   ]
  },
  {
   "cell_type": "code",
   "execution_count": null,
   "metadata": {
    "dotnet_interactive": {
     "language": "csharp"
    }
   },
   "outputs": [],
   "source": [
    "Dictionary<string, IGridInfo[]> gridTypes = new Dictionary<string, IGridInfo[]>();"
   ]
  },
  {
   "cell_type": "code",
   "execution_count": null,
   "metadata": {
    "dotnet_interactive": {
     "language": "csharp"
    }
   },
   "outputs": [],
   "source": [
    "int[] Resolutions = new int[] { 7 };\n",
    "IGridInfo[] Grids = new IGridInfo[Resolutions.Length];\n",
    "double scale = 1.0;\n",
    "for(int i = 0; i < Resolutions.Length; i++) {\n",
    "    int Res = Resolutions[i];\n",
    "    string GridName = $\"OscillatingDroplet3D_{Res}x{Res}x{2*Res}_wallBC_quarterDomain\";\n",
    "\n",
    "    IGridInfo cachedGrid = wmg.Grids.FirstOrDefault(grid => grid.Name == GridName);\n",
    "    //cachedGrid = null;\n",
    "    if(cachedGrid == null) {\n",
    "        \n",
    "        // must create new Grid\n",
    "        double[] xNodes = GenericBlas.Linspace(0, 3*scale, Res + 1);\n",
    "        double[] yNodes = xNodes;\n",
    "        double[] zNodes = GenericBlas.Linspace(-3*scale, 3*scale, Res*2 + 1);\n",
    "        \n",
    "        var grd = Grid3D.Cartesian3DGrid(xNodes, yNodes, zNodes);\n",
    "        grd.Name = GridName;\n",
    "        \n",
    "        grd.DefineEdgeTags(delegate(Vector X) {\n",
    "            string ret = null;\n",
    "            if(X.x.Abs() <= 1e-8 || X.y.Abs() <= 1.0e-8)\n",
    "                ret = IncompressibleBcType.SlipSymmetry.ToString();\n",
    "            else\n",
    "                ret = IncompressibleBcType.Wall.ToString();\n",
    "            return ret;\n",
    "        });        \n",
    "        \n",
    "        Grids[i] = wmg.SaveGrid(grd);\n",
    "        \n",
    "    } else {\n",
    "        //Console.WriteLine($\"type: {cachedGrid.GetType()}, is IGridInfo? {cachedGrid is IGridInfo}\");\n",
    "        Console.WriteLine(\"Grid already found in database - identifid by name \" + GridName);\n",
    "        Grids[i] = cachedGrid;\n",
    "    }\n",
    "    \n",
    "}\n",
    "gridTypes.Add(\"wallBC\", Grids);"
   ]
  },
  {
   "cell_type": "code",
   "execution_count": null,
   "metadata": {
    "dotnet_interactive": {
     "language": "csharp"
    }
   },
   "outputs": [],
   "source": [
    "// Resolutions = new int[] { 6 };\n",
    "// Grids = new IGridInfo[Resolutions.Length];\n",
    "// scale = 1.0;\n",
    "// for(int i = 0; i < Resolutions.Length; i++) {\n",
    "//     int Res = Resolutions[i];\n",
    "//     string GridName = $\"OscillatingDroplet3D_{Res}x{Res}x{2*Res}_pressureOutletBC_quarterDomain\";\n",
    "\n",
    "//     IGridInfo cachedGrid = wmg.Grids.FirstOrDefault(grid => grid.Name == GridName);\n",
    "//     //cachedGrid = null;\n",
    "//     if(cachedGrid == null) {\n",
    "        \n",
    "//         // must create new Grid\n",
    "//         double[] xNodes = GenericBlas.Linspace(0, 3*scale, Res + 1);\n",
    "//         double[] yNodes = xNodes;\n",
    "//         double[] zNodes = GenericBlas.Linspace(-3*scale, 3*scale, Res*2 + 1);\n",
    "        \n",
    "//         var grd = Grid3D.Cartesian3DGrid(xNodes, yNodes, zNodes);\n",
    "//         grd.Name = GridName;\n",
    "        \n",
    "//         grd.DefineEdgeTags(delegate(Vector X) {\n",
    "//             string ret = null;\n",
    "//             if(X.x.Abs() <= 1e-8 || X.y.Abs() <= 1.0e-8)\n",
    "//                 ret = IncompressibleBcType.SlipSymmetry.ToString();\n",
    "//             else\n",
    "//                 ret = IncompressibleBcType.Pressure_Outlet.ToString();\n",
    "//             return ret;\n",
    "//         });        \n",
    "        \n",
    "//         Grids[i] = wmg.SaveGrid(grd);\n",
    "        \n",
    "//     } else {\n",
    "//         //Console.WriteLine($\"type: {cachedGrid.GetType()}, is IGridInfo? {cachedGrid is IGridInfo}\");\n",
    "//         Console.WriteLine(\"Grid already found in database - identifid by name \" + GridName);\n",
    "//         Grids[i] = cachedGrid;\n",
    "//     }\n",
    "    \n",
    "// }\n",
    "// gridTypes.Add(\"pressureOutletBC\", Grids);"
   ]
  },
  {
   "cell_type": "code",
   "execution_count": null,
   "metadata": {
    "dotnet_interactive": {
     "language": "csharp"
    }
   },
   "outputs": [],
   "source": [
    "// Resolutions = new int[] { 8 };\n",
    "// Grids = new IGridInfo[Resolutions.Length];\n",
    "// scale = 1.0;\n",
    "// for(int i = 0; i < Resolutions.Length; i++) {\n",
    "//     int Res = Resolutions[i];\n",
    "//     string GridName = $\"OscillatingDroplet3D_{Res}x{Res}x{2*Res}_pressureOutletBC_quarterDomain\";\n",
    "\n",
    "//     IGridInfo cachedGrid = wmg.Grids.FirstOrDefault(grid => grid.Name == GridName);\n",
    "//     //cachedGrid = null;\n",
    "//     if(cachedGrid == null) {\n",
    "        \n",
    "//         // must create new Grid\n",
    "//         double[] xNodes = GenericBlas.Linspace(0, 2*scale, Res + 1);\n",
    "//         double[] yNodes = xNodes;\n",
    "//         double[] zNodes = GenericBlas.Linspace(-2*scale, 2*scale, Res*2 + 1);\n",
    "        \n",
    "//         var grd = Grid3D.Cartesian3DGrid(xNodes, yNodes, zNodes);\n",
    "//         grd.Name = GridName;\n",
    "        \n",
    "//         grd.DefineEdgeTags(delegate(Vector X) {\n",
    "//             string ret = null;\n",
    "//             if(X.x.Abs() <= 1e-8 || X.y.Abs() <= 1.0e-8)\n",
    "//                 ret = IncompressibleBcType.SlipSymmetry.ToString();\n",
    "//             else\n",
    "//                 ret = IncompressibleBcType.Pressure_Outlet.ToString();\n",
    "//             return ret;\n",
    "//         });        \n",
    "        \n",
    "//         Grids[i] = wmg.SaveGrid(grd);\n",
    "        \n",
    "//     } else {\n",
    "//         //Console.WriteLine($\"type: {cachedGrid.GetType()}, is IGridInfo? {cachedGrid is IGridInfo}\");\n",
    "//         Console.WriteLine(\"Grid already found in database - identifid by name \" + GridName);\n",
    "//         Grids[i] = cachedGrid;\n",
    "//     }\n",
    "    \n",
    "// }\n",
    "// gridTypes.Add(\"refinedTest\", Grids);"
   ]
  },
  {
   "cell_type": "code",
   "execution_count": null,
   "metadata": {
    "dotnet_interactive": {
     "language": "csharp"
    }
   },
   "outputs": [
    {
     "data": {
      "text/html": [
       "<table><thead><tr><th><i>key</i></th><th>value</th></tr></thead><tbody><tr><td>wallBC</td><td>[ { Guid = e4e959a9-dee2-4af2-acf1-f54a4f7f4c3e; Name = OscillatingDroplet3D_7x7x14_wallBC_quarterDomain; Cell Count = 686; Dim = 3 } ]</td></tr></tbody></table>"
      ]
     },
     "metadata": {},
     "output_type": "display_data"
    }
   ],
   "source": [
    "gridTypes"
   ]
  },
  {
   "cell_type": "code",
   "execution_count": null,
   "metadata": {
    "dotnet_interactive": {
     "language": "csharp"
    }
   },
   "outputs": [],
   "source": [
    "//var g = (wmg.Grids[0] as GridProxy).RealGrid;"
   ]
  },
  {
   "cell_type": "code",
   "execution_count": null,
   "metadata": {
    "dotnet_interactive": {
     "language": "csharp"
    }
   },
   "outputs": [],
   "source": [
    "//(g.iGridData as GridData).GlobalBoundingBox"
   ]
  },
  {
   "cell_type": "code",
   "execution_count": null,
   "metadata": {
    "dotnet_interactive": {
     "language": "csharp"
    }
   },
   "outputs": [],
   "source": [
    "//wmg.Sessions[0].Delete(true);"
   ]
  },
  {
   "cell_type": "markdown",
   "metadata": {
    "dotnet_interactive": {
     "language": "csharp"
    }
   },
   "source": [
    "## Setup of control objects for all solver runs"
   ]
  },
  {
   "cell_type": "code",
   "execution_count": null,
   "metadata": {
    "dotnet_interactive": {
     "language": "csharp"
    }
   },
   "outputs": [
    {
     "data": {
      "text/html": [
       "<table><thead><tr><th><i>index</i></th><th>value</th></tr></thead><tbody><tr><td>0</td><td>m4_Oh056_eta005</td></tr></tbody></table>"
      ]
     },
     "metadata": {},
     "output_type": "display_data"
    }
   ],
   "source": [
    "cases"
   ]
  },
  {
   "cell_type": "code",
   "execution_count": null,
   "metadata": {
    "dotnet_interactive": {
     "language": "csharp"
    }
   },
   "outputs": [],
   "source": [
    "Dictionary<string, (double Ohnesorge, int AMRlevel, double dt, int timesteps)> casesSetUp = new Dictionary<string, (double Ohnesorge, int AMRlevel, double dt, int timesteps)>();"
   ]
  },
  {
   "cell_type": "code",
   "execution_count": null,
   "metadata": {
    "dotnet_interactive": {
     "language": "csharp"
    }
   },
   "outputs": [],
   "source": [
    "// casesSetUp.Add(\"m2_Oh01_eta04\", (0.1, 1, 5e-3, 1400));\n",
    "// casesSetUp.Add(\"m2_Oh01_eta02\", (0.1, 1, 5e-3, 1400));\n",
    "// casesSetUp.Add(\"m2_Oh01_eta01\", (0.1, 1, 5e-3, 1400));\n",
    "// casesSetUp.Add(\"m3_Oh01_eta04\", (0.1, 1, 5e-3, 1400));\n",
    "// casesSetUp.Add(\"m3_Oh01_eta015\", (0.1, 1, 5e-3, 1400));\n",
    "// casesSetUp.Add(\"m4_Oh01_eta04\", (0.1, 1, 5e-3, 1400));\n",
    "// casesSetUp.Add(\"m4_Oh01_eta01\", (0.1, 1, 5e-3, 1400));\n",
    "casesSetUp.Add(\"m4_Oh056_eta005\", (0.56, 1, 5e-3, 800));"
   ]
  },
  {
   "cell_type": "code",
   "execution_count": null,
   "metadata": {
    "dotnet_interactive": {
     "language": "csharp"
    }
   },
   "outputs": [],
   "source": [
    "string[] gridTypeKeys = new string[] { \"wallBC\" }; ///{ \"wallBC\", \"pressureOutletBC\", \"refinedTest\" };"
   ]
  },
  {
   "cell_type": "code",
   "execution_count": null,
   "metadata": {
    "dotnet_interactive": {
     "language": "csharp"
    }
   },
   "outputs": [
    {
     "ename": "Error",
     "evalue": "System.Collections.Generic.KeyNotFoundException: The given key 'm3_Oh01_eta04_new' was not present in the dictionary.\r\n   at System.Collections.Generic.Dictionary`2.get_Item(TKey key)\r\n   at Submission#111.<<Initialize>>d__0.MoveNext()\r\n--- End of stack trace from previous location ---\r\n   at Microsoft.CodeAnalysis.Scripting.ScriptExecutionState.RunSubmissionsAsync[TResult](ImmutableArray`1 precedingExecutors, Func`2 currentExecutor, StrongBox`1 exceptionHolderOpt, Func`2 catchExceptionOpt, CancellationToken cancellationToken)",
     "output_type": "error",
     "traceback": [
      "System.Collections.Generic.KeyNotFoundException: The given key 'm3_Oh01_eta04_new' was not present in the dictionary.\r\n",
      "   at System.Collections.Generic.Dictionary`2.get_Item(TKey key)\r\n",
      "   at Submission#111.<<Initialize>>d__0.MoveNext()\r\n",
      "--- End of stack trace from previous location ---\r\n",
      "   at Microsoft.CodeAnalysis.Scripting.ScriptExecutionState.RunSubmissionsAsync[TResult](ImmutableArray`1 precedingExecutors, Func`2 currentExecutor, StrongBox`1 exceptionHolderOpt, Func`2 catchExceptionOpt, CancellationToken cancellationToken)"
     ]
    }
   ],
   "source": [
    "List<XNSE_Control> Controls = new List<XNSE_Control>();\n",
    "Controls.Clear();\n",
    "int[] DegreeS = new int[] { 3 };\n",
    "bool[] useInitial = new bool[] { true, false };\n",
    "bool[] useNewton = new bool[] { false };\n",
    "\n",
    "// string grdKey = gridTypeKeys[1];\n",
    "// Grids = gridTypes[grdKey];\n",
    "\n",
    "foreach(bool bInitial in useInitial) {\n",
    "foreach(bool bNewton in useNewton) {\n",
    "foreach(int k in DegreeS) {\n",
    "foreach(string grdKey in gridTypeKeys) {\n",
    "foreach(var grd in gridTypes[grdKey]) {\n",
    "int iCase = 0;\n",
    "foreach(var myCase in cases) {\n",
    "    long J = grd.NumberOfCells;\n",
    "    int AMRlvl = casesSetUp[myCase].AMRlevel;\n",
    "    string JobName = $\"OD3D_J{J}k{k}_{grdKey}_amr{AMRlvl}_{myCase}\";\n",
    "    if(bInitial) {\n",
    "        JobName = JobName + \"_thirdOrderInit\";\n",
    "    }\n",
    "    if(bNewton) {\n",
    "        JobName = JobName + \"_Newton\";\n",
    "    }\n",
    "    Console.WriteLine($\"Case {iCase+1}: \" + JobName);\n",
    "    iCase++;\n",
    "\n",
    "    var C = new XNSE_Control();\n",
    "    \n",
    "    C.SetGrid(grd);\n",
    "    C.SetDGdegree(k);\n",
    "    C.SessionName = JobName;\n",
    "    \n",
    "    C.InitialValues.Add(\"Phi\", casesPhi[myCase]);\n",
    "    \n",
    "    C.PhysicalParameters.IncludeConvection = true;\n",
    "    C.PhysicalParameters.rho_A = 1;\n",
    "    C.PhysicalParameters.rho_B = 0.001;\n",
    "    C.PhysicalParameters.mu_A = casesSetUp[myCase].Ohnesorge;\n",
    "    C.PhysicalParameters.mu_B = casesSetUp[myCase].Ohnesorge/1000;\n",
    "    C.PhysicalParameters.reynolds_B = 0.0;\n",
    "    C.PhysicalParameters.reynolds_A = 0.0;\n",
    "    C.PhysicalParameters.Sigma = 1;\n",
    "    C.PhysicalParameters.pFree = 0.0;\n",
    "    C.PhysicalParameters.mu_I = 0.0;\n",
    "    C.PhysicalParameters.lambda_I = 0.0;\n",
    "    C.PhysicalParameters.lambdaI_tilde = -1.0;\n",
    "    C.PhysicalParameters.betaS_A = 0.0;\n",
    "    C.PhysicalParameters.betaS_B = 0.0;\n",
    "    C.PhysicalParameters.betaL = 0.0;\n",
    "    C.PhysicalParameters.theta_e = 1.5707963267948966;\n",
    "    C.PhysicalParameters.sliplength = 0.0;\n",
    "    C.PhysicalParameters.Material = true;\n",
    "    C.PhysicalParameters.useArtificialSurfaceForce = false;\n",
    "    \n",
    "    C.Option_LevelSetEvolution = BoSSS.Solution.LevelSetTools.LevelSetEvolution.StokesExtension;\n",
    "    C.AdvancedDiscretizationOptions.SST_isotropicMode = SurfaceStressTensor_IsotropicMode.LaplaceBeltrami_ContactLine;\n",
    "    C.LSContiProjectionMethod = ContinuityProjectionOption.ConstrainedDG;\n",
    "    \n",
    "    C.TimeSteppingScheme = TimeSteppingScheme.BDF3;\n",
    "    if(bNewton) {\n",
    "        C.NonLinearSolver.SolverCode = NonLinearSolverCode.Newton;\n",
    "    } else {\n",
    "        C.NonLinearSolver.SolverCode = NonLinearSolverCode.Picard;\n",
    "        C.NonLinearSolver.ConvergenceCriterion = 1e-9;\n",
    "    }\n",
    "    \n",
    "    C.NonLinearSolver.MaxSolverIterations = 50;\n",
    "    C.NonLinearSolver.MinSolverIterations = 3;\n",
    "    C.Timestepper_BDFinit = TimeStepperInit.SingleInit;\n",
    "    C.Timestepper_LevelSetHandling = LevelSetHandling.Coupled_Once;\n",
    "    C.TimesteppingMode = AppControl._TimesteppingMode.Transient;\n",
    "    C.dtFixed = casesSetUp[myCase].dt;\n",
    "    C.NoOfTimesteps = casesSetUp[myCase].timesteps;\n",
    "    \n",
    "    if(AMRlvl > 0) {\n",
    "        C.AdaptiveMeshRefinement = true;\n",
    "        C.activeAMRlevelIndicators.Add(\n",
    "            new AMRonNarrowband() { maxRefinementLevel = AMRlvl }\n",
    "        );\n",
    "    }\n",
    "    \n",
    "    if(bInitial) {\n",
    "        C.AddInitialValue(\"VelocityX#A\", analyticVel[myCase].velX);\n",
    "        //C.AddInitialValue(\"VelocityX#B\", anaVel[myCase.Case - 1, 0]);\n",
    "        C.AddInitialValue(\"VelocityY#A\", analyticVel[myCase].velY);\n",
    "        //C.AddInitialValue(\"VelocityY#B\", anaVel[myCase.Case - 1, 1]);\n",
    "        C.AddInitialValue(\"VelocityZ#A\", analyticVel[myCase].velZ);\n",
    "        //C.AddInitialValue(\"VelocityZ#B\", anaVel[myCase.Case - 1, 2]);\n",
    "    }\n",
    "    \n",
    "    C.PostprocessingModules.Add(new SphericalHarmonicsLogging() { MaxL = 8, RotSymmetric = true });\n",
    "    C.PostprocessingModules.Add(new DropletMetricsLogging() { AxisSymmetric = true });\n",
    "    C.PostprocessingModules.Add(new EnergyLogging());\n",
    "    \n",
    "    C.TracingNamespaces = \"*\";\n",
    "    \n",
    "    Controls.Add(C);\n",
    "    \n",
    "}\n",
    "}\n",
    "}\n",
    "}\n",
    "}\n",
    "}"
   ]
  },
  {
   "cell_type": "code",
   "execution_count": null,
   "metadata": {
    "dotnet_interactive": {
     "language": "csharp"
    }
   },
   "outputs": [],
   "source": [
    "int NC = Controls.Count;\n",
    "for(int i = 0; i < NC; i++) {\n",
    "    for(int j = 0; j < NC; j++) {\n",
    "        if(i == j)\n",
    "            Assert.IsTrue(Controls[i].Equals(Controls[j]), \"Control is not self-equal for \" + i);\n",
    "        else\n",
    "            Assert.IsFalse(Controls[i].Equals(Controls[j]), \"Different Control are wrongly equal for \" + i + \" and \" + j);\n",
    "    }\n",
    "}"
   ]
  },
  {
   "cell_type": "markdown",
   "metadata": {
    "dotnet_interactive": {
     "language": "csharp"
    }
   },
   "source": [
    "## Launch Jobs"
   ]
  },
  {
   "cell_type": "code",
   "execution_count": null,
   "metadata": {
    "dotnet_interactive": {
     "language": "csharp"
    }
   },
   "outputs": [
    {
     "data": {
      "text/html": [
       "<i>(empty)</i>"
      ]
     },
     "metadata": {},
     "output_type": "display_data"
    }
   ],
   "source": [
    "Controls.Select(C => C.SessionName)"
   ]
  },
  {
   "cell_type": "code",
   "execution_count": null,
   "metadata": {
    "dotnet_interactive": {
     "language": "csharp"
    }
   },
   "outputs": [],
   "source": [
    "// foreach(var ctrl in Controls) {\n",
    "//     var oneJob              = ctrl.CreateJob();\n",
    "//     oneJob.NumberOfMPIProcs = 1;\n",
    "//     oneJob.Activate(myBatch); \n",
    "// }"
   ]
  },
  {
   "cell_type": "code",
   "execution_count": null,
   "metadata": {
    "dotnet_interactive": {
     "language": "csharp"
    }
   },
   "outputs": [],
   "source": [
    "//wmg.AllJobs"
   ]
  },
  {
   "cell_type": "code",
   "execution_count": null,
   "metadata": {
    "dotnet_interactive": {
     "language": "csharp"
    }
   },
   "outputs": [],
   "source": [
    "// wait for all jobs to finish (up to 5 days, check every 30 minutes)\n",
    "//BoSSSshell.WorkflowMgm.BlockUntilAllJobsTerminate(TimeOutSeconds:(3600), PollingIntervallSeconds:(60*30));"
   ]
  },
  {
   "cell_type": "code",
   "execution_count": null,
   "metadata": {
    "dotnet_interactive": {
     "language": "csharp"
    }
   },
   "outputs": [],
   "source": [
    "// detect failed Jobs in the job management\n",
    "/*\n",
    "var suspects = BoSSSshell.WorkflowMgm.AllJobs.Select(kv => kv.Value)\n",
    "    .Where(job => job.LatestSession.Tags.Contains(SessionInfo.NOT_TERMINATED_TAG)\n",
    "                  || job.LatestSession.Tags.Contains(SessionInfo.SOLVER_ERROR)).ToArray();\n",
    "suspects\n",
    "*/"
   ]
  },
  {
   "cell_type": "code",
   "execution_count": null,
   "metadata": {
    "dotnet_interactive": {
     "language": "csharp"
    }
   },
   "outputs": [],
   "source": [
    "//suspects.Count()"
   ]
  },
  {
   "cell_type": "code",
   "execution_count": null,
   "metadata": {
    "dotnet_interactive": {
     "language": "csharp"
    }
   },
   "outputs": [],
   "source": [
    "//NUnit.Framework.Assert.IsTrue(suspects.Count() <= 0, $\"{suspects.Count()} Failed Jobs of {BoSSSshell.WorkflowMgm.AllJobs.Count()} in total.\");"
   ]
  },
  {
   "cell_type": "markdown",
   "metadata": {},
   "source": [
    "### Inspect the output of some arbitrary job:"
   ]
  },
  {
   "cell_type": "code",
   "execution_count": null,
   "metadata": {
    "dotnet_interactive": {
     "language": "csharp"
    }
   },
   "outputs": [],
   "source": [
    "//BoSSSshell.WorkflowMgm.AllJobs.First().Value.ShowOutput();"
   ]
  },
  {
   "cell_type": "code",
   "execution_count": null,
   "metadata": {
    "dotnet_interactive": {
     "language": "csharp"
    }
   },
   "outputs": [],
   "source": [
    "//wmg.Sessions[0].Export().WithSupersampling(2).Do()"
   ]
  },
  {
   "cell_type": "code",
   "execution_count": null,
   "metadata": {
    "dotnet_interactive": {
     "language": "csharp"
    }
   },
   "outputs": [],
   "source": []
  }
 ],
 "metadata": {
  "kernelspec": {
   "display_name": ".NET (C#)",
   "language": "C#",
   "name": ".net-csharp"
  },
  "language_info": {
   "file_extension": ".cs",
   "mimetype": "text/x-csharp",
   "name": "C#",
   "pygments_lexer": "csharp",
   "version": "9.0"
  }
 },
 "nbformat": 4,
 "nbformat_minor": 4
}
