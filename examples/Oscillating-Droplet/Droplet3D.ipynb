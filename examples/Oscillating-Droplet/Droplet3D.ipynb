{
 "cells": [
  {
   "cell_type": "markdown",
   "source": [
<<<<<<< HEAD
    "# 3D Droplet Oscillation\n",
    "\n",
    "Results published: hopefully at some point!\n",
    "\n",
    "It is part of the BoSSS-long-term validation test suite, which consists of \n",
    "several computationally expensive test-cases (runtime in the order of days),\n",
    "which are performed on a regular basis in order to validate the \n",
    "physical correctness of BoSSS simulations.\n"
   ]
=======
    "# 3D Droplet Oscillation\r\n",
    "\r\n",
    "Results published: hopefully at some point!\r\n"
   ],
   "metadata": {}
>>>>>>> origin/NET5
  },
  {
   "cell_type": "markdown",
   "source": [
<<<<<<< HEAD
    "### Preliminaries\n",
    "\n",
    "This example can be found in the source code repository as as `Droplet3D.ipynb`. \n",
    "One can directly load this into Jupyter to interactively work with the following code examples.\n",
    "\n",
    "Note: First, BoSSS has to be loaded into the Jupyter kernel. Note:\n",
    "In the following line, the reference to `BoSSSpad.dll` is required. \n",
    "One must either set `#r \"BoSSSpad.dll\"` to something which is appropirate for the current computer\n",
    "(e.g. `C:\\Program Files (x86)\\FDY\\BoSSS\\bin\\Release\\net5.0\\BoSSSpad.dll` if working with the binary distribution), \n",
    "or, if one is working with the source code, one must compile `BoSSSpad`\n",
    "and put it side-by-side to this worksheet file \n",
    "(from the original location in the repository, one can use the scripts `getbossspad.sh`, resp. `getbossspad.bat`).\n"
   ]
=======
    "### Preliminaries\r\n",
    "\r\n",
    "This example can be found in the source code repository as as `Droplet3D.ipynb`. \r\n",
    "One can directly load this into Jupyter to interactively work with the following code examples.\r\n",
    "\r\n",
    "Note: First, BoSSS has to be loaded into the Jupyter kernel. Note:\r\n",
    "In the following line, the reference to `BoSSSpad.dll` is required. \r\n",
    "One must either set `#r \"BoSSSpad.dll\"` to something which is appropirate for the current computer\r\n",
    "(e.g. `C:\\Program Files (x86)\\FDY\\BoSSS\\bin\\Release\\net5.0\\BoSSSpad.dll` if working with the binary distribution), \r\n",
    "or, if one is working with the source code, one must compile `BoSSSpad`\r\n",
    "and put it side-by-side to this worksheet file \r\n",
    "(from the original location in the repository, one can use the scripts `getbossspad.sh`, resp. `getbossspad.bat`).\r\n"
   ],
   "metadata": {}
>>>>>>> origin/NET5
  },
  {
   "cell_type": "code",
   "execution_count": null,
<<<<<<< HEAD
=======
   "source": [
    "//#r \"../../src/L4-application/BoSSSpad/bin/Release/net5.0/BoSSSpad.dll\"\r\n",
    "//#r \"../../src/L4-application/BoSSSpad/bin/Debug/net5.0/BoSSSpad.dll\"\r\n",
    "#r \"BoSSSpad.dll\"\r\n",
    "using System;\r\n",
    "using System.Collections.Generic;\r\n",
    "using System.Linq;\r\n",
    "using ilPSP;\r\n",
    "using ilPSP.Utils;\r\n",
    "using BoSSS.Platform;\r\n",
    "using BoSSS.Foundation;\r\n",
    "using BoSSS.Foundation.XDG;\r\n",
    "using BoSSS.Foundation.Grid;\r\n",
    "using BoSSS.Foundation.Grid.Classic;\r\n",
    "using BoSSS.Foundation.IO;\r\n",
    "using BoSSS.Solution;\r\n",
    "using BoSSS.Solution.Control;\r\n",
    "using BoSSS.Solution.GridImport;\r\n",
    "using BoSSS.Solution.Statistic;\r\n",
    "using BoSSS.Solution.Utils;\r\n",
    "using BoSSS.Solution.AdvancedSolvers;\r\n",
    "using BoSSS.Solution.Gnuplot;\r\n",
    "using BoSSS.Application.BoSSSpad;\r\n",
    "using BoSSS.Application.XNSE_Solver;\r\n",
    "using static BoSSS.Application.BoSSSpad.BoSSSshell;\r\n",
    "Init();"
   ],
   "outputs": [],
>>>>>>> origin/NET5
   "metadata": {
    "dotnet_interactive": {
     "language": "csharp"
    }
   }
  },
  {
   "cell_type": "markdown",
   "source": [
    "## Initialization tasks"
   ],
   "metadata": {}
  },
  {
   "cell_type": "markdown",
   "source": [
    "Loading the `XNSE_Solver` and additional namespace:"
   ],
   "metadata": {}
  },
  {
   "cell_type": "code",
   "execution_count": null,
   "source": [
    "using BoSSS.Application.XNSE_Solver;\r\n",
    "using BoSSS.Application.XNSE_Solver.PhysicalBasedTestcases;\r\n",
    "using BoSSS.Solution.NSECommon;\r\n",
    "using BoSSS.Solution.LevelSetTools.SolverWithLevelSetUpdater;\r\n",
    "using NUnit.Framework;\r\n",
    "using BoSSS.Application.XNSE_Solver.Logging;"
   ],
   "outputs": [],
   "metadata": {
    "dotnet_interactive": {
     "language": "csharp"
    }
   }
  },
  {
   "cell_type": "markdown",
   "source": [
    "Initialization of the Workflow management; there `OscillatingDroplet3D` is the project name which is used name all computations (aka. sessions):"
   ],
   "metadata": {}
  },
  {
   "cell_type": "code",
   "execution_count": null,
   "source": [
    "BoSSSshell.WorkflowMgm.Init(\"OscillatingDroplet3D\");"
   ],
   "outputs": [],
   "metadata": {
    "dotnet_interactive": {
     "language": "csharp"
    }
   }
  },
  {
   "cell_type": "markdown",
   "source": [
    "Overview on the available *Execution Queues* (aka. *Batch Processors*, aka. *Batch System*); these e.g. Linux HPC clusters on which compute jobs can be executed."
   ],
   "metadata": {}
  },
  {
   "cell_type": "code",
   "execution_count": null,
   "source": [
    "ExecutionQueues"
   ],
   "outputs": [],
   "metadata": {
    "dotnet_interactive": {
     "language": "csharp"
    }
   }
  },
  {
   "cell_type": "markdown",
   "source": [
    "For this example (which is part of the BoSSS validation tests), a *default queue* is selected to run all jobs in the convergence study:"
   ],
   "metadata": {}
  },
  {
   "cell_type": "code",
   "execution_count": null,
   "source": [
    "var myBatch = GetDefaultQueue();\r\n",
    "myBatch"
   ],
   "outputs": [],
   "metadata": {
    "dotnet_interactive": {
     "language": "csharp"
    }
   }
  },
  {
   "cell_type": "code",
   "execution_count": null,
   "source": [
    "wmg.Sessions"
   ],
   "outputs": [],
   "metadata": {
    "dotnet_interactive": {
     "language": "csharp"
    }
   }
  },
  {
   "cell_type": "markdown",
   "source": [
    "## Grid Creation"
   ],
   "metadata": {}
  },
  {
   "cell_type": "code",
   "execution_count": null,
   "source": [
    "BoSSSshell.WorkflowMgm.Grids"
   ],
   "outputs": [],
   "metadata": {
    "dotnet_interactive": {
     "language": "csharp"
    }
   }
  },
  {
   "cell_type": "markdown",
   "source": [
    "### Quater-Domain grids\n",
    "(Symmetry planes at $x = 0$ and $y = 0$)"
   ],
   "metadata": {}
  },
  {
   "cell_type": "code",
   "execution_count": null,
   "source": [
    "int[] Resolutions = new int[] { 6, 12 };\r\n",
    "IGridInfo[] Grids = new IGridInfo[Resolutions.Length];\r\n",
    "for(int i = 0; i < Resolutions.Length; i++) {\r\n",
    "    int Res = Resolutions[i];\r\n",
    "    string GridName = $\"OscillatingDroplet3D_{Res}x{Res}x{2*Res}_quarterDomain\";\r\n",
    "\r\n",
    "    IGridInfo cachedGrid = wmg.Grids.FirstOrDefault(grid => grid.Name == GridName);\r\n",
    "    //cachedGrid = null;\r\n",
    "    if(cachedGrid == null) {\r\n",
    "        \r\n",
    "        // must create new Grid\r\n",
    "        double[] xNodes = GenericBlas.Linspace(0, 0.003, Res + 1);\r\n",
    "        double[] yNodes = xNodes;\r\n",
    "        double[] zNodes = GenericBlas.Linspace(-0.003, 0.003, Res*2 + 1);\r\n",
    "        \r\n",
    "        var grd = Grid3D.Cartesian3DGrid(xNodes, yNodes, zNodes);\r\n",
    "        grd.Name = GridName;\r\n",
    "        \r\n",
    "        grd.DefineEdgeTags(delegate(Vector X) {\r\n",
    "            string ret = null;\r\n",
    "            if(X.x.Abs() <= 1e-8 || X.y.Abs() <= 1.0e-8)\r\n",
    "                ret = IncompressibleBcType.SlipSymmetry.ToString();\r\n",
    "            else\r\n",
    "                ret = IncompressibleBcType.Wall.ToString();\r\n",
    "            return ret;\r\n",
    "        });        \r\n",
    "        \r\n",
    "        Grids[i] = wmg.SaveGrid(grd);\r\n",
    "        \r\n",
    "    } else {\r\n",
    "        //Console.WriteLine($\"type: {cachedGrid.GetType()}, is IGridInfo? {cachedGrid is IGridInfo}\");\r\n",
    "        Console.WriteLine(\"Grid already found in database - identifid by name \" + GridName);\r\n",
    "        Grids[i] = cachedGrid;\r\n",
    "    }\r\n",
    "    \r\n",
    "}"
   ],
   "outputs": [],
   "metadata": {
    "dotnet_interactive": {
     "language": "csharp"
    }
   }
  },
  {
   "cell_type": "code",
   "execution_count": null,
   "source": [
    "wmg.Grids"
   ],
   "outputs": [],
   "metadata": {
    "dotnet_interactive": {
     "language": "csharp"
    }
   }
  },
  {
   "cell_type": "code",
   "execution_count": null,
   "source": [
    "//wmg.Sessions[0].Delete(true);"
   ],
   "outputs": [],
   "metadata": {
    "dotnet_interactive": {
     "language": "csharp"
    }
   }
  },
  {
   "cell_type": "markdown",
   "source": [
    "## Setup of control objects for a solver runs"
   ],
   "metadata": {
    "dotnet_interactive": {
     "language": "csharp"
    }
   }
  },
  {
   "cell_type": "code",
   "execution_count": null,
   "source": [
    "List<XNSE_Control> Controls = new List<XNSE_Control>();"
   ],
   "outputs": [],
   "metadata": {
    "dotnet_interactive": {
     "language": "csharp"
    }
   }
  },
  {
   "cell_type": "code",
   "execution_count": null,
   "source": [
    "Controls.Clear();\n",
    "int[] DegreeS = new int[] { 3 };\n",
    "int[] modeS = new int[] {2, 3, 4};\n",
    "int[] aP_indiceS = new int[] { 0, 1, 2 };\n",
    "bool[] useARM = new bool[] { false, true };\n",
    "\n",
    "foreach(bool bARM in useARM) {\n",
    "foreach(int k in DegreeS) {\n",
    "foreach(var grd in Grids.Take(1)) {\n",
    "foreach(int mode in modeS) {\n",
    "foreach(int aP_index in aP_indiceS) {\n",
    "    long J = grd.NumberOfCells;\n",
    "    string JobName = $\"J{J}k{k}_arm{(bARM ? 1 : 0)}_mode{mode}_aP{aP_index}\";\n",
    "    Console.WriteLine(\"Case: \" + JobName);\n",
    "    double r0 = 0.001;\n",
    "    var C = Droplet.OscillatingDroplet3D_LegendrePolynomials(r0, mode, aP_index);\n",
    "    C.SetGrid(grd);\n",
    "    C.SetDGdegree(3);\n",
    "    C.SessionName = JobName;\n",
    "    \n",
    "    C.PhysicalParameters.IncludeConvection = true;\n",
    "    C.PhysicalParameters.rho_A = 1260.0;\n",
    "    C.PhysicalParameters.rho_B = 1.26;\n",
    "    C.PhysicalParameters.mu_A = 0.0094;\n",
    "    C.PhysicalParameters.mu_B = 9.4E-06;\n",
    "    C.PhysicalParameters.reynolds_B = 0.0;\n",
    "    C.PhysicalParameters.reynolds_A = 0.0;\n",
    "    C.PhysicalParameters.Sigma = 0.007;\n",
    "    C.PhysicalParameters.pFree = 0.0;\n",
    "    C.PhysicalParameters.mu_I = 0.0;\n",
    "    C.PhysicalParameters.lambda_I = 0.0;\n",
    "    C.PhysicalParameters.lambdaI_tilde = -1.0;\n",
    "    C.PhysicalParameters.betaS_A = 0.0;\n",
    "    C.PhysicalParameters.betaS_B = 0.0;\n",
    "    C.PhysicalParameters.betaL = 0.0;\n",
    "    C.PhysicalParameters.theta_e = 1.5707963267948966;\n",
    "    C.PhysicalParameters.sliplength = 0.0;\n",
    "    C.PhysicalParameters.Material = true;\n",
    "    C.PhysicalParameters.useArtificialSurfaceForce = false;\n",
    "    \n",
    "    C.dtFixed = 5E-05;\n",
    "    C.NoOfTimesteps = 1000;\n",
    "    \n",
    "    if(bARM) {\n",
    "        C.activeAMRlevelIndicators.Add(\n",
    "            new AMRonNarrowband() { maxRefinementLevel = 1 }\n",
    "        );\n",
    "    }\n",
    "    \n",
    "    C.PostprocessingModules.Add(new SphericalHarmonicsLogging());\n",
    "    \n",
    "    Controls.Add(C);\n",
    "    \n",
    "}\n",
    "}\n",
    "}\n",
    "}\n",
    "}"
   ],
   "outputs": [],
   "metadata": {
    "dotnet_interactive": {
     "language": "csharp"
    }
   }
  },
  {
   "cell_type": "code",
   "execution_count": null,
   "source": [
    "int NC = Controls.Count;\n",
    "for(int i = 0; i < NC; i++) {\n",
    "    for(int j = 0; j < NC; j++) {\n",
    "        if(i == j)\n",
    "            Assert.IsTrue(Controls[i].Equals(Controls[j]), \"Control is not self-equal\");\n",
    "        else\n",
    "            Assert.IsFalse(Controls[i].Equals(Controls[j]), \"Different Control are wrongly equal\");\n",
    "    }\n",
    "}"
   ],
   "outputs": [],
   "metadata": {
    "dotnet_interactive": {
     "language": "csharp"
    }
   }
  },
  {
   "cell_type": "markdown",
   "source": [
    "## Launch Jobs"
   ],
   "metadata": {
    "dotnet_interactive": {
     "language": "csharp"
    }
   }
  },
  {
   "cell_type": "code",
   "execution_count": null,
   "source": [
    "Controls.Count"
   ],
   "outputs": [],
   "metadata": {
    "dotnet_interactive": {
     "language": "csharp"
    }
   }
  },
  {
   "cell_type": "code",
   "execution_count": null,
   "source": [
    "foreach(var ctrl in Controls) {\n",
    "    var oneJob              = ctrl.CreateJob();\n",
    "    oneJob.NumberOfMPIProcs = 1;\n",
    "    oneJob.Activate(myBatch); \n",
    "}"
   ],
   "outputs": [],
   "metadata": {
    "dotnet_interactive": {
     "language": "csharp"
    }
   }
  },
  {
   "cell_type": "code",
   "execution_count": null,
   "source": [
    "wmg.AllJobs"
   ],
   "outputs": [],
   "metadata": {
    "dotnet_interactive": {
     "language": "csharp"
    }
   }
  },
  {
   "cell_type": "code",
   "execution_count": null,
   "source": [
    "// wait for all jobs to finish (up to 5 days, check every 30 minutes)\n",
    "BoSSSshell.WorkflowMgm.BlockUntilAllJobsTerminate(TimeOutSeconds:(3600*24*5), PollingIntervallSeconds:(60*30));"
   ],
   "outputs": [],
   "metadata": {
    "dotnet_interactive": {
     "language": "csharp"
    }
   }
  },
  {
   "cell_type": "code",
   "execution_count": null,
   "source": [
    "// detect failed Jobs in the job management\n",
    "/*\n",
    "var suspects = BoSSSshell.WorkflowMgm.AllJobs.Select(kv => kv.Value)\n",
    "    .Where(job => job.LatestSession.Tags.Contains(SessionInfo.NOT_TERMINATED_TAG)\n",
    "                  || job.LatestSession.Tags.Contains(SessionInfo.SOLVER_ERROR)).ToArray();\n",
    "suspects\n",
    "*/"
   ],
   "outputs": [],
   "metadata": {
    "dotnet_interactive": {
     "language": "csharp"
    }
   }
  },
  {
   "cell_type": "code",
   "execution_count": null,
   "source": [
    "//suspects.Count()"
   ],
   "outputs": [],
   "metadata": {
    "dotnet_interactive": {
     "language": "csharp"
    }
   }
  },
  {
   "cell_type": "code",
   "execution_count": null,
   "source": [
    "//NUnit.Framework.Assert.IsTrue(suspects.Count() <= 0, $\"{suspects.Count()} Failed Jobs of {BoSSSshell.WorkflowMgm.AllJobs.Count()} in total.\");"
   ],
   "outputs": [],
   "metadata": {
    "dotnet_interactive": {
     "language": "csharp"
    }
   }
  },
  {
   "cell_type": "markdown",
   "source": [
    "### Inspect the output of some arbitrary job:"
   ],
   "metadata": {}
  },
  {
   "cell_type": "code",
   "execution_count": null,
   "source": [
    "//BoSSSshell.WorkflowMgm.AllJobs.First().Value.ShowOutput();"
   ],
   "outputs": [],
   "metadata": {
    "dotnet_interactive": {
     "language": "csharp"
    }
   }
  },
  {
   "cell_type": "code",
   "execution_count": null,
   "source": [
    "//wmg.Sessions[0].Export().WithSupersampling(2).Do()"
   ],
   "outputs": [],
   "metadata": {
    "dotnet_interactive": {
     "language": "csharp"
    }
   }
  },
  {
   "cell_type": "code",
   "execution_count": null,
   "source": [],
   "outputs": [],
   "metadata": {
    "dotnet_interactive": {
     "language": "csharp"
    }
   }
  }
 ],
 "metadata": {
  "kernelspec": {
   "display_name": ".NET (C#)",
   "language": "C#",
   "name": ".net-csharp"
  },
  "language_info": {
   "file_extension": ".cs",
   "mimetype": "text/x-csharp",
   "name": "C#",
   "pygments_lexer": "csharp",
   "version": "8.0"
  }
 },
 "nbformat": 4,
 "nbformat_minor": 4
}