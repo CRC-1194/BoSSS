{
 "cells": [
  {
   "cell_type": "markdown",
   "metadata": {},
   "source": [
    "# 3D Droplet Oscillation\n",
    "\n",
    "Results published: hopefully at some point!\n",
    "\n",
    "It is part of the BoSSS-long-term validation test suite, which consists of \n",
    "several computationally expensive test-cases (runtime in the order of days),\n",
    "which are performed on a regular basis in order to validate the \n",
    "physical correctness of BoSSS simulations.\n"
   ]
  },
  {
   "cell_type": "markdown",
   "metadata": {},
   "source": [
    "### Preliminaries\n",
    "\n",
    "This example can be found in the source code repository as as `Droplet3D.ipynb`. \n",
    "One can directly load this into Jupyter to interactively work with the following code examples.\n",
    "\n",
    "Note: First, BoSSS has to be loaded into the Jupyter kernel. Note:\n",
    "In the following line, the reference to `BoSSSpad.dll` is required. \n",
    "One must either set `#r \"BoSSSpad.dll\"` to something which is appropirate for the current computer\n",
    "(e.g. `C:\\Program Files (x86)\\FDY\\BoSSS\\bin\\Release\\net5.0\\BoSSSpad.dll` if working with the binary distribution), \n",
    "or, if one is working with the source code, one must compile `BoSSSpad`\n",
    "and put it side-by-side to this worksheet file \n",
    "(from the original location in the repository, one can use the scripts `getbossspad.sh`, resp. `getbossspad.bat`).\n"
   ]
  },
  {
   "cell_type": "code",
   "execution_count": null,
   "metadata": {
    "dotnet_interactive": {
     "language": "csharp"
    }
   },
   "outputs": [],
   "source": [
    "//#r \"../../src/L4-application/BoSSSpad/bin/Release/net5.0/BoSSSpad.dll\"\n",
    "//#r \"../../src/L4-application/BoSSSpad/bin/Debug/net5.0/BoSSSpad.dll\"\n",
    "#r \"BoSSSpad.dll\"\n",
    "using System;\n",
    "using System.Collections.Generic;\n",
    "using System.Linq;\n",
    "using ilPSP;\n",
    "using ilPSP.Utils;\n",
    "using BoSSS.Platform;\n",
    "using BoSSS.Foundation;\n",
    "using BoSSS.Foundation.XDG;\n",
    "using BoSSS.Foundation.Grid;\n",
    "using BoSSS.Foundation.Grid.Classic;\n",
    "using BoSSS.Foundation.IO;\n",
    "using BoSSS.Solution;\n",
    "using BoSSS.Solution.Control;\n",
    "using BoSSS.Solution.GridImport;\n",
    "using BoSSS.Solution.Statistic;\n",
    "using BoSSS.Solution.Utils;\n",
    "using BoSSS.Solution.AdvancedSolvers;\n",
    "using BoSSS.Solution.Gnuplot;\n",
    "using BoSSS.Application.BoSSSpad;\n",
    "using BoSSS.Application.XNSE_Solver;\n",
    "using static BoSSS.Application.BoSSSpad.BoSSSshell;\n",
    "Init();"
   ]
  },
  {
   "cell_type": "markdown",
   "metadata": {},
   "source": [
    "## Initialization tasks"
   ]
  },
  {
   "cell_type": "markdown",
   "metadata": {},
   "source": [
    "Loading the `XNSE_Solver` and additional namespace:"
   ]
  },
  {
   "cell_type": "code",
   "execution_count": null,
   "metadata": {
    "dotnet_interactive": {
     "language": "csharp"
    }
   },
   "outputs": [],
   "source": [
    "using BoSSS.Application.XNSE_Solver;\n",
    "using BoSSS.Application.XNSE_Solver.PhysicalBasedTestcases;\n",
    "using BoSSS.Solution.NSECommon;\n",
    "using BoSSS.Solution.XNSECommon;\n",
    "using BoSSS.Solution.LevelSetTools.SolverWithLevelSetUpdater;\n",
    "using NUnit.Framework;\n",
    "using BoSSS.Application.XNSE_Solver.Logging;\n",
    "using BoSSS.Solution.LevelSetTools;\n",
    "using BoSSS.Solution.XdgTimestepping;\n",
    "using BoSSS.Solution.Timestepping;"
   ]
  },
  {
   "cell_type": "markdown",
   "metadata": {},
   "source": [
    "Initialization of the Workflow management; there `OscillatingDroplet3D` is the project name which is used name all computations (aka. sessions):"
   ]
  },
  {
   "cell_type": "code",
   "execution_count": null,
   "metadata": {
    "dotnet_interactive": {
     "language": "csharp"
    }
   },
   "outputs": [],
   "source": [
    "BoSSSshell.WorkflowMgm.Init(\"OscillatingDroplet3D\");"
   ]
  },
  {
   "cell_type": "markdown",
   "metadata": {},
   "source": [
    "Overview on the available *Execution Queues* (aka. *Batch Processors*, aka. *Batch System*); these e.g. Linux HPC clusters on which compute jobs can be executed."
   ]
  },
  {
   "cell_type": "code",
   "execution_count": null,
   "metadata": {
    "dotnet_interactive": {
     "language": "csharp"
    }
   },
   "outputs": [
    {
     "data": {
      "text/html": [
       "<table><thead><tr><th><i>index</i></th><th><i>type</i></th><th>DeploymentBaseDirectory</th><th>DeployRuntime</th><th>Name</th><th>DotnetRuntime</th><th>BatchInstructionDir</th><th>AllowedDatabasesPaths</th><th>Username</th><th>ServerName</th><th>ComputeNodes</th><th>DefaultJobPriority</th><th>SingleNode</th></tr></thead><tbody><tr><td>0</td><td>BoSSS.Application.BoSSSpad.MiniBatchProcessorClient</td><td>D:\\local\\binaries</td><td>False</td><td>LocalPC</td><td>dotnet</td><td><div class=\"dni-plaintext\">&lt;null&gt;</div></td><td>[ D:\\local\\ ==  ]</td><td></td><td></td><td></td><td></td><td></td></tr><tr><td>1</td><td>BoSSS.Application.BoSSSpad.MsHPC2012Client</td><td>\\\\hpccluster\\hpccluster-scratch\\smuda\\binaries</td><td>False</td><td>FDY-WindowsHPC</td><td>dotnet</td><td></td><td>[ \\\\hpccluster\\hpccluster-scratch\\smuda\\ ==  ]</td><td>FDY\\smuda</td><td>DC2</td><td><div class=\"dni-plaintext\">&lt;null&gt;</div></td><td>Normal</td><td>True</td></tr></tbody></table>"
      ]
     },
     "metadata": {},
     "output_type": "display_data"
    }
   ],
   "source": [
    "ExecutionQueues"
   ]
  },
  {
   "cell_type": "markdown",
   "metadata": {},
   "source": [
    "For this example (which is part of the BoSSS validation tests), a *default queue* is selected to run all jobs in the convergence study:"
   ]
  },
  {
   "cell_type": "code",
   "execution_count": null,
   "metadata": {
    "dotnet_interactive": {
     "language": "csharp"
    }
   },
   "outputs": [
    {
     "data": {
      "text/html": [
       "<table><thead><tr><th>DeploymentBaseDirectory</th><th>DeployRuntime</th><th>Name</th><th>DotnetRuntime</th><th>BatchInstructionDir</th><th>AllowedDatabasesPaths</th></tr></thead><tbody><tr><td><div class=\"dni-plaintext\">D:\\local\\binaries</div></td><td><div class=\"dni-plaintext\">False</div></td><td><div class=\"dni-plaintext\">LocalPC</div></td><td><div class=\"dni-plaintext\">dotnet</div></td><td><div class=\"dni-plaintext\">&lt;null&gt;</div></td><td><div class=\"dni-plaintext\">[ D:\\local\\ ==  ]</div></td></tr></tbody></table>"
      ]
     },
     "metadata": {},
     "output_type": "display_data"
    }
   ],
   "source": [
    "//var myBatch = ExecutionQueues[0];\n",
    "var myBatch = GetDefaultQueue();\n",
    "myBatch"
   ]
  },
  {
   "cell_type": "markdown",
   "metadata": {},
   "source": [
    "A switch for running the worksheet locally (since we have a folder structure for the data, which is not copied on Jenkins for testing)"
   ]
  },
  {
   "cell_type": "code",
   "execution_count": null,
   "metadata": {
    "dotnet_interactive": {
     "language": "csharp"
    }
   },
   "outputs": [],
   "source": [
    "bool NunitTest = false;"
   ]
  },
  {
   "cell_type": "code",
   "execution_count": null,
   "metadata": {
    "dotnet_interactive": {
     "language": "csharp"
    }
   },
   "outputs": [],
   "source": [
    "//foreach(var s in wmg.Sessions)\n",
    "//    s.Delete(true);"
   ]
  },
  {
   "cell_type": "markdown",
   "metadata": {},
   "source": [
    "## Verification of Initial Value data"
   ]
  },
  {
   "cell_type": "markdown",
   "metadata": {},
   "source": [
    "Initial values and parameters for the simulation (intial droplet shape, Ohnesorg number, initial velocity)\n",
    "were specified by project partner (TU Graz, Group Prof. Brenn).\n",
    "Details can be found in Document `setup.pdf`, to be found in the same directory as this worksheet.\n",
    "\n",
    "First, it is verified that the initial values chosen here actually match the specification."
   ]
  },
  {
   "cell_type": "code",
   "execution_count": null,
   "metadata": {
    "dotnet_interactive": {
     "language": "csharp"
    }
   },
   "outputs": [
    {
     "data": {
      "text/html": [
       "<div class=\"dni-plaintext\">8</div>"
      ]
     },
     "metadata": {},
     "output_type": "display_data"
    }
   ],
   "source": [
    "//MultidimensionalArray[] ReferenceData = new MultidimensionalArray[5];\n",
    "int[] modes = new int[] { 2, 3, 4 };\n",
    "List<string> cases = new List<string>();\n",
    "int nCase = 0;\n",
    "// add simulations for mode 2\n",
    "if(modes.Contains(2)) {\n",
    "    cases.Add(\"m2_Oh01_eta04\");\n",
    "    Console.WriteLine($\"case {nCase+1}: {cases[nCase]}\");\n",
    "    nCase++;\n",
    "    cases.Add(\"m2_Oh01_eta02\");\n",
    "    Console.WriteLine($\"case {nCase+1}: {cases[nCase]}\");\n",
    "    nCase++;\n",
    "    cases.Add(\"m2_Oh01_eta01\");\n",
    "    Console.WriteLine($\"case {nCase+1}: {cases[nCase]}\");\n",
    "    nCase++;\n",
    "}\n",
    "// add simulations for mode 3\n",
    "if(modes.Contains(3)) {\n",
    "    cases.Add(\"m3_Oh01_eta04\");\n",
    "    Console.WriteLine($\"case {nCase+1}: {cases[nCase]}\");\n",
    "    nCase++;\n",
    "    cases.Add(\"m3_Oh01_eta015\");\n",
    "    Console.WriteLine($\"case {nCase+1}: {cases[nCase]}\");\n",
    "    nCase++;\n",
    "}\n",
    "// add simulations for mode 4\n",
    "if(modes.Contains(4)) {\n",
    "    cases.Add(\"m4_Oh01_eta04\");\n",
    "    Console.WriteLine($\"case {nCase+1}: {cases[nCase]}\");\n",
    "    nCase++;\n",
    "    cases.Add(\"m4_Oh01_eta01\");\n",
    "    Console.WriteLine($\"case {nCase+1}: {cases[nCase]}\");\n",
    "    nCase++;\n",
    "    cases.Add(\"m4_Oh056_eta005\");\n",
    "    Console.WriteLine($\"case {nCase+1}: {cases[nCase]}\");\n",
    "    nCase++;\n",
    "}\n",
    "int numCases = cases.Count;\n",
    "numCases"
   ]
  },
  {
   "cell_type": "markdown",
   "metadata": {},
   "source": [
    "Load reference data for all cases; These files contain two columns, i.e. the azimuth angle and the respective droplet radius."
   ]
  },
  {
   "cell_type": "code",
   "execution_count": null,
   "metadata": {
    "dotnet_interactive": {
     "language": "csharp"
    }
   },
   "outputs": [],
   "source": [
    "MultidimensionalArray[] ReferenceData = new MultidimensionalArray[numCases];\n",
    "for(int iCase = 0; iCase < numCases; iCase++) {\n",
    "    if(!NunitTest)  \n",
    "        ReferenceData[iCase] = IMatrixExtensions.LoadFromTextFile($\"data/InitialValues/{cases[iCase].Substring(0,2)}/surfaceDrop_{cases[iCase]}.txt\");\n",
    "    else\n",
    "        ReferenceData[iCase] = IMatrixExtensions.LoadFromTextFile($\"surfaceDrop_{cases[iCase]}.txt\");\n",
    "}"
   ]
  },
  {
   "cell_type": "markdown",
   "metadata": {},
   "source": [
    "Analytical expressions for the reference data (see `setup.pdf`); this is to verify that the definition of Legendre\n",
    "Functions resp. Polynomials in BoSSS actually matches the definition used by the TU Graz group."
   ]
  },
  {
   "cell_type": "code",
   "execution_count": null,
   "metadata": {
    "dotnet_interactive": {
     "language": "csharp"
    }
   },
   "outputs": [],
   "source": [
    "Dictionary<string, Func<double, double>> casesRadius = new Dictionary<string, Func<double, double>>();"
   ]
  },
  {
   "cell_type": "code",
   "execution_count": null,
   "metadata": {
    "dotnet_interactive": {
     "language": "csharp"
    }
   },
   "outputs": [],
   "source": [
    "double caseR_m2eta04(double angle) {\n",
    "   double radius = 0.966781 + 0.4*SphericalHarmonics.MyLegendre(2,0,Math.Cos(angle));\n",
    "   return radius; \n",
    "}\n",
    "casesRadius.Add(\"m2_Oh01_eta04\", caseR_m2eta04);"
   ]
  },
  {
   "cell_type": "code",
   "execution_count": null,
   "metadata": {
    "dotnet_interactive": {
     "language": "csharp"
    }
   },
   "outputs": [],
   "source": [
    "double caseR_m2eta02(double angle) {\n",
    "   double radius = 0.991848 + 0.2*SphericalHarmonics.MyLegendre(2,0,Math.Cos(angle));\n",
    "   return radius; \n",
    "}\n",
    "casesRadius.Add(\"m2_Oh01_eta02\", caseR_m2eta02);"
   ]
  },
  {
   "cell_type": "code",
   "execution_count": null,
   "metadata": {
    "dotnet_interactive": {
     "language": "csharp"
    }
   },
   "outputs": [],
   "source": [
    "double caseR_m2eta01(double angle) {\n",
    "   double radius = 0.997981 + 0.1*SphericalHarmonics.MyLegendre(2,0,Math.Cos(angle));\n",
    "   return radius; \n",
    "}\n",
    "casesRadius.Add(\"m2_Oh01_eta01\", caseR_m2eta01);"
   ]
  },
  {
   "cell_type": "code",
   "execution_count": null,
   "metadata": {
    "dotnet_interactive": {
     "language": "csharp"
    }
   },
   "outputs": [],
   "source": [
    "double caseR_m3eta04(double angle) {\n",
    "    double radius = 0.977143 + 0.4*SphericalHarmonics.MyLegendre(3,0,Math.Cos(angle));\n",
    "    return radius; \n",
    "}\n",
    "casesRadius.Add(\"m3_Oh01_eta04\", caseR_m3eta04);"
   ]
  },
  {
   "cell_type": "code",
   "execution_count": null,
   "metadata": {
    "dotnet_interactive": {
     "language": "csharp"
    }
   },
   "outputs": [],
   "source": [
    "double caseR_m3eta015(double angle) {\n",
    "    double radius = 0.996786 + 0.15*SphericalHarmonics.MyLegendre(3,0,Math.Cos(angle));\n",
    "    return radius; \n",
    "}\n",
    "casesRadius.Add(\"m3_Oh01_eta015\", caseR_m3eta015);"
   ]
  },
  {
   "cell_type": "code",
   "execution_count": null,
   "metadata": {
    "dotnet_interactive": {
     "language": "csharp"
    }
   },
   "outputs": [],
   "source": [
    "double caseR_m4eta04(double angle) {\n",
    "    double radius = 0.981839 + 0.4*SphericalHarmonics.MyLegendre(4,0,Math.Cos(angle));\n",
    "    return radius; \n",
    "}\n",
    "casesRadius.Add(\"m4_Oh01_eta04\", caseR_m4eta04);"
   ]
  },
  {
   "cell_type": "code",
   "execution_count": null,
   "metadata": {
    "dotnet_interactive": {
     "language": "csharp"
    }
   },
   "outputs": [],
   "source": [
    "double caseR_m4eta01(double angle) {\n",
    "    double radius = 0.998883 + 0.1*SphericalHarmonics.MyLegendre(4,0,Math.Cos(angle));\n",
    "    return radius; \n",
    "}\n",
    "casesRadius.Add(\"m4_Oh01_eta01\", caseR_m4eta01);"
   ]
  },
  {
   "cell_type": "code",
   "execution_count": null,
   "metadata": {
    "dotnet_interactive": {
     "language": "csharp"
    }
   },
   "outputs": [],
   "source": [
    "double caseR_m4eta005(double angle) {\n",
    "    double radius = 0.999721 + 0.05*SphericalHarmonics.MyLegendre(4,0,Math.Cos(angle));\n",
    "    return radius; \n",
    "}\n",
    "casesRadius.Add(\"m4_Oh056_eta005\", caseR_m4eta005);"
   ]
  },
  {
   "cell_type": "markdown",
   "metadata": {},
   "source": [
    "Conversion to cartesian coordinates in order to match the data and verification against analytical expression:"
   ]
  },
  {
   "cell_type": "code",
   "execution_count": null,
   "metadata": {
    "dotnet_interactive": {
     "language": "csharp"
    }
   },
   "outputs": [
    {
     "ename": "Error",
     "evalue": "NUnit.Framework.AssertionException:   Error in comparing reference data against Legendre polynomials in BoSSS\r\n  Expected: less than or equal to 1.0000000000000001E-05d\r\n  But was:  0.0039783556464071616d\r\n\r\n   at NUnit.Framework.Assert.ReportFailure(String message) in /_/src/NUnitFramework/framework/Assert.cs:line 395\r\n   at NUnit.Framework.Assert.ReportFailure(ConstraintResult result, String message, Object[] args) in /_/src/NUnitFramework/framework/Assert.cs:line 383\r\n   at NUnit.Framework.Assert.That[TActual](TActual actual, IResolveConstraint expression, String message, Object[] args) in /_/src/NUnitFramework/framework/Assert.That.cs:line 229\r\n   at NUnit.Framework.Assert.LessOrEqual(Double arg1, Double arg2, String message, Object[] args) in /_/src/NUnitFramework/framework/Assert.Comparisons.cs:line 943\r\n   at Submission#26.<<Initialize>>d__0.MoveNext()\r\n--- End of stack trace from previous location ---\r\n   at Microsoft.CodeAnalysis.Scripting.ScriptExecutionState.RunSubmissionsAsync[TResult](ImmutableArray`1 precedingExecutors, Func`2 currentExecutor, StrongBox`1 exceptionHolderOpt, Func`2 catchExceptionOpt, CancellationToken cancellationToken)",
     "output_type": "error",
     "traceback": [
      "NUnit.Framework.AssertionException:   Error in comparing reference data against Legendre polynomials in BoSSS\r\n",
      "  Expected: less than or equal to 1.0000000000000001E-05d\r\n",
      "  But was:  0.0039783556464071616d\r\n",
      "\r\n",
      "   at NUnit.Framework.Assert.ReportFailure(String message) in /_/src/NUnitFramework/framework/Assert.cs:line 395\r\n",
      "   at NUnit.Framework.Assert.ReportFailure(ConstraintResult result, String message, Object[] args) in /_/src/NUnitFramework/framework/Assert.cs:line 383\r\n",
      "   at NUnit.Framework.Assert.That[TActual](TActual actual, IResolveConstraint expression, String message, Object[] args) in /_/src/NUnitFramework/framework/Assert.That.cs:line 229\r\n",
      "   at NUnit.Framework.Assert.LessOrEqual(Double arg1, Double arg2, String message, Object[] args) in /_/src/NUnitFramework/framework/Assert.Comparisons.cs:line 943\r\n",
      "   at Submission#26.<<Initialize>>d__0.MoveNext()\r\n",
      "--- End of stack trace from previous location ---\r\n",
      "   at Microsoft.CodeAnalysis.Scripting.ScriptExecutionState.RunSubmissionsAsync[TResult](ImmutableArray`1 precedingExecutors, Func`2 currentExecutor, StrongBox`1 exceptionHolderOpt, Func`2 catchExceptionOpt, CancellationToken cancellationToken)"
     ]
    }
   ],
   "source": [
    "double[][] refX = new double[numCases][];\n",
    "double[][] refZ = new double[numCases][];\n",
    "double[][] caseX = new double[numCases][];\n",
    "double[][] caseZ = new double[numCases][];\n",
    "for(int iCase = 0; iCase < numCases; iCase++) {\n",
    "    double[] angle = ReferenceData[iCase].GetColumn(0);\n",
    "    double[] radius = ReferenceData[iCase].GetColumn(1);\n",
    "       \n",
    "    double RadiusErrorNorm = 0.0;\n",
    "    int I = angle.Length;\n",
    "    double[] x1 = new double[I], z1 = new double[I];\n",
    "    double[] cx1 = new double[I], cz1 = new double[I];\n",
    "    for(int i = 0; i < I; i++) {\n",
    "        x1[i] = Math.Sin(angle[i])*radius[i];\n",
    "        z1[i] = Math.Cos(angle[i])*radius[i];\n",
    "        \n",
    "        double radius_expr = casesRadius[cases[iCase]](angle[i]);\n",
    "        RadiusErrorNorm += (radius[i] - radius_expr).Pow2();     \n",
    "        \n",
    "        cx1[i] = Math.Sin(angle[i])*radius_expr;\n",
    "        cz1[i] = Math.Cos(angle[i])*radius_expr;\n",
    "    } \n",
    "    refX[iCase] = x1;\n",
    "    refZ[iCase] = z1;\n",
    "    caseX[iCase] = cx1;\n",
    "    caseZ[iCase] = cz1;\n",
    "\n",
    "    RadiusErrorNorm = RadiusErrorNorm.Sqrt();\n",
    "    Console.WriteLine($\"Comparison error for radius in case {iCase + 1}: {RadiusErrorNorm}\");\n",
    "    // Note: since the factors in `setup.pdf` are only provided up to 6 digits, an error threshold of 1e-5 seems reasonable.\n",
    "    Assert.LessOrEqual(RadiusErrorNorm, 1e-5, \"Error in comparing reference data against Legendre polynomials in BoSSS\");\n",
    "}"
   ]
  },
  {
   "cell_type": "markdown",
   "metadata": {},
   "source": [
    "### Plot of Reference Data"
   ]
  },
  {
   "cell_type": "code",
   "execution_count": null,
   "metadata": {
    "dotnet_interactive": {
     "language": "csharp"
    }
   },
   "outputs": [
    {
     "data": {
      "text/html": [
       "<?xml version=\"1.0\" encoding=\"utf-8\"  standalone=\"no\"?>\n",
       "<!DOCTYPE svg PUBLIC \"-//W3C//DTD SVG 1.1//EN\"\n",
       " \"http://www.w3.org/Graphics/SVG/1.1/DTD/svg11.dtd\">\n",
       "<svg \n",
       " width=\"800\" height=\"600\"\n",
       " viewBox=\"0 0 800 600\"\n",
       " xmlns=\"http://www.w3.org/2000/svg\"\n",
       " xmlns:xlink=\"http://www.w3.org/1999/xlink\"\n",
       ">\n",
       "\n",
       "<title>Gnuplot</title>\n",
       "<desc>Produced by GNUPLOT 5.1 patchlevel 0 </desc>\n",
       "\n",
       "<g id=\"gnuplot_canvas\">\n",
       "\n",
       "<rect x=\"0\" y=\"0\" width=\"800\" height=\"600\" fill=\"#ffffff\"/>\n",
       "<defs>\n",
       "\n",
       "\t<circle id='gpDot' r='0.5' stroke-width='0.5'/>\n",
       "\t<path id='gpPt0' stroke-width='0.222' stroke='currentColor' d='M-1,0 h2 M0,-1 v2'/>\n",
       "\t<path id='gpPt1' stroke-width='0.222' stroke='currentColor' d='M-1,-1 L1,1 M1,-1 L-1,1'/>\n",
       "\t<path id='gpPt2' stroke-width='0.222' stroke='currentColor' d='M-1,0 L1,0 M0,-1 L0,1 M-1,-1 L1,1 M-1,1 L1,-1'/>\n",
       "\t<rect id='gpPt3' stroke-width='0.222' stroke='currentColor' x='-1' y='-1' width='2' height='2'/>\n",
       "\t<rect id='gpPt4' stroke-width='0.222' stroke='currentColor' fill='currentColor' x='-1' y='-1' width='2' height='2'/>\n",
       "\t<circle id='gpPt5' stroke-width='0.222' stroke='currentColor' cx='0' cy='0' r='1'/>\n",
       "\t<use xlink:href='#gpPt5' id='gpPt6' fill='currentColor' stroke='none'/>\n",
       "\t<path id='gpPt7' stroke-width='0.222' stroke='currentColor' d='M0,-1.33 L-1.33,0.67 L1.33,0.67 z'/>\n",
       "\t<use xlink:href='#gpPt7' id='gpPt8' fill='currentColor' stroke='none'/>\n",
       "\t<use xlink:href='#gpPt7' id='gpPt9' stroke='currentColor' transform='rotate(180)'/>\n",
       "\t<use xlink:href='#gpPt9' id='gpPt10' fill='currentColor' stroke='none'/>\n",
       "\t<use xlink:href='#gpPt3' id='gpPt11' stroke='currentColor' transform='rotate(45)'/>\n",
       "\t<use xlink:href='#gpPt11' id='gpPt12' fill='currentColor' stroke='none'/>\n",
       "\t<path id='gpPt13' stroke-width='0.222' stroke='currentColor' d='M0,1.330 L1.265,0.411 L0.782,-1.067 L-0.782,-1.076 L-1.265,0.411 z'/>\n",
       "\t<use xlink:href='#gpPt13' id='gpPt14' fill='currentColor' stroke='none'/>\n",
       "\t<filter id='textbox' filterUnits='objectBoundingBox' x='0' y='0' height='1' width='1'>\n",
       "\t  <feFlood flood-color='#FFFFFF' flood-opacity='1' result='bgnd'/>\n",
       "\t  <feComposite in='SourceGraphic' in2='bgnd' operator='atop'/>\n",
       "\t</filter>\n",
       "\t<filter id='greybox' filterUnits='objectBoundingBox' x='0' y='0' height='1' width='1'>\n",
       "\t  <feFlood flood-color='lightgrey' flood-opacity='1' result='grey'/>\n",
       "\t  <feComposite in='SourceGraphic' in2='grey' operator='atop'/>\n",
       "\t</filter>\n",
       "</defs>\n",
       "<g fill=\"none\" color=\"#FFFFFF\" stroke=\"currentColor\" stroke-width=\"1.00\" stroke-linecap=\"butt\" stroke-linejoin=\"miter\">\n",
       "</g>\n",
       "<g fill=\"none\" color=\"black\" stroke=\"currentColor\" stroke-width=\"1.00\" stroke-linecap=\"butt\" stroke-linejoin=\"miter\">\n",
       "\t<path stroke='black'  d='M53.9,564.0 L62.9,564.0 M775.0,564.0 L766.0,564.0  '/>\t<g transform=\"translate(45.6,568.5)\" stroke=\"none\" fill=\"black\" font-family=\"Arial\" font-size=\"12.00\"  text-anchor=\"end\">\n",
       "\t\t<text><tspan font-family=\"Arial\" >-1</tspan></text>\n",
       "\t</g>\n",
       "</g>\n",
       "<g fill=\"none\" color=\"black\" stroke=\"currentColor\" stroke-width=\"1.00\" stroke-linecap=\"butt\" stroke-linejoin=\"miter\">\n",
       "\t<path stroke='black'  d='M53.9,514.2 L62.9,514.2 M775.0,514.2 L766.0,514.2  '/>\t<g transform=\"translate(45.6,518.7)\" stroke=\"none\" fill=\"black\" font-family=\"Arial\" font-size=\"12.00\"  text-anchor=\"end\">\n",
       "\t\t<text><tspan font-family=\"Arial\" >-0.8</tspan></text>\n",
       "\t</g>\n",
       "</g>\n",
       "<g fill=\"none\" color=\"black\" stroke=\"currentColor\" stroke-width=\"1.00\" stroke-linecap=\"butt\" stroke-linejoin=\"miter\">\n",
       "\t<path stroke='black'  d='M53.9,464.5 L62.9,464.5 M775.0,464.5 L766.0,464.5  '/>\t<g transform=\"translate(45.6,469.0)\" stroke=\"none\" fill=\"black\" font-family=\"Arial\" font-size=\"12.00\"  text-anchor=\"end\">\n",
       "\t\t<text><tspan font-family=\"Arial\" >-0.6</tspan></text>\n",
       "\t</g>\n",
       "</g>\n",
       "<g fill=\"none\" color=\"black\" stroke=\"currentColor\" stroke-width=\"1.00\" stroke-linecap=\"butt\" stroke-linejoin=\"miter\">\n",
       "\t<path stroke='black'  d='M53.9,414.7 L62.9,414.7 M775.0,414.7 L766.0,414.7  '/>\t<g transform=\"translate(45.6,419.2)\" stroke=\"none\" fill=\"black\" font-family=\"Arial\" font-size=\"12.00\"  text-anchor=\"end\">\n",
       "\t\t<text><tspan font-family=\"Arial\" >-0.4</tspan></text>\n",
       "\t</g>\n",
       "</g>\n",
       "<g fill=\"none\" color=\"black\" stroke=\"currentColor\" stroke-width=\"1.00\" stroke-linecap=\"butt\" stroke-linejoin=\"miter\">\n",
       "\t<path stroke='black'  d='M53.9,365.0 L62.9,365.0 M775.0,365.0 L766.0,365.0  '/>\t<g transform=\"translate(45.6,369.5)\" stroke=\"none\" fill=\"black\" font-family=\"Arial\" font-size=\"12.00\"  text-anchor=\"end\">\n",
       "\t\t<text><tspan font-family=\"Arial\" >-0.2</tspan></text>\n",
       "\t</g>\n",
       "</g>\n",
       "<g fill=\"none\" color=\"black\" stroke=\"currentColor\" stroke-width=\"1.00\" stroke-linecap=\"butt\" stroke-linejoin=\"miter\">\n",
       "\t<path stroke='black'  d='M53.9,315.2 L62.9,315.2 M775.0,315.2 L766.0,315.2  '/>\t<g transform=\"translate(45.6,319.7)\" stroke=\"none\" fill=\"black\" font-family=\"Arial\" font-size=\"12.00\"  text-anchor=\"end\">\n",
       "\t\t<text><tspan font-family=\"Arial\" > 0</tspan></text>\n",
       "\t</g>\n",
       "</g>\n",
       "<g fill=\"none\" color=\"black\" stroke=\"currentColor\" stroke-width=\"1.00\" stroke-linecap=\"butt\" stroke-linejoin=\"miter\">\n",
       "\t<path stroke='black'  d='M53.9,265.5 L62.9,265.5 M775.0,265.5 L766.0,265.5  '/>\t<g transform=\"translate(45.6,270.0)\" stroke=\"none\" fill=\"black\" font-family=\"Arial\" font-size=\"12.00\"  text-anchor=\"end\">\n",
       "\t\t<text><tspan font-family=\"Arial\" > 0.2</tspan></text>\n",
       "\t</g>\n",
       "</g>\n",
       "<g fill=\"none\" color=\"black\" stroke=\"currentColor\" stroke-width=\"1.00\" stroke-linecap=\"butt\" stroke-linejoin=\"miter\">\n",
       "\t<path stroke='black'  d='M53.9,215.7 L62.9,215.7 M775.0,215.7 L766.0,215.7  '/>\t<g transform=\"translate(45.6,220.2)\" stroke=\"none\" fill=\"black\" font-family=\"Arial\" font-size=\"12.00\"  text-anchor=\"end\">\n",
       "\t\t<text><tspan font-family=\"Arial\" > 0.4</tspan></text>\n",
       "\t</g>\n",
       "</g>\n",
       "<g fill=\"none\" color=\"black\" stroke=\"currentColor\" stroke-width=\"1.00\" stroke-linecap=\"butt\" stroke-linejoin=\"miter\">\n",
       "\t<path stroke='black'  d='M53.9,166.0 L62.9,166.0 M775.0,166.0 L766.0,166.0  '/>\t<g transform=\"translate(45.6,170.5)\" stroke=\"none\" fill=\"black\" font-family=\"Arial\" font-size=\"12.00\"  text-anchor=\"end\">\n",
       "\t\t<text><tspan font-family=\"Arial\" > 0.6</tspan></text>\n",
       "\t</g>\n",
       "</g>\n",
       "<g fill=\"none\" color=\"black\" stroke=\"currentColor\" stroke-width=\"1.00\" stroke-linecap=\"butt\" stroke-linejoin=\"miter\">\n",
       "\t<path stroke='black'  d='M53.9,116.2 L62.9,116.2 M775.0,116.2 L766.0,116.2  '/>\t<g transform=\"translate(45.6,120.7)\" stroke=\"none\" fill=\"black\" font-family=\"Arial\" font-size=\"12.00\"  text-anchor=\"end\">\n",
       "\t\t<text><tspan font-family=\"Arial\" > 0.8</tspan></text>\n",
       "\t</g>\n",
       "</g>\n",
       "<g fill=\"none\" color=\"black\" stroke=\"currentColor\" stroke-width=\"1.00\" stroke-linecap=\"butt\" stroke-linejoin=\"miter\">\n",
       "\t<path stroke='black'  d='M53.9,66.5 L62.9,66.5 M775.0,66.5 L766.0,66.5  '/>\t<g transform=\"translate(45.6,71.0)\" stroke=\"none\" fill=\"black\" font-family=\"Arial\" font-size=\"12.00\"  text-anchor=\"end\">\n",
       "\t\t<text><tspan font-family=\"Arial\" > 1</tspan></text>\n",
       "\t</g>\n",
       "</g>\n",
       "<g fill=\"none\" color=\"black\" stroke=\"currentColor\" stroke-width=\"1.00\" stroke-linecap=\"butt\" stroke-linejoin=\"miter\">\n",
       "\t<path stroke='black'  d='M53.9,16.7 L62.9,16.7 M775.0,16.7 L766.0,16.7  '/>\t<g transform=\"translate(45.6,21.2)\" stroke=\"none\" fill=\"black\" font-family=\"Arial\" font-size=\"12.00\"  text-anchor=\"end\">\n",
       "\t\t<text><tspan font-family=\"Arial\" > 1.2</tspan></text>\n",
       "\t</g>\n",
       "</g>\n",
       "<g fill=\"none\" color=\"black\" stroke=\"currentColor\" stroke-width=\"1.00\" stroke-linecap=\"butt\" stroke-linejoin=\"miter\">\n",
       "\t<path stroke='black'  d='M53.9,564.0 L53.9,555.0 M53.9,16.7 L53.9,25.7  '/>\t<g transform=\"translate(53.9,586.5)\" stroke=\"none\" fill=\"black\" font-family=\"Arial\" font-size=\"12.00\"  text-anchor=\"middle\">\n",
       "\t\t<text><tspan font-family=\"Arial\" > 0</tspan></text>\n",
       "\t</g>\n",
       "</g>\n",
       "<g fill=\"none\" color=\"black\" stroke=\"currentColor\" stroke-width=\"1.00\" stroke-linecap=\"butt\" stroke-linejoin=\"miter\">\n",
       "\t<path stroke='black'  d='M174.1,564.0 L174.1,555.0 M174.1,16.7 L174.1,25.7  '/>\t<g transform=\"translate(174.1,586.5)\" stroke=\"none\" fill=\"black\" font-family=\"Arial\" font-size=\"12.00\"  text-anchor=\"middle\">\n",
       "\t\t<text><tspan font-family=\"Arial\" > 0.2</tspan></text>\n",
       "\t</g>\n",
       "</g>\n",
       "<g fill=\"none\" color=\"black\" stroke=\"currentColor\" stroke-width=\"1.00\" stroke-linecap=\"butt\" stroke-linejoin=\"miter\">\n",
       "\t<path stroke='black'  d='M294.3,564.0 L294.3,555.0 M294.3,16.7 L294.3,25.7  '/>\t<g transform=\"translate(294.3,586.5)\" stroke=\"none\" fill=\"black\" font-family=\"Arial\" font-size=\"12.00\"  text-anchor=\"middle\">\n",
       "\t\t<text><tspan font-family=\"Arial\" > 0.4</tspan></text>\n",
       "\t</g>\n",
       "</g>\n",
       "<g fill=\"none\" color=\"black\" stroke=\"currentColor\" stroke-width=\"1.00\" stroke-linecap=\"butt\" stroke-linejoin=\"miter\">\n",
       "\t<path stroke='black'  d='M414.5,564.0 L414.5,555.0 M414.5,16.7 L414.5,25.7  '/>\t<g transform=\"translate(414.5,586.5)\" stroke=\"none\" fill=\"black\" font-family=\"Arial\" font-size=\"12.00\"  text-anchor=\"middle\">\n",
       "\t\t<text><tspan font-family=\"Arial\" > 0.6</tspan></text>\n",
       "\t</g>\n",
       "</g>\n",
       "<g fill=\"none\" color=\"black\" stroke=\"currentColor\" stroke-width=\"1.00\" stroke-linecap=\"butt\" stroke-linejoin=\"miter\">\n",
       "\t<path stroke='black'  d='M534.6,564.0 L534.6,555.0 M534.6,16.7 L534.6,25.7  '/>\t<g transform=\"translate(534.6,586.5)\" stroke=\"none\" fill=\"black\" font-family=\"Arial\" font-size=\"12.00\"  text-anchor=\"middle\">\n",
       "\t\t<text><tspan font-family=\"Arial\" > 0.8</tspan></text>\n",
       "\t</g>\n",
       "</g>\n",
       "<g fill=\"none\" color=\"black\" stroke=\"currentColor\" stroke-width=\"1.00\" stroke-linecap=\"butt\" stroke-linejoin=\"miter\">\n",
       "\t<path stroke='black'  d='M654.8,564.0 L654.8,555.0 M654.8,16.7 L654.8,25.7  '/>\t<g transform=\"translate(654.8,586.5)\" stroke=\"none\" fill=\"black\" font-family=\"Arial\" font-size=\"12.00\"  text-anchor=\"middle\">\n",
       "\t\t<text><tspan font-family=\"Arial\" > 1</tspan></text>\n",
       "\t</g>\n",
       "</g>\n",
       "<g fill=\"none\" color=\"black\" stroke=\"currentColor\" stroke-width=\"1.00\" stroke-linecap=\"butt\" stroke-linejoin=\"miter\">\n",
       "\t<path stroke='black'  d='M775.0,564.0 L775.0,555.0 M775.0,16.7 L775.0,25.7  '/>\t<g transform=\"translate(775.0,586.5)\" stroke=\"none\" fill=\"black\" font-family=\"Arial\" font-size=\"12.00\"  text-anchor=\"middle\">\n",
       "\t\t<text><tspan font-family=\"Arial\" > 1.2</tspan></text>\n",
       "\t</g>\n",
       "</g>\n",
       "<g fill=\"none\" color=\"black\" stroke=\"currentColor\" stroke-width=\"1.00\" stroke-linecap=\"butt\" stroke-linejoin=\"miter\">\n",
       "</g>\n",
       "<g fill=\"none\" color=\"black\" stroke=\"currentColor\" stroke-width=\"1.00\" stroke-linecap=\"butt\" stroke-linejoin=\"miter\">\n",
       "\t<path stroke='black'  d='M53.9,16.7 L53.9,564.0 L775.0,564.0 L775.0,16.7 L53.9,16.7 Z  '/></g>\n",
       "<g fill=\"none\" color=\"black\" stroke=\"currentColor\" stroke-width=\"1.00\" stroke-linecap=\"butt\" stroke-linejoin=\"miter\">\n",
       "</g>\n",
       "\t<g id=\"gnuplot_plot_1\" ><title>Ref-Case</title>\n",
       "<g fill=\"none\" color=\"black\" stroke=\"currentColor\" stroke-width=\"1.00\" stroke-linecap=\"butt\" stroke-linejoin=\"miter\">\n",
       "\t<g transform=\"translate(707.9,39.2)\" stroke=\"none\" fill=\"black\" font-family=\"Arial\" font-size=\"12.00\"  text-anchor=\"end\">\n",
       "\t\t<text><tspan font-family=\"Arial\" >Ref-Case</tspan></text>\n",
       "\t</g>\n",
       "</g>\n",
       "<g fill=\"none\" color=\"black\" stroke=\"currentColor\" stroke-width=\"1.00\" stroke-linecap=\"butt\" stroke-linejoin=\"miter\">\n",
       "\t<path stroke='rgb(  0,   0,   0)'  d='M716.2,34.7 L758.4,34.7 M53.9,30.0 L60.8,30.0 L67.7,30.1 L74.6,30.2 L81.4,30.4 L88.3,30.7\n",
       "\t\tL95.2,30.9 L102.0,31.3 L108.8,31.6 L115.6,32.1 L122.4,32.5 L129.2,33.1 L135.9,33.7 L142.6,34.3\n",
       "\t\tL149.3,34.9 L156.0,35.7 L162.6,36.4 L169.2,37.3 L175.7,38.1 L182.2,39.0 L188.7,40.0 L195.1,41.0\n",
       "\t\tL201.5,42.0 L207.8,43.1 L214.1,44.2 L220.3,45.4 L226.5,46.6 L232.7,47.8 L238.8,49.1 L244.8,50.4\n",
       "\t\tL250.8,51.8 L256.7,53.2 L262.5,54.6 L268.3,56.1 L274.1,57.6 L279.7,59.1 L285.3,60.7 L290.9,62.3\n",
       "\t\tL296.4,63.9 L301.8,65.6 L307.2,67.2 L312.5,69.0 L317.7,70.7 L322.8,72.5 L327.9,74.2 L333.0,76.1\n",
       "\t\tL337.9,77.9 L342.8,79.8 L347.7,81.6 L352.4,83.5 L357.1,85.4 L361.8,87.4 L366.3,89.3 L370.8,91.3\n",
       "\t\tL375.3,93.3 L379.6,95.3 L383.9,97.3 L388.2,99.3 L392.4,101.4 L396.5,103.4 L400.5,105.5 L404.5,107.5\n",
       "\t\tL408.5,109.6 L412.4,111.7 L416.2,113.8 L420.0,115.9 L423.7,118.0 L427.3,120.1 L431.0,122.2 L434.5,124.3\n",
       "\t\tL438.0,126.4 L441.5,128.6 L444.9,130.7 L448.2,132.8 L451.6,134.9 L454.8,137.1 L458.1,139.2 L461.3,141.3\n",
       "\t\tL464.4,143.4 L467.5,145.6 L470.6,147.7 L473.6,149.8 L476.6,151.9 L479.6,154.1 L482.5,156.2 L485.4,158.3\n",
       "\t\tL488.3,160.4 L491.2,162.5 L494.0,164.6 L496.8,166.7 L499.6,168.8 L502.3,170.9 L505.1,173.0 L507.8,175.1\n",
       "\t\tL510.5,177.2 L513.1,179.3 L515.8,181.4 L518.4,183.4 L521.1,185.5 L523.7,187.6 L526.3,189.7 L528.9,191.7\n",
       "\t\tL531.4,193.8 L534.0,195.9 L536.6,197.9 L539.1,200.0 L541.7,202.1 L544.2,204.1 L546.7,206.2 L549.2,208.3\n",
       "\t\tL551.7,210.3 L554.2,212.4 L556.7,214.5 L559.2,216.5 L561.7,218.6 L564.2,220.7 L566.6,222.8 L569.1,224.9\n",
       "\t\tL571.6,226.9 L574.0,229.0 L576.4,231.1 L578.9,233.2 L581.3,235.3 L583.7,237.4 L586.1,239.6 L588.5,241.7\n",
       "\t\tL590.9,243.8 L593.3,246.0 L595.6,248.1 L598.0,250.3 L600.3,252.4 L602.6,254.6 L604.9,256.8 L607.2,259.0\n",
       "\t\tL609.5,261.2 L611.7,263.4 L613.9,265.6 L616.1,267.9 L618.3,270.1 L620.5,272.4 L622.6,274.6 L624.7,276.9\n",
       "\t\tL626.7,279.2 L628.8,281.5 L630.8,283.8 L632.7,286.1 L634.6,288.5 L636.5,290.8 L638.4,293.2 L640.2,295.6\n",
       "\t\tL641.9,298.0 L643.6,300.4 L645.3,302.8 L646.9,305.2 L648.4,307.6 L649.9,310.1 L651.4,312.6 L652.8,315.0\n",
       "\t\tL654.1,317.5 L655.4,320.0 L656.6,322.5 L657.7,325.0 L658.8,327.6 L659.8,330.1 L660.7,332.6 L661.6,335.2\n",
       "\t\tL662.4,337.8 L663.1,340.3 L663.7,342.9 L664.2,345.5 L664.7,348.1 L665.1,350.7 L665.4,353.3 L665.6,355.9\n",
       "\t\tL665.7,358.5 L665.8,361.1 L665.7,363.7 L665.6,366.4 L665.4,369.0 L665.0,371.6 L664.6,374.2 L664.1,376.8\n",
       "\t\tL663.5,379.4 L662.8,382.1 L661.9,384.7 L661.0,387.3 L660.0,389.9 L658.9,392.5 L657.7,395.1 L656.4,397.7\n",
       "\t\tL654.9,400.2 L653.4,402.8 L651.8,405.4 L650.0,407.9 L648.2,410.4 L646.3,413.0 L644.2,415.5 L642.1,417.9\n",
       "\t\tL639.8,420.4 L637.5,422.9 L635.0,425.3 L632.5,427.8 L629.8,430.2 L627.0,432.5 L624.2,434.9 L621.2,437.3\n",
       "\t\tL618.1,439.6 L615.0,441.9 L611.7,444.2 L608.4,446.4 L604.9,448.6 L601.4,450.8 L597.7,453.0 L594.0,455.2\n",
       "\t\tL590.2,457.3 L586.3,459.4 L582.3,461.4 L578.2,463.5 L574.0,465.5 L569.8,467.4 L565.5,469.4 L561.1,471.3\n",
       "\t\tL556.6,473.2 L552.0,475.0 L547.4,476.8 L542.7,478.6 L537.9,480.3 L533.1,482.0 L528.1,483.7 L523.2,485.3\n",
       "\t\tL518.1,486.9 L513.0,488.5 L507.9,490.0 L502.7,491.5 L497.4,493.0 L492.1,494.4 L486.8,495.8 L481.4,497.1\n",
       "\t\tL475.9,498.5 L470.4,499.7 L464.9,501.0 L459.3,502.2 L453.7,503.4 L448.1,504.5 L442.4,505.6 L436.8,506.6\n",
       "\t\tL431.0,507.7 L425.3,508.7 L419.5,509.6 L413.7,510.5 L407.9,511.4 L402.1,512.3 L396.3,513.1 L390.5,513.9\n",
       "\t\tL384.6,514.7 L378.7,515.4 L372.9,516.1 L367.0,516.8 L361.1,517.4 L355.3,518.0 L349.4,518.6 L343.5,519.1\n",
       "\t\tL337.7,519.6 L331.8,520.1 L325.9,520.6 L320.1,521.1 L314.3,521.5 L308.4,521.9 L302.6,522.2 L296.8,522.6\n",
       "\t\tL291.0,522.9 L285.3,523.2 L279.5,523.5 L273.8,523.8 L268.1,524.0 L262.4,524.2 L256.7,524.4 L251.0,524.6\n",
       "\t\tL245.4,524.8 L239.7,525.0 L234.1,525.1 L228.6,525.2 L223.0,525.4 L217.5,525.5 L212.0,525.6 L206.5,525.6\n",
       "\t\tL201.0,525.7 L195.5,525.8 L190.1,525.8 L184.7,525.9 L179.3,525.9 L173.9,526.0 L168.6,526.0 L163.3,526.0\n",
       "\t\tL158.0,526.0 L152.7,526.0 L147.4,526.0 L142.1,526.0 L136.9,526.0 L131.7,526.0 L126.5,526.0 L121.3,526.0\n",
       "\t\tL116.1,526.0 L111.0,526.0 L105.8,526.0 L100.7,526.0 L95.5,526.0 L90.4,526.0 L85.3,526.0 L80.2,526.0\n",
       "\t\tL75.1,526.0 L70.0,526.0 L64.9,526.0 L59.8,526.0 L54.7,526.0 L53.9,526.0  '/></g>\n",
       "\t</g>\n",
       "\t<g id=\"gnuplot_plot_2\" ><title>Case</title>\n",
       "<g fill=\"none\" color=\"black\" stroke=\"currentColor\" stroke-width=\"1.00\" stroke-linecap=\"butt\" stroke-linejoin=\"miter\">\n",
       "\t<g transform=\"translate(707.9,57.2)\" stroke=\"none\" fill=\"black\" font-family=\"Arial\" font-size=\"12.00\"  text-anchor=\"end\">\n",
       "\t\t<text><tspan font-family=\"Arial\" >Case</tspan></text>\n",
       "\t</g>\n",
       "</g>\n",
       "<g fill=\"none\" color=\"black\" stroke=\"currentColor\" stroke-width=\"1.00\" stroke-linecap=\"butt\" stroke-linejoin=\"miter\">\n",
       "\t<path stroke='rgb(  0,   0, 255)'  d='M716.2,52.7 L758.4,52.7 M53.9,29.9 L60.8,30.0 L67.7,30.0 L74.6,30.2 L81.4,30.3 L88.3,30.6\n",
       "\t\tL95.2,30.9 L102.0,31.2 L108.8,31.6 L115.6,32.0 L122.4,32.5 L129.2,33.0 L135.9,33.6 L142.6,34.2\n",
       "\t\tL149.3,34.9 L156.0,35.6 L162.6,36.4 L169.2,37.2 L175.7,38.0 L182.2,38.9 L188.7,39.9 L195.1,40.9\n",
       "\t\tL201.5,41.9 L207.9,43.0 L214.2,44.1 L220.4,45.3 L226.6,46.5 L232.7,47.7 L238.8,49.0 L244.8,50.3\n",
       "\t\tL250.8,51.7 L256.7,53.1 L262.6,54.5 L268.4,56.0 L274.1,57.5 L279.8,59.0 L285.4,60.6 L291.0,62.2\n",
       "\t\tL296.4,63.8 L301.9,65.5 L307.2,67.2 L312.5,68.9 L317.8,70.6 L322.9,72.4 L328.0,74.2 L333.0,76.0\n",
       "\t\tL338.0,77.8 L342.9,79.7 L347.7,81.6 L352.5,83.5 L357.2,85.4 L361.8,87.3 L366.4,89.3 L370.9,91.2\n",
       "\t\tL375.3,93.2 L379.7,95.2 L384.0,97.2 L388.3,99.3 L392.5,101.3 L396.6,103.3 L400.6,105.4 L404.6,107.5\n",
       "\t\tL408.6,109.6 L412.5,111.6 L416.3,113.7 L420.1,115.8 L423.8,117.9 L427.4,120.0 L431.0,122.1 L434.6,124.3\n",
       "\t\tL438.1,126.4 L441.6,128.5 L445.0,130.6 L448.3,132.8 L451.7,134.9 L454.9,137.0 L458.2,139.1 L461.3,141.3\n",
       "\t\tL464.5,143.4 L467.6,145.5 L470.7,147.7 L473.7,149.8 L476.7,151.9 L479.7,154.0 L482.6,156.1 L485.5,158.3\n",
       "\t\tL488.4,160.4 L491.3,162.5 L494.1,164.6 L496.9,166.7 L499.7,168.8 L502.4,170.9 L505.1,173.0 L507.9,175.1\n",
       "\t\tL510.6,177.2 L513.2,179.2 L515.9,181.3 L518.5,183.4 L521.2,185.5 L523.8,187.6 L526.4,189.6 L529.0,191.7\n",
       "\t\tL531.5,193.8 L534.1,195.8 L536.7,197.9 L539.2,200.0 L541.7,202.0 L544.3,204.1 L546.8,206.2 L549.3,208.2\n",
       "\t\tL551.8,210.3 L554.3,212.4 L556.8,214.5 L559.3,216.5 L561.8,218.6 L564.2,220.7 L566.7,222.8 L569.2,224.8\n",
       "\t\tL571.6,226.9 L574.1,229.0 L576.5,231.1 L578.9,233.2 L581.4,235.3 L583.8,237.4 L586.2,239.6 L588.6,241.7\n",
       "\t\tL591.0,243.8 L593.3,246.0 L595.7,248.1 L598.0,250.3 L600.4,252.4 L602.7,254.6 L605.0,256.8 L607.3,259.0\n",
       "\t\tL609.5,261.2 L611.8,263.4 L614.0,265.6 L616.2,267.8 L618.3,270.1 L620.5,272.4 L622.6,274.6 L624.7,276.9\n",
       "\t\tL626.8,279.2 L628.8,281.5 L630.8,283.8 L632.7,286.1 L634.7,288.5 L636.5,290.8 L638.4,293.2 L640.2,295.6\n",
       "\t\tL641.9,298.0 L643.6,300.4 L645.3,302.8 L646.9,305.2 L648.4,307.6 L649.9,310.1 L651.4,312.6 L652.8,315.0\n",
       "\t\tL654.1,317.5 L655.4,320.0 L656.6,322.5 L657.7,325.0 L658.8,327.6 L659.8,330.1 L660.7,332.6 L661.6,335.2\n",
       "\t\tL662.3,337.8 L663.0,340.3 L663.7,342.9 L664.2,345.5 L664.7,348.1 L665.1,350.7 L665.4,353.3 L665.6,355.9\n",
       "\t\tL665.7,358.5 L665.8,361.1 L665.7,363.7 L665.6,366.3 L665.3,369.0 L665.0,371.6 L664.6,374.2 L664.0,376.8\n",
       "\t\tL663.4,379.4 L662.7,382.1 L661.9,384.7 L661.0,387.3 L660.0,389.9 L658.8,392.5 L657.6,395.1 L656.3,397.7\n",
       "\t\tL654.9,400.2 L653.4,402.8 L651.7,405.3 L650.0,407.9 L648.2,410.4 L646.2,412.9 L644.2,415.4 L642.0,417.9\n",
       "\t\tL639.8,420.4 L637.4,422.9 L635.0,425.3 L632.4,427.7 L629.7,430.1 L627.0,432.5 L624.1,434.9 L621.1,437.2\n",
       "\t\tL618.1,439.6 L614.9,441.9 L611.6,444.1 L608.3,446.4 L604.8,448.6 L601.3,450.8 L597.7,453.0 L593.9,455.1\n",
       "\t\tL590.1,457.3 L586.2,459.4 L582.2,461.4 L578.1,463.4 L574.0,465.4 L569.7,467.4 L565.4,469.4 L561.0,471.3\n",
       "\t\tL556.5,473.1 L551.9,475.0 L547.3,476.8 L542.6,478.6 L537.8,480.3 L533.0,482.0 L528.0,483.7 L523.1,485.3\n",
       "\t\tL518.0,486.9 L512.9,488.5 L507.8,490.0 L502.6,491.5 L497.3,493.0 L492.0,494.4 L486.7,495.8 L481.3,497.1\n",
       "\t\tL475.8,498.4 L470.3,499.7 L464.8,500.9 L459.2,502.1 L453.6,503.3 L448.0,504.4 L442.3,505.5 L436.7,506.6\n",
       "\t\tL430.9,507.6 L425.2,508.6 L419.4,509.6 L413.7,510.5 L407.9,511.4 L402.0,512.2 L396.2,513.1 L390.4,513.9\n",
       "\t\tL384.5,514.6 L378.7,515.3 L372.8,516.0 L366.9,516.7 L361.1,517.3 L355.2,517.9 L349.3,518.5 L343.4,519.1\n",
       "\t\tL337.6,519.6 L331.7,520.1 L325.9,520.5 L320.0,521.0 L314.2,521.4 L308.4,521.8 L302.6,522.2 L296.8,522.5\n",
       "\t\tL291.0,522.8 L285.2,523.1 L279.4,523.4 L273.7,523.7 L268.0,523.9 L262.3,524.2 L256.6,524.4 L250.9,524.6\n",
       "\t\tL245.3,524.7 L239.7,524.9 L234.1,525.0 L228.5,525.2 L222.9,525.3 L217.4,525.4 L211.9,525.5 L206.4,525.6\n",
       "\t\tL200.9,525.6 L195.5,525.7 L190.1,525.8 L184.6,525.8 L179.3,525.9 L173.9,525.9 L168.6,525.9 L163.2,525.9\n",
       "\t\tL157.9,525.9 L152.6,526.0 L147.4,526.0 L142.1,526.0 L136.9,526.0 L131.7,526.0 L126.5,526.0 L121.3,526.0\n",
       "\t\tL116.1,526.0 L110.9,525.9 L105.8,525.9 L100.6,525.9 L95.5,525.9 L90.4,525.9 L85.3,525.9 L80.2,525.9\n",
       "\t\tL75.1,525.9 L70.0,525.9 L64.9,525.9 L59.8,525.9 L54.7,525.9 L53.9,525.9  '/></g>\n",
       "\t</g>\n",
       "<g fill=\"none\" color=\"#FFFFFF\" stroke=\"rgb(  0,   0, 255)\" stroke-width=\"2.00\" stroke-linecap=\"butt\" stroke-linejoin=\"miter\">\n",
       "</g>\n",
       "<g fill=\"none\" color=\"black\" stroke=\"currentColor\" stroke-width=\"2.00\" stroke-linecap=\"butt\" stroke-linejoin=\"miter\">\n",
       "</g>\n",
       "<g fill=\"none\" color=\"black\" stroke=\"black\" stroke-width=\"1.00\" stroke-linecap=\"butt\" stroke-linejoin=\"miter\">\n",
       "</g>\n",
       "<g fill=\"none\" color=\"black\" stroke=\"currentColor\" stroke-width=\"1.00\" stroke-linecap=\"butt\" stroke-linejoin=\"miter\">\n",
       "\t<path stroke='black'  d='M53.9,16.7 L53.9,564.0 L775.0,564.0 L775.0,16.7 L53.9,16.7 Z  '/></g>\n",
       "<g fill=\"none\" color=\"black\" stroke=\"currentColor\" stroke-width=\"1.00\" stroke-linecap=\"butt\" stroke-linejoin=\"miter\">\n",
       "</g>\n",
       "</g>\n",
       "</svg>\n",
       "\n"
      ]
     },
     "metadata": {},
     "output_type": "display_data"
    }
   ],
   "source": [
    "int refCase = 4;\n",
    "Plot(refX[refCase], refZ[refCase], \"Ref-Case\", \". black\",\n",
    "    caseX[refCase], caseZ[refCase], \"Case\", \". blue\")"
   ]
  },
  {
   "cell_type": "markdown",
   "metadata": {},
   "source": [
    "### Matching of the Spherical Harmonics against the provided Data"
   ]
  },
  {
   "cell_type": "code",
   "execution_count": null,
   "metadata": {
    "dotnet_interactive": {
     "language": "csharp"
    }
   },
   "outputs": [],
   "source": [
    "Dictionary<string, Formula> casesPhi = new Dictionary<string, Formula>();"
   ]
  },
  {
   "cell_type": "code",
   "execution_count": null,
   "metadata": {
    "dotnet_interactive": {
     "language": "csharp"
    }
   },
   "outputs": [],
   "source": [
    "var Phi_m2eta04_Init = new Formula(\n",
    "\"Phi1\",\n",
    "false,\n",
    "\"using ilPSP.Utils; \" + \n",
    "\"double Phi1(double[] X) { \" + \n",
    "\"    (double theta, double phi) = SphericalHarmonics.GetAngular(X); \" + \n",
    "\"    double R =    0.966781*SphericalHarmonics.MyRealSpherical(0, 0, theta, phi) \" + \n",
    "\"                +      0.4*SphericalHarmonics.MyRealSpherical(2, 0, theta, phi); \" + \n",
    "\"    return X.L2Norm() - R; \" + \n",
    "\"}\");\n",
    "casesPhi.Add(\"m2_Oh01_eta04\", Phi_m2eta04_Init);"
   ]
  },
  {
   "cell_type": "code",
   "execution_count": null,
   "metadata": {
    "dotnet_interactive": {
     "language": "csharp"
    }
   },
   "outputs": [],
   "source": [
    "var Phi_m2eta02_Init = new Formula(\n",
    "\"Phi4\",\n",
    "false,\n",
    "\"using ilPSP.Utils; \" + \n",
    "\"double Phi4(double[] X) { \" + \n",
    "\"    (double theta, double phi) = SphericalHarmonics.GetAngular(X); \" + \n",
    "\"    double R =    0.991848*SphericalHarmonics.MyRealSpherical(0, 0, theta, phi) \" + \n",
    "\"                +      0.2*SphericalHarmonics.MyRealSpherical(2, 0, theta, phi); \" + \n",
    "\"    return X.L2Norm() - R; \" + \n",
    "\"} \");\n",
    "casesPhi.Add(\"m2_Oh01_eta02\", Phi_m2eta02_Init);"
   ]
  },
  {
   "cell_type": "code",
   "execution_count": null,
   "metadata": {
    "dotnet_interactive": {
     "language": "csharp"
    }
   },
   "outputs": [],
   "source": [
    "var Phi_m2eta01_Init = new Formula(\n",
    "\"Phi4\",\n",
    "false,\n",
    "\"using ilPSP.Utils; \" + \n",
    "\"double Phi4(double[] X) { \" + \n",
    "\"    (double theta, double phi) = SphericalHarmonics.GetAngular(X); \" + \n",
    "\"    double R =    0.997981*SphericalHarmonics.MyRealSpherical(0, 0, theta, phi) \" + \n",
    "\"                +      0.1*SphericalHarmonics.MyRealSpherical(2, 0, theta, phi); \" + \n",
    "\"    return X.L2Norm() - R; \" + \n",
    "\"} \");\n",
    "casesPhi.Add(\"m2_Oh01_eta01\", Phi_m2eta01_Init);"
   ]
  },
  {
   "cell_type": "code",
   "execution_count": null,
   "metadata": {
    "dotnet_interactive": {
     "language": "csharp"
    }
   },
   "outputs": [],
   "source": [
    "var Phi_m3eta04_Init = new Formula(\n",
    "\"Phi2\",\n",
    "false,\n",
    "\"using ilPSP.Utils; \" + \n",
    "\"double Phi2(double[] X) { \" + \n",
    "\"    (double theta, double phi) = SphericalHarmonics.GetAngular(X); \" + \n",
    "\"    double R =    0.977143*SphericalHarmonics.MyRealSpherical(0, 0, theta, phi) \" + \n",
    "\"                +      0.4*SphericalHarmonics.MyRealSpherical(3, 0, theta, phi); \" + \n",
    "\"    return X.L2Norm() - R; \" + \n",
    "\"} \");\n",
    "casesPhi.Add(\"m3_Oh01_eta04\", Phi_m3eta04_Init);"
   ]
  },
  {
   "cell_type": "code",
   "execution_count": null,
   "metadata": {
    "dotnet_interactive": {
     "language": "csharp"
    }
   },
   "outputs": [],
   "source": [
    "var Phi_m3eta015_Init = new Formula(\n",
    "\"Phi2\",\n",
    "false,\n",
    "\"using ilPSP.Utils; \" + \n",
    "\"double Phi2(double[] X) { \" + \n",
    "\"    (double theta, double phi) = SphericalHarmonics.GetAngular(X); \" + \n",
    "\"    double R =    0.996786*SphericalHarmonics.MyRealSpherical(0, 0, theta, phi) \" + \n",
    "\"                +      0.15*SphericalHarmonics.MyRealSpherical(3, 0, theta, phi); \" + \n",
    "\"    return X.L2Norm() - R; \" + \n",
    "\"} \");\n",
    "casesPhi.Add(\"m3_Oh01_eta015\", Phi_m3eta015_Init);"
   ]
  },
  {
   "cell_type": "code",
   "execution_count": null,
   "metadata": {
    "dotnet_interactive": {
     "language": "csharp"
    }
   },
   "outputs": [],
   "source": [
    "var Phi_m4eta04_Init = new Formula(\n",
    "\"Phi3\",\n",
    "false,\n",
    "\"using ilPSP.Utils; \" + \n",
    "\"double Phi3(double[] X) { \" +    \n",
    "\"    (double theta, double phi) = SphericalHarmonics.GetAngular(X); \" + \n",
    "\"    double R =    0.981839*SphericalHarmonics.MyRealSpherical(0, 0, theta, phi) \" + \n",
    "\"                +      0.4*SphericalHarmonics.MyRealSpherical(4, 0, theta, phi); \" + \n",
    "\"    return X.L2Norm() - R; \" + \n",
    "\"} \");\n",
    "casesPhi.Add(\"m4_Oh01_eta04\", Phi_m4eta04_Init);"
   ]
  },
  {
   "cell_type": "code",
   "execution_count": null,
   "metadata": {
    "dotnet_interactive": {
     "language": "csharp"
    }
   },
   "outputs": [],
   "source": [
    "var Phi_m4eta01_Init = new Formula(\n",
    "\"Phi3\",\n",
    "false,\n",
    "\"using ilPSP.Utils; \" + \n",
    "\"double Phi3(double[] X) { \" +    \n",
    "\"    (double theta, double phi) = SphericalHarmonics.GetAngular(X); \" + \n",
    "\"    double R =    0.998883*SphericalHarmonics.MyRealSpherical(0, 0, theta, phi) \" + \n",
    "\"                +      0.1*SphericalHarmonics.MyRealSpherical(4, 0, theta, phi); \" + \n",
    "\"    return X.L2Norm() - R; \" + \n",
    "\"} \");\n",
    "casesPhi.Add(\"m4_Oh01_eta01\", Phi_m4eta01_Init);"
   ]
  },
  {
   "cell_type": "code",
   "execution_count": null,
   "metadata": {
    "dotnet_interactive": {
     "language": "csharp"
    }
   },
   "outputs": [],
   "source": [
    "var Phi_m4eta005_Init = new Formula(\n",
    "\"Phi5\",\n",
    "false,\n",
    "\"using ilPSP.Utils; \" + \n",
    "\"double Phi5(double[] X) { \" + \n",
    "\"    (double theta, double phi) = SphericalHarmonics.GetAngular(X); \" + \n",
    "\"    double R =    0.999721*SphericalHarmonics.MyRealSpherical(0, 0, theta, phi) \" + \n",
    "\"                +      0.05*SphericalHarmonics.MyRealSpherical(4, 0, theta, phi); \" + \n",
    "\"    return X.L2Norm() - R; \" + \n",
    "\"} \");\n",
    "casesPhi.Add(\"m4_Oh056_eta005\", Phi_m4eta005_Init);"
   ]
  },
  {
   "cell_type": "code",
   "execution_count": null,
   "metadata": {
    "dotnet_interactive": {
     "language": "csharp"
    }
   },
   "outputs": [],
   "source": [
    "// IBoundaryAndInitialData[] Phi_iCase = new IBoundaryAndInitialData[]  { Phi1Init, Phi2Init, Phi3Init, Phi4Init, Phi5Init};"
   ]
  },
  {
   "cell_type": "code",
   "execution_count": null,
   "metadata": {
    "dotnet_interactive": {
     "language": "csharp"
    }
   },
   "outputs": [
    {
     "name": "stdout",
     "output_type": "stream",
     "text": [
      "Phi error for case 0: 2.0650148258027912E-14\r\n",
      "Phi error for case 1: 1.532107773982716E-14\r\n",
      "Phi error for case 2: 1.0880185641326534E-14\r\n",
      "Phi error for case 3: 2.2315482794965646E-14\r\n",
      "Phi error for case 4: 3.530509218307998E-14\r\n",
      "Phi error for case 5: 1.454392162258955E-14\r\n",
      "Phi error for case 6: 1.2545520178264269E-14\r\n"
     ]
    }
   ],
   "source": [
    "for(int iCase = 0; iCase < numCases; iCase++) {\n",
    "    double[] angle = ReferenceData[iCase].GetColumn(0);\n",
    "    //double[] xI = refX[iCase];   \n",
    "    //double[] zI = refZ[iCase];\n",
    "    int I = angle.Length;\n",
    "    \n",
    "    double PhiErr = 0;\n",
    "    for(int i = 0; i < I; i++) {\n",
    "        double radius_expr = casesRadius[cases[iCase]](angle[i]);    \n",
    "        double x1 = Math.Sin(angle[i])*radius_expr;\n",
    "        double z1 = Math.Cos(angle[i])*radius_expr;\n",
    "    \n",
    "        PhiErr += casesPhi[cases[iCase]].Evaluate(new Vector(x1, 0, z1), 0.0).Abs();\n",
    "    }\n",
    "    Console.WriteLine($\"Phi error for case {iCase}: {PhiErr}\");\n",
    "    Assert.LessOrEqual(PhiErr, 1e-10, \"Level-Set function is not zero at desired surface.\");\n",
    "    \n",
    "    Assert.IsTrue(casesPhi[cases[iCase]].Evaluate(new Vector(1e-5, 1e-5, 1e-5), 0.0) < 0, \"Inside must be phase A/negative\");\n",
    "    Assert.IsTrue(casesPhi[cases[iCase]].Evaluate(new Vector(1e+1, 1e+1, 1e+1), 0.0) > 0, \"Outside must be phase B/positive\");\n",
    "}"
   ]
  },
  {
   "cell_type": "markdown",
   "metadata": {},
   "source": [
    "### Initial Velocities"
   ]
  },
  {
   "cell_type": "code",
   "execution_count": null,
   "metadata": {
    "dotnet_interactive": {
     "language": "csharp"
    }
   },
   "outputs": [],
   "source": [
    "//var anaVel = new IBoundaryAndInitialData[numCases,3];\n",
    "Dictionary<string, (IBoundaryAndInitialData velX, IBoundaryAndInitialData velY, IBoundaryAndInitialData velZ)> analyticVel = new Dictionary<string, (IBoundaryAndInitialData velX, IBoundaryAndInitialData velY, IBoundaryAndInitialData velZ)>();\n",
    "\n",
    "for(int iCase = 0; iCase < numCases; iCase++) {\n",
    "    MultidimensionalArray polVel;\n",
    "    MultidimensionalArray radVel;\n",
    "    if (!NunitTest) {\n",
    "        polVel = IMatrixExtensions.LoadFromTextFile($\"data/InitialValues/{cases[iCase].Substring(0,2)}/polarVel_{cases[iCase]}.txt\");\n",
    "        radVel = IMatrixExtensions.LoadFromTextFile($\"data/InitialValues/{cases[iCase].Substring(0,2)}/radialVel_{cases[iCase]}.txt\");\n",
    "    } else {\n",
    "        polVel = IMatrixExtensions.LoadFromTextFile($\"polarVel_{cases[iCase]}.txt\");\n",
    "        radVel = IMatrixExtensions.LoadFromTextFile($\"radialVel_{cases[iCase]}.txt\");\n",
    "    }\n",
    "    Assert.IsTrue(ilPSP.Utils.ArrayTools.ListEquals(polVel.GetColumn(0), radVel.GetColumn(0)));\n",
    "    Assert.IsTrue(ilPSP.Utils.ArrayTools.ListEquals(polVel.GetColumn(1), radVel.GetColumn(1)));\n",
    "    \n",
    "    double[] radiusS = polVel.GetColumn(0);\n",
    "    double[] anglesS = polVel.GetColumn(1);\n",
    "    double[] polVelS = polVel.GetColumn(2);\n",
    "    double[] radVelS = radVel.GetColumn(2);\n",
    "    \n",
    "    var velX = new BoSSS.Application.XNSE_Solver.SpecificSolutions.PolarAxiallySymmetricInitialValues() { VelocityComponent = 0 };\n",
    "    velX.SetData(anglesS, radiusS, polVelS, radVelS);\n",
    "    var velY = new BoSSS.Application.XNSE_Solver.SpecificSolutions.PolarAxiallySymmetricInitialValues() { VelocityComponent = 1 };\n",
    "    velY.SetData(anglesS, radiusS, polVelS, radVelS);\n",
    "    var velZ = new BoSSS.Application.XNSE_Solver.SpecificSolutions.PolarAxiallySymmetricInitialValues() { VelocityComponent = 2 };\n",
    "    velZ.SetData(anglesS, radiusS, polVelS, radVelS);\n",
    "    \n",
    "    // anaVel[iCase, 0] = velX;\n",
    "    // anaVel[iCase, 1] = velY;\n",
    "    // anaVel[iCase, 2] = velZ;\n",
    "    analyticVel.Add(cases[iCase], (velX, velY, velZ));\n",
    "}"
   ]
  },
  {
   "cell_type": "code",
   "execution_count": null,
   "metadata": {
    "dotnet_interactive": {
     "language": "csharp"
    }
   },
   "outputs": [],
   "source": [
    "// var anaVel = new IBoundaryAndInitialData[3,3];\n",
    "\n",
    "// MultidimensionalArray polVel;\n",
    "// MultidimensionalArray radVel;\n",
    "// if (!NunitTest) {\n",
    "//     polVel = IMatrixExtensions.LoadFromTextFile($\"data/InitialValues/polarVelCase1.txt\");\n",
    "//     radVel = IMatrixExtensions.LoadFromTextFile($\"data/InitialValues/radialVelCase1.txt\");\n",
    "// } else {\n",
    "//     polVel = IMatrixExtensions.LoadFromTextFile($\"polarVelCase1.txt\");\n",
    "//     radVel = IMatrixExtensions.LoadFromTextFile($\"radialVelCase1.txt\");\n",
    "// }\n",
    "// Assert.IsTrue(ilPSP.Utils.ArrayTools.ListEquals(polVel.GetColumn(0), radVel.GetColumn(0)));\n",
    "// Assert.IsTrue(ilPSP.Utils.ArrayTools.ListEquals(polVel.GetColumn(1), radVel.GetColumn(1)));\n",
    "\n",
    "// double[] radiusS = polVel.GetColumn(0);\n",
    "// double[] anglesS = polVel.GetColumn(1);\n",
    "// double[] polVelS = polVel.GetColumn(2);\n",
    "// double[] radVelS = radVel.GetColumn(2);\n",
    "\n",
    "// polVelS.ScaleV(-1.0);\n",
    "// var velX = new BoSSS.Application.XNSE_Solver.SpecificSolutions.PolarAxiallySymmetricInitialValues() { VelocityComponent = 0 };\n",
    "// velX.SetData(anglesS, radiusS, polVelS, radVelS);\n",
    "// var velY = new BoSSS.Application.XNSE_Solver.SpecificSolutions.PolarAxiallySymmetricInitialValues() { VelocityComponent = 1 };\n",
    "// velY.SetData(anglesS, radiusS, polVelS, radVelS);\n",
    "// var velZ = new BoSSS.Application.XNSE_Solver.SpecificSolutions.PolarAxiallySymmetricInitialValues() { VelocityComponent = 2 };\n",
    "// velZ.SetData(anglesS, radiusS, polVelS, radVelS);\n",
    "\n",
    "// anaVel[0, 0] = velX;\n",
    "// anaVel[0, 1] = velY;\n",
    "// anaVel[0, 2] = velZ;\n",
    "// polVelS = polVel.GetColumn(2);\n",
    "\n",
    "// radVelS.ScaleV(-1.0);\n",
    "// velX = new BoSSS.Application.XNSE_Solver.SpecificSolutions.PolarAxiallySymmetricInitialValues() { VelocityComponent = 0 };\n",
    "// velX.SetData(anglesS, radiusS, polVelS, radVelS);\n",
    "// velY = new BoSSS.Application.XNSE_Solver.SpecificSolutions.PolarAxiallySymmetricInitialValues() { VelocityComponent = 1 };\n",
    "// velY.SetData(anglesS, radiusS, polVelS, radVelS);\n",
    "// velZ = new BoSSS.Application.XNSE_Solver.SpecificSolutions.PolarAxiallySymmetricInitialValues() { VelocityComponent = 2 };\n",
    "// velZ.SetData(anglesS, radiusS, polVelS, radVelS);\n",
    "\n",
    "// anaVel[1, 0] = velX;\n",
    "// anaVel[1, 1] = velY;\n",
    "// anaVel[1, 2] = velZ;\n",
    "\n",
    "// polVelS.ScaleV(-1.0);\n",
    "// velX = new BoSSS.Application.XNSE_Solver.SpecificSolutions.PolarAxiallySymmetricInitialValues() { VelocityComponent = 0 };\n",
    "// velX.SetData(anglesS, radiusS, polVelS, radVelS);\n",
    "// velY = new BoSSS.Application.XNSE_Solver.SpecificSolutions.PolarAxiallySymmetricInitialValues() { VelocityComponent = 1 };\n",
    "// velY.SetData(anglesS, radiusS, polVelS, radVelS);\n",
    "// velZ = new BoSSS.Application.XNSE_Solver.SpecificSolutions.PolarAxiallySymmetricInitialValues() { VelocityComponent = 2 };\n",
    "// velZ.SetData(anglesS, radiusS, polVelS, radVelS);\n",
    "\n",
    "// anaVel[2, 0] = velX;\n",
    "// anaVel[2, 1] = velY;\n",
    "// anaVel[2, 2] = velZ;\n"
   ]
  },
  {
   "cell_type": "markdown",
   "metadata": {},
   "source": [
    "## Grid Creation"
   ]
  },
  {
   "cell_type": "code",
   "execution_count": null,
   "metadata": {
    "dotnet_interactive": {
     "language": "csharp"
    }
   },
   "outputs": [],
   "source": [
    "//foreach(var g in BoSSSshell.WorkflowMgm.Grids)\n",
    "//   g.Delete(true);"
   ]
  },
  {
   "cell_type": "markdown",
   "metadata": {},
   "source": [
    "### Quater-Domain grids\n",
    "(Symmetry planes at $x = 0$ and $y = 0$)"
   ]
  },
  {
   "cell_type": "code",
   "execution_count": null,
   "metadata": {
    "dotnet_interactive": {
     "language": "csharp"
    }
   },
   "outputs": [],
   "source": [
    "Dictionary<string, IGridInfo[]> gridTypes = new Dictionary<string, IGridInfo[]>();"
   ]
  },
  {
   "cell_type": "code",
   "execution_count": null,
   "metadata": {
    "dotnet_interactive": {
     "language": "csharp"
    }
   },
   "outputs": [
    {
     "name": "stdout",
     "output_type": "stream",
     "text": [
      "Opening existing database '\\\\hpccluster\\hpccluster-scratch\\smuda\\OscillatingDroplet3D'.\r\n",
      "Grid Edge Tags changed.\r\n",
      "An equivalent grid (eb0268bd-e30e-4ffd-8b96-9f718b65012a) is already present in the database -- the grid will not be saved.\r\n"
     ]
    }
   ],
   "source": [
    "int[] Resolutions = new int[] { 6 };\n",
    "IGridInfo[] Grids = new IGridInfo[Resolutions.Length];\n",
    "double scale = 1.0;\n",
    "for(int i = 0; i < Resolutions.Length; i++) {\n",
    "    int Res = Resolutions[i];\n",
    "    string GridName = $\"OscillatingDroplet3D_{Res}x{Res}x{2*Res}_wallBC_quarterDomain\";\n",
    "\n",
    "    IGridInfo cachedGrid = wmg.Grids.FirstOrDefault(grid => grid.Name == GridName);\n",
    "    //cachedGrid = null;\n",
    "    if(cachedGrid == null) {\n",
    "        \n",
    "        // must create new Grid\n",
    "        double[] xNodes = GenericBlas.Linspace(0, 3*scale, Res + 1);\n",
    "        double[] yNodes = xNodes;\n",
    "        double[] zNodes = GenericBlas.Linspace(-3*scale, 3*scale, Res*2 + 1);\n",
    "        \n",
    "        var grd = Grid3D.Cartesian3DGrid(xNodes, yNodes, zNodes);\n",
    "        grd.Name = GridName;\n",
    "        \n",
    "        grd.DefineEdgeTags(delegate(Vector X) {\n",
    "            string ret = null;\n",
    "            if(X.x.Abs() <= 1e-8 || X.y.Abs() <= 1.0e-8)\n",
    "                ret = IncompressibleBcType.SlipSymmetry.ToString();\n",
    "            else\n",
    "                ret = IncompressibleBcType.Wall.ToString();\n",
    "            return ret;\n",
    "        });        \n",
    "        \n",
    "        Grids[i] = wmg.SaveGrid(grd);\n",
    "        \n",
    "    } else {\n",
    "        //Console.WriteLine($\"type: {cachedGrid.GetType()}, is IGridInfo? {cachedGrid is IGridInfo}\");\n",
    "        Console.WriteLine(\"Grid already found in database - identifid by name \" + GridName);\n",
    "        Grids[i] = cachedGrid;\n",
    "    }\n",
    "    \n",
    "}\n",
    "gridTypes.Add(\"wallBC\", Grids);"
   ]
  },
  {
   "cell_type": "code",
   "execution_count": null,
   "metadata": {
    "dotnet_interactive": {
     "language": "csharp"
    }
   },
   "outputs": [],
   "source": [
    "// Resolutions = new int[] { 6 };\n",
    "// Grids = new IGridInfo[Resolutions.Length];\n",
    "// scale = 1.0;\n",
    "// for(int i = 0; i < Resolutions.Length; i++) {\n",
    "//     int Res = Resolutions[i];\n",
    "//     string GridName = $\"OscillatingDroplet3D_{Res}x{Res}x{2*Res}_pressureOutletBC_quarterDomain\";\n",
    "\n",
    "//     IGridInfo cachedGrid = wmg.Grids.FirstOrDefault(grid => grid.Name == GridName);\n",
    "//     //cachedGrid = null;\n",
    "//     if(cachedGrid == null) {\n",
    "        \n",
    "//         // must create new Grid\n",
    "//         double[] xNodes = GenericBlas.Linspace(0, 3*scale, Res + 1);\n",
    "//         double[] yNodes = xNodes;\n",
    "//         double[] zNodes = GenericBlas.Linspace(-3*scale, 3*scale, Res*2 + 1);\n",
    "        \n",
    "//         var grd = Grid3D.Cartesian3DGrid(xNodes, yNodes, zNodes);\n",
    "//         grd.Name = GridName;\n",
    "        \n",
    "//         grd.DefineEdgeTags(delegate(Vector X) {\n",
    "//             string ret = null;\n",
    "//             if(X.x.Abs() <= 1e-8 || X.y.Abs() <= 1.0e-8)\n",
    "//                 ret = IncompressibleBcType.SlipSymmetry.ToString();\n",
    "//             else\n",
    "//                 ret = IncompressibleBcType.Pressure_Outlet.ToString();\n",
    "//             return ret;\n",
    "//         });        \n",
    "        \n",
    "//         Grids[i] = wmg.SaveGrid(grd);\n",
    "        \n",
    "//     } else {\n",
    "//         //Console.WriteLine($\"type: {cachedGrid.GetType()}, is IGridInfo? {cachedGrid is IGridInfo}\");\n",
    "//         Console.WriteLine(\"Grid already found in database - identifid by name \" + GridName);\n",
    "//         Grids[i] = cachedGrid;\n",
    "//     }\n",
    "    \n",
    "// }\n",
    "// gridTypes.Add(\"pressureOutletBC\", Grids);"
   ]
  },
  {
   "cell_type": "code",
   "execution_count": null,
   "metadata": {
    "dotnet_interactive": {
     "language": "csharp"
    }
   },
   "outputs": [
    {
     "name": "stdout",
     "output_type": "stream",
     "text": [
      "Grid already found in database - identifid by name OscillatingDroplet3D_8x8x16_pressureOutletBC_quarterDomain\r\n"
     ]
    }
   ],
   "source": [
    "// Resolutions = new int[] { 8 };\n",
    "// Grids = new IGridInfo[Resolutions.Length];\n",
    "// scale = 1.0;\n",
    "// for(int i = 0; i < Resolutions.Length; i++) {\n",
    "//     int Res = Resolutions[i];\n",
    "//     string GridName = $\"OscillatingDroplet3D_{Res}x{Res}x{2*Res}_pressureOutletBC_quarterDomain\";\n",
    "\n",
    "//     IGridInfo cachedGrid = wmg.Grids.FirstOrDefault(grid => grid.Name == GridName);\n",
    "//     //cachedGrid = null;\n",
    "//     if(cachedGrid == null) {\n",
    "        \n",
    "//         // must create new Grid\n",
    "//         double[] xNodes = GenericBlas.Linspace(0, 2*scale, Res + 1);\n",
    "//         double[] yNodes = xNodes;\n",
    "//         double[] zNodes = GenericBlas.Linspace(-2*scale, 2*scale, Res*2 + 1);\n",
    "        \n",
    "//         var grd = Grid3D.Cartesian3DGrid(xNodes, yNodes, zNodes);\n",
    "//         grd.Name = GridName;\n",
    "        \n",
    "//         grd.DefineEdgeTags(delegate(Vector X) {\n",
    "//             string ret = null;\n",
    "//             if(X.x.Abs() <= 1e-8 || X.y.Abs() <= 1.0e-8)\n",
    "//                 ret = IncompressibleBcType.SlipSymmetry.ToString();\n",
    "//             else\n",
    "//                 ret = IncompressibleBcType.Pressure_Outlet.ToString();\n",
    "//             return ret;\n",
    "//         });        \n",
    "        \n",
    "//         Grids[i] = wmg.SaveGrid(grd);\n",
    "        \n",
    "//     } else {\n",
    "//         //Console.WriteLine($\"type: {cachedGrid.GetType()}, is IGridInfo? {cachedGrid is IGridInfo}\");\n",
    "//         Console.WriteLine(\"Grid already found in database - identifid by name \" + GridName);\n",
    "//         Grids[i] = cachedGrid;\n",
    "//     }\n",
    "    \n",
    "// }\n",
    "// gridTypes.Add(\"refinedTest\", Grids);"
   ]
  },
  {
   "cell_type": "code",
   "execution_count": null,
   "metadata": {
    "dotnet_interactive": {
     "language": "csharp"
    }
   },
   "outputs": [
    {
     "data": {
      "text/html": [
       "<table><thead><tr><th><i>key</i></th><th>value</th></tr></thead><tbody><tr><td>wallBC</td><td>[ { Guid = eb0268bd-e30e-4ffd-8b96-9f718b65012a; Name = OscillatingDroplet3D_6x6x12_quarterDomain; Cell Count = 432; Dim = 3 } ]</td></tr></tbody></table>"
      ]
     },
     "metadata": {},
     "output_type": "display_data"
    }
   ],
   "source": [
    "gridTypes"
   ]
  },
  {
   "cell_type": "code",
   "execution_count": null,
   "metadata": {
    "dotnet_interactive": {
     "language": "csharp"
    }
   },
   "outputs": [],
   "source": [
    "//var g = (wmg.Grids[0] as GridProxy).RealGrid;"
   ]
  },
  {
   "cell_type": "code",
   "execution_count": null,
   "metadata": {
    "dotnet_interactive": {
     "language": "csharp"
    }
   },
   "outputs": [],
   "source": [
    "//(g.iGridData as GridData).GlobalBoundingBox"
   ]
  },
  {
   "cell_type": "code",
   "execution_count": null,
   "metadata": {
    "dotnet_interactive": {
     "language": "csharp"
    }
   },
   "outputs": [],
   "source": [
    "//wmg.Sessions[0].Delete(true);"
   ]
  },
  {
   "cell_type": "markdown",
   "metadata": {
    "dotnet_interactive": {
     "language": "csharp"
    }
   },
   "source": [
    "## Setup of control objects for all solver runs"
   ]
  },
  {
   "cell_type": "code",
   "execution_count": null,
   "metadata": {
    "dotnet_interactive": {
     "language": "csharp"
    }
   },
   "outputs": [
    {
     "data": {
      "text/html": [
       "<table><thead><tr><th><i>index</i></th><th>value</th></tr></thead><tbody><tr><td>0</td><td>m2_Oh01_eta04</td></tr><tr><td>1</td><td>m2_Oh01_eta02</td></tr><tr><td>2</td><td>m2_Oh01_eta01</td></tr><tr><td>3</td><td>m3_Oh01_eta04</td></tr><tr><td>4</td><td>m4_Oh01_eta04</td></tr><tr><td>5</td><td>m4_Oh01_eta01</td></tr><tr><td>6</td><td>m4_Oh056_eta005</td></tr></tbody></table>"
      ]
     },
     "metadata": {},
     "output_type": "display_data"
    }
   ],
   "source": [
    "cases"
   ]
  },
  {
   "cell_type": "code",
   "execution_count": null,
   "metadata": {
    "dotnet_interactive": {
     "language": "csharp"
    }
   },
   "outputs": [],
   "source": [
    "Dictionary<string, (double Ohnesorge, int AMRlevel, double dt, int timesteps)> casesSetUp = new Dictionary<string, (double Ohnesorge, int AMRlevel, double dt, int timesteps)>();"
   ]
  },
  {
   "cell_type": "code",
   "execution_count": null,
   "metadata": {
    "dotnet_interactive": {
     "language": "csharp"
    }
   },
   "outputs": [],
   "source": [
    "casesSetUp.Add(\"m2_Oh01_eta04\", (0.1, 1, 5e-3, 1400));\n",
    "casesSetUp.Add(\"m2_Oh01_eta02\", (0.1, 1, 5e-3, 1400));\n",
    "casesSetUp.Add(\"m2_Oh01_eta01\", (0.1, 1, 5e-3, 1400));\n",
    "casesSetUp.Add(\"m3_Oh01_eta04\", (0.1, 2, 2e-3, 3500));\n",
    "casesSetUp.Add(\"m3_Oh01_eta015\", (0.1, 2, 2e-3, 3500));\n",
    "casesSetUp.Add(\"m4_Oh01_eta04\", (0.1, 1, 5e-3, 1400));\n",
    "casesSetUp.Add(\"m4_Oh01_eta01\", (0.1, 1, 5e-3, 1400));\n",
    "casesSetUp.Add(\"m4_Oh056_eta005\", (0.56, 1, 5e-3, 800));"
   ]
  },
  {
   "cell_type": "code",
   "execution_count": null,
   "metadata": {
    "dotnet_interactive": {
     "language": "csharp"
    }
   },
   "outputs": [],
   "source": [
    "string[] gridTypeKeys = new string[] { \"wallBC\" }; ///{ \"wallBC\", \"pressureOutletBC\", \"refinedTest\" };"
   ]
  },
  {
   "cell_type": "code",
   "execution_count": null,
   "metadata": {
    "dotnet_interactive": {
     "language": "csharp"
    }
   },
   "outputs": [
    {
     "name": "stdout",
     "output_type": "stream",
     "text": [
      "Case 1: OD3D_J432k3_wallBC_amr1_m2_Oh01_eta04\r\n",
      "Case 2: OD3D_J432k3_wallBC_amr1_m2_Oh01_eta02\r\n",
      "Case 3: OD3D_J432k3_wallBC_amr1_m2_Oh01_eta01\r\n",
      "Case 4: OD3D_J432k3_wallBC_amr1_m3_Oh01_eta04\r\n",
      "Case 5: OD3D_J432k3_wallBC_amr1_m4_Oh01_eta04\r\n",
      "Case 6: OD3D_J432k3_wallBC_amr1_m4_Oh01_eta01\r\n",
      "Case 7: OD3D_J432k3_wallBC_amr1_m4_Oh056_eta005\r\n"
     ]
    }
   ],
   "source": [
    "List<XNSE_Control> Controls = new List<XNSE_Control>();\n",
    "Controls.Clear();\n",
    "int[] DegreeS = new int[] { 3 };\n",
    "bool[] useInitial = new bool[] { true, false };\n",
    "bool[] useNewton = new bool[] { false };\n",
    "\n",
    "// string grdKey = gridTypeKeys[1];\n",
    "// Grids = gridTypes[grdKey];\n",
    "\n",
    "foreach(bool bInitial in useInitial) {\n",
    "foreach(bool bNewton in useNewton) {\n",
    "foreach(int k in DegreeS) {\n",
    "foreach(string grdKey in gridTypeKeys) {\n",
    "foreach(var grd in gridTypes[grdKey]) {\n",
    "int iCase = 0;\n",
    "foreach(var myCase in cases) {\n",
    "    long J = grd.NumberOfCells;\n",
    "    int AMRlvl = casesSetUp[myCase].AMRlevel;\n",
    "    string JobName = $\"OD3D_J{J}k{k}_{grdKey}_amr{AMRlvl}_{myCase}\";\n",
    "    if(bInitial) {\n",
    "        JobName = JobName + \"_thirdOrderInit\";\n",
    "    }\n",
    "    if(bNewton) {\n",
    "        JobName = JobName + \"_Newton\";\n",
    "    }\n",
    "    Console.WriteLine($\"Case {iCase+1}: \" + JobName);\n",
    "    iCase++;\n",
    "\n",
    "    var C = new XNSE_Control();\n",
    "    \n",
    "    C.SetGrid(grd);\n",
    "    C.SetDGdegree(k);\n",
    "    C.SessionName = JobName;\n",
    "    \n",
    "    C.InitialValues.Add(\"Phi\", casesPhi[myCase]);\n",
    "    \n",
    "    C.PhysicalParameters.IncludeConvection = true;\n",
    "    C.PhysicalParameters.rho_A = 1;\n",
    "    C.PhysicalParameters.rho_B = 0.001;\n",
    "    C.PhysicalParameters.mu_A = casesSetUp[myCase].Ohnesorge;\n",
    "    C.PhysicalParameters.mu_B = casesSetUp[myCase].Ohnesorge/1000;\n",
    "    C.PhysicalParameters.reynolds_B = 0.0;\n",
    "    C.PhysicalParameters.reynolds_A = 0.0;\n",
    "    C.PhysicalParameters.Sigma = 1;\n",
    "    C.PhysicalParameters.pFree = 0.0;\n",
    "    C.PhysicalParameters.mu_I = 0.0;\n",
    "    C.PhysicalParameters.lambda_I = 0.0;\n",
    "    C.PhysicalParameters.lambdaI_tilde = -1.0;\n",
    "    C.PhysicalParameters.betaS_A = 0.0;\n",
    "    C.PhysicalParameters.betaS_B = 0.0;\n",
    "    C.PhysicalParameters.betaL = 0.0;\n",
    "    C.PhysicalParameters.theta_e = 1.5707963267948966;\n",
    "    C.PhysicalParameters.sliplength = 0.0;\n",
    "    C.PhysicalParameters.Material = true;\n",
    "    C.PhysicalParameters.useArtificialSurfaceForce = false;\n",
    "    \n",
    "    C.Option_LevelSetEvolution = BoSSS.Solution.LevelSetTools.LevelSetEvolution.StokesExtension;\n",
    "    C.AdvancedDiscretizationOptions.SST_isotropicMode = SurfaceStressTensor_IsotropicMode.LaplaceBeltrami_ContactLine;\n",
    "    C.LSContiProjectionMethod = ContinuityProjectionOption.ConstrainedDG;\n",
    "    \n",
    "    C.TimeSteppingScheme = TimeSteppingScheme.BDF3;\n",
    "    if(bNewton) {\n",
    "        C.NonLinearSolver.SolverCode = NonLinearSolverCode.Newton;\n",
    "    } else {\n",
    "        C.NonLinearSolver.SolverCode = NonLinearSolverCode.Picard;\n",
    "    }\n",
    "    C.NonLinearSolver.ConvergenceCriterion = 1e-9;\n",
    "    C.NonLinearSolver.MinSolverIterations = 3;\n",
    "    C.Timestepper_BDFinit = TimeStepperInit.SingleInit;\n",
    "    C.Timestepper_LevelSetHandling = LevelSetHandling.Coupled_Once;\n",
    "    C.TimesteppingMode = AppControl._TimesteppingMode.Transient;\n",
    "    C.dtFixed = casesSetUp[myCase].dt;\n",
    "    C.NoOfTimesteps = casesSetUp[myCase].timesteps;\n",
    "    \n",
    "    if(AMRlvl > 0) {\n",
    "        C.AdaptiveMeshRefinement = true;\n",
    "        C.activeAMRlevelIndicators.Add(\n",
    "            new AMRonNarrowband() { maxRefinementLevel = AMRlvl }\n",
    "        );\n",
    "    }\n",
    "    \n",
    "    if(bInitial) {\n",
    "        C.AddInitialValue(\"VelocityX#A\", analyticVel[myCase].velX);\n",
    "        //C.AddInitialValue(\"VelocityX#B\", anaVel[myCase.Case - 1, 0]);\n",
    "        C.AddInitialValue(\"VelocityY#A\", analyticVel[myCase].velY);\n",
    "        //C.AddInitialValue(\"VelocityY#B\", anaVel[myCase.Case - 1, 1]);\n",
    "        C.AddInitialValue(\"VelocityZ#A\", analyticVel[myCase].velZ);\n",
    "        //C.AddInitialValue(\"VelocityZ#B\", anaVel[myCase.Case - 1, 2]);\n",
    "    }\n",
    "    \n",
    "    C.PostprocessingModules.Add(new SphericalHarmonicsLogging() { MaxL = 8, RotSymmetric = true });\n",
    "    C.PostprocessingModules.Add(new DropletMetricsLogging() { AxisSymmetric = true });\n",
    "    C.PostprocessingModules.Add(new EnergyLogging());\n",
    "    \n",
    "    C.TracingNamespaces = \"*\";\n",
    "    \n",
    "    Controls.Add(C);\n",
    "    \n",
    "}\n",
    "}\n",
    "}\n",
    "}\n",
    "}\n",
    "}"
   ]
  },
  {
   "cell_type": "code",
   "execution_count": null,
   "metadata": {
    "dotnet_interactive": {
     "language": "csharp"
    }
   },
   "outputs": [],
   "source": [
    "int NC = Controls.Count;\n",
    "for(int i = 0; i < NC; i++) {\n",
    "    for(int j = 0; j < NC; j++) {\n",
    "        if(i == j)\n",
    "            Assert.IsTrue(Controls[i].Equals(Controls[j]), \"Control is not self-equal for \" + i);\n",
    "        else\n",
    "            Assert.IsFalse(Controls[i].Equals(Controls[j]), \"Different Control are wrongly equal for \" + i + \" and \" + j);\n",
    "    }\n",
    "}"
   ]
  },
  {
   "cell_type": "markdown",
   "metadata": {
    "dotnet_interactive": {
     "language": "csharp"
    }
   },
   "source": [
    "## Launch Jobs"
   ]
  },
  {
   "cell_type": "code",
   "execution_count": null,
   "metadata": {
    "dotnet_interactive": {
     "language": "csharp"
    }
   },
   "outputs": [
    {
     "data": {
      "text/html": [
       "<table><thead><tr><th><i>index</i></th><th>value</th></tr></thead><tbody><tr><td>0</td><td>OD3D_J1024k3_refinedTest_amr0_case2_Oh0.1_StartUp</td></tr></tbody></table>"
      ]
     },
     "metadata": {},
     "output_type": "display_data"
    }
   ],
   "source": [
    "Controls.Select(C => C.SessionName)"
   ]
  },
  {
   "cell_type": "code",
   "execution_count": null,
   "metadata": {
    "dotnet_interactive": {
     "language": "csharp"
    }
   },
   "outputs": [
    {
     "name": "stdout",
     "output_type": "stream",
     "text": [
      "Deploying job OD3D_J1024k3_refinedTest_amr0_case2_Oh0.1_StartUp ... \r\n",
      "Deploying executables and additional files ...\r\n",
      "Deployment directory: D:\\local\\binaries\\OscillatingDroplet3D-XNSE_Solver2022Mar25_083116\r\n",
      "copied 50 files.\r\n",
      "   written file: control.obj\r\n",
      "deployment finished.\r\n",
      "Mini batch processor is already running.\r\n",
      "\r\n"
     ]
    }
   ],
   "source": [
    "foreach(var ctrl in Controls) {\n",
    "    var oneJob              = ctrl.CreateJob();\n",
    "    oneJob.NumberOfMPIProcs = 1;\n",
    "    oneJob.Activate(myBatch); \n",
    "}"
   ]
  },
  {
   "cell_type": "code",
   "execution_count": null,
   "metadata": {
    "dotnet_interactive": {
     "language": "csharp"
    }
   },
   "outputs": [
    {
     "data": {
      "text/plain": [
       "#0: OD3D_J1024k3_refinedTest_amr0_case2_Oh0.1_StartUp: PendingInExecutionQueue (MiniBatchProcessor client  LocalPC @D:\\local\\binaries)\tOD3D_J1024k3_refinedTest_amr0_case2_Oh0.1_StartUp: InProgress (MiniBatchProcessor client  LocalPC @D:\\local\\binaries)\r\n"
      ]
     },
     "metadata": {},
     "output_type": "display_data"
    }
   ],
   "source": [
    "wmg.AllJobs"
   ]
  },
  {
   "cell_type": "code",
   "execution_count": null,
   "metadata": {
    "dotnet_interactive": {
     "language": "csharp"
    }
   },
   "outputs": [
    {
     "ename": "Error",
     "evalue": "System.OperationCanceledException: Command :SubmitCode: // wait for all jobs to finish (up to 5 days, chec ... cancelled.",
     "output_type": "error",
     "traceback": [
      "System.OperationCanceledException: Command :SubmitCode: // wait for all jobs to finish (up to 5 days, chec ... cancelled."
     ]
    }
   ],
   "source": [
    "// wait for all jobs to finish (up to 5 days, check every 30 minutes)\n",
    "BoSSSshell.WorkflowMgm.BlockUntilAllJobsTerminate(TimeOutSeconds:(3600), PollingIntervallSeconds:(60*30));"
   ]
  },
  {
   "cell_type": "code",
   "execution_count": null,
   "metadata": {
    "dotnet_interactive": {
     "language": "csharp"
    }
   },
   "outputs": [],
   "source": [
    "// detect failed Jobs in the job management\n",
    "/*\n",
    "var suspects = BoSSSshell.WorkflowMgm.AllJobs.Select(kv => kv.Value)\n",
    "    .Where(job => job.LatestSession.Tags.Contains(SessionInfo.NOT_TERMINATED_TAG)\n",
    "                  || job.LatestSession.Tags.Contains(SessionInfo.SOLVER_ERROR)).ToArray();\n",
    "suspects\n",
    "*/"
   ]
  },
  {
   "cell_type": "code",
   "execution_count": null,
   "metadata": {
    "dotnet_interactive": {
     "language": "csharp"
    }
   },
   "outputs": [],
   "source": [
    "//suspects.Count()"
   ]
  },
  {
   "cell_type": "code",
   "execution_count": null,
   "metadata": {
    "dotnet_interactive": {
     "language": "csharp"
    }
   },
   "outputs": [],
   "source": [
    "//NUnit.Framework.Assert.IsTrue(suspects.Count() <= 0, $\"{suspects.Count()} Failed Jobs of {BoSSSshell.WorkflowMgm.AllJobs.Count()} in total.\");"
   ]
  },
  {
   "cell_type": "markdown",
   "metadata": {},
   "source": [
    "### Inspect the output of some arbitrary job:"
   ]
  },
  {
   "cell_type": "code",
   "execution_count": null,
   "metadata": {
    "dotnet_interactive": {
     "language": "csharp"
    }
   },
   "outputs": [
    {
     "name": "stdout",
     "output_type": "stream",
     "text": [
      "Starting external console ...\r\n",
      "(You may close the new window at any time, the job will continue.)\r\n"
     ]
    }
   ],
   "source": [
    "BoSSSshell.WorkflowMgm.AllJobs.First().Value.ShowOutput();"
   ]
  },
  {
   "cell_type": "code",
   "execution_count": null,
   "metadata": {
    "dotnet_interactive": {
     "language": "csharp"
    }
   },
   "outputs": [],
   "source": [
    "//wmg.Sessions[0].Export().WithSupersampling(2).Do()"
   ]
  },
  {
   "cell_type": "code",
   "execution_count": null,
   "metadata": {
    "dotnet_interactive": {
     "language": "csharp"
    }
   },
   "outputs": [],
   "source": []
  }
 ],
 "metadata": {
  "kernelspec": {
   "display_name": ".NET (C#)",
   "language": "C#",
   "name": ".net-csharp"
  },
  "language_info": {
   "file_extension": ".cs",
   "mimetype": "text/x-csharp",
   "name": "C#",
   "pygments_lexer": "csharp",
   "version": "9.0"
  }
 },
 "nbformat": 4,
 "nbformat_minor": 4
}
