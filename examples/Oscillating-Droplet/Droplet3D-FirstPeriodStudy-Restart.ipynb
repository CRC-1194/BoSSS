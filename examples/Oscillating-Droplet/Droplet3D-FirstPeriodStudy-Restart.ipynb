{
 "cells": [
  {
   "cell_type": "markdown",
   "metadata": {},
   "source": [
    "# 3D Droplet Oscillation\n",
    "\n",
    "Results published: hopefully at some point!\n",
    "\n",
    "It is part of the BoSSS-long-term validation test suite, which consists of \n",
    "several computationally expensive test-cases (runtime in the order of days),\n",
    "which are performed on a regular basis in order to validate the \n",
    "physical correctness of BoSSS simulations.\n"
   ]
  },
  {
   "cell_type": "markdown",
   "metadata": {},
   "source": [
    "### Preliminaries\n",
    "\n",
    "This example can be found in the source code repository as as `Droplet3D.ipynb`. \n",
    "One can directly load this into Jupyter to interactively work with the following code examples.\n",
    "\n",
    "Note: First, BoSSS has to be loaded into the Jupyter kernel. Note:\n",
    "In the following line, the reference to `BoSSSpad.dll` is required. \n",
    "One must either set `#r \"BoSSSpad.dll\"` to something which is appropirate for the current computer\n",
    "(e.g. `C:\\Program Files (x86)\\FDY\\BoSSS\\bin\\Release\\net5.0\\BoSSSpad.dll` if working with the binary distribution), \n",
    "or, if one is working with the source code, one must compile `BoSSSpad`\n",
    "and put it side-by-side to this worksheet file \n",
    "(from the original location in the repository, one can use the scripts `getbossspad.sh`, resp. `getbossspad.bat`).\n"
   ]
  },
  {
   "cell_type": "code",
   "execution_count": null,
   "metadata": {
    "dotnet_interactive": {
     "language": "csharp"
    }
   },
   "outputs": [],
   "source": [
    "//#r \"../../src/L4-application/BoSSSpad/bin/Release/net5.0/BoSSSpad.dll\"\n",
    "//#r \"../../src/L4-application/BoSSSpad/bin/Debug/net5.0/BoSSSpad.dll\"\n",
    "#r \"BoSSSpad.dll\"\n",
    "using System;\n",
    "using System.Collections.Generic;\n",
    "using System.Linq;\n",
    "using ilPSP;\n",
    "using ilPSP.Utils;\n",
    "using BoSSS.Platform;\n",
    "using BoSSS.Foundation;\n",
    "using BoSSS.Foundation.XDG;\n",
    "using BoSSS.Foundation.Grid;\n",
    "using BoSSS.Foundation.Grid.Classic;\n",
    "using BoSSS.Foundation.IO;\n",
    "using BoSSS.Solution;\n",
    "using BoSSS.Solution.Control;\n",
    "using BoSSS.Solution.GridImport;\n",
    "using BoSSS.Solution.Statistic;\n",
    "using BoSSS.Solution.Utils;\n",
    "using BoSSS.Solution.AdvancedSolvers;\n",
    "using BoSSS.Solution.Gnuplot;\n",
    "using BoSSS.Application.BoSSSpad;\n",
    "using BoSSS.Application.XNSE_Solver;\n",
    "using static BoSSS.Application.BoSSSpad.BoSSSshell;\n",
    "Init();"
   ]
  },
  {
   "cell_type": "markdown",
   "metadata": {},
   "source": [
    "## Initialization tasks"
   ]
  },
  {
   "cell_type": "markdown",
   "metadata": {},
   "source": [
    "Loading the `XNSE_Solver` and additional namespace:"
   ]
  },
  {
   "cell_type": "code",
   "execution_count": null,
   "metadata": {
    "dotnet_interactive": {
     "language": "csharp"
    }
   },
   "outputs": [],
   "source": [
    "using BoSSS.Application.XNSE_Solver;\n",
    "using BoSSS.Application.XNSE_Solver.PhysicalBasedTestcases;\n",
    "using BoSSS.Solution.NSECommon;\n",
    "using BoSSS.Solution.XNSECommon;\n",
    "using BoSSS.Solution.LevelSetTools.SolverWithLevelSetUpdater;\n",
    "using NUnit.Framework;\n",
    "using BoSSS.Application.XNSE_Solver.Logging;\n",
    "using BoSSS.Solution.LevelSetTools;\n",
    "using BoSSS.Solution.XdgTimestepping;\n",
    "using BoSSS.Solution.Timestepping;"
   ]
  },
  {
   "cell_type": "markdown",
   "metadata": {},
   "source": [
    "Initialization of the Workflow management; there `OscillatingDroplet3D` is the project name which is used name all computations (aka. sessions):"
   ]
  },
  {
   "cell_type": "code",
   "execution_count": null,
   "metadata": {
    "dotnet_interactive": {
     "language": "csharp"
    }
   },
   "outputs": [
    {
     "name": "stdout",
     "output_type": "stream",
     "text": [
      "Project name is set to 'OscillatingDroplet3D_FirstPeriodStudy'.\r\n",
      "Opening existing database 'D:\\local\\OscillatingDroplet3D_FirstPeriodStudy'.\r\n"
     ]
    }
   ],
   "source": [
    "BoSSSshell.WorkflowMgm.Init(\"OscillatingDroplet3D_FirstPeriodStudy\");"
   ]
  },
  {
   "cell_type": "markdown",
   "metadata": {},
   "source": [
    "Overview on the available *Execution Queues* (aka. *Batch Processors*, aka. *Batch System*); these e.g. Linux HPC clusters on which compute jobs can be executed."
   ]
  },
  {
   "cell_type": "code",
   "execution_count": null,
   "metadata": {
    "dotnet_interactive": {
     "language": "csharp"
    }
   },
   "outputs": [
    {
     "data": {
      "text/html": [
       "<table><thead><tr><th><i>index</i></th><th><i>type</i></th><th>DeploymentBaseDirectory</th><th>DeployRuntime</th><th>Name</th><th>DotnetRuntime</th><th>BatchInstructionDir</th><th>AllowedDatabasesPaths</th><th>Username</th><th>ServerName</th><th>ComputeNodes</th><th>DefaultJobPriority</th><th>SingleNode</th></tr></thead><tbody><tr><td>0</td><td>BoSSS.Application.BoSSSpad.MiniBatchProcessorClient</td><td>D:\\local\\binaries</td><td>False</td><td>LocalPC</td><td>dotnet</td><td><div class=\"dni-plaintext\">&lt;null&gt;</div></td><td>[ D:\\local\\ ==  ]</td><td></td><td></td><td></td><td></td><td></td></tr><tr><td>1</td><td>BoSSS.Application.BoSSSpad.MsHPC2012Client</td><td>\\\\hpccluster\\hpccluster-scratch\\smuda\\binaries</td><td>False</td><td>FDY-WindowsHPC</td><td>dotnet</td><td></td><td>[ \\\\hpccluster\\hpccluster-scratch\\smuda\\ ==  ]</td><td>FDY\\smuda</td><td>DC2</td><td><div class=\"dni-plaintext\">&lt;null&gt;</div></td><td>Normal</td><td>True</td></tr></tbody></table>"
      ]
     },
     "metadata": {},
     "output_type": "display_data"
    }
   ],
   "source": [
    "ExecutionQueues"
   ]
  },
  {
   "cell_type": "markdown",
   "metadata": {},
   "source": [
    "For this example (which is part of the BoSSS validation tests), a *default queue* is selected to run all jobs in the convergence study:"
   ]
  },
  {
   "cell_type": "code",
   "execution_count": null,
   "metadata": {
    "dotnet_interactive": {
     "language": "csharp"
    }
   },
   "outputs": [
    {
     "data": {
      "text/html": [
       "<table><thead><tr><th>DeploymentBaseDirectory</th><th>DeployRuntime</th><th>Name</th><th>DotnetRuntime</th><th>Username</th><th>ServerName</th><th>ComputeNodes</th><th>DefaultJobPriority</th><th>SingleNode</th><th>AllowedDatabasesPaths</th></tr></thead><tbody><tr><td><div class=\"dni-plaintext\">\\\\hpccluster\\hpccluster-scratch\\smuda\\binaries</div></td><td><div class=\"dni-plaintext\">False</div></td><td><div class=\"dni-plaintext\">FDY-WindowsHPC</div></td><td><div class=\"dni-plaintext\">dotnet</div></td><td><div class=\"dni-plaintext\">FDY\\smuda</div></td><td><div class=\"dni-plaintext\">DC2</div></td><td><div class=\"dni-plaintext\">&lt;null&gt;</div></td><td><div class=\"dni-plaintext\">Normal</div></td><td><div class=\"dni-plaintext\">True</div></td><td><div class=\"dni-plaintext\">[ \\\\hpccluster\\hpccluster-scratch\\smuda\\ ==  ]</div></td></tr></tbody></table>"
      ]
     },
     "metadata": {},
     "output_type": "display_data"
    }
   ],
   "source": [
    "var myBatch = ExecutionQueues[1];\n",
    "//var myBatch = GetDefaultQueue();\n",
    "myBatch"
   ]
  },
  {
   "cell_type": "markdown",
   "metadata": {},
   "source": [
    "## Restart Infos"
   ]
  },
  {
   "cell_type": "code",
   "execution_count": null,
   "metadata": {
    "dotnet_interactive": {
     "language": "csharp"
    }
   },
   "outputs": [
    {
     "name": "stdout",
     "output_type": "stream",
     "text": [
      "Opening existing database '\\\\hpccluster\\hpccluster-scratch\\smuda\\OscillatingDroplet3D_FirstPeriodStudy'.\r\n"
     ]
    }
   ],
   "source": [
    "OpenOrCreateDatabase(@\"\\\\hpccluster\\hpccluster-scratch\\smuda\\OscillatingDroplet3D_FirstPeriodStudy\");\n",
    "//OpenOrCreateDatabase(@\"\\\\dc1\\userspace\\smuda\\Databases\\OscillatingDroplet3D\");"
   ]
  },
  {
   "cell_type": "code",
   "execution_count": null,
   "metadata": {
    "dotnet_interactive": {
     "language": "csharp"
    }
   },
   "outputs": [
    {
     "data": {
      "text/plain": [
       "#0: OscillatingDroplet3D_FirstPeriodStudy\tOD3D_J686k3_wallBC_amr1_m2_Oh01_eta06_restart1*\t05/20/2022 16:43:42\tc9ef995c...\r\n",
       "#1: OscillatingDroplet3D_FirstPeriodStudy\tOD3D_J686k3_wallBC_amr1_m2_Oh01_eta03_restart1*\t05/20/2022 16:43:34\t72f1baaa...\r\n",
       "#2: OscillatingDroplet3D_FirstPeriodStudy\tOD3D_J686k3_wallBC_amr1_m4_Oh01_eta05\t04/08/2022 11:32:02\t9173b638...\r\n",
       "#3: OscillatingDroplet3D_FirstPeriodStudy\tOD3D_J686k3_wallBC_amr1_m4_Oh01_eta06\t04/08/2022 11:31:47\t6feb68ca...\r\n",
       "#4: OscillatingDroplet3D_FirstPeriodStudy\tOD3D_J686k3_wallBC_amr1_m4_Oh01_eta02\t04/08/2022 11:32:41\t012ffd75...\r\n",
       "#5: OscillatingDroplet3D_FirstPeriodStudy\tOD3D_J686k3_wallBC_amr1_m4_Oh01_eta03\t04/08/2022 11:32:24\t1de3f59e...\r\n",
       "#6: OscillatingDroplet3D_FirstPeriodStudy\tOD3D_J686k3_wallBC_amr1_m4_Oh01_eta07\t04/08/2022 11:31:37\tde146e9e...\r\n",
       "#7: OscillatingDroplet3D_FirstPeriodStudy\tOD3D_J686k3_wallBC_amr1_m3_Oh01_eta05*\t04/08/2022 11:31:21\tc6cd6b17...\r\n",
       "#8: OscillatingDroplet3D_FirstPeriodStudy\tOD3D_J686k3_wallBC_amr1_m3_Oh01_eta06*\t04/08/2022 11:31:06\t06d53502...\r\n",
       "#9: OscillatingDroplet3D_FirstPeriodStudy\tOD3D_J686k3_wallBC_amr1_m3_Oh01_eta07*\t04/08/2022 11:30:52\t714bd2c2...\r\n",
       "#10: OscillatingDroplet3D_FirstPeriodStudy\tOD3D_J686k3_wallBC_amr1_m2_Oh01_eta03*\t04/08/2022 11:30:37\t56519a35...\r\n",
       "#11: OscillatingDroplet3D_FirstPeriodStudy\tOD3D_J686k3_wallBC_amr1_m2_Oh01_eta05*\t04/08/2022 11:30:25\t6f21cae2...\r\n",
       "#12: OscillatingDroplet3D_FirstPeriodStudy\tOD3D_J686k3_wallBC_amr1_m2_Oh01_eta06*\t04/08/2022 11:30:08\t71fcecb0...\r\n",
       "#13: OscillatingDroplet3D_FirstPeriodStudy\tOD3D_J686k3_wallBC_amr1_m2_Oh01_eta07*\t04/08/2022 11:29:57\tbb4b0796...\r\n"
      ]
     },
     "metadata": {},
     "output_type": "display_data"
    }
   ],
   "source": [
    "wmg.Sessions"
   ]
  },
  {
   "cell_type": "code",
   "execution_count": null,
   "metadata": {
    "dotnet_interactive": {
     "language": "csharp"
    }
   },
   "outputs": [
    {
     "name": "stdout",
     "output_type": "stream",
     "text": [
      "Session 83c5ca35-e67b-4a49-967a-18c672b5052e deleted.\r\n"
     ]
    }
   ],
   "source": [
    "//wmg.Sessions.Pick(1).Delete(true);"
   ]
  },
  {
   "cell_type": "code",
   "execution_count": null,
   "metadata": {
    "dotnet_interactive": {
     "language": "csharp"
    }
   },
   "outputs": [
    {
     "data": {
      "text/plain": [
       "#0: OscillatingDroplet3D_FirstPeriodStudy\tOD3D_J686k3_wallBC_amr1_m2_Oh01_eta03*\t04/08/2022 11:30:37\t56519a35...\r\n",
       "#1: OscillatingDroplet3D_FirstPeriodStudy\tOD3D_J686k3_wallBC_amr1_m2_Oh01_eta05*\t04/08/2022 11:30:25\t6f21cae2...\r\n",
       "#2: OscillatingDroplet3D_FirstPeriodStudy\tOD3D_J686k3_wallBC_amr1_m2_Oh01_eta06*\t04/08/2022 11:30:08\t71fcecb0...\r\n",
       "#3: OscillatingDroplet3D_FirstPeriodStudy\tOD3D_J686k3_wallBC_amr1_m2_Oh01_eta07*\t04/08/2022 11:29:57\tbb4b0796...\r\n"
      ]
     },
     "metadata": {},
     "output_type": "display_data"
    }
   ],
   "source": [
    "var restartSessions = wmg.Sessions.Skip(8);\n",
    "restartSessions"
   ]
  },
  {
   "cell_type": "code",
   "execution_count": null,
   "metadata": {
    "dotnet_interactive": {
     "language": "csharp"
    }
   },
   "outputs": [],
   "source": [
    "List<(string sessionName, Guid restartID, string caseName)> cases = new List<(string sessionName, Guid restartID, string caseName)>();\n",
    "int nCase = 0;\n",
    "cases.Add((restartSessions.ElementAt(0).Name, restartSessions.ElementAt(0).ID, \"m2_Oh01_eta03\"));\n",
    "cases.Add((restartSessions.ElementAt(1).Name, restartSessions.ElementAt(1).ID, \"m2_Oh01_eta05\"));\n",
    "cases.Add((restartSessions.ElementAt(2).Name, restartSessions.ElementAt(2).ID, \"m2_Oh01_eta06\"));\n",
    "cases.Add((restartSessions.ElementAt(3).Name, restartSessions.ElementAt(3).ID, \"m2_Oh01_eta07\"));"
   ]
  },
  {
   "cell_type": "markdown",
   "metadata": {
    "dotnet_interactive": {
     "language": "csharp"
    }
   },
   "source": [
    "## Setup of control objects for all solver runs"
   ]
  },
  {
   "cell_type": "code",
   "execution_count": null,
   "metadata": {
    "dotnet_interactive": {
     "language": "csharp"
    }
   },
   "outputs": [
    {
     "data": {
      "text/html": [
       "<table><thead><tr><th><i>index</i></th><th>Item1</th><th>Item2</th><th>Item3</th></tr></thead><tbody><tr><td>0</td><td>OD3D_J686k3_wallBC_amr1_m2_Oh01_eta03</td><td>56519a35-fccc-4934-9bb1-f69e5a25a481</td><td>m2_Oh01_eta03</td></tr><tr><td>1</td><td>OD3D_J686k3_wallBC_amr1_m2_Oh01_eta05</td><td>6f21cae2-f82e-4059-a56c-139aee80115f</td><td>m2_Oh01_eta05</td></tr><tr><td>2</td><td>OD3D_J686k3_wallBC_amr1_m2_Oh01_eta06</td><td>71fcecb0-39df-4ce0-a65f-5bb7356a6be7</td><td>m2_Oh01_eta06</td></tr><tr><td>3</td><td>OD3D_J686k3_wallBC_amr1_m2_Oh01_eta07</td><td>bb4b0796-6373-4a28-8b9f-8168bc59b71c</td><td>m2_Oh01_eta07</td></tr></tbody></table>"
      ]
     },
     "metadata": {},
     "output_type": "display_data"
    }
   ],
   "source": [
    "cases"
   ]
  },
  {
   "cell_type": "code",
   "execution_count": null,
   "metadata": {
    "dotnet_interactive": {
     "language": "csharp"
    }
   },
   "outputs": [],
   "source": [
    "Dictionary<string, (double Ohnesorge, int AMRlevel, double dt, int timesteps)> casesSetUp = new Dictionary<string, (double Ohnesorge, int AMRlevel, double dt, int timesteps)>();"
   ]
  },
  {
   "cell_type": "code",
   "execution_count": null,
   "metadata": {
    "dotnet_interactive": {
     "language": "csharp"
    }
   },
   "outputs": [],
   "source": [
    "casesSetUp.Add(\"m2_Oh01_eta07\", (0.1, 1, 5e-3, 600));\n",
    "casesSetUp.Add(\"m2_Oh01_eta06\", (0.1, 1, 5e-3, 600));\n",
    "casesSetUp.Add(\"m2_Oh01_eta05\", (0.1, 1, 5e-3, 600));\n",
    "casesSetUp.Add(\"m2_Oh01_eta03\", (0.1, 1, 5e-3, 600));\n",
    "casesSetUp.Add(\"m3_Oh01_eta07\", (0.1, 1, 5e-3, 300));\n",
    "casesSetUp.Add(\"m3_Oh01_eta06\", (0.1, 1, 5e-3, 300));\n",
    "casesSetUp.Add(\"m3_Oh01_eta05\", (0.1, 1, 5e-3, 300));\n",
    "casesSetUp.Add(\"m3_Oh01_eta03\", (0.1, 1, 5e-3, 300));\n",
    "casesSetUp.Add(\"m4_Oh01_eta07\", (0.1, 1, 5e-3, 300));\n",
    "casesSetUp.Add(\"m4_Oh01_eta06\", (0.1, 1, 5e-3, 300));\n",
    "casesSetUp.Add(\"m4_Oh01_eta05\", (0.1, 1, 5e-3, 300));\n",
    "casesSetUp.Add(\"m4_Oh01_eta03\", (0.1, 1, 5e-3, 300));\n",
    "casesSetUp.Add(\"m4_Oh01_eta02\", (0.1, 1, 5e-3, 300));"
   ]
  },
  {
   "cell_type": "code",
   "execution_count": null,
   "metadata": {
    "dotnet_interactive": {
     "language": "csharp"
    }
   },
   "outputs": [
    {
     "name": "stdout",
     "output_type": "stream",
     "text": [
      "Case 1: OD3D_J686k3_wallBC_amr1_m2_Oh01_eta03_restart1\r\n",
      "Case 2: OD3D_J686k3_wallBC_amr1_m2_Oh01_eta05_restart1\r\n",
      "Case 3: OD3D_J686k3_wallBC_amr1_m2_Oh01_eta06_restart1\r\n",
      "Case 4: OD3D_J686k3_wallBC_amr1_m2_Oh01_eta07_restart1\r\n"
     ]
    }
   ],
   "source": [
    "List<XNSE_Control> Controls = new List<XNSE_Control>();\n",
    "Controls.Clear();\n",
    "int[] DegreeS = new int[] { 3 };\n",
    "bool bNewton = false;\n",
    "\n",
    "foreach(int k in DegreeS) {\n",
    "int iCase = 0;\n",
    "foreach(var myCase in cases) {\n",
    "\n",
    "    string JobName = $\"{myCase.sessionName}_restart1\";\n",
    "\n",
    "    Console.WriteLine($\"Case {iCase+1}: \" + JobName);\n",
    "    iCase++;\n",
    "\n",
    "    var C = new XNSE_Control();\n",
    "    \n",
    "    //C.SetGrid(grd);\n",
    "    C.SetDGdegree(k);\n",
    "    C.SessionName = JobName;\n",
    "    \n",
    "    //C.InitialValues.Add(\"Phi\", casesPhi[myCase]);\n",
    "    C.RestartInfo = new Tuple<Guid, BoSSS.Foundation.IO.TimestepNumber>(myCase.restartID, null);\n",
    "    \n",
    "    C.PhysicalParameters.IncludeConvection = true;\n",
    "    C.PhysicalParameters.rho_A = 1;\n",
    "    C.PhysicalParameters.rho_B = 0.001;\n",
    "    C.PhysicalParameters.mu_A = casesSetUp[myCase.caseName].Ohnesorge;\n",
    "    C.PhysicalParameters.mu_B = casesSetUp[myCase.caseName].Ohnesorge/1000;\n",
    "    C.PhysicalParameters.reynolds_B = 0.0;\n",
    "    C.PhysicalParameters.reynolds_A = 0.0;\n",
    "    C.PhysicalParameters.Sigma = 1;\n",
    "    C.PhysicalParameters.pFree = 0.0;\n",
    "    C.PhysicalParameters.mu_I = 0.0;\n",
    "    C.PhysicalParameters.lambda_I = 0.0;\n",
    "    C.PhysicalParameters.lambdaI_tilde = -1.0;\n",
    "    C.PhysicalParameters.betaS_A = 0.0;\n",
    "    C.PhysicalParameters.betaS_B = 0.0;\n",
    "    C.PhysicalParameters.betaL = 0.0;\n",
    "    C.PhysicalParameters.theta_e = 1.5707963267948966;\n",
    "    C.PhysicalParameters.sliplength = 0.0;\n",
    "    C.PhysicalParameters.Material = true;\n",
    "    C.PhysicalParameters.useArtificialSurfaceForce = false;\n",
    "    \n",
    "    C.Option_LevelSetEvolution = BoSSS.Solution.LevelSetTools.LevelSetEvolution.StokesExtension;\n",
    "    C.AdvancedDiscretizationOptions.SST_isotropicMode = SurfaceStressTensor_IsotropicMode.LaplaceBeltrami_ContactLine;\n",
    "    C.LSContiProjectionMethod = ContinuityProjectionOption.ConstrainedDG;\n",
    "    \n",
    "    C.TimeSteppingScheme = TimeSteppingScheme.BDF3;\n",
    "    if(bNewton) {\n",
    "        C.NonLinearSolver.SolverCode = NonLinearSolverCode.Newton;\n",
    "    } else {\n",
    "        C.NonLinearSolver.SolverCode = NonLinearSolverCode.Picard;\n",
    "        C.NonLinearSolver.ConvergenceCriterion = 1e-9;\n",
    "    }\n",
    "    C.NonLinearSolver.MaxSolverIterations = 50;\n",
    "    C.NonLinearSolver.MinSolverIterations = 3;\n",
    "    C.Timestepper_BDFinit = TimeStepperInit.SingleInit;\n",
    "    C.Timestepper_LevelSetHandling = LevelSetHandling.Coupled_Once;\n",
    "    C.TimesteppingMode = AppControl._TimesteppingMode.Transient;\n",
    "    C.dtFixed = casesSetUp[myCase.caseName].dt;\n",
    "    C.NoOfTimesteps = casesSetUp[myCase.caseName].timesteps;\n",
    "    \n",
    "    int AMRlvl = casesSetUp[myCase.caseName].AMRlevel;\n",
    "    if(AMRlvl > 0) {\n",
    "        C.AdaptiveMeshRefinement = true;\n",
    "        C.activeAMRlevelIndicators.Add(\n",
    "            new AMRonNarrowband() { maxRefinementLevel = AMRlvl }\n",
    "        );\n",
    "    }\n",
    "    \n",
    "    C.PostprocessingModules.Add(new SphericalHarmonicsLogging() { MaxL = 8, RotSymmetric = true });\n",
    "    C.PostprocessingModules.Add(new DropletMetricsLogging() { AxisSymmetric = true });\n",
    "    C.PostprocessingModules.Add(new EnergyLogging());\n",
    "    \n",
    "    C.TracingNamespaces = \"*\";\n",
    "    \n",
    "    Controls.Add(C);\n",
    "    \n",
    "}\n",
    "}"
   ]
  },
  {
   "cell_type": "code",
   "execution_count": null,
   "metadata": {
    "dotnet_interactive": {
     "language": "csharp"
    }
   },
   "outputs": [],
   "source": [
    "int NC = Controls.Count;\n",
    "for(int i = 0; i < NC; i++) {\n",
    "    for(int j = 0; j < NC; j++) {\n",
    "        if(i == j)\n",
    "            Assert.IsTrue(Controls[i].Equals(Controls[j]), \"Control is not self-equal for \" + i);\n",
    "        else\n",
    "            Assert.IsFalse(Controls[i].Equals(Controls[j]), \"Different Control are wrongly equal for \" + i + \" and \" + j);\n",
    "    }\n",
    "}"
   ]
  },
  {
   "cell_type": "markdown",
   "metadata": {
    "dotnet_interactive": {
     "language": "csharp"
    }
   },
   "source": [
    "## Launch Jobs"
   ]
  },
  {
   "cell_type": "code",
   "execution_count": null,
   "metadata": {
    "dotnet_interactive": {
     "language": "csharp"
    }
   },
   "outputs": [
    {
     "data": {
      "text/html": [
       "<table><thead><tr><th><i>index</i></th><th>value</th></tr></thead><tbody><tr><td>0</td><td>OD3D_J686k3_wallBC_amr1_m2_Oh01_eta03_restart1</td></tr><tr><td>1</td><td>OD3D_J686k3_wallBC_amr1_m2_Oh01_eta05_restart1</td></tr><tr><td>2</td><td>OD3D_J686k3_wallBC_amr1_m2_Oh01_eta06_restart1</td></tr><tr><td>3</td><td>OD3D_J686k3_wallBC_amr1_m2_Oh01_eta07_restart1</td></tr></tbody></table>"
      ]
     },
     "metadata": {},
     "output_type": "display_data"
    }
   ],
   "source": [
    "Controls.Select(C => C.SessionName)"
   ]
  },
  {
   "cell_type": "code",
   "execution_count": null,
   "metadata": {
    "dotnet_interactive": {
     "language": "csharp"
    }
   },
   "outputs": [
    {
     "name": "stdout",
     "output_type": "stream",
     "text": [
      "Deploying job OD3D_J686k3_wallBC_amr1_m2_Oh01_eta03_restart1 ... \r\n",
      "Set Database: { Session Count = 12; Grid Count = 103; Path = \\\\hpccluster\\hpccluster-scratch\\smuda\\OscillatingDroplet3D_FirstPeriodStudy }\r\n",
      "Warning: no database is set for the job to submit; nothing may be saved.\r\n",
      "Deploying executables and additional files ...\r\n",
      "Deployment directory: \\\\hpccluster\\hpccluster-scratch\\smuda\\binaries\\OscillatingDroplet3D_FirstPeriodStudy-XNSE_Solver2022May20_164319\r\n",
      "copied 50 files.\r\n",
      "   written file: control.obj\r\n",
      "deployment finished.\r\n",
      "\r\n",
      "Deploying job OD3D_J686k3_wallBC_amr1_m2_Oh01_eta05_restart1 ... \r\n",
      "Set Database: { Session Count = 12; Grid Count = 103; Path = \\\\hpccluster\\hpccluster-scratch\\smuda\\OscillatingDroplet3D_FirstPeriodStudy }\r\n",
      "Warning: no database is set for the job to submit; nothing may be saved.\r\n",
      "Deploying executables and additional files ...\r\n",
      "Deployment directory: \\\\hpccluster\\hpccluster-scratch\\smuda\\binaries\\OscillatingDroplet3D_FirstPeriodStudy-XNSE_Solver2022May20_164327\r\n",
      "copied 50 files.\r\n",
      "   written file: control.obj\r\n",
      "deployment finished.\r\n",
      "\r\n",
      "Deploying job OD3D_J686k3_wallBC_amr1_m2_Oh01_eta06_restart1 ... \r\n",
      "Set Database: { Session Count = 12; Grid Count = 103; Path = \\\\hpccluster\\hpccluster-scratch\\smuda\\OscillatingDroplet3D_FirstPeriodStudy }\r\n",
      "Warning: no database is set for the job to submit; nothing may be saved.\r\n",
      "Deploying executables and additional files ...\r\n",
      "Deployment directory: \\\\hpccluster\\hpccluster-scratch\\smuda\\binaries\\OscillatingDroplet3D_FirstPeriodStudy-XNSE_Solver2022May20_164332\r\n",
      "copied 50 files.\r\n",
      "   written file: control.obj\r\n",
      "deployment finished.\r\n",
      "\r\n",
      "Loading session 83c5ca35-e67b-4a49-967a-18c672b5052e failed with message 'Could not find file '\\\\hpccluster\\hpccluster-scratch\\smuda\\OscillatingDroplet3D_FirstPeriodStudy\\sessions\\83c5ca35-e67b-4a49-967a-18c672b5052e\\Session.info'.'\r\n",
      "Loading session 83c5ca35-e67b-4a49-967a-18c672b5052e failed with message 'Could not find file '\\\\hpccluster\\hpccluster-scratch\\smuda\\OscillatingDroplet3D_FirstPeriodStudy\\sessions\\83c5ca35-e67b-4a49-967a-18c672b5052e\\Session.info'.'\r\n",
      "Deploying job OD3D_J686k3_wallBC_amr1_m2_Oh01_eta07_restart1 ... \r\n",
      "Set Database: { Session Count = 14; Grid Count = 103; Path = \\\\hpccluster\\hpccluster-scratch\\smuda\\OscillatingDroplet3D_FirstPeriodStudy }\r\n",
      "Warning: no database is set for the job to submit; nothing may be saved.\r\n",
      "Deploying executables and additional files ...\r\n",
      "Deployment directory: \\\\hpccluster\\hpccluster-scratch\\smuda\\binaries\\OscillatingDroplet3D_FirstPeriodStudy-XNSE_Solver2022May20_164336\r\n",
      "copied 50 files.\r\n",
      "   written file: control.obj\r\n",
      "deployment finished.\r\n",
      "Loading session 83c5ca35-e67b-4a49-967a-18c672b5052e failed with message 'Could not find file '\\\\hpccluster\\hpccluster-scratch\\smuda\\OscillatingDroplet3D_FirstPeriodStudy\\sessions\\83c5ca35-e67b-4a49-967a-18c672b5052e\\Session.info'.'\r\n",
      "\r\n"
     ]
    }
   ],
   "source": [
    "foreach(var ctrl in Controls) {\n",
    "    var oneJob              = ctrl.CreateJob();\n",
    "    oneJob.NumberOfMPIProcs = 1;\n",
    "    oneJob.Activate(myBatch); \n",
    "}"
   ]
  },
  {
   "cell_type": "code",
   "execution_count": null,
   "metadata": {
    "dotnet_interactive": {
     "language": "csharp"
    }
   },
   "outputs": [],
   "source": [
    "//wmg.AllJobs"
   ]
  },
  {
   "cell_type": "code",
   "execution_count": null,
   "metadata": {
    "dotnet_interactive": {
     "language": "csharp"
    }
   },
   "outputs": [],
   "source": [
    "// wait for all jobs to finish (up to 5 days, check every 30 minutes)\n",
    "//BoSSSshell.WorkflowMgm.BlockUntilAllJobsTerminate(TimeOutSeconds:(3600), PollingIntervallSeconds:(60*30));"
   ]
  },
  {
   "cell_type": "code",
   "execution_count": null,
   "metadata": {
    "dotnet_interactive": {
     "language": "csharp"
    }
   },
   "outputs": [],
   "source": [
    "// detect failed Jobs in the job management\n",
    "/*\n",
    "var suspects = BoSSSshell.WorkflowMgm.AllJobs.Select(kv => kv.Value)\n",
    "    .Where(job => job.LatestSession.Tags.Contains(SessionInfo.NOT_TERMINATED_TAG)\n",
    "                  || job.LatestSession.Tags.Contains(SessionInfo.SOLVER_ERROR)).ToArray();\n",
    "suspects\n",
    "*/"
   ]
  },
  {
   "cell_type": "code",
   "execution_count": null,
   "metadata": {
    "dotnet_interactive": {
     "language": "csharp"
    }
   },
   "outputs": [],
   "source": [
    "//suspects.Count()"
   ]
  },
  {
   "cell_type": "code",
   "execution_count": null,
   "metadata": {
    "dotnet_interactive": {
     "language": "csharp"
    }
   },
   "outputs": [],
   "source": [
    "//NUnit.Framework.Assert.IsTrue(suspects.Count() <= 0, $\"{suspects.Count()} Failed Jobs of {BoSSSshell.WorkflowMgm.AllJobs.Count()} in total.\");"
   ]
  },
  {
   "cell_type": "markdown",
   "metadata": {},
   "source": [
    "### Inspect the output of some arbitrary job:"
   ]
  },
  {
   "cell_type": "code",
   "execution_count": null,
   "metadata": {
    "dotnet_interactive": {
     "language": "csharp"
    }
   },
   "outputs": [],
   "source": [
    "//BoSSSshell.WorkflowMgm.AllJobs.First().Value.ShowOutput();"
   ]
  },
  {
   "cell_type": "code",
   "execution_count": null,
   "metadata": {
    "dotnet_interactive": {
     "language": "csharp"
    }
   },
   "outputs": [],
   "source": [
    "//wmg.Sessions[0].Export().WithSupersampling(2).Do()"
   ]
  },
  {
   "cell_type": "code",
   "execution_count": null,
   "metadata": {
    "dotnet_interactive": {
     "language": "csharp"
    }
   },
   "outputs": [],
   "source": []
  }
 ],
 "metadata": {
  "kernelspec": {
   "display_name": ".NET (C#)",
   "language": "C#",
   "name": ".net-csharp"
  },
  "language_info": {
   "file_extension": ".cs",
   "mimetype": "text/x-csharp",
   "name": "C#",
   "pygments_lexer": "csharp",
   "version": "9.0"
  }
 },
 "nbformat": 4,
 "nbformat_minor": 4
}
