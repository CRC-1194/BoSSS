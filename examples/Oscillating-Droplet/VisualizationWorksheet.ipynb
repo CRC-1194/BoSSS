{
 "cells": [
  {
   "cell_type": "code",
   "execution_count": null,
   "metadata": {
    "dotnet_interactive": {
     "language": "csharp"
    }
   },
   "outputs": [],
   "source": [
    "//#r \"../../src/L4-application/BoSSSpad/bin/Release/net5.0/BoSSSpad.dll\"\n",
    "//#r \"../../src/L4-application/BoSSSpad/bin/Debug/net5.0/BoSSSpad.dll\"\n",
    "#r \"BoSSSpad.dll\"\n",
    "using System;\n",
    "using System.Collections.Generic;\n",
    "using System.Linq;\n",
    "using ilPSP;\n",
    "using ilPSP.Utils;\n",
    "using BoSSS.Platform;\n",
    "using BoSSS.Foundation;\n",
    "using BoSSS.Foundation.XDG;\n",
    "using BoSSS.Foundation.Grid;\n",
    "using BoSSS.Foundation.Grid.Classic;\n",
    "using BoSSS.Foundation.IO;\n",
    "using BoSSS.Solution;\n",
    "using BoSSS.Solution.Control;\n",
    "using BoSSS.Solution.GridImport;\n",
    "using BoSSS.Solution.Statistic;\n",
    "using BoSSS.Solution.Utils;\n",
    "using BoSSS.Solution.AdvancedSolvers;\n",
    "using BoSSS.Solution.Gnuplot;\n",
    "using BoSSS.Application.BoSSSpad;\n",
    "using BoSSS.Application.XNSE_Solver;\n",
    "using static BoSSS.Application.BoSSSpad.BoSSSshell;\n",
    "Init();"
   ]
  },
  {
   "cell_type": "code",
   "execution_count": null,
   "metadata": {
    "dotnet_interactive": {
     "language": "csharp"
    }
   },
   "outputs": [
    {
     "name": "stdout",
     "output_type": "stream",
     "text": [
      "Opening existing database '\\\\hpccluster\\hpccluster-scratch\\smuda\\OscillatingDroplet3D'.\r\n"
     ]
    }
   ],
   "source": [
    "OpenOrCreateDatabase(@\"\\\\hpccluster\\hpccluster-scratch\\smuda\\OscillatingDroplet3D\");"
   ]
  },
  {
   "cell_type": "code",
   "execution_count": null,
   "metadata": {
    "dotnet_interactive": {
     "language": "csharp"
    }
   },
   "outputs": [
    {
     "data": {
      "text/plain": [
       "OscillatingDroplet3D\tOD3D_J686k3_wallBC_amr1_m4_Oh01_eta04*\t04/08/2022 11:34:56\t8486c026..."
      ]
     },
     "metadata": {},
     "output_type": "display_data"
    }
   ],
   "source": [
    "var sess = databases.Pick(0).Sessions.Pick(57);\n",
    "sess"
   ]
  },
  {
   "cell_type": "code",
   "execution_count": null,
   "metadata": {
    "dotnet_interactive": {
     "language": "csharp"
    }
   },
   "outputs": [
    {
     "name": "stdout",
     "output_type": "stream",
     "text": [
      "Starting export process... Data will be written to the directory: C:\\Users\\smuda\\AppData\\Local\\BoSSS\\plots\\sessions\\OscillatingDroplet3D__OD3D_J686k3_wallBC_amr1_m4_Oh01_eta04__8486c026-23b3-4414-8c35-a04d33089732\r\n"
     ]
    }
   ],
   "source": [
    "sess.Timesteps.Skip(2).Every(10).Take(10).Export().WithSupersampling(3).Do();"
   ]
  },
  {
   "cell_type": "code",
   "execution_count": null,
   "metadata": {
    "dotnet_interactive": {
     "language": "csharp"
    }
   },
   "outputs": [
    {
     "name": "stdout",
     "output_type": "stream",
     "text": [
      "Opening existing database '\\\\hpccluster\\hpccluster-scratch\\smuda\\XNSE_studyDB'.\r\n"
     ]
    }
   ],
   "source": [
    "OpenOrCreateDatabase(@\"\\\\hpccluster\\hpccluster-scratch\\smuda\\XNSE_studyDB\");"
   ]
  },
  {
   "cell_type": "code",
   "execution_count": null,
   "metadata": {
    "dotnet_interactive": {
     "language": "csharp"
    }
   },
   "outputs": [
    {
     "data": {
      "text/plain": [
       "RisingBubble\tRisingBubble_pStudy_k3_mesh60*\t06/01/2020 16:47:38\t63a6754e..."
      ]
     },
     "metadata": {},
     "output_type": "display_data"
    }
   ],
   "source": [
    "sess = databases.Pick(1).Sessions.Pick(369);\n",
    "sess"
   ]
  },
  {
   "cell_type": "code",
   "execution_count": null,
   "metadata": {
    "dotnet_interactive": {
     "language": "csharp"
    }
   },
   "outputs": [
    {
     "name": "stdout",
     "output_type": "stream",
     "text": [
      "Starting export process... Data will be written to the directory: C:\\Users\\smuda\\AppData\\Local\\BoSSS\\plots\\sessions\\RisingBubble__RisingBubble_pStudy_k3_mesh60__63a6754e-7500-4db0-94c6-c03da73a9d78\r\n"
     ]
    },
    {
     "data": {
      "text/plain": [
       "C:\\Users\\smuda\\AppData\\Local\\BoSSS\\plots\\sessions\\RisingBubble__RisingBubble_pStudy_k3_mesh60__63a6754e-7500-4db0-94c6-c03da73a9d78"
      ]
     },
     "metadata": {},
     "output_type": "display_data"
    }
   ],
   "source": [
    "sess.Timesteps.Take(2).Export().WithSupersampling(3).Do()"
   ]
  }
 ],
 "metadata": {
  "kernelspec": {
   "display_name": ".NET (C#)",
   "language": "C#",
   "name": ".net-csharp"
  },
  "language_info": {
   "file_extension": ".cs",
   "mimetype": "text/x-csharp",
   "name": "C#",
   "pygments_lexer": "csharp",
   "version": "9.0"
  },
  "orig_nbformat": 4
 },
 "nbformat": 4,
 "nbformat_minor": 2
}
