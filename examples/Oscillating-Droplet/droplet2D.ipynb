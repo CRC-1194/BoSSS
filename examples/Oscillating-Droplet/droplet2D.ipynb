{
  "cells": [
    {
      "cell_type": "markdown",
      "metadata": {
        "dotnet_interactive": {
          "language": "csharp"
        }
      },
      "source": [
        "# Oscillating Droplet in 2D"
      ]
    },
    {
      "cell_type": "code",
      "execution_count": null,
      "metadata": {
        "dotnet_interactive": {
          "language": "csharp"
        }
      },
      "outputs": [],
      "source": [
        "#r \"..\\..\\src\\L4-application\\BoSSSpad\\bin\\Release\\net5.0\\BoSSSpad.dll\"\r\n",
        "using System;\r\n",
        "using System.Collections.Generic;\r\n",
        "using System.Linq;\r\n",
        "using ilPSP;\r\n",
        "using ilPSP.Utils;\r\n",
        "using BoSSS.Platform;\r\n",
        "using BoSSS.Platform.LinAlg;\r\n",
        "using BoSSS.Foundation;\r\n",
        "using BoSSS.Foundation.XDG;\r\n",
        "using BoSSS.Foundation.Grid;\r\n",
        "using BoSSS.Foundation.Grid.Classic;\r\n",
        "using BoSSS.Foundation.Grid.RefElements;\r\n",
        "using BoSSS.Foundation.IO;\r\n",
        "using BoSSS.Solution;\r\n",
        "using BoSSS.Solution.Control;\r\n",
        "using BoSSS.Solution.GridImport;\r\n",
        "using BoSSS.Solution.Statistic;\r\n",
        "using BoSSS.Solution.Utils;\r\n",
        "using BoSSS.Solution.AdvancedSolvers;\r\n",
        "using BoSSS.Solution.Gnuplot;\r\n",
        "using BoSSS.Application.BoSSSpad;\r\n",
        "using BoSSS.Application.XNSE_Solver;\r\n",
        "using static BoSSS.Application.BoSSSpad.BoSSSshell;\r\n",
        "Init();\r\n"
      ]
    },
    {
      "cell_type": "code",
      "execution_count": null,
      "metadata": {
        "dotnet_interactive": {
          "language": "csharp"
        }
      },
      "outputs": [],
      "source": [
        "var C = new XNSE_Control();\r\n",
        "C.SetDatabase(databases[0]);"
      ]
    },
    {
      "cell_type": "code",
      "execution_count": null,
      "metadata": {
        "dotnet_interactive": {
          "language": "csharp"
        }
      },
      "outputs": [
        {
          "data": {
            "text/plain": [
              "Grid Edge Tags changed.\r\n"
            ]
          },
          "output_type": "unknown"
        },
        {
          "data": {
            "text/plain": [
              "An equivalent grid (30f02ff1-e846-4328-8876-824325f9dabf) is already present in the database -- the grid will not be saved.\r\n"
            ]
          },
          "output_type": "unknown"
        },
        {
          "data": {
            "text/html": [
              "<div class=\"dni-plaintext\">0.02999999999999997</div>"
            ]
          },
          "output_type": "unknown"
        }
      ],
      "source": [
        "// use a Box of 30x30 centimeters\r\n",
        "var nodes = GenericBlas.Linspace(-0.3, +0.3, 21);\r\n",
        "var grid = Grid2D.Cartesian2DGrid(nodes, nodes);\r\n",
        "grid.DefineEdgeTags((Vector X) => \"wall\");\r\n",
        "databases[0].SaveGrid(ref grid);\r\n",
        "C.SetGrid(grid);\r\n",
        "double h0 = nodes[1] - nodes[0];\r\n",
        "h0"
      ]
    },
    {
      "cell_type": "code",
      "execution_count": null,
      "metadata": {
        "dotnet_interactive": {
          "language": "csharp"
        }
      },
      "outputs": [
        {
          "data": {
            "application/vnd.code.notebook.error": {
              "message": "(1,29): error CS1733: Expected expression",
              "name": "Error"
            }
          },
          "output_type": "unknown"
        }
      ],
      "source": [
        "C.PhysicalParameters.Sigma =\r\n",
        "C.PhysicalParameters.rho_A =\r\n",
        "C.PhysicalParameters.mu_A = "
      ]
    },
    {
      "cell_type": "code",
      "execution_count": null,
      "metadata": {
        "dotnet_interactive": {
          "language": "csharp"
        }
      },
      "outputs": [],
      "source": []
    }
  ],
  "metadata": {
    "kernelspec": {
      "display_name": ".NET (C#)",
      "language": "C#",
      "name": ".net-csharp"
    },
    "language_info": {
      "name": "C#",
      "version": ""
    }
  },
  "nbformat": 4,
  "nbformat_minor": 4
}