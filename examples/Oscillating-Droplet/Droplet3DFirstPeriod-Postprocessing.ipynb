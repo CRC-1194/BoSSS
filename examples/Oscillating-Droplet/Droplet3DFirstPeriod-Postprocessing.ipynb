{
 "cells": [
  {
   "cell_type": "markdown",
   "metadata": {
    "dotnet_interactive": {
     "language": "csharp"
    }
   },
   "source": [
    "# 3D Droplet Oscillation (Part 2, Postprocessing)\n",
    "\n",
    "Results published: hopefully at some point!\n",
    "\n",
    "This is part of the BoSSS-long-term validation test suite, which consists of several computationally expensive test-cases (runtime in the order of days), which are performed on a regular basis in order to validate the physical correctness of BoSSS simulations."
   ]
  },
  {
   "cell_type": "markdown",
   "metadata": {
    "dotnet_interactive": {
     "language": "csharp"
    }
   },
   "source": [
    "### Preliminaries\n",
    "\n",
    "This example can be found in the source code repository as as `Droplet3D-Postprocessing.ipynb`. \n",
    "One can directly load this into Jupyter to interactively work with the following code examples.\n",
    "\n",
    "Note: First, BoSSS has to be loaded into the Jupyter kernel. Note:\n",
    "In the following line, the reference to `BoSSSpad.dll` is required. \n",
    "One must either set `#r \"BoSSSpad.dll\"` to something which is appropirate for the current computer\n",
    "(e.g. `C:\\Program Files (x86)\\FDY\\BoSSS\\bin\\Release\\net5.0\\BoSSSpad.dll` if working with the binary distribution), \n",
    "or, if one is working with the source code, one must compile `BoSSSpad`\n",
    "and put it side-by-side to this worksheet file \n",
    "(from the original location in the repository, one can use the scripts `getbossspad.sh`, resp. `getbossspad.bat`).\n"
   ]
  },
  {
   "cell_type": "code",
   "execution_count": null,
   "metadata": {
    "dotnet_interactive": {
     "language": "csharp"
    }
   },
   "outputs": [],
   "source": [
    "//#r \"../../src/L4-application/BoSSSpad/bin/Release/net5.0/BoSSSpad.dll\"\n",
    "//#r \"../../src/L4-application/BoSSSpad/bin/Debug/net5.0/BoSSSpad.dll\"\n",
    "#r \"BoSSSpad.dll\"\n",
    "using System;\n",
    "using System.Collections.Generic;\n",
    "using System.Linq;\n",
    "using ilPSP;\n",
    "using ilPSP.Utils;\n",
    "using BoSSS.Platform;\n",
    "using BoSSS.Foundation;\n",
    "using BoSSS.Foundation.XDG;\n",
    "using BoSSS.Foundation.Grid;\n",
    "using BoSSS.Foundation.Grid.Classic;\n",
    "using BoSSS.Foundation.IO;\n",
    "using BoSSS.Solution;\n",
    "using BoSSS.Solution.Control;\n",
    "using BoSSS.Solution.GridImport;\n",
    "using BoSSS.Solution.Statistic;\n",
    "using BoSSS.Solution.Utils;\n",
    "using BoSSS.Solution.AdvancedSolvers;\n",
    "using BoSSS.Solution.Gnuplot;\n",
    "using BoSSS.Application.BoSSSpad;\n",
    "using BoSSS.Application.XNSE_Solver;\n",
    "using static BoSSS.Application.BoSSSpad.BoSSSshell;\n",
    "Init();"
   ]
  },
  {
   "cell_type": "markdown",
   "metadata": {
    "dotnet_interactive": {
     "language": "csharp"
    }
   },
   "source": [
    "## Initialization tasks"
   ]
  },
  {
   "cell_type": "markdown",
   "metadata": {},
   "source": [
    "Loading the `XNSE_Solver` and additional namespace:"
   ]
  },
  {
   "cell_type": "code",
   "execution_count": null,
   "metadata": {
    "dotnet_interactive": {
     "language": "csharp"
    }
   },
   "outputs": [],
   "source": [
    "using BoSSS.Application.XNSE_Solver;\n",
    "using BoSSS.Application.XNSE_Solver.PhysicalBasedTestcases;\n",
    "using BoSSS.Solution.NSECommon;\n",
    "using BoSSS.Solution.LevelSetTools.SolverWithLevelSetUpdater;\n",
    "using NUnit.Framework;\n",
    "using BoSSS.Application.XNSE_Solver.Logging;"
   ]
  },
  {
   "cell_type": "markdown",
   "metadata": {},
   "source": [
    "Initialization of the Workflow management; there `OscillatingDroplet3D` is the project name which is used name all computations (aka. sessions):"
   ]
  },
  {
   "cell_type": "code",
   "execution_count": null,
   "metadata": {
    "dotnet_interactive": {
     "language": "csharp"
    }
   },
   "outputs": [
    {
     "name": "stdout",
     "output_type": "stream",
     "text": [
      "Project name is set to 'OscillatingDroplet3D_FirstPeriodStudy'.\r\n",
      "Opening existing database 'D:\\local\\OscillatingDroplet3D_FirstPeriodStudy'.\r\n"
     ]
    }
   ],
   "source": [
    "//BoSSSshell.WorkflowMgm.Init(\"OscillatingDroplet3D_FirstPeriodStudy\");"
   ]
  },
  {
   "cell_type": "code",
   "execution_count": null,
   "metadata": {
    "dotnet_interactive": {
     "language": "csharp"
    }
   },
   "outputs": [
    {
     "name": "stdout",
     "output_type": "stream",
     "text": [
      "Opening existing database '\\\\dc1\\userspace\\smuda\\Databases\\OscillatingDroplet3D'.\r\n"
     ]
    }
   ],
   "source": [
    "//add database manually:\n",
    "OpenOrCreateDatabase(@\"\\\\dc1\\userspace\\smuda\\Databases\\OscillatingDroplet3D\");\n",
    "//OpenOrCreateDatabase(@\"\\\\130.83.248.207\\ValidationTests\\OscillatingDroplet3D_FirstPeriodStudy\");"
   ]
  },
  {
   "cell_type": "markdown",
   "metadata": {},
   "source": [
    "## Observing sessions"
   ]
  },
  {
   "cell_type": "code",
   "execution_count": null,
   "metadata": {
    "dotnet_interactive": {
     "language": "csharp"
    }
   },
   "outputs": [
    {
     "data": {
      "text/plain": [
       "#0: OscillatingDroplet3D_FirstPeriodStudy\tOD3D_J686k3_wallBC_amr1_m4_Oh01_eta05\t04/08/2022 11:32:02\t9173b638...\r\n",
       "#1: OscillatingDroplet3D_FirstPeriodStudy\tOD3D_J686k3_wallBC_amr1_m4_Oh01_eta06\t04/08/2022 11:31:47\t6feb68ca...\r\n",
       "#2: OscillatingDroplet3D_FirstPeriodStudy\tOD3D_J686k3_wallBC_amr1_m4_Oh01_eta02\t04/08/2022 11:32:41\t012ffd75...\r\n",
       "#3: OscillatingDroplet3D_FirstPeriodStudy\tOD3D_J686k3_wallBC_amr1_m4_Oh01_eta03\t04/08/2022 11:32:24\t1de3f59e...\r\n",
       "#4: OscillatingDroplet3D_FirstPeriodStudy\tOD3D_J686k3_wallBC_amr1_m4_Oh01_eta07\t04/08/2022 11:31:37\tde146e9e...\r\n",
       "#5: OscillatingDroplet3D\tOD3D_J686k3_wallBC_amr1_m4_Oh056_eta005*\t04/08/2022 11:37:03\t92930af7...\r\n",
       "#6: OscillatingDroplet3D\tOD3D_J686k3_wallBC_amr1_m4_Oh01_eta01*\t04/08/2022 11:36:37\t15341e01...\r\n",
       "#7: OscillatingDroplet3D\tOD3D_J686k3_wallBC_amr1_m4_Oh01_eta04*\t04/08/2022 11:34:56\t8486c026...\r\n",
       "#8: OscillatingDroplet3D\tOD3D_J686k3_wallBC_amr1_m3_Oh01_eta04*\t04/08/2022 11:34:00\te3a04ed7...\r\n",
       "#9: OscillatingDroplet3D\tOD3D_J686k3_wallBC_amr1_m2_Oh01_eta01*\t04/08/2022 11:33:27\t59bb73dc...\r\n",
       "#10: OscillatingDroplet3D\tOD3D_J686k3_wallBC_amr1_m2_Oh01_eta02*\t04/08/2022 11:33:07\t2e275baf...\r\n",
       "#11: OscillatingDroplet3D\tOD3D_J686k3_wallBC_amr1_m2_Oh01_eta04*\t04/08/2022 11:32:42\t8ef825a4...\r\n",
       "#12: OscillatingDroplet3D\tOD3D_J686k3_wallBC_amr1_m4_Oh056_eta005_thirdOrderInit*\t04/08/2022 11:32:17\tadf2022d...\r\n",
       "#13: OscillatingDroplet3D\tOD3D_J686k3_wallBC_amr1_m4_Oh01_eta01_thirdOrderInit*\t04/08/2022 11:31:55\t106a329f...\r\n",
       "#14: OscillatingDroplet3D\tOD3D_J686k3_wallBC_amr1_m4_Oh01_eta04_thirdOrderInit*\t04/08/2022 11:31:22\t5f822233...\r\n",
       "#15: OscillatingDroplet3D_FirstPeriodStudy\tOD3D_J686k3_wallBC_amr1_m3_Oh01_eta05*\t04/08/2022 11:31:21\tc6cd6b17...\r\n",
       "#16: OscillatingDroplet3D\tOD3D_J686k3_wallBC_amr1_m3_Oh01_eta04_thirdOrderInit*\t04/08/2022 11:31:07\t22cade02...\r\n",
       "#17: OscillatingDroplet3D_FirstPeriodStudy\tOD3D_J686k3_wallBC_amr1_m3_Oh01_eta06*\t04/08/2022 11:31:06\t06d53502...\r\n",
       "#18: OscillatingDroplet3D_FirstPeriodStudy\tOD3D_J686k3_wallBC_amr1_m3_Oh01_eta07*\t04/08/2022 11:30:52\t714bd2c2...\r\n",
       "#19: OscillatingDroplet3D\tOD3D_J686k3_wallBC_amr1_m2_Oh01_eta01_thirdOrderInit*\t04/08/2022 11:30:49\t51afe8ea...\r\n",
       "#20: OscillatingDroplet3D_FirstPeriodStudy\tOD3D_J686k3_wallBC_amr1_m2_Oh01_eta03*\t04/08/2022 11:30:37\t56519a35...\r\n",
       "#21: OscillatingDroplet3D\tOD3D_J686k3_wallBC_amr1_m2_Oh01_eta02_thirdOrderInit*\t04/08/2022 11:30:31\ta1dc7b7c...\r\n",
       "#22: OscillatingDroplet3D_FirstPeriodStudy\tOD3D_J686k3_wallBC_amr1_m2_Oh01_eta05*\t04/08/2022 11:30:25\t6f21cae2...\r\n",
       "#23: OscillatingDroplet3D\tOD3D_J686k3_wallBC_amr1_m2_Oh01_eta04_thirdOrderInit*\t04/08/2022 11:30:16\ta4b7b06d...\r\n",
       "#24: OscillatingDroplet3D_FirstPeriodStudy\tOD3D_J686k3_wallBC_amr1_m2_Oh01_eta06*\t04/08/2022 11:30:08\t71fcecb0...\r\n",
       "#25: OscillatingDroplet3D_FirstPeriodStudy\tOD3D_J686k3_wallBC_amr1_m2_Oh01_eta07*\t04/08/2022 11:29:57\tbb4b0796...\r\n",
       "#26: OscillatingDroplet3D\tOD3D_J432k3_wallBC_amr1_m4_Oh056_eta005*\t04/01/2022 18:34:01\ta1bc7755...\r\n",
       "#27: OscillatingDroplet3D\tOD3D_J432k3_wallBC_amr1_m4_Oh056_eta005_thirdOrderInit*\t04/01/2022 18:28:09\t918d934e...\r\n",
       "#28: OscillatingDroplet3D\tJ432k3_amr0_case4_Oh0.1_AnalytInit\t02/21/2022 13:25:05\t7cbd3e0d...\r\n",
       "#29: OscillatingDroplet3D\tJ432k3_amr0_case5_Oh0.56_AnalytInit\t02/21/2022 13:25:25\tfaa12478...\r\n",
       "#30: OscillatingDroplet3D\tJ432k3_amr0_case5_Oh0.56_AnalytInit_Newton*\t02/21/2022 13:27:37\t7cea9028...\r\n",
       "#31: OscillatingDroplet3D\tJ432k3_amr0_case4_Oh0.1_AnalytInit_Newton*\t02/21/2022 13:27:06\t2cc1fe37...\r\n",
       "#32: OscillatingDroplet3D\tJ432k3_amr0_case3_Oh0.1_AnalytInit_Newton*\t02/21/2022 13:26:39\t4e66f810...\r\n",
       "#33: OscillatingDroplet3D\tJ432k3_amr0_case2_Oh0.1_AnalytInit_Newton*\t02/21/2022 13:26:12\t8ffb90e9...\r\n",
       "#34: OscillatingDroplet3D\tJ432k3_amr0_case1_Oh0.1_AnalytInit_Newton*\t02/21/2022 13:25:47\t3cc2e063...\r\n",
       "#35: OscillatingDroplet3D\tJ432k3_amr0_case3_Oh0.1_AnalytInit*\t02/21/2022 13:24:49\tb9a79362...\r\n",
       "#36: OscillatingDroplet3D\tJ432k3_amr0_case2_Oh0.1_AnalytInit*\t02/21/2022 13:24:35\tf55ee0aa...\r\n",
       "#37: OscillatingDroplet3D\tJ432k3_amr0_case1_Oh0.1_AnalytInit*\t02/21/2022 13:24:23\t0ccf0567...\r\n"
      ]
     },
     "metadata": {},
     "output_type": "display_data"
    }
   ],
   "source": [
    "databases.Pick(0).Sessions"
   ]
  },
  {
   "cell_type": "code",
   "execution_count": null,
   "metadata": {
    "dotnet_interactive": {
     "language": "csharp"
    }
   },
   "outputs": [],
   "source": [
    "// var studySess = wmg.Sessions.Skip(6);\n",
    "// studySess"
   ]
  },
  {
   "cell_type": "code",
   "execution_count": null,
   "metadata": {
    "dotnet_interactive": {
     "language": "csharp"
    }
   },
   "outputs": [],
   "source": [
    "//databases"
   ]
  },
  {
   "cell_type": "code",
   "execution_count": null,
   "metadata": {
    "dotnet_interactive": {
     "language": "csharp"
    }
   },
   "outputs": [],
   "source": [
    "//var targetDB = databases.Pick(3);\n",
    "//targetDB\n",
    "//databases.Pick(2).Sessions.MoveAll(targetDB);\n",
    "//wmg.Sessions[0].Move(targetDB);\n",
    "//wmg.Sessions.Where(s => s.Name.Contains(\"J432k3_arm0_case2_Oh0.1_AnalytInit\"))\n",
    "//wmg.Sessions[0].Delete(true)\n",
    "//wmg.Sessions[8].Timesteps.Count()"
   ]
  },
  {
   "cell_type": "code",
   "execution_count": null,
   "metadata": {
    "dotnet_interactive": {
     "language": "csharp"
    }
   },
   "outputs": [
    {
     "data": {
      "text/plain": [
       "OscillatingDroplet3D_FirstPeriodStudy\tOD3D_J686k3_wallBC_amr1_m3_Oh01_eta07*\t04/08/2022 11:30:52\t714bd2c2..."
      ]
     },
     "metadata": {},
     "output_type": "display_data"
    }
   ],
   "source": [
    "int sNum = 7;\n",
    "wmg.Sessions[sNum]"
   ]
  },
  {
   "cell_type": "code",
   "execution_count": null,
   "metadata": {
    "dotnet_interactive": {
     "language": "csharp"
    }
   },
   "outputs": [
    {
     "data": {
      "text/plain": [
       "\\\\130.83.248.207\\ValidationTests\\OscillatingDroplet3D\\sessions\\23a6e85a-e66a-45d8-8b8b-919a6cc3de91"
      ]
     },
     "metadata": {},
     "output_type": "display_data"
    }
   ],
   "source": [
    "wmg.Sessions[sNum].GetSessionDirectory()"
   ]
  },
  {
   "cell_type": "code",
   "execution_count": null,
   "metadata": {
    "dotnet_interactive": {
     "language": "csharp"
    }
   },
   "outputs": [
    {
     "data": {
      "text/plain": [
       "\\\\fdygitrunner\\ValidationTests\\OscillatingDroplet3D-XNSE_Solver2022Feb21_132417"
      ]
     },
     "metadata": {},
     "output_type": "display_data"
    }
   ],
   "source": [
    "wmg.Sessions[sNum].DeployPath"
   ]
  },
  {
   "cell_type": "code",
   "execution_count": null,
   "metadata": {
    "dotnet_interactive": {
     "language": "csharp"
    }
   },
   "outputs": [
    {
     "data": {
      "text/html": [
       "<div class=\"dni-plaintext\">212</div>"
      ]
     },
     "metadata": {},
     "output_type": "display_data"
    }
   ],
   "source": [
    "wmg.Sessions[sNum].Timesteps.Count"
   ]
  },
  {
   "cell_type": "code",
   "execution_count": null,
   "metadata": {
    "dotnet_interactive": {
     "language": "csharp"
    }
   },
   "outputs": [
    {
     "name": "stdout",
     "output_type": "stream",
     "text": [
      "Starting export process... Data will be written to the directory: C:\\Users\\smuda\\AppData\\Local\\BoSSS\\plots\\sessions\\OscillatingDroplet3D_FirstPeriodStudy__OD3D_J686k3_wallBC_amr1_m3_Oh01_eta07__714bd2c2-f2bd-49fe-88ba-905f7c4e7825\r\n"
     ]
    }
   ],
   "source": [
    "wmg.Sessions[sNum].Timesteps.Export().WithSupersampling(2).Do();"
   ]
  },
  {
   "cell_type": "code",
   "execution_count": null,
   "metadata": {
    "dotnet_interactive": {
     "language": "csharp"
    }
   },
   "outputs": [],
   "source": [
    "using System.IO;"
   ]
  },
  {
   "cell_type": "markdown",
   "metadata": {},
   "source": [
    "# Study Overview"
   ]
  },
  {
   "cell_type": "code",
   "execution_count": null,
   "metadata": {
    "dotnet_interactive": {
     "language": "csharp"
    }
   },
   "outputs": [
    {
     "data": {
      "text/plain": [
       "#0: OscillatingDroplet3D_FirstPeriodStudy\tOD3D_J686k3_wallBC_amr1_m4_Oh01_eta05\t04/08/2022 11:32:02\t9173b638...\r\n",
       "#1: OscillatingDroplet3D_FirstPeriodStudy\tOD3D_J686k3_wallBC_amr1_m4_Oh01_eta06\t04/08/2022 11:31:47\t6feb68ca...\r\n",
       "#2: OscillatingDroplet3D_FirstPeriodStudy\tOD3D_J686k3_wallBC_amr1_m4_Oh01_eta02\t04/08/2022 11:32:41\t012ffd75...\r\n",
       "#3: OscillatingDroplet3D_FirstPeriodStudy\tOD3D_J686k3_wallBC_amr1_m4_Oh01_eta03\t04/08/2022 11:32:24\t1de3f59e...\r\n",
       "#4: OscillatingDroplet3D_FirstPeriodStudy\tOD3D_J686k3_wallBC_amr1_m4_Oh01_eta07\t04/08/2022 11:31:37\tde146e9e...\r\n",
       "#5: OscillatingDroplet3D\tOD3D_J686k3_wallBC_amr1_m4_Oh056_eta005*\t04/08/2022 11:37:03\t92930af7...\r\n",
       "#6: OscillatingDroplet3D\tOD3D_J686k3_wallBC_amr1_m4_Oh01_eta01*\t04/08/2022 11:36:37\t15341e01...\r\n",
       "#7: OscillatingDroplet3D\tOD3D_J686k3_wallBC_amr1_m4_Oh01_eta04*\t04/08/2022 11:34:56\t8486c026...\r\n",
       "#8: OscillatingDroplet3D\tOD3D_J686k3_wallBC_amr1_m3_Oh01_eta04*\t04/08/2022 11:34:00\te3a04ed7...\r\n",
       "#9: OscillatingDroplet3D\tOD3D_J686k3_wallBC_amr1_m2_Oh01_eta01*\t04/08/2022 11:33:27\t59bb73dc...\r\n",
       "#10: OscillatingDroplet3D\tOD3D_J686k3_wallBC_amr1_m2_Oh01_eta02*\t04/08/2022 11:33:07\t2e275baf...\r\n",
       "#11: OscillatingDroplet3D\tOD3D_J686k3_wallBC_amr1_m2_Oh01_eta04*\t04/08/2022 11:32:42\t8ef825a4...\r\n",
       "#12: OscillatingDroplet3D\tOD3D_J686k3_wallBC_amr1_m4_Oh056_eta005_thirdOrderInit*\t04/08/2022 11:32:17\tadf2022d...\r\n",
       "#13: OscillatingDroplet3D\tOD3D_J686k3_wallBC_amr1_m4_Oh01_eta01_thirdOrderInit*\t04/08/2022 11:31:55\t106a329f...\r\n",
       "#14: OscillatingDroplet3D\tOD3D_J686k3_wallBC_amr1_m4_Oh01_eta04_thirdOrderInit*\t04/08/2022 11:31:22\t5f822233...\r\n",
       "#15: OscillatingDroplet3D_FirstPeriodStudy\tOD3D_J686k3_wallBC_amr1_m3_Oh01_eta05*\t04/08/2022 11:31:21\tc6cd6b17...\r\n",
       "#16: OscillatingDroplet3D\tOD3D_J686k3_wallBC_amr1_m3_Oh01_eta04_thirdOrderInit*\t04/08/2022 11:31:07\t22cade02...\r\n",
       "#17: OscillatingDroplet3D_FirstPeriodStudy\tOD3D_J686k3_wallBC_amr1_m3_Oh01_eta06*\t04/08/2022 11:31:06\t06d53502...\r\n",
       "#18: OscillatingDroplet3D_FirstPeriodStudy\tOD3D_J686k3_wallBC_amr1_m3_Oh01_eta07*\t04/08/2022 11:30:52\t714bd2c2...\r\n",
       "#19: OscillatingDroplet3D\tOD3D_J686k3_wallBC_amr1_m2_Oh01_eta01_thirdOrderInit*\t04/08/2022 11:30:49\t51afe8ea...\r\n",
       "#20: OscillatingDroplet3D_FirstPeriodStudy\tOD3D_J686k3_wallBC_amr1_m2_Oh01_eta03*\t04/08/2022 11:30:37\t56519a35...\r\n",
       "#21: OscillatingDroplet3D\tOD3D_J686k3_wallBC_amr1_m2_Oh01_eta02_thirdOrderInit*\t04/08/2022 11:30:31\ta1dc7b7c...\r\n",
       "#22: OscillatingDroplet3D_FirstPeriodStudy\tOD3D_J686k3_wallBC_amr1_m2_Oh01_eta05*\t04/08/2022 11:30:25\t6f21cae2...\r\n",
       "#23: OscillatingDroplet3D\tOD3D_J686k3_wallBC_amr1_m2_Oh01_eta04_thirdOrderInit*\t04/08/2022 11:30:16\ta4b7b06d...\r\n",
       "#24: OscillatingDroplet3D_FirstPeriodStudy\tOD3D_J686k3_wallBC_amr1_m2_Oh01_eta06*\t04/08/2022 11:30:08\t71fcecb0...\r\n",
       "#25: OscillatingDroplet3D_FirstPeriodStudy\tOD3D_J686k3_wallBC_amr1_m2_Oh01_eta07*\t04/08/2022 11:29:57\tbb4b0796...\r\n"
      ]
     },
     "metadata": {},
     "output_type": "display_data"
    }
   ],
   "source": [
    "var studySess = databases.Pick(0).Sessions.Take(26);\n",
    "studySess"
   ]
  },
  {
   "cell_type": "code",
   "execution_count": null,
   "metadata": {
    "dotnet_interactive": {
     "language": "csharp"
    }
   },
   "outputs": [],
   "source": [
    "string[] caseS = new string[] { \"m2_Oh01_eta07\", \"m2_Oh01_eta06\", \"m2_Oh01_eta05\", \"m2_Oh01_eta03\", \"m3_Oh01_eta07\", \"m3_Oh01_eta06\", \"m3_Oh01_eta05\", \"m4_Oh01_eta07\", \"m4_Oh01_eta06\", \"m4_Oh01_eta05\", \"m4_Oh01_eta03\", \"m4_Oh01_eta02\"};\n",
    "string[] gridS = new string[] { \"J686\" };\n",
    "bool[] ShouldAnaInit = new bool[] { false };\n",
    "bool[] useNewton = new bool[] { false };"
   ]
  },
  {
   "cell_type": "markdown",
   "metadata": {},
   "source": [
    "# Plotting  droplet metrics - aspect ratio L/W"
   ]
  },
  {
   "cell_type": "code",
   "execution_count": null,
   "metadata": {
    "dotnet_interactive": {
     "language": "csharp"
    }
   },
   "outputs": [],
   "source": [
    "//string[] metricKeys = new string[] {\"theta0\", \"theta90x\", \"theta90y\", \"volume\"};"
   ]
  },
  {
   "cell_type": "code",
   "execution_count": null,
   "metadata": {
    "dotnet_interactive": {
     "language": "csharp"
    }
   },
   "outputs": [
    {
     "name": "stdout",
     "output_type": "stream",
     "text": [
      "OD3D_J686k3_wallBC_amr1_m2_Oh01_eta07\r\n",
      "OD3D_J686k3_wallBC_amr1_m2_Oh01_eta06\r\n",
      "OD3D_J686k3_wallBC_amr1_m2_Oh01_eta05\r\n",
      "OD3D_J686k3_wallBC_amr1_m2_Oh01_eta03\r\n",
      "OD3D_J686k3_wallBC_amr1_m3_Oh01_eta07\r\n",
      "OD3D_J686k3_wallBC_amr1_m3_Oh01_eta06\r\n",
      "OD3D_J686k3_wallBC_amr1_m3_Oh01_eta05\r\n",
      "OD3D_J686k3_wallBC_amr1_m4_Oh01_eta07\r\n",
      "OD3D_J686k3_wallBC_amr1_m4_Oh01_eta06\r\n",
      "OD3D_J686k3_wallBC_amr1_m4_Oh01_eta05\r\n",
      "OD3D_J686k3_wallBC_amr1_m4_Oh01_eta03\r\n",
      "OD3D_J686k3_wallBC_amr1_m4_Oh01_eta02\r\n"
     ]
    }
   ],
   "source": [
    "Plot2Ddata[,] PlotTableDM = new Plot2Ddata[caseS.Length,1];\n",
    "for(int iCol = 0; iCol < 1; iCol++) {\n",
    "for(int iRow = 0; iRow < caseS.Length; iRow++) { // loop over cases\n",
    "for(int iGrd = 0; iGrd < gridS.Length; iGrd++) {   \n",
    "for(int iAna = 0; iAna < ShouldAnaInit.Length; iAna++) {\n",
    "for(int iNew = 0; iNew < useNewton.Length; iNew++) {\n",
    "\n",
    "    string _case = caseS[iRow];\n",
    "    string _grd = gridS[iGrd];\n",
    "\n",
    "    // if(_case == \"case2\" || _case == \"case3\")\n",
    "    //     continue; \n",
    "\n",
    "    //ISessionInfo SI = null;\n",
    "    var SIs = studySess.Where(sess => sess.Name.Contains(_case) \n",
    "                                      && sess.Name.Contains(_grd)\n",
    "                                      && (sess.Name.Contains(\"_thirdOrderInit\") == ShouldAnaInit[iAna])\n",
    "                                      && (sess.Name.Contains(\"_Newton\") == useNewton[iNew]));\n",
    "\n",
    "\n",
    "    if(SIs.Count() > 1) {\n",
    "        foreach(var s in SIs)\n",
    "            Console.WriteLine(s);\n",
    "    }\n",
    "    \n",
    "    if(SIs.IsNullOrEmpty()) \n",
    "        continue;\n",
    "\n",
    "    ISessionInfo SI = SIs.Single();\n",
    "    if(SI == null)\n",
    "        continue;\n",
    "    Console.WriteLine(SI.Name);\n",
    "\n",
    "    IDictionary<string, IList<double>> tab = null;\n",
    "    try {\n",
    "        tab = SI.ReadTabulatedTextFileAsDoubles(\"DropletMetrics.txt\", '\\t');\n",
    "    } catch (Exception e) {\n",
    "        Console.Error.WriteLine(e.Message);\n",
    "        Console.WriteLine(\"Skipping \" + SI);\n",
    "        \n",
    "        // var dummyPlot = new Plot2Ddata();\n",
    "        // dummyPlot.AddDataGroup(\"empty\", new double[]{ 0, 1 }, new double[] { 0, 1 });\n",
    "        // PlotTableDM[iRow,iCol] = dummyPlot;\n",
    "        continue;\n",
    "    }\n",
    "    \n",
    "    var plot = new Plot2Ddata();\n",
    "    var time = tab[\"time\"];\n",
    "\n",
    "    var fmt = new PlotFormat();\n",
    "    fmt.Style = Styles.Lines; \n",
    "    fmt.LineWidth = 3;\n",
    "    if (useNewton[iNew]) {\n",
    "        fmt.LineColor = LineColors.Red;\n",
    "        //fmt.DashType = DashTypes.Dashed;\n",
    "    } else {  \n",
    "        fmt.LineColor = LineColors.Blue;\n",
    "        //fmt.DashType = DashTypes.Solid;\n",
    "    }\n",
    "    if (!ShouldAnaInit[iAna]) {\n",
    "        fmt.DashType = DashTypes.Solid;\n",
    "    } else {\n",
    "        fmt.DashType = DashTypes.Dashed;\n",
    "    }\n",
    "    \n",
    "    // if (_init == \"_initCase0\")\n",
    "    //     fmt.LineColor = LineColors.Green;\n",
    "    // if (_init == \"_initCase1\")\n",
    "    //     fmt.LineColor = LineColors.Magenta;\n",
    "    // if (_init == \"_initCase2\")\n",
    "    //     fmt.LineColor = LineColors.Orange;\n",
    " \n",
    "    string name = \"BoSSS-\"+_grd+_case;\n",
    "    // if(iAMR > 0)\n",
    "    //     name = name + \"-amr\";\n",
    "    if(ShouldAnaInit[iAna])\n",
    "        name = name + \"-3OrdInit\"; \n",
    "    if(useNewton[iNew])\n",
    "        name = name + \"-Newton\";\n",
    "\n",
    "    double[] L = tab[\"L\"].ToArray(); \n",
    "    double[] Wx = tab[\"Wx\"].ToArray(); \n",
    "    double[] Wy = tab[\"Wy\"].ToArray();\n",
    "    double[] arLW = new double[L.Length];\n",
    "    for (int i = 0; i < L.Length; i++) {\n",
    "        arLW[i] = 0.5 * ((L[i] / (2.0*Wx[i])) + (L[i] / (2.0*Wy[i])));\n",
    "    }\n",
    "    \n",
    "    // List<double> arLW_lst = new List<double>();\n",
    "    // List<double> time_lst = new List<double>();\n",
    "    // double dataThreshold = 0.1;\n",
    "    // for(int i = 0; i < L.Length; i++) {\n",
    "    //     if(arLW[i] > dataThreshold) {\n",
    "    //         arLW_lst.Add(arLW[i]);\n",
    "    //         time_lst.Add(time[i]);\n",
    "    //     }\n",
    "    // }\n",
    "    // arLW = arLW_lst.ToArray();\n",
    "    // time = time_lst.ToArray();\n",
    "\n",
    "    plot.AddDataGroup(name, time, arLW, fmt);\n",
    "   \n",
    "    plot.ShowLegend = true;  \n",
    "\n",
    "    if(PlotTableDM[iRow,iCol]==null) {\n",
    "        PlotTableDM[iRow,iCol] = plot;\n",
    "    } else {\n",
    "        PlotTableDM[iRow,iCol] = PlotTableDM[iRow,iCol].Merge(plot);\n",
    "    }\n",
    "        \n",
    "    // if(iAMR == 0) {\n",
    "    //     PlotTableDM[iRow,iCol] = plot;\n",
    "    // } else {\n",
    "    //     PlotTableDM[iRow,iCol] = PlotTableDM[iRow,iCol].Merge(plot);\n",
    "    // }\n",
    "    \n",
    "}\n",
    "\n",
    "if(PlotTableDM[iRow,iCol] != null) {\n",
    "    PlotTableDM[iRow,iCol].ShowLegend = true; \n",
    "    //PlotTableDM[iRow,iCol].LegendFont = 10;\n",
    "    if(iCol == 0) {\n",
    "       PlotTableDM[iRow,iCol].Title = caseS[iRow];\n",
    "       PlotTableDM[iRow,iCol].Xlabel = \"time t\";\n",
    "       PlotTableDM[iRow,iCol].Ylabel = \"aspect ratio L/W\";\n",
    "    }\n",
    "}\n",
    "}\n",
    "}\n",
    "}\n",
    "}"
   ]
  },
  {
   "cell_type": "code",
   "execution_count": null,
   "metadata": {
    "dotnet_interactive": {
     "language": "csharp"
    }
   },
   "outputs": [
    {
     "data": {
      "text/html": [
       "<table><thead><tr><th><i>index</i></th><th>dataGroups</th><th>LogX</th><th>LogY</th><th>LogBaseX</th><th>LogBaseY</th><th>LogX2</th><th>LogY2</th><th>XrangeMin</th><th>XrangeMax</th><th>YrangeMin</th><th>YrangeMax</th><th>Y2rangeMin</th><th>Y2rangeMax</th><th>X2rangeMin</th><th>X2rangeMax</th><th>Xlabel</th><th>X2label</th><th>Ylabel</th><th>Y2label</th><th>Title</th><th>..</th></tr></thead><tbody><tr><td>0</td><td>[ BoSSS.Solution.Gnuplot.Plot2Ddata+XYvalues ]</td><td>False</td><td>False</td><td>10</td><td>10</td><td>False</td><td>False</td><td><div class=\"dni-plaintext\">&lt;null&gt;</div></td><td><div class=\"dni-plaintext\">&lt;null&gt;</div></td><td><div class=\"dni-plaintext\">&lt;null&gt;</div></td><td><div class=\"dni-plaintext\">&lt;null&gt;</div></td><td><div class=\"dni-plaintext\">&lt;null&gt;</div></td><td><div class=\"dni-plaintext\">&lt;null&gt;</div></td><td><div class=\"dni-plaintext\">&lt;null&gt;</div></td><td><div class=\"dni-plaintext\">&lt;null&gt;</div></td><td>time t</td><td><div class=\"dni-plaintext\">&lt;null&gt;</div></td><td>aspect ratio L/W</td><td><div class=\"dni-plaintext\">&lt;null&gt;</div></td><td><div class=\"dni-plaintext\">&lt;null&gt;</div></td></tr><tr><td>1</td><td>[ BoSSS.Solution.Gnuplot.Plot2Ddata+XYvalues ]</td><td>False</td><td>False</td><td>10</td><td>10</td><td>False</td><td>False</td><td><div class=\"dni-plaintext\">&lt;null&gt;</div></td><td><div class=\"dni-plaintext\">&lt;null&gt;</div></td><td><div class=\"dni-plaintext\">&lt;null&gt;</div></td><td><div class=\"dni-plaintext\">&lt;null&gt;</div></td><td><div class=\"dni-plaintext\">&lt;null&gt;</div></td><td><div class=\"dni-plaintext\">&lt;null&gt;</div></td><td><div class=\"dni-plaintext\">&lt;null&gt;</div></td><td><div class=\"dni-plaintext\">&lt;null&gt;</div></td><td>time t</td><td><div class=\"dni-plaintext\">&lt;null&gt;</div></td><td>aspect ratio L/W</td><td><div class=\"dni-plaintext\">&lt;null&gt;</div></td><td><div class=\"dni-plaintext\">&lt;null&gt;</div></td></tr><tr><td>2</td><td>[ BoSSS.Solution.Gnuplot.Plot2Ddata+XYvalues ]</td><td>False</td><td>False</td><td>10</td><td>10</td><td>False</td><td>False</td><td><div class=\"dni-plaintext\">&lt;null&gt;</div></td><td><div class=\"dni-plaintext\">&lt;null&gt;</div></td><td><div class=\"dni-plaintext\">&lt;null&gt;</div></td><td><div class=\"dni-plaintext\">&lt;null&gt;</div></td><td><div class=\"dni-plaintext\">&lt;null&gt;</div></td><td><div class=\"dni-plaintext\">&lt;null&gt;</div></td><td><div class=\"dni-plaintext\">&lt;null&gt;</div></td><td><div class=\"dni-plaintext\">&lt;null&gt;</div></td><td>time t</td><td><div class=\"dni-plaintext\">&lt;null&gt;</div></td><td>aspect ratio L/W</td><td><div class=\"dni-plaintext\">&lt;null&gt;</div></td><td><div class=\"dni-plaintext\">&lt;null&gt;</div></td></tr><tr><td>3</td><td>[ BoSSS.Solution.Gnuplot.Plot2Ddata+XYvalues ]</td><td>False</td><td>False</td><td>10</td><td>10</td><td>False</td><td>False</td><td><div class=\"dni-plaintext\">&lt;null&gt;</div></td><td><div class=\"dni-plaintext\">&lt;null&gt;</div></td><td><div class=\"dni-plaintext\">&lt;null&gt;</div></td><td><div class=\"dni-plaintext\">&lt;null&gt;</div></td><td><div class=\"dni-plaintext\">&lt;null&gt;</div></td><td><div class=\"dni-plaintext\">&lt;null&gt;</div></td><td><div class=\"dni-plaintext\">&lt;null&gt;</div></td><td><div class=\"dni-plaintext\">&lt;null&gt;</div></td><td>time t</td><td><div class=\"dni-plaintext\">&lt;null&gt;</div></td><td>aspect ratio L/W</td><td><div class=\"dni-plaintext\">&lt;null&gt;</div></td><td><div class=\"dni-plaintext\">&lt;null&gt;</div></td></tr><tr><td>4</td><td>[ BoSSS.Solution.Gnuplot.Plot2Ddata+XYvalues ]</td><td>False</td><td>False</td><td>10</td><td>10</td><td>False</td><td>False</td><td><div class=\"dni-plaintext\">&lt;null&gt;</div></td><td><div class=\"dni-plaintext\">&lt;null&gt;</div></td><td><div class=\"dni-plaintext\">&lt;null&gt;</div></td><td><div class=\"dni-plaintext\">&lt;null&gt;</div></td><td><div class=\"dni-plaintext\">&lt;null&gt;</div></td><td><div class=\"dni-plaintext\">&lt;null&gt;</div></td><td><div class=\"dni-plaintext\">&lt;null&gt;</div></td><td><div class=\"dni-plaintext\">&lt;null&gt;</div></td><td>time t</td><td><div class=\"dni-plaintext\">&lt;null&gt;</div></td><td>aspect ratio L/W</td><td><div class=\"dni-plaintext\">&lt;null&gt;</div></td><td><div class=\"dni-plaintext\">&lt;null&gt;</div></td></tr><tr><td>5</td><td>[ BoSSS.Solution.Gnuplot.Plot2Ddata+XYvalues ]</td><td>False</td><td>False</td><td>10</td><td>10</td><td>False</td><td>False</td><td><div class=\"dni-plaintext\">&lt;null&gt;</div></td><td><div class=\"dni-plaintext\">&lt;null&gt;</div></td><td><div class=\"dni-plaintext\">&lt;null&gt;</div></td><td><div class=\"dni-plaintext\">&lt;null&gt;</div></td><td><div class=\"dni-plaintext\">&lt;null&gt;</div></td><td><div class=\"dni-plaintext\">&lt;null&gt;</div></td><td><div class=\"dni-plaintext\">&lt;null&gt;</div></td><td><div class=\"dni-plaintext\">&lt;null&gt;</div></td><td>time t</td><td><div class=\"dni-plaintext\">&lt;null&gt;</div></td><td>aspect ratio L/W</td><td><div class=\"dni-plaintext\">&lt;null&gt;</div></td><td><div class=\"dni-plaintext\">&lt;null&gt;</div></td></tr><tr><td>6</td><td>[ BoSSS.Solution.Gnuplot.Plot2Ddata+XYvalues ]</td><td>False</td><td>False</td><td>10</td><td>10</td><td>False</td><td>False</td><td><div class=\"dni-plaintext\">&lt;null&gt;</div></td><td><div class=\"dni-plaintext\">&lt;null&gt;</div></td><td><div class=\"dni-plaintext\">&lt;null&gt;</div></td><td><div class=\"dni-plaintext\">&lt;null&gt;</div></td><td><div class=\"dni-plaintext\">&lt;null&gt;</div></td><td><div class=\"dni-plaintext\">&lt;null&gt;</div></td><td><div class=\"dni-plaintext\">&lt;null&gt;</div></td><td><div class=\"dni-plaintext\">&lt;null&gt;</div></td><td>time t</td><td><div class=\"dni-plaintext\">&lt;null&gt;</div></td><td>aspect ratio L/W</td><td><div class=\"dni-plaintext\">&lt;null&gt;</div></td><td><div class=\"dni-plaintext\">&lt;null&gt;</div></td></tr><tr><td>7</td><td>[ BoSSS.Solution.Gnuplot.Plot2Ddata+XYvalues ]</td><td>False</td><td>False</td><td>10</td><td>10</td><td>False</td><td>False</td><td><div class=\"dni-plaintext\">&lt;null&gt;</div></td><td><div class=\"dni-plaintext\">&lt;null&gt;</div></td><td><div class=\"dni-plaintext\">&lt;null&gt;</div></td><td><div class=\"dni-plaintext\">&lt;null&gt;</div></td><td><div class=\"dni-plaintext\">&lt;null&gt;</div></td><td><div class=\"dni-plaintext\">&lt;null&gt;</div></td><td><div class=\"dni-plaintext\">&lt;null&gt;</div></td><td><div class=\"dni-plaintext\">&lt;null&gt;</div></td><td>time t</td><td><div class=\"dni-plaintext\">&lt;null&gt;</div></td><td>aspect ratio L/W</td><td><div class=\"dni-plaintext\">&lt;null&gt;</div></td><td><div class=\"dni-plaintext\">&lt;null&gt;</div></td></tr><tr><td>8</td><td>[ BoSSS.Solution.Gnuplot.Plot2Ddata+XYvalues ]</td><td>False</td><td>False</td><td>10</td><td>10</td><td>False</td><td>False</td><td><div class=\"dni-plaintext\">&lt;null&gt;</div></td><td><div class=\"dni-plaintext\">&lt;null&gt;</div></td><td><div class=\"dni-plaintext\">&lt;null&gt;</div></td><td><div class=\"dni-plaintext\">&lt;null&gt;</div></td><td><div class=\"dni-plaintext\">&lt;null&gt;</div></td><td><div class=\"dni-plaintext\">&lt;null&gt;</div></td><td><div class=\"dni-plaintext\">&lt;null&gt;</div></td><td><div class=\"dni-plaintext\">&lt;null&gt;</div></td><td>time t</td><td><div class=\"dni-plaintext\">&lt;null&gt;</div></td><td>aspect ratio L/W</td><td><div class=\"dni-plaintext\">&lt;null&gt;</div></td><td><div class=\"dni-plaintext\">&lt;null&gt;</div></td></tr><tr><td>9</td><td>[ BoSSS.Solution.Gnuplot.Plot2Ddata+XYvalues ]</td><td>False</td><td>False</td><td>10</td><td>10</td><td>False</td><td>False</td><td><div class=\"dni-plaintext\">&lt;null&gt;</div></td><td><div class=\"dni-plaintext\">&lt;null&gt;</div></td><td><div class=\"dni-plaintext\">&lt;null&gt;</div></td><td><div class=\"dni-plaintext\">&lt;null&gt;</div></td><td><div class=\"dni-plaintext\">&lt;null&gt;</div></td><td><div class=\"dni-plaintext\">&lt;null&gt;</div></td><td><div class=\"dni-plaintext\">&lt;null&gt;</div></td><td><div class=\"dni-plaintext\">&lt;null&gt;</div></td><td>time t</td><td><div class=\"dni-plaintext\">&lt;null&gt;</div></td><td>aspect ratio L/W</td><td><div class=\"dni-plaintext\">&lt;null&gt;</div></td><td><div class=\"dni-plaintext\">&lt;null&gt;</div></td></tr><tr><td>10</td><td>[ BoSSS.Solution.Gnuplot.Plot2Ddata+XYvalues ]</td><td>False</td><td>False</td><td>10</td><td>10</td><td>False</td><td>False</td><td><div class=\"dni-plaintext\">&lt;null&gt;</div></td><td><div class=\"dni-plaintext\">&lt;null&gt;</div></td><td><div class=\"dni-plaintext\">&lt;null&gt;</div></td><td><div class=\"dni-plaintext\">&lt;null&gt;</div></td><td><div class=\"dni-plaintext\">&lt;null&gt;</div></td><td><div class=\"dni-plaintext\">&lt;null&gt;</div></td><td><div class=\"dni-plaintext\">&lt;null&gt;</div></td><td><div class=\"dni-plaintext\">&lt;null&gt;</div></td><td>time t</td><td><div class=\"dni-plaintext\">&lt;null&gt;</div></td><td>aspect ratio L/W</td><td><div class=\"dni-plaintext\">&lt;null&gt;</div></td><td><div class=\"dni-plaintext\">&lt;null&gt;</div></td></tr><tr><td>11</td><td>[ BoSSS.Solution.Gnuplot.Plot2Ddata+XYvalues ]</td><td>False</td><td>False</td><td>10</td><td>10</td><td>False</td><td>False</td><td><div class=\"dni-plaintext\">&lt;null&gt;</div></td><td><div class=\"dni-plaintext\">&lt;null&gt;</div></td><td><div class=\"dni-plaintext\">&lt;null&gt;</div></td><td><div class=\"dni-plaintext\">&lt;null&gt;</div></td><td><div class=\"dni-plaintext\">&lt;null&gt;</div></td><td><div class=\"dni-plaintext\">&lt;null&gt;</div></td><td><div class=\"dni-plaintext\">&lt;null&gt;</div></td><td><div class=\"dni-plaintext\">&lt;null&gt;</div></td><td>time t</td><td><div class=\"dni-plaintext\">&lt;null&gt;</div></td><td>aspect ratio L/W</td><td><div class=\"dni-plaintext\">&lt;null&gt;</div></td><td><div class=\"dni-plaintext\">&lt;null&gt;</div></td></tr></tbody></table>"
      ]
     },
     "metadata": {},
     "output_type": "display_data"
    }
   ],
   "source": [
    "PlotTableDM"
   ]
  },
  {
   "cell_type": "markdown",
   "metadata": {
    "dotnet_interactive": {
     "language": "csharp"
    }
   },
   "source": [
    "## m=2 cases (eta = {0.7, 0.6, 0.5, 0.3})"
   ]
  },
  {
   "cell_type": "code",
   "execution_count": null,
   "metadata": {
    "dotnet_interactive": {
     "language": "csharp"
    }
   },
   "outputs": [],
   "source": [
    "var pltTab1 = PlotTableDM[0,0];\n",
    "PlotTableDM[1,0].dataGroups[0].Format.LineColor = LineColors.Magenta;\n",
    "pltTab1 = pltTab1.Merge(PlotTableDM[1,0]);\n",
    "PlotTableDM[2,0].dataGroups[0].Format.LineColor = LineColors.Green;\n",
    "pltTab1 = pltTab1.Merge(PlotTableDM[2,0]);\n",
    "PlotTableDM[3,0].dataGroups[0].Format.LineColor = LineColors.Orange;\n",
    "pltTab1 = pltTab1.Merge(PlotTableDM[3,0]);"
   ]
  },
  {
   "cell_type": "code",
   "execution_count": null,
   "metadata": {
    "dotnet_interactive": {
     "language": "csharp"
    }
   },
   "outputs": [
    {
     "name": "stdout",
     "output_type": "stream",
     "text": [
      "Using gnuplot: C:\\Users\\smuda\\AppData\\Local\\FDY\\BoSSS\\bin\\native\\win\\gnuplot-gp510-20160418-win32-mingw\\gnuplot\\bin\\gnuplot.exe\r\n",
      "set key font \",16\" Left reverse \r\n"
     ]
    },
    {
     "data": {
      "text/html": [
       "<?xml version=\"1.0\" encoding=\"utf-8\"  standalone=\"no\"?>\n",
       "<!DOCTYPE svg PUBLIC \"-//W3C//DTD SVG 1.1//EN\"\n",
       " \"http://www.w3.org/Graphics/SVG/1.1/DTD/svg11.dtd\">\n",
       "<svg \n",
       " width=\"800\" height=\"600\"\n",
       " viewBox=\"0 0 800 600\"\n",
       " xmlns=\"http://www.w3.org/2000/svg\"\n",
       " xmlns:xlink=\"http://www.w3.org/1999/xlink\"\n",
       ">\n",
       "\n",
       "<title>Gnuplot</title>\n",
       "<desc>Produced by GNUPLOT 5.1 patchlevel 0 </desc>\n",
       "\n",
       "<g id=\"gnuplot_canvas\">\n",
       "\n",
       "<rect x=\"0\" y=\"0\" width=\"800\" height=\"600\" fill=\"#ffffff\"/>\n",
       "<defs>\n",
       "\n",
       "\t<circle id='gpDot' r='0.5' stroke-width='0.5'/>\n",
       "\t<path id='gpPt0' stroke-width='0.222' stroke='currentColor' d='M-1,0 h2 M0,-1 v2'/>\n",
       "\t<path id='gpPt1' stroke-width='0.222' stroke='currentColor' d='M-1,-1 L1,1 M1,-1 L-1,1'/>\n",
       "\t<path id='gpPt2' stroke-width='0.222' stroke='currentColor' d='M-1,0 L1,0 M0,-1 L0,1 M-1,-1 L1,1 M-1,1 L1,-1'/>\n",
       "\t<rect id='gpPt3' stroke-width='0.222' stroke='currentColor' x='-1' y='-1' width='2' height='2'/>\n",
       "\t<rect id='gpPt4' stroke-width='0.222' stroke='currentColor' fill='currentColor' x='-1' y='-1' width='2' height='2'/>\n",
       "\t<circle id='gpPt5' stroke-width='0.222' stroke='currentColor' cx='0' cy='0' r='1'/>\n",
       "\t<use xlink:href='#gpPt5' id='gpPt6' fill='currentColor' stroke='none'/>\n",
       "\t<path id='gpPt7' stroke-width='0.222' stroke='currentColor' d='M0,-1.33 L-1.33,0.67 L1.33,0.67 z'/>\n",
       "\t<use xlink:href='#gpPt7' id='gpPt8' fill='currentColor' stroke='none'/>\n",
       "\t<use xlink:href='#gpPt7' id='gpPt9' stroke='currentColor' transform='rotate(180)'/>\n",
       "\t<use xlink:href='#gpPt9' id='gpPt10' fill='currentColor' stroke='none'/>\n",
       "\t<use xlink:href='#gpPt3' id='gpPt11' stroke='currentColor' transform='rotate(45)'/>\n",
       "\t<use xlink:href='#gpPt11' id='gpPt12' fill='currentColor' stroke='none'/>\n",
       "\t<path id='gpPt13' stroke-width='0.222' stroke='currentColor' d='M0,1.330 L1.265,0.411 L0.782,-1.067 L-0.782,-1.076 L-1.265,0.411 z'/>\n",
       "\t<use xlink:href='#gpPt13' id='gpPt14' fill='currentColor' stroke='none'/>\n",
       "\t<filter id='textbox' filterUnits='objectBoundingBox' x='0' y='0' height='1' width='1'>\n",
       "\t  <feFlood flood-color='#FFFFFF' flood-opacity='1' result='bgnd'/>\n",
       "\t  <feComposite in='SourceGraphic' in2='bgnd' operator='atop'/>\n",
       "\t</filter>\n",
       "\t<filter id='greybox' filterUnits='objectBoundingBox' x='0' y='0' height='1' width='1'>\n",
       "\t  <feFlood flood-color='lightgrey' flood-opacity='1' result='grey'/>\n",
       "\t  <feComposite in='SourceGraphic' in2='grey' operator='atop'/>\n",
       "\t</filter>\n",
       "</defs>\n",
       "<g fill=\"none\" color=\"#FFFFFF\" stroke=\"currentColor\" stroke-width=\"1.00\" stroke-linecap=\"butt\" stroke-linejoin=\"miter\">\n",
       "</g>\n",
       "<g fill=\"none\" color=\"black\" stroke=\"currentColor\" stroke-width=\"1.00\" stroke-linecap=\"butt\" stroke-linejoin=\"miter\">\n",
       "\t<path stroke='black'  d='M53.9,564.0 L62.9,564.0 M750.1,564.0 L741.1,564.0  '/>\t<g transform=\"translate(45.6,568.5)\" stroke=\"none\" fill=\"black\" font-family=\"Arial\" font-size=\"12.00\"  text-anchor=\"end\">\n",
       "\t\t<text><tspan font-family=\"Arial\" > 0</tspan></text>\n",
       "\t</g>\n",
       "</g>\n",
       "<g fill=\"none\" color=\"black\" stroke=\"currentColor\" stroke-width=\"1.00\" stroke-linecap=\"butt\" stroke-linejoin=\"miter\">\n",
       "\t<path stroke='black'  d='M53.9,476.0 L62.9,476.0 M750.1,476.0 L741.1,476.0  '/>\t<g transform=\"translate(45.6,480.5)\" stroke=\"none\" fill=\"black\" font-family=\"Arial\" font-size=\"12.00\"  text-anchor=\"end\">\n",
       "\t\t<text><tspan font-family=\"Arial\" > 0.5</tspan></text>\n",
       "\t</g>\n",
       "</g>\n",
       "<g fill=\"none\" color=\"black\" stroke=\"currentColor\" stroke-width=\"1.00\" stroke-linecap=\"butt\" stroke-linejoin=\"miter\">\n",
       "\t<path stroke='black'  d='M53.9,388.0 L62.9,388.0 M750.1,388.0 L741.1,388.0  '/>\t<g transform=\"translate(45.6,392.5)\" stroke=\"none\" fill=\"black\" font-family=\"Arial\" font-size=\"12.00\"  text-anchor=\"end\">\n",
       "\t\t<text><tspan font-family=\"Arial\" > 1</tspan></text>\n",
       "\t</g>\n",
       "</g>\n",
       "<g fill=\"none\" color=\"black\" stroke=\"currentColor\" stroke-width=\"1.00\" stroke-linecap=\"butt\" stroke-linejoin=\"miter\">\n",
       "\t<path stroke='black'  d='M53.9,300.0 L62.9,300.0 M750.1,300.0 L741.1,300.0  '/>\t<g transform=\"translate(45.6,304.5)\" stroke=\"none\" fill=\"black\" font-family=\"Arial\" font-size=\"12.00\"  text-anchor=\"end\">\n",
       "\t\t<text><tspan font-family=\"Arial\" > 1.5</tspan></text>\n",
       "\t</g>\n",
       "</g>\n",
       "<g fill=\"none\" color=\"black\" stroke=\"currentColor\" stroke-width=\"1.00\" stroke-linecap=\"butt\" stroke-linejoin=\"miter\">\n",
       "\t<path stroke='black'  d='M53.9,212.1 L62.9,212.1 M750.1,212.1 L741.1,212.1  '/>\t<g transform=\"translate(45.6,216.6)\" stroke=\"none\" fill=\"black\" font-family=\"Arial\" font-size=\"12.00\"  text-anchor=\"end\">\n",
       "\t\t<text><tspan font-family=\"Arial\" > 2</tspan></text>\n",
       "\t</g>\n",
       "</g>\n",
       "<g fill=\"none\" color=\"black\" stroke=\"currentColor\" stroke-width=\"1.00\" stroke-linecap=\"butt\" stroke-linejoin=\"miter\">\n",
       "\t<path stroke='black'  d='M53.9,124.1 L62.9,124.1 M750.1,124.1 L741.1,124.1  '/>\t<g transform=\"translate(45.6,128.6)\" stroke=\"none\" fill=\"black\" font-family=\"Arial\" font-size=\"12.00\"  text-anchor=\"end\">\n",
       "\t\t<text><tspan font-family=\"Arial\" > 2.5</tspan></text>\n",
       "\t</g>\n",
       "</g>\n",
       "<g fill=\"none\" color=\"black\" stroke=\"currentColor\" stroke-width=\"1.00\" stroke-linecap=\"butt\" stroke-linejoin=\"miter\">\n",
       "\t<path stroke='black'  d='M53.9,36.1 L62.9,36.1 M750.1,36.1 L741.1,36.1  '/>\t<g transform=\"translate(45.6,40.6)\" stroke=\"none\" fill=\"black\" font-family=\"Arial\" font-size=\"12.00\"  text-anchor=\"end\">\n",
       "\t\t<text><tspan font-family=\"Arial\" > 3</tspan></text>\n",
       "\t</g>\n",
       "</g>\n",
       "<g fill=\"none\" color=\"black\" stroke=\"currentColor\" stroke-width=\"1.00\" stroke-linecap=\"butt\" stroke-linejoin=\"miter\">\n",
       "\t<path stroke='black'  d='M53.9,564.0 L53.9,555.0 M53.9,36.1 L53.9,45.1  '/>\t<g transform=\"translate(53.9,586.5)\" stroke=\"none\" fill=\"black\" font-family=\"Arial\" font-size=\"12.00\"  text-anchor=\"middle\">\n",
       "\t\t<text><tspan font-family=\"Arial\" > 0</tspan></text>\n",
       "\t</g>\n",
       "</g>\n",
       "<g fill=\"none\" color=\"black\" stroke=\"currentColor\" stroke-width=\"1.00\" stroke-linecap=\"butt\" stroke-linejoin=\"miter\">\n",
       "\t<path stroke='black'  d='M228.0,564.0 L228.0,555.0 M228.0,36.1 L228.0,45.1  '/>\t<g transform=\"translate(228.0,586.5)\" stroke=\"none\" fill=\"black\" font-family=\"Arial\" font-size=\"12.00\"  text-anchor=\"middle\">\n",
       "\t\t<text><tspan font-family=\"Arial\" > 0.5</tspan></text>\n",
       "\t</g>\n",
       "</g>\n",
       "<g fill=\"none\" color=\"black\" stroke=\"currentColor\" stroke-width=\"1.00\" stroke-linecap=\"butt\" stroke-linejoin=\"miter\">\n",
       "\t<path stroke='black'  d='M402.0,564.0 L402.0,555.0 M402.0,36.1 L402.0,45.1  '/>\t<g transform=\"translate(402.0,586.5)\" stroke=\"none\" fill=\"black\" font-family=\"Arial\" font-size=\"12.00\"  text-anchor=\"middle\">\n",
       "\t\t<text><tspan font-family=\"Arial\" > 1</tspan></text>\n",
       "\t</g>\n",
       "</g>\n",
       "<g fill=\"none\" color=\"black\" stroke=\"currentColor\" stroke-width=\"1.00\" stroke-linecap=\"butt\" stroke-linejoin=\"miter\">\n",
       "\t<path stroke='black'  d='M576.1,564.0 L576.1,555.0 M576.1,36.1 L576.1,45.1  '/>\t<g transform=\"translate(576.1,586.5)\" stroke=\"none\" fill=\"black\" font-family=\"Arial\" font-size=\"12.00\"  text-anchor=\"middle\">\n",
       "\t\t<text><tspan font-family=\"Arial\" > 1.5</tspan></text>\n",
       "\t</g>\n",
       "</g>\n",
       "<g fill=\"none\" color=\"black\" stroke=\"currentColor\" stroke-width=\"1.00\" stroke-linecap=\"butt\" stroke-linejoin=\"miter\">\n",
       "\t<path stroke='black'  d='M750.1,564.0 L750.1,555.0 M750.1,36.1 L750.1,45.1  '/>\t<g transform=\"translate(750.1,586.5)\" stroke=\"none\" fill=\"black\" font-family=\"Arial\" font-size=\"12.00\"  text-anchor=\"middle\">\n",
       "\t\t<text><tspan font-family=\"Arial\" > 2</tspan></text>\n",
       "\t</g>\n",
       "</g>\n",
       "<g fill=\"none\" color=\"black\" stroke=\"currentColor\" stroke-width=\"1.00\" stroke-linecap=\"butt\" stroke-linejoin=\"miter\">\n",
       "\t<path stroke='black'  d='M750.1,564.0 L741.1,564.0  '/>\t<g transform=\"translate(758.4,568.5)\" stroke=\"none\" fill=\"black\" font-family=\"Arial\" font-size=\"12.00\"  text-anchor=\"start\">\n",
       "\t\t<text><tspan font-family=\"Arial\" > </tspan></text>\n",
       "\t</g>\n",
       "</g>\n",
       "<g fill=\"none\" color=\"black\" stroke=\"currentColor\" stroke-width=\"1.00\" stroke-linecap=\"butt\" stroke-linejoin=\"miter\">\n",
       "\t<path stroke='black'  d='M750.1,476.0 L741.1,476.0  '/>\t<g transform=\"translate(758.4,480.5)\" stroke=\"none\" fill=\"black\" font-family=\"Arial\" font-size=\"12.00\"  text-anchor=\"start\">\n",
       "\t\t<text><tspan font-family=\"Arial\" > </tspan></text>\n",
       "\t</g>\n",
       "</g>\n",
       "<g fill=\"none\" color=\"black\" stroke=\"currentColor\" stroke-width=\"1.00\" stroke-linecap=\"butt\" stroke-linejoin=\"miter\">\n",
       "\t<path stroke='black'  d='M750.1,388.0 L741.1,388.0  '/>\t<g transform=\"translate(758.4,392.5)\" stroke=\"none\" fill=\"black\" font-family=\"Arial\" font-size=\"12.00\"  text-anchor=\"start\">\n",
       "\t\t<text><tspan font-family=\"Arial\" > </tspan></text>\n",
       "\t</g>\n",
       "</g>\n",
       "<g fill=\"none\" color=\"black\" stroke=\"currentColor\" stroke-width=\"1.00\" stroke-linecap=\"butt\" stroke-linejoin=\"miter\">\n",
       "\t<path stroke='black'  d='M750.1,300.0 L741.1,300.0  '/>\t<g transform=\"translate(758.4,304.5)\" stroke=\"none\" fill=\"black\" font-family=\"Arial\" font-size=\"12.00\"  text-anchor=\"start\">\n",
       "\t\t<text><tspan font-family=\"Arial\" > </tspan></text>\n",
       "\t</g>\n",
       "</g>\n",
       "<g fill=\"none\" color=\"black\" stroke=\"currentColor\" stroke-width=\"1.00\" stroke-linecap=\"butt\" stroke-linejoin=\"miter\">\n",
       "\t<path stroke='black'  d='M750.1,212.1 L741.1,212.1  '/>\t<g transform=\"translate(758.4,216.6)\" stroke=\"none\" fill=\"black\" font-family=\"Arial\" font-size=\"12.00\"  text-anchor=\"start\">\n",
       "\t\t<text><tspan font-family=\"Arial\" > </tspan></text>\n",
       "\t</g>\n",
       "</g>\n",
       "<g fill=\"none\" color=\"black\" stroke=\"currentColor\" stroke-width=\"1.00\" stroke-linecap=\"butt\" stroke-linejoin=\"miter\">\n",
       "\t<path stroke='black'  d='M750.1,124.1 L741.1,124.1  '/>\t<g transform=\"translate(758.4,128.6)\" stroke=\"none\" fill=\"black\" font-family=\"Arial\" font-size=\"12.00\"  text-anchor=\"start\">\n",
       "\t\t<text><tspan font-family=\"Arial\" > </tspan></text>\n",
       "\t</g>\n",
       "</g>\n",
       "<g fill=\"none\" color=\"black\" stroke=\"currentColor\" stroke-width=\"1.00\" stroke-linecap=\"butt\" stroke-linejoin=\"miter\">\n",
       "\t<path stroke='black'  d='M750.1,36.1 L741.1,36.1  '/>\t<g transform=\"translate(758.4,40.6)\" stroke=\"none\" fill=\"black\" font-family=\"Arial\" font-size=\"12.00\"  text-anchor=\"start\">\n",
       "\t\t<text><tspan font-family=\"Arial\" > </tspan></text>\n",
       "\t</g>\n",
       "</g>\n",
       "<g fill=\"none\" color=\"black\" stroke=\"currentColor\" stroke-width=\"1.00\" stroke-linecap=\"butt\" stroke-linejoin=\"miter\">\n",
       "\t<path stroke='black'  d='M53.9,36.1 L53.9,45.1  '/>\t<g transform=\"translate(53.9,22.6)\" stroke=\"none\" fill=\"black\" font-family=\"Arial\" font-size=\"12.00\"  text-anchor=\"middle\">\n",
       "\t\t<text><tspan font-family=\"Arial\" > </tspan></text>\n",
       "\t</g>\n",
       "</g>\n",
       "<g fill=\"none\" color=\"black\" stroke=\"currentColor\" stroke-width=\"1.00\" stroke-linecap=\"butt\" stroke-linejoin=\"miter\">\n",
       "\t<path stroke='black'  d='M228.0,36.1 L228.0,45.1  '/>\t<g transform=\"translate(228.0,22.6)\" stroke=\"none\" fill=\"black\" font-family=\"Arial\" font-size=\"12.00\"  text-anchor=\"middle\">\n",
       "\t\t<text><tspan font-family=\"Arial\" > </tspan></text>\n",
       "\t</g>\n",
       "</g>\n",
       "<g fill=\"none\" color=\"black\" stroke=\"currentColor\" stroke-width=\"1.00\" stroke-linecap=\"butt\" stroke-linejoin=\"miter\">\n",
       "\t<path stroke='black'  d='M402.0,36.1 L402.0,45.1  '/>\t<g transform=\"translate(402.0,22.6)\" stroke=\"none\" fill=\"black\" font-family=\"Arial\" font-size=\"12.00\"  text-anchor=\"middle\">\n",
       "\t\t<text><tspan font-family=\"Arial\" > </tspan></text>\n",
       "\t</g>\n",
       "</g>\n",
       "<g fill=\"none\" color=\"black\" stroke=\"currentColor\" stroke-width=\"1.00\" stroke-linecap=\"butt\" stroke-linejoin=\"miter\">\n",
       "\t<path stroke='black'  d='M576.1,36.1 L576.1,45.1  '/>\t<g transform=\"translate(576.1,22.6)\" stroke=\"none\" fill=\"black\" font-family=\"Arial\" font-size=\"12.00\"  text-anchor=\"middle\">\n",
       "\t\t<text><tspan font-family=\"Arial\" > </tspan></text>\n",
       "\t</g>\n",
       "</g>\n",
       "<g fill=\"none\" color=\"black\" stroke=\"currentColor\" stroke-width=\"1.00\" stroke-linecap=\"butt\" stroke-linejoin=\"miter\">\n",
       "\t<path stroke='black'  d='M750.1,36.1 L750.1,45.1  '/>\t<g transform=\"translate(750.1,22.6)\" stroke=\"none\" fill=\"black\" font-family=\"Arial\" font-size=\"12.00\"  text-anchor=\"middle\">\n",
       "\t\t<text><tspan font-family=\"Arial\" > </tspan></text>\n",
       "\t</g>\n",
       "</g>\n",
       "<g fill=\"none\" color=\"black\" stroke=\"currentColor\" stroke-width=\"1.00\" stroke-linecap=\"butt\" stroke-linejoin=\"miter\">\n",
       "</g>\n",
       "<g fill=\"none\" color=\"black\" stroke=\"currentColor\" stroke-width=\"1.00\" stroke-linecap=\"butt\" stroke-linejoin=\"miter\">\n",
       "\t<path stroke='black'  d='M53.9,36.1 L53.9,564.0 L750.1,564.0 L750.1,36.1 L53.9,36.1 Z  '/></g>\n",
       "<g fill=\"none\" color=\"black\" stroke=\"currentColor\" stroke-width=\"1.00\" stroke-linecap=\"butt\" stroke-linejoin=\"miter\">\n",
       "</g>\n",
       "\t<g id=\"gnuplot_plot_1\" ><title>BoSSS-J686m2Oh01eta07</title>\n",
       "<g fill=\"none\" color=\"#FFFFFF\" stroke=\"black\" stroke-width=\"3.00\" stroke-linecap=\"butt\" stroke-linejoin=\"miter\">\n",
       "</g>\n",
       "<g fill=\"none\" color=\"black\" stroke=\"currentColor\" stroke-width=\"3.00\" stroke-linecap=\"butt\" stroke-linejoin=\"miter\">\n",
       "\t<g transform=\"translate(519.8,63.1)\" stroke=\"none\" fill=\"black\" font-family=\"Arial\" font-size=\"16.00\"  text-anchor=\"start\">\n",
       "\t\t<text><tspan font-family=\"Arial\" >BoSSS-J686m2</tspan><tspan font-family=\"Arial\"  font-size=\"12.8\" dy=\"4.80px\">O</tspan><tspan font-family=\"Arial\"  font-size=\"16.0\" dy=\"-4.80px\">h01</tspan><tspan font-family=\"Arial\"  font-size=\"12.8\" dy=\"4.80px\">e</tspan><tspan font-family=\"Arial\"  font-size=\"16.0\" dy=\"-4.80px\">ta07</tspan></text>\n",
       "\t</g>\n",
       "</g>\n",
       "<g fill=\"none\" color=\"black\" stroke=\"currentColor\" stroke-width=\"3.00\" stroke-linecap=\"butt\" stroke-linejoin=\"miter\">\n",
       "\t<path stroke='rgb(  0,   0, 255)'  d='M455.3,57.1 L508.7,57.1 M53.9,49.8 L55.6,49.8 L57.4,50.5 L59.1,51.7 L60.9,53.3 L62.6,55.3\n",
       "\t\tL64.3,57.5 L66.1,59.8 L67.8,62.3 L69.6,64.8 L71.3,67.2 L73.0,69.7 L74.8,72.0 L76.5,74.3\n",
       "\t\tL78.3,76.5 L80.0,78.8 L81.7,80.9 L83.5,83.1 L85.2,85.2 L87.0,87.3 L88.7,89.4 L90.5,91.5\n",
       "\t\tL92.2,93.6 L93.9,95.7 L95.7,97.8 L97.4,99.9 L99.2,102.0 L100.9,104.1 L102.6,106.2 L104.4,108.3\n",
       "\t\tL106.1,110.3 L107.9,112.4 L109.6,116.5 L111.3,118.3 L113.1,121.4 L114.8,123.1 L116.6,124.9 L118.3,126.7\n",
       "\t\tL120.0,128.3 L121.8,129.9 L123.5,131.5 L125.3,133.3 L127.0,135.1 L128.7,136.9 L130.5,138.7 L132.2,140.5\n",
       "\t\tL134.0,142.8 L135.7,144.6 L137.4,146.3 L139.2,147.9 L140.9,149.4 L142.7,151.9 L144.4,153.4 L146.1,154.9\n",
       "\t\tL147.9,156.9 L149.6,158.3 L151.4,159.8 L153.1,161.2 L154.8,162.7 L156.6,164.1 L158.3,165.8 L160.1,167.5\n",
       "\t\tL161.8,169.1 L163.6,170.6 L165.3,172.0 L167.0,173.7 L168.8,175.2 L170.5,176.6 L172.3,178.2 L174.0,179.7\n",
       "\t\tL175.7,181.2 L177.5,182.6 L179.2,184.0 L181.0,185.4 L182.7,186.8 L184.4,188.2 L186.2,189.6 L187.9,191.0\n",
       "\t\tL189.7,192.3 L191.4,193.7 L193.1,195.0 L194.9,196.4 L196.6,197.7 L198.4,199.1 L200.1,200.2 L201.8,201.6\n",
       "\t\tL203.6,203.0 L205.3,204.3 L207.1,205.7 L208.8,207.0 L210.5,208.3 L212.3,209.4 L214.0,210.7 L215.8,212.1\n",
       "\t\tL217.5,213.4 L219.2,214.7 L221.0,216.0 L222.7,217.0 L224.5,218.3 L226.2,219.6 L228.0,221.0 L229.7,222.3\n",
       "\t\tL231.4,223.3 L233.2,224.6 L234.9,226.1 L236.7,227.5 L238.4,228.9 L240.1,230.2 L241.9,231.6 L243.6,232.9\n",
       "\t\tL245.4,234.2 L247.1,235.5 L248.8,236.8 L250.6,238.1 L252.3,239.4 L254.1,240.7 L255.8,242.1 L257.5,243.4\n",
       "\t\tL259.3,244.9 L261.0,246.2 L262.8,247.6 L264.5,248.9 L266.2,250.4 L268.0,251.8 L269.7,253.2 L271.5,254.6\n",
       "\t\tL273.2,256.0 L274.9,257.4 L276.7,258.9 L278.4,260.4 L280.2,261.9 L281.9,263.4 L283.6,264.9 L285.4,266.5\n",
       "\t\tL287.1,268.0 L288.9,270.5 L290.6,272.0 L292.3,273.4 L294.1,274.8 L295.8,276.4 L297.6,278.0 L299.3,279.6\n",
       "\t\tL301.1,281.3 L302.8,283.6 L304.5,285.1 L306.3,286.7 L308.0,288.6 L309.8,290.2 L311.5,291.8 L313.2,293.4\n",
       "\t\tL315.0,295.2 L316.7,296.9 L318.5,298.7 L320.2,300.5 L321.9,302.3 L323.7,304.1 L325.4,305.8 L327.2,307.7\n",
       "\t\tL328.9,309.5 L330.6,311.3 L332.4,313.2 L334.1,315.1 L335.9,316.9 L337.6,318.8 L339.3,320.4 L341.1,322.3\n",
       "\t\tL342.8,324.2 L344.6,325.8 L346.3,327.7 L348.0,329.5 L349.8,331.5 L351.5,333.4 L353.3,335.3 L355.0,337.0\n",
       "\t\tL356.7,339.0 L358.5,340.9 L360.2,342.7 L362.0,344.6 L363.7,346.5 L365.4,348.3 L367.2,350.2 L368.9,352.2\n",
       "\t\tL370.7,354.0 L372.4,355.8 L374.2,357.7 L375.9,359.6 L377.6,361.4 L379.4,363.2 L381.1,364.8 L382.9,366.6\n",
       "\t\tL384.6,368.4 L386.3,370.2 L388.1,372.0 L389.8,373.8 L391.6,375.5 L393.3,377.2 L395.0,378.9 L396.8,380.6\n",
       "\t\tL398.5,382.2 L400.3,383.9 L402.0,385.5 L403.7,387.2 L405.5,388.8 L407.2,390.4 L409.0,392.1 L410.7,393.7\n",
       "\t\tL412.4,395.3 L414.2,396.8 L415.9,398.4 L417.7,399.9 L419.4,401.4 L421.1,402.9 L422.9,404.5 L424.6,405.8\n",
       "\t\tL426.4,407.2 L428.1,408.6 L429.8,410.0 L431.6,411.4 L433.3,412.9 L435.1,414.1 L436.8,415.6 L438.6,416.8\n",
       "\t\tL440.3,418.0 L442.0,419.5 L443.8,421.1 L445.5,422.2 L447.3,423.5 L449.0,424.6 L450.7,425.4 L452.5,426.3\n",
       "\t\tL454.2,427.6 L456.0,428.4 L457.7,429.3 L459.4,430.3 L461.2,431.5 L462.9,432.3 L464.7,433.2 L466.4,434.2\n",
       "\t\tL468.1,435.1 L469.9,436.0 L471.6,437.0 L473.4,437.8 L475.1,438.6 L476.8,439.4 L478.6,440.2 L480.3,441.0\n",
       "\t\tL482.1,441.7 L483.8,442.4 L485.5,443.0 L487.3,443.7 L489.0,444.3 L490.8,445.0 L492.5,445.6 L494.2,446.2\n",
       "\t\tL496.0,446.8 L497.7,447.3 L499.5,447.8 L501.2,448.3 L502.9,448.8 L504.7,449.3 L506.4,449.8 L508.2,450.4\n",
       "\t\tL509.9,564.0 L511.7,451.2 L513.4,564.0 L515.1,451.9 L516.9,564.0 L518.6,564.0 L520.4,452.8 L522.1,453.2\n",
       "\t\tL523.8,453.5 L525.6,453.8 L527.3,454.1  '/></g>\n",
       "\t</g>\n",
       "\t<g id=\"gnuplot_plot_2\" ><title>BoSSS-J686m2Oh01eta06</title>\n",
       "<g fill=\"none\" color=\"black\" stroke=\"currentColor\" stroke-width=\"3.00\" stroke-linecap=\"butt\" stroke-linejoin=\"miter\">\n",
       "\t<g transform=\"translate(519.8,87.1)\" stroke=\"none\" fill=\"black\" font-family=\"Arial\" font-size=\"16.00\"  text-anchor=\"start\">\n",
       "\t\t<text><tspan font-family=\"Arial\" >BoSSS-J686m2</tspan><tspan font-family=\"Arial\"  font-size=\"12.8\" dy=\"4.80px\">O</tspan><tspan font-family=\"Arial\"  font-size=\"16.0\" dy=\"-4.80px\">h01</tspan><tspan font-family=\"Arial\"  font-size=\"12.8\" dy=\"4.80px\">e</tspan><tspan font-family=\"Arial\"  font-size=\"16.0\" dy=\"-4.80px\">ta06</tspan></text>\n",
       "\t</g>\n",
       "</g>\n",
       "<g fill=\"none\" color=\"black\" stroke=\"currentColor\" stroke-width=\"3.00\" stroke-linecap=\"butt\" stroke-linejoin=\"miter\">\n",
       "\t<path stroke='rgb(255,   0, 255)'  d='M455.3,81.1 L508.7,81.1 M53.9,134.4 L55.6,134.5 L57.4,134.7 L59.1,135.2 L60.9,136.0 L62.6,136.9\n",
       "\t\tL64.3,138.0 L66.1,139.1 L67.8,140.3 L69.6,141.5 L71.3,142.8 L73.0,144.1 L74.8,145.5 L76.5,146.8\n",
       "\t\tL78.3,148.1 L80.0,149.7 L81.7,150.9 L83.5,152.4 L85.2,153.8 L87.0,155.0 L88.7,156.5 L90.5,158.3\n",
       "\t\tL92.2,159.8 L93.9,161.4 L95.7,162.9 L97.4,164.4 L99.2,165.9 L100.9,167.4 L102.6,168.8 L104.4,170.1\n",
       "\t\tL106.1,171.5 L107.9,172.9 L109.6,174.3 L111.3,175.3 L113.1,176.9 L114.8,178.4 L116.6,179.9 L118.3,181.4\n",
       "\t\tL120.0,182.8 L121.8,184.2 L123.5,185.6 L125.3,187.0 L127.0,188.3 L128.7,189.6 L130.5,190.9 L132.2,192.2\n",
       "\t\tL134.0,193.5 L135.7,194.7 L137.4,196.0 L139.2,197.3 L140.9,198.3 L142.7,199.7 L144.4,201.0 L146.1,202.3\n",
       "\t\tL147.9,203.6 L149.6,204.9 L151.4,206.1 L153.1,207.3 L154.8,208.6 L156.6,209.8 L158.3,211.0 L160.1,212.2\n",
       "\t\tL161.8,213.4 L163.6,214.6 L165.3,215.8 L167.0,217.0 L168.8,218.2 L170.5,219.4 L172.3,220.5 L174.0,221.7\n",
       "\t\tL175.7,222.9 L177.5,224.1 L179.2,225.3 L181.0,226.4 L182.7,227.6 L184.4,228.7 L186.2,229.9 L187.9,231.1\n",
       "\t\tL189.7,232.1 L191.4,233.2 L193.1,234.6 L194.9,235.8 L196.6,237.0 L198.4,238.1 L200.1,239.3 L201.8,240.4\n",
       "\t\tL203.6,241.5 L205.3,242.6 L207.1,243.7 L208.8,244.8 L210.5,245.9 L212.3,247.0 L214.0,248.1 L215.8,249.2\n",
       "\t\tL217.5,250.4 L219.2,251.5 L221.0,252.7 L222.7,253.8 L224.5,255.0 L226.2,256.1 L228.0,257.2 L229.7,258.4\n",
       "\t\tL231.4,259.6 L233.2,260.7 L234.9,261.9 L236.7,263.1 L238.4,264.3 L240.1,265.5 L241.9,266.7 L243.6,267.9\n",
       "\t\tL245.4,269.2 L247.1,270.5 L248.8,271.7 L250.6,273.0 L252.3,274.3 L254.1,275.6 L255.8,277.6 L257.5,278.8\n",
       "\t\tL259.3,280.1 L261.0,281.4 L262.8,282.7 L264.5,284.1 L266.2,285.8 L268.0,287.1 L269.7,288.6 L271.5,289.9\n",
       "\t\tL273.2,291.3 L274.9,292.7 L276.7,294.2 L278.4,295.6 L280.2,297.1 L281.9,298.7 L283.6,300.2 L285.4,301.8\n",
       "\t\tL287.1,303.3 L288.9,304.8 L290.6,306.4 L292.3,307.9 L294.1,309.5 L295.8,310.8 L297.6,312.5 L299.3,314.0\n",
       "\t\tL301.1,315.8 L302.8,317.4 L304.5,319.1 L306.3,320.9 L308.0,322.5 L309.8,324.2 L311.5,325.9 L313.2,327.5\n",
       "\t\tL315.0,328.9 L316.7,330.6 L318.5,332.3 L320.2,334.0 L321.9,335.6 L323.7,337.4 L325.4,339.1 L327.2,340.8\n",
       "\t\tL328.9,342.5 L330.6,344.2 L332.4,345.9 L334.1,347.6 L335.9,349.3 L337.6,351.0 L339.3,352.8 L341.1,354.4\n",
       "\t\tL342.8,356.1 L344.6,357.8 L346.3,359.5 L348.0,361.1 L349.8,362.8 L351.5,364.4 L353.3,365.9 L355.0,367.6\n",
       "\t\tL356.7,369.2 L358.5,370.9 L360.2,372.6 L362.0,374.2 L363.7,375.8 L365.4,377.4 L367.2,378.9 L368.9,380.4\n",
       "\t\tL370.7,382.0 L372.4,383.5 L374.2,385.0 L375.9,386.5 L377.6,388.0 L379.4,389.4 L381.1,390.9 L382.9,392.3\n",
       "\t\tL384.6,393.8 L386.3,395.2 L388.1,396.7 L389.8,398.0 L391.6,399.4 L393.3,400.8 L395.0,402.2 L396.8,403.5\n",
       "\t\tL398.5,404.8 L400.3,406.1 L402.0,407.4 L403.7,408.6 L405.5,409.9 L407.2,411.1 L409.0,412.3 L410.7,413.5\n",
       "\t\tL412.4,414.7 L414.2,415.9 L415.9,417.0 L417.7,418.1 L419.4,419.2 L421.1,420.5 L422.9,421.6 L424.6,422.5\n",
       "\t\tL426.4,423.7 L428.1,424.5 L429.8,425.6 L431.6,426.4 L433.3,427.4 L435.1,428.2 L436.8,429.0 L438.6,429.8\n",
       "\t\tL440.3,430.6 L442.0,431.4 L443.8,432.2 L445.5,433.0 L447.3,433.9 L449.0,434.7 L450.7,435.5 L452.5,436.1\n",
       "\t\tL454.2,436.8 L456.0,437.5 L457.7,438.2 L459.4,438.8 L461.2,564.0 L462.9,440.1 L464.7,440.7 L466.4,441.3\n",
       "\t\tL468.1,441.8 L469.9,564.0 L471.6,442.8 L473.4,443.3 L475.1,443.7 L476.8,444.2 L478.6,444.6 L480.3,445.1\n",
       "\t\tL482.1,445.5 L483.8,445.9 L485.5,446.3 L487.3,446.6 L489.0,447.0 L490.8,447.3 L492.5,447.6 L494.2,448.0\n",
       "\t\tL496.0,448.3 L497.7,448.5 L499.5,448.7 L501.2,449.0 L502.9,449.3 L504.7,449.5 L506.4,449.7 L508.2,450.0\n",
       "\t\tL509.9,450.2 L511.7,450.3 L513.4,450.5 L515.1,450.5 L516.9,450.7 L518.6,450.8 L520.4,451.0 L522.1,451.1\n",
       "\t\tL523.8,451.2 L525.6,451.1 L527.3,451.2 L529.1,451.3 L530.8,451.3 L532.5,451.4 L534.3,451.4 L536.0,451.4\n",
       "\t\tL537.8,451.4  '/></g>\n",
       "\t</g>\n",
       "\t<g id=\"gnuplot_plot_3\" ><title>BoSSS-J686m2Oh01eta05</title>\n",
       "<g fill=\"none\" color=\"black\" stroke=\"currentColor\" stroke-width=\"3.00\" stroke-linecap=\"butt\" stroke-linejoin=\"miter\">\n",
       "\t<g transform=\"translate(519.8,111.1)\" stroke=\"none\" fill=\"black\" font-family=\"Arial\" font-size=\"16.00\"  text-anchor=\"start\">\n",
       "\t\t<text><tspan font-family=\"Arial\" >BoSSS-J686m2</tspan><tspan font-family=\"Arial\"  font-size=\"12.8\" dy=\"4.80px\">O</tspan><tspan font-family=\"Arial\"  font-size=\"16.0\" dy=\"-4.80px\">h01</tspan><tspan font-family=\"Arial\"  font-size=\"12.8\" dy=\"4.80px\">e</tspan><tspan font-family=\"Arial\"  font-size=\"16.0\" dy=\"-4.80px\">ta05</tspan></text>\n",
       "\t</g>\n",
       "</g>\n",
       "<g fill=\"none\" color=\"black\" stroke=\"currentColor\" stroke-width=\"3.00\" stroke-linecap=\"butt\" stroke-linejoin=\"miter\">\n",
       "\t<path stroke='rgb(  0, 255,   0)'  d='M455.3,105.1 L508.7,105.1 M53.9,198.9 L55.6,198.9 L57.4,199.0 L59.1,199.3 L60.9,199.7 L62.6,200.1\n",
       "\t\tL64.3,200.6 L66.1,201.2 L67.8,201.8 L69.6,202.5 L71.3,203.2 L73.0,204.0 L74.8,204.8 L76.5,205.6\n",
       "\t\tL78.3,206.4 L80.0,207.2 L81.7,208.0 L83.5,208.9 L85.2,209.8 L87.0,210.7 L88.7,211.6 L90.5,212.5\n",
       "\t\tL92.2,213.4 L93.9,214.4 L95.7,215.3 L97.4,216.3 L99.2,217.2 L100.9,218.2 L102.6,219.1 L104.4,220.1\n",
       "\t\tL106.1,221.1 L107.9,222.0 L109.6,223.0 L111.3,224.0 L113.1,225.0 L114.8,226.0 L116.6,226.9 L118.3,227.9\n",
       "\t\tL120.0,228.9 L121.8,229.9 L123.5,230.8 L125.3,231.8 L127.0,232.8 L128.7,233.8 L130.5,234.7 L132.2,235.7\n",
       "\t\tL134.0,236.7 L135.7,237.6 L137.4,238.6 L139.2,239.6 L140.9,240.6 L142.7,241.5 L144.4,242.5 L146.1,243.5\n",
       "\t\tL147.9,244.5 L149.6,245.5 L151.4,246.4 L153.1,247.4 L154.8,248.4 L156.6,249.3 L158.3,250.3 L160.1,251.2\n",
       "\t\tL161.8,252.2 L163.6,253.2 L165.3,254.1 L167.0,255.1 L168.8,256.1 L170.5,257.0 L172.3,258.0 L174.0,258.9\n",
       "\t\tL175.7,259.9 L177.5,260.8 L179.2,261.8 L181.0,262.7 L182.7,263.7 L184.4,264.6 L186.2,265.6 L187.9,266.6\n",
       "\t\tL189.7,267.5 L191.4,268.5 L193.1,269.5 L194.9,270.4 L196.6,271.4 L198.4,272.4 L200.1,273.4 L201.8,274.5\n",
       "\t\tL203.6,275.5 L205.3,276.4 L207.1,277.5 L208.8,278.5 L210.5,279.4 L212.3,280.4 L214.0,281.4 L215.8,282.6\n",
       "\t\tL217.5,283.6 L219.2,284.6 L221.0,285.7 L222.7,286.8 L224.5,287.9 L226.2,289.0 L228.0,290.1 L229.7,291.2\n",
       "\t\tL231.4,292.4  '/></g>\n",
       "\t</g>\n",
       "\t<g id=\"gnuplot_plot_4\" ><title>BoSSS-J686m2Oh01eta03</title>\n",
       "<g fill=\"none\" color=\"black\" stroke=\"currentColor\" stroke-width=\"3.00\" stroke-linecap=\"butt\" stroke-linejoin=\"miter\">\n",
       "\t<g transform=\"translate(519.8,135.1)\" stroke=\"none\" fill=\"black\" font-family=\"Arial\" font-size=\"16.00\"  text-anchor=\"start\">\n",
       "\t\t<text><tspan font-family=\"Arial\" >BoSSS-J686m2</tspan><tspan font-family=\"Arial\"  font-size=\"12.8\" dy=\"4.80px\">O</tspan><tspan font-family=\"Arial\"  font-size=\"16.0\" dy=\"-4.80px\">h01</tspan><tspan font-family=\"Arial\"  font-size=\"12.8\" dy=\"4.80px\">e</tspan><tspan font-family=\"Arial\"  font-size=\"16.0\" dy=\"-4.80px\">ta03</tspan></text>\n",
       "\t</g>\n",
       "</g>\n",
       "<g fill=\"none\" color=\"black\" stroke=\"currentColor\" stroke-width=\"3.00\" stroke-linecap=\"butt\" stroke-linejoin=\"miter\">\n",
       "\t<path stroke='rgb(255, 165,   0)'  d='M455.3,129.1 L508.7,129.1 M53.9,292.8 L55.6,292.8 L57.4,292.8 L59.1,292.9 L60.9,293.0 L62.6,293.1\n",
       "\t\tL64.3,293.2 L66.1,293.3 L67.8,293.5 L69.6,293.7 L71.3,293.8 L73.0,294.1 L74.8,294.3 L76.5,294.5\n",
       "\t\tL78.3,294.8 L80.0,295.1 L81.7,295.3 L83.5,295.6 L85.2,295.9 L87.0,296.3 L88.7,296.6 L90.5,296.9\n",
       "\t\tL92.2,297.3 L93.9,297.7 L95.7,298.0 L97.4,298.4 L99.2,298.8 L100.9,299.2 L102.6,299.6 L104.4,300.0\n",
       "\t\tL106.1,300.4 L107.9,300.9 L109.6,301.3 L111.3,301.8 L113.1,302.2 L114.8,302.7 L116.6,303.1 L118.3,303.6\n",
       "\t\tL120.0,304.1 L121.8,304.6 L123.5,305.1 L125.3,305.6 L127.0,306.1 L128.7,306.6 L130.5,307.1 L132.2,307.6\n",
       "\t\tL134.0,308.1 L135.7,308.7 L137.4,309.2 L139.2,309.7 L140.9,310.3 L142.7,310.8 L144.4,311.4 L146.1,311.9\n",
       "\t\tL147.9,312.5 L149.6,313.0 L151.4,313.6 L153.1,314.2 L154.8,314.8 L156.6,315.4 L158.3,315.9 L160.1,316.5\n",
       "\t\tL161.8,317.1 L163.6,317.8 L165.3,318.4 L167.0,319.0 L168.8,319.6 L170.5,320.2 L172.3,320.9 L174.0,321.5\n",
       "\t\tL175.7,322.2 L177.5,322.8 L179.2,323.5 L181.0,324.1 L182.7,324.8 L184.4,325.4 L186.2,326.1 L187.9,326.8\n",
       "\t\tL189.7,327.5 L191.4,328.2 L193.1,328.9 L194.9,329.7 L196.6,330.4 L198.4,331.1 L200.1,331.8 L201.8,332.6\n",
       "\t\tL203.6,333.3 L205.3,334.1 L207.1,334.9 L208.8,335.6 L210.5,336.4 L212.3,337.2 L214.0,338.0 L215.8,338.8\n",
       "\t\tL217.5,339.6 L219.2,340.4 L221.0,341.2 L222.7,342.0 L224.5,342.9 L226.2,343.7 L228.0,344.6 L229.7,345.4\n",
       "\t\tL231.4,346.3 L233.2,347.1 L234.9,348.0 L236.7,348.9 L238.4,349.8 L240.1,350.7 L241.9,351.5 L243.6,352.4\n",
       "\t\tL245.4,353.3 L247.1,354.2 L248.8,355.1 L250.6,356.0 L252.3,356.9 L254.1,357.8 L255.8,358.7 L257.5,359.6\n",
       "\t\tL259.3,360.6 L261.0,361.5 L262.8,362.4 L264.5,363.4 L266.2,364.2 L268.0,365.2 L269.7,366.1 L271.5,367.0\n",
       "\t\tL273.2,368.0 L274.9,368.9 L276.7,369.8 L278.4,370.7 L280.2,371.6 L281.9,372.5 L283.6,373.5 L285.4,374.4\n",
       "\t\tL287.1,375.3 L288.9,376.2 L290.6,377.1 L292.3,378.0 L294.1,378.9 L295.8,379.8 L297.6,380.7 L299.3,381.6\n",
       "\t\tL301.1,382.5 L302.8,383.4 L304.5,384.2 L306.3,385.1 L308.0,386.0 L309.8,386.8 L311.5,387.7 L313.2,388.5\n",
       "\t\tL315.0,389.4 L316.7,390.2 L318.5,391.0 L320.2,391.8 L321.9,392.6 L323.7,393.5 L325.4,394.3 L327.2,395.0\n",
       "\t\tL328.9,395.8 L330.6,396.6 L332.4,397.4 L334.1,398.1 L335.9,398.9 L337.6,399.6 L339.3,400.4 L341.1,401.1\n",
       "\t\tL342.8,401.9 L344.6,402.6 L346.3,403.3 L348.0,404.0 L349.8,404.6 L351.5,405.3 L353.3,406.0 L355.0,406.7\n",
       "\t\tL356.7,407.3 L358.5,408.0 L360.2,564.0 L362.0,409.2 L363.7,409.8 L365.4,410.4 L367.2,411.0 L368.9,411.6\n",
       "\t\tL370.7,412.1 L372.4,412.7 L374.2,413.2 L375.9,413.8 L377.6,414.2 L379.4,414.8 L381.1,415.3 L382.9,415.8\n",
       "\t\tL384.6,416.3 L386.3,416.8 L388.1,417.3 L389.8,417.7 L391.6,418.2 L393.3,418.7 L395.0,419.1 L396.8,564.0\n",
       "\t\tL398.5,419.9 L400.3,420.3 L402.0,420.7 L403.7,421.1 L405.5,421.5 L407.2,421.9 L409.0,422.2 L410.7,422.6\n",
       "\t\tL412.4,422.8 L414.2,423.1 L415.9,423.4 L417.7,423.7 L419.4,424.0 L421.1,424.3 L422.9,424.6 L424.6,424.8\n",
       "\t\tL426.4,425.1 L428.1,425.3 L429.8,425.5 L431.6,425.7 L433.3,426.0 L435.1,426.2 L436.8,426.4 L438.6,426.5\n",
       "\t\tL440.3,426.7 L442.0,426.9 L443.8,427.1 L445.5,427.2 L447.3,427.4 L449.0,427.5 L450.7,427.6 L452.5,427.8\n",
       "\t\tL454.2,427.9 L456.0,428.0 L457.7,428.1 L459.4,428.2 L461.2,428.3 L462.9,428.3 L464.7,428.4 L466.4,428.4\n",
       "\t\tL468.1,428.5 L469.9,428.5 L471.6,428.6 L473.4,428.6 L475.1,428.6 L476.8,428.6 L478.6,428.6 L480.3,428.6\n",
       "\t\tL482.1,428.6 L483.8,428.6 L485.5,428.5 L487.3,428.5 L489.0,428.4 L490.8,428.4 L492.5,428.3 L494.2,428.3\n",
       "\t\tL496.0,428.2 L497.7,428.1 L499.5,428.0 L501.2,427.9 L502.9,427.8 L504.7,427.7 L506.4,427.6 L508.2,427.4\n",
       "\t\tL509.9,427.3 L511.7,427.1 L513.4,427.0 L515.1,426.8 L516.9,426.7 L518.6,426.5 L520.4,426.3 L522.1,426.1\n",
       "\t\tL523.8,425.9 L525.6,425.8 L527.3,425.5 L529.1,425.3 L530.8,425.1 L532.5,424.9 L534.3,424.7 L536.0,424.4\n",
       "\t\tL537.8,424.2 L539.5,423.9 L541.2,423.6 L543.0,423.3 L544.7,423.0 L546.5,422.8 L548.2,422.5 L549.9,422.2\n",
       "\t\tL551.7,421.9 L553.4,421.6 L555.2,421.3 L556.9,421.0 L558.6,420.7 L560.4,420.3 L562.1,420.0 L563.9,419.7\n",
       "\t\tL565.6,419.3 L567.3,419.0 L569.1,418.6 L570.8,418.3 L572.6,417.9 L574.3,417.5 L576.0,417.1 L577.8,416.8\n",
       "\t\tL579.5,416.4 L581.3,416.0 L583.0,415.6 L584.8,415.2 L586.5,414.7 L588.2,414.3 L590.0,413.9 L591.7,413.5\n",
       "\t\tL593.5,413.1 L595.2,412.6 L596.9,412.2 L598.7,564.0 L600.4,564.0 L602.2,564.0 L603.9,564.0 L605.6,564.0\n",
       "\t\tL607.4,564.0 L609.1,564.0 L610.9,564.0 L612.6,564.0 L614.3,564.0 L616.1,564.0 L617.8,564.0 L619.6,564.0\n",
       "\t\tL621.3,564.0 L623.0,564.0 L624.8,564.0 L626.5,564.0 L628.3,564.0 L630.0,564.0 L631.7,402.9 L633.5,402.4\n",
       "\t\tL635.2,402.0 L637.0,401.5 L638.7,401.0 L640.4,400.5 L642.2,400.0 L643.9,399.5 L645.7,399.0 L647.4,398.5\n",
       "\t\tL649.2,398.0 L650.9,397.5 L652.6,397.0 L654.4,396.5 L656.1,396.0 L657.9,395.5 L659.6,395.0 L661.3,394.5\n",
       "\t\tL663.1,394.0 L664.8,393.4 L666.6,392.9 L668.3,392.4 L670.0,391.9 L671.8,391.4 L673.5,390.9 L675.3,390.4\n",
       "\t\tL677.0,389.9 L678.7,389.5 L680.5,389.0 L682.2,388.5 L684.0,388.0 L685.7,387.5 L687.4,387.0 L689.2,386.5\n",
       "\t\tL690.9,386.0 L692.7,564.0 L694.4,564.0 L696.1,384.6 L697.9,384.1 L699.6,383.6 L701.4,383.2 L703.1,382.7\n",
       "\t\tL704.8,382.2 L706.6,381.8 L708.3,381.3 L710.1,380.8 L711.8,380.4 L713.5,379.9 L715.3,379.5 L717.0,379.0\n",
       "\t\tL718.8,378.6 L720.5,378.1 L722.3,377.7 L724.0,377.2 L725.7,376.8 L727.5,376.4 L729.2,376.0 L731.0,375.5\n",
       "\t\tL732.7,375.1 L734.4,374.7 L736.2,374.3 L737.9,373.9 L739.7,373.5 L741.4,373.1 L743.1,372.7 L744.9,372.3\n",
       "\t\tL746.6,371.9 L748.4,371.6 L750.1,371.2  '/></g>\n",
       "\t</g>\n",
       "<g fill=\"none\" color=\"#FFFFFF\" stroke=\"rgb(255, 165,   0)\" stroke-width=\"2.00\" stroke-linecap=\"butt\" stroke-linejoin=\"miter\">\n",
       "</g>\n",
       "<g fill=\"none\" color=\"black\" stroke=\"currentColor\" stroke-width=\"2.00\" stroke-linecap=\"butt\" stroke-linejoin=\"miter\">\n",
       "</g>\n",
       "<g fill=\"none\" color=\"black\" stroke=\"black\" stroke-width=\"1.00\" stroke-linecap=\"butt\" stroke-linejoin=\"miter\">\n",
       "</g>\n",
       "<g fill=\"none\" color=\"black\" stroke=\"currentColor\" stroke-width=\"1.00\" stroke-linecap=\"butt\" stroke-linejoin=\"miter\">\n",
       "\t<path stroke='black'  d='M53.9,36.1 L53.9,564.0 L750.1,564.0 L750.1,36.1 L53.9,36.1 Z  '/></g>\n",
       "<g fill=\"none\" color=\"black\" stroke=\"currentColor\" stroke-width=\"1.00\" stroke-linecap=\"butt\" stroke-linejoin=\"miter\">\n",
       "</g>\n",
       "</g>\n",
       "</svg>\n",
       "\n"
      ]
     },
     "metadata": {},
     "output_type": "display_data"
    }
   ],
   "source": [
    "pltTab1.XrangeMin = 0;\n",
    "pltTab1.XrangeMax = 2;\n",
    "var gp = pltTab1.ToGnuplot();\n",
    "gp.PlotSVG()"
   ]
  },
  {
   "cell_type": "code",
   "execution_count": null,
   "metadata": {
    "dotnet_interactive": {
     "language": "csharp"
    }
   },
   "outputs": [],
   "source": [
    "// foreach(var grp in pltTab1.dataGroups) {\n",
    "//     Plot2Ddata dat = new Plot2Ddata();\n",
    "//     dat.AddDataGroup(grp);\n",
    "//     string name = \"plotData/AspectRatioOverTime/m2/\" + pltTab1.Title + \"/\" + grp.Name + \".txt\";\n",
    "//     dat.SaveToTextFile(name);\n",
    "// }"
   ]
  },
  {
   "cell_type": "markdown",
   "metadata": {
    "dotnet_interactive": {
     "language": "csharp"
    }
   },
   "source": [
    "## m=3 cases (eta = {0.7, 0.6, 0.5})"
   ]
  },
  {
   "cell_type": "code",
   "execution_count": null,
   "metadata": {
    "dotnet_interactive": {
     "language": "csharp"
    }
   },
   "outputs": [],
   "source": [
    "var pltTab2 = PlotTableDM[4,0];\n",
    "PlotTableDM[5,0].dataGroups[0].Format.LineColor = LineColors.Magenta;\n",
    "pltTab2 = pltTab2.Merge(PlotTableDM[5,0]);\n",
    "PlotTableDM[6,0].dataGroups[0].Format.LineColor = LineColors.Green;\n",
    "pltTab2 = pltTab2.Merge(PlotTableDM[6,0]);"
   ]
  },
  {
   "cell_type": "code",
   "execution_count": null,
   "metadata": {
    "dotnet_interactive": {
     "language": "csharp"
    }
   },
   "outputs": [
    {
     "name": "stdout",
     "output_type": "stream",
     "text": [
      "Using gnuplot: C:\\Users\\smuda\\AppData\\Local\\FDY\\BoSSS\\bin\\native\\win\\gnuplot-gp510-20160418-win32-mingw\\gnuplot\\bin\\gnuplot.exe\r\n",
      "set key font \",16\" Left reverse \r\n"
     ]
    },
    {
     "data": {
      "text/html": [
       "<?xml version=\"1.0\" encoding=\"utf-8\"  standalone=\"no\"?>\n",
       "<!DOCTYPE svg PUBLIC \"-//W3C//DTD SVG 1.1//EN\"\n",
       " \"http://www.w3.org/Graphics/SVG/1.1/DTD/svg11.dtd\">\n",
       "<svg \n",
       " width=\"800\" height=\"600\"\n",
       " viewBox=\"0 0 800 600\"\n",
       " xmlns=\"http://www.w3.org/2000/svg\"\n",
       " xmlns:xlink=\"http://www.w3.org/1999/xlink\"\n",
       ">\n",
       "\n",
       "<title>Gnuplot</title>\n",
       "<desc>Produced by GNUPLOT 5.1 patchlevel 0 </desc>\n",
       "\n",
       "<g id=\"gnuplot_canvas\">\n",
       "\n",
       "<rect x=\"0\" y=\"0\" width=\"800\" height=\"600\" fill=\"#ffffff\"/>\n",
       "<defs>\n",
       "\n",
       "\t<circle id='gpDot' r='0.5' stroke-width='0.5'/>\n",
       "\t<path id='gpPt0' stroke-width='0.222' stroke='currentColor' d='M-1,0 h2 M0,-1 v2'/>\n",
       "\t<path id='gpPt1' stroke-width='0.222' stroke='currentColor' d='M-1,-1 L1,1 M1,-1 L-1,1'/>\n",
       "\t<path id='gpPt2' stroke-width='0.222' stroke='currentColor' d='M-1,0 L1,0 M0,-1 L0,1 M-1,-1 L1,1 M-1,1 L1,-1'/>\n",
       "\t<rect id='gpPt3' stroke-width='0.222' stroke='currentColor' x='-1' y='-1' width='2' height='2'/>\n",
       "\t<rect id='gpPt4' stroke-width='0.222' stroke='currentColor' fill='currentColor' x='-1' y='-1' width='2' height='2'/>\n",
       "\t<circle id='gpPt5' stroke-width='0.222' stroke='currentColor' cx='0' cy='0' r='1'/>\n",
       "\t<use xlink:href='#gpPt5' id='gpPt6' fill='currentColor' stroke='none'/>\n",
       "\t<path id='gpPt7' stroke-width='0.222' stroke='currentColor' d='M0,-1.33 L-1.33,0.67 L1.33,0.67 z'/>\n",
       "\t<use xlink:href='#gpPt7' id='gpPt8' fill='currentColor' stroke='none'/>\n",
       "\t<use xlink:href='#gpPt7' id='gpPt9' stroke='currentColor' transform='rotate(180)'/>\n",
       "\t<use xlink:href='#gpPt9' id='gpPt10' fill='currentColor' stroke='none'/>\n",
       "\t<use xlink:href='#gpPt3' id='gpPt11' stroke='currentColor' transform='rotate(45)'/>\n",
       "\t<use xlink:href='#gpPt11' id='gpPt12' fill='currentColor' stroke='none'/>\n",
       "\t<path id='gpPt13' stroke-width='0.222' stroke='currentColor' d='M0,1.330 L1.265,0.411 L0.782,-1.067 L-0.782,-1.076 L-1.265,0.411 z'/>\n",
       "\t<use xlink:href='#gpPt13' id='gpPt14' fill='currentColor' stroke='none'/>\n",
       "\t<filter id='textbox' filterUnits='objectBoundingBox' x='0' y='0' height='1' width='1'>\n",
       "\t  <feFlood flood-color='#FFFFFF' flood-opacity='1' result='bgnd'/>\n",
       "\t  <feComposite in='SourceGraphic' in2='bgnd' operator='atop'/>\n",
       "\t</filter>\n",
       "\t<filter id='greybox' filterUnits='objectBoundingBox' x='0' y='0' height='1' width='1'>\n",
       "\t  <feFlood flood-color='lightgrey' flood-opacity='1' result='grey'/>\n",
       "\t  <feComposite in='SourceGraphic' in2='grey' operator='atop'/>\n",
       "\t</filter>\n",
       "</defs>\n",
       "<g fill=\"none\" color=\"#FFFFFF\" stroke=\"currentColor\" stroke-width=\"1.00\" stroke-linecap=\"butt\" stroke-linejoin=\"miter\">\n",
       "</g>\n",
       "<g fill=\"none\" color=\"black\" stroke=\"currentColor\" stroke-width=\"1.00\" stroke-linecap=\"butt\" stroke-linejoin=\"miter\">\n",
       "\t<path stroke='black'  d='M53.9,564.0 L62.9,564.0 M750.1,564.0 L741.1,564.0  '/>\t<g transform=\"translate(45.6,568.5)\" stroke=\"none\" fill=\"black\" font-family=\"Arial\" font-size=\"12.00\"  text-anchor=\"end\">\n",
       "\t\t<text><tspan font-family=\"Arial\" > 0</tspan></text>\n",
       "\t</g>\n",
       "</g>\n",
       "<g fill=\"none\" color=\"black\" stroke=\"currentColor\" stroke-width=\"1.00\" stroke-linecap=\"butt\" stroke-linejoin=\"miter\">\n",
       "\t<path stroke='black'  d='M53.9,488.6 L62.9,488.6 M750.1,488.6 L741.1,488.6  '/>\t<g transform=\"translate(45.6,493.1)\" stroke=\"none\" fill=\"black\" font-family=\"Arial\" font-size=\"12.00\"  text-anchor=\"end\">\n",
       "\t\t<text><tspan font-family=\"Arial\" > 0.2</tspan></text>\n",
       "\t</g>\n",
       "</g>\n",
       "<g fill=\"none\" color=\"black\" stroke=\"currentColor\" stroke-width=\"1.00\" stroke-linecap=\"butt\" stroke-linejoin=\"miter\">\n",
       "\t<path stroke='black'  d='M53.9,413.2 L62.9,413.2 M750.1,413.2 L741.1,413.2  '/>\t<g transform=\"translate(45.6,417.7)\" stroke=\"none\" fill=\"black\" font-family=\"Arial\" font-size=\"12.00\"  text-anchor=\"end\">\n",
       "\t\t<text><tspan font-family=\"Arial\" > 0.4</tspan></text>\n",
       "\t</g>\n",
       "</g>\n",
       "<g fill=\"none\" color=\"black\" stroke=\"currentColor\" stroke-width=\"1.00\" stroke-linecap=\"butt\" stroke-linejoin=\"miter\">\n",
       "\t<path stroke='black'  d='M53.9,337.8 L62.9,337.8 M750.1,337.8 L741.1,337.8  '/>\t<g transform=\"translate(45.6,342.3)\" stroke=\"none\" fill=\"black\" font-family=\"Arial\" font-size=\"12.00\"  text-anchor=\"end\">\n",
       "\t\t<text><tspan font-family=\"Arial\" > 0.6</tspan></text>\n",
       "\t</g>\n",
       "</g>\n",
       "<g fill=\"none\" color=\"black\" stroke=\"currentColor\" stroke-width=\"1.00\" stroke-linecap=\"butt\" stroke-linejoin=\"miter\">\n",
       "\t<path stroke='black'  d='M53.9,262.3 L62.9,262.3 M750.1,262.3 L741.1,262.3  '/>\t<g transform=\"translate(45.6,266.8)\" stroke=\"none\" fill=\"black\" font-family=\"Arial\" font-size=\"12.00\"  text-anchor=\"end\">\n",
       "\t\t<text><tspan font-family=\"Arial\" > 0.8</tspan></text>\n",
       "\t</g>\n",
       "</g>\n",
       "<g fill=\"none\" color=\"black\" stroke=\"currentColor\" stroke-width=\"1.00\" stroke-linecap=\"butt\" stroke-linejoin=\"miter\">\n",
       "\t<path stroke='black'  d='M53.9,186.9 L62.9,186.9 M750.1,186.9 L741.1,186.9  '/>\t<g transform=\"translate(45.6,191.4)\" stroke=\"none\" fill=\"black\" font-family=\"Arial\" font-size=\"12.00\"  text-anchor=\"end\">\n",
       "\t\t<text><tspan font-family=\"Arial\" > 1</tspan></text>\n",
       "\t</g>\n",
       "</g>\n",
       "<g fill=\"none\" color=\"black\" stroke=\"currentColor\" stroke-width=\"1.00\" stroke-linecap=\"butt\" stroke-linejoin=\"miter\">\n",
       "\t<path stroke='black'  d='M53.9,111.5 L62.9,111.5 M750.1,111.5 L741.1,111.5  '/>\t<g transform=\"translate(45.6,116.0)\" stroke=\"none\" fill=\"black\" font-family=\"Arial\" font-size=\"12.00\"  text-anchor=\"end\">\n",
       "\t\t<text><tspan font-family=\"Arial\" > 1.2</tspan></text>\n",
       "\t</g>\n",
       "</g>\n",
       "<g fill=\"none\" color=\"black\" stroke=\"currentColor\" stroke-width=\"1.00\" stroke-linecap=\"butt\" stroke-linejoin=\"miter\">\n",
       "\t<path stroke='black'  d='M53.9,36.1 L62.9,36.1 M750.1,36.1 L741.1,36.1  '/>\t<g transform=\"translate(45.6,40.6)\" stroke=\"none\" fill=\"black\" font-family=\"Arial\" font-size=\"12.00\"  text-anchor=\"end\">\n",
       "\t\t<text><tspan font-family=\"Arial\" > 1.4</tspan></text>\n",
       "\t</g>\n",
       "</g>\n",
       "<g fill=\"none\" color=\"black\" stroke=\"currentColor\" stroke-width=\"1.00\" stroke-linecap=\"butt\" stroke-linejoin=\"miter\">\n",
       "\t<path stroke='black'  d='M53.9,564.0 L53.9,555.0 M53.9,36.1 L53.9,45.1  '/>\t<g transform=\"translate(53.9,586.5)\" stroke=\"none\" fill=\"black\" font-family=\"Arial\" font-size=\"12.00\"  text-anchor=\"middle\">\n",
       "\t\t<text><tspan font-family=\"Arial\" > 0</tspan></text>\n",
       "\t</g>\n",
       "</g>\n",
       "<g fill=\"none\" color=\"black\" stroke=\"currentColor\" stroke-width=\"1.00\" stroke-linecap=\"butt\" stroke-linejoin=\"miter\">\n",
       "\t<path stroke='black'  d='M169.9,564.0 L169.9,555.0 M169.9,36.1 L169.9,45.1  '/>\t<g transform=\"translate(169.9,586.5)\" stroke=\"none\" fill=\"black\" font-family=\"Arial\" font-size=\"12.00\"  text-anchor=\"middle\">\n",
       "\t\t<text><tspan font-family=\"Arial\" > 0.2</tspan></text>\n",
       "\t</g>\n",
       "</g>\n",
       "<g fill=\"none\" color=\"black\" stroke=\"currentColor\" stroke-width=\"1.00\" stroke-linecap=\"butt\" stroke-linejoin=\"miter\">\n",
       "\t<path stroke='black'  d='M286.0,564.0 L286.0,555.0 M286.0,36.1 L286.0,45.1  '/>\t<g transform=\"translate(286.0,586.5)\" stroke=\"none\" fill=\"black\" font-family=\"Arial\" font-size=\"12.00\"  text-anchor=\"middle\">\n",
       "\t\t<text><tspan font-family=\"Arial\" > 0.4</tspan></text>\n",
       "\t</g>\n",
       "</g>\n",
       "<g fill=\"none\" color=\"black\" stroke=\"currentColor\" stroke-width=\"1.00\" stroke-linecap=\"butt\" stroke-linejoin=\"miter\">\n",
       "\t<path stroke='black'  d='M402.0,564.0 L402.0,555.0 M402.0,36.1 L402.0,45.1  '/>\t<g transform=\"translate(402.0,586.5)\" stroke=\"none\" fill=\"black\" font-family=\"Arial\" font-size=\"12.00\"  text-anchor=\"middle\">\n",
       "\t\t<text><tspan font-family=\"Arial\" > 0.6</tspan></text>\n",
       "\t</g>\n",
       "</g>\n",
       "<g fill=\"none\" color=\"black\" stroke=\"currentColor\" stroke-width=\"1.00\" stroke-linecap=\"butt\" stroke-linejoin=\"miter\">\n",
       "\t<path stroke='black'  d='M518.0,564.0 L518.0,555.0 M518.0,36.1 L518.0,45.1  '/>\t<g transform=\"translate(518.0,586.5)\" stroke=\"none\" fill=\"black\" font-family=\"Arial\" font-size=\"12.00\"  text-anchor=\"middle\">\n",
       "\t\t<text><tspan font-family=\"Arial\" > 0.8</tspan></text>\n",
       "\t</g>\n",
       "</g>\n",
       "<g fill=\"none\" color=\"black\" stroke=\"currentColor\" stroke-width=\"1.00\" stroke-linecap=\"butt\" stroke-linejoin=\"miter\">\n",
       "\t<path stroke='black'  d='M634.1,564.0 L634.1,555.0 M634.1,36.1 L634.1,45.1  '/>\t<g transform=\"translate(634.1,586.5)\" stroke=\"none\" fill=\"black\" font-family=\"Arial\" font-size=\"12.00\"  text-anchor=\"middle\">\n",
       "\t\t<text><tspan font-family=\"Arial\" > 1</tspan></text>\n",
       "\t</g>\n",
       "</g>\n",
       "<g fill=\"none\" color=\"black\" stroke=\"currentColor\" stroke-width=\"1.00\" stroke-linecap=\"butt\" stroke-linejoin=\"miter\">\n",
       "\t<path stroke='black'  d='M750.1,564.0 L750.1,555.0 M750.1,36.1 L750.1,45.1  '/>\t<g transform=\"translate(750.1,586.5)\" stroke=\"none\" fill=\"black\" font-family=\"Arial\" font-size=\"12.00\"  text-anchor=\"middle\">\n",
       "\t\t<text><tspan font-family=\"Arial\" > 1.2</tspan></text>\n",
       "\t</g>\n",
       "</g>\n",
       "<g fill=\"none\" color=\"black\" stroke=\"currentColor\" stroke-width=\"1.00\" stroke-linecap=\"butt\" stroke-linejoin=\"miter\">\n",
       "\t<path stroke='black'  d='M750.1,564.0 L741.1,564.0  '/>\t<g transform=\"translate(758.4,568.5)\" stroke=\"none\" fill=\"black\" font-family=\"Arial\" font-size=\"12.00\"  text-anchor=\"start\">\n",
       "\t\t<text><tspan font-family=\"Arial\" > </tspan></text>\n",
       "\t</g>\n",
       "</g>\n",
       "<g fill=\"none\" color=\"black\" stroke=\"currentColor\" stroke-width=\"1.00\" stroke-linecap=\"butt\" stroke-linejoin=\"miter\">\n",
       "\t<path stroke='black'  d='M750.1,488.6 L741.1,488.6  '/>\t<g transform=\"translate(758.4,493.1)\" stroke=\"none\" fill=\"black\" font-family=\"Arial\" font-size=\"12.00\"  text-anchor=\"start\">\n",
       "\t\t<text><tspan font-family=\"Arial\" > </tspan></text>\n",
       "\t</g>\n",
       "</g>\n",
       "<g fill=\"none\" color=\"black\" stroke=\"currentColor\" stroke-width=\"1.00\" stroke-linecap=\"butt\" stroke-linejoin=\"miter\">\n",
       "\t<path stroke='black'  d='M750.1,413.2 L741.1,413.2  '/>\t<g transform=\"translate(758.4,417.7)\" stroke=\"none\" fill=\"black\" font-family=\"Arial\" font-size=\"12.00\"  text-anchor=\"start\">\n",
       "\t\t<text><tspan font-family=\"Arial\" > </tspan></text>\n",
       "\t</g>\n",
       "</g>\n",
       "<g fill=\"none\" color=\"black\" stroke=\"currentColor\" stroke-width=\"1.00\" stroke-linecap=\"butt\" stroke-linejoin=\"miter\">\n",
       "\t<path stroke='black'  d='M750.1,337.8 L741.1,337.8  '/>\t<g transform=\"translate(758.4,342.3)\" stroke=\"none\" fill=\"black\" font-family=\"Arial\" font-size=\"12.00\"  text-anchor=\"start\">\n",
       "\t\t<text><tspan font-family=\"Arial\" > </tspan></text>\n",
       "\t</g>\n",
       "</g>\n",
       "<g fill=\"none\" color=\"black\" stroke=\"currentColor\" stroke-width=\"1.00\" stroke-linecap=\"butt\" stroke-linejoin=\"miter\">\n",
       "\t<path stroke='black'  d='M750.1,262.3 L741.1,262.3  '/>\t<g transform=\"translate(758.4,266.8)\" stroke=\"none\" fill=\"black\" font-family=\"Arial\" font-size=\"12.00\"  text-anchor=\"start\">\n",
       "\t\t<text><tspan font-family=\"Arial\" > </tspan></text>\n",
       "\t</g>\n",
       "</g>\n",
       "<g fill=\"none\" color=\"black\" stroke=\"currentColor\" stroke-width=\"1.00\" stroke-linecap=\"butt\" stroke-linejoin=\"miter\">\n",
       "\t<path stroke='black'  d='M750.1,186.9 L741.1,186.9  '/>\t<g transform=\"translate(758.4,191.4)\" stroke=\"none\" fill=\"black\" font-family=\"Arial\" font-size=\"12.00\"  text-anchor=\"start\">\n",
       "\t\t<text><tspan font-family=\"Arial\" > </tspan></text>\n",
       "\t</g>\n",
       "</g>\n",
       "<g fill=\"none\" color=\"black\" stroke=\"currentColor\" stroke-width=\"1.00\" stroke-linecap=\"butt\" stroke-linejoin=\"miter\">\n",
       "\t<path stroke='black'  d='M750.1,111.5 L741.1,111.5  '/>\t<g transform=\"translate(758.4,116.0)\" stroke=\"none\" fill=\"black\" font-family=\"Arial\" font-size=\"12.00\"  text-anchor=\"start\">\n",
       "\t\t<text><tspan font-family=\"Arial\" > </tspan></text>\n",
       "\t</g>\n",
       "</g>\n",
       "<g fill=\"none\" color=\"black\" stroke=\"currentColor\" stroke-width=\"1.00\" stroke-linecap=\"butt\" stroke-linejoin=\"miter\">\n",
       "\t<path stroke='black'  d='M750.1,36.1 L741.1,36.1  '/>\t<g transform=\"translate(758.4,40.6)\" stroke=\"none\" fill=\"black\" font-family=\"Arial\" font-size=\"12.00\"  text-anchor=\"start\">\n",
       "\t\t<text><tspan font-family=\"Arial\" > </tspan></text>\n",
       "\t</g>\n",
       "</g>\n",
       "<g fill=\"none\" color=\"black\" stroke=\"currentColor\" stroke-width=\"1.00\" stroke-linecap=\"butt\" stroke-linejoin=\"miter\">\n",
       "\t<path stroke='black'  d='M53.9,36.1 L53.9,45.1  '/>\t<g transform=\"translate(53.9,22.6)\" stroke=\"none\" fill=\"black\" font-family=\"Arial\" font-size=\"12.00\"  text-anchor=\"middle\">\n",
       "\t\t<text><tspan font-family=\"Arial\" > </tspan></text>\n",
       "\t</g>\n",
       "</g>\n",
       "<g fill=\"none\" color=\"black\" stroke=\"currentColor\" stroke-width=\"1.00\" stroke-linecap=\"butt\" stroke-linejoin=\"miter\">\n",
       "\t<path stroke='black'  d='M169.9,36.1 L169.9,45.1  '/>\t<g transform=\"translate(169.9,22.6)\" stroke=\"none\" fill=\"black\" font-family=\"Arial\" font-size=\"12.00\"  text-anchor=\"middle\">\n",
       "\t\t<text><tspan font-family=\"Arial\" > </tspan></text>\n",
       "\t</g>\n",
       "</g>\n",
       "<g fill=\"none\" color=\"black\" stroke=\"currentColor\" stroke-width=\"1.00\" stroke-linecap=\"butt\" stroke-linejoin=\"miter\">\n",
       "\t<path stroke='black'  d='M286.0,36.1 L286.0,45.1  '/>\t<g transform=\"translate(286.0,22.6)\" stroke=\"none\" fill=\"black\" font-family=\"Arial\" font-size=\"12.00\"  text-anchor=\"middle\">\n",
       "\t\t<text><tspan font-family=\"Arial\" > </tspan></text>\n",
       "\t</g>\n",
       "</g>\n",
       "<g fill=\"none\" color=\"black\" stroke=\"currentColor\" stroke-width=\"1.00\" stroke-linecap=\"butt\" stroke-linejoin=\"miter\">\n",
       "\t<path stroke='black'  d='M402.0,36.1 L402.0,45.1  '/>\t<g transform=\"translate(402.0,22.6)\" stroke=\"none\" fill=\"black\" font-family=\"Arial\" font-size=\"12.00\"  text-anchor=\"middle\">\n",
       "\t\t<text><tspan font-family=\"Arial\" > </tspan></text>\n",
       "\t</g>\n",
       "</g>\n",
       "<g fill=\"none\" color=\"black\" stroke=\"currentColor\" stroke-width=\"1.00\" stroke-linecap=\"butt\" stroke-linejoin=\"miter\">\n",
       "\t<path stroke='black'  d='M518.0,36.1 L518.0,45.1  '/>\t<g transform=\"translate(518.0,22.6)\" stroke=\"none\" fill=\"black\" font-family=\"Arial\" font-size=\"12.00\"  text-anchor=\"middle\">\n",
       "\t\t<text><tspan font-family=\"Arial\" > </tspan></text>\n",
       "\t</g>\n",
       "</g>\n",
       "<g fill=\"none\" color=\"black\" stroke=\"currentColor\" stroke-width=\"1.00\" stroke-linecap=\"butt\" stroke-linejoin=\"miter\">\n",
       "\t<path stroke='black'  d='M634.1,36.1 L634.1,45.1  '/>\t<g transform=\"translate(634.1,22.6)\" stroke=\"none\" fill=\"black\" font-family=\"Arial\" font-size=\"12.00\"  text-anchor=\"middle\">\n",
       "\t\t<text><tspan font-family=\"Arial\" > </tspan></text>\n",
       "\t</g>\n",
       "</g>\n",
       "<g fill=\"none\" color=\"black\" stroke=\"currentColor\" stroke-width=\"1.00\" stroke-linecap=\"butt\" stroke-linejoin=\"miter\">\n",
       "\t<path stroke='black'  d='M750.1,36.1 L750.1,45.1  '/>\t<g transform=\"translate(750.1,22.6)\" stroke=\"none\" fill=\"black\" font-family=\"Arial\" font-size=\"12.00\"  text-anchor=\"middle\">\n",
       "\t\t<text><tspan font-family=\"Arial\" > </tspan></text>\n",
       "\t</g>\n",
       "</g>\n",
       "<g fill=\"none\" color=\"black\" stroke=\"currentColor\" stroke-width=\"1.00\" stroke-linecap=\"butt\" stroke-linejoin=\"miter\">\n",
       "</g>\n",
       "<g fill=\"none\" color=\"black\" stroke=\"currentColor\" stroke-width=\"1.00\" stroke-linecap=\"butt\" stroke-linejoin=\"miter\">\n",
       "\t<path stroke='black'  d='M53.9,36.1 L53.9,564.0 L750.1,564.0 L750.1,36.1 L53.9,36.1 Z  '/></g>\n",
       "<g fill=\"none\" color=\"black\" stroke=\"currentColor\" stroke-width=\"1.00\" stroke-linecap=\"butt\" stroke-linejoin=\"miter\">\n",
       "</g>\n",
       "\t<g id=\"gnuplot_plot_1\" ><title>BoSSS-J686m3Oh01eta07</title>\n",
       "<g fill=\"none\" color=\"#FFFFFF\" stroke=\"black\" stroke-width=\"3.00\" stroke-linecap=\"butt\" stroke-linejoin=\"miter\">\n",
       "</g>\n",
       "<g fill=\"none\" color=\"black\" stroke=\"currentColor\" stroke-width=\"3.00\" stroke-linecap=\"butt\" stroke-linejoin=\"miter\">\n",
       "\t<g transform=\"translate(519.8,63.1)\" stroke=\"none\" fill=\"black\" font-family=\"Arial\" font-size=\"16.00\"  text-anchor=\"start\">\n",
       "\t\t<text><tspan font-family=\"Arial\" >BoSSS-J686m3</tspan><tspan font-family=\"Arial\"  font-size=\"12.8\" dy=\"4.80px\">O</tspan><tspan font-family=\"Arial\"  font-size=\"16.0\" dy=\"-4.80px\">h01</tspan><tspan font-family=\"Arial\"  font-size=\"12.8\" dy=\"4.80px\">e</tspan><tspan font-family=\"Arial\"  font-size=\"16.0\" dy=\"-4.80px\">ta07</tspan></text>\n",
       "\t</g>\n",
       "</g>\n",
       "<g fill=\"none\" color=\"black\" stroke=\"currentColor\" stroke-width=\"3.00\" stroke-linecap=\"butt\" stroke-linejoin=\"miter\">\n",
       "\t<path stroke='rgb(  0,   0, 255)'  d='M455.3,57.1 L508.7,57.1 M53.9,560.5 L56.8,560.5 L59.7,559.9 L62.6,562.8 L65.5,562.9 L68.4,562.8\n",
       "\t\tL71.3,561.2 L74.2,561.6 L77.1,562.7 L80.0,564.0 L82.9,563.6 L85.8,563.9 L88.7,538.7 L91.6,182.5\n",
       "\t\tL94.5,179.1 L97.4,563.2 L100.3,562.8 L103.2,561.9  '/></g>\n",
       "\t</g>\n",
       "\t<g id=\"gnuplot_plot_2\" ><title>BoSSS-J686m3Oh01eta06</title>\n",
       "<g fill=\"none\" color=\"black\" stroke=\"currentColor\" stroke-width=\"3.00\" stroke-linecap=\"butt\" stroke-linejoin=\"miter\">\n",
       "\t<g transform=\"translate(519.8,87.1)\" stroke=\"none\" fill=\"black\" font-family=\"Arial\" font-size=\"16.00\"  text-anchor=\"start\">\n",
       "\t\t<text><tspan font-family=\"Arial\" >BoSSS-J686m3</tspan><tspan font-family=\"Arial\"  font-size=\"12.8\" dy=\"4.80px\">O</tspan><tspan font-family=\"Arial\"  font-size=\"16.0\" dy=\"-4.80px\">h01</tspan><tspan font-family=\"Arial\"  font-size=\"12.8\" dy=\"4.80px\">e</tspan><tspan font-family=\"Arial\"  font-size=\"16.0\" dy=\"-4.80px\">ta06</tspan></text>\n",
       "\t</g>\n",
       "</g>\n",
       "<g fill=\"none\" color=\"black\" stroke=\"currentColor\" stroke-width=\"3.00\" stroke-linecap=\"butt\" stroke-linejoin=\"miter\">\n",
       "\t<path stroke='rgb(255,   0, 255)'  d='M455.3,81.1 L508.7,81.1 M53.9,222.5 L56.8,561.5 L59.7,549.1 L62.6,219.9 L65.5,562.8 L68.4,562.1\n",
       "\t\tL71.3,560.8 L74.2,560.6 L77.1,560.8 L80.0,530.7  '/></g>\n",
       "\t</g>\n",
       "\t<g id=\"gnuplot_plot_3\" ><title>BoSSS-J686m3Oh01eta05</title>\n",
       "<g fill=\"none\" color=\"black\" stroke=\"currentColor\" stroke-width=\"3.00\" stroke-linecap=\"butt\" stroke-linejoin=\"miter\">\n",
       "\t<g transform=\"translate(519.8,111.1)\" stroke=\"none\" fill=\"black\" font-family=\"Arial\" font-size=\"16.00\"  text-anchor=\"start\">\n",
       "\t\t<text><tspan font-family=\"Arial\" >BoSSS-J686m3</tspan><tspan font-family=\"Arial\"  font-size=\"12.8\" dy=\"4.80px\">O</tspan><tspan font-family=\"Arial\"  font-size=\"16.0\" dy=\"-4.80px\">h01</tspan><tspan font-family=\"Arial\"  font-size=\"12.8\" dy=\"4.80px\">e</tspan><tspan font-family=\"Arial\"  font-size=\"16.0\" dy=\"-4.80px\">ta05</tspan></text>\n",
       "\t</g>\n",
       "</g>\n",
       "<g fill=\"none\" color=\"black\" stroke=\"currentColor\" stroke-width=\"3.00\" stroke-linecap=\"butt\" stroke-linejoin=\"miter\">\n",
       "\t<path stroke='rgb(  0, 255,   0)'  d='M455.3,105.1 L508.7,105.1 M53.9,563.5 L56.8,563.5 L59.7,563.8 L62.6,563.9 L65.5,564.0 L68.4,564.0\n",
       "\t\tL71.3,179.4 L74.2,563.5 L77.1,563.5 L80.0,563.7 L82.9,564.0 L85.8,563.9 L88.7,564.0 L91.6,563.8\n",
       "\t\tL94.5,563.9 L97.4,563.9 L100.3,564.0 L103.2,563.9 L106.1,563.9 L109.0,155.0 L111.9,564.0 L114.8,564.0\n",
       "\t\tL117.7,150.1 L120.6,563.8 L123.5,563.9 L126.4,563.8 L129.3,563.9 L132.2,563.7 L135.1,563.7 L138.0,563.9\n",
       "\t\tL140.9,563.9 L143.8,563.9 L146.7,564.0 L149.6,564.0 L152.5,564.0 L155.4,563.9 L158.3,563.9 L161.2,563.9\n",
       "\t\tL164.1,131.7 L167.0,563.9 L169.9,563.9 L172.8,564.0 L175.7,126.3 L178.6,564.0 L181.5,561.8 L184.4,563.8\n",
       "\t\tL187.3,563.7 L190.2,560.7 L193.1,122.6 L196.0,121.1 L198.9,564.0 L201.8,564.0 L204.7,564.0 L207.6,564.0\n",
       "\t\tL210.5,564.0 L213.4,564.0 L216.3,564.0 L219.2,564.0 L222.1,111.9 L225.0,111.2 L228.0,564.0 L230.9,564.0\n",
       "\t\tL233.8,109.3 L236.7,564.0 L239.6,564.0 L242.5,564.0 L245.4,564.0 L248.3,564.0 L251.2,105.4 L254.1,564.0\n",
       "\t\tL257.0,564.0 L259.9,134.8 L262.8,529.1 L265.7,563.8 L268.6,563.7 L271.5,562.7 L274.4,563.0 L277.3,527.0\n",
       "\t\tL280.2,563.9 L283.1,563.9 L286.0,563.9 L288.9,524.4 L291.8,526.2 L294.7,563.9 L297.6,522.4 L300.5,516.1\n",
       "\t\tL303.4,563.9 L306.3,103.3 L309.2,119.1 L312.1,120.5 L315.0,545.6 L317.9,123.1 L320.8,543.4 L323.7,564.0\n",
       "\t\tL326.6,564.0 L329.5,564.0 L332.4,564.0 L335.3,133.0 L338.2,564.0 L341.1,564.0 L344.0,564.0 L346.9,135.0\n",
       "\t\tL349.8,113.5 L352.7,113.7 L355.6,114.5 L358.5,115.3 L361.4,539.2 L364.3,116.8 L367.2,537.6 L370.1,145.9\n",
       "\t\tL373.0,564.0 L375.9,147.3 L378.8,559.0 L381.7,151.7 L384.6,149.6 L387.5,538.3 L390.4,536.0 L393.3,151.8\n",
       "\t\tL396.2,546.9 L399.1,558.7 L402.0,159.5 L404.9,556.9 L407.8,156.2 L410.7,533.3 L413.6,517.5 L416.5,544.1\n",
       "\t\tL419.4,130.7 L422.3,527.4 L425.2,484.8 L428.1,520.1 L431.0,564.0 L433.9,182.6 L436.8,208.7 L439.7,513.5\n",
       "\t\tL442.6,556.3 L445.5,490.4 L448.4,135.6 L451.3,485.2 L454.2,135.9 L457.1,564.0 L460.0,493.9 L462.9,487.5\n",
       "\t\tL465.8,564.0 L468.7,537.1 L471.6,484.4 L474.5,135.1 L477.4,490.8 L480.3,545.4 L483.2,134.9 L486.1,485.2\n",
       "\t\tL489.0,134.5 L491.9,152.6 L494.8,193.1 L497.7,133.3 L500.6,133.5 L503.5,547.7 L506.4,133.6 L509.3,133.7\n",
       "\t\tL512.2,534.9 L515.1,546.1 L518.0,488.9 L520.9,547.2 L523.8,550.0 L526.7,178.8 L529.6,132.9 L532.5,556.7\n",
       "\t\tL535.4,148.1 L538.3,533.3 L541.2,147.3 L544.1,133.7 L547.0,135.0 L549.9,534.4 L552.8,135.1 L555.7,176.8\n",
       "\t\tL558.6,512.7 L561.5,158.3 L564.4,167.3 L567.3,135.3 L570.2,165.3 L573.1,153.6 L576.1,135.7 L579.0,135.0\n",
       "\t\tL581.9,153.9 L584.8,152.2 L587.7,136.1 L590.6,136.3 L593.5,563.9 L596.4,563.9 L599.3,136.0 L602.2,136.5\n",
       "\t\tL605.1,136.6 L608.0,137.3 L610.9,137.7 L613.8,161.6 L616.7,138.7 L619.6,139.2 L622.5,139.8 L625.4,140.2\n",
       "\t\tL628.3,140.8 L631.2,544.5 L634.1,163.0 L637.0,171.9 L639.9,143.5 L642.8,162.0 L645.7,144.4 L648.6,170.6\n",
       "\t\tL651.5,553.4 L654.4,177.0 L657.3,563.9 L660.2,144.3  '/></g>\n",
       "\t</g>\n",
       "<g fill=\"none\" color=\"#FFFFFF\" stroke=\"rgb(  0, 255,   0)\" stroke-width=\"2.00\" stroke-linecap=\"butt\" stroke-linejoin=\"miter\">\n",
       "</g>\n",
       "<g fill=\"none\" color=\"black\" stroke=\"currentColor\" stroke-width=\"2.00\" stroke-linecap=\"butt\" stroke-linejoin=\"miter\">\n",
       "</g>\n",
       "<g fill=\"none\" color=\"black\" stroke=\"black\" stroke-width=\"1.00\" stroke-linecap=\"butt\" stroke-linejoin=\"miter\">\n",
       "</g>\n",
       "<g fill=\"none\" color=\"black\" stroke=\"currentColor\" stroke-width=\"1.00\" stroke-linecap=\"butt\" stroke-linejoin=\"miter\">\n",
       "\t<path stroke='black'  d='M53.9,36.1 L53.9,564.0 L750.1,564.0 L750.1,36.1 L53.9,36.1 Z  '/></g>\n",
       "<g fill=\"none\" color=\"black\" stroke=\"currentColor\" stroke-width=\"1.00\" stroke-linecap=\"butt\" stroke-linejoin=\"miter\">\n",
       "</g>\n",
       "</g>\n",
       "</svg>\n",
       "\n"
      ]
     },
     "metadata": {},
     "output_type": "display_data"
    }
   ],
   "source": [
    "pltTab1.XrangeMin = 0;\n",
    "pltTab1.XrangeMax = 2;\n",
    "var gp = pltTab2.ToGnuplot();\n",
    "gp.PlotSVG()"
   ]
  },
  {
   "cell_type": "code",
   "execution_count": null,
   "metadata": {
    "dotnet_interactive": {
     "language": "csharp"
    }
   },
   "outputs": [],
   "source": [
    "// foreach(var grp in pltTab1.dataGroups) {\n",
    "//     Plot2Ddata dat = new Plot2Ddata();\n",
    "//     dat.AddDataGroup(grp);\n",
    "//     string name = \"plotData/AspectRatioOverTime/m2/\" + pltTab1.Title + \"/\" + grp.Name + \".txt\";\n",
    "//     dat.SaveToTextFile(name);\n",
    "// }"
   ]
  },
  {
   "cell_type": "markdown",
   "metadata": {
    "dotnet_interactive": {
     "language": "csharp"
    }
   },
   "source": [
    "## m=4 cases (eta = {0.7, 0.6, 0.5, 0.3, 0.2})"
   ]
  },
  {
   "cell_type": "code",
   "execution_count": null,
   "metadata": {
    "dotnet_interactive": {
     "language": "csharp"
    }
   },
   "outputs": [],
   "source": [
    "var pltTab3 = PlotTableDM[7,0];\n",
    "PlotTableDM[8,0].dataGroups[0].Format.LineColor = LineColors.Magenta;\n",
    "pltTab3 = pltTab3.Merge(PlotTableDM[8,0]);\n",
    "PlotTableDM[9,0].dataGroups[0].Format.LineColor = LineColors.Green;\n",
    "pltTab3 = pltTab3.Merge(PlotTableDM[9,0]);\n",
    "PlotTableDM[10,0].dataGroups[0].Format.LineColor = LineColors.Orange;\n",
    "pltTab3 = pltTab3.Merge(PlotTableDM[10,0]);\n",
    "PlotTableDM[11,0].dataGroups[0].Format.LineColor = LineColors.Red;\n",
    "pltTab3 = pltTab3.Merge(PlotTableDM[11,0]);"
   ]
  },
  {
   "cell_type": "code",
   "execution_count": null,
   "metadata": {
    "dotnet_interactive": {
     "language": "csharp"
    }
   },
   "outputs": [
    {
     "name": "stdout",
     "output_type": "stream",
     "text": [
      "Using gnuplot: C:\\Users\\smuda\\AppData\\Local\\FDY\\BoSSS\\bin\\native\\win\\gnuplot-gp510-20160418-win32-mingw\\gnuplot\\bin\\gnuplot.exe\r\n",
      "set key font \",16\" Left reverse \r\n"
     ]
    },
    {
     "data": {
      "text/html": [
       "<?xml version=\"1.0\" encoding=\"utf-8\"  standalone=\"no\"?>\n",
       "<!DOCTYPE svg PUBLIC \"-//W3C//DTD SVG 1.1//EN\"\n",
       " \"http://www.w3.org/Graphics/SVG/1.1/DTD/svg11.dtd\">\n",
       "<svg \n",
       " width=\"800\" height=\"600\"\n",
       " viewBox=\"0 0 800 600\"\n",
       " xmlns=\"http://www.w3.org/2000/svg\"\n",
       " xmlns:xlink=\"http://www.w3.org/1999/xlink\"\n",
       ">\n",
       "\n",
       "<title>Gnuplot</title>\n",
       "<desc>Produced by GNUPLOT 5.1 patchlevel 0 </desc>\n",
       "\n",
       "<g id=\"gnuplot_canvas\">\n",
       "\n",
       "<rect x=\"0\" y=\"0\" width=\"800\" height=\"600\" fill=\"#ffffff\"/>\n",
       "<defs>\n",
       "\n",
       "\t<circle id='gpDot' r='0.5' stroke-width='0.5'/>\n",
       "\t<path id='gpPt0' stroke-width='0.222' stroke='currentColor' d='M-1,0 h2 M0,-1 v2'/>\n",
       "\t<path id='gpPt1' stroke-width='0.222' stroke='currentColor' d='M-1,-1 L1,1 M1,-1 L-1,1'/>\n",
       "\t<path id='gpPt2' stroke-width='0.222' stroke='currentColor' d='M-1,0 L1,0 M0,-1 L0,1 M-1,-1 L1,1 M-1,1 L1,-1'/>\n",
       "\t<rect id='gpPt3' stroke-width='0.222' stroke='currentColor' x='-1' y='-1' width='2' height='2'/>\n",
       "\t<rect id='gpPt4' stroke-width='0.222' stroke='currentColor' fill='currentColor' x='-1' y='-1' width='2' height='2'/>\n",
       "\t<circle id='gpPt5' stroke-width='0.222' stroke='currentColor' cx='0' cy='0' r='1'/>\n",
       "\t<use xlink:href='#gpPt5' id='gpPt6' fill='currentColor' stroke='none'/>\n",
       "\t<path id='gpPt7' stroke-width='0.222' stroke='currentColor' d='M0,-1.33 L-1.33,0.67 L1.33,0.67 z'/>\n",
       "\t<use xlink:href='#gpPt7' id='gpPt8' fill='currentColor' stroke='none'/>\n",
       "\t<use xlink:href='#gpPt7' id='gpPt9' stroke='currentColor' transform='rotate(180)'/>\n",
       "\t<use xlink:href='#gpPt9' id='gpPt10' fill='currentColor' stroke='none'/>\n",
       "\t<use xlink:href='#gpPt3' id='gpPt11' stroke='currentColor' transform='rotate(45)'/>\n",
       "\t<use xlink:href='#gpPt11' id='gpPt12' fill='currentColor' stroke='none'/>\n",
       "\t<path id='gpPt13' stroke-width='0.222' stroke='currentColor' d='M0,1.330 L1.265,0.411 L0.782,-1.067 L-0.782,-1.076 L-1.265,0.411 z'/>\n",
       "\t<use xlink:href='#gpPt13' id='gpPt14' fill='currentColor' stroke='none'/>\n",
       "\t<filter id='textbox' filterUnits='objectBoundingBox' x='0' y='0' height='1' width='1'>\n",
       "\t  <feFlood flood-color='#FFFFFF' flood-opacity='1' result='bgnd'/>\n",
       "\t  <feComposite in='SourceGraphic' in2='bgnd' operator='atop'/>\n",
       "\t</filter>\n",
       "\t<filter id='greybox' filterUnits='objectBoundingBox' x='0' y='0' height='1' width='1'>\n",
       "\t  <feFlood flood-color='lightgrey' flood-opacity='1' result='grey'/>\n",
       "\t  <feComposite in='SourceGraphic' in2='grey' operator='atop'/>\n",
       "\t</filter>\n",
       "</defs>\n",
       "<g fill=\"none\" color=\"#FFFFFF\" stroke=\"currentColor\" stroke-width=\"1.00\" stroke-linecap=\"butt\" stroke-linejoin=\"miter\">\n",
       "</g>\n",
       "<g fill=\"none\" color=\"black\" stroke=\"currentColor\" stroke-width=\"1.00\" stroke-linecap=\"butt\" stroke-linejoin=\"miter\">\n",
       "\t<path stroke='black'  d='M53.9,564.0 L62.9,564.0 M750.1,564.0 L741.1,564.0  '/>\t<g transform=\"translate(45.6,568.5)\" stroke=\"none\" fill=\"black\" font-family=\"Arial\" font-size=\"12.00\"  text-anchor=\"end\">\n",
       "\t\t<text><tspan font-family=\"Arial\" > 0</tspan></text>\n",
       "\t</g>\n",
       "</g>\n",
       "<g fill=\"none\" color=\"black\" stroke=\"currentColor\" stroke-width=\"1.00\" stroke-linecap=\"butt\" stroke-linejoin=\"miter\">\n",
       "\t<path stroke='black'  d='M53.9,498.0 L62.9,498.0 M750.1,498.0 L741.1,498.0  '/>\t<g transform=\"translate(45.6,502.5)\" stroke=\"none\" fill=\"black\" font-family=\"Arial\" font-size=\"12.00\"  text-anchor=\"end\">\n",
       "\t\t<text><tspan font-family=\"Arial\" > 0.2</tspan></text>\n",
       "\t</g>\n",
       "</g>\n",
       "<g fill=\"none\" color=\"black\" stroke=\"currentColor\" stroke-width=\"1.00\" stroke-linecap=\"butt\" stroke-linejoin=\"miter\">\n",
       "\t<path stroke='black'  d='M53.9,432.0 L62.9,432.0 M750.1,432.0 L741.1,432.0  '/>\t<g transform=\"translate(45.6,436.5)\" stroke=\"none\" fill=\"black\" font-family=\"Arial\" font-size=\"12.00\"  text-anchor=\"end\">\n",
       "\t\t<text><tspan font-family=\"Arial\" > 0.4</tspan></text>\n",
       "\t</g>\n",
       "</g>\n",
       "<g fill=\"none\" color=\"black\" stroke=\"currentColor\" stroke-width=\"1.00\" stroke-linecap=\"butt\" stroke-linejoin=\"miter\">\n",
       "\t<path stroke='black'  d='M53.9,366.0 L62.9,366.0 M750.1,366.0 L741.1,366.0  '/>\t<g transform=\"translate(45.6,370.5)\" stroke=\"none\" fill=\"black\" font-family=\"Arial\" font-size=\"12.00\"  text-anchor=\"end\">\n",
       "\t\t<text><tspan font-family=\"Arial\" > 0.6</tspan></text>\n",
       "\t</g>\n",
       "</g>\n",
       "<g fill=\"none\" color=\"black\" stroke=\"currentColor\" stroke-width=\"1.00\" stroke-linecap=\"butt\" stroke-linejoin=\"miter\">\n",
       "\t<path stroke='black'  d='M53.9,300.0 L62.9,300.0 M750.1,300.0 L741.1,300.0  '/>\t<g transform=\"translate(45.6,304.5)\" stroke=\"none\" fill=\"black\" font-family=\"Arial\" font-size=\"12.00\"  text-anchor=\"end\">\n",
       "\t\t<text><tspan font-family=\"Arial\" > 0.8</tspan></text>\n",
       "\t</g>\n",
       "</g>\n",
       "<g fill=\"none\" color=\"black\" stroke=\"currentColor\" stroke-width=\"1.00\" stroke-linecap=\"butt\" stroke-linejoin=\"miter\">\n",
       "\t<path stroke='black'  d='M53.9,234.1 L62.9,234.1 M750.1,234.1 L741.1,234.1  '/>\t<g transform=\"translate(45.6,238.6)\" stroke=\"none\" fill=\"black\" font-family=\"Arial\" font-size=\"12.00\"  text-anchor=\"end\">\n",
       "\t\t<text><tspan font-family=\"Arial\" > 1</tspan></text>\n",
       "\t</g>\n",
       "</g>\n",
       "<g fill=\"none\" color=\"black\" stroke=\"currentColor\" stroke-width=\"1.00\" stroke-linecap=\"butt\" stroke-linejoin=\"miter\">\n",
       "\t<path stroke='black'  d='M53.9,168.1 L62.9,168.1 M750.1,168.1 L741.1,168.1  '/>\t<g transform=\"translate(45.6,172.6)\" stroke=\"none\" fill=\"black\" font-family=\"Arial\" font-size=\"12.00\"  text-anchor=\"end\">\n",
       "\t\t<text><tspan font-family=\"Arial\" > 1.2</tspan></text>\n",
       "\t</g>\n",
       "</g>\n",
       "<g fill=\"none\" color=\"black\" stroke=\"currentColor\" stroke-width=\"1.00\" stroke-linecap=\"butt\" stroke-linejoin=\"miter\">\n",
       "\t<path stroke='black'  d='M53.9,102.1 L62.9,102.1 M750.1,102.1 L741.1,102.1  '/>\t<g transform=\"translate(45.6,106.6)\" stroke=\"none\" fill=\"black\" font-family=\"Arial\" font-size=\"12.00\"  text-anchor=\"end\">\n",
       "\t\t<text><tspan font-family=\"Arial\" > 1.4</tspan></text>\n",
       "\t</g>\n",
       "</g>\n",
       "<g fill=\"none\" color=\"black\" stroke=\"currentColor\" stroke-width=\"1.00\" stroke-linecap=\"butt\" stroke-linejoin=\"miter\">\n",
       "\t<path stroke='black'  d='M53.9,36.1 L62.9,36.1 M750.1,36.1 L741.1,36.1  '/>\t<g transform=\"translate(45.6,40.6)\" stroke=\"none\" fill=\"black\" font-family=\"Arial\" font-size=\"12.00\"  text-anchor=\"end\">\n",
       "\t\t<text><tspan font-family=\"Arial\" > 1.6</tspan></text>\n",
       "\t</g>\n",
       "</g>\n",
       "<g fill=\"none\" color=\"black\" stroke=\"currentColor\" stroke-width=\"1.00\" stroke-linecap=\"butt\" stroke-linejoin=\"miter\">\n",
       "\t<path stroke='black'  d='M53.9,564.0 L53.9,555.0 M53.9,36.1 L53.9,45.1  '/>\t<g transform=\"translate(53.9,586.5)\" stroke=\"none\" fill=\"black\" font-family=\"Arial\" font-size=\"12.00\"  text-anchor=\"middle\">\n",
       "\t\t<text><tspan font-family=\"Arial\" > 0</tspan></text>\n",
       "\t</g>\n",
       "</g>\n",
       "<g fill=\"none\" color=\"black\" stroke=\"currentColor\" stroke-width=\"1.00\" stroke-linecap=\"butt\" stroke-linejoin=\"miter\">\n",
       "\t<path stroke='black'  d='M169.9,564.0 L169.9,555.0 M169.9,36.1 L169.9,45.1  '/>\t<g transform=\"translate(169.9,586.5)\" stroke=\"none\" fill=\"black\" font-family=\"Arial\" font-size=\"12.00\"  text-anchor=\"middle\">\n",
       "\t\t<text><tspan font-family=\"Arial\" > 0.5</tspan></text>\n",
       "\t</g>\n",
       "</g>\n",
       "<g fill=\"none\" color=\"black\" stroke=\"currentColor\" stroke-width=\"1.00\" stroke-linecap=\"butt\" stroke-linejoin=\"miter\">\n",
       "\t<path stroke='black'  d='M286.0,564.0 L286.0,555.0 M286.0,36.1 L286.0,45.1  '/>\t<g transform=\"translate(286.0,586.5)\" stroke=\"none\" fill=\"black\" font-family=\"Arial\" font-size=\"12.00\"  text-anchor=\"middle\">\n",
       "\t\t<text><tspan font-family=\"Arial\" > 1</tspan></text>\n",
       "\t</g>\n",
       "</g>\n",
       "<g fill=\"none\" color=\"black\" stroke=\"currentColor\" stroke-width=\"1.00\" stroke-linecap=\"butt\" stroke-linejoin=\"miter\">\n",
       "\t<path stroke='black'  d='M402.0,564.0 L402.0,555.0 M402.0,36.1 L402.0,45.1  '/>\t<g transform=\"translate(402.0,586.5)\" stroke=\"none\" fill=\"black\" font-family=\"Arial\" font-size=\"12.00\"  text-anchor=\"middle\">\n",
       "\t\t<text><tspan font-family=\"Arial\" > 1.5</tspan></text>\n",
       "\t</g>\n",
       "</g>\n",
       "<g fill=\"none\" color=\"black\" stroke=\"currentColor\" stroke-width=\"1.00\" stroke-linecap=\"butt\" stroke-linejoin=\"miter\">\n",
       "\t<path stroke='black'  d='M518.0,564.0 L518.0,555.0 M518.0,36.1 L518.0,45.1  '/>\t<g transform=\"translate(518.0,586.5)\" stroke=\"none\" fill=\"black\" font-family=\"Arial\" font-size=\"12.00\"  text-anchor=\"middle\">\n",
       "\t\t<text><tspan font-family=\"Arial\" > 2</tspan></text>\n",
       "\t</g>\n",
       "</g>\n",
       "<g fill=\"none\" color=\"black\" stroke=\"currentColor\" stroke-width=\"1.00\" stroke-linecap=\"butt\" stroke-linejoin=\"miter\">\n",
       "\t<path stroke='black'  d='M634.1,564.0 L634.1,555.0 M634.1,36.1 L634.1,45.1  '/>\t<g transform=\"translate(634.1,586.5)\" stroke=\"none\" fill=\"black\" font-family=\"Arial\" font-size=\"12.00\"  text-anchor=\"middle\">\n",
       "\t\t<text><tspan font-family=\"Arial\" > 2.5</tspan></text>\n",
       "\t</g>\n",
       "</g>\n",
       "<g fill=\"none\" color=\"black\" stroke=\"currentColor\" stroke-width=\"1.00\" stroke-linecap=\"butt\" stroke-linejoin=\"miter\">\n",
       "\t<path stroke='black'  d='M750.1,564.0 L750.1,555.0 M750.1,36.1 L750.1,45.1  '/>\t<g transform=\"translate(750.1,586.5)\" stroke=\"none\" fill=\"black\" font-family=\"Arial\" font-size=\"12.00\"  text-anchor=\"middle\">\n",
       "\t\t<text><tspan font-family=\"Arial\" > 3</tspan></text>\n",
       "\t</g>\n",
       "</g>\n",
       "<g fill=\"none\" color=\"black\" stroke=\"currentColor\" stroke-width=\"1.00\" stroke-linecap=\"butt\" stroke-linejoin=\"miter\">\n",
       "\t<path stroke='black'  d='M750.1,564.0 L741.1,564.0  '/>\t<g transform=\"translate(758.4,568.5)\" stroke=\"none\" fill=\"black\" font-family=\"Arial\" font-size=\"12.00\"  text-anchor=\"start\">\n",
       "\t\t<text><tspan font-family=\"Arial\" > </tspan></text>\n",
       "\t</g>\n",
       "</g>\n",
       "<g fill=\"none\" color=\"black\" stroke=\"currentColor\" stroke-width=\"1.00\" stroke-linecap=\"butt\" stroke-linejoin=\"miter\">\n",
       "\t<path stroke='black'  d='M750.1,498.0 L741.1,498.0  '/>\t<g transform=\"translate(758.4,502.5)\" stroke=\"none\" fill=\"black\" font-family=\"Arial\" font-size=\"12.00\"  text-anchor=\"start\">\n",
       "\t\t<text><tspan font-family=\"Arial\" > </tspan></text>\n",
       "\t</g>\n",
       "</g>\n",
       "<g fill=\"none\" color=\"black\" stroke=\"currentColor\" stroke-width=\"1.00\" stroke-linecap=\"butt\" stroke-linejoin=\"miter\">\n",
       "\t<path stroke='black'  d='M750.1,432.0 L741.1,432.0  '/>\t<g transform=\"translate(758.4,436.5)\" stroke=\"none\" fill=\"black\" font-family=\"Arial\" font-size=\"12.00\"  text-anchor=\"start\">\n",
       "\t\t<text><tspan font-family=\"Arial\" > </tspan></text>\n",
       "\t</g>\n",
       "</g>\n",
       "<g fill=\"none\" color=\"black\" stroke=\"currentColor\" stroke-width=\"1.00\" stroke-linecap=\"butt\" stroke-linejoin=\"miter\">\n",
       "\t<path stroke='black'  d='M750.1,366.0 L741.1,366.0  '/>\t<g transform=\"translate(758.4,370.5)\" stroke=\"none\" fill=\"black\" font-family=\"Arial\" font-size=\"12.00\"  text-anchor=\"start\">\n",
       "\t\t<text><tspan font-family=\"Arial\" > </tspan></text>\n",
       "\t</g>\n",
       "</g>\n",
       "<g fill=\"none\" color=\"black\" stroke=\"currentColor\" stroke-width=\"1.00\" stroke-linecap=\"butt\" stroke-linejoin=\"miter\">\n",
       "\t<path stroke='black'  d='M750.1,300.0 L741.1,300.0  '/>\t<g transform=\"translate(758.4,304.5)\" stroke=\"none\" fill=\"black\" font-family=\"Arial\" font-size=\"12.00\"  text-anchor=\"start\">\n",
       "\t\t<text><tspan font-family=\"Arial\" > </tspan></text>\n",
       "\t</g>\n",
       "</g>\n",
       "<g fill=\"none\" color=\"black\" stroke=\"currentColor\" stroke-width=\"1.00\" stroke-linecap=\"butt\" stroke-linejoin=\"miter\">\n",
       "\t<path stroke='black'  d='M750.1,234.1 L741.1,234.1  '/>\t<g transform=\"translate(758.4,238.6)\" stroke=\"none\" fill=\"black\" font-family=\"Arial\" font-size=\"12.00\"  text-anchor=\"start\">\n",
       "\t\t<text><tspan font-family=\"Arial\" > </tspan></text>\n",
       "\t</g>\n",
       "</g>\n",
       "<g fill=\"none\" color=\"black\" stroke=\"currentColor\" stroke-width=\"1.00\" stroke-linecap=\"butt\" stroke-linejoin=\"miter\">\n",
       "\t<path stroke='black'  d='M750.1,168.1 L741.1,168.1  '/>\t<g transform=\"translate(758.4,172.6)\" stroke=\"none\" fill=\"black\" font-family=\"Arial\" font-size=\"12.00\"  text-anchor=\"start\">\n",
       "\t\t<text><tspan font-family=\"Arial\" > </tspan></text>\n",
       "\t</g>\n",
       "</g>\n",
       "<g fill=\"none\" color=\"black\" stroke=\"currentColor\" stroke-width=\"1.00\" stroke-linecap=\"butt\" stroke-linejoin=\"miter\">\n",
       "\t<path stroke='black'  d='M750.1,102.1 L741.1,102.1  '/>\t<g transform=\"translate(758.4,106.6)\" stroke=\"none\" fill=\"black\" font-family=\"Arial\" font-size=\"12.00\"  text-anchor=\"start\">\n",
       "\t\t<text><tspan font-family=\"Arial\" > </tspan></text>\n",
       "\t</g>\n",
       "</g>\n",
       "<g fill=\"none\" color=\"black\" stroke=\"currentColor\" stroke-width=\"1.00\" stroke-linecap=\"butt\" stroke-linejoin=\"miter\">\n",
       "\t<path stroke='black'  d='M750.1,36.1 L741.1,36.1  '/>\t<g transform=\"translate(758.4,40.6)\" stroke=\"none\" fill=\"black\" font-family=\"Arial\" font-size=\"12.00\"  text-anchor=\"start\">\n",
       "\t\t<text><tspan font-family=\"Arial\" > </tspan></text>\n",
       "\t</g>\n",
       "</g>\n",
       "<g fill=\"none\" color=\"black\" stroke=\"currentColor\" stroke-width=\"1.00\" stroke-linecap=\"butt\" stroke-linejoin=\"miter\">\n",
       "\t<path stroke='black'  d='M53.9,36.1 L53.9,45.1  '/>\t<g transform=\"translate(53.9,22.6)\" stroke=\"none\" fill=\"black\" font-family=\"Arial\" font-size=\"12.00\"  text-anchor=\"middle\">\n",
       "\t\t<text><tspan font-family=\"Arial\" > </tspan></text>\n",
       "\t</g>\n",
       "</g>\n",
       "<g fill=\"none\" color=\"black\" stroke=\"currentColor\" stroke-width=\"1.00\" stroke-linecap=\"butt\" stroke-linejoin=\"miter\">\n",
       "\t<path stroke='black'  d='M169.9,36.1 L169.9,45.1  '/>\t<g transform=\"translate(169.9,22.6)\" stroke=\"none\" fill=\"black\" font-family=\"Arial\" font-size=\"12.00\"  text-anchor=\"middle\">\n",
       "\t\t<text><tspan font-family=\"Arial\" > </tspan></text>\n",
       "\t</g>\n",
       "</g>\n",
       "<g fill=\"none\" color=\"black\" stroke=\"currentColor\" stroke-width=\"1.00\" stroke-linecap=\"butt\" stroke-linejoin=\"miter\">\n",
       "\t<path stroke='black'  d='M286.0,36.1 L286.0,45.1  '/>\t<g transform=\"translate(286.0,22.6)\" stroke=\"none\" fill=\"black\" font-family=\"Arial\" font-size=\"12.00\"  text-anchor=\"middle\">\n",
       "\t\t<text><tspan font-family=\"Arial\" > </tspan></text>\n",
       "\t</g>\n",
       "</g>\n",
       "<g fill=\"none\" color=\"black\" stroke=\"currentColor\" stroke-width=\"1.00\" stroke-linecap=\"butt\" stroke-linejoin=\"miter\">\n",
       "\t<path stroke='black'  d='M402.0,36.1 L402.0,45.1  '/>\t<g transform=\"translate(402.0,22.6)\" stroke=\"none\" fill=\"black\" font-family=\"Arial\" font-size=\"12.00\"  text-anchor=\"middle\">\n",
       "\t\t<text><tspan font-family=\"Arial\" > </tspan></text>\n",
       "\t</g>\n",
       "</g>\n",
       "<g fill=\"none\" color=\"black\" stroke=\"currentColor\" stroke-width=\"1.00\" stroke-linecap=\"butt\" stroke-linejoin=\"miter\">\n",
       "\t<path stroke='black'  d='M518.0,36.1 L518.0,45.1  '/>\t<g transform=\"translate(518.0,22.6)\" stroke=\"none\" fill=\"black\" font-family=\"Arial\" font-size=\"12.00\"  text-anchor=\"middle\">\n",
       "\t\t<text><tspan font-family=\"Arial\" > </tspan></text>\n",
       "\t</g>\n",
       "</g>\n",
       "<g fill=\"none\" color=\"black\" stroke=\"currentColor\" stroke-width=\"1.00\" stroke-linecap=\"butt\" stroke-linejoin=\"miter\">\n",
       "\t<path stroke='black'  d='M634.1,36.1 L634.1,45.1  '/>\t<g transform=\"translate(634.1,22.6)\" stroke=\"none\" fill=\"black\" font-family=\"Arial\" font-size=\"12.00\"  text-anchor=\"middle\">\n",
       "\t\t<text><tspan font-family=\"Arial\" > </tspan></text>\n",
       "\t</g>\n",
       "</g>\n",
       "<g fill=\"none\" color=\"black\" stroke=\"currentColor\" stroke-width=\"1.00\" stroke-linecap=\"butt\" stroke-linejoin=\"miter\">\n",
       "\t<path stroke='black'  d='M750.1,36.1 L750.1,45.1  '/>\t<g transform=\"translate(750.1,22.6)\" stroke=\"none\" fill=\"black\" font-family=\"Arial\" font-size=\"12.00\"  text-anchor=\"middle\">\n",
       "\t\t<text><tspan font-family=\"Arial\" > </tspan></text>\n",
       "\t</g>\n",
       "</g>\n",
       "<g fill=\"none\" color=\"black\" stroke=\"currentColor\" stroke-width=\"1.00\" stroke-linecap=\"butt\" stroke-linejoin=\"miter\">\n",
       "</g>\n",
       "<g fill=\"none\" color=\"black\" stroke=\"currentColor\" stroke-width=\"1.00\" stroke-linecap=\"butt\" stroke-linejoin=\"miter\">\n",
       "\t<path stroke='black'  d='M53.9,36.1 L53.9,564.0 L750.1,564.0 L750.1,36.1 L53.9,36.1 Z  '/></g>\n",
       "<g fill=\"none\" color=\"black\" stroke=\"currentColor\" stroke-width=\"1.00\" stroke-linecap=\"butt\" stroke-linejoin=\"miter\">\n",
       "</g>\n",
       "\t<g id=\"gnuplot_plot_1\" ><title>BoSSS-J686m4Oh01eta07</title>\n",
       "<g fill=\"none\" color=\"#FFFFFF\" stroke=\"black\" stroke-width=\"3.00\" stroke-linecap=\"butt\" stroke-linejoin=\"miter\">\n",
       "</g>\n",
       "<g fill=\"none\" color=\"black\" stroke=\"currentColor\" stroke-width=\"3.00\" stroke-linecap=\"butt\" stroke-linejoin=\"miter\">\n",
       "\t<g transform=\"translate(519.8,63.1)\" stroke=\"none\" fill=\"black\" font-family=\"Arial\" font-size=\"16.00\"  text-anchor=\"start\">\n",
       "\t\t<text><tspan font-family=\"Arial\" >BoSSS-J686m4</tspan><tspan font-family=\"Arial\"  font-size=\"12.8\" dy=\"4.80px\">O</tspan><tspan font-family=\"Arial\"  font-size=\"16.0\" dy=\"-4.80px\">h01</tspan><tspan font-family=\"Arial\"  font-size=\"12.8\" dy=\"4.80px\">e</tspan><tspan font-family=\"Arial\"  font-size=\"16.0\" dy=\"-4.80px\">ta07</tspan></text>\n",
       "\t</g>\n",
       "</g>\n",
       "<g fill=\"none\" color=\"black\" stroke=\"currentColor\" stroke-width=\"3.00\" stroke-linecap=\"butt\" stroke-linejoin=\"miter\">\n",
       "\t<path stroke='rgb(  0,   0, 255)'  d='M455.3,57.1 L508.7,57.1 M53.9,114.1 L55.1,114.2 L56.2,114.1 L57.4,114.0 L58.5,113.8 L59.7,113.6\n",
       "\t\tL60.9,113.4 L62.0,113.2 L63.2,112.9 L64.3,112.8 L65.5,112.5 L66.7,112.0 L67.8,111.5 L69.0,111.0\n",
       "\t\tL70.1,110.8 L71.3,110.2 L72.5,109.6 L73.6,109.0 L74.8,109.0 L75.9,108.4 L77.1,107.8 L78.3,107.4\n",
       "\t\tL79.4,106.8 L80.6,106.2 L81.7,105.6 L82.9,104.8 L84.1,104.2 L85.2,103.7 L86.4,103.1 L87.5,102.5\n",
       "\t\tL88.7,101.9 L89.9,101.4 L91.0,100.6 L92.2,99.9 L93.4,99.1 L94.5,98.4 L95.7,96.0 L96.8,95.0\n",
       "\t\tL98.0,93.9 L99.2,93.2 L100.3,92.2 L101.5,90.5 L102.6,89.8 L103.8,88.5 L105.0,564.0 L106.1,85.7\n",
       "\t\tL107.3,83.9 L108.4,82.4 L109.6,81.1 L110.8,79.5 L111.9,78.1 L113.1,76.6 L114.2,75.1 L115.4,73.9\n",
       "\t\tL116.6,72.0 L117.7,70.8 L118.9,69.4 L120.0,67.6 L121.2,66.4 L122.4,64.8 L123.5,63.7 L124.7,62.5\n",
       "\t\tL125.8,61.3 L127.0,59.8 L128.2,58.6 L129.3,57.8 L130.5,56.9 L131.6,564.0 L132.8,564.0 L134.0,564.0\n",
       "\t\tL135.1,564.0 L136.3,564.0 L137.4,54.4 L138.6,54.6 L139.8,564.0 L140.9,564.0 L142.1,55.1 L143.2,56.3\n",
       "\t\tL144.4,57.6 L145.6,58.2 L146.7,564.0 L147.9,61.5 L149.0,64.5 L150.2,66.3 L151.4,69.3 L152.5,72.5\n",
       "\t\tL153.7,75.7 L154.8,79.1 L156.0,82.6 L157.2,86.3 L158.3,90.1 L159.5,94.1 L160.7,98.1 L161.8,102.9\n",
       "\t\tL163.0,107.5 L164.1,112.1 L165.3,117.0 L166.5,122.0 L167.6,127.2 L168.8,131.8 L169.9,135.2 L171.1,137.4\n",
       "\t\tL172.3,139.8 L173.4,142.4 L174.6,145.4 L175.7,148.1 L176.9,564.0 L178.1,564.0 L179.2,154.8 L180.4,157.0\n",
       "\t\tL181.5,563.7 L182.7,563.6 L183.9,563.6 L185.0,563.5 L186.2,563.5 L187.3,563.5 L188.5,563.5 L189.7,563.6\n",
       "\t\tL190.8,563.6 L192.0,563.6 L193.1,563.6 L194.3,564.0 L195.5,564.0 L196.6,563.9 L197.8,563.9 L198.9,143.3\n",
       "\t\tL200.1,141.6 L201.3,140.0 L202.4,138.4 L203.6,564.0 L204.7,564.0 L205.9,564.0 L207.1,131.2 L208.2,129.3\n",
       "\t\tL209.4,564.0 L210.5,125.6 L211.7,123.1 L212.9,123.4 L214.0,120.6 L215.2,564.0 L216.3,564.0 L217.5,564.0\n",
       "\t\tL218.7,563.9 L219.8,563.9 L221.0,563.8 L222.1,563.7 L223.3,112.7 L224.5,111.4 L225.6,111.2 L226.8,111.0\n",
       "\t\tL228.0,110.8 L229.1,563.9 L230.3,110.7 L231.4,563.8 L232.6,109.1 L233.8,109.4 L234.9,109.8 L236.1,109.3\n",
       "\t\tL237.2,109.9 L238.4,110.1 L239.6,110.8 L240.7,111.5 L241.9,112.0 L243.0,112.8 L244.2,112.4 L245.4,113.3\n",
       "\t\tL246.5,114.1 L247.7,114.0 L248.8,114.9 L250.0,114.4 L251.2,115.6 L252.3,115.9 L253.5,117.2 L254.6,117.6\n",
       "\t\tL255.8,118.5 L257.0,119.8 L258.1,120.9 L259.3,121.8 L260.4,122.6 L261.6,122.6 L262.8,123.9 L263.9,125.0\n",
       "\t\tL265.1,125.9 L266.2,126.1 L267.4,127.0 L268.6,128.3 L269.7,129.4 L270.9,130.4 L272.0,131.4 L273.2,132.4\n",
       "\t\tL274.4,132.8 L275.5,133.8 L276.7,134.8 L277.8,135.9 L279.0,136.9 L280.2,137.8 L281.3,138.7 L282.5,139.6\n",
       "\t\tL283.6,140.5 L284.8,141.4 L286.0,142.3 L287.1,143.3 L288.3,144.2 L289.4,145.1 L290.6,146.0 L291.8,147.0\n",
       "\t\tL292.9,147.9 L294.1,148.9 L295.2,149.8 L296.4,150.8 L297.6,152.6 L298.7,153.9 L299.9,154.9 L301.1,155.9\n",
       "\t\tL302.2,156.8 L303.4,157.7 L304.5,158.7 L305.7,159.6 L306.9,160.6 L308.0,161.7 L309.2,162.8 L310.3,163.9\n",
       "\t\tL311.5,165.1 L312.7,166.3 L313.8,167.5 L315.0,168.8 L316.1,170.0 L317.3,171.2 L318.5,172.5 L319.6,173.7\n",
       "\t\tL320.8,174.9 L321.9,176.8 L323.1,178.2 L324.3,179.3 L325.4,180.6 L326.6,181.9 L327.7,183.3 L328.9,185.0\n",
       "\t\tL330.1,186.6 L331.2,187.8 L332.4,189.2 L333.5,190.6 L334.7,193.1 L335.9,194.2 L337.0,564.0 L338.2,198.0\n",
       "\t\tL339.3,199.4 L340.5,201.0 L341.7,202.6 L342.8,562.2 L344.0,206.0 L345.1,208.6 L346.3,211.3 L347.5,213.9\n",
       "\t\tL348.6,215.8 L349.8,218.0 L350.9,220.0 L352.1,221.2 L353.3,223.1 L354.4,225.1 L355.6,227.1 L356.7,228.6\n",
       "\t\tL357.9,230.4 L359.1,232.1 L360.2,232.2 L361.4,234.3 L362.5,235.4 L363.7,237.3 L364.9,239.1 L366.0,240.8\n",
       "\t\tL367.2,564.0 L368.4,244.1 L369.5,245.6 L370.7,564.0 L371.8,248.8 L373.0,250.5 L374.2,252.1 L375.3,564.0\n",
       "\t\tL376.5,564.0 L377.6,564.0 L378.8,564.0 L380.0,258.8 L381.1,260.0 L382.3,261.2 L383.4,262.3 L384.6,263.3\n",
       "\t\tL385.8,264.4 L386.9,266.3 L388.1,267.1 L389.2,267.9 L390.4,268.9 L391.6,269.7 L392.7,270.6 L393.9,271.6\n",
       "\t\tL395.0,272.4 L396.2,273.2 L397.4,274.1 L398.5,274.8 L399.7,275.5 L400.8,276.2 L402.0,276.8  '/></g>\n",
       "\t</g>\n",
       "\t<g id=\"gnuplot_plot_2\" ><title>BoSSS-J686m4Oh01eta06</title>\n",
       "<g fill=\"none\" color=\"black\" stroke=\"currentColor\" stroke-width=\"3.00\" stroke-linecap=\"butt\" stroke-linejoin=\"miter\">\n",
       "\t<g transform=\"translate(519.8,87.1)\" stroke=\"none\" fill=\"black\" font-family=\"Arial\" font-size=\"16.00\"  text-anchor=\"start\">\n",
       "\t\t<text><tspan font-family=\"Arial\" >BoSSS-J686m4</tspan><tspan font-family=\"Arial\"  font-size=\"12.8\" dy=\"4.80px\">O</tspan><tspan font-family=\"Arial\"  font-size=\"16.0\" dy=\"-4.80px\">h01</tspan><tspan font-family=\"Arial\"  font-size=\"12.8\" dy=\"4.80px\">e</tspan><tspan font-family=\"Arial\"  font-size=\"16.0\" dy=\"-4.80px\">ta06</tspan></text>\n",
       "\t</g>\n",
       "</g>\n",
       "<g fill=\"none\" color=\"black\" stroke=\"currentColor\" stroke-width=\"3.00\" stroke-linecap=\"butt\" stroke-linejoin=\"miter\">\n",
       "\t<path stroke='rgb(255,   0, 255)'  d='M455.3,81.1 L508.7,81.1 M53.9,129.4 L55.1,129.4 L56.2,129.4 L57.4,129.3 L58.5,129.2 L59.7,129.1\n",
       "\t\tL60.9,129.0 L62.0,128.8 L63.2,128.6 L64.3,128.4 L65.5,128.2 L66.7,127.9 L67.8,127.6 L69.0,127.3\n",
       "\t\tL70.1,127.0 L71.3,126.7 L72.5,126.3 L73.6,126.0 L74.8,125.6 L75.9,125.2 L77.1,124.9 L78.3,124.5\n",
       "\t\tL79.4,124.1 L80.6,123.7 L81.7,123.3 L82.9,564.0 L84.1,564.0 L85.2,121.9 L86.4,121.4 L87.5,120.9\n",
       "\t\tL88.7,119.3 L89.9,118.8 L91.0,117.8 L92.2,117.1 L93.4,116.4 L94.5,115.8 L95.7,115.1 L96.8,114.5\n",
       "\t\tL98.0,113.1 L99.2,112.1 L100.3,111.4 L101.5,110.3 L102.6,109.4 L103.8,108.4 L105.0,107.4 L106.1,106.5\n",
       "\t\tL107.3,105.3 L108.4,104.2 L109.6,564.0 L110.8,564.0 L111.9,564.0 L113.1,564.0 L114.2,564.0 L115.4,98.9\n",
       "\t\tL116.6,98.1 L117.7,97.6 L118.9,97.0 L120.0,96.3 L121.2,95.5 L122.4,564.0 L123.5,95.2 L124.7,94.9\n",
       "\t\tL125.8,564.0 L127.0,95.4 L128.2,95.4 L129.3,95.8 L130.5,96.4 L131.6,97.2 L132.8,98.2 L134.0,99.3\n",
       "\t\tL135.1,100.8 L136.3,102.2 L137.4,103.9 L138.6,105.4 L139.8,107.6 L140.9,109.7 L142.1,111.9 L143.2,114.7\n",
       "\t\tL144.4,117.9 L145.6,121.3 L146.7,125.1 L147.9,129.0 L149.0,133.1 L150.2,137.2 L151.4,140.4 L152.5,144.7\n",
       "\t\tL153.7,149.5 L154.8,153.9 L156.0,157.3 L157.2,160.6 L158.3,164.3 L159.5,168.2 L160.7,172.3 L161.8,176.2\n",
       "\t\tL163.0,177.7 L164.1,181.3 L165.3,184.7 L166.5,187.0 L167.6,189.2 L168.8,190.9 L169.9,192.3 L171.1,193.3\n",
       "\t\tL172.3,194.0 L173.4,194.5 L174.6,194.7 L175.7,194.6 L176.9,194.4 L178.1,193.9 L179.2,193.3 L180.4,192.1\n",
       "\t\tL181.5,191.1 L182.7,189.9 L183.9,188.7 L185.0,187.6 L186.2,185.9 L187.3,184.4 L188.5,182.8 L189.7,181.2\n",
       "\t\tL190.8,179.9 L192.0,177.2 L193.1,175.5 L194.3,174.1 L195.5,172.4 L196.6,170.8 L197.8,169.2 L198.9,167.7\n",
       "\t\tL200.1,163.2 L201.3,161.3 L202.4,159.3 L203.6,157.6 L204.7,156.0 L205.9,154.6 L207.1,154.2 L208.2,564.0\n",
       "\t\tL209.4,151.5 L210.5,149.4 L211.7,148.0 L212.9,147.0 L214.0,146.3 L215.2,144.2 L216.3,143.3 L217.5,142.6\n",
       "\t\tL218.7,142.1 L219.8,141.8 L221.0,141.2 L222.1,142.0 L223.3,140.9 L224.5,141.1 L225.6,140.2 L226.8,140.0\n",
       "\t\tL228.0,140.1 L229.1,140.2 L230.3,140.4 L231.4,140.5 L232.6,140.6 L233.8,140.8 L234.9,141.2 L236.1,141.5\n",
       "\t\tL237.2,141.6 L238.4,142.0 L239.6,142.3 L240.7,142.4 L241.9,142.8 L243.0,143.2 L244.2,143.9 L245.4,144.3\n",
       "\t\tL246.5,144.7 L247.7,145.0 L248.8,145.3 L250.0,145.7 L251.2,145.8 L252.3,146.4 L253.5,147.1 L254.6,147.9\n",
       "\t\tL255.8,148.6 L257.0,149.1 L258.1,149.5 L259.3,149.8 L260.4,150.2 L261.6,150.7 L262.8,151.2 L263.9,151.7\n",
       "\t\tL265.1,152.2 L266.2,152.8 L267.4,153.4 L268.6,154.1 L269.7,154.7 L270.9,155.4 L272.0,156.1 L273.2,156.7\n",
       "\t\tL274.4,157.7 L275.5,158.7 L276.7,159.4 L277.8,160.1 L279.0,160.8 L280.2,161.5 L281.3,162.3 L282.5,163.0\n",
       "\t\tL283.6,163.7 L284.8,164.4 L286.0,165.2 L287.1,165.9 L288.3,166.7 L289.4,167.4 L290.6,168.2 L291.8,168.9\n",
       "\t\tL292.9,169.7 L294.1,563.5 L295.2,172.4 L296.4,173.2 L297.6,174.8 L298.7,175.6 L299.9,176.2 L301.1,177.6\n",
       "\t\tL302.2,179.2 L303.4,180.1 L304.5,181.2 L305.7,182.1 L306.9,183.2 L308.0,184.0 L309.2,184.9 L310.3,185.8\n",
       "\t\tL311.5,186.8 L312.7,187.8 L313.8,188.9 L315.0,190.1 L316.1,192.2 L317.3,194.1 L318.5,194.8 L319.6,197.0\n",
       "\t\tL320.8,197.8 L321.9,199.4 L323.1,200.1 L324.3,201.2 L325.4,202.3 L326.6,203.4 L327.7,204.6 L328.9,205.9\n",
       "\t\tL330.1,208.5 L331.2,211.8 L332.4,213.0 L333.5,214.5 L334.7,216.3 L335.9,218.0 L337.0,219.7 L338.2,221.3\n",
       "\t\tL339.3,222.9 L340.5,224.0 L341.7,225.4 L342.8,226.9 L344.0,228.4 L345.1,564.0 L346.3,230.5 L347.5,231.9\n",
       "\t\tL348.6,233.4 L349.8,234.8 L350.9,236.2 L352.1,237.5 L353.3,238.7 L354.4,239.7 L355.6,241.2 L356.7,242.6\n",
       "\t\tL357.9,243.9 L359.1,244.9 L360.2,246.3 L361.4,247.5 L362.5,248.8 L363.7,250.0 L364.9,251.2 L366.0,252.3\n",
       "\t\tL367.2,253.4 L368.4,254.5 L369.5,255.4 L370.7,256.3 L371.8,257.1 L373.0,257.9 L374.2,258.6 L375.3,259.4\n",
       "\t\tL376.5,260.1 L377.6,260.7 L378.8,261.4 L380.0,262.3 L381.1,263.0 L382.3,263.7 L383.4,264.3 L384.6,264.8\n",
       "\t\tL385.8,266.3 L386.9,266.4 L388.1,266.8 L389.2,267.2 L390.4,267.5 L391.6,268.0 L392.7,268.7 L393.9,269.0\n",
       "\t\tL395.0,269.4 L396.2,269.7 L397.4,270.0 L398.5,270.5 L399.7,270.5 L400.8,270.9 L402.0,271.1  '/></g>\n",
       "\t</g>\n",
       "\t<g id=\"gnuplot_plot_3\" ><title>BoSSS-J686m4Oh01eta05</title>\n",
       "<g fill=\"none\" color=\"black\" stroke=\"currentColor\" stroke-width=\"3.00\" stroke-linecap=\"butt\" stroke-linejoin=\"miter\">\n",
       "\t<g transform=\"translate(519.8,111.1)\" stroke=\"none\" fill=\"black\" font-family=\"Arial\" font-size=\"16.00\"  text-anchor=\"start\">\n",
       "\t\t<text><tspan font-family=\"Arial\" >BoSSS-J686m4</tspan><tspan font-family=\"Arial\"  font-size=\"12.8\" dy=\"4.80px\">O</tspan><tspan font-family=\"Arial\"  font-size=\"16.0\" dy=\"-4.80px\">h01</tspan><tspan font-family=\"Arial\"  font-size=\"12.8\" dy=\"4.80px\">e</tspan><tspan font-family=\"Arial\"  font-size=\"16.0\" dy=\"-4.80px\">ta05</tspan></text>\n",
       "\t</g>\n",
       "</g>\n",
       "<g fill=\"none\" color=\"black\" stroke=\"currentColor\" stroke-width=\"3.00\" stroke-linecap=\"butt\" stroke-linejoin=\"miter\">\n",
       "\t<path stroke='rgb(  0, 255,   0)'  d='M455.3,105.1 L508.7,105.1 M53.9,145.0 L55.1,145.0 L56.2,145.0 L57.4,145.0 L58.5,145.0 L59.7,144.9\n",
       "\t\tL60.9,144.8 L62.0,144.8 L63.2,144.6 L64.3,144.5 L65.5,144.3 L66.7,144.2 L67.8,144.0 L69.0,143.8\n",
       "\t\tL70.1,143.6 L71.3,143.4 L72.5,143.1 L73.6,142.9 L74.8,142.6 L75.9,142.4 L77.1,142.1 L78.3,141.8\n",
       "\t\tL79.4,141.6 L80.6,141.2 L81.7,140.9 L82.9,140.5 L84.1,140.1 L85.2,139.7 L86.4,139.3 L87.5,138.8\n",
       "\t\tL88.7,138.4 L89.9,137.9 L91.0,137.4 L92.2,136.8 L93.4,136.2 L94.5,135.5 L95.7,135.0 L96.8,134.4\n",
       "\t\tL98.0,133.8 L99.2,133.2 L100.3,132.7 L101.5,132.3 L102.6,131.6 L103.8,131.1 L105.0,130.6 L106.1,130.1\n",
       "\t\tL107.3,129.7 L108.4,564.0 L109.6,129.2 L110.8,129.2 L111.9,129.1 L113.1,129.1 L114.2,129.2 L115.4,564.0\n",
       "\t\tL116.6,129.6 L117.7,130.2 L118.9,130.5 L120.0,131.1 L121.2,131.9 L122.4,132.9 L123.5,134.1 L124.7,135.2\n",
       "\t\tL125.8,136.7 L127.0,138.2 L128.2,140.0 L129.3,142.1 L130.5,144.3 L131.6,146.8 L132.8,149.4 L134.0,152.2\n",
       "\t\tL135.1,154.9 L136.3,157.8 L137.4,160.8 L138.6,164.1 L139.8,167.8 L140.9,171.5 L142.1,174.8 L143.2,177.6\n",
       "\t\tL144.4,180.7 L145.6,184.0 L146.7,187.6 L147.9,190.6 L149.0,194.0 L150.2,196.8 L151.4,200.0 L152.5,202.9\n",
       "\t\tL153.7,205.5 L154.8,207.9 L156.0,210.0 L157.2,211.9 L158.3,212.9 L159.5,214.5 L160.7,215.7 L161.8,216.8\n",
       "\t\tL163.0,217.6 L164.1,218.3 L165.3,218.7 L166.5,218.9 L167.6,219.1 L168.8,218.9 L169.9,218.6 L171.1,218.1\n",
       "\t\tL172.3,217.4 L173.4,216.6 L174.6,215.6 L175.7,214.6 L176.9,213.4 L178.1,212.1 L179.2,210.8 L180.4,209.4\n",
       "\t\tL181.5,208.0 L182.7,206.5 L183.9,205.1 L185.0,203.6 L186.2,201.8 L187.3,199.1 L188.5,197.8 L189.7,196.4\n",
       "\t\tL190.8,195.0 L192.0,193.7 L193.1,190.3 L194.3,189.0 L195.5,187.7 L196.6,185.7 L197.8,184.8 L198.9,183.6\n",
       "\t\tL200.1,182.5 L201.3,181.5 L202.4,180.5 L203.6,179.4 L204.7,178.5 L205.9,177.6 L207.1,176.8 L208.2,175.2\n",
       "\t\tL209.4,174.4 L210.5,173.6 L211.7,172.5 L212.9,171.8 L214.0,170.7 L215.2,169.7 L216.3,169.0 L217.5,168.5\n",
       "\t\tL218.7,168.0 L219.8,167.7 L221.0,167.4 L222.1,167.2 L223.3,167.1 L224.5,166.7 L225.6,166.6 L226.8,166.7\n",
       "\t\tL228.0,166.6 L229.1,166.2 L230.3,167.0 L231.4,167.1 L232.6,167.2 L233.8,167.2 L234.9,167.3 L236.1,166.9\n",
       "\t\tL237.2,166.7 L238.4,166.5 L239.6,166.3 L240.7,167.0 L241.9,167.2 L243.0,167.4 L244.2,167.7 L245.4,168.0\n",
       "\t\tL246.5,168.3 L247.7,168.6 L248.8,168.6 L250.0,168.5 L251.2,168.9 L252.3,169.3 L253.5,169.8 L254.6,170.2\n",
       "\t\tL255.8,170.6 L257.0,171.1 L258.1,171.5 L259.3,172.0 L260.4,172.4 L261.6,172.9 L262.8,175.8 L263.9,176.2\n",
       "\t\tL265.1,176.4 L266.2,177.2 L267.4,177.5 L268.6,177.7 L269.7,177.8 L270.9,178.1 L272.0,178.4 L273.2,178.6\n",
       "\t\tL274.4,178.9 L275.5,179.3 L276.7,180.4 L277.8,180.9 L279.0,183.3 L280.2,184.0 L281.3,184.8 L282.5,185.6\n",
       "\t\tL283.6,186.0 L284.8,186.4 L286.0,186.7 L287.1,187.2 L288.3,187.7 L289.4,188.5 L290.6,189.1 L291.8,189.8\n",
       "\t\tL292.9,190.5 L294.1,191.2 L295.2,192.0 L296.4,192.8 L297.6,193.7 L298.7,194.5 L299.9,197.7 L301.1,198.8\n",
       "\t\tL302.2,199.5 L303.4,200.1 L304.5,200.7 L305.7,202.4 L306.9,203.0 L308.0,203.5 L309.2,204.3 L310.3,205.1\n",
       "\t\tL311.5,205.9 L312.7,206.7 L313.8,208.6 L315.0,210.0 L316.1,212.8 L317.3,213.8 L318.5,214.8 L319.6,215.9\n",
       "\t\tL320.8,217.0 L321.9,218.2 L323.1,219.4 L324.3,220.5 L325.4,221.7 L326.6,222.8 L327.7,223.9 L328.9,225.0\n",
       "\t\tL330.1,226.1 L331.2,227.8 L332.4,228.9 L333.5,230.0 L334.7,230.9 L335.9,232.1 L337.0,233.2 L338.2,234.2\n",
       "\t\tL339.3,235.2 L340.5,236.2 L341.7,237.2 L342.8,238.1 L344.0,239.0 L345.1,239.9 L346.3,240.9 L347.5,241.9\n",
       "\t\tL348.6,242.9 L349.8,243.8 L350.9,244.7 L352.1,245.6 L353.3,246.5 L354.4,247.4 L355.6,248.2 L356.7,248.9\n",
       "\t\tL357.9,249.6 L359.1,250.3 L360.2,250.9 L361.4,251.6 L362.5,252.5 L363.7,253.1 L364.9,253.9 L366.0,254.4\n",
       "\t\tL367.2,254.9 L368.4,255.4 L369.5,255.8 L370.7,256.2 L371.8,256.6 L373.0,256.9 L374.2,257.3 L375.3,257.6\n",
       "\t\tL376.5,257.9 L377.6,258.1 L378.8,258.6 L380.0,258.8 L381.1,258.9 L382.3,259.3 L383.4,259.5 L384.6,259.8\n",
       "\t\tL385.8,260.1 L386.9,260.3 L388.1,260.5 L389.2,260.7 L390.4,260.8 L391.6,261.0 L392.7,261.2 L393.9,261.3\n",
       "\t\tL395.0,261.5 L396.2,262.9 L397.4,262.8 L398.5,262.9 L399.7,262.8 L400.8,263.0 L402.0,263.1  '/></g>\n",
       "\t</g>\n",
       "\t<g id=\"gnuplot_plot_4\" ><title>BoSSS-J686m4Oh01eta03</title>\n",
       "<g fill=\"none\" color=\"black\" stroke=\"currentColor\" stroke-width=\"3.00\" stroke-linecap=\"butt\" stroke-linejoin=\"miter\">\n",
       "\t<g transform=\"translate(519.8,135.1)\" stroke=\"none\" fill=\"black\" font-family=\"Arial\" font-size=\"16.00\"  text-anchor=\"start\">\n",
       "\t\t<text><tspan font-family=\"Arial\" >BoSSS-J686m4</tspan><tspan font-family=\"Arial\"  font-size=\"12.8\" dy=\"4.80px\">O</tspan><tspan font-family=\"Arial\"  font-size=\"16.0\" dy=\"-4.80px\">h01</tspan><tspan font-family=\"Arial\"  font-size=\"12.8\" dy=\"4.80px\">e</tspan><tspan font-family=\"Arial\"  font-size=\"16.0\" dy=\"-4.80px\">ta03</tspan></text>\n",
       "\t</g>\n",
       "</g>\n",
       "<g fill=\"none\" color=\"black\" stroke=\"currentColor\" stroke-width=\"3.00\" stroke-linecap=\"butt\" stroke-linejoin=\"miter\">\n",
       "\t<path stroke='rgb(255, 165,   0)'  d='M455.3,129.1 L508.7,129.1 M53.9,177.9 L55.1,177.9 L56.2,177.9 L57.4,177.9 L58.5,177.9 L59.7,178.0\n",
       "\t\tL60.9,178.0 L62.0,178.0 L63.2,178.1 L64.3,178.2 L65.5,178.2 L66.7,178.2 L67.8,178.2 L69.0,178.3\n",
       "\t\tL70.1,178.3 L71.3,178.4 L72.5,178.4 L73.6,178.5 L74.8,178.6 L75.9,178.7 L77.1,178.8 L78.3,178.9\n",
       "\t\tL79.4,179.0 L80.6,179.0 L81.7,179.1 L82.9,179.2 L84.1,179.3 L85.2,179.5 L86.4,179.6 L87.5,179.8\n",
       "\t\tL88.7,179.9 L89.9,180.2 L91.0,180.4 L92.2,180.7 L93.4,181.0 L94.5,181.4 L95.7,181.9 L96.8,182.4\n",
       "\t\tL98.0,183.0 L99.2,183.5 L100.3,184.2 L101.5,185.0 L102.6,185.8 L103.8,186.8 L105.0,187.8 L106.1,188.9\n",
       "\t\tL107.3,190.0 L108.4,191.3 L109.6,192.6 L110.8,193.7 L111.9,195.2 L113.1,196.8 L114.2,198.5 L115.4,200.0\n",
       "\t\tL116.6,201.8 L117.7,203.5 L118.9,205.2 L120.0,206.9 L121.2,208.8 L122.4,210.7 L123.5,212.7 L124.7,214.6\n",
       "\t\tL125.8,216.6 L127.0,218.4 L128.2,220.4 L129.3,222.4 L130.5,224.2 L131.6,226.0 L132.8,227.7 L134.0,229.3\n",
       "\t\tL135.1,230.9 L136.3,232.4 L137.4,233.8 L138.6,235.1 L139.8,236.3 L140.9,237.5 L142.1,238.6 L143.2,239.5\n",
       "\t\tL144.4,240.4 L145.6,241.2 L146.7,241.9 L147.9,242.5 L149.0,242.8 L150.2,243.1 L151.4,243.4 L152.5,243.5\n",
       "\t\tL153.7,243.6 L154.8,243.5 L156.0,243.3 L157.2,243.0 L158.3,242.7 L159.5,242.2 L160.7,241.7 L161.8,241.1\n",
       "\t\tL163.0,240.5 L164.1,239.8 L165.3,239.0 L166.5,238.3 L167.6,237.3 L168.8,236.5 L169.9,564.0 L171.1,234.8\n",
       "\t\tL172.3,233.9 L173.4,233.1 L174.6,232.2 L175.7,231.3 L176.9,230.4 L178.1,229.5 L179.2,228.6 L180.4,227.6\n",
       "\t\tL181.5,226.7 L182.7,225.8 L183.9,224.9 L185.0,224.0 L186.2,223.1 L187.3,222.3 L188.5,221.4 L189.7,220.5\n",
       "\t\tL190.8,219.7 L192.0,218.9 L193.1,218.1 L194.3,217.3 L195.5,216.1 L196.6,215.5 L197.8,214.8 L198.9,214.2\n",
       "\t\tL200.1,213.5 L201.3,212.9 L202.4,212.3 L203.6,211.6 L204.7,211.0 L205.9,210.5 L207.1,209.9 L208.2,209.5\n",
       "\t\tL209.4,209.1 L210.5,208.6 L211.7,208.2 L212.9,207.8 L214.0,207.4 L215.2,207.1 L216.3,207.2 L217.5,206.8\n",
       "\t\tL218.7,206.3 L219.8,564.0 L221.0,205.7 L222.1,205.5 L223.3,205.3 L224.5,205.2 L225.6,205.1 L226.8,205.0\n",
       "\t\tL228.0,205.5 L229.1,205.3 L230.3,205.1 L231.4,205.0 L232.6,564.0 L233.8,204.8 L234.9,204.8 L236.1,204.8\n",
       "\t\tL237.2,205.0 L238.4,205.0 L239.6,205.0 L240.7,205.0 L241.9,205.0 L243.0,205.0 L244.2,205.1 L245.4,205.2\n",
       "\t\tL246.5,205.3 L247.7,205.5 L248.8,205.6 L250.0,205.8 L251.2,206.0 L252.3,206.2 L253.5,564.0 L254.6,206.6\n",
       "\t\tL255.8,206.7 L257.0,206.9 L258.1,207.2 L259.3,207.4 L260.4,207.7 L261.6,208.0 L262.8,208.5 L263.9,564.0\n",
       "\t\tL265.1,564.0 L266.2,564.0 L267.4,209.6 L268.6,209.9 L269.7,210.3 L270.9,210.7 L272.0,211.1 L273.2,564.0\n",
       "\t\tL274.4,211.9 L275.5,212.4 L276.7,212.9 L277.8,213.4 L279.0,214.2 L280.2,214.7 L281.3,215.2 L282.5,215.7\n",
       "\t\tL283.6,216.1 L284.8,216.6 L286.0,217.1 L287.1,217.7 L288.3,218.2 L289.4,218.8 L290.6,219.3 L291.8,219.9\n",
       "\t\tL292.9,220.5 L294.1,221.1 L295.2,221.7 L296.4,222.3 L297.6,222.9 L298.7,223.5 L299.9,224.1 L301.1,224.7\n",
       "\t\tL302.2,225.4 L303.4,226.0 L304.5,226.6 L305.7,227.2 L306.9,227.8 L308.0,228.4 L309.2,229.0 L310.3,229.6\n",
       "\t\tL311.5,230.2 L312.7,230.8 L313.8,231.3 L315.0,231.9 L316.1,232.6 L317.3,233.2 L318.5,233.7 L319.6,234.1\n",
       "\t\tL320.8,234.7 L321.9,235.3 L323.1,564.0 L324.3,236.3 L325.4,564.0 L326.6,564.0 L327.7,564.0 L328.9,238.1\n",
       "\t\tL330.1,238.5 L331.2,238.9 L332.4,239.3 L333.5,239.7 L334.7,240.0 L335.9,240.4 L337.0,240.7 L338.2,241.0\n",
       "\t\tL339.3,241.4 L340.5,241.7 L341.7,242.1 L342.8,242.3 L344.0,242.6 L345.1,564.0 L346.3,243.1 L347.5,243.3\n",
       "\t\tL348.6,243.4 L349.8,243.6 L350.9,243.8 L352.1,243.9 L353.3,244.1 L354.4,244.2 L355.6,244.3 L356.7,244.5\n",
       "\t\tL357.9,244.6 L359.1,244.7 L360.2,244.7 L361.4,244.8 L362.5,244.9 L363.7,245.0 L364.9,245.0 L366.0,245.1\n",
       "\t\tL367.2,245.1 L368.4,245.1 L369.5,245.2 L370.7,245.2 L371.8,245.2 L373.0,245.2 L374.2,245.3 L375.3,245.3\n",
       "\t\tL376.5,564.0 L377.6,245.3 L378.8,245.2 L380.0,245.2 L381.1,245.2 L382.3,245.2 L383.4,564.0 L384.6,245.2\n",
       "\t\tL385.8,245.2 L386.9,245.1 L388.1,245.1 L389.2,245.0 L390.4,245.0 L391.6,244.9 L392.7,244.9 L393.9,244.8\n",
       "\t\tL395.0,244.8 L396.2,244.7 L397.4,244.7 L398.5,244.7 L399.7,244.7 L400.8,244.6 L402.0,244.6  '/></g>\n",
       "\t</g>\n",
       "\t<g id=\"gnuplot_plot_5\" ><title>BoSSS-J686m4Oh01eta02</title>\n",
       "<g fill=\"none\" color=\"black\" stroke=\"currentColor\" stroke-width=\"3.00\" stroke-linecap=\"butt\" stroke-linejoin=\"miter\">\n",
       "\t<g transform=\"translate(519.8,159.1)\" stroke=\"none\" fill=\"black\" font-family=\"Arial\" font-size=\"16.00\"  text-anchor=\"start\">\n",
       "\t\t<text><tspan font-family=\"Arial\" >BoSSS-J686m4</tspan><tspan font-family=\"Arial\"  font-size=\"12.8\" dy=\"4.80px\">O</tspan><tspan font-family=\"Arial\"  font-size=\"16.0\" dy=\"-4.80px\">h01</tspan><tspan font-family=\"Arial\"  font-size=\"12.8\" dy=\"4.80px\">e</tspan><tspan font-family=\"Arial\"  font-size=\"16.0\" dy=\"-4.80px\">ta02</tspan></text>\n",
       "\t</g>\n",
       "</g>\n",
       "<g fill=\"none\" color=\"black\" stroke=\"currentColor\" stroke-width=\"3.00\" stroke-linecap=\"butt\" stroke-linejoin=\"miter\">\n",
       "\t<path stroke='rgb(255,   0,   0)'  d='M455.3,153.1 L508.7,153.1 M53.9,195.6 L55.1,195.6 L56.2,195.6 L57.4,195.6 L58.5,195.6 L59.7,195.7\n",
       "\t\tL60.9,195.7 L62.0,195.8 L63.2,195.9 L64.3,196.0 L65.5,196.1 L66.7,196.3 L67.8,196.4 L69.0,196.6\n",
       "\t\tL70.1,196.7 L71.3,196.9 L72.5,197.1 L73.6,197.4 L74.8,197.6 L75.9,197.8 L77.1,198.1 L78.3,198.4\n",
       "\t\tL79.4,198.7 L80.6,199.0 L81.7,199.3 L82.9,199.7 L84.1,200.1 L85.2,200.5 L86.4,200.9 L87.5,201.4\n",
       "\t\tL88.7,201.9 L89.9,202.5 L91.0,203.0 L92.2,203.7 L93.4,204.3 L94.5,205.0 L95.7,205.8 L96.8,206.6\n",
       "\t\tL98.0,207.4 L99.2,208.3 L100.3,564.0 L101.5,564.0 L102.6,564.0 L103.8,212.3 L105.0,213.3 L106.1,214.3\n",
       "\t\tL107.3,215.4 L108.4,216.6 L109.6,217.8 L110.8,219.0 L111.9,220.1 L113.1,221.4 L114.2,222.6 L115.4,223.9\n",
       "\t\tL116.6,225.2 L117.7,226.5 L118.9,227.8 L120.0,229.0 L121.2,230.2 L122.4,231.3 L123.5,232.5 L124.7,233.6\n",
       "\t\tL125.8,234.6 L127.0,235.6 L128.2,236.7 L129.3,237.6 L130.5,238.6 L131.6,239.4 L132.8,240.3 L134.0,240.9\n",
       "\t\tL135.1,241.7 L136.3,242.3 L137.4,242.9 L138.6,243.5 L139.8,244.0 L140.9,244.5 L142.1,244.8 L143.2,245.1\n",
       "\t\tL144.4,245.4 L145.6,245.6 L146.7,245.7 L147.9,245.8 L149.0,245.8 L150.2,245.8 L151.4,245.7 L152.5,245.5\n",
       "\t\tL153.7,245.3 L154.8,245.1 L156.0,244.8 L157.2,244.5 L158.3,244.1 L159.5,243.7 L160.7,243.3 L161.8,242.8\n",
       "\t\tL163.0,242.3 L164.1,241.8 L165.3,241.3 L166.5,240.7 L167.6,240.2 L168.8,239.6 L169.9,239.0 L171.1,238.5\n",
       "\t\tL172.3,237.9 L173.4,237.3 L174.6,236.7 L175.7,236.1 L176.9,235.5 L178.1,234.9 L179.2,234.1 L180.4,233.5\n",
       "\t\tL181.5,232.9 L182.7,232.4 L183.9,231.8 L185.0,231.2 L186.2,230.5 L187.3,229.9 L188.5,229.4 L189.7,228.7\n",
       "\t\tL190.8,228.3 L192.0,227.8 L193.1,227.3 L194.3,226.8 L195.5,226.3 L196.6,225.8 L197.8,225.3 L198.9,224.9\n",
       "\t\tL200.1,224.2 L201.3,223.8 L202.4,223.5 L203.6,222.9 L204.7,222.6 L205.9,222.3 L207.1,222.0 L208.2,221.7\n",
       "\t\tL209.4,221.4 L210.5,221.1 L211.7,220.8 L212.9,220.5 L214.0,220.2 L215.2,219.9 L216.3,219.7 L217.5,219.5\n",
       "\t\tL218.7,219.3 L219.8,219.0 L221.0,218.9 L222.1,218.7 L223.3,218.5 L224.5,218.4 L225.6,218.3 L226.8,218.1\n",
       "\t\tL228.0,218.0 L229.1,217.9 L230.3,217.8 L231.4,217.8 L232.6,217.7 L233.8,217.7 L234.9,217.6 L236.1,217.6\n",
       "\t\tL237.2,217.6 L238.4,217.6 L239.6,217.6 L240.7,217.7 L241.9,217.7 L243.0,217.7 L244.2,217.8 L245.4,217.9\n",
       "\t\tL246.5,218.0 L247.7,218.1 L248.8,218.2 L250.0,218.3 L251.2,218.4 L252.3,218.5 L253.5,218.7 L254.6,218.9\n",
       "\t\tL255.8,219.0 L257.0,219.2 L258.1,219.4 L259.3,219.6 L260.4,219.8 L261.6,220.0 L262.8,220.2 L263.9,220.5\n",
       "\t\tL265.1,220.7 L266.2,221.0 L267.4,221.2 L268.6,221.5 L269.7,221.8 L270.9,222.1 L272.0,222.4 L273.2,222.7\n",
       "\t\tL274.4,223.0 L275.5,223.3 L276.7,223.6 L277.8,224.0 L279.0,224.3 L280.2,224.6 L281.3,225.0 L282.5,225.3\n",
       "\t\tL283.6,225.7 L284.8,226.0 L286.0,226.4 L287.1,226.8 L288.3,227.1 L289.4,227.5 L290.6,227.9 L291.8,228.2\n",
       "\t\tL292.9,228.6 L294.1,229.0 L295.2,229.4 L296.4,229.7 L297.6,230.1 L298.7,230.5 L299.9,230.8 L301.1,231.2\n",
       "\t\tL302.2,231.6 L303.4,231.9 L304.5,232.3 L305.7,232.6 L306.9,233.0 L308.0,233.3 L309.2,233.7 L310.3,233.9\n",
       "\t\tL311.5,234.2 L312.7,234.6 L313.8,234.9 L315.0,235.2 L316.1,235.5 L317.3,235.7 L318.5,236.0 L319.6,236.3\n",
       "\t\tL320.8,236.6 L321.9,236.9 L323.1,237.1 L324.3,237.3 L325.4,237.6 L326.6,237.8 L327.7,238.0 L328.9,238.1\n",
       "\t\tL330.1,238.3 L331.2,238.5 L332.4,238.6 L333.5,238.8 L334.7,238.9 L335.9,239.1 L337.0,239.2 L338.2,239.3\n",
       "\t\tL339.3,239.4 L340.5,239.5 L341.7,239.6 L342.8,239.7 L344.0,239.7 L345.1,239.8 L346.3,239.8 L347.5,239.9\n",
       "\t\tL348.6,239.9 L349.8,240.0 L350.9,240.0 L352.1,240.0 L353.3,240.0 L354.4,240.0 L355.6,240.0 L356.7,240.0\n",
       "\t\tL357.9,240.0 L359.1,240.0 L360.2,239.9 L361.4,239.9 L362.5,239.9 L363.7,239.9 L364.9,239.9 L366.0,239.9\n",
       "\t\tL367.2,239.8 L368.4,239.8 L369.5,239.7 L370.7,239.6 L371.8,239.6 L373.0,239.6 L374.2,239.5 L375.3,239.5\n",
       "\t\tL376.5,239.5 L377.6,239.4 L378.8,239.3 L380.0,239.3 L381.1,239.2 L382.3,239.2 L383.4,239.1 L384.6,239.1\n",
       "\t\tL385.8,239.0 L386.9,238.9 L388.1,238.9 L389.2,238.8 L390.4,238.8 L391.6,238.7 L392.7,238.7 L393.9,238.6\n",
       "\t\tL395.0,238.6 L396.2,238.5 L397.4,238.5 L398.5,238.5 L399.7,238.4 L400.8,238.4 L402.0,238.4  '/></g>\n",
       "\t</g>\n",
       "<g fill=\"none\" color=\"#FFFFFF\" stroke=\"rgb(255,   0,   0)\" stroke-width=\"2.00\" stroke-linecap=\"butt\" stroke-linejoin=\"miter\">\n",
       "</g>\n",
       "<g fill=\"none\" color=\"black\" stroke=\"currentColor\" stroke-width=\"2.00\" stroke-linecap=\"butt\" stroke-linejoin=\"miter\">\n",
       "</g>\n",
       "<g fill=\"none\" color=\"black\" stroke=\"black\" stroke-width=\"1.00\" stroke-linecap=\"butt\" stroke-linejoin=\"miter\">\n",
       "</g>\n",
       "<g fill=\"none\" color=\"black\" stroke=\"currentColor\" stroke-width=\"1.00\" stroke-linecap=\"butt\" stroke-linejoin=\"miter\">\n",
       "\t<path stroke='black'  d='M53.9,36.1 L53.9,564.0 L750.1,564.0 L750.1,36.1 L53.9,36.1 Z  '/></g>\n",
       "<g fill=\"none\" color=\"black\" stroke=\"currentColor\" stroke-width=\"1.00\" stroke-linecap=\"butt\" stroke-linejoin=\"miter\">\n",
       "</g>\n",
       "</g>\n",
       "</svg>\n",
       "\n"
      ]
     },
     "metadata": {},
     "output_type": "display_data"
    }
   ],
   "source": [
    "pltTab3.XrangeMin = 0;\n",
    "pltTab3.XrangeMax = 3;\n",
    "var gp = pltTab3.ToGnuplot();\n",
    "gp.PlotSVG()"
   ]
  },
  {
   "cell_type": "code",
   "execution_count": null,
   "metadata": {
    "dotnet_interactive": {
     "language": "csharp"
    }
   },
   "outputs": [],
   "source": [
    "// foreach(var grp in pltTab1.dataGroups) {\n",
    "//     Plot2Ddata dat = new Plot2Ddata();\n",
    "//     dat.AddDataGroup(grp);\n",
    "//     string name = \"plotData/AspectRatioOverTime/m2/\" + pltTab1.Title + \"/\" + grp.Name + \".txt\";\n",
    "//     dat.SaveToTextFile(name);\n",
    "// }"
   ]
  }
 ],
 "metadata": {
  "kernelspec": {
   "display_name": ".NET (C#)",
   "language": "C#",
   "name": ".net-csharp"
  },
  "language_info": {
   "file_extension": ".cs",
   "mimetype": "text/x-csharp",
   "name": "C#",
   "pygments_lexer": "csharp",
   "version": "9.0"
  }
 },
 "nbformat": 4,
 "nbformat_minor": 2
}
