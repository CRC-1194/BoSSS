{
 "cells": [
  {
   "cell_type": "code",
   "execution_count": null,
   "metadata": {
    "dotnet_interactive": {
     "language": "csharp"
    }
   },
   "outputs": [],
   "source": [
    "//#r \"../../src/L4-application/BoSSSpad/bin/Release/net5.0/BoSSSpad.dll\"\n",
    "//#r \"../../src/L4-application/BoSSSpad/bin/Debug/net5.0/BoSSSpad.dll\"\n",
    "#r \"BoSSSpad.dll\"\n",
    "using System;\n",
    "using System.Collections.Generic;\n",
    "using System.Linq;\n",
    "using ilPSP;\n",
    "using ilPSP.Utils;\n",
    "using BoSSS.Platform;\n",
    "using BoSSS.Foundation;\n",
    "using BoSSS.Foundation.XDG;\n",
    "using BoSSS.Foundation.Grid;\n",
    "using BoSSS.Foundation.Grid.Classic;\n",
    "using BoSSS.Foundation.IO;\n",
    "using BoSSS.Solution;\n",
    "using BoSSS.Solution.Control;\n",
    "using BoSSS.Solution.GridImport;\n",
    "using BoSSS.Solution.Statistic;\n",
    "using BoSSS.Solution.Utils;\n",
    "using BoSSS.Solution.AdvancedSolvers;\n",
    "using BoSSS.Solution.Gnuplot;\n",
    "using BoSSS.Application.BoSSSpad;\n",
    "using BoSSS.Application.XNSE_Solver;\n",
    "using static BoSSS.Application.BoSSSpad.BoSSSshell;\n",
    "Init();"
   ]
  },
  {
   "cell_type": "code",
   "execution_count": null,
   "metadata": {
    "dotnet_interactive": {
     "language": "csharp"
    }
   },
   "outputs": [],
   "source": [
    "using BoSSS.Application.XNSE_Solver;\n",
    "using BoSSS.Application.XNSE_Solver.PhysicalBasedTestcases;\n",
    "using BoSSS.Solution.NSECommon;\n",
    "using BoSSS.Solution.LevelSetTools.SolverWithLevelSetUpdater;\n",
    "using NUnit.Framework;\n",
    "using BoSSS.Application.XNSE_Solver.Logging;"
   ]
  },
  {
   "cell_type": "code",
   "execution_count": null,
   "metadata": {
    "dotnet_interactive": {
     "language": "csharp"
    }
   },
   "outputs": [],
   "source": [
    "using System.IO;"
   ]
  },
  {
   "cell_type": "code",
   "execution_count": null,
   "metadata": {
    "dotnet_interactive": {
     "language": "csharp"
    }
   },
   "outputs": [
    {
     "name": "stdout",
     "output_type": "stream",
     "text": [
      "Project name is set to 'OscillatingDroplet3D'.\r\n",
      "Opening existing database 'D:\\local\\OscillatingDroplet3D'.\r\n"
     ]
    }
   ],
   "source": [
    "BoSSSshell.WorkflowMgm.Init(\"OscillatingDroplet3D\");"
   ]
  },
  {
   "cell_type": "code",
   "execution_count": null,
   "metadata": {
    "dotnet_interactive": {
     "language": "csharp"
    }
   },
   "outputs": [
    {
     "data": {
      "text/html": [
       "<div class=\"dni-plaintext\">43</div>"
      ]
     },
     "metadata": {},
     "output_type": "display_data"
    }
   ],
   "source": [
    "int numSess = wmg.Sessions.Count();\n",
    "numSess"
   ]
  },
  {
   "cell_type": "code",
   "execution_count": null,
   "metadata": {
    "dotnet_interactive": {
     "language": "csharp"
    }
   },
   "outputs": [
    {
     "name": "stdout",
     "output_type": "stream",
     "text": [
      "Opening existing database '\\\\hpccluster\\hpccluster-scratch\\smuda\\OscillatingDroplet3D'.\r\n"
     ]
    }
   ],
   "source": [
    "//add database manually:\n",
    "OpenOrCreateDatabase(@\"\\\\hpccluster\\hpccluster-scratch\\smuda\\OscillatingDroplet3D\");"
   ]
  },
  {
   "cell_type": "code",
   "execution_count": null,
   "metadata": {
    "dotnet_interactive": {
     "language": "csharp"
    }
   },
   "outputs": [
    {
     "name": "stdout",
     "output_type": "stream",
     "text": [
      "Loading session 3190027a-c3d9-4869-bf85-ed028cbb97e2 failed with message 'Could not find file '\\\\hpccluster\\hpccluster-scratch\\smuda\\OscillatingDroplet3D\\sessions\\3190027a-c3d9-4869-bf85-ed028cbb97e2\\Session.info'.'\r\n",
      "Loading session ff159894-3ab0-4961-a743-3520554919c0 failed with message 'Could not find file '\\\\hpccluster\\hpccluster-scratch\\smuda\\OscillatingDroplet3D\\sessions\\ff159894-3ab0-4961-a743-3520554919c0\\Session.info'.'\r\n"
     ]
    },
    {
     "data": {
      "text/plain": [
       "#0: OscillatingDroplet3D\tOD3D_J686k3_wallBC_amr1_m2_Oh01_eta04_thirdOrderInit_restart1_withReInit*\t07/29/2022 18:26:25\t5e0fa717...\r\n",
       "#1: OscillatingDroplet3D\tOD3D_J686k3_wallBC_amr1_m3_Oh01_eta03_restart2\t07/11/2022 13:39:12\t95fa458f...\r\n",
       "#2: OscillatingDroplet3D\tOD3D_J686k3_wallBC_amr1_m3_Oh01_eta04_restart2\t07/11/2022 13:38:30\tb97b80ef...\r\n",
       "#3: OscillatingDroplet3D\tOD3D_J686k3_wallBC_amr2_m3_Oh01_eta04*\t07/11/2022 13:56:43\t5480a5ac...\r\n",
       "#4: OscillatingDroplet3D\tOD3D_J686k3_wallBC_amr2_m4_Oh01_eta01*\t07/11/2022 13:56:41\td98b11be...\r\n",
       "#5: OscillatingDroplet3D\tOD3D_J686k3_wallBC_amr2_m3_Oh01_eta015*\t07/11/2022 13:49:48\t53060394...\r\n",
       "#6: OscillatingDroplet3D\tOD3D_J686k3_wallBC_amr2_m4_Oh01_eta01_thirdOrderInit*\t07/11/2022 13:49:03\t325af26a...\r\n",
       "#7: OscillatingDroplet3D\tOD3D_J686k3_wallBC_amr2_m3_Oh01_eta015_thirdOrderInit*\t07/11/2022 13:48:12\tbc10dc66...\r\n",
       "#8: OscillatingDroplet3D\tOD3D_J686k3_wallBC_amr1_m2_Oh01_eta04_thirdOrderInit_restart1*\t07/11/2022 13:40:26\tea13d149...\r\n",
       "#9: OscillatingDroplet3D\tOD3D_J686k3_wallBC_amr1_m3_Oh01_eta015_restart2*\t07/11/2022 13:39:58\t7f997c98...\r\n",
       "#10: OscillatingDroplet3D\tOD3D_J686k3_wallBC_amr1_m3_Oh01_eta015_thirdOrderInit_restart2*\t07/11/2022 13:37:47\tb06f29e3...\r\n",
       "#11: OscillatingDroplet3D\tOD3D_J686k3_wallBC_amr1_m4_Oh01_eta01_thirdOrderInit_restart3\t06/15/2022 09:32:55\ta4c88947...\r\n",
       "#12: OscillatingDroplet3D\tOD3D_J686k3_wallBC_amr1_m2_Oh01_eta01_restart3\t06/15/2022 08:37:41\tdd97e2f1...\r\n",
       "#13: OscillatingDroplet3D\tOD3D_J686k3_wallBC_amr1_m2_Oh01_eta02_restart3\t06/15/2022 08:37:47\t95fc59fd...\r\n",
       "#14: OscillatingDroplet3D\tOD3D_J686k3_wallBC_amr1_m2_Oh01_eta02_thirdOrderInit_restart3\t06/15/2022 09:32:54\td8e3f635...\r\n",
       "#15: OscillatingDroplet3D\tOD3D_J686k3_wallBC_amr1_m2_Oh01_eta01_thirdOrderInit_restart3\t06/15/2022 08:37:38\t0d35c433...\r\n",
       "#16: OscillatingDroplet3D\tOD3D_J686k3_wallBC_amr1_m4_Oh01_eta01_restart3\t06/15/2022 09:32:56\tef6c7d75...\r\n",
       "#17: OscillatingDroplet3D\tOD3D_J686k3_wallBC_amr1_m3_Oh01_eta015_thirdOrderInit_restart1*\t06/15/2022 09:32:52\tb5737ad0...\r\n",
       "#18: OscillatingDroplet3D\tOD3D_J686k3_wallBC_amr1_m3_Oh01_eta04_restart1*\t06/15/2022 09:32:51\t7d44a31f...\r\n",
       "#19: OscillatingDroplet3D\tOD3D_J686k3_wallBC_amr1_m3_Oh01_eta03_restart1*\t06/15/2022 08:37:30\t8e38c8ef...\r\n",
       "#20: OscillatingDroplet3D\tOD3D_J686k3_wallBC_amr1_m3_Oh01_eta015_restart1*\t06/15/2022 08:37:29\td6040a6f...\r\n",
       "#21: OscillatingDroplet3D\tOD3D_J686k3_wallBC_amr1_m2_Oh01_eta04_restart3\t06/13/2022 15:31:38\tceb7f024...\r\n",
       "#22: OscillatingDroplet3D\tOD3D_J686k3_wallBC_amr1_m4_Oh056_eta005_restart2*\t05/30/2022 08:14:52\t5cdca669...\r\n",
       "#23: OscillatingDroplet3D\tOD3D_J686k3_wallBC_amr1_m4_Oh01_eta04_restart2*\t05/27/2022 20:59:40\t87cde3b9...\r\n",
       "#24: OscillatingDroplet3D\tOD3D_J686k3_wallBC_amr1_m2_Oh01_eta02_restart2*\t05/27/2022 20:59:17\t33d67916...\r\n",
       "#25: OscillatingDroplet3D\tOD3D_J686k3_wallBC_amr1_m4_Oh056_eta005_thirdOrderInit_restart2*\t05/27/2022 20:58:55\tefea163a...\r\n",
       "#26: OscillatingDroplet3D\tOD3D_J432k3_wallBC_amr1_m4_Oh056_eta005_restart2*\t05/27/2022 20:58:32\t91e4a6b9...\r\n",
       "#27: OscillatingDroplet3D\tOD3D_J686k3_wallBC_amr1_m4_Oh01_eta01_restart2*\t05/27/2022 20:58:11\t7c6f2773...\r\n",
       "#28: OscillatingDroplet3D\tOD3D_J686k3_wallBC_amr1_m2_Oh01_eta01_restart2*\t05/27/2022 20:57:50\ta2d5a18a...\r\n",
       "#29: OscillatingDroplet3D\tOD3D_J686k3_wallBC_amr1_m2_Oh01_eta04_restart2*\t05/27/2022 20:57:27\t99a785fa...\r\n",
       "#30: OscillatingDroplet3D\tOD3D_J686k3_wallBC_amr1_m4_Oh01_eta01_thirdOrderInit_restart2*\t05/27/2022 20:57:05\t7534accc...\r\n",
       "#31: OscillatingDroplet3D\tOD3D_J686k3_wallBC_amr1_m2_Oh01_eta01_thirdOrderInit_restart2*\t05/27/2022 20:56:43\tbc8c9ffb...\r\n",
       "#32: OscillatingDroplet3D\tOD3D_J686k3_wallBC_amr1_m2_Oh01_eta02_thirdOrderInit_restart2*\t05/27/2022 20:56:21\t9b81be0b...\r\n",
       "#33: OscillatingDroplet3D\tOD3D_J432k3_wallBC_amr1_m4_Oh056_eta005_thirdOrderInit_restart2*\t05/27/2022 20:56:02\t58f863d5...\r\n",
       "#34: OscillatingDroplet3D\tOD3D_J686k3_wallBC_amr1_m3_Oh01_eta04_thirdOrderInit*\t05/30/2022 14:36:38\t4f6ae21b...\r\n",
       "#35: OscillatingDroplet3D\tOD3D_J686k3_wallBC_amr1_m3_Oh01_eta03_thirdOrderInit*\t05/30/2022 14:36:37\t0a722a82...\r\n",
       "#36: OscillatingDroplet3D\tOD3D_J686k3_wallBC_amr1_m3_Oh01_eta015_thirdOrderInit*\t05/30/2022 14:36:35\tdbec01c0...\r\n",
       "#37: OscillatingDroplet3D\tOD3D_J686k3_wallBC_amr1_m3_Oh01_eta04*\t05/30/2022 14:36:32\t683d34f8...\r\n",
       "#38: OscillatingDroplet3D\tOD3D_J686k3_wallBC_amr1_m3_Oh01_eta03*\t05/30/2022 14:36:31\teeefb940...\r\n",
       "#39: OscillatingDroplet3D\tOD3D_J686k3_wallBC_amr1_m3_Oh01_eta015*\t05/30/2022 14:36:29\t2d8d1b19...\r\n",
       "#40: OscillatingDroplet3D\tOD3D_J686k3_wallBC_amr1_m2_Oh01_eta04_thirdOrderInit_restart1*\t05/20/2022 16:57:12\tbe53871c...\r\n",
       "#41: OscillatingDroplet3D\tOD3D_J432k3_wallBC_amr1_m4_Oh056_eta005_thirdOrderInit_restart1*\t05/17/2022 10:08:04\t76b0e980...\r\n",
       "#42: OscillatingDroplet3D\tOD3D_J686k3_wallBC_amr1_m2_Oh01_eta02_thirdOrderInit_restart1*\t05/17/2022 10:08:00\t3e2bed94...\r\n",
       "#43: OscillatingDroplet3D\tOD3D_J686k3_wallBC_amr1_m2_Oh01_eta01_thirdOrderInit_restart1*\t05/17/2022 10:07:57\t67803604...\r\n",
       "#44: OscillatingDroplet3D\tOD3D_J686k3_wallBC_amr1_m4_Oh01_eta01_thirdOrderInit_restart1*\t05/17/2022 10:07:54\t5186e4b6...\r\n",
       "#45: OscillatingDroplet3D\tOD3D_J686k3_wallBC_amr1_m2_Oh01_eta04_restart1*\t05/17/2022 10:07:52\t8e7bc526...\r\n",
       "#46: OscillatingDroplet3D\tOD3D_J686k3_wallBC_amr1_m2_Oh01_eta01_restart1*\t05/17/2022 10:07:48\t2a51c1d4...\r\n",
       "#47: OscillatingDroplet3D\tOD3D_J686k3_wallBC_amr1_m4_Oh01_eta01_restart1*\t05/17/2022 10:07:45\t5c10c5c8...\r\n",
       "#48: OscillatingDroplet3D\tOD3D_J432k3_wallBC_amr1_m4_Oh056_eta005_restart1*\t05/17/2022 08:55:01\t4c068665...\r\n",
       "#49: OscillatingDroplet3D\tOD3D_J686k3_wallBC_amr1_m4_Oh056_eta005_thirdOrderInit_restart1*\t05/17/2022 08:53:22\tab7079e9...\r\n",
       "#50: OscillatingDroplet3D\tOD3D_J686k3_wallBC_amr1_m2_Oh01_eta02_restart1*\t05/17/2022 08:52:44\t6b199ada...\r\n",
       "#51: OscillatingDroplet3D\tOD3D_J686k3_wallBC_amr1_m4_Oh01_eta04_restart1*\t05/17/2022 08:52:06\t3763b09d...\r\n",
       "#52: OscillatingDroplet3D\tOD3D_J686k3_wallBC_amr1_m4_Oh056_eta005_restart1*\t05/17/2022 08:51:29\t7c1e8cb5...\r\n",
       "#53: OscillatingDroplet3D\tOD3D_J686k3_wallBC_amr1_m2_Oh01_eta02_thirdOrderInit_restart1*\t05/13/2022 15:30:22\t26e97a0c...\r\n",
       "#54: OscillatingDroplet3D\tOD3D_J686k3_wallBC_amr1_m2_Oh01_eta01_thirdOrderInit_restart1*\t05/13/2022 15:30:02\tb96af149...\r\n",
       "#55: OscillatingDroplet3D\tOD3D_J686k3_wallBC_amr1_m4_Oh01_eta01_thirdOrderInit_restart1*\t05/13/2022 15:29:42\t79f2c597...\r\n",
       "#56: OscillatingDroplet3D\tOD3D_J686k3_wallBC_amr1_m4_Oh056_eta005_thirdOrderInit_restart1*\t05/13/2022 15:29:24\tc5e4f0a1...\r\n",
       "#57: OscillatingDroplet3D\tOD3D_J686k3_wallBC_amr1_m2_Oh01_eta04_restart1*\t05/13/2022 15:29:01\tbb2e89ed...\r\n",
       "#58: OscillatingDroplet3D\tOD3D_J686k3_wallBC_amr1_m2_Oh01_eta02_restart1*\t05/13/2022 15:28:41\t4211c963...\r\n",
       "#59: OscillatingDroplet3D\tOD3D_J686k3_wallBC_amr1_m2_Oh01_eta01_restart1*\t05/13/2022 15:28:21\t8806ec66...\r\n",
       "#60: OscillatingDroplet3D\tOD3D_J686k3_wallBC_amr1_m4_Oh01_eta04_restart1*\t05/13/2022 15:27:40\t14469e81...\r\n",
       "#61: OscillatingDroplet3D\tOD3D_J686k3_wallBC_amr1_m4_Oh01_eta01_restart1*\t05/13/2022 15:26:43\td5365179...\r\n",
       "#62: OscillatingDroplet3D\tOD3D_J686k3_wallBC_amr1_m4_Oh056_eta005_restart1*\t05/13/2022 15:26:23\t0364bbe1...\r\n",
       "#63: OscillatingDroplet3D\tOD3D_J432k3_wallBC_amr1_m4_Oh056_eta005_thirdOrderInit_restart1*\t05/13/2022 14:08:40\tf94cc26a...\r\n",
       "#64: OscillatingDroplet3D\tOD3D_J432k3_wallBC_amr1_m4_Oh056_eta005_restart1*\t05/13/2022 14:08:27\t34951808...\r\n",
       "#65: OscillatingDroplet3D\tOD3D_J686k3_wallBC_amr1_m4_Oh056_eta005*\t04/08/2022 11:37:03\t92930af7...\r\n",
       "#66: OscillatingDroplet3D\tOD3D_J686k3_wallBC_amr1_m4_Oh01_eta01*\t04/08/2022 11:36:37\t15341e01...\r\n",
       "#67: OscillatingDroplet3D\tOD3D_J686k3_wallBC_amr1_m4_Oh01_eta04*\t04/08/2022 11:34:56\t8486c026...\r\n",
       "#68: OscillatingDroplet3D\tOD3D_J686k3_wallBC_amr1_m3_Oh01_eta04*\t04/08/2022 11:34:00\te3a04ed7...\r\n",
       "#69: OscillatingDroplet3D\tOD3D_J686k3_wallBC_amr1_m2_Oh01_eta01*\t04/08/2022 11:33:27\t59bb73dc...\r\n",
       "#70: OscillatingDroplet3D\tOD3D_J686k3_wallBC_amr1_m2_Oh01_eta02*\t04/08/2022 11:33:07\t2e275baf...\r\n",
       "#71: OscillatingDroplet3D\tOD3D_J686k3_wallBC_amr1_m2_Oh01_eta04*\t04/08/2022 11:32:42\t8ef825a4...\r\n",
       "#72: OscillatingDroplet3D\tOD3D_J686k3_wallBC_amr1_m4_Oh056_eta005_thirdOrderInit*\t04/08/2022 11:32:17\tadf2022d...\r\n",
       "#73: OscillatingDroplet3D\tOD3D_J686k3_wallBC_amr1_m4_Oh01_eta01_thirdOrderInit*\t04/08/2022 11:31:55\t106a329f...\r\n",
       "#74: OscillatingDroplet3D\tOD3D_J686k3_wallBC_amr1_m4_Oh01_eta04_thirdOrderInit*\t04/08/2022 11:31:22\t5f822233...\r\n",
       "#75: OscillatingDroplet3D\tOD3D_J686k3_wallBC_amr1_m3_Oh01_eta04_thirdOrderInit*\t04/08/2022 11:31:07\t22cade02...\r\n",
       "#76: OscillatingDroplet3D\tOD3D_J686k3_wallBC_amr1_m2_Oh01_eta01_thirdOrderInit*\t04/08/2022 11:30:49\t51afe8ea...\r\n",
       "#77: OscillatingDroplet3D\tOD3D_J686k3_wallBC_amr1_m2_Oh01_eta02_thirdOrderInit*\t04/08/2022 11:30:31\ta1dc7b7c...\r\n",
       "#78: OscillatingDroplet3D\tOD3D_J686k3_wallBC_amr1_m2_Oh01_eta04_thirdOrderInit*\t04/08/2022 11:30:16\ta4b7b06d...\r\n",
       "#79: OscillatingDroplet3D\tOD3D_J432k3_wallBC_amr1_m4_Oh056_eta005*\t04/01/2022 18:34:01\ta1bc7755...\r\n",
       "#80: OscillatingDroplet3D\tOD3D_J432k3_wallBC_amr1_m4_Oh056_eta005_thirdOrderInit*\t04/01/2022 18:28:09\t918d934e...\r\n"
      ]
     },
     "metadata": {},
     "output_type": "display_data"
    }
   ],
   "source": [
    "var workSess = wmg.Sessions.Skip(numSess);\n",
    "workSess"
   ]
  },
  {
   "cell_type": "code",
   "execution_count": null,
   "metadata": {
    "dotnet_interactive": {
     "language": "csharp"
    }
   },
   "outputs": [],
   "source": [
    "string[] caseS = new string[] { \"m2_Oh01_eta04\" };\n",
    "//string[] caseS = new string[] { \"m2_Oh01_eta04\", \"m2_Oh01_eta02\", \"m2_Oh01_eta01\", \"m3_Oh01_eta04\", \"m3_Oh01_eta03\", \"m3_Oh01_eta015\", \"m4_Oh01_eta04\", \"m4_Oh01_eta01\", \"m4_Oh056_eta005\"};\n",
    "string[] gridS = new string[] { \"J686\" }; //, \"J432\" };\n",
    "bool[] ShouldAnaInit = new bool[] { true };\n",
    "bool[] useNewton = new bool[] { false };"
   ]
  },
  {
   "cell_type": "code",
   "execution_count": null,
   "metadata": {
    "dotnet_interactive": {
     "language": "csharp"
    }
   },
   "outputs": [],
   "source": [
    "var studySess = new List<ISessionInfo>();\n",
    "foreach(string _case in caseS) {\n",
    "    foreach(bool _init in ShouldAnaInit) {\n",
    "        foreach(var sess in workSess) {\n",
    "            if(sess.Name.Contains(_case) && sess.Name.Contains(gridS[0])) {\n",
    "                if(!(_init ^ sess.Name.Contains(\"_thirdOrderInit\"))) {\n",
    "                    studySess.Add(sess);\n",
    "                    //break;\n",
    "                }\n",
    "            }\n",
    "        }\n",
    "    }\n",
    "}"
   ]
  },
  {
   "cell_type": "code",
   "execution_count": null,
   "metadata": {
    "dotnet_interactive": {
     "language": "csharp"
    }
   },
   "outputs": [
    {
     "data": {
      "text/plain": [
       "#0: OscillatingDroplet3D\tOD3D_J686k3_wallBC_amr1_m2_Oh01_eta04_thirdOrderInit_restart1_withReInit*\t07/29/2022 18:26:25\t5e0fa717...\r\n",
       "#1: OscillatingDroplet3D\tOD3D_J686k3_wallBC_amr1_m2_Oh01_eta04_thirdOrderInit_restart1*\t07/11/2022 13:40:26\tea13d149...\r\n",
       "#2: OscillatingDroplet3D\tOD3D_J686k3_wallBC_amr1_m2_Oh01_eta04_thirdOrderInit_restart1*\t05/20/2022 16:57:12\tbe53871c...\r\n",
       "#3: OscillatingDroplet3D\tOD3D_J686k3_wallBC_amr1_m2_Oh01_eta04_thirdOrderInit*\t04/08/2022 11:30:16\ta4b7b06d...\r\n"
      ]
     },
     "metadata": {},
     "output_type": "display_data"
    }
   ],
   "source": [
    "studySess"
   ]
  },
  {
   "cell_type": "code",
   "execution_count": null,
   "metadata": {
    "dotnet_interactive": {
     "language": "csharp"
    }
   },
   "outputs": [
    {
     "data": {
      "text/plain": [
       "\\\\hpccluster\\hpccluster-scratch\\smuda\\OscillatingDroplet3D\\sessions\\be53871c-e95d-48b8-8dce-c1cc646059ee"
      ]
     },
     "metadata": {},
     "output_type": "display_data"
    }
   ],
   "source": [
    "studySess.Pick(2).GetSessionDirectory()"
   ]
  },
  {
   "cell_type": "code",
   "execution_count": null,
   "metadata": {
    "dotnet_interactive": {
     "language": "csharp"
    }
   },
   "outputs": [
    {
     "name": "stdout",
     "output_type": "stream",
     "text": [
      "Starting export process... Data will be written to the directory: C:\\Users\\smuda\\AppData\\Local\\BoSSS\\plots\\sessions\\OscillatingDroplet3D__OD3D_J686k3_wallBC_amr1_m2_Oh01_eta04_thirdOrderInit_restart1__ea13d149-d40a-48d2-88f8-28f6bfe3d38e\r\n"
     ]
    },
    {
     "data": {
      "text/plain": [
       "C:\\Users\\smuda\\AppData\\Local\\BoSSS\\plots\\sessions\\OscillatingDroplet3D__OD3D_J686k3_wallBC_amr1_m2_Oh01_eta04_thirdOrderInit_restart1__ea13d149-d40a-48d2-88f8-28f6bfe3d38e"
      ]
     },
     "metadata": {},
     "output_type": "display_data"
    }
   ],
   "source": [
    "studySess.Pick(1).Export().WithSupersampling(2).Do()"
   ]
  },
  {
   "cell_type": "code",
   "execution_count": null,
   "metadata": {
    "dotnet_interactive": {
     "language": "csharp"
    }
   },
   "outputs": [
    {
     "name": "stdout",
     "output_type": "stream",
     "text": [
      "OscillatingDroplet3D\tOD3D_J686k3_wallBC_amr1_m2_Oh01_eta04_thirdOrderInit_restart1_withReInit*\t07/29/2022 18:26:25\t5e0fa717...\r\n",
      "OscillatingDroplet3D\tOD3D_J686k3_wallBC_amr1_m2_Oh01_eta04_thirdOrderInit_restart1*\t07/11/2022 13:40:26\tea13d149...\r\n",
      "OscillatingDroplet3D\tOD3D_J686k3_wallBC_amr1_m2_Oh01_eta04_thirdOrderInit_restart1*\t05/20/2022 16:57:12\tbe53871c...\r\n",
      "OscillatingDroplet3D\tOD3D_J686k3_wallBC_amr1_m2_Oh01_eta04_thirdOrderInit*\t04/08/2022 11:30:16\ta4b7b06d...\r\n"
     ]
    },
    {
     "ename": "Error",
     "evalue": "System.InvalidOperationException: Sequence contains more than one element\r\n   at System.Linq.ThrowHelper.ThrowMoreThanOneElementException()\r\n   at System.Linq.Enumerable.TryGetSingle[TSource](IEnumerable`1 source, Boolean& found)\r\n   at System.Linq.Enumerable.Single[TSource](IEnumerable`1 source)\r\n   at Submission#32.<<Initialize>>d__0.MoveNext()\r\n--- End of stack trace from previous location ---\r\n   at Microsoft.CodeAnalysis.Scripting.ScriptExecutionState.RunSubmissionsAsync[TResult](ImmutableArray`1 precedingExecutors, Func`2 currentExecutor, StrongBox`1 exceptionHolderOpt, Func`2 catchExceptionOpt, CancellationToken cancellationToken)",
     "output_type": "error",
     "traceback": [
      "System.InvalidOperationException: Sequence contains more than one element\r\n",
      "   at System.Linq.ThrowHelper.ThrowMoreThanOneElementException()\r\n",
      "   at System.Linq.Enumerable.TryGetSingle[TSource](IEnumerable`1 source, Boolean& found)\r\n",
      "   at System.Linq.Enumerable.Single[TSource](IEnumerable`1 source)\r\n",
      "   at Submission#32.<<Initialize>>d__0.MoveNext()\r\n",
      "--- End of stack trace from previous location ---\r\n",
      "   at Microsoft.CodeAnalysis.Scripting.ScriptExecutionState.RunSubmissionsAsync[TResult](ImmutableArray`1 precedingExecutors, Func`2 currentExecutor, StrongBox`1 exceptionHolderOpt, Func`2 catchExceptionOpt, CancellationToken cancellationToken)"
     ]
    }
   ],
   "source": [
    "Plot2Ddata[,] PlotTableDM = new Plot2Ddata[caseS.Length,1];\n",
    "// Plot2Ddata[,] PlotTableDM_unprocessed = new Plot2Ddata[caseS.Length,1];\n",
    "for(int iCol = 0; iCol < 1; iCol++) {\n",
    "for(int iRow = 0; iRow < caseS.Length; iRow++) { // loop over cases\n",
    "for(int iGrd = 0; iGrd < gridS.Length; iGrd++) {   \n",
    "for(int iAna = 0; iAna < ShouldAnaInit.Length; iAna++) {\n",
    "for(int iNew = 0; iNew < useNewton.Length; iNew++) {\n",
    "\n",
    "    string _case = caseS[iRow];\n",
    "    string _grd = gridS[iGrd];\n",
    "\n",
    "    // if(_case == \"case2\" || _case == \"case3\")\n",
    "    //     continue; \n",
    "\n",
    "    //ISessionInfo SI = null;\n",
    "    var SIs = studySess.Where(sess => sess.Name.Contains(_case) \n",
    "                                      && sess.Name.Contains(_grd)\n",
    "                                      && (sess.Name.Contains(\"_thirdOrderInit\") == ShouldAnaInit[iAna])\n",
    "                                      && (sess.Name.Contains(\"_Newton\") == useNewton[iNew]));\n",
    "\n",
    "\n",
    "    if(SIs.Count() > 1) {\n",
    "        foreach(var s in SIs)\n",
    "            Console.WriteLine(s);\n",
    "    }\n",
    "    \n",
    "    if(SIs.IsNullOrEmpty()) \n",
    "        continue;\n",
    "\n",
    "    ISessionInfo SI = SIs.Single();\n",
    "    if(SI == null)\n",
    "        continue;\n",
    "    Console.WriteLine(SI.Name);\n",
    "\n",
    "\n",
    "    Stack<ISessionInfo>  procSIs = new Stack<ISessionInfo>();\n",
    "    procSIs.Push(SI);\n",
    "    var currSI = SI;\n",
    "    var rSIs = workSess.Where(sess => sess.ID.Equals(currSI.RestartedFrom));\n",
    "    while(!rSIs.IsNullOrEmpty()) {\n",
    "        var rSI = rSIs.Single();\n",
    "        procSIs.Push(rSI);\n",
    "        currSI = rSI;\n",
    "        rSIs = workSess.Where(sess => sess.ID.Equals(currSI.RestartedFrom));\n",
    "    }\n",
    "    //Console.WriteLine(\"number of processed Sessions for {0}: {1}\", _case, procSIs.Count);\n",
    "\n",
    "    var plot = new Plot2Ddata();\n",
    "    // var plot2 = new Plot2Ddata();\n",
    "\n",
    "    var fmt = new PlotFormat();\n",
    "    fmt.Style = Styles.Lines; \n",
    "    fmt.LineWidth = 3;\n",
    "    if (useNewton[iNew]) {\n",
    "        fmt.LineColor = LineColors.Red;\n",
    "        //fmt.DashType = DashTypes.Dashed;\n",
    "    } else {  \n",
    "        fmt.LineColor = LineColors.Blue;\n",
    "        //fmt.DashType = DashTypes.Solid;\n",
    "    }\n",
    "    if (!ShouldAnaInit[iAna]) {\n",
    "        fmt.DashType = DashTypes.Solid;\n",
    "    } else {\n",
    "        fmt.DashType = DashTypes.Dashed;\n",
    "    }\n",
    "\n",
    " \n",
    "    string name = \"BoSSS-\"+_grd;\n",
    "    // if(iAMR > 0)\n",
    "    //     name = name + \"-amr\";\n",
    "    if(ShouldAnaInit[iAna])\n",
    "        name = name + \"-3OrdInit\"; \n",
    "    if(useNewton[iNew])\n",
    "        name = name + \"-Newton\";\n",
    "\n",
    "\n",
    "    double[] time = new double[0];\n",
    "    double[] arLW = new double[0];\n",
    "\n",
    "    double[] arL = new double[0];\n",
    "    double[] arWx = new double[0];\n",
    "    double[] arWy = new double[0];\n",
    "\n",
    "    foreach(var pSI in procSIs) {\n",
    "\n",
    "        //Console.WriteLine(\"processing Session: {0}\", pSI.Name);\n",
    "        IDictionary<string, IList<double>> tab = null;\n",
    "        try {\n",
    "            tab = pSI.ReadTabulatedTextFileAsDoubles(\"DropletMetrics.txt\", '\\t');\n",
    "        } catch (Exception e) {\n",
    "            Console.Error.WriteLine(e.Message);\n",
    "            Console.WriteLine(\"Skipping \" + pSI);\n",
    "            \n",
    "            // var dummyPlot = new Plot2Ddata();\n",
    "            // dummyPlot.AddDataGroup(\"empty\", new double[]{ 0, 1 }, new double[] { 0, 1 });\n",
    "            // PlotTableDM[iRow,iCol] = dummyPlot;\n",
    "            continue;\n",
    "        }\n",
    "        \n",
    "        time = time.Concat(tab[\"time\"]).ToArray();\n",
    "\n",
    "        double[] L = tab[\"L\"].ToArray(); \n",
    "        double[] Wx = tab[\"Wx\"].ToArray(); \n",
    "        double[] Wy = tab[\"Wy\"].ToArray();\n",
    "        double[] LW = new double[L.Length];\n",
    "        for (int i = 0; i < L.Length; i++) {\n",
    "            LW[i] = 0.5 * ((L[i] / (2.0*Wx[i])) + (L[i] / (2.0*Wy[i])));\n",
    "        }\n",
    "        arLW = arLW.Concat(LW).ToArray();\n",
    "\n",
    "        arL = arL.Concat(L).ToArray();\n",
    "        arWx = arWx.Concat(Wx).ToArray();\n",
    "        arWy = arWy.Concat(Wy).ToArray();\n",
    "\n",
    "    }\n",
    "\n",
    "    // plot2.AddDataGroup(\"L\", time, arL, fmt);\n",
    "    // plot2.AddDataGroup(\"Wx\", time, arWx, fmt);\n",
    "    // plot2.AddDataGroup(\"Wy\", time, arWy, fmt);\n",
    "\n",
    "    List<double> arLW_lst = new List<double>();\n",
    "    List<double> time_lst = new List<double>();\n",
    "    double dataThreshold = 0.01;\n",
    "    for(int i = 0; i < time.Length; i++) {\n",
    "        if(arLW[i] > dataThreshold) {\n",
    "            arLW_lst.Add(arLW[i]);\n",
    "            time_lst.Add(time[i]);\n",
    "        }\n",
    "    }\n",
    "    arLW = arLW_lst.ToArray();\n",
    "    time = time_lst.ToArray();\n",
    "\n",
    "    plot.AddDataGroup(name, time, arLW, fmt);\n",
    "   \n",
    "    plot.ShowLegend = true;  \n",
    "\n",
    "    if(PlotTableDM[iRow,iCol]==null) {\n",
    "        PlotTableDM[iRow,iCol] = plot;\n",
    "        // PlotTableDM_unprocessed[iRow,iCol] = plot2;\n",
    "    } else {\n",
    "        PlotTableDM[iRow,iCol] = PlotTableDM[iRow,iCol].Merge(plot);\n",
    "        // PlotTableDM_unprocessed[iRow,iCol] = PlotTableDM_unprocessed[iRow,iCol].Merge(plot2);\n",
    "    }\n",
    "        \n",
    "    // if(iAMR == 0) {\n",
    "    //     PlotTableDM[iRow,iCol] = plot;\n",
    "    // } else {\n",
    "    //     PlotTableDM[iRow,iCol] = PlotTableDM[iRow,iCol].Merge(plot);\n",
    "    // }\n",
    "    \n",
    "}\n",
    "\n",
    "if(PlotTableDM[iRow,iCol] != null) {\n",
    "    PlotTableDM[iRow,iCol].ShowLegend = true; \n",
    "    //PlotTableDM[iRow,iCol].LegendFont = 10;\n",
    "    if(iCol == 0) {\n",
    "       PlotTableDM[iRow,iCol].Title = caseS[iRow];\n",
    "       PlotTableDM[iRow,iCol].Xlabel = \"time t\";\n",
    "       PlotTableDM[iRow,iCol].Ylabel = \"aspect ratio L/W\";\n",
    "    }\n",
    "}\n",
    "}\n",
    "}\n",
    "}\n",
    "}"
   ]
  },
  {
   "cell_type": "code",
   "execution_count": null,
   "metadata": {
    "dotnet_interactive": {
     "language": "csharp"
    }
   },
   "outputs": [
    {
     "ename": "Error",
     "evalue": "System.NullReferenceException: Object reference not set to an instance of an object.\r\n   at Submission#33.<<Initialize>>d__0.MoveNext()\r\n--- End of stack trace from previous location ---\r\n   at Microsoft.CodeAnalysis.Scripting.ScriptExecutionState.RunSubmissionsAsync[TResult](ImmutableArray`1 precedingExecutors, Func`2 currentExecutor, StrongBox`1 exceptionHolderOpt, Func`2 catchExceptionOpt, CancellationToken cancellationToken)",
     "output_type": "error",
     "traceback": [
      "System.NullReferenceException: Object reference not set to an instance of an object.\r\n",
      "   at Submission#33.<<Initialize>>d__0.MoveNext()\r\n",
      "--- End of stack trace from previous location ---\r\n",
      "   at Microsoft.CodeAnalysis.Scripting.ScriptExecutionState.RunSubmissionsAsync[TResult](ImmutableArray`1 precedingExecutors, Func`2 currentExecutor, StrongBox`1 exceptionHolderOpt, Func`2 catchExceptionOpt, CancellationToken cancellationToken)"
     ]
    }
   ],
   "source": [
    "var pltTab = PlotTableDM[0,0];\n",
    "pltTab.Title"
   ]
  },
  {
   "cell_type": "code",
   "execution_count": null,
   "metadata": {
    "dotnet_interactive": {
     "language": "csharp"
    }
   },
   "outputs": [
    {
     "name": "stdout",
     "output_type": "stream",
     "text": [
      "Using gnuplot: C:\\Users\\smuda\\AppData\\Local\\FDY\\BoSSS\\bin\\native\\win\\gnuplot-gp510-20160418-win32-mingw\\gnuplot\\bin\\gnuplot.exe\r\n",
      "set key font \",16\" Left reverse \r\n"
     ]
    },
    {
     "data": {
      "text/html": [
       "<?xml version=\"1.0\" encoding=\"utf-8\"  standalone=\"no\"?>\n",
       "<!DOCTYPE svg PUBLIC \"-//W3C//DTD SVG 1.1//EN\"\n",
       " \"http://www.w3.org/Graphics/SVG/1.1/DTD/svg11.dtd\">\n",
       "<svg \n",
       " width=\"800\" height=\"600\"\n",
       " viewBox=\"0 0 800 600\"\n",
       " xmlns=\"http://www.w3.org/2000/svg\"\n",
       " xmlns:xlink=\"http://www.w3.org/1999/xlink\"\n",
       ">\n",
       "\n",
       "<title>Gnuplot</title>\n",
       "<desc>Produced by GNUPLOT 5.1 patchlevel 0 </desc>\n",
       "\n",
       "<g id=\"gnuplot_canvas\">\n",
       "\n",
       "<rect x=\"0\" y=\"0\" width=\"800\" height=\"600\" fill=\"#ffffff\"/>\n",
       "<defs>\n",
       "\n",
       "\t<circle id='gpDot' r='0.5' stroke-width='0.5'/>\n",
       "\t<path id='gpPt0' stroke-width='0.222' stroke='currentColor' d='M-1,0 h2 M0,-1 v2'/>\n",
       "\t<path id='gpPt1' stroke-width='0.222' stroke='currentColor' d='M-1,-1 L1,1 M1,-1 L-1,1'/>\n",
       "\t<path id='gpPt2' stroke-width='0.222' stroke='currentColor' d='M-1,0 L1,0 M0,-1 L0,1 M-1,-1 L1,1 M-1,1 L1,-1'/>\n",
       "\t<rect id='gpPt3' stroke-width='0.222' stroke='currentColor' x='-1' y='-1' width='2' height='2'/>\n",
       "\t<rect id='gpPt4' stroke-width='0.222' stroke='currentColor' fill='currentColor' x='-1' y='-1' width='2' height='2'/>\n",
       "\t<circle id='gpPt5' stroke-width='0.222' stroke='currentColor' cx='0' cy='0' r='1'/>\n",
       "\t<use xlink:href='#gpPt5' id='gpPt6' fill='currentColor' stroke='none'/>\n",
       "\t<path id='gpPt7' stroke-width='0.222' stroke='currentColor' d='M0,-1.33 L-1.33,0.67 L1.33,0.67 z'/>\n",
       "\t<use xlink:href='#gpPt7' id='gpPt8' fill='currentColor' stroke='none'/>\n",
       "\t<use xlink:href='#gpPt7' id='gpPt9' stroke='currentColor' transform='rotate(180)'/>\n",
       "\t<use xlink:href='#gpPt9' id='gpPt10' fill='currentColor' stroke='none'/>\n",
       "\t<use xlink:href='#gpPt3' id='gpPt11' stroke='currentColor' transform='rotate(45)'/>\n",
       "\t<use xlink:href='#gpPt11' id='gpPt12' fill='currentColor' stroke='none'/>\n",
       "\t<path id='gpPt13' stroke-width='0.222' stroke='currentColor' d='M0,1.330 L1.265,0.411 L0.782,-1.067 L-0.782,-1.076 L-1.265,0.411 z'/>\n",
       "\t<use xlink:href='#gpPt13' id='gpPt14' fill='currentColor' stroke='none'/>\n",
       "\t<filter id='textbox' filterUnits='objectBoundingBox' x='0' y='0' height='1' width='1'>\n",
       "\t  <feFlood flood-color='#FFFFFF' flood-opacity='1' result='bgnd'/>\n",
       "\t  <feComposite in='SourceGraphic' in2='bgnd' operator='atop'/>\n",
       "\t</filter>\n",
       "\t<filter id='greybox' filterUnits='objectBoundingBox' x='0' y='0' height='1' width='1'>\n",
       "\t  <feFlood flood-color='lightgrey' flood-opacity='1' result='grey'/>\n",
       "\t  <feComposite in='SourceGraphic' in2='grey' operator='atop'/>\n",
       "\t</filter>\n",
       "</defs>\n",
       "<g fill=\"none\" color=\"#FFFFFF\" stroke=\"currentColor\" stroke-width=\"1.00\" stroke-linecap=\"butt\" stroke-linejoin=\"miter\">\n",
       "</g>\n",
       "<g fill=\"none\" color=\"black\" stroke=\"currentColor\" stroke-width=\"1.00\" stroke-linecap=\"butt\" stroke-linejoin=\"miter\">\n",
       "\t<path stroke='black'  d='M71.9,542.4 L80.9,542.4 M750.1,542.4 L741.1,542.4  '/>\t<g transform=\"translate(63.6,546.9)\" stroke=\"none\" fill=\"black\" font-family=\"Arial\" font-size=\"12.00\"  text-anchor=\"end\">\n",
       "\t\t<text><tspan font-family=\"Arial\" > 0</tspan></text>\n",
       "\t</g>\n",
       "</g>\n",
       "<g fill=\"none\" color=\"black\" stroke=\"currentColor\" stroke-width=\"1.00\" stroke-linecap=\"butt\" stroke-linejoin=\"miter\">\n",
       "\t<path stroke='black'  d='M71.9,448.3 L80.9,448.3 M750.1,448.3 L741.1,448.3  '/>\t<g transform=\"translate(63.6,452.8)\" stroke=\"none\" fill=\"black\" font-family=\"Arial\" font-size=\"12.00\"  text-anchor=\"end\">\n",
       "\t\t<text><tspan font-family=\"Arial\" > 0.5</tspan></text>\n",
       "\t</g>\n",
       "</g>\n",
       "<g fill=\"none\" color=\"black\" stroke=\"currentColor\" stroke-width=\"1.00\" stroke-linecap=\"butt\" stroke-linejoin=\"miter\">\n",
       "\t<path stroke='black'  d='M71.9,354.3 L80.9,354.3 M750.1,354.3 L741.1,354.3  '/>\t<g transform=\"translate(63.6,358.8)\" stroke=\"none\" fill=\"black\" font-family=\"Arial\" font-size=\"12.00\"  text-anchor=\"end\">\n",
       "\t\t<text><tspan font-family=\"Arial\" > 1</tspan></text>\n",
       "\t</g>\n",
       "</g>\n",
       "<g fill=\"none\" color=\"black\" stroke=\"currentColor\" stroke-width=\"1.00\" stroke-linecap=\"butt\" stroke-linejoin=\"miter\">\n",
       "\t<path stroke='black'  d='M71.9,260.2 L80.9,260.2 M750.1,260.2 L741.1,260.2  '/>\t<g transform=\"translate(63.6,264.7)\" stroke=\"none\" fill=\"black\" font-family=\"Arial\" font-size=\"12.00\"  text-anchor=\"end\">\n",
       "\t\t<text><tspan font-family=\"Arial\" > 1.5</tspan></text>\n",
       "\t</g>\n",
       "</g>\n",
       "<g fill=\"none\" color=\"black\" stroke=\"currentColor\" stroke-width=\"1.00\" stroke-linecap=\"butt\" stroke-linejoin=\"miter\">\n",
       "\t<path stroke='black'  d='M71.9,166.2 L80.9,166.2 M750.1,166.2 L741.1,166.2  '/>\t<g transform=\"translate(63.6,170.7)\" stroke=\"none\" fill=\"black\" font-family=\"Arial\" font-size=\"12.00\"  text-anchor=\"end\">\n",
       "\t\t<text><tspan font-family=\"Arial\" > 2</tspan></text>\n",
       "\t</g>\n",
       "</g>\n",
       "<g fill=\"none\" color=\"black\" stroke=\"currentColor\" stroke-width=\"1.00\" stroke-linecap=\"butt\" stroke-linejoin=\"miter\">\n",
       "\t<path stroke='black'  d='M71.9,72.1 L80.9,72.1 M750.1,72.1 L741.1,72.1  '/>\t<g transform=\"translate(63.6,76.6)\" stroke=\"none\" fill=\"black\" font-family=\"Arial\" font-size=\"12.00\"  text-anchor=\"end\">\n",
       "\t\t<text><tspan font-family=\"Arial\" > 2.5</tspan></text>\n",
       "\t</g>\n",
       "</g>\n",
       "<g fill=\"none\" color=\"black\" stroke=\"currentColor\" stroke-width=\"1.00\" stroke-linecap=\"butt\" stroke-linejoin=\"miter\">\n",
       "\t<path stroke='black'  d='M71.9,542.4 L71.9,533.4 M71.9,72.1 L71.9,81.1  '/>\t<g transform=\"translate(71.9,564.9)\" stroke=\"none\" fill=\"black\" font-family=\"Arial\" font-size=\"12.00\"  text-anchor=\"middle\">\n",
       "\t\t<text><tspan font-family=\"Arial\" > 0</tspan></text>\n",
       "\t</g>\n",
       "</g>\n",
       "<g fill=\"none\" color=\"black\" stroke=\"currentColor\" stroke-width=\"1.00\" stroke-linecap=\"butt\" stroke-linejoin=\"miter\">\n",
       "\t<path stroke='black'  d='M168.8,542.4 L168.8,533.4 M168.8,72.1 L168.8,81.1  '/>\t<g transform=\"translate(168.8,564.9)\" stroke=\"none\" fill=\"black\" font-family=\"Arial\" font-size=\"12.00\"  text-anchor=\"middle\">\n",
       "\t\t<text><tspan font-family=\"Arial\" > 1</tspan></text>\n",
       "\t</g>\n",
       "</g>\n",
       "<g fill=\"none\" color=\"black\" stroke=\"currentColor\" stroke-width=\"1.00\" stroke-linecap=\"butt\" stroke-linejoin=\"miter\">\n",
       "\t<path stroke='black'  d='M265.7,542.4 L265.7,533.4 M265.7,72.1 L265.7,81.1  '/>\t<g transform=\"translate(265.7,564.9)\" stroke=\"none\" fill=\"black\" font-family=\"Arial\" font-size=\"12.00\"  text-anchor=\"middle\">\n",
       "\t\t<text><tspan font-family=\"Arial\" > 2</tspan></text>\n",
       "\t</g>\n",
       "</g>\n",
       "<g fill=\"none\" color=\"black\" stroke=\"currentColor\" stroke-width=\"1.00\" stroke-linecap=\"butt\" stroke-linejoin=\"miter\">\n",
       "\t<path stroke='black'  d='M362.6,542.4 L362.6,533.4 M362.6,72.1 L362.6,81.1  '/>\t<g transform=\"translate(362.6,564.9)\" stroke=\"none\" fill=\"black\" font-family=\"Arial\" font-size=\"12.00\"  text-anchor=\"middle\">\n",
       "\t\t<text><tspan font-family=\"Arial\" > 3</tspan></text>\n",
       "\t</g>\n",
       "</g>\n",
       "<g fill=\"none\" color=\"black\" stroke=\"currentColor\" stroke-width=\"1.00\" stroke-linecap=\"butt\" stroke-linejoin=\"miter\">\n",
       "\t<path stroke='black'  d='M459.4,542.4 L459.4,533.4 M459.4,72.1 L459.4,81.1  '/>\t<g transform=\"translate(459.4,564.9)\" stroke=\"none\" fill=\"black\" font-family=\"Arial\" font-size=\"12.00\"  text-anchor=\"middle\">\n",
       "\t\t<text><tspan font-family=\"Arial\" > 4</tspan></text>\n",
       "\t</g>\n",
       "</g>\n",
       "<g fill=\"none\" color=\"black\" stroke=\"currentColor\" stroke-width=\"1.00\" stroke-linecap=\"butt\" stroke-linejoin=\"miter\">\n",
       "\t<path stroke='black'  d='M556.3,542.4 L556.3,533.4 M556.3,72.1 L556.3,81.1  '/>\t<g transform=\"translate(556.3,564.9)\" stroke=\"none\" fill=\"black\" font-family=\"Arial\" font-size=\"12.00\"  text-anchor=\"middle\">\n",
       "\t\t<text><tspan font-family=\"Arial\" > 5</tspan></text>\n",
       "\t</g>\n",
       "</g>\n",
       "<g fill=\"none\" color=\"black\" stroke=\"currentColor\" stroke-width=\"1.00\" stroke-linecap=\"butt\" stroke-linejoin=\"miter\">\n",
       "\t<path stroke='black'  d='M653.2,542.4 L653.2,533.4 M653.2,72.1 L653.2,81.1  '/>\t<g transform=\"translate(653.2,564.9)\" stroke=\"none\" fill=\"black\" font-family=\"Arial\" font-size=\"12.00\"  text-anchor=\"middle\">\n",
       "\t\t<text><tspan font-family=\"Arial\" > 6</tspan></text>\n",
       "\t</g>\n",
       "</g>\n",
       "<g fill=\"none\" color=\"black\" stroke=\"currentColor\" stroke-width=\"1.00\" stroke-linecap=\"butt\" stroke-linejoin=\"miter\">\n",
       "\t<path stroke='black'  d='M750.1,542.4 L750.1,533.4 M750.1,72.1 L750.1,81.1  '/>\t<g transform=\"translate(750.1,564.9)\" stroke=\"none\" fill=\"black\" font-family=\"Arial\" font-size=\"12.00\"  text-anchor=\"middle\">\n",
       "\t\t<text><tspan font-family=\"Arial\" > 7</tspan></text>\n",
       "\t</g>\n",
       "</g>\n",
       "<g fill=\"none\" color=\"black\" stroke=\"currentColor\" stroke-width=\"1.00\" stroke-linecap=\"butt\" stroke-linejoin=\"miter\">\n",
       "\t<path stroke='black'  d='M750.1,542.4 L741.1,542.4  '/>\t<g transform=\"translate(758.4,546.9)\" stroke=\"none\" fill=\"black\" font-family=\"Arial\" font-size=\"12.00\"  text-anchor=\"start\">\n",
       "\t\t<text><tspan font-family=\"Arial\" > </tspan></text>\n",
       "\t</g>\n",
       "</g>\n",
       "<g fill=\"none\" color=\"black\" stroke=\"currentColor\" stroke-width=\"1.00\" stroke-linecap=\"butt\" stroke-linejoin=\"miter\">\n",
       "\t<path stroke='black'  d='M750.1,448.3 L741.1,448.3  '/>\t<g transform=\"translate(758.4,452.8)\" stroke=\"none\" fill=\"black\" font-family=\"Arial\" font-size=\"12.00\"  text-anchor=\"start\">\n",
       "\t\t<text><tspan font-family=\"Arial\" > </tspan></text>\n",
       "\t</g>\n",
       "</g>\n",
       "<g fill=\"none\" color=\"black\" stroke=\"currentColor\" stroke-width=\"1.00\" stroke-linecap=\"butt\" stroke-linejoin=\"miter\">\n",
       "\t<path stroke='black'  d='M750.1,354.3 L741.1,354.3  '/>\t<g transform=\"translate(758.4,358.8)\" stroke=\"none\" fill=\"black\" font-family=\"Arial\" font-size=\"12.00\"  text-anchor=\"start\">\n",
       "\t\t<text><tspan font-family=\"Arial\" > </tspan></text>\n",
       "\t</g>\n",
       "</g>\n",
       "<g fill=\"none\" color=\"black\" stroke=\"currentColor\" stroke-width=\"1.00\" stroke-linecap=\"butt\" stroke-linejoin=\"miter\">\n",
       "\t<path stroke='black'  d='M750.1,260.2 L741.1,260.2  '/>\t<g transform=\"translate(758.4,264.7)\" stroke=\"none\" fill=\"black\" font-family=\"Arial\" font-size=\"12.00\"  text-anchor=\"start\">\n",
       "\t\t<text><tspan font-family=\"Arial\" > </tspan></text>\n",
       "\t</g>\n",
       "</g>\n",
       "<g fill=\"none\" color=\"black\" stroke=\"currentColor\" stroke-width=\"1.00\" stroke-linecap=\"butt\" stroke-linejoin=\"miter\">\n",
       "\t<path stroke='black'  d='M750.1,166.2 L741.1,166.2  '/>\t<g transform=\"translate(758.4,170.7)\" stroke=\"none\" fill=\"black\" font-family=\"Arial\" font-size=\"12.00\"  text-anchor=\"start\">\n",
       "\t\t<text><tspan font-family=\"Arial\" > </tspan></text>\n",
       "\t</g>\n",
       "</g>\n",
       "<g fill=\"none\" color=\"black\" stroke=\"currentColor\" stroke-width=\"1.00\" stroke-linecap=\"butt\" stroke-linejoin=\"miter\">\n",
       "\t<path stroke='black'  d='M750.1,72.1 L741.1,72.1  '/>\t<g transform=\"translate(758.4,76.6)\" stroke=\"none\" fill=\"black\" font-family=\"Arial\" font-size=\"12.00\"  text-anchor=\"start\">\n",
       "\t\t<text><tspan font-family=\"Arial\" > </tspan></text>\n",
       "\t</g>\n",
       "</g>\n",
       "<g fill=\"none\" color=\"black\" stroke=\"currentColor\" stroke-width=\"1.00\" stroke-linecap=\"butt\" stroke-linejoin=\"miter\">\n",
       "\t<path stroke='black'  d='M71.9,72.1 L71.9,81.1  '/>\t<g transform=\"translate(71.9,58.6)\" stroke=\"none\" fill=\"black\" font-family=\"Arial\" font-size=\"12.00\"  text-anchor=\"middle\">\n",
       "\t\t<text><tspan font-family=\"Arial\" > </tspan></text>\n",
       "\t</g>\n",
       "</g>\n",
       "<g fill=\"none\" color=\"black\" stroke=\"currentColor\" stroke-width=\"1.00\" stroke-linecap=\"butt\" stroke-linejoin=\"miter\">\n",
       "\t<path stroke='black'  d='M168.8,72.1 L168.8,81.1  '/>\t<g transform=\"translate(168.8,58.6)\" stroke=\"none\" fill=\"black\" font-family=\"Arial\" font-size=\"12.00\"  text-anchor=\"middle\">\n",
       "\t\t<text><tspan font-family=\"Arial\" > </tspan></text>\n",
       "\t</g>\n",
       "</g>\n",
       "<g fill=\"none\" color=\"black\" stroke=\"currentColor\" stroke-width=\"1.00\" stroke-linecap=\"butt\" stroke-linejoin=\"miter\">\n",
       "\t<path stroke='black'  d='M265.7,72.1 L265.7,81.1  '/>\t<g transform=\"translate(265.7,58.6)\" stroke=\"none\" fill=\"black\" font-family=\"Arial\" font-size=\"12.00\"  text-anchor=\"middle\">\n",
       "\t\t<text><tspan font-family=\"Arial\" > </tspan></text>\n",
       "\t</g>\n",
       "</g>\n",
       "<g fill=\"none\" color=\"black\" stroke=\"currentColor\" stroke-width=\"1.00\" stroke-linecap=\"butt\" stroke-linejoin=\"miter\">\n",
       "\t<path stroke='black'  d='M362.6,72.1 L362.6,81.1  '/>\t<g transform=\"translate(362.6,58.6)\" stroke=\"none\" fill=\"black\" font-family=\"Arial\" font-size=\"12.00\"  text-anchor=\"middle\">\n",
       "\t\t<text><tspan font-family=\"Arial\" > </tspan></text>\n",
       "\t</g>\n",
       "</g>\n",
       "<g fill=\"none\" color=\"black\" stroke=\"currentColor\" stroke-width=\"1.00\" stroke-linecap=\"butt\" stroke-linejoin=\"miter\">\n",
       "\t<path stroke='black'  d='M459.4,72.1 L459.4,81.1  '/>\t<g transform=\"translate(459.4,58.6)\" stroke=\"none\" fill=\"black\" font-family=\"Arial\" font-size=\"12.00\"  text-anchor=\"middle\">\n",
       "\t\t<text><tspan font-family=\"Arial\" > </tspan></text>\n",
       "\t</g>\n",
       "</g>\n",
       "<g fill=\"none\" color=\"black\" stroke=\"currentColor\" stroke-width=\"1.00\" stroke-linecap=\"butt\" stroke-linejoin=\"miter\">\n",
       "\t<path stroke='black'  d='M556.3,72.1 L556.3,81.1  '/>\t<g transform=\"translate(556.3,58.6)\" stroke=\"none\" fill=\"black\" font-family=\"Arial\" font-size=\"12.00\"  text-anchor=\"middle\">\n",
       "\t\t<text><tspan font-family=\"Arial\" > </tspan></text>\n",
       "\t</g>\n",
       "</g>\n",
       "<g fill=\"none\" color=\"black\" stroke=\"currentColor\" stroke-width=\"1.00\" stroke-linecap=\"butt\" stroke-linejoin=\"miter\">\n",
       "\t<path stroke='black'  d='M653.2,72.1 L653.2,81.1  '/>\t<g transform=\"translate(653.2,58.6)\" stroke=\"none\" fill=\"black\" font-family=\"Arial\" font-size=\"12.00\"  text-anchor=\"middle\">\n",
       "\t\t<text><tspan font-family=\"Arial\" > </tspan></text>\n",
       "\t</g>\n",
       "</g>\n",
       "<g fill=\"none\" color=\"black\" stroke=\"currentColor\" stroke-width=\"1.00\" stroke-linecap=\"butt\" stroke-linejoin=\"miter\">\n",
       "\t<path stroke='black'  d='M750.1,72.1 L750.1,81.1  '/>\t<g transform=\"translate(750.1,58.6)\" stroke=\"none\" fill=\"black\" font-family=\"Arial\" font-size=\"12.00\"  text-anchor=\"middle\">\n",
       "\t\t<text><tspan font-family=\"Arial\" > </tspan></text>\n",
       "\t</g>\n",
       "</g>\n",
       "<g fill=\"none\" color=\"black\" stroke=\"currentColor\" stroke-width=\"1.00\" stroke-linecap=\"butt\" stroke-linejoin=\"miter\">\n",
       "</g>\n",
       "<g fill=\"none\" color=\"black\" stroke=\"currentColor\" stroke-width=\"1.00\" stroke-linecap=\"butt\" stroke-linejoin=\"miter\">\n",
       "\t<path stroke='black'  d='M71.9,72.1 L71.9,542.4 L750.1,542.4 L750.1,72.1 L71.9,72.1 Z  '/></g>\n",
       "<g fill=\"none\" color=\"black\" stroke=\"currentColor\" stroke-width=\"1.00\" stroke-linecap=\"butt\" stroke-linejoin=\"miter\">\n",
       "\t<g transform=\"translate(17.6,307.3) rotate(270)\" stroke=\"none\" fill=\"black\" font-family=\"Arial\" font-size=\"12.00\"  text-anchor=\"middle\">\n",
       "\t\t<text><tspan font-family=\"Arial\" >aspect ratio L/W</tspan></text>\n",
       "\t</g>\n",
       "</g>\n",
       "<g fill=\"none\" color=\"black\" stroke=\"currentColor\" stroke-width=\"1.00\" stroke-linecap=\"butt\" stroke-linejoin=\"miter\">\n",
       "\t<g transform=\"translate(411.0,591.9)\" stroke=\"none\" fill=\"black\" font-family=\"Arial\" font-size=\"12.00\"  text-anchor=\"middle\">\n",
       "\t\t<text><tspan font-family=\"Arial\" >time t</tspan></text>\n",
       "\t</g>\n",
       "</g>\n",
       "<g fill=\"none\" color=\"black\" stroke=\"currentColor\" stroke-width=\"1.00\" stroke-linecap=\"butt\" stroke-linejoin=\"miter\">\n",
       "\t<g transform=\"translate(411.0,13.6)\" stroke=\"none\" fill=\"black\" font-family=\"Arial\" font-size=\"12.00\"  text-anchor=\"middle\">\n",
       "\t\t<text><tspan font-family=\"Arial\" >m2</tspan><tspan font-family=\"Arial\"  font-size=\"9.6\" dy=\"3.60px\">O</tspan><tspan font-family=\"Arial\"  font-size=\"12.0\" dy=\"-3.60px\">h01</tspan><tspan font-family=\"Arial\"  font-size=\"9.6\" dy=\"3.60px\">e</tspan><tspan font-family=\"Arial\"  font-size=\"12.0\" dy=\"-3.60px\">ta04</tspan></text>\n",
       "\t</g>\n",
       "</g>\n",
       "\t<g id=\"gnuplot_plot_1\" ><title>BoSSS-J686-3OrdInit</title>\n",
       "<g fill=\"none\" color=\"#FFFFFF\" stroke=\"black\" stroke-width=\"3.00\" stroke-linecap=\"butt\" stroke-linejoin=\"miter\">\n",
       "</g>\n",
       "<g fill=\"none\" color=\"black\" stroke=\"currentColor\" stroke-width=\"3.00\" stroke-linecap=\"butt\" stroke-linejoin=\"miter\">\n",
       "\t<g transform=\"translate(530.9,99.1)\" stroke=\"none\" fill=\"black\" font-family=\"Arial\" font-size=\"16.00\"  text-anchor=\"start\">\n",
       "\t\t<text><tspan font-family=\"Arial\" >BoSSS-J686-3OrdInit</tspan></text>\n",
       "\t</g>\n",
       "</g>\n",
       "<g fill=\"none\" color=\"black\" stroke=\"currentColor\" stroke-width=\"3.00\" stroke-linecap=\"butt\" stroke-linejoin=\"miter\">\n",
       "\t<path stroke='rgb(  0,   0, 255)' stroke-dasharray='7.5,12.0'  d='M466.4,93.1 L519.8,93.1 M71.9,207.1 L72.4,194.9 L73.4,178.2 L74.8,153.0 L75.3,148.4 L75.8,139.4\n",
       "\t\tL76.3,133.5 L77.2,120.8 L77.7,121.7 L78.7,106.4 L79.2,103.0 L79.7,99.2 L80.1,96.5 L80.6,93.8\n",
       "\t\tL81.1,91.4 L81.6,89.6 L82.1,87.4 L82.6,85.8 L84.0,80.4 L84.5,88.3 L85.0,79.8 L85.9,77.4\n",
       "\t\tL87.4,76.3 L87.9,76.7 L88.4,77.3 L88.9,77.8 L89.3,78.3 L89.8,78.7 L90.3,79.1 L90.8,79.6\n",
       "\t\tL91.3,82.0 L91.8,82.4 L92.2,82.8 L92.7,81.7 L93.7,84.6 L94.7,87.9 L95.6,540.3 L96.1,92.6\n",
       "\t\tL96.6,94.1 L99.0,102.7 L99.5,104.7 L100.0,106.7 L101.9,115.4 L102.4,117.5 L102.9,119.5 L103.4,121.5\n",
       "\t\tL103.9,123.4 L104.4,125.3 L106.8,135.9 L107.3,137.6 L108.2,141.7 L110.7,152.0 L111.6,155.8 L112.1,157.6\n",
       "\t\tL112.6,159.5 L113.1,161.3 L113.6,163.1 L114.0,164.7 L114.5,166.1 L115.0,167.5 L116.0,171.3 L116.5,173.3\n",
       "\t\tL117.0,175.2 L117.4,176.9 L117.9,178.4 L118.4,179.8 L118.9,181.1 L119.4,182.3 L119.9,183.7 L120.3,185.0\n",
       "\t\tL120.8,186.2 L121.3,187.5 L121.8,189.4 L122.3,190.6 L123.7,193.9 L130.0,208.3 L130.5,209.3 L131.0,210.2\n",
       "\t\tL131.5,211.0 L132.5,212.8 L132.9,214.2 L133.4,215.1 L133.9,216.4 L134.4,217.8 L134.9,218.9 L135.4,220.0\n",
       "\t\tL135.8,220.6 L136.3,221.5 L136.8,222.5 L137.3,223.5 L140.2,229.3 L140.7,230.2 L141.2,231.2 L142.1,233.1\n",
       "\t\tL142.6,234.0 L143.1,235.0 L143.6,236.0 L144.6,239.2 L145.0,240.3 L145.5,241.4 L146.0,242.4 L146.5,243.5\n",
       "\t\tL147.0,244.3 L147.5,245.4 L148.0,246.2 L148.4,247.2 L148.9,248.3 L149.4,249.4 L149.9,250.3 L150.9,252.7\n",
       "\t\tL151.3,253.6 L151.8,255.3 L152.3,256.8 L152.8,258.2 L153.3,259.5 L153.8,260.8 L154.3,262.2 L154.7,263.5\n",
       "\t\tL155.2,264.8 L155.7,266.1 L156.2,267.4 L159.6,277.7 L160.1,279.3 L160.6,280.8 L161.0,282.1 L161.5,283.7\n",
       "\t\tL162.0,285.3 L162.5,287.1 L163.0,288.6 L163.5,290.2 L163.9,291.8 L164.4,293.5 L164.9,295.3 L165.9,298.8\n",
       "\t\tL166.8,302.3 L167.3,304.1 L163.9,291.8 L164.4,291.7 L164.9,293.5 L165.4,295.2 L165.9,296.9 L166.4,298.6\n",
       "\t\tL166.8,300.3 L167.3,302.0 L167.8,303.6 L168.3,303.7 L168.8,305.2 L169.3,305.3 L169.8,306.8 L170.2,308.4\n",
       "\t\tL170.7,309.9 L171.2,311.4 L171.7,312.9 L172.2,314.4 L172.7,315.9 L173.1,317.4 L173.6,318.9 L174.1,320.3\n",
       "\t\tL174.6,321.7 L175.1,321.7 L175.6,323.1 L176.1,323.1 L176.5,324.5 L177.0,325.9 L177.5,327.3 L178.0,328.6\n",
       "\t\tL178.5,329.9 L179.0,331.2 L179.4,332.5 L179.9,333.7 L180.4,334.9  '/></g>\n",
       "\t</g>\n",
       "<g fill=\"none\" color=\"#FFFFFF\" stroke=\"rgb(  0,   0, 255)\" stroke-width=\"2.00\" stroke-linecap=\"butt\" stroke-linejoin=\"miter\">\n",
       "</g>\n",
       "<g fill=\"none\" color=\"black\" stroke=\"currentColor\" stroke-width=\"2.00\" stroke-linecap=\"butt\" stroke-linejoin=\"miter\">\n",
       "</g>\n",
       "<g fill=\"none\" color=\"black\" stroke=\"black\" stroke-width=\"1.00\" stroke-linecap=\"butt\" stroke-linejoin=\"miter\">\n",
       "</g>\n",
       "<g fill=\"none\" color=\"black\" stroke=\"currentColor\" stroke-width=\"1.00\" stroke-linecap=\"butt\" stroke-linejoin=\"miter\">\n",
       "\t<path stroke='black'  d='M71.9,72.1 L71.9,542.4 L750.1,542.4 L750.1,72.1 L71.9,72.1 Z  '/></g>\n",
       "<g fill=\"none\" color=\"black\" stroke=\"currentColor\" stroke-width=\"1.00\" stroke-linecap=\"butt\" stroke-linejoin=\"miter\">\n",
       "</g>\n",
       "</g>\n",
       "</svg>\n",
       "\n"
      ]
     },
     "metadata": {},
     "output_type": "display_data"
    }
   ],
   "source": [
    "pltTab.XrangeMin = 0;\n",
    "pltTab.XrangeMax = 7;\n",
    "var gp = pltTab.ToGnuplot();\n",
    "gp.PlotSVG()"
   ]
  },
  {
   "cell_type": "code",
   "execution_count": null,
   "metadata": {
    "dotnet_interactive": {
     "language": "csharp"
    }
   },
   "outputs": [],
   "source": [
    "using BoSSS.Solution.XNSECommon;"
   ]
  },
  {
   "cell_type": "markdown",
   "metadata": {},
   "source": [
    "getMajorAxis3D() old variant using ClosestPointFinder()"
   ]
  },
  {
   "cell_type": "code",
   "execution_count": null,
   "metadata": {
    "dotnet_interactive": {
     "language": "csharp"
    }
   },
   "outputs": [],
   "source": [
    "double[] getMajorAxis3D(LevelSetTracker levSetTrk, LevelSet levSet) {\n",
    "    \n",
    "    bool AxisSymmetric = true;\n",
    "\n",
    "    MultidimensionalArray InterfacePoints = XNSEUtils.GetInterfacePoints(levSetTrk, levSet);\n",
    "\n",
    "    // droplet width W along x-Axis\n",
    "    double r_theta90x1 = 0.0;\n",
    "    double dist_xAxis_min1 = double.MaxValue;\n",
    "    double r_theta90x2 = 0.0;\n",
    "    double dist_xAxis_min2 = double.MaxValue;\n",
    "    // droplet width W along y-Axis\n",
    "    double r_theta90y1 = 0.0;\n",
    "    double dist_yAxis_min1 = double.MaxValue;\n",
    "    double r_theta90y2 = 0.0;\n",
    "    double dist_yAxis_min2 = double.MaxValue;\n",
    "    // droplet length L along z-Axis \n",
    "    double r_theta0 = 0.0;\n",
    "    double dist_zAxis_min1 = double.MaxValue;\n",
    "    double r_theta180 = 0.0;\n",
    "    double dist_zAxis_min2 = double.MaxValue;\n",
    "\n",
    "    for(int i = 0; i < InterfacePoints.Lengths[0]; i++) {\n",
    "        double xCoord = InterfacePoints[i, 0];\n",
    "        double yCoord = InterfacePoints[i, 1];\n",
    "        double zCoord = InterfacePoints[i, 2];\n",
    "\n",
    "        // droplet width W along x-Axis\n",
    "        double dist_xAxis = Math.Sqrt(yCoord.Pow2() + zCoord.Pow2());\n",
    "        if(dist_xAxis < dist_xAxis_min1 && xCoord > 0.0) {\n",
    "            dist_xAxis_min1 = dist_xAxis;\n",
    "            r_theta90x1 = xCoord;\n",
    "        }\n",
    "        if(!AxisSymmetric && dist_xAxis < dist_xAxis_min2 && xCoord < 0.0) {\n",
    "            dist_xAxis_min2 = dist_xAxis;\n",
    "            r_theta90x2 = xCoord;\n",
    "        }\n",
    "\n",
    "\n",
    "        // droplet width W along y-Axis\n",
    "        double dist_yAxis = Math.Sqrt(xCoord.Pow2() + zCoord.Pow2());\n",
    "        if(dist_yAxis < dist_yAxis_min1 && yCoord > 0.0) {\n",
    "            dist_yAxis_min1 = dist_yAxis;\n",
    "            r_theta90y1 = yCoord;\n",
    "        }\n",
    "        if(!AxisSymmetric && dist_yAxis < dist_yAxis_min2 && yCoord < 0.0) {\n",
    "            dist_yAxis_min2 = dist_yAxis;\n",
    "            r_theta90y2 = yCoord;\n",
    "        }\n",
    "\n",
    "        // droplet length L along z-Axis \n",
    "        double dist_zAxis = Math.Sqrt(xCoord.Pow2() + yCoord.Pow2());\n",
    "        if(dist_zAxis < dist_zAxis_min1 && zCoord > 0.0) {\n",
    "            dist_zAxis_min1 = dist_zAxis;\n",
    "            r_theta0 = zCoord;\n",
    "        }\n",
    "        if(dist_zAxis < dist_zAxis_min2 && zCoord < 0.0) {\n",
    "            dist_zAxis_min2 = dist_zAxis;\n",
    "            r_theta180 = zCoord;\n",
    "        }  \n",
    "        \n",
    "    }\n",
    "\n",
    "    double Wx = r_theta90x1 - r_theta90x2;\n",
    "    if(Wx < 0)\n",
    "        throw new ArgumentOutOfRangeException(\"Droplet length Wx is negative\");  \n",
    "\n",
    "    double Wy = r_theta90y1 - r_theta90y2;\n",
    "    if(Wy < 0)\n",
    "        throw new ArgumentOutOfRangeException(\"Droplet length Wy is negative\");\n",
    "\n",
    "    double L = r_theta0 - r_theta180;\n",
    "    if(L < 0)\n",
    "        throw new ArgumentOutOfRangeException(\"Droplet length L is negative\");\n",
    "\n",
    "    return new double[] { r_theta0, L, Wx, Wy };\n",
    "}"
   ]
  },
  {
   "cell_type": "code",
   "execution_count": null,
   "metadata": {
    "dotnet_interactive": {
     "language": "csharp"
    }
   },
   "outputs": [],
   "source": [
    "//rSess.GetSessionDirectory()"
   ]
  },
  {
   "cell_type": "code",
   "execution_count": null,
   "metadata": {
    "dotnet_interactive": {
     "language": "csharp"
    }
   },
   "outputs": [],
   "source": [
    "//rSess.Timesteps.Skip(92).Take(1).Export().WithSupersampling(3).Do()"
   ]
  },
  {
   "cell_type": "markdown",
   "metadata": {},
   "source": [
    "getMajorAxis3D_MK2() new variant using quadrature points"
   ]
  },
  {
   "cell_type": "code",
   "execution_count": null,
   "metadata": {
    "dotnet_interactive": {
     "language": "csharp"
    }
   },
   "outputs": [],
   "source": [
    "using BoSSS.Foundation.Quadrature;\n",
    "using BoSSS.Foundation.XDG.Quadrature.HMF;\n",
    "using BoSSS.Platform.Utils.Geom;"
   ]
  },
  {
   "cell_type": "code",
   "execution_count": null,
   "metadata": {
    "dotnet_interactive": {
     "language": "csharp"
    }
   },
   "outputs": [],
   "source": [
    "public double[] GetLocalSearchVector(Vector globalVector, GridData grdDat, int jCell) {\n",
    "    int D = globalVector.Dim;\n",
    "    MultidimensionalArray jVector_g = MultidimensionalArray.Create(1, D);\n",
    "    jVector_g.ExtractSubArrayShallow(0,-1).AccVector(1.0, globalVector);\n",
    "    MultidimensionalArray jVector_l = MultidimensionalArray.Create(1, 1, D);\n",
    "    grdDat.TransformGlobal2Local(jVector_g, jVector_l, jCell, 1, 0);\n",
    "    Vector jVector = new Vector(jVector_l.ExtractSubArrayShallow(0,0,-1).To1DArray());\n",
    "\n",
    "    for(int d = 0; d < D; d++) {\n",
    "        if(jVector[d] > 1.0) \n",
    "            jVector[d] = 1.0;\n",
    "        if(jVector[d] < -1.0) \n",
    "            jVector[d] = -1.0;\n",
    "    }\n",
    "\n",
    "    return jVector;\n",
    "}"
   ]
  },
  {
   "cell_type": "code",
   "execution_count": null,
   "metadata": {
    "dotnet_interactive": {
     "language": "csharp"
    }
   },
   "outputs": [],
   "source": [
    "// define search directions\n",
    "List<(Vector start, Vector end)> searchDirections = new List<(Vector start, Vector end)>();\n",
    "(Vector start, Vector end) dir1 = new (new Vector(new double[] {0,0,0}), new Vector(new double[] {0,0,3}));\n",
    "searchDirections.Add(dir1);\n",
    "(Vector start, Vector end) dir2 = new (new Vector(new double[] {0,0,-3}), new Vector(new double[] {0,0,0}));\n",
    "searchDirections.Add(dir2);\n",
    "(Vector start, Vector end) dir3 = new (new Vector(new double[] {0,0,0}), new Vector(new double[] {3,0,0}));\n",
    "searchDirections.Add(dir3);\n",
    "(Vector start, Vector end) dir4 = new (new Vector(new double[] {0,0,0}), new Vector(new double[] {0,3,0}));\n",
    "searchDirections.Add(dir4);\n",
    "(Vector start, Vector end)[] searchDirectionsArray = searchDirections.ToArray();\n",
    "int sD = searchDirections.Count;"
   ]
  },
  {
   "cell_type": "code",
   "execution_count": null,
   "metadata": {
    "dotnet_interactive": {
     "language": "csharp"
    }
   },
   "outputs": [],
   "source": [
    "// define search bounding boxes\n",
    "BoundingBox[] searchBoundingBoxes = new BoundingBox[sD];\n",
    "double dx = 0.05;\n",
    "// direction 1\n",
    "double[][] sPts = new double[6][];\n",
    "sPts[0] = new double[] { 0.0, 0.0, 0.0 };\n",
    "sPts[1] = new double[] { dx, 0.0, 0.0 };\n",
    "sPts[2] = new double[] { 0.0, dx, 0.0 };\n",
    "sPts[3] = new double[] { 0.0, 0.0, 3.0 };\n",
    "sPts[4] = new double[] { dx, 0.0, 3.0 };\n",
    "sPts[5] = new double[] { 0.0, dx, 3.0 };\n",
    "searchBoundingBoxes[0] = new BoundingBox(sPts);\n",
    "// direction 2\n",
    "sPts = new double[6][];\n",
    "sPts[0] = new double[] { 0.0, 0.0, -3.0 };\n",
    "sPts[1] = new double[] { dx, 0.0, -3.0 };\n",
    "sPts[2] = new double[] { 0.0, dx, -3.0 };\n",
    "sPts[3] = new double[] { 0.0, 0.0, 0.0 };\n",
    "sPts[4] = new double[] { dx, 0.0, 0.0 };\n",
    "sPts[5] = new double[] { 0.0, dx, 0.0 };\n",
    "searchBoundingBoxes[1] = new BoundingBox(sPts);\n",
    "// direction 3\n",
    "sPts = new double[6][];\n",
    "sPts[0] = new double[] { 0.0, 0.0, 0.0 };\n",
    "sPts[1] = new double[] { 0.0, 0.0, dx };\n",
    "sPts[2] = new double[] { 0.0, dx, 0.0 };\n",
    "sPts[3] = new double[] { 3.0, 0.0, 0.0 };\n",
    "sPts[4] = new double[] { 3.0, 0.0, dx };\n",
    "sPts[5] = new double[] { 3.0, dx, 0.0 };\n",
    "searchBoundingBoxes[2] = new BoundingBox(sPts);\n",
    "// direction 4\n",
    "sPts = new double[6][];\n",
    "sPts[0] = new double[] { 0.0, 0.0, 0.0 };\n",
    "sPts[1] = new double[] { dx, 0.0, 0.0 };\n",
    "sPts[2] = new double[] { 0.0, 0.0, dx };\n",
    "sPts[3] = new double[] { 0.0, 3.0, 0.0 };\n",
    "sPts[4] = new double[] { dx, 3.0, 0.0 };\n",
    "sPts[5] = new double[] { 0.0, 3.0, dx };\n",
    "searchBoundingBoxes[3] = new BoundingBox(sPts);\n"
   ]
  },
  {
   "cell_type": "code",
   "execution_count": null,
   "metadata": {
    "dotnet_interactive": {
     "language": "csharp"
    }
   },
   "outputs": [],
   "source": [
    "//public double[] getMajorAxis3D_Mk2(LevelSetTracker LsTrk, LevelSet LvlSet, (Vector start, Vector end)[] searchDirections, BoundingBox[] searchBoundingBoxes = null) {\n",
    "public (List<int>[] cells, List<double>[] roots) getMajorAxis3D_Mk2(LevelSetTracker LsTrk, LevelSet LvlSet, (Vector start, Vector end)[] searchDirections, BoundingBox[] searchBoundingBoxes = null) {\n",
    "\n",
    "    var grdDat = LsTrk.GridDat;\n",
    "    int D = grdDat.SpatialDimension;\n",
    "    int sD = searchDirections.Length;\n",
    "\n",
    "    // define search bounding boxes\n",
    "    if (searchBoundingBoxes == null) {\n",
    "        \n",
    "        searchBoundingBoxes = new BoundingBox[sD];\n",
    "        for(int s = 0; s < sD; s++) {\n",
    "            double[][] sPts = new double[2][];\n",
    "\n",
    "            double[] a = new double[D];\n",
    "            searchDirections[s].start.CopyTo(a, D);    \n",
    "            sPts[0] = a;\n",
    "            double[] b = new double[D];\n",
    "            searchDirections[s].end.CopyTo(b, D);\n",
    "            sPts[1] = b;\n",
    "\n",
    "            BoundingBox sBB = new BoundingBox(sPts);\n",
    "            searchBoundingBoxes[s] = sBB;\n",
    "        }\n",
    "    } else {\n",
    "        if(searchBoundingBoxes.Length != sD)\n",
    "            throw new ArgumentException(\"length of searchDirections and searchBoundingBoxes do not match\");\n",
    "    }\n",
    "\n",
    "    // find cells\n",
    "    var cutBoundaryCells = grdDat.BoundaryCells.VolumeMask.Intersect<CellMask>(LsTrk.RegionsHistory[0].GetCutCellMask());\n",
    "    List<int>[] rootFindingCells = new List<int>[sD];\n",
    "    foreach(int jCell in cutBoundaryCells.ItemEnum) {\n",
    "        BoundingBox jbb = new BoundingBox(D);\n",
    "        grdDat.Cells.GetCellBoundingBox(jCell, jbb);\n",
    "        for(int s = 0; s < sD; s++) {\n",
    "            if(rootFindingCells[s].IsNullOrEmpty())\n",
    "                rootFindingCells[s] = new List<int>();\n",
    "            BoundingBox sBB = searchBoundingBoxes[s];\n",
    "            if(jbb.Overlap(sBB) && !rootFindingCells[s].Contains(jCell)) {\n",
    "                rootFindingCells[s].Add(jCell);        \n",
    "            }\n",
    "        }\n",
    "    }\n",
    "\n",
    "    // root finding\n",
    "    var Kref = grdDat.Grid.RefElements[0]; \n",
    "    //double[] roots = new double[sD];\n",
    "    List<double>[] roots = new List<double>[sD];\n",
    "    for(int s = 0; s < sD; s++) {\n",
    "        //var rts = new List<double>();\n",
    "        roots[s] = new List<double>();\n",
    "        foreach(int jCell in rootFindingCells[s]) {\n",
    "            //Console.WriteLine(\"LineSegment in cell {0}:\", jCell);\n",
    "            Vector start = GetLocalSearchVector(searchDirections[s].start, grdDat, jCell);\n",
    "            //Console.WriteLine(\"start Vector: global ({0}, {1}, {2}), local ({3}, {4}, {5})\", searchDirections[s].start[0], searchDirections[s].start[1], searchDirections[s].start[2], start[0], start[1], start[2]);\n",
    "            Vector end = GetLocalSearchVector(searchDirections[s].end, grdDat, jCell);\n",
    "            //Console.WriteLine(\"end Vector: global ({0}, {1}, {2}), local ({3}, {4}, {5})\", searchDirections[s].end[0], searchDirections[s].end[1], searchDirections[s].end[2], end[0], end[1], end[2]);\n",
    "\n",
    "            LineSegment line =  new LineSegment(D, Kref, start, end); \n",
    "            line.ProjectBasisPolynomials(LvlSet.Basis);\n",
    "            LineSegment.IRootFindingAlgorithm rootFinder = new LineSegment.SafeGuardedNewtonMethod(1e-14);\n",
    "            int iKref = LsTrk.DataHistories[0].Current.GridDat.iGeomCells.RefElements.IndexOf(Kref, (A, B) => object.ReferenceEquals(A, B));\n",
    "            double[] sRoots = rootFinder.GetRoots(line, LvlSet, jCell, iKref);\n",
    "\n",
    "            for(int i = 0; i < sRoots.Length; i++) {\n",
    "\n",
    "                if(i >= 1) {\n",
    "                    Console.WriteLine(\"Warning: more than one roots per cell found on LineSegment\");\n",
    "                    continue;\n",
    "                } \n",
    "\n",
    "                Vector rPt = line.GetPointOnSegment(sRoots[i]);\n",
    "                //Console.WriteLine(\"GetPointOnSegment: ({0}, {1}, {2})\", rPt[0], rPt[1], rPt[2]);\n",
    "                MultidimensionalArray jRootl = MultidimensionalArray.Create(1, D);\n",
    "                MultidimensionalArray jRootg = MultidimensionalArray.Create(1, 1, D);\n",
    "                Vector dir = end - start;\n",
    "                int sdir = -1;\n",
    "                for(int d = 0; d < D; d++) {\n",
    "                    if(Math.Abs(dir[d]) > 1e-12) {\n",
    "                        jRootl[0,d] = sRoots[i];\n",
    "                        sdir = d;\n",
    "                    } else {\n",
    "                        jRootl[0,d] = start[d];\n",
    "                    }\n",
    "                }\n",
    "                //Console.WriteLine(\"jRootl: ({0}, {1}, {2})\", jRootl[0,0], jRootl[0,1], jRootl[0,2]);\n",
    "                grdDat.TransformLocal2Global(jRootl, jCell, 1, jRootg);\n",
    "                //Console.WriteLine(\"jRootg: ({0}, {1}, {2})\", jRootg[0,0,0], jRootg[0,0,1], jRootg[0,0,2]);\n",
    "                double[] root = jRootg.ExtractSubArrayShallow(0,0,-1).To1DArray();\n",
    "                //rts.Add(root[sdir]); \n",
    "                roots[s].Add(root[sdir]); \n",
    "            }\n",
    "\n",
    "\n",
    "        }\n",
    "        // // filter roots\n",
    "        // if(rts.Count > 1) {\n",
    "        //     double rtAver = rts.Average();\n",
    "        //     foreach(double rt in rts) {\n",
    "        //         if(Math.Abs(rt - rtAver) > 1e-6) {\n",
    "        //             throw new ArgumentException(\"roots[\"+ s +\"] are not equal: Average = \"+ rtAver +\", root = \"+ rt);\n",
    "        //         }\n",
    "        //     }\n",
    "        //     roots[s] = rtAver;\n",
    "        // } else if(rts.Count == 1) {\n",
    "        //     roots[s] = rts.ElementAt(0);\n",
    "        // }\n",
    "    }\n",
    "\n",
    "    //return roots;\n",
    "    return (rootFindingCells, roots);\n",
    "\n",
    "}"
   ]
  },
  {
   "cell_type": "code",
   "execution_count": null,
   "metadata": {
    "dotnet_interactive": {
     "language": "csharp"
    }
   },
   "outputs": [],
   "source": [
    "List<double> time = new List<double>();\n",
    "List<double> aspectRatio = new List<double>();"
   ]
  },
  {
   "cell_type": "code",
   "execution_count": null,
   "metadata": {
    "dotnet_interactive": {
     "language": "csharp"
    }
   },
   "outputs": [],
   "source": [
    "var SI = studySess.Pick(0);\n",
    "Stack<ISessionInfo>  procSIs = new Stack<ISessionInfo>();\n",
    "procSIs.Push(SI);\n",
    "var currSI = SI;\n",
    "var rSIs = workSess.Where(sess => sess.ID.Equals(currSI.RestartedFrom));\n",
    "while(!rSIs.IsNullOrEmpty()) {\n",
    "    var rSI = rSIs.Single();\n",
    "    procSIs.Push(rSI);\n",
    "    currSI = rSI;\n",
    "    rSIs = workSess.Where(sess => sess.ID.Equals(currSI.RestartedFrom));\n",
    "}"
   ]
  },
  {
   "cell_type": "code",
   "execution_count": null,
   "metadata": {
    "dotnet_interactive": {
     "language": "csharp"
    }
   },
   "outputs": [
    {
     "data": {
      "text/plain": [
       "#0: OscillatingDroplet3D\tOD3D_J686k3_wallBC_amr1_m2_Oh01_eta04_thirdOrderInit*\t04/08/2022 11:30:16\ta4b7b06d...\r\n",
       "#1: OscillatingDroplet3D\tOD3D_J686k3_wallBC_amr1_m2_Oh01_eta04_thirdOrderInit_restart1_withReInit*\t07/29/2022 18:26:25\t5e0fa717...\r\n"
      ]
     },
     "metadata": {},
     "output_type": "display_data"
    }
   ],
   "source": [
    "procSIs"
   ]
  },
  {
   "cell_type": "code",
   "execution_count": null,
   "metadata": {
    "dotnet_interactive": {
     "language": "csharp"
    }
   },
   "outputs": [],
   "source": [
    "List<int>[] findingCells;\n",
    "List<double>[] roots;\n",
    "\n",
    "foreach(var pSI in procSIs) {\n",
    "    foreach(var tStep in pSI.Timesteps) {\n",
    "\n",
    "        SinglePhaseField phi = (SinglePhaseField)tStep.GetField(\"Phi\");\n",
    "        GridData grdData = (GridData)phi.GridDat; \n",
    "        LevelSet levelSet = new LevelSet(phi.Basis, \"levelSet\");\n",
    "        levelSet.Acc(1.0, phi); \n",
    "        LevelSetTracker levelSetTrk = new LevelSetTracker(grdData, XQuadFactoryHelper.MomentFittingVariants.Saye,  1, new string[] {\"A\", \"B\"}, levelSet);\n",
    "        levelSetTrk.UpdateTracker(tStep.PhysicalTime);\n",
    "\n",
    "        time.Add(tStep.PhysicalTime);\n",
    "    \n",
    "        var ret = getMajorAxis3D_Mk2(levelSetTrk, levelSet, searchDirectionsArray, searchBoundingBoxes);\n",
    "\n",
    "        findingCells = ret.cells;\n",
    "        roots = ret.roots;\n",
    "\n",
    "        // filter roots\n",
    "        var ret_filt = new double[sD];\n",
    "        for(int s = 0; s < sD; s++) {\n",
    "            var rtsSD = roots[s];\n",
    "            if(rtsSD.Count > 1) {\n",
    "                double rtAver = rtsSD.Average();\n",
    "                foreach(double rt in rtsSD) {\n",
    "                    if(Math.Abs(rt - rtAver) > 1e-6) {\n",
    "                        throw new ArgumentException(\"roots[\"+ s +\"] are not equal: Average = \"+ rtAver +\", root = \"+ rt);\n",
    "                    }\n",
    "                }\n",
    "                ret_filt[s] = rtAver;\n",
    "            } else if(rtsSD.Count == 1) {\n",
    "                ret_filt[s] = rtsSD.ElementAt(0);\n",
    "            }\n",
    "        }\n",
    "        double L = ret_filt[0] - ret_filt[1];\n",
    "        double LW = 0.5 * ((L / (2.0*ret_filt[2])) + (L / (2.0*ret_filt[3]))); \n",
    "        aspectRatio.Add(LW);\n",
    "    }\n",
    "}"
   ]
  },
  {
   "cell_type": "code",
   "execution_count": null,
   "metadata": {
    "dotnet_interactive": {
     "language": "csharp"
    }
   },
   "outputs": [
    {
     "data": {
      "text/html": [
       "<table><thead><tr><th><i>index</i></th><th>value</th></tr></thead><tbody><tr><td>0</td><td>[ 0.9924438645026611 ]</td></tr><tr><td>1</td><td>[ -1.3931368872241814, -1.2837552593853838, -0.9956944234506502 ]</td></tr><tr><td>2</td><td>[ 1.017542604357615, 1.017542604357615 ]</td></tr><tr><td>3</td><td>[ 1.017560889767161, 1.017560889767161 ]</td></tr></tbody></table>"
      ]
     },
     "metadata": {},
     "output_type": "display_data"
    }
   ],
   "source": [
    "roots"
   ]
  },
  {
   "cell_type": "code",
   "execution_count": null,
   "metadata": {
    "dotnet_interactive": {
     "language": "csharp"
    }
   },
   "outputs": [
    {
     "ename": "Error",
     "evalue": "(1,1): error CS0103: The name 'findingCells' does not exist in the current context",
     "output_type": "error",
     "traceback": [
      "(1,1): error CS0103: The name 'findingCells' does not exist in the current context"
     ]
    }
   ],
   "source": [
    "findingCells"
   ]
  },
  {
   "cell_type": "code",
   "execution_count": null,
   "metadata": {
    "dotnet_interactive": {
     "language": "csharp"
    }
   },
   "outputs": [
    {
     "name": "stdout",
     "output_type": "stream",
     "text": [
      "Using gnuplot: C:\\Users\\smuda\\AppData\\Local\\FDY\\BoSSS\\bin\\native\\win\\gnuplot-gp510-20160418-win32-mingw\\gnuplot\\bin\\gnuplot.exe\r\n",
      "set key font \",16\" Left reverse \r\n"
     ]
    },
    {
     "data": {
      "text/html": [
       "<?xml version=\"1.0\" encoding=\"utf-8\"  standalone=\"no\"?>\n",
       "<!DOCTYPE svg PUBLIC \"-//W3C//DTD SVG 1.1//EN\"\n",
       " \"http://www.w3.org/Graphics/SVG/1.1/DTD/svg11.dtd\">\n",
       "<svg \n",
       " width=\"800\" height=\"600\"\n",
       " viewBox=\"0 0 800 600\"\n",
       " xmlns=\"http://www.w3.org/2000/svg\"\n",
       " xmlns:xlink=\"http://www.w3.org/1999/xlink\"\n",
       ">\n",
       "\n",
       "<title>Gnuplot</title>\n",
       "<desc>Produced by GNUPLOT 5.1 patchlevel 0 </desc>\n",
       "\n",
       "<g id=\"gnuplot_canvas\">\n",
       "\n",
       "<rect x=\"0\" y=\"0\" width=\"800\" height=\"600\" fill=\"#ffffff\"/>\n",
       "<defs>\n",
       "\n",
       "\t<circle id='gpDot' r='0.5' stroke-width='0.5'/>\n",
       "\t<path id='gpPt0' stroke-width='0.222' stroke='currentColor' d='M-1,0 h2 M0,-1 v2'/>\n",
       "\t<path id='gpPt1' stroke-width='0.222' stroke='currentColor' d='M-1,-1 L1,1 M1,-1 L-1,1'/>\n",
       "\t<path id='gpPt2' stroke-width='0.222' stroke='currentColor' d='M-1,0 L1,0 M0,-1 L0,1 M-1,-1 L1,1 M-1,1 L1,-1'/>\n",
       "\t<rect id='gpPt3' stroke-width='0.222' stroke='currentColor' x='-1' y='-1' width='2' height='2'/>\n",
       "\t<rect id='gpPt4' stroke-width='0.222' stroke='currentColor' fill='currentColor' x='-1' y='-1' width='2' height='2'/>\n",
       "\t<circle id='gpPt5' stroke-width='0.222' stroke='currentColor' cx='0' cy='0' r='1'/>\n",
       "\t<use xlink:href='#gpPt5' id='gpPt6' fill='currentColor' stroke='none'/>\n",
       "\t<path id='gpPt7' stroke-width='0.222' stroke='currentColor' d='M0,-1.33 L-1.33,0.67 L1.33,0.67 z'/>\n",
       "\t<use xlink:href='#gpPt7' id='gpPt8' fill='currentColor' stroke='none'/>\n",
       "\t<use xlink:href='#gpPt7' id='gpPt9' stroke='currentColor' transform='rotate(180)'/>\n",
       "\t<use xlink:href='#gpPt9' id='gpPt10' fill='currentColor' stroke='none'/>\n",
       "\t<use xlink:href='#gpPt3' id='gpPt11' stroke='currentColor' transform='rotate(45)'/>\n",
       "\t<use xlink:href='#gpPt11' id='gpPt12' fill='currentColor' stroke='none'/>\n",
       "\t<path id='gpPt13' stroke-width='0.222' stroke='currentColor' d='M0,1.330 L1.265,0.411 L0.782,-1.067 L-0.782,-1.076 L-1.265,0.411 z'/>\n",
       "\t<use xlink:href='#gpPt13' id='gpPt14' fill='currentColor' stroke='none'/>\n",
       "\t<filter id='textbox' filterUnits='objectBoundingBox' x='0' y='0' height='1' width='1'>\n",
       "\t  <feFlood flood-color='#FFFFFF' flood-opacity='1' result='bgnd'/>\n",
       "\t  <feComposite in='SourceGraphic' in2='bgnd' operator='atop'/>\n",
       "\t</filter>\n",
       "\t<filter id='greybox' filterUnits='objectBoundingBox' x='0' y='0' height='1' width='1'>\n",
       "\t  <feFlood flood-color='lightgrey' flood-opacity='1' result='grey'/>\n",
       "\t  <feComposite in='SourceGraphic' in2='grey' operator='atop'/>\n",
       "\t</filter>\n",
       "</defs>\n",
       "<g fill=\"none\" color=\"#FFFFFF\" stroke=\"currentColor\" stroke-width=\"1.00\" stroke-linecap=\"butt\" stroke-linejoin=\"miter\">\n",
       "</g>\n",
       "<g fill=\"none\" color=\"black\" stroke=\"currentColor\" stroke-width=\"1.00\" stroke-linecap=\"butt\" stroke-linejoin=\"miter\">\n",
       "\t<path stroke='black'  d='M53.9,564.0 L62.9,564.0 M750.1,564.0 L741.1,564.0  '/>\t<g transform=\"translate(45.6,568.5)\" stroke=\"none\" fill=\"black\" font-family=\"Arial\" font-size=\"12.00\"  text-anchor=\"end\">\n",
       "\t\t<text><tspan font-family=\"Arial\" > 1</tspan></text>\n",
       "\t</g>\n",
       "</g>\n",
       "<g fill=\"none\" color=\"black\" stroke=\"currentColor\" stroke-width=\"1.00\" stroke-linecap=\"butt\" stroke-linejoin=\"miter\">\n",
       "\t<path stroke='black'  d='M53.9,498.0 L62.9,498.0 M750.1,498.0 L741.1,498.0  '/>\t<g transform=\"translate(45.6,502.5)\" stroke=\"none\" fill=\"black\" font-family=\"Arial\" font-size=\"12.00\"  text-anchor=\"end\">\n",
       "\t\t<text><tspan font-family=\"Arial\" > 1.2</tspan></text>\n",
       "\t</g>\n",
       "</g>\n",
       "<g fill=\"none\" color=\"black\" stroke=\"currentColor\" stroke-width=\"1.00\" stroke-linecap=\"butt\" stroke-linejoin=\"miter\">\n",
       "\t<path stroke='black'  d='M53.9,432.0 L62.9,432.0 M750.1,432.0 L741.1,432.0  '/>\t<g transform=\"translate(45.6,436.5)\" stroke=\"none\" fill=\"black\" font-family=\"Arial\" font-size=\"12.00\"  text-anchor=\"end\">\n",
       "\t\t<text><tspan font-family=\"Arial\" > 1.4</tspan></text>\n",
       "\t</g>\n",
       "</g>\n",
       "<g fill=\"none\" color=\"black\" stroke=\"currentColor\" stroke-width=\"1.00\" stroke-linecap=\"butt\" stroke-linejoin=\"miter\">\n",
       "\t<path stroke='black'  d='M53.9,366.0 L62.9,366.0 M750.1,366.0 L741.1,366.0  '/>\t<g transform=\"translate(45.6,370.5)\" stroke=\"none\" fill=\"black\" font-family=\"Arial\" font-size=\"12.00\"  text-anchor=\"end\">\n",
       "\t\t<text><tspan font-family=\"Arial\" > 1.6</tspan></text>\n",
       "\t</g>\n",
       "</g>\n",
       "<g fill=\"none\" color=\"black\" stroke=\"currentColor\" stroke-width=\"1.00\" stroke-linecap=\"butt\" stroke-linejoin=\"miter\">\n",
       "\t<path stroke='black'  d='M53.9,300.1 L62.9,300.1 M750.1,300.1 L741.1,300.1  '/>\t<g transform=\"translate(45.6,304.6)\" stroke=\"none\" fill=\"black\" font-family=\"Arial\" font-size=\"12.00\"  text-anchor=\"end\">\n",
       "\t\t<text><tspan font-family=\"Arial\" > 1.8</tspan></text>\n",
       "\t</g>\n",
       "</g>\n",
       "<g fill=\"none\" color=\"black\" stroke=\"currentColor\" stroke-width=\"1.00\" stroke-linecap=\"butt\" stroke-linejoin=\"miter\">\n",
       "\t<path stroke='black'  d='M53.9,234.1 L62.9,234.1 M750.1,234.1 L741.1,234.1  '/>\t<g transform=\"translate(45.6,238.6)\" stroke=\"none\" fill=\"black\" font-family=\"Arial\" font-size=\"12.00\"  text-anchor=\"end\">\n",
       "\t\t<text><tspan font-family=\"Arial\" > 2</tspan></text>\n",
       "\t</g>\n",
       "</g>\n",
       "<g fill=\"none\" color=\"black\" stroke=\"currentColor\" stroke-width=\"1.00\" stroke-linecap=\"butt\" stroke-linejoin=\"miter\">\n",
       "\t<path stroke='black'  d='M53.9,168.1 L62.9,168.1 M750.1,168.1 L741.1,168.1  '/>\t<g transform=\"translate(45.6,172.6)\" stroke=\"none\" fill=\"black\" font-family=\"Arial\" font-size=\"12.00\"  text-anchor=\"end\">\n",
       "\t\t<text><tspan font-family=\"Arial\" > 2.2</tspan></text>\n",
       "\t</g>\n",
       "</g>\n",
       "<g fill=\"none\" color=\"black\" stroke=\"currentColor\" stroke-width=\"1.00\" stroke-linecap=\"butt\" stroke-linejoin=\"miter\">\n",
       "\t<path stroke='black'  d='M53.9,102.1 L62.9,102.1 M750.1,102.1 L741.1,102.1  '/>\t<g transform=\"translate(45.6,106.6)\" stroke=\"none\" fill=\"black\" font-family=\"Arial\" font-size=\"12.00\"  text-anchor=\"end\">\n",
       "\t\t<text><tspan font-family=\"Arial\" > 2.4</tspan></text>\n",
       "\t</g>\n",
       "</g>\n",
       "<g fill=\"none\" color=\"black\" stroke=\"currentColor\" stroke-width=\"1.00\" stroke-linecap=\"butt\" stroke-linejoin=\"miter\">\n",
       "\t<path stroke='black'  d='M53.9,36.1 L62.9,36.1 M750.1,36.1 L741.1,36.1  '/>\t<g transform=\"translate(45.6,40.6)\" stroke=\"none\" fill=\"black\" font-family=\"Arial\" font-size=\"12.00\"  text-anchor=\"end\">\n",
       "\t\t<text><tspan font-family=\"Arial\" > 2.6</tspan></text>\n",
       "\t</g>\n",
       "</g>\n",
       "<g fill=\"none\" color=\"black\" stroke=\"currentColor\" stroke-width=\"1.00\" stroke-linecap=\"butt\" stroke-linejoin=\"miter\">\n",
       "\t<path stroke='black'  d='M53.9,564.0 L53.9,555.0 M53.9,36.1 L53.9,45.1  '/>\t<g transform=\"translate(53.9,586.5)\" stroke=\"none\" fill=\"black\" font-family=\"Arial\" font-size=\"12.00\"  text-anchor=\"middle\">\n",
       "\t\t<text><tspan font-family=\"Arial\" > 0</tspan></text>\n",
       "\t</g>\n",
       "</g>\n",
       "<g fill=\"none\" color=\"black\" stroke=\"currentColor\" stroke-width=\"1.00\" stroke-linecap=\"butt\" stroke-linejoin=\"miter\">\n",
       "\t<path stroke='black'  d='M169.9,564.0 L169.9,555.0 M169.9,36.1 L169.9,45.1  '/>\t<g transform=\"translate(169.9,586.5)\" stroke=\"none\" fill=\"black\" font-family=\"Arial\" font-size=\"12.00\"  text-anchor=\"middle\">\n",
       "\t\t<text><tspan font-family=\"Arial\" > 0.2</tspan></text>\n",
       "\t</g>\n",
       "</g>\n",
       "<g fill=\"none\" color=\"black\" stroke=\"currentColor\" stroke-width=\"1.00\" stroke-linecap=\"butt\" stroke-linejoin=\"miter\">\n",
       "\t<path stroke='black'  d='M286.0,564.0 L286.0,555.0 M286.0,36.1 L286.0,45.1  '/>\t<g transform=\"translate(286.0,586.5)\" stroke=\"none\" fill=\"black\" font-family=\"Arial\" font-size=\"12.00\"  text-anchor=\"middle\">\n",
       "\t\t<text><tspan font-family=\"Arial\" > 0.4</tspan></text>\n",
       "\t</g>\n",
       "</g>\n",
       "<g fill=\"none\" color=\"black\" stroke=\"currentColor\" stroke-width=\"1.00\" stroke-linecap=\"butt\" stroke-linejoin=\"miter\">\n",
       "\t<path stroke='black'  d='M402.0,564.0 L402.0,555.0 M402.0,36.1 L402.0,45.1  '/>\t<g transform=\"translate(402.0,586.5)\" stroke=\"none\" fill=\"black\" font-family=\"Arial\" font-size=\"12.00\"  text-anchor=\"middle\">\n",
       "\t\t<text><tspan font-family=\"Arial\" > 0.6</tspan></text>\n",
       "\t</g>\n",
       "</g>\n",
       "<g fill=\"none\" color=\"black\" stroke=\"currentColor\" stroke-width=\"1.00\" stroke-linecap=\"butt\" stroke-linejoin=\"miter\">\n",
       "\t<path stroke='black'  d='M518.0,564.0 L518.0,555.0 M518.0,36.1 L518.0,45.1  '/>\t<g transform=\"translate(518.0,586.5)\" stroke=\"none\" fill=\"black\" font-family=\"Arial\" font-size=\"12.00\"  text-anchor=\"middle\">\n",
       "\t\t<text><tspan font-family=\"Arial\" > 0.8</tspan></text>\n",
       "\t</g>\n",
       "</g>\n",
       "<g fill=\"none\" color=\"black\" stroke=\"currentColor\" stroke-width=\"1.00\" stroke-linecap=\"butt\" stroke-linejoin=\"miter\">\n",
       "\t<path stroke='black'  d='M634.1,564.0 L634.1,555.0 M634.1,36.1 L634.1,45.1  '/>\t<g transform=\"translate(634.1,586.5)\" stroke=\"none\" fill=\"black\" font-family=\"Arial\" font-size=\"12.00\"  text-anchor=\"middle\">\n",
       "\t\t<text><tspan font-family=\"Arial\" > 1</tspan></text>\n",
       "\t</g>\n",
       "</g>\n",
       "<g fill=\"none\" color=\"black\" stroke=\"currentColor\" stroke-width=\"1.00\" stroke-linecap=\"butt\" stroke-linejoin=\"miter\">\n",
       "\t<path stroke='black'  d='M750.1,564.0 L750.1,555.0 M750.1,36.1 L750.1,45.1  '/>\t<g transform=\"translate(750.1,586.5)\" stroke=\"none\" fill=\"black\" font-family=\"Arial\" font-size=\"12.00\"  text-anchor=\"middle\">\n",
       "\t\t<text><tspan font-family=\"Arial\" > 1.2</tspan></text>\n",
       "\t</g>\n",
       "</g>\n",
       "<g fill=\"none\" color=\"black\" stroke=\"currentColor\" stroke-width=\"1.00\" stroke-linecap=\"butt\" stroke-linejoin=\"miter\">\n",
       "\t<path stroke='black'  d='M750.1,564.0 L741.1,564.0  '/>\t<g transform=\"translate(758.4,568.5)\" stroke=\"none\" fill=\"black\" font-family=\"Arial\" font-size=\"12.00\"  text-anchor=\"start\">\n",
       "\t\t<text><tspan font-family=\"Arial\" > </tspan></text>\n",
       "\t</g>\n",
       "</g>\n",
       "<g fill=\"none\" color=\"black\" stroke=\"currentColor\" stroke-width=\"1.00\" stroke-linecap=\"butt\" stroke-linejoin=\"miter\">\n",
       "\t<path stroke='black'  d='M750.1,498.0 L741.1,498.0  '/>\t<g transform=\"translate(758.4,502.5)\" stroke=\"none\" fill=\"black\" font-family=\"Arial\" font-size=\"12.00\"  text-anchor=\"start\">\n",
       "\t\t<text><tspan font-family=\"Arial\" > </tspan></text>\n",
       "\t</g>\n",
       "</g>\n",
       "<g fill=\"none\" color=\"black\" stroke=\"currentColor\" stroke-width=\"1.00\" stroke-linecap=\"butt\" stroke-linejoin=\"miter\">\n",
       "\t<path stroke='black'  d='M750.1,432.0 L741.1,432.0  '/>\t<g transform=\"translate(758.4,436.5)\" stroke=\"none\" fill=\"black\" font-family=\"Arial\" font-size=\"12.00\"  text-anchor=\"start\">\n",
       "\t\t<text><tspan font-family=\"Arial\" > </tspan></text>\n",
       "\t</g>\n",
       "</g>\n",
       "<g fill=\"none\" color=\"black\" stroke=\"currentColor\" stroke-width=\"1.00\" stroke-linecap=\"butt\" stroke-linejoin=\"miter\">\n",
       "\t<path stroke='black'  d='M750.1,366.0 L741.1,366.0  '/>\t<g transform=\"translate(758.4,370.5)\" stroke=\"none\" fill=\"black\" font-family=\"Arial\" font-size=\"12.00\"  text-anchor=\"start\">\n",
       "\t\t<text><tspan font-family=\"Arial\" > </tspan></text>\n",
       "\t</g>\n",
       "</g>\n",
       "<g fill=\"none\" color=\"black\" stroke=\"currentColor\" stroke-width=\"1.00\" stroke-linecap=\"butt\" stroke-linejoin=\"miter\">\n",
       "\t<path stroke='black'  d='M750.1,300.1 L741.1,300.1  '/>\t<g transform=\"translate(758.4,304.6)\" stroke=\"none\" fill=\"black\" font-family=\"Arial\" font-size=\"12.00\"  text-anchor=\"start\">\n",
       "\t\t<text><tspan font-family=\"Arial\" > </tspan></text>\n",
       "\t</g>\n",
       "</g>\n",
       "<g fill=\"none\" color=\"black\" stroke=\"currentColor\" stroke-width=\"1.00\" stroke-linecap=\"butt\" stroke-linejoin=\"miter\">\n",
       "\t<path stroke='black'  d='M750.1,234.1 L741.1,234.1  '/>\t<g transform=\"translate(758.4,238.6)\" stroke=\"none\" fill=\"black\" font-family=\"Arial\" font-size=\"12.00\"  text-anchor=\"start\">\n",
       "\t\t<text><tspan font-family=\"Arial\" > </tspan></text>\n",
       "\t</g>\n",
       "</g>\n",
       "<g fill=\"none\" color=\"black\" stroke=\"currentColor\" stroke-width=\"1.00\" stroke-linecap=\"butt\" stroke-linejoin=\"miter\">\n",
       "\t<path stroke='black'  d='M750.1,168.1 L741.1,168.1  '/>\t<g transform=\"translate(758.4,172.6)\" stroke=\"none\" fill=\"black\" font-family=\"Arial\" font-size=\"12.00\"  text-anchor=\"start\">\n",
       "\t\t<text><tspan font-family=\"Arial\" > </tspan></text>\n",
       "\t</g>\n",
       "</g>\n",
       "<g fill=\"none\" color=\"black\" stroke=\"currentColor\" stroke-width=\"1.00\" stroke-linecap=\"butt\" stroke-linejoin=\"miter\">\n",
       "\t<path stroke='black'  d='M750.1,102.1 L741.1,102.1  '/>\t<g transform=\"translate(758.4,106.6)\" stroke=\"none\" fill=\"black\" font-family=\"Arial\" font-size=\"12.00\"  text-anchor=\"start\">\n",
       "\t\t<text><tspan font-family=\"Arial\" > </tspan></text>\n",
       "\t</g>\n",
       "</g>\n",
       "<g fill=\"none\" color=\"black\" stroke=\"currentColor\" stroke-width=\"1.00\" stroke-linecap=\"butt\" stroke-linejoin=\"miter\">\n",
       "\t<path stroke='black'  d='M750.1,36.1 L741.1,36.1  '/>\t<g transform=\"translate(758.4,40.6)\" stroke=\"none\" fill=\"black\" font-family=\"Arial\" font-size=\"12.00\"  text-anchor=\"start\">\n",
       "\t\t<text><tspan font-family=\"Arial\" > </tspan></text>\n",
       "\t</g>\n",
       "</g>\n",
       "<g fill=\"none\" color=\"black\" stroke=\"currentColor\" stroke-width=\"1.00\" stroke-linecap=\"butt\" stroke-linejoin=\"miter\">\n",
       "\t<path stroke='black'  d='M53.9,36.1 L53.9,45.1  '/>\t<g transform=\"translate(53.9,22.6)\" stroke=\"none\" fill=\"black\" font-family=\"Arial\" font-size=\"12.00\"  text-anchor=\"middle\">\n",
       "\t\t<text><tspan font-family=\"Arial\" > </tspan></text>\n",
       "\t</g>\n",
       "</g>\n",
       "<g fill=\"none\" color=\"black\" stroke=\"currentColor\" stroke-width=\"1.00\" stroke-linecap=\"butt\" stroke-linejoin=\"miter\">\n",
       "\t<path stroke='black'  d='M169.9,36.1 L169.9,45.1  '/>\t<g transform=\"translate(169.9,22.6)\" stroke=\"none\" fill=\"black\" font-family=\"Arial\" font-size=\"12.00\"  text-anchor=\"middle\">\n",
       "\t\t<text><tspan font-family=\"Arial\" > </tspan></text>\n",
       "\t</g>\n",
       "</g>\n",
       "<g fill=\"none\" color=\"black\" stroke=\"currentColor\" stroke-width=\"1.00\" stroke-linecap=\"butt\" stroke-linejoin=\"miter\">\n",
       "\t<path stroke='black'  d='M286.0,36.1 L286.0,45.1  '/>\t<g transform=\"translate(286.0,22.6)\" stroke=\"none\" fill=\"black\" font-family=\"Arial\" font-size=\"12.00\"  text-anchor=\"middle\">\n",
       "\t\t<text><tspan font-family=\"Arial\" > </tspan></text>\n",
       "\t</g>\n",
       "</g>\n",
       "<g fill=\"none\" color=\"black\" stroke=\"currentColor\" stroke-width=\"1.00\" stroke-linecap=\"butt\" stroke-linejoin=\"miter\">\n",
       "\t<path stroke='black'  d='M402.0,36.1 L402.0,45.1  '/>\t<g transform=\"translate(402.0,22.6)\" stroke=\"none\" fill=\"black\" font-family=\"Arial\" font-size=\"12.00\"  text-anchor=\"middle\">\n",
       "\t\t<text><tspan font-family=\"Arial\" > </tspan></text>\n",
       "\t</g>\n",
       "</g>\n",
       "<g fill=\"none\" color=\"black\" stroke=\"currentColor\" stroke-width=\"1.00\" stroke-linecap=\"butt\" stroke-linejoin=\"miter\">\n",
       "\t<path stroke='black'  d='M518.0,36.1 L518.0,45.1  '/>\t<g transform=\"translate(518.0,22.6)\" stroke=\"none\" fill=\"black\" font-family=\"Arial\" font-size=\"12.00\"  text-anchor=\"middle\">\n",
       "\t\t<text><tspan font-family=\"Arial\" > </tspan></text>\n",
       "\t</g>\n",
       "</g>\n",
       "<g fill=\"none\" color=\"black\" stroke=\"currentColor\" stroke-width=\"1.00\" stroke-linecap=\"butt\" stroke-linejoin=\"miter\">\n",
       "\t<path stroke='black'  d='M634.1,36.1 L634.1,45.1  '/>\t<g transform=\"translate(634.1,22.6)\" stroke=\"none\" fill=\"black\" font-family=\"Arial\" font-size=\"12.00\"  text-anchor=\"middle\">\n",
       "\t\t<text><tspan font-family=\"Arial\" > </tspan></text>\n",
       "\t</g>\n",
       "</g>\n",
       "<g fill=\"none\" color=\"black\" stroke=\"currentColor\" stroke-width=\"1.00\" stroke-linecap=\"butt\" stroke-linejoin=\"miter\">\n",
       "\t<path stroke='black'  d='M750.1,36.1 L750.1,45.1  '/>\t<g transform=\"translate(750.1,22.6)\" stroke=\"none\" fill=\"black\" font-family=\"Arial\" font-size=\"12.00\"  text-anchor=\"middle\">\n",
       "\t\t<text><tspan font-family=\"Arial\" > </tspan></text>\n",
       "\t</g>\n",
       "</g>\n",
       "<g fill=\"none\" color=\"black\" stroke=\"currentColor\" stroke-width=\"1.00\" stroke-linecap=\"butt\" stroke-linejoin=\"miter\">\n",
       "</g>\n",
       "<g fill=\"none\" color=\"black\" stroke=\"currentColor\" stroke-width=\"1.00\" stroke-linecap=\"butt\" stroke-linejoin=\"miter\">\n",
       "\t<path stroke='black'  d='M53.9,36.1 L53.9,564.0 L750.1,564.0 L750.1,36.1 L53.9,36.1 Z  '/></g>\n",
       "<g fill=\"none\" color=\"black\" stroke=\"currentColor\" stroke-width=\"1.00\" stroke-linecap=\"butt\" stroke-linejoin=\"miter\">\n",
       "</g>\n",
       "\t<g id=\"gnuplot_plot_1\" ><title>OscillatingDroplet3D</title>\n",
       "<g fill=\"none\" color=\"#FFFFFF\" stroke=\"black\" stroke-width=\"2.00\" stroke-linecap=\"butt\" stroke-linejoin=\"miter\">\n",
       "</g>\n",
       "<g fill=\"none\" color=\"black\" stroke=\"currentColor\" stroke-width=\"2.00\" stroke-linecap=\"butt\" stroke-linejoin=\"miter\">\n",
       "\t<g transform=\"translate(519.8,63.1)\" stroke=\"none\" fill=\"black\" font-family=\"Arial\" font-size=\"16.00\"  text-anchor=\"start\">\n",
       "\t\t<text><tspan font-family=\"Arial\" >OscillatingDroplet3D</tspan></text>\n",
       "\t</g>\n",
       "</g>\n",
       "<g fill=\"none\" color=\"black\" stroke=\"currentColor\" stroke-width=\"2.00\" stroke-linecap=\"butt\" stroke-linejoin=\"miter\">\n",
       "\t<path stroke='rgb(  0,   0, 255)'  d='M455.3,57.1 L508.7,57.1 M53.9,306.6 L53.9,305.9 L56.8,284.4 L59.7,268.4 L62.6,259.1 L65.5,249.7\n",
       "\t\tL68.4,235.2 L71.3,222.2 L74.2,208.0 L77.1,194.0 L80.0,179.3 L82.9,168.1 L85.8,158.7 L88.7,143.7\n",
       "\t\tL91.6,135.9 L94.5,129.6 L97.4,123.7 L100.3,116.7 L103.2,112.1 L106.1,107.3 L109.0,103.2 L111.9,100.1\n",
       "\t\tL114.8,96.3 L117.7,93.6 L120.6,82.5 L123.5,83.2 L126.4,84.4 L129.3,84.8 L132.2,83.6 L135.1,81.0\n",
       "\t\tL138.0,78.7 L140.9,77.3 L143.8,76.6 L146.7,76.8 L149.6,77.6 L152.5,78.6 L155.4,79.6 L158.3,80.4\n",
       "\t\tL161.2,81.1 L164.1,81.8 L167.0,82.7 L169.9,83.8 L172.8,85.1 L175.7,86.5 L178.6,85.8 L181.5,86.3\n",
       "\t\tL184.4,88.5 L187.3,92.2 L190.2,95.4 L193.1,98.6 L196.0,101.7 L198.9,104.5 L201.8,107.2 L204.7,109.8\n",
       "\t\tL207.6,112.5 L210.5,116.1 L213.4,119.2 L216.3,122.7 L219.2,126.3 L222.1,129.8 L225.0,133.3 L228.0,136.8\n",
       "\t\tL230.9,140.6 L233.8,145.2 L236.7,148.8 L239.6,152.3 L242.5,155.7 L245.4,159.0 L248.3,162.3 L251.2,167.8\n",
       "\t\tL254.1,171.3 L257.0,173.9 L259.9,178.2 L262.8,180.8 L265.7,183.8 L268.6,188.2 L271.5,191.0 L274.4,194.2\n",
       "\t\tL277.3,197.6 L280.2,201.0 L283.1,205.3 L286.0,209.1 L288.9,212.7 L291.8,215.8 L294.7,219.0 L297.6,222.3\n",
       "\t\tL300.5,225.6 L303.4,228.6 L306.3,231.4 L309.2,234.0 L312.1,236.5 L315.0,239.2 L317.9,242.8 L320.8,246.4\n",
       "\t\tL323.7,249.9 L326.6,252.9 L329.5,255.5 L332.4,257.8 L335.3,260.1 L338.2,262.3 L341.1,264.5 L344.0,266.7\n",
       "\t\tL346.9,268.9 L349.8,271.2 L352.7,274.6 L355.6,276.8 L358.5,278.3 L361.4,280.1 L364.3,282.0 L367.2,286.2\n",
       "\t\tL370.1,288.5 L373.0,290.6 L375.9,292.5 L378.8,294.3 L381.7,296.1 L384.6,297.8 L387.5,299.5 L390.4,301.3\n",
       "\t\tL393.3,303.0 L396.2,304.4 L399.1,306.3 L402.0,308.2 L404.9,309.9 L407.8,311.5 L410.7,313.0 L413.6,314.0\n",
       "\t\tL416.5,316.1 L419.4,318.5 L422.3,320.3 L425.2,322.5 L428.1,324.9 L431.0,326.9 L433.9,328.6 L436.8,329.8\n",
       "\t\tL439.7,331.3 L442.6,333.0 L445.5,334.6 L448.4,336.2 L451.3,337.8 L454.2,339.3 L457.1,340.9 L460.0,342.9\n",
       "\t\tL462.9,344.6 L465.8,346.3 L468.7,348.0 L471.6,349.4 L474.5,351.0 L477.4,352.6 L480.3,354.4 L483.2,356.2\n",
       "\t\tL486.1,360.1 L489.0,362.4 L491.9,364.3 L494.8,366.2 L497.7,368.1 L500.6,369.9 L503.5,371.3 L506.4,373.2\n",
       "\t\tL509.3,374.7 L512.2,376.4 L515.1,378.4 L518.0,380.3 L520.9,382.0 L523.8,383.9 L526.7,386.2 L529.6,387.7\n",
       "\t\tL532.5,390.6 L535.4,393.3 L538.3,395.7 L541.2,398.1 L544.1,400.3 L547.0,402.6 L549.9,404.9 L552.8,407.2\n",
       "\t\tL555.7,409.5 L558.6,411.9 L561.5,413.5 L564.4,415.9 L567.3,418.8 L570.2,421.5 L573.1,424.3 L576.1,427.0\n",
       "\t\tL579.0,429.7 L581.9,432.4 L584.8,435.1 L587.7,437.3 L590.6,440.1 L593.5,443.0 L596.4,445.9 L599.3,448.7\n",
       "\t\tL602.2,451.5 L605.1,454.2 L608.0,457.2 L610.9,460.3 L613.8,463.5 L616.7,466.7 L619.6,469.6 L622.5,473.1\n",
       "\t\tL625.4,476.2 L605.1,454.3 L608.0,454.2 L610.9,457.3 L613.8,460.3 L616.7,463.3 L619.6,466.3 L622.5,469.3\n",
       "\t\tL625.4,472.2 L628.3,475.1 L631.2,475.2 L634.1,478.0 L637.0,478.1 L639.9,480.8 L642.8,483.5 L645.7,486.2\n",
       "\t\tL648.6,488.8 L651.5,491.4 L654.4,494.1 L657.3,496.7 L660.2,499.3 L663.1,501.9 L666.0,504.4 L668.9,506.9\n",
       "\t\tL671.8,506.9 L674.7,509.4 L677.6,509.4 L680.5,511.8 L683.4,514.2 L686.3,516.6 L689.2,519.0 L692.1,521.3\n",
       "\t\tL695.0,523.5 L697.9,525.7 L700.8,527.9 L703.7,530.1  '/></g>\n",
       "\t</g>\n",
       "<g fill=\"none\" color=\"black\" stroke=\"currentColor\" stroke-width=\"2.00\" stroke-linecap=\"butt\" stroke-linejoin=\"miter\">\n",
       "</g>\n",
       "<g fill=\"none\" color=\"black\" stroke=\"black\" stroke-width=\"1.00\" stroke-linecap=\"butt\" stroke-linejoin=\"miter\">\n",
       "</g>\n",
       "<g fill=\"none\" color=\"black\" stroke=\"currentColor\" stroke-width=\"1.00\" stroke-linecap=\"butt\" stroke-linejoin=\"miter\">\n",
       "\t<path stroke='black'  d='M53.9,36.1 L53.9,564.0 L750.1,564.0 L750.1,36.1 L53.9,36.1 Z  '/></g>\n",
       "<g fill=\"none\" color=\"black\" stroke=\"currentColor\" stroke-width=\"1.00\" stroke-linecap=\"butt\" stroke-linejoin=\"miter\">\n",
       "</g>\n",
       "</g>\n",
       "</svg>\n",
       "\n"
      ]
     },
     "metadata": {},
     "output_type": "display_data"
    }
   ],
   "source": [
    "Plot2Ddata pltDat = new Plot2Ddata();\n",
    "var fmt = new PlotFormat();\n",
    "fmt.Style = Styles.Lines; \n",
    "fmt.LineWidth = 2;\n",
    "fmt.LineColor = LineColors.Blue;\n",
    "fmt.DashType = DashTypes.Solid;\n",
    "pltDat.AddDataGroup(SI.ProjectName, time, aspectRatio, fmt);\n",
    "var gp = pltDat.ToGnuplot();\n",
    "gp.PlotSVG()"
   ]
  },
  {
   "cell_type": "code",
   "execution_count": null,
   "metadata": {
    "dotnet_interactive": {
     "language": "csharp"
    }
   },
   "outputs": [
    {
     "name": "stdout",
     "output_type": "stream",
     "text": [
      "Warning: Handling of logarithms still unclear in 'SaveToTextFile', Raw Data Written\r\n"
     ]
    }
   ],
   "source": [
    "// string name = \"plotData/AspectRatioOverTime/m2/m2_Oh01_eta04_BoSSS-J686.txt\";\n",
    "// pltDat.SaveToTextFile(name);"
   ]
  }
 ],
 "metadata": {
  "kernelspec": {
   "display_name": ".NET (C#)",
   "language": "C#",
   "name": ".net-csharp"
  },
  "language_info": {
   "file_extension": ".cs",
   "mimetype": "text/x-csharp",
   "name": "C#",
   "pygments_lexer": "csharp",
   "version": "9.0"
  },
  "orig_nbformat": 4
 },
 "nbformat": 4,
 "nbformat_minor": 2
}
