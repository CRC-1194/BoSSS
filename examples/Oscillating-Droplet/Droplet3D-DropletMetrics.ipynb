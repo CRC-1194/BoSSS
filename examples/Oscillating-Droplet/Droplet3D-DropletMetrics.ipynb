{
 "cells": [
  {
   "cell_type": "code",
   "execution_count": null,
   "metadata": {
    "dotnet_interactive": {
     "language": "csharp"
    }
   },
   "outputs": [],
   "source": [
    "//#r \"../../src/L4-application/BoSSSpad/bin/Release/net5.0/BoSSSpad.dll\"\n",
    "//#r \"../../src/L4-application/BoSSSpad/bin/Debug/net5.0/BoSSSpad.dll\"\n",
    "#r \"BoSSSpad.dll\"\n",
    "using System;\n",
    "using System.Collections.Generic;\n",
    "using System.Linq;\n",
    "using ilPSP;\n",
    "using ilPSP.Utils;\n",
    "using BoSSS.Platform;\n",
    "using BoSSS.Foundation;\n",
    "using BoSSS.Foundation.XDG;\n",
    "using BoSSS.Foundation.Grid;\n",
    "using BoSSS.Foundation.Grid.Classic;\n",
    "using BoSSS.Foundation.IO;\n",
    "using BoSSS.Solution;\n",
    "using BoSSS.Solution.Control;\n",
    "using BoSSS.Solution.GridImport;\n",
    "using BoSSS.Solution.Statistic;\n",
    "using BoSSS.Solution.Utils;\n",
    "using BoSSS.Solution.AdvancedSolvers;\n",
    "using BoSSS.Solution.Gnuplot;\n",
    "using BoSSS.Application.BoSSSpad;\n",
    "using BoSSS.Application.XNSE_Solver;\n",
    "using static BoSSS.Application.BoSSSpad.BoSSSshell;\n",
    "Init();"
   ]
  },
  {
   "cell_type": "code",
   "execution_count": null,
   "metadata": {
    "dotnet_interactive": {
     "language": "csharp"
    }
   },
   "outputs": [],
   "source": [
    "using BoSSS.Application.XNSE_Solver;\n",
    "using BoSSS.Application.XNSE_Solver.PhysicalBasedTestcases;\n",
    "using BoSSS.Solution.NSECommon;\n",
    "using BoSSS.Solution.LevelSetTools.SolverWithLevelSetUpdater;\n",
    "using NUnit.Framework;\n",
    "using BoSSS.Application.XNSE_Solver.Logging;"
   ]
  },
  {
   "cell_type": "code",
   "execution_count": null,
   "metadata": {
    "dotnet_interactive": {
     "language": "csharp"
    }
   },
   "outputs": [],
   "source": [
    "using System.IO;"
   ]
  },
  {
   "cell_type": "code",
   "execution_count": null,
   "metadata": {
    "dotnet_interactive": {
     "language": "csharp"
    }
   },
   "outputs": [
    {
     "name": "stdout",
     "output_type": "stream",
     "text": [
      "Project name is set to 'OscillatingDroplet3D'.\r\n",
      "Opening existing database 'D:\\local\\OscillatingDroplet3D'.\r\n"
     ]
    }
   ],
   "source": [
    "BoSSSshell.WorkflowMgm.Init(\"OscillatingDroplet3D\");"
   ]
  },
  {
   "cell_type": "code",
   "execution_count": null,
   "metadata": {
    "dotnet_interactive": {
     "language": "csharp"
    }
   },
   "outputs": [],
   "source": [
    "//wmg.Sessions"
   ]
  },
  {
   "cell_type": "code",
   "execution_count": null,
   "metadata": {
    "dotnet_interactive": {
     "language": "csharp"
    }
   },
   "outputs": [
    {
     "data": {
      "text/html": [
       "<div class=\"dni-plaintext\">86</div>"
      ]
     },
     "metadata": {},
     "output_type": "display_data"
    }
   ],
   "source": [
    "int numSess = wmg.Sessions.Count();\n",
    "numSess"
   ]
  },
  {
   "cell_type": "code",
   "execution_count": null,
   "metadata": {
    "dotnet_interactive": {
     "language": "csharp"
    }
   },
   "outputs": [
    {
     "name": "stdout",
     "output_type": "stream",
     "text": [
      "Opening existing database '\\\\dc1\\userspace\\smuda\\Databases\\OscillatingDroplet3D'.\r\n"
     ]
    }
   ],
   "source": [
    "//add database manually:\n",
    "OpenOrCreateDatabase(@\"\\\\dc1\\userspace\\smuda\\Databases\\OscillatingDroplet3D\");\n",
    "//OpenOrCreateDatabase(@\"\\\\130.83.248.207\\ValidationTests\\OscillatingDroplet3D\");"
   ]
  },
  {
   "cell_type": "code",
   "execution_count": null,
   "metadata": {
    "dotnet_interactive": {
     "language": "csharp"
    }
   },
   "outputs": [
    {
     "data": {
      "text/plain": [
       "#0: OscillatingDroplet3D\tOD3D_J686k3_wallBC_amr1_m4_Oh056_eta005*\t04/08/2022 11:37:03\t92930af7...\r\n",
       "#1: OscillatingDroplet3D\tOD3D_J686k3_wallBC_amr1_m4_Oh01_eta01*\t04/08/2022 11:36:37\t15341e01...\r\n",
       "#2: OscillatingDroplet3D\tOD3D_J686k3_wallBC_amr1_m4_Oh01_eta04*\t04/08/2022 11:34:56\t8486c026...\r\n",
       "#3: OscillatingDroplet3D\tOD3D_J686k3_wallBC_amr1_m3_Oh01_eta04*\t04/08/2022 11:34:00\te3a04ed7...\r\n",
       "#4: OscillatingDroplet3D\tOD3D_J686k3_wallBC_amr1_m2_Oh01_eta01*\t04/08/2022 11:33:27\t59bb73dc...\r\n",
       "#5: OscillatingDroplet3D\tOD3D_J686k3_wallBC_amr1_m2_Oh01_eta02*\t04/08/2022 11:33:07\t2e275baf...\r\n",
       "#6: OscillatingDroplet3D\tOD3D_J686k3_wallBC_amr1_m2_Oh01_eta04*\t04/08/2022 11:32:42\t8ef825a4...\r\n",
       "#7: OscillatingDroplet3D\tOD3D_J686k3_wallBC_amr1_m4_Oh056_eta005_thirdOrderInit*\t04/08/2022 11:32:17\tadf2022d...\r\n",
       "#8: OscillatingDroplet3D\tOD3D_J686k3_wallBC_amr1_m4_Oh01_eta01_thirdOrderInit*\t04/08/2022 11:31:55\t106a329f...\r\n",
       "#9: OscillatingDroplet3D\tOD3D_J686k3_wallBC_amr1_m4_Oh01_eta04_thirdOrderInit*\t04/08/2022 11:31:22\t5f822233...\r\n",
       "#10: OscillatingDroplet3D\tOD3D_J686k3_wallBC_amr1_m3_Oh01_eta04_thirdOrderInit*\t04/08/2022 11:31:07\t22cade02...\r\n",
       "#11: OscillatingDroplet3D\tOD3D_J686k3_wallBC_amr1_m2_Oh01_eta01_thirdOrderInit*\t04/08/2022 11:30:49\t51afe8ea...\r\n",
       "#12: OscillatingDroplet3D\tOD3D_J686k3_wallBC_amr1_m2_Oh01_eta02_thirdOrderInit*\t04/08/2022 11:30:31\ta1dc7b7c...\r\n",
       "#13: OscillatingDroplet3D\tOD3D_J686k3_wallBC_amr1_m2_Oh01_eta04_thirdOrderInit*\t04/08/2022 11:30:16\ta4b7b06d...\r\n",
       "#14: OscillatingDroplet3D\tOD3D_J432k3_wallBC_amr1_m4_Oh056_eta005*\t04/01/2022 18:34:01\ta1bc7755...\r\n",
       "#15: OscillatingDroplet3D\tOD3D_J432k3_wallBC_amr1_m4_Oh056_eta005_thirdOrderInit*\t04/01/2022 18:28:09\t918d934e...\r\n"
      ]
     },
     "metadata": {},
     "output_type": "display_data"
    }
   ],
   "source": [
    "var studySess = wmg.Sessions.Skip(numSess).Take(16);\n",
    "studySess"
   ]
  },
  {
   "cell_type": "code",
   "execution_count": null,
   "metadata": {
    "dotnet_interactive": {
     "language": "csharp"
    }
   },
   "outputs": [
    {
     "data": {
      "text/plain": [
       "{ Session Count = 38; Grid Count = 183; Path = \\\\dc1\\userspace\\smuda\\Databases\\OscillatingDroplet3D }"
      ]
     },
     "metadata": {},
     "output_type": "display_data"
    }
   ],
   "source": [
    "// var origin = databases.Pick(5);\n",
    "// origin"
   ]
  },
  {
   "cell_type": "code",
   "execution_count": null,
   "metadata": {
    "dotnet_interactive": {
     "language": "csharp"
    }
   },
   "outputs": [
    {
     "data": {
      "text/plain": [
       "{ Session Count = 43; Grid Count = 80; Path = D:\\local\\OscillatingDroplet3D }"
      ]
     },
     "metadata": {},
     "output_type": "display_data"
    }
   ],
   "source": [
    "var target = databases.Pick(5);\n",
    "target"
   ]
  },
  {
   "cell_type": "code",
   "execution_count": null,
   "metadata": {
    "dotnet_interactive": {
     "language": "csharp"
    }
   },
   "outputs": [],
   "source": [
    "//origin.Sessions.Pick(8).Copy(target);"
   ]
  },
  {
   "cell_type": "code",
   "execution_count": null,
   "metadata": {
    "dotnet_interactive": {
     "language": "csharp"
    }
   },
   "outputs": [],
   "source": [
    "string[] caseS = new string[] { \"m2_Oh01_eta04\", \"m2_Oh01_eta02\", \"m2_Oh01_eta01\", \"m3_Oh01_eta04\", \"m4_Oh01_eta04\", \"m4_Oh01_eta01\", \"m4_Oh056_eta005\"};\n",
    "string[] gridS = new string[] { \"J686\", \"J432\" };\n",
    "bool[] ShouldAnaInit = new bool[] { true, false };\n",
    "bool[] useNewton = new bool[] { false };"
   ]
  },
  {
   "cell_type": "code",
   "execution_count": null,
   "metadata": {
    "dotnet_interactive": {
     "language": "csharp"
    }
   },
   "outputs": [],
   "source": [
    "Plot2Ddata[,] PlotTableDM = new Plot2Ddata[caseS.Length,1];\n",
    "for(int iCol = 0; iCol < 1; iCol++) {\n",
    "for(int iRow = 0; iRow < caseS.Length; iRow++) { // loop over cases\n",
    "for(int iGrd = 0; iGrd < gridS.Length; iGrd++) {   \n",
    "for(int iAna = 0; iAna < ShouldAnaInit.Length; iAna++) {\n",
    "for(int iNew = 0; iNew < useNewton.Length; iNew++) {\n",
    "\n",
    "    string _case = caseS[iRow];\n",
    "    string _grd = gridS[iGrd];\n",
    "\n",
    "    // if(_case == \"case2\" || _case == \"case3\")\n",
    "    //     continue; \n",
    "\n",
    "    //ISessionInfo SI = null;\n",
    "    var SIs = studySess.Where(sess => sess.Name.Contains(_case) \n",
    "                                      && sess.Name.Contains(_grd)\n",
    "                                      && (sess.Name.Contains(\"_thirdOrderInit\") == ShouldAnaInit[iAna])\n",
    "                                      && (sess.Name.Contains(\"_Newton\") == useNewton[iNew]));\n",
    "\n",
    "\n",
    "    if(SIs.Count() > 1) {\n",
    "        foreach(var s in SIs)\n",
    "            Console.WriteLine(s);\n",
    "    }\n",
    "    \n",
    "    if(SIs.IsNullOrEmpty()) \n",
    "        continue;\n",
    "\n",
    "    ISessionInfo SI = SIs.Single();\n",
    "    if(SI == null)\n",
    "        continue;\n",
    "    Console.WriteLine(SI.Name);\n",
    "\n",
    "    IDictionary<string, IList<double>> tab = null;\n",
    "    try {\n",
    "        tab = SI.ReadTabulatedTextFileAsDoubles(\"DropletMetrics.txt\", '\\t');\n",
    "    } catch (Exception e) {\n",
    "        Console.Error.WriteLine(e.Message);\n",
    "        Console.WriteLine(\"Skipping \" + SI);\n",
    "        \n",
    "        // var dummyPlot = new Plot2Ddata();\n",
    "        // dummyPlot.AddDataGroup(\"empty\", new double[]{ 0, 1 }, new double[] { 0, 1 });\n",
    "        // PlotTableDM[iRow,iCol] = dummyPlot;\n",
    "        continue;\n",
    "    }\n",
    "    \n",
    "    var plot = new Plot2Ddata();\n",
    "    var time = tab[\"time\"];\n",
    "\n",
    "    var fmt = new PlotFormat();\n",
    "    fmt.Style = Styles.Lines; \n",
    "    fmt.LineWidth = 3;\n",
    "    if (useNewton[iNew]) {\n",
    "        fmt.LineColor = LineColors.Red;\n",
    "        //fmt.DashType = DashTypes.Dashed;\n",
    "    } else {  \n",
    "        fmt.LineColor = LineColors.Blue;\n",
    "        //fmt.DashType = DashTypes.Solid;\n",
    "    }\n",
    "    if (!ShouldAnaInit[iAna]) {\n",
    "        fmt.DashType = DashTypes.Solid;\n",
    "    } else {\n",
    "        fmt.DashType = DashTypes.Dashed;\n",
    "    }\n",
    "    \n",
    "    // if (_init == \"_initCase0\")\n",
    "    //     fmt.LineColor = LineColors.Green;\n",
    "    // if (_init == \"_initCase1\")\n",
    "    //     fmt.LineColor = LineColors.Magenta;\n",
    "    // if (_init == \"_initCase2\")\n",
    "    //     fmt.LineColor = LineColors.Orange;\n",
    " \n",
    "    string name = \"BoSSS-\"+_grd;\n",
    "    // if(iAMR > 0)\n",
    "    //     name = name + \"-amr\";\n",
    "    if(ShouldAnaInit[iAna])\n",
    "        name = name + \"-3OrdInit\"; \n",
    "    if(useNewton[iNew])\n",
    "        name = name + \"-Newton\";\n",
    "\n",
    "    double[] L = tab[\"L\"].ToArray(); \n",
    "    double[] Wx = tab[\"Wx\"].ToArray(); \n",
    "    double[] Wy = tab[\"Wy\"].ToArray();\n",
    "    double[] arLW = new double[L.Length];\n",
    "    for (int i = 0; i < L.Length; i++) {\n",
    "        arLW[i] = 0.5 * ((L[i] / (2.0*Wx[i])) + (L[i] / (2.0*Wy[i])));\n",
    "    }\n",
    "    \n",
    "    // List<double> arLW_lst = new List<double>();\n",
    "    // List<double> time_lst = new List<double>();\n",
    "    // double dataThreshold = 0.01;\n",
    "    // for(int i = 0; i < L.Length; i++) {\n",
    "    //     if(arLW[i] > dataThreshold) {\n",
    "    //         arLW_lst.Add(arLW[i]);\n",
    "    //         time_lst.Add(time[i]);\n",
    "    //     }\n",
    "    // }\n",
    "    // arLW = arLW_lst.ToArray();\n",
    "    // time = time_lst.ToArray();\n",
    "\n",
    "    plot.AddDataGroup(name, time, arLW, fmt);\n",
    "   \n",
    "    plot.ShowLegend = true;  \n",
    "\n",
    "    if(PlotTableDM[iRow,iCol]==null) {\n",
    "        PlotTableDM[iRow,iCol] = plot;\n",
    "    } else {\n",
    "        PlotTableDM[iRow,iCol] = PlotTableDM[iRow,iCol].Merge(plot);\n",
    "    }\n",
    "        \n",
    "    // if(iAMR == 0) {\n",
    "    //     PlotTableDM[iRow,iCol] = plot;\n",
    "    // } else {\n",
    "    //     PlotTableDM[iRow,iCol] = PlotTableDM[iRow,iCol].Merge(plot);\n",
    "    // }\n",
    "    \n",
    "}\n",
    "\n",
    "if(PlotTableDM[iRow,iCol] != null) {\n",
    "    PlotTableDM[iRow,iCol].ShowLegend = true; \n",
    "    //PlotTableDM[iRow,iCol].LegendFont = 10;\n",
    "    if(iCol == 0) {\n",
    "       PlotTableDM[iRow,iCol].Title = caseS[iRow];\n",
    "       PlotTableDM[iRow,iCol].Xlabel = \"time t\";\n",
    "       PlotTableDM[iRow,iCol].Ylabel = \"aspect ratio L/W\";\n",
    "    }\n",
    "}\n",
    "}\n",
    "}\n",
    "}\n",
    "}"
   ]
  },
  {
   "cell_type": "code",
   "execution_count": null,
   "metadata": {
    "dotnet_interactive": {
     "language": "csharp"
    }
   },
   "outputs": [
    {
     "data": {
      "text/plain": [
       "m3_Oh01_eta04"
      ]
     },
     "metadata": {},
     "output_type": "display_data"
    }
   ],
   "source": [
    "var pltTab = PlotTableDM[3,0];\n",
    "pltTab.Title"
   ]
  },
  {
   "cell_type": "code",
   "execution_count": null,
   "metadata": {
    "dotnet_interactive": {
     "language": "csharp"
    }
   },
   "outputs": [
    {
     "data": {
      "text/html": [
       "<?xml version=\"1.0\" encoding=\"utf-8\"  standalone=\"no\"?>\n",
       "<!DOCTYPE svg PUBLIC \"-//W3C//DTD SVG 1.1//EN\"\n",
       " \"http://www.w3.org/Graphics/SVG/1.1/DTD/svg11.dtd\">\n",
       "<svg \n",
       " width=\"800\" height=\"600\"\n",
       " viewBox=\"0 0 800 600\"\n",
       " xmlns=\"http://www.w3.org/2000/svg\"\n",
       " xmlns:xlink=\"http://www.w3.org/1999/xlink\"\n",
       ">\n",
       "\n",
       "<title>Gnuplot</title>\n",
       "<desc>Produced by GNUPLOT 5.1 patchlevel 0 </desc>\n",
       "\n",
       "<g id=\"gnuplot_canvas\">\n",
       "\n",
       "<rect x=\"0\" y=\"0\" width=\"800\" height=\"600\" fill=\"#ffffff\"/>\n",
       "<defs>\n",
       "\n",
       "\t<circle id='gpDot' r='0.5' stroke-width='0.5'/>\n",
       "\t<path id='gpPt0' stroke-width='0.222' stroke='currentColor' d='M-1,0 h2 M0,-1 v2'/>\n",
       "\t<path id='gpPt1' stroke-width='0.222' stroke='currentColor' d='M-1,-1 L1,1 M1,-1 L-1,1'/>\n",
       "\t<path id='gpPt2' stroke-width='0.222' stroke='currentColor' d='M-1,0 L1,0 M0,-1 L0,1 M-1,-1 L1,1 M-1,1 L1,-1'/>\n",
       "\t<rect id='gpPt3' stroke-width='0.222' stroke='currentColor' x='-1' y='-1' width='2' height='2'/>\n",
       "\t<rect id='gpPt4' stroke-width='0.222' stroke='currentColor' fill='currentColor' x='-1' y='-1' width='2' height='2'/>\n",
       "\t<circle id='gpPt5' stroke-width='0.222' stroke='currentColor' cx='0' cy='0' r='1'/>\n",
       "\t<use xlink:href='#gpPt5' id='gpPt6' fill='currentColor' stroke='none'/>\n",
       "\t<path id='gpPt7' stroke-width='0.222' stroke='currentColor' d='M0,-1.33 L-1.33,0.67 L1.33,0.67 z'/>\n",
       "\t<use xlink:href='#gpPt7' id='gpPt8' fill='currentColor' stroke='none'/>\n",
       "\t<use xlink:href='#gpPt7' id='gpPt9' stroke='currentColor' transform='rotate(180)'/>\n",
       "\t<use xlink:href='#gpPt9' id='gpPt10' fill='currentColor' stroke='none'/>\n",
       "\t<use xlink:href='#gpPt3' id='gpPt11' stroke='currentColor' transform='rotate(45)'/>\n",
       "\t<use xlink:href='#gpPt11' id='gpPt12' fill='currentColor' stroke='none'/>\n",
       "\t<path id='gpPt13' stroke-width='0.222' stroke='currentColor' d='M0,1.330 L1.265,0.411 L0.782,-1.067 L-0.782,-1.076 L-1.265,0.411 z'/>\n",
       "\t<use xlink:href='#gpPt13' id='gpPt14' fill='currentColor' stroke='none'/>\n",
       "\t<filter id='textbox' filterUnits='objectBoundingBox' x='0' y='0' height='1' width='1'>\n",
       "\t  <feFlood flood-color='#FFFFFF' flood-opacity='1' result='bgnd'/>\n",
       "\t  <feComposite in='SourceGraphic' in2='bgnd' operator='atop'/>\n",
       "\t</filter>\n",
       "\t<filter id='greybox' filterUnits='objectBoundingBox' x='0' y='0' height='1' width='1'>\n",
       "\t  <feFlood flood-color='lightgrey' flood-opacity='1' result='grey'/>\n",
       "\t  <feComposite in='SourceGraphic' in2='grey' operator='atop'/>\n",
       "\t</filter>\n",
       "</defs>\n",
       "<g fill=\"none\" color=\"#FFFFFF\" stroke=\"currentColor\" stroke-width=\"1.00\" stroke-linecap=\"butt\" stroke-linejoin=\"miter\">\n",
       "</g>\n",
       "<g fill=\"none\" color=\"black\" stroke=\"currentColor\" stroke-width=\"1.00\" stroke-linecap=\"butt\" stroke-linejoin=\"miter\">\n",
       "\t<path stroke='black'  d='M71.9,542.4 L80.9,542.4 M750.1,542.4 L741.1,542.4  '/>\t<g transform=\"translate(63.6,546.9)\" stroke=\"none\" fill=\"black\" font-family=\"Arial\" font-size=\"12.00\"  text-anchor=\"end\">\n",
       "\t\t<text><tspan font-family=\"Arial\" > 0</tspan></text>\n",
       "\t</g>\n",
       "</g>\n",
       "<g fill=\"none\" color=\"black\" stroke=\"currentColor\" stroke-width=\"1.00\" stroke-linecap=\"butt\" stroke-linejoin=\"miter\">\n",
       "\t<path stroke='black'  d='M71.9,464.0 L80.9,464.0 M750.1,464.0 L741.1,464.0  '/>\t<g transform=\"translate(63.6,468.5)\" stroke=\"none\" fill=\"black\" font-family=\"Arial\" font-size=\"12.00\"  text-anchor=\"end\">\n",
       "\t\t<text><tspan font-family=\"Arial\" > 0.2</tspan></text>\n",
       "\t</g>\n",
       "</g>\n",
       "<g fill=\"none\" color=\"black\" stroke=\"currentColor\" stroke-width=\"1.00\" stroke-linecap=\"butt\" stroke-linejoin=\"miter\">\n",
       "\t<path stroke='black'  d='M71.9,385.6 L80.9,385.6 M750.1,385.6 L741.1,385.6  '/>\t<g transform=\"translate(63.6,390.1)\" stroke=\"none\" fill=\"black\" font-family=\"Arial\" font-size=\"12.00\"  text-anchor=\"end\">\n",
       "\t\t<text><tspan font-family=\"Arial\" > 0.4</tspan></text>\n",
       "\t</g>\n",
       "</g>\n",
       "<g fill=\"none\" color=\"black\" stroke=\"currentColor\" stroke-width=\"1.00\" stroke-linecap=\"butt\" stroke-linejoin=\"miter\">\n",
       "\t<path stroke='black'  d='M71.9,307.3 L80.9,307.3 M750.1,307.3 L741.1,307.3  '/>\t<g transform=\"translate(63.6,311.8)\" stroke=\"none\" fill=\"black\" font-family=\"Arial\" font-size=\"12.00\"  text-anchor=\"end\">\n",
       "\t\t<text><tspan font-family=\"Arial\" > 0.6</tspan></text>\n",
       "\t</g>\n",
       "</g>\n",
       "<g fill=\"none\" color=\"black\" stroke=\"currentColor\" stroke-width=\"1.00\" stroke-linecap=\"butt\" stroke-linejoin=\"miter\">\n",
       "\t<path stroke='black'  d='M71.9,228.9 L80.9,228.9 M750.1,228.9 L741.1,228.9  '/>\t<g transform=\"translate(63.6,233.4)\" stroke=\"none\" fill=\"black\" font-family=\"Arial\" font-size=\"12.00\"  text-anchor=\"end\">\n",
       "\t\t<text><tspan font-family=\"Arial\" > 0.8</tspan></text>\n",
       "\t</g>\n",
       "</g>\n",
       "<g fill=\"none\" color=\"black\" stroke=\"currentColor\" stroke-width=\"1.00\" stroke-linecap=\"butt\" stroke-linejoin=\"miter\">\n",
       "\t<path stroke='black'  d='M71.9,150.5 L80.9,150.5 M750.1,150.5 L741.1,150.5  '/>\t<g transform=\"translate(63.6,155.0)\" stroke=\"none\" fill=\"black\" font-family=\"Arial\" font-size=\"12.00\"  text-anchor=\"end\">\n",
       "\t\t<text><tspan font-family=\"Arial\" > 1</tspan></text>\n",
       "\t</g>\n",
       "</g>\n",
       "<g fill=\"none\" color=\"black\" stroke=\"currentColor\" stroke-width=\"1.00\" stroke-linecap=\"butt\" stroke-linejoin=\"miter\">\n",
       "\t<path stroke='black'  d='M71.9,72.1 L80.9,72.1 M750.1,72.1 L741.1,72.1  '/>\t<g transform=\"translate(63.6,76.6)\" stroke=\"none\" fill=\"black\" font-family=\"Arial\" font-size=\"12.00\"  text-anchor=\"end\">\n",
       "\t\t<text><tspan font-family=\"Arial\" > 1.2</tspan></text>\n",
       "\t</g>\n",
       "</g>\n",
       "<g fill=\"none\" color=\"black\" stroke=\"currentColor\" stroke-width=\"1.00\" stroke-linecap=\"butt\" stroke-linejoin=\"miter\">\n",
       "\t<path stroke='black'  d='M71.9,542.4 L71.9,533.4 M71.9,72.1 L71.9,81.1  '/>\t<g transform=\"translate(71.9,564.9)\" stroke=\"none\" fill=\"black\" font-family=\"Arial\" font-size=\"12.00\"  text-anchor=\"middle\">\n",
       "\t\t<text><tspan font-family=\"Arial\" > 0</tspan></text>\n",
       "\t</g>\n",
       "</g>\n",
       "<g fill=\"none\" color=\"black\" stroke=\"currentColor\" stroke-width=\"1.00\" stroke-linecap=\"butt\" stroke-linejoin=\"miter\">\n",
       "\t<path stroke='black'  d='M241.5,542.4 L241.5,533.4 M241.5,72.1 L241.5,81.1  '/>\t<g transform=\"translate(241.5,564.9)\" stroke=\"none\" fill=\"black\" font-family=\"Arial\" font-size=\"12.00\"  text-anchor=\"middle\">\n",
       "\t\t<text><tspan font-family=\"Arial\" > 0.5</tspan></text>\n",
       "\t</g>\n",
       "</g>\n",
       "<g fill=\"none\" color=\"black\" stroke=\"currentColor\" stroke-width=\"1.00\" stroke-linecap=\"butt\" stroke-linejoin=\"miter\">\n",
       "\t<path stroke='black'  d='M411.0,542.4 L411.0,533.4 M411.0,72.1 L411.0,81.1  '/>\t<g transform=\"translate(411.0,564.9)\" stroke=\"none\" fill=\"black\" font-family=\"Arial\" font-size=\"12.00\"  text-anchor=\"middle\">\n",
       "\t\t<text><tspan font-family=\"Arial\" > 1</tspan></text>\n",
       "\t</g>\n",
       "</g>\n",
       "<g fill=\"none\" color=\"black\" stroke=\"currentColor\" stroke-width=\"1.00\" stroke-linecap=\"butt\" stroke-linejoin=\"miter\">\n",
       "\t<path stroke='black'  d='M580.6,542.4 L580.6,533.4 M580.6,72.1 L580.6,81.1  '/>\t<g transform=\"translate(580.6,564.9)\" stroke=\"none\" fill=\"black\" font-family=\"Arial\" font-size=\"12.00\"  text-anchor=\"middle\">\n",
       "\t\t<text><tspan font-family=\"Arial\" > 1.5</tspan></text>\n",
       "\t</g>\n",
       "</g>\n",
       "<g fill=\"none\" color=\"black\" stroke=\"currentColor\" stroke-width=\"1.00\" stroke-linecap=\"butt\" stroke-linejoin=\"miter\">\n",
       "\t<path stroke='black'  d='M750.1,542.4 L750.1,533.4 M750.1,72.1 L750.1,81.1  '/>\t<g transform=\"translate(750.1,564.9)\" stroke=\"none\" fill=\"black\" font-family=\"Arial\" font-size=\"12.00\"  text-anchor=\"middle\">\n",
       "\t\t<text><tspan font-family=\"Arial\" > 2</tspan></text>\n",
       "\t</g>\n",
       "</g>\n",
       "<g fill=\"none\" color=\"black\" stroke=\"currentColor\" stroke-width=\"1.00\" stroke-linecap=\"butt\" stroke-linejoin=\"miter\">\n",
       "\t<path stroke='black'  d='M750.1,542.4 L741.1,542.4  '/>\t<g transform=\"translate(758.4,546.9)\" stroke=\"none\" fill=\"black\" font-family=\"Arial\" font-size=\"12.00\"  text-anchor=\"start\">\n",
       "\t\t<text><tspan font-family=\"Arial\" > </tspan></text>\n",
       "\t</g>\n",
       "</g>\n",
       "<g fill=\"none\" color=\"black\" stroke=\"currentColor\" stroke-width=\"1.00\" stroke-linecap=\"butt\" stroke-linejoin=\"miter\">\n",
       "\t<path stroke='black'  d='M750.1,464.0 L741.1,464.0  '/>\t<g transform=\"translate(758.4,468.5)\" stroke=\"none\" fill=\"black\" font-family=\"Arial\" font-size=\"12.00\"  text-anchor=\"start\">\n",
       "\t\t<text><tspan font-family=\"Arial\" > </tspan></text>\n",
       "\t</g>\n",
       "</g>\n",
       "<g fill=\"none\" color=\"black\" stroke=\"currentColor\" stroke-width=\"1.00\" stroke-linecap=\"butt\" stroke-linejoin=\"miter\">\n",
       "\t<path stroke='black'  d='M750.1,385.6 L741.1,385.6  '/>\t<g transform=\"translate(758.4,390.1)\" stroke=\"none\" fill=\"black\" font-family=\"Arial\" font-size=\"12.00\"  text-anchor=\"start\">\n",
       "\t\t<text><tspan font-family=\"Arial\" > </tspan></text>\n",
       "\t</g>\n",
       "</g>\n",
       "<g fill=\"none\" color=\"black\" stroke=\"currentColor\" stroke-width=\"1.00\" stroke-linecap=\"butt\" stroke-linejoin=\"miter\">\n",
       "\t<path stroke='black'  d='M750.1,307.3 L741.1,307.3  '/>\t<g transform=\"translate(758.4,311.8)\" stroke=\"none\" fill=\"black\" font-family=\"Arial\" font-size=\"12.00\"  text-anchor=\"start\">\n",
       "\t\t<text><tspan font-family=\"Arial\" > </tspan></text>\n",
       "\t</g>\n",
       "</g>\n",
       "<g fill=\"none\" color=\"black\" stroke=\"currentColor\" stroke-width=\"1.00\" stroke-linecap=\"butt\" stroke-linejoin=\"miter\">\n",
       "\t<path stroke='black'  d='M750.1,228.9 L741.1,228.9  '/>\t<g transform=\"translate(758.4,233.4)\" stroke=\"none\" fill=\"black\" font-family=\"Arial\" font-size=\"12.00\"  text-anchor=\"start\">\n",
       "\t\t<text><tspan font-family=\"Arial\" > </tspan></text>\n",
       "\t</g>\n",
       "</g>\n",
       "<g fill=\"none\" color=\"black\" stroke=\"currentColor\" stroke-width=\"1.00\" stroke-linecap=\"butt\" stroke-linejoin=\"miter\">\n",
       "\t<path stroke='black'  d='M750.1,150.5 L741.1,150.5  '/>\t<g transform=\"translate(758.4,155.0)\" stroke=\"none\" fill=\"black\" font-family=\"Arial\" font-size=\"12.00\"  text-anchor=\"start\">\n",
       "\t\t<text><tspan font-family=\"Arial\" > </tspan></text>\n",
       "\t</g>\n",
       "</g>\n",
       "<g fill=\"none\" color=\"black\" stroke=\"currentColor\" stroke-width=\"1.00\" stroke-linecap=\"butt\" stroke-linejoin=\"miter\">\n",
       "\t<path stroke='black'  d='M750.1,72.1 L741.1,72.1  '/>\t<g transform=\"translate(758.4,76.6)\" stroke=\"none\" fill=\"black\" font-family=\"Arial\" font-size=\"12.00\"  text-anchor=\"start\">\n",
       "\t\t<text><tspan font-family=\"Arial\" > </tspan></text>\n",
       "\t</g>\n",
       "</g>\n",
       "<g fill=\"none\" color=\"black\" stroke=\"currentColor\" stroke-width=\"1.00\" stroke-linecap=\"butt\" stroke-linejoin=\"miter\">\n",
       "\t<path stroke='black'  d='M71.9,72.1 L71.9,81.1  '/>\t<g transform=\"translate(71.9,58.6)\" stroke=\"none\" fill=\"black\" font-family=\"Arial\" font-size=\"12.00\"  text-anchor=\"middle\">\n",
       "\t\t<text><tspan font-family=\"Arial\" > </tspan></text>\n",
       "\t</g>\n",
       "</g>\n",
       "<g fill=\"none\" color=\"black\" stroke=\"currentColor\" stroke-width=\"1.00\" stroke-linecap=\"butt\" stroke-linejoin=\"miter\">\n",
       "\t<path stroke='black'  d='M241.5,72.1 L241.5,81.1  '/>\t<g transform=\"translate(241.5,58.6)\" stroke=\"none\" fill=\"black\" font-family=\"Arial\" font-size=\"12.00\"  text-anchor=\"middle\">\n",
       "\t\t<text><tspan font-family=\"Arial\" > </tspan></text>\n",
       "\t</g>\n",
       "</g>\n",
       "<g fill=\"none\" color=\"black\" stroke=\"currentColor\" stroke-width=\"1.00\" stroke-linecap=\"butt\" stroke-linejoin=\"miter\">\n",
       "\t<path stroke='black'  d='M411.0,72.1 L411.0,81.1  '/>\t<g transform=\"translate(411.0,58.6)\" stroke=\"none\" fill=\"black\" font-family=\"Arial\" font-size=\"12.00\"  text-anchor=\"middle\">\n",
       "\t\t<text><tspan font-family=\"Arial\" > </tspan></text>\n",
       "\t</g>\n",
       "</g>\n",
       "<g fill=\"none\" color=\"black\" stroke=\"currentColor\" stroke-width=\"1.00\" stroke-linecap=\"butt\" stroke-linejoin=\"miter\">\n",
       "\t<path stroke='black'  d='M580.6,72.1 L580.6,81.1  '/>\t<g transform=\"translate(580.6,58.6)\" stroke=\"none\" fill=\"black\" font-family=\"Arial\" font-size=\"12.00\"  text-anchor=\"middle\">\n",
       "\t\t<text><tspan font-family=\"Arial\" > </tspan></text>\n",
       "\t</g>\n",
       "</g>\n",
       "<g fill=\"none\" color=\"black\" stroke=\"currentColor\" stroke-width=\"1.00\" stroke-linecap=\"butt\" stroke-linejoin=\"miter\">\n",
       "\t<path stroke='black'  d='M750.1,72.1 L750.1,81.1  '/>\t<g transform=\"translate(750.1,58.6)\" stroke=\"none\" fill=\"black\" font-family=\"Arial\" font-size=\"12.00\"  text-anchor=\"middle\">\n",
       "\t\t<text><tspan font-family=\"Arial\" > </tspan></text>\n",
       "\t</g>\n",
       "</g>\n",
       "<g fill=\"none\" color=\"black\" stroke=\"currentColor\" stroke-width=\"1.00\" stroke-linecap=\"butt\" stroke-linejoin=\"miter\">\n",
       "</g>\n",
       "<g fill=\"none\" color=\"black\" stroke=\"currentColor\" stroke-width=\"1.00\" stroke-linecap=\"butt\" stroke-linejoin=\"miter\">\n",
       "\t<path stroke='black'  d='M71.9,72.1 L71.9,542.4 L750.1,542.4 L750.1,72.1 L71.9,72.1 Z  '/></g>\n",
       "<g fill=\"none\" color=\"black\" stroke=\"currentColor\" stroke-width=\"1.00\" stroke-linecap=\"butt\" stroke-linejoin=\"miter\">\n",
       "\t<g transform=\"translate(17.6,307.3) rotate(270)\" stroke=\"none\" fill=\"black\" font-family=\"Arial\" font-size=\"12.00\"  text-anchor=\"middle\">\n",
       "\t\t<text><tspan font-family=\"Arial\" >aspect ratio L/W</tspan></text>\n",
       "\t</g>\n",
       "</g>\n",
       "<g fill=\"none\" color=\"black\" stroke=\"currentColor\" stroke-width=\"1.00\" stroke-linecap=\"butt\" stroke-linejoin=\"miter\">\n",
       "\t<g transform=\"translate(411.0,591.9)\" stroke=\"none\" fill=\"black\" font-family=\"Arial\" font-size=\"12.00\"  text-anchor=\"middle\">\n",
       "\t\t<text><tspan font-family=\"Arial\" >time t</tspan></text>\n",
       "\t</g>\n",
       "</g>\n",
       "<g fill=\"none\" color=\"black\" stroke=\"currentColor\" stroke-width=\"1.00\" stroke-linecap=\"butt\" stroke-linejoin=\"miter\">\n",
       "\t<g transform=\"translate(411.0,13.6)\" stroke=\"none\" fill=\"black\" font-family=\"Arial\" font-size=\"12.00\"  text-anchor=\"middle\">\n",
       "\t\t<text><tspan font-family=\"Arial\" >m3</tspan><tspan font-family=\"Arial\"  font-size=\"9.6\" dy=\"3.60px\">O</tspan><tspan font-family=\"Arial\"  font-size=\"12.0\" dy=\"-3.60px\">h01</tspan><tspan font-family=\"Arial\"  font-size=\"9.6\" dy=\"3.60px\">e</tspan><tspan font-family=\"Arial\"  font-size=\"12.0\" dy=\"-3.60px\">ta04</tspan></text>\n",
       "\t</g>\n",
       "</g>\n",
       "\t<g id=\"gnuplot_plot_1\" ><title>BoSSS-J686-3OrdInit</title>\n",
       "<g fill=\"none\" color=\"#FFFFFF\" stroke=\"black\" stroke-width=\"3.00\" stroke-linecap=\"butt\" stroke-linejoin=\"miter\">\n",
       "</g>\n",
       "<g fill=\"none\" color=\"black\" stroke=\"currentColor\" stroke-width=\"3.00\" stroke-linecap=\"butt\" stroke-linejoin=\"miter\">\n",
       "\t<g transform=\"translate(530.9,99.1)\" stroke=\"none\" fill=\"black\" font-family=\"Arial\" font-size=\"16.00\"  text-anchor=\"start\">\n",
       "\t\t<text><tspan font-family=\"Arial\" >BoSSS-J686-3OrdInit</tspan></text>\n",
       "\t</g>\n",
       "</g>\n",
       "<g fill=\"none\" color=\"black\" stroke=\"currentColor\" stroke-width=\"3.00\" stroke-linecap=\"butt\" stroke-linejoin=\"miter\">\n",
       "\t<path stroke='rgb(  0,   0, 255)' stroke-dasharray='7.5,12.0'  d='M466.4,93.1 L519.8,93.1 M71.9,542.4  '/></g>\n",
       "\t</g>\n",
       "\t<g id=\"gnuplot_plot_2\" ><title>BoSSS-J686</title>\n",
       "<g fill=\"none\" color=\"black\" stroke=\"currentColor\" stroke-width=\"3.00\" stroke-linecap=\"butt\" stroke-linejoin=\"miter\">\n",
       "\t<g transform=\"translate(530.9,123.1)\" stroke=\"none\" fill=\"black\" font-family=\"Arial\" font-size=\"16.00\"  text-anchor=\"start\">\n",
       "\t\t<text><tspan font-family=\"Arial\" >BoSSS-J686</tspan></text>\n",
       "\t</g>\n",
       "</g>\n",
       "<g fill=\"none\" color=\"black\" stroke=\"currentColor\" stroke-width=\"3.00\" stroke-linecap=\"butt\" stroke-linejoin=\"miter\">\n",
       "\t<path stroke='rgb(  0,   0, 255)'  d='M466.4,117.1 L519.8,117.1 M71.9,542.4 L73.6,542.4 L75.3,150.3 L77.0,542.4 L78.7,542.4 L80.4,542.2\n",
       "\t\tL82.1,542.3 L83.8,540.8 L85.5,542.3 L87.2,541.4 L88.9,542.3 L90.6,542.3 L92.2,542.4 L93.9,542.4\n",
       "\t\tL95.6,542.4 L97.3,542.3 L99.0,131.8 L100.7,129.9 L102.4,542.2 L104.1,542.2 L105.8,126.0 L107.5,124.6\n",
       "\t\tL109.2,542.1 L110.9,121.7 L112.6,120.6 L114.3,119.7 L116.0,118.5 L117.7,542.2 L119.4,542.2 L121.1,542.3\n",
       "\t\tL122.8,116.3 L124.5,115.3 L126.2,114.4 L127.9,113.4 L129.5,112.4 L131.2,111.4 L132.9,110.5 L134.6,542.4\n",
       "\t\tL136.3,542.4 L138.0,542.4 L139.7,106.9 L141.4,105.9 L143.1,540.3 L144.8,541.2 L146.5,102.8 L148.2,103.6\n",
       "\t\tL149.9,102.0 L151.6,542.4 L153.3,542.4 L155.0,542.4 L156.7,542.4 L158.4,97.4 L160.1,542.4 L161.8,542.4\n",
       "\t\tL163.5,542.4 L165.2,542.4 L166.8,542.4 L168.5,542.4 L170.2,542.4 L171.9,542.4 L173.6,542.4 L175.3,542.4\n",
       "\t\tL177.0,93.6 L178.7,93.3 L180.4,93.0 L182.1,92.5 L183.8,92.4 L185.5,92.1 L187.2,91.9 L188.9,91.8\n",
       "\t\tL190.6,92.0 L192.3,542.4 L194.0,542.4 L195.7,542.4 L197.4,542.4 L199.1,542.4 L200.8,542.3 L202.5,542.3\n",
       "\t\tL204.1,542.3 L205.8,542.3 L207.5,542.3 L209.2,542.3 L210.9,542.3 L212.6,93.7 L214.3,542.3 L216.0,542.3\n",
       "\t\tL217.7,542.3 L219.4,542.3 L221.1,542.4 L222.8,542.3 L224.5,542.3 L226.2,98.4 L227.9,542.4 L229.6,542.4\n",
       "\t\tL231.3,542.4 L233.0,542.4 L234.7,542.4 L236.4,542.4 L238.1,542.4 L239.8,542.4 L241.5,542.4 L243.1,542.4\n",
       "\t\tL244.8,542.4 L246.5,542.4 L248.2,542.4 L249.9,542.4 L251.6,542.4 L253.3,542.4 L255.0,542.4 L256.7,542.4\n",
       "\t\tL258.4,542.4 L260.1,542.4 L261.8,542.4 L263.5,542.4 L265.2,542.4 L266.9,542.4 L268.6,542.4 L270.3,542.4\n",
       "\t\tL272.0,542.4 L273.7,542.4 L275.4,542.4 L277.1,542.4 L278.8,542.4 L280.4,542.4 L282.1,542.4 L283.8,542.4\n",
       "\t\tL285.5,542.4 L287.2,542.4 L288.9,542.4 L290.6,542.4 L292.3,542.4 L294.0,542.4 L295.7,542.4 L297.4,542.4\n",
       "\t\tL299.1,542.4 L300.8,542.4 L302.5,542.4 L304.2,542.4 L305.9,542.4 L307.6,542.4 L309.3,140.1 L311.0,542.4\n",
       "\t\tL312.7,542.4 L314.4,542.4 L316.1,542.4 L317.7,542.4 L319.4,542.4 L321.1,114.9 L322.8,542.4 L324.5,114.4\n",
       "\t\tL326.2,114.3 L327.9,114.1 L329.6,113.9 L331.3,113.8 L333.0,542.4 L334.7,542.4 L336.4,542.4 L338.1,542.4\n",
       "\t\tL339.8,542.3 L341.5,542.3 L343.2,542.3 L344.9,542.3 L346.6,542.3 L348.3,542.3 L350.0,542.3 L351.7,542.3\n",
       "\t\tL353.4,542.2 L355.0,542.2 L356.7,112.2 L358.4,542.2 L360.1,112.2 L361.8,112.3 L363.5,112.3 L365.2,112.3\n",
       "\t\tL366.9,112.8 L368.6,112.8 L370.3,112.9 L372.0,542.2 L373.7,542.1 L375.4,542.2 L377.1,542.2 L378.8,114.9\n",
       "\t\tL380.5,115.1 L382.2,115.3 L383.9,115.5 L385.6,115.7 L387.3,116.0 L389.0,116.3 L390.7,116.6 L392.3,116.8\n",
       "\t\tL394.0,117.0 L395.7,542.4 L397.4,542.4 L399.1,542.4 L400.8,542.4 L402.5,542.4 L404.2,542.4 L405.9,542.4\n",
       "\t\tL407.6,119.0 L409.3,119.2 L411.0,121.3 L412.7,121.5 L414.4,122.8 L416.1,124.2 L417.8,125.1 L419.5,125.9\n",
       "\t\tL421.2,126.2 L422.9,126.5 L424.6,126.7 L426.3,127.1 L428.0,127.1 L429.7,127.5 L431.3,127.7 L433.0,542.4\n",
       "\t\tL434.7,128.2 L436.4,128.6 L438.1,129.1 L439.8,129.5 L441.5,129.9 L443.2,542.3 L444.9,542.3 L446.6,542.3\n",
       "\t\tL448.3,542.2 L450.0,542.2 L451.7,542.2 L453.4,133.1 L455.1,133.6 L456.8,133.9 L458.5,542.1 L460.2,542.1\n",
       "\t\tL461.9,542.1 L463.6,542.1 L465.3,136.7 L467.0,137.3 L468.6,137.8 L470.3,138.3 L472.0,139.0 L473.7,139.2\n",
       "\t\tL475.4,139.8 L477.1,140.2 L478.8,140.7 L480.5,141.2 L482.2,141.7 L483.9,142.1 L485.6,142.6 L487.3,143.0\n",
       "\t\tL489.0,143.5 L490.7,144.0 L492.4,542.4 L494.1,542.4 L495.8,542.4 L497.5,542.4 L499.2,146.6 L500.9,147.0\n",
       "\t\tL502.6,147.4 L504.3,147.8 L505.9,148.1 L507.6,148.5 L509.3,148.8 L511.0,542.3 L512.7,542.3 L514.4,542.3\n",
       "\t\tL516.1,542.3 L517.8,542.3 L519.5,542.3 L521.2,542.3 L522.9,151.5 L524.6,151.9 L526.3,152.2 L528.0,152.6\n",
       "\t\tL529.7,152.9 L531.4,153.2 L533.1,153.5 L534.8,153.8 L536.5,154.1 L538.2,542.4 L539.9,542.3 L541.6,542.3\n",
       "\t\tL543.2,542.3 L544.9,542.3 L546.6,542.4 L548.3,542.4 L550.0,542.3 L551.7,542.3 L553.4,542.2 L555.1,542.3\n",
       "\t\tL556.8,542.2 L558.5,542.1 L560.2,542.0 L561.9,542.3 L563.6,542.1 L565.3,542.1 L567.0,542.3 L568.7,157.2\n",
       "\t\tL570.4,157.3 L572.1,157.4 L573.8,157.6 L575.5,157.8 L577.2,542.2 L578.9,542.3 L580.5,158.4 L582.2,158.4\n",
       "\t\tL583.9,158.5 L585.6,158.6 L587.3,158.7 L589.0,158.8 L590.7,542.2 L592.4,542.2 L594.1,542.2 L595.8,542.3\n",
       "\t\tL597.5,542.4 L599.2,542.3 L600.9,542.3 L602.6,542.4 L604.3,542.3 L606.0,542.4 L607.7,542.3 L609.4,542.4\n",
       "\t\tL611.1,542.3 L612.8,542.3 L614.5,542.3 L616.2,542.3 L617.9,542.3 L619.5,542.4 L621.2,542.4 L622.9,542.4\n",
       "\t\tL624.6,542.4 L626.3,542.4 L628.0,542.4 L629.7,542.4 L631.4,542.4 L633.1,542.4 L634.8,542.4 L636.5,542.4\n",
       "\t\tL638.2,542.4 L639.9,542.4 L641.6,542.4 L643.3,542.4 L645.0,542.4 L646.7,542.4 L648.4,542.4 L650.1,542.4\n",
       "\t\tL651.8,542.4 L653.5,542.4 L655.2,542.4 L656.8,542.4 L658.5,542.4 L660.2,542.4 L661.9,542.4 L663.6,542.4\n",
       "\t\tL665.3,542.4 L667.0,542.4 L668.7,542.4 L670.4,542.4 L672.1,542.4 L673.8,542.4 L675.5,542.4 L677.2,542.4\n",
       "\t\tL678.9,542.4 L680.6,542.4 L682.3,542.4 L684.0,542.4 L685.7,542.4 L687.4,542.4 L689.1,542.4 L690.8,542.4\n",
       "\t\tL692.5,542.4 L694.1,542.4 L695.8,542.4 L697.5,542.4 L699.2,542.4 L700.9,542.4 L702.6,542.4 L704.3,542.4\n",
       "\t\tL706.0,542.4 L707.7,542.4 L709.4,542.4 L711.1,542.4 L712.8,542.4  '/></g>\n",
       "\t</g>\n",
       "<g fill=\"none\" color=\"#FFFFFF\" stroke=\"rgb(  0,   0, 255)\" stroke-width=\"2.00\" stroke-linecap=\"butt\" stroke-linejoin=\"miter\">\n",
       "</g>\n",
       "<g fill=\"none\" color=\"black\" stroke=\"currentColor\" stroke-width=\"2.00\" stroke-linecap=\"butt\" stroke-linejoin=\"miter\">\n",
       "</g>\n",
       "<g fill=\"none\" color=\"black\" stroke=\"black\" stroke-width=\"1.00\" stroke-linecap=\"butt\" stroke-linejoin=\"miter\">\n",
       "</g>\n",
       "<g fill=\"none\" color=\"black\" stroke=\"currentColor\" stroke-width=\"1.00\" stroke-linecap=\"butt\" stroke-linejoin=\"miter\">\n",
       "\t<path stroke='black'  d='M71.9,72.1 L71.9,542.4 L750.1,542.4 L750.1,72.1 L71.9,72.1 Z  '/></g>\n",
       "<g fill=\"none\" color=\"black\" stroke=\"currentColor\" stroke-width=\"1.00\" stroke-linecap=\"butt\" stroke-linejoin=\"miter\">\n",
       "</g>\n",
       "</g>\n",
       "</svg>\n",
       "\n"
      ]
     },
     "metadata": {},
     "output_type": "display_data"
    }
   ],
   "source": [
    "pltTab.XrangeMin = 0;\n",
    "pltTab.XrangeMax = 2;\n",
    "var gp = pltTab.ToGnuplot();\n",
    "gp.PlotSVG()"
   ]
  },
  {
   "cell_type": "code",
   "execution_count": null,
   "metadata": {
    "dotnet_interactive": {
     "language": "csharp"
    }
   },
   "outputs": [
    {
     "data": {
      "text/plain": [
       "OscillatingDroplet3D\tOD3D_J686k3_wallBC_amr1_m3_Oh01_eta04*\t04/08/2022 11:34:00\te3a04ed7..."
      ]
     },
     "metadata": {},
     "output_type": "display_data"
    }
   ],
   "source": [
    "var sess = target.Sessions.Pick(0);\n",
    "sess"
   ]
  },
  {
   "cell_type": "code",
   "execution_count": null,
   "metadata": {
    "dotnet_interactive": {
     "language": "csharp"
    }
   },
   "outputs": [
    {
     "data": {
      "text/plain": [
       " { Time-step: 100; Physical time: 0.5000000000000003s; Fields: Phi, PhiDG, VelocityX, VelocityY, VelocityZ, Pressure, Velocity0X_Mean, Velocity0Y_Mean, Velocity0Z_Mean, VelocityX@Phi, VelocityY@Phi, VelocityZ@Phi; Name:  }"
      ]
     },
     "metadata": {},
     "output_type": "display_data"
    }
   ],
   "source": [
    "var ts = sess.Timesteps.Pick(102);\n",
    "ts"
   ]
  },
  {
   "cell_type": "code",
   "execution_count": null,
   "metadata": {
    "dotnet_interactive": {
     "language": "csharp"
    }
   },
   "outputs": [
    {
     "data": {
      "text/plain": [
       "Phi"
      ]
     },
     "metadata": {},
     "output_type": "display_data"
    }
   ],
   "source": [
    "SinglePhaseField phi = (SinglePhaseField)ts.GetField(\"Phi\");\n",
    "phi"
   ]
  },
  {
   "cell_type": "code",
   "execution_count": null,
   "metadata": {
    "dotnet_interactive": {
     "language": "csharp"
    }
   },
   "outputs": [],
   "source": [
    "GridData grdDat = (GridData)phi.GridDat; \n",
    "LevelSet lvlSet = new LevelSet(phi.Basis, \"levelSet\");\n",
    "lvlSet.Acc(1.0, phi); \n",
    "LevelSetTracker lsTrk = new LevelSetTracker(grdDat, XQuadFactoryHelper.MomentFittingVariants.Saye,  1, new string[] {\"A\", \"B\"}, lvlSet);\n",
    "lsTrk.UpdateTracker(0.0);"
   ]
  },
  {
   "cell_type": "code",
   "execution_count": null,
   "metadata": {
    "dotnet_interactive": {
     "language": "csharp"
    }
   },
   "outputs": [],
   "source": [
    "using BoSSS.Solution.XNSECommon;"
   ]
  },
  {
   "cell_type": "code",
   "execution_count": null,
   "metadata": {
    "dotnet_interactive": {
     "language": "csharp"
    }
   },
   "outputs": [],
   "source": [
    "double[] getMajorAxis3D(LevelSetTracker levSetTrk, LevelSet levSet) {\n",
    "    \n",
    "    bool AxisSymmetric = true;\n",
    "\n",
    "    MultidimensionalArray InterfacePoints = XNSEUtils.GetInterfacePoints(levSetTrk, levSet);\n",
    "\n",
    "    // droplet width W along x-Axis\n",
    "    double r_theta90x1 = 0.0;\n",
    "    double dist_xAxis_min1 = double.MaxValue;\n",
    "    double r_theta90x2 = 0.0;\n",
    "    double dist_xAxis_min2 = double.MaxValue;\n",
    "    // droplet width W along y-Axis\n",
    "    double r_theta90y1 = 0.0;\n",
    "    double dist_yAxis_min1 = double.MaxValue;\n",
    "    double r_theta90y2 = 0.0;\n",
    "    double dist_yAxis_min2 = double.MaxValue;\n",
    "    // droplet length L along z-Axis \n",
    "    double r_theta0 = 0.0;\n",
    "    double dist_zAxis_min1 = double.MaxValue;\n",
    "    double r_theta180 = 0.0;\n",
    "    double dist_zAxis_min2 = double.MaxValue;\n",
    "\n",
    "    for(int i = 0; i < InterfacePoints.Lengths[0]; i++) {\n",
    "        double xCoord = InterfacePoints[i, 0];\n",
    "        double yCoord = InterfacePoints[i, 1];\n",
    "        double zCoord = InterfacePoints[i, 2];\n",
    "\n",
    "        // droplet width W along x-Axis\n",
    "        double dist_xAxis = Math.Sqrt(yCoord.Pow2() + zCoord.Pow2());\n",
    "        if(dist_xAxis < dist_xAxis_min1 && xCoord > 0.0) {\n",
    "            dist_xAxis_min1 = dist_xAxis;\n",
    "            r_theta90x1 = xCoord;\n",
    "        }\n",
    "        if(!AxisSymmetric && dist_xAxis < dist_xAxis_min2 && xCoord < 0.0) {\n",
    "            dist_xAxis_min2 = dist_xAxis;\n",
    "            r_theta90x2 = xCoord;\n",
    "        }\n",
    "\n",
    "\n",
    "        // droplet width W along y-Axis\n",
    "        double dist_yAxis = Math.Sqrt(xCoord.Pow2() + zCoord.Pow2());\n",
    "        if(dist_yAxis < dist_yAxis_min1 && yCoord > 0.0) {\n",
    "            dist_yAxis_min1 = dist_yAxis;\n",
    "            r_theta90y1 = yCoord;\n",
    "        }\n",
    "        if(!AxisSymmetric && dist_yAxis < dist_yAxis_min2 && yCoord < 0.0) {\n",
    "            dist_yAxis_min2 = dist_yAxis;\n",
    "            r_theta90y2 = yCoord;\n",
    "        }\n",
    "\n",
    "        // droplet length L along z-Axis \n",
    "        double dist_zAxis = Math.Sqrt(xCoord.Pow2() + yCoord.Pow2());\n",
    "        if(dist_zAxis < dist_zAxis_min1 && zCoord > 0.0) {\n",
    "            dist_zAxis_min1 = dist_zAxis;\n",
    "            r_theta0 = zCoord;\n",
    "        }\n",
    "        if(dist_zAxis < dist_zAxis_min2 && zCoord < 0.0) {\n",
    "            dist_zAxis_min2 = dist_zAxis;\n",
    "            r_theta180 = zCoord;\n",
    "        }  \n",
    "        \n",
    "    }\n",
    "\n",
    "    double Wx = r_theta90x1 - r_theta90x2;\n",
    "    if(Wx < 0)\n",
    "        throw new ArgumentOutOfRangeException(\"Droplet length Wx is negative\");  \n",
    "\n",
    "    double Wy = r_theta90y1 - r_theta90y2;\n",
    "    if(Wy < 0)\n",
    "        throw new ArgumentOutOfRangeException(\"Droplet length Wy is negative\");\n",
    "\n",
    "    double L = r_theta0 - r_theta180;\n",
    "    if(L < 0)\n",
    "        throw new ArgumentOutOfRangeException(\"Droplet length L is negative\");\n",
    "\n",
    "    return new double[] { r_theta0, L, Wx, Wy };\n",
    "}"
   ]
  },
  {
   "cell_type": "code",
   "execution_count": null,
   "metadata": {
    "dotnet_interactive": {
     "language": "csharp"
    }
   },
   "outputs": [],
   "source": [
    "// Console.WriteLine(\"Wx = {0}\", Wx);  \n",
    "// Console.WriteLine(\"Wy = {0}\", Wy); \n",
    "// Console.WriteLine(\"L = {0}: r_theta0 = {1}, r_theta180 = {2}\", L, r_theta0, r_theta180); "
   ]
  },
  {
   "cell_type": "code",
   "execution_count": null,
   "metadata": {
    "dotnet_interactive": {
     "language": "csharp"
    }
   },
   "outputs": [
    {
     "data": {
      "text/html": [
       "<div class=\"dni-plaintext\">379</div>"
      ]
     },
     "metadata": {},
     "output_type": "display_data"
    }
   ],
   "source": [
    "var timesteps = sess.Timesteps.Skip(2);\n",
    "int numTs = timesteps.Count();\n",
    "numTs"
   ]
  },
  {
   "cell_type": "code",
   "execution_count": null,
   "metadata": {
    "dotnet_interactive": {
     "language": "csharp"
    }
   },
   "outputs": [],
   "source": [
    "double[] time = new double[numTs];\n",
    "double[] aspectRatio = new double[numTs];"
   ]
  },
  {
   "cell_type": "code",
   "execution_count": null,
   "metadata": {
    "dotnet_interactive": {
     "language": "csharp"
    }
   },
   "outputs": [
    {
     "ename": "Error",
     "evalue": "System.OperationCanceledException: Command :SubmitCode: int i = 0;\r\nforeach(var tStep in timesteps) {\r\n//  ... cancelled.",
     "output_type": "error",
     "traceback": [
      "System.OperationCanceledException: Command :SubmitCode: int i = 0;\r\n",
      "foreach(var tStep in timesteps) {\r\n",
      "//  ... cancelled."
     ]
    }
   ],
   "source": [
    "int i = 0;\n",
    "foreach(var tStep in timesteps) {\n",
    "// for(int tSi = 0; tSi < 10; tSi++) {\n",
    "//     var tStep = timesteps.Pick(tSi);\n",
    "    SinglePhaseField phi = (SinglePhaseField)tStep.GetField(\"Phi\");\n",
    "    GridData grdDat = (GridData)phi.GridDat; \n",
    "    LevelSet lvlSet = new LevelSet(phi.Basis, \"levelSet\");\n",
    "    lvlSet.Acc(1.0, phi); \n",
    "    LevelSetTracker lsTrk = new LevelSetTracker(grdDat, XQuadFactoryHelper.MomentFittingVariants.Saye,  1, new string[] {\"A\", \"B\"}, lvlSet);\n",
    "    lsTrk.UpdateTracker(0.0);\n",
    "\n",
    "    double[] res = getMajorAxis3D(lsTrk, lvlSet);\n",
    "    \n",
    "    time[i] = tStep.PhysicalTime;\n",
    "    aspectRatio[i] = 0.5 * ((res[1] / (2.0*res[2])) + (res[1] / (2.0*res[3])));\n",
    "    i++;\n",
    "}"
   ]
  },
  {
   "cell_type": "code",
   "execution_count": null,
   "metadata": {
    "dotnet_interactive": {
     "language": "csharp"
    }
   },
   "outputs": [],
   "source": [
    "Plot2Ddata pltDat = new Plot2Ddata();\n",
    "var fmt = new PlotFormat();\n",
    "fmt.Style = Styles.Lines; \n",
    "fmt.LineWidth = 3;\n",
    "fmt.LineColor = LineColors.Blue;\n",
    "fmt.DashType = DashTypes.Solid;\n",
    "pltDat.AddDataGroup(sess.ProjectName, time.GetSubVector(0,38), aspectRatio, fmt);\n",
    "var gp = pltDat.ToGnuplot();\n",
    "gp.PlotSVG()"
   ]
  },
  {
   "cell_type": "code",
   "execution_count": null,
   "metadata": {
    "dotnet_interactive": {
     "language": "csharp"
    }
   },
   "outputs": [
    {
     "data": {
      "text/plain": [
       " { Time-step: 130; Physical time: 0.6500000000000005s; Fields: Phi, PhiDG, VelocityX, VelocityY, VelocityZ, Pressure, Velocity0X_Mean, Velocity0Y_Mean, Velocity0Z_Mean, VelocityX@Phi, VelocityY@Phi, VelocityZ@Phi; Name:  }"
      ]
     },
     "metadata": {},
     "output_type": "display_data"
    }
   ],
   "source": [
    "var tStep = timesteps.Pick(130);\n",
    "tStep"
   ]
  },
  {
   "cell_type": "code",
   "execution_count": null,
   "metadata": {
    "dotnet_interactive": {
     "language": "csharp"
    }
   },
   "outputs": [],
   "source": [
    "phi = (SinglePhaseField)tStep.GetField(\"Phi\");\n",
    "grdDat = (GridData)phi.GridDat; \n",
    "lvlSet = new LevelSet(phi.Basis, \"levelSet\");\n",
    "lvlSet.Acc(1.0, phi); \n",
    "lsTrk = new LevelSetTracker(grdDat, XQuadFactoryHelper.MomentFittingVariants.Saye,  1, new string[] {\"A\", \"B\"}, lvlSet);\n",
    "lsTrk.UpdateTracker(0.0);\n",
    "\n",
    "double[] res = getMajorAxis3D(lsTrk, lvlSet);"
   ]
  },
  {
   "cell_type": "code",
   "execution_count": null,
   "metadata": {
    "dotnet_interactive": {
     "language": "csharp"
    }
   },
   "outputs": [
    {
     "data": {
      "text/html": [
       "<table><thead><tr><th><i>index</i></th><th>value</th></tr></thead><tbody><tr><td>0</td><td>0.8690092239699065</td></tr><tr><td>1</td><td>1.973004590158019</td></tr><tr><td>2</td><td>0.9611486008957587</td></tr><tr><td>3</td><td>0.9611459872151268</td></tr></tbody></table>"
      ]
     },
     "metadata": {},
     "output_type": "display_data"
    }
   ],
   "source": [
    "res"
   ]
  },
  {
   "cell_type": "code",
   "execution_count": null,
   "metadata": {
    "dotnet_interactive": {
     "language": "csharp"
    }
   },
   "outputs": [
    {
     "data": {
      "text/html": [
       "<table><thead><tr><th><i>index</i></th><th>value</th></tr></thead><tbody><tr><td>0</td><td>0.8588900064493645</td></tr><tr><td>1</td><td>2.0833555755569306</td></tr><tr><td>2</td><td>0.9560944518209614</td></tr><tr><td>3</td><td>0.9560961945148987</td></tr></tbody></table>"
      ]
     },
     "metadata": {},
     "output_type": "display_data"
    }
   ],
   "source": [
    "res"
   ]
  }
 ],
 "metadata": {
  "kernelspec": {
   "display_name": ".NET (C#)",
   "language": "C#",
   "name": ".net-csharp"
  },
  "language_info": {
   "file_extension": ".cs",
   "mimetype": "text/x-csharp",
   "name": "C#",
   "pygments_lexer": "csharp",
   "version": "9.0"
  },
  "orig_nbformat": 4
 },
 "nbformat": 4,
 "nbformat_minor": 2
}
