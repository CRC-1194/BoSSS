{
 "cells": [
  {
   "cell_type": "markdown",
   "metadata": {},
   "source": [
    "# 3D Droplet Oscillation\n",
    "\n",
    "Results published: hopefully at some point!\n",
    "\n",
    "It is part of the BoSSS-long-term validation test suite, which consists of \n",
    "several computationally expensive test-cases (runtime in the order of days),\n",
    "which are performed on a regular basis in order to validate the \n",
    "physical correctness of BoSSS simulations.\n"
   ]
  },
  {
   "cell_type": "markdown",
   "metadata": {},
   "source": [
    "### Preliminaries\n",
    "\n",
    "This example can be found in the source code repository as as `Droplet3D.ipynb`. \n",
    "One can directly load this into Jupyter to interactively work with the following code examples.\n",
    "\n",
    "Note: First, BoSSS has to be loaded into the Jupyter kernel. Note:\n",
    "In the following line, the reference to `BoSSSpad.dll` is required. \n",
    "One must either set `#r \"BoSSSpad.dll\"` to something which is appropirate for the current computer\n",
    "(e.g. `C:\\Program Files (x86)\\FDY\\BoSSS\\bin\\Release\\net5.0\\BoSSSpad.dll` if working with the binary distribution), \n",
    "or, if one is working with the source code, one must compile `BoSSSpad`\n",
    "and put it side-by-side to this worksheet file \n",
    "(from the original location in the repository, one can use the scripts `getbossspad.sh`, resp. `getbossspad.bat`).\n"
   ]
  },
  {
   "cell_type": "code",
   "execution_count": null,
   "metadata": {
    "dotnet_interactive": {
     "language": "csharp"
    }
   },
   "outputs": [],
   "source": [
    "//#r \"../../src/L4-application/BoSSSpad/bin/Release/net5.0/BoSSSpad.dll\"\n",
    "//#r \"../../src/L4-application/BoSSSpad/bin/Debug/net5.0/BoSSSpad.dll\"\n",
    "#r \"BoSSSpad.dll\"\n",
    "using System;\n",
    "using System.Collections.Generic;\n",
    "using System.Linq;\n",
    "using ilPSP;\n",
    "using ilPSP.Utils;\n",
    "using BoSSS.Platform;\n",
    "using BoSSS.Foundation;\n",
    "using BoSSS.Foundation.XDG;\n",
    "using BoSSS.Foundation.Grid;\n",
    "using BoSSS.Foundation.Grid.Classic;\n",
    "using BoSSS.Foundation.IO;\n",
    "using BoSSS.Solution;\n",
    "using BoSSS.Solution.Control;\n",
    "using BoSSS.Solution.GridImport;\n",
    "using BoSSS.Solution.Statistic;\n",
    "using BoSSS.Solution.Utils;\n",
    "using BoSSS.Solution.AdvancedSolvers;\n",
    "using BoSSS.Solution.Gnuplot;\n",
    "using BoSSS.Application.BoSSSpad;\n",
    "using BoSSS.Application.XNSE_Solver;\n",
    "using static BoSSS.Application.BoSSSpad.BoSSSshell;\n",
    "Init();"
   ]
  },
  {
   "cell_type": "markdown",
   "metadata": {},
   "source": [
    "## Initialization tasks"
   ]
  },
  {
   "cell_type": "markdown",
   "metadata": {},
   "source": [
    "Loading the `XNSE_Solver` and additional namespace:"
   ]
  },
  {
   "cell_type": "code",
   "execution_count": null,
   "metadata": {
    "dotnet_interactive": {
     "language": "csharp"
    }
   },
   "outputs": [],
   "source": [
    "using BoSSS.Application.XNSE_Solver;\n",
    "using BoSSS.Application.XNSE_Solver.PhysicalBasedTestcases;\n",
    "using BoSSS.Solution.NSECommon;\n",
    "using BoSSS.Solution.XNSECommon;\n",
    "using BoSSS.Solution.LevelSetTools.SolverWithLevelSetUpdater;\n",
    "using NUnit.Framework;\n",
    "using BoSSS.Application.XNSE_Solver.Logging;\n",
    "using BoSSS.Solution.LevelSetTools;\n",
    "using BoSSS.Solution.XdgTimestepping;\n",
    "using BoSSS.Solution.Timestepping;"
   ]
  },
  {
   "cell_type": "markdown",
   "metadata": {},
   "source": [
    "Initialization of the Workflow management; there `OscillatingDroplet3D` is the project name which is used name all computations (aka. sessions):"
   ]
  },
  {
   "cell_type": "code",
   "execution_count": null,
   "metadata": {
    "dotnet_interactive": {
     "language": "csharp"
    }
   },
   "outputs": [],
   "source": [
    "BoSSSshell.WorkflowMgm.Init(\"OscillatingDroplet3D_FirstPeriodStudy\");"
   ]
  },
  {
   "cell_type": "markdown",
   "metadata": {},
   "source": [
    "Overview on the available *Execution Queues* (aka. *Batch Processors*, aka. *Batch System*); these e.g. Linux HPC clusters on which compute jobs can be executed."
   ]
  },
  {
   "cell_type": "code",
   "execution_count": null,
   "metadata": {
    "dotnet_interactive": {
     "language": "csharp"
    }
   },
   "outputs": [
    {
     "data": {
      "text/html": [
       "<table><thead><tr><th><i>index</i></th><th><i>type</i></th><th>DeploymentBaseDirectory</th><th>DeployRuntime</th><th>Name</th><th>DotnetRuntime</th><th>BatchInstructionDir</th><th>AllowedDatabasesPaths</th><th>Username</th><th>ServerName</th><th>ComputeNodes</th><th>DefaultJobPriority</th><th>SingleNode</th></tr></thead><tbody><tr><td>0</td><td>BoSSS.Application.BoSSSpad.MiniBatchProcessorClient</td><td>D:\\local\\binaries</td><td>False</td><td>LocalPC</td><td>dotnet</td><td><div class=\"dni-plaintext\">&lt;null&gt;</div></td><td>[ D:\\local\\ ==  ]</td><td></td><td></td><td></td><td></td><td></td></tr><tr><td>1</td><td>BoSSS.Application.BoSSSpad.MsHPC2012Client</td><td>\\\\hpccluster\\hpccluster-scratch\\smuda\\binaries</td><td>False</td><td>FDY-WindowsHPC</td><td>dotnet</td><td></td><td>[ \\\\hpccluster\\hpccluster-scratch\\smuda\\ ==  ]</td><td>FDY\\smuda</td><td>DC2</td><td><div class=\"dni-plaintext\">&lt;null&gt;</div></td><td>Normal</td><td>True</td></tr></tbody></table>"
      ]
     },
     "metadata": {},
     "output_type": "display_data"
    }
   ],
   "source": [
    "ExecutionQueues"
   ]
  },
  {
   "cell_type": "markdown",
   "metadata": {},
   "source": [
    "For this example (which is part of the BoSSS validation tests), a *default queue* is selected to run all jobs in the convergence study:"
   ]
  },
  {
   "cell_type": "code",
   "execution_count": null,
   "metadata": {
    "dotnet_interactive": {
     "language": "csharp"
    }
   },
   "outputs": [
    {
     "data": {
      "text/html": [
       "<table><thead><tr><th>DeploymentBaseDirectory</th><th>DeployRuntime</th><th>Name</th><th>DotnetRuntime</th><th>BatchInstructionDir</th><th>AllowedDatabasesPaths</th></tr></thead><tbody><tr><td><div class=\"dni-plaintext\">D:\\local\\binaries</div></td><td><div class=\"dni-plaintext\">False</div></td><td><div class=\"dni-plaintext\">LocalPC</div></td><td><div class=\"dni-plaintext\">dotnet</div></td><td><div class=\"dni-plaintext\">&lt;null&gt;</div></td><td><div class=\"dni-plaintext\">[ D:\\local\\ ==  ]</div></td></tr></tbody></table>"
      ]
     },
     "metadata": {},
     "output_type": "display_data"
    }
   ],
   "source": [
    "//var myBatch = ExecutionQueues[0];\n",
    "var myBatch = GetDefaultQueue();\n",
    "myBatch"
   ]
  },
  {
   "cell_type": "markdown",
   "metadata": {},
   "source": [
    "A switch for running the worksheet locally (since we have a folder structure for the data, which is not copied on Jenkins for testing)"
   ]
  },
  {
   "cell_type": "code",
   "execution_count": null,
   "metadata": {
    "dotnet_interactive": {
     "language": "csharp"
    }
   },
   "outputs": [],
   "source": [
    "bool NunitTest = false;"
   ]
  },
  {
   "cell_type": "code",
   "execution_count": null,
   "metadata": {
    "dotnet_interactive": {
     "language": "csharp"
    }
   },
   "outputs": [],
   "source": [
    "//foreach(var s in wmg.Sessions)\n",
    "//    s.Delete(true);"
   ]
  },
  {
   "cell_type": "markdown",
   "metadata": {},
   "source": [
    "## Verification of Initial Value data"
   ]
  },
  {
   "cell_type": "markdown",
   "metadata": {},
   "source": [
    "Initial values and parameters for the simulation (intial droplet shape, Ohnesorg number, initial velocity)\n",
    "were specified by project partner (TU Graz, Group Prof. Brenn).\n",
    "Details can be found in Document `setup.pdf`, to be found in the same directory as this worksheet.\n",
    "\n",
    "First, it is verified that the initial values chosen here actually match the specification."
   ]
  },
  {
   "cell_type": "code",
   "execution_count": null,
   "metadata": {
    "dotnet_interactive": {
     "language": "csharp"
    }
   },
   "outputs": [
    {
     "data": {
      "text/html": [
       "<div class=\"dni-plaintext\">1</div>"
      ]
     },
     "metadata": {},
     "output_type": "display_data"
    }
   ],
   "source": [
    "//MultidimensionalArray[] ReferenceData = new MultidimensionalArray[5];\n",
    "int[] modes = new int[] { 3 };\n",
    "List<string> cases = new List<string>();\n",
    "int nCase = 0;\n",
    "// add simulations for mode 2\n",
    "if(modes.Contains(2)) {\n",
    "    cases.Add(\"m2_Oh01_eta07\");\n",
    "    Console.WriteLine($\"case {nCase+1}: {cases[nCase]}\");\n",
    "    nCase++;\n",
    "    cases.Add(\"m2_Oh01_eta06\");\n",
    "    Console.WriteLine($\"case {nCase+1}: {cases[nCase]}\");\n",
    "    nCase++;\n",
    "    cases.Add(\"m2_Oh01_eta05\");\n",
    "    Console.WriteLine($\"case {nCase+1}: {cases[nCase]}\");\n",
    "    nCase++;\n",
    "    cases.Add(\"m2_Oh01_eta03\");\n",
    "    Console.WriteLine($\"case {nCase+1}: {cases[nCase]}\");\n",
    "    nCase++;\n",
    "}\n",
    "// add simulations for mode 3\n",
    "if(modes.Contains(3)) {\n",
    "    cases.Add(\"m3_Oh01_eta07\");\n",
    "    Console.WriteLine($\"case {nCase+1}: {cases[nCase]}\");\n",
    "    nCase++;\n",
    "    cases.Add(\"m3_Oh01_eta06\");\n",
    "    Console.WriteLine($\"case {nCase+1}: {cases[nCase]}\");\n",
    "    nCase++;\n",
    "    cases.Add(\"m3_Oh01_eta05\");\n",
    "    Console.WriteLine($\"case {nCase+1}: {cases[nCase]}\");\n",
    "    nCase++;\n",
    "}\n",
    "// add simulations for mode 4\n",
    "if(modes.Contains(4)) {\n",
    "    cases.Add(\"m4_Oh01_eta07\");\n",
    "    Console.WriteLine($\"case {nCase+1}: {cases[nCase]}\");\n",
    "    nCase++;\n",
    "    cases.Add(\"m4_Oh01_eta06\");\n",
    "    Console.WriteLine($\"case {nCase+1}: {cases[nCase]}\");\n",
    "    nCase++;\n",
    "    cases.Add(\"m4_Oh01_eta05\");\n",
    "    Console.WriteLine($\"case {nCase+1}: {cases[nCase]}\");\n",
    "    nCase++;\n",
    "    cases.Add(\"m4_Oh01_eta03\");\n",
    "    Console.WriteLine($\"case {nCase+1}: {cases[nCase]}\");\n",
    "    nCase++;\n",
    "    cases.Add(\"m4_Oh01_eta02\");\n",
    "    Console.WriteLine($\"case {nCase+1}: {cases[nCase]}\");\n",
    "    nCase++;\n",
    "}\n",
    "int numCases = cases.Count;\n",
    "numCases"
   ]
  },
  {
   "cell_type": "code",
   "execution_count": null,
   "metadata": {
    "dotnet_interactive": {
     "language": "csharp"
    }
   },
   "outputs": [],
   "source": [
    "bool[] refDataProvided = new bool[numCases];\n",
    "refDataProvided[0] = true;\n",
    "// //refDataProvided[7] = true;\n",
    "// refDataProvided[10] = true;\n",
    "// refDataProvided[11] = true;"
   ]
  },
  {
   "cell_type": "markdown",
   "metadata": {},
   "source": [
    "Load reference data for all cases; These files contain two columns, i.e. the azimuth angle and the respective droplet radius."
   ]
  },
  {
   "cell_type": "code",
   "execution_count": null,
   "metadata": {
    "dotnet_interactive": {
     "language": "csharp"
    }
   },
   "outputs": [],
   "source": [
    "MultidimensionalArray[] ReferenceData = new MultidimensionalArray[numCases];\n",
    "for(int iCase = 0; iCase < numCases; iCase++) {\n",
    "    if(refDataProvided[iCase]) {\n",
    "    if(!NunitTest)  \n",
    "        ReferenceData[iCase] = IMatrixExtensions.LoadFromTextFile($\"data/InitialValues/{cases[iCase].Substring(0,2)}/surfaceDrop_{cases[iCase]}.txt\");\n",
    "    else\n",
    "        ReferenceData[iCase] = IMatrixExtensions.LoadFromTextFile($\"surfaceDrop_{cases[iCase]}.txt\");\n",
    "}\n",
    "}"
   ]
  },
  {
   "cell_type": "markdown",
   "metadata": {},
   "source": [
    "Analytical expressions for the reference data (see `setup.pdf`); this is to verify that the definition of Legendre\n",
    "Functions resp. Polynomials in BoSSS actually matches the definition used by the TU Graz group."
   ]
  },
  {
   "cell_type": "code",
   "execution_count": null,
   "metadata": {
    "dotnet_interactive": {
     "language": "csharp"
    }
   },
   "outputs": [],
   "source": [
    "Dictionary<string, Func<double, double>> casesRadius = new Dictionary<string, Func<double, double>>();"
   ]
  },
  {
   "cell_type": "code",
   "execution_count": null,
   "metadata": {
    "dotnet_interactive": {
     "language": "csharp"
    }
   },
   "outputs": [],
   "source": [
    "double caseR_m2eta07(double angle) {\n",
    "   double radius = 0.895131 + 0.7*SphericalHarmonics.MyLegendre(2,0,Math.Cos(angle));\n",
    "   return radius; \n",
    "}\n",
    "casesRadius.Add(\"m2_Oh01_eta07\", caseR_m2eta07);"
   ]
  },
  {
   "cell_type": "code",
   "execution_count": null,
   "metadata": {
    "dotnet_interactive": {
     "language": "csharp"
    }
   },
   "outputs": [],
   "source": [
    "double caseR_m2eta06(double angle) {\n",
    "   double radius = 0.923706 + 0.6*SphericalHarmonics.MyLegendre(2,0,Math.Cos(angle));\n",
    "   return radius; \n",
    "}\n",
    "casesRadius.Add(\"m2_Oh01_eta06\", caseR_m2eta06);"
   ]
  },
  {
   "cell_type": "code",
   "execution_count": null,
   "metadata": {
    "dotnet_interactive": {
     "language": "csharp"
    }
   },
   "outputs": [],
   "source": [
    "double caseR_m2eta05(double angle) {\n",
    "   double radius = 0.947538 + 0.5*SphericalHarmonics.MyLegendre(2,0,Math.Cos(angle));\n",
    "   return radius; \n",
    "}\n",
    "casesRadius.Add(\"m2_Oh01_eta05\", caseR_m2eta05);"
   ]
  },
  {
   "cell_type": "code",
   "execution_count": null,
   "metadata": {
    "dotnet_interactive": {
     "language": "csharp"
    }
   },
   "outputs": [],
   "source": [
    "double caseR_m2eta03(double angle) {\n",
    "    double radius = 0.981486 + 0.3*SphericalHarmonics.MyLegendre(2,0,Math.Cos(angle));\n",
    "    return radius; \n",
    "}\n",
    "casesRadius.Add(\"m2_Oh01_eta03\", caseR_m2eta03);"
   ]
  },
  {
   "cell_type": "code",
   "execution_count": null,
   "metadata": {
    "dotnet_interactive": {
     "language": "csharp"
    }
   },
   "outputs": [],
   "source": [
    "double caseR_m3eta07(double angle) {\n",
    "    double radius = 0.930122 + 0.7*SphericalHarmonics.MyLegendre(3,0,Math.Cos(angle));\n",
    "    return radius; \n",
    "}\n",
    "casesRadius.Add(\"m3_Oh01_eta07\", caseR_m3eta07);"
   ]
  },
  {
   "cell_type": "code",
   "execution_count": null,
   "metadata": {
    "dotnet_interactive": {
     "language": "csharp"
    }
   },
   "outputs": [],
   "source": [
    "double caseR_m3eta06(double angle) {\n",
    "    double radius = 0.948619 + 0.6*SphericalHarmonics.MyLegendre(3,0,Math.Cos(angle));\n",
    "    return radius; \n",
    "}\n",
    "casesRadius.Add(\"m3_Oh01_eta06\", caseR_m3eta06);"
   ]
  },
  {
   "cell_type": "code",
   "execution_count": null,
   "metadata": {
    "dotnet_interactive": {
     "language": "csharp"
    }
   },
   "outputs": [],
   "source": [
    "double caseR_m3eta05(double angle) {\n",
    "    double radius = 0.964301 + 0.5*SphericalHarmonics.MyLegendre(3,0,Math.Cos(angle));\n",
    "    return radius; \n",
    "}\n",
    "casesRadius.Add(\"m3_Oh01_eta05\", caseR_m3eta05);"
   ]
  },
  {
   "cell_type": "code",
   "execution_count": null,
   "metadata": {
    "dotnet_interactive": {
     "language": "csharp"
    }
   },
   "outputs": [],
   "source": [
    "double caseR_m3eta03(double angle) {\n",
    "    double radius = 0.987144 + 0.3*SphericalHarmonics.MyLegendre(3,0,Math.Cos(angle));\n",
    "    return radius; \n",
    "}\n",
    "casesRadius.Add(\"m3_Oh01_eta03\", caseR_m3eta03);"
   ]
  },
  {
   "cell_type": "code",
   "execution_count": null,
   "metadata": {
    "dotnet_interactive": {
     "language": "csharp"
    }
   },
   "outputs": [],
   "source": [
    "double caseR_m4eta07(double angle) {\n",
    "    double radius = 0.943440 + 0.7*SphericalHarmonics.MyLegendre(4,0,Math.Cos(angle));\n",
    "    return radius; \n",
    "}\n",
    "casesRadius.Add(\"m4_Oh01_eta07\", caseR_m4eta07);"
   ]
  },
  {
   "cell_type": "code",
   "execution_count": null,
   "metadata": {
    "dotnet_interactive": {
     "language": "csharp"
    }
   },
   "outputs": [],
   "source": [
    "double caseR_m4eta06(double angle) {\n",
    "    double radius = 0.958674 + 0.6*SphericalHarmonics.MyLegendre(4,0,Math.Cos(angle));\n",
    "    return radius; \n",
    "}\n",
    "casesRadius.Add(\"m4_Oh01_eta06\", caseR_m4eta06);"
   ]
  },
  {
   "cell_type": "code",
   "execution_count": null,
   "metadata": {
    "dotnet_interactive": {
     "language": "csharp"
    }
   },
   "outputs": [],
   "source": [
    "double caseR_m4eta05(double angle) {\n",
    "    double radius = 0.971459 + 0.5*SphericalHarmonics.MyLegendre(4,0,Math.Cos(angle));\n",
    "    return radius; \n",
    "}\n",
    "casesRadius.Add(\"m4_Oh01_eta05\", caseR_m4eta05);"
   ]
  },
  {
   "cell_type": "code",
   "execution_count": null,
   "metadata": {
    "dotnet_interactive": {
     "language": "csharp"
    }
   },
   "outputs": [],
   "source": [
    "double caseR_m4eta03(double angle) {\n",
    "    double radius = 0.989838 + 0.3*SphericalHarmonics.MyLegendre(4,0,Math.Cos(angle));\n",
    "    return radius; \n",
    "}\n",
    "casesRadius.Add(\"m4_Oh01_eta03\", caseR_m4eta03);"
   ]
  },
  {
   "cell_type": "code",
   "execution_count": null,
   "metadata": {
    "dotnet_interactive": {
     "language": "csharp"
    }
   },
   "outputs": [],
   "source": [
    "double caseR_m4eta02(double angle) {\n",
    "    double radius = 0.995508 + 0.2*SphericalHarmonics.MyLegendre(4,0,Math.Cos(angle));\n",
    "    return radius; \n",
    "}\n",
    "casesRadius.Add(\"m4_Oh01_eta02\", caseR_m4eta02);"
   ]
  },
  {
   "cell_type": "markdown",
   "metadata": {},
   "source": [
    "Conversion to cartesian coordinates in order to match the data and verification against analytical expression:"
   ]
  },
  {
   "cell_type": "code",
   "execution_count": null,
   "metadata": {
    "dotnet_interactive": {
     "language": "csharp"
    }
   },
   "outputs": [
    {
     "ename": "Error",
     "evalue": "NUnit.Framework.AssertionException:   Error in comparing reference data against Legendre polynomials in BoSSS\r\n  Expected: less than or equal to 1.0000000000000001E-05d\r\n  But was:  0.031625997428843741d\r\n\r\n   at NUnit.Framework.Assert.ReportFailure(String message) in /_/src/NUnitFramework/framework/Assert.cs:line 395\r\n   at NUnit.Framework.Assert.ReportFailure(ConstraintResult result, String message, Object[] args) in /_/src/NUnitFramework/framework/Assert.cs:line 383\r\n   at NUnit.Framework.Assert.That[TActual](TActual actual, IResolveConstraint expression, String message, Object[] args) in /_/src/NUnitFramework/framework/Assert.That.cs:line 229\r\n   at NUnit.Framework.Assert.LessOrEqual(Double arg1, Double arg2, String message, Object[] args) in /_/src/NUnitFramework/framework/Assert.Comparisons.cs:line 943\r\n   at Submission#27.<<Initialize>>d__0.MoveNext()\r\n--- End of stack trace from previous location ---\r\n   at Microsoft.CodeAnalysis.Scripting.ScriptExecutionState.RunSubmissionsAsync[TResult](ImmutableArray`1 precedingExecutors, Func`2 currentExecutor, StrongBox`1 exceptionHolderOpt, Func`2 catchExceptionOpt, CancellationToken cancellationToken)",
     "output_type": "error",
     "traceback": [
      "NUnit.Framework.AssertionException:   Error in comparing reference data against Legendre polynomials in BoSSS\r\n",
      "  Expected: less than or equal to 1.0000000000000001E-05d\r\n",
      "  But was:  0.031625997428843741d\r\n",
      "\r\n",
      "   at NUnit.Framework.Assert.ReportFailure(String message) in /_/src/NUnitFramework/framework/Assert.cs:line 395\r\n",
      "   at NUnit.Framework.Assert.ReportFailure(ConstraintResult result, String message, Object[] args) in /_/src/NUnitFramework/framework/Assert.cs:line 383\r\n",
      "   at NUnit.Framework.Assert.That[TActual](TActual actual, IResolveConstraint expression, String message, Object[] args) in /_/src/NUnitFramework/framework/Assert.That.cs:line 229\r\n",
      "   at NUnit.Framework.Assert.LessOrEqual(Double arg1, Double arg2, String message, Object[] args) in /_/src/NUnitFramework/framework/Assert.Comparisons.cs:line 943\r\n",
      "   at Submission#27.<<Initialize>>d__0.MoveNext()\r\n",
      "--- End of stack trace from previous location ---\r\n",
      "   at Microsoft.CodeAnalysis.Scripting.ScriptExecutionState.RunSubmissionsAsync[TResult](ImmutableArray`1 precedingExecutors, Func`2 currentExecutor, StrongBox`1 exceptionHolderOpt, Func`2 catchExceptionOpt, CancellationToken cancellationToken)"
     ]
    }
   ],
   "source": [
    "double[][] refX = new double[numCases][];\n",
    "double[][] refZ = new double[numCases][];\n",
    "double[][] caseX = new double[numCases][];\n",
    "double[][] caseZ = new double[numCases][];\n",
    "for(int iCase = 0; iCase < numCases; iCase++) {\n",
    "\n",
    "    if(refDataProvided[iCase]) {\n",
    "    double[] angle = ReferenceData[iCase].GetColumn(0);\n",
    "    double[] radius = ReferenceData[iCase].GetColumn(1);\n",
    "       \n",
    "    double RadiusErrorNorm = 0.0;\n",
    "    int I = angle.Length;\n",
    "    double[] x1 = new double[I], z1 = new double[I];\n",
    "    double[] cx1 = new double[I], cz1 = new double[I];\n",
    "    for(int i = 0; i < I; i++) {\n",
    "        x1[i] = Math.Sin(angle[i])*radius[i];\n",
    "        z1[i] = Math.Cos(angle[i])*radius[i];\n",
    "        \n",
    "        double radius_expr = casesRadius[cases[iCase]](angle[i]);\n",
    "        RadiusErrorNorm += (radius[i] - radius_expr).Pow2();     \n",
    "        \n",
    "        cx1[i] = Math.Sin(angle[i])*radius_expr;\n",
    "        cz1[i] = Math.Cos(angle[i])*radius_expr;\n",
    "    } \n",
    "    refX[iCase] = x1;\n",
    "    refZ[iCase] = z1;\n",
    "    caseX[iCase] = cx1;\n",
    "    caseZ[iCase] = cz1;\n",
    "\n",
    "    RadiusErrorNorm = RadiusErrorNorm.Sqrt();\n",
    "    Console.WriteLine($\"Comparison error for radius in case {iCase + 1}: {RadiusErrorNorm}\");\n",
    "    // Note: since the factors in `setup.pdf` are only provided up to 6 digits, an error threshold of 1e-5 seems reasonable.\n",
    "    Assert.LessOrEqual(RadiusErrorNorm, 1e-5, \"Error in comparing reference data against Legendre polynomials in BoSSS\");\n",
    "}\n",
    "}"
   ]
  },
  {
   "cell_type": "markdown",
   "metadata": {},
   "source": [
    "### Plot of Reference Data"
   ]
  },
  {
   "cell_type": "code",
   "execution_count": null,
   "metadata": {
    "dotnet_interactive": {
     "language": "csharp"
    }
   },
   "outputs": [
    {
     "data": {
      "text/html": [
       "<?xml version=\"1.0\" encoding=\"utf-8\"  standalone=\"no\"?>\n",
       "<!DOCTYPE svg PUBLIC \"-//W3C//DTD SVG 1.1//EN\"\n",
       " \"http://www.w3.org/Graphics/SVG/1.1/DTD/svg11.dtd\">\n",
       "<svg \n",
       " width=\"800\" height=\"600\"\n",
       " viewBox=\"0 0 800 600\"\n",
       " xmlns=\"http://www.w3.org/2000/svg\"\n",
       " xmlns:xlink=\"http://www.w3.org/1999/xlink\"\n",
       ">\n",
       "\n",
       "<title>Gnuplot</title>\n",
       "<desc>Produced by GNUPLOT 5.1 patchlevel 0 </desc>\n",
       "\n",
       "<g id=\"gnuplot_canvas\">\n",
       "\n",
       "<rect x=\"0\" y=\"0\" width=\"800\" height=\"600\" fill=\"#ffffff\"/>\n",
       "<defs>\n",
       "\n",
       "\t<circle id='gpDot' r='0.5' stroke-width='0.5'/>\n",
       "\t<path id='gpPt0' stroke-width='0.222' stroke='currentColor' d='M-1,0 h2 M0,-1 v2'/>\n",
       "\t<path id='gpPt1' stroke-width='0.222' stroke='currentColor' d='M-1,-1 L1,1 M1,-1 L-1,1'/>\n",
       "\t<path id='gpPt2' stroke-width='0.222' stroke='currentColor' d='M-1,0 L1,0 M0,-1 L0,1 M-1,-1 L1,1 M-1,1 L1,-1'/>\n",
       "\t<rect id='gpPt3' stroke-width='0.222' stroke='currentColor' x='-1' y='-1' width='2' height='2'/>\n",
       "\t<rect id='gpPt4' stroke-width='0.222' stroke='currentColor' fill='currentColor' x='-1' y='-1' width='2' height='2'/>\n",
       "\t<circle id='gpPt5' stroke-width='0.222' stroke='currentColor' cx='0' cy='0' r='1'/>\n",
       "\t<use xlink:href='#gpPt5' id='gpPt6' fill='currentColor' stroke='none'/>\n",
       "\t<path id='gpPt7' stroke-width='0.222' stroke='currentColor' d='M0,-1.33 L-1.33,0.67 L1.33,0.67 z'/>\n",
       "\t<use xlink:href='#gpPt7' id='gpPt8' fill='currentColor' stroke='none'/>\n",
       "\t<use xlink:href='#gpPt7' id='gpPt9' stroke='currentColor' transform='rotate(180)'/>\n",
       "\t<use xlink:href='#gpPt9' id='gpPt10' fill='currentColor' stroke='none'/>\n",
       "\t<use xlink:href='#gpPt3' id='gpPt11' stroke='currentColor' transform='rotate(45)'/>\n",
       "\t<use xlink:href='#gpPt11' id='gpPt12' fill='currentColor' stroke='none'/>\n",
       "\t<path id='gpPt13' stroke-width='0.222' stroke='currentColor' d='M0,1.330 L1.265,0.411 L0.782,-1.067 L-0.782,-1.076 L-1.265,0.411 z'/>\n",
       "\t<use xlink:href='#gpPt13' id='gpPt14' fill='currentColor' stroke='none'/>\n",
       "\t<filter id='textbox' filterUnits='objectBoundingBox' x='0' y='0' height='1' width='1'>\n",
       "\t  <feFlood flood-color='#FFFFFF' flood-opacity='1' result='bgnd'/>\n",
       "\t  <feComposite in='SourceGraphic' in2='bgnd' operator='atop'/>\n",
       "\t</filter>\n",
       "\t<filter id='greybox' filterUnits='objectBoundingBox' x='0' y='0' height='1' width='1'>\n",
       "\t  <feFlood flood-color='lightgrey' flood-opacity='1' result='grey'/>\n",
       "\t  <feComposite in='SourceGraphic' in2='grey' operator='atop'/>\n",
       "\t</filter>\n",
       "</defs>\n",
       "<g fill=\"none\" color=\"#FFFFFF\" stroke=\"currentColor\" stroke-width=\"1.00\" stroke-linecap=\"butt\" stroke-linejoin=\"miter\">\n",
       "</g>\n",
       "<g fill=\"none\" color=\"black\" stroke=\"currentColor\" stroke-width=\"1.00\" stroke-linecap=\"butt\" stroke-linejoin=\"miter\">\n",
       "\t<path stroke='black'  d='M53.9,564.0 L62.9,564.0 M775.0,564.0 L766.0,564.0  '/>\t<g transform=\"translate(45.6,568.5)\" stroke=\"none\" fill=\"black\" font-family=\"Arial\" font-size=\"12.00\"  text-anchor=\"end\">\n",
       "\t\t<text><tspan font-family=\"Arial\" >-1</tspan></text>\n",
       "\t</g>\n",
       "</g>\n",
       "<g fill=\"none\" color=\"black\" stroke=\"currentColor\" stroke-width=\"1.00\" stroke-linecap=\"butt\" stroke-linejoin=\"miter\">\n",
       "\t<path stroke='black'  d='M53.9,454.5 L62.9,454.5 M775.0,454.5 L766.0,454.5  '/>\t<g transform=\"translate(45.6,459.0)\" stroke=\"none\" fill=\"black\" font-family=\"Arial\" font-size=\"12.00\"  text-anchor=\"end\">\n",
       "\t\t<text><tspan font-family=\"Arial\" >-0.5</tspan></text>\n",
       "\t</g>\n",
       "</g>\n",
       "<g fill=\"none\" color=\"black\" stroke=\"currentColor\" stroke-width=\"1.00\" stroke-linecap=\"butt\" stroke-linejoin=\"miter\">\n",
       "\t<path stroke='black'  d='M53.9,345.1 L62.9,345.1 M775.0,345.1 L766.0,345.1  '/>\t<g transform=\"translate(45.6,349.6)\" stroke=\"none\" fill=\"black\" font-family=\"Arial\" font-size=\"12.00\"  text-anchor=\"end\">\n",
       "\t\t<text><tspan font-family=\"Arial\" > 0</tspan></text>\n",
       "\t</g>\n",
       "</g>\n",
       "<g fill=\"none\" color=\"black\" stroke=\"currentColor\" stroke-width=\"1.00\" stroke-linecap=\"butt\" stroke-linejoin=\"miter\">\n",
       "\t<path stroke='black'  d='M53.9,235.6 L62.9,235.6 M775.0,235.6 L766.0,235.6  '/>\t<g transform=\"translate(45.6,240.1)\" stroke=\"none\" fill=\"black\" font-family=\"Arial\" font-size=\"12.00\"  text-anchor=\"end\">\n",
       "\t\t<text><tspan font-family=\"Arial\" > 0.5</tspan></text>\n",
       "\t</g>\n",
       "</g>\n",
       "<g fill=\"none\" color=\"black\" stroke=\"currentColor\" stroke-width=\"1.00\" stroke-linecap=\"butt\" stroke-linejoin=\"miter\">\n",
       "\t<path stroke='black'  d='M53.9,126.2 L62.9,126.2 M775.0,126.2 L766.0,126.2  '/>\t<g transform=\"translate(45.6,130.7)\" stroke=\"none\" fill=\"black\" font-family=\"Arial\" font-size=\"12.00\"  text-anchor=\"end\">\n",
       "\t\t<text><tspan font-family=\"Arial\" > 1</tspan></text>\n",
       "\t</g>\n",
       "</g>\n",
       "<g fill=\"none\" color=\"black\" stroke=\"currentColor\" stroke-width=\"1.00\" stroke-linecap=\"butt\" stroke-linejoin=\"miter\">\n",
       "\t<path stroke='black'  d='M53.9,16.7 L62.9,16.7 M775.0,16.7 L766.0,16.7  '/>\t<g transform=\"translate(45.6,21.2)\" stroke=\"none\" fill=\"black\" font-family=\"Arial\" font-size=\"12.00\"  text-anchor=\"end\">\n",
       "\t\t<text><tspan font-family=\"Arial\" > 1.5</tspan></text>\n",
       "\t</g>\n",
       "</g>\n",
       "<g fill=\"none\" color=\"black\" stroke=\"currentColor\" stroke-width=\"1.00\" stroke-linecap=\"butt\" stroke-linejoin=\"miter\">\n",
       "\t<path stroke='black'  d='M53.9,564.0 L53.9,555.0 M53.9,16.7 L53.9,25.7  '/>\t<g transform=\"translate(53.9,586.5)\" stroke=\"none\" fill=\"black\" font-family=\"Arial\" font-size=\"12.00\"  text-anchor=\"middle\">\n",
       "\t\t<text><tspan font-family=\"Arial\" > 0</tspan></text>\n",
       "\t</g>\n",
       "</g>\n",
       "<g fill=\"none\" color=\"black\" stroke=\"currentColor\" stroke-width=\"1.00\" stroke-linecap=\"butt\" stroke-linejoin=\"miter\">\n",
       "\t<path stroke='black'  d='M174.1,564.0 L174.1,555.0 M174.1,16.7 L174.1,25.7  '/>\t<g transform=\"translate(174.1,586.5)\" stroke=\"none\" fill=\"black\" font-family=\"Arial\" font-size=\"12.00\"  text-anchor=\"middle\">\n",
       "\t\t<text><tspan font-family=\"Arial\" > 0.2</tspan></text>\n",
       "\t</g>\n",
       "</g>\n",
       "<g fill=\"none\" color=\"black\" stroke=\"currentColor\" stroke-width=\"1.00\" stroke-linecap=\"butt\" stroke-linejoin=\"miter\">\n",
       "\t<path stroke='black'  d='M294.3,564.0 L294.3,555.0 M294.3,16.7 L294.3,25.7  '/>\t<g transform=\"translate(294.3,586.5)\" stroke=\"none\" fill=\"black\" font-family=\"Arial\" font-size=\"12.00\"  text-anchor=\"middle\">\n",
       "\t\t<text><tspan font-family=\"Arial\" > 0.4</tspan></text>\n",
       "\t</g>\n",
       "</g>\n",
       "<g fill=\"none\" color=\"black\" stroke=\"currentColor\" stroke-width=\"1.00\" stroke-linecap=\"butt\" stroke-linejoin=\"miter\">\n",
       "\t<path stroke='black'  d='M414.5,564.0 L414.5,555.0 M414.5,16.7 L414.5,25.7  '/>\t<g transform=\"translate(414.5,586.5)\" stroke=\"none\" fill=\"black\" font-family=\"Arial\" font-size=\"12.00\"  text-anchor=\"middle\">\n",
       "\t\t<text><tspan font-family=\"Arial\" > 0.6</tspan></text>\n",
       "\t</g>\n",
       "</g>\n",
       "<g fill=\"none\" color=\"black\" stroke=\"currentColor\" stroke-width=\"1.00\" stroke-linecap=\"butt\" stroke-linejoin=\"miter\">\n",
       "\t<path stroke='black'  d='M534.6,564.0 L534.6,555.0 M534.6,16.7 L534.6,25.7  '/>\t<g transform=\"translate(534.6,586.5)\" stroke=\"none\" fill=\"black\" font-family=\"Arial\" font-size=\"12.00\"  text-anchor=\"middle\">\n",
       "\t\t<text><tspan font-family=\"Arial\" > 0.8</tspan></text>\n",
       "\t</g>\n",
       "</g>\n",
       "<g fill=\"none\" color=\"black\" stroke=\"currentColor\" stroke-width=\"1.00\" stroke-linecap=\"butt\" stroke-linejoin=\"miter\">\n",
       "\t<path stroke='black'  d='M654.8,564.0 L654.8,555.0 M654.8,16.7 L654.8,25.7  '/>\t<g transform=\"translate(654.8,586.5)\" stroke=\"none\" fill=\"black\" font-family=\"Arial\" font-size=\"12.00\"  text-anchor=\"middle\">\n",
       "\t\t<text><tspan font-family=\"Arial\" > 1</tspan></text>\n",
       "\t</g>\n",
       "</g>\n",
       "<g fill=\"none\" color=\"black\" stroke=\"currentColor\" stroke-width=\"1.00\" stroke-linecap=\"butt\" stroke-linejoin=\"miter\">\n",
       "\t<path stroke='black'  d='M775.0,564.0 L775.0,555.0 M775.0,16.7 L775.0,25.7  '/>\t<g transform=\"translate(775.0,586.5)\" stroke=\"none\" fill=\"black\" font-family=\"Arial\" font-size=\"12.00\"  text-anchor=\"middle\">\n",
       "\t\t<text><tspan font-family=\"Arial\" > 1.2</tspan></text>\n",
       "\t</g>\n",
       "</g>\n",
       "<g fill=\"none\" color=\"black\" stroke=\"currentColor\" stroke-width=\"1.00\" stroke-linecap=\"butt\" stroke-linejoin=\"miter\">\n",
       "</g>\n",
       "<g fill=\"none\" color=\"black\" stroke=\"currentColor\" stroke-width=\"1.00\" stroke-linecap=\"butt\" stroke-linejoin=\"miter\">\n",
       "\t<path stroke='black'  d='M53.9,16.7 L53.9,564.0 L775.0,564.0 L775.0,16.7 L53.9,16.7 Z  '/></g>\n",
       "<g fill=\"none\" color=\"black\" stroke=\"currentColor\" stroke-width=\"1.00\" stroke-linecap=\"butt\" stroke-linejoin=\"miter\">\n",
       "</g>\n",
       "\t<g id=\"gnuplot_plot_1\" ><title>Ref-Case</title>\n",
       "<g fill=\"none\" color=\"black\" stroke=\"currentColor\" stroke-width=\"1.00\" stroke-linecap=\"butt\" stroke-linejoin=\"miter\">\n",
       "\t<g transform=\"translate(707.9,39.2)\" stroke=\"none\" fill=\"black\" font-family=\"Arial\" font-size=\"12.00\"  text-anchor=\"end\">\n",
       "\t\t<text><tspan font-family=\"Arial\" >Ref-Case</tspan></text>\n",
       "\t</g>\n",
       "</g>\n",
       "<g fill=\"none\" color=\"black\" stroke=\"currentColor\" stroke-width=\"1.00\" stroke-linecap=\"butt\" stroke-linejoin=\"miter\">\n",
       "\t<path stroke='rgb(  0,   0,   0)'  d='M716.2,34.7 L758.4,34.7 M61.6,63.9 L69.3,64.0 L77.0,64.2 L84.7,64.4 L92.4,64.7 L100.1,65.1\n",
       "\t\tL107.7,65.5 L115.3,66.0 L122.9,66.6 L130.4,67.2 L137.9,67.9 L145.4,68.7 L152.8,69.5 L160.2,70.4\n",
       "\t\tL167.5,71.3 L174.7,72.3 L181.9,73.4 L189.0,74.5 L196.1,75.7 L203.1,77.0 L210.0,78.3 L216.9,79.6\n",
       "\t\tL223.6,81.0 L230.3,82.5 L236.9,84.0 L243.4,85.6 L249.8,87.2 L256.2,88.8 L262.4,90.5 L268.6,92.3\n",
       "\t\tL274.6,94.1 L280.6,95.9 L286.4,97.8 L292.2,99.7 L297.8,101.6 L303.4,103.6 L308.8,105.7 L314.1,107.7\n",
       "\t\tL319.4,109.8 L324.5,111.9 L329.5,114.1 L334.4,116.2 L339.2,118.4 L343.9,120.6 L348.5,122.9 L353.0,125.1\n",
       "\t\tL357.4,127.4 L361.7,129.7 L365.8,132.0 L369.9,134.3 L373.9,136.7 L377.7,139.0 L381.5,141.4 L385.2,143.7\n",
       "\t\tL388.7,146.1 L392.2,148.5 L395.6,150.9 L398.9,153.3 L402.1,155.6 L405.2,158.0 L408.2,160.4 L411.1,162.8\n",
       "\t\tL414.0,165.1 L416.8,167.5 L419.5,169.9 L422.1,172.2 L424.7,174.6 L427.2,176.9 L429.6,179.2 L432.0,181.6\n",
       "\t\tL434.3,183.9 L436.5,186.2 L438.7,188.4 L440.9,190.7 L443.0,192.9 L445.0,195.2 L447.0,197.4 L449.0,199.6\n",
       "\t\tL450.9,201.8 L452.9,203.9 L454.7,206.1 L456.6,208.2 L458.4,210.3 L460.3,212.4 L462.1,214.5 L463.8,216.5\n",
       "\t\tL465.6,218.5 L467.4,220.5 L469.2,222.5 L470.9,224.5 L472.7,226.5 L474.5,228.4 L476.3,230.3 L478.1,232.2\n",
       "\t\tL479.9,234.1 L481.7,236.0 L483.6,237.8 L485.4,239.6 L487.3,241.4 L489.2,243.2 L491.2,245.0 L493.1,246.8\n",
       "\t\tL495.1,248.5 L497.2,250.3 L499.2,252.0 L501.3,253.7 L503.5,255.4 L505.6,257.1 L507.9,258.8 L510.1,260.5\n",
       "\t\tL512.4,262.2 L514.7,263.8 L517.1,265.5 L519.5,267.1 L522.0,268.8 L524.5,270.4 L527.0,272.0 L529.6,273.7\n",
       "\t\tL532.3,275.3 L534.9,276.9 L537.6,278.6 L540.4,280.2 L543.2,281.9 L546.0,283.5 L548.9,285.2 L551.8,286.8\n",
       "\t\tL554.7,288.5 L557.7,290.2 L560.7,291.8 L563.7,293.5 L566.8,295.2 L569.8,296.9 L572.9,298.6 L576.1,300.4\n",
       "\t\tL579.2,302.1 L582.4,303.9 L585.5,305.7 L588.7,307.4 L591.9,309.3 L595.1,311.1 L598.3,312.9 L601.5,314.8\n",
       "\t\tL604.7,316.6 L607.9,318.5 L611.0,320.4 L614.2,322.4 L617.3,324.3 L620.4,326.3 L623.5,328.3 L626.6,330.3\n",
       "\t\tL629.6,332.3 L632.6,334.4 L635.5,336.4 L638.5,338.5 L641.3,340.6 L644.1,342.8 L646.9,344.9 L649.6,347.1\n",
       "\t\tL652.2,349.3 L654.8,351.5 L657.3,353.7 L659.7,355.9 L662.0,358.2 L664.3,360.5 L666.5,362.8 L668.5,365.1\n",
       "\t\tL670.5,367.4 L672.4,369.8 L674.2,372.1 L675.9,374.5 L677.5,376.9 L679.0,379.3 L680.4,381.7 L681.6,384.1\n",
       "\t\tL682.8,386.6 L683.8,389.0 L684.7,391.5 L685.5,393.9 L686.1,396.4 L686.6,398.9 L687.0,401.3 L687.2,403.8\n",
       "\t\tL687.3,406.3 L687.3,408.7 L687.1,411.2 L686.8,413.7 L686.3,416.1 L685.7,418.6 L684.9,421.1 L684.0,423.5\n",
       "\t\tL683.0,425.9 L681.8,428.4 L680.4,430.8 L678.9,433.2 L677.2,435.6 L675.4,437.9 L673.4,440.3 L671.3,442.6\n",
       "\t\tL669.1,444.9 L666.7,447.2 L664.1,449.5 L661.4,451.8 L658.5,454.0 L655.5,456.2 L652.3,458.4 L649.0,460.5\n",
       "\t\tL645.6,462.6 L642.0,464.7 L638.3,466.7 L634.4,468.8 L630.4,470.7 L626.3,472.7 L622.0,474.6 L617.6,476.5\n",
       "\t\tL613.1,478.3 L608.4,480.1 L603.6,481.9 L598.7,483.6 L593.7,485.2 L588.6,486.9 L583.4,488.5 L578.0,490.0\n",
       "\t\tL572.6,491.5 L567.1,493.0 L561.4,494.4 L555.7,495.7 L549.9,497.0 L544.0,498.3 L538.0,499.5 L531.9,500.7\n",
       "\t\tL525.8,501.8 L519.6,502.9 L513.3,503.9 L507.0,504.9 L500.6,505.8 L494.2,506.7 L487.7,507.5 L481.2,508.3\n",
       "\t\tL474.6,509.1 L468.0,509.8 L461.3,510.4 L454.6,511.0 L447.9,511.6 L441.2,512.1 L434.5,512.5 L427.7,512.9\n",
       "\t\tL420.9,513.3 L414.2,513.6 L407.4,513.9 L400.6,514.2 L393.8,514.4 L387.1,514.5 L380.3,514.6 L373.6,514.7\n",
       "\t\tL366.8,514.8 L360.2,514.8 L353.5,514.8 L346.8,514.7 L340.2,514.6 L333.6,514.5 L327.1,514.3 L320.6,514.1\n",
       "\t\tL314.1,513.9 L307.7,513.7 L301.3,513.4 L295.0,513.1 L288.7,512.8 L282.5,512.5 L276.3,512.1 L270.2,511.7\n",
       "\t\tL264.1,511.3 L258.1,510.9 L252.1,510.5 L246.2,510.1 L240.4,509.6 L234.6,509.2 L228.9,508.7 L223.3,508.2\n",
       "\t\tL217.7,507.7 L212.2,507.2 L206.7,506.7 L201.3,506.3 L196.0,505.8 L190.7,505.3 L185.5,504.8 L180.3,504.3\n",
       "\t\tL175.2,503.8 L170.2,503.3 L165.2,502.8 L160.3,502.4 L155.4,501.9 L150.6,501.5 L145.9,501.0 L141.2,500.6\n",
       "\t\tL136.5,500.2 L131.9,499.8 L127.3,499.4 L122.8,499.1 L118.3,498.7 L113.9,498.4 L109.5,498.1 L105.1,497.8\n",
       "\t\tL100.8,497.5 L96.5,497.3 L92.2,497.1 L88.0,496.9 L83.7,496.7 L79.5,496.5 L75.3,496.4 L71.2,496.3\n",
       "\t\tL67.0,496.2 L62.9,496.1 L58.7,496.1 L54.6,496.1  '/></g>\n",
       "\t</g>\n",
       "\t<g id=\"gnuplot_plot_2\" ><title>Case</title>\n",
       "<g fill=\"none\" color=\"black\" stroke=\"currentColor\" stroke-width=\"1.00\" stroke-linecap=\"butt\" stroke-linejoin=\"miter\">\n",
       "\t<g transform=\"translate(707.9,57.2)\" stroke=\"none\" fill=\"black\" font-family=\"Arial\" font-size=\"12.00\"  text-anchor=\"end\">\n",
       "\t\t<text><tspan font-family=\"Arial\" >Case</tspan></text>\n",
       "\t</g>\n",
       "</g>\n",
       "<g fill=\"none\" color=\"black\" stroke=\"currentColor\" stroke-width=\"1.00\" stroke-linecap=\"butt\" stroke-linejoin=\"miter\">\n",
       "\t<path stroke='rgb(  0,   0, 255)'  d='M716.2,52.7 L758.4,52.7 M61.6,63.3 L69.4,63.4 L77.1,63.6 L84.8,63.8 L92.5,64.1 L100.2,64.5\n",
       "\t\tL107.8,64.9 L115.4,65.5 L123.0,66.0 L130.6,66.7 L138.1,67.4 L145.6,68.1 L153.0,68.9 L160.4,69.8\n",
       "\t\tL167.7,70.8 L175.0,71.8 L182.2,72.9 L189.3,74.0 L196.4,75.2 L203.4,76.4 L210.3,77.7 L217.2,79.1\n",
       "\t\tL224.0,80.5 L230.6,82.0 L237.3,83.5 L243.8,85.0 L250.2,86.7 L256.6,88.3 L262.8,90.0 L269.0,91.8\n",
       "\t\tL275.0,93.6 L281.0,95.4 L286.9,97.3 L292.6,99.2 L298.3,101.2 L303.9,103.1 L309.3,105.2 L314.7,107.2\n",
       "\t\tL319.9,109.3 L325.0,111.4 L330.1,113.6 L335.0,115.8 L339.8,118.0 L344.5,120.2 L349.1,122.4 L353.6,124.7\n",
       "\t\tL358.0,127.0 L362.3,129.3 L366.5,131.6 L370.6,133.9 L374.5,136.3 L378.4,138.6 L382.2,141.0 L385.8,143.3\n",
       "\t\tL389.4,145.7 L392.9,148.1 L396.3,150.5 L399.6,152.9 L402.8,155.3 L405.9,157.6 L408.9,160.0 L411.9,162.4\n",
       "\t\tL414.7,164.8 L417.5,167.2 L420.2,169.5 L422.9,171.9 L425.4,174.2 L427.9,176.6 L430.3,178.9 L432.7,181.2\n",
       "\t\tL435.0,183.5 L437.3,185.8 L439.5,188.1 L441.6,190.4 L443.7,192.6 L445.8,194.9 L447.8,197.1 L449.8,199.3\n",
       "\t\tL451.7,201.5 L453.6,203.7 L455.5,205.8 L457.4,207.9 L459.2,210.0 L461.0,212.1 L462.8,214.2 L464.6,216.3\n",
       "\t\tL466.4,218.3 L468.2,220.3 L469.9,222.3 L471.7,224.3 L473.5,226.3 L475.2,228.2 L477.0,230.1 L478.8,232.0\n",
       "\t\tL480.6,233.9 L482.4,235.8 L484.3,237.6 L486.1,239.5 L488.0,241.3 L489.9,243.1 L491.9,244.9 L493.8,246.6\n",
       "\t\tL495.8,248.4 L497.8,250.1 L499.9,251.9 L502.0,253.6 L504.1,255.3 L506.3,257.0 L508.5,258.7 L510.7,260.4\n",
       "\t\tL513.0,262.0 L515.3,263.7 L517.7,265.4 L520.1,267.0 L522.6,268.7 L525.1,270.3 L527.6,272.0 L530.2,273.6\n",
       "\t\tL532.8,275.2 L535.4,276.9 L538.1,278.5 L540.9,280.2 L543.7,281.8 L546.5,283.5 L549.3,285.1 L552.2,286.8\n",
       "\t\tL555.1,288.4 L558.1,290.1 L561.1,291.8 L564.1,293.5 L567.1,295.2 L570.2,296.9 L573.3,298.6 L576.4,300.4\n",
       "\t\tL579.5,302.1 L582.7,303.9 L585.8,305.6 L589.0,307.4 L592.2,309.2 L595.3,311.1 L598.5,312.9 L601.7,314.8\n",
       "\t\tL604.9,316.6 L608.0,318.5 L611.2,320.4 L614.3,322.4 L617.5,324.3 L620.6,326.3 L623.6,328.3 L626.7,330.3\n",
       "\t\tL629.7,332.3 L632.7,334.4 L635.6,336.4 L638.5,338.5 L641.3,340.6 L644.1,342.8 L646.9,344.9 L649.6,347.1\n",
       "\t\tL652.2,349.3 L654.7,351.5 L657.2,353.7 L659.6,355.9 L661.9,358.2 L664.2,360.5 L666.3,362.8 L668.4,365.1\n",
       "\t\tL670.4,367.4 L672.3,369.8 L674.1,372.1 L675.7,374.5 L677.3,376.9 L678.8,379.3 L680.1,381.7 L681.4,384.1\n",
       "\t\tL682.5,386.6 L683.5,389.0 L684.4,391.5 L685.1,393.9 L685.8,396.4 L686.3,398.8 L686.6,401.3 L686.8,403.8\n",
       "\t\tL686.9,406.2 L686.9,408.7 L686.7,411.2 L686.4,413.6 L685.9,416.1 L685.2,418.6 L684.5,421.0 L683.6,423.4\n",
       "\t\tL682.5,425.9 L681.3,428.3 L679.9,430.7 L678.4,433.1 L676.7,435.5 L674.9,437.9 L672.9,440.2 L670.8,442.5\n",
       "\t\tL668.5,444.9 L666.1,447.1 L663.5,449.4 L660.8,451.7 L657.9,453.9 L654.9,456.1 L651.7,458.2 L648.4,460.4\n",
       "\t\tL644.9,462.5 L641.3,464.6 L637.6,466.6 L633.7,468.6 L629.7,470.6 L625.6,472.5 L621.3,474.4 L616.9,476.3\n",
       "\t\tL612.4,478.1 L607.7,479.9 L602.9,481.7 L598.0,483.4 L593.0,485.1 L587.9,486.7 L582.7,488.3 L577.3,489.8\n",
       "\t\tL571.9,491.3 L566.3,492.7 L560.7,494.1 L555.0,495.5 L549.1,496.8 L543.2,498.1 L537.3,499.3 L531.2,500.4\n",
       "\t\tL525.1,501.6 L518.9,502.6 L512.6,503.7 L506.3,504.6 L499.9,505.6 L493.4,506.4 L486.9,507.3 L480.4,508.0\n",
       "\t\tL473.8,508.8 L467.2,509.5 L460.6,510.1 L453.9,510.7 L447.2,511.2 L440.5,511.7 L433.7,512.2 L427.0,512.6\n",
       "\t\tL420.2,513.0 L413.4,513.3 L406.6,513.6 L399.9,513.8 L393.1,514.0 L386.3,514.2 L379.6,514.3 L372.9,514.4\n",
       "\t\tL366.1,514.4 L359.5,514.4 L352.8,514.4 L346.1,514.3 L339.5,514.2 L333.0,514.1 L326.4,513.9 L319.9,513.7\n",
       "\t\tL313.5,513.5 L307.0,513.3 L300.7,513.0 L294.4,512.7 L288.1,512.4 L281.9,512.0 L275.7,511.7 L269.6,511.3\n",
       "\t\tL263.5,510.9 L257.5,510.5 L251.6,510.0 L245.7,509.6 L239.9,509.2 L234.1,508.7 L228.4,508.2 L222.8,507.7\n",
       "\t\tL217.2,507.2 L211.7,506.8 L206.2,506.3 L200.8,505.8 L195.5,505.3 L190.2,504.8 L185.0,504.3 L179.9,503.8\n",
       "\t\tL174.8,503.3 L169.8,502.8 L164.8,502.3 L159.9,501.9 L155.1,501.4 L150.3,500.9 L145.5,500.5 L140.9,500.1\n",
       "\t\tL136.2,499.7 L131.6,499.3 L127.1,498.9 L122.6,498.5 L118.1,498.2 L113.7,497.9 L109.3,497.6 L104.9,497.3\n",
       "\t\tL100.6,497.0 L96.3,496.7 L92.1,496.5 L87.8,496.3 L83.6,496.1 L79.4,496.0 L75.3,495.8 L71.1,495.7\n",
       "\t\tL67.0,495.6 L62.8,495.6 L58.7,495.5 L54.6,495.5  '/></g>\n",
       "\t</g>\n",
       "<g fill=\"none\" color=\"#FFFFFF\" stroke=\"rgb(  0,   0, 255)\" stroke-width=\"2.00\" stroke-linecap=\"butt\" stroke-linejoin=\"miter\">\n",
       "</g>\n",
       "<g fill=\"none\" color=\"black\" stroke=\"currentColor\" stroke-width=\"2.00\" stroke-linecap=\"butt\" stroke-linejoin=\"miter\">\n",
       "</g>\n",
       "<g fill=\"none\" color=\"black\" stroke=\"black\" stroke-width=\"1.00\" stroke-linecap=\"butt\" stroke-linejoin=\"miter\">\n",
       "</g>\n",
       "<g fill=\"none\" color=\"black\" stroke=\"currentColor\" stroke-width=\"1.00\" stroke-linecap=\"butt\" stroke-linejoin=\"miter\">\n",
       "\t<path stroke='black'  d='M53.9,16.7 L53.9,564.0 L775.0,564.0 L775.0,16.7 L53.9,16.7 Z  '/></g>\n",
       "<g fill=\"none\" color=\"black\" stroke=\"currentColor\" stroke-width=\"1.00\" stroke-linecap=\"butt\" stroke-linejoin=\"miter\">\n",
       "</g>\n",
       "</g>\n",
       "</svg>\n",
       "\n"
      ]
     },
     "metadata": {},
     "output_type": "display_data"
    }
   ],
   "source": [
    "int refCase = 0;\n",
    "Plot(refX[refCase], refZ[refCase], \"Ref-Case\", \". black\",\n",
    "    caseX[refCase], caseZ[refCase], \"Case\", \". blue\")"
   ]
  },
  {
   "cell_type": "markdown",
   "metadata": {},
   "source": [
    "### Matching of the Spherical Harmonics against the provided Data"
   ]
  },
  {
   "cell_type": "code",
   "execution_count": null,
   "metadata": {
    "dotnet_interactive": {
     "language": "csharp"
    }
   },
   "outputs": [],
   "source": [
    "Dictionary<string, Formula> casesPhi = new Dictionary<string, Formula>();"
   ]
  },
  {
   "cell_type": "code",
   "execution_count": null,
   "metadata": {
    "dotnet_interactive": {
     "language": "csharp"
    }
   },
   "outputs": [],
   "source": [
    "var Phi_m2eta07_Init = new Formula(\n",
    "\"Phi1\",\n",
    "false,\n",
    "\"using ilPSP.Utils; \" + \n",
    "\"double Phi1(double[] X) { \" + \n",
    "\"    (double theta, double phi) = SphericalHarmonics.GetAngular(X); \" + \n",
    "\"    double R =    0.895131*SphericalHarmonics.MyRealSpherical(0, 0, theta, phi) \" + \n",
    "\"                +      0.7*SphericalHarmonics.MyRealSpherical(2, 0, theta, phi); \" + \n",
    "\"    return X.L2Norm() - R; \" + \n",
    "\"}\");\n",
    "casesPhi.Add(\"m2_Oh01_eta07\", Phi_m2eta07_Init);"
   ]
  },
  {
   "cell_type": "code",
   "execution_count": null,
   "metadata": {
    "dotnet_interactive": {
     "language": "csharp"
    }
   },
   "outputs": [],
   "source": [
    "var Phi_m2eta06_Init = new Formula(\n",
    "\"Phi4\",\n",
    "false,\n",
    "\"using ilPSP.Utils; \" + \n",
    "\"double Phi4(double[] X) { \" + \n",
    "\"    (double theta, double phi) = SphericalHarmonics.GetAngular(X); \" + \n",
    "\"    double R =    0.923706*SphericalHarmonics.MyRealSpherical(0, 0, theta, phi) \" + \n",
    "\"                +      0.6*SphericalHarmonics.MyRealSpherical(2, 0, theta, phi); \" + \n",
    "\"    return X.L2Norm() - R; \" + \n",
    "\"} \");\n",
    "casesPhi.Add(\"m2_Oh01_eta06\", Phi_m2eta06_Init);"
   ]
  },
  {
   "cell_type": "code",
   "execution_count": null,
   "metadata": {
    "dotnet_interactive": {
     "language": "csharp"
    }
   },
   "outputs": [],
   "source": [
    "var Phi_m2eta05_Init = new Formula(\n",
    "\"Phi4\",\n",
    "false,\n",
    "\"using ilPSP.Utils; \" + \n",
    "\"double Phi4(double[] X) { \" + \n",
    "\"    (double theta, double phi) = SphericalHarmonics.GetAngular(X); \" + \n",
    "\"    double R =    0.947538*SphericalHarmonics.MyRealSpherical(0, 0, theta, phi) \" + \n",
    "\"                +      0.5*SphericalHarmonics.MyRealSpherical(2, 0, theta, phi); \" + \n",
    "\"    return X.L2Norm() - R; \" + \n",
    "\"} \");\n",
    "casesPhi.Add(\"m2_Oh01_eta05\", Phi_m2eta05_Init);"
   ]
  },
  {
   "cell_type": "code",
   "execution_count": null,
   "metadata": {
    "dotnet_interactive": {
     "language": "csharp"
    }
   },
   "outputs": [],
   "source": [
    "var Phi_m2eta03_Init = new Formula(\n",
    "\"Phi4\",\n",
    "false,\n",
    "\"using ilPSP.Utils; \" + \n",
    "\"double Phi4(double[] X) { \" + \n",
    "\"    (double theta, double phi) = SphericalHarmonics.GetAngular(X); \" + \n",
    "\"    double R =    0.981486*SphericalHarmonics.MyRealSpherical(0, 0, theta, phi) \" + \n",
    "\"                +      0.3*SphericalHarmonics.MyRealSpherical(2, 0, theta, phi); \" + \n",
    "\"    return X.L2Norm() - R; \" + \n",
    "\"} \");\n",
    "casesPhi.Add(\"m2_Oh01_eta03\", Phi_m2eta03_Init);"
   ]
  },
  {
   "cell_type": "code",
   "execution_count": null,
   "metadata": {
    "dotnet_interactive": {
     "language": "csharp"
    }
   },
   "outputs": [],
   "source": [
    "var Phi_m3eta07_Init = new Formula(\n",
    "\"Phi2\",\n",
    "false,\n",
    "\"using ilPSP.Utils; \" + \n",
    "\"double Phi2(double[] X) { \" + \n",
    "\"    (double theta, double phi) = SphericalHarmonics.GetAngular(X); \" + \n",
    "\"    double R =    0.930122*SphericalHarmonics.MyRealSpherical(0, 0, theta, phi) \" + \n",
    "\"                +      0.7*SphericalHarmonics.MyRealSpherical(3, 0, theta, phi); \" + \n",
    "\"    return X.L2Norm() - R; \" + \n",
    "\"} \");\n",
    "casesPhi.Add(\"m3_Oh01_eta07\", Phi_m3eta07_Init);"
   ]
  },
  {
   "cell_type": "code",
   "execution_count": null,
   "metadata": {
    "dotnet_interactive": {
     "language": "csharp"
    }
   },
   "outputs": [],
   "source": [
    "var Phi_m3eta06_Init = new Formula(\n",
    "\"Phi2\",\n",
    "false,\n",
    "\"using ilPSP.Utils; \" + \n",
    "\"double Phi2(double[] X) { \" + \n",
    "\"    (double theta, double phi) = SphericalHarmonics.GetAngular(X); \" + \n",
    "\"    double R =    0.948619*SphericalHarmonics.MyRealSpherical(0, 0, theta, phi) \" + \n",
    "\"                +      0.6*SphericalHarmonics.MyRealSpherical(3, 0, theta, phi); \" + \n",
    "\"    return X.L2Norm() - R; \" + \n",
    "\"} \");\n",
    "casesPhi.Add(\"m3_Oh01_eta06\", Phi_m3eta06_Init);"
   ]
  },
  {
   "cell_type": "code",
   "execution_count": null,
   "metadata": {
    "dotnet_interactive": {
     "language": "csharp"
    }
   },
   "outputs": [],
   "source": [
    "var Phi_m3eta05_Init = new Formula(\n",
    "\"Phi2\",\n",
    "false,\n",
    "\"using ilPSP.Utils; \" + \n",
    "\"double Phi2(double[] X) { \" + \n",
    "\"    (double theta, double phi) = SphericalHarmonics.GetAngular(X); \" + \n",
    "\"    double R =    0.964301*SphericalHarmonics.MyRealSpherical(0, 0, theta, phi) \" + \n",
    "\"                +      0.5*SphericalHarmonics.MyRealSpherical(3, 0, theta, phi); \" + \n",
    "\"    return X.L2Norm() - R; \" + \n",
    "\"} \");\n",
    "casesPhi.Add(\"m3_Oh01_eta05\", Phi_m3eta05_Init);"
   ]
  },
  {
   "cell_type": "code",
   "execution_count": null,
   "metadata": {
    "dotnet_interactive": {
     "language": "csharp"
    }
   },
   "outputs": [],
   "source": [
    "var Phi_m3eta03_Init = new Formula(\n",
    "\"Phi2\",\n",
    "false,\n",
    "\"using ilPSP.Utils; \" + \n",
    "\"double Phi2(double[] X) { \" + \n",
    "\"    (double theta, double phi) = SphericalHarmonics.GetAngular(X); \" + \n",
    "\"    double R =    0.987144*SphericalHarmonics.MyRealSpherical(0, 0, theta, phi) \" + \n",
    "\"                +      0.3*SphericalHarmonics.MyRealSpherical(3, 0, theta, phi); \" + \n",
    "\"    return X.L2Norm() - R; \" + \n",
    "\"} \");\n",
    "casesPhi.Add(\"m3_Oh01_eta03\", Phi_m3eta03_Init);"
   ]
  },
  {
   "cell_type": "code",
   "execution_count": null,
   "metadata": {
    "dotnet_interactive": {
     "language": "csharp"
    }
   },
   "outputs": [],
   "source": [
    "var Phi_m4eta07_Init = new Formula(\n",
    "\"Phi3\",\n",
    "false,\n",
    "\"using ilPSP.Utils; \" + \n",
    "\"double Phi3(double[] X) { \" +    \n",
    "\"    (double theta, double phi) = SphericalHarmonics.GetAngular(X); \" + \n",
    "\"    double R =    0.943440*SphericalHarmonics.MyRealSpherical(0, 0, theta, phi) \" + \n",
    "\"                +      0.7*SphericalHarmonics.MyRealSpherical(4, 0, theta, phi); \" + \n",
    "\"    return X.L2Norm() - R; \" + \n",
    "\"} \");\n",
    "casesPhi.Add(\"m4_Oh01_eta07\", Phi_m4eta07_Init);"
   ]
  },
  {
   "cell_type": "code",
   "execution_count": null,
   "metadata": {
    "dotnet_interactive": {
     "language": "csharp"
    }
   },
   "outputs": [],
   "source": [
    "var Phi_m4eta06_Init = new Formula(\n",
    "\"Phi3\",\n",
    "false,\n",
    "\"using ilPSP.Utils; \" + \n",
    "\"double Phi3(double[] X) { \" +    \n",
    "\"    (double theta, double phi) = SphericalHarmonics.GetAngular(X); \" + \n",
    "\"    double R =    0.958674*SphericalHarmonics.MyRealSpherical(0, 0, theta, phi) \" + \n",
    "\"                +      0.6*SphericalHarmonics.MyRealSpherical(4, 0, theta, phi); \" + \n",
    "\"    return X.L2Norm() - R; \" + \n",
    "\"} \");\n",
    "casesPhi.Add(\"m4_Oh01_eta06\", Phi_m4eta06_Init);"
   ]
  },
  {
   "cell_type": "code",
   "execution_count": null,
   "metadata": {
    "dotnet_interactive": {
     "language": "csharp"
    }
   },
   "outputs": [],
   "source": [
    "var Phi_m4eta05_Init = new Formula(\n",
    "\"Phi3\",\n",
    "false,\n",
    "\"using ilPSP.Utils; \" + \n",
    "\"double Phi3(double[] X) { \" +    \n",
    "\"    (double theta, double phi) = SphericalHarmonics.GetAngular(X); \" + \n",
    "\"    double R =    0.971459*SphericalHarmonics.MyRealSpherical(0, 0, theta, phi) \" + \n",
    "\"                +      0.5*SphericalHarmonics.MyRealSpherical(4, 0, theta, phi); \" + \n",
    "\"    return X.L2Norm() - R; \" + \n",
    "\"} \");\n",
    "casesPhi.Add(\"m4_Oh01_eta05\", Phi_m4eta05_Init);"
   ]
  },
  {
   "cell_type": "code",
   "execution_count": null,
   "metadata": {
    "dotnet_interactive": {
     "language": "csharp"
    }
   },
   "outputs": [],
   "source": [
    "var Phi_m4eta03_Init = new Formula(\n",
    "\"Phi3\",\n",
    "false,\n",
    "\"using ilPSP.Utils; \" + \n",
    "\"double Phi3(double[] X) { \" +    \n",
    "\"    (double theta, double phi) = SphericalHarmonics.GetAngular(X); \" + \n",
    "\"    double R =    0.989838*SphericalHarmonics.MyRealSpherical(0, 0, theta, phi) \" + \n",
    "\"                +      0.3*SphericalHarmonics.MyRealSpherical(4, 0, theta, phi); \" + \n",
    "\"    return X.L2Norm() - R; \" + \n",
    "\"} \");\n",
    "casesPhi.Add(\"m4_Oh01_eta03\", Phi_m4eta03_Init);"
   ]
  },
  {
   "cell_type": "code",
   "execution_count": null,
   "metadata": {
    "dotnet_interactive": {
     "language": "csharp"
    }
   },
   "outputs": [],
   "source": [
    "var Phi_m4eta02_Init = new Formula(\n",
    "\"Phi3\",\n",
    "false,\n",
    "\"using ilPSP.Utils; \" + \n",
    "\"double Phi3(double[] X) { \" +    \n",
    "\"    (double theta, double phi) = SphericalHarmonics.GetAngular(X); \" + \n",
    "\"    double R =    0.995508*SphericalHarmonics.MyRealSpherical(0, 0, theta, phi) \" + \n",
    "\"                +      0.2*SphericalHarmonics.MyRealSpherical(4, 0, theta, phi); \" + \n",
    "\"    return X.L2Norm() - R; \" + \n",
    "\"} \");\n",
    "casesPhi.Add(\"m4_Oh01_eta02\", Phi_m4eta02_Init);"
   ]
  },
  {
   "cell_type": "code",
   "execution_count": null,
   "metadata": {
    "dotnet_interactive": {
     "language": "csharp"
    }
   },
   "outputs": [],
   "source": [
    "// IBoundaryAndInitialData[] Phi_iCase = new IBoundaryAndInitialData[]  { Phi1Init, Phi2Init, Phi3Init, Phi4Init, Phi5Init};"
   ]
  },
  {
   "cell_type": "code",
   "execution_count": null,
   "metadata": {
    "dotnet_interactive": {
     "language": "csharp"
    }
   },
   "outputs": [],
   "source": [
    "for(int iCase = 0; iCase < numCases; iCase++) {\n",
    "    if(refDataProvided[iCase]) {\n",
    "    double[] angle = ReferenceData[iCase].GetColumn(0);\n",
    "    //double[] xI = refX[iCase];   \n",
    "    //double[] zI = refZ[iCase];\n",
    "    int I = angle.Length;\n",
    "    \n",
    "    double PhiErr = 0;\n",
    "    for(int i = 0; i < I; i++) {\n",
    "        double radius_expr = casesRadius[cases[iCase]](angle[i]);    \n",
    "        double x1 = Math.Sin(angle[i])*radius_expr;\n",
    "        double z1 = Math.Cos(angle[i])*radius_expr;\n",
    "    \n",
    "        PhiErr += casesPhi[cases[iCase]].Evaluate(new Vector(x1, 0, z1), 0.0).Abs();\n",
    "    }\n",
    "    Console.WriteLine($\"Phi error for case {iCase}: {PhiErr}\");\n",
    "    Assert.LessOrEqual(PhiErr, 1e-10, \"Level-Set function is not zero at desired surface.\");\n",
    "    \n",
    "    Assert.IsTrue(casesPhi[cases[iCase]].Evaluate(new Vector(1e-5, 1e-5, 1e-5), 0.0) < 0, \"Inside must be phase A/negative\");\n",
    "    Assert.IsTrue(casesPhi[cases[iCase]].Evaluate(new Vector(1e+1, 1e+1, 1e+1), 0.0) > 0, \"Outside must be phase B/positive\");\n",
    "}\n",
    "}"
   ]
  },
  {
   "cell_type": "markdown",
   "metadata": {},
   "source": [
    "### Initial Velocities"
   ]
  },
  {
   "cell_type": "code",
   "execution_count": null,
   "metadata": {
    "dotnet_interactive": {
     "language": "csharp"
    }
   },
   "outputs": [],
   "source": [
    "// //var anaVel = new IBoundaryAndInitialData[numCases,3];\n",
    "// Dictionary<string, (IBoundaryAndInitialData velX, IBoundaryAndInitialData velY, IBoundaryAndInitialData velZ)> analyticVel = new Dictionary<string, (IBoundaryAndInitialData velX, IBoundaryAndInitialData velY, IBoundaryAndInitialData velZ)>();\n",
    "\n",
    "// for(int iCase = 0; iCase < numCases; iCase++) {\n",
    "//     MultidimensionalArray polVel;\n",
    "//     MultidimensionalArray radVel;\n",
    "//     if (!NunitTest) {\n",
    "//         polVel = IMatrixExtensions.LoadFromTextFile($\"data/InitialValues/{cases[iCase].Substring(0,2)}/polarVel_{cases[iCase]}.txt\");\n",
    "//         radVel = IMatrixExtensions.LoadFromTextFile($\"data/InitialValues/{cases[iCase].Substring(0,2)}/radialVel_{cases[iCase]}.txt\");\n",
    "//     } else {\n",
    "//         polVel = IMatrixExtensions.LoadFromTextFile($\"polarVel_{cases[iCase]}.txt\");\n",
    "//         radVel = IMatrixExtensions.LoadFromTextFile($\"radialVel_{cases[iCase]}.txt\");\n",
    "//     }\n",
    "//     Assert.IsTrue(ilPSP.Utils.ArrayTools.ListEquals(polVel.GetColumn(0), radVel.GetColumn(0)));\n",
    "//     Assert.IsTrue(ilPSP.Utils.ArrayTools.ListEquals(polVel.GetColumn(1), radVel.GetColumn(1)));\n",
    "    \n",
    "//     double[] radiusS = polVel.GetColumn(0);\n",
    "//     double[] anglesS = polVel.GetColumn(1);\n",
    "//     double[] polVelS = polVel.GetColumn(2);\n",
    "//     double[] radVelS = radVel.GetColumn(2);\n",
    "    \n",
    "//     var velX = new BoSSS.Application.XNSE_Solver.SpecificSolutions.PolarAxiallySymmetricInitialValues() { VelocityComponent = 0 };\n",
    "//     velX.SetData(anglesS, radiusS, polVelS, radVelS);\n",
    "//     var velY = new BoSSS.Application.XNSE_Solver.SpecificSolutions.PolarAxiallySymmetricInitialValues() { VelocityComponent = 1 };\n",
    "//     velY.SetData(anglesS, radiusS, polVelS, radVelS);\n",
    "//     var velZ = new BoSSS.Application.XNSE_Solver.SpecificSolutions.PolarAxiallySymmetricInitialValues() { VelocityComponent = 2 };\n",
    "//     velZ.SetData(anglesS, radiusS, polVelS, radVelS);\n",
    "    \n",
    "//     // anaVel[iCase, 0] = velX;\n",
    "//     // anaVel[iCase, 1] = velY;\n",
    "//     // anaVel[iCase, 2] = velZ;\n",
    "//     analyticVel.Add(cases[iCase], (velX, velY, velZ));\n",
    "// }"
   ]
  },
  {
   "cell_type": "markdown",
   "metadata": {},
   "source": [
    "## Grid Creation"
   ]
  },
  {
   "cell_type": "code",
   "execution_count": null,
   "metadata": {
    "dotnet_interactive": {
     "language": "csharp"
    }
   },
   "outputs": [],
   "source": [
    "//foreach(var g in BoSSSshell.WorkflowMgm.Grids)\n",
    "//   g.Delete(true);"
   ]
  },
  {
   "cell_type": "markdown",
   "metadata": {},
   "source": [
    "### Quater-Domain grids\n",
    "(Symmetry planes at $x = 0$ and $y = 0$)"
   ]
  },
  {
   "cell_type": "code",
   "execution_count": null,
   "metadata": {
    "dotnet_interactive": {
     "language": "csharp"
    }
   },
   "outputs": [],
   "source": [
    "Dictionary<string, IGridInfo[]> gridTypes = new Dictionary<string, IGridInfo[]>();"
   ]
  },
  {
   "cell_type": "code",
   "execution_count": null,
   "metadata": {
    "dotnet_interactive": {
     "language": "csharp"
    }
   },
   "outputs": [],
   "source": [
    "int[] Resolutions = new int[] { 7 };\n",
    "IGridInfo[] Grids = new IGridInfo[Resolutions.Length];\n",
    "double scale = 1.0;\n",
    "for(int i = 0; i < Resolutions.Length; i++) {\n",
    "    int Res = Resolutions[i];\n",
    "    string GridName = $\"OscillatingDroplet3D_{Res}x{Res}x{2*Res}_wallBC_quarterDomain\";\n",
    "\n",
    "    IGridInfo cachedGrid = wmg.Grids.FirstOrDefault(grid => grid.Name == GridName);\n",
    "    //cachedGrid = null;\n",
    "    if(cachedGrid == null) {\n",
    "        \n",
    "        // must create new Grid\n",
    "        double[] xNodes = GenericBlas.Linspace(0, 3*scale, Res + 1);\n",
    "        double[] yNodes = xNodes;\n",
    "        double[] zNodes = GenericBlas.Linspace(-3*scale, 3*scale, Res*2 + 1);\n",
    "        \n",
    "        var grd = Grid3D.Cartesian3DGrid(xNodes, yNodes, zNodes);\n",
    "        grd.Name = GridName;\n",
    "        \n",
    "        grd.DefineEdgeTags(delegate(Vector X) {\n",
    "            string ret = null;\n",
    "            if(X.x.Abs() <= 1e-8 || X.y.Abs() <= 1.0e-8)\n",
    "                ret = IncompressibleBcType.SlipSymmetry.ToString();\n",
    "            else\n",
    "                ret = IncompressibleBcType.Wall.ToString();\n",
    "            return ret;\n",
    "        });        \n",
    "        \n",
    "        Grids[i] = wmg.SaveGrid(grd);\n",
    "        \n",
    "    } else {\n",
    "        //Console.WriteLine($\"type: {cachedGrid.GetType()}, is IGridInfo? {cachedGrid is IGridInfo}\");\n",
    "        Console.WriteLine(\"Grid already found in database - identifid by name \" + GridName);\n",
    "        Grids[i] = cachedGrid;\n",
    "    }\n",
    "    \n",
    "}\n",
    "gridTypes.Add(\"wallBC\", Grids);"
   ]
  },
  {
   "cell_type": "code",
   "execution_count": null,
   "metadata": {
    "dotnet_interactive": {
     "language": "csharp"
    }
   },
   "outputs": [
    {
     "data": {
      "text/html": [
       "<table><thead><tr><th><i>key</i></th><th>value</th></tr></thead><tbody><tr><td>wallBC</td><td>[ { Guid = 97d33818-3ae1-4cae-b351-690d789c73c1; Name = OscillatingDroplet3D_7x7x14_wallBC_quarterDomain; Cell Count = 686; Dim = 3 } ]</td></tr></tbody></table>"
      ]
     },
     "metadata": {},
     "output_type": "display_data"
    }
   ],
   "source": [
    "gridTypes"
   ]
  },
  {
   "cell_type": "code",
   "execution_count": null,
   "metadata": {
    "dotnet_interactive": {
     "language": "csharp"
    }
   },
   "outputs": [],
   "source": [
    "//var g = (wmg.Grids[0] as GridProxy).RealGrid;"
   ]
  },
  {
   "cell_type": "code",
   "execution_count": null,
   "metadata": {
    "dotnet_interactive": {
     "language": "csharp"
    }
   },
   "outputs": [],
   "source": [
    "//(g.iGridData as GridData).GlobalBoundingBox"
   ]
  },
  {
   "cell_type": "code",
   "execution_count": null,
   "metadata": {
    "dotnet_interactive": {
     "language": "csharp"
    }
   },
   "outputs": [],
   "source": [
    "//wmg.Sessions[0].Delete(true);"
   ]
  },
  {
   "cell_type": "markdown",
   "metadata": {
    "dotnet_interactive": {
     "language": "csharp"
    }
   },
   "source": [
    "## Setup of control objects for all solver runs"
   ]
  },
  {
   "cell_type": "code",
   "execution_count": null,
   "metadata": {
    "dotnet_interactive": {
     "language": "csharp"
    }
   },
   "outputs": [
    {
     "data": {
      "text/html": [
       "<table><thead><tr><th><i>index</i></th><th>value</th></tr></thead><tbody><tr><td>0</td><td>m3_Oh01_eta03</td></tr></tbody></table>"
      ]
     },
     "metadata": {},
     "output_type": "display_data"
    }
   ],
   "source": [
    "cases"
   ]
  },
  {
   "cell_type": "code",
   "execution_count": null,
   "metadata": {
    "dotnet_interactive": {
     "language": "csharp"
    }
   },
   "outputs": [],
   "source": [
    "Dictionary<string, (double Ohnesorge, int AMRlevel, double dt, int timesteps)> casesSetUp = new Dictionary<string, (double Ohnesorge, int AMRlevel, double dt, int timesteps)>();"
   ]
  },
  {
   "cell_type": "code",
   "execution_count": null,
   "metadata": {
    "dotnet_interactive": {
     "language": "csharp"
    }
   },
   "outputs": [],
   "source": [
    "casesSetUp.Add(\"m2_Oh01_eta07\", (0.1, 1, 5e-3, 600));\n",
    "casesSetUp.Add(\"m2_Oh01_eta06\", (0.1, 1, 5e-3, 600));\n",
    "casesSetUp.Add(\"m2_Oh01_eta05\", (0.1, 1, 5e-3, 600));\n",
    "casesSetUp.Add(\"m2_Oh01_eta03\", (0.1, 1, 5e-3, 600));\n",
    "casesSetUp.Add(\"m3_Oh01_eta07\", (0.1, 1, 5e-3, 300));\n",
    "casesSetUp.Add(\"m3_Oh01_eta06\", (0.1, 1, 5e-3, 300));\n",
    "casesSetUp.Add(\"m3_Oh01_eta05\", (0.1, 1, 5e-3, 300));\n",
    "casesSetUp.Add(\"m3_Oh01_eta03\", (0.1, 1, 5e-3, 300));\n",
    "casesSetUp.Add(\"m4_Oh01_eta07\", (0.1, 1, 5e-3, 300));\n",
    "casesSetUp.Add(\"m4_Oh01_eta06\", (0.1, 1, 5e-3, 300));\n",
    "casesSetUp.Add(\"m4_Oh01_eta05\", (0.1, 1, 5e-3, 300));\n",
    "casesSetUp.Add(\"m4_Oh01_eta03\", (0.1, 1, 5e-3, 300));\n",
    "casesSetUp.Add(\"m4_Oh01_eta02\", (0.1, 1, 5e-3, 300));"
   ]
  },
  {
   "cell_type": "code",
   "execution_count": null,
   "metadata": {
    "dotnet_interactive": {
     "language": "csharp"
    }
   },
   "outputs": [],
   "source": [
    "string[] gridTypeKeys = new string[] { \"wallBC\" }; ///{ \"wallBC\", \"pressureOutletBC\", \"refinedTest\" };"
   ]
  },
  {
   "cell_type": "code",
   "execution_count": null,
   "metadata": {
    "dotnet_interactive": {
     "language": "csharp"
    }
   },
   "outputs": [],
   "source": [
    "List<XNSE_Control> Controls = new List<XNSE_Control>();\n",
    "Controls.Clear();\n",
    "int[] DegreeS = new int[] { 3 };\n",
    "bool[] useInitial = new bool[] { false };\n",
    "bool[] useNewton = new bool[] { false };\n",
    "\n",
    "// string grdKey = gridTypeKeys[1];\n",
    "// Grids = gridTypes[grdKey];\n",
    "\n",
    "foreach(bool bInitial in useInitial) {\n",
    "foreach(bool bNewton in useNewton) {\n",
    "foreach(int k in DegreeS) {\n",
    "foreach(string grdKey in gridTypeKeys) {\n",
    "foreach(var grd in gridTypes[grdKey]) {\n",
    "int iCase = 0;\n",
    "foreach(var myCase in cases) {\n",
    "    long J = grd.NumberOfCells;\n",
    "    int AMRlvl = casesSetUp[myCase].AMRlevel;\n",
    "    string JobName = $\"OD3D_J{J}k{k}_{grdKey}_amr{AMRlvl}_{myCase}\";\n",
    "    if(bInitial) {\n",
    "        JobName = JobName + \"_thirdOrderInit\";\n",
    "    }\n",
    "    if(bNewton) {\n",
    "        JobName = JobName + \"_Newton\";\n",
    "    }\n",
    "    Console.WriteLine($\"Case {iCase+1}: \" + JobName);\n",
    "    iCase++;\n",
    "\n",
    "    var C = new XNSE_Control();\n",
    "    \n",
    "    C.SetGrid(grd);\n",
    "    C.SetDGdegree(k);\n",
    "    C.SessionName = JobName;\n",
    "    \n",
    "    C.InitialValues.Add(\"Phi\", casesPhi[myCase]);\n",
    "    \n",
    "    C.PhysicalParameters.IncludeConvection = true;\n",
    "    C.PhysicalParameters.rho_A = 1;\n",
    "    C.PhysicalParameters.rho_B = 0.001;\n",
    "    C.PhysicalParameters.mu_A = casesSetUp[myCase].Ohnesorge;\n",
    "    C.PhysicalParameters.mu_B = casesSetUp[myCase].Ohnesorge/1000;\n",
    "    C.PhysicalParameters.reynolds_B = 0.0;\n",
    "    C.PhysicalParameters.reynolds_A = 0.0;\n",
    "    C.PhysicalParameters.Sigma = 1;\n",
    "    C.PhysicalParameters.pFree = 0.0;\n",
    "    C.PhysicalParameters.mu_I = 0.0;\n",
    "    C.PhysicalParameters.lambda_I = 0.0;\n",
    "    C.PhysicalParameters.lambdaI_tilde = -1.0;\n",
    "    C.PhysicalParameters.betaS_A = 0.0;\n",
    "    C.PhysicalParameters.betaS_B = 0.0;\n",
    "    C.PhysicalParameters.betaL = 0.0;\n",
    "    C.PhysicalParameters.theta_e = 1.5707963267948966;\n",
    "    C.PhysicalParameters.sliplength = 0.0;\n",
    "    C.PhysicalParameters.Material = true;\n",
    "    C.PhysicalParameters.useArtificialSurfaceForce = false;\n",
    "    \n",
    "    C.Option_LevelSetEvolution = BoSSS.Solution.LevelSetTools.LevelSetEvolution.StokesExtension;\n",
    "    C.AdvancedDiscretizationOptions.SST_isotropicMode = SurfaceStressTensor_IsotropicMode.LaplaceBeltrami_ContactLine;\n",
    "    C.LSContiProjectionMethod = ContinuityProjectionOption.ConstrainedDG;\n",
    "    \n",
    "    C.TimeSteppingScheme = TimeSteppingScheme.BDF3;\n",
    "    if(bNewton) {\n",
    "        C.NonLinearSolver.SolverCode = NonLinearSolverCode.Newton;\n",
    "    } else {\n",
    "        C.NonLinearSolver.SolverCode = NonLinearSolverCode.Picard;\n",
    "        C.NonLinearSolver.ConvergenceCriterion = 1e-9;\n",
    "    }\n",
    "    C.NonLinearSolver.MaxSolverIterations = 50;\n",
    "    C.NonLinearSolver.MinSolverIterations = 3;\n",
    "    C.Timestepper_BDFinit = TimeStepperInit.SingleInit;\n",
    "    C.Timestepper_LevelSetHandling = LevelSetHandling.Coupled_Once;\n",
    "    C.TimesteppingMode = AppControl._TimesteppingMode.Transient;\n",
    "    C.dtFixed = casesSetUp[myCase].dt;\n",
    "    C.NoOfTimesteps = casesSetUp[myCase].timesteps;\n",
    "    \n",
    "    if(AMRlvl > 0) {\n",
    "        C.AdaptiveMeshRefinement = true;\n",
    "        C.activeAMRlevelIndicators.Add(\n",
    "            new AMRonNarrowband() { maxRefinementLevel = AMRlvl }\n",
    "        );\n",
    "    }\n",
    "    \n",
    "    // if(bInitial) {\n",
    "    //     C.AddInitialValue(\"VelocityX#A\", analyticVel[myCase].velX);\n",
    "    //     //C.AddInitialValue(\"VelocityX#B\", anaVel[myCase.Case - 1, 0]);\n",
    "    //     C.AddInitialValue(\"VelocityY#A\", analyticVel[myCase].velY);\n",
    "    //     //C.AddInitialValue(\"VelocityY#B\", anaVel[myCase.Case - 1, 1]);\n",
    "    //     C.AddInitialValue(\"VelocityZ#A\", analyticVel[myCase].velZ);\n",
    "    //     //C.AddInitialValue(\"VelocityZ#B\", anaVel[myCase.Case - 1, 2]);\n",
    "    // }\n",
    "    \n",
    "    C.PostprocessingModules.Add(new SphericalHarmonicsLogging() { MaxL = 8, RotSymmetric = true });\n",
    "    C.PostprocessingModules.Add(new DropletMetricsLogging() { AxisSymmetric = true });\n",
    "    C.PostprocessingModules.Add(new EnergyLogging());\n",
    "    \n",
    "    C.TracingNamespaces = \"*\";\n",
    "    \n",
    "    Controls.Add(C);\n",
    "    \n",
    "}\n",
    "}\n",
    "}\n",
    "}\n",
    "}\n",
    "}"
   ]
  },
  {
   "cell_type": "code",
   "execution_count": null,
   "metadata": {
    "dotnet_interactive": {
     "language": "csharp"
    }
   },
   "outputs": [],
   "source": [
    "int NC = Controls.Count;\n",
    "for(int i = 0; i < NC; i++) {\n",
    "    for(int j = 0; j < NC; j++) {\n",
    "        if(i == j)\n",
    "            Assert.IsTrue(Controls[i].Equals(Controls[j]), \"Control is not self-equal for \" + i);\n",
    "        else\n",
    "            Assert.IsFalse(Controls[i].Equals(Controls[j]), \"Different Control are wrongly equal for \" + i + \" and \" + j);\n",
    "    }\n",
    "}"
   ]
  },
  {
   "cell_type": "markdown",
   "metadata": {
    "dotnet_interactive": {
     "language": "csharp"
    }
   },
   "source": [
    "## Launch Jobs"
   ]
  },
  {
   "cell_type": "code",
   "execution_count": null,
   "metadata": {
    "dotnet_interactive": {
     "language": "csharp"
    }
   },
   "outputs": [
    {
     "data": {
      "text/html": [
       "<table><thead><tr><th><i>index</i></th><th>value</th></tr></thead><tbody><tr><td>0</td><td>OD3D_J686k3_wallBC_amr1_m3_Oh01_eta03</td></tr></tbody></table>"
      ]
     },
     "metadata": {},
     "output_type": "display_data"
    }
   ],
   "source": [
    "Controls.Select(C => C.SessionName)"
   ]
  },
  {
   "cell_type": "code",
   "execution_count": null,
   "metadata": {
    "dotnet_interactive": {
     "language": "csharp"
    }
   },
   "outputs": [],
   "source": [
    "// foreach(var ctrl in Controls) {\n",
    "//     var oneJob              = ctrl.CreateJob();\n",
    "//     oneJob.NumberOfMPIProcs = 1;\n",
    "//     oneJob.Activate(myBatch); \n",
    "// }"
   ]
  },
  {
   "cell_type": "code",
   "execution_count": null,
   "metadata": {
    "dotnet_interactive": {
     "language": "csharp"
    }
   },
   "outputs": [],
   "source": [
    "//wmg.AllJobs"
   ]
  },
  {
   "cell_type": "code",
   "execution_count": null,
   "metadata": {
    "dotnet_interactive": {
     "language": "csharp"
    }
   },
   "outputs": [],
   "source": [
    "// wait for all jobs to finish (up to 5 days, check every 30 minutes)\n",
    "//BoSSSshell.WorkflowMgm.BlockUntilAllJobsTerminate(TimeOutSeconds:(3600), PollingIntervallSeconds:(60*30));"
   ]
  },
  {
   "cell_type": "code",
   "execution_count": null,
   "metadata": {
    "dotnet_interactive": {
     "language": "csharp"
    }
   },
   "outputs": [],
   "source": [
    "// detect failed Jobs in the job management\n",
    "/*\n",
    "var suspects = BoSSSshell.WorkflowMgm.AllJobs.Select(kv => kv.Value)\n",
    "    .Where(job => job.LatestSession.Tags.Contains(SessionInfo.NOT_TERMINATED_TAG)\n",
    "                  || job.LatestSession.Tags.Contains(SessionInfo.SOLVER_ERROR)).ToArray();\n",
    "suspects\n",
    "*/"
   ]
  },
  {
   "cell_type": "code",
   "execution_count": null,
   "metadata": {
    "dotnet_interactive": {
     "language": "csharp"
    }
   },
   "outputs": [],
   "source": [
    "//suspects.Count()"
   ]
  },
  {
   "cell_type": "code",
   "execution_count": null,
   "metadata": {
    "dotnet_interactive": {
     "language": "csharp"
    }
   },
   "outputs": [],
   "source": [
    "//NUnit.Framework.Assert.IsTrue(suspects.Count() <= 0, $\"{suspects.Count()} Failed Jobs of {BoSSSshell.WorkflowMgm.AllJobs.Count()} in total.\");"
   ]
  },
  {
   "cell_type": "markdown",
   "metadata": {},
   "source": [
    "### Inspect the output of some arbitrary job:"
   ]
  },
  {
   "cell_type": "code",
   "execution_count": null,
   "metadata": {
    "dotnet_interactive": {
     "language": "csharp"
    }
   },
   "outputs": [],
   "source": [
    "//BoSSSshell.WorkflowMgm.AllJobs.First().Value.ShowOutput();"
   ]
  },
  {
   "cell_type": "code",
   "execution_count": null,
   "metadata": {
    "dotnet_interactive": {
     "language": "csharp"
    }
   },
   "outputs": [],
   "source": [
    "//wmg.Sessions[0].Export().WithSupersampling(2).Do()"
   ]
  },
  {
   "cell_type": "code",
   "execution_count": null,
   "metadata": {
    "dotnet_interactive": {
     "language": "csharp"
    }
   },
   "outputs": [],
   "source": []
  }
 ],
 "metadata": {
  "kernelspec": {
   "display_name": ".NET (C#)",
   "language": "C#",
   "name": ".net-csharp"
  },
  "language_info": {
   "file_extension": ".cs",
   "mimetype": "text/x-csharp",
   "name": "C#",
   "pygments_lexer": "csharp",
   "version": "9.0"
  }
 },
 "nbformat": 4,
 "nbformat_minor": 4
}
