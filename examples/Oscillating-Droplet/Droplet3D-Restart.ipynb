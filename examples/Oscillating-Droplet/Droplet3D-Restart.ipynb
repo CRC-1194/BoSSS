{
 "cells": [
  {
   "cell_type": "markdown",
   "metadata": {},
   "source": [
    "# 3D Droplet Oscillation (Restart script)\n",
    "\n",
    "Results published: hopefully at some point!\n",
    "\n",
    "It is part of the BoSSS-long-term validation test suite, which consists of \n",
    "several computationally expensive test-cases (runtime in the order of days),\n",
    "which are performed on a regular basis in order to validate the \n",
    "physical correctness of BoSSS simulations.\n"
   ]
  },
  {
   "cell_type": "markdown",
   "metadata": {},
   "source": [
    "### Preliminaries\n",
    "\n",
    "This example can be found in the source code repository as as `Droplet3D.ipynb`. \n",
    "One can directly load this into Jupyter to interactively work with the following code examples.\n",
    "\n",
    "Note: First, BoSSS has to be loaded into the Jupyter kernel. Note:\n",
    "In the following line, the reference to `BoSSSpad.dll` is required. \n",
    "One must either set `#r \"BoSSSpad.dll\"` to something which is appropirate for the current computer\n",
    "(e.g. `C:\\Program Files (x86)\\FDY\\BoSSS\\bin\\Release\\net5.0\\BoSSSpad.dll` if working with the binary distribution), \n",
    "or, if one is working with the source code, one must compile `BoSSSpad`\n",
    "and put it side-by-side to this worksheet file \n",
    "(from the original location in the repository, one can use the scripts `getbossspad.sh`, resp. `getbossspad.bat`).\n"
   ]
  },
  {
   "cell_type": "code",
   "execution_count": null,
   "metadata": {
    "dotnet_interactive": {
     "language": "csharp"
    }
   },
   "outputs": [],
   "source": [
    "//#r \"../../src/L4-application/BoSSSpad/bin/Release/net5.0/BoSSSpad.dll\"\n",
    "//#r \"../../src/L4-application/BoSSSpad/bin/Debug/net5.0/BoSSSpad.dll\"\n",
    "#r \"BoSSSpad.dll\"\n",
    "using System;\n",
    "using System.Collections.Generic;\n",
    "using System.Linq;\n",
    "using ilPSP;\n",
    "using ilPSP.Utils;\n",
    "using BoSSS.Platform;\n",
    "using BoSSS.Foundation;\n",
    "using BoSSS.Foundation.XDG;\n",
    "using BoSSS.Foundation.Grid;\n",
    "using BoSSS.Foundation.Grid.Classic;\n",
    "using BoSSS.Foundation.IO;\n",
    "using BoSSS.Solution;\n",
    "using BoSSS.Solution.Control;\n",
    "using BoSSS.Solution.GridImport;\n",
    "using BoSSS.Solution.Statistic;\n",
    "using BoSSS.Solution.Utils;\n",
    "using BoSSS.Solution.AdvancedSolvers;\n",
    "using BoSSS.Solution.Gnuplot;\n",
    "using BoSSS.Application.BoSSSpad;\n",
    "using BoSSS.Application.XNSE_Solver;\n",
    "using static BoSSS.Application.BoSSSpad.BoSSSshell;\n",
    "Init();"
   ]
  },
  {
   "cell_type": "markdown",
   "metadata": {},
   "source": [
    "## Initialization tasks"
   ]
  },
  {
   "cell_type": "markdown",
   "metadata": {},
   "source": [
    "Loading the `XNSE_Solver` and additional namespace:"
   ]
  },
  {
   "cell_type": "code",
   "execution_count": null,
   "metadata": {
    "dotnet_interactive": {
     "language": "csharp"
    }
   },
   "outputs": [],
   "source": [
    "using BoSSS.Application.XNSE_Solver;\n",
    "using BoSSS.Application.XNSE_Solver.PhysicalBasedTestcases;\n",
    "using BoSSS.Solution.NSECommon;\n",
    "using BoSSS.Solution.XNSECommon;\n",
    "using BoSSS.Solution.LevelSetTools.SolverWithLevelSetUpdater;\n",
    "using NUnit.Framework;\n",
    "using BoSSS.Application.XNSE_Solver.Logging;\n",
    "using BoSSS.Solution.LevelSetTools;\n",
    "using BoSSS.Solution.XdgTimestepping;\n",
    "using BoSSS.Solution.Timestepping;"
   ]
  },
  {
   "cell_type": "markdown",
   "metadata": {},
   "source": [
    "Initialization of the Workflow management; there `OscillatingDroplet3D` is the project name which is used name all computations (aka. sessions):"
   ]
  },
  {
   "cell_type": "code",
   "execution_count": null,
   "metadata": {
    "dotnet_interactive": {
     "language": "csharp"
    }
   },
   "outputs": [
    {
     "name": "stdout",
     "output_type": "stream",
     "text": [
      "Project name is set to 'OscillatingDroplet3D'.\r\n",
      "Opening existing database 'D:\\local\\OscillatingDroplet3D'.\r\n"
     ]
    }
   ],
   "source": [
    "BoSSSshell.WorkflowMgm.Init(\"OscillatingDroplet3D\");"
   ]
  },
  {
   "cell_type": "markdown",
   "metadata": {},
   "source": [
    "Overview on the available *Execution Queues* (aka. *Batch Processors*, aka. *Batch System*); these e.g. Linux HPC clusters on which compute jobs can be executed."
   ]
  },
  {
   "cell_type": "code",
   "execution_count": null,
   "metadata": {
    "dotnet_interactive": {
     "language": "csharp"
    }
   },
   "outputs": [
    {
     "data": {
      "text/html": [
       "<table><thead><tr><th><i>index</i></th><th><i>type</i></th><th>DeploymentBaseDirectory</th><th>DeployRuntime</th><th>Name</th><th>DotnetRuntime</th><th>BatchInstructionDir</th><th>AllowedDatabasesPaths</th><th>Username</th><th>ServerName</th><th>ComputeNodes</th><th>DefaultJobPriority</th><th>SingleNode</th></tr></thead><tbody><tr><td>0</td><td>BoSSS.Application.BoSSSpad.MiniBatchProcessorClient</td><td>D:\\local\\binaries</td><td>False</td><td>LocalPC</td><td>dotnet</td><td><div class=\"dni-plaintext\">&lt;null&gt;</div></td><td>[ D:\\local\\ ==  ]</td><td></td><td></td><td></td><td></td><td></td></tr><tr><td>1</td><td>BoSSS.Application.BoSSSpad.MsHPC2012Client</td><td>\\\\hpccluster\\hpccluster-scratch\\smuda\\binaries</td><td>False</td><td>FDY-WindowsHPC</td><td>dotnet</td><td></td><td>[ \\\\hpccluster\\hpccluster-scratch\\smuda\\ ==  ]</td><td>FDY\\smuda</td><td>DC2</td><td><div class=\"dni-plaintext\">&lt;null&gt;</div></td><td>Normal</td><td>True</td></tr></tbody></table>"
      ]
     },
     "metadata": {},
     "output_type": "display_data"
    }
   ],
   "source": [
    "ExecutionQueues"
   ]
  },
  {
   "cell_type": "markdown",
   "metadata": {},
   "source": [
    "For this example (which is part of the BoSSS validation tests), a *default queue* is selected to run all jobs in the convergence study:"
   ]
  },
  {
   "cell_type": "code",
   "execution_count": null,
   "metadata": {
    "dotnet_interactive": {
     "language": "csharp"
    }
   },
   "outputs": [
    {
     "data": {
      "text/html": [
       "<table><thead><tr><th>DeploymentBaseDirectory</th><th>DeployRuntime</th><th>Name</th><th>DotnetRuntime</th><th>Username</th><th>ServerName</th><th>ComputeNodes</th><th>DefaultJobPriority</th><th>SingleNode</th><th>AllowedDatabasesPaths</th></tr></thead><tbody><tr><td><div class=\"dni-plaintext\">\\\\hpccluster\\hpccluster-scratch\\smuda\\binaries</div></td><td><div class=\"dni-plaintext\">False</div></td><td><div class=\"dni-plaintext\">FDY-WindowsHPC</div></td><td><div class=\"dni-plaintext\">dotnet</div></td><td><div class=\"dni-plaintext\">FDY\\smuda</div></td><td><div class=\"dni-plaintext\">DC2</div></td><td><div class=\"dni-plaintext\">&lt;null&gt;</div></td><td><div class=\"dni-plaintext\">Normal</div></td><td><div class=\"dni-plaintext\">True</div></td><td><div class=\"dni-plaintext\">[ \\\\hpccluster\\hpccluster-scratch\\smuda\\ ==  ]</div></td></tr></tbody></table>"
      ]
     },
     "metadata": {},
     "output_type": "display_data"
    }
   ],
   "source": [
    "var myBatch = ExecutionQueues[1];\n",
    "//var myBatch = GetDefaultQueue();\n",
    "myBatch"
   ]
  },
  {
   "cell_type": "markdown",
   "metadata": {},
   "source": [
    "## Restart infos"
   ]
  },
  {
   "cell_type": "code",
   "execution_count": null,
   "metadata": {
    "dotnet_interactive": {
     "language": "csharp"
    }
   },
   "outputs": [
    {
     "data": {
      "text/html": [
       "<div class=\"dni-plaintext\">43</div>"
      ]
     },
     "metadata": {},
     "output_type": "display_data"
    }
   ],
   "source": [
    "int numSess = wmg.Sessions.Count();\n",
    "numSess"
   ]
  },
  {
   "cell_type": "code",
   "execution_count": null,
   "metadata": {
    "dotnet_interactive": {
     "language": "csharp"
    }
   },
   "outputs": [
    {
     "name": "stdout",
     "output_type": "stream",
     "text": [
      "Opening existing database '\\\\hpccluster\\hpccluster-scratch\\smuda\\OscillatingDroplet3D'.\r\n"
     ]
    }
   ],
   "source": [
    "OpenOrCreateDatabase(@\"\\\\hpccluster\\hpccluster-scratch\\smuda\\OscillatingDroplet3D\");"
   ]
  },
  {
   "cell_type": "code",
   "execution_count": null,
   "metadata": {
    "dotnet_interactive": {
     "language": "csharp"
    }
   },
   "outputs": [
    {
     "name": "stdout",
     "output_type": "stream",
     "text": [
      "Loading session 3190027a-c3d9-4869-bf85-ed028cbb97e2 failed with message 'Could not find file '\\\\hpccluster\\hpccluster-scratch\\smuda\\OscillatingDroplet3D\\sessions\\3190027a-c3d9-4869-bf85-ed028cbb97e2\\Session.info'.'\r\n",
      "Loading session ff159894-3ab0-4961-a743-3520554919c0 failed with message 'Could not find file '\\\\hpccluster\\hpccluster-scratch\\smuda\\OscillatingDroplet3D\\sessions\\ff159894-3ab0-4961-a743-3520554919c0\\Session.info'.'\r\n"
     ]
    },
    {
     "data": {
      "text/plain": [
       "#0: OscillatingDroplet3D\tOD3D_J686k3_wallBC_amr1_m2_Oh01_eta04_thirdOrderInit_restart1_withReInit*\t07/29/2022 18:26:25\t5e0fa717...\r\n",
       "#1: OscillatingDroplet3D\tOD3D_J686k3_wallBC_amr1_m3_Oh01_eta03_restart2\t07/11/2022 13:39:12\t95fa458f...\r\n",
       "#2: OscillatingDroplet3D\tOD3D_J686k3_wallBC_amr1_m3_Oh01_eta04_restart2\t07/11/2022 13:38:30\tb97b80ef...\r\n",
       "#3: OscillatingDroplet3D\tOD3D_J686k3_wallBC_amr2_m3_Oh01_eta04*\t07/11/2022 13:56:43\t5480a5ac...\r\n",
       "#4: OscillatingDroplet3D\tOD3D_J686k3_wallBC_amr2_m4_Oh01_eta01*\t07/11/2022 13:56:41\td98b11be...\r\n",
       "#5: OscillatingDroplet3D\tOD3D_J686k3_wallBC_amr2_m3_Oh01_eta015*\t07/11/2022 13:49:48\t53060394...\r\n",
       "#6: OscillatingDroplet3D\tOD3D_J686k3_wallBC_amr2_m4_Oh01_eta01_thirdOrderInit*\t07/11/2022 13:49:03\t325af26a...\r\n",
       "#7: OscillatingDroplet3D\tOD3D_J686k3_wallBC_amr2_m3_Oh01_eta015_thirdOrderInit*\t07/11/2022 13:48:12\tbc10dc66...\r\n",
       "#8: OscillatingDroplet3D\tOD3D_J686k3_wallBC_amr1_m2_Oh01_eta04_thirdOrderInit_restart1*\t07/11/2022 13:40:26\tea13d149...\r\n",
       "#9: OscillatingDroplet3D\tOD3D_J686k3_wallBC_amr1_m3_Oh01_eta015_restart2*\t07/11/2022 13:39:58\t7f997c98...\r\n",
       "#10: OscillatingDroplet3D\tOD3D_J686k3_wallBC_amr1_m3_Oh01_eta015_thirdOrderInit_restart2*\t07/11/2022 13:37:47\tb06f29e3...\r\n",
       "#11: OscillatingDroplet3D\tOD3D_J686k3_wallBC_amr1_m4_Oh01_eta01_thirdOrderInit_restart3\t06/15/2022 09:32:55\ta4c88947...\r\n",
       "#12: OscillatingDroplet3D\tOD3D_J686k3_wallBC_amr1_m2_Oh01_eta01_restart3\t06/15/2022 08:37:41\tdd97e2f1...\r\n",
       "#13: OscillatingDroplet3D\tOD3D_J686k3_wallBC_amr1_m2_Oh01_eta02_restart3\t06/15/2022 08:37:47\t95fc59fd...\r\n",
       "#14: OscillatingDroplet3D\tOD3D_J686k3_wallBC_amr1_m2_Oh01_eta02_thirdOrderInit_restart3\t06/15/2022 09:32:54\td8e3f635...\r\n",
       "#15: OscillatingDroplet3D\tOD3D_J686k3_wallBC_amr1_m2_Oh01_eta01_thirdOrderInit_restart3\t06/15/2022 08:37:38\t0d35c433...\r\n",
       "#16: OscillatingDroplet3D\tOD3D_J686k3_wallBC_amr1_m4_Oh01_eta01_restart3\t06/15/2022 09:32:56\tef6c7d75...\r\n",
       "#17: OscillatingDroplet3D\tOD3D_J686k3_wallBC_amr1_m3_Oh01_eta015_thirdOrderInit_restart1*\t06/15/2022 09:32:52\tb5737ad0...\r\n",
       "#18: OscillatingDroplet3D\tOD3D_J686k3_wallBC_amr1_m3_Oh01_eta04_restart1*\t06/15/2022 09:32:51\t7d44a31f...\r\n",
       "#19: OscillatingDroplet3D\tOD3D_J686k3_wallBC_amr1_m3_Oh01_eta03_restart1*\t06/15/2022 08:37:30\t8e38c8ef...\r\n",
       "#20: OscillatingDroplet3D\tOD3D_J686k3_wallBC_amr1_m3_Oh01_eta015_restart1*\t06/15/2022 08:37:29\td6040a6f...\r\n",
       "#21: OscillatingDroplet3D\tOD3D_J686k3_wallBC_amr1_m2_Oh01_eta04_restart3\t06/13/2022 15:31:38\tceb7f024...\r\n",
       "#22: OscillatingDroplet3D\tOD3D_J686k3_wallBC_amr1_m4_Oh056_eta005_restart2*\t05/30/2022 08:14:52\t5cdca669...\r\n",
       "#23: OscillatingDroplet3D\tOD3D_J686k3_wallBC_amr1_m4_Oh01_eta04_restart2*\t05/27/2022 20:59:40\t87cde3b9...\r\n",
       "#24: OscillatingDroplet3D\tOD3D_J686k3_wallBC_amr1_m2_Oh01_eta02_restart2*\t05/27/2022 20:59:17\t33d67916...\r\n",
       "#25: OscillatingDroplet3D\tOD3D_J686k3_wallBC_amr1_m4_Oh056_eta005_thirdOrderInit_restart2*\t05/27/2022 20:58:55\tefea163a...\r\n",
       "#26: OscillatingDroplet3D\tOD3D_J432k3_wallBC_amr1_m4_Oh056_eta005_restart2*\t05/27/2022 20:58:32\t91e4a6b9...\r\n",
       "#27: OscillatingDroplet3D\tOD3D_J686k3_wallBC_amr1_m4_Oh01_eta01_restart2*\t05/27/2022 20:58:11\t7c6f2773...\r\n",
       "#28: OscillatingDroplet3D\tOD3D_J686k3_wallBC_amr1_m2_Oh01_eta01_restart2*\t05/27/2022 20:57:50\ta2d5a18a...\r\n",
       "#29: OscillatingDroplet3D\tOD3D_J686k3_wallBC_amr1_m2_Oh01_eta04_restart2*\t05/27/2022 20:57:27\t99a785fa...\r\n",
       "#30: OscillatingDroplet3D\tOD3D_J686k3_wallBC_amr1_m4_Oh01_eta01_thirdOrderInit_restart2*\t05/27/2022 20:57:05\t7534accc...\r\n",
       "#31: OscillatingDroplet3D\tOD3D_J686k3_wallBC_amr1_m2_Oh01_eta01_thirdOrderInit_restart2*\t05/27/2022 20:56:43\tbc8c9ffb...\r\n",
       "#32: OscillatingDroplet3D\tOD3D_J686k3_wallBC_amr1_m2_Oh01_eta02_thirdOrderInit_restart2*\t05/27/2022 20:56:21\t9b81be0b...\r\n",
       "#33: OscillatingDroplet3D\tOD3D_J432k3_wallBC_amr1_m4_Oh056_eta005_thirdOrderInit_restart2*\t05/27/2022 20:56:02\t58f863d5...\r\n",
       "#34: OscillatingDroplet3D\tOD3D_J686k3_wallBC_amr1_m3_Oh01_eta04_thirdOrderInit*\t05/30/2022 14:36:38\t4f6ae21b...\r\n",
       "#35: OscillatingDroplet3D\tOD3D_J686k3_wallBC_amr1_m3_Oh01_eta03_thirdOrderInit*\t05/30/2022 14:36:37\t0a722a82...\r\n",
       "#36: OscillatingDroplet3D\tOD3D_J686k3_wallBC_amr1_m3_Oh01_eta015_thirdOrderInit*\t05/30/2022 14:36:35\tdbec01c0...\r\n",
       "#37: OscillatingDroplet3D\tOD3D_J686k3_wallBC_amr1_m3_Oh01_eta04*\t05/30/2022 14:36:32\t683d34f8...\r\n",
       "#38: OscillatingDroplet3D\tOD3D_J686k3_wallBC_amr1_m3_Oh01_eta03*\t05/30/2022 14:36:31\teeefb940...\r\n",
       "#39: OscillatingDroplet3D\tOD3D_J686k3_wallBC_amr1_m3_Oh01_eta015*\t05/30/2022 14:36:29\t2d8d1b19...\r\n",
       "#40: OscillatingDroplet3D\tOD3D_J686k3_wallBC_amr1_m2_Oh01_eta04_thirdOrderInit_restart1*\t05/20/2022 16:57:12\tbe53871c...\r\n",
       "#41: OscillatingDroplet3D\tOD3D_J432k3_wallBC_amr1_m4_Oh056_eta005_thirdOrderInit_restart1*\t05/17/2022 10:08:04\t76b0e980...\r\n",
       "#42: OscillatingDroplet3D\tOD3D_J686k3_wallBC_amr1_m2_Oh01_eta02_thirdOrderInit_restart1*\t05/17/2022 10:08:00\t3e2bed94...\r\n",
       "#43: OscillatingDroplet3D\tOD3D_J686k3_wallBC_amr1_m2_Oh01_eta01_thirdOrderInit_restart1*\t05/17/2022 10:07:57\t67803604...\r\n",
       "#44: OscillatingDroplet3D\tOD3D_J686k3_wallBC_amr1_m4_Oh01_eta01_thirdOrderInit_restart1*\t05/17/2022 10:07:54\t5186e4b6...\r\n",
       "#45: OscillatingDroplet3D\tOD3D_J686k3_wallBC_amr1_m2_Oh01_eta04_restart1*\t05/17/2022 10:07:52\t8e7bc526...\r\n",
       "#46: OscillatingDroplet3D\tOD3D_J686k3_wallBC_amr1_m2_Oh01_eta01_restart1*\t05/17/2022 10:07:48\t2a51c1d4...\r\n",
       "#47: OscillatingDroplet3D\tOD3D_J686k3_wallBC_amr1_m4_Oh01_eta01_restart1*\t05/17/2022 10:07:45\t5c10c5c8...\r\n",
       "#48: OscillatingDroplet3D\tOD3D_J432k3_wallBC_amr1_m4_Oh056_eta005_restart1*\t05/17/2022 08:55:01\t4c068665...\r\n",
       "#49: OscillatingDroplet3D\tOD3D_J686k3_wallBC_amr1_m4_Oh056_eta005_thirdOrderInit_restart1*\t05/17/2022 08:53:22\tab7079e9...\r\n",
       "#50: OscillatingDroplet3D\tOD3D_J686k3_wallBC_amr1_m2_Oh01_eta02_restart1*\t05/17/2022 08:52:44\t6b199ada...\r\n",
       "#51: OscillatingDroplet3D\tOD3D_J686k3_wallBC_amr1_m4_Oh01_eta04_restart1*\t05/17/2022 08:52:06\t3763b09d...\r\n",
       "#52: OscillatingDroplet3D\tOD3D_J686k3_wallBC_amr1_m4_Oh056_eta005_restart1*\t05/17/2022 08:51:29\t7c1e8cb5...\r\n",
       "#53: OscillatingDroplet3D\tOD3D_J686k3_wallBC_amr1_m2_Oh01_eta02_thirdOrderInit_restart1*\t05/13/2022 15:30:22\t26e97a0c...\r\n",
       "#54: OscillatingDroplet3D\tOD3D_J686k3_wallBC_amr1_m2_Oh01_eta01_thirdOrderInit_restart1*\t05/13/2022 15:30:02\tb96af149...\r\n",
       "#55: OscillatingDroplet3D\tOD3D_J686k3_wallBC_amr1_m4_Oh01_eta01_thirdOrderInit_restart1*\t05/13/2022 15:29:42\t79f2c597...\r\n",
       "#56: OscillatingDroplet3D\tOD3D_J686k3_wallBC_amr1_m4_Oh056_eta005_thirdOrderInit_restart1*\t05/13/2022 15:29:24\tc5e4f0a1...\r\n",
       "#57: OscillatingDroplet3D\tOD3D_J686k3_wallBC_amr1_m2_Oh01_eta04_restart1*\t05/13/2022 15:29:01\tbb2e89ed...\r\n",
       "#58: OscillatingDroplet3D\tOD3D_J686k3_wallBC_amr1_m2_Oh01_eta02_restart1*\t05/13/2022 15:28:41\t4211c963...\r\n",
       "#59: OscillatingDroplet3D\tOD3D_J686k3_wallBC_amr1_m2_Oh01_eta01_restart1*\t05/13/2022 15:28:21\t8806ec66...\r\n",
       "#60: OscillatingDroplet3D\tOD3D_J686k3_wallBC_amr1_m4_Oh01_eta04_restart1*\t05/13/2022 15:27:40\t14469e81...\r\n",
       "#61: OscillatingDroplet3D\tOD3D_J686k3_wallBC_amr1_m4_Oh01_eta01_restart1*\t05/13/2022 15:26:43\td5365179...\r\n",
       "#62: OscillatingDroplet3D\tOD3D_J686k3_wallBC_amr1_m4_Oh056_eta005_restart1*\t05/13/2022 15:26:23\t0364bbe1...\r\n",
       "#63: OscillatingDroplet3D\tOD3D_J432k3_wallBC_amr1_m4_Oh056_eta005_thirdOrderInit_restart1*\t05/13/2022 14:08:40\tf94cc26a...\r\n",
       "#64: OscillatingDroplet3D\tOD3D_J432k3_wallBC_amr1_m4_Oh056_eta005_restart1*\t05/13/2022 14:08:27\t34951808...\r\n",
       "#65: OscillatingDroplet3D\tOD3D_J686k3_wallBC_amr1_m4_Oh056_eta005*\t04/08/2022 11:37:03\t92930af7...\r\n",
       "#66: OscillatingDroplet3D\tOD3D_J686k3_wallBC_amr1_m4_Oh01_eta01*\t04/08/2022 11:36:37\t15341e01...\r\n",
       "#67: OscillatingDroplet3D\tOD3D_J686k3_wallBC_amr1_m4_Oh01_eta04*\t04/08/2022 11:34:56\t8486c026...\r\n",
       "#68: OscillatingDroplet3D\tOD3D_J686k3_wallBC_amr1_m3_Oh01_eta04*\t04/08/2022 11:34:00\te3a04ed7...\r\n",
       "#69: OscillatingDroplet3D\tOD3D_J686k3_wallBC_amr1_m2_Oh01_eta01*\t04/08/2022 11:33:27\t59bb73dc...\r\n",
       "#70: OscillatingDroplet3D\tOD3D_J686k3_wallBC_amr1_m2_Oh01_eta02*\t04/08/2022 11:33:07\t2e275baf...\r\n",
       "#71: OscillatingDroplet3D\tOD3D_J686k3_wallBC_amr1_m2_Oh01_eta04*\t04/08/2022 11:32:42\t8ef825a4...\r\n",
       "#72: OscillatingDroplet3D\tOD3D_J686k3_wallBC_amr1_m4_Oh056_eta005_thirdOrderInit*\t04/08/2022 11:32:17\tadf2022d...\r\n",
       "#73: OscillatingDroplet3D\tOD3D_J686k3_wallBC_amr1_m4_Oh01_eta01_thirdOrderInit*\t04/08/2022 11:31:55\t106a329f...\r\n",
       "#74: OscillatingDroplet3D\tOD3D_J686k3_wallBC_amr1_m4_Oh01_eta04_thirdOrderInit*\t04/08/2022 11:31:22\t5f822233...\r\n",
       "#75: OscillatingDroplet3D\tOD3D_J686k3_wallBC_amr1_m3_Oh01_eta04_thirdOrderInit*\t04/08/2022 11:31:07\t22cade02...\r\n",
       "#76: OscillatingDroplet3D\tOD3D_J686k3_wallBC_amr1_m2_Oh01_eta01_thirdOrderInit*\t04/08/2022 11:30:49\t51afe8ea...\r\n",
       "#77: OscillatingDroplet3D\tOD3D_J686k3_wallBC_amr1_m2_Oh01_eta02_thirdOrderInit*\t04/08/2022 11:30:31\ta1dc7b7c...\r\n",
       "#78: OscillatingDroplet3D\tOD3D_J686k3_wallBC_amr1_m2_Oh01_eta04_thirdOrderInit*\t04/08/2022 11:30:16\ta4b7b06d...\r\n",
       "#79: OscillatingDroplet3D\tOD3D_J432k3_wallBC_amr1_m4_Oh056_eta005*\t04/01/2022 18:34:01\ta1bc7755...\r\n",
       "#80: OscillatingDroplet3D\tOD3D_J432k3_wallBC_amr1_m4_Oh056_eta005_thirdOrderInit*\t04/01/2022 18:28:09\t918d934e...\r\n"
      ]
     },
     "metadata": {},
     "output_type": "display_data"
    }
   ],
   "source": [
    "var workSess = wmg.Sessions.Skip(numSess); //.Take(12);\n",
    "workSess"
   ]
  },
  {
   "cell_type": "code",
   "execution_count": null,
   "metadata": {
    "dotnet_interactive": {
     "language": "csharp"
    }
   },
   "outputs": [
    {
     "data": {
      "text/plain": [
       "OscillatingDroplet3D\tOD3D_J686k3_wallBC_amr1_m2_Oh01_eta04_thirdOrderInit_restart1_withReInit*\t07/29/2022 18:26:25\t5e0fa717..."
      ]
     },
     "metadata": {},
     "output_type": "display_data"
    }
   ],
   "source": [
    "workSess.Pick(0)"
   ]
  },
  {
   "cell_type": "code",
   "execution_count": null,
   "metadata": {
    "dotnet_interactive": {
     "language": "csharp"
    }
   },
   "outputs": [],
   "source": [
    "//workSess.Pick(42).Delete(true)"
   ]
  },
  {
   "cell_type": "code",
   "execution_count": null,
   "metadata": {
    "dotnet_interactive": {
     "language": "csharp"
    }
   },
   "outputs": [
    {
     "data": {
      "text/html": [
       "<div class=\"dni-plaintext\">1</div>"
      ]
     },
     "metadata": {},
     "output_type": "display_data"
    }
   ],
   "source": [
    "int[] restartSessionIndex = new int[] { 0 };\n",
    "restartSessionIndex.Length"
   ]
  },
  {
   "cell_type": "code",
   "execution_count": null,
   "metadata": {
    "dotnet_interactive": {
     "language": "csharp"
    }
   },
   "outputs": [
    {
     "data": {
      "text/plain": [
       "#0: OscillatingDroplet3D\tOD3D_J686k3_wallBC_amr1_m2_Oh01_eta04_thirdOrderInit_restart1_withReInit*\t07/29/2022 18:26:25\t5e0fa717...\r\n"
      ]
     },
     "metadata": {},
     "output_type": "display_data"
    }
   ],
   "source": [
    "//var restartSessions = wmg.Sessions.Skip(18).Take(16);\n",
    "var restartSessions = restartSessionIndex.Select(ind => workSess.ElementAt(ind));\n",
    "restartSessions"
   ]
  },
  {
   "cell_type": "code",
   "execution_count": null,
   "metadata": {
    "dotnet_interactive": {
     "language": "csharp"
    }
   },
   "outputs": [],
   "source": [
    "List<(string sessionName, Guid restartID, string caseName)> cases = new List<(string sessionName, Guid restartID, string caseName)>();\n",
    "foreach(var rSess in restartSessions) {\n",
    "    Stack<ISessionInfo>  procSIs = new Stack<ISessionInfo>();\n",
    "    procSIs.Push(rSess);\n",
    "    var currSI = rSess;\n",
    "    var rSIs = workSess.Where(sess => sess.ID.Equals(currSI.RestartedFrom));\n",
    "    while(!rSIs.IsNullOrEmpty()) {\n",
    "        var rSI = rSIs.Single();\n",
    "        procSIs.Push(rSI);\n",
    "        currSI = rSI;\n",
    "        rSIs = workSess.Where(sess => sess.ID.Equals(currSI.RestartedFrom));\n",
    "    }\n",
    "    int restartNum = procSIs.Count;\n",
    "\n",
    "    string orgName = rSess.Name;\n",
    "    string rName;\n",
    "    if (restartNum > 1) {\n",
    "        rName = orgName.Substring(0, orgName.Length - 1) + restartNum;\n",
    "    } else {\n",
    "        rName = orgName + \"_restart\" + restartNum;\n",
    "    }\n",
    "    //Console.WriteLine(\"restart session name: {0}\", rName);\n",
    "\n",
    "    string[] subs = orgName.Split('_');\n",
    "    string caseName = subs[4] + '_' + subs[5] + '_' + subs[6];\n",
    "    //Console.WriteLine(\"restart case name: {0}\", caseName);\n",
    "\n",
    "    cases.Add((rName, rSess.ID, caseName));\n",
    "}"
   ]
  },
  {
   "cell_type": "code",
   "execution_count": null,
   "metadata": {
    "dotnet_interactive": {
     "language": "csharp"
    }
   },
   "outputs": [],
   "source": [
    "// List<(string sessionName, Guid restartID, string caseName)> cases = new List<(string sessionName, Guid restartID, string caseName)>();\n",
    "// int nCase = 0;\n",
    "// cases.Add((restartSessions.ElementAt(0).Name, restartSessions.ElementAt(0).ID, \"m4_Oh056_eta005\"));\n",
    "// cases.Add((restartSessions.ElementAt(1).Name, restartSessions.ElementAt(1).ID, \"m2_Oh01_eta02\"));\n",
    "// cases.Add((restartSessions.ElementAt(2).Name, restartSessions.ElementAt(2).ID, \"m2_Oh01_eta01\"));\n",
    "// cases.Add((restartSessions.ElementAt(3).Name, restartSessions.ElementAt(3).ID, \"m4_Oh01_eta01\"));\n",
    "// cases.Add((restartSessions.ElementAt(4).Name, restartSessions.ElementAt(4).ID, \"m2_Oh01_eta04\"));\n",
    "// cases.Add((restartSessions.ElementAt(5).Name, restartSessions.ElementAt(5).ID, \"m2_Oh01_eta01\"));\n",
    "// cases.Add((restartSessions.ElementAt(6).Name, restartSessions.ElementAt(6).ID, \"m4_Oh01_eta01\"));\n",
    "// cases.Add((restartSessions.ElementAt(7).Name, restartSessions.ElementAt(7).ID, \"m4_Oh056_eta005\"));\n",
    "// cases.Add((restartSessions.ElementAt(8).Name, restartSessions.ElementAt(8).ID, \"m4_Oh056_eta005\"));\n",
    "// cases.Add((restartSessions.ElementAt(9).Name, restartSessions.ElementAt(9).ID, \"m2_Oh01_eta02\"));\n",
    "// cases.Add((restartSessions.ElementAt(10).Name, restartSessions.ElementAt(10).ID, \"m4_Oh01_eta04\"));\n",
    "// cases.Add((restartSessions.ElementAt(11).Name, restartSessions.ElementAt(11).ID, \"m4_Oh056_eta005\"));\n",
    "// //cases.Add((restartSessions.ElementAt(12).Name, restartSessions.ElementAt(12).ID, \"m4_Oh056_eta005\"));"
   ]
  },
  {
   "cell_type": "markdown",
   "metadata": {
    "dotnet_interactive": {
     "language": "csharp"
    }
   },
   "source": [
    "## Setup of control objects for all solver runs"
   ]
  },
  {
   "cell_type": "code",
   "execution_count": null,
   "metadata": {
    "dotnet_interactive": {
     "language": "csharp"
    }
   },
   "outputs": [
    {
     "data": {
      "text/html": [
       "<table><thead><tr><th><i>index</i></th><th>Item1</th><th>Item2</th><th>Item3</th></tr></thead><tbody><tr><td>0</td><td>OD3D_J686k3_wallBC_amr1_m2_Oh01_eta04_thirdOrderInit_restart2</td><td>5e0fa717-0453-4cc2-a269-5dec740905d0</td><td>m2_Oh01_eta04</td></tr></tbody></table>"
      ]
     },
     "metadata": {},
     "output_type": "display_data"
    }
   ],
   "source": [
    "cases"
   ]
  },
  {
   "cell_type": "code",
   "execution_count": null,
   "metadata": {
    "dotnet_interactive": {
     "language": "csharp"
    }
   },
   "outputs": [
    {
     "data": {
      "text/html": [
       "<table><thead><tr><th>Item1</th><th>Item2</th><th>Item3</th></tr></thead><tbody><tr><td><div class=\"dni-plaintext\">OD3D_J686k3_wallBC_amr1_m2_Oh01_eta04_thirdOrderInit_restart1_withReIni2</div></td><td><div class=\"dni-plaintext\">5e0fa717-0453-4cc2-a269-5dec740905d0</div></td><td><div class=\"dni-plaintext\">m2_Oh01_eta04</div></td></tr></tbody></table>"
      ]
     },
     "metadata": {},
     "output_type": "display_data"
    }
   ],
   "source": [
    "// var case0 = cases.ElementAt(0);\n",
    "// case0"
   ]
  },
  {
   "cell_type": "code",
   "execution_count": null,
   "metadata": {
    "dotnet_interactive": {
     "language": "csharp"
    }
   },
   "outputs": [],
   "source": [
    "// cases.Clear();\n",
    "// cases.Add((\"OD3D_J686k3_wallBC_amr1_m2_Oh01_eta04_thirdOrderInit_restart2\", case0.restartID, case0.caseName));"
   ]
  },
  {
   "cell_type": "code",
   "execution_count": null,
   "metadata": {
    "dotnet_interactive": {
     "language": "csharp"
    }
   },
   "outputs": [],
   "source": [
    "// int[] restartTimesteps = new int[cases.Count];\n",
    "// restartTimesteps[0] = null;"
   ]
  },
  {
   "cell_type": "code",
   "execution_count": null,
   "metadata": {
    "dotnet_interactive": {
     "language": "csharp"
    }
   },
   "outputs": [],
   "source": [
    "Dictionary<string, (double Ohnesorge, int AMRlevel, double dt, int timesteps)> casesSetUp = new Dictionary<string, (double Ohnesorge, int AMRlevel, double dt, int timesteps)>();"
   ]
  },
  {
   "cell_type": "code",
   "execution_count": null,
   "metadata": {
    "dotnet_interactive": {
     "language": "csharp"
    }
   },
   "outputs": [],
   "source": [
    "casesSetUp.Add(\"m2_Oh01_eta04\", (0.1, 1, 5e-3, 1400));\n",
    "casesSetUp.Add(\"m2_Oh01_eta02\", (0.1, 1, 5e-3, 1400));\n",
    "casesSetUp.Add(\"m2_Oh01_eta01\", (0.1, 1, 5e-3, 1400));\n",
    "casesSetUp.Add(\"m3_Oh01_eta04\", (0.1, 1, 5e-3, 1400));\n",
    "casesSetUp.Add(\"m3_Oh01_eta03\", (0.1, 1, 5e-3, 1400));\n",
    "casesSetUp.Add(\"m3_Oh01_eta015\", (0.1, 1, 5e-3, 1400));\n",
    "casesSetUp.Add(\"m4_Oh01_eta04\", (0.1, 1, 5e-3, 1400));\n",
    "casesSetUp.Add(\"m4_Oh01_eta01\", (0.1, 1, 5e-3, 1400));\n",
    "casesSetUp.Add(\"m4_Oh056_eta005\", (0.56, 1, 5e-3, 800));"
   ]
  },
  {
   "cell_type": "code",
   "execution_count": null,
   "metadata": {
    "dotnet_interactive": {
     "language": "csharp"
    }
   },
   "outputs": [
    {
     "name": "stdout",
     "output_type": "stream",
     "text": [
      "Case 1: OD3D_J686k3_wallBC_amr1_m2_Oh01_eta04_thirdOrderInit_restart2\r\n"
     ]
    }
   ],
   "source": [
    "List<XNSE_Control> Controls = new List<XNSE_Control>();\n",
    "Controls.Clear();\n",
    "int[] DegreeS = new int[] { 3 };\n",
    "bool bNewton = false;\n",
    "\n",
    "foreach(int k in DegreeS) {\n",
    "int iCase = 0;\n",
    "foreach(var myCase in cases) {\n",
    "\n",
    "    string JobName = $\"{myCase.sessionName}\";\n",
    "\n",
    "    var C = new XNSE_Control();\n",
    "\n",
    "    //C.ReInitPeriod = 10000;\n",
    "    \n",
    "    //C.SetGrid(grd);\n",
    "    C.SetDGdegree(k);\n",
    "    C.SessionName = JobName;\n",
    "    \n",
    "    //C.InitialValues.Add(\"Phi\", casesPhi[myCase]);\n",
    "    C.RestartInfo = new Tuple<Guid, BoSSS.Foundation.IO.TimestepNumber>(myCase.restartID, null);\n",
    "    \n",
    "    C.PhysicalParameters.IncludeConvection = true;\n",
    "    C.PhysicalParameters.rho_A = 1;\n",
    "    C.PhysicalParameters.rho_B = 0.001;\n",
    "    C.PhysicalParameters.mu_A = casesSetUp[myCase.caseName].Ohnesorge;\n",
    "    C.PhysicalParameters.mu_B = casesSetUp[myCase.caseName].Ohnesorge/1000;\n",
    "    C.PhysicalParameters.reynolds_B = 0.0;\n",
    "    C.PhysicalParameters.reynolds_A = 0.0;\n",
    "    C.PhysicalParameters.Sigma = 1;\n",
    "    C.PhysicalParameters.pFree = 0.0;\n",
    "    C.PhysicalParameters.mu_I = 0.0;\n",
    "    C.PhysicalParameters.lambda_I = 0.0;\n",
    "    C.PhysicalParameters.lambdaI_tilde = -1.0;\n",
    "    C.PhysicalParameters.betaS_A = 0.0;\n",
    "    C.PhysicalParameters.betaS_B = 0.0;\n",
    "    C.PhysicalParameters.betaL = 0.0;\n",
    "    C.PhysicalParameters.theta_e = 1.5707963267948966;\n",
    "    C.PhysicalParameters.sliplength = 0.0;\n",
    "    C.PhysicalParameters.Material = true;\n",
    "    C.PhysicalParameters.useArtificialSurfaceForce = false;\n",
    "    \n",
    "    C.Option_LevelSetEvolution = BoSSS.Solution.LevelSetTools.LevelSetEvolution.StokesExtension;\n",
    "    C.AdvancedDiscretizationOptions.SST_isotropicMode = SurfaceStressTensor_IsotropicMode.LaplaceBeltrami_ContactLine;\n",
    "    C.LSContiProjectionMethod = ContinuityProjectionOption.ConstrainedDG;\n",
    "    \n",
    "    C.TimeSteppingScheme = TimeSteppingScheme.BDF3;\n",
    "    if(bNewton) {\n",
    "        C.NonLinearSolver.SolverCode = NonLinearSolverCode.Newton;\n",
    "    } else {\n",
    "        C.NonLinearSolver.SolverCode = NonLinearSolverCode.Picard;\n",
    "        C.NonLinearSolver.ConvergenceCriterion = 1e-9;\n",
    "    }\n",
    "    \n",
    "    C.NonLinearSolver.MaxSolverIterations = 50;\n",
    "    C.NonLinearSolver.MinSolverIterations = 3;\n",
    "    C.Timestepper_BDFinit = TimeStepperInit.SingleInit;\n",
    "    C.Timestepper_LevelSetHandling = LevelSetHandling.Coupled_Once;\n",
    "    C.TimesteppingMode = AppControl._TimesteppingMode.Transient;\n",
    "    C.dtFixed = casesSetUp[myCase.caseName].dt;\n",
    "    C.NoOfTimesteps = casesSetUp[myCase.caseName].timesteps;\n",
    "    C.Endtime = 7;\n",
    "    \n",
    "    int AMRlvl = casesSetUp[myCase.caseName].AMRlevel;\n",
    "    if(AMRlvl > 0) {\n",
    "        C.AdaptiveMeshRefinement = true;\n",
    "        C.activeAMRlevelIndicators.Add(\n",
    "            new AMRonNarrowband() { maxRefinementLevel = AMRlvl }\n",
    "        );\n",
    "    }\n",
    "    \n",
    "    C.PostprocessingModules.Add(new SphericalHarmonicsLogging() { MaxL = 8, RotSymmetric = true });\n",
    "    C.PostprocessingModules.Add(new DropletMetricsLogging() { AxisSymmetric = true });\n",
    "    C.PostprocessingModules.Add(new EnergyLogging());\n",
    "    \n",
    "    C.TracingNamespaces = \"*\";\n",
    "\n",
    "    Console.WriteLine($\"Case {iCase+1}: \" + JobName);\n",
    "    iCase++;\n",
    "    \n",
    "    Controls.Add(C);\n",
    "    \n",
    "}\n",
    "}"
   ]
  },
  {
   "cell_type": "code",
   "execution_count": null,
   "metadata": {
    "dotnet_interactive": {
     "language": "csharp"
    }
   },
   "outputs": [],
   "source": [
    "int NC = Controls.Count;\n",
    "for(int i = 0; i < NC; i++) {\n",
    "    for(int j = 0; j < NC; j++) {\n",
    "        if(i == j)\n",
    "            Assert.IsTrue(Controls[i].Equals(Controls[j]), \"Control is not self-equal for \" + i);\n",
    "        else\n",
    "            Assert.IsFalse(Controls[i].Equals(Controls[j]), \"Different Control are wrongly equal for \" + i + \" and \" + j);\n",
    "    }\n",
    "}"
   ]
  },
  {
   "cell_type": "markdown",
   "metadata": {
    "dotnet_interactive": {
     "language": "csharp"
    }
   },
   "source": [
    "## Launch Jobs"
   ]
  },
  {
   "cell_type": "code",
   "execution_count": null,
   "metadata": {
    "dotnet_interactive": {
     "language": "csharp"
    }
   },
   "outputs": [
    {
     "data": {
      "text/html": [
       "<table><thead><tr><th><i>index</i></th><th>value</th></tr></thead><tbody><tr><td>0</td><td>OD3D_J686k3_wallBC_amr1_m2_Oh01_eta04_thirdOrderInit_restart2</td></tr></tbody></table>"
      ]
     },
     "metadata": {},
     "output_type": "display_data"
    }
   ],
   "source": [
    "Controls.Select(C => C.SessionName)"
   ]
  },
  {
   "cell_type": "code",
   "execution_count": null,
   "metadata": {
    "dotnet_interactive": {
     "language": "csharp"
    }
   },
   "outputs": [
    {
     "name": "stdout",
     "output_type": "stream",
     "text": [
      "Loading session 3190027a-c3d9-4869-bf85-ed028cbb97e2 failed with message 'Could not find file '\\\\hpccluster\\hpccluster-scratch\\smuda\\OscillatingDroplet3D\\sessions\\3190027a-c3d9-4869-bf85-ed028cbb97e2\\Session.info'.'\r\n",
      "Loading session ff159894-3ab0-4961-a743-3520554919c0 failed with message 'Could not find file '\\\\hpccluster\\hpccluster-scratch\\smuda\\OscillatingDroplet3D\\sessions\\ff159894-3ab0-4961-a743-3520554919c0\\Session.info'.'\r\n",
      "Loading session 3190027a-c3d9-4869-bf85-ed028cbb97e2 failed with message 'Could not find file '\\\\hpccluster\\hpccluster-scratch\\smuda\\OscillatingDroplet3D\\sessions\\3190027a-c3d9-4869-bf85-ed028cbb97e2\\Session.info'.'\r\n",
      "Loading session ff159894-3ab0-4961-a743-3520554919c0 failed with message 'Could not find file '\\\\hpccluster\\hpccluster-scratch\\smuda\\OscillatingDroplet3D\\sessions\\ff159894-3ab0-4961-a743-3520554919c0\\Session.info'.'\r\n",
      "Loading session 3190027a-c3d9-4869-bf85-ed028cbb97e2 failed with message 'Could not find file '\\\\hpccluster\\hpccluster-scratch\\smuda\\OscillatingDroplet3D\\sessions\\3190027a-c3d9-4869-bf85-ed028cbb97e2\\Session.info'.'\r\n",
      "Loading session ff159894-3ab0-4961-a743-3520554919c0 failed with message 'Could not find file '\\\\hpccluster\\hpccluster-scratch\\smuda\\OscillatingDroplet3D\\sessions\\ff159894-3ab0-4961-a743-3520554919c0\\Session.info'.'\r\n",
      "Loading session 3190027a-c3d9-4869-bf85-ed028cbb97e2 failed with message 'Could not find file '\\\\hpccluster\\hpccluster-scratch\\smuda\\OscillatingDroplet3D\\sessions\\3190027a-c3d9-4869-bf85-ed028cbb97e2\\Session.info'.'\r\n",
      "Loading session ff159894-3ab0-4961-a743-3520554919c0 failed with message 'Could not find file '\\\\hpccluster\\hpccluster-scratch\\smuda\\OscillatingDroplet3D\\sessions\\ff159894-3ab0-4961-a743-3520554919c0\\Session.info'.'\r\n",
      "Deploying job OD3D_J686k3_wallBC_amr1_m2_Oh01_eta04_thirdOrderInit_restart2 ... \r\n",
      "Set Database: { Session Count = 83; Grid Count = 203; Path = \\\\hpccluster\\hpccluster-scratch\\smuda\\OscillatingDroplet3D }\r\n",
      "Warning: no database is set for the job to submit; nothing may be saved.\r\n",
      "Deploying executables and additional files ...\r\n",
      "Deployment directory: \\\\hpccluster\\hpccluster-scratch\\smuda\\binaries\\OscillatingDroplet3D-XNSE_Solver2022Aug01_093408\r\n",
      "copied 50 files.\r\n",
      "   written file: control.obj\r\n",
      "deployment finished.\r\n",
      "Loading session 3190027a-c3d9-4869-bf85-ed028cbb97e2 failed with message 'Could not find file '\\\\hpccluster\\hpccluster-scratch\\smuda\\OscillatingDroplet3D\\sessions\\3190027a-c3d9-4869-bf85-ed028cbb97e2\\Session.info'.'\r\n",
      "Loading session ff159894-3ab0-4961-a743-3520554919c0 failed with message 'Could not find file '\\\\hpccluster\\hpccluster-scratch\\smuda\\OscillatingDroplet3D\\sessions\\ff159894-3ab0-4961-a743-3520554919c0\\Session.info'.'\r\n",
      "Loading session 3190027a-c3d9-4869-bf85-ed028cbb97e2 failed with message 'Could not find file '\\\\hpccluster\\hpccluster-scratch\\smuda\\OscillatingDroplet3D\\sessions\\3190027a-c3d9-4869-bf85-ed028cbb97e2\\Session.info'.'\r\n",
      "Loading session ff159894-3ab0-4961-a743-3520554919c0 failed with message 'Could not find file '\\\\hpccluster\\hpccluster-scratch\\smuda\\OscillatingDroplet3D\\sessions\\ff159894-3ab0-4961-a743-3520554919c0\\Session.info'.'\r\n",
      "\r\n"
     ]
    }
   ],
   "source": [
    "foreach(var ctrl in Controls) {\n",
    "    var oneJob              = ctrl.CreateJob();\n",
    "    oneJob.NumberOfMPIProcs = 1;\n",
    "    oneJob.Activate(myBatch); \n",
    "}"
   ]
  },
  {
   "cell_type": "code",
   "execution_count": null,
   "metadata": {
    "dotnet_interactive": {
     "language": "csharp"
    }
   },
   "outputs": [],
   "source": [
    "//wmg.AllJobs"
   ]
  },
  {
   "cell_type": "code",
   "execution_count": null,
   "metadata": {
    "dotnet_interactive": {
     "language": "csharp"
    }
   },
   "outputs": [],
   "source": [
    "// wait for all jobs to finish (up to 5 days, check every 30 minutes)\n",
    "//BoSSSshell.WorkflowMgm.BlockUntilAllJobsTerminate(TimeOutSeconds:(3600), PollingIntervallSeconds:(60*30));"
   ]
  },
  {
   "cell_type": "code",
   "execution_count": null,
   "metadata": {
    "dotnet_interactive": {
     "language": "csharp"
    }
   },
   "outputs": [],
   "source": [
    "// detect failed Jobs in the job management\n",
    "/*\n",
    "var suspects = BoSSSshell.WorkflowMgm.AllJobs.Select(kv => kv.Value)\n",
    "    .Where(job => job.LatestSession.Tags.Contains(SessionInfo.NOT_TERMINATED_TAG)\n",
    "                  || job.LatestSession.Tags.Contains(SessionInfo.SOLVER_ERROR)).ToArray();\n",
    "suspects\n",
    "*/"
   ]
  },
  {
   "cell_type": "code",
   "execution_count": null,
   "metadata": {
    "dotnet_interactive": {
     "language": "csharp"
    }
   },
   "outputs": [],
   "source": [
    "//suspects.Count()"
   ]
  },
  {
   "cell_type": "code",
   "execution_count": null,
   "metadata": {
    "dotnet_interactive": {
     "language": "csharp"
    }
   },
   "outputs": [],
   "source": [
    "//NUnit.Framework.Assert.IsTrue(suspects.Count() <= 0, $\"{suspects.Count()} Failed Jobs of {BoSSSshell.WorkflowMgm.AllJobs.Count()} in total.\");"
   ]
  },
  {
   "cell_type": "markdown",
   "metadata": {},
   "source": [
    "### Inspect the output of some arbitrary job:"
   ]
  },
  {
   "cell_type": "code",
   "execution_count": null,
   "metadata": {
    "dotnet_interactive": {
     "language": "csharp"
    }
   },
   "outputs": [],
   "source": [
    "//BoSSSshell.WorkflowMgm.AllJobs.First().Value.ShowOutput();"
   ]
  },
  {
   "cell_type": "code",
   "execution_count": null,
   "metadata": {
    "dotnet_interactive": {
     "language": "csharp"
    }
   },
   "outputs": [],
   "source": [
    "//wmg.Sessions[0].Export().WithSupersampling(2).Do()"
   ]
  },
  {
   "cell_type": "code",
   "execution_count": null,
   "metadata": {
    "dotnet_interactive": {
     "language": "csharp"
    }
   },
   "outputs": [],
   "source": []
  }
 ],
 "metadata": {
  "kernelspec": {
   "display_name": ".NET (C#)",
   "language": "C#",
   "name": ".net-csharp"
  },
  "language_info": {
   "file_extension": ".cs",
   "mimetype": "text/x-csharp",
   "name": "C#",
   "pygments_lexer": "csharp",
   "version": "9.0"
  }
 },
 "nbformat": 4,
 "nbformat_minor": 4
}
