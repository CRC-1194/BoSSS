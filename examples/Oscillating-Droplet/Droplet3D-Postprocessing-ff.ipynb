{
 "cells": [
  {
   "cell_type": "markdown",
   "metadata": {},
   "source": [
    "# 3D Droplet Oscillation\n",
    "\n",
    "Results published: hopefully at some point!\n",
    "\n",
    "It is part of the BoSSS-long-term validation test suite, which consists of \n",
    "several computationally expensive test-cases (runtime in the order of days),\n",
    "which are performed on a regular basis in order to validate the \n",
    "physical correctness of BoSSS simulations.\n"
   ]
  },
  {
   "cell_type": "markdown",
   "metadata": {},
   "source": [
    "### Preliminaries\n",
    "\n",
    "This example can be found in the source code repository as as `Droplet3D.ipynb`. \n",
    "One can directly load this into Jupyter to interactively work with the following code examples.\n",
    "\n",
    "Note: First, BoSSS has to be loaded into the Jupyter kernel. Note:\n",
    "In the following line, the reference to `BoSSSpad.dll` is required. \n",
    "One must either set `#r \"BoSSSpad.dll\"` to something which is appropirate for the current computer\n",
    "(e.g. `C:\\Program Files (x86)\\FDY\\BoSSS\\bin\\Release\\net5.0\\BoSSSpad.dll` if working with the binary distribution), \n",
    "or, if one is working with the source code, one must compile `BoSSSpad`\n",
    "and put it side-by-side to this worksheet file \n",
    "(from the original location in the repository, one can use the scripts `getbossspad.sh`, resp. `getbossspad.bat`).\n"
   ]
  },
  {
   "cell_type": "code",
   "execution_count": null,
   "metadata": {
    "dotnet_interactive": {
     "language": "csharp"
    }
   },
   "outputs": [],
   "source": [
    "//#r \"../../src/L4-application/BoSSSpad/bin/Release/net5.0/BoSSSpad.dll\"\n",
    "//#r \"../../src/L4-application/BoSSSpad/bin/Debug/net5.0/BoSSSpad.dll\"\n",
    "#r \"BoSSSpad.dll\"\n",
    "using System;\n",
    "using System.Collections.Generic;\n",
    "using System.Linq;\n",
    "using ilPSP;\n",
    "using ilPSP.Utils;\n",
    "using BoSSS.Platform;\n",
    "using BoSSS.Foundation;\n",
    "using BoSSS.Foundation.XDG;\n",
    "using BoSSS.Foundation.Grid;\n",
    "using BoSSS.Foundation.Grid.Classic;\n",
    "using BoSSS.Foundation.IO;\n",
    "using BoSSS.Solution;\n",
    "using BoSSS.Solution.Control;\n",
    "using BoSSS.Solution.GridImport;\n",
    "using BoSSS.Solution.Statistic;\n",
    "using BoSSS.Solution.Utils;\n",
    "using BoSSS.Solution.AdvancedSolvers;\n",
    "using BoSSS.Solution.Gnuplot;\n",
    "using BoSSS.Application.BoSSSpad;\n",
    "using BoSSS.Application.XNSE_Solver;\n",
    "using static BoSSS.Application.BoSSSpad.BoSSSshell;\n",
    "Init();"
   ]
  },
  {
   "cell_type": "markdown",
   "metadata": {},
   "source": [
    "## Initialization tasks"
   ]
  },
  {
   "cell_type": "markdown",
   "metadata": {},
   "source": [
    "Loading the `XNSE_Solver` namespace:"
   ]
  },
  {
   "cell_type": "code",
   "execution_count": null,
   "metadata": {
    "dotnet_interactive": {
     "language": "csharp"
    }
   },
   "outputs": [],
   "source": [
    "using BoSSS.Application.XNSE_Solver;\n",
    "using BoSSS.Application.XNSE_Solver.PhysicalBasedTestcases;\n",
    "using BoSSS.Solution.NSECommon;\n",
    "using BoSSS.Solution.LevelSetTools.SolverWithLevelSetUpdater;\n",
    "using NUnit.Framework;"
   ]
  },
  {
   "cell_type": "markdown",
   "metadata": {},
   "source": [
    "Initialization of the Workflow management; there `ConfinedCylinder_ConvergenceStudy` is the project name which is used for all comutations (aka. sessions):"
   ]
  },
  {
   "cell_type": "code",
   "execution_count": null,
   "metadata": {
    "dotnet_interactive": {
     "language": "csharp"
    }
   },
   "outputs": [],
   "source": [
    "BoSSSshell.WorkflowMgm.Init(\"OscillatingDroplet3D\");"
   ]
  },
  {
   "cell_type": "markdown",
   "metadata": {},
   "source": [
    "Overview on the available *Execution Queues* (aka. *Batch Processors*, aka. *Batch System*); these e.g. Linux HPC clusters on which compute jobs can be executed."
   ]
  },
  {
   "cell_type": "code",
   "execution_count": null,
   "metadata": {},
   "outputs": [],
   "source": [
    "//wmg.Sessions[0].Export().WithSupersampling(2).Do()"
   ]
  },
  {
   "cell_type": "code",
   "execution_count": null,
   "metadata": {},
   "outputs": [],
   "source": [
    "wmg.Sessions"
   ]
  },
  {
   "cell_type": "code",
   "execution_count": null,
   "metadata": {},
   "outputs": [],
   "source": [
    "wmg.Sessions[0].Timesteps"
   ]
  },
  {
   "cell_type": "code",
   "execution_count": null,
   "metadata": {},
   "outputs": [],
   "source": [
    "wmg.Sessions[1].Timesteps"
   ]
  },
  {
   "cell_type": "code",
   "execution_count": null,
   "metadata": {},
   "outputs": [],
   "source": [
    "wmg.Sessions[2].Timesteps"
   ]
  },
  {
   "cell_type": "code",
   "execution_count": null,
   "metadata": {},
   "outputs": [],
   "source": [
    "wmg.Sessions[3].Timesteps"
   ]
  },
  {
   "cell_type": "code",
   "execution_count": null,
   "metadata": {},
   "outputs": [],
   "source": [
    "wmg.Sessions[0].ID"
   ]
  },
  {
   "cell_type": "code",
   "execution_count": null,
   "metadata": {},
   "outputs": [],
   "source": []
  }
 ],
 "metadata": {
  "kernelspec": {
   "display_name": ".NET (C#)",
   "language": "C#",
   "name": ".net-csharp"
  },
  "language_info": {
   "file_extension": ".cs",
   "mimetype": "text/x-csharp",
   "name": "C#",
   "pygments_lexer": "csharp",
   "version": "9.0"
  }
 },
 "nbformat": 4,
 "nbformat_minor": 4
}
