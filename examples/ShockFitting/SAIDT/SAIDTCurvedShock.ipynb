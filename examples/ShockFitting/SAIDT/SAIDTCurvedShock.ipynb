{
 "cells": [
  {
   "cell_type": "code",
   "execution_count": 1,
   "metadata": {
    "dotnet_interactive": {
     "language": "csharp"
    }
   },
   "outputs": [],
   "source": [
    "#r \".\\binaries\\BoSSSpad.dll\"\n",
    "#r \".\\binaries\\SAIDT.dll\"\n",
    "#r \".\\binaries\\ApplicationWithIDT.dll\"\n",
    "using System;\n",
    "using System.Collections.Generic;\n",
    "using System.Linq;\n",
    "using ilPSP;\n",
    "using ilPSP.Utils;\n",
    "using BoSSS.Platform;\n",
    "using BoSSS.Platform.LinAlg;\n",
    "using BoSSS.Foundation;\n",
    "using BoSSS.Foundation.XDG;\n",
    "using BoSSS.Foundation.Grid;\n",
    "using BoSSS.Foundation.Grid.Classic;\n",
    "using BoSSS.Foundation.Grid.RefElements;\n",
    "using BoSSS.Foundation.IO;\n",
    "using BoSSS.Solution;\n",
    "using BoSSS.Solution.Control;\n",
    "using BoSSS.Solution.GridImport;\n",
    "using BoSSS.Solution.Statistic;\n",
    "using BoSSS.Solution.Utils;\n",
    "using BoSSS.Solution.AdvancedSolvers;\n",
    "using BoSSS.Solution.Gnuplot;\n",
    "using BoSSS.Application.BoSSSpad;\n",
    "using BoSSS.Application.XNSE_Solver;\n",
    "using ApplicationWithIDT;\n",
    "using SAIDT;\n",
    "using static BoSSS.Application.BoSSSpad.BoSSSshell;\n",
    "Init();\n"
   ]
  },
  {
   "attachments": {},
   "cell_type": "markdown",
   "metadata": {},
   "source": [
    "# Run Simulation"
   ]
  },
  {
   "cell_type": "code",
   "execution_count": 2,
   "metadata": {
    "dotnet_interactive": {
     "language": "csharp"
    },
    "polyglot_notebook": {
     "kernelName": "csharp"
    }
   },
   "outputs": [
    {
     "data": {
      "text/plain": [
       "30082023"
      ]
     },
     "metadata": {},
     "output_type": "display_data"
    }
   ],
   "source": [
    "var date = DateTime.Now.ToString(\"ddMMyyyy\");\n",
    "date"
   ]
  },
  {
   "attachments": {},
   "cell_type": "markdown",
   "metadata": {},
   "source": [
    "open a database"
   ]
  },
  {
   "cell_type": "code",
   "execution_count": 3,
   "metadata": {
    "dotnet_interactive": {
     "language": "csharp"
    },
    "polyglot_notebook": {
     "kernelName": "csharp"
    }
   },
   "outputs": [],
   "source": [
    "string dbPath = @\"SAIDT_db_\" + date ;\n",
    "var database = OpenOrCreateDatabase(dbPath);"
   ]
  },
  {
   "attachments": {},
   "cell_type": "markdown",
   "metadata": {},
   "source": [
    "## Curved Shock Scalar Advection"
   ]
  },
  {
   "cell_type": "code",
   "execution_count": 6,
   "metadata": {
    "dotnet_interactive": {
     "language": "csharp"
    },
    "polyglot_notebook": {
     "kernelName": "csharp"
    }
   },
   "outputs": [],
   "source": [
    "using SAIDT;\n",
    "BoSSS.Solution.Application.InitMPI();\n",
    "BoSSS.Solution.Application.DeleteOldPlotFiles();\n",
    "var pSAIDT = new SAIDTMain();\n",
    "var CSAIDT = SAIDTHardCodedControl.CurvedShock_Eccomas22(\n",
    "                                        dbPath: dbPath,\n",
    "                                        MaxIterations: 50,\n",
    "                                        dgDegree: 0,\n",
    "                                        numOfCellsX: 10,\n",
    "                                        numOfCellsY: 10,\n",
    "                                        agg: 0.4,\n",
    "                                        optiLevelSetType:OptiLevelSetType.SplineLevelSet\n",
    "                                        );\n",
    "pSAIDT.Init(CSAIDT);\n",
    "pSAIDT.RunSolverMode();"
   ]
  },
  {
   "cell_type": "code",
   "execution_count": 7,
   "metadata": {
    "dotnet_interactive": {
     "language": "csharp"
    },
    "polyglot_notebook": {
     "kernelName": "csharp"
    }
   },
   "outputs": [
    {
     "data": {
      "text/html": [
       "<?xml version=\"1.0\" encoding=\"utf-8\"  standalone=\"no\"?>\n",
       "<!DOCTYPE svg PUBLIC \"-//W3C//DTD SVG 1.1//EN\"\n",
       " \"http://www.w3.org/Graphics/SVG/1.1/DTD/svg11.dtd\">\n",
       "<svg \n",
       " width=\"1200\" height=\"500\"\n",
       " viewBox=\"0 0 1200 500\"\n",
       " xmlns=\"http://www.w3.org/2000/svg\"\n",
       " xmlns:xlink=\"http://www.w3.org/1999/xlink\"\n",
       ">\n",
       "\n",
       "<title>Gnuplot</title>\n",
       "<desc>Produced by GNUPLOT 5.1 patchlevel 0 </desc>\n",
       "\n",
       "<g id=\"gnuplot_canvas\">\n",
       "\n",
       "<rect x=\"0\" y=\"0\" width=\"1200\" height=\"500\" fill=\"#ffffff\"/>\n",
       "<defs>\n",
       "\n",
       "\t<circle id='gpDot' r='0.5' stroke-width='0.5'/>\n",
       "\t<path id='gpPt0' stroke-width='0.222' stroke='currentColor' d='M-1,0 h2 M0,-1 v2'/>\n",
       "\t<path id='gpPt1' stroke-width='0.222' stroke='currentColor' d='M-1,-1 L1,1 M1,-1 L-1,1'/>\n",
       "\t<path id='gpPt2' stroke-width='0.222' stroke='currentColor' d='M-1,0 L1,0 M0,-1 L0,1 M-1,-1 L1,1 M-1,1 L1,-1'/>\n",
       "\t<rect id='gpPt3' stroke-width='0.222' stroke='currentColor' x='-1' y='-1' width='2' height='2'/>\n",
       "\t<rect id='gpPt4' stroke-width='0.222' stroke='currentColor' fill='currentColor' x='-1' y='-1' width='2' height='2'/>\n",
       "\t<circle id='gpPt5' stroke-width='0.222' stroke='currentColor' cx='0' cy='0' r='1'/>\n",
       "\t<use xlink:href='#gpPt5' id='gpPt6' fill='currentColor' stroke='none'/>\n",
       "\t<path id='gpPt7' stroke-width='0.222' stroke='currentColor' d='M0,-1.33 L-1.33,0.67 L1.33,0.67 z'/>\n",
       "\t<use xlink:href='#gpPt7' id='gpPt8' fill='currentColor' stroke='none'/>\n",
       "\t<use xlink:href='#gpPt7' id='gpPt9' stroke='currentColor' transform='rotate(180)'/>\n",
       "\t<use xlink:href='#gpPt9' id='gpPt10' fill='currentColor' stroke='none'/>\n",
       "\t<use xlink:href='#gpPt3' id='gpPt11' stroke='currentColor' transform='rotate(45)'/>\n",
       "\t<use xlink:href='#gpPt11' id='gpPt12' fill='currentColor' stroke='none'/>\n",
       "\t<path id='gpPt13' stroke-width='0.222' stroke='currentColor' d='M0,1.330 L1.265,0.411 L0.782,-1.067 L-0.782,-1.076 L-1.265,0.411 z'/>\n",
       "\t<use xlink:href='#gpPt13' id='gpPt14' fill='currentColor' stroke='none'/>\n",
       "\t<filter id='textbox' filterUnits='objectBoundingBox' x='0' y='0' height='1' width='1'>\n",
       "\t  <feFlood flood-color='#FFFFFF' flood-opacity='1' result='bgnd'/>\n",
       "\t  <feComposite in='SourceGraphic' in2='bgnd' operator='atop'/>\n",
       "\t</filter>\n",
       "\t<filter id='greybox' filterUnits='objectBoundingBox' x='0' y='0' height='1' width='1'>\n",
       "\t  <feFlood flood-color='lightgrey' flood-opacity='1' result='grey'/>\n",
       "\t  <feComposite in='SourceGraphic' in2='grey' operator='atop'/>\n",
       "\t</filter>\n",
       "</defs>\n",
       "<g fill=\"none\" color=\"#FFFFFF\" stroke=\"currentColor\" stroke-width=\"1.00\" stroke-linecap=\"butt\" stroke-linejoin=\"miter\">\n",
       "</g>\n",
       "<g fill=\"none\" color=\"black\" stroke=\"currentColor\" stroke-width=\"1.00\" stroke-linecap=\"butt\" stroke-linejoin=\"miter\">\n",
       "\t<path stroke='black'  d='M53.9,442.4 L62.9,442.4 M1150.1,442.4 L1141.1,442.4  '/>\t<g transform=\"translate(45.6,448.4)\" stroke=\"none\" fill=\"black\" font-family=\"sans\" font-size=\"16.00\"  text-anchor=\"end\">\n",
       "\t\t<text><tspan font-family=\"sans\" >10</tspan><tspan font-family=\"sans\"  font-size=\"12.8\" dy=\"-8.00px\">-12</tspan><tspan font-size=\"16.0\" dy=\"8.00\"></tspan></text>\n",
       "\t</g>\n",
       "</g>\n",
       "<g fill=\"none\" color=\"black\" stroke=\"currentColor\" stroke-width=\"1.00\" stroke-linecap=\"butt\" stroke-linejoin=\"miter\">\n",
       "\t<path stroke='black'  d='M53.9,413.4 L58.4,413.4 M1150.1,413.4 L1145.6,413.4 M53.9,384.4 L62.9,384.4 M1150.1,384.4 L1141.1,384.4\n",
       "\t\t '/>\t<g transform=\"translate(45.6,390.4)\" stroke=\"none\" fill=\"black\" font-family=\"sans\" font-size=\"16.00\"  text-anchor=\"end\">\n",
       "\t\t<text><tspan font-family=\"sans\" >10</tspan><tspan font-family=\"sans\"  font-size=\"12.8\" dy=\"-8.00px\">-10</tspan><tspan font-size=\"16.0\" dy=\"8.00\"></tspan></text>\n",
       "\t</g>\n",
       "</g>\n",
       "<g fill=\"none\" color=\"black\" stroke=\"currentColor\" stroke-width=\"1.00\" stroke-linecap=\"butt\" stroke-linejoin=\"miter\">\n",
       "\t<path stroke='black'  d='M53.9,355.3 L58.4,355.3 M1150.1,355.3 L1145.6,355.3 M53.9,326.3 L62.9,326.3 M1150.1,326.3 L1141.1,326.3\n",
       "\t\t '/>\t<g transform=\"translate(45.6,332.3)\" stroke=\"none\" fill=\"black\" font-family=\"sans\" font-size=\"16.00\"  text-anchor=\"end\">\n",
       "\t\t<text><tspan font-family=\"sans\" >10</tspan><tspan font-family=\"sans\"  font-size=\"12.8\" dy=\"-8.00px\">-8</tspan><tspan font-size=\"16.0\" dy=\"8.00\"></tspan></text>\n",
       "\t</g>\n",
       "</g>\n",
       "<g fill=\"none\" color=\"black\" stroke=\"currentColor\" stroke-width=\"1.00\" stroke-linecap=\"butt\" stroke-linejoin=\"miter\">\n",
       "\t<path stroke='black'  d='M53.9,297.3 L58.4,297.3 M1150.1,297.3 L1145.6,297.3 M53.9,268.3 L62.9,268.3 M1150.1,268.3 L1141.1,268.3\n",
       "\t\t '/>\t<g transform=\"translate(45.6,274.3)\" stroke=\"none\" fill=\"black\" font-family=\"sans\" font-size=\"16.00\"  text-anchor=\"end\">\n",
       "\t\t<text><tspan font-family=\"sans\" >10</tspan><tspan font-family=\"sans\"  font-size=\"12.8\" dy=\"-8.00px\">-6</tspan><tspan font-size=\"16.0\" dy=\"8.00\"></tspan></text>\n",
       "\t</g>\n",
       "</g>\n",
       "<g fill=\"none\" color=\"black\" stroke=\"currentColor\" stroke-width=\"1.00\" stroke-linecap=\"butt\" stroke-linejoin=\"miter\">\n",
       "\t<path stroke='black'  d='M53.9,239.2 L58.4,239.2 M1150.1,239.2 L1145.6,239.2 M53.9,210.2 L62.9,210.2 M1150.1,210.2 L1141.1,210.2\n",
       "\t\t '/>\t<g transform=\"translate(45.6,216.2)\" stroke=\"none\" fill=\"black\" font-family=\"sans\" font-size=\"16.00\"  text-anchor=\"end\">\n",
       "\t\t<text><tspan font-family=\"sans\" >10</tspan><tspan font-family=\"sans\"  font-size=\"12.8\" dy=\"-8.00px\">-4</tspan><tspan font-size=\"16.0\" dy=\"8.00\"></tspan></text>\n",
       "\t</g>\n",
       "</g>\n",
       "<g fill=\"none\" color=\"black\" stroke=\"currentColor\" stroke-width=\"1.00\" stroke-linecap=\"butt\" stroke-linejoin=\"miter\">\n",
       "\t<path stroke='black'  d='M53.9,181.2 L58.4,181.2 M1150.1,181.2 L1145.6,181.2 M53.9,152.2 L62.9,152.2 M1150.1,152.2 L1141.1,152.2\n",
       "\t\t '/>\t<g transform=\"translate(45.6,158.2)\" stroke=\"none\" fill=\"black\" font-family=\"sans\" font-size=\"16.00\"  text-anchor=\"end\">\n",
       "\t\t<text><tspan font-family=\"sans\" >10</tspan><tspan font-family=\"sans\"  font-size=\"12.8\" dy=\"-8.00px\">-2</tspan><tspan font-size=\"16.0\" dy=\"8.00\"></tspan></text>\n",
       "\t</g>\n",
       "</g>\n",
       "<g fill=\"none\" color=\"black\" stroke=\"currentColor\" stroke-width=\"1.00\" stroke-linecap=\"butt\" stroke-linejoin=\"miter\">\n",
       "\t<path stroke='black'  d='M53.9,123.2 L58.4,123.2 M1150.1,123.2 L1145.6,123.2 M53.9,94.1 L62.9,94.1 M1150.1,94.1 L1141.1,94.1\n",
       "\t\t '/>\t<g transform=\"translate(45.6,100.1)\" stroke=\"none\" fill=\"black\" font-family=\"sans\" font-size=\"16.00\"  text-anchor=\"end\">\n",
       "\t\t<text><tspan font-family=\"sans\" >10</tspan><tspan font-family=\"sans\"  font-size=\"12.8\" dy=\"-8.00px\">0</tspan><tspan font-size=\"16.0\" dy=\"8.00\"></tspan></text>\n",
       "\t</g>\n",
       "</g>\n",
       "<g fill=\"none\" color=\"black\" stroke=\"currentColor\" stroke-width=\"1.00\" stroke-linecap=\"butt\" stroke-linejoin=\"miter\">\n",
       "\t<path stroke='black'  d='M53.9,65.1 L58.4,65.1 M1150.1,65.1 L1145.6,65.1 M53.9,36.1 L62.9,36.1 M1150.1,36.1 L1141.1,36.1\n",
       "\t\t '/>\t<g transform=\"translate(45.6,42.1)\" stroke=\"none\" fill=\"black\" font-family=\"sans\" font-size=\"16.00\"  text-anchor=\"end\">\n",
       "\t\t<text><tspan font-family=\"sans\" >10</tspan><tspan font-family=\"sans\"  font-size=\"12.8\" dy=\"-8.00px\">2</tspan><tspan font-size=\"16.0\" dy=\"8.00\"></tspan></text>\n",
       "\t</g>\n",
       "</g>\n",
       "<g fill=\"none\" color=\"black\" stroke=\"currentColor\" stroke-width=\"1.00\" stroke-linecap=\"butt\" stroke-linejoin=\"miter\">\n",
       "\t<path stroke='black'  d='M53.9,442.4 L53.9,433.4 M53.9,36.1 L53.9,45.1  '/>\t<g transform=\"translate(53.9,464.9)\" stroke=\"none\" fill=\"black\" font-family=\"Arial\" font-size=\"12.00\"  text-anchor=\"middle\">\n",
       "\t\t<text><tspan font-family=\"Arial\" > 0</tspan></text>\n",
       "\t</g>\n",
       "</g>\n",
       "<g fill=\"none\" color=\"black\" stroke=\"currentColor\" stroke-width=\"1.00\" stroke-linecap=\"butt\" stroke-linejoin=\"miter\">\n",
       "\t<path stroke='black'  d='M273.1,442.4 L273.1,433.4 M273.1,36.1 L273.1,45.1  '/>\t<g transform=\"translate(273.1,464.9)\" stroke=\"none\" fill=\"black\" font-family=\"Arial\" font-size=\"12.00\"  text-anchor=\"middle\">\n",
       "\t\t<text><tspan font-family=\"Arial\" > 10</tspan></text>\n",
       "\t</g>\n",
       "</g>\n",
       "<g fill=\"none\" color=\"black\" stroke=\"currentColor\" stroke-width=\"1.00\" stroke-linecap=\"butt\" stroke-linejoin=\"miter\">\n",
       "\t<path stroke='black'  d='M492.4,442.4 L492.4,433.4 M492.4,36.1 L492.4,45.1  '/>\t<g transform=\"translate(492.4,464.9)\" stroke=\"none\" fill=\"black\" font-family=\"Arial\" font-size=\"12.00\"  text-anchor=\"middle\">\n",
       "\t\t<text><tspan font-family=\"Arial\" > 20</tspan></text>\n",
       "\t</g>\n",
       "</g>\n",
       "<g fill=\"none\" color=\"black\" stroke=\"currentColor\" stroke-width=\"1.00\" stroke-linecap=\"butt\" stroke-linejoin=\"miter\">\n",
       "\t<path stroke='black'  d='M711.6,442.4 L711.6,433.4 M711.6,36.1 L711.6,45.1  '/>\t<g transform=\"translate(711.6,464.9)\" stroke=\"none\" fill=\"black\" font-family=\"Arial\" font-size=\"12.00\"  text-anchor=\"middle\">\n",
       "\t\t<text><tspan font-family=\"Arial\" > 30</tspan></text>\n",
       "\t</g>\n",
       "</g>\n",
       "<g fill=\"none\" color=\"black\" stroke=\"currentColor\" stroke-width=\"1.00\" stroke-linecap=\"butt\" stroke-linejoin=\"miter\">\n",
       "\t<path stroke='black'  d='M930.9,442.4 L930.9,433.4 M930.9,36.1 L930.9,45.1  '/>\t<g transform=\"translate(930.9,464.9)\" stroke=\"none\" fill=\"black\" font-family=\"Arial\" font-size=\"12.00\"  text-anchor=\"middle\">\n",
       "\t\t<text><tspan font-family=\"Arial\" > 40</tspan></text>\n",
       "\t</g>\n",
       "</g>\n",
       "<g fill=\"none\" color=\"black\" stroke=\"currentColor\" stroke-width=\"1.00\" stroke-linecap=\"butt\" stroke-linejoin=\"miter\">\n",
       "\t<path stroke='black'  d='M1150.1,442.4 L1150.1,433.4 M1150.1,36.1 L1150.1,45.1  '/>\t<g transform=\"translate(1150.1,464.9)\" stroke=\"none\" fill=\"black\" font-family=\"Arial\" font-size=\"12.00\"  text-anchor=\"middle\">\n",
       "\t\t<text><tspan font-family=\"Arial\" > 50</tspan></text>\n",
       "\t</g>\n",
       "</g>\n",
       "<g fill=\"none\" color=\"black\" stroke=\"currentColor\" stroke-width=\"1.00\" stroke-linecap=\"butt\" stroke-linejoin=\"miter\">\n",
       "\t<path stroke='black'  d='M1150.1,442.4 L1141.1,442.4  '/>\t<g transform=\"translate(1158.4,446.9)\" stroke=\"none\" fill=\"black\" font-family=\"Arial\" font-size=\"12.00\"  text-anchor=\"start\">\n",
       "\t\t<text><tspan font-family=\"Arial\" > </tspan></text>\n",
       "\t</g>\n",
       "</g>\n",
       "<g fill=\"none\" color=\"black\" stroke=\"currentColor\" stroke-width=\"1.00\" stroke-linecap=\"butt\" stroke-linejoin=\"miter\">\n",
       "\t<path stroke='black'  d='M1150.1,384.4 L1141.1,384.4  '/>\t<g transform=\"translate(1158.4,388.9)\" stroke=\"none\" fill=\"black\" font-family=\"Arial\" font-size=\"12.00\"  text-anchor=\"start\">\n",
       "\t\t<text><tspan font-family=\"Arial\" > </tspan></text>\n",
       "\t</g>\n",
       "</g>\n",
       "<g fill=\"none\" color=\"black\" stroke=\"currentColor\" stroke-width=\"1.00\" stroke-linecap=\"butt\" stroke-linejoin=\"miter\">\n",
       "\t<path stroke='black'  d='M1150.1,326.3 L1141.1,326.3  '/>\t<g transform=\"translate(1158.4,330.8)\" stroke=\"none\" fill=\"black\" font-family=\"Arial\" font-size=\"12.00\"  text-anchor=\"start\">\n",
       "\t\t<text><tspan font-family=\"Arial\" > </tspan></text>\n",
       "\t</g>\n",
       "</g>\n",
       "<g fill=\"none\" color=\"black\" stroke=\"currentColor\" stroke-width=\"1.00\" stroke-linecap=\"butt\" stroke-linejoin=\"miter\">\n",
       "\t<path stroke='black'  d='M1150.1,268.3 L1141.1,268.3  '/>\t<g transform=\"translate(1158.4,272.8)\" stroke=\"none\" fill=\"black\" font-family=\"Arial\" font-size=\"12.00\"  text-anchor=\"start\">\n",
       "\t\t<text><tspan font-family=\"Arial\" > </tspan></text>\n",
       "\t</g>\n",
       "</g>\n",
       "<g fill=\"none\" color=\"black\" stroke=\"currentColor\" stroke-width=\"1.00\" stroke-linecap=\"butt\" stroke-linejoin=\"miter\">\n",
       "\t<path stroke='black'  d='M1150.1,210.2 L1141.1,210.2  '/>\t<g transform=\"translate(1158.4,214.7)\" stroke=\"none\" fill=\"black\" font-family=\"Arial\" font-size=\"12.00\"  text-anchor=\"start\">\n",
       "\t\t<text><tspan font-family=\"Arial\" > </tspan></text>\n",
       "\t</g>\n",
       "</g>\n",
       "<g fill=\"none\" color=\"black\" stroke=\"currentColor\" stroke-width=\"1.00\" stroke-linecap=\"butt\" stroke-linejoin=\"miter\">\n",
       "\t<path stroke='black'  d='M1150.1,152.2 L1141.1,152.2  '/>\t<g transform=\"translate(1158.4,156.7)\" stroke=\"none\" fill=\"black\" font-family=\"Arial\" font-size=\"12.00\"  text-anchor=\"start\">\n",
       "\t\t<text><tspan font-family=\"Arial\" > </tspan></text>\n",
       "\t</g>\n",
       "</g>\n",
       "<g fill=\"none\" color=\"black\" stroke=\"currentColor\" stroke-width=\"1.00\" stroke-linecap=\"butt\" stroke-linejoin=\"miter\">\n",
       "\t<path stroke='black'  d='M1150.1,94.1 L1141.1,94.1  '/>\t<g transform=\"translate(1158.4,98.6)\" stroke=\"none\" fill=\"black\" font-family=\"Arial\" font-size=\"12.00\"  text-anchor=\"start\">\n",
       "\t\t<text><tspan font-family=\"Arial\" > </tspan></text>\n",
       "\t</g>\n",
       "</g>\n",
       "<g fill=\"none\" color=\"black\" stroke=\"currentColor\" stroke-width=\"1.00\" stroke-linecap=\"butt\" stroke-linejoin=\"miter\">\n",
       "\t<path stroke='black'  d='M1150.1,36.1 L1141.1,36.1  '/>\t<g transform=\"translate(1158.4,40.6)\" stroke=\"none\" fill=\"black\" font-family=\"Arial\" font-size=\"12.00\"  text-anchor=\"start\">\n",
       "\t\t<text><tspan font-family=\"Arial\" > </tspan></text>\n",
       "\t</g>\n",
       "</g>\n",
       "<g fill=\"none\" color=\"black\" stroke=\"currentColor\" stroke-width=\"1.00\" stroke-linecap=\"butt\" stroke-linejoin=\"miter\">\n",
       "\t<path stroke='black'  d='M53.9,36.1 L53.9,45.1  '/>\t<g transform=\"translate(53.9,22.6)\" stroke=\"none\" fill=\"black\" font-family=\"Arial\" font-size=\"12.00\"  text-anchor=\"middle\">\n",
       "\t\t<text><tspan font-family=\"Arial\" > </tspan></text>\n",
       "\t</g>\n",
       "</g>\n",
       "<g fill=\"none\" color=\"black\" stroke=\"currentColor\" stroke-width=\"1.00\" stroke-linecap=\"butt\" stroke-linejoin=\"miter\">\n",
       "\t<path stroke='black'  d='M273.1,36.1 L273.1,45.1  '/>\t<g transform=\"translate(273.1,22.6)\" stroke=\"none\" fill=\"black\" font-family=\"Arial\" font-size=\"12.00\"  text-anchor=\"middle\">\n",
       "\t\t<text><tspan font-family=\"Arial\" > </tspan></text>\n",
       "\t</g>\n",
       "</g>\n",
       "<g fill=\"none\" color=\"black\" stroke=\"currentColor\" stroke-width=\"1.00\" stroke-linecap=\"butt\" stroke-linejoin=\"miter\">\n",
       "\t<path stroke='black'  d='M492.4,36.1 L492.4,45.1  '/>\t<g transform=\"translate(492.4,22.6)\" stroke=\"none\" fill=\"black\" font-family=\"Arial\" font-size=\"12.00\"  text-anchor=\"middle\">\n",
       "\t\t<text><tspan font-family=\"Arial\" > </tspan></text>\n",
       "\t</g>\n",
       "</g>\n",
       "<g fill=\"none\" color=\"black\" stroke=\"currentColor\" stroke-width=\"1.00\" stroke-linecap=\"butt\" stroke-linejoin=\"miter\">\n",
       "\t<path stroke='black'  d='M711.6,36.1 L711.6,45.1  '/>\t<g transform=\"translate(711.6,22.6)\" stroke=\"none\" fill=\"black\" font-family=\"Arial\" font-size=\"12.00\"  text-anchor=\"middle\">\n",
       "\t\t<text><tspan font-family=\"Arial\" > </tspan></text>\n",
       "\t</g>\n",
       "</g>\n",
       "<g fill=\"none\" color=\"black\" stroke=\"currentColor\" stroke-width=\"1.00\" stroke-linecap=\"butt\" stroke-linejoin=\"miter\">\n",
       "\t<path stroke='black'  d='M930.9,36.1 L930.9,45.1  '/>\t<g transform=\"translate(930.9,22.6)\" stroke=\"none\" fill=\"black\" font-family=\"Arial\" font-size=\"12.00\"  text-anchor=\"middle\">\n",
       "\t\t<text><tspan font-family=\"Arial\" > </tspan></text>\n",
       "\t</g>\n",
       "</g>\n",
       "<g fill=\"none\" color=\"black\" stroke=\"currentColor\" stroke-width=\"1.00\" stroke-linecap=\"butt\" stroke-linejoin=\"miter\">\n",
       "\t<path stroke='black'  d='M1150.1,36.1 L1150.1,45.1  '/>\t<g transform=\"translate(1150.1,22.6)\" stroke=\"none\" fill=\"black\" font-family=\"Arial\" font-size=\"12.00\"  text-anchor=\"middle\">\n",
       "\t\t<text><tspan font-family=\"Arial\" > </tspan></text>\n",
       "\t</g>\n",
       "</g>\n",
       "<g fill=\"none\" color=\"black\" stroke=\"currentColor\" stroke-width=\"1.00\" stroke-linecap=\"butt\" stroke-linejoin=\"miter\">\n",
       "</g>\n",
       "<g fill=\"none\" color=\"black\" stroke=\"currentColor\" stroke-width=\"1.00\" stroke-linecap=\"butt\" stroke-linejoin=\"miter\">\n",
       "\t<path stroke='black'  d='M53.9,36.1 L53.9,442.4 L1150.1,442.4 L1150.1,36.1 L53.9,36.1 Z  '/></g>\n",
       "<g fill=\"none\" color=\"black\" stroke=\"currentColor\" stroke-width=\"1.00\" stroke-linecap=\"butt\" stroke-linejoin=\"miter\">\n",
       "\t<g transform=\"translate(602.0,491.9)\" stroke=\"none\" fill=\"black\" font-family=\"Arial\" font-size=\"12.00\"  text-anchor=\"middle\">\n",
       "\t\t<text><tspan font-family=\"Arial\" >Iteration</tspan></text>\n",
       "\t</g>\n",
       "</g>\n",
       "<g fill=\"none\" color=\"black\" stroke=\"currentColor\" stroke-width=\"1.00\" stroke-linecap=\"butt\" stroke-linejoin=\"miter\">\n",
       "</g>\n",
       "\t<g id=\"gnuplot_plot_1\" ><title>||R(z)||</title>\n",
       "<g fill=\"none\" color=\"black\" stroke=\"currentColor\" stroke-width=\"1.00\" stroke-linecap=\"butt\" stroke-linejoin=\"miter\">\n",
       "\t<g transform=\"translate(1053.0,63.1)\" stroke=\"none\" fill=\"black\" font-family=\"Arial\" font-size=\"16.00\"  text-anchor=\"start\">\n",
       "\t\t<text><tspan font-family=\"Arial\" >||R(z)||</tspan></text>\n",
       "\t</g>\n",
       "</g>\n",
       "<g fill=\"none\" color=\"black\" stroke=\"currentColor\" stroke-width=\"1.00\" stroke-linecap=\"butt\" stroke-linejoin=\"miter\">\n",
       "\t<path stroke='rgb(  0,   0, 255)'  d='M988.5,57.1 L1041.9,57.1 M53.9,76.4 L75.8,85.5 L97.7,93.6 L119.7,91.3 L141.6,93.0 L163.5,93.4\n",
       "\t\tL185.4,93.9 L207.4,93.6 L229.3,88.4 L251.2,97.0 L273.1,97.9 L295.1,100.7 L317.0,102.4 L338.9,103.8\n",
       "\t\tL360.8,104.2 L382.8,104.4 L404.7,111.1 L426.6,111.9 L448.5,116.5 L470.5,119.9 L492.4,121.4 L514.3,128.3\n",
       "\t\tL536.2,135.0 L558.2,140.6 L580.1,144.0 L602.0,148.9 L623.9,152.8 L645.8,157.2 L667.8,161.5 L689.7,168.7\n",
       "\t\tL711.6,175.8 L733.5,186.2 L755.5,198.4 L777.4,214.6 L799.3,235.3 L821.2,260.1 L843.2,287.3 L865.1,302.8\n",
       "\t\tL887.0,326.6 L908.9,335.0 L930.9,337.4 L952.8,349.7 L974.7,360.2 L996.6,361.7 L1018.6,365.2 L1040.5,366.0\n",
       "\t\tL1062.4,367.8 L1084.3,369.1 L1106.3,369.2 L1128.2,369.9 L1150.1,370.3  '/>\t<use xlink:href='#gpPt12' transform='translate(53.9,76.4) scale(4.50)' color='rgb(  0,   0, 255)'/>\n",
       "\t<use xlink:href='#gpPt12' transform='translate(75.8,85.5) scale(4.50)' color='rgb(  0,   0, 255)'/>\n",
       "\t<use xlink:href='#gpPt12' transform='translate(97.7,93.6) scale(4.50)' color='rgb(  0,   0, 255)'/>\n",
       "\t<use xlink:href='#gpPt12' transform='translate(119.7,91.3) scale(4.50)' color='rgb(  0,   0, 255)'/>\n",
       "\t<use xlink:href='#gpPt12' transform='translate(141.6,93.0) scale(4.50)' color='rgb(  0,   0, 255)'/>\n",
       "\t<use xlink:href='#gpPt12' transform='translate(163.5,93.4) scale(4.50)' color='rgb(  0,   0, 255)'/>\n",
       "\t<use xlink:href='#gpPt12' transform='translate(185.4,93.9) scale(4.50)' color='rgb(  0,   0, 255)'/>\n",
       "\t<use xlink:href='#gpPt12' transform='translate(207.4,93.6) scale(4.50)' color='rgb(  0,   0, 255)'/>\n",
       "\t<use xlink:href='#gpPt12' transform='translate(229.3,88.4) scale(4.50)' color='rgb(  0,   0, 255)'/>\n",
       "\t<use xlink:href='#gpPt12' transform='translate(251.2,97.0) scale(4.50)' color='rgb(  0,   0, 255)'/>\n",
       "\t<use xlink:href='#gpPt12' transform='translate(273.1,97.9) scale(4.50)' color='rgb(  0,   0, 255)'/>\n",
       "\t<use xlink:href='#gpPt12' transform='translate(295.1,100.7) scale(4.50)' color='rgb(  0,   0, 255)'/>\n",
       "\t<use xlink:href='#gpPt12' transform='translate(317.0,102.4) scale(4.50)' color='rgb(  0,   0, 255)'/>\n",
       "\t<use xlink:href='#gpPt12' transform='translate(338.9,103.8) scale(4.50)' color='rgb(  0,   0, 255)'/>\n",
       "\t<use xlink:href='#gpPt12' transform='translate(360.8,104.2) scale(4.50)' color='rgb(  0,   0, 255)'/>\n",
       "\t<use xlink:href='#gpPt12' transform='translate(382.8,104.4) scale(4.50)' color='rgb(  0,   0, 255)'/>\n",
       "\t<use xlink:href='#gpPt12' transform='translate(404.7,111.1) scale(4.50)' color='rgb(  0,   0, 255)'/>\n",
       "\t<use xlink:href='#gpPt12' transform='translate(426.6,111.9) scale(4.50)' color='rgb(  0,   0, 255)'/>\n",
       "\t<use xlink:href='#gpPt12' transform='translate(448.5,116.5) scale(4.50)' color='rgb(  0,   0, 255)'/>\n",
       "\t<use xlink:href='#gpPt12' transform='translate(470.5,119.9) scale(4.50)' color='rgb(  0,   0, 255)'/>\n",
       "\t<use xlink:href='#gpPt12' transform='translate(492.4,121.4) scale(4.50)' color='rgb(  0,   0, 255)'/>\n",
       "\t<use xlink:href='#gpPt12' transform='translate(514.3,128.3) scale(4.50)' color='rgb(  0,   0, 255)'/>\n",
       "\t<use xlink:href='#gpPt12' transform='translate(536.2,135.0) scale(4.50)' color='rgb(  0,   0, 255)'/>\n",
       "\t<use xlink:href='#gpPt12' transform='translate(558.2,140.6) scale(4.50)' color='rgb(  0,   0, 255)'/>\n",
       "\t<use xlink:href='#gpPt12' transform='translate(580.1,144.0) scale(4.50)' color='rgb(  0,   0, 255)'/>\n",
       "\t<use xlink:href='#gpPt12' transform='translate(602.0,148.9) scale(4.50)' color='rgb(  0,   0, 255)'/>\n",
       "\t<use xlink:href='#gpPt12' transform='translate(623.9,152.8) scale(4.50)' color='rgb(  0,   0, 255)'/>\n",
       "\t<use xlink:href='#gpPt12' transform='translate(645.8,157.2) scale(4.50)' color='rgb(  0,   0, 255)'/>\n",
       "\t<use xlink:href='#gpPt12' transform='translate(667.8,161.5) scale(4.50)' color='rgb(  0,   0, 255)'/>\n",
       "\t<use xlink:href='#gpPt12' transform='translate(689.7,168.7) scale(4.50)' color='rgb(  0,   0, 255)'/>\n",
       "\t<use xlink:href='#gpPt12' transform='translate(711.6,175.8) scale(4.50)' color='rgb(  0,   0, 255)'/>\n",
       "\t<use xlink:href='#gpPt12' transform='translate(733.5,186.2) scale(4.50)' color='rgb(  0,   0, 255)'/>\n",
       "\t<use xlink:href='#gpPt12' transform='translate(755.5,198.4) scale(4.50)' color='rgb(  0,   0, 255)'/>\n",
       "\t<use xlink:href='#gpPt12' transform='translate(777.4,214.6) scale(4.50)' color='rgb(  0,   0, 255)'/>\n",
       "\t<use xlink:href='#gpPt12' transform='translate(799.3,235.3) scale(4.50)' color='rgb(  0,   0, 255)'/>\n",
       "\t<use xlink:href='#gpPt12' transform='translate(821.2,260.1) scale(4.50)' color='rgb(  0,   0, 255)'/>\n",
       "\t<use xlink:href='#gpPt12' transform='translate(843.2,287.3) scale(4.50)' color='rgb(  0,   0, 255)'/>\n",
       "\t<use xlink:href='#gpPt12' transform='translate(865.1,302.8) scale(4.50)' color='rgb(  0,   0, 255)'/>\n",
       "\t<use xlink:href='#gpPt12' transform='translate(887.0,326.6) scale(4.50)' color='rgb(  0,   0, 255)'/>\n",
       "\t<use xlink:href='#gpPt12' transform='translate(908.9,335.0) scale(4.50)' color='rgb(  0,   0, 255)'/>\n",
       "\t<use xlink:href='#gpPt12' transform='translate(930.9,337.4) scale(4.50)' color='rgb(  0,   0, 255)'/>\n",
       "\t<use xlink:href='#gpPt12' transform='translate(952.8,349.7) scale(4.50)' color='rgb(  0,   0, 255)'/>\n",
       "\t<use xlink:href='#gpPt12' transform='translate(974.7,360.2) scale(4.50)' color='rgb(  0,   0, 255)'/>\n",
       "\t<use xlink:href='#gpPt12' transform='translate(996.6,361.7) scale(4.50)' color='rgb(  0,   0, 255)'/>\n",
       "\t<use xlink:href='#gpPt12' transform='translate(1018.6,365.2) scale(4.50)' color='rgb(  0,   0, 255)'/>\n",
       "\t<use xlink:href='#gpPt12' transform='translate(1040.5,366.0) scale(4.50)' color='rgb(  0,   0, 255)'/>\n",
       "\t<use xlink:href='#gpPt12' transform='translate(1062.4,367.8) scale(4.50)' color='rgb(  0,   0, 255)'/>\n",
       "\t<use xlink:href='#gpPt12' transform='translate(1084.3,369.1) scale(4.50)' color='rgb(  0,   0, 255)'/>\n",
       "\t<use xlink:href='#gpPt12' transform='translate(1106.3,369.2) scale(4.50)' color='rgb(  0,   0, 255)'/>\n",
       "\t<use xlink:href='#gpPt12' transform='translate(1128.2,369.9) scale(4.50)' color='rgb(  0,   0, 255)'/>\n",
       "\t<use xlink:href='#gpPt12' transform='translate(1150.1,370.3) scale(4.50)' color='rgb(  0,   0, 255)'/>\n",
       "\t<use xlink:href='#gpPt12' transform='translate(1015.2,57.1) scale(4.50)' color='rgb(  0,   0, 255)'/>\n",
       "</g>\n",
       "\t</g>\n",
       "\t<g id=\"gnuplot_plot_2\" ><title>||r(z)||</title>\n",
       "<g fill=\"none\" color=\"black\" stroke=\"currentColor\" stroke-width=\"1.00\" stroke-linecap=\"butt\" stroke-linejoin=\"miter\">\n",
       "\t<g transform=\"translate(1053.0,87.1)\" stroke=\"none\" fill=\"black\" font-family=\"Arial\" font-size=\"16.00\"  text-anchor=\"start\">\n",
       "\t\t<text><tspan font-family=\"Arial\" >||r(z)||</tspan></text>\n",
       "\t</g>\n",
       "</g>\n",
       "<g fill=\"none\" color=\"black\" stroke=\"currentColor\" stroke-width=\"1.00\" stroke-linecap=\"butt\" stroke-linejoin=\"miter\">\n",
       "\t<path stroke='rgb(255,   0,   0)'  d='M988.5,81.1 L1041.9,81.1 M53.9,84.5 L75.8,96.0 L97.7,118.8 L119.7,109.9 L141.6,117.1 L163.5,120.5\n",
       "\t\tL185.4,119.9 L207.4,108.3 L229.3,101.3 L251.2,110.9 L273.1,113.6 L295.1,115.3 L317.0,140.5 L338.9,123.2\n",
       "\t\tL360.8,121.6 L382.8,122.9 L404.7,148.3 L426.6,145.5 L448.5,145.6 L470.5,140.8 L492.4,143.8 L514.3,154.8\n",
       "\t\tL536.2,170.8 L558.2,166.7 L580.1,161.0 L602.0,171.3 L623.9,180.1 L645.8,177.3 L667.8,182.3 L689.7,188.1\n",
       "\t\tL711.6,194.5 L733.5,203.0 L755.5,215.6 L777.4,229.9 L799.3,253.2 L821.2,274.8 L843.2,303.8 L865.1,313.3\n",
       "\t\tL887.0,338.1 L908.9,345.0 L930.9,348.2 L952.8,362.2 L974.7,376.6 L996.6,379.0 L1018.6,387.9 L1040.5,384.0\n",
       "\t\tL1062.4,387.9 L1084.3,396.0 L1106.3,390.4 L1128.2,397.0 L1150.1,394.5  '/>\t<use xlink:href='#gpPt2' transform='translate(53.9,84.5) scale(4.50)' color='rgb(255,   0,   0)'/>\n",
       "\t<use xlink:href='#gpPt2' transform='translate(75.8,96.0) scale(4.50)' color='rgb(255,   0,   0)'/>\n",
       "\t<use xlink:href='#gpPt2' transform='translate(97.7,118.8) scale(4.50)' color='rgb(255,   0,   0)'/>\n",
       "\t<use xlink:href='#gpPt2' transform='translate(119.7,109.9) scale(4.50)' color='rgb(255,   0,   0)'/>\n",
       "\t<use xlink:href='#gpPt2' transform='translate(141.6,117.1) scale(4.50)' color='rgb(255,   0,   0)'/>\n",
       "\t<use xlink:href='#gpPt2' transform='translate(163.5,120.5) scale(4.50)' color='rgb(255,   0,   0)'/>\n",
       "\t<use xlink:href='#gpPt2' transform='translate(185.4,119.9) scale(4.50)' color='rgb(255,   0,   0)'/>\n",
       "\t<use xlink:href='#gpPt2' transform='translate(207.4,108.3) scale(4.50)' color='rgb(255,   0,   0)'/>\n",
       "\t<use xlink:href='#gpPt2' transform='translate(229.3,101.3) scale(4.50)' color='rgb(255,   0,   0)'/>\n",
       "\t<use xlink:href='#gpPt2' transform='translate(251.2,110.9) scale(4.50)' color='rgb(255,   0,   0)'/>\n",
       "\t<use xlink:href='#gpPt2' transform='translate(273.1,113.6) scale(4.50)' color='rgb(255,   0,   0)'/>\n",
       "\t<use xlink:href='#gpPt2' transform='translate(295.1,115.3) scale(4.50)' color='rgb(255,   0,   0)'/>\n",
       "\t<use xlink:href='#gpPt2' transform='translate(317.0,140.5) scale(4.50)' color='rgb(255,   0,   0)'/>\n",
       "\t<use xlink:href='#gpPt2' transform='translate(338.9,123.2) scale(4.50)' color='rgb(255,   0,   0)'/>\n",
       "\t<use xlink:href='#gpPt2' transform='translate(360.8,121.6) scale(4.50)' color='rgb(255,   0,   0)'/>\n",
       "\t<use xlink:href='#gpPt2' transform='translate(382.8,122.9) scale(4.50)' color='rgb(255,   0,   0)'/>\n",
       "\t<use xlink:href='#gpPt2' transform='translate(404.7,148.3) scale(4.50)' color='rgb(255,   0,   0)'/>\n",
       "\t<use xlink:href='#gpPt2' transform='translate(426.6,145.5) scale(4.50)' color='rgb(255,   0,   0)'/>\n",
       "\t<use xlink:href='#gpPt2' transform='translate(448.5,145.6) scale(4.50)' color='rgb(255,   0,   0)'/>\n",
       "\t<use xlink:href='#gpPt2' transform='translate(470.5,140.8) scale(4.50)' color='rgb(255,   0,   0)'/>\n",
       "\t<use xlink:href='#gpPt2' transform='translate(492.4,143.8) scale(4.50)' color='rgb(255,   0,   0)'/>\n",
       "\t<use xlink:href='#gpPt2' transform='translate(514.3,154.8) scale(4.50)' color='rgb(255,   0,   0)'/>\n",
       "\t<use xlink:href='#gpPt2' transform='translate(536.2,170.8) scale(4.50)' color='rgb(255,   0,   0)'/>\n",
       "\t<use xlink:href='#gpPt2' transform='translate(558.2,166.7) scale(4.50)' color='rgb(255,   0,   0)'/>\n",
       "\t<use xlink:href='#gpPt2' transform='translate(580.1,161.0) scale(4.50)' color='rgb(255,   0,   0)'/>\n",
       "\t<use xlink:href='#gpPt2' transform='translate(602.0,171.3) scale(4.50)' color='rgb(255,   0,   0)'/>\n",
       "\t<use xlink:href='#gpPt2' transform='translate(623.9,180.1) scale(4.50)' color='rgb(255,   0,   0)'/>\n",
       "\t<use xlink:href='#gpPt2' transform='translate(645.8,177.3) scale(4.50)' color='rgb(255,   0,   0)'/>\n",
       "\t<use xlink:href='#gpPt2' transform='translate(667.8,182.3) scale(4.50)' color='rgb(255,   0,   0)'/>\n",
       "\t<use xlink:href='#gpPt2' transform='translate(689.7,188.1) scale(4.50)' color='rgb(255,   0,   0)'/>\n",
       "\t<use xlink:href='#gpPt2' transform='translate(711.6,194.5) scale(4.50)' color='rgb(255,   0,   0)'/>\n",
       "\t<use xlink:href='#gpPt2' transform='translate(733.5,203.0) scale(4.50)' color='rgb(255,   0,   0)'/>\n",
       "\t<use xlink:href='#gpPt2' transform='translate(755.5,215.6) scale(4.50)' color='rgb(255,   0,   0)'/>\n",
       "\t<use xlink:href='#gpPt2' transform='translate(777.4,229.9) scale(4.50)' color='rgb(255,   0,   0)'/>\n",
       "\t<use xlink:href='#gpPt2' transform='translate(799.3,253.2) scale(4.50)' color='rgb(255,   0,   0)'/>\n",
       "\t<use xlink:href='#gpPt2' transform='translate(821.2,274.8) scale(4.50)' color='rgb(255,   0,   0)'/>\n",
       "\t<use xlink:href='#gpPt2' transform='translate(843.2,303.8) scale(4.50)' color='rgb(255,   0,   0)'/>\n",
       "\t<use xlink:href='#gpPt2' transform='translate(865.1,313.3) scale(4.50)' color='rgb(255,   0,   0)'/>\n",
       "\t<use xlink:href='#gpPt2' transform='translate(887.0,338.1) scale(4.50)' color='rgb(255,   0,   0)'/>\n",
       "\t<use xlink:href='#gpPt2' transform='translate(908.9,345.0) scale(4.50)' color='rgb(255,   0,   0)'/>\n",
       "\t<use xlink:href='#gpPt2' transform='translate(930.9,348.2) scale(4.50)' color='rgb(255,   0,   0)'/>\n",
       "\t<use xlink:href='#gpPt2' transform='translate(952.8,362.2) scale(4.50)' color='rgb(255,   0,   0)'/>\n",
       "\t<use xlink:href='#gpPt2' transform='translate(974.7,376.6) scale(4.50)' color='rgb(255,   0,   0)'/>\n",
       "\t<use xlink:href='#gpPt2' transform='translate(996.6,379.0) scale(4.50)' color='rgb(255,   0,   0)'/>\n",
       "\t<use xlink:href='#gpPt2' transform='translate(1018.6,387.9) scale(4.50)' color='rgb(255,   0,   0)'/>\n",
       "\t<use xlink:href='#gpPt2' transform='translate(1040.5,384.0) scale(4.50)' color='rgb(255,   0,   0)'/>\n",
       "\t<use xlink:href='#gpPt2' transform='translate(1062.4,387.9) scale(4.50)' color='rgb(255,   0,   0)'/>\n",
       "\t<use xlink:href='#gpPt2' transform='translate(1084.3,396.0) scale(4.50)' color='rgb(255,   0,   0)'/>\n",
       "\t<use xlink:href='#gpPt2' transform='translate(1106.3,390.4) scale(4.50)' color='rgb(255,   0,   0)'/>\n",
       "\t<use xlink:href='#gpPt2' transform='translate(1128.2,397.0) scale(4.50)' color='rgb(255,   0,   0)'/>\n",
       "\t<use xlink:href='#gpPt2' transform='translate(1150.1,394.5) scale(4.50)' color='rgb(255,   0,   0)'/>\n",
       "\t<use xlink:href='#gpPt2' transform='translate(1015.2,81.1) scale(4.50)' color='rgb(255,   0,   0)'/>\n",
       "</g>\n",
       "\t</g>\n",
       "<g fill=\"none\" color=\"#FFFFFF\" stroke=\"rgb(255,   0,   0)\" stroke-width=\"2.00\" stroke-linecap=\"butt\" stroke-linejoin=\"miter\">\n",
       "</g>\n",
       "<g fill=\"none\" color=\"black\" stroke=\"currentColor\" stroke-width=\"2.00\" stroke-linecap=\"butt\" stroke-linejoin=\"miter\">\n",
       "</g>\n",
       "<g fill=\"none\" color=\"black\" stroke=\"black\" stroke-width=\"1.00\" stroke-linecap=\"butt\" stroke-linejoin=\"miter\">\n",
       "</g>\n",
       "<g fill=\"none\" color=\"black\" stroke=\"currentColor\" stroke-width=\"1.00\" stroke-linecap=\"butt\" stroke-linejoin=\"miter\">\n",
       "\t<path stroke='black'  d='M53.9,36.1 L53.9,442.4 L1150.1,442.4 L1150.1,36.1 L53.9,36.1 Z  '/></g>\n",
       "<g fill=\"none\" color=\"black\" stroke=\"currentColor\" stroke-width=\"1.00\" stroke-linecap=\"butt\" stroke-linejoin=\"miter\">\n",
       "</g>\n",
       "</g>\n",
       "</svg>\n",
       "\n"
      ]
     },
     "metadata": {},
     "output_type": "display_data"
    }
   ],
   "source": [
    "pSAIDT.ResNorms.SaveToTextFile(\"SAIDTResNorms.txt\");\n",
    "pSAIDT.obj_f_vals.SaveToTextFile(\"SAIDTEnResNorms.txt\");\n",
    "pSAIDT.GetResPlot().ToGnuplot().PlotSVG(xRes:1200,yRes:500)"
   ]
  },
  {
   "cell_type": "code",
   "execution_count": null,
   "metadata": {
    "dotnet_interactive": {
     "language": "csharp"
    },
    "polyglot_notebook": {
     "kernelName": "csharp"
    }
   },
   "outputs": [],
   "source": [
    "var si= database.Sessions.Pick(0);\n",
    "pSAIDT.PlotShadowFields(si);"
   ]
  },
  {
   "cell_type": "code",
   "execution_count": null,
   "metadata": {
    "dotnet_interactive": {
     "language": "csharp"
    },
    "polyglot_notebook": {
     "kernelName": "csharp"
    }
   },
   "outputs": [],
   "source": []
  }
 ],
 "metadata": {
  "kernelspec": {
   "display_name": ".NET (C#)",
   "language": "C#",
   "name": ".net-csharp"
  },
  "language_info": {
   "name": "polyglot-notebook"
  },
  "polyglot_notebook": {
   "kernelInfo": {
    "defaultKernelName": "csharp",
    "items": [
     {
      "aliases": [],
      "name": ".NET"
     },
     {
      "aliases": [
       "C#",
       "c#"
      ],
      "languageName": "C#",
      "name": "csharp"
     },
     {
      "aliases": [
       "F#",
       "f#"
      ],
      "languageName": "F#",
      "name": "fsharp"
     },
     {
      "aliases": [],
      "languageName": "HTML",
      "name": "html"
     },
     {
      "aliases": [
       "js"
      ],
      "languageName": "JavaScript",
      "name": "javascript"
     },
     {
      "aliases": [],
      "languageName": "KQL",
      "name": "kql"
     },
     {
      "aliases": [],
      "languageName": "Mermaid",
      "name": "mermaid"
     },
     {
      "aliases": [
       "powershell"
      ],
      "languageName": "PowerShell",
      "name": "pwsh"
     },
     {
      "aliases": [],
      "languageName": "SQL",
      "name": "sql"
     },
     {
      "aliases": [],
      "name": "value"
     },
     {
      "aliases": [
       "frontend"
      ],
      "name": "vscode"
     },
     {
      "aliases": [],
      "name": "webview"
     }
    ]
   }
  }
 },
 "nbformat": 4,
 "nbformat_minor": 2
}
