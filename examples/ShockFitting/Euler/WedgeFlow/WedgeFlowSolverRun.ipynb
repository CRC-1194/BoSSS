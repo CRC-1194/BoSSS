{
 "cells": [
  {
   "cell_type": "code",
   "execution_count": 1,
   "metadata": {
    "dotnet_interactive": {
     "language": "csharp"
    }
   },
   "outputs": [],
   "source": [
    "#r \".\\binaries\\BoSSSpad.dll\"\n",
    "#r \".\\binaries\\XESF.dll\"\n",
    "#r \".\\binaries\\ApplicationWithIDT.dll\"\n",
    "using System;\n",
    "using System.Collections.Generic;\n",
    "using System.Linq;\n",
    "using ilPSP;\n",
    "using ilPSP.Utils;\n",
    "using BoSSS.Platform;\n",
    "using BoSSS.Platform.LinAlg;\n",
    "using BoSSS.Foundation;\n",
    "using BoSSS.Foundation.XDG;\n",
    "using BoSSS.Foundation.Grid;\n",
    "using BoSSS.Foundation.Grid.Classic;\n",
    "using BoSSS.Foundation.Grid.RefElements;\n",
    "using BoSSS.Foundation.IO;\n",
    "using BoSSS.Solution;\n",
    "using BoSSS.Solution.Control;\n",
    "using BoSSS.Solution.GridImport;\n",
    "using BoSSS.Solution.Statistic;\n",
    "using BoSSS.Solution.Utils;\n",
    "using BoSSS.Solution.AdvancedSolvers;\n",
    "using BoSSS.Solution.Gnuplot;\n",
    "using BoSSS.Application.BoSSSpad;\n",
    "using BoSSS.Application.XNSE_Solver;\n",
    "using ApplicationWithIDT;\n",
    "using XESF;\n",
    "using static BoSSS.Application.BoSSSpad.BoSSSshell;\n",
    "Init();\n"
   ]
  },
  {
   "attachments": {},
   "cell_type": "markdown",
   "metadata": {},
   "source": [
    "# Run Simulation"
   ]
  },
  {
   "cell_type": "code",
   "execution_count": 2,
   "metadata": {
    "dotnet_interactive": {
     "language": "csharp"
    },
    "polyglot_notebook": {
     "kernelName": "csharp"
    }
   },
   "outputs": [
    {
     "data": {
      "text/plain": [
       "30082023"
      ]
     },
     "metadata": {},
     "output_type": "display_data"
    }
   ],
   "source": [
    "var date = DateTime.Now.ToString(\"ddMMyyyy\");\n",
    "date"
   ]
  },
  {
   "attachments": {},
   "cell_type": "markdown",
   "metadata": {},
   "source": [
    "open a database"
   ]
  },
  {
   "cell_type": "code",
   "execution_count": 3,
   "metadata": {
    "dotnet_interactive": {
     "language": "csharp"
    },
    "polyglot_notebook": {
     "kernelName": "csharp"
    }
   },
   "outputs": [
    {
     "name": "stdout",
     "output_type": "stream",
     "text": [
      "Creating database 'WedgeFlow_db_30082023'.\r\n"
     ]
    }
   ],
   "source": [
    "string dbPath = @\"WedgeFlow_db_\" + date ;\n",
    "var database = OpenOrCreateDatabase(dbPath);"
   ]
  },
  {
   "attachments": {},
   "cell_type": "markdown",
   "metadata": {},
   "source": [
    "run WedgeFlow simulation and safe to database"
   ]
  },
  {
   "cell_type": "code",
   "execution_count": 5,
   "metadata": {
    "dotnet_interactive": {
     "language": "csharp"
    },
    "polyglot_notebook": {
     "kernelName": "csharp"
    }
   },
   "outputs": [
    {
     "name": "stdout",
     "output_type": "stream",
     "text": [
      "rm;\n",
      "Grid Edge Tags changed.\n",
      "Session ID: 88f743c3-0474-4e8e-953a-c4a6bea331fb, DB path: 'WedgeFlow_db_30082023'\n",
      "Session directory 'WedgeFlow_db_30082023\\sessions\\88f743c3-0474-4e8e-953a-c4a6bea331fb'.\n",
      "Initial Value : l2: |r|= 1.0778378E+01, |f_err|=2.4570273E+01, | f_phi |=0E+00,\n",
      "\n",
      "Starting Opt-Iter No.1: \n",
      "alpha, ||R1||  1, Error \n",
      "alpha, ||R1||  0.5, Error \n",
      "alpha, ||R1||  0.25, Error \n",
      "alpha, M, predM  0.125, 10770.664450276225, 12304.91412764366\n",
      "l2: ||R0||= 9.0972954E+00, f_err=2.150577E+01, f_phi=0E+00, Alpha = 1.25E-01, Gamma = 1E+00, Kappa = 1E+03, Mu = 1.63E+02, QuadOrder=2\n",
      "**NOT** terminating now, minimal number of iterations not reached\n",
      "\n",
      "\n",
      "Starting Opt-Iter No.2: \n",
      "alpha, ||R1|| 1 LevelSetCFL \n",
      "alpha, ||R1|| 0.5 LevelSetCFL \n",
      "alpha, ||R1||  0.25, Error \n",
      "alpha, ||R1||  0.125, Error \n",
      "alpha, ||R1||  0.0625, Error \n",
      "alpha, M, predM  0.03125, 5648.869840730589, 5835.951678368398\n",
      "l2: ||R0||= 8.8168796E+00, f_err=2.098005E+01, f_phi=0E+00, Alpha = 3.13E-02, Gamma = 1E+00, Kappa = 1E+03, Mu = 8.65E+01, QuadOrder=2\n",
      "**NOT** terminating now, minimal number of iterations not reached\n",
      "\n",
      "\n",
      "Starting Opt-Iter No.3: \n",
      "alpha, ||R1|| 1 LevelSetCFL \n",
      "alpha, ||R1|| 0.5 LevelSetCFL \n",
      "alpha, ||R1|| 0.25 LevelSetCFL \n",
      "alpha, ||R1||  0.125, Error \n",
      "alpha, M, predM  0.0625, 6154.7107503223215, 5666.562185765377\n",
      "alpha, M, predM  0.03125, 5622.307035460345, 5666.58028880031\n",
      "l2: ||R0||= 8.5734901E+00, f_err=2.050486E+01, f_phi=0E+00, Alpha = 3.13E-02, Gamma = 1E+00, Kappa = 1E+03, Mu = 8.69E+01, QuadOrder=2\n",
      "**NOT** terminating now, minimal number of iterations not reached\n",
      "\n",
      "\n",
      "Starting Opt-Iter No.4: \n",
      "alpha, ||R1||  1, Error \n",
      "alpha, ||R1||  0.5, Error \n",
      "alpha, M, predM  0.25, 5095.925587675565, 5997.2256865230165\n",
      "l2: ||R0||= 6.9297597E+00, f_err=1.77191E+01, f_phi=0E+00, Alpha = 2.5E-01, Gamma = 1E+00, Kappa = 1E+03, Mu = 9.52E+01, QuadOrder=2\n",
      "**NOT** terminating now, minimal number of iterations not reached\n",
      "\n",
      "\n",
      "Starting Opt-Iter No.5: \n",
      "alpha, ||R1|| 1 LevelSetCFL \n",
      "alpha, ||R1|| 0.5 LevelSetCFL \n",
      "alpha, ||R1||  0.25, Error \n",
      "alpha, ||R1||  0.125, Error \n",
      "alpha, M, predM  0.0625, 4449.527651719609, 4744.03169229319\n",
      "l2: ||R0||= 6.0260089E+00, f_err=1.550902E+01, f_phi=0E+00, Alpha = 6.25E-02, Gamma = 1E+00, Kappa = 1E+03, Mu = 1.01E+02, QuadOrder=2\n",
      "**NOT** terminating now, minimal number of iterations not reached\n",
      "\n",
      "\n",
      "Starting Opt-Iter No.6: \n",
      "alpha, ||R1|| 1 LevelSetCFL \n",
      "alpha, ||R1||  0.5, Error \n",
      "alpha, ||R1||  0.25, Error \n",
      "alpha, M, predM  0.125, 3399.2066079990327, 3880.6536741369123\n",
      "l2: ||R0||= 5.2426519E+00, f_err=1.403571E+01, f_phi=0E+00, Alpha = 1.25E-01, Gamma = 1E+00, Kappa = 1E+03, Mu = 8.78E+01, QuadOrder=2\n",
      "**NOT** terminating now, minimal number of iterations not reached\n",
      "\n",
      "\n",
      "Starting Opt-Iter No.7: \n",
      "alpha, ||R1|| 1 LevelSetCFL \n",
      "alpha, ||R1|| 0.5 LevelSetCFL \n",
      "alpha, M, predM  0.25, 2638.8556968480443, 2755.9248655788965\n",
      "l2: ||R0||= 4.6439326E+00, f_err=1.224675E+01, f_phi=0E+00, Alpha = 2.5E-01, Gamma = 1E+00, Kappa = 1E+03, Mu = 7.53E+01, QuadOrder=2\n",
      "**NOT** terminating now, minimal number of iterations not reached\n",
      "\n",
      "\n",
      "Starting Opt-Iter No.8: \n",
      "alpha, M, predM  1, 430.6574689247891, 2973.1987945475457\n",
      "l2: ||R0||= 6.0721184E-01, f_err=5.257209E+00, f_phi=0E+00, Alpha = 1E+00, Gamma = 1E+00, Kappa = 1E+03, Mu = 1.11E+02, QuadOrder=2\n",
      "**NOT** terminating now, minimal number of iterations not reached\n",
      "\n",
      "\n",
      "Starting Opt-Iter No.9: \n",
      "alpha, M, predM  1, 259.89232062885094, 392.6461836479868\n",
      "l2: ||R0||= 5.4828624E-01, f_err=4.520511E+00, f_phi=0E+00, Alpha = 1E+00, Gamma = 1E+00, Kappa = 1E+03, Mu = 1.16E+02, QuadOrder=2\n",
      "**NOT** terminating now, minimal number of iterations not reached\n",
      "\n",
      "\n",
      "Starting Opt-Iter No.10: \n",
      "alpha, ||R1||  1, Error \n",
      "alpha, ||R1||  0.5, Error \n",
      "alpha, M, predM  0.25, 200.01228781864984, 102.93419014038118\n",
      "alpha, M, predM  0.125, 102.11649644621481, 102.9355510717009\n",
      "l2: ||R0||= 7.1688394E-01, f_err=4.300822E+00, f_phi=0E+00, Alpha = 1.25E-01, Gamma = 1E+00, Kappa = 1E+03, Mu = 3.17E+01, QuadOrder=2\n",
      "**NOT** terminating now, minimal number of iterations not reached\n",
      "\n",
      "\n",
      "Starting Opt-Iter No.11: \n",
      "alpha, M, predM  1, 261.43295915649594, 275.447313146946\n",
      "l2: ||R0||= 7.2663375E-01, f_err=4.005837E+00, f_phi=0E+00, Alpha = 1E+00, Gamma = 1E+00, Kappa = 1E+03, Mu = 9.17E+01, QuadOrder=2\n",
      "**NOT** terminating now, minimal number of iterations not reached\n",
      "\n",
      "\n",
      "Starting Opt-Iter No.12: \n",
      "alpha, ||R1||  1, Error \n",
      "alpha, M, predM  0.5, 392.20804897645974, 154.99796310409494\n",
      "alpha, M, predM  0.25, 181.49179144323685, 155.00195789349704\n",
      "alpha, M, predM  0.125, 148.4421014945794, 155.00395528819809\n",
      "l2: ||R0||= 6.4660452E-01, f_err=3.342257E+00, f_phi=0E+00, Alpha = 1.25E-01, Gamma = 1E+00, Kappa = 1E+03, Mu = 5.43E+01, QuadOrder=2\n",
      "**NOT** terminating now, minimal number of iterations not reached\n",
      "\n",
      "\n",
      "Starting Opt-Iter No.13: \n",
      "alpha, M, predM  1, 116.14674912038214, 38.79013551750461\n",
      "alpha, M, predM  0.5, 24.617133233075926, 38.792334959345666\n",
      "l2: ||R0||= 3.6834682E-01, f_err=1.875703E+00, f_phi=0E+00, Alpha = 5E-01, Gamma = 1E+00, Kappa = 1E+03, Mu = 1.21E+01, QuadOrder=2\n",
      "**NOT** terminating now, minimal number of iterations not reached\n",
      "\n",
      "\n",
      "Starting Opt-Iter No.14: \n",
      "alpha, M, predM  1, 96.87351257998526, 56.258508287317255\n",
      "alpha, M, predM  0.5, 49.06890204552917, 56.261346574279955\n",
      "l2: ||R0||= 3.5600385E-01, f_err=1.579918E+00, f_phi=0E+00, Alpha = 5E-01, Gamma = 1E+00, Kappa = 1E+03, Mu = 2.83E+01, QuadOrder=2\n",
      "**NOT** terminating now, minimal number of iterations not reached\n",
      "\n",
      "\n",
      "Starting Opt-Iter No.15: \n",
      "alpha, ||R1||  1, Error \n",
      "alpha, M, predM  0.5, 25.31270814766125, 51.94069262444389\n",
      "l2: ||R0||= 1.4858031E-01, f_err=1.094488E+00, f_phi=0E+00, Alpha = 5E-01, Gamma = 1E+00, Kappa = 1E+03, Mu = 3.42E+01, QuadOrder=2\n",
      "**NOT** terminating now, minimal number of iterations not reached\n",
      "\n",
      "\n",
      "Starting Opt-Iter No.16: \n",
      "alpha, M, predM  1, 0.6065683101444905, 1.3772946797444214\n",
      "l2: ||R0||= 1.8579272E-01, f_err=5.333332E-01, f_phi=0E+00, Alpha = 1E+00, Gamma = 1E+00, Kappa = 1E+03, Mu = 1.08E+00, QuadOrder=2\n",
      "**NOT** terminating now, minimal number of iterations not reached\n",
      "\n",
      "\n",
      "Starting Opt-Iter No.17: \n",
      "alpha, M, predM  1, 0.007978650596353108, 0.170019154484434\n",
      "l2: ||R0||= 3.1400934E-02, f_err=9.63868E-02, f_phi=0E+00, Alpha = 1E+00, Gamma = 1E+00, Kappa = 1E+03, Mu = 6.45E-02, QuadOrder=2\n",
      "**NOT** terminating now, minimal number of iterations not reached\n",
      "\n",
      "\n",
      "Starting Opt-Iter No.18: \n",
      "alpha, M, predM  1, 1.4554924871321736E-05, 0.0048052430899200764\n",
      "l2: ||R0||= 1.3135234E-03, f_err=3.999949E-03, f_phi=0E+00, Alpha = 1E+00, Gamma = 1E+00, Kappa = 1E+03, Mu = 3.12E-03, QuadOrder=2\n",
      "**NOT** terminating now, minimal number of iterations not reached\n",
      "\n",
      "\n",
      "Starting Opt-Iter No.19: \n",
      "alpha, M, predM  1, 9.421488549108978E-10, 8.233101185617116E-06\n",
      "l2: ||R0||= 3.1658099E-06, f_err=1.246118E-05, f_phi=0E+00, Alpha = 1E+00, Gamma = 6.67E-01, Kappa = 1E+03, Mu = 1.12E-04, QuadOrder=2\n",
      "**NOT** terminating now, minimal number of iterations not reached\n",
      "\n",
      "\n",
      "Starting Opt-Iter No.20: \n",
      "alpha, M, predM  1, 3.309710569790218E-12, 1.814697986043332E-10\n",
      "l2: ||R0||= 5.5426968E-08, f_err=2.685358E-07, f_phi=0E+00, Alpha = 1E+00, Gamma = 4.44E-01, Kappa = 1E+03, Mu = 1.34E-05, QuadOrder=2\n",
      "**NOT** terminating now, minimal number of iterations not reached\n",
      "\n",
      "\n",
      "Starting Opt-Iter No.21: \n",
      "alpha, M, predM  1, 4.766265780383544E-13, 8.031603968709785E-13\n",
      "l2: ||R0||= 3.0853338E-08, f_err=1.059273E-07, f_phi=0E+00, Alpha = 1E+00, Gamma = 2.96E-01, Kappa = 1E+03, Mu = 3.14E-06, QuadOrder=2\n",
      "**NOT** terminating now, minimal number of iterations not reached\n",
      "\n",
      "\n",
      "Starting Opt-Iter No.22: \n",
      "alpha, M, predM  1, 5.6154855659016984E-14, 1.5704047970362288E-13\n",
      "l2: ||R0||= 1.2029294E-08, f_err=3.610186E-08, f_phi=0E+00, Alpha = 1E+00, Gamma = 1.98E-01, Kappa = 1E+03, Mu = 1.01E-06, QuadOrder=2\n",
      "**NOT** terminating now, minimal number of iterations not reached\n",
      "\n",
      "\n",
      "Starting Opt-Iter No.23: \n",
      "alpha, M, predM  1, 3.841122974987857E-15, 1.627227871785777E-14\n",
      "l2: ||R0||= 2.5644253E-09, f_err=1.0414E-08, f_phi=0E+00, Alpha = 1E+00, Gamma = 1.32E-01, Kappa = 1E+03, Mu = 2.84E-07, QuadOrder=2\n",
      "**NOT** terminating now, minimal number of iterations not reached\n",
      "\n",
      "\n",
      "Starting Opt-Iter No.24: \n",
      "alpha, M, predM  1, 1.1944997382708595E-15, 1.9832117503555666E-15\n",
      "l2: ||R0||= 1.929393E-09, f_err=7.841616E-09, f_phi=0E+00, Alpha = 1E+00, Gamma = 8.78E-02, Kappa = 1E+03, Mu = 1.45E-07, QuadOrder=2\n",
      "**NOT** terminating now, minimal number of iterations not reached\n",
      "\n",
      "\n",
      "Starting Opt-Iter No.25: \n",
      "alpha, M, predM  1, 3.5152673514461823E-16, 1.0849919207781738E-15\n",
      "l2: ||R0||= 6.4375982E-10, f_err=7.515033E-09, f_phi=0E+00, Alpha = 1E+00, Gamma = 5.85E-02, Kappa = 1E+03, Mu = 1.31E-07, QuadOrder=2\n",
      "ALNR=69.34346435015514 > 1.005 so we continue\n",
      "\n",
      "\n",
      "Starting Opt-Iter No.26: \n",
      "alpha, M, predM  1, 3.115246785905095E-16, 3.1378426636140714E-16\n",
      "l2: ||R0||= 8.9620851E-10, f_err=7.637033E-09, f_phi=0E+00, Alpha = 1E+00, Gamma = 3.9E-02, Kappa = 1E+03, Mu = 1.16E-07, QuadOrder=2\n",
      "ALNR=10.213590750274422 > 1.005 so we continue\n",
      "\n",
      "\n",
      "Starting Opt-Iter No.27: \n",
      "alpha, M, predM  1, 1.2563569524177918E-16, 3.0608640043012766E-16\n",
      "l2: ||R0||= 2.8084095E-10, f_err=7.379506E-09, f_phi=0E+00, Alpha = 1E+00, Gamma = 2.6E-02, Kappa = 1E+03, Mu = 1.14E-07, QuadOrder=2\n",
      "ALNR=2.381516206598437 > 1.005 so we continue\n",
      "\n",
      "\n",
      "Starting Opt-Iter No.28: \n",
      "alpha, M, predM  1, 5.1652151259579766E-17, 1.259553513758091E-16\n",
      "l2: ||R0||= 5.7395474E-11, f_err=7.308186E-09, f_phi=0E+00, Alpha = 1E+00, Gamma = 1.73E-02, Kappa = 1E+03, Mu = 1.14E-07, QuadOrder=2\n",
      "ALNR=2.823890425443815 > 1.005 so we continue\n",
      "\n",
      "\n",
      "Starting Opt-Iter No.29: \n",
      "alpha, M, predM  1, 3.1403610441834786E-17, 5.104912835114081E-17\n",
      "l2: ||R0||= 7.7898943E-12, f_err=7.302661E-09, f_phi=0E+00, Alpha = 1E+00, Gamma = 1.16E-02, Kappa = 1E+03, Mu = 1.11E-07, QuadOrder=2\n",
      "ALNR=3.5100461121662656 > 1.005 so we continue\n",
      "\n",
      "\n",
      "Starting Opt-Iter No.30: \n",
      "alpha, M, predM  1, 2.8006608118005175E-17, 3.1381336640715365E-17\n",
      "l2: ||R0||= 1.9624881E-12, f_err=7.299549E-09, f_phi=0E+00, Alpha = 1E+00, Gamma = 7.71E-03, Kappa = 1E+03, Mu = 1.11E-07, QuadOrder=2\n",
      "ALNR=3.4069836397251962 > 1.005 so we continue\n",
      "\n",
      "\n",
      "Starting Opt-Iter No.31: \n",
      "alpha, M, predM  1, 2.7303656689760107E-17, 2.8004605283504606E-17\n",
      "l2: ||R0||= 8.4884669E-13, f_err=7.298815E-09, f_phi=0E+00, Alpha = 1E+00, Gamma = 5.14E-03, Kappa = 1E+03, Mu = 1.11E-07, QuadOrder=2\n",
      "ALNR=3.5473851590278116 > 1.005 so we continue\n",
      "\n",
      "\n",
      "Starting Opt-Iter No.32: \n",
      "alpha, M, predM  1, 2.694414008380006E-17, 2.7303152620029458E-17\n",
      "l2: ||R0||= 3.4180044E-13, f_err=7.298166E-09, f_phi=0E+00, Alpha = 1E+00, Gamma = 3.43E-03, Kappa = 1E+03, Mu = 1.11E-07, QuadOrder=2\n",
      "ALNR=3.474011921132486 > 1.005 so we continue\n",
      "\n",
      "\n",
      "Starting Opt-Iter No.33: \n",
      "alpha, M, predM  1, 2.6825498678742398E-17, 2.6944024118244128E-17\n",
      "l2: ||R0||= 1.7561593E-13, f_err=7.297952E-09, f_phi=0E+00, Alpha = 1E+00, Gamma = 2.28E-03, Kappa = 1E+03, Mu = 1.11E-07, QuadOrder=2\n",
      "ALNR=3.6091969521305534 > 1.005 so we continue\n",
      "\n",
      "\n",
      "Starting Opt-Iter No.34: \n",
      "alpha, M, predM  1, 2.6779320520168635E-17, 2.6825457350880925E-17\n",
      "l2: ||R0||= 1.247245E-13, f_err=7.297842E-09, f_phi=0E+00, Alpha = 1E+00, Gamma = 1.52E-03, Kappa = 1E+03, Mu = 1.11E-07, QuadOrder=2\n",
      "ALNR=3.482878812022137 > 1.005 so we continue\n",
      "\n",
      "\n",
      "Starting Opt-Iter No.35: \n",
      "alpha, M, predM  1, 2.674206636589636E-17, 2.6779296949387615E-17\n",
      "l2: ||R0||= 7.7804807E-14, f_err=7.297797E-09, f_phi=0E+00, Alpha = 1E+00, Gamma = 1.01E-03, Kappa = 1E+03, Mu = 1.11E-07, QuadOrder=2\n",
      "ALNR=3.01287285765235 > 1.005 so we continue\n",
      "\n",
      "\n",
      "Starting Opt-Iter No.36: \n",
      "alpha, M, predM  1, 2.673511121887188E-17, 2.6742052496933628E-17\n",
      "l2: ||R0||= 7.0344194E-14, f_err=7.297767E-09, f_phi=0E+00, Alpha = 1E+00, Gamma = 6.77E-04, Kappa = 1E+03, Mu = 1.11E-07, QuadOrder=2\n",
      "ALNR=2.118318381834838 > 1.005 so we continue\n",
      "\n",
      "\n",
      "Starting Opt-Iter No.37: \n",
      "alpha, M, predM  1, 2.6742605138200604E-17, 2.673509986487127E-17\n",
      "alpha, M, predM  0.5, 2.673665848946668E-17, 2.6735105185141172E-17\n",
      "alpha, M, predM  0.25, 2.6729163712375607E-17, 2.6735107845276123E-17\n",
      "l2: ||R0||= 7.0771301E-14, f_err=7.297775E-09, f_phi=0E+00, Alpha = 2.5E-01, Gamma = 4.51E-04, Kappa = 1E+03, Mu = 1.11E-07, QuadOrder=2\n",
      "ALNR=1.6941188076926728 > 1.005 so we continue\n",
      "\n",
      "\n",
      "Starting Opt-Iter No.38: \n",
      "alpha, M, predM  1, 2.673667186912796E-17, 2.6729154264830308E-17\n",
      "alpha, M, predM  0.5, 2.6721548545734867E-17, 2.6729159275445312E-17\n",
      "l2: ||R0||= 6.7415728E-14, f_err=7.297778E-09, f_phi=0E+00, Alpha = 5E-01, Gamma = 3.01E-04, Kappa = 1E+03, Mu = 1.11E-07, QuadOrder=2\n",
      "ALNR=1.5129034501628935 > 1.005 so we continue\n",
      "\n",
      "\n",
      "Starting Opt-Iter No.39: \n",
      "alpha, M, predM  1, 2.6746583499321145E-17, 2.672153934587847E-17\n",
      "alpha, M, predM  0.5, 2.6719077749695806E-17, 2.672154397875007E-17\n",
      "l2: ||R0||= 6.4269733E-14, f_err=7.297822E-09, f_phi=0E+00, Alpha = 5E-01, Gamma = 2E-04, Kappa = 1E+03, Mu = 1.11E-07, QuadOrder=2\n",
      "ALNR=1.3079738636223435 > 1.005 so we continue\n",
      "\n",
      "\n",
      "Starting Opt-Iter No.40: \n",
      "alpha, M, predM  1, 2.6731182340039946E-17, 2.6719068223894562E-17\n",
      "alpha, M, predM  0.5, 2.6722406816021777E-17, 2.6719072728365353E-17\n",
      "alpha, M, predM  0.25, 2.6716661623197885E-17, 2.671907498060075E-17\n",
      "l2: ||R0||= 6.1711589E-14, f_err=7.297795E-09, f_phi=0E+00, Alpha = 2.5E-01, Gamma = 1.34E-04, Kappa = 1E+03, Mu = 1.11E-07, QuadOrder=2\n",
      "ALNR=1.1787107232851517 > 1.005 so we continue\n",
      "\n",
      "\n",
      "Starting Opt-Iter No.41: \n",
      "alpha, M, predM  1, 2.672590061804895E-17, 2.671665309352003E-17\n",
      "alpha, M, predM  0.5, 2.6711987549565826E-17, 2.6716657488906783E-17\n",
      "l2: ||R0||= 6.114839E-14, f_err=7.297781E-09, f_phi=0E+00, Alpha = 5E-01, Gamma = 1E-04, Kappa = 1E+03, Mu = 1.11E-07, QuadOrder=2\n",
      "ALNR=1.1217363920735661 > 1.005 so we continue\n",
      "\n",
      "\n",
      "Starting Opt-Iter No.42: \n",
      "alpha, M, predM  1, 2.673908533129656E-17, 2.6711978848578695E-17\n",
      "alpha, M, predM  0.5, 2.6708536622424027E-17, 2.6711983004056518E-17\n",
      "l2: ||R0||= 5.7829261E-14, f_err=7.297782E-09, f_phi=0E+00, Alpha = 5E-01, Gamma = 1E-04, Kappa = 1E+03, Mu = 1.11E-07, QuadOrder=2\n",
      "ALNR=1.0437866251542167 > 1.005 so we continue\n",
      "\n",
      "\n",
      "Starting Opt-Iter No.43: \n",
      "alpha, M, predM  1, 2.6725455028830663E-17, 2.6708529372492775E-17\n",
      "alpha, M, predM  0.5, 2.6707169527065957E-17, 2.6708533355516514E-17\n",
      "l2: ||R0||= 5.5100362E-14, f_err=7.297794E-09, f_phi=0E+00, Alpha = 5E-01, Gamma = 1E-04, Kappa = 1E+03, Mu = 1.11E-07, QuadOrder=2\n",
      "ALNR=1.0357105243936053 > 1.005 so we continue\n",
      "\n",
      "\n",
      "Starting Opt-Iter No.44: \n",
      "alpha, M, predM  1, 2.6728818621672017E-17, 2.670716049768375E-17\n",
      "alpha, M, predM  0.5, 2.6713752906810764E-17, 2.6707164415017018E-17\n",
      "alpha, M, predM  0.25, 2.671193685006029E-17, 2.670716637368365E-17\n",
      "alpha, M, predM  0.125, 2.6703773403083256E-17, 2.670716735301697E-17\n",
      "l2: ||R0||= 5.3648686E-14, f_err=7.297788E-09, f_phi=0E+00, Alpha = 1.25E-01, Gamma = 1E-04, Kappa = 1E+03, Mu = 1.11E-07, QuadOrder=2\n",
      "ALNR=1.0395760845095332 > 1.005 so we continue\n",
      "\n",
      "\n",
      "Starting Opt-Iter No.45: \n",
      "alpha, M, predM  1, 2.6724105878612895E-17, 2.670376626446176E-17\n",
      "alpha, M, predM  0.5, 2.6713173903631554E-17, 2.6703770007862216E-17\n",
      "alpha, M, predM  0.25, 2.6695789828197152E-17, 2.6703771879562445E-17\n",
      "l2: ||R0||= 5.0402712E-14, f_err=7.297793E-09, f_phi=0E+00, Alpha = 2.5E-01, Gamma = 1E-04, Kappa = 1E+03, Mu = 1.11E-07, QuadOrder=2\n",
      "ALNR=1.042570634832933 > 1.005 so we continue\n",
      "\n",
      "\n",
      "Starting Opt-Iter No.46: \n",
      "alpha, M, predM  1, 2.6727686711541034E-17, 2.6695783785346493E-17\n",
      "alpha, M, predM  0.5, 2.671431019207111E-17, 2.6695787127872052E-17\n",
      "alpha, M, predM  0.25, 2.670759922348723E-17, 2.6695788799134835E-17\n",
      "alpha, M, predM  0.125, 2.6698293200419784E-17, 2.6695789634766224E-17\n",
      "alpha, M, predM  0.0625, 2.669571095099804E-17, 2.669579005258192E-17\n",
      "l2: ||R0||= 5.1174747E-14, f_err=7.297795E-09, f_phi=0E+00, Alpha = 6.25E-02, Gamma = 1E-04, Kappa = 1E+03, Mu = 1.11E-07, QuadOrder=2\n",
      "ALNR=1.0355777982798018 > 1.005 so we continue\n",
      "\n",
      "\n",
      "Starting Opt-Iter No.47: \n",
      "alpha, M, predM  1, 2.672006143519503E-17, 2.6695704134909088E-17\n",
      "alpha, M, predM  0.5, 2.6712737934890695E-17, 2.6695707475327735E-17\n",
      "alpha, M, predM  0.25, 2.6705946638309662E-17, 2.669570914553706E-17\n",
      "alpha, M, predM  0.125, 2.6698477344926908E-17, 2.6695709980641723E-17\n",
      "alpha, M, predM  0.0625, 2.6696251761512576E-17, 2.6695710398194053E-17\n",
      "alpha, M, predM  0.03125, 2.6698039222342512E-17, 2.669571060697022E-17\n",
      "alpha, M, predM  0.015625, 2.669749493243548E-17, 2.66957107113583E-17\n",
      "alpha, M, predM  0.0078125, 2.6695411149887328E-17, 2.6695710763552343E-17\n",
      "l2: ||R0||= 5.1071364E-14, f_err=7.297795E-09, f_phi=0E+00, Alpha = 7.81E-03, Gamma = 1E-04, Kappa = 1E+03, Mu = 1.11E-07, QuadOrder=2\n",
      "ALNR=1.0296559076189256 > 1.005 so we continue\n",
      "\n",
      "\n",
      "Starting Opt-Iter No.48: \n",
      "alpha, M, predM  1, 2.6731903606545972E-17, 2.6695404492616726E-17\n",
      "alpha, M, predM  0.5, 2.671072625694257E-17, 2.6695407817679688E-17\n",
      "alpha, M, predM  0.25, 2.6704191192358625E-17, 2.6695409480211167E-17\n",
      "alpha, M, predM  0.125, 2.6699116577579332E-17, 2.6695410311476905E-17\n",
      "alpha, M, predM  0.0625, 2.66962290606315E-17, 2.6695410727109775E-17\n",
      "alpha, M, predM  0.03125, 2.6695958001941537E-17, 2.669541093492621E-17\n",
      "alpha, M, predM  0.015625, 2.6697482558730268E-17, 2.669541103883443E-17\n",
      "alpha, M, predM  0.0078125, 2.6697482259065882E-17, 2.6695411090788538E-17\n",
      "alpha, M, predM  0.00390625, 2.6697453795620243E-17, 2.6695411116765592E-17\n",
      "alpha, M, predM  0.001953125, 2.669541757992505E-17, 2.669541112975412E-17\n",
      "alpha, M, predM  0.0009765625, 2.6695413843421165E-17, 2.6695411136248382E-17\n",
      "alpha, M, predM  0.00048828125, 2.6695412207993705E-17, 2.6695411139495512E-17\n",
      "alpha, M, predM  0.000244140625, 2.6695412042826292E-17, 2.669541114111908E-17\n",
      "alpha, M, predM  0.0001220703125, 2.669541087005233E-17, 2.6695411141930862E-17\n",
      "l2: ||R0||= 5.1071457E-14, f_err=7.297795E-09, f_phi=0E+00, Alpha = 1.22E-04, Gamma = 1E-04, Kappa = 1E+03, Mu = 1.11E-07, QuadOrder=2\n",
      "ALNR=1.0283401425870957 > 1.005 so we continue\n",
      "\n",
      "\n",
      "Starting Opt-Iter No.49: \n",
      "alpha, M, predM  1, 2.6731928405248432E-17, 2.6695404220428434E-17\n",
      "alpha, M, predM  0.5, 2.6710635521470782E-17, 2.6695407545513634E-17\n",
      "alpha, M, predM  0.25, 2.6704191241952835E-17, 2.6695409208056234E-17\n",
      "alpha, M, predM  0.125, 2.6699117311935116E-17, 2.6695410039327534E-17\n",
      "alpha, M, predM  0.0625, 2.669622853432143E-17, 2.6695410454963184E-17\n",
      "alpha, M, predM  0.03125, 2.6695958157895877E-17, 2.669541066278101E-17\n",
      "alpha, M, predM  0.015625, 2.6697482877251067E-17, 2.6695410766689922E-17\n",
      "alpha, M, predM  0.0078125, 2.6697482360354325E-17, 2.6695410818644378E-17\n",
      "alpha, M, predM  0.00390625, 2.6697455326401427E-17, 2.6695410844621608E-17\n",
      "alpha, M, predM  0.001953125, 2.6695418389643344E-17, 2.669541085761022E-17\n",
      "alpha, M, predM  0.0009765625, 2.6695414295445952E-17, 2.6695410864104528E-17\n",
      "alpha, M, predM  0.00048828125, 2.6695412636962056E-17, 2.669541086735168E-17\n",
      "alpha, M, predM  0.000244140625, 2.669541141478452E-17, 2.6695410868975257E-17\n",
      "alpha, M, predM  0.0001220703125, 2.6695412043552444E-17, 2.6695410869787047E-17\n",
      "alpha, M, predM  6.103515625E-05, 2.66954114621846E-17, 2.669541087019294E-17\n",
      "alpha, M, predM  3.0517578125E-05, 2.669541098315415E-17, 2.6695410870395888E-17\n",
      "alpha, M, predM  1.52587890625E-05, 2.669541164960873E-17, 2.669541087049736E-17\n",
      "alpha, M, predM  7.62939453125E-06, 2.6695411621469856E-17, 2.6695410870548098E-17\n",
      "alpha, M, predM  3.814697265625E-06, 2.6695411607400343E-17, 2.6695410870573465E-17\n",
      "alpha, M, predM  1.9073486328125E-06, 2.6695411600365645E-17, 2.669541087058615E-17\n",
      "alpha, M, predM  9.5367431640625E-07, 2.6695411596848337E-17, 2.6695410870592493E-17\n",
      "alpha, M, predM  4.76837158203125E-07, 2.6695411595089694E-17, 2.6695410870595664E-17\n",
      "alpha, M, predM  2.384185791015625E-07, 2.6695410871478233E-17, 2.6695410870597247E-17\n",
      "alpha, M, predM  1.1920928955078125E-07, 2.6695411593770685E-17, 2.6695410870598043E-17\n",
      "alpha, M, predM  5.960464477539063E-08, 2.669541051456164E-17, 2.6695410870598437E-17\n",
      "l2: ||R0||= 5.1071457E-14, f_err=7.297795E-09, f_phi=0E+00, Alpha = 5.96E-08, Gamma = 1E-04, Kappa = 1E+03, Mu = 1.11E-07, QuadOrder=2\n",
      "ALNR=1.0201408101514813 > 1.005 so we continue\n",
      "\n",
      "\n",
      "Starting Opt-Iter No.50: \n",
      "alpha, M, predM  1, 2.6731286113909012E-17, 2.6695403864503638E-17\n",
      "alpha, M, predM  0.5, 2.6711332773904127E-17, 2.6695407189588854E-17\n",
      "alpha, M, predM  0.25, 2.670419135556211E-17, 2.669540885213146E-17\n",
      "alpha, M, predM  0.125, 2.6699117576675477E-17, 2.6695409683402766E-17\n",
      "alpha, M, predM  0.0625, 2.6696229346564158E-17, 2.6695410099038416E-17\n",
      "alpha, M, predM  0.03125, 2.6695958202735394E-17, 2.6695410306856244E-17\n",
      "alpha, M, predM  0.015625, 2.6697482898616964E-17, 2.6695410410765157E-17\n",
      "alpha, M, predM  0.0078125, 2.6697482728878234E-17, 2.6695410462719613E-17\n",
      "alpha, M, predM  0.00390625, 2.6697455332701566E-17, 2.669541048869684E-17\n",
      "alpha, M, predM  0.001953125, 2.6695418036702762E-17, 2.6695410501685456E-17\n",
      "alpha, M, predM  0.0009765625, 2.669541465352744E-17, 2.6695410508179763E-17\n",
      "alpha, M, predM  0.00048828125, 2.6695413360772582E-17, 2.6695410511426914E-17\n",
      "alpha, M, predM  0.000244140625, 2.6695412494479146E-17, 2.6695410513050492E-17\n",
      "alpha, M, predM  0.0001220703125, 2.6695412044071197E-17, 2.6695410513862282E-17\n",
      "alpha, M, predM  6.103515625E-05, 2.6695411818867137E-17, 2.6695410514268176E-17\n",
      "alpha, M, predM  3.0517578125E-05, 2.6695411706265215E-17, 2.6695410514471123E-17\n",
      "alpha, M, predM  1.52587890625E-05, 2.6695411649964286E-17, 2.6695410514572596E-17\n",
      "alpha, M, predM  7.62939453125E-06, 2.6695411265556708E-17, 2.6695410514623333E-17\n",
      "alpha, M, predM  3.814697265625E-06, 2.66954116077385E-17, 2.66954105146487E-17\n",
      "alpha, M, predM  1.9073486328125E-06, 2.6695411600700868E-17, 2.6695410514661386E-17\n",
      "alpha, M, predM  9.5367431640625E-07, 2.6695411597182015E-17, 2.6695410514667728E-17\n",
      "alpha, M, predM  4.76837158203125E-07, 2.6695410516433522E-17, 2.6695410514670898E-17\n",
      "alpha, M, predM  2.384185791015625E-07, 2.669541159454298E-17, 2.6695410514672482E-17\n",
      "alpha, M, predM  1.1920928955078125E-07, 2.6695411594103113E-17, 2.6695410514673277E-17\n",
      "alpha, M, predM  5.960464477539063E-08, 2.6695411593883215E-17, 2.6695410514673672E-17\n",
      "alpha, M, predM  2.9802322387695312E-08, 2.6695411237516114E-17, 2.6695410514673872E-17\n",
      "alpha, M, predM  1.4901161193847656E-08, 2.669541159371824E-17, 2.669541051467397E-17\n",
      "l2: ||R0||= 5.1071457E-14, f_err=7.297795E-09, f_phi=0E+00, Alpha = 1E-08, Gamma = 1E-04, Kappa = 1E+03, Mu = 1.11E-07, QuadOrder=2\n",
      "ALNR=1.0130656712249329 > 1.005 so we continue\n",
      "\n",
      "\n",
      "Starting Opt-Iter No.51: \n",
      "alpha, M, predM  1, 2.6731903903107343E-17, 2.6695404942863297E-17\n",
      "alpha, M, predM  0.5, 2.6710732354716092E-17, 2.6695408267948482E-17\n",
      "alpha, M, predM  0.25, 2.6704191126143484E-17, 2.6695409930491073E-17\n",
      "alpha, M, predM  0.125, 2.6699115831244963E-17, 2.669541076176237E-17\n",
      "alpha, M, predM  0.0625, 2.6696228807399207E-17, 2.669541117739802E-17\n",
      "alpha, M, predM  0.03125, 2.6695957754694533E-17, 2.6695411385215842E-17\n",
      "alpha, M, predM  0.015625, 2.6697482849501855E-17, 2.6695411489124755E-17\n",
      "alpha, M, predM  0.0078125, 2.6697482700056055E-17, 2.669541154107921E-17\n",
      "alpha, M, predM  0.00390625, 2.6697455317965145E-17, 2.669541156705644E-17\n",
      "alpha, M, predM  0.001953125, 2.6695418385286123E-17, 2.6695411580045054E-17\n",
      "alpha, M, predM  0.0009765625, 2.6695414649375817E-17, 2.669541158653936E-17\n",
      "alpha, M, predM  0.00048828125, 2.669541300212486E-17, 2.6695411589786512E-17\n",
      "alpha, M, predM  0.000244140625, 2.6695412492968992E-17, 2.669541159141009E-17\n",
      "alpha, M, predM  0.0001220703125, 2.6695411686744204E-17, 2.669541159222188E-17\n",
      "alpha, M, predM  6.103515625E-05, 2.669541181801744E-17, 2.6695411592627774E-17\n",
      "alpha, M, predM  3.0517578125E-05, 2.6695411705525488E-17, 2.669541159283072E-17\n",
      "alpha, M, predM  1.52587890625E-05, 2.6695411293022534E-17, 2.6695411592932194E-17\n",
      "l2: ||R0||= 5.1071469E-14, f_err=7.297795E-09, f_phi=0E+00, Alpha = 1.53E-05, Gamma = 1E-04, Kappa = 1E+03, Mu = 1.11E-07, QuadOrder=2\n",
      "ALNR=1.009200111109005 > 1.005 so we continue\n",
      "\n",
      "\n",
      "Starting Opt-Iter No.52: \n",
      "alpha, M, predM  1, 2.6731261649689307E-17, 2.6695404642958026E-17\n",
      "alpha, M, predM  0.5, 2.6710659521600883E-17, 2.6695407968045993E-17\n",
      "alpha, M, predM  0.25, 2.670419129377008E-17, 2.6695409630589977E-17\n",
      "alpha, M, predM  0.125, 2.6699116888724553E-17, 2.669541046186197E-17\n",
      "alpha, M, predM  0.0625, 2.6696229265951907E-17, 2.6695410877497965E-17\n",
      "alpha, M, predM  0.03125, 2.669595709034691E-17, 2.6695411085315963E-17\n",
      "alpha, M, predM  0.015625, 2.669748218430371E-17, 2.6695411189224962E-17\n",
      "alpha, M, predM  0.0078125, 2.6697482767184583E-17, 2.669541124117946E-17\n",
      "alpha, M, predM  0.00390625, 2.6697455023167443E-17, 2.669541126715671E-17\n",
      "alpha, M, predM  0.001953125, 2.6695417721746484E-17, 2.6695411280145335E-17\n",
      "alpha, M, predM  0.0009765625, 2.66954147071507E-17, 2.6695411286639648E-17\n",
      "alpha, M, predM  0.00048828125, 2.6695413415448128E-17, 2.6695411289886806E-17\n",
      "alpha, M, predM  0.000244140625, 2.669541182694862E-17, 2.6695411291510383E-17\n",
      "alpha, M, predM  0.0001220703125, 2.6695411020546637E-17, 2.669541129232217E-17\n",
      "l2: ||R0||= 5.1071562E-14, f_err=7.297795E-09, f_phi=0E+00, Alpha = 1.22E-04, Gamma = 1E-04, Kappa = 1E+03, Mu = 1.11E-07, QuadOrder=2\n",
      "\n",
      "ALNR=1 <= 1.005 so we terminate/increase degree\n",
      "\n",
      "ALNR=1 <= 1.005 so we terminate/increase degree\n",
      "\n"
     ]
    }
   ],
   "source": [
    "BoSSS.Solution.Application.InitMPI();\n",
    "BoSSS.Solution.Application.DeleteOldPlotFiles();\n",
    "var p = new XESFMain();\n",
    "\n",
    "var C = XESFHardCodedControl.XDGWedgeFlow_TwoLs_Base(\n",
    "    dbPath:dbPath,\n",
    "    optiLSDegree: 1,\n",
    "    lsDegree: 1,\n",
    "    shocksetup: ApplicationWithIDT.GetLevelSet.FromFunction,\n",
    "    optiLevelSetType: OptiLevelSetType.SplineLevelSet,\n",
    "    initialValue: ApplicationWithIDT.GetInitialValue.FromFunctionPerSpecies,\n",
    "    MaxIterations: 200,\n",
    "    dgDegree: 0,\n",
    "    numOfCellsX: 15,\n",
    "    numOfCellsY: 10,\n",
    "    initialAngle_shockLS: 32,\n",
    "    PlotInterval: -1,\n",
    "    interfaceFluxLS2: XESF.Fluxes.ConvectiveInterfaceFluxes.GodunovInterface,\n",
    "    bulkFlux: XESF.Fluxes.ConvectiveBulkFluxes.OptimizedHLLC,\n",
    "    agg: 0.4\n",
    ");\n",
    "p.Init(C);\n",
    "p.RunSolverMode();\n"
   ]
  },
  {
   "attachments": {},
   "cell_type": "markdown",
   "metadata": {},
   "source": [
    "# Postprocessing"
   ]
  },
  {
   "cell_type": "markdown",
   "metadata": {},
   "source": [
    "we need to load something from the ApplicationWithIDT assembly "
   ]
  },
  {
   "cell_type": "code",
   "execution_count": null,
   "metadata": {
    "dotnet_interactive": {
     "language": "csharp"
    }
   },
   "outputs": [],
   "source": [
    "Assembler aaa = new Assembler(3);\n",
    "var si = database.Sessions.Pick(0);"
   ]
  },
  {
   "attachments": {},
   "cell_type": "markdown",
   "metadata": {},
   "source": [
    "## Enthalpy error"
   ]
  },
  {
   "attachments": {},
   "cell_type": "markdown",
   "metadata": {},
   "source": [
    "enthalpy is computed as\n",
    "$$h=\\frac{(\\rho E + p)}{\\rho},~ p=(c_P -1)(\\rho E - k),~k=c_P \\text{Ma}^2\\frac{\\rho }{2}(\\vert u\\vert^2 + \\vert v\\vert^2)$$"
   ]
  },
  {
   "attachments": {},
   "cell_type": "markdown",
   "metadata": {},
   "source": [
    "For an uniform inviscid flow the inflow enthalpy should remain constant throughout the flowfield \n",
    "\n",
    "As we have uniform inflow the v-velocity is zero and we have\n",
    "$$ h_{in} = \\frac{\\gamma}{\\gamma-1} + \\frac{1}{2}u_{in}^2 $$\n",
    "We prescribe the inflow conditions in terms of pressure $p_{in}=1$, density $\\rho_{in}=1$ and the Mach number $M_{in}=2$. From those the velocity is computed as \n",
    "$$ u_{in} = M_{in} \\sqrt{\\gamma \\frac{p_{in}}{\\rho_{in}}}= 2\\sqrt{\\gamma}$$"
   ]
  },
  {
   "cell_type": "code",
   "execution_count": null,
   "metadata": {
    "dotnet_interactive": {
     "language": "csharp"
    },
    "polyglot_notebook": {
     "kernelName": "csharp"
    }
   },
   "outputs": [],
   "source": [
    "using BoSSS.Solution.CompressibleFlowCommon.MaterialProperty;\n",
    "var enthalpy_end = (XDGField) si.Timesteps.Last().GetField(\"h\");\n",
    "var enthalpy_exact = (XDGField) enthalpy_end.Clone();\n",
    "double gamma = IdealGas.Air.HeatCapacityRatio;\n",
    "double Ms = 2;\n",
    "double densityLeft = 1;\n",
    "double pressureLeft = 1;\n",
    "double velocityXLeft = Ms * Math.Sqrt(gamma * pressureLeft / densityLeft);\n",
    "\n",
    "(gamma)/(gamma-1) + 0.5*velocityXLeft*velocityXLeft"
   ]
  },
  {
   "cell_type": "code",
   "execution_count": null,
   "metadata": {
    "dotnet_interactive": {
     "language": "csharp"
    }
   },
   "outputs": [],
   "source": [
    "var enthalpy_inflow = (gamma)/(gamma-1) + 0.5*velocityXLeft*velocityXLeft;\n",
    "enthalpy_exact.Clear();\n",
    "enthalpy_exact.GetSpeciesShadowField(\"L\").ProjectField(1.0,t => enthalpy_inflow);\n",
    "enthalpy_exact.GetSpeciesShadowField(\"R\").ProjectField(1.0,t => enthalpy_inflow);\n",
    "enthalpy_exact.Identification= \"h_exact\";\n",
    "var EEN = enthalpy_exact.L2NormAllSpecies();"
   ]
  },
  {
   "cell_type": "code",
   "execution_count": null,
   "metadata": {
    "dotnet_interactive": {
     "language": "csharp"
    },
    "polyglot_notebook": {
     "kernelName": "csharp"
    }
   },
   "outputs": [],
   "source": [
    "p.GetResEnthalpyPlot(si,EEN).dataGroups[2].Values.SaveToTextFile(\"siWF2EnthalpyErrors.txt\");\n",
    "p.GetResEnthalpyPlot(si,EEN).ToGnuplot().PlotSVG(xRes:1200,yRes:500)"
   ]
  },
  {
   "cell_type": "code",
   "execution_count": null,
   "metadata": {
    "dotnet_interactive": {
     "language": "csharp"
    },
    "polyglot_notebook": {
     "kernelName": "csharp"
    }
   },
   "outputs": [],
   "source": [
    "p.PlotShadowFields(si);"
   ]
  }
 ],
 "metadata": {
  "kernelspec": {
   "display_name": ".NET (C#)",
   "language": "C#",
   "name": ".net-csharp"
  },
  "language_info": {
   "name": "polyglot-notebook"
  },
  "polyglot_notebook": {
   "kernelInfo": {
    "defaultKernelName": "csharp",
    "items": [
     {
      "aliases": [],
      "name": ".NET"
     },
     {
      "aliases": [
       "C#",
       "c#"
      ],
      "languageName": "C#",
      "name": "csharp"
     },
     {
      "aliases": [
       "F#",
       "f#"
      ],
      "languageName": "F#",
      "name": "fsharp"
     },
     {
      "aliases": [],
      "languageName": "HTML",
      "name": "html"
     },
     {
      "aliases": [
       "js"
      ],
      "languageName": "JavaScript",
      "name": "javascript"
     },
     {
      "aliases": [],
      "languageName": "KQL",
      "name": "kql"
     },
     {
      "aliases": [],
      "languageName": "Mermaid",
      "name": "mermaid"
     },
     {
      "aliases": [
       "powershell"
      ],
      "languageName": "PowerShell",
      "name": "pwsh"
     },
     {
      "aliases": [],
      "languageName": "SQL",
      "name": "sql"
     },
     {
      "aliases": [],
      "name": "value"
     },
     {
      "aliases": [
       "frontend"
      ],
      "name": "vscode"
     },
     {
      "aliases": [],
      "name": "webview"
     }
    ]
   }
  }
 },
 "nbformat": 4,
 "nbformat_minor": 2
}
