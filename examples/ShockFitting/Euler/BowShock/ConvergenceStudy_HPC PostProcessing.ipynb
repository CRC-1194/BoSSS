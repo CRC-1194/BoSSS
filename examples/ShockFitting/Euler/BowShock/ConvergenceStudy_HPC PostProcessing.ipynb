{
 "cells": [
  {
   "cell_type": "code",
   "execution_count": null,
   "metadata": {
    "dotnet_interactive": {
     "language": "csharp"
    }
   },
   "outputs": [],
   "source": [
    "#r \".\\binaries\\BoSSSpad.dll\"\n",
    "#r \".\\binaries\\XESF.dll\"\n",
    "using System;\n",
    "using BoSSS.Foundation;\n",
    "using BoSSS.Application.BoSSSpad;\n",
    "using BoSSS.Solution;\n",
    "using BoSSS.Solution.Tecplot;\n",
    "using BoSSS.Foundation.IO;\n",
    "using ilPSP.Tracing;\n",
    "using BoSSS.Solution.Utils;\n",
    "using ilPSP.LinSolvers;\n",
    "using BoSSS.Solution.NSECommon;\n",
    "using ilPSP.Connectors.Matlab;\n",
    "using ilPSP;\n",
    "using BoSSS.Foundation.Grid.Classic;\n",
    "using ilPSP.Utils;\n",
    "using BoSSS.Foundation.Grid.RefElements;\n",
    "using System.Collections.Generic;\n",
    "using BoSSS.Foundation.Grid;\n",
    "using BoSSS.Foundation.XDG;\n",
    "using BoSSS.Solution.XdgTimestepping;\n",
    "using BoSSS.Solution.AdvancedSolvers;\n",
    "using System.Linq;\n",
    "using BoSSS.Foundation.Grid.Aggregation;\n",
    "using BoSSS.Platform;\n",
    "using MPI.Wrappers;\n",
    "using System.Diagnostics;\n",
    "using System.IO;\n",
    "using System.Collections;\n",
    "using BoSSS.Foundation.Quadrature;\n",
    "using BoSSS.Solution.Statistic;\n",
    "using BoSSS.Solution.Gnuplot;\n",
    "using static BoSSS.Application.BoSSSpad.BoSSSshell;\n",
    "using BoSSS.Solution.Control;\n",
    "using BoSSS.Solution.GridImport;\n",
    "using ApplicationWithIDT;\n",
    "using XESF;\n",
    "Init();\n"
   ]
  },
  {
   "cell_type": "code",
   "execution_count": null,
   "metadata": {
    "dotnet_interactive": {
     "language": "csharp"
    }
   },
   "outputs": [],
   "source": [
    "BoSSSshell.WorkflowMgm.Init(\"XESF_BowShock_020823_Old\");\n",
    "BoSSSshell.WorkflowMgm.SetNameBasedSessionJobControlCorrelation();\n"
   ]
  },
  {
   "cell_type": "code",
   "execution_count": null,
   "metadata": {
    "dotnet_interactive": {
     "language": "csharp"
    }
   },
   "outputs": [],
   "source": [
    "var dbPath = BoSSSshell.WorkflowMgm.DefaultDatabase.Path;\n",
    "var database = OpenOrCreateDatabase(dbPath);\n",
    "var dt = database.Sessions.Last().CreationTime;\n",
    "dt\n"
   ]
  },
  {
   "cell_type": "code",
   "execution_count": null,
   "metadata": {
    "dotnet_interactive": {
     "language": "csharp"
    },
    "polyglot_notebook": {
     "kernelName": "csharp"
    }
   },
   "outputs": [],
   "source": [
    "var sessions = database.Sessions.Where(s => (s.CreationTime >= dt ));\n",
    "sessions"
   ]
  },
  {
   "cell_type": "code",
   "execution_count": null,
   "metadata": {
    "dotnet_interactive": {
     "language": "csharp"
    },
    "polyglot_notebook": {
     "kernelName": "csharp"
    }
   },
   "outputs": [],
   "source": [
    "var si=sessions.Pick(1);"
   ]
  },
  {
   "cell_type": "code",
   "execution_count": null,
   "metadata": {
    "dotnet_interactive": {
     "language": "csharp"
    },
    "polyglot_notebook": {
     "kernelName": "csharp"
    }
   },
   "outputs": [],
   "source": [
    "//var sessions = database.Sessions.Where(s => (s.CreationTime >= dt && s.Name.Contains(\"Experimental\") && s.Name.Contains(\"p4\") &&!s.ID.ToString().Contains(\"c08d0fbd\")&&!s.ID.ToString().Contains(\"2d9f7dc2\")) || (s.ID.ToString().Contains(\"faae7fdc\")&&s.Name.Contains(\"40x88\")));\n",
    "//sessions"
   ]
  },
  {
   "cell_type": "code",
   "execution_count": null,
   "metadata": {
    "dotnet_interactive": {
     "language": "csharp"
    },
    "polyglot_notebook": {
     "kernelName": "csharp"
    }
   },
   "outputs": [],
   "source": [
    "Assembler aaa = new Assembler(3);\n",
    "//var si = database.Sessions.Where(s => s.ID == new Guid(\"012530cd-de44-4938-afc9-ba3d67933d2d\")).SingleOrDefault(); //Home PC\n",
    "//var si = database.Sessions.Where(s => s.ID == new Guid(\"51a2d86e-f457-454c-9400-5aa0322fa9c3\")).SingleOrDefault(); //UNI PC\n",
    "var si = database.Sessions.Pick(0);\n",
    "var ti = si.Timesteps;\n",
    "//IDTTimeStepInfo ts = (IDTTimeStepInfo)((TimestepProxy)database.Sessions.Pick(2).Timesteps.Last()).GetInternal();\n",
    "si.ID"
   ]
  },
  {
   "attachments": {},
   "cell_type": "markdown",
   "metadata": {
    "dotnet_interactive": {
     "language": "csharp"
    },
    "polyglot_notebook": {
     "kernelName": "csharp"
    }
   },
   "source": [
    "## Enthalpy error\n",
    "enthalpy is computed as\n",
    "$$h=\\frac{(\\rho E + p)}{\\rho},~ p=(c_P -1)(\\rho E - k),~k=c_P \\text{Ma}^2\\frac{\\rho }{2}(\\vert u\\vert^2 + \\vert v\\vert^2)$$\n"
   ]
  },
  {
   "attachments": {},
   "cell_type": "markdown",
   "metadata": {
    "dotnet_interactive": {
     "language": "csharp"
    },
    "polyglot_notebook": {
     "kernelName": "csharp"
    }
   },
   "source": [
    "For an uniform inviscid flow the inflow enthalpy should remain constant throughout the flowfield \n",
    "\n",
    "In the case of the BowShock presented, the v-velocity is zero and we have\n",
    "$$ h_{in} = \\frac{\\gamma}{\\gamma-1} + \\frac{1}{2}u_{in}^2 $$\n",
    "We prescribe the inflow conditions in terms of pressure $p_{in}=1$, density $\\rho_{in}=1$ and the Mach number $M_{in}=4$. From those the velocity is computed as \n",
    "$$ u_{in} = M_{in} \\sqrt{\\gamma \\frac{p_{in}}{\\rho_{in}}}= 4\\sqrt{\\gamma}$$"
   ]
  },
  {
   "cell_type": "code",
   "execution_count": null,
   "metadata": {
    "dotnet_interactive": {
     "language": "csharp"
    },
    "polyglot_notebook": {
     "kernelName": "csharp"
    }
   },
   "outputs": [],
   "source": [
    "using BoSSS.Solution.CompressibleFlowCommon.MaterialProperty;\n",
    "var enthalpy_end = (XDGField) si.Timesteps.Last().GetField(\"h\");\n",
    "var enthalpy_exact = (XDGField) enthalpy_end.Clone();\n",
    "double gamma = IdealGas.Air.HeatCapacityRatio;\n",
    "double Ms = 4;\n",
    "double densityLeft = 1;\n",
    "double pressureLeft = 1;\n",
    "double velocityXLeft = Ms * Math.Sqrt(gamma * pressureLeft / densityLeft);\n",
    "\n",
    "(gamma)/(gamma-1) + 0.5*velocityXLeft*velocityXLeft"
   ]
  },
  {
   "cell_type": "code",
   "execution_count": null,
   "metadata": {
    "dotnet_interactive": {
     "language": "csharp"
    }
   },
   "outputs": [],
   "source": [
    "var enthalpy_inflow = (gamma)/(gamma-1) + 0.5*velocityXLeft*velocityXLeft;\n",
    "enthalpy_exact.Clear();\n",
    "enthalpy_exact.GetSpeciesShadowField(\"L\").ProjectField(1.0,t => enthalpy_inflow);\n",
    "enthalpy_exact.GetSpeciesShadowField(\"R\").ProjectField(1.0,t => enthalpy_inflow);\n",
    "enthalpy_exact.Identification= \"h_exact\";\n",
    "var EEN = enthalpy_exact.L2NormAllSpecies();"
   ]
  },
  {
   "attachments": {},
   "cell_type": "markdown",
   "metadata": {
    "dotnet_interactive": {
     "language": "csharp"
    },
    "polyglot_notebook": {
     "kernelName": "csharp"
    }
   },
   "source": [
    "## Choose which runs to plot"
   ]
  },
  {
   "cell_type": "code",
   "execution_count": null,
   "metadata": {
    "dotnet_interactive": {
     "language": "csharp"
    },
    "polyglot_notebook": {
     "kernelName": "csharp"
    }
   },
   "outputs": [],
   "source": [
    "//&&s.Name.Contains(\"iFlux1\")\n",
    "var sessions = database.Sessions.Where(s => s.Timesteps.Count >0);\n",
    "sessions=sessions.Where(s => (s.Name.Contains(\"iProb0\")  &&s.Name.Contains(\"10x32\")&&s.Name.Contains(\"agg0.2\")));\n",
    "sessions\n"
   ]
  },
  {
   "attachments": {},
   "cell_type": "markdown",
   "metadata": {
    "dotnet_interactive": {
     "language": "csharp"
    },
    "polyglot_notebook": {
     "kernelName": "csharp"
    }
   },
   "source": [
    "# A Helper Function to obtain different plot formats"
   ]
  },
  {
   "cell_type": "code",
   "execution_count": null,
   "metadata": {
    "dotnet_interactive": {
     "language": "csharp"
    },
    "polyglot_notebook": {
     "kernelName": "csharp"
    }
   },
   "outputs": [],
   "source": [
    "using BoSSS.Solution.Tecplot;\n",
    "using System.IO;\n",
    "//Directory.GetFiles(\".\", \"*.plt\").ForEach(file => File.Delete(file));\n",
    "var texplot = new Tecplot(enthalpy_exact.GridDat, 2);\n",
    "var allEE = new List<List<double>>();\n",
    "var plot = new Plot2Ddata();\n",
    "\n",
    "public PlotFormat GetFormat(int count){\n",
    "    \n",
    "    var allPT = new BoSSS.Solution.Gnuplot.PointTypes[] { PointTypes.Diamond, PointTypes.LowerTriangle, PointTypes.Circle, PointTypes.OpenDiamond, PointTypes.OpenLowerTriangle, PointTypes.OpenCircle, PointTypes.Circle, PointTypes.OpenDiamond, PointTypes.OpenLowerTriangle, PointTypes.OpenCircle, PointTypes.Circle, PointTypes.OpenDiamond, PointTypes.OpenLowerTriangle, PointTypes.OpenCircle, PointTypes.Circle, PointTypes.OpenDiamond, PointTypes.OpenLowerTriangle, PointTypes.OpenCircle};\n",
    "    var allC = new BoSSS.Solution.Gnuplot.LineColors[] { LineColors.Blue, LineColors.Black, LineColors.Red,LineColors.Blue, LineColors.Black, LineColors.Red, LineColors.Red,LineColors.Blue, LineColors.Black, LineColors.Red, LineColors.Red,LineColors.Blue, LineColors.Black, LineColors.Red, LineColors.Red,LineColors.Blue, LineColors.Black, LineColors.Red};\n",
    "    var Fmt = new PlotFormat();\n",
    "    Fmt.PointSize = 0.8;\n",
    "    Fmt.LineWidth = 1;    \n",
    "    Fmt.Style     = Styles.LinesPoints;\n",
    "\n",
    "    Fmt.LineColor = allC[count];\n",
    "    Fmt.PointType =  allPT[count];\n",
    "    return Fmt;\n",
    "}"
   ]
  },
  {
   "attachments": {},
   "cell_type": "markdown",
   "metadata": {
    "dotnet_interactive": {
     "language": "csharp"
    },
    "polyglot_notebook": {
     "kernelName": "csharp"
    }
   },
   "source": [
    "## Actual Plot\n"
   ]
  },
  {
   "cell_type": "code",
   "execution_count": null,
   "metadata": {
    "dotnet_interactive": {
     "language": "csharp"
    },
    "polyglot_notebook": {
     "kernelName": "csharp"
    }
   },
   "outputs": [],
   "source": [
    "\n",
    "//&& s.Name.Contains(\"10x32\")\n",
    "//&& s.Name.Contains(\"agg0.4\")\n",
    "//s.CreationTime >= dt && \n",
    "int count=0;\n",
    "foreach(var si in sessions){\n",
    "    var enthalpyerrors = new List<double>();\n",
    "    foreach(var timestep in si.Timesteps){\n",
    "        var error = ((XDGField) timestep.GetField(\"h_err\")).L2NormAllSpecies()/EEN;\n",
    "        enthalpyerrors.Add(error);\n",
    "    }\n",
    "    allEE.Add(enthalpyerrors);\n",
    "    IDTTimeStepInfo lts= (IDTTimeStepInfo)((TimestepProxy) si.Timesteps.Pick(enthalpyerrors.Count -1)).GetInternal();\n",
    "    plot.AddDataGroup(si.Name,lts.TimeStepNumbers,enthalpyerrors, GetFormat(count));\n",
    "    count++;\n",
    "}\n",
    "\n",
    "plot.Xlabel=\"Iteration\";\n",
    "plot.LogY = true;\n",
    "plot.ShowXtics = true;\n",
    "plot.ToGnuplot().PlotSVG(xRes:1200,yRes:600)"
   ]
  },
  {
   "cell_type": "markdown",
   "metadata": {
    "dotnet_interactive": {
     "language": "csharp"
    },
    "polyglot_notebook": {
     "kernelName": "csharp"
    }
   },
   "source": [
    "## Residual History"
   ]
  },
  {
   "cell_type": "code",
   "execution_count": null,
   "metadata": {
    "dotnet_interactive": {
     "language": "csharp"
    }
   },
   "outputs": [],
   "source": [
    "\n",
    "using BoSSS.Solution.Tecplot;\n",
    "using System.IO;\n",
    "//Directory.GetFiles(\".\", \"*.plt\").ForEach(file => File.Delete(file));\n",
    "var texplot = new Tecplot(enthalpy_exact.GridDat, 2);\n",
    "var allEE = new List<List<double>>();\n",
    "var plot = new Plot2Ddata();\n",
    "int count=0;\n",
    "\n",
    "foreach(var si in sessions){\n",
    "    var enthalpyerrors = new List<double>();\n",
    "    IDTTimeStepInfo lts= (IDTTimeStepInfo)((TimestepProxy) si.Timesteps.Last()).GetInternal();\n",
    "    plot.AddDataGroup(\"Res_\"+ si.Name,lts.TimeStepNumbers,lts.ResHistory, GetFormat(count));\n",
    "    count++;\n",
    "    //plot.AddDataGroup(\"EnRes_\"+si.Name,lts.TimeStepNumbers,lts.EnResHistory, GetFormat(count));\n",
    "    //count++;\n",
    "}\n",
    "\n",
    "plot.Xlabel=\"Iteration\";\n",
    "plot.LogY = true;\n",
    "plot.ShowXtics = true;\n",
    "plot.ToGnuplot().PlotSVG(xRes:2000,yRes:800)"
   ]
  },
  {
   "attachments": {},
   "cell_type": "markdown",
   "metadata": {
    "dotnet_interactive": {
     "language": "csharp"
    },
    "polyglot_notebook": {
     "kernelName": "csharp"
    }
   },
   "source": [
    "## Convergence Plot Enthalpy"
   ]
  },
  {
   "attachments": {},
   "cell_type": "markdown",
   "metadata": {
    "dotnet_interactive": {
     "language": "csharp"
    },
    "polyglot_notebook": {
     "kernelName": "csharp"
    }
   },
   "source": [
    "choose the sessions"
   ]
  },
  {
   "cell_type": "code",
   "execution_count": null,
   "metadata": {
    "dotnet_interactive": {
     "language": "csharp"
    },
    "polyglot_notebook": {
     "kernelName": "csharp"
    }
   },
   "outputs": [],
   "source": [
    "var sessions = database.Sessions.Where(s => (s.Name.Contains(\"iFlux1\") && s.Name.Contains(\"agg0.4\") && s.Name.Contains(\"iProb0\")&&(s.CreationTime >= dt ) && s.SuccessfulTermination==true));\n",
    "sessions"
   ]
  },
  {
   "cell_type": "code",
   "execution_count": null,
   "metadata": {
    "dotnet_interactive": {
     "language": "csharp"
    },
    "polyglot_notebook": {
     "kernelName": "csharp"
    }
   },
   "outputs": [],
   "source": [
    "var sessions2 = database.Sessions.Where(s => (s.Name.Contains(\"iFlux1\") && s.Name.Contains(\"agg0.5\") && s.Name.Contains(\"iProb0\")&&(s.CreationTime >= dt ) && s.Name.Contains(\"40x128\")));\n",
    "sessions2"
   ]
  },
  {
   "cell_type": "code",
   "execution_count": null,
   "metadata": {
    "dotnet_interactive": {
     "language": "csharp"
    },
    "polyglot_notebook": {
     "kernelName": "csharp"
    }
   },
   "outputs": [],
   "source": [
    "var ses= new List<ISessionInfo>();\n",
    "ses.Add(sessions.Pick(3));\n",
    "ses.Add(sessions.Pick(0));\n",
    "ses.Add(sessions.Pick(1));\n",
    "ses.Add(sessions2.Pick(0));\n",
    "//ses.Add(sessions.Pick(3));\n",
    "ses"
   ]
  },
  {
   "cell_type": "code",
   "execution_count": null,
   "metadata": {
    "dotnet_interactive": {
     "language": "csharp"
    },
    "polyglot_notebook": {
     "kernelName": "csharp"
    }
   },
   "outputs": [],
   "source": [
    "int[] degs = new int[] {0,1,2,3};\n",
    "int[] Cells = new int[] {5*11,5*11*2,5*11*4,5*11*8};\n",
    "var errors= MultidimensionalArray.Create(4,4);\n"
   ]
  },
  {
   "cell_type": "code",
   "execution_count": null,
   "metadata": {
    "dotnet_interactive": {
     "language": "csharp"
    },
    "polyglot_notebook": {
     "kernelName": "csharp"
    }
   },
   "outputs": [],
   "source": [
    "sessions.Pick(2).Timesteps.Last().GetField(\"rho\").Basis.Degree "
   ]
  },
  {
   "cell_type": "code",
   "execution_count": null,
   "metadata": {
    "dotnet_interactive": {
     "language": "csharp"
    },
    "polyglot_notebook": {
     "kernelName": "csharp"
    }
   },
   "outputs": [],
   "source": [
    "Assembler aaa = new Assembler(3);\n",
    "var timesteps = sessions.Pick(2).Timesteps;\n",
    "var rTSIndex = timesteps.LastIndexWhere(t => t.GetField(\"rho\").Basis.Degree == 2);\n",
    "rTSIndex"
   ]
  },
  {
   "cell_type": "code",
   "execution_count": null,
   "metadata": {
    "dotnet_interactive": {
     "language": "csharp"
    },
    "polyglot_notebook": {
     "kernelName": "csharp"
    }
   },
   "outputs": [],
   "source": [
    "var plot = new Plot2Ddata();\n",
    "\n",
    "public PlotFormat GetFormat(int count){\n",
    "    \n",
    "    var allPT = new BoSSS.Solution.Gnuplot.PointTypes[] { PointTypes.Circle, PointTypes.OpenCircle, PointTypes.Diamond, PointTypes.OpenDiamond, PointTypes.UpperTriangle, PointTypes.OpenUpperTriangle};\n",
    "    var allC = new BoSSS.Solution.Gnuplot.LineColors[] { LineColors.Blue,LineColors.Blue, LineColors.Black, LineColors.Black, LineColors.Red, LineColors.Red};\n",
    "    var Fmt = new PlotFormat();\n",
    "    Fmt.PointType = PointTypes.OpenCircle;\n",
    "    Fmt.PointSize = 0.8;\n",
    "    Fmt.LineWidth = 1;    \n",
    "    Fmt.Style     = Styles.LinesPoints;\n",
    "\n",
    "    Fmt.LineColor = allC[count];\n",
    "    Fmt.PointType =  allPT[count];\n",
    "    return Fmt;\n",
    "}\n",
    "string[] STE = new string[] {\"L\",\"R\"};\n",
    "var C =XESFHardCodedControl.XDGBowShock_TwoLs_LSFromDB(\n",
    "        optiLSDegree: 3,\n",
    "        NoOfTimesteps: 20,\n",
    "        dgDegreeStart: 0,\n",
    "        dgDegreeEnd: 0,\n",
    "        numOfCellsX: 5 * 2,\n",
    "        numOfCellsY: 10 * 2\n",
    "    ); \n",
    "Material mat = C.GetMaterial();\n",
    "int count=0;\n",
    "foreach(int p in degs){\n",
    "var cells= new List<double>();\n",
    "var errors= new List<double>();\n",
    "for(int iSess =0;iSess < sessions.Count();iSess++){\n",
    "var si = ses.Pick(iSess);\n",
    "Console.WriteLine($\"P={p},sess={iSess}\");\n",
    "    //extract the relevant field \n",
    "    var timesteps = si.Timesteps;\n",
    "    var rTSIndex = timesteps.LastIndexWhere(t => t.GetField(\"rho\").Basis.Degree == p);\n",
    "    if(rTSIndex !=-1){\n",
    "\n",
    "        IDTTimeStepInfo lts = (IDTTimeStepInfo)((TimestepProxy)timesteps.Pick(rTSIndex)).GetInternal();\n",
    "        \n",
    "            var fields = lts.Fields.ToList();\n",
    "            var enthalpyError = (XDGField) lts.GetField(\"h\").Clone();\n",
    "            SpeciesId[] sIds = new SpeciesId[] {enthalpyError.Basis.Tracker.GetSpeciesId(STE[0]),enthalpyError.Basis.Tracker.GetSpeciesId(STE[1]) };\n",
    "            enthalpyError.Clear();\n",
    "            enthalpyError.ProjectFunctionXDG(1.0,\n",
    "                    (X, U, j) => new StateVector(U, mat).Enthalpy -enthalpy_inflow, \n",
    "                    sIds,\n",
    "                    lts.GetConsFields(\"iEuler2D\"));\n",
    "    //errors[p,iSess]=(enthalpyError.L2NormAllSpecies()/EEN);\n",
    "    cells.Add(Math.Sqrt(enthalpyError.Basis.GridDat.iGeomCells.GetCellVolume(0)));\n",
    "    errors.Add(enthalpyError.L2NormAllSpecies()/EEN);\n",
    "    }\n",
    "   \n",
    "   \n",
    "}\n",
    "plot.AddDataGroup($\"P={p}\",cells,errors, GetFormat(count));\n",
    "count++;\n",
    "}\n",
    "plot.Xlabel=\"Cells\";\n",
    "plot.LogY = true;\n",
    "plot.LogX = true;\n",
    "plot.ShowXtics = true;\n",
    "plot.ToGnuplot().PlotSVG(xRes:1400,yRes:900)"
   ]
  },
  {
   "cell_type": "code",
   "execution_count": null,
   "metadata": {
    "dotnet_interactive": {
     "language": "csharp"
    },
    "polyglot_notebook": {
     "kernelName": "csharp"
    }
   },
   "outputs": [],
   "source": [
    "var sessions = database.Sessions.Where(s => s.Timesteps.Count >0);\n",
    "sessions=sessions.Where(s => (s.Name.Contains(\"iProb0\")  &&s.Name.Contains(\"10x32\")&&s.Name.Contains(\"agg0.3\")));\n",
    "sessions"
   ]
  },
  {
   "cell_type": "code",
   "execution_count": null,
   "metadata": {
    "dotnet_interactive": {
     "language": "csharp"
    },
    "polyglot_notebook": {
     "kernelName": "csharp"
    }
   },
   "outputs": [],
   "source": [
    "var si = sessions.Pick(5);\n",
    "si"
   ]
  },
  {
   "attachments": {},
   "cell_type": "markdown",
   "metadata": {
    "dotnet_interactive": {
     "language": "csharp"
    },
    "polyglot_notebook": {
     "kernelName": "csharp"
    }
   },
   "source": [
    "## Plotting the ShadowFields (for nice visualization)"
   ]
  },
  {
   "cell_type": "code",
   "execution_count": null,
   "metadata": {
    "dotnet_interactive": {
     "language": "csharp"
    }
   },
   "outputs": [],
   "source": [
    "using BoSSS.Solution.Tecplot;\n",
    "using System.IO;\n",
    "Directory.GetFiles(\".\", \"*_ShadowPlot_*\").ForEach(file => File.Delete(file));\n",
    "var texplot = new Tecplot(enthalpy_exact.GridDat, 2);\n",
    "foreach(var timestep in si.Timesteps){\n",
    "    List<DGField> flds = new List<DGField>();\n",
    "    var fields = timestep.Fields.ToList();\n",
    "    IDTTimeStepInfo lts= (IDTTimeStepInfo)((TimestepProxy) timestep).GetInternal();\n",
    "    texplot.PlotFields( \"XESFBowShock_TwoLs_ShadowPlot_\" + lts.TimeStepNumber,0.0,lts.GetShadowFields());\n",
    "}"
   ]
  },
  {
   "cell_type": "code",
   "execution_count": null,
   "metadata": {
    "dotnet_interactive": {
     "language": "csharp"
    },
    "polyglot_notebook": {
     "kernelName": "csharp"
    }
   },
   "outputs": [],
   "source": []
  }
 ],
 "metadata": {
  "kernelspec": {
   "display_name": ".NET (C#)",
   "language": "C#",
   "name": ".net-csharp"
  },
  "polyglot_notebook": {
   "kernelInfo": {
    "defaultKernelName": "csharp",
    "items": [
     {
      "aliases": [
       "c#",
       "C#"
      ],
      "languageName": "C#",
      "name": "csharp"
     },
     {
      "aliases": [],
      "name": ".NET"
     },
     {
      "aliases": [
       "f#",
       "F#"
      ],
      "languageName": "F#",
      "name": "fsharp"
     },
     {
      "aliases": [],
      "languageName": "HTML",
      "name": "html"
     },
     {
      "aliases": [
       "js"
      ],
      "languageName": "JavaScript",
      "name": "javascript"
     },
     {
      "aliases": [],
      "languageName": "KQL",
      "name": "kql"
     },
     {
      "aliases": [],
      "languageName": "Mermaid",
      "name": "mermaid"
     },
     {
      "aliases": [
       "powershell"
      ],
      "languageName": "PowerShell",
      "name": "pwsh"
     },
     {
      "aliases": [],
      "languageName": "SQL",
      "name": "sql"
     },
     {
      "aliases": [],
      "name": "value"
     },
     {
      "aliases": [
       "frontend"
      ],
      "name": "vscode"
     },
     {
      "aliases": [],
      "name": "webview"
     }
    ]
   }
  }
 },
 "nbformat": 4,
 "nbformat_minor": 2
}
