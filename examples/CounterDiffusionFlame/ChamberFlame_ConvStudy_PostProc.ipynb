{
 "cells": [
  {
   "cell_type": "code",
   "execution_count": null,
   "metadata": {
    "dotnet_interactive": {
     "language": "csharp"
    }
   },
   "outputs": [],
   "source": [
    "#r \"BoSSSpad.dll\"\n",
    "// #r \"C:\\BoSSS2\\experimental\\public\\src\\L4-application\\BoSSSpad\\bin\\Release\\net5.0\\bossspad.dll\"\n",
    "\n",
    "using System;\n",
    "using System.Collections.Generic;\n",
    "using System.Linq;\n",
    "using System.IO;\n",
    "using System.Data;\n",
    "using System.Globalization;\n",
    "using System.Threading;\n",
    "using ilPSP;\n",
    "using ilPSP.Utils;\n",
    "using BoSSS.Platform;\n",
    "using BoSSS.Foundation;\n",
    "using BoSSS.Foundation.Grid;\n",
    "using BoSSS.Foundation.Grid.Classic;\n",
    "using BoSSS.Foundation.IO;\n",
    "using BoSSS.Solution;\n",
    "using BoSSS.Solution.Control;\n",
    "using BoSSS.Solution.GridImport;\n",
    "using BoSSS.Solution.Statistic;\n",
    "using BoSSS.Solution.Utils;\n",
    "using BoSSS.Solution.Gnuplot;\n",
    "using BoSSS.Application.BoSSSpad;\n",
    "using BoSSS.Application.XNSE_Solver;\n",
    "using static BoSSS.Application.BoSSSpad.BoSSSshell;\n",
    "using BoSSS.Foundation.Grid.RefElements;\n",
    "using BoSSS.Platform.LinAlg;\n",
    "using BoSSS.Solution.NSECommon;\n",
    "Init();"
   ]
  },
  {
   "cell_type": "code",
   "execution_count": null,
   "metadata": {
    "dotnet_interactive": {
     "language": "csharp"
    }
   },
   "outputs": [],
   "source": [
    "using BoSSS.Application.XNSEC;"
   ]
  },
  {
   "cell_type": "code",
   "execution_count": null,
   "metadata": {
    "dotnet_interactive": {
     "language": "csharp"
    }
   },
   "outputs": [],
   "source": [
    "BoSSSshell.WorkflowMgm.Init(\"DiffFlameConvergenceStudy\");"
   ]
  },
  {
   "cell_type": "code",
   "execution_count": null,
   "metadata": {
    "dotnet_interactive": {
     "language": "csharp"
    }
   },
   "outputs": [],
   "source": [
    "var myBatch = BoSSSshell.GetDefaultQueue();\n",
    "var myDb = myBatch.CreateOrOpenCompatibleDatabase(\"DiffFlameConvergenceStudy\");"
   ]
  },
  {
   "cell_type": "code",
   "execution_count": null,
   "metadata": {
    "dotnet_interactive": {
     "language": "csharp"
    }
   },
   "outputs": [],
   "source": []
  },
  {
   "cell_type": "code",
   "execution_count": null,
   "metadata": {
    "dotnet_interactive": {
     "language": "csharp"
    }
   },
   "outputs": [],
   "source": []
  },
  {
   "cell_type": "code",
   "execution_count": null,
   "metadata": {
    "dotnet_interactive": {
     "language": "csharp"
    }
   },
   "outputs": [],
   "source": [
    "// Find number of cells used in the finest mesh\n",
    "int NCellsFinestMesh = 0;\n",
    "var allsess = myDb.Sessions;\n",
    "foreach(var sess in allsess){\n",
    "    int c = Convert.ToInt32(sess.KeysAndQueries[\"Grid:NoOfCells\"]);\n",
    "    if( c > NCellsFinestMesh)\n",
    "    NCellsFinestMesh = c;\n",
    "}"
   ]
  },
  {
   "cell_type": "code",
   "execution_count": null,
   "metadata": {
    "dotnet_interactive": {
     "language": "csharp"
    }
   },
   "outputs": [],
   "source": [
    "var Tab = BoSSSshell.WorkflowMgm.SessionTable;\n",
    "BoSSSshell.WorkflowMgm.hConvergence.Update();"
   ]
  },
  {
   "cell_type": "code",
   "execution_count": null,
   "metadata": {
    "dotnet_interactive": {
     "language": "csharp"
    }
   },
   "outputs": [],
   "source": [
    "int counter = 0;\n",
    "string[] varNames = new string[]{\"VelocityX\", \"Pressure\",\"Temperature\", \"MassFraction0\",\"MassFraction1\", \"MassFraction2\"};\n",
    "\n",
    "IEnumerable<KeyValuePair<string, double>>[] RegressionS = new IEnumerable<KeyValuePair<string, double>>[varNames.Length];\n",
    "\n",
    "    Plot2Ddata[,] PlotTable = new Plot2Ddata[3, 2];\n",
    "    int cnt2 = -1;\n",
    "    for (int iCol = 0; iCol < 3; iCol++) {\n",
    "        for (int iRow = 0; iRow < 2; iRow++) {\n",
    "            var allColors = Enum.GetValues(typeof(LineColors)).Cast<LineColors>().ToArray();\n",
    "            var allPointTypes = Enum.GetValues(typeof(PointTypes)).Cast<PointTypes>().ToArray();\n",
    "            PointTypes[] myPointTypes = new PointTypes[]{ PointTypes.Diamond, PointTypes.Box,  PointTypes.LowerTriangle, PointTypes.OpenUpperTriangle, };\n",
    "            cnt2++;\n",
    "            // BoSSS data\n",
    "            var fmt = new PlotFormat();\n",
    "            fmt.Style = Styles.Lines;\n",
    "            fmt.LineColor = allColors[cnt2 % allColors.Length];\n",
    "            fmt.PointType =  allPointTypes[cnt2 % allPointTypes.Length];\n",
    "            fmt.DashType = DashTypes.Solid;            \n",
    "            \n",
    "            string dgDegStr = (varNames[cnt2] == \"VelocityX\"  || varNames[cnt2] == \"VelocityY\" ) ? \"DGdegree:Velocity*\":\"DGdegree:\"+varNames[cnt2];\n",
    "            var Tab = BoSSSshell.WorkflowMgm.SessionTable;\n",
    "            var Tab2 = Tab.ExtractColumns( dgDegStr,\"Grid:hMin\",\"Grid:NoOfCells\" ,\"L2Error_\"+  varNames[cnt2]);\n",
    "            //Extract last point, the one against we are comparing our solutions with\n",
    "            Tab2 = Tab2.ExtractRows((iRow,RowEntries)=> Convert.ToInt32(RowEntries[\"Grid:NoOfCells\"]) != NCellsFinestMesh );\n",
    "            var plot = Tab2.ToPlot(\"Grid:hMin\",\"L2Error_\"+  varNames[cnt2],  dgDegStr);\n",
    "\n",
    "            int cc = 0;\n",
    "            foreach(var dataGroup in plot.dataGroups){\n",
    "                dataGroup.Format.PointType = myPointTypes[cc];\n",
    "                cc++;\n",
    "            }            \n",
    "            plot.LogX = true;\n",
    "            plot.LogY = true;\n",
    "\n",
    "            plot.Title = varNames[cnt2];\n",
    "            plot.TitleFont = 20;\n",
    "            plot.Xlabel = \"h\";  \n",
    "            plot.Ylabel = \"L_2 Error\";  \n",
    "            PlotTable[iCol, iRow] = plot;\n",
    "\n",
    "            RegressionS[cnt2] = plot.Regression();\n",
    "        }\n",
    "    }\n",
    "\n"
   ]
  },
  {
   "cell_type": "code",
   "execution_count": null,
   "metadata": {
    "dotnet_interactive": {
     "language": "csharp"
    }
   },
   "outputs": [],
   "source": [
    "var gp = PlotTable.ToGnuplot();\n",
    "gp.PlotSVG(xRes:1000,yRes:1000)"
   ]
  },
  {
   "cell_type": "code",
   "execution_count": null,
   "metadata": {
    "dotnet_interactive": {
     "language": "csharp"
    }
   },
   "outputs": [],
   "source": [
    "int cnt = 0;\n",
    "foreach(var reg in RegressionS){\n",
    "    Console.WriteLine(varNames[cnt]);\n",
    "    var regB = reg.ToArray();\n",
    "    for(int j = 0; j < regB.Length; j++){       \n",
    "        int dgDeg = ( regB[j].Key).Last() - '0';\n",
    "        Console.Write(\"DG degree: \"+ dgDeg+ \" \\t\");\n",
    "        double slope = regB[j].Value;\n",
    "        Console.Write(\"Slope: \" +slope + \"\\t\");\n",
    "\n",
    "        if((slope - (dgDeg + 1) ) >= -0.2)\n",
    "        Console.WriteLine(\"Expected slope archieved\");\n",
    "        else\n",
    "        Console.WriteLine(\"The slope value is too low\");\n",
    "    }\n",
    "    cnt++;\n",
    "}\n"
   ]
  },
  {
   "cell_type": "code",
   "execution_count": null,
   "metadata": {
    "dotnet_interactive": {
     "language": "csharp"
    }
   },
   "outputs": [],
   "source": []
  },
  {
   "cell_type": "code",
   "execution_count": null,
   "metadata": {
    "dotnet_interactive": {
     "language": "csharp"
    }
   },
   "outputs": [],
   "source": []
  }
 ],
 "metadata": {
  "interpreter": {
   "hash": "5a4c2b90e762e735d09b118f9f9cec0074c9c9a762110f7a987def15c668bc0d"
  },
  "kernelspec": {
   "display_name": ".NET (C#)",
   "language": "C#",
   "name": ".net-csharp"
  },
  "language_info": {
   "file_extension": ".cs",
   "mimetype": "text/x-csharp",
   "name": "C#",
   "pygments_lexer": "csharp",
   "version": "8.0"
  }
 },
 "nbformat": 4,
 "nbformat_minor": 4
}
